COGS 108 - Project Proposal
Names & PID
Name: Duc Le
PID: A15655460
Research Question
Could a restaurant’s cleanliness be determined by how often their employees commute?
Background and Prior Work
Fill in your background and prior work here. Be sure to specify which statements are from which references.
 
After reading Emma Davie’s article on why people should not commute during the Covid-19 crisis, the main takeaway I got was that the more you commute, even if by yourself, the more you put yourself in danger of contracting the virus. However, the contraction occurs in a way that most people think. By commuting, you have a higher chance of getting into a car accident, which ultimately leads to you coming in contact with the other person/people in the accident, and the health care workers who will come to the scene. As a result, it can be concluded that the more you commute, the more you put yourself at risk of contracting Covid-19 compared to staying at home or a certain location.
From the second article I read, which discusses the changes to commute levels across the globe, two points stood out to me. The countries that have the lowest decrease in commute activities were the ones who successfully contained the spread of the Covid-19, whereas the countries that have the highest decrease in commute activities are the ones who are impacted by Covid-19 the most. Again, this contributes to the possible relationship between the probability of contracting Covid-19 and commute activity. According to Iman Ghosh, Vienna and Libson experienced a harsh spike in their Covid-19 population, which is why the city emphasized their people to commute less and quarantine. Whereas Singapore, who did a fantastic job of containing the spread, experienced the lowest decrease in commute activity. 
References (include links):
1)https://www.visualcapitalist.com/covid-19-cities-commuter-activity/
2)https://www.msn.com/en-ca/news/canada/why-you-shouldnt-go-for-a-drive-during-the-covid-19-pandemic/ar-BB12hg0d
 
Hypothesis
When it comes to a restaurants’ cleanliness, it can be determined by the amount of commute activity that their employees engage in daily. The reason as to why it can be determined is that the risk of contracting diseases, not just Covid-19, is higher when you commute since you’re placing yourself in a position of interacting with other people. 
Data
Explain what the ideal dataset you would want to answer this question. (This should include: What variables? How many observations? Who/what/how would these data be collected? How would these data be stored/organized?)
 
What variables would you have?
The variables that I have in mind, as of now, are a 
Control group of participants: Workers who simply commute from work and back to their home
Experimental group: Workers who commute to multiple locations that are not their home nor the restaurant they work at. 
Dependent Variable: Percentage of workers who have Covid-19
Independent Variable: Levels of commute activity 
How would they be stored? How many observations would you have?
(I'm not sure what these two questions are asking, so I’ll try my best to answer it)
I would store the data in spreadsheets that are separated by the correct placement into rows and columns.
What/who would the observations be? etc.)
I will be observing the restaurant workers’ commute activity ONLY
Ethics & Privacy
Fill in your ethics & privacy discussion here

The biggest issue with a research experiment like this would be an invasion of privacy. Some people do not want their daily activities, such as where they commute to or how often they do so, to be revealed to others. In addition, this research experiment will require data on which restaurant workers are diagnosed with Covid-19 or any form of diseases. To combat this challenge, my proposed solution would be to FIRST receive the permission of the restaurant workers to provide their data and participation in the experiment. In addition, it’s important to allow the restaurant workers to remain anonymous when providing their information. Even though they are giving away their commute activities and health, they do not have to reveal their identity, so the big data pool I have at the end, I cannot use it to weed out a certain individual since all the information is provided anonymously. 
