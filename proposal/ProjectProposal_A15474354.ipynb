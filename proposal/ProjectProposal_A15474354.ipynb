{
 "cells": [
  {
   "cell_type": "markdown",
   "metadata": {},
   "source": [
    "# COGS 108 - Project Proposal"
   ]
  },
  {
   "cell_type": "markdown",
   "metadata": {},
   "source": [
    "# Names & PID\n",
    "\n",
    "- Name: Lechuan Wang\n",
    "- PID: A15474354"
   ]
  },
  {
   "cell_type": "markdown",
   "metadata": {},
   "source": [
    "# Research Question"
   ]
  },
  {
   "cell_type": "markdown",
   "metadata": {},
   "source": [
    "*What is the relationship between dispersion of disease and the cleanness of utensils in Beijing, China?*"
   ]
  },
  {
   "cell_type": "markdown",
   "metadata": {},
   "source": [
    "## Background and Prior Work"
   ]
  },
  {
   "cell_type": "markdown",
   "metadata": {},
   "source": [
    "*From reference one, it tells me that contaminated utensils may contain Helicobacter pylori and cause Hepatitis A.\n",
    "Refernece two tells me public tableware may cause epidemic and different types of diseases.* \n",
    "\n",
    "References (include links):\n",
    "- 1) https://www.zhihu.com/question/266553847\n",
    "- 2) http://mp.163.com/v2/article/detail/D64S3M3D0514KRB4.html"
   ]
  },
  {
   "cell_type": "markdown",
   "metadata": {},
   "source": [
    "# Hypothesis\n"
   ]
  },
  {
   "cell_type": "markdown",
   "metadata": {},
   "source": [
    "*Dirty utensils are associated with the spread of illness.*"
   ]
  },
  {
   "cell_type": "markdown",
   "metadata": {},
   "source": [
    "# Data"
   ]
  },
  {
   "cell_type": "markdown",
   "metadata": {},
   "source": [
    "*A proper data set might contain sample Beijing individual statistic with a range of certain stomach disease or epidemic and the frequency of eating in a restaurant. It might have a boolean input testing whether they think they use dirty utensils. Also, it should include age, sex and the specific disease included in the range. *"
   ]
  },
  {
   "cell_type": "markdown",
   "metadata": {},
   "source": [
    "# Ethics & Privacy"
   ]
  },
  {
   "cell_type": "markdown",
   "metadata": {},
   "source": [
    "*I will drop all the identifiers or use data without identifiers in existing data to protect the privacy. Also, I will take age and sex into account to make sure the population is not biased. There is one possible bias that older people are more likely to have health issues. So I will try to use age over a threshold as a negative term in finding the correlation. If a people has missing disease or frequency of dining out, I will delete the corresponding row because that is the key relationship I am looking for. I think this model might not experience unintended use since it does not provide info about specific population or individuals.*"
   ]
  },
  {
   "cell_type": "code",
   "execution_count": null,
   "metadata": {},
   "outputs": [],
   "source": []
  }
 ],
 "metadata": {
  "kernelspec": {
   "display_name": "Python 3",
   "language": "python",
   "name": "python3"
  },
  "language_info": {
   "codemirror_mode": {
    "name": "ipython",
    "version": 3
   },
   "file_extension": ".py",
   "mimetype": "text/x-python",
   "name": "python",
   "nbconvert_exporter": "python",
   "pygments_lexer": "ipython3",
   "version": "3.6.7"
  }
 },
 "nbformat": 4,
 "nbformat_minor": 2
}
