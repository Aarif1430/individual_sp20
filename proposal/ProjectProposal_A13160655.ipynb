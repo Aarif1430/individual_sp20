{
 "cells": [
  {
   "cell_type": "markdown",
   "metadata": {},
   "source": [
    "# COGS 108 - Project Proposal"
   ]
  },
  {
   "cell_type": "markdown",
   "metadata": {},
   "source": [
    "# Names & PID\n",
    "\n",
    "- Name: Samuel Givens\n",
    "- PID: A13160655"
   ]
  },
  {
   "cell_type": "markdown",
   "metadata": {},
   "source": [
    "# Research Question"
   ]
  },
  {
   "cell_type": "markdown",
   "metadata": {},
   "source": [
    "In San Diego County, Are certain types of businesses more likely to commit a violation? Specifically, is there a correlation between the number of locations a restaurant has and the number of health violations found by inspectors?\n",
    "\n",
    "Other categories of interest, for future study, may include: \n",
    "- Establishments that serve alcohol versus those that do not\n",
    "- Average entree price\n",
    "- Time since last inspection"
   ]
  },
  {
   "cell_type": "markdown",
   "metadata": {},
   "source": [
    "## Background and Prior Work"
   ]
  },
  {
   "cell_type": "markdown",
   "metadata": {},
   "source": [
    "There are approximately 14,000 retail food establishments in San Diego County. Random, unannounced health inspections are conducted regularly by the San Diego County Department of Environmental Health. Food facilities are scored out of 100, and there are 3 categories of violations: Major Risk Factors, Minor Risk Factors, and Good Retail Practices. For every Major Risk Factor, 4 points are deducted from the score. Similarly, 2 points are deducted for Minor Risk Factors and 1 point for every Good Retail Practice that is not followed. A score of 90 or above receives an \"A\" grade, 80-89 receives a \"B\", and anything below 80 receives a failing grade of \"C\". [1]\n",
    "\n",
    "The effectiveness of health inspections has come into question. In one study of health inspection scores conducted in Tennesee, researchers revealed inconsistencies in the way that different inspectors scored restaurants, suggesting that biases could come into play in the inspection process [3]. NBC 7 found that 99% of San Diego restaurants received an \"A\" grade between 2014 and 2017, suggesting that the county may be too lenient in its grading system [4]. \n",
    "\n",
    "References (include links):\n",
    "- 1) https://www.sandiegocounty.gov/content/sdc/deh/fhd/ffis/intro.html.html\n",
    "- 2) https://www.sdfoodinfo.org/restaurant.html\n",
    "- 3) https://www.ncbi.nlm.nih.gov/pmc/articles/PMC3323064/\n",
    "- 4) https://www.nbcsandiego.com/news/local/99-of-san-diego-restaurants-earn-a-grades-bringing-usefulness-of-system-into-question/25381/"
   ]
  },
  {
   "cell_type": "markdown",
   "metadata": {},
   "source": [
    "# Hypothesis\n"
   ]
  },
  {
   "cell_type": "markdown",
   "metadata": {},
   "source": [
    "My hypothesis is that regional chain restaurants (defined as those that have more than one location, but do not operate across state lines) will generally have lower health inspection scores and a higher number of violations than individual restaurants and large chain restaurants. They may not have the same infrastructure as larger chain restaurants, but are still operating across multiple locations."
   ]
  },
  {
   "cell_type": "markdown",
   "metadata": {},
   "source": [
    "# Data"
   ]
  },
  {
   "cell_type": "markdown",
   "metadata": {},
   "source": [
    "\n",
    "\n",
    "The ideal dataset would contain: the restaurant's name, number of locations, whether or not the restaurant operates in multiple states, the health inspection records (percent score and list of violations, each violation indicating whether it was major, minor, or a good practice) This would be collected for all restaurants in San Diego."
   ]
  },
  {
   "cell_type": "markdown",
   "metadata": {},
   "source": [
    "# Ethics & Privacy"
   ]
  },
  {
   "cell_type": "markdown",
   "metadata": {},
   "source": [
    "Under California state law, every restaurant must have a copy of their most recent health inspection report available on-site for those who wish to review it. More extensive information is available online through www.sdfoodinfo.org, www.sandiegocounty.gov, or by submitting a public records request through the Food and Housing Division of the County of San Diego Department of Environmental Health.\n",
    "\n",
    "The function of this study is not to call attention to individual restaurants that may or may not be meeting health and safety standards. The goal is to better inform county health officials so that they may put in place policies and programs that equitably increase the quality of food safety. This may involve providing more support for organizations that have a harder time complying with regulations."
   ]
  },
  {
   "cell_type": "code",
   "execution_count": null,
   "metadata": {},
   "outputs": [],
   "source": []
  }
 ],
 "metadata": {
  "kernelspec": {
   "display_name": "Python 3",
   "language": "python",
   "name": "python3"
  },
  "language_info": {
   "codemirror_mode": {
    "name": "ipython",
    "version": 3
   },
   "file_extension": ".py",
   "mimetype": "text/x-python",
   "name": "python",
   "nbconvert_exporter": "python",
   "pygments_lexer": "ipython3",
   "version": "3.6.7"
  }
 },
 "nbformat": 4,
 "nbformat_minor": 2
}
