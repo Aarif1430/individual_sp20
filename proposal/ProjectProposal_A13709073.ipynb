{
 "cells": [
  {
   "cell_type": "markdown",
   "metadata": {},
   "source": [
    "# COGS 108 - Project Proposal"
   ]
  },
  {
   "cell_type": "markdown",
   "metadata": {},
   "source": [
    "# Names & PID\n",
    "\n",
    "- Name: Emmanuel Ejanda\n",
    "- PID: A13709073"
   ]
  },
  {
   "cell_type": "markdown",
   "metadata": {},
   "source": [
    "# Research Question"
   ]
  },
  {
   "cell_type": "markdown",
   "metadata": {},
   "source": [
    "-What item and/or action is often overlooked when it comes to restaurant health inspection?\n",
    "\n",
    "-What are the common cases for a restaurant to drop in health letter grade/ fail a health inspection?"
   ]
  },
  {
   "cell_type": "markdown",
   "metadata": {},
   "source": [
    "## Background and Prior Work"
   ]
  },
  {
   "cell_type": "markdown",
   "metadata": {},
   "source": [
    "-Most common health code violations would include food safety temperature neglect, improper food storage, poor personal hygiene, poor kitchen sanitation, and cross contamination (Reference 1)\n",
    "\n",
    "-After searching for a checklist on what to look out for during a health inspection, one such checklist was found for the county of san diego: Department of environmental health (Reference 2)\n",
    "\n",
    "-Another Checklist available from the county of Los Angeles was found with similar checks but also marks what is a high risk and what is a low risk (Reference 3)\n",
    "\n",
    "References (include links):\n",
    "- 1) \n",
    "https://www.webstaurantstore.com/article/16/health-inspection-checklist.html\n",
    "\n",
    "- 2) https://www.sandiegocounty.gov/content/dam/sdc/deh/fhd/food/pdf/publications_foodselfinspection.pdf\n",
    "\n",
    "- 3)\n",
    "http://www.publichealth.lacounty.gov/EH/docs/RefGuideFoodInspectionReport.pdf"
   ]
  },
  {
   "cell_type": "markdown",
   "metadata": {},
   "source": [
    "# Hypothesis\n"
   ]
  },
  {
   "cell_type": "markdown",
   "metadata": {},
   "source": [
    "Hypothesis: *The most common mistake/ error during health inspection causes a decrease in food regulation compliance letter grade.*\n",
    "\n",
    "Why?: Knowing this could give an opportunity to spread information to other restaurants and increase health and safety regulations while also improving restaurant health inspection processes."
   ]
  },
  {
   "cell_type": "markdown",
   "metadata": {},
   "source": [
    "# Data"
   ]
  },
  {
   "cell_type": "markdown",
   "metadata": {},
   "source": [
    "An ideal dataset to answer this question would be one that includes a resterant's inspection checklist results (food safety items, temperature control items, etc.), their letter grade received for the inspection, and the date the inspection was made. Ideally, we would want around 250 observations from restaurants to sample from the population of a single county (san diego, los angeles, etc.) as we are improving the health inspection process for the city government, not state. These data would ideally be collected from departments of public health and food safety branches holding information of health inspections. These data would, again, be ideally stored in an easy to read table format that has a restaurants placeholder id (to hide identity) and their associating variables across the row."
   ]
  },
  {
   "cell_type": "markdown",
   "metadata": {},
   "source": [
    "# Ethics & Privacy"
   ]
  },
  {
   "cell_type": "markdown",
   "metadata": {},
   "source": [
    "Certain privacy issues that must be dealt with would have to be the names/locations of restaurants should they appear in the dataset. We would need to remove these pieces of information as they are not relevant to the question we are trying to answer, as well as the information could potentially lead to unforseen consequences should we examine one such restaurant with less than adequate health results.\n",
    "\n",
    "Another issue that may potentially be found in the data that we find is that it may only contain data that speaks of only errors found within restaurants while restaurants with perfect / no violations are kept out of the records due to not needing to be recorded. In which case, we must find and search for datasets that include both ends of the spectrum for health inspections; Those that meet standard requirements and those that do not meet certain requirements when it comes to inspections."
   ]
  }
 ],
 "metadata": {
  "kernelspec": {
   "display_name": "Python 3",
   "language": "python",
   "name": "python3"
  },
  "language_info": {
   "codemirror_mode": {
    "name": "ipython",
    "version": 3
   },
   "file_extension": ".py",
   "mimetype": "text/x-python",
   "name": "python",
   "nbconvert_exporter": "python",
   "pygments_lexer": "ipython3",
   "version": "3.7.6"
  }
 },
 "nbformat": 4,
 "nbformat_minor": 2
}
