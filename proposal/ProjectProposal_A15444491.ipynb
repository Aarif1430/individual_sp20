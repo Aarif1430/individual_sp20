{
 "cells": [
  {
   "cell_type": "markdown",
   "metadata": {},
   "source": [
    "# COGS 108 - Project Proposal"
   ]
  },
  {
   "cell_type": "markdown",
   "metadata": {},
   "source": [
    "# Names & PID\n",
    "\n",
    "- Name: Michele Murakami\n",
    "- PID: A15444491"
   ]
  },
  {
   "cell_type": "markdown",
   "metadata": {},
   "source": [
    "# Research Question"
   ]
  },
  {
   "cell_type": "markdown",
   "metadata": {},
   "source": [
    "Does frequency of health inspections correlate with a higher score on health inspections and less reported cases of food related sicknesses for restaurants in the San Diego County? "
   ]
  },
  {
   "cell_type": "markdown",
   "metadata": {},
   "source": [
    "## Background and Prior Work"
   ]
  },
  {
   "cell_type": "markdown",
   "metadata": {},
   "source": [
    "Restaurants are required to have routine inspections to ensure they are complying with the state and local law. Grading systems differ across different counties. The San Diego County uses a letter grade system where restaurants get points subtracted from 100 based off the importance and number of health violations. A score of 90-100 receive an A, 80-89 a B, and a failing grade is a C, or 70-79 (San Diego County). Restaurants with violations are given time to correct it to receive a higher score.\n",
    "\n",
    "Although, I couldn't find a study done on specifically San Diego County's health inspection, I found a study that analyzed data on restaurant inspection in Tennessee. The study found that the mean score for health inspections were not very different between scores inspected less than 180 days(mean of 81.7), more than 180 days(82.7), within 200 days(81.9), and more than 270 days(83.7) (NCBI).\n",
    "\n",
    "Although this study suggests there might not be much of a correlation between frequency of health inspection and the mean scores, some argue that even up to 8 inspections per year is not enough to decide whether or not a restaurant is safe to eat at (Kaplan). There seems to be some debate whether or not increased frequency of restaurant inspections affect the score and/or actually limit the number of cases of food related illnesses.     \n",
    "\n",
    "References (include links):\n",
    "- 1)https://www.ncbi.nlm.nih.gov/pmc/articles/PMC3323064/\n",
    "- 2)https://www.sandiegocounty.gov/content/sdc/deh/fhd/ffis/intro.html.html\n",
    "- 3)https://www.ncbi.nlm.nih.gov/pmc/articles/PMC1653977/pdf/amjph00470-0050.pdf"
   ]
  },
  {
   "cell_type": "markdown",
   "metadata": {},
   "source": [
    "# Hypothesis\n"
   ]
  },
  {
   "cell_type": "markdown",
   "metadata": {},
   "source": [
    "Restaurants with more frequent health inspections will have higher scores and less cases of food related sicknesses. Frequent routine check ups motivate restaurants to make sure they are compliant with their city's health inspection standards. "
   ]
  },
  {
   "cell_type": "markdown",
   "metadata": {},
   "source": [
    "# Data"
   ]
  },
  {
   "cell_type": "markdown",
   "metadata": {},
   "source": [
    "The ideal dataset would include a list of all the restaurants inspected in the San Diego County within the past three years. I only want to focus on the restaurants in one county because different cities and counties use different scoring systems for health inspections, so it would be difficult to keep track of each counties health inspection policies. I would want the restaurants score out of 100 and grade for the most recent inspections as well as the scores they recieved from the past three years. I would also want the number of times each restaurant was inspected in the last three years. I would want the top five major health violations for San Diego County, and for each restaurant,  the number of cases of those reported health violations. I would want the number of cases of reported sicknesses from food from the restaurant. Ideally, all the data would already be in a CSV file. I would want to include all the restaurants in the San Diego County that were inspected. Although I am not certain on how many that is, it is around 10,000 because according to the San Diego County website, around 14,000 food establishments are inspected. I would also want to look at customer reviews online of reported food safety concerns."
   ]
  },
  {
   "cell_type": "markdown",
   "metadata": {},
   "source": [
    "# Ethics & Privacy"
   ]
  },
  {
   "cell_type": "markdown",
   "metadata": {},
   "source": [
    "There probably would not be a problem in terms of privacy in getting the data on a restaurants number of inspections in the past few years, the violations from the inspections, and the score/grade because all of the information is public record and directly on the SD Food Info site. For reported cases of related food illnesses or health concerns, I would want to keep the names of the people reporting the health concern anonymous to not reveal information about the person.  \n",
    "\n",
    "One possible unintended consequence could be emphasizing negative qualities of an individual restaurant. Even though the data concerning the cleanliness and safety of a restaurant is already public record, the data could highlight health violations of several restaurants. But this consequence may be unavoidable considering the research questions seeks to understand health inspection scores and food safety.\n",
    "\n",
    "In terms of accuracy of the data, it is important to note that there has been criticism of the San Diego health inspection system because 99% of San Diego restaurants earn an A grade (https://www.nbcsandiego.com/news/local/99-of-san-diego-restaurants-earn-a-grades-bringing-usefulness-of-system-into-question/25381/). This could be a potential problem in answering the research question because a high health inspection score may not be a good indication of food safety. This means that I need to look at other sources besides the San Diego County for info about food safety concerns, like online reviews. "
   ]
  },
  {
   "cell_type": "code",
   "execution_count": null,
   "metadata": {},
   "outputs": [],
   "source": []
  }
 ],
 "metadata": {
  "kernelspec": {
   "display_name": "Python 3",
   "language": "python",
   "name": "python3"
  },
  "language_info": {
   "codemirror_mode": {
    "name": "ipython",
    "version": 3
   },
   "file_extension": ".py",
   "mimetype": "text/x-python",
   "name": "python",
   "nbconvert_exporter": "python",
   "pygments_lexer": "ipython3",
   "version": "3.6.7"
  }
 },
 "nbformat": 4,
 "nbformat_minor": 2
}
