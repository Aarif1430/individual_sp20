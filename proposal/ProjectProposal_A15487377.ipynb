{
 "cells": [
  {
   "cell_type": "markdown",
   "metadata": {},
   "source": [
    "# COGS 108 - Project Proposal"
   ]
  },
  {
   "cell_type": "markdown",
   "metadata": {},
   "source": [
    "# Names & PID\n",
    "\n",
    "- Name: Kevin Dong\n",
    "- PID: A15487377"
   ]
  },
  {
   "cell_type": "markdown",
   "metadata": {},
   "source": [
    "# Research Question"
   ]
  },
  {
   "cell_type": "markdown",
   "metadata": {},
   "source": [
    "Can government agencies use online food reviews as an indicator for a restuarant's actual inspection grade? \n"
    "Could this process make it so that agencies give more accurate inspections? \n"
   ]
  },
  {
   "cell_type": "markdown",
   "metadata": {},
   "source": [
    "## Background and Prior Work"
   ]
  },
  {
   "cell_type": "markdown",
   "metadata": {},
   "source": [
    "Based on the federal website for health inspections in the United States titled “Understanding Food Establishment Inspections”, federal food inspection agencies separate many establishments into different categories: restaurants, bakeries, catering services, etc are considered different establishments. They are also further divided by risk categories ranging from 5 to 1, with a 5 being high risk and a 1 being low risk. The risk is typically correlated to how much raw ingredients an established is expected to handle. Then routine unannounced inspections are given based on the risk category of an establishment. During the inspection, restaurants will be rated on their handling of health hazards, risk factors, equipment are assessed. Important topics such as sanitation and minimum required temperature are also all recorded and checked. Any violation will be written down and the establishment will be given an opportunity to fix their violations, with the amount of time given varying based on the severity of the violation.

Despite food inspection being routine work and having hundreds of thousands of restaurants being reviewed yearly, there are still many cases of outbreaks, food poisoning, and illness that come from poorly prepared food.

From Carmen Nobel’s article, “A Simple Way for Restaurant Inspectors to Increase Food Safety”, research has shown that 48 million Americans still get sick, 128,000 have to go to the hospital, and 3,000 die from food related illnesses. This means that despite the meticulous work that health inspectors are doing right now, there are still issues that they cannot prevent or violations that they cannot catch.

From Maria R. Ibanez’s and Michael W. Toffel’s article, “To Improve Food Inspections, Change the Way They’re Scheduled”, they have found that health inspectors do carry biases as they do their job. Since they are only human, it has been shown that health inspectors are more likely to pass a restaurant that clearly has faults the more restaurants they have already inspected. This comes from the fatigue that builds up as they go along their workday. In other words, the restaurants that are reviewed first are generally given accurate reviews whereas those reviewed later on in the day are given higher reviews than they should generally have. This is an issue because it exposes everyone who goes to those restaurants that have been reviewed later to foodborne illnesses.

Prior research has been done by Jun Seok Kang, Yejin Choi, Polina Kuznetsova, and Michael Luca on using text analysis on reviews to judge a restaurant’s health rating. They wanted to see if online reviews on restaurants without a health inspection grade can predict their grades. They scraped various reviews on Yelp from over a span of 7 years from 2006 to 2013. They found out that a restaurant’s grade is accurately reflected by reviews if they removed biased factors such as hired reviewers. In addition, key points of grading such as hygiene, service, and description of foods often give clues as to whether a review will be positive or negative. Overall they concluded that scraping reviews is a viable method of scoping out a restaurant’s grade.
\n",
    "\n",
    "References (include links):\n",
    "- 1) Ibanez, Maria R., and Michael W. Toffel. “To Improve Food Inspections, Change the Way They're Scheduled.” Harvard Business Review, 16 May 2019, hbr.org/2019/05/to-improve-food-inspections-change-the-way-theyre-scheduled.\n",
    "- 2)Kang, Jun Seok, et al. “Using Text Analysis to Target Government Inspections: Evidence from Restaurant Hygiene Inspections and Online Reviews.” Semantic Scholar, Elseviewer, 13 July 2013, www.semanticscholar.org/paper/Using-Text-Analysis-to-Target-Government-Evidence-Kang-Kuznetsova/9d9e2d6b1c1d2265d6d8e95e8f6f0cc64258fe9f#references.\n",
    "- 3)Nobel, Carmen. “A Simple Way for Restaurant Inspectors to Improve Food Safety.” HBS Working Knowledge, Harvard Business School, 9 May 2018, hbswk.hbs.edu/item/a-simple-way-for-restaurant-inspectors-to-improve-food-safety. \n",
    "- 4)“Understanding Food Establishment Inspections.” Understanding Food Establishment Inspections, DC Health, dchealth.dc.gov/service/understanding-food-establishment-inspections.\n"
   ]
  },
  {
   "cell_type": "markdown",
   "metadata": {},
   "source": [
    "# Hypothesis\n"
   ]
  },
  {
   "cell_type": "markdown",
   "metadata": {},
   "source": [
    "I do not believe that reviews can be as thorough as an actual inspector going to and doing an all rounds inspection. This is because reviewers can often be biased or picky about certain aspects of a restaurant which may cause them to write reviews that reflect their subjective feelings rather than an objective perspective.\n*"
   ]
  },
  {
   "cell_type": "markdown",
   "metadata": {},
   "source": [
    "# Data"
   ]
  },
  {
   "cell_type": "markdown",
   "metadata": {},
   "source": [
    "	Observations: Reviewer, Reviewer Rating, Sentiments, Actual Rating
	Reviewer would be the a unique ID given to a reviewer to mask their identity.
	Reviewer rating is whatever rating the website allows for reviews: stars, numbers, etc.
	Sentiments would be highlights of strongly emotional words or words connected to hygiene such as “best place ever,” “would not recommend”, or “extremely dirty”.
	Actual rating is what an inspector gave the restaurant.
	Ideally the reviews would be scraped from reviews sites such as Yelp. Then actual data from government agencies is also collected either manually or electronically. These data would be stored in a table where the observations go in rows and the variables go in columns. The sentiments column would then be condensed and a rating will be generated. This could then be compared to the actual rating given by inspectors.
\n"
   ]
  },
  {
   "cell_type": "markdown",
   "metadata": {},
   "source": [
    "# Ethics & Privacy"
   ]
  },
  {
   "cell_type": "markdown",
   "metadata": {},
   "source": [
    "The Question
I personally do not know enough information about this topic, so I pulled research from experts about why food inspectors are giving the grades they give and to see if anyone has done a project on a similar question. I found that four students from Harvard Business School had the same question and did prior research and will try to incorporate their findings in my own data gathering and analysis. As they have done something similar, I believe that my questions are answerable.

The Data
	Naturally there will be people who will be prejudiced against certain types of establishments. Assuming that the scraping algorithm is perfect, it would toss reviews that show prejudice by trying to detect racial slurs. There will also be reviews that have ratings but have no comments to go with why they chose the rating. It would be hard to get a sentiment out of those reviews so those reviews will be excluded from the final analysis.

Informed Consent
	If possible, in a perfect world, the websites that host those reviews will have agreed to the web scraping and will send emails to the users whose reviews have been used as data. The email will contain the documentation about use of their review and give users the option to allow the use of their reviews. Users who do not respond to the emails or respond with “No” will have their reviews excluded from the database.

The Implications/Unintended Consequences
	People may flood certain restaurants with false reviews in order to throw the algorithm off and to purposefully lower or raise the health inspection score. This can greatly harm certain restaurants who really need the support from the local community and I will make sure that the data cleaning portion will correctly dispose of false reviews.

Privacy
	No one is at risk of losing their privacy because reviewer names will be tossed. No identifying information such as height, age, gender, location, etc are not gathered. Only the reviews themselves are collected and analyzed.

Evaluation Analysis
	I will deem the evaluation as a success no matter the outcome since there are only two: yes, online reviews can be used in place of actual inspections; or no, online reviews cannot replace in person inspections. In both cases, valuable information about restaurant health grades and their customers will be used to better understand the need for health inspections.

	In addition, restaurants that have sentiments that are overwhelmingly negative or contain topics about hygiene are a good indicator as to what certain restaurants need to work on in order to achieve a better health inspection score or even to keep running as an establishment.

Transparency and Appeal
	The algorithm will scan reviews for key topics such as Hygiene, Service, and Food Presentation/Preparedness. Then inside those categories will be ratings such as “slightly positive”, “slightly negative”, “negative”, or “positive”. Key words will be associated with those ratings and a tally will be kept for each restaurant who gets a review with that type of sentiment. This will then generate an overall health inspection score based on how the actual process is done.

	Naturally filters will be put in place to discount reviews that also contain prejudice against certain types of establishments so that their bad reviews cannot artificially lower a rating.

Continuous Monitoring
	Naturally as time goes by more people will have given reviews about certain restaurants. This model will also scrape recents and update the corresponding grade for restaurants that have gotten their grades raised or lowered. This way no one restaurant will be advantaged or disadvantaged by a static grade. \n"
   ]
  }
 ],
 "metadata": {
  "kernelspec": {
   "display_name": "Python 3",
   "language": "python",
   "name": "python3"
  },
  "language_info": {
   "codemirror_mode": {
    "name": "ipython",
    "version": 3
   },
   "file_extension": ".py",
   "mimetype": "text/x-python",
   "name": "python",
   "nbconvert_exporter": "python",
   "pygments_lexer": "ipython3",
   "version": "3.7.0"
  }
 },
 "nbformat": 4,
 "nbformat_minor": 2
}
