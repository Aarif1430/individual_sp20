{
 "cells": [
  {
   "cell_type": "markdown",
   "metadata": {},
   "source": [
    "# COGS 108 - Project Proposal"
   ]
  },
  {
   "cell_type": "markdown",
   "metadata": {},
   "source": [
    "# Names & PID\n",
    "\n",
    "- Name: Isaac Delly\n",
    "- PID: A15681511"
   ]
  },
  {
   "cell_type": "markdown",
   "metadata": {},
   "source": [
    "# Research Question"
   ]
  },
  {
   "cell_type": "markdown",
   "metadata": {},
   "source": [
    "How does the average health inspection rating of food trucks compare to brick-and-mortar restaurants?"
   ]
  },
  {
   "cell_type": "markdown",
   "metadata": {},
   "source": [
    "## Background and Prior Work"
   ]
  },
  {
   "cell_type": "markdown",
   "metadata": {},
   "source": [
    "References (include links):\n",
    "- 1) <a href=\"https://www.latimes.com/local/california/la-me-food-trucks-20160518-snap-story.html\">LA Times, The dark side of trendy food trucks: A poor health safety record</a>\n",
    "<br/><br/>\n",
    "This article analyzes my exact research question on the average health inspection rating of food trucks compared to brick-and-mortar restaurants. Because it was written by the LA Times, it focuses solely on Los Angeles restaurants and food trucks. It utilizes data from the Los Angeles Country Department of Public Heatlh to prove that food trucks average a significantly larger number of B and C ratings compared to the traditional restaurant's more A-heavy scores. The article covers statistics on food truck sanitation and health inspection grades, while also diving deep on how health inspections work.\n",
    "<br/><br/>\n",
    "- 2) <a href=\"https://ij.org/wp-content/uploads/2015/03/street-eats-safe-eats.pdf\">Institute for Justice, Street eats, safe eats</a>\n",
    "<br/><br/>\n",
    "This PDF is a health inspection report written by the Institute for Justice, a civil rights organization. This report draws from government data from major cities such as Las Vegas, Los Angeles, Seattle, and Washington D.C. and generates a comparasion between the health inspection scores of food trucks compared to brick-and-mortar restaurants. It uses these data sources to claim that food trucks are as clean, or cleaner than traditional restaurants because of the excessive pressure that the negative stereotype presses on them. The report also provides graphs to plot the difference in health inspection grading to deduce that food trucks are better graded on average with fewer violations."
   ]
  },
  {
   "cell_type": "markdown",
   "metadata": {},
   "source": [
    "# Hypothesis\n"
   ]
  },
  {
   "cell_type": "markdown",
   "metadata": {},
   "source": [
    "I believe food trucks have worse average health inspection grade compared to traditional restaurants. Food trucks have less room, are cheaper to operate, and are more trendy and short term compared to restaurants, and I beleive tehse reasons cause food trucks to have poorer average health inspection grades."
   ]
  },
  {
   "cell_type": "markdown",
   "metadata": {},
   "source": [
    "# Data"
   ]
  },
  {
   "cell_type": "markdown",
   "metadata": {},
   "source": [
    "- What variables?\n",
    "<br/>\n",
    "The dataset would include columns of {location, business name, business type (food truck or restaurant), current health inspection grade, average of all previous health inspection grades}\n",
    "<br/><br/>\n",
    "- How many observations?\n",
    "<br/>\n",
    "In an attempt to adequately represent the population we are drawing from, we would want more than 250,000 observations. This seems like a large enough pool size such that the population mean would adequately represent the population mean.\n",
    "<br/><br/>\n",
    "- Who/what/how would these data be collected?\n",
    "<br/>\n",
    "The health department should collect this data as they distribute health inspection grades. The health inspector would have access to all this data as they are conducting their inspection, and they should be the one to collect and aggregate the data.\n",
    "<br/><br/>\n",
    "- How would these data be stored/organized?\n",
    "<br/>\n",
    "This data should be stored in a database with the variable names described earlier. This way the data will be available offline and every occurance is organized into rows."
   ]
  },
  {
   "cell_type": "markdown",
   "metadata": {},
   "source": [
    "# Ethics & Privacy"
   ]
  },
  {
   "cell_type": "markdown",
   "metadata": {},
   "source": [
    "Possible ethics and privacy violations include publicizing poor health inspection grades to a greater pool of people who would have otherwise not known. Biased results also possible, because some locations may have more restaurants than food trucks, resulting in a more volatile average health grade for food trucks compared to restaurants.\n",
    "\n",
    "We could solve these issues by first anonymizing the data collected, such that the restaurant name is not public in the report. Instead we could give a unique restaurant ID to take the place. For the second issue we can perform a weighted average or some other mathematical formula that produces a less volatile result to counteract the flucuation."
   ]
  }
 ],
 "metadata": {
  "kernelspec": {
   "display_name": "Python 3",
   "language": "python",
   "name": "python3"
  },
  "language_info": {
   "codemirror_mode": {
    "name": "ipython",
    "version": 3
   },
   "file_extension": ".py",
   "mimetype": "text/x-python",
   "name": "python",
   "nbconvert_exporter": "python",
   "pygments_lexer": "ipython3",
   "version": "3.6.7"
  }
 },
 "nbformat": 4,
 "nbformat_minor": 2
}
