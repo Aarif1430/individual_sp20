{
 "cells": [
  {
   "cell_type": "markdown",
   "metadata": {},
   "source": [
    "# COGS 108 - Project Proposal"
   ]
  },
  {
   "cell_type": "markdown",
   "metadata": {},
   "source": [
    "# Names & PID\n",
    "\n",
    "- Name: Parth Shah\n",
    "- PID: A14071974"
   ]
  },
  {
   "cell_type": "markdown",
   "metadata": {},
   "source": [
    "# Research Question"
   ]
  },
  {
   "cell_type": "markdown",
   "metadata": {},
   "source": [
    "Does the time of day in which a health inspection is completed affect the rating the restaurant is given? "
   ]
  },
  {
   "cell_type": "markdown",
   "metadata": {},
   "source": [
    "## Background and Prior Work"
   ]
  },
  {
   "cell_type": "markdown",
   "metadata": {},
   "source": [
    "Health inspections in San diego County are carried out by Registered Environmental Health Specialists and their ratings are decided using the following system: every restaurant starts with 100 points and loses 4 points for every major risk factor, 2 points for every minor risk factor, and 1 point for every missing good retail practice. A grade is then given based on the points remaining after the inspection is complete with 90+ = A, 80-90 = B, 79- = C where C is a failing grade (1). \n",
    "\n",
    "The Harvard Business Review conducted a study about a year ago involving ways to improve food inspections, citing inspector exhaustion, inspector bias as a result of restaurant sequence, and time of day as factors that are detriments to health inspection. The study claims that inspectors tend to mark fewer citations as the day goes along do to the onerous nature of their work (2). This actually claims the opposite of my hypothesis, however, I believe that their findings are not definitive as they cite multiple other factors that may have influenced the trend in ratings such as sequence of restaurants inspected.\n",
    "\n",
    "References (include links):\n",
    "- 1)“SD Food Info.” SD Food Info Start Search, www.sandiegocounty.gov/content/sdc/deh/fhd/ffis/intro.html.html.\n",
    "- 2)Ibanez, Maria R, and Michael W Toffel. “To Improve Food Inspections, Change the Way They’Re Scheduled.” Harvard Business Review, 16 May 2019, hbr.org/2019/05/to-improve-food-inspections-change-the-way-theyre-scheduled."
   ]
  },
  {
   "cell_type": "markdown",
   "metadata": {},
   "source": [
    "# Hypothesis\n"
   ]
  },
  {
   "cell_type": "markdown",
   "metadata": {},
   "source": [
    "I believe that the average rating will decrease as the time of day increases. Most restaurants do some amount of cleaning up at the end of every work day in order to maintain cleanliness so first thing in the morning the restaurant would generally be as clean as it would ever be that day since a restaurant naturally becomes unclean as the work day goes on."
   ]
  },
  {
   "cell_type": "markdown",
   "metadata": {},
   "source": [
    "# Data"
   ]
  },
  {
   "cell_type": "markdown",
   "metadata": {},
   "source": [
    "The ideal dataset would be aggregate data of all health inspections completed in the city of which I am part. The data would include some identifying variable for differentiating health inspectors (could be order number, ID number, etc). It would also include the restaurant for which the rating was completed, the time of day the inspection was carried out, and the rating that was given. Ideally there would be subsets of restaurants with historically similar ratings that would recieve inspections at different times of the day so that the ratings could be compared. The data would be collected by having the health inspectors log this information as they carry out their duties. The data would be stored as a chart initially with the rows being the individual health inspection ratings and the columns being the different variables (inspector ID, restaurant, rating given, time of day). The rows would be sorted by time of data and a line graph would be generated with the x-axis being time of day and the y-axis being average rating given."
   ]
  },
  {
   "cell_type": "markdown",
   "metadata": {},
   "source": [
    "# Ethics & Privacy"
   ]
  },
  {
   "cell_type": "markdown",
   "metadata": {},
   "source": [
    "The data will be taken from the cities Department of Environmental Health's health inspectors as they complete their inspections.The dataset will not contain any of the inspectors' names so as to protect their anonymity. Any inspection's given rating, along with the timeof day it was completed, and the restaurant for which it was completed will not be able to be associated with a specific inspector, thus maintaining their privacy. The identification info for the inspector is simply to keep the ratings in order. The analysis contains no ethical issues, the data collected and analyzed should not have any detrimental effect."
   ]
  }
 ],
 "metadata": {
  "kernelspec": {
   "display_name": "Python 3",
   "language": "python",
   "name": "python3"
  },
  "language_info": {
   "codemirror_mode": {
    "name": "ipython",
    "version": 3
   },
   "file_extension": ".py",
   "mimetype": "text/x-python",
   "name": "python",
   "nbconvert_exporter": "python",
   "pygments_lexer": "ipython3",
   "version": "3.6.7"
  }
 },
 "nbformat": 4,
 "nbformat_minor": 2
}
