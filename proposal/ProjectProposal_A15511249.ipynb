{
 "cells": [
  {
   "cell_type": "markdown",
   "metadata": {},
   "source": [
    "# COGS 108 - Project Proposal"
   ]
  },
  {
   "cell_type": "markdown",
   "metadata": {},
   "source": [
    "# Names & PID\n",
    "\n",
    "- Name: Haibo Li\n",
    "- PID: A15511249"
   ]
  },
  {
   "cell_type": "markdown",
   "metadata": {},
   "source": [
    " - General Topic: Health Inspections\n",
    " - Prompt: Imagine you work for a local city government and want to improve the restaurant health inspection process for the city government."
   ]
  },
  {
   "cell_type": "markdown",
   "metadata": {},
   "source": [
    "# Research Question"
   ]
  },
  {
   "cell_type": "markdown",
   "metadata": {},
   "source": [
    "Do customers' comments on a restaurant have a relationship between the restaurant's actual grade for health inspections?"
   ]
  },
  {
   "cell_type": "markdown",
   "metadata": {},
   "source": [
    "## Background and Prior Work"
   ]
  },
  {
   "cell_type": "markdown",
   "metadata": {},
   "source": [
    "Background\n",
    "- 1) There are 18 cities with more than 13, 800 permanent retail food facilities in San Diego County, including voer 8,100 restaurants.\n",
    "- 2) Grading system:\n",
    "    - a) Each violation on Food Inspection Report is assigned a point value depending on its importance.\n",
    "    - b) Once the Specialist completes an inspection, the points are added up and subtracted from 100. The resulting number is the inspection \"score\"\n",
    "    - c) A letter grade is assigned to the facility based on the inspection score. An \"A\" grade means the facility earned a score of 90 to 100 percent and is in satidfactory compliance with state law; a \"B\" means the facility earned a score of 80 to 89 percent and needs improvement; a \"C\" means the facility earned a score of 79 percent or less and is a failing grade.\n",
    "    - d) The grade card must be displayed nead the public entrance during hours of operation.\n",
    "- 3) What is the inspector looking for?\n",
    "    - a) Food contamination\n",
    "    - b) Temperature control\n",
    "    - c) Hygiene\n",
    "    - d) General cleanliness\n",
    "    - e) Health\n",
    "- 4) Food-borne illness affects an estimated 48 million Americans each year, reulting in 3,000 deaths and the hospitalization of 128,000 people, according to the Centers for Disease Control and Prevention (CDC). Food-borne illness in the U.S. is enormously costly, lost productivity, and lost wages, not to mention litigation expenses.\n",
    "\n",
    "References (include links):\n",
    "- 1) https://www.sandiegocounty.gov/content/sdc/deh/fhd/food/food.html\n",
    "- 2) https://www.sandiegocounty.gov/content/sdc/deh/fhd/food/food.html\n",
    "- 3) https://blog.typsy.com/how-do-health-inspections-work\n",
    "- 4) https://hbr.org/2019/05/to-improve-food-inspections-change-the-way-theyre-scheduled"
   ]
  },
  {
   "cell_type": "markdown",
   "metadata": {},
   "source": [
    "# Hypothesis\n"
   ]
  },
  {
   "cell_type": "markdown",
   "metadata": {},
   "source": [
    "- Hypothesis: There is a positive relationship between the comments on a restaurant and its food inspection grades.\n",
    "\n",
    "It seems convincing that the higher grade a restaurant gets for food inspection, the less complaints it receives from customers that have illness or uncomfortable after dining in that restaurant. On the other hand, if a restaurant does a really terrible job at health and food safefy, it has a higher probability receiving a lower grade from the government and, of course, gets more complaints from customers. Although it is plausible that among all the complaints a restaurants gets, food safety and health issue only take a proportion of it, it is still convincing that a restaurant that does well in food safety cares about its customers and will ideally have a lower number of complaints than others."
   ]
  },
  {
   "cell_type": "markdown",
   "metadata": {},
   "source": [
    "# Data"
   ]
  },
  {
   "cell_type": "markdown",
   "metadata": {},
   "source": [
    "- The hypothesis requires datasets from both restaurants and customers. The restaurant dataset should be containing the inspection grades for each local restaurant. It should have variables such as the name of the restaurant, location of the restaurant, the inspection grade, the inspection date, etc. The customer dataset should contain the infomation about the customer, rating of the restauratn according to the customer, comments on the food, date when the review was published, etc. The combined dataset on restaurant will be sufficient for answering the question. Total number of observations of over 5,000 would be enough for analysis, because there are roughly 8,000 restaurants in San Diego and 5,000 covers the majority of them.\n",
    "- The restaurant data should be collectedd by the local government monthly because the health inspection is done every month. We have access to the customers' review from Yelp. By using API, we have the ability to look at the tabular data that has been cleaned already. The combined dataset should be stored as in a csv file because it is easy to either manually check the data or read the data using pandas without any difficulty."
   ]
  },
  {
   "cell_type": "markdown",
   "metadata": {},
   "source": [
    "# Ethics & Privacy"
   ]
  },
  {
   "cell_type": "markdown",
   "metadata": {},
   "source": [
    "The data on restaurants' inspection scores is available on local government websites because the inspection grade is made availale for everyone on purpose. There is no obvious privacy issue on this part of the dataset. However, we have to consider ethics and privacy when we use Yelp API and work on the customers data. We should not leak customers information including names, age, gener, phone numbers, address, etc. These should be restricted to only the purpose of this project. "
   ]
  }
 ],
 "metadata": {
  "kernelspec": {
   "display_name": "Python 3",
   "language": "python",
   "name": "python3"
  },
  "language_info": {
   "codemirror_mode": {
    "name": "ipython",
    "version": 3
   },
   "file_extension": ".py",
   "mimetype": "text/x-python",
   "name": "python",
   "nbconvert_exporter": "python",
   "pygments_lexer": "ipython3",
   "version": "3.6.7"
  }
 },
 "nbformat": 4,
 "nbformat_minor": 2
}
