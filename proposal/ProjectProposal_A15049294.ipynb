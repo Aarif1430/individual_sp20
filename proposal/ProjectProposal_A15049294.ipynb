{
 "cells": [
  {
   "cell_type": "markdown",
   "metadata": {},
   "source": [
    "# COGS 108 - Project Proposal"
   ]
  },
  {
   "cell_type": "markdown",
   "metadata": {},
   "source": [
    "# Names & PID\n",
    "\n",
    "- Name: Alexander Vo\n",
    "- PID: A15049294"
   ]
  },
  {
   "cell_type": "markdown",
   "metadata": {},
   "source": [
    "# Research Question"
   ]
  },
  {
   "cell_type": "markdown",
   "metadata": {},
   "source": [
    "Will adding a \"social perception\" dimension to health inspection scores increase the accuracy of the score? Should the \"social perception\" dimension be published alongside the score and how will the \"social perception\" dimension affect consumer's trust in the health inspection score?"
   ]
  },
  {
   "cell_type": "markdown",
   "metadata": {},
   "source": [
    "## Background and Prior Work"
   ]
  },
  {
   "cell_type": "markdown",
   "metadata": {},
   "source": [
    "According to County of San Diego Department of Environmental Health [4], restaurant are given a score out of a 100 upon inspection. Violations incur a penalty from 2-4 (no violations incur a penalty of 1), and a letter grade is assigned: \"A\" for 90-100, \"B\" for 80-89, and \"C\" 0 to 79. \"C\" is considered a failing grade. The exact score is usually not displayed, only the letter grade [3]. Re-inspections can be requested at any time. According to Ho [1] however, San Diego may be inflating scores due to a variety of reasons such as inspector discretion and loose guidelines. These make the scores less trustworthy to the consumer resulting in them being ignored. \n",
    "\n",
    "Shashank and Balakrishna [2] introduced a possible social dimension of health inspections by scanning Yelp reviews to determine random health inspection locations. They found some correltations such as overwhelming negative words in a dirty restaurant and talking more about a restaurant's atmosphere in a clean restaurant.\n",
    "\n",
    "References:\n",
    "- 1) Daniel E. Ho, *Fudging the Nudge: Information Disclosure and Restaurant Grading*, 122 Yale L. J. 574 (2012). https://heinonline.org/HOL/Page?handle=hein.journals/ylr122&collection=journals&id=605&startid=&endid=720\n",
    "- 2) Uppoor, Shashank, and Shreyas Pathre Balakrishna. *Predicting Restaurant Health Inspection Penalty Score from Yelp Reviews*. University of California, San Diego, jmcauley.ucsd.edu/cse258/projects/fa15/036.pdf.\n",
    "- 3) Filion, Katie, and Douglas A. Powell. *The Use of Restaurant Inspection Disclosure Systems as a Means of Communicating Food Safety Information* Journal of Foodservice, vol. 20, no. 6, 2009, pp. 287–297., doi:10.1111/j.1748-0159.2009.00151.x.\n",
    "- 4) “SD Food Info.” SD Food Info Start Search, www.sandiegocounty.gov/content/sdc/deh/fhd/ffis/intro.html.html."
   ]
  },
  {
   "cell_type": "markdown",
   "metadata": {},
   "source": [
    "# Hypothesis\n"
   ]
  },
  {
   "cell_type": "markdown",
   "metadata": {},
   "source": [
    "Introducing a hidden \"social perception\" dimension to health inspections will increase the accuracy of health inspection scores. While health inspections only judge a snapshot of the restaurant at a specific moment, the \"social perception\" dimension will capture the sanitation of a restaurant over a long period of time. A disconent between the health inspector's score and the \"social perception\" is the result of a disconnect between customers and inspectors."
   ]
  },
  {
   "cell_type": "markdown",
   "metadata": {},
   "source": [
    "# Data"
   ]
  },
  {
   "cell_type": "markdown",
   "metadata": {},
   "source": [
    "An ideal dataset would include observations from a sample of San Diego restaurant of all nationalities/kinds and locations  (ideally at least ~10% of all San Diego restaraunts) each with:\n",
    "\n",
    "1. Restaurant name\n",
    "2. Health inspection scores for a range of years (2004 to present or the start of the first popular restaurant review sites)\n",
    "3. Restaurant reviews (score and any text) from online food review sites (such as Yelp) with a date of posting\n",
    "\n",
    "From restaurant names, a unique restaurant ID can be generated to avoid any biases.\n",
    "\n",
    "Reviews will live in a separate table indexed by the restaurant ID with two additional columns: the score standardized in a score out of 100 and the text review.\n",
    "\n",
    "Health inspection scores will live in a separate table indexed by restaraunt ID with one column for each year in the range of review years of all restaurants filled with their inspection score.\n",
    "\n",
    "If data is missing due to closure, recent openings, etc., entries will be filled in with \"N/A[reason#]\" where \"reason#\" refers to a code explaining why the data is missing (0 will be the default for \"unknown\")."
   ]
  },
  {
   "cell_type": "markdown",
   "metadata": {},
   "source": [
    "# Ethics & Privacy"
   ]
  },
  {
   "cell_type": "markdown",
   "metadata": {},
   "source": [
    "All information that will be collected is publicly available data with some personally identifiable information attached such as restaraunt names and reviewer account names. Such PII will not be presented as all reviews and health scores will be tied together through the restaurant's unique ID. Only carefully selected and sanitized reviews will be presented in the paper, but if the reviewer recognizes their information, they may request to be removed from the sample. Likewise, if a restaurant owner recognizes their information, they may request to be removed from the sample. Reviews will most likely need to be scrapped and should be done in a manner that would not disrupt the website. \n",
    "\n",
    "Besides preserving anonymity, the restaraunt's unique ID will also prevent bias in researchers and reviewers where certain types of restaurants and their locations may introduce differing expectations of sanitation. However, restaurants should be sampled at random in such a way to capture the ethnic and geographic distribution of the total restaurants in San Diego.\n",
    "\n",
    "Review astroturfing (where reviews may be falsified purposefully to make a restaurant look bad) is a large concern, especially with popular online platforms. Some measures (such as reviewer account age at time of posting) will need to be taken into account but may introduce bias (such as maybe the restaurant was dirty enough to warrant a new user posting a review)."
   ]
  }
 ],
 "metadata": {
  "kernelspec": {
   "display_name": "Python 3",
   "language": "python",
   "name": "python3"
  },
  "language_info": {
   "codemirror_mode": {
    "name": "ipython",
    "version": 3
   },
   "file_extension": ".py",
   "mimetype": "text/x-python",
   "name": "python",
   "nbconvert_exporter": "python",
   "pygments_lexer": "ipython3",
   "version": "3.6.7"
  }
 },
 "nbformat": 4,
 "nbformat_minor": 2
}
