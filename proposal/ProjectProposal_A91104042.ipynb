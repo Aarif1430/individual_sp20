{
 "cells": [
  {
   "cell_type": "markdown",
   "metadata": {},
   "source": [
    "# COGS 108 - Project Proposal"
   ]
  },
  {
   "cell_type": "markdown",
   "metadata": {},
   "source": [
    "# Names & PID\n",
    "\n",
    "- Name: Doyoung Kim\n",
    "- PID: A91104042"
   ]
  },
  {
   "cell_type": "markdown",
   "metadata": {},
   "source": [
    "# Research Question"
   ]
  },
  {
   "cell_type": "markdown",
   "metadata": {},
   "source": [
    "Does restaurants near UCSD have lower ratings than other student-focused restaurants' ratings near other colleges and universities in San Diego?"
   ]
  },
  {
   "cell_type": "markdown",
   "metadata": {},
   "source": [
    "## Background and Prior Work"
   ]
  },
  {
   "cell_type": "markdown",
   "metadata": {},
   "source": [
    "\n",
    "Thanks to current situation, health is the number one priority right now. One of the most imporant factor that contributes to personal health is eating better food. However, it is difficult to get variety of food from home cooking. Not every ingredients are available. Therefore, we order food online or go pick up from restaurants. Before, we only focused on food ratings, but now we also need to consider cleanliness of restaurants (Reference #1). When I looked up some restuarnts where I have been dined before, they had records of major and minor violations. Thus, I looked up records for San Diego county. Surprisingly, over 96% of restaurants have grade A (Reference #4). This discrepancy piqued my interest. Because I live near campus, I became curious about other schools'eateries and their inspection ratings (Reference #2 & #3).\n",
    "\n",
    "\n",
    "References (include links):\n",
    "- 1) https://www.sdfoodinfo.org/inspectionhistory.html : Food inspection rating website\n",
    "- 2) https://spoonuniversity.com/lifestyle/9-san-diego-eateries-every-usd-freshman-needs-to-know-about : USD eateries\n",
    "- 3) https://www.tripadvisor.com/RestaurantsNear-g60750-d8267997-San_Diego_Mesa_College-San_Diego_California.html : Mesa College eateries\n",
    "- 4) https://performance.sandiegocounty.gov/stat/goals/ch5s-4bb7/tjv2-sruh/c7j2-zenp : Overview of San Diego country food inspection records. About 96% recieved grade A\n"
   ]
  },
  {
   "cell_type": "markdown",
   "metadata": {},
   "source": [
    "# Hypothesis\n"
   ]
  },
  {
   "cell_type": "markdown",
   "metadata": {},
   "source": [
    "*Although UCSD is a public university, the cost of living in La Jolla is very expensive compared to other areas in San Diego. Thus, inspection ratings of restaurants near UCSD will not be lower than other student-orientated restaurants' inspection ratings near colleges and universities in San Diego.*"
   ]
  },
  {
   "cell_type": "markdown",
   "metadata": {},
   "source": [
    "# Data"
   ]
  },
  {
   "cell_type": "markdown",
   "metadata": {},
   "source": [
    "*The first dataset will be the restaurant inspection data from past 3 years. This set should include name of the restaurant, address, date, result (complete or not), type of inspection (routine or re-check because of violation), violations if any, type of violations (minor, major, out of compliance, or etc.), score, and grade. These observations are from reference link #1. Another data set will contain all of universities and colleges in San Diego country. It will have the name and the address of each school. School data set will be used to merged with restaurant inspection data set. The names will be used as IDs to differenciate observations from other restaurants. Addresses will be used to calculate the distance from schools. Thus, the final set will also have obervations regarding distance.*"
   ]
  },
  {
   "cell_type": "markdown",
   "metadata": {},
   "source": [
    "# Ethics & Privacy"
   ]
  },
  {
   "cell_type": "markdown",
   "metadata": {},
   "source": [
    "- 1) The information regarding restaurant inspection and school is public\n",
    "    - 1) All of the names and addresses of schools in San Diego can be found online\n",
    "    - 2) Health inspection records are public - can be seen at the restaurant or online \n",
    "- 2) The names of restaurants needs to be removed \n",
    "    - 1) Although health inspection records are public, private information such as name needs to be protected to  illiminate any possible damage to a specific restaurant \n",
    "    - 2) Information displayed inside of restaurants do not include minor violations\n",
    "    - 3) Restaurants with minor violations can still get grade A\n",
    "- 3) The definition of near needs to be addressed as 3 miles\n",
    "    - 1) Close could mean 1 mile to 10 miles depending on people. The result of this project can harm restaurants that are not in the range if the finding says restaurants near UCSD have lower ratings in general\n",
    "    - 2) It may also influence parents of potential students for UCSD. If students do not have cars, then they will eat from nearby restaurants. Food is an important factor to consider for choosing school.\n",
    "- 4) The source of inspection record needs to be meantioned\n",
    "    - 1) The readers may question source of information for credibility or privacy violation like Facebook case\n",
    "    - 2) The inspection record is available from https://www.sdfoodinfo.org/restaurant.html\n",
    "- 5) The length of inspection record needs to be meantioned\n",
    "    - 1) Longer years give better data to generalize. One or two years of record can lead to bias"
   ]
  },
  {
   "cell_type": "code",
   "execution_count": null,
   "metadata": {},
   "outputs": [],
   "source": []
  }
 ],
 "metadata": {
  "kernelspec": {
   "display_name": "Python 3",
   "language": "python",
   "name": "python3"
  },
  "language_info": {
   "codemirror_mode": {
    "name": "ipython",
    "version": 3
   },
   "file_extension": ".py",
   "mimetype": "text/x-python",
   "name": "python",
   "nbconvert_exporter": "python",
   "pygments_lexer": "ipython3",
   "version": "3.6.7"
  }
 },
 "nbformat": 4,
 "nbformat_minor": 2
}
