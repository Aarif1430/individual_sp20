{
 "cells": [
  {
   "cell_type": "markdown",
   "metadata": {},
   "source": [
    "# COGS 108 - Project Proposal"
   ]
  },
  {
   "cell_type": "markdown",
   "metadata": {},
   "source": [
    "# Names & PID\n",
    "\n",
    "- Name: Zilu Zhu\n",
    "- PID: A15454681"
   ]
  },
  {
   "cell_type": "markdown",
   "metadata": {},
   "source": [
    "# Research Question"
   ]
  },
  {
   "cell_type": "markdown",
   "metadata": {},
   "source": [
    "How does the number of inspections at a restaurant affect how its score changes in the United States?"
   ]
  },
  {
   "cell_type": "markdown",
   "metadata": {},
   "source": [
    "## Background and Prior Work"
   ]
  },
  {
   "cell_type": "markdown",
   "metadata": {},
   "source": [
    "*Fill in your background and prior work here. Be sure to specify which statements are from which references.* \n",
    "\n",
    "**Background:** \n",
    "\n",
    "Base line resturant inspections are done twice a year, and are increased if a restaurant is flagged for having safety issues. Restaurants are scored from a 0-100 scale, with 100 being the maximum. There is not much research done on this specific research question, but there are studies that have similar aims.\n",
    "\n",
    "\n",
    "References (include links):\n",
    "- 1) https://www.techrepublic.com/article/google-and-harvard-test-a-machine-learning-approach-to-food-safety/\n",
    "\n",
    "Google and Harvard conducted a study where they utilized a machine learning model called FINDER to predict which restaurants were unsafe quickly versus the standard health check routine, which is twice a year. FINDER would consider the symptoms of food poisoning, look through search queries that matched those symptoms, and use anonymous location data to find which restaurants those individuals visited. The result was that 50% of the restaurants FINDER flagged were indeed unsafe, versus 25% with the baseline inspections. This relates to this research project because it supports the idea that increasing the number of inspections has a positive affect on food safety. The FINDER study is more of a precaution study, while the research question I am examining is an after-caution; it looks at what could happen when inspections are increased after a restaurant is flagged.\n",
    "\n",
    "- 2) https://www.sapanalytics.cloud/resources-visualizing-new-york-city-restaurant-inspections/\n",
    "\n",
    "This study looked at New York City Open Data and plotted them in several graphs, such as the number of inspection versus number of citations each year, percent critical versus non-critical issues found, and percent inspections that resulted in a violation. This study had multiple takeaways, one of which was \"initial inspections have much worse scores and grades than re-inspections\". This also supports the idea that inspections after alerting a restaurant of its health issues does make a positive difference in their score. "
   ]
  },
  {
   "cell_type": "markdown",
   "metadata": {},
   "source": [
    "# Hypothesis\n"
   ]
  },
  {
   "cell_type": "markdown",
   "metadata": {},
   "source": [
    "I predict that there's a positive trend between the number of inspections at a restaurant and the difference in the restaurants score in the United States. This is because once a restaurant is aware of its health issues and knows it is recieving more inspections, it would most likely pay more attention to improving its food safety to increase its score. "
   ]
  },
  {
   "cell_type": "markdown",
   "metadata": {},
   "source": [
    "# Data"
   ]
  },
  {
   "cell_type": "markdown",
   "metadata": {},
   "source": [
    "*Explain what the ideal dataset you would want to answer this question. (This should include: What variables? How many observations? Who/what/how would these data be collected? How would these data be stored/organized?)*\n",
    "\n",
    "The ideal dataset would look at the variables restaurant ratings versus the dates of the inspections over the past 10 years, and using this we'll also have the number of inspections per restaurant which we can use in another graph to compare the number of inspections versus the change in score of a restaurant. \n",
    "\n",
    "This data will be collected through public records of restaurant health inspections in the United States over the past 10 years, and can be stored in a simple CSV that is organized by separating the information of each restaurant so that each restaurant has their ratings, date of ratings, number of inspections total (which can be obtained by the total number of ratings), and difference in score (which can be found by subtracting the min rating from the max rating). "
   ]
  },
  {
   "cell_type": "markdown",
   "metadata": {},
   "source": [
    "# Ethics & Privacy"
   ]
  },
  {
   "cell_type": "markdown",
   "metadata": {},
   "source": [
    "While not all health inspection scores are avaliable online to the public, we can use the ones that are avaliable to the general public. I believe there are no privacy concerns since the names of the restaurants are not included in the dataset, and there are no information that can suggest a particular dataset is a specific restaurant. \n",
    "\n",
    "There could be potential biases in the dataset since we are only using health inspection scores avaliable to us. This does not cover all possible restaurants in the United States, but since health inspections are an official business and are required for all restaurants, there should be no biases based on certain populations or human biases. One thing we must consider is potential biases during health inspections themselves (such as giving ethnic restaurants lower scores based on pre-existing biases towards them), but since we are taking the data from the entire United States over the past 10 years, those biases should be minimal based on the coverage of our ideal dataset. "
   ]
  },
  {
   "cell_type": "code",
   "execution_count": null,
   "metadata": {},
   "outputs": [],
   "source": []
  }
 ],
 "metadata": {
  "kernelspec": {
   "display_name": "Python 3",
   "language": "python",
   "name": "python3"
  },
  "language_info": {
   "codemirror_mode": {
    "name": "ipython",
    "version": 3
   },
   "file_extension": ".py",
   "mimetype": "text/x-python",
   "name": "python",
   "nbconvert_exporter": "python",
   "pygments_lexer": "ipython3",
   "version": "3.6.7"
  }
 },
 "nbformat": 4,
 "nbformat_minor": 2
}
