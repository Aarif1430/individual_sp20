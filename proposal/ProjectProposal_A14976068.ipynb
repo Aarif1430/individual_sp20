{
 "cells": [
  {
   "cell_type": "markdown",
   "metadata": {},
   "source": [
    "# COGS 108 - Project Proposal"
   ]
  },
  {
   "cell_type": "markdown",
   "metadata": {},
   "source": [
    "# Names & PID\n",
    "\n",
    "- Name: Shirley Dinh\n",
    "- PID: A14976068"
   ]
  },
  {
   "cell_type": "markdown",
   "metadata": {},
   "source": [
    "# Research Question"
   ]
  },
  {
   "cell_type": "markdown",
   "metadata": {},
   "source": [
    "Does the size of a restaurant affect its health grade? Would mobile eateries on average typically have lower health grades than brick and mortar restaurants due to its confined nature?"
   ]
  },
  {
   "cell_type": "markdown",
   "metadata": {},
   "source": [
    "## Background and Prior Work"
   ]
  },
  {
   "cell_type": "markdown",
   "metadata": {},
   "source": [
    "After conducting some research on health inspections in Los Angeles County (L.A. County), I found that brick and mortar restaurants are inspected 1-3 times a year while food trucks are inspected 1-2 times a year. This could be due the fact that brick and mortar restaurants have a set location while food trucks constantly move around and it would be difficult to track them down. In addition to this, according to public health food safety and regulations in L.A. County, food trucks are held to basically the same standard as brick and mortar restaurants despite the environmental and size differences.\n",
    "\n",
    "According to an article on Fox News in 2016, about 30% of L.A. food trucks earned a health grade lower than A, while about 18% of brick and mortar restaurants earned a health grade lower than A. It mentioned that “Workers make food in a confined space (“typically less than 8 feet wide by 20 feet long,” according to the paper) and trucks don’t usually have as much equipment as a full size restaurant, which can lead to cross-contamination.”\n",
    "\n",
    "Another reference that I found online is a case study on food regulations for food trucks in U.S. cities. The case study discusses the varying challenges of facing food safety measures across cities in the U.S., such as Chicago, and New York City. I think this case study will be very relevant for my research question.\n",
    "\n",
    "References (include links):\n",
    "- 1)https://www.foxnews.com/food-drink/nearly-30-percent-of-los-angeles-food-trucks-face-sanitation-problems-report-finds\n",
    "- 2)https://datasmart.ash.harvard.edu/news/article/case-study-food-trucks-585"
   ]
  },
  {
   "cell_type": "markdown",
   "metadata": {},
   "source": [
    "# Hypothesis\n"
   ]
  },
  {
   "cell_type": "markdown",
   "metadata": {},
   "source": [
    "I hypothesize that the smaller a restaurant is (calculated in square feet or capacity), the higher chance that it will have a lower health grade. In particular, food trucks have a higher risk of receiving a lower health grade due to higher risk of cross contamination and cross contact."
   ]
  },
  {
   "cell_type": "markdown",
   "metadata": {},
   "source": [
    "# Data"
   ]
  },
  {
   "cell_type": "markdown",
   "metadata": {},
   "source": [
    "*Explain what the ideal dataset you would want to answer this question. (This should include: What variables? How many observations? Who/what/how would these data be collected? How would these data be stored/organized?)*"
   ]
  },
  {
   "cell_type": "markdown",
   "metadata": {},
   "source": [
    "# Ethics & Privacy"
   ]
  },
  {
   "cell_type": "markdown",
   "metadata": {},
   "source": [
    "*Fill in your ethics & privacy discussion here*"
   ]
  }
 ],
 "metadata": {
  "kernelspec": {
   "display_name": "Python 3",
   "language": "python",
   "name": "python3"
  },
  "language_info": {
   "codemirror_mode": {
    "name": "ipython",
    "version": 3
   },
   "file_extension": ".py",
   "mimetype": "text/x-python",
   "name": "python",
   "nbconvert_exporter": "python",
   "pygments_lexer": "ipython3",
   "version": "3.7.0"
  }
 },
 "nbformat": 4,
 "nbformat_minor": 2
}
