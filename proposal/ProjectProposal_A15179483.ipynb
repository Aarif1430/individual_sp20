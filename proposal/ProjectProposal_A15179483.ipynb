{
 "cells": [
  {
   "cell_type": "markdown",
   "metadata": {},
   "source": [
    "# COGS 108 - Project Proposal"
   ]
  },
  {
   "cell_type": "markdown",
   "metadata": {},
   "source": [
    "# Names & PID\n",
    "\n",
    "- Name: Calvin Yeung\n",
    "- PID: A15179483"
   ]
  },
  {
   "cell_type": "markdown",
   "metadata": {},
   "source": [
    "# Research Question"
   ]
  },
  {
   "cell_type": "markdown",
   "metadata": {},
   "source": [
    "Is there a relationship between the number of food poisoning cases and the location of the restaurant with respect to the time of year in Hong Kong?"
   ]
  },
  {
   "cell_type": "markdown",
   "metadata": {},
   "source": [
    "## Background and Prior Work"
   ]
  },
  {
   "cell_type": "markdown",
   "metadata": {},
   "source": [
    "According to an article, \"restaurants are an important source of foodbourne disease in the United States.\" (1) If this claim generalizes to areas outside of the US it would suggest that there would be a relationship between the number of food poisoning cases and the number of visitors in a restaurant, which would likely vary depending on the date (e.g. holiday or work day).\n",
    "\n",
    "Another article analyzing cuisine-associated food poisoning risks seems to suggest that there is a relationship between cuisine and food poisoning frequency in England and Wales. (2) Moreover, the food vehicle for the spread of food poisoning also varies depending on cuisine. Moreover, there are particular kinds of food which are more likely to cause food poisoning. (3) It is often the case that restaurants of different cuisines tend to congregate in different locations (e.g. Chinese food in Chinatown). Also, the type of food a restaurant offers is likely to be related to its location (e.g. seafood by the sea). So, by these factors, it is likely that there is a relationship between location and food poisoning incidents.\n",
    "\n",
    "References (include links):\n",
    "- 1) https://academic.oup.com/cid/article/43/10/1324/516737\n",
    "- 2) https://www.ncbi.nlm.nih.gov/pubmed/21854669\n",
    "- 3) https://www.cfs.gov.hk/english/multimedia/multimedia_pub/multimedia_pub_fsf_141_01.html"
   ]
  },
  {
   "cell_type": "markdown",
   "metadata": {},
   "source": [
    "# Hypothesis\n"
   ]
  },
  {
   "cell_type": "markdown",
   "metadata": {},
   "source": [
    "I hypothesise that there is a relationship between food poisoning cases and time of year. In particular, the number of cases should increase during public holidays, as people tend to eat out during those times, especially during important occasions such as Christmas and Chinese New Year. Moreover, there should be a relationship between restaurant location and number of food poisoning cases, as certain kinds of foods are more likely to cause food poisoning, like seafood. So, for instance, restaurants by the sea might have higher rates of food poisoning."
   ]
  },
  {
   "cell_type": "markdown",
   "metadata": {},
   "source": [
    "# Data"
   ]
  },
  {
   "cell_type": "markdown",
   "metadata": {},
   "source": [
    "*Explain what the ideal dataset you would want to answer this question. (This should include: What variables? How many observations? Who/what/how would these data be collected? How would these data be stored/organized?)*\n",
    "\n",
    "A dataset that would be most conducive to analysis with respect to the given question would be data in csv/tabular format, in which each observation is a food poisoning incident. Variables would include location, cuisine, cause (what type of food) and date. Other variables like average price and weather would also allow me to check for other trends in the data and possibly explain or exclude certain behavior in the analysis. Preferably, the data would be collected over a span of more than a few years to verify for outliers (if there is a spike at a certain date only in 1 year). It is best if the data is collected by the Health Inspection Department of the government and includes all registered restaurants in the city."
   ]
  },
  {
   "cell_type": "markdown",
   "metadata": {},
   "source": [
    "# Ethics & Privacy"
   ]
  },
  {
   "cell_type": "markdown",
   "metadata": {},
   "source": [
    "The data used for this analysis would come from the health inspection department of the government, so restaurants should have already given consent for this data to be used. There might be privacy concerns in the names of restaurants, since some restaurants names might include PII (e.g. family name for family-owned restaruants). We can deal with this issue by censoring these kinds of names.\n",
    "\n",
    "Since the data should include all registered restaurants, there should be no biases regarding exclusion of particular populations and should be representative of what is actually going on. A possible issue would be that unreported cases or uneven frequency of data collection with respect to location (e.g. busier locations get more checks) might decrease the accuracy of the data, so readers should be made aware of this issue.\n",
    "\n",
    "Regarding the topic of the question, there is a possibility of cultural issues, since there might be a relationship between cuisine and likelihood of food poisoning. To deal with this issue, we should clarify that the problem is not of the culture, but of some particular preparation methods or food types. There also might be an issue regarding location, as certain locations might see higher concentrations of food poisoning incidents, and these incidents might be correlated to a particular demographic. Again, we must clarify in the analysis that it is particular food preparation methods, hygiene practices, and food types that are the causes rather than the particular demographic."
   ]
  }
 ],
 "metadata": {
  "kernelspec": {
   "display_name": "Python 3",
   "language": "python",
   "name": "python3"
  },
  "language_info": {
   "codemirror_mode": {
    "name": "ipython",
    "version": 3
   },
   "file_extension": ".py",
   "mimetype": "text/x-python",
   "name": "python",
   "nbconvert_exporter": "python",
   "pygments_lexer": "ipython3",
   "version": "3.7.6"
  }
 },
 "nbformat": 4,
 "nbformat_minor": 2
}
