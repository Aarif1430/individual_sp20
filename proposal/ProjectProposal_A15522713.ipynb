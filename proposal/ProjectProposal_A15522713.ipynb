{
 "cells": [
  {
   "cell_type": "markdown",
   "metadata": {},
   "source": [
    "# COGS 108 - Project Proposal"
   ]
  },
  {
   "cell_type": "markdown",
   "metadata": {},
   "source": [
    "# Names & PID\n",
    "\n",
    "- Name: Jerlene Hsueh\n",
    "- PID: A15522713"
   ]
  },
  {
   "cell_type": "markdown",
   "metadata": {},
   "source": [
    "# Research Question"
   ]
  },
  {
   "cell_type": "markdown",
   "metadata": {},
   "source": [
    "Does the frequency of restaurant health inspections have a relationship with the food safety compliance of restaurants? How does this relationship change between geographical locations with different population densities, if at all?"
   ]
  },
  {
   "cell_type": "markdown",
   "metadata": {},
   "source": [
    "## Background and Prior Work"
   ]
  },
  {
   "cell_type": "markdown",
   "metadata": {},
   "source": [
    "There has been a significant amount of prior work about the relationship of frequency and compliance, but it seems that most were primarily concerned with the effects of frequent inspections on one particular region. The first study of the ones linked below took place in Saskatoon, Saskatchewan, the second in Hamilton, Ontario, and the third in Philadelphia, Pennysylvania. The Canadian studies had a different outcome from the American one, which invites the possiblity of further exploration into geographical differences. \n",
    "\n",
    "The RestoFreq Study (1) was carried out with the intention of evaluating whether or not Saskatoon would benefit from twice-annual health inspections for high-risk restaurants, as opposed to the current single annual inspection. 73 restaurants were inspected more frequently as the \"intervention arm,\" and 78 followed the status quo as the \"control arm\" for a total of 151 restaurants in the study. The authors carried out this trial between November 2012 and October 2014. Over its course, they found that both the amount of food safety hazards observed and inspection ratings improved over both study arms. There was no major statistical difference found between the groups, suggesting that there was no association between frequency and food safety compliance. In the same vein, the results of the second study (2) that was carried out in Hamilton, Ontario seem to corroborate the one that was described above. This one was initated after observing that compliance rates seemed to plateau at the 85 percent mark for inspection completion rate—results eventually found the impact of high frequency health inspections to be minimal. \n",
    "\n",
    "The Philadelphia study (3), which evaluated data from a U.S. city as opposed to a Canadian one like the first two above, found different results when accounting for factors such as demographics (black vs. non-black), and restaurant type (chain vs non-chain). It found that increasing restaurant inspection frequency resulted in a signficant positive increase for inspection ratings, specifically in high-risk restaurants. However, it acknowledges that the outcomes of the study may have been influenced by unaccounted factors, such as the location of certain chain restaurants in higher density, more tourist-populated areas of the city. \n",
    "\n",
    "\n",
    "\n",
    "\n",
    "References (include links):\n",
    "- 1)RestoFreq Study https://www.ncbi.nlm.nih.gov/pubmed/28252371\n",
    "- 2)Restaurant Inspection Frequency and Food Safety Compliance https://www.jstor.org/stable/26327770 \n",
    "- 3)Inspection Frequency, Sociodemographic Factors, and Food Safety Violations in Chain and Nonchain Restaurants,    Philadelphia, Pennsylvania http://europepmc.org/article/PMC/5349477"
   ]
  },
  {
   "cell_type": "markdown",
   "metadata": {},
   "source": [
    "# Hypothesis\n"
   ]
  },
  {
   "cell_type": "markdown",
   "metadata": {},
   "source": [
    "My hypothesis is that a higher frequency of restaurant health inspections will have a greater positive impact on the inspection ratings of higher-risk restaurants that serve regions with high population density. Hamilton and Saskatoon seem to have lower population densities than that of Philadelphia's, which would explain the inconsistency between the results of prior studies."
   ]
  },
  {
   "cell_type": "markdown",
   "metadata": {},
   "source": [
    "# Data"
   ]
  },
  {
   "cell_type": "markdown",
   "metadata": {},
   "source": [
    "The ideal dataset to answer this question would include the results of studies from cities across the world with varying levels of population density. Different countries and indeed, even administrative regions within respective countries contain different guidelines, standards, and rating systems for food safety, so the dataset would also ideally already have quantified the inspection ratings into a universal scale, or at the very least contain information on how ratings were determined. \n",
    "\n",
    "Everything would be neatly stored in a tabular format. \n",
    "\n",
    "Each observation would represent a restaurant. Ideal variables would be the average rating of the restaurant before an increase in health inspections, and the average rating after the frequency increase. Approximately half of the observations would maintain their current frequency of inspections within the time span, in order to provide for an accurate control group that can be analyzed for further comparison. Additional variables would include the approximate population density of the estimated area that the restaurant serves, as well as whether or not the restaurant was judged to be at high-risk for food safety violations. It would also be ideal if the demographics of the population served was also included as one of the variables. "
   ]
  },
  {
   "cell_type": "markdown",
   "metadata": {},
   "source": [
    "# Ethics & Privacy"
   ]
  },
  {
   "cell_type": "markdown",
   "metadata": {},
   "source": [
    "I believe that consent would not be too large of an issue, as restaurant health inspection ratings would largely already be public data. The main ethics issue concerning this project would be regarding human bias in collection of data, as well as the impacts of unfair health inspections towards certain restaurants—for instance, if this project were to find that high population density areas get more benefit from frequent health inspections, it may unfairly skew perceptions towards black residents who have historically trended as living in the most population dense areas. If not undertaken carefully, the project might also end up unfairly diverting health inspection resources either way. \n",
    "\n",
    "Bias in data collection will simply have to be averaged out with non-biased data with as many observations as possible. Findings that are reported will be cautious, and warn about the limitations of the analysis that took place, especially when dealing with different population demographics. The names and specific identifying information for each restaurant will be cleaned and removed from the data. Outliers in demographics, such as a high tourist population, will be caught and made sure not to skew the data in any manner. \n",
    "\n"
   ]
  }
 ],
 "metadata": {
  "kernelspec": {
   "display_name": "Python 3",
   "language": "python",
   "name": "python3"
  },
  "language_info": {
   "codemirror_mode": {
    "name": "ipython",
    "version": 3
   },
   "file_extension": ".py",
   "mimetype": "text/x-python",
   "name": "python",
   "nbconvert_exporter": "python",
   "pygments_lexer": "ipython3",
   "version": "3.6.7"
  }
 },
 "nbformat": 4,
 "nbformat_minor": 2
}
