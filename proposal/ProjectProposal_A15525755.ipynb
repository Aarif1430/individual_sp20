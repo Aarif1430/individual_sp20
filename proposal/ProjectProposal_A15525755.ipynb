{
 "cells": [
  {
   "cell_type": "markdown",
   "metadata": {},
   "source": [
    "# COGS 108 - Project Proposal\n",
    "\n",
    "## Name: Yared Mekbib\n",
    "## PID: A15525755\n",
    "\n",
    "### Research Question\n",
    "\n",
    "Is there a relationship between a restaurant’s food inspection scores and the average amount of wealth of the neighborhood in Chicago?\n",
    "\n",
    "\n",
    "### Background and Prior Work\n",
    "\n",
    "\n",
    "As soon as I found out we would be doing a project around restaurant health inspection, I knew I wanted to investigate Chicago. This is primarily because it is the third most populated city in America, and I knew there were already many articles on New York and Los Angeles’ restaurant health inspections. I began to conduct research, and I found that Chicago is also the third dirtiest city in America, behind LA and New York(ApartmentTherapy). Because of this, I knew Chicago would be an interesting city to investigate. \n",
    "   \n",
    "After some research I soon found out that the city was having issues with restaurants keeping their facilities clean and up to date. I found an article that specifically discusses how the restaurant review app, Yelp, will flag Chicago restaurants that have the lowest inspection scores in the city. Yelp does this by providing a popup about the restaurants that features the score and why there were docked points (eg: improper thawing, dirty bathrooms, etc etc). I thought this would be interesting, in relation to my research question, specifically because it could have a detrimental impact on these restaurants. If a restaurant with less money or finances is having trouble keeping up with sanitary standards, how is a Yelp popup going to affect their business (ChicagoTribune)? Another article I found stated “the city's health department only inspected 43.9 percent of high-risk establishments, like restaurants, the required minimum of two times in 2015 (NBCChicago).” This stat really made me interested in investigating the city.\n",
    "\n",
    "\n",
    "### References (include links):\n",
    "1. https://www.apartmenttherapy.com/dirtiest-city-in-america-new-york-study-2018-256221\n",
    "\n",
    "2. https://www.chicagotribune.com/business/ct-biz-yelp-health-scores-20200122-fyyeapmcabdyrpeexh4jsqidv4-story.html\n",
    "\n",
    "3. https://www.nbcchicago.com/news/local/chicago-failing-restaurant-inspection-requirements/2017279/\n",
    "\n",
    "\n",
    "### Hypothesis\n",
    "I hypothesize that there will be a direct correlation between the health inspection scores and the amount of wealth in the restaurant’s community. I believe it will be a consistent relationship across the board, with the restaurant’s based in the wealthiest communities having the best inspection scores. I believe this because wealthier communities usually indicates better services, which indicates a higher health inspection score.\n",
    "\n",
    "\n",
    "### Data\n",
    "\n",
    "I think the variables that would be most important would be the amount of money in the community, a list of the sub-communities in Chicago, specific health inspection notes/violations, addresses of restaurants, type of restaurants, and the health inspection score. This is primarily so I can get an accurate representation of the general workings of the restaurants. I would primarily collect this data through links to the City of Chicago posts on their government website. I’d primarily be observing health inspection scores in restaurants in communities with a wide range of income.\n",
    "\n",
    "\n",
    "### Ethics & Privacy\n",
    "Thankfully, the city of Chicago posts all of the health inspection data online, so I have access to information that hasn’t invaded anyone’s privacy. There is a “terms of use” page I have to abide by when using this data, but I do not believe it is too restrictive in terms of this project. The only potential bias I see in my dataset would be health inspections not being conducted in wealthier communities, simply because they assume they are maintaining their standard of cleanliness. I plan to combat this by making sure that every establishment I use has the equal amount of health inspections conducted."
   ]
  },
  {
   "cell_type": "code",
   "execution_count": null,
   "metadata": {},
   "outputs": [],
   "source": []
  }
 ],
 "metadata": {
  "kernelspec": {
   "display_name": "Python 3",
   "language": "python",
   "name": "python3"
  },
  "language_info": {
   "codemirror_mode": {
    "name": "ipython",
    "version": 3
   },
   "file_extension": ".py",
   "mimetype": "text/x-python",
   "name": "python",
   "nbconvert_exporter": "python",
   "pygments_lexer": "ipython3",
   "version": "3.6.7"
  }
 },
 "nbformat": 4,
 "nbformat_minor": 2
}
