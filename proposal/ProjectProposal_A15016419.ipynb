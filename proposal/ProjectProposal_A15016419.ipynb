{
 "cells": [
  {
   "cell_type": "markdown",
   "metadata": {},
   "source": [
    "# COGS 108 - Project Proposal"
   ]
  },
  {
   "cell_type": "markdown",
   "metadata": {},
   "source": [
    "# Names & PID\n",
    "\n",
    "- Name: Juan Pablo Leon\n",
    "- PID: A15016419"
   ]
  },
  {
   "cell_type": "markdown",
   "metadata": {},
   "source": [
    "# Research Question"
   ]
  },
  {
   "cell_type": "markdown",
   "metadata": {},
   "source": [
    "Is there a relationship between health inspection scores and restaurants in afluent neighborhoods across the United States?"
   ]
  },
  {
   "cell_type": "markdown",
   "metadata": {},
   "source": [
    "## Background and Prior Work"
   ]
  },
  {
   "cell_type": "markdown",
   "metadata": {},
   "source": [
    "   Health inspections are conducted nationwide as a way to reduce risks associted with food safety and sanitaion. These inspections are conducted by specific individuals who visit the site of the restaurant or local being inspected and conduct a \"routine\" type of inspection. These routine type inspections are classified as \"unannounced periodic inspection conducted as a part of an ongoing regulatory scheme based on the establisment's risk category.\" **[1]** Moreover, if the restaurant or local that has gone through a routine inspection had \"items that were not in compliance at the time of the routine inspection,\" a follow-up inspection is then conducted. This follow-up is also unannounced and has no specific set time. Asside from these, there is a complaint type of inspection, which is brought upon a restaurant as a result of a public complaint to the health department. After inspections are conducted, scores are given to these restaurants that is a representative of that restaurants cleanliness. \n",
    "In the research paper by Andrew Choothakan of the University of Sanfrancisco titled \"Examining Restaurant Sanitation Scores Across Cuisines\" the researcher explores a similar question to the one I posed. This researcher collected data from the San Francisco Department of Public Health (SFDPH) to \"investigate possible correlations such as location and price of the restaurants in relation to health score.\"**[2]** Through their analysis of health score data in the San Francisco area of Asian restaurants the researcher was able to find a correlation between impoverished neighborhoods and a tendency for lower health inspection score. Though this researcher put an emphasis on Asian cuisine over others, this correlation of economic power and health inspection scores could potentially be useful to find similar patterns amongst other types of locals.\n",
    "\n",
    "References (include links):\n",
    "- 1)https://dchealth.dc.gov/service/understanding-food-establishment-inspections\n",
    "- 2)https://repository.usfca.edu/cgi/viewcontent.cgi?article=1195&context=capstone"
   ]
  },
  {
   "cell_type": "markdown",
   "metadata": {},
   "source": [
    "# Hypothesis\n"
   ]
  },
  {
   "cell_type": "markdown",
   "metadata": {},
   "source": [
    "After taking a closer look at the results from the backround research, there seems to be a potential for a reciprocal relationship between health inspection scores and affluent neighborhods. By this I mean that a higher health isnpection score is to be expected from an affluent neighborhood than from that of an impoverished one and vice-versa."
   ]
  },
  {
   "cell_type": "markdown",
   "metadata": {},
   "source": [
    "# Data"
   ]
  },
  {
   "cell_type": "markdown",
   "metadata": {},
   "source": [
    "The ideal dataset required to answer this question would include:\n",
    "Variables:\n",
    "health ispection scores (number)\n",
    "most recent inspection (year)\n",
    "Type of cuisine (region)\n",
    "city (name)\n",
    "average income of city (number)\n",
    "restaurant name\n",
    "Observations:\n",
    "20 random restaurants from 10 random states for a total of 200 observations.\n",
    "The variables are noted as such, to be able to make comparisons across them and draw other possible connections between them. This would in turn allow for a better understandment of the relationship of health inspection scores and restaurants in wealthy neighborhoods.\n",
    "To collect the data, access to specific records would be essential, these would include the average income of people in a given city, the database of the health inspection department, and basic information of select restaurants.\n",
    "The data would be organized in tables, having the variables as the columns and each restaurant being observed as the rows. Then plots would need to be derived to observed possible connections. One such plot that would be helpful is scatterplot, through which correlations between two variables could be drawn."
   ]
  },
  {
   "cell_type": "markdown",
   "metadata": {},
   "source": [
    "# Ethics & Privacy"
   ]
  },
  {
   "cell_type": "markdown",
   "metadata": {},
   "source": [
    "The potential data required to formulate an answer to this question should be publicly accessible, which would allow for the upholding of ethics. However, the data itself is not intended to be represented in this matter, or for the purpose of this proposal. Therefore, there would be a need to, after selecting the restaurants, verify with the owners or managers that they are comfortable with their data being exposed in the context of the question. Moreover, there exists a potential bias in the way the data is to be presented since it has been infered in the hypotheses that there is a connection between scores and affluency. This could pose an issue since it would essentially infer that the health department inspectors are biased towards restaurants in affluent neighborhoods. In addition, the idea presented that most of the low scoring restaurants from impoverished cities are based on ethnic cuisines could also pose an issue that the health department of that city might not want to be exposed."
   ]
  }
 ],
 "metadata": {
  "kernelspec": {
   "display_name": "Python 3",
   "language": "python",
   "name": "python3"
  },
  "language_info": {
   "codemirror_mode": {
    "name": "ipython",
    "version": 3
   },
   "file_extension": ".py",
   "mimetype": "text/x-python",
   "name": "python",
   "nbconvert_exporter": "python",
   "pygments_lexer": "ipython3",
   "version": "3.6.7"
  }
 },
 "nbformat": 4,
 "nbformat_minor": 2
}
