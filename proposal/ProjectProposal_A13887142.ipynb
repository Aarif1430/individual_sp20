{
 "cells": [
  {
   "cell_type": "markdown",
   "metadata": {},
   "source": [
    "# COGS 108 - Project Proposal"
   ]
  },
  {
   "cell_type": "markdown",
   "metadata": {},
   "source": [
    "# Names & PID\n",
    "\n",
    "- Name: Sean Angelo Delos Santos\n",
    "- PID: A13887142"
   ]
  },
  {
   "cell_type": "markdown",
   "metadata": {},
   "source": [
    "# Research Question"
   ]
  },
  {
   "cell_type": "markdown",
   "metadata": {},
   "source": [
    "Does there exist a relationship between the frequency of passing restaurant health inspection scores and income levels within the Los Angeles County?"
   ]
  },
  {
   "cell_type": "markdown",
   "metadata": {},
   "source": [
    "## Background and Prior Work"
   ]
  },
  {
   "cell_type": "markdown",
   "metadata": {},
   "source": [
    "Los Angeles is a large city with a very diverse socioeconomic composition. Within Los Angeles County, you can find both very low and very high income neighborhoods and both are regularly studied through data collection programs including the US Census and IRS tax statistics.\n",
    "\n",
    "Food safety is vitally important in the operation of restaurants and knowledge thereof would therefore prove valuable to many food scientists around the world.\n",
    "\n",
    "The study of food safety and its relationship with socioeconomic factors isn't new as a similar study was conducted in Pennsylvania (linked in Reference #3) which concluded that a stratified approach to delivering food inspections would certainly have an effect on passing inspection scores.\n",
    "\n",
    "References (include links):\n",
    "    - 1)IRS Individual Income Tax Statistics by ZIP Code for 2017: https://www.irs.gov/statistics/soi-tax-stats-individual-income-tax-statistics-2017-zip-code-data-soi\n",
    "    - 2)LA County Health Inspection Statistics: https://data.lacounty.gov/Health/LOS-ANGELES-COUNTY-RESTAURANT-AND-MARKET-INSPECTIO/6ni6-h5kp/data\n",
    "    - 3)Philadelphia, Pennsylvania Food Safety and Socioeconomic Factors Study: https://www.ncbi.nlm.nih.gov/pmc/articles/PMC5349477/"
   ]
  },
  {
   "cell_type": "markdown",
   "metadata": {},
   "source": [
    "# Hypothesis\n"
   ]
  },
  {
   "cell_type": "markdown",
   "metadata": {},
   "source": [
    "I hypothesize that the relative income levels of an area will certainly be an indicator for percentage of passing inspection scores and can be used to tune effectiveness of future health inspections.\n",
    "\n",
    "I believe it is logical to conclude that lower income neighborhoods may have less resources to uphold food safety standards even though these standards are constant across income levels."
   ]
  },
  {
   "cell_type": "markdown",
   "metadata": {},
   "source": [
    "# Data"
   ]
  },
  {
   "cell_type": "markdown",
   "metadata": {},
   "source": [
    "The ideal dataset for this project would have geographical data about health inspections (most easily using ZIP Codes) and be able to provide time ranges for the collection process. In addition, having a dataset providing relative income levels within the same geographical and temporal arrangements would be ideal.\n",
    "\n",
    "Because Los Angeles covers such a large area and contains hundreds of restaurants, the dataset must be relatively large to be able to represent individual ZIP Codes fairly (e.g. less than 5 restaurants in a ZIP Code would not be representative)."
   ]
  },
  {
   "cell_type": "markdown",
   "metadata": {},
   "source": [
    "# Ethics & Privacy"
   ]
  },
  {
   "cell_type": "markdown",
   "metadata": {},
   "source": [
    "The project will use public datasets made public by recognized institutions. Some which come to mind are the US Census's and IRS's data on relative income levels by ZIP code and LACounty's health inspection records by restaurant.\n",
    "\n",
    "No datasets will require extra permission but may encounter biases. For example, tax return information may not be accurate as a marker of average income because many people don't pay taxes for several reasons (e.g. unemployment, very low income, etc).\n",
    "\n",
    "Because much of the data is based off of survey data (e.g. US Census), the data may also be affected by outliers (people who don't take the survey seriously, people who feel strongly about the survey, etc)."
   ]
  }
 ],
 "metadata": {
  "kernelspec": {
   "display_name": "Python 3",
   "language": "python",
   "name": "python3"
  },
  "language_info": {
   "codemirror_mode": {
    "name": "ipython",
    "version": 3
   },
   "file_extension": ".py",
   "mimetype": "text/x-python",
   "name": "python",
   "nbconvert_exporter": "python",
   "pygments_lexer": "ipython3",
   "version": "3.6.7"
  }
 },
 "nbformat": 4,
 "nbformat_minor": 2
}
