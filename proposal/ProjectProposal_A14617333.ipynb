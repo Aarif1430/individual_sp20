{
 "cells": [
  {
   "cell_type": "markdown",
   "metadata": {},
   "source": [
    "# COGS 108 - Project Proposal"
   ]
  },
  {
   "cell_type": "markdown",
   "metadata": {},
   "source": [
    "# Names & PID\n",
    "\n",
    "- Name: Yuxin Li\n",
    "- PID: A14617333"
   ]
  },
  {
   "cell_type": "markdown",
   "metadata": {},
   "source": [
    "# Research Question"
   ]
  },
  {
   "cell_type": "markdown",
   "metadata": {},
   "source": [
    "To want extend is health inspection of restaurants correlated to their yelp information in San Diego? "
   ]
  },
  {
   "cell_type": "markdown",
   "metadata": {},
   "source": [
    "## Background and Prior Work"
   ]
  },
  {
   "cell_type": "markdown",
   "metadata": {},
   "source": [
    "The health issues are always the most signficant and arguable topic in the contemporary world. The government is starting to care about the restaurant health inspection. San Diego is a famous tourism city. Every year, not only local residents but also many travelers visited San Diego and enjoyed delicious food. After knowing the importance of the catering, I decided to research the relationship between the health inspection of restaurants and Yelp information. Since Yelp is the most common application people use to choose the restaurant, under this background, I want to deeply realize the Yelp rating, comment and other information will reveal the health inspection of restaurants. Moreover, recently, yelp provides the health score for each restaurant and I want to figure out whether this information is credible as well. Last but not least, I found some similar prior work about predicting restaurant health inspection Penalty scores from Yelp reviews, which focused on the review text to analyze them to get the relationship with the health inspection. Another research doing the same thing called Yelp versus inspection reports. There is also an article \"Yelp's new health score doesn't mean what you think they do\" to doubt the credibility of Yelp's health score. \n",
    "\n",
    "References (include links):\n",
    "- 1) Research from UCSD students Shashank Uppoor and Shreyas Pathre Balakrishna: https://cseweb.ucsd.edu/classes/wi15/cse255-a/reports/fa15/036.pdf \n",
    "- 2) Research from Park H, Kim J, Almanza B on 2016 June: https://www.ncbi.nlm.nih.gov/pubmed/27348977\n",
    "- 3) Article from mercury news: https://www.mercurynews.com/2018/08/09/yelps-new-health-scores-dont-mean-what-you-think-they-do/"
   ]
  },
  {
   "cell_type": "markdown",
   "metadata": {},
   "source": [
    "# Hypothesis\n"
   ]
  },
  {
   "cell_type": "markdown",
   "metadata": {},
   "source": [
    "I predict that there will be a positive correlation between Yelp information like rating, reviews and health inspection of restaurants in San Diego. More specifically, the restaurant with higher rating and more positive reviews will have higher health inspection. "
   ]
  },
  {
   "cell_type": "markdown",
   "metadata": {},
   "source": [
    "# Data"
   ]
  },
  {
   "cell_type": "markdown",
   "metadata": {},
   "source": [
    "*Explain what the ideal dataset you would want to answer this question. (This should include: What variables? How many observations? Who/what/how would these data be collected? How would these data be stored/organized?)*\n",
    "\n",
    "The ideal dataset I wanted should contain all of the restaurants which have information on Yelp and have health inspection scores in San Diego. Since the number is not so large, or if the collection is still too hard or resources consuming, I will randomly get information from different locations, type(means Chinese,Korean,Seafood restaurants) restaurants. The dataset should contain variables like restaurant information like restaurant name, location, type; Yelp information about this restaurant like ratings, total numbers of reviews, some review examples and other information; health inspection score for each restaurant and the data for given score and maybe the inspector as well. \n",
    "\n",
    "The data contains two parts. The first part of the data from Yelp should be collected from the Yelp application. To search online to find the open dataset Yelp provides or to get the information one by one from Yelp after getting their permission. The other part of the data from health inspection of restaurants could be obtained from the website or there are also applications to search for a score of health inspection as well. \n",
    "\n",
    "If we could get the dataset that is already provided by Yelp and the health inspection office and if it is the dataset, we could directly use it. Otherwise, we could use the method Professor teached in class to format data into tidy dataset.\n",
    "In the end, we could use the restaurant name(ID) as a key to join the two datasets together. \n"
   ]
  },
  {
   "cell_type": "markdown",
   "metadata": {},
   "source": [
    "# Ethics & Privacy"
   ]
  },
  {
   "cell_type": "markdown",
   "metadata": {},
   "source": [
    "*Fill in your ethics & privacy discussion here*\n",
    "I will go through the nine aspects to determine my project's ethics and privacy. \n",
    "1. the question: the context and background I already investigated and provided in the previous paragraph.\n",
    "2. the implications: my project does not have any nefarious influence to other groups, since the data are collected from the authorized organization. \n",
    "3. the data: I will find the data from the open source or the API. If I do not get the permission, I would not use them directly. \n",
    "4. informed consent: there will be no participation in my dataset, all my data will get from Yelp and health inspection office. If they list some of the restaurants that do not want provided information, I will not use the data. \n",
    "5. privacy: I will find the data from the open source or the API. If I do not get the permission, I would not use them directly. \n",
    "6. evaluation: my measurement is not a target since all the data is already collected and will not change immediately. \n",
    "7. analysis: this correlation is meaningful since if it is a positive correlation, people could from Yelp, the most viewed application for choosing a restaurant to get valid information for the health inspection, which helps promote the health inspection of restaurants. \n",
    "8. transparency and appeal: my project is a black box. I would not use any information to metaphor anything.\n",
    "9. continuous monitoring: since my project is just focused on current information, I will mark the information about the time stamp for my project. And if I have ability, I will continuously update the information.\n"
   ]
  }
 ],
 "metadata": {
  "kernelspec": {
   "display_name": "Python 3",
   "language": "python",
   "name": "python3"
  },
  "language_info": {
   "codemirror_mode": {
    "name": "ipython",
    "version": 3
   },
   "file_extension": ".py",
   "mimetype": "text/x-python",
   "name": "python",
   "nbconvert_exporter": "python",
   "pygments_lexer": "ipython3",
   "version": "3.7.6"
  }
 },
 "nbformat": 4,
 "nbformat_minor": 2
}
