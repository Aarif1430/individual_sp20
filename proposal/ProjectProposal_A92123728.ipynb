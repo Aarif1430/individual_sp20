{
 "cells": [
  {
   "cell_type": "markdown",
   "metadata": {},
   "source": [
    "# COGS 108 - Project Proposal"
   ]
  },
  {
   "cell_type": "markdown",
   "metadata": {},
   "source": [
    "# Names & PID\n",
    "\n",
    "- Name: Aaron Broukhim\n",
    "- PID: A92123728"
   ]
  },
  {
   "cell_type": "markdown",
   "metadata": {},
   "source": [
    "# Research Question"
   ]
  },
  {
   "cell_type": "markdown",
   "metadata": {},
   "source": [
    "Is the standard deviation of mean scores of restuarant inspectors in Los Angeles large? Do some inspectors report certain critical risk factors and good retail practices at a higher rate than their peers?"
   ]
  },
  {
   "cell_type": "markdown",
   "metadata": {},
   "source": [
    "## Background and Prior Work"
   ]
  },
  {
   "cell_type": "markdown",
   "metadata": {},
   "source": [
    "*Fill in your background and prior work here. Be sure to specify which statements are from which references.* \n",
    "\n",
    "References (include links):\n",
    "- 1) My parents owned a restaurant for 20 years that recently closed down. I asked them if they had any complaints about their experiences with the inspectors and they expressed concern with the inconcistency of the inspectors & the lack inspections in general due to budget cuts. They explained that you are assigned a new inspector each year and if that inspector is more strict than others it could result in the restaurant closing down in extreme cases. One bad inspector could end a restaurant since they only rotate once a year and it takes two <70 scres to close a restaurant. When a new inspector was assigned they didn'd know what to expect becuase each inspector seemed to have a different agenda than the last. Consistency seems very important when it could affect how a person/family earns their income so its important that the city ensures their inspectors are all on the same page. Another solution could be to rotate the inspectors more frequently. \n",
    "- 2)https://www.ncbi.nlm.nih.gov/pmc/articles/PMC3323064/ in tennessee the mean inspection of individual inspectors was between 69 and 92. We also see a jump from 69 and 70 indicating that inspectors dont like to give below a 70 to restaurants. \n",
    "- 3) https://www.foodandwine.com/news/restaurant-health-inspections-time-day-study there also has been reporting that time of day has an impact on the score a restauarant recieves. My parents mentioned that some inspectors comes during rush hour which has a much more likely chance of viiolations than on a slower day. \n"
   ]
  },
  {
   "cell_type": "markdown",
   "metadata": {},
   "source": [
    "# Hypothesis\n"
   ]
  },
  {
   "cell_type": "markdown",
   "metadata": {},
   "source": [
    "The standard deviation will be greater than 10 points, indicating that there is large variability in the score a restaurant will get depending on who it is inspecting their restaurant."
   ]
  },
  {
   "cell_type": "markdown",
   "metadata": {},
   "source": [
    "# Data"
   ]
  },
  {
   "cell_type": "markdown",
   "metadata": {},
   "source": [
    "For every health inspector in los angeles that has done over 100 inspections the data will includes all their scores. \n",
    "Variables would consist of the mean & median of the score & the percent chance that the inspector will report a certain violation for each of the violations. There are 52 potential violations.\n",
    "Rows wil be arranged by the respective inspector's anonymous unique ID. Variables above will be the columns. "
   ]
  },
  {
   "cell_type": "markdown",
   "metadata": {},
   "source": [
    "# Ethics & Privacy"
   ]
  },
  {
   "cell_type": "markdown",
   "metadata": {},
   "source": [
    "Inspectors will not be mentioned by name and any restaurant names or other data that could potentially infer an inspector will be left out. The only data will be the number from the reports themselves. Restaurant names will also be left out to protect the privacy of restaurant owners. Data would need to be received from county of los angeles public health. Biases could include if certain inspectors are sent to only certain regions of los angeles with lower/higher average restaurant scores. Age of data could be aa factor and needs to be considered, maybe visualize data by year of inspection or set a cutoff point for how old data can be. "
   ]
  },
  {
   "cell_type": "code",
   "execution_count": null,
   "metadata": {},
   "outputs": [],
   "source": []
  }
 ],
 "metadata": {
  "kernelspec": {
   "display_name": "Python 3",
   "language": "python",
   "name": "python3"
  },
  "language_info": {
   "codemirror_mode": {
    "name": "ipython",
    "version": 3
   },
   "file_extension": ".py",
   "mimetype": "text/x-python",
   "name": "python",
   "nbconvert_exporter": "python",
   "pygments_lexer": "ipython3",
   "version": "3.6.7"
  }
 },
 "nbformat": 4,
 "nbformat_minor": 2
}
