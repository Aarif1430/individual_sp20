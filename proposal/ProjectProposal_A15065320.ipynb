{
 "cells": [
  {
   "cell_type": "markdown",
   "metadata": {},
   "source": [
    "# COGS 108 - Project Proposal"
   ]
  },
  {
   "cell_type": "markdown",
   "metadata": {},
   "source": [
    "# Names & PID\n",
    "\n",
    "- Name: Bennett \n",
    "- PID: A15065320"
   ]
  },
  {
   "cell_type": "markdown",
   "metadata": {},
   "source": [
    "# Research Question"
   ]
  },
  {
   "cell_type": "markdown",
   "metadata": {},
   "source": [
    "What is the relationship between a restaurant's total revenue and a high grade on a health inspection?"
   ]
  },
  {
   "cell_type": "markdown",
   "metadata": {},
   "source": [
    "## Background and Prior Work"
   ]
  },
  {
   "cell_type": "markdown",
   "metadata": {},
   "source": [
    "There are guidelines that influence the score a resaurant receives when it has a health inspection, and these guidelines, which are established on a county level, outline critical risk factors such as fire, flood, and insanitary conditions, that can cause a restaurant to be closed immediately. Obviously, then the simple answer to the proposed question is that the relationship is as follows: make sure that your resaurant doesn't have any imminent health hazards so you don't get closed; it's the easiest way to make more than zero dollars.\n",
    "\n",
    "There is an established link to the ways people make their dining decisions and the grade that restaurants receive on health inspections. According to a study done in New York City in 2012, 88 percent of diniers use the letter grades from health inspections in making their dining decisions and 76 percent feel more confident eating in an \"A\" restaurant. While I could not find any specific study that compared restaurant revenue and the scores on health inspections, the fact that so many consumers take this into account lends itself to a possible correlation in the two values.\n",
    "\n",
    "    \n",
    "References:\n",
    "- 1) LA County Reference Guide for the Food Official Inspection Report http://www.publichealth.lacounty.gov/EH/docs/RefGuideFoodInspectionReport.pdf\n",
    "- 2) NYC Health Press Release https://www1.nyc.gov/site/doh/about/press/pr2017/pr031-17.page"
   ]
  },
  {
   "cell_type": "markdown",
   "metadata": {},
   "source": [
    "# Hypothesis\n"
   ]
  },
  {
   "cell_type": "markdown",
   "metadata": {},
   "source": [
    "Restaurants that recieve higher grades on health inspections will then see economic benfit. This is because people care about the quality of the food they eat, and restaurants will receive higher volumes of foot traffic, and therefore more money, when they have a higher score on a health inspection."
   ]
  },
  {
   "cell_type": "markdown",
   "metadata": {},
   "source": [
    "# Data"
   ]
  },
  {
   "cell_type": "markdown",
   "metadata": {},
   "source": [
    "One significant variable for this study is information about health inspections. Information regarding when a business received a health inspection that resulted in their overall score is crucial. The other significant variable for this study is a restaurant's gross income. Because inspections are administered on a location by location basis, the data regarding the gross income of the resaurant would also need to be on a location by location basis. The data could be stored in two separate tables, the first being the health score for each restaurant over time and the second being the revenue for each restaurant over time. Ideally, 50 or more restaurant locations could be studied. I would need to also study restaurants that serve different food types to remove any potential bias the general public might have in overlooking a bad score for one food type than another. "
   ]
  },
  {
   "cell_type": "markdown",
   "metadata": {},
   "source": [
    "# Ethics & Privacy"
   ]
  },
  {
   "cell_type": "markdown",
   "metadata": {},
   "source": [
    "Data regarding the results of health inspections is available to the public for any restaurant in LA county and any other county I checked in California. As far as I can tell, there are no laws or other guidelines that prevent someone from using this data in a study such as this one. Data regarding the gross income of single restaurants may be harder to come by. Information regarding total revenue for a chain of restaurants may be available, but data for specific locations may not be available to the general public. Furthermore, information regarding the profits of smaller businesses might be hard to find if that business does not have publicly traded stocks.\n",
    "\n",
    "One issue with the possible population I would be sampling from for this study is it would be limited to one county. Specific laws and guidelines regarding health inspections are established on a county by county basis, so to have equitability across the standards by which the restaurants in the study are judged they would all need to come to the same county. I would choose a large county, like Los Angeles county, for this study because there are many restaurants in LA county that serve all types of foods. That way, the sample size could remain relatively large even though all the restaurants came from a single county."
   ]
  },
  {
   "cell_type": "code",
   "execution_count": null,
   "metadata": {},
   "outputs": [],
   "source": []
  }
 ],
 "metadata": {
  "kernelspec": {
   "display_name": "Python 3",
   "language": "python",
   "name": "python3"
  },
  "language_info": {
   "codemirror_mode": {
    "name": "ipython",
    "version": 3
   },
   "file_extension": ".py",
   "mimetype": "text/x-python",
   "name": "python",
   "nbconvert_exporter": "python",
   "pygments_lexer": "ipython3",
   "version": "3.6.7"
  }
 },
 "nbformat": 4,
 "nbformat_minor": 2
}
