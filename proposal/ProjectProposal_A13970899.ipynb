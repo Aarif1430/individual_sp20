{
 "cells": [
  {
   "cell_type": "markdown",
   "metadata": {},
   "source": [
    "# COGS 108 - Project Proposal"
   ]
  },
  {
   "cell_type": "markdown",
   "metadata": {},
   "source": [
    "# Names & PID\n",
    "\n",
    "- Name: Hongyi Pan\n",
    "- PID: A13970899"
   ]
  },
  {
   "cell_type": "markdown",
   "metadata": {},
   "source": [
    "# Research Question"
   ]
  },
  {
   "cell_type": "markdown",
   "metadata": {},
   "source": [
    "How do restaurants fail health inspection?"
   ]
  },
  {
   "cell_type": "markdown",
   "metadata": {},
   "source": [
    "## Background and Prior Work"
   ]
  },
  {
   "cell_type": "markdown",
   "metadata": {},
   "source": [
    "Health inspections are regulated by manual inspection, which means they are subject to bias and bad judgements. The goal of this project is to examine the large scale pattern of health inspection, particularlly on the distirbutin of inspection scores and violation distribution, to discovery the less obvious trends in the inspection data. For instance, refernce 1 is a study that shows inspection scores are biased by the time of the inspection. The goal of this project is to find bias or pattern such as these from avaiable health inspection datasets.\n",
    "\n",
    "References (include links):\n",
    "- 1) https://www.foodsafetynews.com/2018/05/harvard-researchers-say-fixing-food-safety-inspectors-schedules-could-end-many-violations/\n",
    "- 2) https://www.hbs.edu/faculty/Publication%20Files/Ibanez_and_Toffel_2019_ManSci_AiA_inclSupplement_d24f2c0d-e451-4ff1-883b-138495d6a9a0.pdf\n",
    "- 3) https://www.hbs.edu/faculty/Publication%20Files/Luca_Inspections_328fbdfc-4cbe-4b8e-8549-3a21c7a56279.pdf"
   ]
  },
  {
   "cell_type": "markdown",
   "metadata": {},
   "source": [
    "# Hypothesis\n"
   ]
  },
  {
   "cell_type": "markdown",
   "metadata": {},
   "source": [
    "For each health inspection violation, a description of the violation is given. For instance: \"Plumbing not properly installed or maintained\". And accordingly, some score or classification is given. I want to anwser the question \"how do restaurants fail health inspection\" by looking at the correlation between various features of the inspection data, particularly text analysis of the violation description and inspection score to interpret various critical factors that influences health inpection. A specific example would be \"Using some NLP methods (say, naive bayes), how does the word \"plumbing\" impact the inspection score?"
   ]
  },
  {
   "cell_type": "markdown",
   "metadata": {},
   "source": [
    "# Data"
   ]
  },
  {
   "cell_type": "markdown",
   "metadata": {},
   "source": [
    "The datasets will come from public repos such as Kaggle.\n",
    "- https://www.kaggle.com/new-york-city/nyc-inspections\n",
    "- https://www.kaggle.com/meganrisdal/la-county-restaurant-inspections-and-violations#violations.csv\n",
    "- https://www.kaggle.com/chicago/chicago-food-inspections\n",
    "- https://www.kaggle.com/chicago/chi-restaurant-inspections\n",
    "  \n",
    "  The key feature I'm looking for is the violation description and a violation score."
   ]
  },
  {
   "cell_type": "markdown",
   "metadata": {},
   "source": [
    "# Ethics & Privacy"
   ]
  },
  {
   "cell_type": "markdown",
   "metadata": {},
   "source": [
    "As health inspection data are public knowledge, I do not see issues regarding privacy"
   ]
  }
 ],
 "metadata": {
  "kernelspec": {
   "display_name": "Python 3",
   "language": "python",
   "name": "python3"
  },
  "language_info": {
   "codemirror_mode": {
    "name": "ipython",
    "version": 3
   },
   "file_extension": ".py",
   "mimetype": "text/x-python",
   "name": "python",
   "nbconvert_exporter": "python",
   "pygments_lexer": "ipython3",
   "version": "3.6.7"
  }
 },
 "nbformat": 4,
 "nbformat_minor": 2
}
