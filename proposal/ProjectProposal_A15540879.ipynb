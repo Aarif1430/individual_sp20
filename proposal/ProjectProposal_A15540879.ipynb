{
 "cells": [
  {
   "cell_type": "markdown",
   "metadata": {},
   "source": [
    "# COGS 108 - Project Proposal"
   ]
  },
  {
   "cell_type": "markdown",
   "metadata": {},
   "source": [
    "# Names & PID\n",
    "\n",
    "- Name: Selena Somvilay\n",
    "- PID: A15540879"
   ]
  },
  {
   "cell_type": "markdown",
   "metadata": {},
   "source": [
    "# Research Question"
   ]
  },
  {
   "cell_type": "markdown",
   "metadata": {},
   "source": [
    "Are health inspection ratings consistent among restaurants in the same municipalities?"
   ]
  },
  {
   "cell_type": "markdown",
   "metadata": {},
   "source": [
    "## Background and Prior Work"
   ]
  },
  {
   "cell_type": "markdown",
   "metadata": {},
   "source": [
    "Health inspection practices vary from state to state and even amongst cities. However, do rating practices maintain consistency within the same city or area? Although there is a standardized Food Code set by the U.S. Food and Drug Administration (FDA), it is not enforced nor is it mandatory for restaurants to follow on a federal level. According to the FDA’s website, the FDA Food Code is used for a model for local, state, tribal, and federal regulators to develop their own set of rules (1). Dining Grades, which is a website created by Dr. Harlan Stueven who is a Board Certified Emergency physician, discussed why restaurant grading solutions should maintain consistency. On this website, Dr. Stueven reviews the variances between health inspection practices and says, 'If noteworthy variance exists in the latitude and the application of compliance measurement, the scoring becomes less valuable in protecting the public safety, is unfair to the restaurant, and confusing to the public' (2). In Dr. Stueven’s Dining Grades database he found that 'between 97% to 100% of all inspections are perfect in multiple municipalities, yet the probability of getting a perfect grade in other municipalities may be as low as 28%'.",
    "In addition to this, the symbol of a letter grade (the A, B, and C ratings seen in restaurants) isn’t consistent with the actual health of the restaurant. Letter grade results can be skewed with more restaurants earning an A when in reality there are some major health violations. In an article by the San Gabriel Valley Tribune, 'What that restaurant letter grade isn’t telling you about health and cleanliness' (Stephanie K. Baer, 2017), it brings up the fact that restaurants can hold a high grade while they get shut down. In San Gabriel Valley, 1069 permit suspensions were issued to restaurants, but 1015 (around 95%) of them had received an A or B grading (3). Some possible reasons why there is inflation for the amount of A’s and B’s given to restaurants could be due to the socioeconomic implications involved. Two research papers that discuss the impacts of grade posting are 'Food Safety Inspections and Storefront Grade Posting: The Case of NYC and LA' by Steven Tarca and Dr. Kevin Murphy (4) and 'Impact of Internet Posting of Restaurant Inspection Scores on Critical Violations' by A. Blake Waters et. al. (5). \n",
    "\n",
    "References (include links):\n",
    "- 1) https://www.fda.gov/food/retail-food-protection/fda-food-code",
    "- 2) https://www.dininggrades.com/blog/restaurant-grading-solutions/",
    "- 3) https://www.sgvtribune.com/2015/06/25/what-that-restaurant-letter-grade-isnt-telling-you-about-health-and-cleanliness/",
    "- 4) https://www.researchgate.net/profile/Kevin_Murphy19/publication/309282692_Food_Safety_Inspections_and_Storefront_Grade_Posting_The_case_of_NYC_and_LA/links/5845859408ae8e63e6286287/Food-Safety-Inspections-and-Storefront-Grade-Posting-The-case-of-NYC-and-LA.pdf",
    "- 5) http://www.jstor.org/stable/26329643"
   ]
  },
  {
   "cell_type": "markdown",
   "metadata": {},
   "source": [
    "# Hypothesis\n"
   ]
  },
  {
   "cell_type": "markdown",
   "metadata": {},
   "source": [
    "Health inspection ratings are not consistent within municipalities. The amount of variance make it difficult to standardize a single health guideline. A point-based rating system with something like colored placards would be a more effective way to demonstrate the health status of a restaurant instead of a grade-based system because the grades have a certain connotation attached."
   ]
  },
  {
   "cell_type": "markdown",
   "metadata": {},
   "source": [
    "# Data"
   ]
  },
  {
   "cell_type": "markdown",
   "metadata": {},
   "source": [
    "An ideal dataset would have proportions of restaurants who have recieved an A or B grading and have shut down shortly after. Datasets that can compare the health inspection history of two restaurants within the same chain in different parts of a city. Data that compares the health inspection rating to reviews left by customers (from Yelp or Google Reviews).",
    "Data that compares different A rating restaurants and how they may differ in health practices. In addition to this, understanding the health inspection standards for the city in question would benefit me so I can understand why there is variance (if there is any)."
   ]
  },
  {
   "cell_type": "markdown",
   "metadata": {},
   "source": [
    "# Ethics & Privacy"
   ]
  },
  {
   "cell_type": "markdown",
   "metadata": {},
   "source": [
    "An ethical concern may be bias from Dr. Stueven’s Dining Grades website because Dr. Stueven has a clear stance on dining grade consistency, therefore some data that is present may be biased to support a certain argument. Although Stueven seems credible, one still has to be careful when using data derived for an agenda. To handle this, the data presented on the website should be verified and cross-referenced with a different set of data.",
    "Some other concerns would be trying to get an honest or accurate account on the actual cleanliness of restaurants. This may be difficult if the only source of cleanliness information was from health inspections. Additionally, this may be a privacy concern if restaurant owners are unwilling to share more information than necessary about their establishment. Although it would be ideal to obtain data from a large variety of restaurants, a way to handle this would be to exclude these restaurants from the data however include the reason why the restaurant was not included."
   ]
  }
 ],
 "metadata": {
  "kernelspec": {
   "display_name": "Python 3",
   "language": "python",
   "name": "python3"
  },
  "language_info": {
   "codemirror_mode": {
    "name": "ipython",
    "version": 3
   },
   "file_extension": ".py",
   "mimetype": "text/x-python",
   "name": "python",
   "nbconvert_exporter": "python",
   "pygments_lexer": "ipython3",
   "version": "3.7.0"
  }
 },
 "nbformat": 4,
 "nbformat_minor": 2
}
