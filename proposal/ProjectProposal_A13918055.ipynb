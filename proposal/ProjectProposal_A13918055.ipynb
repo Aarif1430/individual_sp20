{
 "cells": [
  {
   "cell_type": "markdown",
   "metadata": {},
   "source": [
    "# COGS 108 - Project Proposal"
   ]
  },
  {
   "cell_type": "markdown",
   "metadata": {},
   "source": [
    "# Names & PID\n",
    "\n",
    "- Name: Kenji Sommers\n",
    "- PID: A13918055"
   ]
  },
  {
   "cell_type": "markdown",
   "metadata": {},
   "source": [
    "# Research Question"
   ]
  },
  {
   "cell_type": "markdown",
   "metadata": {},
   "source": [
    "Is there a relationship between an inspector’s schedule and the scores they give restaurants?"
   ]
  },
  {
   "cell_type": "markdown",
   "metadata": {},
   "source": [
    "## Background and Prior Work"
   ]
  },
  {
   "cell_type": "markdown",
   "metadata": {},
   "source": [
    "Amidst the current COVID-19 pandemic, public health is under intense scrutiny. However, COVID and other airborne illnesses are not the only threat to the public. Foodborne diseases cause approximately 128,000 hospitalizations and 3,000 deaths each year (Ibanez). Our frontline defenses against this are our health inspectors who bear the task of assessing the sanitation of our food service institutions. How can we help them perform consistent, quality inspections and safeguard public health? \n\nThe San Diego County’s Health Inspection website details pertinent information about inspection procedure. There are 3 types of inspection: routine, reinspection, and status verification. A routine inspection is a recurring, comprehensive inspection of a facility that produces a grade. A reinspection is a site visit to confirm compliance with a previous violation. A status verification simply is a visit that verifies continued operation or ownership change. During an assessment, the inspector notes each health violation and its corresponding severity. The violations are tallied and subtracted from 100. A score of 79 or less is a failing grade, however, this does not necessarily mean the restaurant will be forcibly shut down (SD Food Info).\n\nBetween the detailed oriented nature of their position and dealing with unsanitary conditions, a health inspector’s job is rigorous. Naturally, some wonder what biases these factors introduce when calculating health assessments. Management scientists Maria Ibanez and Michael Toffel explored this very idea in their research. They argue an inspector will document more violations after visiting a site with worse compliance levels and cite fewer violations if their site schedule is packed with appointments (Ibanez)",
    "\n",
    "References:\n",
    "- 1) Ibanez, Maria R., and Michael W. Toffel. “How Scheduling Can Bias Quality Assessment: Evidence from Food-Safety Inspections.” Management Science, 8 July 2019, doi:10.1287/mnsc.2019.3318.\nhttps://www.hbs.edu/faculty/Publication%20Files/Ibanez_and_Toffel_2019_ManSci_AiA_inclSupplement_d24f2c0d-e451-4ff1-883b-138495d6a9a0.pdf\n",
    "- 2) “SD Food Info.” San Diego County Environmental Health, San Diego County,\nwww.sandiegocounty.gov/content/sdc/deh/fhd/ffis/intro.html.html."
   ]
  },
  {
   "cell_type": "markdown",
   "metadata": {},
   "source": [
    "# Hypothesis\n"
   ]
  },
  {
   "cell_type": "markdown",
   "metadata": {},
   "source": [
    "I hypothesize that the data will demonstrate a relationship between an inspector's schedule and the scores they give restaurants similar to the results of Ibanez and Toffel’s research. Inspectors are not infallible and are subject to variance and biases due to a number of factors. I think their schedule, especially if it contains a site with poor conditions, would influence them to document violations differently."
   ]
  },
  {
   "cell_type": "markdown",
   "metadata": {},
   "source": [
    "# Data"
   ]
  },
  {
   "cell_type": "markdown",
   "metadata": {},
   "source": [
    "My ideal data set requires several key pieces of information for analysis:\n",
    "- 1) Inspector ID: To measure a specific inspector’s health grades over time and compare it with others.\n",
    "- 2)Restaurant Health Score: To document the trend of an inspector’s grades over time.\n",
    "- 3)Restaurant Grade Time & Date: To order the scores chronologically so the grade variance can be measured over time.\n\n",
    "The data should be stored in a table where each column represents a variable and each row represents an observation. In this case,     an observation would be one health inspection event. Ideally, I would have thousands of observations to limit the variance between       the inspectors and ensure ample data for each given inspector."
   ]
  },
  {
   "cell_type": "markdown",
   "metadata": {},
   "source": [
    "# Ethics & Privacy"
   ]
  },
  {
   "cell_type": "markdown",
   "metadata": {},
   "source": [
    "Due to the setup of this investigation, ethics and privacy concerns are mitigated. At its core, this investigation is ethical because it is exploring how to improve our public health institutions. Because I won’t use any identifying information for restaurants or inspectors, we protect their privacy while examining the data. As far as data collection, I am unable to mitigate possible biases because I will receive this data from the course. "
   ]
  }
 ],
 "metadata": {
  "kernelspec": {
   "display_name": "Python 3",
   "language": "python",
   "name": "python3"
  },
  "language_info": {
   "codemirror_mode": {
    "name": "ipython",
    "version": 3
   },
   "file_extension": ".py",
   "mimetype": "text/x-python",
   "name": "python",
   "nbconvert_exporter": "python",
   "pygments_lexer": "ipython3",
   "version": "3.7.0"
  }
 },
 "nbformat": 4,
 "nbformat_minor": 2
}
