{
 "cells": [
  {
   "cell_type": "markdown",
   "metadata": {},
   "source": [
    "# COGS 108 - Project Proposal"
   ]
  },
  {
   "cell_type": "markdown",
   "metadata": {},
   "source": [
    "# Names & PID\n",
    "\n",
    "- Name: Kenji Sommers\n",
    "- PID: A13918055"
   ]
  },
  {
   "cell_type": "markdown",
   "metadata": {},
   "source": [
    "# Research Question"
   ]
  },
  {
   "cell_type": "markdown",
   "metadata": {},
   "source": [
    "Is there a relationship between an inspector’s schedule and the scores they give restaurants?"
   ]
  },
  {
   "cell_type": "markdown",
   "metadata": {},
   "source": [
    "## Background and Prior Work"
   ]
  },
  {
   "cell_type": "markdown",
   "metadata": {},
   "source": [
    "Amidst the current COVID-19 pandemic, public health is under intense scrutiny. However, COVID and other airborne illnesses are not the only threat to the public. Foodborne diseases cause approximately 128,000 hospitalizations and 3,000 deaths each year (Ibanez). Our frontline defenses against this are our health inspectors who bear the task of assessing the sanitation of our food service institutions. How can we help them perform consistent, quality inspections and safeguard public health? \n\nThe San Diego County’s Health Inspection website details pertinent information about inspection procedure. There are 3 types of inspection: routine, reinspection, and status verification. A routine inspection is a recurring, comprehensive inspection of a facility that produces a grade. A reinspection is a site visit to confirm compliance with a previous violation. A status verification simply is a visit that verifies continued operation or ownership change. During an assessment, the inspector notes each health violation and its corresponding severity. The violations are tallied and subtracted from 100. A score of 79 or less is a failing grade, however, this does not necessarily mean the restaurant will be forcibly shut down (SD Food Info).\n\nBetween the detailed oriented nature of their position and dealing with unsanitary conditions, a health inspector’s job is rigorous. Naturally, some wonder what biases these factors introduce when calculating health assessments. Management scientists Maria Ibanez and Michael Toffel explored this very idea in their research. They argue an inspector will document more violations after visiting a site with worse compliance levels and cite fewer violations if their site schedule is packed with appointments (Ibanez). 
",
    "\n",
    "References (include links):\n",
    "- 1)Ibanez, Maria R., and Michael W. Toffel. “How Scheduling Can Bias Quality Assessment: Evidence from Food-Safety Inspections.” Management Science, 8 July 2019, doi:10.1287/mnsc.2019.3318.\n",
    "- 2)“SD Food Info.” San Diego County Environmental Health, San Diego County, www.sandiegocounty.gov/content/sdc/deh/fhd/ffis/intro.html.html."
   ]
  },
  {
   "cell_type": "markdown",
   "metadata": {},
   "source": [
    "# Hypothesis\n"
   ]
  },
  {
   "cell_type": "markdown",
   "metadata": {},
   "source": [
    "*State and defend your hypotheses here.*"
   ]
  },
  {
   "cell_type": "markdown",
   "metadata": {},
   "source": [
    "# Data"
   ]
  },
  {
   "cell_type": "markdown",
   "metadata": {},
   "source": [
    "*Explain what the ideal dataset you would want to answer this question. (This should include: What variables? How many observations? Who/what/how would these data be collected? How would these data be stored/organized?)*"
   ]
  },
  {
   "cell_type": "markdown",
   "metadata": {},
   "source": [
    "# Ethics & Privacy"
   ]
  },
  {
   "cell_type": "markdown",
   "metadata": {},
   "source": [
    "*Fill in your ethics & privacy discussion here*"
   ]
  }
 ],
 "metadata": {
  "kernelspec": {
   "display_name": "Python 3",
   "language": "python",
   "name": "python3"
  },
  "language_info": {
   "codemirror_mode": {
    "name": "ipython",
    "version": 3
   },
   "file_extension": ".py",
   "mimetype": "text/x-python",
   "name": "python",
   "nbconvert_exporter": "python",
   "pygments_lexer": "ipython3",
   "version": "3.7.0"
  }
 },
 "nbformat": 4,
 "nbformat_minor": 2
}
