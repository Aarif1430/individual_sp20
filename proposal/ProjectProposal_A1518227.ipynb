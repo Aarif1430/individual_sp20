{
 "cells": [
  {
   "cell_type": "markdown",
   "metadata": {},
   "source": [
    "# COGS 108 - Project Proposal"
   ]
  },
  {
   "cell_type": "markdown",
   "metadata": {},
   "source": [
    "# Names & PID\n",
    "\n",
    "- Name: Todd Nguyen\n",
    "- PID: A15183227"
   ]
  },
  {
   "cell_type": "markdown",
   "metadata": {},
   "source": [
    "# Research Question"
   ]
  },
  {
   "cell_type": "markdown",
   "metadata": {},
   "source": [
    "What is the relationship between the amount of minor violations to most recent health scores throughout San Francisco Restaurants, to ensure health score consistency throughout San Francisco?"
   ]
  },
  {
   "cell_type": "markdown",
   "metadata": {},
   "source": [
    "## Background and Prior Work"
   ]
  },
  {
   "cell_type": "markdown",
   "metadata": {},
   "source": [
    "While brainstorming a research question, I struggled to formulate questions that could directly improve the health inspection process. Thus, I decided to rather have a strong focus on ensuring that the process of health inspection is consistent in their scoring. Although this isn't directly improving the process, it's aimed to find small mistakes, from health inspectors, to ensure that all scores are consistent and fair. \n",
    "\n",
    "This is vital because health scores are an important method to predict outbreaks of foodborne illness (2). Restaurants with poor inspection scores are shown to be five or even ten times more likely to have a foodborne illness outbreak when compared to control restaurants that had higher inspection scores (2). Therefore, if a restaurant is mistakingly scored too high, this may leave customers susceptible to a likely chance of foodborne illness. On the other hand, if a restaurant is mistakingly scored too low, this could take away tons of potential customers that stray away from the restaurant because of the score, affecting sales and possibly shutting down a business. Thus, getting an exact score, consistent with all other restaurants, is important. \n",
    "\n",
    "I formulated this question when researching the San Francisco Food Safety Program, which monitors food safety regulation in San Francisco (1). While looking through some specific data observations through their \"Find Score\" link, I noticed that even though some restaurants had the same amount of minor violations, their scores were slightly different (3). \n",
    "\n",
    "\n",
    "References (include links):\n",
    "- 1)https://www.sfdph.org/dph/EH/Food/Score/Violation.asp (San Francisco- Food Safety Program: Violation Types)\n",
    "- 2)https://ajph.aphapublications.org/doi/abs/10.2105/AJPH.79.5.586 (Results of routine restaurant inspections can predict outbreaks of foodborne illness: the Seattle-King County experience.)\n",
    "- 3)https://101g-xnet.sfdph.org:8443/ords/eeopn/f?p=132:2:::NO::P2_LOCATIONID:67330 (\"Find Score\", Department of Public Health, San Francisco) "
   ]
  },
  {
   "cell_type": "markdown",
   "metadata": {},
   "source": [
    "# Hypothesis\n"
   ]
  },
  {
   "cell_type": "markdown",
   "metadata": {},
   "source": [
    "I believe that there will be a correlation that restaurants with fewer minor violations will have higher health inspection scores, but that there may be a small amount of outliers whose scores do not match the usual trend. \n",
    "\n",
    "This could be due to just human error by the health inspector, possible bias, and more. "
   ]
  },
  {
   "cell_type": "markdown",
   "metadata": {},
   "source": [
    "# Data"
   ]
  },
  {
   "cell_type": "markdown",
   "metadata": {},
   "source": [
    "The ideal dataset would include ID of restaurants, restaurant names, the most recent health inspection scores given to that restaurant, and the amount of minor violations that the restaurant had during their inspection. \n",
    "\n",
    "A big data approach should be used, gathering data from every restaurant in San Francisco, to allow for equity of finding any inconsistencies. This data could be collected from the \"Find Score\" link from the Department of Public Health San Francisco (3). I could also attempt to look for datasets that are widely available to me like the UCSD Library Data Services. \n",
    "\n",
    "The data would be organized by having each variable measured in a single column (ID of restaurants, restaurant names, etc.) and every observation of a variable would be in a different row (1234, Todd's Vegan Cafe, etc.). I believe that these variables could be stored in the same table since they are very similar types of data. This approach to tidying data will allow for a consistent structure and strong organization. "
   ]
  },
  {
   "cell_type": "markdown",
   "metadata": {},
   "source": [
    "# Ethics & Privacy"
   ]
  },
  {
   "cell_type": "markdown",
   "metadata": {},
   "source": [
    "Data science should always be done in a way that is equitable, have a respect for privacy and consent, and does not further create undue harm. The primary  goal of this research would be to enforce equity through all restaurants in terms of the way they're scored. I understand that data science is very powerful process, but it should be done with care to allow any stakeholders to not be harmed. \n",
    "\n",
    "The data has been posted publicly online and is available. It is directly from the San Francisco government and there is a wide amount of data on the site. \n",
    "\n",
    "There is a challenge of ensuring a good measure, to not target specific data since we would be looking for inconsistencies, and to not harm anyone's jobs. Thus, I believe evaluating the data set from an overall point of view would be ethically right. What I mean by this is that if the data isn't exactly correlated, then reformation of the entire health inspection system should be enforced. I would not be gathering data on who exactly inspected the restaurants, ensuring that no one is specifically at risk. This sticks to the purpose of the prompt, we're not trying to point out specific inspectors for doing a bad job, we're trying to see if the process is consistent throughout. "
   ]
  }
 ],
 "metadata": {
  "kernelspec": {
   "display_name": "Python 3",
   "language": "python",
   "name": "python3"
  },
  "language_info": {
   "codemirror_mode": {
    "name": "ipython",
    "version": 3
   },
   "file_extension": ".py",
   "mimetype": "text/x-python",
   "name": "python",
   "nbconvert_exporter": "python",
   "pygments_lexer": "ipython3",
   "version": "3.6.7"
  }
 },
 "nbformat": 4,
 "nbformat_minor": 2
}
