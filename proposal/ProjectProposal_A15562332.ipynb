{
 "cells": [
  {
   "cell_type": "markdown",
   "metadata": {},
   "source": [
    "# COGS 108 - Project Proposal"
   ]
  },
  {
   "cell_type": "markdown",
   "metadata": {},
   "source": [
    "# Names & PID\n",
    "\n",
    "- Name: Sam Schwartz\n",
    "- PID: A15562332"
   ]
  },
  {
   "cell_type": "markdown",
   "metadata": {},
   "source": [
    "# Research Question"
   ]
  },
  {
   "cell_type": "markdown",
   "metadata": {},
   "source": [
    "Do health inspections at restaurants affect the likelihood of foodborne illnesses?"
   ]
  },
  {
   "cell_type": "markdown",
   "metadata": {},
   "source": [
    "## Background and Prior Work"
   ]
  },
  {
   "cell_type": "markdown",
   "metadata": {},
   "source": [
    "According to the CDC, there are conflicting conclusions on whether health inspections at restaurants correlate to decreased likelihood of foodborne illnesses. (1)\n",
    "\n",
    "According to customers, hygine of a restaurant is extremely important in restaurant choice and may be a deciding factor in dining decisions. (2)\n",
    "\n",
    "\n",
    "References (include links):\n",
    "- 1) https://wwwnc.cdc.gov/eid/article/10/4/03-0343_article\n",
    "- 2) https://onlinelibrary.wiley.com/doi/abs/10.1111/j.1748-0159.2009.00151.x"
   ]
  },
  {
   "cell_type": "markdown",
   "metadata": {},
   "source": [
    "# Hypothesis\n"
   ]
  },
  {
   "cell_type": "markdown",
   "metadata": {},
   "source": [
    "Hypothesis: Health inspections at restaurants affect the likelihood of foodborne illnesses.\n",
    "\n",
    "Why?: Even though the CDC showed conflicting conclusions on whether health inspections at restaurants correlate to decreased likelihood of foodborne illnesses, there haven't been enough studies to show a correlation. I strongly believe that health inspections at restaurants will decrease the likelihood of foodborne illnesses because if a restaurant is unclean and their building is not up to date on regulations, I think that would be an unclean place to manage food, leading to possible contamination of produce."
   ]
  },
  {
   "cell_type": "markdown",
   "metadata": {},
   "source": [
    "# Data"
   ]
  },
  {
   "cell_type": "markdown",
   "metadata": {},
   "source": [
    "Ideally, my dataset would have the variables of: Inspection date, inspection letter grade, what kind of inspection (regular or surprise), the number of people allowed in the facility, a collection of the number of people who have given complaints of foodborne illness after eating the restaurant's food, violations (if any), number of previous violations in the last 5 years, and what kinds of inspections did the inspector perfom (looking at building, food handling, etc.) Ideally, I would have around 250-300 observations collected from the departments of public health in the city that I'm analyzing, and would be stored in a csv file with the variables as the columns and the observations as the rows."
   ]
  },
  {
   "cell_type": "markdown",
   "metadata": {},
   "source": [
    "# Ethics & Privacy"
   ]
  },
  {
   "cell_type": "markdown",
   "metadata": {},
   "source": [
    "To protect the privacy of those sampled, names of restaurants and those who have given complaints will be omitted or just not sampled because they are irrelevant and could potentially lead to unforseen consequences."
   ]
  },
  {
   "cell_type": "code",
   "execution_count": null,
   "metadata": {},
   "outputs": [],
   "source": []
  }
 ],
 "metadata": {
  "kernelspec": {
   "display_name": "Python 3",
   "language": "python",
   "name": "python3"
  },
  "language_info": {
   "codemirror_mode": {
    "name": "ipython",
    "version": 3
   },
   "file_extension": ".py",
   "mimetype": "text/x-python",
   "name": "python",
   "nbconvert_exporter": "python",
   "pygments_lexer": "ipython3",
   "version": "3.6.7"
  }
 },
 "nbformat": 4,
 "nbformat_minor": 2
}
