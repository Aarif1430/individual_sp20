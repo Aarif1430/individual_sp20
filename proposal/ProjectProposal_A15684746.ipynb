{
 "cells": [
  {
   "cell_type": "markdown",
   "metadata": {},
   "source": [
    "# COGS 108 - Project Proposal"
   ]
  },
  {
   "cell_type": "markdown",
   "metadata": {},
   "source": [
    "# Names & PID\n",
    "\n",
    "- Name: Zehua Tang\n",
    "- PID: A15684746"
   ]
  },
  {
   "cell_type": "markdown",
   "metadata": {},
   "source": [
    "# Research Question"
   ]
  },
  {
   "cell_type": "markdown",
   "metadata": {},
   "source": [
    "Topic:  Health Inspections\n",
    "\n",
    "Question: For reducing the restaurant inspection processing, what kinds of food that cause the most food illness in different states so that government can force on those food in order to have higher efficiency inspection?\n"
   ]
  },
  {
   "cell_type": "markdown",
   "metadata": {},
   "source": [
    "## Background and Prior Work"
   ]
  },
  {
   "cell_type": "markdown",
   "metadata": {},
   "source": [
    "*Fill in your background and prior work here. Be sure to specify which statements are from which references.* \n",
    "\n",
    "References (include links):\n",
    "- 1)The rate of food insecurity for different state in America have been present as a diagram that some of the state have higher rate food insecurity problem shows some of them near average and the rest of them below average.\n",
    "   \n",
    "https://www.ers.usda.gov/topics/food-nutrition-assistance/food-security-in-the-us/key-statistics-graphics.aspx\n",
    "   \n",
    "- 2)Different food that cause the illness  ratio in the United States for compare which kind of the food have the higher rate for causing the illness and pick one of foods inside and search the consumption of this food in different states in order to see which state have the higher food safety.\n",
    "\n",
    "https://www.cdc.gov/foodsafety/cdc-and-food-safety.html"
   ]
  },
  {
   "cell_type": "markdown",
   "metadata": {},
   "source": [
    "# Hypothesis\n"
   ]
  },
  {
   "cell_type": "markdown",
   "metadata": {},
   "source": [
    "The problem restaurant in every states should have the relation with the food import, and the food inspection carefulness. Therefore, I am looking for those problem food and the place that import those food in order to summarize a set of data for showing which state have the higher problem with the food import, so that we can have the scense that those place should have a higher frequency for inspection.\n"
   ]
  },
  {
   "cell_type": "markdown",
   "metadata": {},
   "source": [
    "# Data"
   ]
  },
  {
   "cell_type": "markdown",
   "metadata": {},
   "source": [
    "*Explain what the ideal dataset you would want to answer this question. (This should include: What variables? How many observations? Who/what/how would these data be collected? How would these data be stored/organized?)*\n",
    "\n",
    "The variables I would have is the number of the food illness happen in different states and the name of the detail that government going to inspect.Those variables I would like to store as the JSON file since it contain different state, therefore it will be better with a key name which is state and with a value, so that it is easier for me to find the data.The number of the observation should include all the state so and it is around 50."
   ]
  },
  {
   "cell_type": "markdown",
   "metadata": {},
   "source": [
    "# Ethics & Privacy"
   ]
  },
  {
   "cell_type": "markdown",
   "metadata": {},
   "source": [
    "*Fill in your ethics & privacy discussion here*\n",
    "\n",
    "Since all the data that is proivde from the professor, therefore I believe all the data proivded have the permission for education purpose. In addition, the question I ask will be not biases for any states, since I am looking for the date overall the United States. And the scope or my inverstigation will be the problem food corresponding to different states.In my opinion, the unintended consequences maybe is the state biase, since different state have different kinds of food problem, so that government will base on the conclusion only force on inspecting those food but omit other food for that particular state. The data is available since I can find data in the government webpage.For the data privacy concerns, it maybe hurt the reputation of the state that the most issues. For those issues that identified, I would like to find the imformation more reliable,find those data more that one website, and try not to find the data that have the biases. For the reputation issue, it will not have the biases result overall the state, I would like to prove that the food is retive to my topic, therefore, I will not open the source for public."
   ]
  },
  {
   "cell_type": "code",
   "execution_count": null,
   "metadata": {},
   "outputs": [],
   "source": []
  }
 ],
 "metadata": {
  "kernelspec": {
   "display_name": "Python 3",
   "language": "python",
   "name": "python3"
  },
  "language_info": {
   "codemirror_mode": {
    "name": "ipython",
    "version": 3
   },
   "file_extension": ".py",
   "mimetype": "text/x-python",
   "name": "python",
   "nbconvert_exporter": "python",
   "pygments_lexer": "ipython3",
   "version": "3.7.6"
  }
 },
 "nbformat": 4,
 "nbformat_minor": 2
}
