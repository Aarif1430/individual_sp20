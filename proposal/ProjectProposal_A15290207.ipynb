{
 "cells": [
  {
   "cell_type": "markdown",
   "metadata": {},
   "source": [
    "# COGS 108 - Project Proposal"
   ]
  },
  {
   "cell_type": "markdown",
   "metadata": {},
   "source": [
    "# Names & PID\n",
    "\n",
    "- Name: Aurelio Barrios\n",
    "- PID: A15290207"
   ]
  },
  {
   "cell_type": "markdown",
   "metadata": {},
   "source": [
    "# Research Question"
   ]
  },
  {
   "cell_type": "markdown",
   "metadata": {},
   "source": [
    "Does the health inspection grade of a restaurant depend on where the restaurant is located? How would the average household income of an area affect the health inspection grade of restaurants in that area?"
   ]
  },
  {
   "cell_type": "markdown",
   "metadata": {},
   "source": [
    "## Background and Prior Work"
   ]
  },
  {
   "cell_type": "markdown",
   "metadata": {},
   "source": [
    "The first reference I have listed is an article about how data scientists, that were trying to predict real estate market prices, discovered that restaurant health inspection results helped make better predictions. These data scientists used restaurants of a certain area to better understand the price of apartments in that sorrounding area. This article makes it clear that there is some sort of relationship between health inspection results and the sorrounding economy of that restaurant. Now does the health inspection result affect the sorrounding economy or does the sorrounding economy affect the health inspection result? Is it a two way street? The purpose of my analysis is to try and determine if the sorrounding economy affects the health inspection result of its restaurants. This article helped me understand that there is a relationship between health inspection codes and the sorrounding economy. It is up to my analysis to determine if there is a positive relationship where better health inspection results means a better sorrounding economy or if there is a negative relationship or what if it turns out there is no relationship at all. \n",
    "    \n",
    "The second reference is a little less related to my topic of analysis but it still provides some insights onto why I chose my analysis. The article is about how the website Yelp was choosing to alert its users about restaurants that had a low grade on their health inspection. According to the article the website would alert \"Consumer alert: low food safety score\" to its users when a restaurant they were viewing had an inspection score of C or worse. What was shocking about this article and what drove me to approach the data analysis in this way was the mention of a particular restaurant in Beverly Hills. The article states, \"one prominent Beverly Hills restaurant got a C rating last October, but then paid a fee for reinspection and got an A.\" My analysis is exploring health inspection codes in different income areas precisely because of this mention in the article. Thinking of restaurants that are in lower income areas unlike Beverly Hills that may be struggling to survive as a business, it seems hard to believe that these restaurants could afford to pay for a reinspection in order to improve their score. It made me think of all the  restaurants that are in higher income areas like Beverly Hills that possibly paid a fee for reinspection in order to improve their score. \n",
    "\n",
    "In order to improve health inspections in the Los Angeles area it is important to understand how the inspections are done. If there is some bias between the inspector and in what city the restaurant is located, it is crucial to uncover this in order to make the inspections fair. Understanding how the sorrounding economy affects health inspection results of restaurants allows for more fairness for those restaurants that are in lower income areas. This analysis would also uncover the effect of having reinspection done for a fee, which would provide an advantage to those restaurants in prominent areas that are better suited to afford these reinspection fees in order to improve their score. Where restaurants that are in lower income areas may not be able to afford this fee. \n",
    "\n",
    "\n",
    "References (include links):\n",
    "- 1) https://www.marketwatch.com/story/how-data-scientists-found-a-link-between-restaurant-inspections-and-new-yorks-wild-real-estate-market-2020-02-03\n",
    "- 2) https://www.nbclosangeles.com/investigations/yelp-warns-consumers-about-la-restaurants-with-bad-grades/2296465/"
   ]
  },
  {
   "cell_type": "markdown",
   "metadata": {},
   "source": [
    "# Hypothesis\n"
   ]
  },
  {
   "cell_type": "markdown",
   "metadata": {},
   "source": [
    "A health inspection grade may already be given even before the inspector steps foot on the restaurant. Generally restaurants in higher income areas are thought of as fancier and therefore there might be some bias towards these restaurants when they are being inspected. Restaurants that are in higher income areas and therefore thought of as fancier will have a higher inspection grade than those that are in communities with a lower income. "
   ]
  },
  {
   "cell_type": "markdown",
   "metadata": {},
   "source": [
    "# Data"
   ]
  },
  {
   "cell_type": "markdown",
   "metadata": {},
   "source": [
    "   The ideal dataset for this analysis would not need to be too complicated. First off we are going to need two different datasets. The first dataset would be a dataset of the restaurants themselves. The goal of the project is to improve health inspections for the city government, therefore we need the restaurant. In this dataset there would be some common variables that are esential. To begin with we would need the name of the restaurant. The name of the restaurant will provide information on which restuarant is being inspected and therefore we could distinguish between restaurants. To follow along with being able to distinguish between restaurants, another useful variable would be the type of the restaurant. The type of a restaurant could be distinguished in two different manners. There could be the different types of restaurants such as fast food or fine dining or we distinguish based on cuisine such as mexican food or italian food. Both these variables would be helpful. Two other variables we would need would be the date of the last inspection and the score given on that date. Lastly in order to perform our analysis we would need the location of the restaurants. This analysis would preferably be done on the Los Angeles area which is an area with a lot of different neighborhoods. Having the neighborhood in which the restaurant belongs too is crucial to the analysis.\n",
    "    \n",
    "The second dataset would be a dateset of the neighborhoods of Los Angeles. This dataset would be used to get information on the income of the neighborhoods of Los Angeles in order to perform our analysis. The variables needed in this dataset would be all the general datapoints of a neighborhood. This will include the name of the neighborhood and the average household income of that neighborhood. Some other variables that can be useful to the analysis would be median household income of each neighborhood and total amount of people in that neighborhood. Median household income would be useful since it can provide better information in the case that there are outliers in the household income making the average income higher thant it should be. \n",
    "    \n",
    "Both our datasets would preferably be store in csv files. These datasets would be tabular data meaning that it is structured in rows where each row contains information about some thing. In the case of our restaurant dataset each row would contain information about the restaurant itself and in the case of our neighborhood dataset each row would contain information about the neighborhood itself. In terms of the restuarant dataset the more observations the better. This would help is truly see if restaurants are affected by where they are situated. If there are a small number of observations for each neighborhood in our dataset then we wouldn't be able to truly know the impact of income on that restaurant. In terms of our neighborhood dataset we are considering all the neighborhoods in the Los Angeles area. So if we come close to this number then it would be considered a good dataset. "
   ]
  },
  {
   "cell_type": "markdown",
   "metadata": {},
   "source": [
    "# Ethics & Privacy"
   ]
  },
  {
   "cell_type": "markdown",
   "metadata": {},
   "source": [
    "To begin with income is always a touchy subject. When dealing with income there are many issues to consider, such as wether or not a person would like to give information about his/her income. There could be people that would prefer not to give information on their income. There is also an issue on how the information is collected. Would a person with a low income be able to give information about their income? What if a person has no income, would they be counted/considered? In terms of my analysis the income that is being analyzed is the overall average income of a neighborhood. There is more anonymity when it comes to the income of a whole neighborhood. Therefore data collection of income could be done anonymously, in case a person does not want to be directly connected to an income. Another thing to consider is that this analysis could be done in terms of average income and median income of a neighborhood. When it comes to average income, people with no income could provide some skew in the data. Therefore if there is a concern of inclusion of people with no income, in order to provide the best results median income could be used to get a better sense of the data. \n",
    "\n",
    "When we collect the income data we must reference it to particular location. This is because we are using restaurant information and income information from a certain neighborhood. When we collect income information we must know what neighborhood that income belongs to. There might be concerns of privacy here, where someone might be concerned addresses are being used. Although for our analysis it is important to know where the income belongs to, the exact location is not so important. We can attribute income to a general area so that there are no concerns with privacy. Most of the ethical implications would come from the collection of income due to the fact that most of the information we need of restaurants is public. For example restaurant addresses are public which will allow us to determine what neighborhood the restaurant belongs to. Restaurant health scores are also public."
   ]
  }
 ],
 "metadata": {
  "kernelspec": {
   "display_name": "Python 3",
   "language": "python",
   "name": "python3"
  },
  "language_info": {
   "codemirror_mode": {
    "name": "ipython",
    "version": 3
   },
   "file_extension": ".py",
   "mimetype": "text/x-python",
   "name": "python",
   "nbconvert_exporter": "python",
   "pygments_lexer": "ipython3",
   "version": "3.6.4"
  }
 },
 "nbformat": 4,
 "nbformat_minor": 2
}
