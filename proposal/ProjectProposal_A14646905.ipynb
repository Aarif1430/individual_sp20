{
 "cells": [
  {
   "cell_type": "markdown",
   "metadata": {},
   "source": [
    "# COGS 108 - Project Proposal"
   ]
  },
  {
   "cell_type": "markdown",
   "metadata": {},
   "source": [
    "# Names & PID\n",
    "\n",
    "- Name: Yiran Shao\n",
    "- PID: A14646905"
   ]
  },
  {
   "cell_type": "markdown",
   "metadata": {},
   "source": [
    "# Research Question"
   ]
  },
  {
   "cell_type": "markdown",
   "metadata": {},
   "source": [
    "How does the amount of imported food of a restaurant influence the number of food safety violations being reported?"
   ]
  },
  {
   "cell_type": "markdown",
   "metadata": {},
   "source": [
    "## Background and Prior Work"
   ]
  },
  {
   "cell_type": "markdown",
   "metadata": {},
   "source": [
    "*Fill in your background and prior work here. Be sure to specify which statements are from which references.* \n",
    "\n",
    "\"There are no simple solutions to addressing the safety hazards since they appear to occur in many different types of foods at all links in the supply chain. The difficulty of addressing problems is highlighted by two high- profile food safety incidents—Chinese dumplings adulterated with toxic pesticide in Japan and infant formula adulterated with melamine—that occurred in 2008 after widespread publicity and tightened food safety vigilance in 2007. The incidents occurred in products of companies with well-known brands, HACCP certifications, and official Chinese “inspection- exempt” status.\"\n",
    "\n",
    "Excerpt From: Gale, Fred & Buzby, Jean. “Imports From China and Food Safety Issues.” (reference 1)\n",
    "\n",
    "\n",
    "“The ethical issues in this situation arise from two factors: (1) many other nations from whom we import do not have the same environmental or health regulations and practices as the United States; and (2) the US regulatory system is not equipped to inspect or guarantee the safety of all the food imported into the country. As a result, consumers are being put at risk once again, with no visible recourse.”\n",
    "\n",
    "Excerpt From: Kaplan, David M. “The Philosophy of Food.” (reference 2)\n",
    "\n",
    "\n",
    "References (include links):\n",
    "- 1) Gale, Fred & Buzby, Jean. (2009). Imports From China and Food Safety Issues. United States Department of Agriculture, Economic Research Service, Economic Information Bulletin. https://www.researchgate.net/publication/46472953_Imports_From_China_and_Food_Safety_Issues\n",
    "- 2)Kaplan, David M., editor. The Philosophy of Food. 1st ed., University of California Press, 2012. JSTOR, www.jstor.org/stable/10.1525/j.ctt7zw2cx. Accessed 25 Apr. 2020."
   ]
  },
  {
   "cell_type": "markdown",
   "metadata": {},
   "source": [
    "# Hypothesis\n"
   ]
  },
  {
   "cell_type": "markdown",
   "metadata": {},
   "source": [
    "There will be a positive correlation between the amount of imported food and the number of food safety violations being reported. The reason is that it is hard to inspect all the food imported from other nations and many nations have different regulations regarding food safety."
   ]
  },
  {
   "cell_type": "markdown",
   "metadata": {},
   "source": [
    "# Data"
   ]
  },
  {
   "cell_type": "markdown",
   "metadata": {},
   "source": [
    "*Explain what the ideal dataset you would want to answer this question. (This should include: What variables? How many observations? Who/what/how would these data be collected? How would these data be stored/organized?)*\n",
    "\n",
    "The ideal dataset should include the total number of kinds of food being imported every year in the restaurant, the total number of all kinds of food being imported every year in the restaurant, the total number of countries from which the reataurant import food, the percentage of weight/number of imported food in all food being used in this restaurant, the number of health safety issues being reported in the restaurant. \n",
    "\n",
    "There should be at least 50000 observations, which means data from 50000 restaurants. The data regarding the food should be collected from the restaurants, they should record this information. The number of health issues being reported should be collected by the government. The data about the amount of imported food in each restaurant should be stored in histograms caretogorized by restaurants. There should be several histograms comparing the different kinds of data, such as one histogram for the total number of countries from which the reataurant import food, and one histogram for the total number of all kinds of food being imported every year in the restaurant. The number of food safety violations should also be stored in a histogram so we can easily compare the numbers for each restaurant. The numbers should be in appropriate units and all the histograms need to have clear labels and titles, just as the professor mentioned in the video about tidy dataset."
   ]
  },
  {
   "cell_type": "markdown",
   "metadata": {},
   "source": [
    "# Ethics & Privacy"
   ]
  },
  {
   "cell_type": "markdown",
   "metadata": {},
   "source": [
    "*Fill in your ethics & privacy discussion here*\n",
    "\n",
    "1. The question\n",
    "My question is \"How does the amount of imported food of a restaurant influence the number of food safety violations being reported?\" I did a lot of research about how health inspection is processed and how the import food are checked for food safety. I know about the context and background of my question and i think it is worth being analyzed. The investigation will include all restaurants in an area, and it may track the number of imported food in the country. It is possible to answer this question well.\n",
    "\n",
    "2. The implications\n",
    "My investigation may influence the restaurants which have to use imported food products, and the companies which export the food products to restaurants in the country. However, the food companies can improve their food safety levels so that their food products are safer and better for people to eat. The food companies can gain better reputation and sell more. As a result the overall food quality will be improved. So generally, the overall unintended consequences should favor people.\n",
    "\n",
    "3. The data\n",
    "I believe that the data i need are available and they are directly related to my question. I have data from the restaurants and the government. There are many restaurants so the number should be enough for my investigation.\n",
    "I don't think the data have any bias because they are real statistics.\n",
    "\n",
    "4. Informed consent\n",
    "The data will be get from health inspection office and the restaurants so all participants would be informed.\n",
    "\n",
    "5. Privacy\n",
    "I can guarantee privacy because the name of the restaurants will definitely be deleted and there would be no private information.\n",
    "\n",
    "6. Evaluation\n",
    "The target is to improve health inspection process, and the measure to evaluate my project will be examining the number of health issues reported by people live in the area. It is a good evaluation method because if there are fewer health issues, then food safety in the restaurants are better and so the inspection process is more successful.\n",
    "\n",
    "7. Analysis\n",
    "My investigation may reflect spurious correlations because the number of food safety violations can be caused by other factors. However, we can examine the reason of the food safety violations, we only take into account the violation if the violation is caused by the imported food, so we can define the causation.\n",
    "\n",
    "8. Transparency and appeal\n",
    "My model is not black box, and all the details and decisions are interpretable and appealable. If someone wants to appeal a model decision, I will review the decision and the reason he gives. If the reason makes sense and the decision does have a bias or limitation, the decision will be canceled.\n",
    "\n",
    "9. Continuous monitoring\n",
    "I will track the changes related to my data, assumptions, and evaluation metrics. I will proactively looking for potential unintended side effects of my model itself or harmful outputs. I will be able to fix and update your algorithm."
   ]
  }
 ],
 "metadata": {
  "kernelspec": {
   "display_name": "Python 3",
   "language": "python",
   "name": "python3"
  },
  "language_info": {
   "codemirror_mode": {
    "name": "ipython",
    "version": 3
   },
   "file_extension": ".py",
   "mimetype": "text/x-python",
   "name": "python",
   "nbconvert_exporter": "python",
   "pygments_lexer": "ipython3",
   "version": "3.7.4"
  }
 },
 "nbformat": 4,
 "nbformat_minor": 2
}
