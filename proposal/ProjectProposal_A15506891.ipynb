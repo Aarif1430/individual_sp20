{
 "cells": [
  {
   "cell_type": "markdown",
   "metadata": {},
   "source": [
    "# COGS 108 - Project Proposal"
   ]
  },
  {
   "cell_type": "markdown",
   "metadata": {},
   "source": [
    "# Names & PID\n",
    "\n",
    "- Name: Johnny Tran\n",
    "- PID: A15506891"
   ]
  },
  {
   "cell_type": "markdown",
   "metadata": {},
   "source": [
    "# Research Question"
   ]
  },
  {
   "cell_type": "markdown",
   "metadata": {},
   "source": [
    "What effective procedures should San Diego's Health Inspection implement to ensure safety practices and prevent undetected violations that would contribute to the spread of food-borne illnesses to customers and workers?"
   ]
  },
  {
   "cell_type": "markdown",
   "metadata": {},
   "source": [
    "## Background and Prior Work"
   ]
  },
  {
   "cell_type": "markdown",
   "metadata": {},
   "source": [
    "*Fill in your background and prior work here. Be sure to specify which statements are from which references.* \n",
    "Amidst the Covid-19 epidemic, the caution for safe food preparation procedures have increased, where customers have become more cautions when buying/ordering food to prevent themselves from contracting the virus. While most food chains have switched to food delivery only, some restaurants have decided to remain open. Which is why, safety practices and procedures must be enforced even more during such an epidemic and health inspection procedures must be much for harsh to prevent the spread of the virus through restaurants and their food. For this, inspections should enforce safety practices that ensure the safety of workers as well as customers from food plants to restaurants to customer's homes (https://www.foodbusinessnews.net/articles/15740-covid-19-forces-fda-to-alter-food-safety-inspection-practices)\n",
    "\n",
    "Health inspection biases has caused issues regarding health safety for restaurants and customers. As a result food-borne illnesses have been spreading because of these health inspection biases. There health inspection biases occur because health inspections seem obligated to report less violation and implement less harsh inspections for more established restaurants. As a result, these restuarants have unreported violations that are continued to be put in practice, placing potential risks for workers as well as customers. Which is why https://hbr.org/2019/05/to-improve-food-inspections-change-the-way-theyre-scheduled has suggested to consider inspection bias because of potential risks it has, which is especially important now amidst the epidemic.\n",
    "\n",
    "References (include links):\n",
    "- 1) https://www.foodbusinessnews.net/articles/15740-covid-19-forces-fda-to-alter-food-safety-inspection-practices\n",
    "- 2) https://hbr.org/2019/05/to-improve-food-inspections-change-the-way-theyre-scheduled"
   ]
  },
  {
   "cell_type": "markdown",
   "metadata": {},
   "source": [
    "# Hypothesis\n"
   ]
  },
  {
   "cell_type": "markdown",
   "metadata": {},
   "source": [
    "I believe that health inspection procedures are biased and should be changed so that all restaurants receive equal enforcement of safety practices regardless of restaurant reputation so that we can ensure the safety of customers and workers."
   ]
  },
  {
   "cell_type": "markdown",
   "metadata": {},
   "source": [
    "# Data"
   ]
  },
  {
   "cell_type": "markdown",
   "metadata": {},
   "source": [
    "*Explain what the ideal dataset you would want to answer this question. (This should include: What variables? How many observations? Who/what/how would these data be collected? How would these data be stored/organized?)*\n",
    "The ideal dataset I would want to answer this question is one that shows restaurant reports of food-borne illneses reported following a health inspection as well as the amount of violations detected following those inspections. Through this, I will be able to see how restaurants that have changed/improved safety practices for those that have a high reputation and that don't have similar reputations. And through this, we can see that health inspections needs to be more enforced and effective during inspections for all restuarants disregarding reputation to prevent illnesses from spreading.\n",
    "\n",
    "As for how the information would be stored and what kind of observations the data would have, it would ideally be a line graph with a time vs. food-borne illness reports from restaurants alongside another graph showing when inspections occurred at what time and the amount of violations reported. Through this, we would be able to conclude whether inspection and violations reported correlate to the improvement of restaurants to reduce food-borne illnesses from occurring.\n",
    "\n",
    "Regarding who the data would be reported on, it would be range from restaurants in San Diego that hold high reputations/are popular to those that aren't. So that we can see the effects of inspections across the board for all restaurants and whether their reputation plays into violations reported and illnesses reported."
   ]
  },
  {
   "cell_type": "markdown",
   "metadata": {},
   "source": [
    "# Ethics & Privacy"
   ]
  },
  {
   "cell_type": "markdown",
   "metadata": {},
   "source": [
    "*Fill in your ethics & privacy discussion here*\n",
    "A possible issue arising from my project is that because we are comparing restaurants based on their reputations, there will be an issue with the amount of reports. For restaurants that have high reputation, there will be a high possibility that it would have more reports than those with a lower reputation because more people go to those restaurants in general, and as a result, that would make the data unconsistent across different restaurants.\n",
    "\n",
    "Another issue that could arise is that not everyone who contract food-borne illnesses from restaurants will report their illness, and as a result, we can't fully conclude a certain number of people that contract illnesses from restaurants.\n",
    "\n",
    "Another potential issue is that while San Diego is a large city, its areas are broken down into different social-economical background and as a result, the background of the people reporting will be different and might remove from the consistency of the data."
   ]
  }
 ],
 "metadata": {
  "kernelspec": {
   "display_name": "Python 3",
   "language": "python",
   "name": "python3"
  },
  "language_info": {
   "codemirror_mode": {
    "name": "ipython",
    "version": 3
   },
   "file_extension": ".py",
   "mimetype": "text/x-python",
   "name": "python",
   "nbconvert_exporter": "python",
   "pygments_lexer": "ipython3",
   "version": "3.6.7"
  }
 },
 "nbformat": 4,
 "nbformat_minor": 2
}
