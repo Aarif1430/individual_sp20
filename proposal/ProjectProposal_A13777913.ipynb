{
 "cells": [
  {
   "cell_type": "markdown",
   "metadata": {},
   "source": [
    "# COGS 108 - Project Proposal"
   ]
  },
  {
   "cell_type": "markdown",
   "metadata": {},
   "source": [
    "# Names & PID\n",
    "\n",
    "- Name: Ruben Gonzalez\n",
    "- PID: A13777913"
   ]
  },
  {
   "cell_type": "markdown",
   "metadata": {},
   "source": [
    "# Research Question"
   ]
  },
  {
   "cell_type": "markdown",
   "metadata": {},
   "source": [
    "Does scheduling restaurant health inspections in peak hours help improve the accuracy of the score?"
   ]
  },
  {
   "cell_type": "markdown",
   "metadata": {},
   "source": [
    "## Background and Prior Work"
   ]
  },
  {
   "cell_type": "markdown",
   "metadata": {},
   "source": [
    "The first reference comes from an article from the Harvard Business Review. The article highlights the need to make changes to the scheduling of food inspections in order to improve their accuracy. The article focuses on a research project they made that sought to find ways to improve how local government inspectors handle the task of ensuring the safety of food preparation in the many establishments they inspect. Similar to the questioned I proposed, they found that the time these inspections were handled affected how the inspectors scored establishments. They found that inspectors who worked until late cited fewer citations than on inspections they made earlier in the day. They also found that when they cited more citations earlier in the day they tended to be stricter on their next inspections. They finally proposed to mitigate scheduling that resulted in fewer citations and increase scheduling that increased the number of citations.\n",
    "\n",
    "The second reference comes from an article that focuses on the public perception of health inspections compared to how they are actually handled. The article highlights a phone survey of 2000 adults in Tennessee from 2006, in which respondents were asked about their knowledge and opinion on the health inspection system. Over half of the respondents believed that inspections occurred 5 to 12 times a year, much higher than the actual 2 times a year that occurred then. More importantly, 70% said that health inspections were very important in protecting the customer. Then 77% believed a score of 80 or more would be the least acceptable for a restaurant they would eat at and 45% of those said they accepted a score 90 or higher. This contrasted the mean score of 82 at the time, where only one third of the restaurants had a score of 90 or higher. This relates to the question at hand because it highlights the public expectation for governments to handle food inspections as accurately as possible. They need to be sure these restaurants are safe to attend and that cannot be possible if inspections are not handles as accurately as possible.\n",
    "\n",
    "References (include links):to \n",
    "- 1) https://hbr.org/2019/05/to-improve-food-inspections-change-the-way-theyre-scheduled\n",
    "- 2) https://www.elsevier.com/about/press-releases/research-and-journals/restaurant-inspections-public-perceptions-vs.-reality"
   ]
  },
  {
   "cell_type": "markdown",
   "metadata": {},
   "source": [
    "# Hypothesis\n"
   ]
  },
  {
   "cell_type": "markdown",
   "metadata": {},
   "source": [
    "I believe that holding health inspections in peak hours for restaurants will lead to stricted and more accurate representation of how well they well the health guidelines. Holding inspections at these hours will lead inspectors to get a better understanding of how the restaurant operates and better see its flaws. "
   ]
  },
  {
   "cell_type": "markdown",
   "metadata": {},
   "source": [
    "# Data"
   ]
  },
  {
   "cell_type": "markdown",
   "metadata": {},
   "source": [
    "The ideal dataset would be an accurate sample of the many inspections that occur across many years. The number of observations should be greater than the number of restaurants in the city, hoping that we would get more than one inspection per restaurant. The variables would include the restaurant name, the score, the name of the inspector, and the date of the inspection. These data would be collected through the public records of health inspections that the city makes public."
   ]
  },
  {
   "cell_type": "markdown",
   "metadata": {},
   "source": [
    "# Ethics & Privacy"
   ]
  },
  {
   "cell_type": "markdown",
   "metadata": {},
   "source": [
    "One possible ethical problem that may come is inspector bias. Some inspectors may be particularly stricter against certain restaurants or even certain communities that may lead to lower scores than they should receive. There is also the opposite end of the spectrum where inspectors may have a preference towards a certain restaurant or community. In order handle inspector bias I have to make sure that restaurants which may have abnormally low scores do not receive those scores as a result of their inspectors. This can be done by making sure that some restaurants have different inspectors across different observations. I could also analyze trends in how inspectors score restaurants and see if they usually score lower towards certain restaurants or across all restaurants. "
   ]
  }
 ],
 "metadata": {
  "kernelspec": {
   "display_name": "Python 3",
   "language": "python",
   "name": "python3"
  },
  "language_info": {
   "codemirror_mode": {
    "name": "ipython",
    "version": 3
   },
   "file_extension": ".py",
   "mimetype": "text/x-python",
   "name": "python",
   "nbconvert_exporter": "python",
   "pygments_lexer": "ipython3",
   "version": "3.6.7"
  }
 },
 "nbformat": 4,
 "nbformat_minor": 2
}
