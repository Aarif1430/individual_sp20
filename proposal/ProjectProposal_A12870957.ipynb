{
 "cells": [
  {
   "cell_type": "markdown",
   "metadata": {},
   "source": [
    "# COGS 108 - Project Proposal"
   ]
  },
  {
   "cell_type": "markdown",
   "metadata": {},
   "source": [
    "# Names & PID\n",
    "\n",
    "- Name: Alexa Acosta\n",
    "- PID: A12870957"
   ]
  },
  {
   "cell_type": "markdown",
   "metadata": {},
   "source": [
    "# Research Question"
   ]
  },
  {
   "cell_type": "markdown",
   "metadata": {},
   "source": [
    "Does gameplay (i.e. abilities specific to classes, interaction with the game world) affect a video game's popularity and sales more than its narrative or established popularity from prequels?"
   ]
  },
  {
   "cell_type": "markdown",
   "metadata": {},
   "source": [
    "## Background and Prior Work"
   ]
  },
  {
   "cell_type": "markdown",
   "metadata": {},
   "source": [
    "It is known that game publishers and companies aim to create huge profits for their games, in the name of horrid worker conditions (Rockstar Games RDR2 scandal), political neutrality (Blitzchung controversy with Blizzard Entertainment), and even plagiarism (Metal Gear Solid 4 theme song). And, in spite of all of that, they still have games touted as one of the greatest in their generations, a masterpiece. So, what really makes for a videogame's popularity that makes people overlook everything else? Is it their captivating design and moving story? Is it their innovative gameplay and immersion?\n",
    "\n",
    "References (include links):\n",
    "- 1) https://www.researchgate.net/publication/236870305_Rules_gameplay_and_narratives_in_video_games\n",
    "- 2) http://www.lgrace.com/documents/Critical%20Games%20Critical%20Design%20in%20Independent%20Games.pdf"
   ]
  },
  {
   "cell_type": "markdown",
   "metadata": {},
   "source": [
    "# Hypothesis\n"
   ]
  },
  {
   "cell_type": "markdown",
   "metadata": {},
   "source": [
    "I hypothesize that gameplay does not affect a video game's popularity any more than its narrative or established popularity from prequels."
   ]
  },
  {
   "cell_type": "markdown",
   "metadata": {},
   "source": [
    "# Data"
   ]
  },
  {
   "cell_type": "markdown",
   "metadata": {},
   "source": [
    "The ideal dataset to help me answer this question are names of the top 10 video games from January 2019 to December 2019 based on units sold in the U.S., separated by genre, if the game is a sequel or a remake, and how many units were sold. This technical information should be readily available. A simple CSV would suffice.\n",
    "\n",
    "Additionally, for each game, a questionnaire to be given to a random sampling of people who bought and played the game for more than 1 hour.\n",
    "\n",
    "The questionnaire would include:\n",
    "- if they were recommended to play the game, either by friends, by reading articles about the game, or because they played a prequel or a game from the same publisher before\n",
    "- if they played a game similar to this game before (based on genre)\n",
    "- if they play the game because they find the gameplay engaging\n",
    "- if they play the game because they find the narrative engaging\n",
    "- (free response) the reasons they play this game\n",
    "- (free response) why they have or have not finished the game"
   ]
  },
  {
   "cell_type": "markdown",
   "metadata": {},
   "source": [
    "# Ethics & Privacy"
   ]
  },
  {
   "cell_type": "markdown",
   "metadata": {},
   "source": [
    "The needed technical information wouldn't be a cause for any privacy issues. The questionnaire does not ask for any personal identifiers besides age and the fact that they were specifically chosen because they were invested in playing the game for more than 1 hour."
   ]
  }
 ],
 "metadata": {
  "kernelspec": {
   "display_name": "Python 3",
   "language": "python",
   "name": "python3"
  },
  "language_info": {
   "codemirror_mode": {
    "name": "ipython",
    "version": 3
   },
   "file_extension": ".py",
   "mimetype": "text/x-python",
   "name": "python",
   "nbconvert_exporter": "python",
   "pygments_lexer": "ipython3",
   "version": "3.7.0"
  }
 },
 "nbformat": 4,
 "nbformat_minor": 2
}
