{
 "cells": [
  {
   "cell_type": "markdown",
   "metadata": {},
   "source": [
    "# COGS 108 - Project Proposal"
   ]
  },
  {
   "cell_type": "markdown",
   "metadata": {},
   "source": [
    "# Names & PID\n",
    "\n",
    "- Name: Daniel Calderon\n",
    "- PID: A15633636"
   ]
  },
  {
   "cell_type": "markdown",
   "metadata": {},
   "source": [
    "# Research Question"
   ]
  },
  {
   "cell_type": "markdown",
   "metadata": {},
   "source": [
    "*Does having a higher number of employees lead to an increased chance of having repeat inspections?*"
   ]
  },
  {
   "cell_type": "markdown",
   "metadata": {},
   "source": [
    "## Background and Prior Work"
   ]
  },
  {
   "cell_type": "markdown",
   "metadata": {},
   "source": [
    "I've worked in the food industry, and have found that sometimes my coworkers were not completely informed about the proper health procedures. \n",
    "the second link also states at one point that points are deducted if \"Staff are unaware of your health and hygiene standards when questioned\"\n",
    "Finally both the first and second link state that repeat inspections may occur if certain violations are found.\n",
    "\n",
    "References (include links):\n",
    "- 1) https://www.cdph.ca.gov/Programs/CEH/DFDCS/CDPH%20Document%20Library/FDB/FoodSafetyProgram/GMPResources/FacilityInspections.pdf\n",
    "- 2) https://blog.typsy.com/how-do-health-inspections-work"
   ]
  },
  {
   "cell_type": "markdown",
   "metadata": {},
   "source": [
    "# Hypothesis\n"
   ]
  },
  {
   "cell_type": "markdown",
   "metadata": {},
   "source": [
    "I believe that the answer will be yes, with an increased chance of a repeat inspection of about 3% for every employee.\n",
    "Communicating all procedures to all of the staff can be difficult at times, and every staff member increases the margin of error. Furthermore, while some staff might just be uninformed, others might be fully aware of the procedures and ignore them out of lazyness."
   ]
  },
  {
   "cell_type": "markdown",
   "metadata": {},
   "source": [
    "# Data"
   ]
  },
  {
   "cell_type": "markdown",
   "metadata": {},
   "source": [
    "The two most important variables are of course the number of inspections an establishment has gone through and the number of employees in that establishment. More specifically, how many of those inspections were not the standard renewal inspections. Other important variables could be employee age/gender, as well as their level of training and position in the kitchen. Furthermore, the establishments turn-over rate, how old it is, and it's prestige/rating out of 5 from something like yelp reviews could provide more insightful data."
   ]
  },
  {
   "cell_type": "markdown",
   "metadata": {},
   "source": [
    "# Ethics & Privacy"
   ]
  },
  {
   "cell_type": "markdown",
   "metadata": {},
   "source": [
    "Considering how it's a discussion of health inspections, an otherwise safe and compliant restaurant could potentially have its reputation tarnished if the public is aware of repeat inspections. Therefore, the anonymity of each restaurant should be considered, and thus it's name and style of cuisine should be obscured/ommited from the data. "
   ]
  },
  {
   "cell_type": "code",
   "execution_count": null,
   "metadata": {},
   "outputs": [],
   "source": []
  }
 ],
 "metadata": {
  "kernelspec": {
   "display_name": "Python 3",
   "language": "python",
   "name": "python3"
  },
  "language_info": {
   "codemirror_mode": {
    "name": "ipython",
    "version": 3
   },
   "file_extension": ".py",
   "mimetype": "text/x-python",
   "name": "python",
   "nbconvert_exporter": "python",
   "pygments_lexer": "ipython3",
   "version": "3.6.7"
  }
 },
 "nbformat": 4,
 "nbformat_minor": 2
}
