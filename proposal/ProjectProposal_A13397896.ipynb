{
 "cells": [
  {
   "cell_type": "markdown",
   "metadata": {},
   "source": [
    "# COGS 108 - Project Proposal"
   ]
  },
  {
   "cell_type": "markdown",
   "metadata": {},
   "source": [
    "# Names & PID\n",
    "\n",
    "- Name: Stephanie Moore\n",
    "- PID: A13397896"
   ]
  },
  {
   "cell_type": "markdown",
   "metadata": {},
   "source": [
    "# Research Question"
   ]
  },
  {
   "cell_type": "markdown",
   "metadata": {},
   "source": [
    "-----------------------------------------------------------------------------------------------------------------------"
   ]
  },
  {
   "cell_type": "markdown",
   "metadata": {},
   "source": [
    "Given the topic of improving the restaurant health inspection process for a city government, I chose to explore the question: \"Is there a relationship between Yelp ratings and restaurants' health inspection scores and can we predict these scores by analyzing at the sentiment of words in Yelp reviews?\""
   ]
  },
  {
   "cell_type": "markdown",
   "metadata": {},
   "source": [
    "## Background and Prior Work"
   ]
  },
  {
   "cell_type": "markdown",
   "metadata": {},
   "source": [
    "-----------------------------------------------------------------------------------------------------------------------"
   ]
  },
  {
   "cell_type": "markdown",
   "metadata": {},
   "source": [
    "Health inspections for restaurants are performed routinly between 1 and 4 times a year. Sites are responsible for displaying the scores of these inspections for customers to see, usually in a window near the entrance [1]. Since the criteria for health inspections differs by county, I decided to look specifically at San Diego for the scope of my project.\n",
    "\n",
    "The steps and criteria for health inspections in San Diego county are as follows:\n",
    "1. \"Each violation on the Food Inspection Report is assigned a point value depending on its importance. For example, a Major Risk Factor is worth four points, a Minor Risk Factor is worth two, and a Good Retail Practice is worth one.\"\n",
    "\n",
    "2. \"Once the Specialist completes an inspection, the points are added up and subtracted from 100. The resulting number is the inspection \"score\".\"\n",
    "\n",
    "3. \"A letter grade is assigned to the facility based on the inspection score. An \"A\" grade means the facility earned a score of 90 to 100 percent and is in satisfactory compliance with state law; a \"B\" means the facility earned a score of 80 to 89 percent and needs improvement; a \"C\" means the facility earned a score of 79 percent or less and is a failing grade.\"\n",
    "\n",
    "4. \"The grade card must be displayed near the public entrance during hours of operation.\"\n",
    "[1]\n",
    "\n",
    "In 2017, an article was published by nbcsandiego.com that found 99% of San Diego restaurants earned a health inspection score of 'A'. This brings to question the efficiency and usefulness of the system [2]. How can we determine if San Diego restaurants are actually in prime health condition or if there is an issue with the system? One idea is try to use Yelp ratings. \n",
    "\n",
    "According to the San Diego Tribune, in 2016 health inspection scores were officially added to Yelp for San Diego. Selected cities had health inspection scores posted since 2013, but not yet for San Diego [5]. The goal of publishing these scores to Yelp was to make the information to a broader population, not just local people who have visted the restaurant but also visitors looking on Yelp for reccomendations. These health inspection scores are updated weekly via a partnership between Yelp and HDSCores [5].  \n",
    "\n",
    "Previous studies on this topic have found consumer reviews have had a significant impact on future consumer behavior [3]. But how much of an impact? To the point of predictive power? Projects and competitions on websites like Kaggle have furthered this research by quantifying the correlation and predictive powers of Yelp review text and Yelp ratings [3, 4]. These projects have focused on classifiying restaurant ratings from the sentiment of the words in the review text [4]. \n",
    "\n",
    "However, this project is going to take that research a step further by adding health inspection scores to the equation. I will be attempting to predict the health inspection scores, rather than the Yelp rating, from the sentiment of Yelp review text.  "
   ]
  },
  {
   "cell_type": "markdown",
   "metadata": {},
   "source": [
    "References:\n",
    "- 1) https://www.sandiegocounty.gov/content/sdc/deh/fhd/ffis/intro.html.html\n",
    "- 2) https://www.nbcsandiego.com/news/local/99-of-san-diego-restaurants-earn-a-grades-bringing-usefulness-of-system-into-question/25381/\n",
    "- 3) https://arxiv.org/abs/1605.05362\n",
    "- 4) https://www.kaggle.com/athoul01/predicting-yelp-ratings-from-review-text\n",
    "- 5) https://www.sandiegouniontribune.com/business/restaurants/sdut-yelp-adds-health-restaurants-inspection-grades-2016mar30-story.html"
   ]
  },
  {
   "cell_type": "markdown",
   "metadata": {},
   "source": [
    "# Hypothesis\n"
   ]
  },
  {
   "cell_type": "markdown",
   "metadata": {},
   "source": [
    "-----------------------------------------------------------------------------------------------------------------------"
   ]
  },
  {
   "cell_type": "markdown",
   "metadata": {},
   "source": [
    "My hypothesis: There is a positive correlation between Yelp ratings and health inspeciton scores and these scores can be predicted to some extent by Yelp reviews. I chose this as my hypothesis based on the past research on the predictive power of reviews for Yelp rating and the fact that the health inspection scores are published on Yelp. "
   ]
  },
  {
   "cell_type": "markdown",
   "metadata": {},
   "source": [
    "# Data"
   ]
  },
  {
   "cell_type": "markdown",
   "metadata": {},
   "source": [
    "The following are ideal designs and descriptions of the data for this project.\n",
    "\n",
    "**What:**\n",
    "Data will include a combination of Yelp ratings/reviews per restaurant as well as restaurant insepection scores for San Diego. The time period for the data I would be assing at would not only be the most recent Yelp reviews, ratings, and health inspection scores, but also data from pre- 2016. This is becuase before 2016, Yelp pages did not post the health inspection scores. I will use this data to see if adding the score to Yelp had an effect on the future health inspection scores. \n",
    "\n",
    "**Variables:**\n",
    "> Restaurant Name, (Average) Rating, Reviews, Inspection Score, Restauran Location\n",
    ">> I will use multiple inspecion scores and the dates of those scores to see how they changed over time. The restaurant location is an important variable to address any possible disparities in number or quality of yelp reviews for restaurant in different [socioeconomical, etc.] areas. Additionally, the health score percentage (not just a letter score) would be helpful to analyze for any 'bunching', or excess mass (data points) in the probability density function that is missing from another part of the distribution.\n",
    "\n",
    "**Observations:**\n",
    "> Each row will represents a restaurant in the San Diego county.\n",
    "\n",
    "**Data Collection Process:**\n",
    "> Data collection will be collected by the official health inpspection association for San Diego County by Yelp through their API that allows people access to privitized yelp review data. \n",
    "\n",
    "**Storage/ Organization:**\n",
    "> Data will be stored in an API accessable to the public or downloadable CSV files. "
   ]
  },
  {
   "cell_type": "markdown",
   "metadata": {},
   "source": [
    "# Ethics & Privacy"
   ]
  },
  {
   "cell_type": "markdown",
   "metadata": {},
   "source": [
    "Since the Yelp dataset (via Yelp's actual API) is already privatized and there is no personal information in health inspection scores, there are no privacy issues with the dataset. However, there are potential biases in the datasets proposed. The areas in which these biases could occur are in who composes the data and the locations that data is more likely to come from. For example, people who leave Yelp reviews usually either really liked it or really hated it (i.e. had some experience worth sharing). This could cause a polarization in the review data as either being very positive or very negative. Additionally, the more people who go to a restaurant, the more opportunities for review that restaurant has. So restaurants who do not get a lot of customers will not have a large amount of data to analyze (i.e. one bad review has a disproportionally negative impact on the Yelp score). This bias targets restaurants in areas with a smaller populations (possible rural areas) or areas of lower socioeconomic status (people do not eat out as much).\n",
    "\n",
    "I will handle these possible issues by running t-tests to see if there is a significant difference between the two populations. I cannot remove the data, as it is an important part of the analysis but I can acknowlege the issue and present the findings of my t-tests. \n",
    "\n",
    "Additionally, the results of my analysis will show that some restaurants have lower health inspection scores and Yelp ratings than others. This could lead people to think that they should not go to these restaurants and potentially negatively impact the restaurants in these lower population and socioeconomic status areas (as mentioned above). I will address this by being very clear in my analysis and findings that a lower Yelp rating or health inspection score does not ncessarily mean the restaurant is 'bad'. "
   ]
  }
 ],
 "metadata": {
  "kernelspec": {
   "display_name": "Python 3",
   "language": "python",
   "name": "python3"
  },
  "language_info": {
   "codemirror_mode": {
    "name": "ipython",
    "version": 3
   },
   "file_extension": ".py",
   "mimetype": "text/x-python",
   "name": "python",
   "nbconvert_exporter": "python",
   "pygments_lexer": "ipython3",
   "version": "3.8.2"
  }
 },
 "nbformat": 4,
 "nbformat_minor": 2
}
