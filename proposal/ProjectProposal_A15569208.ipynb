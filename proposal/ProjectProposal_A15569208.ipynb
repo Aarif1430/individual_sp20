{
 "cells": [
  {
   "cell_type": "markdown",
   "metadata": {},
   "source": [
    "# COGS 108 - Project Proposal"
   ]
  },
  {
   "cell_type": "markdown",
   "metadata": {},
   "source": [
    "# Names & PID\n",
    "\n",
    "- Name: Yitian Wang\n",
    "- PID: A15569208"
   ]
  },
  {
   "cell_type": "markdown",
   "metadata": {},
   "source": [
    "# Research Question"
   ]
  },
  {
   "cell_type": "markdown",
   "metadata": {},
   "source": [
    "I want to see whether local government took online review ratings into their account for the the health inspection and want to see whether online review ratings affect the frequency of health inspections."
   ]
  },
  {
   "cell_type": "markdown",
   "metadata": {},
   "source": [
    "## Background and Prior Work"
   ]
  },
  {
   "cell_type": "markdown",
   "metadata": {},
   "source": [
    "The first Research concludes that online review ratings correlate with the health inspection scores, thus could be used to help predicting the sanitary situations of restaurants(link 1).\n",
    "However, the second research concludes that \n",
    "    - a) Yelp information has lower predictive power than prior inspection history and \n",
    "    - b) Yelp reviews do not significantly improve predictions, given existing information about restaurants and inspection              history\n",
    "References (include links):\n",
    "- 1)https://www3.cs.stonybrook.edu/~junkang/papers/hygiene2013.pdf\n",
    "- 2)Kristen M. Altenburger and Daniel E. Ho. 2019. Is Yelp Actually Cleaning\n",
    "Up the Restaurant Industry? A Re-Analysis on the Relative Usefulness of\n",
    "Consumer Reviews. In Proceedings of the 2019 World Wide Web Conference\n",
    "(WWW ’19), May 13–17, 2019, San Francisco, CA, USA. ACM, New York, NY,\n",
    "USA, 8 pages. https://doi.org/10.1145/3308558.3313683"
   ]
  },
  {
   "cell_type": "markdown",
   "metadata": {},
   "source": [
    "# Hypothesis\n"
   ]
  },
  {
   "cell_type": "markdown",
   "metadata": {},
   "source": [
    "A lower online review ratings may increase the frequency of health inspection visits. However, this might confound with the previous health inspection records, thus I want to analyse those with good previous health inspection records which recently received a bad online review ratings and see whether the frequency of health inspection visits increase or not."
   ]
  },
  {
   "cell_type": "markdown",
   "metadata": {},
   "source": [
    "# Data"
   ]
  },
  {
   "cell_type": "markdown",
   "metadata": {},
   "source": [
    "*Explain what the ideal dataset you would want to answer this question. (This should include: What variables? How many observations? Who/what/how would these data be collected? How would these data be stored/organized?)*\n",
    "\n",
    "The health inspection records of a given time period.\n",
    "The online review ratings and its review time.\n",
    "The amount of health inspections in a given time period."
   ]
  },
  {
   "cell_type": "markdown",
   "metadata": {},
   "source": [
    "# Ethics & Privacy"
   ]
  },
  {
   "cell_type": "markdown",
   "metadata": {},
   "source": [
    "Acknowledgements and consents of their reviews being used in a research must be given.\n",
    "There is a potential bias in the sampling as many online reviewers are voluntarily participating, which can lead to more extreme sentiments. Also, there might be problems with fake reviews to either boost or lower the reputations of a restaurant. However, I think this is part of the analysis as I want to see the effect of online reviews, given its low credibilities, on the frequency of health inspection visits."
   ]
  },
  {
   "cell_type": "code",
   "execution_count": null,
   "metadata": {},
   "outputs": [],
   "source": []
  }
 ],
 "metadata": {
  "kernelspec": {
   "display_name": "Python 3",
   "language": "python",
   "name": "python3"
  },
  "language_info": {
   "codemirror_mode": {
    "name": "ipython",
    "version": 3
   },
   "file_extension": ".py",
   "mimetype": "text/x-python",
   "name": "python",
   "nbconvert_exporter": "python",
   "pygments_lexer": "ipython3",
   "version": "3.7.6"
  }
 },
 "nbformat": 4,
 "nbformat_minor": 2
}
