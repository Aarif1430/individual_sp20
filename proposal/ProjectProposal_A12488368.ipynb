{
 "cells": [
  {
   "cell_type": "markdown",
   "metadata": {},
   "source": [
    "# COGS 108 - Project Proposal"
   ]
  },
  {
   "cell_type": "markdown",
   "metadata": {},
   "source": [
    "# Names & PID\n",
    "\n",
    "- Name: Vladimir Melnik\n",
    "- PID: A12488368"
   ]
  },
  {
   "cell_type": "markdown",
   "metadata": {},
   "source": [
    "# Research Question"
   ]
  },
  {
   "cell_type": "markdown",
   "metadata": {},
   "source": [
    "Do average health inspection results vary as a function of time or date of the inspection?"
   ]
  },
  {
   "cell_type": "markdown",
   "metadata": {},
   "source": [
    "## Background and Prior Work"
   ]
  },
  {
   "cell_type": "markdown",
   "metadata": {},
   "source": [
    "My question is: Do average health inspection results vary as a function of time or date of the inspection? For example, are there more failed inspections during specific periods throughout the year, or perhaps the average scores may be lower for certain periods. If there are periods with lower health compliance, understanding that would help the health office allocate resources properly so that non-compliance isn't being missed. The reason this is important is that if there are periods of lower compliance, and if those periods correlate with higher traffic, there would be a higher percentage of customers that are served under subpar conditions than the general failure rate may indicate. Before correlating the data with traffic, however, we must first generate the data which characterizes inspection score/failure rate vs time.\n",
    "\n",
    "For my project proposal, I am coming from the perspective of a restaurant health inspectons in Tulsa Oklahoma. According to their website, most of their inspections are unannounced and occur at a frequency that is determined by how well the establishment did on their previous inspection. [1] This means that there should be adequate time variation for the research question to be answered. The criteria for passing or failing is clearly listed online[2], and the data for completed inspections is available in two formats, as a webpage[3] and as a pdf[4]. While this is not in tidy-data format, parsing the files should be straightforward since each criterion has only 4 options at most.\n",
    "\n",
    "As far as whether this question has been asked before by the Tulsa Health Inspection department, it is not apparent that it as been asked from the information they provide. They are likely aware from experience if there are trends of high or low compliance, but it is a good idea to do an analytical study of it.\n",
    "\n",
    "Looking further at what other cities have done, I was again unable to find studies or data that focuses specifically on inspection score or failure rate as a function of the time and date of inspection. A lot of the studies done have been focused on inspection frequency [5] These studies are different from the proposed question since they are studying the effects of regulatory pressure on inspection compliance. Answering the proposed question would help us understand if there are time dependent, external, non regulatory pressures that affect compliance.\n",
    "\n",
    "References (include links):\n",
    "- 1) https://www.tulsa-health.org/food-safety/restaurant-inspections/types-inspections\n",
    "- 2) https://www.tulsa-health.org/food-safety/restaurant-inspections/inspection-information\n",
    "- 3) https://ok.healthinspections.us/tulsa/facility.cfm?YWN0aW9uPWRvVmlld0luc3BlY3Rpb24maW5zcGVjdGlvbklEPTQ0NTU2MDMmZmFjaWxpdHlJRD0xMTYxODAy\n",
    "- 4) https://ok.healthinspections.us/_templates/125/Food%20Inspection/_report_full.cfm?ispub=1&inspectionID=3532010&parentTableName=tblInspection&dsn=DHD_125&domainid=125\n",
    "- 5) https://www.ncbi.nlm.nih.gov/pmc/?term=restaurant+inspection"
   ]
  },
  {
   "cell_type": "markdown",
   "metadata": {},
   "source": [
    "# Hypothesis\n"
   ]
  },
  {
   "cell_type": "markdown",
   "metadata": {},
   "source": [
    "I expect that there would be patterns of lower scores depending on the time and date of the inspection, especially for restaurants that are typically lower performers. If a restaurant isn't putting in adequate resources into compliance during a slow weekday, and they barely pass, it isn't hard to imagine that they may fail during a busy weekend, with their time being more divided. "
   ]
  },
  {
   "cell_type": "markdown",
   "metadata": {},
   "source": [
    "# Data"
   ]
  },
  {
   "cell_type": "markdown",
   "metadata": {},
   "source": [
    "The ideal data set would have a single tabe of all the inspections done by the city, dating back as far as possible. I would expect a data set like this to have over 1000 inspections. This data would include an identifier for each location such as the address or their license number, the date of the inspection, the time of the inspection, whether the inspection was a pass or a fail. It would also include each criterion that was checked for and whether they passed that criterion or not. The data would be easiest to parse if it was stored in a stored in a csv file, or another format with tabular data."
   ]
  },
  {
   "cell_type": "markdown",
   "metadata": {},
   "source": [
    "# Ethics & Privacy"
   ]
  },
  {
   "cell_type": "markdown",
   "metadata": {},
   "source": [
    "Whether inspection scores/failure rates vary with time is an ethical question to ask. The goal of doing so is to potentially reduce the health risks of restaurant attendees, which is an ethical thing to do, and the health inspection office has a legal and ethical responsibility of ensuring good health practices in their city. Restaurants are public businesses and their health inspection results are already public, as they should be in order to inform the public of any risks, so analyzing the public data is not an unethical thing to do. Furthermore, the results of the analysis would give general trends, and are not predictive of how any particular establishment may do. Given that, the identifiable ID of each restaurant could be removed from the data, and the result would be the same, however, I would not recommend removing the ID since keeping it would help with follow up research from independent groups. Also, once again, since the information is very public already, there is no need to anonymize the data."
   ]
  }
 ],
 "metadata": {
  "kernelspec": {
   "display_name": "Python 3",
   "language": "python",
   "name": "python3"
  },
  "language_info": {
   "codemirror_mode": {
    "name": "ipython",
    "version": 3
   },
   "file_extension": ".py",
   "mimetype": "text/x-python",
   "name": "python",
   "nbconvert_exporter": "python",
   "pygments_lexer": "ipython3",
   "version": "3.7.4"
  }
 },
 "nbformat": 4,
 "nbformat_minor": 2
}
