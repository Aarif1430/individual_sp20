{
 "cells": [
  {
   "cell_type": "markdown",
   "metadata": {},
   "source": [
    "# COGS 108 - Project Proposal"
   ]
  },
  {
   "cell_type": "markdown",
   "metadata": {},
   "source": [
    "# Names & PID\n",
    "\n",
    "- Name: Brittney Kim\n",
    "- PID: A15056465"
   ]
  },
  {
   "cell_type": "markdown",
   "metadata": {},
   "source": [
    "# Research Question"
   ]
  },
  {
   "cell_type": "markdown",
   "metadata": {},
   "source": [
    "Does the number of cases of food-borne illness from restaurants depend on the number of local health inspectors in San Francisco?\n"
   ]
  },
  {
   "cell_type": "markdown",
   "metadata": {},
   "source": [
    "## Background and Prior Work"
   ]
  },
  {
   "cell_type": "markdown",
   "metadata": {},
   "source": [
    "The guideline for the health inspection process is relatively concise. According to the official page of San Francisco Department of Health, they inspect over 7,000 locations in San Francisco, and the frequency of each visit depends on three criteria of food preparation: type 1--food process with no cook step, type 2--food preparation for same day service, type 3--complex food process. Restaurant are inspected, file scoring system, low, moderate, high risk according. Restaurant scoring with high risk are re-inspected to see improvements \n",
    "\n",
    "Health departments make these assessment in order for the safety for the public, so it's important that scoring system reflect the food-borne illness factor. Yet the ones who make these assessment are people, so they too are subjected fatigue. From a recent from Harvard University, health inspectors, says the timing is related to the numbers of citation made. Health inspectors cite less violations as the day progresses, and they tend to do this too when working later in the day as well. They also found that inspectors that find more violation in a particular location will more likely to exhibit more scrutiny to the next location. Health inspector behavior those have a impact on inspection process.\n",
    "\n",
    "\n",
    "\n",
    "References (include links):\n",
    "- 1)https://hbswk.hbs.edu/item/a-simple-way-for-restaurant-inspectors-to-improve-food-safety\n",
    "- 2)https://www.sfdph.org/dph/EH/Food/Inspections.asp"
   ]
  },
  {
   "cell_type": "markdown",
   "metadata": {},
   "source": [
    "# Hypothesis\n"
   ]
  },
  {
   "cell_type": "markdown",
   "metadata": {},
   "source": [
    "The number of cases of food-borne illness from restaruants depend on the number of local health inspectors in San Francisco because the more health inspectors there the number of inspection are mores distributed which may lead to less un-cited violation. "
   ]
  },
  {
   "cell_type": "markdown",
   "metadata": {},
   "source": [
    "# Data"
   ]
  },
  {
   "cell_type": "markdown",
   "metadata": {},
   "source": [
    "The ideal dataset would include the number of local health inspectors in San Francisco maybe with the number of people hospitalized due to food-borne illness tracing to restaurants in San Francisco.  \n"
   ]
  },
  {
   "cell_type": "markdown",
   "metadata": {},
   "source": [
    "# Ethics & Privacy"
   ]
  },
  {
   "cell_type": "markdown",
   "metadata": {},
   "source": [
    "For this project I'd have to get permission from hospitals and even down to the patient's consent. For number of health inspector, I should ask the local agency for the information and permission.\n",
    "As long as permission and informed consent is attained, taking data from the number of hospitalization should not preach anyone's privacy or confidentiality. A potential bias might be food-borne illness hospitalization from restaurant in low-income neighborhoods, and the health inspection score in these area. To solve this issue, one the best thing in this paper, is to acknowledge the potential bias in these data to inform the reader."
   ]
  }
 ],
 "metadata": {
  "kernelspec": {
   "display_name": "Python 3",
   "language": "python",
   "name": "python3"
  },
  "language_info": {
   "codemirror_mode": {
    "name": "ipython",
    "version": 3
   },
   "file_extension": ".py",
   "mimetype": "text/x-python",
   "name": "python",
   "nbconvert_exporter": "python",
   "pygments_lexer": "ipython3",
   "version": "3.6.7"
  }
 },
 "nbformat": 4,
 "nbformat_minor": 2
}
