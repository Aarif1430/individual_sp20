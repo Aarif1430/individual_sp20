{
 "cells": [
  {
   "cell_type": "markdown",
   "metadata": {},
   "source": [
    "# COGS 108 - Project Proposal"
   ]
  },
  {
   "cell_type": "markdown",
   "metadata": {},
   "source": [
    "# Names & PID\n",
    "\n",
    "- Name: Grace Gao\n",
    "- PID: A15079155"
   ]
  },
  {
   "cell_type": "markdown",
   "metadata": {},
   "source": [
    "# Research Question"
   ]
  },
  {
   "cell_type": "markdown",
   "metadata": {},
   "source": [
    "How can Yelp reviews predict the health sanitation scores of restaurants"
   ]
  },
  {
   "cell_type": "markdown",
   "metadata": {},
   "source": [
    "## Background and Prior Work"
   ]
  },
  {
   "cell_type": "markdown",
   "metadata": {},
   "source": [
    "We are interested in learning about how the restaurant health inspection process can be improved and since there is so much data accessible from websites, I thought Yelp would be a great source of data for health inspections. ",
    "When researching more about Yelp and health inspections, I found my first reference where it mentioned how come cities have incorporated health inspection data to show on the Yelp restaurant pages. ",
    "As I continued reading, I noticed that researchers \"developed an algorithm that analyzed merged Yelp review and ratings data with hygiene violation data\", and discovered that it could accurately predict the hygiene scores of restaurants. ",
    "I thought this was astounding and I was really curious about what I would be able to find with limited access to resources and data. In addition, I found an article from the Harvard Business Review (Reference 2) that emphasized how Inspection Bias may affect how restaurants are reviewed. "
    "This article mentioned how they \"noticed that inspectors tended to cite fewer violations at each successive establishment they visited through their day - suggesting that the onerous work takes a toll on their meticulousness.\"
    "If we had data that predict which restaurants were more likely to have problems, the inspectors would be able to pay more attention to these problems and give more accurate reviews.\n",
    "\n",
    "References (include links):\n",
    "- 1) https://gcn.com/articles/2015/03/02/yelp-city-restaurant-inspections.aspx\n",
    "- 2) https://hbr.org/2019/05/to-improve-food-inspections-change-the-way-theyre-scheduled"
   ]
  },
  {
   "cell_type": "markdown",
   "metadata": {},
   "source": [
    "# Hypothesis\n"
   ]
  },
  {
   "cell_type": "markdown",
   "metadata": {},
   "source": [
    "I predict that the amount of negative ratings and negative words found in the written reviews on Yelp will be able to predict the health sanitation scores of restaurants."
   ]
  },
  {
   "cell_type": "markdown",
   "metadata": {},
   "source": [
    "# Data"
   ]
  },
  {
   "cell_type": "markdown",
   "metadata": {},
   "source": [
    "Ideally, I would have access to a dataset that has the ratings and written Yelp reviews of restaurants in a certain area. I would also need the actual health sanitation scores of these restaurants to see if my hypothesis accurately predicts these scores. ",
    "My variables would be the average rating of these restaurants and the number of written reviews that include negative sounding words. I would collect this data by reading through the written reviews and keep track of how many have negative reviews. ",
    "I would prefer to have more than 10 different restaurants and the data would be organized by creating a predictive health sanitation score from the Yelp data and comparing it with the actual scores. "
   ]
  },
  {
   "cell_type": "markdown",
   "metadata": {},
   "source": [
    "# Ethics & Privacy"
   ]
  },
  {
   "cell_type": "markdown",
   "metadata": {},
   "source": [
    "I wanted to use website information because the data would generally be accessible to the public. I believe the health sanitation scores for restaurants should also be accessible to the general public so there shouldn't be many privacy concerns. ",
    "There may be potential biases in the Yelp datasets because there could be individuals that don't give accurate reviews. It's also likely that people who get sick/are negatively impacted by a restaurant are more likely to review the restaurant" ,
    "This may create unbalanced inferences in these review sites because not everyone who enjoys a restaurant will leave a positive review. "
   ]
  }
 ],
 "metadata": {
  "kernelspec": {
   "display_name": "Python 3",
   "language": "python",
   "name": "python3"
  },
  "language_info": {
   "codemirror_mode": {
    "name": "ipython",
    "version": 3
   },
   "file_extension": ".py",
   "mimetype": "text/x-python",
   "name": "python",
   "nbconvert_exporter": "python",
   "pygments_lexer": "ipython3",
   "version": "3.7.0"
  }
 },
 "nbformat": 4,
 "nbformat_minor": 2
}
