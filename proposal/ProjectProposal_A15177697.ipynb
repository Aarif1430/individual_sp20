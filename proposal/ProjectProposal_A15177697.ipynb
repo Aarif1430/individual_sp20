{
 "cells": [
  {
   "cell_type": "markdown",
   "metadata": {},
   "source": [
    "# COGS 108 - Project Proposal"
   ]
  },
  {
   "cell_type": "markdown",
   "metadata": {},
   "source": [
    "# Names & PID\n",
    "\n",
    "- Name: Timothy Oh\n",
    "- PID: A15177697"
   ]
  },
  {
   "cell_type": "markdown",
   "metadata": {},
   "source": [
    "# Research Question"
   ]
  },
  {
   "cell_type": "markdown",
   "metadata": {},
   "source": [
    "*Fill in your research question here* \n",
    "<br>\n",
    "Is there a correlation between the amount of inspection checks and a decrease in the number of violations exhibited by a restaurant? How does the relationship between these two variables change depending upon the time passed between each inspection?"
   ]
  },
  {
   "cell_type": "markdown",
   "metadata": {},
   "source": [
    "## Background and Prior Work"
   ]
  },
  {
   "cell_type": "markdown",
   "metadata": {},
   "source": [
    "*Fill in your background and prior work here. Be sure to specify which statements are from which references.* \n",
    "<br>\n",
    "1) Between 2013 and 2014, the National Institute of Health performed a study to determine if increasing the quantity of checks would decrease the overall number of violations being observed in restaurants. They extrapolated data from health inspection checks of both Chain, or franchise, restaurants and nonchain restaurants within Phildelphia, Pennsylvania. For nonchain restaurants, the research group found that an increase from 1 to 2 inspections yielded a 0.8 decrease in mean violations and an increase from 1 to a quantity greater than or equal to 3 inspections yielded a 1.6 decrease in mean violations. By contrast, chain restaurants exhibited relatively consistent quantities of violations, despite increases in the number of inspection checks. \n",
    "\n",
    "2) In 2019, Maria Ibanez, an assistant professor at Northwestern, and Michael Toffel, a professor at Harvard Business School, released an article detailing their research into the behaviors of food inspectors. Their work demonstrated that inspectors exhibited biases in their evaluations of restaurants depending on the outcomes of their earlier inspections. Ibanez and Toffel observed that inspectors cited fewer violations with each of their successive visits to varying establishments. This indicated that inspectors experienced greater degrees of mental exhausion and reduced their meticulousness as they performed more inspections in a given day. The researchers also discovered that inspectors exhibited a tendency to intensify their scrutiny for an establishment after citing many violations for a restaurant in a previous visit. Upon retrieving these findings, Toffel and Ibanez suggested that inspectors spread their inspection visits over the course of a week, instead of consolidating them into a single day, as a means of reducing their potential biases. \n",
    "\n",
    "References (include links):\n",
    "- 1) https://www.ncbi.nlm.nih.gov/pmc/articles/PMC5349477/\n",
    "- 2) https://hbr.org/2019/05/to-improve-food-inspections-change-the-way-theyre-scheduled"
   ]
  },
  {
   "cell_type": "markdown",
   "metadata": {},
   "source": [
    "# Hypothesis\n"
   ]
  },
  {
   "cell_type": "markdown",
   "metadata": {},
   "source": [
    "*State and defend your hypotheses here.*\n",
    "Given the appropriate dataset, I believe data analysis of this topic will reveal that an increase in the quantity of inspection checks, along with a moderate passing of time between each inspection (2-3 months), corresponds to a reduction in health violations overall. By increasing the quantity of inspection checks, inspectors may compell restaurants to exhibit sufficient standards of cleanliness on a more frequent basis, and by extension, a restaurant would potentially practice cleanliness more often in order to pass more inspection tests. Additionally, checks that are performed every 2-3 months, incentivizes restaurants to practice consistency in their cleanliness throughout an entire year as opposed to a handful of months in a year.  "
   ]
  },
  {
   "cell_type": "markdown",
   "metadata": {},
   "source": [
    "# Data"
   ]
  },
  {
   "cell_type": "markdown",
   "metadata": {},
   "source": [
    "*Explain what the ideal dataset you would want to answer this question. (This should include: What variables? How many observations? Who/what/how would these data be collected? How would these data be stored/organized?)*\n",
    "<br>\n",
    "The ideal dataset for this topic would include variables pertaining to the a restaurant's year of inspection, the amount of inspection checks conducted in the year, the length of time passed between each inspection check of the year, and the total amount of violations exhibited by the restaurant in the year. With these variables, it's possible to observe how the quantity of inspection checks and their frequency corresponds to changes in the quantity of health violations seen in a given restaurant. It's important to denote temporal changes as a restaurant may exhibit differing quantities of health violations depending upon the changes that occur with these variables year by year. \n",
    "\n",
    "The context of the topic scenario designates me as a being an employee for the local city government. Because I want to improve the health inspection process for this local city, I would want a dataset that contains observations for every restaurant in the city. \n",
    "\n",
    "Because health inspection checks are sponsored by the local city government, their data can be accessible via public records. For example, the city of San Diego maintains a website (sdfoodinfo.org) that allows users to search for restaurants in the city and view their health inspection records. The website specifies a restaurant's date of each inspection and violation record. Theoretically, this data could be scraped into an excel file or csv-formatted file, which can then be read into a dataframe using the python pandas package. \n",
    "\n",
    "In terms of organization, each row would ideally represent observations for a specific restaurant in the local city. Each column would denote one of the aforementioned variables, such as the year when the restaurant was inspected or the amount of inspection checks that occurred with the specific restaurant in that year. So for example, if Chipotle was a restaurant in the local city, ideally a row in the dataset would allow me to observe that in some year, there were 5 inspection checks, with 2 months of time passed between each check, and 40 violations total in the year. This data could be compared against another row corresponding to Chipotle but for a different year.   \n"
   ]
  },
  {
   "cell_type": "markdown",
   "metadata": {},
   "source": [
    "# Ethics & Privacy"
   ]
  },
  {
   "cell_type": "markdown",
   "metadata": {},
   "source": [
    "*Fill in your ethics & privacy discussion here*\n",
    "Because health inspection data is conducted by the local government, it is accessible to the public domain. Despite this, permission may be needed from the local government to appropriate the data for research purposes. \n",
    "\n",
    "All restaurants are subjected to health inspection checks to remain open. Customers are entitled to understand the health violation records of restaurants before they purchase their meals. Therefore, the health violation records of restaurants remains open to the public. That being said, some restaurants may not want to be identified during this data research. \n",
    "\n",
    "The ideal dataset is shaped based off the observations of human inspectors. For this reason, there may be biases present within the records of violations for particular restaurants. Some inspectors may subject restaurants to higher standards of cleanliness than others. Furthermore, some inspectors may exhibit leniency in their evaluation of restaurants. \n",
    "\n",
    "In order to ensure permission for the use of public health inspection data, I could maintain email correspondence with the local city government. I could have an email transcript that details me asking for permission in using the data for research and receiving confirmation from city officials to utilize the data. I don't believe it is necessary to privatize the restaurants in evaluating their data, however in that scenario, I could replace each of the restaurant labels in the dataset with a variable name. For example, Chipotle could be changed to the variable, \"Restaurant A\", across the dataset. This ensures that each restaurant remains anonymized when the wrangled data is revealed to the public or the class. The leniency or strictness of certain health inspectors may create extreme data points, such as a restaurant chain with an unusually high or low amount of violations in a year. I would treat these cases as outliers in the data by creating a visualization of the wrangled data set and demonstrating how the overall pattern does not align with these unique cases. "
   ]
  }
 ],
 "metadata": {
  "kernelspec": {
   "display_name": "Python 3",
   "language": "python",
   "name": "python3"
  },
  "language_info": {
   "codemirror_mode": {
    "name": "ipython",
    "version": 3
   },
   "file_extension": ".py",
   "mimetype": "text/x-python",
   "name": "python",
   "nbconvert_exporter": "python",
   "pygments_lexer": "ipython3",
   "version": "3.6.7"
  }
 },
 "nbformat": 4,
 "nbformat_minor": 2
}
