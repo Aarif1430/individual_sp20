{
 "cells": [
  {
   "cell_type": "markdown",
   "metadata": {},
   "source": [
    "# COGS 108 - Project Proposal"
   ]
  },
  {
   "cell_type": "markdown",
   "metadata": {},
   "source": [
    "# Names & PID\n",
    "\n",
    "- Name: Tommy Tran\n",
    "- PID: A15534385"
   ]
  },
  {
   "cell_type": "markdown",
   "metadata": {},
   "source": [
    "# Research Question"
   ]
  },
  {
   "cell_type": "markdown",
   "metadata": {},
   "source": [
    "Could the frequency in inspection visits that a health inspector does a day have an affect on the evaulation of restaurants in San Diego? Do evaulations become less meticulousness and more lenient if assigned more visits in a day, week, or month?"
   ]
  },
  {
   "cell_type": "markdown",
   "metadata": {},
   "source": [
    "## Background and Prior Work"
   ]
  },
  {
   "cell_type": "markdown",
   "metadata": {},
   "source": [
    "Although health inspections are a means of ensuring clean and hygienic communities in our food industry, there still exist the problem of food-borne illness caused by these communities. In the article by Maria R. Ibanez and Michael W. Toffel, they state that \"Food-borne illness affects an estimated 48 million Americans each year, resulting in 3,000 deaths and the hospitalization of 128,000 people, according to the Centers for Disease Control and Prevention (CDC)\" [1]. Such a problem is not easily solvable, however, there are ways in which we could tackle the process to lessen the problem. One such way is to less the workload that are required of the health inspectors. Allowing them the time to make more accurate and better evaulations of restuarants will ensure that the restuarants need to make more hygienic and healthy choices. As stated by Maria R. Ibanez and Michael W. Toffel, \"We noticed that inspectors tended to cite fewer violations at each successive establishment they visited through their day — suggesting that the onerous work takes a toll on their meticulousness\" [1]. Inspectors are given too much work and are expected to always give accurate evaulations of healthy practices; such a demand is impossible. The article by Carmen Nobel supports this as he explains that, \"On average, inspectors cited fewer violations at each successive establishment inspected throughout the day, the researchers found. In other words, inspectors tended to find and report the most violations at the first place they inspected and the fewest violations at the last place.\" [2]. Too many restuarants are going unnoticed during inspections and thus are causing health risks in many communities in the food industry.\n",
    "\n",
    "\n",
    "\n",
    "Therefore, if inspectors are to be given less work daily, it would definitely have a positive effect on the inspection process effectiveness. As stated in the article, \"If we are able to halve the daily schedule effects (which erode scrutiny) and increase by 50% the outcome effects (which increase scrutiny), we estimate that citations would increase by 5.5%, which translates to nearly 127,000 more violations detected each year. We estimate that this would result in 10 million fewer food poisoning cases and nearly 27,000 fewer food-related emergency room trips.\" [1]\n",
    "\n",
    "\n",
    "References (include links):\n",
    "- 1) https://hbr.org/2019/05/to-improve-food-inspections-change-the-way-theyre-scheduled\n",
    "- 2) https://www.forbes.com/sites/hbsworkingknowledge/2018/05/16/a-simple-way-for-restaurant-inspectors-to-improve-food-safety/#4c2e139b123f"
   ]
  },
  {
   "cell_type": "markdown",
   "metadata": {},
   "source": [
    "# Hypothesis\n"
   ]
  },
  {
   "cell_type": "markdown",
   "metadata": {},
   "source": [
    "To improve the restuarant health inspection process in San Diego, it would likely improve the judgment of restaurants and improve health standards if the frequency that inspectors are required to visit daily, weekly, and monthy is reduced while also  hiring more inspectors to cover the work."
   ]
  },
  {
   "cell_type": "markdown",
   "metadata": {},
   "source": [
    "# Data"
   ]
  },
  {
   "cell_type": "markdown",
   "metadata": {},
   "source": [
    "My ideal dataset would be data on a large group of restuarant inspection workers, their daily work hours, weekly work hours, monthly visit requirements, and how much breaks they get. I would also like it be able to compare different health inspection companies and how different organizations and workload has an affect on the evaulations that each company produces. Lastly, I would like data on the average health ratings and/or health complains of many of the restaurants received in the cities that those companies work in to see the correlation between health inspector workload, their evaluations, and health standards in the cities."
   ]
  },
  {
   "cell_type": "markdown",
   "metadata": {},
   "source": [
    "# Ethics & Privacy"
   ]
  },
  {
   "cell_type": "markdown",
   "metadata": {},
   "source": [
    "There may be some biases in the dataset since it would be limited to a handful of companies, thus is not exactly representative of all inspection companies and how their workload is the only factor that reflects the health standards of their city. Most data should be granulated and thus would mostly be anonyumous for individuals to protect their privacy. The dataset should also inform workers that they are being recorded on their work hours since they may have an effect on their productivity. \n",
    "\n",
    "Data produced may also have an effect on the cities and their restaurants as their city's health standards are being evaulated thus, I will keep city names anonyumous.\n",
    "There may be another bias in the data since based on the city and their living standards, thus lower income areas may just have lower health standards in general so I will try to pick data within cities of similar class in standard of living."
   ]
  }
 ],
 "metadata": {
  "kernelspec": {
   "display_name": "Python 3",
   "language": "python",
   "name": "python3"
  },
  "language_info": {
   "codemirror_mode": {
    "name": "ipython",
    "version": 3
   },
   "file_extension": ".py",
   "mimetype": "text/x-python",
   "name": "python",
   "nbconvert_exporter": "python",
   "pygments_lexer": "ipython3",
   "version": "3.6.7"
  }
 },
 "nbformat": 4,
 "nbformat_minor": 2
}
