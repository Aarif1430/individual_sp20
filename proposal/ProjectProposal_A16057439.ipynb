{
 "cells": [
  {
   "cell_type": "markdown",
   "metadata": {},
   "source": [
    "# COGS 108 - Project Proposal"
   ]
  },
  {
   "cell_type": "markdown",
   "metadata": {},
   "source": [
    "# Names & PID\n",
    "\n",
    "- Name: Nancy Lopez\n",
    "- PID: A16057439"
   ]
  },
  {
   "cell_type": "markdown",
   "metadata": {},
   "source": [
    "# Research Question"
   ]
  },
  {
   "cell_type": "markdown",
   "metadata": {},
   "source": [
    "**Is there a correlation between food disease outbreaks and food inspection grades in San Diego county?** Expectation vs. reality. My goal here to see whether the number of disease related outbreaks are strongly or weakly correlated with the average health inspection scores at restuarants within San Diego county. Should individuals be more weary of the letter grade they see outside their favorite restaurant?"
   ]
  },
  {
   "cell_type": "markdown",
   "metadata": {},
   "source": [
    "## Background and Prior Work"
   ]
  },
  {
   "cell_type": "markdown",
   "metadata": {},
   "source": [
    "The U.S. health department works very hard to standardize health inspections in order to keep americans safe from foodborne diseases like salmonella and norovirus. Of course the media is bombarded with tons of articles and negative reviews on restaurants and health inspectors alike. Knowing that health inspectors are human and not robots, naturally it can be expected that mistakes can happen. The CDC reports that approximately 48 million people will get sick from foodborne illness (Foodborne Illnesses, 2020). For this project however, I will be focusing primarily on San Diego County. To research how this county’s health inspection scores matched up with the number of foodborne diseases reported to the Health and Human Services Agency of SD County. One research article from the Centers for Disease Control and Prevention website, focused on the correlation between restaurant inspection scores and foodborne illness. Their area of focus was primarily on the state of Tennessee, while my area of focus for this data analyses will be on SD County. What Jones and his team found was that the mean scores of restaurants where foodborne disease was reported, were not different from restaurants with no reports of outbreaks (Jones, T. F., et.al.,2004). This was pretty eye opening to read and I look forward to exploring opon what information can be found in regards to San Diego County.\n",
    "\n",
    "References (include links):\n",
    "- 1)\n", "Foodborne Illnesses . (n.d.). Retrieved April 24, 2020, from https://www.sandiegocounty.gov/content/sdc/deh/fhd/food/foodborneepidemiology.html"
   "\n",
    "- 2)" "Jones, T. F., Pavlin, B. I., LaFleur, B. J., Ingram, L. A., & Schaffner, W. (2004). Restaurant Inspection Scores and Foodborne Disease. Emerging Infectious Diseases, 10(4), 688-692. https://dx.doi.org/10.3201/eid1004.030343. "
     "\n",
   ]
  },
  {
   "cell_type": "markdown",
   "metadata": {},
   "source": [
    "# Hypothesis\n"
   ]
  },
  {
   "cell_type": "markdown",
   "metadata": {},
   "source": [
    "*State and defend your hypotheses here.*"
   ]
  },
  {
   "cell_type": "markdown",
   "metadata": {},
   "source": [
    "# Data"
   ]
  },
  {
   "cell_type": "markdown",
   "metadata": {},
   "source": [
    "*Explain what the ideal dataset you would want to answer this question. (This should include: What variables? How many observations? Who/what/how would these data be collected? How would these data be stored/organized?)*"
   ]
  },
  {
   "cell_type": "markdown",
   "metadata": {},
   "source": [
    "# Ethics & Privacy"
   ]
  },
  {
   "cell_type": "markdown",
   "metadata": {},
   "source": [
    "*Fill in your ethics & privacy discussion here*"
   ]
  }
 ],
 "metadata": {
  "kernelspec": {
   "display_name": "Python 3",
   "language": "python",
   "name": "python3"
  },
  "language_info": {
   "codemirror_mode": {
    "name": "ipython",
    "version": 3
   },
   "file_extension": ".py",
   "mimetype": "text/x-python",
   "name": "python",
   "nbconvert_exporter": "python",
   "pygments_lexer": "ipython3",
   "version": "3.7.0"
  }
 },
 "nbformat": 4,
 "nbformat_minor": 2
}
