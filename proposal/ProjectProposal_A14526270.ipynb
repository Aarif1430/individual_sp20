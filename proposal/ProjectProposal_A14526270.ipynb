{
 "cells": [
  {
   "cell_type": "markdown",
   "metadata": {},
   "source": [
    "# COGS 108 - Project Proposal"
   ]
  },
  {
   "cell_type": "markdown",
   "metadata": {},
   "source": [
    "# Names & PID\n",
    "\n",
    "- Name: Chitra Kulkarni\n",
    "- PID: A14526270 "
   ]
  },
  {
   "cell_type": "markdown",
   "metadata": {},
   "source": [
    "# Research Question"
   ]
  },
  {
   "cell_type": "markdown",
   "metadata": {},
   "source": [
    "Does publicizing the health inspection score on platforms, like Yelp, improve the restaurant's overall health (as seen in future inspections) in popular cities such as San Francisco and Los Angeles?"
   ]
  },
  {
   "cell_type": "markdown",
   "metadata": {},
   "source": [
    "## Background and Prior Work"
   ]
  },
  {
   "cell_type": "markdown",
   "metadata": {},
   "source": [
    "To begin this process, the first thing to research is to look at the restaurant health inspection processes in LA and SF. In LA, the health inspectors follow a standard write-up/checklist that they have with three overarching categories: critical risk factors, good retail practices, and compliance & enforcement [1] The frequency of the inspection depended on the public risk of the foods served at the restaurants. In SF, the determination of how frequently inspections will take place is based on 3 types of food preparation: food process with no cook step (type 1), food preparation for same day service (type 2), and complex food processes (type 3) [2]. Lastly, Yelp started adding health inspection scores from July 24, 2018 in an attempt to help consumer food safety based on prior research done on restaurants in LA where restaurants would have to post grade cards in their window. This new rule resulted in a decrease in foodborne illnesses for over two years in the LA area [3].\n",
    "\n",
    "One example of someone who has tried to use scores to test a value of an item is a research project done on if there is a correlation between the price of wine and its corresponding WineEnthusiast score? This project relates to my research question because it is comparing if an item is better or worse based on its score; similarly, I am interested in seeing if the Yelp ratings and health inspection scores posted on Yelp make a restaurant more or less health-conscious [4].\n",
    "\n",
    "References (include links):\n",
    "- 1) http://www.lapublichealth.org/eh/docs/RefGuideFoodInspectionReport.pdf\n",
    "- 2) https://www.sfdph.org/dph/EH/Food/Inspections.asp\n",
    "- 3) https://www.washingtonpost.com/news/voraciously/wp/2018/07/24/yelp-adds-health-inspection-scores-for-restaurants-and-restaurateurs-are-not-happy/\n",
    "- 4) FinalProject_group085.ipynb"
   ]
  },
  {
   "cell_type": "markdown",
   "metadata": {},
   "source": [
    "# Hypothesis\n"
   ]
  },
  {
   "cell_type": "markdown",
   "metadata": {},
   "source": [
    "Since restaurants depend on customers' ratings and reviews for their businesses, I believe that publicizing health inspection scores on Yelp will improve overall restaurant health. Especially when customers write reviews regarding any problems that could reflect a restaurant’s health, other customers will be discouraged to go there; additionally, to improve their ratings, restaurants would be more willing to improve their health standards to pass the next inspection."
   ]
  },
  {
   "cell_type": "markdown",
   "metadata": {},
   "source": [
    "# Data"
   ]
  },
  {
   "cell_type": "markdown",
   "metadata": {},
   "source": [
    "To answer this question, I will need health inspection data for a collection of restaurants in LA and SF for a few years (approximately 2 years) before 2017 and for a few years after 2017. This data is available publicly once the restaurants are chosen. Since July 2017 was when Yelp started putting restaurant inspection details on their app and website, it will be useful to compare the reviews/ratings for a few years before the publicization to the same amount of years after the publicization to compare and contrast. I will also need to compare and contrast the health inspection processes in SF and LA. Lastly, I will need to pick a handful of restaurants in both cities, ensuring that the restaurants themselves are not biased in any way- this would mean ensuring that the restaurants are not just in affluent areas, or are not just one cuisine but are representative of the population’s choice of restaurants. One way to pick these restaurants might be to pick the 5 top rated restaurants and 5 lowest rated restaurants. Some of the limitations that I can envision from the data are: if the health inspection processes have significant differences in their health inspection process, this could have an impact on the data; the restaurants that are picked might not be representative; or looking at two years of data might not be enough to see a pattern. All of this data will be organized in a spreadsheet by assigning IDs to the restaurants and then having each restaurant’s health inspection numbers for five years (2015-2019) on the same spreadsheet, so all of the data is easily visible. Furthermore, comparing the Yelp reviews using text analysis can help in showing the impact that Yelp has had on these businesses. \n"
   ]
  },
  {
   "cell_type": "markdown",
   "metadata": {},
   "source": [
    "# Ethics & Privacy"
   ]
  },
  {
   "cell_type": "markdown",
   "metadata": {},
   "source": [
    "Based on Deon’s Checklist (https://deon.drivendata.org/#data-science-ethics-checklist) the question I am posing and the data that will be collected follows most of the ethics and privacy items. I will talk about some of the items that my analysis does not check off at this stage in the project. Firstly, as I described above, there is a potential for a source of bias when choosing the specific restaurants to base the analysis on. Since I would ideally get data off of Yelp, I would remove any personal identifying information to protect individuals. One might think that the visualizations that I will report might not represent the underlying data, however it is important to understand that in this analysis I am solely looking at the impact public opinion has on overall restaurant health. \n"
   ]
  }
 ],
 "metadata": {
  "kernelspec": {
   "display_name": "Python 3",
   "language": "python",
   "name": "python3"
  },
  "language_info": {
   "codemirror_mode": {
    "name": "ipython",
    "version": 3
   },
   "file_extension": ".py",
   "mimetype": "text/x-python",
   "name": "python",
   "nbconvert_exporter": "python",
   "pygments_lexer": "ipython3",
   "version": "3.6.7"
  }
 },
 "nbformat": 4,
 "nbformat_minor": 2
}
