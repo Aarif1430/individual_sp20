{
 "cells": [
  {
   "cell_type": "markdown",
   "metadata": {},
   "source": [
    "# COGS 108 - Project Proposal"
   ]
  },
  {
   "cell_type": "markdown",
   "metadata": {},
   "source": [
    "# Names & PID\n",
    "\n",
    "- Name:Alan Madrigal\n",
    "- PID: A13680283"
   ]
  },
  {
   "cell_type": "markdown",
   "metadata": {},
   "source": [
    "# Research Question"
   ]
  },
  {
   "cell_type": "markdown",
   "metadata": {},
   "source": [
    "Can it be predicted how likely a restaurant in San Diego is to violate the local food health policy, by looking at the relationship between food policy violations and the type of food each restaurant serves?\n"
   ]
  },
  {
   "cell_type": "markdown",
   "metadata": {},
   "source": [
    "## Background and Prior Work"
   ]
  },
  {
   "cell_type": "markdown",
   "metadata": {},
   "source": [
    "*Fill in your background and prior work here. Be sure to specify which statements are from which references.* \n",
    "\n",
    "References (include links):\n",
    "- 1)\n",
    "- 2)"
   ]
  },
  {
   "cell_type": "markdown",
   "metadata": {},
   "source": [
    "# Hypothesis\n"
   ]
  },
  {
   "cell_type": "markdown",
   "metadata": {},
   "source": [
    "*State and defend your hypotheses here.*"
   ]
  },
  {
   "cell_type": "markdown",
   "metadata": {},
   "source": [
    "# Data"
   ]
  },
  {
   "cell_type": "markdown",
   "metadata": {},
   "source": [
    "The ideal data set will have the following variables: \nName (of the restaurant), \nType of food (the restaurant serves), \nFood Inspection Grade (0-100)\nNumber of previous year violations\nThe data will be stored in multiple spreadsheets, each sheet for each year, which should have as many observations as the number of restaurants in San Diego. This can be stored in a CSV for easy manipulation with the Pandas module. By having all this information we can determine the relationship between the type of food and food policy violations, as well as to set a queue, with this information, for the order of the next restaurants’ inspection to find food policy violations faster.  "
   ]
  },
  {
   "cell_type": "markdown",
   "metadata": {},
   "source": [
    "# Ethics & Privacy"
   ]
  },
  {
   "cell_type": "markdown",
   "metadata": {},
   "source": [
    "This information that I will be looking for is public hence I will have permission to use it since it is our right to know the grade of each restaurant’s food inspection. There are no privacy concerns regarding the datasets since it is public information. The data could have potential biases by the inspectors, as mention in the reference article (3), inspectors can be biased on how many violations they mark in a restaurant and this can affect the dataset. This could be an ethical problem since an inspector can affect a restaurant’s reputation, therefore we expect that each inspector’s review is not biased. For the issue of finding inspector biases what can be done is to assign two inspectors to do the same reviews of restaurants and look at both data sets. This will allow us to see if there are any biases in the process of an inspector. In case we see a discrepancy between two inspectors we can ask a third inspector to review the particular restaurant. This will only be able if the Department of Environmental Health of San Diego works closely with us. But this will help prevent collection bias in our process. "
   ]
  }
 ],
 "metadata": {
  "kernelspec": {
   "display_name": "Python 3",
   "language": "python",
   "name": "python3"
  },
  "language_info": {
   "codemirror_mode": {
    "name": "ipython",
    "version": 3
   },
   "file_extension": ".py",
   "mimetype": "text/x-python",
   "name": "python",
   "nbconvert_exporter": "python",
   "pygments_lexer": "ipython3",
   "version": "3.7.0"
  }
 },
 "nbformat": 4,
 "nbformat_minor": 2
}
