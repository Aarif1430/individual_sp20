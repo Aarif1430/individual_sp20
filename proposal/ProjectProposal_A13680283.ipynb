{
 "cells": [
  {
   "cell_type": "markdown",
   "metadata": {},
   "source": [
    "# COGS 108 - Project Proposal"
   ]
  },
  {
   "cell_type": "markdown",
   "metadata": {},
   "source": [
    "# Names & PID\n",
    "\n",
    "- Name: Alan Madrigal\n",
    "- PID: A13680283"
   ]
  },
  {
   "cell_type": "markdown",
   "metadata": {},
   "source": [
    "# Research Question"
   ]
  },
  {
   "cell_type": "markdown",
   "metadata": {},
   "source": [
    "Can it be predicted how likely a restaurant in San Diego is to violate the local food health policy, by looking at the relationship between food policy violations and the type of food each restaurant serves?"
   ]
  },
  {
   "cell_type": "markdown",
   "metadata": {},
   "source": [
    "## Background and Prior Work"
   ]
  },
  {
   "cell_type": "markdown",
   "metadata": {},
   "source": [
    "First Reference, \n"
"I found a similar work to what I am looking for in the city of Chicago. They showed how they predict food inspection violations which are similar to what I want to accomplish for the city of San Diego. Their method found out that they were able to improve the inspection process by finding faster the places that had food policy violations. By finding violations faster they help reduce food poisoning cases in that area.\n"
"Secon Reference:\n"
"In the second reference, I found how the city of San Diego makes inspects restaurants. \n"
"“1. Each violation of the Food Inspection Report is assigned a point value depending on its importance. For example, a Major Risk Factor is worth four points, a Minor Risk Factor is worth two, and a Good Retail Practice is worth one. \n"
"2. Once the Specialist completes an inspection, the points are added up and subtracted from 100. The resulting number is the inspection \"score\".\n"
"3. A letter grade is assigned to the facility based on the inspection score. An \"A\" grade means the facility earned a score of 90 to 100 percent and is in satisfactory compliance with state law; a \"B\" means the facility earned a score of 80 to 89 percent and needs improvement; a "C" means the facility earned a score of 79 percent or less and is a failing grade.\n"
"4. The grade card must be displayed near the public entrance during hours of operation.”
"This information allows me to understand how data can be used. This information about the scoring of every place can be helpful for the prediction algorithm. \n"
"Third Reference:\n"
"\“Food-borne illness affects an estimated 48 million Americans each year, resulting in 3,000 deaths and the hospitalization of 128,000 people, according to the Centers for Disease Control and Prevention (CDC). Beyond that, food-borne illness in the U.S. is enormously costly, with an estimated collective annual bill of $55 billion in medical treatment, lost productivity, and lost wages, not to mention litigation expenses.\”\n"
"This article makes an emphasis on the impact of food poisoning and how important it is to prevent it. It also takes into consideration how inspection biases can hurt the inspection process. Hence we found that answering this data science question can help prevent food poisoning and improve the inspection process in San Diego. But we should focus on having accurate data from the health inspectors. \n"
    "\n",
    "References (include links):\n",
    "- 1)https://chicago.github.io/food-inspections-evaluation",
    "- 2)https://www.sandiegocounty.gov/content/sdc/deh/fhd/ffis/intro.html.html",
    "- 3)https://hbr.org/2019/05/to-improve-food-inspections-change-the-way-theyre-scheduled \n"
   ]
  },
  {
   "cell_type": "markdown",
   "metadata": {},
   "source": [
    "# Hypothesis\n"
   ]
  },
  {
   "cell_type": "markdown",
   "metadata": {},
   "source": [
    "*State and defend your hypotheses here.*"
   ]
  },
  {
   "cell_type": "markdown",
   "metadata": {},
   "source": [
    "# Data"
   ]
  },
  {
   "cell_type": "markdown",
   "metadata": {},
   "source": [
    "*Explain what the ideal dataset you would want to answer this question. (This should include: What variables? How many observations? Who/what/how would these data be collected? How would these data be stored/organized?)*"
   ]
  },
  {
   "cell_type": "markdown",
   "metadata": {},
   "source": [
    "# Ethics & Privacy"
   ]
  },
  {
   "cell_type": "markdown",
   "metadata": {},
   "source": [
    "*Fill in your ethics & privacy discussion here*"
   ]
  }
 ],
 "metadata": {
  "kernelspec": {
   "display_name": "Python 3",
   "language": "python",
   "name": "python3"
  },
  "language_info": {
   "codemirror_mode": {
    "name": "ipython",
    "version": 3
   },
   "file_extension": ".py",
   "mimetype": "text/x-python",
   "name": "python",
   "nbconvert_exporter": "python",
   "pygments_lexer": "ipython3",
   "version": "3.7.0"
  }
 },
 "nbformat": 4,
 "nbformat_minor": 2
}
