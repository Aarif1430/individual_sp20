{
 "cells": [
  {
   "cell_type": "markdown",
   "metadata": {},
   "source": [
    "# COGS 108 - Project Proposal"
   ]
  },
  {
   "cell_type": "markdown",
   "metadata": {},
   "source": [
    "# Names & PID\n",
    "\n",
    "- Name:Alan Madrigal\n",
    "- PID: A13680283"
   ]
  },
  {
   "cell_type": "markdown",
   "metadata": {},
   "source": [
    "# Research Question"
   ]
  },
  {
   "cell_type": "markdown",
   "metadata": {},
   "source": [
    "Can it be predicted how likely a restaurant in San Diego is to violate the local food health policy, by looking at the relationship between food policy violations and the type of food each restaurant serves?\n"
   ]
  },
  {
   "cell_type": "markdown",
   "metadata": {},
   "source": [
    "## Background and Prior Work"
   ]
  },
  {
   "cell_type": "markdown",
   "metadata": {},
   "source": [
    "First Reference: \n I found a similar work to what I am looking for in the city of Chicago. They showed how they predict food inspection violations which are similar to what I want to accomplish for the city of San Diego. Their method found out that they were able to improve the inspection process by finding faster the places that had food policy violations. By finding violations faster they help reduce food poisoning cases in that area.",
    "\n",
    "Secon Reference: In the second reference, I found how the city of San Diego makes inspects restaurants. 1. Each violation of the Food Inspection Report is assigned a point value depending on its importance. For example, a Major Risk Factor is worth four points, a Minor Risk Factor is worth two, and a Good Retail Practice is worth one.2. Once the Specialist completes an inspection, the points are added up and subtracted from 100. The resulting number is the inspection \"score\".3. A letter grade is assigned to the facility based on the inspection score. An \"A\" grade means the facility earned a score of 90 to 100 percent and is in satisfactory compliance with state law; a \"B\" means the facility earned a score of 80 to 89 percent and needs improvement; a \"C\" means the facility earned a score of 79 percent or less and is a failing grade.4. The grade card must be displayed near the public entrance during hours of operation. This information allows me to understand how data can be used. This information about the scoring of every place can be helpful for the prediction algorithm. ",
    "\n",

    "References (include links):\n",
    "- 1) \n",
    "- 2) \n"
   ]
  },
  {
   "cell_type": "markdown",
   "metadata": {},
   "source": [
    "# Hypothesis\n"
   ]
  },
  {
   "cell_type": "markdown",
   "metadata": {},
   "source": [
    "I believe that there is a relationship between the type of food a restaurant serves and their food violations. Food poisoning is more likely to happen with certain types of food, therefore I believe there must be a relation between food policy violations and the type of food the restaurant serves. Hence by detecting the restaurants that are more likely to violate food policies, we can prioritize the restaurants to inspect first and this should improve the inspection process."
   ]
  },
  {
   "cell_type": "markdown",
   "metadata": {},
   "source": [
    "# Data"
   ]
  },
  {
   "cell_type": "markdown",
   "metadata": {},
   "source": [
    "The ideal data set will have the following variables: \nName (of the restaurant), \nType of food (the restaurant serves), \nFood Inspection Grade (0-100)\nNumber of previous year violations\nThe data will be stored in multiple spreadsheets, each sheet for each year, which should have as many observations as the number of restaurants in San Diego. This can be stored in a CSV for easy manipulation with the Pandas module. By having all this information we can determine the relationship between the type of food and food policy violations, as well as to set a queue, with this information, for the order of the next restaurants’ inspection to find food policy violations faster.  "
   ]
  },
  {
   "cell_type": "markdown",
   "metadata": {},
   "source": [
    "# Ethics & Privacy"
   ]
  },
  {
   "cell_type": "markdown",
   "metadata": {},
   "source": [
    "This information that I will be looking for is public hence I will have permission to use it since it is our right to know the grade of each restaurant’s food inspection. There are no privacy concerns regarding the datasets since it is public information. The data could have potential biases by the inspectors, as mention in the reference article (3), inspectors can be biased on how many violations they mark in a restaurant and this can affect the dataset. This could be an ethical problem since an inspector can affect a restaurant’s reputation, therefore we expect that each inspector’s review is not biased. For the issue of finding inspector biases what can be done is to assign two inspectors to do the same reviews of restaurants and look at both data sets. This will allow us to see if there are any biases in the process of an inspector. In case we see a discrepancy between two inspectors we can ask a third inspector to review the particular restaurant. This will only be able if the Department of Environmental Health of San Diego works closely with us. But this will help prevent collection bias in our process. "
   ]
  }
 ],
 "metadata": {
  "kernelspec": {
   "display_name": "Python 3",
   "language": "python",
   "name": "python3"
  },
  "language_info": {
   "codemirror_mode": {
    "name": "ipython",
    "version": 3
   },
   "file_extension": ".py",
   "mimetype": "text/x-python",
   "name": "python",
   "nbconvert_exporter": "python",
   "pygments_lexer": "ipython3",
   "version": "3.7.0"
  }
 },
 "nbformat": 4,
 "nbformat_minor": 2
}
