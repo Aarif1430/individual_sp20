{
 "cells": [
  {
   "cell_type": "markdown",
   "metadata": {},
   "source": [
    "# COGS 108 - Project Proposal"
   ]
  },
  {
   "cell_type": "markdown",
   "metadata": {},
   "source": [
    "# Names & PID\n",
    "\n",
    "- Name: Joseph Bui\n",
    "- PID: A14432039"
   ]
  },
  {
   "cell_type": "markdown",
   "metadata": {},
   "source": [
    "# Research Question"
   ]
  },
  {
   "cell_type": "markdown",
   "metadata": {},
   "source": [
    "What aspects (location in the city, size of their restaurant, # of employees, etc.) does a restaurant have that contributes to them shutting down their business due to a terrible health inspection score (70 or below) given by the Santa Clara County food health inspectors?"
   ]
  },
  {
   "cell_type": "markdown",
   "metadata": {},
   "source": [
    "## Background and Prior Work"
   ]
  },
  {
   "cell_type": "markdown",
   "metadata": {},
   "source": [
    "   For my project, I wanted to narrow down my research to my home county, Santa Clara, as I am curious to what causes restaurants to receive a score of C (70 or below) for their health inspections. Based on an article I found online, it states that \"Santa Clara stole the number one spot for the city with the most violations: 0.37 major violations per restaurant (214 major violations, 579 restaurants)\" (Kadvany). She believes that restaurants with improper hot and cold holding temperatures were the main contributors to why these restaurants failed basic health inspections. Morever, in another article written by Elana Kadvany, she writes, \"In the last six months, four restaurants in Mountain View and five in Palo Alto were shut down by the Santa Clara County Department of Environmental Health due to vermin contamination.\" Vermins, such as cockroaches and rodents, are also the one of the main contributors to why restaurants get shut down. There are factors other than vermins and poor storage temperatures that could contribute to the restaurants poor health quality. For example, the location of the restaurant (popular or unpopular area) could contribute to how clean the restaurant is or the size of the restaurant where some restaurants may be too big for their employees to notice vermins or consistently clean the restaurant while serving their customers.\n",
    "    \n",
    "   It is important that businesses maintain their cleanliness of their restaurants so their customers do not acquire food poisoning regardless of whether or not they have an inspection test. For instance, in 2015, \"the number of illnesses linked to a downtown San Jose seafood eatery has risen to 141, according to Santa Clara County health officials, who are still receiving reports of ill people from health care providers throughout the Bay Area\" (Gomez). Customers should not have to go through the trouble of getting medical attention from enjoying food from their local businesses.\n",
    "    \n",
    "   As a result, using data from the Santa Clara Health Department, I can possibly identify the main contributors to these low scores that restaurants are receiving to speed up the prcoess of inspecting restaurants so the Santa Clara government could spend their time and money for more important matters such as crime where \"the crime rate in Santa Clara, CA is 9% higher than the average of the whole of the state of California, and when compared with the national average, is 19% higher than\" (https://www.areavibes.com/santa+clara-ca/crime/).\n",
    "   \n",
    "References (include links):\n",
    "- 1) https://www.paloaltoonline.com/blogs/p/2018/10/25/the-most-common-restaurant-health-violation-in-santa-clara-county-vermin\n",
    "- 2) https://www.paloaltoonline.com/blogs/p/2014/01/02/santa-clara-county-restaurants-with-the-most--and-least--health-violations-in-2013\n",
    "- 3) https://www.mercurynews.com/2015/10/23/san-jose-restaurant-food-poisoning-number-of-illnesses-rises-to-141-in-shigella-outbreak/\n",
    "- 4) https://www.areavibes.com/santa+clara-ca/crime/"
   ]
  },
  {
   "cell_type": "markdown",
   "metadata": {},
   "source": [
    "# Hypothesis\n"
   ]
  },
  {
   "cell_type": "markdown",
   "metadata": {},
   "source": [
    "I hypothesize that restaurants that are in a unpopular area, have barely any access to good temperature storage for their food, and little employees are more likely to receive a C on their health inspection. The reason to why I believe this is because restaurants in an unpopular area know that not many people will visit their restaurants so they will often slack off in keeping their restaurant clean. In addition, having a small employee group in a large restaurant makes it difficult to constantly clean their restaurant as they are tending to customers or etc. On the other hand, restaurants in a more popular area and a large employee base will pass their health inspections as they know people will often come to their restaurant & will return if they are satisfied with their food & cleanliness."
   ]
  },
  {
   "cell_type": "markdown",
   "metadata": {},
   "source": [
    "# Data"
   ]
  },
  {
   "cell_type": "markdown",
   "metadata": {},
   "source": [
    "*Explain what the ideal dataset you would want to answer this question. (This should include: What variables? How many observations? Who/what/how would these data be collected? How would these data be stored/organized?)*\n",
    "\n",
    "The ideal dataset would, of course, have the grade the restaurant received during that specific year. In addition, it would have a lot of columns that were binary (1 for yes or 0 for no) where there would be variables that asked if the restaurant had access to proper food storage, if they had a history of vermins, and whether or not they are located in a popular area (downtown __ (insert city here)). Also, data that showed how many employees are hired at that restaurant and metrics about the size of the restaurant. Ideally, I would like to have at least 50 restaurants from each city in the Santa Clara County.\n",
    "\n",
    "The Santa Clara Health Department should have this data as they have the history of the restaurants' scores and their locations. To collect data whether restaurants have access to proper food storage, I would need to manually ask each restaurant which is time consuming or it could be done by giving a survey to each restaurant online, but this causes many issues as restaurants can lie or not respond to my survey. I can also find out the metrics of the restaurant by using data from the Santa Clara County as they should have information of each building in the county. To determine whether or not a restaurant is in a populated area, I could use a maps app that shows where the restaurant is located. \n",
    "\n",
    "Typically, data from the Santa Clara Health Department is stored through CSVs which makes it easier for me to access using pandas DataFrame."
   ]
  },
  {
   "cell_type": "markdown",
   "metadata": {},
   "source": [
    "# Ethics & Privacy"
   ]
  },
  {
   "cell_type": "markdown",
   "metadata": {},
   "source": [
    "In upholding data ethics and privacy, even though some data is public via online, I would need permission from the Santa Clara County to have access to their data on restaurants so I will not be violating their rules. In addition, some ethics issues that I may be violating is the privacy of restaurants as many of them do not enjoy being exposed for their cleanliness as that tends to ruin their businesses. As previously mentioned, that reason may also affect how I collect my data as some restaurants may lie about answering questions like \"do you have a proper, working food storage?\" to make themselves look good."
   ]
  },
  {
   "cell_type": "code",
   "execution_count": null,
   "metadata": {},
   "outputs": [],
   "source": []
  }
 ],
 "metadata": {
  "kernelspec": {
   "display_name": "Python 3",
   "language": "python",
   "name": "python3"
  },
  "language_info": {
   "codemirror_mode": {
    "name": "ipython",
    "version": 3
   },
   "file_extension": ".py",
   "mimetype": "text/x-python",
   "name": "python",
   "nbconvert_exporter": "python",
   "pygments_lexer": "ipython3",
   "version": "3.6.7"
  }
 },
 "nbformat": 4,
 "nbformat_minor": 2
}
