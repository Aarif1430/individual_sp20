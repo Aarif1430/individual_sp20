{
 "cells": [
  {
   "cell_type": "markdown",
   "metadata": {},
   "source": [
    "# COGS 108 - Project Proposal"
   ]
  },
  {
   "cell_type": "markdown",
   "metadata": {},
   "source": [
    "# Names & PID\n",
    "\n",
    "- Name: Ryan Kim\n",
    "- PID: A14227191"
   ]
  },
  {
   "cell_type": "markdown",
   "metadata": {},
   "source": [
    "# Research Question"
   ]
  },
  {
   "cell_type": "markdown",
   "metadata": {},
   "source": [
    "Do certain non-critical critera in LA County food inspection help to predict food-borne illnesses/closures?\n"
   ]
  },
  {
   "cell_type": "markdown",
   "metadata": {},
   "source": [
    "## Background and Prior Work"
   ]
  },
  {
   "cell_type": "markdown",
   "metadata": {},
   "source": [
    "Restaurants are typically checked 1-3 types a year in Los Angeles by a health inspector, where the inspector\n",
    "checks to see if there are any violations of the California Retail Food Guide have been made (1).\n",
    "The LA County Health Department has defined the following points of emphasis (2): \n",
    "\n",
    "  - Improper hot and cold holding temperatures of potentially hazardous foods\n",
    "  - Improper cooking temperature of foods\n",
    "  - Cross contamination of utensils, equipment, and food contact surfaces\n",
    "  - Poor employee hygiene\n",
    "  - Unapproved food sources\n",
    "\n",
    "A paper by Jones et al. has found that mean scores of restaurants experiencing foodborne disease\n",
    "outbreaks did not differ from restaurants with no reported outbreaks(3). However, non-critical\n",
    "violations are less-penalized in the grading system. Jones et. al demonstrate that the current grading\n",
    "system of the food industry should be examined to help prevent food-borne illness.\n.",
    "References (include links):\n",
    "- 1) http://www.publichealth.lacounty.gov/eh/SSE/DESFAQ.htm\n",
    "- 2) https://www.sfdph.org/dph/EH/Food/Inspections.asp"
    
   ]
  },
  {
   "cell_type": "markdown",
   "metadata": {},
   "source": [
    "# Hypothesis\n"
   ]
  },
  {
   "cell_type": "markdown",
   "metadata": {},
   "source": [
    "*State and defend your hypotheses here.*"
   ]
  },
  {
   "cell_type": "markdown",
   "metadata": {},
   "source": [
    "# Data"
   ]
  },
  {
   "cell_type": "markdown",
   "metadata": {},
   "source": [
    "*Explain what the ideal dataset you would want to answer this question. (This should include: What variables? How many observations? Who/what/how would these data be collected? How would these data be stored/organized?)*"
   ]
  },
  {
   "cell_type": "markdown",
   "metadata": {},
   "source": [
    "# Ethics & Privacy"
   ]
  },
  {
   "cell_type": "markdown",
   "metadata": {},
   "source": [
    "*Fill in your ethics & privacy discussion here*"
   ]
  }
 ],
 "metadata": {
  "kernelspec": {
   "display_name": "Python 3",
   "language": "python",
   "name": "python3"
  },
  "language_info": {
   "codemirror_mode": {
    "name": "ipython",
    "version": 3
   },
   "file_extension": ".py",
   "mimetype": "text/x-python",
   "name": "python",
   "nbconvert_exporter": "python",
   "pygments_lexer": "ipython3",
   "version": "3.7.0"
  }
 },
 "nbformat": 4,
 "nbformat_minor": 2
}
