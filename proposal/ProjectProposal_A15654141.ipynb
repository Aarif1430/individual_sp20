{
 "cells": [
  {
   "cell_type": "markdown",
   "metadata": {},
   "source": [
    "# COGS 108 - Project Proposal"
   ]
  },
  {
   "cell_type": "markdown",
   "metadata": {},
   "source": [
    "# Names & PID\n",
    "\n",
    "- Name: Jonathan Yu\n",
    "- PID: A15654141"
   ]
  },
  {
   "cell_type": "markdown",
   "metadata": {},
   "source": [
    "# Research Question"
   ]
  },
  {
   "cell_type": "markdown",
   "metadata": {},
   "source": [
    "Has the ratio of restaurants inspected to restaurants being given a citation increased over time?"
   ]
  },
  {
   "cell_type": "markdown",
   "metadata": {},
   "source": [
    "## Background and Prior Work"
   ]
  },
  {
   "cell_type": "markdown",
   "metadata": {},
   "source": [
    "*Fill in your background and prior work here. Be sure to specify which statements are from which references.* \n",
    "\n",
    "       Reference 1 has created trends about restaurant inspections in New York City.  From the article given, they analyzed several metrics of restaurant inspections such as which restaurants were most prone to getting a violation of health codes as well as the average score of restaurants over time.  The article does show the average score of restaurants over time; however, it does not specifically state the ratio of inspections to violations over time.  \n",
    "       \n",
    "       Reference 2 shows a different way of ranking restaurants through ranking the inspections out of 100.  The second reference shows that the mean score of restaurants when inspected over time has gone up.  Just like in reference 2, however, the article does not show the ratio of restaurants being inspected to the amount of restaurants being closed.\n",
    "       \n",
    "       Although both these references show information relating to health inspections and the average rating of restaurants overtime, they do not specifically state the question which I am looking for.  More research is needed to be done to answer my question.\n",
    "\n",
    "\n",
    "\n",
    "\n",
    "References (include links):\n",
    "- 1) https://www.sapanalytics.cloud/resources-visualizing-new-york-city-restaurant-inspections/\n",
    "- 2) https://www.ncbi.nlm.nih.gov/pmc/articles/PMC3323064/"
   ]
  },
  {
   "cell_type": "markdown",
   "metadata": {},
   "source": [
    "# Hypothesis\n"
   ]
  },
  {
   "cell_type": "markdown",
   "metadata": {},
   "source": [
    "The ratio of restaurants inspected to restaurants being deemed hazardous will have decreased over time.  This will be due to stricter health inspections."
   ]
  },
  {
   "cell_type": "markdown",
   "metadata": {},
   "source": [
    "# Data"
   ]
  },
  {
   "cell_type": "markdown",
   "metadata": {},
   "source": [
    "*Explain what the ideal dataset you would want to answer this question. (This should include: What variables? How many observations? Who/what/how would these data be collected? How would these data be stored/organized?)*\n",
    "\n",
    "\n",
    "The ideal dataset would include variables of year, number of inspections, number of citations, and location.  With these variables, one could calculate the ratio of restaurants inspected to citations and thus could create a graph showing the correlation between the two.  This would be stored in a rectangular table or a csv file to parse the data.  The amount of observations would preferable be a few hundred in order to create a more accurate graph.  These observations would include the above variables to plot the ratio."
   ]
  },
  {
   "cell_type": "markdown",
   "metadata": {},
   "source": [
    "# Ethics & Privacy"
   ]
  },
  {
   "cell_type": "markdown",
   "metadata": {},
   "source": [
    "The data has not been determined yet so it is unsure if we have permission to use the data; however, as the professor is giving us the data I can assume I do have permission to do so.  No privacy concerns should be a problem as these data does not have names or personal identifying data for specific people.  As of potential biases, I will need to make sure that it addresses several locations as focusing as just one would skew the data to favor only one part of the country.  No other issues are of concern just yet.  \n",
    "\n",
    "When the dataset is introduced, I will make sure to address whether or not the data is ethically correct as for using it.  I will need to address the privacy concerns and make sure that I use the dataset in a morally correct way.  This includes taking out personally identifying information as well as making sure the data is not biased."
   ]
  },
  {
   "cell_type": "code",
   "execution_count": null,
   "metadata": {},
   "outputs": [],
   "source": []
  }
 ],
 "metadata": {
  "kernelspec": {
   "display_name": "Python 3",
   "language": "python",
   "name": "python3"
  },
  "language_info": {
   "codemirror_mode": {
    "name": "ipython",
    "version": 3
   },
   "file_extension": ".py",
   "mimetype": "text/x-python",
   "name": "python",
   "nbconvert_exporter": "python",
   "pygments_lexer": "ipython3",
   "version": "3.6.7"
  }
 },
 "nbformat": 4,
 "nbformat_minor": 2
}
