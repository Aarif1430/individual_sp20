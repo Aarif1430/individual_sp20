{
 "cells": [
  {
   "cell_type": "markdown",
   "metadata": {},
   "source": [
    "# COGS 108 - Project Proposal"
   ]
  },
  {
   "cell_type": "markdown",
   "metadata": {},
   "source": [
    "# Names & PID\n",
    "\n",
    "- Name: Janica Peredo\n",
    "- PID: A15750337"
   ]
  },
  {
   "cell_type": "markdown",
   "metadata": {},
   "source": [
    "# Research Question"
   ]
  },
  {
   "cell_type": "markdown",
   "metadata": {},
   "source": [
    "# *Is there a relationship between the introduction of restaurant inspection scores and the number of reported foodborne illnesses?*"
   ]
  },
  {
   "cell_type": "markdown",
   "metadata": {},
   "source": [
    "## Background and Prior Work"
   ]
  },
  {
   "cell_type": "markdown",
   "metadata": {},
   "source": [
    "    Foodborne illnesses are defined as infections caused by bacteria, viruses, parasites, and/or toxins when ingesting food. There are currently 31 known pathogens which make-up 21% of 179 million reported foodborne illnesses in the United States. The rest are unknown. In looking at restaurant hygiene before restaurant inspection scores were implemented in 1998, it was found that 50% of foodborne illnesses were attributed to restaurants. Approximately 325,000 people in 1999 were infected with 5,000 attributed deaths (Simon 2005). In 2011, the Center for Disease Control and Prevention (CDC) found that on average 128,000 people are hospitalized and approximately 3,000 attributed deaths (Scallan 2011). This brings up the question on the effectiveness of restaurant inspection scores as there appears to be a negative relationship between the first introduction of the score and the amount of hospitalizations. Restaurants with low inspection scores were seen to have an association with foodborne illnesses. However, in determining the relationship, more research is needed to determine causality. \n",
    "    \n",
    "    One thing to note is in Tennessee, it was found that the 12 most commonly cited violations were not critical food hazards. This includes proper flooring, walls, food protection during storage, ice contact, etc. The most critical violation found was storing cleaning fluids which was number 13 in most commonly cited (Jones 2004). The average score was also found the be approximately 80%. There seemed to be a variation between inspector scores and different regions. Therefore there may be a possible variation between inspection scores. This should be accounted for as the scores could be based on bias rather than uniformity. An Enviromnetal Health Specialist Network was introduced by the CDC and Food and Drug Association (FDA) in order to improve food health and reduce foodborne illnesses (Jones 2004). Overall it was found that more research was needed to find a causation between food inspection scores and the decrease with foodborne illnesses. \n",
    "\n",
    "References (include links):\n",
    "- 1) Simon, Paul & Leslie, Phillip & Run, Grace & Jin, Ginger & Reporter, Roshan & Aguirre, Arturo & Fielding, Jonathan. (2005). Impact of restaurant hygiene grade cards on foodborne-disease hospitalizations in Los Angeles County. Journal of environmental health. 67. 32-6, 56; quiz 59. \n",
    "https://www.researchgate.net/publication/7942379_Impact_of_restaurant_hygiene_grade_cards_on_foodborne-disease_hospitalizations_in_Los_Angeles_County \n",
    "\n",
    "- 2)Jones, T. F., Pavlin, B. I., LaFleur, B. J., Ingram, L. A., & Schaffner, W. (2004). Restaurant inspection scores and foodborne disease. Emerging infectious diseases, 10(4), 688–692. https://doi.org/10.3201/eid1004.030343\n",
    "https://www.ncbi.nlm.nih.gov/pmc/articles/PMC3323064/\n",
    "\n",
    "- 3)Scallan E, Hoekstra RM, Angulo FJ, Tauxe RV, Widdowson M, Roy SL, et al. Foodborne illness acquired in the United States—major pathogens. Emerg Infect Dis. 2011;17(1):7-15.\n",
    "https://www.cdc.gov/foodborneburden/2011-foodborne-estimates.html\n"
   ]
  },
  {
   "cell_type": "markdown",
   "metadata": {},
   "source": [
    "# Hypothesis\n"
   ]
  },
  {
   "cell_type": "markdown",
   "metadata": {},
   "source": [
    "*With the introduction of the food inspection scores, there should be a negative relationship between foodborne illnesses and scores. The food inspection scores represents a way for customers to measure and compare restaurants on a ratio scale. Unlike food reviews such as Yelp, it offers a way for the customer to feel safe when eating at an unknown restaurant as it is government regulated. This may become an incentive to restaurant's as attaining and maintaining a high score may increase customers. In order to have a high score, the health codes must be up-to date and therefore may lower foodborne illnesses.*"
   ]
  },
  {
   "cell_type": "markdown",
   "metadata": {},
   "source": [
    "# Data"
   ]
  },
  {
   "cell_type": "markdown",
   "metadata": {},
   "source": [
    "* The ideal dataset would include a list of restaurants, fast-food places, and bars that serve food. It would be in JSON format in order to key other data. It would have a number N>30 in a population and would survey several restaurants in different areas. An example is if looking at Californial, would be survey multiple retaurants in Chico, CA; Los Angeles, CA; and Humboldt, CA; etc. A difference in area would affect the amount of people that eat at the restaurant which may skew the results. In Los Angeles, the population number would be higher than a smaller town such as Chico. This should be accounted for in the statistical tests used. An ANOVA test would be used to see if there is a possible correlation between multiple variables. Other tests that could be used is a T-Test. \n",
    "\n",
    "    Measured Variables:\n",
    "    Amount of reported foodborne illnesses per year (number of hospitilizations, deaths, longetivity, etc.)\n",
    "    Average number of customers per year.\n",
    "    Type of food (Japanese, Mexican, Fushion, Etc.). \n",
    "    Price range (It can provide insights on if more money was correlated with a higher inspection score).\n",
    "    Average inspection scores over the course of 5 years.\n",
    "    Number of inspections received. \n",
    "    Average age of customers and workers (can determined if age plays a factor in food safety).\n",
    "    How many employees are sick?\n",
    "\n",
    "   On average, observations should be done at least 4 times a year. During the Holiday months such as November and December, there may be a confounding variable of travel. Many people may travel and spread the illnesses because of more exposure. \n",
    "   \n",
    "   The data should be stored in JSON/Relational Databases. Relational Databases would increase privacy and JSON would allow you to store keys to each participant. \n",
    "   \n",
    "   A survey would be useful if using it to measure the amount of customers and other varibale such as age and travel history. It should be as random and as close to a population as possible. An example would be a community survey with questions such as 'What is your most frequent restaurants? Approximately how many times a week?' and 'Have you ever been infected with a foodborne illness? Did you need hospitilization? What pathogen were you infected with?'. \n",
    "   \n",
    "   Data on reported foodborne illnesses could also be found on the CDC website. Food inspection scores are found on https://www.sdfoodinfo.org/restaurant.html. Violations and scores are reported on the website. The average inspection score can be computated over the course of 5 years. Violations could also be looked into if they were fixed or ignored by restaurants. \n",
    "   Food surveys can be  stored in a personal database. Webscraping can be used on the website to get the data from the CDC about foodborne illnesses reported. Foodborne illnesses can also be webscraped on news websites such as the E.Coli breakout at Chipotle. Excel can also be implemented for graphs and storing data. I've used it in the past for research studies. \n"
   ]
  },
  {
   "cell_type": "markdown",
   "metadata": {},
   "source": [
    "# Ethics & Privacy"
   ]
  },
  {
   "cell_type": "markdown",
   "metadata": {},
   "source": [
    "* In order to uphold the ethics and privacy of customers, employees, and health inspectors; a relationsional database should be implemented. An example would be when surveying customers, names should be removed and identifying information such as specific areas. Instead a possible way is to identify each customer with a random generated number such as C924802938. This way it can be used to create a JSON which can link other information such as age, if they reported a foodborne illness or not, and the amount of food. Health inspectors were not included in the data available, however if included could help understand ratings if one were to rate higher or lower respectively.\n",
    "\n",
    "    With regards to employees, a private survey should be used in a similar format to the customer with a capitalize E in front of the number instead of C. Anyone taking the survey should be allowed to withdraw from the survey. Any outliers should be included in the discussion. Since most of the data would be found on the government websites which is public, privacy should not be an issue if it's statistics and no identifying information was given. The public survey would not have any identifying information. \n",
    "    \n",
    "    There should be no potential biases regarding particular populations. Everyone would have a chance to answer the survey, however area may have a difference in population density. Therefore several areas should be looked into to lower the risk of bias. An example would be Hillcrest, San Diego; La Jolla, San Diego; and La Mesa, San Diego. If there was confounding variable, such as a outlier, it should be acknowledged in the discussion. It would be included in analyses and then taken out and analyzed. *"
   ]
  },
  {
   "cell_type": "code",
   "execution_count": null,
   "metadata": {},
   "outputs": [],
   "source": []
  }
 ],
 "metadata": {
  "kernelspec": {
   "display_name": "Python 3",
   "language": "python",
   "name": "python3"
  },
  "language_info": {
   "codemirror_mode": {
    "name": "ipython",
    "version": 3
   },
   "file_extension": ".py",
   "mimetype": "text/x-python",
   "name": "python",
   "nbconvert_exporter": "python",
   "pygments_lexer": "ipython3",
   "version": "3.6.7"
  }
 },
 "nbformat": 4,
 "nbformat_minor": 2
}
