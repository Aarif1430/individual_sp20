{
 "cells": [
  {
   "cell_type": "markdown",
   "metadata": {},
   "source": [
    "# COGS 108 - Project Proposal"
   ]
  },
  {
   "cell_type": "markdown",
   "metadata": {},
   "source": [
    "# Names & PID\n",
    "\n",
    "- Name: Josh Miller\n",
    "- PID: A13304520"
   ]
  },
  {
   "cell_type": "markdown",
   "metadata": {},
   "source": [
    "# Research Question"
   ]
  },
  {
   "cell_type": "markdown",
   "metadata": {},
   "source": [
    "Is there a relationship between the sentiment of a restaurants Yelp reviews and the score it receives from a health inspector?"
   ]
  },
  {
   "cell_type": "markdown",
   "metadata": {},
   "source": [
    "## Background and Prior Work"
   ]
  },
  {
   "cell_type": "markdown",
   "metadata": {},
   "source": [
    "   According to source 1, the restaurant health inspection process is run in such a manner as to place higher importance on restaurants with waring factors such as the type of food served or its compliance history. For example a sushi restaurant (raw preparation) which had violations on its previous check in would have higher priority than a restaurant that has scored perfectly in the past. This however seems like a clumsy way of assigning the limited staff of health inspectors.\n",
    "   \n",
    "   We see in source 2 that social media posts about restaurants in Boston were used to improve the health inspection process. This would serve to add a more modern (and frequently updated) base of knowledge on a large number of restaurants in a given city. Additionally, all data is user submitted so health inspectors would not need to look up prior offenses and other antiquated methods such as those listed in source 1. \n",
    "\n",
    "References (include links):\n",
    "- 1)https://recipes.howstuffworks.com/tools-and-techniques/restaurant-health-inspections.htm\n",
    "- 2)https://www.drivendata.org/competitions/5/keeping-it-fresh-predict-restaurant-inspections/"
   ]
  },
  {
   "cell_type": "markdown",
   "metadata": {},
   "source": [
    "# Hypothesis\n"
   ]
  },
  {
   "cell_type": "markdown",
   "metadata": {},
   "source": [
    "I believe that the \"better\" the yelp review (in terms of score and sentiment) the higher the score it receives from the health inspector and vice versa. Therefore we could optimize the schedule of health inpectors by prioritizing those with the worst yelp reviews, because no one is more worried about the cleanliness of a restaurant than its consumers so they are highly likely to notice/report any possible hazards."
   ]
  },
  {
   "cell_type": "markdown",
   "metadata": {},
   "source": [
    "# Data"
   ]
  },
  {
   "cell_type": "markdown",
   "metadata": {},
   "source": [
    "The ideal dataset for addressing this research question would track the variables of restaurant name, yelp score, sentiment of reviews, and current health inspection rating. These would be easier to work with in a csv that could be imported and manipulated with pandas. The more observations we have the better because the sample would be more representative, however that being said I believe the quation should be retrained to one city."
   ]
  },
  {
   "cell_type": "markdown",
   "metadata": {},
   "source": [
    "# Ethics & Privacy"
   ]
  },
  {
   "cell_type": "markdown",
   "metadata": {},
   "source": [
    "I do not see any privacy concerns regarding the data that I have mentioned up to this point. Specifically, Yelp is a public application for users to post reviews of restaurants so I do not believe it would be innappropriate to use the work of those individuals reviewing restaurants. Additionally, health inspection scores are legally required to be posted for consumers to be aware of the cleanliness of any restaurant they can go to, so again there is no privacy concern in my mind.\n",
    "\n",
    "One potential issue I could forsee is the lack of representation of poorer individuals and the restaurants they frequent due to the fact that 1)they might not have access or interest in posting Yelp reviews and 2) the restaurants may be family owned/local and might not haqve yelp data. to address these issues I would have to analyze correlations between NaN data found for yelp reviews which I'm sure will be quite a lot. In this case, to use this data we could use the restaurants past health inspector scores to prioritize them since no Yelp data would be available."
   ]
  }
 ],
 "metadata": {
  "kernelspec": {
   "display_name": "Python 3",
   "language": "python",
   "name": "python3"
  },
  "language_info": {
   "codemirror_mode": {
    "name": "ipython",
    "version": 3
   },
   "file_extension": ".py",
   "mimetype": "text/x-python",
   "name": "python",
   "nbconvert_exporter": "python",
   "pygments_lexer": "ipython3",
   "version": "3.6.7"
  }
 },
 "nbformat": 4,
 "nbformat_minor": 2
}
