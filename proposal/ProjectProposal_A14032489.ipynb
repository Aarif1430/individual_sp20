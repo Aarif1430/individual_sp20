{
 "cells": [
  {
   "cell_type": "markdown",
   "metadata": {},
   "source": [
    "# COGS 108 - Project Proposal"
   ]
  },
  {
   "cell_type": "markdown",
   "metadata": {},
   "source": [
    "# Names & PID\n",
    "\n",
    "- Name: Carlos Eduardo Matos Ribeiro\n",
    "- PID: A14032489"
   ]
  },
  {
   "cell_type": "markdown",
   "metadata": {},
   "source": [
    "# Research Question"
   ]
  },
  {
   "cell_type": "markdown",
   "metadata": {},
   "source": [
    "\n",
    "Do significant changes in customer traffic (i.e monthly/annual number of customers) impact the sanitary conditions of a restaurant in New York?\n"
   ]
  },
  {
   "cell_type": "markdown",
   "metadata": {},
   "source": [
    "## Background and Prior Work"
   ]
  },
  {
   "cell_type": "markdown",
   "metadata": {},
   "source": [
    "The time between health inspections of a restaurant in New York varies depending on the result of the restaurant's previous inspection; establishments with positive results (low scores, indicating a small number of violations), for example, have an 11-13 month period before their next inspection$^{1}$. Over such a long period, the sanitary conditions of a restaurant can change, perhaps dramatically, to a point where it might present a public health hazard. Therefore, in order to keep the population safe while uitlizing its resources efficiently, it would be very beneficial for the New York Department of Health to be able to make educated guesses about which restaurants present greater risk of worsening their sanitary conditions, thus demanding more attention.\n",
    "\n",
    "With that in mind, I have decided to investigate whether a change in a restaurant's customer traffic might be a helpful indicating factor. Customer traffic impacts several factors, many of which are related to a restaurant's sanitary conditions, such as how overworked the staff is, how often food has to be restocked, how often equipment has to be cleaned, how much attention managers can devote to health and safety practices, etc. Therefore, it is very possible that there could be a correlation or even a causal relationsihp between those factors, making this a worthwhile investigation.\n",
    "\n",
    "The most relevant research related to my investigation was a study conducted by the Environmental Health Specialists Network, which aimed to identify which factors most impacted safe food preparation practices in a restaurant. The study concluded that some of the main factors were the time pressure the employees felt, the quality of their equipment, the resources they had available and the emphasis managers gave to food safety$^{2}$. As discussed in the previous paragraph, many of these factors can be impacted by customer traffic, so this study helps corroborate that my research question holds promise and is worth investigating. In addition, other studides have shown that New York's grade based inspection system has improved average sanitary conditions$^{3}$ and decreased salmonella infection cases in the city$^{4}$. These indicate that the current system is indeed beneficial and so it is worthwhile to determine effective ways to know when and where to conduct the inspections.\n",
    "\n",
    "\n",
    "References (include links):\n",
    "\n",
    "- 1) https://www1.nyc.gov/assets/doh/downloads/pdf/rii/inspection-cycle-overview.pdf\n",
    "- 2) https://www.cdc.gov/nceh/ehs/ehsnet/docs/Factors_Impacting_Food_Workers_Food_Prep_FPT_journal.pdf\n",
    "- 3) https://www.ncbi.nlm.nih.gov/pmc/articles/PMC4330857/\n",
    "- 4) https://wwwnc.cdc.gov/eid/article/24/12/18-0544_article"
   ]
  },
  {
   "cell_type": "markdown",
   "metadata": {},
   "source": [
    "# Hypothesis\n"
   ]
  },
  {
   "cell_type": "markdown",
   "metadata": {},
   "source": [
    "I expect that changes in both directions(i.e increases and decreases) in customer traffic will correlate with a decline in sanitary conditions of restaurants in New York, since both scenarios would present challenges that can lead to said decline. A very popular, busy restaurant that suddenly loses many customers might suddenly find it hard to keep its food fresh due to the reduced consumption rate, and it might face financial hardships that would lead it to overlook sanitary issues. A less busy restaurant that suddenly acquires many customers will likely be understaffed, poorly equipped, and lack the experience to adequately serve the larger crowd while maintanining appropriate health conditions."
   ]
  },
  {
   "cell_type": "markdown",
   "metadata": {},
   "source": [
    "# Data"
   ]
  },
  {
   "cell_type": "markdown",
   "metadata": {},
   "source": [
    "Since my project looks to investigate the relation between very different metrics, datasets from different sources would be required. They could then be combined using an unique identifier for each distinct restaurant.\n",
    "\n",
    "One of them could come directly from the New York Health Department, who publicizes the results of their inspections. Ideally it would be organized in a table, with the rows being restaurant inspection results and the columns including the restaurant name, the date of the inspection, the resulting score of the inspection and an address and/or zipcode, to ensure that my investigation was not biased to one particular location. Since the project aims to understand changes in sanitary conditions over time, multiple of these tables would be required, each one from a different period of inspections i.e five tables, corresponding to inspections from the 2015-2019.\n",
    "\n",
    "The other dataset would have to provide some metric of customer traffic for each restaurant, again with multiple observations over different time periods. One way to estimate traffic would be to directly interview restaurant employees and ask for estimates, but that would be quite ineffective and estimates of previous years would likely be very innaccurate. Therefore, I would have to use some heuristic metrics to estimate traffic, such as number of Yelp reviews, Foursquare check-ins and/or reservations completed through digital platforms such as Open Table, each of these in a per-year or per-month basis depending on how much data was available. The data in this case would have to be collected through APIs and possibly web-scraping, so it would be at best semi-structured (JSON or XML), and at worst, completely unstructured. After collecting the data, I would clean it and store in a tidy data formatted table, with observations as rows and columns for restaurant name, metric results and dates of said results. This would allow merging/joining with the inspection results dataset for analysis.\n",
    "\n",
    "To carry out meaningful analysis on this topic, I would require a significant number of restaurants with changes in their customer traffic over time, so to maximize the chances of having such samples while maintaining a manageable dataset, ideally there would be observations from 1,000-5,000 different restaurants."
   ]
  },
  {
   "cell_type": "markdown",
   "metadata": {},
   "source": [
    "# Ethics & Privacy"
   ]
  },
  {
   "cell_type": "markdown",
   "metadata": {},
   "source": [
    "All of the data about the inspection results are publicly available and restaurants are mandated by law to display their health inspection letter grade to customers; therefore, there is no privacy concern in using and displaying said data. Nevertheless, since the purpose of the project is to look at general trends and not specific cases, restaurant names will be omitted, and unique identifiers will be used instead. This will also prevent exposing information of how a particular restaurant's business has been doing over the past few years, which is not at all the intention of this project.\n",
    "\n",
    "Another potential concern would be to accidentally find/demonstrate a correlation between certain areas of the city and worse or declining health and safety conditions amongst restaurants in that area. This would have the risk of creating biases about the area and the restaurants within it, which could potentially unfairly hurt its local businesses, including ones with adequate health and safety conditions. The problem could be even worse if such a correlation was found in an area with a demographic mainly composed of ethnic minorities, as it could accidentally help propagate harmful racial stereotypes. To address the issue, once the ZIP codes and addresses are examined to ensure that there are restaurants from all around the city in the sample, they will be removed from the datasets and will not be presented nor considered in the analysis."
   ]
  }
 ],
 "metadata": {
  "kernelspec": {
   "display_name": "Python 3",
   "language": "python",
   "name": "python3"
  },
  "language_info": {
   "codemirror_mode": {
    "name": "ipython",
    "version": 3
   },
   "file_extension": ".py",
   "mimetype": "text/x-python",
   "name": "python",
   "nbconvert_exporter": "python",
   "pygments_lexer": "ipython3",
   "version": "3.7.1"
  }
 },
 "nbformat": 4,
 "nbformat_minor": 2
}
