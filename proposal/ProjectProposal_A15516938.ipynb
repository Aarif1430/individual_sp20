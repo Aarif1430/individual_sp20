{
 "cells": [
  {
   "cell_type": "markdown",
   "metadata": {},
   "source": [
    "# COGS 108 - Project Proposal"
   ]
  },
  {
   "cell_type": "markdown",
   "metadata": {},
   "source": [
    "# Names & PID\n",
    "\n",
    "- Name: Calvin Chen\n",
    "- PID: A15516938"
   ]
  },
  {
   "cell_type": "markdown",
   "metadata": {},
   "source": [
    "# Research Question"
   ]
  },
  {
   "cell_type": "markdown",
   "metadata": {},
   "source": [
    "How does time in between restaurant inspections affect the number of violations cited? Can we conclude a break interval to be mandated to inspectors in order to improve the inspection process? "
   ]
  },
  {
   "cell_type": "markdown",
   "metadata": {},
   "source": [
    "## Background and Prior Work"
   ]
  },
  {
   "cell_type": "markdown",
   "metadata": {},
   "source": [
    "Food safety often doesn't come to mind when you think about public wellbeing. However, the Centers for Disease Control and Prevention (CDC) estimates that foodborne illness affects about 48 million Americans and is responsible for about 3,000 deaths annually in the US. Finding a way to improve the restaurant health inspection process is a good step to helping prevent the nearly 500,000 annual foodborne-related hospitalizations and save the nation billions in medical costs. \n",
    "\n",
    "One article that raised the same concerns suggested some interesting methods to help food inspectors do a better job. The authors of the study found that the way things are right now, food inspectors tend to cite fewer violations at each successive establishment they visit in the day. They suggested that as a way to avoid exhausting the inspectors, food inspections should be more spread out across the schedule. They also found that if an inspector has a really bad experience at one establishment, he is more likely to be more diligent when inspecting the next establishment, often citing more violations than normal. Although the authors may not have a clear solution to this case, they imagine there are ways to encourage inspectors to bring this diligence with them to each inspection.\n",
    "\n",
    "Another study conducted on restaurant inspection consistency in the state of Tennessee found that restaurant inspection scores varies over time, by region, and by the inspector. The researchers concluded that for a system with such an important role of preventing foodborne disease, it may not be as reliable as it should be. They suggested that as a way to keep the process more uniform, periodic retraining and systematic standardization of inspection criteria may be a solution. \n",
    "\n",
    "\n",
    "References:\n",
    "- 1) Foodborne illness stats (paragraph 1) - https://www.cdc.gov/foodborneburden/2011-foodborne-estimates.html\n",
    "- 2) Study 1 (paragraph 2) - https://hbr.org/2019/05/to-improve-food-inspections-change-the-way-theyre-scheduled\n",
    "- 3) Study 2 (paragraph 3) - https://www.ncbi.nlm.nih.gov/pmc/articles/PMC3323064/"
   ]
  },
  {
   "cell_type": "markdown",
   "metadata": {},
   "source": [
    "# Hypothesis\n"
   ]
  },
  {
   "cell_type": "markdown",
   "metadata": {},
   "source": [
    "Given the results of previous studies conducted on this topic, it seems to be clear that time in between inspections does have an effect on inspectors' evaluations throughout the day. I propose that if inspectors were to take at least 2 hour breaks in between inspections, the entire process would be a lot more consistent and accurate in citing violations. "
   ]
  },
  {
   "cell_type": "markdown",
   "metadata": {},
   "source": [
    "# Data"
   ]
  },
  {
   "cell_type": "markdown",
   "metadata": {},
   "source": [
    "The ideal dataset for this study would be in a tabular format for easy readability and ability to generate visualizations. We want observations to be instances of restaurant inspections, and variables to be when the inspection was done and how many violations were cited. \n",
    "\n",
    "In order for the data to be reflective of the entire US, we want a random sampling of inspections across the nation and a good number of entries. I would say at least 5000 entries of randomly selected inspections would be good enough to represent the inspection process in the US. We also want a reputable organization to carry out the data collection so we know that the information is accurate and reliable. "
   ]
  },
  {
   "cell_type": "markdown",
   "metadata": {},
   "source": [
    "# Ethics & Privacy"
   ]
  },
  {
   "cell_type": "markdown",
   "metadata": {},
   "source": [
    "Ideally the dataset used in the study should be released for public disclosure so that we would not have to scrape for data unintended for outsider use. \n",
    "\n",
    "Since the sampling method of the data might not be reflective of the entire US, we may have to account for the outside factors that may skew our results. For example, if we were only able to obtain information from a single state, we may only be able to generalize our results to that particular state since there may be differences in the inspection process between states. "
   ]
  }
 ],
 "metadata": {
  "kernelspec": {
   "display_name": "Python 3",
   "language": "python",
   "name": "python3"
  },
  "language_info": {
   "codemirror_mode": {
    "name": "ipython",
    "version": 3
   },
   "file_extension": ".py",
   "mimetype": "text/x-python",
   "name": "python",
   "nbconvert_exporter": "python",
   "pygments_lexer": "ipython3",
   "version": "3.6.7"
  }
 },
 "nbformat": 4,
 "nbformat_minor": 2
}
