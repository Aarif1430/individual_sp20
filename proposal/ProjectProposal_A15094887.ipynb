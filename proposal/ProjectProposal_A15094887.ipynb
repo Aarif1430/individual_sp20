{
 "cells": [
  {
   "cell_type": "markdown",
   "metadata": {},
   "source": [
    "# COGS 108 - Project Proposal"
   ]
  },
  {
   "cell_type": "markdown",
   "metadata": {},
   "source": [
    "# Names & PID\n",
    "\n",
    "- Name: Cyndia Zhou\n",
    "- PID: A15094887"
   ]
  },
  {
   "cell_type": "markdown",
   "metadata": {},
   "source": [
    "# Research Question"
   ]
  },
  {
   "cell_type": "markdown",
   "metadata": {},
   "source": [
    "How much have certain products, such as masks and toilet paper, increased in sales in the US (per month) since the start of the COVID-19 national lockdown?"
   ]
  },
  {
   "cell_type": "markdown",
   "metadata": {},
   "source": [
    "## Background and Prior Work"
   ]
  },
  {
   "cell_type": "markdown",
   "metadata": {},
   "source": [
    "References (include links):\n",
    "- 1) This article https://www.businessinsider.com/coronavirus-what-to-buy-top-selling-items-2020-2 outlines popular products that consumers are panic buying, including \"masks, hand sanitizer, oat milk, nutrition bars, and more\" (Peterson). This can help in figuring out which products to look at when analyzing their respective sales/purchase data.\n",
    "- 2) This article https://www.mercurynews.com/2020/04/13/what-item-are-shoppers-panic-buying-in-week-5-of-coronavirus-shutdown/ identifies products that are routinely out of stock, even as we approach week 6 of the COVID-19 shutdown, which can help in further highlighting which products are still popular among panic-buyers."
   ]
  },
  {
   "cell_type": "markdown",
   "metadata": {},
   "source": [
    "# Hypothesis\n"
   ]
  },
  {
   "cell_type": "markdown",
   "metadata": {},
   "source": [
    "Due to the panic-buying consumerism phenomena, we can safely assume that at least one of the aforementioned products (looking at you, toilet paper) will have increased exponentially since the start of the pandemic. The second article presented from \"Background and Prior Work\" emphasizes how certain products are still consistently and rapidly going out of stock, suggesting that certain products' sales are still increasing."
   ]
  },
  {
   "cell_type": "markdown",
   "metadata": {},
   "source": [
    "# Data"
   ]
  },
  {
   "cell_type": "markdown",
   "metadata": {},
   "source": [
    "*Explain what the ideal dataset you would want to answer this question. (This should include: What variables? How many observations? Who/what/how would these data be collected? How would these data be stored/organized?)*\n",
    "\n",
    "First, I would narrow down which products' sale data to look at, possibly through Nielsen – \"a global market research and data analytics company which generates revenue from its 2 major business units, 'Watch' and 'Buy'\". Ideally, I would collect data that traces how certain products have increased in consumer popularity over a x-week period. (Please note, because this project is not due until June, I have not yet decided on the increments of the weeks). The variables include the weeks of the pandemic lockdown (e.g., Week 1, Week 2, etc.) in relation to how much in sales a product has increased (or decreased). This data would then be presented in a line plot to help better visualize consumer purchase trends over this given period of time."
   ]
  },
  {
   "cell_type": "markdown",
   "metadata": {},
   "source": [
    "# Ethics & Privacy"
   ]
  },
  {
   "cell_type": "markdown",
   "metadata": {},
   "source": [
    "One major issue would be observing consumer privacy – all personal information will remain confidential. Additionally, it is equally important to ensure that the data to be analyzed will be collected in an ethical manner."
   ]
  }
 ],
 "metadata": {
  "kernelspec": {
   "display_name": "Python 3",
   "language": "python",
   "name": "python3"
  },
  "language_info": {
   "codemirror_mode": {
    "name": "ipython",
    "version": 3
   },
   "file_extension": ".py",
   "mimetype": "text/x-python",
   "name": "python",
   "nbconvert_exporter": "python",
   "pygments_lexer": "ipython3",
   "version": "3.6.7"
  }
 },
 "nbformat": 4,
 "nbformat_minor": 2
}
