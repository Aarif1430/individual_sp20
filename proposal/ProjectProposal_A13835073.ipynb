{
 "cells": [
  {
   "cell_type": "markdown",
   "metadata": {},
   "source": [
    "# COGS 108 - Project Proposal"
   ]
  },
  {
   "cell_type": "markdown",
   "metadata": {},
   "source": [
    "# Names & PID\n",
    "\n",
    "- Name: John Girardini\n",
    "- PID: A13835073"
   ]
  },
  {
   "cell_type": "markdown",
   "metadata": {},
   "source": [
    "# Research Question"
   ]
  },
  {
   "cell_type": "markdown",
   "metadata": {},
   "source": [
    "How representative are Health inspection scores of actual health and safety standards in restaurants in San Diego?"
   ]
  },
  {
   "cell_type": "markdown",
   "metadata": {},
   "source": [
    "## Background and Prior Work"
   ]
  },
  {
   "cell_type": "markdown",
   "metadata": {},
   "source": [
    "*Fill in your background and prior work here. Be sure to specify which statements are from which references.* \n",
    "\n",
    "References (include links):\n",
    "- 1)ABC grading system\n",
    "        -\"A\": score >=90\n",
    "        -\"B\": 80 <= score < 90\n",
    "        -\"C\": score < 80\n",
    "    - Major Risk Factor Violation: -4pt\n",
    "    - Minor Risk Factor Violation; -2pt\n",
    "    - Good Retail Practice Violation: -1pt\n",
    "    \n",
    "https://www.sandiegocounty.gov/content/sdc/deh/fhd/ffis/intro.html.html\n",
    "- 2) Metric to measure success of the health inspection system should NOT be high grades\n",
    "    - data set should contain actual reports of foodborn illness associated with restaurants\n",
    "    - maybe questionaire data asking overall customer satisfaction with health standards\n",
    "    - because ~99% of food establishments in SD have A ratings, but they may still have more than a few health/safety concerns\n",
    "        - 2 mjr+ 1 mnr\n",
    "        - 2 mjr + 2 GRP\n",
    "        - 1 mjr + 3 mnr\n",
    "        - etc.\n",
    "    \n",
    "https://www.nbcsandiego.com/news/local/99-of-san-diego-restaurants-earn-a-grades-bringing-usefulness-of-system-into-question/25381/\n",
    "- 3) A little more on health inspection guidelines\n",
    "http://sandiegohealth.org/food/op_guide_english.pdf"
   ]
  },
  {
   "cell_type": "markdown",
   "metadata": {},
   "source": [
    "# Hypothesis\n"
   ]
  },
  {
   "cell_type": "markdown",
   "metadata": {},
   "source": [
    "The health inspection scores are not representative enough of the actual conditions within food establishments. The reason is that the 'A' rating in SD is about 99% of restaurants, and some of these may have two major health/safety violations and still have this rating, meaning they have the potential to get people seriously sick and still have A's. The scoring system may need to be re-evaluated to raise the standards."
   ]
  },
  {
   "cell_type": "markdown",
   "metadata": {},
   "source": [
    "# Data"
   ]
  },
  {
   "cell_type": "markdown",
   "metadata": {},
   "source": [
    "*Explain what the ideal dataset you would want to answer this question. (This should include: What variables? How many observations? Who/what/how would these data be collected? How would these data be stored/organized?)*\n",
    "The ideal data set for this question would be a few groups of tabulated data entailing: the health inspection scores of a sample of food establishments in SD and reports of foodborn illness or safety hazards. It might be difficult to obtain the second variable, so an additional one would be levels of customer agreement with the scores of the restaurants. Also, breaking up the scores by their violations (if possible) to ascertain the numbers of the major violations that there are for each score. We would need a good sized random sample of SD establishments, meaning at least 10% of all of them. \n",
    "The health inspection scores can be obtained by using a Public Records Request. The reports may be gathered from a text analysis of newspapers with a search for words relating to foodborn illness, like \"food poisoning\" or \"poor personal hygiene.\" The data about customer agreement with the scores could come from Yelp reviews with a search for similar words as before."
   ]
  },
  {
   "cell_type": "markdown",
   "metadata": {},
   "source": [
    "# Ethics & Privacy"
   ]
  },
  {
   "cell_type": "markdown",
   "metadata": {},
   "source": [
    "For ethics, it would be very important to protect the identities of all of the establishments, as we wouldn't want to harm their business in any way as a result of the analysis. Other personal identifiable information we want to remove/protect would be the people who submitted the yelp reviews and the victims of foodborn illness. Another important point for the yelp reviews pearticularly would be to be wary of outliers in the case that someone is very against a food establishment because they had a bad experience there."
   ]
  },
  {
   "cell_type": "code",
   "execution_count": null,
   "metadata": {},
   "outputs": [],
   "source": []
  }
 ],
 "metadata": {
  "kernelspec": {
   "display_name": "Python 3",
   "language": "python",
   "name": "python3"
  },
  "language_info": {
   "codemirror_mode": {
    "name": "ipython",
    "version": 3
   },
   "file_extension": ".py",
   "mimetype": "text/x-python",
   "name": "python",
   "nbconvert_exporter": "python",
   "pygments_lexer": "ipython3",
   "version": "3.6.7"
  }
 },
 "nbformat": 4,
 "nbformat_minor": 2
}
