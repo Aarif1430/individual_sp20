{
 "cells": [
  {
   "cell_type": "markdown",
   "metadata": {},
   "source": [
    "# COGS 108 - Project Proposal"
   ]
  },
  {
   "cell_type": "markdown",
   "metadata": {},
   "source": [
    "# Name & PID\n",
    "\n",
    "- Name: Xyana Dewindt\n",
    "- PID: A13989354"
   ]
  },
  {
   "cell_type": "markdown",
   "metadata": {},
   "source": [
    "# Research Question"
   ]
  },
  {
   "cell_type": "markdown",
   "metadata": {},
   "source": [
    "What is the correlation between health inspection scores and food related illnesses in the city of San Diego versus in the city of Los Angeles?"
   ]
  },
  {
   "cell_type": "markdown",
   "metadata": {},
   "source": [
    "## Background and Prior Work"
   ]
  },
  {
   "cell_type": "markdown",
   "metadata": {},
   "source": [
    "I chose to compare two sistering cities within the state of California since the grading systems for health inspections are similar. This would make it less difficult for me to find similarities and differences in health inspections and food related illnesses between these cities. This question was sparked by my curiosity in finding out information in regards to health inspections within different areas of our country but decided to stick with a neighboring city so that the differences aren’t too broad and reduce the potential of affecting data collection tremendously. \n",
    "\n",
    "Both in San Diego and Los Angeles, restaurants are inspected on a regular basis to ensure that they are following all the guidelines required to run a food related business, specifically to avoid any transmission of food related illnesses. The inspection process may be a bit different between the two cities but the grading scale is similar in that each restaurant will receive a letter grade (A, B, or C) at the end of the inspection. The main difference is that in San Diego, those who receive an A or B are allowed to continue to operate, but those who receive a C require closure and an additional inspection. (1) In Los Angeles, those who receive an A are superior, a B is good, and a C is acceptable in food handling and overall general food facility maintenance. (2) According to this reference, only those who receive below a 70% twice within a 12 month period are subject to closure. \n",
    "\n",
    "When taking a look at reference (3) there is a long list of all the restaurants in LA county accompanied by their health inspection scores. This list includes numerous operating facilities with a health inspection score below 80. \n",
    "\n",
    "References (include links):\n",
    "- 1) https://www.sandiegocounty.gov/content/sdc/deh/fhd/ffis/intro.html.html\n",
    "- 2) http://publichealth.lacounty.gov/eh/misc/ehpost.htm\n",
    "- 3) https://ehservices.publichealth.lacounty.gov/ezsearch"
   ]
  },
  {
   "cell_type": "markdown",
   "metadata": {},
   "source": [
    "# Hypothesis\n"
   ]
  },
  {
   "cell_type": "markdown",
   "metadata": {},
   "source": [
    "The city of Los Angeles has more food related illnesses caused by restaurants than the city of San Diego. This is mainly due to the acceptance of lower scores given by health inspectors and lower standards as well as less pressure to receive higher health inspection scores. This causes poor standards of food hygiene, and less cleanliness causing more foodborne illnesses. "
   ]
  },
  {
   "cell_type": "markdown",
   "metadata": {},
   "source": [
    "# Data"
   ]
  },
  {
   "cell_type": "markdown",
   "metadata": {},
   "source": [
    "The ideal dataset would include a list of all inspected restaurants in San Diego as well as in Los Angeles from the past year, so that rules and regulations are up to date and data is current. It would be beneficial to include the health inspection score that restaurants received as well as the corresponding letter grade. This way the data can be organized in a way that the restaurants can be grouped/organized by their letter grade. This information is public information and can be found online. I’m not 100% sure of how many restaurants would be included in the data set but it would be upwards of 30,000. It would also be beneficial to include the health violations that caused a decrease in health inspection scores so that this can be related to potential foodborne illnesses that came from these restaurants. Additionally, I would need to look at and collect data from customer reviews to be able to find correlations between customer concerns in regards to food safety and the restaurant health inspection grade. If not enough data is found online in regards to reported food related illnesses, a study might have to be conducted to ensure enough data is collected to answer my research question. This study could include a sample size of about 20,000 individuals who reside within the city of San Diego or Los Angeles who are asked about their experience with restaurants in their area and foodborne illnesses. "
   ]
  },
  {
   "cell_type": "markdown",
   "metadata": {},
   "source": [
    "# Ethics & Privacy"
   ]
  },
  {
   "cell_type": "markdown",
   "metadata": {},
   "source": [
    "Food facility inspection reports are considered public information under the California Public Records Act. By using publicly available information, I will not be violating individual privacy through the use of this data. By using every restaurant within both cities, I exclude certain sampling biases and allow for the most accurate representation of the San Diego and Los Angeles grading processes. For the specific reported cases of food related illnesses as well as customer reviews, the individual’s names and information will be kept anonymous. If the need for an additional study/survey arises, the individual will have all necessary information be disclosed prior to answering any questions to ensure anonymity and allow the subject to ask questions/concerns. \n",
    "This research question and the data that could accompany it could impact restaurant’s negatively as it may give inaccurate impressions of the restaurants. Although this may be unavoidable, given the nature of the research question, notes/information can be added to the research so that this is made aware and that the research may be skewed.\n"
   ]
  }
 ],
 "metadata": {
  "kernelspec": {
   "display_name": "Python 3",
   "language": "python",
   "name": "python3"
  },
  "language_info": {
   "codemirror_mode": {
    "name": "ipython",
    "version": 3
   },
   "file_extension": ".py",
   "mimetype": "text/x-python",
   "name": "python",
   "nbconvert_exporter": "python",
   "pygments_lexer": "ipython3",
   "version": "3.6.7"
  }
 },
 "nbformat": 4,
 "nbformat_minor": 2
}
