{
 "cells": [
  {
   "cell_type": "markdown",
   "metadata": {},
   "source": [
    "# COGS 108 - Project Proposal"
   ]
  },
  {
   "cell_type": "markdown",
   "metadata": {},
   "source": [
    "# Names & PID\n",
    "\n",
    "- Name: Samuel Hayes\n",
    "- PID: A15613044"
   ]
  },
  {
   "cell_type": "markdown",
   "metadata": {},
   "source": [
    "# Research Question"
   ]
  },
  {
   "cell_type": "markdown",
   "metadata": {},
   "source": [
    "What factors can predict a Los Angeles food service business's health inspection rating (demographic region, type of business, inspector ID)?"
   ]
  },
  {
   "cell_type": "markdown",
   "metadata": {},
   "source": [
    "## Background and Prior Work"
   ]
  },
  {
   "cell_type": "markdown",
   "metadata": {},
   "source": [
    "California has a Statewide protocol in order to assess the health rating of retail food businesses, but each county implements the \"Cal Code\" differently. I am approaching the project through the persepctive of a Health Department worker in the County of Los Angeles. I have decided to focus selectively on Los Angeles county rather than comparing the data amongst California counties; although the general health code throughout California matches, the counties' varying criteria gives different meaning to the ratings, making it difficult to run meaningful analyses (1). Within Los Angeles county, the vast majority of inspections yield A ratings, which can vary from a score of 90 to 100 (2). After searching for different perspectives on health inspections in California, it became clear to me that the issue of health safety from public food retailers does not hold a prevalent place in the public eye. I could not find a thorough study conducted by a news website which assesses or questions the county's health inspection system. Almost all of the searches which I conducted concerning health inspectinos directed me to the Los Angeles County Public Health Department, which has a robust website providing the Reference Guide for Inspection, the County's database of inspections over the past two years, and the California Retail Food Code. It's possible that the public trusts that the Department, through their  protocols, to maintain a safe public food environment. Rather than investigate the public's (seemingly blind) trust of the health inspection process, I will investigate which factors are most closely linked to the likelihood of a low score. Through this intial analysis, I can go on to investigate whether these factors do play an integral role in the health quality of food businesses or if there are blind spots in our report. \n",
    "\n",
    "References (include links):\n",
    "- 1)https://www.nbcsandiego.com/news/local/99-of-san-diego-restaurants-earn-a-grades-bringing-usefulness-of-system-into-question/25381/\n",
    "- 2)http://publichealth.lacounty.gov/eh/docs/RefGuideFoodInspectionReport.pdf"
   ]
  },
  {
   "cell_type": "markdown",
   "metadata": {},
   "source": [
    "# Hypothesis\n"
   ]
  },
  {
   "cell_type": "markdown",
   "metadata": {},
   "source": [
    "The health inspection rating will be somewhat strongly correlated with the business's demographic region, and different inspectors will yield different distributions of scores. Because of the lack of thorough investigation concerning the health inspection processes, I can only surmise that the businesses in lower socio-economic regions will be less willing to focus attention and resources on the aspects which the health insepctions are assessing."
   ]
  },
  {
   "cell_type": "markdown",
   "metadata": {},
   "source": [
    "# Data"
   ]
  },
  {
   "cell_type": "markdown",
   "metadata": {},
   "source": [
    "An ideal dataset would include a table of all the inspections conducted in the County of Los Angeles over the last few years (since 2017, when the system was updated). Each inspection would include the date of the inspection; the facility, with its city, address, and a description; a score, grade, and a list of violations; and an ID for the inspector. These data would be (and have been) collected by the LA County Public Health Department immediately after each inspection is conducted. The number of observations would be in the 10^5 order of magnitude."
   ]
  },
  {
   "cell_type": "markdown",
   "metadata": {},
   "source": [
    "# Ethics & Privacy"
   ]
  },
  {
   "cell_type": "markdown",
   "metadata": {},
   "source": [
    "The privacy concerns will be minimal for both the food service businesses in question and the Department of Public Health, as the data being analyzed is publicly available. One consideration is the indentity of the health inspectors whose inspections are being assessed; these inspectors' names will not be collected, only an ID number which matches their work. "
   ]
  }
 ],
 "metadata": {
  "kernelspec": {
   "display_name": "Python 3",
   "language": "python",
   "name": "python3"
  },
  "language_info": {
   "codemirror_mode": {
    "name": "ipython",
    "version": 3
   },
   "file_extension": ".py",
   "mimetype": "text/x-python",
   "name": "python",
   "nbconvert_exporter": "python",
   "pygments_lexer": "ipython3",
   "version": "3.6.7"
  }
 },
 "nbformat": 4,
 "nbformat_minor": 2
}
