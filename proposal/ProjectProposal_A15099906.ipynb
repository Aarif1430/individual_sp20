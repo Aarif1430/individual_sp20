{
 "cells": [
  {
   "cell_type": "markdown",
   "metadata": {},
   "source": [
    "# COGS 108 - Project Proposal"
   ]
  },
  {
   "cell_type": "markdown",
   "metadata": {},
   "source": [
    "# Names & PID\n",
    "\n",
    "- Name: Yingzi Jin\n",
    "- PID: A15099906"
   ]
  },
  {
   "cell_type": "markdown",
   "metadata": {},
   "source": [
    "# Research Question"
   ]
  },
  {
   "cell_type": "markdown",
   "metadata": {},
   "source": [
    "- Can increasing the frequency of health inspection on the restaurants that have lower inspection grades in Los Angeles positively effect their inspection grades? \n",
    "\n",
    "- Are there relationships among the temperature/humidity/weather/season, the consumption of the raw meat and the foodborne illnesses like Campylobacter in California? (If there is some relationship, we might want to increase the frequency of inspection during certain time)\n",
    "\n",
    "- Is there any relationship between the restaurant inspection score and its popularity in L.A.? "
   ]
  },
  {
   "cell_type": "markdown",
   "metadata": {},
   "source": [
    "## Background and Prior Work"
   ]
  },
  {
   "cell_type": "markdown",
   "metadata": {},
   "source": [
    "References for the first question(include links):\n",
    "- \n",
    "\"Restaurant inspection frequency and food safety compliance.\" : https://www.ncbi.nlm.nih.gov/pubmed/19004396\n",
    "    \"The following presents the outcome of a study designed to assess the impact of increased inspection frequency on compliance measures in Hamilton, Ontario, in the absence of any other changes to food handler/safety programs or legislation...Results indicate that no statistical difference existed in outcome measures based on frequency of inspection.\"\n",
    "\n",
    "References for the second question:\n",
    "- 1) The introduction to Campylobcter: https://www.cdc.gov/campylobacter/faq.html\n",
    "    \"Most Campylobacter infections are probably acquired by eating raw or undercooked poultry or eating something that touched it. Campylobacter are also transmitted by other foods, including seafood, meat, and produce; by contact with animals; and by drinking untreated water.\"\n",
    "- 2) Temperature and Campylobcter: https://en.wikipedia.org/wiki/Campylobacter\n",
    "    \"They are positive by the oxidase test and catalase test. Campylobacter spp. are nonfermentative, and are best cultured at 42 °C. Survival at room temperature is poor, but they can survive for a short time at refrigeration temperatures – up to 15 times longer at 2 °C than at 20 °C. The bacterium dies out slowly at freezing temperatures and is heat sensitive: the cells are destroyed at temperatures above 48 °C.\"\n",
    "    \n",
    "References for the thrid question:\n",
    "- News about some popular restaurants get health violations:\n",
    "    https://www.wsoctv.com/news/local/dirty-dishes-among-more-than-a-dozen-health-violations-reported-at-popular-uptown-restaurant/902335702/\n",
    "    https://www.wcnc.com/article/news/local/restaurant-report-card/food-storing-issues-lead-to-low-health-score-at-plaza-midwood-restaurant/275-616f0b00-fba2-47f7-8e9a-d04836232373\n",
    "    https://www.wsbtv.com/news/local/popular-ihop-fails-inspection-with-a-58-temporarily-loses-permit/962439125/\n"
   ]
  },
  {
   "cell_type": "markdown",
   "metadata": {},
   "source": [
    "# Hypothesis\n"
   ]
  },
  {
   "cell_type": "markdown",
   "metadata": {},
   "source": [
    "- 1) Increasing the frequency of health inspection on the restaurants that have lower inspection grades in Los Angeles can positively effect their inspection grades.\n",
    "- 2) There are some relationships among temperature/humidity/weather/season, the consumption of the raw meat and the foodborne illnesses like Campylobacter in California.\n",
    "- 3) There is no relationship between the restaurant inspection score and its popularity in L.A. Therefore, the inpsection score may not affect people's choices on restaurants, which means that it cannot prevent people from dining in an environment with several food safety threats. "
   ]
  },
  {
   "cell_type": "markdown",
   "metadata": {},
   "source": [
    "# Data\n",
    "Amount of observations: it's better to have more observations (no less than 1000)\n",
    "Store the data in csv file \n",
    "\n",
    "For Q1:\n",
    "- Restaurant health inspection data in LA for at least 3 years (including restaurant's name, inspection score and letter grade, inspections date, violation description)\n",
    "- The data can be obtained from local government's website \n",
    "\n",
    "For Q2: (in CA)\n",
    "- Consumption of raw meat/seafood/poultry over at least a year\n",
    "- Weather information (temperature/humidity) over the same year\n",
    "- Foodborne illnessss (Campylobcter) case report over the same year (including the number of cases and the time when the case is confirmed) \n",
    "- The data can be obtained from NOAA (https://www.ncdc.noaa.gov/cdo-web/), USDA(https://www.usda.gov/),and CDC (https://data.cdc.gov/)\n",
    "\n",
    "\n",
    "For Q3: \n",
    "- Restaurant health inspection data in LA for at least 1 year (including restaurant's name, inspection score and letter grade, inspections date, violation description)\n",
    "- Restaurant revenue in LA for the same year(s)\n",
    "- The number of positive comments/likes about the restaurants in LA on Yelp\n",
    "- The data can be obtained from local government's website, CSI Market website (https://csimarket.com/Industry/Industry_Data.php?ind=914), yelp"
   ]
  },
  {
   "cell_type": "markdown",
   "metadata": {},
   "source": [
    "*Explain what the ideal dataset you would want to answer this question. (This should include: What variables? How many observations? Who/what/how would these data be collected? How would these data be stored/organized?)*"
   ]
  },
  {
   "cell_type": "markdown",
   "metadata": {},
   "source": [
    "# Ethics & Privacy"
   ]
  },
  {
   "cell_type": "markdown",
   "metadata": {},
   "source": [
    "From the research I've done for now, the datasets I need to access are open resources. But I do want to protect the privacy of the restaurants if I need to use the information that can negatively influences their businesses. Therefore, I would not mention their names/locations/numbers or any other information that can be used to identity them in my analysis and project.\n",
    "\n",
    "My ideal datasets should include the most recent data. However, some datasets I found are out-of-date (for example, I prefer the data from 2018 to 2020, but I can only find data from 2015 to 2017). It can be problematic because the situations change from year to year. If I cannot get the most recent data, my suggestion for the present or the future might be invalid as the problems may be solved or the situations may be improved. Therefore, I'll keep my confidence level relatively moderate and be conservative if I have to use \"old\" data. "
   ]
  }
 ],
 "metadata": {
  "kernelspec": {
   "display_name": "Python 3",
   "language": "python",
   "name": "python3"
  },
  "language_info": {
   "codemirror_mode": {
    "name": "ipython",
    "version": 3
   },
   "file_extension": ".py",
   "mimetype": "text/x-python",
   "name": "python",
   "nbconvert_exporter": "python",
   "pygments_lexer": "ipython3",
   "version": "3.6.7"
  }
 },
 "nbformat": 4,
 "nbformat_minor": 2
}
