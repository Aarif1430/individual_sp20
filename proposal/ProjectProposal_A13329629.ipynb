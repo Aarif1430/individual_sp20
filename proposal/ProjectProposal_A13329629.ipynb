{
 "cells": [
  {
   "cell_type": "markdown",
   "metadata": {},
   "source": [
    "# COGS 108 - Project Proposal"
   ]
  },
  {
   "cell_type": "markdown",
   "metadata": {},
   "source": [
    "# Names & PID\n",
    "\n",
    "- Name: Mohammad \n",
    "- PID: A13329629\n",
    "\n",
    "# Research Question"
   ]
  },
  {
   "cell_type": "markdown",
   "metadata": {},
   "source": [
    "Is there a difference between the number of store shutdowns by health inspectors among restuarants who offer drive thru and those who don't?"
   ]
  },
  {
   "cell_type": "markdown",
   "metadata": {},
   "source": [
    "## Background and Prior Work"
   ]
  },
  {
   "cell_type": "markdown",
   "metadata": {},
   "source": [
    "*Fill in your background and prior work here. Be sure to specify which statements are from which references.* \n",
    "\n",
    "References (include links):\n",
    "- 1) https://www.marshallnewsmessenger.com/news/local/sonic-shut-down-due-to-health-violations/article_684a575a-7c20-11e9-87f2-9f30be9da739.html\n",
    "\n",
    "\n",
    "- 2)https://vegas.eater.com/2019/10/10/20908412/southern-nevada-health-district-closes-five-restaurants\n",
    "\n",
    "- 3) https://www.ocregister.com/2019/07/05/orange-county-restaurants-shut-down-by-health-inspectors-june-27-july-5/\n",
    "\n",
    "\n",
    "My question was inspired by the thinking that on one hand fast food restuarants have more drive thru than other types of restaurants and on the other hand that fast meals are considered as cheap meals, thus these stores have less resources to spend on the necessary health regulations. On the first link, it talks about how one of Sonic stores (which is a fastt food drive thru store) has been shut down by government. I thought this was interesting because this particular franchise has the resources to pay more attention on its health norms and safety. However, I assumed that there's a possibility about how each single store is generating its revenue through inexpensive meals rather than to comply on its own brand rules. \n",
    "The second and third links are about other fast food restuarants which have been closed. Although I couldn't find indication about their type whether if they posses drive thru or not, but I found valuable because nearly all of them are fast food. So I assume this formula to show my though process:\n",
    "Drive Thru stores --> dominantly owned by fast food stores --> who offer cheap meals -->less revenue --> less resources to observe regulations --> store shut down\n",
    "While store shut down in California is not common and major fastfood stores (like In n Out or McDonald) in which nearly all of them offer drive thru, can be immune of the store shut down because of the fact that they pay attention to their reputation and/or they have more resources and money to meet safety needs, I will hold this possibility that some of them might get shut down because inidividual stores might generate less money and fail to keep up with those needs\n"
   ]
  },
  {
   "cell_type": "markdown",
   "metadata": {},
   "source": [
    "# Hypothesis\n"
   ]
  },
  {
   "cell_type": "markdown",
   "metadata": {},
   "source": [
    "Drive Thru stores generate less money so they are more prone to be shut down by government because fail to meet health regulations. "
   ]
  },
  {
   "cell_type": "markdown",
   "metadata": {},
   "source": [
    "# Data"
   ]
  },
  {
   "cell_type": "markdown",
   "metadata": {},
   "source": [
    "*Explain what the ideal dataset you would want to answer this question. (This should include: What variables? How many observations? Who/what/how would these data be collected? How would these data be stored/organized?)*\n",
    "\n",
    "While there's no perfect data set, I'd like to get my data from credible sources who are engaged in this matter, specifically the government health inspectors. The data indicates when and where a particular store was shut down. The minimum observations needed for this study are: 1- The indication on whether if a store posses a drive thru or not. 2- The inidication on whether if a store had a shut down incident on its record. Also it's better if the data mentiones three other observations like: 1- if a store is part of a franchise, 2- if a store serves fast food 3- store's revenue over the past 5 years, specifically the year before it was shut down.\n",
    "In the case of variable, I think the government id for each store is enpugh. It's better if data is in json format in terms of its organization."
   ]
  },
  {
   "cell_type": "markdown",
   "metadata": {},
   "source": [
    "# Ethics & Privacy"
   ]
  },
  {
   "cell_type": "markdown",
   "metadata": {},
   "source": [
    "Deon's Ethic Checklist\n",
    "1- If the data is shared to public, I have permission to use data (by looking at its terms to see if it's possible and cite the resource). If not, I can ask for permission and see if they let me to conduct such study.\n",
    "2- Yes there's a privacy concern on my data set. I don't think the original data (raw data) will include the name of stores that were shut down, but if that's not the case, I have to make sure that the names are not taken out before I begin my analysis. The reason is that it's not possible to see if all those stores will give me their permission to include their name on my data study.\n",
    "3-I don't think my data set would include any bias because the original data is derived from governement agency and they have the responsibility to make sure all factions of food industry are operating properly. \n",
    "4- At this moment, I can't really think of any issue before seeing the actual data set. The only thing that I can think is that this study might confirm my hypothesis and thus the stores who have drive thru are more prone to be shut down because of safety regulations. Some might think that stores with drive thru are less clean compared to stores with drive thru because of my findings. Then I need to mention that there are other stores (fast food and non fast food) restaurants that don't offer drive thru and they got shutdown. Also I will mention that some franchises (like McDonald or Sonic) has the history that some of their stores got shut down so a bigger franchise with more money doesn't mean that their stores are guaranteed to operate without being shut down by government. All in all, I want to see my data from a balanced perspective between corporations and smaller restaurants. "
   ]
  }
 ],
 "metadata": {
  "kernelspec": {
   "display_name": "Python 3",
   "language": "python",
   "name": "python3"
  },
  "language_info": {
   "codemirror_mode": {
    "name": "ipython",
    "version": 3
   },
   "file_extension": ".py",
   "mimetype": "text/x-python",
   "name": "python",
   "nbconvert_exporter": "python",
   "pygments_lexer": "ipython3",
   "version": "3.6.7"
  }
 },
 "nbformat": 4,
 "nbformat_minor": 2
}
