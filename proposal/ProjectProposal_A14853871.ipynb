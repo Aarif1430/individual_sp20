{
 "cells": [
  {
   "cell_type": "markdown",
   "metadata": {},
   "source": [
    "# COGS 108 - Project Proposal"
   ]
  },
  {
   "cell_type": "markdown",
   "metadata": {},
   "source": [
    "# Names & PID\n",
    "\n",
    "- Name: Kenny Chen\n",
    "- PID: A14853871"
   ]
  },
  {
   "cell_type": "markdown",
   "metadata": {},
   "source": [
    "# Research Question"
   ]
  },
  {
   "cell_type": "markdown",
   "metadata": {},
   "source": [
    "What types of violations (both critical and noncritical) are most common in restaurant health inspections?"
   ]
  },
  {
   "cell_type": "markdown",
   "metadata": {},
   "source": [
    "## Background and Prior Work"
   ]
  },
  {
   "cell_type": "markdown",
   "metadata": {},
   "source": [
    "Minor violations include things that aren't completely clean, like floors, rags, or countertops. Major violations could include things like vermin, malfunctioning freezers, or lack of employee hygeine.",
    "\n",
    "\n",
    "References (include links):\n",
    "- 1)https://www.quora.com/What-are-the-most-common-health-inspection-problems-in-restaurants\n",
    "- 2)http://www.minneapolismn.gov/health/inspections/foodinspections"
   ]
  },
  {
   "cell_type": "markdown",
   "metadata": {},
   "source": [
    "# Hypothesis\n"
   ]
  },
  {
   "cell_type": "markdown",
   "metadata": {},
   "source": [
    "My hypothesis is that the most common minor violations include things like floors or tables that aren't completely clean, while the most common major violations include employees not handling food with proper hygeine. It's not hard to imagine that things not being as clean as possible is a possible cause for a minor health violation. Furthermore, most restaurants are going to notice and deal with vermin like rats and cockroaches, so the most common major violation is going to be lack of sanitary procedure."
   ]
  },
  {
   "cell_type": "markdown",
   "metadata": {},
   "source": [
    "# Data"
   ]
  },
  {
   "cell_type": "markdown",
   "metadata": {},
   "source": [
   "The ideal dataset would have variables for each of the most common violations, and observations for categorization(major/minor), total amount of that violation, and a percentage that represents how common a violation is (ex. rats - 2%). This data would preferably be collected from official government reports, and could be cleanly stored in an excel spreadsheet."
   ]
  },
  {
   "cell_type": "markdown",
   "metadata": {},
   "source": [
    "# Ethics & Privacy"
   ]
  },
  {
   "cell_type": "markdown",
   "metadata": {},
   "source": [
   "The biggest ethics issue that comes to mind is permission to use this data. I might have some trouble obtaining the official data from state or city governments, since it may not be provided. I will just have to find as much data as I can, and if it is official government documentation, it is available for the public to legally use. An additional issue is that some restaurant owners may not want their past reports to be displayed (however, this would not be a big issue, since the restaurant names could be ommitted). Biases are possible, but that would be dependent on the health inspectors (for instance, a health inspector that gave caucasian restaurants a higher pass rate). To avoid this, I would have to try and identify these biases by hand, or search up each individual health inspector to double-check that they do not have any biases."
   ]
  }
 ],
 "metadata": {
  "kernelspec": {
   "display_name": "Python 3",
   "language": "python",
   "name": "python3"
  },
  "language_info": {
   "codemirror_mode": {
    "name": "ipython",
    "version": 3
   },
   "file_extension": ".py",
   "mimetype": "text/x-python",
   "name": "python",
   "nbconvert_exporter": "python",
   "pygments_lexer": "ipython3",
   "version": "3.7.0"
  }
 },
 "nbformat": 4,
 "nbformat_minor": 2
}
