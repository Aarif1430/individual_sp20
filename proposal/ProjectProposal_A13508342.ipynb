{
 "cells": [
  {
   "cell_type": "markdown",
   "metadata": {},
   "source": [
    "# COGS 108 - Project Proposal"
   ]
  },
  {
   "cell_type": "markdown",
   "metadata": {},
   "source": [
    "# Names & PID\n",
    "\n",
    "- Name: David Hornaday\n",
    "- PID: A13508342"
   ]
  },
  {
   "cell_type": "markdown",
   "metadata": {},
   "source": [
    "# Research Question"
   ]
  },
  {
   "cell_type": "markdown",
   "metadata": {},
   "source": [
    "Does there exist a correlation between the month of the year and the amount of music released by different record labels?
"
   ]
  },
  {
   "cell_type": "markdown",
   "metadata": {},
   "source": [
    "## Background and Prior Work"
   ]
  },
  {
   "cell_type": "markdown",
   "metadata": {},
   "source": [
    "In, “Competition for attention in the digital age: The case of single releases in the recorded music industry,” Christian Essling, Johannes Koenen, and Christian Peukert discuss how within the digital age of streaming platforms and services and the highly competitive nature of the music industry there has been an introduction to and an increase in single song releases. They explain how the, “attention generation motive becomes predominant,” and compare the release of singles to that of advertisements, because they bring attention to an artist and bring in revenue to labels without the release of a major body of work. Effective advertisements require good timing, and a reserved space, so it is likely that the best singles are released at optimal times. In, “Music Industry Sales:How streaming services such as Spotify, Apple Music and TIDAL affect album sales,” Gurpreet Bhoot analyzes how the introduction of digital media streaming services have affected sales on albums. An interesting concept introduced in this paper is the idea that certain artists release bodies of work exclusively to certain platforms, and streaming services, requiring users to choose which service and artists they would like to listen to. From this paper I think I can draw a few more assumptions. For example if a large artist released a large body of work exclusively on Spotify for instance it could be hypothesized that there would maybe be a lot of attention drawn to spotify during that time, and it would be an ideal time for other artists to release music and for labels to push for those songs to be included on the services larger playlists with millions of listeners.
\n",
    "\n",
    "References (include links):\n",
    "- 1)https://www.sciencedirect.com/science/article/pii/S0167624516300555 
\n",
    "- 2)https://digitalcommons.calpoly.edu/cgi/viewcontent.cgi?article=1132&=&context=joursp&=&sei-redir=1&referer=https%253A%252F%252Fscholar.google.com%252Fscholar%253Fhl%253Den%2526as_sdt%253D0%25252C5%2526q%253Dmonth%252Bof%252Bthe%252Byear%252Band%252Bthe%252Bamount%252Bof%252Bmusic%252Breleased%2526btnG%253D#search=%22month%20year%20amount%20music%20released%22  
\n"
   ]
  },
  {
   "cell_type": "markdown",
   "metadata": {},
   "source": [
    "# Hypothesis\n"
   ]
  },
  {
   "cell_type": "markdown",
   "metadata": {},
   "source": [
    "Given that the music industry is an extremely competitive industry, with profits in the billions yearly, it is important for record labels to push their singles and artists at the best and most efficient times to ensure maximum profit. If every label released singles simultaneously then profits would be minimal across the board, therefore I believe major record labels promote new singles during times in which other major labels may not be and there exists a natural correlation between the month of the year and the amount of singles various record labels release and promote.

"
   ]
  },
  {
   "cell_type": "markdown",
   "metadata": {},
   "source": [
    "# Data"
   ]
  },
  {
   "cell_type": "markdown",
   "metadata": {},
   "source": [
    "An ideal dataset would have a month by month account of the amount of songs released, by which artist, and to which label the artist is signed. I believe I can use the data released by Discogs. Discogs is a music database and every month they release data compiling the releases, artists, and labels. Ideally I think the data should be categorically organized with an emphasis on the month of the dataset as opposed to artist or label, because it will make comparison more efficient.
"
   ]
  },
  {
   "cell_type": "markdown",
   "metadata": {},
   "source": [
    "# Ethics & Privacy"
   ]
  },
  {
   "cell_type": "markdown",
   "metadata": {},
   "source": [
    "The Discogs data is available to the public under a creative commons licensing, potential stakeholders being the artists and the labels they belong to. Hypothetically if this study were available to them they would be able to learn about when other labels and artists release music most, but all of the data is available to the public already, and it is likely that major labels have already paid large sums of money for their own market research. Privacy can be ensured. The general public won’t be in the study but if necessary record company names and artist names can be anonymized to keep this information discrete. 
"
   ]
  }
 ],
 "metadata": {
  "kernelspec": {
   "display_name": "Python 3",
   "language": "python",
   "name": "python3"
  },
  "language_info": {
   "codemirror_mode": {
    "name": "ipython",
    "version": 3
   },
   "file_extension": ".py",
   "mimetype": "text/x-python",
   "name": "python",
   "nbconvert_exporter": "python",
   "pygments_lexer": "ipython3",
   "version": "3.7.0"
  }
 },
 "nbformat": 4,
 "nbformat_minor": 2
}
