{
 "cells": [
  {
   "cell_type": "markdown",
   "metadata": {},
   "source": [
    "# COGS 108 - Project Proposal"
   ]
  },
  {
   "cell_type": "markdown",
   "metadata": {},
   "source": [
    "# Names & PID\n",
    "\n",
    "- Name: Srujan Kumar\n",
    "- PID: A14972532"
   ]
  },
  {
   "cell_type": "markdown",
   "metadata": {},
   "source": [
    "# Research Question"
   ]
  },
  {
   "cell_type": "markdown",
   "metadata": {},
   "source": [
    "What effect do health inspection grades have on a business (namely customer ratings, and gross earnings)? Does the reason for the grade deduction play a role or is the grade alone sufficient?"
   ]
  },
  {
   "cell_type": "markdown",
   "metadata": {},
   "source": [
    "## Background and Prior Work"
   ]
  },
  {
   "cell_type": "markdown",
   "metadata": {},
   "source": [
    "*Fill in your background and prior work here. Be sure to specify which statements are from which references.* \n",
    "\n",
    "(1) Restaurant grades are given on a point system. Restaurants lose points for every violation, with different violations carrying different weights. It could be interesting to not only see how much of an impact the grades have on a business, but also whether these specific violations are significant in deterring customers.\n",
    "\n",
    "(2) Yelp publicizes restaurant health scores, and customers were 12% less likely to move forward with restaurants with low scores. Yelp also issues an alert for certain restaurants with low scores, though the alerts do not trigger fo all restaurants with low scores. When restaurants are a score of 70 or below, they are also required to have another inspection within a week, and if the score is not satisfactory then the restaurant will be shutdown. Even if the restaurant passes the mark, they will still retain the previous score until the next check-in.\n",
    "References (include links):\n",
    "- 1) https://recipes.howstuffworks.com/tools-and-techniques/restaurant-health-inspections5.htm\n",
    "- 2) https://www.sfchronicle.com/restaurants/article/Yelp-s-food-safety-alerts-steer-diners-away-12736687.php"
   ]
  },
  {
   "cell_type": "markdown",
   "metadata": {},
   "source": [
    "# Hypothesis\n"
   ]
  },
  {
   "cell_type": "markdown",
   "metadata": {},
   "source": [
    "I think that health inspection grades do not have an effect on a business until a certain threshold, at which point there is a severe dropoff in business. My reasoning for this is that people typically do not check the health score of restaurants before eating, but if they are walking in to a restaurant or looking it up online and see a very poor score, they are more likely to avoid the restaurant."
   ]
  },
  {
   "cell_type": "markdown",
   "metadata": {},
   "source": [
    "# Data"
   ]
  },
  {
   "cell_type": "markdown",
   "metadata": {},
   "source": [
    "*Explain what the ideal dataset you would want to answer this question. (This should include: What variables? How many observations? Who/what/how would these data be collected? How would these data be stored/organized?)*\n",
    "\n",
    "The ideal dataset would contain variables on yelp average ratings, number of ratings, Monthly earnings from time of inspection, restaurant inspection grade, grade history, and causes for grade deduction. To ensure that effect is speifically from the health inspection grades, it would be nice to randomly sample restaurants around the country, so as to avoid any bias from specific regional areas(i.e. metropolitan cities vs. rural areas). Most of this data can be scraped off of yelp or public Restaurant inspection databases, but restauarant earnings would be private information that would have to be given by the restaurants themselves (or some large chains might release quarterly reports)."
   ]
  },
  {
   "cell_type": "markdown",
   "metadata": {},
   "source": [
    "# Ethics & Privacy"
   ]
  },
  {
   "cell_type": "markdown",
   "metadata": {},
   "source": [
    "There are some privacy concerns in this project as restaurants would have to give out potentially confidential information like earnings. The project could also serve as a self-fulfilling prophecy regarding inspection grades, since it is very unlikely for restaurants with low grades to receive in uptick in business, and as people don't typically seek out restaurants with high health ratings, it would also be hard to see the reverse relationship of high ratings and more traffic."
   ]
  }
 ],
 "metadata": {
  "kernelspec": {
   "display_name": "Python 3",
   "language": "python",
   "name": "python3"
  },
  "language_info": {
   "codemirror_mode": {
    "name": "ipython",
    "version": 3
   },
   "file_extension": ".py",
   "mimetype": "text/x-python",
   "name": "python",
   "nbconvert_exporter": "python",
   "pygments_lexer": "ipython3",
   "version": "3.6.7"
  }
 },
 "nbformat": 4,
 "nbformat_minor": 2
}
