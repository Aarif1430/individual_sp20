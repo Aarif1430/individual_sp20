{
 "cells": [
  {
   "cell_type": "markdown",
   "metadata": {},
   "source": [
    "# COGS 108 - Project Proposal"
   ]
  },
  {
   "cell_type": "markdown",
   "metadata": {},
   "source": [
    "# Names & PID\n",
    "\n",
    "- Name: Dayyan Sisson\n",
    "- PID: A13385926"
   ]
  },
  {
   "cell_type": "markdown",
   "metadata": {},
   "source": [
    "# Research Question"
   ]
  },
  {
   "cell_type": "markdown",
   "metadata": {},
   "source": [
    "In major American cities, what is the relationship between a community's (neighborhood, locality) level of ethnic diversity and its health inspection ratings?"
   ]
  },
  {
   "cell_type": "markdown",
   "metadata": {},
   "source": [
    "## Background and Prior Work"
   ]
  },
  {
   "cell_type": "markdown",
   "metadata": {},
   "source": [
    "There has been research done on race, age, class based disparities in levels of inspections carried out by the EPA, which has led some research to suggest that measures must be taken to improve the equity of the inspection process (1). This research was conducted looking at, in a community, the percentage of African Americans, percentage of Hispanics, low SES index, amongst other variables. Additionally, research has shown that \"Food safety compliance amongst ethnic minority food retail businesses has been identified as being less than satisfactory\", and that \"the research recognizes that language difficulties and lack of knowledge and understanding of the principles of food safety are a major barrier to promoting food safety\" (2).\n",
    "\n",
    "References (include links):\n",
    "- 1) https://onlinelibrary.wiley.com/doi/abs/10.1111/ssqu.12160\n",
    "- 2) https://www.sciencedirect.com/science/article/abs/pii/S0956713504002324"
   ]
  },
  {
   "cell_type": "markdown",
   "metadata": {},
   "source": [
    "# Hypothesis\n"
   ]
  },
  {
   "cell_type": "markdown",
   "metadata": {},
   "source": [
    "My hypothesis, is that health ratings in communities with higher levels of ethnic diversity will be lower than those with lower levels of ethnic diversity.\n",
    "\n",
    "I believe that barriers in language, lower levels of food safety education, and challenges related to the equity in which health inspections are carried out result in lower food safety ratings in ethnically diverse communities. Communities with less ethnic diversity (even if the population is largely composed of American racial minorities) will have, in general, higher food safety ratings, since equitable inspections can be carried out more easily amongst a singular target population."
   ]
  },
  {
   "cell_type": "markdown",
   "metadata": {},
   "source": [
    "# Data"
   ]
  },
  {
   "cell_type": "markdown",
   "metadata": {},
   "source": [
    "To help quantify ethnic diversity, the ideal dataset should include these variables:\n",
    "\n",
    "- Community name\n",
    "- Community population\n",
    "- Number of unique ethnic backgrounds\n",
    "- Average percent fraction of population by ethnic background OR population count of community by ethnic background\n",
    "\n",
    "This data can be collected primarily from census data and looking at city/county records. This data can be stored in either tidy format, or in semi-structured formarts like CSV or JSON that can be easily translated into tiny-datasets. This dataset will be based on the amount of communities included in the study and the average size of those communities.\n",
    "\n",
    "To help understand food ratings, the ideal dataset should also include these variables:\n",
    "\n",
    "- Community name\n",
    "- Average health inspection rating\n",
    "- Number of health inspections\n",
    "- Number of health inspection violations\n",
    "- Number of food safety trainings carried out\n",
    "- Most common ethnic background of health inspectors\n",
    "\n",
    "This data can also be collected from local city records (such as in San Diego, from San Diego County inspection databse at sandiegocounty.gov). This data can be stored in either tidy format, or in semi-structured formarts like CSV or JSON that can be easily translated into tiny-datasets. In some cases, it may have to be collected through web-scraping. In San Diego, there are 20,000 health inspection records currently, so depending on the number of major cities included in the research, we can imagine the dataset will be a size of some multiple of that.\n",
    "\n",
    "\n",
    "\n"
   ]
  },
  {
   "cell_type": "markdown",
   "metadata": {},
   "source": [
    "# Ethics & Privacy"
   ]
  },
  {
   "cell_type": "markdown",
   "metadata": {},
   "source": [
    "Luckily for this question and proposal, the ethics and privacy related to data collection is straightforward due to the manner of collection. Both demographic and health inspection data will be gathered from the census or local government data sets, and all of the collected data will have already been public.\n",
    "\n",
    "Since this question potentially relates to the equity of health inspections in major cities, it is important to consider its potential effects. If the stated hypothesis is true, the relationships defined in the research might point local governments to inequities in food safety education, the conduct of health inspection, and even the demographics of the institutions carrying out the health inspections. "
   ]
  }
 ],
 "metadata": {
  "kernelspec": {
   "display_name": "Python 3",
   "language": "python",
   "name": "python3"
  },
  "language_info": {
   "codemirror_mode": {
    "name": "ipython",
    "version": 3
   },
   "file_extension": ".py",
   "mimetype": "text/x-python",
   "name": "python",
   "nbconvert_exporter": "python",
   "pygments_lexer": "ipython3",
   "version": "3.7.6"
  }
 },
 "nbformat": 4,
 "nbformat_minor": 2
}
