{
 "cells": [
  {
   "cell_type": "markdown",
   "metadata": {},
   "source": [
    "# COGS 108 - Project Proposal"
   ]
  },
  {
   "cell_type": "markdown",
   "metadata": {},
   "source": [
    "# Names & PID\n",
    "\n",
    "- Name: Sergio Afonso\n",
    "- PID: A13070683"
   ]
  },
  {
   "cell_type": "markdown",
   "metadata": {},
   "source": [
    "# Research Question"
   ]
  },
  {
   "cell_type": "markdown",
   "metadata": {},
   "source": [
    "Is the current Health Inspection Grade rating for restaurants sufficiently accurate? Are restaurants with a concerning number and degree of health code violations passing inspections and putting public health at risk? \n"
   ]
  },
  {
   "cell_type": "markdown",
   "metadata": {},
   "source": [
    "## Background and Prior Work"
   ]
  },
  {
   "cell_type": "markdown",
   "metadata": {},
   "source": [
    "To begin with, the current health inspection process follows a specific grading rubric. A restaraunt is given a point score of 100 to begin with, and any health code violations will deduct from this score, with varying degrees of magnitude: a major violation deducts four points, a minor violation deducts two, and improper retail practices deducts one. Any restaurant with a score of 90 points or above receives an A, 80 or above a B, and 70 or above a C. Any restaurant that falls below C level is closed immediately. Futhermore, there are a number of violations that will also result in immediate shutdown regardless of current score, such as vermin infestation, improper sanitation, or transmission of disease. [1] \n",
    "\n",
    "However, there is evidence to suggest that this current system is inaccurate, and that some restaurants that are arguably not deserving of an A letter grade are still receiving them. Some sources cite the percentage of restaurants with an A at 99 [2], while San Diego government sources put it at 94 percent. Even with this discrepancy, there has been skepticism with the idea that just about every restaurant in all parts of San Diego are up to snuff with an A health code grade. Looking at some violation report maps, we can observe that there are some restaurants with a number of concerning violations that are still receiving an A. \n",
    "\n",
    "It's worth noting that Yelp has included health code grades with restaurant reviews [3], which are sourced from hdscores.com [4]. According to user reviews at hdscores, a number of people have been surprised at the health code scores and violations coming from the restaurants they are familiar with [5]. After all, it's easy to see the blue A that is required to be displayed and assume that the restaurant is perfectly clean. \n",
    "\n",
    "\n",
    "References:\n",
    "- 1) https://www.sandiegocounty.gov/content/sdc/deh/fhd/ffis/intro.html.html\n",
    "\n",
    "- 2) https://www.nbcsandiego.com/news/local/99-of-san-diego-restaurants-earn-a-grades-bringing-usefulness-of-system-into-question/25381/\n",
    "\n",
    "- 3) https://www.sandiegouniontribune.com/business/restaurants/sdut-yelp-adds-health-restaurants-inspection-grades-2016mar30-story.html\n",
    "\n",
    "- 4) https://www.yelp.com/inspections/mi-ranchito-mexican-restaurant-san-diego\n",
    "\n",
    "- 5) https://hdscores.com/"
   ]
  },
  {
   "cell_type": "markdown",
   "metadata": {},
   "source": [
    "# Hypothesis\n"
   ]
  },
  {
   "cell_type": "markdown",
   "metadata": {},
   "source": [
    "I expect to see a fair amount of restaurants that have an 'A' grade inspection but have multiple violations. Initial research suggests that the current health inspection grade rubric is too lenient, which implies that the current standard may not be accurate and failing at its job of protecting the public's health."
   ]
  },
  {
   "cell_type": "markdown",
   "metadata": {},
   "source": [
    "# Data"
   ]
  },
  {
   "cell_type": "markdown",
   "metadata": {},
   "source": [
    "In order to answer this question, we'll need to look at the number of restaurants in San Diego, the health inspection grades that they have, and the number and degree of health code violations that they have. \n",
    "\n",
    "Therefore, a single observation would resemble the order of *Restaurant Name* | *County Location* | *Health Code Grade* | *Major Violations* | *Minor Violations* | *Other Penalties*.\n",
    "\n",
    "In San Diego alone this will result in a few thousand observations. We plan to expand with other metropolitan data samples as well (e.g Los Angeles and San Francisco). We could also plot these findings on a county map to determine what observations could be drawn by comparing violations to location (i.e. *Are some counties and/or locations more prone to health code violations? Is there a relationship to location and restuarant condition?*)\n",
    "\n",
    "Most of the data can be found from a number of government websites. Some of these sites feature maps with avialble look-up information on restaurants. Some sites also feature databases with health code inspection reports. Other resources, such hdscores, also feature health inspection scores and may be referenced."
   ]
  },
  {
   "cell_type": "markdown",
   "metadata": {},
   "source": [
    "# Ethics & Privacy"
   ]
  },
  {
   "cell_type": "markdown",
   "metadata": {},
   "source": [
    "When discussing the ethics of this data assignment, the foremost matter to handle is privacy and permissions. Seeing as health code inspection grades and reports are public information, and can easily be looked up by any person, there should be no issue in terms of permissions for the data. Currently there are also some amounts of food inspection datasets available to the public without restrictions as well. Furthermore, seeing as we will be handling a minimal amount of user experiences, there shouldn't be any concerns in regards to identifiable data. However, should any restaurant or user elect to not want their information released in this project, then they will naturally be removed from the data. \n",
    "\n",
    "Since initial research for this project proposal has been conceptualized largely around San Diego health inspections, it is possible that we will see some biases in our data findings. If we only look at San Diego, then we can only draw conconclusions based on the San Diego health inspection process, and not any others at a larger scale. Therefore, once data collection actually begins, we will look at other larger, metropolitan areas such as Los Angeles and San Francisco. This will give us a larger, more representative data pool - at least for California. For the sake of this project we will likely keep the scope to California as to not bite off more than we can chew.\n",
    "\n",
    "The Deon Ethics Checklist will constantly be referred to in an effort to ensure that the project always follows data collection ethical guidelines throughout the entire process of this project."
   ]
  },
  {
   "cell_type": "code",
   "execution_count": null,
   "metadata": {},
   "outputs": [],
   "source": []
  }
 ],
 "metadata": {
  "kernelspec": {
   "display_name": "Python 3",
   "language": "python",
   "name": "python3"
  },
  "language_info": {
   "codemirror_mode": {
    "name": "ipython",
    "version": 3
   },
   "file_extension": ".py",
   "mimetype": "text/x-python",
   "name": "python",
   "nbconvert_exporter": "python",
   "pygments_lexer": "ipython3",
   "version": "3.6.7"
  }
 },
 "nbformat": 4,
 "nbformat_minor": 2
}
