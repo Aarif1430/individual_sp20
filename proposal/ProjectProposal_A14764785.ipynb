{
 "cells": [
  {
   "cell_type": "markdown",
   "metadata": {},
   "source": [
    "# COGS 108 - Project Proposal"
   ]
  },
  {
   "cell_type": "markdown",
   "metadata": {},
   "source": [
    "# Names & PID\n",
    "\n",
    "- Name: Richard Pena\n",
    "- PID: A14764785"
   ]
  },
  {
   "cell_type": "markdown",
   "metadata": {},
   "source": [
    "# Research Question"
   ]
  },
  {
   "cell_type": "markdown",
   "metadata": {},
   "source": [
    "- 1) Does economic class of the surrounding area of a facility affect the letter grade of health inspections? Thus, should more resources be focused on facilities who are at \"high-risk\"?"
   ]
  },
  {
   "cell_type": "markdown",
   "metadata": {},
   "source": [
    "## Background and Prior Work"
   ]
  },
  {
   "cell_type": "markdown",
   "metadata": {},
   "source": [
    "According to sandiegocounty.gov, San Diego County assigns a score out of 100 after performaing an inspection. Violations come in different tiers and are worth different points. If at any time during an inspection a facility is not in compliance with the law, an *Official Notice of Violation* is issued, specifying what is in violation and when it needs to be fixed. \n",
    "There are 3 types of inspection: Routine, Re-inspection, Status Verification. Routine vists are comprehensive and results in scoring the facility. Re-inspections occur when a facility needs to have its compliance verified. Status Verifications are a type of inspection that are used to verify whether a facility is stopp in operation.\n",
    "\n",
    "Harvard Business Review (HBR) embarked on a research project to \"find ways to improve how local government inspectors... [ensure] that restaurants, hospitals, schools, and supermarkets prepare food safely. They go on to say that the transparency of letter grades being posted in facilities helped immensely. HBR disocvered in their research that health inspectors' schedules can affect inspection quality. \"We noticed that inspectors tended to cite fewer violations at each successive establishment they visited through their day,\" demonstrating that inspections are exhausting to conduct. \n",
    "\n",
    "References (include links):\n",
    "- 1) https://www.sandiegocounty.gov/content/sdc/deh/fhd/ffis/intro.html.html\n",
    "- 2) https://hbr.org/2019/05/to-improve-food-inspections-change-the-way-theyre-scheduled"
   ]
  },
  {
   "cell_type": "markdown",
   "metadata": {},
   "source": [
    "# Hypothesis\n"
   ]
  },
  {
   "cell_type": "markdown",
   "metadata": {},
   "source": [
    "I hypothesize that the economic class of an area a facility is located in does affect the letter grade a facility receives. Business owners in the area are not able to afford high quality equipment or regular upkeep of their equipment, thus are more likely to have a larger number of violations. "
   ]
  },
  {
   "cell_type": "markdown",
   "metadata": {},
   "source": [
    "# Data"
   ]
  },
  {
   "cell_type": "markdown",
   "metadata": {},
   "source": [
    "The ideal dataset would contain variables that record the wealth of the current and surrounding areas, how many facilities are in the area, what percentage  of facilities received what letter grade, how much time is spent at a facility with respect to the letter grade.\n",
    "Observations include facilities and areas stored in two separate tables. All pertinent information in its respective table.\n",
    "Datatsets aggregated from the bottom 5th percentile, 50th percentile, and 95th percentile of area wealth would provide unbiased results."
   ]
  },
  {
   "cell_type": "markdown",
   "metadata": {},
   "source": [
    "# Ethics & Privacy"
   ]
  },
  {
   "cell_type": "markdown",
   "metadata": {},
   "source": [
    "Health inspectors may not want their time spent performing an inspection revealed and there would be bias if the inspector knew he or she was being timed. Check-in and check-out times would have to be documented without the inspector knowing that it was being used for research. Facilities are required to display their letter grade, revealign information about their inspections is public knowledge. They are subject to public scrutiny or boycott if their inspection result is poor. \n",
    "\n",
    "However, there is a huge concern for ethics as this research attempts to determine whether those below the poverty line are more likely to operate facilities that would not receieve a letter grade \"A\" in their inspection. People may perceive the results as a notice to not frequent poorer areas because food quality is heavily diminished compared to wealthy areas. The focus of this research is to determine whether resources should be focused on "
   ]
  }
 ],
 "metadata": {
  "kernelspec": {
   "display_name": "Python 3",
   "language": "python",
   "name": "python3"
  },
  "language_info": {
   "codemirror_mode": {
    "name": "ipython",
    "version": 3
   },
   "file_extension": ".py",
   "mimetype": "text/x-python",
   "name": "python",
   "nbconvert_exporter": "python",
   "pygments_lexer": "ipython3",
   "version": "3.7.5"
  }
 },
 "nbformat": 4,
 "nbformat_minor": 2
}
