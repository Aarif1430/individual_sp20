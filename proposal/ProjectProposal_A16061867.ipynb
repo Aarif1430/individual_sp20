{
 "cells": [
  {
   "cell_type": "markdown",
   "metadata": {},
   "source": [
    "# COGS 108 - Project Proposal"
   ]
  },
  {
   "cell_type": "markdown",
   "metadata": {},
   "source": [
    "# Names & PID\n",
    "\n",
    "- Name: Calvin Ho\n",
    "- PID: A16061867"
   ]
  },
  {
   "cell_type": "markdown",
   "metadata": {},
   "source": [
    "# Research Question"
   ]
  },
  {
   "cell_type": "markdown",
   "metadata": {},
   "source": [
    "Is there a relationship between passing/failing health inspection grades and ethnic restaurants?"
   ]
  },
  {
   "cell_type": "markdown",
   "metadata": {},
   "source": [
    "## Background and Prior Work"
   ]
  },
  {
   "cell_type": "markdown",
   "metadata": {},
   "source": [
    "The stereotype of non-western restaurants having lower standards of cleanliness has been met with backlash and accusations of racism. The pendulum of authenticity has swung towards the other end, with new stereotypes of lower health ratings equating to better, more authentic food, popping up, such as in reference 3. Reference 1 demonstrates the original stereotype through one author's impromptu Yelp analysis, with non-western food establishments being blamed at a greater proportion for food-borne illness. In addition, reference 1 also describes an instance in which New York City health officials used Yelp reviews to track food poisoning outbreaks within the city.\n",
    "\n",
    "The stereotype of dirtier ethnic restaurants has affected restaurant owners. Reference 2 describes the owner of a Chinese restaurant in Flushing, NY, being worried about not receiving a good health inspection score due to \"preconceptions or misunderstanding about Chinese restaurants.\"\n",
    "\n",
    "References (include links):\n",
    "- 1)https://slate.com/human-interest/2014/06/ethnic-restaurants-and-food-poisoning-the-subtle-racism-of-saying-chinese-food-caused-your-stomachache.html\n",
    "- 2)https://www.gothamgazette.com/health/568-ethnic-restaurants-worry-they-wont-make-the-grade\n",
    "- 3)https://www.alhambrasource.org/story/aamericanized-bbetter-cchinese-the-abcs-of-san-gabriel-valley-chinese-restaurants"
   ]
  },
  {
   "cell_type": "markdown",
   "metadata": {},
   "source": [
    "# Hypothesis\n"
   ]
  },
  {
   "cell_type": "markdown",
   "metadata": {},
   "source": [
    "I hypothesize that restaurants primarily serving non-European cuisine will receive lower health inspection grades or higher rates of infractions, depending on the system used. I believe that this pattern will show especially in health inspection that is performed due to consumer complaint. "
   ]
  },
  {
   "cell_type": "markdown",
   "metadata": {},
   "source": [
    "# Data"
   ]
  },
  {
   "cell_type": "markdown",
   "metadata": {},
   "source": [
    "The ideal dataset for this question would ideally be already created, run, and maintained by the jurisdiction for which I worked. Each observation should include the restaurant, an unique identifier, dates of inspection, reason for inspection (routine/complaint), the results of inspection, and the type of restaurant). This data should already be cleaned and organized in two ways: one presented for public viewing, and another in data-scientist friendly format for the city/county to use."
   ]
  },
  {
   "cell_type": "markdown",
   "metadata": {},
   "source": [
    "# Ethics & Privacy"
   ]
  },
  {
   "cell_type": "markdown",
   "metadata": {},
   "source": [
    "The nature of this data and analysis could potentially bring in a large amount of human bias throughout the process, from the inspection itself to the manipulation of the data. The data itself, idealistically, exists publically and serves the public good of informed consumer practice. \n",
    "\n",
    "The dataset should anonymize the particular inspectors for each inspection. The goal is to find and track large-scale patterns throughout the city, not to evaluate the nature of each and every inspector employed. If the hypothesized correlation exists or not, it should be made apparent through the results of the city as a whole. \n",
    "\n",
    "The hypothesized correlation carries multiple implications for the health inspection practice and for the consumers at large. The goal of this analysis is not to assign widespread social blame, but to better understand the circumstances and practices that may or may not lead to biased inspections. Even if the hypothesized correlation exists, this information only begins the process of understanding why. The goal of this system is to inform and protect the public good. "
   ]
  }
 ],
 "metadata": {
  "kernelspec": {
   "display_name": "Python 3",
   "language": "python",
   "name": "python3"
  },
  "language_info": {
   "codemirror_mode": {
    "name": "ipython",
    "version": 3
   },
   "file_extension": ".py",
   "mimetype": "text/x-python",
   "name": "python",
   "nbconvert_exporter": "python",
   "pygments_lexer": "ipython3",
   "version": "3.6.7"
  }
 },
 "nbformat": 4,
 "nbformat_minor": 2
}
