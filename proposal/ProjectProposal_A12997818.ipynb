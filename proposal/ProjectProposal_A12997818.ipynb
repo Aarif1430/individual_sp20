{
 "cells": [
  {
   "cell_type": "markdown",
   "metadata": {},
   "source": [
    "# COGS 108 - Project Proposal"
   ]
  },
  {
   "cell_type": "markdown",
   "metadata": {},
   "source": [
    "# Names & PID\n",
    "\n",
    "- Name: Lindsey Doyle\n",
    "- PID: A12997818"
   ]
  },
  {
   "cell_type": "markdown",
   "metadata": {},
   "source": [
    "# Research Question"
   ]
  },
  {
   "cell_type": "markdown",
   "metadata": {},
   "source": [
    "*Fill in your research question here*  \n",
    "\n",
    "\n",
    "Which areas (by zip code) in San Francisco are most at risk for health inspection violations?"
   ]
  },
  {
   "cell_type": "markdown",
   "metadata": {},
   "source": [
    "## Background and Prior Work"
   ]
  },
  {
   "cell_type": "markdown",
   "metadata": {},
   "source": [
    "*Fill in your background and prior work here. Be sure to specify which statements are from which references.*   \n",
    "\n",
    "DataSF is a governmant sponsered website where Data from the City and County of San Francisco is made publicly availibe. One of these datasets is from the Departmment of Public Health, and contains records of Health inspection scores, violations, and other data such as coordinates and zip codes for restaurants in SF County. \n",
    "\n",
    "According to a report by the San Francisco Office of Economic and Workforce Development, the city is \"defined by its neighborhoods.\" This report also includes exammples of many efforts to iplement policy changes and improvements on the neighborhood level.  I think it would be really interesting to see how these health inspection statistics mmight vary from neighborhood to neighborhood. \n",
    "\n",
    "I think this question is important because identifying areas which are most at risk can help the city alocate resourses and focus their resources strategically to the areas which need them most. I also think that ansering this question will provide useful information about which areas could benefit from further investigations, and serve as a starting point from which to conduct further investigations as to what contibutes to the lower scores, and potentially gain more insight on how to improve the process in these at-risk areas specifically. \n",
    "\n",
    "\n",
    "\n",
    "References (include links):\n",
    "- 1) DataSF (https://data.sfgov.org/Health-and-Social-Services/Restaurant-Scores-LIVES-Standard/pyih-qa8i)\n",
    "- 2) Office of Economic and Workforce Development (https://oewd.org/sites/default/files/FileCenter/Documents/786-CBD%20BID%20Eval%20Report%20FY%2012-13%20updated.pdf)\n"
   ]
  },
  {
   "cell_type": "markdown",
   "metadata": {},
   "source": [
    "# Hypothesis\n"
   ]
  },
  {
   "cell_type": "markdown",
   "metadata": {},
   "source": [
    "*State and defend your hypotheses here.*\n",
    "\n",
    "We are curious whether some areas have higher rates of violations than others. I would expect this to be true, meaning there would be significant variance in the prevelence of health inspection violations in different areas in the city, because San Francisco is known for having very distinctive micro-neighborhoods. \n",
    "\n",
    "\n"
   ]
  },
  {
   "cell_type": "markdown",
   "metadata": {},
   "source": [
    "# Data"
   ]
  },
  {
   "cell_type": "markdown",
   "metadata": {},
   "source": [
    "*Explain what the ideal dataset you would want to answer this question. (This should include: What variables? How many observations? Who/what/how would these data be collected? How would these data be stored/organized?)*\n",
    "\n",
    "In order to answer this question we would need data on recent health inspection records of every restaurant in SF, along with the restaurant’s zip code. The number of observations would be every restaurant in SF. \n",
    "For each observation we would need the most recent inspection score and the zip code of the restaurant. We would then group by zip code and take the average score. So we would need at a minimum the variable zip and score. \n",
    "\n",
    "\n",
    "This data is collected by the Department of Public Health, which is in charge of carrying out and recording the official health inspections. Ideally, this data would be stored in a semi-structured formmat such as a csv file so that we could easily read it in to a DataFrame (for example) and begin our analysis.\n"
   ]
  },
  {
   "cell_type": "markdown",
   "metadata": {},
   "source": [
    "# Ethics & Privacy"
   ]
  },
  {
   "cell_type": "markdown",
   "metadata": {},
   "source": [
    "*Fill in your ethics & privacy discussion here*  \n",
    "There would not be any issues with privacy because health inspection data is required by law to be made publically available. The dataset I found on DataSF is available for use by the public, and also, for the purpose of this project we wouldnt even need the actual names of the restaurents. "
   ]
  },
  {
   "cell_type": "code",
   "execution_count": null,
   "metadata": {},
   "outputs": [],
   "source": []
  }
 ],
 "metadata": {
  "kernelspec": {
   "display_name": "Python 3",
   "language": "python",
   "name": "python3"
  },
  "language_info": {
   "codemirror_mode": {
    "name": "ipython",
    "version": 3
   },
   "file_extension": ".py",
   "mimetype": "text/x-python",
   "name": "python",
   "nbconvert_exporter": "python",
   "pygments_lexer": "ipython3",
   "version": "3.7.4"
  }
 },
 "nbformat": 4,
 "nbformat_minor": 2
}
