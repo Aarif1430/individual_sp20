{
 "cells": [
  {
   "cell_type": "markdown",
   "metadata": {},
   "source": [
    "# COGS 108 - Project Proposal"
   ]
  },
  {
   "cell_type": "markdown",
   "metadata": {},
   "source": [
    "# Names & PID\n",
    "\n",
    "- Name: Mariana Ayala\n",
    "- PID: A14149798"
   ]
  },
  {
   "cell_type": "markdown",
   "metadata": {},
   "source": [
    "# Research Question"
   ]
  },
  {
   "attachments": {},
   "cell_type": "markdown",
   "metadata": {},
   "source": [
    "Is there a relationship between the number of violations found and the time the inspections was done? \n",
    "\n",
    "How scheduling affects the worker's behavior and the number of violations and therefore the realiabuly of the inspection?\n"
   ]
  },
  {
   "cell_type": "markdown",
   "metadata": {},
   "source": [
    "## Background and Prior Work"
   ]
  },
  {
   "cell_type": "markdown",
   "metadata": {},
   "source": [
    "The United States spends a large amount of money to prevent foodborne illness outbreaks. According to the Centers for Disease Control and Prevention (CDC), \"each year, approximately 48 million people get sick, 128,000 are hospitalized, and 3,000 die of foodborne diseases \" (\"Burden of Foodborne Illness: Findings,\" 2018). Food safety inspections are administered by government or local agents to prevent restaurant-associated foodborne outbreaks and ensure that food is prepared and handled safely. Inspectors use an ABC grading scheme to classify restaurants based on risk. Restaurant owners are mandated to display their letter scores to ensure consumers are informed of the safety of food provided in restaurants. Such efforts have shown to increase the compliance of restaurants with the government's regulations.\n",
    "\n",
    "In addition, a study conducted in Philadelphia found that \"changes in the targeting and scheduling of food safety inspections could improve the efficiency of detecting violations\" (Leinwand, S. E., Glanz, K., Keenan, B. T., & Branas, C. C. (2017). Importantly, researchers also discovered chain restaurants have fewer violations than non-chain restaurants. We know that a variety of factors influence restaurant inspections' efficacy and reliability in preventing foodborne disease. Therefore, the study aims to determine when should inspections take place to reduce food safety risks in Los Angeles county and how scheduling affects the worker's behavior and the number of violations found? For instance, a study in Tennessee by Jones et al., on restaurant inspection scores and foodborne disease found that \"routine restaurant inspection scores varied substantially over time, by region, and by person performing the inspection\" (2004). \n",
    "\n",
    "References (include links):\n",
    "- 1) https://journals.sagepub.com/doi/full/10.1177/0033354916687741#articleCitationDownloadContainer\n",
    "- 2) https://www.ncbi.nlm.nih.gov/pmc/articles/PMC3323064/\n",
    "- 3) https://www.cdc.gov/foodborneburden/2011-foodborne-estimates.html"
   ]
  },
  {
   "cell_type": "markdown",
   "metadata": {},
   "source": [
    "# Hypothesis\n"
   ]
  },
  {
   "cell_type": "markdown",
   "metadata": {},
   "source": [
    "I hypothesize that the earliest and the fewer inspections are done in a day by the same individual, the more accurate and reliable the investigations will be. This is because the more inspections an individual has to do, the less alert he/she will be able to discover violations. "
   ]
  },
  {
   "cell_type": "markdown",
   "metadata": {},
   "source": [
    "# Data"
   ]
  },
  {
   "cell_type": "markdown",
   "metadata": {},
   "source": [
    "The ideal data will offer information regarding Los Angeles County 2019 or 2018 restaurant inspections results. It should provide information such as the exact number and the type of violations discovered in each restaurant. \n",
    "The data should be semistructured data to be filtered, clean, and organized in a relational database. Every observation of a variable will be stored in a different row. Observations will include date and time of inspection, restaurants' names, violation code, grade, and inspectors' names and the number of inspections done.The table should be ordered logically, from ascending to descending, and with informative labels, to make it easier to read.  I will employ appropriate visualization to show the relationship between the number of violations found and the time the inspections. \n",
    "\n",
    "-  https://catalog.data.gov/dataset/restaurant-and-market-health-violations\n",
    "\n"
   ]
  },
  {
   "cell_type": "markdown",
   "metadata": {},
   "source": [
    "# Ethics & Privacy"
   ]
  },
  {
   "cell_type": "markdown",
   "metadata": {},
   "source": [
    "To ensure the research does not cause undue harm, it is essential to consider the impact this research will have on the restaurants and the public. The data should be carefully analyzed to avoid making misleading allegations, and it must promote reliability and validity. Therefore, the limitations of this research must be considered before making assertions. \n",
    " \n",
    "I must ensure to protect the privacy of the owners of the restaurants and their employees. However, I must also note there is no permission required since the data is available to the public to guarantee that consumers are safe, and there is no breach of privacy.\n",
    "\n",
    "Importantly, as an analyst, I should refrain from biases and from being unethical. The study aims to enhance the restaurant health inspection process for Los Angeles County and not gain any profits from it except for a deeper understanding of the existing inspections system. "
   ]
  }
 ],
 "metadata": {
  "kernelspec": {
   "display_name": "Python 3",
   "language": "python",
   "name": "python3"
  },
  "language_info": {
   "codemirror_mode": {
    "name": "ipython",
    "version": 3
   },
   "file_extension": ".py",
   "mimetype": "text/x-python",
   "name": "python",
   "nbconvert_exporter": "python",
   "pygments_lexer": "ipython3",
   "version": "3.6.7"
  }
 },
 "nbformat": 4,
 "nbformat_minor": 2
}
