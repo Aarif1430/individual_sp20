{
 "cells": [
  {
   "cell_type": "markdown",
   "metadata": {},
   "source": [
    "# COGS 108 - Project Proposal"
   ]
  },
  {
   "cell_type": "markdown",
   "metadata": {},
   "source": [
    "# Names & PID\n",
    "\n",
    "- Name: Laith Bayyari\n",
    "- PID: A15311932"
   ]
  },
  {
   "cell_type": "markdown",
   "metadata": {},
   "source": [
    "# Research Question"
   ]
  },
  {
   "cell_type": "markdown",
   "metadata": {},
   "source": [
    "Could Yelp help to identity which restraints require faster health inspections through its reviews by identify keywords associated with bad ratings?"
   ]
  },
  {
   "cell_type": "markdown",
   "metadata": {},
   "source": [
    "## Background and Prior Work"
   ]
  },
  {
   "cell_type": "markdown",
   "metadata": {},
   "source": [
    "*Fill in your background and prior work here. Be sure to specify which statements are from which references.* \n",
    "\n",
    "References (include links):\n",
    "- 1)It is currently known that the cloud base service Socrata has partenerd with Yelp in order to figure out which resteraunts are viewed as having bad health at their resteraunts through keywords in the Yelp reviews. (Link: https://gcn.com/articles/2015/03/02/yelp-city-restaurant-inspections.aspx)\n",
    "- 2)It has been shown that by increasing the frequency of resteraunt health inspections, there were more citations and thus helping to further identiy which resteraunts to give a bad raiting to. (Link: https://hbr.org/2019/05/to-improve-food-inspections-change-the-way-theyre-scheduled)"
   ]
  },
  {
   "cell_type": "markdown",
   "metadata": {},
   "source": [
    "# Hypothesis\n"
   ]
  },
  {
   "cell_type": "markdown",
   "metadata": {},
   "source": [
    "By identifying keywords in resteraunt Yelp reviews such as "dirty" and "bug" coupled with the resteraunts current health inspection raiting, we can make it so health inspectors can figuire out which resteraunts require a health inspection the most."
   ]
  },
  {
   "cell_type": "markdown",
   "metadata": {},
   "source": [
    "# Data"
   ]
  },
  {
   "cell_type": "markdown",
   "metadata": {},
   "source": [
    "The ideal dataset would be couple hundred reviews for a lot of resteraunts stored in a text file. This way I can keep a track of how many times a specific keyword has been mentioned. I would get this data through Yelp's API. Then I would like a dataset of health inspection raitings from the goverment. Perhaps, get the data through the governments public health raiting website. With this data in mind I would plot both data sets on a bar graph to show how many times a keyword is said under health inspections bins. Then I could visualize if bad keywords are correlated with a worse raiting. With this, health inspectors could figure out faster on which resteraunts to target first in order to check up on their current health raitings."
   ]
  },
  {
   "cell_type": "markdown",
   "metadata": {},
   "source": [
    "# Ethics & Privacy"
   ]
  },
  {
   "cell_type": "markdown",
   "metadata": {},
   "source": [
    "I have permission to use Yelp’s API as it is for public use for developers. Moreover, government health inspections in San Diego are available as well to view for the public. The potential problem with the Yelp dataset is that customers may be biased towards the specific environment or food that they ate and not necessarily accurately convey their thoughts about the health of the restaurants accurately.  As such, whenever I may view a keyword shown in a review, it may due to the fact the maybe the service or good of the restaurant made the customer upset and they may have put their anger towards a unfair review. In order to handle this issue, I will make sure to look over hundreds of reviews of a ratings through the 1 – 3 star ratings to get a good average of customers and get a more accurate reading on whether a restaurant has a healthy environment for customers."
   ]
  }
 ],
 "metadata": {
  "kernelspec": {
   "display_name": "Python 3",
   "language": "python",
   "name": "python3"
  },
  "language_info": {
   "codemirror_mode": {
    "name": "ipython",
    "version": 3
   },
   "file_extension": ".py",
   "mimetype": "text/x-python",
   "name": "python",
   "nbconvert_exporter": "python",
   "pygments_lexer": "ipython3",
   "version": "3.7.0"
  }
 },
 "nbformat": 4,
 "nbformat_minor": 2
}
