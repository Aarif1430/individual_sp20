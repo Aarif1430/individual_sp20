{
 "cells": [
  {
   "cell_type": "markdown",
   "metadata": {},
   "source": [
    "# COGS 108 - Project Proposal"
   ]
  },
  {
   "cell_type": "markdown",
   "metadata": {},
   "source": [
    "# Names & PID\n",
    "\n",
    "- Name: Megan Kwok\n",
    "- PID: A13739342"
   ]
  },
  {
   "cell_type": "markdown",
   "metadata": {},
   "source": [
    "# Research Question"
   ]
  },
  {
   "cell_type": "markdown",
   "metadata": {},
   "source": [
    "Is there a correlation between health grades and Yelp reviews in Los Angeles?"
   ]
  },
  {
   "cell_type": "markdown",
   "metadata": {},
   "source": [
    "## Background and Prior Work"
   ]
  },
  {
   "cell_type": "markdown",
   "metadata": {},
   "source": [
    "In 2013, Yelp launched its Local Inspector Value Entry Specification (LIVES) program, which includes a feature where health inspection ratings are displayed publicly on restaurants’ pages (Bassig). This data is displayed as a score out of 100 and is obtained from HDScores, which is a nationwide database for health inspection ratings (Bassig).  HDScores contains ratings that cover most of the nation’s population across 42 states and for businesses that do not have a rating with a local health department, the ratings are calculated from a business’s previous health ratings (Bassig). In addition to displaying health inspection scores, Yelp has decided this year to alert customers if a restaurant has a health rating below a C rating or worse by showing warning on the restaurant’s page (Grover). Although there have been some errors in health inspection ratings reported on Yelp pages, the company claims that in Los Angeles, they receive updated health scores every week from local health departments (Grover).\n",
    "\n",
    "When Yelp decided to display health inspection scores on restaurant’s pages, a restaurant in San Francisco that had fixed their hygiene issues but continued to have the original score on their page, showed an increase in negative reviews and a 15 percent drop in business during this time (Adams). Furthermore, another study by Weijia (Daisy) Dai and Michael Luca, demonstrates that when health scores began to be displayed on Yelp in San Francisco, low-scoring restaurants in regards to health inspection ratings ended up with lower Yelp ratings compared to restaurants with higher health ratings (Dai 8). In this study, Dai and Luca also found that there was a “7% decrease in purchase intentions for restaurants with low scores due to hygiene alerts, and [an] 11% decrease in the number of reviews” after Yelp implemented the health inspection rating feature in 2013 (Dai 2).\n",
    "\n",
    "\n",
    "References (include links):\n",
    "- 1) Adams, Erika - “Yelp Adds Health Code Ratings to Restaurant Pages Nationwide” \n",
    "(https://table.skift.com/2018/07/24/yelp-adds-health-code-ratings-to-restaurant-pages-nationwide/)\n",
    "- 2) Bassig, Migs - “Yelp Health Score: What Your Business Needs to Know” \n",
    "(https://www.reviewtrackers.com/blog/yelp-health-score/)\n",
    "- 3) Dai, Weijia, Michael Luca - “Digitizing Disclosure: The Case of Restaurant Hygiene Scores” (https://poseidon01.ssrn.com/delivery.php?ID=137098066007091119077118015110025089032018023086008028101069087065073088098025103121048045116005042126027028101123126071011126049004063019046071091009118074119094030082056120013099071115007091070098016109010114024081126030065085021108024000089106122&EXT=pdf)\n",
    "- 4) Grover, Joel, Amy Goral - “Yelp Warns Consumers About LA Restaurants With Bad Grades” (https://www.nbclosangeles.com/investigations/yelp-warns-consumers-about-la-restaurants-with-bad-grades/2296465/)\n",
    "\n"
   ]
  },
  {
   "cell_type": "markdown",
   "metadata": {},
   "source": [
    "# Hypothesis\n"
   ]
  },
  {
   "cell_type": "markdown",
   "metadata": {},
   "source": [
    "In Los Angeles, if there are restaurant pages on Yelp that display low scores for health inspection ratings (C or lower), then the restaurants will have a lower average rating than those that have higher health inspection ratings (B or higher). I hypothesize this correlation because in the restaurant industry, health and hygiene are valued greatly because consumers that dine at these restaurants usually prefer the environment and food to be cleanly. Therefore, restaurants that are seen as having lower health inspection scores may be viewed as less desirable for potential customers on Yelp."
   ]
  },
  {
   "cell_type": "markdown",
   "metadata": {},
   "source": [
    "# Data"
   ]
  },
  {
   "cell_type": "markdown",
   "metadata": {},
   "source": [
    "The ideal dataset I have in mind is a scatter plot which displays the data in a format where each point in the plot is a restaurant in Los Angeles County that has 100 Yelp reviews or more. The two quantitative variables will be the average Yelp rating for the restaurant and the current health inspection rating displayed on Yelp. The data will be stored in a table, where the first column is the restaurant’s name, the second column is the average Yelp rating, and the third column is the current health inspection score. Also the restaurants will be picked randomly, with no bias for type of food the restaurant serves, price range, etc. There will be about 100 observations, as each observation will represent each restaurant. "
   ]
  },
  {
   "cell_type": "markdown",
   "metadata": {},
   "source": [
    "# Ethics & Privacy"
   ]
  },
  {
   "cell_type": "markdown",
   "metadata": {},
   "source": [
    " While collecting the data, there may be some issues that occur, such as collection bias, in which the restaurants that serve a certain type of food may be selected more simply because there are more of these types of restaurants in the LA area. This can be mitigated by choosing restaurants randomly around Los Angeles County, without specifying a certain cuisine or specific area of LA. Since a lot of the data is publicly displayed on Yelp, the Yelp ratings and health inspection ratings should be able to be accessed safely online without written consent of restaurant owners and business owners. Also, in order to prevent any findings from being publicly accessed when no longer needed, there will be a process made in which all personally-identifiable data will be discarded once the research project is finished. Furthermore, during the process of displaying data on a plot, the names of restaurants will be omitted so that the plot will have the sole purpose of recognizing possible trends among randomly selected data rather than among identifiable data points that may elicit biases from other researchers.\n",
    "\n",
    "In terms of issues with the data collected in the project, one issue occurs in the Los Angeles County, where there may be biases for the restaurants that are rated higher than the other restaurants in the area, as one type of food may be more popular in LA, so more competition encourages restaurants to strive for higher Yelp ratings. Also, there may be biases for certain restaurants due to the specific demographic in particular areas of LA, so more restaurants that serve a specific type of cuisine may be chosen among others. Other issues with data analysis may occur due to the fact that Yelp ratings are not written solely based on the health inspection rating of a restaurant, as ratings are based on multiple factors, such as quality of food, convenience, or customer service. These other factors could affect a restaurant’s Yelp rating positively or negatively, which could present anomalies in the data collected. \n",
    "\n",
    "In order to resolve these issues with data collection, the process will be refined so that randomly chosen restaurants will have even distribution of a variety of cuisines. Also, restaurants will not be chosen according to particular areas of LA but chosen out of the county as a whole so that there will be random selection regardless of specific demographics of LA areas. Furthermore, the other confounding factors that affect Yelp ratings will be mitigated by collecting the average or mean of Yelp ratings for each restaurant rather than specific ratings in order to consider a restaurant’s rating overall."
   ]
  }
 ],
 "metadata": {
  "kernelspec": {
   "display_name": "Python 3",
   "language": "python",
   "name": "python3"
  },
  "language_info": {
   "codemirror_mode": {
    "name": "ipython",
    "version": 3
   },
   "file_extension": ".py",
   "mimetype": "text/x-python",
   "name": "python",
   "nbconvert_exporter": "python",
   "pygments_lexer": "ipython3",
   "version": "3.6.7"
  }
 },
 "nbformat": 4,
 "nbformat_minor": 2
}
