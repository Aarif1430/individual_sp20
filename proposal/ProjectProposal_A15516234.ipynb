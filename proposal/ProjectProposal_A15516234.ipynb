{
 "cells": [
  {
   "cell_type": "markdown",
   "metadata": {},
   "source": [
    "# COGS 108 - Project Proposal"
   ]
  },
  {
   "cell_type": "markdown",
   "metadata": {},
   "source": [
    "# Names & PID\n",
    "\n",
    "- Name: Benson Vuong\n",
    "- PID: A15516234"
   ]
  },
  {
   "cell_type": "markdown",
   "metadata": {},
   "source": [
    "# Research Question"
   ]
  },
  {
   "cell_type": "markdown",
   "metadata": {},
   "source": [
    "Does a restaurant's attributes (cuisine type, yelp review, pricing, hours of operation, etc.) have any relation to the health inspection grade received? Can we guess a restaurants health inspection score through this information?"
   ]
  },
  {
   "cell_type": "markdown",
   "metadata": {},
   "source": [
    "## Background and Prior Work"
   ]
  },
  {
   "cell_type": "markdown",
   "metadata": {},
   "source": [
    "To help improve health inspection process, it would be nice to score a restaurant without having to run an extensive inspection and each and every restaurant, and instead assign a temporary scoring so that health inspectors know what the expected score of a restaurant is and does not have to run such an extensive test. Scoring is based on a system where the higher the score the lower grading it getsand these grading's are categorized into A,B, and C where C is the worst rating<sup>1</sup> By finding a prediction that scores anything above 28 (grade C), health workers can easily identify which restaurants are potentially violating health codes and target those restaurants first to ensure public saftey<sup>2</sup>. Currently health inspectors are sent out at random due to limited available of inspectors <sup>3</sup>, and as such, being able to predict a score of 28 or higher would allow more specialized attention to more unsantiary restaurants. \n",
    "\n",
    "References (include links):\n",
    "- 1)https://www1.nyc.gov/assets/doh/downloads/pdf/rii/inspection-cycle-overview.pdf\n",
    "- 2)https://www.drivendata.org/competitions/5/keeping-it-fresh-predict-restaurant-inspections/page/28/\n",
    "- 3)http://cs229.stanford.edu/proj2013/Walter-PredictionOfNYCRestaurantHealthInspectionResults%20pdf.pdf"
   ]
  },
  {
   "cell_type": "markdown",
   "metadata": {},
   "source": [
    "# Hypothesis\n",
    "\n",
    "I predict that looking at a restaurant's information online can provide information to estimate a restaurant's scoring without having to physically inspect that restaurant itself. \n"
   ]
  },
  {
   "cell_type": "markdown",
   "metadata": {},
   "source": [
    "Some useful information that may come in handy include information such as the type of food they serve (as some foods need to be prepared properly to prevent sickness), reviews (some unhappy customers may have had an unsanitary experience during their visit), prcing (usually higher end restaurants put more effort into their image, and as such strive for the A grade), whether or not pets are allowed (pets can attrach dirt and unsanitary debris into the restaurant), and a bunch more stuff. "
   ]
  },
  {
   "cell_type": "markdown",
   "metadata": {},
   "source": [
    "# Data"
   ]
  },
  {
   "cell_type": "markdown",
   "metadata": {},
   "source": [
    "The ideal data set would include as much information about the restaurants. The most important information would be the restaurants name, the health inspection score, the cuisine they serve, and some reviews of the restaurant. It would be nice to have thousands of observation so that we can have a big enough sample to account for any missing information. I beleive some of these datasets can be found on yelp through their API, or by webscrapping. There should also be information already collected online, because it seems like this topic has been researched before. Ideally, the data would be formatted in csv formatbecause that is easier to deal with, especially since pandas can read in csv files. "
   ]
  },
  {
   "cell_type": "markdown",
   "metadata": {},
   "source": [
    "# Ethics & Privacy"
   ]
  },
  {
   "cell_type": "markdown",
   "metadata": {},
   "source": [
    "One ethical issue with this process may be the possibiliy that the predict can give a false scoring of a restaurant and result in a worse scoring than they would have normaly. This would be a problem for the restaurant.\n",
    "There may also be some bias with the restaurants in the data because there are more types of one restaurants than others. For example, There may be a lot more fast foods restaurant in the dataset than chinese restaurants. And this is because fast food restaurants are just more prevalent due to the size of the fast food industry.\n",
    "I do not think that using these datasets is a violation of privacy because all these information about the restaurant should be public anyway\n",
    "To address the issue of uneven restaurant types, we can limit the number of a certain restaurant type so that all types of restaurant have a even/similar representation count. \n",
    "And if the restaurant owners are afriad of these false scorings, it doesn't have to be a problem. These predictions do not have to be released to the public. These predictions are just a guideline for the health inspectors to help them distinguish which restaurants to prioritize inspection first."
   ]
  }
 ],
 "metadata": {
  "kernelspec": {
   "display_name": "Python 3",
   "language": "python",
   "name": "python3"
  },
  "language_info": {
   "codemirror_mode": {
    "name": "ipython",
    "version": 3
   },
   "file_extension": ".py",
   "mimetype": "text/x-python",
   "name": "python",
   "nbconvert_exporter": "python",
   "pygments_lexer": "ipython3",
   "version": "3.6.7"
  }
 },
 "nbformat": 4,
 "nbformat_minor": 2
}
