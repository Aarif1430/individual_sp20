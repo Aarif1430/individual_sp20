{
 "cells": [
  {
   "cell_type": "markdown",
   "metadata": {},
   "source": [
    "# COGS 108 - Project Proposal"
   ]
  },
  {
   "cell_type": "markdown",
   "metadata": {},
   "source": [
    "# Names & PID\n",
    "\n",
    "- Name: Kyle Stenberg\n",
    "- PID: A15450736"
   ]
  },
  {
   "cell_type": "markdown",
   "metadata": {},
   "source": [
    "# Research Question"
   ]
  },
  {
   "cell_type": "markdown",
   "metadata": {},
   "source": [
    "Does the use of air conditioning and heating systems in San Diego restaurants contribute to the spread of Coronavirus amongst customers?"
   ]
  },
  {
   "cell_type": "markdown",
   "metadata": {},
   "source": [
    "## Background and Prior Work"
   ]
  },
  {
   "cell_type": "markdown",
   "metadata": {},
   "source": [
    "\n",
    "References (include links):\n",
    "- 1) https://www.nytimes.com/2020/04/20/health/airflow-coronavirus-restaurants.html => This article discusses the case of an asymptomatic customer in China spreading Coronavirus to 9 other diners, all of whom sat in a straight line downwind of the establishment's air conditioning unit.\n",
    "- 2) https://english.alarabiya.net/en/features/2020/04/06/Coronavirus-Can-it-spread-through-air-conditioning- => This article discusses how Coronavirus is spread, referencing how research done on SARS demonstrated that airborne contagions can travel easily through the drafts and currents created by air conditioning systems. \n",
    "- 3) https://www.forbes.com/sites/alexandrasternlicht/2020/04/22/aid-in-avoiding-coronavirus-keep-ac-off-open-windows-instead/#3927031fdf8f => This article discusses different ways to control air flow to regulate temperature and how such methods promote or minimize cross contamination between people."
   ]
  },
  {
   "cell_type": "markdown",
   "metadata": {},
   "source": [
    "# Hypothesis\n"
   ]
  },
  {
   "cell_type": "markdown",
   "metadata": {},
   "source": [
    "Yes, air conditioning and heating systems can contribute to the spread of Coronavirus, however certain ventilation systems are able to reduce this effect.\n"
   ]
  },
  {
   "cell_type": "markdown",
   "metadata": {},
   "source": [
    "# Data"
   ]
  },
  {
   "cell_type": "markdown",
   "metadata": {},
   "source": [
    "My ideal dataset would use reported Coronavirus cases that were spread in enclosed areas as observations.\n",
    "The variables would be: name, age, proximity to original infected party (direction and distance), airflow in restaurant (direction and system).\n",
    "I would use all California cases as my sample, filtering out those that were not spread in closed buildings. If this turns out to not be that many, I would extend the sample to all of the U.S, since geography shouldn't really affect the physics behind indoor air flow.\n",
    "My data could be stored in a simple rectangular chart, with each observation making a new row and each variable being a coloumn.\n"
   ]
  },
  {
   "cell_type": "markdown",
   "metadata": {},
   "source": [
    "# Ethics & Privacy"
   ]
  },
  {
   "cell_type": "markdown",
   "metadata": {},
   "source": [
    "Coronavirus statistics are largely public information. Thankfully my data is primarily scientific, as opposed to subjective opinions or another less trustworthy type of data. One downside is that not everything is known about Coronavirus, however we know a lot about how it is spread given its similarity to SARS. One difficult to navigate issue is the high number of asymptomatic carriers scientists have estimated exist. While these cases wouldn't necessarily change my data trends, it will reduce my sample size as there is no way for me to use unreported data. I can simply counteract this by expanding the region of cases that I draw data from, if I should need to."
   ]
  }
 ],
 "metadata": {
  "kernelspec": {
   "display_name": "Python 3",
   "language": "python",
   "name": "python3"
  },
  "language_info": {
   "codemirror_mode": {
    "name": "ipython",
    "version": 3
   },
   "file_extension": ".py",
   "mimetype": "text/x-python",
   "name": "python",
   "nbconvert_exporter": "python",
   "pygments_lexer": "ipython3",
   "version": "3.7.0"
  }
 },
 "nbformat": 4,
 "nbformat_minor": 2
}
