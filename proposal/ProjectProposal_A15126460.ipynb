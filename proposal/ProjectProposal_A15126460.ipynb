{
 "cells": [
  {
   "cell_type": "markdown",
   "metadata": {},
   "source": [
    "# COGS 108 - Project Proposal"
   ]
  },
  {
   "cell_type": "markdown",
   "metadata": {},
   "source": [
    "# Names & PID\n",
    "\n",
    "- Name: Yong Liu\n",
    "- PID: A15126460"
   ]
  },
  {
   "cell_type": "markdown",
   "metadata": {},
   "source": [
    "# Research Question"
   ]
  },
  {
   "cell_type": "markdown",
   "metadata": {},
   "source": [
    "Do less expensive restaurant perform worse than costly restaurant in healhy inspections?"
   ]
  },
  {
   "cell_type": "markdown",
   "metadata": {},
   "source": [
    "## Background and Prior Work"
   ]
  },
  {
   "cell_type": "markdown",
   "metadata": {},
   "source": [
    "  The San Diego county's way of measuring each restaurant and food retailors is a grading systems. According to the information form the official website of San Diego:\"1. Each violation on the Food Inspection Report is assigned a point value depending on its importance. For example, a Major Risk Factor is worth four points, a Minor Risk Factor is worth two, and a Good Retail Practice is worth one.  2. Once the Specialist completes an inspection, the points are added up and subtracted from 100. The resulting number is the inspection \"score\". 3. A letter grade is assigned to the facility based on the inspection score. An \"A\" grade means the facility earned a score of 90 to 100 percent and is in satisfactory compliance with state law; a \"B\" means the facility earned a score of 80 to 89 percent and needs improvement; a \"C\" means the facility earned a score of 79 percent or less and is a failing grade. 4. The grade card must be displayed near the public entrance during hours of operation.\n",
    "   \n",
    "   Based on this information, our research question can choose the grades that each restaurant received as a health inspection performance measurements. There is a similar articled I found in CBR magazine- “Is the food really better at expensive restaurants?”. From this article, the rating from the public on Yelp have something to say, “They had people view high-priced restaurants with consistently high ratings, and midpriced restaurants with variable ratings. When then asked to predict the quality of low-priced restaurants, participants assumed all low-priced restaurants were lousy.” \n",
    "  \n",
    "  The idea from this article and the grading system from government help me to find out the relationship between customer ratings and health inspection grades. \n",
    "be displayed near the public entrance during hours of operation.\n",
    "\n",
    "References (include links):\n",
    "- 1)www.sandiegocounty.gov\n",
    "- 2)https://review.chicagobooth.edu/magazine/spring-2015/is-the-food-really-better-at-expensive-restaurants"
   ]
  },
  {
   "cell_type": "markdown",
   "metadata": {},
   "source": [
    "# Hypothesis\n"
   ]
  },
  {
   "cell_type": "markdown",
   "metadata": {},
   "source": [
    "expensive restaurant tends to have better health inspection score. Because the food quality reviews from expensive restaurant are more postive. "
   ]
  },
  {
   "cell_type": "markdown",
   "metadata": {},
   "source": [
    "# Data"
   ]
  },
  {
   "cell_type": "markdown",
   "metadata": {},
   "source": [
    "*Explain what the ideal dataset you would want to answer this question. (This should include: What variables? How many observations? Who/what/how would these data be collected? How would these data be stored/organized?)*\n",
    "  The ideal dataset is the information of each restaurant in San Dieogo county. The infomartion should include the cost of the restaurant, the onverall rating (the percentage of positive review) , the location of restaurant, how long has this restaruant been opened , the healthy inspection score it recieved. The data can come from reviewing apps like Yelp and the owener of the restaurant. The dara would better be stored in table format."
   ]
  },
  {
   "cell_type": "markdown",
   "metadata": {},
   "source": [
    "# Ethics & Privacy"
   ]
  },
  {
   "cell_type": "markdown",
   "metadata": {},
   "source": [
    "  We should get the permission of the data from Yelp, the customer, and the owner of the restaurant. We do have the permission to the health inspection score since it is designed to be showed to public. One of the privacy concerns is that the customer might not want to share their comments. It might be hard to understand that how could a customer do not want to share his comments if he wrote the comments on Yelp. But it becomes reasonable if a person regrets to show the comments after he posted the review. The owner of the restaurant might not want to give you the detailed information that you need. The potential biased might include that the restaurant with better reviewed are more likely to share its’ information. The reviews of a restaurant might limit to very positive and very negative, since that gives the most motivation to leave a comment. To handle the privacy problem , we, at any time, will drop the comments out of our dataset if the customer is regret to show his comments."
   ]
  },
  {
   "cell_type": "code",
   "execution_count": null,
   "metadata": {},
   "outputs": [],
   "source": []
  }
 ],
 "metadata": {
  "kernelspec": {
   "display_name": "Python 3",
   "language": "python",
   "name": "python3"
  },
  "language_info": {
   "codemirror_mode": {
    "name": "ipython",
    "version": 3
   },
   "file_extension": ".py",
   "mimetype": "text/x-python",
   "name": "python",
   "nbconvert_exporter": "python",
   "pygments_lexer": "ipython3",
   "version": "3.7.4"
  }
 },
 "nbformat": 4,
 "nbformat_minor": 2
}
