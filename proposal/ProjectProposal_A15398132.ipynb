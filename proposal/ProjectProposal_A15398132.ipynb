{
 "cells": [
  {
   "cell_type": "markdown",
   "metadata": {},
   "source": [
    "# COGS 108 - Project Proposal"
   ]
  },
  {
   "cell_type": "markdown",
   "metadata": {},
   "source": [
    "# Names & PID\n",
    "\n",
    "- Name: Zytal Lenus\n",
    "- PID: A15398132"
   ]
  },
  {
   "cell_type": "markdown",
   "metadata": {},
   "source": [
    "# Research Question"
   ]
  },
  {
   "cell_type": "markdown",
   "metadata": {},
   "source": [
    " Can user data from restaurant review sites (like Yelp) crossed with other variable predictive factors (like santiation issues) help increase the effectiveness and effiecienty of restraunt health isnpections?"
   ]
  },
  {
   "cell_type": "markdown",
   "metadata": {},
   "source": [
    "## Background and Prior Work"
   ]
  },
  {
   "cell_type": "markdown",
   "metadata": {},
   "source": [
    "\n",
    "\n",
    "   Health care officials are trying to become more effective and efficient at insepcting restaurants in popoulated cities. In Chicago for example they used other variables to help predict whether a restaurant could possibly earn a critical violation(1). Some of the variables they used for predictions are history of critical violations, sanitation complaints,time since last inspection, and more. It was found that using these other variables as a predictive measure health inspectors could have detected other establshments critical violations a motnh in advance.\n",
    "      \n",
    "   Similarly anothe predictive measure that coud be used is restaurant rating apps. Yelp, for example, in big cities like Los Angles and San Francisco post health sanitation scores on restaurants pages. An article covers how Yelp teamed up with Socrata in order to link the data from restaurant inspection data to Yelp(2). It was foudn that using Yelp data it can predict the chance of health violation at restaurants.\n",
    "\n",
    "References (include links):\n",
    "\n",
    "- 1) https://datasmart.ash.harvard.edu/news/article/delivering-faster-results-with-food-inspection-forecasting-631\n",
    "- 2)https://gcn.com/articles/2015/03/02/yelp-city-restaurant-inspections.aspx"
   ]
  },
  {
   "cell_type": "markdown",
   "metadata": {},
   "source": [
    "# Hypothesis\n"
   ]
  },
  {
   "cell_type": "markdown",
   "metadata": {},
   "source": [
    " I believe a crossover of restaurant review sites and other city habits can improve the effecctiveness and speed of restuarant health inspections. Using data collected from reviews of customers in real time we can form an algorithm that points inpectiors towards establishments that show a high chance of violating certain health codes."
   ]
  },
  {
   "cell_type": "markdown",
   "metadata": {},
   "source": [
    "# Data"
   ]
  },
  {
   "cell_type": "markdown",
   "metadata": {},
   "source": [
    "My ideal dataset would come from approved users on Yelp. We would use an algorithm to search the reviews for key words that could probably indicate a reducduction in quality. The more negative reviews a restaurant has would make that restuarant more likely to be inspected more immediately as the reviews suggest the quality is lacking.\n",
    "I haven't decided who spefically we would collect the data from. We would primariy focus on the reviews of a certain area. Most liekly conducting pilot studies in small areas/cities before expanding to bigger areas."
   ]
  },
  {
   "cell_type": "markdown",
   "metadata": {},
   "source": [
    "# Ethics & Privacy"
   ]
  },
  {
   "cell_type": "markdown",
   "metadata": {},
   "source": [
    "The data cllection will only be taken from indivduals who conesent to having their information to be used and collected. Obviously giving them the oppurtunity to revoke their information at anytime as well. \n",
    "A potential bias could be inaccurate reviews that have been purposely left in order to sway the algorithm to purposely bias the data."
   ]
  }
 ],
 "metadata": {
  "kernelspec": {
   "display_name": "Python 3",
   "language": "python",
   "name": "python3"
  },
  "language_info": {
   "codemirror_mode": {
    "name": "ipython",
    "version": 3
   },
   "file_extension": ".py",
   "mimetype": "text/x-python",
   "name": "python",
   "nbconvert_exporter": "python",
   "pygments_lexer": "ipython3",
   "version": "3.6.7"
  }
 },
 "nbformat": 4,
 "nbformat_minor": 2
}
