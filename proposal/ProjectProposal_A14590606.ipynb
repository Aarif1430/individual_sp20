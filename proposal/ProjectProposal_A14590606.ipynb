{
 "cells": [
  {
   "cell_type": "markdown",
   "metadata": {},
   "source": [
    "# COGS 108 - Project Proposal"
   ]
  },
  {
   "cell_type": "markdown",
   "metadata": {},
   "source": [
    "# Names & PID\n",
    "\n",
    "- Name: Joseph Del Val\n",
    "- PID: A14590606"
   ]
  },
  {
   "cell_type": "markdown",
   "metadata": {},
   "source": [
    "# Research Question"
   ]
  },
  {
   "cell_type": "markdown",
   "metadata": {},
   "source": [
    "What is the optimal* yearly frequency of health inspections given to restaurants that would be associated with the best restaurant health ratings?\n",
    "\n",
    "*Defined as the fewest visits which still result in maximized health ratings"
   ]
  },
  {
   "cell_type": "markdown",
   "metadata": {},
   "source": [
    "## Background and Prior Work"
   ]
  },
  {
   "cell_type": "markdown",
   "metadata": {},
   "source": [
    "This research question is meant to discover both a way to maximize the health of the city, but also to cut any unnecessary costs. As for prior work, out of the three relevant sources I found, all of them were from Canada. In Ontario, neither reducing the standard frequency of health inspections from 6 inspections to 4 nor 2 had any statistically significant impact on infraction scores. (Source 1)\n",
    "\n",
    "Once again in Ontario, there was observed to be no statistically significant difference in the compliance rates of restaurants inspected 3, 4, and 5 times a year. However, when clustered together, there were observed improvements in restaurants who experienced longer intervals between inspection. (Source 3)\n",
    "\n",
    "In Canada more broadly, in thirty randomly selected restaurants across three provinces, it was observed that health outcomes worsened with intervals greater than 12 months, but did not worsen with shorter intervals. (Source 2)\n",
    "\n",
    "\n",
    "References (include links):\n",
    "- 1) Kirshner B, *An Effectiveness and Equivalence Trial Evaluating the Impact of Education and Frequency of Inspection to Regulation 243/84 Under the Ontario Public Health Act*, 1993\n",
    "https://www.elibrary.ru/item.asp?id=5790976\n",
    "\n",
    "- 2) \n",
    "Mathias RG, Sizto R, Hazlewood A, Cocksedge W, *The Effects of Inspection Frequency and Food Handler Education on Restaurant Inspection Violations*, 1994\n",
    "https://europepmc.org/article/med/7728716\n",
    "\n",
    "- 3) \n",
    "Newbold KB, McKeary M, Hart R, Hall R, *Restaurant Inspection Frequency and Food Safety Compliance*, 2008\n",
    "https://www.jstor.org/stable/26327770?seq=1#metadata_info_tab_contents"
   ]
  },
  {
   "cell_type": "markdown",
   "metadata": {},
   "source": [
    "# Hypothesis\n"
   ]
  },
  {
   "cell_type": "markdown",
   "metadata": {},
   "source": [
    "Once a year is the ideal frequency for health inspections to be given to restaurants; wherein inspecting more frequently is simply an unneeded expense, and inspecting less freqently would worsen health outcomes.\n",
    "\n",
    "I believe this hypothesis is likely to be the case, as in the Mathias study it was observed that intervals greater than 12 months were associated with worse health outcomes in Canada. Moreover, this same study observed that health outcomes did not decrease with shorter intervals. This is supported by the two other studies, in which no statistical difference was observed between inspecting 2, 4, or 6 times a year, as well as 3, 4, or 5 times a year."
   ]
  },
  {
   "cell_type": "markdown",
   "metadata": {},
   "source": [
    "# Data"
   ]
  },
  {
   "cell_type": "markdown",
   "metadata": {},
   "source": [
    "Ideally, data would be collected from all restaurants within the town I'm in charge of. However, if this is unachievable, data from towns of similar size, spread, and socioeconomic status would be good. Ideally there would be information from as many restaurants as possible, though after some thousand whatever statistical pattern there is likely would have already revealed itself. Preferrably, this data would be recorded by health inspectors themselves after they determine the outcome of a particular restaurant's safety inspection. These data would then ideally be checked to ensure no typos and errors are present, and then all aggregated by an employee who would aggregate and clean it all, ensuring that no individual inspection is represented twice, and put this in a .csv file.\n",
    "\n",
    "As for the nature of this dataset, ideally I would want each row to represent the outcome of an inspection, as well as any other necessary variables for this task. Preferrably, there most be:\n",
    "- 1) A unique ID assigned to this restaurant. The data type doesn't matter as much as it simply being unique.\n",
    "- 2) The letter grade received by this restaurant. String 'A', 'B', et cetera.\n",
    "- 3) The amount of time that has passed since the previous inspection. Perhaps an integer number of months.\n",
    "\n",
    "Now this combination will allow me to perform some interesting kinds of analysis-- I could restrict it to unique restaurants, with a represented average interval time, and compute some numeric average rating. I could then compare across restaurants.\n",
    "I could also track restaurants specific restaurants with multiple recorded inspections, and use these observations to see if different lengths of time passing between inspections makes a difference within the same restaurant. Overall, I see a lot of different ways I could tackle this problem with this setup."
   ]
  },
  {
   "cell_type": "markdown",
   "metadata": {},
   "source": [
    "# Ethics & Privacy"
   ]
  },
  {
   "cell_type": "markdown",
   "metadata": {},
   "source": [
    "As far as data privacy goes, restaurant health inspection records are public record, so there is no need to be concerned about violating any privacy rights. As the data is set up, I do not see any item that causes any particular concern whatsoever.\n",
    "As far as ethics goes, I don't see any particularly worrisome aspect of this experiment. Health inspections vary in intervals as it is, so keeping the status quo should be fine for this study, and thus should cause no concerns (such as, manipulating variables and as a result lowering the health safety of restaurants).\n",
    "With regards to communicating results, I also see no reason to be concerned about what the results of this study are-- in fact, results likely *should* be communicated in order to encourage improvements in restaurant health outcomes.\n",
    "Overall, I believe this study would be of no ethical concern."
   ]
  },
  {
   "cell_type": "code",
   "execution_count": null,
   "metadata": {},
   "outputs": [],
   "source": []
  }
 ],
 "metadata": {
  "kernelspec": {
   "display_name": "Python 3",
   "language": "python",
   "name": "python3"
  },
  "language_info": {
   "codemirror_mode": {
    "name": "ipython",
    "version": 3
   },
   "file_extension": ".py",
   "mimetype": "text/x-python",
   "name": "python",
   "nbconvert_exporter": "python",
   "pygments_lexer": "ipython3",
   "version": "3.7.3"
  }
 },
 "nbformat": 4,
 "nbformat_minor": 2
}
