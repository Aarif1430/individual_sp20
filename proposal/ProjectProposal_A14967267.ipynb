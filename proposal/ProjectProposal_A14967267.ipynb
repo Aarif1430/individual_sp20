{
 "cells": [
  {
   "cell_type": "markdown",
   "metadata": {},
   "source": [
    "# COGS 108 - Project Proposal"
   ]
  },
  {
   "cell_type": "markdown",
   "metadata": {},
   "source": [
    "# Names & PID\n",
    "\n",
    "- Name: Kasie Gomez\n",
    "- PID: A14967267"
   ]
  },
  {
   "cell_type": "markdown",
   "metadata": {},
   "source": [
    "# Research Question"
   ]
  },
  {
   "cell_type": "markdown",
   "metadata": {},
   "source": [
    "What affect do social status reports, based on Yelp reviews, have on health scores among trendy restaurants in the Los Angeles county? Is a decrease in social popularity an indicator that a restaurant will also decline in their health scores?"
   ]
  },
  {
   "cell_type": "markdown",
   "metadata": {},
   "source": [
    "## Background and Prior Work"
   ]
  },
  {
   "cell_type": "markdown",
   "metadata": {},
   "source": [
    "When researching information about health inspection protocols in the Los Angeles county, it was interesting to point out that around 2017 there was a shift in the health score grading policy made in order to make a more meaningful assessment on the restaurants. From an article by the San Gabriel Valley Tribune (SGVT), it was analyzed how having a score of an ‘A’ will be much more valuable, especially to consumers. Past grading protocol was also mentioned in that before restaurants with even two major violations were only deducted as few as four points out of 100 points from their score, thus still resulting in an ‘A’ grade. However with new regulations made, the point system now factors in these major violations to deduct as many as three to seven points, making it more possible for a restaurant to result in a ‘B’ grade depending on the violation. These changes were also to be reflected on new grade cards for more consumer accessibility to learn about the health inspection history of the restaurant. By recognizing how much more consumers can have access to making sure where they are eating is safe, I was interested to look into trendy restaurants in Los Angeles county based on Yelp evaluations. \n",
    "\n",
    "Knowing about this implementation of adjusting the grading policy, makes it more viable to understand health scores and delve into Yelp evaluations. On this application, they have a section accessible to consumers to learn more about the restaurants’ ratings and their health scores. Pulling from inexpensive, moderate, and most expensive restaurants with the highest ratings from those marked as “trendy” by Yelp, I looked into their ratings history alongside their health score. It was interesting to see a similar trend when a restaurant had a small increase in the amount of health code violations, and how this was capatable to a decrease in their popularity ratings. Alongside the importance of social status for a restaurants’ popularity, a point was made in an article by INFORMS where the use of social media, like Yelp, can have this consistency affect to highlight the health scores of certain restaurants. This article made reference to a past study that also made conclusions about the importance of customer review that will influence the good hygiene protocol for a restaurant. Thus, this sparks the leading topic of discussion on how social status can have a desire affect on a restaurants’ health score.\n",
    "\n",
    "References (include links):\n",
    "- 1) SGVT Article: https://www.sgvtribune.com/?returnUrl=https%3A%2F%2Fwww.sgvtribune.com%2F2016%2F06%2F10%2Fthat-a-grade-at-your-favorite-la-restaurant-will-be-more-meaningful-soon-heres-why%2F%3FclearUserState%3Dtrue\n",
    "- 2) Yelp Article: https://www.nbclosangeles.com/investigations/yelp-warns-consumers-about-la-restaurants-with-bad-grades/2296465/\n",
    "- 3) INFORMS Article: https://www.eurekalert.org/pub_releases/2020-01/ifor-cra011320.php"
   ]
  },
  {
   "cell_type": "markdown",
   "metadata": {},
   "source": [
    "# Hypothesis\n"
   ]
  },
  {
   "cell_type": "markdown",
   "metadata": {},
   "source": [
    "My main hypothesis is that because of the rise of social media, especially the impact that Yelp has for trendy restaurants in Los Angeles, there is a major influence from consumer reviews and ratings that will upscale or downscale a restaurant and cause for how much a restaurant will continue to practice good hygiene. I have a leading prediction that majority of these trendy restaurants factor in aspects from Yelp reviews, and when their ratings decline ever so slightly, there will be a slight increase to their violations made, being that I recognized this form of trend when I analyzed some restaurants’ ratings chart and health score history."
   ]
  },
  {
   "cell_type": "markdown",
   "metadata": {},
   "source": [
    "# Data"
   ]
  },
  {
   "cell_type": "markdown",
   "metadata": {},
   "source": [
    "In order to delve deeper into answering this research question, I would need to account for variables such as rating scores, number of customer reviews, health scores, and number of health inspection violations. These would be variables gathered from Yelp and the online forum of the public health department of Los Angeles. Using Yelp, I would be able to use their ratings chart, made accessible for any restaurant, and pinpoint key dates when there is an influx or decrease in ratings, and correlate it with the dates made in the health score history. These observations would then be stored in a tidy data set that accounts for each variable and takes in a diverse set of restaurants ranging from inexpensive to moderate to expensive. However this is limited to the restaurants marked as trendy by Yelp because this would be an interesting factor to look into, being that Los Angeles has a variety of hot spots for eateries. This factor would also help limit the observation in order to have a closer look at a smaller data set with at least 50 restaurants to look into."
   ]
  },
  {
   "cell_type": "markdown",
   "metadata": {},
   "source": [
    "# Ethics & Privacy"
   ]
  },
  {
   "cell_type": "markdown",
   "metadata": {},
   "source": [
    "By conducting a research question that highly values data from public resources, there is very little privacy related issues because Yelp and the online public health department of Los Angeles have allowed for the sharing of health inspections that are accessible on both domains. However, there is a slight potential bias when gathering the data, being that I am most concerned with restaurants that show outstanding trends in both their ratings history and health score history. In order to refrain from such biases, I would need to make sure to include any restaurants that remain in a stable trend of both forms of rating and score history. Being that I would want to limit my observations to a smaller data set, I would need to account for an even range of diverse ratings and scores in order to withhold any potential biases of not recognizing those restaurants with no changes in their histories."
   ]
  },
  {
   "cell_type": "code",
   "execution_count": null,
   "metadata": {},
   "outputs": [],
   "source": []
  }
 ],
 "metadata": {
  "kernelspec": {
   "display_name": "Python 3",
   "language": "python",
   "name": "python3"
  },
  "language_info": {
   "codemirror_mode": {
    "name": "ipython",
    "version": 3
   },
   "file_extension": ".py",
   "mimetype": "text/x-python",
   "name": "python",
   "nbconvert_exporter": "python",
   "pygments_lexer": "ipython3",
   "version": "3.6.7"
  }
 },
 "nbformat": 4,
 "nbformat_minor": 2
}
