{
 "cells": [
  {
   "cell_type": "markdown",
   "metadata": {},
   "source": [
    "# COGS 108 - Project Proposal"
   ]
  },
  {
   "cell_type": "markdown",
   "metadata": {},
   "source": [
    "# Names & PID\n",
    "\n",
    "- Name: Red Nguyen\n",
    "- PID: A16086294"
   ]
  },
  {
   "cell_type": "markdown",
   "metadata": {},
   "source": [
    "# Research Question"
   ]
  },
  {
   "cell_type": "markdown",
   "metadata": {},
   "source": [
    "How does personal hygiene affect the rating score for restaurants in San Diego County?"
   ]
  },
  {
   "cell_type": "markdown",
   "metadata": {},
   "source": [
    "## Background and Prior Work"
   ]
  },
  {
   "cell_type": "markdown",
   "metadata": {},
   "source": [
    "Health inspection happens once every six months in each restaurant to make sure they follow certain food rules, ensuring customers' health. A restaurant's score is on a 100 point scale, which is determined by the inspectors based on the restaurant's number of violations. One of the main factors that contribute to the restaurant's score is personal hygiene. \n",
    "According to San Diego County website, the statistic show that around 96.68 percent of restaurants in the county have the letter grade of A (90 or higher). However, we focus on the violations that cause the restaurants to not get a perfect score (100).\n",
    "According to SD Food Info, there are around 95,000 restaurants in San Diego County that have inspection reports. These results include the restaurants' score and their inspection history. Based on the reports, the majority causes that bring the restaurants' score down is cleaning and hygiene.\n",
    "References (include links):\n",
    "- 1)San Diego County. From: https://performance.sandiegocounty.gov/stat/goals/ch5s-4bb7/tjv2-sruh/c7j2-zenp\n",
    "- 2)SD Food Info. From: https://www.sdfoodinfo.org/restaurant.html"
   ]
  },
  {
   "cell_type": "markdown",
   "metadata": {},
   "source": [
    "# Hypothesis\n"
   ]
  },
  {
   "cell_type": "markdown",
   "metadata": {},
   "source": [
    "Personal Hygiene is the main cause that affect rating score for restaurants in San Diego County. By looking at several restaurants in SD Food Info website, we can see that those who do not have a perfect score (100) tend to vilolate cleaning procedure."
   ]
  },
  {
   "cell_type": "markdown",
   "metadata": {},
   "source": [
    "# Data"
   ]
  },
  {
   "cell_type": "markdown",
   "metadata": {},
   "source": [
    "There will be 4 variables I will use for my dataset: Name of Restaurant, Address, Score, Hygiene Violcation or Not.\n",
    "There will be around 1000 observations. These data will be collected from the website of SD Food Info. \n",
    "In order to access the database, I will get the API of the website, selecting randomly 1000 inspected restaurants in San Diego and then fitting them into my own dataset."
   ]
  },
  {
   "cell_type": "markdown",
   "metadata": {},
   "source": [
    "# Ethics & Privacy"
   ]
  },
  {
   "cell_type": "markdown",
   "metadata": {},
   "source": [
    "The restaurant data reported in the website of SD Food Info is opened to the public, so I do have the permission to use it. There is no privacy concern of using these data because all customers should know it in order to select the right restaurant for dining option. Since the data includes all restaurants being inspected in San Diego County, there should not be any bias in my data set. Overall, my topic is specific and straighforward enough to not encounter any issue related to data privacy and equitable impact."
   ]
  },
  {
   "cell_type": "code",
   "execution_count": null,
   "metadata": {},
   "outputs": [],
   "source": []
  }
 ],
 "metadata": {
  "kernelspec": {
   "display_name": "Python 3",
   "language": "python",
   "name": "python3"
  },
  "language_info": {
   "codemirror_mode": {
    "name": "ipython",
    "version": 3
   },
   "file_extension": ".py",
   "mimetype": "text/x-python",
   "name": "python",
   "nbconvert_exporter": "python",
   "pygments_lexer": "ipython3",
   "version": "3.6.7"
  }
 },
 "nbformat": 4,
 "nbformat_minor": 2
}
