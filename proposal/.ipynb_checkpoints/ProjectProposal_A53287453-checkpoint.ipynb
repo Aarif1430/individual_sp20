{
 "cells": [
  {
   "cell_type": "markdown",
   "metadata": {},
   "source": [
    "# COGS 108 - Project Proposal"
   ]
  },
  {
   "cell_type": "markdown",
   "metadata": {},
   "source": [
    "# Names & PID\n",
    "\n",
    "- Name: Hsuan-Yu Lin\n",
    "- PID: A53287453"
   ]
  },
  {
   "cell_type": "markdown",
   "metadata": {},
   "source": [
    "# Research Question"
   ]
  },
  {
   "cell_type": "markdown",
   "metadata": {},
   "source": [
    "*Fill in your research question here*\n",
    "\n",
    "\"Are the types, locations and cultures of the restaurant major contributing factors for restaurants that make them fail to receive grade A?\""
   ]
  },
  {
   "cell_type": "markdown",
   "metadata": {},
   "source": [
    "## Background and Prior Work"
   ]
  },
  {
   "cell_type": "markdown",
   "metadata": {},
   "source": [
    "*Fill in your background and prior work here. Be sure to specify which statements are from which references.* \n",
    "\n",
    "Health inspectors look for both noncritical and critical violations. Some examples of critical violations criteria are proper food temperatures, adequate employee had washing stations, commercial dishwasher sanitation, the presence of vermin and employee hygiene, which may affect the likelihood of foodborne illness. If the score is between 90 to 100, then the restaurant will get grade A, 80-90 for grade B, and 70-80 for grade C. Different types of restaurants provide various styles of food. But the way that the food is prepared is also different. It has relationships between the culture and how the food is prepared, cooked, and then served for customers. The culture affects not only the habit of the people act but also the way that people prepare and cook food.\n",
    "\n",
    "There is a data analysis project on Kaggle called \"I wouldn't eat at these places in SFO\" [1] and answered similar question to the question that raised in this project, \"will types and location of restaurants affect the health inspection grading?\" According to the conclusion of that report, oriental restaurants in SF are the most likely to violate the health norms. The conclusion of that report is sensible, but the situation may be different between San Diego and San Francisco.\n",
    "\n",
    "Another project on Kaggle called \"Extensive Modelling - ChicagoFoodInspections\" [2] carries out a text mining and sentiment analysis based on the inspection text. The techniques used are similar to those I will use in this project. We could use the inspection text written by the inspector to explore if there are valuable findings that relate to the types of restaurants.\n",
    "\n",
    "References (include links):\n",
    "- 1) https://www.kaggle.com/stansilas/i-wouldn-t-eat-at-these-places-in-sfo\n",
    "- 2) https://www.kaggle.com/ambarish/extensive-modelling-chicagofoodinspections"
   ]
  },
  {
   "cell_type": "markdown",
   "metadata": {},
   "source": [
    "# Hypothesis\n"
   ]
  },
  {
   "cell_type": "markdown",
   "metadata": {},
   "source": [
    "*State and defend your hypotheses here.*\n",
    "\n",
    "First, I believe the style of the restaurant will affect its sanity, which was shown by the data analysis result from reference [1]. You can see that the top ten restaurants at the high-risk level are mostly oriental restaurants.\n",
    "\n",
    "Second, as for the place, I believe there will be some relationship between the grading and the geological region of the restaurant. In wealthy communities, people will be affordable to eat at higher quality restaurants. On the contrary part, the sanity may not be highly maintained by the owner in a relatively not wealthy community."
   ]
  },
  {
   "cell_type": "markdown",
   "metadata": {},
   "source": [
    "# Data"
   ]
  },
  {
   "cell_type": "markdown",
   "metadata": {},
   "source": [
    "*Explain what the ideal dataset you would want to answer this question. (This should include: What variables? How many observations? Who/what/how would these data be collected? How would these data be stored/organized?)*\n",
    "\n",
    "- restaurant_name: the name of the restaurant\n",
    "- type_restaurant: Asian/ Mexican/ American/ European/ etc\n",
    "- score: the score ranges from 0 to 100 that each restaurant receives\n",
    "- grade: grading given by the inspector, A/B/C or D if restaurants closed due to certain critical violations\n",
    "- longitude_restaurant: the longitude of the restaurant location\n",
    "- latitude_restaurant: the latitude of the restaurant location\n",
    "- violation_description: this may help us do text mining to check what is the relationship between types of violation and the grade. What are the major causes that lead to the closure of the restaurants?"
   ]
  },
  {
   "cell_type": "markdown",
   "metadata": {},
   "source": [
    "# Ethics & Privacy"
   ]
  },
  {
   "cell_type": "markdown",
   "metadata": {},
   "source": [
    "*Fill in your ethics & privacy discussion here*\n",
    "\n",
    "Based on the data like we see in the above two reference project, these data are open data and accssible to people who would like to use them to do data analysis."
   ]
  }
 ],
 "metadata": {
  "kernelspec": {
   "display_name": "Python 3",
   "language": "python",
   "name": "python3"
  },
  "language_info": {
   "codemirror_mode": {
    "name": "ipython",
    "version": 3
   },
   "file_extension": ".py",
   "mimetype": "text/x-python",
   "name": "python",
   "nbconvert_exporter": "python",
   "pygments_lexer": "ipython3",
   "version": "3.7.4"
  },
  "toc": {
   "base_numbering": 1,
   "nav_menu": {},
   "number_sections": true,
   "sideBar": true,
   "skip_h1_title": false,
   "title_cell": "Table of Contents",
   "title_sidebar": "Contents",
   "toc_cell": false,
   "toc_position": {},
   "toc_section_display": true,
   "toc_window_display": false
  }
 },
 "nbformat": 4,
 "nbformat_minor": 2
}
