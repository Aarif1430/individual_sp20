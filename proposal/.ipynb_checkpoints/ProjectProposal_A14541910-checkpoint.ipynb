{
 "cells": [
  {
   "cell_type": "markdown",
   "metadata": {},
   "source": [
    "# COGS 108 - Project Proposal"
   ]
  },
  {
   "cell_type": "markdown",
   "metadata": {},
   "source": [
    "# Names & PID\n",
    "\n",
    "- Name: Sebastian Dogaru\n",
    "- PID: A14541910"
   ]
  },
  {
   "cell_type": "markdown",
   "metadata": {},
   "source": [
    "# Research Question"
   ]
  },
  {
   "cell_type": "markdown",
   "metadata": {},
   "source": [
    "*In San Diego county, is there a relationship between restauraunt inspection grades and disease transmission?*"
   ]
  },
  {
   "cell_type": "markdown",
   "metadata": {},
   "source": [
    "## Background and Prior Work"
   ]
  },
  {
   "cell_type": "markdown",
   "metadata": {},
   "source": [
    "In San Diego County, restaurants are inspected regularly to ensure compliance with safety guidelines and regulations. The main goal of this is to avoid transmission of foodbrone disease. During an inspection, restaurants are assigned inspection scores based on their percieved peformance. Each restaraunt starts with a score of 100 pts, from which points are deducted as violations are encountered. Certain violations, such as a vermin infestation, circumvent the normal scoring process and result in automatic closure. Following inspection, a restauraunts numeric score is mapped to a letter grade, A (100-90), B(89-80) or C(79-), where A stands for \"satisfactory compliance\", B stands for  \"needs improvement\", and C stands for a \"failing grade\". Ultimately, restauraunts that earn A or B scores are allowed to continue operating, while C scores require closures and reinspections. These letter grades are required by law to be displayed at restaurant enterances, in order to inform consumers of potential safety hazards.  (1)\n",
    "\n",
    "There exists reason for skepticism regarding the validity of this scoring system in San Diego County. According to NBC San Diego, upwards of 99% of restaurants in San Diego County earn an 'A' grade. NBC specifically cites an instance where a restaraunt was discovered to have a vermin infection, dirty countertops and employees that were not washing their hands; this restaurant earned an A score. Provided these accounts, it would appear that the inspection grading system in San Diego County maybe inaccurate, or flawed entirely. If this is the case, San Diego residents may be subject to increased risk of disease transmission, without them knowing. (2)\n",
    "\n",
    "This wouldn't be the first time inspection grading criteria was found to be inaccurate. A study from the CDC in Tenessee in the late 1990s concluded that the scores of restaraunts that had disease outbreaks did not differ from the scores of restaraunts that did not have outbreaks. This study suggested that systemic improvement in Tennessee was needed, both in terms of improving inspection criteria and standardizing the inspection process. Given the high proportion of 'A' ratings in San Diego, there exists a possibility that similar improvements may be needed. (3)\n",
    "\n",
    "\n",
    "\n",
    "References (include links):\n",
    "- 1) San Diego County\n",
    "https://www.sandiegocounty.gov/content/sdc/deh/fhd/ffis/intro.html.html\n",
    "- 2) Centers for Diesease Control and Prevention https://wwwnc.cdc.gov/eid/article/10/4/03-0343_article\n",
    "- 3) NBC San Diego\n",
    "https://www.nbcsandiego.com/news/local/99-of-san-diego-restaurants-earn-a-grades-bringing-usefulness-of-system-into-question/25381/"
   ]
  },
  {
   "cell_type": "markdown",
   "metadata": {},
   "source": [
    "# Hypothesis\n"
   ]
  },
  {
   "cell_type": "markdown",
   "metadata": {},
   "source": [
    "*In San Diego County, there does not exist a relationship between restaurant inspection scores and disease transmission. This is because the restaraunt inspection process in San Diego is inherently flawed; inspection criteria that yields an 'A' rating for 99 percent of restauraunts is likely incorrect, or insufficient in strictness.*"
   ]
  },
  {
   "cell_type": "markdown",
   "metadata": {},
   "source": [
    "# Data"
   ]
  },
  {
   "cell_type": "markdown",
   "metadata": {},
   "source": [
    "To answer this data science question, I would need two key data variables:  A restaurant's inspection grade, and a rate of disease spread from that restaurant. I would prefer this data to be structured, stored in two relational databses (SQL). Both databases would share a relational key, an anonymous ID that is assigned to each restaurant.\n",
    "\n",
    "The first database would consist of the following relation : [ID, Inspection Grade], where ID is a anonymous numeric ID assinged to each restaurant, and where Inspection Grade is either 'A', 'B', or 'C'. The second databases would consist of the relation [ID, Disease Transmission Rate], where Disease Transmission Rate is a numeric value calculated as: # of reported diseases originating at a restaurant in a given year/ # of total customers served that year.\n",
    "\n",
    "Each observation in this dataset would be linked to a restaurant in San Diego County. Ideally, an observation would exist for every restaurant in the county, so that the most accurate conclusion on the San Diego County inspection system can be formed. Since inspection rules and regulations are subject to change, I would prefer observations also be limited to the current year, 2020, so that conclusions on current regulations may be formed."
   ]
  },
  {
   "cell_type": "markdown",
   "metadata": {},
   "source": [
    "# Ethics & Privacy"
   ]
  },
  {
   "cell_type": "markdown",
   "metadata": {},
   "source": [
    "A restarants inspection letter grade is public information, and is required to be displayed at entrance. Data on disease transmission, on the other hand, would likely require consent from individual restaurants to collect. Collection of this data would likely require a guarantee on restaurant anonymity. If a restaurants name is openly used, and they are found to have a high rate of disease transmission, this could lead to potential acts of retaliation. It could also lead readers to make conclusions on restaurant cleanliness along lines of race and culture. To best avoid this, I have requested that restaraunt data be recorded anonymously, using an ID.\n",
    "\n",
    "Data on disease transmission will have to be auditable; the metrics and methodology used to record this data on a restaraunt by restaurant basis will need to be thoroughly documented and checked for potential bias by recordees.\n",
    "\n",
    "By using a dataset that aimts to include every restaurant in San Diego, we avoid potential sampling biases such as location bias and exclusion of particular populations. This will allow us to best gauge the effectiveness of the San Diego County inspection grading process."
   ]
  },
  {
   "cell_type": "code",
   "execution_count": null,
   "metadata": {},
   "outputs": [],
   "source": []
  }
 ],
 "metadata": {
  "kernelspec": {
   "display_name": "Python 3",
   "language": "python",
   "name": "python3"
  },
  "language_info": {
   "codemirror_mode": {
    "name": "ipython",
    "version": 3
   },
   "file_extension": ".py",
   "mimetype": "text/x-python",
   "name": "python",
   "nbconvert_exporter": "python",
   "pygments_lexer": "ipython3",
   "version": "3.7.1"
  }
 },
 "nbformat": 4,
 "nbformat_minor": 2
}
