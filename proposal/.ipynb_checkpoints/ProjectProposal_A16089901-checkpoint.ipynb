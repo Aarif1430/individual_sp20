{
 "cells": [
  {
   "cell_type": "markdown",
   "metadata": {},
   "source": [
    "# COGS 108 - Project Proposal"
   ]
  },
  {
   "cell_type": "markdown",
   "metadata": {},
   "source": [
    "# Names & PID\n",
    "\n",
    "- Name: Ahmad Sadeed\n",
    "- PID: A16089901"
   ]
  },
  {
   "cell_type": "markdown",
   "metadata": {},
   "source": [
    "# Research Question"
   ]
  },
  {
   "cell_type": "markdown",
   "metadata": {},
   "source": [
    "When using public restrooms in restaurants, what hand drying method helps us reduce cross-contamination and effectively remove bacteria? What is the safer and hygienic option, dryer or paper towel?"
   ]
  },
  {
   "cell_type": "markdown",
   "metadata": {},
   "source": [
    "## Background and Prior Work"
   ]
  },
  {
   "cell_type": "markdown",
   "metadata": {},
   "source": [
    "With automatic and contactless doors, toilet flushes, soap dispenser and water taps, we might have fewer phobias using the restroom in a restaurant. \"For a century, the humble paper towel has dominated public toilets. But a new generation of hand dryers has sparked a war for loo supremacy \" (4). Each side of this war has a list of arguments for their superiority. “A facilities manager at the University of Tennessee, which recently switched out all its paper towels for about 700 hand dryers, told me that he was saving $100,000 every year by not having to plumb and unclog toilets” (4). The arguments from the two sides revolve around cost, eco-friendliness, ease of use, maintenance and more. The topic of concern in this proposal is restroom hygiene in restaurants and how it should be applied to restaurant inspections by city governments. According to checklist provided by Process Street website, inspecting sanitation practices and appropriate employee hygiene are two separate checklists with their own sub-checklists (1). City of San Diego offers Food Facility Self-Inspection Checklist (2). However, there is no mentioning of any specific requirement for hand drying or its importance in removing residual bacteria. There have been some studies with two central questions (4):\n",
    "\n",
    "-\tDo our hands come away more or less germy after using a dryer as opposed to a paper towel? \n",
    "-\tDo the dryers disperse bacteria and viruses through the restroom, like autumn breezes gusting leaves across a lawn?\n",
    "\n",
    "According to The Guardian, “it isn’t easy to know what to make of these studies. Many undergo peer review, but an experiment can be structured in a way that favors a particular outcome and still be valid science” (4). They mention one truly independent research project by the Mayo Clinic, which concluded that, “paper towels be preferred in places where “hygiene is paramount, such as hospitals and clinics” (4). Mayo Clinic Proceedings offered a review of the research “on the hygienic efficacy of different hand-drying methods” (3). “Twelve studies were included in the review. Hand-drying effectiveness includes the speed of drying, degree of dryness, effective removal of bacteria, and prevention of cross-contamination. This review found little agreement regarding the relative effectiveness of electric air dryers. However, most studies suggest that paper towels can dry hands efficiently, remove bacteria effectively, and cause less contamination of the washroom environment” (3). The conclusion of such comprehensive review is to recommend use of paper towel “in locations where hygiene is paramount, such as hospitals and clinics” (3). Isn’t hygiene “paramount” where we eat?\n",
    "\n",
    "\n",
    "References (include links):\n",
    "- 1) [Intro to Restaurant Health Inspection Checklist](https://www.process.st/checklist/restaurant-health-inspection-checklist/)\n",
    "- 2) [Food Facility Self-Inspection Checklist for County of San Diego](https://www.sandiegocounty.gov/content/dam/sdc/deh/fhd/food/pdf/publications_foodselfinspection.pdf)\n",
    "- 3) [The Hygienic Efficacy of Different Hand-Drying Methods: A Review of the Evidence](https://www.ncbi.nlm.nih.gov/pmc/articles/PMC3538484/)\n",
    "- 4) [Hand dryers v paper towels: the surprisingly dirty fight for the right to dry your hands](https://www.theguardian.com/society/2019/apr/25/hand-dryers-paper-towels-hygiene-dyson-airblade)"
   ]
  },
  {
   "cell_type": "markdown",
   "metadata": {},
   "source": [
    "# Hypothesis\n"
   ]
  },
  {
   "cell_type": "markdown",
   "metadata": {},
   "source": [
    "Hypothesis: Drying hands using paper towel effectively removes bacteria and reduces cross contamination compared to electric dryers. \n",
    "\n",
    "Why:\n",
    "> “Friction can dislodge microorganisms from the skin surface during both hand washing and drying. Antimicrobial agents in soaps have too little contact time to have bactericidal effects during a single use or with sporadic washings, making friction the most important element in hand drying. It is likely that paper towels work better because they physically remove bacteria from the hands, whereas hot air dryers and jet air dryers cannot”.\n",
    "\n",
    "And:\n",
    "> “Air movement can encourage the dispersal and transmission of bacteria and increase the chance of cross-contamination. Surrounding air in the washroom is recirculated by air dryers. This recirculation may result in the dispersion of infective aerosols already in the atmosphere and those generated by hands being rubbed together for drying. Used air dryers in washrooms are often contaminated and can emit bacteria in their air flow”.\n"
   ]
  },
  {
   "cell_type": "markdown",
   "metadata": {},
   "source": [
    "# Data"
   ]
  },
  {
   "cell_type": "markdown",
   "metadata": {},
   "source": [
    "The ideal dataset for this question would include around 100 observation in randomized order. Each observation would be a person, in two separate random situations, washing their hands with non-antibacterial soap (for 20 sec) and drying their hands using paper towel (2 sheets) in situation 1 and electric dryer (for 15 sec) in situation 2. A count of viable bacterial or fungal cells has to be performed for each handwashing: before washing hands and after drying hands using both methods. The data can be stored in an MS Excel file, JSON file or CSV format. The variables would be:\n",
    "-\tObservation number\n",
    "-\tCount of viable bacterial or fungal cells before the hand wash\n",
    "-\tCount of viable bacterial or fungal cells after drying with paper towel\n",
    "-\tCount of viable bacterial or fungal cells after drying with electric dryer\n"
   ]
  },
  {
   "cell_type": "markdown",
   "metadata": {},
   "source": [
    "# Ethics & Privacy"
   ]
  },
  {
   "cell_type": "markdown",
   "metadata": {},
   "source": [
    "-\tWe have to be careful to avoid the hypothesis to come in our way of collecting or analyzing data. This could take place in forms of fabricating data or altering the existing data to support our initial assumption. This also include accurate data collection where the researcher accurately records count of viable bacterial or fungal cells in the process and accurately records timing of the hand drying with electric dryer and washing hands with non-antibacterial soap for each observation.\n",
    "-\tWe have to give credit to the owner of any data or resources we use and we should have the right to use their data for our study.\n",
    "-\tThere is no need to record or keep any identifiable information about the subjects and any such information that is included in a dataset has to be removed to maintain their anonymous status if the dataset is published on any online platform. \n"
   ]
  }
 ],
 "metadata": {
  "kernelspec": {
   "display_name": "Python 3",
   "language": "python",
   "name": "python3"
  },
  "language_info": {
   "codemirror_mode": {
    "name": "ipython",
    "version": 3
   },
   "file_extension": ".py",
   "mimetype": "text/x-python",
   "name": "python",
   "nbconvert_exporter": "python",
   "pygments_lexer": "ipython3",
   "version": "3.7.4"
  },
  "toc": {
   "base_numbering": 1,
   "nav_menu": {},
   "number_sections": true,
   "sideBar": true,
   "skip_h1_title": false,
   "title_cell": "Table of Contents",
   "title_sidebar": "Contents",
   "toc_cell": false,
   "toc_position": {},
   "toc_section_display": true,
   "toc_window_display": false
  },
  "varInspector": {
   "cols": {
    "lenName": 16,
    "lenType": 16,
    "lenVar": 40
   },
   "kernels_config": {
    "python": {
     "delete_cmd_postfix": "",
     "delete_cmd_prefix": "del ",
     "library": "var_list.py",
     "varRefreshCmd": "print(var_dic_list())"
    },
    "r": {
     "delete_cmd_postfix": ") ",
     "delete_cmd_prefix": "rm(",
     "library": "var_list.r",
     "varRefreshCmd": "cat(var_dic_list()) "
    }
   },
   "types_to_exclude": [
    "module",
    "function",
    "builtin_function_or_method",
    "instance",
    "_Feature"
   ],
   "window_display": false
  }
 },
 "nbformat": 4,
 "nbformat_minor": 2
}
