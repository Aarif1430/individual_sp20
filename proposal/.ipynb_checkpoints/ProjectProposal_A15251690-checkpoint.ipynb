{
 "cells": [
  {
   "cell_type": "markdown",
   "metadata": {},
   "source": [
    "# COGS 108 - Project Proposal"
   ]
  },
  {
   "cell_type": "markdown",
   "metadata": {},
   "source": [
    "# Names & PID\n",
    "\n",
    "- Name: Duncan Carlmark\n",
    "- PID: A15251690"
   ]
  },
  {
   "cell_type": "markdown",
   "metadata": {},
   "source": [
    "# Research Question"
   ]
  },
  {
   "cell_type": "markdown",
   "metadata": {},
   "source": [
    "How are health inspection grades distributed across all classes of restaurants, and does the distribution of  inspection grades allow you to infer any connection between health inspection grades and the rates of food-borne illnesses in these classes of restaurants? Classes of restaurants is a broad term, but it implies that restaurants can be categorized based on the types of food they serve, the cost of that food, and how that food is served."
   ]
  },
  {
   "cell_type": "markdown",
   "metadata": {},
   "source": [
    "## Background and Prior Work"
   ]
  },
  {
   "cell_type": "markdown",
   "metadata": {},
   "source": [
    "#### General Information\n",
    "\n",
    "1)\n",
    "\n",
    "Resturaunt inspections are conducted differently depending on what food the restauraunt serves and the risk of that food creating possible illnesses in customers. This must be taken into account when performing analysis as some restaurants could be having 3 times as many inspections a year than others. This information can vary from place to place, so I plan on specifying LA county because I think it would be interesting to also look at how the frequency of inspections can be a factor.\n",
    "\n",
    "2)\n",
    "\n",
    "During health inspections, points are deducted for violations. Violations are categorized in 3 different severities and the points deducted for each vary within each category. The most severe category (Critical Risk Factors) is composed of issues that pose immediate threats. The second category (Good Retail Practices) is composed of issues that are not immediate threats, but still could possible pose an issue to the customer (Ex: Not maintaining soda machines, not labling food in storage properly, storing food and chemicals in the same closet, etc.). The final category is used only when action has to be taken by the health inspector in regards to impounding or sampling food that is suspected to be contaminated or malfunctioning. \n",
    "\n",
    "#### Prior Work\n",
    "\n",
    "3)\n",
    "\n",
    "A study investigating the link between Inspection Scores and Foodborne Diseases analyzed inspection data from the state of Tennessee to determine if there was any link between the scores given to restaurants and which restaurants were the sources of illness outbreaks. They found that the average restaurant rating of restaurants that had foodborne illnesses was very close to the average rating of restaurants overall. They attributed this to the small sample size of illness outbreaks that were recorded. In this measurement, the study also only looked at restauraunts that were defined as the source of an outbreak which means that individual cases of food poisioning or other instances of lower severity would not have factored into their analysis.\n",
    "\n",
    "4)\n",
    "\n",
    "This study also investigated the link between inspection scores and foodborne diseases, but instead measured the impact that inspection grades had on the numbers of \"Foodborne Disease Hospitalizations\" in LA County. To do this, this study compared the rates of hospitalization for LA County with the rest of CA before and after LA County introduced the use of letter scoring cards in restaurants. The study found that there was a significant decrease in the rates of hospitalization for foodbore illnesses\n",
    "\n",
    "5)\n",
    "\n",
    "This final study assesed the sanitary knowledge of cooks/cheffs from Nigeria. The most significant finding of the study in regards to my hypothesis is that there was a strong correlation between the education of someone and their knowledge of food safety procedures. Those that had attended a cooking school were far more likely to understand how to properly prevent the spread of foodborne illnesses.\n",
    "\n",
    "\n",
    "\n",
    "### References:\n",
    "\n",
    "General Information:\n",
    "- 1) http://www.publichealth.lacounty.gov/eh/SSE/DESFAQ.htm\n",
    "- 2) http://publichealth.lacounty.gov/eh/docs/RefGuideFoodInspectionReport.pdf\n",
    "\n",
    "Other Studies:\n",
    "- 3) https://www.ncbi.nlm.nih.gov/pmc/articles/PMC3323064/\n",
    "- 4) https://drum.lib.umd.edu/bitstream/handle/1903/6641/Mar%2005%20JEH%20Feature.pdf?sequence=1&isAllowed=y"
   ]
  },
  {
   "cell_type": "markdown",
   "metadata": {},
   "source": [
    "# Hypothesis\n"
   ]
  },
  {
   "cell_type": "markdown",
   "metadata": {},
   "source": [
    "The distribution of retaurant grades is not uniform across all categories of restaurants and grades for restaurants that serve food at lower prices are more likely to have higher rates of foodborne illnesses than those that serve food for higher prices. \n"
   ]
  },
  {
   "cell_type": "markdown",
   "metadata": {},
   "source": [
    "# Data"
   ]
  },
  {
   "cell_type": "raw",
   "metadata": {},
   "source": [
    "In an ideal world I would want to have several datasets in order to propperly answer this question\n",
    "\n"
   ]
  },
  {
   "cell_type": "markdown",
   "metadata": {},
   "source": [
    "# Ethics & Privacy"
   ]
  },
  {
   "cell_type": "markdown",
   "metadata": {},
   "source": [
    "One of my primary concerns with my hypothesis was that it might negatively target a specific category of restaurants or restaurants that served a specific ethnic food. "
   ]
  },
  {
   "cell_type": "code",
   "execution_count": null,
   "metadata": {},
   "outputs": [],
   "source": []
  },
  {
   "cell_type": "code",
   "execution_count": null,
   "metadata": {},
   "outputs": [],
   "source": []
  }
 ],
 "metadata": {
  "kernelspec": {
   "display_name": "Python 3",
   "language": "python",
   "name": "python3"
  },
  "language_info": {
   "codemirror_mode": {
    "name": "ipython",
    "version": 3
   },
   "file_extension": ".py",
   "mimetype": "text/x-python",
   "name": "python",
   "nbconvert_exporter": "python",
   "pygments_lexer": "ipython3",
   "version": "3.7.4"
  }
 },
 "nbformat": 4,
 "nbformat_minor": 2
}
