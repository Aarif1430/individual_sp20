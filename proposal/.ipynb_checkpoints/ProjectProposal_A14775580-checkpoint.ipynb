{
 "cells": [
  {
   "cell_type": "markdown",
   "metadata": {},
   "source": [
    "# COGS 108 - Project Proposal"
   ]
  },
  {
   "cell_type": "markdown",
   "metadata": {},
   "source": [
    "# Names & PID\n",
    "\n",
    "- Name: Saman Nabavi\n",
    "- PID: A14775580"
   ]
  },
  {
   "cell_type": "markdown",
   "metadata": {},
   "source": [
    "# Research Question"
   ]
  },
  {
   "cell_type": "markdown",
   "metadata": {},
   "source": [
    "Is it possible that using social media can help us to detect our human inspector's biases toward different restaurants and also is it possible to increase our efficiency both money wise and human resources wise to find more violators cheaper and with less amount of time spending to find them using social media for restaurants in San Diego city. "
   ]
  },
  {
   "cell_type": "markdown",
   "metadata": {},
   "source": [
    "## Background and Prior Work"
   ]
  },
  {
   "cell_type": "markdown",
   "metadata": {},
   "source": [
    "From https://hbr.org/2019/05/to-improve-food-inspections-change-the-way-theyre-scheduled, I learned \"Food-borne illness affects an estimated 48 million Americans each year, resulting in 3,000 deaths and the hospitalization of 128,000 people, according to the Centers for Disease Control and Prevention (CDC). Beyond that, food-borne illness in the U.S. is enormously costly, with an estimated collective annual bill of $55 billion in medical treatment, lost productivity, and lost wages, not to mention litigation expenses\". This article also talks a lot about biases that inspectors can have toward different restaurants. For example, number of visits that they have in a day effects their review, also if they had a bad experience in their previous visit, it affects them to the next restaurant that they visit or how if they check a restaurant after their working hours can affect their review, so this motivates me to look for a way to be able to balanced our inspector's reviews. \n",
    "The article https://gcn.com/articles/2015/03/02/yelp-city-restaurant-inspections.aspx, talks about the same data gathering that happened in 2014 from Yelp reviews to find violators. One of the problems was it was hard to match the data that they gathered with their own food inspection data and lack of technology made them to be able to test their process only in a few cities. The article also mentions \"Yelp averaged 139 million unique visitors in the third quarter of 2014, demonstrating that the site is a goldmine of information for those seeking restaurant reviews.\" which made me hopefull that we can gather a good amount of data. The funding of their research was 3 billion dollars, but unfortunately they didn't share their results which was another reason that I'm motivated to see what can we do with this data. \n",
    "References (include links):\n",
    "- 1) https://hbr.org/2019/05/to-improve-food-inspections-change-the-way-theyre-scheduled\n",
    "- 2) https://gcn.com/articles/2015/03/02/yelp-city-restaurant-inspections.aspx"
   ]
  },
  {
   "cell_type": "markdown",
   "metadata": {},
   "source": [
    "# Hypothesis\n"
   ]
  },
  {
   "cell_type": "markdown",
   "metadata": {},
   "source": [
    "I think using social media can increase our efficiency to find violators if we can gather a good data from Yelp or other resources. Because humans our doing the inspections, there is no doubts that mistakes can happen, and I believe using data that we can gather from social media can help us to detect them better, and in result, this can help us to manage our resources better; thus, finding more violators cheaper.  "
   ]
  },
  {
   "cell_type": "markdown",
   "metadata": {},
   "source": [
    "# Data"
   ]
  },
  {
   "cell_type": "markdown",
   "metadata": {},
   "source": [
    "Tabular data that is in the form of tidy data and it is large enough is preferred. I like the data to show how many times this place has been inspected, in what dates, id of the inspector, violations that happened there, violations that stop happening after inspectors report them, time of the day that inspection happened, day of the week that happened and etc. Also getting access to people reviews toward a restaurant from social media, date that happened, day of the week, time of the day that posted, rating that given, number of people that write review, how many reviews each person wrote in total, and being able to for example be possible to compare a reviewer's opinion toward different restaurants, and etc. Definitely the more review that we can have on a specific restaurant is better. \n",
    "I think for example for gathering data from Yelp, we can use beatifulsoup class to browse the website and gather information in a way that each row be a restaurant with its information. From there we can also make tables based on the reviewers to somehow figure out how much we can trust them. For example, someone that wrote 30 review that is matched with our inspections can be more trusted when he/she posts a review on a restaurant that we have less information about. \n",
    "In short, I prefer 3 tables. One about all data that we have that been gathered by our inspectors. The second one restaurant and all its informations and reviews on them. And from this for more exploring a table of people who wrote the reviews. So these tables should be easily merged, so for example, we can use id of the restaurant to merge the first two and use that in people's table to make the connection.  "
   ]
  },
  {
   "cell_type": "markdown",
   "metadata": {},
   "source": [
    "# Ethics & Privacy"
   ]
  },
  {
   "cell_type": "markdown",
   "metadata": {},
   "source": [
    "Getting reviews from Yelp, because it is a public website, I believe can be possible without violating anyone's privacy if we do a good job and pay a close attention about how to retrieve the data, but because I would like to gather information about individuals, I don't want their names so everyone's name should be replaced by ID. \n",
    "Also in the final report, it shouldn't be anything that can get back to a specific person. Ideally, contacting Yelp and asking them to ask their users that their reviews anonymously is gathered by local city health inspectors to improve the quality of the restaurants, and if they want they can opt-out would be great to make sure that no ones information is used without their consents. Also even after data been gathered, people should be able to opt-out if they want to. "
   ]
  }
 ],
 "metadata": {
  "kernelspec": {
   "display_name": "Python 3",
   "language": "python",
   "name": "python3"
  },
  "language_info": {
   "codemirror_mode": {
    "name": "ipython",
    "version": 3
   },
   "file_extension": ".py",
   "mimetype": "text/x-python",
   "name": "python",
   "nbconvert_exporter": "python",
   "pygments_lexer": "ipython3",
   "version": "3.6.9"
  }
 },
 "nbformat": 4,
 "nbformat_minor": 2
}
