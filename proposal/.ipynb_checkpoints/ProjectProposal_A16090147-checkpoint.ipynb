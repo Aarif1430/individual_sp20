{
 "cells": [
  {
   "cell_type": "markdown",
   "metadata": {},
   "source": [
    "# COGS 108 - Project Proposal"
   ]
  },
  {
   "cell_type": "markdown",
   "metadata": {},
   "source": [
    "# Names & PID\n",
    "\n",
    "- Name: Colin Wageman\n",
    "- PID: A16090147"
   ]
  },
  {
   "cell_type": "markdown",
   "metadata": {},
   "source": [
    "# Research Question"
   ]
  },
  {
   "cell_type": "markdown",
   "metadata": {},
   "source": [
    "Is there a correlation between changes in average water usage for resturants and their health inspection score?"
   ]
  },
  {
   "cell_type": "markdown",
   "metadata": {},
   "source": [
    "## Background and Prior Work"
   ]
  },
  {
   "cell_type": "markdown",
   "metadata": {},
   "source": [
    "According to the San Diego county Department of Environmental Health[1], water plays a crucial roll in restaurant sanitation processes. From washing hands, to thawing frozen foods, water is used in some form of sanitation at every restaurant. In fact the EPA says 52% of a restaurants water usage is in the kitchen and dish-washing[2].\n",
    "\n",
    "In 2014, the Chicago’s Department of Innovation and Technology, started using publicly available date to predict when restaurants might be in violations of health codes[4]. They looked at info like previous health inspections, weather, sanitation complaints, and more[5]. They were able to spot violation on average 7.5 days earlier than the inspectors would have otherwise[4].\n",
    "\n",
    "References (include links):\n",
    "- 1) San Diego Department of Health Retail Food Facility Guide - https://www.sandiegocounty.gov/content/dam/sdc/deh/fhd/food/pdf/publications_opguide.pdf\n",
    "- 2) EPA, Saving Water in Restaurants - https://www.epa.gov/sites/production/files/2017-01/documents/ws-commercial-factsheet-restaurants.pdf\n",
    "- 4) Citylab, Chicago Is Predicting Food Safety Violations. Why Aren't Other Cities? - https://www.citylab.com/solutions/2016/01/chicago-is-predicting-food-safety-violations-why-arent-other-cities/422511/\n",
    "- 5) Chicago, food-inspection-evaluation github - https://github.com/chicago/food-inspections-evaluation/\n",
    "- 6) Commercial Water Use - https://pacinst.org/wp-content/uploads/2013/02/appendix_e3.pdf"
   ]
  },
  {
   "cell_type": "markdown",
   "metadata": {},
   "source": [
    "# Hypothesis\n"
   ]
  },
  {
   "cell_type": "markdown",
   "metadata": {},
   "source": [
    "If restaurant water usage is monitored and averaged over short periods of time(~1 week), a correlation between significant changes in water usage and health inspection scores will be found. With a majority of water usage happening in the kitchen and sanitation requiring a significant amount of water, I expect to see a positive correlation. As water usage goes up, so does health scores."
   ]
  },
  {
   "cell_type": "markdown",
   "metadata": {},
   "source": [
    "# Data"
   ]
  },
  {
   "cell_type": "markdown",
   "metadata": {},
   "source": [
    "The ideal dataset would include daily water records, daily meals served, and number of employee who worked for the day per restaurant in the city.\n",
    "\n",
    "- water usage (gal/day), meals/day, employees/day, current health inspection score\n",
    "- If each restaurant had a CSV of data for all days prior to current, allowing for individual restaurant analysis.\n",
    "- between 7-14 observations would be ideal (per restaurant), but a full history would also be nice\n",
    "\n",
    "This data would allow you to look at previous water usage and determine if large changes have occurred in that usage. You might have a large change over a weekend for a restaurant, but if we average the water usage out over a week or more, the weekend should fall into average usage. Having meals and employees who work, would help identify busy days and number of hands that need washing regularly."
   ]
  },
  {
   "cell_type": "markdown",
   "metadata": {},
   "source": [
    "# Ethics & Privacy"
   ]
  },
  {
   "cell_type": "markdown",
   "metadata": {},
   "source": [
    "I don't believe water usage is public knowledge but water is a utility run by the government, so permission might not be necessary(if I am working for DEH). Though you would want to inform the restaurant that water usage is being tracked. Given the health department is organizing inspections, this data doesn't seem to breach any privacy concerns. Also water usage doesn't need to be posted with health inspection scores.\n",
    "There is a possibility for bias with the amount of water used. Some restaurants may only us small amounts of water in their daily operations and thus a significant change in water usage many not be detectable or associated with kitchen. The hope would be that an ongoing average would alleviate these issues. Finally, food truck would not be track able as they are not associated with a permanent location."
   ]
  }
 ],
 "metadata": {
  "kernelspec": {
   "display_name": "Python 3",
   "language": "python",
   "name": "python3"
  },
  "language_info": {
   "codemirror_mode": {
    "name": "ipython",
    "version": 3
   },
   "file_extension": ".py",
   "mimetype": "text/x-python",
   "name": "python",
   "nbconvert_exporter": "python",
   "pygments_lexer": "ipython3",
   "version": "3.7.1"
  }
 },
 "nbformat": 4,
 "nbformat_minor": 2
}
