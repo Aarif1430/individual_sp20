{
 "cells": [
  {
   "cell_type": "markdown",
   "metadata": {},
   "source": [
    "# COGS 108 - Project Proposal"
   ]
  },
  {
   "cell_type": "markdown",
   "metadata": {},
   "source": [
    "# Names & PID\n",
    "\n",
    "- Name: Eric Xiao\n",
    "- Github username: xiaoeric"
   ]
  },
  {
   "cell_type": "markdown",
   "metadata": {},
   "source": [
    "# Research Question"
   ]
  },
  {
   "cell_type": "markdown",
   "metadata": {},
   "source": [
    "Is there a relationship between the health inspection score of food facilities and the socialeconomic conditions of the region in which they are located?"
   ]
  },
  {
   "cell_type": "markdown",
   "metadata": {},
   "source": [
    "## Background and Prior Work"
   ]
  },
  {
   "cell_type": "markdown",
   "metadata": {},
   "source": [
    "Many studies show that there exists a correlation between food and health safety, and the socioeconomic status of a community. A study on the influence of such factors on the importance of food safety in a community finds that household meal planners who are \"female, older, more educated, non-working, [or] have at-risk household members\" hold the importance of food safety in high regard (Lin). In another study on urban pest prevalence, the authors conclude that bed bug infestations are more likely to occur in low income areas, due to higher rates of crowding and eviction, and that this disproportionate health safety burden is an issue of social justice (Sutherland). In order to inform public policy concerning health safety regulations, we conducted an analysis on the potential impact of socioeconomic conditions on health safety levels in the local community.\n",
    "\n",
    "Beyond social welfare, we also find that it is also in the interest of local food businesses for us to conduct this study. A similar food safety inspection study found that chain restaurants experienced fewer violations than nonchain restaurants, and that additional inspections for nonchain restaurants helped to reduce average violations. Through this analysis, we may be able to identify local businesses in need of food safety training or unreasonably disadvantaged by their income status.\n",
    "\n",
    "References (include links):\n",
    "- 1) Leinwand, S. E., Glanz, K., Keenan, B. T., & Branas, C. C. (2017). Inspection Frequency, Sociodemographic Factors, and Food Safety Violations in Chain and Nonchain Restaurants, Philadelphia, Pennsylvania, 2013-2014. Public health reports (Washington, D.C. : 1974), 132(2), 180–187. https://doi.org/10.1177/0033354916687741 https://www.ncbi.nlm.nih.gov/pmc/articles/PMC5349477/\n",
    "- 2) Lin, C. (1995). Demographic and Socioeconomic Influences on the Importance of Food Safety in Food Shopping. Agricultural and Resource Economics Review, 24(2), 190-198. doi:10.1017/S1068280500008832 https://www.cambridge.org/core/journals/agricultural-and-resource-economics-review/article/demographic-and-socioeconomic-influences-on-the-importance-of-food-safety-in-food-shopping/89B450E9CB59195A5591FA9EB726D9CA\n",
    "- 3) Sutherland, C, Greenlee, AJ, Schneider, D. Socioeconomic drivers of urban pest prevalence. People Nat. 2020; 00: 1– 8. https://doi.org/10.1002/pan3.10096 https://besjournals.onlinelibrary.wiley.com/doi/10.1002/pan3.10096"
   ]
  },
  {
   "cell_type": "markdown",
   "metadata": {},
   "source": [
    "# Hypothesis\n"
   ]
  },
  {
   "cell_type": "markdown",
   "metadata": {},
   "source": [
    "Restaurants and other food facilities located in lower-income neighborhoods are more likely to have lower health inspection scores than those in higher-income areas. We speculate that lower-income neighborhoods may be disadvantaged by poorer health conditions as result of factors such as lack of access to food safety education or lower budget for food safety infrastructure. There may also be an incentive for facilities to prioritize profit over food safety regulations and training in tight economic situations."
   ]
  },
  {
   "cell_type": "markdown",
   "metadata": {},
   "source": [
    "# Data"
   ]
  },
  {
   "cell_type": "markdown",
   "metadata": {},
   "source": [
    "*Explain what the ideal dataset you would want to answer this question. (This should include: What variables? How many observations? Who/what/how would these data be collected? How would these data be stored/organized?)*\n",
    "\n",
    "The ideal dataset would aggregate health inspection data from a wide variety of restaurants and food facilities including the scores they receive and counts of any reported violations. This would give me a way to empirically measure food safety quality for each individual facility. The health inspection scores would likely be collected from the relevant source (depends on the country) that systematically conducts the inspections and enforces regulations of food safety. The data would most conveniently be organized in a csv file so that it may be easily processed into a DataFrame for analysis.\n",
    "The facilities themselves would be grouped by their geographical location, and each locations' business income data would also be compiled.\n",
    "Ideally, each facility would also be identified and differentiated by enough relevant information to be able to link the entries for the same facility together across all datasets used."
   ]
  },
  {
   "cell_type": "markdown",
   "metadata": {},
   "source": [
    "# Ethics & Privacy"
   ]
  },
  {
   "cell_type": "markdown",
   "metadata": {},
   "source": [
    "We recognize that the reputation of restaurants and similar business have a significant influence on their profits and it would certainly not be ethical for a data analysis to disproportionately harm or benefit business profits. As such, any information which may be used to identify a specific facility will be cleaned and not considered in the analysis. Variables that will be removed include address, name, city, telephone number, coordinates, and any other such information. Facilities will instead be grouped by their zipcode and associated with the economic data of that region."
   ]
  }
 ],
 "metadata": {
  "kernelspec": {
   "display_name": "Python 3",
   "language": "python",
   "name": "python3"
  },
  "language_info": {
   "codemirror_mode": {
    "name": "ipython",
    "version": 3
   },
   "file_extension": ".py",
   "mimetype": "text/x-python",
   "name": "python",
   "nbconvert_exporter": "python",
   "pygments_lexer": "ipython3",
   "version": "3.8.2"
  }
 },
 "nbformat": 4,
 "nbformat_minor": 2
}
