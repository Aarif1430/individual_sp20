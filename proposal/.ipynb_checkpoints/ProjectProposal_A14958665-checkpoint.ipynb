{
 "cells": [
  {
   "cell_type": "markdown",
   "metadata": {},
   "source": [
    "# COGS 108 - Project Proposal"
   ]
  },
  {
   "cell_type": "markdown",
   "metadata": {},
   "source": [
    "# Names & PID\n",
    "\n",
    "- Name: Yuren Dong\n",
    "- PID: A14958665"
   ]
  },
  {
   "cell_type": "markdown",
   "metadata": {},
   "source": [
    "# Research Question"
   ]
  },
  {
   "cell_type": "markdown",
   "metadata": {},
   "source": [
    "Are there a specific trend in health inspection results based on the location and food type of restaurants? Would the frequency of inspection affect the result?"
   ]
  },
  {
   "cell_type": "markdown",
   "metadata": {},
   "source": [
    "## Background and Prior Work"
   ]
  },
  {
   "cell_type": "markdown",
   "metadata": {},
   "source": [
    "Researches performed in Hamilton, Ontario in 2008 showed that there was no statistical difference in outcome measures based on frequency of inspection.After 12 years of development, we could justify the rule would be able to hold for restaurants in other areas.\n",
    "\n",
    "The \"New York's Asian Restaurants...\" article stated that Asian restaurants around New York Area performed worse at health inspections compared to other restaurants in 2018. It will be interesting to see if restaurants at areas of interest would show the same trend with up-to-date data.\n",
    "\n",
    "References (include links):\n",
    "- 1) Newbold, K Bruce et al. “Restaurant inspection frequency and food safety compliance.” Journal of environmental health vol. 71,4 (2008): 56-61.\n",
    "\n",
    "https://pubmed.ncbi.nlm.nih.gov/19004396/\n",
    "\n",
    "- 2)Writer, Staff. “New York's Asian Restaurants Fare Poorly in Health Inspections.” Nikkei Asian Review, Nikkei Asian Review, 8 July 2018, asia.nikkei.com/Spotlight/Datawatch/New-York-s-Asian-restaurants-fare-poorly-in-health-inspections.\n",
    "\n",
    "https://asia.nikkei.com/Spotlight/Datawatch/New-York-s-Asian-restaurants-fare-poorly-in-health-inspections"
   ]
  },
  {
   "cell_type": "markdown",
   "metadata": {},
   "source": [
    "# Hypothesis\n"
   ]
  },
  {
   "cell_type": "markdown",
   "metadata": {},
   "source": [
    "From the first reference we can see that there's no statistical difference in outcome measures with frequency of inspection in 2008. After 12 years in 2020, it will be interesting to carry out an up-to-date study and parallel them to see if there's change in results throughout the timeline. Moreover, restaurants varies a lot at how they run their businesses, comparing different restaurant types would also help develop specific inspection strategies.\n"
   ]
  },
  {
   "cell_type": "markdown",
   "metadata": {},
   "source": [
    "# Data"
   ]
  },
  {
   "cell_type": "markdown",
   "metadata": {},
   "source": [
    "The variables should include: Inspection Date, Restaurant Name, Inspection Score, Restaurant Location, Restaurant Type (Asian, American, ......） ,Inspection frequency,and other variables health inspection would take into consideration.\n",
    "\n",
    "These data should be collected by the regular inspections conducted by government or qualified orgnization like California Retail Food Code (CalCode) and Registered Environmental Health Specialist (REHS)\n",
    "\n",
    "These data should be stored in csv files."
   ]
  },
  {
   "cell_type": "markdown",
   "metadata": {},
   "source": [
    "# Ethics & Privacy"
   ]
  },
  {
   "cell_type": "markdown",
   "metadata": {},
   "source": [
    "There might be potential bias if the health inspection results include subjective evaluations. Data might also be biased by different restaurant cultures.\n",
    "\n",
    "Health Inspection data for restaurants should not involve privacy issues of restaurants."
   ]
  },
  {
   "cell_type": "code",
   "execution_count": null,
   "metadata": {},
   "outputs": [],
   "source": []
  }
 ],
 "metadata": {
  "kernelspec": {
   "display_name": "Python 3",
   "language": "python",
   "name": "python3"
  },
  "language_info": {
   "codemirror_mode": {
    "name": "ipython",
    "version": 3
   },
   "file_extension": ".py",
   "mimetype": "text/x-python",
   "name": "python",
   "nbconvert_exporter": "python",
   "pygments_lexer": "ipython3",
   "version": "3.6.7"
  }
 },
 "nbformat": 4,
 "nbformat_minor": 2
}
