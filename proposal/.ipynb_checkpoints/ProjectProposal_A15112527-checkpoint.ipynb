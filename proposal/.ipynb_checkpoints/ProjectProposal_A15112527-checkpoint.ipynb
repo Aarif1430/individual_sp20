{
 "cells": [
  {
   "cell_type": "markdown",
   "metadata": {},
   "source": [
    "# COGS 108 - Project Proposal"
   ]
  },
  {
   "cell_type": "markdown",
   "metadata": {},
   "source": [
    "# Names & PID\n",
    "\n",
    "- Name: Xiangchen Zhao\n",
    "- PID: A15112527"
   ]
  },
  {
   "cell_type": "markdown",
   "metadata": {},
   "source": [
    "# Research Question"
   ]
  },
  {
   "cell_type": "markdown",
   "metadata": {},
   "source": [
    "In order to make the health inspection more accurate and effcient, I would like to propose the following questions and try to answer them with the dataset provided.\n",
    "\n",
    "1. Is there a correlation between the result of inspection and how often the inspection occur? If so, what is the best time period between two inspections in order to have a strong supervision as well as a high efficiency?\n",
    "2. what are the weights of each score in one inpection to make the final result the most accurate? (cleaness of kitchen, cleaness of food source, process of cooking, etc.)\n",
    "3. Is there a correlation between the type of restaurants and the average score of inspection, for example, do fast food restaurants usually have higher score? why is that the case?\n",
    "\n",
    "The final project questions may vary according to the dataset I receieve, but the main large question is to find a certain set of features (restaurant type, time period between each inspection, the size of restaurants, etc.)that together reflect the accurate health situation of restaurants(may be measured by the number of complains receieved). Furturemore, I need to decided the weight of each feature in caculating the final overall score."
   ]
  },
  {
   "cell_type": "markdown",
   "metadata": {},
   "source": [
    "## Background and Prior Work"
   ]
  },
  {
   "cell_type": "markdown",
   "metadata": {},
   "source": [
    "Why health inspection:\n",
    "the goverment wants to protect customers against contamination and food poisoning from the restaurant\n",
    "\n",
    "What does a health inspection include:\n",
    "1. the food storing situation\n",
    "2. any sign of animals\n",
    "3. lack of overall cleaness.\n",
    "\n",
    "When do restaurant health inspection occour:\n",
    "Typically they occur, at random, every 6 months, however, a food inspector is also obligated to come visit you if a customer ever complains. \n",
    "\n",
    "Futher testing:\n",
    "The inspectors are also going to be looking for knowledge from your managers and staff. Restaurant owners are required to know all of the local health codes. Management is required to have all up-to-date training on food safety and all restaurant employees must demonstrate knowledge of safe food handling and preparation. All of this is this is the knowledge that is tested as part of the Food Handler’s Permit, but the inspector will ask questions to test this knowledge.\n",
    "\n",
    "The grading system:\n",
    "1. Each violation on the Food Inspection Report is assigned a point value depending on its importance. For example, a Major Risk Factor is worth four points, a Minor Risk Factor is worth two, and a Good Retail Practice is worth one.\n",
    "\n",
    "2. Once the Specialist completes an inspection, the points are added up and subtracted from 100. The resulting number is the inspection \"score\".\n",
    "\n",
    "3. A letter grade is assigned to the facility based on the inspection score. An \"A\" grade means the facility earned a score of 90 to 100 percent and is in satisfactory compliance with state law; a \"B\" means the facility earned a score of 80 to 89 percent and needs improvement; a \"C\" means the facility earned a score of 79 percent or less and is a failing grade.\n",
    "\n",
    "References (include links):\n",
    "- 1) https://www.lightspeedhq.com/blog/restaurant-health-inspection/\n",
    "\n",
    "- 2)https://www.sandiegocounty.gov/content/sdc/deh/fhd/ffis/intro.html.html"
   ]
  },
  {
   "cell_type": "markdown",
   "metadata": {},
   "source": [
    "# Hypothesis\n"
   ]
  },
  {
   "cell_type": "markdown",
   "metadata": {},
   "source": [
    "Hypothesis 1: restaurant type is close related to general score: for example, the fancy steak houses or Japanese restaurants are normally have higher score, usually because the food they use require is gresher compared to other type of restaurants, thus they may need more strict health regulations.\n",
    "\n",
    "Hypothesis 2: the sooner between each inspection, the better the score will be in that restaurant, because of the strong and regular supervision."
   ]
  },
  {
   "cell_type": "markdown",
   "metadata": {},
   "source": [
    "# Data"
   ]
  },
  {
   "cell_type": "markdown",
   "metadata": {},
   "source": [
    "In order to test my hypotheis or answer my set of questions, the dataset needs to contains the following attributes:\n",
    "\n",
    "1. Date time of each inpection records (type: datetime object or string), with each restaurant may have multiple inspection records.\n",
    "2. The name or id of that restaurant as well as the restaurant type (type: string).\n",
    "3. Score for each element in the inspection and the final score,the score should be in the same measurement (type: int or string if they are letter grade).\n",
    "4. The number of customer complanins (type: int).\n",
    "5. Location of restaurants: zipcode or area name (type:int or string).\n",
    "\n",
    "The dataset will contains up to 2000 historical records, each restaurant may have multiple inspection records. The value from each attribute may not be in the same measurement system as long as the metadata provides the explaination alone with the dataset."
   ]
  },
  {
   "cell_type": "markdown",
   "metadata": {},
   "source": [
    "# Ethics & Privacy"
   ]
  },
  {
   "cell_type": "markdown",
   "metadata": {},
   "source": [
    "1. The detail personal information of the restaurant owener should be hidden from the dataset\n",
    "2. A consent from the owner should be given in order to acquire the attribute: \"number of complains\" , and the personal information of complainer should also be hidden\n",
    "3. The information of each inspectors should be hidden and excluded from dataset.\n",
    "4. Treat each restaurant equally, and each restaurant contribute equally to my analysis."
   ]
  },
  {
   "cell_type": "code",
   "execution_count": null,
   "metadata": {},
   "outputs": [],
   "source": []
  }
 ],
 "metadata": {
  "kernelspec": {
   "display_name": "Python 3",
   "language": "python",
   "name": "python3"
  },
  "language_info": {
   "codemirror_mode": {
    "name": "ipython",
    "version": 3
   },
   "file_extension": ".py",
   "mimetype": "text/x-python",
   "name": "python",
   "nbconvert_exporter": "python",
   "pygments_lexer": "ipython3",
   "version": "3.7.6"
  }
 },
 "nbformat": 4,
 "nbformat_minor": 2
}
