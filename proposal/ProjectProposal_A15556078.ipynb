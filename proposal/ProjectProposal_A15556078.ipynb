{
 "cells": [
  {
   "cell_type": "markdown",
   "metadata": {},
   "source": [
    "# COGS 108 - Project Proposal"
   ]
  },
  {
   "cell_type": "markdown",
   "metadata": {},
   "source": [
    "# Names & PID\n",
    "\n",
    "- Name: Tianze Guan\n",
    "- PID: A15556078"
   ]
  },
  {
   "cell_type": "markdown",
   "metadata": {},
   "source": [
    "# Research Question"
   ]
  },
  {
   "cell_type": "markdown",
   "metadata": {},
   "source": [
    "What is the relationship of manager's income and restaurant health inspection?"
   ]
  },
  {
   "cell_type": "markdown",
   "metadata": {},
   "source": [
    "## Background and Prior Work"
   ]
  },
  {
   "attachments": {},
   "cell_type": "markdown",
   "metadata": {},
   "source": [
    "There is a complete system about grading food health inspection in San Diego. There is a citation from it: \n",
    "\n",
    "\"Here's how it works: \n",
    "1. Each violation on the Food Inspection Report is assigned a point value depending on its importance. For example, a Major Risk Factor is worth four points, a Minor Risk Factor is worth two, and a Good Retail Practice is worth one.\n",
    "\n",
    "2. Once the Specialist completes an inspection, the points are added up and subtracted from 100. The resulting number is the inspection \"score\".\n",
    "\n",
    "3. A letter grade is assigned to the facility based on the inspection score. An \"A\" grade means the facility earned a score of 90 to 100 percent and is in satisfactory compliance with state law; a \"B\" means the facility earned a score of 80 to 89 percent and needs improvement; a \"C\" means the facility earned a score of 79 percent or less and is a failing grade.\n",
    "\n",
    "4. The grade card must be displayed near the public entrance during hours of operation.\"\n",
    "\n",
    "Based on that information, we need to do research on local restaurants' food source. Once we know where those restaurant get their food souce, we can go to the website and look for the security level of the food.\n",
    "\n",
    "After that, we need some information about manager's income. I find some data on a employer's wensite, the average Restaurant Manager Salaries in San Diego, CA Area, is 47k/yr with a normal destribution centered on around $51k/yr. If we need certain company/restaurant's manager salary, we can go to the website and search a specific company.\n",
    "\n",
    "References (include links):\n",
    "- 1) San Diego environmental health https://www.sandiegocounty.gov/content/sdc/deh/fhd/ffis/intro.html.html\n",
    "- 2) Glassdoor https://www.glassdoor.com/Salaries/san-diego-restaurant-manager-salary-SRCH_IL.0,9_IM758_KO10,28.htm"
   ]
  },
  {
   "cell_type": "code",
   "execution_count": null,
   "metadata": {},
   "outputs": [],
   "source": []
  },
  {
   "cell_type": "markdown",
   "metadata": {},
   "source": [
    "# Hypothesis\n"
   ]
  },
  {
   "cell_type": "markdown",
   "metadata": {},
   "source": [
    "Higher the income of restaurant, food source will have higher security level."
   ]
  },
  {
   "cell_type": "markdown",
   "metadata": {},
   "source": [
    "# Data"
   ]
  },
  {
   "cell_type": "markdown",
   "metadata": {},
   "source": [
    "Variable: manager income(numeric), health inspection of food(catagorical, good/medium/bad), food source of restaurant(from which company).\n",
    "\n",
    "How to store the variable: manager income can be store with just numeric value with one column. Food health level should be stored by catagorical value in another column, food source should be stored in the third column. Each row represent a restaurant.\n",
    "\n",
    "Number of observations: for San Diego county, we need at least 1,000 restaurant's data to make a fair analysis."
   ]
  },
  {
   "cell_type": "markdown",
   "metadata": {},
   "source": [
    "# Ethics & Privacy"
   ]
  },
  {
   "cell_type": "markdown",
   "metadata": {},
   "source": [
    "For the food inspection data, everyone have access to it but it not state that we can use it to do data analysis, so we need to ask for permission before doing the analysis.\n",
    "\n",
    "For the manager income, data on job searching website should be helpful, but if need precise data, we need to do research on exact restaurant, but doing this will cost much time and may not get the accurate data. Also, another problem of this section might be when we release the result, we cannot give specific data to the public about manager's income. So we cannot include the specific income in the final report."
   ]
  },
  {
   "cell_type": "code",
   "execution_count": null,
   "metadata": {},
   "outputs": [],
   "source": []
  },
  {
   "cell_type": "code",
   "execution_count": null,
   "metadata": {},
   "outputs": [],
   "source": []
  }
 ],
 "metadata": {
  "kernelspec": {
   "display_name": "Python 3",
   "language": "python",
   "name": "python3"
  },
  "language_info": {
   "codemirror_mode": {
    "name": "ipython",
    "version": 3
   },
   "file_extension": ".py",
   "mimetype": "text/x-python",
   "name": "python",
   "nbconvert_exporter": "python",
   "pygments_lexer": "ipython3",
   "version": "3.6.7"
  }
 },
 "nbformat": 4,
 "nbformat_minor": 2
}
