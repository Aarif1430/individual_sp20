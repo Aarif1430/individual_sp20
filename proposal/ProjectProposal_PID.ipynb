{
 "cells": [
  {
   "cell_type": "markdown",
   "metadata": {},
   "source": [
    "# COGS 108 - Project Proposal"
   ]
  },
  {
   "cell_type": "markdown",
   "metadata": {},
   "source": [
    "# Names & PID\n",
    "\n",
    "- Name: Mariela Perez\n",
    "- PID: A14513530"
   ]
  },
  {
   "cell_type": "markdown",
   "metadata": {},
   "source": [
    "# Research Question"
   ]
  },
  {
   "cell_type": "markdown",
   "metadata": {},
   "source": [
    "\n",
    "Fill in your research question here.\n",
    "\n",
    "Does the location of food establishments affect health inspection scores in San Diego county? Are restaurants located in lower class neighborhoods or overpopulated regions more prone to violations?"
   ]
  },
  {
   "cell_type": "markdown",
   "metadata": {},
   "source": [
    "## Background and Prior Work"
   ]
  },
  {
   "cell_type": "markdown",
   "metadata": {},
   "source": [
    "\n",
    "Fill in your background and prior work here. Be sure to specify which statements are from which references.\n",
    "\n",
    "San Diego County health department monitors compliance for 14,000 restaurants in accordance of state and local laws(Source 1). The inspection report is provided to the facility afterward and posted for the public to see onsite and online. The health department inspects food preparation surfaces, food handling, and public health precautions. The grade of the facility is reported by a point value system out of 100. Major risks lose 4 points, minor risks lose 2, and failure to follow good retail practices lose 1. In preparation for this quarterly exam, food establishments receive food safety training and follow required protocols. Health inspections help reduce food borne illness, transmission of viruses, lower pest infestations, and prevent other health hazards.\n",
    "\n",
    "Public health departments report health inspection scores online. For large counties such as Los Angeles and San Diego this allows one to visualize what areas receive critical violations and low scores. Upon looking at the chart(Source 2) by score, I noticed that underserved areas like Compton and El Monte reserved the lower scores and a few were even closed. Cities like Torrance and Studio City that are ideal locations to live in were at the other end of the spectrum. The main reason for closures were plumbing issues and vermin infestations.\n",
    "\n",
    "A previous data scientist project related to mine was performed for San Francisco in 2014. They recorded the health inspection scores for restaurants across San Francisco and used heat maps and bar plots to anaylze trends. They discovered that the highest numbers for high risk violations were in the busiest areas such as Chinatown, the pier, and downtown. This may be a result to having more restaurants in the area and serving more people every day. They also noticed that restaurants with more high risk violations also had the most low and medium risk violations. This may be from overlapping infractions causing their scores to drastically decline. This relates to my project, because I too will anaylze data collected from a county and observe the areas with the most violations. In addition to that, I will also analyze what are the critical violations causing the low inspection scores.\n",
    "\n",
    "\n",
    "\n",
    "References (include links):\n",
    "- 1) https://www.sandiegocounty.gov/content/sdc/deh/fhd/ffis/intro.html.html\n",
    "- 2) https://ehservices.publichealth.lacounty.gov/ezsearch\n",
    "- 3) https://nycdatascience.com/blog/student-works/san-francisco-restaurant-inspection-analysis-visualization/"
   ]
  },
  {
   "cell_type": "markdown",
   "metadata": {},
   "source": [
    "# Hypothesis\n"
   ]
  },
  {
   "cell_type": "markdown",
   "metadata": {},
   "source": [
    "\n",
    "State and defend your hypotheses here.\n",
    "\n",
    "I predict that areas that are overpopulated and lower-class will having lower and more failing health inspection scores than more well-maintained areas in San Diego county. A higher traffic of people working and eating at this establishments increases the risk of infections and likelihood of mistakes. With more employees there is less focus on the quality of each individual's training and with more customers there is more food and santiation standards to uphold. "
   ]
  },
  {
   "cell_type": "markdown",
   "metadata": {},
   "source": [
    "# Data"
   ]
  },
  {
   "cell_type": "markdown",
   "metadata": {},
   "source": [
    "*Explain what the ideal dataset you would want to answer this question. (This should include: What variables? How many observations? Who/what/how would these data be collected? How would these data be stored/organized?)*\n",
    "\n",
    "The ideal data set for this project would include the following variables: business name, business ID, business type(food truck, restaurant) business location (address, city), inspection date(yyyy,mm,dd),inspection score(0-100), number of violations, violation types(high-low), violation description,  and status of operation(open/closed). The data would be stored in a CSV file with each column separated with a comma and each row separated by a new line. This would allow me to read the data in a table of rows and columns. I would ideally have observations for 5% of the county's food establishments, so about 700 restaurants. This data would be collected through online services such as APIs and web scraping the health department website that lists the inspection scores. For my anaylsis, I would use histograms and densityplots to identify trends for my single quantitative variable like number of violations. Then,I would use barplots to analyze qualitative data such as business type, status of operation, violation types, and violation description. "
   ]
  },
  {
   "cell_type": "markdown",
   "metadata": {},
   "source": [
    "# Ethics & Privacy"
   ]
  },
  {
   "cell_type": "markdown",
   "metadata": {},
   "source": [
    "*Fill in your ethics & privacy discussion here*\n",
    "\n",
    "Data science and analysis is not objective so upon doing the project some bias and discrimination may appear to raise ethical and privacy issues. The data I am using I have permission to use for the analysis of health inspections and my research topic. This data is in the public domain and will be provided by my professor. The results of the project are for the public interest since it will help improve health inspection processes throughout the county. Again there are no privacy concerns for using the data since it is public and posted on the facilities in question. There is a potential bias in collecting the dataset. Since you cannot collect all the restaurants information, some areas in the county will be more represented than others. Another issue that may arise is limited information to what the health department has released which can exclude some relevant data as well. When scraping the data, there may be a bias to only list restuarants that support the hypothesis of having high risk violations which would be unethical. There may also be a bias by the inspector giving the scores depending on what areas they prefer or people they encounter in the inspection day. To handle these issues, I will collect equivalent data from all San Diego areas, so they all have the same representation. I will collect data from reliable sources and not exclude data that doesn't support my hypothesis and be truthful with all the procedures I take when doing this project. Lastly, if I do not have enough data to answer my question I will refine my research question or collect more data. "
   ]
  }
 ],
 "metadata": {
  "kernelspec": {
   "display_name": "Python 3",
   "language": "python",
   "name": "python3"
  },
  "language_info": {
   "codemirror_mode": {
    "name": "ipython",
    "version": 3
   },
   "file_extension": ".py",
   "mimetype": "text/x-python",
   "name": "python",
   "nbconvert_exporter": "python",
   "pygments_lexer": "ipython3",
   "version": "3.7.0"
  }
 },
 "nbformat": 4,
 "nbformat_minor": 2
}