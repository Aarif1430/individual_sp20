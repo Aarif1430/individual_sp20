{
 "cells": [
  {
   "cell_type": "markdown",
   "metadata": {},
   "source": [
    "# COGS 108 - Project Proposal"
   ]
  },
  {
   "cell_type": "markdown",
   "metadata": {},
   "source": [
    "# Names & PID\n",
    "\n",
    "- Name: Bohong He\n",
    "- PID: A14559523"
   ]
  },
  {
   "cell_type": "markdown",
   "metadata": {},
   "source": [
    "# Research Question"
   ]
  },
  {
   "cell_type": "markdown",
   "metadata": {},
   "source": [
    "*What is the ideal dilution percentage for chemical sanitizers that the restuarants use to sanitize their utensils*"
   ]
  },
  {
   "cell_type": "markdown",
   "metadata": {},
   "source": [
    "## Background and Prior Work"
   ]
  },
  {
   "cell_type": "markdown",
   "metadata": {},
   "source": [
    "*In the food service manager self inspection checklist, one statement under the cleaning and sanitizing category states that If using chemical sanitizer, it is the proper dilution.(1) But what is the proper dilution for chemical sanitizers?*",
    "Dilute mixtures of chlorine bleach and water are a common and cost-effective method for sanitizing equipment in food processing operations.  When used properly, chlorine bleach can be a very effective method of killing undesirable microorganisms. Processors should be aware, however, that there are regulations concerning the use of this sanitizer. The germ-killing effect in a solution of chlorine bleach and water is due to available chlorine, present as hypochlorite and hypochlorous acid. Federal regulations (21 CFR Part 178) permit the use of sanitizing solutions containing sodium hypochlorite on food processing equipment and food contact articles with the following provisions: •  Equipment or articles sanitized with the solution must be allowed to drain adequately before contact with food. •  Solutions used for sanitizing equipment shall not exceed 200 parts per million (ppm) available chlorine. As shown in Table 1, about one tablespoon (1/2 fluid ounce, 15 ml) of typical chlorine bleach per gallon of water is the maximum that should be used for sanitizing food contact surfaces, according to federal regulation. If higher concentrations are used, the surface must be rinsed with potable water after sanitizing. Contact times of one to five minutes are usually sufficient to achieve a thorough kill, depending on chlorine concentration and organic load.\n",
    "\n",
    "References (include links):\n",
    "- 1)https://doh.sd.gov/documents/Food/Checklist.pdf \n",
    "- 2)"
   ]
  },
  {
   "cell_type": "markdown",
   "metadata": {},
   "source": [
    "# Hypothesis\n"
   ]
  },
  {
   "cell_type": "markdown",
   "metadata": {},
   "source": [
    "*State and defend your hypotheses here.*"
   ]
  },
  {
   "cell_type": "markdown",
   "metadata": {},
   "source": [
    "# Data"
   ]
  },
  {
   "cell_type": "markdown",
   "metadata": {},
   "source": [
    "*Explain what the ideal dataset you would want to answer this question. (This should include: What variables? How many observations? Who/what/how would these data be collected? How would these data be stored/organized?)*"
   ]
  },
  {
   "cell_type": "markdown",
   "metadata": {},
   "source": [
    "# Ethics & Privacy"
   ]
  },
  {
   "cell_type": "markdown",
   "metadata": {},
   "source": [
    "*Fill in your ethics & privacy discussion here*"
   ]
  }
 ],
 "metadata": {
  "kernelspec": {
   "display_name": "Python 3",
   "language": "python",
   "name": "python3"
  },
  "language_info": {
   "codemirror_mode": {
    "name": "ipython",
    "version": 3
   },
   "file_extension": ".py",
   "mimetype": "text/x-python",
   "name": "python",
   "nbconvert_exporter": "python",
   "pygments_lexer": "ipython3",
   "version": "3.7.0"
  }
 },
 "nbformat": 4,
 "nbformat_minor": 2
}
