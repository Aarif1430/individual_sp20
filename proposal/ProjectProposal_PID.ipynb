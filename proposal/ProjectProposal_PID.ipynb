{
 "cells": [
  {
   "cell_type": "markdown",
   "metadata": {},
   "source": [
    "# COGS 108 - Project Proposal"
   ]
  },
  {
   "cell_type": "markdown",
   "metadata": {},
   "source": [
    "# Names & PID\n",
    "\n",
    "- Name: Bohong He\n",
    "- PID: A14559523"
   ]
  },
  {
   "cell_type": "markdown",
   "metadata": {},
   "source": [
    "# Research Question"
   ]
  },
  {
   "cell_type": "markdown",
   "metadata": {},
   "source": [
    "*What is the ideal dilution for chemical sanitizers that the restuarants use to sanitize their utensils*"
   ]
  },
  {
   "cell_type": "markdown",
   "metadata": {},
   "source": [
    "## Background and Prior Work"
   ]
  },
  {
   "cell_type": "markdown",
   "metadata": {},
   "source": [
    "*In the food service manager self inspection checklist, one statement under the cleaning and sanitizing category states that If using chemical sanitizer, it is the proper dilution.(1) But what is the proper dilution for chemical sanitizers?*",
    " Dilute mixtures of chlorine bleach and water are a common and cost-effective method for sanitizing equipment in food processing operations.  When used properly, chlorine bleach can be a very effective method of killing undesirable microorganisms. Processors should be aware, however, that there are regulations concerning the use of this sanitizer. The germ-killing effect in a solution of chlorine bleach and water is due to available chlorine, present as hypochlorite and hypochlorous acid. Federal regulations (21 CFR Part 178) permit the use of sanitizing solutions containing sodium hypochlorite on food processing equipment and food contact articles with the following provisions: •  Equipment or articles sanitized with the solution must be allowed to drain adequately before contact with food. •  Solutions used for sanitizing equipment shall not exceed 200 parts per million (ppm) available chlorine. As shown in Table 1, about one tablespoon (1/2 fluid ounce, 15 ml) of typical chlorine bleach per gallon of water is the maximum that should be used for sanitizing food contact surfaces, according to federal regulation. If higher concentrations are used, the surface must be rinsed with potable water after sanitizing. Contact times of one to five minutes are usually sufficient to achieve a thorough kill, depending on chlorine concentration and organic load.(2) \n",
    "The effectiveness of chlorine as a sanitizer is determined in large part by pH. This is because when sodium hypochlorite (NaOCl) is mixed with water an equilibrium reaction between hypochlorite and hypochlorous acid (HOCl, the active sanitizing agent) occurs. chlorine sanitizing rinses are most effective in an acid pH range. The recommended pH range for an effective and safe saniizing solution is 6.5 to 7.5. Solutions with pH values lower than 6.0 are more corrosive; this will shorten the life of treated equipment.  Solutions with pH values lower than 5.0 will begin to generate potentially harmful levels of chlorine gas, and solutions with pH values greater than 8.0 quickly lose their effectiveness as sanitizers. \n",
    "\n",
    "References (include links):\n",
    "- 1) https://doh.sd.gov/documents/Food/Checklist.pdf \n",
    "- 2) https://ucfoodsafety.ucdavis.edu/sites/g/files/dgvnsk7366/files/inline-files/26437.pdf"
   ]
  },
  {
   "cell_type": "markdown",
   "metadata": {},
   "source": [
    "# Hypothesis\n"
   ]
  },
  {
   "cell_type": "markdown",
   "metadata": {},
   "source": [
    "*The ideal dilution for chemical chlorine sanitizers (percentage) should be within the range of pH 6.5-7.5*"
   ]
  },
  {
   "cell_type": "markdown",
   "metadata": {},
   "source": [
    "# Data"
   ]
  },
  {
   "cell_type": "markdown",
   "metadata": {},
   "source": [
    "*The ideal data set should include two variables % of undesired microorganisms remaining, and pH of sanitizer solution. pH of solution should vary from 6.5 to 7.5 and increment by 0.1. These data should be collected by conducting an experiment in a lab.*"
   ]
  },
  {
   "cell_type": "markdown",
   "metadata": {},
   "source": [
    "# Ethics & Privacy"
   ]
  },
  {
   "cell_type": "markdown",
   "metadata": {},
   "source": [
    "*Auditability: Is the process of generating the analysis well documented and reproducible if we discover issues in the future? \n*",
    " Honest representation: Are our visualizations, summary statistics, and reports designed to honestly represent the underlying data? \n",
    " fairness across groups: Have we tested model results for fairness with respect to different affected groups (e.g., tested for disparate error rates)? \n" ,
 " Metric selection: Have we considered the effects of optimizing for our defined metrics and considered additional metrics? \n" ,
" Explainability: Can we explain in understandable terms a decision the model made in cases where a justification is needed? \n" ,
" Communicate bias: Have we communicated the shortcomings, limitations, and biases of the model to relevant stakeholders in ways that can be generally understood?"
   ]
  }
 ],
 "metadata": {
  "kernelspec": {
   "display_name": "Python 3",
   "language": "python",
   "name": "python3"
  },
  "language_info": {
   "codemirror_mode": {
    "name": "ipython",
    "version": 3
   },
   "file_extension": ".py",
   "mimetype": "text/x-python",
   "name": "python",
   "nbconvert_exporter": "python",
   "pygments_lexer": "ipython3",
   "version": "3.7.0"
  }
 },
 "nbformat": 4,
 "nbformat_minor": 2
}
