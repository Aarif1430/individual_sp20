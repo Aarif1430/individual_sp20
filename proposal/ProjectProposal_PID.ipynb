{
 "cells": [
  {
   "cell_type": "markdown",
   "metadata": {},
   "source": [
    "# COGS 108 - Project Proposal"
   ]
  },
  {
   "cell_type": "markdown",
   "metadata": {},
   "source": [
    "# Names & PID\n",
    "\n",
    "- Name: Alex Nguyen\n",
    "- PID: A11285013"
   ]
  },
  {
   "cell_type": "markdown",
   "metadata": {},
   "source": [
    "# Research Question"
   ]
  },
  {
   "cell_type": "markdown",
   "metadata": {},
   "source": [
    "Does cleanliness affect resturaunt popularity in the United States?"
   ]
  },
  {
   "cell_type": "markdown",
   "metadata": {},
   "source": [
    "## Background and Prior Work"
   ]
  },
  {
   "cell_type": "markdown",
   "metadata": {},
   "source": [
    "References (include links):\n",
    "- 1) \"Restaurant cleanliness is considered one of\n",
    "    the most significant conditions when customers evaluate overall restaurant quality or decide their levels of\n",
    "    satisfaction. However, there have been few studies of perceptions of restaurant cleanliness in customers’\n",
    "    eyes.\" (https://vtechworks.lib.vt.edu/bitstream/handle/10919/34127/Yoo_SA_T_2012.pdf?sequence=1)\n",
    "- 2) \"The important factors for the entire sample were quality of food, taste of the food,\n",
    "    and hygiene and cleanliness, in descending order of importance, while availability of\n",
    "    vegetarian choices, availability of new items, and cultural familiarity were the least\n",
    "    important factors for the whole sample.\" (http://www2.uwstout.edu/content/lib/thesis/2000/2000monteirop.pdf)"
   ]
  },
  {
   "cell_type": "markdown",
   "metadata": {},
   "source": [
    "# Hypothesis\n"
   ]
  },
  {
   "cell_type": "markdown",
   "metadata": {},
   "source": [
    "Cleaner resturaunts will be more popular compared to those that are not as clean in the United States. This is based upon personal experience, perference, and intuition, as well as other research referenced above."
   ]
  },
  {
   "cell_type": "markdown",
   "metadata": {},
   "source": [
    "# Data"
   ]
  },
  {
   "cell_type": "markdown",
   "metadata": {},
   "source": [
    "The ideal data set would contain a list of Liert scale responses of overall customer satisfiaction of the resturaunt, Likert scale responses of opinion of resturant cleanliness, demographic data, and type of resturuant (ie. fast food, steakhouse, family diner, noodlehouse, sushi) obtained from different online customer reviews made by the customer soon after they leave the resturuant through a digital questionaire. Having an even spread of about 200 subjects with several different ethnicities/resturaunt types equally divided amongst the sample from different states across the United States stored in a JSON format."
   ]
  },
  {
   "cell_type": "markdown",
   "metadata": {},
   "source": [
    "# Ethics & Privacy"
   ]
  },
  {
   "cell_type": "markdown",
   "metadata": {},
   "source": [
    "The customer should be made aware before they begin answering the questionaire that their responses may be used for statistical analysis and consent by submitting their response. There shouldn't be any significant privaty concerns, but steps should still be taken, such as ensuring that all data and responses are anonymized with no information that be traced back to the participants. Ensure that data collected in secured properly and let the participant know how that is the case. All subjects should the the information and awareness that that allow them to contact the researcher to ask questions, concerns, or to be removed from the study.\n",
    "\n",
    "There may be a problem with bias due to the nature of reviewing, as most of the time the people who leave reviews in the first place are by those who had a poor experience with the location rather than those who had good or average experiences. If this turns out to be the case, with collected data resulting in few positive responses, a larger sample may be required."
   ]
  }
 ],
 "metadata": {
  "kernelspec": {
   "display_name": "Python 3",
   "language": "python",
   "name": "python3"
  },
  "language_info": {
   "codemirror_mode": {
    "name": "ipython",
    "version": 3
   },
   "file_extension": ".py",
   "mimetype": "text/x-python",
   "name": "python",
   "nbconvert_exporter": "python",
   "pygments_lexer": "ipython3",
   "version": "3.6.7"
  }
 },
 "nbformat": 4,
 "nbformat_minor": 2
}
