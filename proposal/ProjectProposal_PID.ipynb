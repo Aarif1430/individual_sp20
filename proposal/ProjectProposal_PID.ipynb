{
 "cells": [
  {
   "cell_type": "markdown",
   "metadata": {},
   "source": [
    "# COGS 108 - Project Proposal"
   ]
  },
  {
   "cell_type": "markdown",
   "metadata": {},
   "source": [
    "# Names & PID\n",
    "\n",
    "- Name: Kaihang Guo\n",
    "- PID: A15567387"
   ]
  },
  {
   "cell_type": "markdown",
   "metadata": {},
   "source": [
    "# Research Question"
   ]
  },
  {
   "cell_type": "markdown",
   "metadata": {},
   "source": [
    "How can consumer input improve the priority of health evaluations for restaurants within more densely popoulated areas?"
   ]
  },
  {
   "cell_type": "markdown",
   "metadata": {},
   "source": [
    "## Background and Prior Work"
   ]
  },
  {
   "cell_type": "markdown",
   "metadata": {},
   "source": [
    "Due to the uneven ratio of health inspectors to restaurants, there has been many prior studies that look into how the process can be made more efficient so that health inspectors are not assigned to restaurants randomly. There was a study that looked into the relationship between density of health violations and zipcodes. Zipcodes that were more densely populated with restaurants contained a majority of the health violations within the city. The conclusion was that health inspectors should prioritize zipcodes that are more densely populated. (1) \n", 
    "When it comes to the health standards of a restaurant, the group that it affects the most are the consumers. There have been studies that gathered data from consumers to gauge their thoughts on health inspections and the level of influence the results should have. The study concluded that consumers' expectations of health scores were much higher than what they were on average in reality and that there should be more inspections throughout the year. (2) \n",
    "\n",
    "References (include links):\n",
    "- 1) https://nycdatascience.com/blog/student-works/san-francisco-restaurant-inspection-analysis-visualization/ \n",
    "- 2) https://www.elsevier.com/about/press-releases/research-and-journals/restaurant-inspections-public-perceptions-vs.-reality"
   ]
  },
  {
   "cell_type": "markdown",
   "metadata": {},
   "source": [
    "# Hypothesis\n"
   ]
  },
  {
   "cell_type": "markdown",
   "metadata": {},
   "source": [
    "Areas that are more densely populated are more likely to have more restaurants, due to a larger demand which implies that there is a larger consumer base. With more consumers, they will be able to provide more data about which restaurants may be violating health standards so that health inspectors can be more efficient."
   ]
  },
  {
   "cell_type": "markdown",
   "metadata": {},
   "source": [
    "# Data"
   ]
  },
  {
   "cell_type": "markdown",
   "metadata": {},
   "source": [
    "The ideal dataset would keep track of the number of times key words such as ("clean", "dirty") showed up in reviews for each restaurant within a densely populated neighborhood. It will also record the actual health score that was given to the restaurant. The data can be gather from popular food review applications like Yelp. In order to organize the data, an algorithm can be created to gather information from the site and to parse the information. From there, it can calculate a restaurant's priority in being inspected by a health inspector. In order to measure the efficiency of this approach, the final efficiency can be compared to the efficiency of a past approach that the Department of Health is using."
   ]
  },
  {
   "cell_type": "markdown",
   "metadata": {},
   "source": [
    "# Ethics & Privacy"
   ]
  },
  {
   "cell_type": "markdown",
   "metadata": {},
   "source": [
    "There may be a bias in the dataset that can approach. Since the data comes from consumers, theoretically, they are able to affect the results of a restaurant if they had the motivation to. Restaurant reviews also discuss other aspects of the consumer experience such as parking and wait times. These may also be describe with the same negative or postive adjectives for a restaurant's cleanliness. These issues can generally be avoided by tweaking the process of data collection so by using machine learning, the algorithm can be improved and trained through old datasets."
   ]
  }
 ],
 "metadata": {
  "kernelspec": {
   "display_name": "Python 3",
   "language": "python",
   "name": "python3"
  },
  "language_info": {
   "codemirror_mode": {
    "name": "ipython",
    "version": 3
   },
   "file_extension": ".py",
   "mimetype": "text/x-python",
   "name": "python",
   "nbconvert_exporter": "python",
   "pygments_lexer": "ipython3",
   "version": "3.7.0"
  }
 },
 "nbformat": 4,
 "nbformat_minor": 2
}
