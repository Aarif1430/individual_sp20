{
 "cells": [
  {
   "cell_type": "markdown",
   "metadata": {},
   "source": [
    "# COGS 108 - Project Proposal"
   ]
  },
  {
   "cell_type": "markdown",
   "metadata": {},
   "source": [
    "# Names & PID\n",
    "\n",
    "- Name: Neil Tengbumroong \n",
    "- PID: A14395411"
   ]
  },
  {
   "cell_type": "markdown",
   "metadata": {},
   "source": [
    "# Research Question"
   ]
  },
  {
   "cell_type": "markdown",
   "metadata": {},
   "source": [
    "Fast food restaurants are notorious for their uncleanliness and poor sanitation in comparison to other restaurants. In wealthy neighborhoods, do fast food restaurants tend to score higher on health inspections compared to those in poorer neighborhoods?"
   ]
  },
  {
   "cell_type": "markdown",
   "metadata": {},
   "source": [
    "## Background and Prior Work"
   ]
  },
  {
   "cell_type": "markdown",
   "metadata": {},
   "source": [
    "Restaurant health inspections are scored on a 100 point scale, with a letter grade being assigned at the conclusion of the inspection (1). Starting from 100, restaurants can be deducted anywhere between one point for a minor infraction, such as proper produce cleaning, to 4 points for a lack of hot water (1). A potential drawback for this project is that many restaurants often have inaccurate scores due to a flawed rating system because not enough points are assigned to serious and health-threatening infractions (1). On the same note, a near perfect restaurant with one major health violation can be shut down, while another restaurant receiving a lower score with more violations can still be allowed to operate (2).\n",
    "\n",
    "In Oklahoma County, six McDonald's restaurants (of the 17 overall restaurants closed in Oklahoma) close to or south of the dividing I-40 line were shut down (3). This is useful for the research because a specific area showed a poor health trend. \n",
    "\n",
    "From the same article as above, several different franchises were inspected and their scores were averaged (3). Standalone KFC and Taco Bell scored well, at below an average of one infraction per franchise, while interestingly enough KFC/Taco Bell combinations had an average of 3.75 combinations (3). This is important, as possible skews from restaurants that in general tend to perform lower may impact the city's overall rating. For example, a city with multiple \"bad\" restaurants may score lower than a city of similar income with none of those \"bad\" restaurants.\n",
    "\n",
    "A very similar research idea was carried out, examining the restaurant's service scores with respect to the income of the area, rather than health inspection scores. Ultimately, however, there was no correlation found between income and restaurant ratings (4).\n",
    "\n",
    "\n",
    "References (include links):\n",
    "- 1) https://www.sgvtribune.com/2015/06/25/what-that-restaurant-letter-grade-isnt-telling-you-about-health-and-cleanliness/\n",
    "- 2) http://publichealth.lacounty.gov/eh/misc/ehpost.htm\n",
    "- 3) https://oklahoman.com/article/1423275/fast-food-chains-vary-in-health-department-scores\n",
    "- 4) https://medium.com/swlh/is-there-a-correlation-between-a-restaurants-ratings-and-the-income-levels-of-a-neighborhood-5fe41165e4f1"
   ]
  },
  {
   "cell_type": "markdown",
   "metadata": {},
   "source": [
    "# Hypothesis\n"
   ]
  },
  {
   "cell_type": "markdown",
   "metadata": {},
   "source": [
    "My hypothesis is that because wealthier neighborhoods tend to attract wealthier customers who expect a higher level of cleanliness and have higher standards to maintain, fast food restaurants in wealthier neighborhoods should score higher in health inspections compared to their counterparts in lower income areas. "
   ]
  },
  {
   "cell_type": "markdown",
   "metadata": {},
   "source": [
    "# Data"
   ]
  },
  {
   "cell_type": "markdown",
   "metadata": {},
   "source": [
    "*Explain what the ideal dataset you would want to answer this question. (This should include: What variables? How many observations? Who/what/how would these data be collected? How would these data be stored/organized?)*\n",
    "My ideal dataset would have variables containing the fast food restaurants' name, health inspection score, city/state, and a income level rating based on its location broken down into five categories. This income rating would be ordered as follows: high (avg > 100k), mid-high (avg > 80k), mid (avg > 60k), low-mid (avg > 40k), and low (avg > 20k). That way, each restaurant can be grouped with other restaurants in a similar income zone. \n",
    "\n",
    "To obtain the rating, I would need a dataset with the city/county and a corresponding average income, so that I can modify the original dataset to reflect that average income and the rating it receives.\n",
    "\n",
    "A sample size of about ~10000 distributed randomly across the US, with at the very least 100 in each category would be sufficient to create a general score for each income category. I think that this data is all publicly available online, I would just need to search for specific ones that match the cities and income areas I am looking for.\n"
   ]
  },
  {
   "cell_type": "markdown",
   "metadata": {},
   "source": [
    "# Ethics & Privacy"
   ]
  },
  {
   "cell_type": "markdown",
   "metadata": {},
   "source": [
    "For my research, I would need to collect information on health inspections of restaurants and average income levels of cities. Both of these sources are public information and I would not be using any specific name, but rather a general view of the data I collect. Therefore, I would not be violating anyone's privacy. \n",
    "\n",
    "A possible negative impact of this research is that it may give inaccurate impressions and generalizations (ie. \"city x has bad ratings, therefore it is not clean\") which may not always be the case. There can be skews in data. To mitigate this, I will include a disclaimer that the research can potentially be skewed and is for general learning purposes, not to be used practically to decide where to go and what city to eat in."
   ]
  }
 ],
 "metadata": {
  "kernelspec": {
   "display_name": "Python 3",
   "language": "python",
   "name": "python3"
  },
  "language_info": {
   "codemirror_mode": {
    "name": "ipython",
    "version": 3
   },
   "file_extension": ".py",
   "mimetype": "text/x-python",
   "name": "python",
   "nbconvert_exporter": "python",
   "pygments_lexer": "ipython3",
   "version": "3.6.7"
  }
 },
 "nbformat": 4,
 "nbformat_minor": 2
}
