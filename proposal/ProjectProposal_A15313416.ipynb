{
 "cells": [
  {
   "cell_type": "markdown",
   "metadata": {},
   "source": [
    "# COGS 108 - Project Proposal"
   ]
  },
  {
   "cell_type": "markdown",
   "metadata": {},
   "source": [
    "# Names & PID\n",
    "\n",
    "- Name: Xingyu Jiang\n",
    "- PID: A15313416"
   ]
  },
  {
   "cell_type": "markdown",
   "metadata": {},
   "source": [
    "# Research Question"
   ]
  },
  {
   "cell_type": "markdown",
   "metadata": {},
   "source": [
    "how the food resource can influence the restaurant health inspection and how can we improve the inspection process from the food resource? \n",
    "\n",
    "Also does the food resources can really indicate the restaurant is health or not, if so, can we use the food resources to predict whether a restaurant is health or not and what food resources mean the restaurant is health and what mean unhealth? "
   ]
  },
  {
   "cell_type": "markdown",
   "metadata": {},
   "source": [
    "## Background and Prior Work"
   ]
  },
  {
   "cell_type": "markdown",
   "metadata": {},
   "source": [
    "*Fill in your background and prior work here. Be sure to specify which statements are from which references.* \n",
    "\n",
    "References (include links):\n",
    "\n",
    "- 1)This is the article taks about \"Factors That Influence Whether Health Inspectors Write Down Violations on Inspection Reports\". And this gives me the hint about the elements that contains in the government restaurant health process, such as the demographics of the health inspectors, temperature for some cooking, whether the owner get education of food safety or not. By getting those elements, I know what direction should I do for this research.\n",
    "\n",
    "\n",
    "- 2)This one tell us the factors which will influence the restaurant health inspection process, like food resource, knowledge degree of the food health for the restaurant owner and other workers and etc. So I think i can use the food sourse as the element to predict the restaurant health and improve the process. \n",
    "\n",
    "\n",
    "- 3) for this one I know the restaurant need to pay attention on the food resources. As it mentions that \"each year 1 in 6 americans get foodborne illness\". And for some restaurants that have chicken meals, the report mentions that 7 in 10 restaurants with outbreaks did not have certified chicken manager. So I think it is important to look at the food resources for each restaurants and we can predict whether the restaurants are health or not but looking at the food resources. \n",
    "\n",
    "\n",
    "1. https://www.semanticscholar.org/paper/Factors-That-Influence-Whether-Health-Inspectors-on-Almanza/25651338418364762d3a0058a7a4371e1af4744d\n",
    "2. http://afdoss.afdo.org/wp-content/uploads/2017/02/17-Tara-Paster-Factors-that-Influence-Inspections.pdf\n",
    "3. https://www.cdc.gov/nceh/ehs/publications/pfio-infographic.html\n"
   ]
  },
  {
   "cell_type": "markdown",
   "metadata": {},
   "source": [
    "# Hypothesis\n"
   ]
  },
  {
   "cell_type": "markdown",
   "metadata": {},
   "source": [
    "   For improving the restaurant health inspection, it will be effective if we look at the the details of food resources, like the area and the certification of selling meats and vegetables, for each restaurant. If the food resources is from some areas that is original (like the farm or original markets) and it has the certification for selling health meat and fresh vegetables, then the restaurant will be a health one. If the food resources is from some food industry or some areas that does not have certification for selling health meat and sell some not fresh vegetables, then this restaurant may be unhealth. And we can use food resources to predict the restaurant health to let the inspection process become effcient.\n"
   ]
  },
  {
   "cell_type": "markdown",
   "metadata": {},
   "source": [
    "# Data"
   ]
  },
  {
   "cell_type": "markdown",
   "metadata": {},
   "source": [
    "the ideal data for me to answer this question will be a dataset that contains the name of restaurant, restaurant ID, location, age of the inspectors, food source, what kind of food resource it is, main product from that food resources, where is the food resources, degree of restaurant health level, cost, popular rate, grade for the restaurant health and the complaint from the customer. I would like the observation be around 4000 rows. And I want this data can come from a official website that correctly collect the restaurant information and their grade from the government. Also I would like this data pay more attention on the restaurants on a specific area not the whole U.S., then I can make more detailed and accuracy analysis for an specific area. And I think it will be better than I make a board and blurry analysis for the whole United States. \n",
    "\n",
    "(If I can get larger data, this maybe helpful for me doing some model prediction -- increase the accuracy. Also, for the additional data I want in this data is because I want to make some other research in this project as a part named \"interesting find out\")"
   ]
  },
  {
   "cell_type": "markdown",
   "metadata": {},
   "source": [
    "# Ethics & Privacy"
   ]
  },
  {
   "cell_type": "markdown",
   "metadata": {},
   "source": [
    "For the dataset I use, I need to protect the information to prevent the business uses.\n",
    "\n",
    "I also need to protect the privacy for the restaurant information and the government department information of how they exactly examine the restaurant health degree. \n",
    "\n",
    "And I will also try not to be biased about certain regions, positions, gender and races. But still, I are not sure whether the data from the inspectors will bias on some regions or not. I realize for some poverty places, inspectors maybe more willing to not give an A to the restaurants in that regions. So, I need to be more aware for this possible problem that may happen in the data set. \n",
    "\n",
    "We hope we can get the permission to use the data and not violate the privacy for using the data and to republic the data. \n"
   ]
  },
  {
   "cell_type": "code",
   "execution_count": null,
   "metadata": {},
   "outputs": [],
   "source": []
  }
 ],
 "metadata": {
  "kernelspec": {
   "display_name": "Python 3",
   "language": "python",
   "name": "python3"
  },
  "language_info": {
   "codemirror_mode": {
    "name": "ipython",
    "version": 3
   },
   "file_extension": ".py",
   "mimetype": "text/x-python",
   "name": "python",
   "nbconvert_exporter": "python",
   "pygments_lexer": "ipython3",
   "version": "3.6.7"
  }
 },
 "nbformat": 4,
 "nbformat_minor": 2
}
