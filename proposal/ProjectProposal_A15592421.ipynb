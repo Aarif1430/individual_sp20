{
 "cells": [
  {
   "cell_type": "markdown",
   "metadata": {},
   "source": [
    "# COGS 108 - Project Proposal"
   ]
  },
  {
   "cell_type": "markdown",
   "metadata": {},
   "source": [
    "# Names & PID\n",
    "\n",
    "- Name: Michael Lee\n",
    "- PID: A15592421"
   ]
  },
  {
   "cell_type": "markdown",
   "metadata": {},
   "source": [
    "# Research Question"
   ]
  },
  {
   "cell_type": "markdown",
   "metadata": {},
   "source": [
    "Is there a relationship between job satisfaction of the employee of the restaurant and the average number of customer complaints of health issue after they visited the restaurant?"
   ]
  },
  {
   "cell_type": "markdown",
   "metadata": {},
   "source": [
    "## Background and Prior Work"
   ]
  },
  {
   "cell_type": "markdown",
   "metadata": {},
   "source": [
    "Background: Many of the health inspections are carried out unannounced, but hard to measure since there are no federal law forcing restaurants to follow certain rules, but set of voluntary actions they can take to make sure the restaurant is clean and safe. Few things health inspectors look for during an inspection is worker hygiene, food storage and temperature practices, cross contamination, equipment and dish cleanliness, and many more. It is also difficult to measure the true risk since not all restaurants handle same kind of food. For example, sushi restaurant has higher health risk than sandwich shop. \n",
    "\n",
    "Prior Work: A study done by Jones, T.F et al. studied the uniformity of health inspections that should accurately incdicate the risk of food borne illness. It is found that over 7 years of health inspections in Tennessee, the health inspection \"scores varied substantially over time, by region, and by person performing the inspection,\" and inspection system is flawed.\n",
    "\n",
    "References (include links):\n",
    "- 1) https://recipes.howstuffworks.com/tools-and-techniques/restaurant-health-inspections5.htm\n",
    "- 2) https://wwwnc.cdc.gov/eid/article/10/4/03-0343_article"
   ]
  },
  {
   "cell_type": "markdown",
   "metadata": {},
   "source": [
    "# Hypothesis\n"
   ]
  },
  {
   "cell_type": "markdown",
   "metadata": {},
   "source": [
    "If the employees of the restaurants are not satisfied or happy with their job, then there will be a higher chance for restaurant to do poorly on health inspections. Employee satisfaction may be a factor in restaurant's health quality because if the employees aren't happy, then they will be less motivated to make sure the restaurant is clean and safe. "
   ]
  },
  {
   "cell_type": "markdown",
   "metadata": {},
   "source": [
    "# Data"
   ]
  },
  {
   "cell_type": "markdown",
   "metadata": {},
   "source": [
    "* In my ideal dataset, I would like data of happiness of employees, average health inspection scores, number of critical violations (cross contamination, employee hygiene, equipment cleanliness), number of customers' health complaint related to the restaurant, region of the restaurant, and time of the inspection\n",
    "* I would like the number of observation to be at least 100 restaurants of one state (California) of United States.\n",
    "* Health inspection scores, region, time, etc. of inspection can be collected from corresponding cities of the restaurant. employee satisfaction must be collected through the employees directly, including workers that may not work anymore, but included in the scope of the study. health complaints from customers should be tracked and gather data of how many customers and how frequent they visited the restaurant in the period of 2 weeks prior of complaint. \n",
    "* inspection scores will be recorded as numbers from 0 to 100; employee satisfaction will be measured from 1 to 5, 5 being very happy and 1 being very unhappy; critical violations will be divided up to their own categories; customer complaints will be measured as number of visits from customers with health complaints, region will be measured in city and time as the time of the  beginning of inspection."
   ]
  },
  {
   "cell_type": "markdown",
   "metadata": {},
   "source": [
    "# Ethics & Privacy"
   ]
  },
  {
   "cell_type": "markdown",
   "metadata": {},
   "source": [
    "There are some ethics and privacy issues that may come up during collecting the data\n",
    "\n",
    "* First big problem is identifying customers' health complaints as this requires us to collect what the complaint was and the customer's medical history. \n",
    "* Second is getting permission from the city officials to use the data of health inspections\n",
    "* Third is the employee satisfaction rating since this may get them in trouble if it isn't handled carfully, and some may prefer not to participate. \n",
    "\n",
    "To solve these problems, we can try to have every entry of the data to be anonymous and only assigned numbers. Privacy risk of medical history of customers can be mitigated with anominity and vagueness of health problems by not recording the type of medical complaints (stomach ache, vomiting, etc.) employee surveys must be done anonymously and in the restaurant since we want to record their emotions while in the restaurant. This record will be an average score, so not all employee participation is necessary. "
   ]
  },
  {
   "cell_type": "code",
   "execution_count": null,
   "metadata": {},
   "outputs": [],
   "source": []
  }
 ],
 "metadata": {
  "kernelspec": {
   "display_name": "Python 3",
   "language": "python",
   "name": "python3"
  },
  "language_info": {
   "codemirror_mode": {
    "name": "ipython",
    "version": 3
   },
   "file_extension": ".py",
   "mimetype": "text/x-python",
   "name": "python",
   "nbconvert_exporter": "python",
   "pygments_lexer": "ipython3",
   "version": "3.6.7"
  }
 },
 "nbformat": 4,
 "nbformat_minor": 2
}
