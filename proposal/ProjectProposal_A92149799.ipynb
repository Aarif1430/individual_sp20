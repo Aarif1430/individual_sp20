{
 "cells": [
  {
   "cell_type": "markdown",
   "metadata": {},
   "source": [
    "# COGS 108 - Project Proposal"
   ]
  },
  {
   "cell_type": "markdown",
   "metadata": {},
   "source": [
    "# Names & PID\n",
    "\n",
    "- Name: Minh Tran Quoc\n",
    "- PID: A92149799"
   ]
  },
  {
   "cell_type": "markdown",
   "metadata": {},
   "source": [
    "# Research Question"
   ]
  },
  {
   "cell_type": "markdown",
   "metadata": {},
   "source": [
    "Does the food inspection result of restaurants in San Diego vary by  the food cuisine?"
   ]
  },
  {
   "cell_type": "markdown",
   "metadata": {},
   "source": [
    "## Background and Prior Work"
   ]
  },
  {
   "cell_type": "markdown",
   "metadata": {},
   "source": [
    "A common myth that has always been circulating around is that Asian restaurants are less hygienic than that of other cuisines. Prior works conducted in 2015 by Andrew Choothakan from USF using the data from the San Francisco Department of Public Health have releaved that indeed Asian restaurants in San Francisco, in general, have lower sanitation score than other cuisines[1]. Since food safety is and should be one of our main concerns when deciding our dining destination, we would like to examine whether a similar pattern applies to restaurants in San Diego nowadays.\n",
    "\n",
    "In San Diego, food safety and restaurant hygiene are monitored by the San Diego Department of Environmental Health (SDDEH), which examines an approximate of 14,000 retail food establishments in San Diego on a rountine basis[2], including unannounced inspections. They use a grading system that penalizes safety violations to ensure compliance to safe food preparation practices. The results of such inspections are publicly accessible under the California Public Records Act, and should play an important role in guiding customer behaviors. We will be mainly using this information to conduct our research.\n",
    "\n",
    "References (include links):\n",
    "- 1) https://repository.usfca.edu/cgi/viewcontent.cgi?article=1195&context=capstone\n",
    "- 2) https://www.sandiegocounty.gov/content/sdc/deh/fhd/ffis/intro.html.html"
   ]
  },
  {
   "cell_type": "markdown",
   "metadata": {},
   "source": [
    "# Hypothesis\n"
   ]
  },
  {
   "cell_type": "markdown",
   "metadata": {},
   "source": [
    "Our hypothesis is that the pattern also applies in San Diego and Asian cuisine restaurants are less hygienic than other cuisines. The reason we thought so is because:\n",
    "1. The food safety regulation, as well as the demographic of San Francisco and San Diego are quite familiar. Therefore, a similar pattern is more likely to appear in San Diego.\n",
    "2. The study conducted by Choothakan is recent enough that makes me believe the improvements (if any) of the food safety practices in Asian restaurants might have not been significant enough.\n"
   ]
  },
  {
   "cell_type": "markdown",
   "metadata": {},
   "source": [
    "# Data"
   ]
  },
  {
   "cell_type": "markdown",
   "metadata": {},
   "source": [
    "- The data we would like to use to answer this question would ideally have at least 4 variables: __(Restaurant ID, Inspection Time, Inspection Score, Restaurant Cuisine Categorization)__. \n",
    "\n",
    "- In order to have the clearest answer possible, it would be important to have observations from all food establishments (which is approximately 14,000 according to SDDEH). For each restaurant, observation from all previous inspections would be needed. Therefore, the size of the dataset could be in the order of __few hundred thousands observations__, where the unit of observation is the result of one time of inspectation of a restaurant.\n",
    "\n",
    "- This data is publicly available and is provided by __SDDEH__ under the California Public Records Act. In addition, restaurant data from __Yelp__ or __Google Places__ might be required to better categorize the cuisine type.\n",
    "\n",
    "- CSV will be the best format to store this kind of tabular data, since each observation is expected to have the 4 variables. We can split the dataset into a table of inspectation occurences __(Restaurant ID, Inspection Time, Inspection Score)__ and a table of restaurant information __(Restaurant ID, Restaurant Cuisine Categorization)__ in order to avoid redundancy in data storage. These two tables can be joined using the restaurant ID."
   ]
  },
  {
   "cell_type": "markdown",
   "metadata": {},
   "source": [
    "# Ethics & Privacy"
   ]
  },
  {
   "cell_type": "markdown",
   "metadata": {},
   "source": [
    "1. The data provided by SDDEH is publicly available under the California Public Records Act. However, the data from Yelp and Google Places might need to be collected using their APIs or from web scrapping. In either case the consent is needed from these services and will be obtained. \n",
    "\n",
    "2. Although the data from SDDEH is provided publicly and any readers can look it up without any privacy concern for the bussinesses, the data collected from Yelp or Google Places should be used in the way that fully complies with the privacy policy of such services.\n",
    "\n",
    "3. The data might exclude food vendors that operate without the knowledge of SDDEH, Yelp, and Google Places and therefore might show bias towards food cuisines that are often served by such vendors.\n",
    "\n",
    "4. The data from SDDEH is collected through human inspection, which are prone to human error, inconsistency and might have bias towards certain ethnicity/cuisines.\n",
    "\n",
    "5. The result of this research might be maliciously used to target certain restaurants or groups of ethnicity and food cuisine.\n",
    "\n",
    "The research will fully complies with any policy and clearly cite the source of the data collected to avoid any privacy problem in 1st and 2nd points. In order to avoid problem in the 3rd and 4th points, the results of this research shall emphasize that the research questions concerns about a possible relationship between food cuisine and health inspection result, and not necessarily reflects the hygiene of the restaurants associated with the cuisine. Finally, for the 5th problem, this research shall choose positive words to use in describing the analysis in order to limit the negative opinions that might arise."
   ]
  },
  {
   "cell_type": "code",
   "execution_count": null,
   "metadata": {},
   "outputs": [],
   "source": []
  }
 ],
 "metadata": {
  "kernelspec": {
   "display_name": "Python 3",
   "language": "python",
   "name": "python3"
  },
  "language_info": {
   "codemirror_mode": {
    "name": "ipython",
    "version": 3
   },
   "file_extension": ".py",
   "mimetype": "text/x-python",
   "name": "python",
   "nbconvert_exporter": "python",
   "pygments_lexer": "ipython3",
   "version": "3.6.7"
  }
 },
 "nbformat": 4,
 "nbformat_minor": 2
}
