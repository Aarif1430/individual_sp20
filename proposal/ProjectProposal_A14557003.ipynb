{
 "cells": [
  {
   "cell_type": "markdown",
   "metadata": {},
   "source": [
    "# COGS 108 - Project Proposal"
   ]
  },
  {
   "cell_type": "markdown",
   "metadata": {},
   "source": [
    "# Names & PID\n",
    "\n",
    "- Name: Noni Arcilla\n",
    "- PID: A14557003"
   ]
  },
  {
   "cell_type": "markdown",
   "metadata": {},
   "source": [
    "# Research Question"
   ]
  },
  {
   "cell_type": "markdown",
   "metadata": {},
   "source": [
    "In the San Diego county, how do the restaurants' health inspection scores affect customers' reviews of those restaurants?"
   ]
  },
  {
   "cell_type": "markdown",
   "metadata": {},
   "source": [
    "## Background and Prior Work"
   ]
  },
  {
   "cell_type": "markdown",
   "metadata": {},
   "source": [
    "Note: I used 5 sources and the numbers in the brackets below refer to the number of the source under References (see below). \n",
    "\n",
    "Health inspections are very important for restaurants because they give customers an idea of the cleanliness of a restaurant, which should determine whether or not they want to eat at the restaurant. I am going to look specifically at restaurants in the San Diego county along with customer activity and demand in those restaurants. In terms of the process of health inspections performed in San Diego, the SanDiegoCounty Environmental Health website states that health inspections are performed routinely by a Registered Environmental Health Specialist (REHS) to make sure that they comply with the \"California Retail Food Code\", also known as CalCode [1]. CalCode gives a plethora of rules and criteria for which California restaurants need to follow, such as hygienic practices, restroom cleanliness, food preparation, water requirements, and more [2]. In addition, the San Diego county provides a Retail Food Facility Operator's Guide that gives restaurants some advice regarding food preparation, food handling, food storage, and more; it also shows the report the REHS fills out when determining the restaurant's health inspection rating [3].\n",
    "\n",
    "For the restaurant ratings in the San Diego county, an REHS gives each restaurant a score out of 100 points, and then that score is translated to a letter grade which is made visible to the public. At the beginning of the inspection, the restaurant automatically gets 100 points, and then points are subtracted from that whenever a violation of the food inspection report occurs. The number of points subtracted depends on whether it is a *major* or *minor* violation: major violations equal a four point deduction, and a minor violation is a two point deduction [1]. According to the Retail Food Facility Operator's Guide, major violations require immediate corrective action; they include improper cooking temperature, food contamination, the presence of vermin, and more. Minor violations do not directly cause a health hazard: for example, utensils that are unclean but also not currently in use would constitute a minor violation [3]. After points are subtracted for each violation, the final grade is given: an A indicates a score between 90-100, B is a score around 80-89, and a C is below 80; a C is also a failing grade and it means the facility requires major improvement [3]. \n",
    "\n",
    "In terms of prior work, there has been effort done by Yelp that informs customers of the details of health inspection scores of restaurants, such as the current grade, the actual score out of 100, health inspection history, and any major or minor violations they have had in the past [4]. By doing this, Yelp hopes that it would have a positive impact on both customers and the restaurants themselves, because the customers would be informed, and the restaurants now have even more determination to ensure their facility is safe and clean. In fact, a study of restaurants in Los Angeles revealed that when customers have more access to health inspection ratings, \"the number of hospitalizations due to foodborne illnesses drops\" [5]. \n",
    "\n",
    "References (include links):\n",
    "- 1) https://www.sandiegocounty.gov/content/sdc/deh/fhd/ffis/intro.html.html - this is from the San Diego County environmental health website that gives a general overview of the grading process, inspections, and violations\n",
    "- 2) https://www.sandiegocounty.gov/content/dam/sdc/deh/fhd/food/pdf/publications_calcode.pdf - this is the California Retail Food Code under which all California restaurants are to abide by\n",
    "- 3) https://www.sandiegocounty.gov/content/dam/sdc/deh/fhd/food/pdf/publications_opguide.pdf - this is the San Diego Retail Food Facility Operator's Guide, which gives more specific, detailed health inspection information specific to San Diego\n",
    "- 4) https://www.foxnews.com/food-drink/yelp-is-now-publishing-health-inspection-scores-on-restaurant-pages - this is an article about Yelp posting health inspection results for each restaurant\n",
    "- 5) https://blog.yelp.com/2013/01/introducing-lives - this is an article reflecting on some benefits of Yelp posting health inspection information "
   ]
  },
  {
   "cell_type": "markdown",
   "metadata": {},
   "source": [
    "# Hypothesis\n"
   ]
  },
  {
   "cell_type": "markdown",
   "metadata": {},
   "source": [
    "I believe that the scores of restaurant health inspections play the most influential role in customer reviews, and it is that inspection grade that customers tend to focus on the most in order to decide whether or not they should eat at that restaurant. I think that health inspection grades are the most essential to consumers because it is the most credible source of information that consumers can get from a restaurant, and that would influence their views on the restaurant itself and their likelihood of going there in the first place."
   ]
  },
  {
   "cell_type": "markdown",
   "metadata": {},
   "source": [
    "# Data"
   ]
  },
  {
   "cell_type": "markdown",
   "metadata": {},
   "source": [
    "For this question, the ideal dataset I would have is a table with each restaurant in the San Diego county as an observation, and then each of those restaurants would have the following variables:\n",
    "\n",
    "- the average health inspection score (out of 100) the restaurant has obtained throughout its lifetime\n",
    "- the grade corresponding to that health inspection score\n",
    "- the current average Yelp score (out of 5 \"stars\")\n",
    "- proportion of scores that are 5 stars (so it would be the # of 5 star reviews out of the # of total reviews for that restaurant)\n",
    "- proportion of scores that are 4 stars\n",
    "- 3 more columns for proportion of scores that are 3, 2, and 1\n",
    "\n",
    "To get the above data, I would go through Yelp, which can provide the information of all the restaurants in the San Diego county that I would need. Yelp is especially useful because now they have information about restaurant health inspection scores. After the data have been tidied into the above table format, that table would be useful in looking at the health inspection scores of each restaurant throughout the San Diego county. It would also provide the average number of stars of each of the restaurants as well as how many 5-, 4-, 3-, 2-, and 1-star reviews each restaurant got. \n",
    "\n",
    "With the above table, I would be able to compare the health inspection scores to the yelp reviews using possibly a scatterplot to see if high health inspection scores directly correlate with high yelp reviews. I can also compare the health inspection letter grades to the yelp reviews so I can see something like \"does an A correlate with a 4-5 star Yelp rating?\" Also, because I found the proportion of 5-, 4-, 3-, 2-, and 1-star Yelp reviews, I can look more closely at the average health inspection rating that, for example, 4-star Yelp-rated restaurants typically get versus 3-star restaurants.\n",
    "\n",
    "Also, it is important to note that I do not need the restaurant name as a variable because the question does not require knowledge of a specific restaurant's ratings or Yelp scores but just the general trend of how knowledge of a restaurant's health inspection scores affects customer reviews of that restaurant. The restaurant's name is not important for answering this question.\n",
    "\n",
    "Ultimately, having this dataset can demonstrate whether or not health inspection scores impact customer opinions of the restaurants. If not, then it reveals that customers may not be paying close attention to those inspection ratings and are not well-informed, so the city government would have to modify their way of displaying health inspection scores in a way that would more easily attract consumers' attention. Inspectors may have to be more strict in the grading process, or they should have the restaurants place the numerical grade they got near the entrance (rather than just the letter grade)."
   ]
  },
  {
   "cell_type": "markdown",
   "metadata": {},
   "source": [
    "# Ethics & Privacy"
   ]
  },
  {
   "cell_type": "markdown",
   "metadata": {},
   "source": [
    "There may be some ethical issues in this project. First, in regards to the question, I think it is well-posed and specific because I talk about what is being measured - \"restaurant health inspection scores\" and their impact on \"customer reviews\". In terms of where I will find those data, I would get it from Yelp, which is a well-known highly credible company that focuses on business reviews. Their API guidelines do not prohibit the use of their data for this purpose, as long as I cite that the data came from them, so as long as I follow their guidelines, I would have permission to use their data. In terms of the actual data I obtain, the data will possibly have information about the restaurant name, city, address, and/or maybe the names of some employees, even though I do not need those information. In order to ensure that no unintended consequences occur from obtaining this, I will make sure that this information, as well as other pieces of information I do not need, gets removed from the dataset that I end up using. The only information I need are health inspection scores and Yelp scores, so the data will be as anonymized as possible, ensuring the privacy of the restaurants and their employees. \n",
    "\n",
    "In terms of biases in the dataset, a bias from the health inspection scores could come from the inspectors themselves, because some inspectors may be more lenient than others or could have differing opinions as to what is a major or minor violation, so the scores may more heavily depend on the opinions of the inspector. In terms of bias in the Yelp reviews, there could be some reviews that are not genuine; for example, there could be some who personally do not like an employee that works there and so for that reason gives them a 1-star, or there could be people who give a restaurant a 1-star just because they are in a bad mood or want the restaurant to shut down. These Yelp biases could appear, but I would assume that in general, most Yelp reviews reflect customers' true opinions and experiences in the restaurant. "
   ]
  }
 ],
 "metadata": {
  "kernelspec": {
   "display_name": "Python 3",
   "language": "python",
   "name": "python3"
  },
  "language_info": {
   "codemirror_mode": {
    "name": "ipython",
    "version": 3
   },
   "file_extension": ".py",
   "mimetype": "text/x-python",
   "name": "python",
   "nbconvert_exporter": "python",
   "pygments_lexer": "ipython3",
   "version": "3.6.7"
  }
 },
 "nbformat": 4,
 "nbformat_minor": 2
}
