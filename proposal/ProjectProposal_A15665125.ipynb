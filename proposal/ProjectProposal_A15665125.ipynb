{
 "cells": [
  {
   "cell_type": "markdown",
   "metadata": {},
   "source": [
    "# COGS 108 - Project Proposal"
   ]
  },
  {
   "cell_type": "markdown",
   "metadata": {},
   "source": [
    "# Names & PID\n",
    "\n",
    "- Name: James Li\n",
    "- PID: A15665125"
   ]
  },
  {
   "cell_type": "markdown",
   "metadata": {},
   "source": [
    "# Research Question"
   ]
  },
  {
   "cell_type": "markdown",
   "metadata": {},
   "source": [
    "Does the facility at which a food safety manager gets certified have an effect on the number of health violations their restaurant receives in the County of San Diego?"
   ]
  },
  {
   "cell_type": "markdown",
   "metadata": {},
   "source": [
    "## Background and Prior Work"
   ]
  },
  {
   "cell_type": "markdown",
   "metadata": {},
   "source": [
    "In the state of California, operating restaurants are required to have at least one owner/employee that has passed a state-approved food safety certification exam. This certification exam seeks to assess that food handlers know the necessary skills and knowledge to prepare safe food. However, this certification exam is not carried out by the state government itself. Instead, these certification courses are carried out by five third-party facilities: ServSafe, National Registry of Food Safety Professionals, Prometric Inc., 360training.com, Inc., and StateFoodSafety.com. Each of these facilities package their own training courses with the exam and award their own unique certificate, which is only applicable and can only be renewed at their facility when it expires. Since the certification is a non-standardized procedure, it must be asked if there are any differences in the training and assessment of these food handlers with some facilities training food-handlers worse than others. If these food-handlers are taught worse-off, the thought comes naturally that they would practice more unsafe food practices in their restaurants. To measure this food unsafetiness, we can look to the routine inspections done annually by the Food and Housing Division of the County of San Diego, Department of Environmental Health (FHD). State statistics are a relatively objective source and we can measure food safetiness based on the number of health violations infringed by said restaurant, which is released publically by the FHD.\n",
    "\n",
    "No prior work was done investigating this exact topic. However, these has been studies in the past investigating the efficacy of food safety training with regards to the level of food safety knowledge obtained by restaurant managers. In a study conducted by the Department of Occupational and Environmental Health at University of Oklahoma Health Sciences Center, it was found that, \"the sources of training, certification, and experience were found to significantly affect the level of food safety knowledge; however, increased hours of training did not increase knowledge\" (1). This study seems to support the view that the source or facility of training does have an effect on the level of food safety knowledge of a manager.\n",
    "\n",
    "With the prior research, we need to establish a possible relation between the level of food safety knowledge of a manger and the knowledge exemplified but the employees of that restaurant. After all, if a food mananger does not train their employees with the knowledge they had gained from these certification programs, there would be no correlation between manager food safety knowledge and number of food safety violations at the restaurant, and we would find no meaningful information by analyzing the number of food safety violations. A prior work conducted by Texas Tech University suggests that \"there (is) a strong correlation between manager knowledge and employee knowledge\" (2). In conjunction with the prior study, there is reason to believe that a difference in the source/facility of food safety manager certification would lead to a meaningful differnce in the number of food safety violations infringed at restaurants in the San Diego County.\n",
    "\n",
    "References (include links):\n",
    "- 1)https://www.ncbi.nlm.nih.gov/pubmed/12971041\n",
    "- 2)http://www.foodprotection.org/files/food-protection-trends/Nov-Dec-13-Rowell.pdf"
   ]
  },
  {
   "cell_type": "markdown",
   "metadata": {},
   "source": [
    "# Hypothesis\n"
   ]
  },
  {
   "cell_type": "markdown",
   "metadata": {},
   "source": [
    "The facility at which a food safety manager gets certified has a strong effect on the number of health violations their restaurant receives in the County of San Diego. The source of food safetiness training leads to different levels of managerial food safety knowledge, which means that different levels of food safety knowledge are transferred to employees of that restaurant in the County of San Diego."
   ]
  },
  {
   "cell_type": "markdown",
   "metadata": {},
   "source": [
    "# Data"
   ]
  },
  {
   "cell_type": "markdown",
   "metadata": {},
   "source": [
    "I would be joining two datasets, both of which are likely in tabular format, and combine them into a single table. One dataset would have information about the various restaurants in the County of San Diego, which would have the restaurant identification number as the variable, and two observations: the restaurant name, and the facility at which their restaurant manager acquired their certification. The other dataset would have information about various restaurants' food safety infractions; this table would potentially have the restaurant identification number as the variable, and observations: the restaurant name, and number of health infractions their restaurant has acquired in past years, each being its own observation. The resulting combined dataset would have the restaurant identifaction number as the variable, and restaurant name, facility at which their restaurant manager acquired their certification, and total number of food safety infractions as observations."
   ]
  },
  {
   "cell_type": "markdown",
   "metadata": {},
   "source": [
    "# Ethics & Privacy"
   ]
  },
  {
   "cell_type": "markdown",
   "metadata": {},
   "source": [
    "I would have no ethical and privacy concerns using the second dataset which details the number of health violations infracted at each San Diego restaurant because the dataset is intended for public use and knowledge. It is very likely that I run into permission issues with the first dataset which details where restaurant got their certification since it is tied with restaurant registration information, which can be considered private information. There are potential biases in the dataset since they are many other factors other than food safety knowledge that come into play when it comes to the number of health violations that a restaurant infracts. It goes without saying that a restaurant's size plays a large part in their food safety practices. A chain restaurant like McDonalds is more likely to have better food safety practices than a local restaurant due to standardized and must-kept chain requirements. The fact that a restaurant is a cheap-eats or high-end also plays a part in the level of food safety knowledge. A high-end restaurant is more likely to be kept up to high food safety standards than a cheap-eats restaurants solely due to fact that they have more funds to work with. Suppose a facility offers cheaper certification exams than others and as a result attracts smaller sized and local restaurants. Our dataset would show bias and indicate that this facility has poorer than average food safety training, and as a result have higher than average food safety infractions.\n",
    "\n",
    "A potential way to resolve this bias is to further categorize restaurants in San Diego County based on their size and cost. Thus, each restaurant would be categorized on a basis of the facility at which their manager acquired their food safety certifcation from, as well as the size and cost of their restaurant. This would allow us to compare the food safety of restaurants in the same size and cost scale, so that we can better visualize the differences the facilities have. "
   ]
  }
 ],
 "metadata": {
  "kernelspec": {
   "display_name": "Python 3",
   "language": "python",
   "name": "python3"
  },
  "language_info": {
   "codemirror_mode": {
    "name": "ipython",
    "version": 3
   },
   "file_extension": ".py",
   "mimetype": "text/x-python",
   "name": "python",
   "nbconvert_exporter": "python",
   "pygments_lexer": "ipython3",
   "version": "3.6.4"
  }
 },
 "nbformat": 4,
 "nbformat_minor": 2
}
