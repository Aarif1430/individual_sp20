{
 "cells": [
  {
   "cell_type": "markdown",
   "metadata": {},
   "source": [
    "# COGS 108 - Project Proposal"
   ]
  },
  {
   "cell_type": "markdown",
   "metadata": {},
   "source": [
    "# Names & PID\n",
    "\n",
    "- Name: Valerie Warner\n",
    "- PID: A15659413"
   ]
  },
  {
   "cell_type": "markdown",
   "metadata": {},
   "source": [
    "# Research Question"
   ]
  },
  {
   "cell_type": "markdown",
   "metadata": {},
   "source": [
    "- Is there a relationship between chain versus non-chain coffee/tea shops in LA and types of health violations?\n",
    "- Is there a difference between chain versus non-chain coffee/tea shops in LA relative to health score improvement over time?"
   ]
  },
  {
   "cell_type": "markdown",
   "metadata": {},
   "source": [
    "## Background and Prior Work"
   ]
  },
  {
   "cell_type": "markdown",
   "metadata": {},
   "source": [
    "I wanted to make my research question as specfic as possible, so I thought of looking at coffee and tea shops in Los Angeles, since that is near where I live. I couldn't find a ton of information previous studies done about coffee shops specifically. I found a source of some data of health inspections in LA county that listed coffee and tea shops, which helped me think of the idea (1). I found a study online that looked at the sociodemographic information relative to health inspection violations in chain and non-chain restaurants(2). By categorizing data from Philadelphia and comparing it to census data of sociodemographic areas, the study found that \"compared with nonchain restaurants, chain restaurants had significantly fewer total violations per inspection\" (2). They also found that more inspections led to fewer health violations in nonchain restaurants, but not in chain restaurants. \n",
    "\n",
    "Another published study looked at the relationship between foodbourne disease-specific health violations at restaurants which there had been foodbourne illness outbreaks in the past versus nonoutbreak restaurants (3). The study found that more food illness-related violations were recorded at outbreak restaurants. Their data also indicated that chain restaurants may be better at handling factors related to food illnesses over nonchain restaurants. I thought the study presented relevant information and conclusions regarding the types of health violations that may be found in food establishments and making a comparison between restaurants. It also includes the element of chain and non-chain restaurants, with data to back up their claims about what violations may be better handled by which type of establishment.\n",
    "\n",
    "References (include links):\n",
    "- 1) https://ehservices.publichealth.lacounty.gov/ezsearch\n",
    "- 2) https://www.ncbi.nlm.nih.gov/pmc/articles/PMC5349477/\n",
    "- 3) https://www.ncbi.nlm.nih.gov/pubmed/23127710\n"
   ]
  },
  {
   "cell_type": "markdown",
   "metadata": {},
   "source": [
    "# Hypothesis\n"
   ]
  },
  {
   "cell_type": "markdown",
   "metadata": {},
   "source": [
    "**I believe that there is a relationship between chain versus non-chain tea/coffee shops and types of health violations in LA. Additionally, I hypothesize that chain coffee & tea shops have less improvement in health scores over time than non-chain shops.**  There has been data to show in the background information that there is a difference in both the number and potentially the type of violations found at chain versus non-chain restaurants. I hypothesize that chain coffee & tea shops may have more minor health violations, whereas non-chain shops may have more major health violations related to food borne illness etc. based on the preceding research. Since I found that non-chain restaurants have made more significant improvements over time in the background research, this is what I believe will be true in analysis."
   ]
  },
  {
   "cell_type": "markdown",
   "metadata": {},
   "source": [
    "# Data"
   ]
  },
  {
   "cell_type": "markdown",
   "metadata": {},
   "source": [
    "- Ideal variables: names of all coffee and tea shops in Los Angeles, location, identification as chain or nonchain shops, identification of each shop (especially if a chain), dates of inspections, violation code numbers, description/name of violation, overall health score for each date for each shop.\n",
    "\n",
    "- Number of observations: I think a similar amount of both chain and non chain shops would be good, I do not know how many coffee and tea shops are in LA. Additionally, multiple inspections for each might help me address my second research question.\n",
    "\n",
    "- How stored: I think it might be useful to have data in two different tables for first and second inspections, with same ID numbers for matching shops, so I can compare across tables as well as within tables at the chain and non chain data. I think some of the information should definitely be floats (violation numbers, health scores), but I think some of the other information may inevitably be more descriptive, string data.\n",
    "\n",
    "- Data collection: I think the data should be collected from online. I have already seen a lot of data online of health violations for certain restaurants on different dates in many locations, so I think it is just a matter of getting it organized the way I want. The data have probably been collected by inspectors and posted online, so probably using open source data may work. Most chains have pretty noticeable names, so I think identifying those online would not be too difficult, depending on how much data there is.\n"
   ]
  },
  {
   "cell_type": "markdown",
   "metadata": {},
   "source": [
    "# Ethics & Privacy"
   ]
  },
  {
   "cell_type": "markdown",
   "metadata": {},
   "source": [
    "- I believe if I use public, open source data about health inspections, I would have permission to use it. Since my proposed question is mostly exploratory analysis looking for relationships between variables, I do not think it should be a privacy issue (especially if it is open source).\n",
    "- I do not know what data set will be given, but I assume because it is provided, there is not privacy or use issues involved.\n",
    "- There may of course be human introduced error because health inspections are undertaken by humans and may not be 100% accurate. This is a concern of introducing potential bias. If the data was entered into a database by a human, that could also be a source of error. Additionally, my results may be different because I am exculding restaurants and other food establishments that may provide useful information about my analysis. However, I wanted to make a specific research question that addressed a particular type of food establishment.\n",
    "- The data could potentially expose certain esablishments for their health practices or types of health violations and damage their reputation. It could also potentially affect a range of either chain or non chain restaurants.\n",
    "\n",
    "I do not believe privacy is a huge issue based on my findings of open source health inspection data and violations online. If the data is open source, it should be available for public use. I will be wary of human error in data entry, although there is no way to know how health inspections were carried out and scores were determined, so I will have to assume the health inspections are fair and accurate (while also mentioning in the final project that there may be human error). I will try to maintain a fair and balanced analysis among the different comparisons I make, and I will make clear that the relationships found are not proven to be true or caused by a certain factor; correlations may be spurious."
   ]
  },
  {
   "cell_type": "code",
   "execution_count": null,
   "metadata": {},
   "outputs": [],
   "source": []
  }
 ],
 "metadata": {
  "kernelspec": {
   "display_name": "Python 3",
   "language": "python",
   "name": "python3"
  },
  "language_info": {
   "codemirror_mode": {
    "name": "ipython",
    "version": 3
   },
   "file_extension": ".py",
   "mimetype": "text/x-python",
   "name": "python",
   "nbconvert_exporter": "python",
   "pygments_lexer": "ipython3",
   "version": "3.6.7"
  }
 },
 "nbformat": 4,
 "nbformat_minor": 2
}
