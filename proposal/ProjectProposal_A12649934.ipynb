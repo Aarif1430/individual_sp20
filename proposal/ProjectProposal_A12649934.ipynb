{
 "cells": [
  {
   "cell_type": "markdown",
   "metadata": {},
   "source": [
    "# COGS 108 - Project Proposal"
   ]
  },
  {
   "cell_type": "markdown",
   "metadata": {},
   "source": [
    "# Names & PID\n",
    "\n",
    "- Name: Kevin Hau\n",
    "- PID: A12649934"
   ]
  },
  {
   "cell_type": "markdown",
   "metadata": {},
   "source": [
    "# Research Question"
   ]
  },
  {
   "cell_type": "markdown",
   "metadata": {},
   "source": [
    "Is there a relationship between the Yelp reviews a restaurant receives and the potential health violations it may incur? "
   ]
  },
  {
   "cell_type": "markdown",
   "metadata": {},
   "source": [
    "## Background and Prior Work"
   ]
  },
  {
   "cell_type": "markdown",
   "metadata": {},
   "source": [
    "   Within the realm of health inspections, the first thing that came into mind was Yelp. Personally I don't notice the health inspection grade on a restaurant unless it is bad. Health inspections help the public by making sure the restaurants within our local area are using safe food practices. Inspectors check for things such as food safety temperatures, poor personal hygiene, or sanitation etc. Based on the amount of violations and severity, the restaurant is given a grade ranging from A to C. One way to help inspectors out would be to have a priority list of restaurants needed to be inspected and that list can be made up based upon reviews the restaurants have received.",
    "\n",
    "References (include links):\n",
    "- 1)https://www.consumeraffairs.com/news/restaurant-hygiene-are-influenced-by-health-inspections-and-customer-reviews-011420.html\n",
    "- 2)https://www.ncbi.nlm.nih.gov/pmc/articles/PMC4811425/"
   ]
  },
  {
   "cell_type": "markdown",
   "metadata": {},
   "source": [
    "# Hypothesis\n"
   ]
  },
  {
   "cell_type": "markdown",
   "metadata": {},
   "source": [
    "   I believe that there will be a strong correlation between reviews a restaurant receieves and the potential health violations it may incur. This is based on the background that I researched on as well as personal experience. "
   ]
  },
  {
   "cell_type": "markdown",
   "metadata": {},
   "source": [
    "# Data"
   ]
  },
  {
   "cell_type": "markdown",
   "metadata": {},
   "source": [
    "   The ideal dataset would be the data stored within Yelp’s servers in regards to reviews. I would use their API to access that data that is on the public domain. Furthermore, I could also use Yelp’s health inspection feature to already look up the current grade for the establishment. The variables would include reviews, inspection grades, rating of the reviews, amount of reviews, key words within the reviews, and time period of the reviews in relation to the inspection grade time. I would ask yelp for their api key through their yelp developers program. I would organize this data in either a SQL database or google sheets document. "
   ]
  },
  {
   "cell_type": "markdown",
   "metadata": {},
   "source": [
    "# Ethics & Privacy"
   ]
  },
  {
   "cell_type": "markdown",
   "metadata": {},
   "source": [
    "   In regards to ethics and privacy, there is a lot to consider. First of all, I would have to acquire a Yelp API key just to access the data. When I do have access to the data, I would have to parse out all the names and personal identification. There may be some privacy concerns about me using people’s reviews, however, is it unlikely as the review is public. There are most definitely potential biases within the reviews. The reviews are likely to be driven mostly by middle aged or younger people as many older or middle aged groups do not put up online reviews. There may be some backlash as to which restaurants we are doing our testing on, however, it is unlikely it is important. The biggest problems I have identified would be the API key as well as the parsing of the data of personal identification. The API key may take a while, so it is best to try to acquire access early and the parsing will require some code. "
   ]
  }
 ],
 "metadata": {
  "kernelspec": {
   "display_name": "Python 3",
   "language": "python",
   "name": "python3"
  },
  "language_info": {
   "codemirror_mode": {
    "name": "ipython",
    "version": 3
   },
   "file_extension": ".py",
   "mimetype": "text/x-python",
   "name": "python",
   "nbconvert_exporter": "python",
   "pygments_lexer": "ipython3",
   "version": "3.7.0"
  }
 },
 "nbformat": 4,
 "nbformat_minor": 2
}
