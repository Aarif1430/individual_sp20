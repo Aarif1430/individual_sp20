{
 "cells": [
  {
   "cell_type": "markdown",
   "metadata": {},
   "source": [
    "# COGS 108 - Project Proposal"
   ]
  },
  {
   "cell_type": "markdown",
   "metadata": {},
   "source": [
    "# Names & PID\n",
    "\n",
    "- Name: WEIYUAN XU\n",
    "- PID: U08448717"
   ]
  },
  {
   "cell_type": "markdown",
   "metadata": {},
   "source": [
    "# Research Question"
   ]
  },
  {
   "cell_type": "markdown",
   "metadata": {},
   "source": [
    "How does the schedule of the inspectors affect the efficiency of restaurant health inspection."
   ]
  },
  {
   "cell_type": "markdown",
   "metadata": {},
   "source": [
    "## Background and Prior Work"
   ]
  },
  {
   "cell_type": "markdown",
   "metadata": {},
   "source": [
    "\n",
    "- In this project, I will focus on how could the local government improve their inspection to decrease the foodborne illness cases in one specific area (one county, or one state in America). Actually, there are few papers paying their attention to this issue. However, one article from the Harvard Business Review provides me some idea about that. According to that article, the author suggests that the inspector's schedule could affect their work efficiency. Firstly, if the inspector works late, they will choose to finish their work as soon as possible and not be as meticulous as before. And many violations would not be detected and the customers will suffer from the risk. \n",
    "\n",
    "\n",
    "- If the inspectors could work shorter per day, and the late afternoon inspections could be avoided, they will probably pay more attention on each inspections. As a result, more violations could be detected. So in this report I will collect the data to show how does the schedule of the inspectors affect the efficiency of restaurant health inspection.\n",
    "\n",
    "\n",
    "References (include links):\n",
    "- 1) https://hbr.org/2019/05/to-improve-food-inspections-change-the-way-theyre-scheduled\n",
    "- 2) https://hbswk.hbs.edu/item/a-simple-way-for-restaurant-inspectors-to-improve-food-safety"
   ]
  },
  {
   "cell_type": "markdown",
   "metadata": {},
   "source": [
    "# Hypothesis\n"
   ]
  },
  {
   "cell_type": "markdown",
   "metadata": {},
   "source": [
    "\n",
    "- It is apparent that the foodborne illness cases per capita could be affected by many factors, such as inspection, the economic growth( If the economic collapes, fewer people would go to the restaurants), the number of restaurants per capita, etc. In this report, we could assume that only the inspection could make contribution to the decrease of foodborne cases per capita. And when I find the data, I will try my best to make the value of other variables similar in the dataset.\n",
    "\n",
    "- We assume that the efficiency of the inspection could be revealed by the foodborne illness cases. Because if the inspection is improved, the restaurant will probably provide the safe food. Therefore the foodborne illness cases will decrease."
   ]
  },
  {
   "cell_type": "markdown",
   "metadata": {},
   "source": [
    "# Data"
   ]
  },
  {
   "cell_type": "markdown",
   "metadata": {},
   "source": [
    "\n",
    "The ideal dataset should include the schedule of each inspectors, and the variable of how much time did each of them spend on the inspection should be collected. And the dataset is supposed to include the foodborne illness cases, the total of all kinds of restaurants and the total population in different counties in the previous decades.As for the observations, 500-1000 observations is enough. As for the foodborne illness cases data, we could get that from CDC. And the schedule of inspectors should be collected by the local government. The ideal dataset should be csv file, and it is convenient for us to trasnform that kind of data into dataframe. If possible, the dataset of foodborne illness cases and another dataset of schedule of inspectors could be combined. At least we should analysis those two dataset simultaneously.\n"
   ]
  },
  {
   "cell_type": "markdown",
   "metadata": {},
   "source": [
    "# Ethics & Privacy"
   ]
  },
  {
   "cell_type": "markdown",
   "metadata": {},
   "source": [
    "Data permissions and concerns:\n",
    "\n",
    "All of the ideal datasets could be found from CDC and local government. To protect the inspectors' privacy, we should clear the name and their ID in the dataset of the schedule of inspectors.\n",
    "\n",
    "Potential Biases:\n",
    "\n",
    "According to the assumptions, we only focus how does the schedule of inspectors affect the efficiency of inspection which could be indicated by the foodborne illness cases, but other factors may also affect the number of foodborne illness cases, such as economic growth, GDP, lifestyle, number of restaurants per capita, etc. I am supposed to try my best to control those variables, but the data is from different counties, different regions in a country. Those factors could not be all the same in different samples. Therefore, If those data are from same region or same states, this issue could be relieved."
   ]
  },
  {
   "cell_type": "code",
   "execution_count": null,
   "metadata": {},
   "outputs": [],
   "source": []
  }
 ],
 "metadata": {
  "kernelspec": {
   "display_name": "Python 3",
   "language": "python",
   "name": "python3"
  },
  "language_info": {
   "codemirror_mode": {
    "name": "ipython",
    "version": 3
   },
   "file_extension": ".py",
   "mimetype": "text/x-python",
   "name": "python",
   "nbconvert_exporter": "python",
   "pygments_lexer": "ipython3",
   "version": "3.7.3"
  }
 },
 "nbformat": 4,
 "nbformat_minor": 2
}
