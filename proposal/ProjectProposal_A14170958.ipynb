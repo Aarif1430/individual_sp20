{
 "cells": [
  {
   "cell_type": "markdown",
   "metadata": {},
   "source": [
    "# COGS 108 - Project Proposal"
   ]
  },
  {
   "cell_type": "markdown",
   "metadata": {},
   "source": [
    "# Names & PID\n",
    "\n",
    "- Name: Gerrick Baldevarona\n",
    "- PID: A14170958"
   ]
  },
  {
   "cell_type": "markdown",
   "metadata": {},
   "source": [
    "# Research Question"
   ]
  },
  {
   "cell_type": "markdown",
   "metadata": {},
   "source": [
    "Is there a relationship between inspection preparedness and the quality of restaurant health inspections?"
   ]
  },
  {
   "cell_type": "markdown",
   "metadata": {},
   "source": [
    "## Background and Prior Work"
   ]
  },
  {
   "cell_type": "markdown",
   "metadata": {},
   "source": [
    "*Fill in your background and prior work here. Be sure to specify which statements are from which references.* \n",
    "\n",
    "For improved health inspections, the restaurant should prepare in advance before being inspected. Some mistakes made prior to health inspections include are improper food storage, incorrect temperature, and contamination due to poor use of kitchen tools(Reference 1) We can see that the health inspection process can improved if we sanitize the kitchen efficiently and maintain the cleanliness.\n",
    "\n",
    "Another research is that health inspectors tend to be more critical of a restaurant who had many unsanitary conditions in the last report (Reference 2). This can be prevented if the restaurant followed the guidelines for a cleaner place.\n",
    "\n",
    "\n",
    "References (include links):\n",
    "- 1) https://www.webstaurantstore.com/article/16/health-inspection-checklist.html\n",
    "- 2) https://www.foodandwine.com/news/restaurant-health-inspections-time-day-study"
   ]
  },
  {
   "cell_type": "markdown",
   "metadata": {},
   "source": [
    "# Hypothesis\n"
   ]
  },
  {
   "cell_type": "markdown",
   "metadata": {},
   "source": [
    "*State and defend your hypotheses here.*\n",
    "\n",
    "My hypothesis is that the process of restaurant health inspection can be improved by maintaining the cleanliness of the restaurant before inspection."
   ]
  },
  {
   "cell_type": "markdown",
   "metadata": {},
   "source": [
    "# Data"
   ]
  },
  {
   "cell_type": "markdown",
   "metadata": {},
   "source": [
    "*Explain what the ideal dataset you would want to answer this question. (This should include: What variables? How many observations? Who/what/how would these data be collected? How would these data be stored/organized?)*\n",
    "\n",
    "The variables are going to be rating of restaurent cleanliness, quality of health inspection, and the time needed for health inspection.\n",
    "The data would be stored in a CSV format.\n",
    "There will be one observation about how the health inspection is being done based on restaurant cleanliness and preparedness.\n"
   ]
  },
  {
   "cell_type": "markdown",
   "metadata": {},
   "source": [
    "# Ethics & Privacy"
   ]
  },
  {
   "cell_type": "markdown",
   "metadata": {},
   "source": [
    "*Fill in your ethics & privacy discussion here*\n",
    "Some privacy concerns is that collecting and researching this data will harm a certain restaurant.\n",
    "To handle this issue, I would anonymize it when comparing restaurants and their health inspections."
   ]
  }
 ],
 "metadata": {
  "kernelspec": {
   "display_name": "Python 3",
   "language": "python",
   "name": "python3"
  },
  "language_info": {
   "codemirror_mode": {
    "name": "ipython",
    "version": 3
   },
   "file_extension": ".py",
   "mimetype": "text/x-python",
   "name": "python",
   "nbconvert_exporter": "python",
   "pygments_lexer": "ipython3",
   "version": "3.6.7"
  }
 },
 "nbformat": 4,
 "nbformat_minor": 2
}
