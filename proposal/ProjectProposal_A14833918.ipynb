{
 "cells": [
  {
   "cell_type": "markdown",
   "metadata": {},
   "source": [
    "# COGS 108 - Project Proposal"
   ]
  },
  {
   "cell_type": "markdown",
   "metadata": {},
   "source": [
    "# Names & PID\n",
    "\n",
    "- Name: Ashley Eckert\n",
    "- PID: A14833918"
   ]
  },
  {
   "cell_type": "markdown",
   "metadata": {},
   "source": [
    "# Research Question"
   ]
  },
  {
   "cell_type": "markdown",
   "metadata": {},
   "source": [
    "Can having specific locations where restaurants can be placed at within large cities effect how often they can get checked for health inspections, overall improving ratings? "
   ]
  },
  {
   "cell_type": "markdown",
   "metadata": {},
   "source": [
    "## Background and Prior Work"
   ]
  },
  {
   "cell_type": "markdown",
   "metadata": {},
   "source": [
    "San Diego county has the best restaurant ratings compared to other big cities, like Los Angeles and San Francisco. The cities ratings here is being rated by year, and SanDiego still has the greatest percentage of A ratings. Even bigger cities have a harder time getting checked for health inspections, such as New York. There was a link found between restaurants and the real estate markets, meaning nicer restaurants in nicer communities. This could be that the maybe the density of restuarants in one location could harm the probability of better ratings in other communities. This research relates to my question because San Diego is a less dense city than New York, so it can be a model of how many restuarants can be in a dense population while still making it easy to maintain health standards through frequent health inspections. \n",
    "\n",
    "References (include links):\n",
    "- 1) https://www.nbcsandiego.com/news/local/99-of-san-diego-restaurants-earn-a-grades-bringing-usefulness-of-system-into-question/25381/\n",
    "- 2) https://www.marketwatch.com/story/how-data-scientists-found-a-link-between-restaurant-inspections-and-new-yorks-wild-real-estate-market-2020-02-03"
   ]
  },
  {
   "cell_type": "markdown",
   "metadata": {},
   "source": [
    "# Hypothesis\n"
   ]
  },
  {
   "cell_type": "markdown",
   "metadata": {},
   "source": [
    "My hypothesis is that yes, having the city regulate where restaurants can have their business can make their jobs easier to maintain health standards. I think this because a city like San Diego, which I believe to be spread out pretty nicely, but everything is still notoriously near each other, has stellar health ratings. "
   ]
  },
  {
   "cell_type": "markdown",
   "metadata": {},
   "source": [
    "# Data"
   ]
  },
  {
   "cell_type": "markdown",
   "metadata": {},
   "source": [
    "The data that would be ideal would be a map of every major city in the United States with the restaurants drawn out, and distances measured between restaurants. Also, another variable that would be ideal is the number of health inspectors in each city, and how many health inspectors/per restaurant. Also, the time stamps of when the tests are conducted based on property value of where the restuarant is located. This would be a good piece of data because then it can be measured how into the shift the health inspector visited, which could be used to see if they were given a quality visit by an inspector. Quality visits can lead to better results in the future for restaurants. I would like to compare bar charts for cities that compare ratings to other areas. "
   ]
  },
  {
   "cell_type": "markdown",
   "metadata": {},
   "source": [
    "# Ethics & Privacy"
   ]
  },
  {
   "cell_type": "markdown",
   "metadata": {},
   "source": [
    "The one problem I might see might be with a reference I used in the \"prior work\" section, that would be because the issue it is presenting has directly something to do with the housing market. The website is a site dedicated to markets and profit, so that can be a conflicting factor. I don't see any problem with the question and data that might need to be used, because all of the data is government data that should be made available to the public, anyway. "
   ]
  },
  {
   "cell_type": "code",
   "execution_count": null,
   "metadata": {},
   "outputs": [],
   "source": []
  }
 ],
 "metadata": {
  "kernelspec": {
   "display_name": "Python 3",
   "language": "python",
   "name": "python3"
  },
  "language_info": {
   "codemirror_mode": {
    "name": "ipython",
    "version": 3
   },
   "file_extension": ".py",
   "mimetype": "text/x-python",
   "name": "python",
   "nbconvert_exporter": "python",
   "pygments_lexer": "ipython3",
   "version": "3.6.7"
  }
 },
 "nbformat": 4,
 "nbformat_minor": 2
}
