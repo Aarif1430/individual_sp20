{
 "cells": [
  {
   "cell_type": "markdown",
   "metadata": {},
   "source": [
    "# COGS 108 - Project Proposal"
   ]
  },
  {
   "cell_type": "markdown",
   "metadata": {},
   "source": [
    "# Names & PID\n",
    "\n",
    "- Name: Shuaiqing Zhou\n",
    "- PID: A15577403"
   ]
  },
  {
   "cell_type": "markdown",
   "metadata": {},
   "source": [
    "# Research Question"
   ]
  },
  {
   "cell_type": "markdown",
   "metadata": {},
   "source": [
    "*Is the health level and number of complaints of a restaurant related to its source of food?*"
   ]
  },
  {
   "cell_type": "markdown",
   "metadata": {},
   "source": [
    "## Background and Prior Work"
   ]
  },
  {
   "cell_type": "markdown",
   "metadata": {},
   "source": [
    "*According to the \"Retail Food Facility Operator's Guide\" published by County of San Diego Department of Environmental Health\n",
    "Food & Housing Division, \"all food must come from an approved source\" for a restaurant. Which means that all of the restaurants must purchase food from licensed seller such as farmers market, etc. And in another guidline published also by  County of San Diego Department of Environmental Health Food & Housing Division \"Guidelines for Determining Approved Food Sources\", the most useful method os to check whether they have government issued verification or license like FDA or USDA, USDC, etc. However, not all of the food sources food woth the same quality. Some markets just passed the FDA standard, and some are highly above the standard. Thus, restaurant might get food of different qualities from different source, although they are all approved sources. \n",
    "\n",
    "And I come up with my research question that is the health level and number of complaints of a restaurant related to its source of food? Or is it possible that restaurants who get food from a specific market might have more chance to have health problems than others? And if there is relationship between food sources and restaurants' health level, then the government could do the inspections more focusing on restaurants who obtain food from those specific food sources.  * \n",
    "\n",
    "References (include links):\n",
    "- 1)\"Retail Food Facility Operator's Guide\" https://www.sandiegocounty.gov/content/dam/sdc/deh/fhd/food/pdf/publications_opguide.pdf\n",
    "- 2)\"Guidelines for Determining Approved Food Sources\" https://www.sandiegocounty.gov/content/dam/sdc/deh/fhd/food/pdf/publications_form221.pdf"
   ]
  },
  {
   "cell_type": "markdown",
   "metadata": {},
   "source": [
    "# Hypothesis\n"
   ]
  },
  {
   "cell_type": "markdown",
   "metadata": {},
   "source": [
    "*I hypothesize that there will be a relationship between the restaurant's food sources and its health level, that restaurants who obtain food from some specific source tend to have higher health risk, because different markets or sellers might have food of difficult quality, and thus restaurants getting low quality food would lead to a lower score on health checks. *"
   ]
  },
  {
   "cell_type": "markdown",
   "metadata": {},
   "source": [
    "# Data"
   ]
  },
  {
   "cell_type": "markdown",
   "metadata": {},
   "source": [
    "*My ideal dataset for this project should have at least 50 observations to make this research statistically significant. This dataset should include restaurant’s food source, number of complaints about health concerns, and history health levels. So we can see in how food source influences the level of health. The government could radomly select some restaurant and ask for their food source and compare to their number of customer complaints and history health rate which government should alrealdy have. And this dataset will be totally private and will access to anyone else.*"
   ]
  },
  {
   "cell_type": "markdown",
   "metadata": {},
   "source": [
    "# Ethics & Privacy"
   ]
  },
  {
   "cell_type": "markdown",
   "metadata": {},
   "source": [
    "*The government may or may not have the right to know their food sources. Also, government officers might be biases with the price of their food. Another problem would be who should be responsible for this problem.\n",
    "\n",
    "First of all, we have to ask for their permission and guarantee that this would be totally private, and will not open to the public. And the price of the raw food they obtained does not necessarily related to the quality of the food. Food with high price does not mean that they are 100% healthy and food with low price doesn't mean they are unqualified. And I believe it's the government who should be responsible for the low quality raw food, not the restaurant nor the market. Restaurants get food from approved source, and markets has certifications. Both are legally running their business. Government should not punish any restaurant if they purchased food from a approved source, only if when they were using food from private farms or personal sources. *"
   ]
  }
 ],
 "metadata": {
  "kernelspec": {
   "display_name": "Python 3",
   "language": "python",
   "name": "python3"
  },
  "language_info": {
   "codemirror_mode": {
    "name": "ipython",
    "version": 3
   },
   "file_extension": ".py",
   "mimetype": "text/x-python",
   "name": "python",
   "nbconvert_exporter": "python",
   "pygments_lexer": "ipython3",
   "version": "3.6.7"
  }
 },
 "nbformat": 4,
 "nbformat_minor": 2
}
