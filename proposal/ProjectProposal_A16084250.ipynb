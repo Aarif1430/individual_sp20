{
 "cells": [
  {
   "cell_type": "markdown",
   "metadata": {},
   "source": [
    "# COGS 108 - Project Proposal"
   ]
  },
  {
   "cell_type": "markdown",
   "metadata": {},
   "source": [
    "# Names & PID\n",
    "\n",
    "- Name: Benedict Tannady\n",
    "- PID: A16084250"
   ]
  },
  {
   "cell_type": "markdown",
   "metadata": {},
   "source": [
    "# Research Question"
   ]
  },
  {
   "cell_type": "markdown",
   "metadata": {},
   "source": [
    "Does the amount of fat in a restaurant's menu correlate with its Health Inspection score?"
   ]
  },
  {
   "cell_type": "markdown",
   "metadata": {},
   "source": [
    "## Background and Prior Work"
   ]
  },
  {
   "cell_type": "markdown",
   "metadata": {},
   "source": [
    "*Fill in your background and prior work here. Be sure to specify which statements are from which references.* \n",
    "\n",
    "References (include links):\n",
    "- 1) DOHMH MenuStat (menu info from top national restaurant chains --> https://catalog.data.gov/dataset/dohmh-menustat \n",
    "- 2) DataSF (health inspection info of SF restaurants --> https://data.sfgov.org/Health-and-Social-Services/Restaurant-Scores-LIVES-Standard/pyih-qa8i/data \n",
    "- 3) SF Health Inspection data: https://www.kaggle.com/san-francisco/sf-restaurant-scores-lives-standard "
   ]
  },
  {
   "cell_type": "markdown",
   "metadata": {},
   "source": [
    "# Hypothesis\n"
   ]
  },
  {
   "cell_type": "markdown",
   "metadata": {},
   "source": [
    "I believe that the amount of fat that a restaurant includes in their menu correlates to the restaurant getting a lower grade in the health inspection process. My reasoning for this is because meat products and other fatty foods likely require a higher diligence in maintaining the hygiene, which would relate with the restaurant's performance in health inspections."
   ]
  },
  {
   "cell_type": "markdown",
   "metadata": {},
   "source": [
    "# Data"
   ]
  },
  {
   "cell_type": "markdown",
   "metadata": {},
   "source": [
    "The ideal dataset that would best answer this question is taking numerical data that is easy to compare and display on a graph. The variables in my observations would include the measurement sum of fat usage in different restaurant menus, and comparing that to another variable of restaurant health inspection score. The observations I’d make would be with in comparing if restaurant health inspection score goes up/down in comparison with fat usage in menus. These data are already online in some of my links. The health inspection scores are easily made public, some chain restaurants also publish their food ingredients as well. These datasets would likely be kept in a csv file, and then displayed in a nice bar graph of some sort."
   ]
  },
  {
   "cell_type": "markdown",
   "metadata": {},
   "source": [
    "# Ethics & Privacy"
   ]
  },
  {
   "cell_type": "markdown",
   "metadata": {},
   "source": [
    "I had permission to use this data, it was made public on the internet. As of this moment, there does not seem to be any relevant privacy concerns regarding my data. Most of the data is already details that are made public, so nothing unlawful is being done. \n\n",
    "Possible biases could be that there may be other variables that could play a role in a restaurant's health inspection score. Although, I believe that a counterargument could be that if the data shows a relevant enough of a pattern, then it can be safe to say that fat usage may play a larger role in health inspection scores. Possible issues regarding my data would be 'underrepresentation' of all the restaurants. As of this moment, not every single restaurant has made their ingredients public, so I'd only be able to compare data between restaurants that have both published their ingredients as well as those same restaurants that have been graded by health inspections. \n\n",
    "Overall, the datasets that I have linked previously should serve useful for now. Down the line, I may need to look deeper for better datasets though. Anyways, there aren't any relevant privacy concerns as all the datasets I plan on using are public."
   ]
  }
 ],
 "metadata": {
  "kernelspec": {
   "display_name": "Python 3",
   "language": "python",
   "name": "python3"
  },
  "language_info": {
   "codemirror_mode": {
    "name": "ipython",
    "version": 3
   },
   "file_extension": ".py",
   "mimetype": "text/x-python",
   "name": "python",
   "nbconvert_exporter": "python",
   "pygments_lexer": "ipython3",
   "version": "3.7.0"
  }
 },
 "nbformat": 4,
 "nbformat_minor": 2
}
