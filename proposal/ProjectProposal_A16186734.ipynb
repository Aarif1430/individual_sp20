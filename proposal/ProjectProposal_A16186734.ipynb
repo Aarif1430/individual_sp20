{
 "cells": [
  {
   "cell_type": "markdown",
   "metadata": {},
   "source": [
    "# COGS 108 - Project Proposal"
   ]
  },
  {
   "cell_type": "markdown",
   "metadata": {},
   "source": [
    "# Names & PID\n",
    "\n",
    "- Name: ZHENG, Danyi\n",
    "- PID: A16186734"
   ]
  },
  {
   "cell_type": "markdown",
   "metadata": {},
   "source": [
    "# Research Question"
   ]
  },
  {
   "cell_type": "raw",
   "metadata": {},
   "source": [
    "What is the relationship between the restaurants' take-out food packaging with their food safety level?"
   ]
  },
  {
   "cell_type": "markdown",
   "metadata": {},
   "source": [
    "## Background and Prior Work"
   ]
  },
  {
   "cell_type": "markdown",
   "metadata": {},
   "source": [
    "With the COVID-19 pandemic around the whole United States, most of the restaurants have stopped dining-in service and offer food pick-up or delivery only. Long-lasting tablewares have been replaced by easy-carrying single-use food packaging boxes, the material of which can cause health problems. Polystyrene, widely-used material for food packaging, is a known carcinogen and also an environmental nightmare. It is also found that the paper boxes contain a large amount of fluorine, which brings about immunological and developmental problems. All these toxic chemicals have a chance to enter food when high-temperature meals are immediately put into the boxes, resulting in acute or chronic health issues.\n",
    "However, this is not an unsolvable question, meaning that the restaurants can choose safer food packaging boxes. It is told by scientists that food boxes made with 100% recyclable material do no harm to the human body, though it may be more expensive, or harder to purchase. \n",
    "By looking into what type of packages the restaurants use, how much the restaurants spend them, where they purchase, and the toxic chemical level in the food they sell, how customers review on the food review websites (such as Yelp), we can ring the alarm in which food packages checking step should be improved for restaurant health inspection process.\n",
    "\n",
    "\n",
    "References (include links):\n",
    "- 1)Eleanor Goldberg Fox(2019), \"Food packaging is full of toxic chemicals – here's how it could affect your health\", https://www.theguardian.com/us-news/2019/may/28/plastics-toxic-america-chemicals-packaging\n",
    "- 2) Tom Neltner(2019), \"Toxic chemicals can enter food through packaging. We made a list.\", http://blogs.edf.org/health/2019/03/26/toxic-chemicals-food-packaging-list/"
   ]
  },
  {
   "cell_type": "markdown",
   "metadata": {},
   "source": [
    "# Hypothesis\n"
   ]
  },
  {
   "cell_type": "markdown",
   "metadata": {},
   "source": [
    "I predict that the more the restaurants spend on their food packages per unit, the higher level their food safety level is. The commonly used toxic materials are usually very cheap so that the manufacturing company can save costs. The harmless substances would require more purifying processes, more vulnerable, and expensive raw materials, resulting in a higher price.\n",
    "The restaurants might have a higher food safety level if they choose paper and metal boxes instead of plastics. This may not be accurate, as paper boxes need extra chemicals to maintain shape.\n",
    "I also believe that if the restaurants purchasing boxes from a paper-product-only company rather than multiple-product companies may have safer food packages, as different manufactory lines can contaminate each other.\n",
    "Additionally, I assume that the fewer negative feedback concerning health problems on those websites, the safer the restaurants' food is. This is the most intuitive standard if the toxin in food could cause an acute physiological response."
   ]
  },
  {
   "cell_type": "markdown",
   "metadata": {},
   "source": [
    "# Data"
   ]
  },
  {
   "cell_type": "markdown",
   "metadata": {},
   "source": [
    "As restaurants mostly provide food to local area only, I would like to focus on San Diego County.\n",
    "The ideal dataset should include the toxic chemical level in food for all restaurants in San Diego, as well as the monthly cost and resources of the restaurant food packages, and the feedback on popular food review websites. It may be in multiple files. From the official website of the San Diego government, there are over 8100 restaurants in the county, and all of them should have a record of their food safety level, monthly cost on materials in the government's database. Ideally, the dataset needed should be available in the governments' database, and we can also double-check from the restaurants' official website. For feedback from common sites, this can be directly found from the websites. All data should be stored as sheets, probably csv. For the feedbacks, we would need to hand-copy them, so they could be in a disorganized form."
   ]
  },
  {
   "cell_type": "markdown",
   "metadata": {},
   "source": [
    "# Ethics & Privacy"
   ]
  },
  {
   "cell_type": "markdown",
   "metadata": {},
   "source": [
    "As food safety is a concern to all residents, the data should be totally fair, based on facts, and without any bias.\n",
    "The food safety level of each restaurant should be visible to the customers, on their website and in-store. The feedbacks are always available to all customers. The resources of their food packages should also be available in most restaurants, to convince the customers of their food safety level. The monthly cost can be found on the restaurant company's balance sheet, although it may not be separated into details, so we need to ask for permission to have details and use them.\n",
    "The potential relationship we would probably find out can bring harm and benefit to different people. If the findings are all consistent with the hypotheses, the restaurants will suffer first. They using packaging with unqualified materials may be asked to change the boxes they initially used. This may result in a cost for dealing with purchased boxes and contracts with the factories, as well as more expensive packaging. This would probably affect the staff's salary if the restaurant has limited working capacity, or customers may need to pay more for take-out food. Manufacturing companies may also suffer from losing restaurants as their partners, or even worse, also other potential clients.\n",
    "On the other side, the manufacturing companies with the materials we find out to be most safe may gain more business. And most importantly, our residents can avoid taking in toxins unintentionally, which should be the first concern of the government.\n",
    "To refrain economic loss to those that should not be affected, we need to specify this analysis is aiming better health inspection for restaurants, and that those manufacturing companies are still good choices non-edible products. We could ask the restaurants to show the information of their food packaging on their websites so that the customers could choose if they would like to pay more to have less health risk. I also suggest that giving out more popular scientific articles to people so that they can learn how to choose restaurants when they read the information, and this could also help urge the restaurants to change for better.\n",
    "Overall, whatever our findings are, our primary purpose is to improve the restaurants' health inspection process, so that our residents have healthier and safer food. Whatever the material that is the most reliable, no matter the best materials are cheap or expensive, the government should always promote and help the restaurants to improve food safety levels. More compensative policies can be implemented to hold the economic balance, too."
   ]
  }
 ],
 "metadata": {
  "kernelspec": {
   "display_name": "Python 3",
   "language": "python",
   "name": "python3"
  },
  "language_info": {
   "codemirror_mode": {
    "name": "ipython",
    "version": 3
   },
   "file_extension": ".py",
   "mimetype": "text/x-python",
   "name": "python",
   "nbconvert_exporter": "python",
   "pygments_lexer": "ipython3",
   "version": "3.6.7"
  }
 },
 "nbformat": 4,
 "nbformat_minor": 2
}
