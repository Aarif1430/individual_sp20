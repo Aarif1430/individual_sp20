{
 "cells": [
  {
   "cell_type": "markdown",
   "metadata": {},
   "source": [
    "# COGS 108 - Project Proposal"
   ]
  },
  {
   "cell_type": "markdown",
   "metadata": {},
   "source": [
    "# Names & PID\n",
    "\n",
    "- Name: Abish Wang\n",
    "- PID: A14341996"
   ]
  },
  {
   "cell_type": "markdown",
   "metadata": {},
   "source": [
    "# Research Question"
   ]
  },
  {
   "cell_type": "markdown",
   "metadata": {},
   "source": [
    "*General Topic: How can we improve health inspections?* \n",
    "\n",
    "Can changing the schedule of health inspectors limit the amount of bias that they have when performing inspections?"
   ]
  },
  {
   "cell_type": "markdown",
   "metadata": {},
   "source": [
    "## Background and Prior Work"
   ]
  },
  {
   "cell_type": "markdown",
   "metadata": {},
   "source": [
    "Businesses have been improving their quality of cleanliness over the years in respect to health inspections, but further improvement can still be made. Because of the development of grade cards being displayed for customers to see, service providers have been more incentivized to clean their businesses to receive an A grade from their health inspectors. However, the establishment of grade cards have caused health inspectors to be more pressured from busniness owners to receive higher grades. For example, if a business receives an 89, which is a B grade, they might pressure health inspectors to bump it up one point for an A. This causes a sort of inflation due to the pressure received by health inspectors and could decrease the standard of higher grades relative to health and safety in businesses. (Jin & Leslie, 2005)\n",
    "\n",
    "On top of this pressure, the scheduling of health inspectors could also bias individual inspectors evaluations. Ibanez & Toffel (2005) \"noticed that inspectors tended to cite fewer violations at each successive establishment they visited through their day — suggesting that the onerous work takes a toll on their meticulousness.\" This means that there could be bias formed by inspectors due to the time of day they inspect or how they are scheduled. Another issue they discovered was that the inspection of one facility would bias the inspections of other facilities visited that day. For example, if one establishment turned out to receive numerous violations, the next few establishments visited would be scrutinized more vehemently than on a day where the first establishment visited had very few violations. Ibanez & Toffel (2005) suggested that one solution could be to reduce the amount of \"crunch days\" that inspectors have, as in limiting the number of inspections an individual inspector has to go through in a single day so that their fatigue does not bias their inspections on certain businesses. \n",
    "\n",
    "\n",
    "References (include links):\n",
    "- 1) Ibanez, M. R., & Toffel, M. W. (2019, May 16). To Improve Food Inspections, Change the Way They’re Scheduled. Retrieved April 23, 2020, from https://hbr.org/2019/05/to-improve-food-inspections-change-the-way-theyre-scheduled\n",
    "- 2) Jin, G. Z., & Leslie, P. (2005). The Case in Support of Restaurant Hygiene Grade Cards. Choices, 97–102."
   ]
  },
  {
   "cell_type": "markdown",
   "metadata": {},
   "source": [
    "# Hypothesis\n"
   ]
  },
  {
   "cell_type": "markdown",
   "metadata": {},
   "source": [
    "*My hypothesis is that reducing the amount of \"crunch\" days will improve the consistency of health inspectors and limit their biases to improve the quality of health inspections and overall health for consumers. This means that I believe inspectors with less crowded and more spread out schedules for inspections will be more efficient in their inspections and have less biases due to less fatigue, pressure, and preconceived judgements on establishments.*"
   ]
  },
  {
   "cell_type": "markdown",
   "metadata": {},
   "source": [
    "# Data"
   ]
  },
  {
   "cell_type": "markdown",
   "metadata": {},
   "source": [
    "Explain what the ideal dataset you would want to answer this question. (This should include: What variables? How many observations? Who/what/how would these data be collected? How would these data be stored/organized?)\n",
    "\n",
    "The ideal dataset to answer this question would be to have data that includes the variables of multiple inspectors, their schedule for inspections (how many establishments they inspected on a given day), and the grades each establishment received. This could be in a tabular or nested format, but preferrably tabular as it would be easier to work with. We would want to have numerous observations to ensure non-extreme values and to compare to see if my hypothesis is true. This kind of data should exist online as health inspection results are open for the public to access. We could extract this information from online sources where they keep these records. After retrieiving the data, we can wrangle the data and create visualizations depending on how to best utilize it.\n"
   ]
  },
  {
   "cell_type": "markdown",
   "metadata": {},
   "source": [
    "# Ethics & Privacy"
   ]
  },
  {
   "cell_type": "markdown",
   "metadata": {},
   "source": [
    "*I believe that there will not be many issues with ethics and privacy for this given topic. Permission is granted for use of this data as the data is public record for all to access. As long as it is cited where the data came from, access should be allowed. There should be no privacy concerns regarding the datasets as restaurants are required to provide their customers with the knowledge of the results of these health inspections. The names of inspectors, if provided, shall be removed and replaced with a unique identifier. I will try to avoid potential bias in datasets by randomly selecting which inspectors I use, or choose a city and either use all of the data or randomly select, depending on how large the data is. I will not generalize my results to multiple locations (as in the whole state or country) if I choose a specified city to research. If any other issues come up, I will describe the biases and concerns that arises relative to ethics and privacy.*"
   ]
  },
  {
   "cell_type": "code",
   "execution_count": null,
   "metadata": {},
   "outputs": [],
   "source": []
  },
  {
   "cell_type": "code",
   "execution_count": null,
   "metadata": {},
   "outputs": [],
   "source": []
  }
 ],
 "metadata": {
  "kernelspec": {
   "display_name": "Python 3",
   "language": "python",
   "name": "python3"
  },
  "language_info": {
   "codemirror_mode": {
    "name": "ipython",
    "version": 3
   },
   "file_extension": ".py",
   "mimetype": "text/x-python",
   "name": "python",
   "nbconvert_exporter": "python",
   "pygments_lexer": "ipython3",
   "version": "3.6.7"
  }
 },
 "nbformat": 4,
 "nbformat_minor": 2
}
