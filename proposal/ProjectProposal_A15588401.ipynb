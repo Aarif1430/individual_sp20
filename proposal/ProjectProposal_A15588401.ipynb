{
 "cells": [
  {
   "cell_type": "markdown",
   "metadata": {},
   "source": [
    "# COGS 108 - Project Proposal"
   ]
  },
  {
   "cell_type": "markdown",
   "metadata": {},
   "source": [
    "# Names & PID\n",
    "\n",
    "- Name: Dominick Lee\n",
    "- PID: A15588401"
   ]
  },
  {
   "cell_type": "markdown",
   "metadata": {},
   "source": [
    "# Research Question"
   ]
  },
  {
   "cell_type": "markdown",
   "metadata": {},
   "source": [
    "Are restaurants in San Diego that generate less revenue or pay lower wages to employees have higher numbers of health and safety violations? If so, is there an ideal region to prioritize to ensure the most violations are caught and the food safety standard is maintained throughout the city."
   ]
  },
  {
   "cell_type": "markdown",
   "metadata": {},
   "source": [
    "## Background and Prior Work"
   ]
  },
  {
   "cell_type": "markdown",
   "metadata": {},
   "source": [
    "San Diego restaurants are graded based on the number points they receive from an inspection and are then assigned a letter grade; points are deducted for each violation depending on its severity (2). Which restaurants are given inspection was stated to be an, \"(...) inspection methodology [that] prioritizes inspections based on relative risk\" (2). Other data science projects have shown prior links that exist between health inspections and real-estate markets as in the case of a study on New York City (1). A San Francisco analysis showed that certain zip codes had far greater violations than others and suggested that those zip codes should be given priority when selecting which restaurants to inspect (3).\n",
    "\n",
    "References (include links):\n",
    "- 1) https://www.marketwatch.com/story/how-data-scientists-found-a-link-between-restaurant-inspections-and-new-yorks-wild-real-estate-market-2020-02-03\n",
    "- 2) https://www.sandiegocounty.gov/deh/fhd/ffis/intro.html\n",
    "- 3) https://nycdatascience.com/blog/student-works/san-francisco-restaurant-inspection-analysis-visualization/"
   ]
  },
  {
   "cell_type": "markdown",
   "metadata": {},
   "source": [
    "# Hypothesis\n"
   ]
  },
  {
   "cell_type": "markdown",
   "metadata": {},
   "source": [
    "Based on the research question, I believe that restaurants that pay higher wages have more resources to maintain a higher standard of sanitation and will thus have fewer violations. I hypothesize that workers who are paid more will work harder to ensure conditions are up to code. Additionally, it is likely that there is either a physical region or revenue bracket that will be at higher risk of being found in violation."
   ]
  },
  {
   "cell_type": "markdown",
   "metadata": {},
   "source": [
    "# Data"
   ]
  },
  {
   "cell_type": "markdown",
   "metadata": {},
   "source": [
    "The ideal dataset would consist of variable columns including the names of restaurants, number of violations per year (broken down by code), the wages of staff members responsible for maintaining a safe and sanitary environment, and zip code. This data would ideally be made public and would contain every restaurant in the city of San Diego. These data would be organized in a table with the mentioned variables as columns and observations as rows. Ideally the observations would contain every restaurant in the city. The data would be collected by previous health inspectors on their inspection forms."
   ]
  },
  {
   "cell_type": "markdown",
   "metadata": {},
   "source": [
    "# Ethics & Privacy"
   ]
  },
  {
   "cell_type": "markdown",
   "metadata": {},
   "source": [
    "The intention of this project is to make it easier for health inspectors of the city to do their job which ensures that the population consumes sanitary and safe food from an establishment with a safe working environment. The grade of restaurants is public information and is displayed openly outside of each establishment. Additionally, in an ideal situation the data are collected by the inspectors and it does not involve intrusive or personal/private information that is unattainable from the general public already.\n",
    "\n",
    "While there is a possibility that some level of discrimination could occur based on links that are found beween zip codes and violations, it is important to prioritize the areas with the most violations not as a punishment but to ensure those areas have high quailty safe food for residents in that area. The data can be further analyzed should some sort of bias arise and because the analysis is not making decisions run by a single algorithm that acts as a black box, biases can be minimized.\n",
    "\n",
    "Additionally, restaurants consent to having their restaurants inspected, so inspectors could ask restaurant owners if certain non-public information (should any of the information mentioned above be private) could be included in a study. This ensures that all information was gathered with consent.\n"
   ]
  }
 ],
 "metadata": {
  "kernelspec": {
   "display_name": "Python 3",
   "language": "python",
   "name": "python3"
  },
  "language_info": {
   "codemirror_mode": {
    "name": "ipython",
    "version": 3
   },
   "file_extension": ".py",
   "mimetype": "text/x-python",
   "name": "python",
   "nbconvert_exporter": "python",
   "pygments_lexer": "ipython3",
   "version": "3.7.4"
  }
 },
 "nbformat": 4,
 "nbformat_minor": 2
}