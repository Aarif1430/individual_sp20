{
 "cells": [
  {
   "cell_type": "markdown",
   "metadata": {},
   "source": [
    "# COGS 108 - Project Proposal"
   ]
  },
  {
   "cell_type": "markdown",
   "metadata": {},
   "source": [
    "# Names & PID\n",
    "\n",
    "- Name: Stanley Xiao\n",
    "- PID: A15435481"
   ]
  },
  {
   "cell_type": "markdown",
   "metadata": {},
   "source": [
    "# Research Question"
   ]
  },
  {
   "cell_type": "markdown",
   "metadata": {},
   "source": [
    "1) Do small bakeries/restaurants have lower health ratings than larger franchises? If so, do inspection procedures/checklists differ? If yes, then in what aspects? If inspection procedures are the same, what qualities do they score lower in?\n",
    "\n",
    "2) (If we have time:) What health inspection practices are similar between the East and West Cost counties and how do they differ? The counties that I'll be looking at are Wake County, NC and San Francisco, CA.\n"
   ]
  },
  {
   "cell_type": "markdown",
   "metadata": {},
   "source": [
    "## Background and Prior Work"
   ]
  },
  {
   "cell_type": "markdown",
   "metadata": {},
   "source": [
    "*Fill in your background and prior work here. Be sure to specify which statements are from which references.* \n",
    "\n",
    "References (include links):\n",
    "- 1) https://www.forsyth.cc/PublicHealth/EnvironmentalHealth/aboutInspections.aspx\n",
    "- 2) https://www.sandiegocounty.gov/content/dam/sdc/deh/fhd/food/pdf/publications_newbusiness664.pdf\n",
    "- 3) https://cautiouslyoptimistickitchen.com/health-inspection/\n",
    "- 4) https://www.nbcsandiego.com/news/local/99-of-san-diego-restaurants-earn-a-grades-bringing-usefulness-of-system-into-question/25381/\n",
    "- 5) https://data.sfgov.org/widgets/pyih-qa8i"
   ]
  },
  {
   "cell_type": "markdown",
   "metadata": {},
   "source": [
    "# Hypothesis\n"
   ]
  },
  {
   "cell_type": "markdown",
   "metadata": {},
   "source": [
    "I think that both small restaurants have the same health ratings as larger franchises because I would assume that all restaurants are treated equally and therefore fairly. Looking through the dataset in source #5, I did notice that the most common aspect that raised awareness in 4-star restaurants was the fact that restaurants failed to store food properly. For instance, there were bad cooling systems and vermin issues."
   ]
  },
  {
   "cell_type": "markdown",
   "metadata": {},
   "source": [
    "# Data"
   ]
  },
  {
   "cell_type": "markdown",
   "metadata": {},
   "source": [
    "*Explain what the ideal dataset you would want to answer this question. (This should include: What variables? How many observations? Who/what/how would these data be collected? How would these data be stored/organized?)*\n",
    "\n",
    "The ideal dataset I would want to answer this question would be the restaurant name with an \"ID\" corresponding to it as to shorten restaurant names. Because we're benefitting the local government, I would like to use their data from the inspections that they have conducted. I would require at least 30 observations/restaurants in order to satisfy the central limit theorem but the more observations we have, the better. Within these observations, we should definitely have the numeric scores that the restaurants received. Each score should be divided into categories that should be evaluated by a ratings system that range between 1 being terrible and 10 excellent. Some categories include employee sanitization and how the restaurants store their food like whether the food is placed on a clean table or laying on the ground, cleaning and maintenance. However, an NBC article (site #4) states that some restaurants in San Diego receive an A grade despite having major violations so these datasets might be untrustworthy."
   ]
  },
  {
   "cell_type": "markdown",
   "metadata": {},
   "source": [
    "# Ethics & Privacy"
   ]
  },
  {
   "cell_type": "markdown",
   "metadata": {},
   "source": [
    "*Fill in your ethics & privacy discussion here*\n",
    "\n",
    "Some ethics and privacy issues that need to be considered when running the data analysis are as follows:\n",
    "  1) Don't put a bad image on specific restaurants by calling them out if their restaurants are terrible. Make analysis as broad as possible.\n",
    "  2) By referring to restaurants by an \"ID\" and publishing our results without the names of the restaurants, customers will continue to go to the restaurant so it won't lose customer service.\n",
    "  3) When inspecting restaurants, be sure to only take notes on paper--don't use cameras to record employee face or voice."
   ]
  }
 ],
 "metadata": {
  "kernelspec": {
   "display_name": "Python 3",
   "language": "python",
   "name": "python3"
  },
  "language_info": {
   "codemirror_mode": {
    "name": "ipython",
    "version": 3
   },
   "file_extension": ".py",
   "mimetype": "text/x-python",
   "name": "python",
   "nbconvert_exporter": "python",
   "pygments_lexer": "ipython3",
   "version": "3.6.7"
  }
 },
 "nbformat": 4,
 "nbformat_minor": 2
}
