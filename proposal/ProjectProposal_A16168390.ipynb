{
 "cells": [
  {
   "cell_type": "markdown",
   "metadata": {},
   "source": [
    "# COGS 108 - Project Proposal"
   ]
  },
  {
   "cell_type": "markdown",
   "metadata": {},
   "source": [
    "# Names & PID\n",
    "\n",
    "- Name: Isabelle Parker\n",
    "- PID: A16168390"
   ]
  },
  {
   "cell_type": "markdown",
   "metadata": {},
   "source": [
    "# Research Question"
   ]
  },
  {
   "cell_type": "markdown",
   "metadata": {},
   "source": [
    "Given the topic of improving the restaurant health inspection process for a city governmnet, I have chosen the explore the following question: \"Is there a relationship between the type of complaint specified and the language used in a filed compliance complaint form and whether a food compliance inspection was conducted in Brisbane in a given year?\"\n"
   ]
  },
  {
   "cell_type": "markdown",
   "metadata": {},
   "source": [
    "## Background and Prior Work"
   ]
  },
  {
   "cell_type": "markdown",
   "metadata": {},
   "source": [
    "In Australia all health inspection regulations are stated in the 2006 Food Act (1) which is used in all states and cities across the country to regulate the quality of food and food facilities. In Brisbane, Queensland the local government is responsible for \"Food saftey issues at a retail food business, foreign matter in food and wholesale and retail food distrubution\" (2). There are a number of different types of health inspections conducted by the city government including several types of food complaint inspections:\n",
    "1. Foreign matter which is a food complaint received from the community concerning food which has been \"alleged to have been adulterated with a foreign object\".(1)\n",
    "2. Microbiological which is a food complaint concerning \"alleged food poisoning or food spoilage complaint received from the community\".(1)\n",
    "3. Chemical adulteration which is a food complaint concerning \"food which has been adulterated by chemicals\".(1)\n",
    "4. Food premises related complaint relates to the facilities or premise that the food is being served or stored in. \n",
    "\n",
    "Residents of the city are able tp register a complaint with the city governmnet by submitting a *compliance complaint form* online that asks the following questions:\n",
    "1. The food business details\n",
    "2. Type of complaint:\n",
    "    which giving numerous options all of with can be fit into one of the four types of food complaint inspections (3).\n",
    "3. Complaint details:\n",
    "    where the public can write in a couple of sentences specifically what their complaint is(3). \n",
    "    \n",
    "In 2019 hundreds of complaints about cleanliness and unsafe food were made about Brisbane restaurants with the Brisbane City Council received \"833 complaints relating to food safety in 2019 – 479 about food premises and 354 about unsafe food and infection\"(4).However, in 2018-19 council sliced its \"food safety inspections down by 30 per cent, from 7003 in 2017-18 down to 4900 in 2018-19\"(4). The high in 2017-18 was due to increased funding allocated because of the presence of the commonwealth games in the area. However, now that the health inspection funds are lower again the amount of inspections that can be conducted each year have lowered along with the standards of resaraunts in the Brisbane area. Therefore, it is an important question to ask when exactly shiuld be written in a compliance complaint form to allow your form the best chance to result in a food compliance inspection with hte Brisbane governmnets now more limited budget.\n",
    "\n",
    "References (include links):\n",
    "- 1) Reporting of information by local governments under the Food Act 2006 , Queensland Health, November 2015, https://www.health.qld.gov.au/__data/assets/pdf_file/0026/442277/localgov-reportguidellines.pdf\n",
    "- 2) Making a Complaint, Queensland Health, 2020 updated, https://www.health.qld.gov.au/__data/assets/pdf_file/0026/721484/making-a-complaint.pdf\n",
    "- 3) Food Saftey Complaints, Queensland Health, 2020 updated, https://www.publications.qld.gov.au/dataset/food-safety-complaints\n",
    "- 4) Brisbane suburbs with most food safety complaints revealed, L.Lynch, February 18, 2020 , https://www.brisbanetimes.com.au/national/queensland/brisbane-suburbs-with-most-food-safety-complaints-revealed-20200213-p540km.html"
   ]
  },
  {
   "cell_type": "markdown",
   "metadata": {},
   "source": [
    "# Hypothesis\n"
   ]
  },
  {
   "cell_type": "markdown",
   "metadata": {},
   "source": [
    "If a specfiic type of complaint and certain key words are used in a compliance complaint form then the likelhood of a food complicance inspection being carried out is increased exponentially. This is because the language used is deemed by the city government office to be reliable and significant. Believing that these words indicate that there is a high probability of future risk to customers and the greater population."
   ]
  },
  {
   "cell_type": "markdown",
   "metadata": {},
   "source": [
    "# Data"
   ]
  },
  {
   "cell_type": "markdown",
   "metadata": {},
   "source": []
  },
  {
   "cell_type": "raw",
   "metadata": {},
   "source": []
  },
  {
   "cell_type": "markdown",
   "metadata": {},
   "source": [
    "The ideal dataset to answer this question would consist of all information provided in the compliance complaint forms submitted in a given year by the public. The contents of these forms would be entered into a data set along with whether or not a food compliance complaint inspection was conducted at the food business in the same given year. Therefore the variables of the data set would be the suburb of the food business, the type of complaint specified on the compliance complaint form, the contents of the comment box on the compliance complaint form, and whether or not an food complaint inspection was conducted. The observations will be each individual complaint form labelled by a uniquie ID that is given to each non-compliance from filed. The number of observaions will be upward of 700 based on the number of complaints sumbmitted in 2019. These observations are collected by the brisbane city government online at  https://www.publications.qld.gov.au/dataset/food-safety-complaints. This data is stored in an API accessible to the public and downloadable CSV files."
   ]
  },
  {
   "cell_type": "markdown",
   "metadata": {},
   "source": [
    "# Ethics & Privacy"
   ]
  },
  {
   "cell_type": "markdown",
   "metadata": {},
   "source": [
    "It is important to consider the privacy and ethical responsibility when designing a data sceince project. For this project there are a number ethical principles and privacy concerns to consider. As the complaince complaint forms contain private information including anme, residential address, postal address, telephone number, mobile number and email. To protect the privacy of those who are filing compliance complaint froms all this information has been removed from the data set and the only information provided to identify a single complaint is the unique ID number of the form. \n",
    "\n",
    "Also due to the inclusion of the suburb of the food business in brisbane there is a potential bias toward more impoversihed area recieving a greater number of complaints by city residents. However, this issue is apart of the research question and therefore cannot be removed from the data set as the suburb in which the food business is located could play a contributing factor in whether or not a food compliance inspection is conducted. "
   ]
  },
  {
   "cell_type": "code",
   "execution_count": null,
   "metadata": {},
   "outputs": [],
   "source": []
  }
 ],
 "metadata": {
  "kernelspec": {
   "display_name": "Python 3",
   "language": "python",
   "name": "python3"
  },
  "language_info": {
   "codemirror_mode": {
    "name": "ipython",
    "version": 3
   },
   "file_extension": ".py",
   "mimetype": "text/x-python",
   "name": "python",
   "nbconvert_exporter": "python",
   "pygments_lexer": "ipython3",
   "version": "3.8.2"
  }
 },
 "nbformat": 4,
 "nbformat_minor": 2
}
