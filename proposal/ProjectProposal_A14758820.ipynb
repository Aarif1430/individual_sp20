{
 "cells": [
  {
   "cell_type": "markdown",
   "metadata": {},
   "source": [
    "# COGS 108 - Project Proposal"
   ]
  },
  {
   "cell_type": "markdown",
   "metadata": {},
   "source": [
    "# Names & PID\n",
    "\n",
    "- Name: Youngwoo Park\n",
    "- PID: A14758820"
   ]
  },
  {
   "cell_type": "markdown",
   "metadata": {},
   "source": [
    "# Research Question"
   ]
  },
  {
   "cell_type": "markdown",
   "metadata": {},
   "source": [
    "How do chefs store food? When does the quality of food stored in the refrigerator and freezer start to drop? "
   ]
  },
  {
   "cell_type": "markdown",
   "metadata": {},
   "source": [
    "## Background and Prior Work"
   ]
  },
  {
   "cell_type": "markdown",
   "metadata": {},
   "source": [
    "I choose this topic because the quality of ingredient is the most important to restaurant health inspection. However, it is impossible to sell all the ingredients from that day, so we need to save in the refrigerator and freezer. Each food requires different saving condintion, but many people don't know it even popular restaurnt, so I need to find each food's saving condition. In addition, I tried to find how and how long restaurants save foods, but i find similar resrach whichi is in reference 2 which is about how normal people save food in their home.\n",
    "\n",
    "References (include links):\n",
    "- 1)https://www.fda.gov/consumers/consumer-updates/are-you-storing-food-safely\n",
    "This is research from FDA how to store food safely. This study notices which food store in the refrigerator, the freezer, and the cupboard. It is quite similar with my research question.\n",
    "- 2)https://www.sciencedirect.com/science/article/pii/S0950329316301240\n",
    "This research is about the ways people store their food in the controlled conditions. In the study, there are a diverse behaviors for storin g food in the refrigerator. "
   ]
  },
  {
   "cell_type": "markdown",
   "metadata": {},
   "source": [
    "# Hypothesis"
   ]
  },
  {
   "cell_type": "markdown",
   "metadata": {},
   "source": [
    "I belive chefs do better than normal people in the second references. Every food requires different condition to store. I think the chefs need to store fruits and vegitables in the refrigerator, frozen foods in the freezer, and others in the cupboard. "
   ]
  },
  {
   "cell_type": "markdown",
   "metadata": {},
   "source": [
    "# Data"
   ]
  },
  {
   "cell_type": "markdown",
   "metadata": {},
   "source": [
    "I need the data that each foods' the degree of freshness and nutrient, and taste in different conditions: refrigerator, freezer, and cupboard in one week.I will check fruits, vegitables, breads, seafoods etc. \n",
    "After that, I will check how chefs store foods in their restaunts. I need to research how restaurnts store the food and how long they store them."
   ]
  },
  {
   "cell_type": "markdown",
   "metadata": {},
   "source": [
    "# Ethics & Privacy"
   ]
  },
  {
   "cell_type": "markdown",
   "metadata": {},
   "source": [
    "All the data I are using will contain the information about food and individual chefs behavior. I do not care about privacy of food because food does not have privacy. However, it is possible to harm chefs' privacy if I used individual behaviors, so I need to make sure that I am colleting isn't identifiable to any individual and avoid to target specific restaurnts on age, gender, country, and check the data is biased."
   ]
  },
  {
   "cell_type": "code",
   "execution_count": null,
   "metadata": {},
   "outputs": [],
   "source": []
  }
 ],
 "metadata": {
  "kernelspec": {
   "display_name": "Python 3",
   "language": "python",
   "name": "python3"
  },
  "language_info": {
   "codemirror_mode": {
    "name": "ipython",
    "version": 3
   },
   "file_extension": ".py",
   "mimetype": "text/x-python",
   "name": "python",
   "nbconvert_exporter": "python",
   "pygments_lexer": "ipython3",
   "version": "3.6.7"
  }
 },
 "nbformat": 4,
 "nbformat_minor": 2
}
