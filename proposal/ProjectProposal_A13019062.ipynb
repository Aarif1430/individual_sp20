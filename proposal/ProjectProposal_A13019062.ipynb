{
 "cells": [
  {
   "cell_type": "markdown",
   "metadata": {},
   "source": [
    "# COGS 108 - Project Proposal"
   ]
  },
  {
   "cell_type": "markdown",
   "metadata": {},
   "source": [
    "# Names & PID\n",
    "\n",
    "- Name: Francis Dinh\n",
    "- PID: A13019062"
   ]
  },
  {
   "cell_type": "markdown",
   "metadata": {},
   "source": [
    "# Research Question"
   ]
  },
  {
   "cell_type": "markdown",
   "metadata": {},
   "source": [
    "With what frequency and what priority for ordering should restaurants be inspected for health codes to find violations earliest and to save health inspectors work?"
   ]
  },
  {
   "cell_type": "markdown",
   "metadata": {},
   "source": [
    "## Background and Prior Work"
   ]
  },
  {
   "cell_type": "markdown",
   "metadata": {},
   "source": [
    "*Fill in your background and prior work here. Be sure to specify which statements are from which references.* \n",
    "\n",
    "References (include links):\n",
    "- 1) http://cs229.stanford.edu/proj2013/Walter-PredictionOfNYCRestaurantHealthInspectionResults%20pdf.pdf\n",
    "This publication outlines attempts at predicting grades that would be given to restaurants in the New York City. Since there are many restaurants with a high turnover rate relative to the number of inspectors, this means that many restaurants cannot be \"graded\" in a timely manner. Various classifiers such as Bayes Naive classifier or Logistic Regression were trained using other various features such as restaurant names, location, food type, etc. The paper concludes that machine learning techniques (useful for prediction) were able to predict to about 62% accuracy based just on restaurant zip code and food type. However, the paper also discusses potential pitfalls, such as some specific features (like restaurants with type: \"Asian\") resulting in almost random guesses. \n",
    "\n",
    "- 2) https://www.citylab.com/solutions/2016/01/chicago-is-predicting-food-safety-violations-why-arent-other-cities/422511/\n",
    "The city of Chicago has actually implemented a similar idea, although specific methodologies are not mentioned. Using features such as length of time since last inspection, previous violations, nearby sanitation complaints, etc, an algorithm was developed that found violations 7.5 days earlier on average. The article does not list how this number was obtained however. One notable aspect of Chicago's project was that it attempted to open-source its work, which allowed Washington D.C. to try a similar approach, finding violations 3 days earlier on average. "
   ]
  },
  {
   "cell_type": "markdown",
   "metadata": {},
   "source": [
    "# Hypothesis\n"
   ]
  },
  {
   "cell_type": "markdown",
   "metadata": {},
   "source": [
    "Restaurants that are closer to other restaurants that have had health code violations will have a greater chance of having health code violations of their own since this encompasses factors such as location and similar suppliers. More frequently visited restaurants should be inspected more often than less visited restaurants since potential violations here are more dangerous to the average consumer.  "
   ]
  },
  {
   "cell_type": "markdown",
   "metadata": {},
   "source": [
    "# Data"
   ]
  },
  {
   "cell_type": "markdown",
   "metadata": {},
   "source": [
    "Useful variables to include (but not limited to) would inclcude features such as those mentioned in the background resources above: zip code, food type, restaurant name, previous violation count, nearby sanitation status. Other useful features may be number of employees, number of visitors, number and result of previous inspections along with date. Certain information can be collected by the city itself upon registration of the business, such as zip code and restaurant name. Other factors like number of visitors can be obtained from sale records, although the issue of inaccurate recording may have to be noted. As before, city-collected data can generally be stored in the public domain, but other identifying features such as data specific to certain restaurants may have to be stored securely. A standard data organization scheme with observations on rows and features on columns can be used. Secure data will have to be separate and can be joined later on. A random stratified data collection process over features such as location may also be useful."
   ]
  },
  {
   "cell_type": "markdown",
   "metadata": {},
   "source": [
    "# Ethics & Privacy"
   ]
  },
  {
   "cell_type": "markdown",
   "metadata": {},
   "source": [
    "A potential issue with developing a health inspection algorithm based on data is that certain restaurants may become unintentionally targeted. An example is if more restaurants in a certain area are sampled than restaurants in a different area, resulting in an overrepresentation in the data set. Features such as previous health code violations may also result in certain businesses being inspected more often even if it does not mean that other restaurants do not have violations (just that they have not been recorded/detected). Care should also be taken to ensure that restaurants are not specifically linked with data such as number of visitors and sales amounts (provided there is no permission). "
   ]
  },
  {
   "cell_type": "code",
   "execution_count": null,
   "metadata": {},
   "outputs": [],
   "source": []
  }
 ],
 "metadata": {
  "kernelspec": {
   "display_name": "Python 3",
   "language": "python",
   "name": "python3"
  },
  "language_info": {
   "codemirror_mode": {
    "name": "ipython",
    "version": 3
   },
   "file_extension": ".py",
   "mimetype": "text/x-python",
   "name": "python",
   "nbconvert_exporter": "python",
   "pygments_lexer": "ipython3",
   "version": "3.7.6"
  }
 },
 "nbformat": 4,
 "nbformat_minor": 2
}
