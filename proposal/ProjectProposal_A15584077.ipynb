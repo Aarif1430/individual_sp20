{
 "cells": [
  {
   "cell_type": "markdown",
   "metadata": {},
   "source": [
    "# COGS 108 - Project Proposal"
   ]
  },
  {
   "cell_type": "markdown",
   "metadata": {},
   "source": [
    "# Names & PID\n",
    "\n",
    "- Name: Griffin Goldberg\n",
    "- PID: A15584077"
   ]
  },
  {
   "cell_type": "markdown",
   "metadata": {},
   "source": [
    "# Research Question"
   ]
  },
  {
   "cell_type": "markdown",
   "metadata": {},
   "source": [
    "Is there a way to assign a value to each resturaunt establishment in order to better identify which of those establishments are more at risk for a violation and more efficiently dedicate the resources of the Los Angelos County Department of Public Health?"
   ]
  },
  {
   "cell_type": "markdown",
   "metadata": {},
   "source": [
    "## Background and Prior Work"
   ]
  },
  {
   "cell_type": "markdown",
   "metadata": {},
   "source": [
    "Health Inspections are conducted by local governments in order to assess resturants and ensure safe practices are being executed in order to maintain public health. This can be a difficult process, as many departments have a small number of inspectors and thousands of establishments to carefully assess each year.\n",
    "\n",
    "Some attempts at establishing a predictive model for high-risk establishment have been made with some success. One model used data from health inspections conducted in New York City from 2011-2014. This model found correlational relationships between the types of violations and probability of future violations, as well as the culture of the establishment (American, Chinese, Italian, etc) bring an important factor in considering risk of future violations (1).\n",
    "\n",
    "Another model, created for the Chicago health inspection department, built a predictive model to better efficiently assign inspectors to establishments to find violations about 7.5 days faster than without a model. This model relied on several categories, including previous scores and nearby complaints, to assess resturant risks (2).\n",
    "\n",
    "References (include links):\n",
    "- 1)https://harvarddatasciencerestaurantinspections.wordpress.com/\n",
    "- 2)https://www.citylab.com/solutions/2016/01/chicago-is-predicting-food-safety-violations-why-arent-other-cities/422511/"
   ]
  },
  {
   "cell_type": "markdown",
   "metadata": {},
   "source": [
    "# Hypothesis\n"
   ]
  },
  {
   "cell_type": "markdown",
   "metadata": {},
   "source": [
    "There is a way to create a predictive model to more accurately predict resturants more at risk for health violations in order to more efficiently dedicate LA County health inspection resources.\n",
    "\n",
    "There have been successful models in the past that have improved prediction for both New York City and Chicago. I believe that it is also possible to create a working model for Los Angelos, building upon those previous models."
   ]
  },
  {
   "cell_type": "markdown",
   "metadata": {},
   "source": [
    "# Data"
   ]
  },
  {
   "cell_type": "markdown",
   "metadata": {},
   "source": [
    "An ideal dataset would come from a reliable source, preferably from the department records, and recorded by health inspectors during their inspections where applicable.\n",
    "\n",
    "The variables would include: name of the establishment, date of inspection, all categories which a violation was present (food handling, temperature violations, etc), time from previous inspection, type of food served, number of employees, years in business, social media ratings, average price on menu, among others depending on what best fits for the model.\n",
    "\n",
    "The ideal number of observations would be, for a sample, around 10,000 observations over a period of 5 years for the approximately 30,000 or so establishments in LA County.\n",
    "\n",
    "The data should be stored in a tidy-data format such as an XML or CSV file, where each variable is in a single column and each establishment is shown by a single row, with multiple tables joined together by an identifier number column where every establishment has a unique identifier."
   ]
  },
  {
   "cell_type": "markdown",
   "metadata": {},
   "source": [
    "# Ethics & Privacy"
   ]
  },
  {
   "cell_type": "markdown",
   "metadata": {},
   "source": [
    "The data provided by the LA County Department of Public Health is publicly available, as well as review scores on sites such as Yelp. To protect the privacy of individual establishments, the data provided by this model will not be publicly available, only to the LA County Department of Public Health would this data be released to. As this data was collected by humans during in-person inspections, there is the potential for bias, such as an inspector giving resturaunts owned by one of a certain race lower scores than onwers of another race. As this data will not become publicly available, for use solely by the LA County health inspectors, there is little to no risk for equitable impact or risk of loss of privacy for establishments and their employees/customers. \n",
    "To handle the risk of any privacy violations, only the scores each establishment receives will be available to the health inspectors as well as the corresponding names. This should ensure that only the creators and analyzers of the model and its results know why establishments receive their scores and not release that information to the public, only the letter grade they receive from health inspectors."
   ]
  }
 ],
 "metadata": {
  "kernelspec": {
   "display_name": "Python 3",
   "language": "python",
   "name": "python3"
  },
  "language_info": {
   "codemirror_mode": {
    "name": "ipython",
    "version": 3
   },
   "file_extension": ".py",
   "mimetype": "text/x-python",
   "name": "python",
   "nbconvert_exporter": "python",
   "pygments_lexer": "ipython3",
   "version": "3.6.7"
  }
 },
 "nbformat": 4,
 "nbformat_minor": 2
}
