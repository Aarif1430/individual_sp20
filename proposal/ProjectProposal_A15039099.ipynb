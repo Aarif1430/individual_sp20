{
 "cells": [
  {
   "cell_type": "markdown",
   "metadata": {},
   "source": [
    "# COGS 108 - Project Proposal"
   ]
  },
  {
   "cell_type": "markdown",
   "metadata": {},
   "source": [
    "# Names & PID\n",
    "\n",
    "- Name: Andrew Auh\n",
    "- PID: A15039099"
   ]
  },
  {
   "cell_type": "markdown",
   "metadata": {},
   "source": [
    "# Research Question"
   ]
  },
  {
   "cell_type": "markdown",
   "metadata": {},
   "source": [
    "*Is there a relationship between timing of health inspections and the score they receive?\n",
    "Is there a relationship between timing of health inspections in a given month and how many inspections are performed during that time?*"
   ]
  },
  {
   "cell_type": "markdown",
   "metadata": {},
   "source": [
    "## Background and Prior Work"
   ]
  },
  {
   "cell_type": "markdown",
   "metadata": {},
   "source": [
    "*Food inspections in the Los Angeles County are freely available to see [online](https://ehservices.publichealth.lacounty.gov/ezsearch). The LA County Public Health Department also has [sample food inspections reports](http://publichealth.lacounty.gov/eh/DSE/RetailFoodInsection/desfood.htm) that detail the process inspectors undergo. These two pieces of information will help guide my understanding of the process and how the scores are generated for each food establishment. It is also important to note that while food inspections have requirements per year, the timing of these visits are supposed to be random. The research question is asking if there are additional correlations we can draw from the data that can lead to a analysis of their timing & if it is effective.*\n",
    "\n",
    "*A research has been done in LA county health inspections before, except [this one](https://towardsdatascience.com/famished-on-the-freeway-visualizing-mapping-la-restaurant-inspections-cb6bc8338111) focuses on mapping locations in LA using inspection scores. This research shows how the dataset can be used and manipulated, especially with the inspection score (which is part of the research question that needs to be answered. This other [research](https://towardsdatascience.com/visual-communication-4f674699cb69), through the various  shows that, it seems that there isn't a specific patterns in inspections being carried out, but there could be some inequalities just from mere inspection of the data. This proves to be promising in finding something interesting about the data.*"
   ]
  },
  {
   "cell_type": "markdown",
   "metadata": {},
   "source": [
    "# Hypothesis\n"
   ]
  },
  {
   "cell_type": "markdown",
   "metadata": {},
   "source": [
    "*There is a correlation between health inspection timing and the score they receive in that a lower score will warrant more inspections. There is also a relationship between timing of health inspections during a month and how many inspections they have in that certain months will have a significantly larger amount of inspections.*\n",
    "\n",
    "Rationale: Lower scores probably might signal that they need more frequenct inspections. Different months have different peaks for factors like tourism, traveling, school break, etc. so there will be probably be more inspections in active months like January, June, July, etc."
   ]
  },
  {
   "cell_type": "markdown",
   "metadata": {},
   "source": [
    "# Data"
   ]
  },
  {
   "cell_type": "markdown",
   "metadata": {},
   "source": [
    "*The ideal dataset that I would want to have would need to include the following:*\n",
    "\n",
    "- Variables: Inspection Score, Date of Inspection, Restaurant Identifier, Location (in this case, Los Angeles County is specific enough), and any other relevant data that could potentially point towards relationships (besides any identifying data)\n",
    "- Date of Inspection, Location and Identifier should be in their respective format (string, string, and nnumber), the inspection score should be a string (\"A\", \"B\", ...) that will be converted to a numeric value\n",
    "- This data should be readily accessible as this data is public and freely available to everyone"
   ]
  },
  {
   "cell_type": "markdown",
   "metadata": {},
   "source": [
    "# Ethics & Privacy"
   ]
  },
  {
   "cell_type": "markdown",
   "metadata": {},
   "source": [
    "*The data used in this study is publicly accessible by the city, and is able to be used on studies, so there will be no issues with using the data. In terms of the project, because the scope captures health inspections and not the actual restaurants themselves, any identifying informaton for the actual establishments will not be necessary and should be removed for the sake of privacy.*\n",
    "\n",
    "*The biases that happen with the data is the fact that there are classifications to what is being included as a restaurant that needs inspection. For example, many cities feature food options that aren't actual buildings or restaurants (local food stands, fundraisers, etc.), so the data is biased towards those specific buildings that are mandated to be restaurants. The rest of the biases are the biases the city has itself. For example, I will expect to see more clusters of inspections in more affluent neighborhoods because there will likely be more restaurants.*\n",
    "\n",
    "*To handle the issues I have identified, I would need to do some data consolidation. I would trim the data down to the variables I listed above in the \"Data\" section and exclude any variables that include identifying information. The location variable will only be used to cut out any non-LA County inspections should the data come with other city data as well. The identifier number will only be used to group multiple inspections for one particular establishment, but the data visualizations should not have a way of identifying the estbalishment itself. To tackle the city biases, the answer will need to be framed in terms of only restaurants that go through health inspections, and not generalized towards all food establishments in the city.*"
   ]
  }
 ],
 "metadata": {
  "kernelspec": {
   "display_name": "Python 3",
   "language": "python",
   "name": "python3"
  },
  "language_info": {
   "codemirror_mode": {
    "name": "ipython",
    "version": 3
   },
   "file_extension": ".py",
   "mimetype": "text/x-python",
   "name": "python",
   "nbconvert_exporter": "python",
   "pygments_lexer": "ipython3",
   "version": "3.6.7"
  }
 },
 "nbformat": 4,
 "nbformat_minor": 2
}
