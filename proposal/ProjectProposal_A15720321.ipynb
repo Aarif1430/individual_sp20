{
 "cells": [
  {
   "cell_type": "markdown",
   "metadata": {},
   "source": [
    "# COGS 108 - Project Proposal"
   ]
  },
  {
   "cell_type": "markdown",
   "metadata": {},
   "source": [
    "# Names & PID\n",
    "\n",
    "- Name: Fransisca Olivia Sudjati\n",
    "- PID: A15720321"
   ]
  },
  {
   "cell_type": "markdown",
   "metadata": {},
   "source": [
    "# Research Question"
   ]
  },
  {
   "cell_type": "markdown",
   "metadata": {},
   "source": [
    "Does the type of cuisine served in restaurants in San Francisco affect its health inspection score? What changes can be made in the health inspection process to absolve any biases, if any?"
   ]
  },
  {
   "cell_type": "markdown",
   "metadata": {},
   "source": [
    "## Background and Prior Work"
   ]
  },
  {
   "cell_type": "markdown",
   "metadata": {},
   "source": [
    "The United States is often described as a melting pot of different cultures, and it is no surprise that there is an increasing amount of restaurant establishments serving different types of international cuisines. Although popular, according to this study published in 2015, ethnic restaurants have higher rates of critical regulatory violations compared to restaurants run by non-ethnic groups (4). \n",
    "\n",
    "The Department of Health in San Francisco rates restaurants on a scale of 1-100, where a score of 70 or less typically indicates multiple high-risk violations observed. Operating condition will be classfied as good, adequate, or needs improvement (1). Although progress has been made in reducing food safety risks and restaurant sanitation, foodborne illnesses is still an issue in the U.S. 1 in 6 Americans (around 48 million people) suffering from foodborne illnesses annually, 128,000 cases leads to hospitalization, and 3,000 leads to death (2).\n",
    "\n",
    "Since health inspection score is an important measure of how safe and sanitary a restaurant is, it is worth finding out why ethnic restaurants, on average, get lower scores. Is it perhaps because some of these cuisines include a lot of these international dishes are cooked in a different way than American food, or there are ingredients that require a lot of processing before it is safe to consume? Are these establishments centralized within a location where the average health inspection score tend to be lower? Is there a certain price range threshold where the health inspection score improves? Or is the health inspection procedure simply skewed to give lower scores for non-American cuisines, and if so, what changes can be made to the procedure to absolve these biases?\n",
    "\n",
    "Health inspection procedures vary by counties, and the studies referenced below are regarding health inspections in San Francisco, so that is where I will be focusing my project on. I am also only focusing on restaurant establishments, not including food trucks, as food trucks have a different inspection procedure.\n",
    "\n",
    "References (include links):\n",
    "- 1) [Reference Guide for The Food Official Inspection Report in San Francisco](http://www.publichealth.lacounty.gov/EH/docs/RefGuideFoodInspectionReport.pdf)\n",
    "- 2) [Number of foodborne illnesses in the U.S](https://www.cdc.gov/foodborneburden/2011-foodborne-estimates.html)\n",
    "- 3) [Examining restaurant sanitation scores across cuisines in San Francisco, 2015](https://repository.usfca.edu/cgi/viewcontent.cgi?article=1195&context=capstone)\n",
    "- 4) [Food safety inspections results: A comparison of ethnic-operated restaurants to non-ethnic-operated restaurants, 2015](https://www.researchgate.net/publication/273400616_Food_safety_inspections_results_A_comparison_of_ethnic-operated_restaurants_to_non-ethnic-operated_restaurants)"
   ]
  },
  {
   "cell_type": "markdown",
   "metadata": {},
   "source": [
    "# Hypothesis\n"
   ]
  },
  {
   "cell_type": "markdown",
   "metadata": {},
   "source": [
    "I will be doing a one-sided hypothesis testing, where the null hypothesis is that there are no statistically significant difference in how ethnic cuisines and non-ethnic cuisines score in health inspections. The alternative hypothesis is that there does exist a statistically significant difference in how ethic restaurant scores, that they on average do score less than non-ethnic restaurants. \n",
    "\n",
    "$$ H0: \\mu_{x} = \\mu_{y} $$\n",
    "$$ H1: \\mu_{x} < \\mu_{y} $$\n",
    "\n",
    "$ \\mu_{x} $ represents the average health inspection score of ethnic restaurants, $ \\mu_{y} $ represents the average health inspection score of non-ethnic restaurants.\n",
    "\n",
    "I formed this hypothesis because the null always assumes no relationship between the parameters, but my own prediction is that there is a disparity between the scores of ethnic vs. non-ethnic restaurants, because there are many variables that could affect this. Probability wise, I think that it is more likely for at least one of these variables to be statistically significant."
   ]
  },
  {
   "cell_type": "markdown",
   "metadata": {},
   "source": [
    "# Data\n",
    "\n",
    "The ideal dataset that I would want is several years worth health inspection data from the San Francisco Department of Health. Variables will be the type of the cuisine, the health inspection score, the price-range, and the zipcode of the establishment. Data would be ideally collected by the San Francisco Department of Health. Since I am looking at several years worth of data I think a sample size of about 80 would be enough, and we're not training any data so the sample size doesn't have to be very big. Data stored as CSV files would be nice since it's generally easier to clean than text of PDF files and it's what I have most experience with."
   ]
  },
  {
   "cell_type": "markdown",
   "metadata": {},
   "source": [
    "# Ethics & Privacy"
   ]
  },
  {
   "cell_type": "markdown",
   "metadata": {},
   "source": [
    "All health inspection data is sourced from the San Francisco Department of Health and is already available to the public without restrictions. The establishments are aware that the data is available online (including location), so there is no concern of breaching privacy. I believe that the question I'm asking is relatively well-posed, and my intention is to find any biases, if any, and what can be done to improve the current system. I believe that performing this analysis and its result will not harm anyone."
   ]
  }
 ],
 "metadata": {
  "kernelspec": {
   "display_name": "Python 3",
   "language": "python",
   "name": "python3"
  },
  "language_info": {
   "codemirror_mode": {
    "name": "ipython",
    "version": 3
   },
   "file_extension": ".py",
   "mimetype": "text/x-python",
   "name": "python",
   "nbconvert_exporter": "python",
   "pygments_lexer": "ipython3",
   "version": "3.6.7"
  }
 },
 "nbformat": 4,
 "nbformat_minor": 2
}
