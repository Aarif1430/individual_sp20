{
 "cells": [
  {
   "cell_type": "markdown",
   "metadata": {},
   "source": [
    "# COGS 108 - Project Proposal"
   ]
  },
  {
   "cell_type": "markdown",
   "metadata": {},
   "source": [
    "# Names & PID\n",
    "\n",
    "- Name: Haein Chung\n",
    "- PID: A13030667"
   ]
  },
  {
   "cell_type": "markdown",
   "metadata": {},
   "source": [
    "# Research Question"
   ]
  },
  {
   "cell_type": "markdown",
   "metadata": {},
   "source": [
    "When compared with resturaunts in a given area overall, do Asian resturaunts tend to receive worse heath inspection scores?  "
   ]
  },
  {
   "cell_type": "markdown",
   "metadata": {},
   "source": [
    "## Background and Prior Work"
   ]
  },
  {
   "cell_type": "markdown",
   "metadata": {},
   "source": [
    "I have frequently heard it said that certain types of resturaunts are \"dirtier\", with the implication that they are consequently worth less.  I feel that to some degree, negative racial bias plays a part in this.  Therefore, I would like to investigate whether actual health inspection scores achieved by various ethnic resturaunts actually supports these assumptions.\n",
    "\n",
    "References (include links):\n",
    "- 1)https://www.vice.com/en_us/article/4ag37q/coronavirus-fears-are-reviving-racist-ideas-about-chinese-food  This article covers the more timely reasons why I am interested in this topic.  I know in my home county of Orange County, as well as in Los Angeles County, many Chinese businesses are suffering under stigma that they are dirty due to the corona virus's origins reinforcing the idea that their working conditions are less sterile.  Similarly, I know from the Korean communities that I am a part of that Korean businesses are suffering under the stigma as well, simply by being Asian as well.\n",
    "- 2)https://blog.lareviewofbooks.org/essays/asian-food-become-dirty/  This article covers the common misconceptions about Asian food, and consequently, Asian resturaunts, as \"dirty\".  Of particular interest to me is that the author highlights unfamiliarity with aspects of the cuisine as one of the main standards for assuming that certain things about it are dirtier.\n",
    "- 3)https://www.sciencedirect.com/science/article/abs/pii/S0956713513005677 While I would like to find data on Asian American resturaunts, this above study covers food hygiene practices in three European cities-- coming to the conclusion that regardless of ethnic background, the average level of food hygiene awareness remained about the same.\n",
    "- 4)https://www.sciencedirect.com/science/article/abs/pii/S0956713512000849 This article focuses on consumer perception of food hygiene in American resturaunts, specifically comparing consumer's confidence in the food hygiene of Mexican vs Asian resturaunts, and their bases for these assumptions.  Generally, consumers had less confidence in Asian resturaunts then Mexican resturaunts."
   ]
  },
  {
   "cell_type": "markdown",
   "metadata": {},
   "source": [
    "# Hypothesis\n"
   ]
  },
  {
   "cell_type": "markdown",
   "metadata": {},
   "source": [
    "My hypothesis is that, while consumers themselves tend to assume poorer hygiene from Asian American eating establishments, the actual health inspection scores they achieve will be relatively consistent with the average health inspection scores in a given area, as opposed to lower.  This is primarily based on sources 3 & 4 in the above, where it has been proven that, at least in Europe, health inspection scores are fairly consistent regardless of a resturaunt's ethnic specialization; meanwhile surveyed Americans assume poorer health standards of Asian resturaunts in particular."
   ]
  },
  {
   "cell_type": "markdown",
   "metadata": {},
   "source": [
    "# Data"
   ]
  },
  {
   "cell_type": "markdown",
   "metadata": {},
   "source": [
    "I would like my data to focus on health inspection ratings of Asian American resturaunts from the Los Angeles and Orange County areas of California, which I am familiar with. Ideally, I would be able to find enough information from one county to narrow down my scope further-- I assume I will have the most luck with this searching for data from Los Angeles County.\n",
    "\n",
    "I would like to find some survey of customer expectations for hygiene from resturaunts in these areas, so that I may compare it with the actual scores achieved.  \n",
    "\n",
    "Additionally, while I am not familiar with the scoring procedure for health inspections in California, I would like to find data covering individual scores in various criteria of the health inspections, to search for any trends (i.e. do some resturaunts perform better in some areas, while underperforming in others).\n",
    "\n",
    "I believe it would be best if I could have averages of scores for all resturaunts in a general area, and then from there compare with the individual averages of specific cuisines.  Off of the top of my head, I would like to find data on Taiwanese, Korean, Chinese, Vietnamese, and Japanese resturaunts, but upon looking at the data available this may have to change.  I am not sure how to handle the certainty that there will be, for example, a much larger pool of data for Japanese resturaunts as opposed to Taiwanese resturaunts and hope to discuss this with a TA at some point in time.\n"
   ]
  },
  {
   "cell_type": "markdown",
   "metadata": {},
   "source": [
    "# Ethics & Privacy"
   ]
  },
  {
   "cell_type": "markdown",
   "metadata": {},
   "source": [
    "Considering that this is a research project partially concerning racial biases, I will have to be cautious around my own biases when analyzing the data given.  While I would like for racial biases to prove untrue myself, I will have to be prepared to accept the outcomes of my research and present the data in an impartial fashion.  Additionally, I will have to be on the lookout for other potential influences on my data that could cause it to either affirm or deny existing racial biases concerning Asian resturaunts.\n",
    "\n",
    "In particular, an outside factor that I am concerned about, and do not know if I should be accounting for, is potential prejudice in health inspectors themselves influencing the outcomes of hygiene inspections.  Whether the grading criteria accomodate potential bias or not is something I will have to look into once I obtain a deeper understanding of the inspection process.\n",
    "\n",
    "Additionally, I am not sure if the specifics of a score are publically accessible data, or if they are publishable in a school project.  I am at least certain that the achieved score of a resturaunt is open to public, as it is frequently displayed on a sign in eating establishments."
   ]
  }
 ],
 "metadata": {
  "kernelspec": {
   "display_name": "Python 3",
   "language": "python",
   "name": "python3"
  },
  "language_info": {
   "codemirror_mode": {
    "name": "ipython",
    "version": 3
   },
   "file_extension": ".py",
   "mimetype": "text/x-python",
   "name": "python",
   "nbconvert_exporter": "python",
   "pygments_lexer": "ipython3",
   "version": "3.6.7"
  }
 },
 "nbformat": 4,
 "nbformat_minor": 2
}
