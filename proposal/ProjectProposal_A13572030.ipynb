{
 "cells": [
  {
   "cell_type": "markdown",
   "metadata": {},
   "source": [
    "# COGS 108 - Project Proposal"
   ]
  },
  {
   "cell_type": "markdown",
   "metadata": {},
   "source": [
    "# Names & PID\n",
    "\n",
    "- Name: Nancy Vuong\n",
    "- PID: A13572030"
   ]
  },
  {
   "cell_type": "markdown",
   "metadata": {},
   "source": [
    "# Research Question"
   ]
  },
  {
   "cell_type": "markdown",
   "metadata": {},
   "source": [
    "How does a restaurant's location determine how it does on its health inspection check?/Are there neighborhood disparities in access to less health hazardous restaurants?"
   ]
  },
  {
   "cell_type": "markdown",
   "metadata": {},
   "source": [
    "## Background and Prior Work"
   ]
  },
  {
   "cell_type": "markdown",
   "metadata": {},
   "source": [
    "In 2014, a consumer report surverying 1003 people about their restaurant complaints. The most common complaints about eating at restaurants people had were hygeine related, such as having \"dirty utensils and tables\", \"dirty or ill-equiped bathrooms\", or having \"servers with sloppy appearance and poor hygiene\". All of these reasons are also health violations according to the California Retail Food Code, for obvious reasons.\n",
    "\n",
    "Growing up in a low-income urban environment in Oakland, California, a lot of the popular restaurants and eateries amongst the locals do not have questionable and often-times, unsanitary eating areas. Many low income neighborhoods are already food deserts with limited access to healthy food so I was wondering if it is the same case with access to more sanitary eateries.\n",
    "\n",
    "References (include links):\n",
    "- 1) Consumer Report https://www.consumerreports.org/cro/magazine/2014/08/most-common-restaurant-complaints/index.htm\n",
    "- 2) California Retail Food Code https://probationwebportalt.acgov.org/aceh/food/CaliforniaRetailFoodCode2018.pdf\n",
    "- 3) Alameda County Restaurant Grading System https://probationwebportalt.acgov.org/aceh/documents/NewsRelease-Grading2012-06-28.pdf\n",
    "- 4) Alameda Food Inspection Results http://ehgone.acgov.org/inspection/results/#/Home/undefined/[aeab441a0]\n",
    "- 5) Study on Food Deserts https://escholarship.org/uc/item/0s78j9g2"
   ]
  },
  {
   "cell_type": "markdown",
   "metadata": {},
   "source": [
    "# Hypothesis\n"
   ]
  },
  {
   "cell_type": "markdown",
   "metadata": {},
   "source": [
    "Low income neighborhoods do have less access to more sanitary restaurants."
   ]
  },
  {
   "cell_type": "markdown",
   "metadata": {},
   "source": [
    "# Data"
   ]
  },
  {
   "cell_type": "markdown",
   "metadata": {},
   "source": [
    "I would like to have census tract of an area/region classified by zip code and another file that contains the average income (preferably in numbers instead of string though I don't mind cleaning it) of a zip code area so I can combine those two and apply some spatial analysis techniques on them. I would also like a (csv) file of all the restaurants in the area with their health inspection performance."
   ]
  },
  {
   "cell_type": "markdown",
   "metadata": {},
   "source": [
    "# Ethics & Privacy"
   ]
  },
  {
   "cell_type": "markdown",
   "metadata": {},
   "source": [
    "I will not be presenting the actual names of any restaurants and businesses to avoid defamation and slandering of them. If needed, I will only refer to specific restaurants by a unique ID I will give them. Collecting data will not violate any privacy concerns because counties (at least Alameda does) publically publish their health inspection results."
   ]
  },
  {
   "cell_type": "code",
   "execution_count": null,
   "metadata": {},
   "outputs": [],
   "source": []
  }
 ],
 "metadata": {
  "kernelspec": {
   "display_name": "Python 3",
   "language": "python",
   "name": "python3"
  },
  "language_info": {
   "codemirror_mode": {
    "name": "ipython",
    "version": 3
   },
   "file_extension": ".py",
   "mimetype": "text/x-python",
   "name": "python",
   "nbconvert_exporter": "python",
   "pygments_lexer": "ipython3",
   "version": "3.6.7"
  }
 },
 "nbformat": 4,
 "nbformat_minor": 2
}
