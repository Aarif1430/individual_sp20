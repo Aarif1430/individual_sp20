{
 "cells": [
  {
   "cell_type": "markdown",
   "metadata": {},
   "source": [
    "# COGS 108 - Project Proposal"
   ]
  },
  {
   "cell_type": "markdown",
   "metadata": {},
   "source": [
    "# Names & PID\n",
    "\n",
    "- Name: Mazin Abubeker\n",
    "- PID: A13517916"
   ]
  },
  {
   "cell_type": "markdown",
   "metadata": {},
   "source": [
    "# Research Question"
   ]
  },
  {
   "cell_type": "markdown",
   "metadata": {},
   "source": [
    "Question:\n",
    "\n",
    "Does the implementation of the ABC grade-card inspection system in a given county result in a lower number of reported foodborne illnesses contracted by restaurants in that county?"
   ]
  },
  {
   "cell_type": "markdown",
   "metadata": {},
   "source": [
    "## Background and Prior Work"
   ]
  },
  {
   "cell_type": "markdown",
   "metadata": {},
   "source": [
    "1)\n",
    "\n",
    "The Orange Country grand jury has decided in 2007-2008 that although the Orange County Health Care Agency performs thorough health inspections in the restaurants in Orange County, the level to which this is reported to the public is almost nonexistent. Supposedly, only a small percentage of the population would know of (or have the time to) research the inspection results posted on Orange County's food safety page (http://www.ocfoodinfo.com/). This raises the potential of the benefit of implementing the ABC grade-card inspection system, just as much of California has already implemented. ABC grade-card inspection systems have supposedly dramatically decreased the number of reported foodborne illnesses, while also encouraging the restaurants to clean up their locations in an effort to attract more customers.\n",
    "\n",
    "The implementation of this system has actually encouraged restaurants to clean up in order to increase their score to attract more attention, and even encouranged some to close down because of such a low score given, leading to a lack of customers. Of course, there are certain critical violations that, if occur, will lead to the closure of the restaurant regardless of their score.\n",
    "\n",
    "Reference: http://www.ocgrandjury.org/pdfs/restaurant-inspections/restaurant.pdf\n",
    "\n",
    "2)\n",
    "\n",
    "The process behind the ABC grade-card inspection system is quite simple. When a health inspector performs a thorough check (through a checklist of certain violations) of a restaurant, a score is given to the restaurant denoting it's cleanliness. An inspection is performed three times a year, ranging from 90 minutes to half a day. The score given ranges from 0 to 100. There are 4 grade-cards that correspond to these scores:\n",
    "\n",
    "A: 90-100 (generally superior cleanliness)\n",
    "\n",
    "B: 80 - 89 (generally good cleanliness)\n",
    "\n",
    "C: 70 - 79 (generally acceptable cleanliness)\n",
    "\n",
    "Score: 0 - 69\n",
    "\n",
    "\n",
    "This card must be displayed to the public at all times to the customer within the store. A, B, and C cards are displayed as a letter on the card, but a score of 0-69 will display the number score itself that the restaurant received. This leaves it up to the customer in deciding how much they want to risk the cleanliness of the food to dine at that restaurant. This also encourages the restaurant owner to either bring up their cleanliness standards to receieve a better score (in order to attract more customers), or even consider shutting down their restaurant.\n",
    "\n",
    "\n",
    "Reference: http://publichealth.lacounty.gov/eh/misc/ehpost.htm"
   ]
  },
  {
   "cell_type": "markdown",
   "metadata": {},
   "source": [
    "# Hypothesis\n"
   ]
  },
  {
   "cell_type": "markdown",
   "metadata": {},
   "source": [
    "I believe that the implementation of the ABC grade-card inspection system in a given county would indeed decrease the number of foodborne ilnesses reported dramatically. Firstly, I believe this would occur because the ABC grade-card system requires the reported grade be displayed at the restaurant in plain sight to all customers at all times. This would drive weary customers away from lower scoring restaurants, which are more likely to serve food that would cause a foodborne illness. Secondly, I believe that restaurants would feel inclined to dramatically improve the cleanliness of their restaurant now that their cleanliness is associated a score that is publicly displayed 24 hours a day. Restaurants will realize that the traffic they get in their establishment will correlate with their cleanliness score, and that they will lose lots of money if they dont improve their cleanliness in time for the next inspection. Additionally, some restaurants may even feel inclined to close down with a score that is too low, because no customers will want to come to the restaurant. This will eradicate a restaurant that has a high chance of giving foodborne illnesses to it's customers, decreasing the overall chance of foodborne illness to be contracted."
   ]
  },
  {
   "cell_type": "markdown",
   "metadata": {},
   "source": [
    "# Data"
   ]
  },
  {
   "cell_type": "markdown",
   "metadata": {},
   "source": [
    "The ideal data set would consist of observations that associate with each individual restaurant in a county. Each row would be a restaurant, and the columns may include variables such as \"Does/does not implement ABC grade-card system\", number of reported food illnesses, average volume of traffic within a timeframe (maybe a month or year), overall customer satisfaction, overall cleanliness score (regardless of scoring system).\n",
    "\n",
    "Maybe adding another variable for what county (or more specifically, what health agency) that the restaurant belongs to would very much help with grouping restaurants in the same agency, for consistency of data analysis.\n",
    "\n",
    "To provide a relatively sound analysis, I would need preferably hundreds (or even thousands) of restaurants. Each region can be self contained, which would allow me to not worry about cross-regional biases."
   ]
  },
  {
   "cell_type": "markdown",
   "metadata": {},
   "source": [
    "# Ethics & Privacy"
   ]
  },
  {
   "cell_type": "markdown",
   "metadata": {},
   "source": [
    "Potential ethical and privacy concerns may include:\n",
    "\n",
    "- What cleanliness scores/data that are publicly available\n",
    "- Bias in the health inspection agency that performed the health inspection (some may be more thorough or strict than others)\n",
    "- The ethical concern of the impact on restaurants/counties that do not currently use the ABC grade-card system (certain regions or restaurants may see a decline in traffic, leading to less revenue and possibly jobs being lost)\n",
    "- The ethical concern of not implementing the ABC grade-card system involves causing foodborne illnesses to people that could have avoided it by not eating at low-scoring restaurants\n",
    "- A bias may include the population that generally eats at a restaurant (potentially an ethnicity-driven bias, where some ethnicities may be genetically more tolerant towards certain foods/cooking styles than others)\n",
    "- Many people may not report their foodborne illness, or may confuse it with something they ate at another place\n",
    "\n",
    "In terms of handling these issues, firstly, the cleanliness scores for restaurants should always be made public for the safety of our society. I don't think that privacy of a cleanliness score should be a concern to a restaurant - and if it does, then that is an issue in and of itself.\n",
    "\n",
    "The health inspection agencies must surely be equitable in their thoroughness and strictness, as to provide with a fair score that is on the same playing field as other counties/restaurants. This can be confirmed by maybe grouping together restaurants in the same county (which are all inspected by the same health agency), and analyzing the data of each group seperately as to not cross biases in grading techniques.\n",
    "\n",
    "There is some ethical concern with implementing the ABC grade-card system, because it has previously resulted in the termination of restaurants, leading to the termination of jobs for people that worked there. This is a big concern, but the safety of the people eating at the restaurants are at stake. Maybe this can be addressed by encouraging a health system that wants restaurants to succeed, and encourages them to clean up their workspace rather than shutting down - potentially implementing an agency that helps with increasing cleanliness scores for these locations.\n",
    "\n",
    "A bias that is kind of obscure, but may potentially exist, is the idea that a restaurant that serves ethnically-specific food may cook in a certain way (or serve a certain type of food) that only negatively affects certain ethnic populations. The variation in ethnicities that come to the restaurant would effect the number of foodborne illnesses reported. This could be addressed by simply asserting that any publicly served food must be considered safe for people of all ethnicities, and taking the data as is.\n",
    "\n",
    "Finally, one large bias that is prevalent is the fact that some people may not report their foodborne illness, or may falsely report a foodborne illness. We cannot know for sure who was sick at all times, only the reported sicknesses - so I think by forming my question around \"reported\" sicknesses, a more accurate sentiment can be achieved. In addition, I believe that falsely reported restaurants (maybe if someone ate at restaurant A and restaurant B, contracted food poisoning from A but reported it as B), these false reports would balance out with eachother, since there seems to be no correllation with the order of restaurants visited, and people often notice their symptoms soon after eating from that restaurant."
   ]
  }
 ],
 "metadata": {
  "kernelspec": {
   "display_name": "Python 3",
   "language": "python",
   "name": "python3"
  },
  "language_info": {
   "codemirror_mode": {
    "name": "ipython",
    "version": 3
   },
   "file_extension": ".py",
   "mimetype": "text/x-python",
   "name": "python",
   "nbconvert_exporter": "python",
   "pygments_lexer": "ipython3",
   "version": "3.6.7"
  }
 },
 "nbformat": 4,
 "nbformat_minor": 2
}
