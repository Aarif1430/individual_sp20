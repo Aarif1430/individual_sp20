{
 "cells": [
  {
   "cell_type": "markdown",
   "metadata": {},
   "source": [
    "# COGS 108 - Project Proposal"
   ]
  },
  {
   "cell_type": "raw",
   "metadata": {},
   "source": [
    "# Names & PID\n",
    "\n",
    "- Name: Runchu Xu\n",
    "- PID: A15437260"
   ]
  },
  {
   "cell_type": "markdown",
   "metadata": {},
   "source": [
    "# Research Question"
   ]
  },
  {
   "cell_type": "markdown",
   "metadata": {},
   "source": [
    "How accurate does current health inspection measures the food safety of restaurants?"
   ]
  },
  {
   "cell_type": "markdown",
   "metadata": {},
   "source": [
    "## Background and Prior Work"
   ]
  },
  {
   "cell_type": "markdown",
   "metadata": {},
   "source": [
    "\"The exact proportion of restaurant-attributable foodborne illness is unknown, but national surveillance in the United States found that two thirds of reported foodborne outbreaks from 1998 through 2008 occurred in the restaurant or deli setting, and consumption of food prepared outside the home has been linked to an increased risk of sporadic foodborne diseases.\" Therefore, it is important to accurately measure a restaurant's food safety in the process of health inspection. This research aims to find how accurate current health inspection measures the food safety of restaurant, to The level of food safety will be measured by the number of food illness per month. \n",
    "\n",
    "References (include links):\n",
    "- 1)Wong, M. R., McKelvey, W., Ito, K., Schiff, C., Jacobson, J. B., & Kass, D. (2015). Impact of a letter-grade program on restaurant sanitary conditions and diner behavior in New York City. American journal of public health, 105(3), e81–e87. https://doi.org/10.2105/AJPH.2014.302404"
   ]
  },
  {
   "cell_type": "markdown",
   "metadata": {},
   "source": [
    "# Hypothesis\n"
   ]
  },
  {
   "cell_type": "markdown",
   "metadata": {},
   "source": [
    "Grade of inspection is directly proportional to the number of food illness per month."
   ]
  },
  {
   "cell_type": "markdown",
   "metadata": {},
   "source": [
    "# Data"
   ]
  },
  {
   "cell_type": "markdown",
   "metadata": {},
   "source": [
    "*Explain what the ideal dataset you would want to answer this question. (This should include: What variables? How many observations? Who/what/how would these data be collected? How would these data be stored/organized?)*\n",
    "\n",
    "Independent variable: grade of inspection  \n",
    "Dependent variable: number of food illness per month  \n",
    "Controlled variable: restaurant type, location  \n",
    "Observation: 100 for each restaurant type in the same location  \n",
    "Data collected from government reports  \n",
    "Data stored in csv\n"
   ]
  },
  {
   "cell_type": "markdown",
   "metadata": {},
   "source": [
    "# Ethics & Privacy"
   ]
  },
  {
   "cell_type": "markdown",
   "metadata": {},
   "source": [
    "The data is given by the professor, and I have the permission to use it.  \n",
    "The data includes the rating of restaurants which may require the comply of the owners.  \n",
    "The data may be biased based on the personal perference of the examiner."
   ]
  },
  {
   "cell_type": "code",
   "execution_count": null,
   "metadata": {},
   "outputs": [],
   "source": []
  }
 ],
 "metadata": {
  "kernelspec": {
   "display_name": "Python 3",
   "language": "python",
   "name": "python3"
  },
  "language_info": {
   "codemirror_mode": {
    "name": "ipython",
    "version": 3
   },
   "file_extension": ".py",
   "mimetype": "text/x-python",
   "name": "python",
   "nbconvert_exporter": "python",
   "pygments_lexer": "ipython3",
   "version": "3.6.7"
  }
 },
 "nbformat": 4,
 "nbformat_minor": 2
}
