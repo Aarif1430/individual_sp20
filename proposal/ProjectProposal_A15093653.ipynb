{
 "cells": [
  {
   "cell_type": "markdown",
   "metadata": {},
   "source": [
    "# COGS 108 - Project Proposal"
   ]
  },
  {
   "cell_type": "markdown",
   "metadata": {},
   "source": [
    "## Names & PID\n",
    "\n",
    "Name: Joshua Hussong\n",
    "PID: A15093653"
   ]
  },
  {
   "cell_type": "markdown",
   "metadata": {},
   "source": [
    "## Research Question\n",
    "\n",
    "Is there a significant difference in the frequency in which different types of cuisine get inspected?\n",
    "\n",
    "Also to consider\n",
    "\n",
    "Is there a significant difference in the number of complaints that cause food inspections in different types of cuisine?\n",
    "(For example Italian food versus Chinese food versus Mexican food.)"
   ]
  },
  {
   "cell_type": "markdown",
   "metadata": {},
   "source": [
    "## Background and Prior Work\n",
    "\n",
    "The first link is informative on background information regarding food safety, and food inspections. They list out the different establishment types that are inspected. They also informed me more about the different levels of risk within different establishments. The website also discussed different violations and how establishments get shut down. The authors go into further detail discussing the differences between violations, and specific DC food regulations that are required. (https://dchealth.dc.gov/)\n",
    "\n",
    "The second link is less informative and gives more knowledge on how owners of restaurants can prepare for food inspections. They focus on different regulations that the government requires, such as cross-contamination and food safety. They also discuss pests and cleanliness levels required. (https://pos.toasttab.com/blog/on-the-line/restaurant-inspection)\n",
    "\n",
    "I added a third link to give me more specific information regarding my research proposal and question. I noticed that it has been asked and analyzed before, specifically in Philadelphia. I think that this proves that my research question is valid and should be considered in other locations of the country. The article showed chain versus non-chain restaurants and the frequency of violations; however, I want to focus more on style of cuisine. These results showed that chains got less violations per inspection. This is something to consider when analyzing my data to see if I get similar results in my question. (https://www.ncbi.nlm.nih.gov/pmc/articles/PMC5349477/)\n",
    "\n",
    "References (include links):\n",
    "\n",
    "1) https://dchealth.dc.gov/service/understanding-food-establishment-inspections\n",
    "\n",
    "2) https://pos.toasttab.com/blog/on-the-line/restaurant-inspection\n",
    "\n",
    "3) https://www.ncbi.nlm.nih.gov/pmc/articles/PMC5349477/"
   ]
  },
  {
   "cell_type": "markdown",
   "metadata": {},
   "source": [
    "## Hypothesis\n",
    "\n",
    "My hypothesis is that there is a significant difference in the frequency of restaurant inspections between the styles of cuisine. I think this because the style of cuisine will naturally impact the level of risk that the government assigns the restaurant. Also, since food inspections are frequently done because of levels of complaint, I think that some styles of cuisine will cause more complaints, thus causing more frequent inspections."
   ]
  },
  {
   "cell_type": "markdown",
   "metadata": {},
   "source": [
    "## Data\n",
    "\n",
    "The ideal dataset would include the number of food inspections per restaurant across a five-year period. Also, it would include the score they received on the health inspection. The dataset would focus in one specific large city or state to try and account for external variables/factors. I would like there to be at least 300 total restaurants analyzed, and at least 30 of each style of cuisine. (This would help satisfy the Central Limit Theorem). Also, each restaurant minimally should have 10 different health inspections across the five-year period. This would mean on average they had 2 food inspections per year. On average, the health inspectors check restaurants once per 6-month period. If they are getting checked less frequently, I would want to discount them from my analysis. \n",
    "\n",
    "I think that the data should be collected by the health inspectors to reduce bias, also they should electronically store them into a larger database. This should ultimately be saved in some sort of list, array, or table to allow for easy access."
   ]
  },
  {
   "cell_type": "markdown",
   "metadata": {},
   "source": [
    "## Ethics & Privacy\n",
    "\n",
    "The data is released to the public and I should be allowed to run analyses on this freely. The question I am asking focuses on style of food, not race. However, this question could be thought of as focusing on the race; however, I will focus my dataset to not analyze or classify the restaurants by race, instead by style of cuisine. The implications for this could reveal underlying natural bias by the population. I do not think that knowing which restaurant style gets the most food inspections is bad. However, it could be alarming to the general public who do not understand why food inspections occur. To aid this, I will make note of what a food inspection is and why it occurs and label it specifically in my project. There definitely will be reliable data available for different restaurant cuisines and the frequencies of their food inspections. There is no voluntary consent because restaurants are not subjects in this analysis. In order to help with privacy, I will label each restaurant with a code number that is anonymized when I publish the results. This will help keep specific restaurants from being targeted for being \"dirty\". Anonymity when publishing the results should keep the data and participants (restaurants) safe. I will evaluate the project based on if I run the data properly and can get results. I am not biased either way expecting a specific result from this project. Analysis is important and I cannot prove that one specific type of cuisine will cause more food inspections. However, I can find a correlation between different types of cuisine and the frequency of food inspections. My model is transparent, and I will use correlation coefficients and modeling to show relationships between different cuisines and the frequency of health inspections. The results can be refuted by showing different years, restaurants, cities, or another way to prove that in different circumstances there is a different relationship between cuisine and frequency of food inspections.\n",
    "\n",
    "Some issues that I identified can easily be solveable. The data is released to the public, so I can run analysis on it freely. Also, I can avoid bias regarding race by focusing on the style of cuisine, not the race of the owners, or of the restaurant. It is also important to make note of what specifically causes health inspections in restaurants to not alarm the general public. The anonymity should protect restaurants and the model that society holds them to. "
   ]
  }
 ],
 "metadata": {
  "kernelspec": {
   "display_name": "Python 3",
   "language": "python",
   "name": "python3"
  },
  "language_info": {
   "codemirror_mode": {
    "name": "ipython",
    "version": 3
   },
   "file_extension": ".py",
   "mimetype": "text/x-python",
   "name": "python",
   "nbconvert_exporter": "python",
   "pygments_lexer": "ipython3",
   "version": "3.7.0"
  }
 },
 "nbformat": 4,
 "nbformat_minor": 2
}
