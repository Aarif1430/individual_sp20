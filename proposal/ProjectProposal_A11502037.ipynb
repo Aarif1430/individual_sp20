COGS 108 - Project Proposal - Health Inspections

Names & PID
•	Name: Samuel Dossou
•	PID: A11502037

Research Question
How can the frequency and order of health inspections any health 
inspector conducts daily be adjusted to not only improve the inspection 
process but also prevent further food safety violations?

Background and Prior Work

Foodborne illnesses are a serious public health concern as it causes millions
of illnesses, hundreds of thousands of hospitalizations, as well as thousands of deaths each year [1].
That is precisely why restaurant health inspections are crucial to prevent the spread of foodborne illnesses. 
Thus, if a health inspection is done right it can prevent restaurants with multiple food violations from serving bad food. 
Conversely if done improperly it can cause the spread of foodborne illnesses.

First, it is important to note that restaurant health inspections are subject to certain unconscious biases. 
For instance, a study has shown that health inspectors tend to cite fewer violations at each successive establishment
they visited through their days [2]. Another study worth mentioning is a study that shows that more frequent 
health inspections does not necessarily decrease the number of violations in restaurant chain but does decrease the number of 
violations in nonchain restaurants [1]. 

References (include links):
1) https://journals.sagepub.com/doi/full/10.1177/0033354916687741
2) https://hbr.org/2019/05/to-improve-food-inspections-change-the-way-theyre-scheduled

Hypothesis
I expect to see that if we limit the number of health inspections to 2 inspection sites per day for each 
health inspector, as well as order nonchain restaurants to be put as the first inspection during any given day, 
and make nonchain inspections more frequent than chain inspections then we would see less foodborne illness. 

Data
Variable: restaurant id, number of inspection per restaurants, number of violations per inspection,
number of inspection per day per inspector, whether a restaurant is a chain restaurant or nonchain restaurant.

observations: around 6000 observations would be good 

Restaurant ID, number of violations, and whether the restaurant is a chain or nonchain restaurant would be collected 
from the relevant websites where the health inspection is published (usually publically published). 
The other information will be requested to be entered into a databased by the health inspectors after they have
completed their task. From there a tidy data base can be created. 

Ethics & Privacy

Consent will have to be requested from the health inspector, a consent they can withdraw at any time. 
