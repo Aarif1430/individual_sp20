{
 "cells": [
  {
   "cell_type": "markdown",
   "metadata": {},
   "source": [
    "# COGS 108 - Project Proposal"
   ]
  },
  {
   "cell_type": "markdown",
   "metadata": {},
   "source": [
    "# Names & PID\n",
    "\n",
    "- Name: Nicholas Keodara\n",
    "- PID: A13913619"
   ]
  },
  {
   "cell_type": "markdown",
   "metadata": {},
   "source": [
    "# Research Question"
   ]
  },
  {
   "cell_type": "markdown",
   "metadata": {},
   "source": [
    "What would a visualization of a future predicted sea level look like look like? How accurate can the visualization get based on a large dataset of the sea level rising over a long period of time?"
   ]
  },
  {
   "cell_type": "markdown",
   "metadata": {},
   "source": [
    "## Background and Prior Work"
   ]
  },
  {
   "cell_type": "markdown",
   "metadata": {},
   "source": [
    "I am concerned with coastal flooding, as I live in the bay area and go to school here in San Diego. I have found many maps of coastal flooding visualizations, but none that have actual data mapped to them with relation to time. For example,the first reference below just has a slider for sea level increase in feet. I want to take data of the sea level rising, fit it to a curve and make predictions based on the data. With those predictions, I would be able to make a more accurate visualization of the future sea level along the coast. For the second reference, I linked another interactive map that only visualizes sea level increase in distance rather than any sort of prediction based on data.\n",
    "\n",
    "References (include links):\n",
    "- 1)https://coast.noaa.gov/slr/#/layer/slr/10/-11581024.663779823/5095888.569004184/4/satellite/none/0.8/2050/interHigh/midAccretion\n",
    "- 2)https://spiritrushahri.github.io/team17/"
   ]
  },
  {
   "cell_type": "markdown",
   "metadata": {},
   "source": [
    "# Hypothesis\n"
   ]
  },
  {
   "cell_type": "markdown",
   "metadata": {},
   "source": [
    "We will see a fairly accurate model of future sea level, represented by a map of the coastal regions of California flooded. This model will get less and less accurate the further we go into the future."
   ]
  },
  {
   "cell_type": "markdown",
   "metadata": {},
   "source": [
    "# Data"
   ]
  },
  {
   "cell_type": "markdown",
   "metadata": {},
   "source": [
    "An ideal dataset that I would want to answer this question would be one that has sea level, time (dates), measurement of sea level risen from the most recent observation, and rate at which sea level rises based on measures of time frames. There should be at least 500 observations to take into account years of observation as well as the multiple number of observations within a year. These would most likely be collected by a satellite with the ability to calculate the aforementioned variables. The data would most likely be stored in a table of some sort."
   ]
  },
  {
   "cell_type": "markdown",
   "metadata": {},
   "source": [
    "# Ethics & Privacy"
   ]
  },
  {
   "cell_type": "markdown",
   "metadata": {},
   "source": [
    "I would be pulling data from a company that has access to satellite observation adn has allowed this data to be viewed by the public. "
   ]
  }
 ],
 "metadata": {
  "kernelspec": {
   "display_name": "Python 3",
   "language": "python",
   "name": "python3"
  },
  "language_info": {
   "codemirror_mode": {
    "name": "ipython",
    "version": 3
   },
   "file_extension": ".py",
   "mimetype": "text/x-python",
   "name": "python",
   "nbconvert_exporter": "python",
   "pygments_lexer": "ipython3",
   "version": "3.7.1"
  }
 },
 "nbformat": 4,
 "nbformat_minor": 2
}
