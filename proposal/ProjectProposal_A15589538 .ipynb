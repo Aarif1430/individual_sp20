{
 "cells": [
  {
   "cell_type": "markdown",
   "metadata": {},
   "source": [
    "# COGS 108 - Project Proposal"
   ]
  },
  {
   "cell_type": "markdown",
   "metadata": {},
   "source": [
    "# Names & PID\n",
    "\n",
    "- Name: Elise Kim\n",
    "- PID: A15589538"
   ]
  },
  {
   "cell_type": "markdown",
   "metadata": {},
   "source": [
    "# Research Question"
   ]
  },
  {
   "cell_type": "markdown",
   "metadata": {},
   "source": [
    "Is there a correlation between a restaurant's price range and its health inspection rating?"
   ]
  },
  {
   "cell_type": "markdown",
   "metadata": {},
   "source": [
    "## Background and Prior Work"
   ]
  },
  {
   "cell_type": "markdown",
   "metadata": {},
   "source": [
    "   In \"Street Eats, Safe Eats,\" food trucks and carts received the same sanitary ratings and sometimes better than their restaurant counterparts. In cities such as Boston, mobile vendors would usually receive 1 to 4 violations, and restaurants would receive 4 to 8 violations. Furthermore, in other cities such as Seattle, food trucks had less violations than restaurants, and the difference was statistically significant. In addition, mobile vendors often had to deal with stricter rules such as where they sell food due to their mobility. According to Angela C. Erikson, food trucks and carts, which have low start-up costs and usually have a low price range, do not receive worse health inspection ratings than normal restaurants. <br/> In the article “Four Michelin-Starred Restaurants in New York City Have the Dreaded ‘C’ Health Rating,” Megan Willet explains that five Michelin-starred restaurants have received a B rating, four more have received a C, and another four have received ‘pending.’ Pending means that a restaurant has received a bad score for the first time and gets a second chance to fix their issues. These violations ranged from incorrect temperatures for hot and cold foods to insects and rats in food areas. In another article called “RANKED: The 50 cheapest Michelin-starred meals in the world,” the list ranges from 2 to 109 dollars. With a $109 meal being considered one of the cheapest meals, Michelin-starred restaurants usually have quite a high price range. However, the first article reveals that many of these expensive restaurants have failed to get good health inspection ratings. <br/>These three articles relate to my project because food trucks and Michelin-starred restaurants are usually seen to be on opposite sides of the restaurant spectrum. Food trucks tend to have inexpensive food and are seen as unsanitary. On the other hand, Michelin-starred restaurants are seen as the most perfect restaurant experience one can have but also one of the most expensive. These articles, especially “Street Eats, Safe Eats” which compared the number of violations between normal restaurants and food trucks, show that there may be a connection between a restaurant’s price range and health inspection rating.\n",
    "\n",
    "References (include links):\n",
    "- 1) Street Eats, Safe Eats : https://ij.org/wp-content/uploads/2015/03/street-eats-safe-eats.pdf\n",
    "- 2) Michelin-Starred Restaurants Health Inspections: https://www.businessinsider.com/michelin-restaurants-with-c-health-inspection-rating-2013-12\n",
    "- 3) 50 Cheapest Michelin Meals: https://www.businessinsider.com/cheapest-michelin-starred-meals-in-the-world-ranked-2018-9"
   ]
  },
  {
   "cell_type": "markdown",
   "metadata": {},
   "source": [
    "# Hypothesis\n"
   ]
  },
  {
   "cell_type": "markdown",
   "metadata": {},
   "source": [
    "   My hypothesis is that there will not be much correlation between the price range of a restaurant and its health inspection rating due to the research shown in “Street Eats, Safe Eats.”, but I do think that there will still be more restaurants with a lower price range that received a lower health inspection rating. While “Street Eats, Safe Eats” has shown the cleanliness of mobile vendors and Willet’s article has shown how dirty Michelin-starred restaurants can be, I also think that Michelin-starred restaurants will receive much more publicity for bad health inspection ratings due to the reputation of Michelin stars. Therefore, I hypothesize that there are much more restaurants with a low price range that received low health inspection ratings than restaurants with a higher price range but are just not well known enough for there to be articles on their low health inspection ratings."
   ]
  },
  {
   "cell_type": "markdown",
   "metadata": {},
   "source": [
    "# Data"
   ]
  },
  {
   "cell_type": "markdown",
   "metadata": {},
   "source": [
    "   The ideal dataset would be stored as a table or a CSV file. Its variables would be a restaurant’s most recent health inspection rating, their general price range, the restaurant’s name or some other way to distinguish a restaurant from the others. An ideal dataset would have about 100 observations with each restaurant being its own observation. The way that that data would be collected is by looking up health inspection ratings on a city’s health department website. If the website does not contain a list, I can find a list of all of the restaurants in the city, pick 100 restaurants randomly, and search up their health inspection ratings."
   ]
  },
  {
   "cell_type": "markdown",
   "metadata": {},
   "source": [
    "# Ethics & Privacy"
   ]
  },
  {
   "cell_type": "markdown",
   "metadata": {},
   "source": [
    "   There will most likely be no problems with privacy. Health inspection ratings, a restaurant’s name, and general price range are all information that is open to the public, so no permission should be needed to use this data. As for equitable impact, there may be a possibility that my topic can affect restaurants of a certain price range if there is a high correlation between restaurants within that price range and a low health inspection rating. However, I can use numbers as identifiers for each restaurant rather than their names to prevent any specific restaurant from being directly impacted. <br/>As for potential biases, the dataset could be biased if there are too many food chains. Food chains tend to have a lower price range, so each individual restaurant in a food chain being its own observation can affect the health inspection ratings for restaurants with a lower price rating. One way to handle the issue is by treating food chains as one observation and by taking the average of their restaurants’ health inspections ratings.\n"
   ]
  }
 ],
 "metadata": {
  "kernelspec": {
   "display_name": "Python 3",
   "language": "python",
   "name": "python3"
  },
  "language_info": {
   "codemirror_mode": {
    "name": "ipython",
    "version": 3
   },
   "file_extension": ".py",
   "mimetype": "text/x-python",
   "name": "python",
   "nbconvert_exporter": "python",
   "pygments_lexer": "ipython3",
   "version": "3.6.7"
  }
 },
 "nbformat": 4,
 "nbformat_minor": 2
}
