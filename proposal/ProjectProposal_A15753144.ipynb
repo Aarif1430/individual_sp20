{
 "cells": [
  {
   "cell_type": "markdown",
   "metadata": {},
   "source": [
    "# COGS 108 - Project Proposal"
   ]
  },
  {
   "cell_type": "markdown",
   "metadata": {},
   "source": [
    "# Names & PID\n",
    "\n",
    "- Name: Justin Gross\n",
    "- PID: A15753144"
   ]
  },
  {
   "cell_type": "markdown",
   "metadata": {},
   "source": [
    "# Research Question"
   ]
  },
  {
   "cell_type": "markdown",
   "metadata": {},
   "source": [
    "Is there a realationship between the time of a day a health inspection is carried out and the result of the health inspection?"
   ]
  },
  {
   "cell_type": "markdown",
   "metadata": {},
   "source": [
    "## Background and Prior Work"
   ]
  },
  {
   "cell_type": "markdown",
   "metadata": {},
   "source": [
    "In other areas such as judicial hearings and grading there have been concerning findings supporting the existence of something many now refer to as \"the lunch effect.\" The lunch effect is basically the idea that right before lunch— when a worker is hungry—their rulings are less likely to be positive. Despite the name \"lunch effect\" the thinking can just as easily be expanded to other parts of the day. Perhaps when it is nearly time to go home, judges will be more leinent because they're tired and less invested.\n",
    "\n",
    "Based on these findings, there is certainly reason to believe that the same effect may be evident in health inspections.\n",
    "\n",
    "References (include links):\n",
    "- 1) Judicial review: https://www.pnas.org/content/108/17/6889.short\n",
    "- 2) Students grades and the Lunch Effect: https://munin.uit.no/handle/10037/7108"
   ]
  },
  {
   "cell_type": "markdown",
   "metadata": {},
   "source": [
    "# Hypothesis\n"
   ]
  },
  {
   "cell_type": "markdown",
   "metadata": {},
   "source": [
    "I hypothesize that certain times of day will on average yield lower health inspection scores than other times. However, I suspect that the effect of time on health inspection scores will be less significant than it has been observed to be in other areas such as grading and judicial decisions, because health inspection is less subjective."
   ]
  },
  {
   "cell_type": "markdown",
   "metadata": {},
   "source": [
    "# Data"
   ]
  },
  {
   "cell_type": "markdown",
   "metadata": {},
   "source": [
    "The ideal dataset for an exploring this question would meet the following requirements:\n",
    "\n",
    "1. At least three variables:\n",
    "    1. Health inspector unique ID\n",
    "    2. Score given by the inspector\n",
    "    3. Time range that the inspection was conducted\n",
    "    4. City the restaraunt is in\n",
    "    5. More exact location/district if applicable\n",
    "    \n",
    "\n",
    "2. Many observations and a lot of variability in restaraunt type\n",
    "\n",
    "\n",
    "3. The data would all need to be collected from the same city—so that similar health inspection practices are maintained—or there would have to be many observations from multiple cities.\n",
    "\n",
    "\n",
    "4. The data would be collected by health inspector reports. Lots of health inspection data is already public record, however we are missing some variables needed to make a less error prone analysis. For example, it would be good to have an identifier for which health inspector inspected which restaraunts, so that we can determine whether their average scoring fluctuates with time."
   ]
  },
  {
   "cell_type": "markdown",
   "metadata": {},
   "source": [
    "# Ethics & Privacy"
   ]
  },
  {
   "cell_type": "markdown",
   "metadata": {},
   "source": [
    "#### Possible concerns:\n",
    "\n",
    "* Health inspectors showing higher fluctations in their average ratings based on time of a day may be targeted and face criticism\n",
    "\n",
    "\n",
    "* It is possible that depending on the health inspection process—which areas of the city are inspected during which time of day—that the data could be biased and support the lunch effect even if it is actually simply a side effect of the city's health inspection process.\n",
    "\n",
    "\n",
    "\n",
    "* Health inspection data is public record, and open to scrutiny, therefore there should be no ethical concerns in regards to questioning the results\n",
    "\n",
    "\n",
    "\n",
    "To handle the concerns certain steps must be taken. To start, any identifying factors of the health inspectors must be removed from the data. Additionally, the data would not identify which restaraunts correspond to which scores either, such that the identity of the health inspector could not be determined. The purpsoe of the analysis should only be to determine whether such a \"lunch effect\" is prevalent in health inspection, not to assign blame to those who are most affected by it. \n",
    "\n",
    "Next, it is important that the analysis does not reach a false conclusion—supporting the lunch effect—if it is instead caused by some other factor. For example, if one area of a city with lower average health inspection scores are often inspected during a certain time of day, the analysis could wrongly confirm the hypothesis. To mitigate this possibility, it would be best to take data from many cities. This would help fix the problem because it is just as likely that a higher scoring region will be inspected during the same general time period in one city, than a low scoring one. Thus, it should help average out if the data has many cities.\n",
    "\n",
    "Finally, such health inspections are paramount to protecting public health, and thus intense scrutiny of the results should be encouraged. If an analysis were to be done that provided evidence that the time of day has a significant effect on health inspection scores, the ethical thing to do would be to make that information available and encourage health inspectors to be more concious of the effect."
   ]
  }
 ],
 "metadata": {
  "kernelspec": {
   "display_name": "Python 3",
   "language": "python",
   "name": "python3"
  },
  "language_info": {
   "codemirror_mode": {
    "name": "ipython",
    "version": 3
   },
   "file_extension": ".py",
   "mimetype": "text/x-python",
   "name": "python",
   "nbconvert_exporter": "python",
   "pygments_lexer": "ipython3",
   "version": "3.6.7"
  }
 },
 "nbformat": 4,
 "nbformat_minor": 2
}
