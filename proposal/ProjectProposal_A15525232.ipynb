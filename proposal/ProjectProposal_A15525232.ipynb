{
 "cells": [
  {
   "cell_type": "markdown",
   "metadata": {},
   "source": [
    "# COGS 108 - Project Proposal"
   ]
  },
  {
   "cell_type": "markdown",
   "metadata": {},
   "source": [
    "# Names & PID\n",
    "\n",
    "- Name: Mengfan Chen\n",
    "- PID: A15525232"
   ]
  },
  {
   "cell_type": "markdown",
   "metadata": {},
   "source": [
    "# Research Question"
   ]
  },
  {
   "cell_type": "markdown",
   "metadata": {},
   "source": [
    "Is there a relationship between types of restaurants (ie Chinese restaurants, Japanese restaurants, sushi shop, coffee shop) adn the routine inspection socre? If yes, what aspects of inspections has the most impact/the most common health code violations?"
   ]
  },
  {
   "cell_type": "markdown",
   "metadata": {},
   "source": [
    "## Background and Prior Work"
   ]
  },
  {
   "cell_type": "markdown",
   "metadata": {},
   "source": [
    "*Fill in your background and prior work here. Be sure to specify which statements are from which references.* \n",
    "\n",
    "References (include links):San Diego County Department of Environmental Health Food and Housing Division, California Retail Food Code\n",
    "- 1) San Diego's restaurant inspection grading system: https://www.sandiegocounty.gov/content/sdc/deh/fhd/food/food.html\n",
    "\n",
    "        -For each violation, based on its importance, it will be assigned a score\n",
    "        -The total score is 100 and violation scores will be subtracted from the total score\n",
    "        -90-100:A (sastifactory compliance) , 80-90:B (needs some improvement), <=79: C (failing socre)\n",
    "        * major violation worth 4 pts (in some places it worths 8 pts)\n",
    "        \n",
    "- 2) requirments for retail food facilities/things inspectors checking for: https://www.sandiegocounty.gov/content/dam/sdc/deh/fhd/food/pdf/publications_calcode.pdf\n",
    "\n",
    "        It can be divided to seven main categories:\n",
    "            1.management and personnel\n",
    "            2.general food safety requirement\n",
    "            3.cleaning and sanitizing of equipment and utensils\n",
    "            4.equipments, utensils and linens\n",
    "            5.water, plumbing and waste\n",
    "            6.physical facilities\n",
    "            7.permanent food facilities\n",
    "            \n",
    "- 3) health inspection steps:\n",
    "https://www.sandiegocounty.gov/content/dam/sdc/deh/fhd/food/pdf/publications_opguide.pdf\n",
    "        \n",
    "        -Following the california Retail Food Code, inspectors checks the restaurants throughout. \n",
    "        -At the end, they will provide a report with score and deduction pts.\n",
    "            -sample report can be found here:(pg 6)\n",
    "            https://www.sandiegocounty.gov/content/dam/sdc/deh/fhd/food/pdf/publications_opguide.pdf\n",
    "            \n",
    "            \n",
    "- 4) Types of Inspections:\n",
    "    https://www.sandiegocounty.gov/content/sdc/deh/fhd/ffis/intro.html.html\n",
    "    \n",
    "        -Routine Inspection: comprehensive site visiting and generating scores of the food facilities\n",
    "        -Re-Inspection: visit site to verify compliances after found violations\n",
    "        -Status-Verification: verify if a facility is still in operation or requires a change of     ownership update.\n",
    "            \n",
    "- 5) Current food inspection grades in San Diego:\n",
    "    https://performance.sandiegocounty.gov/stat/goals/ch5s-4bb7/tjv2-sruh/c7j2-zenp\n",
    "    \n",
    "    \n",
    "        96.8% of inspections with A grades (Jan 2020)\n",
    "        \n",
    "- 6) There is a similar research for LA restaurant inspections and violations:\n",
    "    https://www.kaggle.com/meganrisdal/la-county-restaurant-inspections-and-violations\n",
    "    \n",
    "       This repo looks for:\n",
    "        -What are the most common health code violations?\n",
    "        -What is the trend of health code violations over time?\n",
    "        -Is there a geographic pattern to health code violations?\n",
    "      \n",
    "       It contains dataset from LA county with inspection csv. and violation csv."
   ]
  },
  {
   "cell_type": "markdown",
   "metadata": {},
   "source": [
    "# Hypothesis\n"
   ]
  },
  {
   "cell_type": "markdown",
   "metadata": {},
   "source": [
    "I think types did impacts the score of the inspetion and especially on the part of general food safety or permanent food facilities since some restaurants like sushi shop needs more effort to store foods and deal with waste"
   ]
  },
  {
   "cell_type": "markdown",
   "metadata": {},
   "source": [
    "# Data"
   ]
  },
  {
   "cell_type": "markdown",
   "metadata": {},
   "source": [
    "*Explain what the ideal dataset you would want to answer this question. (This should include: What variables? How many observations? Who/what/how would these data be collected? How would these data be stored/organized?)*\n",
    "\n",
    "\n",
    "ideal dataset stored in the tabular form.\n",
    "\n",
    "-Date: the time inspection took place\n",
    "-inspection score: A/B/C\n",
    "-store name: indicating kinds of store (if store types not available)\n",
    "-storoe types: indicating kinds of store\n",
    "-store address: can inform what county or street it is from\n",
    "-Violation description: which aspect it violates the code\n",
    "-inspection type: routine inspection/re-inspection/status-verification\n",
    "\n",
    "Date of inspection for the data should be consistent(ie. all from the same year); Data should be collected by the county inspector; Data should be collected based on the requirments of California Food Retail Code\n"
   ]
  },
  {
   "cell_type": "markdown",
   "metadata": {},
   "source": [
    "# Ethics & Privacy"
   ]
  },
  {
   "cell_type": "markdown",
   "metadata": {},
   "source": [
    "Permission: Since most of the inspection data are accessible from the county website, It can be downloaded for the public use.\n",
    "\n",
    "Some concern:\n",
    "    \n",
    "    -dataset includes address/name: since the data contains inspection score and restaurant address at the same row, it may possibly cause troubles for the restaurant owners as their address become public accessible\n",
    "    \n",
    "    -dataset may include owner name or info: again, this can be used to identify a particular individual and arose troubles in their daily life\n",
    "    \n",
    "    -bias in data: bias may be contained in the dataset as the data is collected by the individual inspector. So there are some potential bias involved with inspector and particular person or ethnic group. \n",
    "    \n",
    "    -post analysis concern: after analysis, we can see what kinds of restaurants have a genrally lower inspection grade. This may causes people have a bias toward paricular kinds of restaurant. For example, if analysis suggests Asian restaurant have a genrally lower grade, people may think all Asian restaurants have problems and avoid going. \n",
    "    \n",
    "    \n",
    "Handle:\n",
    "    \n",
    "    -for address/name and owner info: it is only used during the analysis when it is necessary. After analysis, the columns with name and owner info should be dropped first, and then analysis can be used for presentation\n",
    "    \n",
    "    -bias in data: I will carefully check the data to see is there a strange trend within the data. Since we cannot control how the data is collected and which inspector is sent for checking, the only thing I can do to minimize the bias is to clean and check the data\n",
    "    \n",
    "    -post analysis concern: this should be addressed at the end of analysis with special attention\n",
    "\n",
    "\n"
   ]
  },
  {
   "cell_type": "code",
   "execution_count": null,
   "metadata": {},
   "outputs": [],
   "source": []
  }
 ],
 "metadata": {
  "kernelspec": {
   "display_name": "Python 3",
   "language": "python",
   "name": "python3"
  },
  "language_info": {
   "codemirror_mode": {
    "name": "ipython",
    "version": 3
   },
   "file_extension": ".py",
   "mimetype": "text/x-python",
   "name": "python",
   "nbconvert_exporter": "python",
   "pygments_lexer": "ipython3",
   "version": "3.7.6"
  }
 },
 "nbformat": 4,
 "nbformat_minor": 2
}
