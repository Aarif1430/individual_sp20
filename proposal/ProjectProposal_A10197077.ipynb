{
 "cells": [
  {
   "cell_type": "markdown",
   "metadata": {},
   "source": [
    "# COGS 108 - Project Proposal"
   ]
  },
  {
   "cell_type": "markdown",
   "metadata": {},
   "source": [
    "# Names & PID\n",
    "\n",
    "- Name: Fatima Housni\n",
    "- PID: A10197077"
   ]
  },
  {
   "cell_type": "markdown",
   "metadata": {},
   "source": [
    "# Research Question"
   ]
  },
  {
   "cell_type": "markdown",
   "metadata": {},
   "source": [
    "Would reducing the maximum amount of restaurants inspected to two per day and requiering inspectors to complete these two inspections before 12 PM noon increase the number of violations found in San Diego County?"
   ]
  },
  {
   "cell_type": "markdown",
   "metadata": {},
   "source": [
    "## Background and Prior Work"
   ]
  },
  {
   "cell_type": "markdown",
   "metadata": {},
   "source": [
    "\n",
    "By simply rearranging food health inspectors schedules to include less inspectons per day \"could result in hundreds of thousands of currently overlooked violations being discovered and cited\" [2]. In her research paper, Ibanez states that \"“The more inspections you have done earlier in the day, the more tired you’re going to be and the less energy you’re going to have to discover violations” [1]. This implies that afternoon inspections would result in less violations, and indeed, that is what Ibanez's research had found.  \n",
    "\n",
    "References (include links):\n",
    "- 1)\"How Scheduling Can Bias Quality Assessment: Evidence from Food-Safety Inspections\" \n",
    "     Authors: Maria R. Ibanez , Michael W. Toffel\n",
    "     https://doi.org/10.1287/mnsc.2019.3318\n",
    "   \n",
    "- 2)\"A Simple Way For Restaurant Inspectors To Improve Food Safety\"\n",
    "     Authors: Carmen Nobel\n",
    "     https://www.forbes.com/sites/hbsworkingknowledge/2018/05/16/a-simple-way-for-restaurant-inspectors-to-improve-food-safety/#12e2527123ff\n",
    "     \n",
    "- 3)Environmental Health - San Diego Food Info\n",
    "    https://www.sandiegocounty.gov/content/sdc/deh/fhd/ffis/intro.html.html"
   ]
  },
  {
   "cell_type": "markdown",
   "metadata": {},
   "source": [
    "# Hypothesis\n"
   ]
  },
  {
   "cell_type": "markdown",
   "metadata": {},
   "source": [
    "I hypothesize that if the city government were to reduce each health inspector's daily visits to two restaurants before 12 PM noon, then the number of health violations will increase. Requiering that the inspections are done in the morning prevents the after lunch sluggishness and lack of energy. Also, by only requiering two visits per inspector (instead of the usual four or five) the inspector is able to focus more on each visit and provide a more balanced and thorough report. "
   ]
  },
  {
   "cell_type": "markdown",
   "metadata": {},
   "source": [
    "# Data"
   ]
  },
  {
   "cell_type": "markdown",
   "metadata": {},
   "source": [
    "\n",
    "The data will be organized in a table where each row represents a health inspector employed within the county of San Diego, and each column is a different restaurant in San Diego that they inspected and scored. There will also be two additional columns for gender and years of experience. Ideally, there should be between 100 - 200 observations (inspectors). To protact the inspector's privacy, each one will be given a numerical ID to be used in the table rather than their actual name.  \n",
    "\n",
    "The column score will display the total health safety score for that particular restaurant. By convention, each violation is assigned a point value. Major violations are 4 points, minor are 2 points, and good practice is 1 point. The points are added up and subtracted from 100. A score of 90 - 100 is gives an \"A\" grade (safe food), 80 - 89 is a \"B\", and 79 or less is a \"C\" (unsafe food). In the columns, the score will be displayed numerically rather than using a grade, since it gives a better indication of how many violations a particular restaurant has accrued. \n",
    "\n",
    "There should be two tables for this data set. The first lists inspector scores BEFORE implementing the two visits max and 12 noon deadline. The second table should look identical to the first, but displays the scores AFTER the new policy is implemented. This way the change (or lack thereof) in the score can be compared between the two. \n",
    "\n",
    "The data will be collected through the County of San Diego. All restaurant scores are public information, however the health inspectors who carried out these inspections are not publicly known. So, the best way to collect the necessary information is for the County to provide the data scientists with records of past inspections. The data sceintist can then compile the \"before policy change\" scores, and then do the same thing for the \"after policy change\" scores. \n"
   ]
  },
  {
   "cell_type": "markdown",
   "metadata": {},
   "source": [
    "# Ethics & Privacy"
   ]
  },
  {
   "cell_type": "markdown",
   "metadata": {},
   "source": [
    "*-Did you have permission to use this data / use it for this purpose?\n",
    "*-Are there privacy concerns regarding your datasets that you need to deal with, and/or terms of use that you need to comply with?\n",
    "*-Are there potential biases in your dataset(s), in terms of who it composes, and how it was collected, that may be problematic in terms of it allowing for equitable analysis? (For example, does your data exclude particular populations, or is it likely to reflect particular human biases in a way that could be a problem?)\n",
    "*-Are there any other issues related to your topic area, data, and/or analyses that are potentially problematic in terms of data privacy and equitable impact?\n",
    "-How will you handle issues you identified? (1-2 paragraphs)*\n",
    "\n",
    "Sometimes, restaurant owners can become disgruntled due to receiving a low score from an inspector, so it is important to protect the privacy of each inspector in order to insure their safety. Therefore, it is essential to receive permission from the County of San Diego to undergo this analysis, and to use numerical IDs rather than actual names in the data tables.\n",
    "\n",
    "Also, the raw data table will not be released under any circumstances. After compiling the data into two tables, the data scientist will generate graphs, plots, and other figures. Only these figures will be released to shoe the results of the analysis, while the raw data remains secure with the data scientist. \n",
    "\n",
    "It is important to note that there may be a difference in scores between genders and experience levels. This will be taken into account by dedicating a column to gender and other to years of experiecne. The data scientist will take these into account when doing her analysis.\n"
   ]
  }
 ],
 "metadata": {
  "kernelspec": {
   "display_name": "Python 3",
   "language": "python",
   "name": "python3"
  },
  "language_info": {
   "codemirror_mode": {
    "name": "ipython",
    "version": 3
   },
   "file_extension": ".py",
   "mimetype": "text/x-python",
   "name": "python",
   "nbconvert_exporter": "python",
   "pygments_lexer": "ipython3",
   "version": "3.6.7"
  }
 },
 "nbformat": 4,
 "nbformat_minor": 2
}
