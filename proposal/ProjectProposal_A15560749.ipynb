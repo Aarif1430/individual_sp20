{
 "cells": [
  {
   "cell_type": "markdown",
   "metadata": {},
   "source": [
    "# COGS 108 - Project Proposal"
   ]
  },
  {
   "cell_type": "markdown",
   "metadata": {},
   "source": [
    "# Names & PID\n",
    "\n",
    "- Name: Jenny Vu\n",
    "- PID: A15560749"
   ]
  },
  {
   "cell_type": "markdown",
   "metadata": {},
   "source": [
    "# Research Question"
   ]
  },
  {
   "cell_type": "markdown",
   "metadata": {},
   "source": [
    "Based on the gap between the last inspection and previous score(# of violations), is the next inspection going have a positive or negative result?"
   ]
  },
  {
   "cell_type": "markdown",
   "metadata": {},
   "source": [
    "## Background and Prior Work"
   ]
  },
  {
   "cell_type": "markdown",
   "metadata": {},
   "source": [
    "Restaurant health inspections ensure that there is liability for the restaurants to uphold a standard in which its patrons has food safe for consumption. Inspections take into account several factors which the facilities and food handling and has a set standard of what is allowable in a retail food environment. If not met to a certain degree, the establishment would not be allowed to run. (1)\n",
    "\n",
    "Health inspections occur in two ways: through complaints and through random inspections that occur 1-3 times a year.(1,2)\n",
    "There are some components in a restaurant that can be neglected more than others. In an article on the CDC website, it is found that the most common health violation pertained areas not directly correlated with food such as cleaning surfaces that don't come into contact with food(3). They still are accounted for within health insection. With little inspections a year, the idea that a restaurant would slack in between, so the idea of increased inspections should make restaurants uphold the standards through a longer period of time. This is not the case as seen in a study led by K. Bruce Newbold in which the number of inspections for high-risk restaurants increased to 3-5 inspections a year. The inspectors in the study did a survey of whether or not they believed in the idea, the number of people who disagreed with it increased from 14% to 46% post-study. One indicated that the food operators did not even notice the increase of inspections. \n",
    "\n",
    "Through this project, it aims to gain insight on the the health inspection process and how time affects the results.\n",
    "\n",
    "References (include links):\n",
    "- 1)http://publichealth.lacounty.gov/eh/DSE/RetailFoodInsection/desfood.htm\n",
    "- 2)http://www.publichealth.lacounty.gov/eh/SSE/DESFAQ.htm\n",
    "- 3)https://wwwnc.cdc.gov/eid/article/10/4/03-0343_article\n",
    "- 4)https://www.jstor.org/stable/26327770?seq=2#metadata_info_tab_contents "
   ]
  },
  {
   "cell_type": "markdown",
   "metadata": {},
   "source": [
    "# Hypothesis\n"
   ]
  },
  {
   "cell_type": "markdown",
   "metadata": {},
   "source": [
    "I hypothesize that a time frame that is shorter(1-3) months the score would remain relatively the same unless the last number of violations was high, whereas the longer periods the score would be lower.\n",
    "\n",
    "Due to the fact that a study found that an increase in inspections did not impact the restaurants, the timing may be a factor. In a shorter time frame, the restaurant is still accounting for the last visit. Unless a restaurant in question has a number of violations to be concerned of, there will be no significant change."
   ]
  },
  {
   "cell_type": "markdown",
   "metadata": {},
   "source": [
    "# Data"
   ]
  },
  {
   "cell_type": "markdown",
   "metadata": {},
   "source": [
    "My ideal data sets should at least the 4 variable being the store name, date of inspection, number of violations, and the overall score. There would be multiple records(at least 3-4 previous and the most recent) to each restaurant with varying dates and amount of time between the inspections. The number of restaurants would be between 7-10.\n",
    "\n",
    "By having various randomly selected restaurants, it would eliminate any bias while giving a decent data set to work with. By having 4-6 inspections for a restaurant, it allows for analysis over various period of time with one restaurant. Using this data, the analysis of inspection scores for a restaurant over a period of time could be recorded and compared to itself and others."
   ]
  },
  {
   "cell_type": "markdown",
   "metadata": {},
   "source": [
    "# Ethics & Privacy"
   ]
  },
  {
   "cell_type": "markdown",
   "metadata": {},
   "source": [
    "Information from health inspections in California is public information from the county or city for the benefit and safety of consumers. Information such is this is can be labeled as open data for places such as LA county making it free to use and republish. By using this data, the restaurant being selected for data analysis may not account for all types of restaurants(i.e. family restaurant vs chain restaurant). Though the information and restaurant names are public, in addressing them the restaurants in question may be affected due to involvement within the analysis. "
   ]
  }
 ],
 "metadata": {
  "kernelspec": {
   "display_name": "Python 3",
   "language": "python",
   "name": "python3"
  },
  "language_info": {
   "codemirror_mode": {
    "name": "ipython",
    "version": 3
   },
   "file_extension": ".py",
   "mimetype": "text/x-python",
   "name": "python",
   "nbconvert_exporter": "python",
   "pygments_lexer": "ipython3",
   "version": "3.6.7"
  }
 },
 "nbformat": 4,
 "nbformat_minor": 2
}
