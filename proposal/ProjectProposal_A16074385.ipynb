{
 "cells": [
  {
   "cell_type": "markdown",
   "metadata": {},
   "source": [
    "# COGS 108 - Project Proposal"
   ]
  },
  {
   "cell_type": "markdown",
   "metadata": {},
   "source": [
    "# Names & PID\n",
    "\n",
    "- Name: Nate Abdulmawla\n",
    "- PID: A16074385"
   ]
  },
  {
   "cell_type": "code",
   "execution_count": null,
   "metadata": {},
   "outputs": [],
   "source": []
  },
  {
   "cell_type": "markdown",
   "metadata": {},
   "source": [
    "# Research Question"
   ]
  },
  {
   "cell_type": "markdown",
   "metadata": {},
   "source": [
    "Do the socioeconomic factors of an area have an affect on the types of health code violations found within the area?"
   ]
  },
  {
   "cell_type": "markdown",
   "metadata": {},
   "source": [
    "## Background and Prior Work"
   ]
  },
  {
   "cell_type": "code",
   "execution_count": null,
   "metadata": {},
   "outputs": [],
   "source": []
  },
  {
   "cell_type": "markdown",
   "metadata": {},
   "source": [
    "The relationship between the socioeconomic factors of an area and its general health is one that has been studied often. These studies have shown that socioeconomic status has shown to indirectly damage health through impacting the factors that do directly cause damage to health to the extent of reducing life expectancy by 2.1 years (1). Health inspections are an important process that most businesses must go through to maintain public health. Violations of many kinds are found often, common ones being issues regarding improper food temperatures, employee cleanliness, and pests (2). \n",
    "\n",
    "When accounting for these we follow a path of questioning the relationship between the cleanliness of the businesses in an area and the income levels of the area. Looking at the most common types of violations in an area and how serious they are is an important step in this. This will give us a clearer view to see if there are any certain issues common to a certain area that can be improved on at a systemic level. \n",
    "\n",
    "\n",
    "\n",
    "References:\n",
    "\n",
    "(1) https://www.thelancet.com/journals/lancet/article/PIIS0140-6736(16)32380-7/fulltext\n",
    "\n",
    "(2) https://www.foodsafetymagazine.com/enewsletter/challenges-of-health-department-food-safety-inspections/"
   ]
  },
  {
   "cell_type": "markdown",
   "metadata": {},
   "source": [
    "# Hypothesis\n"
   ]
  },
  {
   "cell_type": "markdown",
   "metadata": {},
   "source": [
    "Given the trends, I expect there to be a positive correlation between the social factors of an area and the types of violations that occur within this area. I believe this would be due to lower income areas having a less resources to maintain certain types of common health code violations, such as proper equipment. "
   ]
  },
  {
   "cell_type": "markdown",
   "metadata": {},
   "source": [
    "# Data"
   ]
  },
  {
   "cell_type": "markdown",
   "metadata": {},
   "source": [
    "The ideal dataset is one with a large amount of observations with as many locations with ZIP codes. Having a large amount of observations per ZIP code would help better represent the general areas, as a small amount of observations per ZIP code would not be sufficient. Obtaining a thorough dataset of the income level by area within a city would also be ideal. \n",
    "\n",
    "The most important variable required after the location of the business would be the type of violation that was conducted. Having the violation coded rather than a full description would be the most ideal scenario to better organize the data."
   ]
  },
  {
   "cell_type": "markdown",
   "metadata": {},
   "source": [
    "# Ethics & Privacy"
   ]
  },
  {
   "cell_type": "markdown",
   "metadata": {},
   "source": [
    "Certain privacy concerns arise when accounting for private information such as the names and exact locations of the businesses. This information would not be relevant thus removed or generalized as in the case with the addresses when we only require the specific ZIP code. \n",
    "\n",
    "The project itself would use data that was made available to the general public, preferably through government organizations to remove as many biases as possible. "
   ]
  }
 ],
 "metadata": {
  "kernelspec": {
   "display_name": "Python 3",
   "language": "python",
   "name": "python3"
  },
  "language_info": {
   "codemirror_mode": {
    "name": "ipython",
    "version": 3
   },
   "file_extension": ".py",
   "mimetype": "text/x-python",
   "name": "python",
   "nbconvert_exporter": "python",
   "pygments_lexer": "ipython3",
   "version": "3.7.0"
  }
 },
 "nbformat": 4,
 "nbformat_minor": 2
}