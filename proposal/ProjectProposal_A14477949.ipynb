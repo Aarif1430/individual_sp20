{
 "cells": [
  {
   "cell_type": "markdown",
   "metadata": {},
   "source": [
    "# COGS 108 - Project Proposal"
   ]
  },
  {
   "cell_type": "markdown",
   "metadata": {},
   "source": [
    "# Names & PID\n",
    "\n",
    "- Name: Aaron Chan\n",
    "- PID: A14477949"
   ]
  },
  {
   "cell_type": "markdown",
   "metadata": {},
   "source": [
    "# Research Question"
   ]
  },
  {
   "cell_type": "markdown",
   "metadata": {},
   "source": [
    "*Fill in your research question here*\n",
    "\n",
    "Do inspector ratings show bias (either positive or negative) towards establishments within the same area (street, neighborhood, plaza)? "
   ]
  },
  {
   "cell_type": "markdown",
   "metadata": {},
   "source": [
    "## Background and Prior Work"
   ]
  },
  {
   "cell_type": "markdown",
   "metadata": {},
   "source": [
    "*Fill in your background and prior work here. Be sure to specify which statements are from which references.* \n",
    "\n",
    "Since I was not very familiar with the process of how health insepctions are conducted, I mostly did initial research about how these are done and who they are done by. I found that health insepction regulations are goverened by a state by state basis and can differ slightly based on a county by county basis. The inspections are done by local health departments and are usually done on a scheduled staggered monthly basis (3-months, 6-months, 12-months) depending on the level of risk that the specific establishment has posed in the past (Ref 2,3). Grades usually follow a point system followed by a letter grade system. Resturaunts begin at 100 points and then are deducted based on critical or non-critical violations.  \n",
    "\n",
    "There are studies in the past specifically talking about bias that health inspectors may have when conducting their inspections. One such study talks about how the schedule that inspectors have may influence their grading throughout the day. It was found that, as the day goes on, found violations tend to lower (Ref 7). This is possibly due to the inspector not wanting to go past their work shift or due to fatigue that builds up along the day. \n",
    "\n",
    "Another study talked about the \"outcome bias\" inspectors had. When visiting an establishment in which they found multiple violations, it was found that the inspector will increase scruitny for the next establishment citing an increase of found violations. \n",
    "\n",
    "References (include links):\n",
    "- 1) Typical checklist for health inspections https://blog.typsy.com/how-do-health-inspections-work\n",
    "- 2) Brief overview of which agencies handle what aspects (FDA regulations/local health departments visiting). Explanation of how grades are given (letter/points). https://www.webstaurantstore.com/article/16/health-inspection-checklist.html\n",
    "- 3) The type of inspections listed here (routine/violation followup/customer complaint). A good explanation of risk factor along with how the process adapts to certain risks. Brief introduction of how racism might play a role in inspections. https://recipes.howstuffworks.com/tools-and-techniques/restaurant-health-inspections2.htm (good read overall). \n",
    "- 4) Explanation of the process of an inspection (dyanmic and static) and the process that inspectors go through to find risks and how they are penalized. https://recipes.howstuffworks.com/tools-and-techniques/restaurant-health-inspections3.htm\n",
    "- 5) Talks about possible faults in the system and how it doesn't represent the full picture of what goes on in a resturant daily. https://recipes.howstuffworks.com/tools-and-techniques/restaurant-health-inspections5.htm\n",
    "- 6) Research and discussion on health inspection ratings in Tenessee over 1993 to 2000. https://www.ncbi.nlm.nih.gov/pmc/articles/PMC3323064/ \n",
    "- 7) https://hbr.org/2019/05/to-improve-food-inspections-change-the-way-theyre-scheduled\n",
    "- 8) https://insight.kellogg.northwestern.edu/article/food-safety-inspectors-schedule"
   ]
  },
  {
   "cell_type": "markdown",
   "metadata": {},
   "source": [
    "# Hypothesis\n"
   ]
  },
  {
   "cell_type": "markdown",
   "metadata": {},
   "source": [
    "I believe that inspectors that visit a location near a location they previously visited will show some bias in score. Inspectors are human too. I believe that if they were to walk out of their car and see an establishment they personally rated low and walk into the establishment right next to it, there would be some adverse effects. "
   ]
  },
  {
   "cell_type": "markdown",
   "metadata": {},
   "source": [
    "# Data"
   ]
  },
  {
   "cell_type": "markdown",
   "metadata": {},
   "source": [
    "*Explain what the ideal dataset you would want to answer this question. (This should include: What variables? How many observations? Who/what/how would these data be collected? How would these data be stored/organized?)*\n",
    "\n",
    "The ideal dataset I would want would be tabular, cleaned data with a significant amount of observations (perhaps a few thousand) with multiple inspectors. The most important variables I should consider are a unique identifier for each inspector, the establishments that they inspected, the location of each establishment (given in latitude and longitude), the rating given to those establishments, and possibly a date for each inspection. National data would be good to consider, but data for a single state would also be good as regulations would be consistent throughout the state. "
   ]
  },
  {
   "cell_type": "markdown",
   "metadata": {},
   "source": [
    "# Ethics & Privacy"
   ]
  },
  {
   "cell_type": "markdown",
   "metadata": {},
   "source": [
    "A large possible concern that may be found from this analysis might be the validity of ratings in the case that my hypothesis might turn out to be true. Establishments could choose to move around to be nearby other establishments with higher health ratings or move to be away from establishments with lower health ratings. It could possibly also pose some problems with ethnic neighborhoods where resturants of similar culture or cuisines may be relatively close to each other. \n",
    "\n"
   ]
  }
 ],
 "metadata": {
  "kernelspec": {
   "display_name": "Python 3",
   "language": "python",
   "name": "python3"
  },
  "language_info": {
   "codemirror_mode": {
    "name": "ipython",
    "version": 3
   },
   "file_extension": ".py",
   "mimetype": "text/x-python",
   "name": "python",
   "nbconvert_exporter": "python",
   "pygments_lexer": "ipython3",
   "version": "3.7.6"
  }
 },
 "nbformat": 4,
 "nbformat_minor": 2
}
