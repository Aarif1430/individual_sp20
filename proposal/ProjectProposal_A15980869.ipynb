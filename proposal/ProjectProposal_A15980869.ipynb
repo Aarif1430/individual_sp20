{
 "cells": [
  {
   "cell_type": "markdown",
   "metadata": {},
   "source": [
    "# COGS 108 - Project Proposal"
   ]
  },
  {
   "cell_type": "markdown",
   "metadata": {},
   "source": [
    "# Names & PID\n",
    "\n",
    "- Name: Joey Dang\n",
    "- PID: A15980869"
   ]
  },
  {
   "cell_type": "markdown",
   "metadata": {},
   "source": [
    "# Research Question"
   ]
  },
  {
   "cell_type": "markdown",
   "metadata": {},
   "source": [
    "Does the overall health score of the restaurant depend on the restaurant's location in San Francisco's districts? "
   ]
  },
  {
   "cell_type": "markdown",
   "metadata": {},
   "source": [
    "## Background and Prior Work"
   ]
  },
  {
   "cell_type": "markdown",
   "metadata": {},
   "source": [
    "In San Francisco, the health scores are numeric instead of alphabetical. The health score scales based on health code violations which primarily focus on safety and also cleanliness. The overall score as numbers represents a better reputation of the quality of the restaurant (Baer). San Francisco is strict when it comes to health code violations and is one of the cities in San Francisco who uses numeric health scores instead of alphabetical. Some districts are known to be dirtier and dangerous than others. For example, some districts have a huge increase in crime rates than others. Since food safety is one of the factors to the health score, the likelihood of the health score correlates to the location of the restaurant (Kauffman). Most likely the restaurant is about the same quality as the location it is in; restaurants tend to follow the health trends of the overall location. The health score can be based on the location of the restaurant. \n",
    "\n",
    "References (include links):\n",
    "- 1) https://www.sfchronicle.com/restaurants/article/Yelp-s-food-safety-alerts-steer-diners-away-12736687.php\n",
    "- 2) https://www.sgvtribune.com/2015/06/25/what-that-restaurant-letter-grade-isnt-telling-you-about-health-and-cleanliness/"
   ]
  },
  {
   "cell_type": "markdown",
   "metadata": {},
   "source": [
    "# Hypothesis\n"
   ]
  },
  {
   "cell_type": "markdown",
   "metadata": {},
   "source": [
    "Depending on the location of the restaurants, will result in a higher or lower score in their health scores. There are 11 different districts in San Francisco; a safer known district is optimal for restaurants with higher health scores while districts will have lower health scores."
   ]
  },
  {
   "cell_type": "markdown",
   "metadata": {},
   "source": [
    "# Data"
   ]
  },
  {
   "cell_type": "markdown",
   "metadata": {},
   "source": [
    "The dataset we need to answer this question would include the address of the restaurant and also the health score of that specific restaurant in San Francisco. We need an ample-sized set of observations so we do not have any sampling bias which is the dataset will be based on the restaurants in San Francisco.\n"
    "We need enough observations in the dataset to make an estimate of the health score in each district to graph the variables. I would prefer to get the dataset of each restaurant available in San Francisco and organize the location of the restaurant into districts based on the zip code. These data will be collected based on the city government itself; there should be records of the dataset on websites such as Yelp or the actual city governnment's data websites. The dataset will be stored into districts, business ID, and restaurant ratings.\n"
    "Variables\n",
    "\n",
    "- most recent health score of the restaurant in San Francisco (2020)\n",
    "- zip code of each restaurants in San Francisco"
   ]
  },
  {
   "cell_type": "markdown",
   "metadata": {},
   "source": [
    "# Ethics & Privacy"
   ]
  },
  {
   "cell_type": "markdown",
   "metadata": {},
   "source": [
    "Sampling bias is typically a common ethical consideration to think about. However, sampling bias does not apply because the data will not be sampling people, but simply using data from online to answer our question. To prevent data bias, the data will come from credible sources instead of places that have polls and samples. The data I will look into will respect the data's privacy. All health scores are open to customers which will prevent from invading and stealing someone's data. Also the data I will use to analyze will not discriminate against others, merely depend on the location of the business and also the health score. I will ensure that our data and analysis correctly support my claim and my decisions/analysis are clear and straightforward."
   ]
  }
 ],
 "metadata": {
  "kernelspec": {
   "display_name": "Python 3",
   "language": "python",
   "name": "python3"
  },
  "language_info": {
   "codemirror_mode": {
    "name": "ipython",
    "version": 3
   },
   "file_extension": ".py",
   "mimetype": "text/x-python",
   "name": "python",
   "nbconvert_exporter": "python",
   "pygments_lexer": "ipython3",
   "version": "3.7.0"
  }
 },
 "nbformat": 4,
 "nbformat_minor": 2
}
