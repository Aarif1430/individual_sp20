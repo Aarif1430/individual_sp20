{
 "cells": [
  {
   "cell_type": "markdown",
   "metadata": {},
   "source": [
    "# COGS 108 - Project Proposal"
   ]
  },
  {
   "cell_type": "markdown",
   "metadata": {},
   "source": [
    "- Name: Son Ho\n",
    "- PID: A14719861"
   ]
  },
  {
   "cell_type": "markdown",
   "metadata": {},
   "source": [
    "# Research Question"
   ]
  },
  {
   "cell_type": "markdown",
   "metadata": {},
   "source": [
    "1. Is there a connection between the frequency of a health inspection visit done to a restaurant and the quality of the food of that restaurant?\n",
    "\n",
    "2. How likely you get food poisoning on the restaurant that is less frequently inspect by health inspector?"
   ]
  },
  {
   "cell_type": "markdown",
   "metadata": {},
   "source": [
    "## Background and Prior Work"
   ]
  },
  {
   "cell_type": "markdown",
   "metadata": {},
   "source": [
    "The process of health inspection is described as “One inspection may not be representative of the overall, long-term sanitation of an establishment. On any given day, a restaurant may have greater or fewer violations than observed during an inspection. In addition, some violations noted on an inspection report may have been corrected at the time of the inspection, which are indicated on the report. Follow-up inspections may be conducted for specific critical violations that cannot be corrected at the time of the inspection.\" (Challenges of Health Department Food Safety Inspections article)\n",
    "\n",
    "However, due to limited budget, a challenge that the health inspection faced is the fact that there's a lot of restaurant that is only inspected once on quarterly basis, and in some case, once a year. This seems like a bad idea because as stated above, frequent inspection is a way to keep the business uphold their standards (Challenges of Health Department Food Safety Inspections article)\n",
    "\n",
    "References (include links):\n",
    "- 1) https://www.dininggrades.com/blog/challenges-of-health-department-food-safety-inspections/\n",
    "- 2)"
   ]
  },
  {
   "cell_type": "markdown",
   "metadata": {},
   "source": [
    "# Hypothesis\n"
   ]
  },
  {
   "cell_type": "markdown",
   "metadata": {},
   "source": [
    "I think the frequency of a health inspection is a big factor that affect the quality of the restaurant food, simply because not only the safety standards for the food is guarantee, other factors like restaurant environment, kitchen hygience, ... can directly affect the experience of guests and staff, thus, make the time the customers spend in the restaurant more enjoyable"
   ]
  },
  {
   "cell_type": "markdown",
   "metadata": {},
   "source": [
    "# Data"
   ]
  },
  {
   "cell_type": "markdown",
   "metadata": {},
   "source": [
    "I think the ideal dataset I would want include variables such as a random list of restaurants in my local city with various Yelp/Google reviews organized from high to low, and associated with each restaurant is the number of health inspection done to the restaurant a year, and how many standards that the restaurant violated each year. Moreover, I would want the data of food poisoning cases record in each restaurant \n",
    "\n",
    "I think the list of restaurant and its reviews is easy to collect and can be gathered from Yelp/Google, however it maybe hard to collect the data for the frequency of inspection done to each restaurant, along with the food poisoning cases as those data may not be shared with the public\n",
    "\n",
    "I would organized the data by the descending order with the restaurants that have excellent reviews on top and the restaurants with terrible reviews at the bottom"
   ]
  },
  {
   "cell_type": "markdown",
   "metadata": {},
   "source": [
    "# Ethics & Privacy"
   ]
  },
  {
   "cell_type": "markdown",
   "metadata": {},
   "source": [
    "I think my question is ethical since I simply try to analyze one of the challenge that health inspection process is facing today. The problem already exists, and what I did is trying to find if this problem affect the customers experience at the restaurant in general. The data that I gathered is already available to the publics (Yelp/Google reviews), and the data such as the number of time a restaurant is inspected and total violations per year doesn't seems to touch on any private matter, since it's simply recorded by the health inspection department (which I assume I have access to since I'm in the role of the health inspector).\n",
    "\n",
    "I don't think the data that I planed to collect have any biases since the restaurants is randomly picked, and the inspections already followed the same procedure and standards for every restaurants. One problem that I could faced is obtaining the information of the number of food poisoning case related to each restaurant, since the information may not be reported, and the accuracy of that information maybe questionable. If this to be the case, I will think of other factor that I will use and scrap this data while keeping the core dataset that I mentioned above."
   ]
  }
 ],
 "metadata": {
  "kernelspec": {
   "display_name": "Python 3",
   "language": "python",
   "name": "python3"
  },
  "language_info": {
   "codemirror_mode": {
    "name": "ipython",
    "version": 3
   },
   "file_extension": ".py",
   "mimetype": "text/x-python",
   "name": "python",
   "nbconvert_exporter": "python",
   "pygments_lexer": "ipython3",
   "version": "3.6.7"
  }
 },
 "nbformat": 4,
 "nbformat_minor": 2
}
