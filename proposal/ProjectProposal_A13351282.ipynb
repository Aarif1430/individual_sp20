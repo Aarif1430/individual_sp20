{
 "cells": [
  {
   "cell_type": "markdown",
   "metadata": {},
   "source": [
    "# COGS 108 - Project Proposal"
   ]
  },
  {
   "cell_type": "markdown",
   "metadata": {},
   "source": [
    "# Names & PID\n",
    "\n",
    "- Name: Samir Navani\n",
    "- PID: A13351282"
   ]
  },
  {
   "cell_type": "markdown",
   "metadata": {},
   "source": [
    "# Research Question"
   ]
  },
  {
   "cell_type": "markdown",
   "metadata": {},
   "source": [
    "Are there neighborhoods in NYC where resteraunts are more prone to getting health inspection violations?"
   ]
  },
  {
   "cell_type": "markdown",
   "metadata": {},
   "source": [
    "## Background and Prior Work"
   ]
  },
  {
   "cell_type": "markdown",
   "metadata": {},
   "source": [
    "*Fill in your background and prior work here. Be sure to specify which statements are from which references.* \n",
    "\n",
    "I found that it is known there are restaraunts in NYC with and without health inspection violations. However only the zip code is recorded for each restaraunt and not it's neighborhood. Therefor I don't see any analysis for citation number based on neighborhood.\n",
    "\n",
    "I also learned that NYC rates it's health inspections on a letter system to help civilians better choose where to eat.\n",
    "\n",
    "References (include links):\n",
    "- 1) https://data.cityofnewyork.us/Health/DOHMH-New-York-City-Restaurant-Inspection-Results/43nn-pn8j\n",
    "- 2) https://www.ncbi.nlm.nih.gov/pmc/articles/PMC4330857/"
   ]
  },
  {
   "cell_type": "markdown",
   "metadata": {},
   "source": [
    "# Hypothesis\n"
   ]
  },
  {
   "cell_type": "markdown",
   "metadata": {},
   "source": [
    "I believe there are neighborhoods that will have more health inspespection violations than others. Some nieghborhoods are not as wealthy as others and may try to slack in maintaining a health code. This question would be important to improving health inspection procedure in NYC because with the information learned from this study, the health inspectors can target certain neighborhoods first."
   ]
  },
  {
   "cell_type": "markdown",
   "metadata": {},
   "source": [
    "# Data"
   ]
  },
  {
   "cell_type": "markdown",
   "metadata": {},
   "source": [
    "*Explain what the ideal dataset you would want to answer this question. (This should include: What variables? How many observations? Who/what/how would these data be collected? How would these data be stored/organized?)*\n",
    "\n",
    "\n",
    "The ideal dataset would record whether there was a health violation or not for the restraunt along with the neighborhood the restraunt was in. Since this data is for restaraunt health inspections, I'd imagine the NYC governemnt to be the ones collecting this. Each restraunt would be a row and the columns would be the variablles 'did have violations?' and 'neighborhood'."
   ]
  },
  {
   "cell_type": "markdown",
   "metadata": {},
   "source": [
    "# Ethics & Privacy"
   ]
  },
  {
   "cell_type": "markdown",
   "metadata": {},
   "source": [
    "*Fill in your ethics & privacy discussion here*\n",
    "\n",
    "In terms of getting the data and making it public, I don't see an issue with that. People should have access to knowing which restaraunts have failed their health inspections. However, if the data reveals that certain neighborhoods have more health citations than others, and the governement starts targeting those neighborhoods, then there might be an ethical dilemma. This is similiar to racial profiling, the governement would be tartgeting restaraunts based on location. Although this may seem unjust, I think it's alright. The reason for conducting the health inspection is to keep the people of NYC safe. If the government can predict which restaraunts will have violations, then that would help the people of NYC."
   ]
  },
  {
   "cell_type": "code",
   "execution_count": null,
   "metadata": {},
   "outputs": [],
   "source": []
  }
 ],
 "metadata": {
  "kernelspec": {
   "display_name": "Python 3",
   "language": "python",
   "name": "python3"
  },
  "language_info": {
   "codemirror_mode": {
    "name": "ipython",
    "version": 3
   },
   "file_extension": ".py",
   "mimetype": "text/x-python",
   "name": "python",
   "nbconvert_exporter": "python",
   "pygments_lexer": "ipython3",
   "version": "3.6.5"
  }
 },
 "nbformat": 4,
 "nbformat_minor": 2
}
