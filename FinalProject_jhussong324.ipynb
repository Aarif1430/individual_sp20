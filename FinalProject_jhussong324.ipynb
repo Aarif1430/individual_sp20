{
 "cells": [
  {
   "cell_type": "markdown",
   "metadata": {},
   "source": [
    "# COGS 108 Final Project"
   ]
  },
  {
   "cell_type": "markdown",
   "metadata": {},
   "source": [
    "# Overview\n",
    "\n",
    "### In this project I started by analyzing what datasets I wanted to make use of for this project. Followed by that I imported all the relevant data, cleaned it, then grouped it to figure out if my hypothesis was correct.\n",
    "\n",
    "\n",
    "\n",
    "### My results showed that there is not a relationship between the median family income in a given zipcode and a price rating on Yelp. I found this to be quite surprising, as I expected higher income zipcodes to have more expensive restaurants."
   ]
  },
  {
   "cell_type": "markdown",
   "metadata": {},
   "source": [
    "### Joshua Hussong, A15093653"
   ]
  },
  {
   "cell_type": "markdown",
   "metadata": {},
   "source": [
    "# Research Question\n",
    "\n",
    "### My question: Is there a relationship between the median family income in a given zipcode and a restaurant's price rating on Yelp?\n",
    "\n",
    "#### In other words I hope to whethere there are more expensive restaurants based on a price rating, in more expensive neighborhoods."
   ]
  },
  {
   "cell_type": "markdown",
   "metadata": {},
   "source": [
    "# Background and Prior Work\n",
    "\n",
    "#### I resused the basic information regarding food safety, and food inspections from my project proposal. I am adding more information regarding the Yelp price rating metric. \n",
    "\n",
    "#### According to a link on Yelp, provided by a peer on piazza, the Yelp price ratings are as follows:\n",
    "\n",
    "#### \"It's one of the survey questions that pops up when one checks in: \"Price per Person.\" \n",
    "\n",
    "##### 1 dollar sign = under 10. \n",
    "\n",
    "##### 2 dollar signs = 11-30. \n",
    "\n",
    "##### 3 dollar signs = 31-60. \n",
    "\n",
    "##### 4 dollar signs = over 61.\n",
    "\n",
    "The first link is informative on background information regarding food safety, and food inspections. They list out the different establishment types that are inspected. They also informed me more about the different levels of risk within different establishments. The website also discussed different violations and how establishments get shut down. The authors go into further detail discussing the differences between violations, and specific DC food regulations that are required. (https://dchealth.dc.gov/)\n",
    "\n",
    "The second link is less informative and gives more knowledge on how owners of restaurants can prepare for food inspections. They focus on different regulations that the government requires, such as cross-contamination and food safety. They also discuss pests and cleanliness levels required. (https://pos.toasttab.com/blog/on-the-line/restaurant-inspection)\n",
    "\n",
    "I added a third link to give me more specific information regarding my research proposal and question. I noticed that it has been asked and analyzed before, specifically in Philadelphia. I think that this proves that my research question is valid and should be considered in other locations of the country. The article showed chain versus non-chain restaurants and the frequency of violations; however, I want to focus more on style of cuisine. These results showed that chains got less violations per inspection. This is something to consider when analyzing my data to see if I get similar results in my question. (https://www.ncbi.nlm.nih.gov/pmc/articles/PMC5349477/)\n",
    "\n",
    "References (include links):\n",
    "\n",
    "1) https://dchealth.dc.gov/service/understanding-food-establishment-inspections\n",
    "\n",
    "2) https://pos.toasttab.com/blog/on-the-line/restaurant-inspection\n",
    "\n",
    "3) https://www.ncbi.nlm.nih.gov/pmc/articles/PMC5349477/"
   ]
  },
  {
   "cell_type": "markdown",
   "metadata": {},
   "source": [
    "# Hypothesis\n",
    "\n",
    "\n",
    "##### My hypothesis is that there is a relationship between the median family household income (based on zip)  and the price rating on Yelp. In other words, are there more expensive restaurants in higher income zipcodes, and the other way around as well.\n",
    "\n",
    "##### I believe this because in the area I grew up in, there were wealthier neighborhoods, which would lead to wealthier zipcodes. Based on this, I would assume that there would be a higher chance for there to be higher price rated restaurants on Yelp."
   ]
  },
  {
   "cell_type": "markdown",
   "metadata": {},
   "source": [
    "# Dataset(s)\n",
    "\n",
    "\n",
    "### The datasets I made use of were the Yelp dataset and the zipcode dataset provided by the professor. \n",
    "\n",
    "\n",
    "Dataset Name: Yelp Dataset\n",
    "\n",
    "Link to the dataset: provided by professor on Canvas\n",
    "\n",
    "Number of observations: There were 132,804 total observations; however, from this dataset I only made use of a few columns.\n",
    "\n",
    "The dataset contains information about the restaurant, the price rating, and the different food categories the restaurants fall under.\n",
    "\n",
    "\n",
    "Dataset Name: Zipcode Dataset\n",
    "\n",
    "Link to the dataset: provided by professor on Canvas\n",
    "\n",
    "Number of observations: There were 312 total observations; however, from this dataset I only made use of a few columns.\n",
    "\n",
    "The dataset contains information about the different zipcodes. It discusses the median household income, a lot of information about the monetary values, and some racial background information. This could have been something that I utilized as well, but for lack of time I kept my analyses smaller."
   ]
  },
  {
   "cell_type": "markdown",
   "metadata": {},
   "source": [
    "# Setup"
   ]
  },
  {
   "cell_type": "code",
   "execution_count": 1,
   "metadata": {},
   "outputs": [],
   "source": [
    "import numpy as np\n",
    "import pandas as pd\n",
    "import matplotlib.pyplot as plt\n",
    "import scipy as sc\n",
    "from scipy import stats"
   ]
  },
  {
   "cell_type": "code",
   "execution_count": 2,
   "metadata": {},
   "outputs": [],
   "source": [
    "rest_df = pd.read_csv('restaurants.csv')\n",
    "insp_df = pd.read_csv('inspections.csv')\n",
    "yelp_df = pd.read_csv('yelp.csv')\n",
    "zip_df = pd.read_csv('zipcodes.csv')"
   ]
  },
  {
   "cell_type": "markdown",
   "metadata": {},
   "source": [
    "# Data Cleaning\n",
    "\n",
    "\n",
    "I want to rename the columns so I can merge based on zip_code, then I want to do an inner merge, followed by dropping columns that I consider not important for my data. I continue this by sorting the data based on price, and then drop Nan values and rename some columns that had misspellings. After that I convert the dollar signs in the price column into numerical values."
   ]
  },
  {
   "cell_type": "code",
   "execution_count": 3,
   "metadata": {},
   "outputs": [],
   "source": [
    "zip_df = zip_df.rename(columns  = {'zip':'zip_code'})\n",
    "yelp_zip_merge = pd.merge(zip_df, yelp_df, on = 'zip_code', how = 'inner')\n",
    "yelp_zip_merge = yelp_zip_merge.drop(yelp_zip_merge.columns[-21:],axis = 1)\n",
    "yelp_zip_merge = yelp_zip_merge.drop(['is_closed','latitude','longitude',\n",
    "                                      'percent_supplemental_security_income','percent_snap_benefits'], axis = 1)\n",
    "yelp_zip_merge = yelp_zip_merge.sort_values(by='price', ascending=True)\n",
    "yelp_zip_merge = yelp_zip_merge.dropna(subset=['price'])\n",
    "yelp_zip_merge = yelp_zip_merge.rename(columns  = {'percent_damilies_below_poverty_line':'percent_families_below_poverty_line'})\n",
    "yelp_zip_merge = yelp_zip_merge[:-48]\n",
    "conversion = {'$':1,'$$':2,'$$$':3}\n",
    "final_df = yelp_zip_merge.replace(conversion)"
   ]
  },
  {
   "cell_type": "code",
   "execution_count": 4,
   "metadata": {},
   "outputs": [],
   "source": [
    "#final_df['zip_code'].value_counts()"
   ]
  },
  {
   "cell_type": "code",
   "execution_count": 5,
   "metadata": {
    "scrolled": true
   },
   "outputs": [],
   "source": [
    "#df_zip_sorted['zip_code'].value_counts().sort_index()"
   ]
  },
  {
   "cell_type": "markdown",
   "metadata": {},
   "source": [
    "### Note: 27522 and 27592 should be dropped bc less than 5 values for the scipy.stats values, but for the sake of including all data I will keep it and make note of it at the end in my conclusion."
   ]
  },
  {
   "cell_type": "markdown",
   "metadata": {},
   "source": [
    "# Data Analysis, Visualization & Results"
   ]
  },
  {
   "cell_type": "markdown",
   "metadata": {},
   "source": [
    "## EDA\n",
    "\n",
    "\n",
    "The variables are all medians from the zipcode dataset. Thus, I am assuming there were outliers from the original dataset. However, since they are already translated to medians from the original dataset, I stuck with all the results. The median is the most robust and least affected by outliers, so these results should all be safe to assume that there are no outliers. I did notice that there were 2 zipcodes with a small amount of results; however, I kept them in my analysis because they already got moved into medians. This is something to consider moving forward if I were to redo my project or expand upon it. There did not appear to be any variables that were noticeably correlated without further analysis. Minor relationships probably occurred, but given the smaller dataset this could be due to random chance, and not representative of the overall population. Also, it depends if we consider the state to be the overall population or the United States. \n",
    "\n",
    "#### There is an outlier test that I used. I proved that there were no outliers in the median family income dollars, but the small sample size from some of the zipcods could have been an issue."
   ]
  },
  {
   "cell_type": "code",
   "execution_count": 6,
   "metadata": {},
   "outputs": [
    {
     "data": {
      "text/plain": [
       "[]"
      ]
     },
     "execution_count": 6,
     "metadata": {},
     "output_type": "execute_result"
    }
   ],
   "source": [
    "outliers=[]\n",
    "def detect_outlier(data_1):\n",
    "    \n",
    "    threshold=3\n",
    "    mean_1 = np.mean(data_1)\n",
    "    std_1 =np.std(data_1)\n",
    "    \n",
    "    \n",
    "    for y in data_1:\n",
    "        z_score= (y - mean_1)/std_1 \n",
    "        if np.abs(z_score) > threshold:\n",
    "            outliers.append(y)\n",
    "    return outliers\n",
    "\n",
    "detect_outlier(yelp_zip_merge['median_family_income_dollars'])"
   ]
  },
  {
   "cell_type": "markdown",
   "metadata": {},
   "source": [
    "### In the results I am going to start by finding the number of dollar sign restaurants in our dataset after cleaning the data."
   ]
  },
  {
   "cell_type": "code",
   "execution_count": 7,
   "metadata": {},
   "outputs": [
    {
     "data": {
      "text/plain": [
       "$$     1227\n",
       "$      1180\n",
       "$$$      91\n",
       "Name: price, dtype: int64"
      ]
     },
     "execution_count": 7,
     "metadata": {},
     "output_type": "execute_result"
    }
   ],
   "source": [
    "yelp_zip_merge['price'].value_counts()"
   ]
  },
  {
   "cell_type": "code",
   "execution_count": 8,
   "metadata": {},
   "outputs": [
    {
     "data": {
      "image/png": "[encoded data removed]",
      "text/plain": [
       "<Figure size 1152x720 with 1 Axes>"
      ]
     },
     "metadata": {
      "needs_background": "light"
     },
     "output_type": "display_data"
    }
   ],
   "source": [
    "selected_columns = final_df[[\"zip_code\",\"median_family_income_dollars\"]]\n",
    "\n",
    "graph1 = selected_columns.copy()\n",
    "\n",
    "graph1\n",
    "\n",
    "\n",
    "\n",
    "graph1.groupby(['zip_code']).median().plot(kind='bar',color='green',figsize=(16,10))\n",
    "plt.title('Zip Code with Median Household Income')\n",
    "plt.ylabel('Price in Dollars')\n",
    "degrees = 45\n",
    "plt.xticks(rotation=degrees)\n",
    "#plt.xticks(fontsize= 10)\n",
    "plt.show()"
   ]
  },
  {
   "cell_type": "markdown",
   "metadata": {},
   "source": [
    "### I am going to do 3 separate graphs. In this graph I am sorting by zip_code and using the median family income in dollars for us to visualize the data.\n",
    "\n",
    "\n",
    "#### I start by grouping the data, then give it a title, then make some minor adjustments to the size, x ticks  and labels.\n",
    "\n",
    "### This graph above shows that just based on visualization, there appears to be differences in median household income based on zip code. We see that there is one zipcode that is quite lower, and a few that are quite higher. These were proven to not be outliers, so I included them all to give a strong representation of the data. However, they had small datapoints."
   ]
  },
  {
   "cell_type": "code",
   "execution_count": 9,
   "metadata": {},
   "outputs": [
    {
     "data": {
      "text/plain": [
       "Text(0, 0.5, 'Yelp Rating (1-5)')"
      ]
     },
     "execution_count": 9,
     "metadata": {},
     "output_type": "execute_result"
    },
    {
     "data": {
      "image/png": "[encoded data removed]",
      "text/plain": [
       "<Figure size 1152x720 with 1 Axes>"
      ]
     },
     "metadata": {
      "needs_background": "light"
     },
     "output_type": "display_data"
    }
   ],
   "source": [
    "selected_columns_2 = final_df[[\"zip_code\",'rating']]\n",
    "\n",
    "\n",
    "graph2 = selected_columns_2.copy()\n",
    "\n",
    "graph2\n",
    "\n",
    "\n",
    "graph2.groupby(['zip_code']).mean().plot(kind='bar',color='blue',figsize=(16,10))\n",
    "plt.title('Average Rating Based on Zipcode (mean)')\n",
    "degrees = 45\n",
    "plt.xticks(rotation=degrees)\n",
    "plt.ylabel('Yelp Rating (1-5)')"
   ]
  },
  {
   "cell_type": "markdown",
   "metadata": {},
   "source": [
    "### This will be the second graph above. In this I am still grouping by zip_code and now visualizing the median rating for the restaurants within the given zip codes. I think this graph is useful to allow us to see what quality of restaurants we are having within different zip codes. If I had more time, or in the future I am considering using the ratings to explore more relationships within the data.\n",
    "\n",
    "\n",
    "#### I start by grouping the data, and doing the same things as above in  graph1.\n",
    "\n",
    "\n",
    "### The graph isn't the best at visualizing the data; however, it does show that there appears to be no difference amongst average ratings based on the zipcode. I made this graph to visualize if people tended to rate certain restaurants differently based on their income background. Also, it woud allow me to see better if there were a few restaurants that were being rated significantly lower than others, pointing out potential outliers in the dataset."
   ]
  },
  {
   "cell_type": "code",
   "execution_count": 10,
   "metadata": {},
   "outputs": [
    {
     "data": {
      "text/plain": [
       "([<matplotlib.axis.YTick at 0x7fb9bee3ca58>,\n",
       "  <matplotlib.axis.YTick at 0x7fb9bee3c358>,\n",
       "  <matplotlib.axis.YTick at 0x7fb9bee1fb00>,\n",
       "  <matplotlib.axis.YTick at 0x7fb9bedf36d8>,\n",
       "  <matplotlib.axis.YTick at 0x7fb9bedf3e80>,\n",
       "  <matplotlib.axis.YTick at 0x7fb9bedf39b0>,\n",
       "  <matplotlib.axis.YTick at 0x7fb9bedeaeb8>,\n",
       "  <matplotlib.axis.YTick at 0x7fb9bede2e80>,\n",
       "  <matplotlib.axis.YTick at 0x7fb9bedfa748>,\n",
       "  <matplotlib.axis.YTick at 0x7fb9bedfacc0>,\n",
       "  <matplotlib.axis.YTick at 0x7fb9bee01278>,\n",
       "  <matplotlib.axis.YTick at 0x7fb9bee017f0>,\n",
       "  <matplotlib.axis.YTick at 0x7fb9bee01d68>,\n",
       "  <matplotlib.axis.YTick at 0x7fb9bee08320>,\n",
       "  <matplotlib.axis.YTick at 0x7fb9bee08898>,\n",
       "  <matplotlib.axis.YTick at 0x7fb9bee018d0>,\n",
       "  <matplotlib.axis.YTick at 0x7fb9bedea2b0>,\n",
       "  <matplotlib.axis.YTick at 0x7fb9bee08d30>,\n",
       "  <matplotlib.axis.YTick at 0x7fb9bed902e8>,\n",
       "  <matplotlib.axis.YTick at 0x7fb9bed90860>],\n",
       " <a list of 20 Text yticklabel objects>)"
      ]
     },
     "execution_count": 10,
     "metadata": {},
     "output_type": "execute_result"
    },
    {
     "data": {
      "image/png": "[encoded data removed]",
      "text/plain": [
       "<Figure size 864x576 with 1 Axes>"
      ]
     },
     "metadata": {
      "needs_background": "light"
     },
     "output_type": "display_data"
    }
   ],
   "source": [
    "selected_columns_3 = final_df[[\"price\",'median_family_income_dollars']]\n",
    "\n",
    "\n",
    "graph3 = selected_columns_3.copy()\n",
    "\n",
    "graph2\n",
    "\n",
    "\n",
    "graph3.groupby(['price']).mean().plot(kind='bar',color='blue',figsize=(12,8))\n",
    "plt.title('Rating Based on Zipcode')\n",
    "plt.xlabel('Yelp dollar sign ranking')\n",
    "plt.ylabel('Median Family Income (dollars)')\n",
    "degrees = 0\n",
    "plt.xticks(rotation=degrees)\n",
    "plt.yticks(np.arange(0, 100000, step=5000))"
   ]
  },
  {
   "cell_type": "markdown",
   "metadata": {},
   "source": [
    "### This is the third and last graph I will be showing from our datasets and exploration. I found that this graph was the most relevant to our exploration of data and using statistical testing. As a bar graph, it isn't the best at visualizing; however, you can see a small difference in the 3 dollar sign, and 1 dollar sign restaurants.\n",
    "\n",
    "\n",
    "#### This one I did slightly differently than above. I grouped by the dollar sign rating, and then made some minor adjustments as above. I adjusted the y ticks to help visualize things a bit better.\n",
    "\n",
    "### This last graph is useful because it is the one we will be using to analyze mathematically. It is grouping by price rating on Yelp, and then found the median family income based on the price rating in the same zipcode. It shows that 3 dollar signs is slightly higher than both, but it doesn't appear to be much different. This shocked me and helped me visualize the data better."
   ]
  },
  {
   "cell_type": "markdown",
   "metadata": {},
   "source": [
    "### If we groupby zipcode and find the Kruk Wallis outcome, we get a 0.00.\n",
    "\n",
    "#### I do things manually here because I totally forgot the itterrows function, and got stuck making a loop when sorting values. I know this  isn't the most efficient or effective way, but I just wanted to see if there was a relationship at all. A 0.00 shows that the data is impossible under our given null."
   ]
  },
  {
   "cell_type": "code",
   "execution_count": 11,
   "metadata": {},
   "outputs": [
    {
     "data": {
      "text/plain": [
       "KruskalResult(statistic=2496.9999999999986, pvalue=0.0)"
      ]
     },
     "execution_count": 11,
     "metadata": {},
     "output_type": "execute_result"
    }
   ],
   "source": [
    "\n",
    "df_zip_sorted = final_df.sort_values(by  = ['zip_code'])\n",
    "z1 = df_zip_sorted[0:9]['median_family_income_dollars']\n",
    "z2 = df_zip_sorted[9:86]['median_family_income_dollars']\n",
    "z3 = df_zip_sorted[86:241]['median_family_income_dollars']\n",
    "z4 = df_zip_sorted[241:356]['median_family_income_dollars']\n",
    "z5 = df_zip_sorted[356:433]['median_family_income_dollars']\n",
    "z6 = df_zip_sorted[433:484]['median_family_income_dollars']\n",
    "z7 = df_zip_sorted[484:512]['median_family_income_dollars']\n",
    "z8 = df_zip_sorted[512:515]['median_family_income_dollars']\n",
    "z9 = df_zip_sorted[515:532]['median_family_income_dollars']\n",
    "z10 = df_zip_sorted[532:618]['median_family_income_dollars']\n",
    "z11 = df_zip_sorted[618:708]['median_family_income_dollars']\n",
    "z12 = df_zip_sorted[708:722]['median_family_income_dollars']\n",
    "z13 = df_zip_sorted[722:778]['median_family_income_dollars']\n",
    "z14 = df_zip_sorted[778:818]['median_family_income_dollars']\n",
    "z15 = df_zip_sorted[818:958]['median_family_income_dollars']\n",
    "z16 = df_zip_sorted[958:970]['median_family_income_dollars']\n",
    "z17 = df_zip_sorted[970:1089]['median_family_income_dollars']\n",
    "z18 = df_zip_sorted[1089:1099]['median_family_income_dollars']\n",
    "z19 = df_zip_sorted[1099:1101]['median_family_income_dollars']\n",
    "z20 = df_zip_sorted[1101:1108]['median_family_income_dollars']\n",
    "z21 = df_zip_sorted[1108:1129]['median_family_income_dollars']\n",
    "z22 = df_zip_sorted[1129:1237]['median_family_income_dollars']\n",
    "z23 = df_zip_sorted[1237:1371]['median_family_income_dollars']\n",
    "z24 = df_zip_sorted[1371:1490]['median_family_income_dollars']\n",
    "z25 = df_zip_sorted[1490:1542]['median_family_income_dollars']\n",
    "z26 = df_zip_sorted[1542:1611]['median_family_income_dollars']\n",
    "z27 = df_zip_sorted[1611:1707]['median_family_income_dollars']\n",
    "z28 = df_zip_sorted[1707:1745]['median_family_income_dollars']\n",
    "z29 = df_zip_sorted[1745:1883]['median_family_income_dollars']\n",
    "z30 = df_zip_sorted[1883:1932]['median_family_income_dollars']\n",
    "z31 = df_zip_sorted[1932:2063]['median_family_income_dollars']\n",
    "z32 = df_zip_sorted[2063:2125]['median_family_income_dollars']\n",
    "z33 = df_zip_sorted[2125:2172]['median_family_income_dollars']\n",
    "z34 = df_zip_sorted[2172:2291]['median_family_income_dollars']\n",
    "z35 = df_zip_sorted[2291:2377]['median_family_income_dollars']\n",
    "z36 = df_zip_sorted[2377:2454]['median_family_income_dollars']\n",
    "z37 = df_zip_sorted[2454:2498]['median_family_income_dollars']\n",
    "\n",
    "\n",
    "stats.kruskal(z1,z2,z3,z4,z5,z6,z7,z8,z9,z10,z11,z12,z13,z14,z15,z16,z17,z18,z19,z20,z21,z22,z23,z24,z25,z26\n",
    "             ,z27,z28,z29,z30,z31,z32,z33,z34,z35,z36,z37)\n",
    "\n",
    "#z1"
   ]
  },
  {
   "cell_type": "markdown",
   "metadata": {},
   "source": [
    "## This is our most important result that we got after exploring the data. We grouped by price and found the median household income based on the price rating on yelp. I assumed that the data was not normal, since we were given the median and decided to move forward with a kruskal test in order to find if there was significant results in our dataset. "
   ]
  },
  {
   "cell_type": "code",
   "execution_count": 12,
   "metadata": {},
   "outputs": [
    {
     "name": "stdout",
     "output_type": "stream",
     "text": [
      "KruskalResult(statistic=2.0, pvalue=0.36787944117144245)\n"
     ]
    }
   ],
   "source": [
    "\n",
    "#df_zip1['zip_code'].value_counts()\n",
    "#df_zip2['zip_code'].value_counts()\n",
    "\n",
    "\n",
    "\n",
    "final_df.groupby(['price']).median()\n",
    "\n",
    "\n",
    "v1 = [85325]\n",
    "v2 = [89184]\n",
    "v3 = [96247]\n",
    "\n",
    "print(stats.kruskal(v1,v2,v3))"
   ]
  },
  {
   "cell_type": "code",
   "execution_count": 13,
   "metadata": {},
   "outputs": [
    {
     "data": {
      "text/html": [
       "<div>\n",
       "<style scoped>\n",
       "    .dataframe tbody tr th:only-of-type {\n",
       "        vertical-align: middle;\n",
       "    }\n",
       "\n",
       "    .dataframe tbody tr th {\n",
       "        vertical-align: top;\n",
       "    }\n",
       "\n",
       "    .dataframe thead th {\n",
       "        text-align: right;\n",
       "    }\n",
       "</style>\n",
       "<table border=\"1\" class=\"dataframe\">\n",
       "  <thead>\n",
       "    <tr style=\"text-align: right;\">\n",
       "      <th></th>\n",
       "      <th>zip_code</th>\n",
       "      <th>median_family_income_dollars</th>\n",
       "      <th>median_household_income_dollars</th>\n",
       "      <th>per_capita_income_dollars</th>\n",
       "      <th>percent_families_below_poverty_line</th>\n",
       "      <th>percent_nonwhite</th>\n",
       "      <th>rating</th>\n",
       "      <th>review_count</th>\n",
       "    </tr>\n",
       "    <tr>\n",
       "      <th>price</th>\n",
       "      <th></th>\n",
       "      <th></th>\n",
       "      <th></th>\n",
       "      <th></th>\n",
       "      <th></th>\n",
       "      <th></th>\n",
       "      <th></th>\n",
       "      <th></th>\n",
       "    </tr>\n",
       "  </thead>\n",
       "  <tbody>\n",
       "    <tr>\n",
       "      <th>1</th>\n",
       "      <td>27603</td>\n",
       "      <td>85325</td>\n",
       "      <td>66025</td>\n",
       "      <td>33139</td>\n",
       "      <td>8.4</td>\n",
       "      <td>25.6</td>\n",
       "      <td>3.5</td>\n",
       "      <td>17</td>\n",
       "    </tr>\n",
       "    <tr>\n",
       "      <th>2</th>\n",
       "      <td>27601</td>\n",
       "      <td>89184</td>\n",
       "      <td>67392</td>\n",
       "      <td>34731</td>\n",
       "      <td>5.5</td>\n",
       "      <td>25.6</td>\n",
       "      <td>3.5</td>\n",
       "      <td>35</td>\n",
       "    </tr>\n",
       "    <tr>\n",
       "      <th>3</th>\n",
       "      <td>27605</td>\n",
       "      <td>96247</td>\n",
       "      <td>68864</td>\n",
       "      <td>39008</td>\n",
       "      <td>5.5</td>\n",
       "      <td>25.6</td>\n",
       "      <td>4.0</td>\n",
       "      <td>20</td>\n",
       "    </tr>\n",
       "  </tbody>\n",
       "</table>\n",
       "</div>"
      ],
      "text/plain": [
       "       zip_code  median_family_income_dollars  \\\n",
       "price                                           \n",
       "1         27603                         85325   \n",
       "2         27601                         89184   \n",
       "3         27605                         96247   \n",
       "\n",
       "       median_household_income_dollars  per_capita_income_dollars  \\\n",
       "price                                                               \n",
       "1                                66025                      33139   \n",
       "2                                67392                      34731   \n",
       "3                                68864                      39008   \n",
       "\n",
       "       percent_families_below_poverty_line  percent_nonwhite  rating  \\\n",
       "price                                                                  \n",
       "1                                      8.4              25.6     3.5   \n",
       "2                                      5.5              25.6     3.5   \n",
       "3                                      5.5              25.6     4.0   \n",
       "\n",
       "       review_count  \n",
       "price                \n",
       "1                17  \n",
       "2                35  \n",
       "3                20  "
      ]
     },
     "execution_count": 13,
     "metadata": {},
     "output_type": "execute_result"
    }
   ],
   "source": [
    "final_df.groupby(['price']).median()"
   ]
  },
  {
   "cell_type": "markdown",
   "metadata": {},
   "source": [
    "## Chose alpha level of 0.05, the standard. We found that the p-value is 0.368 which is greater than our alpha value which shows that there is no significant difference in the median values if we groupby price."
   ]
  },
  {
   "cell_type": "code",
   "execution_count": 14,
   "metadata": {},
   "outputs": [
    {
     "data": {
      "text/html": [
       "<div>\n",
       "<style scoped>\n",
       "    .dataframe tbody tr th:only-of-type {\n",
       "        vertical-align: middle;\n",
       "    }\n",
       "\n",
       "    .dataframe tbody tr th {\n",
       "        vertical-align: top;\n",
       "    }\n",
       "\n",
       "    .dataframe thead th {\n",
       "        text-align: right;\n",
       "    }\n",
       "</style>\n",
       "<table border=\"1\" class=\"dataframe\">\n",
       "  <thead>\n",
       "    <tr style=\"text-align: right;\">\n",
       "      <th></th>\n",
       "      <th>median_family_income_dollars</th>\n",
       "      <th>median_household_income_dollars</th>\n",
       "      <th>per_capita_income_dollars</th>\n",
       "      <th>percent_families_below_poverty_line</th>\n",
       "      <th>percent_nonwhite</th>\n",
       "      <th>rating</th>\n",
       "      <th>review_count</th>\n",
       "      <th>price</th>\n",
       "    </tr>\n",
       "    <tr>\n",
       "      <th>zip_code</th>\n",
       "      <th></th>\n",
       "      <th></th>\n",
       "      <th></th>\n",
       "      <th></th>\n",
       "      <th></th>\n",
       "      <th></th>\n",
       "      <th></th>\n",
       "      <th></th>\n",
       "    </tr>\n",
       "  </thead>\n",
       "  <tbody>\n",
       "    <tr>\n",
       "      <th>27501</th>\n",
       "      <td>59408.0</td>\n",
       "      <td>51121.0</td>\n",
       "      <td>21631.0</td>\n",
       "      <td>10.5</td>\n",
       "      <td>17.9</td>\n",
       "      <td>4.0</td>\n",
       "      <td>14.0</td>\n",
       "      <td>1.0</td>\n",
       "    </tr>\n",
       "    <tr>\n",
       "      <th>27502</th>\n",
       "      <td>109891.0</td>\n",
       "      <td>95857.0</td>\n",
       "      <td>36763.0</td>\n",
       "      <td>3.4</td>\n",
       "      <td>18.9</td>\n",
       "      <td>3.5</td>\n",
       "      <td>24.0</td>\n",
       "      <td>2.0</td>\n",
       "    </tr>\n",
       "    <tr>\n",
       "      <th>27511</th>\n",
       "      <td>82292.0</td>\n",
       "      <td>67392.0</td>\n",
       "      <td>33139.0</td>\n",
       "      <td>9.6</td>\n",
       "      <td>24.8</td>\n",
       "      <td>3.5</td>\n",
       "      <td>33.0</td>\n",
       "      <td>2.0</td>\n",
       "    </tr>\n",
       "    <tr>\n",
       "      <th>27513</th>\n",
       "      <td>109736.0</td>\n",
       "      <td>87262.0</td>\n",
       "      <td>41232.0</td>\n",
       "      <td>3.8</td>\n",
       "      <td>27.8</td>\n",
       "      <td>3.5</td>\n",
       "      <td>26.0</td>\n",
       "      <td>2.0</td>\n",
       "    </tr>\n",
       "    <tr>\n",
       "      <th>27518</th>\n",
       "      <td>125432.0</td>\n",
       "      <td>98247.0</td>\n",
       "      <td>49865.0</td>\n",
       "      <td>5.5</td>\n",
       "      <td>19.9</td>\n",
       "      <td>3.5</td>\n",
       "      <td>23.0</td>\n",
       "      <td>2.0</td>\n",
       "    </tr>\n",
       "  </tbody>\n",
       "</table>\n",
       "</div>"
      ],
      "text/plain": [
       "          median_family_income_dollars  median_household_income_dollars  \\\n",
       "zip_code                                                                  \n",
       "27501                          59408.0                          51121.0   \n",
       "27502                         109891.0                          95857.0   \n",
       "27511                          82292.0                          67392.0   \n",
       "27513                         109736.0                          87262.0   \n",
       "27518                         125432.0                          98247.0   \n",
       "\n",
       "          per_capita_income_dollars  percent_families_below_poverty_line  \\\n",
       "zip_code                                                                   \n",
       "27501                       21631.0                                 10.5   \n",
       "27502                       36763.0                                  3.4   \n",
       "27511                       33139.0                                  9.6   \n",
       "27513                       41232.0                                  3.8   \n",
       "27518                       49865.0                                  5.5   \n",
       "\n",
       "          percent_nonwhite  rating  review_count  price  \n",
       "zip_code                                                 \n",
       "27501                 17.9     4.0          14.0    1.0  \n",
       "27502                 18.9     3.5          24.0    2.0  \n",
       "27511                 24.8     3.5          33.0    2.0  \n",
       "27513                 27.8     3.5          26.0    2.0  \n",
       "27518                 19.9     3.5          23.0    2.0  "
      ]
     },
     "execution_count": 14,
     "metadata": {},
     "output_type": "execute_result"
    }
   ],
   "source": [
    "#z\n",
    "final_df.groupby(['zip_code']).median().head()"
   ]
  },
  {
   "cell_type": "code",
   "execution_count": 15,
   "metadata": {},
   "outputs": [],
   "source": [
    "#z['median_family_income_dollars']"
   ]
  },
  {
   "cell_type": "markdown",
   "metadata": {},
   "source": [
    "### We already checked for the median price and saw that there was no significant difference in the median household income based on the restaurant pricing. We are going to check for mean differences amongst family income in dollars grouped by price. Same result, am not the most experienced with kruskal tests so I am not sure what this could mean or does mean."
   ]
  },
  {
   "cell_type": "code",
   "execution_count": 16,
   "metadata": {},
   "outputs": [
    {
     "name": "stdout",
     "output_type": "stream",
     "text": [
      "KruskalResult(statistic=2.0, pvalue=0.36787944117144245)\n"
     ]
    }
   ],
   "source": [
    "final_df.groupby(['price']).mean()\n",
    "\n",
    "\n",
    "x1 = [83917.141525]\n",
    "x2 = [85600.893236]\n",
    "x3 = [91190.472527]\n",
    "\n",
    "print(stats.kruskal(x1,x2,x3))"
   ]
  },
  {
   "cell_type": "code",
   "execution_count": 17,
   "metadata": {},
   "outputs": [],
   "source": [
    "#final_df.groupby(['zip_code']).mean()"
   ]
  },
  {
   "cell_type": "markdown",
   "metadata": {},
   "source": [
    "# Ethics & Privacy\n",
    "\n",
    "I had to change the ethics and privacy considerations for this new project. The data is all publicly accessible, so there should be no concern on the information I am utilizing. I shouldn't need to worry about human ethics or privacy since this is all about restaurants or zipcodes. One thing to consider is that if I were to find significant results regarding this information in the future, or don't that I should consider how this could impact neighborhoods and the families in those zipcodes. If there was a publication explaining how richer neighborhoods are proven to hold more \"expensive\" restaurants, it could negatively impact the lower socioeconomic status zipcodes. This is something to consider moving forward. There was some inherent bias in the data, as all of it was from one state. This could not be representative of the overall population of the United States. Also, some data got wiped due to errors, either machine, or human which could have impacted the results differently. The question I asked is ethical, the data is all publically accessible, and the post-analysis is ethical as well."
   ]
  },
  {
   "cell_type": "markdown",
   "metadata": {},
   "source": [
    "# Conclusion & Discussion\n",
    "\n",
    "\n",
    "My question was asking if there was a relationship between the price rating on Yelp, and the median family household income. After exploring the data I found that there was indeed NOT a relationship between these two variables. The results showed that there was not a difference when grouping by price rating on Yelp. There was a limiation of time on this, and if I were to expand this moving forward I would consider grouping by zip code properly, or exploring other relationships between household's income and Yelp ratings, either the 1-5 rating, or other aspects of Yelp. Also,  some of the zipcodes had <5 results, so these definitely could have affected the results. I kept these datapoints in order to explore some of the lower-income zipcodes; however, looking back I may have found more significant results if I removed any zipcodes that had less than 5 datapoints. Moving forward this could be something that could be explored on a larger scale, either across multiple states, or the entire United States. Lastly, I would consider grouping the data into different groupings to see if there are any relationships between the data, I am intrigued as to this. "
   ]
  }
 ],
 "metadata": {
  "kernelspec": {
   "display_name": "Python 3",
   "language": "python",
   "name": "python3"
  },
  "language_info": {
   "codemirror_mode": {
    "name": "ipython",
    "version": 3
   },
   "file_extension": ".py",
   "mimetype": "text/x-python",
   "name": "python",
   "nbconvert_exporter": "python",
   "pygments_lexer": "ipython3",
   "version": "3.6.7"
  }
 },
 "nbformat": 4,
 "nbformat_minor": 2
}
