{
 "cells": [
  {
   "cell_type": "markdown",
   "metadata": {},
   "source": [
    "# COGS 108 - Project Proposal"
   ]
  },
  {
   "cell_type": "markdown",
   "metadata": {},
   "source": [
    "# Names & PID\n",
    "\n",
    "- Name: Alan Lui\n",
    "- PID: A14674030"
   ]
  },
  {
   "cell_type": "markdown",
   "metadata": {},
   "source": [
    "# Research Question"
   ]
  },
  {
   "cell_type": "markdown",
   "metadata": {},
   "source": [
    "Are higher or lower densities of certain health violations correlated to different neighborhoods in San Francisco?"
   ]
  },
  {
   "cell_type": "markdown",
   "metadata": {},
   "source": [
    "## Background and Prior Work"
   ]
  },
  {
   "cell_type": "markdown",
   "metadata": {},
   "source": [
    "The health inspection process is based on the occurence of risks in a restaurant. These risks are divided into low, middle, and high risk as well as depending on food preperation method. Depending on how many risks of each severity a restaurant scores, they given a letter grade similar to academics (1). There many different types of violations such as communicable disease, hand washing, etc. (2) Over 7000 locations in San Francisco are inspected (1). They are given a score card that will be issued by the inspector which must be maintained at the food establishment and is available to the public online (3).\n",
    "\n",
    "References (include links):\n",
    "- 1) https://www.sfdph.org/dph/EH/Food/Score/default.asp\n",
    "- 2) https://www.sfdph.org/dph/EH/Food/Inspections.asp\n",
    "- 3) https://data.sfgov.org/Health-and-Social-Services/Restaurant-Scores-LIVES-Standard/pyih-qa8i"
   ]
  },
  {
   "cell_type": "markdown",
   "metadata": {},
   "source": [
    "# Hypothesis\n"
   ]
  },
  {
   "cell_type": "markdown",
   "metadata": {},
   "source": [
    "I believe that neighborhoods that are generally lower income in San Francsicso, such as the Tenderloin, will have more violations regarding cleanliness, rats and bugs, etc. Where as higher income neighborhoods such Saint Francis Woods will not have the same violations. It will be interesting to see what other correlations pop up."
   ]
  },
  {
   "cell_type": "markdown",
   "metadata": {},
   "source": [
    "# Data"
   ]
  },
  {
   "cell_type": "markdown",
   "metadata": {},
   "source": [
    "The ideal dataset would include the **neighborhood** of establishment. I dont expect this to be communicated because it isnt practical since zip codes are much more accurate. If **zip codes** were provided instead, I would directly translate them into the neighborhood they belong to. **Date of inspection** to establish a temporal aspect. **Inspector ID** to see trends among inspectors. **Violation type(s).** "
   ]
  },
  {
   "cell_type": "markdown",
   "metadata": {},
   "source": [
    "# Ethics & Privacy"
   ]
  },
  {
   "cell_type": "markdown",
   "metadata": {},
   "source": [
    "There should be few ethical issues in collecting the data since all restaurant inspection records are publicly availiable online. This means than anyone can access all records with all specificities if they wanted to.  However when presenting the data in a final report it may be important to omit restaurant names in order to prevent negative exposure to restaurants in question. We would also have to consider the effect the result's impact on neighborhoods' restaruants since less people may be willing to visit these neighborhoods thus affecting the economy of that neighborhood."
   ]
  },
  {
   "cell_type": "code",
   "execution_count": null,
   "metadata": {},
   "outputs": [],
   "source": []
  }
 ],
 "metadata": {
  "kernelspec": {
   "display_name": "Python 3",
   "language": "python",
   "name": "python3"
  },
  "language_info": {
   "codemirror_mode": {
    "name": "ipython",
    "version": 3
   },
   "file_extension": ".py",
   "mimetype": "text/x-python",
   "name": "python",
   "nbconvert_exporter": "python",
   "pygments_lexer": "ipython3",
   "version": "3.7.6"
  }
 },
 "nbformat": 4,
 "nbformat_minor": 2
}
