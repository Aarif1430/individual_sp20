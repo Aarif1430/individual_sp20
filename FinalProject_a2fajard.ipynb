{
 "cells": [
  {
   "cell_type": "markdown",
   "metadata": {},
   "source": [
    "# COGS 108 - Final Project "
   ]
  },
  {
   "cell_type": "markdown",
   "metadata": {},
   "source": [
    "# Overview"
   ]
  },
  {
   "cell_type": "markdown",
   "metadata": {},
   "source": [
    "My project consisted of finding factors that contribute to the scores of health inspections and if there was a relationship between the scores and low income levels. This meant finding information about where the the most violations occurred, how consistent restaurants were in keeping up with inspections, and the location of restaurants. I acknowledge that there are other factors that possibly contribute to health inspection scores, but these are the ones I focused for this project. The bigger cities are populated with more people, which I believed that these areas were the ones with the most health code violations because it would be harder for restaurants to keep up with many people. With families that I have lower incomes, they would be surrounded with restaurants that also had lower health scores. This can help Health Departments locate what areas to focus on first. \n",
    "\n",
    "I went through data that I found was useful from inspections, restaurants, violations, and zipcodes csv files. I organized what data I needed, dropped values that did not correspond, and merged dataframes into one. "
   ]
  },
  {
   "cell_type": "markdown",
   "metadata": {},
   "source": [
    "# Name & PID\n",
    "\n",
    "- Name: Anahi Fajardo\n",
    "- Github: a2fajard"
   ]
  },
  {
   "cell_type": "markdown",
   "metadata": {},
   "source": [
    "# Research Question"
   ]
  },
  {
   "cell_type": "markdown",
   "metadata": {},
   "source": [
    "**What is the relationship between health inspections and the location of restaurants?**"
   ]
  },
  {
   "cell_type": "markdown",
   "metadata": {},
   "source": [
    "## Background and Prior Work"
   ]
  },
  {
   "cell_type": "markdown",
   "metadata": {},
   "source": [
    "Health inspections are given to businesses that are selling food in order to ensure that business are following the proper safe food handling procedures. Not just anyone does the health inspections, but those from the State and/or Local Health Departments. Each state or city has their own health department and guidelines. According to Webstaurantstore, the most common health code violations are: food safety temperatures, improper food storage, poor personal hygiene, poor kitchen sanitation, and cross contamination. At the end of the inspection, the points are scored on a 100 point scale and a letter grade.  \n",
    "\n",
    "\n",
    "Restaurants are inspected once to 3 times a year, depending on how the conditions are. This can be up to evert 4 months. In this project, if health scores are good, their previous inspection dates should be high. To avoid getting a violation, restaurants go through different trainings from how to properly store food, to serving food, to personal hygiene. \n",
    "\n",
    "I will be able to explore more on the factors that influence the health inspection scores.\n",
    "\n",
    "References (include links):\n",
    "- 1) Webstaurant: https://www.webstaurantstore.com/article/16/health-inspection-checklist.html#:~:text=Health%20inspections%20are%20held%20to,inspections%20become%20a%20routine%20experience.\n",
    "- 2) County of Los Angeles Public Health: http://www.publichealth.lacounty.gov/eh/SSE/DESFAQ.htm\n",
    "- 3) Ryan Gromfin: https://pos.toasttab.com/blog/on-the-line/restaurant-health-code-violations"
   ]
  },
  {
   "cell_type": "markdown",
   "metadata": {},
   "source": [
    "# Hypothesis\n"
   ]
  },
  {
   "cell_type": "markdown",
   "metadata": {},
   "source": [
    "Restaurants that are located in highly populated areas have higher health inspection scores. This is due to inspections being consistent, food business employees having good hygiene, and people with higher level incomes being surrounded in these cities."
   ]
  },
  {
   "cell_type": "markdown",
   "metadata": {},
   "source": [
    "# Dataset(s)"
   ]
  },
  {
   "cell_type": "markdown",
   "metadata": {},
   "source": [
    "- Dataset Name: inspection.csv\n",
    "- Link to the dataset: given \n",
    "- Number of observations: 9932 rows × 6 columns\n",
    "\n",
    "This dataset contains information regarding restaurant names, city their in, days since their last inspection, and inspection scores. I plan on combining this dataset with restaurants.csv and match them with their hsisid. \n",
    "\n",
    "\n",
    "- Dataset Name: restaurants.csv\n",
    "- Link to the dataset: given \n",
    "- Number of observations: 2229 rows × 5 columns\n",
    "\n",
    "This dataset contains information regarding the retaurant name, city, and zipcodes. I plan on adding the zipcodes column to the above dataset. \n",
    "\n",
    "- Dataset Name: violations.csv\n",
    "- Link to the dataset: given \n",
    "- Number of observations: 95163 rows × 5 columns\n",
    "\n",
    "This dataset contains information regarding the type of violations, severity, and violation types. I plan on merging this dataset with the above two to match hsisid's to determine what restaurants have what violations. \n",
    "\n",
    "- Dataset Name: zipcodes.csv\n",
    "- Link to the dataset: given \n",
    "- Number of observations: 38 rows x 4 columns\n",
    "\n",
    "This last dataset contains information regarding the zipcodes and median family income dollars. This can determine whether higher level income families are in major cities. "
   ]
  },
  {
   "cell_type": "markdown",
   "metadata": {},
   "source": [
    "# Setup"
   ]
  },
  {
   "cell_type": "code",
   "execution_count": 1,
   "metadata": {},
   "outputs": [],
   "source": [
    "## YOUR CODE HERE\n",
    "%matplotlib inline\n",
    "\n",
    "import numpy as np\n",
    "import pandas as pd\n",
    "import matplotlib.pyplot as plt\n",
    "import matplotlib as mlp\n",
    "import seaborn as sns\n",
    "import statsmodels.api as sm\n",
    "from sklearn.linear_model import LinearRegression"
   ]
  },
  {
   "cell_type": "markdown",
   "metadata": {},
   "source": [
    "# Data Cleaning"
   ]
  },
  {
   "cell_type": "code",
   "execution_count": 2,
   "metadata": {},
   "outputs": [],
   "source": [
    "inspections = pd.read_csv('inspections.csv')\n",
    "restaurants = pd.read_csv('restaurants.csv')\n",
    "violations = pd.read_csv('violations.csv')\n",
    "zipcodes = pd.read_csv('zipcodes.csv')"
   ]
  },
  {
   "cell_type": "markdown",
   "metadata": {},
   "source": [
    "#### Inspections Data"
   ]
  },
  {
   "cell_type": "code",
   "execution_count": 3,
   "metadata": {},
   "outputs": [],
   "source": [
    "#Keeping the rows that I need from inspections\n",
    "inspection = inspections[['hsisid', 'city', 'facilitytype','days_since_previous_inspection', 'score']]"
   ]
  },
  {
   "cell_type": "code",
   "execution_count": 4,
   "metadata": {},
   "outputs": [],
   "source": [
    "# keeping restaurants only \n",
    "i = inspection[inspection['facilitytype'] == 'Restaurant']"
   ]
  },
  {
   "cell_type": "code",
   "execution_count": 5,
   "metadata": {},
   "outputs": [
    {
     "data": {
      "text/plain": [
       "hsisid                               0\n",
       "city                                 0\n",
       "facilitytype                         0\n",
       "days_since_previous_inspection    2053\n",
       "score                                0\n",
       "dtype: int64"
      ]
     },
     "execution_count": 5,
     "metadata": {},
     "output_type": "execute_result"
    }
   ],
   "source": [
    "# checking for Nan Values\n",
    "# previous_inspection_date and days_since_previous_inspection are corresponding with each other \n",
    "# so we know that we can't subtract the numbers to get the values needed\n",
    "i.isnull().sum()"
   ]
  },
  {
   "cell_type": "code",
   "execution_count": 6,
   "metadata": {
    "scrolled": true
   },
   "outputs": [],
   "source": [
    "#drop nan values\n",
    "i = i.dropna()"
   ]
  },
  {
   "cell_type": "code",
   "execution_count": 7,
   "metadata": {},
   "outputs": [
    {
     "data": {
      "text/html": [
       "<div>\n",
       "<style scoped>\n",
       "    .dataframe tbody tr th:only-of-type {\n",
       "        vertical-align: middle;\n",
       "    }\n",
       "\n",
       "    .dataframe tbody tr th {\n",
       "        vertical-align: top;\n",
       "    }\n",
       "\n",
       "    .dataframe thead th {\n",
       "        text-align: right;\n",
       "    }\n",
       "</style>\n",
       "<table border=\"1\" class=\"dataframe\">\n",
       "  <thead>\n",
       "    <tr style=\"text-align: right;\">\n",
       "      <th></th>\n",
       "      <th>hsisid</th>\n",
       "      <th>city</th>\n",
       "      <th>facility type</th>\n",
       "      <th>days since prev inspec</th>\n",
       "      <th>score</th>\n",
       "    </tr>\n",
       "  </thead>\n",
       "  <tbody>\n",
       "    <tr>\n",
       "      <th>496</th>\n",
       "      <td>4092013936</td>\n",
       "      <td>apex</td>\n",
       "      <td>Restaurant</td>\n",
       "      <td>46.0</td>\n",
       "      <td>96.5</td>\n",
       "    </tr>\n",
       "    <tr>\n",
       "      <th>652</th>\n",
       "      <td>4092016126</td>\n",
       "      <td>apex</td>\n",
       "      <td>Restaurant</td>\n",
       "      <td>58.0</td>\n",
       "      <td>96.0</td>\n",
       "    </tr>\n",
       "    <tr>\n",
       "      <th>828</th>\n",
       "      <td>4092015656</td>\n",
       "      <td>cary</td>\n",
       "      <td>Restaurant</td>\n",
       "      <td>87.0</td>\n",
       "      <td>98.0</td>\n",
       "    </tr>\n",
       "    <tr>\n",
       "      <th>854</th>\n",
       "      <td>4092016210</td>\n",
       "      <td>raleigh</td>\n",
       "      <td>Restaurant</td>\n",
       "      <td>70.0</td>\n",
       "      <td>97.5</td>\n",
       "    </tr>\n",
       "    <tr>\n",
       "      <th>892</th>\n",
       "      <td>4092016261</td>\n",
       "      <td>apex</td>\n",
       "      <td>Restaurant</td>\n",
       "      <td>97.0</td>\n",
       "      <td>98.5</td>\n",
       "    </tr>\n",
       "    <tr>\n",
       "      <th>...</th>\n",
       "      <td>...</td>\n",
       "      <td>...</td>\n",
       "      <td>...</td>\n",
       "      <td>...</td>\n",
       "      <td>...</td>\n",
       "    </tr>\n",
       "    <tr>\n",
       "      <th>18453</th>\n",
       "      <td>4092015590</td>\n",
       "      <td>raleigh</td>\n",
       "      <td>Restaurant</td>\n",
       "      <td>281.0</td>\n",
       "      <td>93.5</td>\n",
       "    </tr>\n",
       "    <tr>\n",
       "      <th>18454</th>\n",
       "      <td>4092016479</td>\n",
       "      <td>raleigh</td>\n",
       "      <td>Restaurant</td>\n",
       "      <td>147.0</td>\n",
       "      <td>97.0</td>\n",
       "    </tr>\n",
       "    <tr>\n",
       "      <th>18455</th>\n",
       "      <td>4092016866</td>\n",
       "      <td>cary</td>\n",
       "      <td>Restaurant</td>\n",
       "      <td>205.0</td>\n",
       "      <td>97.0</td>\n",
       "    </tr>\n",
       "    <tr>\n",
       "      <th>18456</th>\n",
       "      <td>4092016949</td>\n",
       "      <td>raleigh</td>\n",
       "      <td>Restaurant</td>\n",
       "      <td>168.0</td>\n",
       "      <td>96.0</td>\n",
       "    </tr>\n",
       "    <tr>\n",
       "      <th>18457</th>\n",
       "      <td>4092017172</td>\n",
       "      <td>cary</td>\n",
       "      <td>Restaurant</td>\n",
       "      <td>192.0</td>\n",
       "      <td>95.0</td>\n",
       "    </tr>\n",
       "  </tbody>\n",
       "</table>\n",
       "<p>9932 rows × 5 columns</p>\n",
       "</div>"
      ],
      "text/plain": [
       "           hsisid     city facility type  days since prev inspec  score\n",
       "496    4092013936     apex    Restaurant                    46.0   96.5\n",
       "652    4092016126     apex    Restaurant                    58.0   96.0\n",
       "828    4092015656     cary    Restaurant                    87.0   98.0\n",
       "854    4092016210  raleigh    Restaurant                    70.0   97.5\n",
       "892    4092016261     apex    Restaurant                    97.0   98.5\n",
       "...           ...      ...           ...                     ...    ...\n",
       "18453  4092015590  raleigh    Restaurant                   281.0   93.5\n",
       "18454  4092016479  raleigh    Restaurant                   147.0   97.0\n",
       "18455  4092016866     cary    Restaurant                   205.0   97.0\n",
       "18456  4092016949  raleigh    Restaurant                   168.0   96.0\n",
       "18457  4092017172     cary    Restaurant                   192.0   95.0\n",
       "\n",
       "[9932 rows x 5 columns]"
      ]
     },
     "execution_count": 7,
     "metadata": {},
     "output_type": "execute_result"
    }
   ],
   "source": [
    "#fixing column names for personal choice \n",
    "i.columns = ['hsisid','city', 'facility type','days since prev inspec', 'score']\n",
    "i"
   ]
  },
  {
   "cell_type": "markdown",
   "metadata": {},
   "source": [
    "#### Restaurants Data"
   ]
  },
  {
   "cell_type": "code",
   "execution_count": 8,
   "metadata": {},
   "outputs": [],
   "source": [
    "# columns to keep \n",
    "restaurants = restaurants[['hsisid', 'city', 'facilitytype', 'postalcode']]"
   ]
  },
  {
   "cell_type": "code",
   "execution_count": 9,
   "metadata": {},
   "outputs": [],
   "source": [
    "# checking that I only keep those that are restaurants\n",
    "r = restaurants[restaurants['facilitytype'] == 'Restaurant']"
   ]
  },
  {
   "cell_type": "code",
   "execution_count": 10,
   "metadata": {},
   "outputs": [
    {
     "data": {
      "text/plain": [
       "hsisid          0\n",
       "city            0\n",
       "facilitytype    0\n",
       "postalcode      0\n",
       "dtype: int64"
      ]
     },
     "execution_count": 10,
     "metadata": {},
     "output_type": "execute_result"
    }
   ],
   "source": [
    "# checking for nan values\n",
    "r.isnull().sum()"
   ]
  },
  {
   "cell_type": "code",
   "execution_count": 11,
   "metadata": {},
   "outputs": [
    {
     "data": {
      "text/html": [
       "<div>\n",
       "<style scoped>\n",
       "    .dataframe tbody tr th:only-of-type {\n",
       "        vertical-align: middle;\n",
       "    }\n",
       "\n",
       "    .dataframe tbody tr th {\n",
       "        vertical-align: top;\n",
       "    }\n",
       "\n",
       "    .dataframe thead th {\n",
       "        text-align: right;\n",
       "    }\n",
       "</style>\n",
       "<table border=\"1\" class=\"dataframe\">\n",
       "  <thead>\n",
       "    <tr style=\"text-align: right;\">\n",
       "      <th></th>\n",
       "      <th>hsisid</th>\n",
       "      <th>city</th>\n",
       "      <th>facility type</th>\n",
       "      <th>zip</th>\n",
       "    </tr>\n",
       "  </thead>\n",
       "  <tbody>\n",
       "    <tr>\n",
       "      <th>0</th>\n",
       "      <td>4092017230</td>\n",
       "      <td>RALEIGH</td>\n",
       "      <td>Restaurant</td>\n",
       "      <td>27616-1895</td>\n",
       "    </tr>\n",
       "    <tr>\n",
       "      <th>2</th>\n",
       "      <td>4092014444</td>\n",
       "      <td>WAKE FOREST</td>\n",
       "      <td>Restaurant</td>\n",
       "      <td>27587</td>\n",
       "    </tr>\n",
       "    <tr>\n",
       "      <th>3</th>\n",
       "      <td>4092015333</td>\n",
       "      <td>RALEIGH</td>\n",
       "      <td>Restaurant</td>\n",
       "      <td>27601</td>\n",
       "    </tr>\n",
       "    <tr>\n",
       "      <th>6</th>\n",
       "      <td>4092016679</td>\n",
       "      <td>RALEIGH</td>\n",
       "      <td>Restaurant</td>\n",
       "      <td>27601</td>\n",
       "    </tr>\n",
       "    <tr>\n",
       "      <th>7</th>\n",
       "      <td>4092014493</td>\n",
       "      <td>RALEIGH</td>\n",
       "      <td>Restaurant</td>\n",
       "      <td>27617</td>\n",
       "    </tr>\n",
       "    <tr>\n",
       "      <th>...</th>\n",
       "      <td>...</td>\n",
       "      <td>...</td>\n",
       "      <td>...</td>\n",
       "      <td>...</td>\n",
       "    </tr>\n",
       "    <tr>\n",
       "      <th>3319</th>\n",
       "      <td>4092016658</td>\n",
       "      <td>GARNER</td>\n",
       "      <td>Restaurant</td>\n",
       "      <td>27529</td>\n",
       "    </tr>\n",
       "    <tr>\n",
       "      <th>3320</th>\n",
       "      <td>4092016663</td>\n",
       "      <td>RALEIGH</td>\n",
       "      <td>Restaurant</td>\n",
       "      <td>27603</td>\n",
       "    </tr>\n",
       "    <tr>\n",
       "      <th>3321</th>\n",
       "      <td>4092016557</td>\n",
       "      <td>Wake Forest</td>\n",
       "      <td>Restaurant</td>\n",
       "      <td>27587</td>\n",
       "    </tr>\n",
       "    <tr>\n",
       "      <th>3322</th>\n",
       "      <td>4092017227</td>\n",
       "      <td>MORRISVILLE</td>\n",
       "      <td>Restaurant</td>\n",
       "      <td>27560</td>\n",
       "    </tr>\n",
       "    <tr>\n",
       "      <th>3323</th>\n",
       "      <td>4092017274</td>\n",
       "      <td>WAKE FOREST</td>\n",
       "      <td>Restaurant</td>\n",
       "      <td>27587</td>\n",
       "    </tr>\n",
       "  </tbody>\n",
       "</table>\n",
       "<p>2229 rows × 4 columns</p>\n",
       "</div>"
      ],
      "text/plain": [
       "          hsisid         city facility type         zip\n",
       "0     4092017230      RALEIGH    Restaurant  27616-1895\n",
       "2     4092014444  WAKE FOREST    Restaurant       27587\n",
       "3     4092015333      RALEIGH    Restaurant       27601\n",
       "6     4092016679      RALEIGH    Restaurant       27601\n",
       "7     4092014493      RALEIGH    Restaurant       27617\n",
       "...          ...          ...           ...         ...\n",
       "3319  4092016658       GARNER    Restaurant       27529\n",
       "3320  4092016663      RALEIGH    Restaurant       27603\n",
       "3321  4092016557  Wake Forest    Restaurant       27587\n",
       "3322  4092017227  MORRISVILLE    Restaurant       27560\n",
       "3323  4092017274  WAKE FOREST    Restaurant       27587\n",
       "\n",
       "[2229 rows x 4 columns]"
      ]
     },
     "execution_count": 11,
     "metadata": {},
     "output_type": "execute_result"
    }
   ],
   "source": [
    "#fixing column names for personal choice \n",
    "r.columns = ['hsisid', 'city', 'facility type', 'zip']\n",
    "r"
   ]
  },
  {
   "cell_type": "markdown",
   "metadata": {},
   "source": [
    "#### Violations Data "
   ]
  },
  {
   "cell_type": "code",
   "execution_count": 12,
   "metadata": {},
   "outputs": [],
   "source": [
    "# keeping columns needed\n",
    "violations = violations[['hsisid', 'category','violationtype']]"
   ]
  },
  {
   "cell_type": "code",
   "execution_count": 13,
   "metadata": {},
   "outputs": [
    {
     "data": {
      "text/plain": [
       "hsisid               0\n",
       "category             0\n",
       "violationtype    94639\n",
       "dtype: int64"
      ]
     },
     "execution_count": 13,
     "metadata": {},
     "output_type": "execute_result"
    }
   ],
   "source": [
    "#checking for nan values \n",
    "violations.isnull().sum()"
   ]
  },
  {
   "cell_type": "code",
   "execution_count": 14,
   "metadata": {},
   "outputs": [],
   "source": [
    "#dropping nan values \n",
    "v = violations.dropna()"
   ]
  },
  {
   "cell_type": "code",
   "execution_count": 15,
   "metadata": {},
   "outputs": [
    {
     "data": {
      "text/html": [
       "<div>\n",
       "<style scoped>\n",
       "    .dataframe tbody tr th:only-of-type {\n",
       "        vertical-align: middle;\n",
       "    }\n",
       "\n",
       "    .dataframe tbody tr th {\n",
       "        vertical-align: top;\n",
       "    }\n",
       "\n",
       "    .dataframe thead th {\n",
       "        text-align: right;\n",
       "    }\n",
       "</style>\n",
       "<table border=\"1\" class=\"dataframe\">\n",
       "  <thead>\n",
       "    <tr style=\"text-align: right;\">\n",
       "      <th></th>\n",
       "      <th>hsisid</th>\n",
       "      <th>category</th>\n",
       "      <th>violation type</th>\n",
       "    </tr>\n",
       "  </thead>\n",
       "  <tbody>\n",
       "    <tr>\n",
       "      <th>0</th>\n",
       "      <td>4092015279</td>\n",
       "      <td>Chemical</td>\n",
       "      <td>R</td>\n",
       "    </tr>\n",
       "    <tr>\n",
       "      <th>1</th>\n",
       "      <td>4092014572</td>\n",
       "      <td>Chemical</td>\n",
       "      <td>CDI</td>\n",
       "    </tr>\n",
       "    <tr>\n",
       "      <th>2</th>\n",
       "      <td>4092015906</td>\n",
       "      <td>Chemical</td>\n",
       "      <td>CDI</td>\n",
       "    </tr>\n",
       "    <tr>\n",
       "      <th>3</th>\n",
       "      <td>4092013840</td>\n",
       "      <td>Chemical</td>\n",
       "      <td>CDI</td>\n",
       "    </tr>\n",
       "    <tr>\n",
       "      <th>4</th>\n",
       "      <td>4092021788</td>\n",
       "      <td>Chemical</td>\n",
       "      <td>CDI</td>\n",
       "    </tr>\n",
       "    <tr>\n",
       "      <th>...</th>\n",
       "      <td>...</td>\n",
       "      <td>...</td>\n",
       "      <td>...</td>\n",
       "    </tr>\n",
       "    <tr>\n",
       "      <th>189796</th>\n",
       "      <td>4092011742</td>\n",
       "      <td>Chemical</td>\n",
       "      <td>CDI</td>\n",
       "    </tr>\n",
       "    <tr>\n",
       "      <th>189797</th>\n",
       "      <td>4092015549</td>\n",
       "      <td>Chemical</td>\n",
       "      <td>CDI</td>\n",
       "    </tr>\n",
       "    <tr>\n",
       "      <th>189798</th>\n",
       "      <td>4092016135</td>\n",
       "      <td>Chemical</td>\n",
       "      <td>R</td>\n",
       "    </tr>\n",
       "    <tr>\n",
       "      <th>189799</th>\n",
       "      <td>4092020997</td>\n",
       "      <td>Chemical</td>\n",
       "      <td>CDI</td>\n",
       "    </tr>\n",
       "    <tr>\n",
       "      <th>189801</th>\n",
       "      <td>4092015279</td>\n",
       "      <td>Chemical</td>\n",
       "      <td>CDI</td>\n",
       "    </tr>\n",
       "  </tbody>\n",
       "</table>\n",
       "<p>95163 rows × 3 columns</p>\n",
       "</div>"
      ],
      "text/plain": [
       "            hsisid  category violation type\n",
       "0       4092015279  Chemical              R\n",
       "1       4092014572  Chemical            CDI\n",
       "2       4092015906  Chemical            CDI\n",
       "3       4092013840  Chemical            CDI\n",
       "4       4092021788  Chemical            CDI\n",
       "...            ...       ...            ...\n",
       "189796  4092011742  Chemical            CDI\n",
       "189797  4092015549  Chemical            CDI\n",
       "189798  4092016135  Chemical              R\n",
       "189799  4092020997  Chemical            CDI\n",
       "189801  4092015279  Chemical            CDI\n",
       "\n",
       "[95163 rows x 3 columns]"
      ]
     },
     "execution_count": 15,
     "metadata": {},
     "output_type": "execute_result"
    }
   ],
   "source": [
    "#fixing column names for personal choice \n",
    "v.columns = ['hsisid', 'category', 'violation type']\n",
    "v"
   ]
  },
  {
   "cell_type": "markdown",
   "metadata": {},
   "source": [
    "#### Zipcodes Data"
   ]
  },
  {
   "cell_type": "code",
   "execution_count": 16,
   "metadata": {},
   "outputs": [],
   "source": [
    "# keeping columns needed\n",
    "zc = zipcodes[['zip', 'median_family_income_dollars', 'median_household_income_dollars', 'percent_damilies_below_poverty_line']]"
   ]
  },
  {
   "cell_type": "code",
   "execution_count": 17,
   "metadata": {},
   "outputs": [
    {
     "data": {
      "text/plain": [
       "zip                                    0\n",
       "median_family_income_dollars           0\n",
       "median_household_income_dollars        0\n",
       "percent_damilies_below_poverty_line    0\n",
       "dtype: int64"
      ]
     },
     "execution_count": 17,
     "metadata": {},
     "output_type": "execute_result"
    }
   ],
   "source": [
    "zc.isnull().sum()"
   ]
  },
  {
   "cell_type": "code",
   "execution_count": 18,
   "metadata": {},
   "outputs": [
    {
     "data": {
      "text/html": [
       "<div>\n",
       "<style scoped>\n",
       "    .dataframe tbody tr th:only-of-type {\n",
       "        vertical-align: middle;\n",
       "    }\n",
       "\n",
       "    .dataframe tbody tr th {\n",
       "        vertical-align: top;\n",
       "    }\n",
       "\n",
       "    .dataframe thead th {\n",
       "        text-align: right;\n",
       "    }\n",
       "</style>\n",
       "<table border=\"1\" class=\"dataframe\">\n",
       "  <thead>\n",
       "    <tr style=\"text-align: right;\">\n",
       "      <th></th>\n",
       "      <th>zip</th>\n",
       "      <th>median family income dollars</th>\n",
       "      <th>median household income dollars</th>\n",
       "      <th>percent families below poverty line</th>\n",
       "    </tr>\n",
       "  </thead>\n",
       "  <tbody>\n",
       "    <tr>\n",
       "      <th>0</th>\n",
       "      <td>27501</td>\n",
       "      <td>59408</td>\n",
       "      <td>51121</td>\n",
       "      <td>10.5</td>\n",
       "    </tr>\n",
       "    <tr>\n",
       "      <th>1</th>\n",
       "      <td>27502</td>\n",
       "      <td>109891</td>\n",
       "      <td>95857</td>\n",
       "      <td>3.4</td>\n",
       "    </tr>\n",
       "    <tr>\n",
       "      <th>2</th>\n",
       "      <td>27511</td>\n",
       "      <td>82292</td>\n",
       "      <td>67392</td>\n",
       "      <td>9.6</td>\n",
       "    </tr>\n",
       "    <tr>\n",
       "      <th>3</th>\n",
       "      <td>27513</td>\n",
       "      <td>109736</td>\n",
       "      <td>87262</td>\n",
       "      <td>3.8</td>\n",
       "    </tr>\n",
       "    <tr>\n",
       "      <th>4</th>\n",
       "      <td>27518</td>\n",
       "      <td>125432</td>\n",
       "      <td>98247</td>\n",
       "      <td>5.5</td>\n",
       "    </tr>\n",
       "    <tr>\n",
       "      <th>5</th>\n",
       "      <td>27519</td>\n",
       "      <td>137193</td>\n",
       "      <td>121815</td>\n",
       "      <td>3.2</td>\n",
       "    </tr>\n",
       "    <tr>\n",
       "      <th>6</th>\n",
       "      <td>27520</td>\n",
       "      <td>67939</td>\n",
       "      <td>58455</td>\n",
       "      <td>5.0</td>\n",
       "    </tr>\n",
       "    <tr>\n",
       "      <th>7</th>\n",
       "      <td>27522</td>\n",
       "      <td>66250</td>\n",
       "      <td>59221</td>\n",
       "      <td>6.0</td>\n",
       "    </tr>\n",
       "    <tr>\n",
       "      <th>8</th>\n",
       "      <td>27523</td>\n",
       "      <td>89184</td>\n",
       "      <td>68342</td>\n",
       "      <td>3.1</td>\n",
       "    </tr>\n",
       "    <tr>\n",
       "      <th>9</th>\n",
       "      <td>27526</td>\n",
       "      <td>74666</td>\n",
       "      <td>66025</td>\n",
       "      <td>8.4</td>\n",
       "    </tr>\n",
       "    <tr>\n",
       "      <th>10</th>\n",
       "      <td>27529</td>\n",
       "      <td>68627</td>\n",
       "      <td>59613</td>\n",
       "      <td>9.5</td>\n",
       "    </tr>\n",
       "    <tr>\n",
       "      <th>11</th>\n",
       "      <td>27539</td>\n",
       "      <td>88121</td>\n",
       "      <td>82614</td>\n",
       "      <td>2.2</td>\n",
       "    </tr>\n",
       "    <tr>\n",
       "      <th>12</th>\n",
       "      <td>27540</td>\n",
       "      <td>96650</td>\n",
       "      <td>88638</td>\n",
       "      <td>3.0</td>\n",
       "    </tr>\n",
       "    <tr>\n",
       "      <th>13</th>\n",
       "      <td>27545</td>\n",
       "      <td>72301</td>\n",
       "      <td>60825</td>\n",
       "      <td>6.1</td>\n",
       "    </tr>\n",
       "    <tr>\n",
       "      <th>14</th>\n",
       "      <td>27560</td>\n",
       "      <td>97917</td>\n",
       "      <td>80324</td>\n",
       "      <td>3.6</td>\n",
       "    </tr>\n",
       "    <tr>\n",
       "      <th>15</th>\n",
       "      <td>27562</td>\n",
       "      <td>71161</td>\n",
       "      <td>61097</td>\n",
       "      <td>10.4</td>\n",
       "    </tr>\n",
       "    <tr>\n",
       "      <th>16</th>\n",
       "      <td>27571</td>\n",
       "      <td>86250</td>\n",
       "      <td>81809</td>\n",
       "      <td>8.2</td>\n",
       "    </tr>\n",
       "    <tr>\n",
       "      <th>17</th>\n",
       "      <td>27587</td>\n",
       "      <td>96247</td>\n",
       "      <td>83416</td>\n",
       "      <td>5.5</td>\n",
       "    </tr>\n",
       "    <tr>\n",
       "      <th>18</th>\n",
       "      <td>27591</td>\n",
       "      <td>59892</td>\n",
       "      <td>50868</td>\n",
       "      <td>10.1</td>\n",
       "    </tr>\n",
       "    <tr>\n",
       "      <th>19</th>\n",
       "      <td>27592</td>\n",
       "      <td>66160</td>\n",
       "      <td>56747</td>\n",
       "      <td>6.3</td>\n",
       "    </tr>\n",
       "    <tr>\n",
       "      <th>20</th>\n",
       "      <td>27596</td>\n",
       "      <td>68750</td>\n",
       "      <td>59712</td>\n",
       "      <td>5.6</td>\n",
       "    </tr>\n",
       "    <tr>\n",
       "      <th>21</th>\n",
       "      <td>27597</td>\n",
       "      <td>59395</td>\n",
       "      <td>51266</td>\n",
       "      <td>11.3</td>\n",
       "    </tr>\n",
       "    <tr>\n",
       "      <th>22</th>\n",
       "      <td>27601</td>\n",
       "      <td>28641</td>\n",
       "      <td>27564</td>\n",
       "      <td>35.9</td>\n",
       "    </tr>\n",
       "    <tr>\n",
       "      <th>23</th>\n",
       "      <td>27603</td>\n",
       "      <td>68608</td>\n",
       "      <td>54889</td>\n",
       "      <td>12.6</td>\n",
       "    </tr>\n",
       "    <tr>\n",
       "      <th>24</th>\n",
       "      <td>27604</td>\n",
       "      <td>57419</td>\n",
       "      <td>50365</td>\n",
       "      <td>14.4</td>\n",
       "    </tr>\n",
       "    <tr>\n",
       "      <th>25</th>\n",
       "      <td>27605</td>\n",
       "      <td>109886</td>\n",
       "      <td>49309</td>\n",
       "      <td>4.1</td>\n",
       "    </tr>\n",
       "    <tr>\n",
       "      <th>26</th>\n",
       "      <td>27606</td>\n",
       "      <td>61324</td>\n",
       "      <td>44422</td>\n",
       "      <td>13.8</td>\n",
       "    </tr>\n",
       "    <tr>\n",
       "      <th>27</th>\n",
       "      <td>27607</td>\n",
       "      <td>85325</td>\n",
       "      <td>53825</td>\n",
       "      <td>12.8</td>\n",
       "    </tr>\n",
       "    <tr>\n",
       "      <th>28</th>\n",
       "      <td>27608</td>\n",
       "      <td>125019</td>\n",
       "      <td>83986</td>\n",
       "      <td>5.5</td>\n",
       "    </tr>\n",
       "    <tr>\n",
       "      <th>29</th>\n",
       "      <td>27609</td>\n",
       "      <td>73715</td>\n",
       "      <td>53640</td>\n",
       "      <td>8.9</td>\n",
       "    </tr>\n",
       "    <tr>\n",
       "      <th>30</th>\n",
       "      <td>27610</td>\n",
       "      <td>49213</td>\n",
       "      <td>45209</td>\n",
       "      <td>19.2</td>\n",
       "    </tr>\n",
       "    <tr>\n",
       "      <th>31</th>\n",
       "      <td>27612</td>\n",
       "      <td>98452</td>\n",
       "      <td>68864</td>\n",
       "      <td>5.5</td>\n",
       "    </tr>\n",
       "    <tr>\n",
       "      <th>32</th>\n",
       "      <td>27613</td>\n",
       "      <td>106854</td>\n",
       "      <td>79698</td>\n",
       "      <td>4.7</td>\n",
       "    </tr>\n",
       "    <tr>\n",
       "      <th>33</th>\n",
       "      <td>27614</td>\n",
       "      <td>119232</td>\n",
       "      <td>94727</td>\n",
       "      <td>3.7</td>\n",
       "    </tr>\n",
       "    <tr>\n",
       "      <th>34</th>\n",
       "      <td>27615</td>\n",
       "      <td>98884</td>\n",
       "      <td>78378</td>\n",
       "      <td>4.2</td>\n",
       "    </tr>\n",
       "    <tr>\n",
       "      <th>35</th>\n",
       "      <td>27616</td>\n",
       "      <td>60033</td>\n",
       "      <td>56323</td>\n",
       "      <td>11.7</td>\n",
       "    </tr>\n",
       "    <tr>\n",
       "      <th>36</th>\n",
       "      <td>27617</td>\n",
       "      <td>98642</td>\n",
       "      <td>76959</td>\n",
       "      <td>2.0</td>\n",
       "    </tr>\n",
       "    <tr>\n",
       "      <th>37</th>\n",
       "      <td>27703</td>\n",
       "      <td>60783</td>\n",
       "      <td>54674</td>\n",
       "      <td>12.7</td>\n",
       "    </tr>\n",
       "  </tbody>\n",
       "</table>\n",
       "</div>"
      ],
      "text/plain": [
       "      zip  median family income dollars  median household income dollars  \\\n",
       "0   27501                         59408                            51121   \n",
       "1   27502                        109891                            95857   \n",
       "2   27511                         82292                            67392   \n",
       "3   27513                        109736                            87262   \n",
       "4   27518                        125432                            98247   \n",
       "5   27519                        137193                           121815   \n",
       "6   27520                         67939                            58455   \n",
       "7   27522                         66250                            59221   \n",
       "8   27523                         89184                            68342   \n",
       "9   27526                         74666                            66025   \n",
       "10  27529                         68627                            59613   \n",
       "11  27539                         88121                            82614   \n",
       "12  27540                         96650                            88638   \n",
       "13  27545                         72301                            60825   \n",
       "14  27560                         97917                            80324   \n",
       "15  27562                         71161                            61097   \n",
       "16  27571                         86250                            81809   \n",
       "17  27587                         96247                            83416   \n",
       "18  27591                         59892                            50868   \n",
       "19  27592                         66160                            56747   \n",
       "20  27596                         68750                            59712   \n",
       "21  27597                         59395                            51266   \n",
       "22  27601                         28641                            27564   \n",
       "23  27603                         68608                            54889   \n",
       "24  27604                         57419                            50365   \n",
       "25  27605                        109886                            49309   \n",
       "26  27606                         61324                            44422   \n",
       "27  27607                         85325                            53825   \n",
       "28  27608                        125019                            83986   \n",
       "29  27609                         73715                            53640   \n",
       "30  27610                         49213                            45209   \n",
       "31  27612                         98452                            68864   \n",
       "32  27613                        106854                            79698   \n",
       "33  27614                        119232                            94727   \n",
       "34  27615                         98884                            78378   \n",
       "35  27616                         60033                            56323   \n",
       "36  27617                         98642                            76959   \n",
       "37  27703                         60783                            54674   \n",
       "\n",
       "    percent families below poverty line  \n",
       "0                                  10.5  \n",
       "1                                   3.4  \n",
       "2                                   9.6  \n",
       "3                                   3.8  \n",
       "4                                   5.5  \n",
       "5                                   3.2  \n",
       "6                                   5.0  \n",
       "7                                   6.0  \n",
       "8                                   3.1  \n",
       "9                                   8.4  \n",
       "10                                  9.5  \n",
       "11                                  2.2  \n",
       "12                                  3.0  \n",
       "13                                  6.1  \n",
       "14                                  3.6  \n",
       "15                                 10.4  \n",
       "16                                  8.2  \n",
       "17                                  5.5  \n",
       "18                                 10.1  \n",
       "19                                  6.3  \n",
       "20                                  5.6  \n",
       "21                                 11.3  \n",
       "22                                 35.9  \n",
       "23                                 12.6  \n",
       "24                                 14.4  \n",
       "25                                  4.1  \n",
       "26                                 13.8  \n",
       "27                                 12.8  \n",
       "28                                  5.5  \n",
       "29                                  8.9  \n",
       "30                                 19.2  \n",
       "31                                  5.5  \n",
       "32                                  4.7  \n",
       "33                                  3.7  \n",
       "34                                  4.2  \n",
       "35                                 11.7  \n",
       "36                                  2.0  \n",
       "37                                 12.7  "
      ]
     },
     "execution_count": 18,
     "metadata": {},
     "output_type": "execute_result"
    }
   ],
   "source": [
    "#changing column names \n",
    "zc.columns = ['zip', 'median family income dollars', 'median household income dollars', 'percent families below poverty line']\n",
    "zc"
   ]
  },
  {
   "cell_type": "markdown",
   "metadata": {},
   "source": [
    "#### Merging Data\n",
    "I want to merge the Inspections (i) dataframe and Restaurants (r) dateframe in order to combine the columns that are alike. This makes it easier to connect the same data points, then combine with violations in order to see what restaurants have what violations. I acknowledge that along the way, the data that has Nan values or don't have matching Hsisid values are being dropped."
   ]
  },
  {
   "cell_type": "code",
   "execution_count": 19,
   "metadata": {},
   "outputs": [],
   "source": [
    "# merging inspections (i) and restaurants (r)\n",
    "df = pd.merge(i, r, on = ['hsisid', 'city', 'facility type'], right_index = True, left_index = True)"
   ]
  },
  {
   "cell_type": "markdown",
   "metadata": {},
   "source": [
    "#### Merging: Part 1"
   ]
  },
  {
   "cell_type": "code",
   "execution_count": 20,
   "metadata": {},
   "outputs": [
    {
     "data": {
      "text/html": [
       "<div>\n",
       "<style scoped>\n",
       "    .dataframe tbody tr th:only-of-type {\n",
       "        vertical-align: middle;\n",
       "    }\n",
       "\n",
       "    .dataframe tbody tr th {\n",
       "        vertical-align: top;\n",
       "    }\n",
       "\n",
       "    .dataframe thead th {\n",
       "        text-align: right;\n",
       "    }\n",
       "</style>\n",
       "<table border=\"1\" class=\"dataframe\">\n",
       "  <thead>\n",
       "    <tr style=\"text-align: right;\">\n",
       "      <th></th>\n",
       "      <th>hsisid</th>\n",
       "      <th>city</th>\n",
       "      <th>facility type</th>\n",
       "      <th>days since prev inspec</th>\n",
       "      <th>score</th>\n",
       "      <th>zip</th>\n",
       "    </tr>\n",
       "  </thead>\n",
       "  <tbody>\n",
       "    <tr>\n",
       "      <th>652</th>\n",
       "      <td>4092016126</td>\n",
       "      <td>apex</td>\n",
       "      <td>restaurant</td>\n",
       "      <td>58.0</td>\n",
       "      <td>96.0</td>\n",
       "      <td>27518</td>\n",
       "    </tr>\n",
       "    <tr>\n",
       "      <th>828</th>\n",
       "      <td>4092015656</td>\n",
       "      <td>cary</td>\n",
       "      <td>restaurant</td>\n",
       "      <td>87.0</td>\n",
       "      <td>98.0</td>\n",
       "      <td>27587</td>\n",
       "    </tr>\n",
       "    <tr>\n",
       "      <th>854</th>\n",
       "      <td>4092016210</td>\n",
       "      <td>raleigh</td>\n",
       "      <td>restaurant</td>\n",
       "      <td>70.0</td>\n",
       "      <td>97.5</td>\n",
       "      <td>27560</td>\n",
       "    </tr>\n",
       "    <tr>\n",
       "      <th>892</th>\n",
       "      <td>4092016261</td>\n",
       "      <td>apex</td>\n",
       "      <td>restaurant</td>\n",
       "      <td>97.0</td>\n",
       "      <td>98.5</td>\n",
       "      <td>27606</td>\n",
       "    </tr>\n",
       "    <tr>\n",
       "      <th>908</th>\n",
       "      <td>4092015625</td>\n",
       "      <td>cary</td>\n",
       "      <td>restaurant</td>\n",
       "      <td>78.0</td>\n",
       "      <td>98.5</td>\n",
       "      <td>27502</td>\n",
       "    </tr>\n",
       "    <tr>\n",
       "      <th>...</th>\n",
       "      <td>...</td>\n",
       "      <td>...</td>\n",
       "      <td>...</td>\n",
       "      <td>...</td>\n",
       "      <td>...</td>\n",
       "      <td>...</td>\n",
       "    </tr>\n",
       "    <tr>\n",
       "      <th>3313</th>\n",
       "      <td>4092013134</td>\n",
       "      <td>raleigh</td>\n",
       "      <td>restaurant</td>\n",
       "      <td>134.0</td>\n",
       "      <td>94.5</td>\n",
       "      <td>27513</td>\n",
       "    </tr>\n",
       "    <tr>\n",
       "      <th>3314</th>\n",
       "      <td>4092014033</td>\n",
       "      <td>raleigh</td>\n",
       "      <td>restaurant</td>\n",
       "      <td>225.0</td>\n",
       "      <td>95.5</td>\n",
       "      <td>27604</td>\n",
       "    </tr>\n",
       "    <tr>\n",
       "      <th>3316</th>\n",
       "      <td>4092014826</td>\n",
       "      <td>cary</td>\n",
       "      <td>restaurant</td>\n",
       "      <td>94.0</td>\n",
       "      <td>98.5</td>\n",
       "      <td>27605</td>\n",
       "    </tr>\n",
       "    <tr>\n",
       "      <th>3318</th>\n",
       "      <td>4092015296</td>\n",
       "      <td>raleigh</td>\n",
       "      <td>restaurant</td>\n",
       "      <td>74.0</td>\n",
       "      <td>97.5</td>\n",
       "      <td>27513-2406</td>\n",
       "    </tr>\n",
       "    <tr>\n",
       "      <th>3319</th>\n",
       "      <td>4092016319</td>\n",
       "      <td>raleigh</td>\n",
       "      <td>restaurant</td>\n",
       "      <td>185.0</td>\n",
       "      <td>96.0</td>\n",
       "      <td>27529</td>\n",
       "    </tr>\n",
       "  </tbody>\n",
       "</table>\n",
       "<p>495 rows × 6 columns</p>\n",
       "</div>"
      ],
      "text/plain": [
       "          hsisid     city facility type  days since prev inspec  score  \\\n",
       "652   4092016126     apex    restaurant                    58.0   96.0   \n",
       "828   4092015656     cary    restaurant                    87.0   98.0   \n",
       "854   4092016210  raleigh    restaurant                    70.0   97.5   \n",
       "892   4092016261     apex    restaurant                    97.0   98.5   \n",
       "908   4092015625     cary    restaurant                    78.0   98.5   \n",
       "...          ...      ...           ...                     ...    ...   \n",
       "3313  4092013134  raleigh    restaurant                   134.0   94.5   \n",
       "3314  4092014033  raleigh    restaurant                   225.0   95.5   \n",
       "3316  4092014826     cary    restaurant                    94.0   98.5   \n",
       "3318  4092015296  raleigh    restaurant                    74.0   97.5   \n",
       "3319  4092016319  raleigh    restaurant                   185.0   96.0   \n",
       "\n",
       "             zip  \n",
       "652        27518  \n",
       "828        27587  \n",
       "854        27560  \n",
       "892        27606  \n",
       "908        27502  \n",
       "...          ...  \n",
       "3313       27513  \n",
       "3314       27604  \n",
       "3316       27605  \n",
       "3318  27513-2406  \n",
       "3319       27529  \n",
       "\n",
       "[495 rows x 6 columns]"
      ]
     },
     "execution_count": 20,
     "metadata": {},
     "output_type": "execute_result"
    }
   ],
   "source": [
    "#want data to be cohesive \n",
    "df['city'] = df['city'].str.lower()\n",
    "df['facility type'] = df['facility type'].str.lower()\n",
    "df"
   ]
  },
  {
   "cell_type": "markdown",
   "metadata": {},
   "source": [
    "#### Merging: Part 2"
   ]
  },
  {
   "cell_type": "code",
   "execution_count": 30,
   "metadata": {},
   "outputs": [
    {
     "data": {
      "text/html": [
       "<div>\n",
       "<style scoped>\n",
       "    .dataframe tbody tr th:only-of-type {\n",
       "        vertical-align: middle;\n",
       "    }\n",
       "\n",
       "    .dataframe tbody tr th {\n",
       "        vertical-align: top;\n",
       "    }\n",
       "\n",
       "    .dataframe thead th {\n",
       "        text-align: right;\n",
       "    }\n",
       "</style>\n",
       "<table border=\"1\" class=\"dataframe\">\n",
       "  <thead>\n",
       "    <tr style=\"text-align: right;\">\n",
       "      <th></th>\n",
       "      <th>hsisid</th>\n",
       "      <th>city</th>\n",
       "      <th>facility type</th>\n",
       "      <th>days since prev inspec</th>\n",
       "      <th>score</th>\n",
       "      <th>zip</th>\n",
       "      <th>category</th>\n",
       "      <th>violation type</th>\n",
       "    </tr>\n",
       "  </thead>\n",
       "  <tbody>\n",
       "    <tr>\n",
       "      <th>652</th>\n",
       "      <td>4092016126</td>\n",
       "      <td>apex</td>\n",
       "      <td>restaurant</td>\n",
       "      <td>58.0</td>\n",
       "      <td>96.0</td>\n",
       "      <td>27518</td>\n",
       "      <td>chemical</td>\n",
       "      <td>CDI</td>\n",
       "    </tr>\n",
       "    <tr>\n",
       "      <th>828</th>\n",
       "      <td>4092015656</td>\n",
       "      <td>cary</td>\n",
       "      <td>restaurant</td>\n",
       "      <td>87.0</td>\n",
       "      <td>98.0</td>\n",
       "      <td>27587</td>\n",
       "      <td>chemical</td>\n",
       "      <td>VR</td>\n",
       "    </tr>\n",
       "    <tr>\n",
       "      <th>854</th>\n",
       "      <td>4092016210</td>\n",
       "      <td>raleigh</td>\n",
       "      <td>restaurant</td>\n",
       "      <td>70.0</td>\n",
       "      <td>97.5</td>\n",
       "      <td>27560</td>\n",
       "      <td>chemical</td>\n",
       "      <td>CDI</td>\n",
       "    </tr>\n",
       "    <tr>\n",
       "      <th>892</th>\n",
       "      <td>4092016261</td>\n",
       "      <td>apex</td>\n",
       "      <td>restaurant</td>\n",
       "      <td>97.0</td>\n",
       "      <td>98.5</td>\n",
       "      <td>27606</td>\n",
       "      <td>chemical</td>\n",
       "      <td>CDI</td>\n",
       "    </tr>\n",
       "    <tr>\n",
       "      <th>908</th>\n",
       "      <td>4092015625</td>\n",
       "      <td>cary</td>\n",
       "      <td>restaurant</td>\n",
       "      <td>78.0</td>\n",
       "      <td>98.5</td>\n",
       "      <td>27502</td>\n",
       "      <td>chemical</td>\n",
       "      <td>CDI</td>\n",
       "    </tr>\n",
       "    <tr>\n",
       "      <th>...</th>\n",
       "      <td>...</td>\n",
       "      <td>...</td>\n",
       "      <td>...</td>\n",
       "      <td>...</td>\n",
       "      <td>...</td>\n",
       "      <td>...</td>\n",
       "      <td>...</td>\n",
       "      <td>...</td>\n",
       "    </tr>\n",
       "    <tr>\n",
       "      <th>3301</th>\n",
       "      <td>4092015367</td>\n",
       "      <td>raleigh</td>\n",
       "      <td>restaurant</td>\n",
       "      <td>175.0</td>\n",
       "      <td>97.5</td>\n",
       "      <td>27511</td>\n",
       "      <td>consumer advisory</td>\n",
       "      <td>CDI</td>\n",
       "    </tr>\n",
       "    <tr>\n",
       "      <th>3312</th>\n",
       "      <td>4092011828</td>\n",
       "      <td>fuquay-varina</td>\n",
       "      <td>restaurant</td>\n",
       "      <td>109.0</td>\n",
       "      <td>96.5</td>\n",
       "      <td>27616</td>\n",
       "      <td>consumer advisory</td>\n",
       "      <td>CDI</td>\n",
       "    </tr>\n",
       "    <tr>\n",
       "      <th>3314</th>\n",
       "      <td>4092014033</td>\n",
       "      <td>raleigh</td>\n",
       "      <td>restaurant</td>\n",
       "      <td>225.0</td>\n",
       "      <td>95.5</td>\n",
       "      <td>27604</td>\n",
       "      <td>consumer advisory</td>\n",
       "      <td>VR</td>\n",
       "    </tr>\n",
       "    <tr>\n",
       "      <th>3318</th>\n",
       "      <td>4092015296</td>\n",
       "      <td>raleigh</td>\n",
       "      <td>restaurant</td>\n",
       "      <td>74.0</td>\n",
       "      <td>97.5</td>\n",
       "      <td>27513-2406</td>\n",
       "      <td>consumer advisory</td>\n",
       "      <td>R</td>\n",
       "    </tr>\n",
       "    <tr>\n",
       "      <th>3319</th>\n",
       "      <td>4092016319</td>\n",
       "      <td>raleigh</td>\n",
       "      <td>restaurant</td>\n",
       "      <td>185.0</td>\n",
       "      <td>96.0</td>\n",
       "      <td>27529</td>\n",
       "      <td>consumer advisory</td>\n",
       "      <td>CDI</td>\n",
       "    </tr>\n",
       "  </tbody>\n",
       "</table>\n",
       "<p>433 rows × 8 columns</p>\n",
       "</div>"
      ],
      "text/plain": [
       "          hsisid           city facility type  days since prev inspec  score  \\\n",
       "652   4092016126           apex    restaurant                    58.0   96.0   \n",
       "828   4092015656           cary    restaurant                    87.0   98.0   \n",
       "854   4092016210        raleigh    restaurant                    70.0   97.5   \n",
       "892   4092016261           apex    restaurant                    97.0   98.5   \n",
       "908   4092015625           cary    restaurant                    78.0   98.5   \n",
       "...          ...            ...           ...                     ...    ...   \n",
       "3301  4092015367        raleigh    restaurant                   175.0   97.5   \n",
       "3312  4092011828  fuquay-varina    restaurant                   109.0   96.5   \n",
       "3314  4092014033        raleigh    restaurant                   225.0   95.5   \n",
       "3318  4092015296        raleigh    restaurant                    74.0   97.5   \n",
       "3319  4092016319        raleigh    restaurant                   185.0   96.0   \n",
       "\n",
       "             zip           category violation type  \n",
       "652        27518           chemical            CDI  \n",
       "828        27587           chemical             VR  \n",
       "854        27560           chemical            CDI  \n",
       "892        27606           chemical            CDI  \n",
       "908        27502           chemical            CDI  \n",
       "...          ...                ...            ...  \n",
       "3301       27511  consumer advisory            CDI  \n",
       "3312       27616  consumer advisory            CDI  \n",
       "3314       27604  consumer advisory             VR  \n",
       "3318  27513-2406  consumer advisory              R  \n",
       "3319       27529  consumer advisory            CDI  \n",
       "\n",
       "[433 rows x 8 columns]"
      ]
     },
     "execution_count": 30,
     "metadata": {},
     "output_type": "execute_result"
    }
   ],
   "source": [
    "#merging df with violations\n",
    "#creating final df to use\n",
    "df2 = pd.merge(df, v, on = ['hsisid'], right_index = True, left_index = True)\n",
    "df2['category'] = df2['category'].str.lower()\n",
    "df2"
   ]
  },
  {
   "cell_type": "markdown",
   "metadata": {},
   "source": [
    "# Data Analysis & Results"
   ]
  },
  {
   "cell_type": "markdown",
   "metadata": {},
   "source": [
    "#### Scores of Health Inspections"
   ]
  },
  {
   "cell_type": "code",
   "execution_count": 22,
   "metadata": {},
   "outputs": [
    {
     "data": {
      "image/png": "[encoded data removed]",
      "text/plain": [
       "<Figure size 720x432 with 1 Axes>"
      ]
     },
     "metadata": {
      "needs_background": "light"
     },
     "output_type": "display_data"
    }
   ],
   "source": [
    "df2.hist('score', bins = 10, figsize = (10, 6), color = 'green')\n",
    "plt.xlabel('score')\n",
    "plt.ylabel('count')\n",
    "title = plt.title('Health Inspection Scores')"
   ]
  },
  {
   "cell_type": "code",
   "execution_count": 23,
   "metadata": {},
   "outputs": [
    {
     "data": {
      "text/plain": [
       "96.05080831408776"
      ]
     },
     "execution_count": 23,
     "metadata": {},
     "output_type": "execute_result"
    }
   ],
   "source": [
    "df2['score'].mean()"
   ]
  },
  {
   "cell_type": "markdown",
   "metadata": {},
   "source": [
    "I decided to use a bar graph to depict the health inspection scores. The scores are from the 14 cities that were represented in my final dataframe (df2): Raleigh, Cary, Morrisville, Wake Forst, Fuquay-varina, Apex, Knightdale, Garner, Zebulon, Holly Springs, Wendell, New Hill, Rolesville, and Clayton. The x-axis is the health scores and the y-axis are the number of restaurants, so the graph shows how many restaurants have that score. As we can see, there are a lot more restaurants that scored between 95-98, average being 96."
   ]
  },
  {
   "cell_type": "markdown",
   "metadata": {},
   "source": [
    "#### Last Inspection"
   ]
  },
  {
   "cell_type": "code",
   "execution_count": 24,
   "metadata": {},
   "outputs": [
    {
     "data": {
      "image/png": "[encoded data removed]",
      "text/plain": [
       "<Figure size 720x432 with 1 Axes>"
      ]
     },
     "metadata": {
      "needs_background": "light"
     },
     "output_type": "display_data"
    }
   ],
   "source": [
    "df2.hist('days since prev inspec', bins = 10, figsize = (10,6), color = 'green')\n",
    "plt.xlabel('days since prev inspec')\n",
    "plt.ylabel('count')\n",
    "title = plt.title('Since last inspection')"
   ]
  },
  {
   "cell_type": "code",
   "execution_count": 25,
   "metadata": {},
   "outputs": [
    {
     "data": {
      "text/plain": [
       "157.00461893764435"
      ]
     },
     "execution_count": 25,
     "metadata": {},
     "output_type": "execute_result"
    }
   ],
   "source": [
    "df2['days since prev inspec'].mean()"
   ]
  },
  {
   "cell_type": "markdown",
   "metadata": {},
   "source": [
    "I used a bargraph to also depict the days since the previous inspection. As stated in the beginning, restaurants should be inspected 1-3 times a year. This is means maybe up to every 90 days, depending on the health violations. The x-axis are the days since previous inspection and the y-axis is the range of where restaurants are at with their last inspection. As we can see, the average time a restaurant gets inspected is 157 days (around 5 months). "
   ]
  },
  {
   "cell_type": "markdown",
   "metadata": {},
   "source": [
    "#### Health Code Violations in Cities"
   ]
  },
  {
   "cell_type": "code",
   "execution_count": 26,
   "metadata": {},
   "outputs": [
    {
     "data": {
      "text/plain": [
       "<matplotlib.axes._subplots.AxesSubplot at 0x7f9928a64e80>"
      ]
     },
     "execution_count": 26,
     "metadata": {},
     "output_type": "execute_result"
    },
    {
     "data": {
      "image/png": "[encoded data removed]",
      "text/plain": [
       "<Figure size 720x432 with 1 Axes>"
      ]
     },
     "metadata": {
      "needs_background": "light"
     },
     "output_type": "display_data"
    }
   ],
   "source": [
    "df2 = df2.groupby(['city', 'category']).size()\n",
    "df2 = df2.unstack()\n",
    "df2.plot(kind = 'bar', figsize = (10, 6), fontsize = 13)"
   ]
  },
  {
   "cell_type": "markdown",
   "metadata": {},
   "source": [
    "For this graph, I used a vertical bar graph, comparing 5 series of data. The same 14 cities are displayed along the x-axis and the y-axis are the numbers of violations. The different violations found in our final dataframe (df2) are: chemical, approved source, conformance with approced procedures, consumer advisory, and employee health. We can see that Raleigh has the most violations with Cary being second. "
   ]
  },
  {
   "cell_type": "markdown",
   "metadata": {},
   "source": [
    "#### Zip Codes and Median Incomes"
   ]
  },
  {
   "cell_type": "code",
   "execution_count": 27,
   "metadata": {},
   "outputs": [
    {
     "data": {
      "text/plain": [
       "array([[<matplotlib.axes._subplots.AxesSubplot object at 0x7f99319e30f0>,\n",
       "        <matplotlib.axes._subplots.AxesSubplot object at 0x7f9937251b00>,\n",
       "        <matplotlib.axes._subplots.AxesSubplot object at 0x7f99372e0f28>],\n",
       "       [<matplotlib.axes._subplots.AxesSubplot object at 0x7f9934af74e0>,\n",
       "        <matplotlib.axes._subplots.AxesSubplot object at 0x7f9919b27a58>,\n",
       "        <matplotlib.axes._subplots.AxesSubplot object at 0x7f991cc24048>],\n",
       "       [<matplotlib.axes._subplots.AxesSubplot object at 0x7f991c9f95f8>,\n",
       "        <matplotlib.axes._subplots.AxesSubplot object at 0x7f991c9fcbe0>,\n",
       "        <matplotlib.axes._subplots.AxesSubplot object at 0x7f991c9fcc18>]],\n",
       "      dtype=object)"
      ]
     },
     "execution_count": 27,
     "metadata": {},
     "output_type": "execute_result"
    },
    {
     "data": {
      "image/png": "[encoded data removed]",
      "text/plain": [
       "<Figure size 720x720 with 9 Axes>"
      ]
     },
     "metadata": {
      "needs_background": "light"
     },
     "output_type": "display_data"
    }
   ],
   "source": [
    "pd.plotting.scatter_matrix(zc[['zip', 'median family income dollars', 'median household income dollars']],\n",
    "                          figsize = [10, 10])\n",
    "\n"
   ]
  },
  {
   "cell_type": "code",
   "execution_count": 28,
   "metadata": {},
   "outputs": [
    {
     "data": {
      "text/plain": [
       "83039.26315789473"
      ]
     },
     "execution_count": 28,
     "metadata": {},
     "output_type": "execute_result"
    }
   ],
   "source": [
    "zc['median family income dollars'].mean()"
   ]
  },
  {
   "cell_type": "code",
   "execution_count": 29,
   "metadata": {},
   "outputs": [
    {
     "data": {
      "text/plain": [
       "67460.47368421052"
      ]
     },
     "execution_count": 29,
     "metadata": {},
     "output_type": "execute_result"
    }
   ],
   "source": [
    "zc['median household income dollars'].mean()"
   ]
  },
  {
   "cell_type": "markdown",
   "metadata": {},
   "source": [
    "I chose to use a scatter matrix for this group of dataset. We are able to see the relationships between zipcodes, median family incomes, and median household incomes. Zipcodes and Median Family Income Dollars vary between $(60,000 - 120,000), with zipcodes ranging from 27500 - 27600. I searched up these area codes and 27600 corresponds to the city Raleigh. 27550 corresponds to the cities Moorisville, New Hill, Rolesville, Wake Forest, Wendell, Garner, and Zebulon. 27500 corresponds to cities Apex, Cary, Clayton, Fuquay-varina, Holly Springs, and Knightdale. We can also see the same results for Zipcodes and Median Household Income Dollars.\n",
    "\n",
    "***I could not figure out how to graph cities and median family income dollars, cities and median household income dollars.***\n",
    "\n",
    "References:\n",
    "- https://www.zip-codes.com/state/nc.asp"
   ]
  },
  {
   "cell_type": "markdown",
   "metadata": {},
   "source": [
    "# Ethics & Privacy"
   ]
  },
  {
   "cell_type": "markdown",
   "metadata": {},
   "source": [
    "The information contained in these datasets have been available for public access. Informed consent is required when using information regarding people, since the data used is regarding public domains it was not needed. However, there has been information that I chose to exclude because it was not necessary to mention and not expose restaurants for the types of violations they have. This includes name's of restaurants and phone numbers. I chose to match up restaurants not based on their names, but their hsisid's since it is what I found in common between the files. \n",
    "\n",
    "I tried to use the raw data and information regarding health inspection and other restaurant information. This included cities, zip codes, scores, types of violations, etc. There are other factors that contribute to health inspections that are not shown in these data sets. The purpose of this research was to explore what factors might contribute to health inspection scores based on what was given. As well as narrowing down the searches to make it easier for inspectors. I hope that by conducting this research, people can have a better understanding of how restaurants are scored and not limit the restaurants they go to based on locations. "
   ]
  },
  {
   "cell_type": "markdown",
   "metadata": {},
   "source": [
    "# Conclusion & Discussion"
   ]
  },
  {
   "cell_type": "markdown",
   "metadata": {},
   "source": [
    "My projected aimed to study the relationship between health inspection scores and the location of restaurants. I hypothesized that restaurants that were located in highly populated areas were more likely to have higher inspection scores. The factors that I believed contributed to this were up to date health inspections, employees having good hygiene, and these restaurants being surrounded by higher income level families/households.\n",
    "\n",
    "To test out my hypothesis I used the csv files inspections, restaurants, violations, and zipcodes. I chose to use information regarding hsisid's, city, violation types, median family/household incomes, days since previous inspection, scores, and more. I combined datasets and made graphs that used inspection scores, days since last inspection, and health code violations data. There were 14 cities in North Carolina that were consistent with my data: Raleigh, Cary, Morrisville, Wake Forst, Fuquay-varina, Apex, Knightdale, Garner, Zebulon, Holly Springs, Wendell, New Hill, Rolesville, and Clayton. When looking at the Health Inspection Scores graph, we can see that all these cities have high inspection scores. There wasn't a single one that fell below 80 points and the average was a 96. When doing further research, these 14 cities were in the Top 15 cities of North Carolina. So we can confirm that these highly populated cities have restaurants with high inspection scores. When looking at the Last Inspection graph, the days since the last inspection averaged to be about 157 days (~ 5 months). As mentioned in the beginning, restaurants have 1-3 inspections depending on the violations they have. This concludes that most restaurants do not have as many health violations and are keeping well with maintaining their areas. The Health Code Violation in Cities graph shows the 14 cities along with the top 5 health code violations found in the data. Raleigh and Cary were the two cities that had the most health code violations, chemical being the number 1 violation. The other cities barely even reached 5 violations. This concludes that restaurants have good employee hygiene and are keeping up with their care. My last graph of Zipcodes and Median Income shows the zipcodes of where these restaurants are located and the incomes of those around these areas. The average income for a median family is 83039, whereas for median household income was 67460. This proves that these restaurants are surrounded by families and individuals that do receive high incomes.\n",
    "\n",
    "The thing that I would want readers to take away from this is that there are many different steps Health Departments take in order to give restaurants a score. There are many violations that I did not cover but these are the ones that my data reflected. There are other factors that were not shown in the data used but can be left up to you to ponder about.\n",
    "\n",
    "**Limitations**\n",
    "\n",
    "A limitation that I found was that depending on where people live, the cost of living differs by locations. How much people are getting paid by the hour differs from each location as well. With that being said, we cannot assume that everyone has the same house payments, make the same amount of income a year, or spend their money the same. No one person makes more because of the costs of living. Another limitation is that due to the way I narrowed my data, I only used 14 cities out of many in North Carolina. So my results do not reflect the state, only the cities that I looked at. There was missing information in some of these restauraunts, for that reason I dropped those restaurants and only focused on those that provided all information. My results would have been different if I decided to include other variables. "
   ]
  }
 ],
 "metadata": {
  "kernelspec": {
   "display_name": "Python 3",
   "language": "python",
   "name": "python3"
  },
  "language_info": {
   "codemirror_mode": {
    "name": "ipython",
    "version": 3
   },
   "file_extension": ".py",
   "mimetype": "text/x-python",
   "name": "python",
   "nbconvert_exporter": "python",
   "pygments_lexer": "ipython3",
   "version": "3.6.7"
  }
 },
 "nbformat": 4,
 "nbformat_minor": 2
}
