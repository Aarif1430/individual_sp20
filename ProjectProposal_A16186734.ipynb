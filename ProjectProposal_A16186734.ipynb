{
 "cells": [
  {
   "cell_type": "markdown",
   "metadata": {},
   "source": [
    "# COGS 108 - Project Proposal"
   ]
  },
  {
   "cell_type": "markdown",
   "metadata": {},
   "source": [
    "# Names & PID\n",
    "\n",
    "- Name: ZHENG, Danyi\n",
    "- PID: A16186734"
   ]
  },
  {
   "cell_type": "markdown",
   "metadata": {},
   "source": [
    "# Research Question"
   ]
  },
  {
   "cell_type": "markdown",
   "metadata": {},
   "source": [
    "What is the relationship between the resturants' food package with its food safety level?"
   ]
  },
  {
   "cell_type": "markdown",
   "metadata": {},
   "source": [
    "## Background and Prior Work"
   ]
  },
  {
   "cell_type": "markdown",
   "metadata": {},
   "source": [
    "With the COVID-19 pandemic around the whole United States, most of the resturants have stopped dining-in service and offer food pick-up or delivery only. Long-lasting tablewares have been replaced by easy-carrying. single-use food packaging boxes, the material of which can cause health problem.Polystyrene, widely-used material for food packaging, is a known carcinogen and also environmental nightmare. It is also found that the paper boxes contain large amount of fluorine, which brings about immunological and developmental problems. All these toxic chemicals have a chance toenter food when high-temperature meals are immediately put into the boxes.\n",
    "However, this is not an unsolvable question, meaning that the resturants can choose safer food pakcaging boxes. It is told by scientist that food boxes made with 100% recycable material do no harm to human body, though it may be more expensive, or harder to purchase. \n",
    "By looking into what type of packages the resturants use, how much the resturants spend them, where they purchase, and the toxic chemical level in the food they sell, we can ring the alarm in which food packages checking step should be improved for resturant health inspection process.\n",
    "\n",
    "\n",
    "\n",
    "References (include links):\n",
    "- 1)Eleanor Goldberg Fox(2019), \"Food packaging is full of toxic chemicals – here's how it could affect your health\", https://www.theguardian.com/us-news/2019/may/28/plastics-toxic-america-chemicals-packaging\n",
    "- 2) Tom Neltner(2019), \"Toxic chemicals can enter food through packaging. We made a list.\", http://blogs.edf.org/health/2019/03/26/toxic-chemicals-food-packaging-list/"
   ]
  },
  {
   "cell_type": "markdown",
   "metadata": {},
   "source": [
    "# Hypothesis\n"
   ]
  },
  {
   "cell_type": "markdown",
   "metadata": {},
   "source": [
    "I predict that the more the resturants spend on their food packages per unit, the higher level their food safety level is. The commonly use toxic materials are usually very cheap so that the manufactory company can save cost. The harmless materials would require more purifying process, more vulnerable and expensive raw materials, resulting in a higher price.\n",
    "It is possible that the resturants may have a higher food safety level if they choose paper and metal boxes instead plastics. This may not be accurate, as paper boxes needs extra chemicals to maintain shape.\n",
    "I also believe that if the resturants purchasing boxes from a paper-product-only company rather than multiple-product companies may have safer food packages, as different manufactory lines can conteminate each other."
   ]
  },
  {
   "cell_type": "markdown",
   "metadata": {},
   "source": [
    "# Data"
   ]
  },
  {
   "cell_type": "markdown",
   "metadata": {},
   "source": [
    "As resurants mostly provide food to local area only, I would like to focus on San Diego County.\n",
    "The ideal dataset should include the toxic chemical level in food for all resturants in San Diego, as well as the monthly cost and resources of the resturant food packages.It may be in multiple files. From the official website of San Diego government, there are over 8100 resturants in the county, and all of them should have record of their food safety level, monthly cost on materials in the government's database. Ideally the dataset needed should be available in the governments' database, and we can also double check from the resturants' official website. All data should be stored as sheets."
   ]
  },
  {
   "cell_type": "markdown",
   "metadata": {},
   "source": [
    "# Ethics & Privacy"
   ]
  },
  {
   "cell_type": "markdown",
   "metadata": {},
   "source": [
    "As food safety concern is a concern to all residents, the data should be totally fair, based on facts, and without any bias.\n",
    "The food safety level of each resturant should be visible to the customers, on their website and in store. The resources of their food packages should also be available in most resturants, to convince the customers their food safety level. The monthly cost can be found on the resturant company's balance sheet, although may not be separated into details, so we need to ask for permission to have details and use them."
   ]
  }
 ],
 "metadata": {
  "kernelspec": {
   "display_name": "Python 3",
   "language": "python",
   "name": "python3"
  },
  "language_info": {
   "codemirror_mode": {
    "name": "ipython",
    "version": 3
   },
   "file_extension": ".py",
   "mimetype": "text/x-python",
   "name": "python",
   "nbconvert_exporter": "python",
   "pygments_lexer": "ipython3",
   "version": "3.6.7"
  }
 },
 "nbformat": 4,
 "nbformat_minor": 2
}
