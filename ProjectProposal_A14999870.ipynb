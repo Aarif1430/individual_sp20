{
 "cells": [
  {
   "cell_type": "markdown",
   "metadata": {},
   "source": [
    "# COGS 108 - Project Proposal"
   ]
  },
  {
   "cell_type": "markdown",
   "metadata": {},
   "source": [
    "# Names & PID\n",
    "\n",
    "- Name: Cindy Liang\n",
    "- PID: A14999870"
   ]
  },
  {
   "cell_type": "markdown",
   "metadata": {},
   "source": [
    "# Research Question"
   ]
  },
  {
   "cell_type": "markdown",
   "metadata": {},
   "source": [
    "Is there a relationship between Yelp reviews and health inspection scores? How does location affect the reviews and scores of a restaurant and can the relationship between reviews and scores predict future inspection scores (and the failure of a restaurant)?\n",
    "\n",
    "   - Do restaurants that have lower inspection scores or have failed city health inspections have lower ratings on Yelp?"
   ]
  },
  {
   "cell_type": "markdown",
   "metadata": {},
   "source": [
    "## Background and Prior Work"
   ]
  },
  {
   "cell_type": "markdown",
   "metadata": {},
   "source": [
    "- As a customer, you have no way of knowing how closely a restaurant follows guidelines about temperature, cross-contamination, and basic sanitation. So, you rely on Yelp reviews and the restaurant's health inspection score. \n",
    "\n",
    "- An \"A\" grade tells you that the place is clean and is careful about food safety issues.\n",
    "\n",
    "- Restaurants are supposed to be inspected at least once a year. \n",
    "- The health department is not so strict that a restaurant might not go through a routine health code check for \"18 months to 2 years.\"\n",
    "https://table.skift.com/2018/07/24/yelp-adds-health-code-ratings-to-restaurant-pages-nationwide/\n",
    "\n",
    "- Restaurants can be stuck with a grade that is not necessarily reflective of the restaurant.\n",
    "- Yelp Reviews are more up-to-date (since they are updated almost everyday) and are reflection of people's experiences at the restaurant. Customers often write about the cleanliness of the restaurant, the service they receieved, and the quality of the food. \n",
    "- There is a research study by Professor Michael Luca and Professor Yejin Choi found that a machine learnt model built using Yelp’s reviews data and past inspection records is able to successfully predict future inspection scores for restaurants 82% of the time. https://homes.cs.washington.edu/~yejin/Papers/emnlp13_hygiene.pdf\n",
    "- How does location play a factor in this?\n",
    "    - In some areas, Yelp is not widely used, thus with the limited reviews it does not provide enough information to compare to the health inspection score.\n",
    "    - Also health inspection is not the same in different cities and even states.\n",
    "- There was a study that focused on how much do Yelp scores affect a restaurant.\n",
    "    - https://www.bakadesuyo.com/2011/12/how-much-do-yelp-scores-affect-a-restaurants/\n",
    "    - This study found that: (1) a one-star increase in Yelp rating leads to a 5-9 percent increase in revenue; (2) ratings do not affect restaurants with chain affiliation; (3) chain restaurants have declined in market share as Yelp pentration have increased; (4) consumer response to a restaurant's average rating is affected by the number of reviews and whether the reviewers are certified as \"elite\" by Yelp.\n",
    "    \n",
    "- There is an other study that took NYC restaurant reviews and inspection scores data to find out if there is any correlation between the two. \n",
    "    - https://nycdatascience.com/blog/student-works/nyc-restaurants-reviews-and-inspection-scores/ \n",
    "    - The study found that: \n",
    "        - The study used a scatter plot that shows the relationship between inspection score and rating. It indicated that there is no direct clear correlation between the two variables.\n",
    "        - It is fairly common for a restaurant with a C grade inspection score to acheive a 4-5 star ratings in a review. This could be because as long as the food is tasty, people will rate the restaurant well because they are not and do not pay attention to cleanliness and hygienic issues (what a health inspector pays attention to because it's their job).\n"
   ]
  },
  {
   "cell_type": "markdown",
   "metadata": {},
   "source": [
    "# Hypothesis\n"
   ]
  },
  {
   "cell_type": "markdown",
   "metadata": {},
   "source": [
    "There is a correlation between health inspection ratings and Yelp reviews. Such that restaurants with low inspection scores have lower ratings on Yelp and restuarants with high inspection scores have higher ratings on Yelp. Furthermore, the reviews written by people on Yelp on be use to predict the outcome of health inspection scores."
   ]
  },
  {
   "cell_type": "markdown",
   "metadata": {},
   "source": [
    "# Data"
   ]
  },
  {
   "cell_type": "markdown",
   "metadata": {},
   "source": [
    "First, I'll get food inspection data from the cities I am focusing on. The cities I am focusing on are New York City and Little Rock, Arkansas. I chose to collect data from these two cities to see the differences in Yelp reviews, inspection scores, and see what role location plays. \n",
    "Each city should have information about their inspections of restaurants and other food establishments.\n",
    "\n",
    "- Every restaurant in New York City is scheduled for an unannounced inspection at least once a year. (https://www1.nyc.gov/site/doh/business/food-operators/the-inspection-process.page)\n",
    "\n",
    "- In Arkansas, inspections are conducted 1-3 times per year depending upon the risk category of the establishment.\n",
    "\n",
    "Inspection data can we downloaded from NYC open data website.\n",
    "    \n",
    "Second, I'll get restaurant ratings and location information from Yelp's API. \n",
    "\n",
    "- Use restaurants that have both health inspection history and Yelp ratings. \n",
    "\n",
    "For each city, I will have separate graphs. I will plot the data on various bar plots to visualize the inspection scores and ratings based on cuisine type.\n",
    "\n",
    "A scatter plot can be use to show if there is a relationship between inspection score and rating.\n",
    "- Inspection scores on y-axis/ Reviews on x-axis\n",
    "\n",
    "I will also compare the two cities on a graph. That way we can see how many restaurants there are in New York City vs. Little Rock, Arkansas; how many reviews, what the inspection scores are for every restaurant in the two cities. \n",
    "\n",
    "I will also do further analysis by reviewing review comments and try to find why some restaurants have good reviews but low inspection score and vice-versa.\n",
    "\n",
    "These data that I am collecting can be stored in excel sheets and then later plotted on graphs to get a visual presentation."
   ]
  },
  {
   "cell_type": "markdown",
   "metadata": {},
   "source": [
    "# Ethics & Privacy"
   ]
  },
  {
   "cell_type": "markdown",
   "metadata": {},
   "source": [
    "I would have to get permission and make a request to use data from Yelp. Yelp users signed an agreement which allow Yelp to use their content. I will use the reviews that Yelp users have posted for the restaurants in New York and Arkansas. The Yelp users information will not be used in my study. The data and information I am using are the reviews/experiences that they have made public and shared about the restaurants. \n",
    "\n",
    "There are no volunteers needed for this study. Restaurants are mostly affected by this study because the goal of this study is to see if there is a relationship between reviews and inspection scores and if it can predict the future inspection scores of the restaurant. \n",
    "\n",
    "All restaurants are at risk, since if they have lower ratings and lower inspection scores, their restaurant image is tainted and they might lose business.\n",
    "\n",
    "I think studying the reviews and inspection scores of restaurants is beneficial for customers since they are the stakeholders. They are eating at restaurants that claim they are clean and follow sanitary practices. Customers are putting on so much faith in health inspectors and other people's opinions/reviews to eat a restaurant.\n",
    "\n",
    "Also, regarding data, I am using data that is already opened to the public - the health inspection scores of restaurants and reviews of restaurants."
   ]
  }
 ],
 "metadata": {
  "kernelspec": {
   "display_name": "Python 3",
   "language": "python",
   "name": "python3"
  },
  "language_info": {
   "codemirror_mode": {
    "name": "ipython",
    "version": 3
   },
   "file_extension": ".py",
   "mimetype": "text/x-python",
   "name": "python",
   "nbconvert_exporter": "python",
   "pygments_lexer": "ipython3",
   "version": "3.6.7"
  }
 },
 "nbformat": 4,
 "nbformat_minor": 2
}
