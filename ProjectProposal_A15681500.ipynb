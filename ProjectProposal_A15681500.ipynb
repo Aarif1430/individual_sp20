{
 "cells": [
  {
   "cell_type": "markdown",
   "metadata": {},
   "source": [
    "# COGS 108 - Project Proposal"
   ]
  },
  {
   "cell_type": "markdown",
   "metadata": {},
   "source": [
    "# Names & PID\n",
    "\n",
    "- Name: Navid Kazimi\n",
    "- PID: A15681500"
   ]
  },
  {
   "cell_type": "markdown",
   "metadata": {},
   "source": [
    "# Research Question"
   ]
  },
  {
   "cell_type": "markdown",
   "metadata": {},
   "source": [
    "*Fill in your research question here*\n",
    "Health inspectors usually make announcements to the restaurants a few times per year for visiting the restaurants in order to protect vendors  and workers for food-borne illnesses and safety for the workers, and overall checking the whole entire kitchen for any contamination might happen."
   ]
  },
  {
   "cell_type": "markdown",
   "metadata": {},
   "source": [
    "## Background and Prior Work"
   ]
  },
  {
   "cell_type": "markdown",
   "metadata": {},
   "source": [
    "*Fill in your background and prior work here. Be sure to specify which statements are from which references.* \n",
    "\n",
    "References (include links):\n",
    "- 1)one important way to improve the health inspection of the local restaurant in the city is to be able to make a clear safety inspection for the employers that are working there and make food for people. The safety health inspection can help to reduce the risk of anything that can  containment with bacteria and toxic chemical, and make food borne illnesses. \n",
    "\n",
    "- 2)Another important fact for not causing the food borne illnesses is the health investors make sure to check the foods temperature, for instance, the food that supposed to be in the freezer, make sure to keep them in ice while you using them in order to not bacteria grow on them and not put the people healths in danger. inspectors might pay attention to the thermometer in the fridge and freezer to make sure they work properly. \n",
    "\n",
    "\n",
    "\n",
    "Sources \n",
    "1. https://www.menucoverdepot.com/resource-center/articles/restaurant-health-inspections/\n",
    "\n",
    "2. https://hbr.org/2019/05/to-improve-food-inspections-change-the-way-theyre-scheduled\n",
    "\n",
    "\n"
   ]
  },
  {
   "cell_type": "markdown",
   "metadata": {},
   "source": [
    "# Hypothesis\n"
   ]
  },
  {
   "cell_type": "markdown",
   "metadata": {},
   "source": [
    "*State and defend your hypotheses here.*\n",
    "My Hypothesis is  checking restaurants  at least every ten days by the inspector. That would help the owner of  restaurants to take care of his/her business more safely. Also I believe for checking the restaurant inspection, an unscheduled inspection check can be a great fear for the owner to keep the place safe and healthy. also cleaning tables in restaurants can impact a lot of safety for customers who like to sit and enjoy their meal at the restaurant. "
   ]
  },
  {
   "cell_type": "markdown",
   "metadata": {},
   "source": [
    "# Data"
   ]
  },
  {
   "cell_type": "markdown",
   "metadata": {},
   "source": [
    "*Explain what the ideal dataset you would want to answer this question. (This should include: What variables? How many observations? Who/what/how would these data be collected? How would these data be stored/organized?)*\n",
    "I got the data from the La county of how often to check the restaurant by the specific categorial, in this data the important data I need is name of the restaurants, name of the owner and the grade, and score that how good they got from the inspection. For example the highest score in the table will represent a better and healthy place is that restaurant https://www.kaggle.com/meganrisdal/la-county-restaurant-inspections-and-violations"
   ]
  },
  {
   "cell_type": "markdown",
   "metadata": {},
   "source": [
    "# Ethics & Privacy"
   ]
  },
  {
   "cell_type": "markdown",
   "metadata": {},
   "source": [
    "*Fill in your ethics & privacy discussion here*\n",
    "This data is taken by public record and the licence is allowed for public use and allowed to modify. In other words there is no concern of the ethics of being able to use, because it is publicly available to use and modify. The data is collected for the restaurant inspection base of the name, place, name of owner, score, grade, and data collected bases of the highest score inspection would show the more safety that place is.   "
   ]
  }
 ],
 "metadata": {
  "kernelspec": {
   "display_name": "Python 3",
   "language": "python",
   "name": "python3"
  },
  "language_info": {
   "codemirror_mode": {
    "name": "ipython",
    "version": 3
   },
   "file_extension": ".py",
   "mimetype": "text/x-python",
   "name": "python",
   "nbconvert_exporter": "python",
   "pygments_lexer": "ipython3",
   "version": "3.7.6"
  }
 },
 "nbformat": 4,
 "nbformat_minor": 2
}
