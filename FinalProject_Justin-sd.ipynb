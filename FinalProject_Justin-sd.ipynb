{
 "cells": [
  {
   "cell_type": "markdown",
   "metadata": {},
   "source": [
    "# COGS 108 - Final Project "
   ]
  },
  {
   "cell_type": "markdown",
   "metadata": {},
   "source": [
    "# Overview"
   ]
  },
  {
   "cell_type": "markdown",
   "metadata": {},
   "source": [
    "This project set out to explore the difference between Yelp reviewer's expectations for restaraunt's health standards in relation to the median household income of the restaraunt. In particular, we suspected that in lower income areas, Yelp reviewer's Yelp rating would be less influenced by the health inspection score the restaraunt received, than in higher income areas.\n",
    "\n",
    "These suspicions proved untrue when we examined the restaraunts in the top and bottom 25% of median household incomes, but showed they may have some validty when taking the top and bottom 1%.\n",
    "\n",
    "The restaraunts analyzed all came from the state of North Carolina."
   ]
  },
  {
   "cell_type": "markdown",
   "metadata": {},
   "source": [
    "# Name & PID\n",
    "\n",
    "- Name: Justin Gross\n",
    "- PID: A15753144"
   ]
  },
  {
   "cell_type": "markdown",
   "metadata": {},
   "source": [
    "# Research Question"
   ]
  },
  {
   "cell_type": "markdown",
   "metadata": {},
   "source": [
    "Do Yelp reviewers for restaraunts in higher income communities have higher expectations for the health standards of those restaraunts than Yelp reviwers reviewing restaraunts in lower income areas? That is, are the health inspection scores more dependent on yelp ratings in higher income areas than in lower income areas."
   ]
  },
  {
   "cell_type": "markdown",
   "metadata": {},
   "source": [
    "## Background and Prior Work"
   ]
  },
  {
   "cell_type": "markdown",
   "metadata": {},
   "source": [
    "There has been work done to answer questions such as whether or not Yelp reviews and health inspection violations are related (ref 1). In this study, they found that Yelp reviews and health violations were only correlated in chain food facilitis. These findings are interesting, but do not answer our questions of whether we can stratify restraunts by their community's income to achieve different results. However, if we find there is not much correlation between Yelp rating and health inspection score (since this is dependent on violations), our results would be in agreement. Also worth noting is that these results are from one city—New York City.\n",
    "\n",
    "Another interesting study from our own UCSD has done work on developing models to predict hygine conditions through Yelp reviews (ref 2). This is interesting in the context of my project because their model—which levearges Yelp scores—does offer some improvments on finding restaraunts with health violations. This suggests that we may be able to find some correlation between the two. If this project also finds correlation between the health inspection ratings and Yelp reviews, it will be interesting to find out if this relationship is stronger in low or high income communities.\n",
    "\n",
    "References (include links):\n",
    "- 1) https://www.jstor.org/stable/26330473?seq=1\n",
    "- 2) http://jmcauley.ucsd.edu/cse258/projects/fa15/036.pdf\n",
    "\n",
    "As discussed in the review of some background work, this project hopes to go a step deeper and examine if there is a higher \"tolarance\" of Yelp reviewers, reviewing restaraunts in lower income areas, for restaraunts with lower health inspection scores."
   ]
  },
  {
   "cell_type": "markdown",
   "metadata": {},
   "source": [
    "# Hypothesis\n"
   ]
  },
  {
   "cell_type": "markdown",
   "metadata": {},
   "source": [
    "I hypothesize that Yelp reviews for restaraunts in lower income communities are less correlated with health inspection scores than Yelp reviews for restaraunts not in lower income communities. More specifically, I hypothesize that restaraunts with high Yelp ratings, but low(er) health inspection scores, are more likely to exist in low income areas than in high income areas.\n",
    "\n",
    "\n",
    "The intuition for this hypothesis is simply based on sterotypes of higher income communities. In particular that higher income households may tend to be more picky and less tolerant of establishments that do not meet their higher standards."
   ]
  },
  {
   "cell_type": "markdown",
   "metadata": {},
   "source": [
    "# Datasets"
   ]
  },
  {
   "cell_type": "markdown",
   "metadata": {},
   "source": [
    "The datasets used for this project are as follows:\n",
    "\n",
    "- Dataset Name: Yelp.csv\n",
    "- Link to the dataset: Provided\n",
    "- Number of observations: 3688\n",
    "\n",
    "\n",
    "- Description: Yelp statistics for different restaraunts. Key features this project will take advantage of are the average Yelp rating and zip code.\n",
    "\n",
    "\n",
    "- Dataset Name: Inspections.csv\n",
    "- Link to the dataset: Provided\n",
    "- Number of observations: 18466\n",
    "\n",
    "\n",
    "- Description: Health inspection scores for different restaraunts. Key features this project will take advantage of are the inspection score and the zip code.\n",
    "\n",
    "\n",
    "- Dataset Name: Zipcodes.csv\n",
    "- Link to the dataset: Provided\n",
    "- Number of observations: 38\n",
    "\n",
    "- Description: Several metrics describing the income for each zip code. This project will be using median household income from this dataset.\n",
    "\n",
    "\n",
    "The Yelp and Inspections datasets will be combined by inner merging both on address and phone numbers. We must inner merge on both, because the many restaraunts in the dataset share the same address—perhaps because it's a shared plaza or building—but none share the same address and the same phone number. Next, we will inner merge on the zip code, so that we have income information for each restaraunt.\n",
    "\n",
    "Finally, I must make clear that all datasets used come from data gathered soley from the state of North Carolina. Though I would hope that the results of this analysis are consistent with other areas as well, this assumption cannot be made."
   ]
  },
  {
   "cell_type": "markdown",
   "metadata": {},
   "source": [
    "# Setup"
   ]
  },
  {
   "cell_type": "code",
   "execution_count": 1,
   "metadata": {},
   "outputs": [],
   "source": [
    "import numpy as np\n",
    "import pandas as pd\n",
    "import patsy\n",
    "import statsmodels.api as sm\n",
    "import matplotlib.pyplot as plt\n",
    "import seaborn as sns\n",
    "\n",
    "import warnings\n",
    "warnings.filterwarnings('ignore')\n",
    "\n",
    "# Import the datasets into pandas dataframes\n",
    "df_yelp = pd.read_csv('./data/yelp.csv')\n",
    "df_inspections = pd.read_csv('./data/inspections.csv')\n",
    "df_zipcodes = pd.read_csv('./data/zipcodes.csv')\n"
   ]
  },
  {
   "cell_type": "markdown",
   "metadata": {},
   "source": [
    "# Data Cleaning"
   ]
  },
  {
   "cell_type": "markdown",
   "metadata": {},
   "source": [
    "For data cleaning, we will narrow our data frames down to only the necessary fields, standardize the column names, and combine the data into a single data frame.\n",
    "\n",
    "There are a few important things we must do to clean the data including:\n",
    "* Standardizing the phone numbers\n",
    "  * Inspections uses the format (808) 123-4567\n",
    "  * Yelp uses the format 18081234567\n",
    "* Standardizing the addresses\n",
    "  * The capitilization of the addresses is inconsistent. To solve this, we simply convert the address strings to all lowercase\n",
    "* The column names were renamed to follow a consistent, and easier to understand format\n",
    "* Rows that did not contain an address were removed from the dataset. An N/A entry for the address should not have any relation to its health inspection score, so this is acceptable.\n",
    "* Finally, all the columns we do not need to answer our research question have been droppped"
   ]
  },
  {
   "cell_type": "code",
   "execution_count": 2,
   "metadata": {},
   "outputs": [],
   "source": [
    "# Remove unused yelp fields and rename columns\n",
    "df_yelp = df_yelp[['zip_code', 'rating', 'phone', 'address1']]\n",
    "df_yelp = df_yelp.rename({\"zip_code\": \"zip\", \"rating\":\"yelp_rating\"}, axis='columns')\n",
    "\n",
    "# Remove unused inspection fields and rename columns\n",
    "df_inspections = df_inspections[['zip', 'score', 'phonenumber', 'address1']]\n",
    "df_inspections = df_inspections.rename({\"score\":\"inspection_score\", 'phonenumber': 'phone'}, axis='columns')\n",
    "\n",
    "# Remove unused zipcode fields and rename columns\n",
    "df_zipcodes = df_zipcodes[['zip', 'median_household_income_dollars']]\n",
    "df_zipcodes = df_zipcodes.rename({\"median_household_income_dollars\":\"income\"}, axis='columns')\n"
   ]
  },
  {
   "cell_type": "code",
   "execution_count": 3,
   "metadata": {},
   "outputs": [],
   "source": [
    "# Change the phone numbers in the inspections dataframe to match the format of the yelp data frame\n",
    "def standardize_phone(s):\n",
    "    # If s is not a string, return None\n",
    "    if not isinstance(s, str):\n",
    "        return None\n",
    "    \n",
    "    # Remove extensions\n",
    "    if 'ext' in s:\n",
    "        s = s[:s.find('ext')].strip()\n",
    "    \n",
    "    res = \"1\"\n",
    "    for c in s:\n",
    "        if c.isnumeric():\n",
    "            res += c\n",
    "            \n",
    "    return res\n",
    "\n",
    "assert(standardize_phone(\"(919) 792-0333\") == \"19197920333\")\n"
   ]
  },
  {
   "cell_type": "code",
   "execution_count": 4,
   "metadata": {},
   "outputs": [],
   "source": [
    "# Apply the standardized phone number\n",
    "df_inspections['phone'] = df_inspections['phone'].apply(standardize_phone)\n"
   ]
  },
  {
   "cell_type": "code",
   "execution_count": 5,
   "metadata": {},
   "outputs": [],
   "source": [
    "# Also put the addresses into all lowercase form\n",
    "df_inspections = df_inspections.dropna(subset=['address1'])\n",
    "df_yelp = df_yelp.dropna(subset=['address1'])\n",
    "\n",
    "df_inspections['address1'] = df_inspections['address1'].apply(lambda x : x.lower())\n",
    "df_yelp['address1'] = df_yelp['address1'].apply(lambda x: x.lower())\n"
   ]
  },
  {
   "cell_type": "code",
   "execution_count": 6,
   "metadata": {},
   "outputs": [],
   "source": [
    "# Merge the dataframes together\n",
    "# print(df_inspections.head())\n",
    "# print(df_inspections['phone'].value_counts())\n",
    "\n",
    "# We have to merge by phone number because that's the only consistent unique thing.\n",
    "df = df_yelp.merge(df_inspections, on=['phone', 'address1'], how='inner')\n",
    "\n",
    "# Remove duplicate columns\n",
    "df = df.drop(['zip_y'], axis=1)\n",
    "df = df.rename({'zip_x': 'zip'}, axis='columns')\n",
    "\n",
    "# Merge in the zipcode income information\n",
    "df = df.merge(df_zipcodes, on='zip', how=\"inner\")\n"
   ]
  },
  {
   "cell_type": "markdown",
   "metadata": {},
   "source": [
    "# Data Analysis & Results"
   ]
  },
  {
   "cell_type": "markdown",
   "metadata": {},
   "source": [
    "The first step of our analysis will be to separate the zip codes into two classes:\n",
    "\n",
    "1. Lower income, which we will define restaraunts in zip codes that have the bottom 25% of median household income\n",
    "1. Higher income, which we will define restaraunts in zip codes that have the top 25% of median household income\n",
    "\n",
    "Once we have this, we can begin exploratory analysis to see if we can observe any obvious differences between the two groups."
   ]
  },
  {
   "cell_type": "code",
   "execution_count": 7,
   "metadata": {},
   "outputs": [],
   "source": [
    "# We are going to take the top 25% and bottom 25%\n",
    "obs_size = int(len(df) * .25)\n",
    "\n",
    "df_lower = df.nsmallest(n=obs_size, columns='income')\n",
    "df_higher = df.nlargest(n=obs_size, columns='income')\n"
   ]
  },
  {
   "cell_type": "markdown",
   "metadata": {},
   "source": [
    "To start, lets examine the distributions of Yelp scores for the two groups."
   ]
  },
  {
   "cell_type": "code",
   "execution_count": 8,
   "metadata": {},
   "outputs": [
    {
     "data": {
      "image/png": "[encoded data removed]",
      "text/plain": [
       "<Figure size 720x576 with 1 Axes>"
      ]
     },
     "metadata": {
      "needs_background": "light"
     },
     "output_type": "display_data"
    }
   ],
   "source": [
    "plt.figure(figsize=(10, 8))\n",
    "\n",
    "labels = [\"Top 25% Median Household Income\", \"Bottom 25% Median Household Income\"]\n",
    "ax = plt.hist((df_higher['yelp_rating'], df_lower['yelp_rating']), bins=5, label=labels)\n",
    "\n",
    "plt.legend(loc=\"upper left\", fontsize='large')\n",
    "plt.title(\"Distribution of Yelp Ratings in areas with bottom 25% of Median Household Income vs Top 25%\\n\")\n",
    "plt.show()\n"
   ]
  },
  {
   "cell_type": "markdown",
   "metadata": {},
   "source": [
    "It appears that there is a definite bias in both groups towards the upper middle ratings in the 3.5-4 range. Interestingly though, lower income areas seem slightly more likely to give both lower and the highest ratings. Higher income areas on the other hand seem more likely to default to the 3.5-4 range. This could signal several things. For example, perhaps high income restraunts are just less likley to be so bad they warrant a 1-2.5 Yelp rating.\n",
    "\n",
    "\n",
    "But we can't jump to conclusions. Lets now examine the distribution of health inspection scores."
   ]
  },
  {
   "cell_type": "code",
   "execution_count": 9,
   "metadata": {},
   "outputs": [
    {
     "data": {
      "image/png": "[encoded data removed]",
      "text/plain": [
       "<Figure size 720x576 with 1 Axes>"
      ]
     },
     "metadata": {
      "needs_background": "light"
     },
     "output_type": "display_data"
    }
   ],
   "source": [
    "plt.figure(figsize=(10, 8))\n",
    "\n",
    "labels = [\"Top 25% Median Household Income\", \"Bottom 25% Median Household Income\"]\n",
    "ax = plt.hist((df_higher['inspection_score'], df_lower['inspection_score']), bins=20, label=labels)\n",
    "\n",
    "plt.legend(loc=\"upper left\", fontsize='large')\n",
    "plt.title(\"Distribution of Health Inspection Scores in areas with bottom 25% of Median Household Income vs Top 25%\\n\")\n",
    "plt.show()\n"
   ]
  },
  {
   "cell_type": "markdown",
   "metadata": {},
   "source": [
    "From this plot we see that there is slightly more restaraunts with the highest health inspection ratings in the higher income area. For the most part though, the inspection scores tend to be fairly good. Slightly more lower income areas do particularly bad in the health inspeciton score areas, but there are still some high income restaraunts that do badly too.\n",
    "\n",
    "Additionally, we discovered an outlier around the 75 inspection score. We will remove this observation as it could skew our results."
   ]
  },
  {
   "cell_type": "code",
   "execution_count": 10,
   "metadata": {},
   "outputs": [],
   "source": [
    "# Confirm the outlier value\n",
    "assert(df_lower['inspection_score'].value_counts()[75.0] == 1)\n",
    "\n",
    "df_lower = df_lower[df_lower['inspection_score'] > 75]\n",
    "\n",
    "# Confirm the outlier value is gone\n",
    "assert(all(df_lower['inspection_score'] > 75))\n"
   ]
  },
  {
   "cell_type": "markdown",
   "metadata": {},
   "source": [
    "The main analysis will be determining the relationships between the Yelp ratings and health inspection scores, and how those two differ for each income area. However, lets get a quick feel for what our results may yield with a nifty kernel density plot. This will show us how common the Yelp scores are for each health inspection score."
   ]
  },
  {
   "cell_type": "code",
   "execution_count": 11,
   "metadata": {},
   "outputs": [
    {
     "data": {
      "image/png": "[encoded data removed]",
      "text/plain": [
       "<Figure size 432x288 with 1 Axes>"
      ]
     },
     "metadata": {
      "needs_background": "light"
     },
     "output_type": "display_data"
    },
    {
     "data": {
      "image/png": "[encoded data removed]",
      "text/plain": [
       "<Figure size 432x288 with 1 Axes>"
      ]
     },
     "metadata": {
      "needs_background": "light"
     },
     "output_type": "display_data"
    }
   ],
   "source": [
    "plt.clf()\n",
    "g2 = sns.kdeplot(df_higher['inspection_score'], df_higher['yelp_rating'],\n",
    "                 cmap=\"Blues\", shade=True, shade_lowest=False, clip=((85,110),(0,6)))\n",
    "plt.title(\"Health Inspection Score vs Yelp Rating for Restaraunts in Areas With Top 25% of Median Household Income\\n\")\n",
    "plt.show(g2)\n",
    "\n",
    "plt.clf()\n",
    "# plt.figure()\n",
    "plt.title(\"Health Inspection Score vs Yelp Rating for Restaraunts in Areas With Bottom 25% of Median Household Income\\n\")\n",
    "g1 = sns.kdeplot(df_lower['inspection_score'], df_lower['yelp_rating'],\n",
    "                 cmap=\"Reds\", shade=True, shade_lowest=False, clip=((85,110),(0,6)))\n",
    "plt.show(g1)\n"
   ]
  },
  {
   "cell_type": "markdown",
   "metadata": {},
   "source": [
    "As we can see, for higher income areas, the Yelp ratings vs health inspection ratings seem a bit more narrow. On the other hand, the lower income areas have more range for how the two scores are related.\n"
   ]
  },
  {
   "cell_type": "markdown",
   "metadata": {},
   "source": [
    "Now that we have done our exploratory data analysis, lets get get into answering the real question!\n",
    "\n",
    "A quick reminder, we are trying to determine if Yelp ratings in lower income communities are less likely to signal a lower health inspection score.\n",
    "\n",
    "To determine this relationship I chose to use an Ordinary Least Squares model as I expect from our exploratory analysis that there could be a linear relationship between yelp ratings and inspection scores.\n"
   ]
  },
  {
   "cell_type": "code",
   "execution_count": 12,
   "metadata": {},
   "outputs": [
    {
     "name": "stdout",
     "output_type": "stream",
     "text": [
      "                            OLS Regression Results                            \n",
      "==============================================================================\n",
      "Dep. Variable:       inspection_score   R-squared:                       0.000\n",
      "Model:                            OLS   Adj. R-squared:                 -0.001\n",
      "Method:                 Least Squares   F-statistic:                  0.009276\n",
      "Date:                Wed, 10 Jun 2020   Prob (F-statistic):              0.923\n",
      "Time:                        15:28:26   Log-Likelihood:                -3987.5\n",
      "No. Observations:                1771   AIC:                             7979.\n",
      "Df Residuals:                    1769   BIC:                             7990.\n",
      "Df Model:                           1                                         \n",
      "Covariance Type:            nonrobust                                         \n",
      "===============================================================================\n",
      "                  coef    std err          t      P>|t|      [0.025      0.975]\n",
      "-------------------------------------------------------------------------------\n",
      "Intercept      96.0437      0.308    312.251      0.000      95.440      96.647\n",
      "yelp_rating     0.0081      0.084      0.096      0.923      -0.157       0.174\n",
      "==============================================================================\n",
      "Omnibus:                      164.336   Durbin-Watson:                   1.135\n",
      "Prob(Omnibus):                  0.000   Jarque-Bera (JB):              218.116\n",
      "Skew:                          -0.764   Prob(JB):                     4.33e-48\n",
      "Kurtosis:                       3.788   Cond. No.                         22.0\n",
      "==============================================================================\n",
      "\n",
      "Warnings:\n",
      "[1] Standard Errors assume that the covariance matrix of the errors is correctly specified.\n"
     ]
    }
   ],
   "source": [
    "# Analysis for top 25% income\n",
    "outcome_2, predictors_2 = patsy.dmatrices('inspection_score ~ yelp_rating', df_higher)\n",
    "mod_2 = sm.OLS(outcome_2, predictors_2)\n",
    "res_2 = mod_2.fit()\n",
    "print(res_2.summary())\n"
   ]
  },
  {
   "cell_type": "code",
   "execution_count": 13,
   "metadata": {},
   "outputs": [
    {
     "name": "stdout",
     "output_type": "stream",
     "text": [
      "                            OLS Regression Results                            \n",
      "==============================================================================\n",
      "Dep. Variable:       inspection_score   R-squared:                       0.000\n",
      "Model:                            OLS   Adj. R-squared:                 -0.001\n",
      "Method:                 Least Squares   F-statistic:                   0.01038\n",
      "Date:                Wed, 10 Jun 2020   Prob (F-statistic):              0.919\n",
      "Time:                        15:28:26   Log-Likelihood:                -4158.0\n",
      "No. Observations:                1770   AIC:                             8320.\n",
      "Df Residuals:                    1768   BIC:                             8331.\n",
      "Df Model:                           1                                         \n",
      "Covariance Type:            nonrobust                                         \n",
      "===============================================================================\n",
      "                  coef    std err          t      P>|t|      [0.025      0.975]\n",
      "-------------------------------------------------------------------------------\n",
      "Intercept      96.0005      0.254    378.337      0.000      95.503      96.498\n",
      "yelp_rating    -0.0073      0.072     -0.102      0.919      -0.148       0.133\n",
      "==============================================================================\n",
      "Omnibus:                      536.798   Durbin-Watson:                   1.091\n",
      "Prob(Omnibus):                  0.000   Jarque-Bera (JB):             1933.014\n",
      "Skew:                          -1.464   Prob(JB):                         0.00\n",
      "Kurtosis:                       7.200   Cond. No.                         16.0\n",
      "==============================================================================\n",
      "\n",
      "Warnings:\n",
      "[1] Standard Errors assume that the covariance matrix of the errors is correctly specified.\n"
     ]
    }
   ],
   "source": [
    "# Analysis for bottom 25% income\n",
    "outcome_1, predictors_1 = patsy.dmatrices('inspection_score ~ yelp_rating', df_lower)\n",
    "mod_1 = sm.OLS(outcome_1, predictors_1)\n",
    "res_1 = mod_1.fit()\n",
    "print(res_1.summary())\n",
    "\n"
   ]
  },
  {
   "cell_type": "markdown",
   "metadata": {},
   "source": [
    "Unfortunately, neither the higher nor the lower income areas had Yelp ratings that were a significant predictor of the outcome variable—health inspection scores. Although it does appear that the Yelp ratings in the higher income areas are more impactful than in the lower income areas, it is not significant enough to conclude that our hypothesis was correct.\n",
    "\n",
    "Before we give up though, lets try one more thing... Lets examine the 1%!\n"
   ]
  },
  {
   "cell_type": "code",
   "execution_count": 14,
   "metadata": {},
   "outputs": [],
   "source": [
    "obs_size = int(len(df) * .01)\n",
    "\n",
    "df_lower = df.nsmallest(n=obs_size, columns='income')\n",
    "df_higher = df.nlargest(n=obs_size, columns='income')\n",
    "\n",
    "# Remove that one outlier\n",
    "df_lower = df_lower[df_lower['inspection_score'] > 75]\n",
    "\n"
   ]
  },
  {
   "cell_type": "markdown",
   "metadata": {},
   "source": [
    "Lets quickly visualize the data for the top and bottom 1% income areas\n"
   ]
  },
  {
   "cell_type": "code",
   "execution_count": 15,
   "metadata": {},
   "outputs": [
    {
     "data": {
      "image/png": "[encoded data removed]",
      "text/plain": [
       "<Figure size 432x288 with 1 Axes>"
      ]
     },
     "metadata": {
      "needs_background": "light"
     },
     "output_type": "display_data"
    },
    {
     "data": {
      "image/png": "[encoded data removed]",
      "text/plain": [
       "<Figure size 432x288 with 1 Axes>"
      ]
     },
     "metadata": {
      "needs_background": "light"
     },
     "output_type": "display_data"
    }
   ],
   "source": [
    "plt.clf()\n",
    "g2 = sns.kdeplot(df_higher['inspection_score'], df_higher['yelp_rating'],\n",
    "                 cmap=\"Blues\", shade=True, shade_lowest=False, clip=((85,110),(0,6)))\n",
    "plt.title(\"Health Inspection Score vs Yelp Rating for Restaraunts in Areas With Top 1% of Median Household Income\\n\")\n",
    "plt.show(g2)\n",
    "\n",
    "plt.clf()\n",
    "# plt.figure()\n",
    "plt.title(\"Health Inspection Score vs Yelp Rating for Restaraunts in Areas With Bottom 1% of Median Household Income\\n\")\n",
    "g1 = sns.kdeplot(df_lower['inspection_score'], df_lower['yelp_rating'],\n",
    "                 cmap=\"Reds\", shade=True, shade_lowest=False, clip=((85,110),(0,6)))\n",
    "plt.show(g1)"
   ]
  },
  {
   "cell_type": "markdown",
   "metadata": {},
   "source": [
    "Interestingly—just from observing the graphs—it appears the highest income area is less bothered by health inspection scores as there are high density of high ratings within a large range of inspection scores. The lower income area actually seems to have the highest yelp ratings more closely matching the highest inspection scores.\n",
    "\n",
    "Again though, we can't determine if this observation is significant just from the graphs. Lets again run our ordinary least squares analysis"
   ]
  },
  {
   "cell_type": "markdown",
   "metadata": {},
   "source": [
    "Finally, we can carry out our analysis on these two groups"
   ]
  },
  {
   "cell_type": "code",
   "execution_count": 16,
   "metadata": {},
   "outputs": [
    {
     "name": "stdout",
     "output_type": "stream",
     "text": [
      "                            OLS Regression Results                            \n",
      "==============================================================================\n",
      "Dep. Variable:       inspection_score   R-squared:                       0.147\n",
      "Model:                            OLS   Adj. R-squared:                  0.134\n",
      "Method:                 Least Squares   F-statistic:                     11.70\n",
      "Date:                Wed, 10 Jun 2020   Prob (F-statistic):            0.00106\n",
      "Time:                        15:28:27   Log-Likelihood:                -161.30\n",
      "No. Observations:                  70   AIC:                             326.6\n",
      "Df Residuals:                      68   BIC:                             331.1\n",
      "Df Model:                           1                                         \n",
      "Covariance Type:            nonrobust                                         \n",
      "===============================================================================\n",
      "                  coef    std err          t      P>|t|      [0.025      0.975]\n",
      "-------------------------------------------------------------------------------\n",
      "Intercept      89.0233      2.154     41.337      0.000      84.726      93.321\n",
      "yelp_rating     1.9956      0.583      3.421      0.001       0.832       3.160\n",
      "==============================================================================\n",
      "Omnibus:                       11.851   Durbin-Watson:                   1.542\n",
      "Prob(Omnibus):                  0.003   Jarque-Bera (JB):               12.196\n",
      "Skew:                          -0.919   Prob(JB):                      0.00225\n",
      "Kurtosis:                       3.898   Cond. No.                         29.0\n",
      "==============================================================================\n",
      "\n",
      "Warnings:\n",
      "[1] Standard Errors assume that the covariance matrix of the errors is correctly specified.\n"
     ]
    }
   ],
   "source": [
    "# Analysis for top 1% income\n",
    "outcome_2, predictors_2 = patsy.dmatrices('inspection_score ~ yelp_rating', df_higher)\n",
    "mod_2 = sm.OLS(outcome_2, predictors_2)\n",
    "res_2 = mod_2.fit()\n",
    "print(res_2.summary())\n"
   ]
  },
  {
   "cell_type": "code",
   "execution_count": 17,
   "metadata": {},
   "outputs": [
    {
     "name": "stdout",
     "output_type": "stream",
     "text": [
      "                            OLS Regression Results                            \n",
      "==============================================================================\n",
      "Dep. Variable:       inspection_score   R-squared:                       0.010\n",
      "Model:                            OLS   Adj. R-squared:                 -0.005\n",
      "Method:                 Least Squares   F-statistic:                    0.6595\n",
      "Date:                Wed, 10 Jun 2020   Prob (F-statistic):              0.420\n",
      "Time:                        15:28:27   Log-Likelihood:                -149.92\n",
      "No. Observations:                  70   AIC:                             303.8\n",
      "Df Residuals:                      68   BIC:                             308.3\n",
      "Df Model:                           1                                         \n",
      "Covariance Type:            nonrobust                                         \n",
      "===============================================================================\n",
      "                  coef    std err          t      P>|t|      [0.025      0.975]\n",
      "-------------------------------------------------------------------------------\n",
      "Intercept      95.2053      1.449     65.712      0.000      92.314      98.096\n",
      "yelp_rating     0.3219      0.396      0.812      0.420      -0.469       1.113\n",
      "==============================================================================\n",
      "Omnibus:                       12.415   Durbin-Watson:                   0.851\n",
      "Prob(Omnibus):                  0.002   Jarque-Bera (JB):               13.096\n",
      "Skew:                          -0.918   Prob(JB):                      0.00143\n",
      "Kurtosis:                       4.059   Cond. No.                         22.7\n",
      "==============================================================================\n",
      "\n",
      "Warnings:\n",
      "[1] Standard Errors assume that the covariance matrix of the errors is correctly specified.\n"
     ]
    }
   ],
   "source": [
    "# Analysis for bottom 1%\n",
    "outcome_5, predictors_5 = patsy.dmatrices('inspection_score ~ yelp_rating', df_lower)\n",
    "mod_5 = sm.OLS(outcome_5, predictors_5)\n",
    "res_5 = mod_5.fit()\n",
    "print(res_5.summary())\n"
   ]
  },
  {
   "cell_type": "markdown",
   "metadata": {},
   "source": [
    "Wow! Now we see some interesting results! At first glance, the yelp_rating's coefficient of nearly 2 for the top 1% of income areas signals that the highest income areas are indeed more sensitive to health inspection scores than the lowest 1% of income areas, whose yelp_rating only had a coefficient of 0.32. \n",
    "\n",
    "However, if we look at the distribution of health inspection scores for these income brackets, the average inspection score is actually quite a bit higher in the lowest income areas.\n"
   ]
  },
  {
   "cell_type": "code",
   "execution_count": 18,
   "metadata": {
    "scrolled": false
   },
   "outputs": [
    {
     "data": {
      "image/png": "[encoded data removed]",
      "text/plain": [
       "<Figure size 720x576 with 1 Axes>"
      ]
     },
     "metadata": {
      "needs_background": "light"
     },
     "output_type": "display_data"
    }
   ],
   "source": [
    "plt.figure(figsize=(10, 8))\n",
    "\n",
    "labels = [\"Top 1% Median Household Income\", \"Bottom 1% Median Household Income\"]\n",
    "ax = plt.hist((df_higher['inspection_score'], df_lower['inspection_score']), bins=20, label=labels)\n",
    "\n",
    "plt.legend(loc=\"upper left\", fontsize='large')\n",
    "plt.title(\"Distribution of Health Inspection Scores in areas with bottom 25% of Median Household Income vs Top 25%\\n\")\n",
    "plt.show()"
   ]
  },
  {
   "cell_type": "markdown",
   "metadata": {},
   "source": [
    "Additionally, the two outliers in the highest income areas have lower yelp ratings (as shown below). So perhaps, those outliers contribute to the higher Yelp rating contribution in our analysis."
   ]
  },
  {
   "cell_type": "code",
   "execution_count": 19,
   "metadata": {},
   "outputs": [
    {
     "data": {
      "text/plain": [
       "2508    3.0\n",
       "2510    2.0\n",
       "Name: yelp_rating, dtype: float64"
      ]
     },
     "execution_count": 19,
     "metadata": {},
     "output_type": "execute_result"
    }
   ],
   "source": [
    "df_higher[df_higher['inspection_score'] < 90]['yelp_rating']"
   ]
  },
  {
   "cell_type": "markdown",
   "metadata": {},
   "source": [
    "Let's remove those two outliers and try again"
   ]
  },
  {
   "cell_type": "code",
   "execution_count": 20,
   "metadata": {},
   "outputs": [
    {
     "name": "stdout",
     "output_type": "stream",
     "text": [
      "                            OLS Regression Results                            \n",
      "==============================================================================\n",
      "Dep. Variable:       inspection_score   R-squared:                       0.039\n",
      "Model:                            OLS   Adj. R-squared:                  0.024\n",
      "Method:                 Least Squares   F-statistic:                     2.676\n",
      "Date:                Wed, 10 Jun 2020   Prob (F-statistic):              0.107\n",
      "Time:                        15:28:28   Log-Likelihood:                -147.78\n",
      "No. Observations:                  68   AIC:                             299.6\n",
      "Df Residuals:                      66   BIC:                             304.0\n",
      "Df Model:                           1                                         \n",
      "Covariance Type:            nonrobust                                         \n",
      "===============================================================================\n",
      "                  coef    std err          t      P>|t|      [0.025      0.975]\n",
      "-------------------------------------------------------------------------------\n",
      "Intercept      93.1608      2.107     44.214      0.000      88.954      97.368\n",
      "yelp_rating     0.9265      0.566      1.636      0.107      -0.204       2.057\n",
      "==============================================================================\n",
      "Omnibus:                       13.110   Durbin-Watson:                   1.288\n",
      "Prob(Omnibus):                  0.001   Jarque-Bera (JB):               13.996\n",
      "Skew:                          -0.979   Prob(JB):                     0.000914\n",
      "Kurtosis:                       4.052   Cond. No.                         32.1\n",
      "==============================================================================\n",
      "\n",
      "Warnings:\n",
      "[1] Standard Errors assume that the covariance matrix of the errors is correctly specified.\n"
     ]
    }
   ],
   "source": [
    "# Analysis for top 1% income\n",
    "df_higher = df_higher[df_higher['inspection_score'] >= 90]\n",
    "outcome_2, predictors_2 = patsy.dmatrices('inspection_score ~ yelp_rating', df_higher)\n",
    "mod_2 = sm.OLS(outcome_2, predictors_2)\n",
    "res_2 = mod_2.fit()\n",
    "print(res_2.summary())"
   ]
  },
  {
   "cell_type": "markdown",
   "metadata": {},
   "source": [
    "Even after removing those two, the impact of Yelp rating in the highest income areas is still quite a bit higher than it is in the lowest income areas of North Carolina.\n",
    "\n",
    "For the top 1% and bottom 1% of median household income for zip codes in North Carolina, this difference may be significant enough to reject the null hypothesis that there is no difference between the relationship between Yelp ratings and health inspections for restaraunts within the income two groups. But, we will summarize and discuss these results in more detail in the conclusion.\n"
   ]
  },
  {
   "cell_type": "markdown",
   "metadata": {},
   "source": [
    "# Ethics & Privacy"
   ]
  },
  {
   "cell_type": "markdown",
   "metadata": {},
   "source": [
    "Before carrying out this project and the analysis I had several major concerns about the possible repercussions it could have. The major considerations include the following points:\n",
    "\n",
    "\n",
    "* The personal information and identifying features of the health inspectors giving the health inspection scores, as well as the Yelp reviewers rating the restaraunts should be strictly private.\n",
    "\n",
    "\n",
    "* The results of the analysis could cause readers to walk away with unfair biases towards certain groups. For example, if the lower income communities had Yelp ratings that depended significantly less on health inspection ratings, some might draw the incorrect conclusion that this is because the people in lower income areas are slobs.\n",
    "\n",
    "\n",
    "* We must acknowledge where the data was gathered and make clear that it may not be representative of the larger population.\n",
    "\n",
    "\n",
    "To address these issues identified, I will take the following precautions:\n",
    "\n",
    "First, the personal information of all the health inspectors will be removed. Furthermore, the zip codes, addresses, restaraunt names, phone numbers, and any other identifying information will not be shown in the analysis. The only data that shall be visible to the reader in the analysis will be the Yelp ratings, Inspection scores, and an income percentile for the state of North Carolina. These things are all available to the public already.\n",
    "\n",
    "Next, to avoid unfair biases towards lower and higher income groups, this analysis will take a very objective, data driven approach. Furthermore, our conclusion will make clear all the other factors that could possibly be driving the results we end up with.\n",
    "\n",
    "Finally, we must make it clear that the data used in this analysis is solely from the state of North Carolina. This will be mentioned in the dataset section, and again here. Therefore, we will make it clear to the reader that these result may not necessarily genrealize to the rest of the population, as they are not at all a random sample.\n",
    "\n"
   ]
  },
  {
   "cell_type": "markdown",
   "metadata": {},
   "source": [
    "# Conclusion & Discussion"
   ]
  },
  {
   "cell_type": "markdown",
   "metadata": {},
   "source": [
    "During our analysis we found some interesting results. We started off by taking two groups from the restaraunt population of North Carolina: Restaraunts located in zip codes that are in the top 25% of median household income, and then the bottom 25% of that same criteria.\n",
    "\n",
    "Within these two groups, we attempted to answer the question of whether the lower income group's Yelp ratings would be less informative of how high the health inspection scores were. For the top and bottom 25% percent of incomes, we found no significant difference in the relationship between health inspection scores and Yelp ratings.\n",
    "\n",
    "However, when we repeated the experiment with the top and bottom 1% of income areas, we found that our hypothesis fit much better. Indeed, the health inspection scores in the higher income group were significantly more sensitive to the restaraunts Yelp ratings. This indicates that people reviewing restaraunts in the highest income groups are more sensitive to health inspection scores than those people reviewing restaraunts in the lowest income areas.\n",
    "\n",
    "However, taken out of context, this statement is more provactive than it should be. To end this discussion I want to make clear that the actual significance of these findings is honestly quite low. In the analysis that found that the top 1% restaraunt reviewers were more sensitive to health inspection score, all restaraunts in that data had a health inspection score of above 90. Even in the lower income areas. Therefore, it is important to note that these facilities all had an A rating, so it can absolutely not be concluded that one income group has low health standards, or anything of the sort.\n",
    "\n",
    "Lastly, I want to note that the sample size for the top and bottom 1% income areas were only about 70 restaraunts per income group. Therefore, with a larger sample size, it is possible we may see different results.\n",
    "\n",
    "Due to the limitations of our data discussed above and throughout this project, we cannot reject or accept our initial hypothesis. Though, we have definitely made some interesting observations that could inform further analysis.\n"
   ]
  },
  {
   "cell_type": "code",
   "execution_count": null,
   "metadata": {},
   "outputs": [],
   "source": []
  }
 ],
 "metadata": {
  "kernelspec": {
   "display_name": "Python 3",
   "language": "python",
   "name": "python3"
  },
  "language_info": {
   "codemirror_mode": {
    "name": "ipython",
    "version": 3
   },
   "file_extension": ".py",
   "mimetype": "text/x-python",
   "name": "python",
   "nbconvert_exporter": "python",
   "pygments_lexer": "ipython3",
   "version": "3.6.7"
  }
 },
 "nbformat": 4,
 "nbformat_minor": 2
}
