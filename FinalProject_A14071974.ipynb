{
 "cells": [
  {
   "cell_type": "markdown",
   "metadata": {},
   "source": [
    "# COGS 108 - Final Project "
   ]
  },
  {
   "cell_type": "markdown",
   "metadata": {},
   "source": [
    "# Overview"
   ]
  },
  {
   "cell_type": "markdown",
   "metadata": {},
   "source": [
    "Health inspections are important in providing outside incentive for restaurants to stay clean and maintain healthy practices in their kitchens and dining areas. Each restaurant is given a score by an individual inspector and that score is public information so people know what restaurants are up to code. I went through 18466 health inspections and analyzed the differences in scoring by each of the 32 health inspectors in the dataset."
   ]
  },
  {
   "cell_type": "markdown",
   "metadata": {},
   "source": [
    "# Name & PID\n",
    "\n",
    "- Name: Parth Shah\n",
    "- PID: A14071974"
   ]
  },
  {
   "cell_type": "markdown",
   "metadata": {},
   "source": [
    "# Research Question"
   ]
  },
  {
   "cell_type": "markdown",
   "metadata": {},
   "source": [
    "Do different health inspectors have different average scores, thus resulting in a lack of consistency in health inspections?"
   ]
  },
  {
   "cell_type": "markdown",
   "metadata": {},
   "source": [
    "## Background and Prior Work"
   ]
  },
  {
   "cell_type": "markdown",
   "metadata": {},
   "source": [
    "Health inspections in San diego County are carried out by Registered Environmental Health Specialists and their ratings are decided using the following system: every restaurant starts with 100 points and loses 4 points for every major risk factor, 2 points for every minor risk factor, and 1 point for every missing good retail practice. A grade is then given based on the points remaining after the inspection is complete with 90+ = A, 80-90 = B, 79- = C where C is a failing grade (1).\n",
    "\n",
    "\n",
    "\n",
    "References:\n",
    "- 1)“SD Food Info.” SD Food Info Start Search, www.sandiegocounty.gov/content/sdc/deh/fhd/ffis/intro.html.html."
   ]
  },
  {
   "cell_type": "markdown",
   "metadata": {},
   "source": [
    "# Hypothesis\n"
   ]
  },
  {
   "cell_type": "markdown",
   "metadata": {},
   "source": [
    "I predict that there will be some variation in the average score for each health inpspector. More specifically, that the range of average scores of health inspectors will be greater than 10 but less than 20, meaning that the most lenient inspector and most strict inspector will give an average grade that is an entire letter crage apart at least."
   ]
  },
  {
   "cell_type": "markdown",
   "metadata": {},
   "source": [
    "# Dataset(s)"
   ]
  },
  {
   "cell_type": "markdown",
   "metadata": {},
   "source": [
    "Dataset Name: inspections.csv\n",
    "\n",
    "Link to the dataset: https://canvas.ucsd.edu/courses/12630/files/1639871/download?wrap=1\n",
    "\n",
    "Number of observations:18466\n",
    "\n",
    "This dataset includes a lot of information about the health inspections such as date, score, name, etc. The inspector_id and score columns were especially helpful in determining the average given score for each inspector."
   ]
  },
  {
   "cell_type": "markdown",
   "metadata": {},
   "source": [
    "# Setup"
   ]
  },
  {
   "cell_type": "code",
   "execution_count": 1,
   "metadata": {},
   "outputs": [],
   "source": [
    "import pandas as pd\n",
    "import numpy as np\n",
    "import matplotlib.pyplot as plot\n",
    "\n",
    "inspect_df = pd.read_csv('/home/pcs003/inspections.csv')"
   ]
  },
  {
   "cell_type": "markdown",
   "metadata": {},
   "source": [
    "# Data Cleaning"
   ]
  },
  {
   "cell_type": "code",
   "execution_count": 2,
   "metadata": {},
   "outputs": [],
   "source": [
    "df = inspect_df[['inspector_id','score']]"
   ]
  },
  {
   "cell_type": "markdown",
   "metadata": {},
   "source": [
    "For my purposes I only need the date, name, address, inspector_id, and score columns\n",
    "\n",
    "Next I will clean the data further and create an array with a datafram for each of the 32 inspectors so I can get their individual data. While doing so I will create an array containing the A's, B's, and C's for each inspector so that I can further analyze their grading tendencies."
   ]
  },
  {
   "cell_type": "code",
   "execution_count": 3,
   "metadata": {},
   "outputs": [],
   "source": [
    "num_inspectors = int(df['inspector_id'].max())\n",
    "inspectors = [None]*num_inspectors\n",
    "average_scores = [None]*num_inspectors\n",
    "As = [None]*num_inspectors\n",
    "Bs = [None]*num_inspectors\n",
    "Cs = [None]*num_inspectors\n",
    "indices = [None]*num_inspectors\n",
    "\n",
    "for i in range(num_inspectors):\n",
    "    inspectors[i] = df[df['inspector_id'] == i+1]\n",
    "    average_scores[i] = inspectors[i]['score'].mean(skipna = True)\n",
    "    test = inspectors[i]\n",
    "    As[i] = test[test['score'] >= 90]\n",
    "    test2 = test[test['score'] < 90]\n",
    "    Bs[i] = test2[test2['score'] >= 80]\n",
    "    Cs[i] = test[test['score'] < 80]\n",
    "    indices[i] = i + 1"
   ]
  },
  {
   "cell_type": "markdown",
   "metadata": {},
   "source": [
    "Now I will take the dataframes that have been separated by grade range (i.e. A's, B's, and C's) and I will count the number of each grade that each inspector has given and store it in an array. It is important to note that the index that refers to a specific inspector id will be off by 1 as inspector 32 will be stored at index 31 since indexing starts at 0."
   ]
  },
  {
   "cell_type": "code",
   "execution_count": 4,
   "metadata": {},
   "outputs": [],
   "source": [
    "num_As = [None]*num_inspectors\n",
    "num_Bs = [None]*num_inspectors\n",
    "num_Cs = [None]*num_inspectors\n",
    "\n",
    "for i in range(num_inspectors):\n",
    "    num_As[i] = len(As[i]['score'])\n",
    "    num_Bs[i] = len(Bs[i]['score'])\n",
    "    num_Cs[i] = len(Cs[i]['score'])"
   ]
  },
  {
   "cell_type": "markdown",
   "metadata": {},
   "source": [
    "# Data Analysis & Results"
   ]
  },
  {
   "cell_type": "code",
   "execution_count": 5,
   "metadata": {},
   "outputs": [
    {
     "data": {
      "text/plain": [
       "<BarContainer object of 32 artists>"
      ]
     },
     "execution_count": 5,
     "metadata": {},
     "output_type": "execute_result"
    },
    {
     "data": {
      "image/png": "[encoded data removed]",
      "text/plain": [
       "<Figure size 432x288 with 1 Axes>"
      ]
     },
     "metadata": {
      "needs_background": "light"
     },
     "output_type": "display_data"
    }
   ],
   "source": [
    "plot.bar(indices, average_scores)"
   ]
  },
  {
   "cell_type": "markdown",
   "metadata": {},
   "source": [
    "You will notice that the bar graph with the average scores of each inspector is hard to understand as the average scores are all close to the 90s. I will make it easier by subtracting 90 from each score and graphing that as it will be easier to discern differences."
   ]
  },
  {
   "cell_type": "code",
   "execution_count": 6,
   "metadata": {},
   "outputs": [
    {
     "data": {
      "text/plain": [
       "<BarContainer object of 32 artists>"
      ]
     },
     "execution_count": 6,
     "metadata": {},
     "output_type": "execute_result"
    },
    {
     "data": {
      "image/png": "[encoded data removed]",
      "text/plain": [
       "<Figure size 432x288 with 1 Axes>"
      ]
     },
     "metadata": {
      "needs_background": "light"
     },
     "output_type": "display_data"
    }
   ],
   "source": [
    "fixed_avg = [None]*num_inspectors\n",
    "for i in range(num_inspectors):\n",
    "    fixed_avg[i] = average_scores[i] - 90\n",
    "\n",
    "plot.bar(indices, fixed_avg)"
   ]
  },
  {
   "cell_type": "markdown",
   "metadata": {},
   "source": [
    "This shows some level of difference among the grading tendencies of inspectors as inspectors 31 and 26 have much lower average scores than the rest. However, this is not enough to understand their scoring ditributions and as there is a large difference between an A, B, and C I will make 3 graphs to see how often they each give those scores."
   ]
  },
  {
   "cell_type": "code",
   "execution_count": 7,
   "metadata": {},
   "outputs": [
    {
     "data": {
      "text/plain": [
       "Text(0, 0.5, 'number of grades')"
      ]
     },
     "execution_count": 7,
     "metadata": {},
     "output_type": "execute_result"
    },
    {
     "data": {
      "image/png": "[encoded data removed]",
      "text/plain": [
       "<Figure size 432x288 with 1 Axes>"
      ]
     },
     "metadata": {
      "needs_background": "light"
     },
     "output_type": "display_data"
    }
   ],
   "source": [
    "plot.bar(indices,num_As)\n",
    "plot.title(\"Number of A's Per Inspector\")\n",
    "plot.ylabel(\"number of grades\")"
   ]
  },
  {
   "cell_type": "code",
   "execution_count": 8,
   "metadata": {},
   "outputs": [
    {
     "data": {
      "text/plain": [
       "Text(0, 0.5, 'number of grades')"
      ]
     },
     "execution_count": 8,
     "metadata": {},
     "output_type": "execute_result"
    },
    {
     "data": {
      "image/png": "[encoded data removed]",
      "text/plain": [
       "<Figure size 432x288 with 1 Axes>"
      ]
     },
     "metadata": {
      "needs_background": "light"
     },
     "output_type": "display_data"
    }
   ],
   "source": [
    "plot.bar(indices,num_Bs)\n",
    "plot.title(\"Number of B's Per Inspector\")\n",
    "plot.ylabel(\"number of grades\")"
   ]
  },
  {
   "cell_type": "code",
   "execution_count": 9,
   "metadata": {},
   "outputs": [
    {
     "data": {
      "text/plain": [
       "Text(0, 0.5, 'number of grades')"
      ]
     },
     "execution_count": 9,
     "metadata": {},
     "output_type": "execute_result"
    },
    {
     "data": {
      "image/png": "[encoded data removed]",
      "text/plain": [
       "<Figure size 432x288 with 1 Axes>"
      ]
     },
     "metadata": {
      "needs_background": "light"
     },
     "output_type": "display_data"
    }
   ],
   "source": [
    "plot.bar(indices,num_Cs)\n",
    "plot.title(\"Number of C's Per Inspector\")\n",
    "plot.ylabel(\"number of grades\")"
   ]
  },
  {
   "cell_type": "markdown",
   "metadata": {},
   "source": [
    "Only inspectors 2, 9, and 31 have failed any inspections. The one fail by inspector 9 can be chalked up to a bad restaurant but it is the 3 from inspector 31 and 2 from inspector 2 that are the most interesting. When looking at the number of B's those inspectors gave, inspector 2 has the most B's as well with inspector 31 also having a relatively high number of B's. Inspectors 31 and 2 clearly give much lower scores than other inspectors with inspector 2 having the most notably low average scores."
   ]
  },
  {
   "cell_type": "code",
   "execution_count": 10,
   "metadata": {},
   "outputs": [
    {
     "name": "stdout",
     "output_type": "stream",
     "text": [
      "Inspector 2\n",
      "Avg: 95.28684701492537\n",
      "A: 1019\n",
      "B: 48\n",
      "C: 5\n",
      "Inspector 31\n",
      "Avg: 92.57407407407408\n",
      "A: 241\n",
      "B: 26\n",
      "C: 3\n"
     ]
    }
   ],
   "source": [
    "print(\"Inspector 2\")\n",
    "print(\"Avg: \" + str(average_scores[1]))\n",
    "print(\"A: \" + str(num_As[1]))\n",
    "print(\"B: \" + str(num_Bs[1]))\n",
    "print(\"C: \" + str(num_Cs[1]))\n",
    "print(\"Inspector 31\")\n",
    "print(\"Avg: \" + str(average_scores[30]))\n",
    "print(\"A: \" + str(num_As[30]))\n",
    "print(\"B: \" + str(num_Bs[30]))\n",
    "print(\"C: \" + str(num_Cs[30]))"
   ]
  },
  {
   "cell_type": "markdown",
   "metadata": {},
   "source": [
    "Interestingly, inspector 31 actually has a lower average score than inspector 2 despite having less overall B's and C's given. This is because inspector 31 has completed less inspections than inspector 2 thus the large number of low scores will bring down his average much more than it would the score of inspector 2, who has completed considerably more inspections. "
   ]
  },
  {
   "cell_type": "markdown",
   "metadata": {},
   "source": [
    "# Ethics & Privacy"
   ]
  },
  {
   "cell_type": "markdown",
   "metadata": {},
   "source": [
    "The data contains no personal information of any of the inspectors. It only identifies them by their inspector_id which cannpt be used to find more of their personal information. The only data used in this analysis is the inspectors id and the score given so there is no potential for unethical data. The identification info for the inspector is simply to keep the ratings in order. The analysis contains no ethical or privacy issues, the data collected and analyzed should not have any detrimental effect."
   ]
  },
  {
   "cell_type": "markdown",
   "metadata": {},
   "source": [
    "# Conclusion & Discussion"
   ]
  },
  {
   "cell_type": "markdown",
   "metadata": {},
   "source": [
    "It can be concluded from the data that there is notable variation in the average ratings of inspectors and there are outliers who give more low ratings than the other inspectors. My hypothesis was incorrect in that the range of average scores was less than 10. The outlier inspectors were an unexpected but understandable data point that shows that most inspectors score around the same with just a small amount of exceptions."
   ]
  }
 ],
 "metadata": {
  "kernelspec": {
   "display_name": "Python 3",
   "language": "python",
   "name": "python3"
  },
  "language_info": {
   "codemirror_mode": {
    "name": "ipython",
    "version": 3
   },
   "file_extension": ".py",
   "mimetype": "text/x-python",
   "name": "python",
   "nbconvert_exporter": "python",
   "pygments_lexer": "ipython3",
   "version": "3.6.7"
  }
 },
 "nbformat": 4,
 "nbformat_minor": 2
}
