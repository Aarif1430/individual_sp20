{
 "cells": [
  {
   "cell_type": "markdown",
   "metadata": {},
   "source": [
    "# COGS 108 - Final Project "
   ]
  },
  {
   "cell_type": "markdown",
   "metadata": {},
   "source": [
    "# Overview"
   ]
  },
  {
   "cell_type": "markdown",
   "metadata": {},
   "source": [
    "In this project, I compared the health inspection scores of restaurants versus food stands in North Carolina. I used a t-test to find out if there was a significant difference between the scores. I found a significant difference in health scores between restaurants and food stands. Food stands had significantly higher scores, although there were some limitations within the data."
   ]
  },
  {
   "cell_type": "markdown",
   "metadata": {},
   "source": [
    "# Name & GitHub\n",
    "\n",
    "- Name: Valerie Warner\n",
    "- GitHub Username: valeriewarner"
   ]
  },
  {
   "cell_type": "markdown",
   "metadata": {},
   "source": [
    "# Research Question"
   ]
  },
  {
   "cell_type": "markdown",
   "metadata": {},
   "source": [
    "What is the relationship between restaurants versus food stands in North Carolina realtive to health violations?"
   ]
  },
  {
   "cell_type": "markdown",
   "metadata": {},
   "source": [
    "## Background and Prior Work"
   ]
  },
  {
   "cell_type": "markdown",
   "metadata": {},
   "source": [
    "The North Carolina Restaurant and Lodging Association reports there are 19,504 eating and drinking locations in the state as of 2018 (1). The state has heavy health code regulations for food carts as well, and acquiring a food cart license takes time for inspection, classes, etc. It may also be important to note there are approximately 60 health departments in the state itself (2).\n",
    "\n",
    "Food stand food may be seen as more of a health danger due to the nature of them serving food outdoors. A study done on street food safety in Ghana found \"that although vendors and consumers demonstrated basic knowledge of food safety, the criteria did not emphasize basic hygiene practices such as hand washing, cleaning of utensils, washing of raw vegetables, and quality of ingredients\" (3). The vendors were more focused on appearance of the food and themselves, as well as pricing and accessibility of food. It seems as if the venders were neglecting some important aspects of food safety, such as hygeine and cleanliness (3). The study makes a call to action, wanting vendors to focus more on reaching hygenic standards. Although the study was done in Ghana, it may apply in North Carolina as well.\n",
    "\n",
    "The FDA says the five most common health code violations in restaurants are pests, cross-contamination, sanitization, hand washing, and temperature control (4). Additionally, a health department in MI clarifies that \"critical violations are more likely than non-critical violations to lead to contamination of food or to result in illness if not corrected. Each violation listed in an inspection report clearly states whether or not the violation is critical\" (5).\n",
    "\n",
    "\n",
    "References (include links):\n",
    "- 1) https://restaurant.org/downloads/pdfs/state-statistics/northcarolina.pdf\n",
    "- 2) http://www.doghousecarts.com/business/food-cart-license/north-carolina-department-of-health-food-cart-license\n",
    "- 3) https://link.springer.com/article/10.1007/s11524-008-9318-3\n",
    "- 4) https://blog.smartsense.co/fda-5-food-safety-citations\n",
    "- 5) https://www.washtenaw.org/1562/Violation-Types#:~:text=Critical%20violations%20are%20more%20likely,not%20the%20violation%20is%20critical."
   ]
  },
  {
   "cell_type": "markdown",
   "metadata": {},
   "source": [
    "# Hypothesis\n"
   ]
  },
  {
   "cell_type": "markdown",
   "metadata": {},
   "source": [
    "**I hypothesize that there is a relationship between restaurants versus food stands and health violations in North Carolina.** The data previously discussed shows a possible difference in health violations found at food stands as compared to restaurants. I predict that food stands may have **worse** health scores overall because of the outdoor setting and less developed facilities and hygeine practices. I think restaurants may have **higher** scores overall because they have an indoor setting and indoor bathroom facilities, which may increase hygeine practices. "
   ]
  },
  {
   "cell_type": "markdown",
   "metadata": {},
   "source": [
    "# Dataset(s)"
   ]
  },
  {
   "cell_type": "markdown",
   "metadata": {},
   "source": [
    "- Dataset Name: restaurants.csv \n",
    "- Number of observations: 3324\n",
    "\n",
    "The restaurants dataset contains information about about many of the eateries in North Carolina, including name, ID, address, city, and facility type (ie. restaurant, food stand, cafeteria, etc).\n",
    "\n",
    "I plan to combine the information about facility type in this dataset with the inspections data in order to compare the scores of health inspections.\n",
    "\n",
    "\n",
    "- Dataset Name: inspections.csv \n",
    "- Number of observations: 18466\n",
    "\n",
    "The inspections data set gives information on the health inspections that have taken place in NC eateries, by ID number. There are multiples of some eateries, they are time stamped, and they each give the score, number of non critical and critical violations, name of inspector, and many more details about the inspection process.\n",
    "\n",
    "I plan to combine the inspections dataset with the restaurants dataset to look at the score differences."
   ]
  },
  {
   "cell_type": "markdown",
   "metadata": {},
   "source": [
    "# Setup"
   ]
  },
  {
   "cell_type": "code",
   "execution_count": 445,
   "metadata": {},
   "outputs": [],
   "source": [
    "#From COGS108_A3\n",
    "%matplotlib inline\n",
    "\n",
    "import numpy as np\n",
    "import pandas as pd\n",
    "import matplotlib.pyplot as plt\n",
    "import seaborn as sns\n",
    "\n",
    "\n",
    "sns.set()\n",
    "sns.set_context('talk')\n",
    "\n",
    "#from dataviz lecture\n",
    "sns.set(style=\"white\")\n",
    "\n",
    "#from a5\n",
    "import patsy\n",
    "import statsmodels.api as sm\n",
    "import scipy.stats as stats\n",
    "from scipy.stats import ttest_ind, chisquare, normaltest\n",
    "\n",
    "pd.options.display.max_rows = 10\n",
    "pd.options.display.max_columns = 10\n",
    "\n",
    "\n",
    "pd.set_option('precision', 2)\n",
    "\n",
    "#datasets using\n",
    "\n",
    "df_rest = pd.read_csv('restaurants.csv') \n",
    "df_ins = pd.read_csv('inspections.csv')"
   ]
  },
  {
   "cell_type": "markdown",
   "metadata": {},
   "source": [
    "# Data Cleaning"
   ]
  },
  {
   "cell_type": "markdown",
   "metadata": {},
   "source": [
    "For data cleaning, the two data sets were a bit messy. The restaurant dataset had two identification columns as well (hsisid & X.objectid)\n",
    "\n",
    "The steps I took in cleaning the data were as follows:\n",
    "\n",
    "- 1. Inspected data sets for overlap and to examine contents in each\n",
    "- 2. Dropped initial columns from both data sets that were not necessary or violated the privacy o the restaurants, including  names\n",
    "- 3. Because I am analyzing restaurants and food stands only, I removed all other facility types from the restaurant data set\n",
    "- 4. Merged the restaurant data set with inspections data set based on the 'hsisid' identification number\n",
    "- 5. Checked for null values\n",
    "- 6. Drop 'hsisid' identifier for privacy\n",
    "\n",
    "The finalized, cleaned data set has no missing values, and no way to identify the restaurant or food stand. It only includes the facility type (Restaurant or Food Stand), health inspection score, number of critical violations, and number of non-critical violations. The final, clean dataset contains 15238 observations (some restaurants underwent mutliple inspections; I will be including all the data)."
   ]
  },
  {
   "cell_type": "code",
   "execution_count": 446,
   "metadata": {},
   "outputs": [],
   "source": [
    "# drop some unnecessary columns \n",
    "df_rest = df_rest.loc[:, ['hsisid', 'facilitytype']]\n",
    "df_ins = df_ins.loc[:, ['hsisid', 'score', 'num_critical','num_non_critical']]"
   ]
  },
  {
   "cell_type": "code",
   "execution_count": 447,
   "metadata": {},
   "outputs": [],
   "source": [
    "# filter by restaurant and food stand\n",
    "df_rest1 = df_rest[df_rest['facilitytype'] == 'Restaurant']\n",
    "df_rest2 = df_rest[df_rest['facilitytype'] == 'Food Stand']\n",
    "df_rest = df_rest1.merge(df_rest2, how = 'outer')"
   ]
  },
  {
   "cell_type": "code",
   "execution_count": 448,
   "metadata": {},
   "outputs": [],
   "source": [
    "# merge on hsisid\n",
    "df = df_rest.merge(df_ins, on='hsisid', how = 'inner')\n",
    "\n",
    "#check for null values\n",
    "df.isnull().any()\n",
    "\n",
    "#remove identification\n",
    "df = df.drop(['hsisid'], axis=1)"
   ]
  },
  {
   "cell_type": "code",
   "execution_count": 449,
   "metadata": {},
   "outputs": [
    {
     "data": {
      "text/html": [
       "<div>\n",
       "<style scoped>\n",
       "    .dataframe tbody tr th:only-of-type {\n",
       "        vertical-align: middle;\n",
       "    }\n",
       "\n",
       "    .dataframe tbody tr th {\n",
       "        vertical-align: top;\n",
       "    }\n",
       "\n",
       "    .dataframe thead th {\n",
       "        text-align: right;\n",
       "    }\n",
       "</style>\n",
       "<table border=\"1\" class=\"dataframe\">\n",
       "  <thead>\n",
       "    <tr style=\"text-align: right;\">\n",
       "      <th></th>\n",
       "      <th>facilitytype</th>\n",
       "      <th>score</th>\n",
       "      <th>num_critical</th>\n",
       "      <th>num_non_critical</th>\n",
       "    </tr>\n",
       "  </thead>\n",
       "  <tbody>\n",
       "    <tr>\n",
       "      <th>0</th>\n",
       "      <td>Restaurant</td>\n",
       "      <td>88.0</td>\n",
       "      <td>9</td>\n",
       "      <td>7</td>\n",
       "    </tr>\n",
       "    <tr>\n",
       "      <th>1</th>\n",
       "      <td>Restaurant</td>\n",
       "      <td>99.0</td>\n",
       "      <td>1</td>\n",
       "      <td>6</td>\n",
       "    </tr>\n",
       "    <tr>\n",
       "      <th>2</th>\n",
       "      <td>Restaurant</td>\n",
       "      <td>99.5</td>\n",
       "      <td>2</td>\n",
       "      <td>4</td>\n",
       "    </tr>\n",
       "    <tr>\n",
       "      <th>3</th>\n",
       "      <td>Restaurant</td>\n",
       "      <td>98.0</td>\n",
       "      <td>3</td>\n",
       "      <td>2</td>\n",
       "    </tr>\n",
       "    <tr>\n",
       "      <th>4</th>\n",
       "      <td>Restaurant</td>\n",
       "      <td>98.5</td>\n",
       "      <td>2</td>\n",
       "      <td>4</td>\n",
       "    </tr>\n",
       "  </tbody>\n",
       "</table>\n",
       "</div>"
      ],
      "text/plain": [
       "  facilitytype  score  num_critical  num_non_critical\n",
       "0   Restaurant   88.0             9                 7\n",
       "1   Restaurant   99.0             1                 6\n",
       "2   Restaurant   99.5             2                 4\n",
       "3   Restaurant   98.0             3                 2\n",
       "4   Restaurant   98.5             2                 4"
      ]
     },
     "execution_count": 449,
     "metadata": {},
     "output_type": "execute_result"
    }
   ],
   "source": [
    "df.head()"
   ]
  },
  {
   "cell_type": "markdown",
   "metadata": {},
   "source": [
    "# Data Analysis & Results"
   ]
  },
  {
   "cell_type": "markdown",
   "metadata": {},
   "source": [
    "I would like to see if there is a significant difference in health scores between Restaurants and Food Stands.\n",
    "\n",
    "I will first look at the distribution of scores as a whole, then I will look at the health scores separated on the basis of Restaurants or Food Stands."
   ]
  },
  {
   "cell_type": "code",
   "execution_count": 450,
   "metadata": {
    "scrolled": false
   },
   "outputs": [
    {
     "data": {
      "text/plain": [
       "Text(0.5, 0, 'Score')"
      ]
     },
     "execution_count": 450,
     "metadata": {},
     "output_type": "execute_result"
    },
    {
     "data": {
      "image/png": "[encoded data removed]",
      "text/plain": [
       "<Figure size 576x432 with 1 Axes>"
      ]
     },
     "metadata": {},
     "output_type": "display_data"
    }
   ],
   "source": [
    "plt.rcParams['figure.figsize']=(8,6)\n",
    "ax = sns.distplot(df['score'], kde = False, bins = 25, color=\"darkslategray\")\n",
    "sns.despine()\n",
    "\n",
    "ax.set_title('Health inspection scores for Food Stands and Restaurants are mostly high')\n",
    "ax.set_ylabel('Frequency')\n",
    "ax.set_xlabel('Score')\n"
   ]
  },
  {
   "cell_type": "markdown",
   "metadata": {},
   "source": [
    "The overall distribution of health scores among both Food Stands and Restaurants is skewed left, with most scores between 90 and 100. The minimum of the scores is 72.5, and the mean is 95.91. According to my calculation, anything below 89.25 is considered an outlier."
   ]
  },
  {
   "cell_type": "code",
   "execution_count": 451,
   "metadata": {},
   "outputs": [
    {
     "data": {
      "text/plain": [
       "Text(0.5, 0, 'Number of Critical Violations')"
      ]
     },
     "execution_count": 451,
     "metadata": {},
     "output_type": "execute_result"
    },
    {
     "data": {
      "image/png": "[encoded data removed]",
      "text/plain": [
       "<Figure size 576x432 with 1 Axes>"
      ]
     },
     "metadata": {},
     "output_type": "display_data"
    }
   ],
   "source": [
    "plt.rcParams['figure.figsize']=(8,6)\n",
    "ax = sns.distplot(df['num_critical'], kde = False, bins = 25, color=\"#3F3F3F\")\n",
    "sns.despine()\n",
    "\n",
    "ax.set_title('Critical Violations for Food Stands and Restaurants are mostly low')\n",
    "ax.set_ylabel('Frequency')\n",
    "ax.set_xlabel('Number of Critical Violations')"
   ]
  },
  {
   "cell_type": "markdown",
   "metadata": {},
   "source": [
    "It appears critical violations for Food Stands and Restaurants is right skewed. This would make sense because scores are mostly high, so critical violations would not occur as often. The mean is approximately 3, and the maximum is 23 violations. Anything above 8.5 violations is considered an outlier."
   ]
  },
  {
   "cell_type": "code",
   "execution_count": 441,
   "metadata": {},
   "outputs": [
    {
     "data": {
      "text/plain": [
       "Text(0.5, 0, 'Type of Eatery')"
      ]
     },
     "execution_count": 441,
     "metadata": {},
     "output_type": "execute_result"
    },
    {
     "data": {
      "image/png": "[encoded data removed]",
      "text/plain": [
       "<Figure size 576x432 with 1 Axes>"
      ]
     },
     "metadata": {},
     "output_type": "display_data"
    }
   ],
   "source": [
    "plt.rcParams['figure.figsize']=(8,6)\n",
    "ax= sns.countplot(x='facilitytype', data=df, palette='rocket')\n",
    "sns.despine()\n",
    "\n",
    "ax.set_title('There are more Restaurant inspections than Food Stand inspections')\n",
    "ax.set_ylabel('Number of Inspections')\n",
    "ax.set_xlabel('Type of Eatery')"
   ]
  },
  {
   "cell_type": "markdown",
   "metadata": {},
   "source": [
    "As we see from the plot above, there is more data in the dataset that comes from Restaurant health inspections, as opposed to Food Stand health inspections. Restaurant inspections make up more than half of the data. This may affect the results of the analysis."
   ]
  },
  {
   "cell_type": "markdown",
   "metadata": {},
   "source": [
    "Now let's look at the Health Inspection scores broken down by facility type (restaurant/food stand)."
   ]
  },
  {
   "cell_type": "code",
   "execution_count": 453,
   "metadata": {},
   "outputs": [
    {
     "data": {
      "text/plain": [
       "Text(0.5, 0, 'Type of Eatery')"
      ]
     },
     "execution_count": 453,
     "metadata": {},
     "output_type": "execute_result"
    },
    {
     "data": {
      "image/png": "[encoded data removed]",
      "text/plain": [
       "<Figure size 720x576 with 1 Axes>"
      ]
     },
     "metadata": {},
     "output_type": "display_data"
    }
   ],
   "source": [
    "plt.rcParams['figure.figsize']=(10,8)\n",
    "ax= sns.boxplot(x='facilitytype', y='score', data=df, palette='rocket')\n",
    "sns.despine()\n",
    "\n",
    "ax.set_title('The average Food Stand Score is higher than the average Restaurant score')\n",
    "ax.set_ylabel('Health Inspection Score')\n",
    "ax.set_xlabel('Type of Eatery')"
   ]
  },
  {
   "cell_type": "markdown",
   "metadata": {},
   "source": [
    "It appears the average score for Food Stands is higher than the average score for Restaurants. The average for Restaurants appears to be around 95, while the average for Food Stands appears to be approximately 97. The boxplot also reveals an abundance of outliers present in both categories-- eateries that have unusually low scores. The overall distribution of scores, excluding the outliers, appears approximately the same for both categories."
   ]
  },
  {
   "cell_type": "markdown",
   "metadata": {},
   "source": [
    "Now let's get into analysis. We are going to use a t-test to see if there is a significant difference in the mean scores between Restaurants and Food Stands. A t-test is used because it allows us to compare the mean differences in score for two groups, which is perfect for the two groups we are comparing here (Restaurants & Food Stands)."
   ]
  },
  {
   "cell_type": "code",
   "execution_count": 454,
   "metadata": {},
   "outputs": [],
   "source": [
    "# extracting scores for each facility type\n",
    "s_rest= df[df['facilitytype']=='Restaurant']['score'].values\n",
    "s_food = df[df['facilitytype']=='Food Stand']['score'].values"
   ]
  },
  {
   "cell_type": "code",
   "execution_count": 455,
   "metadata": {},
   "outputs": [
    {
     "name": "stdout",
     "output_type": "stream",
     "text": [
      "The average score for Restaurants is \t95.665582 points\n",
      "The average score for Food Stands is \t96.828620 points\n"
     ]
    }
   ],
   "source": [
    "#average score for each facility type\n",
    "avg_s_rest = s_rest.mean()\n",
    "avg_s_food = s_food.mean()\n",
    "\n",
    "print('The average score for Restaurants is \\t{:f} points'.format(avg_s_rest))\n",
    "print('The average score for Food Stands is \\t{:f} points'.format(avg_s_food))"
   ]
  },
  {
   "cell_type": "markdown",
   "metadata": {},
   "source": [
    "Because there is a difference in means, we will do a t-test to see if the difference is significant."
   ]
  },
  {
   "cell_type": "code",
   "execution_count": 457,
   "metadata": {},
   "outputs": [
    {
     "name": "stdout",
     "output_type": "stream",
     "text": [
      "There is a significant difference!\n"
     ]
    }
   ],
   "source": [
    "#t-test\n",
    "stats.ttest_ind(s_rest, s_food)\n",
    "pvalue= stats.ttest_ind(s_rest, s_food)[1]\n",
    "\n",
    "#is p-value less than alpha (0.01)?\n",
    "if pvalue < .01:\n",
    "    print ('There is a significant difference!')\n",
    "else:\n",
    "    print ('No significant difference')"
   ]
  },
  {
   "cell_type": "markdown",
   "metadata": {},
   "source": [
    "Based on the results of the t-test, there is a significant difference between Restaurant health inspection scores and Food Stand inspection scores in North Carolina. Food Stand inspection scores are significantly higher than Restaurant health inspection scores, which means that Food Stands commit less health violations than Restaurants."
   ]
  },
  {
   "cell_type": "markdown",
   "metadata": {},
   "source": [
    "# Ethics & Privacy"
   ]
  },
  {
   "cell_type": "markdown",
   "metadata": {},
   "source": [
    "The data is presumably open source because it was provided. Checks to make sure of this would need to be done if this was a published analysis.\n",
    "\n",
    "Phone numbers, zipcodes, addresses, and names should typically be removed in analysis within the datasets. Because the data here is restaurant data and most of the information about a restaurant's address and contact information if known, it is more questionable whether that information needs to be removed. However, I have removed this information in order to protect the privacy of the restaurants. \n",
    "\n",
    "There may definitely be biases in the datasets used, in particular the inspections data. Because inspections are carried out by humans, there is chance for human error and human bias (ie. what an inspector thinks an eatery should get marked down for). If the data was entered by a human, there may definitely be errors there.\n",
    "\n",
    "Because there are not an equal amount of food stands and restaurants to compare in this dataset, the results of the analysis may lack accuracy and therefore be unethical to publish. I would need additional data or a more equal amount of data. Additionally, food stands and restaurants may have different distributions of health inspection scores outside of North Carolina, so gathering data from other states may also improve accuracy.\n",
    "\n",
    "It may not be ethical to compare food stands to restaurants. The data analysis, or the data sets in general could be used to tarnish the reputation of certain food stands or restaurants. Were this to be published with personal restaurant information, such as name or address, it may affect their business, which is not the intention of this data analysis at all.\n",
    "\n",
    "In order to do my best to protect the privacy of the restaurants, I dropped all identifying information about the restaurants and food stands, even the hsisid identification number after I merged the two data sets. This way, I could carry out the analysis ethically without hurting anyone's personal life or business."
   ]
  },
  {
   "cell_type": "markdown",
   "metadata": {},
   "source": [
    "# Conclusion & Discussion"
   ]
  },
  {
   "cell_type": "markdown",
   "metadata": {},
   "source": [
    "In this project, I wanted to explore the question: What is the relationship between restaurants versus food stands in North Carolina in relation to health violations? Using data of restaurants in North Carolina and their inspection scores, I examined the question. In my analysis, I explored the data as a whole, then separated the health score data by facility type- either restaurant or food stand. I performed a t-test on the two groups' health scores, and I found a significant difference between the two groups. In my hypothesis, I predicted there would be a difference, which was correct. However, I also predicted scores would be higher for restaurants rather than food stands, which was incorrect. From my analysis, I found the food stand health scores to be higher than the restaurant scores, showing that food stands commit fewer health violations than restaurants.\n",
    "\n",
    "There were certainly limitations to my analysis. I was limited by eateries in North Carolina only, so an exploration of other parts of the US could change the results I found. Having more data could increase the validity of the analysis. Additionally, I could have gone further in my analysis of the data by performing a t-test on all the variables, including the critical and non-critical violations, to look at differences in the types of violations. Further, there were many outliers, especially in the restaurant health scores, which may have altered the results I found. If I were to perform the analysis again, I would remove them.\n",
    "\n",
    "This data analysis could impact society in that it could inform food businesses, especially restaurants, on changes that need to be made, specifically in terms of health practices. "
   ]
  }
 ],
 "metadata": {
  "kernelspec": {
   "display_name": "Python 3",
   "language": "python",
   "name": "python3"
  },
  "language_info": {
   "codemirror_mode": {
    "name": "ipython",
    "version": 3
   },
   "file_extension": ".py",
   "mimetype": "text/x-python",
   "name": "python",
   "nbconvert_exporter": "python",
   "pygments_lexer": "ipython3",
   "version": "3.6.7"
  }
 },
 "nbformat": 4,
 "nbformat_minor": 2
}
