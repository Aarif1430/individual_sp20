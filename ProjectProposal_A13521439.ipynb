{
 "cells": [
  {
   "cell_type": "markdown",
   "metadata": {},
   "source": [
    "# COGS 108 - Project Proposal"
   ]
  },
  {
   "cell_type": "markdown",
   "metadata": {},
   "source": [
    "- Name: Maxwell Rossip\n",
    "- PID: A13521439"
   ]
  },
  {
   "cell_type": "markdown",
   "metadata": {},
   "source": [
    "# Research Question"
   ]
  },
  {
   "cell_type": "markdown",
   "metadata": {},
   "source": [
    "*Fill in your research question here*\n",
    "How does race relate to unemployment and reemployent during and after economic downturns (recessions)?"
   ]
  },
  {
   "cell_type": "markdown",
   "metadata": {},
   "source": [
    "## Background and Prior Work"
   ]
  },
  {
   "cell_type": "markdown",
   "metadata": {},
   "source": [
    "Amid economic catastrophies, it there's a de facto consensus that those of the lowest socioeconomic status tend to be hardest hit in terms of financial hardship. A study out of the University of Connecticut attempts to explain how racial minority (black, African-Americans) hiring patterns relates to the business cycle.(1)\n",
    "Another well known publication from UCLA theorizes Asian-Americans as a \"model minority.\"(2) Too well off to be considered disadvantaged but still an ethnic minority in the US relative to the total population.\n",
    "\n",
    "Do (un)employment levels hold constant between minorities?\n",
    "\n",
    "\n",
    "References (include links):\n",
    "- 1)https://www.ncbi.nlm.nih.gov/pmc/articles/PMC3000014/\n",
    "- 2)https://spssi.onlinelibrary.wiley.com/doi/abs/10.1111/j.1540-4560.1973.tb00069.x?casa_token=VMvSt5T0_XwAAAAA:v9hHMt_wX0jyFRJnGa5g2QR4odFsx-Cl8k_Ut-siU8brmZPHWjiCOeoXhFzoPfLIuSZ-bg9qYeYH9x4"
   ]
  },
  {
   "cell_type": "markdown",
   "metadata": {},
   "source": [
    "# Hypothesis\n"
   ]
  },
  {
   "cell_type": "markdown",
   "metadata": {},
   "source": [
    "Unemployment during and after large-scale economic downturns will be increased and slower to recover among African-American and Hispanic demographics compared to Caucasian and Asian-Americans."
   ]
  },
  {
   "cell_type": "markdown",
   "metadata": {},
   "source": [
    "# Data"
   ]
  },
  {
   "cell_type": "markdown",
   "metadata": {},
   "source": [
    "*Explain what the ideal dataset you would want to answer this question. (This should include: What variables? How many observations? Who/what/how would these data be collected? How would these data be stored/organized?)*\n",
    "\n",
    "*Overall US unemployment rates by year, month or quarter; ethnicity; state or county over a 20+ year time frame."
   ]
  },
  {
   "cell_type": "markdown",
   "metadata": {},
   "source": [
    "# Ethics & Privacy"
   ]
  },
  {
   "cell_type": "markdown",
   "metadata": {},
   "source": [
    "*Fill in your ethics & privacy discussion here*\n",
    "\n",
    "This question is well-posed with an important goal of understanding on whom racial and ethnic disparities in the US deliver the greatest economic impact.\n",
    "\n",
    "Of course this data could be used for inappropriate purposes (e.g. manipulating zoning or district drawing to further oppress people of minority status). Unfortunately, this cannot be ameliorated by anything except my own discretion. Important to keep in mind is that current social climate, especially with watchdog media outlets, would hopefully do well in covering such a unwanted consequences.\n",
    "\n",
    "This data will be from the Bureau of Labor Statistics and is freely and anonymously given.\n",
    "Individual's privacy is guaranteed because I do not have access to their personal information.\n",
    "\n",
    "Goodhart's law is not broken because although we would like to improve measures such as unemployment among minorities, that is not going to happen any time soon as social change is a long and arduous road.\n",
    "\n",
    "Hopefully, by including regional data, I can adjust for confounds due to regional socioeconomic status (e.g. more Asian-Americans in wealthy parts of california vs. Louisiana which has a relatively high unemployment rate and a dense population of African Americans.\n",
    "\n",
    "This study will be very easy to refute given changing circumstances.\n",
    "\n",
    "I think it will be interesting to predict the effect of Covid-19 as there is plenty of data on the economic impact of the crisis."
   ]
  }
 ],
 "metadata": {
  "kernelspec": {
   "display_name": "Python 3",
   "language": "python",
   "name": "python3"
  },
  "language_info": {
   "codemirror_mode": {
    "name": "ipython",
    "version": 3
   },
   "file_extension": ".py",
   "mimetype": "text/x-python",
   "name": "python",
   "nbconvert_exporter": "python",
   "pygments_lexer": "ipython3",
   "version": "3.6.7"
  }
 },
 "nbformat": 4,
 "nbformat_minor": 2
}
