COGS 108 - Project Proposal
Names & PID
Name: Maged Ahmed Waly Jr.
PID: A15441203

Research Question
Fill in your research question here

Background and Prior Work
Fill in your background and prior work here. Be sure to specify which statements are from which references.

References (include links):
1)
2)

Hypothesis
State and defend your hypotheses here.

Data
Explain what the ideal dataset you would want to answer this question. (This should include: What variables? How many observations? Who/what/how would these data be collected? How would these data be stored/organized?)
Ethics & Privacy

Fill in your ethics & privacy discussion here
