COGS 108 - Project Proposal
Names & PID
Name: Maged Ahmed Waly Jr.
PID: A15441203
Research Question
A problem with the restaurant health inspection process is that quarterly inspections are not an accurate depiction of daily restaurant cleanliness and it is dependent on the restaurant owner to maintain cleanliness when not inspected. The low economic funds for food inspectors decreases the number of inspections a restaurant receives each year and enhances the possibility restaurants are not staying up to cleanliness standards when they are not inspected. How can we implement public customer cleanliness inspection reviews to decrease workload of inspectors and increase cleanliness of restaurants?
Background and Prior Work
I was able to understand the problems food restaurant inspectors face through the article www.foodsafetymagazine.com .The article motivated my research to use the public to enhance food inspections.
Dinginggrades.com and hdscores are both websites that have conducted their own food inspections by sifting through thousands of food reviews. Dininggrades.com view on food inspection is that there should be universal food inspection standards that all restaurants should follow and not determined by the states. Hdscores implements their own formula to determine the inspection rating they give to their restaurants.
Yelp has been a strong advocate of more accurate food inspection reviews and uses hdscores restaurant inspection calculations in their website to display to consumers when they search for places to eat. There has been backlash from restaurants that the inspection scores are not accurate and will be hard to keep inspection scores up to date, if a restaurant has a low food inspection score on yelp it will likely cause lower restaurant revenue.
Another way I want to implement the public in food inspection is by eliminating the gap of knowledge of food inspection laws to the customers. Creating an easy to understand food inspection guidelines that could be common knowledge to customers will enable them to make more accurate food inspection ratings from their eating experiences. Food inspectors can focus on restaurants that receive low cleanliness reviews from knowledgeable customers.

References (include links):
1) https://www.foodsafetymagazine.com/enewsletter/challenges-of-health-department-food-safety-inspections/
2)https://www.washingtonpost.com/news/voraciously/wp/2018/07/24/yelp-adds-health-inspection-scores-for-restaurants-and-restaurateurs-are-not-happy/
3) https://www.dininggrades.com/cities/sandiego
4) https://hdscores.com/hd-scores/
Hypothesis
Knowledgeable customers of food safety guidelines and data science produced food inspection scores like hdscores will push restaurants into a corner forcing them to have cleaner operations on a daily basis. Knowledgeable customers will lessen the load of food inspectors so they inspect restaurants with lower food cleanliness ratings more frequently.
Data
Variables: knowledgeable customer reviews, hdscores 
Observations: 1 observation for each restaurant in San Diego
Data collection: data collection customer reviews from yelp and calculations of food inspection scores from hdscores.
Data organization:Data organization, one section of data collection of hdscores calculation of food inspection scores and other section of yelp customer food inspection scores. The results will be compared side by side.
Ethics & Privacy
There will be issues that arise from collecting data to more accurately depict restaurant food cleanliness. A restaurant's food inspection review is very important to their business, it is important that when getting data and produce food inspection scores that we give options for restaurants to retake inspections to achieve ‘A’ ratings. 

Using public as a source for food inspection reviews comes with human bias that must be taken into account. It must be clear in the ratings that reviews have human bias and that the scores are from the wisdom of the crowds effect, that the average reviews of a restaurant will create an accurate result of the restaurant’s cleanliness. Along with making a system that throws out public reviews that are “jokes” or data that is unreasonable.
