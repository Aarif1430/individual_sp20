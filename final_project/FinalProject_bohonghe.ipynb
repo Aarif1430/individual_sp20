{
 "cells": [
  {
   "cell_type": "markdown",
   "metadata": {},
   "source": [
    "# COGS 108 - Final Project "
   ]
  },
  {
   "cell_type": "markdown",
   "metadata": {},
   "source": [
    "# Overview"
   ]
  },
  {
   "cell_type": "markdown",
   "metadata": {},
   "source": [
    "For my project, I will determine if there is a relationship between health inspection results and average income of the area around the inspected facility.To accomplish this, I will first clean and sort the data based on Zipcode. Then, I will find the average income level according to Zipcode, and find the average inspection score according to Zipcode. Following that, I will determine if there is a relationship between area income level and inspection score."
   ]
  },
  {
   "cell_type": "markdown",
   "metadata": {},
   "source": [
    "# Name & PID\n",
    "\n",
    "- Name: Bohong He\n",
    "- PID: A14559523"
   ]
  },
  {
   "cell_type": "markdown",
   "metadata": {},
   "source": [
    "# Research Question"
   ]
  },
  {
   "cell_type": "markdown",
   "metadata": {},
   "source": [
    "Is income level the major predicting factor of health inspection result/score?"
   ]
  },
  {
   "cell_type": "markdown",
   "metadata": {},
   "source": [
    "## Background and Prior Work"
   ]
  },
  {
   "cell_type": "markdown",
   "metadata": {},
   "source": [
    "People always associate hygiene with economy, for example, poor and dirty usually appears together. According to an online source, the food supply in the U.S. is generally considered healthy and safe.However, bacteria and parasites may remain in fresh or processed meat and poultry products, which can cause human illness if the food is improperly prepared or handled. Residues of agricultural chemicals may remain on fruits and vegetables, and prolonged dietary exposure to such chemicals may pose a risk of cancer or other adverse health effects. (1) The cost of doing constant bacterial tests to ensure food safety is a relatively large amount of money(2), so it seems reasonable to interpret and hypothesis that facilities in poor economic areas can not afford to do such tests, which may result in a lower inspection score\n",
    "\n",
    "References (include links):\n",
    "- 1)https://ageconsearch.umn.edu/bitstream/17042/1/ar950137.pdf\n",
    "- 2)https://www.ers.usda.gov/publications/pub-details/?pubid=40808"
   ]
  },
  {
   "cell_type": "markdown",
   "metadata": {},
   "source": [
    "# Hypothesis\n"
   ]
  },
  {
   "cell_type": "markdown",
   "metadata": {},
   "source": [
    "*Area average income is not the major predicting factor of health inspection score.*"
   ]
  },
  {
   "cell_type": "markdown",
   "metadata": {},
   "source": [
    "# Dataset(s)"
   ]
  },
  {
   "cell_type": "markdown",
   "metadata": {},
   "source": [
    "*Fill in your dataset information here*\n",
    "\n",
    "(Copy this information for each dataset)\n",
    "- Dataset Name:zipcodes\n",
    "- Link to the dataset:https://github.com/bohonghe/individual_sp20/blob/master/final_project/zipcodes.csv\n",
    "- Number of observations:38\n",
    "\n",
     "- Dataset Name:inspections\n",
    "- Link to the dataset:https://github.com/bohonghe/individual_sp20/blob/master/final_project/inspections.csv\n",
    "- Number of observations:18466\n",
    "1-2 sentences describing each dataset. \n",
    "\n",
    "If you plan to use multiple datasets, add 1-2 sentences about how you plan to combine these datasets."
   ]
  },
  {
   "cell_type": "markdown",
   "metadata": {},
   "source": [
    "# Setup"
   ]
  },
  {
   "cell_type": "code",
   "execution_count": 3,
   "metadata": {},
   "outputs": [],
   "source": [
    "import pandas as pd \n",
    "import matplotlib.pyplot as plt \n", 
    "import seaborn as sns \n",
    "import numpy as np \n",
    "df_zipcodes=pd.read_csv('zipcodes.csv') \n",
    "df_inspections=pd.read_csv('inspections.csv')"
   ]
  },
  {
   "cell_type": "markdown",
   "metadata": {},
   "source": [
    "# Data Cleaning"
   ]
  },
  {
   "cell_type": "markdown",
   "metadata": {},
   "source": [
    "The first step is to take out unneccessary columns in the df_inspections dataframe, keep only the zipcode column and score column. Then do the same for the df_zipcode datafram, keep only the zip column and median_household_income_dollars column. Lastly, for both dataframes, alter the zipcode/zip column to contain only the first three digits of zipcode."
   ]
  },
  {
   "cell_type": "code",
   "execution_count": 4,
   "metadata": {},
   "outputs": [],
   "source": [
      "df_zipcodes=df_zipcodes['zip','median_household_income_dollars'] \n",
    "df_inspections=df_inspections['zip','score'] \n",
    "df_zipcodes['zip'] = df_zipcodes['zip'].astype(np.str64) \n",
    "df_zipcodes['median_household_income_dollars'] = df_zipcodes['median_household_income_dollars'].astype(np.int64) \n",
    "df_inspections['zip'] = df_inspections['zip'].astype(np.str64) \n",
    "df_inspections['score'] = df_inspections['score'].astype(np.int64) \n",
    "df_zipcodes=df_zipcodes['zip'].str[:3] \n",
    "df_inspections=df_inspections['zip'].str[:3]"
   ]
  },
  {
   "cell_type": "markdown",
   "metadata": {},
   "source": [
    "# Data Analysis & Results"
   ]
  },
  {
   "cell_type": "markdown",
   "metadata": {},
   "source": [
    "Generate two graphs after cleaning the data, first generate a graph of average household income of different geographic regions. Then, generate the average inspection score of those areas. Compare the two graphs to see if there is a relationship between the two variables."
   ]
  },
  {
   "cell_type": "code",
   "execution_count": 5,
   "metadata": {},
   "outputs": [],
   "source": [
    "eco=df_zipcodes.groupby(df_zipcodes['zip']).mean()\n",
    "eco['median_household_income_dollars'].plot(kind='bar')\n",
    "sco=df_inspections.groupby(df_inspections['zip']).mean()\n",
    "sco['score'].plot(kind='bar')"
   ]
  },
  {
   "cell_type": "markdown",
   "metadata": {},
   "source": [
    "# Ethics & Privacy"
   ]
  },
  {
   "cell_type": "markdown",
   "metadata": {},
   "source": [
    "There might be a source of bias because I used only the median_household_income_dollars to represent area income, the result might have been different if I used other columns such as family income or percapita income. \n",
    "There is no risk of privacy towards humans, because the data contains no personal information such as telephone number or household address, and I also used only first three digits of zip to represent a geographic area."
   ]
  },
  {
   "cell_type": "markdown",
   "metadata": {},
   "source": [
    "# Conclusion & Discussion"
   ]
  },
  {
   "cell_type": "markdown",
   "metadata": {},
   "source": [
    "Based on the graph, it appears that household income is not the determining factor of restaurant health inspection scores. But, because the data might be a bit biased because I only used household income to determine the econimic status of the entire area, the result might have been different if I considered all the variables such as family income, percapita income, and percentage below poverty line"
   ]
  }
 ],
 "metadata": {
  "kernelspec": {
   "display_name": "Python 3",
   "language": "python",
   "name": "python3"
  },
  "language_info": {
   "codemirror_mode": {
    "name": "ipython",
    "version": 3
   },
   "file_extension": ".py",
   "mimetype": "text/x-python",
   "name": "python",
   "nbconvert_exporter": "python",
   "pygments_lexer": "ipython3",
   "version": "3.7.0"
  }
 },
 "nbformat": 4,
 "nbformat_minor": 2
}
