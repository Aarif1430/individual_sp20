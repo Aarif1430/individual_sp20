{
 "cells": [
  {
   "cell_type": "markdown",
   "metadata": {},
   "source": [
    "# COGS 108 - Final Project "
   ]
  },
  {
   "cell_type": "markdown",
   "metadata": {},
   "source": [
    "# Overview"
   ]
  },
  {
   "cell_type": "markdown",
   "metadata": {},
   "source": [
    "This project explores the topic of public restaurant health inspection scores. Interestingly enough, restaurants are given a score from public health departments to ensure that restaurants are following safe food handling procedures. Inspectors are responsible for reporting any food violations restaurants follow; inspectors check for any sources of cross-contamination, unsanitized products, and any products that could harm consumers. However, this project takes a turn and sees the relationship between income and restaurants' health inspection scores. Using a mix of North Carolina's restaurants' inspection results and each zipcode's capita income status, I analyzed the data and created visualizations to see the correlation between the two variables."
   ]
  },
  {
   "cell_type": "markdown",
   "metadata": {},
   "source": [
    "# Name & PID\n",
    "\n",
    "- Name: Joey Dang\n",
    "- PID: A15980869"
   ]
  },
  {
   "cell_type": "markdown",
   "metadata": {},
   "source": [
    "# Research Question"
   ]
  },
  {
   "cell_type": "markdown",
   "metadata": {},
   "source": [
    "Does the overall health score of a restaurant depend on the income level of the location of the restaurant in North Carolina? If so, what is the relationship between the two, capita income and resturant's health score?"
   ]
  },
  {
   "cell_type": "markdown",
   "metadata": {},
   "source": [
    "## Background and Prior Work"
   ]
  },
  {
   "cell_type": "markdown",
   "metadata": {},
   "source": [
    "In most states in the United States, restaurants reveal their health scores to the public alphabetical instead of numeric. Note that any type of facilities that provide food to consumers are considered restaurants. Food is a basic necessity, and typically the health score of a restaurant is one of the deciding factors for a consumer's decision to eat at that specific restaurant. Heath scores are measured based on health code violations, which primarily pivot around safety and cleanliness. Moreover, the overall numeric score represents a better reputation for the restaurant's quality than letter grades (Baer). In this case, letter health scores can be quite deceiving; restaurants may encounter some violations against the food safety regulations and still receive good letter health inspection results. Food inspections scores indicate the likelihood risk of food-borne illnesses; the lower the results, the higher the risk. Health scores are calculated into a 100-point scale, with points deducted for each violation. The letter grade is based on the numeric health score with, \"90-100 is an A (Sanitation and food safety practices scored appeared to be in the \"acceptable to very good\" range), 80-89 is a B (sanitation and food safety practices appeared to be in the \"marginal to acceptable\" range), and 70-79, a C (sanitation and food safety practices appeared to be in the \"poor to marginal\" range)\" (Church).\n",
    " \n",
    "During a routine health inspection, inspectors observe employees and their food preparation practices (Roos). In North Carolina, fifty-four different violations are observed by health inspectors that are worth in a range of 0-4 points. These violations check supervision, employee health, hygiene, protection from contamination, temperature control, chemical leakage, and other important health interventions. In short, food handling issues represent scores in a lower category, while factors that increase the risk of food-borne illness are worth more points (Church). For example, employee's health, potentially hazardous food time/temperature, and protection from contamination are worth more points than other violations. \n",
    " \n",
    "A few violations that restaurant inspectors check relate to employee's health, safe food and water sources, and also proper temperature control. Moreover, low wages can inevitably lead to restrictions for proper health, good sanitation, limited knowledge, and safe products. Socioeconomic status results in a lack of resources and an inevitable effect on the whole community, people, and businesses (Walker and Hepp). Areas with higher socioeconomic status have a higher advantage over safe food and water access, healthier people, and advanced products. Communities with low socioeconomic status inevitably experience limited access to resources. Potentially, the socioeconomic status of the location of the restaurant can be a factor for an overall lower health score. Although there is no prior work that shows any relationship between income and health score, I plan to investigate using public data to analyze the correlation between the variables, health inspection scores, and average income of the restaurant's location in North Carolina.\n",
    "\n",
    "References:\n",
    "- 1) Baer, Stephanie K. What That Restaurant Letter Grade Isn't Telling You about Health and Cleanliness. 30 Aug. 2017,\n",
    "www.sgvtribune.com/2015/06/25/what-that-restaurant-letter-grade-isnt-telling-you-about-health-and-cleanliness/.\n",
    "- 2) Roos, Dave. How Restaurant Health Inspections Work. 18 Oct. 2017, \n",
    "www.recipes.howstuffworks.com/tools-and-techniques/restaurant-health-inspections.htm.\n",
    "- 3) Church, Paul. “The ABCs of Restaurant Food Grades.” Tribune, The Courier-Tribune, 30 Aug. 2014,\n",
    "www.courier-tribune.com/article/20140830/news/308309822.\n",
    "- 4) Walker, Lorelei, and Nancy Hepp. “Socioeconomic Environment.” Socioeconomic Environment - The Collaborative on Health and the Environment, Oct. 2016, \n",
    "www.healthandenvironment.org/environmental-health/environmental-risks/socioeconomic-environment."
   ]
  },
  {
   "cell_type": "markdown",
   "metadata": {},
   "source": [
    "# Hypothesis\n"
   ]
  },
  {
   "cell_type": "markdown",
   "metadata": {},
   "source": [
    "Based on the research I have done, I hypothesize that the average income of the restaurant's location will factor and correlation among the restaurant's health score. Depending on the location of the restaurants, it will likely result in a higher or lower score in their health scores. It is quite challenging to say if the correlation will be negative or positive, but I predict that the higher the income of the specific area, the higher the restaurant health score. Higher-income is optimal for restaurants with higher health scores, while locations with lower income will have lower health scores."
   ]
  },
  {
   "cell_type": "markdown",
   "metadata": {},
   "source": [
    "# Dataset(s)"
   ]
  },
  {
   "cell_type": "markdown",
   "metadata": {},
   "source": [
    "The dataset we need to answer this question would include the restaurant's address (zip codes), the health score of that specific restaurant in North Carolina, and the median income of the zip code area. We need an ample set of observations, so we do not have any sampling bias, which is the dataset based on the restaurants in North Carolina.\n",
    "\n",
    "We need enough observations in the dataset to estimate the health score in each zip codes to graph the variables. I prefer to get the dataset of each restaurant available and organize the location of the restaurant based on the zip code. These data will be collected based on the city government itself; there are records of the restaurant inspection dataset on the actual state government's data websites. The datasets we need will have to contain restaurant information, restaurant health ratings, and zipcode's median income. More specifically, the variables used are stated below.\n",
    "\n",
    "**Variables:**\n",
    "\n",
    "health score of the restaurant in North Carolina\n",
    "location (zip code) of each restaurants used\n",
    "capita income of zipcode area\n",
    "\n",
    "- Dataset Name: inspections\n",
    "- Number of observations: 18467\n",
    "\n",
    "The primary dataset shows a representative sample of all restaurant inspections in North Carolina, which has information about the restaurants, including locations, inspectors, numeric health inspection scores, critical points, and many other fields. However, we will be investing a portion of it shown in the Data Cleaning section.\n",
    "\n",
    "- Dataset Name: zipcodes\n",
    "- Number of observations: 39\n",
    "\n",
    "The second dataset, a representative sample of all zip codes in North Carolina, representing median family income, household income, per capita income, families under the poverty line, and percentage of nonwhite residents.\n",
    "\n",
    "The dataset, Inspections, contains the location (zip code) of each restaurant in North Carolina; the datasets can be merged based on the zipcodes. Because there are multiple restaurants with the same zip codes, we would have to find the restaurants' average health scores with the same zip codes to find the relationship between the two variables, income, and zip codes."
   ]
  },
  {
   "cell_type": "markdown",
   "metadata": {},
   "source": [
    "# Setup"
   ]
  },
  {
   "cell_type": "markdown",
   "metadata": {},
   "source": [
    "### Library Imports\n",
    "In our setup process, we start by importing all the necessary Python libraries that contain helpful resources to load, manipulate, clean, and visualize our datasets. These packages contain functions that can help determine and analyze the distributions of our data collection."
   ]
  },
  {
   "cell_type": "code",
   "execution_count": 1,
   "metadata": {},
   "outputs": [],
   "source": [
    "# Display plots directly in the notebook\n",
    "%matplotlib inline\n",
    "\n",
    "# Import libraries\n",
    "import numpy as np\n",
    "import pandas as pd\n",
    "import matplotlib.pyplot as plt\n",
    "import seaborn as sns\n",
    "\n",
    "import patsy\n",
    "import statsmodels.api as sm\n",
    "import scipy.stats as stats\n",
    "from scipy.stats import ttest_ind, chisquare, normaltest\n",
    "\n",
    "# Configure libraries\n",
    "# The seaborn library makes plots look nicer\n",
    "sns.set()\n",
    "sns.set_context('talk')"
   ]
  },
  {
   "cell_type": "markdown",
   "metadata": {},
   "source": [
    "### Dataframe Initialization\n",
    "Next, we load and read all the CSV files to see the data entries and a glance of the dataset. We will read all the data we plan to use in Python as a data frame. We will load the data files, inspections and zip codes, into data frames called **inspections_df** and **zipcodes_df** using pandas."
   ]
  },
  {
   "cell_type": "code",
   "execution_count": 2,
   "metadata": {},
   "outputs": [],
   "source": [
    "inspections_df = pd.read_csv('data/inspections.csv')\n",
    "zipcodes_df = pd.read_csv('datas/zipcodes.csv')"
   ]
  },
  {
   "cell_type": "markdown",
   "metadata": {},
   "source": [
    "# Data Cleaning"
   ]
  },
  {
   "cell_type": "markdown",
   "metadata": {},
   "source": [
    "In the process of data cleaning, we start by removing some columns that represent information that deviate from the big question in the two data frames, **inspections_df** and **zipcodes_df**. Potentially, the data cleaning process will do the main components of removing unnecessary irrelevant information and placing data into the correct columns. We will only keep the data we need for our analysis."
   ]
  },
  {
   "cell_type": "markdown",
   "metadata": {},
   "source": [
    "### Inspections Dataframe"
   ]
  },
  {
   "cell_type": "markdown",
   "metadata": {},
   "source": [
    "The first step is to remove any identifying information to keep restaurants anonymous so that they cannot possibly ruin their reputations such as the id number, name, address (excluding zip code), and phone number. We modify the data frame so that inspections_df only contains data that share mainly zip code, health score, and the critical violations.\n",
    "\n",
    "Next, we would organize the dataset by zipcode and health score."
   ]
  },
  {
   "cell_type": "code",
   "execution_count": 3,
   "metadata": {},
   "outputs": [],
   "source": [
    "inspections_df = inspections_df.drop(['date', 'name', 'address1', 'address2', 'state', 'facilitytype', 'inspectedby',\n",
    "                                      'restaurantopendate', 'days_from_open_date', 'geocodestatus', 'hsisid', 'city',\n",
    "                                      'second_match', 'num_critical_mean_previous', 'postalcode', 'top_match', 'type',\n",
    "                                      'y', 'description', 'avg_neighbor_num_non_critical', 'previous_inspection_date',\n",
    "                                      'x', 'days_since_previous_inspection', 'previous_inspection_by_same_inspector',\n",
    "                                      'num_non_critical_mean_previous', 'inspection_num', 'num_non_critical_previous',\n",
    "                                      'avg_neighbor_num_critical', 'phonenumber', 'num_critical_previous', 'critical',\n",
    "                                      'inspector_id', 'num_non_critical'], axis=1)\n",
    "\n",
    "inspections_df = inspections_df.sort_values(by=['zip', 'score'])\n",
    "inspections_df = inspections_df.reset_index(drop=True)"
   ]
  },
  {
   "cell_type": "markdown",
   "metadata": {},
   "source": [
    "Now, let's take a peek at the top of the inspections dataframe to ensure unnecessary columns are removed."
   ]
  },
  {
   "cell_type": "code",
   "execution_count": 4,
   "metadata": {},
   "outputs": [
    {
     "data": {
      "text/html": [
       "<div>\n",
       "<style scoped>\n",
       "    .dataframe tbody tr th:only-of-type {\n",
       "        vertical-align: middle;\n",
       "    }\n",
       "\n",
       "    .dataframe tbody tr th {\n",
       "        vertical-align: top;\n",
       "    }\n",
       "\n",
       "    .dataframe thead th {\n",
       "        text-align: right;\n",
       "    }\n",
       "</style>\n",
       "<table border=\"1\" class=\"dataframe\">\n",
       "  <thead>\n",
       "    <tr style=\"text-align: right;\">\n",
       "      <th></th>\n",
       "      <th>zip</th>\n",
       "      <th>score</th>\n",
       "      <th>num_critical</th>\n",
       "    </tr>\n",
       "  </thead>\n",
       "  <tbody>\n",
       "    <tr>\n",
       "      <th>0</th>\n",
       "      <td>27501</td>\n",
       "      <td>92.0</td>\n",
       "      <td>10</td>\n",
       "    </tr>\n",
       "    <tr>\n",
       "      <th>1</th>\n",
       "      <td>27501</td>\n",
       "      <td>93.0</td>\n",
       "      <td>8</td>\n",
       "    </tr>\n",
       "    <tr>\n",
       "      <th>2</th>\n",
       "      <td>27501</td>\n",
       "      <td>94.0</td>\n",
       "      <td>6</td>\n",
       "    </tr>\n",
       "    <tr>\n",
       "      <th>3</th>\n",
       "      <td>27501</td>\n",
       "      <td>94.5</td>\n",
       "      <td>8</td>\n",
       "    </tr>\n",
       "    <tr>\n",
       "      <th>4</th>\n",
       "      <td>27501</td>\n",
       "      <td>97.5</td>\n",
       "      <td>2</td>\n",
       "    </tr>\n",
       "  </tbody>\n",
       "</table>\n",
       "</div>"
      ],
      "text/plain": [
       "     zip  score  num_critical\n",
       "0  27501   92.0            10\n",
       "1  27501   93.0             8\n",
       "2  27501   94.0             6\n",
       "3  27501   94.5             8\n",
       "4  27501   97.5             2"
      ]
     },
     "execution_count": 4,
     "metadata": {},
     "output_type": "execute_result"
    }
   ],
   "source": [
    "inspections_df.head()"
   ]
  },
  {
   "cell_type": "markdown",
   "metadata": {},
   "source": [
    " ### Zipcodes Dataframe"
   ]
  },
  {
   "cell_type": "markdown",
   "metadata": {},
   "source": [
    "For the data cleaning process for zipcode_df, we need to remove unnecessary information irrelevant to the hypothesis. We will only keep the data representing the zip code, capita income, and percentage of poverty."
   ]
  },
  {
   "cell_type": "code",
   "execution_count": 5,
   "metadata": {},
   "outputs": [],
   "source": [
    "zipcodes_df = zipcodes_df.drop(['median_family_income_dollars', 'percent_snap_benefits', 'percent_nonwhite',\n",
    "                                'percent_supplemental_security_income', 'median_household_income_dollars' ], axis=1)\n",
    "\n",
    "#Rename the columns name\n",
    "zipcodes_df.columns = [\"zip\", \"capita_income\", \"poverty_rate\"]"
   ]
  },
  {
   "cell_type": "markdown",
   "metadata": {},
   "source": [
    "Although all restaurants are required to have a health inspection, there is a possible chance that there are no restaurants in particular zip codes. We need to take account of this situation and remove the rows with the zipcode that contains no restaurant inspections' results."
   ]
  },
  {
   "cell_type": "code",
   "execution_count": 6,
   "metadata": {},
   "outputs": [],
   "source": [
    "unique_zipcodes = inspections_df['zip'].unique()\n",
    "zipcodes_df = zipcodes_df[zipcodes_df['zip'].isin(unique_zipcodes)]"
   ]
  },
  {
   "cell_type": "markdown",
   "metadata": {},
   "source": [
    "Now, let's take a peek at the top of the zipcodes dataframe to ensure unnecessary columns are removed."
   ]
  },
  {
   "cell_type": "code",
   "execution_count": 7,
   "metadata": {},
   "outputs": [
    {
     "data": {
      "text/html": [
       "<div>\n",
       "<style scoped>\n",
       "    .dataframe tbody tr th:only-of-type {\n",
       "        vertical-align: middle;\n",
       "    }\n",
       "\n",
       "    .dataframe tbody tr th {\n",
       "        vertical-align: top;\n",
       "    }\n",
       "\n",
       "    .dataframe thead th {\n",
       "        text-align: right;\n",
       "    }\n",
       "</style>\n",
       "<table border=\"1\" class=\"dataframe\">\n",
       "  <thead>\n",
       "    <tr style=\"text-align: right;\">\n",
       "      <th></th>\n",
       "      <th>zip</th>\n",
       "      <th>capita_income</th>\n",
       "      <th>poverty_rate</th>\n",
       "    </tr>\n",
       "  </thead>\n",
       "  <tbody>\n",
       "    <tr>\n",
       "      <th>0</th>\n",
       "      <td>27501</td>\n",
       "      <td>21631</td>\n",
       "      <td>10.5</td>\n",
       "    </tr>\n",
       "    <tr>\n",
       "      <th>1</th>\n",
       "      <td>27502</td>\n",
       "      <td>36763</td>\n",
       "      <td>3.4</td>\n",
       "    </tr>\n",
       "    <tr>\n",
       "      <th>2</th>\n",
       "      <td>27511</td>\n",
       "      <td>33139</td>\n",
       "      <td>9.6</td>\n",
       "    </tr>\n",
       "    <tr>\n",
       "      <th>3</th>\n",
       "      <td>27513</td>\n",
       "      <td>41232</td>\n",
       "      <td>3.8</td>\n",
       "    </tr>\n",
       "    <tr>\n",
       "      <th>4</th>\n",
       "      <td>27518</td>\n",
       "      <td>49865</td>\n",
       "      <td>5.5</td>\n",
       "    </tr>\n",
       "  </tbody>\n",
       "</table>\n",
       "</div>"
      ],
      "text/plain": [
       "     zip  capita_income  poverty_rate\n",
       "0  27501          21631          10.5\n",
       "1  27502          36763           3.4\n",
       "2  27511          33139           9.6\n",
       "3  27513          41232           3.8\n",
       "4  27518          49865           5.5"
      ]
     },
     "execution_count": 7,
     "metadata": {},
     "output_type": "execute_result"
    }
   ],
   "source": [
    "zipcodes_df.head()"
   ]
  },
  {
   "cell_type": "markdown",
   "metadata": {},
   "source": [
    "We need to determine how many unique zip codes we are going to work with to calculate the mean of the health score of the restaurant for each distinct zip code."
   ]
  },
  {
   "cell_type": "code",
   "execution_count": 8,
   "metadata": {},
   "outputs": [
    {
     "data": {
      "text/plain": [
       "37"
      ]
     },
     "execution_count": 8,
     "metadata": {},
     "output_type": "execute_result"
    }
   ],
   "source": [
    "len(zipcodes_df)"
   ]
  },
  {
   "cell_type": "markdown",
   "metadata": {},
   "source": [
    "### Combining Datasets\n",
    "Now, we know that we are working with 37 unique zipcodes in North Carolina. We need to find the average health scores and also average number of critical violations per zip code and add it into the data frame, **zipcode_df**."
   ]
  },
  {
   "cell_type": "markdown",
   "metadata": {},
   "source": [
    "Finding the average health scores for each particular zipcode:"
   ]
  },
  {
   "cell_type": "code",
   "execution_count": 9,
   "metadata": {},
   "outputs": [],
   "source": [
    "def health_score(zipcode):\n",
    "    scores = []\n",
    "    for i in range(len(inspections_df)):\n",
    "        if inspections_df.loc[i, 'zip'] == zipcode:\n",
    "            scores.append(inspections_df.loc[i, 'score'])\n",
    "    return np.mean(scores)"
   ]
  },
  {
   "cell_type": "markdown",
   "metadata": {},
   "source": [
    "Finding the average critical violations for each particular zipcode:"
   ]
  },
  {
   "cell_type": "code",
   "execution_count": 10,
   "metadata": {},
   "outputs": [],
   "source": [
    "def critical_violations(zipcode):\n",
    "    critical = []\n",
    "    for i in range(len(inspections_df)):\n",
    "        if inspections_df.loc[i, 'zip'] == zipcode:\n",
    "            critical.append(inspections_df.loc[i, 'num_critical'])\n",
    "    return np.mean(critical)"
   ]
  },
  {
   "cell_type": "markdown",
   "metadata": {},
   "source": [
    "Applying the functions that finds the average health score and critical violations into two new columns, **health_score** and **critical_violations**, into zipcode_df."
   ]
  },
  {
   "cell_type": "code",
   "execution_count": 11,
   "metadata": {},
   "outputs": [
    {
     "data": {
      "text/html": [
       "<div>\n",
       "<style scoped>\n",
       "    .dataframe tbody tr th:only-of-type {\n",
       "        vertical-align: middle;\n",
       "    }\n",
       "\n",
       "    .dataframe tbody tr th {\n",
       "        vertical-align: top;\n",
       "    }\n",
       "\n",
       "    .dataframe thead th {\n",
       "        text-align: right;\n",
       "    }\n",
       "</style>\n",
       "<table border=\"1\" class=\"dataframe\">\n",
       "  <thead>\n",
       "    <tr style=\"text-align: right;\">\n",
       "      <th></th>\n",
       "      <th>zip</th>\n",
       "      <th>capita_income</th>\n",
       "      <th>poverty_rate</th>\n",
       "      <th>score</th>\n",
       "      <th>critical</th>\n",
       "    </tr>\n",
       "  </thead>\n",
       "  <tbody>\n",
       "    <tr>\n",
       "      <th>0</th>\n",
       "      <td>27501</td>\n",
       "      <td>21631</td>\n",
       "      <td>10.5</td>\n",
       "      <td>94.750000</td>\n",
       "      <td>6.000000</td>\n",
       "    </tr>\n",
       "    <tr>\n",
       "      <th>1</th>\n",
       "      <td>27502</td>\n",
       "      <td>36763</td>\n",
       "      <td>3.4</td>\n",
       "      <td>96.367223</td>\n",
       "      <td>2.972686</td>\n",
       "    </tr>\n",
       "    <tr>\n",
       "      <th>2</th>\n",
       "      <td>27511</td>\n",
       "      <td>33139</td>\n",
       "      <td>9.6</td>\n",
       "      <td>96.418969</td>\n",
       "      <td>2.910381</td>\n",
       "    </tr>\n",
       "    <tr>\n",
       "      <th>3</th>\n",
       "      <td>27513</td>\n",
       "      <td>41232</td>\n",
       "      <td>3.8</td>\n",
       "      <td>95.655130</td>\n",
       "      <td>4.368356</td>\n",
       "    </tr>\n",
       "    <tr>\n",
       "      <th>4</th>\n",
       "      <td>27518</td>\n",
       "      <td>49865</td>\n",
       "      <td>5.5</td>\n",
       "      <td>97.225291</td>\n",
       "      <td>1.924419</td>\n",
       "    </tr>\n",
       "  </tbody>\n",
       "</table>\n",
       "</div>"
      ],
      "text/plain": [
       "     zip  capita_income  poverty_rate      score  critical\n",
       "0  27501          21631          10.5  94.750000  6.000000\n",
       "1  27502          36763           3.4  96.367223  2.972686\n",
       "2  27511          33139           9.6  96.418969  2.910381\n",
       "3  27513          41232           3.8  95.655130  4.368356\n",
       "4  27518          49865           5.5  97.225291  1.924419"
      ]
     },
     "execution_count": 11,
     "metadata": {},
     "output_type": "execute_result"
    }
   ],
   "source": [
    "zipcodes_df[\"score\"] = zipcodes_df['zip'].apply(health_score)\n",
    "zipcodes_df[\"critical\"] = zipcodes_df['zip'].apply(critical_violations)\n",
    "zipcodes_df.head()"
   ]
  },
  {
   "cell_type": "markdown",
   "metadata": {},
   "source": [
    "# Data Analysis & Results"
   ]
  },
  {
   "cell_type": "markdown",
   "metadata": {},
   "source": [
    "We want to determine if there is a relationship between business's health score in North Carolina and the capita income based on the restaurant's zip code."
   ]
  },
  {
   "cell_type": "markdown",
   "metadata": {},
   "source": [
    "### Total Number of Resturants per Zip Code\n",
    "First, we plot the distribution of the number of restaurants in each zip code to understand more about the datasets. The bar plot shows the total number of restaurants in each area zip code. Based on the diagram, we can see that there is a significant variance with the number of restaurants between each zip code. The differences among the number of businesses can be a factor in the average health inspection score in each particular area."
   ]
  },
  {
   "cell_type": "code",
   "execution_count": 12,
   "metadata": {},
   "outputs": [
    {
     "data": {
      "text/plain": [
       "[Text(0, 0.5, 'restaurants'),\n",
       " Text(0.5, 0, 'zip code'),\n",
       " Text(0.5, 1.0, 'Number of Restaurants per Zip Code')]"
      ]
     },
     "execution_count": 12,
     "metadata": {},
     "output_type": "execute_result"
    },
    {
     "data": {
      "image/png": "[encoded data removed]",
      "text/plain": [
       "<Figure size 864x360 with 1 Axes>"
      ]
     },
     "metadata": {
      "needs_background": "light"
     },
     "output_type": "display_data"
    }
   ],
   "source": [
    "zip_list = [zipcodes for zipcodes in zipcodes_df['zip']]\n",
    "\n",
    "zip_vc = inspections_df['zip'].value_counts()\n",
    "ax = zip_vc.loc[zip_vc.index.isin(zip_list)].plot(kind='bar', figsize=(12,5));\n",
    "plt.tick_params(labelsize=10);\n",
    "ax.set(xlabel='zip code', ylabel='restaurants', title='Number of Restaurants per Zip Code')"
   ]
  },
  {
   "cell_type": "markdown",
   "metadata": {},
   "source": [
    "### Distributions of Restaurant's Health Insecption Score per Zip Code\n",
    "The histogram below represents the average restaurant's health score per zip code. We can see that North Carolina's restaurants mainly have an average health score between 94.5 to 98.5. There is not much of a significant difference between the average rating for each zip code which can potentially be a problem.\n"
   ]
  },
  {
   "cell_type": "code",
   "execution_count": 13,
   "metadata": {},
   "outputs": [
    {
     "data": {
      "image/png": "[encoded data removed]",
      "text/plain": [
       "<Figure size 432x288 with 1 Axes>"
      ]
     },
     "metadata": {
      "needs_background": "light"
     },
     "output_type": "display_data"
    }
   ],
   "source": [
    "plt.hist(zipcodes_df['score'], bins=10, color='b');\n",
    "plt.xlabel('inspection score', size=12);\n",
    "plt.ylabel('count', size=12);\n",
    "plt.title('Average Inspection Score Distribution of Restaurants');"
   ]
  },
  {
   "cell_type": "markdown",
   "metadata": {},
   "source": [
    "###  Distributions of Capita Income per Zipcode\n",
    "The histogram below displays the average capita income per zip code. We can see there is a variance in the income that ranges from 18000 to 60000."
   ]
  },
  {
   "cell_type": "code",
   "execution_count": 14,
   "metadata": {},
   "outputs": [
    {
     "data": {
      "image/png": "[encoded data removed]",
      "text/plain": [
       "<Figure size 432x288 with 1 Axes>"
      ]
     },
     "metadata": {
      "needs_background": "light"
     },
     "output_type": "display_data"
    }
   ],
   "source": [
    "plt.hist(zipcodes_df['capita_income'], bins=10, color='c');\n",
    "plt.xlabel('income', size=12);\n",
    "plt.ylabel('count', size=12);\n",
    "plt.title('Income Distribution of Zipcodes');"
   ]
  },
  {
   "cell_type": "markdown",
   "metadata": {},
   "source": [
    "### Basic Analyses\n",
    "Here, we can see the essential descriptive summaries of our data. We can view some exciting statistical data of our data to understand more about the data and ask some interesting questions. Notice that the standard deviation of capita income is vastly large than the standard deviation of the health score."
   ]
  },
  {
   "cell_type": "code",
   "execution_count": 15,
   "metadata": {},
   "outputs": [
    {
     "data": {
      "text/html": [
       "<div>\n",
       "<style scoped>\n",
       "    .dataframe tbody tr th:only-of-type {\n",
       "        vertical-align: middle;\n",
       "    }\n",
       "\n",
       "    .dataframe tbody tr th {\n",
       "        vertical-align: top;\n",
       "    }\n",
       "\n",
       "    .dataframe thead th {\n",
       "        text-align: right;\n",
       "    }\n",
       "</style>\n",
       "<table border=\"1\" class=\"dataframe\">\n",
       "  <thead>\n",
       "    <tr style=\"text-align: right;\">\n",
       "      <th></th>\n",
       "      <th>zip</th>\n",
       "      <th>capita_income</th>\n",
       "      <th>poverty_rate</th>\n",
       "      <th>score</th>\n",
       "      <th>critical</th>\n",
       "    </tr>\n",
       "  </thead>\n",
       "  <tbody>\n",
       "    <tr>\n",
       "      <th>count</th>\n",
       "      <td>37.000000</td>\n",
       "      <td>37.000000</td>\n",
       "      <td>37.000000</td>\n",
       "      <td>37.000000</td>\n",
       "      <td>37.000000</td>\n",
       "    </tr>\n",
       "    <tr>\n",
       "      <th>mean</th>\n",
       "      <td>27570.378378</td>\n",
       "      <td>33223.135135</td>\n",
       "      <td>8.089189</td>\n",
       "      <td>96.359787</td>\n",
       "      <td>2.739951</td>\n",
       "    </tr>\n",
       "    <tr>\n",
       "      <th>std</th>\n",
       "      <td>41.121332</td>\n",
       "      <td>9989.656623</td>\n",
       "      <td>6.187612</td>\n",
       "      <td>0.779195</td>\n",
       "      <td>1.019619</td>\n",
       "    </tr>\n",
       "    <tr>\n",
       "      <th>min</th>\n",
       "      <td>27501.000000</td>\n",
       "      <td>17363.000000</td>\n",
       "      <td>2.000000</td>\n",
       "      <td>94.750000</td>\n",
       "      <td>0.500000</td>\n",
       "    </tr>\n",
       "    <tr>\n",
       "      <th>25%</th>\n",
       "      <td>27526.000000</td>\n",
       "      <td>25532.000000</td>\n",
       "      <td>4.100000</td>\n",
       "      <td>95.659091</td>\n",
       "      <td>2.186528</td>\n",
       "    </tr>\n",
       "    <tr>\n",
       "      <th>50%</th>\n",
       "      <td>27591.000000</td>\n",
       "      <td>31161.000000</td>\n",
       "      <td>6.000000</td>\n",
       "      <td>96.418969</td>\n",
       "      <td>2.743827</td>\n",
       "    </tr>\n",
       "    <tr>\n",
       "      <th>75%</th>\n",
       "      <td>27607.000000</td>\n",
       "      <td>41232.000000</td>\n",
       "      <td>10.400000</td>\n",
       "      <td>96.795620</td>\n",
       "      <td>3.225263</td>\n",
       "    </tr>\n",
       "    <tr>\n",
       "      <th>max</th>\n",
       "      <td>27617.000000</td>\n",
       "      <td>59155.000000</td>\n",
       "      <td>35.900000</td>\n",
       "      <td>98.250000</td>\n",
       "      <td>6.000000</td>\n",
       "    </tr>\n",
       "  </tbody>\n",
       "</table>\n",
       "</div>"
      ],
      "text/plain": [
       "                zip  capita_income  poverty_rate      score   critical\n",
       "count     37.000000      37.000000     37.000000  37.000000  37.000000\n",
       "mean   27570.378378   33223.135135      8.089189  96.359787   2.739951\n",
       "std       41.121332    9989.656623      6.187612   0.779195   1.019619\n",
       "min    27501.000000   17363.000000      2.000000  94.750000   0.500000\n",
       "25%    27526.000000   25532.000000      4.100000  95.659091   2.186528\n",
       "50%    27591.000000   31161.000000      6.000000  96.418969   2.743827\n",
       "75%    27607.000000   41232.000000     10.400000  96.795620   3.225263\n",
       "max    27617.000000   59155.000000     35.900000  98.250000   6.000000"
      ]
     },
     "execution_count": 15,
     "metadata": {},
     "output_type": "execute_result"
    }
   ],
   "source": [
    "zipcodes_df.describe()"
   ]
  },
  {
   "cell_type": "markdown",
   "metadata": {},
   "source": [
    "### Bivariate (Pearson) Correlation"
   ]
  },
  {
   "cell_type": "markdown",
   "metadata": {},
   "source": [
    "We can use the preliminary Pearson correlation test to view the correlations among each variable. Below, we can see that there is a small relationship between the two variables, health score and the capita income. The Pearson correlation coefficient (r) for the two variables is -0.137131, which is significantly far from the value, 1. (The closer the absolute value of the Pearson correlation coefficient is to 1, the better the correlation). However, comparing all the other Pearson correlation coefficient, we can see that there is a negative correlation between health score and capita income with a coefficient value of -0.612539."
   ]
  },
  {
   "cell_type": "code",
   "execution_count": 16,
   "metadata": {},
   "outputs": [
    {
     "data": {
      "text/html": [
       "<div>\n",
       "<style scoped>\n",
       "    .dataframe tbody tr th:only-of-type {\n",
       "        vertical-align: middle;\n",
       "    }\n",
       "\n",
       "    .dataframe tbody tr th {\n",
       "        vertical-align: top;\n",
       "    }\n",
       "\n",
       "    .dataframe thead th {\n",
       "        text-align: right;\n",
       "    }\n",
       "</style>\n",
       "<table border=\"1\" class=\"dataframe\">\n",
       "  <thead>\n",
       "    <tr style=\"text-align: right;\">\n",
       "      <th></th>\n",
       "      <th>zip</th>\n",
       "      <th>capita_income</th>\n",
       "      <th>poverty_rate</th>\n",
       "      <th>score</th>\n",
       "      <th>critical</th>\n",
       "    </tr>\n",
       "  </thead>\n",
       "  <tbody>\n",
       "    <tr>\n",
       "      <th>zip</th>\n",
       "      <td>1.000000</td>\n",
       "      <td>0.047119</td>\n",
       "      <td>0.284134</td>\n",
       "      <td>-0.027018</td>\n",
       "      <td>-0.233605</td>\n",
       "    </tr>\n",
       "    <tr>\n",
       "      <th>capita_income</th>\n",
       "      <td>0.047119</td>\n",
       "      <td>1.000000</td>\n",
       "      <td>-0.612539</td>\n",
       "      <td>-0.005612</td>\n",
       "      <td>0.038387</td>\n",
       "    </tr>\n",
       "    <tr>\n",
       "      <th>poverty_rate</th>\n",
       "      <td>0.284134</td>\n",
       "      <td>-0.612539</td>\n",
       "      <td>1.000000</td>\n",
       "      <td>-0.137131</td>\n",
       "      <td>0.011614</td>\n",
       "    </tr>\n",
       "    <tr>\n",
       "      <th>score</th>\n",
       "      <td>-0.027018</td>\n",
       "      <td>-0.005612</td>\n",
       "      <td>-0.137131</td>\n",
       "      <td>1.000000</td>\n",
       "      <td>-0.921661</td>\n",
       "    </tr>\n",
       "    <tr>\n",
       "      <th>critical</th>\n",
       "      <td>-0.233605</td>\n",
       "      <td>0.038387</td>\n",
       "      <td>0.011614</td>\n",
       "      <td>-0.921661</td>\n",
       "      <td>1.000000</td>\n",
       "    </tr>\n",
       "  </tbody>\n",
       "</table>\n",
       "</div>"
      ],
      "text/plain": [
       "                    zip  capita_income  poverty_rate     score  critical\n",
       "zip            1.000000       0.047119      0.284134 -0.027018 -0.233605\n",
       "capita_income  0.047119       1.000000     -0.612539 -0.005612  0.038387\n",
       "poverty_rate   0.284134      -0.612539      1.000000 -0.137131  0.011614\n",
       "score         -0.027018      -0.005612     -0.137131  1.000000 -0.921661\n",
       "critical      -0.233605       0.038387      0.011614 -0.921661  1.000000"
      ]
     },
     "execution_count": 16,
     "metadata": {},
     "output_type": "execute_result"
    }
   ],
   "source": [
    "zipcodes_df.corr(method = \"pearson\")"
   ]
  },
  {
   "cell_type": "markdown",
   "metadata": {},
   "source": [
    "### Health score and Capita Income\n",
    "We create a linear regression model to predict health scores from capita income by creating an OLS model. From the model, we can view the correlation relationship and the p-value (probability of obtaining test results). Since our p-value is 0.974, significantly higher than 0.5, we must accept that there is not enough evidence to reveal any relationship between the two variables."
   ]
  },
  {
   "cell_type": "code",
   "execution_count": 17,
   "metadata": {},
   "outputs": [
    {
     "name": "stdout",
     "output_type": "stream",
     "text": [
      "                            OLS Regression Results                            \n",
      "==============================================================================\n",
      "Dep. Variable:                  score   R-squared:                       0.000\n",
      "Model:                            OLS   Adj. R-squared:                 -0.029\n",
      "Method:                 Least Squares   F-statistic:                  0.001103\n",
      "Date:                Wed, 10 Jun 2020   Prob (F-statistic):              0.974\n",
      "Time:                        09:12:36   Log-Likelihood:                -42.762\n",
      "No. Observations:                  37   AIC:                             89.52\n",
      "Df Residuals:                      35   BIC:                             92.75\n",
      "Df Model:                           1                                         \n",
      "Covariance Type:            nonrobust                                         \n",
      "=================================================================================\n",
      "                    coef    std err          t      P>|t|      [0.025      0.975]\n",
      "---------------------------------------------------------------------------------\n",
      "Intercept        96.3743      0.457    210.940      0.000      95.447      97.302\n",
      "capita_income -4.378e-07   1.32e-05     -0.033      0.974   -2.72e-05    2.63e-05\n",
      "==============================================================================\n",
      "Omnibus:                        0.828   Durbin-Watson:                   1.665\n",
      "Prob(Omnibus):                  0.661   Jarque-Bera (JB):                0.306\n",
      "Skew:                           0.208   Prob(JB):                        0.858\n",
      "Kurtosis:                       3.158   Cond. No.                     1.22e+05\n",
      "==============================================================================\n",
      "\n",
      "Warnings:\n",
      "[1] Standard Errors assume that the covariance matrix of the errors is correctly specified.\n",
      "[2] The condition number is large, 1.22e+05. This might indicate that there are\n",
      "strong multicollinearity or other numerical problems.\n"
     ]
    }
   ],
   "source": [
    "income_outcome, income_predictors = patsy.dmatrices('score ~ capita_income', zipcodes_df)\n",
    "income_mod = sm.OLS(income_outcome, income_predictors)\n",
    "income_res = income_mod.fit()\n",
    "print(income_res.summary())\n",
    "\n",
    "# P-Value: 0.974\n",
    "# B_0: 96.3743\n",
    "# B_1: -4.378e-07"
   ]
  },
  {
   "cell_type": "markdown",
   "metadata": {},
   "source": [
    "Using the information from the OLS  model, we can create a visual model, a scatter plot with a best-fit line for the two variables to see the relationship visually. Below, we can see that there is no significant slope. We can conclude that there is a weak correlation (-0.137131) among capita income and the restaurant's health inspection score."
   ]
  },
  {
   "cell_type": "code",
   "execution_count": 18,
   "metadata": {},
   "outputs": [
    {
     "data": {
      "image/png": "[encoded data removed]",
      "text/plain": [
       "<Figure size 720x360 with 1 Axes>"
      ]
     },
     "metadata": {
      "needs_background": "light"
     },
     "output_type": "display_data"
    }
   ],
   "source": [
    "plt.figure(figsize=(10, 5))\n",
    "plt.scatter(zipcodes_df['capita_income'], zipcodes_df['score'])\n",
    "\n",
    "x = np.arange(1, 64000)\n",
    "y = -4.378e-07* x + 96.3743\n",
    "plt.plot(x, y, '--k', color='red', linewidth=2)\n",
    "plt.xlabel('capita income', size=12)\n",
    "plt.ylabel('health score', size=12)\n",
    "plt.suptitle('Health Score by Capita Income', size=15)\n",
    "plt.show()"
   ]
  },
  {
   "cell_type": "markdown",
   "metadata": {},
   "source": [
    "### Critical Violations and Capita Income\n",
    "We create a linear regression model to predict the number of critical violations from capita income by creating an OLS model. From the model, we can view the correlation relationship and the p-value (probability of obtaining test results). Since our p-value is 0.822, significantly higher than 0.5, we must accept that there is not enough evidence to reveal any relationship between the two variables."
   ]
  },
  {
   "cell_type": "code",
   "execution_count": 21,
   "metadata": {},
   "outputs": [
    {
     "name": "stdout",
     "output_type": "stream",
     "text": [
      "                            OLS Regression Results                            \n",
      "==============================================================================\n",
      "Dep. Variable:               critical   R-squared:                       0.001\n",
      "Model:                            OLS   Adj. R-squared:                 -0.027\n",
      "Method:                 Least Squares   F-statistic:                   0.05165\n",
      "Date:                Wed, 10 Jun 2020   Prob (F-statistic):              0.822\n",
      "Time:                        09:13:35   Log-Likelihood:                -52.685\n",
      "No. Observations:                  37   AIC:                             109.4\n",
      "Df Residuals:                      35   BIC:                             112.6\n",
      "Df Model:                           1                                         \n",
      "Covariance Type:            nonrobust                                         \n",
      "=================================================================================\n",
      "                    coef    std err          t      P>|t|      [0.025      0.975]\n",
      "---------------------------------------------------------------------------------\n",
      "Intercept         2.6098      0.597      4.368      0.000       1.397       3.823\n",
      "capita_income  3.918e-06   1.72e-05      0.227      0.822   -3.11e-05    3.89e-05\n",
      "==============================================================================\n",
      "Omnibus:                        7.448   Durbin-Watson:                   1.541\n",
      "Prob(Omnibus):                  0.024   Jarque-Bera (JB):                8.121\n",
      "Skew:                           0.539   Prob(JB):                       0.0172\n",
      "Kurtosis:                       5.026   Cond. No.                     1.22e+05\n",
      "==============================================================================\n",
      "\n",
      "Warnings:\n",
      "[1] Standard Errors assume that the covariance matrix of the errors is correctly specified.\n",
      "[2] The condition number is large, 1.22e+05. This might indicate that there are\n",
      "strong multicollinearity or other numerical problems.\n"
     ]
    }
   ],
   "source": [
    "violations_outcome, violations_predictors = patsy.dmatrices('critical ~ capita_income', zipcodes_df)\n",
    "violations_mod = sm.OLS(violations_outcome, violations_predictors)\n",
    "violations_res = violations_mod.fit()\n",
    "print(violations_res.summary())\n",
    "\n",
    "# P-Value: 0.822\n",
    "# B_0: 2.6098\n",
    "# B_1: 3.918e-06"
   ]
  },
  {
   "cell_type": "markdown",
   "metadata": {},
   "source": [
    "Using the information from the OLS  model, we can create a scatter plot with a best-fit line for the two variables to see the relationship visually. Below, we can see that there is no significant slope. We can conclude that there is a weak correlation (0.038387) among capita income and the number of critical violations of the restaurant."
   ]
  },
  {
   "cell_type": "code",
   "execution_count": 22,
   "metadata": {},
   "outputs": [
    {
     "data": {
      "image/png": "[encoded data removed]",
      "text/plain": [
       "<Figure size 720x360 with 1 Axes>"
      ]
     },
     "metadata": {
      "needs_background": "light"
     },
     "output_type": "display_data"
    }
   ],
   "source": [
    "plt.figure(figsize=(10, 5))\n",
    "plt.scatter(zipcodes_df['capita_income'], zipcodes_df['critical'])\n",
    "\n",
    "x = np.arange(1, 64000)\n",
    "y = 3.918e-06 * x + 2.6098\n",
    "plt.plot(x, y, '--k', color='red', linewidth=2)\n",
    "plt.xlabel('capita income', size=12)\n",
    "plt.ylabel('critical violations', size=12)\n",
    "plt.suptitle('Income by Critical Violations', size=15)\n",
    "plt.show()"
   ]
  },
  {
   "cell_type": "markdown",
   "metadata": {},
   "source": [
    "### Health Score and Poverty Rate\n",
    "We create a linear regression model to predict the health score from the poverty rate by creating an OLS model. From the model, we can view the correlation relationship and the p-value (probability of obtaining test results). Since our p-value is 0.418, less than 0.5, we can accept that there is enough evidence to reveal the relationship between the two variables, a small negative relationship"
   ]
  },
  {
   "cell_type": "code",
   "execution_count": 23,
   "metadata": {},
   "outputs": [
    {
     "name": "stdout",
     "output_type": "stream",
     "text": [
      "                            OLS Regression Results                            \n",
      "==============================================================================\n",
      "Dep. Variable:                  score   R-squared:                       0.019\n",
      "Model:                            OLS   Adj. R-squared:                 -0.009\n",
      "Method:                 Least Squares   F-statistic:                    0.6708\n",
      "Date:                Wed, 10 Jun 2020   Prob (F-statistic):              0.418\n",
      "Time:                        09:13:48   Log-Likelihood:                -42.411\n",
      "No. Observations:                  37   AIC:                             88.82\n",
      "Df Residuals:                      35   BIC:                             92.04\n",
      "Df Model:                           1                                         \n",
      "Covariance Type:            nonrobust                                         \n",
      "================================================================================\n",
      "                   coef    std err          t      P>|t|      [0.025      0.975]\n",
      "--------------------------------------------------------------------------------\n",
      "Intercept       96.4995      0.214    451.649      0.000      96.066      96.933\n",
      "poverty_rate    -0.0173      0.021     -0.819      0.418      -0.060       0.026\n",
      "==============================================================================\n",
      "Omnibus:                        0.520   Durbin-Watson:                   1.718\n",
      "Prob(Omnibus):                  0.771   Jarque-Bera (JB):                0.125\n",
      "Skew:                           0.133   Prob(JB):                        0.940\n",
      "Kurtosis:                       3.099   Cond. No.                         16.9\n",
      "==============================================================================\n",
      "\n",
      "Warnings:\n",
      "[1] Standard Errors assume that the covariance matrix of the errors is correctly specified.\n"
     ]
    }
   ],
   "source": [
    "poverty_outcome, poverty_predictors = patsy.dmatrices('score ~ poverty_rate', zipcodes_df)\n",
    "poverty_mod = sm.OLS(poverty_outcome, poverty_predictors)\n",
    "poverty_res = poverty_mod.fit()\n",
    "print(poverty_res.summary())\n",
    "\n",
    "# P-Value: 0.418\n",
    "# B_0: 96.4995\n",
    "# B_1: -0.0173"
   ]
  },
  {
   "cell_type": "markdown",
   "metadata": {},
   "source": [
    "Using the information from the OLS  model, we can create a scatter plot with a best-fit line for the two variables to see the relationship visually. Below, we can see that there a slightly descending slope. We can conclude that there is a negative correlation (-0.137131) among the health score of the restaurant and the poverty rate of the area."
   ]
  },
  {
   "cell_type": "code",
   "execution_count": 24,
   "metadata": {},
   "outputs": [
    {
     "data": {
      "image/png": "[encoded data removed]",
      "text/plain": [
       "<Figure size 720x360 with 1 Axes>"
      ]
     },
     "metadata": {
      "needs_background": "light"
     },
     "output_type": "display_data"
    }
   ],
   "source": [
    "plt.figure(figsize=(10, 5))\n",
    "plt.scatter(zipcodes_df['poverty_rate'], zipcodes_df['score'])\n",
    "\n",
    "x = np.arange(1, 40)\n",
    "y = -0.0173 * x + 96.4995\n",
    "plt.plot(x, y, '--k', color='red', linewidth=2)\n",
    "plt.xlabel('poverty rate',size=12)\n",
    "plt.ylabel('health score',size=12)\n",
    "plt.suptitle('Health Score by Poverty Rate', size=15)\n",
    "plt.show()"
   ]
  },
  {
   "cell_type": "markdown",
   "metadata": {},
   "source": [
    "# Ethics & Privacy"
   ]
  },
  {
   "cell_type": "markdown",
   "metadata": {},
   "source": [
    "When working with data in Data Science, we do our utmost best to ensure that the data we use comes from a trustworthy source, which is both consensual and ethically collected. Sampling bias is a common ethical consideration to think about, and working with data; we always have to consider it a possibility. In our situation, we believe that sampling bias does not take place within our datasets because we will only be using financial and inspection records, which will not allow us to identify any individuals. However, we are provided with many phone numbers, names, and addresses making the data personal to many restaurants. To prevent damage to the restaurant's reputation, we removed specific identification data. The data used to test the hypothesis will not be damaging to anyone because all this is public knowledge and can be easily accessed.\n",
    "\n",
    "We have taken steps to ensure that the data processed by us is in no way tampered with or affected by our program to ensure that it remains anonymized, unaltered, and unbiased in our report. Preventing data bias is always a task at hand to prevent that we received our datasets from a reliable and credible source; thus, using the public data we obtained will allow others to cross-check our work to ensure that we are not biased.\n",
    "\n",
    "We hope to do our best in remaining biased and following our ethical obligation to ensure that our analysis report will correctly support my claim, and my results are clear and straightforward. Throughout the project, we have done our best to document our work and do our very best to fulfill our ethical obligations to collect clean and unbiased data and honor the moral and ethical code as it pertains to data science."
   ]
  },
  {
   "cell_type": "markdown",
   "metadata": {},
   "source": [
    "# Conclusion & Discussion"
   ]
  },
  {
   "cell_type": "markdown",
   "metadata": {},
   "source": [
    "This project's primary goal is to indicate a relationship between the restaurant 's health score in North Carolina and its income level.  I predicted that there would be a positive correlation between the variables because money is the main factor for many things and possibly restaurants' health inspection scores. To test my hypothesis, I began cleaning the datasets containing variables I believed I needed. After analysis, I have concluded that there is no significant correlation between health inspection scores and capita income. However, one factor correlated with the health score, the poverty rate, but the correlation coefficient is quite small.\n",
    "\n",
    "I personally thought capita income would make a difference in health score because I expected the quality of a restaurant to be the same status as their location. Surprisingly enough, the poverty rate did have a small correlation to the restaurant's health score.\n",
    "\n",
    "During this whole process of this project, I felt like there was a vast time restriction. If I had a more extended period to do this project, especially with all the issues around the world, I would have tried more factors that lead to a difference among health inspections scores and more analyzing between the two variables. I would include more different areas in North Carolina; I believe I was only given a few zip codes and restaurant inspections which may not represent North Carolina as a whole state.\n",
    "\n",
    "Overall, this was quite an experience exploring data. Although I could not make a definitive conclusion about our hypothesis, it was quite interesting to see how some correlations with other factors of health inspection scores. However, it would be more exciting if I could find a leading factor that correlates to the restaurant's food inspection health score."
   ]
  }
 ],
 "metadata": {
  "kernelspec": {
   "display_name": "Python 3",
   "language": "python",
   "name": "python3"
  },
  "language_info": {
   "codemirror_mode": {
    "name": "ipython",
    "version": 3
   },
   "file_extension": ".py",
   "mimetype": "text/x-python",
   "name": "python",
   "nbconvert_exporter": "python",
   "pygments_lexer": "ipython3",
   "version": "3.6.7"
  }
 },
 "nbformat": 4,
 "nbformat_minor": 2
}
