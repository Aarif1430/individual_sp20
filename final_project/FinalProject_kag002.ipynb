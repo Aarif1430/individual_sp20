{
 "cells": [
  {
   "cell_type": "markdown",
   "metadata": {},
   "source": [
    "# COGS 108 - Final Project "
   ]
  },
  {
   "cell_type": "markdown",
   "metadata": {},
   "source": [
    "# Overview"
   ]
  },
  {
   "cell_type": "markdown",
   "metadata": {},
   "source": [
    "This project looks into the relationship between density, user reviews and health violations of restaurants in North Carolina. By exploring the data of different restaurants and its position and review, we were able to conclude that there is not a strong relationship between the variables under examination."
   ]
  },
  {
   "cell_type": "markdown",
   "metadata": {},
   "source": [
    "# Name & PID\n",
    "\n",
    "- Name: Kaihang Guo\n",
    "- PID: A15567387"
   ]
  },
  {
   "cell_type": "markdown",
   "metadata": {},
   "source": [
    "# Research Question"
   ]
  },
  {
   "cell_type": "markdown",
   "metadata": {},
   "source": [
    "IS there a relationship between density, user reviews and health violations of a restaurant? Can consumer input and location improve the priority of health evaluations for restaurants?"
   ]
  },
  {
   "cell_type": "markdown",
   "metadata": {},
   "source": [
    "## Background and Prior Work"
   ]
  },
  {
   "cell_type": "markdown",
   "metadata": {},
   "source": [
    "Due to the uneven ratio of health inspectors to restaurants, there has been many prior studies that look into how the process can be made more efficient so that health inspectors are not assigned to restaurants randomly. There was a study that looked into the relationship between density of health violations and zipcodes. Zipcodes that were more densely populated with restaurants contained a majority of the health violations within the city. The conclusion was that health inspectors should prioritize zipcodes that are more densely populated. (1)\n",
    "\n",
    "When it comes to the health standards of a restaurant, the group that it affects the most are the consumers. There have been studies that gathered data from consumers to gauge their thoughts on health inspections and the level of influence the results should have. The study concluded that consumers' expectations of health scores were much higher than what they were on average in reality and that there should be more inspections throughout the year. (2)\n",
    "\n",
    "References (include links):\n",
    "\n",
    "1) https://nycdatascience.com/blog/student-works/san-francisco-restaurant-inspection-analysis-visualization/\n",
    "\n",
    "2) https://www.elsevier.com/about/press-releases/research-and-journals/restaurant-inspections-public-perceptions-vs.-reality"
   ]
  },
  {
   "cell_type": "markdown",
   "metadata": {},
   "source": [
    "# Hypothesis\n"
   ]
  },
  {
   "cell_type": "markdown",
   "metadata": {},
   "source": [
    "When consumers go to restaurants, they tend to take into account more than just the quality of the food in their review of the experience; this is more accurate for areas with a higher density of restaurants as it suggests the area is densely populated. Therefore, there should be a relationship between user reviews and health violations and by using the consumers' input, the priority of health evaluations can be fine tuned to prioritize which restaurants should be inspected."
   ]
  },
  {
   "cell_type": "markdown",
   "metadata": {},
   "source": [
    "# Dataset(s)"
   ]
  },
  {
   "cell_type": "markdown",
   "metadata": {},
   "source": [
    "This dataset contains information about 3000 restaurants in North Carolina, such as its location and contact information.\n",
    "\n",
    "- Dataset Name: restaurants\n",
    "- Link to the dataset: restaurants.csv\n",
    "- Number of observations: 3324\n",
    "\n",
    "This dataset contains information of restuarant violations in North Carolina, including the violation and its severity.\n",
    "\n",
    "- Dataset Name: violations\n",
    "- Link to the dataset: violations.csv\n",
    "- Number of observations: 189802\n",
    "\n",
    "This dataset contains information of restaurants from Yelp, such as its average review rating and number of reviews. \n",
    "\n",
    "- Dataset Name: yelp\n",
    "- Link to the dataset: yelp.csv\n",
    "- Number of observations: 3688\n",
    "\n",
    "In order to combine these datasets, we will have to merge restaurants and violations by hsisid and then merge with yelp by address. "
   ]
  },
  {
   "cell_type": "markdown",
   "metadata": {},
   "source": [
    "# Setup"
   ]
  },
  {
   "cell_type": "markdown",
   "metadata": {},
   "source": [
    "Before we start, we will import all the packages we need for our analysis."
   ]
  },
  {
   "cell_type": "code",
   "execution_count": 1,
   "metadata": {},
   "outputs": [],
   "source": [
    "# Imports \n",
    "%matplotlib inline\n",
    "\n",
    "import numpy as np\n",
    "import pandas as pd\n",
    "import matplotlib.pyplot as plt\n",
    "\n",
    "import seaborn as sns\n",
    "sns.set()\n",
    "sns.set_context('talk')\n",
    "\n",
    "import warnings\n",
    "warnings.filterwarnings('ignore')\n",
    "\n",
    "import patsy\n",
    "import statsmodels.api as sm\n",
    "import scipy.stats as stats\n",
    "from scipy.stats import ttest_ind, chisquare, normaltest"
   ]
  },
  {
   "cell_type": "markdown",
   "metadata": {},
   "source": [
    "We first load in the datasets that we will be working with."
   ]
  },
  {
   "cell_type": "code",
   "execution_count": 2,
   "metadata": {},
   "outputs": [],
   "source": [
    "restaurants = pd.read_csv('restaurants.csv')\n",
    "violations = pd.read_csv('violations.csv')\n",
    "yelp = pd.read_csv('yelp.csv')"
   ]
  },
  {
   "cell_type": "markdown",
   "metadata": {},
   "source": [
    "# Data Cleaning"
   ]
  },
  {
   "cell_type": "markdown",
   "metadata": {},
   "source": [
    "Next, we should remove all the columns in the data frames that we do not need for our analysis. We are only interested in the review of a restaurant and whether there has been a violation so we will drop everything else that is irrelevant."
   ]
  },
  {
   "cell_type": "code",
   "execution_count": 3,
   "metadata": {},
   "outputs": [],
   "source": [
    "restaurants = restaurants.drop(columns = [\"X.objectid\", \"name\", \"address2\", \"city\", \"state\", \"restaurantopendate\", \"x\", \"y\", \"geocodestatus\", \"phonenumber\", \"facilitytype\"])\n",
    "violations = violations.drop(columns = [\"comments\", \"shortdesc\", \"severity\", \"critical\", \"X.objectid\", \"inspectdate\", \"statecode\", \"category\", \"pointvalue\", \"questionno\", \"violationtype\", \"count\", \"cdcriskfactor\", \"cdcdataitem\", \"observationtype\", \"inspectedby\"])\n",
    "violations.drop_duplicates(subset =\"hsisid\", keep = 'first', inplace = True) \n",
    "yelp = yelp.drop(columns = [\"review_count\", \"id\", \"is_closed\", \"latitude\", \"longitude\", \"italian\", \"newamerican\", \"chicken_wings\", \"delis\", \"bars\", \"salad\", \"seafood\", \"bbq\", \"sandwiches\", \"pizza\", \"tradamerican\", \"burgers\", \"mexican\", \"grocery\", \"breakfast_brunch\", \"coffee\", \"chinese\", \"bakeries\", \"sushi\", \"hotdogs\", \"phone\", \"price\"])"
   ]
  },
  {
   "cell_type": "markdown",
   "metadata": {},
   "source": [
    "#### Functions required to combine the data into one data frame."
   ]
  },
  {
   "cell_type": "markdown",
   "metadata": {},
   "source": [
    "Since some of the zipcodes in restaurants contain a zipcode in the form xxxxx-xxxx, we need to create a function to standardize the zip so that we can merge the dataframes. remove_zip will remove the -xxxx portion if it exists in the zipcode."
   ]
  },
  {
   "cell_type": "code",
   "execution_count": 4,
   "metadata": {},
   "outputs": [],
   "source": [
    "def remove_zip(string):\n",
    "    \n",
    "    if string == np.nan:\n",
    "        return np.nan\n",
    "    elif len(str(string)) > 5:\n",
    "        output = string[:5]\n",
    "    else:\n",
    "        output = string\n",
    "\n",
    "    return output"
   ]
  },
  {
   "cell_type": "markdown",
   "metadata": {},
   "source": [
    "With the function defined, we can now merge yelp with restaurants and violations. By using the function, we can merge both the postalcode and zip_code columns into one column to preserve as much of our data as possible."
   ]
  },
  {
   "cell_type": "code",
   "execution_count": 5,
   "metadata": {},
   "outputs": [],
   "source": [
    "rv = pd.merge(restaurants, violations, on='hsisid', how='left')\n",
    "rv['postalcode'] = rv['postalcode'].apply(remove_zip)\n",
    "df = pd.merge(yelp, rv, on='address1', how='left')\n",
    "\n",
    "zipcode = df[\"zip_code\"].astype(str) + df[\"postalcode\"].astype(str)\n",
    "zipcode.columns = ['zipcode']\n",
    "df['zipcode'] = zipcode\n",
    "df['zipcode'] = df['zipcode'].apply(remove_zip)"
   ]
  },
  {
   "cell_type": "markdown",
   "metadata": {},
   "source": [
    "Since not all restaurants have had a violation, we will have to look at df where the violationcode is null and replace that with zeroes to symbolize not having a violation. To simplify the dataframe, we will create a new column to represent whether the restaurant had a health violation, based on the violations dataframe."
   ]
  },
  {
   "cell_type": "code",
   "execution_count": 6,
   "metadata": {},
   "outputs": [],
   "source": [
    "df['violationcode'] = df['violationcode'].fillna(False)\n",
    "df.loc[df.violationcode != False, 'violationcode'] = True"
   ]
  },
  {
   "cell_type": "markdown",
   "metadata": {},
   "source": [
    "Since the columns hsisd and address1 were only used to merge the datasets together, we can now drop them as we do not need it in our analysis. The information from the two columns zip_code and postalcode was used to create zipcode, so we will not need that information anymore either."
   ]
  },
  {
   "cell_type": "code",
   "execution_count": 7,
   "metadata": {},
   "outputs": [
    {
     "data": {
      "text/html": [
       "<div>\n",
       "<style scoped>\n",
       "    .dataframe tbody tr th:only-of-type {\n",
       "        vertical-align: middle;\n",
       "    }\n",
       "\n",
       "    .dataframe tbody tr th {\n",
       "        vertical-align: top;\n",
       "    }\n",
       "\n",
       "    .dataframe thead th {\n",
       "        text-align: right;\n",
       "    }\n",
       "</style>\n",
       "<table border=\"1\" class=\"dataframe\">\n",
       "  <thead>\n",
       "    <tr style=\"text-align: right;\">\n",
       "      <th></th>\n",
       "      <th>rating</th>\n",
       "      <th>violationcode</th>\n",
       "      <th>zipcode</th>\n",
       "    </tr>\n",
       "    <tr>\n",
       "      <th>name</th>\n",
       "      <th></th>\n",
       "      <th></th>\n",
       "      <th></th>\n",
       "    </tr>\n",
       "  </thead>\n",
       "  <tbody>\n",
       "    <tr>\n",
       "      <th>42nd street oyster bar - rdu airport</th>\n",
       "      <td>2.5</td>\n",
       "      <td>False</td>\n",
       "      <td>27560</td>\n",
       "    </tr>\n",
       "    <tr>\n",
       "      <th>aldi foods</th>\n",
       "      <td>4.0</td>\n",
       "      <td>False</td>\n",
       "      <td>27519</td>\n",
       "    </tr>\n",
       "    <tr>\n",
       "      <th>luciano pizzeria ristorante</th>\n",
       "      <td>5.0</td>\n",
       "      <td>False</td>\n",
       "      <td>27612</td>\n",
       "    </tr>\n",
       "    <tr>\n",
       "      <th>olive garden italian restaurant</th>\n",
       "      <td>3.0</td>\n",
       "      <td>False</td>\n",
       "      <td>27893</td>\n",
       "    </tr>\n",
       "    <tr>\n",
       "      <th>subway</th>\n",
       "      <td>3.5</td>\n",
       "      <td>False</td>\n",
       "      <td>27896</td>\n",
       "    </tr>\n",
       "    <tr>\n",
       "      <th>...</th>\n",
       "      <td>...</td>\n",
       "      <td>...</td>\n",
       "      <td>...</td>\n",
       "    </tr>\n",
       "    <tr>\n",
       "      <th>carter-finley stadium</th>\n",
       "      <td>3.5</td>\n",
       "      <td>False</td>\n",
       "      <td>27607</td>\n",
       "    </tr>\n",
       "    <tr>\n",
       "      <th>raleigh little theatre</th>\n",
       "      <td>3.5</td>\n",
       "      <td>False</td>\n",
       "      <td>27607</td>\n",
       "    </tr>\n",
       "    <tr>\n",
       "      <th>sky zone trampoline park, durham</th>\n",
       "      <td>4.0</td>\n",
       "      <td>False</td>\n",
       "      <td>27701</td>\n",
       "    </tr>\n",
       "    <tr>\n",
       "      <th>highgrove estate</th>\n",
       "      <td>3.5</td>\n",
       "      <td>False</td>\n",
       "      <td>27526</td>\n",
       "    </tr>\n",
       "    <tr>\n",
       "      <th>banfield pet hospital</th>\n",
       "      <td>2.0</td>\n",
       "      <td>False</td>\n",
       "      <td>27612</td>\n",
       "    </tr>\n",
       "  </tbody>\n",
       "</table>\n",
       "<p>3693 rows × 3 columns</p>\n",
       "</div>"
      ],
      "text/plain": [
       "                                      rating  violationcode zipcode\n",
       "name                                                               \n",
       "42nd street oyster bar - rdu airport     2.5          False   27560\n",
       "aldi foods                               4.0          False   27519\n",
       "luciano pizzeria ristorante              5.0          False   27612\n",
       "olive garden italian restaurant          3.0          False   27893\n",
       "subway                                   3.5          False   27896\n",
       "...                                      ...            ...     ...\n",
       "carter-finley stadium                    3.5          False   27607\n",
       "raleigh little theatre                   3.5          False   27607\n",
       "sky zone trampoline park, durham         4.0          False   27701\n",
       "highgrove estate                         3.5          False   27526\n",
       "banfield pet hospital                    2.0          False   27612\n",
       "\n",
       "[3693 rows x 3 columns]"
      ]
     },
     "execution_count": 7,
     "metadata": {},
     "output_type": "execute_result"
    }
   ],
   "source": [
    "df = df.drop(columns = ['hsisid', 'address1', 'postalcode', 'zip_code'])\n",
    "df = df.set_index('name')\n",
    "df"
   ]
  },
  {
   "cell_type": "markdown",
   "metadata": {},
   "source": [
    "# Data Analysis & Results"
   ]
  },
  {
   "cell_type": "markdown",
   "metadata": {},
   "source": [
    "First we will look at the distribution of violationcodes and reviews separately."
   ]
  },
  {
   "cell_type": "code",
   "execution_count": 8,
   "metadata": {},
   "outputs": [
    {
     "data": {
      "image/png": "[encoded data removed]",
      "text/plain": [
       "<Figure size 432x288 with 1 Axes>"
      ]
     },
     "metadata": {
      "needs_background": "light"
     },
     "output_type": "display_data"
    }
   ],
   "source": [
    "sns.countplot(x='violationcode', data=df)\n",
    "plt.xlabel('Violation Codes');"
   ]
  },
  {
   "cell_type": "markdown",
   "metadata": {},
   "source": [
    "According to this chart, we can see that a majority of the restaurants in our dataset do not have any violation codes."
   ]
  },
  {
   "cell_type": "code",
   "execution_count": 9,
   "metadata": {},
   "outputs": [
    {
     "data": {
      "image/png": "[encoded data removed]",
      "text/plain": [
       "<Figure size 432x288 with 1 Axes>"
      ]
     },
     "metadata": {
      "needs_background": "light"
     },
     "output_type": "display_data"
    }
   ],
   "source": [
    "sns.countplot(x='rating', data=df)\n",
    "plt.xlabel('Yelp Reviews');"
   ]
  },
  {
   "cell_type": "markdown",
   "metadata": {},
   "source": [
    "The Yelp Reviews graph also show that a majority of yelp reviews are around a 3 to 4 out of 5, which supports our hypothesis that higher reviews can mean less health violations."
   ]
  },
  {
   "cell_type": "code",
   "execution_count": 10,
   "metadata": {},
   "outputs": [
    {
     "data": {
      "image/png": "[encoded data removed]",
      "text/plain": [
       "<Figure size 432x288 with 1 Axes>"
      ]
     },
     "metadata": {
      "needs_background": "light"
     },
     "output_type": "display_data"
    }
   ],
   "source": [
    "ax = sns.countplot(x='rating', hue='violationcode', data=df)\n",
    "ax.set_title('Most violations happen at restaurants with higher reviews', loc='center')\n",
    "ax.set_ylabel('Count')\n",
    "ax.set_xlabel('Yelp Reviews');"
   ]
  },
  {
   "cell_type": "markdown",
   "metadata": {},
   "source": [
    "However, by putting the data together, we can see that most of the restaurants with health violations also have higher Yelp reviews which contradicts the idea that user reviews can help dictate the priority of health inspections at restaurants. Let's confirm this idea using regression."
   ]
  },
  {
   "cell_type": "code",
   "execution_count": 11,
   "metadata": {},
   "outputs": [
    {
     "name": "stdout",
     "output_type": "stream",
     "text": [
      "                            OLS Regression Results                            \n",
      "==============================================================================\n",
      "Dep. Variable:                 rating   R-squared:                       0.001\n",
      "Model:                            OLS   Adj. R-squared:                  0.001\n",
      "Method:                 Least Squares   F-statistic:                     5.032\n",
      "Date:                Wed, 10 Jun 2020   Prob (F-statistic):             0.0249\n",
      "Time:                        22:27:08   Log-Likelihood:                -4768.9\n",
      "No. Observations:                3693   AIC:                             9542.\n",
      "Df Residuals:                    3691   BIC:                             9554.\n",
      "Df Model:                           1                                         \n",
      "Covariance Type:            nonrobust                                         \n",
      "=========================================================================================\n",
      "                            coef    std err          t      P>|t|      [0.025      0.975]\n",
      "-----------------------------------------------------------------------------------------\n",
      "Intercept                 3.6293      0.015    247.740      0.000       3.601       3.658\n",
      "violationcode[T.True]    -0.2219      0.099     -2.243      0.025      -0.416      -0.028\n",
      "==============================================================================\n",
      "Omnibus:                      214.080   Durbin-Watson:                   1.855\n",
      "Prob(Omnibus):                  0.000   Jarque-Bera (JB):              251.452\n",
      "Skew:                          -0.620   Prob(JB):                     2.50e-55\n",
      "Kurtosis:                       3.311   Cond. No.                         6.83\n",
      "==============================================================================\n",
      "\n",
      "Warnings:\n",
      "[1] Standard Errors assume that the covariance matrix of the errors is correctly specified.\n"
     ]
    }
   ],
   "source": [
    "outcome, predictors = patsy.dmatrices('rating ~ violationcode', df)\n",
    "mod = sm.OLS(outcome, predictors)\n",
    "res = mod.fit()\n",
    "print(res.summary())"
   ]
  },
  {
   "cell_type": "markdown",
   "metadata": {},
   "source": [
    "As we can see, the coefficient for violation code is very close to zero which suggests that there is not a strong relationship between Yelp reviews and health violations as we could see in the bar plot earlier."
   ]
  },
  {
   "cell_type": "markdown",
   "metadata": {},
   "source": [
    "We will now look at whether there is a relationship between zipcodes and health violations. Based on the graph below, the number of restaurants in each zipcodes are relatively spread out."
   ]
  },
  {
   "cell_type": "code",
   "execution_count": 12,
   "metadata": {},
   "outputs": [
    {
     "data": {
      "image/png": "[encoded data removed]",
      "text/plain": [
       "<Figure size 432x288 with 1 Axes>"
      ]
     },
     "metadata": {
      "needs_background": "light"
     },
     "output_type": "display_data"
    }
   ],
   "source": [
    "sns.countplot(x='zipcode', data=df)\n",
    "plt.xlabel('Zipcodes');"
   ]
  },
  {
   "cell_type": "markdown",
   "metadata": {},
   "source": [
    "We then look at the relationship between zipcode and health violations directly."
   ]
  },
  {
   "cell_type": "code",
   "execution_count": 13,
   "metadata": {},
   "outputs": [
    {
     "name": "stdout",
     "output_type": "stream",
     "text": [
      "                            OLS Regression Results                            \n",
      "==============================================================================\n",
      "Dep. Variable:          violationcode   R-squared:                         nan\n",
      "Model:                            OLS   Adj. R-squared:                    nan\n",
      "Method:                 Least Squares   F-statistic:                       nan\n",
      "Date:                Wed, 10 Jun 2020   Prob (F-statistic):                nan\n",
      "Time:                        22:27:12   Log-Likelihood:                    inf\n",
      "No. Observations:                3693   AIC:                              -inf\n",
      "Df Residuals:                    3692   BIC:                              -inf\n",
      "Df Model:                           0                                         \n",
      "Covariance Type:            nonrobust                                         \n",
      "==============================================================================\n",
      "                 coef    std err          t      P>|t|      [0.025      0.975]\n",
      "------------------------------------------------------------------------------\n",
      "Intercept           0          0        nan        nan           0           0\n",
      "zipcode             0          0        nan        nan           0           0\n",
      "==============================================================================\n",
      "Omnibus:                        1.002   Durbin-Watson:                     nan\n",
      "Prob(Omnibus):                  0.606   Jarque-Bera (JB):             1384.875\n",
      "Skew:                           0.000   Prob(JB):                    1.90e-301\n",
      "Kurtosis:                       0.000   Cond. No.                          inf\n",
      "==============================================================================\n",
      "\n",
      "Warnings:\n",
      "[1] Standard Errors assume that the covariance matrix of the errors is correctly specified.\n",
      "[2] The smallest eigenvalue is      0. This might indicate that there are\n",
      "strong multicollinearity problems or that the design matrix is singular.\n"
     ]
    }
   ],
   "source": [
    "v_encoded = pd.get_dummies(df, columns=df.columns)\n",
    "v_model = v_encoded.reindex(columns = df.columns, fill_value=0)\n",
    "outcome2, predictors2 = patsy.dmatrices('violationcode ~ zipcode', v_model)\n",
    "mod2 = sm.OLS(outcome2, predictors2)\n",
    "res2 = mod2.fit()\n",
    "print(res2.summary())"
   ]
  },
  {
   "cell_type": "markdown",
   "metadata": {},
   "source": [
    "As we can see in this table, the coefficient for zipcode is 0 which means that there is not a strong relationship between health violation and zipcode. Since the standard error is 0, the pvalue is nan. This suggests that the result from the table is valid."
   ]
  },
  {
   "cell_type": "markdown",
   "metadata": {},
   "source": [
    "# Ethics & Privacy"
   ]
  },
  {
   "cell_type": "markdown",
   "metadata": {},
   "source": [
    "Since the data is centralized in North Carolina, it may not be accurate in the sense of all restaurants in the United States. We can check for this by looking at the data from other samples of the population and also seeing if there are any situations that affect North Carolina specifically. If that was the case, then we would have to generalize how we got the samples for the data. Instead of only getting data from North Carolina, obtain random data from throughout the United States.\n",
    "\n",
    "If my hypothesis turned out to be correct, it could benefit the health department and the general public as they would be able to search for health violations more efficiently. Then the standard for health at restaurants would go up, which benefits the patrons that visit those restaurants. It could harm businesses as if the data makes a wrong guess on whether a restaurant is at risk of health violations, then it could waste restaurant resources. Also, since the information is based on data from users, theoretically, they are able to affect the results of a restaurant's likeliness to require a health inspection if the users had the motivation to. Restaurant reviews also discuss other aspects of the consumer experience such as parking and wait times. These may also be describe with the same negative or postive adjectives for a restaurant's cleanliness. These issues can generally be avoided by tweaking the process of data collection so by using machine learning, the algorithm can be improved and trained through old datasets.\n"
   ]
  },
  {
   "cell_type": "markdown",
   "metadata": {},
   "source": [
    "# Conclusion & Discussion"
   ]
  },
  {
   "cell_type": "markdown",
   "metadata": {},
   "source": [
    "I attempted to look at whether there was a relationship between user reviews zipcodes and health violations. I hypothesized that there would be a relationship between the three as many customers write detailed reviews about a restaurant, including the cleanliness of a restaurant. I also expected that there would be a relationship between health violations and zipcodes as a zipcode with a higher density of restaurants could mean that there are more restaurants that violate health regulations. However, the result that I arrived at did not support my hypothesis.\n",
    "\n",
    "By looking through the data of a few thousand restaurants and comparing the results to whether there was a health violation, I arrived at the result that there is not a strong relationship between user reviews, zipcodes and health violations. However, this does not mean that there is not a relationship, because the data that was used is limited. Since the data is from one state, there may be other factors that caused the results that I received. Also, the reviews that were used generalized. Ideally, if the data contained individual reviews, it would be possible to use machine learning to look through reviews for a restaurant to determine whether it may be violating health standards or not. If this can be proved to be effective, then it would be able to increase the productivity of health inspections which in turn will motivate customers to go to restaurants, boosting the economy."
   ]
  }
 ],
 "metadata": {
  "kernelspec": {
   "display_name": "Python 3",
   "language": "python",
   "name": "python3"
  },
  "language_info": {
   "codemirror_mode": {
    "name": "ipython",
    "version": 3
   },
   "file_extension": ".py",
   "mimetype": "text/x-python",
   "name": "python",
   "nbconvert_exporter": "python",
   "pygments_lexer": "ipython3",
   "version": "3.6.7"
  }
 },
 "nbformat": 4,
 "nbformat_minor": 2
}
