{
 "cells": [
  {
   "cell_type": "markdown",
   "metadata": {},
   "source": [
    "# COGS 108 Final Project"
   ]
  },
  {
   "cell_type": "markdown",
   "metadata": {},
   "source": [
    "# Overview\n",
    "An analysis on health inspection data of food service facilities from Wake County, North Carolina, USA. I focused on finding factors that could potentially affect the score of a health inspection and analyzed their relationship. After cleaning and processing the datasets, I used some statistical methods to build a model that represents and predicts the score of a health inspection."
   ]
  },
  {
   "cell_type": "markdown",
   "metadata": {},
   "source": [
    "# Name and GitHub: \n",
    "Name: Fransisca Olivia Sudjati\n",
    "\n",
    "GitHub: oliviasudjati"
   ]
  },
  {
   "cell_type": "markdown",
   "metadata": {},
   "source": [
    "# Research Question\n",
    "Can we determine the health inspection score of these food service facilities based on some variables? Are factors like the amount of violations conducted before, the severity of the violations, or even the median income of the residing area correlated to these scores?"
   ]
  },
  {
   "cell_type": "markdown",
   "metadata": {},
   "source": [
    "## Background and Prior Work\n",
    "\n",
    "Health inspections are done by the Wake County Health Department, per NC state health regulations. The twelve municipalities that fall under Wake County include: Apex, Cary, Fuquay-Varina, Garner, Holly Springs, Knightdale, Morrisville, Raleigh, Rolesville, Wake Forest, Wendell, and Zebulon (1) . Scores are on a scale from 0-100, with 0 being the lowest and 100 the highest. Each food service facility are assigned an HSISID, a unique state code identifying the facility (2).\n",
    "\n",
    "The frequency at which facilities are inspected depend on the assigned risk category (2), where:\n",
    "\n",
    "-) Risk Category I: applies to food service establishments that prepare only non-potentially hazardous foods, inspected once a year.\n",
    "\n",
    "-) Risk Category II: applies to food service establishments that prepare only non-potentially hazardous foods, inspected twice a year.\n",
    "\n",
    "-) Risk Category III: applies to food service establishments that cook and cool no more than three potentially hazardous foods inspected three times a year.\n",
    "\n",
    "-) Risk Category IV: applies to food service establishments that cook and cool no more than three potentially hazardous foods. Applies to food service establishments that cook and cool an unlimited number of potentially hazardous foods. This category also includes those facilities using specialized processes or serving a highly susceptible population. Inspected 4 times a year.\n",
    "\n",
    "Health inspection grades are made available to the public through an online portal (3). The comprehensive food code manual book for restaurants and other types of facilities are also available, although it is dated at 2009, so I am unsure if it is up to date or not (4)(5).\n",
    "\n",
    "References:\n",
    "- 1) [About Wake County](http://www.wakegov.com/about/Pages/municipalities.aspx)\n",
    "- 2) [Wake County food inspection information](http://data-wake.opendata.arcgis.com/datasets/food-inspections)\n",
    "- 3) [Wake County Restaurant and Sanitation Inspection Grades online portal](http://wake-nc.healthinspections.us/qsearch.cfm)\n",
    "- 4) [Wake County restaurants food code manual](http://www.wakegov.com/food/healthinspections/rules/Documents/NC%20Food%20Code%20Manual%202009%20FINAL.pdf)\n",
    "- 5) [Manuals for other types of food service establishments](http://www.wakegov.com/food/healthinspections/rules/Pages/default.aspx) "
   ]
  },
  {
   "cell_type": "markdown",
   "metadata": {},
   "source": [
    "# Hypothesis\n",
    "I will be doing a hypothesis test where under the null, health violation scores have no association with any other variables. The alternative hypothesis is that there exist at least one variable that is associated with the health inspection scores.\n",
    "\n",
    "$$ H_0: \\text{there is no association between health inspection scores and any other variables} $$\n",
    "$$ \\text{vs.} $$\n",
    "$$ H_1: \\text {there exist at least one variable that is associated with health inspection scores} $$\n",
    "\n",
    "I formed this hypothesis as the null always assumes no relationship between the parameters, but my own prediction is there will be at least one variable associated with the health inspection scores, as there are many variables that could affect this. Probability wise, I think that it is more likely for at least one of these variables to be statistically significant."
   ]
  },
  {
   "cell_type": "markdown",
   "metadata": {},
   "source": [
    "# Datasets\n",
    "* #### inspections.csv\n",
    "\n",
    "Health inspection data for food service facilities in Wake County from 2012-2016, available for use to the public. Every observation has a HSISID that is unique for each facility. Information included are identifiers about the facility such as the name, phone number, zipcode, address and longitude and latitude coordinates of the facility, as well as information regarding the inspection itself. These include score of the inspection, date, inspector name, amount of critical and non-critical at the time, if any, and the amount of any previous violations. There are some columns that I do not understand, such as avg_neighbor_num_non_critical/critical, top_match, and second match. I could not find information regarding these columns online.\n",
    "\n",
    "Number of observations: 18466\n",
    "\n",
    "Link: [Food inspection data](http://data-wake.opendata.arcgis.com/datasets/food-inspections)\n",
    "\n",
    "* #### restaurants.csv\n",
    "\n",
    "Information about food facilities in Wake County. The name of the file is restaurants but some of the observation in the data are categorized as institutional food service or public lunch rooms. Each observation has a unique HSISID like inspection.csv. There was another column that seemed like a unique identifier called X.objectid, but I could not find any information about it.\n",
    "\n",
    "Number of observations: 3324\n",
    "\n",
    "Link: [Restaurants data](http://data-wake.opendata.arcgis.com/datasets/restaurants-in-wake-county?geometry=-80.380%2C35.405%2C-76.864%2C36.184)\n",
    "\n",
    "* #### violations.csv\n",
    "\n",
    "Data about health inspections violations. Also include the HSISID identifier, like restaurants.csv and inspections.csv. Includes the date of the violation, whether it is critical or not, and the severity. Severity are grouped into: core, priority, and priority foundation. Priority refers to items that most directly eliminate or reduce a hazard associated with foodborne illness, while Priority Foundation refers to items that help keep Priority violations in compliance and support Priority items. Core refers to items that are related to general sanitation and facility maintenance.\n",
    "\n",
    "Number of observations: 189802\n",
    "\n",
    "Link: [Health inspection violations](http://data-wake.opendata.arcgis.com/datasets/food-inspection-violations)\n",
    "\n",
    "* #### zipcodes.csv\n",
    "\n",
    "Zipcodes in Wake County along with various population information within each zipcode, such as median_income_household, median_household_income, per_capita_income_dollar, and the percentage of non-white residents. It is unclear when this data was observed.\n",
    "\n",
    "Number of observations: 38\n",
    "\n",
    "I plan on merging the data with HSISID since it is a unique identifier for each establishment"
   ]
  },
  {
   "cell_type": "markdown",
   "metadata": {},
   "source": [
    "# Setup"
   ]
  },
  {
   "cell_type": "code",
   "execution_count": 1,
   "metadata": {},
   "outputs": [],
   "source": [
    "# Imports \n",
    "%matplotlib inline\n",
    "import numpy as np\n",
    "import pandas as pd\n",
    "import matplotlib.pyplot as plt\n",
    "import sklearn\n",
    "import seaborn as sns\n",
    "sns.set()\n",
    "sns.set_context('talk')\n",
    "import warnings\n",
    "warnings.filterwarnings('ignore')\n",
    "import patsy\n",
    "import statsmodels.api as sm\n",
    "import scipy.stats as stats\n",
    "import random\n",
    "from random import sample\n",
    "from scipy.stats import norm\n",
    "from sklearn.linear_model import LinearRegression\n",
    "from sklearn.preprocessing import StandardScaler\n",
    "from sklearn.decomposition import PCA\n",
    "from sklearn.datasets import load_digits\n",
    "from sklearn.linear_model import Lasso\n",
    "from sklearn.metrics import mean_squared_error\n",
    "from sklearn.model_selection import GridSearchCV\n",
    "from sklearn.linear_model import Ridge\n",
    "plt.rcParams['figure.figsize'] = (10,10)"
   ]
  },
  {
   "cell_type": "markdown",
   "metadata": {},
   "source": [
    "# Data Cleaning"
   ]
  },
  {
   "cell_type": "markdown",
   "metadata": {},
   "source": [
    "### Loading Data"
   ]
  },
  {
   "cell_type": "code",
   "execution_count": 2,
   "metadata": {},
   "outputs": [],
   "source": [
    "insp= pd.read_csv(\"inspections.csv\")\n",
    "rest= pd.read_csv(\"restaurants.csv\")\n",
    "viol= pd.read_csv(\"violations.csv\")\n",
    "zips= pd.read_csv(\"zipcodes.csv\")"
   ]
  },
  {
   "cell_type": "markdown",
   "metadata": {},
   "source": [
    "### Cleaning inspection.csv"
   ]
  },
  {
   "cell_type": "code",
   "execution_count": 3,
   "metadata": {
    "scrolled": false
   },
   "outputs": [],
   "source": [
    "insp= pd.read_csv(\"inspections.csv\")"
   ]
  },
  {
   "cell_type": "markdown",
   "metadata": {},
   "source": [
    "I removed rows that did not seem relevant to the analysis like inspector name, and removed null rows."
   ]
  },
  {
   "cell_type": "code",
   "execution_count": 4,
   "metadata": {},
   "outputs": [],
   "source": [
    "col_to_drop= ['avg_neighbor_num_critical', 'avg_neighbor_num_non_critical','top_match',\n",
    "              'second_match','num_critical_previous', 'num_non_critical_previous', \n",
    "              'previous_inspection_by_same_inspector', 'days_since_previous_inspection',\n",
    "             'address2', 'phonenumber', 'postalcode', 'restaurantopendate', 'num_non_critical_previous', \n",
    "              'num_critical_previous','num_non_critical_previous','num_non_critical_mean_previous',\n",
    "              'num_critical_mean_previous','critical', 'inspection_num',\n",
    "             'description', 'previous_inspection_date', 'inspectedby', 'inspector_id','geocodestatus', \n",
    "              'days_from_open_date', 'type', 'critical', 'facilitytype']\n",
    "\n",
    "insp= insp.drop(col_to_drop, axis= 1)\n",
    "insp.name= insp.name.str.lower()\n",
    "insp.address1= insp.address1.str.lower()"
   ]
  },
  {
   "cell_type": "markdown",
   "metadata": {},
   "source": [
    "Checking if there are any typos in the city and state names. I noticed other datasets had a lot of typos in the city names."
   ]
  },
  {
   "cell_type": "code",
   "execution_count": 5,
   "metadata": {
    "scrolled": true
   },
   "outputs": [
    {
     "data": {
      "text/plain": [
       "array(['raleigh', 'cary', 'zebulon', 'wake forest', 'garner', 'apex',\n",
       "       'morrisville', 'knightdale', 'fuquay-varina', 'holly springs',\n",
       "       'wendell', 'rolesville', 'new hill', 'clayton', 'willow spring',\n",
       "       'angier', 'creedmoor'], dtype=object)"
      ]
     },
     "execution_count": 5,
     "metadata": {},
     "output_type": "execute_result"
    }
   ],
   "source": [
    "insp.city.unique()"
   ]
  },
  {
   "cell_type": "code",
   "execution_count": 6,
   "metadata": {},
   "outputs": [
    {
     "data": {
      "text/plain": [
       "array(['NC'], dtype=object)"
      ]
     },
     "execution_count": 6,
     "metadata": {},
     "output_type": "execute_result"
    }
   ],
   "source": [
    "insp.state.unique()"
   ]
  },
  {
   "cell_type": "code",
   "execution_count": 7,
   "metadata": {
    "scrolled": true
   },
   "outputs": [
    {
     "data": {
      "text/html": [
       "<div>\n",
       "<style scoped>\n",
       "    .dataframe tbody tr th:only-of-type {\n",
       "        vertical-align: middle;\n",
       "    }\n",
       "\n",
       "    .dataframe tbody tr th {\n",
       "        vertical-align: top;\n",
       "    }\n",
       "\n",
       "    .dataframe thead th {\n",
       "        text-align: right;\n",
       "    }\n",
       "</style>\n",
       "<table border=\"1\" class=\"dataframe\">\n",
       "  <thead>\n",
       "    <tr style=\"text-align: right;\">\n",
       "      <th></th>\n",
       "      <th>hsisid</th>\n",
       "      <th>date</th>\n",
       "      <th>name</th>\n",
       "      <th>address1</th>\n",
       "      <th>city</th>\n",
       "      <th>state</th>\n",
       "      <th>x</th>\n",
       "      <th>y</th>\n",
       "      <th>zip</th>\n",
       "      <th>score</th>\n",
       "      <th>num_critical</th>\n",
       "      <th>num_non_critical</th>\n",
       "    </tr>\n",
       "  </thead>\n",
       "  <tbody>\n",
       "    <tr>\n",
       "      <th>0</th>\n",
       "      <td>4092013748</td>\n",
       "      <td>2012-09-21T00:00:00Z</td>\n",
       "      <td>cafe 3000 at wake med</td>\n",
       "      <td>3000 new bern ave</td>\n",
       "      <td>raleigh</td>\n",
       "      <td>NC</td>\n",
       "      <td>-78.587963</td>\n",
       "      <td>35.783914</td>\n",
       "      <td>27610</td>\n",
       "      <td>96.0</td>\n",
       "      <td>9</td>\n",
       "      <td>7</td>\n",
       "    </tr>\n",
       "    <tr>\n",
       "      <th>1</th>\n",
       "      <td>4092014046</td>\n",
       "      <td>2012-09-21T00:00:00Z</td>\n",
       "      <td>overtime sports pub</td>\n",
       "      <td>1030-149 n rogers ln</td>\n",
       "      <td>raleigh</td>\n",
       "      <td>NC</td>\n",
       "      <td>-78.549673</td>\n",
       "      <td>35.791986</td>\n",
       "      <td>27610</td>\n",
       "      <td>98.0</td>\n",
       "      <td>0</td>\n",
       "      <td>11</td>\n",
       "    </tr>\n",
       "    <tr>\n",
       "      <th>2</th>\n",
       "      <td>4092015191</td>\n",
       "      <td>2012-09-21T00:00:00Z</td>\n",
       "      <td>taste of china</td>\n",
       "      <td>6209 rock quarry rd</td>\n",
       "      <td>raleigh</td>\n",
       "      <td>NC</td>\n",
       "      <td>-78.547960</td>\n",
       "      <td>35.723125</td>\n",
       "      <td>27610</td>\n",
       "      <td>97.0</td>\n",
       "      <td>4</td>\n",
       "      <td>8</td>\n",
       "    </tr>\n",
       "    <tr>\n",
       "      <th>3</th>\n",
       "      <td>4092016122</td>\n",
       "      <td>2012-09-21T00:00:00Z</td>\n",
       "      <td>panera bread #1643</td>\n",
       "      <td>1065 darrington dr</td>\n",
       "      <td>cary</td>\n",
       "      <td>NC</td>\n",
       "      <td>-78.815727</td>\n",
       "      <td>35.799249</td>\n",
       "      <td>27513</td>\n",
       "      <td>99.0</td>\n",
       "      <td>2</td>\n",
       "      <td>3</td>\n",
       "    </tr>\n",
       "    <tr>\n",
       "      <th>4</th>\n",
       "      <td>4092021513</td>\n",
       "      <td>2012-09-21T00:00:00Z</td>\n",
       "      <td>walmart supercenter #4499-00 deli/bakery</td>\n",
       "      <td>841 e gannon ave</td>\n",
       "      <td>zebulon</td>\n",
       "      <td>NC</td>\n",
       "      <td>-78.296347</td>\n",
       "      <td>35.831285</td>\n",
       "      <td>27597</td>\n",
       "      <td>97.0</td>\n",
       "      <td>2</td>\n",
       "      <td>4</td>\n",
       "    </tr>\n",
       "  </tbody>\n",
       "</table>\n",
       "</div>"
      ],
      "text/plain": [
       "       hsisid                  date                                      name  \\\n",
       "0  4092013748  2012-09-21T00:00:00Z                     cafe 3000 at wake med   \n",
       "1  4092014046  2012-09-21T00:00:00Z                       overtime sports pub   \n",
       "2  4092015191  2012-09-21T00:00:00Z                            taste of china   \n",
       "3  4092016122  2012-09-21T00:00:00Z                        panera bread #1643   \n",
       "4  4092021513  2012-09-21T00:00:00Z  walmart supercenter #4499-00 deli/bakery   \n",
       "\n",
       "               address1     city state          x          y    zip  score  \\\n",
       "0     3000 new bern ave  raleigh    NC -78.587963  35.783914  27610   96.0   \n",
       "1  1030-149 n rogers ln  raleigh    NC -78.549673  35.791986  27610   98.0   \n",
       "2   6209 rock quarry rd  raleigh    NC -78.547960  35.723125  27610   97.0   \n",
       "3    1065 darrington dr     cary    NC -78.815727  35.799249  27513   99.0   \n",
       "4      841 e gannon ave  zebulon    NC -78.296347  35.831285  27597   97.0   \n",
       "\n",
       "   num_critical  num_non_critical  \n",
       "0             9                 7  \n",
       "1             0                11  \n",
       "2             4                 8  \n",
       "3             2                 3  \n",
       "4             2                 4  "
      ]
     },
     "execution_count": 7,
     "metadata": {},
     "output_type": "execute_result"
    }
   ],
   "source": [
    "insp.head()"
   ]
  },
  {
   "cell_type": "markdown",
   "metadata": {},
   "source": [
    "### Cleaning restaurants.csv"
   ]
  },
  {
   "cell_type": "markdown",
   "metadata": {},
   "source": [
    "Dropping any null rows."
   ]
  },
  {
   "cell_type": "code",
   "execution_count": 8,
   "metadata": {
    "scrolled": true
   },
   "outputs": [],
   "source": [
    "rest= rest.dropna(axis= 'rows')"
   ]
  },
  {
   "cell_type": "markdown",
   "metadata": {},
   "source": [
    "I noticed that a lot of the city names were the same but had different typings or typos, and thus are considered as different values. For example, Fuquay-Varina vs. Fuquay Varina, or Research Triangle Park styled as RTP. Removing columns that are not of interest."
   ]
  },
  {
   "cell_type": "code",
   "execution_count": 9,
   "metadata": {
    "scrolled": true
   },
   "outputs": [
    {
     "name": "stdout",
     "output_type": "stream",
     "text": [
      "['wendell' 'raleigh' 'knightdale' 'morrisville' 'zebulon' 'wake forest'\n",
      " 'cary' 'apex' 'rtp' 'rdu' 'new hill' 'fuquay-varina' 'garner'\n",
      " 'rolesville' 'durham' 'holly springs']\n"
     ]
    }
   ],
   "source": [
    "# inconsistent city names, some are duplicates but with lower/upper case or added space\n",
    "# rdu airport and rdu ; fuquay-varina and fuquay varina; rtp and research triangle park\n",
    "\n",
    "rest['city']= rest['city'].str.lower() #transform to all lower case\n",
    "rest['city']= rest['city'].str.strip() #strip trailing spaces\n",
    "rest.loc[rest.city== 'rdu airport', 'city']= 'rdu'\n",
    "rest.loc[rest.city== 'fuquay varina', 'city']= 'fuquay-varina'\n",
    "rest.loc[rest.city== 'research triangle park', 'city']= 'rtp'\n",
    "rest.loc[rest.city== 'holly spring', 'city']= 'holly springs'\n",
    "rest.loc[rest.city== 'morrisvile', 'city']= 'morrisville'\n",
    "rest= rest.drop(['X.objectid','address2', 'geocodestatus', 'restaurantopendate', 'phonenumber',\n",
    "                 'facilitytype','postalcode'] ,axis= 1)\n",
    "print(rest.city.unique())\n",
    "\n",
    "rest.name= rest.name.str.lower()\n",
    "rest.address1= rest.address1.str.lower()"
   ]
  },
  {
   "cell_type": "code",
   "execution_count": 10,
   "metadata": {},
   "outputs": [
    {
     "data": {
      "text/html": [
       "<div>\n",
       "<style scoped>\n",
       "    .dataframe tbody tr th:only-of-type {\n",
       "        vertical-align: middle;\n",
       "    }\n",
       "\n",
       "    .dataframe tbody tr th {\n",
       "        vertical-align: top;\n",
       "    }\n",
       "\n",
       "    .dataframe thead th {\n",
       "        text-align: right;\n",
       "    }\n",
       "</style>\n",
       "<table border=\"1\" class=\"dataframe\">\n",
       "  <thead>\n",
       "    <tr style=\"text-align: right;\">\n",
       "      <th></th>\n",
       "      <th>hsisid</th>\n",
       "      <th>name</th>\n",
       "      <th>address1</th>\n",
       "      <th>city</th>\n",
       "      <th>state</th>\n",
       "      <th>x</th>\n",
       "      <th>y</th>\n",
       "    </tr>\n",
       "  </thead>\n",
       "  <tbody>\n",
       "    <tr>\n",
       "      <th>9</th>\n",
       "      <td>4092010037</td>\n",
       "      <td>aubrey &amp; peedi`s grill</td>\n",
       "      <td>38 n main st</td>\n",
       "      <td>wendell</td>\n",
       "      <td>NC</td>\n",
       "      <td>-78.369452</td>\n",
       "      <td>35.782462</td>\n",
       "    </tr>\n",
       "    <tr>\n",
       "      <th>33</th>\n",
       "      <td>4092015546</td>\n",
       "      <td>hayashi japanese restaurant</td>\n",
       "      <td>13200 new falls of nuese rd</td>\n",
       "      <td>raleigh</td>\n",
       "      <td>NC</td>\n",
       "      <td>-78.559820</td>\n",
       "      <td>35.940755</td>\n",
       "    </tr>\n",
       "    <tr>\n",
       "      <th>35</th>\n",
       "      <td>4092016070</td>\n",
       "      <td>big al's bbq</td>\n",
       "      <td>2920 forestville  rd</td>\n",
       "      <td>raleigh</td>\n",
       "      <td>NC</td>\n",
       "      <td>-78.509310</td>\n",
       "      <td>35.893594</td>\n",
       "    </tr>\n",
       "    <tr>\n",
       "      <th>39</th>\n",
       "      <td>4092016179</td>\n",
       "      <td>freshberry frozen yogurt cafe</td>\n",
       "      <td>2526 hillsborough st</td>\n",
       "      <td>raleigh</td>\n",
       "      <td>NC</td>\n",
       "      <td>-78.669227</td>\n",
       "      <td>35.788352</td>\n",
       "    </tr>\n",
       "    <tr>\n",
       "      <th>67</th>\n",
       "      <td>4092017104</td>\n",
       "      <td>dunkin donuts/baskin robbins #331785</td>\n",
       "      <td>7137 knightdale blvd</td>\n",
       "      <td>knightdale</td>\n",
       "      <td>NC</td>\n",
       "      <td>-78.489760</td>\n",
       "      <td>35.798745</td>\n",
       "    </tr>\n",
       "  </tbody>\n",
       "</table>\n",
       "</div>"
      ],
      "text/plain": [
       "        hsisid                                  name  \\\n",
       "9   4092010037                aubrey & peedi`s grill   \n",
       "33  4092015546           hayashi japanese restaurant   \n",
       "35  4092016070                          big al's bbq   \n",
       "39  4092016179         freshberry frozen yogurt cafe   \n",
       "67  4092017104  dunkin donuts/baskin robbins #331785   \n",
       "\n",
       "                        address1        city state          x          y  \n",
       "9                  38 n main st      wendell    NC -78.369452  35.782462  \n",
       "33  13200 new falls of nuese rd      raleigh    NC -78.559820  35.940755  \n",
       "35         2920 forestville  rd      raleigh    NC -78.509310  35.893594  \n",
       "39         2526 hillsborough st      raleigh    NC -78.669227  35.788352  \n",
       "67         7137 knightdale blvd   knightdale    NC -78.489760  35.798745  "
      ]
     },
     "execution_count": 10,
     "metadata": {},
     "output_type": "execute_result"
    }
   ],
   "source": [
    "rest.head()"
   ]
  },
  {
   "cell_type": "markdown",
   "metadata": {},
   "source": [
    "### Cleaning violations.csv"
   ]
  },
  {
   "cell_type": "markdown",
   "metadata": {},
   "source": [
    "The last 3 columns are mostly empty, so I have to remove those columns first before removing any null row values"
   ]
  },
  {
   "cell_type": "code",
   "execution_count": 11,
   "metadata": {
    "scrolled": true
   },
   "outputs": [],
   "source": [
    "viol= viol.drop(['X.objectid', 'count', 'cdcdataitem', 'cdcriskfactor', 'violationcode','inspectedby',\n",
    "                'shortdesc', 'comments', 'questionno', 'category', 'statecode'], axis= 1)"
   ]
  },
  {
   "cell_type": "markdown",
   "metadata": {},
   "source": [
    "I changed the column critical into 1s and 0s from Yes and No, that way I can possibly use it for regression as a categorical variable."
   ]
  },
  {
   "cell_type": "code",
   "execution_count": 12,
   "metadata": {},
   "outputs": [],
   "source": [
    "viol= viol.dropna(axis= 'rows')\n",
    "viol.loc[viol.critical== 'Yes', 'critical']= 1\n",
    "viol.loc[viol.critical== 'No', 'critical']= 0"
   ]
  },
  {
   "cell_type": "code",
   "execution_count": 13,
   "metadata": {},
   "outputs": [
    {
     "data": {
      "text/html": [
       "<div>\n",
       "<style scoped>\n",
       "    .dataframe tbody tr th:only-of-type {\n",
       "        vertical-align: middle;\n",
       "    }\n",
       "\n",
       "    .dataframe tbody tr th {\n",
       "        vertical-align: top;\n",
       "    }\n",
       "\n",
       "    .dataframe thead th {\n",
       "        text-align: right;\n",
       "    }\n",
       "</style>\n",
       "<table border=\"1\" class=\"dataframe\">\n",
       "  <thead>\n",
       "    <tr style=\"text-align: right;\">\n",
       "      <th></th>\n",
       "      <th>hsisid</th>\n",
       "      <th>inspectdate</th>\n",
       "      <th>critical</th>\n",
       "      <th>severity</th>\n",
       "      <th>pointvalue</th>\n",
       "      <th>observationtype</th>\n",
       "      <th>violationtype</th>\n",
       "    </tr>\n",
       "  </thead>\n",
       "  <tbody>\n",
       "    <tr>\n",
       "      <th>0</th>\n",
       "      <td>4092015279</td>\n",
       "      <td>2014-09-22T00:00:00.000Z</td>\n",
       "      <td>1</td>\n",
       "      <td>Priority Foundation</td>\n",
       "      <td>0</td>\n",
       "      <td>Out</td>\n",
       "      <td>R</td>\n",
       "    </tr>\n",
       "    <tr>\n",
       "      <th>1</th>\n",
       "      <td>4092014572</td>\n",
       "      <td>2014-09-29T00:00:00.000Z</td>\n",
       "      <td>1</td>\n",
       "      <td>Priority Foundation</td>\n",
       "      <td>0</td>\n",
       "      <td>Out</td>\n",
       "      <td>CDI</td>\n",
       "    </tr>\n",
       "    <tr>\n",
       "      <th>2</th>\n",
       "      <td>4092015906</td>\n",
       "      <td>2014-10-01T00:00:00.000Z</td>\n",
       "      <td>1</td>\n",
       "      <td>Priority Foundation</td>\n",
       "      <td>1</td>\n",
       "      <td>Out</td>\n",
       "      <td>CDI</td>\n",
       "    </tr>\n",
       "    <tr>\n",
       "      <th>3</th>\n",
       "      <td>4092013840</td>\n",
       "      <td>2014-10-08T00:00:00.000Z</td>\n",
       "      <td>1</td>\n",
       "      <td>Priority Foundation</td>\n",
       "      <td>0</td>\n",
       "      <td>Out</td>\n",
       "      <td>CDI</td>\n",
       "    </tr>\n",
       "    <tr>\n",
       "      <th>4</th>\n",
       "      <td>4092021788</td>\n",
       "      <td>2014-10-09T00:00:00.000Z</td>\n",
       "      <td>1</td>\n",
       "      <td>Priority Foundation</td>\n",
       "      <td>0</td>\n",
       "      <td>Out</td>\n",
       "      <td>CDI</td>\n",
       "    </tr>\n",
       "  </tbody>\n",
       "</table>\n",
       "</div>"
      ],
      "text/plain": [
       "       hsisid               inspectdate  critical             severity  \\\n",
       "0  4092015279  2014-09-22T00:00:00.000Z         1  Priority Foundation   \n",
       "1  4092014572  2014-09-29T00:00:00.000Z         1  Priority Foundation   \n",
       "2  4092015906  2014-10-01T00:00:00.000Z         1  Priority Foundation   \n",
       "3  4092013840  2014-10-08T00:00:00.000Z         1  Priority Foundation   \n",
       "4  4092021788  2014-10-09T00:00:00.000Z         1  Priority Foundation   \n",
       "\n",
       "   pointvalue observationtype violationtype  \n",
       "0           0             Out             R  \n",
       "1           0             Out           CDI  \n",
       "2           1             Out           CDI  \n",
       "3           0             Out           CDI  \n",
       "4           0             Out           CDI  "
      ]
     },
     "execution_count": 13,
     "metadata": {},
     "output_type": "execute_result"
    }
   ],
   "source": [
    "viol.head()"
   ]
  },
  {
   "cell_type": "markdown",
   "metadata": {},
   "source": [
    "### Cleaning zipcodes.csv"
   ]
  },
  {
   "cell_type": "markdown",
   "metadata": {},
   "source": [
    "Zipcodes.csv looks quite clean, I did not do any cleaning."
   ]
  },
  {
   "cell_type": "code",
   "execution_count": 14,
   "metadata": {},
   "outputs": [
    {
     "data": {
      "text/html": [
       "<div>\n",
       "<style scoped>\n",
       "    .dataframe tbody tr th:only-of-type {\n",
       "        vertical-align: middle;\n",
       "    }\n",
       "\n",
       "    .dataframe tbody tr th {\n",
       "        vertical-align: top;\n",
       "    }\n",
       "\n",
       "    .dataframe thead th {\n",
       "        text-align: right;\n",
       "    }\n",
       "</style>\n",
       "<table border=\"1\" class=\"dataframe\">\n",
       "  <thead>\n",
       "    <tr style=\"text-align: right;\">\n",
       "      <th></th>\n",
       "      <th>zip</th>\n",
       "      <th>median_family_income_dollars</th>\n",
       "      <th>median_household_income_dollars</th>\n",
       "      <th>per_capita_income_dollars</th>\n",
       "      <th>percent_damilies_below_poverty_line</th>\n",
       "      <th>percent_snap_benefits</th>\n",
       "      <th>percent_supplemental_security_income</th>\n",
       "      <th>percent_nonwhite</th>\n",
       "    </tr>\n",
       "  </thead>\n",
       "  <tbody>\n",
       "    <tr>\n",
       "      <th>0</th>\n",
       "      <td>27501</td>\n",
       "      <td>59408</td>\n",
       "      <td>51121</td>\n",
       "      <td>21631</td>\n",
       "      <td>10.5</td>\n",
       "      <td>15.5</td>\n",
       "      <td>5.2</td>\n",
       "      <td>17.9</td>\n",
       "    </tr>\n",
       "    <tr>\n",
       "      <th>1</th>\n",
       "      <td>27502</td>\n",
       "      <td>109891</td>\n",
       "      <td>95857</td>\n",
       "      <td>36763</td>\n",
       "      <td>3.4</td>\n",
       "      <td>2.4</td>\n",
       "      <td>0.8</td>\n",
       "      <td>18.9</td>\n",
       "    </tr>\n",
       "    <tr>\n",
       "      <th>2</th>\n",
       "      <td>27511</td>\n",
       "      <td>82292</td>\n",
       "      <td>67392</td>\n",
       "      <td>33139</td>\n",
       "      <td>9.6</td>\n",
       "      <td>4.5</td>\n",
       "      <td>2.2</td>\n",
       "      <td>24.8</td>\n",
       "    </tr>\n",
       "    <tr>\n",
       "      <th>3</th>\n",
       "      <td>27513</td>\n",
       "      <td>109736</td>\n",
       "      <td>87262</td>\n",
       "      <td>41232</td>\n",
       "      <td>3.8</td>\n",
       "      <td>2.4</td>\n",
       "      <td>1.5</td>\n",
       "      <td>27.8</td>\n",
       "    </tr>\n",
       "    <tr>\n",
       "      <th>4</th>\n",
       "      <td>27518</td>\n",
       "      <td>125432</td>\n",
       "      <td>98247</td>\n",
       "      <td>49865</td>\n",
       "      <td>5.5</td>\n",
       "      <td>1.0</td>\n",
       "      <td>1.7</td>\n",
       "      <td>19.9</td>\n",
       "    </tr>\n",
       "  </tbody>\n",
       "</table>\n",
       "</div>"
      ],
      "text/plain": [
       "     zip  median_family_income_dollars  median_household_income_dollars  \\\n",
       "0  27501                         59408                            51121   \n",
       "1  27502                        109891                            95857   \n",
       "2  27511                         82292                            67392   \n",
       "3  27513                        109736                            87262   \n",
       "4  27518                        125432                            98247   \n",
       "\n",
       "   per_capita_income_dollars  percent_damilies_below_poverty_line  \\\n",
       "0                      21631                                 10.5   \n",
       "1                      36763                                  3.4   \n",
       "2                      33139                                  9.6   \n",
       "3                      41232                                  3.8   \n",
       "4                      49865                                  5.5   \n",
       "\n",
       "   percent_snap_benefits  percent_supplemental_security_income  \\\n",
       "0                   15.5                                   5.2   \n",
       "1                    2.4                                   0.8   \n",
       "2                    4.5                                   2.2   \n",
       "3                    2.4                                   1.5   \n",
       "4                    1.0                                   1.7   \n",
       "\n",
       "   percent_nonwhite  \n",
       "0              17.9  \n",
       "1              18.9  \n",
       "2              24.8  \n",
       "3              27.8  \n",
       "4              19.9  "
      ]
     },
     "execution_count": 14,
     "metadata": {},
     "output_type": "execute_result"
    }
   ],
   "source": [
    "zips.head()"
   ]
  },
  {
   "cell_type": "markdown",
   "metadata": {},
   "source": [
    "I merged restaurants and violations so that I could get more info on what kind of restaurants committed the violations."
   ]
  },
  {
   "cell_type": "code",
   "execution_count": 15,
   "metadata": {},
   "outputs": [
    {
     "data": {
      "text/html": [
       "<div>\n",
       "<style scoped>\n",
       "    .dataframe tbody tr th:only-of-type {\n",
       "        vertical-align: middle;\n",
       "    }\n",
       "\n",
       "    .dataframe tbody tr th {\n",
       "        vertical-align: top;\n",
       "    }\n",
       "\n",
       "    .dataframe thead th {\n",
       "        text-align: right;\n",
       "    }\n",
       "</style>\n",
       "<table border=\"1\" class=\"dataframe\">\n",
       "  <thead>\n",
       "    <tr style=\"text-align: right;\">\n",
       "      <th></th>\n",
       "      <th>hsisid</th>\n",
       "      <th>name</th>\n",
       "      <th>address1</th>\n",
       "      <th>city</th>\n",
       "      <th>state</th>\n",
       "      <th>x</th>\n",
       "      <th>y</th>\n",
       "      <th>inspectdate</th>\n",
       "      <th>critical</th>\n",
       "      <th>severity</th>\n",
       "      <th>pointvalue</th>\n",
       "      <th>observationtype</th>\n",
       "      <th>violationtype</th>\n",
       "      <th>year</th>\n",
       "    </tr>\n",
       "  </thead>\n",
       "  <tbody>\n",
       "    <tr>\n",
       "      <th>0</th>\n",
       "      <td>4092010037</td>\n",
       "      <td>aubrey &amp; peedi`s grill</td>\n",
       "      <td>38 n main st</td>\n",
       "      <td>wendell</td>\n",
       "      <td>NC</td>\n",
       "      <td>-78.369452</td>\n",
       "      <td>35.782462</td>\n",
       "      <td>2013-05-14T00:00:00.000Z</td>\n",
       "      <td>1</td>\n",
       "      <td>Priority Foundation</td>\n",
       "      <td>0</td>\n",
       "      <td>Out</td>\n",
       "      <td>CDI</td>\n",
       "      <td>2013</td>\n",
       "    </tr>\n",
       "    <tr>\n",
       "      <th>1</th>\n",
       "      <td>4092010037</td>\n",
       "      <td>aubrey &amp; peedi`s grill</td>\n",
       "      <td>38 n main st</td>\n",
       "      <td>wendell</td>\n",
       "      <td>NC</td>\n",
       "      <td>-78.369452</td>\n",
       "      <td>35.782462</td>\n",
       "      <td>2014-01-09T00:00:00.000Z</td>\n",
       "      <td>1</td>\n",
       "      <td>Priority Foundation</td>\n",
       "      <td>0</td>\n",
       "      <td>Out</td>\n",
       "      <td>R</td>\n",
       "      <td>2014</td>\n",
       "    </tr>\n",
       "    <tr>\n",
       "      <th>2</th>\n",
       "      <td>4092010037</td>\n",
       "      <td>aubrey &amp; peedi`s grill</td>\n",
       "      <td>38 n main st</td>\n",
       "      <td>wendell</td>\n",
       "      <td>NC</td>\n",
       "      <td>-78.369452</td>\n",
       "      <td>35.782462</td>\n",
       "      <td>2013-05-14T00:00:00.000Z</td>\n",
       "      <td>1</td>\n",
       "      <td>Priority</td>\n",
       "      <td>0</td>\n",
       "      <td>Out</td>\n",
       "      <td>CDI</td>\n",
       "      <td>2013</td>\n",
       "    </tr>\n",
       "    <tr>\n",
       "      <th>3</th>\n",
       "      <td>4092010037</td>\n",
       "      <td>aubrey &amp; peedi`s grill</td>\n",
       "      <td>38 n main st</td>\n",
       "      <td>wendell</td>\n",
       "      <td>NC</td>\n",
       "      <td>-78.369452</td>\n",
       "      <td>35.782462</td>\n",
       "      <td>2014-01-09T00:00:00.000Z</td>\n",
       "      <td>0</td>\n",
       "      <td>Core</td>\n",
       "      <td>0</td>\n",
       "      <td>Out</td>\n",
       "      <td>R</td>\n",
       "      <td>2014</td>\n",
       "    </tr>\n",
       "    <tr>\n",
       "      <th>4</th>\n",
       "      <td>4092010037</td>\n",
       "      <td>aubrey &amp; peedi`s grill</td>\n",
       "      <td>38 n main st</td>\n",
       "      <td>wendell</td>\n",
       "      <td>NC</td>\n",
       "      <td>-78.369452</td>\n",
       "      <td>35.782462</td>\n",
       "      <td>2014-01-09T00:00:00.000Z</td>\n",
       "      <td>1</td>\n",
       "      <td>Priority Foundation</td>\n",
       "      <td>1</td>\n",
       "      <td>Out</td>\n",
       "      <td>CDI</td>\n",
       "      <td>2014</td>\n",
       "    </tr>\n",
       "    <tr>\n",
       "      <th>...</th>\n",
       "      <td>...</td>\n",
       "      <td>...</td>\n",
       "      <td>...</td>\n",
       "      <td>...</td>\n",
       "      <td>...</td>\n",
       "      <td>...</td>\n",
       "      <td>...</td>\n",
       "      <td>...</td>\n",
       "      <td>...</td>\n",
       "      <td>...</td>\n",
       "      <td>...</td>\n",
       "      <td>...</td>\n",
       "      <td>...</td>\n",
       "      <td>...</td>\n",
       "    </tr>\n",
       "    <tr>\n",
       "      <th>8436</th>\n",
       "      <td>4092015870</td>\n",
       "      <td>mcdonald's #32956</td>\n",
       "      <td>8031 old wake forest rd</td>\n",
       "      <td>raleigh</td>\n",
       "      <td>NC</td>\n",
       "      <td>-78.566665</td>\n",
       "      <td>35.868091</td>\n",
       "      <td>2013-02-26T00:00:00.000Z</td>\n",
       "      <td>0</td>\n",
       "      <td>Core</td>\n",
       "      <td>0</td>\n",
       "      <td>Out</td>\n",
       "      <td>CDI</td>\n",
       "      <td>2013</td>\n",
       "    </tr>\n",
       "    <tr>\n",
       "      <th>8437</th>\n",
       "      <td>4092015870</td>\n",
       "      <td>mcdonald's #32956</td>\n",
       "      <td>8031 old wake forest rd</td>\n",
       "      <td>raleigh</td>\n",
       "      <td>NC</td>\n",
       "      <td>-78.566665</td>\n",
       "      <td>35.868091</td>\n",
       "      <td>2013-02-26T00:00:00.000Z</td>\n",
       "      <td>1</td>\n",
       "      <td>Priority</td>\n",
       "      <td>1</td>\n",
       "      <td>Out</td>\n",
       "      <td>CDI</td>\n",
       "      <td>2013</td>\n",
       "    </tr>\n",
       "    <tr>\n",
       "      <th>8438</th>\n",
       "      <td>4092015870</td>\n",
       "      <td>mcdonald's #32956</td>\n",
       "      <td>8031 old wake forest rd</td>\n",
       "      <td>raleigh</td>\n",
       "      <td>NC</td>\n",
       "      <td>-78.566665</td>\n",
       "      <td>35.868091</td>\n",
       "      <td>2014-10-22T00:00:00.000Z</td>\n",
       "      <td>0</td>\n",
       "      <td>Core</td>\n",
       "      <td>0</td>\n",
       "      <td>Out</td>\n",
       "      <td>CDI</td>\n",
       "      <td>2014</td>\n",
       "    </tr>\n",
       "    <tr>\n",
       "      <th>8439</th>\n",
       "      <td>4092015870</td>\n",
       "      <td>mcdonald's #32956</td>\n",
       "      <td>8031 old wake forest rd</td>\n",
       "      <td>raleigh</td>\n",
       "      <td>NC</td>\n",
       "      <td>-78.566665</td>\n",
       "      <td>35.868091</td>\n",
       "      <td>2015-06-10T00:00:00.000Z</td>\n",
       "      <td>1</td>\n",
       "      <td>Priority</td>\n",
       "      <td>1</td>\n",
       "      <td>Out</td>\n",
       "      <td>CDI</td>\n",
       "      <td>2015</td>\n",
       "    </tr>\n",
       "    <tr>\n",
       "      <th>8440</th>\n",
       "      <td>4092015870</td>\n",
       "      <td>mcdonald's #32956</td>\n",
       "      <td>8031 old wake forest rd</td>\n",
       "      <td>raleigh</td>\n",
       "      <td>NC</td>\n",
       "      <td>-78.566665</td>\n",
       "      <td>35.868091</td>\n",
       "      <td>2015-06-10T00:00:00.000Z</td>\n",
       "      <td>0</td>\n",
       "      <td>Core</td>\n",
       "      <td>0</td>\n",
       "      <td>Out</td>\n",
       "      <td>CDI</td>\n",
       "      <td>2015</td>\n",
       "    </tr>\n",
       "  </tbody>\n",
       "</table>\n",
       "<p>8441 rows × 14 columns</p>\n",
       "</div>"
      ],
      "text/plain": [
       "          hsisid                    name                  address1     city  \\\n",
       "0     4092010037  aubrey & peedi`s grill             38 n main st   wendell   \n",
       "1     4092010037  aubrey & peedi`s grill             38 n main st   wendell   \n",
       "2     4092010037  aubrey & peedi`s grill             38 n main st   wendell   \n",
       "3     4092010037  aubrey & peedi`s grill             38 n main st   wendell   \n",
       "4     4092010037  aubrey & peedi`s grill             38 n main st   wendell   \n",
       "...          ...                     ...                       ...      ...   \n",
       "8436  4092015870       mcdonald's #32956  8031 old wake forest rd   raleigh   \n",
       "8437  4092015870       mcdonald's #32956  8031 old wake forest rd   raleigh   \n",
       "8438  4092015870       mcdonald's #32956  8031 old wake forest rd   raleigh   \n",
       "8439  4092015870       mcdonald's #32956  8031 old wake forest rd   raleigh   \n",
       "8440  4092015870       mcdonald's #32956  8031 old wake forest rd   raleigh   \n",
       "\n",
       "     state          x          y               inspectdate  critical  \\\n",
       "0       NC -78.369452  35.782462  2013-05-14T00:00:00.000Z         1   \n",
       "1       NC -78.369452  35.782462  2014-01-09T00:00:00.000Z         1   \n",
       "2       NC -78.369452  35.782462  2013-05-14T00:00:00.000Z         1   \n",
       "3       NC -78.369452  35.782462  2014-01-09T00:00:00.000Z         0   \n",
       "4       NC -78.369452  35.782462  2014-01-09T00:00:00.000Z         1   \n",
       "...    ...        ...        ...                       ...       ...   \n",
       "8436    NC -78.566665  35.868091  2013-02-26T00:00:00.000Z         0   \n",
       "8437    NC -78.566665  35.868091  2013-02-26T00:00:00.000Z         1   \n",
       "8438    NC -78.566665  35.868091  2014-10-22T00:00:00.000Z         0   \n",
       "8439    NC -78.566665  35.868091  2015-06-10T00:00:00.000Z         1   \n",
       "8440    NC -78.566665  35.868091  2015-06-10T00:00:00.000Z         0   \n",
       "\n",
       "                 severity  pointvalue observationtype violationtype  year  \n",
       "0     Priority Foundation           0             Out           CDI  2013  \n",
       "1     Priority Foundation           0             Out             R  2014  \n",
       "2                Priority           0             Out           CDI  2013  \n",
       "3                    Core           0             Out             R  2014  \n",
       "4     Priority Foundation           1             Out           CDI  2014  \n",
       "...                   ...         ...             ...           ...   ...  \n",
       "8436                 Core           0             Out           CDI  2013  \n",
       "8437             Priority           1             Out           CDI  2013  \n",
       "8438                 Core           0             Out           CDI  2014  \n",
       "8439             Priority           1             Out           CDI  2015  \n",
       "8440                 Core           0             Out           CDI  2015  \n",
       "\n",
       "[8441 rows x 14 columns]"
      ]
     },
     "execution_count": 15,
     "metadata": {},
     "output_type": "execute_result"
    }
   ],
   "source": [
    "rest_viol= pd.merge(rest, viol, how= 'inner')\n",
    "rest_viol['year']= rest_viol.inspectdate.str[:4].astype(int)\n",
    "rest_viol\n"
   ]
  },
  {
   "cell_type": "markdown",
   "metadata": {},
   "source": [
    "Merge all 3 dataframes together"
   ]
  },
  {
   "cell_type": "code",
   "execution_count": 16,
   "metadata": {},
   "outputs": [
    {
     "data": {
      "text/html": [
       "<div>\n",
       "<style scoped>\n",
       "    .dataframe tbody tr th:only-of-type {\n",
       "        vertical-align: middle;\n",
       "    }\n",
       "\n",
       "    .dataframe tbody tr th {\n",
       "        vertical-align: top;\n",
       "    }\n",
       "\n",
       "    .dataframe thead th {\n",
       "        text-align: right;\n",
       "    }\n",
       "</style>\n",
       "<table border=\"1\" class=\"dataframe\">\n",
       "  <thead>\n",
       "    <tr style=\"text-align: right;\">\n",
       "      <th></th>\n",
       "      <th>hsisid</th>\n",
       "      <th>name</th>\n",
       "      <th>address1</th>\n",
       "      <th>city</th>\n",
       "      <th>state</th>\n",
       "      <th>x</th>\n",
       "      <th>y</th>\n",
       "      <th>inspectdate</th>\n",
       "      <th>critical</th>\n",
       "      <th>severity</th>\n",
       "      <th>pointvalue</th>\n",
       "      <th>observationtype</th>\n",
       "      <th>violationtype</th>\n",
       "      <th>year</th>\n",
       "      <th>date</th>\n",
       "      <th>zip</th>\n",
       "      <th>score</th>\n",
       "      <th>num_critical</th>\n",
       "      <th>num_non_critical</th>\n",
       "    </tr>\n",
       "  </thead>\n",
       "  <tbody>\n",
       "    <tr>\n",
       "      <th>0</th>\n",
       "      <td>4092016748</td>\n",
       "      <td>brixx wood fired pizza #4000</td>\n",
       "      <td>402 oberlin road</td>\n",
       "      <td>raleigh</td>\n",
       "      <td>NC</td>\n",
       "      <td>-78.662343</td>\n",
       "      <td>35.78976</td>\n",
       "      <td>2016-08-23T00:00:00.000Z</td>\n",
       "      <td>1</td>\n",
       "      <td>Priority</td>\n",
       "      <td>1</td>\n",
       "      <td>Out</td>\n",
       "      <td>VR</td>\n",
       "      <td>2016</td>\n",
       "      <td>2014-10-06T00:00:00Z</td>\n",
       "      <td>27605</td>\n",
       "      <td>96.5</td>\n",
       "      <td>5</td>\n",
       "      <td>9</td>\n",
       "    </tr>\n",
       "    <tr>\n",
       "      <th>1</th>\n",
       "      <td>4092016748</td>\n",
       "      <td>brixx wood fired pizza #4000</td>\n",
       "      <td>402 oberlin road</td>\n",
       "      <td>raleigh</td>\n",
       "      <td>NC</td>\n",
       "      <td>-78.662343</td>\n",
       "      <td>35.78976</td>\n",
       "      <td>2016-08-23T00:00:00.000Z</td>\n",
       "      <td>1</td>\n",
       "      <td>Priority</td>\n",
       "      <td>1</td>\n",
       "      <td>Out</td>\n",
       "      <td>VR</td>\n",
       "      <td>2016</td>\n",
       "      <td>2015-04-06T00:00:00Z</td>\n",
       "      <td>27605</td>\n",
       "      <td>93.0</td>\n",
       "      <td>4</td>\n",
       "      <td>4</td>\n",
       "    </tr>\n",
       "    <tr>\n",
       "      <th>2</th>\n",
       "      <td>4092016748</td>\n",
       "      <td>brixx wood fired pizza #4000</td>\n",
       "      <td>402 oberlin road</td>\n",
       "      <td>raleigh</td>\n",
       "      <td>NC</td>\n",
       "      <td>-78.662343</td>\n",
       "      <td>35.78976</td>\n",
       "      <td>2016-08-23T00:00:00.000Z</td>\n",
       "      <td>1</td>\n",
       "      <td>Priority</td>\n",
       "      <td>1</td>\n",
       "      <td>Out</td>\n",
       "      <td>VR</td>\n",
       "      <td>2016</td>\n",
       "      <td>2015-09-18T00:00:00Z</td>\n",
       "      <td>27605</td>\n",
       "      <td>96.5</td>\n",
       "      <td>1</td>\n",
       "      <td>5</td>\n",
       "    </tr>\n",
       "    <tr>\n",
       "      <th>3</th>\n",
       "      <td>4092016748</td>\n",
       "      <td>brixx wood fired pizza #4000</td>\n",
       "      <td>402 oberlin road</td>\n",
       "      <td>raleigh</td>\n",
       "      <td>NC</td>\n",
       "      <td>-78.662343</td>\n",
       "      <td>35.78976</td>\n",
       "      <td>2016-08-23T00:00:00.000Z</td>\n",
       "      <td>1</td>\n",
       "      <td>Priority</td>\n",
       "      <td>1</td>\n",
       "      <td>Out</td>\n",
       "      <td>VR</td>\n",
       "      <td>2016</td>\n",
       "      <td>2016-01-27T00:00:00Z</td>\n",
       "      <td>27605</td>\n",
       "      <td>96.0</td>\n",
       "      <td>2</td>\n",
       "      <td>4</td>\n",
       "    </tr>\n",
       "    <tr>\n",
       "      <th>4</th>\n",
       "      <td>4092016748</td>\n",
       "      <td>brixx wood fired pizza #4000</td>\n",
       "      <td>402 oberlin road</td>\n",
       "      <td>raleigh</td>\n",
       "      <td>NC</td>\n",
       "      <td>-78.662343</td>\n",
       "      <td>35.78976</td>\n",
       "      <td>2016-08-23T00:00:00.000Z</td>\n",
       "      <td>1</td>\n",
       "      <td>Priority</td>\n",
       "      <td>1</td>\n",
       "      <td>Out</td>\n",
       "      <td>VR</td>\n",
       "      <td>2016</td>\n",
       "      <td>2016-08-23T00:00:00Z</td>\n",
       "      <td>27605</td>\n",
       "      <td>96.5</td>\n",
       "      <td>1</td>\n",
       "      <td>6</td>\n",
       "    </tr>\n",
       "  </tbody>\n",
       "</table>\n",
       "</div>"
      ],
      "text/plain": [
       "       hsisid                          name          address1     city state  \\\n",
       "0  4092016748  brixx wood fired pizza #4000  402 oberlin road  raleigh    NC   \n",
       "1  4092016748  brixx wood fired pizza #4000  402 oberlin road  raleigh    NC   \n",
       "2  4092016748  brixx wood fired pizza #4000  402 oberlin road  raleigh    NC   \n",
       "3  4092016748  brixx wood fired pizza #4000  402 oberlin road  raleigh    NC   \n",
       "4  4092016748  brixx wood fired pizza #4000  402 oberlin road  raleigh    NC   \n",
       "\n",
       "           x         y               inspectdate  critical  severity  \\\n",
       "0 -78.662343  35.78976  2016-08-23T00:00:00.000Z         1  Priority   \n",
       "1 -78.662343  35.78976  2016-08-23T00:00:00.000Z         1  Priority   \n",
       "2 -78.662343  35.78976  2016-08-23T00:00:00.000Z         1  Priority   \n",
       "3 -78.662343  35.78976  2016-08-23T00:00:00.000Z         1  Priority   \n",
       "4 -78.662343  35.78976  2016-08-23T00:00:00.000Z         1  Priority   \n",
       "\n",
       "   pointvalue observationtype violationtype  year                  date  \\\n",
       "0           1             Out            VR  2016  2014-10-06T00:00:00Z   \n",
       "1           1             Out            VR  2016  2015-04-06T00:00:00Z   \n",
       "2           1             Out            VR  2016  2015-09-18T00:00:00Z   \n",
       "3           1             Out            VR  2016  2016-01-27T00:00:00Z   \n",
       "4           1             Out            VR  2016  2016-08-23T00:00:00Z   \n",
       "\n",
       "     zip  score  num_critical  num_non_critical  \n",
       "0  27605   96.5             5                 9  \n",
       "1  27605   93.0             4                 4  \n",
       "2  27605   96.5             1                 5  \n",
       "3  27605   96.0             2                 4  \n",
       "4  27605   96.5             1                 6  "
      ]
     },
     "execution_count": 16,
     "metadata": {},
     "output_type": "execute_result"
    }
   ],
   "source": [
    "merged= pd.merge(rest_viol, insp, how= 'inner')\n",
    "merged.head()"
   ]
  },
  {
   "cell_type": "markdown",
   "metadata": {},
   "source": [
    "I built a dataframe using zips.csv and the violation counts for each zipcode to see if there are any relationship between the amount of health code violations and socioeconomic status."
   ]
  },
  {
   "cell_type": "code",
   "execution_count": 17,
   "metadata": {},
   "outputs": [],
   "source": [
    "zip_df= pd.DataFrame(data= merged.zip.unique(), columns= ['zip'])\n",
    "viol_count= merged.zip.value_counts().values \n",
    "zip_df['violation_count']= viol_count\n",
    "\n",
    "zip_merge= pd.merge(zip_df, zips, how= 'right')"
   ]
  },
  {
   "cell_type": "markdown",
   "metadata": {},
   "source": [
    "I then took the average of median household income and median family income to analyze the relationship of income\n",
    "and health inspection scores."
   ]
  },
  {
   "cell_type": "code",
   "execution_count": 18,
   "metadata": {},
   "outputs": [],
   "source": [
    "col = zip_merge.loc[: , \"median_family_income_dollars\":\"median_household_income_dollars\"]\n",
    "zip_merge['median_income']= col.mean(axis= 1)\n",
    "\n",
    "zip_inc= zip_merge[['zip', 'median_income']]\n",
    "\n",
    "merged= pd.merge(zip_inc, merged, how= 'inner')"
   ]
  },
  {
   "cell_type": "markdown",
   "metadata": {},
   "source": [
    "I removed the columns with string values for the data to be used for regression later on."
   ]
  },
  {
   "cell_type": "code",
   "execution_count": 19,
   "metadata": {},
   "outputs": [],
   "source": [
    "merged_num= merged.drop(['zip', 'hsisid', 'x', 'y', 'date', 'year', \n",
    "                         'name','city', 'state', 'pointvalue', 'inspectdate', 'address1'], axis= 1)"
   ]
  },
  {
   "cell_type": "markdown",
   "metadata": {},
   "source": [
    "One Hot Encoding for categorical variables."
   ]
  },
  {
   "cell_type": "code",
   "execution_count": 20,
   "metadata": {},
   "outputs": [],
   "source": [
    "merged_num['severity_core']= merged_num.severity\n",
    "merged_num['severity_priority']= merged_num.severity\n",
    "\n",
    "merged_num.loc[merged_num.severity_core== 'Core', 'severity_core']= 1\n",
    "merged_num.loc[merged_num.severity_core== 'Priority', 'severity_core']= 0\n",
    "merged_num.loc[merged_num.severity_core== 'Priority Foundation', 'severity_core']= 0\n",
    "\n",
    "merged_num.loc[merged_num.severity_priority== 'Core', 'severity_priority']= 0\n",
    "merged_num.loc[merged_num.severity_priority== 'Priority', 'severity_priority']= 1\n",
    "merged_num.loc[merged_num.severity_priority== 'Priority Foundation', 'severity_priority']= 0\n",
    "\n",
    "merged_num= merged_num.drop('severity', axis= 1)"
   ]
  },
  {
   "cell_type": "code",
   "execution_count": 21,
   "metadata": {},
   "outputs": [],
   "source": [
    "merged_num['viol_cdi']= merged_num.violationtype\n",
    "merged_num['viol_r']= merged_num.violationtype\n",
    "\n",
    "merged_num.loc[merged_num.viol_cdi== 'CDI', 'viol_cdi']= 1\n",
    "merged_num.loc[merged_num.viol_cdi== 'R', 'viol_cdi']= 0\n",
    "merged_num.loc[merged_num.viol_cdi== 'VR', 'viol_cdi']= 0\n",
    "\n",
    "merged_num.loc[merged_num.viol_r== 'CDI', 'viol_r']= 0\n",
    "merged_num.loc[merged_num.viol_r== 'R', 'viol_r']= 1\n",
    "merged_num.loc[merged_num.viol_r== 'VR', 'viol_r']= 0\n",
    "\n",
    "merged_num= merged_num.drop('violationtype', axis= 1)"
   ]
  },
  {
   "cell_type": "code",
   "execution_count": 22,
   "metadata": {},
   "outputs": [],
   "source": [
    "merged_num['obs_out']= merged_num['observationtype']\n",
    "\n",
    "merged_num.loc[merged_num.obs_out== 'In', 'obs_out']= 0\n",
    "merged_num.loc[merged_num.obs_out== 'Out', 'obs_out']= 1\n",
    "\n",
    "merged_num= merged_num.drop('observationtype', axis= 1)"
   ]
  },
  {
   "cell_type": "markdown",
   "metadata": {},
   "source": [
    "# Data Analysis and Results"
   ]
  },
  {
   "cell_type": "markdown",
   "metadata": {},
   "source": [
    "## Visualization"
   ]
  },
  {
   "cell_type": "markdown",
   "metadata": {},
   "source": [
    "Correlation coefficient beteen health inspection violatioin scores and socioeconomic status."
   ]
  },
  {
   "cell_type": "code",
   "execution_count": 23,
   "metadata": {},
   "outputs": [
    {
     "data": {
      "text/html": [
       "<div>\n",
       "<style scoped>\n",
       "    .dataframe tbody tr th:only-of-type {\n",
       "        vertical-align: middle;\n",
       "    }\n",
       "\n",
       "    .dataframe tbody tr th {\n",
       "        vertical-align: top;\n",
       "    }\n",
       "\n",
       "    .dataframe thead th {\n",
       "        text-align: right;\n",
       "    }\n",
       "</style>\n",
       "<table border=\"1\" class=\"dataframe\">\n",
       "  <thead>\n",
       "    <tr style=\"text-align: right;\">\n",
       "      <th></th>\n",
       "      <th>zip</th>\n",
       "      <th>violation_count</th>\n",
       "      <th>median_family_income_dollars</th>\n",
       "      <th>median_household_income_dollars</th>\n",
       "      <th>per_capita_income_dollars</th>\n",
       "      <th>percent_damilies_below_poverty_line</th>\n",
       "      <th>percent_snap_benefits</th>\n",
       "      <th>percent_supplemental_security_income</th>\n",
       "      <th>percent_nonwhite</th>\n",
       "      <th>median_income</th>\n",
       "    </tr>\n",
       "  </thead>\n",
       "  <tbody>\n",
       "    <tr>\n",
       "      <th>zip</th>\n",
       "      <td>1.000000</td>\n",
       "      <td>0.450249</td>\n",
       "      <td>-0.209730</td>\n",
       "      <td>-0.361328</td>\n",
       "      <td>-0.027070</td>\n",
       "      <td>0.306144</td>\n",
       "      <td>0.314024</td>\n",
       "      <td>0.078607</td>\n",
       "      <td>0.297128</td>\n",
       "      <td>-0.284511</td>\n",
       "    </tr>\n",
       "    <tr>\n",
       "      <th>violation_count</th>\n",
       "      <td>0.450249</td>\n",
       "      <td>1.000000</td>\n",
       "      <td>0.036220</td>\n",
       "      <td>-0.300619</td>\n",
       "      <td>0.113546</td>\n",
       "      <td>-0.066207</td>\n",
       "      <td>0.029688</td>\n",
       "      <td>0.047711</td>\n",
       "      <td>-0.015065</td>\n",
       "      <td>-0.116977</td>\n",
       "    </tr>\n",
       "    <tr>\n",
       "      <th>median_family_income_dollars</th>\n",
       "      <td>-0.209730</td>\n",
       "      <td>0.036220</td>\n",
       "      <td>1.000000</td>\n",
       "      <td>0.881468</td>\n",
       "      <td>0.903884</td>\n",
       "      <td>-0.723360</td>\n",
       "      <td>-0.763552</td>\n",
       "      <td>-0.518530</td>\n",
       "      <td>-0.515274</td>\n",
       "      <td>0.977049</td>\n",
       "    </tr>\n",
       "    <tr>\n",
       "      <th>median_household_income_dollars</th>\n",
       "      <td>-0.361328</td>\n",
       "      <td>-0.300619</td>\n",
       "      <td>0.881468</td>\n",
       "      <td>1.000000</td>\n",
       "      <td>0.724968</td>\n",
       "      <td>-0.695488</td>\n",
       "      <td>-0.700279</td>\n",
       "      <td>-0.477990</td>\n",
       "      <td>-0.400670</td>\n",
       "      <td>0.961832</td>\n",
       "    </tr>\n",
       "    <tr>\n",
       "      <th>per_capita_income_dollars</th>\n",
       "      <td>-0.027070</td>\n",
       "      <td>0.113546</td>\n",
       "      <td>0.903884</td>\n",
       "      <td>0.724968</td>\n",
       "      <td>1.000000</td>\n",
       "      <td>-0.619224</td>\n",
       "      <td>-0.703885</td>\n",
       "      <td>-0.471805</td>\n",
       "      <td>-0.457737</td>\n",
       "      <td>0.850763</td>\n",
       "    </tr>\n",
       "    <tr>\n",
       "      <th>percent_damilies_below_poverty_line</th>\n",
       "      <td>0.306144</td>\n",
       "      <td>-0.066207</td>\n",
       "      <td>-0.723360</td>\n",
       "      <td>-0.695488</td>\n",
       "      <td>-0.619224</td>\n",
       "      <td>1.000000</td>\n",
       "      <td>0.876882</td>\n",
       "      <td>0.618236</td>\n",
       "      <td>0.636133</td>\n",
       "      <td>-0.732861</td>\n",
       "    </tr>\n",
       "    <tr>\n",
       "      <th>percent_snap_benefits</th>\n",
       "      <td>0.314024</td>\n",
       "      <td>0.029688</td>\n",
       "      <td>-0.763552</td>\n",
       "      <td>-0.700279</td>\n",
       "      <td>-0.703885</td>\n",
       "      <td>0.876882</td>\n",
       "      <td>1.000000</td>\n",
       "      <td>0.493867</td>\n",
       "      <td>0.595707</td>\n",
       "      <td>-0.758312</td>\n",
       "    </tr>\n",
       "    <tr>\n",
       "      <th>percent_supplemental_security_income</th>\n",
       "      <td>0.078607</td>\n",
       "      <td>0.047711</td>\n",
       "      <td>-0.518530</td>\n",
       "      <td>-0.477990</td>\n",
       "      <td>-0.471805</td>\n",
       "      <td>0.618236</td>\n",
       "      <td>0.493867</td>\n",
       "      <td>1.000000</td>\n",
       "      <td>0.203640</td>\n",
       "      <td>-0.516067</td>\n",
       "    </tr>\n",
       "    <tr>\n",
       "      <th>percent_nonwhite</th>\n",
       "      <td>0.297128</td>\n",
       "      <td>-0.015065</td>\n",
       "      <td>-0.515274</td>\n",
       "      <td>-0.400670</td>\n",
       "      <td>-0.457737</td>\n",
       "      <td>0.636133</td>\n",
       "      <td>0.595707</td>\n",
       "      <td>0.203640</td>\n",
       "      <td>1.000000</td>\n",
       "      <td>-0.479304</td>\n",
       "    </tr>\n",
       "    <tr>\n",
       "      <th>median_income</th>\n",
       "      <td>-0.284511</td>\n",
       "      <td>-0.116977</td>\n",
       "      <td>0.977049</td>\n",
       "      <td>0.961832</td>\n",
       "      <td>0.850763</td>\n",
       "      <td>-0.732861</td>\n",
       "      <td>-0.758312</td>\n",
       "      <td>-0.516067</td>\n",
       "      <td>-0.479304</td>\n",
       "      <td>1.000000</td>\n",
       "    </tr>\n",
       "  </tbody>\n",
       "</table>\n",
       "</div>"
      ],
      "text/plain": [
       "                                           zip  violation_count  \\\n",
       "zip                                   1.000000         0.450249   \n",
       "violation_count                       0.450249         1.000000   \n",
       "median_family_income_dollars         -0.209730         0.036220   \n",
       "median_household_income_dollars      -0.361328        -0.300619   \n",
       "per_capita_income_dollars            -0.027070         0.113546   \n",
       "percent_damilies_below_poverty_line   0.306144        -0.066207   \n",
       "percent_snap_benefits                 0.314024         0.029688   \n",
       "percent_supplemental_security_income  0.078607         0.047711   \n",
       "percent_nonwhite                      0.297128        -0.015065   \n",
       "median_income                        -0.284511        -0.116977   \n",
       "\n",
       "                                      median_family_income_dollars  \\\n",
       "zip                                                      -0.209730   \n",
       "violation_count                                           0.036220   \n",
       "median_family_income_dollars                              1.000000   \n",
       "median_household_income_dollars                           0.881468   \n",
       "per_capita_income_dollars                                 0.903884   \n",
       "percent_damilies_below_poverty_line                      -0.723360   \n",
       "percent_snap_benefits                                    -0.763552   \n",
       "percent_supplemental_security_income                     -0.518530   \n",
       "percent_nonwhite                                         -0.515274   \n",
       "median_income                                             0.977049   \n",
       "\n",
       "                                      median_household_income_dollars  \\\n",
       "zip                                                         -0.361328   \n",
       "violation_count                                             -0.300619   \n",
       "median_family_income_dollars                                 0.881468   \n",
       "median_household_income_dollars                              1.000000   \n",
       "per_capita_income_dollars                                    0.724968   \n",
       "percent_damilies_below_poverty_line                         -0.695488   \n",
       "percent_snap_benefits                                       -0.700279   \n",
       "percent_supplemental_security_income                        -0.477990   \n",
       "percent_nonwhite                                            -0.400670   \n",
       "median_income                                                0.961832   \n",
       "\n",
       "                                      per_capita_income_dollars  \\\n",
       "zip                                                   -0.027070   \n",
       "violation_count                                        0.113546   \n",
       "median_family_income_dollars                           0.903884   \n",
       "median_household_income_dollars                        0.724968   \n",
       "per_capita_income_dollars                              1.000000   \n",
       "percent_damilies_below_poverty_line                   -0.619224   \n",
       "percent_snap_benefits                                 -0.703885   \n",
       "percent_supplemental_security_income                  -0.471805   \n",
       "percent_nonwhite                                      -0.457737   \n",
       "median_income                                          0.850763   \n",
       "\n",
       "                                      percent_damilies_below_poverty_line  \\\n",
       "zip                                                              0.306144   \n",
       "violation_count                                                 -0.066207   \n",
       "median_family_income_dollars                                    -0.723360   \n",
       "median_household_income_dollars                                 -0.695488   \n",
       "per_capita_income_dollars                                       -0.619224   \n",
       "percent_damilies_below_poverty_line                              1.000000   \n",
       "percent_snap_benefits                                            0.876882   \n",
       "percent_supplemental_security_income                             0.618236   \n",
       "percent_nonwhite                                                 0.636133   \n",
       "median_income                                                   -0.732861   \n",
       "\n",
       "                                      percent_snap_benefits  \\\n",
       "zip                                                0.314024   \n",
       "violation_count                                    0.029688   \n",
       "median_family_income_dollars                      -0.763552   \n",
       "median_household_income_dollars                   -0.700279   \n",
       "per_capita_income_dollars                         -0.703885   \n",
       "percent_damilies_below_poverty_line                0.876882   \n",
       "percent_snap_benefits                              1.000000   \n",
       "percent_supplemental_security_income               0.493867   \n",
       "percent_nonwhite                                   0.595707   \n",
       "median_income                                     -0.758312   \n",
       "\n",
       "                                      percent_supplemental_security_income  \\\n",
       "zip                                                               0.078607   \n",
       "violation_count                                                   0.047711   \n",
       "median_family_income_dollars                                     -0.518530   \n",
       "median_household_income_dollars                                  -0.477990   \n",
       "per_capita_income_dollars                                        -0.471805   \n",
       "percent_damilies_below_poverty_line                               0.618236   \n",
       "percent_snap_benefits                                             0.493867   \n",
       "percent_supplemental_security_income                              1.000000   \n",
       "percent_nonwhite                                                  0.203640   \n",
       "median_income                                                    -0.516067   \n",
       "\n",
       "                                      percent_nonwhite  median_income  \n",
       "zip                                           0.297128      -0.284511  \n",
       "violation_count                              -0.015065      -0.116977  \n",
       "median_family_income_dollars                 -0.515274       0.977049  \n",
       "median_household_income_dollars              -0.400670       0.961832  \n",
       "per_capita_income_dollars                    -0.457737       0.850763  \n",
       "percent_damilies_below_poverty_line           0.636133      -0.732861  \n",
       "percent_snap_benefits                         0.595707      -0.758312  \n",
       "percent_supplemental_security_income          0.203640      -0.516067  \n",
       "percent_nonwhite                              1.000000      -0.479304  \n",
       "median_income                                -0.479304       1.000000  "
      ]
     },
     "execution_count": 23,
     "metadata": {},
     "output_type": "execute_result"
    }
   ],
   "source": [
    "zip_merge.corr()"
   ]
  },
  {
   "cell_type": "code",
   "execution_count": 24,
   "metadata": {},
   "outputs": [
    {
     "data": {
      "image/png": "[encoded data removed]",
      "text/plain": [
       "<Figure size 432x288 with 1 Axes>"
      ]
     },
     "metadata": {
      "needs_background": "light"
     },
     "output_type": "display_data"
    }
   ],
   "source": [
    "sns.scatterplot(x= 'median_income',  y= 'violation_count', data= zip_merge).set_title(\"Violation counts vs. Median Income\")\n",
    "plt.grid(False)\n",
    "plt.xlabel(\"Median Income\")\n",
    "plt.ylabel= (' Violation Count')"
   ]
  },
  {
   "cell_type": "markdown",
   "metadata": {},
   "source": [
    "Median income vs. violation count. No obvious pattern is seen."
   ]
  },
  {
   "cell_type": "code",
   "execution_count": 25,
   "metadata": {
    "scrolled": false
   },
   "outputs": [
    {
     "data": {
      "text/plain": [
       "Text(0.5, 0, 'Year')"
      ]
     },
     "execution_count": 25,
     "metadata": {},
     "output_type": "execute_result"
    },
    {
     "data": {
      "image/png": "[encoded data removed]",
      "text/plain": [
       "<Figure size 720x720 with 1 Axes>"
      ]
     },
     "metadata": {
      "needs_background": "light"
     },
     "output_type": "display_data"
    }
   ],
   "source": [
    "viol_year_vc= rest_viol.year.value_counts().sort_index()\n",
    "viol_year_count= np.array(viol_year_vc.values)\n",
    "\n",
    "plt.rcParams['figure.figsize'] = (10, 10)\n",
    "sns.lineplot(x= [2012, 2013, 2014, 2015, 2016], y= viol_year_count).set_title(\"Health Inspection Violation Count in 2012-2016\")\n",
    "plt.xticks([2012, 2013, 2014, 2015, 2016])\n",
    "plt.grid(False)\n",
    "plt.xlabel(\"Year\")"
   ]
  },
  {
   "cell_type": "markdown",
   "metadata": {},
   "source": [
    "Violation counts over the years. 2012 had a lot less observations, that is why there are so few violations, but there seems to be a decrease at 2016."
   ]
  },
  {
   "cell_type": "code",
   "execution_count": 26,
   "metadata": {},
   "outputs": [
    {
     "data": {
      "text/plain": [
       "Text(0.5, 0, 'Violation count')"
      ]
     },
     "execution_count": 26,
     "metadata": {},
     "output_type": "execute_result"
    },
    {
     "data": {
      "image/png": "[encoded data removed]",
      "text/plain": [
       "<Figure size 720x720 with 1 Axes>"
      ]
     },
     "metadata": {
      "needs_background": "light"
     },
     "output_type": "display_data"
    }
   ],
   "source": [
    "drop_cities= ['wendell', 'rolesville', 'new hill', 'clayton', 'willow spring', 'angier', \n",
    "              'creedmoor', 'rtp', 'durham', 'chapel hill', \n",
    "               'rdu', 'zebulon', 'holly springs', 'garner', 'fuquay-varina']\n",
    "\n",
    "rest_viol_2 = rest_viol[~rest_viol.city.isin(drop_cities)]\n",
    "sns.countplot(y= 'city', data= rest_viol_2, palette=\"husl\").set_title(\"Health Inspection Violations in Each City\",)\n",
    "plt.xlabel('Violation count')"
   ]
  },
  {
   "cell_type": "markdown",
   "metadata": {},
   "source": [
    "The counts of health inspection violations by city. I had to drop some cities as Raleigh \n",
    "had a lot more violations than the other cities.\n",
    "\n",
    "Omitting Raleigh, this is what the counts in other cities look like. Wendell, Rolesville, Durham, and Holly Springs\n",
    "seem to have really low violation counts regardless."
   ]
  },
  {
   "cell_type": "code",
   "execution_count": 27,
   "metadata": {},
   "outputs": [
    {
     "data": {
      "text/plain": [
       "Text(0.5, 0, 'Violation count')"
      ]
     },
     "execution_count": 27,
     "metadata": {},
     "output_type": "execute_result"
    },
    {
     "data": {
      "image/png": "[encoded data removed]",
      "text/plain": [
       "<Figure size 720x720 with 1 Axes>"
      ]
     },
     "metadata": {
      "needs_background": "light"
     },
     "output_type": "display_data"
    }
   ],
   "source": [
    "drop_cities= ['raleigh']\n",
    "rest_viol_3 = rest_viol[~rest_viol.city.isin(drop_cities)]\n",
    "sns.countplot(y= 'city', data= rest_viol_3, palette=\"husl\").set_title(\"Health Inspection Violations in Each City (w/out Raleigh)\",)\n",
    "plt.xlabel('Violation count')"
   ]
  },
  {
   "cell_type": "markdown",
   "metadata": {},
   "source": [
    "Health inspection violation count by severity."
   ]
  },
  {
   "cell_type": "code",
   "execution_count": 28,
   "metadata": {
    "scrolled": false
   },
   "outputs": [
    {
     "data": {
      "text/plain": [
       "Text(0.5, 0, 'Violation count')"
      ]
     },
     "execution_count": 28,
     "metadata": {},
     "output_type": "execute_result"
    },
    {
     "data": {
      "image/png": "[encoded data removed]",
      "text/plain": [
       "<Figure size 720x720 with 1 Axes>"
      ]
     },
     "metadata": {
      "needs_background": "light"
     },
     "output_type": "display_data"
    }
   ],
   "source": [
    "sns.countplot(y= 'severity', data= rest_viol, palette= 'husl').set_title(\"Health Inspection Violation Count by Severity\")\n",
    "plt.xlabel('Violation count')"
   ]
  },
  {
   "cell_type": "markdown",
   "metadata": {},
   "source": [
    "Scatter plot of score against amount of critical violations. It makes sense that the highest scores cluster towards 0 critical violations."
   ]
  },
  {
   "cell_type": "code",
   "execution_count": 29,
   "metadata": {
    "scrolled": false
   },
   "outputs": [
    {
     "data": {
      "text/plain": [
       "<matplotlib.axes._subplots.AxesSubplot at 0x7fe701d2f7b8>"
      ]
     },
     "execution_count": 29,
     "metadata": {},
     "output_type": "execute_result"
    },
    {
     "data": {
      "image/png": "[encoded data removed]",
      "text/plain": [
       "<Figure size 720x720 with 1 Axes>"
      ]
     },
     "metadata": {
      "needs_background": "light"
     },
     "output_type": "display_data"
    }
   ],
   "source": [
    "\n",
    "sns.scatterplot(x= 'num_critical', y= 'score', data= merged_num)"
   ]
  },
  {
   "cell_type": "markdown",
   "metadata": {},
   "source": [
    "Checking distribution of response variable, the health inspection score"
   ]
  },
  {
   "cell_type": "code",
   "execution_count": 30,
   "metadata": {
    "scrolled": false
   },
   "outputs": [
    {
     "data": {
      "text/plain": [
       "(0, 100)"
      ]
     },
     "execution_count": 30,
     "metadata": {},
     "output_type": "execute_result"
    },
    {
     "data": {
      "image/png": "[encoded data removed]",
      "text/plain": [
       "<Figure size 720x720 with 1 Axes>"
      ]
     },
     "metadata": {
      "needs_background": "light"
     },
     "output_type": "display_data"
    }
   ],
   "source": [
    "#checking distribution\n",
    "sns.distplot(merged_num.score) #normal, but skewed.\n",
    "plt.grid(False)\n",
    "plt.xlim([0,100])"
   ]
  },
  {
   "cell_type": "markdown",
   "metadata": {},
   "source": [
    "The shape of the graph is somewhat normal, but very skewed, so I standardized the score values.\n",
    "Each observation is subtracted by the mean of the all the scores, and then divided by the standard deviation."
   ]
  },
  {
   "cell_type": "code",
   "execution_count": 31,
   "metadata": {
    "scrolled": true
   },
   "outputs": [
    {
     "data": {
      "image/png": "[encoded data removed]",
      "text/plain": [
       "<Figure size 720x720 with 1 Axes>"
      ]
     },
     "metadata": {
      "needs_background": "light"
     },
     "output_type": "display_data"
    }
   ],
   "source": [
    "#standardize the data\n",
    "plt.rcParams['figure.figsize'] = (10, 10)\n",
    "manual= (merged_num.score - merged_num.score.mean()) / merged_num.score.std()\n",
    "sns.distplot(manual, kde= True).set_title(\"Distribution of Standardized Inspection Scores\")\n",
    "manual.mean()\n",
    "plt.xlabel(\"Standardized scores\")\n",
    "plt.grid(False)"
   ]
  },
  {
   "cell_type": "markdown",
   "metadata": {},
   "source": [
    "It is still skewed and the distribution looks a bit bivariate, but it is still a lot more normal than before, and the \n",
    "range of values have also decreased."
   ]
  },
  {
   "cell_type": "markdown",
   "metadata": {},
   "source": [
    "I also checked the distribution of median_income."
   ]
  },
  {
   "cell_type": "code",
   "execution_count": 32,
   "metadata": {},
   "outputs": [
    {
     "data": {
      "text/plain": [
       "Text(0.5, 0, 'Median income')"
      ]
     },
     "execution_count": 32,
     "metadata": {},
     "output_type": "execute_result"
    },
    {
     "data": {
      "image/png": "[encoded data removed]",
      "text/plain": [
       "<Figure size 720x720 with 1 Axes>"
      ]
     },
     "metadata": {
      "needs_background": "light"
     },
     "output_type": "display_data"
    }
   ],
   "source": [
    "plt.rcParams['figure.figsize'] = (10, 10)\n",
    "sns.distplot(merged.median_income, bins= 20, kde= False, fit= norm).set_title(\"Distribution of Median Income\")\n",
    "plt.grid(False)\n",
    "plt.xlabel(\"Median income\")"
   ]
  },
  {
   "cell_type": "markdown",
   "metadata": {},
   "source": [
    "The distribution of the values somewhat resembles normal distribution, but the range of the \n",
    "values are also very big, so I standardized median income as well."
   ]
  },
  {
   "cell_type": "code",
   "execution_count": 33,
   "metadata": {},
   "outputs": [
    {
     "data": {
      "text/plain": [
       "Text(0.5, 0, 'Standardized median income')"
      ]
     },
     "execution_count": 33,
     "metadata": {},
     "output_type": "execute_result"
    },
    {
     "data": {
      "image/png": "[encoded data removed]",
      "text/plain": [
       "<Figure size 720x720 with 1 Axes>"
      ]
     },
     "metadata": {
      "needs_background": "light"
     },
     "output_type": "display_data"
    }
   ],
   "source": [
    "manual_income= (merged_num.median_income - merged_num.median_income.mean()) / merged_num.median_income.std()\n",
    "sns.distplot(manual_income, bins= 20, fit= norm, kde= False).set_title(\"Distribution of Standardized Median Income\")\n",
    "plt.grid(False)\n",
    "plt.xlabel(\"Standardized median income\")"
   ]
  },
  {
   "cell_type": "markdown",
   "metadata": {},
   "source": [
    "The shape is similar to the distribution before standardization, but now the range of the values are reduced by a lot."
   ]
  },
  {
   "cell_type": "code",
   "execution_count": 34,
   "metadata": {},
   "outputs": [],
   "source": [
    "merged_num.score= manual\n",
    "merged_num.median_income= manual_income"
   ]
  },
  {
   "cell_type": "markdown",
   "metadata": {},
   "source": [
    "## Regression "
   ]
  },
  {
   "cell_type": "markdown",
   "metadata": {},
   "source": [
    "Randomly splitting the data into training and testing set. I followed the 80% 20% rule, training set takes 80% \n",
    "of the size of the dataset, testing takes the rest 20%."
   ]
  },
  {
   "cell_type": "code",
   "execution_count": 35,
   "metadata": {},
   "outputs": [],
   "source": [
    "rows= merged_num.shape[0]\n",
    "\n",
    "merged_num= merged_num.sample(frac=1)\n",
    "ind= int(0.8*rows)\n",
    "ind\n",
    "test= merged_num.loc[ind:, ]\n",
    "train= merged_num.loc[:ind, ]\n"
   ]
  },
  {
   "cell_type": "code",
   "execution_count": 36,
   "metadata": {},
   "outputs": [
    {
     "name": "stdout",
     "output_type": "stream",
     "text": [
      "                            OLS Regression Results                            \n",
      "==============================================================================\n",
      "Dep. Variable:                  score   R-squared:                       0.692\n",
      "Model:                            OLS   Adj. R-squared:                  0.691\n",
      "Method:                 Least Squares   F-statistic:                     559.6\n",
      "Date:                Wed, 10 Jun 2020   Prob (F-statistic):               0.00\n",
      "Time:                        23:29:26   Log-Likelihood:                -1634.8\n",
      "No. Observations:                1997   AIC:                             3288.\n",
      "Df Residuals:                    1988   BIC:                             3338.\n",
      "Df Model:                           8                                         \n",
      "Covariance Type:            nonrobust                                         \n",
      "=====================================================================================\n",
      "                        coef    std err          t      P>|t|      [0.025      0.975]\n",
      "-------------------------------------------------------------------------------------\n",
      "median_income         0.0562      0.013      4.393      0.000       0.031       0.081\n",
      "num_critical         -0.1206      0.004    -29.520      0.000      -0.129      -0.113\n",
      "num_non_critical     -0.0494      0.005    -10.758      0.000      -0.058      -0.040\n",
      "critical              1.5019      0.394      3.808      0.000       0.728       2.275\n",
      "severity_core         1.5306      0.396      3.869      0.000       0.755       2.306\n",
      "severity_priority    -0.0276      0.030     -0.907      0.364      -0.087       0.032\n",
      "obs_out              -0.5041      0.390     -1.293      0.196      -1.269       0.260\n",
      "viol_cdi             -0.0287      0.053     -0.543      0.587      -0.132       0.075\n",
      "viol_r               -0.1336      0.060     -2.240      0.025      -0.251      -0.017\n",
      "==============================================================================\n",
      "Omnibus:                      482.025   Durbin-Watson:                   2.064\n",
      "Prob(Omnibus):                  0.000   Jarque-Bera (JB):             1567.968\n",
      "Skew:                          -1.192   Prob(JB):                         0.00\n",
      "Kurtosis:                       6.627   Cond. No.                         585.\n",
      "==============================================================================\n",
      "\n",
      "Warnings:\n",
      "[1] Standard Errors assume that the covariance matrix of the errors is correctly specified.\n"
     ]
    }
   ],
   "source": [
    "x_train = train[['median_income','num_critical', 'num_non_critical',\n",
    "       'critical', 'severity_core',\n",
    "       'severity_priority', 'obs_out', 'viol_cdi', 'viol_r']] \n",
    "\n",
    "y_train = train['score']\n",
    "\n",
    "x_test = test[['median_income','num_critical', 'num_non_critical',\n",
    "       'critical', 'severity_core',\n",
    "       'severity_priority', 'obs_out', 'viol_cdi', 'viol_r']]\n",
    "y_test= test['score']\n",
    "\n",
    "mod= sm.OLS(y_train, x_train)\n",
    "res= mod.fit()\n",
    "\n",
    "print(res.summary())"
   ]
  },
  {
   "cell_type": "markdown",
   "metadata": {},
   "source": [
    "The multivariate regression model above fits the training data pretty well with an adjusted R^2 value of 0.676.\n",
    "At a significance level of 0.05, \n",
    "the predictors that are statistically significant are median_income, num_critical, and num_non_critical. I noticed that both critical and non-critical have negative coefficients, which means that even a non-critical violation can affect an inspection score.\n",
    "\n",
    "$$ Y= 0.032 - 0.12*X_1 - 0.046*X_2 - 0.004*X_3 + 0.6178*X_4 - 0.018*X_5 - 0.10*X6 $$"
   ]
  },
  {
   "cell_type": "code",
   "execution_count": 37,
   "metadata": {},
   "outputs": [
    {
     "name": "stdout",
     "output_type": "stream",
     "text": [
      "Average difference between predicted and actual score: 0.42259711804340405\n",
      "MSE from the multivariate regression model: 0.32151602660087\n"
     ]
    }
   ],
   "source": [
    "pred= res.predict(x_test) \n",
    "\n",
    "pred_table= pd.DataFrame(data= pred, columns= ['predicted_score'])\n",
    "pred_table['actual_score']= y_test\n",
    "pred_table['diff']= abs(pred_table.actual_score - pred_table.predicted_score)\n",
    "\n",
    "pred_table.head()\n",
    "print(\"Average difference between predicted and actual score:\", pred_table['diff'].mean())\n",
    "print(\"MSE from the multivariate regression model:\", mean_squared_error(y_test, pred))"
   ]
  },
  {
   "cell_type": "markdown",
   "metadata": {},
   "source": [
    "Using the regression model above to predict the scores in the test set, the predicted scores differs from the \n",
    "actual values by 0.42 on average. The testing MSE is 0.314.\n",
    "\n",
    "Since I used a lot of variables, I wanted to implement a LASSO regrssion to try minimizing the MSE. I used 5-fold cross validation to find the best penalty term."
   ]
  },
  {
   "cell_type": "code",
   "execution_count": 38,
   "metadata": {
    "scrolled": true
   },
   "outputs": [
    {
     "data": {
      "text/plain": [
       "GridSearchCV(cv=5, error_score='raise-deprecating',\n",
       "             estimator=Lasso(alpha=1.0, copy_X=True, fit_intercept=True,\n",
       "                             max_iter=1000, normalize=False, positive=False,\n",
       "                             precompute=False, random_state=None,\n",
       "                             selection='cyclic', tol=0.0001, warm_start=False),\n",
       "             iid='warn', n_jobs=None,\n",
       "             param_grid={'alpha': [0.05, 0.1, 0.5, 0.75, 1, 5, 10, 20]},\n",
       "             pre_dispatch='2*n_jobs', refit=True, return_train_score=False,\n",
       "             scoring='neg_mean_squared_error', verbose=0)"
      ]
     },
     "execution_count": 38,
     "metadata": {},
     "output_type": "execute_result"
    }
   ],
   "source": [
    "lasso= Lasso()\n",
    "alphas= {'alpha': [0.05, 0.1, 0.5, 0.75, 1, 5, 10, 20]}\n",
    "lasso_reg= GridSearchCV(lasso, alphas, scoring= 'neg_mean_squared_error', cv= 5)\n",
    "\n",
    "lasso_reg.fit(x_train, y_train)"
   ]
  },
  {
   "cell_type": "code",
   "execution_count": 39,
   "metadata": {},
   "outputs": [
    {
     "name": "stdout",
     "output_type": "stream",
     "text": [
      "Optimal tuning parameter obtained from 5-fold CV: {'alpha': 0.05}\n"
     ]
    }
   ],
   "source": [
    "print(\"Optimal tuning parameter obtained from 5-fold CV:\",lasso_reg.best_params_ )"
   ]
  },
  {
   "cell_type": "code",
   "execution_count": 40,
   "metadata": {},
   "outputs": [],
   "source": [
    "lasso_train= Lasso(alpha = 0.05).fit(x_train, y_train)\n",
    "lasso_pred= lasso_train.predict(x_test)"
   ]
  },
  {
   "cell_type": "code",
   "execution_count": 41,
   "metadata": {},
   "outputs": [
    {
     "name": "stdout",
     "output_type": "stream",
     "text": [
      "MSE from LASSO regression model: 0.3215481698213283\n"
     ]
    }
   ],
   "source": [
    "print(\"MSE from LASSO regression model:\", mean_squared_error(y_test, lasso_pred))"
   ]
  },
  {
   "cell_type": "code",
   "execution_count": 42,
   "metadata": {},
   "outputs": [
    {
     "data": {
      "text/plain": [
       "GridSearchCV(cv=5, error_score='raise-deprecating',\n",
       "             estimator=Ridge(alpha=1.0, copy_X=True, fit_intercept=True,\n",
       "                             max_iter=None, normalize=False, random_state=None,\n",
       "                             solver='auto', tol=0.001),\n",
       "             iid='warn', n_jobs=None,\n",
       "             param_grid={'alpha': [0.05, 0.1, 0.5, 0.75, 1, 5, 10, 20]},\n",
       "             pre_dispatch='2*n_jobs', refit=True, return_train_score=False,\n",
       "             scoring='neg_mean_squared_error', verbose=0)"
      ]
     },
     "execution_count": 42,
     "metadata": {},
     "output_type": "execute_result"
    }
   ],
   "source": [
    "ridge= Ridge()\n",
    "alphas= {'alpha': [0.05, 0.1, 0.5, 0.75, 1, 5, 10, 20]}\n",
    "ridge_cv= GridSearchCV(ridge, alphas, scoring= 'neg_mean_squared_error', cv= 5)\n",
    "ridge_cv.fit(x_train,y_train)"
   ]
  },
  {
   "cell_type": "code",
   "execution_count": 43,
   "metadata": {},
   "outputs": [],
   "source": [
    "ridge_train= Ridge(alpha = 20).fit(x_train, y_train)\n",
    "ridge_pred= ridge_train.predict(x_test)"
   ]
  },
  {
   "cell_type": "code",
   "execution_count": 44,
   "metadata": {},
   "outputs": [
    {
     "name": "stdout",
     "output_type": "stream",
     "text": [
      "Optimal tuning parameter obtained from 5-fold CV: {'alpha': 20}\n"
     ]
    }
   ],
   "source": [
    "print(\"Optimal tuning parameter obtained from 5-fold CV:\",ridge_cv.best_params_ )"
   ]
  },
  {
   "cell_type": "code",
   "execution_count": 45,
   "metadata": {},
   "outputs": [
    {
     "name": "stdout",
     "output_type": "stream",
     "text": [
      "Ridge regression MSE: 0.32051974837438807\n"
     ]
    }
   ],
   "source": [
    "print(\"Ridge regression MSE:\",mean_squared_error(y_test, ridge_pred))"
   ]
  },
  {
   "cell_type": "markdown",
   "metadata": {},
   "source": [
    "I carried out PCA to try to see what variables are responsible for the variance in the data."
   ]
  },
  {
   "cell_type": "code",
   "execution_count": 46,
   "metadata": {},
   "outputs": [],
   "source": [
    "#carry out pca\n",
    "predictors= merged_num[['median_income','num_critical', 'num_non_critical',\n",
    "       'critical', 'severity_core',\n",
    "       'severity_priority', 'obs_out', 'viol_cdi', 'viol_r']] .values\n",
    "response= merged_num['score'].values"
   ]
  },
  {
   "cell_type": "code",
   "execution_count": 47,
   "metadata": {},
   "outputs": [],
   "source": [
    "pca = PCA(n_components=4)\n",
    "pca_fit = pca.fit(predictors)\n",
    "PCs = pca.fit_transform(predictors)"
   ]
  },
  {
   "cell_type": "code",
   "execution_count": 48,
   "metadata": {},
   "outputs": [
    {
     "name": "stdout",
     "output_type": "stream",
     "text": [
      "[[-2.38763973e-02  7.53852404e-01  6.56343085e-01  5.54587509e-04\n",
      "  -5.54587509e-04 -2.25640926e-03  1.32541905e-05 -1.28532881e-02\n",
      "   1.33907409e-02]\n",
      " [-5.09693493e-02 -6.55937497e-01  7.50747428e-01 -3.48289564e-02\n",
      "   3.48289564e-02 -1.80178817e-02 -2.47902726e-04 -1.67355124e-02\n",
      "   2.22604863e-02]\n",
      " [-9.89382561e-01  1.07672434e-02 -4.72119214e-02  8.65143839e-02\n",
      "  -8.65143839e-02  4.55436181e-02 -7.70546116e-04  3.56801936e-02\n",
      "  -2.14448078e-02]\n",
      " [-1.22033518e-01  3.03714642e-02 -5.78208365e-02 -4.82101703e-01\n",
      "   4.82101703e-01 -3.17587104e-01  1.42855046e-03 -4.47796508e-01\n",
      "   4.63263122e-01]]\n"
     ]
    }
   ],
   "source": [
    "print(pca_fit.components_)"
   ]
  },
  {
   "cell_type": "code",
   "execution_count": 49,
   "metadata": {},
   "outputs": [
    {
     "name": "stdout",
     "output_type": "stream",
     "text": [
      "[42.6638071   4.66202731  0.97332671  0.68623087]\n"
     ]
    }
   ],
   "source": [
    "print(pca_fit.explained_variance_)"
   ]
  },
  {
   "cell_type": "code",
   "execution_count": 51,
   "metadata": {},
   "outputs": [
    {
     "name": "stdout",
     "output_type": "stream",
     "text": [
      "[0.86418789 0.09443291 0.01971547 0.01390013]\n"
     ]
    },
    {
     "data": {
      "image/png": "[encoded data removed]",
      "text/plain": [
       "<Figure size 720x720 with 1 Axes>"
      ]
     },
     "metadata": {
      "needs_background": "light"
     },
     "output_type": "display_data"
    }
   ],
   "source": [
    "print(pca_fit.explained_variance_ratio_)\n",
    "var_exp = pd.DataFrame(pca_fit.explained_variance_ratio_,\n",
    "                       ['PC1', 'PC2','PC3','PC4'])\n",
    "var_exp.plot.bar(legend= None)\n",
    "plt.title(\"Proportion of Variance Explained by each PC\")\n",
    "plt.grid(False)"
   ]
  },
  {
   "cell_type": "markdown",
   "metadata": {},
   "source": [
    "More than 85% of variance in the data is caused by PC1. I then tried to get the variable that is responsible for\n",
    "the most variance in each principal component."
   ]
  },
  {
   "cell_type": "code",
   "execution_count": 52,
   "metadata": {},
   "outputs": [],
   "source": [
    "n_pcs= 4\n",
    "\n",
    "ind=[]\n",
    "\n",
    "for i in range(n_pcs):\n",
    "    comp= pca_fit.components_[i].argmax()\n",
    "    ind.append(comp)  \n",
    "\n",
    "important_var= []\n",
    "feature_name= ['median_income','num_critical', 'num_non_critical',\n",
    "       'critical', 'severity_core',\n",
    "       'severity_priority', 'obs_out', 'viol_cdi', 'viol_r']\n",
    "\n",
    "for i in range(n_pcs):\n",
    "    important_var.append(feature_name[ind[i]])\n",
    "\n",
    "pc_df= pd.DataFrame(data= ['PC1', 'PC2', 'PC3', 'PC4'], columns= ['PC'])\n",
    "pc_df['variable']= pd.DataFrame(data= important_var)"
   ]
  },
  {
   "cell_type": "code",
   "execution_count": 53,
   "metadata": {},
   "outputs": [
    {
     "data": {
      "text/html": [
       "<div>\n",
       "<style scoped>\n",
       "    .dataframe tbody tr th:only-of-type {\n",
       "        vertical-align: middle;\n",
       "    }\n",
       "\n",
       "    .dataframe tbody tr th {\n",
       "        vertical-align: top;\n",
       "    }\n",
       "\n",
       "    .dataframe thead th {\n",
       "        text-align: right;\n",
       "    }\n",
       "</style>\n",
       "<table border=\"1\" class=\"dataframe\">\n",
       "  <thead>\n",
       "    <tr style=\"text-align: right;\">\n",
       "      <th></th>\n",
       "      <th>PC</th>\n",
       "      <th>variable</th>\n",
       "    </tr>\n",
       "  </thead>\n",
       "  <tbody>\n",
       "    <tr>\n",
       "      <th>0</th>\n",
       "      <td>PC1</td>\n",
       "      <td>num_critical</td>\n",
       "    </tr>\n",
       "    <tr>\n",
       "      <th>1</th>\n",
       "      <td>PC2</td>\n",
       "      <td>num_non_critical</td>\n",
       "    </tr>\n",
       "    <tr>\n",
       "      <th>2</th>\n",
       "      <td>PC3</td>\n",
       "      <td>critical</td>\n",
       "    </tr>\n",
       "    <tr>\n",
       "      <th>3</th>\n",
       "      <td>PC4</td>\n",
       "      <td>severity_core</td>\n",
       "    </tr>\n",
       "  </tbody>\n",
       "</table>\n",
       "</div>"
      ],
      "text/plain": [
       "    PC          variable\n",
       "0  PC1      num_critical\n",
       "1  PC2  num_non_critical\n",
       "2  PC3          critical\n",
       "3  PC4     severity_core"
      ]
     },
     "execution_count": 53,
     "metadata": {},
     "output_type": "execute_result"
    }
   ],
   "source": [
    "pc_df"
   ]
  },
  {
   "cell_type": "markdown",
   "metadata": {},
   "source": [
    "We have that the variable with the biggest weight in PC! is num_critical. However, since each PC is a linear combination of the predictors, I cannot conclude that num_critical is the sole reason for the variance in the data."
   ]
  },
  {
   "cell_type": "markdown",
   "metadata": {},
   "source": [
    "# Ethics and Privacy"
   ]
  },
  {
   "cell_type": "markdown",
   "metadata": {},
   "source": [
    "I carried out this analysis to try to understand how health inspections scores are affected by other variables. I believe that my intentions are well-posed ane neutral without any explicit biases or proclivities coming from my end. In addition, healh inspection data within the United States are typically available to the public wuthout any restrictions, so I believe that I am not breaching any individual's privacy.\n",
    "\n",
    "However, out of the 4 datasets that I used here, I only know where inspections, violations, and restaurants are from. I have no knowledge of how or when the zipcode data was collected. The data collected might be biased towards or against some demographics in Wake County, which means that carrying out this analysis might be harmful due to the underlying biases that I do not recognize or realize. \n",
    "\n",
    "Even if I have some idea of how the rest of the datasets were collected, the same reasoning still stands. There might still be selection bias when the data was collected. For example, why are the the violation counts for some cities so low? Is it truly because there are actually very few violations in those municipalities, or are those areas excluded more during data collection for some reason? These are all things that need to be taken into consideration, especially since I do not have full knowledge of where the data comes from. I also have to recognize that even if I am not being explicity towards a certain demographic, I have my own predispositions that might have come out. "
   ]
  },
  {
   "cell_type": "markdown",
   "metadata": {},
   "source": [
    "# Conclusion and Discussion"
   ]
  },
  {
   "cell_type": "markdown",
   "metadata": {},
   "source": [
    "I found that health inspection scores are statistically affected by some variables, and the multivariate regression model above has pretty good adjusted R^2 value and the MSE is also pretty low. I thought that since some of the predictors are not statistically significant in the regression, I could further lower the MSE by doing regularization through LASSO or Ridge regression, but both methods end up with a slightly higher testing MSE. It is possible that there are better apporaches in trying to study the relationship of the scores and the variables, since both the scores and the median income are still skewed even after transformation.\n",
    "\n",
    "Some issues that I faced when doing this analysis was the unknown nature of the datasets and the lack of information. There were some columns that I still do not understand even after using the health department website as a reference. I also could not figure out how to use the Yelp data, since the Yelp data had much less observations than the other ones. The other datasets had a lot of observations, but so many of them had null values, in different columns, too. It was a lot of work trying to clean the data because I am not used to working with them.\n",
    "\n",
    "Another limitation was definitely time. If I had more time I would definitely try out different approaches on analyzing the data."
   ]
  }
 ],
 "metadata": {
  "kernelspec": {
   "display_name": "Python 3",
   "language": "python",
   "name": "python3"
  },
  "language_info": {
   "codemirror_mode": {
    "name": "ipython",
    "version": 3
   },
   "file_extension": ".py",
   "mimetype": "text/x-python",
   "name": "python",
   "nbconvert_exporter": "python",
   "pygments_lexer": "ipython3",
   "version": "3.6.7"
  }
 },
 "nbformat": 4,
 "nbformat_minor": 2
}
