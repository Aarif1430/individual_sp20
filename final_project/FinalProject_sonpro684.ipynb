{
 "cells": [
  {
   "cell_type": "markdown",
   "metadata": {},
   "source": [
    "# Overview\n",
    "I interested in finding out if the rating on Yelp of a restaurant is affected if the restaurant violated a critical health safety conduct. If there's a correlation, people can use the Yelp app in the future to avoid restaurant that didn't met the health inspection requirement."
   ]
  },
  {
   "cell_type": "markdown",
   "metadata": {},
   "source": [
    "# Name - PID\n",
    "Son Ho - A14719861"
   ]
  },
  {
   "cell_type": "markdown",
   "metadata": {},
   "source": [
    "# Research question\n",
    "\n",
    "If a restaurant violate critical health safety requirement, is the Yelp rating of the restaurant going to be lower compared to restaurant that doesn't violate the critical requirement?"
   ]
  },
  {
   "cell_type": "markdown",
   "metadata": {},
   "source": [
    "# Background and Prior Work\n",
    "The process of health inspection is described as “One inspection may not be representative of the overall, long-term sanitation of an establishment. On any given day, a restaurant may have greater or fewer violations than observed during an inspection. In addition, some violations noted on an inspection report may have been corrected at the time of the inspection, which are indicated on the report. Follow-up inspections may be conducted for specific critical violations that cannot be corrected at the time of the inspection.\" (Challenges of Health Department Food Safety Inspections article)\n",
    "\n",
    "However, due to limited budget, a challenge that the health inspection faced is the fact that there's a lot of restaurant that is only inspected once on quarterly basis, and in some case, once a year. This seems like a bad idea because as stated above, frequent inspection is a way to keep the business uphold their standards (Challenges of Health Department Food Safety Inspections article)\n",
    "\n",
    "Due to the fact that the health inspection process is not performed regularly, the number of critical violations that are reported will likely stay for a whole year. Since Yelp implemented the ability to check the violations of a restaurant (npr.org article), it is possible to check if the rating of the restaurant is affected based on the yelp data.\n",
    "\n",
    "References (include links):\n",
    "- 1) https://www.dininggrades.com/blog/challenges-of-health-department-food-safety-inspections/\n",
    "- 2) https://www.npr.org/sections/thesalt/2015/03/27/395622262/did-that-restaurant-pass-its-health-inspection-now-yelp-will-tell-you"
   ]
  },
  {
   "cell_type": "markdown",
   "metadata": {},
   "source": [
    "# Hypothesis\n",
    "\n",
    "There is a correlation between Yelp rating and critical health safety violation of a restaurant. The rating score is likely lower if the restaurant doesn't met the critical health requirement, and is likely higher otherwise. I also think that the number of critical violations, as well as the number of non-critical violation, will affect the rating score"
   ]
  },
  {
   "cell_type": "markdown",
   "metadata": {},
   "source": [
    "# Datasets\n",
    "The data is given by the professor due to the nature of personal project. I used 4 datasets, which are restaunts.csv, yelp.csv, violations.csv and inspections.csv. The restaurants data include information about the data such as name, address and zip code, the yelp data include information about the rating, the violations include the information about whether a restaurant violated a critical health requirement, and the inspection data include information about the number of critical/non-critical violations.\n",
    "\n",
    "In order to use the dataset, I combines the restaurant data and inspection data first to get the number of violations for each restaurant. After that, I combine that dataset with violations data, to add the indication of whether or not the restaurant violate the critical requirement to the combined dataset. Finally, I combine this dataset to yelp data, to get a dataset that include all the information needed to carry out the analysis"
   ]
  },
  {
   "cell_type": "markdown",
   "metadata": {},
   "source": [
    "# Setup"
   ]
  },
  {
   "cell_type": "code",
   "execution_count": 1,
   "metadata": {},
   "outputs": [],
   "source": [
    "# Display plots directly in the notebook instead of in a new window\n",
    "%matplotlib inline\n",
    "\n",
    "# Import libraries\n",
    "import numpy as np\n",
    "import pandas as pd\n",
    "import matplotlib.pyplot as plt\n",
    "import seaborn as sns\n",
    "\n",
    "import patsy\n",
    "import statsmodels.api as sm\n",
    "import scipy.stats as stats\n",
    "from scipy.stats import ttest_ind, chisquare, normaltest"
   ]
  },
  {
   "cell_type": "code",
   "execution_count": 2,
   "metadata": {},
   "outputs": [],
   "source": [
    "# Configure libraries\n",
    "# The seaborn library makes plots look nicer\n",
    "sns.set()\n",
    "sns.set_context('talk')\n",
    "\n",
    "# Don't display too many rows/cols of DataFrames\n",
    "pd.options.display.max_rows = 7\n",
    "pd.options.display.max_columns = 8\n",
    "\n",
    "# Round decimals when displaying DataFrames\n",
    "pd.set_option('precision', 2)"
   ]
  },
  {
   "cell_type": "markdown",
   "metadata": {},
   "source": [
    "# Importing data"
   ]
  },
  {
   "cell_type": "code",
   "execution_count": 3,
   "metadata": {},
   "outputs": [],
   "source": [
    "df_restaurant = pd.read_csv('restaurants.csv')\n",
    "df_reviews = pd.read_csv('yelp.csv')\n",
    "df_violations = pd.read_csv('violations.csv')\n",
    "df_inspection = pd.read_csv('inspections.csv')"
   ]
  },
  {
   "cell_type": "markdown",
   "metadata": {},
   "source": [
    "# Data cleaning\n",
    "Since I only interested in the number of time that a restaurant is inspected, I dropped every column from inspection data beside the id and the number of inspection, along with the data that show the critical/non-critical inspection that happened. \n",
    "\n",
    "After that, I start to drop the column that I think unecessary from the restaurant dataset. Finally, I merge the data to a new dataframe using hsisid."
   ]
  },
  {
   "cell_type": "code",
   "execution_count": 4,
   "metadata": {},
   "outputs": [],
   "source": [
    "# Drop unecessary/private information from inspection data\n",
    "df_inspection = df_inspection.drop(columns=['date', 'address2','city','state','phonenumber','restaurantopendate','days_from_open_date',\n",
    "                                                'facilitytype','x','y','geocodestatus','type','description','inspectedby','inspector_id',\n",
    "                                                'previous_inspection_date','days_since_previous_inspection','previous_inspection_by_same_inspector',\n",
    "                                               'num_critical_previous','num_non_critical_previous','avg_neighbor_num_critical','avg_neighbor_num_non_critical','top_match',\n",
    "                                                'second_match','critical','num_critical_mean_previous','num_non_critical_mean_previous'])\n",
    "\n",
    "# Drop uncessary/private information from restaurant data\n",
    "df_restaurant = df_restaurant.drop(columns=['state','city','phonenumber','restaurantopendate','facilitytype','x','y','geocodestatus',\n",
    "                                            'address2','postalcode'])\n",
    "\n",
    "# Merge the data\n",
    "num_inspect_res = pd.merge(left=df_restaurant, right=df_inspection, on=['hsisid'], how='inner')"
   ]
  },
  {
   "cell_type": "code",
   "execution_count": 5,
   "metadata": {},
   "outputs": [
    {
     "data": {
      "text/html": [
       "<div>\n",
       "<style scoped>\n",
       "    .dataframe tbody tr th:only-of-type {\n",
       "        vertical-align: middle;\n",
       "    }\n",
       "\n",
       "    .dataframe tbody tr th {\n",
       "        vertical-align: top;\n",
       "    }\n",
       "\n",
       "    .dataframe thead th {\n",
       "        text-align: right;\n",
       "    }\n",
       "</style>\n",
       "<table border=\"1\" class=\"dataframe\">\n",
       "  <thead>\n",
       "    <tr style=\"text-align: right;\">\n",
       "      <th></th>\n",
       "      <th>X.objectid</th>\n",
       "      <th>hsisid</th>\n",
       "      <th>name_x</th>\n",
       "      <th>address1_x</th>\n",
       "      <th>...</th>\n",
       "      <th>inspection_num</th>\n",
       "      <th>score</th>\n",
       "      <th>num_critical</th>\n",
       "      <th>num_non_critical</th>\n",
       "    </tr>\n",
       "  </thead>\n",
       "  <tbody>\n",
       "    <tr>\n",
       "      <th>0</th>\n",
       "      <td>1001</td>\n",
       "      <td>4092017230</td>\n",
       "      <td>SPRING CAFE 2</td>\n",
       "      <td>2900-104 SPRING FOREST RD</td>\n",
       "      <td>...</td>\n",
       "      <td>1</td>\n",
       "      <td>88.0</td>\n",
       "      <td>9</td>\n",
       "      <td>7</td>\n",
       "    </tr>\n",
       "    <tr>\n",
       "      <th>1</th>\n",
       "      <td>1003</td>\n",
       "      <td>4092014444</td>\n",
       "      <td>Taco Bell #22798</td>\n",
       "      <td>2207 S MAIN ST</td>\n",
       "      <td>...</td>\n",
       "      <td>1</td>\n",
       "      <td>99.0</td>\n",
       "      <td>1</td>\n",
       "      <td>6</td>\n",
       "    </tr>\n",
       "    <tr>\n",
       "      <th>2</th>\n",
       "      <td>1003</td>\n",
       "      <td>4092014444</td>\n",
       "      <td>Taco Bell #22798</td>\n",
       "      <td>2207 S MAIN ST</td>\n",
       "      <td>...</td>\n",
       "      <td>2</td>\n",
       "      <td>99.5</td>\n",
       "      <td>2</td>\n",
       "      <td>4</td>\n",
       "    </tr>\n",
       "    <tr>\n",
       "      <th>...</th>\n",
       "      <td>...</td>\n",
       "      <td>...</td>\n",
       "      <td>...</td>\n",
       "      <td>...</td>\n",
       "      <td>...</td>\n",
       "      <td>...</td>\n",
       "      <td>...</td>\n",
       "      <td>...</td>\n",
       "      <td>...</td>\n",
       "    </tr>\n",
       "    <tr>\n",
       "      <th>18463</th>\n",
       "      <td>2997</td>\n",
       "      <td>4092016663</td>\n",
       "      <td>BOJANGLES #5</td>\n",
       "      <td>3301 S WILMINGTON ST</td>\n",
       "      <td>...</td>\n",
       "      <td>6</td>\n",
       "      <td>97.0</td>\n",
       "      <td>3</td>\n",
       "      <td>3</td>\n",
       "    </tr>\n",
       "    <tr>\n",
       "      <th>18464</th>\n",
       "      <td>2999</td>\n",
       "      <td>4092017227</td>\n",
       "      <td>QUICKLY</td>\n",
       "      <td>4141 DAVIS DR</td>\n",
       "      <td>...</td>\n",
       "      <td>1</td>\n",
       "      <td>90.0</td>\n",
       "      <td>7</td>\n",
       "      <td>14</td>\n",
       "    </tr>\n",
       "    <tr>\n",
       "      <th>18465</th>\n",
       "      <td>3000</td>\n",
       "      <td>4092017274</td>\n",
       "      <td>HARRIS TEETER #43 STARBUCKS</td>\n",
       "      <td>3638 ROGERS RD</td>\n",
       "      <td>...</td>\n",
       "      <td>1</td>\n",
       "      <td>98.5</td>\n",
       "      <td>3</td>\n",
       "      <td>1</td>\n",
       "    </tr>\n",
       "  </tbody>\n",
       "</table>\n",
       "<p>18466 rows × 12 columns</p>\n",
       "</div>"
      ],
      "text/plain": [
       "       X.objectid      hsisid                       name_x  \\\n",
       "0            1001  4092017230                SPRING CAFE 2   \n",
       "1            1003  4092014444             Taco Bell #22798   \n",
       "2            1003  4092014444             Taco Bell #22798   \n",
       "...           ...         ...                          ...   \n",
       "18463        2997  4092016663                 BOJANGLES #5   \n",
       "18464        2999  4092017227                      QUICKLY   \n",
       "18465        3000  4092017274  HARRIS TEETER #43 STARBUCKS   \n",
       "\n",
       "                       address1_x  ... inspection_num score num_critical  \\\n",
       "0      2900-104 SPRING FOREST RD   ...              1  88.0            9   \n",
       "1                 2207 S MAIN ST   ...              1  99.0            1   \n",
       "2                 2207 S MAIN ST   ...              2  99.5            2   \n",
       "...                           ...  ...            ...   ...          ...   \n",
       "18463       3301 S WILMINGTON ST   ...              6  97.0            3   \n",
       "18464              4141 DAVIS DR   ...              1  90.0            7   \n",
       "18465             3638 ROGERS RD   ...              1  98.5            3   \n",
       "\n",
       "       num_non_critical  \n",
       "0                     7  \n",
       "1                     6  \n",
       "2                     4  \n",
       "...                 ...  \n",
       "18463                 3  \n",
       "18464                14  \n",
       "18465                 1  \n",
       "\n",
       "[18466 rows x 12 columns]"
      ]
     },
     "execution_count": 5,
     "metadata": {},
     "output_type": "execute_result"
    }
   ],
   "source": [
    "num_inspect_res"
   ]
  },
  {
   "cell_type": "markdown",
   "metadata": {},
   "source": [
    "After merging, I found that there's a lot of rows that is repeated, so I drop all the row that have the same hsisid, and only keep the first instance of it "
   ]
  },
  {
   "cell_type": "code",
   "execution_count": 6,
   "metadata": {},
   "outputs": [],
   "source": [
    "num_inspect_res= num_inspect_res.drop_duplicates(subset='hsisid', keep=\"first\")"
   ]
  },
  {
   "cell_type": "markdown",
   "metadata": {},
   "source": [
    "Next I drop the data that I deems unecessary in the violations data, such as description, comments, etc..., and data that violate privacy practice such as name of the inspector. Then I merge the data from the dataframe that I obtained above using X.objectid to receive the new dataframe that include a list of restaurants with the number of time that restaurant is inspected."
   ]
  },
  {
   "cell_type": "code",
   "execution_count": 7,
   "metadata": {},
   "outputs": [],
   "source": [
    "# Drop the unecessary/private information\n",
    "df_violations = df_violations.drop(columns=['violationtype', 'cdcdataitem', 'cdcriskfactor', 'count','observationtype','inspectdate',\n",
    "                                   'inspectedby','statecode','questionno','shortdesc','comments','pointvalue','category','violationcode'])\n",
    "# Merge the data\n",
    "res_data = pd.merge(left=num_inspect_res, right=df_violations, on=['X.objectid'], how='inner')"
   ]
  },
  {
   "cell_type": "code",
   "execution_count": 8,
   "metadata": {},
   "outputs": [
    {
     "data": {
      "text/html": [
       "<div>\n",
       "<style scoped>\n",
       "    .dataframe tbody tr th:only-of-type {\n",
       "        vertical-align: middle;\n",
       "    }\n",
       "\n",
       "    .dataframe tbody tr th {\n",
       "        vertical-align: top;\n",
       "    }\n",
       "\n",
       "    .dataframe thead th {\n",
       "        text-align: right;\n",
       "    }\n",
       "</style>\n",
       "<table border=\"1\" class=\"dataframe\">\n",
       "  <thead>\n",
       "    <tr style=\"text-align: right;\">\n",
       "      <th></th>\n",
       "      <th>X.objectid</th>\n",
       "      <th>hsisid_x</th>\n",
       "      <th>name_x</th>\n",
       "      <th>address1_x</th>\n",
       "      <th>...</th>\n",
       "      <th>num_non_critical</th>\n",
       "      <th>hsisid_y</th>\n",
       "      <th>critical</th>\n",
       "      <th>severity</th>\n",
       "    </tr>\n",
       "  </thead>\n",
       "  <tbody>\n",
       "    <tr>\n",
       "      <th>0</th>\n",
       "      <td>1001</td>\n",
       "      <td>4092017230</td>\n",
       "      <td>SPRING CAFE 2</td>\n",
       "      <td>2900-104 SPRING FOREST RD</td>\n",
       "      <td>...</td>\n",
       "      <td>7</td>\n",
       "      <td>4092016194</td>\n",
       "      <td>Yes</td>\n",
       "      <td>Priority Foundation</td>\n",
       "    </tr>\n",
       "    <tr>\n",
       "      <th>1</th>\n",
       "      <td>1003</td>\n",
       "      <td>4092014444</td>\n",
       "      <td>Taco Bell #22798</td>\n",
       "      <td>2207 S MAIN ST</td>\n",
       "      <td>...</td>\n",
       "      <td>6</td>\n",
       "      <td>4092015221</td>\n",
       "      <td>Yes</td>\n",
       "      <td>Priority Foundation</td>\n",
       "    </tr>\n",
       "    <tr>\n",
       "      <th>2</th>\n",
       "      <td>1004</td>\n",
       "      <td>4092015333</td>\n",
       "      <td>THE REMEDY DINER</td>\n",
       "      <td>137 E HARGETT ST</td>\n",
       "      <td>...</td>\n",
       "      <td>2</td>\n",
       "      <td>4092014885</td>\n",
       "      <td>Yes</td>\n",
       "      <td>Priority Foundation</td>\n",
       "    </tr>\n",
       "    <tr>\n",
       "      <th>...</th>\n",
       "      <td>...</td>\n",
       "      <td>...</td>\n",
       "      <td>...</td>\n",
       "      <td>...</td>\n",
       "      <td>...</td>\n",
       "      <td>...</td>\n",
       "      <td>...</td>\n",
       "      <td>...</td>\n",
       "      <td>...</td>\n",
       "    </tr>\n",
       "    <tr>\n",
       "      <th>3042</th>\n",
       "      <td>2997</td>\n",
       "      <td>4092016663</td>\n",
       "      <td>BOJANGLES #5</td>\n",
       "      <td>3301 S WILMINGTON ST</td>\n",
       "      <td>...</td>\n",
       "      <td>2</td>\n",
       "      <td>4092015457</td>\n",
       "      <td>Yes</td>\n",
       "      <td>Priority</td>\n",
       "    </tr>\n",
       "    <tr>\n",
       "      <th>3043</th>\n",
       "      <td>2999</td>\n",
       "      <td>4092017227</td>\n",
       "      <td>QUICKLY</td>\n",
       "      <td>4141 DAVIS DR</td>\n",
       "      <td>...</td>\n",
       "      <td>14</td>\n",
       "      <td>4092014946</td>\n",
       "      <td>Yes</td>\n",
       "      <td>Priority Foundation</td>\n",
       "    </tr>\n",
       "    <tr>\n",
       "      <th>3044</th>\n",
       "      <td>3000</td>\n",
       "      <td>4092017274</td>\n",
       "      <td>HARRIS TEETER #43 STARBUCKS</td>\n",
       "      <td>3638 ROGERS RD</td>\n",
       "      <td>...</td>\n",
       "      <td>1</td>\n",
       "      <td>4092017004</td>\n",
       "      <td>Yes</td>\n",
       "      <td>Priority Foundation</td>\n",
       "    </tr>\n",
       "  </tbody>\n",
       "</table>\n",
       "<p>3045 rows × 15 columns</p>\n",
       "</div>"
      ],
      "text/plain": [
       "      X.objectid    hsisid_x                       name_x  \\\n",
       "0           1001  4092017230                SPRING CAFE 2   \n",
       "1           1003  4092014444             Taco Bell #22798   \n",
       "2           1004  4092015333             THE REMEDY DINER   \n",
       "...          ...         ...                          ...   \n",
       "3042        2997  4092016663                 BOJANGLES #5   \n",
       "3043        2999  4092017227                      QUICKLY   \n",
       "3044        3000  4092017274  HARRIS TEETER #43 STARBUCKS   \n",
       "\n",
       "                      address1_x  ... num_non_critical    hsisid_y critical  \\\n",
       "0     2900-104 SPRING FOREST RD   ...                7  4092016194      Yes   \n",
       "1                2207 S MAIN ST   ...                6  4092015221      Yes   \n",
       "2              137 E HARGETT ST   ...                2  4092014885      Yes   \n",
       "...                          ...  ...              ...         ...      ...   \n",
       "3042       3301 S WILMINGTON ST   ...                2  4092015457      Yes   \n",
       "3043              4141 DAVIS DR   ...               14  4092014946      Yes   \n",
       "3044             3638 ROGERS RD   ...                1  4092017004      Yes   \n",
       "\n",
       "                 severity  \n",
       "0     Priority Foundation  \n",
       "1     Priority Foundation  \n",
       "2     Priority Foundation  \n",
       "...                   ...  \n",
       "3042             Priority  \n",
       "3043  Priority Foundation  \n",
       "3044  Priority Foundation  \n",
       "\n",
       "[3045 rows x 15 columns]"
      ]
     },
     "execution_count": 8,
     "metadata": {},
     "output_type": "execute_result"
    }
   ],
   "source": [
    "res_data"
   ]
  },
  {
   "cell_type": "markdown",
   "metadata": {},
   "source": [
    "There are some column that is repeated after merging, so I dropped those column and rename some column to be more clear"
   ]
  },
  {
   "cell_type": "code",
   "execution_count": 9,
   "metadata": {},
   "outputs": [
    {
     "data": {
      "text/html": [
       "<div>\n",
       "<style scoped>\n",
       "    .dataframe tbody tr th:only-of-type {\n",
       "        vertical-align: middle;\n",
       "    }\n",
       "\n",
       "    .dataframe tbody tr th {\n",
       "        vertical-align: top;\n",
       "    }\n",
       "\n",
       "    .dataframe thead th {\n",
       "        text-align: right;\n",
       "    }\n",
       "</style>\n",
       "<table border=\"1\" class=\"dataframe\">\n",
       "  <thead>\n",
       "    <tr style=\"text-align: right;\">\n",
       "      <th></th>\n",
       "      <th>ID</th>\n",
       "      <th>name</th>\n",
       "      <th>address</th>\n",
       "      <th>zip_code</th>\n",
       "      <th>...</th>\n",
       "      <th>score</th>\n",
       "      <th>num_critical</th>\n",
       "      <th>num_non_critical</th>\n",
       "      <th>critical</th>\n",
       "    </tr>\n",
       "  </thead>\n",
       "  <tbody>\n",
       "    <tr>\n",
       "      <th>0</th>\n",
       "      <td>1001</td>\n",
       "      <td>SPRING CAFE 2</td>\n",
       "      <td>2900-104 SPRING FOREST RD</td>\n",
       "      <td>27616</td>\n",
       "      <td>...</td>\n",
       "      <td>88.0</td>\n",
       "      <td>9</td>\n",
       "      <td>7</td>\n",
       "      <td>Yes</td>\n",
       "    </tr>\n",
       "    <tr>\n",
       "      <th>1</th>\n",
       "      <td>1003</td>\n",
       "      <td>Taco Bell #22798</td>\n",
       "      <td>2207 S MAIN ST</td>\n",
       "      <td>27587</td>\n",
       "      <td>...</td>\n",
       "      <td>99.0</td>\n",
       "      <td>1</td>\n",
       "      <td>6</td>\n",
       "      <td>Yes</td>\n",
       "    </tr>\n",
       "    <tr>\n",
       "      <th>2</th>\n",
       "      <td>1004</td>\n",
       "      <td>THE REMEDY DINER</td>\n",
       "      <td>137 E HARGETT ST</td>\n",
       "      <td>27601</td>\n",
       "      <td>...</td>\n",
       "      <td>98.5</td>\n",
       "      <td>1</td>\n",
       "      <td>2</td>\n",
       "      <td>Yes</td>\n",
       "    </tr>\n",
       "    <tr>\n",
       "      <th>3</th>\n",
       "      <td>1005</td>\n",
       "      <td>ZEBULON HOUSE (KITCHEN)</td>\n",
       "      <td>551 PONY RD</td>\n",
       "      <td>27597</td>\n",
       "      <td>...</td>\n",
       "      <td>96.5</td>\n",
       "      <td>3</td>\n",
       "      <td>8</td>\n",
       "      <td>Yes</td>\n",
       "    </tr>\n",
       "    <tr>\n",
       "      <th>4</th>\n",
       "      <td>1006</td>\n",
       "      <td>CHARLES BUGG CAFETERIA</td>\n",
       "      <td>825 COOPER ST</td>\n",
       "      <td>27610</td>\n",
       "      <td>...</td>\n",
       "      <td>98.5</td>\n",
       "      <td>2</td>\n",
       "      <td>2</td>\n",
       "      <td>Yes</td>\n",
       "    </tr>\n",
       "  </tbody>\n",
       "</table>\n",
       "<p>5 rows × 9 columns</p>\n",
       "</div>"
      ],
      "text/plain": [
       "     ID                     name                     address  zip_code  ...  \\\n",
       "0  1001            SPRING CAFE 2  2900-104 SPRING FOREST RD      27616  ...   \n",
       "1  1003         Taco Bell #22798             2207 S MAIN ST      27587  ...   \n",
       "2  1004         THE REMEDY DINER           137 E HARGETT ST      27601  ...   \n",
       "3  1005  ZEBULON HOUSE (KITCHEN)                551 PONY RD      27597  ...   \n",
       "4  1006   CHARLES BUGG CAFETERIA              825 COOPER ST      27610  ...   \n",
       "\n",
       "   score  num_critical  num_non_critical  critical  \n",
       "0   88.0             9                 7       Yes  \n",
       "1   99.0             1                 6       Yes  \n",
       "2   98.5             1                 2       Yes  \n",
       "3   96.5             3                 8       Yes  \n",
       "4   98.5             2                 2       Yes  \n",
       "\n",
       "[5 rows x 9 columns]"
      ]
     },
     "execution_count": 9,
     "metadata": {},
     "output_type": "execute_result"
    }
   ],
   "source": [
    "# Drop unessary information and rename column\n",
    "res_data = res_data.drop(columns=['hsisid_x','hsisid_y','severity', 'name_y', 'address1_y','postalcode'])\n",
    "res_data.rename(columns={\"name_x\": \"name\", \"address1_x\": \"address\", \"X.objectid\":\"ID\", \"zip\":\"zip_code\"},inplace=True)\n",
    "\n",
    "res_data.head()"
   ]
  },
  {
   "cell_type": "markdown",
   "metadata": {},
   "source": [
    "After checking the reviews data from yelp, I noticed that some restaurant doesn't have an address. Therefore, I dropped the row that doesn't have the address available, since I need the address to merge the data, with the merged dataset above. After dropping the row with missing address, I dropped the column that contains information that is not helpful for my analysis. Finally, I think that review count is only matter if the number of review for a restaurant is more than 10, thus, I remove the row where the number of reviews is less than 10."
   ]
  },
  {
   "cell_type": "code",
   "execution_count": 10,
   "metadata": {},
   "outputs": [],
   "source": [
    "df_reviews = df_reviews.dropna(subset=['address1'])\n",
    "df_reviews = df_reviews.drop(columns=['id','latitude','longitude','price','phone','hotdogs','sandwiches','pizza','tradamerican',\n",
    "                                    'burgers','mexican','grocery','breakfast_brunch','coffee','chinese','italian','newamerican',\n",
    "                                    'chicken_wings','delis','bars','salad','seafood','bbq','bakeries','sushi'])\n",
    "df_reviews = df_reviews[df_reviews[\"review_count\"] >= 10]"
   ]
  },
  {
   "cell_type": "code",
   "execution_count": 11,
   "metadata": {},
   "outputs": [
    {
     "data": {
      "text/html": [
       "<div>\n",
       "<style scoped>\n",
       "    .dataframe tbody tr th:only-of-type {\n",
       "        vertical-align: middle;\n",
       "    }\n",
       "\n",
       "    .dataframe tbody tr th {\n",
       "        vertical-align: top;\n",
       "    }\n",
       "\n",
       "    .dataframe thead th {\n",
       "        text-align: right;\n",
       "    }\n",
       "</style>\n",
       "<table border=\"1\" class=\"dataframe\">\n",
       "  <thead>\n",
       "    <tr style=\"text-align: right;\">\n",
       "      <th></th>\n",
       "      <th>name</th>\n",
       "      <th>is_closed</th>\n",
       "      <th>rating</th>\n",
       "      <th>review_count</th>\n",
       "      <th>address1</th>\n",
       "      <th>zip_code</th>\n",
       "    </tr>\n",
       "  </thead>\n",
       "  <tbody>\n",
       "    <tr>\n",
       "      <th>0</th>\n",
       "      <td>42nd street oyster bar - rdu airport</td>\n",
       "      <td>False</td>\n",
       "      <td>2.5</td>\n",
       "      <td>23</td>\n",
       "      <td>2400 John Brantley Blvd</td>\n",
       "      <td>27560</td>\n",
       "    </tr>\n",
       "    <tr>\n",
       "      <th>1</th>\n",
       "      <td>aldi foods</td>\n",
       "      <td>False</td>\n",
       "      <td>4.0</td>\n",
       "      <td>17</td>\n",
       "      <td>2303 NW Maynard Rd</td>\n",
       "      <td>27519</td>\n",
       "    </tr>\n",
       "    <tr>\n",
       "      <th>3</th>\n",
       "      <td>olive garden italian restaurant</td>\n",
       "      <td>False</td>\n",
       "      <td>3.0</td>\n",
       "      <td>16</td>\n",
       "      <td>3401 Raleigh Rd Pkwy W</td>\n",
       "      <td>27893</td>\n",
       "    </tr>\n",
       "    <tr>\n",
       "      <th>...</th>\n",
       "      <td>...</td>\n",
       "      <td>...</td>\n",
       "      <td>...</td>\n",
       "      <td>...</td>\n",
       "      <td>...</td>\n",
       "      <td>...</td>\n",
       "    </tr>\n",
       "    <tr>\n",
       "      <th>3683</th>\n",
       "      <td>carter-finley stadium</td>\n",
       "      <td>False</td>\n",
       "      <td>3.5</td>\n",
       "      <td>23</td>\n",
       "      <td>4600 Trinity Rd</td>\n",
       "      <td>27607</td>\n",
       "    </tr>\n",
       "    <tr>\n",
       "      <th>3684</th>\n",
       "      <td>raleigh little theatre</td>\n",
       "      <td>False</td>\n",
       "      <td>3.5</td>\n",
       "      <td>24</td>\n",
       "      <td>301 Pogue St</td>\n",
       "      <td>27607</td>\n",
       "    </tr>\n",
       "    <tr>\n",
       "      <th>3685</th>\n",
       "      <td>sky zone trampoline park, durham</td>\n",
       "      <td>False</td>\n",
       "      <td>4.0</td>\n",
       "      <td>12</td>\n",
       "      <td>1720 Guess Rd</td>\n",
       "      <td>27701</td>\n",
       "    </tr>\n",
       "  </tbody>\n",
       "</table>\n",
       "<p>2406 rows × 6 columns</p>\n",
       "</div>"
      ],
      "text/plain": [
       "                                      name  is_closed  rating  review_count  \\\n",
       "0     42nd street oyster bar - rdu airport      False     2.5            23   \n",
       "1                               aldi foods      False     4.0            17   \n",
       "3          olive garden italian restaurant      False     3.0            16   \n",
       "...                                    ...        ...     ...           ...   \n",
       "3683                 carter-finley stadium      False     3.5            23   \n",
       "3684                raleigh little theatre      False     3.5            24   \n",
       "3685      sky zone trampoline park, durham      False     4.0            12   \n",
       "\n",
       "                     address1  zip_code  \n",
       "0     2400 John Brantley Blvd     27560  \n",
       "1          2303 NW Maynard Rd     27519  \n",
       "3      3401 Raleigh Rd Pkwy W     27893  \n",
       "...                       ...       ...  \n",
       "3683          4600 Trinity Rd     27607  \n",
       "3684             301 Pogue St     27607  \n",
       "3685            1720 Guess Rd     27701  \n",
       "\n",
       "[2406 rows x 6 columns]"
      ]
     },
     "execution_count": 11,
     "metadata": {},
     "output_type": "execute_result"
    }
   ],
   "source": [
    "df_reviews"
   ]
  },
  {
   "cell_type": "markdown",
   "metadata": {},
   "source": [
    "Since the address in the merged dataset is all upper-cased, compared to a normally formatted address in the review dataset, I first transform the address of of both dataset to all lower-cased to a new column in both dataset, then I merge the datasets using the new column and the zip code. Finally, I remove the repeated rows and columns to obtained the final dataset that I will use for analyzing."
   ]
  },
  {
   "cell_type": "code",
   "execution_count": 12,
   "metadata": {},
   "outputs": [
    {
     "data": {
      "text/html": [
       "<div>\n",
       "<style scoped>\n",
       "    .dataframe tbody tr th:only-of-type {\n",
       "        vertical-align: middle;\n",
       "    }\n",
       "\n",
       "    .dataframe tbody tr th {\n",
       "        vertical-align: top;\n",
       "    }\n",
       "\n",
       "    .dataframe thead th {\n",
       "        text-align: right;\n",
       "    }\n",
       "</style>\n",
       "<table border=\"1\" class=\"dataframe\">\n",
       "  <thead>\n",
       "    <tr style=\"text-align: right;\">\n",
       "      <th></th>\n",
       "      <th>rating</th>\n",
       "      <th>review_count</th>\n",
       "      <th>zip_code_x</th>\n",
       "      <th>inspection_num</th>\n",
       "      <th>num_critical</th>\n",
       "      <th>num_non_critical</th>\n",
       "      <th>critical</th>\n",
       "    </tr>\n",
       "  </thead>\n",
       "  <tbody>\n",
       "    <tr>\n",
       "      <th>0</th>\n",
       "      <td>3.5</td>\n",
       "      <td>25</td>\n",
       "      <td>27610</td>\n",
       "      <td>1</td>\n",
       "      <td>6</td>\n",
       "      <td>7</td>\n",
       "      <td>Yes</td>\n",
       "    </tr>\n",
       "    <tr>\n",
       "      <th>2</th>\n",
       "      <td>4.0</td>\n",
       "      <td>20</td>\n",
       "      <td>27545</td>\n",
       "      <td>1</td>\n",
       "      <td>3</td>\n",
       "      <td>11</td>\n",
       "      <td>Yes</td>\n",
       "    </tr>\n",
       "    <tr>\n",
       "      <th>3</th>\n",
       "      <td>3.5</td>\n",
       "      <td>23</td>\n",
       "      <td>27606</td>\n",
       "      <td>1</td>\n",
       "      <td>4</td>\n",
       "      <td>6</td>\n",
       "      <td>Yes</td>\n",
       "    </tr>\n",
       "    <tr>\n",
       "      <th>...</th>\n",
       "      <td>...</td>\n",
       "      <td>...</td>\n",
       "      <td>...</td>\n",
       "      <td>...</td>\n",
       "      <td>...</td>\n",
       "      <td>...</td>\n",
       "      <td>...</td>\n",
       "    </tr>\n",
       "    <tr>\n",
       "      <th>218</th>\n",
       "      <td>4.0</td>\n",
       "      <td>10</td>\n",
       "      <td>27511</td>\n",
       "      <td>1</td>\n",
       "      <td>2</td>\n",
       "      <td>3</td>\n",
       "      <td>Yes</td>\n",
       "    </tr>\n",
       "    <tr>\n",
       "      <th>219</th>\n",
       "      <td>2.5</td>\n",
       "      <td>159</td>\n",
       "      <td>27518</td>\n",
       "      <td>1</td>\n",
       "      <td>1</td>\n",
       "      <td>4</td>\n",
       "      <td>Yes</td>\n",
       "    </tr>\n",
       "    <tr>\n",
       "      <th>220</th>\n",
       "      <td>4.0</td>\n",
       "      <td>50</td>\n",
       "      <td>27601</td>\n",
       "      <td>1</td>\n",
       "      <td>9</td>\n",
       "      <td>19</td>\n",
       "      <td>Yes</td>\n",
       "    </tr>\n",
       "  </tbody>\n",
       "</table>\n",
       "<p>147 rows × 7 columns</p>\n",
       "</div>"
      ],
      "text/plain": [
       "     rating  review_count  zip_code_x  inspection_num  num_critical  \\\n",
       "0       3.5            25       27610               1             6   \n",
       "2       4.0            20       27545               1             3   \n",
       "3       3.5            23       27606               1             4   \n",
       "..      ...           ...         ...             ...           ...   \n",
       "218     4.0            10       27511               1             2   \n",
       "219     2.5           159       27518               1             1   \n",
       "220     4.0            50       27601               1             9   \n",
       "\n",
       "     num_non_critical critical  \n",
       "0                   7      Yes  \n",
       "2                  11      Yes  \n",
       "3                   6      Yes  \n",
       "..                ...      ...  \n",
       "218                 3      Yes  \n",
       "219                 4      Yes  \n",
       "220                19      Yes  \n",
       "\n",
       "[147 rows x 7 columns]"
      ]
     },
     "execution_count": 12,
     "metadata": {},
     "output_type": "execute_result"
    }
   ],
   "source": [
    "# Lower \n",
    "df_reviews['address_lower'] = df_reviews['address1'].str.lower()\n",
    "res_data['address_lower'] = res_data['address'].str.lower()\n",
    "df_final = pd.merge(left=df_reviews, right=res_data, on=['address_lower'], how='inner')\n",
    "df_final = df_final.drop_duplicates(subset='address', keep=\"first\")\n",
    "df_final = df_final.drop(columns=['name_x','is_closed', 'address1', 'address_lower','zip_code_y',\n",
    "                                'name_y','ID', 'score', 'address'])\n",
    "df_final"
   ]
  },
  {
   "cell_type": "markdown",
   "metadata": {},
   "source": [
    "# Visualization\n",
    "\n",
    "First of all, I used bar plot to check to see if the rating is affected if the restaurant violated critical safety measure"
   ]
  },
  {
   "cell_type": "code",
   "execution_count": 13,
   "metadata": {},
   "outputs": [
    {
     "data": {
      "image/png": "[encoded data removed]",
      "text/plain": [
       "<Figure size 432x288 with 1 Axes>"
      ]
     },
     "metadata": {},
     "output_type": "display_data"
    }
   ],
   "source": [
    "df_final.groupby(['rating','critical']).size().unstack().plot(kind='bar',stacked=True)\n",
    "plt.show()"
   ]
  },
  {
   "cell_type": "code",
   "execution_count": 14,
   "metadata": {},
   "outputs": [
    {
     "data": {
      "image/png": "[encoded data removed]",
      "text/plain": [
       "<Figure size 360x360 with 1 Axes>"
      ]
     },
     "metadata": {},
     "output_type": "display_data"
    }
   ],
   "source": [
    "sns.catplot(x=\"critical\", y=\"rating\", data=df_final);"
   ]
  },
  {
   "cell_type": "markdown",
   "metadata": {},
   "source": [
    "I also want to check if the number of critical and non critical violation affect the rating, so I plot the data using a point graph for each critical and non-critical amount of violation"
   ]
  },
  {
   "cell_type": "code",
   "execution_count": 15,
   "metadata": {},
   "outputs": [
    {
     "data": {
      "text/plain": [
       "<matplotlib.axes._subplots.AxesSubplot at 0x7fba9c742240>"
      ]
     },
     "execution_count": 15,
     "metadata": {},
     "output_type": "execute_result"
    },
    {
     "data": {
      "image/png": "[encoded data removed]",
      "text/plain": [
       "<Figure size 432x288 with 1 Axes>"
      ]
     },
     "metadata": {},
     "output_type": "display_data"
    }
   ],
   "source": [
    "df_final.plot(x='num_critical', y='rating', style='o')"
   ]
  },
  {
   "cell_type": "code",
   "execution_count": 16,
   "metadata": {},
   "outputs": [
    {
     "data": {
      "text/plain": [
       "<matplotlib.axes._subplots.AxesSubplot at 0x7fba9c742b38>"
      ]
     },
     "execution_count": 16,
     "metadata": {},
     "output_type": "execute_result"
    },
    {
     "data": {
      "image/png": "[encoded data removed]",
      "text/plain": [
       "<Figure size 432x288 with 1 Axes>"
      ]
     },
     "metadata": {},
     "output_type": "display_data"
    }
   ],
   "source": [
    "df_final.plot(x='num_non_critical', y='rating', style='o')"
   ]
  },
  {
   "cell_type": "markdown",
   "metadata": {},
   "source": [
    "# Analysis"
   ]
  },
  {
   "cell_type": "markdown",
   "metadata": {},
   "source": [
    "Based on the above graphs, it seems that even when the restaurant have violated critical violation, the rating doesn't seems to get affected by it. Moreover, the number of violations, whether critical of non-critical, doens't seems to affect the rating of the restaurant. In order to confirm this claim, I calculate the mean and check to see if they are similar, along with checking the correlation of the data."
   ]
  },
  {
   "cell_type": "code",
   "execution_count": 17,
   "metadata": {},
   "outputs": [
    {
     "name": "stdout",
     "output_type": "stream",
     "text": [
      "Average rating score of restaurant that have violated critical safety issue is: \t3.47\n",
      "Average rating score of restaurant that don't violate critical safety issue is: \t3.75\n"
     ]
    }
   ],
   "source": [
    "rating_critical=df_final[df_final['critical']== 'Yes']['rating'].values\n",
    "rating_non_critical=df_final[df_final['critical']== 'No']['rating'].values\n",
    "\n",
    "avg_critical = rating_critical.mean()\n",
    "avg_non_critical = rating_non_critical.mean()\n",
    "print('Average rating score of restaurant that have violated critical safety issue is: \\t{:2.2f}'.format(avg_critical))\n",
    "print(\"Average rating score of restaurant that don't violate critical safety issue is: \\t{:2.2f}\".format(avg_non_critical))"
   ]
  },
  {
   "cell_type": "code",
   "execution_count": 18,
   "metadata": {},
   "outputs": [
    {
     "data": {
      "text/html": [
       "<div>\n",
       "<style scoped>\n",
       "    .dataframe tbody tr th:only-of-type {\n",
       "        vertical-align: middle;\n",
       "    }\n",
       "\n",
       "    .dataframe tbody tr th {\n",
       "        vertical-align: top;\n",
       "    }\n",
       "\n",
       "    .dataframe thead th {\n",
       "        text-align: right;\n",
       "    }\n",
       "</style>\n",
       "<table border=\"1\" class=\"dataframe\">\n",
       "  <thead>\n",
       "    <tr style=\"text-align: right;\">\n",
       "      <th></th>\n",
       "      <th>rating</th>\n",
       "      <th>review_count</th>\n",
       "      <th>zip_code_x</th>\n",
       "      <th>inspection_num</th>\n",
       "      <th>num_critical</th>\n",
       "      <th>num_non_critical</th>\n",
       "      <th>critical</th>\n",
       "    </tr>\n",
       "  </thead>\n",
       "  <tbody>\n",
       "    <tr>\n",
       "      <th>rating</th>\n",
       "      <td>1.00e+00</td>\n",
       "      <td>0.29</td>\n",
       "      <td>0.13</td>\n",
       "      <td>NaN</td>\n",
       "      <td>2.16e-02</td>\n",
       "      <td>2.22e-03</td>\n",
       "      <td>-1.21e-01</td>\n",
       "    </tr>\n",
       "    <tr>\n",
       "      <th>review_count</th>\n",
       "      <td>2.94e-01</td>\n",
       "      <td>1.00</td>\n",
       "      <td>0.07</td>\n",
       "      <td>NaN</td>\n",
       "      <td>-3.09e-02</td>\n",
       "      <td>-8.14e-02</td>\n",
       "      <td>1.25e-02</td>\n",
       "    </tr>\n",
       "    <tr>\n",
       "      <th>zip_code_x</th>\n",
       "      <td>1.33e-01</td>\n",
       "      <td>0.07</td>\n",
       "      <td>1.00</td>\n",
       "      <td>NaN</td>\n",
       "      <td>9.98e-02</td>\n",
       "      <td>1.68e-01</td>\n",
       "      <td>3.29e-02</td>\n",
       "    </tr>\n",
       "    <tr>\n",
       "      <th>inspection_num</th>\n",
       "      <td>NaN</td>\n",
       "      <td>NaN</td>\n",
       "      <td>NaN</td>\n",
       "      <td>NaN</td>\n",
       "      <td>NaN</td>\n",
       "      <td>NaN</td>\n",
       "      <td>NaN</td>\n",
       "    </tr>\n",
       "    <tr>\n",
       "      <th>num_critical</th>\n",
       "      <td>2.16e-02</td>\n",
       "      <td>-0.03</td>\n",
       "      <td>0.10</td>\n",
       "      <td>NaN</td>\n",
       "      <td>1.00e+00</td>\n",
       "      <td>4.90e-01</td>\n",
       "      <td>-7.29e-03</td>\n",
       "    </tr>\n",
       "    <tr>\n",
       "      <th>num_non_critical</th>\n",
       "      <td>2.22e-03</td>\n",
       "      <td>-0.08</td>\n",
       "      <td>0.17</td>\n",
       "      <td>NaN</td>\n",
       "      <td>4.90e-01</td>\n",
       "      <td>1.00e+00</td>\n",
       "      <td>-4.60e-02</td>\n",
       "    </tr>\n",
       "    <tr>\n",
       "      <th>critical</th>\n",
       "      <td>-1.21e-01</td>\n",
       "      <td>0.01</td>\n",
       "      <td>0.03</td>\n",
       "      <td>NaN</td>\n",
       "      <td>-7.29e-03</td>\n",
       "      <td>-4.60e-02</td>\n",
       "      <td>1.00e+00</td>\n",
       "    </tr>\n",
       "  </tbody>\n",
       "</table>\n",
       "</div>"
      ],
      "text/plain": [
       "                    rating  review_count  zip_code_x  inspection_num  \\\n",
       "rating            1.00e+00          0.29        0.13             NaN   \n",
       "review_count      2.94e-01          1.00        0.07             NaN   \n",
       "zip_code_x        1.33e-01          0.07        1.00             NaN   \n",
       "inspection_num         NaN           NaN         NaN             NaN   \n",
       "num_critical      2.16e-02         -0.03        0.10             NaN   \n",
       "num_non_critical  2.22e-03         -0.08        0.17             NaN   \n",
       "critical         -1.21e-01          0.01        0.03             NaN   \n",
       "\n",
       "                  num_critical  num_non_critical  critical  \n",
       "rating                2.16e-02          2.22e-03 -1.21e-01  \n",
       "review_count         -3.09e-02         -8.14e-02  1.25e-02  \n",
       "zip_code_x            9.98e-02          1.68e-01  3.29e-02  \n",
       "inspection_num             NaN               NaN       NaN  \n",
       "num_critical          1.00e+00          4.90e-01 -7.29e-03  \n",
       "num_non_critical      4.90e-01          1.00e+00 -4.60e-02  \n",
       "critical             -7.29e-03         -4.60e-02  1.00e+00  "
      ]
     },
     "execution_count": 18,
     "metadata": {},
     "output_type": "execute_result"
    }
   ],
   "source": [
    "def binary_change(string):\n",
    "    if string == \"Yes\":\n",
    "        return 1\n",
    "    else:\n",
    "        return 0\n",
    "\n",
    "df_final['critical'] = df_final['critical'].apply(binary_change)\n",
    "corr = df_final.corr()\n",
    "corr"
   ]
  },
  {
   "cell_type": "markdown",
   "metadata": {},
   "source": [
    "Whether or not the restaurant violated critical health requirement, the average rating score is close, where it supposed to be greatly difference based on the hypothesis, since if the critical violation affect the rating, the average rating should be lower when there's a critical violation, and higher otherwise. This is not the case.\n",
    "\n",
    "Moreover, the correlation table prove the there's no correlation between critical violation and rating score, and the amount of critical/non-critical violation is also have no correlation with the rating. Therefore, I failed to prove the hypothesis, thus, prove that the critical violation doesn't have any effect on the Yelp reviews to the restaurant"
   ]
  },
  {
   "cell_type": "markdown",
   "metadata": {},
   "source": [
    "# Privacy and ethics"
   ]
  },
  {
   "cell_type": "markdown",
   "metadata": {},
   "source": [
    "The analysis is performed on restaurants with address, and geo coordination given, along with the name of the inspector for each restaurant. In order to maintain privacy, I have performed steps such as stripping the data of private information such as name, address, x/y coordination of the restaurant, geolocation information.\n",
    "\n",
    "I think my question/hypothesis is ethical since I simply try to analyze the effect of health inspection on restaurant review, and what I did is trying to find if this problem affect the customers experience at the restaurant in general. The data that I gathered is already available to the publics (Yelp/Google reviews), and after cleaning the data, it's impossible to track which restaurant violated the critical requirement, and it won't affect their business.\n",
    "\n",
    "The data is picked up randomly from all the local restaurants, so there's no biased contains in the data. However, since the data only picked from local restaurant, it's not representative of all the restaurant that is available on Yelp."
   ]
  },
  {
   "cell_type": "markdown",
   "metadata": {},
   "source": [
    "# Conclusion and Dicussion"
   ]
  }
 ],
 "metadata": {
  "kernelspec": {
   "display_name": "Python 3",
   "language": "python",
   "name": "python3"
  },
  "language_info": {
   "codemirror_mode": {
    "name": "ipython",
    "version": 3
   },
   "file_extension": ".py",
   "mimetype": "text/x-python",
   "name": "python",
   "nbconvert_exporter": "python",
   "pygments_lexer": "ipython3",
   "version": "3.6.7"
  }
 },
 "nbformat": 4,
 "nbformat_minor": 2
}
