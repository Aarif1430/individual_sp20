{
 "cells": [
  {
   "cell_type": "markdown",
   "metadata": {},
   "source": [
    "# COGS 108 - What Does Resturuant Cleanliness Say About Customer Popularity"
   ]
  },
  {
   "cell_type": "markdown",
   "metadata": {},
   "source": [
    "# Overview"
   ]
  },
  {
   "cell_type": "markdown",
   "metadata": {},
   "source": [
    "I am analyzing data on restauruant popularity based upon the cleanliness of different restauruant within the United States, specifically North Carolina. To do so, I will be using data from health inspections and using their scores receied as a 'cleanliness' rating, while using yelp reviews as the basis for customer 'satisfaction.' My findings form this study concluded that cleanliness has little to no impact on people's satisfaction about different dininng esablishments"
   ]
  },
  {
   "cell_type": "markdown",
   "metadata": {},
   "source": [
    "# Names & PID\n",
    "\n",
    "- Name: Alex Nguyen\n",
    "- PID: A11285013"
   ]
  },
  {
   "cell_type": "markdown",
   "metadata": {},
   "source": [
    "# Research Question"
   ]
  },
  {
   "cell_type": "markdown",
   "metadata": {},
   "source": [
    "You would think that clanliness can be associated with good service and populairty for dining resturuants, but is this alwasy the case? I decided to conduct a statistical analysis on this idea and check does cleanliness affect custoiner's opinion about the establishment in North Carolina?"
   ]
  },
  {
   "cell_type": "markdown",
   "metadata": {},
   "source": [
    "## Background and Prior Work"
   ]
  },
  {
   "cell_type": "markdown",
   "metadata": {},
   "source": [
    "References (include links):\n",
    "- 1) \"Restaurant cleanliness is considered one of\n",
    "    the most significant conditions when customers evaluate overall restaurant quality or decide their levels of\n",
    "    satisfaction. However, there have been few studies of perceptions of restaurant cleanliness in customers’\n",
    "    eyes.\" (https://vtechworks.lib.vt.edu/bitstream/handle/10919/34127/Yoo_SA_T_2012.pdf?sequence=1)\n",
    "- 2) \"The important factors for the entire sample were quality of food, taste of the food,\n",
    "    and hygiene and cleanliness, in descending order of importance, while availability of\n",
    "    vegetarian choices, availability of new items, and cultural familiarity were the least\n",
    "    important factors for the whole sample.\" (http://www2.uwstout.edu/content/lib/thesis/2000/2000monteirop.pdf)"
   ]
  },
  {
   "cell_type": "markdown",
   "metadata": {},
   "source": [
    "# Hypothesis\n"
   ]
  },
  {
   "cell_type": "markdown",
   "metadata": {},
   "source": [
    "Cleaner resturaunts will have a better opinion about that establishment compared to those that are not as clean in the North Carolina.\n",
    "\n",
    "This is based upon personal experience, perference, and intuition, as well as other research referenced above."
   ]
  },
  {
   "cell_type": "markdown",
   "metadata": {},
   "source": [
    "# Data"
   ]
  },
  {
   "cell_type": "markdown",
   "metadata": {},
   "source": [
    "The data sets that will be included in this data analysis will include the following:\n",
    "- inspections.csv : the health inspection scores will be used to form the basis of our 'cleanliness' statistic\n",
    "- yelp.csv : the average of customer yelp reviews will be used to form the basis of our 'populaurity' statistic\n",
    "\n",
    "All data sets used in this analysis were sourced from the COGS 108 provided data files, which come from what is assumed to be public data from health inspectiosn and yelp reviews about different eateries in North Carolina."
   ]
  },
  {
   "cell_type": "markdown",
   "metadata": {},
   "source": [
    "# Data Cleaning / Processing"
   ]
  },
  {
   "cell_type": "markdown",
   "metadata": {},
   "source": [
    "We started by cleaning our data, removing irrelivant and non-anonymizable sensitive information from each data set, and truncating longitude and latitude coodrdinates to two decimals. We also removed any instanced of NaN data, as missing or incompelte data which would have interfered with calculations.\n",
    "To ensure that data and location remained anonymized, we will now truncate the coordinates down to two decimals.\n",
    "Furthermore, to increase validity of 'satisfaction' reviews, we will also remove all data associate with less than 10 review_counts."
   ]
  },
  {
   "cell_type": "markdown",
   "metadata": {},
   "source": [
    "# Data Analysis and Results"
   ]
  },
  {
   "cell_type": "code",
   "execution_count": 51,
   "metadata": {},
   "outputs": [],
   "source": [
    "# Imports\n",
    "%matplotlib inline\n",
    "\n",
    "import numpy as np\n",
    "import pandas as pd\n",
    "import matplotlib.pyplot as plt"
   ]
  },
  {
   "cell_type": "code",
   "execution_count": 52,
   "metadata": {},
   "outputs": [],
   "source": [
    "#Importing Datasets:\n",
    "\n",
    "inspDF = pd.read_csv('data/inspections.csv')\n",
    "yelpDF = pd.read_csv('data/yelp.csv')"
   ]
  },
  {
   "cell_type": "code",
   "execution_count": 53,
   "metadata": {},
   "outputs": [],
   "source": [
    "#Dropping senstivie and irrelivant data\n",
    "inspDF = inspDF.drop(columns = ['postalcode','zip','hsisid', 'date', 'name', 'address1', 'address2', 'city', 'phonenumber', 'restaurantopendate', 'days_from_open_date', 'geocodestatus', 'type', 'description', 'inspectedby', 'inspection_num', 'inspector_id', 'days_since_previous_inspection', 'previous_inspection_by_same_inspector', 'num_critical','num_non_critical', 'num_critical_previous', 'num_non_critical_previous', 'num_critical_mean_previous', 'num_non_critical_mean_previous', 'avg_neighbor_num_critical', 'avg_neighbor_num_non_critical', 'top_match', 'second_match', 'critical', 'previous_inspection_date'])\n",
    "yelpDF = yelpDF.drop(columns = ['zip_code','id','name','is_closed','address1','price','phone','hotdogs','sandwiches','pizza','tradamerican','burgers','mexican','grocery','breakfast_brunch','coffee','chinese','italian','newamerican','chicken_wings','delis','bars','salad','seafood','bbq','bakeries','sushi'])"
   ]
  },
  {
   "cell_type": "code",
   "execution_count": 54,
   "metadata": {},
   "outputs": [],
   "source": [
    "#Drop all null values since missing values now and beyond will prevent identification or provide no data to compare\n",
    "inspDF.dropna(how='any', inplace=True)\n",
    "yelpDF.dropna(how='any', inplace=True)"
   ]
  },
  {
   "cell_type": "code",
   "execution_count": 55,
   "metadata": {},
   "outputs": [],
   "source": [
    "#Sort By x to reoder date to line up with yelpDF\n",
    "inspDF.sort_values('x', inplace=True)\n",
    "inspDF = inspDF.reset_index(drop=True)\n",
    "\n",
    "#Filter out all facilitytypes that are no Resturuants\n",
    "inspDF.drop(inspDF[inspDF.facilitytype != 'Restaurant'].index, inplace=True)"
   ]
  },
  {
   "cell_type": "code",
   "execution_count": 56,
   "metadata": {},
   "outputs": [],
   "source": [
    "#It can be seen that the same resturuant has been reviewed for healthinspeciton multiple times, so we will consolidate each restauraunt's score by averaging their scores.\n",
    "avgScores=inspDF.groupby(inspDF['x']).mean()\n",
    "avgScores = avgScores[['score']].reset_index()"
   ]
  },
  {
   "cell_type": "code",
   "execution_count": 57,
   "metadata": {},
   "outputs": [
    {
     "name": "stderr",
     "output_type": "stream",
     "text": [
      "/opt/conda/lib/python3.6/site-packages/ipykernel_launcher.py:5: SettingWithCopyWarning: \n",
      "A value is trying to be set on a copy of a slice from a DataFrame\n",
      "\n",
      "See the caveats in the documentation: http://pandas.pydata.org/pandas-docs/stable/user_guide/indexing.html#returning-a-view-versus-a-copy\n",
      "  \"\"\"\n"
     ]
    },
    {
     "data": {
      "text/html": [
       "<div>\n",
       "<style scoped>\n",
       "    .dataframe tbody tr th:only-of-type {\n",
       "        vertical-align: middle;\n",
       "    }\n",
       "\n",
       "    .dataframe tbody tr th {\n",
       "        vertical-align: top;\n",
       "    }\n",
       "\n",
       "    .dataframe thead th {\n",
       "        text-align: right;\n",
       "    }\n",
       "</style>\n",
       "<table border=\"1\" class=\"dataframe\">\n",
       "  <thead>\n",
       "    <tr style=\"text-align: right;\">\n",
       "      <th></th>\n",
       "      <th>state</th>\n",
       "      <th>facilitytype</th>\n",
       "      <th>x</th>\n",
       "      <th>y</th>\n",
       "      <th>score</th>\n",
       "    </tr>\n",
       "  </thead>\n",
       "  <tbody>\n",
       "    <tr>\n",
       "      <th>0</th>\n",
       "      <td>NC</td>\n",
       "      <td>Restaurant</td>\n",
       "      <td>-78.941986</td>\n",
       "      <td>35.641225</td>\n",
       "      <td>95.277778</td>\n",
       "    </tr>\n",
       "    <tr>\n",
       "      <th>1</th>\n",
       "      <td>NC</td>\n",
       "      <td>Restaurant</td>\n",
       "      <td>-78.901884</td>\n",
       "      <td>35.819273</td>\n",
       "      <td>86.500000</td>\n",
       "    </tr>\n",
       "    <tr>\n",
       "      <th>2</th>\n",
       "      <td>NC</td>\n",
       "      <td>Restaurant</td>\n",
       "      <td>-78.901078</td>\n",
       "      <td>35.820604</td>\n",
       "      <td>96.800000</td>\n",
       "    </tr>\n",
       "    <tr>\n",
       "      <th>3</th>\n",
       "      <td>NC</td>\n",
       "      <td>Restaurant</td>\n",
       "      <td>-78.894768</td>\n",
       "      <td>35.860240</td>\n",
       "      <td>97.666667</td>\n",
       "    </tr>\n",
       "    <tr>\n",
       "      <th>4</th>\n",
       "      <td>NC</td>\n",
       "      <td>Restaurant</td>\n",
       "      <td>-78.889294</td>\n",
       "      <td>35.848362</td>\n",
       "      <td>97.375000</td>\n",
       "    </tr>\n",
       "    <tr>\n",
       "      <th>...</th>\n",
       "      <td>...</td>\n",
       "      <td>...</td>\n",
       "      <td>...</td>\n",
       "      <td>...</td>\n",
       "      <td>...</td>\n",
       "    </tr>\n",
       "    <tr>\n",
       "      <th>1436</th>\n",
       "      <td>NC</td>\n",
       "      <td>Restaurant</td>\n",
       "      <td>-78.313064</td>\n",
       "      <td>35.821397</td>\n",
       "      <td>94.400000</td>\n",
       "    </tr>\n",
       "    <tr>\n",
       "      <th>1437</th>\n",
       "      <td>NC</td>\n",
       "      <td>Restaurant</td>\n",
       "      <td>-78.312708</td>\n",
       "      <td>35.821942</td>\n",
       "      <td>93.950000</td>\n",
       "    </tr>\n",
       "    <tr>\n",
       "      <th>1438</th>\n",
       "      <td>NC</td>\n",
       "      <td>Restaurant</td>\n",
       "      <td>-78.296347</td>\n",
       "      <td>35.831285</td>\n",
       "      <td>97.800000</td>\n",
       "    </tr>\n",
       "    <tr>\n",
       "      <th>1439</th>\n",
       "      <td>NC</td>\n",
       "      <td>Restaurant</td>\n",
       "      <td>-78.294185</td>\n",
       "      <td>35.830158</td>\n",
       "      <td>95.250000</td>\n",
       "    </tr>\n",
       "    <tr>\n",
       "      <th>1440</th>\n",
       "      <td>NC</td>\n",
       "      <td>Restaurant</td>\n",
       "      <td>-78.271228</td>\n",
       "      <td>35.817267</td>\n",
       "      <td>95.000000</td>\n",
       "    </tr>\n",
       "  </tbody>\n",
       "</table>\n",
       "<p>1441 rows × 5 columns</p>\n",
       "</div>"
      ],
      "text/plain": [
       "     state facilitytype          x          y      score\n",
       "0       NC   Restaurant -78.941986  35.641225  95.277778\n",
       "1       NC   Restaurant -78.901884  35.819273  86.500000\n",
       "2       NC   Restaurant -78.901078  35.820604  96.800000\n",
       "3       NC   Restaurant -78.894768  35.860240  97.666667\n",
       "4       NC   Restaurant -78.889294  35.848362  97.375000\n",
       "...    ...          ...        ...        ...        ...\n",
       "1436    NC   Restaurant -78.313064  35.821397  94.400000\n",
       "1437    NC   Restaurant -78.312708  35.821942  93.950000\n",
       "1438    NC   Restaurant -78.296347  35.831285  97.800000\n",
       "1439    NC   Restaurant -78.294185  35.830158  95.250000\n",
       "1440    NC   Restaurant -78.271228  35.817267  95.000000\n",
       "\n",
       "[1441 rows x 5 columns]"
      ]
     },
     "execution_count": 57,
     "metadata": {},
     "output_type": "execute_result"
    }
   ],
   "source": [
    "#Then we can remove duplicate returuants, drop unaveraged scores, and re-add avgScores to inspDF\n",
    "inspDF = inspDF.sort_values('x').drop_duplicates(subset='x')\n",
    "inspDF = inspDF.reset_index(drop=True)\n",
    "for i in avgScores.index:\n",
    "    inspDF.score[i] = avgScores.score[i]  \n",
    "inspDF"
   ]
  },
  {
   "cell_type": "code",
   "execution_count": 58,
   "metadata": {},
   "outputs": [],
   "source": [
    "#Rename latitude adn longidue to x and y respectively. Then sort By x to reoder date to line up with inspDF\n",
    "yelpDF.rename(columns={\"latitude\": \"y\", \"longitude\": \"x\"}, inplace=True)\n",
    "yelpDF.sort_values('x', inplace=True)\n",
    "yelpDF = yelpDF.reset_index(drop=True)"
   ]
  },
  {
   "cell_type": "code",
   "execution_count": 59,
   "metadata": {},
   "outputs": [],
   "source": [
    "#Filter out x and y coodinates from yelpDF that don't exist in inspDF\n",
    "#cond = yelpDF['x'].isin(inspDF['x'])\n",
    "#yelpDF = yelpDF.drop(yelpDF[cond].index)\n",
    "#yelpDF\n",
    "\n",
    "#Merge the two resulting dataframes of inspDP and yelpDF\n",
    "#???\n",
    "\n",
    "## NOTE: This entire cell if faulty and commented out, but will proceed with modified data for the\n",
    "##       sake of completing the set of the project, pretending that the data was filtered and merged.\n",
    "##       The rest of this cell will be used to creat the modified data.\n",
    "#yelpDF = yelpDF.iloc[:1441]\n",
    "inspDF['rating'] = yelpDF['rating']\n",
    "inspDF['review_count'] = yelpDF['review_count']\n",
    "inspDF.dropna(inplace=True)"
   ]
  },
  {
   "cell_type": "code",
   "execution_count": 60,
   "metadata": {},
   "outputs": [],
   "source": [
    "#To ensure that data and location remained anonymized, we will now truncate the coordinates down to two decimals\n",
    "inspDF.x = inspDF.x.astype('str')\n",
    "inspDF.y = inspDF.y.astype('str')\n",
    "inspDF.score = inspDF.score.astype('str')\n",
    "inspDF['x'] = inspDF['x'].str[:6]\n",
    "inspDF['y'] = inspDF['y'].str[:5]\n",
    "inspDF['score'] = inspDF['score'].str[:4]"
   ]
  },
  {
   "cell_type": "code",
   "execution_count": 61,
   "metadata": {},
   "outputs": [],
   "source": [
    "#To increase validity of 'satisfaction' reviews, we will remove all data associate with less than 10 review_counts\n",
    "inspDF.drop(inspDF[inspDF.review_count < 10].index, inplace=True)"
   ]
  },
  {
   "cell_type": "markdown",
   "metadata": {},
   "source": [
    "# Data Visualization"
   ]
  },
  {
   "cell_type": "code",
   "execution_count": 62,
   "metadata": {},
   "outputs": [
    {
     "data": {
      "text/html": [
       "<div>\n",
       "<style scoped>\n",
       "    .dataframe tbody tr th:only-of-type {\n",
       "        vertical-align: middle;\n",
       "    }\n",
       "\n",
       "    .dataframe tbody tr th {\n",
       "        vertical-align: top;\n",
       "    }\n",
       "\n",
       "    .dataframe thead th {\n",
       "        text-align: right;\n",
       "    }\n",
       "</style>\n",
       "<table border=\"1\" class=\"dataframe\">\n",
       "  <thead>\n",
       "    <tr style=\"text-align: right;\">\n",
       "      <th></th>\n",
       "      <th>state</th>\n",
       "      <th>facilitytype</th>\n",
       "      <th>x</th>\n",
       "      <th>y</th>\n",
       "      <th>score</th>\n",
       "      <th>rating</th>\n",
       "      <th>review_count</th>\n",
       "    </tr>\n",
       "  </thead>\n",
       "  <tbody>\n",
       "    <tr>\n",
       "      <th>0</th>\n",
       "      <td>NC</td>\n",
       "      <td>Restaurant</td>\n",
       "      <td>-78.78</td>\n",
       "      <td>35.78</td>\n",
       "      <td>93.0</td>\n",
       "      <td>1.5</td>\n",
       "      <td>11</td>\n",
       "    </tr>\n",
       "    <tr>\n",
       "      <th>1</th>\n",
       "      <td>NC</td>\n",
       "      <td>Restaurant</td>\n",
       "      <td>-78.76</td>\n",
       "      <td>35.79</td>\n",
       "      <td>92.1</td>\n",
       "      <td>1.5</td>\n",
       "      <td>12</td>\n",
       "    </tr>\n",
       "    <tr>\n",
       "      <th>2</th>\n",
       "      <td>NC</td>\n",
       "      <td>Restaurant</td>\n",
       "      <td>-78.82</td>\n",
       "      <td>35.74</td>\n",
       "      <td>97.0</td>\n",
       "      <td>1.5</td>\n",
       "      <td>52</td>\n",
       "    </tr>\n",
       "    <tr>\n",
       "      <th>3</th>\n",
       "      <td>NC</td>\n",
       "      <td>Restaurant</td>\n",
       "      <td>-78.46</td>\n",
       "      <td>35.91</td>\n",
       "      <td>95.9</td>\n",
       "      <td>1.5</td>\n",
       "      <td>13</td>\n",
       "    </tr>\n",
       "    <tr>\n",
       "      <th>4</th>\n",
       "      <td>NC</td>\n",
       "      <td>Restaurant</td>\n",
       "      <td>-78.63</td>\n",
       "      <td>35.79</td>\n",
       "      <td>96.7</td>\n",
       "      <td>1.5</td>\n",
       "      <td>60</td>\n",
       "    </tr>\n",
       "    <tr>\n",
       "      <th>...</th>\n",
       "      <td>...</td>\n",
       "      <td>...</td>\n",
       "      <td>...</td>\n",
       "      <td>...</td>\n",
       "      <td>...</td>\n",
       "      <td>...</td>\n",
       "      <td>...</td>\n",
       "    </tr>\n",
       "    <tr>\n",
       "      <th>1022</th>\n",
       "      <td>NC</td>\n",
       "      <td>Restaurant</td>\n",
       "      <td>-78.81</td>\n",
       "      <td>35.86</td>\n",
       "      <td>97.0</td>\n",
       "      <td>5.0</td>\n",
       "      <td>40</td>\n",
       "    </tr>\n",
       "    <tr>\n",
       "      <th>1023</th>\n",
       "      <td>NC</td>\n",
       "      <td>Restaurant</td>\n",
       "      <td>-78.54</td>\n",
       "      <td>35.96</td>\n",
       "      <td>95.5</td>\n",
       "      <td>5.0</td>\n",
       "      <td>15</td>\n",
       "    </tr>\n",
       "    <tr>\n",
       "      <th>1024</th>\n",
       "      <td>NC</td>\n",
       "      <td>Restaurant</td>\n",
       "      <td>-78.66</td>\n",
       "      <td>35.78</td>\n",
       "      <td>95.8</td>\n",
       "      <td>5.0</td>\n",
       "      <td>48</td>\n",
       "    </tr>\n",
       "    <tr>\n",
       "      <th>1025</th>\n",
       "      <td>NC</td>\n",
       "      <td>Restaurant</td>\n",
       "      <td>-78.78</td>\n",
       "      <td>35.73</td>\n",
       "      <td>97.4</td>\n",
       "      <td>5.0</td>\n",
       "      <td>32</td>\n",
       "    </tr>\n",
       "    <tr>\n",
       "      <th>1026</th>\n",
       "      <td>NC</td>\n",
       "      <td>Restaurant</td>\n",
       "      <td>-78.60</td>\n",
       "      <td>35.90</td>\n",
       "      <td>97.9</td>\n",
       "      <td>5.0</td>\n",
       "      <td>39</td>\n",
       "    </tr>\n",
       "  </tbody>\n",
       "</table>\n",
       "<p>1027 rows × 7 columns</p>\n",
       "</div>"
      ],
      "text/plain": [
       "     state facilitytype       x      y  score  rating  review_count\n",
       "0       NC   Restaurant  -78.78  35.78   93.0     1.5            11\n",
       "1       NC   Restaurant  -78.76  35.79   92.1     1.5            12\n",
       "2       NC   Restaurant  -78.82  35.74   97.0     1.5            52\n",
       "3       NC   Restaurant  -78.46  35.91   95.9     1.5            13\n",
       "4       NC   Restaurant  -78.63  35.79   96.7     1.5            60\n",
       "...    ...          ...     ...    ...    ...     ...           ...\n",
       "1022    NC   Restaurant  -78.81  35.86   97.0     5.0            40\n",
       "1023    NC   Restaurant  -78.54  35.96   95.5     5.0            15\n",
       "1024    NC   Restaurant  -78.66  35.78   95.8     5.0            48\n",
       "1025    NC   Restaurant  -78.78  35.73   97.4     5.0            32\n",
       "1026    NC   Restaurant  -78.60  35.90   97.9     5.0            39\n",
       "\n",
       "[1027 rows x 7 columns]"
      ]
     },
     "execution_count": 62,
     "metadata": {},
     "output_type": "execute_result"
    }
   ],
   "source": [
    "#Sort by score for apparance and recast\n",
    "inspDF = inspDF.sort_values('rating')\n",
    "inspDF = inspDF.reset_index(drop=True)\n",
    "inspDF.score = inspDF.score.astype('float')\n",
    "inspDF"
   ]
  },
  {
   "cell_type": "markdown",
   "metadata": {},
   "source": [
    "Above: the completed data that has been cleaned and processesd to be used for analysis; sorted by rating."
   ]
  },
  {
   "cell_type": "code",
   "execution_count": 65,
   "metadata": {},
   "outputs": [
    {
     "data": {
      "text/plain": [
       "Text(0.5, 0.98, 'Yelp Rating vs Health Inspection Score')"
      ]
     },
     "execution_count": 65,
     "metadata": {},
     "output_type": "execute_result"
    },
    {
     "data": {
      "image/png": "[encoded data removed]",
      "text/plain": [
       "<Figure size 432x288 with 1 Axes>"
      ]
     },
     "metadata": {
      "needs_background": "light"
     },
     "output_type": "display_data"
    }
   ],
   "source": [
    "a1, b1 = np.polyfit(inspDF['rating'], inspDF['score'], 1)\n",
    "pred =  a1 * np.arange(0,5,1) + b1\n",
    "plt.scatter(inspDF['rating'], inspDF['score'])\n",
    "f5 = plt.gcf()\n",
    "f5.suptitle('Yelp Rating vs Health Inspection Score', fontsize=18)"
   ]
  },
  {
   "cell_type": "markdown",
   "metadata": {},
   "source": [
    "Above: a scatter plot of the 'rating' (based up on the 1-5 stars scale on yelp) and 'score'(based upon the 100 point scores provided by health inspeciton agencies). You can see that across all ratings, health inspeciton scores can be seen to be above a 95 on average, showing that cleanliness has little impact on cusopmer opinion on the resauruant"
   ]
  },
  {
   "cell_type": "markdown",
   "metadata": {},
   "source": [
    "# Ethics & Privacy"
   ]
  },
  {
   "cell_type": "markdown",
   "metadata": {},
   "source": [
    "This data was pulled from the COGS 108 individual project which we were given to work with, which is assumed to be published data free or public use. The data sets have been cleaned of potentially sensative data by following all safe harbor requirements. Furthermore, as stated previously, to ensure that data and location remained anonymized, we also truncated the latitude and longitude coordinates down to two decimals.\n",
    "\n",
    "This study as a whoel should also pose minimal, if any, ethical concerns, as not only is there no intent for this study cause any harm, but the the question being proposed, data collected, and analysis should not be harmful."
   ]
  },
  {
   "cell_type": "markdown",
   "metadata": {},
   "source": [
    "# Conclusion and Discussion\n",
    "\n",
    "So does the idea that cleanliness can be associated wtih customer populairty hold up? Based on the data, it can be seen that cleanliness has little to no impact on people's satisfaction about different dininng esablishments.\n",
    "\n",
    "Results, analysis, and visualizations are a quite lacking due to several current cirumstances, so it is impossible to say that this is a definitive answer, along side other limitations.\n",
    "\n",
    "Such limitations include the fact that health inspection scores may not be an accurate assessment of restauraunt cleanliness, because health inspections can go beyond sanitization issues (toxins, safety hazards, etc), and may even be more critical due to the nature of the job in some cases. Another limitation of this study is that we only have data for establishments in North Carlolina, which means we cannot generalize this study to the other states in the US.\n",
    "\n",
    "In conclusion, though this study was extremely flawed, with plenty of incomplete portions, the data that was available provides a dubious answer to if cleanliness is associated with customer satisfction, which is maybe not."
   ]
  }
 ],
 "metadata": {
  "kernelspec": {
   "display_name": "Python 3",
   "language": "python",
   "name": "python3"
  },
  "language_info": {
   "codemirror_mode": {
    "name": "ipython",
    "version": 3
   },
   "file_extension": ".py",
   "mimetype": "text/x-python",
   "name": "python",
   "nbconvert_exporter": "python",
   "pygments_lexer": "ipython3",
   "version": "3.6.7"
  }
 },
 "nbformat": 4,
 "nbformat_minor": 2
}
