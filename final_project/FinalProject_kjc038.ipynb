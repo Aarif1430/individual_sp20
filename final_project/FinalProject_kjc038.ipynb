{
 "cells": [
  {
   "cell_type": "markdown",
   "metadata": {},
   "source": [
    "# Do Restaurants in Ethnic Locations Get Marked for Health Violations More Often?"
   ]
  },
  {
   "cell_type": "markdown",
   "metadata": {},
   "source": [
    "# Overview"
   ]
  },
  {
   "cell_type": "markdown",
   "metadata": {},
   "source": [
    "In this analysis, I set out to discover whether or not restaurants with higher non-white populations receive more critical and noncritical violations than areas with lower non-white populations. After cleaning the datasets and carrying out correlation analysis and linear regression analysis, I discover that there is little to no correlation between the amount of violations and the ethnic makeup of an area. However, there is a correlation between the amount of health inspections that a restaurant receives and the amount of non-white inhabitants in an area."
   ]
  },
  {
   "cell_type": "markdown",
   "metadata": {},
   "source": [
    "# Name & PID\n",
    "\n",
    "- Name: Kenny Chen\n",
    "- PID: A14853871"
   ]
  },
  {
   "cell_type": "markdown",
   "metadata": {},
   "source": [
    "# Research Question"
   ]
  },
  {
   "cell_type": "markdown",
   "metadata": {},
   "source": [
    "Do restaurants in North Carolina zip code areas with higher non-white populations have higher rates of critical and noncritical health violations during health inspections than areas with lower non-white populations?"
   ]
  },
  {
   "cell_type": "markdown",
   "metadata": {},
   "source": [
    "## Background and Prior Work"
   ]
  },
  {
   "cell_type": "markdown",
   "metadata": {},
   "source": [
    "Recent events in 2020 have highlighted the instutionalized racism in America. Institutionalized racism is farspread, most notably plagueing our police departments. But does it affect something seemingly unrelated, such as restaurant health inspections? I want this research project to determine whether or not such institutionalized racism exists in the health inspections department, and determine whether or not restaurants in areas of higher non-white populations receive more critical health violations than those in areas of lower non-white populations.\n",
    "\n",
    "References (include links):\n",
    "- 1)https://slate.com/human-interest/2014/06/ethnic-restaurants-and-food-poisoning-the-subtle-racism-of-saying-chinese-food-caused-your-stomachache.html\n",
    "If consumers can be subtly racist towards ethnic restaurants, so can health inspectors. Certain health inspectors could be naturally biased against a Chinese or Indian restaurant.\n",
    "- 2)https://www.sciencedirect.com/science/article/abs/pii/S0278431915000274\n",
    "This article discusses that ethnic-operated restaurants not only have higher rates of health violations - they also have higher rates of inspection."
   ]
  },
  {
   "cell_type": "markdown",
   "metadata": {},
   "source": [
    "# Hypothesis\n"
   ]
  },
  {
   "cell_type": "markdown",
   "metadata": {},
   "source": [
    "My hypothesis is that restaurants in areas with higher non-white populations will have a higher rate of critical health violations than those in areas of low non-white populations. Because of the institutionalized racism that is prevalent in our society, I believe that inspection workers will be naturally biased against non-white restaurants."
   ]
  },
  {
   "cell_type": "markdown",
   "metadata": {},
   "source": [
    "# Dataset(s)"
   ]
  },
  {
   "cell_type": "markdown",
   "metadata": {},
   "source": [
    "The datasets I will be using are the following:\n",
    "\n",
    "- Dataset Name: inspections.csv\n",
    "- Link to the dataset: Included in data.zip\n",
    "- Number of observations: 36\n",
    "\n",
    "The data set includes a list of health inspections in North Carolina. They contain a zip code and the amount of critical and noncritical violations in each inspection.\n",
    "\n",
    "- Dataset Name: zipcodes.csv\n",
    "- Link to the dataset: Included in data.zip\n",
    "- Number of observations: 8\n",
    "\n",
    "The data set contains a list of North Carolina zip codes, as well as the percentage of inhabitants that are not of caucasian descent.\n",
    "\n",
    "The inspections dataset contains the zip code, which can be linked with the zipcodes dataset which contains percent of non-white inhabitants. I can use these two datasets to find a correlation between health violations and locations with less caucasian residents."
   ]
  },
  {
   "cell_type": "markdown",
   "metadata": {},
   "source": [
    "# Setup"
   ]
  },
  {
   "cell_type": "code",
   "execution_count": 1,
   "metadata": {},
   "outputs": [],
   "source": [
    "# Import libraries\n",
    "import numpy as np\n",
    "import pandas as pd\n",
    "import matplotlib.pyplot as plt\n",
    "import seaborn as sns\n",
    "# Statmodels & patsy\n",
    "import patsy\n",
    "import statsmodels.api as sm\n",
    "import warnings\n",
    "warnings.filterwarnings('ignore')\n",
    "# Configure libraries\n",
    "# The seaborn library makes plots look nicer\n",
    "sns.set()\n",
    "sns.set_context('talk')\n",
    "# Don't display too many rows/cols of DataFrames\n",
    "pd.options.display.max_rows = 7\n",
    "pd.options.display.max_columns = 8\n",
    "# Round decimals when displaying DataFrames\n",
    "pd.set_option('precision', 2)\n"
   ]
  },
  {
   "cell_type": "markdown",
   "metadata": {},
   "source": [
    "# Data Cleaning"
   ]
  },
  {
   "cell_type": "markdown",
   "metadata": {},
   "source": [
    "Describe your data cleaning steps here."
   ]
  },
  {
   "cell_type": "code",
   "execution_count": 2,
   "metadata": {},
   "outputs": [
    {
     "data": {
      "text/html": [
       "<div>\n",
       "<style scoped>\n",
       "    .dataframe tbody tr th:only-of-type {\n",
       "        vertical-align: middle;\n",
       "    }\n",
       "\n",
       "    .dataframe tbody tr th {\n",
       "        vertical-align: top;\n",
       "    }\n",
       "\n",
       "    .dataframe thead th {\n",
       "        text-align: right;\n",
       "    }\n",
       "</style>\n",
       "<table border=\"1\" class=\"dataframe\">\n",
       "  <thead>\n",
       "    <tr style=\"text-align: right;\">\n",
       "      <th></th>\n",
       "      <th>zip</th>\n",
       "      <th>ethnic percentage</th>\n",
       "      <th>critical mistakes</th>\n",
       "      <th>noncritical mistakes</th>\n",
       "      <th>score</th>\n",
       "      <th>number of inspections</th>\n",
       "      <th>average critical</th>\n",
       "      <th>average noncritical</th>\n",
       "    </tr>\n",
       "  </thead>\n",
       "  <tbody>\n",
       "    <tr>\n",
       "      <th>26</th>\n",
       "      <td>27608</td>\n",
       "      <td>8.7</td>\n",
       "      <td>349</td>\n",
       "      <td>728</td>\n",
       "      <td>95.56</td>\n",
       "      <td>122</td>\n",
       "      <td>2.86</td>\n",
       "      <td>5.97</td>\n",
       "    </tr>\n",
       "    <tr>\n",
       "      <th>14</th>\n",
       "      <td>27562</td>\n",
       "      <td>13.6</td>\n",
       "      <td>34</td>\n",
       "      <td>37</td>\n",
       "      <td>95.28</td>\n",
       "      <td>9</td>\n",
       "      <td>3.78</td>\n",
       "      <td>4.11</td>\n",
       "    </tr>\n",
       "    <tr>\n",
       "      <th>18</th>\n",
       "      <td>27592</td>\n",
       "      <td>14.6</td>\n",
       "      <td>27</td>\n",
       "      <td>74</td>\n",
       "      <td>92.71</td>\n",
       "      <td>7</td>\n",
       "      <td>3.86</td>\n",
       "      <td>10.57</td>\n",
       "    </tr>\n",
       "    <tr>\n",
       "      <th>...</th>\n",
       "      <td>...</td>\n",
       "      <td>...</td>\n",
       "      <td>...</td>\n",
       "      <td>...</td>\n",
       "      <td>...</td>\n",
       "      <td>...</td>\n",
       "      <td>...</td>\n",
       "      <td>...</td>\n",
       "    </tr>\n",
       "    <tr>\n",
       "      <th>13</th>\n",
       "      <td>27560</td>\n",
       "      <td>53.3</td>\n",
       "      <td>2315</td>\n",
       "      <td>2948</td>\n",
       "      <td>95.18</td>\n",
       "      <td>582</td>\n",
       "      <td>3.98</td>\n",
       "      <td>5.07</td>\n",
       "    </tr>\n",
       "    <tr>\n",
       "      <th>20</th>\n",
       "      <td>27601</td>\n",
       "      <td>69.9</td>\n",
       "      <td>1570</td>\n",
       "      <td>2321</td>\n",
       "      <td>95.87</td>\n",
       "      <td>541</td>\n",
       "      <td>2.90</td>\n",
       "      <td>4.29</td>\n",
       "    </tr>\n",
       "    <tr>\n",
       "      <th>28</th>\n",
       "      <td>27610</td>\n",
       "      <td>72.7</td>\n",
       "      <td>1295</td>\n",
       "      <td>2438</td>\n",
       "      <td>95.31</td>\n",
       "      <td>399</td>\n",
       "      <td>3.25</td>\n",
       "      <td>6.11</td>\n",
       "    </tr>\n",
       "  </tbody>\n",
       "</table>\n",
       "<p>35 rows × 8 columns</p>\n",
       "</div>"
      ],
      "text/plain": [
       "      zip  ethnic percentage  critical mistakes  noncritical mistakes  score  \\\n",
       "26  27608                8.7                349                   728  95.56   \n",
       "14  27562               13.6                 34                    37  95.28   \n",
       "18  27592               14.6                 27                    74  92.71   \n",
       "..    ...                ...                ...                   ...    ...   \n",
       "13  27560               53.3               2315                  2948  95.18   \n",
       "20  27601               69.9               1570                  2321  95.87   \n",
       "28  27610               72.7               1295                  2438  95.31   \n",
       "\n",
       "    number of inspections  average critical  average noncritical  \n",
       "26                    122              2.86                 5.97  \n",
       "14                      9              3.78                 4.11  \n",
       "18                      7              3.86                10.57  \n",
       "..                    ...               ...                  ...  \n",
       "13                    582              3.98                 5.07  \n",
       "20                    541              2.90                 4.29  \n",
       "28                    399              3.25                 6.11  \n",
       "\n",
       "[35 rows x 8 columns]"
      ]
     },
     "execution_count": 2,
     "metadata": {},
     "output_type": "execute_result"
    }
   ],
   "source": [
    "#read in datasets\n",
    "df_in = pd.read_csv('inspections.csv')\n",
    "df_zip = pd.read_csv('zipcodes.csv')\n",
    "\n",
    "#Drop uneeded columns\n",
    "df_in = df_in.drop(labels=['name','date','address2','phonenumber','restaurantopendate','days_from_open_date','postalcode','x','y','geocodestatus','type','description','inspectedby','inspection_num','inspector_id','previous_inspection_date','days_since_previous_inspection','previous_inspection_by_same_inspector','num_critical_previous','num_non_critical_previous','num_critical_mean_previous','num_non_critical_mean_previous','avg_neighbor_num_critical','avg_neighbor_num_non_critical','top_match','second_match','critical','address1'], axis=1)\n",
    "df_zip = df_zip.drop(labels=['median_family_income_dollars','median_household_income_dollars','per_capita_income_dollars','percent_damilies_below_poverty_line','percent_snap_benefits','percent_supplemental_security_income'], axis=1)\n",
    "\n",
    "#rename some columns\n",
    "df_in = df_in.rename(columns={'hsisid': 'ID', 'facilitytype': 'type', 'num_critical':'critical mistakes','num_non_critical':'noncritical mistakes'})\n",
    "df_zip = df_zip.rename(columns={'percent_nonwhite':'ethnic percentage'})\n",
    "\n",
    "#merge the two on zip\n",
    "df = pd.merge(df_zip, df_in, on='zip')\n",
    "\n",
    "#Drop non-restaurants, then drop type column\n",
    "df = df[df['type'] == 'Restaurant']\n",
    "df = df[df['state'] == 'NC']\n",
    "df = df.drop(labels=['type','state'], axis=1)\n",
    "\n",
    "#Create new column to represent the total sum of restaurants in the zip code that underwent checks\n",
    "df['number of inspections'] = 1\n",
    "\n",
    "#combine the number of critical mistakes and drop ID & city\n",
    "df = df.groupby(['zip','ethnic percentage'],as_index=False).agg({'critical mistakes': 'sum', 'noncritical mistakes':'sum','score':'mean','number of inspections':'sum'})\n",
    "#df.describe()\n",
    "\n",
    "#Create a column for average critical & noncritical mistakes\n",
    "df['average critical'] = df['critical mistakes']/df['number of inspections']\n",
    "df['average noncritical'] = df['noncritical mistakes']/df['number of inspections']\n",
    "\n",
    "#Sort by ethnic percentage\n",
    "df = df.sort_values(by='ethnic percentage')\n",
    "df"
   ]
  },
  {
   "cell_type": "markdown",
   "metadata": {},
   "source": [
    "When presented with the datasets, inspections was filled with information, most of which was useless for my analysis. Zip also had a lot of irrelevant information, so I needed to do a bunch of cleaning.\n",
    "\n",
    "The first thing I did was drop all the uneeded columns, since there were plenty of those. It would be a nightmare sorting through all 36 columns of inspections.\n",
    "\n",
    "Then, I did some light renaming to make the titles more clear and easier to read.\n",
    "\n",
    "After that, I merged the two datasets on 'zip', so that we could clearly see zip code, ethnic percentage, and the amount of mistakes side by side. I then dropped everything that was not a restaurant from the type column, and everything that was not in North Carolina. Those columns were then dropped for simplicity.\n",
    "\n",
    "I then created a new column representing the number of restaurants so that we could see the number of mistakes as an average, and not as a big number (since more restaurants = more failures logically).\n",
    "\n",
    "After that, I grouped the rows together based on zip code and created the average columns for critical and noncritical mistakes. \n",
    "\n",
    "Finally, I sorted the columns based on ethnic percentage, since that is our independent variable for this analysis.\n",
    "\n",
    "The data is very clean, since I dropped all the columns that weren't needed in my analysis. Everything is easy to look at, and you can see all the relevant data side by side."
   ]
  },
  {
   "cell_type": "markdown",
   "metadata": {},
   "source": [
    "# Data Analysis & Results"
   ]
  },
  {
   "cell_type": "markdown",
   "metadata": {},
   "source": [
    "Include cells that describe the steps in your data analysis."
   ]
  },
  {
   "cell_type": "code",
   "execution_count": 3,
   "metadata": {},
   "outputs": [
    {
     "name": "stdout",
     "output_type": "stream",
     "text": [
      "Correlation Matrix\n",
      "\n",
      "[[ 1.       -0.101778]\n",
      " [-0.101778  1.      ]]\n",
      "\n",
      "\n",
      "                            OLS Regression Results                            \n",
      "==============================================================================\n",
      "Dep. Variable:                   crit   R-squared:                       0.010\n",
      "Model:                            OLS   Adj. R-squared:                 -0.020\n",
      "Method:                 Least Squares   F-statistic:                    0.3454\n",
      "Date:                Tue, 09 Jun 2020   Prob (F-statistic):              0.561\n",
      "Time:                        16:40:01   Log-Likelihood:                -46.080\n",
      "No. Observations:                  35   AIC:                             96.16\n",
      "Df Residuals:                      33   BIC:                             99.27\n",
      "Df Model:                           1                                         \n",
      "Covariance Type:            nonrobust                                         \n",
      "==============================================================================\n",
      "                 coef    std err          t      P>|t|      [0.025      0.975]\n",
      "------------------------------------------------------------------------------\n",
      "Intercept      3.5416      0.342     10.367      0.000       2.846       4.237\n",
      "eth           -0.0063      0.011     -0.588      0.561      -0.028       0.016\n",
      "==============================================================================\n",
      "Omnibus:                        6.676   Durbin-Watson:                   2.353\n",
      "Prob(Omnibus):                  0.036   Jarque-Bera (JB):                5.143\n",
      "Skew:                           0.837   Prob(JB):                       0.0764\n",
      "Kurtosis:                       3.852   Cond. No.                         69.2\n",
      "==============================================================================\n",
      "\n",
      "Warnings:\n",
      "[1] Standard Errors assume that the covariance matrix of the errors is correctly specified.\n"
     ]
    },
    {
     "data": {
      "image/png": "[encoded data removed]",
      "text/plain": [
       "<Figure size 432x432 with 3 Axes>"
      ]
     },
     "metadata": {
      "needs_background": "light"
     },
     "output_type": "display_data"
    }
   ],
   "source": [
    "#Create a new df to use linear regression on\n",
    "df_regress  = df.rename(columns={'ethnic percentage':'eth', 'average critical':'crit', 'average noncritical':'noncrit', 'number of inspections':'num'})\n",
    "\n",
    "#Ethnic percentage and average crit in a scatterplot\n",
    "sns.jointplot(x=\"ethnic percentage\", y=\"average critical\", data=df, kind = 'scatter', color = 'red')\n",
    "\n",
    "#Correlation Matrix \n",
    "r = np.corrcoef(df['ethnic percentage'], df['average critical'])\n",
    "print(\"Correlation Matrix\\n\")\n",
    "print(r)\n",
    "print(\"\\n\")\n",
    "\n",
    "#Linear Regression \n",
    "outcome, predictors = patsy.dmatrices('crit ~ eth', df_regress)\n",
    "mod = sm.OLS(outcome, predictors)\n",
    "## fit the model\n",
    "res = mod.fit()\n",
    "## look at the results\n",
    "print(res.summary())"
   ]
  },
  {
   "cell_type": "markdown",
   "metadata": {},
   "source": [
    "### EDA:\n",
    "Because I am finding the relationship between two variables, my variables take the form of a bivariate distribution. The easiest form of visualization when comparing these two variables is a scatterplot.\n",
    "\n",
    "As you can see from the scatterplot, there does not seem to be any positive correlation between the ethnic percentage and the average amount of critical mistakes. In fact, there appears to be a slight negative correlation.\n",
    "\n",
    "There are not really any clear outliers, since there does appear to be a slight downward trend. All the points generally follow this, even the highest point at 6 average failures.\n",
    "\n",
    "### Correlation Analysis:\n",
    "I chose to do correlation analysis, since I am trying to find out the correlation between two variables.\n",
    "\n",
    "The correlation matrix returns a matrix, where the two values of importance are the correlation between our independent and dependent variable, which is -0.101778.\n",
    "\n",
    "The correlation confirms that there is indeed a slight negative correlation between the ethnic percentage and average critical mistakes. However, it is relatively small at -.1, so it is negligible.\n",
    "\n",
    "### Linear Regression Analysis:\n",
    "I chose to do linear regression to see if it was possible for me to predict average critical failures from the ethnic percentage. \n",
    "\n",
    "The OLS Linear regression model returns a P-value of .561. As such, we have failed to reject our null hypothesis, and our results are not statistically significant. There is most likely no way to accurately predict the amount of average critical failures from the ethnic percentage in an area."
   ]
  },
  {
   "cell_type": "code",
   "execution_count": 4,
   "metadata": {},
   "outputs": [
    {
     "name": "stdout",
     "output_type": "stream",
     "text": [
      "Correlation Matrix\n",
      "\n",
      "[[ 1.         -0.08219182]\n",
      " [-0.08219182  1.        ]]\n",
      "\n",
      "\n",
      "                            OLS Regression Results                            \n",
      "==============================================================================\n",
      "Dep. Variable:                noncrit   R-squared:                       0.007\n",
      "Model:                            OLS   Adj. R-squared:                 -0.023\n",
      "Method:                 Least Squares   F-statistic:                    0.2244\n",
      "Date:                Tue, 09 Jun 2020   Prob (F-statistic):              0.639\n",
      "Time:                        16:40:03   Log-Likelihood:                -57.433\n",
      "No. Observations:                  35   AIC:                             118.9\n",
      "Df Residuals:                      33   BIC:                             122.0\n",
      "Df Model:                           1                                         \n",
      "Covariance Type:            nonrobust                                         \n",
      "==============================================================================\n",
      "                 coef    std err          t      P>|t|      [0.025      0.975]\n",
      "------------------------------------------------------------------------------\n",
      "Intercept      5.9916      0.473     12.680      0.000       5.030       6.953\n",
      "eth           -0.0070      0.015     -0.474      0.639      -0.037       0.023\n",
      "==============================================================================\n",
      "Omnibus:                       21.493   Durbin-Watson:                   2.481\n",
      "Prob(Omnibus):                  0.000   Jarque-Bera (JB):               35.581\n",
      "Skew:                           1.543   Prob(JB):                     1.88e-08\n",
      "Kurtosis:                       6.857   Cond. No.                         69.2\n",
      "==============================================================================\n",
      "\n",
      "Warnings:\n",
      "[1] Standard Errors assume that the covariance matrix of the errors is correctly specified.\n"
     ]
    },
    {
     "data": {
      "image/png": "[encoded data removed]",
      "text/plain": [
       "<Figure size 432x432 with 3 Axes>"
      ]
     },
     "metadata": {
      "needs_background": "light"
     },
     "output_type": "display_data"
    }
   ],
   "source": [
    "#Ethnic percentage and average noncrit in a scatterplot\n",
    "sns.jointplot(x=\"ethnic percentage\", y=\"average noncritical\", data=df,kind = 'scatter', color = 'blue');\n",
    "\n",
    "#Correlation Matrix \n",
    "r = np.corrcoef(df['ethnic percentage'], df['average noncritical'])\n",
    "print(\"Correlation Matrix\\n\")\n",
    "print(r)\n",
    "print(\"\\n\")\n",
    "\n",
    "#Linear Regression \n",
    "outcome, predictors = patsy.dmatrices('noncrit ~ eth', df_regress)\n",
    "mod = sm.OLS(outcome, predictors)\n",
    "## fit the model\n",
    "res = mod.fit()\n",
    "## look at the results\n",
    "print(res.summary())"
   ]
  },
  {
   "cell_type": "markdown",
   "metadata": {},
   "source": [
    "### EDA:\n",
    "Because I am finding the relationship between two variables, my variables take the form of a bivariate distribution. The easiest form of visualization when comparing these two variables is a scatterplot.\n",
    "\n",
    "Purely from eyeballing the scatterplot, there appears to be some sort of positive correlation. However, it appears to incredibly minute and negligible.\n",
    "\n",
    "There are two notable outliers that could skew the average data tremendously. One of them is at around 10.6 average noncritical failures, and another is at around 8.5. Both are far from the increasing upward slope of ethnic percentage to noncritical failures.\n",
    "\n",
    "### Correlation Analysis:\n",
    "I chose to do correlation analysis, since I am trying to find out the correlation between two variables.\n",
    "\n",
    "The correlation matrix returns a matrix, where the two values of importance are the correlation between our independent and dependent variable, which is -0.08219182.\n",
    "\n",
    "The correlation claims that there is a slight negative correlation between our two variables. However, this is most likely due to the outliers as mentioned earlier. Nonetheless, -.08 is small, and definitely negligible.\n",
    "\n",
    "### Linear Regression Analysis:\n",
    "I chose to do linear regression to see if it was possible for me to predict average critical failures from the ethnic percentage. \n",
    "\n",
    "The OLS Linear regression model returns a P-value of .639. As such, we have once again failed to reject our null hypothesis, and our results are not statistically significant. There is most likely no way to accurately predict the amount of average noncritical failures from the ethnic percentage in an area."
   ]
  },
  {
   "cell_type": "code",
   "execution_count": 5,
   "metadata": {},
   "outputs": [
    {
     "name": "stdout",
     "output_type": "stream",
     "text": [
      "Correlation Matrix\n",
      "\n",
      "[[1.         0.33479207]\n",
      " [0.33479207 1.        ]]\n",
      "\n",
      "\n",
      "                            OLS Regression Results                            \n",
      "==============================================================================\n",
      "Dep. Variable:                    num   R-squared:                       0.112\n",
      "Model:                            OLS   Adj. R-squared:                  0.085\n",
      "Method:                 Least Squares   F-statistic:                     4.166\n",
      "Date:                Tue, 09 Jun 2020   Prob (F-statistic):             0.0493\n",
      "Time:                        16:40:04   Log-Likelihood:                -237.96\n",
      "No. Observations:                  35   AIC:                             479.9\n",
      "Df Residuals:                      33   BIC:                             483.0\n",
      "Df Model:                           1                                         \n",
      "Covariance Type:            nonrobust                                         \n",
      "==============================================================================\n",
      "                 coef    std err          t      P>|t|      [0.025      0.975]\n",
      "------------------------------------------------------------------------------\n",
      "Intercept    190.2847     82.122      2.317      0.027      23.206     357.363\n",
      "eth            5.2728      2.583      2.041      0.049       0.017      10.529\n",
      "==============================================================================\n",
      "Omnibus:                        3.503   Durbin-Watson:                   2.076\n",
      "Prob(Omnibus):                  0.174   Jarque-Bera (JB):                2.641\n",
      "Skew:                           0.671   Prob(JB):                        0.267\n",
      "Kurtosis:                       3.105   Cond. No.                         69.2\n",
      "==============================================================================\n",
      "\n",
      "Warnings:\n",
      "[1] Standard Errors assume that the covariance matrix of the errors is correctly specified.\n"
     ]
    },
    {
     "data": {
      "image/png": "[encoded data removed]",
      "text/plain": [
       "<Figure size 432x432 with 3 Axes>"
      ]
     },
     "metadata": {
      "needs_background": "light"
     },
     "output_type": "display_data"
    }
   ],
   "source": [
    "#Ethnic percentage and number of restaurants in a scatterplot\n",
    "sns.jointplot(x=\"ethnic percentage\", y=\"number of inspections\", data=df,kind = 'scatter', color = 'green');\n",
    "\n",
    "#Correlation Matrix \n",
    "r = np.corrcoef(df['ethnic percentage'], df['number of inspections'])\n",
    "print(\"Correlation Matrix\\n\")\n",
    "print(r)\n",
    "print(\"\\n\")\n",
    "\n",
    "#Linear Regression \n",
    "outcome, predictors = patsy.dmatrices('num ~ eth', df_regress)\n",
    "mod = sm.OLS(outcome, predictors)\n",
    "## fit the model\n",
    "res = mod.fit()\n",
    "## look at the results\n",
    "print(res.summary())"
   ]
  },
  {
   "cell_type": "markdown",
   "metadata": {},
   "source": [
    "### EDA:\n",
    "At a dead end between finding the correlation between ethnic percentage and mistakes, I chose instead to also test the correlation between ethnic percentage and the number of restaurants that are being inspected.\n",
    "\n",
    "Because I am finding the relationship between two variables, my variables take the form of a bivariate distribution. The easiest form of visualization when comparing these two variables is a scatterplot.\n",
    "\n",
    "As you can see from the scatterplot, there does seem to be a positive correlation between the ethnic percentage and the number of restaurants that received health inspections. Areas with low ethnic percentage received significantly less inspections than areas with higher ethnic percentage.\n",
    "\n",
    "There is one notable outlier, marked at almost 1000 restaurants inspected. Perhaps this is in an area with high restaurant density.\n",
    "\n",
    "### Correlation Analysis:\n",
    "I chose to do correlation analysis, since I am trying to find out the correlation between two variables.\n",
    "\n",
    "The correlation matrix returns a matrix, where the two values of importance are the correlation between our independent and dependent variable, which is 0.33479207.\n",
    "\n",
    "The correlation confirms that there is a positive correlation between ethnic percentage and the number of restaurants that receive health inspections. That is, if an area has a higher ethnic population, then the restaurants there are more likely to be inspected for health problems.\n",
    "\n",
    "### Linear Regression Analysis:\n",
    "I chose to do linear regression to see if it was possible for me to predict average critical failures from the ethnic percentage. \n",
    "\n",
    "The OLS Linear regression model returns a P-value of .049. If we assume an alpha of .05, that means we reject our null hypothesis that there is no correlation between ethnic percentage and the number of restaurants that receieve health inspections. "
   ]
  },
  {
   "cell_type": "markdown",
   "metadata": {},
   "source": [
    "# Ethics & Privacy"
   ]
  },
  {
   "cell_type": "markdown",
   "metadata": {},
   "source": [
    "There are a few privacy concerns relating to my analysis. \n",
    "\n",
    "The first one that came to mind was that restaurants and restaurant owners may not want their health inspection history to be made available to the public. In addition to this, health inspectors may not want their inspection history to be known, especially if they have a history of giving certain types of restaurants more critical failures than others (or any type of personal bias). To solve this, I made sure to remove any and all restaurant and human names from my analysis, only keeping numbers that were absolutely crucial. \n",
    "\n",
    "Another concern was whether I had permission to use this data. Considering this was information is official government information from the state of North Carolina, I assume that this information is available for public use.\n",
    "\n",
    "I do not have to worry about biases in the data I used, since it is official documentation and consists solely of government records and government information about the demographics of certain cities and locations."
   ]
  },
  {
   "cell_type": "markdown",
   "metadata": {},
   "source": [
    "# Conclusion & Discussion"
   ]
  },
  {
   "cell_type": "markdown",
   "metadata": {},
   "source": [
    "The question I sought to answer with my analysis was whether or not areas with higher non-white populations received more critical and noncritical health mistakes during health inspections in North Carolina.\n",
    "\n",
    "After carrying out my analysis and testing for correlation, I concluded that there was virtually no correlation between the average amount of mistakes and the amount of ethnic residents in an area, disproving my initial hypothesis. \n",
    "\n",
    "However, I did find that ethnic population percentage was correlated to the number of restaurants that received health inspections, which may be evidence of institutionalized racism since it brings up the question: do health inspectors specifically target ethnic restaurants for health inspections because of personal biases against certain ethnicities?  "
   ]
  }
 ],
 "metadata": {
  "kernelspec": {
   "display_name": "Python 3",
   "language": "python",
   "name": "python3"
  },
  "language_info": {
   "codemirror_mode": {
    "name": "ipython",
    "version": 3
   },
   "file_extension": ".py",
   "mimetype": "text/x-python",
   "name": "python",
   "nbconvert_exporter": "python",
   "pygments_lexer": "ipython3",
   "version": "3.6.7"
  }
 },
 "nbformat": 4,
 "nbformat_minor": 2
}
