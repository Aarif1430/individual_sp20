{
 "cells": [
  {
   "cell_type": "markdown",
   "metadata": {},
   "source": [
    "# COGS 108 - Final Project "
   ]
  },
  {
   "cell_type": "markdown",
   "metadata": {},
   "source": [
    "# Overview"
   ]
  },
  {
   "cell_type": "markdown",
   "metadata": {},
   "source": [
    "Food health has always being the center topic of nowaday's society, and since more and more people are willing to have dinner in nearby restaurants, the health issue of restaurants should be seriously treated. Therefore, in this project, I will formulate several questions and hypothesis to help goverment improve their restaurants health inspections.\n",
    "    \n",
    "In this project, I will discusss several factors that correlate to the score of each inspection, and then build my regression model to predict one restaurant's health inspection score given features of that restaurant. Futhermore, I will check any anomelies generated in the inspection process and give advises to inspector accordingly. "
   ]
  },
  {
   "cell_type": "markdown",
   "metadata": {},
   "source": [
    "# Name & GitHub\n",
    "\n",
    "- Name: Xiangchen Zhao\n",
    "- GitHub Username: zxchen98"
   ]
  },
  {
   "cell_type": "markdown",
   "metadata": {},
   "source": [
    "# Research Question"
   ]
  },
  {
   "cell_type": "markdown",
   "metadata": {},
   "source": [
    "In order to make the health inspection more accurate and effcient, I would like to propose the following questions and try to answer them with the dataset provided.\n",
    "\n",
    "#### Main Question:  What features contribute to inspection score the most? in other words, what aspects of one restaurant can most accurately influence its inspection score.\n",
    "\n",
    "In order to answer this main question, I would like To divide all the features into two groups and generate some sub-questions before answering the main question.\n",
    "\n",
    "###### For Restaurants:\n",
    "\n",
    "1. How do restaurant type, location, or even yelp rating correlates to restaurant's inspection score.\n",
    "\n",
    "###### For Inspection process:\n",
    "\n",
    "1. Is there a correlation between the result of inspection and how often the inspection occur? If so, what is the best time period between two inspections in order to have a strong supervision as well as a high efficiency?\n",
    "\n",
    "2. Second, is inspection score highly depend on inspector and the number of previous inspections."
   ]
  },
  {
   "cell_type": "markdown",
   "metadata": {},
   "source": [
    "## Background and Prior Work"
   ]
  },
  {
   "cell_type": "markdown",
   "metadata": {},
   "source": [
    "Why health inspection: the goverment wants to protect customers against contamination and food poisoning from the restaurant (source website:https://www.lightspeedhq.com/blog/restaurant-health-inspection/)\n",
    "\n",
    "Futher testing: The inspectors are also going to be looking for knowledge from your managers and staff. Restaurant owners are required to know all of the local health codes. Management is required to have all up-to-date training on food safety and all restaurant employees must demonstrate knowledge of safe food handling and preparation. All of this is this is the knowledge that is tested as part of the Food Handler’s Permit, but the inspector will ask questions to test this knowledge.\n",
    "\n",
    "The grading system:\n",
    "(source website:https://www.sandiegocounty.gov/content/sdc/deh/fhd/ffis/intro.html.html)\n",
    "\n",
    "1. Each violation on the Food Inspection Report is assigned a point value depending on its importance. For example, a Major Risk Factor is worth four points, a Minor Risk Factor is worth two, and a Good Retail Practice is worth one.\n",
    "\n",
    "2. Once the Specialist completes an inspection, the points are added up and subtracted from 100. The resulting number is the inspection \"score\".\n",
    "\n",
    "3. A letter grade is assigned to the facility based on the inspection score. An \"A\" grade means the facility earned a score of 90 to 100 percent and is in satisfactory compliance with state law; a \"B\" means the facility earned a score of 80 to 89 percent and needs improvement; a \"C\" means the facility earned a score of 79 percent or less and is a failing grade. However in this inspections.csv, a letter grade has not been assigned to each restaurant, instead a score out of 100 is being assigned.\n",
    "\n",
    "References (include links):\n",
    "- 1)https://www.lightspeedhq.com/blog/restaurant-health-inspection/\n",
    "- 2)https://www.sandiegocounty.gov/content/sdc/deh/fhd/ffis/intro.html.html"
   ]
  },
  {
   "cell_type": "markdown",
   "metadata": {},
   "source": [
    "# Hypothesis\n"
   ]
  },
  {
   "cell_type": "markdown",
   "metadata": {},
   "source": [
    "Restaurants' information (including yelp rating, location, restaurant type) is a strong and accurate feature in predicting inspection score, and thus could be used to analysis score pattern in order to improve restaurants'health condition."
   ]
  },
  {
   "cell_type": "markdown",
   "metadata": {},
   "source": [
    "# Dataset(s)"
   ]
  },
  {
   "cell_type": "markdown",
   "metadata": {},
   "source": [
    "- Dataset Name: inspections.csv\n",
    "- Link to the dataset: https://canvas.ucsd.edu/courses/12630/files?preview=1639871\n",
    "- Number of observations: 18466\n",
    "\n",
    "The inspections.csv includes information of over 10,000 inspection records, including restaurant name and location, latest and previous inspection score, inspector name, and etc.\n",
    "\n",
    "- Dataset Name: yelp.csv\n",
    "- Link to the dataset: https://canvas.ucsd.edu/courses/12630/files?preview=1639871\n",
    "- Number of observations: 3688\n",
    "\n",
    "This yelp.csv contains customer ratings and other restaurant information. This dataset can provide a good set of features to predict inspection score. Thus by merge yelp.csv and inspection.csv, we could try to predict one restaurant's score using features just relate to that restaurant itself.\n",
    "\n",
    "- Dataset Name: zipcodes.csv\n",
    "- Link to the dataset: https://canvas.ucsd.edu/courses/12630/files?preview=1639871\n",
    "- Number of observations: 38\n",
    "\n",
    "zipcodes.csv contains information in some of zipcode areas. Information includes median income of some social classes, percentage of non-white people, etc. This data set can provide regional analysis to restaurant types and class and futher predict the score of those restaurants."
   ]
  },
  {
   "cell_type": "markdown",
   "metadata": {},
   "source": [
    "# Setup"
   ]
  },
  {
   "cell_type": "code",
   "execution_count": 28,
   "metadata": {},
   "outputs": [],
   "source": [
    "# some libraries to import\n",
    "import pandas as pd\n",
    "import numpy as np\n",
    "import matplotlib.pyplot as plt\n",
    "import seaborn as sns\n",
    "from sklearn import datasets, ensemble\n",
    "\n",
    "from sklearn.model_selection import cross_val_score, GridSearchCV\n",
    "from sklearn.ensemble import RandomForestRegressor\n",
    "from sklearn.preprocessing import MinMaxScaler\n",
    "\n",
    "from sklearn.metrics import mean_squared_error\n",
    "from sklearn.model_selection import train_test_split\n",
    "\n",
    "from sklearn.preprocessing import LabelEncoder \n",
    "from sklearn.preprocessing import OneHotEncoder\n",
    "\n",
    "# set max number of displaying columns to be none\n",
    "pd.set_option('max_columns',None)"
   ]
  },
  {
   "cell_type": "code",
   "execution_count": 29,
   "metadata": {},
   "outputs": [],
   "source": [
    "# read csv into pandas dataframe\n",
    "inspection=pd.read_csv('inspections.csv')\n",
    "restaurant=pd.read_csv('restaurants.csv')\n",
    "violation=pd.read_csv('violations.csv')\n",
    "yelp=pd.read_csv('yelp.csv')\n",
    "zipcode=pd.read_csv('zipcodes.csv')"
   ]
  },
  {
   "cell_type": "markdown",
   "metadata": {},
   "source": [
    "# Data Cleaning"
   ]
  },
  {
   "cell_type": "markdown",
   "metadata": {},
   "source": [
    "In order to explore more features that could influence health inspection score, we need to merge as many dataset as possible into one large dataset. \n",
    "First, let's merge yelp and restaurant together."
   ]
  },
  {
   "cell_type": "code",
   "execution_count": 30,
   "metadata": {},
   "outputs": [
    {
     "data": {
      "text/plain": [
       "['name', 'address1']"
      ]
     },
     "execution_count": 30,
     "metadata": {},
     "output_type": "execute_result"
    }
   ],
   "source": [
    "#check columns in common that can be merged on\n",
    "intersect=[i for i in yelp.columns if i in inspection.columns]\n",
    "intersect"
   ]
  },
  {
   "cell_type": "code",
   "execution_count": 31,
   "metadata": {},
   "outputs": [],
   "source": [
    "# before merge them together, I notice there are restaurants share the same address\n",
    "# drop those restaurants before merge\n",
    "yelp.drop_duplicates('address1',inplace=True)"
   ]
  },
  {
   "cell_type": "code",
   "execution_count": 32,
   "metadata": {},
   "outputs": [
    {
     "data": {
      "text/html": [
       "<div>\n",
       "<style scoped>\n",
       "    .dataframe tbody tr th:only-of-type {\n",
       "        vertical-align: middle;\n",
       "    }\n",
       "\n",
       "    .dataframe tbody tr th {\n",
       "        vertical-align: top;\n",
       "    }\n",
       "\n",
       "    .dataframe thead th {\n",
       "        text-align: right;\n",
       "    }\n",
       "</style>\n",
       "<table border=\"1\" class=\"dataframe\">\n",
       "  <thead>\n",
       "    <tr style=\"text-align: right;\">\n",
       "      <th></th>\n",
       "      <th>id</th>\n",
       "      <th>name_x</th>\n",
       "      <th>is_closed</th>\n",
       "      <th>rating</th>\n",
       "      <th>review_count</th>\n",
       "      <th>address1</th>\n",
       "      <th>zip_code</th>\n",
       "      <th>latitude</th>\n",
       "      <th>longitude</th>\n",
       "      <th>price</th>\n",
       "      <th>phone</th>\n",
       "      <th>hotdogs</th>\n",
       "      <th>sandwiches</th>\n",
       "      <th>pizza</th>\n",
       "      <th>tradamerican</th>\n",
       "      <th>burgers</th>\n",
       "      <th>mexican</th>\n",
       "      <th>grocery</th>\n",
       "      <th>breakfast_brunch</th>\n",
       "      <th>coffee</th>\n",
       "      <th>chinese</th>\n",
       "      <th>italian</th>\n",
       "      <th>newamerican</th>\n",
       "      <th>chicken_wings</th>\n",
       "      <th>delis</th>\n",
       "      <th>bars</th>\n",
       "      <th>salad</th>\n",
       "      <th>seafood</th>\n",
       "      <th>bbq</th>\n",
       "      <th>bakeries</th>\n",
       "      <th>sushi</th>\n",
       "      <th>hsisid</th>\n",
       "      <th>date</th>\n",
       "      <th>name_y</th>\n",
       "      <th>address2</th>\n",
       "      <th>city</th>\n",
       "      <th>state</th>\n",
       "      <th>postalcode</th>\n",
       "      <th>phonenumber</th>\n",
       "      <th>restaurantopendate</th>\n",
       "      <th>days_from_open_date</th>\n",
       "      <th>facilitytype</th>\n",
       "      <th>x</th>\n",
       "      <th>y</th>\n",
       "      <th>geocodestatus</th>\n",
       "      <th>zip</th>\n",
       "      <th>type</th>\n",
       "      <th>description</th>\n",
       "      <th>inspectedby</th>\n",
       "      <th>inspection_num</th>\n",
       "      <th>inspector_id</th>\n",
       "      <th>previous_inspection_date</th>\n",
       "      <th>days_since_previous_inspection</th>\n",
       "      <th>previous_inspection_by_same_inspector</th>\n",
       "      <th>score</th>\n",
       "      <th>num_critical</th>\n",
       "      <th>num_non_critical</th>\n",
       "      <th>num_critical_previous</th>\n",
       "      <th>num_non_critical_previous</th>\n",
       "      <th>num_critical_mean_previous</th>\n",
       "      <th>num_non_critical_mean_previous</th>\n",
       "      <th>avg_neighbor_num_critical</th>\n",
       "      <th>avg_neighbor_num_non_critical</th>\n",
       "      <th>top_match</th>\n",
       "      <th>second_match</th>\n",
       "      <th>critical</th>\n",
       "    </tr>\n",
       "  </thead>\n",
       "  <tbody>\n",
       "    <tr>\n",
       "      <th>0</th>\n",
       "      <td>southern-womens-show-raleigh</td>\n",
       "      <td>southern women's show</td>\n",
       "      <td>False</td>\n",
       "      <td>4.0</td>\n",
       "      <td>9</td>\n",
       "      <td>1025 Blue Ridge Rd</td>\n",
       "      <td>27607</td>\n",
       "      <td>35.79567</td>\n",
       "      <td>-78.71228</td>\n",
       "      <td>NaN</td>\n",
       "      <td>17043766594</td>\n",
       "      <td>False</td>\n",
       "      <td>False</td>\n",
       "      <td>False</td>\n",
       "      <td>False</td>\n",
       "      <td>False</td>\n",
       "      <td>False</td>\n",
       "      <td>False</td>\n",
       "      <td>False</td>\n",
       "      <td>False</td>\n",
       "      <td>False</td>\n",
       "      <td>False</td>\n",
       "      <td>False</td>\n",
       "      <td>False</td>\n",
       "      <td>False</td>\n",
       "      <td>False</td>\n",
       "      <td>False</td>\n",
       "      <td>False</td>\n",
       "      <td>False</td>\n",
       "      <td>False</td>\n",
       "      <td>False</td>\n",
       "      <td>4092014036</td>\n",
       "      <td>2013-02-01T00:00:00Z</td>\n",
       "      <td>Murphy House Restaurant-Dorton Arena</td>\n",
       "      <td>NaN</td>\n",
       "      <td>raleigh</td>\n",
       "      <td>NC</td>\n",
       "      <td>27607</td>\n",
       "      <td>(919) 522-0834</td>\n",
       "      <td>2004-05-07T00:00:00Z</td>\n",
       "      <td>3192</td>\n",
       "      <td>Restaurant</td>\n",
       "      <td>-78.715161</td>\n",
       "      <td>35.796348</td>\n",
       "      <td>M</td>\n",
       "      <td>27607</td>\n",
       "      <td>Inspection</td>\n",
       "      <td>NaN</td>\n",
       "      <td>Chris Askew</td>\n",
       "      <td>1</td>\n",
       "      <td>6.0</td>\n",
       "      <td>NaN</td>\n",
       "      <td>NaN</td>\n",
       "      <td>NaN</td>\n",
       "      <td>97.5</td>\n",
       "      <td>2</td>\n",
       "      <td>4</td>\n",
       "      <td>NaN</td>\n",
       "      <td>NaN</td>\n",
       "      <td>NaN</td>\n",
       "      <td>NaN</td>\n",
       "      <td>0.6</td>\n",
       "      <td>2.2</td>\n",
       "      <td>4.092040e+09</td>\n",
       "      <td>4.092022e+09</td>\n",
       "      <td>1</td>\n",
       "    </tr>\n",
       "    <tr>\n",
       "      <th>1</th>\n",
       "      <td>southern-womens-show-raleigh</td>\n",
       "      <td>southern women's show</td>\n",
       "      <td>False</td>\n",
       "      <td>4.0</td>\n",
       "      <td>9</td>\n",
       "      <td>1025 Blue Ridge Rd</td>\n",
       "      <td>27607</td>\n",
       "      <td>35.79567</td>\n",
       "      <td>-78.71228</td>\n",
       "      <td>NaN</td>\n",
       "      <td>17043766594</td>\n",
       "      <td>False</td>\n",
       "      <td>False</td>\n",
       "      <td>False</td>\n",
       "      <td>False</td>\n",
       "      <td>False</td>\n",
       "      <td>False</td>\n",
       "      <td>False</td>\n",
       "      <td>False</td>\n",
       "      <td>False</td>\n",
       "      <td>False</td>\n",
       "      <td>False</td>\n",
       "      <td>False</td>\n",
       "      <td>False</td>\n",
       "      <td>False</td>\n",
       "      <td>False</td>\n",
       "      <td>False</td>\n",
       "      <td>False</td>\n",
       "      <td>False</td>\n",
       "      <td>False</td>\n",
       "      <td>False</td>\n",
       "      <td>4092021276</td>\n",
       "      <td>2013-02-01T00:00:00Z</td>\n",
       "      <td>Murphy House Restaurant-Kerr Scott Building</td>\n",
       "      <td>NaN</td>\n",
       "      <td>raleigh</td>\n",
       "      <td>NC</td>\n",
       "      <td>27607</td>\n",
       "      <td>(919) 522-0834</td>\n",
       "      <td>2004-06-17T00:00:00Z</td>\n",
       "      <td>3151</td>\n",
       "      <td>Food Stand</td>\n",
       "      <td>-78.715161</td>\n",
       "      <td>35.796348</td>\n",
       "      <td>M</td>\n",
       "      <td>27607</td>\n",
       "      <td>Inspection</td>\n",
       "      <td>NaN</td>\n",
       "      <td>Chris Askew</td>\n",
       "      <td>1</td>\n",
       "      <td>6.0</td>\n",
       "      <td>NaN</td>\n",
       "      <td>NaN</td>\n",
       "      <td>NaN</td>\n",
       "      <td>98.0</td>\n",
       "      <td>1</td>\n",
       "      <td>6</td>\n",
       "      <td>NaN</td>\n",
       "      <td>NaN</td>\n",
       "      <td>NaN</td>\n",
       "      <td>NaN</td>\n",
       "      <td>0.6</td>\n",
       "      <td>2.2</td>\n",
       "      <td>4.092040e+09</td>\n",
       "      <td>4.092022e+09</td>\n",
       "      <td>1</td>\n",
       "    </tr>\n",
       "    <tr>\n",
       "      <th>2</th>\n",
       "      <td>southern-womens-show-raleigh</td>\n",
       "      <td>southern women's show</td>\n",
       "      <td>False</td>\n",
       "      <td>4.0</td>\n",
       "      <td>9</td>\n",
       "      <td>1025 Blue Ridge Rd</td>\n",
       "      <td>27607</td>\n",
       "      <td>35.79567</td>\n",
       "      <td>-78.71228</td>\n",
       "      <td>NaN</td>\n",
       "      <td>17043766594</td>\n",
       "      <td>False</td>\n",
       "      <td>False</td>\n",
       "      <td>False</td>\n",
       "      <td>False</td>\n",
       "      <td>False</td>\n",
       "      <td>False</td>\n",
       "      <td>False</td>\n",
       "      <td>False</td>\n",
       "      <td>False</td>\n",
       "      <td>False</td>\n",
       "      <td>False</td>\n",
       "      <td>False</td>\n",
       "      <td>False</td>\n",
       "      <td>False</td>\n",
       "      <td>False</td>\n",
       "      <td>False</td>\n",
       "      <td>False</td>\n",
       "      <td>False</td>\n",
       "      <td>False</td>\n",
       "      <td>False</td>\n",
       "      <td>4092021276</td>\n",
       "      <td>2013-08-24T00:00:00Z</td>\n",
       "      <td>Murphy House Restaurant-Kerr Scott Building</td>\n",
       "      <td>NaN</td>\n",
       "      <td>raleigh</td>\n",
       "      <td>NC</td>\n",
       "      <td>27607</td>\n",
       "      <td>(919) 522-0834</td>\n",
       "      <td>2004-06-17T00:00:00Z</td>\n",
       "      <td>3355</td>\n",
       "      <td>Food Stand</td>\n",
       "      <td>-78.715161</td>\n",
       "      <td>35.796348</td>\n",
       "      <td>M</td>\n",
       "      <td>27607</td>\n",
       "      <td>Inspection</td>\n",
       "      <td>NC FOOD CODE MANUAL:  To learn more about the ...</td>\n",
       "      <td>Lucy Schrum</td>\n",
       "      <td>2</td>\n",
       "      <td>25.0</td>\n",
       "      <td>2013-02-01T00:00:00Z</td>\n",
       "      <td>204.0</td>\n",
       "      <td>False</td>\n",
       "      <td>94.5</td>\n",
       "      <td>5</td>\n",
       "      <td>12</td>\n",
       "      <td>1.0</td>\n",
       "      <td>6.0</td>\n",
       "      <td>1.0</td>\n",
       "      <td>6.0</td>\n",
       "      <td>1.4</td>\n",
       "      <td>2.5</td>\n",
       "      <td>4.092040e+09</td>\n",
       "      <td>4.092022e+09</td>\n",
       "      <td>1</td>\n",
       "    </tr>\n",
       "  </tbody>\n",
       "</table>\n",
       "</div>"
      ],
      "text/plain": [
       "                             id                 name_x  is_closed  rating  \\\n",
       "0  southern-womens-show-raleigh  southern women's show      False     4.0   \n",
       "1  southern-womens-show-raleigh  southern women's show      False     4.0   \n",
       "2  southern-womens-show-raleigh  southern women's show      False     4.0   \n",
       "\n",
       "   review_count            address1  zip_code  latitude  longitude price  \\\n",
       "0             9  1025 Blue Ridge Rd     27607  35.79567  -78.71228   NaN   \n",
       "1             9  1025 Blue Ridge Rd     27607  35.79567  -78.71228   NaN   \n",
       "2             9  1025 Blue Ridge Rd     27607  35.79567  -78.71228   NaN   \n",
       "\n",
       "         phone  hotdogs  sandwiches  pizza  tradamerican  burgers  mexican  \\\n",
       "0  17043766594    False       False  False         False    False    False   \n",
       "1  17043766594    False       False  False         False    False    False   \n",
       "2  17043766594    False       False  False         False    False    False   \n",
       "\n",
       "   grocery  breakfast_brunch  coffee  chinese  italian  newamerican  \\\n",
       "0    False             False   False    False    False        False   \n",
       "1    False             False   False    False    False        False   \n",
       "2    False             False   False    False    False        False   \n",
       "\n",
       "   chicken_wings  delis   bars  salad  seafood    bbq  bakeries  sushi  \\\n",
       "0          False  False  False  False    False  False     False  False   \n",
       "1          False  False  False  False    False  False     False  False   \n",
       "2          False  False  False  False    False  False     False  False   \n",
       "\n",
       "       hsisid                  date  \\\n",
       "0  4092014036  2013-02-01T00:00:00Z   \n",
       "1  4092021276  2013-02-01T00:00:00Z   \n",
       "2  4092021276  2013-08-24T00:00:00Z   \n",
       "\n",
       "                                        name_y address2     city state  \\\n",
       "0         Murphy House Restaurant-Dorton Arena      NaN  raleigh    NC   \n",
       "1  Murphy House Restaurant-Kerr Scott Building      NaN  raleigh    NC   \n",
       "2  Murphy House Restaurant-Kerr Scott Building      NaN  raleigh    NC   \n",
       "\n",
       "  postalcode     phonenumber    restaurantopendate  days_from_open_date  \\\n",
       "0      27607  (919) 522-0834  2004-05-07T00:00:00Z                 3192   \n",
       "1      27607  (919) 522-0834  2004-06-17T00:00:00Z                 3151   \n",
       "2      27607  (919) 522-0834  2004-06-17T00:00:00Z                 3355   \n",
       "\n",
       "  facilitytype          x          y geocodestatus    zip        type  \\\n",
       "0   Restaurant -78.715161  35.796348             M  27607  Inspection   \n",
       "1   Food Stand -78.715161  35.796348             M  27607  Inspection   \n",
       "2   Food Stand -78.715161  35.796348             M  27607  Inspection   \n",
       "\n",
       "                                         description  inspectedby  \\\n",
       "0                                                NaN  Chris Askew   \n",
       "1                                                NaN  Chris Askew   \n",
       "2  NC FOOD CODE MANUAL:  To learn more about the ...  Lucy Schrum   \n",
       "\n",
       "   inspection_num  inspector_id previous_inspection_date  \\\n",
       "0               1           6.0                      NaN   \n",
       "1               1           6.0                      NaN   \n",
       "2               2          25.0     2013-02-01T00:00:00Z   \n",
       "\n",
       "   days_since_previous_inspection previous_inspection_by_same_inspector  \\\n",
       "0                             NaN                                   NaN   \n",
       "1                             NaN                                   NaN   \n",
       "2                           204.0                                 False   \n",
       "\n",
       "   score  num_critical  num_non_critical  num_critical_previous  \\\n",
       "0   97.5             2                 4                    NaN   \n",
       "1   98.0             1                 6                    NaN   \n",
       "2   94.5             5                12                    1.0   \n",
       "\n",
       "   num_non_critical_previous  num_critical_mean_previous  \\\n",
       "0                        NaN                         NaN   \n",
       "1                        NaN                         NaN   \n",
       "2                        6.0                         1.0   \n",
       "\n",
       "   num_non_critical_mean_previous  avg_neighbor_num_critical  \\\n",
       "0                             NaN                        0.6   \n",
       "1                             NaN                        0.6   \n",
       "2                             6.0                        1.4   \n",
       "\n",
       "   avg_neighbor_num_non_critical     top_match  second_match  critical  \n",
       "0                            2.2  4.092040e+09  4.092022e+09         1  \n",
       "1                            2.2  4.092040e+09  4.092022e+09         1  \n",
       "2                            2.5  4.092040e+09  4.092022e+09         1  "
      ]
     },
     "execution_count": 32,
     "metadata": {},
     "output_type": "execute_result"
    }
   ],
   "source": [
    "# we choose address to be the merged column and join\n",
    "yelp_inspection=pd.merge(yelp,inspection,on='address1',how='inner')\n",
    "yelp_inspection.head(3)"
   ]
  },
  {
   "cell_type": "code",
   "execution_count": 33,
   "metadata": {},
   "outputs": [
    {
     "data": {
      "text/plain": [
       "(970, 60)"
      ]
     },
     "execution_count": 33,
     "metadata": {},
     "output_type": "execute_result"
    }
   ],
   "source": [
    "# some cleaning on yelp_inspection\n",
    "# first drop some overlapping columns\n",
    "overlap=['id','name_y','address2','x','y','zip']\n",
    "yelp_inspection.drop(columns=overlap,inplace=True)\n",
    "yelp_inspection.shape"
   ]
  },
  {
   "cell_type": "markdown",
   "metadata": {},
   "source": [
    "Now that we merge yelp and inspection together, we also want to take a look at the information of each zipcode that restaurant locates in."
   ]
  },
  {
   "cell_type": "code",
   "execution_count": 34,
   "metadata": {},
   "outputs": [
    {
     "data": {
      "text/plain": [
       "(970, 67)"
      ]
     },
     "execution_count": 34,
     "metadata": {},
     "output_type": "execute_result"
    }
   ],
   "source": [
    "# clean zipcode columns in both datasets\n",
    "yelp_inspection['zip_code']=yelp_inspection['zip_code'].astype(str)\n",
    "yelp_inspection.rename({'zip_code':'zipcode'},inplace=True,axis=1)\n",
    "\n",
    "zipcode.rename({'zip':'zipcode'},axis=1,inplace=True)\n",
    "zipcode['zipcode']=zipcode['zipcode'].astype(str)\n",
    "\n",
    "# merge zipcode and yelp_inspection together\n",
    "df=pd.merge(zipcode,yelp_inspection,on='zipcode',how='inner')\n",
    "df.shape"
   ]
  },
  {
   "cell_type": "code",
   "execution_count": 35,
   "metadata": {},
   "outputs": [
    {
     "name": "stdout",
     "output_type": "stream",
     "text": [
      "description                              522\n",
      "price                                    139\n",
      "num_non_critical_mean_previous           135\n",
      "num_critical_mean_previous               135\n",
      "num_non_critical_previous                135\n",
      "num_critical_previous                    135\n",
      "previous_inspection_by_same_inspector    135\n",
      "days_since_previous_inspection           135\n",
      "previous_inspection_date                 135\n",
      "phonenumber                               32\n",
      "dtype: int64\n"
     ]
    }
   ],
   "source": [
    "#check the number of nulls in df\n",
    "print(df.isna().sum().sort_values(ascending=False).head(10))\n",
    "# drop some columns base on the number of nulls\n",
    "df.drop(columns=['description','phonenumber'],inplace=True)\n",
    "# fillna with median\n",
    "df.fillna('nan',inplace=True)"
   ]
  },
  {
   "cell_type": "markdown",
   "metadata": {},
   "source": [
    "Notice that there are columns represent the food type in a restaurant (those columns have been one hot encoded). I want to transfer them back into uncoded condition, I create a new column called 'food_type' that contains the restaurant type."
   ]
  },
  {
   "cell_type": "code",
   "execution_count": 37,
   "metadata": {},
   "outputs": [],
   "source": [
    "#get restaurant type list\n",
    "type_list=df.columns[17:37]"
   ]
  },
  {
   "cell_type": "code",
   "execution_count": 38,
   "metadata": {},
   "outputs": [],
   "source": [
    "# helper function to get food_type\n",
    "def get_type(x):\n",
    "    for i in type_list:\n",
    "        if x[i]==True:\n",
    "            return i\n",
    "    return 'other'\n",
    "\n",
    "# create food_type column\n",
    "df['food_type']=df.apply(get_type,axis=1)\n",
    "df.drop(columns=type_list,inplace=True)"
   ]
  },
  {
   "cell_type": "code",
   "execution_count": null,
   "metadata": {},
   "outputs": [],
   "source": []
  },
  {
   "cell_type": "code",
   "execution_count": 39,
   "metadata": {},
   "outputs": [],
   "source": [
    "# clean price column\n",
    "df['price']=df['price'].replace('$$','high') \n",
    "df['price']=df['price'].replace('$','low')\n",
    "# clean days_since_previous_inspection columns\n",
    "df['days_since_previous_inspection']=df['days_since_previous_inspection'].astype(str)\n",
    "df['days_since_previous_inspection']=df['days_since_previous_inspection'].replace('median','0')\n",
    "df['days_since_previous_inspection']=df['days_since_previous_inspection'].astype(float)\n",
    "df['days_since_previous_inspection']=df['days_since_previous_inspection'].fillna(0)"
   ]
  },
  {
   "cell_type": "markdown",
   "metadata": {},
   "source": [
    "# Data Analysis & Results"
   ]
  },
  {
   "cell_type": "markdown",
   "metadata": {},
   "source": [
    "Fist let's visualize the relationshaip between inspection score and other features in our dataset. I will seperate those features into two groups: one relate to restaurant itself, and one relate to inspection. Through visualization and correlation metrix, I would like to find features that can be used in our regression model."
   ]
  },
  {
   "cell_type": "code",
   "execution_count": 40,
   "metadata": {},
   "outputs": [
    {
     "data": {
      "image/png": "[encoded data removed]",
      "text/plain": [
       "<Figure size 1224x360 with 2 Axes>"
      ]
     },
     "metadata": {
      "needs_background": "light"
     },
     "output_type": "display_data"
    },
    {
     "data": {
      "image/png": "[encoded data removed]",
      "text/plain": [
       "<Figure size 1224x360 with 1 Axes>"
      ]
     },
     "metadata": {
      "needs_background": "light"
     },
     "output_type": "display_data"
    },
    {
     "data": {
      "image/png": "[encoded data removed]",
      "text/plain": [
       "<Figure size 1224x360 with 1 Axes>"
      ]
     },
     "metadata": {
      "needs_background": "light"
     },
     "output_type": "display_data"
    }
   ],
   "source": [
    "# plot line chart for yelp rating and inspection score\n",
    "# first groupby rating and calculate mean score \n",
    "fig=plt.figure(figsize=(17,5))\n",
    "fig.suptitle('correlation between inspection and restaurant information') \n",
    "plt.subplot(1,2,1)\n",
    "# plot the line chart between rating and score\n",
    "grouped_rating=df.groupby('rating').median()['score']\n",
    "plt.title('yelp rating and inspection score')\n",
    "plt.xlabel('yelp rating')\n",
    "plt.ylabel('inspection score') \n",
    "plt.plot(grouped_rating.index,grouped_rating.values,label='inspection score ')\n",
    "#plot mean inspection score'\n",
    "plt.plot([df['score'].mean()]*6,label='mean score') \n",
    "plt.legend()\n",
    "\n",
    "\n",
    "#plot the bar chart between price and inspection\n",
    "plt.subplot(1,2,2)\n",
    "plt.title('price range and inspection score') \n",
    "plt.xlabel('price')\n",
    "plt.ylabel('inspection score') \n",
    "price_score=df.groupby('price').mean()['score'] \n",
    "plt.bar(['high','low','median'],height=price_score.values) \n",
    "#I limit the y axis to make the difference larger\n",
    "#but still the difference is very small\n",
    "plt.ylim(95.5,97)\n",
    "plt.show()\n",
    "\n",
    "\n",
    "#plot bar chart between score and zipcode\n",
    "plt.figure(figsize=(17,5))\n",
    "plt.title('zipcode area and inspection score') \n",
    "plt.xlabel('zipcode')\n",
    "plt.xticks(rotation=45)\n",
    "plt.ylabel('inspection score') \n",
    "zip_score=df.groupby('zipcode').mean()['score'] \n",
    "#sort into descending order \n",
    "zip_score=zip_score.sort_values(ascending=False) \n",
    "plt.bar(zip_score.index,zip_score.values) \n",
    "plt.ylim(90,100)\n",
    "plt.show()\n",
    "\n",
    "\n",
    "#plot bar chart between score and restaurant type\n",
    "plt.figure(figsize=(17,5))\n",
    "plt.title('restaurant type and inspection score') \n",
    "plt.xlabel('type')\n",
    "plt.xticks(rotation=45)\n",
    "plt.ylabel('inspection score') \n",
    "type_score=df.groupby('food_type').mean()['score'] \n",
    "#sort into descending order \n",
    "type_score=type_score.sort_values(ascending=False) \n",
    "plt.bar(type_score.index,type_score.values) \n",
    "plt.ylim(90,100)\n",
    "plt.show()"
   ]
  },
  {
   "cell_type": "markdown",
   "metadata": {},
   "source": [
    "From above charts, we can see inspection score can have strong relationship with restaurant location(zipcode area), and food type it provides, however there is none strong linear relation between score and price or yelp rating. Then, we want to futher caculate the correlation matrix to show their correlation in numerical data with the help of seaborn library."
   ]
  },
  {
   "cell_type": "code",
   "execution_count": 41,
   "metadata": {},
   "outputs": [
    {
     "data": {
      "text/plain": [
       "<matplotlib.axes._subplots.AxesSubplot at 0x7f81928382e8>"
      ]
     },
     "execution_count": 41,
     "metadata": {},
     "output_type": "execute_result"
    },
    {
     "data": {
      "image/png": "[encoded data removed]",
      "text/plain": [
       "<Figure size 432x288 with 2 Axes>"
      ]
     },
     "metadata": {
      "needs_background": "light"
     },
     "output_type": "display_data"
    }
   ],
   "source": [
    "#caculate the correlation metrix between restaurants' information and score \n",
    "#I do not include price column \n",
    "res_info=df[['score','zipcode','food_type']].drop_duplicates(subset=['zipcode','food_type'])\n",
    "corr=res_info.pivot('food_type','zipcode','score') \n",
    "corr.fillna(df['score'].mean(),inplace=True)\n",
    "sns.heatmap(corr)"
   ]
  },
  {
   "cell_type": "markdown",
   "metadata": {},
   "source": [
    "The above correlation heatmap shows that those restaurants with certain food types have higher inspection score than others for example grocery and hotdogs restaurants. Besides, some zipcode areas have lower inspection score in general than any other areas. for example zipcode 27609"
   ]
  },
  {
   "cell_type": "markdown",
   "metadata": {},
   "source": [
    "### Regression model base on restaurant information"
   ]
  },
  {
   "cell_type": "markdown",
   "metadata": {},
   "source": [
    "Now, with above information, I would like to build a regressor that just takes one restaurant's information as features and predict that inspection score. Considering the features contain both numeric and nominal data, I deceide to use random forest regressor to train and predict the data.\n",
    "\n",
    "Before training the data, we need to label encode the nominal data such as zipcode and food type"
   ]
  },
  {
   "cell_type": "code",
   "execution_count": 42,
   "metadata": {},
   "outputs": [
    {
     "name": "stderr",
     "output_type": "stream",
     "text": [
      "/opt/conda/lib/python3.6/site-packages/ipykernel_launcher.py:11: SettingWithCopyWarning: \n",
      "A value is trying to be set on a copy of a slice from a DataFrame.\n",
      "Try using .loc[row_indexer,col_indexer] = value instead\n",
      "\n",
      "See the caveats in the documentation: http://pandas.pydata.org/pandas-docs/stable/user_guide/indexing.html#returning-a-view-versus-a-copy\n",
      "  # This is added back by InteractiveShellApp.init_path()\n",
      "/opt/conda/lib/python3.6/site-packages/ipykernel_launcher.py:15: SettingWithCopyWarning: \n",
      "A value is trying to be set on a copy of a slice from a DataFrame.\n",
      "Try using .loc[row_indexer,col_indexer] = value instead\n",
      "\n",
      "See the caveats in the documentation: http://pandas.pydata.org/pandas-docs/stable/user_guide/indexing.html#returning-a-view-versus-a-copy\n",
      "  from ipykernel import kernelapp as app\n",
      "/opt/conda/lib/python3.6/site-packages/ipykernel_launcher.py:19: SettingWithCopyWarning: \n",
      "A value is trying to be set on a copy of a slice from a DataFrame.\n",
      "Try using .loc[row_indexer,col_indexer] = value instead\n",
      "\n",
      "See the caveats in the documentation: http://pandas.pydata.org/pandas-docs/stable/user_guide/indexing.html#returning-a-view-versus-a-copy\n"
     ]
    }
   ],
   "source": [
    "#select all features from dataset\n",
    "alldata=df[['zipcode','food_type','price','rating','review_count','score']]\n",
    "#select just numerical data\n",
    "num=alldata[['rating','review_count','score']]\n",
    "#select nominal data\n",
    "nominal=alldata[['zipcode','food_type','price']]\n",
    "\n",
    "# label encode the nominal features\n",
    "le1 = LabelEncoder()\n",
    "le1.fit(nominal['zipcode'])\n",
    "nominal['zipcode']= le1.transform(nominal['zipcode']) \n",
    "\n",
    "le2 = LabelEncoder()\n",
    "le2.fit(nominal['food_type'])\n",
    "nominal['food_type']= le2.transform(nominal['food_type']) \n",
    "\n",
    "le3 = LabelEncoder()\n",
    "le3.fit(nominal['price'])\n",
    "nominal['price']= le3.transform(nominal['price']) \n",
    "\n",
    "modify=pd.concat([nominal,num],axis=1).reset_index(drop=True)\n"
   ]
  },
  {
   "cell_type": "code",
   "execution_count": 43,
   "metadata": {},
   "outputs": [
    {
     "name": "stdout",
     "output_type": "stream",
     "text": [
      "Model with restaurant information as features has prediction RMSE of: 3.326137457818066\n"
     ]
    },
    {
     "name": "stderr",
     "output_type": "stream",
     "text": [
      "/opt/conda/lib/python3.6/site-packages/sklearn/ensemble/forest.py:245: FutureWarning: The default value of n_estimators will change from 10 in version 0.20 to 100 in 0.22.\n",
      "  \"10 in version 0.20 to 100 in 0.22.\", FutureWarning)\n"
     ]
    }
   ],
   "source": [
    "# train-test split and train the random forest regressor\n",
    "X=modify[['zipcode','food_type','price','rating','review_count']]\n",
    "y=modify['score']\n",
    "X_train, X_test, y_train, y_test = train_test_split(X,y, test_size=0.2)\n",
    "\n",
    "regr = RandomForestRegressor(max_depth=30)\n",
    "regr.fit(X_train, y_train)\n",
    "predict=regr.predict(X_test)\n",
    "\n",
    "# evaluate RMSE of predicted result\n",
    "rmse=mean_squared_error(y_test, predict)\n",
    "print('Model with restaurant information as features has prediction RMSE of: '+str(rmse))"
   ]
  },
  {
   "cell_type": "markdown",
   "metadata": {},
   "source": [
    "Now we have a model using restaurants information as features and get a rmse around 4. Then, in order to justify our hypothesis, I also need to creat another model which use features relate to inspection process for example(inspecor, days since last inspect, etc) and check the performance of that model. If the next model turns out perform better than this one, I can not justify my hypothesis which means the inspection result does not completly reflect the true health condition of one restaurant.\n",
    "\n",
    "Samiliarly, let us visualize some relationship between features and inspection score"
   ]
  },
  {
   "cell_type": "code",
   "execution_count": 54,
   "metadata": {},
   "outputs": [
    {
     "data": {
      "image/png": "[encoded data removed]",
      "text/plain": [
       "<Figure size 1224x360 with 1 Axes>"
      ]
     },
     "metadata": {
      "needs_background": "light"
     },
     "output_type": "display_data"
    },
    {
     "data": {
      "image/png": "[encoded data removed]",
      "text/plain": [
       "<Figure size 1224x360 with 1 Axes>"
      ]
     },
     "metadata": {
      "needs_background": "light"
     },
     "output_type": "display_data"
    }
   ],
   "source": [
    "fig=plt.figure(figsize=(17,5))\n",
    "fig.suptitle('correlation between score and inspection process') \n",
    "# check if inspector has strong correlation with score\n",
    "grouped_rating=df.groupby('inspectedby').median()['score'].sort_values(ascending=False)\n",
    "plt.title('inspectors and inspection score')\n",
    "plt.xlabel('inspectors')\n",
    "plt.ylabel('inspection score') \n",
    "plt.ylim(90,100)\n",
    "plt.xticks(rotation=45)\n",
    "plt.bar(grouped_rating.index,grouped_rating.values)\n",
    "plt.show()\n",
    "\n",
    "# check if the frequency of inspection influence score\n",
    "fig=plt.figure(figsize=(17,5))\n",
    "plt.title('inspection frequency and inspection score') \n",
    "grouped_rating=df.groupby('days_since_previous_inspection').median()['score'].sort_values(ascending=False)\n",
    "plt.title('inspection frequency and inspection score')\n",
    "plt.xlabel('days_since_previous_inspection')\n",
    "plt.ylabel('inspection score') \n",
    "plt.ylim(90,100)\n",
    "plt.xlim(100,200)\n",
    "plt.xticks(rotation=45)\n",
    "plt.bar(grouped_rating.index,grouped_rating.values)\n",
    "plt.show()"
   ]
  },
  {
   "cell_type": "markdown",
   "metadata": {},
   "source": [
    "The first bar plot shows that there is some kind of correlation between inspector and score. Some of the inspector tend to give lower or higher grade than others, however we can not say that they are unfair inspectors because we do not know if the area they inspect are different from others, for example, if an area is dirtier than other areas, the inspector of that area will give lower grade than other inspectors.\n",
    "\n",
    "From the second graph, I try to find a pattern between the frequency and score, I made an assumption in my question part that if the inspection happened more regularly, the inspection result will be higher. However, we see no such pattern in this bar graph and thus we can have a negative answer to that assumption."
   ]
  },
  {
   "cell_type": "markdown",
   "metadata": {},
   "source": [
    "### Regression model base on inspection process"
   ]
  },
  {
   "cell_type": "code",
   "execution_count": 51,
   "metadata": {},
   "outputs": [
    {
     "name": "stdout",
     "output_type": "stream",
     "text": [
      "Model with inspection process as features has prediction RMSE of: 5.848797517462979\n"
     ]
    },
    {
     "name": "stderr",
     "output_type": "stream",
     "text": [
      "/opt/conda/lib/python3.6/site-packages/sklearn/ensemble/forest.py:245: FutureWarning: The default value of n_estimators will change from 10 in version 0.20 to 100 in 0.22.\n",
      "  \"10 in version 0.20 to 100 in 0.22.\", FutureWarning)\n"
     ]
    }
   ],
   "source": [
    "#select all features from dataset\n",
    "modify=df[['inspector_id','days_since_previous_inspection','median_household_income_dollars','percent_damilies_below_poverty_line','score']]\n",
    "\n",
    "#replace nan\n",
    "\n",
    "\n",
    "# train-test split and train the random forest regressor\n",
    "X=modify[['inspector_id','days_since_previous_inspection','median_household_income_dollars','percent_damilies_below_poverty_line']]\n",
    "y=modify['score']\n",
    "X_train, X_test, y_train, y_test = train_test_split(X,y, test_size=0.2)\n",
    "\n",
    "regr = RandomForestRegressor(max_depth=30)\n",
    "regr.fit(X_train, y_train)\n",
    "predict=regr.predict(X_test)\n",
    "\n",
    "# evaluate RMSE of predicted result\n",
    "rmse=mean_squared_error(y_test, predict)\n",
    "print('Model with inspection process as features has prediction RMSE of: '+str(rmse))"
   ]
  },
  {
   "cell_type": "markdown",
   "metadata": {},
   "source": [
    "# Ethics & Privacy"
   ]
  },
  {
   "cell_type": "markdown",
   "metadata": {},
   "source": [
    "1. The detail personal information of the restaurant owener should be hidden from the dataset\n",
    "2. A consent from the owner should be given in order to acquire the attribute: \"number of complains\" , and the personal information of complainer should also be hidden\n",
    "3. The information of each inspectors is hidden and excluded from dataset.\n",
    "4. Treat each restaurant equally, and each restaurant contribute equally to my analysis. As you can see I did not use any names in my model building and analytics and thus avoid bias."
   ]
  },
  {
   "cell_type": "markdown",
   "metadata": {},
   "source": [
    "# Conclusion & Discussion"
   ]
  },
  {
   "cell_type": "markdown",
   "metadata": {},
   "source": [
    "In this project, I want to find out what features can most strongly predict the inspection result. I divide those features into two groups, one relates to restraurant itself, another one relate to the inspection process. Then after visualizing and analytics, I build two regressor for each one of these two groups to predict inspection score. \n",
    "\n",
    "As we can see from above model rmse result, the model which builded on restaurant information feature performs much better than model build on inspection process. This means that this inspection process is fair to all of the restaurants, because the inspection result does not rely on the inspector or frequncy of inspection or even situation of its neighborhood. Thus, we now know the best way to earn a good inspection score is to improve the health condition of a restaurant, and some information such as: yelp rating and restaurant type will also provide information about the environment of that restaurant.\n",
    "\n",
    "Additionaly, we learned even though some inspector tend to give lower(or higher) inspection score than others, it does not influence the general fairness of the inspection process Because their score can be influenced by the cleaniess of neighborhood or any other factors.\n",
    "\n",
    "Last but not the least, this project also has some drawbacks that have not been solved. For example, I notics several restaurants share the same address and thus share the same inspection information when I try to merge two dataset, that will lead to unaccuracy of my model. Besides, I also do not check the dependance of features I use, if the rating column largly correlate to food_type, that will also decrease the accuracy of my result, but in general, I still can justify my hypothesis that the inspection result can be mostly influenced by restaurant itself, not inspection process."
   ]
  },
  {
   "cell_type": "code",
   "execution_count": null,
   "metadata": {},
   "outputs": [],
   "source": []
  }
 ],
 "metadata": {
  "kernelspec": {
   "display_name": "Python 3",
   "language": "python",
   "name": "python3"
  },
  "language_info": {
   "codemirror_mode": {
    "name": "ipython",
    "version": 3
   },
   "file_extension": ".py",
   "mimetype": "text/x-python",
   "name": "python",
   "nbconvert_exporter": "python",
   "pygments_lexer": "ipython3",
   "version": "3.6.7"
  }
 },
 "nbformat": 4,
 "nbformat_minor": 2
}
