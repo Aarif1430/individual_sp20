{
 "cells": [
  {
   "cell_type": "markdown",
   "metadata": {},
   "source": [
    "# COGS 108 - Final Project "
   ]
  },
  {
   "cell_type": "markdown",
   "metadata": {},
   "source": [
    "# Overview"
   ]
  },
  {
   "cell_type": "markdown",
   "metadata": {},
   "source": [
    "For my final project, I investigated a potential relationship between a restaurant's price designation on Yelp and their proportion of foodborne illness related violations. To do this, I calculated distributions of the aforementioned proportions along lines of price designation, and performed a t-test. After a t-test, I was able to conclude that no such relationship exists, within the context of provided datasets."
   ]
  },
  {
   "cell_type": "markdown",
   "metadata": {},
   "source": [
    "# Name & PID\n",
    "\n",
    "- Name: Sebastian Dogaru\n",
    "- PID: A14541910"
   ]
  },
  {
   "cell_type": "markdown",
   "metadata": {},
   "source": [
    "# Research Question"
   ]
  },
  {
   "cell_type": "markdown",
   "metadata": {},
   "source": [
    "*In North Carolina, is there a relationship between a restaurant's price designation on Yelp, and proportion of foodborne illness related violations?*"
   ]
  },
  {
   "cell_type": "markdown",
   "metadata": {},
   "source": [
    "## Background and Prior Work"
   ]
  },
  {
   "cell_type": "markdown",
   "metadata": {},
   "source": [
    "Due to the COVID-19 pandemic plaguing the world at large, now, more than ever, consumers are skeptical about the hygenic practices of the restaurants they frequent. In 2014, a report from the Center for Science in the Public Interest (CSPI) concluded that the average consumer is twice as likely to contract a foodborne illness eating at a restaurant than they are cooking their own food at home. However, this study failed to specify whether a consumer was more likely to contract food poisoning at certain restaurants, than they are at others. Along lines of restaurant pricing, the average consumer would likely assume that they are more likely to contract food poisoning eating at a fast-food restaurant, than they would be eating at a gourmet bistro. This conclusion is driven by perceptions of fast-food cleanliness, which have been reinforced by events such as the Chipotle E-Coli outbreak that infected thousands with food poisoning. (1,2)\n",
    "\n",
    "Based on current research, these perceptions of fast-food cleanliness are largely incorrect. In another study performed by the CPSI, they determined that there was not a significant difference in health department inspection scores along lines of pricing. However, it is important to note that not all inspection scores are created equal, within the context of food poisoning. In North Carolina, which is the population of this project's dataset, there are eight different violation categories described in the 2009 Food Code. Only one of these categories covers the transmission of foodborne illness. So despite restaurants of all price ranges recieving similar total scores on average, it is entirely possible that restaurants of a particular price range may recieve more food-poisoning related violations than others. This research question of this project aims to explore this possibility. (1,3)\n",
    "\n",
    "References (include links):\n",
    "- 1) Time article on CSPI findings https://time.com/75810/which-will-make-you-sicker-four-star-v-fast-food/\n",
    "- 2) Report on Chipotle E-Coli outbreak https://www.foodsafetynews.com/2020/04/chipotle-agrees-to-pay-25-million-federal-fine-for-role-in-some-outbreaks/\n",
    "- 3) North Carolina Food Code https://ehs.ncpublichealth.com/faf/docs/foodprot/NC-FoodCodeManual-2009-FINAL.pdf"
   ]
  },
  {
   "cell_type": "markdown",
   "metadata": {},
   "source": [
    "# Hypothesis\n"
   ]
  },
  {
   "cell_type": "markdown",
   "metadata": {},
   "source": [
    "*In North Carolina, there does exist a positive relationship between a restaurant's price designation, and that restaurants proportion of foodborne illness related violations. That is to say, that more expensive restaurants have higher proportions of food-poisoning related violations than less-expensive restaurants. I believe this to be the case because more expensive restaurants are less likely to use frozen or pre-made foodstuffs than lower priced restaurants. This means they handle raw foods more frequently, which increases the chances of contamination within the kitchen.*"
   ]
  },
  {
   "cell_type": "markdown",
   "metadata": {},
   "source": [
    "# Dataset(s)"
   ]
  },
  {
   "cell_type": "markdown",
   "metadata": {},
   "source": [
    "#####  Dataset Name: yelp.csv\n",
    "#####  Link to the dataset: Provided Health Inspection Dataset\n",
    "#####  Number of observations: 3688\n",
    "\n",
    "The yelp.csv dataset has 3688 observations, which consist of Yelp data for restaurants in North Carolina. Observations contain information on a restaurant's location, rating, price, and type of food. Basically, the standard information one could gather by visiting that restaurants Yelp page.\n",
    "\n",
    "To be abundantly clear, each observation has the following variables : ['id', 'name', 'is_closed', 'rating', 'review_count', 'address1',\n",
    "       'zip_code', 'latitude', 'longitude', 'price', 'phone', 'hotdogs',\n",
    "       'sandwiches', 'pizza', 'tradamerican', 'burgers', 'mexican', 'grocery',\n",
    "       'breakfast_brunch', 'coffee', 'chinese', 'italian', 'newamerican',\n",
    "       'chicken_wings', 'delis', 'bars', 'salad', 'seafood', 'bbq', 'bakeries',\n",
    "       'sushi']\n",
    "       \n",
    "Clearly, many variables are included, but the only ones that are relevant to this particular project are 'address1' and 'price'. This data will be used to assign each restaurant, and eventually their violations, to a particular price range. The 'address1' variable is used to refer to a particular restaurant, rather than the restaurants name, to avoid the duplicate edge case.\n",
    "\n",
    "\n",
    "\n",
    "#####  Dataset Name: violations.csv\n",
    "##### Link to the dataset: Provided Health Inspection Dataset\n",
    "##### Number of observations: 189802\n",
    "\n",
    "The violations.csv dataset contains data on violations recorded during food inspections in North Carolina. Each observation consists of a particular violation (there can be more than one violation at an inspection) recorded during food inspections. The data contained in an observation contains, but is not limited to: the date of inspection, restaurant id, the violation code, and other related data.\n",
    "\n",
    "To be abundantly clear, each observation has the following variables: ['X.objectid', 'hsisid', 'inspectdate', 'category', 'statecode',\n",
    "       'critical', 'questionno', 'violationcode', 'severity', 'shortdesc',\n",
    "       'inspectedby', 'comments', 'pointvalue', 'observationtype',\n",
    "       'violationtype', 'count', 'cdcriskfactor', 'cdcdataitem']\n",
    "\n",
    "Of these variables, the only ones that will be used in this project are: ['hsisid','violationcode']. The variable 'hsisid' is a particular restaurants unique id. The variable 'violationcode' refers to the type of violation a restaurant was charged with, for a given violation. These variables will be used to keep track of violations, by restaurant.\n",
    "\n",
    "\n",
    "\n",
    "##### Dataset Name: inspections.csv\n",
    "##### Link to the dataset: Provided Health Inspection Dataset\n",
    "##### Number of observations: 18466\n",
    "\n",
    "The inspections.csv dataset has 18466 observations, where each observation contains data from a particular food inspection performed in North Carolina between the years 2012 and 2016. This data contains information such as the restaurant inspected, location, the name of the inspector, inspection score, and the results of the inspection. \n",
    "\n",
    "To be abundantly clear, each observation has the following variables: ['hsisid', 'date', 'name', 'address1', 'address2', 'city', 'state',\n",
    "       'postalcode', 'phonenumber', 'restaurantopendate',\n",
    "       'days_from_open_date', 'facilitytype', 'x', 'y', 'geocodestatus', 'zip',\n",
    "       'type', 'description', 'inspectedby', 'inspection_num', 'inspector_id',\n",
    "       'previous_inspection_date', 'days_since_previous_inspection',\n",
    "       'previous_inspection_by_same_inspector', 'score', 'num_critical',\n",
    "       'num_non_critical', 'num_critical_previous',\n",
    "       'num_non_critical_previous', 'num_critical_mean_previous',\n",
    "       'num_non_critical_mean_previous', 'avg_neighbor_num_critical',\n",
    "       'avg_neighbor_num_non_critical', 'top_match', 'second_match',\n",
    "       'critical']\n",
    "       \n",
    "Many variables are included, but most of them do not contain information that pertains to the research question of this project. The only variables that will be used are : ['hsisid', 'address1'], which will be used to lookup each restaurants unique id 'hsisid' based on their address. This will allow us to determine a restaurants unique id by looking up addresses from the Yelp set.\n",
    "\n",
    "###### A note on merging datasets:\n",
    "The three datasets, yelp.csv, violations.csv and inspections.csv will be merged into one dataset, by performing two seperate inner joins. The first inner join will be between Yelp.csv and inspections.csv, on the 'address1' variable. A second inner join will be done on the result of the first, on the 'hsisid' variable. \n"
   ]
  },
  {
   "cell_type": "markdown",
   "metadata": {},
   "source": [
    "# Setup"
   ]
  },
  {
   "cell_type": "code",
   "execution_count": 37,
   "metadata": {},
   "outputs": [],
   "source": [
    "# Import libraries\n",
    "import numpy as np\n",
    "import pandas as pd\n",
    "import matplotlib.pyplot as plt\n",
    "import seaborn as sns\n",
    "import scipy.stats as stats"
   ]
  },
  {
   "cell_type": "markdown",
   "metadata": {},
   "source": [
    "# Data Cleaning"
   ]
  },
  {
   "cell_type": "markdown",
   "metadata": {},
   "source": [
    "First, I read in the three dataset csv files into respective DataFrames."
   ]
  },
  {
   "cell_type": "code",
   "execution_count": 38,
   "metadata": {},
   "outputs": [],
   "source": [
    "violations = pd.read_csv('violations.csv')\n",
    "inspections = pd.read_csv('inspections.csv')\n",
    "yelp = pd.read_csv('yelp.csv')"
   ]
  },
  {
   "cell_type": "markdown",
   "metadata": {},
   "source": [
    "I then got rid of unnecessary variables from each dataset, as outlined in the Datasets section. Also checked the head of each dataset to ensure that the correct variables were maintained."
   ]
  },
  {
   "cell_type": "code",
   "execution_count": 39,
   "metadata": {},
   "outputs": [
    {
     "data": {
      "text/html": [
       "<div>\n",
       "<style scoped>\n",
       "    .dataframe tbody tr th:only-of-type {\n",
       "        vertical-align: middle;\n",
       "    }\n",
       "\n",
       "    .dataframe tbody tr th {\n",
       "        vertical-align: top;\n",
       "    }\n",
       "\n",
       "    .dataframe thead th {\n",
       "        text-align: right;\n",
       "    }\n",
       "</style>\n",
       "<table border=\"1\" class=\"dataframe\">\n",
       "  <thead>\n",
       "    <tr style=\"text-align: right;\">\n",
       "      <th></th>\n",
       "      <th>hsisid</th>\n",
       "      <th>violationcode</th>\n",
       "    </tr>\n",
       "  </thead>\n",
       "  <tbody>\n",
       "    <tr>\n",
       "      <th>0</th>\n",
       "      <td>4092015279</td>\n",
       "      <td>7-102.11</td>\n",
       "    </tr>\n",
       "    <tr>\n",
       "      <th>1</th>\n",
       "      <td>4092014572</td>\n",
       "      <td>7-102.11</td>\n",
       "    </tr>\n",
       "    <tr>\n",
       "      <th>2</th>\n",
       "      <td>4092015906</td>\n",
       "      <td>7-102.11</td>\n",
       "    </tr>\n",
       "    <tr>\n",
       "      <th>3</th>\n",
       "      <td>4092013840</td>\n",
       "      <td>7-102.11</td>\n",
       "    </tr>\n",
       "    <tr>\n",
       "      <th>4</th>\n",
       "      <td>4092021788</td>\n",
       "      <td>7-102.11</td>\n",
       "    </tr>\n",
       "  </tbody>\n",
       "</table>\n",
       "</div>"
      ],
      "text/plain": [
       "       hsisid violationcode\n",
       "0  4092015279      7-102.11\n",
       "1  4092014572      7-102.11\n",
       "2  4092015906      7-102.11\n",
       "3  4092013840      7-102.11\n",
       "4  4092021788      7-102.11"
      ]
     },
     "execution_count": 39,
     "metadata": {},
     "output_type": "execute_result"
    }
   ],
   "source": [
    "violations = violations.drop(columns=[x for x in violations.columns if x not in ['hsisid','violationcode']])\n",
    "violations.head()"
   ]
  },
  {
   "cell_type": "code",
   "execution_count": 40,
   "metadata": {},
   "outputs": [
    {
     "data": {
      "text/html": [
       "<div>\n",
       "<style scoped>\n",
       "    .dataframe tbody tr th:only-of-type {\n",
       "        vertical-align: middle;\n",
       "    }\n",
       "\n",
       "    .dataframe tbody tr th {\n",
       "        vertical-align: top;\n",
       "    }\n",
       "\n",
       "    .dataframe thead th {\n",
       "        text-align: right;\n",
       "    }\n",
       "</style>\n",
       "<table border=\"1\" class=\"dataframe\">\n",
       "  <thead>\n",
       "    <tr style=\"text-align: right;\">\n",
       "      <th></th>\n",
       "      <th>hsisid</th>\n",
       "      <th>address1</th>\n",
       "    </tr>\n",
       "  </thead>\n",
       "  <tbody>\n",
       "    <tr>\n",
       "      <th>0</th>\n",
       "      <td>4092013748</td>\n",
       "      <td>3000 New Bern Ave</td>\n",
       "    </tr>\n",
       "    <tr>\n",
       "      <th>1</th>\n",
       "      <td>4092014046</td>\n",
       "      <td>1030-149 N Rogers Ln</td>\n",
       "    </tr>\n",
       "    <tr>\n",
       "      <th>2</th>\n",
       "      <td>4092015191</td>\n",
       "      <td>6209 ROCK QUARRY RD</td>\n",
       "    </tr>\n",
       "    <tr>\n",
       "      <th>3</th>\n",
       "      <td>4092016122</td>\n",
       "      <td>1065 Darrington DR</td>\n",
       "    </tr>\n",
       "    <tr>\n",
       "      <th>4</th>\n",
       "      <td>4092021513</td>\n",
       "      <td>841 E Gannon AVE</td>\n",
       "    </tr>\n",
       "  </tbody>\n",
       "</table>\n",
       "</div>"
      ],
      "text/plain": [
       "       hsisid              address1\n",
       "0  4092013748     3000 New Bern Ave\n",
       "1  4092014046  1030-149 N Rogers Ln\n",
       "2  4092015191   6209 ROCK QUARRY RD\n",
       "3  4092016122    1065 Darrington DR\n",
       "4  4092021513      841 E Gannon AVE"
      ]
     },
     "execution_count": 40,
     "metadata": {},
     "output_type": "execute_result"
    }
   ],
   "source": [
    "inspections = inspections.drop(columns=[x for x in inspections.columns if x not in ['hsisid','address1']])\n",
    "inspections.head()"
   ]
  },
  {
   "cell_type": "code",
   "execution_count": 41,
   "metadata": {},
   "outputs": [
    {
     "data": {
      "text/html": [
       "<div>\n",
       "<style scoped>\n",
       "    .dataframe tbody tr th:only-of-type {\n",
       "        vertical-align: middle;\n",
       "    }\n",
       "\n",
       "    .dataframe tbody tr th {\n",
       "        vertical-align: top;\n",
       "    }\n",
       "\n",
       "    .dataframe thead th {\n",
       "        text-align: right;\n",
       "    }\n",
       "</style>\n",
       "<table border=\"1\" class=\"dataframe\">\n",
       "  <thead>\n",
       "    <tr style=\"text-align: right;\">\n",
       "      <th></th>\n",
       "      <th>address1</th>\n",
       "      <th>price</th>\n",
       "    </tr>\n",
       "  </thead>\n",
       "  <tbody>\n",
       "    <tr>\n",
       "      <th>0</th>\n",
       "      <td>2400 John Brantley Blvd</td>\n",
       "      <td>$$</td>\n",
       "    </tr>\n",
       "    <tr>\n",
       "      <th>1</th>\n",
       "      <td>2303 NW Maynard Rd</td>\n",
       "      <td>$</td>\n",
       "    </tr>\n",
       "    <tr>\n",
       "      <th>2</th>\n",
       "      <td>Crabtree Valley Mall</td>\n",
       "      <td>$</td>\n",
       "    </tr>\n",
       "    <tr>\n",
       "      <th>3</th>\n",
       "      <td>3401 Raleigh Rd Pkwy W</td>\n",
       "      <td>$$</td>\n",
       "    </tr>\n",
       "    <tr>\n",
       "      <th>4</th>\n",
       "      <td>4934 Raleigh Rd</td>\n",
       "      <td>$</td>\n",
       "    </tr>\n",
       "  </tbody>\n",
       "</table>\n",
       "</div>"
      ],
      "text/plain": [
       "                  address1 price\n",
       "0  2400 John Brantley Blvd    $$\n",
       "1       2303 NW Maynard Rd     $\n",
       "2     Crabtree Valley Mall     $\n",
       "3   3401 Raleigh Rd Pkwy W    $$\n",
       "4          4934 Raleigh Rd     $"
      ]
     },
     "execution_count": 41,
     "metadata": {},
     "output_type": "execute_result"
    }
   ],
   "source": [
    "yelp = yelp.drop(columns=[x for x in yelp.columns if x not in ['price','address1']])\n",
    "yelp.head()"
   ]
  },
  {
   "cell_type": "markdown",
   "metadata": {},
   "source": [
    "After reducing the datasets down to the relevant variables, it became necessary to drop all duplicate rows from the Yelp and Inspections datasets. The logic behind this decision is that it didnt make sense to have multiple rows describing the same restaurant (address) price, or restaurant (address) hsisid relationships. Duplicates were necessary to keep in the violations dataset, however, since a restaurant can be subject to the same violation on multiple occasions.\n",
    "\n",
    "I also went ahead and dropped all NA rows at this step."
   ]
  },
  {
   "cell_type": "code",
   "execution_count": 42,
   "metadata": {},
   "outputs": [],
   "source": [
    "yelp = yelp.drop_duplicates()\n",
    "inspections = inspections.drop_duplicates()\n",
    "\n",
    "yelp = yelp.dropna()\n",
    "inspections = inspections.dropna()\n",
    "violations = violations.dropna()"
   ]
  },
  {
   "cell_type": "markdown",
   "metadata": {},
   "source": [
    "Unfortunately, the provided datasets were dirty and needed cleaning. Specifically, the price column in the Yelp dataset was filled with garbage values. To remedy this, I checked the unique values of each column, in order to locate garbage/ NA values that could interfere with my analysis. Rows with garbage values were removed from their respective datasets."
   ]
  },
  {
   "cell_type": "code",
   "execution_count": 43,
   "metadata": {},
   "outputs": [
    {
     "data": {
      "text/plain": [
       "array(['$$', '$', '$$$', '$$$$', '19198407700', '18775769464',\n",
       "       '19194811105', '19196150592', '19192666118', '19108685071',\n",
       "       '19198469808', '19199869521', '19194660308', '19194660360',\n",
       "       '19198884887', '19194607025', '19194692122', '19194899364',\n",
       "       '19195827000', '19193870228', '19197843100', '19198217991',\n",
       "       '19106926261', '19198217400', '19198320501', '19196000870',\n",
       "       '19198824629', '19195214445', '19198484906', '19198500891',\n",
       "       '19194362246', '19197793900', '19197822594', '19198344000',\n",
       "       '19198213111', '19194250800', '19195526154', '19198473548'],\n",
       "      dtype=object)"
      ]
     },
     "execution_count": 43,
     "metadata": {},
     "output_type": "execute_result"
    }
   ],
   "source": [
    "yelp['price'].unique()"
   ]
  },
  {
   "cell_type": "code",
   "execution_count": 44,
   "metadata": {},
   "outputs": [
    {
     "data": {
      "text/plain": [
       "array(['$$', '$', '$$$', '$$$$'], dtype=object)"
      ]
     },
     "execution_count": 44,
     "metadata": {},
     "output_type": "execute_result"
    }
   ],
   "source": [
    "# only '$,$$,$$$,$$$' are wanted... get rid of the rest\n",
    "yelp = yelp[(yelp['price'] == '$') | (yelp['price'] == '$$') | (yelp['price'] == '$$$')| (yelp['price'] == '$$$$')]\n",
    "\n",
    "# and check unique values\n",
    "yelp['price'].unique()"
   ]
  },
  {
   "cell_type": "code",
   "execution_count": 45,
   "metadata": {},
   "outputs": [
    {
     "data": {
      "text/plain": [
       "(2630, 2)"
      ]
     },
     "execution_count": 45,
     "metadata": {},
     "output_type": "execute_result"
    }
   ],
   "source": [
    "yelp.shape"
   ]
  },
  {
   "cell_type": "markdown",
   "metadata": {},
   "source": [
    "For good measure, I checked all the unique values of violationcodes as well, just to make sure that no garbage values were present."
   ]
  },
  {
   "cell_type": "code",
   "execution_count": 46,
   "metadata": {},
   "outputs": [
    {
     "data": {
      "text/plain": [
       "array(['7-102.11', '3-302.12', '7-201.11', '2-201.11(D)(F)', '6-501.18',\n",
       "       '7-204.11', '4-204-112', '6-501.19', '3-501.13', '3-201.11'],\n",
       "      dtype=object)"
      ]
     },
     "execution_count": 46,
     "metadata": {},
     "output_type": "execute_result"
    }
   ],
   "source": [
    "# only show first 10 entries, for sake of readability\n",
    "violations['violationcode'].unique()[:10]"
   ]
  },
  {
   "cell_type": "markdown",
   "metadata": {},
   "source": [
    "Next, I attempted to perform an inner join on the Yelp and Inspections datasets. The goal of this was to obtain a dataset where every restaurant was assigned an id and a pricepoint by matching Yelp addresses to inspection addresses. Unfortunately, the first attempt at inner joining had a noticable issue regarding the number of observations. "
   ]
  },
  {
   "cell_type": "code",
   "execution_count": 47,
   "metadata": {},
   "outputs": [
    {
     "data": {
      "text/html": [
       "<div>\n",
       "<style scoped>\n",
       "    .dataframe tbody tr th:only-of-type {\n",
       "        vertical-align: middle;\n",
       "    }\n",
       "\n",
       "    .dataframe tbody tr th {\n",
       "        vertical-align: top;\n",
       "    }\n",
       "\n",
       "    .dataframe thead th {\n",
       "        text-align: right;\n",
       "    }\n",
       "</style>\n",
       "<table border=\"1\" class=\"dataframe\">\n",
       "  <thead>\n",
       "    <tr style=\"text-align: right;\">\n",
       "      <th></th>\n",
       "      <th>address1</th>\n",
       "      <th>price</th>\n",
       "      <th>hsisid</th>\n",
       "    </tr>\n",
       "  </thead>\n",
       "  <tbody>\n",
       "    <tr>\n",
       "      <th>0</th>\n",
       "      <td>4431 New Bern Ave</td>\n",
       "      <td>$</td>\n",
       "      <td>4092021291</td>\n",
       "    </tr>\n",
       "    <tr>\n",
       "      <th>1</th>\n",
       "      <td>4431 New Bern Ave</td>\n",
       "      <td>$</td>\n",
       "      <td>4092014118</td>\n",
       "    </tr>\n",
       "    <tr>\n",
       "      <th>2</th>\n",
       "      <td>2080 Kildaire Farm Rd</td>\n",
       "      <td>$$</td>\n",
       "      <td>4092013761</td>\n",
       "    </tr>\n",
       "    <tr>\n",
       "      <th>3</th>\n",
       "      <td>4325 Glenwood Ave</td>\n",
       "      <td>$</td>\n",
       "      <td>4092021272</td>\n",
       "    </tr>\n",
       "    <tr>\n",
       "      <th>4</th>\n",
       "      <td>4325 Glenwood Ave</td>\n",
       "      <td>$</td>\n",
       "      <td>4092012279</td>\n",
       "    </tr>\n",
       "  </tbody>\n",
       "</table>\n",
       "</div>"
      ],
      "text/plain": [
       "                address1 price      hsisid\n",
       "0      4431 New Bern Ave     $  4092021291\n",
       "1      4431 New Bern Ave     $  4092014118\n",
       "2  2080 Kildaire Farm Rd    $$  4092013761\n",
       "3      4325 Glenwood Ave     $  4092021272\n",
       "4      4325 Glenwood Ave     $  4092012279"
      ]
     },
     "execution_count": 47,
     "metadata": {},
     "output_type": "execute_result"
    }
   ],
   "source": [
    "# First, join yelp and inspection datasets on address1\n",
    "result = yelp.merge(inspections, how='inner', on='address1')\n",
    "\n",
    "# possible for multiple inspections at a single restaurant, so drop duplicates\n",
    "result = result.drop_duplicates()\n",
    "result.head()"
   ]
  },
  {
   "cell_type": "code",
   "execution_count": 48,
   "metadata": {},
   "outputs": [
    {
     "data": {
      "text/plain": [
       "(134, 3)"
      ]
     },
     "execution_count": 48,
     "metadata": {},
     "output_type": "execute_result"
    }
   ],
   "source": [
    "result.shape"
   ]
  },
  {
   "cell_type": "markdown",
   "metadata": {},
   "source": [
    "As you can see, the result of an inner join between the yelp dataset and the inspection dataset yields a result with only 134 entries, when both of the individual datasets had thousands, respectively. I tried again, this time making all restaurant addresses lowercase, so that matches aren't rejected due to case difference."
   ]
  },
  {
   "cell_type": "code",
   "execution_count": 49,
   "metadata": {},
   "outputs": [],
   "source": [
    "inspections['address1'] = inspections['address1'].map(lambda x: x.lower())\n",
    "yelp['address1'] = yelp['address1'].map(lambda x: x.lower())"
   ]
  },
  {
   "cell_type": "code",
   "execution_count": 50,
   "metadata": {},
   "outputs": [
    {
     "data": {
      "text/plain": [
       "(1493, 3)"
      ]
     },
     "execution_count": 50,
     "metadata": {},
     "output_type": "execute_result"
    }
   ],
   "source": [
    "result = yelp.merge(inspections, how='inner', on='address1')\n",
    "result.shape"
   ]
  },
  {
   "cell_type": "markdown",
   "metadata": {},
   "source": [
    "1493 is a much more acceptable number, meaning that we were able to find inspection data for 1493 of the 2630 observations in the Yelp dataset. I believe this is to be expected, since the provided datasets are not comprehensive. "
   ]
  },
  {
   "cell_type": "markdown",
   "metadata": {},
   "source": [
    "Finally, I inner joined this result dataset with the violations dataset. After inner joining, I went ahead and removed the address column, since this is potentially sensitive and redundant information. Since each restaurant has an ID, we dont need its address as an identifier. This yielded a dataset where each observation is ['price', 'hsisid','violation']. "
   ]
  },
  {
   "cell_type": "code",
   "execution_count": 51,
   "metadata": {},
   "outputs": [
    {
     "data": {
      "text/html": [
       "<div>\n",
       "<style scoped>\n",
       "    .dataframe tbody tr th:only-of-type {\n",
       "        vertical-align: middle;\n",
       "    }\n",
       "\n",
       "    .dataframe tbody tr th {\n",
       "        vertical-align: top;\n",
       "    }\n",
       "\n",
       "    .dataframe thead th {\n",
       "        text-align: right;\n",
       "    }\n",
       "</style>\n",
       "<table border=\"1\" class=\"dataframe\">\n",
       "  <thead>\n",
       "    <tr style=\"text-align: right;\">\n",
       "      <th></th>\n",
       "      <th>hsisid</th>\n",
       "      <th>violationcode</th>\n",
       "      <th>price</th>\n",
       "    </tr>\n",
       "  </thead>\n",
       "  <tbody>\n",
       "    <tr>\n",
       "      <th>0</th>\n",
       "      <td>4092010287</td>\n",
       "      <td>7-102.11</td>\n",
       "      <td>$$</td>\n",
       "    </tr>\n",
       "    <tr>\n",
       "      <th>1</th>\n",
       "      <td>4092010287</td>\n",
       "      <td>3-603.11</td>\n",
       "      <td>$$</td>\n",
       "    </tr>\n",
       "    <tr>\n",
       "      <th>2</th>\n",
       "      <td>4092010287</td>\n",
       "      <td>3-603.11</td>\n",
       "      <td>$$</td>\n",
       "    </tr>\n",
       "    <tr>\n",
       "      <th>3</th>\n",
       "      <td>4092010287</td>\n",
       "      <td>2-103.11(M)</td>\n",
       "      <td>$$</td>\n",
       "    </tr>\n",
       "    <tr>\n",
       "      <th>4</th>\n",
       "      <td>4092010287</td>\n",
       "      <td>3-302.12</td>\n",
       "      <td>$$</td>\n",
       "    </tr>\n",
       "    <tr>\n",
       "      <th>5</th>\n",
       "      <td>4092010287</td>\n",
       "      <td>3-302.12</td>\n",
       "      <td>$$</td>\n",
       "    </tr>\n",
       "    <tr>\n",
       "      <th>6</th>\n",
       "      <td>4092010287</td>\n",
       "      <td>3-302.12</td>\n",
       "      <td>$$</td>\n",
       "    </tr>\n",
       "    <tr>\n",
       "      <th>7</th>\n",
       "      <td>4092010287</td>\n",
       "      <td>3-501.15</td>\n",
       "      <td>$$</td>\n",
       "    </tr>\n",
       "    <tr>\n",
       "      <th>8</th>\n",
       "      <td>4092010287</td>\n",
       "      <td>3-501.15</td>\n",
       "      <td>$$</td>\n",
       "    </tr>\n",
       "    <tr>\n",
       "      <th>9</th>\n",
       "      <td>4092010287</td>\n",
       "      <td>5-501.114</td>\n",
       "      <td>$$</td>\n",
       "    </tr>\n",
       "  </tbody>\n",
       "</table>\n",
       "</div>"
      ],
      "text/plain": [
       "       hsisid violationcode price\n",
       "0  4092010287      7-102.11    $$\n",
       "1  4092010287      3-603.11    $$\n",
       "2  4092010287      3-603.11    $$\n",
       "3  4092010287   2-103.11(M)    $$\n",
       "4  4092010287      3-302.12    $$\n",
       "5  4092010287      3-302.12    $$\n",
       "6  4092010287      3-302.12    $$\n",
       "7  4092010287      3-501.15    $$\n",
       "8  4092010287      3-501.15    $$\n",
       "9  4092010287     5-501.114    $$"
      ]
     },
     "execution_count": 51,
     "metadata": {},
     "output_type": "execute_result"
    }
   ],
   "source": [
    "restaurant_pricing_violations = violations.merge(result, how='inner', on='hsisid')\n",
    "restaurant_pricing_violations = restaurant_pricing_violations.drop(['address1'], axis=1)\n",
    "restaurant_pricing_violations.head(10)"
   ]
  },
  {
   "cell_type": "code",
   "execution_count": 52,
   "metadata": {},
   "outputs": [
    {
     "data": {
      "text/plain": [
       "(81386, 3)"
      ]
     },
     "execution_count": 52,
     "metadata": {},
     "output_type": "execute_result"
    }
   ],
   "source": [
    "restaurant_pricing_violations.shape"
   ]
  },
  {
   "cell_type": "markdown",
   "metadata": {},
   "source": [
    "Unfortunately, matplotlib encounters an issue when dollar signs are used as values for the price variable. Dollar signs also arent very descriptive, so I went ahead and replaced dollar signs as follows. I've included the corresponding price ranges symbolized by the dollar signs for further clarity.\n",
    "\n",
    "One dollar sign (under 10 dollars)  => Tier 1       \n",
    "\n",
    "Two dollar signs (between 11 and 30 dollars) => Tier 2\n",
    "\n",
    "Three dollar signs (between 31 and 60 dollars) => Tier 3\n",
    "\n",
    "Four dollar signs (over 60 dollars) => Tier 4"
   ]
  },
  {
   "cell_type": "code",
   "execution_count": 53,
   "metadata": {},
   "outputs": [
    {
     "data": {
      "text/plain": [
       "$$      40482\n",
       "$       33964\n",
       "$$$      5118\n",
       "$$$$     1822\n",
       "Name: price, dtype: int64"
      ]
     },
     "execution_count": 53,
     "metadata": {},
     "output_type": "execute_result"
    }
   ],
   "source": [
    "restaurant_pricing_violations['price'].value_counts()"
   ]
  },
  {
   "cell_type": "code",
   "execution_count": 54,
   "metadata": {},
   "outputs": [],
   "source": [
    "def convertPrice(price):\n",
    "    if price == '$':\n",
    "        return 'Tier 1'\n",
    "    elif price == '$$':\n",
    "        return 'Tier 2'\n",
    "    elif price == '$$$':\n",
    "        return 'Tier 3'\n",
    "    return 'Tier 4'"
   ]
  },
  {
   "cell_type": "code",
   "execution_count": 55,
   "metadata": {},
   "outputs": [],
   "source": [
    "restaurant_pricing_violations['price'] = restaurant_pricing_violations['price'].map(convertPrice)"
   ]
  },
  {
   "cell_type": "code",
   "execution_count": 56,
   "metadata": {},
   "outputs": [
    {
     "data": {
      "text/plain": [
       "Tier 2    40482\n",
       "Tier 1    33964\n",
       "Tier 3     5118\n",
       "Tier 4     1822\n",
       "Name: price, dtype: int64"
      ]
     },
     "execution_count": 56,
     "metadata": {},
     "output_type": "execute_result"
    }
   ],
   "source": [
    "restaurant_pricing_violations['price'].value_counts()"
   ]
  },
  {
   "cell_type": "code",
   "execution_count": 57,
   "metadata": {},
   "outputs": [
    {
     "data": {
      "text/plain": [
       "array(['Tier 2', 'Tier 1', 'Tier 4', 'Tier 3'], dtype=object)"
      ]
     },
     "execution_count": 57,
     "metadata": {},
     "output_type": "execute_result"
    }
   ],
   "source": [
    "restaurant_pricing_violations['price'].unique()"
   ]
  },
  {
   "cell_type": "markdown",
   "metadata": {},
   "source": [
    "This dataset is ready to be used to explore the relationship between the proportion of foodborne illness related violations and a restaurants price range!"
   ]
  },
  {
   "cell_type": "markdown",
   "metadata": {},
   "source": [
    "##### Data Cleaning Questions:\n",
    "\n",
    "##### How 'clean' is the data?\n",
    "- The Data was very clean for the most part. There were quite a few observations with NAN values, but those weren't very hard to deal with. The biggest issue I encountered was the presence of random garbage values in the Yelp dataset, specifically the price column. However, since price values are a predefined set, it wasn't very difficult to detect garbage and remove those observations. Another issue I faced was inconsistency in address typing. Addresses in one dataset would be all caps, and lowercase in another. This prevented me from joining tables on addresses, intitally, since python string comparisons are case sensitive. To remedy this, I made all addresses lowercased.\n",
    "\n",
    "##### What did you have to do to get the data into a usable format? (If you did nothing, how did you determine there was nothing to do?)\n",
    "- Since the data I needed was scattered across multiple tables, I had to drop redundant columns and perform appropriate inner joins between datasets. This allowed me to get the relevant information (restaurant pricing, id, and violation codes) consolidated into one dataset. As mentioned previously, joining the tables on addresses wasnt possible initially due to case senstivity and input inconsistency, so this required processing each address into lowercase before joining the tables.\n",
    "\n",
    "###### What pre-processing steps that were required for your methods (for example, checking data distributions and performing any transformations that may be required)\n",
    "\n",
    "- One pre-processing step that was required was to check the unique values of price in the Yelp dataset. This is what alerted me to the existence of garbage values in the dataset. I ended up dropping all rows from the dataset that didn't have a valid value. After that happened, I also checked the unique values of violationcodes; thankfully everything checked out. This type of processing wasn't necessary for addresses and ids, since garbage values would be discarded naturally when an inner join was performed.\n",
    "\n",
    "- Another step of pre-processing that was required, as mentioned previously, was that I had to change all address strings to lowercase, so that I could join tables without having to worry about case sensitive comparisons.\n",
    "\n",
    "- I also had to replace all dollar signs with descriptive strings for the price column, since matplotlib runs into issues when parsing dollar signs (something to do with LaTeX).\n"
   ]
  },
  {
   "cell_type": "markdown",
   "metadata": {},
   "source": [
    "# Data Analysis & Results"
   ]
  },
  {
   "cell_type": "markdown",
   "metadata": {},
   "source": [
    "#### A note on EDA: \n",
    "Much of the EDA on the provided datasets was done implicitly, while performing the cleaning and joins done in the previous section. However, it is still necessary to do EDA on the resulting dataset, restaurant_pricing_violations.\n",
    "\n",
    "I began by looking at the variables, and their types in this dataset."
   ]
  },
  {
   "cell_type": "code",
   "execution_count": 58,
   "metadata": {},
   "outputs": [
    {
     "data": {
      "text/plain": [
       "hsisid            int64\n",
       "violationcode    object\n",
       "price            object\n",
       "dtype: object"
      ]
     },
     "execution_count": 58,
     "metadata": {},
     "output_type": "execute_result"
    }
   ],
   "source": [
    "restaurant_pricing_violations.dtypes"
   ]
  },
  {
   "cell_type": "markdown",
   "metadata": {},
   "source": [
    "As discussed previously, hsisid is a unique identifier assigned to a particular restaurant. This id is used when assigning violations to a particular restaurant. The violation code is the specific violation a restaurant was charged with. Price is one of the four pricing categories established in the previous section."
   ]
  },
  {
   "cell_type": "code",
   "execution_count": 59,
   "metadata": {},
   "outputs": [
    {
     "data": {
      "text/html": [
       "<div>\n",
       "<style scoped>\n",
       "    .dataframe tbody tr th:only-of-type {\n",
       "        vertical-align: middle;\n",
       "    }\n",
       "\n",
       "    .dataframe tbody tr th {\n",
       "        vertical-align: top;\n",
       "    }\n",
       "\n",
       "    .dataframe thead th {\n",
       "        text-align: right;\n",
       "    }\n",
       "</style>\n",
       "<table border=\"1\" class=\"dataframe\">\n",
       "  <thead>\n",
       "    <tr style=\"text-align: right;\">\n",
       "      <th></th>\n",
       "      <th>hsisid</th>\n",
       "      <th>violationcode</th>\n",
       "      <th>price</th>\n",
       "    </tr>\n",
       "  </thead>\n",
       "  <tbody>\n",
       "    <tr>\n",
       "      <th>0</th>\n",
       "      <td>4092010287</td>\n",
       "      <td>7-102.11</td>\n",
       "      <td>Tier 2</td>\n",
       "    </tr>\n",
       "    <tr>\n",
       "      <th>1</th>\n",
       "      <td>4092010287</td>\n",
       "      <td>3-603.11</td>\n",
       "      <td>Tier 2</td>\n",
       "    </tr>\n",
       "    <tr>\n",
       "      <th>2</th>\n",
       "      <td>4092010287</td>\n",
       "      <td>3-603.11</td>\n",
       "      <td>Tier 2</td>\n",
       "    </tr>\n",
       "    <tr>\n",
       "      <th>3</th>\n",
       "      <td>4092010287</td>\n",
       "      <td>2-103.11(M)</td>\n",
       "      <td>Tier 2</td>\n",
       "    </tr>\n",
       "    <tr>\n",
       "      <th>4</th>\n",
       "      <td>4092010287</td>\n",
       "      <td>3-302.12</td>\n",
       "      <td>Tier 2</td>\n",
       "    </tr>\n",
       "  </tbody>\n",
       "</table>\n",
       "</div>"
      ],
      "text/plain": [
       "       hsisid violationcode   price\n",
       "0  4092010287      7-102.11  Tier 2\n",
       "1  4092010287      3-603.11  Tier 2\n",
       "2  4092010287      3-603.11  Tier 2\n",
       "3  4092010287   2-103.11(M)  Tier 2\n",
       "4  4092010287      3-302.12  Tier 2"
      ]
     },
     "execution_count": 59,
     "metadata": {},
     "output_type": "execute_result"
    }
   ],
   "source": [
    "restaurant_pricing_violations.head(5)"
   ]
  },
  {
   "cell_type": "markdown",
   "metadata": {},
   "source": [
    "As you can see, the same hsisid and price are repeated in the head of the dataset. Is something wrong? No. Each row of the dataset represents a particular violation a restaurant was assigned. A restaurant can have multiple violations, and multiple violations with the same code, so we can rest assured that theres nothing wrong with our dataset.\n",
    "\n",
    "Next I took a look at the shape of the dataset, just so I knew how many observations I was working with."
   ]
  },
  {
   "cell_type": "code",
   "execution_count": 60,
   "metadata": {},
   "outputs": [
    {
     "data": {
      "text/plain": [
       "(81386, 3)"
      ]
     },
     "execution_count": 60,
     "metadata": {},
     "output_type": "execute_result"
    }
   ],
   "source": [
    "restaurant_pricing_violations.shape"
   ]
  },
  {
   "cell_type": "markdown",
   "metadata": {},
   "source": [
    "Now for graphs. The data in this dataset is not numerical, so line graphs, scatterplots and other measures of relation between numerical variables dont quite apply.\n",
    "\n",
    "However, I wanted to see the relationship between Pricing Categories and the number of observations in the dataset.\n",
    "\n",
    "I decided to take a look at the number of violations by price category, to see if there were any glaring differences by category, or if everything was uniform. Before doing this, I would need to filter out all entries with non-food poisoning related violations, since this project pertains to foodborn illness violations. I did this by dropping all rows in which the violation code did not begin with 3, since 3 is the code for food related violations."
   ]
  },
  {
   "cell_type": "code",
   "execution_count": 61,
   "metadata": {},
   "outputs": [],
   "source": [
    "foodborne_violations = restaurant_pricing_violations[[i.startswith('3') for i in restaurant_pricing_violations['violationcode']]]"
   ]
  },
  {
   "cell_type": "code",
   "execution_count": 62,
   "metadata": {},
   "outputs": [
    {
     "data": {
      "text/plain": [
       "Text(0.5, 0, 'Price Category')"
      ]
     },
     "execution_count": 62,
     "metadata": {},
     "output_type": "execute_result"
    },
    {
     "data": {
      "image/png": "[encoded data removed]",
      "text/plain": [
       "<Figure size 432x288 with 1 Axes>"
      ]
     },
     "metadata": {
      "needs_background": "light"
     },
     "output_type": "display_data"
    }
   ],
   "source": [
    "# total number of recorded violations by price range of restaurant\n",
    "x = foodborne_violations['price'].value_counts()\n",
    "viz1 = sns.barplot(x.index,x.values,order=['Tier 1','Tier 2','Tier 3','Tier 4'])\n",
    "\n",
    "viz1.set_ylabel('# of Violations')\n",
    "viz1.set_xlabel('Price Category')"
   ]
  },
  {
   "cell_type": "markdown",
   "metadata": {},
   "source": [
    "This visualization plots the total number of foodborne illness related violations, by restaurant price category. As you can see, the cheaper categories Tier 2 and Tier 1 have significantly more foodborne illness related violations than their more expensive counterparts Tier 3 and Tier 4. So why are there so many more violations for lower priced restaurants? Can we already jump to the conclusion that you're more likely to get food poisoning at a cheaper restaurant? Not quite. \n",
    "\n",
    "Next, I generated a plot that depicts the number of restaurants in each category. To do this, I used the results table from the previous portion, since restaurants are not duplicated across observations in that table. I then grouped by price."
   ]
  },
  {
   "cell_type": "code",
   "execution_count": 63,
   "metadata": {},
   "outputs": [
    {
     "data": {
      "text/plain": [
       "Text(0.5, 0, 'Price Category')"
      ]
     },
     "execution_count": 63,
     "metadata": {},
     "output_type": "execute_result"
    },
    {
     "data": {
      "image/png": "[encoded data removed]",
      "text/plain": [
       "<Figure size 432x288 with 1 Axes>"
      ]
     },
     "metadata": {
      "needs_background": "light"
     },
     "output_type": "display_data"
    }
   ],
   "source": [
    "# redefine result\n",
    "result['price'] = result['price'].map(convertPrice)\n",
    "\n",
    "y = result.groupby(['price']).size()\n",
    "viz2 = sns.barplot(y.index,y.values,order=['Tier 1','Tier 2','Tier 3','Tier 4'])\n",
    "viz2.set_ylabel('# of Restaurants')\n",
    "viz2.set_xlabel('Price Category')"
   ]
  },
  {
   "cell_type": "markdown",
   "metadata": {},
   "source": [
    "This visualization plots the number of restaurants by price category. As you can see, there are significantly more Tier 1 and Tier 2 restaurants than there are Tier 3 and Tier 4 ones. This explains the discrepency in # of violations depicted by the first visualization. Since there are MANY more Tier 1 and 2 restaurants, those categories will naturally have more foodborne illness violations.\n",
    "\n",
    "It is now abundantly clear that count alone will not be a sufficient metric for determining if there exists a relationship between price and foodborne illness related violations. Instead, we will use proportion of foodborne related violations by restaurant, averaged across price categories. \n",
    "\n",
    "Defined as the following, for each pricing Tier:\n",
    "\n",
    "$\\sum_{restaurants}$ $(# Food related violations)/(# Total Violations) )/ # restaurants in pricing category$\n",
    "\n",
    "This will give us an accurate read on whether a particular pricing group has more foodborne illness related violations than the others, relatively speaking. This is irrespective of the difference in the total number of restaurants, across categories."
   ]
  },
  {
   "cell_type": "code",
   "execution_count": 64,
   "metadata": {},
   "outputs": [],
   "source": [
    "# make seperate dataframes by pricing tier\n",
    "violations_tier1 = restaurant_pricing_violations[restaurant_pricing_violations['price'] == 'Tier 1']\n",
    "violations_tier2 = restaurant_pricing_violations[restaurant_pricing_violations['price'] == 'Tier 2']\n",
    "violations_tier3 = restaurant_pricing_violations[restaurant_pricing_violations['price'] == 'Tier 3']\n",
    "violations_tier4 = restaurant_pricing_violations[restaurant_pricing_violations['price'] == 'Tier 4']\n",
    "\n",
    "# generate proportion distributions of each tier\n",
    "# to make code more readable, used a function\n",
    "def gen_dist(df):\n",
    "    unique_ids = df['hsisid'].unique()\n",
    "    proportions = []\n",
    "    \n",
    "    for i in unique_ids:\n",
    "        df2 = violations[violations['hsisid'] == i]\n",
    "        proportions.append(len(df2[[j.startswith('3') for j in df2['violationcode']]])/ len(df2))\n",
    "    \n",
    "    return proportions\n",
    "    \n",
    "    \n",
    "tier1_dist = gen_dist(violations_tier1)\n",
    "tier2_dist = gen_dist(violations_tier2)\n",
    "tier3_dist = gen_dist(violations_tier3)\n",
    "tier4_dist = gen_dist(violations_tier4)"
   ]
  },
  {
   "cell_type": "code",
   "execution_count": 65,
   "metadata": {},
   "outputs": [
    {
     "data": {
      "text/plain": [
       "{'Tier 1': 0.24084639325669668,\n",
       " 'Tier 2': 0.2578367424441911,\n",
       " 'Tier 3': 0.2595421149445046,\n",
       " 'Tier 4': 0.30105176043444193}"
      ]
     },
     "execution_count": 65,
     "metadata": {},
     "output_type": "execute_result"
    }
   ],
   "source": [
    "{'Tier 1': np.mean(tier1_dist), 'Tier 2':np.mean(tier2_dist), 'Tier 3': np.mean(tier3_dist), 'Tier 4': np.mean(tier4_dist)}"
   ]
  },
  {
   "cell_type": "markdown",
   "metadata": {},
   "source": [
    "As you can see, Tier 4 restaurants have the highest rate of foodborne related violations, while Tier 1 restaurants have the lowest proportion. While it may be tempting to jump the gun and conclude that, shockingly, higher priced restaurants have a higher proportion of foodborne related violations, you shouldnt do this. To come to an accurate conclusion, further analysis is required. This is because the difference in proportions may be entirely due to chance. \n",
    "\n",
    "To test this, I performed a T test using the null distribution of proportion of foodborne related violations, irrespective of restaurant typing. For statistical significance, I used a benchmark of p-value < .01.\n",
    "\n",
    "###### IMPORTANT:\n",
    "It is important to note that the distributions originating from the restaurant_pricing_violations dataset are limited to the sample we took from the overall violations dataset (we only used violations from restaurants that had an observation in the Yelp dataset). So to generate an accurate null distribution, data on proportions must be drawn from the ENTIRE violations dataset."
   ]
  },
  {
   "cell_type": "code",
   "execution_count": 66,
   "metadata": {},
   "outputs": [],
   "source": [
    "# generate proportion of foodborne related violations for each restaurant in the dataset\n",
    "unique_ids = violations['hsisid'].unique()\n",
    "\n",
    "null_proportions = []\n",
    "for i in unique_ids:\n",
    "    df = violations[violations['hsisid'] == i]\n",
    "    null_proportions.append(len(df[[j.startswith('3') for j in df['violationcode']]])/ len(df))"
   ]
  },
  {
   "cell_type": "code",
   "execution_count": 67,
   "metadata": {},
   "outputs": [
    {
     "data": {
      "text/plain": [
       "Text(0.5, 0, 'Proportion of foodborne illness related violations')"
      ]
     },
     "execution_count": 67,
     "metadata": {},
     "output_type": "execute_result"
    },
    {
     "data": {
      "image/png": "[encoded data removed]",
      "text/plain": [
       "<Figure size 432x288 with 1 Axes>"
      ]
     },
     "metadata": {
      "needs_background": "light"
     },
     "output_type": "display_data"
    }
   ],
   "source": [
    "bins = np.arange(0,1,.025)\n",
    "viz3 = sns.distplot(null_proportions, kde=False)\n",
    "viz3.axvline(np.mean(null_proportions), color='red')\n",
    "\n",
    "viz3.set_ylabel('# of Restaurants')\n",
    "viz3.set_xlabel('Proportion of foodborne illness related violations')"
   ]
  },
  {
   "cell_type": "markdown",
   "metadata": {},
   "source": [
    "This histogram depicts the NULL distribution of proportion of foodborne illness related violations in the entire violation dataset, irrespective of pricing. The x axis is the proportion, and the y axis is the number of restaurants that have a proportion that is similar to that (bin size .025).\n",
    "\n",
    "In the context of the t-test, the main takeaway is that the mean of this distribution is a proportion of roughly .25. That is to say that, for the average restaurant (irrespective of price), 25% of their recorded violations are related to foodborne illness.\n",
    "\n",
    "Now, we will compare the proportion distributions by pricing tier to the null distribution using a p-value test to determine if any of the samples taken by matching ids through Yelp addresses ( violations_tier1, violations_tier2, violations_tier3, violations_tier4 ) statistically could not have been randomly sampled from the null. That is to say that the differences in proportions across pricing tiers is not due to chance."
   ]
  },
  {
   "cell_type": "code",
   "execution_count": 68,
   "metadata": {},
   "outputs": [
    {
     "name": "stdout",
     "output_type": "stream",
     "text": [
      "Tier 1 p-value: 0.37937389314359204\n",
      "Tier 2 p-value: 0.03910858158429272\n",
      "Tier 3 p-value: 0.3852134352380846\n",
      "Tier 4 p-value: 0.03755658010546115\n"
     ]
    }
   ],
   "source": [
    "print(\"Tier 1 p-value: \" + str(stats.ttest_ind(null_proportions,tier1_dist)[1]))\n",
    "print(\"Tier 2 p-value: \" + str(stats.ttest_ind(null_proportions,tier2_dist)[1]))\n",
    "print(\"Tier 3 p-value: \" + str(stats.ttest_ind(null_proportions,tier3_dist)[1]))\n",
    "print(\"Tier 4 p-value: \" + str(stats.ttest_ind(null_proportions,tier4_dist)[1]))"
   ]
  },
  {
   "cell_type": "markdown",
   "metadata": {},
   "source": [
    "None of the p-values are less than .01, so we conclude that there is NOT a statistical difference between the distribution of proportion of foodborne illness related violations, by restaurant pricing, and the null distribution. That is to say that the proportion of foodborne illness related violations does not differ, in a statistically significant manner, across pricing categories. Because of this conlcusion, I officially reject my hypothesis, which predicted that restaurants in higher price categories would have higher proportions of foodborne illness related violations, since they handle more raw food."
   ]
  },
  {
   "cell_type": "markdown",
   "metadata": {},
   "source": [
    "#### Data Analysis & Results Questions:\n",
    "\n",
    "#### EDA\n",
    "\n",
    "\n",
    "###### What distributions do your variables take?\n",
    "- Most of the observations belong to Tier 1 and Tier 2 restaurants. Tier 3 and Tier 4 are much less common. Other distributions to note are the null distribution of proportions of foodborne illness, depicted above, and the distributions by pricing category, which were statistically proven to originate from this null distribution.\n",
    "\n",
    "###### Are there any outliers?\n",
    "- The amount of Tier 4 restaurants relative to the other tiers can be considered an outlier, since the difference is so large. Also, when looking at the null distribution of proportions of foodborne illness, there are a couple outliers in the 1.0 bin. This isn't significant, but fun to note - there exists restaurants that have ONLY had violations related to foodborne illness... yikes!\n",
    "\n",
    "##### Relationship between variables?\n",
    "- A trivial relationship between variables is that each hsisid has only one pricing category across all observations. Other than that, thanks to the results of the t-test, I was unable to prove any other relationships between variables.\n",
    "\n",
    "\n",
    "##### Analysis:\n",
    "###### What approaches did you use? Why?\n",
    "- Half way through the analysis, I discovered that the proportions of foodborne illness related violations were not even across pricing categories, and that more expensive restaurants (tier 4) had a higher proportion. However, in order to check that these results were statistically significant, I used a t-test to check if the differences in proportion were due to chance, and that they all originated from the same sample distribution.\n",
    "###### What were the results?\n",
    "- As concluded by the p-values above, I determined that the differences of the categories' proportion distributions were due to chance, and were not statistically significant.\n",
    "###### What were your interpretation of these findings.\n",
    "- I think that it is important to note that the p-values for Tier 2 and Tier 4 restaurants were VERY small (~.03). By other measures of statistical significance (p > .05), we could have concluded that there was a statistical difference in proportions of foodborne illness across pricing categories. However, due to limitations of the dataset (connecting Yelp addresses to hsisid's resulted in loss of thousands of rows bc of the limitations of the Yelp set), it is better to assume NO statistical difference in proportion."
   ]
  },
  {
   "cell_type": "markdown",
   "metadata": {},
   "source": [
    "# Ethics & Privacy"
   ]
  },
  {
   "cell_type": "markdown",
   "metadata": {},
   "source": [
    "The datasets used in this project were provided to me by COGS 108 teaching staff, with implicit permission to use the data for this purpose. In regards to privacy, I took care to remove potentially identifiable information such as restaurant addresses, even though these are public records. It is important to note that the population of North Carolina, racially, monetarily, or even food-preference wise,  is not representative of the population of California, nor the United States as a whole. A study on the proportion of foodborne illness violations across pricing categories done nation-wide may yield entirely different results, due to factors like food preference (maybe theres more foodborne illness violations in Alaska due to seafood diet?) and living conditions ( distributions of restaurants across pricing categories may be different in California, due to higher prices). It is also important to note that inspection data may reflect innate human biases, and that a human inspector may be stricter/lenient on particular restaurants, along lines of price, or other unseen factors.\n",
    "\n",
    "Although I wasnt able to prove a statistical difference in proportion of foodborne illness violation along lines of restaurant pricing, I do think its important to consider that the results of this analysis may be used to label more expensive restaurants as unclean, since even equal proportions across pricing tiers challenges the typical belief that less expensive restaurants are less hygenic, and would have more foodborne illness violations than more expensive counterparts. To this, I remind readers of the limitations of this report (mainly the dataset location, and shortcomings of the Yelp set), and that results in this specific sample from North Carolina are not proven to extrapolate to your location. I urge readers not to make conclusions until more comprehensive research has been done."
   ]
  },
  {
   "cell_type": "markdown",
   "metadata": {},
   "source": [
    "# Conclusion & Discussion"
   ]
  },
  {
   "cell_type": "markdown",
   "metadata": {},
   "source": [
    "The question this report sought to answer was the following: \n",
    "\n",
    "*In North Carolina, is there a relationship between a restaurant's price designation on Yelp, and proportion of foodborne illness related violations?*\n",
    "\n",
    "I predicted that there would be a relationship, and that more expensive restaurants would have a higher proportion of foodborne related violations, since they are more likely to be working with raw food.\n",
    "\n",
    "To research this question, using the given datasets, I assigned restaurant price ranges from Yelp to observations in the violations dataset. I was able to do this across datasets by first joining on addresses, then by joining on hsisid. The result was a dataset tailored to this research question, with observations consisting of ['hsisid','violationcode', 'price']. Initally, the proportions calculated along lines of price were very different, with the most expensive restaurants having the highest proportion! However, a subsequent t-test on the distributions concluded that these findings were due to chance, and were not statistically significant.\n",
    "\n",
    "Due to the results of my data analysis, I have decided to reject my hypothesis. That is to say, that in North Carolina there does not exist a positive relationship between a restaurants price designation, and the proportion of foodborne related violations. In fact, the results of my analysis infer that the proportion of foodborne related violations, across all price ranges, originate from the same null distribution. That is to say, that the proportion of foodborne illness related violations does not differ, in a statistically significant manner, across pricing categories. Therfore, the answer to my research question, is: \n",
    "\n",
    "*In North Carolina, there does not exist a relationship between a restaurant's price designation on Yelp, and proportion of food-poisoning related violations*\n",
    "\n",
    "Before concluding, it is important to discuss some of the limitations of this report. First and foremost, the provide datasets were not comprehensive by any means. Even though my research question was narrowed down to North Carolina, it is important to note that the datasets werent a comprehensive representation of North Carolina (notably missing observations from Charlotte, NC's biggest city). So the findings of this report cannot be extrapolated to North Carolina, or the USA as a whole, due to these shortcomings. The results exist as they pertain to this provided dataset, thats all. Because of this, I encourage readers not to make conclusions based off this report, and to instead wait for more comprehensive research to be performed. I do think this topic is deserving of more comprehensive research, especially since some of the p-values were so low!"
   ]
  },
  {
   "cell_type": "code",
   "execution_count": null,
   "metadata": {},
   "outputs": [],
   "source": []
  }
 ],
 "metadata": {
  "kernelspec": {
   "display_name": "Python 3",
   "language": "python",
   "name": "python3"
  },
  "language_info": {
   "codemirror_mode": {
    "name": "ipython",
    "version": 3
   },
   "file_extension": ".py",
   "mimetype": "text/x-python",
   "name": "python",
   "nbconvert_exporter": "python",
   "pygments_lexer": "ipython3",
   "version": "3.7.1"
  }
 },
 "nbformat": 4,
 "nbformat_minor": 2
}
