{
 "cells": [
  {
   "cell_type": "markdown",
   "metadata": {},
   "source": [
    "# COGS 108 - Final Project \n",
    "## Name & PID\n",
    "\n",
    "- Dayyan Sisson\n",
    "- A13385926"
   ]
  },
  {
   "cell_type": "markdown",
   "metadata": {},
   "source": [
    "# Overview\n",
    "In this project, I analyzed the relationship between ethnic diversity in a locality and critical health inspection statistics in cities in North Carolina. I used the provided data and public census data to build data sets containing information on restaurant's cuisines, health inspection records, and the diversity data on its surrounding locality. After analysis, I concluded that there was no significant relationship between ethnic diversity in a locality and critical health inspection statistics in cities in North Carolina."
   ]
  },
  {
   "cell_type": "markdown",
   "metadata": {},
   "source": [
    "# Research Question\n",
    "In North Carolina cities, what is the relationship between the level of ethnic diversity in a locality (small geographic unit, like zipcode or town), and critical health inspection statistics (violation count, health score) in that locality?"
   ]
  },
  {
   "cell_type": "markdown",
   "metadata": {},
   "source": [
    "## Background and Prior Work\n",
    "There has been research done on race, age, class based disparities in levels of inspections carried out by the EPA, which has led some research to suggest that measures must be taken to improve the equity of the inspection process (1). This research was conducted looking at, in a community, the percentage of African Americans, percentage of Hispanics, low SES index, amongst other variables. \n",
    "\n",
    "Additionally, research has shown that \"Food safety compliance amongst ethnic minority food retail businesses has been identified as being less than satisfactory\", and that \"the research recognizes that language difficulties and lack of knowledge and understanding of the principles of food safety are a major barrier to promoting food safety\" (2).\n",
    "\n",
    "**References (include links):**\n",
    "- 1. https://onlinelibrary.wiley.com/doi/abs/10.1111/ssqu.12160\n",
    "- 2. https://www.sciencedirect.com/science/article/abs/pii/S0956713504002324"
   ]
  },
  {
   "cell_type": "markdown",
   "metadata": {},
   "source": [
    "# Hypothesis\n",
    "My hypothesis, is that health ratings in localities with more ethnic diversity than will be lower than those with less ethnic diversity.\n",
    "\n",
    "I believe that barriers in language, lower levels of food safety education, and challenges related to the equity in which health inspections are carried out result in lower food safety ratings in ethnically diverse communities. Communities with less diversity (even if the population is largely composed of American racial minorities) will have, in general, higher food safety ratings, since equitable inspections can be carried out more easily amongst a singular target population."
   ]
  },
  {
   "cell_type": "markdown",
   "metadata": {},
   "source": [
    "# Dataset(s)\n",
    "\n",
    "### yelp\n",
    "- **Link:** (provided)\n",
    "- **Num. Observations:** 3688\n",
    "- **Description:** Contains yelp data on restaurants around North Carolina, including name, yelp rating, address, and type of cuisine.\n",
    "\n",
    "### violations\n",
    "- **Link:** (provided)\n",
    "- **Num. Observations:** 189802\n",
    "- **Description:** Contains data on health code violations recorded on restaurants in North Carolina.\n",
    "\n",
    "### restaurants\n",
    "- **Link:** (provided)\n",
    "- **Num. Observations:** 3324\n",
    "- **Description:** Contains data restaurants around North Carolina, including important identifying information such as hsisid, postal code, and phone number.\n",
    "\n",
    "### inspections\n",
    "- **Link:** (provided)\n",
    "- **Num. Observations:** 18466\n",
    "- **Description:** Contains health inspection data on restaurants in North Carolina. Critically, it contains data on health scores given to particular hsisids.\n",
    "\n",
    "### uszips\n",
    "- **Link:** https://simplemaps.com/data/us-zips\n",
    "- **Num. Observations:** 33099\n",
    "- **Description:** Contains data on valid US zip codes, and the city they belong to.\n",
    "\n",
    "### census_nc_demo (1-3)\n",
    "- **Link:** https://www.census.gov/quickfacts/\n",
    "- **Num. Observations:** 249\n",
    "- **Description:** Contains demographic census data on counties and cities corresponding to relevant zip codes in North Carolina. Collected by identifying relevant zip codes and pulling census demographic data on their associated city. Split into 3 files.\n",
    "\n",
    "## Combining Datasets\n",
    "- The yelp, violations, restaurants, and inspections data sets will all be combined together to form the `df_bycuisine` data set, which uses the yelp data set to associate a cuisine with restaurants, and their associated inspections and violations data.\n",
    "- The census_nc_demo and zip codes data sets will all be combined together to form the `df_census` data set, which will be used to associate zipcodes with census data on their corresponding demographics. An additional column `diversity index` will be generated from the data by using the Simpson Diversity Index to quantify diversity in a locality. Visit this link to learn more about the Simpson Diversity Index: https://www.statisticshowto.com/simpsons-diversity-index/\n",
    "- The violations, inspections, and `df_census`data sets will all be combined together to form the `df_bylocality` and `df_byrestaurant` data sets, which associates a diversity index to restaurants, grouped by locality or left individually, respectively.\n",
    "\n",
    "More specific details on how aggregations will be carried out is included in the _Data Cleaning_ section."
   ]
  },
  {
   "cell_type": "markdown",
   "metadata": {},
   "source": [
    "# Setup\n",
    "\n",
    "All the code setup, including importing libraries (such as `numpy`, `pandas`, `seaborn`, `matplotlib`, etc...) and setting default parameters."
   ]
  },
  {
   "cell_type": "markdown",
   "metadata": {},
   "source": [
    "## Import Libraries"
   ]
  },
  {
   "cell_type": "code",
   "execution_count": 1,
   "metadata": {},
   "outputs": [],
   "source": [
    "# Imports \n",
    "%matplotlib inline\n",
    "\n",
    "import numpy as np\n",
    "import pandas as pd\n",
    "import matplotlib.pyplot as plt\n",
    "plt.rc('lines', linewidth=2, color='r')\n",
    "\n",
    "import warnings\n",
    "warnings.filterwarnings('ignore')\n",
    "\n",
    "import scipy.stats as stats"
   ]
  },
  {
   "cell_type": "markdown",
   "metadata": {},
   "source": [
    "# Data Cleaning\n",
    "\n",
    "Loading and cleaning the `yelp`, `restaurants`, `inspections`, and `violations` data sets. This includes loading the data, dropping unnecessary columns, making column names more concise, and dropping rows with critical data missing. Once the datasets are cleaned they will be merged. Step one will be to merge the `violations`, `restaurants`, and `inspections` data by `hsisid`. The `yelp` data set will then be merged with the resultant dataset by  matching `phone number`, `latitude`, and `longtitude`."
   ]
  },
  {
   "cell_type": "markdown",
   "metadata": {},
   "source": [
    "### Standardization Functions\n",
    "Since some of the data will need to be standardized, these functions will be defined here.\n",
    "\n",
    "- `standardize_zip` will standardize zip codes into an `xxxxx` format (i.e. `27560`).\n",
    "- `standardize_phone` will standardize phone numbers into an `xxxxxxxxxx` format (i.e. `2102230500`).\n",
    "\n",
    "### Misc. Functions\n",
    "Many more functions are defined below to assist with the data cleaning process. Descriptions are provided as header comments."
   ]
  },
  {
   "cell_type": "code",
   "execution_count": 2,
   "metadata": {},
   "outputs": [],
   "source": [
    "# Checks to see if a string contains letters by uppercasing the string then checking to see if there \n",
    "# are any uppercase letters\n",
    "def contains_letters(string):\n",
    "    \n",
    "    return string.upper().isupper()"
   ]
  },
  {
   "cell_type": "code",
   "execution_count": 3,
   "metadata": {},
   "outputs": [],
   "source": [
    "# Returns the zipcode in 5 digit format\n",
    "\n",
    "# Takes in str/int object, converts it to a string, returns zipcode as 5-digit long int\n",
    "# Note: if zipcode is less than 5 digits long, or contains any letters returns None (NaN)\n",
    "\n",
    "def standardize_zip(zipcode):\n",
    "    \n",
    "    string = str(zipcode)\n",
    "    if len(string) < 5 or contains_letters(string):\n",
    "        return None\n",
    "    elif len(string) is 5:\n",
    "        return int(string)\n",
    "    \n",
    "    return int(string[0:5])"
   ]
  },
  {
   "cell_type": "code",
   "execution_count": 4,
   "metadata": {},
   "outputs": [],
   "source": [
    "# Returns the phone number in xxxxxxxxxx\n",
    "\n",
    "# Takes in str/int object, converts it to a string, returns as formatted string.\n",
    "# Note: if phone number is invalid, returns None.\n",
    "\n",
    "def standardize_phone(phone):\n",
    "    \n",
    "    string = str(phone)\n",
    "    string.strip()\n",
    "    if contains_letters(string):\n",
    "        return None\n",
    "    \n",
    "    # Remove all extra characters anticipated\n",
    "    string = string.replace('-', '')\n",
    "    string = string.replace('(', '')\n",
    "    string = string.replace(')', '')\n",
    "    string = string.replace(' ', '')\n",
    "    string.strip()\n",
    "    \n",
    "    # If phone number is invalid, return None\n",
    "    if len(string) < 10:\n",
    "        return None\n",
    "    \n",
    "    # Remove international code\n",
    "    if len(string) > 10:\n",
    "        string = string[1:]\n",
    "    \n",
    "    return string"
   ]
  },
  {
   "cell_type": "code",
   "execution_count": 5,
   "metadata": {},
   "outputs": [],
   "source": [
    "# Returns cuisine type\n",
    "\n",
    "# Takes in a row from a dataframe, and checks if any of the cuisine-related values are marked as true. Returns\n",
    "# string representation of that cuisine\n",
    "# Note: if all cuisine-related entries are false, returns None.\n",
    "\n",
    "def extract_cuisine(row):\n",
    "    \n",
    "    if(row['hotdogs']):\n",
    "        return 'american'\n",
    "    elif(row['sandwiches']):\n",
    "        return 'american'\n",
    "    elif(row['pizza']):\n",
    "        return 'american'\n",
    "    elif(row['tradamerican']):\n",
    "        return 'american'\n",
    "    elif(row['burgers']):\n",
    "        return 'american'\n",
    "    elif(row['mexican']):\n",
    "        return 'mexican'\n",
    "    elif(row['grocery']):\n",
    "        return 'other'\n",
    "    elif(row['breakfast_brunch']):\n",
    "        return 'american'\n",
    "    elif(row['coffee']):\n",
    "        return 'american'\n",
    "    elif(row['chinese']):\n",
    "        return 'chinese'\n",
    "    elif(row['italian']):\n",
    "        return 'italian'\n",
    "    elif(row['newamerican']):\n",
    "        return 'american'\n",
    "    elif(row['chicken_wings']):\n",
    "        return 'american'\n",
    "    elif(row['delis']):\n",
    "        return 'american'\n",
    "    elif(row['bars']):\n",
    "        return 'other'\n",
    "    elif(row['salad']):\n",
    "        return 'american'\n",
    "    elif(row['seafood']):\n",
    "        return 'other'\n",
    "    elif(row['bbq']):\n",
    "        return 'american'\n",
    "    elif(row['bakeries']):\n",
    "        return 'other'\n",
    "    elif(row['sushi']):\n",
    "        return 'japanese'\n",
    "    \n",
    "    return None"
   ]
  },
  {
   "cell_type": "code",
   "execution_count": 6,
   "metadata": {},
   "outputs": [],
   "source": [
    "# Returns whether or not a cuisine is labelled as \"ethnic\"\n",
    "\n",
    "# Takes in a row from a dataframe, and checks if cuisine is mexican, chinese, italian, or sushi. Returns\n",
    "# true if any of these are true, otherwise false.\n",
    "\n",
    "def is_ethnic(row):\n",
    "    \n",
    "    cuisine = row['cuisine']\n",
    "    if(cuisine is 'mexican' or cuisine is 'chinese' or cuisine is 'italian' or cuisine is 'japanese'):\n",
    "        return True\n",
    "    \n",
    "    return False"
   ]
  },
  {
   "cell_type": "code",
   "execution_count": 7,
   "metadata": {},
   "outputs": [],
   "source": [
    "# Transform census data frames to have demographic info as columns and actual data in the rows\n",
    "\n",
    "def prep_census_df(df_raw):\n",
    "\n",
    "    # Transpose dataframe and set appopriate headers\n",
    "    df_raw = df_raw.transpose()\n",
    "    df_raw.columns = df_raw.iloc[0]\n",
    "    df_raw.drop(df_raw.index[0], inplace=True)\n",
    "\n",
    "\n",
    "    # Drop unnecessary columns\n",
    "    df_raw.rename(columns={'White alone, not Hispanic or Latino, percent':'white %',\n",
    "                       'Black or African American alone, percent':'black %',\n",
    "                       'American Indian and Alaska Native alone, percent':'native american %',\n",
    "                       'Asian alone, percent':'asian %',\n",
    "                       'Native Hawaiian and Other Pacific Islander alone, percent':'pacific islander %',\n",
    "                       'Two or More Races, percent':'mixed %',\n",
    "                       'Hispanic or Latino, percent':'hispanic or latino %',\n",
    "                     }, inplace=True)\n",
    "    df_raw = df_raw[['white %', 'black %','hispanic or latino %','asian %',\n",
    "             'native american %','pacific islander %', 'mixed %']]\n",
    "    \n",
    "    return df_raw"
   ]
  },
  {
   "cell_type": "code",
   "execution_count": 8,
   "metadata": {},
   "outputs": [],
   "source": [
    "# Matches a city with a zip code\n",
    "\n",
    "def match_zip(city):\n",
    "    \n",
    "    cities = df_zipdata[(df_zipdata['city'] == city)]\n",
    "    if len(cities) is 0:\n",
    "        return None\n",
    "    \n",
    "    return list(cities['zip'])"
   ]
  },
  {
   "cell_type": "code",
   "execution_count": 9,
   "metadata": {},
   "outputs": [],
   "source": [
    "# Matches a zip code with its diversity index\n",
    "\n",
    "def match_zip_div(zipcode):\n",
    "    \n",
    "    values = None\n",
    "    for i in range(len(df_census)):\n",
    "        if zipcode in df_census.iloc[i]['zip']:\n",
    "            values = df_census.iloc[i]\n",
    "\n",
    "    if values is None or len(values) is 0:\n",
    "        return None\n",
    "    \n",
    "    return values['diversity index'].mean()"
   ]
  },
  {
   "cell_type": "code",
   "execution_count": 10,
   "metadata": {},
   "outputs": [],
   "source": [
    "# Matches a zip code with an average of its average health scores\n",
    "\n",
    "def match_zip_avghs(row):\n",
    "    \n",
    "    values = df[df['zip'].isin(row['zip'])]\n",
    "    if len(values) is 0:\n",
    "        return None\n",
    "    \n",
    "    return values['avg. health score'].mean()"
   ]
  },
  {
   "cell_type": "code",
   "execution_count": 11,
   "metadata": {},
   "outputs": [],
   "source": [
    "# Matches a zip code with an average of its violation count\n",
    "\n",
    "def match_zip_avgvc(row):\n",
    "    \n",
    "    values = df[df['zip'].isin(row['zip'])]\n",
    "    if len(values) is 0:\n",
    "        return None\n",
    "    \n",
    "    return values['avg. violation count'].mean()"
   ]
  },
  {
   "cell_type": "code",
   "execution_count": 12,
   "metadata": {},
   "outputs": [],
   "source": [
    "# Converts str percent to float\n",
    "def p2f(x):\n",
    "    return float(x.strip('%'))/100\n",
    "\n",
    "# Calculates simpson index corresponding to a row\n",
    "def calc_simpson_index(row):\n",
    "    \n",
    "    white = p2f(row['white %'])**2\n",
    "    black = p2f(row['black %'])**2\n",
    "    hisp_lat = p2f(row['hispanic or latino %'])**2\n",
    "    asian = p2f(row['asian %'])**2\n",
    "    nat_amer = p2f(row['native american %'])**2\n",
    "    pac_isl = p2f(row['pacific islander %'])**2\n",
    "    mixed = p2f(row['mixed %'])**2\n",
    "    \n",
    "    return 1/(white + black + hisp_lat + asian + nat_amer + pac_isl + mixed)"
   ]
  },
  {
   "cell_type": "markdown",
   "metadata": {},
   "source": [
    "### Load & Clean Yelp Data\n",
    "The `yelp.csv` is already in TidyData format. To clean the dataframe, we need to drop unnecessary columns, and make column names more concise. Also, since we will be merging this data set with the others by matching `phone number`, `latitude`, and `longtitude`, we will drop any rows if any of that information is missing. Last we need to standardize the data and extract the cuisine name for each entry."
   ]
  },
  {
   "cell_type": "code",
   "execution_count": 13,
   "metadata": {},
   "outputs": [
    {
     "name": "stdout",
     "output_type": "stream",
     "text": [
      "Yelp Data\n",
      "---\n",
      "Before Clean:  (3688, 31)\n",
      "After Clean:  (3648, 6)\n"
     ]
    }
   ],
   "source": [
    "# Load data\n",
    "df_yelp = pd.read_csv('Data/yelp.csv')\n",
    "print('Yelp Data\\n---')\n",
    "print('Before Clean: ', df_yelp.shape)\n",
    "\n",
    "# Drop unnecessary columns\n",
    "df_yelp.drop(columns=['id', 'price', 'address1', 'latitude', 'longitude', 'is_closed', 'review_count'], inplace=True)\n",
    "\n",
    "# Rename columns\n",
    "df_yelp.rename(columns={'zip_code':'zip', 'rating':'yelp rating'}, inplace=True)\n",
    "\n",
    "# Standardize df\n",
    "df_yelp['zip'] = df_yelp['zip'].apply(standardize_zip)\n",
    "df_yelp['phone'] = df_yelp['phone'].apply(standardize_phone)\n",
    "\n",
    "# Drop rows with critical data missing\n",
    "df_yelp.dropna(subset=['phone', 'zip'], inplace=True)\n",
    "\n",
    "# Remove cuisine booleans with one column that contains string identifier\n",
    "df_yelp['cuisine'] = df_yelp.apply(extract_cuisine, axis=1)\n",
    "df_yelp.drop(columns=['hotdogs','sandwiches','pizza','tradamerican','burgers','mexican',\n",
    "                      'grocery','breakfast_brunch','coffee','chinese','italian','newamerican',\n",
    "                      'chicken_wings','delis','bars','salad','seafood','bbq','bakeries','sushi'], inplace=True)\n",
    "\n",
    "# Add column identifying if cuisine is ethnic\n",
    "df_yelp['ethnic'] = df_yelp.apply(is_ethnic, axis=1)\n",
    "\n",
    "# Reset index and show first 5 rows\n",
    "df_yelp.reset_index(drop=True, inplace=True)\n",
    "print('After Clean: ', df_yelp.shape)"
   ]
  },
  {
   "cell_type": "markdown",
   "metadata": {},
   "source": [
    "### Load & Clean Restaurants Data\n",
    "The `restaurants.csv` is already in TidyData format. This dataframe will be used mostly for linking the yelp data set with the other data sets, since this data set contains an hsisid, phone number, and coordinates to match between all the sets.\n",
    "\n",
    "To clean the dataframe, we need to drop unnecessary columns, and make column names more concise. We need to standardize the data and reformat specific columns. Last we will drop any rows if any information is missing."
   ]
  },
  {
   "cell_type": "code",
   "execution_count": 14,
   "metadata": {},
   "outputs": [
    {
     "name": "stdout",
     "output_type": "stream",
     "text": [
      "Restaurants Data\n",
      "---\n",
      "Before Clean:  (3324, 14)\n",
      "After Clean:  (3127, 2)\n"
     ]
    },
    {
     "data": {
      "text/html": [
       "<div>\n",
       "<style scoped>\n",
       "    .dataframe tbody tr th:only-of-type {\n",
       "        vertical-align: middle;\n",
       "    }\n",
       "\n",
       "    .dataframe tbody tr th {\n",
       "        vertical-align: top;\n",
       "    }\n",
       "\n",
       "    .dataframe thead th {\n",
       "        text-align: right;\n",
       "    }\n",
       "</style>\n",
       "<table border=\"1\" class=\"dataframe\">\n",
       "  <thead>\n",
       "    <tr style=\"text-align: right;\">\n",
       "      <th></th>\n",
       "      <th>hsisid</th>\n",
       "      <th>phone</th>\n",
       "    </tr>\n",
       "  </thead>\n",
       "  <tbody>\n",
       "    <tr>\n",
       "      <th>0</th>\n",
       "      <td>4092017230</td>\n",
       "      <td>9199773679</td>\n",
       "    </tr>\n",
       "    <tr>\n",
       "      <th>1</th>\n",
       "      <td>4092014444</td>\n",
       "      <td>9195544924</td>\n",
       "    </tr>\n",
       "    <tr>\n",
       "      <th>2</th>\n",
       "      <td>4092015333</td>\n",
       "      <td>9198353553</td>\n",
       "    </tr>\n",
       "    <tr>\n",
       "      <th>3</th>\n",
       "      <td>4092110477</td>\n",
       "      <td>9192504756</td>\n",
       "    </tr>\n",
       "    <tr>\n",
       "      <th>4</th>\n",
       "      <td>4092016679</td>\n",
       "      <td>9199773829</td>\n",
       "    </tr>\n",
       "  </tbody>\n",
       "</table>\n",
       "</div>"
      ],
      "text/plain": [
       "       hsisid       phone\n",
       "0  4092017230  9199773679\n",
       "1  4092014444  9195544924\n",
       "2  4092015333  9198353553\n",
       "3  4092110477  9192504756\n",
       "4  4092016679  9199773829"
      ]
     },
     "execution_count": 14,
     "metadata": {},
     "output_type": "execute_result"
    }
   ],
   "source": [
    "# Load data\n",
    "df_restaurants = pd.read_csv('Data/restaurants.csv')\n",
    "print('Restaurants Data\\n---')\n",
    "print('Before Clean: ', df_restaurants.shape)\n",
    "\n",
    "# Grab necessary columns\n",
    "df_restaurants = df_restaurants[['hsisid', 'phonenumber']]\n",
    "\n",
    "# Rename columns\n",
    "df_restaurants.rename(columns={'phonenumber':'phone'}, inplace=True)\n",
    "\n",
    "# Standardize df\n",
    "df_restaurants['phone'] = df_restaurants['phone'].apply(standardize_phone)\n",
    "\n",
    "# Drop rows with critical data missing\n",
    "df_restaurants.dropna(inplace=True)\n",
    "\n",
    "# Reset index and show first 5 rows\n",
    "df_restaurants.reset_index(drop=True, inplace=True)\n",
    "print('After Clean: ', df_restaurants.shape)\n",
    "df_restaurants.head()"
   ]
  },
  {
   "cell_type": "markdown",
   "metadata": {},
   "source": [
    "### Load & Clean Inspections Data\n",
    "The `inspections.csv` is already in TidyData format. From this data set, we want the `hsisid` and its health score. Since a restaurant may have several health scores associated with it, we will take the mean of the scores, and drop any rows with null values."
   ]
  },
  {
   "cell_type": "code",
   "execution_count": 15,
   "metadata": {},
   "outputs": [
    {
     "name": "stdout",
     "output_type": "stream",
     "text": [
      "Inspections Data\n",
      "---\n",
      "Before Clean:  (18466, 36)\n",
      "After Clean:  (3045, 3)\n"
     ]
    },
    {
     "data": {
      "text/html": [
       "<div>\n",
       "<style scoped>\n",
       "    .dataframe tbody tr th:only-of-type {\n",
       "        vertical-align: middle;\n",
       "    }\n",
       "\n",
       "    .dataframe tbody tr th {\n",
       "        vertical-align: top;\n",
       "    }\n",
       "\n",
       "    .dataframe thead th {\n",
       "        text-align: right;\n",
       "    }\n",
       "</style>\n",
       "<table border=\"1\" class=\"dataframe\">\n",
       "  <thead>\n",
       "    <tr style=\"text-align: right;\">\n",
       "      <th></th>\n",
       "      <th>hsisid</th>\n",
       "      <th>avg. health score</th>\n",
       "      <th>zip</th>\n",
       "    </tr>\n",
       "  </thead>\n",
       "  <tbody>\n",
       "    <tr>\n",
       "      <th>0</th>\n",
       "      <td>4092010018</td>\n",
       "      <td>94.333333</td>\n",
       "      <td>27628</td>\n",
       "    </tr>\n",
       "    <tr>\n",
       "      <th>1</th>\n",
       "      <td>4092010024</td>\n",
       "      <td>94.772727</td>\n",
       "      <td>27607</td>\n",
       "    </tr>\n",
       "    <tr>\n",
       "      <th>2</th>\n",
       "      <td>4092010031</td>\n",
       "      <td>94.375000</td>\n",
       "      <td>27604</td>\n",
       "    </tr>\n",
       "    <tr>\n",
       "      <th>3</th>\n",
       "      <td>4092010035</td>\n",
       "      <td>94.500000</td>\n",
       "      <td>27511</td>\n",
       "    </tr>\n",
       "    <tr>\n",
       "      <th>4</th>\n",
       "      <td>4092010037</td>\n",
       "      <td>96.400000</td>\n",
       "      <td>27591</td>\n",
       "    </tr>\n",
       "  </tbody>\n",
       "</table>\n",
       "</div>"
      ],
      "text/plain": [
       "       hsisid  avg. health score    zip\n",
       "0  4092010018          94.333333  27628\n",
       "1  4092010024          94.772727  27607\n",
       "2  4092010031          94.375000  27604\n",
       "3  4092010035          94.500000  27511\n",
       "4  4092010037          96.400000  27591"
      ]
     },
     "execution_count": 15,
     "metadata": {},
     "output_type": "execute_result"
    }
   ],
   "source": [
    "# Load data\n",
    "df_inspections = pd.read_csv('Data/inspections.csv')\n",
    "print('Inspections Data\\n---')\n",
    "print('Before Clean: ', df_inspections.shape)\n",
    "\n",
    "# Drop unnecessary columns\n",
    "df_inspections = df_inspections[['hsisid', 'score', 'zip']]\n",
    "df_inspections.rename(columns={'score':'avg. health score'}, inplace=True)\n",
    "\n",
    "# Average scores together\n",
    "df_inspections = df_inspections.groupby('hsisid').mean()\n",
    "\n",
    "# Clean data frame\n",
    "df_inspections.reset_index(inplace=True)\n",
    "df_inspections.dropna(inplace=True)\n",
    "\n",
    "# Show first 5 rows\n",
    "print('After Clean: ', df_inspections.shape)\n",
    "df_inspections.head()"
   ]
  },
  {
   "cell_type": "markdown",
   "metadata": {},
   "source": [
    "### Load & Clean Violations Data\n",
    "The `violations.csv` is already in TidyData format. The data we need from this dataframe is the amount of violations corresponding to a particular id"
   ]
  },
  {
   "cell_type": "code",
   "execution_count": 16,
   "metadata": {},
   "outputs": [
    {
     "name": "stdout",
     "output_type": "stream",
     "text": [
      "Violations Data\n",
      "---\n",
      "Before Clean:  (189802, 18)\n",
      "After Clean:  (4270, 2)\n"
     ]
    },
    {
     "data": {
      "text/html": [
       "<div>\n",
       "<style scoped>\n",
       "    .dataframe tbody tr th:only-of-type {\n",
       "        vertical-align: middle;\n",
       "    }\n",
       "\n",
       "    .dataframe tbody tr th {\n",
       "        vertical-align: top;\n",
       "    }\n",
       "\n",
       "    .dataframe thead th {\n",
       "        text-align: right;\n",
       "    }\n",
       "</style>\n",
       "<table border=\"1\" class=\"dataframe\">\n",
       "  <thead>\n",
       "    <tr style=\"text-align: right;\">\n",
       "      <th></th>\n",
       "      <th>hsisid</th>\n",
       "      <th>violation count</th>\n",
       "    </tr>\n",
       "  </thead>\n",
       "  <tbody>\n",
       "    <tr>\n",
       "      <th>0</th>\n",
       "      <td>4092010018</td>\n",
       "      <td>93</td>\n",
       "    </tr>\n",
       "    <tr>\n",
       "      <th>1</th>\n",
       "      <td>4092010024</td>\n",
       "      <td>92</td>\n",
       "    </tr>\n",
       "    <tr>\n",
       "      <th>2</th>\n",
       "      <td>4092010031</td>\n",
       "      <td>20</td>\n",
       "    </tr>\n",
       "    <tr>\n",
       "      <th>3</th>\n",
       "      <td>4092010035</td>\n",
       "      <td>44</td>\n",
       "    </tr>\n",
       "    <tr>\n",
       "      <th>4</th>\n",
       "      <td>4092010037</td>\n",
       "      <td>43</td>\n",
       "    </tr>\n",
       "  </tbody>\n",
       "</table>\n",
       "</div>"
      ],
      "text/plain": [
       "       hsisid  violation count\n",
       "0  4092010018               93\n",
       "1  4092010024               92\n",
       "2  4092010031               20\n",
       "3  4092010035               44\n",
       "4  4092010037               43"
      ]
     },
     "execution_count": 16,
     "metadata": {},
     "output_type": "execute_result"
    }
   ],
   "source": [
    "# Load data\n",
    "df_violations = pd.read_csv('Data/violations.csv')\n",
    "print('Violations Data\\n---')\n",
    "print('Before Clean: ', df_violations.shape)\n",
    "\n",
    "# Generate violation count data\n",
    "df_violations = df_violations.groupby('hsisid',as_index=False).size()\n",
    "df_violations = df_violations.to_frame()\n",
    "\n",
    "# Clean data frame\n",
    "df_violations.reset_index(inplace=True)\n",
    "df_violations.rename(columns={0:'violation count'}, inplace=True)\n",
    "df_violations.dropna(inplace=True)\n",
    "\n",
    "# Show first 5 rows\n",
    "print('After Clean: ', df_violations.shape)\n",
    "df_violations.head()"
   ]
  },
  {
   "cell_type": "markdown",
   "metadata": {},
   "source": [
    "### Load & Clean Census & Zipcode Data\n",
    "The `census_nc_demo1.csv`, `census_nc_demo2.csv`, `census_nc_demo3.csv` files are already in TidyData format. We need to combine them into one larger census data set, and then associate the cities in it with their corresponding zipcodes so we can merge this data set with the other data sets later. Finally we'll calculate the Simpson Diversity Index for each locality."
   ]
  },
  {
   "cell_type": "code",
   "execution_count": 17,
   "metadata": {
    "scrolled": false
   },
   "outputs": [
    {
     "data": {
      "text/html": [
       "<div>\n",
       "<style scoped>\n",
       "    .dataframe tbody tr th:only-of-type {\n",
       "        vertical-align: middle;\n",
       "    }\n",
       "\n",
       "    .dataframe tbody tr th {\n",
       "        vertical-align: top;\n",
       "    }\n",
       "\n",
       "    .dataframe thead th {\n",
       "        text-align: right;\n",
       "    }\n",
       "</style>\n",
       "<table border=\"1\" class=\"dataframe\">\n",
       "  <thead>\n",
       "    <tr style=\"text-align: right;\">\n",
       "      <th></th>\n",
       "      <th>locality</th>\n",
       "      <th>white %</th>\n",
       "      <th>black %</th>\n",
       "      <th>hispanic or latino %</th>\n",
       "      <th>asian %</th>\n",
       "      <th>native american %</th>\n",
       "      <th>pacific islander %</th>\n",
       "      <th>mixed %</th>\n",
       "      <th>diversity index</th>\n",
       "      <th>zip</th>\n",
       "    </tr>\n",
       "  </thead>\n",
       "  <tbody>\n",
       "    <tr>\n",
       "      <th>0</th>\n",
       "      <td>fuquay varina</td>\n",
       "      <td>70.7%</td>\n",
       "      <td>14.1%</td>\n",
       "      <td>11.1%</td>\n",
       "      <td>1.4%</td>\n",
       "      <td>0.2%</td>\n",
       "      <td>0.0%</td>\n",
       "      <td>3.4%</td>\n",
       "      <td>1.874741</td>\n",
       "      <td>[27526]</td>\n",
       "    </tr>\n",
       "    <tr>\n",
       "      <th>1</th>\n",
       "      <td>butner</td>\n",
       "      <td>49.8%</td>\n",
       "      <td>29.4%</td>\n",
       "      <td>15.6%</td>\n",
       "      <td>1.8%</td>\n",
       "      <td>0.3%</td>\n",
       "      <td>0.0%</td>\n",
       "      <td>3.9%</td>\n",
       "      <td>2.772925</td>\n",
       "      <td>[27509]</td>\n",
       "    </tr>\n",
       "    <tr>\n",
       "      <th>2</th>\n",
       "      <td>clayton</td>\n",
       "      <td>57.3%</td>\n",
       "      <td>27.2%</td>\n",
       "      <td>13.0%</td>\n",
       "      <td>0.9%</td>\n",
       "      <td>1.4%</td>\n",
       "      <td>0.0%</td>\n",
       "      <td>2.8%</td>\n",
       "      <td>2.379400</td>\n",
       "      <td>[27520, 27527]</td>\n",
       "    </tr>\n",
       "    <tr>\n",
       "      <th>3</th>\n",
       "      <td>cary</td>\n",
       "      <td>63.4%</td>\n",
       "      <td>8.2%</td>\n",
       "      <td>7.7%</td>\n",
       "      <td>17.8%</td>\n",
       "      <td>0.4%</td>\n",
       "      <td>0.0%</td>\n",
       "      <td>2.8%</td>\n",
       "      <td>2.236671</td>\n",
       "      <td>[27511, 27513, 27518, 27519]</td>\n",
       "    </tr>\n",
       "    <tr>\n",
       "      <th>4</th>\n",
       "      <td>apex</td>\n",
       "      <td>74.6%</td>\n",
       "      <td>7.1%</td>\n",
       "      <td>7.1%</td>\n",
       "      <td>8.1%</td>\n",
       "      <td>0.2%</td>\n",
       "      <td>0.0%</td>\n",
       "      <td>3.4%</td>\n",
       "      <td>1.741193</td>\n",
       "      <td>[27502, 27523, 27539]</td>\n",
       "    </tr>\n",
       "  </tbody>\n",
       "</table>\n",
       "</div>"
      ],
      "text/plain": [
       "        locality white % black % hispanic or latino % asian %  \\\n",
       "0  fuquay varina   70.7%   14.1%                11.1%    1.4%   \n",
       "1         butner   49.8%   29.4%                15.6%    1.8%   \n",
       "2        clayton   57.3%   27.2%                13.0%    0.9%   \n",
       "3           cary   63.4%    8.2%                 7.7%   17.8%   \n",
       "4           apex   74.6%    7.1%                 7.1%    8.1%   \n",
       "\n",
       "  native american % pacific islander % mixed %  diversity index  \\\n",
       "0              0.2%               0.0%    3.4%         1.874741   \n",
       "1              0.3%               0.0%    3.9%         2.772925   \n",
       "2              1.4%               0.0%    2.8%         2.379400   \n",
       "3              0.4%               0.0%    2.8%         2.236671   \n",
       "4              0.2%               0.0%    3.4%         1.741193   \n",
       "\n",
       "                            zip  \n",
       "0                       [27526]  \n",
       "1                       [27509]  \n",
       "2                [27520, 27527]  \n",
       "3  [27511, 27513, 27518, 27519]  \n",
       "4         [27502, 27523, 27539]  "
      ]
     },
     "execution_count": 17,
     "metadata": {},
     "output_type": "execute_result"
    }
   ],
   "source": [
    "# Load & transpose census data\n",
    "df_census1 = prep_census_df(pd.read_csv('Data/census_nc_demo1.csv'))\n",
    "df_census2 = prep_census_df(pd.read_csv('Data/census_nc_demo2.csv'))\n",
    "df_census3 = prep_census_df(pd.read_csv('Data/census_nc_demo3.csv'))\n",
    "\n",
    "# Append dataframes\n",
    "df_census = df_census1.append(df_census2).append(df_census3)\n",
    "\n",
    "# Transpose back for cleaning\n",
    "df_census = df_census.transpose()\n",
    "\n",
    "# Drop unnecessary columns\n",
    "df_census.rename(columns={ 'Fuquay-Varina town, North Carolina':'fuquay varina',\n",
    "                           'Butner town, North Carolina':'butner',\n",
    "                           'Clayton town, North Carolina':'clayton',\n",
    "                           'Cary town, North Carolina':'cary',\n",
    "                           'Apex town, North Carolina':'apex',\n",
    "                           'Angier town, North Carolina':'angier',\n",
    "                           'Roxboro city, North Carolina':'roxboro',\n",
    "                           'Rolesville town, North Carolina':'rolesville',\n",
    "                           'Morrisville town, North Carolina':'morrisville',\n",
    "                           'Knightdale town, North Carolina':'knightdale',\n",
    "                           'Holly Springs town, North Carolina':'holly springs',\n",
    "                           'Garner town, North Carolina':'garner',\n",
    "                           'Durham city, North Carolina':'durham',\n",
    "                           'Raleigh city, North Carolina':'raleigh',\n",
    "                           'Zebulon town, North Carolina':'zebulon',\n",
    "                           'Wendell town, North Carolina':'wendell',\n",
    "                           'Wake Forest town, North Carolina':'wake forest',\n",
    "                         }, inplace=True)\n",
    "\n",
    "df_census = df_census[[ 'fuquay varina','butner','clayton','cary','apex',\n",
    "                        'angier','roxboro','rolesville','morrisville',\n",
    "                        'knightdale','holly springs','garner','durham',\n",
    "                        'raleigh','zebulon','wendell','wake forest']]\n",
    "\n",
    "# Transpose back and set index\n",
    "df_census.rename_axis('', axis='rows', inplace=True)\n",
    "df_census = df_census.transpose().reset_index()\n",
    "df_census.rename(columns={'index': 'locality'}, inplace=True)\n",
    "\n",
    "# Calculate Simpson Diversity Index\n",
    "df_census['diversity index'] = df_census.apply(calc_simpson_index, axis='columns')\n",
    "\n",
    "# Load zip data\n",
    "df_zipdata = pd.read_csv('Data/uszips.csv')\n",
    "\n",
    "# Grab only necessary columns\n",
    "df_zipdata = df_zipdata[['zip', 'city']]\n",
    "\n",
    "# Convert 'city' data to lowercase\n",
    "df_zipdata['city'] = df_zipdata['city'].apply(lambda x: x.lower())\n",
    "\n",
    "# Restrict to NC zipcodes\n",
    "df_zipdata = df_zipdata[df_zipdata['zip'] >= 27000]\n",
    "df_zipdata = df_zipdata[df_zipdata['zip'] <= 29000]\n",
    "\n",
    "# Convert localities to zipcodes\n",
    "df_census['zip'] = df_census['locality'].apply(match_zip)\n",
    "df_census.head()"
   ]
  },
  {
   "cell_type": "markdown",
   "metadata": {},
   "source": [
    "### Merge Datasets\n",
    "Finally, we're going to merge the datasets. Each merge performed will be an inner join to ensure a complete data set. To do this, we're going to need to first merge the `restaurant`, `inspections`, and `violations` datasets by matching `hsisid` to create `df_bycuisine`. Next, we're going to merge `df` with the yelp dataset by matching `phone` and `zip` data.\n",
    "\n",
    "After we'll create `df_bylocality` by aggregating (through averaging) health scores and violation counts by zipcode and then by locality.\n",
    "\n",
    "Last we'll create `df_byrestaurant` by propagating the diversity index associated with a zip code through a dataset containing a merge of inspection and violation data."
   ]
  },
  {
   "cell_type": "code",
   "execution_count": 18,
   "metadata": {},
   "outputs": [
    {
     "data": {
      "text/html": [
       "<div>\n",
       "<style scoped>\n",
       "    .dataframe tbody tr th:only-of-type {\n",
       "        vertical-align: middle;\n",
       "    }\n",
       "\n",
       "    .dataframe tbody tr th {\n",
       "        vertical-align: top;\n",
       "    }\n",
       "\n",
       "    .dataframe thead th {\n",
       "        text-align: right;\n",
       "    }\n",
       "</style>\n",
       "<table border=\"1\" class=\"dataframe\">\n",
       "  <thead>\n",
       "    <tr style=\"text-align: right;\">\n",
       "      <th></th>\n",
       "      <th>avg. health score</th>\n",
       "      <th>zip</th>\n",
       "      <th>violation count</th>\n",
       "      <th>yelp rating</th>\n",
       "      <th>cuisine</th>\n",
       "      <th>ethnic</th>\n",
       "    </tr>\n",
       "  </thead>\n",
       "  <tbody>\n",
       "    <tr>\n",
       "      <th>0</th>\n",
       "      <td>88.000000</td>\n",
       "      <td>27616</td>\n",
       "      <td>25</td>\n",
       "      <td>3.5</td>\n",
       "      <td>american</td>\n",
       "      <td>False</td>\n",
       "    </tr>\n",
       "    <tr>\n",
       "      <th>1</th>\n",
       "      <td>97.650000</td>\n",
       "      <td>27587</td>\n",
       "      <td>63</td>\n",
       "      <td>3.0</td>\n",
       "      <td>american</td>\n",
       "      <td>False</td>\n",
       "    </tr>\n",
       "    <tr>\n",
       "      <th>2</th>\n",
       "      <td>94.000000</td>\n",
       "      <td>27601</td>\n",
       "      <td>81</td>\n",
       "      <td>4.0</td>\n",
       "      <td>american</td>\n",
       "      <td>False</td>\n",
       "    </tr>\n",
       "    <tr>\n",
       "      <th>3</th>\n",
       "      <td>99.400000</td>\n",
       "      <td>27601</td>\n",
       "      <td>14</td>\n",
       "      <td>4.0</td>\n",
       "      <td>american</td>\n",
       "      <td>False</td>\n",
       "    </tr>\n",
       "    <tr>\n",
       "      <th>4</th>\n",
       "      <td>96.583333</td>\n",
       "      <td>27617</td>\n",
       "      <td>44</td>\n",
       "      <td>3.5</td>\n",
       "      <td>american</td>\n",
       "      <td>False</td>\n",
       "    </tr>\n",
       "    <tr>\n",
       "      <th>...</th>\n",
       "      <td>...</td>\n",
       "      <td>...</td>\n",
       "      <td>...</td>\n",
       "      <td>...</td>\n",
       "      <td>...</td>\n",
       "      <td>...</td>\n",
       "    </tr>\n",
       "    <tr>\n",
       "      <th>1810</th>\n",
       "      <td>90.000000</td>\n",
       "      <td>27604</td>\n",
       "      <td>129</td>\n",
       "      <td>3.5</td>\n",
       "      <td>None</td>\n",
       "      <td>False</td>\n",
       "    </tr>\n",
       "    <tr>\n",
       "      <th>1811</th>\n",
       "      <td>96.000000</td>\n",
       "      <td>27605</td>\n",
       "      <td>49</td>\n",
       "      <td>3.5</td>\n",
       "      <td>american</td>\n",
       "      <td>False</td>\n",
       "    </tr>\n",
       "    <tr>\n",
       "      <th>1812</th>\n",
       "      <td>93.125000</td>\n",
       "      <td>27529</td>\n",
       "      <td>54</td>\n",
       "      <td>4.0</td>\n",
       "      <td>american</td>\n",
       "      <td>False</td>\n",
       "    </tr>\n",
       "    <tr>\n",
       "      <th>1813</th>\n",
       "      <td>97.833333</td>\n",
       "      <td>27603</td>\n",
       "      <td>28</td>\n",
       "      <td>4.0</td>\n",
       "      <td>american</td>\n",
       "      <td>False</td>\n",
       "    </tr>\n",
       "    <tr>\n",
       "      <th>1814</th>\n",
       "      <td>90.000000</td>\n",
       "      <td>27560</td>\n",
       "      <td>21</td>\n",
       "      <td>3.5</td>\n",
       "      <td>american</td>\n",
       "      <td>False</td>\n",
       "    </tr>\n",
       "  </tbody>\n",
       "</table>\n",
       "<p>1815 rows × 6 columns</p>\n",
       "</div>"
      ],
      "text/plain": [
       "      avg. health score    zip  violation count  yelp rating   cuisine  ethnic\n",
       "0             88.000000  27616               25          3.5  american   False\n",
       "1             97.650000  27587               63          3.0  american   False\n",
       "2             94.000000  27601               81          4.0  american   False\n",
       "3             99.400000  27601               14          4.0  american   False\n",
       "4             96.583333  27617               44          3.5  american   False\n",
       "...                 ...    ...              ...          ...       ...     ...\n",
       "1810          90.000000  27604              129          3.5      None   False\n",
       "1811          96.000000  27605               49          3.5  american   False\n",
       "1812          93.125000  27529               54          4.0  american   False\n",
       "1813          97.833333  27603               28          4.0  american   False\n",
       "1814          90.000000  27560               21          3.5  american   False\n",
       "\n",
       "[1815 rows x 6 columns]"
      ]
     },
     "execution_count": 18,
     "metadata": {},
     "output_type": "execute_result"
    }
   ],
   "source": [
    "# Merge the restaurants, inspections, and violations data sets\n",
    "df = df_restaurants\n",
    "df = df.merge(df_inspections, on='hsisid', how='inner')\n",
    "df = df.merge(df_violations, on='hsisid', how='inner')\n",
    "\n",
    "# Create df_bycuisine by merging with yelp data set\n",
    "df_bycuisine = df.merge(df_yelp)\n",
    "\n",
    "# Remove unnecessary identifiers\n",
    "df_bycuisine.drop(columns=['hsisid', 'phone', 'name'], inplace=True)\n",
    "df_bycuisine"
   ]
  },
  {
   "cell_type": "code",
   "execution_count": 19,
   "metadata": {},
   "outputs": [],
   "source": [
    "# Merge the inspections, and violations data sets\n",
    "df = df_inspections\n",
    "df = df.merge(df_violations, on='hsisid', how='inner')\n",
    "\n",
    "# Remove unnecessary identifiers\n",
    "df.drop(columns=['hsisid'], inplace=True)\n",
    "\n",
    "# Group by zip, take averages of all values\n",
    "df = df.groupby('zip').mean().reset_index()\n",
    "df.rename(columns={'violation count':'avg. violation count'}, inplace=True)\n",
    "\n",
    "# Create df_bylocality by associating df with df_census\n",
    "df_bylocality = df_census.copy(deep=True)\n",
    "df_bylocality['avg. health score'] = df_bylocality.apply(match_zip_avghs, axis='columns')\n",
    "df_bylocality['avg. violation count'] = df_bylocality.apply(match_zip_avgvc, axis='columns')\n",
    "df_bylocality = df_bylocality.dropna(subset=['avg. health score', 'avg. violation count']).reset_index(drop=True)"
   ]
  },
  {
   "cell_type": "code",
   "execution_count": 20,
   "metadata": {},
   "outputs": [
    {
     "data": {
      "text/html": [
       "<div>\n",
       "<style scoped>\n",
       "    .dataframe tbody tr th:only-of-type {\n",
       "        vertical-align: middle;\n",
       "    }\n",
       "\n",
       "    .dataframe tbody tr th {\n",
       "        vertical-align: top;\n",
       "    }\n",
       "\n",
       "    .dataframe thead th {\n",
       "        text-align: right;\n",
       "    }\n",
       "</style>\n",
       "<table border=\"1\" class=\"dataframe\">\n",
       "  <thead>\n",
       "    <tr style=\"text-align: right;\">\n",
       "      <th></th>\n",
       "      <th>avg. health score</th>\n",
       "      <th>violation count</th>\n",
       "      <th>diversity index</th>\n",
       "    </tr>\n",
       "  </thead>\n",
       "  <tbody>\n",
       "    <tr>\n",
       "      <th>0</th>\n",
       "      <td>94.772727</td>\n",
       "      <td>92</td>\n",
       "      <td>2.609392</td>\n",
       "    </tr>\n",
       "    <tr>\n",
       "      <th>1</th>\n",
       "      <td>94.375000</td>\n",
       "      <td>20</td>\n",
       "      <td>2.609392</td>\n",
       "    </tr>\n",
       "    <tr>\n",
       "      <th>2</th>\n",
       "      <td>94.500000</td>\n",
       "      <td>44</td>\n",
       "      <td>2.236671</td>\n",
       "    </tr>\n",
       "    <tr>\n",
       "      <th>3</th>\n",
       "      <td>96.400000</td>\n",
       "      <td>43</td>\n",
       "      <td>2.202672</td>\n",
       "    </tr>\n",
       "    <tr>\n",
       "      <th>4</th>\n",
       "      <td>96.318182</td>\n",
       "      <td>96</td>\n",
       "      <td>2.609392</td>\n",
       "    </tr>\n",
       "  </tbody>\n",
       "</table>\n",
       "</div>"
      ],
      "text/plain": [
       "   avg. health score  violation count  diversity index\n",
       "0          94.772727               92         2.609392\n",
       "1          94.375000               20         2.609392\n",
       "2          94.500000               44         2.236671\n",
       "3          96.400000               43         2.202672\n",
       "4          96.318182               96         2.609392"
      ]
     },
     "execution_count": 20,
     "metadata": {},
     "output_type": "execute_result"
    }
   ],
   "source": [
    "# Merge the inspections, and violations data sets\n",
    "df_byrestaurant = df_inspections\n",
    "df_byrestaurant = df_byrestaurant.merge(df_violations, on='hsisid', how='inner')\n",
    "\n",
    "# Remove unnecessary identifiers\n",
    "df_byrestaurant.drop(columns=['hsisid'], inplace=True)\n",
    "\n",
    "# Associate zips with diversity index, clean up dataframe\n",
    "df_byrestaurant['diversity index'] = df_byrestaurant['zip'].apply(match_zip_div)\n",
    "df_byrestaurant.drop(columns=['zip'], inplace=True)\n",
    "df_byrestaurant = df_byrestaurant.dropna().reset_index(drop=True)\n",
    "df_byrestaurant.head()"
   ]
  },
  {
   "cell_type": "markdown",
   "metadata": {},
   "source": [
    "# Data Analysis\n",
    "\n",
    "Now that we have our data sets, we'll examine them for relationships between ethnic diversity and critical health inspection statistics.\n",
    "\n",
    "- **df_bycuisine**: For this data set, we'll look to see if there is discrepency between restaurants labelled as 'ethnic' and those that aren't in average health score and average number of violations. This may help us to understand if there is a relationship at all between the type of restaurant and important health statistics. If there is, we can dive deeper with the next data sets.\n",
    "- **df_bylocality**: For this data set, we'll look to see what the relationship is between a locality's diversity index and the average health score and average number of violations in the locality. This data set suffers from multiple aggregations, so we will keep that in mind. \n",
    "- **df_byzip**: For this data set, we'll look to see what the relationship is between a locality's diversity index and a particular restaurants average health score and violation count. We will carry our linear regression to see if we significantly predict these health statistics by diversity index.\n",
    "\n",
    "For all data analysis, we will be using an `alpha` of 0.01."
   ]
  },
  {
   "cell_type": "code",
   "execution_count": 21,
   "metadata": {},
   "outputs": [],
   "source": [
    "alpha = 0.01"
   ]
  },
  {
   "cell_type": "markdown",
   "metadata": {},
   "source": [
    "## Data Analysis (by Cuisine)\n",
    "Lets first look at the counts of each type of cuisine, to see what the proportions in the data look like."
   ]
  },
  {
   "cell_type": "code",
   "execution_count": 22,
   "metadata": {},
   "outputs": [
    {
     "name": "stdout",
     "output_type": "stream",
     "text": [
      "Number of data points labelled 'ethnic':  247\n",
      "Number of data points labelled 'american':  1568\n"
     ]
    }
   ],
   "source": [
    "count_ethnic = len(df_bycuisine[df_bycuisine['ethnic'] == True])\n",
    "count_american = len(df_bycuisine[df_bycuisine['ethnic'] == False])\n",
    "\n",
    "print(\"Number of data points labelled 'ethnic': \", count_ethnic)\n",
    "print(\"Number of data points labelled 'american': \", count_american)"
   ]
  },
  {
   "cell_type": "markdown",
   "metadata": {},
   "source": [
    "We see that we have significantly more datapoints on restaurants labelled as 'american'. We can explore this even further by seing the distributions across the individual cuisines. "
   ]
  },
  {
   "cell_type": "code",
   "execution_count": 23,
   "metadata": {},
   "outputs": [
    {
     "data": {
      "image/png": "[encoded data removed]",
      "text/plain": [
       "<Figure size 720x360 with 1 Axes>"
      ]
     },
     "metadata": {
      "needs_background": "light"
     },
     "output_type": "display_data"
    }
   ],
   "source": [
    "counts = df_bycuisine['cuisine'].value_counts()\n",
    "fig = counts.plot.bar(figsize=(10,5), color='DarkRed')\n",
    "fig.set_xlabel('cuisine')\n",
    "fig.set_ylabel('count')\n",
    "fig.set_title('Count of Restaurants by Cuisine')\n",
    "plt.xticks(rotation='horizontal')\n",
    "ttl = fig.title\n",
    "ttl.set_position([.5, 1.05])\n",
    "plt.show()"
   ]
  },
  {
   "cell_type": "markdown",
   "metadata": {},
   "source": [
    "With that in mind, lets look into some of the features of the data."
   ]
  },
  {
   "cell_type": "code",
   "execution_count": 24,
   "metadata": {},
   "outputs": [
    {
     "data": {
      "text/html": [
       "<div>\n",
       "<style scoped>\n",
       "    .dataframe tbody tr th:only-of-type {\n",
       "        vertical-align: middle;\n",
       "    }\n",
       "\n",
       "    .dataframe tbody tr th {\n",
       "        vertical-align: top;\n",
       "    }\n",
       "\n",
       "    .dataframe thead th {\n",
       "        text-align: right;\n",
       "    }\n",
       "</style>\n",
       "<table border=\"1\" class=\"dataframe\">\n",
       "  <thead>\n",
       "    <tr style=\"text-align: right;\">\n",
       "      <th></th>\n",
       "      <th>yelp rating</th>\n",
       "      <th>ethnic</th>\n",
       "    </tr>\n",
       "  </thead>\n",
       "  <tbody>\n",
       "    <tr>\n",
       "      <th>avg. health score</th>\n",
       "      <td>0.063965</td>\n",
       "      <td>-0.160651</td>\n",
       "    </tr>\n",
       "    <tr>\n",
       "      <th>violation count</th>\n",
       "      <td>-0.070920</td>\n",
       "      <td>0.255636</td>\n",
       "    </tr>\n",
       "  </tbody>\n",
       "</table>\n",
       "</div>"
      ],
      "text/plain": [
       "                   yelp rating    ethnic\n",
       "avg. health score     0.063965 -0.160651\n",
       "violation count      -0.070920  0.255636"
      ]
     },
     "execution_count": 24,
     "metadata": {},
     "output_type": "execute_result"
    }
   ],
   "source": [
    "df_bycuisine.drop(columns=['zip']).corr(method ='pearson').drop(['yelp rating', 'ethnic'], axis=0).drop(['avg. health score', 'violation count'], axis=1)"
   ]
  },
  {
   "cell_type": "markdown",
   "metadata": {},
   "source": [
    "Here we can see, that there seem to be a weak correlation between our health statistics and yelp rating, but a much stronger correlation between our health statistics and whether or not a restaurant is labelled as _'ethnic'_. Lets explore this relationship more."
   ]
  },
  {
   "cell_type": "code",
   "execution_count": 25,
   "metadata": {},
   "outputs": [
    {
     "data": {
      "text/html": [
       "<div>\n",
       "<style scoped>\n",
       "    .dataframe tbody tr th:only-of-type {\n",
       "        vertical-align: middle;\n",
       "    }\n",
       "\n",
       "    .dataframe tbody tr th {\n",
       "        vertical-align: top;\n",
       "    }\n",
       "\n",
       "    .dataframe thead th {\n",
       "        text-align: right;\n",
       "    }\n",
       "</style>\n",
       "<table border=\"1\" class=\"dataframe\">\n",
       "  <thead>\n",
       "    <tr style=\"text-align: right;\">\n",
       "      <th></th>\n",
       "      <th>Mean</th>\n",
       "      <th>Max</th>\n",
       "      <th>Min</th>\n",
       "      <th>Range</th>\n",
       "    </tr>\n",
       "    <tr>\n",
       "      <th>AHS</th>\n",
       "      <th></th>\n",
       "      <th></th>\n",
       "      <th></th>\n",
       "      <th></th>\n",
       "    </tr>\n",
       "  </thead>\n",
       "  <tbody>\n",
       "    <tr>\n",
       "      <th>ethnic</th>\n",
       "      <td>94.994608</td>\n",
       "      <td>99.25</td>\n",
       "      <td>84.0</td>\n",
       "      <td>15.25</td>\n",
       "    </tr>\n",
       "    <tr>\n",
       "      <th>american</th>\n",
       "      <td>96.028717</td>\n",
       "      <td>100.00</td>\n",
       "      <td>76.0</td>\n",
       "      <td>24.00</td>\n",
       "    </tr>\n",
       "  </tbody>\n",
       "</table>\n",
       "</div>"
      ],
      "text/plain": [
       "               Mean     Max   Min  Range\n",
       "AHS                                     \n",
       "ethnic    94.994608   99.25  84.0  15.25\n",
       "american  96.028717  100.00  76.0  24.00"
      ]
     },
     "execution_count": 25,
     "metadata": {},
     "output_type": "execute_result"
    }
   ],
   "source": [
    "df_ethnic = df_bycuisine[df_bycuisine['ethnic'] == True]\n",
    "df_american = df_bycuisine[df_bycuisine['ethnic'] == False]\n",
    "\n",
    "m_hs_ethnic = df_ethnic['avg. health score'].mean()\n",
    "m_vc_ethnic = df_ethnic['violation count'].mean()\n",
    "m_hs_american = df_american['avg. health score'].mean()\n",
    "m_vc_american = df_american['violation count'].mean()\n",
    "\n",
    "mx_hs_ethnic = df_ethnic['avg. health score'].max()\n",
    "mx_vc_ethnic = df_ethnic['violation count'].max()\n",
    "mx_hs_american = df_american['avg. health score'].max()\n",
    "mx_vc_american = df_american['violation count'].max()\n",
    "\n",
    "mn_hs_ethnic = df_ethnic['avg. health score'].min()\n",
    "mn_vc_ethnic = df_ethnic['violation count'].min()\n",
    "mn_hs_american = df_american['avg. health score'].min()\n",
    "mn_vc_american = df_american['violation count'].min()\n",
    "\n",
    "r_hs_ethnic = mx_hs_ethnic - mn_hs_ethnic\n",
    "r_vc_ethnic = mx_vc_ethnic - mn_vc_ethnic\n",
    "r_hs_american = mx_hs_american - mn_hs_american\n",
    "r_vc_american = mx_vc_american - mn_vc_american\n",
    "\n",
    "data_hs = { 'AHS': ['ethnic', 'american'],\n",
    "            'Mean': [m_hs_ethnic, m_hs_american],\n",
    "            'Max': [mx_hs_ethnic, mx_hs_american],\n",
    "            'Min': [mn_hs_ethnic, mn_hs_american],\n",
    "            'Range': [r_hs_ethnic, r_hs_american] }\n",
    "\n",
    "data_vc = { 'AVC': ['ethnic', 'american'],\n",
    "            'Mean': [m_vc_ethnic, m_vc_american],\n",
    "            'Max': [mx_vc_ethnic, mx_vc_american],\n",
    "            'Min': [mn_vc_ethnic, mn_vc_american],\n",
    "            'Range': [r_vc_ethnic, r_vc_american] }\n",
    "\n",
    "df_hs = pd.DataFrame(data=data_hs).set_index(['AHS'])\n",
    "df_vc = pd.DataFrame(data=data_vc).set_index(['AVC'])\n",
    "df_hs"
   ]
  },
  {
   "cell_type": "code",
   "execution_count": 26,
   "metadata": {
    "scrolled": true
   },
   "outputs": [
    {
     "data": {
      "text/html": [
       "<div>\n",
       "<style scoped>\n",
       "    .dataframe tbody tr th:only-of-type {\n",
       "        vertical-align: middle;\n",
       "    }\n",
       "\n",
       "    .dataframe tbody tr th {\n",
       "        vertical-align: top;\n",
       "    }\n",
       "\n",
       "    .dataframe thead th {\n",
       "        text-align: right;\n",
       "    }\n",
       "</style>\n",
       "<table border=\"1\" class=\"dataframe\">\n",
       "  <thead>\n",
       "    <tr style=\"text-align: right;\">\n",
       "      <th></th>\n",
       "      <th>Mean</th>\n",
       "      <th>Max</th>\n",
       "      <th>Min</th>\n",
       "      <th>Range</th>\n",
       "    </tr>\n",
       "    <tr>\n",
       "      <th>AVC</th>\n",
       "      <th></th>\n",
       "      <th></th>\n",
       "      <th></th>\n",
       "      <th></th>\n",
       "    </tr>\n",
       "  </thead>\n",
       "  <tbody>\n",
       "    <tr>\n",
       "      <th>ethnic</th>\n",
       "      <td>78.659919</td>\n",
       "      <td>358</td>\n",
       "      <td>2</td>\n",
       "      <td>356</td>\n",
       "    </tr>\n",
       "    <tr>\n",
       "      <th>american</th>\n",
       "      <td>50.209184</td>\n",
       "      <td>216</td>\n",
       "      <td>1</td>\n",
       "      <td>215</td>\n",
       "    </tr>\n",
       "  </tbody>\n",
       "</table>\n",
       "</div>"
      ],
      "text/plain": [
       "               Mean  Max  Min  Range\n",
       "AVC                                 \n",
       "ethnic    78.659919  358    2    356\n",
       "american  50.209184  216    1    215"
      ]
     },
     "execution_count": 26,
     "metadata": {},
     "output_type": "execute_result"
    }
   ],
   "source": [
    "df_vc"
   ]
  },
  {
   "cell_type": "markdown",
   "metadata": {},
   "source": [
    "We can see that for average health score, there is a difference in the means. Even though the min for ethnic health score is several points higher than the min for american health score, the mean american health score is still higher. This may indicate a statistically significant difference in health scores.\n",
    "\n",
    "For violation count, this is a drastic difference in means. But its important to note that ranges for both categories are extremely high, which indicates that we may have strong outliers that can make this metric unreliable.\n",
    "\n",
    "Moving forward we will try to determine if there is a statistical difference in health scores between restaurants labelled as ethnic and those that are not."
   ]
  },
  {
   "cell_type": "code",
   "execution_count": 27,
   "metadata": {},
   "outputs": [
    {
     "name": "stdout",
     "output_type": "stream",
     "text": [
      "Ethnic Average Health Scores normally distributed!\n",
      "American Average Health Scores normally distributed!\n"
     ]
    }
   ],
   "source": [
    "ethnic_ahs = df_ethnic['avg. health score'].values\n",
    "american_ahs = df_american['avg. health score'].values\n",
    "\n",
    "st_e, p_e = stats.normaltest(ethnic_ahs)\n",
    "st_a, p_a = stats.normaltest(american_ahs)\n",
    "\n",
    "if(p_e < alpha):\n",
    "    print('Ethnic Average Health Scores normally distributed!')\n",
    "if(p_a < alpha):\n",
    "    print('American Average Health Scores normally distributed!')"
   ]
  },
  {
   "cell_type": "markdown",
   "metadata": {},
   "source": [
    "Since average health scores for both categorical variables are normally distributed, we can proceed to carry out a t-test to see if the difference is statistically significant."
   ]
  },
  {
   "cell_type": "code",
   "execution_count": 28,
   "metadata": {},
   "outputs": [
    {
     "name": "stdout",
     "output_type": "stream",
     "text": [
      "There is a significant difference!\n"
     ]
    }
   ],
   "source": [
    "t_val, p_val = stats.ttest_ind(ethnic_ahs, american_ahs)\n",
    "\n",
    "# Check if statistical test passes significance, using an alpha value of 0.01. This code provided.\n",
    "if p_val < alpha:\n",
    "    print('There is a significant difference!')\n",
    "else:\n",
    "    print('There is NOT a significant difference!')"
   ]
  },
  {
   "cell_type": "markdown",
   "metadata": {},
   "source": [
    "There is a significant difference between restaurants that are labelled as ethnic and ones that aren't in health scores. To go further, we will want to look a bit deeper."
   ]
  },
  {
   "cell_type": "markdown",
   "metadata": {},
   "source": [
    "## Data Analysis (by Locality)\n",
    "We want to see if there's a relationship between the diversity of the locality a restaurant is placed in, and its health inspection statistics.\n",
    "\n",
    "First, we'll do some exploratory visualization to get a feel for the data. We'll plot the two metrics (average health score, and average violation count) against the diversity index."
   ]
  },
  {
   "cell_type": "code",
   "execution_count": 29,
   "metadata": {},
   "outputs": [
    {
     "data": {
      "image/png": "[encoded data removed]",
      "text/plain": [
       "<Figure size 432x288 with 1 Axes>"
      ]
     },
     "metadata": {
      "needs_background": "light"
     },
     "output_type": "display_data"
    }
   ],
   "source": [
    "fig = df_bylocality.plot.scatter(x='diversity index', y='avg. health score', c='DarkRed', s=50)\n",
    "fig.set_title('Relationship Between Locality Diversity and Avg. Health Score')\n",
    "ttl = fig.title\n",
    "ttl.set_position([.5, 1.1])\n",
    "plt.show()"
   ]
  },
  {
   "cell_type": "code",
   "execution_count": 30,
   "metadata": {
    "scrolled": true
   },
   "outputs": [
    {
     "data": {
      "image/png": "[encoded data removed]",
      "text/plain": [
       "<Figure size 432x288 with 1 Axes>"
      ]
     },
     "metadata": {
      "needs_background": "light"
     },
     "output_type": "display_data"
    }
   ],
   "source": [
    "fig = df_bylocality.plot.scatter(x='diversity index', y='avg. violation count', c='DarkBlue', s=50)\n",
    "fig.set_title('Relationship Between Locality Diversity and Avg. Violation Count')\n",
    "ttl = fig.title\n",
    "ttl.set_position([.5, 1.1])\n",
    "plt.show()"
   ]
  },
  {
   "cell_type": "markdown",
   "metadata": {},
   "source": [
    "Just from these visualizations, there doesn't seem to be enough data to conclude a strong relationship between diversity index and average violation count or average health score. We'll carry out a test of normality to see if we can continue."
   ]
  },
  {
   "cell_type": "code",
   "execution_count": 31,
   "metadata": {},
   "outputs": [],
   "source": [
    "bl_ahs = df_bylocality['avg. health score'].values\n",
    "bl_avc = df_bylocality['avg. violation count'].values\n",
    "\n",
    "st_ahs, p_ahs = stats.normaltest(bl_ahs)\n",
    "st_avc, p_avc = stats.normaltest(bl_avc)\n",
    "\n",
    "if(p_ahs < alpha):\n",
    "    print('Average Health Score Normally Distributed!')\n",
    "if(p_avc < alpha):\n",
    "    print('Average Violation Count Normally Distributed!')"
   ]
  },
  {
   "cell_type": "markdown",
   "metadata": {},
   "source": [
    "The lack of data may contribute to the reason why the data sets fail the normal test. Grouping by locality seems to overaggregate the data, which might significantly skew and statistical conclusions we may reach. Additionally, within the existing data, there seems to be low correlation between diversity index and our health statistics."
   ]
  },
  {
   "cell_type": "code",
   "execution_count": 32,
   "metadata": {},
   "outputs": [
    {
     "data": {
      "text/html": [
       "<div>\n",
       "<style scoped>\n",
       "    .dataframe tbody tr th:only-of-type {\n",
       "        vertical-align: middle;\n",
       "    }\n",
       "\n",
       "    .dataframe tbody tr th {\n",
       "        vertical-align: top;\n",
       "    }\n",
       "\n",
       "    .dataframe thead th {\n",
       "        text-align: right;\n",
       "    }\n",
       "</style>\n",
       "<table border=\"1\" class=\"dataframe\">\n",
       "  <thead>\n",
       "    <tr style=\"text-align: right;\">\n",
       "      <th></th>\n",
       "      <th>avg. health score</th>\n",
       "      <th>avg. violation count</th>\n",
       "    </tr>\n",
       "    <tr>\n",
       "      <th></th>\n",
       "      <th></th>\n",
       "      <th></th>\n",
       "    </tr>\n",
       "  </thead>\n",
       "  <tbody>\n",
       "    <tr>\n",
       "      <th>diversity index</th>\n",
       "      <td>-0.022842</td>\n",
       "      <td>-0.004466</td>\n",
       "    </tr>\n",
       "  </tbody>\n",
       "</table>\n",
       "</div>"
      ],
      "text/plain": [
       "                 avg. health score  avg. violation count\n",
       "                                                        \n",
       "diversity index          -0.022842             -0.004466"
      ]
     },
     "execution_count": 32,
     "metadata": {},
     "output_type": "execute_result"
    }
   ],
   "source": [
    "df_bylocality.corr(method ='pearson').drop(['avg. health score', 'avg. violation count'], axis=0).drop(columns=['diversity index'])"
   ]
  },
  {
   "cell_type": "markdown",
   "metadata": {},
   "source": [
    "## Data Analysis (by Restaurant)\n",
    "We can look instead at the dataset which assigned a diversity index to a restaurant based on the diversity index of the locality it is placed in. This data set does not suffer from the over aggregation of the `df_bylocality` data set.\n",
    "\n",
    "First, we'll do some exploratory visualization to get a feel for the data. We'll plot the two metrics (average health score, and average violation count) against the diversity index."
   ]
  },
  {
   "cell_type": "code",
   "execution_count": 33,
   "metadata": {},
   "outputs": [
    {
     "data": {
      "text/html": [
       "<div>\n",
       "<style scoped>\n",
       "    .dataframe tbody tr th:only-of-type {\n",
       "        vertical-align: middle;\n",
       "    }\n",
       "\n",
       "    .dataframe tbody tr th {\n",
       "        vertical-align: top;\n",
       "    }\n",
       "\n",
       "    .dataframe thead th {\n",
       "        text-align: right;\n",
       "    }\n",
       "</style>\n",
       "<table border=\"1\" class=\"dataframe\">\n",
       "  <thead>\n",
       "    <tr style=\"text-align: right;\">\n",
       "      <th></th>\n",
       "      <th>avg. health score</th>\n",
       "      <th>violation count</th>\n",
       "    </tr>\n",
       "  </thead>\n",
       "  <tbody>\n",
       "    <tr>\n",
       "      <th>diversity index</th>\n",
       "      <td>-0.001835</td>\n",
       "      <td>-0.04096</td>\n",
       "    </tr>\n",
       "  </tbody>\n",
       "</table>\n",
       "</div>"
      ],
      "text/plain": [
       "                 avg. health score  violation count\n",
       "diversity index          -0.001835         -0.04096"
      ]
     },
     "execution_count": 33,
     "metadata": {},
     "output_type": "execute_result"
    }
   ],
   "source": [
    "df_byrestaurant.corr(method ='pearson').drop(['avg. health score', 'violation count'], axis=0).drop(columns=['diversity index'])"
   ]
  },
  {
   "cell_type": "markdown",
   "metadata": {},
   "source": [
    "Off the bat there seems to be very weak correlation between diversity index and our health statistic. We can look at some visuals to understand this better."
   ]
  },
  {
   "cell_type": "code",
   "execution_count": 34,
   "metadata": {},
   "outputs": [
    {
     "data": {
      "image/png": "[encoded data removed]",
      "text/plain": [
       "<Figure size 432x288 with 1 Axes>"
      ]
     },
     "metadata": {
      "needs_background": "light"
     },
     "output_type": "display_data"
    }
   ],
   "source": [
    "fig = df_byrestaurant.plot.scatter(x='diversity index', y='avg. health score', c='DarkRed', s=10)\n",
    "fig.set_title('Relationship Between Locality Diversity and Avg. Health Score')\n",
    "ttl = fig.title\n",
    "ttl.set_position([.5, 1.1])\n",
    "plt.show()"
   ]
  },
  {
   "cell_type": "code",
   "execution_count": 35,
   "metadata": {},
   "outputs": [
    {
     "data": {
      "image/png": "[encoded data removed]",
      "text/plain": [
       "<Figure size 432x288 with 1 Axes>"
      ]
     },
     "metadata": {
      "needs_background": "light"
     },
     "output_type": "display_data"
    }
   ],
   "source": [
    "fig = df_byrestaurant.plot.scatter(x='diversity index', y='violation count', c='DarkBlue', s=10)\n",
    "fig.set_title('Relationship Between Locality Diversity and Violation Count')\n",
    "ttl = fig.title\n",
    "ttl.set_position([.5, 1.1])\n",
    "plt.show()"
   ]
  },
  {
   "cell_type": "markdown",
   "metadata": {},
   "source": [
    "We can see in the plots above that there does not seem to be a clear visual relationship between diversity index and violation count at all, and therefore we cannot carry out linear regression to measure their relationship any further."
   ]
  },
  {
   "cell_type": "markdown",
   "metadata": {},
   "source": [
    "## Results\n",
    "\n",
    "From this analysis, we can see there is no clear relationship between diversity index and critical health statistics. "
   ]
  },
  {
   "cell_type": "markdown",
   "metadata": {},
   "source": [
    "# Ethics & Privacy\n",
    "The ethics and privacy related to data collection is depends on the data sets. On the data sets provided with the final, it is unknown how this data was collected. The uszips data set contains no personally identifying information and contains exclusively public data. The demographic data was gathered from the census all of the collected data has already been made public.\n",
    "\n",
    "Since this question potentially relates to the equity of health inspections in major cities, it is important to consider its potential effects. If the stated hypothesis is true, the relationships defined in the research might point local governments to inequities in food safety education, the conduct of health inspection, and even the demographics of the institutions carrying out the health inspections.\n",
    "\n",
    "I was not able to confirm my hypothesis, but the analysis did show a discrepancy in health scores given between restaurants labelled as 'ethnic' versus those that weren't. This has potential implications on the way local health inspectors carry out inspections. \n",
    "\n",
    "It is important to note that there was significantly more data on restaurants not labelled as 'ethnic'. This may introduce biases that may have led us to conclude that there was a larger difference in mean health scores between the two groups than there actually were.\n",
    "\n",
    "Finally, the final data sets used to carry out the analysis contained to personally identifying information, nor information that could allow people to associate a restaurant with its health inspection records."
   ]
  },
  {
   "cell_type": "markdown",
   "metadata": {},
   "source": [
    "# Conclusion & Discussion"
   ]
  },
  {
   "cell_type": "markdown",
   "metadata": {},
   "source": [
    "From this data analysis, we can reject our hypothesis that health ratings in localities with more ethnic diversity than will be lower than those with less ethnic diversity, since there is no clear linear relationship between our measure of diversity and our health statistics.\n",
    "\n",
    "My analysis was limited, since there was not enough enough localities included in the study to carry out statistical analysis on the locality level. Since diversity information could not be generated on the individual restaurant level, our data suffered from binning which may have prevented more complete analysis.\n",
    "\n",
    "I did find however, that there is statistically significant difference between the mean health scores for a restaurant and whether or not it is a restaurant that serves American foods. On average, restaurants that served ethnic foods were given lower health scores and on average received more health violations.\n",
    "\n",
    "It is important to understand why this difference occurs. Is the health inspection process equitable, or is it overpenalizing restaurants that sell ethnic foods? Additionally, is there a need to overcome barriers in language and/or increase levels of food safety education? Further analysis will be needed to determine this."
   ]
  }
 ],
 "metadata": {
  "kernelspec": {
   "display_name": "Python 3",
   "language": "python",
   "name": "python3"
  },
  "language_info": {
   "codemirror_mode": {
    "name": "ipython",
    "version": 3
   },
   "file_extension": ".py",
   "mimetype": "text/x-python",
   "name": "python",
   "nbconvert_exporter": "python",
   "pygments_lexer": "ipython3",
   "version": "3.7.6"
  }
 },
 "nbformat": 4,
 "nbformat_minor": 4
}
