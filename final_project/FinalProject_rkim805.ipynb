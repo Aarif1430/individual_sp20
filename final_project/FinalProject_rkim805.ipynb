{
 "cells": [
  {
   "cell_type": "markdown",
   "metadata": {},
   "source": [
    "# COGS 108 - Final Project "
   ]
  },
  {
   "cell_type": "markdown",
   "metadata": {},
   "source": [
    "# Overview"
   ]
  },
  {
   "cell_type": "markdown",
   "metadata": {},
   "source": [
    "This project uses a K-Nearest Neighbors and Radius Nearest Neighbors approach to see if geographical location and the number of previous locations could predict if a food establishment was higher risk for Wake County, North Carolina. Three models were built: one for spatial data, one for the previous number of locations, and one which combined the data. None of the models showed significant predictive power over a null model. It can be concluded that the geographic location of a food establishment and its past violations do not have enough predictive power on their own to be an accurate predictor for high risk establishments."
   ]
  },
  {
   "cell_type": "markdown",
   "metadata": {},
   "source": [
    "# Name & GitHub\n",
    "\n",
    "- Name: Ryan Kim\n",
    "- GitHub Username: rkim805"
   ]
  },
  {
   "cell_type": "markdown",
   "metadata": {},
   "source": [
    "# Research Question"
   ]
  },
  {
   "cell_type": "markdown",
   "metadata": {},
   "source": [
    "Is it possible to predict if a restaurant is high risk(At least two critical violations) with location being a primary predictor? Is it a better predictor than the previous number of violations a restaurant has made?"
   ]
  },
  {
   "cell_type": "markdown",
   "metadata": {},
   "source": [
    "## Background and Prior Work"
   ]
  },
  {
   "cell_type": "markdown",
   "metadata": {},
   "source": [
    "Restaurants are the greatest source of food-borne illness in the United States (1). The goal of public health inspection is to minimize the sources of food-borne illness. North Carolina Food Code indicates that critical violations are grounds for re-examination within the next 10 days, where permits are revoked if critical violations are not handled (2).\n",
    "\n",
    "Critical health inspection violations are those which are more likely to contribute to food-borne illness. Examples of such violations are (2):\n",
    "- Unapproved food sources \n",
    "- Poor employee hygiene\n",
    "- Improper cooking temperature of foods\n",
    "- Heavy vermin infestation\n",
    "\n",
    "Non-critical health inspection violations are those that are unlikely to pose a risk to public health. Examples of such violations are (2): \n",
    "- Dirty floors/countertops\n",
    "- Infrastructure in poor repair\n",
    "- Light vermin infestation\n",
    "\n",
    "This project seeks to predict whether or not a restauraunt is considered to be high risk from it's geographic location, using a machine learning approach. Similar types of food establishments may be more likely to have critical violations. In addition, there may be other ecological effects such as neighborhood income that may allow geospatial analysis to act as a predictor for critical violations.\n",
    "\n",
    "\"High risk\" will be defined as a health inspection that has found at least two critical violations. This catagorization will be used throughout the project, and \"higher risk\" will be used interchangably with at least two critical violations.\n",
    "\n",
    "An experimental machine learning approach is being developed in order to evaluate food safety by Harvard and Yale named FINDER, which seeks to re-evaluate the current standards by which food safety is measured. Predictions made by FINDER are \"3.1 times as likely to be deemed unsafe during the inspection as restaurants identified by existing methods\" (3). It uses location data as part of it's ability to track real-time food-borne illness. This implies that location will certainly help as a predictor for critical health inspection violations. This project seeks only to measure predictors based off of current standards -- these standards will likely drastically change over time as data driven methods are put into practice. \n",
    "\n",
    "\n",
    "References (include links):\n",
    "- 1) http://www.foodprotection.org/files/food-protection-trends/MarApr-14-Burke-Manes.pdf\n",
    "- 2) http://www.wakegov.com/food/healthinspections/rules/Documents/NC%20Food%20Code%20Manual%202009%20FINAL.pdf\n",
    "- 3) https://www.nature.com/articles/s41746-018-0045-1"
   ]
  },
  {
   "cell_type": "markdown",
   "metadata": {},
   "source": [
    "# Hypothesis\n"
   ]
  },
  {
   "cell_type": "markdown",
   "metadata": {},
   "source": [
    "I believe that area will be a significant predictor(accuracy >85%) for violations with high levels of risk. Certain types of restaurants may have a higher chance of having critical violations, and the same types of restaurants are often clustered together. However, I believe that the previous number of critical and non-critical violations made will be able to predict high levels of risk more accurately(accuracy >90%)."
   ]
  },
  {
   "cell_type": "markdown",
   "metadata": {},
   "source": [
    "# Dataset(s)"
   ]
  },
  {
   "cell_type": "markdown",
   "metadata": {},
   "source": [
    "- Dataset Name: inspections.csv\n",
    "- Link to the dataset: https://github.com/rkim805/Projects/blob/master/inspections.csv\n",
    "- Number of observations: 18466\n",
    "\n",
    "Dataset containing information about various health inspections made in Wake County, including phone number, location, name of the health inspector/establishment, etc. Relevant data used are geospatial coordinates for each food establishment, whether an inspection was deemed critical(>1 critical violations made), and the number of previous critical/non-critical violations.\n",
    "\n",
    "- Dataset Name: NC_ZIPCODES.geojson\n",
    "- Link to the dataset: https://data-ral.opendata.arcgis.com/datasets/Wake::zip-codes\n",
    "- Number of observations: 66\n",
    "\n",
    "GeoJSON dataset used containing data to draw boundaries and show data distributions geographically for Wake County.\n",
    "\n",
    "The inpsections dataset will be combined with the GeoJSON data in order visualize geographic distributions of our data, in order to observe spatial relationships and distributions."
   ]
  },
  {
   "cell_type": "markdown",
   "metadata": {},
   "source": [
    "# Setup"
   ]
  },
  {
   "cell_type": "code",
   "execution_count": 374,
   "metadata": {},
   "outputs": [
    {
     "name": "stdout",
     "output_type": "stream",
     "text": [
      "Requirement already satisfied: geopandas in /home/rhk021/.local/lib/python3.6/site-packages (0.7.0)\n",
      "Requirement already satisfied: fiona in /home/rhk021/.local/lib/python3.6/site-packages (from geopandas) (1.8.13.post1)\n",
      "Requirement already satisfied: pandas>=0.23.0 in /opt/conda/lib/python3.6/site-packages (from geopandas) (0.25.2)\n",
      "Requirement already satisfied: pyproj>=2.2.0 in /home/rhk021/.local/lib/python3.6/site-packages (from geopandas) (2.6.1.post1)\n",
      "Requirement already satisfied: shapely in /home/rhk021/.local/lib/python3.6/site-packages (from geopandas) (1.7.0)\n",
      "Requirement already satisfied: cligj>=0.5 in /home/rhk021/.local/lib/python3.6/site-packages (from fiona->geopandas) (0.5.0)\n",
      "Requirement already satisfied: click-plugins>=1.0 in /home/rhk021/.local/lib/python3.6/site-packages (from fiona->geopandas) (1.1.1)\n",
      "Requirement already satisfied: six>=1.7 in /opt/conda/lib/python3.6/site-packages (from fiona->geopandas) (1.12.0)\n",
      "Requirement already satisfied: click<8,>=4.0 in /home/rhk021/.local/lib/python3.6/site-packages (from fiona->geopandas) (7.1.2)\n",
      "Requirement already satisfied: munch in /home/rhk021/.local/lib/python3.6/site-packages (from fiona->geopandas) (2.5.0)\n",
      "Requirement already satisfied: attrs>=17 in /opt/conda/lib/python3.6/site-packages (from fiona->geopandas) (18.2.0)\n",
      "Requirement already satisfied: pytz>=2017.2 in /opt/conda/lib/python3.6/site-packages (from pandas>=0.23.0->geopandas) (2018.7)\n",
      "Requirement already satisfied: numpy>=1.13.3 in /opt/conda/lib/python3.6/site-packages (from pandas>=0.23.0->geopandas) (1.17.3)\n",
      "Requirement already satisfied: python-dateutil>=2.6.1 in /opt/conda/lib/python3.6/site-packages (from pandas>=0.23.0->geopandas) (2.7.5)\n",
      "Requirement already satisfied: shapely in /home/rhk021/.local/lib/python3.6/site-packages (1.7.0)\n",
      "Requirement already satisfied: descartes in /home/rhk021/.local/lib/python3.6/site-packages (1.1.0)\n",
      "Requirement already satisfied: matplotlib in /opt/conda/lib/python3.6/site-packages (from descartes) (3.1.1)\n",
      "Requirement already satisfied: pyparsing!=2.0.4,!=2.1.2,!=2.1.6,>=2.0.1 in /opt/conda/lib/python3.6/site-packages (from matplotlib->descartes) (2.3.0)\n",
      "Requirement already satisfied: numpy>=1.11 in /opt/conda/lib/python3.6/site-packages (from matplotlib->descartes) (1.17.3)\n",
      "Requirement already satisfied: kiwisolver>=1.0.1 in /opt/conda/lib/python3.6/site-packages (from matplotlib->descartes) (1.0.1)\n",
      "Requirement already satisfied: python-dateutil>=2.1 in /opt/conda/lib/python3.6/site-packages (from matplotlib->descartes) (2.7.5)\n",
      "Requirement already satisfied: cycler>=0.10 in /opt/conda/lib/python3.6/site-packages (from matplotlib->descartes) (0.10.0)\n",
      "Requirement already satisfied: setuptools in /opt/conda/lib/python3.6/site-packages (from kiwisolver>=1.0.1->matplotlib->descartes) (40.6.3)\n",
      "Requirement already satisfied: six>=1.5 in /opt/conda/lib/python3.6/site-packages (from python-dateutil>=2.1->matplotlib->descartes) (1.12.0)\n"
     ]
    }
   ],
   "source": [
    "!pip install --user geopandas\n",
    "!pip install --user shapely\n",
    "!pip install --user descartes\n",
    "\n",
    "import matplotlib.pyplot as plt\n",
    "import seaborn as sns\n",
    "plt.rcParams['figure.figsize'] = (13, 7)\n",
    "\n",
    "#used to create legend for geographical distribution\n",
    "import matplotlib.patches as mpatches\n",
    "\n",
    "import numpy as np\n",
    "import pandas as pd\n",
    "import numpy as np\n",
    "\n",
    "import sklearn.neighbors as skn\n",
    "import sklearn.metrics as skm\n",
    "\n",
    "import warnings\n",
    "warnings.filterwarnings('ignore')\n",
    "\n",
    "import geopandas as gpd\n",
    "import shapely.geometry as shp"
   ]
  },
  {
   "cell_type": "markdown",
   "metadata": {},
   "source": [
    "# Data Cleaning"
   ]
  },
  {
   "cell_type": "markdown",
   "metadata": {},
   "source": [
    "### Checking for Invalid Location Data\n",
    "\n",
    "The dataframe is loaded from the linked .csv data. The data is well formatted for a GeoDataFrame. We check to see if there are any outstanding values for our geolocation data."
   ]
  },
  {
   "cell_type": "code",
   "execution_count": 541,
   "metadata": {
    "scrolled": false
   },
   "outputs": [
    {
     "data": {
      "text/plain": [
       "0"
      ]
     },
     "execution_count": 541,
     "metadata": {},
     "output_type": "execute_result"
    }
   ],
   "source": [
    "df_inspec = pd.read_csv('data/inspections.csv')\n",
    "NC = gpd.read_file('data/NC_ZIPCODES.geojson')\n",
    "\n",
    "NullValues = df_inspec[df_inspec['x'] == np.nan]\n",
    "NullValues.size"
   ]
  },
  {
   "cell_type": "code",
   "execution_count": 542,
   "metadata": {},
   "outputs": [
    {
     "data": {
      "text/plain": [
       "0"
      ]
     },
     "execution_count": 542,
     "metadata": {},
     "output_type": "execute_result"
    }
   ],
   "source": [
    "NullValues = df_inspec[df_inspec['y'] == np.nan]\n",
    "NullValues.size"
   ]
  },
  {
   "cell_type": "markdown",
   "metadata": {},
   "source": [
    "No null data -- we then check to see if there are any data with coordinates that would not belong to Wake County instead, but we have none. The GeoJSON file should be clean and accurately map Wake County."
   ]
  },
  {
   "cell_type": "code",
   "execution_count": 543,
   "metadata": {},
   "outputs": [
    {
     "data": {
      "text/plain": [
       "0"
      ]
     },
     "execution_count": 543,
     "metadata": {},
     "output_type": "execute_result"
    }
   ],
   "source": [
    "XBoundary = df_inspec[df_inspec['x'] > -78]\n",
    "XBoundary.size"
   ]
  },
  {
   "cell_type": "code",
   "execution_count": 544,
   "metadata": {},
   "outputs": [
    {
     "data": {
      "text/plain": [
       "0"
      ]
     },
     "execution_count": 544,
     "metadata": {},
     "output_type": "execute_result"
    }
   ],
   "source": [
    "XBoundary = df_inspec[df_inspec['x'] < -79]\n",
    "XBoundary.size"
   ]
  },
  {
   "cell_type": "code",
   "execution_count": 545,
   "metadata": {},
   "outputs": [
    {
     "data": {
      "text/plain": [
       "0"
      ]
     },
     "execution_count": 545,
     "metadata": {},
     "output_type": "execute_result"
    }
   ],
   "source": [
    "YBoundary = df_inspec[df_inspec['y'] < 35]\n",
    "YBoundary.size"
   ]
  },
  {
   "cell_type": "code",
   "execution_count": 546,
   "metadata": {},
   "outputs": [
    {
     "data": {
      "text/plain": [
       "0"
      ]
     },
     "execution_count": 546,
     "metadata": {},
     "output_type": "execute_result"
    }
   ],
   "source": [
    "YBoundary = df_inspec[df_inspec['y'] > 36.5]\n",
    "YBoundary.size"
   ]
  },
  {
   "cell_type": "markdown",
   "metadata": {},
   "source": [
    "### Data Selection and Formatting\n",
    "Relevant variables from the data are selected -- including previous inspection violations and whether or not the inspection considered a restaurant high risk.\n",
    "\n",
    "The original \"critical\" column in the dataset references inspections with at least one critical violation. For the purposes of this project, we defined \"high risk\" as having at least two critical health violations, so we change the critical column to encode '1' as having at least two critical violations, and '0' as having 1 or less critical violations,\n",
    "\n",
    "The x and y coordinates are transformed into a Shapely object. We transform our df_inspec DataFrame into a GeoDataFrame named df. This is done to be able to view in order to perform geospatial analysis later on.\n",
    "\n",
    "We then load in a .geojson for Wake County in order to use it as a base plot for our data later.\n",
    "\n",
    "\n",
    "After data selection, we check to see if any of our relevant data has any null values."
   ]
  },
  {
   "cell_type": "code",
   "execution_count": 547,
   "metadata": {},
   "outputs": [
    {
     "data": {
      "text/html": [
       "<div>\n",
       "<style scoped>\n",
       "    .dataframe tbody tr th:only-of-type {\n",
       "        vertical-align: middle;\n",
       "    }\n",
       "\n",
       "    .dataframe tbody tr th {\n",
       "        vertical-align: top;\n",
       "    }\n",
       "\n",
       "    .dataframe thead th {\n",
       "        text-align: right;\n",
       "    }\n",
       "</style>\n",
       "<table border=\"1\" class=\"dataframe\">\n",
       "  <thead>\n",
       "    <tr style=\"text-align: right;\">\n",
       "      <th></th>\n",
       "      <th>num_critical_previous</th>\n",
       "      <th>num_non_critical_previous</th>\n",
       "      <th>critical</th>\n",
       "      <th>zip</th>\n",
       "      <th>geometry</th>\n",
       "    </tr>\n",
       "  </thead>\n",
       "  <tbody>\n",
       "    <tr>\n",
       "      <th>0</th>\n",
       "      <td>NaN</td>\n",
       "      <td>NaN</td>\n",
       "      <td>1</td>\n",
       "      <td>27610</td>\n",
       "      <td>POINT (-78.58796 35.78391)</td>\n",
       "    </tr>\n",
       "    <tr>\n",
       "      <th>1</th>\n",
       "      <td>NaN</td>\n",
       "      <td>NaN</td>\n",
       "      <td>0</td>\n",
       "      <td>27610</td>\n",
       "      <td>POINT (-78.54967 35.79199)</td>\n",
       "    </tr>\n",
       "    <tr>\n",
       "      <th>2</th>\n",
       "      <td>NaN</td>\n",
       "      <td>NaN</td>\n",
       "      <td>1</td>\n",
       "      <td>27610</td>\n",
       "      <td>POINT (-78.54796 35.72313)</td>\n",
       "    </tr>\n",
       "    <tr>\n",
       "      <th>3</th>\n",
       "      <td>NaN</td>\n",
       "      <td>NaN</td>\n",
       "      <td>1</td>\n",
       "      <td>27513</td>\n",
       "      <td>POINT (-78.81573 35.79925)</td>\n",
       "    </tr>\n",
       "    <tr>\n",
       "      <th>4</th>\n",
       "      <td>NaN</td>\n",
       "      <td>NaN</td>\n",
       "      <td>1</td>\n",
       "      <td>27597</td>\n",
       "      <td>POINT (-78.29635 35.83129)</td>\n",
       "    </tr>\n",
       "    <tr>\n",
       "      <th>...</th>\n",
       "      <td>...</td>\n",
       "      <td>...</td>\n",
       "      <td>...</td>\n",
       "      <td>...</td>\n",
       "      <td>...</td>\n",
       "    </tr>\n",
       "    <tr>\n",
       "      <th>18461</th>\n",
       "      <td>1.0</td>\n",
       "      <td>4.0</td>\n",
       "      <td>1</td>\n",
       "      <td>27616</td>\n",
       "      <td>POINT (-78.57159 35.86546)</td>\n",
       "    </tr>\n",
       "    <tr>\n",
       "      <th>18462</th>\n",
       "      <td>2.0</td>\n",
       "      <td>5.0</td>\n",
       "      <td>1</td>\n",
       "      <td>27513</td>\n",
       "      <td>POINT (-78.81014 35.79244)</td>\n",
       "    </tr>\n",
       "    <tr>\n",
       "      <th>18463</th>\n",
       "      <td>0.0</td>\n",
       "      <td>2.0</td>\n",
       "      <td>1</td>\n",
       "      <td>27519</td>\n",
       "      <td>POINT (-78.89958 35.85913)</td>\n",
       "    </tr>\n",
       "    <tr>\n",
       "      <th>18464</th>\n",
       "      <td>0.0</td>\n",
       "      <td>3.0</td>\n",
       "      <td>0</td>\n",
       "      <td>27603</td>\n",
       "      <td>POINT (-78.69734 35.66520)</td>\n",
       "    </tr>\n",
       "    <tr>\n",
       "      <th>18465</th>\n",
       "      <td>5.0</td>\n",
       "      <td>8.0</td>\n",
       "      <td>1</td>\n",
       "      <td>27597</td>\n",
       "      <td>POINT (-78.32892 35.84242)</td>\n",
       "    </tr>\n",
       "  </tbody>\n",
       "</table>\n",
       "<p>18466 rows × 5 columns</p>\n",
       "</div>"
      ],
      "text/plain": [
       "       num_critical_previous  num_non_critical_previous  critical    zip  \\\n",
       "0                        NaN                        NaN         1  27610   \n",
       "1                        NaN                        NaN         0  27610   \n",
       "2                        NaN                        NaN         1  27610   \n",
       "3                        NaN                        NaN         1  27513   \n",
       "4                        NaN                        NaN         1  27597   \n",
       "...                      ...                        ...       ...    ...   \n",
       "18461                    1.0                        4.0         1  27616   \n",
       "18462                    2.0                        5.0         1  27513   \n",
       "18463                    0.0                        2.0         1  27519   \n",
       "18464                    0.0                        3.0         0  27603   \n",
       "18465                    5.0                        8.0         1  27597   \n",
       "\n",
       "                         geometry  \n",
       "0      POINT (-78.58796 35.78391)  \n",
       "1      POINT (-78.54967 35.79199)  \n",
       "2      POINT (-78.54796 35.72313)  \n",
       "3      POINT (-78.81573 35.79925)  \n",
       "4      POINT (-78.29635 35.83129)  \n",
       "...                           ...  \n",
       "18461  POINT (-78.57159 35.86546)  \n",
       "18462  POINT (-78.81014 35.79244)  \n",
       "18463  POINT (-78.89958 35.85913)  \n",
       "18464  POINT (-78.69734 35.66520)  \n",
       "18465  POINT (-78.32892 35.84242)  \n",
       "\n",
       "[18466 rows x 5 columns]"
      ]
     },
     "execution_count": 547,
     "metadata": {},
     "output_type": "execute_result"
    }
   ],
   "source": [
    "df = df_inspec[[\"x\", \"y\", \"num_critical_previous\", \n",
    "                \"num_non_critical_previous\", \"critical\", \"zip\", \n",
    "                'num_critical']]\n",
    "\n",
    "#transform critical such that '1' means there are at least 2\n",
    "#critical violations in that inspection\n",
    "df['critical'] = (df['num_critical'] > 1).astype(int)\n",
    "\n",
    "#create polygon used for later mapping\n",
    "shapeObj = gpd.points_from_xy(df.x, df.y)\n",
    "df = gpd.GeoDataFrame(df)\n",
    "df['geometry'] = shapeObj\n",
    "\n",
    "df = df.drop(columns=[\"x\", \"y\", 'num_critical'])\n",
    "df.isna()\n",
    "df"
   ]
  },
  {
   "cell_type": "markdown",
   "metadata": {},
   "source": [
    "We can see we have some null values. Further analysis shows that null values are only in the num_critical previous and num_non_critical_previous. These represent first-time inspections of a food establishment. Our analysis will not capture predictions for these first-time inspections. \n",
    "\n",
    "This should not affect our overall analysis. There are already standards on how quickly new restaurants will be inspected -- we are interested in analyzing inspections of already established restaurants.\n",
    "\n",
    "We check to see if there are any null values after dropping any first-time inspections, and see there are none. The data is now suitably clean enough to be merged with our GeoJSON data."
   ]
  },
  {
   "cell_type": "code",
   "execution_count": 548,
   "metadata": {},
   "outputs": [
    {
     "data": {
      "text/plain": [
       "False"
      ]
     },
     "execution_count": 548,
     "metadata": {},
     "output_type": "execute_result"
    }
   ],
   "source": [
    "df = df[df['num_critical_previous'].notna()]\n",
    "df.isnull().values.any()"
   ]
  },
  {
   "cell_type": "markdown",
   "metadata": {},
   "source": [
    "### Associating Zip Code Related Information with our GeoJSON Data:\n",
    "Viewing zipcodes of our data thus far to see if there are any missing/different values:"
   ]
  },
  {
   "cell_type": "code",
   "execution_count": 549,
   "metadata": {},
   "outputs": [
    {
     "data": {
      "text/plain": [
       "array([27513, 27502, 27511, 27519, 27587, 27610, 27591, 27539, 27597,\n",
       "       27603, 27612, 27616, 27540, 27526, 27615, 27545, 27518, 27529,\n",
       "       27609, 27604, 27607, 27614, 27606, 27571, 27523, 27617, 27608,\n",
       "       27605, 27601, 27613, 27560, 27602, 27520, 27562, 27592, 27695,\n",
       "       27573, 27512, 27628, 27624, 27652, 27709, 27595, 27650, 27596,\n",
       "       27501, 27579, 28145, 27522, 28587])"
      ]
     },
     "execution_count": 549,
     "metadata": {},
     "output_type": "execute_result"
    }
   ],
   "source": [
    "df['zip'].unique()"
   ]
  },
  {
   "cell_type": "code",
   "execution_count": 550,
   "metadata": {},
   "outputs": [
    {
     "data": {
      "text/plain": [
       "array([27601., 27713., 27604., 27587., 27703., 27571., 27545., 27603.,\n",
       "       27522., 27596., 27615., 27616., 27612., 27591., 27609., 27605.,\n",
       "       27502., 27529., 27608., 27610., 27520., 27501., 27613., 27614.,\n",
       "       27518., 27523., 27617., 27597., 27511., 27519., 27513., 27607.,\n",
       "       27606., 27560., 27539., 27526.,    nan, 27562., 27592., 27540.])"
      ]
     },
     "execution_count": 550,
     "metadata": {},
     "output_type": "execute_result"
    }
   ],
   "source": [
    "NC['ZIPNUM'].unique()"
   ]
  },
  {
   "cell_type": "markdown",
   "metadata": {},
   "source": [
    "Zipcodes both files are slightly different. However, we will be using zip code related information to visualize geospacially related distributions. While we will not be able to show all food establishments on our figure, we will be able to show the distributions throughout the areas that our NC dataset has. We primarily want to see geospatial autocorrelation with our data. The missing zip codes should not prevent our ability to see autocorrelation.\n",
    "\n",
    "Our base map(NC) will be joined with the other DataFrame in order to help us represent this distribution."
   ]
  },
  {
   "cell_type": "code",
   "execution_count": 582,
   "metadata": {},
   "outputs": [],
   "source": [
    "#Rename NC in order to merge with other datasets later.\n",
    "NC = NC.rename(columns={'ZIPNUM': 'zip'})"
   ]
  },
  {
   "cell_type": "markdown",
   "metadata": {},
   "source": [
    "We then calculate the percentage of food establishments who are high risk:"
   ]
  },
  {
   "cell_type": "code",
   "execution_count": 552,
   "metadata": {},
   "outputs": [],
   "source": [
    "#Count the number of inspections made for each zip code\n",
    "dfNumViolationsByZip = df.groupby(['zip']).count()['critical']\n",
    "#Count the number of high risk inspections found\n",
    "dfNumCriticalByZip = df.groupby(['zip']).sum()['critical']\n",
    "dfCriticalRate = dfNumCriticalByZip/dfNumViolationsByZip\n",
    "\n",
    "#reset index and rename for later merge\n",
    "dfCriticalRate = dfCriticalRate.reset_index()\n",
    "dfCriticalRate = dfCriticalRate.rename(columns={'critical': 'CriticalRate'})"
   ]
  },
  {
   "cell_type": "markdown",
   "metadata": {},
   "source": [
    "We then merge two sources of data with our GeoJSON data: the perentage of high risk inspections made, number of percentage of families below the poverty threshold."
   ]
  },
  {
   "cell_type": "code",
   "execution_count": 553,
   "metadata": {},
   "outputs": [],
   "source": [
    "#Rename NC in order to merge with other datasets later.\n",
    "NC = NC.rename(columns={'ZIPNUM': 'zip'})\n",
    "NC = NC.merge(dfCriticalRate, on='zip')"
   ]
  },
  {
   "cell_type": "markdown",
   "metadata": {},
   "source": [
    "# Data Analysis & Results"
   ]
  },
  {
   "cell_type": "markdown",
   "metadata": {},
   "source": [
    "### EDA\n",
    "The data consists of: \n",
    "- num_critical_previous: Number of critical violations in the previous inspection\n",
    "- num_non_critical_previous: Number of non-critical violations made in the current inspection\n",
    "- critical: A catagorical value with a binary representation, where '1' represents at least two critical violations in the current inspection(high risk). '0' represents no critical violations.\n",
    "\n",
    "Geometry is used for geospatial analysis -- the points represent the longitude/latitude of the restaurant's location."
   ]
  },
  {
   "cell_type": "code",
   "execution_count": 389,
   "metadata": {},
   "outputs": [
    {
     "data": {
      "text/html": [
       "<div>\n",
       "<style scoped>\n",
       "    .dataframe tbody tr th:only-of-type {\n",
       "        vertical-align: middle;\n",
       "    }\n",
       "\n",
       "    .dataframe tbody tr th {\n",
       "        vertical-align: top;\n",
       "    }\n",
       "\n",
       "    .dataframe thead th {\n",
       "        text-align: right;\n",
       "    }\n",
       "</style>\n",
       "<table border=\"1\" class=\"dataframe\">\n",
       "  <thead>\n",
       "    <tr style=\"text-align: right;\">\n",
       "      <th></th>\n",
       "      <th>num_critical_previous</th>\n",
       "      <th>num_non_critical_previous</th>\n",
       "      <th>critical</th>\n",
       "      <th>zip</th>\n",
       "      <th>geometry</th>\n",
       "    </tr>\n",
       "  </thead>\n",
       "  <tbody>\n",
       "    <tr>\n",
       "      <th>12960</th>\n",
       "      <td>0.0</td>\n",
       "      <td>3.0</td>\n",
       "      <td>0</td>\n",
       "      <td>27615</td>\n",
       "      <td>POINT (-78.60101 35.89311)</td>\n",
       "    </tr>\n",
       "    <tr>\n",
       "      <th>2358</th>\n",
       "      <td>2.0</td>\n",
       "      <td>4.0</td>\n",
       "      <td>1</td>\n",
       "      <td>27591</td>\n",
       "      <td>POINT (-78.41589 35.79772)</td>\n",
       "    </tr>\n",
       "    <tr>\n",
       "      <th>17498</th>\n",
       "      <td>0.0</td>\n",
       "      <td>4.0</td>\n",
       "      <td>0</td>\n",
       "      <td>27606</td>\n",
       "      <td>POINT (-78.73934 35.76696)</td>\n",
       "    </tr>\n",
       "    <tr>\n",
       "      <th>15125</th>\n",
       "      <td>2.0</td>\n",
       "      <td>5.0</td>\n",
       "      <td>0</td>\n",
       "      <td>27519</td>\n",
       "      <td>POINT (-78.90108 35.82060)</td>\n",
       "    </tr>\n",
       "    <tr>\n",
       "      <th>12862</th>\n",
       "      <td>0.0</td>\n",
       "      <td>1.0</td>\n",
       "      <td>1</td>\n",
       "      <td>27526</td>\n",
       "      <td>POINT (-78.77463 35.59446)</td>\n",
       "    </tr>\n",
       "    <tr>\n",
       "      <th>...</th>\n",
       "      <td>...</td>\n",
       "      <td>...</td>\n",
       "      <td>...</td>\n",
       "      <td>...</td>\n",
       "      <td>...</td>\n",
       "    </tr>\n",
       "    <tr>\n",
       "      <th>3696</th>\n",
       "      <td>2.0</td>\n",
       "      <td>2.0</td>\n",
       "      <td>0</td>\n",
       "      <td>27606</td>\n",
       "      <td>POINT (-78.73391 35.74400)</td>\n",
       "    </tr>\n",
       "    <tr>\n",
       "      <th>4427</th>\n",
       "      <td>0.0</td>\n",
       "      <td>5.0</td>\n",
       "      <td>1</td>\n",
       "      <td>27511</td>\n",
       "      <td>POINT (-78.78269 35.77099)</td>\n",
       "    </tr>\n",
       "    <tr>\n",
       "      <th>16788</th>\n",
       "      <td>8.0</td>\n",
       "      <td>9.0</td>\n",
       "      <td>1</td>\n",
       "      <td>27513</td>\n",
       "      <td>POINT (-78.76458 35.82990)</td>\n",
       "    </tr>\n",
       "    <tr>\n",
       "      <th>4884</th>\n",
       "      <td>5.0</td>\n",
       "      <td>8.0</td>\n",
       "      <td>1</td>\n",
       "      <td>27603</td>\n",
       "      <td>POINT (-78.64757 35.78780)</td>\n",
       "    </tr>\n",
       "    <tr>\n",
       "      <th>18004</th>\n",
       "      <td>0.0</td>\n",
       "      <td>5.0</td>\n",
       "      <td>0</td>\n",
       "      <td>27526</td>\n",
       "      <td>POINT (-78.78143 35.59258)</td>\n",
       "    </tr>\n",
       "  </tbody>\n",
       "</table>\n",
       "<p>15421 rows × 5 columns</p>\n",
       "</div>"
      ],
      "text/plain": [
       "       num_critical_previous  num_non_critical_previous  critical    zip  \\\n",
       "12960                    0.0                        3.0         0  27615   \n",
       "2358                     2.0                        4.0         1  27591   \n",
       "17498                    0.0                        4.0         0  27606   \n",
       "15125                    2.0                        5.0         0  27519   \n",
       "12862                    0.0                        1.0         1  27526   \n",
       "...                      ...                        ...       ...    ...   \n",
       "3696                     2.0                        2.0         0  27606   \n",
       "4427                     0.0                        5.0         1  27511   \n",
       "16788                    8.0                        9.0         1  27513   \n",
       "4884                     5.0                        8.0         1  27603   \n",
       "18004                    0.0                        5.0         0  27526   \n",
       "\n",
       "                         geometry  \n",
       "12960  POINT (-78.60101 35.89311)  \n",
       "2358   POINT (-78.41589 35.79772)  \n",
       "17498  POINT (-78.73934 35.76696)  \n",
       "15125  POINT (-78.90108 35.82060)  \n",
       "12862  POINT (-78.77463 35.59446)  \n",
       "...                           ...  \n",
       "3696   POINT (-78.73391 35.74400)  \n",
       "4427   POINT (-78.78269 35.77099)  \n",
       "16788  POINT (-78.76458 35.82990)  \n",
       "4884   POINT (-78.64757 35.78780)  \n",
       "18004  POINT (-78.78143 35.59258)  \n",
       "\n",
       "[15421 rows x 5 columns]"
      ]
     },
     "execution_count": 389,
     "metadata": {},
     "output_type": "execute_result"
    }
   ],
   "source": [
    "df"
   ]
  },
  {
   "cell_type": "markdown",
   "metadata": {},
   "source": [
    "Below are the plots and statistical data from the DataFrame.\n",
    "We can see that both distributions for the previous number of violations are fairly skewed(restuarants with a higher number of violations are much less common). Normalizing the data with the Yeo-Johnson transformation does not create normal distributions within the data, thus a non-parametric approach is taken in order to analyze the data.\n",
    "\n",
    "These plots follow a similarly skewed distrbution. There are restaurants with an outstanding number of critical/non-critical violations(>20 for the former, >30 for the latter), that are many standard deviations away from the mean for each plot. \n",
    "\n",
    "Howver, they are within the expected bounds of an especially poor health inspection, although these are rare, and do not appear to be input errors within the data. Thus, we will keep these values in our training/testing data. Removing the data would involve removing valid data, thus possibly removing information about data on the higher end of the distribution."
   ]
  },
  {
   "cell_type": "code",
   "execution_count": 554,
   "metadata": {},
   "outputs": [
    {
     "data": {
      "image/png": "[encoded data removed]",
      "text/plain": [
       "<Figure size 504x360 with 2 Axes>"
      ]
     },
     "metadata": {
      "needs_background": "light"
     },
     "output_type": "display_data"
    }
   ],
   "source": [
    "fig, (plot1, plot2) = plt.subplots(ncols=2, sharey=True)\n",
    "\n",
    "plt.subplot(1, 2, 1)\n",
    "plot1 = sns.distplot(df[('num_non_critical_previous')], color='blue')\n",
    "plt.subplot(1, 2, 2)\n",
    "plot2 = sns.distplot(df['num_critical_previous'], color='m')\n",
    "plot1.set_ylabel('Percentage of inspections')\n",
    "plot2.set_xlabel('Number of past critical violations')\n",
    "plot1.set_xlabel('Number of past non-critical violations')\n",
    "\n",
    "\n",
    "plot1.set_title('Distribution of the number of Violations across health inspections', loc='left')\n",
    "sns.despine()"
   ]
  },
  {
   "cell_type": "code",
   "execution_count": 555,
   "metadata": {},
   "outputs": [
    {
     "data": {
      "text/html": [
       "<div>\n",
       "<style scoped>\n",
       "    .dataframe tbody tr th:only-of-type {\n",
       "        vertical-align: middle;\n",
       "    }\n",
       "\n",
       "    .dataframe tbody tr th {\n",
       "        vertical-align: top;\n",
       "    }\n",
       "\n",
       "    .dataframe thead th {\n",
       "        text-align: right;\n",
       "    }\n",
       "</style>\n",
       "<table border=\"1\" class=\"dataframe\">\n",
       "  <thead>\n",
       "    <tr style=\"text-align: right;\">\n",
       "      <th></th>\n",
       "      <th>num_critical_previous</th>\n",
       "      <th>num_non_critical_previous</th>\n",
       "      <th>critical</th>\n",
       "      <th>zip</th>\n",
       "    </tr>\n",
       "  </thead>\n",
       "  <tbody>\n",
       "    <tr>\n",
       "      <th>count</th>\n",
       "      <td>15421.000000</td>\n",
       "      <td>15421.000000</td>\n",
       "      <td>15421.000000</td>\n",
       "      <td>15421.000000</td>\n",
       "    </tr>\n",
       "    <tr>\n",
       "      <th>mean</th>\n",
       "      <td>2.922962</td>\n",
       "      <td>5.257052</td>\n",
       "      <td>0.577589</td>\n",
       "      <td>27577.590883</td>\n",
       "    </tr>\n",
       "    <tr>\n",
       "      <th>std</th>\n",
       "      <td>2.831160</td>\n",
       "      <td>3.738389</td>\n",
       "      <td>0.493959</td>\n",
       "      <td>43.521590</td>\n",
       "    </tr>\n",
       "    <tr>\n",
       "      <th>min</th>\n",
       "      <td>0.000000</td>\n",
       "      <td>0.000000</td>\n",
       "      <td>0.000000</td>\n",
       "      <td>27501.000000</td>\n",
       "    </tr>\n",
       "    <tr>\n",
       "      <th>25%</th>\n",
       "      <td>1.000000</td>\n",
       "      <td>3.000000</td>\n",
       "      <td>0.000000</td>\n",
       "      <td>27529.000000</td>\n",
       "    </tr>\n",
       "    <tr>\n",
       "      <th>50%</th>\n",
       "      <td>2.000000</td>\n",
       "      <td>4.000000</td>\n",
       "      <td>1.000000</td>\n",
       "      <td>27603.000000</td>\n",
       "    </tr>\n",
       "    <tr>\n",
       "      <th>75%</th>\n",
       "      <td>4.000000</td>\n",
       "      <td>7.000000</td>\n",
       "      <td>1.000000</td>\n",
       "      <td>27610.000000</td>\n",
       "    </tr>\n",
       "    <tr>\n",
       "      <th>max</th>\n",
       "      <td>23.000000</td>\n",
       "      <td>33.000000</td>\n",
       "      <td>1.000000</td>\n",
       "      <td>28587.000000</td>\n",
       "    </tr>\n",
       "  </tbody>\n",
       "</table>\n",
       "</div>"
      ],
      "text/plain": [
       "       num_critical_previous  num_non_critical_previous      critical  \\\n",
       "count           15421.000000               15421.000000  15421.000000   \n",
       "mean                2.922962                   5.257052      0.577589   \n",
       "std                 2.831160                   3.738389      0.493959   \n",
       "min                 0.000000                   0.000000      0.000000   \n",
       "25%                 1.000000                   3.000000      0.000000   \n",
       "50%                 2.000000                   4.000000      1.000000   \n",
       "75%                 4.000000                   7.000000      1.000000   \n",
       "max                23.000000                  33.000000      1.000000   \n",
       "\n",
       "                zip  \n",
       "count  15421.000000  \n",
       "mean   27577.590883  \n",
       "std       43.521590  \n",
       "min    27501.000000  \n",
       "25%    27529.000000  \n",
       "50%    27603.000000  \n",
       "75%    27610.000000  \n",
       "max    28587.000000  "
      ]
     },
     "execution_count": 555,
     "metadata": {},
     "output_type": "execute_result"
    }
   ],
   "source": [
    "df.describe()"
   ]
  },
  {
   "cell_type": "markdown",
   "metadata": {},
   "source": [
    "The figure below plots the number of inspections that had found no critical violations vs. the number of inspections that found at least 2 critical violations.\n",
    "\n",
    "We can see from the figure below that of food establishmennts were higher risk --  a cause for concern considering critical violations are considered severe enough to cause a license to be revoked if not fixed quickly enough.\n",
    "\n",
    "However, the data does not show any relavant information from a geospatial point of view."
   ]
  },
  {
   "cell_type": "code",
   "execution_count": 556,
   "metadata": {},
   "outputs": [
    {
     "data": {
      "image/png": "[encoded data removed]",
      "text/plain": [
       "<Figure size 504x360 with 1 Axes>"
      ]
     },
     "metadata": {
      "needs_background": "light"
     },
     "output_type": "display_data"
    }
   ],
   "source": [
    "ax = sns.countplot(x='critical', data=df, palette={1: \"red\", 0 : \"cyan\"})\n",
    "ax.set_title('A majority of the restaurants had at least one critical violation', loc='left')\n",
    "ax.set_ylabel('Count')\n",
    "ax.set_xlabel('Risk(High Risk = At Least One Critical Violation)')\n",
    "\n",
    "ax.set_xticklabels(('Low Risk', 'High Risk'));\n",
    "sns.despine()\n",
    "\n",
    "plt.rcParams['figure.figsize'] = (7, 5)"
   ]
  },
  {
   "cell_type": "markdown",
   "metadata": {},
   "source": [
    "\n",
    "\n",
    "The figure below plots all of the inspections on a map of Wake County.\n",
    "\n",
    "From the figure, it is difficult to tell if any boundaries are spatially auto-correlated. We can see that the number of inspections done in our dataset is much greater towards the center of Wake County. The capital of North Carolina, Raleigh, is in the center; some of the larger cities are around the center, so naturally, there are more inspections within those cities."
   ]
  },
  {
   "cell_type": "code",
   "execution_count": 557,
   "metadata": {},
   "outputs": [
    {
     "data": {
      "image/png": "[encoded data removed]",
      "text/plain": [
       "<Figure size 504x360 with 1 Axes>"
      ]
     },
     "metadata": {
      "needs_background": "light"
     },
     "output_type": "display_data"
    }
   ],
   "source": [
    "base = NC.boundary.plot(edgecolor='black')\n",
    "\n",
    "df_critical = df[df['critical'] == 1]\n",
    "df_non_critical = df[df['critical'] == 0]\n",
    "\n",
    "df_non_critical.plot(ax=base, marker='o', color='cyan', markersize=7)\n",
    "df_critical.plot(ax=base, marker='+', color='red', markersize=7)\n",
    "\n",
    "red_patch = mpatches.Patch(color='red', label='Critical')\n",
    "blue_patch = mpatches.Patch(color='cyan', label='Non-Critical')\n",
    "plt.legend(handles=[red_patch, blue_patch])\n",
    "\n",
    "ax.set_ylabel('Latitude')\n",
    "ax.set_xlabel('Longitude')\n",
    "base.set_title(\"Distribution of critical and non-critical health inspections in Wake County\", loc='left')\n",
    "sns.despine()"
   ]
  },
  {
   "cell_type": "markdown",
   "metadata": {},
   "source": [
    "It was difficult to find any underlying patterns in the figure above -- so a choropleth map seems fitting in order to help find any distributions throughout the regions of North Carolina. \n",
    "\n",
    "The below figure is a choropleth map that shows the percentage of restaurants that are higher risk.\n",
    "\n",
    "It is important to note that although there appears to be an area with 100% high risk inspection areas, they are areas in which our data had low numbers of inspections, as seen in the figure above.\n",
    "\n",
    "It is still difficult to view any effects of spatial autocorrelation in this choropleth. In order to better visualize effects of spatial autocorrelation, we will look at the extremes of our data."
   ]
  },
  {
   "cell_type": "code",
   "execution_count": 584,
   "metadata": {
    "scrolled": true
   },
   "outputs": [
    {
     "data": {
      "image/png": "[encoded data removed]",
      "text/plain": [
       "<Figure size 504x360 with 2 Axes>"
      ]
     },
     "metadata": {
      "needs_background": "light"
     },
     "output_type": "display_data"
    }
   ],
   "source": [
    "clmap = NC.plot(column='CriticalRate', \n",
    "                cmap='OrRd', \n",
    "                legend=True,\n",
    "                legend_kwds={'label': 'Percentage of \"high risk\"',\n",
    "                             'orientation': 'horizontal'})\n",
    "clmap.set_title('Percentage of \"high risk\" inspections in Wake County')\n",
    "sns.despine()"
   ]
  },
  {
   "cell_type": "markdown",
   "metadata": {},
   "source": [
    "We will split our data based off of its median. Any value greater than the median will be considered to be of \"higher\" risk amongst our distribution. Any value less than the median will be considered to be of \"lower\" risk amongst our distribution."
   ]
  },
  {
   "cell_type": "code",
   "execution_count": 559,
   "metadata": {},
   "outputs": [],
   "source": [
    "y = NC['CriticalRate']\n",
    "yb = y > y.median()\n",
    "labels = [\"0 Low\", \"1 High\"]\n",
    "yb = [labels[i] for i in 1*yb]\n",
    "NC['yb'] = yb"
   ]
  },
  {
   "cell_type": "markdown",
   "metadata": {},
   "source": [
    "After splitting our distribution using one hot encoding, we are able to see clear geospatial correlation. We still have the areas with low amounts of inspections, but even within the areas with large amounts of inspections, there is clear autospatial correlation, a good sign that geospatial data can help to predict whether or not a restaurant has at least two critical violations."
   ]
  },
  {
   "cell_type": "code",
   "execution_count": 560,
   "metadata": {},
   "outputs": [
    {
     "data": {
      "image/png": "[encoded data removed]",
      "text/plain": [
       "<Figure size 504x360 with 1 Axes>"
      ]
     },
     "metadata": {
      "needs_background": "light"
     },
     "output_type": "display_data"
    }
   ],
   "source": [
    "binMap = NC.plot(column='yb', cmap='binary', legend=True, edgecolor='grey')\n",
    "binMap.set_title('Spatial Autocorrelation for low/high critical inspection perecentage', loc='left')\n",
    "sns.despine()"
   ]
  },
  {
   "cell_type": "markdown",
   "metadata": {},
   "source": [
    "### Nearest Neighbors Classification\n",
    "We will use a K-Nearest Neighbors Classifier as our predictor. We are attempting to analyze geospatial data, so an approach that is able to take spatial data into account is mandatory. In addition, the underlying distributions for the number of previous critical/non-critical violations is highly skewed. Attempting to transform the data has lead to distributions that were still not normal, so a non-parametric approach needs to be used.\n",
    "\n",
    "We will train three classifiers. One model using the inspection violations as tge training data, one model using geographical distance, and one model using both. Relevant data is taken from the model and is specified as either a predictor(x) or outcome(y) variable."
   ]
  },
  {
   "cell_type": "code",
   "execution_count": 561,
   "metadata": {},
   "outputs": [],
   "source": [
    "#Select relevant data from our model\n",
    "xLabels = ['num_critical_previous', 'num_critical_previous']\n",
    "X = df[xLabels].values\n",
    "X = X.astype(float)\n",
    "y = df['critical'].values"
   ]
  },
  {
   "cell_type": "markdown",
   "metadata": {},
   "source": [
    "We will also need the spatial coordinates for each inspection:"
   ]
  },
  {
   "cell_type": "code",
   "execution_count": 562,
   "metadata": {},
   "outputs": [],
   "source": [
    "coordinates = np.vstack(df.geometry.apply(lambda p: np.hstack(p.xy)).values)"
   ]
  },
  {
   "cell_type": "markdown",
   "metadata": {},
   "source": [
    "We will now randomize our data and split it into training/testing data, taking an 80/20 split:"
   ]
  },
  {
   "cell_type": "code",
   "execution_count": 571,
   "metadata": {},
   "outputs": [],
   "source": [
    "randomized = np.random.permutation(len(y))\n",
    "num =  int(0.8*len(randomized))\n",
    "train, test = randomized[:num],randomized[num:]"
   ]
  },
  {
   "cell_type": "markdown",
   "metadata": {},
   "source": [
    "Here is where we will train our three models: one based off spatial data alone, one based off of prior violations, and one based off of both:"
   ]
  },
  {
   "cell_type": "code",
   "execution_count": 572,
   "metadata": {},
   "outputs": [],
   "source": [
    "#spatial predictor\n",
    "KNNC = skn.KNeighborsClassifier(weights='distance', n_neighbors=3)\n",
    "spatial = KNNC.fit(coordinates[train,:], y[train])\n",
    "\n",
    "#previous violation predictor\n",
    "KNNC = skn.KNeighborsClassifier(weights='distance', n_neighbors=3)\n",
    "prev = KNNC.fit(X[train,:], y[train])\n",
    "\n",
    "#combined\n",
    "KNNC = skn.KNeighborsClassifier(weights='distance', n_neighbors=3)\n",
    "both = KNNC.fit(np.hstack((coordinates[train,:], \n",
    "                           X[train,:])), y[train])"
   ]
  },
  {
   "cell_type": "markdown",
   "metadata": {},
   "source": [
    "Here, we have our models make our predictions on the training data using our three models."
   ]
  },
  {
   "cell_type": "code",
   "execution_count": 573,
   "metadata": {},
   "outputs": [
    {
     "data": {
      "text/plain": [
       "(0.7034695201037614, 0.6325389105058365, 0.8465466926070039)"
      ]
     },
     "execution_count": 573,
     "metadata": {},
     "output_type": "execute_result"
    }
   ],
   "source": [
    "sp_ypred_train = spatial.predict(coordinates[train,:])\n",
    "prev_ypred_train = prev.predict(X[train,:])\n",
    "both_ypred_train = both.predict(np.hstack((coordinates[train,:], \n",
    "                                           X[train,:])))\n",
    "\n",
    "(skm.accuracy_score(sp_ypred_train, y[train]),\n",
    "skm.accuracy_score(prev_ypred_train, y[train]),\n",
    "skm.accuracy_score(both_ypred_train, y[train]))"
   ]
  },
  {
   "cell_type": "markdown",
   "metadata": {},
   "source": [
    "Here, we do the same tests, increasing the number of neighbors to see what will give the highest accuracy in order to tune our model:"
   ]
  },
  {
   "cell_type": "code",
   "execution_count": 574,
   "metadata": {},
   "outputs": [
    {
     "data": {
      "text/plain": [
       "(0.7306258106355382, 0.6813391699092088, 0.852707522697795)"
      ]
     },
     "execution_count": 574,
     "metadata": {},
     "output_type": "execute_result"
    }
   ],
   "source": [
    "#spatial predictor\n",
    "KNNC = skn.KNeighborsClassifier(weights='distance', n_neighbors=10)\n",
    "spatial2 = KNNC.fit(coordinates[train,:], y[train])\n",
    "\n",
    "#previous violation predictor\n",
    "KNNC = skn.KNeighborsClassifier(weights='distance', n_neighbors=10)\n",
    "prev2 = KNNC.fit(X[train,:], y[train])\n",
    "\n",
    "#combined\n",
    "KNNC = skn.KNeighborsClassifier(weights='distance', n_neighbors=10)\n",
    "both2 = KNNC.fit(np.hstack((coordinates[train,:], \n",
    "                           X[train,:])), y[train])\n",
    "\n",
    "sp_ypred_train2 = spatial2.predict(coordinates[train,:])\n",
    "prev_ypred_train2 = prev2.predict(X[train,:])\n",
    "both_ypred_train2 = both2.predict(np.hstack((coordinates[train,:], \n",
    "                                           X[train,:])))\n",
    "\n",
    "(skm.accuracy_score(sp_ypred_train2, y[train]),\n",
    "skm.accuracy_score(prev_ypred_train2, y[train]),\n",
    "skm.accuracy_score(both_ypred_train2, y[train]))"
   ]
  },
  {
   "cell_type": "code",
   "execution_count": 575,
   "metadata": {},
   "outputs": [
    {
     "data": {
      "text/plain": [
       "(0.7374351491569391, 0.6813391699092088, 0.853112840466926)"
      ]
     },
     "execution_count": 575,
     "metadata": {},
     "output_type": "execute_result"
    }
   ],
   "source": [
    "#spatial predictor\n",
    "KNNC = skn.KNeighborsClassifier(weights='distance', n_neighbors=40)\n",
    "spatial3 = KNNC.fit(coordinates[train,:], y[train])\n",
    "\n",
    "#previous violation predictor\n",
    "KNNC = skn.KNeighborsClassifier(weights='distance', n_neighbors=40)\n",
    "prev3 = KNNC.fit(X[train,:], y[train])\n",
    "\n",
    "#combined\n",
    "KNNC = skn.KNeighborsClassifier(weights='distance', n_neighbors=40)\n",
    "both3 = KNNC.fit(np.hstack((coordinates[train,:], \n",
    "                           X[train,:])), y[train])\n",
    "\n",
    "sp_ypred_train3 = spatial3.predict(coordinates[train,:])\n",
    "prev_ypred_train3 = prev3.predict(X[train,:])\n",
    "both_ypred_train3 = both3.predict(np.hstack((coordinates[train,:], \n",
    "                                           X[train,:])))\n",
    "\n",
    "(skm.accuracy_score(sp_ypred_train3, y[train]),\n",
    "skm.accuracy_score(prev_ypred_train3, y[train]),\n",
    "skm.accuracy_score(both_ypred_train3, y[train]))"
   ]
  },
  {
   "cell_type": "markdown",
   "metadata": {},
   "source": [
    "Increasing the number of neighbors does not appear to greatly affect our predictive power. Our individual factors appear to guess relatively poorly.\n",
    "\n",
    "Our spatial model has an accuracy of 73% at max, and the past number of violations model has an accuracy of 65%. Our model that combines both has an accuracy of 85%.\n",
    "\n",
    " We choose the 3rd model as the one to run against the test data:"
   ]
  },
  {
   "cell_type": "code",
   "execution_count": 576,
   "metadata": {},
   "outputs": [
    {
     "data": {
      "text/plain": [
       "(0.6609400324149108, 0.700162074554295, 0.6612641815235009)"
      ]
     },
     "execution_count": 576,
     "metadata": {},
     "output_type": "execute_result"
    }
   ],
   "source": [
    "sp_ypred = spatial3.predict(coordinates[test,:])\n",
    "prev_ypred = prev3.predict(X[test,:])\n",
    "both_ypred = both3.predict(np.hstack((coordinates[test,:], \n",
    "                                      X[test,:])))\n",
    "\n",
    "(skm.accuracy_score(sp_ypred, y[test]),\n",
    "skm.accuracy_score(prev_ypred, y[test]),\n",
    "skm.accuracy_score(both_ypred, y[test]))"
   ]
  },
  {
   "cell_type": "markdown",
   "metadata": {},
   "source": [
    "All three models end up being able to predict on the test data with an accuracy of 66-70% -- not great.\n",
    "\n",
    "Let us see what a model that simply always predicts 'high risk' will produce, as a null accuracy test. This is equivalent to the percentage of ones found in the data. We can find the number of one's in our outcome variable by simply calculating the mean, since it is only composed of ones and zeros:"
   ]
  },
  {
   "cell_type": "code",
   "execution_count": 578,
   "metadata": {},
   "outputs": [
    {
     "data": {
      "text/plain": [
       "0.5837925445705024"
      ]
     },
     "execution_count": 578,
     "metadata": {},
     "output_type": "execute_result"
    }
   ],
   "source": [
    "nullTestSeries = pd.Series(y[test])\n",
    "nullTestSeries.value_counts()\n",
    "nullTestSeries.mean()"
   ]
  },
  {
   "cell_type": "markdown",
   "metadata": {},
   "source": [
    "A simple model that predicts the more frequent value is able to predict with 58% accuracy. While our models show slightly improved prediction over this null model, they can hardly be called strong predictors.\n",
    "\n",
    "Perhaps the areas with low levels of inspections are skewing our data. We can instead use a radius neighbors classifier approach to attempt to deal with these areas:"
   ]
  },
  {
   "cell_type": "code",
   "execution_count": 579,
   "metadata": {},
   "outputs": [
    {
     "data": {
      "text/plain": [
       "(0.7374351491569391, 0.6813391699092088, 0.853112840466926)"
      ]
     },
     "execution_count": 579,
     "metadata": {},
     "output_type": "execute_result"
    }
   ],
   "source": [
    "#spatial predictor\n",
    "RNC = skn.RadiusNeighborsClassifier(weights='distance', radius=1.0)\n",
    "spatialR = RNC.fit(coordinates[train,:], y[train])\n",
    "\n",
    "#previous violation predictor\n",
    "RNC = skn.RadiusNeighborsClassifier(weights='distance', radius=1.0)\n",
    "prevR = RNC.fit(X[train,:], y[train])\n",
    "\n",
    "#combined\n",
    "RNC = skn.RadiusNeighborsClassifier(weights='distance', radius=1.0)\n",
    "bothR = RNC.fit(np.hstack((coordinates[train,:], \n",
    "                           X[train,:])), y[train])\n",
    "\n",
    "sp_ypred_trainR = spatialR.predict(coordinates[train,:])\n",
    "prev_ypred_trainR = prevR.predict(X[train,:])\n",
    "both_ypred_trainR = bothR.predict(np.hstack((coordinates[train,:], \n",
    "                                           X[train,:])))\n",
    "\n",
    "(skm.accuracy_score(sp_ypred_trainR, y[train]),\n",
    "skm.accuracy_score(prev_ypred_trainR, y[train]),\n",
    "skm.accuracy_score(both_ypred_trainR, y[train]))"
   ]
  },
  {
   "cell_type": "markdown",
   "metadata": {},
   "source": [
    "We appear to get similar prediction values from our training data. Using our test data:"
   ]
  },
  {
   "cell_type": "code",
   "execution_count": 581,
   "metadata": {},
   "outputs": [
    {
     "data": {
      "text/plain": [
       "(0.6606158833063209, 0.700162074554295, 0.6586709886547812)"
      ]
     },
     "execution_count": 581,
     "metadata": {},
     "output_type": "execute_result"
    }
   ],
   "source": [
    "sp_ypred_R = spatialR.predict(coordinates[test,:])\n",
    "prev_ypred_R = prevR.predict(X[test,:])\n",
    "both_ypred_R = bothR.predict(np.hstack((coordinates[test,:], \n",
    "                                           X[test,:])))\n",
    "\n",
    "(skm.accuracy_score(sp_ypred_R, y[test]),\n",
    "skm.accuracy_score(prev_ypred_R, y[test]),\n",
    "skm.accuracy_score(both_ypred_R, y[test]))"
   ]
  },
  {
   "cell_type": "markdown",
   "metadata": {},
   "source": [
    "We again appear to have poor predictive power, even with radius neighbors classifiers. It appears that geographic location is a poor predictor for higher risk inspections. It is possible that adding additional features to our model can create a model that is accurately able to predict higher risk inspections -- but it is clear that location does not achieve significant predictive power by itself.\n",
    "\n",
    "It is also clear that it does not offer any significant power above the previous number of violations, nor does combining the two give more predictive accuracy."
   ]
  },
  {
   "cell_type": "markdown",
   "metadata": {},
   "source": [
    "# Ethics & Privacy"
   ]
  },
  {
   "cell_type": "markdown",
   "metadata": {},
   "source": [
    "This data is made publicly available for use by the Wake County Health Department. This data is inherently publicly available, so ties to certain restaraunts or health inspectors will not leak private information, and it is available for use to everybody. Data was selected to not show information such as an establishment's phone number. Common aspects of data security such as encryption are therefore unneeded to protect the data.\n",
    "\n",
    "There are possible inhererent biases in the dataset that could be present due to biases in the health inspection process(i.e. against certain types of ethnic restaurants being more strictly graded). One of particular concern is that of socioeconomic status. It is possible that health inspectors are harsher with food establishments in areas with high levels of poverty or low levels of income.  Our findings have not found that spatial relations can predict higher risk restaurants, so possible ecological sources of bias can not be interpretted from the model. Thus, there should not be any findings that can be used against lower income neighborhoods in this project. \n",
    "\n",
    "The data is also biased in that many of the inspections found are more likely to be concentrated in the middle of Wake County, where Raleigh is located. The area is more populated, so the machine learning model may favor ecological trends that are found in more populated areas. However, trends found in less populated areas were similar to those found in more populated areas.\n",
    "\n",
    "Because the model shows little predictive power with regards to finding higher risk restaurants, the model shouldn't have the capability to be misinterpreted or abused to extract inequitable information against certain groups."
   ]
  },
  {
   "cell_type": "markdown",
   "metadata": {},
   "source": [
    "# Conclusion & Discussion"
   ]
  },
  {
   "cell_type": "markdown",
   "metadata": {},
   "source": [
    "This project attempted to see if it possible to predict if a restaurant is high risk(At least two critical violations) based off of its location by using supervised machine learning. It also attempted to see if geographical location was a better predictor than the previous number of violations a restaurant has made. The hypothesis was that the location would be a significant predictor(>85% accuracy), but less than accurate than the number of previous violations.\n",
    "\n",
    "Health inspection data from Wake County was used. Relevant data included the number of previous critical/non-critical violations, and a binary variable for whether or not the observation had at least 2 current critical violations. The data showed autospatial correlation in intial exploratory data analysis. The outcome variable was catagorical -- so a Nearest Neighbors/Radius Neighbors approach was taken in order to predict the catagorical outcome.\n",
    "\n",
    "Three models were created for each approach -- a model for only the spatial data, a model based off the previous violation number, and a model using both. Both machine learning approaches failed to show significant amounts of predictive power for all 3 models over a null model that simply predicted high risk every time. Tuning was done for the K nearest neighbors approach, but it did not affect the predictive power noticably. Thus, it was concluded that, while geographic location might be able to be used as an additional feature in a machine learning approach, it does not have enough predictive power on its own, and it was slightly worse at predictions than the previous number of violations model. This project helps to show the relatively weak predictive power of geographical location for higher risk restaurants -- future machine learning projects should be able to use it as an additional feature, but not as a primary predictor."
   ]
  }
 ],
 "metadata": {
  "kernelspec": {
   "display_name": "Python 3",
   "language": "python",
   "name": "python3"
  },
  "language_info": {
   "codemirror_mode": {
    "name": "ipython",
    "version": 3
   },
   "file_extension": ".py",
   "mimetype": "text/x-python",
   "name": "python",
   "nbconvert_exporter": "python",
   "pygments_lexer": "ipython3",
   "version": "3.6.7"
  }
 },
 "nbformat": 4,
 "nbformat_minor": 2
}
