{
 "cells": [
  {
   "cell_type": "markdown",
   "metadata": {},
   "source": [
    "# COGS 108 - Final Project "
   ]
  },
  {
   "cell_type": "markdown",
   "metadata": {},
   "source": [
    "# Overview"
   ]
  },
  {
   "cell_type": "markdown",
   "metadata": {},
   "source": [
    "In this project, I was given data on health inspections, yelp reviews, and geographical and demographical information for food establishments in some county of North Carolina that I deduced is near Raleigh. My goal was to find out if the scores of health inspections within this area were representative of the actual health and safety conditions of the buildings. I worked with the inspections and violations data in my EDA and combined certain aspects to determine if the scores could be informed by the number of violations. To do this, I split up the data by violation type and pointvalue (what I found to be severity) and performed a few regressions to see the relation between score and number of violations."
   ]
  },
  {
   "cell_type": "markdown",
   "metadata": {},
   "source": [
    "# Name & GitHub\n",
    "\n",
    "- Name: John Girardini\n",
    "- GitHub Username: JohnGirardini"
   ]
  },
  {
   "cell_type": "markdown",
   "metadata": {},
   "source": [
    "# Research Question"
   ]
  },
  {
   "cell_type": "markdown",
   "metadata": {},
   "source": [
    "How representative are Health Inspection scores of the actual health and safety conditions of establishments?"
   ]
  },
  {
   "cell_type": "markdown",
   "metadata": {},
   "source": [
    "## Background and Prior Work"
   ]
  },
  {
   "cell_type": "markdown",
   "metadata": {},
   "source": [
    "References (include links):\n",
    "- 1)ABC grading system\n",
    "        -\"A\": score >=90\n",
    "        -\"B\": 80 <= score < 90\n",
    "        -\"C\": score < 80\n",
    "\n",
    "    \n",
    "https://www.sandiegocounty.gov/content/sdc/deh/fhd/ffis/intro.html.html\n",
    "- 2) 'ABC' grading metric for health and safety standards may be misleading according to this article\n",
    "    - As long as they do not add up too high, major and minor violations can stack up before a letter grade is dropped\n",
    "        - 2 mjr+ 1 mnr\n",
    "        - 2 mjr + 2 GRP\n",
    "        - 1 mjr + 3 mnr\n",
    "        - etc.\n",
    "    \n",
    "https://www.nbcsandiego.com/news/local/99-of-san-diego-restaurants-earn-a-grades-bringing-usefulness-of-system-into-question/25381/\n",
    "\n",
    "- 3) North Carolina uses the same \"ABC\" grading System with their health inspections scores\n",
    "    - Everywhere in the US uses this system, according to their website\n",
    "\n",
    "https://www.cga.ct.gov/2005/rpt/2005-R-0403.htm\n",
    "\n",
    "- 4) On the Raleigh County health inspections website, it lists two types of violations:\n",
    "    - critical: has potential to cause foodborne ilness\n",
    "    - non-critical: does not have potential to cause foodborne ilness\n",
    "    - was unable to find anything about the point value system, however my explanation of the point system can be found in the analysis section\n",
    "\n",
    "https://healthspace.com/clients/westvirginia/raleigh/raleigh_web_live.nsf\n",
    "\n"
   ]
  },
  {
   "cell_type": "markdown",
   "metadata": {},
   "source": [
    "# Hypothesis\n"
   ]
  },
  {
   "cell_type": "markdown",
   "metadata": {},
   "source": [
    "In my background research, I found that food establishments can get an 'A' on a health inspection with a few glaring health and safety code violations.\n",
    "I hypothesize that the health inspection scores are not representative enough of the health and safety conditions of food establishments."
   ]
  },
  {
   "cell_type": "markdown",
   "metadata": {},
   "source": [
    "# Dataset(s)"
   ]
  },
  {
   "cell_type": "markdown",
   "metadata": {},
   "source": [
    "- Dataset Name: \"inspections.csv\"\n",
    "- Link to the dataset: https://datahub.ucsd.edu/user/jsgirard/edit/Final_Project/inspections.csv\n",
    "- Number of observations: 18466 rows × 19 columns\n",
    "\n",
    "This dataset contains the details of the health inspections of establishments in a county of North Carolina. It contains information about each individual inspection across different establishments and different dates. The data is a mixture of cateogrical and numerical.\n",
    "\n",
    "- Dataset Name: \"violations.csv\"\n",
    "- Link to the dataset: https://datahub.ucsd.edu/user/jsgirard/edit/Final_Project/violations.csv\n",
    "- Number of observations: 189802 rows x 18 columns\n",
    "\n",
    "This dataset contains information about the individual violations from health inspections that may or may not relate to the inspections dataset. It contains information about each infraction, including things like critical or non-critical and point values. This data set also has both categorical and numerical data types.\n",
    "\n",
    "I plan on combining the individual infractions data to the inspections, differentiating between point-values and critical or non-critical. I think that this will shed some light on the varying weights of individual infractions."
   ]
  },
  {
   "cell_type": "markdown",
   "metadata": {},
   "source": [
    "## Data Limitations"
   ]
  },
  {
   "cell_type": "markdown",
   "metadata": {},
   "source": [
    "The data sets have some limitations that make the analysis incomplete. The inspections data has the total number of violations listed per inspection of both categories. It does not discriminate between the different point values of each violation. I found in my EDA that the violations have different weights based on severity. In order to find these weighted deductions, I had to clean the violations data set and then combine it with the inspections data set."
   ]
  },
  {
   "cell_type": "markdown",
   "metadata": {},
   "source": [
    "# Setup"
   ]
  },
  {
   "cell_type": "code",
   "execution_count": 1,
   "metadata": {},
   "outputs": [],
   "source": [
    "import pandas as pd\n",
    "import seaborn as sns\n",
    "import numpy as np\n",
    "import matplotlib.pylab as plt\n",
    "\n",
    "import patsy\n",
    "import statsmodels.api as sm\n",
    "from statsmodels.graphics.regressionplots import abline_plot"
   ]
  },
  {
   "cell_type": "code",
   "execution_count": 2,
   "metadata": {},
   "outputs": [],
   "source": [
    "df_inspecs = pd.read_csv(\"inspections.csv\")\n",
    "df_viols = pd.read_csv(\"violations.csv\")"
   ]
  },
  {
   "cell_type": "code",
   "execution_count": 3,
   "metadata": {},
   "outputs": [
    {
     "data": {
      "text/html": [
       "<div>\n",
       "<style scoped>\n",
       "    .dataframe tbody tr th:only-of-type {\n",
       "        vertical-align: middle;\n",
       "    }\n",
       "\n",
       "    .dataframe tbody tr th {\n",
       "        vertical-align: top;\n",
       "    }\n",
       "\n",
       "    .dataframe thead th {\n",
       "        text-align: right;\n",
       "    }\n",
       "</style>\n",
       "<table border=\"1\" class=\"dataframe\">\n",
       "  <thead>\n",
       "    <tr style=\"text-align: right;\">\n",
       "      <th></th>\n",
       "      <th>X.objectid</th>\n",
       "      <th>hsisid</th>\n",
       "      <th>inspectdate</th>\n",
       "      <th>category</th>\n",
       "      <th>statecode</th>\n",
       "      <th>critical</th>\n",
       "      <th>questionno</th>\n",
       "      <th>violationcode</th>\n",
       "      <th>severity</th>\n",
       "      <th>shortdesc</th>\n",
       "      <th>inspectedby</th>\n",
       "      <th>comments</th>\n",
       "      <th>pointvalue</th>\n",
       "      <th>observationtype</th>\n",
       "      <th>violationtype</th>\n",
       "      <th>count</th>\n",
       "      <th>cdcriskfactor</th>\n",
       "      <th>cdcdataitem</th>\n",
       "    </tr>\n",
       "  </thead>\n",
       "  <tbody>\n",
       "    <tr>\n",
       "      <th>0</th>\n",
       "      <td>2149</td>\n",
       "      <td>4092015279</td>\n",
       "      <td>2014-09-22T00:00:00.000Z</td>\n",
       "      <td>Chemical</td>\n",
       "      <td>.2653,.2657</td>\n",
       "      <td>Yes</td>\n",
       "      <td>26</td>\n",
       "      <td>7-102.11</td>\n",
       "      <td>Priority Foundation</td>\n",
       "      <td>Toxic substances properly identified, stored, ...</td>\n",
       "      <td>Lucy Schrum</td>\n",
       "      <td>7-102.11; Priority Foundation - Found unlabele...</td>\n",
       "      <td>0</td>\n",
       "      <td>Out</td>\n",
       "      <td>R</td>\n",
       "      <td>NaN</td>\n",
       "      <td>NaN</td>\n",
       "      <td>NaN</td>\n",
       "    </tr>\n",
       "    <tr>\n",
       "      <th>1</th>\n",
       "      <td>2150</td>\n",
       "      <td>4092014572</td>\n",
       "      <td>2014-09-29T00:00:00.000Z</td>\n",
       "      <td>Chemical</td>\n",
       "      <td>.2653,.2657</td>\n",
       "      <td>Yes</td>\n",
       "      <td>26</td>\n",
       "      <td>7-102.11</td>\n",
       "      <td>Priority Foundation</td>\n",
       "      <td>Toxic substances properly identified, stored, ...</td>\n",
       "      <td>Daryl Beasley</td>\n",
       "      <td>7-102.11; Priority Foundation; One sanitizer b...</td>\n",
       "      <td>0</td>\n",
       "      <td>Out</td>\n",
       "      <td>CDI</td>\n",
       "      <td>NaN</td>\n",
       "      <td>NaN</td>\n",
       "      <td>NaN</td>\n",
       "    </tr>\n",
       "    <tr>\n",
       "      <th>2</th>\n",
       "      <td>2151</td>\n",
       "      <td>4092015906</td>\n",
       "      <td>2014-10-01T00:00:00.000Z</td>\n",
       "      <td>Chemical</td>\n",
       "      <td>.2653,.2657</td>\n",
       "      <td>Yes</td>\n",
       "      <td>26</td>\n",
       "      <td>7-102.11</td>\n",
       "      <td>Priority Foundation</td>\n",
       "      <td>Toxic substances properly identified, stored, ...</td>\n",
       "      <td>Lucy Schrum</td>\n",
       "      <td>7-102.11; Priority Foundation - Found an unlab...</td>\n",
       "      <td>1</td>\n",
       "      <td>Out</td>\n",
       "      <td>CDI</td>\n",
       "      <td>NaN</td>\n",
       "      <td>NaN</td>\n",
       "      <td>NaN</td>\n",
       "    </tr>\n",
       "    <tr>\n",
       "      <th>3</th>\n",
       "      <td>2152</td>\n",
       "      <td>4092013840</td>\n",
       "      <td>2014-10-08T00:00:00.000Z</td>\n",
       "      <td>Chemical</td>\n",
       "      <td>.2653,.2657</td>\n",
       "      <td>Yes</td>\n",
       "      <td>26</td>\n",
       "      <td>7-102.11</td>\n",
       "      <td>Priority Foundation</td>\n",
       "      <td>Toxic substances properly identified, stored, ...</td>\n",
       "      <td>Lucy Schrum</td>\n",
       "      <td>7-102.11; Priority Foundation - Found unlabele...</td>\n",
       "      <td>0</td>\n",
       "      <td>Out</td>\n",
       "      <td>CDI</td>\n",
       "      <td>NaN</td>\n",
       "      <td>NaN</td>\n",
       "      <td>NaN</td>\n",
       "    </tr>\n",
       "    <tr>\n",
       "      <th>4</th>\n",
       "      <td>2153</td>\n",
       "      <td>4092021788</td>\n",
       "      <td>2014-10-09T00:00:00.000Z</td>\n",
       "      <td>Chemical</td>\n",
       "      <td>.2653,.2657</td>\n",
       "      <td>Yes</td>\n",
       "      <td>26</td>\n",
       "      <td>7-102.11</td>\n",
       "      <td>Priority Foundation</td>\n",
       "      <td>Toxic substances properly identified, stored, ...</td>\n",
       "      <td>Lucy Schrum</td>\n",
       "      <td>7-102.11; Priority Foundation - Found one unla...</td>\n",
       "      <td>0</td>\n",
       "      <td>Out</td>\n",
       "      <td>CDI</td>\n",
       "      <td>NaN</td>\n",
       "      <td>NaN</td>\n",
       "      <td>NaN</td>\n",
       "    </tr>\n",
       "  </tbody>\n",
       "</table>\n",
       "</div>"
      ],
      "text/plain": [
       "   X.objectid      hsisid               inspectdate  category    statecode  \\\n",
       "0        2149  4092015279  2014-09-22T00:00:00.000Z  Chemical  .2653,.2657   \n",
       "1        2150  4092014572  2014-09-29T00:00:00.000Z  Chemical  .2653,.2657   \n",
       "2        2151  4092015906  2014-10-01T00:00:00.000Z  Chemical  .2653,.2657   \n",
       "3        2152  4092013840  2014-10-08T00:00:00.000Z  Chemical  .2653,.2657   \n",
       "4        2153  4092021788  2014-10-09T00:00:00.000Z  Chemical  .2653,.2657   \n",
       "\n",
       "  critical  questionno violationcode             severity  \\\n",
       "0      Yes          26      7-102.11  Priority Foundation   \n",
       "1      Yes          26      7-102.11  Priority Foundation   \n",
       "2      Yes          26      7-102.11  Priority Foundation   \n",
       "3      Yes          26      7-102.11  Priority Foundation   \n",
       "4      Yes          26      7-102.11  Priority Foundation   \n",
       "\n",
       "                                           shortdesc    inspectedby  \\\n",
       "0  Toxic substances properly identified, stored, ...    Lucy Schrum   \n",
       "1  Toxic substances properly identified, stored, ...  Daryl Beasley   \n",
       "2  Toxic substances properly identified, stored, ...    Lucy Schrum   \n",
       "3  Toxic substances properly identified, stored, ...    Lucy Schrum   \n",
       "4  Toxic substances properly identified, stored, ...    Lucy Schrum   \n",
       "\n",
       "                                            comments  pointvalue  \\\n",
       "0  7-102.11; Priority Foundation - Found unlabele...           0   \n",
       "1  7-102.11; Priority Foundation; One sanitizer b...           0   \n",
       "2  7-102.11; Priority Foundation - Found an unlab...           1   \n",
       "3  7-102.11; Priority Foundation - Found unlabele...           0   \n",
       "4  7-102.11; Priority Foundation - Found one unla...           0   \n",
       "\n",
       "  observationtype violationtype  count cdcriskfactor cdcdataitem  \n",
       "0             Out             R    NaN           NaN         NaN  \n",
       "1             Out           CDI    NaN           NaN         NaN  \n",
       "2             Out           CDI    NaN           NaN         NaN  \n",
       "3             Out           CDI    NaN           NaN         NaN  \n",
       "4             Out           CDI    NaN           NaN         NaN  "
      ]
     },
     "execution_count": 3,
     "metadata": {},
     "output_type": "execute_result"
    }
   ],
   "source": [
    "df_viols.head()"
   ]
  },
  {
   "cell_type": "code",
   "execution_count": 4,
   "metadata": {},
   "outputs": [
    {
     "data": {
      "text/html": [
       "<div>\n",
       "<style scoped>\n",
       "    .dataframe tbody tr th:only-of-type {\n",
       "        vertical-align: middle;\n",
       "    }\n",
       "\n",
       "    .dataframe tbody tr th {\n",
       "        vertical-align: top;\n",
       "    }\n",
       "\n",
       "    .dataframe thead th {\n",
       "        text-align: right;\n",
       "    }\n",
       "</style>\n",
       "<table border=\"1\" class=\"dataframe\">\n",
       "  <thead>\n",
       "    <tr style=\"text-align: right;\">\n",
       "      <th></th>\n",
       "      <th>hsisid</th>\n",
       "      <th>date</th>\n",
       "      <th>name</th>\n",
       "      <th>address1</th>\n",
       "      <th>address2</th>\n",
       "      <th>city</th>\n",
       "      <th>state</th>\n",
       "      <th>postalcode</th>\n",
       "      <th>phonenumber</th>\n",
       "      <th>restaurantopendate</th>\n",
       "      <th>...</th>\n",
       "      <th>num_non_critical</th>\n",
       "      <th>num_critical_previous</th>\n",
       "      <th>num_non_critical_previous</th>\n",
       "      <th>num_critical_mean_previous</th>\n",
       "      <th>num_non_critical_mean_previous</th>\n",
       "      <th>avg_neighbor_num_critical</th>\n",
       "      <th>avg_neighbor_num_non_critical</th>\n",
       "      <th>top_match</th>\n",
       "      <th>second_match</th>\n",
       "      <th>critical</th>\n",
       "    </tr>\n",
       "  </thead>\n",
       "  <tbody>\n",
       "    <tr>\n",
       "      <th>0</th>\n",
       "      <td>4092013748</td>\n",
       "      <td>2012-09-21T00:00:00Z</td>\n",
       "      <td>Cafe 3000 At Wake Med</td>\n",
       "      <td>3000 New Bern Ave</td>\n",
       "      <td>NaN</td>\n",
       "      <td>raleigh</td>\n",
       "      <td>NC</td>\n",
       "      <td>27610</td>\n",
       "      <td>(919) 350-8047</td>\n",
       "      <td>2002-12-21T00:00:00Z</td>\n",
       "      <td>...</td>\n",
       "      <td>7</td>\n",
       "      <td>NaN</td>\n",
       "      <td>NaN</td>\n",
       "      <td>NaN</td>\n",
       "      <td>NaN</td>\n",
       "      <td>NaN</td>\n",
       "      <td>NaN</td>\n",
       "      <td>NaN</td>\n",
       "      <td>NaN</td>\n",
       "      <td>1</td>\n",
       "    </tr>\n",
       "    <tr>\n",
       "      <th>1</th>\n",
       "      <td>4092014046</td>\n",
       "      <td>2012-09-21T00:00:00Z</td>\n",
       "      <td>Overtime Sports Pub</td>\n",
       "      <td>1030-149 N Rogers Ln</td>\n",
       "      <td>NaN</td>\n",
       "      <td>raleigh</td>\n",
       "      <td>NC</td>\n",
       "      <td>27610</td>\n",
       "      <td>(919) 255-9556</td>\n",
       "      <td>2004-05-04T00:00:00Z</td>\n",
       "      <td>...</td>\n",
       "      <td>11</td>\n",
       "      <td>NaN</td>\n",
       "      <td>NaN</td>\n",
       "      <td>NaN</td>\n",
       "      <td>NaN</td>\n",
       "      <td>NaN</td>\n",
       "      <td>NaN</td>\n",
       "      <td>NaN</td>\n",
       "      <td>NaN</td>\n",
       "      <td>0</td>\n",
       "    </tr>\n",
       "    <tr>\n",
       "      <th>2</th>\n",
       "      <td>4092015191</td>\n",
       "      <td>2012-09-21T00:00:00Z</td>\n",
       "      <td>TASTE OF CHINA</td>\n",
       "      <td>6209 ROCK QUARRY RD</td>\n",
       "      <td>STE 126</td>\n",
       "      <td>raleigh</td>\n",
       "      <td>NC</td>\n",
       "      <td>27610</td>\n",
       "      <td>(919) 773-2285</td>\n",
       "      <td>2008-08-04T00:00:00Z</td>\n",
       "      <td>...</td>\n",
       "      <td>8</td>\n",
       "      <td>NaN</td>\n",
       "      <td>NaN</td>\n",
       "      <td>NaN</td>\n",
       "      <td>NaN</td>\n",
       "      <td>NaN</td>\n",
       "      <td>NaN</td>\n",
       "      <td>NaN</td>\n",
       "      <td>NaN</td>\n",
       "      <td>1</td>\n",
       "    </tr>\n",
       "    <tr>\n",
       "      <th>3</th>\n",
       "      <td>4092016122</td>\n",
       "      <td>2012-09-21T00:00:00Z</td>\n",
       "      <td>Panera Bread #1643</td>\n",
       "      <td>1065 Darrington DR</td>\n",
       "      <td>NaN</td>\n",
       "      <td>cary</td>\n",
       "      <td>NC</td>\n",
       "      <td>27513</td>\n",
       "      <td>NaN</td>\n",
       "      <td>2012-03-28T00:00:00Z</td>\n",
       "      <td>...</td>\n",
       "      <td>3</td>\n",
       "      <td>NaN</td>\n",
       "      <td>NaN</td>\n",
       "      <td>NaN</td>\n",
       "      <td>NaN</td>\n",
       "      <td>NaN</td>\n",
       "      <td>NaN</td>\n",
       "      <td>NaN</td>\n",
       "      <td>NaN</td>\n",
       "      <td>1</td>\n",
       "    </tr>\n",
       "    <tr>\n",
       "      <th>4</th>\n",
       "      <td>4092021513</td>\n",
       "      <td>2012-09-21T00:00:00Z</td>\n",
       "      <td>WalMart Supercenter #4499-00 Deli/Bakery</td>\n",
       "      <td>841 E Gannon AVE</td>\n",
       "      <td>NaN</td>\n",
       "      <td>zebulon</td>\n",
       "      <td>NC</td>\n",
       "      <td>27597</td>\n",
       "      <td>(919) 269-2221 ext. 304</td>\n",
       "      <td>2008-02-25T00:00:00Z</td>\n",
       "      <td>...</td>\n",
       "      <td>4</td>\n",
       "      <td>NaN</td>\n",
       "      <td>NaN</td>\n",
       "      <td>NaN</td>\n",
       "      <td>NaN</td>\n",
       "      <td>NaN</td>\n",
       "      <td>NaN</td>\n",
       "      <td>NaN</td>\n",
       "      <td>NaN</td>\n",
       "      <td>1</td>\n",
       "    </tr>\n",
       "  </tbody>\n",
       "</table>\n",
       "<p>5 rows × 36 columns</p>\n",
       "</div>"
      ],
      "text/plain": [
       "       hsisid                  date                                      name  \\\n",
       "0  4092013748  2012-09-21T00:00:00Z                     Cafe 3000 At Wake Med   \n",
       "1  4092014046  2012-09-21T00:00:00Z                       Overtime Sports Pub   \n",
       "2  4092015191  2012-09-21T00:00:00Z                            TASTE OF CHINA   \n",
       "3  4092016122  2012-09-21T00:00:00Z                        Panera Bread #1643   \n",
       "4  4092021513  2012-09-21T00:00:00Z  WalMart Supercenter #4499-00 Deli/Bakery   \n",
       "\n",
       "               address1 address2     city state postalcode  \\\n",
       "0     3000 New Bern Ave      NaN  raleigh    NC      27610   \n",
       "1  1030-149 N Rogers Ln      NaN  raleigh    NC      27610   \n",
       "2   6209 ROCK QUARRY RD  STE 126  raleigh    NC      27610   \n",
       "3    1065 Darrington DR      NaN     cary    NC      27513   \n",
       "4      841 E Gannon AVE      NaN  zebulon    NC      27597   \n",
       "\n",
       "               phonenumber    restaurantopendate  ...  num_non_critical  \\\n",
       "0           (919) 350-8047  2002-12-21T00:00:00Z  ...                 7   \n",
       "1           (919) 255-9556  2004-05-04T00:00:00Z  ...                11   \n",
       "2           (919) 773-2285  2008-08-04T00:00:00Z  ...                 8   \n",
       "3                      NaN  2012-03-28T00:00:00Z  ...                 3   \n",
       "4  (919) 269-2221 ext. 304  2008-02-25T00:00:00Z  ...                 4   \n",
       "\n",
       "  num_critical_previous  num_non_critical_previous  \\\n",
       "0                   NaN                        NaN   \n",
       "1                   NaN                        NaN   \n",
       "2                   NaN                        NaN   \n",
       "3                   NaN                        NaN   \n",
       "4                   NaN                        NaN   \n",
       "\n",
       "   num_critical_mean_previous num_non_critical_mean_previous  \\\n",
       "0                         NaN                            NaN   \n",
       "1                         NaN                            NaN   \n",
       "2                         NaN                            NaN   \n",
       "3                         NaN                            NaN   \n",
       "4                         NaN                            NaN   \n",
       "\n",
       "   avg_neighbor_num_critical avg_neighbor_num_non_critical top_match  \\\n",
       "0                        NaN                           NaN       NaN   \n",
       "1                        NaN                           NaN       NaN   \n",
       "2                        NaN                           NaN       NaN   \n",
       "3                        NaN                           NaN       NaN   \n",
       "4                        NaN                           NaN       NaN   \n",
       "\n",
       "  second_match  critical  \n",
       "0          NaN         1  \n",
       "1          NaN         0  \n",
       "2          NaN         1  \n",
       "3          NaN         1  \n",
       "4          NaN         1  \n",
       "\n",
       "[5 rows x 36 columns]"
      ]
     },
     "execution_count": 4,
     "metadata": {},
     "output_type": "execute_result"
    }
   ],
   "source": [
    "df_inspecs.head()"
   ]
  },
  {
   "cell_type": "markdown",
   "metadata": {},
   "source": [
    "# Data Cleaning"
   ]
  },
  {
   "cell_type": "markdown",
   "metadata": {},
   "source": [
    "First and foremost, I removed any personally identifiable information from the datasets. Given the limitations stated above of the health inspections data, I had to get the specific violation types from that data set and combine it with the inspections dataset:\n",
    "- I grouped it by hsisid, date, and whether it was a critical violation. \n",
    "- I then summed up all of the violations to get a gross amount per inspection. \n",
    "- Because I was unsure how to merge the two data sets on both hsisid and inspection date, I averaged both the scores data and the violations data over the entire time frame for every food establishment.\n",
    "- Then, I was able to merge the datasets on hsisid."
   ]
  },
  {
   "cell_type": "code",
   "execution_count": 5,
   "metadata": {},
   "outputs": [],
   "source": [
    "df_viols['inspectdate'] = df_viols['inspectdate'].str.slice(start = 0, stop = 10)\n",
    "df_viols.rename(columns = {'inspectdate':'date'}, inplace = True)\n",
    "df_inspecs['date'] = df_inspecs['date'].str.slice(start = 0, stop = 10)"
   ]
  },
  {
   "cell_type": "code",
   "execution_count": 6,
   "metadata": {},
   "outputs": [
    {
     "name": "stdout",
     "output_type": "stream",
     "text": [
      "Index(['X.objectid', 'hsisid', 'date', 'category', 'statecode', 'critical',\n",
      "       'questionno', 'violationcode', 'severity', 'shortdesc', 'inspectedby',\n",
      "       'comments', 'pointvalue', 'observationtype', 'violationtype', 'count',\n",
      "       'cdcriskfactor', 'cdcdataitem'],\n",
      "      dtype='object')\n"
     ]
    },
    {
     "data": {
      "text/plain": [
       "Index(['hsisid', 'date', 'name', 'address1', 'address2', 'city', 'state',\n",
       "       'postalcode', 'phonenumber', 'restaurantopendate',\n",
       "       'days_from_open_date', 'facilitytype', 'x', 'y', 'geocodestatus', 'zip',\n",
       "       'type', 'description', 'inspectedby', 'inspection_num', 'inspector_id',\n",
       "       'previous_inspection_date', 'days_since_previous_inspection',\n",
       "       'previous_inspection_by_same_inspector', 'score', 'num_critical',\n",
       "       'num_non_critical', 'num_critical_previous',\n",
       "       'num_non_critical_previous', 'num_critical_mean_previous',\n",
       "       'num_non_critical_mean_previous', 'avg_neighbor_num_critical',\n",
       "       'avg_neighbor_num_non_critical', 'top_match', 'second_match',\n",
       "       'critical'],\n",
       "      dtype='object')"
      ]
     },
     "execution_count": 6,
     "metadata": {},
     "output_type": "execute_result"
    }
   ],
   "source": [
    "print(df_viols.columns)\n",
    "df_inspecs.columns"
   ]
  },
  {
   "cell_type": "code",
   "execution_count": 7,
   "metadata": {},
   "outputs": [
    {
     "data": {
      "text/html": [
       "<div>\n",
       "<style scoped>\n",
       "    .dataframe tbody tr th:only-of-type {\n",
       "        vertical-align: middle;\n",
       "    }\n",
       "\n",
       "    .dataframe tbody tr th {\n",
       "        vertical-align: top;\n",
       "    }\n",
       "\n",
       "    .dataframe thead th {\n",
       "        text-align: right;\n",
       "    }\n",
       "</style>\n",
       "<table border=\"1\" class=\"dataframe\">\n",
       "  <thead>\n",
       "    <tr style=\"text-align: right;\">\n",
       "      <th></th>\n",
       "      <th>hsisid</th>\n",
       "      <th>date</th>\n",
       "      <th>restaurantopendate</th>\n",
       "      <th>days_from_open_date</th>\n",
       "      <th>facilitytype</th>\n",
       "      <th>type</th>\n",
       "      <th>description</th>\n",
       "      <th>inspec_num</th>\n",
       "      <th>previous_inspection_date</th>\n",
       "      <th>days_since_previous_inspection</th>\n",
       "      <th>same_inspec</th>\n",
       "      <th>score</th>\n",
       "      <th>num_crit</th>\n",
       "      <th>num_non_crit</th>\n",
       "      <th>num_crit_prev</th>\n",
       "      <th>num_non_crit_prev</th>\n",
       "      <th>num_crit_mean_prev</th>\n",
       "      <th>num_non_crit_mean_prev</th>\n",
       "      <th>critical</th>\n",
       "    </tr>\n",
       "  </thead>\n",
       "  <tbody>\n",
       "    <tr>\n",
       "      <th>0</th>\n",
       "      <td>4092013748</td>\n",
       "      <td>2012-09-21</td>\n",
       "      <td>2002-12-21T00:00:00Z</td>\n",
       "      <td>3562</td>\n",
       "      <td>Restaurant</td>\n",
       "      <td>Inspection</td>\n",
       "      <td>This facility cooks eggs to order in Grill sta...</td>\n",
       "      <td>1</td>\n",
       "      <td>NaN</td>\n",
       "      <td>NaN</td>\n",
       "      <td>NaN</td>\n",
       "      <td>96.0</td>\n",
       "      <td>9</td>\n",
       "      <td>7</td>\n",
       "      <td>NaN</td>\n",
       "      <td>NaN</td>\n",
       "      <td>NaN</td>\n",
       "      <td>NaN</td>\n",
       "      <td>1</td>\n",
       "    </tr>\n",
       "    <tr>\n",
       "      <th>1</th>\n",
       "      <td>4092014046</td>\n",
       "      <td>2012-09-21</td>\n",
       "      <td>2004-05-04T00:00:00Z</td>\n",
       "      <td>3062</td>\n",
       "      <td>Restaurant</td>\n",
       "      <td>Inspection</td>\n",
       "      <td>NaN</td>\n",
       "      <td>1</td>\n",
       "      <td>NaN</td>\n",
       "      <td>NaN</td>\n",
       "      <td>NaN</td>\n",
       "      <td>98.0</td>\n",
       "      <td>0</td>\n",
       "      <td>11</td>\n",
       "      <td>NaN</td>\n",
       "      <td>NaN</td>\n",
       "      <td>NaN</td>\n",
       "      <td>NaN</td>\n",
       "      <td>0</td>\n",
       "    </tr>\n",
       "    <tr>\n",
       "      <th>2</th>\n",
       "      <td>4092015191</td>\n",
       "      <td>2012-09-21</td>\n",
       "      <td>2008-08-04T00:00:00Z</td>\n",
       "      <td>1509</td>\n",
       "      <td>Restaurant</td>\n",
       "      <td>Inspection</td>\n",
       "      <td>NaN</td>\n",
       "      <td>1</td>\n",
       "      <td>NaN</td>\n",
       "      <td>NaN</td>\n",
       "      <td>NaN</td>\n",
       "      <td>97.0</td>\n",
       "      <td>4</td>\n",
       "      <td>8</td>\n",
       "      <td>NaN</td>\n",
       "      <td>NaN</td>\n",
       "      <td>NaN</td>\n",
       "      <td>NaN</td>\n",
       "      <td>1</td>\n",
       "    </tr>\n",
       "    <tr>\n",
       "      <th>3</th>\n",
       "      <td>4092016122</td>\n",
       "      <td>2012-09-21</td>\n",
       "      <td>2012-03-28T00:00:00Z</td>\n",
       "      <td>177</td>\n",
       "      <td>Restaurant</td>\n",
       "      <td>Inspection</td>\n",
       "      <td>NaN</td>\n",
       "      <td>1</td>\n",
       "      <td>NaN</td>\n",
       "      <td>NaN</td>\n",
       "      <td>NaN</td>\n",
       "      <td>99.0</td>\n",
       "      <td>2</td>\n",
       "      <td>3</td>\n",
       "      <td>NaN</td>\n",
       "      <td>NaN</td>\n",
       "      <td>NaN</td>\n",
       "      <td>NaN</td>\n",
       "      <td>1</td>\n",
       "    </tr>\n",
       "    <tr>\n",
       "      <th>4</th>\n",
       "      <td>4092021513</td>\n",
       "      <td>2012-09-21</td>\n",
       "      <td>2008-02-25T00:00:00Z</td>\n",
       "      <td>1670</td>\n",
       "      <td>Food Stand</td>\n",
       "      <td>Inspection</td>\n",
       "      <td>New rules, www.wakegov.com/food</td>\n",
       "      <td>1</td>\n",
       "      <td>NaN</td>\n",
       "      <td>NaN</td>\n",
       "      <td>NaN</td>\n",
       "      <td>97.0</td>\n",
       "      <td>2</td>\n",
       "      <td>4</td>\n",
       "      <td>NaN</td>\n",
       "      <td>NaN</td>\n",
       "      <td>NaN</td>\n",
       "      <td>NaN</td>\n",
       "      <td>1</td>\n",
       "    </tr>\n",
       "    <tr>\n",
       "      <th>...</th>\n",
       "      <td>...</td>\n",
       "      <td>...</td>\n",
       "      <td>...</td>\n",
       "      <td>...</td>\n",
       "      <td>...</td>\n",
       "      <td>...</td>\n",
       "      <td>...</td>\n",
       "      <td>...</td>\n",
       "      <td>...</td>\n",
       "      <td>...</td>\n",
       "      <td>...</td>\n",
       "      <td>...</td>\n",
       "      <td>...</td>\n",
       "      <td>...</td>\n",
       "      <td>...</td>\n",
       "      <td>...</td>\n",
       "      <td>...</td>\n",
       "      <td>...</td>\n",
       "      <td>...</td>\n",
       "    </tr>\n",
       "    <tr>\n",
       "      <th>18461</th>\n",
       "      <td>4092021142</td>\n",
       "      <td>2016-11-03</td>\n",
       "      <td>2002-08-19T00:00:00Z</td>\n",
       "      <td>5190</td>\n",
       "      <td>Food Stand</td>\n",
       "      <td>Inspection</td>\n",
       "      <td>NaN</td>\n",
       "      <td>10</td>\n",
       "      <td>2016-06-27T00:00:00Z</td>\n",
       "      <td>129.0</td>\n",
       "      <td>False</td>\n",
       "      <td>93.0</td>\n",
       "      <td>6</td>\n",
       "      <td>13</td>\n",
       "      <td>1.0</td>\n",
       "      <td>4.0</td>\n",
       "      <td>1.000000</td>\n",
       "      <td>4.777778</td>\n",
       "      <td>1</td>\n",
       "    </tr>\n",
       "    <tr>\n",
       "      <th>18462</th>\n",
       "      <td>4092110100</td>\n",
       "      <td>2016-11-03</td>\n",
       "      <td>1995-09-05T00:00:00Z</td>\n",
       "      <td>7730</td>\n",
       "      <td>Public School Lunchrooms</td>\n",
       "      <td>Inspection</td>\n",
       "      <td>NaN</td>\n",
       "      <td>9</td>\n",
       "      <td>2016-09-06T00:00:00Z</td>\n",
       "      <td>58.0</td>\n",
       "      <td>True</td>\n",
       "      <td>97.0</td>\n",
       "      <td>2</td>\n",
       "      <td>3</td>\n",
       "      <td>2.0</td>\n",
       "      <td>5.0</td>\n",
       "      <td>0.750000</td>\n",
       "      <td>3.250000</td>\n",
       "      <td>1</td>\n",
       "    </tr>\n",
       "    <tr>\n",
       "      <th>18463</th>\n",
       "      <td>4092110487</td>\n",
       "      <td>2016-11-03</td>\n",
       "      <td>2009-11-13T00:00:00Z</td>\n",
       "      <td>2547</td>\n",
       "      <td>Public School Lunchrooms</td>\n",
       "      <td>Inspection</td>\n",
       "      <td>NaN</td>\n",
       "      <td>9</td>\n",
       "      <td>2016-06-29T00:00:00Z</td>\n",
       "      <td>127.0</td>\n",
       "      <td>False</td>\n",
       "      <td>96.0</td>\n",
       "      <td>3</td>\n",
       "      <td>4</td>\n",
       "      <td>0.0</td>\n",
       "      <td>2.0</td>\n",
       "      <td>0.875000</td>\n",
       "      <td>1.750000</td>\n",
       "      <td>1</td>\n",
       "    </tr>\n",
       "    <tr>\n",
       "      <th>18464</th>\n",
       "      <td>4092300177</td>\n",
       "      <td>2016-11-03</td>\n",
       "      <td>2000-07-01T00:00:00Z</td>\n",
       "      <td>5969</td>\n",
       "      <td>Meat Market</td>\n",
       "      <td>Inspection</td>\n",
       "      <td>NaN</td>\n",
       "      <td>10</td>\n",
       "      <td>2016-06-15T00:00:00Z</td>\n",
       "      <td>141.0</td>\n",
       "      <td>False</td>\n",
       "      <td>99.0</td>\n",
       "      <td>1</td>\n",
       "      <td>2</td>\n",
       "      <td>0.0</td>\n",
       "      <td>3.0</td>\n",
       "      <td>1.111111</td>\n",
       "      <td>2.000000</td>\n",
       "      <td>1</td>\n",
       "    </tr>\n",
       "    <tr>\n",
       "      <th>18465</th>\n",
       "      <td>4092300225</td>\n",
       "      <td>2016-11-03</td>\n",
       "      <td>2005-03-31T00:00:00Z</td>\n",
       "      <td>4235</td>\n",
       "      <td>Meat Market</td>\n",
       "      <td>Inspection</td>\n",
       "      <td>Inspector contact info: Dimitri Parker (919)86...</td>\n",
       "      <td>9</td>\n",
       "      <td>2016-04-28T00:00:00Z</td>\n",
       "      <td>189.0</td>\n",
       "      <td>False</td>\n",
       "      <td>93.0</td>\n",
       "      <td>4</td>\n",
       "      <td>7</td>\n",
       "      <td>5.0</td>\n",
       "      <td>8.0</td>\n",
       "      <td>4.250000</td>\n",
       "      <td>6.375000</td>\n",
       "      <td>1</td>\n",
       "    </tr>\n",
       "  </tbody>\n",
       "</table>\n",
       "<p>18466 rows × 19 columns</p>\n",
       "</div>"
      ],
      "text/plain": [
       "           hsisid        date    restaurantopendate  days_from_open_date  \\\n",
       "0      4092013748  2012-09-21  2002-12-21T00:00:00Z                 3562   \n",
       "1      4092014046  2012-09-21  2004-05-04T00:00:00Z                 3062   \n",
       "2      4092015191  2012-09-21  2008-08-04T00:00:00Z                 1509   \n",
       "3      4092016122  2012-09-21  2012-03-28T00:00:00Z                  177   \n",
       "4      4092021513  2012-09-21  2008-02-25T00:00:00Z                 1670   \n",
       "...           ...         ...                   ...                  ...   \n",
       "18461  4092021142  2016-11-03  2002-08-19T00:00:00Z                 5190   \n",
       "18462  4092110100  2016-11-03  1995-09-05T00:00:00Z                 7730   \n",
       "18463  4092110487  2016-11-03  2009-11-13T00:00:00Z                 2547   \n",
       "18464  4092300177  2016-11-03  2000-07-01T00:00:00Z                 5969   \n",
       "18465  4092300225  2016-11-03  2005-03-31T00:00:00Z                 4235   \n",
       "\n",
       "                   facilitytype        type  \\\n",
       "0                    Restaurant  Inspection   \n",
       "1                    Restaurant  Inspection   \n",
       "2                    Restaurant  Inspection   \n",
       "3                    Restaurant  Inspection   \n",
       "4                    Food Stand  Inspection   \n",
       "...                         ...         ...   \n",
       "18461                Food Stand  Inspection   \n",
       "18462  Public School Lunchrooms  Inspection   \n",
       "18463  Public School Lunchrooms  Inspection   \n",
       "18464               Meat Market  Inspection   \n",
       "18465               Meat Market  Inspection   \n",
       "\n",
       "                                             description  inspec_num  \\\n",
       "0      This facility cooks eggs to order in Grill sta...           1   \n",
       "1                                                    NaN           1   \n",
       "2                                                    NaN           1   \n",
       "3                                                    NaN           1   \n",
       "4                        New rules, www.wakegov.com/food           1   \n",
       "...                                                  ...         ...   \n",
       "18461                                                NaN          10   \n",
       "18462                                                NaN           9   \n",
       "18463                                                NaN           9   \n",
       "18464                                                NaN          10   \n",
       "18465  Inspector contact info: Dimitri Parker (919)86...           9   \n",
       "\n",
       "      previous_inspection_date  days_since_previous_inspection same_inspec  \\\n",
       "0                          NaN                             NaN         NaN   \n",
       "1                          NaN                             NaN         NaN   \n",
       "2                          NaN                             NaN         NaN   \n",
       "3                          NaN                             NaN         NaN   \n",
       "4                          NaN                             NaN         NaN   \n",
       "...                        ...                             ...         ...   \n",
       "18461     2016-06-27T00:00:00Z                           129.0       False   \n",
       "18462     2016-09-06T00:00:00Z                            58.0        True   \n",
       "18463     2016-06-29T00:00:00Z                           127.0       False   \n",
       "18464     2016-06-15T00:00:00Z                           141.0       False   \n",
       "18465     2016-04-28T00:00:00Z                           189.0       False   \n",
       "\n",
       "       score  num_crit  num_non_crit  num_crit_prev  num_non_crit_prev  \\\n",
       "0       96.0         9             7            NaN                NaN   \n",
       "1       98.0         0            11            NaN                NaN   \n",
       "2       97.0         4             8            NaN                NaN   \n",
       "3       99.0         2             3            NaN                NaN   \n",
       "4       97.0         2             4            NaN                NaN   \n",
       "...      ...       ...           ...            ...                ...   \n",
       "18461   93.0         6            13            1.0                4.0   \n",
       "18462   97.0         2             3            2.0                5.0   \n",
       "18463   96.0         3             4            0.0                2.0   \n",
       "18464   99.0         1             2            0.0                3.0   \n",
       "18465   93.0         4             7            5.0                8.0   \n",
       "\n",
       "       num_crit_mean_prev  num_non_crit_mean_prev  critical  \n",
       "0                     NaN                     NaN         1  \n",
       "1                     NaN                     NaN         0  \n",
       "2                     NaN                     NaN         1  \n",
       "3                     NaN                     NaN         1  \n",
       "4                     NaN                     NaN         1  \n",
       "...                   ...                     ...       ...  \n",
       "18461            1.000000                4.777778         1  \n",
       "18462            0.750000                3.250000         1  \n",
       "18463            0.875000                1.750000         1  \n",
       "18464            1.111111                2.000000         1  \n",
       "18465            4.250000                6.375000         1  \n",
       "\n",
       "[18466 rows x 19 columns]"
      ]
     },
     "execution_count": 7,
     "metadata": {},
     "output_type": "execute_result"
    }
   ],
   "source": [
    "df_inspecs = df_inspecs.drop(['name', 'address1', 'address2', 'city', 'phonenumber', 'postalcode', 'state', 'city', 'x', 'y', 'zip', 'geocodestatus', 'inspectedby', 'inspector_id', 'avg_neighbor_num_critical', 'avg_neighbor_num_non_critical', 'top_match', 'second_match'], axis = 1)\n",
    "df_inspecs.rename(columns = {'previous_inspection_by_same_inspector': 'same_inspec', 'inspection_num': 'inspec_num', 'num_critical' : 'num_crit', 'num_non_critical' : 'num_non_crit', 'num_critical_previous' : 'num_crit_prev', 'num_non_critical_previous' : 'num_non_crit_prev', 'num_critical_mean_previous' : 'num_crit_mean_prev', 'num_non_critical_mean_previous':'num_non_crit_mean_prev'})"
   ]
  },
  {
   "cell_type": "code",
   "execution_count": 8,
   "metadata": {},
   "outputs": [],
   "source": [
    "df_viols.drop(columns = {'inspectedby'}, inplace=True)"
   ]
  },
  {
   "cell_type": "code",
   "execution_count": 9,
   "metadata": {},
   "outputs": [],
   "source": [
    "df_inspecs = df_inspecs.rename(columns = {'facilitytype':'fac_type', 'inspection_num':'insp_num'})"
   ]
  },
  {
   "cell_type": "code",
   "execution_count": 10,
   "metadata": {},
   "outputs": [
    {
     "data": {
      "text/plain": [
       "X.objectid         False\n",
       "hsisid             False\n",
       "date               False\n",
       "category           False\n",
       "statecode          False\n",
       "critical            True\n",
       "questionno         False\n",
       "violationcode      False\n",
       "severity            True\n",
       "shortdesc          False\n",
       "comments            True\n",
       "pointvalue         False\n",
       "observationtype     True\n",
       "violationtype       True\n",
       "count               True\n",
       "cdcriskfactor       True\n",
       "cdcdataitem         True\n",
       "dtype: bool"
      ]
     },
     "execution_count": 10,
     "metadata": {},
     "output_type": "execute_result"
    }
   ],
   "source": [
    "df_viols.isnull().any()"
   ]
  },
  {
   "cell_type": "code",
   "execution_count": 11,
   "metadata": {},
   "outputs": [
    {
     "data": {
      "text/plain": [
       "hsisid                                   False\n",
       "date                                     False\n",
       "restaurantopendate                       False\n",
       "days_from_open_date                      False\n",
       "fac_type                                 False\n",
       "type                                     False\n",
       "description                               True\n",
       "insp_num                                 False\n",
       "previous_inspection_date                  True\n",
       "days_since_previous_inspection            True\n",
       "previous_inspection_by_same_inspector     True\n",
       "score                                    False\n",
       "num_critical                             False\n",
       "num_non_critical                         False\n",
       "num_critical_previous                     True\n",
       "num_non_critical_previous                 True\n",
       "num_critical_mean_previous                True\n",
       "num_non_critical_mean_previous            True\n",
       "critical                                 False\n",
       "dtype: bool"
      ]
     },
     "execution_count": 11,
     "metadata": {},
     "output_type": "execute_result"
    }
   ],
   "source": [
    "df_inspecs.isnull().any()"
   ]
  },
  {
   "cell_type": "code",
   "execution_count": 12,
   "metadata": {},
   "outputs": [
    {
     "data": {
      "text/plain": [
       "3045"
      ]
     },
     "execution_count": 12,
     "metadata": {},
     "output_type": "execute_result"
    }
   ],
   "source": [
    "len(df_inspecs['hsisid'].unique())"
   ]
  },
  {
   "cell_type": "code",
   "execution_count": 13,
   "metadata": {},
   "outputs": [
    {
     "data": {
      "text/plain": [
       "4270"
      ]
     },
     "execution_count": 13,
     "metadata": {},
     "output_type": "execute_result"
    }
   ],
   "source": [
    "len(df_viols['hsisid'].unique())"
   ]
  },
  {
   "cell_type": "code",
   "execution_count": 14,
   "metadata": {},
   "outputs": [
    {
     "name": "stdout",
     "output_type": "stream",
     "text": [
      "134007\n",
      "48846\n",
      "5170\n",
      "1769\n",
      "10\n"
     ]
    }
   ],
   "source": [
    "print(sum(df_viols['pointvalue'] == 0))\n",
    "print(sum(df_viols['pointvalue'] == 1))\n",
    "print(sum(df_viols['pointvalue'] == 2))\n",
    "print(sum(df_viols['pointvalue'] == 3))\n",
    "print(sum(df_viols['pointvalue'] == 4))"
   ]
  },
  {
   "cell_type": "code",
   "execution_count": 15,
   "metadata": {},
   "outputs": [
    {
     "data": {
      "text/plain": [
       "64533"
      ]
     },
     "execution_count": 15,
     "metadata": {},
     "output_type": "execute_result"
    }
   ],
   "source": [
    "sum(df_viols['pointvalue'])"
   ]
  },
  {
   "cell_type": "code",
   "execution_count": 16,
   "metadata": {},
   "outputs": [
    {
     "data": {
      "text/html": [
       "<div>\n",
       "<style scoped>\n",
       "    .dataframe tbody tr th:only-of-type {\n",
       "        vertical-align: middle;\n",
       "    }\n",
       "\n",
       "    .dataframe tbody tr th {\n",
       "        vertical-align: top;\n",
       "    }\n",
       "\n",
       "    .dataframe thead th {\n",
       "        text-align: right;\n",
       "    }\n",
       "</style>\n",
       "<table border=\"1\" class=\"dataframe\">\n",
       "  <thead>\n",
       "    <tr style=\"text-align: right;\">\n",
       "      <th></th>\n",
       "      <th>avg_non_crit</th>\n",
       "      <th>avg_crit</th>\n",
       "    </tr>\n",
       "    <tr>\n",
       "      <th>hsisid</th>\n",
       "      <th></th>\n",
       "      <th></th>\n",
       "    </tr>\n",
       "  </thead>\n",
       "  <tbody>\n",
       "    <tr>\n",
       "      <th>4092010018</th>\n",
       "      <td>1.166667</td>\n",
       "      <td>2.666667</td>\n",
       "    </tr>\n",
       "    <tr>\n",
       "      <th>4092010024</th>\n",
       "      <td>2.000000</td>\n",
       "      <td>1.125000</td>\n",
       "    </tr>\n",
       "    <tr>\n",
       "      <th>4092010031</th>\n",
       "      <td>0.500000</td>\n",
       "      <td>2.000000</td>\n",
       "    </tr>\n",
       "    <tr>\n",
       "      <th>4092010035</th>\n",
       "      <td>2.000000</td>\n",
       "      <td>0.500000</td>\n",
       "    </tr>\n",
       "    <tr>\n",
       "      <th>4092010037</th>\n",
       "      <td>1.400000</td>\n",
       "      <td>0.800000</td>\n",
       "    </tr>\n",
       "    <tr>\n",
       "      <th>...</th>\n",
       "      <td>...</td>\n",
       "      <td>...</td>\n",
       "    </tr>\n",
       "    <tr>\n",
       "      <th>4092300270</th>\n",
       "      <td>0.250000</td>\n",
       "      <td>1.333333</td>\n",
       "    </tr>\n",
       "    <tr>\n",
       "      <th>4092300271</th>\n",
       "      <td>2.000000</td>\n",
       "      <td>3.000000</td>\n",
       "    </tr>\n",
       "    <tr>\n",
       "      <th>4092300272</th>\n",
       "      <td>0.000000</td>\n",
       "      <td>2.000000</td>\n",
       "    </tr>\n",
       "    <tr>\n",
       "      <th>4092300273</th>\n",
       "      <td>1.000000</td>\n",
       "      <td>1.000000</td>\n",
       "    </tr>\n",
       "    <tr>\n",
       "      <th>409201015539</th>\n",
       "      <td>1.500000</td>\n",
       "      <td>1.000000</td>\n",
       "    </tr>\n",
       "  </tbody>\n",
       "</table>\n",
       "<p>4157 rows × 2 columns</p>\n",
       "</div>"
      ],
      "text/plain": [
       "              avg_non_crit  avg_crit\n",
       "hsisid                              \n",
       "4092010018        1.166667  2.666667\n",
       "4092010024        2.000000  1.125000\n",
       "4092010031        0.500000  2.000000\n",
       "4092010035        2.000000  0.500000\n",
       "4092010037        1.400000  0.800000\n",
       "...                    ...       ...\n",
       "4092300270        0.250000  1.333333\n",
       "4092300271        2.000000  3.000000\n",
       "4092300272        0.000000  2.000000\n",
       "4092300273        1.000000  1.000000\n",
       "409201015539      1.500000  1.000000\n",
       "\n",
       "[4157 rows x 2 columns]"
      ]
     },
     "execution_count": 16,
     "metadata": {},
     "output_type": "execute_result"
    }
   ],
   "source": [
    "df2 = pd.DataFrame(df_viols.groupby(['hsisid', 'date', 'critical'])['pointvalue'].sum())\n",
    "df2.reset_index(inplace=True)\n",
    "df2_crit = df2[df2['critical'] == 'Yes']\n",
    "df2_non_crit = df2[df2['critical'] == 'No']\n",
    "\n",
    "df2_crit_avg = pd.DataFrame(df2_crit.groupby(['hsisid'])['pointvalue'].mean())\n",
    "df2_crit_avg.rename(columns = {'pointvalue':'avg_crit'}, inplace=True)\n",
    "\n",
    "df2_non_crit_avg = pd.DataFrame(df2_non_crit.groupby(['hsisid'])['pointvalue'].mean())\n",
    "df2_non_crit_avg.rename(columns = {'pointvalue':'avg_non_crit'}, inplace=True)\n",
    "\n",
    "df2_avg = df2_non_crit_avg.merge(df2_crit_avg, on='hsisid')\n",
    "df2_avg"
   ]
  },
  {
   "cell_type": "code",
   "execution_count": 17,
   "metadata": {},
   "outputs": [
    {
     "data": {
      "text/html": [
       "<div>\n",
       "<style scoped>\n",
       "    .dataframe tbody tr th:only-of-type {\n",
       "        vertical-align: middle;\n",
       "    }\n",
       "\n",
       "    .dataframe tbody tr th {\n",
       "        vertical-align: top;\n",
       "    }\n",
       "\n",
       "    .dataframe thead th {\n",
       "        text-align: right;\n",
       "    }\n",
       "</style>\n",
       "<table border=\"1\" class=\"dataframe\">\n",
       "  <thead>\n",
       "    <tr style=\"text-align: right;\">\n",
       "      <th></th>\n",
       "      <th>score</th>\n",
       "    </tr>\n",
       "    <tr>\n",
       "      <th>hsisid</th>\n",
       "      <th></th>\n",
       "    </tr>\n",
       "  </thead>\n",
       "  <tbody>\n",
       "    <tr>\n",
       "      <th>4092010018</th>\n",
       "      <td>94.333333</td>\n",
       "    </tr>\n",
       "    <tr>\n",
       "      <th>4092010024</th>\n",
       "      <td>94.772727</td>\n",
       "    </tr>\n",
       "    <tr>\n",
       "      <th>4092010031</th>\n",
       "      <td>94.375000</td>\n",
       "    </tr>\n",
       "    <tr>\n",
       "      <th>4092010035</th>\n",
       "      <td>94.500000</td>\n",
       "    </tr>\n",
       "    <tr>\n",
       "      <th>4092010037</th>\n",
       "      <td>96.400000</td>\n",
       "    </tr>\n",
       "    <tr>\n",
       "      <th>...</th>\n",
       "      <td>...</td>\n",
       "    </tr>\n",
       "    <tr>\n",
       "      <th>4092300270</th>\n",
       "      <td>98.000000</td>\n",
       "    </tr>\n",
       "    <tr>\n",
       "      <th>4092300271</th>\n",
       "      <td>92.500000</td>\n",
       "    </tr>\n",
       "    <tr>\n",
       "      <th>4092300272</th>\n",
       "      <td>96.500000</td>\n",
       "    </tr>\n",
       "    <tr>\n",
       "      <th>4092300273</th>\n",
       "      <td>96.500000</td>\n",
       "    </tr>\n",
       "    <tr>\n",
       "      <th>4092300274</th>\n",
       "      <td>99.500000</td>\n",
       "    </tr>\n",
       "  </tbody>\n",
       "</table>\n",
       "<p>3045 rows × 1 columns</p>\n",
       "</div>"
      ],
      "text/plain": [
       "                score\n",
       "hsisid               \n",
       "4092010018  94.333333\n",
       "4092010024  94.772727\n",
       "4092010031  94.375000\n",
       "4092010035  94.500000\n",
       "4092010037  96.400000\n",
       "...               ...\n",
       "4092300270  98.000000\n",
       "4092300271  92.500000\n",
       "4092300272  96.500000\n",
       "4092300273  96.500000\n",
       "4092300274  99.500000\n",
       "\n",
       "[3045 rows x 1 columns]"
      ]
     },
     "execution_count": 17,
     "metadata": {},
     "output_type": "execute_result"
    }
   ],
   "source": [
    "df_inspecs_avg = pd.DataFrame(df_inspecs.groupby('hsisid')['score'].mean())\n",
    "df_inspecs_avg"
   ]
  },
  {
   "cell_type": "code",
   "execution_count": 18,
   "metadata": {},
   "outputs": [
    {
     "data": {
      "text/html": [
       "<div>\n",
       "<style scoped>\n",
       "    .dataframe tbody tr th:only-of-type {\n",
       "        vertical-align: middle;\n",
       "    }\n",
       "\n",
       "    .dataframe tbody tr th {\n",
       "        vertical-align: top;\n",
       "    }\n",
       "\n",
       "    .dataframe thead th {\n",
       "        text-align: right;\n",
       "    }\n",
       "</style>\n",
       "<table border=\"1\" class=\"dataframe\">\n",
       "  <thead>\n",
       "    <tr style=\"text-align: right;\">\n",
       "      <th></th>\n",
       "      <th>score</th>\n",
       "      <th>avg_non_crit</th>\n",
       "      <th>avg_crit</th>\n",
       "    </tr>\n",
       "    <tr>\n",
       "      <th>hsisid</th>\n",
       "      <th></th>\n",
       "      <th></th>\n",
       "      <th></th>\n",
       "    </tr>\n",
       "  </thead>\n",
       "  <tbody>\n",
       "    <tr>\n",
       "      <th>4092010018</th>\n",
       "      <td>94.333333</td>\n",
       "      <td>1.166667</td>\n",
       "      <td>2.666667</td>\n",
       "    </tr>\n",
       "    <tr>\n",
       "      <th>4092010024</th>\n",
       "      <td>94.772727</td>\n",
       "      <td>2.000000</td>\n",
       "      <td>1.125000</td>\n",
       "    </tr>\n",
       "    <tr>\n",
       "      <th>4092010031</th>\n",
       "      <td>94.375000</td>\n",
       "      <td>0.500000</td>\n",
       "      <td>2.000000</td>\n",
       "    </tr>\n",
       "    <tr>\n",
       "      <th>4092010035</th>\n",
       "      <td>94.500000</td>\n",
       "      <td>2.000000</td>\n",
       "      <td>0.500000</td>\n",
       "    </tr>\n",
       "    <tr>\n",
       "      <th>4092010037</th>\n",
       "      <td>96.400000</td>\n",
       "      <td>1.400000</td>\n",
       "      <td>0.800000</td>\n",
       "    </tr>\n",
       "    <tr>\n",
       "      <th>...</th>\n",
       "      <td>...</td>\n",
       "      <td>...</td>\n",
       "      <td>...</td>\n",
       "    </tr>\n",
       "    <tr>\n",
       "      <th>4092300269</th>\n",
       "      <td>97.300000</td>\n",
       "      <td>0.000000</td>\n",
       "      <td>1.250000</td>\n",
       "    </tr>\n",
       "    <tr>\n",
       "      <th>4092300270</th>\n",
       "      <td>98.000000</td>\n",
       "      <td>0.250000</td>\n",
       "      <td>1.333333</td>\n",
       "    </tr>\n",
       "    <tr>\n",
       "      <th>4092300271</th>\n",
       "      <td>92.500000</td>\n",
       "      <td>2.000000</td>\n",
       "      <td>3.000000</td>\n",
       "    </tr>\n",
       "    <tr>\n",
       "      <th>4092300272</th>\n",
       "      <td>96.500000</td>\n",
       "      <td>0.000000</td>\n",
       "      <td>2.000000</td>\n",
       "    </tr>\n",
       "    <tr>\n",
       "      <th>4092300273</th>\n",
       "      <td>96.500000</td>\n",
       "      <td>1.000000</td>\n",
       "      <td>1.000000</td>\n",
       "    </tr>\n",
       "  </tbody>\n",
       "</table>\n",
       "<p>2978 rows × 3 columns</p>\n",
       "</div>"
      ],
      "text/plain": [
       "                score  avg_non_crit  avg_crit\n",
       "hsisid                                       \n",
       "4092010018  94.333333      1.166667  2.666667\n",
       "4092010024  94.772727      2.000000  1.125000\n",
       "4092010031  94.375000      0.500000  2.000000\n",
       "4092010035  94.500000      2.000000  0.500000\n",
       "4092010037  96.400000      1.400000  0.800000\n",
       "...               ...           ...       ...\n",
       "4092300269  97.300000      0.000000  1.250000\n",
       "4092300270  98.000000      0.250000  1.333333\n",
       "4092300271  92.500000      2.000000  3.000000\n",
       "4092300272  96.500000      0.000000  2.000000\n",
       "4092300273  96.500000      1.000000  1.000000\n",
       "\n",
       "[2978 rows x 3 columns]"
      ]
     },
     "execution_count": 18,
     "metadata": {},
     "output_type": "execute_result"
    }
   ],
   "source": [
    "df_i_v = df_inspecs_avg.merge(df2_avg, on='hsisid')\n",
    "df_i_v"
   ]
  },
  {
   "cell_type": "code",
   "execution_count": 19,
   "metadata": {},
   "outputs": [
    {
     "data": {
      "text/plain": [
       "<matplotlib.axes._subplots.AxesSubplot at 0x7f29250897f0>"
      ]
     },
     "execution_count": 19,
     "metadata": {},
     "output_type": "execute_result"
    },
    {
     "data": {
      "image/png": "[encoded data removed]",
      "text/plain": [
       "<Figure size 432x288 with 1 Axes>"
      ]
     },
     "metadata": {
      "needs_background": "light"
     },
     "output_type": "display_data"
    }
   ],
   "source": [
    "sns.distplot(df_i_v['avg_non_crit'], kde = False, bins = 25)"
   ]
  },
  {
   "cell_type": "code",
   "execution_count": 20,
   "metadata": {},
   "outputs": [
    {
     "data": {
      "text/plain": [
       "<matplotlib.axes._subplots.AxesSubplot at 0x7f292561d240>"
      ]
     },
     "execution_count": 20,
     "metadata": {},
     "output_type": "execute_result"
    },
    {
     "data": {
      "image/png": "[encoded data removed]",
      "text/plain": [
       "<Figure size 432x288 with 1 Axes>"
      ]
     },
     "metadata": {
      "needs_background": "light"
     },
     "output_type": "display_data"
    }
   ],
   "source": [
    "sns.distplot(df_i_v['avg_crit'], kde = False, bins = 25)"
   ]
  },
  {
   "cell_type": "code",
   "execution_count": 21,
   "metadata": {},
   "outputs": [],
   "source": [
    "def log_viols(num):\n",
    "    num = num + 1\n",
    "    return np.log10(num)"
   ]
  },
  {
   "cell_type": "code",
   "execution_count": 22,
   "metadata": {},
   "outputs": [
    {
     "data": {
      "text/html": [
       "<div>\n",
       "<style scoped>\n",
       "    .dataframe tbody tr th:only-of-type {\n",
       "        vertical-align: middle;\n",
       "    }\n",
       "\n",
       "    .dataframe tbody tr th {\n",
       "        vertical-align: top;\n",
       "    }\n",
       "\n",
       "    .dataframe thead th {\n",
       "        text-align: right;\n",
       "    }\n",
       "</style>\n",
       "<table border=\"1\" class=\"dataframe\">\n",
       "  <thead>\n",
       "    <tr style=\"text-align: right;\">\n",
       "      <th></th>\n",
       "      <th>score</th>\n",
       "      <th>avg_non_crit</th>\n",
       "      <th>avg_crit</th>\n",
       "      <th>log_avg_crit</th>\n",
       "      <th>log_avg_non_crit</th>\n",
       "    </tr>\n",
       "    <tr>\n",
       "      <th>hsisid</th>\n",
       "      <th></th>\n",
       "      <th></th>\n",
       "      <th></th>\n",
       "      <th></th>\n",
       "      <th></th>\n",
       "    </tr>\n",
       "  </thead>\n",
       "  <tbody>\n",
       "    <tr>\n",
       "      <th>4092010018</th>\n",
       "      <td>94.333333</td>\n",
       "      <td>1.166667</td>\n",
       "      <td>2.666667</td>\n",
       "      <td>0.564271</td>\n",
       "      <td>0.335792</td>\n",
       "    </tr>\n",
       "    <tr>\n",
       "      <th>4092010024</th>\n",
       "      <td>94.772727</td>\n",
       "      <td>2.000000</td>\n",
       "      <td>1.125000</td>\n",
       "      <td>0.327359</td>\n",
       "      <td>0.477121</td>\n",
       "    </tr>\n",
       "    <tr>\n",
       "      <th>4092010031</th>\n",
       "      <td>94.375000</td>\n",
       "      <td>0.500000</td>\n",
       "      <td>2.000000</td>\n",
       "      <td>0.477121</td>\n",
       "      <td>0.176091</td>\n",
       "    </tr>\n",
       "    <tr>\n",
       "      <th>4092010035</th>\n",
       "      <td>94.500000</td>\n",
       "      <td>2.000000</td>\n",
       "      <td>0.500000</td>\n",
       "      <td>0.176091</td>\n",
       "      <td>0.477121</td>\n",
       "    </tr>\n",
       "    <tr>\n",
       "      <th>4092010037</th>\n",
       "      <td>96.400000</td>\n",
       "      <td>1.400000</td>\n",
       "      <td>0.800000</td>\n",
       "      <td>0.255273</td>\n",
       "      <td>0.380211</td>\n",
       "    </tr>\n",
       "    <tr>\n",
       "      <th>...</th>\n",
       "      <td>...</td>\n",
       "      <td>...</td>\n",
       "      <td>...</td>\n",
       "      <td>...</td>\n",
       "      <td>...</td>\n",
       "    </tr>\n",
       "    <tr>\n",
       "      <th>4092300269</th>\n",
       "      <td>97.300000</td>\n",
       "      <td>0.000000</td>\n",
       "      <td>1.250000</td>\n",
       "      <td>0.352183</td>\n",
       "      <td>0.000000</td>\n",
       "    </tr>\n",
       "    <tr>\n",
       "      <th>4092300270</th>\n",
       "      <td>98.000000</td>\n",
       "      <td>0.250000</td>\n",
       "      <td>1.333333</td>\n",
       "      <td>0.367977</td>\n",
       "      <td>0.096910</td>\n",
       "    </tr>\n",
       "    <tr>\n",
       "      <th>4092300271</th>\n",
       "      <td>92.500000</td>\n",
       "      <td>2.000000</td>\n",
       "      <td>3.000000</td>\n",
       "      <td>0.602060</td>\n",
       "      <td>0.477121</td>\n",
       "    </tr>\n",
       "    <tr>\n",
       "      <th>4092300272</th>\n",
       "      <td>96.500000</td>\n",
       "      <td>0.000000</td>\n",
       "      <td>2.000000</td>\n",
       "      <td>0.477121</td>\n",
       "      <td>0.000000</td>\n",
       "    </tr>\n",
       "    <tr>\n",
       "      <th>4092300273</th>\n",
       "      <td>96.500000</td>\n",
       "      <td>1.000000</td>\n",
       "      <td>1.000000</td>\n",
       "      <td>0.301030</td>\n",
       "      <td>0.301030</td>\n",
       "    </tr>\n",
       "  </tbody>\n",
       "</table>\n",
       "<p>2978 rows × 5 columns</p>\n",
       "</div>"
      ],
      "text/plain": [
       "                score  avg_non_crit  avg_crit  log_avg_crit  log_avg_non_crit\n",
       "hsisid                                                                       \n",
       "4092010018  94.333333      1.166667  2.666667      0.564271          0.335792\n",
       "4092010024  94.772727      2.000000  1.125000      0.327359          0.477121\n",
       "4092010031  94.375000      0.500000  2.000000      0.477121          0.176091\n",
       "4092010035  94.500000      2.000000  0.500000      0.176091          0.477121\n",
       "4092010037  96.400000      1.400000  0.800000      0.255273          0.380211\n",
       "...               ...           ...       ...           ...               ...\n",
       "4092300269  97.300000      0.000000  1.250000      0.352183          0.000000\n",
       "4092300270  98.000000      0.250000  1.333333      0.367977          0.096910\n",
       "4092300271  92.500000      2.000000  3.000000      0.602060          0.477121\n",
       "4092300272  96.500000      0.000000  2.000000      0.477121          0.000000\n",
       "4092300273  96.500000      1.000000  1.000000      0.301030          0.301030\n",
       "\n",
       "[2978 rows x 5 columns]"
      ]
     },
     "execution_count": 22,
     "metadata": {},
     "output_type": "execute_result"
    }
   ],
   "source": [
    "df_i_v['log_avg_crit'] = df_i_v['avg_crit'].apply(log_viols)\n",
    "df_i_v['log_avg_non_crit'] = df_i_v['avg_non_crit'].apply(log_viols)\n",
    "df_i_v"
   ]
  },
  {
   "cell_type": "code",
   "execution_count": 23,
   "metadata": {},
   "outputs": [
    {
     "data": {
      "text/plain": [
       "<matplotlib.axes._subplots.AxesSubplot at 0x7f29255474a8>"
      ]
     },
     "execution_count": 23,
     "metadata": {},
     "output_type": "execute_result"
    },
    {
     "data": {
      "image/png": "[encoded data removed]",
      "text/plain": [
       "<Figure size 432x288 with 1 Axes>"
      ]
     },
     "metadata": {
      "needs_background": "light"
     },
     "output_type": "display_data"
    }
   ],
   "source": [
    "sns.distplot(df_i_v['log_avg_crit'], kde = False, bins = 25)"
   ]
  },
  {
   "cell_type": "code",
   "execution_count": 24,
   "metadata": {},
   "outputs": [
    {
     "data": {
      "text/plain": [
       "<matplotlib.axes._subplots.AxesSubplot at 0x7f292547fc50>"
      ]
     },
     "execution_count": 24,
     "metadata": {},
     "output_type": "execute_result"
    },
    {
     "data": {
      "image/png": "[encoded data removed]",
      "text/plain": [
       "<Figure size 432x288 with 1 Axes>"
      ]
     },
     "metadata": {
      "needs_background": "light"
     },
     "output_type": "display_data"
    }
   ],
   "source": [
    "sns.distplot(df_i_v['log_avg_non_crit'], kde = False, bins = 25)"
   ]
  },
  {
   "cell_type": "code",
   "execution_count": 25,
   "metadata": {},
   "outputs": [
    {
     "data": {
      "text/plain": [
       "99.5"
      ]
     },
     "execution_count": 25,
     "metadata": {},
     "output_type": "execute_result"
    }
   ],
   "source": [
    "q_low = df_i_v[\"score\"].quantile(0.01)\n",
    "q_high = df_i_v[\"score\"].quantile(0.99)\n",
    "q_low\n",
    "q_high"
   ]
  },
  {
   "cell_type": "code",
   "execution_count": 26,
   "metadata": {},
   "outputs": [
    {
     "data": {
      "text/plain": [
       "(2914, 5)"
      ]
     },
     "execution_count": 26,
     "metadata": {},
     "output_type": "execute_result"
    }
   ],
   "source": [
    "df_i_v_adj = df_i_v.loc[df_i_v['score']>q_low]\n",
    "df_i_v_adj = df_i_v_adj.loc[df_i_v_adj['score']<q_high]\n",
    "df_i_v_adj.shape"
   ]
  },
  {
   "cell_type": "code",
   "execution_count": 27,
   "metadata": {},
   "outputs": [
    {
     "name": "stdout",
     "output_type": "stream",
     "text": [
      "13\n",
      "29\n"
     ]
    },
    {
     "data": {
      "text/plain": [
       "(2978, 5)"
      ]
     },
     "execution_count": 27,
     "metadata": {},
     "output_type": "execute_result"
    }
   ],
   "source": [
    "print(sum(df_i_v['score']>q_high))\n",
    "print(sum(df_i_v['score']<q_low))\n",
    "df_i_v.shape"
   ]
  },
  {
   "cell_type": "code",
   "execution_count": 28,
   "metadata": {},
   "outputs": [
    {
     "name": "stdout",
     "output_type": "stream",
     "text": [
      "0.0 0.8450980400142569\n"
     ]
    }
   ],
   "source": [
    "q_low_crit = df_i_v[\"log_avg_crit\"].quantile(0.01)\n",
    "q_high_crit = df_i_v[\"log_avg_crit\"].quantile(0.99)\n",
    "print(q_low_crit, q_high_crit)"
   ]
  },
  {
   "cell_type": "code",
   "execution_count": 29,
   "metadata": {},
   "outputs": [
    {
     "name": "stdout",
     "output_type": "stream",
     "text": [
      "0.0 0.6368220975871743\n"
     ]
    }
   ],
   "source": [
    "q_low_non_crit = df_i_v[\"log_avg_non_crit\"].quantile(0.01)\n",
    "q_high_non_crit = df_i_v[\"log_avg_non_crit\"].quantile(0.99)\n",
    "print(q_low_non_crit, q_high_non_crit)"
   ]
  },
  {
   "cell_type": "code",
   "execution_count": 30,
   "metadata": {},
   "outputs": [],
   "source": [
    "df_i_v_final = df_i_v_adj.loc[df_i_v_adj['log_avg_crit']<q_high_crit]\n",
    "df_i_v_final = df_i_v_final.loc[df_i_v_final['log_avg_non_crit']<q_high_non_crit]"
   ]
  },
  {
   "cell_type": "code",
   "execution_count": 31,
   "metadata": {},
   "outputs": [
    {
     "data": {
      "text/plain": [
       "(2884, 5)"
      ]
     },
     "execution_count": 31,
     "metadata": {},
     "output_type": "execute_result"
    }
   ],
   "source": [
    "df_i_v_final.shape"
   ]
  },
  {
   "cell_type": "markdown",
   "metadata": {},
   "source": [
    "# Data Analysis & Results"
   ]
  },
  {
   "cell_type": "markdown",
   "metadata": {},
   "source": [
    "The ending data distribution after cleaning was very right-skewed, having more establishments with little to no average gross point deductions, which you would expect as a result of this type of grading system. The scores data was very concentrated toward 'A's, which can also be expected, but it was more widely varied across the 'A' range. In order to normalize the violations data, I performed a log transformation, which worked to make it slightly more normal.\n",
    "\n",
    "There were also outliers in both data sets, which I removed according to a 99th percentile range.\n",
    "\n",
    "I performed a multivariate linear regression and two single variable linear regressions on the average scores vs the average gross critical and non-critical point deductions. The multivariate regression fit better as I expected, as both variables had an impact on the score, although they had slightly different weights."
   ]
  },
  {
   "cell_type": "code",
   "execution_count": 32,
   "metadata": {},
   "outputs": [
    {
     "data": {
      "image/png": "[encoded data removed]",
      "text/plain": [
       "<Figure size 432x288 with 9 Axes>"
      ]
     },
     "metadata": {
      "needs_background": "light"
     },
     "output_type": "display_data"
    }
   ],
   "source": [
    "df_inspecs_sub = df_inspecs[['score', 'num_critical', 'num_non_critical']]\n",
    "first_fig = pd.plotting.scatter_matrix(df_inspecs_sub)"
   ]
  },
  {
   "cell_type": "markdown",
   "metadata": {},
   "source": [
    "This graph contains a scattermatrix showing raw unedited correlations between score, number of critical violations, and number of non-critical violations. A correlation can be seen between score and each of the violations variables, and a smaller correlation can be seen between critical and non-critical violations."
   ]
  },
  {
   "cell_type": "code",
   "execution_count": 33,
   "metadata": {
    "scrolled": true
   },
   "outputs": [
    {
     "data": {
      "text/plain": [
       "Text(0.5, 1.0, 'Score Variation')"
      ]
     },
     "execution_count": 33,
     "metadata": {},
     "output_type": "execute_result"
    },
    {
     "data": {
      "image/png": "[encoded data removed]",
      "text/plain": [
       "<Figure size 432x288 with 1 Axes>"
      ]
     },
     "metadata": {
      "needs_background": "light"
     },
     "output_type": "display_data"
    }
   ],
   "source": [
    "df_i_v.boxplot(column = 'score')\n",
    "plt.title('Score Variation')"
   ]
  },
  {
   "cell_type": "markdown",
   "metadata": {},
   "source": [
    "This graph contains a box and whisker plot of the scores data. It shows that the scores have a massive concentration within the 'A' range with a smaller number of outliers below it according to the size of the data set."
   ]
  },
  {
   "cell_type": "code",
   "execution_count": 34,
   "metadata": {},
   "outputs": [
    {
     "name": "stdout",
     "output_type": "stream",
     "text": [
      "                            OLS Regression Results                            \n",
      "==============================================================================\n",
      "Dep. Variable:                  score   R-squared:                       0.788\n",
      "Model:                            OLS   Adj. R-squared:                  0.788\n",
      "Method:                 Least Squares   F-statistic:                     5345.\n",
      "Date:                Wed, 10 Jun 2020   Prob (F-statistic):               0.00\n",
      "Time:                        21:25:32   Log-Likelihood:                -3703.9\n",
      "No. Observations:                2884   AIC:                             7414.\n",
      "Df Residuals:                    2881   BIC:                             7432.\n",
      "Df Model:                           2                                         \n",
      "Covariance Type:            nonrobust                                         \n",
      "====================================================================================\n",
      "                       coef    std err          t      P>|t|      [0.025      0.975]\n",
      "------------------------------------------------------------------------------------\n",
      "Intercept          100.5393      0.045   2257.623      0.000     100.452     100.627\n",
      "log_avg_crit        -7.0440      0.098    -71.596      0.000      -7.237      -6.851\n",
      "log_avg_non_crit    -5.4632      0.109    -49.974      0.000      -5.678      -5.249\n",
      "==============================================================================\n",
      "Omnibus:                      260.740   Durbin-Watson:                   1.682\n",
      "Prob(Omnibus):                  0.000   Jarque-Bera (JB):              625.279\n",
      "Skew:                          -0.537   Prob(JB):                    1.67e-136\n",
      "Kurtosis:                       5.012   Cond. No.                         8.14\n",
      "==============================================================================\n",
      "\n",
      "Warnings:\n",
      "[1] Standard Errors assume that the covariance matrix of the errors is correctly specified.\n"
     ]
    }
   ],
   "source": [
    "outcome, predictors = patsy.dmatrices('score ~ log_avg_crit + log_avg_non_crit', df_i_v_final)\n",
    "mod = sm.OLS(outcome, predictors)\n",
    "res = mod.fit()\n",
    "print(res.summary())"
   ]
  },
  {
   "cell_type": "code",
   "execution_count": 36,
   "metadata": {},
   "outputs": [
    {
     "name": "stdout",
     "output_type": "stream",
     "text": [
      "                            OLS Regression Results                            \n",
      "==============================================================================\n",
      "Dep. Variable:                  score   R-squared:                       0.604\n",
      "Model:                            OLS   Adj. R-squared:                  0.604\n",
      "Method:                 Least Squares   F-statistic:                     4390.\n",
      "Date:                Wed, 10 Jun 2020   Prob (F-statistic):               0.00\n",
      "Time:                        21:25:32   Log-Likelihood:                -4604.0\n",
      "No. Observations:                2884   AIC:                             9212.\n",
      "Df Residuals:                    2882   BIC:                             9224.\n",
      "Df Model:                           1                                         \n",
      "Covariance Type:            nonrobust                                         \n",
      "================================================================================\n",
      "                   coef    std err          t      P>|t|      [0.025      0.975]\n",
      "--------------------------------------------------------------------------------\n",
      "Intercept       99.6002      0.055   1805.850      0.000      99.492      99.708\n",
      "log_avg_crit    -8.5036      0.128    -66.256      0.000      -8.755      -8.252\n",
      "==============================================================================\n",
      "Omnibus:                       64.597   Durbin-Watson:                   1.768\n",
      "Prob(Omnibus):                  0.000   Jarque-Bera (JB):               68.685\n",
      "Skew:                          -0.363   Prob(JB):                     1.22e-15\n",
      "Kurtosis:                       3.213   Cond. No.                         6.69\n",
      "==============================================================================\n",
      "\n",
      "Warnings:\n",
      "[1] Standard Errors assume that the covariance matrix of the errors is correctly specified.\n"
     ]
    }
   ],
   "source": [
    "outcome_crit, predictors_crit = patsy.dmatrices('score ~ log_avg_crit', df_i_v_final)\n",
    "mod_crit = sm.OLS(outcome_crit, predictors_crit)\n",
    "res_crit = mod_crit.fit()\n",
    "print(res_crit.summary())"
   ]
  },
  {
   "cell_type": "code",
   "execution_count": 37,
   "metadata": {},
   "outputs": [
    {
     "name": "stdout",
     "output_type": "stream",
     "text": [
      "                            OLS Regression Results                            \n",
      "==============================================================================\n",
      "Dep. Variable:                  score   R-squared:                       0.410\n",
      "Model:                            OLS   Adj. R-squared:                  0.410\n",
      "Method:                 Least Squares   F-statistic:                     2003.\n",
      "Date:                Wed, 10 Jun 2020   Prob (F-statistic):               0.00\n",
      "Time:                        21:25:32   Log-Likelihood:                -5177.8\n",
      "No. Observations:                2884   AIC:                         1.036e+04\n",
      "Df Residuals:                    2882   BIC:                         1.037e+04\n",
      "Df Model:                           1                                         \n",
      "Covariance Type:            nonrobust                                         \n",
      "====================================================================================\n",
      "                       coef    std err          t      P>|t|      [0.025      0.975]\n",
      "------------------------------------------------------------------------------------\n",
      "Intercept           98.4129      0.055   1779.312      0.000      98.304      98.521\n",
      "log_avg_non_crit    -7.7867      0.174    -44.750      0.000      -8.128      -7.446\n",
      "==============================================================================\n",
      "Omnibus:                      342.843   Durbin-Watson:                   1.688\n",
      "Prob(Omnibus):                  0.000   Jarque-Bera (JB):              528.474\n",
      "Skew:                          -0.850   Prob(JB):                    1.75e-115\n",
      "Kurtosis:                       4.228   Cond. No.                         6.91\n",
      "==============================================================================\n",
      "\n",
      "Warnings:\n",
      "[1] Standard Errors assume that the covariance matrix of the errors is correctly specified.\n"
     ]
    }
   ],
   "source": [
    "outcome_non_crit, predictors_non_crit = patsy.dmatrices('score ~ log_avg_non_crit', df_i_v_final)\n",
    "mod_non_crit = sm.OLS(outcome_non_crit, predictors_non_crit)\n",
    "res_non_crit = mod_non_crit.fit()\n",
    "print(res_non_crit.summary())"
   ]
  },
  {
   "cell_type": "code",
   "execution_count": null,
   "metadata": {},
   "outputs": [],
   "source": []
  },
  {
   "cell_type": "code",
   "execution_count": 38,
   "metadata": {},
   "outputs": [
    {
     "data": {
      "text/plain": [
       "Text(0.5, 1.0, 'Score vs Log of Gross Critical Violations')"
      ]
     },
     "execution_count": 38,
     "metadata": {},
     "output_type": "execute_result"
    },
    {
     "data": {
      "image/png": "[encoded data removed]",
      "text/plain": [
       "<Figure size 432x288 with 1 Axes>"
      ]
     },
     "metadata": {
      "needs_background": "light"
     },
     "output_type": "display_data"
    }
   ],
   "source": [
    "ax1 = df_i_v_final.plot(x='log_avg_crit', y='score', kind='scatter', xlim=(0,1.2))\n",
    "plt.title('Score vs Log of Gross Critical Violations', fontdict=None, loc='center', pad=None)"
   ]
  },
  {
   "cell_type": "code",
   "execution_count": 39,
   "metadata": {
    "scrolled": true
   },
   "outputs": [
    {
     "data": {
      "image/png": "[encoded data removed]",
      "text/plain": [
       "<Figure size 432x288 with 1 Axes>"
      ]
     },
     "execution_count": 39,
     "metadata": {},
     "output_type": "execute_result"
    }
   ],
   "source": [
    "abline_plot(model_results=mod_crit.fit(), ax=ax1)"
   ]
  },
  {
   "cell_type": "markdown",
   "metadata": {},
   "source": [
    "The two above graphs show the scatterplot of the average scores vs the log of the average gross critical point deductions. On the second graph, the regression line obtained from a OLS regression is included to show the trend of the data."
   ]
  },
  {
   "cell_type": "code",
   "execution_count": 40,
   "metadata": {},
   "outputs": [
    {
     "data": {
      "text/plain": [
       "Text(0.5, 1.0, 'Score vs Log of Gross Non-Critical Violations')"
      ]
     },
     "execution_count": 40,
     "metadata": {},
     "output_type": "execute_result"
    },
    {
     "data": {
      "image/png": "[encoded data removed]",
      "text/plain": [
       "<Figure size 432x288 with 1 Axes>"
      ]
     },
     "metadata": {
      "needs_background": "light"
     },
     "output_type": "display_data"
    }
   ],
   "source": [
    "ax2 = df_i_v_final.plot(x='log_avg_non_crit', y='score', kind='scatter', xlim=(0,1.2))\n",
    "plt.title('Score vs Log of Gross Non-Critical Violations', fontdict=None, loc='center', pad=None)"
   ]
  },
  {
   "cell_type": "code",
   "execution_count": 41,
   "metadata": {
    "scrolled": true
   },
   "outputs": [
    {
     "data": {
      "image/png": "[encoded data removed]",
      "text/plain": [
       "<Figure size 432x288 with 1 Axes>"
      ]
     },
     "execution_count": 41,
     "metadata": {},
     "output_type": "execute_result"
    }
   ],
   "source": [
    "abline_plot(model_results=mod_non_crit.fit(), ax=ax2)"
   ]
  },
  {
   "cell_type": "markdown",
   "metadata": {},
   "source": [
    "The two above graphs show the scatterplot of the average scores vs the log of the average gross non-critical point deductions. On the second graph, the regression line obtained from a OLS regression is included to show the trend of the data."
   ]
  },
  {
   "cell_type": "code",
   "execution_count": 44,
   "metadata": {},
   "outputs": [
    {
     "name": "stdout",
     "output_type": "stream",
     "text": [
      "5.846325167037862 11.692650334075724\n"
     ]
    }
   ],
   "source": [
    "non_crit_to_B = (90 - 100.5)/(-.898)\n",
    "crit_to_B = non_crit_to_B/2\n",
    "print(crit_to_B, non_crit_to_B)"
   ]
  },
  {
   "cell_type": "code",
   "execution_count": 45,
   "metadata": {},
   "outputs": [
    {
     "name": "stdout",
     "output_type": "stream",
     "text": [
      "11.414253897550111 22.828507795100222\n"
     ]
    }
   ],
   "source": [
    "non_crit_to_C = (80 - 100.5)/(-.898)\n",
    "crit_to_C = non_crit_to_C/2\n",
    "print(crit_to_C, non_crit_to_C)\n",
    "non_crit_to_C = (80-100.5)"
   ]
  },
  {
   "cell_type": "markdown",
   "metadata": {},
   "source": [
    "# Ethics & Privacy"
   ]
  },
  {
   "cell_type": "markdown",
   "metadata": {},
   "source": [
    "In order to protect the privacy of those who contributed to the datasets, information has been witheld that could personally identify anyone involved. During data cleaning, I dropped all columns of the data sets that were personally identifiable. I also ommitted information about things like zipcode and city name, just in case they might violate the Safe Harbor rules. I also removed columns containing any geographical information for the reason that it might violate Safe Harbor principles and because it was not relevant to my analysis."
   ]
  },
  {
   "cell_type": "markdown",
   "metadata": {},
   "source": [
    "# Conclusion & Discussion"
   ]
  },
  {
   "cell_type": "markdown",
   "metadata": {},
   "source": [
    "The goal of this project was to determine if the scores were representative of the actual health and safety conditions of the establishments. To determine this, I combined the data from the inspections with the individual violations data. I merged the averages of the scores with the averages of the gross total point deductions (between critical and non-critical). Then, after a log transformation for uniformity in the predictor variables, I ran a multivariate regression to predict average score from average gross critical and non-critical point deductions. From this regression line, I found that the approximate point deductions on an average inspection to drop from an 'A' to a 'B' is about 10 non-critical and 5 critical. I came to these values by using the multivariable regression line and the assumption that, based on the rest of the data, there are usually about twice as many non-critical violations as critical violations. \n",
    "\n",
    "Based on my findings, I can conclude that the scores of health inspections in this region are, in fact, representative of the actual health and safety conditions within the establishments. Since these numbers are average gross point deductions, this means that there can be any combination of multiple 1, 2, 3, or 4 point deductions to sum up to the values. The 5 total critical point deductions means that there can only be two maximum severe point deductions, which seems fair to the establishments as an average range for an 'A'. The regression begins to lose credibility below a 90%, because only about 2% of the data falls below this score. However, this would make sense for the average scores over the entire period, because the purpose of the violations would be to promote better practices, encouraging restaurants to keep their scores high. Overall, I would approve of this health inspection point system.\n",
    "\n",
    "In my original research proposal, I suggested the utility of yelp reviews in gauging a customer's perspective on the health and safety conditions of a food establishment. I feel like this would be an important, albeit possibly biased, perspective on the effectiveness of the inspections. In the future, if customer reviews could be obtained, a text analysis could be used to add another metric to use in analyzing the effectiveness of the scores in describing an establishment's health standards. In this project, averages were taken across all inspections for individual establishments. If I had more time, I would have liked to figure out how to combine the inspections and violations data on the hsisid and inspection date to see if the model could be improved in any way."
   ]
  }
 ],
 "metadata": {
  "kernelspec": {
   "display_name": "Python 3",
   "language": "python",
   "name": "python3"
  },
  "language_info": {
   "codemirror_mode": {
    "name": "ipython",
    "version": 3
   },
   "file_extension": ".py",
   "mimetype": "text/x-python",
   "name": "python",
   "nbconvert_exporter": "python",
   "pygments_lexer": "ipython3",
   "version": "3.6.7"
  }
 },
 "nbformat": 4,
 "nbformat_minor": 2
}
