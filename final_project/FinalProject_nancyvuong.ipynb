{
 "cells": [
  {
   "cell_type": "markdown",
   "metadata": {},
   "source": [
    "# COGS 108 - Final Project "
   ]
  },
  {
   "cell_type": "markdown",
   "metadata": {},
   "source": [
    "# Overview"
   ]
  },
  {
   "cell_type": "markdown",
   "metadata": {},
   "source": [
    "In this project I explored whether or not there are disparities of cleanliness between Wake County restaurants in high income areas and restaurants that are not. I performed two t-tests and got polarizing results. "
   ]
  },
  {
   "cell_type": "markdown",
   "metadata": {},
   "source": [
    "# Name & PID\n",
    "\n",
    "- Name: Nancy Vuong\n",
    "- PID: A13572030"
   ]
  },
  {
   "cell_type": "markdown",
   "metadata": {},
   "source": [
    "# Research Question"
   ]
  },
  {
   "cell_type": "markdown",
   "metadata": {},
   "source": [
    "Is there a relationship between the average wealth of a restaurant's location and how much critical health violations it made? "
   ]
  },
  {
   "cell_type": "markdown",
   "metadata": {},
   "source": [
    "## Background and Prior Work"
   ]
  },
  {
   "cell_type": "markdown",
   "metadata": {},
   "source": [
    "In 2014, a consumer report surverying 1003 people about their restaurant complaints. The most common complaints about eating at restaurants people had were hygeine related, such as having \"dirty utensils and tables\", \"dirty or ill-equiped bathrooms\", or having \"servers with sloppy appearance and poor hygiene\". All of these reasons are also health violations according to the California Retail Food Code, for obvious reasons.\n",
    "\n",
    "\n",
    "A study done in 2016 found a way to detect high-health-risk restaurants from Yelp reviews and found that Yelp reviews that complain about a restaurant's hygiene is tend to not contain the word \"affordable\". This has led me to wonder if wealth plays a role in a restaurant's overall cleanliness. \n",
    "\n",
    "References:\n",
    "- 1) Consumer Report https://www.consumerreports.org/cro/magazine/2014/08/most-common-restaurant-complaints/index.htm\n",
    "- 2) Supplementing Public Health Inspection via Social Media https://www.ncbi.nlm.nih.gov/pmc/articles/PMC4811425/"
   ]
  },
  {
   "cell_type": "markdown",
   "metadata": {},
   "source": [
    "# Hypothesis\n"
   ]
  },
  {
   "cell_type": "markdown",
   "metadata": {},
   "source": [
    "Being located in wealthier areas does affect how many critical health violations health violations a restaurant makes."
   ]
  },
  {
   "cell_type": "markdown",
   "metadata": {},
   "source": [
    "# Dataset(s)"
   ]
  },
  {
   "cell_type": "markdown",
   "metadata": {},
   "source": [
    "- Dataset Name: restaurants.csv\n",
    "- Link to the dataset: https://canvas.ucsd.edu/courses/12630/files?preview=1639871\n",
    "- Number of observations: 3324\n",
    "This dataset contains information of restaurants in Wake County, North Carolina. Each row is a restaurant with its own individual id and contains location like its name, address, zip code.\n",
    "\n",
    "- Dataset Name: violations.csv\n",
    "- Link to the dataset: https://canvas.ucsd.edu/courses/12630/files?preview=1639871\n",
    "- Number of observations: 189802\n",
    "This dataset contains information on each health code violation a restaurant in Wake County. Each row represent one violation and the columns contain information about that violation like how severe it was, what restaurant made that violation, and if the violation was critical. The only columns I found to be important were restaurant id and if the violation was critical as I found that restaurants make tons of small violations all the time, but the critical ones are the ones that should be worried about.\n",
    "\n",
    "- Dataset Name: zipcodes.csv\n",
    "- Link to the dataset: https://canvas.ucsd.edu/courses/12630/files?preview=1639871\n",
    "- Number of observations: 38\n",
    "This dataset contains information on every zipcode in Wake County. Each observation is a zip code and the columns contain information about that zip code like the median household income of that zip code.\n",
    "\n",
    "I plan on combining the restaurant and violations dataset by left joining them on the unique id of the restaurant. I then combine that merged dataframe with the zipcodes dataset by inner joining them on the zip codes of the restaurant."
   ]
  },
  {
   "cell_type": "markdown",
   "metadata": {},
   "source": [
    "# Setup"
   ]
  },
  {
   "cell_type": "code",
   "execution_count": 115,
   "metadata": {},
   "outputs": [],
   "source": [
    "## YOUR CODE HERE\n",
    "import pandas as pd\n",
    "import numpy as np\n",
    "import seaborn as sns\n",
    "import matplotlib.pyplot as plt\n",
    "import patsy\n",
    "import statsmodels.api as sm\n",
    "from scipy.stats import pearsonr, norm, ttest_ind, zscore\n",
    "import warnings\n",
    "warnings.filterwarnings('ignore')\n",
    "\n",
    "restaurants = pd.read_csv(\"data/restaurants.csv\")\n",
    "violations = pd.read_csv(\"data/violations.csv\")\n",
    "zipcodes = pd.read_csv(\"data/zipcodes.csv\")"
   ]
  },
  {
   "cell_type": "markdown",
   "metadata": {},
   "source": [
    "# Data Cleaning"
   ]
  },
  {
   "cell_type": "markdown",
   "metadata": {},
   "source": [
    "A quick look at the restaurants dataset shows that some of the zip codes it contains exceeds 5 digits."
   ]
  },
  {
   "cell_type": "code",
   "execution_count": 2,
   "metadata": {},
   "outputs": [
    {
     "data": {
      "text/html": [
       "<div>\n",
       "<style scoped>\n",
       "    .dataframe tbody tr th:only-of-type {\n",
       "        vertical-align: middle;\n",
       "    }\n",
       "\n",
       "    .dataframe tbody tr th {\n",
       "        vertical-align: top;\n",
       "    }\n",
       "\n",
       "    .dataframe thead th {\n",
       "        text-align: right;\n",
       "    }\n",
       "</style>\n",
       "<table border=\"1\" class=\"dataframe\">\n",
       "  <thead>\n",
       "    <tr style=\"text-align: right;\">\n",
       "      <th></th>\n",
       "      <th>X.objectid</th>\n",
       "      <th>hsisid</th>\n",
       "      <th>name</th>\n",
       "      <th>address1</th>\n",
       "      <th>address2</th>\n",
       "      <th>city</th>\n",
       "      <th>state</th>\n",
       "      <th>postalcode</th>\n",
       "      <th>phonenumber</th>\n",
       "      <th>restaurantopendate</th>\n",
       "      <th>facilitytype</th>\n",
       "      <th>x</th>\n",
       "      <th>y</th>\n",
       "      <th>geocodestatus</th>\n",
       "    </tr>\n",
       "  </thead>\n",
       "  <tbody>\n",
       "    <tr>\n",
       "      <th>0</th>\n",
       "      <td>1001</td>\n",
       "      <td>4092017230</td>\n",
       "      <td>SPRING CAFE 2</td>\n",
       "      <td>2900-104 SPRING FOREST RD</td>\n",
       "      <td>NaN</td>\n",
       "      <td>RALEIGH</td>\n",
       "      <td>NC</td>\n",
       "      <td>27616-1895</td>\n",
       "      <td>(919) 977-3679</td>\n",
       "      <td>2016-05-26T00:00:00.000Z</td>\n",
       "      <td>Restaurant</td>\n",
       "      <td>-78.591634</td>\n",
       "      <td>35.855487</td>\n",
       "      <td>M</td>\n",
       "    </tr>\n",
       "    <tr>\n",
       "      <th>1</th>\n",
       "      <td>1002</td>\n",
       "      <td>4092040338</td>\n",
       "      <td>CAROLINA CLASSIC HOT DOGS #2 (WCID #549)</td>\n",
       "      <td>309 HOLLOMAN ST</td>\n",
       "      <td>NaN</td>\n",
       "      <td>APEX</td>\n",
       "      <td>NC</td>\n",
       "      <td>27502</td>\n",
       "      <td>NaN</td>\n",
       "      <td>2016-07-01T00:00:00.000Z</td>\n",
       "      <td>Pushcarts</td>\n",
       "      <td>-78.855348</td>\n",
       "      <td>35.730219</td>\n",
       "      <td>M</td>\n",
       "    </tr>\n",
       "    <tr>\n",
       "      <th>2</th>\n",
       "      <td>1003</td>\n",
       "      <td>4092014444</td>\n",
       "      <td>Taco Bell #22798</td>\n",
       "      <td>2207 S MAIN ST</td>\n",
       "      <td>NaN</td>\n",
       "      <td>WAKE FOREST</td>\n",
       "      <td>NC</td>\n",
       "      <td>27587</td>\n",
       "      <td>(919) 554-4924</td>\n",
       "      <td>2005-12-05T00:00:00.000Z</td>\n",
       "      <td>Restaurant</td>\n",
       "      <td>-78.536145</td>\n",
       "      <td>35.946695</td>\n",
       "      <td>M</td>\n",
       "    </tr>\n",
       "    <tr>\n",
       "      <th>3</th>\n",
       "      <td>1004</td>\n",
       "      <td>4092015333</td>\n",
       "      <td>THE REMEDY DINER</td>\n",
       "      <td>137 E HARGETT ST</td>\n",
       "      <td>NaN</td>\n",
       "      <td>RALEIGH</td>\n",
       "      <td>NC</td>\n",
       "      <td>27601</td>\n",
       "      <td>(919) 835-3553</td>\n",
       "      <td>2009-02-04T00:00:00.000Z</td>\n",
       "      <td>Restaurant</td>\n",
       "      <td>-78.636895</td>\n",
       "      <td>35.777999</td>\n",
       "      <td>M</td>\n",
       "    </tr>\n",
       "    <tr>\n",
       "      <th>4</th>\n",
       "      <td>1005</td>\n",
       "      <td>4092160069</td>\n",
       "      <td>ZEBULON HOUSE (KITCHEN)</td>\n",
       "      <td>551 PONY RD</td>\n",
       "      <td>NaN</td>\n",
       "      <td>ZEBULON</td>\n",
       "      <td>NC</td>\n",
       "      <td>27597</td>\n",
       "      <td>NaN</td>\n",
       "      <td>2009-02-18T00:00:00.000Z</td>\n",
       "      <td>Institutional Food Service</td>\n",
       "      <td>-78.332138</td>\n",
       "      <td>35.816779</td>\n",
       "      <td>M</td>\n",
       "    </tr>\n",
       "  </tbody>\n",
       "</table>\n",
       "</div>"
      ],
      "text/plain": [
       "   X.objectid      hsisid                                      name  \\\n",
       "0        1001  4092017230                             SPRING CAFE 2   \n",
       "1        1002  4092040338  CAROLINA CLASSIC HOT DOGS #2 (WCID #549)   \n",
       "2        1003  4092014444                          Taco Bell #22798   \n",
       "3        1004  4092015333                          THE REMEDY DINER   \n",
       "4        1005  4092160069                   ZEBULON HOUSE (KITCHEN)   \n",
       "\n",
       "                     address1 address2         city state  postalcode  \\\n",
       "0  2900-104 SPRING FOREST RD       NaN      RALEIGH    NC  27616-1895   \n",
       "1            309 HOLLOMAN ST       NaN         APEX    NC       27502   \n",
       "2             2207 S MAIN ST       NaN  WAKE FOREST    NC       27587   \n",
       "3           137 E HARGETT ST       NaN      RALEIGH    NC       27601   \n",
       "4                551 PONY RD       NaN      ZEBULON    NC       27597   \n",
       "\n",
       "      phonenumber        restaurantopendate                facilitytype  \\\n",
       "0  (919) 977-3679  2016-05-26T00:00:00.000Z                  Restaurant   \n",
       "1             NaN  2016-07-01T00:00:00.000Z                   Pushcarts   \n",
       "2  (919) 554-4924  2005-12-05T00:00:00.000Z                  Restaurant   \n",
       "3  (919) 835-3553  2009-02-04T00:00:00.000Z                  Restaurant   \n",
       "4             NaN  2009-02-18T00:00:00.000Z  Institutional Food Service   \n",
       "\n",
       "           x          y geocodestatus  \n",
       "0 -78.591634  35.855487             M  \n",
       "1 -78.855348  35.730219             M  \n",
       "2 -78.536145  35.946695             M  \n",
       "3 -78.636895  35.777999             M  \n",
       "4 -78.332138  35.816779             M  "
      ]
     },
     "execution_count": 2,
     "metadata": {},
     "output_type": "execute_result"
    }
   ],
   "source": [
    "restaurants.head()"
   ]
  },
  {
   "cell_type": "markdown",
   "metadata": {},
   "source": [
    "This conflicts with the formatting of the zip codes from the zipcodes data where all the zip codes there are only 5 digits. This means I need to clean the postalcode column of the restaurants data so the values there only contain the first 5 digits and also convert the values to int because the zip codes in the zipcode data are in int while the ones in the restaurant data are in string. While I am at it I will reduce the restaurant dataset to only the hsisid (the unique id of a restaurant) and postalcode as they are all what I need from the restaurants dataset."
   ]
  },
  {
   "cell_type": "code",
   "execution_count": 9,
   "metadata": {},
   "outputs": [],
   "source": [
    "rest = restaurants[[\"hsisid\", \"postalcode\"]]\n",
    "rest[\"postalcode\"] = rest[\"postalcode\"].apply(lambda x: int(x[:5]))"
   ]
  },
  {
   "cell_type": "markdown",
   "metadata": {},
   "source": [
    "Similarily I am cleaning the violations data by reducing it to only the hsisid and the critical column as those are all I need. Since the values of the critical column are only either \"Yes\" or \"No\" I will clean this column by converting all \"Yes\"'s to 1 and \"No\"'s to 0 since this will make it easier to count the number of critical violations later."
   ]
  },
  {
   "cell_type": "code",
   "execution_count": 10,
   "metadata": {},
   "outputs": [],
   "source": [
    "vio = violations[[\"hsisid\", \"critical\"]]\n",
    "vio[\"critical\"] = vio[\"critical\"].apply(lambda x: 1 if x == \"Yes\" else 0)"
   ]
  },
  {
   "cell_type": "markdown",
   "metadata": {},
   "source": [
    "I reduced the zipcodes dataset to just the zip and median_household_income_dollars column. I then merge all three dataframes. I chose to apply a left join on the restaurant and the violations dataframe since I figured that not all restaurants would have made a health code violation and some health code violations could be made by restaurants that were no longer open.\n",
    "\n",
    "Since some restaurants did not make any health violations, the corresponding value of the restaurant to the critical column would be NaN so I had to fill those NaN values with 0s. This makes sense as a restaurant with no critical health violations would have 0 critical health violations."
   ]
  },
  {
   "cell_type": "code",
   "execution_count": 14,
   "metadata": {},
   "outputs": [
    {
     "data": {
      "text/html": [
       "<div>\n",
       "<style scoped>\n",
       "    .dataframe tbody tr th:only-of-type {\n",
       "        vertical-align: middle;\n",
       "    }\n",
       "\n",
       "    .dataframe tbody tr th {\n",
       "        vertical-align: top;\n",
       "    }\n",
       "\n",
       "    .dataframe thead th {\n",
       "        text-align: right;\n",
       "    }\n",
       "</style>\n",
       "<table border=\"1\" class=\"dataframe\">\n",
       "  <thead>\n",
       "    <tr style=\"text-align: right;\">\n",
       "      <th></th>\n",
       "      <th>hsisid</th>\n",
       "      <th>postalcode</th>\n",
       "      <th>critical</th>\n",
       "      <th>zip</th>\n",
       "      <th>median_household_income_dollars</th>\n",
       "    </tr>\n",
       "  </thead>\n",
       "  <tbody>\n",
       "    <tr>\n",
       "      <th>0</th>\n",
       "      <td>4092017230</td>\n",
       "      <td>27616</td>\n",
       "      <td>1.0</td>\n",
       "      <td>27616</td>\n",
       "      <td>56323</td>\n",
       "    </tr>\n",
       "    <tr>\n",
       "      <th>1</th>\n",
       "      <td>4092017230</td>\n",
       "      <td>27616</td>\n",
       "      <td>1.0</td>\n",
       "      <td>27616</td>\n",
       "      <td>56323</td>\n",
       "    </tr>\n",
       "    <tr>\n",
       "      <th>2</th>\n",
       "      <td>4092017230</td>\n",
       "      <td>27616</td>\n",
       "      <td>1.0</td>\n",
       "      <td>27616</td>\n",
       "      <td>56323</td>\n",
       "    </tr>\n",
       "    <tr>\n",
       "      <th>3</th>\n",
       "      <td>4092017230</td>\n",
       "      <td>27616</td>\n",
       "      <td>1.0</td>\n",
       "      <td>27616</td>\n",
       "      <td>56323</td>\n",
       "    </tr>\n",
       "    <tr>\n",
       "      <th>4</th>\n",
       "      <td>4092017230</td>\n",
       "      <td>27616</td>\n",
       "      <td>1.0</td>\n",
       "      <td>27616</td>\n",
       "      <td>56323</td>\n",
       "    </tr>\n",
       "  </tbody>\n",
       "</table>\n",
       "</div>"
      ],
      "text/plain": [
       "       hsisid  postalcode  critical    zip  median_household_income_dollars\n",
       "0  4092017230       27616       1.0  27616                            56323\n",
       "1  4092017230       27616       1.0  27616                            56323\n",
       "2  4092017230       27616       1.0  27616                            56323\n",
       "3  4092017230       27616       1.0  27616                            56323\n",
       "4  4092017230       27616       1.0  27616                            56323"
      ]
     },
     "execution_count": 14,
     "metadata": {},
     "output_type": "execute_result"
    }
   ],
   "source": [
    "zips = zipcodes[[\"zip\", \"median_household_income_dollars\"]]\n",
    "restviozip = rest.merge(vio, how = \"left\", on = \"hsisid\").merge(zips, how = \"inner\", \n",
    "                                                                left_on = \"postalcode\",\n",
    "                                                               right_on = \"zip\")\n",
    "restviozip[\"critical\"] = restviozip[\"critical\"].fillna(0)\n",
    "restviozip.head()"
   ]
  },
  {
   "cell_type": "markdown",
   "metadata": {},
   "source": [
    "# Data Analysis & Results"
   ]
  },
  {
   "cell_type": "markdown",
   "metadata": {},
   "source": [
    "Here I find the total number of critical violations made by each restaurant and display it in  a groupby dataframe with the median household income of the restaurant's location. The values in the \"critical\" column are now the total number of critical health violations of each restaurant."
   ]
  },
  {
   "cell_type": "code",
   "execution_count": 32,
   "metadata": {},
   "outputs": [
    {
     "data": {
      "text/html": [
       "<div>\n",
       "<style scoped>\n",
       "    .dataframe tbody tr th:only-of-type {\n",
       "        vertical-align: middle;\n",
       "    }\n",
       "\n",
       "    .dataframe tbody tr th {\n",
       "        vertical-align: top;\n",
       "    }\n",
       "\n",
       "    .dataframe thead th {\n",
       "        text-align: right;\n",
       "    }\n",
       "</style>\n",
       "<table border=\"1\" class=\"dataframe\">\n",
       "  <thead>\n",
       "    <tr style=\"text-align: right;\">\n",
       "      <th></th>\n",
       "      <th>critical</th>\n",
       "      <th>median_household_income_dollars</th>\n",
       "    </tr>\n",
       "    <tr>\n",
       "      <th>hsisid</th>\n",
       "      <th></th>\n",
       "      <th></th>\n",
       "    </tr>\n",
       "  </thead>\n",
       "  <tbody>\n",
       "    <tr>\n",
       "      <th>4092010024</th>\n",
       "      <td>13.0</td>\n",
       "      <td>53825</td>\n",
       "    </tr>\n",
       "    <tr>\n",
       "      <th>4092010031</th>\n",
       "      <td>10.0</td>\n",
       "      <td>50365</td>\n",
       "    </tr>\n",
       "    <tr>\n",
       "      <th>4092010035</th>\n",
       "      <td>9.0</td>\n",
       "      <td>67392</td>\n",
       "    </tr>\n",
       "    <tr>\n",
       "      <th>4092010037</th>\n",
       "      <td>12.0</td>\n",
       "      <td>50868</td>\n",
       "    </tr>\n",
       "    <tr>\n",
       "      <th>4092010046</th>\n",
       "      <td>16.0</td>\n",
       "      <td>50365</td>\n",
       "    </tr>\n",
       "  </tbody>\n",
       "</table>\n",
       "</div>"
      ],
      "text/plain": [
       "            critical  median_household_income_dollars\n",
       "hsisid                                               \n",
       "4092010024      13.0                            53825\n",
       "4092010031      10.0                            50365\n",
       "4092010035       9.0                            67392\n",
       "4092010037      12.0                            50868\n",
       "4092010046      16.0                            50365"
      ]
     },
     "execution_count": 32,
     "metadata": {},
     "output_type": "execute_result"
    }
   ],
   "source": [
    "vio_per_rest = restviozip.groupby(\"hsisid\").agg({'critical': 'sum', \n",
    "                                                              'median_household_income_dollars': \"max\"})\n",
    "vio_per_rest.head()"
   ]
  },
  {
   "cell_type": "markdown",
   "metadata": {},
   "source": [
    "I wanted to see if I could perform a linear regression with the variables median_household_income_dollars and critical. One of the requirements of performing linear regression is that the two variables must have a linear relationship. To visualize this I made a scatterplot of the data with median_household_income_dollars as the x axis and critical on as the y-axis."
   ]
  },
  {
   "cell_type": "code",
   "execution_count": 33,
   "metadata": {},
   "outputs": [
    {
     "data": {
      "text/plain": [
       "Text(0.5, 1.0, 'Number of violations by median income of location')"
      ]
     },
     "execution_count": 33,
     "metadata": {},
     "output_type": "execute_result"
    },
    {
     "data": {
      "image/png": "[encoded data removed]",
      "text/plain": [
       "<Figure size 720x360 with 1 Axes>"
      ]
     },
     "metadata": {
      "needs_background": "light"
     },
     "output_type": "display_data"
    }
   ],
   "source": [
    "plt.figure(figsize=(10,5))\n",
    "income_violations_plot = sns.scatterplot(\"median_household_income_dollars\", \"critical\", \n",
    "                                         data=vio_per_rest)\n",
    "income_violations_plot.set_xlabel('Median household income', fontsize=15)\n",
    "income_violations_plot.set_ylabel('Total critical violations made', fontsize=15)\n",
    "#income_violations_plot.set_title(\"Number of violations by median income of location\")\n",
    "plt.title(\"Number of violations by median income of location\", ha=\"right\", fontsize=15)"
   ]
  },
  {
   "cell_type": "markdown",
   "metadata": {},
   "source": [
    "The scatterplot shows that the two variable do not have a linear relationship so I could not perform linear regression as is. Though since there is a peak in the scatterplot, I decided that I could split the median_household_income_dollars data at somewhere near the peak which seems to be 70000. I splitted the data so that areas with a median income lower than 70000 is counted as low income and areas with a higher or equal to 70000 median income is considered as high income. This is so I can perform a t-test on the two data to see if there is a difference in means of critical violations made between the two income groups."
   ]
  },
  {
   "cell_type": "code",
   "execution_count": 38,
   "metadata": {},
   "outputs": [
    {
     "data": {
      "text/html": [
       "<div>\n",
       "<style scoped>\n",
       "    .dataframe tbody tr th:only-of-type {\n",
       "        vertical-align: middle;\n",
       "    }\n",
       "\n",
       "    .dataframe tbody tr th {\n",
       "        vertical-align: top;\n",
       "    }\n",
       "\n",
       "    .dataframe thead th {\n",
       "        text-align: right;\n",
       "    }\n",
       "</style>\n",
       "<table border=\"1\" class=\"dataframe\">\n",
       "  <thead>\n",
       "    <tr style=\"text-align: right;\">\n",
       "      <th></th>\n",
       "      <th>critical</th>\n",
       "      <th>high_income</th>\n",
       "    </tr>\n",
       "    <tr>\n",
       "      <th>hsisid</th>\n",
       "      <th></th>\n",
       "      <th></th>\n",
       "    </tr>\n",
       "  </thead>\n",
       "  <tbody>\n",
       "    <tr>\n",
       "      <th>4092010024</th>\n",
       "      <td>13.0</td>\n",
       "      <td>0</td>\n",
       "    </tr>\n",
       "    <tr>\n",
       "      <th>4092010031</th>\n",
       "      <td>10.0</td>\n",
       "      <td>0</td>\n",
       "    </tr>\n",
       "    <tr>\n",
       "      <th>4092010035</th>\n",
       "      <td>9.0</td>\n",
       "      <td>0</td>\n",
       "    </tr>\n",
       "    <tr>\n",
       "      <th>4092010037</th>\n",
       "      <td>12.0</td>\n",
       "      <td>0</td>\n",
       "    </tr>\n",
       "    <tr>\n",
       "      <th>4092010046</th>\n",
       "      <td>16.0</td>\n",
       "      <td>0</td>\n",
       "    </tr>\n",
       "  </tbody>\n",
       "</table>\n",
       "</div>"
      ],
      "text/plain": [
       "            critical  high_income\n",
       "hsisid                           \n",
       "4092010024      13.0            0\n",
       "4092010031      10.0            0\n",
       "4092010035       9.0            0\n",
       "4092010037      12.0            0\n",
       "4092010046      16.0            0"
      ]
     },
     "execution_count": 38,
     "metadata": {},
     "output_type": "execute_result"
    }
   ],
   "source": [
    "restviozip[\"high_income\"] = restviozip[\"median_household_income_dollars\"].apply(lambda x: 0 if x < 70000 else 1)\n",
    "vio_per_rest = restviozip.groupby(\"hsisid\").agg({'critical': 'sum', \"high_income\": \"max\"})\n",
    "vio_per_rest.head()"
   ]
  },
  {
   "cell_type": "markdown",
   "metadata": {},
   "source": [
    "Here are the two box plots to visualize if there is difference amongst the distribution of the two income groups. The two distributions seem to be the same. The box plots also exposed outliers amongst the two distributions so I got rid of those in the next cell."
   ]
  },
  {
   "cell_type": "code",
   "execution_count": 178,
   "metadata": {},
   "outputs": [
    {
     "data": {
      "text/plain": [
       "Text(0, 0.5, 'Number of critical violations made')"
      ]
     },
     "execution_count": 178,
     "metadata": {},
     "output_type": "execute_result"
    },
    {
     "data": {
      "image/png": "[encoded data removed]",
      "text/plain": [
       "<Figure size 1440x720 with 1 Axes>"
      ]
     },
     "metadata": {
      "needs_background": "light"
     },
     "output_type": "display_data"
    }
   ],
   "source": [
    "plt.figure(figsize=(20,10))\n",
    "boxes = sns.boxplot(x='high_income', y='critical', data=vio_per_rest)\n",
    "boxes.set_xlabel('High Income Area', fontsize=15)\n",
    "boxes.set_ylabel('Number of critical violations made', fontsize=15)"
   ]
  },
  {
   "cell_type": "code",
   "execution_count": 122,
   "metadata": {},
   "outputs": [],
   "source": [
    "grouped_df = vio_per_rest.reset_index(drop = False)\n",
    "group1 = grouped_df.loc[grouped_df[\"high_income\"]==0]\n",
    "group1 = group1[np.abs(group1[\"critical\"]-group1[\"critical\"].mean())<=(3*group1[\"critical\"].std())] #keep only the ones that are within +3 to -3 standard deviations in the column 'Data'.\n",
    "group1 = group1[~(np.abs(group1[\"critical\"]-group1[\"critical\"].mean())>(3*group1[\"critical\"].std()))]\n",
    "\n",
    "group2 = grouped_df.loc[grouped_df[\"high_income\"]==1]\n",
    "group2 = group2[np.abs(group2[\"critical\"]-group2[\"critical\"].mean())<=(3*group2[\"critical\"].std())] #keep only the ones that are within +3 to -3 standard deviations in the column 'Data'.\n",
    "group2 = group2[~(np.abs(group2[\"critical\"]-group2[\"critical\"].mean())>(3*group2[\"critical\"].std()))]"
   ]
  },
  {
   "cell_type": "markdown",
   "metadata": {},
   "source": [
    "Here is where I performed the t-test to check if there is a difference in the means of total critical violations between the two income groups. My hypotheses are:\n",
    "\n",
    "$H_0: \\bar x_{HighIncomeTotalCriticalViolations} = \\bar y_{NotHighIncomeTotalCriticalViolations}$\n",
    "\n",
    "$H_a: \\bar x_{HighIncomeTotalCriticalViolations} \\ne \\bar y_{NotHighIncomeTotalCriticalViolations}$\n",
    "\n",
    "with alpha = 0.05."
   ]
  },
  {
   "cell_type": "code",
   "execution_count": 124,
   "metadata": {},
   "outputs": [
    {
     "data": {
      "text/plain": [
       "Ttest_indResult(statistic=0.26103915923392396, pvalue=0.7940793680552078)"
      ]
     },
     "execution_count": 124,
     "metadata": {},
     "output_type": "execute_result"
    }
   ],
   "source": [
    "ttest_ind(group1[\"critical\"], group2[\"critical\"])"
   ]
  },
  {
   "cell_type": "markdown",
   "metadata": {},
   "source": [
    "The p-value from this t-test is greater than alpha so I fail to reject the null hypothesis meaning that that the means between the groups are the same and that being located in a wealthy area does not affect how many critical health violations a restaurant makes.\n",
    "\n",
    "However I later realized that one assumption that has to be made for t-testing is the the dependent variable has to follow a normal distribution. I checked if this does and it is actually very skewed."
   ]
  },
  {
   "cell_type": "code",
   "execution_count": 157,
   "metadata": {},
   "outputs": [
    {
     "data": {
      "text/plain": [
       "array([[<matplotlib.axes._subplots.AxesSubplot object at 0x1c2f8745f8>]],\n",
       "      dtype=object)"
      ]
     },
     "execution_count": 157,
     "metadata": {},
     "output_type": "execute_result"
    },
    {
     "data": {
      "image/png": "[encoded data removed]",
      "text/plain": [
       "<Figure size 432x288 with 1 Axes>"
      ]
     },
     "metadata": {
      "needs_background": "light"
     },
     "output_type": "display_data"
    }
   ],
   "source": [
    "vio_per_rest.hist(\"critical\")"
   ]
  },
  {
   "cell_type": "code",
   "execution_count": 158,
   "metadata": {},
   "outputs": [
    {
     "data": {
      "text/plain": [
       "<matplotlib.axes._subplots.AxesSubplot at 0x1c20c709b0>"
      ]
     },
     "execution_count": 158,
     "metadata": {},
     "output_type": "execute_result"
    },
    {
     "data": {
      "image/png": "[encoded data removed]",
      "text/plain": [
       "<Figure size 432x288 with 1 Axes>"
      ]
     },
     "metadata": {
      "needs_background": "light"
     },
     "output_type": "display_data"
    }
   ],
   "source": [
    "group1[\"critical\"].hist()"
   ]
  },
  {
   "cell_type": "code",
   "execution_count": 159,
   "metadata": {},
   "outputs": [
    {
     "data": {
      "text/plain": [
       "<matplotlib.axes._subplots.AxesSubplot at 0x1c1f46da58>"
      ]
     },
     "execution_count": 159,
     "metadata": {},
     "output_type": "execute_result"
    },
    {
     "data": {
      "image/png": "[encoded data removed]",
      "text/plain": [
       "<Figure size 432x288 with 1 Axes>"
      ]
     },
     "metadata": {
      "needs_background": "light"
     },
     "output_type": "display_data"
    }
   ],
   "source": [
    "group2[\"critical\"].hist()"
   ]
  },
  {
   "cell_type": "markdown",
   "metadata": {},
   "source": [
    "To remedy this I attempted to implement bootstrap resampling to get samples that follow the normal distribution."
   ]
  },
  {
   "cell_type": "code",
   "execution_count": 170,
   "metadata": {},
   "outputs": [],
   "source": [
    "def bootstrap(group):\n",
    "    avgs = []\n",
    "    for i in np.arange(10000):\n",
    "        random_sample = group.sample(len(group), replace = True).values\n",
    "        new_average = np.average(random_sample)\n",
    "        avgs.append(new_average)\n",
    "    return avgs"
   ]
  },
  {
   "cell_type": "code",
   "execution_count": 171,
   "metadata": {},
   "outputs": [
    {
     "data": {
      "text/plain": [
       "(array([4.100e+01, 2.570e+02, 1.033e+03, 2.310e+03, 3.013e+03, 2.143e+03,\n",
       "        9.260e+02, 2.410e+02, 3.400e+01, 2.000e+00]),\n",
       " array([14.66649049, 14.88255814, 15.09862579, 15.31469345, 15.5307611 ,\n",
       "        15.74682875, 15.96289641, 16.17896406, 16.39503171, 16.61109937,\n",
       "        16.82716702]),\n",
       " <a list of 10 Patch objects>)"
      ]
     },
     "execution_count": 171,
     "metadata": {},
     "output_type": "execute_result"
    },
    {
     "data": {
      "image/png": "[encoded data removed]",
      "text/plain": [
       "<Figure size 432x288 with 1 Axes>"
      ]
     },
     "metadata": {
      "needs_background": "light"
     },
     "output_type": "display_data"
    }
   ],
   "source": [
    "new_samp1 = bootstrap(group1[\"critical\"])\n",
    "plt.hist(new_samp1)"
   ]
  },
  {
   "cell_type": "code",
   "execution_count": 172,
   "metadata": {},
   "outputs": [
    {
     "data": {
      "text/plain": [
       "(array([  14.,  145.,  808., 2020., 3067., 2436., 1194.,  280.,   32.,\n",
       "           4.]),\n",
       " array([14.1998414 , 14.48025377, 14.76066614, 15.04107851, 15.32149088,\n",
       "        15.60190325, 15.88231562, 16.16272799, 16.44314036, 16.72355274,\n",
       "        17.00396511]),\n",
       " <a list of 10 Patch objects>)"
      ]
     },
     "execution_count": 172,
     "metadata": {},
     "output_type": "execute_result"
    },
    {
     "data": {
      "image/png": "[encoded data removed]",
      "text/plain": [
       "<Figure size 432x288 with 1 Axes>"
      ]
     },
     "metadata": {
      "needs_background": "light"
     },
     "output_type": "display_data"
    }
   ],
   "source": [
    "new_samp2 = bootstrap(group2[\"critical\"])\n",
    "plt.hist(new_samp2)"
   ]
  },
  {
   "cell_type": "code",
   "execution_count": 176,
   "metadata": {},
   "outputs": [
    {
     "name": "stdout",
     "output_type": "stream",
     "text": [
      "mean violations of high income areas:  15.63016020084566\n",
      "mean violations of not high income areas:  15.50822085646318\n"
     ]
    }
   ],
   "source": [
    "print(\"mean violations of high income areas: \", sum(new_samp1)/len(new_samp1))\n",
    "print(\"mean violations of not high income areas: \", sum(new_samp2)/len(new_samp2))"
   ]
  },
  {
   "cell_type": "markdown",
   "metadata": {},
   "source": [
    "Now that I acquired samples that follow a normal distribution, I used them to perform another t-test with the same hypotheses and alpha. "
   ]
  },
  {
   "cell_type": "code",
   "execution_count": 175,
   "metadata": {},
   "outputs": [
    {
     "data": {
      "text/plain": [
       "Ttest_indResult(statistic=26.89828302073443, pvalue=1.3957519761089205e-156)"
      ]
     },
     "execution_count": 175,
     "metadata": {},
     "output_type": "execute_result"
    }
   ],
   "source": [
    "ttest_ind(new_samp1, new_samp2)"
   ]
  },
  {
   "cell_type": "markdown",
   "metadata": {},
   "source": [
    "The p-value from this t-test is less than alpha so I reject the null hypothesis meaning in favor of the alternative hypothesis. That the means between the groups are not the same and that being located in a wealthy area does affect how many critical health violations a restaurant makes."
   ]
  },
  {
   "cell_type": "markdown",
   "metadata": {},
   "source": [
    "# Ethics & Privacy"
   ]
  },
  {
   "cell_type": "markdown",
   "metadata": {},
   "source": [
    "I did not present the actual names of any restaurants and businesses with their health inspection scores and violations they may have made to avoid the defamation and the slandering of them. The data I used does not violate any privacy concerns because Wake County publically publishes their health inspection results."
   ]
  },
  {
   "cell_type": "markdown",
   "metadata": {},
   "source": [
    "# Conclusion & Discussion"
   ]
  },
  {
   "cell_type": "markdown",
   "metadata": {},
   "source": [
    "To summarize my question was whether or not there is a relationship between how wealthy a restaurant's location is and how many critical health violations it makes. My hypothesis was that the overall wealth of a restaurant's location does affect how much critical health violation it makes. To find out whether this was true, I splitted my original dataset into critical health violations made by restaurants in high income neighborhoods and low income neighborhoods to perform a t-test. The latter t-test results show that being located in a wealthy area does affect how many critical health violations a restaurant makes.\n",
    "\n",
    "One limitation this project has is that I am not sure if I performed bootstrap resampling correctly. The fact that the p-values of the two t-tests are so different also play a part in my uncertainty and that the results of the initial t-test fits so well with the boxplot. Also just from looking at histograms of the resampled data, you can already tell that the means between the two groups are really close to each other (they actually are if you go look at cell 176). Yet despite the distributions of the two groups being so similar, the t-test gave back a really low p-value which makes me think that the resampling was not (only) the part that has errors in it. Nonetheless I am more inclined to trust the initial t-test results more.\n",
    "\n",
    "Another limitation is that Wake County is actually the richest county in North Carolina so I do not consider the metric I used to classify areas as low income in this project (less than $70000) to be accurate to reality. In the future it would be best to explore my research question with data from counties with more varying degrees of wealth.\n",
    "\n",
    "In the case of being located in a weatlhy area not affecting how much critical violations a restaurant makes, I guess it would make sense if you consider that low income areas typically have less access to healthier food sources and urban areas especially have an abundance of fast food restaurants. These fast food restaurants are often part of a chain of restaurants and they need to maintain the aesthetic of cleanliness for corporate standards. This could also mean that people should not judge a restaurant by its location. In the opposite case of a wealthy location affecting number of critical violations made, one possible reason for this is that the main selling point of these restaurants is their ambiance. In the future, I would like to research if there is a relationship between how expensive a restaurant is and the number of violations it made."
   ]
  }
 ],
 "metadata": {
  "kernelspec": {
   "display_name": "Python 3",
   "language": "python",
   "name": "python3"
  },
  "language_info": {
   "codemirror_mode": {
    "name": "ipython",
    "version": 3
   },
   "file_extension": ".py",
   "mimetype": "text/x-python",
   "name": "python",
   "nbconvert_exporter": "python",
   "pygments_lexer": "ipython3",
   "version": "3.7.3"
  }
 },
 "nbformat": 4,
 "nbformat_minor": 2
}
