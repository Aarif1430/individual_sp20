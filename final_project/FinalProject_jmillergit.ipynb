{
 "cells": [
  {
   "cell_type": "markdown",
   "metadata": {},
   "source": [
    "# **COGS 108 Final Project**"
   ]
  },
  {
   "cell_type": "markdown",
   "metadata": {},
   "source": [
    "## **Overview**"
   ]
  },
  {
   "cell_type": "markdown",
   "metadata": {},
   "source": [
    "In this data analysis, I attempted to answer the question of whether or not there exists a correlation between a restaurant's Yelp score and the rating it receives from a health inspector, relative to the socioeconomic status of its location. This was motivated by a desire to utilise the immense amount of user provided data on social media sources to improve the health inpsection process in terms of representation and efficiency. To do this, I utilised datasets containing information on Yelp reviews,health inspections, and economic data by zip code, which were cleaned and merged for ease of analysis. Upon completing the analysis (detailed below), I found that there is no statistically significant evidence that race or income biases the score a resaturant receives from either the health inspector or Yelp critics."
   ]
  },
  {
   "cell_type": "markdown",
   "metadata": {},
   "source": [
    "## **Name and Github**"
   ]
  },
  {
   "cell_type": "markdown",
   "metadata": {},
   "source": [
    "* Name: Josh Miller (A13304520)\n",
    "* Github username: jmillergit"
   ]
  },
  {
   "cell_type": "markdown",
   "metadata": {},
   "source": [
    "## **Research Question**"
   ]
  },
  {
   "cell_type": "markdown",
   "metadata": {},
   "source": [
    "Does the socioeconomic status of a restaurant's location effect the relative scores it receives from health inspectors or Yelp critics?"
   ]
  },
  {
   "cell_type": "markdown",
   "metadata": {},
   "source": [
    "## **Background and Prior Work**"
   ]
  },
  {
   "cell_type": "markdown",
   "metadata": {},
   "source": [
    "Health inspectors complete inspections of restaurants in which they analyze every facet of health and safety a restaurant provides to its empoyees and customers. However in the age of data and social media, what if we could integrate the two in order to improve the antiquated process of assigning inspectors, while also improving representation for neglected communities?\n",
    "\n",
    "According to source 1, the restaurant health inspection process is run in such a manner as to place higher importance on restaurants with waring factors such as the type of food served or its compliance history. For example a sushi restaurant (raw preparation) which had violations on its previous check in would have higher priority than a restaurant that has scored perfectly in the past. This however seems like a clumsy way of assigning the limited staff of health inspectors.\n",
    "\n",
    "We see an example of prior data science work in source 2, that utilised social media posts about restaurants in Boston to improve the health inspection process. This would serve to add a more modern (and frequently updated) base of knowledge on a large number of restaurants in a given city. Additionally, all data is user submitted so health inspectors would not need to look up prior offenses and other antiquated methods such as those listed in source 1.\n",
    "\n",
    "References (include links):\n",
    "\n",
    "1)https://recipes.howstuffworks.com/tools-and-techniques/restaurant-health-inspections.htm\n",
    "\n",
    "2)https://www.drivendata.org/competitions/5/keeping-it-fresh-predict-restaurant-inspections/\n"
   ]
  },
  {
   "cell_type": "markdown",
   "metadata": {},
   "source": [
    "## **Hypothesis**"
   ]
  },
  {
   "cell_type": "markdown",
   "metadata": {},
   "source": [
    "I believe that there will be evidence of lower health inspector reviews in lower ranked socioeconomic areas due to preexisting bias and prejudice that may be held by said inspectors. Conversely, I believe Yelp reviews will be more evenly distributed due to the consumers desire to share their honest opinion to friends and society at large. "
   ]
  },
  {
   "cell_type": "markdown",
   "metadata": {},
   "source": [
    "## **Data Sets**"
   ]
  },
  {
   "cell_type": "markdown",
   "metadata": {},
   "source": [
    "* Dataset Name: inspections.csv\n",
    "* Link to the dataset: https://canvas.ucsd.edu/courses/12630/files?\n",
    "* Number of observations:18,466\n",
    "* Description: This dataset contains a varitety of information pertaining to restaraunt health inspections including names, scores, inspector id's, etc.\n",
    "\n",
    "\n",
    "* Dataset Name: yelp.csv\n",
    "* Link to the dataset: https://canvas.ucsd.edu/courses/12630/files?\n",
    "* Number of observations:3,688\n",
    "* Description: This dataset includes information regarding the Yelp scores of restaurants in South Carolina including score, type of cuisine, location, etc.\n",
    "\n",
    "\n",
    "* Dataset Name: zipcodes.csv\n",
    "* Link to the dataset: https://canvas.ucsd.edu/courses/12630/files?\n",
    "* Number of observations:38\n",
    "* Description:This relatively small dataset includes economic and social statistics for a number of zipcodes in South Carolina i.e mean household income, percent non-white, etc.\n",
    "\n",
    "\n",
    "\n",
    "I plan to combine the inspections and yelp datasets by inner merging on the phone number parameter in order to lower the number of repeated entries or similar events. Then to merge this new dataset with the zipcodes data by using another inner merge on zipcode this time since it is a shared variable amongst the two."
   ]
  },
  {
   "cell_type": "markdown",
   "metadata": {},
   "source": [
    "## **Setup**"
   ]
  },
  {
   "cell_type": "code",
   "execution_count": 1,
   "metadata": {},
   "outputs": [],
   "source": [
    "import pandas as pd\n",
    "import seaborn as sns\n",
    "import matplotlib.pyplot as plt\n",
    "import patsy\n",
    "import statsmodels.api as sm\n",
    "import numpy as np\n",
    "from scipy.stats import spearmanr\n",
    "\n",
    "insp_df = pd.read_csv('inspections.csv')\n",
    "yelp_df = pd.read_csv('yelp.csv')\n",
    "econ_df = pd.read_csv('zipcodes.csv')"
   ]
  },
  {
   "cell_type": "markdown",
   "metadata": {},
   "source": [
    "## **Data Cleaning**"
   ]
  },
  {
   "cell_type": "code",
   "execution_count": 2,
   "metadata": {},
   "outputs": [],
   "source": [
    "#health inspection dataset cleaning\n",
    "insp_df = insp_df[['name','city','state','zip','phonenumber','score','inspector_id']] #drop unneccesary columns\n",
    "insp_df = insp_df.sort_values(by=['zip']) #sort entries by zipcode\n",
    "insp_df = insp_df.rename(columns = {'phonenumber':'phone'}) #tidy up column names\n",
    "insp_df = insp_df.drop_duplicates(subset='name', keep=\"last\") #remove duplicated inspections\n",
    "insp_df = insp_df.dropna() #remove any null entries\n",
    "\n",
    "#method to standardize phone number column (in order to merge with yelp_df later)\n",
    "def clean_number(string):\n",
    "    string = str(string)\n",
    "    string = \"1\" + string\n",
    "    string = string.replace('(','')\n",
    "    string = string.replace(')','')\n",
    "    string = string.replace('-','')\n",
    "    string = string.replace(' ','')\n",
    "    string = string.strip()\n",
    "    return string\n",
    "\n",
    "insp_df['phone'] = insp_df['phone'].apply(clean_number) #apply function to relevant row"
   ]
  },
  {
   "cell_type": "code",
   "execution_count": 3,
   "metadata": {},
   "outputs": [],
   "source": [
    "#yelp review dataset cleaning\n",
    "yelp_df = yelp_df[['name','rating','address1','zip_code','phone']] #eliminate irrelevant columns\n",
    "yelp_df = yelp_df.rename(columns ={'rating':'score','address1':'address','zip_code':'zip'}) #tidy up column names\n",
    "yelp_df = yelp_df.dropna() #drop any null entries"
   ]
  },
  {
   "cell_type": "code",
   "execution_count": 4,
   "metadata": {},
   "outputs": [],
   "source": [
    "#zip code economic dataset cleaning\n",
    "econ_df = econ_df[['zip', 'median_family_income_dollars','percent_damilies_below_poverty_line','percent_nonwhite']]\n",
    "econ_df = econ_df.rename(columns = {'zip':\"Zip\", 'median_family_income_dollars':'Income($)',\n",
    "                                    'percent_damilies_below_poverty_line':'Poverty_Pcnt',\n",
    "                                    'percent_nonwhite':'Nonwhite_Pcnt'})"
   ]
  },
  {
   "cell_type": "code",
   "execution_count": 5,
   "metadata": {},
   "outputs": [
    {
     "data": {
      "text/html": [
       "<div>\n",
       "<style scoped>\n",
       "    .dataframe tbody tr th:only-of-type {\n",
       "        vertical-align: middle;\n",
       "    }\n",
       "\n",
       "    .dataframe tbody tr th {\n",
       "        vertical-align: top;\n",
       "    }\n",
       "\n",
       "    .dataframe thead th {\n",
       "        text-align: right;\n",
       "    }\n",
       "</style>\n",
       "<table border=\"1\" class=\"dataframe\">\n",
       "  <thead>\n",
       "    <tr style=\"text-align: right;\">\n",
       "      <th></th>\n",
       "      <th>Name</th>\n",
       "      <th>City</th>\n",
       "      <th>State</th>\n",
       "      <th>Zip</th>\n",
       "      <th>Inspector_Score</th>\n",
       "      <th>Inspector</th>\n",
       "      <th>Yelp_Score</th>\n",
       "      <th>Income($)</th>\n",
       "      <th>Poverty_Pcnt</th>\n",
       "      <th>Nonwhite_Pcnt</th>\n",
       "    </tr>\n",
       "  </thead>\n",
       "  <tbody>\n",
       "    <tr>\n",
       "      <th>0</th>\n",
       "      <td>bitter melon asian market</td>\n",
       "      <td>angier</td>\n",
       "      <td>NC</td>\n",
       "      <td>27501</td>\n",
       "      <td>94.0</td>\n",
       "      <td>1.0</td>\n",
       "      <td>5.0</td>\n",
       "      <td>59408</td>\n",
       "      <td>10.5</td>\n",
       "      <td>17.9</td>\n",
       "    </tr>\n",
       "    <tr>\n",
       "      <th>1</th>\n",
       "      <td>chipotle mexican grill</td>\n",
       "      <td>apex</td>\n",
       "      <td>NC</td>\n",
       "      <td>27502</td>\n",
       "      <td>99.0</td>\n",
       "      <td>10.0</td>\n",
       "      <td>3.0</td>\n",
       "      <td>109891</td>\n",
       "      <td>3.4</td>\n",
       "      <td>18.9</td>\n",
       "    </tr>\n",
       "    <tr>\n",
       "      <th>2</th>\n",
       "      <td>pizza hut</td>\n",
       "      <td>apex</td>\n",
       "      <td>NC</td>\n",
       "      <td>27502</td>\n",
       "      <td>97.0</td>\n",
       "      <td>22.0</td>\n",
       "      <td>3.0</td>\n",
       "      <td>109891</td>\n",
       "      <td>3.4</td>\n",
       "      <td>18.9</td>\n",
       "    </tr>\n",
       "    <tr>\n",
       "      <th>3</th>\n",
       "      <td>j &amp; s new york pizza</td>\n",
       "      <td>apex</td>\n",
       "      <td>NC</td>\n",
       "      <td>27502</td>\n",
       "      <td>99.0</td>\n",
       "      <td>22.0</td>\n",
       "      <td>4.0</td>\n",
       "      <td>109891</td>\n",
       "      <td>3.4</td>\n",
       "      <td>18.9</td>\n",
       "    </tr>\n",
       "    <tr>\n",
       "      <th>4</th>\n",
       "      <td>starbucks</td>\n",
       "      <td>apex</td>\n",
       "      <td>NC</td>\n",
       "      <td>27502</td>\n",
       "      <td>97.0</td>\n",
       "      <td>1.0</td>\n",
       "      <td>2.5</td>\n",
       "      <td>109891</td>\n",
       "      <td>3.4</td>\n",
       "      <td>18.9</td>\n",
       "    </tr>\n",
       "    <tr>\n",
       "      <th>...</th>\n",
       "      <td>...</td>\n",
       "      <td>...</td>\n",
       "      <td>...</td>\n",
       "      <td>...</td>\n",
       "      <td>...</td>\n",
       "      <td>...</td>\n",
       "      <td>...</td>\n",
       "      <td>...</td>\n",
       "      <td>...</td>\n",
       "      <td>...</td>\n",
       "    </tr>\n",
       "    <tr>\n",
       "      <th>1849</th>\n",
       "      <td>dunkin' donuts</td>\n",
       "      <td>raleigh</td>\n",
       "      <td>NC</td>\n",
       "      <td>27614</td>\n",
       "      <td>95.5</td>\n",
       "      <td>7.0</td>\n",
       "      <td>2.0</td>\n",
       "      <td>119232</td>\n",
       "      <td>3.7</td>\n",
       "      <td>16.6</td>\n",
       "    </tr>\n",
       "    <tr>\n",
       "      <th>1850</th>\n",
       "      <td>mizu</td>\n",
       "      <td>raleigh</td>\n",
       "      <td>NC</td>\n",
       "      <td>27614</td>\n",
       "      <td>95.0</td>\n",
       "      <td>7.0</td>\n",
       "      <td>4.0</td>\n",
       "      <td>119232</td>\n",
       "      <td>3.7</td>\n",
       "      <td>16.6</td>\n",
       "    </tr>\n",
       "    <tr>\n",
       "      <th>1851</th>\n",
       "      <td>bruegger's bagels</td>\n",
       "      <td>raleigh</td>\n",
       "      <td>NC</td>\n",
       "      <td>27614</td>\n",
       "      <td>93.5</td>\n",
       "      <td>9.0</td>\n",
       "      <td>4.0</td>\n",
       "      <td>119232</td>\n",
       "      <td>3.7</td>\n",
       "      <td>16.6</td>\n",
       "    </tr>\n",
       "    <tr>\n",
       "      <th>1852</th>\n",
       "      <td>mcdonald's</td>\n",
       "      <td>raleigh</td>\n",
       "      <td>NC</td>\n",
       "      <td>27614</td>\n",
       "      <td>95.5</td>\n",
       "      <td>9.0</td>\n",
       "      <td>1.0</td>\n",
       "      <td>119232</td>\n",
       "      <td>3.7</td>\n",
       "      <td>16.6</td>\n",
       "    </tr>\n",
       "    <tr>\n",
       "      <th>1853</th>\n",
       "      <td>nc japan express</td>\n",
       "      <td>raleigh</td>\n",
       "      <td>NC</td>\n",
       "      <td>27614</td>\n",
       "      <td>96.5</td>\n",
       "      <td>32.0</td>\n",
       "      <td>3.0</td>\n",
       "      <td>119232</td>\n",
       "      <td>3.7</td>\n",
       "      <td>16.6</td>\n",
       "    </tr>\n",
       "  </tbody>\n",
       "</table>\n",
       "<p>1854 rows × 10 columns</p>\n",
       "</div>"
      ],
      "text/plain": [
       "                           Name     City State    Zip  Inspector_Score  \\\n",
       "0     bitter melon asian market   angier    NC  27501             94.0   \n",
       "1        chipotle mexican grill     apex    NC  27502             99.0   \n",
       "2                     pizza hut     apex    NC  27502             97.0   \n",
       "3          j & s new york pizza     apex    NC  27502             99.0   \n",
       "4                     starbucks     apex    NC  27502             97.0   \n",
       "...                         ...      ...   ...    ...              ...   \n",
       "1849             dunkin' donuts  raleigh    NC  27614             95.5   \n",
       "1850                       mizu  raleigh    NC  27614             95.0   \n",
       "1851          bruegger's bagels  raleigh    NC  27614             93.5   \n",
       "1852                 mcdonald's  raleigh    NC  27614             95.5   \n",
       "1853           nc japan express  raleigh    NC  27614             96.5   \n",
       "\n",
       "      Inspector  Yelp_Score  Income($)  Poverty_Pcnt  Nonwhite_Pcnt  \n",
       "0           1.0         5.0      59408          10.5           17.9  \n",
       "1          10.0         3.0     109891           3.4           18.9  \n",
       "2          22.0         3.0     109891           3.4           18.9  \n",
       "3          22.0         4.0     109891           3.4           18.9  \n",
       "4           1.0         2.5     109891           3.4           18.9  \n",
       "...         ...         ...        ...           ...            ...  \n",
       "1849        7.0         2.0     119232           3.7           16.6  \n",
       "1850        7.0         4.0     119232           3.7           16.6  \n",
       "1851        9.0         4.0     119232           3.7           16.6  \n",
       "1852        9.0         1.0     119232           3.7           16.6  \n",
       "1853       32.0         3.0     119232           3.7           16.6  \n",
       "\n",
       "[1854 rows x 10 columns]"
      ]
     },
     "execution_count": 5,
     "metadata": {},
     "output_type": "execute_result"
    }
   ],
   "source": [
    "#merge into final restaurants data set with all relevant info\n",
    "restaurants_df = pd.merge(left=insp_df, right=yelp_df, left_on='phone', right_on='phone') #merge on shared phone #'s\n",
    "restaurants_df = restaurants_df[['name_y','city','state','zip_y','score_x','inspector_id','score_y']] #choose columns\n",
    "restaurants_df = restaurants_df.rename(columns = {'name_y':'Name','city':'City','state':'State',#rename columns\n",
    "                                                  'score_x':\"Inspector_Score\",'inspector_id':'Inspector',\n",
    "                                                  'score_y':'Yelp_Score','zip_y':'Zip'})\n",
    "restaurants_df = pd.merge(left=restaurants_df, right=econ_df, left_on='Zip', right_on='Zip') #final merge on zip\n",
    "restaurants_df #display final cleaned df"
   ]
  },
  {
   "cell_type": "markdown",
   "metadata": {},
   "source": [
    "## **Data Visualization**"
   ]
  },
  {
   "cell_type": "code",
   "execution_count": 6,
   "metadata": {
    "scrolled": false
   },
   "outputs": [
    {
     "name": "stderr",
     "output_type": "stream",
     "text": [
      "/opt/conda/lib/python3.6/site-packages/scipy/stats/stats.py:1713: FutureWarning: Using a non-tuple sequence for multidimensional indexing is deprecated; use `arr[tuple(seq)]` instead of `arr[seq]`. In the future this will be interpreted as an array index, `arr[np.array(seq)]`, which will result either in an error or a different result.\n",
      "  return np.add.reduce(sorted[indexer] * weights, axis=axis) / sumval\n"
     ]
    },
    {
     "data": {
      "text/plain": [
       "Text(0.5, 0, 'Score')"
      ]
     },
     "execution_count": 6,
     "metadata": {},
     "output_type": "execute_result"
    },
    {
     "data": {
      "image/png": "[encoded data removed]",
      "text/plain": [
       "<Figure size 432x288 with 1 Axes>"
      ]
     },
     "metadata": {
      "needs_background": "light"
     },
     "output_type": "display_data"
    }
   ],
   "source": [
    "bar1 = sns.distplot(restaurants_df['Inspector_Score'],bins = 20)\n",
    "bar1.set_title('Health Inspector Score frequency')\n",
    "bar1.set_xlabel('Score')"
   ]
  },
  {
   "cell_type": "markdown",
   "metadata": {},
   "source": [
    "**Interpretation:**We can see that the distribution of health inspector scores is skewed to the left, with a majority of the scores being above the 90 mark. However, there are a number of scores between 75 and 90 that should be looked at once we delve further into the analysis. These could proove vital when we see where these restaurants were located."
   ]
  },
  {
   "cell_type": "code",
   "execution_count": 7,
   "metadata": {},
   "outputs": [
    {
     "data": {
      "text/plain": [
       "<seaborn.axisgrid.FacetGrid at 0x7fe8af71ec50>"
      ]
     },
     "execution_count": 7,
     "metadata": {},
     "output_type": "execute_result"
    },
    {
     "data": {
      "image/png": "[encoded data removed]",
      "text/plain": [
       "<Figure size 1152x288 with 1 Axes>"
      ]
     },
     "metadata": {
      "needs_background": "light"
     },
     "output_type": "display_data"
    }
   ],
   "source": [
    "box1 = sns.catplot(x = \"City\", y = \"Inspector_Score\",  kind = 'box', height = 4, aspect = 4, data = restaurants_df)\n",
    "plt.title('Inspector Score by City in South Carolina')\n",
    "box1.set(ylabel = 'Score')"
   ]
  },
  {
   "cell_type": "markdown",
   "metadata": {},
   "source": [
    "**Interpretation:** We can see extremely high mean scores across the list of cities included (~95), however it is now more evident that the majority of the lower scores are clustered around a selection of cities such as Cary, Raleigh, Morisville, and others which could be relevant to the research question."
   ]
  },
  {
   "cell_type": "code",
   "execution_count": 8,
   "metadata": {},
   "outputs": [
    {
     "name": "stderr",
     "output_type": "stream",
     "text": [
      "/opt/conda/lib/python3.6/site-packages/scipy/stats/stats.py:1713: FutureWarning: Using a non-tuple sequence for multidimensional indexing is deprecated; use `arr[tuple(seq)]` instead of `arr[seq]`. In the future this will be interpreted as an array index, `arr[np.array(seq)]`, which will result either in an error or a different result.\n",
      "  return np.add.reduce(sorted[indexer] * weights, axis=axis) / sumval\n"
     ]
    },
    {
     "data": {
      "text/plain": [
       "<seaborn.axisgrid.FacetGrid at 0x7fe8af6be588>"
      ]
     },
     "execution_count": 8,
     "metadata": {},
     "output_type": "execute_result"
    },
    {
     "data": {
      "image/png": "[encoded data removed]",
      "text/plain": [
       "<Figure size 1152x288 with 1 Axes>"
      ]
     },
     "metadata": {
      "needs_background": "light"
     },
     "output_type": "display_data"
    }
   ],
   "source": [
    "box2 = sns.catplot(x = \"City\", y = \"Poverty_Pcnt\", kind = 'bar',height = 4, aspect = 4, data = restaurants_df)\n",
    "plt.title('Poverty Percentage by City in South Carolina')\n",
    "box2.set(ylabel = 'Poverty Percentage')"
   ]
  },
  {
   "cell_type": "code",
   "execution_count": 9,
   "metadata": {},
   "outputs": [
    {
     "data": {
      "text/plain": [
       "<seaborn.axisgrid.FacetGrid at 0x7fe8af857a20>"
      ]
     },
     "execution_count": 9,
     "metadata": {},
     "output_type": "execute_result"
    },
    {
     "data": {
      "image/png": "[encoded data removed]",
      "text/plain": [
       "<Figure size 1152x288 with 1 Axes>"
      ]
     },
     "metadata": {
      "needs_background": "light"
     },
     "output_type": "display_data"
    }
   ],
   "source": [
    "box2 = sns.catplot(x = \"City\", y = \"Nonwhite_Pcnt\", kind = 'bar',height = 4, aspect = 4, data = restaurants_df)\n",
    "plt.title('Nonwhite Percentage by City in South Carolina')\n",
    "box2.set(ylabel = 'Nonwhite Percentage')"
   ]
  },
  {
   "cell_type": "markdown",
   "metadata": {},
   "source": [
    "**Interpretation:** Upon further investigation of the cities that grabbed our attention in the prior graph, we can see from the two plots above, that there doesn't actually appear to be a correlation between the Poverty or Nonwhite percentage of a city and the inspector scores it received, which would go against our hypothesis. The one clear exception to this is the city of Morrisville which has the highest recorded nonwhite percentage and some of the lowest Inspector scores. We can confirm and analyze this trend and outlier with statistic tests laster."
   ]
  },
  {
   "cell_type": "code",
   "execution_count": 10,
   "metadata": {},
   "outputs": [
    {
     "data": {
      "text/plain": [
       "<seaborn.axisgrid.FacetGrid at 0x7fe8af3dd438>"
      ]
     },
     "execution_count": 10,
     "metadata": {},
     "output_type": "execute_result"
    },
    {
     "data": {
      "image/png": "[encoded data removed]",
      "text/plain": [
       "<Figure size 1094.4x288 with 1 Axes>"
      ]
     },
     "metadata": {
      "needs_background": "light"
     },
     "output_type": "display_data"
    }
   ],
   "source": [
    "box3 = sns.catplot(x = \"City\", y = \"Yelp_Score\", height = 4, aspect = 3.8, data = restaurants_df)\n",
    "plt.title('Yelp Reviews by City in South Carolina')\n",
    "box3.set(ylabel = 'Score')"
   ]
  },
  {
   "cell_type": "markdown",
   "metadata": {},
   "source": [
    "**Interpretation:**As predicted, Yelp scores seem to be much more evenly distributed in all cities compared to the health inspector grades. There are some cities with lacking data (Angier and Dayton) which could skew data, however no conclusions will be drawn until we perform statistical tests for correlation."
   ]
  },
  {
   "cell_type": "markdown",
   "metadata": {},
   "source": [
    "## **Data Analysis and Results**"
   ]
  },
  {
   "cell_type": "markdown",
   "metadata": {},
   "source": [
    "**Background:**Because the variables in question (inspector score, poverty percent, and yelp score) are not normally distributed we cannot use the pearson correlation test as it would be breaking one of the primary assumptions. Therefore we must use statistical test for non parametric data, namely the Spearman's test. This test compares the rank values of the data and allows us to see if there exists a correlation between our variables depite the lack of a Gaussian distribution."
   ]
  },
  {
   "cell_type": "code",
   "execution_count": 11,
   "metadata": {},
   "outputs": [
    {
     "name": "stdout",
     "output_type": "stream",
     "text": [
      "Poverty Percentage-Inspector score coefficient: 0.030245926185622666\n",
      "Poverty Percentage-Inspector score P-value: 0.19300131283952923\n",
      "\n",
      "\n",
      "Poverty Percentage-Yelp score coefficient: -0.004322700884298324\n",
      "Poverty Percentage-Yelp score P-value: 0.8524427005875267\n",
      "\n",
      "\n",
      "Nonwhite Percentage-Inspector score coefficient: -0.06074036615927346\n",
      "Nonwhite Percentage-Inspector score P-value: 0.008896226050230075\n",
      "\n",
      "\n",
      "Nonwhite Percentage-Yelp score coefficient: -0.07509626619234572\n",
      "Nonwhite Percentage-Yelp score P-value: 0.0012126338580471325\n",
      "\n",
      "\n",
      "Mean Income-Inspector score coefficient: 0.015083785186304793\n",
      "Mean Income-Inspector score P-value: 0.5162879399707168\n",
      "\n",
      "\n",
      "Mean Income-Yelp score coefficient: 0.02372928697424425\n",
      "Mean Income-Yelp score P-value: 0.30716314386308835\n"
     ]
    }
   ],
   "source": [
    "coefficient, pval = spearmanr(restaurants_df['Poverty_Pcnt'],restaurants_df['Inspector_Score'])\n",
    "print ('Poverty Percentage-Inspector score coefficient:',coefficient)\n",
    "print ('Poverty Percentage-Inspector score P-value:',pval)\n",
    "print('\\n')\n",
    "\n",
    "coefficient2, pval2 = spearmanr(restaurants_df['Poverty_Pcnt'],restaurants_df['Yelp_Score'])\n",
    "print ('Poverty Percentage-Yelp score coefficient:',coefficient2)\n",
    "print ('Poverty Percentage-Yelp score P-value:',pval2)\n",
    "print('\\n')\n",
    "\n",
    "coefficient3, pval3 = spearmanr(restaurants_df['Nonwhite_Pcnt'],restaurants_df['Inspector_Score'])\n",
    "print ('Nonwhite Percentage-Inspector score coefficient:',coefficient3)\n",
    "print ('Nonwhite Percentage-Inspector score P-value:',pval3)\n",
    "print('\\n')\n",
    "\n",
    "coefficient4, pval4 = spearmanr(restaurants_df['Nonwhite_Pcnt'],restaurants_df['Yelp_Score'])\n",
    "print ('Nonwhite Percentage-Yelp score coefficient:',coefficient4)\n",
    "print ('Nonwhite Percentage-Yelp score P-value:',pval4)\n",
    "print('\\n')\n",
    "\n",
    "coefficient5, pval5 = spearmanr(restaurants_df['Income($)'],restaurants_df['Inspector_Score'])\n",
    "print ('Mean Income-Inspector score coefficient:',coefficient5)\n",
    "print ('Mean Income-Inspector score P-value:',pval5)\n",
    "print('\\n')\n",
    "\n",
    "coefficient6, pval6 = spearmanr(restaurants_df['Income($)'],restaurants_df['Yelp_Score'])\n",
    "print ('Mean Income-Yelp score coefficient:',coefficient6)\n",
    "print ('Mean Income-Yelp score P-value:',pval6)"
   ]
  },
  {
   "cell_type": "markdown",
   "metadata": {},
   "source": [
    " **Analysis:** We can see that the coefficients for poverty percent relative to inspector score and yelp review are 0.003 and -0.004 respectively. The coefficients for nonwhite percent relative to inspector score and yelp review are -0.06 and -0.07 respectively.And the coefficients for mean income relative to inspector score and yelp review are 0.01 and 0.02 respectively. This fact, along with the extremely high p-values associated with the poverty and mean income coefficients seems to indicate that there is in fact no correlation between the poverty percentage, nonwhite percentage, or mean income of a community and the reviews it receives from either health inspectors or normal clients."
   ]
  },
  {
   "cell_type": "markdown",
   "metadata": {},
   "source": [
    "## **Ethics and Privacy**"
   ]
  },
  {
   "cell_type": "markdown",
   "metadata": {},
   "source": [
    "I do not see any privacy concerns regarding the data that I have mentioned up to this point. Specifically, Yelp is a public application for users to post reviews of restaurants so I do not believe it would be innappropriate to use the work of those individuals reviewing restaurants. Additionally, health inspection scores are legally required to be posted for consumers to be aware of the cleanliness of any restaurant they can go to, so again there is no privacy concern in my mind.\n",
    "\n",
    "One potential issue I could forsee is the lack of representation of poorer individuals and the restaurants they frequent due to the fact that 1)they might not have access or interest in posting Yelp reviews and 2) the restaurants may be family owned/local and might not haqve yelp data. to address these issues I would have to analyze correlations between NaN data found for yelp reviews which I'm sure will be quite a lot. In this case, to use this data we could use the restaurants past health inspector scores to prioritize them since no Yelp data would be available."
   ]
  },
  {
   "cell_type": "markdown",
   "metadata": {},
   "source": [
    "## **Conclusion and Discussion**"
   ]
  },
  {
   "cell_type": "markdown",
   "metadata": {},
   "source": [
    "After the process of cleaning, merging, plotting, and analyzing the data provided it appears that I failed to reject the null hypothesis. In other words, there does not seem to be evidence of racial or economic bias in either the health inspector grading system or Yelp critic reviews. The results showed a distinctly low correlation between any of the noted variables after completing a Spearman's coefficient calculation on the non-gaussian data. This would seem to show that the lower inspector scores which were noticed upon preliminary viewing of the data and plots is a fair representation of the status of the establishment's function, and the wide variety of Yelp reviews is most likely explained by the various degrees of standard and scrutiny of Yelp reviewers. "
   ]
  }
 ],
 "metadata": {
  "kernelspec": {
   "display_name": "Python 3",
   "language": "python",
   "name": "python3"
  },
  "language_info": {
   "codemirror_mode": {
    "name": "ipython",
    "version": 3
   },
   "file_extension": ".py",
   "mimetype": "text/x-python",
   "name": "python",
   "nbconvert_exporter": "python",
   "pygments_lexer": "ipython3",
   "version": "3.6.7"
  }
 },
 "nbformat": 4,
 "nbformat_minor": 2
}
