{
 "cells": [
  {
   "cell_type": "markdown",
   "metadata": {},
   "source": [
    "# COGS 108 - Final Project "
   ]
  },
  {
   "cell_type": "markdown",
   "metadata": {},
   "source": [
    "# Overview"
   ]
  },
  {
   "cell_type": "markdown",
   "metadata": {},
   "source": [
    "This project was conducted to see if there would be an correlation between the yelp review score and the health violations an establishment incurs. It was found that were was no correlation or significant differnce between the Yelp score and the violations as well as between the yelp score and the health inspection score. However, limitations in approach and data skew the results, so it is hard to say concretely there is not a correlation. "
   ]
  },
  {
   "cell_type": "markdown",
   "metadata": {},
   "source": [
    "# Name & PID\n",
    "\n",
    "- Name: Kevin Hau\n",
    "- PID: A12649934"
   ]
  },
  {
   "cell_type": "markdown",
   "metadata": {},
   "source": [
    "# Research Question"
   ]
  },
  {
   "cell_type": "markdown",
   "metadata": {},
   "source": [
    "\n",
    "Is there a relationship between the Yelp review score a restaurant receives and the health violations it may incur?"
   ]
  },
  {
   "cell_type": "markdown",
   "metadata": {},
   "source": [
    "## Background and Prior Work"
   ]
  },
  {
   "cell_type": "markdown",
   "metadata": {},
   "source": [
    "Within the realm of health inspections, the first thing that came into mind was Yelp. Health inspections help the public by making sure the restaurants within our local area are using safe food practices. Inspectors check for things such as food safety temperatures, poor personal hygiene, or sanitation etc. Based on the amount of violations and severity, the restaurant is given a grade ranging from A to C. The inspectors come back after a two week to two month period for another inspeciton. There are two articles that I found that have conducted research on similar topics. The second article referenced below uses Yelp reviews to help predict whether or not a restaurant was likely to have health code violations. They did so by building a predictive model based on key words within the reviews. Furthermore, they found that their model worked better when they used the reviews that were ranked highest. My question is very similar to what the researchers conducted. In the first referenced article, the article summarizes some research done within the New York restaurant health inspection area. They found that around 30 percent of all restaurants deteriorated their hygiene after 90 days of certification. However, they also found that online reviews were effective in identifying violations after certification. Overall, there seems to be strong evidence of a correlation between reviews and health inspection violations. \n",
    "\n",
    "References (include links):\n",
    "\n",
    "1)https://www.consumeraffairs.com/news/restaurant-hygiene-are-influenced-by-health-inspections-and-customer-reviews-011420.html\n",
    "2)https://www.ncbi.nlm.nih.gov/pmc/articles/PMC4811425/"
   ]
  },
  {
   "cell_type": "markdown",
   "metadata": {},
   "source": [
    "# Hypothesis\n"
   ]
  },
  {
   "cell_type": "markdown",
   "metadata": {},
   "source": [
    "I believe that there will be a strong correlation between reviews a restaurant receieves and the potential health violations it may incur. This is based on the background that I researched on as well as personal experience."
   ]
  },
  {
   "cell_type": "markdown",
   "metadata": {},
   "source": [
    "# Dataset(s)"
   ]
  },
  {
   "cell_type": "markdown",
   "metadata": {},
   "source": [
    "- Dataset Name: Inspections\n",
    "- Link to the dataset: https://canvas.ucsd.edu/courses/12630/assignments/110486\n",
    "- Number of observations: 18,467\n",
    "\n",
    "Dataset contains the Inspections for any food serving businesses. It contains dates, health scores, violations count,location information etc. \n",
    "\n",
    "- Dataset Name: Yelp\n",
    "- Link to the dataset: https://canvas.ucsd.edu/courses/12630/assignments/110486\n",
    "- Number of observations: 3689\n",
    "\n",
    "Dataset contains the Yelp scores and review counts for any food serving businesses. It contains dates, Yelp scores, review counts, location information etc. \n",
    "\n",
    "- Dataset Name: Restaurants\n",
    "- Link to the dataset: https://canvas.ucsd.edu/courses/12630/assignments/110486\n",
    "- Number of observations: 3325\n",
    "\n",
    "Dataset contains restaurants within the state of North Carolina. It contains basic location data, hsisid, and facility type etc. "
   ]
  },
  {
   "cell_type": "markdown",
   "metadata": {},
   "source": [
    "# Setup"
   ]
  },
  {
   "cell_type": "code",
   "execution_count": 1,
   "metadata": {},
   "outputs": [],
   "source": [
    "# Imports\n",
    "# \n",
    "# Note: these are all the imports you need for this assignment!\n",
    "# Do not import any other functions / packages\n",
    "\n",
    "# Display plots directly in the notebook instead of in a new window\n",
    "%matplotlib inline\n",
    "\n",
    "# Import libraries\n",
    "import numpy as np\n",
    "import pandas as pd\n",
    "import matplotlib.pyplot as plt\n",
    "import seaborn as sns\n",
    "\n",
    "# Configure libraries\n",
    "# The seaborn library makes plots look nicer\n",
    "sns.set()\n",
    "sns.set_context('talk')\n",
    "\n",
    "# Don't display too many rows/cols of DataFrames\n",
    "pd.options.display.max_rows = 30\n",
    "pd.options.display.max_columns = 11\n",
    "\n",
    "# Round decimals when displaying DataFrames\n",
    "pd.set_option('precision', 2)\n",
    "\n",
    "import patsy\n",
    "import statsmodels.api as sm\n",
    "import scipy.stats as stats\n",
    "from scipy.stats import ttest_ind, chisquare, normaltest\n",
    "# Note: the statsmodels import may print out a 'FutureWarning'. Thats fine.\n",
    "\n",
    "#setting dataframes from CSV files\n",
    "df_yelp = pd.read_csv('yelp.csv')\n",
    "df_resta = pd.read_csv('restaurants.csv')\n",
    "df_inspect = pd.read_csv('inspections.csv')\n"
   ]
  },
  {
   "cell_type": "markdown",
   "metadata": {},
   "source": [
    "# Data Cleaning"
   ]
  },
  {
   "cell_type": "markdown",
   "metadata": {},
   "source": [
    "First, we will go through each dataframe and take out all the columns that are not needed. Then we will clear out any rows that do not have all the pertinent information. Then we will adjust each dataframe to be standard specifications needed such as all lower case etc. "
   ]
  },
  {
   "cell_type": "code",
   "execution_count": 2,
   "metadata": {},
   "outputs": [],
   "source": [
    "#Removing unnecessary columns\n",
    "df_yelp = df_yelp[['id','name','rating','review_count', 'address1']]\n",
    "df_resta = df_resta[['hsisid','name','address1']]\n",
    "df_inspect = df_inspect[['hsisid','name','address1','score','num_critical', 'num_non_critical']]\n",
    "\n",
    "#drop NA rows\n",
    "df_yelp = df_yelp.dropna(subset = ['id','name','rating','review_count', 'address1'])\n",
    "df_resta = df_resta.dropna(subset = ['hsisid','name','address1'])\n",
    "df_inspect = df_inspect.dropna(subset = ['hsisid','name','address1','score','num_critical', 'num_non_critical'])\n",
    "\n",
    "#make address column lower case\n",
    "df_yelp['address1'] = df_yelp['address1'].str.lower()\n",
    "df_resta['address1']= df_resta['address1'].str.lower()\n",
    "df_inspect['address1'] = df_inspect['address1'].str.lower()"
   ]
  },
  {
   "cell_type": "code",
   "execution_count": 3,
   "metadata": {},
   "outputs": [],
   "source": [
    "#cleaning function\n",
    "\n",
    "def standardize_address(str_in):\n",
    "    \n",
    "    #make input all string\n",
    "    str_in = str(str_in)\n",
    "    \n",
    "    # Make the input all lowercase and strip whitespace\n",
    "    str_in = str_in.lower().strip()\n",
    "    \n",
    "    str_in = str_in.replace('avenue', 'ave')\n",
    "    str_in = str_in.replace('ave.', 'ave')\n",
    "    \n",
    "    str_in = str_in.replace('road', 'rd')\n",
    "    str_in = str_in.replace('rd.', 'rd')\n",
    "    \n",
    "    str_in = str_in.replace('steet', 'st')\n",
    "    str_in = str_in.replace('st.', 'st')\n",
    "    \n",
    "    str_in = str_in.replace('lane', 'ln')\n",
    "    str_in = str_in.replace('ln.', 'ln')\n",
    "    \n",
    "    str_in = str_in.replace('drive', 'dr')\n",
    "    str_in = str_in.replace('dr.', 'dr')\n",
    "    \n",
    "    str_in = str_in.replace('boulevard', 'blvd')\n",
    "    str_in = str_in.replace('blvd.', 'blvd')\n",
    "    \n",
    "    str_in = str_in.replace('highway', 'hwy')\n",
    "    str_in = str_in.replace('hwy.', 'hwy')\n",
    "    \n",
    "    str_in = str_in.replace('parkway', 'pky')\n",
    "    str_in = str_in.replace('pky.', 'pky')\n",
    "    \n",
    "    str_in = str_in.replace('circle', 'cir')\n",
    "    \n",
    "    str_in = str_in.replace('trail', 'trl')\n",
    "    \n",
    "    return str_in"
   ]
  },
  {
   "cell_type": "code",
   "execution_count": 4,
   "metadata": {},
   "outputs": [],
   "source": [
    "#standardize all addresses\n",
    "df_yelp['address1'] = df_yelp['address1'].apply(standardize_address)\n",
    "df_resta['address1']= df_resta['address1'].apply(standardize_address)\n",
    "df_inspect['address1'] = df_inspect['address1'].apply(standardize_address)\n",
    "\n",
    "#drop rows with low review counts\n",
    "df_yelp = df_yelp[df_yelp['review_count'] > 25] \n",
    "\n",
    "#average out columns in inspecitons num critical, num non critical, and score to unique hsisid\n",
    "df_score = df_inspect.groupby('hsisid')['score'].mean().reset_index()\n",
    "df_num_crit = df_inspect.groupby('hsisid')['num_critical'].mean().reset_index()\n",
    "df_num_non_crit = df_inspect.groupby('hsisid')['num_non_critical'].mean().reset_index()"
   ]
  },
  {
   "cell_type": "code",
   "execution_count": 5,
   "metadata": {},
   "outputs": [
    {
     "data": {
      "text/html": [
       "<div>\n",
       "<style scoped>\n",
       "    .dataframe tbody tr th:only-of-type {\n",
       "        vertical-align: middle;\n",
       "    }\n",
       "\n",
       "    .dataframe tbody tr th {\n",
       "        vertical-align: top;\n",
       "    }\n",
       "\n",
       "    .dataframe thead th {\n",
       "        text-align: right;\n",
       "    }\n",
       "</style>\n",
       "<table border=\"1\" class=\"dataframe\">\n",
       "  <thead>\n",
       "    <tr style=\"text-align: right;\">\n",
       "      <th></th>\n",
       "      <th>hsisid</th>\n",
       "      <th>name_x</th>\n",
       "      <th>address1</th>\n",
       "      <th>id</th>\n",
       "      <th>name_y</th>\n",
       "      <th>rating</th>\n",
       "      <th>review_count</th>\n",
       "      <th>score</th>\n",
       "      <th>num_critical</th>\n",
       "      <th>num_non_critical</th>\n",
       "    </tr>\n",
       "  </thead>\n",
       "  <tbody>\n",
       "    <tr>\n",
       "      <th>0</th>\n",
       "      <td>4092015333</td>\n",
       "      <td>THE REMEDY DINER</td>\n",
       "      <td>137 e hargett st</td>\n",
       "      <td>the-remedy-diner-raleigh</td>\n",
       "      <td>the remedy diner</td>\n",
       "      <td>4.0</td>\n",
       "      <td>347</td>\n",
       "      <td>94.00</td>\n",
       "      <td>3.75</td>\n",
       "      <td>6.12</td>\n",
       "    </tr>\n",
       "    <tr>\n",
       "      <th>1</th>\n",
       "      <td>4092016679</td>\n",
       "      <td>BITTERSWEET</td>\n",
       "      <td>16 e martin st</td>\n",
       "      <td>bittersweet-raleigh</td>\n",
       "      <td>bittersweet</td>\n",
       "      <td>4.0</td>\n",
       "      <td>150</td>\n",
       "      <td>99.40</td>\n",
       "      <td>1.80</td>\n",
       "      <td>1.00</td>\n",
       "    </tr>\n",
       "    <tr>\n",
       "      <th>2</th>\n",
       "      <td>4092014336</td>\n",
       "      <td>Bonefish Grill</td>\n",
       "      <td>4421 six forks rd</td>\n",
       "      <td>woof-gang-bakery-and-grooming-raleigh-raleigh</td>\n",
       "      <td>woof gang bakery &amp; grooming raleigh</td>\n",
       "      <td>4.0</td>\n",
       "      <td>38</td>\n",
       "      <td>93.60</td>\n",
       "      <td>4.00</td>\n",
       "      <td>9.00</td>\n",
       "    </tr>\n",
       "    <tr>\n",
       "      <th>3</th>\n",
       "      <td>4092014336</td>\n",
       "      <td>Bonefish Grill</td>\n",
       "      <td>4421 six forks rd</td>\n",
       "      <td>panera-bread-raleigh-2</td>\n",
       "      <td>panera bread</td>\n",
       "      <td>3.5</td>\n",
       "      <td>45</td>\n",
       "      <td>93.60</td>\n",
       "      <td>4.00</td>\n",
       "      <td>9.00</td>\n",
       "    </tr>\n",
       "    <tr>\n",
       "      <th>4</th>\n",
       "      <td>4092014336</td>\n",
       "      <td>Bonefish Grill</td>\n",
       "      <td>4421 six forks rd</td>\n",
       "      <td>midtown-grille-raleigh</td>\n",
       "      <td>midtown grille</td>\n",
       "      <td>3.5</td>\n",
       "      <td>101</td>\n",
       "      <td>93.60</td>\n",
       "      <td>4.00</td>\n",
       "      <td>9.00</td>\n",
       "    </tr>\n",
       "    <tr>\n",
       "      <th>...</th>\n",
       "      <td>...</td>\n",
       "      <td>...</td>\n",
       "      <td>...</td>\n",
       "      <td>...</td>\n",
       "      <td>...</td>\n",
       "      <td>...</td>\n",
       "      <td>...</td>\n",
       "      <td>...</td>\n",
       "      <td>...</td>\n",
       "      <td>...</td>\n",
       "    </tr>\n",
       "    <tr>\n",
       "      <th>1137</th>\n",
       "      <td>4092016801</td>\n",
       "      <td>FREDDY'S FROZEN CUSTARD &amp;amp; STEAKBURGERS #3202</td>\n",
       "      <td>1705 high house rd</td>\n",
       "      <td>freddys-frozen-custard-and-steakburgers-cary</td>\n",
       "      <td>freddy's frozen custard &amp; steakburgers</td>\n",
       "      <td>3.5</td>\n",
       "      <td>51</td>\n",
       "      <td>93.50</td>\n",
       "      <td>3.25</td>\n",
       "      <td>6.25</td>\n",
       "    </tr>\n",
       "    <tr>\n",
       "      <th>1138</th>\n",
       "      <td>4092014534</td>\n",
       "      <td>Raleigh Times Bar</td>\n",
       "      <td>14 e hargett st</td>\n",
       "      <td>raleigh-times-bar-raleigh</td>\n",
       "      <td>raleigh times bar</td>\n",
       "      <td>4.0</td>\n",
       "      <td>481</td>\n",
       "      <td>93.57</td>\n",
       "      <td>5.86</td>\n",
       "      <td>8.43</td>\n",
       "    </tr>\n",
       "    <tr>\n",
       "      <th>1139</th>\n",
       "      <td>4092016359</td>\n",
       "      <td>DEAN'S SEAFOOD GRILL</td>\n",
       "      <td>1080 darrington dr</td>\n",
       "      <td>deans-seafood-grill-and-bar-cary</td>\n",
       "      <td>dean's seafood grill and bar</td>\n",
       "      <td>3.5</td>\n",
       "      <td>183</td>\n",
       "      <td>98.00</td>\n",
       "      <td>3.33</td>\n",
       "      <td>2.83</td>\n",
       "    </tr>\n",
       "    <tr>\n",
       "      <th>1140</th>\n",
       "      <td>4092016368</td>\n",
       "      <td>Golden Palace</td>\n",
       "      <td>4420 capital blvd</td>\n",
       "      <td>golden-palace-raleigh</td>\n",
       "      <td>golden palace</td>\n",
       "      <td>3.5</td>\n",
       "      <td>48</td>\n",
       "      <td>90.00</td>\n",
       "      <td>4.57</td>\n",
       "      <td>13.00</td>\n",
       "    </tr>\n",
       "    <tr>\n",
       "      <th>1141</th>\n",
       "      <td>4092017227</td>\n",
       "      <td>QUICKLY</td>\n",
       "      <td>4141 davis dr</td>\n",
       "      <td>quickly-morrisville-morrisville-2</td>\n",
       "      <td>quickly-morrisville</td>\n",
       "      <td>3.5</td>\n",
       "      <td>41</td>\n",
       "      <td>90.00</td>\n",
       "      <td>7.00</td>\n",
       "      <td>14.00</td>\n",
       "    </tr>\n",
       "  </tbody>\n",
       "</table>\n",
       "<p>1142 rows × 10 columns</p>\n",
       "</div>"
      ],
      "text/plain": [
       "          hsisid                                            name_x  \\\n",
       "0     4092015333                                  THE REMEDY DINER   \n",
       "1     4092016679                                       BITTERSWEET   \n",
       "2     4092014336                                    Bonefish Grill   \n",
       "3     4092014336                                    Bonefish Grill   \n",
       "4     4092014336                                    Bonefish Grill   \n",
       "...          ...                                               ...   \n",
       "1137  4092016801  FREDDY'S FROZEN CUSTARD &amp; STEAKBURGERS #3202   \n",
       "1138  4092014534                                 Raleigh Times Bar   \n",
       "1139  4092016359                              DEAN'S SEAFOOD GRILL   \n",
       "1140  4092016368                                     Golden Palace   \n",
       "1141  4092017227                                           QUICKLY   \n",
       "\n",
       "                address1                                             id  \\\n",
       "0       137 e hargett st                       the-remedy-diner-raleigh   \n",
       "1         16 e martin st                            bittersweet-raleigh   \n",
       "2      4421 six forks rd  woof-gang-bakery-and-grooming-raleigh-raleigh   \n",
       "3      4421 six forks rd                         panera-bread-raleigh-2   \n",
       "4      4421 six forks rd                         midtown-grille-raleigh   \n",
       "...                  ...                                            ...   \n",
       "1137  1705 high house rd   freddys-frozen-custard-and-steakburgers-cary   \n",
       "1138     14 e hargett st                      raleigh-times-bar-raleigh   \n",
       "1139  1080 darrington dr               deans-seafood-grill-and-bar-cary   \n",
       "1140   4420 capital blvd                          golden-palace-raleigh   \n",
       "1141       4141 davis dr              quickly-morrisville-morrisville-2   \n",
       "\n",
       "                                      name_y  rating  review_count  score  \\\n",
       "0                           the remedy diner     4.0           347  94.00   \n",
       "1                                bittersweet     4.0           150  99.40   \n",
       "2        woof gang bakery & grooming raleigh     4.0            38  93.60   \n",
       "3                               panera bread     3.5            45  93.60   \n",
       "4                             midtown grille     3.5           101  93.60   \n",
       "...                                      ...     ...           ...    ...   \n",
       "1137  freddy's frozen custard & steakburgers     3.5            51  93.50   \n",
       "1138                       raleigh times bar     4.0           481  93.57   \n",
       "1139            dean's seafood grill and bar     3.5           183  98.00   \n",
       "1140                           golden palace     3.5            48  90.00   \n",
       "1141                     quickly-morrisville     3.5            41  90.00   \n",
       "\n",
       "      num_critical  num_non_critical  \n",
       "0             3.75              6.12  \n",
       "1             1.80              1.00  \n",
       "2             4.00              9.00  \n",
       "3             4.00              9.00  \n",
       "4             4.00              9.00  \n",
       "...            ...               ...  \n",
       "1137          3.25              6.25  \n",
       "1138          5.86              8.43  \n",
       "1139          3.33              2.83  \n",
       "1140          4.57             13.00  \n",
       "1141          7.00             14.00  \n",
       "\n",
       "[1142 rows x 10 columns]"
      ]
     },
     "execution_count": 5,
     "metadata": {},
     "output_type": "execute_result"
    }
   ],
   "source": [
    "# Merge all Dataframes into 1\n",
    "df1 = df_resta.merge(df_yelp, on ='address1', how='inner')\n",
    "df2 = df1.merge(df_score, on = 'hsisid', how='inner')\n",
    "df3 = df2.merge(df_num_crit, on = 'hsisid', how='inner')\n",
    "df = df3.merge(df_num_non_crit, on = 'hsisid', how='inner')\n",
    "\n",
    "#type cast score, num_crit, num_non_crit to float\n",
    "\n",
    "df['score'] = df['score'].astype(np.float)\n",
    "df['num_critical'] = df['num_critical'].astype(np.float)\n",
    "df['num_non_critical'] = df['num_non_critical'].astype(np.float)\n",
    "df"
   ]
  },
  {
   "cell_type": "markdown",
   "metadata": {},
   "source": [
    "# Data Analysis & Results"
   ]
  },
  {
   "cell_type": "markdown",
   "metadata": {},
   "source": [
    "We will be testing the distributions of our Yelp rating versus our health score. However, the main question was pertaining to how health violations related to yelp score. So if we can find a correlation between the number of critical and non critical violations with the score, we can use the score and yelp rating to see if our distrubition is normal. "
   ]
  },
  {
   "cell_type": "code",
   "execution_count": 6,
   "metadata": {},
   "outputs": [
    {
     "name": "stderr",
     "output_type": "stream",
     "text": [
      "'c' argument looks like a single numeric RGB or RGBA sequence, which should be avoided as value-mapping will have precedence in case its length matches with 'x' & 'y'.  Please use a 2-D array with a single row if you really want to specify the same RGB or RGBA value for all points.\n"
     ]
    },
    {
     "data": {
      "image/png": "[encoded data removed]",
      "text/plain": [
       "<Figure size 432x288 with 1 Axes>"
      ]
     },
     "metadata": {
      "needs_background": "light"
     },
     "output_type": "display_data"
    }
   ],
   "source": [
    "scatter = df.plot.scatter(x='num_critical', y='score')"
   ]
  },
  {
   "cell_type": "code",
   "execution_count": 7,
   "metadata": {},
   "outputs": [
    {
     "name": "stderr",
     "output_type": "stream",
     "text": [
      "'c' argument looks like a single numeric RGB or RGBA sequence, which should be avoided as value-mapping will have precedence in case its length matches with 'x' & 'y'.  Please use a 2-D array with a single row if you really want to specify the same RGB or RGBA value for all points.\n"
     ]
    },
    {
     "data": {
      "image/png": "[encoded data removed]",
      "text/plain": [
       "<Figure size 432x288 with 1 Axes>"
      ]
     },
     "metadata": {
      "needs_background": "light"
     },
     "output_type": "display_data"
    }
   ],
   "source": [
    "scatter = df.plot.scatter(x='num_non_critical', y='score')"
   ]
  },
  {
   "cell_type": "markdown",
   "metadata": {},
   "source": [
    "As we can see, there is a negative correlation shown betweeen score and the violations incurred. The more violations a business incurred, the lower the score they got whether it be critical or non critical violations. \n",
    "\n",
    "Futhermore, there are definitely some outliers within the data set as shown. "
   ]
  },
  {
   "cell_type": "code",
   "execution_count": 8,
   "metadata": {},
   "outputs": [
    {
     "name": "stdout",
     "output_type": "stream",
     "text": [
      "Average critical violations is \t 3.268\n",
      "Average critical violations is \t 3.234\n"
     ]
    }
   ],
   "source": [
    "r_crit = df[df['rating'] > 3]['num_critical'].values\n",
    "r_ncrit = df[df['rating'] < 3]['num_critical'].values\n",
    "\n",
    "avg_r_crit = r_crit.mean()\n",
    "avg_r_ncrit = r_ncrit.mean()\n",
    "\n",
    "print('Average critical violations is \\t {:2.3f}'.format(avg_r_crit))\n",
    "print('Average critical violations is \\t {:2.3f}'.format(avg_r_ncrit))\n"
   ]
  },
  {
   "cell_type": "code",
   "execution_count": 9,
   "metadata": {},
   "outputs": [
    {
     "name": "stdout",
     "output_type": "stream",
     "text": [
      "There is NOT a significant difference!\n"
     ]
    }
   ],
   "source": [
    "t_val = ttest_ind(r_crit, r_ncrit)[0]\n",
    "p_val = ttest_ind(r_crit, r_ncrit)[1]\n",
    "\n",
    "if p_val < 0.01:\n",
    "    print('Data Science accomplished, there is a significant difference!')\n",
    "else:\n",
    "    print('There is NOT a significant difference!')"
   ]
  },
  {
   "cell_type": "markdown",
   "metadata": {},
   "source": [
    "As shown by our ttest, there is no significant difference between the amount of critical violations and the yelp rating.\n",
    "\n",
    "Next, we will focus on showing the graphs between the yelp rating and the number of critical and non critical violations."
   ]
  },
  {
   "cell_type": "code",
   "execution_count": 10,
   "metadata": {},
   "outputs": [
    {
     "name": "stderr",
     "output_type": "stream",
     "text": [
      "'c' argument looks like a single numeric RGB or RGBA sequence, which should be avoided as value-mapping will have precedence in case its length matches with 'x' & 'y'.  Please use a 2-D array with a single row if you really want to specify the same RGB or RGBA value for all points.\n"
     ]
    },
    {
     "data": {
      "image/png": "[encoded data removed]",
      "text/plain": [
       "<Figure size 432x288 with 1 Axes>"
      ]
     },
     "metadata": {
      "needs_background": "light"
     },
     "output_type": "display_data"
    }
   ],
   "source": [
    "scatter = df.plot.scatter(x='rating', y='num_critical')"
   ]
  },
  {
   "cell_type": "code",
   "execution_count": 11,
   "metadata": {},
   "outputs": [
    {
     "name": "stderr",
     "output_type": "stream",
     "text": [
      "'c' argument looks like a single numeric RGB or RGBA sequence, which should be avoided as value-mapping will have precedence in case its length matches with 'x' & 'y'.  Please use a 2-D array with a single row if you really want to specify the same RGB or RGBA value for all points.\n"
     ]
    },
    {
     "data": {
      "image/png": "[encoded data removed]",
      "text/plain": [
       "<Figure size 432x288 with 1 Axes>"
      ]
     },
     "metadata": {
      "needs_background": "light"
     },
     "output_type": "display_data"
    }
   ],
   "source": [
    "scatter = df.plot.scatter(x='rating', y='num_non_critical')"
   ]
  },
  {
   "cell_type": "markdown",
   "metadata": {},
   "source": [
    "As we can see, it is hard to discern any significance within the graph. There may be some slight correlation but far from concrete."
   ]
  },
  {
   "cell_type": "code",
   "execution_count": 12,
   "metadata": {},
   "outputs": [
    {
     "name": "stderr",
     "output_type": "stream",
     "text": [
      "'c' argument looks like a single numeric RGB or RGBA sequence, which should be avoided as value-mapping will have precedence in case its length matches with 'x' & 'y'.  Please use a 2-D array with a single row if you really want to specify the same RGB or RGBA value for all points.\n"
     ]
    },
    {
     "data": {
      "image/png": "[encoded data removed]",
      "text/plain": [
       "<Figure size 432x288 with 1 Axes>"
      ]
     },
     "metadata": {
      "needs_background": "light"
     },
     "output_type": "display_data"
    }
   ],
   "source": [
    "scatter = df.plot.scatter(x='rating', y='score')"
   ]
  },
  {
   "cell_type": "markdown",
   "metadata": {},
   "source": [
    "Finally, we compare the health score and the rating and we see that there may be a slight correlation but overall it is hard to measure anything significant. "
   ]
  },
  {
   "cell_type": "markdown",
   "metadata": {},
   "source": [
    "I first wanted to show visually the correlation between the health scores and the violations so that later I could point to the overall score later on in my approach. Then I used the violations in correspondence to the yelp review score to see if there was significant differnce through the t test. It is important to note that I specifically dropped any row data that had less than 25 yelp reviews. This is mostly because I wanted to get rid of the outliers that may potentially come about from low review counts. \n",
    "\n",
    "I used this approach for my dataset mainly because I thought it would best visualize the results. The line plot was my original approach but the graph looked extremely messy and hard to read. The scatter plot seemed to be better as it helps show the density of some scores. Most of data I recieved was within a relatively small range. \n",
    "\n",
    "Overall the results showed no correlation along with no significant difference. Personally, however, I find it difficult to completely agree with these results due to limitations in my approach as well as the data. "
   ]
  },
  {
   "cell_type": "markdown",
   "metadata": {},
   "source": [
    "# Ethics & Privacy"
   ]
  },
  {
   "cell_type": "markdown",
   "metadata": {},
   "source": [
    "In terms of ethics and privacy, there are a few key points to make out. One is that we were provided the data I used in this project and did use it for the intended purpose. In regards to privacy, I cleaned out most of the non pertinent information and the rest of the information that was left over was public information in regards to companies. The phones numbers and all ethical and privacy issues pertaining to the information was all cleaned out. There are definitely lots of potential biases within our dataset. For example, in terms of customers, there is only a small subset of people who actually give reviews to businesses. Furthermore, there are definitely biases in regards to the business as customers normally do not get to see the whole picture in terms of the back operation of the restaurant and so the review can be biased towards the appearance of the establishment as well as the quality of the food. \n",
    "\n",
    "As I mentioned before, the main method I will use to handle the issues talked about will be through parsing and cleaning the data given to me. I will anonymize the data by clearing out the data columns I do not need. For example, I parsed through the phone numbers that were provided with each establishment. The rest of the information that is used within the dataframe is all public information that anyone could find. In terms of biases, I did not and cannot access the individual reviewers of the establishment. "
   ]
  },
  {
   "cell_type": "markdown",
   "metadata": {},
   "source": [
    "# Conclusion & Discussion"
   ]
  },
  {
   "cell_type": "markdown",
   "metadata": {},
   "source": [
    "The data visualized helped me understand that overall, it was hard to find a significant difference or relationship between violations and yelp rating. Overall, my question of if a yelp review score had any correlation with health inspection violations was answered. The data provided was very useful in that it provided very detailed information about the inspection process as well as the review data. The results show that even though, visually, there may be a slight correlation, statistically, it shows no correlation. However my conclusion is not exactly the same, I believe that due to certain limitations, one cannot concretely say that there is no correlation. \n",
    "\n",
    "One strong limiation is the amount of reviews that yelp has provided. When parsing through the data, it is hard to say how many reviews an establishment should have before it shows significance. Another limitation would be the process of the health inspecitons themselves. Health inspections do random visits to establishments and record the amount of violations while letting the establishment know. Then the inspector comes back after two weeks to two months for another inspection but they generally focus on the previous violations. This practice skews the inspection numbers as they can record the inspection down with lower violations than before if the establishment has already made the adjustments. Furthermore, as I had averaged the violations together among the inspections per establishment, it further skews the data. \n",
    "\n",
    "This will probably have a small impact on society. Overall my findings were not very strong so it is hard to take away anything for this project. However, it may help others try to find different approaches or be inspired so there is still some impact"
   ]
  },
  {
   "cell_type": "code",
   "execution_count": null,
   "metadata": {},
   "outputs": [],
   "source": []
  }
 ],
 "metadata": {
  "kernelspec": {
   "display_name": "Python 3",
   "language": "python",
   "name": "python3"
  },
  "language_info": {
   "codemirror_mode": {
    "name": "ipython",
    "version": 3
   },
   "file_extension": ".py",
   "mimetype": "text/x-python",
   "name": "python",
   "nbconvert_exporter": "python",
   "pygments_lexer": "ipython3",
   "version": "3.6.7"
  }
 },
 "nbformat": 4,
 "nbformat_minor": 2
}
