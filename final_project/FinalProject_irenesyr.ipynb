{
 "cells": [
  {
   "cell_type": "markdown",
   "metadata": {},
   "source": [
    "# COGS 108 - Final Project "
   ]
  },
  {
   "cell_type": "markdown",
   "metadata": {},
   "source": [
    "# Overview"
   ]
  },
  {
   "cell_type": "markdown",
   "metadata": {},
   "source": [
    "My project aims to investigate the relationship between the income level of an area and the number of violations reported in that area. I use three datasets includes restaurants, zipcodes and violations. Firstly I clean the dataset so that they can be used easily. I combine the three datasets to calculate the average of the sum of violations in each restaurant in a zipcode area. Then I analyze the relationship between the average number of violations and four different factors that can represent some perspective of the income level in a zipcode area. After analyzing the relationships between these five properties, I find that based on the dataset I used there is generally no relation between income level of an area and the number of violations being reported in that area."
   ]
  },
  {
   "cell_type": "markdown",
   "metadata": {},
   "source": [
    "# Name & GitHub\n",
    "\n",
    "- Name: Yiran Shao\n",
    "- GitHub Username: irenesyr"
   ]
  },
  {
   "cell_type": "markdown",
   "metadata": {},
   "source": [
    "# Research Question"
   ]
  },
  {
   "cell_type": "markdown",
   "metadata": {},
   "source": [
    "Is the income level of an area related to the number of health inspection vioations being reported in the area?"
   ]
  },
  {
   "cell_type": "markdown",
   "metadata": {},
   "source": [
    "## Background and Prior Work"
   ]
  },
  {
   "cell_type": "markdown",
   "metadata": {},
   "source": [
    "Income level of an area can influence the type of restaurants in the are, vice versa. The percentage of different types of restaurants is related to the income level around an area. According to reference 1, people living around nonchain restaurants have lower median household income. Therefore an area with higher income level may have more chain restaurants than nonchain restaurants. According to reference 1, chain restaurants have much fewer violations than nonchain restaurants. So there can be a relation between the income level and number of violations reported in an area.\n",
    "\n",
    "According to reference 2, which investigates \"Household income differences in food sources and food items purchased\", people with higher income spend much more on eating out than people with lower income. Also, people with lower income spend a larger proportion of their income at carry out places than people with higher income. Therefore there is a relation between dining places and income level. There is also a relation between income level and the total amount of income spending in restaurants.\n",
    "\n",
    "According to reference 3, both of the amount of money spending on food away from home and the percentage of money spending on food away from home increases as the income level increases. People with higher income tend to spend more in restaurants, so they may go to restaurants often or go to more expensive restaurants.\n",
    "\n",
    "References (include links):\n",
    "- 1)https://www.ncbi.nlm.nih.gov/pmc/articles/PMC5349477/\n",
    "- 2)https://www.ncbi.nlm.nih.gov/pmc/articles/PMC2988056/\n",
    "- 3)http://jaysonlusk.com/blog/2017/9/20/how-food-spending-varies-with-income"
   ]
  },
  {
   "cell_type": "markdown",
   "metadata": {},
   "source": [
    "# Hypothesis\n"
   ]
  },
  {
   "cell_type": "markdown",
   "metadata": {},
   "source": [
    "The income level of people in an area is related to the number of violations being reported in this area. The number of violations in restaurants should increase as the income level decreases."
   ]
  },
  {
   "cell_type": "markdown",
   "metadata": {},
   "source": [
    "# Dataset(s)"
   ]
  },
  {
   "cell_type": "markdown",
   "metadata": {},
   "source": [
    "1.\n",
    "- Dataset Name: restaurants\n",
    "- Link to the dataset: \n",
    "- Number of observations: 3000\n",
    "\n",
    "The 'restaurant' dataset contains the information related to the restaurants. Each row corresponds to a restaurant with unique id and there are information of 3000 restaurants in total.\n",
    "\n",
    "2.\n",
    "- Dataset Name: zipcodes\n",
    "- Link to the dataset: \n",
    "- Number of observations: 38\n",
    "\n",
    "The 'zipcodes' dataset contains the information about income and people in an area with particular zipcodes. Each row contains the data for one zipcode and there are 38 different zipcodes and their data in this dataset.\n",
    "\n",
    "3.\n",
    "- Dataset Name: violations\n",
    "- Link to the dataset: \n",
    "- Number of observations: 3000\n",
    "\n",
    "The restaurant dataset contains the information related to the restaurants. Each row corresponds to a restaurant with unique id and there are information of 3000 restaurants in total.\n",
    "\n",
    "I will use these three datasets for my project. I want to investigate if there is a relations between the average number of violations of restaurants in an area and the income level in that area. I will combine the datasets by combining zipcode information in restaurants dataset with the violation information in violations dataset by matching the restautants' hsisids. Then I will combine the violations dataset with the zipcodes dataset by matching the restaurants' zipcodes."
   ]
  },
  {
   "cell_type": "markdown",
   "metadata": {},
   "source": [
    "# Setup"
   ]
  },
  {
   "cell_type": "code",
   "execution_count": 1,
   "metadata": {},
   "outputs": [],
   "source": [
    "import numpy as np\n",
    "import pandas as pd\n",
    "import seaborn as sns\n",
    "import matplotlib.pyplot as plt\n",
    "import patsy\n",
    "import statsmodels.api as sm"
   ]
  },
  {
   "cell_type": "code",
   "execution_count": 2,
   "metadata": {},
   "outputs": [],
   "source": [
    "re_df = pd.read_csv('restaurants.csv')\n",
    "zc_df = pd.read_csv('zipcodes.csv')\n",
    "vl_df = pd.read_csv('violations.csv')"
   ]
  },
  {
   "cell_type": "markdown",
   "metadata": {},
   "source": [
    "# Data Cleaning"
   ]
  },
  {
   "cell_type": "markdown",
   "metadata": {},
   "source": [
    "Describe your data cleaning steps here."
   ]
  },
  {
   "cell_type": "code",
   "execution_count": 3,
   "metadata": {},
   "outputs": [
    {
     "data": {
      "text/html": [
       "<div>\n",
       "<style scoped>\n",
       "    .dataframe tbody tr th:only-of-type {\n",
       "        vertical-align: middle;\n",
       "    }\n",
       "\n",
       "    .dataframe tbody tr th {\n",
       "        vertical-align: top;\n",
       "    }\n",
       "\n",
       "    .dataframe thead th {\n",
       "        text-align: right;\n",
       "    }\n",
       "</style>\n",
       "<table border=\"1\" class=\"dataframe\">\n",
       "  <thead>\n",
       "    <tr style=\"text-align: right;\">\n",
       "      <th></th>\n",
       "      <th>X.objectid</th>\n",
       "      <th>hsisid</th>\n",
       "      <th>name</th>\n",
       "      <th>address1</th>\n",
       "      <th>address2</th>\n",
       "      <th>city</th>\n",
       "      <th>state</th>\n",
       "      <th>postalcode</th>\n",
       "      <th>phonenumber</th>\n",
       "      <th>restaurantopendate</th>\n",
       "      <th>facilitytype</th>\n",
       "      <th>x</th>\n",
       "      <th>y</th>\n",
       "      <th>geocodestatus</th>\n",
       "    </tr>\n",
       "  </thead>\n",
       "  <tbody>\n",
       "    <tr>\n",
       "      <th>0</th>\n",
       "      <td>1001</td>\n",
       "      <td>4092017230</td>\n",
       "      <td>SPRING CAFE 2</td>\n",
       "      <td>2900-104 SPRING FOREST RD</td>\n",
       "      <td>NaN</td>\n",
       "      <td>RALEIGH</td>\n",
       "      <td>NC</td>\n",
       "      <td>27616-1895</td>\n",
       "      <td>(919) 977-3679</td>\n",
       "      <td>2016-05-26T00:00:00.000Z</td>\n",
       "      <td>Restaurant</td>\n",
       "      <td>-78.591634</td>\n",
       "      <td>35.855487</td>\n",
       "      <td>M</td>\n",
       "    </tr>\n",
       "    <tr>\n",
       "      <th>1</th>\n",
       "      <td>1002</td>\n",
       "      <td>4092040338</td>\n",
       "      <td>CAROLINA CLASSIC HOT DOGS #2 (WCID #549)</td>\n",
       "      <td>309 HOLLOMAN ST</td>\n",
       "      <td>NaN</td>\n",
       "      <td>APEX</td>\n",
       "      <td>NC</td>\n",
       "      <td>27502</td>\n",
       "      <td>NaN</td>\n",
       "      <td>2016-07-01T00:00:00.000Z</td>\n",
       "      <td>Pushcarts</td>\n",
       "      <td>-78.855348</td>\n",
       "      <td>35.730219</td>\n",
       "      <td>M</td>\n",
       "    </tr>\n",
       "    <tr>\n",
       "      <th>2</th>\n",
       "      <td>1003</td>\n",
       "      <td>4092014444</td>\n",
       "      <td>Taco Bell #22798</td>\n",
       "      <td>2207 S MAIN ST</td>\n",
       "      <td>NaN</td>\n",
       "      <td>WAKE FOREST</td>\n",
       "      <td>NC</td>\n",
       "      <td>27587</td>\n",
       "      <td>(919) 554-4924</td>\n",
       "      <td>2005-12-05T00:00:00.000Z</td>\n",
       "      <td>Restaurant</td>\n",
       "      <td>-78.536145</td>\n",
       "      <td>35.946695</td>\n",
       "      <td>M</td>\n",
       "    </tr>\n",
       "    <tr>\n",
       "      <th>3</th>\n",
       "      <td>1004</td>\n",
       "      <td>4092015333</td>\n",
       "      <td>THE REMEDY DINER</td>\n",
       "      <td>137 E HARGETT ST</td>\n",
       "      <td>NaN</td>\n",
       "      <td>RALEIGH</td>\n",
       "      <td>NC</td>\n",
       "      <td>27601</td>\n",
       "      <td>(919) 835-3553</td>\n",
       "      <td>2009-02-04T00:00:00.000Z</td>\n",
       "      <td>Restaurant</td>\n",
       "      <td>-78.636895</td>\n",
       "      <td>35.777999</td>\n",
       "      <td>M</td>\n",
       "    </tr>\n",
       "    <tr>\n",
       "      <th>4</th>\n",
       "      <td>1005</td>\n",
       "      <td>4092160069</td>\n",
       "      <td>ZEBULON HOUSE (KITCHEN)</td>\n",
       "      <td>551 PONY RD</td>\n",
       "      <td>NaN</td>\n",
       "      <td>ZEBULON</td>\n",
       "      <td>NC</td>\n",
       "      <td>27597</td>\n",
       "      <td>NaN</td>\n",
       "      <td>2009-02-18T00:00:00.000Z</td>\n",
       "      <td>Institutional Food Service</td>\n",
       "      <td>-78.332138</td>\n",
       "      <td>35.816779</td>\n",
       "      <td>M</td>\n",
       "    </tr>\n",
       "  </tbody>\n",
       "</table>\n",
       "</div>"
      ],
      "text/plain": [
       "   X.objectid      hsisid                                      name  \\\n",
       "0        1001  4092017230                             SPRING CAFE 2   \n",
       "1        1002  4092040338  CAROLINA CLASSIC HOT DOGS #2 (WCID #549)   \n",
       "2        1003  4092014444                          Taco Bell #22798   \n",
       "3        1004  4092015333                          THE REMEDY DINER   \n",
       "4        1005  4092160069                   ZEBULON HOUSE (KITCHEN)   \n",
       "\n",
       "                     address1 address2         city state  postalcode  \\\n",
       "0  2900-104 SPRING FOREST RD       NaN      RALEIGH    NC  27616-1895   \n",
       "1            309 HOLLOMAN ST       NaN         APEX    NC       27502   \n",
       "2             2207 S MAIN ST       NaN  WAKE FOREST    NC       27587   \n",
       "3           137 E HARGETT ST       NaN      RALEIGH    NC       27601   \n",
       "4                551 PONY RD       NaN      ZEBULON    NC       27597   \n",
       "\n",
       "      phonenumber        restaurantopendate                facilitytype  \\\n",
       "0  (919) 977-3679  2016-05-26T00:00:00.000Z                  Restaurant   \n",
       "1             NaN  2016-07-01T00:00:00.000Z                   Pushcarts   \n",
       "2  (919) 554-4924  2005-12-05T00:00:00.000Z                  Restaurant   \n",
       "3  (919) 835-3553  2009-02-04T00:00:00.000Z                  Restaurant   \n",
       "4             NaN  2009-02-18T00:00:00.000Z  Institutional Food Service   \n",
       "\n",
       "           x          y geocodestatus  \n",
       "0 -78.591634  35.855487             M  \n",
       "1 -78.855348  35.730219             M  \n",
       "2 -78.536145  35.946695             M  \n",
       "3 -78.636895  35.777999             M  \n",
       "4 -78.332138  35.816779             M  "
      ]
     },
     "execution_count": 3,
     "metadata": {},
     "output_type": "execute_result"
    }
   ],
   "source": [
    "re_df.head()"
   ]
  },
  {
   "cell_type": "code",
   "execution_count": 4,
   "metadata": {},
   "outputs": [
    {
     "data": {
      "text/html": [
       "<div>\n",
       "<style scoped>\n",
       "    .dataframe tbody tr th:only-of-type {\n",
       "        vertical-align: middle;\n",
       "    }\n",
       "\n",
       "    .dataframe tbody tr th {\n",
       "        vertical-align: top;\n",
       "    }\n",
       "\n",
       "    .dataframe thead th {\n",
       "        text-align: right;\n",
       "    }\n",
       "</style>\n",
       "<table border=\"1\" class=\"dataframe\">\n",
       "  <thead>\n",
       "    <tr style=\"text-align: right;\">\n",
       "      <th></th>\n",
       "      <th>zip</th>\n",
       "      <th>median_family_income_dollars</th>\n",
       "      <th>median_household_income_dollars</th>\n",
       "      <th>per_capita_income_dollars</th>\n",
       "      <th>percent_damilies_below_poverty_line</th>\n",
       "      <th>percent_snap_benefits</th>\n",
       "      <th>percent_supplemental_security_income</th>\n",
       "      <th>percent_nonwhite</th>\n",
       "    </tr>\n",
       "  </thead>\n",
       "  <tbody>\n",
       "    <tr>\n",
       "      <th>0</th>\n",
       "      <td>27501</td>\n",
       "      <td>59408</td>\n",
       "      <td>51121</td>\n",
       "      <td>21631</td>\n",
       "      <td>10.5</td>\n",
       "      <td>15.5</td>\n",
       "      <td>5.2</td>\n",
       "      <td>17.9</td>\n",
       "    </tr>\n",
       "    <tr>\n",
       "      <th>1</th>\n",
       "      <td>27502</td>\n",
       "      <td>109891</td>\n",
       "      <td>95857</td>\n",
       "      <td>36763</td>\n",
       "      <td>3.4</td>\n",
       "      <td>2.4</td>\n",
       "      <td>0.8</td>\n",
       "      <td>18.9</td>\n",
       "    </tr>\n",
       "    <tr>\n",
       "      <th>2</th>\n",
       "      <td>27511</td>\n",
       "      <td>82292</td>\n",
       "      <td>67392</td>\n",
       "      <td>33139</td>\n",
       "      <td>9.6</td>\n",
       "      <td>4.5</td>\n",
       "      <td>2.2</td>\n",
       "      <td>24.8</td>\n",
       "    </tr>\n",
       "    <tr>\n",
       "      <th>3</th>\n",
       "      <td>27513</td>\n",
       "      <td>109736</td>\n",
       "      <td>87262</td>\n",
       "      <td>41232</td>\n",
       "      <td>3.8</td>\n",
       "      <td>2.4</td>\n",
       "      <td>1.5</td>\n",
       "      <td>27.8</td>\n",
       "    </tr>\n",
       "    <tr>\n",
       "      <th>4</th>\n",
       "      <td>27518</td>\n",
       "      <td>125432</td>\n",
       "      <td>98247</td>\n",
       "      <td>49865</td>\n",
       "      <td>5.5</td>\n",
       "      <td>1.0</td>\n",
       "      <td>1.7</td>\n",
       "      <td>19.9</td>\n",
       "    </tr>\n",
       "  </tbody>\n",
       "</table>\n",
       "</div>"
      ],
      "text/plain": [
       "     zip  median_family_income_dollars  median_household_income_dollars  \\\n",
       "0  27501                         59408                            51121   \n",
       "1  27502                        109891                            95857   \n",
       "2  27511                         82292                            67392   \n",
       "3  27513                        109736                            87262   \n",
       "4  27518                        125432                            98247   \n",
       "\n",
       "   per_capita_income_dollars  percent_damilies_below_poverty_line  \\\n",
       "0                      21631                                 10.5   \n",
       "1                      36763                                  3.4   \n",
       "2                      33139                                  9.6   \n",
       "3                      41232                                  3.8   \n",
       "4                      49865                                  5.5   \n",
       "\n",
       "   percent_snap_benefits  percent_supplemental_security_income  \\\n",
       "0                   15.5                                   5.2   \n",
       "1                    2.4                                   0.8   \n",
       "2                    4.5                                   2.2   \n",
       "3                    2.4                                   1.5   \n",
       "4                    1.0                                   1.7   \n",
       "\n",
       "   percent_nonwhite  \n",
       "0              17.9  \n",
       "1              18.9  \n",
       "2              24.8  \n",
       "3              27.8  \n",
       "4              19.9  "
      ]
     },
     "execution_count": 4,
     "metadata": {},
     "output_type": "execute_result"
    }
   ],
   "source": [
    "zc_df.head()"
   ]
  },
  {
   "cell_type": "code",
   "execution_count": 5,
   "metadata": {},
   "outputs": [
    {
     "data": {
      "text/html": [
       "<div>\n",
       "<style scoped>\n",
       "    .dataframe tbody tr th:only-of-type {\n",
       "        vertical-align: middle;\n",
       "    }\n",
       "\n",
       "    .dataframe tbody tr th {\n",
       "        vertical-align: top;\n",
       "    }\n",
       "\n",
       "    .dataframe thead th {\n",
       "        text-align: right;\n",
       "    }\n",
       "</style>\n",
       "<table border=\"1\" class=\"dataframe\">\n",
       "  <thead>\n",
       "    <tr style=\"text-align: right;\">\n",
       "      <th></th>\n",
       "      <th>X.objectid</th>\n",
       "      <th>hsisid</th>\n",
       "      <th>inspectdate</th>\n",
       "      <th>category</th>\n",
       "      <th>statecode</th>\n",
       "      <th>critical</th>\n",
       "      <th>questionno</th>\n",
       "      <th>violationcode</th>\n",
       "      <th>severity</th>\n",
       "      <th>shortdesc</th>\n",
       "      <th>inspectedby</th>\n",
       "      <th>comments</th>\n",
       "      <th>pointvalue</th>\n",
       "      <th>observationtype</th>\n",
       "      <th>violationtype</th>\n",
       "      <th>count</th>\n",
       "      <th>cdcriskfactor</th>\n",
       "      <th>cdcdataitem</th>\n",
       "    </tr>\n",
       "  </thead>\n",
       "  <tbody>\n",
       "    <tr>\n",
       "      <th>0</th>\n",
       "      <td>2149</td>\n",
       "      <td>4092015279</td>\n",
       "      <td>2014-09-22T00:00:00.000Z</td>\n",
       "      <td>Chemical</td>\n",
       "      <td>.2653,.2657</td>\n",
       "      <td>Yes</td>\n",
       "      <td>26</td>\n",
       "      <td>7-102.11</td>\n",
       "      <td>Priority Foundation</td>\n",
       "      <td>Toxic substances properly identified, stored, ...</td>\n",
       "      <td>Lucy Schrum</td>\n",
       "      <td>7-102.11; Priority Foundation - Found unlabele...</td>\n",
       "      <td>0</td>\n",
       "      <td>Out</td>\n",
       "      <td>R</td>\n",
       "      <td>NaN</td>\n",
       "      <td>NaN</td>\n",
       "      <td>NaN</td>\n",
       "    </tr>\n",
       "    <tr>\n",
       "      <th>1</th>\n",
       "      <td>2150</td>\n",
       "      <td>4092014572</td>\n",
       "      <td>2014-09-29T00:00:00.000Z</td>\n",
       "      <td>Chemical</td>\n",
       "      <td>.2653,.2657</td>\n",
       "      <td>Yes</td>\n",
       "      <td>26</td>\n",
       "      <td>7-102.11</td>\n",
       "      <td>Priority Foundation</td>\n",
       "      <td>Toxic substances properly identified, stored, ...</td>\n",
       "      <td>Daryl Beasley</td>\n",
       "      <td>7-102.11; Priority Foundation; One sanitizer b...</td>\n",
       "      <td>0</td>\n",
       "      <td>Out</td>\n",
       "      <td>CDI</td>\n",
       "      <td>NaN</td>\n",
       "      <td>NaN</td>\n",
       "      <td>NaN</td>\n",
       "    </tr>\n",
       "    <tr>\n",
       "      <th>2</th>\n",
       "      <td>2151</td>\n",
       "      <td>4092015906</td>\n",
       "      <td>2014-10-01T00:00:00.000Z</td>\n",
       "      <td>Chemical</td>\n",
       "      <td>.2653,.2657</td>\n",
       "      <td>Yes</td>\n",
       "      <td>26</td>\n",
       "      <td>7-102.11</td>\n",
       "      <td>Priority Foundation</td>\n",
       "      <td>Toxic substances properly identified, stored, ...</td>\n",
       "      <td>Lucy Schrum</td>\n",
       "      <td>7-102.11; Priority Foundation - Found an unlab...</td>\n",
       "      <td>1</td>\n",
       "      <td>Out</td>\n",
       "      <td>CDI</td>\n",
       "      <td>NaN</td>\n",
       "      <td>NaN</td>\n",
       "      <td>NaN</td>\n",
       "    </tr>\n",
       "    <tr>\n",
       "      <th>3</th>\n",
       "      <td>2152</td>\n",
       "      <td>4092013840</td>\n",
       "      <td>2014-10-08T00:00:00.000Z</td>\n",
       "      <td>Chemical</td>\n",
       "      <td>.2653,.2657</td>\n",
       "      <td>Yes</td>\n",
       "      <td>26</td>\n",
       "      <td>7-102.11</td>\n",
       "      <td>Priority Foundation</td>\n",
       "      <td>Toxic substances properly identified, stored, ...</td>\n",
       "      <td>Lucy Schrum</td>\n",
       "      <td>7-102.11; Priority Foundation - Found unlabele...</td>\n",
       "      <td>0</td>\n",
       "      <td>Out</td>\n",
       "      <td>CDI</td>\n",
       "      <td>NaN</td>\n",
       "      <td>NaN</td>\n",
       "      <td>NaN</td>\n",
       "    </tr>\n",
       "    <tr>\n",
       "      <th>4</th>\n",
       "      <td>2153</td>\n",
       "      <td>4092021788</td>\n",
       "      <td>2014-10-09T00:00:00.000Z</td>\n",
       "      <td>Chemical</td>\n",
       "      <td>.2653,.2657</td>\n",
       "      <td>Yes</td>\n",
       "      <td>26</td>\n",
       "      <td>7-102.11</td>\n",
       "      <td>Priority Foundation</td>\n",
       "      <td>Toxic substances properly identified, stored, ...</td>\n",
       "      <td>Lucy Schrum</td>\n",
       "      <td>7-102.11; Priority Foundation - Found one unla...</td>\n",
       "      <td>0</td>\n",
       "      <td>Out</td>\n",
       "      <td>CDI</td>\n",
       "      <td>NaN</td>\n",
       "      <td>NaN</td>\n",
       "      <td>NaN</td>\n",
       "    </tr>\n",
       "  </tbody>\n",
       "</table>\n",
       "</div>"
      ],
      "text/plain": [
       "   X.objectid      hsisid               inspectdate  category    statecode  \\\n",
       "0        2149  4092015279  2014-09-22T00:00:00.000Z  Chemical  .2653,.2657   \n",
       "1        2150  4092014572  2014-09-29T00:00:00.000Z  Chemical  .2653,.2657   \n",
       "2        2151  4092015906  2014-10-01T00:00:00.000Z  Chemical  .2653,.2657   \n",
       "3        2152  4092013840  2014-10-08T00:00:00.000Z  Chemical  .2653,.2657   \n",
       "4        2153  4092021788  2014-10-09T00:00:00.000Z  Chemical  .2653,.2657   \n",
       "\n",
       "  critical  questionno violationcode             severity  \\\n",
       "0      Yes          26      7-102.11  Priority Foundation   \n",
       "1      Yes          26      7-102.11  Priority Foundation   \n",
       "2      Yes          26      7-102.11  Priority Foundation   \n",
       "3      Yes          26      7-102.11  Priority Foundation   \n",
       "4      Yes          26      7-102.11  Priority Foundation   \n",
       "\n",
       "                                           shortdesc    inspectedby  \\\n",
       "0  Toxic substances properly identified, stored, ...    Lucy Schrum   \n",
       "1  Toxic substances properly identified, stored, ...  Daryl Beasley   \n",
       "2  Toxic substances properly identified, stored, ...    Lucy Schrum   \n",
       "3  Toxic substances properly identified, stored, ...    Lucy Schrum   \n",
       "4  Toxic substances properly identified, stored, ...    Lucy Schrum   \n",
       "\n",
       "                                            comments  pointvalue  \\\n",
       "0  7-102.11; Priority Foundation - Found unlabele...           0   \n",
       "1  7-102.11; Priority Foundation; One sanitizer b...           0   \n",
       "2  7-102.11; Priority Foundation - Found an unlab...           1   \n",
       "3  7-102.11; Priority Foundation - Found unlabele...           0   \n",
       "4  7-102.11; Priority Foundation - Found one unla...           0   \n",
       "\n",
       "  observationtype violationtype  count cdcriskfactor cdcdataitem  \n",
       "0             Out             R    NaN           NaN         NaN  \n",
       "1             Out           CDI    NaN           NaN         NaN  \n",
       "2             Out           CDI    NaN           NaN         NaN  \n",
       "3             Out           CDI    NaN           NaN         NaN  \n",
       "4             Out           CDI    NaN           NaN         NaN  "
      ]
     },
     "execution_count": 5,
     "metadata": {},
     "output_type": "execute_result"
    }
   ],
   "source": [
    "vl_df.head()"
   ]
  },
  {
   "cell_type": "markdown",
   "metadata": {},
   "source": [
    "# Clean restaurants dataset re_df"
   ]
  },
  {
   "cell_type": "code",
   "execution_count": 6,
   "metadata": {
    "scrolled": true
   },
   "outputs": [
    {
     "name": "stdout",
     "output_type": "stream",
     "text": [
      "delete useless columns\n",
      "re_df has columns: Index(['X.objectid', 'hsisid', 'name', 'address1', 'address2', 'city', 'state',\n",
      "       'postalcode', 'phonenumber', 'restaurantopendate', 'facilitytype', 'x',\n",
      "       'y', 'geocodestatus'],\n",
      "      dtype='object')\n",
      "re_df has columns: Index(['hsisid', 'name', 'postalcode'], dtype='object')\n",
      "drop null values\n",
      "check null value\n",
      " hsisid        0\n",
      "name          0\n",
      "postalcode    0\n",
      "dtype: int64\n",
      "check null value\n",
      " hsisid        0\n",
      "name          0\n",
      "postalcode    0\n",
      "dtype: int64\n",
      "regulate the postalcodes\n",
      "vl_df shape is: (3324, 3)\n"
     ]
    },
    {
     "data": {
      "text/html": [
       "<div>\n",
       "<style scoped>\n",
       "    .dataframe tbody tr th:only-of-type {\n",
       "        vertical-align: middle;\n",
       "    }\n",
       "\n",
       "    .dataframe tbody tr th {\n",
       "        vertical-align: top;\n",
       "    }\n",
       "\n",
       "    .dataframe thead th {\n",
       "        text-align: right;\n",
       "    }\n",
       "</style>\n",
       "<table border=\"1\" class=\"dataframe\">\n",
       "  <thead>\n",
       "    <tr style=\"text-align: right;\">\n",
       "      <th></th>\n",
       "      <th>hsisid</th>\n",
       "      <th>name</th>\n",
       "      <th>postalcode</th>\n",
       "    </tr>\n",
       "  </thead>\n",
       "  <tbody>\n",
       "    <tr>\n",
       "      <th>0</th>\n",
       "      <td>4092017230</td>\n",
       "      <td>SPRING CAFE 2</td>\n",
       "      <td>27616</td>\n",
       "    </tr>\n",
       "    <tr>\n",
       "      <th>1</th>\n",
       "      <td>4092040338</td>\n",
       "      <td>CAROLINA CLASSIC HOT DOGS #2 (WCID #549)</td>\n",
       "      <td>27502</td>\n",
       "    </tr>\n",
       "    <tr>\n",
       "      <th>2</th>\n",
       "      <td>4092014444</td>\n",
       "      <td>Taco Bell #22798</td>\n",
       "      <td>27587</td>\n",
       "    </tr>\n",
       "    <tr>\n",
       "      <th>3</th>\n",
       "      <td>4092015333</td>\n",
       "      <td>THE REMEDY DINER</td>\n",
       "      <td>27601</td>\n",
       "    </tr>\n",
       "    <tr>\n",
       "      <th>4</th>\n",
       "      <td>4092160069</td>\n",
       "      <td>ZEBULON HOUSE (KITCHEN)</td>\n",
       "      <td>27597</td>\n",
       "    </tr>\n",
       "  </tbody>\n",
       "</table>\n",
       "</div>"
      ],
      "text/plain": [
       "       hsisid                                      name  postalcode\n",
       "0  4092017230                             SPRING CAFE 2       27616\n",
       "1  4092040338  CAROLINA CLASSIC HOT DOGS #2 (WCID #549)       27502\n",
       "2  4092014444                          Taco Bell #22798       27587\n",
       "3  4092015333                          THE REMEDY DINER       27601\n",
       "4  4092160069                   ZEBULON HOUSE (KITCHEN)       27597"
      ]
     },
     "execution_count": 6,
     "metadata": {},
     "output_type": "execute_result"
    }
   ],
   "source": [
    "print('delete useless columns')\n",
    "print('re_df has columns:',re_df.columns)\n",
    "re_df = re_df[['hsisid','name', 'postalcode']]\n",
    "print('re_df has columns:',re_df.columns)\n",
    "\n",
    "print('drop null values')\n",
    "print('check null value\\n', re_df.isnull().sum())\n",
    "re_df = re_df.dropna()\n",
    "print('check null value\\n', re_df.isnull().sum())\n",
    "\n",
    "print('regulate the postalcodes')\n",
    "def cutCode(postalcode):\n",
    "    postalcode = int(str(postalcode)[:5])\n",
    "    return postalcode\n",
    "re_df['postalcode'] = re_df['postalcode'].apply(cutCode)\n",
    "\n",
    "print('vl_df shape is:', re_df.shape)\n",
    "re_df.head()"
   ]
  },
  {
   "cell_type": "markdown",
   "metadata": {},
   "source": [
    "# Clean violations dataset vl_df"
   ]
  },
  {
   "cell_type": "code",
   "execution_count": 7,
   "metadata": {},
   "outputs": [
    {
     "name": "stdout",
     "output_type": "stream",
     "text": [
      "delete useless columns\n",
      "vl_df has columns: Index(['X.objectid', 'hsisid', 'inspectdate', 'category', 'statecode',\n",
      "       'critical', 'questionno', 'violationcode', 'severity', 'shortdesc',\n",
      "       'inspectedby', 'comments', 'pointvalue', 'observationtype',\n",
      "       'violationtype', 'count', 'cdcriskfactor', 'cdcdataitem'],\n",
      "      dtype='object')\n",
      "re_df has columns: Index(['hsisid', 'name', 'postalcode'], dtype='object')\n",
      "drop null values\n",
      "check null value\n",
      " hsisid         0\n",
      "critical    8957\n",
      "dtype: int64\n",
      "check null value\n",
      " hsisid      0\n",
      "critical    0\n",
      "dtype: int64\n",
      "change critical column to integer\n",
      "vl_df shape is: (180845, 2)\n"
     ]
    },
    {
     "data": {
      "text/html": [
       "<div>\n",
       "<style scoped>\n",
       "    .dataframe tbody tr th:only-of-type {\n",
       "        vertical-align: middle;\n",
       "    }\n",
       "\n",
       "    .dataframe tbody tr th {\n",
       "        vertical-align: top;\n",
       "    }\n",
       "\n",
       "    .dataframe thead th {\n",
       "        text-align: right;\n",
       "    }\n",
       "</style>\n",
       "<table border=\"1\" class=\"dataframe\">\n",
       "  <thead>\n",
       "    <tr style=\"text-align: right;\">\n",
       "      <th></th>\n",
       "      <th>hsisid</th>\n",
       "      <th>critical</th>\n",
       "    </tr>\n",
       "  </thead>\n",
       "  <tbody>\n",
       "    <tr>\n",
       "      <th>0</th>\n",
       "      <td>4092015279</td>\n",
       "      <td>2</td>\n",
       "    </tr>\n",
       "    <tr>\n",
       "      <th>1</th>\n",
       "      <td>4092014572</td>\n",
       "      <td>2</td>\n",
       "    </tr>\n",
       "    <tr>\n",
       "      <th>2</th>\n",
       "      <td>4092015906</td>\n",
       "      <td>2</td>\n",
       "    </tr>\n",
       "    <tr>\n",
       "      <th>3</th>\n",
       "      <td>4092013840</td>\n",
       "      <td>2</td>\n",
       "    </tr>\n",
       "    <tr>\n",
       "      <th>4</th>\n",
       "      <td>4092021788</td>\n",
       "      <td>2</td>\n",
       "    </tr>\n",
       "  </tbody>\n",
       "</table>\n",
       "</div>"
      ],
      "text/plain": [
       "       hsisid  critical\n",
       "0  4092015279         2\n",
       "1  4092014572         2\n",
       "2  4092015906         2\n",
       "3  4092013840         2\n",
       "4  4092021788         2"
      ]
     },
     "execution_count": 7,
     "metadata": {},
     "output_type": "execute_result"
    }
   ],
   "source": [
    "print('delete useless columns')\n",
    "print('vl_df has columns:',vl_df.columns)\n",
    "vl_df = vl_df[['hsisid', 'critical']]\n",
    "print('re_df has columns:',re_df.columns)\n",
    "\n",
    "print('drop null values')\n",
    "print('check null value\\n', vl_df.isnull().sum())\n",
    "vl_df = vl_df.dropna()\n",
    "print('check null value\\n', vl_df.isnull().sum())\n",
    "\n",
    "print('change critical column to integer')\n",
    "def convertCritical(critical):\n",
    "    if critical == 'Yes':\n",
    "        critical = 2\n",
    "    elif critical == 'No':\n",
    "        critical = 1\n",
    "    else:\n",
    "        return 0\n",
    "    return critical\n",
    "vl_df['critical'] = vl_df['critical'].apply(convertCritical)\n",
    "\n",
    "print('vl_df shape is:', vl_df.shape)\n",
    "vl_df.head()"
   ]
  },
  {
   "cell_type": "markdown",
   "metadata": {},
   "source": [
    "# Clean zipcodes dataset zc_df"
   ]
  },
  {
   "cell_type": "code",
   "execution_count": 8,
   "metadata": {},
   "outputs": [
    {
     "name": "stdout",
     "output_type": "stream",
     "text": [
      "delete useless columns\n",
      "zc_df has columns: Index(['hsisid', 'critical'], dtype='object')\n",
      "zc_df has columns: Index(['hsisid', 'name', 'postalcode'], dtype='object')\n",
      "drop null values\n",
      "check null value\n",
      " hsisid      0\n",
      "critical    0\n",
      "dtype: int64\n",
      "check null value\n",
      " zip                                    0\n",
      "median_family_income_dollars           0\n",
      "median_household_income_dollars        0\n",
      "per_capita_income_dollars              0\n",
      "percent_families_below_poverty_line    0\n",
      "dtype: int64\n",
      "zc_df shape is: (38, 5)\n"
     ]
    },
    {
     "data": {
      "text/html": [
       "<div>\n",
       "<style scoped>\n",
       "    .dataframe tbody tr th:only-of-type {\n",
       "        vertical-align: middle;\n",
       "    }\n",
       "\n",
       "    .dataframe tbody tr th {\n",
       "        vertical-align: top;\n",
       "    }\n",
       "\n",
       "    .dataframe thead th {\n",
       "        text-align: right;\n",
       "    }\n",
       "</style>\n",
       "<table border=\"1\" class=\"dataframe\">\n",
       "  <thead>\n",
       "    <tr style=\"text-align: right;\">\n",
       "      <th></th>\n",
       "      <th>zip</th>\n",
       "      <th>median_family_income_dollars</th>\n",
       "      <th>median_household_income_dollars</th>\n",
       "      <th>per_capita_income_dollars</th>\n",
       "      <th>percent_families_below_poverty_line</th>\n",
       "    </tr>\n",
       "  </thead>\n",
       "  <tbody>\n",
       "    <tr>\n",
       "      <th>0</th>\n",
       "      <td>27501</td>\n",
       "      <td>59408</td>\n",
       "      <td>51121</td>\n",
       "      <td>21631</td>\n",
       "      <td>10.5</td>\n",
       "    </tr>\n",
       "    <tr>\n",
       "      <th>1</th>\n",
       "      <td>27502</td>\n",
       "      <td>109891</td>\n",
       "      <td>95857</td>\n",
       "      <td>36763</td>\n",
       "      <td>3.4</td>\n",
       "    </tr>\n",
       "    <tr>\n",
       "      <th>2</th>\n",
       "      <td>27511</td>\n",
       "      <td>82292</td>\n",
       "      <td>67392</td>\n",
       "      <td>33139</td>\n",
       "      <td>9.6</td>\n",
       "    </tr>\n",
       "    <tr>\n",
       "      <th>3</th>\n",
       "      <td>27513</td>\n",
       "      <td>109736</td>\n",
       "      <td>87262</td>\n",
       "      <td>41232</td>\n",
       "      <td>3.8</td>\n",
       "    </tr>\n",
       "    <tr>\n",
       "      <th>4</th>\n",
       "      <td>27518</td>\n",
       "      <td>125432</td>\n",
       "      <td>98247</td>\n",
       "      <td>49865</td>\n",
       "      <td>5.5</td>\n",
       "    </tr>\n",
       "  </tbody>\n",
       "</table>\n",
       "</div>"
      ],
      "text/plain": [
       "     zip  median_family_income_dollars  median_household_income_dollars  \\\n",
       "0  27501                         59408                            51121   \n",
       "1  27502                        109891                            95857   \n",
       "2  27511                         82292                            67392   \n",
       "3  27513                        109736                            87262   \n",
       "4  27518                        125432                            98247   \n",
       "\n",
       "   per_capita_income_dollars  percent_families_below_poverty_line  \n",
       "0                      21631                                 10.5  \n",
       "1                      36763                                  3.4  \n",
       "2                      33139                                  9.6  \n",
       "3                      41232                                  3.8  \n",
       "4                      49865                                  5.5  "
      ]
     },
     "execution_count": 8,
     "metadata": {},
     "output_type": "execute_result"
    }
   ],
   "source": [
    "print('delete useless columns')\n",
    "print('zc_df has columns:',vl_df.columns)\n",
    "zc_df = zc_df[['zip','median_family_income_dollars','median_household_income_dollars', 'per_capita_income_dollars', 'percent_damilies_below_poverty_line']]\n",
    "print('zc_df has columns:',re_df.columns)\n",
    "\n",
    "zc_df.rename(columns={'percent_damilies_below_poverty_line': 'percent_families_below_poverty_line'}, inplace=True)\n",
    "\n",
    "print('drop null values')\n",
    "print('check null value\\n', vl_df.isnull().sum())\n",
    "zc_df = zc_df.dropna()\n",
    "print('check null value\\n', zc_df.isnull().sum())\n",
    "\n",
    "print('zc_df shape is:', zc_df.shape)\n",
    "zc_df.head()"
   ]
  },
  {
   "cell_type": "markdown",
   "metadata": {},
   "source": [
    "# Combine vl_df and rs_df and zc_df"
   ]
  },
  {
   "cell_type": "code",
   "execution_count": 9,
   "metadata": {},
   "outputs": [
    {
     "name": "stdout",
     "output_type": "stream",
     "text": [
      "sum_re shape is:  (4266, 1)\n"
     ]
    },
    {
     "data": {
      "text/html": [
       "<div>\n",
       "<style scoped>\n",
       "    .dataframe tbody tr th:only-of-type {\n",
       "        vertical-align: middle;\n",
       "    }\n",
       "\n",
       "    .dataframe tbody tr th {\n",
       "        vertical-align: top;\n",
       "    }\n",
       "\n",
       "    .dataframe thead th {\n",
       "        text-align: right;\n",
       "    }\n",
       "</style>\n",
       "<table border=\"1\" class=\"dataframe\">\n",
       "  <thead>\n",
       "    <tr style=\"text-align: right;\">\n",
       "      <th></th>\n",
       "      <th>critical</th>\n",
       "    </tr>\n",
       "    <tr>\n",
       "      <th>hsisid</th>\n",
       "      <th></th>\n",
       "    </tr>\n",
       "  </thead>\n",
       "  <tbody>\n",
       "    <tr>\n",
       "      <th>4092010018</th>\n",
       "      <td>138</td>\n",
       "    </tr>\n",
       "    <tr>\n",
       "      <th>4092010024</th>\n",
       "      <td>92</td>\n",
       "    </tr>\n",
       "    <tr>\n",
       "      <th>4092010031</th>\n",
       "      <td>28</td>\n",
       "    </tr>\n",
       "    <tr>\n",
       "      <th>4092010035</th>\n",
       "      <td>52</td>\n",
       "    </tr>\n",
       "    <tr>\n",
       "      <th>4092010037</th>\n",
       "      <td>53</td>\n",
       "    </tr>\n",
       "  </tbody>\n",
       "</table>\n",
       "</div>"
      ],
      "text/plain": [
       "            critical\n",
       "hsisid              \n",
       "4092010018       138\n",
       "4092010024        92\n",
       "4092010031        28\n",
       "4092010035        52\n",
       "4092010037        53"
      ]
     },
     "execution_count": 9,
     "metadata": {},
     "output_type": "execute_result"
    }
   ],
   "source": [
    "#calculate the sum of violations in each resraurant\n",
    "sum_re = vl_df.groupby(['hsisid']).sum()\n",
    "print('sum_re shape is: ',sum_re.shape)\n",
    "sum_re.head()"
   ]
  },
  {
   "cell_type": "code",
   "execution_count": 10,
   "metadata": {},
   "outputs": [
    {
     "name": "stdout",
     "output_type": "stream",
     "text": [
      "df shape is:  (3197, 4)\n"
     ]
    },
    {
     "data": {
      "text/html": [
       "<div>\n",
       "<style scoped>\n",
       "    .dataframe tbody tr th:only-of-type {\n",
       "        vertical-align: middle;\n",
       "    }\n",
       "\n",
       "    .dataframe tbody tr th {\n",
       "        vertical-align: top;\n",
       "    }\n",
       "\n",
       "    .dataframe thead th {\n",
       "        text-align: right;\n",
       "    }\n",
       "</style>\n",
       "<table border=\"1\" class=\"dataframe\">\n",
       "  <thead>\n",
       "    <tr style=\"text-align: right;\">\n",
       "      <th></th>\n",
       "      <th>hsisid</th>\n",
       "      <th>critical</th>\n",
       "      <th>name</th>\n",
       "      <th>postalcode</th>\n",
       "    </tr>\n",
       "  </thead>\n",
       "  <tbody>\n",
       "    <tr>\n",
       "      <th>0</th>\n",
       "      <td>4092010018</td>\n",
       "      <td>138</td>\n",
       "      <td>Angus Barn</td>\n",
       "      <td>27628</td>\n",
       "    </tr>\n",
       "    <tr>\n",
       "      <th>1</th>\n",
       "      <td>4092010024</td>\n",
       "      <td>92</td>\n",
       "      <td>Applebee`s</td>\n",
       "      <td>27607</td>\n",
       "    </tr>\n",
       "    <tr>\n",
       "      <th>2</th>\n",
       "      <td>4092010031</td>\n",
       "      <td>28</td>\n",
       "      <td>Archdale Bldg. Snack Bar</td>\n",
       "      <td>27604</td>\n",
       "    </tr>\n",
       "    <tr>\n",
       "      <th>3</th>\n",
       "      <td>4092010035</td>\n",
       "      <td>52</td>\n",
       "      <td>Ashworth Rexall Drug</td>\n",
       "      <td>27511</td>\n",
       "    </tr>\n",
       "    <tr>\n",
       "      <th>4</th>\n",
       "      <td>4092010037</td>\n",
       "      <td>53</td>\n",
       "      <td>Aubrey &amp; Peedi`s Grill</td>\n",
       "      <td>27591</td>\n",
       "    </tr>\n",
       "  </tbody>\n",
       "</table>\n",
       "</div>"
      ],
      "text/plain": [
       "       hsisid  critical                      name  postalcode\n",
       "0  4092010018       138                Angus Barn       27628\n",
       "1  4092010024        92                Applebee`s       27607\n",
       "2  4092010031        28  Archdale Bldg. Snack Bar       27604\n",
       "3  4092010035        52      Ashworth Rexall Drug       27511\n",
       "4  4092010037        53    Aubrey & Peedi`s Grill       27591"
      ]
     },
     "execution_count": 10,
     "metadata": {},
     "output_type": "execute_result"
    }
   ],
   "source": [
    "#merge violation dataset and restaurant dataset\n",
    "df = pd.merge(sum_re, re_df, on = 'hsisid')\n",
    "print('df shape is: ', df.shape)\n",
    "df.head()"
   ]
  },
  {
   "cell_type": "code",
   "execution_count": 11,
   "metadata": {},
   "outputs": [
    {
     "name": "stdout",
     "output_type": "stream",
     "text": [
      "df1 shape is:  (55, 1)\n"
     ]
    },
    {
     "data": {
      "text/html": [
       "<div>\n",
       "<style scoped>\n",
       "    .dataframe tbody tr th:only-of-type {\n",
       "        vertical-align: middle;\n",
       "    }\n",
       "\n",
       "    .dataframe tbody tr th {\n",
       "        vertical-align: top;\n",
       "    }\n",
       "\n",
       "    .dataframe thead th {\n",
       "        text-align: right;\n",
       "    }\n",
       "</style>\n",
       "<table border=\"1\" class=\"dataframe\">\n",
       "  <thead>\n",
       "    <tr style=\"text-align: right;\">\n",
       "      <th></th>\n",
       "      <th>critical</th>\n",
       "    </tr>\n",
       "    <tr>\n",
       "      <th>zip</th>\n",
       "      <th></th>\n",
       "    </tr>\n",
       "  </thead>\n",
       "  <tbody>\n",
       "    <tr>\n",
       "      <th>27263</th>\n",
       "      <td>8.000000</td>\n",
       "    </tr>\n",
       "    <tr>\n",
       "      <th>27501</th>\n",
       "      <td>96.000000</td>\n",
       "    </tr>\n",
       "    <tr>\n",
       "      <th>27502</th>\n",
       "      <td>62.073171</td>\n",
       "    </tr>\n",
       "    <tr>\n",
       "      <th>27511</th>\n",
       "      <td>76.483721</td>\n",
       "    </tr>\n",
       "    <tr>\n",
       "      <th>27512</th>\n",
       "      <td>73.333333</td>\n",
       "    </tr>\n",
       "  </tbody>\n",
       "</table>\n",
       "</div>"
      ],
      "text/plain": [
       "        critical\n",
       "zip             \n",
       "27263   8.000000\n",
       "27501  96.000000\n",
       "27502  62.073171\n",
       "27511  76.483721\n",
       "27512  73.333333"
      ]
     },
     "execution_count": 11,
     "metadata": {},
     "output_type": "execute_result"
    }
   ],
   "source": [
    "df = df[['critical', 'postalcode']]\n",
    "df.rename(columns={'postalcode': 'zip'}, inplace=True)\n",
    "df1 = df.groupby(['zip']).mean()\n",
    "print(\"df1 shape is: \", df1.shape)\n",
    "df1.head()"
   ]
  },
  {
   "cell_type": "code",
   "execution_count": 12,
   "metadata": {},
   "outputs": [
    {
     "name": "stdout",
     "output_type": "stream",
     "text": [
      "df2 shap is:  (37, 6)\n"
     ]
    },
    {
     "data": {
      "text/html": [
       "<div>\n",
       "<style scoped>\n",
       "    .dataframe tbody tr th:only-of-type {\n",
       "        vertical-align: middle;\n",
       "    }\n",
       "\n",
       "    .dataframe tbody tr th {\n",
       "        vertical-align: top;\n",
       "    }\n",
       "\n",
       "    .dataframe thead th {\n",
       "        text-align: right;\n",
       "    }\n",
       "</style>\n",
       "<table border=\"1\" class=\"dataframe\">\n",
       "  <thead>\n",
       "    <tr style=\"text-align: right;\">\n",
       "      <th></th>\n",
       "      <th>zip</th>\n",
       "      <th>critical</th>\n",
       "      <th>median_family_income_dollars</th>\n",
       "      <th>median_household_income_dollars</th>\n",
       "      <th>per_capita_income_dollars</th>\n",
       "      <th>percent_families_below_poverty_line</th>\n",
       "    </tr>\n",
       "  </thead>\n",
       "  <tbody>\n",
       "    <tr>\n",
       "      <th>0</th>\n",
       "      <td>27501</td>\n",
       "      <td>96.000000</td>\n",
       "      <td>59408</td>\n",
       "      <td>51121</td>\n",
       "      <td>21631</td>\n",
       "      <td>10.5</td>\n",
       "    </tr>\n",
       "    <tr>\n",
       "      <th>1</th>\n",
       "      <td>27502</td>\n",
       "      <td>62.073171</td>\n",
       "      <td>109891</td>\n",
       "      <td>95857</td>\n",
       "      <td>36763</td>\n",
       "      <td>3.4</td>\n",
       "    </tr>\n",
       "    <tr>\n",
       "      <th>2</th>\n",
       "      <td>27511</td>\n",
       "      <td>76.483721</td>\n",
       "      <td>82292</td>\n",
       "      <td>67392</td>\n",
       "      <td>33139</td>\n",
       "      <td>9.6</td>\n",
       "    </tr>\n",
       "    <tr>\n",
       "      <th>3</th>\n",
       "      <td>27513</td>\n",
       "      <td>91.409722</td>\n",
       "      <td>109736</td>\n",
       "      <td>87262</td>\n",
       "      <td>41232</td>\n",
       "      <td>3.8</td>\n",
       "    </tr>\n",
       "    <tr>\n",
       "      <th>4</th>\n",
       "      <td>27518</td>\n",
       "      <td>45.733333</td>\n",
       "      <td>125432</td>\n",
       "      <td>98247</td>\n",
       "      <td>49865</td>\n",
       "      <td>5.5</td>\n",
       "    </tr>\n",
       "  </tbody>\n",
       "</table>\n",
       "</div>"
      ],
      "text/plain": [
       "     zip   critical  median_family_income_dollars  \\\n",
       "0  27501  96.000000                         59408   \n",
       "1  27502  62.073171                        109891   \n",
       "2  27511  76.483721                         82292   \n",
       "3  27513  91.409722                        109736   \n",
       "4  27518  45.733333                        125432   \n",
       "\n",
       "   median_household_income_dollars  per_capita_income_dollars  \\\n",
       "0                            51121                      21631   \n",
       "1                            95857                      36763   \n",
       "2                            67392                      33139   \n",
       "3                            87262                      41232   \n",
       "4                            98247                      49865   \n",
       "\n",
       "   percent_families_below_poverty_line  \n",
       "0                                 10.5  \n",
       "1                                  3.4  \n",
       "2                                  9.6  \n",
       "3                                  3.8  \n",
       "4                                  5.5  "
      ]
     },
     "execution_count": 12,
     "metadata": {},
     "output_type": "execute_result"
    }
   ],
   "source": [
    "df2 = pd.merge(df1, zc_df, on = 'zip')\n",
    "print('df2 shap is: ', df2.shape)\n",
    "df2.head()"
   ]
  },
  {
   "cell_type": "markdown",
   "metadata": {},
   "source": [
    "# Data visualization"
   ]
  },
  {
   "cell_type": "code",
   "execution_count": 13,
   "metadata": {},
   "outputs": [
    {
     "data": {
      "image/png": "[encoded data removed]",
      "text/plain": [
       "<Figure size 1440x1440 with 16 Axes>"
      ]
     },
     "metadata": {
      "needs_background": "light"
     },
     "output_type": "display_data"
    }
   ],
   "source": [
    "pd.plotting.scatter_matrix(df2[['median_family_income_dollars', 'median_household_income_dollars','critical','per_capita_income_dollars']],figsize=(20,20))\n",
    "f1 = plt.gcf()"
   ]
  },
  {
   "cell_type": "code",
   "execution_count": 14,
   "metadata": {},
   "outputs": [],
   "source": [
    "sns.set(font_scale=2.5, style=\"white\")"
   ]
  },
  {
   "cell_type": "code",
   "execution_count": 15,
   "metadata": {},
   "outputs": [
    {
     "data": {
      "image/png": "[encoded data removed]",
      "text/plain": [
       "<Figure size 432x288 with 1 Axes>"
      ]
     },
     "metadata": {},
     "output_type": "display_data"
    }
   ],
   "source": [
    "ax = sns.lineplot(x = 'per_capita_income_dollars', y = 'critical',data = df2, color='royalblue')\n",
    "income = df2['per_capita_income_dollars'].to_list()\n",
    "x = np.arange(1, len(income)+1)\n",
    "ax.set_xticks(x, income)\n",
    "\n",
    "# remove the top and right lines\n",
    "sns.despine()\n",
    "\n",
    "# add title and axis labels (modify x-axis label)\n",
    "ax.set_title('per capita income ~ number of violations relationship',y=1.08)\n",
    "ax.set_ylabel('number of violations')\n",
    "ax.set_xlabel('per_capita_income');"
   ]
  },
  {
   "cell_type": "code",
   "execution_count": 16,
   "metadata": {},
   "outputs": [
    {
     "data": {
      "image/png": "[encoded data removed]",
      "text/plain": [
       "<Figure size 432x288 with 1 Axes>"
      ]
     },
     "metadata": {},
     "output_type": "display_data"
    }
   ],
   "source": [
    "ax = sns.lineplot(x = 'median_family_income_dollars', y = 'critical',data = df2, color='royalblue')\n",
    "\n",
    "# remove the top and right lines\n",
    "sns.despine()\n",
    "\n",
    "# add title and axis labels (modify x-axis label)\n",
    "ax.set_title('median_family_income_dollars ~ number of violations relationship',y=1.08)\n",
    "ax.set_ylabel('number of violations')\n",
    "ax.set_xlabel('median_family_income_dollars');"
   ]
  },
  {
   "cell_type": "code",
   "execution_count": 17,
   "metadata": {},
   "outputs": [
    {
     "data": {
      "image/png": "[encoded data removed]",
      "text/plain": [
       "<Figure size 432x288 with 1 Axes>"
      ]
     },
     "metadata": {},
     "output_type": "display_data"
    }
   ],
   "source": [
    "ax = sns.lineplot(x = 'median_household_income_dollars', y = 'critical',data = df2, color='royalblue')\n",
    "\n",
    "# remove the top and right lines\n",
    "sns.despine()\n",
    "\n",
    "# add title and axis labels (modify x-axis label)\n",
    "ax.set_title('median_household_income_dollars ~ number of violations relationship',y=1.08)\n",
    "ax.set_ylabel('number of violations')\n",
    "ax.set_xlabel('median_household_income_dollars');"
   ]
  },
  {
   "cell_type": "markdown",
   "metadata": {},
   "source": [
    "# Data Analysis & Results"
   ]
  },
  {
   "cell_type": "markdown",
   "metadata": {},
   "source": [
    "Include cells that describe the steps in your data analysis."
   ]
  },
  {
   "cell_type": "markdown",
   "metadata": {},
   "source": [
    "Firstly, I want to analyze the relationships between the four factors about the income level."
   ]
  },
  {
   "cell_type": "code",
   "execution_count": 18,
   "metadata": {},
   "outputs": [
    {
     "name": "stdout",
     "output_type": "stream",
     "text": [
      "                                OLS Regression Results                               \n",
      "=====================================================================================\n",
      "Dep. Variable:     per_capita_income_dollars   R-squared:                       0.375\n",
      "Model:                                   OLS   Adj. R-squared:                  0.357\n",
      "Method:                        Least Squares   F-statistic:                     21.02\n",
      "Date:                       Thu, 11 Jun 2020   Prob (F-statistic):           5.59e-05\n",
      "Time:                               03:27:52   Log-Likelihood:                -384.04\n",
      "No. Observations:                         37   AIC:                             772.1\n",
      "Df Residuals:                             35   BIC:                             775.3\n",
      "Df Model:                                  1                                         \n",
      "Covariance Type:                   nonrobust                                         \n",
      "=======================================================================================================\n",
      "                                          coef    std err          t      P>|t|      [0.025      0.975]\n",
      "-------------------------------------------------------------------------------------------------------\n",
      "Intercept                            4.122e+04   2185.848     18.859      0.000    3.68e+04    4.57e+04\n",
      "percent_families_below_poverty_line  -988.9194    215.706     -4.585      0.000   -1426.826    -551.012\n",
      "==============================================================================\n",
      "Omnibus:                        5.011   Durbin-Watson:                   1.386\n",
      "Prob(Omnibus):                  0.082   Jarque-Bera (JB):                3.815\n",
      "Skew:                           0.763   Prob(JB):                        0.148\n",
      "Kurtosis:                       3.381   Cond. No.                         16.9\n",
      "==============================================================================\n",
      "\n",
      "Warnings:\n",
      "[1] Standard Errors assume that the covariance matrix of the errors is correctly specified.\n"
     ]
    }
   ],
   "source": [
    "#relationship between per_capita_income_dollars and percent_damilies_below_poverty_line\n",
    "outcome, predictors = patsy.dmatrices('per_capita_income_dollars ~ percent_families_below_poverty_line', df2)\n",
    "mod = sm.OLS(outcome, predictors)\n",
    "res = mod.fit()\n",
    "print(res.summary())"
   ]
  },
  {
   "cell_type": "code",
   "execution_count": 19,
   "metadata": {},
   "outputs": [
    {
     "name": "stdout",
     "output_type": "stream",
     "text": [
      "                                 OLS Regression Results                                 \n",
      "========================================================================================\n",
      "Dep. Variable:     median_family_income_dollars   R-squared:                       0.775\n",
      "Model:                                      OLS   Adj. R-squared:                  0.768\n",
      "Method:                           Least Squares   F-statistic:                     120.3\n",
      "Date:                          Thu, 11 Jun 2020   Prob (F-statistic):           7.17e-13\n",
      "Time:                                  03:27:52   Log-Likelihood:                -397.97\n",
      "No. Observations:                            37   AIC:                             799.9\n",
      "Df Residuals:                                35   BIC:                             803.2\n",
      "Df Model:                                     1                                         \n",
      "Covariance Type:                      nonrobust                                         \n",
      "===================================================================================================\n",
      "                                      coef    std err          t      P>|t|      [0.025      0.975]\n",
      "---------------------------------------------------------------------------------------------------\n",
      "Intercept                        7394.8540   7212.081      1.025      0.312   -7246.450     2.2e+04\n",
      "median_household_income_dollars     1.1245      0.103     10.967      0.000       0.916       1.333\n",
      "==============================================================================\n",
      "Omnibus:                       32.613   Durbin-Watson:                   1.563\n",
      "Prob(Omnibus):                  0.000   Jarque-Bera (JB):               81.059\n",
      "Skew:                           2.134   Prob(JB):                     2.50e-18\n",
      "Kurtosis:                       8.862   Cond. No.                     2.64e+05\n",
      "==============================================================================\n",
      "\n",
      "Warnings:\n",
      "[1] Standard Errors assume that the covariance matrix of the errors is correctly specified.\n",
      "[2] The condition number is large, 2.64e+05. This might indicate that there are\n",
      "strong multicollinearity or other numerical problems.\n"
     ]
    }
   ],
   "source": [
    "#relationship between median_family_income_dollars and median_household_income_dollars\n",
    "outcome, predictors = patsy.dmatrices('median_family_income_dollars ~ median_household_income_dollars', df2)\n",
    "mod = sm.OLS(outcome, predictors)\n",
    "res = mod.fit()\n",
    "print(res.summary())"
   ]
  },
  {
   "cell_type": "code",
   "execution_count": 20,
   "metadata": {},
   "outputs": [
    {
     "name": "stdout",
     "output_type": "stream",
     "text": [
      "                                 OLS Regression Results                                 \n",
      "========================================================================================\n",
      "Dep. Variable:     median_family_income_dollars   R-squared:                       0.813\n",
      "Model:                                      OLS   Adj. R-squared:                  0.808\n",
      "Method:                           Least Squares   F-statistic:                     152.3\n",
      "Date:                          Thu, 11 Jun 2020   Prob (F-statistic):           2.65e-14\n",
      "Time:                                  03:27:52   Log-Likelihood:                -394.50\n",
      "No. Observations:                            37   AIC:                             793.0\n",
      "Df Residuals:                                35   BIC:                             796.2\n",
      "Df Model:                                     1                                         \n",
      "Covariance Type:                      nonrobust                                         \n",
      "=============================================================================================\n",
      "                                coef    std err          t      P>|t|      [0.025      0.975]\n",
      "---------------------------------------------------------------------------------------------\n",
      "Intercept                  1.096e+04   6143.740      1.784      0.083   -1511.847    2.34e+04\n",
      "per_capita_income_dollars     2.1876      0.177     12.339      0.000       1.828       2.548\n",
      "==============================================================================\n",
      "Omnibus:                        0.860   Durbin-Watson:                   1.724\n",
      "Prob(Omnibus):                  0.651   Jarque-Bera (JB):                0.183\n",
      "Skew:                          -0.018   Prob(JB):                        0.912\n",
      "Kurtosis:                       3.343   Cond. No.                     1.22e+05\n",
      "==============================================================================\n",
      "\n",
      "Warnings:\n",
      "[1] Standard Errors assume that the covariance matrix of the errors is correctly specified.\n",
      "[2] The condition number is large, 1.22e+05. This might indicate that there are\n",
      "strong multicollinearity or other numerical problems.\n"
     ]
    }
   ],
   "source": [
    "#relationship between median_family_income_dollars and per_capita_income_dollars\n",
    "outcome, predictors = patsy.dmatrices('median_family_income_dollars ~ per_capita_income_dollars', df2)\n",
    "mod = sm.OLS(outcome, predictors)\n",
    "res = mod.fit()\n",
    "print(res.summary())"
   ]
  },
  {
   "cell_type": "code",
   "execution_count": 21,
   "metadata": {},
   "outputs": [
    {
     "name": "stdout",
     "output_type": "stream",
     "text": [
      "                                   OLS Regression Results                                  \n",
      "===========================================================================================\n",
      "Dep. Variable:     median_household_income_dollars   R-squared:                       0.519\n",
      "Model:                                         OLS   Adj. R-squared:                  0.506\n",
      "Method:                              Least Squares   F-statistic:                     37.84\n",
      "Date:                             Thu, 11 Jun 2020   Prob (F-statistic):           4.88e-07\n",
      "Time:                                     03:27:52   Log-Likelihood:                -402.91\n",
      "No. Observations:                               37   AIC:                             809.8\n",
      "Df Residuals:                                   35   BIC:                             813.0\n",
      "Df Model:                                        1                                         \n",
      "Covariance Type:                         nonrobust                                         \n",
      "=============================================================================================\n",
      "                                coef    std err          t      P>|t|      [0.025      0.975]\n",
      "---------------------------------------------------------------------------------------------\n",
      "Intercept                  2.234e+04   7710.136      2.897      0.006    6683.858     3.8e+04\n",
      "per_capita_income_dollars     1.3686      0.222      6.151      0.000       0.917       1.820\n",
      "==============================================================================\n",
      "Omnibus:                        2.686   Durbin-Watson:                   1.283\n",
      "Prob(Omnibus):                  0.261   Jarque-Bera (JB):                1.583\n",
      "Skew:                           0.248   Prob(JB):                        0.453\n",
      "Kurtosis:                       3.883   Cond. No.                     1.22e+05\n",
      "==============================================================================\n",
      "\n",
      "Warnings:\n",
      "[1] Standard Errors assume that the covariance matrix of the errors is correctly specified.\n",
      "[2] The condition number is large, 1.22e+05. This might indicate that there are\n",
      "strong multicollinearity or other numerical problems.\n"
     ]
    }
   ],
   "source": [
    "#relationship between median_household_income_dollars and per_capita_income_dollars\n",
    "outcome, predictors = patsy.dmatrices('median_household_income_dollars ~ per_capita_income_dollars', df2)\n",
    "mod = sm.OLS(outcome, predictors)\n",
    "res = mod.fit()\n",
    "print(res.summary())"
   ]
  },
  {
   "cell_type": "markdown",
   "metadata": {},
   "source": [
    "From the above four linear models, we can know that per_capita_income_dollars and median_family_income_dollars and median_household_income_dollars and percent_damilies_below_poverty_line are strongly related because the P values of the models are 0.000."
   ]
  },
  {
   "cell_type": "markdown",
   "metadata": {},
   "source": [
    "Then I want to analyze the relationship between number of violations and each of the four factors about income level."
   ]
  },
  {
   "cell_type": "code",
   "execution_count": 22,
   "metadata": {},
   "outputs": [
    {
     "name": "stdout",
     "output_type": "stream",
     "text": [
      "                            OLS Regression Results                            \n",
      "==============================================================================\n",
      "Dep. Variable:               critical   R-squared:                       0.003\n",
      "Model:                            OLS   Adj. R-squared:                 -0.026\n",
      "Method:                 Least Squares   F-statistic:                   0.09553\n",
      "Date:                Thu, 11 Jun 2020   Prob (F-statistic):              0.759\n",
      "Time:                        03:27:52   Log-Likelihood:                -168.30\n",
      "No. Observations:                  37   AIC:                             340.6\n",
      "Df Residuals:                      35   BIC:                             343.8\n",
      "Df Model:                           1                                         \n",
      "Covariance Type:            nonrobust                                         \n",
      "=============================================================================================\n",
      "                                coef    std err          t      P>|t|      [0.025      0.975]\n",
      "---------------------------------------------------------------------------------------------\n",
      "Intercept                    68.1375     13.594      5.012      0.000      40.541      95.734\n",
      "per_capita_income_dollars    -0.0001      0.000     -0.309      0.759      -0.001       0.001\n",
      "==============================================================================\n",
      "Omnibus:                        4.166   Durbin-Watson:                   2.031\n",
      "Prob(Omnibus):                  0.125   Jarque-Bera (JB):                3.356\n",
      "Skew:                           0.301   Prob(JB):                        0.187\n",
      "Kurtosis:                       4.347   Cond. No.                     1.22e+05\n",
      "==============================================================================\n",
      "\n",
      "Warnings:\n",
      "[1] Standard Errors assume that the covariance matrix of the errors is correctly specified.\n",
      "[2] The condition number is large, 1.22e+05. This might indicate that there are\n",
      "strong multicollinearity or other numerical problems.\n"
     ]
    }
   ],
   "source": [
    "#relationship between per_capita_income_dollars and number of violations\n",
    "outcome, predictors = patsy.dmatrices(' critical ~ per_capita_income_dollars', df2)\n",
    "mod = sm.OLS(outcome, predictors)\n",
    "res = mod.fit()\n",
    "print(res.summary())"
   ]
  },
  {
   "cell_type": "markdown",
   "metadata": {},
   "source": [
    "The P value is 0.759 so there is no relation between number of violations and per_capita_income."
   ]
  },
  {
   "cell_type": "code",
   "execution_count": 23,
   "metadata": {},
   "outputs": [
    {
     "name": "stdout",
     "output_type": "stream",
     "text": [
      "                            OLS Regression Results                            \n",
      "==============================================================================\n",
      "Dep. Variable:               critical   R-squared:                       0.000\n",
      "Model:                            OLS   Adj. R-squared:                 -0.028\n",
      "Method:                 Least Squares   F-statistic:                   0.01657\n",
      "Date:                Thu, 11 Jun 2020   Prob (F-statistic):              0.898\n",
      "Time:                        03:27:52   Log-Likelihood:                -168.34\n",
      "No. Observations:                  37   AIC:                             340.7\n",
      "Df Residuals:                      35   BIC:                             343.9\n",
      "Df Model:                           1                                         \n",
      "Covariance Type:            nonrobust                                         \n",
      "=======================================================================================================\n",
      "                                          coef    std err          t      P>|t|      [0.025      0.975]\n",
      "-------------------------------------------------------------------------------------------------------\n",
      "Intercept                              63.4493      6.425      9.876      0.000      50.406      76.492\n",
      "percent_families_below_poverty_line     0.0816      0.634      0.129      0.898      -1.206       1.369\n",
      "==============================================================================\n",
      "Omnibus:                        4.532   Durbin-Watson:                   2.031\n",
      "Prob(Omnibus):                  0.104   Jarque-Bera (JB):                3.626\n",
      "Skew:                           0.380   Prob(JB):                        0.163\n",
      "Kurtosis:                       4.332   Cond. No.                         16.9\n",
      "==============================================================================\n",
      "\n",
      "Warnings:\n",
      "[1] Standard Errors assume that the covariance matrix of the errors is correctly specified.\n"
     ]
    }
   ],
   "source": [
    "#relationship between number of violations and percent_damilies_below_poverty_line\n",
    "outcome, predictors = patsy.dmatrices(' critical ~ percent_families_below_poverty_line', df2)\n",
    "mod = sm.OLS(outcome, predictors)\n",
    "res = mod.fit()\n",
    "print(res.summary())"
   ]
  },
  {
   "cell_type": "markdown",
   "metadata": {},
   "source": [
    "The P value is 0.898 so there is no relation between number of violations and percent_families_below_poverty_line."
   ]
  },
  {
   "cell_type": "code",
   "execution_count": 24,
   "metadata": {},
   "outputs": [
    {
     "name": "stdout",
     "output_type": "stream",
     "text": [
      "                            OLS Regression Results                            \n",
      "==============================================================================\n",
      "Dep. Variable:               critical   R-squared:                       0.005\n",
      "Model:                            OLS   Adj. R-squared:                 -0.024\n",
      "Method:                 Least Squares   F-statistic:                    0.1680\n",
      "Date:                Thu, 11 Jun 2020   Prob (F-statistic):              0.684\n",
      "Time:                        03:27:52   Log-Likelihood:                -168.26\n",
      "No. Observations:                  37   AIC:                             340.5\n",
      "Df Residuals:                      35   BIC:                             343.7\n",
      "Df Model:                           1                                         \n",
      "Covariance Type:            nonrobust                                         \n",
      "================================================================================================\n",
      "                                   coef    std err          t      P>|t|      [0.025      0.975]\n",
      "------------------------------------------------------------------------------------------------\n",
      "Intercept                       69.6469     14.051      4.957      0.000      41.122      98.171\n",
      "median_family_income_dollars  -6.62e-05      0.000     -0.410      0.684      -0.000       0.000\n",
      "==============================================================================\n",
      "Omnibus:                        4.130   Durbin-Watson:                   2.034\n",
      "Prob(Omnibus):                  0.127   Jarque-Bera (JB):                3.346\n",
      "Skew:                           0.288   Prob(JB):                        0.188\n",
      "Kurtosis:                       4.356   Cond. No.                     3.17e+05\n",
      "==============================================================================\n",
      "\n",
      "Warnings:\n",
      "[1] Standard Errors assume that the covariance matrix of the errors is correctly specified.\n",
      "[2] The condition number is large, 3.17e+05. This might indicate that there are\n",
      "strong multicollinearity or other numerical problems.\n"
     ]
    }
   ],
   "source": [
    "#relationship between number of violations and median_family_income_dollars\n",
    "outcome, predictors = patsy.dmatrices(' critical ~ median_family_income_dollars', df2)\n",
    "mod = sm.OLS(outcome, predictors)\n",
    "res = mod.fit()\n",
    "print(res.summary())"
   ]
  },
  {
   "cell_type": "markdown",
   "metadata": {},
   "source": [
    "The P value is 0.684 so there is no relation between number of violations and median_family_income_dollars."
   ]
  },
  {
   "cell_type": "code",
   "execution_count": 25,
   "metadata": {},
   "outputs": [
    {
     "name": "stdout",
     "output_type": "stream",
     "text": [
      "                            OLS Regression Results                            \n",
      "==============================================================================\n",
      "Dep. Variable:               critical   R-squared:                       0.004\n",
      "Model:                            OLS   Adj. R-squared:                 -0.024\n",
      "Method:                 Least Squares   F-statistic:                    0.1521\n",
      "Date:                Thu, 11 Jun 2020   Prob (F-statistic):              0.699\n",
      "Time:                        03:27:52   Log-Likelihood:                -168.27\n",
      "No. Observations:                  37   AIC:                             340.5\n",
      "Df Residuals:                      35   BIC:                             343.8\n",
      "Df Model:                           1                                         \n",
      "Covariance Type:            nonrobust                                         \n",
      "===================================================================================================\n",
      "                                      coef    std err          t      P>|t|      [0.025      0.975]\n",
      "---------------------------------------------------------------------------------------------------\n",
      "Intercept                          69.5681     14.519      4.791      0.000      40.092      99.044\n",
      "median_household_income_dollars  -8.05e-05      0.000     -0.390      0.699      -0.000       0.000\n",
      "==============================================================================\n",
      "Omnibus:                        4.287   Durbin-Watson:                   2.025\n",
      "Prob(Omnibus):                  0.117   Jarque-Bera (JB):                3.462\n",
      "Skew:                           0.324   Prob(JB):                        0.177\n",
      "Kurtosis:                       4.351   Cond. No.                     2.64e+05\n",
      "==============================================================================\n",
      "\n",
      "Warnings:\n",
      "[1] Standard Errors assume that the covariance matrix of the errors is correctly specified.\n",
      "[2] The condition number is large, 2.64e+05. This might indicate that there are\n",
      "strong multicollinearity or other numerical problems.\n"
     ]
    }
   ],
   "source": [
    "#relationship between number of violations and median_household_income_dollars\n",
    "outcome, predictors = patsy.dmatrices(' critical ~ median_household_income_dollars ', df2)\n",
    "mod = sm.OLS(outcome, predictors)\n",
    "res = mod.fit()\n",
    "print(res.summary())"
   ]
  },
  {
   "cell_type": "markdown",
   "metadata": {},
   "source": [
    "The P value is 0.699 so there is no relation between number of violations and median_household_income_dollars."
   ]
  },
  {
   "cell_type": "markdown",
   "metadata": {},
   "source": [
    "There are no relations between number of violations and each of the four factors. I want to see if any factor has larger influence on number of violations so I will analyze the relationship between number of violations and the combination of the four factors."
   ]
  },
  {
   "cell_type": "code",
   "execution_count": 26,
   "metadata": {},
   "outputs": [
    {
     "name": "stdout",
     "output_type": "stream",
     "text": [
      "                            OLS Regression Results                            \n",
      "==============================================================================\n",
      "Dep. Variable:               critical   R-squared:                       0.007\n",
      "Model:                            OLS   Adj. R-squared:                 -0.117\n",
      "Method:                 Least Squares   F-statistic:                   0.05858\n",
      "Date:                Thu, 11 Jun 2020   Prob (F-statistic):              0.993\n",
      "Time:                        03:27:53   Log-Likelihood:                -168.22\n",
      "No. Observations:                  37   AIC:                             346.4\n",
      "Df Residuals:                      32   BIC:                             354.5\n",
      "Df Model:                           4                                         \n",
      "Covariance Type:            nonrobust                                         \n",
      "=======================================================================================================\n",
      "                                          coef    std err          t      P>|t|      [0.025      0.975]\n",
      "-------------------------------------------------------------------------------------------------------\n",
      "Intercept                              75.2624     28.175      2.671      0.012      17.873     132.652\n",
      "per_capita_income_dollars               0.0001      0.001      0.135      0.894      -0.002       0.002\n",
      "median_family_income_dollars           -0.0001      0.001     -0.230      0.819      -0.001       0.001\n",
      "median_household_income_dollars     -2.423e-05      0.000     -0.049      0.961      -0.001       0.001\n",
      "percent_families_below_poverty_line    -0.2416      0.967     -0.250      0.804      -2.212       1.729\n",
      "==============================================================================\n",
      "Omnibus:                        4.056   Durbin-Watson:                   2.027\n",
      "Prob(Omnibus):                  0.132   Jarque-Bera (JB):                3.457\n",
      "Skew:                           0.214   Prob(JB):                        0.178\n",
      "Kurtosis:                       4.435   Cond. No.                     8.16e+05\n",
      "==============================================================================\n",
      "\n",
      "Warnings:\n",
      "[1] Standard Errors assume that the covariance matrix of the errors is correctly specified.\n",
      "[2] The condition number is large, 8.16e+05. This might indicate that there are\n",
      "strong multicollinearity or other numerical problems.\n"
     ]
    }
   ],
   "source": [
    "#relationship between number of violations and the combination of per_capita_income_dollars and median_family_income_dollars and median_household_income_dollars and percent_damilies_below_poverty_line.\n",
    "outcome, predictors = patsy.dmatrices(' critical ~ per_capita_income_dollars + median_family_income_dollars + median_household_income_dollars + percent_families_below_poverty_line', df2)\n",
    "mod = sm.OLS(outcome, predictors)\n",
    "res = mod.fit()\n",
    "print(res.summary())"
   ]
  },
  {
   "cell_type": "markdown",
   "metadata": {},
   "source": [
    "Even though all of the four factors are not related to number of violations, percent_families_below_poverty_line has the biggest influence here because it has the largest coefficient and the smallest P value."
   ]
  },
  {
   "cell_type": "code",
   "execution_count": 27,
   "metadata": {},
   "outputs": [
    {
     "data": {
      "text/plain": [
       "<matplotlib.legend.Legend at 0x1248fddd0>"
      ]
     },
     "execution_count": 27,
     "metadata": {},
     "output_type": "execute_result"
    },
    {
     "data": {
      "image/png": "[encoded data removed]",
      "text/plain": [
       "<Figure size 432x288 with 1 Axes>"
      ]
     },
     "metadata": {},
     "output_type": "display_data"
    }
   ],
   "source": [
    "#plot the relationship between median_family_income_dollars and number of violations\n",
    "plt.scatter(x = 'median_family_income_dollars', y = 'critical',data = df2,color='black',alpha=0.3,label='Data')\n",
    "x1 = np.arange(df2['median_family_income_dollars'].min(),df2['median_family_income_dollars'].max()+1)\n",
    "ys =  -6.62e-05* x1 +  69.6469\n",
    "plt.plot(x1, ys, '--k', linewidth=2, label='Linear Model', color='red')\n",
    "plt.ylabel('number of violations')\n",
    "plt.xlabel('median_family_income_dollars')\n",
    "plt.legend(prop={'size': 15})"
   ]
  },
  {
   "cell_type": "markdown",
   "metadata": {},
   "source": [
    "# Ethics & Privacy"
   ]
  },
  {
   "cell_type": "markdown",
   "metadata": {},
   "source": [
    "1. The question\n",
    "My question is that is there any relation between the income level of an area and the average number of violations reported in restaurants in the area. I believe it is well_posed. I did many background search and based on my research i believe that there is some relation between the income level and number of violations. My question involves restaurants and households in several areas in United States.\n",
    "\n",
    "2. The implications\n",
    "The restaurants are the stakeholders and people may think that restaurants in particular areas usually have more violations in health inspection. The names of the restaurants will not show on the final model and other people will not know about the violations in any restaurant.\n",
    "\n",
    "3. The data\n",
    "There is data available and directly related to my question. I get the data from my professor so the data can be trusted, and they are public and being allowed to use for my project. The zipcodes data only includes information in 38 zipcodes so the amount of data may be not enough. Also the zipcodes are generally close to each other so there may be some bias. The restaurants collected may not include all restaurants in a particular area so there may be bias about the average number of violations in an area, since violations in some restaurants may not be included.\n",
    "\n",
    "4. Informed consent\n",
    "The data I use in this project is from my professor so the restaurants information and zip information should be allower to use. I believe that the owners of the data should agree to participate in this project.\n",
    "\n",
    "5. Privacy\n",
    "I can guanrantee privacy because my datasets do not include any personal information. The data does not have any risk about privacy and I removed all personally identifiable information in the dataset.\n",
    "\n",
    "6. Evaluation\n",
    "I will evaluate the project by measuring the change of number of violations reported.\n",
    "\n",
    "7. Analysis\n",
    "I have analyzed the relation between the number of violations and each of other four factors about the income level, and the relation between the number of violations and the combination of the other four factors. I also analyzed the relation between the four factors. Therefor, my analysis covers many perspectives and I considered many factors that may influence my analysis. But there can still be some missing perspectives in the analysis. There may be some factors which influences the number of violations in these zipcode areas. The number of restaurants collected in each zipcode area may be different, so I calculate the mean of number of violations in each restaurant in an area. The data visualization and summary statistics honestly represent the data. The data with PII are not used unless necessary for the analysis. \n",
    "\n",
    "8. Transparency and appeal\n",
    "No, my model is not a black box. Every decision is interpretable.\n",
    "\n",
    "9. Continuous monitoring\n",
    "I will always check if anyone is harmed by this project and if there is someone i will change the project. I will keep tracking the change of influence of income level on restaurants and accomodate the coefficients of different factors about income level to get the most accurate result."
   ]
  },
  {
   "cell_type": "markdown",
   "metadata": {},
   "source": [
    "# Conclusion & Discussion"
   ]
  },
  {
   "cell_type": "markdown",
   "metadata": {},
   "source": [
    "    My project wants to analyze the relationship between the income level of an area and the number of violations reported in that area. I use three datasets including the restaurants dataset, zipcodes dataset and violations dataset. I combine the three datasets to calculate the average of the sum of violations in each restaurant in a zipcode area. My result does not suppose my hypothesis. My analysis and data visualization shows that there is generally no relation between income level and number of violations. The P values I get from the linear models I generated are all bigger than 0.01, so there are no relationships. Therefore, I conclude that, based on my dataset, income level does not influence the number of violations.\n",
    "    During my analysis process, I firstly analyze if the four factors about the income level in an area are correlated, and since the P values of the linear models I generated is 0.000, I conclude that there relationships between them. Then I want to see if there is a relationship between number of violations and each of the four income properties. So I generated four linear models, but the P values are all above 0.01 so there are no relationships between number of violations and the income properties. Then I want to analyze which of the four factors has a larger influence on number of violations and I generate a linear model between number of violations and the combination of the four income properties. I find that percent_families_below_poverty_line has largest influence on the number of violations.\n",
    "    There are some limitations of my project. Firstly, the dataset I use is not big enough for my analysis. I want to analyze in the unit of zipcode but the zipcodes dataset only has 38 zipcodes. so the number of obeservations in the final dataframe is too small so there might be a bias. The zipcodes are relatively close to each other, so there may be some bias because close area may be similar to some extent. The restaurants dataset may not include all restaurants in the zipcode areas I analyze, so there may be some bias because the violations in some restaurants are not taken into account in my analysis. Secondly, when I analyze the influence of income level on violations in restaurants, there may be some factors not included in the dataset that can has effects, such as the price level in that city, which may make the income level hard to be compared.\n",
    "    Considering the impact of my project on the society, I would say it can have big impacts if I can support my hypothesis. If we can conclude a relationship between income level and violations in restaurants, we can apply different policies in areas with different income levels to make health inspection more efficient. Health inspection is always very important to citizens. The increase in efficiency of health inspection can increase the accuracy of health inspection and prevent more violations in restaurants. As a result, there will be less illness resulted from unhealthy food in restaurants. If citizens can be healthier, there will be less health costs and social costs. Therefore, my project can have big impacts in the society by ensuring citizens' health, restaurants' cleanness, and reducing social costs resulted from unhealthy food in restaurants."
   ]
  }
 ],
 "metadata": {
  "kernelspec": {
   "display_name": "Python 3",
   "language": "python",
   "name": "python3"
  },
  "language_info": {
   "codemirror_mode": {
    "name": "ipython",
    "version": 3
   },
   "file_extension": ".py",
   "mimetype": "text/x-python",
   "name": "python",
   "nbconvert_exporter": "python",
   "pygments_lexer": "ipython3",
   "version": "3.7.4"
  }
 },
 "nbformat": 4,
 "nbformat_minor": 2
}
