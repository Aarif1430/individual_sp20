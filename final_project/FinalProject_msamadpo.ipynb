{
 "cells": [
  {
   "cell_type": "markdown",
   "metadata": {},
   "source": [
    "Food Inspection Score Relation with Yelp Rating and Economic Demography "
   ]
  },
  {
   "cell_type": "markdown",
   "metadata": {},
   "source": [
    "# Overview"
   ]
  },
  {
   "cell_type": "markdown",
   "metadata": {},
   "source": [
    "Based on the given data, I explored the relation between average scores given by inspectors in food industry and other factors including customers' rating in Yelp application in addition to financial characteristics (including median family income dollars, median household income dollars, per capita income dollars, percent families that are below poverty line, percent snap benefits given by government, and percent supplemental security income) by given zip codes in North Carolina. I tested my null hypothesis using single regression and if there was a correlation between inspection score and mentioned factors then I would do multiple regression, create a model using machine learning and, train it using the given data in order to predict the score by these predictors. But it turned out the average food inspection score has nothing to do with the (Yelp) ratings of its restaurants or even the overall financial demography of a neighborhood."
   ]
  },
  {
   "cell_type": "markdown",
   "metadata": {},
   "source": [
    "# Name & GitHub\n",
    "\n",
    "- Name: Mohammad Samadpouriejavid\n",
    "- GitHub Username: msamadpo"
   ]
  },
  {
   "cell_type": "markdown",
   "metadata": {},
   "source": [
    "# Research Question"
   ]
  },
  {
   "cell_type": "markdown",
   "metadata": {},
   "source": [
    "Does the average score given by inspectors in each neighborhood (designated by zip codes) has positive correlation with ratings given by customers in Yelp, and income of its people (median family income dollars, median household income dollars, per capita income dollars, percent supplemental security income) and negative correlation with adverse financial matters (percent families that are below poverty line, percent snap benefits given by government)?"
   ]
  },
  {
   "cell_type": "markdown",
   "metadata": {},
   "source": [
    "## Background and Prior Work"
   ]
  },
  {
   "cell_type": "markdown",
   "metadata": {},
   "source": [
    "- 1)https://pubmed.ncbi.nlm.nih.gov/27348977/ \n",
    "This scientific article (Park et al. 2016) goes over the correlation between consumer generated reviews in Yelp and retail food facilities (RFFs) inspection results (for sanitation) from health departments in New York city. The authors explain the motivation behind taking this experiment and explain why such reviews offer a wealth of information about dining options. By taking the differences between quick service versus full service, and chains versus nonchains into account, at the end, the researchers conclude that there is a correlation between Yelp reviews and sanitation in chain RFFs. So this source says yes to my question.\n",
    "\n",
    "- 2)https://medium.com/swlh/is-there-a-correlation-between-a-restaurants-ratings-and-the-income-levels-of-a-neighborhood-5fe41165e4f1\n",
    "The author (James Mbuthia) describes the motivation behind this data analysis that her girlfriend had a bad experience with a restaurant in a wealthy neighborhood in Johannesburg. He then examines the correlation between restaurant's ratings using Yelp API and income levels in a neighborhood in the city of Toronto Canada which is a relatively wealthy city with a population of approximately 6.5 million people (2016 Canada census). It is also one of the most diverse, multicultural and multiracial cities. The metrics he used in his data sets were neighborhood population, income before/after tax, area, demographics, employment, and health statistics. Finally he concludes that the income of a neighborhood has nothing to do with the ratings of its restaurants. High income neighborhoods can have poorly rated restaurants and low income neighborhood can have highly rated restaurants.\n",
    "Although this source doesn't go directly over food inspection score and level of income, this article helped me a lot to cross out the possibility that Yelp rating might be a dependent variable itself based on the income level since it's possible to think that the more wealthy a neighborhood is, and the more luxury it looks, the restaurant owners get more revenues from their upscale customers who live in their proximity thus they are better at their job (weather customer service or food quality) and this cycle of Revenue <----> Service will continue so there's a higher chance that their businesses will survive. \n",
    "So hopefully there is no collinearity between predictors because typically I want to avoid collinearity since it reduces the accuracy of my analysis."
   ]
  },
  {
   "cell_type": "markdown",
   "metadata": {},
   "source": [
    "# Hypothesis\n"
   ]
  },
  {
   "cell_type": "markdown",
   "metadata": {},
   "source": [
    "I will assume that the original question to be true because it makes sense that if an inspection score of a food shop is relatively higher, that means that store has enough resources (i.e., money and customer preference) to improve its business qualities like food, customer service, sanitation, and etc. All in all, more revenue means more success."
   ]
  },
  {
   "cell_type": "markdown",
   "metadata": {},
   "source": [
    "# Dataset(s)"
   ]
  },
  {
   "cell_type": "markdown",
   "metadata": {},
   "source": [
    "\n",
    "- Dataset Name: inspections.csv\n",
    "- Link to the dataset: './inspections.csv'\n",
    "- Number of observations: 664,776 (Only 18,466 rows and 2 columns, needed for my Analysis)\n",
    "\n",
    "This data set examines the average inspection score within each zip code. The original raw data had other observations that are not needed for my analysis\n",
    "\n",
    "\n",
    "\n",
    "- Dataset Name: yelp.csv\n",
    "- Link to the dataset: './yelp.csv'\n",
    "- Number of observations: 114,328 (Only 3,688 rows and 2 columns, needed for my Analysis)\n",
    "\n",
    "This data set examines the average yelp rating within each zip code. The original raw data had other observations that are not needed for my analysis\n",
    "\n",
    "\n",
    "\n",
    "- Dataset Name: zipcodes.csv\n",
    "- Link to the dataset: './zipcodes.csv'\n",
    "- Number of observations: 304 (Only 38 rows and 6 columns, needed for my Analysis)\n",
    "\n",
    "This data set examines the financial status factors within each zip code (including median family income dollars, median household income dollars, per capita income dollars, percent families that are below poverty line, percent snap benefits given by government, and percent supplemental security income). The original raw data had other observations that are not needed for my analysis.\n",
    "\n",
    "\n",
    "\n",
    "\n",
    "I plan to merge all these 3 datasets into a single dataframe called \"df\" using their corresponding zip codes. I build linear regression to assess each individual predictor's effect (rating and financial factors) over the outcome (food inspection score)\n"
   ]
  },
  {
   "cell_type": "markdown",
   "metadata": {},
   "source": [
    "# Setup"
   ]
  },
  {
   "cell_type": "code",
   "execution_count": 1,
   "metadata": {},
   "outputs": [],
   "source": [
    "import numpy as np\n",
    "import pandas as pd\n",
    "import matplotlib.pyplot as plt\n",
    "import seaborn as sns\n",
    "import patsy\n",
    "import statsmodels.api as sm\n",
    "import scipy.stats as stats\n",
    "from scipy.stats import ttest_ind, chisquare, normaltest\n",
    "\n",
    "\n",
    "inspection ='./inspections.csv'\n",
    "inspect_df = pd.read_csv(inspection)\n",
    "\n",
    "yelp ='./yelp.csv'\n",
    "yelp_df = pd.read_csv(yelp)\n",
    "\n",
    "zipCode ='./zipcodes.csv'\n",
    "zip_df = pd.read_csv(zipCode)\n"
   ]
  },
  {
   "cell_type": "markdown",
   "metadata": {},
   "source": [
    "# Data Cleaning"
   ]
  },
  {
   "cell_type": "markdown",
   "metadata": {},
   "source": [
    "Since the original data sets had other observations that have no impacts on my analysis, I dropped those columns and assigned new dataframes to their original corresponding dataframes. \n",
    "\n",
    "In order for the data to be homogenous, I changed the column \"zip_code\" in yelp_df to \"zip\" and also \"percent_damilies_below_poverty_line\" in zip_df to \"percent_families_below_poverty_line\". \n",
    "\n",
    "Then I  checked out which column(s) has(have) missing values. It turned out that neither dataframes had any NaN value at all. \n",
    "\n",
    "Note: I will summarize my data when I merged all dataframes."
   ]
  },
  {
   "cell_type": "code",
   "execution_count": 2,
   "metadata": {},
   "outputs": [],
   "source": [
    "inspect_df = inspect_df[['zip', 'score']]\n",
    "\n",
    "yelp_df = yelp_df[['zip_code', 'rating']]\n",
    "yelp_df = yelp_df.rename(columns={\"zip_code\":\"zip\"})\n",
    "\n",
    "zip_df = zip_df[['zip', 'median_family_income_dollars', 'median_household_income_dollars', 'per_capita_income_dollars', 'percent_damilies_below_poverty_line',\n",
    "              'percent_snap_benefits',  'percent_supplemental_security_income' ]]\n",
    "zip_df = zip_df.rename(columns={\"percent_damilies_below_poverty_line\": \"percent_families_below_poverty_line\"})"
   ]
  },
  {
   "cell_type": "code",
   "execution_count": 3,
   "metadata": {},
   "outputs": [
    {
     "data": {
      "text/plain": [
       "False"
      ]
     },
     "execution_count": 3,
     "metadata": {},
     "output_type": "execute_result"
    }
   ],
   "source": [
    "yelp_df['rating'].hasnans"
   ]
  },
  {
   "cell_type": "code",
   "execution_count": 4,
   "metadata": {},
   "outputs": [
    {
     "data": {
      "text/plain": [
       "False"
      ]
     },
     "execution_count": 4,
     "metadata": {},
     "output_type": "execute_result"
    }
   ],
   "source": [
    "inspect_df['score'].hasnans"
   ]
  },
  {
   "cell_type": "code",
   "execution_count": 5,
   "metadata": {},
   "outputs": [
    {
     "data": {
      "text/plain": [
       "zip                                     False\n",
       "median_family_income_dollars            False\n",
       "median_household_income_dollars         False\n",
       "per_capita_income_dollars               False\n",
       "percent_families_below_poverty_line     False\n",
       "percent_snap_benefits                   False\n",
       "percent_supplemental_security_income    False\n",
       "dtype: bool"
      ]
     },
     "execution_count": 5,
     "metadata": {},
     "output_type": "execute_result"
    }
   ],
   "source": [
    "zip_df.isna().any()"
   ]
  },
  {
   "cell_type": "markdown",
   "metadata": {},
   "source": [
    "# Data Analysis & Results"
   ]
  },
  {
   "cell_type": "markdown",
   "metadata": {},
   "source": [
    "First I'm going to merge all datasets into a single dataframe called \"df\""
   ]
  },
  {
   "cell_type": "code",
   "execution_count": 6,
   "metadata": {},
   "outputs": [
    {
     "data": {
      "text/html": [
       "<div>\n",
       "<style scoped>\n",
       "    .dataframe tbody tr th:only-of-type {\n",
       "        vertical-align: middle;\n",
       "    }\n",
       "\n",
       "    .dataframe tbody tr th {\n",
       "        vertical-align: top;\n",
       "    }\n",
       "\n",
       "    .dataframe thead th {\n",
       "        text-align: right;\n",
       "    }\n",
       "</style>\n",
       "<table border=\"1\" class=\"dataframe\">\n",
       "  <thead>\n",
       "    <tr style=\"text-align: right;\">\n",
       "      <th></th>\n",
       "      <th>score</th>\n",
       "      <th>rating</th>\n",
       "      <th>median_family_income_dollars</th>\n",
       "      <th>median_household_income_dollars</th>\n",
       "      <th>per_capita_income_dollars</th>\n",
       "      <th>percent_families_below_poverty_line</th>\n",
       "      <th>percent_snap_benefits</th>\n",
       "      <th>percent_supplemental_security_income</th>\n",
       "    </tr>\n",
       "    <tr>\n",
       "      <th>zip</th>\n",
       "      <th></th>\n",
       "      <th></th>\n",
       "      <th></th>\n",
       "      <th></th>\n",
       "      <th></th>\n",
       "      <th></th>\n",
       "      <th></th>\n",
       "      <th></th>\n",
       "    </tr>\n",
       "  </thead>\n",
       "  <tbody>\n",
       "    <tr>\n",
       "      <th>27501</th>\n",
       "      <td>94.750000</td>\n",
       "      <td>4.055556</td>\n",
       "      <td>59408</td>\n",
       "      <td>51121</td>\n",
       "      <td>21631</td>\n",
       "      <td>10.5</td>\n",
       "      <td>15.5</td>\n",
       "      <td>5.2</td>\n",
       "    </tr>\n",
       "    <tr>\n",
       "      <th>27502</th>\n",
       "      <td>96.367223</td>\n",
       "      <td>3.610526</td>\n",
       "      <td>109891</td>\n",
       "      <td>95857</td>\n",
       "      <td>36763</td>\n",
       "      <td>3.4</td>\n",
       "      <td>2.4</td>\n",
       "      <td>0.8</td>\n",
       "    </tr>\n",
       "    <tr>\n",
       "      <th>27511</th>\n",
       "      <td>96.418969</td>\n",
       "      <td>3.631841</td>\n",
       "      <td>82292</td>\n",
       "      <td>67392</td>\n",
       "      <td>33139</td>\n",
       "      <td>9.6</td>\n",
       "      <td>4.5</td>\n",
       "      <td>2.2</td>\n",
       "    </tr>\n",
       "    <tr>\n",
       "      <th>27513</th>\n",
       "      <td>95.655130</td>\n",
       "      <td>3.707006</td>\n",
       "      <td>109736</td>\n",
       "      <td>87262</td>\n",
       "      <td>41232</td>\n",
       "      <td>3.8</td>\n",
       "      <td>2.4</td>\n",
       "      <td>1.5</td>\n",
       "    </tr>\n",
       "    <tr>\n",
       "      <th>27518</th>\n",
       "      <td>97.225291</td>\n",
       "      <td>3.561856</td>\n",
       "      <td>125432</td>\n",
       "      <td>98247</td>\n",
       "      <td>49865</td>\n",
       "      <td>5.5</td>\n",
       "      <td>1.0</td>\n",
       "      <td>1.7</td>\n",
       "    </tr>\n",
       "    <tr>\n",
       "      <th>27519</th>\n",
       "      <td>96.831412</td>\n",
       "      <td>3.610294</td>\n",
       "      <td>137193</td>\n",
       "      <td>121815</td>\n",
       "      <td>45778</td>\n",
       "      <td>3.2</td>\n",
       "      <td>2.3</td>\n",
       "      <td>2.3</td>\n",
       "    </tr>\n",
       "    <tr>\n",
       "      <th>27520</th>\n",
       "      <td>97.711538</td>\n",
       "      <td>3.346154</td>\n",
       "      <td>67939</td>\n",
       "      <td>58455</td>\n",
       "      <td>25628</td>\n",
       "      <td>5.0</td>\n",
       "      <td>7.8</td>\n",
       "      <td>2.4</td>\n",
       "    </tr>\n",
       "    <tr>\n",
       "      <th>27522</th>\n",
       "      <td>98.250000</td>\n",
       "      <td>3.000000</td>\n",
       "      <td>66250</td>\n",
       "      <td>59221</td>\n",
       "      <td>25513</td>\n",
       "      <td>6.0</td>\n",
       "      <td>7.0</td>\n",
       "      <td>4.2</td>\n",
       "    </tr>\n",
       "    <tr>\n",
       "      <th>27523</th>\n",
       "      <td>96.554795</td>\n",
       "      <td>3.547619</td>\n",
       "      <td>89184</td>\n",
       "      <td>68342</td>\n",
       "      <td>36976</td>\n",
       "      <td>3.1</td>\n",
       "      <td>3.1</td>\n",
       "      <td>1.8</td>\n",
       "    </tr>\n",
       "    <tr>\n",
       "      <th>27526</th>\n",
       "      <td>94.940922</td>\n",
       "      <td>3.596154</td>\n",
       "      <td>74666</td>\n",
       "      <td>66025</td>\n",
       "      <td>28074</td>\n",
       "      <td>8.4</td>\n",
       "      <td>8.3</td>\n",
       "      <td>3.9</td>\n",
       "    </tr>\n",
       "    <tr>\n",
       "      <th>27529</th>\n",
       "      <td>97.031842</td>\n",
       "      <td>3.340909</td>\n",
       "      <td>68627</td>\n",
       "      <td>59613</td>\n",
       "      <td>25807</td>\n",
       "      <td>9.5</td>\n",
       "      <td>7.6</td>\n",
       "      <td>4.8</td>\n",
       "    </tr>\n",
       "    <tr>\n",
       "      <th>27539</th>\n",
       "      <td>96.418919</td>\n",
       "      <td>3.708333</td>\n",
       "      <td>88121</td>\n",
       "      <td>82614</td>\n",
       "      <td>34877</td>\n",
       "      <td>2.2</td>\n",
       "      <td>4.1</td>\n",
       "      <td>1.4</td>\n",
       "    </tr>\n",
       "    <tr>\n",
       "      <th>27540</th>\n",
       "      <td>95.598698</td>\n",
       "      <td>3.600000</td>\n",
       "      <td>96650</td>\n",
       "      <td>88638</td>\n",
       "      <td>33308</td>\n",
       "      <td>3.0</td>\n",
       "      <td>4.5</td>\n",
       "      <td>2.4</td>\n",
       "    </tr>\n",
       "    <tr>\n",
       "      <th>27545</th>\n",
       "      <td>96.430693</td>\n",
       "      <td>3.204082</td>\n",
       "      <td>72301</td>\n",
       "      <td>60825</td>\n",
       "      <td>26568</td>\n",
       "      <td>6.1</td>\n",
       "      <td>6.1</td>\n",
       "      <td>1.8</td>\n",
       "    </tr>\n",
       "    <tr>\n",
       "      <th>27560</th>\n",
       "      <td>95.644022</td>\n",
       "      <td>3.524096</td>\n",
       "      <td>97917</td>\n",
       "      <td>80324</td>\n",
       "      <td>38830</td>\n",
       "      <td>3.6</td>\n",
       "      <td>3.9</td>\n",
       "      <td>1.1</td>\n",
       "    </tr>\n",
       "    <tr>\n",
       "      <th>27562</th>\n",
       "      <td>95.277778</td>\n",
       "      <td>4.500000</td>\n",
       "      <td>71161</td>\n",
       "      <td>61097</td>\n",
       "      <td>31161</td>\n",
       "      <td>10.4</td>\n",
       "      <td>1.4</td>\n",
       "      <td>15.4</td>\n",
       "    </tr>\n",
       "    <tr>\n",
       "      <th>27571</th>\n",
       "      <td>96.795620</td>\n",
       "      <td>3.647059</td>\n",
       "      <td>86250</td>\n",
       "      <td>81809</td>\n",
       "      <td>30502</td>\n",
       "      <td>8.2</td>\n",
       "      <td>12.6</td>\n",
       "      <td>3.7</td>\n",
       "    </tr>\n",
       "    <tr>\n",
       "      <th>27587</th>\n",
       "      <td>96.423409</td>\n",
       "      <td>3.798701</td>\n",
       "      <td>96247</td>\n",
       "      <td>83416</td>\n",
       "      <td>34731</td>\n",
       "      <td>5.5</td>\n",
       "      <td>6.4</td>\n",
       "      <td>3.2</td>\n",
       "    </tr>\n",
       "    <tr>\n",
       "      <th>27591</th>\n",
       "      <td>96.997409</td>\n",
       "      <td>3.934783</td>\n",
       "      <td>59892</td>\n",
       "      <td>50868</td>\n",
       "      <td>24239</td>\n",
       "      <td>10.1</td>\n",
       "      <td>12.9</td>\n",
       "      <td>3.0</td>\n",
       "    </tr>\n",
       "    <tr>\n",
       "      <th>27592</th>\n",
       "      <td>95.659091</td>\n",
       "      <td>3.750000</td>\n",
       "      <td>66160</td>\n",
       "      <td>56747</td>\n",
       "      <td>23355</td>\n",
       "      <td>6.3</td>\n",
       "      <td>7.2</td>\n",
       "      <td>1.9</td>\n",
       "    </tr>\n",
       "    <tr>\n",
       "      <th>27596</th>\n",
       "      <td>98.033333</td>\n",
       "      <td>3.250000</td>\n",
       "      <td>68750</td>\n",
       "      <td>59712</td>\n",
       "      <td>26241</td>\n",
       "      <td>5.6</td>\n",
       "      <td>9.6</td>\n",
       "      <td>4.1</td>\n",
       "    </tr>\n",
       "    <tr>\n",
       "      <th>27597</th>\n",
       "      <td>96.519174</td>\n",
       "      <td>3.706897</td>\n",
       "      <td>59395</td>\n",
       "      <td>51266</td>\n",
       "      <td>21573</td>\n",
       "      <td>11.3</td>\n",
       "      <td>15.5</td>\n",
       "      <td>7.5</td>\n",
       "    </tr>\n",
       "    <tr>\n",
       "      <th>27601</th>\n",
       "      <td>96.023700</td>\n",
       "      <td>3.816547</td>\n",
       "      <td>28641</td>\n",
       "      <td>27564</td>\n",
       "      <td>17363</td>\n",
       "      <td>35.9</td>\n",
       "      <td>33.5</td>\n",
       "      <td>10.8</td>\n",
       "    </tr>\n",
       "    <tr>\n",
       "      <th>27603</th>\n",
       "      <td>96.019474</td>\n",
       "      <td>3.617143</td>\n",
       "      <td>68608</td>\n",
       "      <td>54889</td>\n",
       "      <td>27843</td>\n",
       "      <td>12.6</td>\n",
       "      <td>10.4</td>\n",
       "      <td>3.8</td>\n",
       "    </tr>\n",
       "    <tr>\n",
       "      <th>27604</th>\n",
       "      <td>95.510227</td>\n",
       "      <td>3.661972</td>\n",
       "      <td>57419</td>\n",
       "      <td>50365</td>\n",
       "      <td>25532</td>\n",
       "      <td>14.4</td>\n",
       "      <td>10.2</td>\n",
       "      <td>3.8</td>\n",
       "    </tr>\n",
       "    <tr>\n",
       "      <th>27605</th>\n",
       "      <td>96.459877</td>\n",
       "      <td>3.522727</td>\n",
       "      <td>109886</td>\n",
       "      <td>49309</td>\n",
       "      <td>42632</td>\n",
       "      <td>4.1</td>\n",
       "      <td>6.5</td>\n",
       "      <td>4.0</td>\n",
       "    </tr>\n",
       "    <tr>\n",
       "      <th>27606</th>\n",
       "      <td>96.641374</td>\n",
       "      <td>3.525773</td>\n",
       "      <td>61324</td>\n",
       "      <td>44422</td>\n",
       "      <td>25385</td>\n",
       "      <td>13.8</td>\n",
       "      <td>7.6</td>\n",
       "      <td>2.0</td>\n",
       "    </tr>\n",
       "    <tr>\n",
       "      <th>27607</th>\n",
       "      <td>96.496951</td>\n",
       "      <td>3.616279</td>\n",
       "      <td>85325</td>\n",
       "      <td>53825</td>\n",
       "      <td>26007</td>\n",
       "      <td>12.8</td>\n",
       "      <td>8.8</td>\n",
       "      <td>3.9</td>\n",
       "    </tr>\n",
       "    <tr>\n",
       "      <th>27608</th>\n",
       "      <td>96.410256</td>\n",
       "      <td>3.990196</td>\n",
       "      <td>125019</td>\n",
       "      <td>83986</td>\n",
       "      <td>59155</td>\n",
       "      <td>5.5</td>\n",
       "      <td>2.6</td>\n",
       "      <td>2.7</td>\n",
       "    </tr>\n",
       "    <tr>\n",
       "      <th>27609</th>\n",
       "      <td>96.167384</td>\n",
       "      <td>3.519663</td>\n",
       "      <td>73715</td>\n",
       "      <td>53640</td>\n",
       "      <td>39008</td>\n",
       "      <td>8.9</td>\n",
       "      <td>9.0</td>\n",
       "      <td>1.6</td>\n",
       "    </tr>\n",
       "    <tr>\n",
       "      <th>27610</th>\n",
       "      <td>96.265258</td>\n",
       "      <td>3.283582</td>\n",
       "      <td>49213</td>\n",
       "      <td>45209</td>\n",
       "      <td>19207</td>\n",
       "      <td>19.2</td>\n",
       "      <td>16.9</td>\n",
       "      <td>5.9</td>\n",
       "    </tr>\n",
       "    <tr>\n",
       "      <th>27612</th>\n",
       "      <td>95.609916</td>\n",
       "      <td>3.502907</td>\n",
       "      <td>98452</td>\n",
       "      <td>68864</td>\n",
       "      <td>45080</td>\n",
       "      <td>5.5</td>\n",
       "      <td>4.8</td>\n",
       "      <td>1.3</td>\n",
       "    </tr>\n",
       "    <tr>\n",
       "      <th>27613</th>\n",
       "      <td>96.551064</td>\n",
       "      <td>3.518072</td>\n",
       "      <td>106854</td>\n",
       "      <td>79698</td>\n",
       "      <td>42435</td>\n",
       "      <td>4.7</td>\n",
       "      <td>4.2</td>\n",
       "      <td>1.7</td>\n",
       "    </tr>\n",
       "    <tr>\n",
       "      <th>27614</th>\n",
       "      <td>97.031120</td>\n",
       "      <td>3.612069</td>\n",
       "      <td>119232</td>\n",
       "      <td>94727</td>\n",
       "      <td>45317</td>\n",
       "      <td>3.7</td>\n",
       "      <td>3.3</td>\n",
       "      <td>1.2</td>\n",
       "    </tr>\n",
       "    <tr>\n",
       "      <th>27615</th>\n",
       "      <td>96.930825</td>\n",
       "      <td>3.810127</td>\n",
       "      <td>98884</td>\n",
       "      <td>78378</td>\n",
       "      <td>44747</td>\n",
       "      <td>4.2</td>\n",
       "      <td>4.2</td>\n",
       "      <td>1.5</td>\n",
       "    </tr>\n",
       "    <tr>\n",
       "      <th>27616</th>\n",
       "      <td>96.403226</td>\n",
       "      <td>3.464286</td>\n",
       "      <td>60033</td>\n",
       "      <td>56323</td>\n",
       "      <td>24549</td>\n",
       "      <td>11.7</td>\n",
       "      <td>10.6</td>\n",
       "      <td>4.6</td>\n",
       "    </tr>\n",
       "    <tr>\n",
       "      <th>27617</th>\n",
       "      <td>95.256188</td>\n",
       "      <td>3.649038</td>\n",
       "      <td>98642</td>\n",
       "      <td>76959</td>\n",
       "      <td>49205</td>\n",
       "      <td>2.0</td>\n",
       "      <td>1.3</td>\n",
       "      <td>0.5</td>\n",
       "    </tr>\n",
       "  </tbody>\n",
       "</table>\n",
       "</div>"
      ],
      "text/plain": [
       "           score    rating  median_family_income_dollars  \\\n",
       "zip                                                        \n",
       "27501  94.750000  4.055556                         59408   \n",
       "27502  96.367223  3.610526                        109891   \n",
       "27511  96.418969  3.631841                         82292   \n",
       "27513  95.655130  3.707006                        109736   \n",
       "27518  97.225291  3.561856                        125432   \n",
       "27519  96.831412  3.610294                        137193   \n",
       "27520  97.711538  3.346154                         67939   \n",
       "27522  98.250000  3.000000                         66250   \n",
       "27523  96.554795  3.547619                         89184   \n",
       "27526  94.940922  3.596154                         74666   \n",
       "27529  97.031842  3.340909                         68627   \n",
       "27539  96.418919  3.708333                         88121   \n",
       "27540  95.598698  3.600000                         96650   \n",
       "27545  96.430693  3.204082                         72301   \n",
       "27560  95.644022  3.524096                         97917   \n",
       "27562  95.277778  4.500000                         71161   \n",
       "27571  96.795620  3.647059                         86250   \n",
       "27587  96.423409  3.798701                         96247   \n",
       "27591  96.997409  3.934783                         59892   \n",
       "27592  95.659091  3.750000                         66160   \n",
       "27596  98.033333  3.250000                         68750   \n",
       "27597  96.519174  3.706897                         59395   \n",
       "27601  96.023700  3.816547                         28641   \n",
       "27603  96.019474  3.617143                         68608   \n",
       "27604  95.510227  3.661972                         57419   \n",
       "27605  96.459877  3.522727                        109886   \n",
       "27606  96.641374  3.525773                         61324   \n",
       "27607  96.496951  3.616279                         85325   \n",
       "27608  96.410256  3.990196                        125019   \n",
       "27609  96.167384  3.519663                         73715   \n",
       "27610  96.265258  3.283582                         49213   \n",
       "27612  95.609916  3.502907                         98452   \n",
       "27613  96.551064  3.518072                        106854   \n",
       "27614  97.031120  3.612069                        119232   \n",
       "27615  96.930825  3.810127                         98884   \n",
       "27616  96.403226  3.464286                         60033   \n",
       "27617  95.256188  3.649038                         98642   \n",
       "\n",
       "       median_household_income_dollars  per_capita_income_dollars  \\\n",
       "zip                                                                 \n",
       "27501                            51121                      21631   \n",
       "27502                            95857                      36763   \n",
       "27511                            67392                      33139   \n",
       "27513                            87262                      41232   \n",
       "27518                            98247                      49865   \n",
       "27519                           121815                      45778   \n",
       "27520                            58455                      25628   \n",
       "27522                            59221                      25513   \n",
       "27523                            68342                      36976   \n",
       "27526                            66025                      28074   \n",
       "27529                            59613                      25807   \n",
       "27539                            82614                      34877   \n",
       "27540                            88638                      33308   \n",
       "27545                            60825                      26568   \n",
       "27560                            80324                      38830   \n",
       "27562                            61097                      31161   \n",
       "27571                            81809                      30502   \n",
       "27587                            83416                      34731   \n",
       "27591                            50868                      24239   \n",
       "27592                            56747                      23355   \n",
       "27596                            59712                      26241   \n",
       "27597                            51266                      21573   \n",
       "27601                            27564                      17363   \n",
       "27603                            54889                      27843   \n",
       "27604                            50365                      25532   \n",
       "27605                            49309                      42632   \n",
       "27606                            44422                      25385   \n",
       "27607                            53825                      26007   \n",
       "27608                            83986                      59155   \n",
       "27609                            53640                      39008   \n",
       "27610                            45209                      19207   \n",
       "27612                            68864                      45080   \n",
       "27613                            79698                      42435   \n",
       "27614                            94727                      45317   \n",
       "27615                            78378                      44747   \n",
       "27616                            56323                      24549   \n",
       "27617                            76959                      49205   \n",
       "\n",
       "       percent_families_below_poverty_line  percent_snap_benefits  \\\n",
       "zip                                                                 \n",
       "27501                                 10.5                   15.5   \n",
       "27502                                  3.4                    2.4   \n",
       "27511                                  9.6                    4.5   \n",
       "27513                                  3.8                    2.4   \n",
       "27518                                  5.5                    1.0   \n",
       "27519                                  3.2                    2.3   \n",
       "27520                                  5.0                    7.8   \n",
       "27522                                  6.0                    7.0   \n",
       "27523                                  3.1                    3.1   \n",
       "27526                                  8.4                    8.3   \n",
       "27529                                  9.5                    7.6   \n",
       "27539                                  2.2                    4.1   \n",
       "27540                                  3.0                    4.5   \n",
       "27545                                  6.1                    6.1   \n",
       "27560                                  3.6                    3.9   \n",
       "27562                                 10.4                    1.4   \n",
       "27571                                  8.2                   12.6   \n",
       "27587                                  5.5                    6.4   \n",
       "27591                                 10.1                   12.9   \n",
       "27592                                  6.3                    7.2   \n",
       "27596                                  5.6                    9.6   \n",
       "27597                                 11.3                   15.5   \n",
       "27601                                 35.9                   33.5   \n",
       "27603                                 12.6                   10.4   \n",
       "27604                                 14.4                   10.2   \n",
       "27605                                  4.1                    6.5   \n",
       "27606                                 13.8                    7.6   \n",
       "27607                                 12.8                    8.8   \n",
       "27608                                  5.5                    2.6   \n",
       "27609                                  8.9                    9.0   \n",
       "27610                                 19.2                   16.9   \n",
       "27612                                  5.5                    4.8   \n",
       "27613                                  4.7                    4.2   \n",
       "27614                                  3.7                    3.3   \n",
       "27615                                  4.2                    4.2   \n",
       "27616                                 11.7                   10.6   \n",
       "27617                                  2.0                    1.3   \n",
       "\n",
       "       percent_supplemental_security_income  \n",
       "zip                                          \n",
       "27501                                   5.2  \n",
       "27502                                   0.8  \n",
       "27511                                   2.2  \n",
       "27513                                   1.5  \n",
       "27518                                   1.7  \n",
       "27519                                   2.3  \n",
       "27520                                   2.4  \n",
       "27522                                   4.2  \n",
       "27523                                   1.8  \n",
       "27526                                   3.9  \n",
       "27529                                   4.8  \n",
       "27539                                   1.4  \n",
       "27540                                   2.4  \n",
       "27545                                   1.8  \n",
       "27560                                   1.1  \n",
       "27562                                  15.4  \n",
       "27571                                   3.7  \n",
       "27587                                   3.2  \n",
       "27591                                   3.0  \n",
       "27592                                   1.9  \n",
       "27596                                   4.1  \n",
       "27597                                   7.5  \n",
       "27601                                  10.8  \n",
       "27603                                   3.8  \n",
       "27604                                   3.8  \n",
       "27605                                   4.0  \n",
       "27606                                   2.0  \n",
       "27607                                   3.9  \n",
       "27608                                   2.7  \n",
       "27609                                   1.6  \n",
       "27610                                   5.9  \n",
       "27612                                   1.3  \n",
       "27613                                   1.7  \n",
       "27614                                   1.2  \n",
       "27615                                   1.5  \n",
       "27616                                   4.6  \n",
       "27617                                   0.5  "
      ]
     },
     "execution_count": 6,
     "metadata": {},
     "output_type": "execute_result"
    }
   ],
   "source": [
    "tdf = inspect_df.groupby(inspect_df['zip']).mean()\n",
    "sdf = yelp_df.groupby(yelp_df['zip']).mean()\n",
    "\n",
    "df2 = pd.merge( tdf, sdf, left_index=True, right_index=True)\n",
    "\n",
    "zip_df = zip_df.set_index('zip')\n",
    "df = pd.merge(df2, zip_df, left_index=True, right_index=True)\n",
    "\n",
    "df"
   ]
  },
  {
   "cell_type": "markdown",
   "metadata": {},
   "source": [
    "The describe() method helps me to understand my data better and to make sure that my data are homogenous"
   ]
  },
  {
   "cell_type": "code",
   "execution_count": 7,
   "metadata": {},
   "outputs": [
    {
     "data": {
      "text/html": [
       "<div>\n",
       "<style scoped>\n",
       "    .dataframe tbody tr th:only-of-type {\n",
       "        vertical-align: middle;\n",
       "    }\n",
       "\n",
       "    .dataframe tbody tr th {\n",
       "        vertical-align: top;\n",
       "    }\n",
       "\n",
       "    .dataframe thead th {\n",
       "        text-align: right;\n",
       "    }\n",
       "</style>\n",
       "<table border=\"1\" class=\"dataframe\">\n",
       "  <thead>\n",
       "    <tr style=\"text-align: right;\">\n",
       "      <th></th>\n",
       "      <th>score</th>\n",
       "      <th>rating</th>\n",
       "      <th>median_family_income_dollars</th>\n",
       "      <th>median_household_income_dollars</th>\n",
       "      <th>per_capita_income_dollars</th>\n",
       "      <th>percent_families_below_poverty_line</th>\n",
       "      <th>percent_snap_benefits</th>\n",
       "      <th>percent_supplemental_security_income</th>\n",
       "    </tr>\n",
       "  </thead>\n",
       "  <tbody>\n",
       "    <tr>\n",
       "      <th>count</th>\n",
       "      <td>37.000000</td>\n",
       "      <td>37.000000</td>\n",
       "      <td>37.000000</td>\n",
       "      <td>37.000000</td>\n",
       "      <td>37.000000</td>\n",
       "      <td>37.000000</td>\n",
       "      <td>37.000000</td>\n",
       "      <td>37.000000</td>\n",
       "    </tr>\n",
       "    <tr>\n",
       "      <th>mean</th>\n",
       "      <td>96.359787</td>\n",
       "      <td>3.614655</td>\n",
       "      <td>83640.783784</td>\n",
       "      <td>67806.054054</td>\n",
       "      <td>33223.135135</td>\n",
       "      <td>8.089189</td>\n",
       "      <td>7.567568</td>\n",
       "      <td>3.394595</td>\n",
       "    </tr>\n",
       "    <tr>\n",
       "      <th>std</th>\n",
       "      <td>0.779195</td>\n",
       "      <td>0.258487</td>\n",
       "      <td>24235.716445</td>\n",
       "      <td>18969.048072</td>\n",
       "      <td>9989.656623</td>\n",
       "      <td>6.187612</td>\n",
       "      <td>6.045754</td>\n",
       "      <td>2.864917</td>\n",
       "    </tr>\n",
       "    <tr>\n",
       "      <th>min</th>\n",
       "      <td>94.750000</td>\n",
       "      <td>3.000000</td>\n",
       "      <td>28641.000000</td>\n",
       "      <td>27564.000000</td>\n",
       "      <td>17363.000000</td>\n",
       "      <td>2.000000</td>\n",
       "      <td>1.000000</td>\n",
       "      <td>0.500000</td>\n",
       "    </tr>\n",
       "    <tr>\n",
       "      <th>25%</th>\n",
       "      <td>95.659091</td>\n",
       "      <td>3.519663</td>\n",
       "      <td>66250.000000</td>\n",
       "      <td>53825.000000</td>\n",
       "      <td>25532.000000</td>\n",
       "      <td>4.100000</td>\n",
       "      <td>3.900000</td>\n",
       "      <td>1.700000</td>\n",
       "    </tr>\n",
       "    <tr>\n",
       "      <th>50%</th>\n",
       "      <td>96.418969</td>\n",
       "      <td>3.610526</td>\n",
       "      <td>82292.000000</td>\n",
       "      <td>61097.000000</td>\n",
       "      <td>31161.000000</td>\n",
       "      <td>6.000000</td>\n",
       "      <td>6.500000</td>\n",
       "      <td>2.400000</td>\n",
       "    </tr>\n",
       "    <tr>\n",
       "      <th>75%</th>\n",
       "      <td>96.795620</td>\n",
       "      <td>3.707006</td>\n",
       "      <td>98642.000000</td>\n",
       "      <td>81809.000000</td>\n",
       "      <td>41232.000000</td>\n",
       "      <td>10.400000</td>\n",
       "      <td>9.600000</td>\n",
       "      <td>4.000000</td>\n",
       "    </tr>\n",
       "    <tr>\n",
       "      <th>max</th>\n",
       "      <td>98.250000</td>\n",
       "      <td>4.500000</td>\n",
       "      <td>137193.000000</td>\n",
       "      <td>121815.000000</td>\n",
       "      <td>59155.000000</td>\n",
       "      <td>35.900000</td>\n",
       "      <td>33.500000</td>\n",
       "      <td>15.400000</td>\n",
       "    </tr>\n",
       "  </tbody>\n",
       "</table>\n",
       "</div>"
      ],
      "text/plain": [
       "           score     rating  median_family_income_dollars  \\\n",
       "count  37.000000  37.000000                     37.000000   \n",
       "mean   96.359787   3.614655                  83640.783784   \n",
       "std     0.779195   0.258487                  24235.716445   \n",
       "min    94.750000   3.000000                  28641.000000   \n",
       "25%    95.659091   3.519663                  66250.000000   \n",
       "50%    96.418969   3.610526                  82292.000000   \n",
       "75%    96.795620   3.707006                  98642.000000   \n",
       "max    98.250000   4.500000                 137193.000000   \n",
       "\n",
       "       median_household_income_dollars  per_capita_income_dollars  \\\n",
       "count                        37.000000                  37.000000   \n",
       "mean                      67806.054054               33223.135135   \n",
       "std                       18969.048072                9989.656623   \n",
       "min                       27564.000000               17363.000000   \n",
       "25%                       53825.000000               25532.000000   \n",
       "50%                       61097.000000               31161.000000   \n",
       "75%                       81809.000000               41232.000000   \n",
       "max                      121815.000000               59155.000000   \n",
       "\n",
       "       percent_families_below_poverty_line  percent_snap_benefits  \\\n",
       "count                            37.000000              37.000000   \n",
       "mean                              8.089189               7.567568   \n",
       "std                               6.187612               6.045754   \n",
       "min                               2.000000               1.000000   \n",
       "25%                               4.100000               3.900000   \n",
       "50%                               6.000000               6.500000   \n",
       "75%                              10.400000               9.600000   \n",
       "max                              35.900000              33.500000   \n",
       "\n",
       "       percent_supplemental_security_income  \n",
       "count                             37.000000  \n",
       "mean                               3.394595  \n",
       "std                                2.864917  \n",
       "min                                0.500000  \n",
       "25%                                1.700000  \n",
       "50%                                2.400000  \n",
       "75%                                4.000000  \n",
       "max                               15.400000  "
      ]
     },
     "execution_count": 7,
     "metadata": {},
     "output_type": "execute_result"
    }
   ],
   "source": [
    "df.describe()"
   ]
  },
  {
   "cell_type": "markdown",
   "metadata": {},
   "source": [
    "The dtypes method will help me to see my data better"
   ]
  },
  {
   "cell_type": "code",
   "execution_count": 8,
   "metadata": {},
   "outputs": [
    {
     "data": {
      "text/plain": [
       "score                                   float64\n",
       "rating                                  float64\n",
       "median_family_income_dollars              int64\n",
       "median_household_income_dollars           int64\n",
       "per_capita_income_dollars                 int64\n",
       "percent_families_below_poverty_line     float64\n",
       "percent_snap_benefits                   float64\n",
       "percent_supplemental_security_income    float64\n",
       "dtype: object"
      ]
     },
     "execution_count": 8,
     "metadata": {},
     "output_type": "execute_result"
    }
   ],
   "source": [
    "df.dtypes"
   ]
  },
  {
   "cell_type": "markdown",
   "metadata": {},
   "source": [
    "Now I'm going to make linear regression with rating as predictor and score as outcome to see if there's a relationship between these two columns."
   ]
  },
  {
   "cell_type": "code",
   "execution_count": 9,
   "metadata": {},
   "outputs": [
    {
     "name": "stdout",
     "output_type": "stream",
     "text": [
      "                            OLS Regression Results                            \n",
      "==============================================================================\n",
      "Dep. Variable:                  score   R-squared:                       0.279\n",
      "Model:                            OLS   Adj. R-squared:                  0.258\n",
      "Method:                 Least Squares   F-statistic:                     13.51\n",
      "Date:                Wed, 10 Jun 2020   Prob (F-statistic):           0.000788\n",
      "Time:                        04:41:11   Log-Likelihood:                -36.722\n",
      "No. Observations:                  37   AIC:                             77.44\n",
      "Df Residuals:                      35   BIC:                             80.67\n",
      "Df Model:                           1                                         \n",
      "Covariance Type:            nonrobust                                         \n",
      "==============================================================================\n",
      "                 coef    std err          t      P>|t|      [0.025      0.975]\n",
      "------------------------------------------------------------------------------\n",
      "Intercept    102.1105      1.568     65.110      0.000      98.927     105.294\n",
      "rating        -1.5910      0.433     -3.676      0.001      -2.470      -0.712\n",
      "==============================================================================\n",
      "Omnibus:                        1.537   Durbin-Watson:                   1.511\n",
      "Prob(Omnibus):                  0.464   Jarque-Bera (JB):                1.131\n",
      "Skew:                          -0.163   Prob(JB):                        0.568\n",
      "Kurtosis:                       2.208   Cond. No.                         55.4\n",
      "==============================================================================\n",
      "\n",
      "Warnings:\n",
      "[1] Standard Errors assume that the covariance matrix of the errors is correctly specified.\n"
     ]
    }
   ],
   "source": [
    "outcome_1, predictors_1 = patsy.dmatrices('score ~ rating', df)\n",
    "mod_1 = sm.OLS(outcome_1, predictors_1)\n",
    "res_1 = mod_1.fit()\n",
    "print(res_1.summary())"
   ]
  },
  {
   "cell_type": "markdown",
   "metadata": {},
   "source": [
    "What: The result turned out to be contradicting my initial assumption and it shows there's no relationship between score as outcome and rating as predictor.\n",
    "\n",
    "Why: Not only my P-value is small (close to 0), the coefficient indicates that there's weak direct (even negative) relationship between yelp reviews and inspection score. The R square seems to be smaller than what I expected though not 0. \n",
    "\n",
    "How: But before I reject the null hypothesis, I'm going to draw visualization to see this relationship by my own eyes before making any judgement."
   ]
  },
  {
   "cell_type": "code",
   "execution_count": 10,
   "metadata": {},
   "outputs": [
    {
     "data": {
      "text/plain": [
       "<matplotlib.legend.Legend at 0x7f8b80639198>"
      ]
     },
     "execution_count": 10,
     "metadata": {},
     "output_type": "execute_result"
    },
    {
     "data": {
      "image/png": "[encoded data removed]",
      "text/plain": [
       "<Figure size 432x288 with 1 Axes>"
      ]
     },
     "metadata": {
      "needs_background": "light"
     },
     "output_type": "display_data"
    }
   ],
   "source": [
    "sns.scatterplot(x = 'rating', y = 'score', alpha = 1, data =df, s =100 )\n",
    "\n",
    "xs = np.arange(df['rating'].min(), df['rating'].max())\n",
    "ys = -1.5910*xs + 102.1105\n",
    "plt.plot(xs, ys, '--k', linewidth=4, label='Model')\n",
    "plt.xlabel('rating')\n",
    "plt.ylabel('score')\n",
    "plt.legend()"
   ]
  },
  {
   "cell_type": "markdown",
   "metadata": {},
   "source": [
    "As the shape is clear, there's no positive correlation among score and rating. \n",
    "I'm going to explore the same analysis between score and median family income dollars."
   ]
  },
  {
   "cell_type": "code",
   "execution_count": 11,
   "metadata": {},
   "outputs": [
    {
     "name": "stdout",
     "output_type": "stream",
     "text": [
      "                            OLS Regression Results                            \n",
      "==============================================================================\n",
      "Dep. Variable:                  score   R-squared:                       0.006\n",
      "Model:                            OLS   Adj. R-squared:                 -0.022\n",
      "Method:                 Least Squares   F-statistic:                    0.2136\n",
      "Date:                Wed, 10 Jun 2020   Prob (F-statistic):              0.647\n",
      "Time:                        04:41:11   Log-Likelihood:                -42.650\n",
      "No. Observations:                  37   AIC:                             89.30\n",
      "Df Residuals:                      35   BIC:                             92.52\n",
      "Df Model:                           1                                         \n",
      "Covariance Type:            nonrobust                                         \n",
      "================================================================================================\n",
      "                                   coef    std err          t      P>|t|      [0.025      0.975]\n",
      "------------------------------------------------------------------------------------------------\n",
      "Intercept                       96.1503      0.471    204.008      0.000      95.194      97.107\n",
      "median_family_income_dollars  2.504e-06   5.42e-06      0.462      0.647   -8.49e-06    1.35e-05\n",
      "==============================================================================\n",
      "Omnibus:                        1.395   Durbin-Watson:                   1.691\n",
      "Prob(Omnibus):                  0.498   Jarque-Bera (JB):                0.644\n",
      "Skew:                           0.290   Prob(JB):                        0.725\n",
      "Kurtosis:                       3.283   Cond. No.                     3.17e+05\n",
      "==============================================================================\n",
      "\n",
      "Warnings:\n",
      "[1] Standard Errors assume that the covariance matrix of the errors is correctly specified.\n",
      "[2] The condition number is large, 3.17e+05. This might indicate that there are\n",
      "strong multicollinearity or other numerical problems.\n"
     ]
    }
   ],
   "source": [
    "outcome_2, predictors_2 = patsy.dmatrices('score ~ median_family_income_dollars', df)\n",
    "mod_2 = sm.OLS(outcome_2, predictors_2)\n",
    "res_2 = mod_2.fit()\n",
    "print(res_2.summary())"
   ]
  },
  {
   "cell_type": "markdown",
   "metadata": {},
   "source": [
    "What: The result turned out to be contradicting my initial assumption and it shows there's no relationship between score as outcome and median family income as predictor.\n",
    "\n",
    "Why: Although my P-value is large enough (0.647), the coefficient indicates that there's a weak direct relationship between median family income and inspection score (close to 0). The R square seems to be smaller than what I expected (close to 0). \n",
    "\n",
    "More than that, the 2nd warning indicates that there is a risk of Multicollinearity which might cause my analysis not to be accurate.\n",
    "\n",
    "How: But before I reject the null hypothesis, I'm going to draw visualization to see this relationship by my own eyes before making any judgement."
   ]
  },
  {
   "cell_type": "code",
   "execution_count": 12,
   "metadata": {},
   "outputs": [
    {
     "data": {
      "text/plain": [
       "<matplotlib.legend.Legend at 0x7f8b805cfbe0>"
      ]
     },
     "execution_count": 12,
     "metadata": {},
     "output_type": "execute_result"
    },
    {
     "data": {
      "image/png": "[encoded data removed]",
      "text/plain": [
       "<Figure size 432x288 with 1 Axes>"
      ]
     },
     "metadata": {
      "needs_background": "light"
     },
     "output_type": "display_data"
    }
   ],
   "source": [
    "sns.scatterplot(x = 'median_family_income_dollars', y = 'score', alpha = 1, data =df, s =100 )\n",
    "\n",
    "xs = np.arange(df['median_family_income_dollars'].min(), df['median_family_income_dollars'].max())\n",
    "ys = 2.504e-06*xs + 96.1503\n",
    "plt.plot(xs, ys, '--k', linewidth=4, label='Model')\n",
    "plt.xlabel('median_family_income_dollars')\n",
    "plt.ylabel('score')\n",
    "plt.legend()"
   ]
  },
  {
   "cell_type": "markdown",
   "metadata": {},
   "source": [
    "As the shape is clear, there's no strong correlation among score and median family income dollars. I'm going to explore the same analysis between score and median household income dollars."
   ]
  },
  {
   "cell_type": "code",
   "execution_count": 13,
   "metadata": {},
   "outputs": [
    {
     "name": "stdout",
     "output_type": "stream",
     "text": [
      "                            OLS Regression Results                            \n",
      "==============================================================================\n",
      "Dep. Variable:                  score   R-squared:                       0.008\n",
      "Model:                            OLS   Adj. R-squared:                 -0.020\n",
      "Method:                 Least Squares   F-statistic:                    0.2770\n",
      "Date:                Wed, 10 Jun 2020   Prob (F-statistic):              0.602\n",
      "Time:                        04:41:12   Log-Likelihood:                -42.617\n",
      "No. Observations:                  37   AIC:                             89.23\n",
      "Df Residuals:                      35   BIC:                             92.46\n",
      "Df Model:                           1                                         \n",
      "Covariance Type:            nonrobust                                         \n",
      "===================================================================================================\n",
      "                                      coef    std err          t      P>|t|      [0.025      0.975]\n",
      "---------------------------------------------------------------------------------------------------\n",
      "Intercept                          96.1130      0.486    197.571      0.000      95.125      97.101\n",
      "median_household_income_dollars   3.64e-06   6.92e-06      0.526      0.602   -1.04e-05    1.77e-05\n",
      "==============================================================================\n",
      "Omnibus:                        1.252   Durbin-Watson:                   1.702\n",
      "Prob(Omnibus):                  0.535   Jarque-Bera (JB):                0.542\n",
      "Skew:                           0.265   Prob(JB):                        0.763\n",
      "Kurtosis:                       3.267   Cond. No.                     2.64e+05\n",
      "==============================================================================\n",
      "\n",
      "Warnings:\n",
      "[1] Standard Errors assume that the covariance matrix of the errors is correctly specified.\n",
      "[2] The condition number is large, 2.64e+05. This might indicate that there are\n",
      "strong multicollinearity or other numerical problems.\n"
     ]
    }
   ],
   "source": [
    "outcome_3, predictors_3 = patsy.dmatrices('score ~ median_household_income_dollars', df)\n",
    "mod_3 = sm.OLS(outcome_3, predictors_3)\n",
    "res_3 = mod_3.fit()\n",
    "print(res_3.summary())"
   ]
  },
  {
   "cell_type": "markdown",
   "metadata": {},
   "source": [
    "What: The result turned out to be contradicting my initial assumption and it shows there's no relationship between score as outcome and median household income as predictor.\n",
    "\n",
    "Why: Although my P-value is large enough (0.602), the coefficient indicates that there's a weak direct relationship between median family income and inspection score (close to 0). The R square seems to be smaller than what I expected (close to 0). \n",
    "\n",
    "More than that, the 2nd warning indicates that there is a risk of Multicollinearity which might cause my analysis not to be accurate.\n",
    "\n",
    "How: But before I reject the null hypothesis, I'm going to draw visualization to see this relationship by my own eyes before making any judgement\n"
   ]
  },
  {
   "cell_type": "code",
   "execution_count": 14,
   "metadata": {},
   "outputs": [
    {
     "data": {
      "text/plain": [
       "<matplotlib.legend.Legend at 0x7f8b7f552940>"
      ]
     },
     "execution_count": 14,
     "metadata": {},
     "output_type": "execute_result"
    },
    {
     "data": {
      "image/png": "[encoded data removed]",
      "text/plain": [
       "<Figure size 432x288 with 1 Axes>"
      ]
     },
     "metadata": {
      "needs_background": "light"
     },
     "output_type": "display_data"
    }
   ],
   "source": [
    "sns.scatterplot(x = 'median_household_income_dollars', y = 'score', alpha = 1, data =df, s =100 )\n",
    "\n",
    "xs = np.arange(df['median_household_income_dollars'].min(), df['median_household_income_dollars'].max())\n",
    "ys = 3.64e-06*xs + 96.1130\n",
    "plt.plot(xs, ys, '--k', linewidth=4, label='Model')\n",
    "plt.xlabel('median_household_income_dollars')\n",
    "plt.ylabel('score')\n",
    "plt.legend()"
   ]
  },
  {
   "cell_type": "markdown",
   "metadata": {},
   "source": [
    "As the shape clear is, there's no positive correlation among score and household income dollars. I'm going to explore the same analysis between score and per capita income dollars."
   ]
  },
  {
   "cell_type": "code",
   "execution_count": 15,
   "metadata": {},
   "outputs": [
    {
     "name": "stdout",
     "output_type": "stream",
     "text": [
      "                            OLS Regression Results                            \n",
      "==============================================================================\n",
      "Dep. Variable:                  score   R-squared:                       0.000\n",
      "Model:                            OLS   Adj. R-squared:                 -0.029\n",
      "Method:                 Least Squares   F-statistic:                  0.001103\n",
      "Date:                Wed, 10 Jun 2020   Prob (F-statistic):              0.974\n",
      "Time:                        04:41:12   Log-Likelihood:                -42.762\n",
      "No. Observations:                  37   AIC:                             89.52\n",
      "Df Residuals:                      35   BIC:                             92.75\n",
      "Df Model:                           1                                         \n",
      "Covariance Type:            nonrobust                                         \n",
      "=============================================================================================\n",
      "                                coef    std err          t      P>|t|      [0.025      0.975]\n",
      "---------------------------------------------------------------------------------------------\n",
      "Intercept                    96.3743      0.457    210.940      0.000      95.447      97.302\n",
      "per_capita_income_dollars -4.378e-07   1.32e-05     -0.033      0.974   -2.72e-05    2.63e-05\n",
      "==============================================================================\n",
      "Omnibus:                        0.828   Durbin-Watson:                   1.665\n",
      "Prob(Omnibus):                  0.661   Jarque-Bera (JB):                0.306\n",
      "Skew:                           0.208   Prob(JB):                        0.858\n",
      "Kurtosis:                       3.158   Cond. No.                     1.22e+05\n",
      "==============================================================================\n",
      "\n",
      "Warnings:\n",
      "[1] Standard Errors assume that the covariance matrix of the errors is correctly specified.\n",
      "[2] The condition number is large, 1.22e+05. This might indicate that there are\n",
      "strong multicollinearity or other numerical problems.\n"
     ]
    }
   ],
   "source": [
    "outcome_4, predictors_4 = patsy.dmatrices('score ~ per_capita_income_dollars', df)\n",
    "mod_4 = sm.OLS(outcome_4, predictors_4)\n",
    "res_4 = mod_4.fit()\n",
    "print(res_4.summary())"
   ]
  },
  {
   "cell_type": "markdown",
   "metadata": {},
   "source": [
    "What: The result turned out to be contradicting my initial assumption and it shows there's no relationship between score as outcome and per capita income as predictor.\n",
    "\n",
    "Why: Although my P-value is large enough (0.947), the coefficient indicates that there's a weak (even negative) direct relationship between mper capita income and inspection score. The R square seems to be smaller than what I expected (close to 0). \n",
    "\n",
    "More than that, the 2nd warning indicates that there is a risk of Multicollinearity which might cause my analysis not to be accurate.\n",
    "\n",
    "How: But before I reject the null hypothesis, I'm going to draw visualization to see this relationship by my own eyes before making any judgement.\n"
   ]
  },
  {
   "cell_type": "code",
   "execution_count": 16,
   "metadata": {},
   "outputs": [
    {
     "data": {
      "text/plain": [
       "<matplotlib.legend.Legend at 0x7f8b7a415978>"
      ]
     },
     "execution_count": 16,
     "metadata": {},
     "output_type": "execute_result"
    },
    {
     "data": {
      "image/png": "[encoded data removed]",
      "text/plain": [
       "<Figure size 432x288 with 1 Axes>"
      ]
     },
     "metadata": {
      "needs_background": "light"
     },
     "output_type": "display_data"
    }
   ],
   "source": [
    "sns.scatterplot(x = 'per_capita_income_dollars', y = 'score', alpha = 1, data =df, s =100 )\n",
    "\n",
    "xs = np.arange(df['per_capita_income_dollars'].min(), df['per_capita_income_dollars'].max())\n",
    "ys = -4.378e-07*xs + 96.3743\n",
    "plt.plot(xs, ys, '--k', linewidth=4, label='Model')\n",
    "plt.xlabel('per_capita_income_dollars')\n",
    "plt.ylabel('score')\n",
    "plt.legend()"
   ]
  },
  {
   "cell_type": "markdown",
   "metadata": {},
   "source": [
    "As the shape is clear, there's no positive correlation among score and per capita income dollars. I'm going to explore the same analysis between score and percent families below poverty line."
   ]
  },
  {
   "cell_type": "code",
   "execution_count": 17,
   "metadata": {},
   "outputs": [
    {
     "name": "stdout",
     "output_type": "stream",
     "text": [
      "                            OLS Regression Results                            \n",
      "==============================================================================\n",
      "Dep. Variable:                  score   R-squared:                       0.019\n",
      "Model:                            OLS   Adj. R-squared:                 -0.009\n",
      "Method:                 Least Squares   F-statistic:                    0.6708\n",
      "Date:                Wed, 10 Jun 2020   Prob (F-statistic):              0.418\n",
      "Time:                        04:41:13   Log-Likelihood:                -42.411\n",
      "No. Observations:                  37   AIC:                             88.82\n",
      "Df Residuals:                      35   BIC:                             92.04\n",
      "Df Model:                           1                                         \n",
      "Covariance Type:            nonrobust                                         \n",
      "=======================================================================================================\n",
      "                                          coef    std err          t      P>|t|      [0.025      0.975]\n",
      "-------------------------------------------------------------------------------------------------------\n",
      "Intercept                              96.4995      0.214    451.649      0.000      96.066      96.933\n",
      "percent_families_below_poverty_line    -0.0173      0.021     -0.819      0.418      -0.060       0.026\n",
      "==============================================================================\n",
      "Omnibus:                        0.520   Durbin-Watson:                   1.718\n",
      "Prob(Omnibus):                  0.771   Jarque-Bera (JB):                0.125\n",
      "Skew:                           0.133   Prob(JB):                        0.940\n",
      "Kurtosis:                       3.099   Cond. No.                         16.9\n",
      "==============================================================================\n",
      "\n",
      "Warnings:\n",
      "[1] Standard Errors assume that the covariance matrix of the errors is correctly specified.\n"
     ]
    }
   ],
   "source": [
    "outcome_5, predictors_5 = patsy.dmatrices('score ~ percent_families_below_poverty_line', df)\n",
    "mod_5 = sm.OLS(outcome_5, predictors_5)\n",
    "res_5 = mod_5.fit()\n",
    "print(res_5.summary())"
   ]
  },
  {
   "cell_type": "markdown",
   "metadata": {},
   "source": [
    "What: The result turned out to be contradicting my initial assumption and it shows there's no relationship between score as outcome and percent families below poverty line as predictor.\n",
    "\n",
    "Why: Although my P-value is large enough (0.418), the coefficient indicates that there's a weak direct relationship between percent families below poverty line and inspection score. The R square seems to be smaller than what I expected (close to 0).\n",
    "\n",
    "How: But before I reject the null hypothesis, I'm going to draw visualizations to see this relationship by my own eyes before making any judgement\n"
   ]
  },
  {
   "cell_type": "code",
   "execution_count": 18,
   "metadata": {},
   "outputs": [
    {
     "data": {
      "text/plain": [
       "<matplotlib.legend.Legend at 0x7f8b80746668>"
      ]
     },
     "execution_count": 18,
     "metadata": {},
     "output_type": "execute_result"
    },
    {
     "data": {
      "image/png": "[encoded data removed]",
      "text/plain": [
       "<Figure size 432x288 with 1 Axes>"
      ]
     },
     "metadata": {
      "needs_background": "light"
     },
     "output_type": "display_data"
    }
   ],
   "source": [
    "sns.scatterplot(x = 'percent_families_below_poverty_line', y = 'score', alpha = 1, data =df, s =100 )\n",
    "\n",
    "xs = np.arange(df['percent_families_below_poverty_line'].min(), df['percent_families_below_poverty_line'].max())\n",
    "ys = -0.0173*xs + 96.4995\n",
    "plt.plot(xs, ys, '--k', linewidth=4, label='Model')\n",
    "plt.xlabel('percent_families_below_poverty_line')\n",
    "plt.ylabel('score')\n",
    "plt.legend()"
   ]
  },
  {
   "cell_type": "markdown",
   "metadata": {},
   "source": [
    "As the shape clear, there's no negative correlation among score and percent families below poverty line. I'm going to explore the same analysis between score and percent snap benefits."
   ]
  },
  {
   "cell_type": "code",
   "execution_count": 19,
   "metadata": {},
   "outputs": [
    {
     "name": "stdout",
     "output_type": "stream",
     "text": [
      "                            OLS Regression Results                            \n",
      "==============================================================================\n",
      "Dep. Variable:                  score   R-squared:                       0.002\n",
      "Model:                            OLS   Adj. R-squared:                 -0.026\n",
      "Method:                 Least Squares   F-statistic:                   0.07725\n",
      "Date:                Wed, 10 Jun 2020   Prob (F-statistic):              0.783\n",
      "Time:                        04:41:13   Log-Likelihood:                -42.722\n",
      "No. Observations:                  37   AIC:                             89.44\n",
      "Df Residuals:                      35   BIC:                             92.67\n",
      "Df Model:                           1                                         \n",
      "Covariance Type:            nonrobust                                         \n",
      "=========================================================================================\n",
      "                            coef    std err          t      P>|t|      [0.025      0.975]\n",
      "-----------------------------------------------------------------------------------------\n",
      "Intercept                96.4056      0.210    459.803      0.000      95.980      96.831\n",
      "percent_snap_benefits    -0.0060      0.022     -0.278      0.783      -0.050       0.038\n",
      "==============================================================================\n",
      "Omnibus:                        0.850   Durbin-Watson:                   1.680\n",
      "Prob(Omnibus):                  0.654   Jarque-Bera (JB):                0.323\n",
      "Skew:                           0.215   Prob(JB):                        0.851\n",
      "Kurtosis:                       3.158   Cond. No.                         15.7\n",
      "==============================================================================\n",
      "\n",
      "Warnings:\n",
      "[1] Standard Errors assume that the covariance matrix of the errors is correctly specified.\n"
     ]
    }
   ],
   "source": [
    "outcome_6, predictors_6 = patsy.dmatrices('score ~ percent_snap_benefits', df)\n",
    "mod_6 = sm.OLS(outcome_6, predictors_6)\n",
    "res_6 = mod_6.fit()\n",
    "print(res_6.summary())"
   ]
  },
  {
   "cell_type": "markdown",
   "metadata": {},
   "source": [
    "What: The result turned out to be contradicting my initial assumption and it shows there's no relationship between score as outcome and percent snap benefits as predictor.\n",
    "\n",
    "Why: Although my P-value is large enough (0.783), the coefficient indicates that there's a weak direct relationship between percent snap benefits and inspection score. The R square seems to be smaller than what I expected (close to 0).\n",
    "\n",
    "How: But before I reject the null hypothesis, I'm going to draw visualization to see this relationship by my own eyes before making any judgement"
   ]
  },
  {
   "cell_type": "code",
   "execution_count": 20,
   "metadata": {},
   "outputs": [
    {
     "data": {
      "text/plain": [
       "<matplotlib.legend.Legend at 0x7f8b7a3ba4e0>"
      ]
     },
     "execution_count": 20,
     "metadata": {},
     "output_type": "execute_result"
    },
    {
     "data": {
      "image/png": "[encoded data removed]",
      "text/plain": [
       "<Figure size 432x288 with 1 Axes>"
      ]
     },
     "metadata": {
      "needs_background": "light"
     },
     "output_type": "display_data"
    }
   ],
   "source": [
    "sns.scatterplot(x = 'percent_snap_benefits', y = 'score', alpha = 1, data =df, s =100 )\n",
    "\n",
    "xs = np.arange(df['percent_snap_benefits'].min(), df['percent_snap_benefits'].max())\n",
    "ys = -0.0060*xs + 96.4056\n",
    "plt.plot(xs, ys, '--k', linewidth=4, label='Model')\n",
    "plt.xlabel('percent_snap_benefits')\n",
    "plt.ylabel('score')\n",
    "plt.legend()"
   ]
  },
  {
   "cell_type": "markdown",
   "metadata": {},
   "source": [
    "As the shape is clear, there's no negative correlation among score and percent snap benefits. I'm going to explore the same analysis between score and percent supplemental security income."
   ]
  },
  {
   "cell_type": "code",
   "execution_count": 21,
   "metadata": {},
   "outputs": [
    {
     "name": "stdout",
     "output_type": "stream",
     "text": [
      "                            OLS Regression Results                            \n",
      "==============================================================================\n",
      "Dep. Variable:                  score   R-squared:                       0.026\n",
      "Model:                            OLS   Adj. R-squared:                 -0.002\n",
      "Method:                 Least Squares   F-statistic:                    0.9172\n",
      "Date:                Wed, 10 Jun 2020   Prob (F-statistic):              0.345\n",
      "Time:                        04:41:14   Log-Likelihood:                -42.284\n",
      "No. Observations:                  37   AIC:                             88.57\n",
      "Df Residuals:                      35   BIC:                             91.79\n",
      "Df Model:                           1                                         \n",
      "Covariance Type:            nonrobust                                         \n",
      "========================================================================================================\n",
      "                                           coef    std err          t      P>|t|      [0.025      0.975]\n",
      "--------------------------------------------------------------------------------------------------------\n",
      "Intercept                               96.5073      0.200    481.458      0.000      96.100      96.914\n",
      "percent_supplemental_security_income    -0.0435      0.045     -0.958      0.345      -0.136       0.049\n",
      "==============================================================================\n",
      "Omnibus:                        1.356   Durbin-Watson:                   1.685\n",
      "Prob(Omnibus):                  0.508   Jarque-Bera (JB):                0.599\n",
      "Skew:                           0.273   Prob(JB):                        0.741\n",
      "Kurtosis:                       3.300   Cond. No.                         7.12\n",
      "==============================================================================\n",
      "\n",
      "Warnings:\n",
      "[1] Standard Errors assume that the covariance matrix of the errors is correctly specified.\n"
     ]
    }
   ],
   "source": [
    "outcome_7, predictors_7 = patsy.dmatrices('score ~ percent_supplemental_security_income', df)\n",
    "mod_7 = sm.OLS(outcome_7, predictors_7)\n",
    "res_7 = mod_7.fit()\n",
    "print(res_7.summary())"
   ]
  },
  {
   "cell_type": "markdown",
   "metadata": {},
   "source": [
    "What: The result turned out to be contradicting my initial assumption and it shows there's no relationship between score as outcome and percent supplemental security income as predictor.\n",
    "\n",
    "Why: Although my P-value is large enough (0.345), the coefficient indicates that there's a weak (and even negative) direct relationship between percent supplemental security income and inspection score. The R square seems to be smaller than what I expected (close to 0). \n",
    "\n",
    "How: But before I reject the null hypothesis, I'm going to draw visualization to see this relationship by my own eyes before making any judgement\n"
   ]
  },
  {
   "cell_type": "code",
   "execution_count": 22,
   "metadata": {},
   "outputs": [
    {
     "data": {
      "text/plain": [
       "<matplotlib.legend.Legend at 0x7f8b7a347d68>"
      ]
     },
     "execution_count": 22,
     "metadata": {},
     "output_type": "execute_result"
    },
    {
     "data": {
      "image/png": "[encoded data removed]",
      "text/plain": [
       "<Figure size 432x288 with 1 Axes>"
      ]
     },
     "metadata": {
      "needs_background": "light"
     },
     "output_type": "display_data"
    }
   ],
   "source": [
    "sns.scatterplot(x = 'percent_supplemental_security_income', y = 'score', alpha = 1, data =df, s =100 )\n",
    "\n",
    "xs = np.arange(df['percent_supplemental_security_income'].min(), df['percent_supplemental_security_income'].max())\n",
    "ys = -0.0435*xs + 96.5073\n",
    "plt.plot(xs, ys, '--k', linewidth=4, label='Model')\n",
    "plt.xlabel('percent_supplemental_security_income')\n",
    "plt.ylabel('score')\n",
    "plt.legend()"
   ]
  },
  {
   "cell_type": "markdown",
   "metadata": {},
   "source": [
    "As the shape clear, there's no positive correlation among score and percent supplemental security income. "
   ]
  },
  {
   "cell_type": "markdown",
   "metadata": {},
   "source": [
    "This is very critical because none of my (assumed) predictors had any effect over my outcome (score). \n",
    "Maybe my first source (https://pubmed.ncbi.nlm.nih.gov/27348977/ ) is not accurate by saying that there is correlation between food inspection and Yelp review.\n",
    "One thing to check is to find the correlation among various variables and see which ones are more correlated and go beyond 'score' as my only outcome"
   ]
  },
  {
   "cell_type": "code",
   "execution_count": 23,
   "metadata": {},
   "outputs": [
    {
     "data": {
      "text/html": [
       "<div>\n",
       "<style scoped>\n",
       "    .dataframe tbody tr th:only-of-type {\n",
       "        vertical-align: middle;\n",
       "    }\n",
       "\n",
       "    .dataframe tbody tr th {\n",
       "        vertical-align: top;\n",
       "    }\n",
       "\n",
       "    .dataframe thead th {\n",
       "        text-align: right;\n",
       "    }\n",
       "</style>\n",
       "<table border=\"1\" class=\"dataframe\">\n",
       "  <thead>\n",
       "    <tr style=\"text-align: right;\">\n",
       "      <th></th>\n",
       "      <th>score</th>\n",
       "      <th>rating</th>\n",
       "      <th>median_family_income_dollars</th>\n",
       "      <th>median_household_income_dollars</th>\n",
       "      <th>per_capita_income_dollars</th>\n",
       "      <th>percent_families_below_poverty_line</th>\n",
       "      <th>percent_snap_benefits</th>\n",
       "      <th>percent_supplemental_security_income</th>\n",
       "    </tr>\n",
       "  </thead>\n",
       "  <tbody>\n",
       "    <tr>\n",
       "      <th>score</th>\n",
       "      <td>1.000000</td>\n",
       "      <td>-0.527777</td>\n",
       "      <td>0.077888</td>\n",
       "      <td>0.088614</td>\n",
       "      <td>-0.005612</td>\n",
       "      <td>-0.137131</td>\n",
       "      <td>-0.046930</td>\n",
       "      <td>-0.159806</td>\n",
       "    </tr>\n",
       "    <tr>\n",
       "      <th>rating</th>\n",
       "      <td>-0.527777</td>\n",
       "      <td>1.000000</td>\n",
       "      <td>0.063249</td>\n",
       "      <td>0.054720</td>\n",
       "      <td>0.142682</td>\n",
       "      <td>0.122089</td>\n",
       "      <td>0.007134</td>\n",
       "      <td>0.438612</td>\n",
       "    </tr>\n",
       "    <tr>\n",
       "      <th>median_family_income_dollars</th>\n",
       "      <td>0.077888</td>\n",
       "      <td>0.063249</td>\n",
       "      <td>1.000000</td>\n",
       "      <td>0.880112</td>\n",
       "      <td>0.901717</td>\n",
       "      <td>-0.718478</td>\n",
       "      <td>-0.756979</td>\n",
       "      <td>-0.522938</td>\n",
       "    </tr>\n",
       "    <tr>\n",
       "      <th>median_household_income_dollars</th>\n",
       "      <td>0.088614</td>\n",
       "      <td>0.054720</td>\n",
       "      <td>0.880112</td>\n",
       "      <td>1.000000</td>\n",
       "      <td>0.720754</td>\n",
       "      <td>-0.691265</td>\n",
       "      <td>-0.696365</td>\n",
       "      <td>-0.479769</td>\n",
       "    </tr>\n",
       "    <tr>\n",
       "      <th>per_capita_income_dollars</th>\n",
       "      <td>-0.005612</td>\n",
       "      <td>0.142682</td>\n",
       "      <td>0.901717</td>\n",
       "      <td>0.720754</td>\n",
       "      <td>1.000000</td>\n",
       "      <td>-0.612539</td>\n",
       "      <td>-0.696073</td>\n",
       "      <td>-0.475189</td>\n",
       "    </tr>\n",
       "    <tr>\n",
       "      <th>percent_families_below_poverty_line</th>\n",
       "      <td>-0.137131</td>\n",
       "      <td>0.122089</td>\n",
       "      <td>-0.718478</td>\n",
       "      <td>-0.691265</td>\n",
       "      <td>-0.612539</td>\n",
       "      <td>1.000000</td>\n",
       "      <td>0.877161</td>\n",
       "      <td>0.621459</td>\n",
       "    </tr>\n",
       "    <tr>\n",
       "      <th>percent_snap_benefits</th>\n",
       "      <td>-0.046930</td>\n",
       "      <td>0.007134</td>\n",
       "      <td>-0.756979</td>\n",
       "      <td>-0.696365</td>\n",
       "      <td>-0.696073</td>\n",
       "      <td>0.877161</td>\n",
       "      <td>1.000000</td>\n",
       "      <td>0.502475</td>\n",
       "    </tr>\n",
       "    <tr>\n",
       "      <th>percent_supplemental_security_income</th>\n",
       "      <td>-0.159806</td>\n",
       "      <td>0.438612</td>\n",
       "      <td>-0.522938</td>\n",
       "      <td>-0.479769</td>\n",
       "      <td>-0.475189</td>\n",
       "      <td>0.621459</td>\n",
       "      <td>0.502475</td>\n",
       "      <td>1.000000</td>\n",
       "    </tr>\n",
       "  </tbody>\n",
       "</table>\n",
       "</div>"
      ],
      "text/plain": [
       "                                         score    rating  \\\n",
       "score                                 1.000000 -0.527777   \n",
       "rating                               -0.527777  1.000000   \n",
       "median_family_income_dollars          0.077888  0.063249   \n",
       "median_household_income_dollars       0.088614  0.054720   \n",
       "per_capita_income_dollars            -0.005612  0.142682   \n",
       "percent_families_below_poverty_line  -0.137131  0.122089   \n",
       "percent_snap_benefits                -0.046930  0.007134   \n",
       "percent_supplemental_security_income -0.159806  0.438612   \n",
       "\n",
       "                                      median_family_income_dollars  \\\n",
       "score                                                     0.077888   \n",
       "rating                                                    0.063249   \n",
       "median_family_income_dollars                              1.000000   \n",
       "median_household_income_dollars                           0.880112   \n",
       "per_capita_income_dollars                                 0.901717   \n",
       "percent_families_below_poverty_line                      -0.718478   \n",
       "percent_snap_benefits                                    -0.756979   \n",
       "percent_supplemental_security_income                     -0.522938   \n",
       "\n",
       "                                      median_household_income_dollars  \\\n",
       "score                                                        0.088614   \n",
       "rating                                                       0.054720   \n",
       "median_family_income_dollars                                 0.880112   \n",
       "median_household_income_dollars                              1.000000   \n",
       "per_capita_income_dollars                                    0.720754   \n",
       "percent_families_below_poverty_line                         -0.691265   \n",
       "percent_snap_benefits                                       -0.696365   \n",
       "percent_supplemental_security_income                        -0.479769   \n",
       "\n",
       "                                      per_capita_income_dollars  \\\n",
       "score                                                 -0.005612   \n",
       "rating                                                 0.142682   \n",
       "median_family_income_dollars                           0.901717   \n",
       "median_household_income_dollars                        0.720754   \n",
       "per_capita_income_dollars                              1.000000   \n",
       "percent_families_below_poverty_line                   -0.612539   \n",
       "percent_snap_benefits                                 -0.696073   \n",
       "percent_supplemental_security_income                  -0.475189   \n",
       "\n",
       "                                      percent_families_below_poverty_line  \\\n",
       "score                                                           -0.137131   \n",
       "rating                                                           0.122089   \n",
       "median_family_income_dollars                                    -0.718478   \n",
       "median_household_income_dollars                                 -0.691265   \n",
       "per_capita_income_dollars                                       -0.612539   \n",
       "percent_families_below_poverty_line                              1.000000   \n",
       "percent_snap_benefits                                            0.877161   \n",
       "percent_supplemental_security_income                             0.621459   \n",
       "\n",
       "                                      percent_snap_benefits  \\\n",
       "score                                             -0.046930   \n",
       "rating                                             0.007134   \n",
       "median_family_income_dollars                      -0.756979   \n",
       "median_household_income_dollars                   -0.696365   \n",
       "per_capita_income_dollars                         -0.696073   \n",
       "percent_families_below_poverty_line                0.877161   \n",
       "percent_snap_benefits                              1.000000   \n",
       "percent_supplemental_security_income               0.502475   \n",
       "\n",
       "                                      percent_supplemental_security_income  \n",
       "score                                                            -0.159806  \n",
       "rating                                                            0.438612  \n",
       "median_family_income_dollars                                     -0.522938  \n",
       "median_household_income_dollars                                  -0.479769  \n",
       "per_capita_income_dollars                                        -0.475189  \n",
       "percent_families_below_poverty_line                               0.621459  \n",
       "percent_snap_benefits                                             0.502475  \n",
       "percent_supplemental_security_income                              1.000000  "
      ]
     },
     "execution_count": 23,
     "metadata": {},
     "output_type": "execute_result"
    }
   ],
   "source": [
    "df.corr()"
   ]
  },
  {
   "cell_type": "markdown",
   "metadata": {},
   "source": [
    "So far, I rejected the null hypothesis and found out that the inspection score has nothing to do with yelp rating or economic matters of a neighborhood. It seems that my data shows a slight correlation among rating and per_capita_income_dollars, percent_supplemental_security_income, and percent_families_below_poverty_line. This is a contradiction to my second source,https://medium.com/swlh/is-there-a-correlation-between-a-restaurants-ratings-and-the-income-levels-of-a-neighborhood-5fe41165e4f1, which already assessed that there is no correlation between Yelp ratings and financial demography of a neighborhood. I'm going to assess that if the author is wrong (reject the null hypothesis and assess that Yelp rating is an outcome).\n",
    "\n",
    "Please note that I'm also considering the relation between Yelp rating and percent families below poverty line too; they have positive, though small, correlation. There might be the case that rating in poor neighborhoods is higher. However, my job in here is not to assess which direction this correlation tilts, but rather to assess if I should reject the second article's claim, that rating is a predictor, not an outcome, and also see if it has any correlation with financial status in a zip code or not. If there was a correlation, then I can decided to take my analysis into which next level."
   ]
  },
  {
   "cell_type": "code",
   "execution_count": 24,
   "metadata": {},
   "outputs": [
    {
     "name": "stdout",
     "output_type": "stream",
     "text": [
      "                            OLS Regression Results                            \n",
      "==============================================================================\n",
      "Dep. Variable:                 rating   R-squared:                       0.192\n",
      "Model:                            OLS   Adj. R-squared:                  0.169\n",
      "Method:                 Least Squares   F-statistic:                     8.337\n",
      "Date:                Wed, 10 Jun 2020   Prob (F-statistic):            0.00662\n",
      "Time:                        04:41:14   Log-Likelihood:                 2.0166\n",
      "No. Observations:                  37   AIC:                          -0.03325\n",
      "Df Residuals:                      35   BIC:                             3.189\n",
      "Df Model:                           1                                         \n",
      "Covariance Type:            nonrobust                                         \n",
      "========================================================================================================\n",
      "                                           coef    std err          t      P>|t|      [0.025      0.975]\n",
      "--------------------------------------------------------------------------------------------------------\n",
      "Intercept                                3.4803      0.061     57.491      0.000       3.357       3.603\n",
      "percent_supplemental_security_income     0.0396      0.014      2.887      0.007       0.012       0.067\n",
      "==============================================================================\n",
      "Omnibus:                        3.446   Durbin-Watson:                   1.718\n",
      "Prob(Omnibus):                  0.179   Jarque-Bera (JB):                2.208\n",
      "Skew:                          -0.536   Prob(JB):                        0.332\n",
      "Kurtosis:                       3.531   Cond. No.                         7.12\n",
      "==============================================================================\n",
      "\n",
      "Warnings:\n",
      "[1] Standard Errors assume that the covariance matrix of the errors is correctly specified.\n"
     ]
    }
   ],
   "source": [
    "outcome_8, predictors_8 = patsy.dmatrices('rating ~ percent_supplemental_security_income', df)\n",
    "mod_8 = sm.OLS(outcome_8, predictors_8)\n",
    "res_8 = mod_8.fit()\n",
    "print(res_8.summary())"
   ]
  },
  {
   "cell_type": "markdown",
   "metadata": {},
   "source": [
    "What: The result turned out to be contradicting my second assumption and it shows there's no relationship between rating as outcome and percent supplemental security income as predictor.\n",
    "\n",
    "Why: Not only my P-value is small (close to 0), the coefficient indicates that there's a weak direct relationship between percent supplemental security income and rating. The R square seems to be smaller than I expected though not 0. \n",
    "\n",
    "How: But before I reject the null hypothesis, I'm going to draw visualization to see this relationship by my own eyes before making any judgement\n"
   ]
  },
  {
   "cell_type": "code",
   "execution_count": 25,
   "metadata": {},
   "outputs": [
    {
     "data": {
      "text/plain": [
       "<matplotlib.legend.Legend at 0x7f8b7a24feb8>"
      ]
     },
     "execution_count": 25,
     "metadata": {},
     "output_type": "execute_result"
    },
    {
     "data": {
      "image/png": "[encoded data removed]",
      "text/plain": [
       "<Figure size 432x288 with 1 Axes>"
      ]
     },
     "metadata": {
      "needs_background": "light"
     },
     "output_type": "display_data"
    }
   ],
   "source": [
    "sns.scatterplot(x = 'percent_supplemental_security_income', y = 'rating', alpha = 1, data =df, s =100 )\n",
    "\n",
    "xs = np.arange(df['percent_supplemental_security_income'].min(), df['percent_supplemental_security_income'].max())\n",
    "ys = 0.0396*xs + 3.4803\n",
    "plt.plot(xs, ys, '--k', linewidth=4, label='Model')\n",
    "plt.xlabel('percent_supplemental_security_income')\n",
    "plt.ylabel('rating')\n",
    "plt.legend()"
   ]
  },
  {
   "cell_type": "markdown",
   "metadata": {},
   "source": [
    "As the shape is clear, there's no positive correlation between rating and percent supplemental security income. I'm going to explore the same analysis between rating and per capita income dollars."
   ]
  },
  {
   "cell_type": "code",
   "execution_count": 26,
   "metadata": {},
   "outputs": [
    {
     "name": "stdout",
     "output_type": "stream",
     "text": [
      "                            OLS Regression Results                            \n",
      "==============================================================================\n",
      "Dep. Variable:                 rating   R-squared:                       0.020\n",
      "Model:                            OLS   Adj. R-squared:                 -0.008\n",
      "Method:                 Least Squares   F-statistic:                    0.7273\n",
      "Date:                Wed, 10 Jun 2020   Prob (F-statistic):              0.400\n",
      "Time:                        04:41:15   Log-Likelihood:                -1.5557\n",
      "No. Observations:                  37   AIC:                             7.111\n",
      "Df Residuals:                      35   BIC:                             10.33\n",
      "Df Model:                           1                                         \n",
      "Covariance Type:            nonrobust                                         \n",
      "=============================================================================================\n",
      "                                coef    std err          t      P>|t|      [0.025      0.975]\n",
      "---------------------------------------------------------------------------------------------\n",
      "Intercept                     3.4920      0.150     23.278      0.000       3.187       3.797\n",
      "per_capita_income_dollars  3.692e-06   4.33e-06      0.853      0.400    -5.1e-06    1.25e-05\n",
      "==============================================================================\n",
      "Omnibus:                       13.405   Durbin-Watson:                   1.665\n",
      "Prob(Omnibus):                  0.001   Jarque-Bera (JB):               18.670\n",
      "Skew:                           0.948   Prob(JB):                     8.83e-05\n",
      "Kurtosis:                       5.919   Cond. No.                     1.22e+05\n",
      "==============================================================================\n",
      "\n",
      "Warnings:\n",
      "[1] Standard Errors assume that the covariance matrix of the errors is correctly specified.\n",
      "[2] The condition number is large, 1.22e+05. This might indicate that there are\n",
      "strong multicollinearity or other numerical problems.\n"
     ]
    }
   ],
   "source": [
    "outcome_9, predictors_9 = patsy.dmatrices('rating ~ per_capita_income_dollars', df)\n",
    "mod_9 = sm.OLS(outcome_9, predictors_9)\n",
    "res_9 = mod_9.fit()\n",
    "print(res_9.summary())"
   ]
  },
  {
   "cell_type": "markdown",
   "metadata": {},
   "source": [
    "What: The result turned out to be contradicting my second assumption and it shows there's no relationship between rating as outcome and per capita income dollars as predictor.\n",
    "\n",
    "Why: Although my P-value is large enough (0.4), the coefficient indicates that there's a weak direct relationship between per capita income dollars and rating. The R square seems to be smaller than I expected (close to 0). \n",
    "\n",
    "More than that, the 2nd warning indicates that there is a risk of Multicollinearity which might cause my analysis not to be accurate.\n",
    "\n",
    "How: But before I reject the null hypothesis, I'm going to draw visualization to see this relationship by my own eyes before making any judgement"
   ]
  },
  {
   "cell_type": "code",
   "execution_count": 27,
   "metadata": {},
   "outputs": [
    {
     "data": {
      "text/plain": [
       "<matplotlib.legend.Legend at 0x7f8b7a2e3b38>"
      ]
     },
     "execution_count": 27,
     "metadata": {},
     "output_type": "execute_result"
    },
    {
     "data": {
      "image/png": "[encoded data removed]",
      "text/plain": [
       "<Figure size 432x288 with 1 Axes>"
      ]
     },
     "metadata": {
      "needs_background": "light"
     },
     "output_type": "display_data"
    }
   ],
   "source": [
    "sns.scatterplot(x = 'per_capita_income_dollars', y = 'rating', alpha = 1, data =df, s =100 )\n",
    "\n",
    "xs = np.arange(df['per_capita_income_dollars'].min(), df['per_capita_income_dollars'].max())\n",
    "ys = 3.692e-06*xs + 3.4920\n",
    "plt.plot(xs, ys, '--k', linewidth=4, label='Model')\n",
    "plt.xlabel('per_capita_income_dollars')\n",
    "plt.ylabel('rating')\n",
    "plt.legend()"
   ]
  },
  {
   "cell_type": "markdown",
   "metadata": {},
   "source": [
    "As the shape is clear, there's no positive correlation between rating and per capita income dollars. I'm going to explore the same analysis between rating and percent families below poverty line."
   ]
  },
  {
   "cell_type": "code",
   "execution_count": 28,
   "metadata": {},
   "outputs": [
    {
     "name": "stdout",
     "output_type": "stream",
     "text": [
      "                            OLS Regression Results                            \n",
      "==============================================================================\n",
      "Dep. Variable:                 rating   R-squared:                       0.015\n",
      "Model:                            OLS   Adj. R-squared:                 -0.013\n",
      "Method:                 Least Squares   F-statistic:                    0.5296\n",
      "Date:                Wed, 10 Jun 2020   Prob (F-statistic):              0.472\n",
      "Time:                        04:41:15   Log-Likelihood:                -1.6583\n",
      "No. Observations:                  37   AIC:                             7.317\n",
      "Df Residuals:                      35   BIC:                             10.54\n",
      "Df Model:                           1                                         \n",
      "Covariance Type:            nonrobust                                         \n",
      "=======================================================================================================\n",
      "                                          coef    std err          t      P>|t|      [0.025      0.975]\n",
      "-------------------------------------------------------------------------------------------------------\n",
      "Intercept                               3.5734      0.071     50.316      0.000       3.429       3.718\n",
      "percent_families_below_poverty_line     0.0051      0.007      0.728      0.472      -0.009       0.019\n",
      "==============================================================================\n",
      "Omnibus:                       10.491   Durbin-Watson:                   1.767\n",
      "Prob(Omnibus):                  0.005   Jarque-Bera (JB):               14.116\n",
      "Skew:                           0.708   Prob(JB):                     0.000861\n",
      "Kurtosis:                       5.674   Cond. No.                         16.9\n",
      "==============================================================================\n",
      "\n",
      "Warnings:\n",
      "[1] Standard Errors assume that the covariance matrix of the errors is correctly specified.\n"
     ]
    }
   ],
   "source": [
    "outcome_10, predictors_10 = patsy.dmatrices('rating ~ percent_families_below_poverty_line', df)\n",
    "mod_10 = sm.OLS(outcome_10, predictors_10)\n",
    "res_10 = mod_10.fit()\n",
    "print(res_10.summary())"
   ]
  },
  {
   "cell_type": "markdown",
   "metadata": {},
   "source": [
    "What: The result turned out to be contradicting my second assumption and it shows there's no relationship between rating as outcome and percent families below poverty line as predictor.\n",
    "\n",
    "Why: Although my P-value is small (close to 0), the coefficient indicates that there's a weak direct (but positive) relationship between percent families below poverty line and rating. The R square seems to be smaller than I expected (close to 0). \n",
    "\n",
    "How: But before I reject the null hypothesis, I'm going to draw visualization to see this relationship by my own eyes before making any judgement"
   ]
  },
  {
   "cell_type": "code",
   "execution_count": 29,
   "metadata": {},
   "outputs": [
    {
     "data": {
      "text/plain": [
       "<matplotlib.legend.Legend at 0x7f8b7a1c8eb8>"
      ]
     },
     "execution_count": 29,
     "metadata": {},
     "output_type": "execute_result"
    },
    {
     "data": {
      "image/png": "[encoded data removed]",
      "text/plain": [
       "<Figure size 432x288 with 1 Axes>"
      ]
     },
     "metadata": {
      "needs_background": "light"
     },
     "output_type": "display_data"
    }
   ],
   "source": [
    "sns.scatterplot(x = 'percent_families_below_poverty_line', y = 'rating', alpha = 1, data =df, s =100 )\n",
    "\n",
    "xs = np.arange(df['percent_families_below_poverty_line'].min(), df['percent_families_below_poverty_line'].max())\n",
    "ys = 0.0051*xs + 3.5734\n",
    "plt.plot(xs, ys, '--k', linewidth=4, label='Model')\n",
    "plt.xlabel('percent_families_below_poverty_line')\n",
    "plt.ylabel('rating')\n",
    "plt.legend()"
   ]
  },
  {
   "cell_type": "markdown",
   "metadata": {},
   "source": [
    "As the shape is clear, there's no positive correlation between rating and percent families below poverty line. "
   ]
  },
  {
   "cell_type": "markdown",
   "metadata": {},
   "source": [
    "Based on my findings, I can assess that Yelp rating has no strong correlation with financial demography of a neighborhood, i.e., my second source is correct"
   ]
  },
  {
   "cell_type": "markdown",
   "metadata": {},
   "source": [
    "# Ethics & Privacy"
   ]
  },
  {
   "cell_type": "markdown",
   "metadata": {},
   "source": [
    "In all data that I used, I made sure that there's no person's name (including owners and inspectors), address, phone, or any other sensitive information that might be misused by others when they take this analysis into account in the future. The data itself were mainly gathered by local city government so it should be noted that all numbers, analysis, and visualizations have solid background with maximum transparency. \n",
    "\n",
    "My most important ethical concern was because of possible unintentional consequences that all were started by asking the original question of this project and continued straight right into possible findings. If my null hypothesis was confirmed, on one hand, this project might have had discouraged those food business owners to who wanted to open their stores in relatively less well off neighborhoods, so they would scale down; the reason is because the owners will see that their businesses will not be successful and survive from negative food inspection scores, which resulted from low revenue, and they might feel that they are trapped in an endless negative cycle. On the other hand, this unintended consequence could have had made local owners to give up on their endeavor and/or close their restuarants permenantly in order to go somewhere else.\n",
    "\n",
    "Of course in my opinion the benefits of having this question asked weigh heavier than not asking it because then the City Hall officials might also see this as a form of income segregation and work harder to ensure restaurants in low income areas have the same amenities and service levels as those in middle or high income areas. So at the end of the day, I believe asking the right question will (probably) help those food shop owners who are in a disadvantaged position"
   ]
  },
  {
   "cell_type": "markdown",
   "metadata": {},
   "source": [
    "# Conclusion & Discussion"
   ]
  },
  {
   "cell_type": "markdown",
   "metadata": {},
   "source": [
    "I began my analysis by asking if there is a correlation between food inspection score as an outcome, and financial matters of a neighborhood and Yelp rating as predictors. The initial assumption was that the more rating a business can get from its customers alongside the proximity of that business in well off neighborhoods, the owner(s) can boost the restaurant's revenue and the restaurant has more resources to take care of its quality including sanitation, customer service, food checks, and etc. My analysis showed that the income of a neighborhood and Yelp ratings of its restaurants have nothing to do with the food inspection score. High income neighborhoods and/or high rating restaurants can have poorly inspection scores and low income neighborhood and/or low Yelp reviews can have high score restaurants.\n",
    "I used single linear regression among each variables in the predictor group and food inspection score as my outcome. In some cases, I found the P-values larger than 0.05 while coefficients were negligible and close to 0 alongside R-squares to be very small. In other cases P-Values were very close to zero, resulting into rejecting my null hypothesis. \n",
    "Then I questioned the nature and credibility of my sources and prior works. For example, my finding showed a small correlation between Yelp reviews and some of financial predictors based on corr() method, in which one of my sources claimed that Yelp reviews had no relation with the economic demography of a neighborhood. So I went beyond on to see if the ratings are the outcome themselves, and then build my analysis based on the correlation between Yelp reviews and financial predictors. Again, based on linear regression, my analysis showed there is't a strong correlation between ratings and other financial predictors and my second source is correct. So at the end, I rejected my null hypothesis and I concluded there isn't a correlation between food inspection score with ratings and financial predictors, (and there is no correlation between ratings and financial matters). \n",
    "\n",
    "I think there were some limitations within my data set; particularly, I assessed the data only in 1 state, North Carolina, which the racial demography might not represent the whole United States. It was better if I had another data sets like the violations by each restaurant's zip code (I had this data set but I was unable to extract the zip codes because there was no indication of it in this data set). Considering the Yelp review data, If I wanted to include counts of reviews in each restaurant, it would be more effective to try and use sentiment analysis to calculate the rating of a restaurant. This would involve analysing the text of the reviews to see if we can use that to calculate the rating a user would give a restaurant. The last topic that I like point out is the impact of this analysis on society. If this analysis confirmed my null hypothesis, it was up to local and federal governments, social workers and NGOs, restaurant owners, and above all citizens to decide on what to take with these findings in order to make sure that all food business owners have the necessary resources to not only survive, but also they are treated based on equity rather than equality. There could have been some hot arguments on income segregation and how the environment is affecting all people more than the way individuals have impacts on their own lives."
   ]
  }
 ],
 "metadata": {
  "kernelspec": {
   "display_name": "Python 3",
   "language": "python",
   "name": "python3"
  },
  "language_info": {
   "codemirror_mode": {
    "name": "ipython",
    "version": 3
   },
   "file_extension": ".py",
   "mimetype": "text/x-python",
   "name": "python",
   "nbconvert_exporter": "python",
   "pygments_lexer": "ipython3",
   "version": "3.6.7"
  }
 },
 "nbformat": 4,
 "nbformat_minor": 2
}
