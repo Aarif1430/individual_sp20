{
 "cells": [
  {
   "cell_type": "markdown",
   "metadata": {},
   "source": [
    "# COGS 108 - Final Project "
   ]
  },
  {
   "cell_type": "markdown",
   "metadata": {},
   "source": [
    "# Overview"
   ]
  },
  {
   "cell_type": "markdown",
   "metadata": {},
   "source": []
  },
  {
   "cell_type": "markdown",
   "metadata": {},
   "source": [
    "# Name & PID\n",
    "\n",
    "- Name: Gerrick Baldevarona\n",
    "- PID: A14170958"
   ]
  },
  {
   "cell_type": "markdown",
   "metadata": {},
   "source": [
    "# Research Question"
   ]
  },
  {
   "cell_type": "raw",
   "metadata": {},
   "source": [
    "Is there a relationship between restaurant ratings or the number of reviews with inspection scores? Do lower ratings lead to lower inspection scores? And does the number of reviews have any influence on the inspection score?"
   ]
  },
  {
   "cell_type": "markdown",
   "metadata": {},
   "source": [
    "## Background and Prior Work"
   ]
  },
  {
   "cell_type": "markdown",
   "metadata": {},
   "source": [
    "*Fill in your background and prior work here* \n",
    "\n",
    "References (include links):\n",
    "- 1)\n",
    "- 2)"
   ]
  },
  {
   "cell_type": "markdown",
   "metadata": {},
   "source": [
    "# Hypothesis\n"
   ]
  },
  {
   "cell_type": "markdown",
   "metadata": {},
   "source": [
    "*Fill in your hypotheses here*"
   ]
  },
  {
   "cell_type": "markdown",
   "metadata": {},
   "source": [
    "# Dataset(s)"
   ]
  },
  {
   "cell_type": "markdown",
   "metadata": {},
   "source": [
    "*Fill in your dataset information here*\n",
    "\n",
    "(Copy this information for each dataset)\n",
    "- Dataset Name:\n",
    "- Link to the dataset:\n",
    "- Number of observations:\n",
    "\n",
    "1-2 sentences describing each dataset. \n",
    "\n",
    "If you plan to use multiple datasets, add 1-2 sentences about how you plan to combine these datasets."
   ]
  },
  {
   "cell_type": "markdown",
   "metadata": {},
   "source": [
    "# Setup"
   ]
  },
  {
   "cell_type": "code",
   "execution_count": 1,
   "metadata": {},
   "outputs": [],
   "source": [
    "## YOUR CODE HERE\n",
    "\n",
    "# Imports \n",
    "%matplotlib inline\n",
    "\n",
    "import numpy as np\n",
    "import pandas as pd\n",
    "import matplotlib.pyplot as plt\n",
    "\n",
    "import seaborn as sns\n",
    "sns.set()\n",
    "sns.set_context('talk')\n",
    "\n",
    "import warnings\n",
    "warnings.filterwarnings('ignore')\n",
    "\n",
    "import patsy\n",
    "import statsmodels.api as sm\n",
    "import scipy.stats as stats\n",
    "from scipy.stats import ttest_ind, chisquare, normaltest"
   ]
  },
  {
   "cell_type": "code",
   "execution_count": 2,
   "metadata": {},
   "outputs": [],
   "source": [
    "df_yelp = pd.read_csv('yelp.csv')\n",
    "df_inspection = pd.read_csv('inspections.csv')\n",
    "\n",
    "df_yelp = df_yelp[['rating', 'review_count', 'latitude', 'longitude']]\n",
    "df_inspection = df_inspection[['hsisid', 'x', 'y', 'score']]\n"
   ]
  },
  {
   "cell_type": "code",
   "execution_count": 3,
   "metadata": {},
   "outputs": [
    {
     "data": {
      "text/html": [
       "<div>\n",
       "<style scoped>\n",
       "    .dataframe tbody tr th:only-of-type {\n",
       "        vertical-align: middle;\n",
       "    }\n",
       "\n",
       "    .dataframe tbody tr th {\n",
       "        vertical-align: top;\n",
       "    }\n",
       "\n",
       "    .dataframe thead th {\n",
       "        text-align: right;\n",
       "    }\n",
       "</style>\n",
       "<table border=\"1\" class=\"dataframe\">\n",
       "  <thead>\n",
       "    <tr style=\"text-align: right;\">\n",
       "      <th></th>\n",
       "      <th>rating</th>\n",
       "      <th>review_count</th>\n",
       "      <th>latitude</th>\n",
       "      <th>longitude</th>\n",
       "    </tr>\n",
       "  </thead>\n",
       "  <tbody>\n",
       "    <tr>\n",
       "      <th>0</th>\n",
       "      <td>2.5</td>\n",
       "      <td>23</td>\n",
       "      <td>35.873808</td>\n",
       "      <td>-78.790896</td>\n",
       "    </tr>\n",
       "    <tr>\n",
       "      <th>1</th>\n",
       "      <td>4.0</td>\n",
       "      <td>17</td>\n",
       "      <td>35.802840</td>\n",
       "      <td>-78.785930</td>\n",
       "    </tr>\n",
       "    <tr>\n",
       "      <th>2</th>\n",
       "      <td>5.0</td>\n",
       "      <td>2</td>\n",
       "      <td>35.839681</td>\n",
       "      <td>-78.678791</td>\n",
       "    </tr>\n",
       "    <tr>\n",
       "      <th>3</th>\n",
       "      <td>3.0</td>\n",
       "      <td>16</td>\n",
       "      <td>35.743170</td>\n",
       "      <td>-77.964160</td>\n",
       "    </tr>\n",
       "    <tr>\n",
       "      <th>4</th>\n",
       "      <td>3.5</td>\n",
       "      <td>3</td>\n",
       "      <td>35.762936</td>\n",
       "      <td>-77.999428</td>\n",
       "    </tr>\n",
       "  </tbody>\n",
       "</table>\n",
       "</div>"
      ],
      "text/plain": [
       "   rating  review_count   latitude  longitude\n",
       "0     2.5            23  35.873808 -78.790896\n",
       "1     4.0            17  35.802840 -78.785930\n",
       "2     5.0             2  35.839681 -78.678791\n",
       "3     3.0            16  35.743170 -77.964160\n",
       "4     3.5             3  35.762936 -77.999428"
      ]
     },
     "execution_count": 3,
     "metadata": {},
     "output_type": "execute_result"
    }
   ],
   "source": [
    "df_yelp.head()"
   ]
  },
  {
   "cell_type": "code",
   "execution_count": 4,
   "metadata": {},
   "outputs": [
    {
     "data": {
      "text/html": [
       "<div>\n",
       "<style scoped>\n",
       "    .dataframe tbody tr th:only-of-type {\n",
       "        vertical-align: middle;\n",
       "    }\n",
       "\n",
       "    .dataframe tbody tr th {\n",
       "        vertical-align: top;\n",
       "    }\n",
       "\n",
       "    .dataframe thead th {\n",
       "        text-align: right;\n",
       "    }\n",
       "</style>\n",
       "<table border=\"1\" class=\"dataframe\">\n",
       "  <thead>\n",
       "    <tr style=\"text-align: right;\">\n",
       "      <th></th>\n",
       "      <th>hsisid</th>\n",
       "      <th>x</th>\n",
       "      <th>y</th>\n",
       "      <th>score</th>\n",
       "    </tr>\n",
       "  </thead>\n",
       "  <tbody>\n",
       "    <tr>\n",
       "      <th>0</th>\n",
       "      <td>4092013748</td>\n",
       "      <td>-78.587963</td>\n",
       "      <td>35.783914</td>\n",
       "      <td>96.0</td>\n",
       "    </tr>\n",
       "    <tr>\n",
       "      <th>1</th>\n",
       "      <td>4092014046</td>\n",
       "      <td>-78.549673</td>\n",
       "      <td>35.791986</td>\n",
       "      <td>98.0</td>\n",
       "    </tr>\n",
       "    <tr>\n",
       "      <th>2</th>\n",
       "      <td>4092015191</td>\n",
       "      <td>-78.547960</td>\n",
       "      <td>35.723125</td>\n",
       "      <td>97.0</td>\n",
       "    </tr>\n",
       "    <tr>\n",
       "      <th>3</th>\n",
       "      <td>4092016122</td>\n",
       "      <td>-78.815727</td>\n",
       "      <td>35.799249</td>\n",
       "      <td>99.0</td>\n",
       "    </tr>\n",
       "    <tr>\n",
       "      <th>4</th>\n",
       "      <td>4092021513</td>\n",
       "      <td>-78.296347</td>\n",
       "      <td>35.831285</td>\n",
       "      <td>97.0</td>\n",
       "    </tr>\n",
       "  </tbody>\n",
       "</table>\n",
       "</div>"
      ],
      "text/plain": [
       "       hsisid          x          y  score\n",
       "0  4092013748 -78.587963  35.783914   96.0\n",
       "1  4092014046 -78.549673  35.791986   98.0\n",
       "2  4092015191 -78.547960  35.723125   97.0\n",
       "3  4092016122 -78.815727  35.799249   99.0\n",
       "4  4092021513 -78.296347  35.831285   97.0"
      ]
     },
     "execution_count": 4,
     "metadata": {},
     "output_type": "execute_result"
    }
   ],
   "source": [
    "df_inspection.head()"
   ]
  },
  {
   "cell_type": "markdown",
   "metadata": {},
   "source": [
    "# Data Cleaning"
   ]
  },
  {
   "cell_type": "markdown",
   "metadata": {},
   "source": [
    "Describe your data cleaning steps here."
   ]
  },
  {
   "cell_type": "code",
   "execution_count": 5,
   "metadata": {},
   "outputs": [],
   "source": [
    "## YOUR CODE HERE\n",
    "def reformat(number):\n",
    "    new = format(number, '.10f')\n",
    "    \n",
    "    return new"
   ]
  },
  {
   "cell_type": "code",
   "execution_count": 6,
   "metadata": {},
   "outputs": [
    {
     "data": {
      "text/html": [
       "<div>\n",
       "<style scoped>\n",
       "    .dataframe tbody tr th:only-of-type {\n",
       "        vertical-align: middle;\n",
       "    }\n",
       "\n",
       "    .dataframe tbody tr th {\n",
       "        vertical-align: top;\n",
       "    }\n",
       "\n",
       "    .dataframe thead th {\n",
       "        text-align: right;\n",
       "    }\n",
       "</style>\n",
       "<table border=\"1\" class=\"dataframe\">\n",
       "  <thead>\n",
       "    <tr style=\"text-align: right;\">\n",
       "      <th></th>\n",
       "      <th>restaurant_id</th>\n",
       "      <th>longitude</th>\n",
       "      <th>latitude</th>\n",
       "      <th>inspection_score</th>\n",
       "      <th>rating</th>\n",
       "      <th>review_count</th>\n",
       "    </tr>\n",
       "  </thead>\n",
       "  <tbody>\n",
       "    <tr>\n",
       "      <th>0</th>\n",
       "      <td>4092014119</td>\n",
       "      <td>-78.7205100000</td>\n",
       "      <td>35.7841260000</td>\n",
       "      <td>95.0</td>\n",
       "      <td>1.5</td>\n",
       "      <td>9</td>\n",
       "    </tr>\n",
       "    <tr>\n",
       "      <th>1</th>\n",
       "      <td>4092011665</td>\n",
       "      <td>-78.7205100000</td>\n",
       "      <td>35.7841260000</td>\n",
       "      <td>97.0</td>\n",
       "      <td>1.5</td>\n",
       "      <td>9</td>\n",
       "    </tr>\n",
       "    <tr>\n",
       "      <th>2</th>\n",
       "      <td>4092016171</td>\n",
       "      <td>-78.7205100000</td>\n",
       "      <td>35.7841260000</td>\n",
       "      <td>100.0</td>\n",
       "      <td>1.5</td>\n",
       "      <td>9</td>\n",
       "    </tr>\n",
       "    <tr>\n",
       "      <th>3</th>\n",
       "      <td>4092020130</td>\n",
       "      <td>-78.7205100000</td>\n",
       "      <td>35.7841260000</td>\n",
       "      <td>97.5</td>\n",
       "      <td>1.5</td>\n",
       "      <td>9</td>\n",
       "    </tr>\n",
       "    <tr>\n",
       "      <th>4</th>\n",
       "      <td>4092300050</td>\n",
       "      <td>-78.7205100000</td>\n",
       "      <td>35.7841260000</td>\n",
       "      <td>97.0</td>\n",
       "      <td>1.5</td>\n",
       "      <td>9</td>\n",
       "    </tr>\n",
       "    <tr>\n",
       "      <th>...</th>\n",
       "      <td>...</td>\n",
       "      <td>...</td>\n",
       "      <td>...</td>\n",
       "      <td>...</td>\n",
       "      <td>...</td>\n",
       "      <td>...</td>\n",
       "    </tr>\n",
       "    <tr>\n",
       "      <th>420</th>\n",
       "      <td>4092016983</td>\n",
       "      <td>-78.7850600000</td>\n",
       "      <td>35.9072180000</td>\n",
       "      <td>94.0</td>\n",
       "      <td>2.0</td>\n",
       "      <td>126</td>\n",
       "    </tr>\n",
       "    <tr>\n",
       "      <th>421</th>\n",
       "      <td>4092016983</td>\n",
       "      <td>-78.7850600000</td>\n",
       "      <td>35.9072180000</td>\n",
       "      <td>90.0</td>\n",
       "      <td>2.0</td>\n",
       "      <td>126</td>\n",
       "    </tr>\n",
       "    <tr>\n",
       "      <th>422</th>\n",
       "      <td>4092017146</td>\n",
       "      <td>-78.7669940000</td>\n",
       "      <td>35.9086840000</td>\n",
       "      <td>98.5</td>\n",
       "      <td>4.5</td>\n",
       "      <td>7</td>\n",
       "    </tr>\n",
       "    <tr>\n",
       "      <th>423</th>\n",
       "      <td>4092017177</td>\n",
       "      <td>-78.6469720000</td>\n",
       "      <td>35.7836330000</td>\n",
       "      <td>96.5</td>\n",
       "      <td>3.5</td>\n",
       "      <td>136</td>\n",
       "    </tr>\n",
       "    <tr>\n",
       "      <th>424</th>\n",
       "      <td>4092017177</td>\n",
       "      <td>-78.6469720000</td>\n",
       "      <td>35.7836330000</td>\n",
       "      <td>94.5</td>\n",
       "      <td>3.5</td>\n",
       "      <td>136</td>\n",
       "    </tr>\n",
       "  </tbody>\n",
       "</table>\n",
       "<p>425 rows × 6 columns</p>\n",
       "</div>"
      ],
      "text/plain": [
       "     restaurant_id       longitude       latitude  inspection_score  rating  \\\n",
       "0       4092014119  -78.7205100000  35.7841260000              95.0     1.5   \n",
       "1       4092011665  -78.7205100000  35.7841260000              97.0     1.5   \n",
       "2       4092016171  -78.7205100000  35.7841260000             100.0     1.5   \n",
       "3       4092020130  -78.7205100000  35.7841260000              97.5     1.5   \n",
       "4       4092300050  -78.7205100000  35.7841260000              97.0     1.5   \n",
       "..             ...             ...            ...               ...     ...   \n",
       "420     4092016983  -78.7850600000  35.9072180000              94.0     2.0   \n",
       "421     4092016983  -78.7850600000  35.9072180000              90.0     2.0   \n",
       "422     4092017146  -78.7669940000  35.9086840000              98.5     4.5   \n",
       "423     4092017177  -78.6469720000  35.7836330000              96.5     3.5   \n",
       "424     4092017177  -78.6469720000  35.7836330000              94.5     3.5   \n",
       "\n",
       "     review_count  \n",
       "0               9  \n",
       "1               9  \n",
       "2               9  \n",
       "3               9  \n",
       "4               9  \n",
       "..            ...  \n",
       "420           126  \n",
       "421           126  \n",
       "422             7  \n",
       "423           136  \n",
       "424           136  \n",
       "\n",
       "[425 rows x 6 columns]"
      ]
     },
     "execution_count": 6,
     "metadata": {},
     "output_type": "execute_result"
    }
   ],
   "source": [
    "df_inspection.columns = ['restaurant_id', 'longitude', 'latitude', 'inspection_score']\n",
    "\n",
    "df_yelp['latitude'] = df_yelp['latitude'].apply(reformat)\n",
    "df_yelp['longitude'] = df_yelp['longitude'].apply(reformat)\n",
    "df_inspection['latitude'] = df_inspection['latitude'].apply(reformat)\n",
    "df_inspection['longitude'] = df_inspection['longitude'].apply(reformat)\n",
    "\n",
    "merged_df = df_inspection.merge(df_yelp, how = 'inner', on = ['longitude', 'latitude'])\n",
    "merged_df\n"
   ]
  },
  {
   "cell_type": "code",
   "execution_count": 7,
   "metadata": {},
   "outputs": [
    {
     "data": {
      "text/plain": [
       "4.0    103\n",
       "3.5     95\n",
       "4.5     86\n",
       "3.0     79\n",
       "1.5     46\n",
       "2.0     10\n",
       "1.0      6\n",
       "Name: rating, dtype: int64"
      ]
     },
     "execution_count": 7,
     "metadata": {},
     "output_type": "execute_result"
    }
   ],
   "source": [
    "merged_df['rating'].value_counts()"
   ]
  },
  {
   "cell_type": "code",
   "execution_count": 9,
   "metadata": {},
   "outputs": [
    {
     "data": {
      "text/plain": [
       "array([  9,  30,  29, 125,  16,  70,  27,  22,  55,   1, 247, 187, 224,\n",
       "        24,   5,  44,  52, 202, 149, 102,  37,  53,  78, 220,  71,  11,\n",
       "        84, 140,  10,  28,  15, 113, 277,   8, 126,   7, 136])"
      ]
     },
     "execution_count": 9,
     "metadata": {},
     "output_type": "execute_result"
    }
   ],
   "source": [
    "merged_df['review_count'].unique()"
   ]
  },
  {
   "cell_type": "code",
   "execution_count": 11,
   "metadata": {},
   "outputs": [
    {
     "data": {
      "text/plain": [
       "97.0     43\n",
       "99.0     41\n",
       "95.0     39\n",
       "96.5     39\n",
       "98.5     38\n",
       "96.0     37\n",
       "97.5     32\n",
       "95.5     22\n",
       "98.0     21\n",
       "99.5     15\n",
       "100.0    15\n",
       "93.0     15\n",
       "93.5     13\n",
       "94.0     10\n",
       "94.5      8\n",
       "92.5      8\n",
       "92.0      6\n",
       "91.5      5\n",
       "91.0      4\n",
       "90.0      3\n",
       "88.0      2\n",
       "84.0      2\n",
       "79.0      1\n",
       "84.5      1\n",
       "83.0      1\n",
       "85.5      1\n",
       "87.5      1\n",
       "86.0      1\n",
       "88.5      1\n",
       "Name: inspection_score, dtype: int64"
      ]
     },
     "execution_count": 11,
     "metadata": {},
     "output_type": "execute_result"
    }
   ],
   "source": [
    "merged_df['inspection_score'].value_counts()"
   ]
  },
  {
   "cell_type": "markdown",
   "metadata": {},
   "source": [
    "# Data Analysis & Results"
   ]
  },
  {
   "cell_type": "markdown",
   "metadata": {},
   "source": [
    "Include cells that describe the steps in your data analysis."
   ]
  },
  {
   "cell_type": "code",
   "execution_count": 14,
   "metadata": {},
   "outputs": [
    {
     "data": {
      "image/png": "[encoded data removed]",
      "text/plain": [
       "<Figure size 432x288 with 9 Axes>"
      ]
     },
     "metadata": {
      "needs_background": "light"
     },
     "output_type": "display_data"
    }
   ],
   "source": [
    "## YOUR CODE HERE\n",
    "\n",
    "scatter_m = pd.plotting.scatter_matrix(merged_df[['rating', 'review_count', 'inspection_score']])"
   ]
  },
  {
   "cell_type": "code",
   "execution_count": 21,
   "metadata": {},
   "outputs": [
    {
     "data": {
      "text/plain": [
       "<matplotlib.axes._subplots.AxesSubplot at 0x7fd1f7218630>"
      ]
     },
     "execution_count": 21,
     "metadata": {},
     "output_type": "execute_result"
    },
    {
     "data": {
      "image/png": "[encoded data removed]",
      "text/plain": [
       "<Figure size 432x288 with 1 Axes>"
      ]
     },
     "metadata": {
      "needs_background": "light"
     },
     "output_type": "display_data"
    }
   ],
   "source": [
    "sns.countplot(x='rating', data = merged_df)"
   ]
  },
  {
   "cell_type": "code",
   "execution_count": 23,
   "metadata": {},
   "outputs": [
    {
     "data": {
      "text/plain": [
       "<matplotlib.axes._subplots.AxesSubplot at 0x7fd1f783fcc0>"
      ]
     },
     "execution_count": 23,
     "metadata": {},
     "output_type": "execute_result"
    },
    {
     "data": {
      "image/png": "[encoded data removed]",
      "text/plain": [
       "<Figure size 432x288 with 1 Axes>"
      ]
     },
     "metadata": {
      "needs_background": "light"
     },
     "output_type": "display_data"
    }
   ],
   "source": [
    "sns.distplot(merged_df['review_count'], kde=False)"
   ]
  },
  {
   "cell_type": "code",
   "execution_count": 20,
   "metadata": {},
   "outputs": [
    {
     "data": {
      "text/plain": [
       "<matplotlib.axes._subplots.AxesSubplot at 0x7fd1f72aa668>"
      ]
     },
     "execution_count": 20,
     "metadata": {},
     "output_type": "execute_result"
    },
    {
     "data": {
      "image/png": "[encoded data removed]",
      "text/plain": [
       "<Figure size 432x288 with 1 Axes>"
      ]
     },
     "metadata": {
      "needs_background": "light"
     },
     "output_type": "display_data"
    }
   ],
   "source": [
    "sns.distplot(merged_df['inspection_score'])"
   ]
  },
  {
   "cell_type": "code",
   "execution_count": 24,
   "metadata": {},
   "outputs": [],
   "source": [
    "rating = merged_df['rating']\n",
    "score = merged_df['inspection_score']\n",
    "\n",
    "a1, b1 = np.polyfit(rating, score, 1)"
   ]
  },
  {
   "cell_type": "code",
   "execution_count": 26,
   "metadata": {},
   "outputs": [
    {
     "data": {
      "text/plain": [
       "array([95.83348453, 95.99118224, 96.14887996, 96.30657767])"
      ]
     },
     "execution_count": 26,
     "metadata": {},
     "output_type": "execute_result"
    }
   ],
   "source": [
    "pred_rating = a1 * np.arange(1.0, 4.5) + b1"
   ]
  },
  {
   "cell_type": "code",
   "execution_count": 32,
   "metadata": {},
   "outputs": [
    {
     "data": {
      "text/plain": [
       "[<matplotlib.lines.Line2D at 0x7fd1f799d9b0>]"
      ]
     },
     "execution_count": 32,
     "metadata": {},
     "output_type": "execute_result"
    },
    {
     "data": {
      "image/png": "[encoded data removed]",
      "text/plain": [
       "<Figure size 432x288 with 1 Axes>"
      ]
     },
     "metadata": {
      "needs_background": "light"
     },
     "output_type": "display_data"
    }
   ],
   "source": [
    "plt.scatter('rating', 'inspection_score', data=merged_df, marker = '.');\n",
    "\n",
    "plt.plot(np.arange(1.0,4.5), pred_rating, 'r')"
   ]
  },
  {
   "cell_type": "markdown",
   "metadata": {},
   "source": [
    "Using a scatterplot to predict inspection score from ratings seems to not be working so I skipped using it for the review count.\n",
    "\n",
    "I will use OLS to predict in the next cell with an alpha value 0f 0.05"
   ]
  },
  {
   "cell_type": "code",
   "execution_count": 30,
   "metadata": {},
   "outputs": [],
   "source": [
    "outcome_1, predictors_1 = patsy.dmatrices('inspection_score ~ rating', merged_df) \n",
    "\n",
    "mod_1 = sm.OLS(outcome_1, predictors_1)\n",
    "\n",
    "res_1 = mod_1.fit()"
   ]
  },
  {
   "cell_type": "code",
   "execution_count": 31,
   "metadata": {},
   "outputs": [
    {
     "name": "stdout",
     "output_type": "stream",
     "text": [
      "                            OLS Regression Results                            \n",
      "==============================================================================\n",
      "Dep. Variable:       inspection_score   R-squared:                       0.003\n",
      "Model:                            OLS   Adj. R-squared:                  0.000\n",
      "Method:                 Least Squares   F-statistic:                     1.166\n",
      "Date:                Thu, 11 Jun 2020   Prob (F-statistic):              0.281\n",
      "Time:                        20:40:00   Log-Likelihood:                -1043.4\n",
      "No. Observations:                 425   AIC:                             2091.\n",
      "Df Residuals:                     423   BIC:                             2099.\n",
      "Df Model:                           1                                         \n",
      "Covariance Type:            nonrobust                                         \n",
      "==============================================================================\n",
      "                 coef    std err          t      P>|t|      [0.025      0.975]\n",
      "------------------------------------------------------------------------------\n",
      "Intercept     95.6758      0.521    183.533      0.000      94.651      96.700\n",
      "rating         0.1577      0.146      1.080      0.281      -0.129       0.445\n",
      "==============================================================================\n",
      "Omnibus:                      184.116   Durbin-Watson:                   1.244\n",
      "Prob(Omnibus):                  0.000   Jarque-Bera (JB):              899.625\n",
      "Skew:                          -1.852   Prob(JB):                    4.45e-196\n",
      "Kurtosis:                       9.089   Cond. No.                         14.6\n",
      "==============================================================================\n",
      "\n",
      "Warnings:\n",
      "[1] Standard Errors assume that the covariance matrix of the errors is correctly specified.\n"
     ]
    }
   ],
   "source": [
    "print(res_1.summary())"
   ]
  },
  {
   "cell_type": "code",
   "execution_count": 33,
   "metadata": {},
   "outputs": [],
   "source": [
    "outcome_2, predictors_2 = patsy.dmatrices('inspection_score ~ review_count', merged_df) \n",
    "\n",
    "mod_2 = sm.OLS(outcome_2, predictors_2)\n",
    "\n",
    "res_2 = mod_2.fit()"
   ]
  },
  {
   "cell_type": "code",
   "execution_count": 34,
   "metadata": {},
   "outputs": [
    {
     "name": "stdout",
     "output_type": "stream",
     "text": [
      "                            OLS Regression Results                            \n",
      "==============================================================================\n",
      "Dep. Variable:       inspection_score   R-squared:                       0.010\n",
      "Model:                            OLS   Adj. R-squared:                  0.008\n",
      "Method:                 Least Squares   F-statistic:                     4.312\n",
      "Date:                Thu, 11 Jun 2020   Prob (F-statistic):             0.0384\n",
      "Time:                        20:44:00   Log-Likelihood:                -1041.9\n",
      "No. Observations:                 425   AIC:                             2088.\n",
      "Df Residuals:                     423   BIC:                             2096.\n",
      "Df Model:                           1                                         \n",
      "Covariance Type:            nonrobust                                         \n",
      "================================================================================\n",
      "                   coef    std err          t      P>|t|      [0.025      0.975]\n",
      "--------------------------------------------------------------------------------\n",
      "Intercept       95.9285      0.195    490.856      0.000      95.544      96.313\n",
      "review_count     0.0043      0.002      2.077      0.038       0.000       0.008\n",
      "==============================================================================\n",
      "Omnibus:                      182.692   Durbin-Watson:                   1.264\n",
      "Prob(Omnibus):                  0.000   Jarque-Bera (JB):              886.010\n",
      "Skew:                          -1.839   Prob(JB):                    4.03e-193\n",
      "Kurtosis:                       9.043   Cond. No.                         134.\n",
      "==============================================================================\n",
      "\n",
      "Warnings:\n",
      "[1] Standard Errors assume that the covariance matrix of the errors is correctly specified.\n"
     ]
    }
   ],
   "source": [
    "print(res_2.summary())"
   ]
  },
  {
   "cell_type": "markdown",
   "metadata": {},
   "source": [
    "# Ethics & Privacy"
   ]
  },
  {
   "cell_type": "markdown",
   "metadata": {},
   "source": [
    "*Fill in your ethics & privacy discussion here*"
   ]
  },
  {
   "cell_type": "markdown",
   "metadata": {},
   "source": [
    "# Conclusion & Discussion"
   ]
  },
  {
   "cell_type": "markdown",
   "metadata": {},
   "source": [
    "*Fill in your discussion information here*"
   ]
  }
 ],
 "metadata": {
  "kernelspec": {
   "display_name": "Python 3",
   "language": "python",
   "name": "python3"
  },
  "language_info": {
   "codemirror_mode": {
    "name": "ipython",
    "version": 3
   },
   "file_extension": ".py",
   "mimetype": "text/x-python",
   "name": "python",
   "nbconvert_exporter": "python",
   "pygments_lexer": "ipython3",
   "version": "3.6.7"
  }
 },
 "nbformat": 4,
 "nbformat_minor": 2
}
