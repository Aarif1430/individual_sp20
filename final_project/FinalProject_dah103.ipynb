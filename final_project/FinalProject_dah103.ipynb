{
 "cells": [
  {
   "cell_type": "markdown",
   "metadata": {},
   "source": [
    "# COGS 108 - Final Project "
   ]
  },
  {
   "cell_type": "markdown",
   "metadata": {},
   "source": [
    "# Overview "
   ]
  },
  {
   "cell_type": "markdown",
   "metadata": {},
   "source": [
    "In this project, the possibility of a negative relationship between the number of critical violations and the score given to restaurants in the 27511 postal code of Wake County, North Carolina is analyzed. Additionally, it is investigated if  such relationship correlates with the violation made. To conduct this research, the data gathered focuses on restaurant inspections only, within the Chemical category of the North Carolina risk factor. Through data cleaning and data analysis, it is identified that there is a negative relationship between the number of critical violations and the given score for restaurants in the 27511 postal code of Wake County, North Carolina. In addition, it is found that this relationship does not correlate with the violation type made."
   ]
  },
  {
   "cell_type": "markdown",
   "metadata": {},
   "source": [
    "# Name & GitHub\n",
    "\n",
    "- ### Name: Daniela Hernandez \n",
    "- ### GitHub Username: dah103"
   ]
  },
  {
   "cell_type": "markdown",
   "metadata": {},
   "source": [
    "# Research Question"
   ]
  },
  {
   "cell_type": "markdown",
   "metadata": {},
   "source": [
    "Is there a negative relationship between the number of critical violations and the given score for restaurants in the 27511 postal code of Wake County, North Carolina, and does this relationship correlate with the type of violation made?  "
   ]
  },
  {
   "cell_type": "markdown",
   "metadata": {},
   "source": [
    "## Background and Prior Work"
   ]
  },
  {
   "cell_type": "markdown",
   "metadata": {},
   "source": [
    "When conducting food inspections, the Wake County health department assesses any violations that are present in active food service facilities. These violations are listed accordingly with violations codes and through the CDC Risk Factors guidelines [1]. Conducting these inspections allows for the prevention of any health hazards, and for both the location and elimination of a hazardous source \"in the event of disease outbreak\" [1]. Furthermore, the spread of foodborne illness can be decreased by identifying these violations. As expressed in a 2016 article from *Triangle Business Journal*, the spread of foodborne illness is increased when a critical violation is present [2]. Hence, it is unsurprising that inspections \"focus more on the critical violation risk factors\" [3].  \n",
    "\n",
    "With this in mind, the research question here aims to identify whether there is a negative relationship between a restaurant's number of critical violations and its given score. Having a negative relationship between these two variables indicates that if there are a lot of critical violations, the score given to a restaurant should be lower. In other words, if one variable is higher, the other should be lower, Identifying if such relationship exists can help decrease a restaurant's number of critical violations, since the score can provide restaurants with a motivation to improve their sanitation conditions. In return, the health inspection process can be a much faster procedure since there would be less critical violations to analyze. Similarly, if there is a correlation between the violation type and the negative relationship previously described, then the inspection process can also be made more efficient because of the fewer violations, and for increased chances of correcting anything during the inspection instead of requiring further verifaction or be considered a repeated violation.\n",
    "\n",
    "To better investigate this question, two GitHub source about food inspections in Wake County were assessed. The first source was a predictive project that ranks the health-violation risk for restaurants in Wake County [4]. This source focuses on just restaurants in Wake County, something that will be similarly applied with this research question. In contrast, Yelp ratings and comments will not be considered, since it does not necessarily apply to the question being asked, something that this first source does require. As for the second source, it is not clear exactly what they were analyzing by considering Wake County Restaurant inspections, but the observations kept within their datasets, such as the inspection type and the score, prove useful for any data cleaning that this research question will require [5]. In all, using both sources will provide an additional help to carry out the research question being asked.  \n",
    " \n",
    "References:\n",
    "\n",
    "[1] https://data.wakegov.com/datasets/food-inspection-violations\n",
    "\n",
    "[2] https://www.bizjournals.com/triangle/news/2016/01/29/wake-county-restaurants-health-code-violations.html\n",
    "\n",
    "[3] http://www.wakegov.com/food/healthinspections/tidbits/documents/explanationofnewinspectionform.pdf\n",
    "\n",
    "[4] https://github.com/guyawn/FoodInspections\n",
    "\n",
    "[5] https://github.com/licia858/ETLProject"
   ]
  },
  {
   "cell_type": "markdown",
   "metadata": {},
   "source": [
    "# Hypothesis\n"
   ]
  },
  {
   "cell_type": "markdown",
   "metadata": {},
   "source": [
    "There is a negative relationship between the number of critical violations and the given score for restaurants in the 27511 postal code of Wake County, North Carolina, but this relationship does not correlate with the violation type made. \n",
    "\n",
    "The reasoning behind this hypothesis is that a lower score should be given if the number of critical violations is higher relative to others, especially to maintain accountability in regards to food safety and the prevention of any health issues. That said, the type of violation made should not necessarily correlate with the relationship stated previously, since the violation can be corrected during the inspection (CDI), repeated (R) from the previous inspection, or require verification (VR). This seems to make the violation type to be due to chance, and hence should not necessarily correlate with the relationship between the number of critical violations and the given score for restaurants in the 27511 postal code of Wake County, North Carolina. "
   ]
  },
  {
   "cell_type": "markdown",
   "metadata": {},
   "source": [
    "# Dataset(s)"
   ]
  },
  {
   "cell_type": "markdown",
   "metadata": {},
   "source": [
    "Dataset Name: inspections.csv\n",
    "Link to the dataset: Provided \n",
    "Number of observations: 8 observations kept out of 36 observations total (columns)\n",
    "The observations kept consist of: HSISID, Zip, Facility, Type, InspectionNum, CriticalNum, NonCriticalNum, and Score. This is to adequately analyze if the critical number negatively relates to the score given to a restaurant in an inspection. \n",
    "\n",
    "Dataset Name: violations.csv\n",
    "Link to the dataset: Provided\n",
    "Number of observations: 4 observations kept out of 18 observations total (columns)\n",
    "The observations kept consist of: HSISID, Category, Severity, and ViolationType. This is to combine this dataset with the first dataset based on the HSISID, and adequately analyze if the critical number negatively relates to the score given to a restaurant in an inspection. \n",
    "\n",
    "Both of these datasets will be combined by merging them via their HSISID, since both data sets include this information. "
   ]
  },
  {
   "cell_type": "markdown",
   "metadata": {},
   "source": [
    "# Setup"
   ]
  },
  {
   "cell_type": "code",
   "execution_count": 1,
   "metadata": {},
   "outputs": [],
   "source": [
    "# Imports\n",
    "%matplotlib inline\n",
    "import numpy as np\n",
    "import pandas as pd\n",
    "import matplotlib.pyplot as plt\n",
    "import seaborn as sns"
   ]
  },
  {
   "cell_type": "markdown",
   "metadata": {},
   "source": [
    "# Data Cleaning"
   ]
  },
  {
   "cell_type": "markdown",
   "metadata": {},
   "source": [
    "Data Cleaning Steps: \n",
    "\n",
    "After opening the inspections.csv file, the describe function was used to identify what observations the dataset came with, in particular the columns for each facility. After fully coming up with a research question, the columns not directly related to the research question were dropped. The columns that were kept were then reformatted to be in an order that was easier to read from left to right (eg. having the HSISID at the left, and the score at the right. The columns kept were also renamed so as to provide a more informative name. The rows that were dropped were the ones that were not restaurants, and the ones that had scores less than or equal to 95.0, since a score above that was a more reasonable score to accept in reading the information provided from the first source. The same process was done with the violations.csv file, keeping only the relevant columns and the rows that were in the chemical category.  \n",
    "\n",
    "Once both files had been cleaned, they were merged by the HSISID for better comparison purposes. The columns were again reorganized from left to right for easier understanding and reading, again, leaving HSISID at the left and the score at the right. Additionally, the rows that were not in the 27511 postal code were dropped, so as to focus on one postal zip code. "
   ]
  },
  {
   "cell_type": "code",
   "execution_count": 2,
   "metadata": {},
   "outputs": [
    {
     "data": {
      "text/html": [
       "<div>\n",
       "<style scoped>\n",
       "    .dataframe tbody tr th:only-of-type {\n",
       "        vertical-align: middle;\n",
       "    }\n",
       "\n",
       "    .dataframe tbody tr th {\n",
       "        vertical-align: top;\n",
       "    }\n",
       "\n",
       "    .dataframe thead th {\n",
       "        text-align: right;\n",
       "    }\n",
       "</style>\n",
       "<table border=\"1\" class=\"dataframe\">\n",
       "  <thead>\n",
       "    <tr style=\"text-align: right;\">\n",
       "      <th></th>\n",
       "      <th>HSISID</th>\n",
       "      <th>Zip</th>\n",
       "      <th>Facility</th>\n",
       "      <th>Type</th>\n",
       "      <th>InspectionNum</th>\n",
       "      <th>CriticalNum</th>\n",
       "      <th>NonCriticalNum</th>\n",
       "      <th>Score</th>\n",
       "    </tr>\n",
       "  </thead>\n",
       "  <tbody>\n",
       "    <tr>\n",
       "      <th>10</th>\n",
       "      <td>4092012132</td>\n",
       "      <td>27529</td>\n",
       "      <td>Restaurant</td>\n",
       "      <td>Inspection</td>\n",
       "      <td>1</td>\n",
       "      <td>4</td>\n",
       "      <td>12</td>\n",
       "      <td>94.5</td>\n",
       "    </tr>\n",
       "    <tr>\n",
       "      <th>11</th>\n",
       "      <td>4092012996</td>\n",
       "      <td>27511</td>\n",
       "      <td>Restaurant</td>\n",
       "      <td>Inspection</td>\n",
       "      <td>1</td>\n",
       "      <td>2</td>\n",
       "      <td>10</td>\n",
       "      <td>92.0</td>\n",
       "    </tr>\n",
       "    <tr>\n",
       "      <th>20</th>\n",
       "      <td>4092011235</td>\n",
       "      <td>27616</td>\n",
       "      <td>Restaurant</td>\n",
       "      <td>Inspection</td>\n",
       "      <td>1</td>\n",
       "      <td>7</td>\n",
       "      <td>11</td>\n",
       "      <td>94.0</td>\n",
       "    </tr>\n",
       "    <tr>\n",
       "      <th>27</th>\n",
       "      <td>4092014886</td>\n",
       "      <td>27587</td>\n",
       "      <td>Restaurant</td>\n",
       "      <td>Inspection</td>\n",
       "      <td>1</td>\n",
       "      <td>1</td>\n",
       "      <td>4</td>\n",
       "      <td>94.0</td>\n",
       "    </tr>\n",
       "    <tr>\n",
       "      <th>32</th>\n",
       "      <td>4092011879</td>\n",
       "      <td>27613</td>\n",
       "      <td>Restaurant</td>\n",
       "      <td>Inspection</td>\n",
       "      <td>1</td>\n",
       "      <td>6</td>\n",
       "      <td>15</td>\n",
       "      <td>92.5</td>\n",
       "    </tr>\n",
       "    <tr>\n",
       "      <th>...</th>\n",
       "      <td>...</td>\n",
       "      <td>...</td>\n",
       "      <td>...</td>\n",
       "      <td>...</td>\n",
       "      <td>...</td>\n",
       "      <td>...</td>\n",
       "      <td>...</td>\n",
       "      <td>...</td>\n",
       "    </tr>\n",
       "    <tr>\n",
       "      <th>18436</th>\n",
       "      <td>4092016752</td>\n",
       "      <td>27560</td>\n",
       "      <td>Restaurant</td>\n",
       "      <td>Inspection</td>\n",
       "      <td>5</td>\n",
       "      <td>6</td>\n",
       "      <td>14</td>\n",
       "      <td>90.5</td>\n",
       "    </tr>\n",
       "    <tr>\n",
       "      <th>18438</th>\n",
       "      <td>4092016828</td>\n",
       "      <td>27601</td>\n",
       "      <td>Restaurant</td>\n",
       "      <td>Inspection</td>\n",
       "      <td>4</td>\n",
       "      <td>8</td>\n",
       "      <td>14</td>\n",
       "      <td>85.5</td>\n",
       "    </tr>\n",
       "    <tr>\n",
       "      <th>18449</th>\n",
       "      <td>4092014097</td>\n",
       "      <td>27603</td>\n",
       "      <td>Restaurant</td>\n",
       "      <td>Inspection</td>\n",
       "      <td>9</td>\n",
       "      <td>3</td>\n",
       "      <td>5</td>\n",
       "      <td>95.0</td>\n",
       "    </tr>\n",
       "    <tr>\n",
       "      <th>18453</th>\n",
       "      <td>4092015590</td>\n",
       "      <td>27539</td>\n",
       "      <td>Restaurant</td>\n",
       "      <td>Inspection</td>\n",
       "      <td>9</td>\n",
       "      <td>2</td>\n",
       "      <td>7</td>\n",
       "      <td>93.5</td>\n",
       "    </tr>\n",
       "    <tr>\n",
       "      <th>18457</th>\n",
       "      <td>4092017172</td>\n",
       "      <td>27511</td>\n",
       "      <td>Restaurant</td>\n",
       "      <td>Inspection</td>\n",
       "      <td>2</td>\n",
       "      <td>4</td>\n",
       "      <td>3</td>\n",
       "      <td>95.0</td>\n",
       "    </tr>\n",
       "  </tbody>\n",
       "</table>\n",
       "<p>4454 rows × 8 columns</p>\n",
       "</div>"
      ],
      "text/plain": [
       "           HSISID    Zip    Facility        Type  InspectionNum  CriticalNum  \\\n",
       "10     4092012132  27529  Restaurant  Inspection              1            4   \n",
       "11     4092012996  27511  Restaurant  Inspection              1            2   \n",
       "20     4092011235  27616  Restaurant  Inspection              1            7   \n",
       "27     4092014886  27587  Restaurant  Inspection              1            1   \n",
       "32     4092011879  27613  Restaurant  Inspection              1            6   \n",
       "...           ...    ...         ...         ...            ...          ...   \n",
       "18436  4092016752  27560  Restaurant  Inspection              5            6   \n",
       "18438  4092016828  27601  Restaurant  Inspection              4            8   \n",
       "18449  4092014097  27603  Restaurant  Inspection              9            3   \n",
       "18453  4092015590  27539  Restaurant  Inspection              9            2   \n",
       "18457  4092017172  27511  Restaurant  Inspection              2            4   \n",
       "\n",
       "       NonCriticalNum  Score  \n",
       "10                 12   94.5  \n",
       "11                 10   92.0  \n",
       "20                 11   94.0  \n",
       "27                  4   94.0  \n",
       "32                 15   92.5  \n",
       "...               ...    ...  \n",
       "18436              14   90.5  \n",
       "18438              14   85.5  \n",
       "18449               5   95.0  \n",
       "18453               7   93.5  \n",
       "18457               3   95.0  \n",
       "\n",
       "[4454 rows x 8 columns]"
      ]
     },
     "execution_count": 2,
     "metadata": {},
     "output_type": "execute_result"
    }
   ],
   "source": [
    "# read csv file\n",
    "df_ins = pd.read_csv('inspections.csv')\n",
    "# drop columns not directly related to the research question \n",
    "df_ins = df_ins.drop(['date', 'name', 'address1', 'address2', 'city', 'postalcode', 'phonenumber', 'restaurantopendate', 'days_from_open_date', 'x', 'y', 'geocodestatus', 'inspectedby', 'previous_inspection_date', 'days_since_previous_inspection', 'description','previous_inspection_by_same_inspector', 'state', 'inspector_id', 'avg_neighbor_num_critical','avg_neighbor_num_non_critical', 'top_match', 'second_match', 'num_critical_previous', 'num_non_critical_previous', 'num_critical_mean_previous', 'num_non_critical_mean_previous'], axis=1)\n",
    "# focus on restaurants only\n",
    "df_ins = df_ins[df_ins.facilitytype == 'Restaurant']\n",
    "# reorganize columns for better left to right reading\n",
    "df_ins = df_ins[['hsisid', 'zip', 'facilitytype', 'type', 'inspection_num', 'num_critical', 'num_non_critical', 'score']]\n",
    "# rename columns for better understanding\n",
    "df_ins = df_ins.rename(columns = {'hsisid': 'HSISID', 'zip': 'Zip', 'facilitytype': 'Facility', 'type': 'Type', 'inspection_num': 'InspectionNum', 'num_critical': 'CriticalNum', 'num_non_critical': 'NonCriticalNum', 'score': 'Score'})\n",
    "# analyze restaurants with scores less than 95.0\n",
    "# this is to see if in fact the critical number negatively relates to the given score\n",
    "df_ins = df_ins[df_ins.Score <= 95.0]\n",
    "# print df_ins\n",
    "df_ins"
   ]
  },
  {
   "cell_type": "code",
   "execution_count": 3,
   "metadata": {},
   "outputs": [
    {
     "data": {
      "text/html": [
       "<div>\n",
       "<style scoped>\n",
       "    .dataframe tbody tr th:only-of-type {\n",
       "        vertical-align: middle;\n",
       "    }\n",
       "\n",
       "    .dataframe tbody tr th {\n",
       "        vertical-align: top;\n",
       "    }\n",
       "\n",
       "    .dataframe thead th {\n",
       "        text-align: right;\n",
       "    }\n",
       "</style>\n",
       "<table border=\"1\" class=\"dataframe\">\n",
       "  <thead>\n",
       "    <tr style=\"text-align: right;\">\n",
       "      <th></th>\n",
       "      <th>HSISID</th>\n",
       "      <th>Category</th>\n",
       "      <th>Severity</th>\n",
       "      <th>ViolationType</th>\n",
       "    </tr>\n",
       "  </thead>\n",
       "  <tbody>\n",
       "    <tr>\n",
       "      <th>0</th>\n",
       "      <td>4092015279</td>\n",
       "      <td>Chemical</td>\n",
       "      <td>Priority Foundation</td>\n",
       "      <td>R</td>\n",
       "    </tr>\n",
       "    <tr>\n",
       "      <th>1</th>\n",
       "      <td>4092014572</td>\n",
       "      <td>Chemical</td>\n",
       "      <td>Priority Foundation</td>\n",
       "      <td>CDI</td>\n",
       "    </tr>\n",
       "    <tr>\n",
       "      <th>2</th>\n",
       "      <td>4092015906</td>\n",
       "      <td>Chemical</td>\n",
       "      <td>Priority Foundation</td>\n",
       "      <td>CDI</td>\n",
       "    </tr>\n",
       "    <tr>\n",
       "      <th>3</th>\n",
       "      <td>4092013840</td>\n",
       "      <td>Chemical</td>\n",
       "      <td>Priority Foundation</td>\n",
       "      <td>CDI</td>\n",
       "    </tr>\n",
       "    <tr>\n",
       "      <th>4</th>\n",
       "      <td>4092021788</td>\n",
       "      <td>Chemical</td>\n",
       "      <td>Priority Foundation</td>\n",
       "      <td>CDI</td>\n",
       "    </tr>\n",
       "    <tr>\n",
       "      <th>...</th>\n",
       "      <td>...</td>\n",
       "      <td>...</td>\n",
       "      <td>...</td>\n",
       "      <td>...</td>\n",
       "    </tr>\n",
       "    <tr>\n",
       "      <th>189797</th>\n",
       "      <td>4092015549</td>\n",
       "      <td>Chemical</td>\n",
       "      <td>Priority Foundation</td>\n",
       "      <td>CDI</td>\n",
       "    </tr>\n",
       "    <tr>\n",
       "      <th>189798</th>\n",
       "      <td>4092016135</td>\n",
       "      <td>Chemical</td>\n",
       "      <td>Priority Foundation</td>\n",
       "      <td>R</td>\n",
       "    </tr>\n",
       "    <tr>\n",
       "      <th>189799</th>\n",
       "      <td>4092020997</td>\n",
       "      <td>Chemical</td>\n",
       "      <td>Priority Foundation</td>\n",
       "      <td>CDI</td>\n",
       "    </tr>\n",
       "    <tr>\n",
       "      <th>189800</th>\n",
       "      <td>4092021798</td>\n",
       "      <td>Chemical</td>\n",
       "      <td>Priority Foundation</td>\n",
       "      <td>NaN</td>\n",
       "    </tr>\n",
       "    <tr>\n",
       "      <th>189801</th>\n",
       "      <td>4092015279</td>\n",
       "      <td>Chemical</td>\n",
       "      <td>Priority Foundation</td>\n",
       "      <td>CDI</td>\n",
       "    </tr>\n",
       "  </tbody>\n",
       "</table>\n",
       "<p>5579 rows × 4 columns</p>\n",
       "</div>"
      ],
      "text/plain": [
       "            HSISID  Category             Severity ViolationType\n",
       "0       4092015279  Chemical  Priority Foundation             R\n",
       "1       4092014572  Chemical  Priority Foundation           CDI\n",
       "2       4092015906  Chemical  Priority Foundation           CDI\n",
       "3       4092013840  Chemical  Priority Foundation           CDI\n",
       "4       4092021788  Chemical  Priority Foundation           CDI\n",
       "...            ...       ...                  ...           ...\n",
       "189797  4092015549  Chemical  Priority Foundation           CDI\n",
       "189798  4092016135  Chemical  Priority Foundation             R\n",
       "189799  4092020997  Chemical  Priority Foundation           CDI\n",
       "189800  4092021798  Chemical  Priority Foundation           NaN\n",
       "189801  4092015279  Chemical  Priority Foundation           CDI\n",
       "\n",
       "[5579 rows x 4 columns]"
      ]
     },
     "execution_count": 3,
     "metadata": {},
     "output_type": "execute_result"
    }
   ],
   "source": [
    "# read csv file\n",
    "df_vio = pd.read_csv('violations.csv')\n",
    "# drop columns not directly related to the research question \n",
    "df_vio = df_vio.drop(['X.objectid','inspectdate', 'inspectedby', 'comments', 'statecode','questionno', 'violationcode', 'shortdesc', 'count', 'cdcdataitem', 'critical', 'cdcriskfactor', 'pointvalue', 'observationtype'], axis=1)\n",
    "# drop the rows that are not in the Chemical category\n",
    "df_vio = df_vio[df_vio.category == 'Chemical']\n",
    "# rename columns for better understanding\n",
    "df_vio = df_vio.rename(columns={'hsisid': 'HSISID', 'category': 'Category', 'severity': 'Severity', 'violationtype': 'ViolationType'})\n",
    "# print df_vio\n",
    "df_vio"
   ]
  },
  {
   "cell_type": "code",
   "execution_count": 4,
   "metadata": {},
   "outputs": [
    {
     "data": {
      "text/html": [
       "<div>\n",
       "<style scoped>\n",
       "    .dataframe tbody tr th:only-of-type {\n",
       "        vertical-align: middle;\n",
       "    }\n",
       "\n",
       "    .dataframe tbody tr th {\n",
       "        vertical-align: top;\n",
       "    }\n",
       "\n",
       "    .dataframe thead th {\n",
       "        text-align: right;\n",
       "    }\n",
       "</style>\n",
       "<table border=\"1\" class=\"dataframe\">\n",
       "  <thead>\n",
       "    <tr style=\"text-align: right;\">\n",
       "      <th></th>\n",
       "      <th>HSISID</th>\n",
       "      <th>Zip</th>\n",
       "      <th>Facility</th>\n",
       "      <th>Type</th>\n",
       "      <th>Category</th>\n",
       "      <th>Severity</th>\n",
       "      <th>ViolationType</th>\n",
       "      <th>InspectionNum</th>\n",
       "      <th>CriticalNum</th>\n",
       "      <th>Score</th>\n",
       "    </tr>\n",
       "  </thead>\n",
       "  <tbody>\n",
       "    <tr>\n",
       "      <th>7</th>\n",
       "      <td>4092012996</td>\n",
       "      <td>27511</td>\n",
       "      <td>Restaurant</td>\n",
       "      <td>Inspection</td>\n",
       "      <td>Chemical</td>\n",
       "      <td>Priority</td>\n",
       "      <td>1.0</td>\n",
       "      <td>1</td>\n",
       "      <td>2</td>\n",
       "      <td>92.0</td>\n",
       "    </tr>\n",
       "    <tr>\n",
       "      <th>8</th>\n",
       "      <td>4092012996</td>\n",
       "      <td>27511</td>\n",
       "      <td>Restaurant</td>\n",
       "      <td>Inspection</td>\n",
       "      <td>Chemical</td>\n",
       "      <td>Priority</td>\n",
       "      <td>1.0</td>\n",
       "      <td>1</td>\n",
       "      <td>2</td>\n",
       "      <td>92.0</td>\n",
       "    </tr>\n",
       "    <tr>\n",
       "      <th>9</th>\n",
       "      <td>4092012996</td>\n",
       "      <td>27511</td>\n",
       "      <td>Restaurant</td>\n",
       "      <td>Inspection</td>\n",
       "      <td>Chemical</td>\n",
       "      <td>Priority</td>\n",
       "      <td>2.0</td>\n",
       "      <td>1</td>\n",
       "      <td>2</td>\n",
       "      <td>92.0</td>\n",
       "    </tr>\n",
       "    <tr>\n",
       "      <th>10</th>\n",
       "      <td>4092012996</td>\n",
       "      <td>27511</td>\n",
       "      <td>Restaurant</td>\n",
       "      <td>Inspection</td>\n",
       "      <td>Chemical</td>\n",
       "      <td>Priority</td>\n",
       "      <td>1.0</td>\n",
       "      <td>3</td>\n",
       "      <td>10</td>\n",
       "      <td>93.5</td>\n",
       "    </tr>\n",
       "    <tr>\n",
       "      <th>11</th>\n",
       "      <td>4092012996</td>\n",
       "      <td>27511</td>\n",
       "      <td>Restaurant</td>\n",
       "      <td>Inspection</td>\n",
       "      <td>Chemical</td>\n",
       "      <td>Priority</td>\n",
       "      <td>1.0</td>\n",
       "      <td>3</td>\n",
       "      <td>10</td>\n",
       "      <td>93.5</td>\n",
       "    </tr>\n",
       "    <tr>\n",
       "      <th>...</th>\n",
       "      <td>...</td>\n",
       "      <td>...</td>\n",
       "      <td>...</td>\n",
       "      <td>...</td>\n",
       "      <td>...</td>\n",
       "      <td>...</td>\n",
       "      <td>...</td>\n",
       "      <td>...</td>\n",
       "      <td>...</td>\n",
       "      <td>...</td>\n",
       "    </tr>\n",
       "    <tr>\n",
       "      <th>11551</th>\n",
       "      <td>4092014008</td>\n",
       "      <td>27511</td>\n",
       "      <td>Restaurant</td>\n",
       "      <td>Inspection</td>\n",
       "      <td>Chemical</td>\n",
       "      <td>Priority</td>\n",
       "      <td>3.0</td>\n",
       "      <td>10</td>\n",
       "      <td>3</td>\n",
       "      <td>94.0</td>\n",
       "    </tr>\n",
       "    <tr>\n",
       "      <th>11569</th>\n",
       "      <td>4092013833</td>\n",
       "      <td>27511</td>\n",
       "      <td>Restaurant</td>\n",
       "      <td>Inspection</td>\n",
       "      <td>Chemical</td>\n",
       "      <td>Priority Foundation</td>\n",
       "      <td>NaN</td>\n",
       "      <td>7</td>\n",
       "      <td>5</td>\n",
       "      <td>91.5</td>\n",
       "    </tr>\n",
       "    <tr>\n",
       "      <th>11570</th>\n",
       "      <td>4092013833</td>\n",
       "      <td>27511</td>\n",
       "      <td>Restaurant</td>\n",
       "      <td>Inspection</td>\n",
       "      <td>Chemical</td>\n",
       "      <td>Priority</td>\n",
       "      <td>1.0</td>\n",
       "      <td>7</td>\n",
       "      <td>5</td>\n",
       "      <td>91.5</td>\n",
       "    </tr>\n",
       "    <tr>\n",
       "      <th>11584</th>\n",
       "      <td>4092011649</td>\n",
       "      <td>27511</td>\n",
       "      <td>Restaurant</td>\n",
       "      <td>Inspection</td>\n",
       "      <td>Chemical</td>\n",
       "      <td>Priority</td>\n",
       "      <td>1.0</td>\n",
       "      <td>10</td>\n",
       "      <td>8</td>\n",
       "      <td>94.0</td>\n",
       "    </tr>\n",
       "    <tr>\n",
       "      <th>11585</th>\n",
       "      <td>4092011649</td>\n",
       "      <td>27511</td>\n",
       "      <td>Restaurant</td>\n",
       "      <td>Inspection</td>\n",
       "      <td>Chemical</td>\n",
       "      <td>Priority Foundation</td>\n",
       "      <td>1.0</td>\n",
       "      <td>10</td>\n",
       "      <td>8</td>\n",
       "      <td>94.0</td>\n",
       "    </tr>\n",
       "  </tbody>\n",
       "</table>\n",
       "<p>1284 rows × 10 columns</p>\n",
       "</div>"
      ],
      "text/plain": [
       "           HSISID    Zip    Facility        Type  Category  \\\n",
       "7      4092012996  27511  Restaurant  Inspection  Chemical   \n",
       "8      4092012996  27511  Restaurant  Inspection  Chemical   \n",
       "9      4092012996  27511  Restaurant  Inspection  Chemical   \n",
       "10     4092012996  27511  Restaurant  Inspection  Chemical   \n",
       "11     4092012996  27511  Restaurant  Inspection  Chemical   \n",
       "...           ...    ...         ...         ...       ...   \n",
       "11551  4092014008  27511  Restaurant  Inspection  Chemical   \n",
       "11569  4092013833  27511  Restaurant  Inspection  Chemical   \n",
       "11570  4092013833  27511  Restaurant  Inspection  Chemical   \n",
       "11584  4092011649  27511  Restaurant  Inspection  Chemical   \n",
       "11585  4092011649  27511  Restaurant  Inspection  Chemical   \n",
       "\n",
       "                  Severity  ViolationType  InspectionNum  CriticalNum  Score  \n",
       "7                 Priority            1.0              1            2   92.0  \n",
       "8                 Priority            1.0              1            2   92.0  \n",
       "9                 Priority            2.0              1            2   92.0  \n",
       "10                Priority            1.0              3           10   93.5  \n",
       "11                Priority            1.0              3           10   93.5  \n",
       "...                    ...            ...            ...          ...    ...  \n",
       "11551             Priority            3.0             10            3   94.0  \n",
       "11569  Priority Foundation            NaN              7            5   91.5  \n",
       "11570             Priority            1.0              7            5   91.5  \n",
       "11584             Priority            1.0             10            8   94.0  \n",
       "11585  Priority Foundation            1.0             10            8   94.0  \n",
       "\n",
       "[1284 rows x 10 columns]"
      ]
     },
     "execution_count": 4,
     "metadata": {},
     "output_type": "execute_result"
    }
   ],
   "source": [
    "# merge both df_ins and df_vio on the HSISID\n",
    "df = pd.merge(df_ins, df_vio, on = 'HSISID')\n",
    "# reorganize the columns for easier understanding/readability\n",
    "df = df[['HSISID', 'Zip', 'Facility', 'Type', 'Category', 'Severity', 'ViolationType', 'InspectionNum', 'CriticalNum','Score']]\n",
    "# drop the rows whose zip code is not 27511\n",
    "df = df[df.Zip == 27511]\n",
    "# convert the CDI, R, and VR violation types to numbers 1, 2, 3 respectively\n",
    "df = df.replace('CDI', 1)\n",
    "df = df.replace('R', 2)\n",
    "df = df.replace('VR', 3)\n",
    "# print df\n",
    "df"
   ]
  },
  {
   "cell_type": "markdown",
   "metadata": {},
   "source": [
    "# Data Analysis & Results "
   ]
  },
  {
   "cell_type": "markdown",
   "metadata": {},
   "source": [
    "To begin the data analysis, a histogram was plotted for the ViolationType, CriticalNum, and  Score, all in order to get a better visualization of any potential trends or skews. on the amount of CDI, R, and VR there was. "
   ]
  },
  {
   "cell_type": "code",
   "execution_count": 5,
   "metadata": {},
   "outputs": [
    {
     "data": {
      "image/png": "[encoded data removed]",
      "text/plain": [
       "<Figure size 432x288 with 1 Axes>"
      ]
     },
     "metadata": {
      "needs_background": "light"
     },
     "output_type": "display_data"
    }
   ],
   "source": [
    "df.hist(column = 'ViolationType', bins = 25)\n",
    "f1 = plt.gcf()"
   ]
  },
  {
   "cell_type": "markdown",
   "metadata": {},
   "source": [
    "With this histogram, it is evident that there are a lot more CDI violation types than there are repeat violations, or violations that need further verification. Here, the X axis represents the ViolationType, while the Y axis represents the number of times it is is in the dataset. "
   ]
  },
  {
   "cell_type": "code",
   "execution_count": 6,
   "metadata": {},
   "outputs": [
    {
     "data": {
      "image/png": "[encoded data removed]",
      "text/plain": [
       "<Figure size 432x288 with 1 Axes>"
      ]
     },
     "metadata": {
      "needs_background": "light"
     },
     "output_type": "display_data"
    }
   ],
   "source": [
    "df.hist(column = 'CriticalNum', bins = 45)\n",
    "f2 = plt.gcf()"
   ]
  },
  {
   "cell_type": "markdown",
   "metadata": {},
   "source": [
    "With this histogram, it is evident that there is not really a set skew, even though the critical numbers tend to decrease after the 15th mark. Here, the X axis is the CriticalNum, while the Y axis is the amount of times the CriticalNum was within the dataset. "
   ]
  },
  {
   "cell_type": "code",
   "execution_count": 7,
   "metadata": {},
   "outputs": [
    {
     "data": {
      "image/png": "[encoded data removed]",
      "text/plain": [
       "<Figure size 432x288 with 1 Axes>"
      ]
     },
     "metadata": {
      "needs_background": "light"
     },
     "output_type": "display_data"
    }
   ],
   "source": [
    "df.hist(column = 'Score', bins = 45)\n",
    "f3 = plt.gcf()"
   ]
  },
  {
   "cell_type": "markdown",
   "metadata": {},
   "source": [
    "With this histogram, it is evident that there appears to be a left skew, even though the critical numbers tend to decrease after the 15th mark. Here, the X axis is the score, while the Y axis is the amount of times that score was in the dataset. "
   ]
  },
  {
   "cell_type": "code",
   "execution_count": 8,
   "metadata": {},
   "outputs": [
    {
     "data": {
      "image/png": "[encoded data removed]",
      "text/plain": [
       "<Figure size 720x576 with 9 Axes>"
      ]
     },
     "metadata": {
      "needs_background": "light"
     },
     "output_type": "display_data"
    }
   ],
   "source": [
    "pd.plotting.scatter_matrix(df[['ViolationType', 'CriticalNum', 'Score']], figsize = (10, 8))\n",
    "f4 = plt.gcf()"
   ]
  },
  {
   "cell_type": "markdown",
   "metadata": {},
   "source": [
    "This scatterplot matrix allows for the graphs to be compared to each other. "
   ]
  },
  {
   "cell_type": "code",
   "execution_count": 9,
   "metadata": {},
   "outputs": [
    {
     "data": {
      "image/png": "[encoded data removed]",
      "text/plain": [
       "<Figure size 432x288 with 1 Axes>"
      ]
     },
     "metadata": {
      "needs_background": "light"
     },
     "output_type": "display_data"
    }
   ],
   "source": [
    "df.plot(kind = 'scatter', x = 'CriticalNum', y = 'Score')\n",
    "f5 = plt.gcf()"
   ]
  },
  {
   "cell_type": "markdown",
   "metadata": {},
   "source": [
    "Given the scatter plot above, there is somewhat of a decrease in score as the critical number goes over the 10th mark. "
   ]
  },
  {
   "cell_type": "code",
   "execution_count": 10,
   "metadata": {},
   "outputs": [
    {
     "data": {
      "image/png": "[encoded data removed]",
      "text/plain": [
       "<Figure size 432x288 with 1 Axes>"
      ]
     },
     "metadata": {
      "needs_background": "light"
     },
     "output_type": "display_data"
    }
   ],
   "source": [
    "df.plot(kind = 'scatter', x = 'CriticalNum', y = 'ViolationType')\n",
    "f6 = plt.gcf()"
   ]
  },
  {
   "cell_type": "markdown",
   "metadata": {},
   "source": [
    "ViolationType variable does not cause an increase or decrease in the CriticalNum, or vice versa. Hence, there is not a positive nor a negative correlation between these two variables. "
   ]
  },
  {
   "cell_type": "code",
   "execution_count": 11,
   "metadata": {},
   "outputs": [
    {
     "data": {
      "image/png": "[encoded data removed]",
      "text/plain": [
       "<Figure size 432x288 with 1 Axes>"
      ]
     },
     "metadata": {
      "needs_background": "light"
     },
     "output_type": "display_data"
    }
   ],
   "source": [
    "df.plot(kind = 'scatter', x = 'Score', y = 'ViolationType')\n",
    "f7 = plt.gcf()"
   ]
  },
  {
   "cell_type": "markdown",
   "metadata": {},
   "source": [
    "ViolationType variable does not cause an increase or decrease in the Score, or vice versa. Hence, there is not a positive nor a negative correlation between these two variables. "
   ]
  },
  {
   "cell_type": "markdown",
   "metadata": {},
   "source": [
    "With these visualizations, the hypothesis made can be proved there is not necessarily outliers that could cause an effect in the overall analysis. "
   ]
  },
  {
   "cell_type": "markdown",
   "metadata": {},
   "source": [
    "# Ethics & Privacy"
   ]
  },
  {
   "cell_type": "markdown",
   "metadata": {},
   "source": [
    "In order to properly answer the proposed research question and to account for ethics and privacy concerns, the datasets used were analyzed for potential observations that could inflict harm upon both the restaurant facilities and the individuals in the 27511 postal code of Wake County. The names, along with the corresponding address and phone number  of the restaurants were hence considered potential sources of privacy violations, since both the critical number of violations and the score could lead to an erronous association between the name of a restaurant and its overall sanitation condition. Without context, the name of a given restaurant could evoke an immediate negative view by the public. Dropping these observations in the data cleaning process was therefore carried out, hence establishing the restaurant's identity through the HSISID and the zip code. \n",
    "\n",
    "As for any potential biases within the used datasets, there exists the possibility that the inspector who carried out the inspection could have had a bias towards the restaurant facility they were inspecting. However, given the Wake County health department's information about referring to the CDC guidelines, it is safe to assume that the inspectors conducted their inspection in accordance to the CDC guidelines and the Wake County health department.However, maintaining a regular inspection on this and conducting an analysis on who has performed these inspections will be an important asset to include as an addition to this project. "
   ]
  },
  {
   "cell_type": "markdown",
   "metadata": {},
   "source": [
    "# Conclusion & Discussion"
   ]
  },
  {
   "cell_type": "markdown",
   "metadata": {},
   "source": [
    "This project investigates whether there is a negative relationship between the number of critical violations and the score given to restaurants in the 27511 postal code of Wake County, North Carolina. Additionally, it investigates whether such a relationship correlates with the violation type. After analyzing and reveiwing the data, it is seen that there is in fact a decrease in score as the critical number goes over the 10th mark, something seen in the scatter plot of the CriticalNum and the Score. Hence, the higher the critical number of violations is, the lower the score. As for whether there is a correlation with the previously mentioned relationship and the ViolationType, it was found that there was not a positive nor negative correlation, since the ViolationType variable does not cause an increase or decrease in both the Score and the CriticalNum. Hence, there is not a positive nor a negative correlation between these two variables. Overall, it can be said that the hypothesis made was correct. \n",
    "\n",
    "Having said this, some limitations to this project include the fact that the non critical number of violations were not compared to the score. It could be the case that the non critical number of violations greatly affect the score, especially when combined. This is something that a future analysis can consider as an update to this project. Similarly, another limitation is the fact that a lot of the restaurants are repeated within the dataset. It can hence also be the case that having multiple repetitions of a given facility could have had an effect with the trend of the visualized scatterplot. \n",
    "\n",
    "Overall, this project can hopefully have the scores given in an inspection serve a purpose of motivation for restaurant facilities in the 27511 postal code of Wake County, therefore decreasing the number of critical violations within a restaurant. Furthermore, this can help lead to bettering the health inspection process by making the process much faster and much more efficient. "
   ]
  }
 ],
 "metadata": {
  "kernelspec": {
   "display_name": "Python 3",
   "language": "python",
   "name": "python3"
  },
  "language_info": {
   "codemirror_mode": {
    "name": "ipython",
    "version": 3
   },
   "file_extension": ".py",
   "mimetype": "text/x-python",
   "name": "python",
   "nbconvert_exporter": "python",
   "pygments_lexer": "ipython3",
   "version": "3.6.7"
  }
 },
 "nbformat": 4,
 "nbformat_minor": 2
}
