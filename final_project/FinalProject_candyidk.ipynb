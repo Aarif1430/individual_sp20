{
 "cells": [
  {
   "cell_type": "markdown",
   "metadata": {},
   "source": [
    "# COGS 108 - Final Project "
   ]
  },
  {
   "cell_type": "markdown",
   "metadata": {},
   "source": [
    "# Overview"
   ]
  },
  {
   "cell_type": "markdown",
   "metadata": {},
   "source": [
    "*This project is intended to find if there are underlying factors that affect a restuarant's health inspection score such as income or race. I wanted to see if minorities received lower/higher scores than white people, and if income had affected this. In my models and evaluation, I separated graphs from Race v Score and Race v Income to see if there were initial differences. Then, explored if there was any linear relationship between any of these factors.*"
   ]
  },
  {
   "cell_type": "markdown",
   "metadata": {},
   "source": [
    "# Name & PID\n",
    "\n",
    "- Name: Candy Yu\n",
    "- PID: A15554746"
   ]
  },
  {
   "cell_type": "markdown",
   "metadata": {},
   "source": [
    "# Research Question"
   ]
  },
  {
   "cell_type": "markdown",
   "metadata": {},
   "source": [
    "*Do restaurants located in majority non-white zipcodes (>50%) have a higher or lower score? What about majority white zipcodes (<50%)? Does income explain why there is/isn't a difference in health inspection scores? If there is a difference in income, is it because of zipcodes?*"
   ]
  },
  {
   "cell_type": "markdown",
   "metadata": {},
   "source": [
    "## Background and Prior Work"
   ]
  },
  {
   "cell_type": "markdown",
   "metadata": {},
   "source": [
    "In my first reference, I have included research about low income vs high income restaurants and if there is a correlation between review ratings. In the conclusion, the researcher states that there is no correlation, as restaurants in high income neighborhoods also have low ratings, and vice versa. But, this does not address the racial differences that I am trying to address in this research. I will expand if there actually is no correlation between income levels and restaurant inspection scores AND racial disparities. This result will be different due to different datasets and variables. I will use this project's model evaluation, to determine if there is correlation.\n",
    "\n",
    "In my second reference, I have included information about how segregation effects have lasted to today and affects minorities that leads to low income. The writer stated that \"a color line would divide the types of housing\" and \"has kept [Black communities] out of the best-funded schools and highest-paying jobs\". This also can connect to restaurants, as restaurants hold jobs for  minorities to work in as well, and if restaurants are also separated by neighborhood, restaurants are also low income. The \"color line\" divides white and non whites. The low income and segregated real estate can explain why white people can possibly have a higher up in restaurant wealth and cleanliness because businesses build in places with higher real estate, which can ultimately lead to higher health inspection ratings due to being able to afford the tools to keep up a better score. People living in lower income neighborhoods are unable to bring up their income because all the companies that provide an income that is higher are in the richer (whiter) neighborhoods.\n",
    "\n",
    "In my third reference, I used the grading system for health inspections that is used in North Carolina because we are dealing with zipcodes from North Carolina. Under the \"Counting to 100\" header, it states that a score of 90-100 is an A, a score of 80-89 is a B, and a score of 70-79 is a C. This will be used in converting numeric scores to categorical letter scores. \n",
    "\n",
    "References (include links):\n",
    "- 1) https://medium.com/swlh/is-there-a-correlation-between-a-restaurants-ratings-and-the-income-levels-of-a-neighborhood-5fe41165e4f1\n",
    "    \n",
    "    github link --> https://github.com/jm21/coursera-ibm-data-science-certificate-capston\n",
    "    \n",
    "    \n",
    "- 2) https://www.dissentmagazine.org/article/how-real-estate-segregated-america-fair-housing-act-race\n",
    "\n",
    "- 3) https://www.courier-tribune.com/article/20140830/news/308309822"
   ]
  },
  {
   "cell_type": "markdown",
   "metadata": {},
   "source": [
    "# Hypothesis\n"
   ]
  },
  {
   "cell_type": "markdown",
   "metadata": {},
   "source": [
    "*I believe that in white dominated zipcodes (>50%), the health violations, especially critical violations, would be low due to their economic stability not only in their restaurant, but also in their real estate, where suburbs are inherently racist, which is why white dominated zipcodes have higher income (see background).*\n",
    "\n",
    "*I believe that in majority non white zipcodes (<50%), the health violations will be higher, in critical and noncritical violations, due to economic instability because certain real estates excludes minorities (see background), meaning they usually have lower income.*"
   ]
  },
  {
   "cell_type": "markdown",
   "metadata": {},
   "source": [
    "# Dataset(s)"
   ]
  },
  {
   "cell_type": "markdown",
   "metadata": {},
   "source": [
    "- Dataset Name: zipcodes.csv\n",
    "- Link to the dataset: N/A\n",
    "- Number of observations: 37\n",
    "\n",
    "This dataset involves zipcodes and median income per family, household, and per capita. It also shows families/people who receive benefits like snap, or SSI, and people who are below the poverty line. It also shows the percentage of nonwhite people are in those zipcodes\n"
   ]
  },
  {
   "cell_type": "markdown",
   "metadata": {},
   "source": [
    "- Dataset Name: inspections.csv\n",
    "- Link to the dataset: N/A\n",
    "- Number of observations: 18466\n",
    "\n",
    "This dataset shows the specific restaurant and location. It also shows any non critical and critical citations it received, including the score\n"
   ]
  },
  {
   "cell_type": "markdown",
   "metadata": {},
   "source": [
    "I plan to combine the zipcodes with the inspection with specific columns. I will match the zipcodes to the restaurants in those zipcodes, and compare the number of citations (non/critical) in those zipcodes. By using the zipcodes \"percent_nonwhite\" and the income columns, I will be able to associate restaurants in those zipcodes.\n"
   ]
  },
  {
   "cell_type": "markdown",
   "metadata": {},
   "source": [
    "# Setup"
   ]
  },
  {
   "cell_type": "code",
   "execution_count": 92,
   "metadata": {},
   "outputs": [],
   "source": [
    "%matplotlib inline\n",
    "\n",
    "# Import libraries\n",
    "import numpy as np\n",
    "import pandas as pd\n",
    "import seaborn as sns\n",
    "\n",
    "import matplotlib.pyplot as plt\n",
    "from scipy import stats\n",
    "\n",
    "import patsy\n",
    "import statsmodels.api as sm\n",
    "\n",
    "from sklearn import linear_model\n",
    "from sklearn.metrics import r2_score\n"
   ]
  },
  {
   "cell_type": "code",
   "execution_count": 93,
   "metadata": {},
   "outputs": [],
   "source": [
    "inspections = pd.read_csv('inspections.csv')"
   ]
  },
  {
   "cell_type": "code",
   "execution_count": 94,
   "metadata": {},
   "outputs": [],
   "source": [
    "zipcodes = pd.read_csv('zipcodes.csv')"
   ]
  },
  {
   "cell_type": "markdown",
   "metadata": {},
   "source": [
    "# Data Cleaning"
   ]
  },
  {
   "cell_type": "markdown",
   "metadata": {},
   "source": [
    "First, I merged the zipcodes dataframe to the inspections dataframe to read all data together instead of separately. I saved this to df_combined"
   ]
  },
  {
   "cell_type": "code",
   "execution_count": 95,
   "metadata": {},
   "outputs": [],
   "source": [
    "## YOUR CODE HERE\n",
    "## FEEL FREE TO ADD MULTIPLE CELLS PER SECTION\n",
    "df_combined = inspections.merge(zipcodes, how = 'left')\n"
   ]
  },
  {
   "cell_type": "markdown",
   "metadata": {},
   "source": [
    "I then dropped all irrelevant columns from my df_combined. I saved this to df_clean"
   ]
  },
  {
   "cell_type": "code",
   "execution_count": 96,
   "metadata": {},
   "outputs": [],
   "source": [
    "df_clean = (df_combined.drop(['critical','description','city','state','hsisid', 'date','facilitytype',\n",
    "                             'percent_supplemental_security_income','percent_snap_benefits',\n",
    "                             'percent_damilies_below_poverty_line','num_critical_previous',\n",
    "                              'num_non_critical_previous','num_critical_mean_previous','num_non_critical_mean_previous',\n",
    "                              'median_household_income_dollars','per_capita_income_dollars',\n",
    "                             'phonenumber','postalcode','address1','x','y',\n",
    "                            'restaurantopendate','avg_neighbor_num_critical','avg_neighbor_num_non_critical',\n",
    "                            'top_match','second_match', 'previous_inspection_date',\n",
    "                            'days_since_previous_inspection','previous_inspection_by_same_inspector',\n",
    "                            'inspectedby','days_from_open_date','inspector_id','address2',\n",
    "                            'geocodestatus','type'], axis = 1))\n"
   ]
  },
  {
   "cell_type": "markdown",
   "metadata": {},
   "source": [
    "I also wanted to drop zipcodes that I did not have data about. Because this dataframe is so large, I think that letting go of this data is reasonable"
   ]
  },
  {
   "cell_type": "code",
   "execution_count": 97,
   "metadata": {},
   "outputs": [],
   "source": [
    "df_clean = df_clean.dropna()"
   ]
  },
  {
   "cell_type": "markdown",
   "metadata": {},
   "source": [
    "I renamed a super long column to make it into a shortcut"
   ]
  },
  {
   "cell_type": "code",
   "execution_count": 98,
   "metadata": {},
   "outputs": [],
   "source": [
    "df_clean = df_clean.rename(columns = {'median_family_income_dollars' : 'median_fam_income', \n",
    "                                      'num_critical' : 'critical' ,\n",
    "                                     'num_non_critical' : 'noncritical'})"
   ]
  },
  {
   "cell_type": "markdown",
   "metadata": {},
   "source": [
    "I then reset the index of my dataframe for numbers to be in order"
   ]
  },
  {
   "cell_type": "code",
   "execution_count": 99,
   "metadata": {},
   "outputs": [],
   "source": [
    "df_clean = df_clean.reset_index()"
   ]
  },
  {
   "cell_type": "code",
   "execution_count": 100,
   "metadata": {},
   "outputs": [
    {
     "data": {
      "text/plain": [
       "array([72.7, 27.8, 26.3, 18. , 31.8, 33.9, 24.8, 52.6, 25. , 41.3, 35.2,\n",
       "       14.8, 19.6, 27.2, 23.2, 18.9, 22.6, 30.4, 53.3, 69.9, 44.4, 22.5,\n",
       "       19.7,  8.7, 19.9, 19. , 25.6, 16.6, 22.4, 32.8, 17.4, 13.6, 23.5,\n",
       "       14.6, 17.9, 31.4])"
      ]
     },
     "execution_count": 100,
     "metadata": {},
     "output_type": "execute_result"
    }
   ],
   "source": [
    "df_clean['percent_nonwhite'].unique()"
   ]
  },
  {
   "cell_type": "markdown",
   "metadata": {},
   "source": [
    "Making the percentages easier to read and categorizing them by writing a function."
   ]
  },
  {
   "cell_type": "code",
   "execution_count": 101,
   "metadata": {},
   "outputs": [],
   "source": [
    "def convert_per(per):\n",
    "    if per > 50.0:\n",
    "        return 'Minority Area'\n",
    "    elif per < 50.0:\n",
    "        return 'White Area'\n",
    "    else:\n",
    "        return per"
   ]
  },
  {
   "cell_type": "markdown",
   "metadata": {},
   "source": [
    "Make scores easier to categorize by writing a function to apply each score to a letter. "
   ]
  },
  {
   "cell_type": "code",
   "execution_count": 102,
   "metadata": {},
   "outputs": [],
   "source": [
    "def convert_score(score):\n",
    "    if score >= 90.0:\n",
    "        return 'A'\n",
    "    elif score >= 80.0:\n",
    "        return 'B'\n",
    "    elif score >= 70.0:\n",
    "        return 'C'"
   ]
  },
  {
   "cell_type": "markdown",
   "metadata": {},
   "source": [
    "Apply the function convert_per to the column 'percent_nonwhite' and create a new column so that percentages are not erased and creates a category with the new column instead.\n"
   ]
  },
  {
   "cell_type": "code",
   "execution_count": 103,
   "metadata": {},
   "outputs": [],
   "source": [
    "#df_clean['percent_nonwhite']= \n",
    "df_clean['percent_nonwhite'] = pd.to_numeric(df_clean['percent_nonwhite'])\n",
    "df_clean = (df_clean.assign(race = df_clean['percent_nonwhite'].apply(convert_per)))\n"
   ]
  },
  {
   "cell_type": "markdown",
   "metadata": {},
   "source": [
    "Apply the function convert_score to the column 'score' and create a new column 'letter' with the conversions"
   ]
  },
  {
   "cell_type": "code",
   "execution_count": 104,
   "metadata": {},
   "outputs": [],
   "source": [
    "df_clean = (df_clean.assign(letter = df_clean['score'].apply(convert_score)))"
   ]
  },
  {
   "cell_type": "code",
   "execution_count": 105,
   "metadata": {},
   "outputs": [
    {
     "data": {
      "text/html": [
       "<div>\n",
       "<style scoped>\n",
       "    .dataframe tbody tr th:only-of-type {\n",
       "        vertical-align: middle;\n",
       "    }\n",
       "\n",
       "    .dataframe tbody tr th {\n",
       "        vertical-align: top;\n",
       "    }\n",
       "\n",
       "    .dataframe thead th {\n",
       "        text-align: right;\n",
       "    }\n",
       "</style>\n",
       "<table border=\"1\" class=\"dataframe\">\n",
       "  <thead>\n",
       "    <tr style=\"text-align: right;\">\n",
       "      <th></th>\n",
       "      <th>index</th>\n",
       "      <th>name</th>\n",
       "      <th>zip</th>\n",
       "      <th>inspection_num</th>\n",
       "      <th>score</th>\n",
       "      <th>critical</th>\n",
       "      <th>noncritical</th>\n",
       "      <th>median_fam_income</th>\n",
       "      <th>percent_nonwhite</th>\n",
       "      <th>race</th>\n",
       "      <th>letter</th>\n",
       "    </tr>\n",
       "  </thead>\n",
       "  <tbody>\n",
       "    <tr>\n",
       "      <th>0</th>\n",
       "      <td>0</td>\n",
       "      <td>Cafe 3000 At Wake Med</td>\n",
       "      <td>27610</td>\n",
       "      <td>1</td>\n",
       "      <td>96.0</td>\n",
       "      <td>9</td>\n",
       "      <td>7</td>\n",
       "      <td>49213.0</td>\n",
       "      <td>72.7</td>\n",
       "      <td>Minority Area</td>\n",
       "      <td>A</td>\n",
       "    </tr>\n",
       "    <tr>\n",
       "      <th>1</th>\n",
       "      <td>1</td>\n",
       "      <td>Overtime Sports Pub</td>\n",
       "      <td>27610</td>\n",
       "      <td>1</td>\n",
       "      <td>98.0</td>\n",
       "      <td>0</td>\n",
       "      <td>11</td>\n",
       "      <td>49213.0</td>\n",
       "      <td>72.7</td>\n",
       "      <td>Minority Area</td>\n",
       "      <td>A</td>\n",
       "    </tr>\n",
       "    <tr>\n",
       "      <th>2</th>\n",
       "      <td>2</td>\n",
       "      <td>TASTE OF CHINA</td>\n",
       "      <td>27610</td>\n",
       "      <td>1</td>\n",
       "      <td>97.0</td>\n",
       "      <td>4</td>\n",
       "      <td>8</td>\n",
       "      <td>49213.0</td>\n",
       "      <td>72.7</td>\n",
       "      <td>Minority Area</td>\n",
       "      <td>A</td>\n",
       "    </tr>\n",
       "    <tr>\n",
       "      <th>3</th>\n",
       "      <td>3</td>\n",
       "      <td>Panera Bread #1643</td>\n",
       "      <td>27513</td>\n",
       "      <td>1</td>\n",
       "      <td>99.0</td>\n",
       "      <td>2</td>\n",
       "      <td>3</td>\n",
       "      <td>109736.0</td>\n",
       "      <td>27.8</td>\n",
       "      <td>White Area</td>\n",
       "      <td>A</td>\n",
       "    </tr>\n",
       "    <tr>\n",
       "      <th>4</th>\n",
       "      <td>4</td>\n",
       "      <td>WalMart Supercenter #4499-00 Deli/Bakery</td>\n",
       "      <td>27597</td>\n",
       "      <td>1</td>\n",
       "      <td>97.0</td>\n",
       "      <td>2</td>\n",
       "      <td>4</td>\n",
       "      <td>59395.0</td>\n",
       "      <td>26.3</td>\n",
       "      <td>White Area</td>\n",
       "      <td>A</td>\n",
       "    </tr>\n",
       "    <tr>\n",
       "      <th>...</th>\n",
       "      <td>...</td>\n",
       "      <td>...</td>\n",
       "      <td>...</td>\n",
       "      <td>...</td>\n",
       "      <td>...</td>\n",
       "      <td>...</td>\n",
       "      <td>...</td>\n",
       "      <td>...</td>\n",
       "      <td>...</td>\n",
       "      <td>...</td>\n",
       "      <td>...</td>\n",
       "    </tr>\n",
       "    <tr>\n",
       "      <th>18226</th>\n",
       "      <td>18461</td>\n",
       "      <td>Sino Wok</td>\n",
       "      <td>27616</td>\n",
       "      <td>10</td>\n",
       "      <td>93.0</td>\n",
       "      <td>6</td>\n",
       "      <td>13</td>\n",
       "      <td>60033.0</td>\n",
       "      <td>52.6</td>\n",
       "      <td>Minority Area</td>\n",
       "      <td>A</td>\n",
       "    </tr>\n",
       "    <tr>\n",
       "      <th>18227</th>\n",
       "      <td>18462</td>\n",
       "      <td>Weatherstone Elem. Sch. Cafeteria</td>\n",
       "      <td>27513</td>\n",
       "      <td>9</td>\n",
       "      <td>97.0</td>\n",
       "      <td>2</td>\n",
       "      <td>3</td>\n",
       "      <td>109736.0</td>\n",
       "      <td>27.8</td>\n",
       "      <td>White Area</td>\n",
       "      <td>A</td>\n",
       "    </tr>\n",
       "    <tr>\n",
       "      <th>18228</th>\n",
       "      <td>18463</td>\n",
       "      <td>ALSTON RIDGE ELEMENTARY SCHOOL CAFETERIA</td>\n",
       "      <td>27519</td>\n",
       "      <td>9</td>\n",
       "      <td>96.0</td>\n",
       "      <td>3</td>\n",
       "      <td>4</td>\n",
       "      <td>137193.0</td>\n",
       "      <td>35.2</td>\n",
       "      <td>White Area</td>\n",
       "      <td>A</td>\n",
       "    </tr>\n",
       "    <tr>\n",
       "      <th>18229</th>\n",
       "      <td>18464</td>\n",
       "      <td>Food Lion #996 Meat Market</td>\n",
       "      <td>27603</td>\n",
       "      <td>10</td>\n",
       "      <td>99.0</td>\n",
       "      <td>1</td>\n",
       "      <td>2</td>\n",
       "      <td>68608.0</td>\n",
       "      <td>25.6</td>\n",
       "      <td>White Area</td>\n",
       "      <td>A</td>\n",
       "    </tr>\n",
       "    <tr>\n",
       "      <th>18230</th>\n",
       "      <td>18465</td>\n",
       "      <td>LA CAMPANA MARKET</td>\n",
       "      <td>27597</td>\n",
       "      <td>9</td>\n",
       "      <td>93.0</td>\n",
       "      <td>4</td>\n",
       "      <td>7</td>\n",
       "      <td>59395.0</td>\n",
       "      <td>26.3</td>\n",
       "      <td>White Area</td>\n",
       "      <td>A</td>\n",
       "    </tr>\n",
       "  </tbody>\n",
       "</table>\n",
       "<p>18231 rows × 11 columns</p>\n",
       "</div>"
      ],
      "text/plain": [
       "       index                                      name    zip  inspection_num  \\\n",
       "0          0                     Cafe 3000 At Wake Med  27610               1   \n",
       "1          1                       Overtime Sports Pub  27610               1   \n",
       "2          2                            TASTE OF CHINA  27610               1   \n",
       "3          3                        Panera Bread #1643  27513               1   \n",
       "4          4  WalMart Supercenter #4499-00 Deli/Bakery  27597               1   \n",
       "...      ...                                       ...    ...             ...   \n",
       "18226  18461                                  Sino Wok  27616              10   \n",
       "18227  18462         Weatherstone Elem. Sch. Cafeteria  27513               9   \n",
       "18228  18463  ALSTON RIDGE ELEMENTARY SCHOOL CAFETERIA  27519               9   \n",
       "18229  18464                Food Lion #996 Meat Market  27603              10   \n",
       "18230  18465                         LA CAMPANA MARKET  27597               9   \n",
       "\n",
       "       score  critical  noncritical  median_fam_income  percent_nonwhite  \\\n",
       "0       96.0         9            7            49213.0              72.7   \n",
       "1       98.0         0           11            49213.0              72.7   \n",
       "2       97.0         4            8            49213.0              72.7   \n",
       "3       99.0         2            3           109736.0              27.8   \n",
       "4       97.0         2            4            59395.0              26.3   \n",
       "...      ...       ...          ...                ...               ...   \n",
       "18226   93.0         6           13            60033.0              52.6   \n",
       "18227   97.0         2            3           109736.0              27.8   \n",
       "18228   96.0         3            4           137193.0              35.2   \n",
       "18229   99.0         1            2            68608.0              25.6   \n",
       "18230   93.0         4            7            59395.0              26.3   \n",
       "\n",
       "                race letter  \n",
       "0      Minority Area      A  \n",
       "1      Minority Area      A  \n",
       "2      Minority Area      A  \n",
       "3         White Area      A  \n",
       "4         White Area      A  \n",
       "...              ...    ...  \n",
       "18226  Minority Area      A  \n",
       "18227     White Area      A  \n",
       "18228     White Area      A  \n",
       "18229     White Area      A  \n",
       "18230     White Area      A  \n",
       "\n",
       "[18231 rows x 11 columns]"
      ]
     },
     "execution_count": 105,
     "metadata": {},
     "output_type": "execute_result"
    }
   ],
   "source": [
    "df_clean"
   ]
  },
  {
   "cell_type": "markdown",
   "metadata": {},
   "source": [
    "# Data Analysis & Results"
   ]
  },
  {
   "cell_type": "markdown",
   "metadata": {},
   "source": [
    "## Models"
   ]
  },
  {
   "cell_type": "markdown",
   "metadata": {},
   "source": [
    "In Figure 1 and Figure 2, I used boxplots to illustrate one categorical variable of minority vs white areas using the quantitative variables (income, score). Using the boxplots, it showed me outliers, the range, and median, which is useful to see. "
   ]
  },
  {
   "cell_type": "code",
   "execution_count": 107,
   "metadata": {},
   "outputs": [
    {
     "data": {
      "image/png": "[encoded data removed]",
      "text/plain": [
       "<Figure size 432x288 with 1 Axes>"
      ]
     },
     "metadata": {},
     "output_type": "display_data"
    }
   ],
   "source": [
    "#Figure 1\n",
    "sns.set(style = 'whitegrid')\n",
    "ax = sns.boxplot(x = 'race', y = 'median_fam_income', data = df_clean).set_title('Race v Income')\n"
   ]
  },
  {
   "cell_type": "markdown",
   "metadata": {},
   "source": [
    "The boxplot above shows that in majority white zipcodes, white people make more than minorities. There are a few minority outliers though (some more, some less income). This aligns with my hypothesis that white people have a higher income than minorities, hence why they can afford tools to better their restaurant to apply to health inspection tests. But is this the correlation?"
   ]
  },
  {
   "cell_type": "code",
   "execution_count": 108,
   "metadata": {},
   "outputs": [
    {
     "data": {
      "image/png": "[encoded data removed]",
      "text/plain": [
       "<Figure size 432x288 with 1 Axes>"
      ]
     },
     "metadata": {},
     "output_type": "display_data"
    }
   ],
   "source": [
    "#Figure 2\n",
    "sns.set(style = 'whitegrid')\n",
    "ax2 = sns.boxplot(x = 'race', y = 'score', data = df_clean).set_title('Race v Restaurant Health Inspection Score')\n"
   ]
  },
  {
   "cell_type": "markdown",
   "metadata": {},
   "source": [
    "In the boxplot above, it seems that there is a small difference in median of score, with white people usually having a higher score than minorities. Still, is this due to income?"
   ]
  },
  {
   "cell_type": "markdown",
   "metadata": {},
   "source": [
    "In Figure 3, I used a barplot to compare race to income, and seeing where Restaurant letter scores stand. The grouped barplot was used to show two categorical variables (letter grade and race) and find its relationship (if any)"
   ]
  },
  {
   "cell_type": "code",
   "execution_count": 109,
   "metadata": {},
   "outputs": [
    {
     "data": {
      "image/png": "[encoded data removed]",
      "text/plain": [
       "<Figure size 479.6x432 with 1 Axes>"
      ]
     },
     "metadata": {},
     "output_type": "display_data"
    }
   ],
   "source": [
    "#Figure 3\n",
    "race_income = sns.catplot(x='race', y = 'median_fam_income', \n",
    "                          hue = 'letter',\n",
    "                          data=df_clean,\n",
    "                          height=6, kind = 'bar')\n",
    "race_income.despine(left=True)\n",
    "race_income.set_ylabels('Median Family Income')\n",
    "race_income.set_xlabels('Racial Area')\n",
    "race_income.fig.suptitle('Race v Income v Restaurant Letter Scores')\n",
    "Figure3 = plt.gcf()\n"
   ]
  },
  {
   "cell_type": "markdown",
   "metadata": {},
   "source": [
    "The graph above shows that there's an inverse relationship between income and letter grade between minorities and white areas. In the minority area, it shows that the median income is lower with an A letter grade, and increases, with the C letter grade having the highest income of the three in minority areas.\n",
    "\n",
    "In white areas, it has the opposite affect, where the letter A grade has the highest median income, and the letter C grade has the lowest median income. \n",
    "\n",
    "In general, the minority areas have the lower median family income. \n",
    "\n",
    "But does it affect the number of ratings?"
   ]
  },
  {
   "cell_type": "markdown",
   "metadata": {},
   "source": [
    "In the following figure 4 and 5, I wanted to see if there was a linear relationship."
   ]
  },
  {
   "cell_type": "code",
   "execution_count": 110,
   "metadata": {},
   "outputs": [
    {
     "data": {
      "image/png": "[encoded data removed]",
      "text/plain": [
       "<Figure size 432x288 with 1 Axes>"
      ]
     },
     "metadata": {},
     "output_type": "display_data"
    }
   ],
   "source": [
    "#Figure 4\n",
    "plt.scatter(df_clean['median_fam_income'],df_clean['score'], color = 'red')\n",
    "plt.xlabel('Median Family Income')\n",
    "plt.ylabel('Restaurant Health Score')\n",
    "plt.title('Relationship between Median Family Income and Restaurant Health Score')\n",
    "plt.show()\n"
   ]
  },
  {
   "cell_type": "markdown",
   "metadata": {},
   "source": [
    "The model above shows that there is no linear relationship between restaurant scores and median family income. What about percent of nonwhite people?"
   ]
  },
  {
   "cell_type": "code",
   "execution_count": 111,
   "metadata": {},
   "outputs": [
    {
     "data": {
      "image/png": "[encoded data removed]",
      "text/plain": [
       "<Figure size 432x288 with 1 Axes>"
      ]
     },
     "metadata": {},
     "output_type": "display_data"
    }
   ],
   "source": [
    "#Figure 5\n",
    "plt.scatter(df_clean['percent_nonwhite'],df_clean['score'], color = 'green')\n",
    "plt.xlabel('Percent of Nonwhite People in Zipcode')\n",
    "plt.ylabel('Restaurant Health Score')\n",
    "plt.title('Relationship between Percent of Nonwhite People and Restaurant Health Score')\n",
    "plt.show()"
   ]
  },
  {
   "cell_type": "markdown",
   "metadata": {},
   "source": [
    "Also, no linear relationship between nonwhite people and restaurant score."
   ]
  },
  {
   "cell_type": "code",
   "execution_count": 112,
   "metadata": {},
   "outputs": [
    {
     "name": "stdout",
     "output_type": "stream",
     "text": [
      "Coefficients:  [[ 2.25327489e-06 -3.05591189e-03]]\n",
      "Intercept:  [96.13048764]\n"
     ]
    }
   ],
   "source": [
    "#modelling data of median family income, percent nonwhite, and score\n",
    "regression1 = linear_model.LinearRegression()\n",
    "x = np.asanyarray(df_clean[['median_fam_income','percent_nonwhite']])\n",
    "y = np.asanyarray(df_clean[['score']])\n",
    "regression1.fit (x, y)\n",
    "# The coefficients\n",
    "print ('Coefficients: ', regression1.coef_)\n",
    "print ('Intercept: ',regression1.intercept_)"
   ]
  },
  {
   "cell_type": "markdown",
   "metadata": {},
   "source": [
    "The above is an extraction from my second reference link."
   ]
  },
  {
   "cell_type": "markdown",
   "metadata": {},
   "source": [
    "## Model Evaluation"
   ]
  },
  {
   "cell_type": "markdown",
   "metadata": {},
   "source": [
    "This should prove that there is no linear relationship between race and income and score. \n",
    "\n",
    "The following model evaluation is extracted from my second reference link."
   ]
  },
  {
   "cell_type": "code",
   "execution_count": 113,
   "metadata": {},
   "outputs": [
    {
     "name": "stdout",
     "output_type": "stream",
     "text": [
      "Variance score: 0.00\n",
      "Mean absolute error: 2.03\n",
      "Residual sum of squares (MSE): 7.06\n",
      "R2-score: -842.87\n"
     ]
    }
   ],
   "source": [
    "#finding the R square\n",
    "predict_y= regression1.predict(x)\n",
    "print('Variance score: %.2f' % regression1.score(x, y))\n",
    "print('Mean absolute error: %.2f' % np.mean(np.absolute(predict_y - y)))\n",
    "print('Residual sum of squares (MSE): %.2f' % np.mean((predict_y - y) ** 2))\n",
    "print('R2-score: %.2f' % r2_score(predict_y , y) )\n"
   ]
  },
  {
   "cell_type": "markdown",
   "metadata": {},
   "source": [
    "Because the R square is very negative, there is no relationship between the median income, percent nonwhite, and score. "
   ]
  },
  {
   "cell_type": "markdown",
   "metadata": {},
   "source": [
    "# Ethics & Privacy"
   ]
  },
  {
   "cell_type": "markdown",
   "metadata": {},
   "source": [
    "## Ethics"
   ]
  },
  {
   "cell_type": "markdown",
   "metadata": {},
   "source": [
    "My project is intended to seek out any differences that may be caused by income discrepancies. These income differences can be due to racial differences because of racial steering in real estate from the 1960s. My research question may be coming from my own bias as an Asian woman, and I already have a view of racial minorities getting the lower end of the real estate stick. \n",
    "\n",
    "Another ethics problem that can arise is the fact that \"minorities\" are grouped together, and it's seen more of a every other race vs white people data. I think it would be better if there was separate data about Black, Hispanic, or Asian races as well. It would not group everyone together and make it a generally more specific data set. \n",
    "\n",
    "The representations of Black families' income can't represent Asian or Hispanic families' income, which is why it would be better to have that data, rather than grouping them together as 'nonwhite' or 'minority'."
   ]
  },
  {
   "cell_type": "markdown",
   "metadata": {},
   "source": [
    "## Privacy"
   ]
  },
  {
   "cell_type": "markdown",
   "metadata": {},
   "source": [
    "The data set I used was provided for me. I'm not sure if it is public data. \n",
    "\n",
    "One privacy problem that I think may be a problem is the names of the restaurants. I made sure to drop the columns that included the addresses and phone numbers. I did not think dropping the names of the restaurants would be good for my research because there had to be a way to show that each restaurant had individuality and was not just grouped together through zipcode. \n",
    "\n",
    "The dataset I used was not based on individual people, so the Safe Harbor Method was not applicable in this situation."
   ]
  },
  {
   "cell_type": "markdown",
   "metadata": {},
   "source": [
    "## Handling Issues"
   ]
  },
  {
   "cell_type": "markdown",
   "metadata": {},
   "source": [
    "In terms of handling the ethics issue, I believe that collecting data with racial demographics would be more helpful if it were collected with Asian/Black/Hispanic/White/Other in mind. If collected at just White/Other, it cuts out the representation of other races separately, and rather groups them together, which can lead to outliers.\n",
    "\n",
    "In terms of handling privacy, I think knowing the population of a certain zipcode would be helpful not only in keeping those restaurants more private, but also to keep the owners' information private. If a zipcode had a hypothetical population of 100, the restaurant would easily be found, and known about their potential income, which may violate one's privacy."
   ]
  },
  {
   "cell_type": "markdown",
   "metadata": {},
   "source": [
    "# Conclusion & Discussion"
   ]
  },
  {
   "cell_type": "markdown",
   "metadata": {},
   "source": [
    "For my research question, I wondered if there was a difference in scoring when it came to majority non white vs white zipcodes, and if the difference was due to income. In my hypothesis, I believed that majority white areas will have better restaurant scores based on their higher income, and their higher income could've been due to their zipcodes from real estate's racial divide.\n",
    "\n",
    "I used data showing the scores that restaurants received and their zipcodes. I used another dataframe that included zipcodes, median family income, and percent of nonwhite people in that zipcode. This was useful for me to merge the two dataframes by zipcode to see which restaurants had which demographics."
   ]
  },
  {
   "cell_type": "markdown",
   "metadata": {},
   "source": [
    "Following my model evalution, there seems to be no correlation between income, race, and restaurant health inspection scores. \n",
    "\n",
    "In my beginning models (Figures 1-3), it looked as though there were some sort of correlation, but after evaluating my models and looking for a linear relationship, it truly showed that there was no correlation whatsoever.\n",
    "\n",
    "A limitation in my project was not receiving any information about the population. As mentioned, it would've been helpful to have data about population in order to see if the ratio or if population could have affected the restaurant and score too. If there were more information about different cities, it could also change the data and results as there are other aspects, such as population that come into play.\n",
    "\n",
    "The impact of my project on society is that it shows while minorities and white people have difference in income, they are all given an equal outlook on their health inspection scores. It would be interesting to see if the restaurant type is something that also affects a restaurant's health inspection score. With people going out to eat at different restaurants, it is important to show that there are differences when it comes to health inspection scores. "
   ]
  }
 ],
 "metadata": {
  "kernelspec": {
   "display_name": "Python 3",
   "language": "python",
   "name": "python3"
  },
  "language_info": {
   "codemirror_mode": {
    "name": "ipython",
    "version": 3
   },
   "file_extension": ".py",
   "mimetype": "text/x-python",
   "name": "python",
   "nbconvert_exporter": "python",
   "pygments_lexer": "ipython3",
   "version": "3.7.6"
  }
 },
 "nbformat": 4,
 "nbformat_minor": 2
}
