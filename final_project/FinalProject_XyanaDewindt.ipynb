{
 "cells": [
  {
   "cell_type": "markdown",
   "metadata": {},
   "source": [
    "# COGS 108 - Final Project "
   ]
  },
  {
   "cell_type": "markdown",
   "metadata": {},
   "source": [
    "# Overview"
   ]
  },
  {
   "cell_type": "markdown",
   "metadata": {},
   "source": [
    "At first I wanted to investigate the relationship between health inspection scores and food related illnesses in North Carolina. After reviewing the given data sets, I noticed that no specific cases of food related illnesses were included and decided to look at the potential relationship between health inspection scores and critical vs. non-critical violations. By combining the given data sets (inspections.csv, and violations.csv) to make graphical observations I was able to conclude a positive correlation between these two variables, in that violations that are considered more critical do impact health inspection scores significantly, which could evidentely lead to  more foodborne illnesses. "
   ]
  },
  {
   "cell_type": "markdown",
   "metadata": {},
   "source": [
    "# Name & GitHub\n",
    "\n",
    "- Name: Xyana Dewindt\n",
    "- GitHub Username: XyanaDewindt"
   ]
  },
  {
   "cell_type": "markdown",
   "metadata": {},
   "source": [
    "# Research Question"
   ]
  },
  {
   "cell_type": "markdown",
   "metadata": {},
   "source": [
    "Is there a correlation between health inspection scores and the criticality of the violations in North Carolina?"
   ]
  },
  {
   "cell_type": "markdown",
   "metadata": {},
   "source": [
    "## Background and Prior Work"
   ]
  },
  {
   "cell_type": "markdown",
   "metadata": {},
   "source": [
    "This question was sparked by my curiosity in finding out information in regards to health inspections within different areas of our country and to see whether or not there is a relationship between inspection scores and the violations received. Based on the given data sets, I am able to analyze this relationship within the state of North Carolina.\n",
    "\n",
    "North Carolina requires a health inspection to be administered at random at least once a year, and can require more frequent visits based on the score and possible violations received. These health inspections are administered in order to let the public know how clean the business is and how likely the potential violations found will make one sick. Just like in many other states, the scoring is based on a letter grade, where A is equal to a score of 90 or above, B is in the 80's, and C is a score in the 70's. According to the North Carolina law, if a business is given a score of 69 or below, the business will have to close.(1)\n",
    "\n",
    "There are a certain amount of categories the inspectors asses and give point values to based on how the business is doing in that category. The point values given, which essentially determine the letter grade the businneses receive, are based on the risk of spreading foodborne ilnesses. Some of the categories that cause for the largest point deductions include food temperature and handling issues.(2)\n",
    "\n",
    "In comparison to other states and especially counties like San Diego, where I reside, Wake County, a major county in North Carolina, inspections seem a bit stricter and thus businesses are looked down upon when their score is below a 90. The health inspections are meant to help/educate business owners and their employees so they are given a second chance if their score is below a 90 initially.(1)\n",
    "\n",
    "In 2015, Wake County conducted a risk factor study in which 447 food extablishments were randomly selected to be evaluated and observed in relation to risks of foodborne illnesses. The main purpose of this study was to compare results with a similar study conducted in 2010 and hopefully see improvement, which there was if you take a look at their data and conclusion. This study contains helpful information in regards to my research question as I can use their findings and make my own connections on the relationship between health inspections scores and the criticallity of the violations the businesses received.(3)\n",
    "\n",
    "References (include links):\n",
    "- 1) https://www.wral.com/yuck-or-yum-inspection-grades-keep-restaurants-diners-safe/16548733/\n",
    "- 2) https://www.bizjournals.com/triangle/news/2015/09/23/wake-county-restaurants-critical-health-code.html\n",
    "- 3) http://www.wakegov.com/food/healthinspections/Pages/fda_report.aspx"
   ]
  },
  {
   "cell_type": "markdown",
   "metadata": {},
   "source": [
    "# Hypothesis\n"
   ]
  },
  {
   "cell_type": "markdown",
   "metadata": {},
   "source": [
    "Food related businesses in North Carolina who receive a higher health inspection score are less likely to have received very critical violations and are thus less likely to cause foodborne illnesses. This is due to the fact that these health inspections are administered in order to let the public know how clean the business is and how likely the potential violations found will make one sick. The score received is based on the categories the businnesses violated during their inspection.  "
   ]
  },
  {
   "cell_type": "markdown",
   "metadata": {},
   "source": [
    "# Dataset(s)"
   ]
  },
  {
   "cell_type": "markdown",
   "metadata": {},
   "source": [
    "\n",
    "- Dataset Name: Inspections \n",
    "- Link to dataset: Provided by instructor \n",
    "- Number of observations: 18466\n",
    "- Description: This dataset includes records of health inspections administered in various food related businesses from anywhere between 2012 and 2016. Some categories included in this dataset are the restaurant which was inspected, location, name of inspector, inspection score and more. \n",
    "- Features used: The only features that I will use to discuss my research question include: 'hsisid', 'city', 'score', and 'num_critical'.\n",
    "\n",
    "\n",
    "\n",
    "- Dataset Name: Violations\n",
    "- Link to dataset: Provided by instructor\n",
    "- Number of observations: 189802\n",
    "- Description: This dataset provides recorded violations present during health inspections in food related businesses in North Carolina. Each observation contains the date of inspection, the violation category, violation code, a short description, who it was inspected by, risk factor and more. \n",
    "- Features used: The only features that I will use to discuss my research question include: 'hsisid', 'critical', 'comments', and 'category'.\n",
    "\n",
    "\n",
    "I will merge these two datasets using the 'hsisid' variable, which is an ID assigned to each restaurant in these two datasets. \n"
   ]
  },
  {
   "cell_type": "markdown",
   "metadata": {},
   "source": [
    "# Setup"
   ]
  },
  {
   "cell_type": "code",
   "execution_count": 1,
   "metadata": {},
   "outputs": [],
   "source": [
    "import numpy as np\n",
    "import pandas as pd\n",
    "import matplotlib.pyplot as plt\n",
    "import seaborn as sns\n",
    "import scipy.stats as stats\n",
    "import patsy\n",
    "import statsmodels.api as sm\n",
    "from scipy.stats import norm\n",
    "from scipy.stats import ttest_ind, normaltest"
   ]
  },
  {
   "cell_type": "code",
   "execution_count": 2,
   "metadata": {},
   "outputs": [],
   "source": [
    "#Read in the csv files\n",
    "\n",
    "df_inspections = pd.read_csv('inspections.csv')\n",
    "df_violations = pd.read_csv('violations.csv')"
   ]
  },
  {
   "cell_type": "markdown",
   "metadata": {},
   "source": [
    "# Data Cleaning"
   ]
  },
  {
   "cell_type": "markdown",
   "metadata": {},
   "source": [
    "#### Cleaning inspections data\n",
    "\n",
    "- I was mainly interested in keeping the 'hsisid', 'date' 'city', 'score', and 'num_critical' columns so I decided to begin by removing the other unwanted data.\n",
    "    - I wanted to keep the 'hisid' column in order to merge the two data sets.\n",
    "    - I'm going to use the 'date' column to remove all old inspections scores and keep the most up to date ones. \n",
    "    - Lastly, the 'score' column is necessary to to be able to draw a conclusion later on. "
   ]
  },
  {
   "cell_type": "code",
   "execution_count": 3,
   "metadata": {},
   "outputs": [],
   "source": [
    "#Remove unwanted data\n",
    "\n",
    "df_inspections = df_inspections.drop([ 'city', 'name', 'address1', \n",
    "                                      'address2', 'state', 'postalcode', \n",
    "                                      'phonenumber', 'restaurantopendate', \n",
    "                                      'days_from_open_date', 'facilitytype', \n",
    "                                      'x', 'y', 'geocodestatus', 'zip', 'type', \n",
    "                                      'description', 'inspectedby','inspection_num', \n",
    "                                      'inspector_id', 'previous_inspection_date', \n",
    "                                      'days_since_previous_inspection', 'previous_inspection_by_same_inspector', \n",
    "                                      'num_non_critical', 'num_critical_previous', 'num_non_critical_previous',\n",
    "                                      'num_critical_mean_previous', 'num_non_critical_mean_previous', \n",
    "                                      'avg_neighbor_num_critical', 'avg_neighbor_num_non_critical', \n",
    "                                      'top_match', 'second_match', 'critical'], axis = 1)"
   ]
  },
  {
   "cell_type": "markdown",
   "metadata": {},
   "source": [
    "- Then I removed duplicate inspections and just saved the most recent inspection for each business."
   ]
  },
  {
   "cell_type": "code",
   "execution_count": 4,
   "metadata": {},
   "outputs": [
    {
     "data": {
      "text/html": [
       "<div>\n",
       "<style scoped>\n",
       "    .dataframe tbody tr th:only-of-type {\n",
       "        vertical-align: middle;\n",
       "    }\n",
       "\n",
       "    .dataframe tbody tr th {\n",
       "        vertical-align: top;\n",
       "    }\n",
       "\n",
       "    .dataframe thead th {\n",
       "        text-align: right;\n",
       "    }\n",
       "</style>\n",
       "<table border=\"1\" class=\"dataframe\">\n",
       "  <thead>\n",
       "    <tr style=\"text-align: right;\">\n",
       "      <th></th>\n",
       "      <th>hsisid</th>\n",
       "      <th>date</th>\n",
       "      <th>score</th>\n",
       "      <th>num_critical</th>\n",
       "    </tr>\n",
       "  </thead>\n",
       "  <tbody>\n",
       "    <tr>\n",
       "      <th>2247</th>\n",
       "      <td>4092014995</td>\n",
       "      <td>2013-04-22T00:00:00Z</td>\n",
       "      <td>97.0</td>\n",
       "      <td>6</td>\n",
       "    </tr>\n",
       "    <tr>\n",
       "      <th>6100</th>\n",
       "      <td>4092030240</td>\n",
       "      <td>2014-04-16T00:00:00Z</td>\n",
       "      <td>89.5</td>\n",
       "      <td>7</td>\n",
       "    </tr>\n",
       "    <tr>\n",
       "      <th>6606</th>\n",
       "      <td>4092016447</td>\n",
       "      <td>2014-06-12T00:00:00Z</td>\n",
       "      <td>99.5</td>\n",
       "      <td>1</td>\n",
       "    </tr>\n",
       "    <tr>\n",
       "      <th>6667</th>\n",
       "      <td>4092040288</td>\n",
       "      <td>2014-06-17T00:00:00Z</td>\n",
       "      <td>94.5</td>\n",
       "      <td>2</td>\n",
       "    </tr>\n",
       "    <tr>\n",
       "      <th>6804</th>\n",
       "      <td>4092011458</td>\n",
       "      <td>2014-06-27T00:00:00Z</td>\n",
       "      <td>93.0</td>\n",
       "      <td>5</td>\n",
       "    </tr>\n",
       "  </tbody>\n",
       "</table>\n",
       "</div>"
      ],
      "text/plain": [
       "          hsisid                  date  score  num_critical\n",
       "2247  4092014995  2013-04-22T00:00:00Z   97.0             6\n",
       "6100  4092030240  2014-04-16T00:00:00Z   89.5             7\n",
       "6606  4092016447  2014-06-12T00:00:00Z   99.5             1\n",
       "6667  4092040288  2014-06-17T00:00:00Z   94.5             2\n",
       "6804  4092011458  2014-06-27T00:00:00Z   93.0             5"
      ]
     },
     "execution_count": 4,
     "metadata": {},
     "output_type": "execute_result"
    }
   ],
   "source": [
    "#Remove old inspection scores\n",
    "\n",
    "df_inspections = df_inspections.sort_values(['date']).drop_duplicates(subset = 'hsisid', keep = 'last')\n",
    "df_inspections.head()"
   ]
  },
  {
   "cell_type": "code",
   "execution_count": 5,
   "metadata": {},
   "outputs": [
    {
     "data": {
      "text/plain": [
       "96.01543513957307"
      ]
     },
     "execution_count": 5,
     "metadata": {},
     "output_type": "execute_result"
    }
   ],
   "source": [
    "#Checking average inspection score\n",
    "\n",
    "average_inspection = df_inspections['score'].mean()\n",
    "average_inspection"
   ]
  },
  {
   "cell_type": "code",
   "execution_count": 6,
   "metadata": {},
   "outputs": [
    {
     "data": {
      "text/plain": [
       "hsisid          False\n",
       "date            False\n",
       "score           False\n",
       "num_critical    False\n",
       "dtype: bool"
      ]
     },
     "execution_count": 6,
     "metadata": {},
     "output_type": "execute_result"
    }
   ],
   "source": [
    "#Checking to make sure no null values exist in the dataset\n",
    "\n",
    "df_inspections.isnull().any(axis = 0)"
   ]
  },
  {
   "cell_type": "markdown",
   "metadata": {},
   "source": [
    "#### Cleaning violations data\n",
    "\n",
    "- I was mainly interested in keeping the 'hsisid', 'critical', and 'category' columns \n",
    "so I decided to begin by removing the other unwanted data."
   ]
  },
  {
   "cell_type": "code",
   "execution_count": 7,
   "metadata": {},
   "outputs": [
    {
     "data": {
      "text/html": [
       "<div>\n",
       "<style scoped>\n",
       "    .dataframe tbody tr th:only-of-type {\n",
       "        vertical-align: middle;\n",
       "    }\n",
       "\n",
       "    .dataframe tbody tr th {\n",
       "        vertical-align: top;\n",
       "    }\n",
       "\n",
       "    .dataframe thead th {\n",
       "        text-align: right;\n",
       "    }\n",
       "</style>\n",
       "<table border=\"1\" class=\"dataframe\">\n",
       "  <thead>\n",
       "    <tr style=\"text-align: right;\">\n",
       "      <th></th>\n",
       "      <th>hsisid</th>\n",
       "      <th>category</th>\n",
       "      <th>critical</th>\n",
       "    </tr>\n",
       "  </thead>\n",
       "  <tbody>\n",
       "    <tr>\n",
       "      <th>0</th>\n",
       "      <td>4092015279</td>\n",
       "      <td>Chemical</td>\n",
       "      <td>Yes</td>\n",
       "    </tr>\n",
       "    <tr>\n",
       "      <th>1</th>\n",
       "      <td>4092014572</td>\n",
       "      <td>Chemical</td>\n",
       "      <td>Yes</td>\n",
       "    </tr>\n",
       "    <tr>\n",
       "      <th>2</th>\n",
       "      <td>4092015906</td>\n",
       "      <td>Chemical</td>\n",
       "      <td>Yes</td>\n",
       "    </tr>\n",
       "    <tr>\n",
       "      <th>3</th>\n",
       "      <td>4092013840</td>\n",
       "      <td>Chemical</td>\n",
       "      <td>Yes</td>\n",
       "    </tr>\n",
       "    <tr>\n",
       "      <th>4</th>\n",
       "      <td>4092021788</td>\n",
       "      <td>Chemical</td>\n",
       "      <td>Yes</td>\n",
       "    </tr>\n",
       "  </tbody>\n",
       "</table>\n",
       "</div>"
      ],
      "text/plain": [
       "       hsisid  category critical\n",
       "0  4092015279  Chemical      Yes\n",
       "1  4092014572  Chemical      Yes\n",
       "2  4092015906  Chemical      Yes\n",
       "3  4092013840  Chemical      Yes\n",
       "4  4092021788  Chemical      Yes"
      ]
     },
     "execution_count": 7,
     "metadata": {},
     "output_type": "execute_result"
    }
   ],
   "source": [
    "#I figured out a quicker way to do this, this time\n",
    "\n",
    "df_violations = df_violations.drop(columns=[x for x in df_violations.columns if x not in ['hsisid','critical', 'category']])\n",
    "df_violations.head()"
   ]
  },
  {
   "cell_type": "code",
   "execution_count": 8,
   "metadata": {},
   "outputs": [
    {
     "data": {
      "text/plain": [
       "hsisid      False\n",
       "category    False\n",
       "critical     True\n",
       "dtype: bool"
      ]
     },
     "execution_count": 8,
     "metadata": {},
     "output_type": "execute_result"
    }
   ],
   "source": [
    "#Checking to make sure no null values exist in the dataset\n",
    "\n",
    "df_violations.isnull().any(axis = 0)"
   ]
  },
  {
   "cell_type": "code",
   "execution_count": 9,
   "metadata": {},
   "outputs": [
    {
     "data": {
      "text/plain": [
       "hsisid      False\n",
       "category    False\n",
       "critical    False\n",
       "dtype: bool"
      ]
     },
     "execution_count": 9,
     "metadata": {},
     "output_type": "execute_result"
    }
   ],
   "source": [
    "#Removing null values \n",
    "\n",
    "df_violations = df_violations[df_violations['critical'].notna()]\n",
    "df_violations = df_violations.reset_index(drop = True)\n",
    "\n",
    "df_violations.isnull().any(axis=0)"
   ]
  },
  {
   "cell_type": "markdown",
   "metadata": {},
   "source": [
    "#### Merging inspection and violation data frames\n",
    "\n",
    "- After cleaning the data, I was able to use the 'hsisid' column to merge both datasets."
   ]
  },
  {
   "cell_type": "code",
   "execution_count": 10,
   "metadata": {
    "scrolled": true
   },
   "outputs": [
    {
     "data": {
      "text/html": [
       "<div>\n",
       "<style scoped>\n",
       "    .dataframe tbody tr th:only-of-type {\n",
       "        vertical-align: middle;\n",
       "    }\n",
       "\n",
       "    .dataframe tbody tr th {\n",
       "        vertical-align: top;\n",
       "    }\n",
       "\n",
       "    .dataframe thead th {\n",
       "        text-align: right;\n",
       "    }\n",
       "</style>\n",
       "<table border=\"1\" class=\"dataframe\">\n",
       "  <thead>\n",
       "    <tr style=\"text-align: right;\">\n",
       "      <th></th>\n",
       "      <th>hsisid</th>\n",
       "      <th>date</th>\n",
       "      <th>score</th>\n",
       "      <th>num_critical</th>\n",
       "      <th>category</th>\n",
       "      <th>critical</th>\n",
       "    </tr>\n",
       "  </thead>\n",
       "  <tbody>\n",
       "    <tr>\n",
       "      <th>0</th>\n",
       "      <td>4092014995</td>\n",
       "      <td>2013-04-22T00:00:00Z</td>\n",
       "      <td>97.0</td>\n",
       "      <td>6</td>\n",
       "      <td>Employee Health</td>\n",
       "      <td>Yes</td>\n",
       "    </tr>\n",
       "    <tr>\n",
       "      <th>1</th>\n",
       "      <td>4092014995</td>\n",
       "      <td>2013-04-22T00:00:00Z</td>\n",
       "      <td>97.0</td>\n",
       "      <td>6</td>\n",
       "      <td>Physical Facilities</td>\n",
       "      <td>No</td>\n",
       "    </tr>\n",
       "    <tr>\n",
       "      <th>2</th>\n",
       "      <td>4092014995</td>\n",
       "      <td>2013-04-22T00:00:00Z</td>\n",
       "      <td>97.0</td>\n",
       "      <td>6</td>\n",
       "      <td>Physical Facilities</td>\n",
       "      <td>No</td>\n",
       "    </tr>\n",
       "    <tr>\n",
       "      <th>3</th>\n",
       "      <td>4092014995</td>\n",
       "      <td>2013-04-22T00:00:00Z</td>\n",
       "      <td>97.0</td>\n",
       "      <td>6</td>\n",
       "      <td>Potentially Hazardous Food Time/Temperature</td>\n",
       "      <td>Yes</td>\n",
       "    </tr>\n",
       "    <tr>\n",
       "      <th>4</th>\n",
       "      <td>4092014995</td>\n",
       "      <td>2013-04-22T00:00:00Z</td>\n",
       "      <td>97.0</td>\n",
       "      <td>6</td>\n",
       "      <td>Protection from Contamination</td>\n",
       "      <td>Yes</td>\n",
       "    </tr>\n",
       "  </tbody>\n",
       "</table>\n",
       "</div>"
      ],
      "text/plain": [
       "       hsisid                  date  score  num_critical  \\\n",
       "0  4092014995  2013-04-22T00:00:00Z   97.0             6   \n",
       "1  4092014995  2013-04-22T00:00:00Z   97.0             6   \n",
       "2  4092014995  2013-04-22T00:00:00Z   97.0             6   \n",
       "3  4092014995  2013-04-22T00:00:00Z   97.0             6   \n",
       "4  4092014995  2013-04-22T00:00:00Z   97.0             6   \n",
       "\n",
       "                                      category critical  \n",
       "0                              Employee Health      Yes  \n",
       "1                          Physical Facilities       No  \n",
       "2                          Physical Facilities       No  \n",
       "3  Potentially Hazardous Food Time/Temperature      Yes  \n",
       "4                Protection from Contamination      Yes  "
      ]
     },
     "execution_count": 10,
     "metadata": {},
     "output_type": "execute_result"
    }
   ],
   "source": [
    "df_merged = pd.merge(df_inspections, df_violations, on = ['hsisid'])\n",
    "df_merged.head()"
   ]
  },
  {
   "cell_type": "markdown",
   "metadata": {},
   "source": [
    "- The data I needed to answer and analyze my research question was scattered across two data sets. In order to merge them into one coherent set, I had to drop duplicate rows, unecessary columns, drop any null values, and merge the two together. Both data sets had assigned an ID to each business, making it easy to merge the two together. \n",
    "- Now my data is clean enough to form visualizations and analyze the relationship between critical violations and health inspection scores.  "
   ]
  },
  {
   "cell_type": "markdown",
   "metadata": {},
   "source": [
    "# Data Visualization"
   ]
  },
  {
   "cell_type": "markdown",
   "metadata": {},
   "source": [
    "Earlier, the average inspection score was calculated using the mean() function, which came out to be 96.02. We can now clearly see in the histogram below, that the majority of food related businesses did receive a score around 96. We can conclude from this distribution that a large amount of businesses value cleanliness. "
   ]
  },
  {
   "cell_type": "code",
   "execution_count": 11,
   "metadata": {},
   "outputs": [
    {
     "data": {
      "image/png": "[encoded data removed]",
      "text/plain": [
       "<Figure size 432x288 with 1 Axes>"
      ]
     },
     "metadata": {
      "needs_background": "light"
     },
     "output_type": "display_data"
    }
   ],
   "source": [
    "#Plotting inspection score distribution\n",
    "\n",
    "f1 = sns.distplot(df_merged['score'], fit = norm, kde=False, bins = 20, color = 'r');\n",
    "f1.set_title('Inspection Score Distribution')\n",
    "f1.set_ylabel(\"Restaurants\")\n",
    "f1.set_xlabel(\"Score\")\n",
    "f1 = plt.gcf()"
   ]
  },
  {
   "cell_type": "markdown",
   "metadata": {},
   "source": [
    "There are some outliers easily visible, which we do have to take note of. These outliers should have hgher critical violations if my hypothesis were to be true.  "
   ]
  },
  {
   "cell_type": "code",
   "execution_count": 12,
   "metadata": {},
   "outputs": [
    {
     "data": {
      "text/html": [
       "<div>\n",
       "<style scoped>\n",
       "    .dataframe tbody tr th:only-of-type {\n",
       "        vertical-align: middle;\n",
       "    }\n",
       "\n",
       "    .dataframe tbody tr th {\n",
       "        vertical-align: top;\n",
       "    }\n",
       "\n",
       "    .dataframe thead th {\n",
       "        text-align: right;\n",
       "    }\n",
       "</style>\n",
       "<table border=\"1\" class=\"dataframe\">\n",
       "  <thead>\n",
       "    <tr style=\"text-align: right;\">\n",
       "      <th></th>\n",
       "      <th>hsisid</th>\n",
       "      <th>date</th>\n",
       "      <th>score</th>\n",
       "      <th>num_critical</th>\n",
       "      <th>category</th>\n",
       "      <th>critical</th>\n",
       "    </tr>\n",
       "  </thead>\n",
       "  <tbody>\n",
       "    <tr>\n",
       "      <th>18076</th>\n",
       "      <td>4092014186</td>\n",
       "      <td>2016-03-15T00:00:00Z</td>\n",
       "      <td>80.0</td>\n",
       "      <td>16</td>\n",
       "      <td>Food Temperature Control</td>\n",
       "      <td>Yes</td>\n",
       "    </tr>\n",
       "    <tr>\n",
       "      <th>18077</th>\n",
       "      <td>4092014186</td>\n",
       "      <td>2016-03-15T00:00:00Z</td>\n",
       "      <td>80.0</td>\n",
       "      <td>16</td>\n",
       "      <td>Food Temperature Control</td>\n",
       "      <td>Yes</td>\n",
       "    </tr>\n",
       "    <tr>\n",
       "      <th>18078</th>\n",
       "      <td>4092014186</td>\n",
       "      <td>2016-03-15T00:00:00Z</td>\n",
       "      <td>80.0</td>\n",
       "      <td>16</td>\n",
       "      <td>Physical Facilities</td>\n",
       "      <td>No</td>\n",
       "    </tr>\n",
       "    <tr>\n",
       "      <th>18079</th>\n",
       "      <td>4092014186</td>\n",
       "      <td>2016-03-15T00:00:00Z</td>\n",
       "      <td>80.0</td>\n",
       "      <td>16</td>\n",
       "      <td>Physical Facilities</td>\n",
       "      <td>No</td>\n",
       "    </tr>\n",
       "    <tr>\n",
       "      <th>18080</th>\n",
       "      <td>4092014186</td>\n",
       "      <td>2016-03-15T00:00:00Z</td>\n",
       "      <td>80.0</td>\n",
       "      <td>16</td>\n",
       "      <td>Food Temperature Control</td>\n",
       "      <td>Yes</td>\n",
       "    </tr>\n",
       "    <tr>\n",
       "      <th>...</th>\n",
       "      <td>...</td>\n",
       "      <td>...</td>\n",
       "      <td>...</td>\n",
       "      <td>...</td>\n",
       "      <td>...</td>\n",
       "      <td>...</td>\n",
       "    </tr>\n",
       "    <tr>\n",
       "      <th>138402</th>\n",
       "      <td>4092017135</td>\n",
       "      <td>2016-10-26T00:00:00Z</td>\n",
       "      <td>80.0</td>\n",
       "      <td>10</td>\n",
       "      <td>Protection from Contamination</td>\n",
       "      <td>Yes</td>\n",
       "    </tr>\n",
       "    <tr>\n",
       "      <th>138403</th>\n",
       "      <td>4092017135</td>\n",
       "      <td>2016-10-26T00:00:00Z</td>\n",
       "      <td>80.0</td>\n",
       "      <td>10</td>\n",
       "      <td>Protection from Contamination</td>\n",
       "      <td>Yes</td>\n",
       "    </tr>\n",
       "    <tr>\n",
       "      <th>138404</th>\n",
       "      <td>4092017135</td>\n",
       "      <td>2016-10-26T00:00:00Z</td>\n",
       "      <td>80.0</td>\n",
       "      <td>10</td>\n",
       "      <td>Utensils and Equipment</td>\n",
       "      <td>No</td>\n",
       "    </tr>\n",
       "    <tr>\n",
       "      <th>138405</th>\n",
       "      <td>4092017135</td>\n",
       "      <td>2016-10-26T00:00:00Z</td>\n",
       "      <td>80.0</td>\n",
       "      <td>10</td>\n",
       "      <td>Utensils and Equipment</td>\n",
       "      <td>No</td>\n",
       "    </tr>\n",
       "    <tr>\n",
       "      <th>138406</th>\n",
       "      <td>4092017135</td>\n",
       "      <td>2016-10-26T00:00:00Z</td>\n",
       "      <td>80.0</td>\n",
       "      <td>10</td>\n",
       "      <td>Approved Source</td>\n",
       "      <td>Yes</td>\n",
       "    </tr>\n",
       "  </tbody>\n",
       "</table>\n",
       "<p>608 rows × 6 columns</p>\n",
       "</div>"
      ],
      "text/plain": [
       "            hsisid                  date  score  num_critical  \\\n",
       "18076   4092014186  2016-03-15T00:00:00Z   80.0            16   \n",
       "18077   4092014186  2016-03-15T00:00:00Z   80.0            16   \n",
       "18078   4092014186  2016-03-15T00:00:00Z   80.0            16   \n",
       "18079   4092014186  2016-03-15T00:00:00Z   80.0            16   \n",
       "18080   4092014186  2016-03-15T00:00:00Z   80.0            16   \n",
       "...            ...                   ...    ...           ...   \n",
       "138402  4092017135  2016-10-26T00:00:00Z   80.0            10   \n",
       "138403  4092017135  2016-10-26T00:00:00Z   80.0            10   \n",
       "138404  4092017135  2016-10-26T00:00:00Z   80.0            10   \n",
       "138405  4092017135  2016-10-26T00:00:00Z   80.0            10   \n",
       "138406  4092017135  2016-10-26T00:00:00Z   80.0            10   \n",
       "\n",
       "                             category critical  \n",
       "18076        Food Temperature Control      Yes  \n",
       "18077        Food Temperature Control      Yes  \n",
       "18078             Physical Facilities       No  \n",
       "18079             Physical Facilities       No  \n",
       "18080        Food Temperature Control      Yes  \n",
       "...                               ...      ...  \n",
       "138402  Protection from Contamination      Yes  \n",
       "138403  Protection from Contamination      Yes  \n",
       "138404         Utensils and Equipment       No  \n",
       "138405         Utensils and Equipment       No  \n",
       "138406                Approved Source      Yes  \n",
       "\n",
       "[608 rows x 6 columns]"
      ]
     },
     "execution_count": 12,
     "metadata": {},
     "output_type": "execute_result"
    }
   ],
   "source": [
    "df_merged.loc[df_merged['score']<= 80]"
   ]
  },
  {
   "cell_type": "markdown",
   "metadata": {},
   "source": [
    "In the following graph, I wanted to show the distribution of the amount of critical violations restaurants received during their health inspections. We can tell from this graph, that restaurants in North Carolina thrive for ultimate cleanliness, as the majority receive small amounts of violations. "
   ]
  },
  {
   "cell_type": "code",
   "execution_count": 13,
   "metadata": {},
   "outputs": [
    {
     "data": {
      "image/png": "[encoded data removed]",
      "text/plain": [
       "<Figure size 432x288 with 1 Axes>"
      ]
     },
     "metadata": {
      "needs_background": "light"
     },
     "output_type": "display_data"
    }
   ],
   "source": [
    "#Plotting critical violations\n",
    "\n",
    "f2 = sns.countplot(x = 'num_critical', data = df_merged)\n",
    "\n",
    "f2.set_title('Critical Violations')\n",
    "f2.set_xlabel('# of Critical Violations')\n",
    "f2.set_ylabel('# of Restaurants')\n",
    "f2 = plt.gcf()"
   ]
  },
  {
   "cell_type": "markdown",
   "metadata": {},
   "source": [
    "In order to fully be able to analyze my question asked earlier, it would be very beneficial to combine the amount of critical violations and the health inspection scores into a graph that will show the relationship between the two variables. This has been done below. "
   ]
  },
  {
   "cell_type": "code",
   "execution_count": 14,
   "metadata": {
    "scrolled": false
   },
   "outputs": [
    {
     "data": {
      "image/png": "[encoded data removed]",
      "text/plain": [
       "<Figure size 432x288 with 1 Axes>"
      ]
     },
     "metadata": {
      "needs_background": "light"
     },
     "output_type": "display_data"
    }
   ],
   "source": [
    "f3 = sns.scatterplot(x = 'score', y = 'num_critical', data = df_merged, s = 100)\n",
    "\n",
    "f3.set_title('# of Violations Affecting Inspection Score')\n",
    "f3.set_xlabel(\"Inspection Score\", fontsize = 13)\n",
    "f3.set_ylabel(\"# of Critical Violations\", fontsize = 13)\n",
    "\n",
    "f3 = plt.gcf()"
   ]
  },
  {
   "cell_type": "markdown",
   "metadata": {},
   "source": [
    "# Data Analysis & Results"
   ]
  },
  {
   "cell_type": "markdown",
   "metadata": {},
   "source": [
    "We can see a relatiosnhip when looking at the scatter plot above. As the inspection score increases, the number of critical violations definitely decreases. In order to further check this we're going to check for a significant relationship, then we can check for linear regression between these two variables."
   ]
  },
  {
   "cell_type": "code",
   "execution_count": 15,
   "metadata": {},
   "outputs": [],
   "source": [
    "scores = df_merged['score'].values\n",
    "violations = df_merged['num_critical'].values\n",
    "\n",
    "st_score, p_score = normaltest(scores)\n",
    "st_violation, p_violation = normaltest(violations)"
   ]
  },
  {
   "cell_type": "code",
   "execution_count": 16,
   "metadata": {},
   "outputs": [
    {
     "name": "stdout",
     "output_type": "stream",
     "text": [
      "There is a significant difference\n"
     ]
    }
   ],
   "source": [
    "violations = df_merged['num_critical'].values\n",
    "\n",
    "t_val, p_val = ttest_ind(scores, violations)\n",
    "\n",
    "if p_val <0.01:\n",
    "    print('There is a significant difference')\n",
    "else: \n",
    "    print('There is not a significant difference')"
   ]
  },
  {
   "cell_type": "markdown",
   "metadata": {},
   "source": [
    "Since the p-value was less than the alpha value, we do have a significant relationship between the health inspection scores and critical violations. Because of this confirmation, I was able to create OLS regression results to observe the relationship further."
   ]
  },
  {
   "cell_type": "code",
   "execution_count": 17,
   "metadata": {},
   "outputs": [
    {
     "name": "stdout",
     "output_type": "stream",
     "text": [
      "                            OLS Regression Results                            \n",
      "==============================================================================\n",
      "Dep. Variable:                  score   R-squared:                       0.555\n",
      "Model:                            OLS   Adj. R-squared:                  0.555\n",
      "Method:                 Least Squares   F-statistic:                 1.793e+05\n",
      "Date:                Wed, 10 Jun 2020   Prob (F-statistic):               0.00\n",
      "Time:                        20:04:57   Log-Likelihood:            -3.1420e+05\n",
      "No. Observations:              143486   AIC:                         6.284e+05\n",
      "Df Residuals:                  143484   BIC:                         6.284e+05\n",
      "Df Model:                           1                                         \n",
      "Covariance Type:            nonrobust                                         \n",
      "================================================================================\n",
      "                   coef    std err          t      P>|t|      [0.025      0.975]\n",
      "--------------------------------------------------------------------------------\n",
      "Intercept       97.4302      0.008   1.21e+04      0.000      97.414      97.446\n",
      "num_critical    -0.7485      0.002   -423.455      0.000      -0.752      -0.745\n",
      "==============================================================================\n",
      "Omnibus:                    36479.938   Durbin-Watson:                   0.032\n",
      "Prob(Omnibus):                  0.000   Jarque-Bera (JB):           149537.193\n",
      "Skew:                          -1.209   Prob(JB):                         0.00\n",
      "Kurtosis:                       7.378   Cond. No.                         6.58\n",
      "==============================================================================\n",
      "\n",
      "Warnings:\n",
      "[1] Standard Errors assume that the covariance matrix of the errors is correctly specified.\n"
     ]
    }
   ],
   "source": [
    "outcome, predictors = patsy.dmatrices('score ~ num_critical', df_merged)\n",
    "mod = sm.OLS(outcome, predictors)\n",
    "res = mod.fit()\n",
    "print(res.summary())"
   ]
  },
  {
   "cell_type": "markdown",
   "metadata": {},
   "source": [
    "Here we can clearly see that when a business's violation point value increase, their health inspection score is expected to decrease by .749 with a standard error of .002.\n",
    "This shows that there is indeed a relationship between the health inspection score received and the number of critical violations. "
   ]
  },
  {
   "cell_type": "markdown",
   "metadata": {},
   "source": [
    "# Ethics & Privacy"
   ]
  },
  {
   "cell_type": "markdown",
   "metadata": {},
   "source": [
    "Food facility inspection reports are considered public information. Due to the fact that the data is publicly available, I have permission to use/analyze it. By using publicly available information, I will not be violating individual privacy through the use of this data. Although this information is public, I have removed a lot of their personal information including, phone numbers, addresses, names, and more during the cleaning process, in order to maintain privacy. \n",
    "\n",
    "Since not all restaurants or food related businesses wihtin all of North Carolina state are included in the data sets, there could be certain sampling biases which would not be the most accurate representation of North Carolina grading processes. There are other potential biases to take into consideration as well, for example, the inspectors providing the health inspection score can vary greatly. Some may be less/more lenient than others which can heavily alter a score that the businesses receive.\n",
    "\n",
    "This research question and the data that could accompany it could impact restaurant’s negatively as it may give inaccurate impressions of the restaurants. Although this may be unavoidable, given the nature of the research question, notes/information can be added to the research so that this is made aware and that the research may be skewed.\n"
   ]
  },
  {
   "cell_type": "markdown",
   "metadata": {},
   "source": [
    "# Conclusion & Discussion"
   ]
  },
  {
   "cell_type": "markdown",
   "metadata": {},
   "source": [
    "I decided to focus on the correlation between a health inspection score received and the number of critical violations that were found during this inspection. I initially wanted to focus on the potential relationship between health inspection scores and foodborne illnesses, because I was curious to see if one does affect the other like you might assume. Because I was limited to the data we were provided (I attempted finding data on my own but it was more difficult than I had anticipated) I had to change my research question and hypothesis to fit what was available to me. I realized that whatever my findings would be on the relationship between health inspection scores and critical violations, could be similar to the original questions I wanted to persue. I could continue this project in the future and find better data that fits that question and compare findings from this project to those. \n",
    "\n",
    "I did find a relationship between the two variables, in that health inspection scores are expected to decrease if the business receives a higher amount of critical violations. I was able to come to this conclusion after cleaning and merging data sets and eventually the use of a t-test, followed by taking a look at linear regression data. The visualizations I created were helpful to visually provide some of the data, but when I looked at the scatter plot I created, it didn't suggest a very strong relationship as there were some outliers. I was able to notice a slight relationship here, but needed to confirm it which I did subsequently.\n",
    "\n",
    "I was able to prove my hypothesis which stated that food related businesses in North Carolina who received a higher number of critical violations receive a lower health inspection score, and vice versa.\n",
    "\n",
    "Additionaly I wanted to include some limitations I found during the entirety of this project. At first I didn't have all the data I wanted to research the questions I asked. I also omitted certain variables which were part of the original data sets, which could mean that my analysis isn't as in depth. There were probably also other factors that could have affected health inspection score, not just critical violations. Laslty, the conclusions drawn can only be mentioned in regards to the cities listed on the data sets, not the entirety of the state of North Carolina. \n",
    "\n",
    "It is important to study the relationships between variables in the world of health inspections. These health inspections are what help food related businesses learn and keep their customers happy and safe from foodborne illnesses."
   ]
  }
 ],
 "metadata": {
  "kernelspec": {
   "display_name": "Python 3",
   "language": "python",
   "name": "python3"
  },
  "language_info": {
   "codemirror_mode": {
    "name": "ipython",
    "version": 3
   },
   "file_extension": ".py",
   "mimetype": "text/x-python",
   "name": "python",
   "nbconvert_exporter": "python",
   "pygments_lexer": "ipython3",
   "version": "3.6.7"
  }
 },
 "nbformat": 4,
 "nbformat_minor": 2
}
