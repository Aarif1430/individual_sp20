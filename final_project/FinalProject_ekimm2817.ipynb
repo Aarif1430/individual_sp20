{
 "cells": [
  {
   "cell_type": "markdown",
   "metadata": {},
   "source": [
    "# COGS 108 - Final Project (Individual)"
   ]
  },
  {
   "cell_type": "markdown",
   "metadata": {},
   "source": [
    "# Overview"
   ]
  },
  {
   "cell_type": "markdown",
   "metadata": {},
   "source": [
    "This project focuses on the association between the frequency of health inspections and health inspection scores. After checking correlation using Spearman's correlation and the difference in means test, the results are that there is little to no association between the frequency of health inspections and health inspection scores. Therefore, having more health inspections will not lead to higher inspection scores."
   ]
  },
  {
   "cell_type": "markdown",
   "metadata": {},
   "source": [
    "# Names & PID\n",
    "\n",
    "- Name: Elise Kim\n",
    "- PID: A15589538"
   ]
  },
  {
   "cell_type": "markdown",
   "metadata": {},
   "source": [
    "# Research Question"
   ]
  },
  {
   "cell_type": "markdown",
   "metadata": {},
   "source": [
    "Does having health inspections more often lead to higher health inspection scores?"
   ]
  },
  {
   "cell_type": "markdown",
   "metadata": {},
   "source": [
    "## Background and Prior Work"
   ]
  },
  {
   "cell_type": "markdown",
   "metadata": {},
   "source": [
    "Before learning whether frequent health inspections can lead to higher health inspection scores, factors related to the frequency of health inspections as well as the importance of health inspections are two key topics to discuss. The frequency of health inspections depends on local public health departments. While health inspections occur about twice a year on average, local public health departments increase or lower the frequency of health inspections depending on types of food, food preparation, cross-contamination, and other factors (Food Safety News). As for the importance of health inspections, according to Smith's article \"Customer reviews and health inspections drive consistent good hygiene at restaurants,\" health inspections have long intervals between inspections in which restaurants remain unmonitored. During one of these long intervals, the hygiene quality of about 30% of the restaurants in New York City worsened. <br/><br/>Although there has not been much research into this topic, Dr. Branas, Dr. Glanz, Sara Leinwand, and Brendan Keenan did look into it in their public report \"Inspection Frequency, Sociodemographic Factors, and Food Safety Violations in Chain and Nonchain Restaurants.\" According to their report, an increase in health inspections led to fewer violations for nonchain restaurants, but it did not affect chain restaurants. In addition, regardless of frequency of inspections, nonchain restaurants usually had more violations than chains restaurants. <br/><br/>These three sources are related to my project because my question focuses on the impact of frequency of health inspections on inspection scores. Knowing the factors that determine the frequency of inspections, the benefits of health inspections on hygiene quality, and its effect on the rate of violations are all very important topics to consider. Furthermore, these sources bring up important biases that may affect the data such as frequency depending on locality and food chain versus non-food chain status. \n",
    "<br/><br/>References (include links):\n",
    "- 1) Food Safety News: https://www.foodsafetynews.com/restaurant-inspections-in-your-area/\n",
    "- 2) 'Customer reviews and health inspections drive consistent good hygiene at restaurants' :https://www.eurekalert.org/pub_releases/2020-01/ifor-cra011320.php\n",
    "- 3) 'Inspection Frequency, Scoiodemographic Factors, and Food Safety Violations in Chain and Nonchain Restaurants': https://www.ncbi.nlm.nih.gov/pmc/articles/PMC5349477/"
   ]
  },
  {
   "cell_type": "markdown",
   "metadata": {},
   "source": [
    "# Hypothesis"
   ]
  },
  {
   "cell_type": "markdown",
   "metadata": {},
   "source": [
    "I think that having more frequent health inspections would lead to higher health inspection scores. A restaurant or other eatery have a lot at risk by not doing well on a health inspection. By having health inspections more often, I would assume an eatery would put more effort into maintaining their hygiene quality until that level of quality becomes a standard at that eatery. "
   ]
  },
  {
   "cell_type": "markdown",
   "metadata": {},
   "source": [
    "# Dataset(s)"
   ]
  },
  {
   "cell_type": "markdown",
   "metadata": {},
   "source": [
    "I will be using inspections.csv and restaurants.csv. Inspections.csv holds a variety of information about different inspections, but I will mainly be using the data of inspection, restaurant name, the restaurant's hsisid, the number of days since last inspection, and the health inspection score. Restaurants.csv holds general information about different restaurants such as their hsisid, location, phone number, name, and more. The only purpose of restaurants.csv is to merge the data with inspections.csv in order to get a list of unique restaurants and their data. The merged dataset should only have the unique id, name of the restaurant, days since previous inspection, and most recent score. Inspections.csv has a total of 18466 different inspections (rows) with 36 different types of information (columns) about each inspection. Restaurants.csv has a total of 3324 different restaurants (rows) with 14 different facts (columns) about each restaurant."
   ]
  },
  {
   "cell_type": "markdown",
   "metadata": {},
   "source": [
    "## Setup"
   ]
  },
  {
   "cell_type": "code",
   "execution_count": 2,
   "metadata": {},
   "outputs": [],
   "source": [
    "# import prep\n",
    "import numpy as np\n",
    "import pandas as pd\n",
    "import matplotlib.pyplot as plt\n",
    "import seaborn as sns\n",
    "import patsy\n",
    "import statsmodels.api as sm\n",
    "import scipy.stats as stats\n",
    "from scipy.stats import ttest_ind, chisquare, normaltest\n",
    "from scipy.stats import spearmanr"
   ]
  },
  {
   "cell_type": "markdown",
   "metadata": {},
   "source": [
    "# Data Cleaning"
   ]
  },
  {
   "cell_type": "code",
   "execution_count": 3,
   "metadata": {},
   "outputs": [],
   "source": [
    "df = pd.read_csv('inspections.csv')\n",
    "df_restaurants = pd.read_csv('restaurants.csv')"
   ]
  },
  {
   "cell_type": "markdown",
   "metadata": {},
   "source": [
    "Since inspections.csv has multiple inspections for the same eatery, we need to make sure each row of df has a unique hsisid before merging. We will find the most recent date of inspection and use that row as the data for that restaurant."
   ]
  },
  {
   "cell_type": "code",
   "execution_count": 4,
   "metadata": {},
   "outputs": [],
   "source": [
    "for i in range(len(df)):\n",
    "    dateInt = str(df.iloc[i, 1])\n",
    "    dateInt = dateInt.replace('-', '')\n",
    "    dateInt = dateInt[0:dateInt.find('T')]\n",
    "    df.iloc[i, 1] = int(dateInt)\n",
    "df = df.loc[df.groupby('hsisid')['date'].idxmax()]"
   ]
  },
  {
   "cell_type": "markdown",
   "metadata": {},
   "source": [
    "Here, we are merging the two dataframes and selecting the columns that we need. "
   ]
  },
  {
   "cell_type": "code",
   "execution_count": 5,
   "metadata": {},
   "outputs": [
    {
     "data": {
      "text/html": [
       "<div>\n",
       "<style scoped>\n",
       "    .dataframe tbody tr th:only-of-type {\n",
       "        vertical-align: middle;\n",
       "    }\n",
       "\n",
       "    .dataframe tbody tr th {\n",
       "        vertical-align: top;\n",
       "    }\n",
       "\n",
       "    .dataframe thead th {\n",
       "        text-align: right;\n",
       "    }\n",
       "</style>\n",
       "<table border=\"1\" class=\"dataframe\">\n",
       "  <thead>\n",
       "    <tr style=\"text-align: right;\">\n",
       "      <th></th>\n",
       "      <th>id</th>\n",
       "      <th>name</th>\n",
       "      <th>days</th>\n",
       "      <th>score</th>\n",
       "    </tr>\n",
       "  </thead>\n",
       "  <tbody>\n",
       "    <tr>\n",
       "      <th>0</th>\n",
       "      <td>4092010018</td>\n",
       "      <td>angus barn</td>\n",
       "      <td>184.0</td>\n",
       "      <td>91.5</td>\n",
       "    </tr>\n",
       "    <tr>\n",
       "      <th>1</th>\n",
       "      <td>4092010024</td>\n",
       "      <td>applebee`s</td>\n",
       "      <td>92.0</td>\n",
       "      <td>96.0</td>\n",
       "    </tr>\n",
       "    <tr>\n",
       "      <th>2</th>\n",
       "      <td>4092010031</td>\n",
       "      <td>archdale bldg. snack bar</td>\n",
       "      <td>546.0</td>\n",
       "      <td>96.5</td>\n",
       "    </tr>\n",
       "    <tr>\n",
       "      <th>3</th>\n",
       "      <td>4092010035</td>\n",
       "      <td>ashworth rexall drug</td>\n",
       "      <td>407.0</td>\n",
       "      <td>92.5</td>\n",
       "    </tr>\n",
       "    <tr>\n",
       "      <th>4</th>\n",
       "      <td>4092010037</td>\n",
       "      <td>aubrey &amp; peedi`s grill</td>\n",
       "      <td>269.0</td>\n",
       "      <td>96.5</td>\n",
       "    </tr>\n",
       "  </tbody>\n",
       "</table>\n",
       "</div>"
      ],
      "text/plain": [
       "           id                      name   days  score\n",
       "0  4092010018                angus barn  184.0   91.5\n",
       "1  4092010024                applebee`s   92.0   96.0\n",
       "2  4092010031  archdale bldg. snack bar  546.0   96.5\n",
       "3  4092010035      ashworth rexall drug  407.0   92.5\n",
       "4  4092010037    aubrey & peedi`s grill  269.0   96.5"
      ]
     },
     "execution_count": 5,
     "metadata": {},
     "output_type": "execute_result"
    }
   ],
   "source": [
    "df = df.merge(df_restaurants, on='hsisid')\n",
    "df = df[['hsisid', 'name_x', 'days_since_previous_inspection', 'score']]\n",
    "df = df.rename({'hsisid': 'id', 'name_x':'name', 'days_since_previous_inspection':'days'}, axis='columns')\n",
    "df['name'] = df['name'].str.lower()\n",
    "df = df.dropna()\n",
    "df.head()"
   ]
  },
  {
   "cell_type": "code",
   "execution_count": 6,
   "metadata": {},
   "outputs": [
    {
     "data": {
      "text/plain": [
       "id       False\n",
       "name     False\n",
       "days     False\n",
       "score    False\n",
       "dtype: bool"
      ]
     },
     "execution_count": 6,
     "metadata": {},
     "output_type": "execute_result"
    }
   ],
   "source": [
    "# checking for any null and uniqueness of responses\n",
    "df['id'].value_counts()\n",
    "df['days'].value_counts()\n",
    "df['score'].value_counts()\n",
    "df.isna().any()"
   ]
  },
  {
   "cell_type": "markdown",
   "metadata": {},
   "source": [
    "The loop below is to clean the names of the eateries but mainly to ensure restaurants of larger food chains have the same name to prepare for usage of groupby(). Please look at the comments for further information about specifics about the loop."
   ]
  },
  {
   "cell_type": "code",
   "execution_count": 8,
   "metadata": {},
   "outputs": [
    {
     "data": {
      "text/plain": [
       "food lion        122\n",
       "harris teeter     86\n",
       "subway            63\n",
       "mcdonalds         49\n",
       "starbucks         37\n",
       "lowes foods       23\n",
       "jersey mikes      22\n",
       "kroger            21\n",
       "bojangles         20\n",
       "chick fil a       20\n",
       "Name: name, dtype: int64"
      ]
     },
     "execution_count": 8,
     "metadata": {},
     "output_type": "execute_result"
    }
   ],
   "source": [
    "for i in range(len(df)):\n",
    "    resName = df.iloc[i, 1]\n",
    "    # removing parentheses and hashtags\n",
    "    ParenIndex = resName.find('(')\n",
    "    EndParenIndex = resName.find(')')\n",
    "    if (ParenIndex != -1) & (EndParenIndex != -1):\n",
    "        resName = resName.replace(resName[ParenIndex:EndParenIndex+1], '')\n",
    "    hashIndex = resName.find('#')\n",
    "    if (hashIndex != -1):\n",
    "        resName = resName.replace(resName[hashIndex:resName.find(' ', hashIndex)], '')\n",
    "        \n",
    "    # finding larger food chains\n",
    "    if 'walmart' in resName:\n",
    "        resName = 'walmart'\n",
    "    if 'starbucks' in resName:\n",
    "        resName = 'starbucks'\n",
    "    if 'harris teeter' in resName:\n",
    "        resName = 'harris teeter'\n",
    "    if 'barnes' in resName:\n",
    "        resName = 'barnes & nobles'\n",
    "    if 'amedeo' in resName:\n",
    "        resName = 'amedeos'\n",
    "    if 'denny' in resName:\n",
    "        resName = 'dennys'\n",
    "    if 'brueggers' in resName:\n",
    "        resName = 'brueggers bagels'\n",
    "    if 'jersey mikes' in resName:\n",
    "        resName = 'jersey mikes'\n",
    "    if 'bjs' in resName:\n",
    "        resName = 'bjs club'\n",
    "        \n",
    "    # general cleaning (spelling errors, unique words, etc.)\n",
    "    resName = resName.replace('deli', '')\n",
    "    resName = resName.replace('produce', '')\n",
    "    resName = resName.replace('meat market', '')\n",
    "    resName = resName.replace('meat market/seafood', '')\n",
    "    resName = resName.replace('cicle', 'circle')\n",
    "    resName = resName.replace('bage ', 'bagels')\n",
    "    resName = resName.replace('dorton arena', '')\n",
    "    resName = resName.replace('/bakery', '')\n",
    "    resName = resName.replace('&amp;', '&')\n",
    "    resName = resName.replace('&amp', '&')\n",
    "    resName = resName.replace(' and ', '&')\n",
    "    resName = resName.replace(' & ', '&')\n",
    "    resName = resName.replace('&', ' & ')\n",
    "    resName = resName.replace(\"`s\", 's')\n",
    "    resName = resName.replace(\"'s\", 's')\n",
    "    resName = resName.replace('  ', ' ')\n",
    "    resName = resName.replace('@', 'at')\n",
    "    resName = resName.replace('0', '')\n",
    "    resName = resName.replace('1', '')\n",
    "    resName = resName.replace('2', '')\n",
    "    resName = resName.replace('3', '')\n",
    "    resName = resName.replace('4', '')\n",
    "    resName = resName.replace('5', '')\n",
    "    resName = resName.replace('6', '')\n",
    "    resName = resName.replace('7', '')\n",
    "    resName = resName.replace('8', '')\n",
    "    resName = resName.replace('9', '')\n",
    "    resName = resName.replace('ii', '')\n",
    "    resName = resName.replace(' - ', ' ')\n",
    "    resName = resName.replace('-', ' ')\n",
    "    \n",
    "    # removing all phrases related to location or owner\n",
    "    resName = resName.replace(' by ', '$')\n",
    "    resName = resName.replace(' at ', '$')\n",
    "    dollarIdx = resName.find('$')\n",
    "    if (dollarIdx != -1):\n",
    "        resName = resName[0:dollarIdx]\n",
    "    resName = resName.strip()\n",
    "    df.iloc[i, 1] = resName\n",
    "\n",
    "df['name'].value_counts()[:10]"
   ]
  },
  {
   "cell_type": "markdown",
   "metadata": {},
   "source": [
    "Grouping restaurants of larger food chains and creating new dataframe with each unique name as its own row"
   ]
  },
  {
   "cell_type": "code",
   "execution_count": 9,
   "metadata": {},
   "outputs": [
    {
     "name": "stdout",
     "output_type": "stream",
     "text": [
      "                  name   days      score\n",
      "0    a & c supermarket  260.0  94.500000\n",
      "1      a & k food mart  262.0  96.500000\n",
      "2  a slice of ny pizza  184.0  97.000000\n",
      "3  a taste of new york  187.0  96.833333\n",
      "4         a'nets katch  223.0  97.500000\n"
     ]
    }
   ],
   "source": [
    "finaldf = df.groupby('name').days.mean().to_frame('days').reset_index()\n",
    "scoredf = df.groupby('name').score.mean().to_frame('score').reset_index()\n",
    "finaldf = finaldf.merge(scoredf, on='name')\n",
    "print(finaldf.head())"
   ]
  },
  {
   "cell_type": "markdown",
   "metadata": {},
   "source": [
    "# Data Analysis and Results"
   ]
  },
  {
   "cell_type": "markdown",
   "metadata": {},
   "source": [
    "Before looking into the relationship between days since previous inspection and health inspection scores, we will first look into each variable separately."
   ]
  },
  {
   "cell_type": "code",
   "execution_count": 168,
   "metadata": {},
   "outputs": [
    {
     "data": {
      "text/plain": [
       "Text(0.0, 1.0, 'Frequency of Days Since Previous Inspection')"
      ]
     },
     "execution_count": 168,
     "metadata": {},
     "output_type": "execute_result"
    },
    {
     "data": {
      "image/png": "[encoded data removed]",
      "text/plain": [
       "<Figure size 720x216 with 1 Axes>"
      ]
     },
     "metadata": {
      "needs_background": "light"
     },
     "output_type": "display_data"
    }
   ],
   "source": [
    "# df.hist(column='days', grid=False)\n",
    "fig, ax = plt.subplots(figsize=(10, 3))\n",
    "dayHist = sns.distplot(finaldf['days'])\n",
    "# Hide the right and top spines\n",
    "dayHist.spines['right'].set_visible(False)\n",
    "dayHist.spines['top'].set_visible(False)\n",
    "dayHist.set_title('Frequency of Days Since Previous Inspection', loc='left')"
   ]
  },
  {
   "cell_type": "markdown",
   "metadata": {},
   "source": [
    "This histogram shows the frequency of days since a restaurant has last had an inspection. Looking at this histogram, we can see that the mean is a little under 200 days (~180 days). There does not appear to be any outliers, but the shape of the distribution is skewed right. From this histogram, we know that most eateries have inspections within 400 days (13.33 months)."
   ]
  },
  {
   "cell_type": "code",
   "execution_count": 169,
   "metadata": {},
   "outputs": [
    {
     "data": {
      "text/plain": [
       "Text(0.0, 1.0, 'Frequency of Scores')"
      ]
     },
     "execution_count": 169,
     "metadata": {},
     "output_type": "execute_result"
    },
    {
     "data": {
      "image/png": "[encoded data removed]",
      "text/plain": [
       "<Figure size 720x216 with 1 Axes>"
      ]
     },
     "metadata": {
      "needs_background": "light"
     },
     "output_type": "display_data"
    }
   ],
   "source": [
    "fig, ax = plt.subplots(figsize=(10, 3))\n",
    "scoreHist = sns.distplot(finaldf['score'])\n",
    "# Hide the right and top spines\n",
    "scoreHist.spines['right'].set_visible(False)\n",
    "scoreHist.spines['top'].set_visible(False)\n",
    "scoreHist.set_title('Frequency of Scores', loc='left')"
   ]
  },
  {
   "cell_type": "markdown",
   "metadata": {},
   "source": [
    "This histogram shows the frequency of each inspection score. Looking at this histogram, we can see that the mean is a score of around 97. There does not appear to be any outliers, but the shape of the distribution is skewed left. From this histogram, we know that most scores tend to be above 90. "
   ]
  },
  {
   "cell_type": "markdown",
   "metadata": {},
   "source": [
    "Now, we will look into the relationship between the two variables."
   ]
  },
  {
   "cell_type": "code",
   "execution_count": 170,
   "metadata": {},
   "outputs": [
    {
     "data": {
      "text/plain": [
       "Text(0.0, 1.0, 'Score by Day')"
      ]
     },
     "execution_count": 170,
     "metadata": {},
     "output_type": "execute_result"
    },
    {
     "data": {
      "image/png": "[encoded data removed]",
      "text/plain": [
       "<Figure size 720x576 with 1 Axes>"
      ]
     },
     "metadata": {
      "needs_background": "light"
     },
     "output_type": "display_data"
    }
   ],
   "source": [
    "fig, ax = plt.subplots(figsize=(10, 8))\n",
    "scatterScore = sns.scatterplot(x='days', y='score', data=finaldf[['days', 'score']], linewidth=0)\n",
    "scatterScore.spines['right'].set_visible(False)\n",
    "scatterScore.spines['top'].set_visible(False)\n",
    "scatterScore.set_title('Score by Day', loc='left')"
   ]
  },
  {
   "cell_type": "markdown",
   "metadata": {},
   "source": [
    "This scatterplot shows the relationship between inspection score and days since last inspection. We can see that most of the data points are bunched up in the top left corner, meaning most places have had their last health inspection in the last 400 days (13.33 months) and mostly received scores above 90 on their most recent health inspection, which match both of the histograms above. We can also see that most of the scores below 90 are from eateries that have had a health inspection in the last 400 days. However, there are also much more data points within 400 days. We will test for correlation later to see whether the majority of lower scores being within the 400 days is due to having more frequent health inspections or just due to chance. Since most of the points are bunched up, there does not appear to be a linear relationship between the two variables, meaning we cannot use linear regression or Pearson correlation, which depend on the assumption of linearity. "
   ]
  },
  {
   "cell_type": "markdown",
   "metadata": {},
   "source": [
    "Since we cannot use linear regression or Pearson correlation, we will use Spearman's correlation instead. "
   ]
  },
  {
   "cell_type": "code",
   "execution_count": 171,
   "metadata": {},
   "outputs": [
    {
     "name": "stdout",
     "output_type": "stream",
     "text": [
      "Not correlated\n"
     ]
    }
   ],
   "source": [
    "data1 = finaldf['days']\n",
    "data2 = finaldf['score']\n",
    "coef, p = spearmanr(data1, data2)\n",
    "alpha = 0.01\n",
    "if p < alpha:\n",
    "    print('Samples are correlated')\n",
    "else:\n",
    "    print('Not correlated')"
   ]
  },
  {
   "cell_type": "markdown",
   "metadata": {},
   "source": [
    "The cell above checks for the association between days since last inspection and the most recent health inspection score. Since the p-value was greater than 0.01, it is unlikely that they are correlated according to Spearman's correlation."
   ]
  },
  {
   "cell_type": "markdown",
   "metadata": {},
   "source": [
    "According to Spearman's correlation, the days since last inspection and most recent health inspection score are not correlated. However, we can also test using a difference in means test (t-test). Here, we will convert days into 'Binary Days' which only has an input of 0 and 1 depending on the day average."
   ]
  },
  {
   "cell_type": "code",
   "execution_count": 172,
   "metadata": {},
   "outputs": [
    {
     "data": {
      "text/plain": [
       "Ttest_indResult(statistic=0.531668442832363, pvalue=0.5950202533445049)"
      ]
     },
     "execution_count": 172,
     "metadata": {},
     "output_type": "execute_result"
    }
   ],
   "source": [
    "dayAvg = finaldf['days'].mean()\n",
    "finaldf['BinaryDays'] = finaldf['days'].apply(lambda x: 0 if x < dayAvg else 1)\n",
    "finaldf.groupby(['BinaryDays'])['score'].mean()\n",
    "group1 = finaldf.where(finaldf.BinaryDays==0).dropna()['score']\n",
    "group2 = finaldf.where(finaldf.BinaryDays==1).dropna()['score']\n",
    "ttest_ind(group1, group2)"
   ]
  },
  {
   "cell_type": "markdown",
   "metadata": {},
   "source": [
    "Since the p-value of 0.5336 is greater than 0.01, observing this difference in means due to random chance alone is likely. Therefore, we fail to reject the null hypothesis, concluding that the difference in means is not significant and that how often a restaurant has health inspections does not play a role on its inspection score."
   ]
  },
  {
   "cell_type": "markdown",
   "metadata": {},
   "source": [
    "## Results\n",
    "According to both Spearman's correlation and the difference in means test, there is no association between days since last inspection and the most recent inspection score. Since there is no association, we can conclude that having health inspections more often, or, in other words, less days since last inspection, does not lead to higher inspection scores. "
   ]
  },
  {
   "cell_type": "markdown",
   "metadata": {},
   "source": [
    "# Ethics & Privacy"
   ]
  },
  {
   "cell_type": "markdown",
   "metadata": {},
   "source": [
    "I do have permission to use both inspections.csv and restaurants.csv as data for this project. I do not think there are any privacy concerns regarding my data. A restaurant's name and health inspection score are both information open to the public. As for potential biases in my dataset, since restaurants of a food chain may have similar health policies, having each individual restaurant of a food chain as its own observation may affect the data. In addition, since local health departments decide the frequency of health inspections, the results can hurt restaurants in a specific locality depending on the frequency. <br/> <br/>\n",
    "As for how I will handle these issues, a restaurant's name is only used to combine food chains as one entry and is not shown on any graphs or written directly in the data analysis or results. If a name is absolutely necessary, a unique id can be given to each restaurant specifically for this project to ensure all restaurants remain anonymous. Therefore, data privacy should not be an issue. For the bias of food chains, as I stated above, restaurants of a food chain can be combined to be a single observation rather than each being their own observation. The days since the previous inspection and the health inspection score can be determined by averaging the two variables between all restaurants of that food chain. With the issue of local health departments determining frequency of health inspections, there is not much I can do to my data to change it. However, since all names will be unknown and addresses will not be used in my dataset, the results should not affect specific restaurants.\n"
   ]
  },
  {
   "cell_type": "markdown",
   "metadata": {},
   "source": [
    "# Conclusion & Discussion"
   ]
  },
  {
   "cell_type": "markdown",
   "metadata": {},
   "source": [
    "My project focused on the relationship between the frequency of health inspections and health inspection scores. Using unique restaurants, the number of days since their last inspection, and their most recent inspection score, I compared each restarant's most recent inspection score and the number of days in order to see if there was some correlation between the two. Contrary to my hypothesis, both Spearman's correlation and the difference in means test demonstrated that there was no correlation between the frequency of health inspections and health inspection scores, meaning the frequency of health inspections does not lead to higher health inspection scores. <br/> <br/>As for a limitation of my project, it may have been better to also look into the previous scores of each restaurant. I did not consider using it until after I completed the data analysis. I was unsure of whether there would be enough data since it would heavily reduce the number of observations I could use in inspections.csv. In addition, another limitation is that my project does not look into other factors that may impact a restaurant's health inspection score. For instance, Harvard's research showing that health inspections scheduled later in the day may receive higher scores due to health inspectors being more exhausted is another factor that could be affecting health inspection scores ('Harvard researchers say fixing food safety inspectors' schedules could end many violations').  <br/> <br/> Since my project has shown that there is no correlation between the frequency of health inspections and health inspection scores, public health departments can take this information to focus on other aspects that may improve food safety and health violation rates. Instead of focusing funding on having more health inspections, which can already be quite expensive, health departments can look into changing the schedules of food inspectors as discussed in the Harvard research above or test other methods for the sake of food safety."
   ]
  }
 ],
 "metadata": {
  "kernelspec": {
   "display_name": "Python 3",
   "language": "python",
   "name": "python3"
  },
  "language_info": {
   "codemirror_mode": {
    "name": "ipython",
    "version": 3
   },
   "file_extension": ".py",
   "mimetype": "text/x-python",
   "name": "python",
   "nbconvert_exporter": "python",
   "pygments_lexer": "ipython3",
   "version": "3.6.7"
  }
 },
 "nbformat": 4,
 "nbformat_minor": 2
}
