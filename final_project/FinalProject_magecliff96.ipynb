{
 "cells": [
  {
   "cell_type": "markdown",
   "metadata": {},
   "source": [
    "# COGS 108 - Final Project"
   ]
  },
  {
   "cell_type": "markdown",
   "metadata": {},
   "source": [
    "# Names & PID\n",
    "Name: Zihao Chen <br>\n",
    "PID: A12610817 <br>\n",
    "Github: github.com/magecliff96 <br>"
   ]
  },
  {
   "cell_type": "markdown",
   "metadata": {},
   "source": [
    "# Overview\n",
    "\n",
    "Using Yelp ratings, health inspection score for restaurants located in different zip code areas, as well as median income of the zip code areas. The correlation between a the income of a restaurant's area and its yelp and health inspection rating can be investigated. As a result, the project aims to investigate the correlation between the wealth of the location of a restaurant versus its performance by using the median income and family poverty percentage of a resturant's zip code and the restaurant's yelp and health inspection rating. Through employing a variety of analysis and visualziations such as scatter plot, linear regression, R-square testing, and T-testing, it was found that there are no correlations between the wealth of the location a restaurant is located in versus the restaurant's yelp and health inspection rating/score for restaurants located in the state of North Carolina."
   ]
  },
  {
   "cell_type": "markdown",
   "metadata": {},
   "source": [
    "# Research Question\n",
    "How does the wealth of the location of a resturant correlates with the resturants performance? Are there any correlation between the income or poverty rate of located area, inspection score? How does the income or poverty rate of a resturant's location affects its rating?"
   ]
  },
  {
   "cell_type": "markdown",
   "metadata": {},
   "source": [
    "# Background and Prior Work\n",
    "##### Background: \n",
    "Does the wealth of the location of a restaurant correlates with its performance? It is questionable whether the local median income correlates with a restaurant's yelp rating and health inspetion score. After all, the location of a restaurant can determine the demographic of its customers, which in turn, can influence a restaurant's yelp rating and standard of cleaniness and hyiene. For example: having more customers who cares less about hygiene may result in less motivation for higher standard of cleaniness for a restaurant. \n",
    "<br><br>\n",
    "It is important to note that resturant Health inspections is a process involving the government local state or county setting standard of cleanliness and hygiene for public Resturant. Restaurant health inspections have standards related to food storage, staff, temperature, etc. and inspections are given a score dependent on how well the resturant pass those standards. Health inspection scores can potentially vary from state to state but in the state of North Carolina, it is within the scale of 100 to 0.\n",
    "\n",
    "##### Prior Work:\n",
    "There had been prior works investigating between the relationship of yelp reviews and inspection scores. [Prior Research](https://www.jstor.org/stable/26330473?seq=1) revealed that there are some correlation between yelp rating and inspection scores by comparing the values through T-testing.  In addition, there had also been [research](https://cseweb.ucsd.edu/classes/wi15/cse255-a/reports/fa15/036.pdf) attempting to predict health inspection scores based on yelp reviews. The [research](https://cseweb.ucsd.edu/classes/wi15/cse255-a/reports/fa15/036.pdf) attempts to use the sentiment content of a restaurant's yelp reviews in attempt to predict the health inspection score of a given resturant. Their predictive program succeeded, producing results with only mean absolute error of 3. Although it might be somewhat clear that there are some relationships between yelp rating and inspection scores, the relationship between median income of the location of a resturant and its yelp rating and health inspection score is rather questionable. This is what this research will be investigating.\n",
    "\n",
    "\n",
    "References:\n",
    "\n",
    "1. https://www.jstor.org/stable/26330473?seq=1\n",
    "2. https://cseweb.ucsd.edu/classes/wi15/cse255-a/reports/fa15/036.pdf"
   ]
  },
  {
   "cell_type": "markdown",
   "metadata": {},
   "source": [
    "# Hypothesis\n",
    "The location of a restaurant can affect its customer economic demographic, which can potentially affect a restaurant's motivation to be clean (to achieve a high health inspection score) or to providing high quality service (to achieve a higher yelp rating), resulting in the following hypothesis:"
   ]
  },
  {
   "cell_type": "markdown",
   "metadata": {},
   "source": [
    "### Hypothesis \n",
    "- There is a correlation between area income and inspection score. The lower the area income, the lower the inspection score. <br> <br>\n",
    "\n",
    "- There is a correlation between area poverty rate and inspection score. The higher the family poverty rate, the lower the inspection score. <br> <br>\n",
    "\n",
    "- There is also a correlation between median income of located area and rating of the resturant. Resturant located in areas with lower median income correlates with lower rating. <br> <br>\n",
    "\n",
    "- There is also a correlation between poverty rate of located area and rating of the resturant. Resturant located in areas with higher family poverty rate correlates with lower rating. <br><br>\n",
    " "
   ]
  },
  {
   "cell_type": "markdown",
   "metadata": {},
   "source": [
    "### Null Hypothesis \n",
    "- There is NO correlation between area income and inspection score. The lower the area income, the lower the inspection score. <br> <br>\n",
    "\n",
    "- There is NO correlation between area poverty rate and inspection score. The higher the family poverty rate, the lower the inspection score. <br> <br>\n",
    "\n",
    "- There is NO correlation between median income of located area and rating of the resturant. Resturant located in areas with lower median income correlates with lower rating. <br> <br>\n",
    "\n",
    "- There is NO correlation between poverty rate of located area and rating of the resturant. Resturant located in areas with higher family poverty rate correlates with lower rating"
   ]
  },
  {
   "cell_type": "markdown",
   "metadata": {},
   "source": [
    "# Dataset(s)\n",
    "All datasets will be stored in various of dataframes with useful information extracted and merged into a single dataframe at the end of data cleaning.<br><br>\n",
    "Three datasets will be involved: inspections.csv, zipcodes.csv, yelp.csv.\n",
    "<br>\n",
    "###### Inspections.csv\n",
    "There are 18466 observations within the inspections.csv dataset related to health inspections results (inspection scores, dates, locations) for various of resturants. The data contains observations between the the period of end of 2012 to the end of 2019. <br>\n",
    "Observations: 18466<br>\n",
    "Source: Professor Shannon Ellis<br>\n",
    "The main variable that will be used from this dataset will be inspection scores. <br>\n",
    "###### zipcodes.csv\n",
    "This data contains information in regards to the socioeconomic observations on the 38 different zip codes. The median income of the zip codes are also contained within this data set. <br>\n",
    "Observations: 38<br>\n",
    "Source: Professor Shannon Ellis<br>\n",
    "The main variable that will be used from this dataset will be median income and family poverty rate. <br>\n",
    "###### yelp.csv\n",
    "The yelp.csv contains 3689 observations relevant to restaurant's yelp rating and details related to the cost, location, food type, etc. It also contains the restaurants zip code which can be useful to find correlation between the median income of the local area versus the restaurant's yelp rating. <br>\n",
    "Observations: 3689<br>\n",
    "Source: Professor Shannon Ellis<br>\n",
    "The main variable that will be used from this dataset will be yelp rating. \n",
    "<br> <br>\n",
    "All of the datasets mentioned above are provided by professor Shannon Ellis\n",
    "\n",
    "### Datasets Avaliability Discussion\n",
    "The dataset would be otherwise ideal if it isnt that the number of observations (38) related to zip codes (zipcodes.csv) is rather limited. As the analysis will be done through comparing zip codes with different socialeconomic status, each zip code will only acts as a single plot point/observation throughout the analysis in this research regardless of the number of restaurants located within each of these area represented by the zip codes. In addition, due the low and biased zipcode sampling proccess, the analysis will not be applicable to United States. The analysis will only be applicable  to North Carolina, as the datasets only contains restaurants and socioeconomic observations of areas located within the state of North Carolina. The ideal datasets will contain restaurant information randomly sampled from all zip codes in United States of America. There should be at least three restaurant randomly sampled per avaliable zip code, resulting in more than 125,106 (41,702*3) observations since there are 41,702 zip codes across America. This will help ensure the study be applicable to all restaurants located in United States instead of limiting only to North Carolina."
   ]
  },
  {
   "cell_type": "markdown",
   "metadata": {},
   "source": [
    "# Setup\n",
    "A variety of packages such as pandas, matplot, seaborn, patsy, statsmodels, and scipy are loaded to ensure that packages and functions needed to carry out the analysis is easily accessable, regardless of whether all packages is used. <br> <br>\n",
    "Datasets are also loaded, assigned to a temparary dataframe before being refined, reassigned, and merged in the data cleaning section."
   ]
  },
  {
   "cell_type": "code",
   "execution_count": 1,
   "metadata": {},
   "outputs": [],
   "source": [
    "import numpy as np\n",
    "import pandas as pd\n",
    "import matplotlib.pyplot as plt\n",
    "\n",
    "import seaborn as sns\n",
    "\n",
    "import patsy\n",
    "import statsmodels.api as sm\n",
    "import scipy.stats as stats\n",
    "from scipy.stats import ttest_ind, chisquare, normaltest"
   ]
  },
  {
   "cell_type": "code",
   "execution_count": 2,
   "metadata": {},
   "outputs": [
    {
     "data": {
      "text/plain": [
       "array(['NC'], dtype=object)"
      ]
     },
     "execution_count": 2,
     "metadata": {},
     "output_type": "execute_result"
    }
   ],
   "source": [
    "df1og=pd.read_csv(\"inspections.csv\")\n",
    "df2og=pd.read_csv(\"yelp.csv\")\n",
    "df3og=pd.read_csv(\"zipcodes.csv\")\n",
    "df1og['state'].unique()"
   ]
  },
  {
   "cell_type": "code",
   "execution_count": 3,
   "metadata": {},
   "outputs": [
    {
     "data": {
      "text/html": [
       "<div>\n",
       "<style scoped>\n",
       "    .dataframe tbody tr th:only-of-type {\n",
       "        vertical-align: middle;\n",
       "    }\n",
       "\n",
       "    .dataframe tbody tr th {\n",
       "        vertical-align: top;\n",
       "    }\n",
       "\n",
       "    .dataframe thead th {\n",
       "        text-align: right;\n",
       "    }\n",
       "</style>\n",
       "<table border=\"1\" class=\"dataframe\">\n",
       "  <thead>\n",
       "    <tr style=\"text-align: right;\">\n",
       "      <th></th>\n",
       "      <th>hsisid</th>\n",
       "      <th>date</th>\n",
       "      <th>name</th>\n",
       "      <th>address1</th>\n",
       "      <th>address2</th>\n",
       "      <th>city</th>\n",
       "      <th>state</th>\n",
       "      <th>postalcode</th>\n",
       "      <th>phonenumber</th>\n",
       "      <th>restaurantopendate</th>\n",
       "      <th>...</th>\n",
       "      <th>num_non_critical</th>\n",
       "      <th>num_critical_previous</th>\n",
       "      <th>num_non_critical_previous</th>\n",
       "      <th>num_critical_mean_previous</th>\n",
       "      <th>num_non_critical_mean_previous</th>\n",
       "      <th>avg_neighbor_num_critical</th>\n",
       "      <th>avg_neighbor_num_non_critical</th>\n",
       "      <th>top_match</th>\n",
       "      <th>second_match</th>\n",
       "      <th>critical</th>\n",
       "    </tr>\n",
       "  </thead>\n",
       "  <tbody>\n",
       "    <tr>\n",
       "      <td>0</td>\n",
       "      <td>4092013748</td>\n",
       "      <td>2012-09-21T00:00:00Z</td>\n",
       "      <td>Cafe 3000 At Wake Med</td>\n",
       "      <td>3000 New Bern Ave</td>\n",
       "      <td>NaN</td>\n",
       "      <td>raleigh</td>\n",
       "      <td>NC</td>\n",
       "      <td>27610</td>\n",
       "      <td>(919) 350-8047</td>\n",
       "      <td>2002-12-21T00:00:00Z</td>\n",
       "      <td>...</td>\n",
       "      <td>7</td>\n",
       "      <td>NaN</td>\n",
       "      <td>NaN</td>\n",
       "      <td>NaN</td>\n",
       "      <td>NaN</td>\n",
       "      <td>NaN</td>\n",
       "      <td>NaN</td>\n",
       "      <td>NaN</td>\n",
       "      <td>NaN</td>\n",
       "      <td>1</td>\n",
       "    </tr>\n",
       "    <tr>\n",
       "      <td>1</td>\n",
       "      <td>4092014046</td>\n",
       "      <td>2012-09-21T00:00:00Z</td>\n",
       "      <td>Overtime Sports Pub</td>\n",
       "      <td>1030-149 N Rogers Ln</td>\n",
       "      <td>NaN</td>\n",
       "      <td>raleigh</td>\n",
       "      <td>NC</td>\n",
       "      <td>27610</td>\n",
       "      <td>(919) 255-9556</td>\n",
       "      <td>2004-05-04T00:00:00Z</td>\n",
       "      <td>...</td>\n",
       "      <td>11</td>\n",
       "      <td>NaN</td>\n",
       "      <td>NaN</td>\n",
       "      <td>NaN</td>\n",
       "      <td>NaN</td>\n",
       "      <td>NaN</td>\n",
       "      <td>NaN</td>\n",
       "      <td>NaN</td>\n",
       "      <td>NaN</td>\n",
       "      <td>0</td>\n",
       "    </tr>\n",
       "    <tr>\n",
       "      <td>2</td>\n",
       "      <td>4092015191</td>\n",
       "      <td>2012-09-21T00:00:00Z</td>\n",
       "      <td>TASTE OF CHINA</td>\n",
       "      <td>6209 ROCK QUARRY RD</td>\n",
       "      <td>STE 126</td>\n",
       "      <td>raleigh</td>\n",
       "      <td>NC</td>\n",
       "      <td>27610</td>\n",
       "      <td>(919) 773-2285</td>\n",
       "      <td>2008-08-04T00:00:00Z</td>\n",
       "      <td>...</td>\n",
       "      <td>8</td>\n",
       "      <td>NaN</td>\n",
       "      <td>NaN</td>\n",
       "      <td>NaN</td>\n",
       "      <td>NaN</td>\n",
       "      <td>NaN</td>\n",
       "      <td>NaN</td>\n",
       "      <td>NaN</td>\n",
       "      <td>NaN</td>\n",
       "      <td>1</td>\n",
       "    </tr>\n",
       "    <tr>\n",
       "      <td>3</td>\n",
       "      <td>4092016122</td>\n",
       "      <td>2012-09-21T00:00:00Z</td>\n",
       "      <td>Panera Bread #1643</td>\n",
       "      <td>1065 Darrington DR</td>\n",
       "      <td>NaN</td>\n",
       "      <td>cary</td>\n",
       "      <td>NC</td>\n",
       "      <td>27513</td>\n",
       "      <td>NaN</td>\n",
       "      <td>2012-03-28T00:00:00Z</td>\n",
       "      <td>...</td>\n",
       "      <td>3</td>\n",
       "      <td>NaN</td>\n",
       "      <td>NaN</td>\n",
       "      <td>NaN</td>\n",
       "      <td>NaN</td>\n",
       "      <td>NaN</td>\n",
       "      <td>NaN</td>\n",
       "      <td>NaN</td>\n",
       "      <td>NaN</td>\n",
       "      <td>1</td>\n",
       "    </tr>\n",
       "    <tr>\n",
       "      <td>4</td>\n",
       "      <td>4092021513</td>\n",
       "      <td>2012-09-21T00:00:00Z</td>\n",
       "      <td>WalMart Supercenter #4499-00 Deli/Bakery</td>\n",
       "      <td>841 E Gannon AVE</td>\n",
       "      <td>NaN</td>\n",
       "      <td>zebulon</td>\n",
       "      <td>NC</td>\n",
       "      <td>27597</td>\n",
       "      <td>(919) 269-2221 ext. 304</td>\n",
       "      <td>2008-02-25T00:00:00Z</td>\n",
       "      <td>...</td>\n",
       "      <td>4</td>\n",
       "      <td>NaN</td>\n",
       "      <td>NaN</td>\n",
       "      <td>NaN</td>\n",
       "      <td>NaN</td>\n",
       "      <td>NaN</td>\n",
       "      <td>NaN</td>\n",
       "      <td>NaN</td>\n",
       "      <td>NaN</td>\n",
       "      <td>1</td>\n",
       "    </tr>\n",
       "  </tbody>\n",
       "</table>\n",
       "<p>5 rows × 36 columns</p>\n",
       "</div>"
      ],
      "text/plain": [
       "       hsisid                  date                                      name  \\\n",
       "0  4092013748  2012-09-21T00:00:00Z                     Cafe 3000 At Wake Med   \n",
       "1  4092014046  2012-09-21T00:00:00Z                       Overtime Sports Pub   \n",
       "2  4092015191  2012-09-21T00:00:00Z                            TASTE OF CHINA   \n",
       "3  4092016122  2012-09-21T00:00:00Z                        Panera Bread #1643   \n",
       "4  4092021513  2012-09-21T00:00:00Z  WalMart Supercenter #4499-00 Deli/Bakery   \n",
       "\n",
       "               address1 address2     city state postalcode  \\\n",
       "0     3000 New Bern Ave      NaN  raleigh    NC      27610   \n",
       "1  1030-149 N Rogers Ln      NaN  raleigh    NC      27610   \n",
       "2   6209 ROCK QUARRY RD  STE 126  raleigh    NC      27610   \n",
       "3    1065 Darrington DR      NaN     cary    NC      27513   \n",
       "4      841 E Gannon AVE      NaN  zebulon    NC      27597   \n",
       "\n",
       "               phonenumber    restaurantopendate  ...  num_non_critical  \\\n",
       "0           (919) 350-8047  2002-12-21T00:00:00Z  ...                 7   \n",
       "1           (919) 255-9556  2004-05-04T00:00:00Z  ...                11   \n",
       "2           (919) 773-2285  2008-08-04T00:00:00Z  ...                 8   \n",
       "3                      NaN  2012-03-28T00:00:00Z  ...                 3   \n",
       "4  (919) 269-2221 ext. 304  2008-02-25T00:00:00Z  ...                 4   \n",
       "\n",
       "  num_critical_previous  num_non_critical_previous  \\\n",
       "0                   NaN                        NaN   \n",
       "1                   NaN                        NaN   \n",
       "2                   NaN                        NaN   \n",
       "3                   NaN                        NaN   \n",
       "4                   NaN                        NaN   \n",
       "\n",
       "   num_critical_mean_previous num_non_critical_mean_previous  \\\n",
       "0                         NaN                            NaN   \n",
       "1                         NaN                            NaN   \n",
       "2                         NaN                            NaN   \n",
       "3                         NaN                            NaN   \n",
       "4                         NaN                            NaN   \n",
       "\n",
       "   avg_neighbor_num_critical avg_neighbor_num_non_critical top_match  \\\n",
       "0                        NaN                           NaN       NaN   \n",
       "1                        NaN                           NaN       NaN   \n",
       "2                        NaN                           NaN       NaN   \n",
       "3                        NaN                           NaN       NaN   \n",
       "4                        NaN                           NaN       NaN   \n",
       "\n",
       "  second_match  critical  \n",
       "0          NaN         1  \n",
       "1          NaN         0  \n",
       "2          NaN         1  \n",
       "3          NaN         1  \n",
       "4          NaN         1  \n",
       "\n",
       "[5 rows x 36 columns]"
      ]
     },
     "execution_count": 3,
     "metadata": {},
     "output_type": "execute_result"
    }
   ],
   "source": [
    "df1og.head(5)"
   ]
  },
  {
   "cell_type": "code",
   "execution_count": 4,
   "metadata": {},
   "outputs": [
    {
     "data": {
      "text/html": [
       "<div>\n",
       "<style scoped>\n",
       "    .dataframe tbody tr th:only-of-type {\n",
       "        vertical-align: middle;\n",
       "    }\n",
       "\n",
       "    .dataframe tbody tr th {\n",
       "        vertical-align: top;\n",
       "    }\n",
       "\n",
       "    .dataframe thead th {\n",
       "        text-align: right;\n",
       "    }\n",
       "</style>\n",
       "<table border=\"1\" class=\"dataframe\">\n",
       "  <thead>\n",
       "    <tr style=\"text-align: right;\">\n",
       "      <th></th>\n",
       "      <th>id</th>\n",
       "      <th>name</th>\n",
       "      <th>is_closed</th>\n",
       "      <th>rating</th>\n",
       "      <th>review_count</th>\n",
       "      <th>address1</th>\n",
       "      <th>zip_code</th>\n",
       "      <th>latitude</th>\n",
       "      <th>longitude</th>\n",
       "      <th>price</th>\n",
       "      <th>...</th>\n",
       "      <th>italian</th>\n",
       "      <th>newamerican</th>\n",
       "      <th>chicken_wings</th>\n",
       "      <th>delis</th>\n",
       "      <th>bars</th>\n",
       "      <th>salad</th>\n",
       "      <th>seafood</th>\n",
       "      <th>bbq</th>\n",
       "      <th>bakeries</th>\n",
       "      <th>sushi</th>\n",
       "    </tr>\n",
       "  </thead>\n",
       "  <tbody>\n",
       "    <tr>\n",
       "      <td>0</td>\n",
       "      <td>42nd-street-oyster-bar-rdu-airport-morrisville</td>\n",
       "      <td>42nd street oyster bar - rdu airport</td>\n",
       "      <td>False</td>\n",
       "      <td>2.5</td>\n",
       "      <td>23</td>\n",
       "      <td>2400 John Brantley Blvd</td>\n",
       "      <td>27560</td>\n",
       "      <td>35.873808</td>\n",
       "      <td>-78.790896</td>\n",
       "      <td>$$</td>\n",
       "      <td>...</td>\n",
       "      <td>False</td>\n",
       "      <td>True</td>\n",
       "      <td>False</td>\n",
       "      <td>False</td>\n",
       "      <td>False</td>\n",
       "      <td>False</td>\n",
       "      <td>True</td>\n",
       "      <td>False</td>\n",
       "      <td>False</td>\n",
       "      <td>False</td>\n",
       "    </tr>\n",
       "    <tr>\n",
       "      <td>1</td>\n",
       "      <td>aldi-foods-cary</td>\n",
       "      <td>aldi foods</td>\n",
       "      <td>False</td>\n",
       "      <td>4.0</td>\n",
       "      <td>17</td>\n",
       "      <td>2303 NW Maynard Rd</td>\n",
       "      <td>27519</td>\n",
       "      <td>35.802840</td>\n",
       "      <td>-78.785930</td>\n",
       "      <td>$</td>\n",
       "      <td>...</td>\n",
       "      <td>False</td>\n",
       "      <td>False</td>\n",
       "      <td>False</td>\n",
       "      <td>False</td>\n",
       "      <td>False</td>\n",
       "      <td>False</td>\n",
       "      <td>False</td>\n",
       "      <td>False</td>\n",
       "      <td>False</td>\n",
       "      <td>False</td>\n",
       "    </tr>\n",
       "    <tr>\n",
       "      <td>2</td>\n",
       "      <td>luciano-pizzeria-ristorante-northwest-raleigh</td>\n",
       "      <td>luciano pizzeria ristorante</td>\n",
       "      <td>False</td>\n",
       "      <td>5.0</td>\n",
       "      <td>2</td>\n",
       "      <td>Crabtree Valley Mall</td>\n",
       "      <td>27612</td>\n",
       "      <td>35.839681</td>\n",
       "      <td>-78.678791</td>\n",
       "      <td>$</td>\n",
       "      <td>...</td>\n",
       "      <td>True</td>\n",
       "      <td>False</td>\n",
       "      <td>False</td>\n",
       "      <td>False</td>\n",
       "      <td>False</td>\n",
       "      <td>False</td>\n",
       "      <td>False</td>\n",
       "      <td>False</td>\n",
       "      <td>False</td>\n",
       "      <td>False</td>\n",
       "    </tr>\n",
       "    <tr>\n",
       "      <td>3</td>\n",
       "      <td>olive-garden-italian-restaurant-wilson</td>\n",
       "      <td>olive garden italian restaurant</td>\n",
       "      <td>False</td>\n",
       "      <td>3.0</td>\n",
       "      <td>16</td>\n",
       "      <td>3401 Raleigh Rd Pkwy W</td>\n",
       "      <td>27893</td>\n",
       "      <td>35.743170</td>\n",
       "      <td>-77.964160</td>\n",
       "      <td>$$</td>\n",
       "      <td>...</td>\n",
       "      <td>True</td>\n",
       "      <td>False</td>\n",
       "      <td>False</td>\n",
       "      <td>False</td>\n",
       "      <td>False</td>\n",
       "      <td>True</td>\n",
       "      <td>False</td>\n",
       "      <td>False</td>\n",
       "      <td>False</td>\n",
       "      <td>False</td>\n",
       "    </tr>\n",
       "    <tr>\n",
       "      <td>4</td>\n",
       "      <td>subway-wilson-4</td>\n",
       "      <td>subway</td>\n",
       "      <td>False</td>\n",
       "      <td>3.5</td>\n",
       "      <td>3</td>\n",
       "      <td>4934 Raleigh Rd</td>\n",
       "      <td>27896</td>\n",
       "      <td>35.762936</td>\n",
       "      <td>-77.999428</td>\n",
       "      <td>$</td>\n",
       "      <td>...</td>\n",
       "      <td>False</td>\n",
       "      <td>False</td>\n",
       "      <td>False</td>\n",
       "      <td>False</td>\n",
       "      <td>False</td>\n",
       "      <td>False</td>\n",
       "      <td>False</td>\n",
       "      <td>False</td>\n",
       "      <td>False</td>\n",
       "      <td>False</td>\n",
       "    </tr>\n",
       "  </tbody>\n",
       "</table>\n",
       "<p>5 rows × 31 columns</p>\n",
       "</div>"
      ],
      "text/plain": [
       "                                               id  \\\n",
       "0  42nd-street-oyster-bar-rdu-airport-morrisville   \n",
       "1                                 aldi-foods-cary   \n",
       "2   luciano-pizzeria-ristorante-northwest-raleigh   \n",
       "3          olive-garden-italian-restaurant-wilson   \n",
       "4                                 subway-wilson-4   \n",
       "\n",
       "                                   name  is_closed  rating  review_count  \\\n",
       "0  42nd street oyster bar - rdu airport      False     2.5            23   \n",
       "1                            aldi foods      False     4.0            17   \n",
       "2           luciano pizzeria ristorante      False     5.0             2   \n",
       "3       olive garden italian restaurant      False     3.0            16   \n",
       "4                                subway      False     3.5             3   \n",
       "\n",
       "                  address1  zip_code   latitude  longitude price  ... italian  \\\n",
       "0  2400 John Brantley Blvd     27560  35.873808 -78.790896    $$  ...   False   \n",
       "1       2303 NW Maynard Rd     27519  35.802840 -78.785930     $  ...   False   \n",
       "2     Crabtree Valley Mall     27612  35.839681 -78.678791     $  ...    True   \n",
       "3   3401 Raleigh Rd Pkwy W     27893  35.743170 -77.964160    $$  ...    True   \n",
       "4          4934 Raleigh Rd     27896  35.762936 -77.999428     $  ...   False   \n",
       "\n",
       "   newamerican  chicken_wings  delis   bars  salad  seafood    bbq  bakeries  \\\n",
       "0         True          False  False  False  False     True  False     False   \n",
       "1        False          False  False  False  False    False  False     False   \n",
       "2        False          False  False  False  False    False  False     False   \n",
       "3        False          False  False  False   True    False  False     False   \n",
       "4        False          False  False  False  False    False  False     False   \n",
       "\n",
       "   sushi  \n",
       "0  False  \n",
       "1  False  \n",
       "2  False  \n",
       "3  False  \n",
       "4  False  \n",
       "\n",
       "[5 rows x 31 columns]"
      ]
     },
     "execution_count": 4,
     "metadata": {},
     "output_type": "execute_result"
    }
   ],
   "source": [
    "df2og.head(5)"
   ]
  },
  {
   "cell_type": "code",
   "execution_count": 5,
   "metadata": {},
   "outputs": [
    {
     "data": {
      "text/html": [
       "<div>\n",
       "<style scoped>\n",
       "    .dataframe tbody tr th:only-of-type {\n",
       "        vertical-align: middle;\n",
       "    }\n",
       "\n",
       "    .dataframe tbody tr th {\n",
       "        vertical-align: top;\n",
       "    }\n",
       "\n",
       "    .dataframe thead th {\n",
       "        text-align: right;\n",
       "    }\n",
       "</style>\n",
       "<table border=\"1\" class=\"dataframe\">\n",
       "  <thead>\n",
       "    <tr style=\"text-align: right;\">\n",
       "      <th></th>\n",
       "      <th>zip</th>\n",
       "      <th>median_family_income_dollars</th>\n",
       "      <th>median_household_income_dollars</th>\n",
       "      <th>per_capita_income_dollars</th>\n",
       "      <th>percent_damilies_below_poverty_line</th>\n",
       "      <th>percent_snap_benefits</th>\n",
       "      <th>percent_supplemental_security_income</th>\n",
       "      <th>percent_nonwhite</th>\n",
       "    </tr>\n",
       "  </thead>\n",
       "  <tbody>\n",
       "    <tr>\n",
       "      <td>0</td>\n",
       "      <td>27501</td>\n",
       "      <td>59408</td>\n",
       "      <td>51121</td>\n",
       "      <td>21631</td>\n",
       "      <td>10.5</td>\n",
       "      <td>15.5</td>\n",
       "      <td>5.2</td>\n",
       "      <td>17.9</td>\n",
       "    </tr>\n",
       "    <tr>\n",
       "      <td>1</td>\n",
       "      <td>27502</td>\n",
       "      <td>109891</td>\n",
       "      <td>95857</td>\n",
       "      <td>36763</td>\n",
       "      <td>3.4</td>\n",
       "      <td>2.4</td>\n",
       "      <td>0.8</td>\n",
       "      <td>18.9</td>\n",
       "    </tr>\n",
       "    <tr>\n",
       "      <td>2</td>\n",
       "      <td>27511</td>\n",
       "      <td>82292</td>\n",
       "      <td>67392</td>\n",
       "      <td>33139</td>\n",
       "      <td>9.6</td>\n",
       "      <td>4.5</td>\n",
       "      <td>2.2</td>\n",
       "      <td>24.8</td>\n",
       "    </tr>\n",
       "    <tr>\n",
       "      <td>3</td>\n",
       "      <td>27513</td>\n",
       "      <td>109736</td>\n",
       "      <td>87262</td>\n",
       "      <td>41232</td>\n",
       "      <td>3.8</td>\n",
       "      <td>2.4</td>\n",
       "      <td>1.5</td>\n",
       "      <td>27.8</td>\n",
       "    </tr>\n",
       "    <tr>\n",
       "      <td>4</td>\n",
       "      <td>27518</td>\n",
       "      <td>125432</td>\n",
       "      <td>98247</td>\n",
       "      <td>49865</td>\n",
       "      <td>5.5</td>\n",
       "      <td>1.0</td>\n",
       "      <td>1.7</td>\n",
       "      <td>19.9</td>\n",
       "    </tr>\n",
       "  </tbody>\n",
       "</table>\n",
       "</div>"
      ],
      "text/plain": [
       "     zip  median_family_income_dollars  median_household_income_dollars  \\\n",
       "0  27501                         59408                            51121   \n",
       "1  27502                        109891                            95857   \n",
       "2  27511                         82292                            67392   \n",
       "3  27513                        109736                            87262   \n",
       "4  27518                        125432                            98247   \n",
       "\n",
       "   per_capita_income_dollars  percent_damilies_below_poverty_line  \\\n",
       "0                      21631                                 10.5   \n",
       "1                      36763                                  3.4   \n",
       "2                      33139                                  9.6   \n",
       "3                      41232                                  3.8   \n",
       "4                      49865                                  5.5   \n",
       "\n",
       "   percent_snap_benefits  percent_supplemental_security_income  \\\n",
       "0                   15.5                                   5.2   \n",
       "1                    2.4                                   0.8   \n",
       "2                    4.5                                   2.2   \n",
       "3                    2.4                                   1.5   \n",
       "4                    1.0                                   1.7   \n",
       "\n",
       "   percent_nonwhite  \n",
       "0              17.9  \n",
       "1              18.9  \n",
       "2              24.8  \n",
       "3              27.8  \n",
       "4              19.9  "
      ]
     },
     "execution_count": 5,
     "metadata": {},
     "output_type": "execute_result"
    }
   ],
   "source": [
    "df3og.head(5)"
   ]
  },
  {
   "cell_type": "markdown",
   "metadata": {},
   "source": [
    "# Data Cleaning"
   ]
  },
  {
   "cell_type": "markdown",
   "metadata": {},
   "source": [
    "## Isolating Useful Data \n",
    "Data needed for the analysis and merging is isolated and stored in a seperate dataframe to simplify the dataframe being used in the analysis. The collumns are also renamed to ensure that the column names are universal and ready for merge. Any rows with incomplete data exiting in the new dataframes created after isolation will also be dropped, ensuring that all datas are usable for all future analysis and comparisons."
   ]
  },
  {
   "cell_type": "code",
   "execution_count": 6,
   "metadata": {},
   "outputs": [
    {
     "data": {
      "text/html": [
       "<div>\n",
       "<style scoped>\n",
       "    .dataframe tbody tr th:only-of-type {\n",
       "        vertical-align: middle;\n",
       "    }\n",
       "\n",
       "    .dataframe tbody tr th {\n",
       "        vertical-align: top;\n",
       "    }\n",
       "\n",
       "    .dataframe thead th {\n",
       "        text-align: right;\n",
       "    }\n",
       "</style>\n",
       "<table border=\"1\" class=\"dataframe\">\n",
       "  <thead>\n",
       "    <tr style=\"text-align: right;\">\n",
       "      <th></th>\n",
       "      <th>zip_code</th>\n",
       "      <th>inspection_score</th>\n",
       "    </tr>\n",
       "  </thead>\n",
       "  <tbody>\n",
       "    <tr>\n",
       "      <td>0</td>\n",
       "      <td>27610</td>\n",
       "      <td>96.0</td>\n",
       "    </tr>\n",
       "    <tr>\n",
       "      <td>1</td>\n",
       "      <td>27610</td>\n",
       "      <td>98.0</td>\n",
       "    </tr>\n",
       "    <tr>\n",
       "      <td>2</td>\n",
       "      <td>27610</td>\n",
       "      <td>97.0</td>\n",
       "    </tr>\n",
       "    <tr>\n",
       "      <td>3</td>\n",
       "      <td>27513</td>\n",
       "      <td>99.0</td>\n",
       "    </tr>\n",
       "    <tr>\n",
       "      <td>4</td>\n",
       "      <td>27597</td>\n",
       "      <td>97.0</td>\n",
       "    </tr>\n",
       "  </tbody>\n",
       "</table>\n",
       "</div>"
      ],
      "text/plain": [
       "  zip_code  inspection_score\n",
       "0    27610              96.0\n",
       "1    27610              98.0\n",
       "2    27610              97.0\n",
       "3    27513              99.0\n",
       "4    27597              97.0"
      ]
     },
     "execution_count": 6,
     "metadata": {},
     "output_type": "execute_result"
    }
   ],
   "source": [
    "#for col in df1og.columns:\n",
    "#    print(col)\n",
    "df1=pd.DataFrame(data=df1og['postalcode'])\n",
    "df1['health_inspection_score']=df1og['score']\n",
    "df1.columns = ['zip_code', 'inspection_score']\n",
    "df1=df1.dropna()\n",
    "df1.head(5)"
   ]
  },
  {
   "cell_type": "code",
   "execution_count": 7,
   "metadata": {},
   "outputs": [
    {
     "data": {
      "text/html": [
       "<div>\n",
       "<style scoped>\n",
       "    .dataframe tbody tr th:only-of-type {\n",
       "        vertical-align: middle;\n",
       "    }\n",
       "\n",
       "    .dataframe tbody tr th {\n",
       "        vertical-align: top;\n",
       "    }\n",
       "\n",
       "    .dataframe thead th {\n",
       "        text-align: right;\n",
       "    }\n",
       "</style>\n",
       "<table border=\"1\" class=\"dataframe\">\n",
       "  <thead>\n",
       "    <tr style=\"text-align: right;\">\n",
       "      <th></th>\n",
       "      <th>zip_code</th>\n",
       "      <th>yelp_rating</th>\n",
       "    </tr>\n",
       "  </thead>\n",
       "  <tbody>\n",
       "    <tr>\n",
       "      <td>0</td>\n",
       "      <td>27560</td>\n",
       "      <td>2.5</td>\n",
       "    </tr>\n",
       "    <tr>\n",
       "      <td>1</td>\n",
       "      <td>27519</td>\n",
       "      <td>4.0</td>\n",
       "    </tr>\n",
       "    <tr>\n",
       "      <td>2</td>\n",
       "      <td>27612</td>\n",
       "      <td>5.0</td>\n",
       "    </tr>\n",
       "    <tr>\n",
       "      <td>3</td>\n",
       "      <td>27893</td>\n",
       "      <td>3.0</td>\n",
       "    </tr>\n",
       "    <tr>\n",
       "      <td>4</td>\n",
       "      <td>27896</td>\n",
       "      <td>3.5</td>\n",
       "    </tr>\n",
       "  </tbody>\n",
       "</table>\n",
       "</div>"
      ],
      "text/plain": [
       "  zip_code  yelp_rating\n",
       "0    27560          2.5\n",
       "1    27519          4.0\n",
       "2    27612          5.0\n",
       "3    27893          3.0\n",
       "4    27896          3.5"
      ]
     },
     "execution_count": 7,
     "metadata": {},
     "output_type": "execute_result"
    }
   ],
   "source": [
    "#for col in df2og.columns:\n",
    "#    print(col)\n",
    "df2=pd.DataFrame(data=df2og['zip_code'].astype(str))\n",
    "df2['yelp_rating']=df2og['rating']\n",
    "df2.columns = ['zip_code', 'yelp_rating']\n",
    "df2=df2.dropna()\n",
    "df2.head(5)"
   ]
  },
  {
   "cell_type": "code",
   "execution_count": 8,
   "metadata": {},
   "outputs": [
    {
     "data": {
      "text/html": [
       "<div>\n",
       "<style scoped>\n",
       "    .dataframe tbody tr th:only-of-type {\n",
       "        vertical-align: middle;\n",
       "    }\n",
       "\n",
       "    .dataframe tbody tr th {\n",
       "        vertical-align: top;\n",
       "    }\n",
       "\n",
       "    .dataframe thead th {\n",
       "        text-align: right;\n",
       "    }\n",
       "</style>\n",
       "<table border=\"1\" class=\"dataframe\">\n",
       "  <thead>\n",
       "    <tr style=\"text-align: right;\">\n",
       "      <th></th>\n",
       "      <th>zip_code</th>\n",
       "      <th>per_cap_income</th>\n",
       "      <th>percent_family_poverty</th>\n",
       "    </tr>\n",
       "  </thead>\n",
       "  <tbody>\n",
       "    <tr>\n",
       "      <td>0</td>\n",
       "      <td>27501</td>\n",
       "      <td>21631</td>\n",
       "      <td>10.5</td>\n",
       "    </tr>\n",
       "    <tr>\n",
       "      <td>1</td>\n",
       "      <td>27502</td>\n",
       "      <td>36763</td>\n",
       "      <td>3.4</td>\n",
       "    </tr>\n",
       "    <tr>\n",
       "      <td>2</td>\n",
       "      <td>27511</td>\n",
       "      <td>33139</td>\n",
       "      <td>9.6</td>\n",
       "    </tr>\n",
       "    <tr>\n",
       "      <td>3</td>\n",
       "      <td>27513</td>\n",
       "      <td>41232</td>\n",
       "      <td>3.8</td>\n",
       "    </tr>\n",
       "    <tr>\n",
       "      <td>4</td>\n",
       "      <td>27518</td>\n",
       "      <td>49865</td>\n",
       "      <td>5.5</td>\n",
       "    </tr>\n",
       "  </tbody>\n",
       "</table>\n",
       "</div>"
      ],
      "text/plain": [
       "  zip_code  per_cap_income  percent_family_poverty\n",
       "0    27501           21631                    10.5\n",
       "1    27502           36763                     3.4\n",
       "2    27511           33139                     9.6\n",
       "3    27513           41232                     3.8\n",
       "4    27518           49865                     5.5"
      ]
     },
     "execution_count": 8,
     "metadata": {},
     "output_type": "execute_result"
    }
   ],
   "source": [
    "#for col in df3og.columns:\n",
    "#    print(col)\n",
    "df3=pd.DataFrame(data=df3og['zip'].astype(str))\n",
    "df3['per_capita_income']=df3og['per_capita_income_dollars']\n",
    "df3['percent_families_poverty']=df3og['percent_damilies_below_poverty_line']\n",
    "df3.columns = ['zip_code', 'per_cap_income','percent_family_poverty']\n",
    "df3=df3.dropna()\n",
    "df3.head(5)"
   ]
  },
  {
   "cell_type": "markdown",
   "metadata": {},
   "source": [
    "## Data Merging\n",
    "Since we are only interested in how does average per capital income and percent family poverty of an area (represented by its zipcode) correlates with the average health inspection score and yelp rating of restaurants located in the same area, the mean is taken from the previous three dataframes and the three datasets are merged by the zip_code as the index. Dataset containing more than the first 5 digit zip code also have its extension dropped, to ensure mergibility in addition to that the excess zip code information is unneccessary to this analysis. "
   ]
  },
  {
   "cell_type": "code",
   "execution_count": 9,
   "metadata": {},
   "outputs": [
    {
     "name": "stdout",
     "output_type": "stream",
     "text": [
      "          inspection_score\n",
      "zip_code                  \n",
      "27501            94.750000\n",
      "27502            96.367223\n",
      "27511            96.418969\n",
      "27512            95.611111\n",
      "27513            95.655130\n",
      "          yelp_rating\n",
      "zip_code             \n",
      "15035            1.00\n",
      "22701            4.00\n",
      "27023            3.75\n",
      "27041            4.50\n",
      "27203            4.00\n",
      "          per_cap_income  percent_family_poverty\n",
      "zip_code                                        \n",
      "27501              21631                    10.5\n",
      "27502              36763                     3.4\n",
      "27511              33139                     9.6\n",
      "27513              41232                     3.8\n",
      "27518              49865                     5.5\n"
     ]
    },
    {
     "data": {
      "text/html": [
       "<div>\n",
       "<style scoped>\n",
       "    .dataframe tbody tr th:only-of-type {\n",
       "        vertical-align: middle;\n",
       "    }\n",
       "\n",
       "    .dataframe tbody tr th {\n",
       "        vertical-align: top;\n",
       "    }\n",
       "\n",
       "    .dataframe thead th {\n",
       "        text-align: right;\n",
       "    }\n",
       "</style>\n",
       "<table border=\"1\" class=\"dataframe\">\n",
       "  <thead>\n",
       "    <tr style=\"text-align: right;\">\n",
       "      <th></th>\n",
       "      <th>inspection_score</th>\n",
       "      <th>yelp_rating</th>\n",
       "      <th>per_cap_income</th>\n",
       "      <th>percent_family_poverty</th>\n",
       "    </tr>\n",
       "    <tr>\n",
       "      <th>zip_code</th>\n",
       "      <th></th>\n",
       "      <th></th>\n",
       "      <th></th>\n",
       "      <th></th>\n",
       "    </tr>\n",
       "  </thead>\n",
       "  <tbody>\n",
       "    <tr>\n",
       "      <td>27501</td>\n",
       "      <td>94.750000</td>\n",
       "      <td>4.055556</td>\n",
       "      <td>21631</td>\n",
       "      <td>10.5</td>\n",
       "    </tr>\n",
       "    <tr>\n",
       "      <td>27502</td>\n",
       "      <td>96.367223</td>\n",
       "      <td>3.610526</td>\n",
       "      <td>36763</td>\n",
       "      <td>3.4</td>\n",
       "    </tr>\n",
       "    <tr>\n",
       "      <td>27511</td>\n",
       "      <td>96.418969</td>\n",
       "      <td>3.631841</td>\n",
       "      <td>33139</td>\n",
       "      <td>9.6</td>\n",
       "    </tr>\n",
       "    <tr>\n",
       "      <td>27513</td>\n",
       "      <td>95.655130</td>\n",
       "      <td>3.707006</td>\n",
       "      <td>41232</td>\n",
       "      <td>3.8</td>\n",
       "    </tr>\n",
       "    <tr>\n",
       "      <td>27518</td>\n",
       "      <td>97.225291</td>\n",
       "      <td>3.561856</td>\n",
       "      <td>49865</td>\n",
       "      <td>5.5</td>\n",
       "    </tr>\n",
       "  </tbody>\n",
       "</table>\n",
       "</div>"
      ],
      "text/plain": [
       "          inspection_score  yelp_rating  per_cap_income  \\\n",
       "zip_code                                                  \n",
       "27501            94.750000     4.055556           21631   \n",
       "27502            96.367223     3.610526           36763   \n",
       "27511            96.418969     3.631841           33139   \n",
       "27513            95.655130     3.707006           41232   \n",
       "27518            97.225291     3.561856           49865   \n",
       "\n",
       "          percent_family_poverty  \n",
       "zip_code                          \n",
       "27501                       10.5  \n",
       "27502                        3.4  \n",
       "27511                        9.6  \n",
       "27513                        3.8  \n",
       "27518                        5.5  "
      ]
     },
     "execution_count": 9,
     "metadata": {},
     "output_type": "execute_result"
    }
   ],
   "source": [
    "df1n=df1.groupby(df1['zip_code'].str[:5]).mean()\n",
    "print(df1n.head())\n",
    "df2n=df2.groupby(df2['zip_code']).mean()\n",
    "print(df2n.head())\n",
    "df3n=df3.groupby(df3['zip_code']).mean()\n",
    "print(df3n.head())\n",
    "df=pd.merge(df1n,df2n, on='zip_code')\n",
    "df=pd.merge(df,df3n, on='zip_code')\n",
    "df.head()"
   ]
  },
  {
   "cell_type": "markdown",
   "metadata": {},
   "source": [
    "### Summary\n",
    "Through a combination of row dropping, dataframe isolated and reassigning, and merging, the data is very suitable for quantitative analysis involving comparisons between variables. "
   ]
  },
  {
   "cell_type": "markdown",
   "metadata": {},
   "source": [
    "# Data Analysis & Results\n",
    "The health inspection score and yelp rating will be grouped, summed, and averaged for each zip code. The average yelp rating and inspection score for each zip code will then be compared to the zip code's per_capital_income_dollars as well as percent_families_below_poverty_line using a variety of visualizations and tests."
   ]
  },
  {
   "cell_type": "markdown",
   "metadata": {},
   "source": [
    "## Scatter Plot Matrix and Correlation Table Overview\n",
    "The following scatter plot matrix and correlation table is done to provide a general information and visualization in regards to the  distribution and correlation of any two set of data involved in this analysis. "
   ]
  },
  {
   "cell_type": "code",
   "execution_count": 10,
   "metadata": {},
   "outputs": [
    {
     "data": {
      "image/png": "[encoded data removed]",
      "text/plain": [
       "<Figure size 1080x1080 with 16 Axes>"
      ]
     },
     "metadata": {
      "needs_background": "light"
     },
     "output_type": "display_data"
    }
   ],
   "source": [
    "fig=pd.plotting.scatter_matrix(df, grid= True, figsize=(15,15))"
   ]
  },
  {
   "cell_type": "code",
   "execution_count": 11,
   "metadata": {
    "scrolled": true
   },
   "outputs": [
    {
     "data": {
      "text/html": [
       "<div>\n",
       "<style scoped>\n",
       "    .dataframe tbody tr th:only-of-type {\n",
       "        vertical-align: middle;\n",
       "    }\n",
       "\n",
       "    .dataframe tbody tr th {\n",
       "        vertical-align: top;\n",
       "    }\n",
       "\n",
       "    .dataframe thead th {\n",
       "        text-align: right;\n",
       "    }\n",
       "</style>\n",
       "<table border=\"1\" class=\"dataframe\">\n",
       "  <thead>\n",
       "    <tr style=\"text-align: right;\">\n",
       "      <th></th>\n",
       "      <th>inspection_score</th>\n",
       "      <th>yelp_rating</th>\n",
       "      <th>per_cap_income</th>\n",
       "      <th>percent_family_poverty</th>\n",
       "    </tr>\n",
       "  </thead>\n",
       "  <tbody>\n",
       "    <tr>\n",
       "      <td>inspection_score</td>\n",
       "      <td>1.000000</td>\n",
       "      <td>-0.527777</td>\n",
       "      <td>-0.005612</td>\n",
       "      <td>-0.137131</td>\n",
       "    </tr>\n",
       "    <tr>\n",
       "      <td>yelp_rating</td>\n",
       "      <td>-0.527777</td>\n",
       "      <td>1.000000</td>\n",
       "      <td>0.142682</td>\n",
       "      <td>0.122089</td>\n",
       "    </tr>\n",
       "    <tr>\n",
       "      <td>per_cap_income</td>\n",
       "      <td>-0.005612</td>\n",
       "      <td>0.142682</td>\n",
       "      <td>1.000000</td>\n",
       "      <td>-0.612539</td>\n",
       "    </tr>\n",
       "    <tr>\n",
       "      <td>percent_family_poverty</td>\n",
       "      <td>-0.137131</td>\n",
       "      <td>0.122089</td>\n",
       "      <td>-0.612539</td>\n",
       "      <td>1.000000</td>\n",
       "    </tr>\n",
       "  </tbody>\n",
       "</table>\n",
       "</div>"
      ],
      "text/plain": [
       "                        inspection_score  yelp_rating  per_cap_income  \\\n",
       "inspection_score                1.000000    -0.527777       -0.005612   \n",
       "yelp_rating                    -0.527777     1.000000        0.142682   \n",
       "per_cap_income                 -0.005612     0.142682        1.000000   \n",
       "percent_family_poverty         -0.137131     0.122089       -0.612539   \n",
       "\n",
       "                        percent_family_poverty  \n",
       "inspection_score                     -0.137131  \n",
       "yelp_rating                           0.122089  \n",
       "per_cap_income                       -0.612539  \n",
       "percent_family_poverty                1.000000  "
      ]
     },
     "execution_count": 11,
     "metadata": {},
     "output_type": "execute_result"
    }
   ],
   "source": [
    "corrs=df.corr()\n",
    "df.corr()"
   ]
  },
  {
   "cell_type": "markdown",
   "metadata": {},
   "source": [
    "### Summary\n",
    "As we can see from the correlation table above, there does seems to be some correlation between some of the variables such as yelp_rating and per_cap_income or %_family_poverty. However, further analysis is needed not only to better visualize the correlation, but also to check whether these correlations are merely results of random sampling."
   ]
  },
  {
   "cell_type": "markdown",
   "metadata": {},
   "source": [
    "## Scatter Plot Visualization and R-square Testing with Linear Regression"
   ]
  },
  {
   "cell_type": "markdown",
   "metadata": {},
   "source": [
    "### Per_cap_income vs Inspection_score \n",
    "First, the relationship between per captial income of an area and restaurant health inspection score average for a local area will be explored through scatter plot, linear regression, and R-square testing.  "
   ]
  },
  {
   "cell_type": "code",
   "execution_count": 12,
   "metadata": {},
   "outputs": [
    {
     "data": {
      "image/png": "[encoded data removed]",
      "text/plain": [
       "<Figure size 432x288 with 1 Axes>"
      ]
     },
     "metadata": {
      "needs_background": "light"
     },
     "output_type": "display_data"
    }
   ],
   "source": [
    "a1,b1=np.polyfit(x=df['per_cap_income'],y=df['inspection_score'],deg=1)\n",
    "per_cap_income=np.arange(10000,60000,1000)\n",
    "inspection_score=a1 * per_cap_income + b1\n",
    "\n",
    "ax=df.plot.scatter(x='per_cap_income',y='inspection_score')\n",
    "bestfit=pd.DataFrame({'per_cap_income':per_cap_income, 'avg_inspection_score': inspection_score})\n",
    "bestfit.plot.line(x='per_cap_income',y='avg_inspection_score',ax=ax,color='red')\n",
    "f1 = plt.gcf()"
   ]
  },
  {
   "cell_type": "code",
   "execution_count": 13,
   "metadata": {},
   "outputs": [
    {
     "data": {
      "text/html": [
       "<table class=\"simpletable\">\n",
       "<caption>OLS Regression Results</caption>\n",
       "<tr>\n",
       "  <th>Dep. Variable:</th>     <td>per_cap_income</td>  <th>  R-squared:         </th> <td>   0.000</td>\n",
       "</tr>\n",
       "<tr>\n",
       "  <th>Model:</th>                   <td>OLS</td>       <th>  Adj. R-squared:    </th> <td>  -0.029</td>\n",
       "</tr>\n",
       "<tr>\n",
       "  <th>Method:</th>             <td>Least Squares</td>  <th>  F-statistic:       </th> <td>0.001103</td>\n",
       "</tr>\n",
       "<tr>\n",
       "  <th>Date:</th>             <td>Wed, 10 Jun 2020</td> <th>  Prob (F-statistic):</th>  <td> 0.974</td> \n",
       "</tr>\n",
       "<tr>\n",
       "  <th>Time:</th>                 <td>17:23:20</td>     <th>  Log-Likelihood:    </th> <td> -392.74</td>\n",
       "</tr>\n",
       "<tr>\n",
       "  <th>No. Observations:</th>      <td>    37</td>      <th>  AIC:               </th> <td>   789.5</td>\n",
       "</tr>\n",
       "<tr>\n",
       "  <th>Df Residuals:</th>          <td>    35</td>      <th>  BIC:               </th> <td>   792.7</td>\n",
       "</tr>\n",
       "<tr>\n",
       "  <th>Df Model:</th>              <td>     1</td>      <th>                     </th>     <td> </td>   \n",
       "</tr>\n",
       "<tr>\n",
       "  <th>Covariance Type:</th>      <td>nonrobust</td>    <th>                     </th>     <td> </td>   \n",
       "</tr>\n",
       "</table>\n",
       "<table class=\"simpletable\">\n",
       "<tr>\n",
       "          <td></td>            <th>coef</th>     <th>std err</th>      <th>t</th>      <th>P>|t|</th>  <th>[0.025</th>    <th>0.975]</th>  \n",
       "</tr>\n",
       "<tr>\n",
       "  <th>Intercept</th>        <td> 4.016e+04</td> <td> 2.09e+05</td> <td>    0.192</td> <td> 0.849</td> <td>-3.84e+05</td> <td> 4.64e+05</td>\n",
       "</tr>\n",
       "<tr>\n",
       "  <th>inspection_score</th> <td>  -71.9540</td> <td> 2167.023</td> <td>   -0.033</td> <td> 0.974</td> <td>-4471.245</td> <td> 4327.337</td>\n",
       "</tr>\n",
       "</table>\n",
       "<table class=\"simpletable\">\n",
       "<tr>\n",
       "  <th>Omnibus:</th>       <td> 2.454</td> <th>  Durbin-Watson:     </th> <td>   1.625</td>\n",
       "</tr>\n",
       "<tr>\n",
       "  <th>Prob(Omnibus):</th> <td> 0.293</td> <th>  Jarque-Bera (JB):  </th> <td>   2.270</td>\n",
       "</tr>\n",
       "<tr>\n",
       "  <th>Skew:</th>          <td> 0.562</td> <th>  Prob(JB):          </th> <td>   0.321</td>\n",
       "</tr>\n",
       "<tr>\n",
       "  <th>Kurtosis:</th>      <td> 2.541</td> <th>  Cond. No.          </th> <td>1.21e+04</td>\n",
       "</tr>\n",
       "</table><br/><br/>Warnings:<br/>[1] Standard Errors assume that the covariance matrix of the errors is correctly specified.<br/>[2] The condition number is large, 1.21e+04. This might indicate that there are<br/>strong multicollinearity or other numerical problems."
      ],
      "text/plain": [
       "<class 'statsmodels.iolib.summary.Summary'>\n",
       "\"\"\"\n",
       "                            OLS Regression Results                            \n",
       "==============================================================================\n",
       "Dep. Variable:         per_cap_income   R-squared:                       0.000\n",
       "Model:                            OLS   Adj. R-squared:                 -0.029\n",
       "Method:                 Least Squares   F-statistic:                  0.001103\n",
       "Date:                Wed, 10 Jun 2020   Prob (F-statistic):              0.974\n",
       "Time:                        17:23:20   Log-Likelihood:                -392.74\n",
       "No. Observations:                  37   AIC:                             789.5\n",
       "Df Residuals:                      35   BIC:                             792.7\n",
       "Df Model:                           1                                         \n",
       "Covariance Type:            nonrobust                                         \n",
       "====================================================================================\n",
       "                       coef    std err          t      P>|t|      [0.025      0.975]\n",
       "------------------------------------------------------------------------------------\n",
       "Intercept         4.016e+04   2.09e+05      0.192      0.849   -3.84e+05    4.64e+05\n",
       "inspection_score   -71.9540   2167.023     -0.033      0.974   -4471.245    4327.337\n",
       "==============================================================================\n",
       "Omnibus:                        2.454   Durbin-Watson:                   1.625\n",
       "Prob(Omnibus):                  0.293   Jarque-Bera (JB):                2.270\n",
       "Skew:                           0.562   Prob(JB):                        0.321\n",
       "Kurtosis:                       2.541   Cond. No.                     1.21e+04\n",
       "==============================================================================\n",
       "\n",
       "Warnings:\n",
       "[1] Standard Errors assume that the covariance matrix of the errors is correctly specified.\n",
       "[2] The condition number is large, 1.21e+04. This might indicate that there are\n",
       "strong multicollinearity or other numerical problems.\n",
       "\"\"\""
      ]
     },
     "execution_count": 13,
     "metadata": {},
     "output_type": "execute_result"
    }
   ],
   "source": [
    "# YOUR CODE HERE\n",
    "outcome_1, predictors_1 = patsy.dmatrices('per_cap_income ~ inspection_score',df)\n",
    "mod_1 = sm.OLS(outcome_1, predictors_1)\n",
    "res_1=mod_1.fit()\n",
    "res_1.summary()"
   ]
  },
  {
   "cell_type": "markdown",
   "metadata": {},
   "source": [
    "#### Summary\n",
    "Through the scatter plot visualization, it can be seen that the data points are rather scattered and does not seem to have any correlation. Further linear regression visualization and R-square testing further reinforced this point. <br> <br> \n",
    "Since inspection score is always within the range of 100 to 0, it is very unlikely that there is an outliar that can heavily skew our analysis. Although per capital income can contain outliar that skews our analysis, there are no outliars present in the dataset. "
   ]
  },
  {
   "cell_type": "markdown",
   "metadata": {},
   "source": [
    "### Per_cap_income vs Yelp_rating\n",
    "Next, the relationship between per captial income of an area and restaurant yelp rating average for a local area will be explored through scatter plot, linear regression, and R-square testing."
   ]
  },
  {
   "cell_type": "code",
   "execution_count": 14,
   "metadata": {},
   "outputs": [
    {
     "data": {
      "image/png": "[encoded data removed]",
      "text/plain": [
       "<Figure size 432x288 with 1 Axes>"
      ]
     },
     "metadata": {
      "needs_background": "light"
     },
     "output_type": "display_data"
    }
   ],
   "source": [
    "a2,b2=np.polyfit(x=df['per_cap_income'],y=df['yelp_rating'],deg=1)\n",
    "per_cap_income=np.arange(10000,60000,1000)\n",
    "yelp_rating=a2 * per_cap_income + b2\n",
    "\n",
    "ax=df.plot.scatter(x='per_cap_income',y='yelp_rating')\n",
    "bestfit=pd.DataFrame({'per_cap_income':per_cap_income, 'avg_yelp_rating': yelp_rating})\n",
    "bestfit.plot.line(x='per_cap_income',y='avg_yelp_rating',ax=ax,color='red')\n",
    "f2 = plt.gcf()"
   ]
  },
  {
   "cell_type": "code",
   "execution_count": 15,
   "metadata": {},
   "outputs": [
    {
     "data": {
      "text/html": [
       "<table class=\"simpletable\">\n",
       "<caption>OLS Regression Results</caption>\n",
       "<tr>\n",
       "  <th>Dep. Variable:</th>     <td>per_cap_income</td>  <th>  R-squared:         </th> <td>   0.020</td>\n",
       "</tr>\n",
       "<tr>\n",
       "  <th>Model:</th>                   <td>OLS</td>       <th>  Adj. R-squared:    </th> <td>  -0.008</td>\n",
       "</tr>\n",
       "<tr>\n",
       "  <th>Method:</th>             <td>Least Squares</td>  <th>  F-statistic:       </th> <td>  0.7273</td>\n",
       "</tr>\n",
       "<tr>\n",
       "  <th>Date:</th>             <td>Wed, 10 Jun 2020</td> <th>  Prob (F-statistic):</th>  <td> 0.400</td> \n",
       "</tr>\n",
       "<tr>\n",
       "  <th>Time:</th>                 <td>17:23:20</td>     <th>  Log-Likelihood:    </th> <td> -392.36</td>\n",
       "</tr>\n",
       "<tr>\n",
       "  <th>No. Observations:</th>      <td>    37</td>      <th>  AIC:               </th> <td>   788.7</td>\n",
       "</tr>\n",
       "<tr>\n",
       "  <th>Df Residuals:</th>          <td>    35</td>      <th>  BIC:               </th> <td>   791.9</td>\n",
       "</tr>\n",
       "<tr>\n",
       "  <th>Df Model:</th>              <td>     1</td>      <th>                     </th>     <td> </td>   \n",
       "</tr>\n",
       "<tr>\n",
       "  <th>Covariance Type:</th>      <td>nonrobust</td>    <th>                     </th>     <td> </td>   \n",
       "</tr>\n",
       "</table>\n",
       "<table class=\"simpletable\">\n",
       "<tr>\n",
       "       <td></td>          <th>coef</th>     <th>std err</th>      <th>t</th>      <th>P>|t|</th>  <th>[0.025</th>    <th>0.975]</th>  \n",
       "</tr>\n",
       "<tr>\n",
       "  <th>Intercept</th>   <td> 1.329e+04</td> <td> 2.34e+04</td> <td>    0.567</td> <td> 0.574</td> <td>-3.43e+04</td> <td> 6.09e+04</td>\n",
       "</tr>\n",
       "<tr>\n",
       "  <th>yelp_rating</th> <td> 5514.1889</td> <td> 6465.642</td> <td>    0.853</td> <td> 0.400</td> <td>-7611.761</td> <td> 1.86e+04</td>\n",
       "</tr>\n",
       "</table>\n",
       "<table class=\"simpletable\">\n",
       "<tr>\n",
       "  <th>Omnibus:</th>       <td> 2.083</td> <th>  Durbin-Watson:     </th> <td>   1.564</td>\n",
       "</tr>\n",
       "<tr>\n",
       "  <th>Prob(Omnibus):</th> <td> 0.353</td> <th>  Jarque-Bera (JB):  </th> <td>   1.864</td>\n",
       "</tr>\n",
       "<tr>\n",
       "  <th>Skew:</th>          <td> 0.446</td> <th>  Prob(JB):          </th> <td>   0.394</td>\n",
       "</tr>\n",
       "<tr>\n",
       "  <th>Kurtosis:</th>      <td> 2.358</td> <th>  Cond. No.          </th> <td>    55.4</td>\n",
       "</tr>\n",
       "</table><br/><br/>Warnings:<br/>[1] Standard Errors assume that the covariance matrix of the errors is correctly specified."
      ],
      "text/plain": [
       "<class 'statsmodels.iolib.summary.Summary'>\n",
       "\"\"\"\n",
       "                            OLS Regression Results                            \n",
       "==============================================================================\n",
       "Dep. Variable:         per_cap_income   R-squared:                       0.020\n",
       "Model:                            OLS   Adj. R-squared:                 -0.008\n",
       "Method:                 Least Squares   F-statistic:                    0.7273\n",
       "Date:                Wed, 10 Jun 2020   Prob (F-statistic):              0.400\n",
       "Time:                        17:23:20   Log-Likelihood:                -392.36\n",
       "No. Observations:                  37   AIC:                             788.7\n",
       "Df Residuals:                      35   BIC:                             791.9\n",
       "Df Model:                           1                                         \n",
       "Covariance Type:            nonrobust                                         \n",
       "===============================================================================\n",
       "                  coef    std err          t      P>|t|      [0.025      0.975]\n",
       "-------------------------------------------------------------------------------\n",
       "Intercept    1.329e+04   2.34e+04      0.567      0.574   -3.43e+04    6.09e+04\n",
       "yelp_rating  5514.1889   6465.642      0.853      0.400   -7611.761    1.86e+04\n",
       "==============================================================================\n",
       "Omnibus:                        2.083   Durbin-Watson:                   1.564\n",
       "Prob(Omnibus):                  0.353   Jarque-Bera (JB):                1.864\n",
       "Skew:                           0.446   Prob(JB):                        0.394\n",
       "Kurtosis:                       2.358   Cond. No.                         55.4\n",
       "==============================================================================\n",
       "\n",
       "Warnings:\n",
       "[1] Standard Errors assume that the covariance matrix of the errors is correctly specified.\n",
       "\"\"\""
      ]
     },
     "execution_count": 15,
     "metadata": {},
     "output_type": "execute_result"
    }
   ],
   "source": [
    "outcome_2, predictors_2 = patsy.dmatrices('per_cap_income ~ yelp_rating',df)\n",
    "mod_2 = sm.OLS(outcome_2, predictors_2)\n",
    "res_2=mod_2.fit()\n",
    "res_2.summary()"
   ]
  },
  {
   "cell_type": "markdown",
   "metadata": {},
   "source": [
    "#### Summary\n",
    "Similar to the first graph, through the scatter plot visualization, it can be seen that there does not seem to have any correlation. Linear regression visualization and low R-square testing further reinforced this point. <br> <br> \n",
    "Since yelp rating is always within the range of 5 to 0, it is very unlikely that there is an outliar that can heavily skew our analysis. Although per capital income can contain outliar that skews our analysis, there are no outliars present in the dataset. "
   ]
  },
  {
   "cell_type": "markdown",
   "metadata": {},
   "source": [
    "### Percent_family_poverty vs Inspection_score\n",
    "Third, the relationship between percent family poverty of an area and restaurant health inspection score for a local area will be explored through scatter plot, linear regression, and R-square testing. "
   ]
  },
  {
   "cell_type": "code",
   "execution_count": 16,
   "metadata": {},
   "outputs": [
    {
     "data": {
      "image/png": "[encoded data removed]",
      "text/plain": [
       "<Figure size 432x288 with 1 Axes>"
      ]
     },
     "metadata": {
      "needs_background": "light"
     },
     "output_type": "display_data"
    }
   ],
   "source": [
    "a3,b3=np.polyfit(x=df['percent_family_poverty'],y=df['inspection_score'],deg=1)\n",
    "family_poverty=np.arange(0,25,1)\n",
    "inspection_score=a3 * family_poverty + b3\n",
    "\n",
    "ax=df.plot.scatter(x='percent_family_poverty',y='inspection_score')\n",
    "bestfit=pd.DataFrame({'percent_family_poverty':family_poverty, 'avg_inspection_score': inspection_score})\n",
    "bestfit.plot.line(x='percent_family_poverty',y='avg_inspection_score',ax=ax,color='red')\n",
    "f3 = plt.gcf()"
   ]
  },
  {
   "cell_type": "code",
   "execution_count": 17,
   "metadata": {},
   "outputs": [
    {
     "data": {
      "text/html": [
       "<table class=\"simpletable\">\n",
       "<caption>OLS Regression Results</caption>\n",
       "<tr>\n",
       "  <th>Dep. Variable:</th>    <td>percent_family_poverty</td> <th>  R-squared:         </th> <td>   0.019</td>\n",
       "</tr>\n",
       "<tr>\n",
       "  <th>Model:</th>                      <td>OLS</td>          <th>  Adj. R-squared:    </th> <td>  -0.009</td>\n",
       "</tr>\n",
       "<tr>\n",
       "  <th>Method:</th>                <td>Least Squares</td>     <th>  F-statistic:       </th> <td>  0.6708</td>\n",
       "</tr>\n",
       "<tr>\n",
       "  <th>Date:</th>                <td>Wed, 10 Jun 2020</td>    <th>  Prob (F-statistic):</th>  <td> 0.418</td> \n",
       "</tr>\n",
       "<tr>\n",
       "  <th>Time:</th>                    <td>17:23:20</td>        <th>  Log-Likelihood:    </th> <td> -119.08</td>\n",
       "</tr>\n",
       "<tr>\n",
       "  <th>No. Observations:</th>         <td>    37</td>         <th>  AIC:               </th> <td>   242.2</td>\n",
       "</tr>\n",
       "<tr>\n",
       "  <th>Df Residuals:</th>             <td>    35</td>         <th>  BIC:               </th> <td>   245.4</td>\n",
       "</tr>\n",
       "<tr>\n",
       "  <th>Df Model:</th>                 <td>     1</td>         <th>                     </th>     <td> </td>   \n",
       "</tr>\n",
       "<tr>\n",
       "  <th>Covariance Type:</th>         <td>nonrobust</td>       <th>                     </th>     <td> </td>   \n",
       "</tr>\n",
       "</table>\n",
       "<table class=\"simpletable\">\n",
       "<tr>\n",
       "          <td></td>            <th>coef</th>     <th>std err</th>      <th>t</th>      <th>P>|t|</th>  <th>[0.025</th>    <th>0.975]</th>  \n",
       "</tr>\n",
       "<tr>\n",
       "  <th>Intercept</th>        <td>  113.0217</td> <td>  128.124</td> <td>    0.882</td> <td> 0.384</td> <td> -147.084</td> <td>  373.127</td>\n",
       "</tr>\n",
       "<tr>\n",
       "  <th>inspection_score</th> <td>   -1.0890</td> <td>    1.330</td> <td>   -0.819</td> <td> 0.418</td> <td>   -3.788</td> <td>    1.610</td>\n",
       "</tr>\n",
       "</table>\n",
       "<table class=\"simpletable\">\n",
       "<tr>\n",
       "  <th>Omnibus:</th>       <td>42.021</td> <th>  Durbin-Watson:     </th> <td>   1.672</td>\n",
       "</tr>\n",
       "<tr>\n",
       "  <th>Prob(Omnibus):</th> <td> 0.000</td> <th>  Jarque-Bera (JB):  </th> <td> 166.372</td>\n",
       "</tr>\n",
       "<tr>\n",
       "  <th>Skew:</th>          <td> 2.574</td> <th>  Prob(JB):          </th> <td>7.46e-37</td>\n",
       "</tr>\n",
       "<tr>\n",
       "  <th>Kurtosis:</th>      <td>12.023</td> <th>  Cond. No.          </th> <td>1.21e+04</td>\n",
       "</tr>\n",
       "</table><br/><br/>Warnings:<br/>[1] Standard Errors assume that the covariance matrix of the errors is correctly specified.<br/>[2] The condition number is large, 1.21e+04. This might indicate that there are<br/>strong multicollinearity or other numerical problems."
      ],
      "text/plain": [
       "<class 'statsmodels.iolib.summary.Summary'>\n",
       "\"\"\"\n",
       "                              OLS Regression Results                              \n",
       "==================================================================================\n",
       "Dep. Variable:     percent_family_poverty   R-squared:                       0.019\n",
       "Model:                                OLS   Adj. R-squared:                 -0.009\n",
       "Method:                     Least Squares   F-statistic:                    0.6708\n",
       "Date:                    Wed, 10 Jun 2020   Prob (F-statistic):              0.418\n",
       "Time:                            17:23:20   Log-Likelihood:                -119.08\n",
       "No. Observations:                      37   AIC:                             242.2\n",
       "Df Residuals:                          35   BIC:                             245.4\n",
       "Df Model:                               1                                         \n",
       "Covariance Type:                nonrobust                                         \n",
       "====================================================================================\n",
       "                       coef    std err          t      P>|t|      [0.025      0.975]\n",
       "------------------------------------------------------------------------------------\n",
       "Intercept          113.0217    128.124      0.882      0.384    -147.084     373.127\n",
       "inspection_score    -1.0890      1.330     -0.819      0.418      -3.788       1.610\n",
       "==============================================================================\n",
       "Omnibus:                       42.021   Durbin-Watson:                   1.672\n",
       "Prob(Omnibus):                  0.000   Jarque-Bera (JB):              166.372\n",
       "Skew:                           2.574   Prob(JB):                     7.46e-37\n",
       "Kurtosis:                      12.023   Cond. No.                     1.21e+04\n",
       "==============================================================================\n",
       "\n",
       "Warnings:\n",
       "[1] Standard Errors assume that the covariance matrix of the errors is correctly specified.\n",
       "[2] The condition number is large, 1.21e+04. This might indicate that there are\n",
       "strong multicollinearity or other numerical problems.\n",
       "\"\"\""
      ]
     },
     "execution_count": 17,
     "metadata": {},
     "output_type": "execute_result"
    }
   ],
   "source": [
    "outcome_3, predictors_3 = patsy.dmatrices('percent_family_poverty ~ inspection_score',df)\n",
    "mod_3 = sm.OLS(outcome_3, predictors_3)\n",
    "res_3=mod_3.fit()\n",
    "res_3.summary()"
   ]
  },
  {
   "cell_type": "markdown",
   "metadata": {},
   "source": [
    "#### Summary\n",
    "Similar to the previous graphs, the scatter plot visualization revealed a lack of corrrelation. The low R-square test score from the linear regression reinforced the lack of correlation (at least a lack of linear correlation). <br> <br> \n",
    "Since inspection_score is always within the range of 100 to 0, it is very unlikely that there is an outliar that can heavily skew our analysis. However, it is to note that a outliar with extremely low inspection score can still have some impact on the linear reagression and R-square analysis.  \n",
    "Moreover, percent family poverty will always be within 100 percent to 0 percent. This upper and lower bound limited the impact any outliars can have on the analysis although a high percentage poverty can still potentially skew the analysis. Luckily, there aren't any outliar within the data for percent family poverty within an area neither. "
   ]
  },
  {
   "cell_type": "markdown",
   "metadata": {},
   "source": [
    "### Percent_family_poverty vs Inspection_score\n",
    "Lastly, the relationship between percent family poverty of an area and average restaurant yelp_rating for a local area will be explored through scatter plot, linear regression, and R-square testing."
   ]
  },
  {
   "cell_type": "code",
   "execution_count": 18,
   "metadata": {},
   "outputs": [
    {
     "data": {
      "image/png": "[encoded data removed]",
      "text/plain": [
       "<Figure size 432x288 with 1 Axes>"
      ]
     },
     "metadata": {
      "needs_background": "light"
     },
     "output_type": "display_data"
    }
   ],
   "source": [
    "a4,b4=np.polyfit(x=df['percent_family_poverty'],y=df['yelp_rating'],deg=1)\n",
    "family_poverty=np.arange(0,25,1)\n",
    "yelp_rating=a4 * family_poverty + b4\n",
    "\n",
    "ax=df.plot.scatter(x='percent_family_poverty',y='yelp_rating')\n",
    "bestfit=pd.DataFrame({'percent_family_poverty':family_poverty, 'avg_yelp_rating': yelp_rating})\n",
    "bestfit.plot.line(x='percent_family_poverty',y='avg_yelp_rating',ax=ax,color='red')\n",
    "f4 = plt.gcf()"
   ]
  },
  {
   "cell_type": "code",
   "execution_count": 19,
   "metadata": {},
   "outputs": [
    {
     "data": {
      "text/html": [
       "<table class=\"simpletable\">\n",
       "<caption>OLS Regression Results</caption>\n",
       "<tr>\n",
       "  <th>Dep. Variable:</th>    <td>percent_family_poverty</td> <th>  R-squared:         </th> <td>   0.015</td>\n",
       "</tr>\n",
       "<tr>\n",
       "  <th>Model:</th>                      <td>OLS</td>          <th>  Adj. R-squared:    </th> <td>  -0.013</td>\n",
       "</tr>\n",
       "<tr>\n",
       "  <th>Method:</th>                <td>Least Squares</td>     <th>  F-statistic:       </th> <td>  0.5296</td>\n",
       "</tr>\n",
       "<tr>\n",
       "  <th>Date:</th>                <td>Wed, 10 Jun 2020</td>    <th>  Prob (F-statistic):</th>  <td> 0.472</td> \n",
       "</tr>\n",
       "<tr>\n",
       "  <th>Time:</th>                    <td>17:23:20</td>        <th>  Log-Likelihood:    </th> <td> -119.15</td>\n",
       "</tr>\n",
       "<tr>\n",
       "  <th>No. Observations:</th>         <td>    37</td>         <th>  AIC:               </th> <td>   242.3</td>\n",
       "</tr>\n",
       "<tr>\n",
       "  <th>Df Residuals:</th>             <td>    35</td>         <th>  BIC:               </th> <td>   245.5</td>\n",
       "</tr>\n",
       "<tr>\n",
       "  <th>Df Model:</th>                 <td>     1</td>         <th>                     </th>     <td> </td>   \n",
       "</tr>\n",
       "<tr>\n",
       "  <th>Covariance Type:</th>         <td>nonrobust</td>       <th>                     </th>     <td> </td>   \n",
       "</tr>\n",
       "</table>\n",
       "<table class=\"simpletable\">\n",
       "<tr>\n",
       "       <td></td>          <th>coef</th>     <th>std err</th>      <th>t</th>      <th>P>|t|</th>  <th>[0.025</th>    <th>0.975]</th>  \n",
       "</tr>\n",
       "<tr>\n",
       "  <th>Intercept</th>   <td>   -2.4748</td> <td>   14.552</td> <td>   -0.170</td> <td> 0.866</td> <td>  -32.018</td> <td>   27.068</td>\n",
       "</tr>\n",
       "<tr>\n",
       "  <th>yelp_rating</th> <td>    2.9225</td> <td>    4.016</td> <td>    0.728</td> <td> 0.472</td> <td>   -5.230</td> <td>   11.075</td>\n",
       "</tr>\n",
       "</table>\n",
       "<table class=\"simpletable\">\n",
       "<tr>\n",
       "  <th>Omnibus:</th>       <td>41.610</td> <th>  Durbin-Watson:     </th> <td>   1.661</td>\n",
       "</tr>\n",
       "<tr>\n",
       "  <th>Prob(Omnibus):</th> <td> 0.000</td> <th>  Jarque-Bera (JB):  </th> <td> 156.953</td>\n",
       "</tr>\n",
       "<tr>\n",
       "  <th>Skew:</th>          <td> 2.577</td> <th>  Prob(JB):          </th> <td>8.28e-35</td>\n",
       "</tr>\n",
       "<tr>\n",
       "  <th>Kurtosis:</th>      <td>11.674</td> <th>  Cond. No.          </th> <td>    55.4</td>\n",
       "</tr>\n",
       "</table><br/><br/>Warnings:<br/>[1] Standard Errors assume that the covariance matrix of the errors is correctly specified."
      ],
      "text/plain": [
       "<class 'statsmodels.iolib.summary.Summary'>\n",
       "\"\"\"\n",
       "                              OLS Regression Results                              \n",
       "==================================================================================\n",
       "Dep. Variable:     percent_family_poverty   R-squared:                       0.015\n",
       "Model:                                OLS   Adj. R-squared:                 -0.013\n",
       "Method:                     Least Squares   F-statistic:                    0.5296\n",
       "Date:                    Wed, 10 Jun 2020   Prob (F-statistic):              0.472\n",
       "Time:                            17:23:20   Log-Likelihood:                -119.15\n",
       "No. Observations:                      37   AIC:                             242.3\n",
       "Df Residuals:                          35   BIC:                             245.5\n",
       "Df Model:                               1                                         \n",
       "Covariance Type:                nonrobust                                         \n",
       "===============================================================================\n",
       "                  coef    std err          t      P>|t|      [0.025      0.975]\n",
       "-------------------------------------------------------------------------------\n",
       "Intercept      -2.4748     14.552     -0.170      0.866     -32.018      27.068\n",
       "yelp_rating     2.9225      4.016      0.728      0.472      -5.230      11.075\n",
       "==============================================================================\n",
       "Omnibus:                       41.610   Durbin-Watson:                   1.661\n",
       "Prob(Omnibus):                  0.000   Jarque-Bera (JB):              156.953\n",
       "Skew:                           2.577   Prob(JB):                     8.28e-35\n",
       "Kurtosis:                      11.674   Cond. No.                         55.4\n",
       "==============================================================================\n",
       "\n",
       "Warnings:\n",
       "[1] Standard Errors assume that the covariance matrix of the errors is correctly specified.\n",
       "\"\"\""
      ]
     },
     "execution_count": 19,
     "metadata": {},
     "output_type": "execute_result"
    }
   ],
   "source": [
    "outcome_4, predictors_4 = patsy.dmatrices('percent_family_poverty ~ yelp_rating',df)\n",
    "mod_4 = sm.OLS(outcome_4, predictors_4)\n",
    "res_4=mod_4.fit()\n",
    "res_4.summary()"
   ]
  },
  {
   "cell_type": "markdown",
   "metadata": {},
   "source": [
    "#### Summary\n",
    "The scatter plot visualization revealed a lack of corrrelation. The low R-square test score from the linear regression further reinforced the lack of correlation (at least a lack of linear correlation). <br> \n",
    "Since yelp rating is always within the range of 5 to 0, it is very unlikely that there is an outliar that can heavily skew our analysis. Moreover, percent family poverty will always be within 100 percent to 0 percent. This upper and lower bound limited the impact any outliars can have on the analysis although a high percentage poverty can still potentially skew the analysis. Luckily, there aren't any outliar within the data for percent family poverty within an area neither."
   ]
  },
  {
   "cell_type": "markdown",
   "metadata": {},
   "source": [
    "### Section Summary:\n",
    "After analyzing the data through scatterplot, linear agression, and R-Square test, there does not seem to be any correlation between per_cap_income and inspection_score, per_cap_income and yelp_rating, percent_family_poverty and inspection_score, and percent_family_poverty and yelp_rating. More testing is recommended to investigate the data more thouroughly."
   ]
  },
  {
   "cell_type": "markdown",
   "metadata": {},
   "source": [
    "## T-testing through above and below median/average income groups\n",
    "T test is used here to determine whether there are significant difference between the distribution of two categorical groups. In this analysis, T test is used to determine whether there is a significant difference between the distribution for two group comparisons involving four groups and two variable for comparison: <b>\n",
    "    - Group with above median per capital income versus group with below median per capital income. \n",
    "    - Group with above average family poverty rate versus group with below average family poverty rate. \n",
    "The variable used for distribution comparisons are: <b>\n",
    "    - Inspection score \n",
    "    - Yelp rating\n",
    "  "
   ]
  },
  {
   "cell_type": "code",
   "execution_count": 20,
   "metadata": {},
   "outputs": [
    {
     "name": "stdout",
     "output_type": "stream",
     "text": [
      "The income median is:\n",
      "31161.0\n",
      "There is NOT a significant difference in inspection score between restaurants in areas with above median income per capita and below median income per capita!\n"
     ]
    }
   ],
   "source": [
    "print('The income median is:')\n",
    "print(df['per_cap_income'].median())\n",
    "above_median_income1 = df[df['per_cap_income'] > df['per_cap_income'].median()]['inspection_score'].values\n",
    "below_median_income1 = df[df['per_cap_income'] < df['per_cap_income'].median()]['inspection_score'].values\n",
    "[t_val1,p_val1]=stats.ttest_ind(below_median_income1,above_median_income1)\n",
    "if p_val1 < 0.01:\n",
    "    print('There is a SIGNIFICANT difference in inspection score between restaurants in areas with above median income per capita and below median income per capita!')\n",
    "else:\n",
    "    print('There is NOT a significant difference in inspection score between restaurants in areas with above median income per capita and below median income per capita!')"
   ]
  },
  {
   "cell_type": "code",
   "execution_count": 21,
   "metadata": {},
   "outputs": [
    {
     "name": "stdout",
     "output_type": "stream",
     "text": [
      "The income median is:\n",
      "31161.0\n",
      "There is NOT a significant difference in yelp rating between restaurants in areas with above median income per capita and below median income per capita!\n"
     ]
    }
   ],
   "source": [
    "print('The income median is:')\n",
    "print(df['per_cap_income'].median())\n",
    "above_median_income2 = df[df['per_cap_income'] > df['per_cap_income'].median()]['yelp_rating'].values\n",
    "below_median_income2 = df[df['per_cap_income'] < df['per_cap_income'].median()]['yelp_rating'].values\n",
    "[t_val2,p_val2]=stats.ttest_ind(below_median_income2,above_median_income2)\n",
    "if p_val2 < 0.01:\n",
    "    print('There is a SIGNIFICANT difference in yelp rating between restaurants in areas with above median income per capita and below median income per capita!')\n",
    "else:\n",
    "    print('There is NOT a significant difference in yelp rating between restaurants in areas with above median income per capita and below median income per capita!')"
   ]
  },
  {
   "cell_type": "code",
   "execution_count": 22,
   "metadata": {},
   "outputs": [
    {
     "name": "stdout",
     "output_type": "stream",
     "text": [
      "The average family poverty percentage is:\n",
      "8.08918918918919\n",
      "There is NOT a significant difference in inspection score between restaurants in areas with above average percentage in family poverty and below average!\n"
     ]
    }
   ],
   "source": [
    "print('The average family poverty percentage is:')\n",
    "print(df['percent_family_poverty'].mean())\n",
    "above_avg_income3 = df[df['percent_family_poverty'] > df['percent_family_poverty'].mean()]['inspection_score'].values\n",
    "below_avg_income3 = df[df['percent_family_poverty'] < df['percent_family_poverty'].mean()]['inspection_score'].values\n",
    "[t_val3,p_val3]=stats.ttest_ind(below_avg_income3,above_avg_income3)\n",
    "if p_val3 < 0.01:\n",
    "    print('There is a SIGNIFICANT difference in inspection score between restaurants in areas with above average percentage in family poverty and below average!')\n",
    "else:\n",
    "    print('There is NOT a significant difference in inspection score between restaurants in areas with above average percentage in family poverty and below average!')"
   ]
  },
  {
   "cell_type": "code",
   "execution_count": 23,
   "metadata": {},
   "outputs": [
    {
     "name": "stdout",
     "output_type": "stream",
     "text": [
      "The average family poverty percentage is:\n",
      "8.08918918918919\n",
      "There is NOT a significant difference in yelp_rating between restaurants in areas with above average percentage in family poverty and below average!\n"
     ]
    }
   ],
   "source": [
    "print('The average family poverty percentage is:')\n",
    "print(df['percent_family_poverty'].mean())\n",
    "above_avg_income4 = df[df['percent_family_poverty'] > df['percent_family_poverty'].mean()]['yelp_rating'].values\n",
    "below_avg_income4 = df[df['percent_family_poverty'] < df['percent_family_poverty'].mean()]['yelp_rating'].values\n",
    "[t_val4,p_val4]=stats.ttest_ind(below_avg_income4,above_avg_income4)\n",
    "if p_val4 < 0.01:\n",
    "    print('There is a SIGNIFICANT difference in yelp_rating between restaurants in areas with above average percentage in family poverty and below average!')\n",
    "else:\n",
    "    print('There is NOT a significant difference in yelp_rating between restaurants in areas with above average percentage in family poverty and below average!')"
   ]
  },
  {
   "cell_type": "markdown",
   "metadata": {},
   "source": [
    "### Section Summary\n",
    "T-testing revealed that none of the comparison yielded in any significant distribution differences between the any groups that were compared, further reinforcing the idea that median income and povernty rate of an area does not correlate with health inspection score and yelp rating of restaurants situated in those areas. "
   ]
  },
  {
   "cell_type": "markdown",
   "metadata": {},
   "source": [
    "# Ethics & Privacy\n",
    "### Privacy\n",
    "Since the data is freely open to the public on the county inspection and yelp website, I have permission to use this dataset for this analysis as long as I ensure no information that can identify an individual remains in the dataset without their consent. <br>\n",
    "In regards to privacy, the analysis was designed to remove any identifying inforamtion through the proccess of eliminating irrelevant information and data grouping by the zip codes. The averaging of restaurant health inspection score and yelp rating removed any potential of identifying individuals or restaurants through the information avaliable in dataframe unless there were only one or two restaurants belonging to a zip code area they are located in. It is safe to say that no resturaunts can be uniquely identified based the dataset used in the analysis. <br><br>\n",
    "Even if the restaurants can still be identified, there should be little/no privacy issues as each restaurant likely have agreed to the release of information given that detail information in regards to their resturants is freely opened to the public on the county inspection and yelp website.<br>\n",
    "### Ethics\n",
    "Since the data has already been collected by third party prior to this reseach, there should be no need to consider ethnics for the data collection proccess as it has already happened and we have no control over how and through whom it is done. It is to note that the datasets contains only restaurants and zip code areas of the state of North Carolina, and can only be applicable to restaurants in North Carolina<br> <br>\n",
    "However, there are multiple groups could benefit or harmed by this analysis. Assuming that there are correlations between per capital income of a zipcode area and the yelp reviews, and restaurant health inspection score, and assuming that the study is released and viewed by many, this analysis will likely benefit restaurants located in zip code areas with socialeconomic observations that correlates with high average health inspection score and yelp rating while harming the restaurants located in zip code areas with socialeconomic observations that correlates with low average health inspection score and yelp rating located in the state of North Carolina. However, the frequent restaurant customers and future restaurant owners will benefit from this study since it provides information in regards how the general performances of restaurants correlates with the socialeconomic status of an area. Overall, it was determined that there is a total net gain to the society when weighting the cost and benefit of this analysis, as restaurant frequenters, future restaurant owners, current owners of restaurants that will benefit from this study numbers far greater than current owners of restaurants that will potentially be harmed by this analysis. "
   ]
  },
  {
   "cell_type": "markdown",
   "metadata": {},
   "source": [
    "# Conclusion & Discussion"
   ]
  },
  {
   "cell_type": "markdown",
   "metadata": {},
   "source": [
    "### Discussion\n",
    "Due to the limitation of the data, this analysis can only be applied to North Carolina since only a maximum of 38 zip codes were used in the analysis and all of them were sampled from the state of North Carolina. <br>\n",
    "- Scatterplot visualization is used to understand the general distribution of the datapoints, checking whether the plotted data would be more suitable for nonlinear regressions. \n",
    "- In addition, Linear regression is also plotted to provide a visual aid of the correlations displayed by the correlation table.\n",
    "- Moreover, R-square testing is used to identify whether a regression would be a good fit to describe the data.\n",
    "- T-testing, on the other hand, is used to check whether there is any significant difference in the distribution of data when grouped by socialeconomic observations of zip code areas. "
   ]
  },
  {
   "cell_type": "markdown",
   "metadata": {},
   "source": [
    "Although the correlation table shows that there may seem to be some correlation between the socialeconomic data of a zipcode and the average yelp rating and inspection score for restaurants located in the same area, the extremely low R-square test score revealed best-fit lines generated from linear regression to represent those correlations does not fit the data at all. Scatterplot also provided overall cloud-like visualization that supports the previous claim. In addition, T-testing also revealing that there are no significant difference in distribution between groups even when datasets was compared after being seperated into low income, high poverty groups and high income, low poverty groups, further suggesting that there are no correlation to be found. <br>"
   ]
  },
  {
   "cell_type": "markdown",
   "metadata": {},
   "source": [
    "### Conclusion\n",
    "Through the use of scatter plot visualization, linear regression, R-square testing, and T-testing. It is safe to say that the analysis failed to reject all of the null hypothesis. This means that no correlation was found between:\n",
    "\n",
    "- Per capital income and inspection score\n",
    "- Per capital income and yelp rating\n",
    "- Percent family poverty and inspection score\n",
    "- Percent family poverty and yelp rating"
   ]
  },
  {
   "cell_type": "markdown",
   "metadata": {},
   "source": [
    "This means that there is no link between the a restaurant's health inspection score/ yelp rating and per capital income/percent family poverty of the zip code area that the restaurant is located in."
   ]
  },
  {
   "cell_type": "code",
   "execution_count": null,
   "metadata": {},
   "outputs": [],
   "source": []
  }
 ],
 "metadata": {
  "kernelspec": {
   "display_name": "Python 3",
   "language": "python",
   "name": "python3"
  },
  "language_info": {
   "codemirror_mode": {
    "name": "ipython",
    "version": 3
   },
   "file_extension": ".py",
   "mimetype": "text/x-python",
   "name": "python",
   "nbconvert_exporter": "python",
   "pygments_lexer": "ipython3",
   "version": "3.7.4"
  }
 },
 "nbformat": 4,
 "nbformat_minor": 2
}
