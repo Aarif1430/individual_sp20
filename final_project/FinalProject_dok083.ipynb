{
 "cells": [
  {
   "cell_type": "markdown",
   "metadata": {},
   "source": [
    "# COGS 108 - Final Project "
   ]
  },
  {
   "cell_type": "markdown",
   "metadata": {},
   "source": [
    "# Overview"
   ]
  },
  {
   "cell_type": "markdown",
   "metadata": {},
   "source": [
    "This project is about finding the relationship between area of best school and area of worst school in NC. From the data analysis, area of best school has higher ranking in both restaurant inspection grades and yelp ratings."
   ]
  },
  {
   "cell_type": "markdown",
   "metadata": {},
   "source": [
    "# Name & PID\n",
    "\n",
    "- Name: Doyoung Kim\n",
    "- PID: A91104042"
   ]
  },
  {
   "cell_type": "markdown",
   "metadata": {},
   "source": [
    "# Research Question"
   ]
  },
  {
   "cell_type": "markdown",
   "metadata": {},
   "source": [
    "Do restaurants near UNC have higher ratings (both quality and hygiene) than restaurants near Fayetteville State University because UNC is the best school in NC and Fayetteville State University is the worst? I think UNC will have better scores in general because area of higher school ranking will care more about their reputation."
   ]
  },
  {
   "cell_type": "markdown",
   "metadata": {},
   "source": [
    "# Background and Prior Work "
   ]
  },
  {
   "cell_type": "markdown",
   "metadata": {},
   "source": [
    "Thanks to current situation, health is the number one priority right now. One of the most imporant factor that contributes to personal health is eating better food. However, it is difficult to get variety of food from home cooking. Not every ingredients are available. Therefore, we order food online or go pick up from restaurants. Before, we only focused on food ratings, but now we also need to consider cleanliness of restaurants. Then, I became curious about the relationship between college ratings, food hygiene and food rating. Because the given dataset is about NC, I searched for the best college and the worst (Reference #1 & #2) to compare. From the glimpse of the inspection dataset and Yelp dataset, the scores for food insepction are high already, but the food ratings vary a lot. This discrepancy piqued my interest. \n",
    "\n",
    "References (include links):\n",
    "- 1) https://moneyinc.com/worst-colleges-in-america/ : Best college in NC is UNC\n",
    "- 2) https://www.bestcolleges.com/features/best-colleges-in-north-carolina/ : Worst college in NC is Fayetteville State University\n",
    "- 3) https://www.usgs.gov/faqs/how-much-distance-does-a-degree-minute-and-second-cover-your-maps?qt-news_science_products=0#qt-news_science_products"
   ]
  },
  {
   "cell_type": "markdown",
   "metadata": {},
   "source": [
    "# Hypothesis\n"
   ]
  },
  {
   "cell_type": "markdown",
   "metadata": {},
   "source": [
    "The restaurants near UNC will have higher rankings compare to restaurants near Fayetteville State University. "
   ]
  },
  {
   "cell_type": "markdown",
   "metadata": {},
   "source": [
    "# Dataset(s)"
   ]
  },
  {
   "cell_type": "markdown",
   "metadata": {},
   "source": [
    "\n",
    "- 1) Longitude and latitude information of UNC \n",
    "    - Link to the dataset: https://www.google.com/maps/\n",
    "    - Google map gives information about longitude and latitude of places\n",
    "\n",
    "- 2) Longitude and latitude information of Fayetteville State University\n",
    "    - Link to the dataset: https://www.google.com/maps/\n",
    "    - Google map gives information about longitude and latitude of places\n",
    "\n",
    "- 3) Inspections\n",
    "    - Link to the dataset: Given\n",
    "    - It includes the hsisid, locations, type of facility, scores, and violations information about each store\n",
    "    - 18466 x 36 \n",
    "    \n",
    "- 4) Yelp\n",
    "    - Linkt to the dataset: Given\n",
    "    - It includes the name of the restuarnt, location, types of food that each store sells, ratings, opened or closed.\n",
    "    - 3688 x 31\n",
    "        \n",
    "I used longitutde and latitude to filter through datas as ids are not used between two datasets and names cannot be used for privacy issues. "
   ]
  },
  {
   "cell_type": "markdown",
   "metadata": {},
   "source": [
    "# Setup"
   ]
  },
  {
   "cell_type": "code",
   "execution_count": 1,
   "metadata": {},
   "outputs": [],
   "source": [
    "# Imports \n",
    "%matplotlib inline\n",
    "\n",
    "import numpy as np\n",
    "import pandas as pd\n",
    "import matplotlib.pyplot as plt\n",
    "import seaborn as sns\n",
    "#from pylab import plot, show, savefig, xlim, figure, hold, ylim, legend, boxplot, setp, axes\n",
    "import warnings\n",
    "warnings.filterwarnings('ignore')\n",
    "\n",
    "yelp_df = pd.read_csv(\"yelp.csv\")\n",
    "inspection_df = pd.read_csv(\"inspections.csv\")\n",
    "\n",
    "UNC_Y = 35.9049165\n",
    "UNC_X = -79.0491021\n",
    "FSU_Y = 35.074225\n",
    "FSU_X = -78.8946783\n",
    "UNC_zip = 27599\n",
    "FSU_zip = 28301\n"
   ]
  },
  {
   "cell_type": "markdown",
   "metadata": {},
   "source": [
    "# Data Cleaning"
   ]
  },
  {
   "cell_type": "markdown",
   "metadata": {},
   "source": [
    "Describe your data cleaning steps here."
   ]
  },
  {
   "cell_type": "code",
   "execution_count": 2,
   "metadata": {},
   "outputs": [
    {
     "data": {
      "text/html": [
       "<div>\n",
       "<style scoped>\n",
       "    .dataframe tbody tr th:only-of-type {\n",
       "        vertical-align: middle;\n",
       "    }\n",
       "\n",
       "    .dataframe tbody tr th {\n",
       "        vertical-align: top;\n",
       "    }\n",
       "\n",
       "    .dataframe thead th {\n",
       "        text-align: right;\n",
       "    }\n",
       "</style>\n",
       "<table border=\"1\" class=\"dataframe\">\n",
       "  <thead>\n",
       "    <tr style=\"text-align: right;\">\n",
       "      <th></th>\n",
       "      <th>is_closed</th>\n",
       "      <th>rating</th>\n",
       "      <th>y</th>\n",
       "      <th>x</th>\n",
       "    </tr>\n",
       "  </thead>\n",
       "  <tbody>\n",
       "    <tr>\n",
       "      <th>0</th>\n",
       "      <td>False</td>\n",
       "      <td>2.5</td>\n",
       "      <td>35.873808</td>\n",
       "      <td>-78.790896</td>\n",
       "    </tr>\n",
       "    <tr>\n",
       "      <th>1</th>\n",
       "      <td>False</td>\n",
       "      <td>4.0</td>\n",
       "      <td>35.802840</td>\n",
       "      <td>-78.785930</td>\n",
       "    </tr>\n",
       "    <tr>\n",
       "      <th>2</th>\n",
       "      <td>False</td>\n",
       "      <td>5.0</td>\n",
       "      <td>35.839681</td>\n",
       "      <td>-78.678791</td>\n",
       "    </tr>\n",
       "    <tr>\n",
       "      <th>3</th>\n",
       "      <td>False</td>\n",
       "      <td>3.0</td>\n",
       "      <td>35.743170</td>\n",
       "      <td>-77.964160</td>\n",
       "    </tr>\n",
       "    <tr>\n",
       "      <th>4</th>\n",
       "      <td>False</td>\n",
       "      <td>3.5</td>\n",
       "      <td>35.762936</td>\n",
       "      <td>-77.999428</td>\n",
       "    </tr>\n",
       "  </tbody>\n",
       "</table>\n",
       "</div>"
      ],
      "text/plain": [
       "   is_closed  rating          y          x\n",
       "0      False     2.5  35.873808 -78.790896\n",
       "1      False     4.0  35.802840 -78.785930\n",
       "2      False     5.0  35.839681 -78.678791\n",
       "3      False     3.0  35.743170 -77.964160\n",
       "4      False     3.5  35.762936 -77.999428"
      ]
     },
     "execution_count": 2,
     "metadata": {},
     "output_type": "execute_result"
    }
   ],
   "source": [
    "# Clean Yelp Data\n",
    "# Drop irrelevent columns\n",
    "yelp_df.drop(yelp_df.columns[9:], axis = 1, inplace = True)\n",
    "yelp_df.drop(yelp_df.columns[[0,1, 4, 5, 6]], axis = 1, inplace = True)\n",
    "yelp_df.drop(yelp_df[yelp_df['is_closed'] == True].index, inplace = True)\n",
    "\n",
    "# Change column names\n",
    "yelp_df = yelp_df.rename(columns={'latitude': 'y', 'longitude': 'x'})\n",
    "\n",
    "yelp_df.head(5)\n"
   ]
  },
  {
   "cell_type": "code",
   "execution_count": 3,
   "metadata": {},
   "outputs": [
    {
     "data": {
      "text/html": [
       "<div>\n",
       "<style scoped>\n",
       "    .dataframe tbody tr th:only-of-type {\n",
       "        vertical-align: middle;\n",
       "    }\n",
       "\n",
       "    .dataframe tbody tr th {\n",
       "        vertical-align: top;\n",
       "    }\n",
       "\n",
       "    .dataframe thead th {\n",
       "        text-align: right;\n",
       "    }\n",
       "</style>\n",
       "<table border=\"1\" class=\"dataframe\">\n",
       "  <thead>\n",
       "    <tr style=\"text-align: right;\">\n",
       "      <th></th>\n",
       "      <th>facilitytype</th>\n",
       "      <th>x</th>\n",
       "      <th>y</th>\n",
       "      <th>score</th>\n",
       "      <th>num_critical</th>\n",
       "      <th>num_non_critical</th>\n",
       "      <th>critical</th>\n",
       "    </tr>\n",
       "  </thead>\n",
       "  <tbody>\n",
       "    <tr>\n",
       "      <th>0</th>\n",
       "      <td>Restaurant</td>\n",
       "      <td>-78.587963</td>\n",
       "      <td>35.783914</td>\n",
       "      <td>96.0</td>\n",
       "      <td>9</td>\n",
       "      <td>7</td>\n",
       "      <td>1</td>\n",
       "    </tr>\n",
       "    <tr>\n",
       "      <th>1</th>\n",
       "      <td>Restaurant</td>\n",
       "      <td>-78.549673</td>\n",
       "      <td>35.791986</td>\n",
       "      <td>98.0</td>\n",
       "      <td>0</td>\n",
       "      <td>11</td>\n",
       "      <td>0</td>\n",
       "    </tr>\n",
       "    <tr>\n",
       "      <th>2</th>\n",
       "      <td>Restaurant</td>\n",
       "      <td>-78.547960</td>\n",
       "      <td>35.723125</td>\n",
       "      <td>97.0</td>\n",
       "      <td>4</td>\n",
       "      <td>8</td>\n",
       "      <td>1</td>\n",
       "    </tr>\n",
       "    <tr>\n",
       "      <th>3</th>\n",
       "      <td>Restaurant</td>\n",
       "      <td>-78.815727</td>\n",
       "      <td>35.799249</td>\n",
       "      <td>99.0</td>\n",
       "      <td>2</td>\n",
       "      <td>3</td>\n",
       "      <td>1</td>\n",
       "    </tr>\n",
       "    <tr>\n",
       "      <th>6</th>\n",
       "      <td>Restaurant</td>\n",
       "      <td>-78.695656</td>\n",
       "      <td>35.766739</td>\n",
       "      <td>96.0</td>\n",
       "      <td>6</td>\n",
       "      <td>7</td>\n",
       "      <td>1</td>\n",
       "    </tr>\n",
       "  </tbody>\n",
       "</table>\n",
       "</div>"
      ],
      "text/plain": [
       "  facilitytype          x          y  score  num_critical  num_non_critical  \\\n",
       "0   Restaurant -78.587963  35.783914   96.0             9                 7   \n",
       "1   Restaurant -78.549673  35.791986   98.0             0                11   \n",
       "2   Restaurant -78.547960  35.723125   97.0             4                 8   \n",
       "3   Restaurant -78.815727  35.799249   99.0             2                 3   \n",
       "6   Restaurant -78.695656  35.766739   96.0             6                 7   \n",
       "\n",
       "   critical  \n",
       "0         1  \n",
       "1         0  \n",
       "2         1  \n",
       "3         1  \n",
       "6         1  "
      ]
     },
     "execution_count": 3,
     "metadata": {},
     "output_type": "execute_result"
    }
   ],
   "source": [
    "# Clean Inspection Data\n",
    "# Keep only relevant columns and only restuarants, not school lunch rooms\n",
    "inspection_df = inspection_df.filter(['facilitytype', 'x', 'y', 'score', 'num_critical', 'num_non_critical', 'critical'])\n",
    "inspection_df.drop(inspection_df[inspection_df.facilitytype != 'Restaurant'].index, inplace = True)\n",
    "inspection_df.head(5)"
   ]
  },
  {
   "cell_type": "code",
   "execution_count": 4,
   "metadata": {},
   "outputs": [],
   "source": [
    "# Funtion to change DD to DMS longitude and latitude\n",
    "# changing from decimal to decimal minute second format\n",
    "def change_DD_to_DMS_only_M (DD):\n",
    "    degree = int(DD) # just get the decimal part\n",
    "    minuet = ((DD-degree)*60)\n",
    "    return minuet\n"
   ]
  },
  {
   "cell_type": "code",
   "execution_count": 5,
   "metadata": {},
   "outputs": [],
   "source": [
    "yelp_df['yelp_x'] = yelp_df['x'].apply(change_DD_to_DMS_only_M)\n",
    "yelp_df['yelp_y'] = yelp_df['y'].apply(change_DD_to_DMS_only_M)\n",
    "inspection_df['inspect_x'] = inspection_df['x'].apply(change_DD_to_DMS_only_M)\n",
    "inspection_df['inspect_y'] = inspection_df['y'].apply(change_DD_to_DMS_only_M)\n",
    "UNC_x = change_DD_to_DMS_only_M(UNC_X)\n",
    "UNC_y = change_DD_to_DMS_only_M(UNC_Y)\n",
    "FSU_x = change_DD_to_DMS_only_M(FSU_X)\n",
    "FSU_y = change_DD_to_DMS_only_M(FSU_Y)\n",
    "\n"
   ]
  },
  {
   "cell_type": "markdown",
   "metadata": {},
   "source": [
    "# Data Analysis & Results"
   ]
  },
  {
   "cell_type": "markdown",
   "metadata": {},
   "source": [
    "Include cells that describe the steps in your data analysis."
   ]
  },
  {
   "cell_type": "code",
   "execution_count": 6,
   "metadata": {},
   "outputs": [],
   "source": [
    "# Filter through dataset that does not belong in same zipcode as either UNC or FSU\n",
    "# inspection_filtered_1 = inspection_df[(inspection_df['zip'] == FSU_zip)]\n",
    "# inspection_filtered_2 = inspection_df[(inspection_df['zip'] == UNC_zip)]\n",
    "# yelp_filtered_1 = yelp_df[(yelp_df['zip_code'] == FSU_zip)]\n",
    "# yelp_filtered_2 = yelp_df[(yelp_df['zip_code'] == UNC_zip)]\n",
    "\n",
    "# But, there are not matching rows with exact zipcode.\n",
    "# Try, longitude and latitude\n",
    "\n",
    "#FSU\n",
    "yelp_filtered_FSU = yelp_df[(yelp_df['x'] < (FSU_X + 0.1)) & (yelp_df['x'] > (FSU_X -0.1))]\n",
    "yelp_filtered_FSU = yelp_filtered_FSU[(yelp_filtered_FSU['y'] < (FSU_Y + 0.1)) & (yelp_filtered_FSU['y'] > (FSU_Y -0.1))]\n",
    "inspection_filtered_FSU = inspection_df[(inspection_df['x'] < (FSU_X + 0.5)) & (inspection_df['x'] > (FSU_X - 0.5))]\n",
    "inspection_filtered_FSU = inspection_filtered_FSU[(inspection_filtered_FSU['y'] < (FSU_Y + 0.5)) & \n",
    "                                                  (inspection_filtered_FSU['y'] > (FSU_Y - 0.5))]\n",
    "\n",
    "#UNC\n",
    "yelp_filtered_UNC = yelp_df[(yelp_df['x'] < (UNC_X + 0.1)) & (yelp_df['x'] > (UNC_X -0.1))]\n",
    "yelp_filtered_UNC = yelp_filtered_UNC[(yelp_filtered_UNC['y'] < (UNC_Y + 0.1)) & (yelp_filtered_UNC['y'] > (UNC_Y -0.1))]\n",
    "inspection_filtered_UNC = inspection_df[(inspection_df['x'] < (UNC_X + 0.5)) & (inspection_df['x'] > (UNC_X - 0.5))]\n",
    "inspection_filtered_UNC = inspection_filtered_UNC[(inspection_filtered_UNC['y'] < (UNC_Y + 0.5)) & \n",
    "                                                  (inspection_filtered_UNC['y'] > (UNC_Y - 0.5))]"
   ]
  },
  {
   "cell_type": "code",
   "execution_count": 7,
   "metadata": {},
   "outputs": [
    {
     "name": "stdout",
     "output_type": "stream",
     "text": [
      "(8, 6)\n",
      "(11, 9)\n",
      "(10563, 9)\n",
      "(110, 6)\n"
     ]
    },
    {
     "data": {
      "text/html": [
       "<div>\n",
       "<style scoped>\n",
       "    .dataframe tbody tr th:only-of-type {\n",
       "        vertical-align: middle;\n",
       "    }\n",
       "\n",
       "    .dataframe tbody tr th {\n",
       "        vertical-align: top;\n",
       "    }\n",
       "\n",
       "    .dataframe thead th {\n",
       "        text-align: right;\n",
       "    }\n",
       "</style>\n",
       "<table border=\"1\" class=\"dataframe\">\n",
       "  <thead>\n",
       "    <tr style=\"text-align: right;\">\n",
       "      <th></th>\n",
       "      <th>facilitytype</th>\n",
       "      <th>x</th>\n",
       "      <th>y</th>\n",
       "      <th>score</th>\n",
       "      <th>num_critical</th>\n",
       "      <th>num_non_critical</th>\n",
       "      <th>critical</th>\n",
       "      <th>inspect_x</th>\n",
       "      <th>inspect_y</th>\n",
       "    </tr>\n",
       "  </thead>\n",
       "  <tbody>\n",
       "    <tr>\n",
       "      <th>1577</th>\n",
       "      <td>Restaurant</td>\n",
       "      <td>-78.807038</td>\n",
       "      <td>35.556502</td>\n",
       "      <td>96.0</td>\n",
       "      <td>3</td>\n",
       "      <td>7</td>\n",
       "      <td>1</td>\n",
       "      <td>-48.42228</td>\n",
       "      <td>33.39012</td>\n",
       "    </tr>\n",
       "    <tr>\n",
       "      <th>5958</th>\n",
       "      <td>Restaurant</td>\n",
       "      <td>-78.807038</td>\n",
       "      <td>35.556502</td>\n",
       "      <td>98.5</td>\n",
       "      <td>5</td>\n",
       "      <td>2</td>\n",
       "      <td>1</td>\n",
       "      <td>-48.42228</td>\n",
       "      <td>33.39012</td>\n",
       "    </tr>\n",
       "    <tr>\n",
       "      <th>6264</th>\n",
       "      <td>Restaurant</td>\n",
       "      <td>-78.747986</td>\n",
       "      <td>35.539550</td>\n",
       "      <td>94.0</td>\n",
       "      <td>6</td>\n",
       "      <td>4</td>\n",
       "      <td>1</td>\n",
       "      <td>-44.87916</td>\n",
       "      <td>32.37300</td>\n",
       "    </tr>\n",
       "    <tr>\n",
       "      <th>7918</th>\n",
       "      <td>Restaurant</td>\n",
       "      <td>-78.747986</td>\n",
       "      <td>35.539550</td>\n",
       "      <td>92.0</td>\n",
       "      <td>10</td>\n",
       "      <td>4</td>\n",
       "      <td>1</td>\n",
       "      <td>-44.87916</td>\n",
       "      <td>32.37300</td>\n",
       "    </tr>\n",
       "    <tr>\n",
       "      <th>9029</th>\n",
       "      <td>Restaurant</td>\n",
       "      <td>-78.807038</td>\n",
       "      <td>35.556502</td>\n",
       "      <td>94.0</td>\n",
       "      <td>5</td>\n",
       "      <td>5</td>\n",
       "      <td>1</td>\n",
       "      <td>-48.42228</td>\n",
       "      <td>33.39012</td>\n",
       "    </tr>\n",
       "    <tr>\n",
       "      <th>11103</th>\n",
       "      <td>Restaurant</td>\n",
       "      <td>-78.747986</td>\n",
       "      <td>35.539550</td>\n",
       "      <td>93.0</td>\n",
       "      <td>8</td>\n",
       "      <td>6</td>\n",
       "      <td>1</td>\n",
       "      <td>-44.87916</td>\n",
       "      <td>32.37300</td>\n",
       "    </tr>\n",
       "    <tr>\n",
       "      <th>12955</th>\n",
       "      <td>Restaurant</td>\n",
       "      <td>-78.807038</td>\n",
       "      <td>35.556502</td>\n",
       "      <td>92.5</td>\n",
       "      <td>8</td>\n",
       "      <td>6</td>\n",
       "      <td>1</td>\n",
       "      <td>-48.42228</td>\n",
       "      <td>33.39012</td>\n",
       "    </tr>\n",
       "    <tr>\n",
       "      <th>13823</th>\n",
       "      <td>Restaurant</td>\n",
       "      <td>-78.747986</td>\n",
       "      <td>35.539550</td>\n",
       "      <td>94.5</td>\n",
       "      <td>8</td>\n",
       "      <td>7</td>\n",
       "      <td>1</td>\n",
       "      <td>-44.87916</td>\n",
       "      <td>32.37300</td>\n",
       "    </tr>\n",
       "    <tr>\n",
       "      <th>15588</th>\n",
       "      <td>Restaurant</td>\n",
       "      <td>-78.747986</td>\n",
       "      <td>35.539550</td>\n",
       "      <td>97.5</td>\n",
       "      <td>2</td>\n",
       "      <td>3</td>\n",
       "      <td>1</td>\n",
       "      <td>-44.87916</td>\n",
       "      <td>32.37300</td>\n",
       "    </tr>\n",
       "    <tr>\n",
       "      <th>16513</th>\n",
       "      <td>Restaurant</td>\n",
       "      <td>-78.807038</td>\n",
       "      <td>35.556502</td>\n",
       "      <td>92.5</td>\n",
       "      <td>5</td>\n",
       "      <td>6</td>\n",
       "      <td>1</td>\n",
       "      <td>-48.42228</td>\n",
       "      <td>33.39012</td>\n",
       "    </tr>\n",
       "    <tr>\n",
       "      <th>18005</th>\n",
       "      <td>Restaurant</td>\n",
       "      <td>-78.747986</td>\n",
       "      <td>35.539550</td>\n",
       "      <td>97.5</td>\n",
       "      <td>2</td>\n",
       "      <td>0</td>\n",
       "      <td>1</td>\n",
       "      <td>-44.87916</td>\n",
       "      <td>32.37300</td>\n",
       "    </tr>\n",
       "  </tbody>\n",
       "</table>\n",
       "</div>"
      ],
      "text/plain": [
       "      facilitytype          x          y  score  num_critical  \\\n",
       "1577    Restaurant -78.807038  35.556502   96.0             3   \n",
       "5958    Restaurant -78.807038  35.556502   98.5             5   \n",
       "6264    Restaurant -78.747986  35.539550   94.0             6   \n",
       "7918    Restaurant -78.747986  35.539550   92.0            10   \n",
       "9029    Restaurant -78.807038  35.556502   94.0             5   \n",
       "11103   Restaurant -78.747986  35.539550   93.0             8   \n",
       "12955   Restaurant -78.807038  35.556502   92.5             8   \n",
       "13823   Restaurant -78.747986  35.539550   94.5             8   \n",
       "15588   Restaurant -78.747986  35.539550   97.5             2   \n",
       "16513   Restaurant -78.807038  35.556502   92.5             5   \n",
       "18005   Restaurant -78.747986  35.539550   97.5             2   \n",
       "\n",
       "       num_non_critical  critical  inspect_x  inspect_y  \n",
       "1577                  7         1  -48.42228   33.39012  \n",
       "5958                  2         1  -48.42228   33.39012  \n",
       "6264                  4         1  -44.87916   32.37300  \n",
       "7918                  4         1  -44.87916   32.37300  \n",
       "9029                  5         1  -48.42228   33.39012  \n",
       "11103                 6         1  -44.87916   32.37300  \n",
       "12955                 6         1  -48.42228   33.39012  \n",
       "13823                 7         1  -44.87916   32.37300  \n",
       "15588                 3         1  -44.87916   32.37300  \n",
       "16513                 6         1  -48.42228   33.39012  \n",
       "18005                 0         1  -44.87916   32.37300  "
      ]
     },
     "execution_count": 7,
     "metadata": {},
     "output_type": "execute_result"
    }
   ],
   "source": [
    "# Check size of filtered data\n",
    "print(yelp_filtered_FSU.shape)\n",
    "print(inspection_filtered_FSU.shape)\n",
    "print(inspection_filtered_UNC.shape)\n",
    "print(yelp_filtered_UNC.shape)"
   ]
  },
  {
   "cell_type": "markdown",
   "metadata": {},
   "source": [
    "## Data Visualization"
   ]
  },
  {
   "cell_type": "code",
   "execution_count": 24,
   "metadata": {},
   "outputs": [
    {
     "data": {
      "image/png": "[encoded data removed]",
      "text/plain": [
       "<Figure size 1080x720 with 2 Axes>"
      ]
     },
     "metadata": {
      "needs_background": "light"
     },
     "output_type": "display_data"
    }
   ],
   "source": [
    "# Concat dataframes to Boxplot the points for Inspection data\n",
    "inspection_frame = [inspection_filtered_FSU.score, inspection_filtered_UNC.score]\n",
    "yelp_frame = [yelp_filtered_FSU.rating, yelp_filtered_UNC.rating]\n",
    "\n",
    "fig, axes = plt.subplots(nrows=1, ncols=2, figsize=(15, 10))\n",
    "axes[0].boxplot(inspection_frame, showfliers=False)\n",
    "axes[0].set_title('FSU VS UNC for inspectioin in 2012' )\n",
    "axes[1].boxplot(yelp_frame, showfliers=False)\n",
    "axes[1].set_title('FSU VS UNC for Yelp in 2012' )\n",
    "fig.tight_layout()\n"
   ]
  },
  {
   "cell_type": "markdown",
   "metadata": {},
   "source": [
    "# Ethics & Privacy"
   ]
  },
  {
   "cell_type": "markdown",
   "metadata": {},
   "source": [
    "- 1) The information regarding restaurant inspection and school is public\n",
    "    - 1) All of the names and addresses of schools in NC can be found online\n",
    "    - 2) Health inspection records are public - can be seen at the restaurant or online \n",
    "- 2) The private information needs to be removed \n",
    "    - 1) Although health inspection records are public, private information such as name needs to be protected to  illiminate any possible damage to a specific restaurant \n",
    "    - 2) Information displayed inside of restaurants do not include minor violations\n",
    "    - 3) Restaurants with minor violations can still get grade A\n",
    "    - 4) Looking at longitude and latitude cannot give idea of location simply\n",
    "    - 5) Zipcodes are erased\n",
    "    - 6) Anything that can relate to inspection rating is erased such as inspector name\n",
    "- 3) The definition of near needs to be addressed as 11 Km for yelp and 55 Km for inspection\n",
    "    - 1) Close could mean 1 mile to 10 miles depending on people. The result of this project can harm restaurants that are not in the range if the finding says restaurants near UCSD have lower ratings in general\n",
    "    - 2) It may also influence parents of potential students for UCSD. If students do not have cars, then they will eat from nearby restaurants. Food is an important factor to consider for choosing school.\n",
    "- 4) The source of inspection record needs to be meantioned\n",
    "    - 1) The readers may question source of information for credibility or privacy violation like Facebook case\n",
    "    - 2) The inspection record is given\n",
    "- 5) The length of inspection record needs to be meantioned\n",
    "    - 1) This record is from 2012"
   ]
  },
  {
   "cell_type": "markdown",
   "metadata": {},
   "source": [
    "# Conclusion & Discussion"
   ]
  },
  {
   "cell_type": "markdown",
   "metadata": {},
   "source": [
    "From the boxplots, it is clear that areas near UNC have higher number in both restaurant inspection and yelp rating. However, inspection rating is not that far away from each other. One possible explaination is that he inspection occurs every year at least, so restaurant owners need to keep it up to continue the operation. However, this analysis have lots of limitations. First of all, the dataset did not have enough observation to match zipcodes. Zipcodes are first filters to use for geographic analysis, but none of them matched both yelp dataset and inspection dataset. Thus, functions and codes to try filter with zipcodes are now commented out. Because of this lack of observation, the definition of 'near' is different. Yelp dataset had enough observations to close it down to 11 Km, but inspection dataset did not have. Therefore, the radius became 55 Km. This analysis includes only one pair of colleges, UNC and Fayetteville State University, so the conclusion cannot be used for general NC area.  The dataset is taken from 2012, so it may have differences from most recent data. "
   ]
  }
 ],
 "metadata": {
  "kernelspec": {
   "display_name": "Python 3",
   "language": "python",
   "name": "python3"
  },
  "language_info": {
   "codemirror_mode": {
    "name": "ipython",
    "version": 3
   },
   "file_extension": ".py",
   "mimetype": "text/x-python",
   "name": "python",
   "nbconvert_exporter": "python",
   "pygments_lexer": "ipython3",
   "version": "3.6.7"
  }
 },
 "nbformat": 4,
 "nbformat_minor": 2
}
