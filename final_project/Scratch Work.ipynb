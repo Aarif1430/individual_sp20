{
 "cells": [
  {
   "cell_type": "code",
   "execution_count": 1,
   "metadata": {},
   "outputs": [],
   "source": [
    "# Imports - these are all the imports needed for the assignment\n",
    "%matplotlib inline\n",
    "\n",
    "import numpy as np\n",
    "import pandas as pd\n",
    "import matplotlib.pyplot as plt\n",
    "\n",
    "# Import nltk package \n",
    "#   PennTreeBank word tokenizer \n",
    "#   English language stopwords\n",
    "import nltk\n",
    "from nltk.tokenize import word_tokenize\n",
    "\n",
    "import random\n",
    "\n",
    "import seaborn as sns\n",
    "\n",
    "from sklearn.svm import SVC\n",
    "from sklearn.feature_extraction.text import TfidfVectorizer\n",
    "from sklearn.metrics import classification_report, precision_recall_fscore_support\n",
    "from sklearn.preprocessing import MinMaxScaler"
   ]
  },
  {
   "cell_type": "code",
   "execution_count": 2,
   "metadata": {},
   "outputs": [
    {
     "name": "stderr",
     "output_type": "stream",
     "text": [
      "[nltk_data] Downloading package stopwords to /home/q/nltk_data...\n",
      "[nltk_data]   Package stopwords is already up-to-date!\n",
      "[nltk_data] Downloading package vader_lexicon to /home/q/nltk_data...\n",
      "[nltk_data]   Package vader_lexicon is already up-to-date!\n"
     ]
    },
    {
     "data": {
      "text/plain": [
       "True"
      ]
     },
     "execution_count": 2,
     "metadata": {},
     "output_type": "execute_result"
    }
   ],
   "source": [
    "nltk.download('stopwords')\n",
    "nltk.download('vader_lexicon')"
   ]
  },
  {
   "cell_type": "code",
   "execution_count": 4,
   "metadata": {},
   "outputs": [],
   "source": [
    "restaurants_filepath = \"restaurants.csv\"\n",
    "restaurants_df = pd.read_csv(restaurants_filepath, dtype={\n",
    "    \"hsisid\": str,\n",
    "    \"postal_code\": str,\n",
    "})\n",
    "\n",
    "violations_filepath = \"violations.csv\"\n",
    "violations_df = pd.read_csv(violations_filepath, dtype={\n",
    "    \"hsisid\": str,\n",
    "    \"comments\": str,\n",
    "})\n",
    "\n",
    "yelp_filepath = \"yelp.csv\"\n",
    "yelp_df = pd.read_csv(yelp_filepath, dtype={\n",
    "    \"zip_code\": str\n",
    "})"
   ]
  },
  {
   "cell_type": "markdown",
   "metadata": {},
   "source": [
    "#### Converters"
   ]
  },
  {
   "cell_type": "code",
   "execution_count": 5,
   "metadata": {},
   "outputs": [],
   "source": [
    "def convert_restaurant_names(name_in):\n",
    "        \n",
    "    # Make the input all lowercase\n",
    "    name_in = name_in.lower()\n",
    "    \n",
    "    # Drop all whitespace\n",
    "    name_in = name_in.strip()\n",
    "    \n",
    "    # Chain restaurants have are of format 'chain name #NUMBER'\n",
    "    # Remove '#NUMBER' is present\n",
    "    hash_index = name_in.find('#')\n",
    "    if hash_index != -1:\n",
    "        name_in = name_in[0:hash_index]\n",
    "        \n",
    "    name_in = name_in.replace(\"i pre-security\", \"\")\n",
    "    name_in = name_in.replace(\"&amp;\", \"and\")\n",
    "    name_in = name_in.replace(\"&\", \"and\")\n",
    "        \n",
    "    if \"subway\" in name_in:\n",
    "        name_in = \"subway\"\n",
    "    elif \"mcdonald's\" in name_in or \"mcdonalds\" in name_in:\n",
    "        name_in = \"mcdonald's\"\n",
    "    elif \"starbuck\" in name_in:\n",
    "        name_in = \"starbuck\"\n",
    "    elif \"dunkin donuts\" in name_in:\n",
    "        name_in = \"dunkin donuts\"\n",
    "    elif \"arby's\" in name_in:\n",
    "        name_in = \"arby's\"\n",
    "    elif \"jersey mike\" in name_in:\n",
    "        name_in = \"jersey mike\"\n",
    "    elif \"wendy's\" in name_in:\n",
    "        name_in = \"wendy's\"\n",
    "    elif \"jamba j\" in name_in:\n",
    "        name_in = \"jamba juice\"\n",
    "    elif \"culver\" in name_in:\n",
    "        name_in = \"culver's\"\n",
    "    elif \"einstein\" in name_in and \"bagel\" in name_in:\n",
    "        name_in = \"einstein bros bagel\"\n",
    "    elif \"whataburger\" in name_in:\n",
    "        name_in = \"whataburger\"\n",
    "    elif \"church's chicken\" in name_in:\n",
    "        name_in = \"church's hicken\"\n",
    "    elif \"five guys\" in name_in:\n",
    "        name_in = \"five guys\"\n",
    "    elif \"chick-fil-a\" in name_in:\n",
    "        name_in = \"chick-fil-a\"\n",
    "    elif \"aubrey\" in name_in and \"peedi\" in name_in and \"grill\" in name_in:\n",
    "        name_in = \"aubrey and peedies grill\"\n",
    "    elif \"skipper's fish fry\" in name_in or \"skipper`s fish fry and market\" == name_in:\n",
    "        name_in = \"skipper's fish fry\"\n",
    "    elif \"dean's seafood grill\" in name_in:\n",
    "        name_in = \"dean's seafood grill and bar\"\n",
    "    elif \"salvio\" in name_in and \"pizzeria\" in name_in:\n",
    "        name_in = \"salvio's pizzeria\"\n",
    "    elif \"manchester\" in name_in and \"grill\" in name_in:\n",
    "        name_in = \"manchester bar and grill\"\n",
    "    elif \"sam\" in name_in and \"club\" in name_in:\n",
    "        name_in = \"sam's club\"\n",
    "    elif \"sami\" in name_in and \"pizza\" in name_in and \"more\" in name_in:\n",
    "        name_in = \"sami's subs, pizza, and more\"\n",
    "        \n",
    "    if name_in == \"spring cafe 2\":\n",
    "        name_in = \"spring cafe\"\n",
    "    \n",
    "    return name_in.strip()\n",
    "\n",
    "assert convert_restaurant_names(\"chick-fil-a #1573\") == 'chick-fil-a'\n",
    "assert convert_restaurant_names(\"taco bell #22798\") == 'taco bell'\n",
    "assert convert_restaurant_names(\"chick-fil-a of knightdale\") == \"chick-fil-a\""
   ]
  },
  {
   "cell_type": "code",
   "execution_count": 6,
   "metadata": {},
   "outputs": [],
   "source": [
    "def convert_time(str_in):\n",
    "    return pd.to_datetime(str_in)"
   ]
  },
  {
   "cell_type": "code",
   "execution_count": 7,
   "metadata": {},
   "outputs": [],
   "source": [
    "def convert_zip(zipcode):\n",
    "    \n",
    "    # ZIP codes of form \"AAAAA-BBBB\" are specific version of \"AAAAA\"\n",
    "    hyphen_index = zipcode.find('-')\n",
    "    if hyphen_index != -1:\n",
    "        zipcode = zipcode[0:hyphen_index]\n",
    "\n",
    "    zipcode = zipcode.strip()\n",
    "    return zipcode\n",
    "\n",
    "\n",
    "assert convert_zip(\"12345\") == \"12345\"\n",
    "assert convert_zip(\"12345-678\") == \"12345\""
   ]
  },
  {
   "cell_type": "code",
   "execution_count": 8,
   "metadata": {},
   "outputs": [],
   "source": [
    "restaurants_df_clean = restaurants_df.drop(labels=[\n",
    "    \"X.objectid\",\n",
    "    \"name\",\n",
    "    \"state\",\n",
    "    \"address1\",\n",
    "    \"address2\",\n",
    "    \"city\",\n",
    "    \"phonenumber\",\n",
    "    \"geocodestatus\",\n",
    "    \"x\",\n",
    "    \"y\",\n",
    "    \"facilitytype\"\n",
    "], axis=\"columns\")\n",
    "\n",
    "restaurants_df_clean.rename(columns={\n",
    "    \"hsisid\": \"id\",\n",
    "    \"postalcode\": 'zip',\n",
    "    \"restaurantopendate\": \"open_date\"\n",
    "}, inplace=True)\n",
    "\n",
    "restaurants_df_clean = restaurants_df_clean[(restaurants_df[\"facilitytype\"] == \"Restaurant\") \n",
    "                                            & (restaurants_df[\"facilitytype\"] == \"Restaurant\")]\n",
    "restaurants_df_clean[\"name\"] = restaurants_df[\"name\"].apply(convert_restaurant_names)\n",
    "restaurants_df_clean[\"zip\"] = restaurants_df_clean[\"zip\"].apply(convert_zip)\n",
    "restaurants_df_clean[\"open_date\"] = restaurants_df_clean[\"open_date\"].apply(convert_time)\n",
    "\n",
    "restaurant_ids = restaurants_df_clean[\"id\"]\n",
    "\n",
    "restaurants_df_clean = restaurants_df_clean.reindex()\n",
    "assert restaurants_df_clean[\"id\"].is_unique == True"
   ]
  },
  {
   "cell_type": "code",
   "execution_count": 9,
   "metadata": {},
   "outputs": [
    {
     "data": {
      "text/html": [
       "<div>\n",
       "<style scoped>\n",
       "    .dataframe tbody tr th:only-of-type {\n",
       "        vertical-align: middle;\n",
       "    }\n",
       "\n",
       "    .dataframe tbody tr th {\n",
       "        vertical-align: top;\n",
       "    }\n",
       "\n",
       "    .dataframe thead th {\n",
       "        text-align: right;\n",
       "    }\n",
       "</style>\n",
       "<table border=\"1\" class=\"dataframe\">\n",
       "  <thead>\n",
       "    <tr style=\"text-align: right;\">\n",
       "      <th></th>\n",
       "      <th>id</th>\n",
       "      <th>zip</th>\n",
       "      <th>open_date</th>\n",
       "      <th>name</th>\n",
       "    </tr>\n",
       "  </thead>\n",
       "  <tbody>\n",
       "    <tr>\n",
       "      <th>0</th>\n",
       "      <td>4092017230</td>\n",
       "      <td>27616</td>\n",
       "      <td>2016-05-26 00:00:00+00:00</td>\n",
       "      <td>spring cafe</td>\n",
       "    </tr>\n",
       "    <tr>\n",
       "      <th>2</th>\n",
       "      <td>4092014444</td>\n",
       "      <td>27587</td>\n",
       "      <td>2005-12-05 00:00:00+00:00</td>\n",
       "      <td>taco bell</td>\n",
       "    </tr>\n",
       "    <tr>\n",
       "      <th>3</th>\n",
       "      <td>4092015333</td>\n",
       "      <td>27601</td>\n",
       "      <td>2009-02-04 00:00:00+00:00</td>\n",
       "      <td>the remedy diner</td>\n",
       "    </tr>\n",
       "    <tr>\n",
       "      <th>6</th>\n",
       "      <td>4092016679</td>\n",
       "      <td>27601</td>\n",
       "      <td>2014-04-23 00:00:00+00:00</td>\n",
       "      <td>bittersweet</td>\n",
       "    </tr>\n",
       "    <tr>\n",
       "      <th>7</th>\n",
       "      <td>4092014493</td>\n",
       "      <td>27617</td>\n",
       "      <td>2006-01-31 00:00:00+00:00</td>\n",
       "      <td>chick-fil-a</td>\n",
       "    </tr>\n",
       "  </tbody>\n",
       "</table>\n",
       "</div>"
      ],
      "text/plain": [
       "           id    zip                 open_date              name\n",
       "0  4092017230  27616 2016-05-26 00:00:00+00:00       spring cafe\n",
       "2  4092014444  27587 2005-12-05 00:00:00+00:00         taco bell\n",
       "3  4092015333  27601 2009-02-04 00:00:00+00:00  the remedy diner\n",
       "6  4092016679  27601 2014-04-23 00:00:00+00:00       bittersweet\n",
       "7  4092014493  27617 2006-01-31 00:00:00+00:00       chick-fil-a"
      ]
     },
     "execution_count": 9,
     "metadata": {},
     "output_type": "execute_result"
    }
   ],
   "source": [
    "restaurants_df_clean.head()"
   ]
  },
  {
   "cell_type": "markdown",
   "metadata": {},
   "source": [
    "* **DATA IS FROM NORTH CAROLINA**\n",
    "* Only care about restaurants ('facilitytype' in restaurants_df)\n",
    "* Use 'hsisid' ('id') to ID locations and connect to violations\n",
    "* Ignore address, name, phone number\n",
    "* Yelp rating: 1-5 stars\n",
    "* \"Violations\" with penalty = 0 are not actually violations but acknowledgements of good practice\n",
    "* Many restaurants may be at same address\n",
    "* Assuming yelp \"rating\" is the average across all reviews (treating it as a quantiative value), rounded to the nearest half\n",
    "* Severity unknown meaning"
   ]
  },
  {
   "cell_type": "code",
   "execution_count": 10,
   "metadata": {},
   "outputs": [],
   "source": [
    "violations_df_clean = violations_df.drop(labels=[\n",
    "    \"X.objectid\",\n",
    "    \"statecode\",\n",
    "    \"questionno\",\n",
    "    \"violationcode\",\n",
    "    \"inspectedby\",\n",
    "    \"cdcriskfactor\",\n",
    "    \"cdcdataitem\",\n",
    "    \"violationtype\",\n",
    "    \"observationtype\",\n",
    "    \"count\",\n",
    "    \"category\",\n",
    "    \"shortdesc\",\n",
    "    \"severity\",\n",
    "    \"critical\",\n",
    "], axis=\"columns\")\n",
    "    \n",
    "violations_df_clean.rename(columns={\n",
    "    \"hsisid\": \"id\",\n",
    "    \"pointvalue\": \"penalty\",\n",
    "    \"inspectdate\": \"inspect_date\",\n",
    "}, inplace=True)\n",
    "\n",
    "violations_df_clean[\"inspect_date\"] = violations_df_clean[\"inspect_date\"].apply(convert_time)\n",
    "violations_df_clean.drop_duplicates(inplace=True)\n",
    "violations_df_clean = violations_df_clean.reindex()"
   ]
  },
  {
   "cell_type": "code",
   "execution_count": 11,
   "metadata": {},
   "outputs": [
    {
     "data": {
      "text/html": [
       "<div>\n",
       "<style scoped>\n",
       "    .dataframe tbody tr th:only-of-type {\n",
       "        vertical-align: middle;\n",
       "    }\n",
       "\n",
       "    .dataframe tbody tr th {\n",
       "        vertical-align: top;\n",
       "    }\n",
       "\n",
       "    .dataframe thead th {\n",
       "        text-align: right;\n",
       "    }\n",
       "</style>\n",
       "<table border=\"1\" class=\"dataframe\">\n",
       "  <thead>\n",
       "    <tr style=\"text-align: right;\">\n",
       "      <th></th>\n",
       "      <th>id</th>\n",
       "      <th>inspect_date</th>\n",
       "      <th>comments</th>\n",
       "      <th>penalty</th>\n",
       "    </tr>\n",
       "  </thead>\n",
       "  <tbody>\n",
       "    <tr>\n",
       "      <th>0</th>\n",
       "      <td>4092015279</td>\n",
       "      <td>2014-09-22 00:00:00+00:00</td>\n",
       "      <td>7-102.11; Priority Foundation - Found unlabele...</td>\n",
       "      <td>0</td>\n",
       "    </tr>\n",
       "    <tr>\n",
       "      <th>1</th>\n",
       "      <td>4092014572</td>\n",
       "      <td>2014-09-29 00:00:00+00:00</td>\n",
       "      <td>7-102.11; Priority Foundation; One sanitizer b...</td>\n",
       "      <td>0</td>\n",
       "    </tr>\n",
       "    <tr>\n",
       "      <th>2</th>\n",
       "      <td>4092015906</td>\n",
       "      <td>2014-10-01 00:00:00+00:00</td>\n",
       "      <td>7-102.11; Priority Foundation - Found an unlab...</td>\n",
       "      <td>1</td>\n",
       "    </tr>\n",
       "    <tr>\n",
       "      <th>3</th>\n",
       "      <td>4092013840</td>\n",
       "      <td>2014-10-08 00:00:00+00:00</td>\n",
       "      <td>7-102.11; Priority Foundation - Found unlabele...</td>\n",
       "      <td>0</td>\n",
       "    </tr>\n",
       "    <tr>\n",
       "      <th>4</th>\n",
       "      <td>4092021788</td>\n",
       "      <td>2014-10-09 00:00:00+00:00</td>\n",
       "      <td>7-102.11; Priority Foundation - Found one unla...</td>\n",
       "      <td>0</td>\n",
       "    </tr>\n",
       "  </tbody>\n",
       "</table>\n",
       "</div>"
      ],
      "text/plain": [
       "           id              inspect_date  \\\n",
       "0  4092015279 2014-09-22 00:00:00+00:00   \n",
       "1  4092014572 2014-09-29 00:00:00+00:00   \n",
       "2  4092015906 2014-10-01 00:00:00+00:00   \n",
       "3  4092013840 2014-10-08 00:00:00+00:00   \n",
       "4  4092021788 2014-10-09 00:00:00+00:00   \n",
       "\n",
       "                                            comments  penalty  \n",
       "0  7-102.11; Priority Foundation - Found unlabele...        0  \n",
       "1  7-102.11; Priority Foundation; One sanitizer b...        0  \n",
       "2  7-102.11; Priority Foundation - Found an unlab...        1  \n",
       "3  7-102.11; Priority Foundation - Found unlabele...        0  \n",
       "4  7-102.11; Priority Foundation - Found one unla...        0  "
      ]
     },
     "execution_count": 11,
     "metadata": {},
     "output_type": "execute_result"
    }
   ],
   "source": [
    "violations_df_clean.head()"
   ]
  },
  {
   "cell_type": "code",
   "execution_count": 12,
   "metadata": {},
   "outputs": [
    {
     "data": {
      "text/plain": [
       "0    130614\n",
       "1     45019\n",
       "2      4857\n",
       "3      1020\n",
       "4         6\n",
       "Name: penalty, dtype: int64"
      ]
     },
     "execution_count": 12,
     "metadata": {},
     "output_type": "execute_result"
    }
   ],
   "source": [
    "violations_df_clean[\"penalty\"].value_counts()"
   ]
  },
  {
   "cell_type": "code",
   "execution_count": 13,
   "metadata": {},
   "outputs": [
    {
     "data": {
      "text/html": [
       "<div>\n",
       "<style scoped>\n",
       "    .dataframe tbody tr th:only-of-type {\n",
       "        vertical-align: middle;\n",
       "    }\n",
       "\n",
       "    .dataframe tbody tr th {\n",
       "        vertical-align: top;\n",
       "    }\n",
       "\n",
       "    .dataframe thead th {\n",
       "        text-align: right;\n",
       "    }\n",
       "</style>\n",
       "<table border=\"1\" class=\"dataframe\">\n",
       "  <thead>\n",
       "    <tr style=\"text-align: right;\">\n",
       "      <th></th>\n",
       "      <th>id</th>\n",
       "      <th>inspect_date</th>\n",
       "      <th>comments</th>\n",
       "      <th>penalty</th>\n",
       "    </tr>\n",
       "  </thead>\n",
       "  <tbody>\n",
       "    <tr>\n",
       "      <th>57634</th>\n",
       "      <td>4092010071</td>\n",
       "      <td>2013-03-05 00:00:00+00:00</td>\n",
       "      <td>2-301.12 (C) TO avoid recontaminating their ha...</td>\n",
       "      <td>4</td>\n",
       "    </tr>\n",
       "    <tr>\n",
       "      <th>58414</th>\n",
       "      <td>4092012304</td>\n",
       "      <td>2012-12-06 00:00:00+00:00</td>\n",
       "      <td>P - 2-301.14 - Observed worker wash his hands ...</td>\n",
       "      <td>4</td>\n",
       "    </tr>\n",
       "    <tr>\n",
       "      <th>58478</th>\n",
       "      <td>4092013716</td>\n",
       "      <td>2013-02-21 00:00:00+00:00</td>\n",
       "      <td>2-301.14  An employee was observed scrubbing a...</td>\n",
       "      <td>4</td>\n",
       "    </tr>\n",
       "    <tr>\n",
       "      <th>67549</th>\n",
       "      <td>4092013070</td>\n",
       "      <td>2013-08-19 00:00:00+00:00</td>\n",
       "      <td>2-301.14; Priority;  Employee working the gril...</td>\n",
       "      <td>4</td>\n",
       "    </tr>\n",
       "    <tr>\n",
       "      <th>69327</th>\n",
       "      <td>4092021677</td>\n",
       "      <td>2016-02-05 00:00:00+00:00</td>\n",
       "      <td>2-301.14; Priority; Employees must wash hands ...</td>\n",
       "      <td>4</td>\n",
       "    </tr>\n",
       "    <tr>\n",
       "      <th>162894</th>\n",
       "      <td>4092014362</td>\n",
       "      <td>2013-10-17 00:00:00+00:00</td>\n",
       "      <td>2-301.14; Priority; The cook handled raw chick...</td>\n",
       "      <td>4</td>\n",
       "    </tr>\n",
       "  </tbody>\n",
       "</table>\n",
       "</div>"
      ],
      "text/plain": [
       "                id              inspect_date  \\\n",
       "57634   4092010071 2013-03-05 00:00:00+00:00   \n",
       "58414   4092012304 2012-12-06 00:00:00+00:00   \n",
       "58478   4092013716 2013-02-21 00:00:00+00:00   \n",
       "67549   4092013070 2013-08-19 00:00:00+00:00   \n",
       "69327   4092021677 2016-02-05 00:00:00+00:00   \n",
       "162894  4092014362 2013-10-17 00:00:00+00:00   \n",
       "\n",
       "                                                 comments  penalty  \n",
       "57634   2-301.12 (C) TO avoid recontaminating their ha...        4  \n",
       "58414   P - 2-301.14 - Observed worker wash his hands ...        4  \n",
       "58478   2-301.14  An employee was observed scrubbing a...        4  \n",
       "67549   2-301.14; Priority;  Employee working the gril...        4  \n",
       "69327   2-301.14; Priority; Employees must wash hands ...        4  \n",
       "162894  2-301.14; Priority; The cook handled raw chick...        4  "
      ]
     },
     "execution_count": 13,
     "metadata": {},
     "output_type": "execute_result"
    }
   ],
   "source": [
    "violations_df_clean[violations_df_clean[\"penalty\"] == 4]"
   ]
  },
  {
   "cell_type": "code",
   "execution_count": 14,
   "metadata": {},
   "outputs": [],
   "source": [
    "yelp_df_clean = yelp_df.drop(labels=[\n",
    "    \"address1\",\n",
    "    \"name\",\n",
    "    \"price\",\n",
    "    \"italian\",\n",
    "    \"seafood\",\n",
    "    \"newamerican\",\n",
    "    \"chicken_wings\",\n",
    "    \"delis\",\n",
    "    \"bars\",\n",
    "    \"salad\",\n",
    "    \"seafood\",\n",
    "    \"bbq\",\n",
    "    \"bakeries\",\n",
    "    \"sushi\",\n",
    "    \"phone\",\n",
    "    \"hotdogs\",\n",
    "    \"sandwiches\",\n",
    "    \"pizza\",\n",
    "    \"tradamerican\",\n",
    "    \"burgers\",\n",
    "    \"mexican\",\n",
    "    \"grocery\",\n",
    "    \"breakfast_brunch\",\n",
    "    \"coffee\",\n",
    "    \"chinese\",\n",
    "    \"latitude\",\n",
    "    \"longitude\",\n",
    "    \"price\",\n",
    "    \"id\",\n",
    "    \"is_closed\",\n",
    "], axis=\"columns\")\n",
    "\n",
    "\n",
    "yelp_df_clean.rename(columns={\n",
    "    \"id\": \"yelp_id\",\n",
    "    \"zip_code\": 'zip'\n",
    "}, inplace=True)\n",
    "\n",
    "yelp_df_clean[\"name\"] = yelp_df[\"name\"].apply(convert_restaurant_names)\n",
    "yelp_df_clean[\"zip\"] = yelp_df_clean[\"zip\"].apply(convert_zip)\n",
    "\n",
    "yelp_df_clean = yelp_df_clean[[\"zip\", \"name\", \"rating\", \"review_count\"]]"
   ]
  },
  {
   "cell_type": "code",
   "execution_count": 15,
   "metadata": {},
   "outputs": [
    {
     "data": {
      "text/html": [
       "<div>\n",
       "<style scoped>\n",
       "    .dataframe tbody tr th:only-of-type {\n",
       "        vertical-align: middle;\n",
       "    }\n",
       "\n",
       "    .dataframe tbody tr th {\n",
       "        vertical-align: top;\n",
       "    }\n",
       "\n",
       "    .dataframe thead th {\n",
       "        text-align: right;\n",
       "    }\n",
       "</style>\n",
       "<table border=\"1\" class=\"dataframe\">\n",
       "  <thead>\n",
       "    <tr style=\"text-align: right;\">\n",
       "      <th></th>\n",
       "      <th>zip</th>\n",
       "      <th>name</th>\n",
       "      <th>rating</th>\n",
       "      <th>review_count</th>\n",
       "    </tr>\n",
       "  </thead>\n",
       "  <tbody>\n",
       "    <tr>\n",
       "      <th>0</th>\n",
       "      <td>27560</td>\n",
       "      <td>42nd street oyster bar - rdu airport</td>\n",
       "      <td>2.5</td>\n",
       "      <td>23</td>\n",
       "    </tr>\n",
       "    <tr>\n",
       "      <th>1</th>\n",
       "      <td>27519</td>\n",
       "      <td>aldi foods</td>\n",
       "      <td>4.0</td>\n",
       "      <td>17</td>\n",
       "    </tr>\n",
       "    <tr>\n",
       "      <th>2</th>\n",
       "      <td>27612</td>\n",
       "      <td>luciano pizzeria ristorante</td>\n",
       "      <td>5.0</td>\n",
       "      <td>2</td>\n",
       "    </tr>\n",
       "    <tr>\n",
       "      <th>3</th>\n",
       "      <td>27893</td>\n",
       "      <td>olive garden italian restaurant</td>\n",
       "      <td>3.0</td>\n",
       "      <td>16</td>\n",
       "    </tr>\n",
       "    <tr>\n",
       "      <th>4</th>\n",
       "      <td>27896</td>\n",
       "      <td>subway</td>\n",
       "      <td>3.5</td>\n",
       "      <td>3</td>\n",
       "    </tr>\n",
       "  </tbody>\n",
       "</table>\n",
       "</div>"
      ],
      "text/plain": [
       "     zip                                  name  rating  review_count\n",
       "0  27560  42nd street oyster bar - rdu airport     2.5            23\n",
       "1  27519                            aldi foods     4.0            17\n",
       "2  27612           luciano pizzeria ristorante     5.0             2\n",
       "3  27893       olive garden italian restaurant     3.0            16\n",
       "4  27896                                subway     3.5             3"
      ]
     },
     "execution_count": 15,
     "metadata": {},
     "output_type": "execute_result"
    }
   ],
   "source": [
    "yelp_df_clean.head()"
   ]
  },
  {
   "cell_type": "code",
   "execution_count": 16,
   "metadata": {},
   "outputs": [],
   "source": [
    "merged_df = restaurants_df_clean.merge(yelp_df_clean, how=\"left\", left_on=[\"zip\", \"name\"], right_on=[\"zip\", \"name\"])\n",
    "merged_df.dropna(axis=\"index\", how=\"any\", subset=[\"rating\"], inplace=True)\n",
    "\n",
    "merged_df = merged_df[[\"id\", \"zip\", \"open_date\", \"name\", \"rating\", \"review_count\"]]"
   ]
  },
  {
   "cell_type": "code",
   "execution_count": 17,
   "metadata": {},
   "outputs": [
    {
     "data": {
      "text/html": [
       "<div>\n",
       "<style scoped>\n",
       "    .dataframe tbody tr th:only-of-type {\n",
       "        vertical-align: middle;\n",
       "    }\n",
       "\n",
       "    .dataframe tbody tr th {\n",
       "        vertical-align: top;\n",
       "    }\n",
       "\n",
       "    .dataframe thead th {\n",
       "        text-align: right;\n",
       "    }\n",
       "</style>\n",
       "<table border=\"1\" class=\"dataframe\">\n",
       "  <thead>\n",
       "    <tr style=\"text-align: right;\">\n",
       "      <th></th>\n",
       "      <th>id</th>\n",
       "      <th>zip</th>\n",
       "      <th>open_date</th>\n",
       "      <th>name</th>\n",
       "      <th>rating</th>\n",
       "      <th>review_count</th>\n",
       "    </tr>\n",
       "  </thead>\n",
       "  <tbody>\n",
       "    <tr>\n",
       "      <th>1516</th>\n",
       "      <td>4092015626</td>\n",
       "      <td>27529</td>\n",
       "      <td>2010-04-27 00:00:00+00:00</td>\n",
       "      <td>mcdonald's</td>\n",
       "      <td>2.0</td>\n",
       "      <td>4.0</td>\n",
       "    </tr>\n",
       "    <tr>\n",
       "      <th>1517</th>\n",
       "      <td>4092015626</td>\n",
       "      <td>27529</td>\n",
       "      <td>2010-04-27 00:00:00+00:00</td>\n",
       "      <td>mcdonald's</td>\n",
       "      <td>2.5</td>\n",
       "      <td>3.0</td>\n",
       "    </tr>\n",
       "    <tr>\n",
       "      <th>1518</th>\n",
       "      <td>4092015626</td>\n",
       "      <td>27529</td>\n",
       "      <td>2010-04-27 00:00:00+00:00</td>\n",
       "      <td>mcdonald's</td>\n",
       "      <td>3.5</td>\n",
       "      <td>4.0</td>\n",
       "    </tr>\n",
       "    <tr>\n",
       "      <th>1519</th>\n",
       "      <td>4092015626</td>\n",
       "      <td>27529</td>\n",
       "      <td>2010-04-27 00:00:00+00:00</td>\n",
       "      <td>mcdonald's</td>\n",
       "      <td>2.0</td>\n",
       "      <td>2.0</td>\n",
       "    </tr>\n",
       "    <tr>\n",
       "      <th>1520</th>\n",
       "      <td>4092015626</td>\n",
       "      <td>27529</td>\n",
       "      <td>2010-04-27 00:00:00+00:00</td>\n",
       "      <td>mcdonald's</td>\n",
       "      <td>1.5</td>\n",
       "      <td>9.0</td>\n",
       "    </tr>\n",
       "  </tbody>\n",
       "</table>\n",
       "</div>"
      ],
      "text/plain": [
       "              id    zip                 open_date        name  rating  \\\n",
       "1516  4092015626  27529 2010-04-27 00:00:00+00:00  mcdonald's     2.0   \n",
       "1517  4092015626  27529 2010-04-27 00:00:00+00:00  mcdonald's     2.5   \n",
       "1518  4092015626  27529 2010-04-27 00:00:00+00:00  mcdonald's     3.5   \n",
       "1519  4092015626  27529 2010-04-27 00:00:00+00:00  mcdonald's     2.0   \n",
       "1520  4092015626  27529 2010-04-27 00:00:00+00:00  mcdonald's     1.5   \n",
       "\n",
       "      review_count  \n",
       "1516           4.0  \n",
       "1517           3.0  \n",
       "1518           4.0  \n",
       "1519           2.0  \n",
       "1520           9.0  "
      ]
     },
     "execution_count": 17,
     "metadata": {},
     "output_type": "execute_result"
    }
   ],
   "source": [
    "merged_df[merged_df[\"id\"] == \"4092015626\"]"
   ]
  },
  {
   "cell_type": "code",
   "execution_count": 18,
   "metadata": {},
   "outputs": [
    {
     "data": {
      "text/html": [
       "<div>\n",
       "<style scoped>\n",
       "    .dataframe tbody tr th:only-of-type {\n",
       "        vertical-align: middle;\n",
       "    }\n",
       "\n",
       "    .dataframe tbody tr th {\n",
       "        vertical-align: top;\n",
       "    }\n",
       "\n",
       "    .dataframe thead th {\n",
       "        text-align: right;\n",
       "    }\n",
       "</style>\n",
       "<table border=\"1\" class=\"dataframe\">\n",
       "  <thead>\n",
       "    <tr style=\"text-align: right;\">\n",
       "      <th></th>\n",
       "      <th>id</th>\n",
       "      <th>zip</th>\n",
       "      <th>open_date</th>\n",
       "      <th>name</th>\n",
       "      <th>rating</th>\n",
       "      <th>review_count</th>\n",
       "    </tr>\n",
       "  </thead>\n",
       "  <tbody>\n",
       "    <tr>\n",
       "      <th>16</th>\n",
       "      <td>4092014233</td>\n",
       "      <td>27526</td>\n",
       "      <td>2005-01-26 00:00:00+00:00</td>\n",
       "      <td>sheetz</td>\n",
       "      <td>2.0</td>\n",
       "      <td>3.0</td>\n",
       "    </tr>\n",
       "    <tr>\n",
       "      <th>17</th>\n",
       "      <td>4092014233</td>\n",
       "      <td>27526</td>\n",
       "      <td>2005-01-26 00:00:00+00:00</td>\n",
       "      <td>sheetz</td>\n",
       "      <td>4.0</td>\n",
       "      <td>1.0</td>\n",
       "    </tr>\n",
       "    <tr>\n",
       "      <th>18</th>\n",
       "      <td>4092014233</td>\n",
       "      <td>27526</td>\n",
       "      <td>2005-01-26 00:00:00+00:00</td>\n",
       "      <td>sheetz</td>\n",
       "      <td>4.5</td>\n",
       "      <td>8.0</td>\n",
       "    </tr>\n",
       "    <tr>\n",
       "      <th>19</th>\n",
       "      <td>4092014269</td>\n",
       "      <td>27526</td>\n",
       "      <td>2005-02-10 00:00:00+00:00</td>\n",
       "      <td>subway</td>\n",
       "      <td>3.0</td>\n",
       "      <td>1.0</td>\n",
       "    </tr>\n",
       "    <tr>\n",
       "      <th>32</th>\n",
       "      <td>4092016069</td>\n",
       "      <td>27502</td>\n",
       "      <td>2011-12-15 00:00:00+00:00</td>\n",
       "      <td>subway</td>\n",
       "      <td>4.0</td>\n",
       "      <td>2.0</td>\n",
       "    </tr>\n",
       "    <tr>\n",
       "      <th>...</th>\n",
       "      <td>...</td>\n",
       "      <td>...</td>\n",
       "      <td>...</td>\n",
       "      <td>...</td>\n",
       "      <td>...</td>\n",
       "      <td>...</td>\n",
       "    </tr>\n",
       "    <tr>\n",
       "      <th>2428</th>\n",
       "      <td>4092015870</td>\n",
       "      <td>27616</td>\n",
       "      <td>2011-01-20 00:00:00+00:00</td>\n",
       "      <td>mcdonald's</td>\n",
       "      <td>3.0</td>\n",
       "      <td>1.0</td>\n",
       "    </tr>\n",
       "    <tr>\n",
       "      <th>2435</th>\n",
       "      <td>4092016557</td>\n",
       "      <td>27587</td>\n",
       "      <td>2013-10-31 00:00:00+00:00</td>\n",
       "      <td>burger king</td>\n",
       "      <td>3.0</td>\n",
       "      <td>3.0</td>\n",
       "    </tr>\n",
       "    <tr>\n",
       "      <th>2437</th>\n",
       "      <td>4092017274</td>\n",
       "      <td>27587</td>\n",
       "      <td>2016-06-24 00:00:00+00:00</td>\n",
       "      <td>harris teeter</td>\n",
       "      <td>3.0</td>\n",
       "      <td>10.0</td>\n",
       "    </tr>\n",
       "    <tr>\n",
       "      <th>2438</th>\n",
       "      <td>4092017274</td>\n",
       "      <td>27587</td>\n",
       "      <td>2016-06-24 00:00:00+00:00</td>\n",
       "      <td>harris teeter</td>\n",
       "      <td>3.5</td>\n",
       "      <td>9.0</td>\n",
       "    </tr>\n",
       "    <tr>\n",
       "      <th>2439</th>\n",
       "      <td>4092017274</td>\n",
       "      <td>27587</td>\n",
       "      <td>2016-06-24 00:00:00+00:00</td>\n",
       "      <td>harris teeter</td>\n",
       "      <td>3.5</td>\n",
       "      <td>7.0</td>\n",
       "    </tr>\n",
       "  </tbody>\n",
       "</table>\n",
       "<p>419 rows × 6 columns</p>\n",
       "</div>"
      ],
      "text/plain": [
       "              id    zip                 open_date           name  rating  \\\n",
       "16    4092014233  27526 2005-01-26 00:00:00+00:00         sheetz     2.0   \n",
       "17    4092014233  27526 2005-01-26 00:00:00+00:00         sheetz     4.0   \n",
       "18    4092014233  27526 2005-01-26 00:00:00+00:00         sheetz     4.5   \n",
       "19    4092014269  27526 2005-02-10 00:00:00+00:00         subway     3.0   \n",
       "32    4092016069  27502 2011-12-15 00:00:00+00:00         subway     4.0   \n",
       "...          ...    ...                       ...            ...     ...   \n",
       "2428  4092015870  27616 2011-01-20 00:00:00+00:00     mcdonald's     3.0   \n",
       "2435  4092016557  27587 2013-10-31 00:00:00+00:00    burger king     3.0   \n",
       "2437  4092017274  27587 2016-06-24 00:00:00+00:00  harris teeter     3.0   \n",
       "2438  4092017274  27587 2016-06-24 00:00:00+00:00  harris teeter     3.5   \n",
       "2439  4092017274  27587 2016-06-24 00:00:00+00:00  harris teeter     3.5   \n",
       "\n",
       "      review_count  \n",
       "16             3.0  \n",
       "17             1.0  \n",
       "18             8.0  \n",
       "19             1.0  \n",
       "32             2.0  \n",
       "...            ...  \n",
       "2428           1.0  \n",
       "2435           3.0  \n",
       "2437          10.0  \n",
       "2438           9.0  \n",
       "2439           7.0  \n",
       "\n",
       "[419 rows x 6 columns]"
      ]
     },
     "execution_count": 18,
     "metadata": {},
     "output_type": "execute_result"
    }
   ],
   "source": [
    "duplicates = merged_df[merged_df.duplicated(subset=[\"name\", \"zip\"], keep=False)]\n",
    "duplicates"
   ]
  },
  {
   "cell_type": "code",
   "execution_count": 19,
   "metadata": {},
   "outputs": [],
   "source": [
    "# Conflicting Yelp data with no known resolution\n",
    "final_restaurant_df = merged_df.drop_duplicates(subset=\"id\")"
   ]
  },
  {
   "cell_type": "code",
   "execution_count": 20,
   "metadata": {},
   "outputs": [],
   "source": [
    "penalty_count = violations_df_clean.groupby([\"id\"]).count()[\"penalty\"]\n",
    "\n",
    "final_restaurant_df = final_restaurant_df.merge(penalty_count, on=\"id\")\n",
    "\n",
    "\n",
    "final_restaurant_df.rename(columns={\n",
    "    \"penalty\": \"penalty_count\",\n",
    "}, inplace=True)"
   ]
  },
  {
   "cell_type": "code",
   "execution_count": 21,
   "metadata": {},
   "outputs": [],
   "source": [
    "final_restaurant_df.drop(labels=[\n",
    "    \"zip\",\n",
    "    \"name\",\n",
    "], axis=\"columns\", inplace=True)"
   ]
  },
  {
   "cell_type": "code",
   "execution_count": 22,
   "metadata": {},
   "outputs": [
    {
     "data": {
      "text/html": [
       "<div>\n",
       "<style scoped>\n",
       "    .dataframe tbody tr th:only-of-type {\n",
       "        vertical-align: middle;\n",
       "    }\n",
       "\n",
       "    .dataframe tbody tr th {\n",
       "        vertical-align: top;\n",
       "    }\n",
       "\n",
       "    .dataframe thead th {\n",
       "        text-align: right;\n",
       "    }\n",
       "</style>\n",
       "<table border=\"1\" class=\"dataframe\">\n",
       "  <thead>\n",
       "    <tr style=\"text-align: right;\">\n",
       "      <th></th>\n",
       "      <th>id</th>\n",
       "      <th>open_date</th>\n",
       "      <th>rating</th>\n",
       "      <th>review_count</th>\n",
       "      <th>penalty_count</th>\n",
       "    </tr>\n",
       "  </thead>\n",
       "  <tbody>\n",
       "    <tr>\n",
       "      <th>0</th>\n",
       "      <td>4092017230</td>\n",
       "      <td>2016-05-26 00:00:00+00:00</td>\n",
       "      <td>3.5</td>\n",
       "      <td>35.0</td>\n",
       "      <td>24</td>\n",
       "    </tr>\n",
       "    <tr>\n",
       "      <th>1</th>\n",
       "      <td>4092014444</td>\n",
       "      <td>2005-12-05 00:00:00+00:00</td>\n",
       "      <td>3.0</td>\n",
       "      <td>8.0</td>\n",
       "      <td>57</td>\n",
       "    </tr>\n",
       "    <tr>\n",
       "      <th>2</th>\n",
       "      <td>4092015333</td>\n",
       "      <td>2009-02-04 00:00:00+00:00</td>\n",
       "      <td>4.0</td>\n",
       "      <td>347.0</td>\n",
       "      <td>80</td>\n",
       "    </tr>\n",
       "    <tr>\n",
       "      <th>3</th>\n",
       "      <td>4092016679</td>\n",
       "      <td>2014-04-23 00:00:00+00:00</td>\n",
       "      <td>4.0</td>\n",
       "      <td>150.0</td>\n",
       "      <td>14</td>\n",
       "    </tr>\n",
       "    <tr>\n",
       "      <th>4</th>\n",
       "      <td>4092014493</td>\n",
       "      <td>2006-01-31 00:00:00+00:00</td>\n",
       "      <td>3.5</td>\n",
       "      <td>20.0</td>\n",
       "      <td>44</td>\n",
       "    </tr>\n",
       "  </tbody>\n",
       "</table>\n",
       "</div>"
      ],
      "text/plain": [
       "           id                 open_date  rating  review_count  penalty_count\n",
       "0  4092017230 2016-05-26 00:00:00+00:00     3.5          35.0             24\n",
       "1  4092014444 2005-12-05 00:00:00+00:00     3.0           8.0             57\n",
       "2  4092015333 2009-02-04 00:00:00+00:00     4.0         347.0             80\n",
       "3  4092016679 2014-04-23 00:00:00+00:00     4.0         150.0             14\n",
       "4  4092014493 2006-01-31 00:00:00+00:00     3.5          20.0             44"
      ]
     },
     "execution_count": 22,
     "metadata": {},
     "output_type": "execute_result"
    }
   ],
   "source": [
    "final_restaurant_df.head()"
   ]
  },
  {
   "cell_type": "code",
   "execution_count": 23,
   "metadata": {},
   "outputs": [
    {
     "data": {
      "text/html": [
       "<div>\n",
       "<style scoped>\n",
       "    .dataframe tbody tr th:only-of-type {\n",
       "        vertical-align: middle;\n",
       "    }\n",
       "\n",
       "    .dataframe tbody tr th {\n",
       "        vertical-align: top;\n",
       "    }\n",
       "\n",
       "    .dataframe thead th {\n",
       "        text-align: right;\n",
       "    }\n",
       "</style>\n",
       "<table border=\"1\" class=\"dataframe\">\n",
       "  <thead>\n",
       "    <tr style=\"text-align: right;\">\n",
       "      <th></th>\n",
       "      <th>id</th>\n",
       "      <th>inspect_date</th>\n",
       "      <th>comments</th>\n",
       "      <th>penalty</th>\n",
       "    </tr>\n",
       "  </thead>\n",
       "  <tbody>\n",
       "    <tr>\n",
       "      <th>0</th>\n",
       "      <td>4092015279</td>\n",
       "      <td>2014-09-22 00:00:00+00:00</td>\n",
       "      <td>7-102.11; Priority Foundation - Found unlabele...</td>\n",
       "      <td>0</td>\n",
       "    </tr>\n",
       "    <tr>\n",
       "      <th>1</th>\n",
       "      <td>4092014572</td>\n",
       "      <td>2014-09-29 00:00:00+00:00</td>\n",
       "      <td>7-102.11; Priority Foundation; One sanitizer b...</td>\n",
       "      <td>0</td>\n",
       "    </tr>\n",
       "    <tr>\n",
       "      <th>2</th>\n",
       "      <td>4092015906</td>\n",
       "      <td>2014-10-01 00:00:00+00:00</td>\n",
       "      <td>7-102.11; Priority Foundation - Found an unlab...</td>\n",
       "      <td>1</td>\n",
       "    </tr>\n",
       "    <tr>\n",
       "      <th>3</th>\n",
       "      <td>4092013840</td>\n",
       "      <td>2014-10-08 00:00:00+00:00</td>\n",
       "      <td>7-102.11; Priority Foundation - Found unlabele...</td>\n",
       "      <td>0</td>\n",
       "    </tr>\n",
       "    <tr>\n",
       "      <th>4</th>\n",
       "      <td>4092021788</td>\n",
       "      <td>2014-10-09 00:00:00+00:00</td>\n",
       "      <td>7-102.11; Priority Foundation - Found one unla...</td>\n",
       "      <td>0</td>\n",
       "    </tr>\n",
       "  </tbody>\n",
       "</table>\n",
       "</div>"
      ],
      "text/plain": [
       "           id              inspect_date  \\\n",
       "0  4092015279 2014-09-22 00:00:00+00:00   \n",
       "1  4092014572 2014-09-29 00:00:00+00:00   \n",
       "2  4092015906 2014-10-01 00:00:00+00:00   \n",
       "3  4092013840 2014-10-08 00:00:00+00:00   \n",
       "4  4092021788 2014-10-09 00:00:00+00:00   \n",
       "\n",
       "                                            comments  penalty  \n",
       "0  7-102.11; Priority Foundation - Found unlabele...        0  \n",
       "1  7-102.11; Priority Foundation; One sanitizer b...        0  \n",
       "2  7-102.11; Priority Foundation - Found an unlab...        1  \n",
       "3  7-102.11; Priority Foundation - Found unlabele...        0  \n",
       "4  7-102.11; Priority Foundation - Found one unla...        0  "
      ]
     },
     "execution_count": 23,
     "metadata": {},
     "output_type": "execute_result"
    }
   ],
   "source": [
    "violations_df_clean.head()"
   ]
  },
  {
   "cell_type": "code",
   "execution_count": 138,
   "metadata": {},
   "outputs": [],
   "source": [
    "violation_full_df = violations_df_clean.merge(final_restaurant_df, how=\"right\", on=\"id\")\n",
    "\n",
    "# Remove entries without any comments\n",
    "violation_full_df.dropna(how=\"any\", subset=[\"comments\", \"rating\", \"review_count\"], inplace=True)"
   ]
  },
  {
   "cell_type": "code",
   "execution_count": 139,
   "metadata": {},
   "outputs": [
    {
     "data": {
      "text/html": [
       "<div>\n",
       "<style scoped>\n",
       "    .dataframe tbody tr th:only-of-type {\n",
       "        vertical-align: middle;\n",
       "    }\n",
       "\n",
       "    .dataframe tbody tr th {\n",
       "        vertical-align: top;\n",
       "    }\n",
       "\n",
       "    .dataframe thead th {\n",
       "        text-align: right;\n",
       "    }\n",
       "</style>\n",
       "<table border=\"1\" class=\"dataframe\">\n",
       "  <thead>\n",
       "    <tr style=\"text-align: right;\">\n",
       "      <th></th>\n",
       "      <th>id</th>\n",
       "      <th>inspect_date</th>\n",
       "      <th>comments</th>\n",
       "      <th>penalty</th>\n",
       "      <th>open_date</th>\n",
       "      <th>rating</th>\n",
       "      <th>review_count</th>\n",
       "      <th>penalty_count</th>\n",
       "    </tr>\n",
       "  </thead>\n",
       "  <tbody>\n",
       "    <tr>\n",
       "      <th>0</th>\n",
       "      <td>4092010287</td>\n",
       "      <td>2015-07-20 00:00:00+00:00</td>\n",
       "      <td>7-102.11; Priority Foundation - Found unlabele...</td>\n",
       "      <td>0</td>\n",
       "      <td>1991-03-18 00:00:00+00:00</td>\n",
       "      <td>4.5</td>\n",
       "      <td>193.0</td>\n",
       "      <td>54</td>\n",
       "    </tr>\n",
       "    <tr>\n",
       "      <th>1</th>\n",
       "      <td>4092010287</td>\n",
       "      <td>2013-09-09 00:00:00+00:00</td>\n",
       "      <td>3-603.11; Priority Foundation;Establishment fo...</td>\n",
       "      <td>0</td>\n",
       "      <td>1991-03-18 00:00:00+00:00</td>\n",
       "      <td>4.5</td>\n",
       "      <td>193.0</td>\n",
       "      <td>54</td>\n",
       "    </tr>\n",
       "    <tr>\n",
       "      <th>2</th>\n",
       "      <td>4092010287</td>\n",
       "      <td>2013-02-26 00:00:00+00:00</td>\n",
       "      <td>3-603.11- Establishment found to offer meat, s...</td>\n",
       "      <td>0</td>\n",
       "      <td>1991-03-18 00:00:00+00:00</td>\n",
       "      <td>4.5</td>\n",
       "      <td>193.0</td>\n",
       "      <td>54</td>\n",
       "    </tr>\n",
       "    <tr>\n",
       "      <th>3</th>\n",
       "      <td>4092010287</td>\n",
       "      <td>2013-02-26 00:00:00+00:00</td>\n",
       "      <td>2-103.11(M)- Establishment found to lack an em...</td>\n",
       "      <td>0</td>\n",
       "      <td>1991-03-18 00:00:00+00:00</td>\n",
       "      <td>4.5</td>\n",
       "      <td>193.0</td>\n",
       "      <td>54</td>\n",
       "    </tr>\n",
       "    <tr>\n",
       "      <th>4</th>\n",
       "      <td>4092010287</td>\n",
       "      <td>2015-07-20 00:00:00+00:00</td>\n",
       "      <td>3-302.12; Core - Found some unlabeled bottles/...</td>\n",
       "      <td>0</td>\n",
       "      <td>1991-03-18 00:00:00+00:00</td>\n",
       "      <td>4.5</td>\n",
       "      <td>193.0</td>\n",
       "      <td>54</td>\n",
       "    </tr>\n",
       "  </tbody>\n",
       "</table>\n",
       "</div>"
      ],
      "text/plain": [
       "           id              inspect_date  \\\n",
       "0  4092010287 2015-07-20 00:00:00+00:00   \n",
       "1  4092010287 2013-09-09 00:00:00+00:00   \n",
       "2  4092010287 2013-02-26 00:00:00+00:00   \n",
       "3  4092010287 2013-02-26 00:00:00+00:00   \n",
       "4  4092010287 2015-07-20 00:00:00+00:00   \n",
       "\n",
       "                                            comments  penalty  \\\n",
       "0  7-102.11; Priority Foundation - Found unlabele...        0   \n",
       "1  3-603.11; Priority Foundation;Establishment fo...        0   \n",
       "2  3-603.11- Establishment found to offer meat, s...        0   \n",
       "3  2-103.11(M)- Establishment found to lack an em...        0   \n",
       "4  3-302.12; Core - Found some unlabeled bottles/...        0   \n",
       "\n",
       "                  open_date  rating  review_count  penalty_count  \n",
       "0 1991-03-18 00:00:00+00:00     4.5         193.0             54  \n",
       "1 1991-03-18 00:00:00+00:00     4.5         193.0             54  \n",
       "2 1991-03-18 00:00:00+00:00     4.5         193.0             54  \n",
       "3 1991-03-18 00:00:00+00:00     4.5         193.0             54  \n",
       "4 1991-03-18 00:00:00+00:00     4.5         193.0             54  "
      ]
     },
     "execution_count": 139,
     "metadata": {},
     "output_type": "execute_result"
    }
   ],
   "source": []
  },
  {
   "cell_type": "code",
   "execution_count": 25,
   "metadata": {},
   "outputs": [
    {
     "data": {
      "image/png": "[encoded data removed]",
      "text/plain": [
       "<Figure size 432x288 with 1 Axes>"
      ]
     },
     "metadata": {
      "needs_background": "light"
     },
     "output_type": "display_data"
    }
   ],
   "source": [
    "penalty_plot = sns.countplot(x=\"penalty\", data=violations_df_clean, color=\"black\")\n",
    "penalty_plot.set_xlabel(\"Violation Penalty\")\n",
    "penalty_plot.set_ylabel(\"Violation Count\")\n",
    "penalty_plot.set_title(\"Violation Penalty vs Violation Count\")\n",
    "penalty_plot.set_xticks([0, 1, 2, 3 ,4], minor=False);"
   ]
  },
  {
   "cell_type": "code",
   "execution_count": 26,
   "metadata": {},
   "outputs": [
    {
     "data": {
      "text/plain": [
       "Text(0.5, 1.0, 'Violation Penalty')"
      ]
     },
     "execution_count": 26,
     "metadata": {},
     "output_type": "execute_result"
    },
    {
     "data": {
      "image/png": "[encoded data removed]",
      "text/plain": [
       "<Figure size 432x288 with 1 Axes>"
      ]
     },
     "metadata": {
      "needs_background": "light"
     },
     "output_type": "display_data"
    }
   ],
   "source": [
    "penalty_df = violations_df_clean[violations_df_clean[\"penalty\"] >= 1]\n",
    "penalty_plot = sns.countplot(x=\"penalty\", data=penalty_df, color=\"black\")\n",
    "penalty_plot.set_xlabel(\"Violation Penalty\")\n",
    "penalty_plot.set_ylabel(\"Count\")\n",
    "penalty_plot.set_title(\"Violation Penalty\")"
   ]
  },
  {
   "cell_type": "code",
   "execution_count": 27,
   "metadata": {},
   "outputs": [
    {
     "data": {
      "image/png": "[encoded data removed]",
      "text/plain": [
       "<Figure size 432x288 with 1 Axes>"
      ]
     },
     "metadata": {
      "needs_background": "light"
     },
     "output_type": "display_data"
    }
   ],
   "source": [
    "yelp_review_plot = sns.countplot(final_restaurant_df[\"rating\"], color=\"black\")\n",
    "yelp_review_plot.set_xlabel(\"Rating\")\n",
    "yelp_review_plot.set_ylabel(\"Number of Restaurants\")\n",
    "yelp_review_plot.set_title(\"Rating\")\n",
    "\n",
    "yelp_review_plot;"
   ]
  },
  {
   "cell_type": "code",
   "execution_count": 28,
   "metadata": {},
   "outputs": [
    {
     "data": {
      "image/png": "[encoded data removed]",
      "text/plain": [
       "<Figure size 360x360 with 1 Axes>"
      ]
     },
     "metadata": {
      "needs_background": "light"
     },
     "output_type": "display_data"
    }
   ],
   "source": [
    "rating_review_count_plot = sns.catplot(x=\"rating\", y=\"review_count\", data=final_restaurant_df, linewidth=0)\n",
    "#rating_review_count_plot.set_xlabel(\"Average Rating\")\n",
    "#rating_review_count_plot.set_ylabel(\"Number of Reviews\");\n",
    "#rating_review_count_plot.set_title(\"Average Rating\");"
   ]
  },
  {
   "cell_type": "code",
   "execution_count": 29,
   "metadata": {},
   "outputs": [
    {
     "data": {
      "image/png": "[encoded data removed]",
      "text/plain": [
       "<Figure size 360x360 with 1 Axes>"
      ]
     },
     "metadata": {
      "needs_background": "light"
     },
     "output_type": "display_data"
    }
   ],
   "source": [
    "rating_review_count_plot = sns.catplot(x=\"rating\", y=\"penalty_count\", data=final_restaurant_df, linewidth=0, alpha=0.4)\n",
    "#rating_review_count_plot.set_xlabel(\"Average Rating\")\n",
    "#rating_review_count_plot.set_ylabel(\"Number of Reviews\");\n",
    "#rating_review_count_plot.set_title(\"Average Rating\");"
   ]
  },
  {
   "cell_type": "code",
   "execution_count": 30,
   "metadata": {},
   "outputs": [
    {
     "data": {
      "image/png": "[encoded data removed]",
      "text/plain": [
       "<Figure size 432x288 with 1 Axes>"
      ]
     },
     "metadata": {
      "needs_background": "light"
     },
     "output_type": "display_data"
    }
   ],
   "source": [
    "review_count_rating_plot = sns.scatterplot(x=\"review_count\", y=\"penalty_count\", data=final_restaurant_df, linewidth=0, alpha=0.3)\n",
    "review_count_rating_plot.set_ylabel(\"Penalty Count\");\n",
    "review_count_rating_plot.set_xlabel(\"Review Count\")\n",
    "review_count_rating_plot.set_title(\"Review Count vs Penalty Count\");"
   ]
  },
  {
   "cell_type": "code",
   "execution_count": 31,
   "metadata": {},
   "outputs": [
    {
     "data": {
      "image/png": "[encoded data removed]",
      "text/plain": [
       "<Figure size 360x360 with 1 Axes>"
      ]
     },
     "metadata": {
      "needs_background": "light"
     },
     "output_type": "display_data"
    }
   ],
   "source": [
    "rating_penalty_plot = sns.catplot(x=\"rating\", y=\"penalty\", data=violation_full_df)"
   ]
  },
  {
   "cell_type": "code",
   "execution_count": 32,
   "metadata": {},
   "outputs": [
    {
     "name": "stdout",
     "output_type": "stream",
     "text": [
      "Average comment lenght: 250.0957674399094\n"
     ]
    },
    {
     "data": {
      "image/png": "[encoded data removed]",
      "text/plain": [
       "<Figure size 432x288 with 1 Axes>"
      ]
     },
     "metadata": {
      "needs_background": "light"
     },
     "output_type": "display_data"
    }
   ],
   "source": [
    "comment_length_plot = sns.distplot(violation_full_df[\"comments\"].apply(lambda c: len(c)), kde=False)\n",
    "comment_length_plot.set_xlabel(\"Comment Length\")\n",
    "\n",
    "print(\"Average comment lenght: {}\".format(violation_full_df[\"comments\"].apply(lambda c: len(c)).agg(\"mean\")))"
   ]
  },
  {
   "cell_type": "code",
   "execution_count": 33,
   "metadata": {},
   "outputs": [
    {
     "data": {
      "text/plain": [
       "Text(0, 0.5, 'Comment Length')"
      ]
     },
     "execution_count": 33,
     "metadata": {},
     "output_type": "execute_result"
    },
    {
     "data": {
      "image/png": "[encoded data removed]",
      "text/plain": [
       "<Figure size 432x288 with 1 Axes>"
      ]
     },
     "metadata": {
      "needs_background": "light"
     },
     "output_type": "display_data"
    }
   ],
   "source": [
    "penalty_comment_length_plot = sns.boxplot(x=violation_full_df[\"penalty\"], y=violation_full_df[\"comments\"].apply(lambda c: len(c)))\n",
    "penalty_comment_length_plot.set_xlabel(\"Penalty\")\n",
    "penalty_comment_length_plot.set_ylabel(\"Comment Length\")"
   ]
  },
  {
   "cell_type": "markdown",
   "metadata": {},
   "source": [
    "# Model Generation"
   ]
  },
  {
   "cell_type": "code",
   "execution_count": 142,
   "metadata": {},
   "outputs": [
    {
     "data": {
      "text/html": [
       "<div>\n",
       "<style scoped>\n",
       "    .dataframe tbody tr th:only-of-type {\n",
       "        vertical-align: middle;\n",
       "    }\n",
       "\n",
       "    .dataframe tbody tr th {\n",
       "        vertical-align: top;\n",
       "    }\n",
       "\n",
       "    .dataframe thead th {\n",
       "        text-align: right;\n",
       "    }\n",
       "</style>\n",
       "<table border=\"1\" class=\"dataframe\">\n",
       "  <thead>\n",
       "    <tr style=\"text-align: right;\">\n",
       "      <th></th>\n",
       "      <th>id</th>\n",
       "      <th>inspect_date</th>\n",
       "      <th>comments</th>\n",
       "      <th>penalty</th>\n",
       "      <th>open_date</th>\n",
       "      <th>rating</th>\n",
       "      <th>review_count</th>\n",
       "      <th>penalty_count</th>\n",
       "    </tr>\n",
       "  </thead>\n",
       "  <tbody>\n",
       "    <tr>\n",
       "      <th>0</th>\n",
       "      <td>4092016084</td>\n",
       "      <td>2013-07-09 00:00:00+00:00</td>\n",
       "      <td>4-903.11(A)&amp;(B) Cross stack the dishes to allo...</td>\n",
       "      <td>1</td>\n",
       "      <td>2012-01-12 00:00:00+00:00</td>\n",
       "      <td>3.0</td>\n",
       "      <td>5.0</td>\n",
       "      <td>68</td>\n",
       "    </tr>\n",
       "    <tr>\n",
       "      <th>1</th>\n",
       "      <td>4092015424</td>\n",
       "      <td>2013-02-14 00:00:00+00:00</td>\n",
       "      <td>4-501.12 Cuttingboard on refrigerator with dar...</td>\n",
       "      <td>0</td>\n",
       "      <td>2009-06-24 00:00:00+00:00</td>\n",
       "      <td>3.0</td>\n",
       "      <td>92.0</td>\n",
       "      <td>60</td>\n",
       "    </tr>\n",
       "    <tr>\n",
       "      <th>2</th>\n",
       "      <td>4092016253</td>\n",
       "      <td>2015-03-16 00:00:00+00:00</td>\n",
       "      <td>3-301.11; Priority; Do NOT Touch Cheese Slices...</td>\n",
       "      <td>0</td>\n",
       "      <td>2012-09-25 00:00:00+00:00</td>\n",
       "      <td>3.0</td>\n",
       "      <td>79.0</td>\n",
       "      <td>87</td>\n",
       "    </tr>\n",
       "    <tr>\n",
       "      <th>3</th>\n",
       "      <td>4092017217</td>\n",
       "      <td>2016-05-19 00:00:00+00:00</td>\n",
       "      <td>3-304.14; Core; Store all wet wiping cloths in...</td>\n",
       "      <td>0</td>\n",
       "      <td>2016-04-28 00:00:00+00:00</td>\n",
       "      <td>4.0</td>\n",
       "      <td>36.0</td>\n",
       "      <td>22</td>\n",
       "    </tr>\n",
       "    <tr>\n",
       "      <th>4</th>\n",
       "      <td>4092016039</td>\n",
       "      <td>2016-03-30 00:00:00+00:00</td>\n",
       "      <td>7-203.11 ; Priority; Sanitizer was stored in a...</td>\n",
       "      <td>0</td>\n",
       "      <td>2011-11-02 00:00:00+00:00</td>\n",
       "      <td>3.0</td>\n",
       "      <td>12.0</td>\n",
       "      <td>48</td>\n",
       "    </tr>\n",
       "  </tbody>\n",
       "</table>\n",
       "</div>"
      ],
      "text/plain": [
       "           id              inspect_date  \\\n",
       "0  4092016084 2013-07-09 00:00:00+00:00   \n",
       "1  4092015424 2013-02-14 00:00:00+00:00   \n",
       "2  4092016253 2015-03-16 00:00:00+00:00   \n",
       "3  4092017217 2016-05-19 00:00:00+00:00   \n",
       "4  4092016039 2016-03-30 00:00:00+00:00   \n",
       "\n",
       "                                            comments  penalty  \\\n",
       "0  4-903.11(A)&(B) Cross stack the dishes to allo...        1   \n",
       "1  4-501.12 Cuttingboard on refrigerator with dar...        0   \n",
       "2  3-301.11; Priority; Do NOT Touch Cheese Slices...        0   \n",
       "3  3-304.14; Core; Store all wet wiping cloths in...        0   \n",
       "4  7-203.11 ; Priority; Sanitizer was stored in a...        0   \n",
       "\n",
       "                  open_date  rating  review_count  penalty_count  \n",
       "0 2012-01-12 00:00:00+00:00     3.0           5.0             68  \n",
       "1 2009-06-24 00:00:00+00:00     3.0          92.0             60  \n",
       "2 2012-09-25 00:00:00+00:00     3.0          79.0             87  \n",
       "3 2016-04-28 00:00:00+00:00     4.0          36.0             22  \n",
       "4 2011-11-02 00:00:00+00:00     3.0          12.0             48  "
      ]
     },
     "execution_count": 142,
     "metadata": {},
     "output_type": "execute_result"
    }
   ],
   "source": [
    "# Randomize input data\n",
    "violation_full_df = violation_full_df.sample(frac=1, random_state=200).reset_index(drop=True)\n",
    "violation_full_df.head()"
   ]
  },
  {
   "cell_type": "code",
   "execution_count": 35,
   "metadata": {},
   "outputs": [],
   "source": [
    "# Create vectorizer & specify parameters\n",
    "tfidf = TfidfVectorizer(sublinear_tf=True, #apply sublinear TF scaling\n",
    "                        analyzer='word',   #specify tokenizer\n",
    "                        max_features=250, # specify max # of features to include\n",
    "                        tokenizer=word_tokenize)\n",
    "\n",
    "# Learn vocabulary and idf, return term-document matrix.\n",
    "# return an array;our predictor\n",
    "tfidf_X = tfidf.fit_transform(violation_full_df['comments']).toarray()"
   ]
  },
  {
   "cell_type": "code",
   "execution_count": 36,
   "metadata": {},
   "outputs": [],
   "source": [
    "tfidf_Y = np.array(violation_full_df['penalty'])"
   ]
  },
  {
   "cell_type": "code",
   "execution_count": 37,
   "metadata": {},
   "outputs": [],
   "source": [
    "#tfidf.get_feature_names()"
   ]
  },
  {
   "cell_type": "code",
   "execution_count": 141,
   "metadata": {},
   "outputs": [
    {
     "name": "stdout",
     "output_type": "stream",
     "text": [
      "TOTAL: 14303\n",
      "num_training: 11442\n",
      "num_test: 2860\n"
     ]
    }
   ],
   "source": [
    "# performance_scale is used to take a subset of the data in order to train the models in a reasonable time\n",
    "performance_scale = 0.3\n",
    "num_total = int(violation_full_df.shape[0] * performance_scale)\n",
    "num_training = int(0.8 * num_total)\n",
    "num_test = int(0.2 * num_total)\n",
    "\n",
    "print(\"TOTAL: {}\\nnum_training: {}\\nnum_test: {}\".format(num_total, num_training, num_test))"
   ]
  },
  {
   "cell_type": "markdown",
   "metadata": {},
   "source": [
    "# Classification Based on Comment Content"
   ]
  },
  {
   "cell_type": "code",
   "execution_count": 90,
   "metadata": {},
   "outputs": [],
   "source": [
    "def train_SVM(X, Y, kernel='linear', class_weight=None):\n",
    "    model = SVC(kernel=kernel, class_weight=class_weight)\n",
    "    model.fit(X, Y)\n",
    "    return model"
   ]
  },
  {
   "cell_type": "code",
   "execution_count": 91,
   "metadata": {},
   "outputs": [],
   "source": [
    "tfidf_train_x = tfidf_X[0:num_training]\n",
    "tfidf_test_x = tfidf_X[num_training:num_training+num_test]\n",
    "tfidf_validate_x = tfidf_X[num_training+num_test:num_training+num_test+num_validate]\n",
    "\n",
    "tfidf_train_y = tfidf_Y[0:num_training]\n",
    "tfidf_test_y = tfidf_Y[num_training:num_training+num_test]\n",
    "tfidf_validate_y = tfidf_Y[num_training+num_test:num_training+num_test+num_validate]"
   ]
  },
  {
   "cell_type": "code",
   "execution_count": 93,
   "metadata": {},
   "outputs": [],
   "source": [
    "svm_model_pure_tfidf = train_SVM(tfidf_train_x, tfidf_train_y, kernel='rbf')"
   ]
  },
  {
   "cell_type": "code",
   "execution_count": 94,
   "metadata": {},
   "outputs": [],
   "source": [
    "df_predicted_tfidf_train_y = svm_model_pure_tfidf.predict(tfidf_train_x)"
   ]
  },
  {
   "cell_type": "code",
   "execution_count": 95,
   "metadata": {},
   "outputs": [
    {
     "name": "stdout",
     "output_type": "stream",
     "text": [
      "              precision    recall  f1-score   support\n",
      "\n",
      "           0       0.90      0.97      0.93      8214\n",
      "           1       0.88      0.71      0.79      2851\n",
      "           2       0.91      0.65      0.76       303\n",
      "           3       1.00      0.59      0.74        73\n",
      "           4       0.00      0.00      0.00         1\n",
      "\n",
      "    accuracy                           0.90     11442\n",
      "   macro avg       0.74      0.59      0.64     11442\n",
      "weighted avg       0.89      0.90      0.89     11442\n",
      "\n"
     ]
    }
   ],
   "source": [
    "print(classification_report(tfidf_train_y, df_predicted_tfidf_train_y, zero_division=0))"
   ]
  },
  {
   "cell_type": "code",
   "execution_count": 98,
   "metadata": {},
   "outputs": [],
   "source": [
    "df_predicted_tfidf_test_y = svm_model_pure_tfidf.predict(tfidf_test_x)"
   ]
  },
  {
   "cell_type": "code",
   "execution_count": 99,
   "metadata": {},
   "outputs": [
    {
     "name": "stdout",
     "output_type": "stream",
     "text": [
      "              precision    recall  f1-score   support\n",
      "\n",
      "           0       0.83      0.93      0.87      2047\n",
      "           1       0.69      0.50      0.58       727\n",
      "           2       0.80      0.49      0.61        75\n",
      "           3       0.00      0.00      0.00        11\n",
      "\n",
      "    accuracy                           0.80      2860\n",
      "   macro avg       0.58      0.48      0.52      2860\n",
      "weighted avg       0.79      0.80      0.79      2860\n",
      "\n"
     ]
    }
   ],
   "source": [
    "print(classification_report(tfidf_test_y, df_predicted_tfidf_test_y, zero_division=0))"
   ]
  },
  {
   "cell_type": "markdown",
   "metadata": {},
   "source": [
    "# Classification Based on Yelp Rating"
   ]
  },
  {
   "cell_type": "code",
   "execution_count": 100,
   "metadata": {},
   "outputs": [],
   "source": [
    "# Normalize rating\n",
    "min_max_scaler = MinMaxScaler()\n",
    "rating_X = np.array(violation_full_df[\"rating\"]).reshape(-1, 1)\n",
    "rating_X = min_max_scaler.fit_transform(rating_X)"
   ]
  },
  {
   "cell_type": "code",
   "execution_count": 101,
   "metadata": {},
   "outputs": [],
   "source": [
    "rating_Y = np.array(violation_full_df['penalty'])"
   ]
  },
  {
   "cell_type": "code",
   "execution_count": 102,
   "metadata": {},
   "outputs": [],
   "source": [
    "rating_train_x = rating_X[0:num_training]\n",
    "rating_test_x = rating_X[num_training:num_training+num_test]\n",
    "rating_validate_x = rating_X[num_training+num_test:num_training+num_test+num_validate]\n",
    "\n",
    "rating_train_y = rating_Y[0:num_training]\n",
    "rating_test_y = rating_Y[num_training:num_training+num_test]\n",
    "rating_validate_y = rating_Y[num_training+num_test:num_training+num_test+num_validate]"
   ]
  },
  {
   "cell_type": "code",
   "execution_count": 103,
   "metadata": {},
   "outputs": [],
   "source": [
    "svm_model_pure_rating = train_SVM(rating_train_x, rating_train_y,kernel='rbf')"
   ]
  },
  {
   "cell_type": "code",
   "execution_count": 104,
   "metadata": {},
   "outputs": [],
   "source": [
    "df_predicted_raiting_train_y = svm_model_pure_rating.predict(rating_train_x)"
   ]
  },
  {
   "cell_type": "code",
   "execution_count": 105,
   "metadata": {},
   "outputs": [
    {
     "name": "stdout",
     "output_type": "stream",
     "text": [
      "              precision    recall  f1-score   support\n",
      "\n",
      "           0       0.72      1.00      0.84      8214\n",
      "           1       0.00      0.00      0.00      2851\n",
      "           2       0.00      0.00      0.00       303\n",
      "           3       0.00      0.00      0.00        73\n",
      "           4       0.00      0.00      0.00         1\n",
      "\n",
      "    accuracy                           0.72     11442\n",
      "   macro avg       0.14      0.20      0.17     11442\n",
      "weighted avg       0.52      0.72      0.60     11442\n",
      "\n"
     ]
    }
   ],
   "source": [
    "print(classification_report(rating_train_y, df_predicted_raiting_train_y, zero_division=0))"
   ]
  },
  {
   "cell_type": "code",
   "execution_count": 106,
   "metadata": {},
   "outputs": [],
   "source": [
    "df_predicted_raiting_test_y = svm_model_pure_rating.predict(rating_test_x)"
   ]
  },
  {
   "cell_type": "code",
   "execution_count": 107,
   "metadata": {},
   "outputs": [
    {
     "name": "stdout",
     "output_type": "stream",
     "text": [
      "              precision    recall  f1-score   support\n",
      "\n",
      "           0       0.72      1.00      0.83      2047\n",
      "           1       0.00      0.00      0.00       727\n",
      "           2       0.00      0.00      0.00        75\n",
      "           3       0.00      0.00      0.00        11\n",
      "\n",
      "    accuracy                           0.72      2860\n",
      "   macro avg       0.18      0.25      0.21      2860\n",
      "weighted avg       0.51      0.72      0.60      2860\n",
      "\n"
     ]
    }
   ],
   "source": [
    "print(classification_report(rating_test_y, df_predicted_raiting_test_y, zero_division=0))"
   ]
  },
  {
   "cell_type": "markdown",
   "metadata": {},
   "source": [
    "# Classification Based on Comment Length"
   ]
  },
  {
   "cell_type": "code",
   "execution_count": 108,
   "metadata": {},
   "outputs": [],
   "source": [
    "min_max_scaler = MinMaxScaler()\n",
    "length_X = np.array(violation_full_df[\"comments\"].apply(lambda c: len(c))).reshape(-1, 1)\n",
    "length_X = min_max_scaler.fit_transform(length_X)"
   ]
  },
  {
   "cell_type": "code",
   "execution_count": 109,
   "metadata": {},
   "outputs": [],
   "source": [
    "length_Y = np.array(violation_full_df['penalty'])"
   ]
  },
  {
   "cell_type": "code",
   "execution_count": 110,
   "metadata": {},
   "outputs": [],
   "source": [
    "length_train_x = length_X[0:num_training]\n",
    "length_test_x = length_X[num_training:num_training+num_test]\n",
    "length_validate_x = length_X[num_training+num_test:num_training+num_test+num_validate]\n",
    "\n",
    "length_train_y = length_Y[0:num_training]\n",
    "length_test_y = length_Y[num_training:num_training+num_test]\n",
    "length_validate_y = length_Y[num_training+num_test:num_training+num_test+num_validate]"
   ]
  },
  {
   "cell_type": "code",
   "execution_count": 111,
   "metadata": {},
   "outputs": [],
   "source": [
    "svm_model_pure_length = train_SVM(length_train_x, length_train_y,kernel='rbf')"
   ]
  },
  {
   "cell_type": "code",
   "execution_count": 112,
   "metadata": {},
   "outputs": [],
   "source": [
    "df_predicted_length_train_y = svm_model_pure_length.predict(length_train_x)"
   ]
  },
  {
   "cell_type": "code",
   "execution_count": 113,
   "metadata": {},
   "outputs": [
    {
     "name": "stdout",
     "output_type": "stream",
     "text": [
      "              precision    recall  f1-score   support\n",
      "\n",
      "           0       0.72      1.00      0.84      8214\n",
      "           1       0.00      0.00      0.00      2851\n",
      "           2       0.00      0.00      0.00       303\n",
      "           3       0.00      0.00      0.00        73\n",
      "           4       0.00      0.00      0.00         1\n",
      "\n",
      "    accuracy                           0.72     11442\n",
      "   macro avg       0.14      0.20      0.17     11442\n",
      "weighted avg       0.52      0.72      0.60     11442\n",
      "\n"
     ]
    }
   ],
   "source": [
    "print(classification_report(length_train_y, df_predicted_length_train_y, zero_division=0))"
   ]
  },
  {
   "cell_type": "code",
   "execution_count": 114,
   "metadata": {},
   "outputs": [],
   "source": [
    "df_predicted_length_test_y = svm_model_pure_length.predict(length_test_x)"
   ]
  },
  {
   "cell_type": "code",
   "execution_count": 115,
   "metadata": {},
   "outputs": [
    {
     "name": "stdout",
     "output_type": "stream",
     "text": [
      "              precision    recall  f1-score   support\n",
      "\n",
      "           0       0.72      1.00      0.83      2047\n",
      "           1       0.00      0.00      0.00       727\n",
      "           2       0.00      0.00      0.00        75\n",
      "           3       0.00      0.00      0.00        11\n",
      "\n",
      "    accuracy                           0.72      2860\n",
      "   macro avg       0.18      0.25      0.21      2860\n",
      "weighted avg       0.51      0.72      0.60      2860\n",
      "\n"
     ]
    }
   ],
   "source": [
    "print(classification_report(length_test_y, df_predicted_length_test_y, zero_division=0))"
   ]
  },
  {
   "cell_type": "markdown",
   "metadata": {},
   "source": [
    "# Classification Based on Yelp Rating and Comment Content"
   ]
  },
  {
   "cell_type": "code",
   "execution_count": 116,
   "metadata": {},
   "outputs": [],
   "source": [
    "comment_rating_X = np.concatenate((tfidf_X, rating_X), axis=1)"
   ]
  },
  {
   "cell_type": "code",
   "execution_count": 117,
   "metadata": {},
   "outputs": [],
   "source": [
    "comment_rating_Y = np.array(violation_full_df['penalty'])"
   ]
  },
  {
   "cell_type": "code",
   "execution_count": 118,
   "metadata": {},
   "outputs": [],
   "source": [
    "comment_rating_train_x = comment_rating_X[0:num_training]\n",
    "comment_rating_test_x = comment_rating_X[num_training:num_training+num_test]\n",
    "comment_rating_validate_x = comment_rating_X[num_training+num_test:num_training+num_test+num_validate]\n",
    "\n",
    "comment_rating_train_y = comment_rating_Y[0:num_training]\n",
    "comment_rating_test_y = comment_rating_Y[num_training:num_training+num_test]\n",
    "comment_rating_validate_y = comment_rating_Y[num_training+num_test:num_training+num_test+num_validate]"
   ]
  },
  {
   "cell_type": "code",
   "execution_count": 124,
   "metadata": {},
   "outputs": [],
   "source": [
    "svm_model_comment_rating = train_SVM(comment_rating_train_x, comment_rating_train_y, kernel='rbf', class_weight={\n",
    "    3: 2.0\n",
    "})"
   ]
  },
  {
   "cell_type": "code",
   "execution_count": 125,
   "metadata": {},
   "outputs": [],
   "source": [
    "df_predicted_comment_rating_train_y = svm_model_comment_rating.predict(comment_rating_train_x)"
   ]
  },
  {
   "cell_type": "code",
   "execution_count": 126,
   "metadata": {},
   "outputs": [
    {
     "name": "stdout",
     "output_type": "stream",
     "text": [
      "              precision    recall  f1-score   support\n",
      "\n",
      "           0       0.88      0.96      0.92      8214\n",
      "           1       0.84      0.64      0.73      2851\n",
      "           2       0.90      0.62      0.74       303\n",
      "           3       1.00      0.14      0.24        73\n",
      "           4       0.00      0.00      0.00         1\n",
      "\n",
      "    accuracy                           0.87     11442\n",
      "   macro avg       0.72      0.47      0.52     11442\n",
      "weighted avg       0.87      0.87      0.86     11442\n",
      "\n"
     ]
    }
   ],
   "source": [
    "print(classification_report(comment_rating_train_y, df_predicted_comment_rating_train_y, zero_division=0))"
   ]
  },
  {
   "cell_type": "code",
   "execution_count": 127,
   "metadata": {},
   "outputs": [],
   "source": [
    "df_predicted_comment_rating_test_y = svm_model_comment_rating.predict(comment_rating_test_x)"
   ]
  },
  {
   "cell_type": "code",
   "execution_count": 128,
   "metadata": {},
   "outputs": [
    {
     "name": "stdout",
     "output_type": "stream",
     "text": [
      "              precision    recall  f1-score   support\n",
      "\n",
      "           0       0.82      0.93      0.87      2047\n",
      "           1       0.70      0.48      0.57       727\n",
      "           2       0.83      0.45      0.59        75\n",
      "           3       0.00      0.00      0.00        11\n",
      "\n",
      "    accuracy                           0.80      2860\n",
      "   macro avg       0.59      0.47      0.51      2860\n",
      "weighted avg       0.79      0.80      0.78      2860\n",
      "\n"
     ]
    }
   ],
   "source": [
    "print(classification_report(comment_rating_test_y, df_predicted_comment_rating_test_y, zero_division=0))"
   ]
  },
  {
   "cell_type": "markdown",
   "metadata": {},
   "source": [
    "# Classification Based on Comment Length and Comment Content"
   ]
  },
  {
   "cell_type": "code",
   "execution_count": 129,
   "metadata": {},
   "outputs": [],
   "source": [
    "length_content_X = np.concatenate((tfidf_X, length_X), axis=1)"
   ]
  },
  {
   "cell_type": "code",
   "execution_count": 130,
   "metadata": {},
   "outputs": [],
   "source": [
    "length_content_Y = np.array(violation_full_df['penalty'])"
   ]
  },
  {
   "cell_type": "code",
   "execution_count": 131,
   "metadata": {},
   "outputs": [],
   "source": [
    "length_content_training_x = length_content_X[0:num_training]\n",
    "length_content_test_x = length_content_X[num_training:num_training+num_test]\n",
    "length_content_validate_x = length_content_X[num_training+num_test:num_training+num_test+num_validate]\n",
    "\n",
    "length_content_training_y = length_content_Y[0:num_training]\n",
    "length_content_test_y = length_content_Y[num_training:num_training+num_test]\n",
    "length_content_validate_y = length_content_Y[num_training+num_test:num_training+num_test+num_validate]"
   ]
  },
  {
   "cell_type": "code",
   "execution_count": 132,
   "metadata": {},
   "outputs": [],
   "source": [
    "svm_model_length_content = train_SVM(length_content_training_x, length_content_training_y, kernel='rbf',class_weight={\n",
    "    3: 2.0\n",
    "})"
   ]
  },
  {
   "cell_type": "code",
   "execution_count": 133,
   "metadata": {},
   "outputs": [],
   "source": [
    "df_predicted_length_content_train_y = svm_model_length_content.predict(length_content_training_x)"
   ]
  },
  {
   "cell_type": "code",
   "execution_count": 134,
   "metadata": {},
   "outputs": [
    {
     "name": "stdout",
     "output_type": "stream",
     "text": [
      "              precision    recall  f1-score   support\n",
      "\n",
      "           0       0.90      0.97      0.93      8214\n",
      "           1       0.88      0.71      0.78      2851\n",
      "           2       0.91      0.65      0.76       303\n",
      "           3       1.00      0.59      0.74        73\n",
      "           4       0.00      0.00      0.00         1\n",
      "\n",
      "    accuracy                           0.89     11442\n",
      "   macro avg       0.74      0.58      0.64     11442\n",
      "weighted avg       0.89      0.89      0.89     11442\n",
      "\n"
     ]
    }
   ],
   "source": [
    "print(classification_report(length_content_training_y, df_predicted_length_content_train_y, zero_division=0))"
   ]
  },
  {
   "cell_type": "code",
   "execution_count": 135,
   "metadata": {},
   "outputs": [],
   "source": [
    "df_predicted_length_content_test_y = svm_model_length_content.predict(length_content_test_x)"
   ]
  },
  {
   "cell_type": "code",
   "execution_count": 136,
   "metadata": {},
   "outputs": [
    {
     "name": "stdout",
     "output_type": "stream",
     "text": [
      "              precision    recall  f1-score   support\n",
      "\n",
      "           0       0.83      0.92      0.87      2047\n",
      "           1       0.69      0.51      0.59       727\n",
      "           2       0.81      0.47      0.59        75\n",
      "           3       0.00      0.00      0.00        11\n",
      "\n",
      "    accuracy                           0.80      2860\n",
      "   macro avg       0.58      0.48      0.51      2860\n",
      "weighted avg       0.79      0.80      0.79      2860\n",
      "\n"
     ]
    }
   ],
   "source": [
    "print(classification_report(length_content_test_y, df_predicted_length_content_test_y, zero_division=0))"
   ]
  },
  {
   "cell_type": "code",
   "execution_count": null,
   "metadata": {},
   "outputs": [],
   "source": []
  }
 ],
 "metadata": {
  "kernelspec": {
   "display_name": "Python 3",
   "language": "python",
   "name": "python3"
  },
  "language_info": {
   "codemirror_mode": {
    "name": "ipython",
    "version": 3
   },
   "file_extension": ".py",
   "mimetype": "text/x-python",
   "name": "python",
   "nbconvert_exporter": "python",
   "pygments_lexer": "ipython3",
   "version": "3.6.9"
  }
 },
 "nbformat": 4,
 "nbformat_minor": 4
}
