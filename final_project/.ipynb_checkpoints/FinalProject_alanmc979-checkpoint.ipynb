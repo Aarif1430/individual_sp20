{
 "cells": [
  {
   "cell_type": "markdown",
   "metadata": {},
   "source": [
    "# COGS 108 - Final Project "
   ]
  },
  {
   "cell_type": "markdown",
   "metadata": {},
   "source": [
    "# Overview"
   ]
  },
  {
   "cell_type": "markdown",
   "metadata": {},
   "source": [
    "This project analyzed data from restaurants or any place that needs to have food inspections in the state of NC(North Carolina). The project specifically looked into the food health inspections data set from NC, income distribution through zip codes in NC, and restaurant's yelp reviews in NC, through years 2012-2016 approximately. The main goal is to find any correlations and patterns in the data set that can be insightful for the health inspection process in North Carolina as well as to find information that could help the community prevent food poisoning."
   ]
  },
  {
   "cell_type": "markdown",
   "metadata": {},
   "source": [
    "# Name & GitHub\n",
    "\n",
    "- Name: Alan Madrigal\n",
    "- GitHub Username: alanmc979"
   ]
  },
  {
   "cell_type": "markdown",
   "metadata": {},
   "source": [
    "# Research Question"
   ]
  },
  {
   "cell_type": "markdown",
   "metadata": {},
   "source": [
    "Are the average food inspection scores (in areas sorted by zip codes in North Carolina) related to the demographic distribution of house income of North Carolina, as well as related to the demographic distribution of Yelp ratings (in areas sorted by zip codes in North Carolina)?\n",
    "Will it be reliable to use Yelp's ratings to go to the safest restaurants (the restaurants with the highest health inspection score and less total critical violations) in North Carolina?"
   ]
  },
  {
   "cell_type": "markdown",
   "metadata": {},
   "source": [
    "## Background and Prior Work"
   ]
  },
  {
   "cell_type": "markdown",
   "metadata": {},
   "source": [
    "\n",
    "First Reference: I found a similar work to what I am looking for in the city of Chicago. They showed how they predict food inspection violations which are similar to what I want to accomplish for the state of North Carolina. Their method found out that they were able to improve the inspection process by finding faster the places that had food policy violations. By finding violations faster they help reduce food poisoning cases in that area. \n",
    "\n",
    "Second Reference: In the second reference, I found how the city of San Diego makes inspects restaurants which are similar to how North Carolina operates too. \n",
    "- 1. Each violation of the Food Inspection Report is assigned a point value depending on its importance. For example, a Major Risk Factor is worth four points, a Minor Risk Factor is worth two, and a Good Retail Practice is worth one.\n",
    "- 2. Once the Specialist completes an inspection, the points are added up and subtracted from 100. The resulting number is the inspection \"score\".\n",
    "- 3. A letter grade is assigned to the facility based on the inspection score. An \"A\" grade means the facility earned a score of 90 to 100 percent and is in satisfactory compliance with state law; a \"B\" means the facility earned a score of 80 to 89 percent and needs improvement; a \"C\" means the facility earned a score of 79 percent or less and is a failing grade.\n",
    "- 4. The grade card must be displayed near the public entrance during hours of operation. This information allows me to understand how data can be used. This information about the scoring of every place can be helpful for the prediction algorithm. \n",
    "\n",
    "Third Reference: \n",
    "    The food-borne illness affects an estimated 48 million Americans each year, resulting in 3,000 deaths and the hospitalization of 128,000 people, according to the Centers for Disease Control and Prevention (CDC). Beyond that, food-borne illness in the U.S. is enormously costly, with an estimated collective annual bill of $55 billion in medical treatment, lost productivity, and lost wages, not to mention litigation expenses. This article makes an emphasis on the impact of food poisoning and how important it is to prevent it. It also takes into consideration how inspection biases can hurt the inspection process. Hence we found that answering this data science question can help prevent food poisoning and improve the inspection process in San Diego. But we should focus on having accurate data from the inspectors without biases.\n",
    "    \n",
    "Fourth Reference:\n",
    "    I found the data used for this project. It also explains the metadata and how food inspections are done in North Carolina. With this reference, I was able to get more information on how to interact with the dataset.\n",
    "Fifth Reference: \n",
    "    This is a challenge done by Yelp in 2015. A lot of people have tried to use Yelp to see if they can predict health inspections and food poisoning with Yelp data. They have tried linear regression models for this.\n",
    "Sixth Reference:\n",
    "    In North Carolina family income below 48,678 is considered low income. \n",
    "Background General:\n",
    "    In general, the food inspection process is very similar in most states. Food poisoning is a big issue in the US and being able to find insightful data about the inspection process and how it can affect the community is a big win for everyone.\n",
    "\n",
    "References (include links):\n",
    "- 1) https://chicago.github.io/food-inspections-evaluation/\n",
    "- 2)https://www.sandiegocounty.gov/content/sdc/deh/fhd/ffis/intro.html.html\n",
    "- 3)https://hbr.org/2019/05/to-improve-food-inspections-change-the-way-theyre-scheduled\n",
    "- 4)http://data-wake.opendata.arcgis.com/datasets/food-inspections\n",
    "- 5)https://blog.yelp.com/2015/06/data-science-challenge-predict-restaurant-health-scores-with-yelp-data\n",
    "-6)http://www.nccp.org/profiles/NC_profile_6.html#:~:text=Research%20suggests%20that%2C%20on%20average,referred%20to%20as%20low%20income."
   ]
  },
  {
   "cell_type": "markdown",
   "metadata": {},
   "source": [
    "# Hypothesis\n"
   ]
  },
  {
   "cell_type": "markdown",
   "metadata": {},
   "source": [
    "I believe that Yelp's ratings are a reliable source for selecting the restaurants that have better health inspection scores. If a restaurant has a high rating score in Yelp that should mean that the food they serve is of great quality. I also believe that there must be a correlation between family income in an area and the quality of the food (health inspection score) in the area as well. I believe that low-income families could live in areas where the quality of food is not well inspected since they can't afford expensive meals and they might only have restaurants with low-quality food near their neighborhood."
   ]
  },
  {
   "cell_type": "markdown",
   "metadata": {},
   "source": [
    "# Dataset(s)"
   ]
  },
  {
   "cell_type": "markdown",
   "metadata": {},
   "source": [
    "\n",
    "# Inspections\n",
    "- Dataset Name: inspections.csv\n",
    "- Link to the dataset:'./data/inspections.csv'\n",
    "- Number of observations:18466\n",
    "- This dataset give us the following information important form multiple cities in North Carolina:'hsisid', 'date','name', 'address1', 'address2', 'city', 'state','postalcode', 'phonenumber', 'restaurantopendate','days_from_open_date', 'facilitytype', 'x', 'y', 'geocodestatus', 'zip','type', 'description', 'inspectedby', 'inspection_num', 'inspector_id','previous_inspection_date', 'days_since_previous_inspection','previous_inspection_by_same_inspector', 'score', 'num_critical','num_non_critical', 'num_critical_previous','num_non_critical_previous', 'num_critical_mean_previous','num_non_critical_mean_previous', 'avg_neighbor_num_critical','avg_neighbor_num_non_critical', 'top_match', 'second_match','critical'\n",
    "\n",
    "- From this data set I only need the hsisid, date both for sorting and getting medians zipcode for groupying and the score.\n",
    "\n",
    "# Yelp\n",
    "- Dataset Name: yelp.csv\n",
    "- Link to the dataset:'./data/yelp.csv'\n",
    "- Number of observations:3688\n",
    "- This dataset give us the following information important form multiple cities in North Carolina:'id', 'name', 'is_closed', 'rating', 'review_count', 'address1','zip_code', 'latitude', 'longitude', 'price', 'phone', 'hotdogs','sandwiches', 'pizza', 'tradamerican', 'burgers', 'mexican', 'grocery','breakfast_brunch', 'coffee', 'chinese', 'italian', 'newamerican', 'chicken_wings', 'delis', 'bars', 'salad', 'seafood', 'bbq', 'bakeries','sushi',\n",
    "\n",
    "- From this data set I only need the zipcode information and the ratings \n",
    "\n",
    "# Zip Codes\n",
    "- Dataset Name: zipcodes.csv\n",
    "- Link to the dataset:'./data/zipcodes.csv'\n",
    "- Number of observations:38\n",
    "- This dataset give us the following information:'zip', 'median_family_income_dollars', 'median_household_income_dollars', 'per_capita_income_dollars', 'percent_damilies_below_poverty_line', 'percent_snap_benefits','percent_supplemental_security_income', 'percent_nonwhite'\n",
    "\n",
    "- From this data set I only need the zipcode information and the median family income dollars to merge it with the other datasets \n",
    "\n",
    "\n",
    "- For these datasets I plan to first sort inspections by hsisid  and get the mean of each inspection score\n",
    "- Then inner merge with yelp on the zipcode. \n",
    "- After this I would also inner merge the datafram with zipcodes on zip. \n",
    "- My plan is to have everything sorted by zipcodes and get the mean of the scores and ratings for each zipcode. \n",
    "\n",
    "# Final Dataset after merge\n",
    "- My final dataset should only have: 'zip', 'score', 'num_critical', 'rating','median_family_income_dollars', 'per_capita_income_dollars','percent_damilies_below_poverty_line'. Where rating and score will be the mean of each restaurant in the same zipcode."
   ]
  },
  {
   "cell_type": "markdown",
   "metadata": {},
   "source": [
    "# Setup"
   ]
  },
  {
   "cell_type": "code",
   "execution_count": 1,
   "metadata": {},
   "outputs": [],
   "source": [
    "import pandas as pd\n",
    "import matplotlib.pyplot as plt\n",
    "import itertools\n",
    "import collections\n",
    "import numpy as np\n",
    "from scipy import stats\n",
    "import statsmodels.api as sm\n",
    "from statsmodels.formula.api import ols\n",
    "import seaborn as sns, numpy as np\n",
    "import patsy\n",
    "pd.set_option('display.max_columns', None)"
   ]
  },
  {
   "cell_type": "code",
   "execution_count": 2,
   "metadata": {},
   "outputs": [],
   "source": [
    "#Data Set\n",
    "df_insp = pd.read_csv('./data/inspections.csv')\n",
    "df_yelp = pd.read_csv('./data/yelp.csv')\n",
    "df_zip = pd.read_csv('./data/zipcodes.csv')"
   ]
  },
  {
   "cell_type": "markdown",
   "metadata": {},
   "source": [
    "# Data Cleaning"
   ]
  },
  {
   "cell_type": "markdown",
   "metadata": {},
   "source": [
    "Describe your data cleaning steps here."
   ]
  },
  {
   "cell_type": "markdown",
   "metadata": {},
   "source": [
    "# Lets clean inspection data frame"
   ]
  },
  {
   "cell_type": "code",
   "execution_count": 3,
   "metadata": {},
   "outputs": [
    {
     "data": {
      "text/plain": [
       "3045"
      ]
     },
     "execution_count": 3,
     "metadata": {},
     "output_type": "execute_result"
    }
   ],
   "source": [
    "#Find the number of restaurants in inspection data set\n",
    "len(df_insp.hsisid.unique())"
   ]
  },
  {
   "cell_type": "code",
   "execution_count": 4,
   "metadata": {},
   "outputs": [],
   "source": [
    "#We have multiple inspections for one restaurant\n",
    "#Lets clean the data frame by removing unecessary columns such as phone\n",
    "df_insp = df_insp.filter(['hsisid', 'date','postalcode','score','num_critical_previous', 'num_non_critical_previous', 'num_non_critical','num_critical'], axis=1)"
   ]
  },
  {
   "cell_type": "code",
   "execution_count": 5,
   "metadata": {},
   "outputs": [],
   "source": [
    "#Lets make a function to standarized the zip code with 5 digits to have more specific data\n",
    "#This doesnt follow privacy issues since this is not specific to a user or a person\n",
    "def standardize_zipcode(string):\n",
    "    string = str(string)\n",
    "    #Get only first five digits\n",
    "    return int(string[:5])"
   ]
  },
  {
   "cell_type": "code",
   "execution_count": 6,
   "metadata": {},
   "outputs": [],
   "source": [
    "df_insp['postalcode'] = df_insp['postalcode'].apply(standardize_zipcode)"
   ]
  },
  {
   "cell_type": "code",
   "execution_count": 7,
   "metadata": {},
   "outputs": [],
   "source": [
    "#Clean Date and sort it by data\n",
    "#Lets sort by date \n",
    "df_insp[\"date\"] = pd.to_datetime(df_insp[\"date\"])\n",
    "df_insp = df_insp.sort_values(by=\"date\",ascending=True)"
   ]
  },
  {
   "cell_type": "code",
   "execution_count": 8,
   "metadata": {},
   "outputs": [
    {
     "data": {
      "text/plain": [
       "(18466, 8)"
      ]
     },
     "execution_count": 8,
     "metadata": {},
     "output_type": "execute_result"
    }
   ],
   "source": [
    "df_insp.shape\n",
    "#We have a lot of observations from the same hsisid \"Same restaurants\""
   ]
  },
  {
   "cell_type": "code",
   "execution_count": 9,
   "metadata": {},
   "outputs": [],
   "source": [
    "#Based on the above we have multiple inspections for the same restaurant through a period of time since they open.\n",
    "#Lets store the mean of scores and num_critical violations only since those are the ones we care the most\n",
    "df_insp = df_insp.rename(columns = {'postalcode':'zip'})\n",
    "df_insp = df_insp.groupby(['zip'])['score', 'num_critical'].mean().reset_index() "
   ]
  },
  {
   "cell_type": "code",
   "execution_count": 10,
   "metadata": {},
   "outputs": [
    {
     "data": {
      "text/plain": [
       "(51, 3)"
      ]
     },
     "execution_count": 10,
     "metadata": {},
     "output_type": "execute_result"
    }
   ],
   "source": [
    "df_insp.shape\n",
    "#Looks great! 51 observation related to each zipcode"
   ]
  },
  {
   "cell_type": "markdown",
   "metadata": {},
   "source": [
    "# Yelp data frame cleaning!"
   ]
  },
  {
   "cell_type": "code",
   "execution_count": 11,
   "metadata": {},
   "outputs": [],
   "source": [
    "#Lets rename to zip and apply our functions to standarize the zip code\n",
    "df_yelp = df_yelp.rename(columns={'zip_code':'zip'})\n",
    "df_yelp['zip'] = df_yelp['zip'].apply(standardize_zipcode)\n",
    "df_yelp = df_yelp.groupby(['zip'])['rating'].mean().reset_index() \n"
   ]
  },
  {
   "cell_type": "code",
   "execution_count": 12,
   "metadata": {},
   "outputs": [],
   "source": [
    "#Lets merge now :D \n",
    "df = pd.merge(df_insp,df_yelp, on=\"zip\", how=\"inner\")"
   ]
  },
  {
   "cell_type": "code",
   "execution_count": 13,
   "metadata": {},
   "outputs": [
    {
     "data": {
      "text/plain": [
       "(45, 4)"
      ]
     },
     "execution_count": 13,
     "metadata": {},
     "output_type": "execute_result"
    }
   ],
   "source": [
    "df.shape\n",
    "#Some info was lost but at least no NAN values"
   ]
  },
  {
   "cell_type": "markdown",
   "metadata": {},
   "source": [
    "# Zip code data frame cleaning time!"
   ]
  },
  {
   "cell_type": "code",
   "execution_count": 14,
   "metadata": {},
   "outputs": [],
   "source": [
    "#Lets store only what we want for our last data frame to find some useful patterns in our data\n",
    "df_zip['zip'] = df_zip['zip'].apply(standardize_zipcode)\n",
    "df_zip = df_zip.filter(['zip','median_family_income_dollars','per_capita_income_dollars',\n",
    "                'percent_damilies_below_poverty_line'])"
   ]
  },
  {
   "cell_type": "code",
   "execution_count": 15,
   "metadata": {},
   "outputs": [
    {
     "data": {
      "text/plain": [
       "(38, 4)"
      ]
     },
     "execution_count": 15,
     "metadata": {},
     "output_type": "execute_result"
    }
   ],
   "source": [
    "df_zip.shape\n",
    "#Looks great"
   ]
  },
  {
   "cell_type": "markdown",
   "metadata": {},
   "source": [
    "# Final Merge of DF!"
   ]
  },
  {
   "cell_type": "code",
   "execution_count": 16,
   "metadata": {},
   "outputs": [],
   "source": [
    "df = pd.merge(df, df_zip, on='zip', how='inner')"
   ]
  },
  {
   "cell_type": "code",
   "execution_count": 17,
   "metadata": {},
   "outputs": [
    {
     "data": {
      "text/plain": [
       "zip                                    0\n",
       "score                                  0\n",
       "num_critical                           0\n",
       "rating                                 0\n",
       "median_family_income_dollars           0\n",
       "per_capita_income_dollars              0\n",
       "percent_damilies_below_poverty_line    0\n",
       "dtype: int64"
      ]
     },
     "execution_count": 17,
     "metadata": {},
     "output_type": "execute_result"
    }
   ],
   "source": [
    "#Check for nan values in data frame\n",
    "df.isnull().sum()"
   ]
  },
  {
   "cell_type": "code",
   "execution_count": 18,
   "metadata": {},
   "outputs": [
    {
     "data": {
      "text/plain": [
       "(37, 7)"
      ]
     },
     "execution_count": 18,
     "metadata": {},
     "output_type": "execute_result"
    }
   ],
   "source": [
    "df.shape\n",
    "#37 observations"
   ]
  },
  {
   "cell_type": "code",
   "execution_count": 19,
   "metadata": {},
   "outputs": [
    {
     "data": {
      "text/html": [
       "<div>\n",
       "<style scoped>\n",
       "    .dataframe tbody tr th:only-of-type {\n",
       "        vertical-align: middle;\n",
       "    }\n",
       "\n",
       "    .dataframe tbody tr th {\n",
       "        vertical-align: top;\n",
       "    }\n",
       "\n",
       "    .dataframe thead th {\n",
       "        text-align: right;\n",
       "    }\n",
       "</style>\n",
       "<table border=\"1\" class=\"dataframe\">\n",
       "  <thead>\n",
       "    <tr style=\"text-align: right;\">\n",
       "      <th></th>\n",
       "      <th>zip</th>\n",
       "      <th>score</th>\n",
       "      <th>num_critical</th>\n",
       "      <th>rating</th>\n",
       "      <th>median_family_income_dollars</th>\n",
       "      <th>per_capita_income_dollars</th>\n",
       "      <th>percent_damilies_below_poverty_line</th>\n",
       "    </tr>\n",
       "  </thead>\n",
       "  <tbody>\n",
       "    <tr>\n",
       "      <th>0</th>\n",
       "      <td>27501</td>\n",
       "      <td>94.750000</td>\n",
       "      <td>6.000000</td>\n",
       "      <td>4.055556</td>\n",
       "      <td>59408</td>\n",
       "      <td>21631</td>\n",
       "      <td>10.5</td>\n",
       "    </tr>\n",
       "    <tr>\n",
       "      <th>1</th>\n",
       "      <td>27502</td>\n",
       "      <td>96.367223</td>\n",
       "      <td>2.972686</td>\n",
       "      <td>3.610526</td>\n",
       "      <td>109891</td>\n",
       "      <td>36763</td>\n",
       "      <td>3.4</td>\n",
       "    </tr>\n",
       "    <tr>\n",
       "      <th>2</th>\n",
       "      <td>27511</td>\n",
       "      <td>96.418969</td>\n",
       "      <td>2.910381</td>\n",
       "      <td>3.631841</td>\n",
       "      <td>82292</td>\n",
       "      <td>33139</td>\n",
       "      <td>9.6</td>\n",
       "    </tr>\n",
       "    <tr>\n",
       "      <th>3</th>\n",
       "      <td>27513</td>\n",
       "      <td>95.655130</td>\n",
       "      <td>4.368356</td>\n",
       "      <td>3.707006</td>\n",
       "      <td>109736</td>\n",
       "      <td>41232</td>\n",
       "      <td>3.8</td>\n",
       "    </tr>\n",
       "    <tr>\n",
       "      <th>4</th>\n",
       "      <td>27518</td>\n",
       "      <td>97.225291</td>\n",
       "      <td>1.924419</td>\n",
       "      <td>3.561856</td>\n",
       "      <td>125432</td>\n",
       "      <td>49865</td>\n",
       "      <td>5.5</td>\n",
       "    </tr>\n",
       "    <tr>\n",
       "      <th>5</th>\n",
       "      <td>27519</td>\n",
       "      <td>96.831412</td>\n",
       "      <td>2.772334</td>\n",
       "      <td>3.610294</td>\n",
       "      <td>137193</td>\n",
       "      <td>45778</td>\n",
       "      <td>3.2</td>\n",
       "    </tr>\n",
       "    <tr>\n",
       "      <th>6</th>\n",
       "      <td>27520</td>\n",
       "      <td>97.711538</td>\n",
       "      <td>1.230769</td>\n",
       "      <td>3.346154</td>\n",
       "      <td>67939</td>\n",
       "      <td>25628</td>\n",
       "      <td>5.0</td>\n",
       "    </tr>\n",
       "    <tr>\n",
       "      <th>7</th>\n",
       "      <td>27522</td>\n",
       "      <td>98.250000</td>\n",
       "      <td>0.500000</td>\n",
       "      <td>3.000000</td>\n",
       "      <td>66250</td>\n",
       "      <td>25513</td>\n",
       "      <td>6.0</td>\n",
       "    </tr>\n",
       "    <tr>\n",
       "      <th>8</th>\n",
       "      <td>27523</td>\n",
       "      <td>96.554795</td>\n",
       "      <td>2.753425</td>\n",
       "      <td>3.547619</td>\n",
       "      <td>89184</td>\n",
       "      <td>36976</td>\n",
       "      <td>3.1</td>\n",
       "    </tr>\n",
       "    <tr>\n",
       "      <th>9</th>\n",
       "      <td>27526</td>\n",
       "      <td>94.940922</td>\n",
       "      <td>4.299712</td>\n",
       "      <td>3.596154</td>\n",
       "      <td>74666</td>\n",
       "      <td>28074</td>\n",
       "      <td>8.4</td>\n",
       "    </tr>\n",
       "    <tr>\n",
       "      <th>10</th>\n",
       "      <td>27529</td>\n",
       "      <td>97.031842</td>\n",
       "      <td>2.395869</td>\n",
       "      <td>3.340909</td>\n",
       "      <td>68627</td>\n",
       "      <td>25807</td>\n",
       "      <td>9.5</td>\n",
       "    </tr>\n",
       "    <tr>\n",
       "      <th>11</th>\n",
       "      <td>27539</td>\n",
       "      <td>96.418919</td>\n",
       "      <td>3.141892</td>\n",
       "      <td>3.708333</td>\n",
       "      <td>88121</td>\n",
       "      <td>34877</td>\n",
       "      <td>2.2</td>\n",
       "    </tr>\n",
       "    <tr>\n",
       "      <th>12</th>\n",
       "      <td>27540</td>\n",
       "      <td>95.598698</td>\n",
       "      <td>3.657267</td>\n",
       "      <td>3.600000</td>\n",
       "      <td>96650</td>\n",
       "      <td>33308</td>\n",
       "      <td>3.0</td>\n",
       "    </tr>\n",
       "    <tr>\n",
       "      <th>13</th>\n",
       "      <td>27545</td>\n",
       "      <td>96.430693</td>\n",
       "      <td>2.445545</td>\n",
       "      <td>3.204082</td>\n",
       "      <td>72301</td>\n",
       "      <td>26568</td>\n",
       "      <td>6.1</td>\n",
       "    </tr>\n",
       "    <tr>\n",
       "      <th>14</th>\n",
       "      <td>27560</td>\n",
       "      <td>95.644022</td>\n",
       "      <td>3.561141</td>\n",
       "      <td>3.524096</td>\n",
       "      <td>97917</td>\n",
       "      <td>38830</td>\n",
       "      <td>3.6</td>\n",
       "    </tr>\n",
       "    <tr>\n",
       "      <th>15</th>\n",
       "      <td>27562</td>\n",
       "      <td>95.277778</td>\n",
       "      <td>3.777778</td>\n",
       "      <td>4.500000</td>\n",
       "      <td>71161</td>\n",
       "      <td>31161</td>\n",
       "      <td>10.4</td>\n",
       "    </tr>\n",
       "    <tr>\n",
       "      <th>16</th>\n",
       "      <td>27571</td>\n",
       "      <td>96.795620</td>\n",
       "      <td>2.124088</td>\n",
       "      <td>3.647059</td>\n",
       "      <td>86250</td>\n",
       "      <td>30502</td>\n",
       "      <td>8.2</td>\n",
       "    </tr>\n",
       "    <tr>\n",
       "      <th>17</th>\n",
       "      <td>27587</td>\n",
       "      <td>96.423409</td>\n",
       "      <td>2.307443</td>\n",
       "      <td>3.798701</td>\n",
       "      <td>96247</td>\n",
       "      <td>34731</td>\n",
       "      <td>5.5</td>\n",
       "    </tr>\n",
       "    <tr>\n",
       "      <th>18</th>\n",
       "      <td>27591</td>\n",
       "      <td>96.997409</td>\n",
       "      <td>2.186528</td>\n",
       "      <td>3.934783</td>\n",
       "      <td>59892</td>\n",
       "      <td>24239</td>\n",
       "      <td>10.1</td>\n",
       "    </tr>\n",
       "    <tr>\n",
       "      <th>19</th>\n",
       "      <td>27592</td>\n",
       "      <td>95.659091</td>\n",
       "      <td>3.272727</td>\n",
       "      <td>3.750000</td>\n",
       "      <td>66160</td>\n",
       "      <td>23355</td>\n",
       "      <td>6.3</td>\n",
       "    </tr>\n",
       "    <tr>\n",
       "      <th>20</th>\n",
       "      <td>27596</td>\n",
       "      <td>98.033333</td>\n",
       "      <td>0.533333</td>\n",
       "      <td>3.250000</td>\n",
       "      <td>68750</td>\n",
       "      <td>26241</td>\n",
       "      <td>5.6</td>\n",
       "    </tr>\n",
       "    <tr>\n",
       "      <th>21</th>\n",
       "      <td>27597</td>\n",
       "      <td>96.519174</td>\n",
       "      <td>2.401180</td>\n",
       "      <td>3.706897</td>\n",
       "      <td>59395</td>\n",
       "      <td>21573</td>\n",
       "      <td>11.3</td>\n",
       "    </tr>\n",
       "    <tr>\n",
       "      <th>22</th>\n",
       "      <td>27601</td>\n",
       "      <td>96.023700</td>\n",
       "      <td>2.766055</td>\n",
       "      <td>3.816547</td>\n",
       "      <td>28641</td>\n",
       "      <td>17363</td>\n",
       "      <td>35.9</td>\n",
       "    </tr>\n",
       "    <tr>\n",
       "      <th>23</th>\n",
       "      <td>27603</td>\n",
       "      <td>96.019474</td>\n",
       "      <td>3.225263</td>\n",
       "      <td>3.617143</td>\n",
       "      <td>68608</td>\n",
       "      <td>27843</td>\n",
       "      <td>12.6</td>\n",
       "    </tr>\n",
       "    <tr>\n",
       "      <th>24</th>\n",
       "      <td>27604</td>\n",
       "      <td>95.510227</td>\n",
       "      <td>3.017045</td>\n",
       "      <td>3.661972</td>\n",
       "      <td>57419</td>\n",
       "      <td>25532</td>\n",
       "      <td>14.4</td>\n",
       "    </tr>\n",
       "    <tr>\n",
       "      <th>25</th>\n",
       "      <td>27605</td>\n",
       "      <td>96.459877</td>\n",
       "      <td>2.743827</td>\n",
       "      <td>3.522727</td>\n",
       "      <td>109886</td>\n",
       "      <td>42632</td>\n",
       "      <td>4.1</td>\n",
       "    </tr>\n",
       "    <tr>\n",
       "      <th>26</th>\n",
       "      <td>27606</td>\n",
       "      <td>96.641374</td>\n",
       "      <td>1.928115</td>\n",
       "      <td>3.525773</td>\n",
       "      <td>61324</td>\n",
       "      <td>25385</td>\n",
       "      <td>13.8</td>\n",
       "    </tr>\n",
       "    <tr>\n",
       "      <th>27</th>\n",
       "      <td>27607</td>\n",
       "      <td>96.496951</td>\n",
       "      <td>2.679268</td>\n",
       "      <td>3.616279</td>\n",
       "      <td>85325</td>\n",
       "      <td>26007</td>\n",
       "      <td>12.8</td>\n",
       "    </tr>\n",
       "    <tr>\n",
       "      <th>28</th>\n",
       "      <td>27608</td>\n",
       "      <td>96.410256</td>\n",
       "      <td>2.261538</td>\n",
       "      <td>3.990196</td>\n",
       "      <td>125019</td>\n",
       "      <td>59155</td>\n",
       "      <td>5.5</td>\n",
       "    </tr>\n",
       "    <tr>\n",
       "      <th>29</th>\n",
       "      <td>27609</td>\n",
       "      <td>96.167384</td>\n",
       "      <td>2.904198</td>\n",
       "      <td>3.519663</td>\n",
       "      <td>73715</td>\n",
       "      <td>39008</td>\n",
       "      <td>8.9</td>\n",
       "    </tr>\n",
       "    <tr>\n",
       "      <th>30</th>\n",
       "      <td>27610</td>\n",
       "      <td>96.265258</td>\n",
       "      <td>2.535211</td>\n",
       "      <td>3.283582</td>\n",
       "      <td>49213</td>\n",
       "      <td>19207</td>\n",
       "      <td>19.2</td>\n",
       "    </tr>\n",
       "    <tr>\n",
       "      <th>31</th>\n",
       "      <td>27612</td>\n",
       "      <td>95.609916</td>\n",
       "      <td>3.394265</td>\n",
       "      <td>3.502907</td>\n",
       "      <td>98452</td>\n",
       "      <td>45080</td>\n",
       "      <td>5.5</td>\n",
       "    </tr>\n",
       "    <tr>\n",
       "      <th>32</th>\n",
       "      <td>27613</td>\n",
       "      <td>96.551064</td>\n",
       "      <td>2.638298</td>\n",
       "      <td>3.518072</td>\n",
       "      <td>106854</td>\n",
       "      <td>42435</td>\n",
       "      <td>4.7</td>\n",
       "    </tr>\n",
       "    <tr>\n",
       "      <th>33</th>\n",
       "      <td>27614</td>\n",
       "      <td>97.031120</td>\n",
       "      <td>1.748963</td>\n",
       "      <td>3.612069</td>\n",
       "      <td>119232</td>\n",
       "      <td>45317</td>\n",
       "      <td>3.7</td>\n",
       "    </tr>\n",
       "    <tr>\n",
       "      <th>34</th>\n",
       "      <td>27615</td>\n",
       "      <td>96.930825</td>\n",
       "      <td>2.103155</td>\n",
       "      <td>3.810127</td>\n",
       "      <td>98884</td>\n",
       "      <td>44747</td>\n",
       "      <td>4.2</td>\n",
       "    </tr>\n",
       "    <tr>\n",
       "      <th>35</th>\n",
       "      <td>27616</td>\n",
       "      <td>96.403226</td>\n",
       "      <td>2.116410</td>\n",
       "      <td>3.464286</td>\n",
       "      <td>60033</td>\n",
       "      <td>24549</td>\n",
       "      <td>11.7</td>\n",
       "    </tr>\n",
       "    <tr>\n",
       "      <th>36</th>\n",
       "      <td>27617</td>\n",
       "      <td>95.256188</td>\n",
       "      <td>3.779703</td>\n",
       "      <td>3.649038</td>\n",
       "      <td>98642</td>\n",
       "      <td>49205</td>\n",
       "      <td>2.0</td>\n",
       "    </tr>\n",
       "  </tbody>\n",
       "</table>\n",
       "</div>"
      ],
      "text/plain": [
       "      zip      score  num_critical    rating  median_family_income_dollars  \\\n",
       "0   27501  94.750000      6.000000  4.055556                         59408   \n",
       "1   27502  96.367223      2.972686  3.610526                        109891   \n",
       "2   27511  96.418969      2.910381  3.631841                         82292   \n",
       "3   27513  95.655130      4.368356  3.707006                        109736   \n",
       "4   27518  97.225291      1.924419  3.561856                        125432   \n",
       "5   27519  96.831412      2.772334  3.610294                        137193   \n",
       "6   27520  97.711538      1.230769  3.346154                         67939   \n",
       "7   27522  98.250000      0.500000  3.000000                         66250   \n",
       "8   27523  96.554795      2.753425  3.547619                         89184   \n",
       "9   27526  94.940922      4.299712  3.596154                         74666   \n",
       "10  27529  97.031842      2.395869  3.340909                         68627   \n",
       "11  27539  96.418919      3.141892  3.708333                         88121   \n",
       "12  27540  95.598698      3.657267  3.600000                         96650   \n",
       "13  27545  96.430693      2.445545  3.204082                         72301   \n",
       "14  27560  95.644022      3.561141  3.524096                         97917   \n",
       "15  27562  95.277778      3.777778  4.500000                         71161   \n",
       "16  27571  96.795620      2.124088  3.647059                         86250   \n",
       "17  27587  96.423409      2.307443  3.798701                         96247   \n",
       "18  27591  96.997409      2.186528  3.934783                         59892   \n",
       "19  27592  95.659091      3.272727  3.750000                         66160   \n",
       "20  27596  98.033333      0.533333  3.250000                         68750   \n",
       "21  27597  96.519174      2.401180  3.706897                         59395   \n",
       "22  27601  96.023700      2.766055  3.816547                         28641   \n",
       "23  27603  96.019474      3.225263  3.617143                         68608   \n",
       "24  27604  95.510227      3.017045  3.661972                         57419   \n",
       "25  27605  96.459877      2.743827  3.522727                        109886   \n",
       "26  27606  96.641374      1.928115  3.525773                         61324   \n",
       "27  27607  96.496951      2.679268  3.616279                         85325   \n",
       "28  27608  96.410256      2.261538  3.990196                        125019   \n",
       "29  27609  96.167384      2.904198  3.519663                         73715   \n",
       "30  27610  96.265258      2.535211  3.283582                         49213   \n",
       "31  27612  95.609916      3.394265  3.502907                         98452   \n",
       "32  27613  96.551064      2.638298  3.518072                        106854   \n",
       "33  27614  97.031120      1.748963  3.612069                        119232   \n",
       "34  27615  96.930825      2.103155  3.810127                         98884   \n",
       "35  27616  96.403226      2.116410  3.464286                         60033   \n",
       "36  27617  95.256188      3.779703  3.649038                         98642   \n",
       "\n",
       "    per_capita_income_dollars  percent_damilies_below_poverty_line  \n",
       "0                       21631                                 10.5  \n",
       "1                       36763                                  3.4  \n",
       "2                       33139                                  9.6  \n",
       "3                       41232                                  3.8  \n",
       "4                       49865                                  5.5  \n",
       "5                       45778                                  3.2  \n",
       "6                       25628                                  5.0  \n",
       "7                       25513                                  6.0  \n",
       "8                       36976                                  3.1  \n",
       "9                       28074                                  8.4  \n",
       "10                      25807                                  9.5  \n",
       "11                      34877                                  2.2  \n",
       "12                      33308                                  3.0  \n",
       "13                      26568                                  6.1  \n",
       "14                      38830                                  3.6  \n",
       "15                      31161                                 10.4  \n",
       "16                      30502                                  8.2  \n",
       "17                      34731                                  5.5  \n",
       "18                      24239                                 10.1  \n",
       "19                      23355                                  6.3  \n",
       "20                      26241                                  5.6  \n",
       "21                      21573                                 11.3  \n",
       "22                      17363                                 35.9  \n",
       "23                      27843                                 12.6  \n",
       "24                      25532                                 14.4  \n",
       "25                      42632                                  4.1  \n",
       "26                      25385                                 13.8  \n",
       "27                      26007                                 12.8  \n",
       "28                      59155                                  5.5  \n",
       "29                      39008                                  8.9  \n",
       "30                      19207                                 19.2  \n",
       "31                      45080                                  5.5  \n",
       "32                      42435                                  4.7  \n",
       "33                      45317                                  3.7  \n",
       "34                      44747                                  4.2  \n",
       "35                      24549                                 11.7  \n",
       "36                      49205                                  2.0  "
      ]
     },
     "execution_count": 19,
     "metadata": {},
     "output_type": "execute_result"
    }
   ],
   "source": [
    "df"
   ]
  },
  {
   "cell_type": "markdown",
   "metadata": {},
   "source": [
    "# Data Analysis & Results"
   ]
  },
  {
   "cell_type": "markdown",
   "metadata": {},
   "source": [
    "Include cells that describe the steps in your data analysis."
   ]
  },
  {
   "cell_type": "code",
   "execution_count": 20,
   "metadata": {},
   "outputs": [
    {
     "data": {
      "text/html": [
       "<div>\n",
       "<style scoped>\n",
       "    .dataframe tbody tr th:only-of-type {\n",
       "        vertical-align: middle;\n",
       "    }\n",
       "\n",
       "    .dataframe tbody tr th {\n",
       "        vertical-align: top;\n",
       "    }\n",
       "\n",
       "    .dataframe thead th {\n",
       "        text-align: right;\n",
       "    }\n",
       "</style>\n",
       "<table border=\"1\" class=\"dataframe\">\n",
       "  <thead>\n",
       "    <tr style=\"text-align: right;\">\n",
       "      <th></th>\n",
       "      <th>zip</th>\n",
       "      <th>score</th>\n",
       "      <th>num_critical</th>\n",
       "      <th>rating</th>\n",
       "      <th>median_family_income_dollars</th>\n",
       "      <th>per_capita_income_dollars</th>\n",
       "      <th>percent_damilies_below_poverty_line</th>\n",
       "    </tr>\n",
       "  </thead>\n",
       "  <tbody>\n",
       "    <tr>\n",
       "      <th>count</th>\n",
       "      <td>37.000000</td>\n",
       "      <td>37.000000</td>\n",
       "      <td>37.000000</td>\n",
       "      <td>37.000000</td>\n",
       "      <td>37.000000</td>\n",
       "      <td>37.000000</td>\n",
       "      <td>37.000000</td>\n",
       "    </tr>\n",
       "    <tr>\n",
       "      <th>mean</th>\n",
       "      <td>27570.378378</td>\n",
       "      <td>96.359787</td>\n",
       "      <td>2.739951</td>\n",
       "      <td>3.614655</td>\n",
       "      <td>83640.783784</td>\n",
       "      <td>33223.135135</td>\n",
       "      <td>8.089189</td>\n",
       "    </tr>\n",
       "    <tr>\n",
       "      <th>std</th>\n",
       "      <td>41.121332</td>\n",
       "      <td>0.779195</td>\n",
       "      <td>1.019619</td>\n",
       "      <td>0.258487</td>\n",
       "      <td>24235.716445</td>\n",
       "      <td>9989.656623</td>\n",
       "      <td>6.187612</td>\n",
       "    </tr>\n",
       "    <tr>\n",
       "      <th>min</th>\n",
       "      <td>27501.000000</td>\n",
       "      <td>94.750000</td>\n",
       "      <td>0.500000</td>\n",
       "      <td>3.000000</td>\n",
       "      <td>28641.000000</td>\n",
       "      <td>17363.000000</td>\n",
       "      <td>2.000000</td>\n",
       "    </tr>\n",
       "    <tr>\n",
       "      <th>25%</th>\n",
       "      <td>27526.000000</td>\n",
       "      <td>95.659091</td>\n",
       "      <td>2.186528</td>\n",
       "      <td>3.519663</td>\n",
       "      <td>66250.000000</td>\n",
       "      <td>25532.000000</td>\n",
       "      <td>4.100000</td>\n",
       "    </tr>\n",
       "    <tr>\n",
       "      <th>50%</th>\n",
       "      <td>27591.000000</td>\n",
       "      <td>96.418969</td>\n",
       "      <td>2.743827</td>\n",
       "      <td>3.610526</td>\n",
       "      <td>82292.000000</td>\n",
       "      <td>31161.000000</td>\n",
       "      <td>6.000000</td>\n",
       "    </tr>\n",
       "    <tr>\n",
       "      <th>75%</th>\n",
       "      <td>27607.000000</td>\n",
       "      <td>96.795620</td>\n",
       "      <td>3.225263</td>\n",
       "      <td>3.707006</td>\n",
       "      <td>98642.000000</td>\n",
       "      <td>41232.000000</td>\n",
       "      <td>10.400000</td>\n",
       "    </tr>\n",
       "    <tr>\n",
       "      <th>max</th>\n",
       "      <td>27617.000000</td>\n",
       "      <td>98.250000</td>\n",
       "      <td>6.000000</td>\n",
       "      <td>4.500000</td>\n",
       "      <td>137193.000000</td>\n",
       "      <td>59155.000000</td>\n",
       "      <td>35.900000</td>\n",
       "    </tr>\n",
       "  </tbody>\n",
       "</table>\n",
       "</div>"
      ],
      "text/plain": [
       "                zip      score  num_critical     rating  \\\n",
       "count     37.000000  37.000000     37.000000  37.000000   \n",
       "mean   27570.378378  96.359787      2.739951   3.614655   \n",
       "std       41.121332   0.779195      1.019619   0.258487   \n",
       "min    27501.000000  94.750000      0.500000   3.000000   \n",
       "25%    27526.000000  95.659091      2.186528   3.519663   \n",
       "50%    27591.000000  96.418969      2.743827   3.610526   \n",
       "75%    27607.000000  96.795620      3.225263   3.707006   \n",
       "max    27617.000000  98.250000      6.000000   4.500000   \n",
       "\n",
       "       median_family_income_dollars  per_capita_income_dollars  \\\n",
       "count                     37.000000                  37.000000   \n",
       "mean                   83640.783784               33223.135135   \n",
       "std                    24235.716445                9989.656623   \n",
       "min                    28641.000000               17363.000000   \n",
       "25%                    66250.000000               25532.000000   \n",
       "50%                    82292.000000               31161.000000   \n",
       "75%                    98642.000000               41232.000000   \n",
       "max                   137193.000000               59155.000000   \n",
       "\n",
       "       percent_damilies_below_poverty_line  \n",
       "count                            37.000000  \n",
       "mean                              8.089189  \n",
       "std                               6.187612  \n",
       "min                               2.000000  \n",
       "25%                               4.100000  \n",
       "50%                               6.000000  \n",
       "75%                              10.400000  \n",
       "max                              35.900000  "
      ]
     },
     "execution_count": 20,
     "metadata": {},
     "output_type": "execute_result"
    }
   ],
   "source": [
    "df.describe()"
   ]
  },
  {
   "cell_type": "markdown",
   "metadata": {},
   "source": [
    "By looking at the describe table we see that score goes from 94 to 98, there is not a big change while rating go from 3 to 4.5. A score of 3 can be very bad for a Yelp rating of a place while a 4.5 is a great indication of the restaurants quality based on experience. The median income in a family has big variations the max is 137193.000000 dollars while the min value is 28641.000000 which is considered low income in North Carolina."
   ]
  },
  {
   "cell_type": "code",
   "execution_count": 21,
   "metadata": {},
   "outputs": [
    {
     "data": {
      "image/png": "[encoded data removed]",
      "text/plain": [
       "<Figure size 1800x1800 with 49 Axes>"
      ]
     },
     "metadata": {
      "needs_background": "light"
     },
     "output_type": "display_data"
    }
   ],
   "source": [
    "fig1 = pd.plotting.scatter_matrix(df,figsize=(25,25))"
   ]
  },
  {
   "cell_type": "markdown",
   "metadata": {},
   "source": [
    "We can see that there is some correlations in our dataframe. Lets get closer to score, ratings and family income!"
   ]
  },
  {
   "cell_type": "code",
   "execution_count": 22,
   "metadata": {},
   "outputs": [
    {
     "data": {
      "text/html": [
       "<div>\n",
       "<style scoped>\n",
       "    .dataframe tbody tr th:only-of-type {\n",
       "        vertical-align: middle;\n",
       "    }\n",
       "\n",
       "    .dataframe tbody tr th {\n",
       "        vertical-align: top;\n",
       "    }\n",
       "\n",
       "    .dataframe thead th {\n",
       "        text-align: right;\n",
       "    }\n",
       "</style>\n",
       "<table border=\"1\" class=\"dataframe\">\n",
       "  <thead>\n",
       "    <tr style=\"text-align: right;\">\n",
       "      <th></th>\n",
       "      <th>zip</th>\n",
       "      <th>score</th>\n",
       "      <th>num_critical</th>\n",
       "      <th>rating</th>\n",
       "      <th>median_family_income_dollars</th>\n",
       "      <th>per_capita_income_dollars</th>\n",
       "      <th>percent_damilies_below_poverty_line</th>\n",
       "    </tr>\n",
       "  </thead>\n",
       "  <tbody>\n",
       "    <tr>\n",
       "      <th>zip</th>\n",
       "      <td>1.000000</td>\n",
       "      <td>-0.027018</td>\n",
       "      <td>-0.233605</td>\n",
       "      <td>0.066926</td>\n",
       "      <td>-0.157975</td>\n",
       "      <td>0.047119</td>\n",
       "      <td>0.284134</td>\n",
       "    </tr>\n",
       "    <tr>\n",
       "      <th>score</th>\n",
       "      <td>-0.027018</td>\n",
       "      <td>1.000000</td>\n",
       "      <td>-0.921661</td>\n",
       "      <td>-0.527777</td>\n",
       "      <td>0.077888</td>\n",
       "      <td>-0.005612</td>\n",
       "      <td>-0.137131</td>\n",
       "    </tr>\n",
       "    <tr>\n",
       "      <th>num_critical</th>\n",
       "      <td>-0.233605</td>\n",
       "      <td>-0.921661</td>\n",
       "      <td>1.000000</td>\n",
       "      <td>0.521235</td>\n",
       "      <td>0.028125</td>\n",
       "      <td>0.038387</td>\n",
       "      <td>0.011614</td>\n",
       "    </tr>\n",
       "    <tr>\n",
       "      <th>rating</th>\n",
       "      <td>0.066926</td>\n",
       "      <td>-0.527777</td>\n",
       "      <td>0.521235</td>\n",
       "      <td>1.000000</td>\n",
       "      <td>0.063249</td>\n",
       "      <td>0.142682</td>\n",
       "      <td>0.122089</td>\n",
       "    </tr>\n",
       "    <tr>\n",
       "      <th>median_family_income_dollars</th>\n",
       "      <td>-0.157975</td>\n",
       "      <td>0.077888</td>\n",
       "      <td>0.028125</td>\n",
       "      <td>0.063249</td>\n",
       "      <td>1.000000</td>\n",
       "      <td>0.901717</td>\n",
       "      <td>-0.718478</td>\n",
       "    </tr>\n",
       "    <tr>\n",
       "      <th>per_capita_income_dollars</th>\n",
       "      <td>0.047119</td>\n",
       "      <td>-0.005612</td>\n",
       "      <td>0.038387</td>\n",
       "      <td>0.142682</td>\n",
       "      <td>0.901717</td>\n",
       "      <td>1.000000</td>\n",
       "      <td>-0.612539</td>\n",
       "    </tr>\n",
       "    <tr>\n",
       "      <th>percent_damilies_below_poverty_line</th>\n",
       "      <td>0.284134</td>\n",
       "      <td>-0.137131</td>\n",
       "      <td>0.011614</td>\n",
       "      <td>0.122089</td>\n",
       "      <td>-0.718478</td>\n",
       "      <td>-0.612539</td>\n",
       "      <td>1.000000</td>\n",
       "    </tr>\n",
       "  </tbody>\n",
       "</table>\n",
       "</div>"
      ],
      "text/plain": [
       "                                          zip     score  num_critical  \\\n",
       "zip                                  1.000000 -0.027018     -0.233605   \n",
       "score                               -0.027018  1.000000     -0.921661   \n",
       "num_critical                        -0.233605 -0.921661      1.000000   \n",
       "rating                               0.066926 -0.527777      0.521235   \n",
       "median_family_income_dollars        -0.157975  0.077888      0.028125   \n",
       "per_capita_income_dollars            0.047119 -0.005612      0.038387   \n",
       "percent_damilies_below_poverty_line  0.284134 -0.137131      0.011614   \n",
       "\n",
       "                                       rating  median_family_income_dollars  \\\n",
       "zip                                  0.066926                     -0.157975   \n",
       "score                               -0.527777                      0.077888   \n",
       "num_critical                         0.521235                      0.028125   \n",
       "rating                               1.000000                      0.063249   \n",
       "median_family_income_dollars         0.063249                      1.000000   \n",
       "per_capita_income_dollars            0.142682                      0.901717   \n",
       "percent_damilies_below_poverty_line  0.122089                     -0.718478   \n",
       "\n",
       "                                     per_capita_income_dollars  \\\n",
       "zip                                                   0.047119   \n",
       "score                                                -0.005612   \n",
       "num_critical                                          0.038387   \n",
       "rating                                                0.142682   \n",
       "median_family_income_dollars                          0.901717   \n",
       "per_capita_income_dollars                             1.000000   \n",
       "percent_damilies_below_poverty_line                  -0.612539   \n",
       "\n",
       "                                     percent_damilies_below_poverty_line  \n",
       "zip                                                             0.284134  \n",
       "score                                                          -0.137131  \n",
       "num_critical                                                    0.011614  \n",
       "rating                                                          0.122089  \n",
       "median_family_income_dollars                                   -0.718478  \n",
       "per_capita_income_dollars                                      -0.612539  \n",
       "percent_damilies_below_poverty_line                             1.000000  "
      ]
     },
     "execution_count": 22,
     "metadata": {},
     "output_type": "execute_result"
    }
   ],
   "source": [
    "corrs = df.corr()\n",
    "corrs"
   ]
  },
  {
   "cell_type": "markdown",
   "metadata": {},
   "source": [
    "As I previously suspected there is some correlation between yelp rating and healt food inspection score but not what I thought. This is a negative correlation of -0.527777! Not very strong but there is one. For food inspection score and family income there is a small positive correlation of 0.077888. I was expecting a strong positive correlation. Lets examine more deeply each correlation with visualizations!"
   ]
  },
  {
   "cell_type": "code",
   "execution_count": 23,
   "metadata": {},
   "outputs": [
    {
     "data": {
      "image/png": "[encoded data removed]",
      "text/plain": [
       "<Figure size 432x288 with 1 Axes>"
      ]
     },
     "metadata": {
      "needs_background": "light"
     },
     "output_type": "display_data"
    }
   ],
   "source": [
    "f2 = sns.distplot((df['score']), bins=25,kde=False)\n"
   ]
  },
  {
   "cell_type": "markdown",
   "metadata": {},
   "source": [
    "Scores do vary but it seems to have a normal distribution in the range of 94 to 98 approximately!"
   ]
  },
  {
   "cell_type": "code",
   "execution_count": 24,
   "metadata": {},
   "outputs": [
    {
     "data": {
      "image/png": "[encoded data removed]",
      "text/plain": [
       "<Figure size 432x288 with 1 Axes>"
      ]
     },
     "metadata": {
      "needs_background": "light"
     },
     "output_type": "display_data"
    }
   ],
   "source": [
    "f3 = sns.distplot((df['median_family_income_dollars']), bins=25,kde=False)\n",
    "#Family in north carolina"
   ]
  },
  {
   "cell_type": "markdown",
   "metadata": {},
   "source": [
    "Family income does not show a normal distribution but most families income is between 60 thousand and 80 thousand. Whichc is above North Carolinas low income category. This indicates that most families in this data set are not considered low income. Still let's see how income plays a role in health inspection score of an area in NC!"
   ]
  },
  {
   "cell_type": "code",
   "execution_count": 25,
   "metadata": {},
   "outputs": [
    {
     "data": {
      "image/png": "[encoded data removed]",
      "text/plain": [
       "<Figure size 432x288 with 1 Axes>"
      ]
     },
     "metadata": {
      "needs_background": "light"
     },
     "output_type": "display_data"
    }
   ],
   "source": [
    "f4 = sns.distplot((df['rating']), bins=25,kde=False)\n"
   ]
  },
  {
   "cell_type": "markdown",
   "metadata": {},
   "source": [
    "Rating in Yelp seem to have a normal distribution as well! Most restaurants get a score of 3.6. This is ratings are conserning since most restaurants do not have a good score in NC."
   ]
  },
  {
   "cell_type": "code",
   "execution_count": 26,
   "metadata": {},
   "outputs": [
    {
     "data": {
      "image/png": "[encoded data removed]",
      "text/plain": [
       "<Figure size 432x288 with 1 Axes>"
      ]
     },
     "metadata": {
      "needs_background": "light"
     },
     "output_type": "display_data"
    }
   ],
   "source": [
    "f3 =sns.scatterplot(x = df['rating'], y = df['score'])\n"
   ]
  },
  {
   "cell_type": "markdown",
   "metadata": {},
   "source": [
    "There seems to be a small correlation between rating and score but this is negative just as we saw with the describe of the data!"
   ]
  },
  {
   "cell_type": "code",
   "execution_count": 27,
   "metadata": {},
   "outputs": [
    {
     "data": {
      "image/png": "[encoded data removed]",
      "text/plain": [
       "<Figure size 432x288 with 1 Axes>"
      ]
     },
     "metadata": {
      "needs_background": "light"
     },
     "output_type": "display_data"
    }
   ],
   "source": [
    "f4 =sns.scatterplot(x = df['median_family_income_dollars'], y = df['score'])\n"
   ]
  },
  {
   "cell_type": "markdown",
   "metadata": {},
   "source": [
    "Family incomes don't seem to a correlation at all. This is very impressive since my hypothesis was wrong!"
   ]
  },
  {
   "cell_type": "markdown",
   "metadata": {},
   "source": [
    "# Linear Regression !\n",
    "Lets do linear regression to see how our models will fit and to understand better our data!"
   ]
  },
  {
   "cell_type": "code",
   "execution_count": 28,
   "metadata": {},
   "outputs": [],
   "source": [
    "#polyfit to fit a 1-degree linear model, predicting health score from mean of yelp reviews rating\n",
    "a1,b1 = np.polyfit(df['rating'], df['score'], 1)"
   ]
  },
  {
   "cell_type": "code",
   "execution_count": 29,
   "metadata": {},
   "outputs": [],
   "source": [
    "#polyfit once more to fit a 1-degree linear model, predicting score from median family income \n",
    "a2,b2 = np.polyfit(df['median_family_income_dollars'], df['score'], 1)"
   ]
  },
  {
   "cell_type": "code",
   "execution_count": 30,
   "metadata": {},
   "outputs": [],
   "source": [
    "x1 = np.arange(min(df['rating']),max(df['rating'])+.1,.1)\n"
   ]
  },
  {
   "cell_type": "code",
   "execution_count": 31,
   "metadata": {},
   "outputs": [
    {
     "data": {
      "image/png": "[encoded data removed]",
      "text/plain": [
       "<Figure size 432x288 with 1 Axes>"
      ]
     },
     "metadata": {
      "needs_background": "light"
     },
     "output_type": "display_data"
    }
   ],
   "source": [
    "plt.scatter(df['rating'], df['score'])\n",
    "plt.xlabel('Mean Yelp Rating')\n",
    "plt.ylabel('Health Score')\n",
    "plt.plot(x1, a1*x1+b1, c = 'red')\n",
    "f5 = plt.gcf()"
   ]
  },
  {
   "cell_type": "markdown",
   "metadata": {},
   "source": [
    "The plot seems to indicate that there is a significant negative correlation between yelp ratings and the health score!\n",
    "This is very intersting since I was assuming that there must be a positive one. Lets look on how strong this correlation is."
   ]
  },
  {
   "cell_type": "code",
   "execution_count": 32,
   "metadata": {},
   "outputs": [
    {
     "name": "stdout",
     "output_type": "stream",
     "text": [
      "                            OLS Regression Results                            \n",
      "==============================================================================\n",
      "Dep. Variable:                 rating   R-squared:                       0.279\n",
      "Model:                            OLS   Adj. R-squared:                  0.258\n",
      "Method:                 Least Squares   F-statistic:                     13.51\n",
      "Date:                Wed, 10 Jun 2020   Prob (F-statistic):           0.000788\n",
      "Time:                        23:31:12   Log-Likelihood:                 4.1039\n",
      "No. Observations:                  37   AIC:                            -4.208\n",
      "Df Residuals:                      35   BIC:                           -0.9860\n",
      "Df Model:                           1                                         \n",
      "Covariance Type:            nonrobust                                         \n",
      "==============================================================================\n",
      "                 coef    std err          t      P>|t|      [0.025      0.975]\n",
      "------------------------------------------------------------------------------\n",
      "Intercept     20.4856      4.590      4.464      0.000      11.168      29.803\n",
      "score         -0.1751      0.048     -3.676      0.001      -0.272      -0.078\n",
      "==============================================================================\n",
      "Omnibus:                        8.936   Durbin-Watson:                   1.572\n",
      "Prob(Omnibus):                  0.011   Jarque-Bera (JB):                8.011\n",
      "Skew:                           0.883   Prob(JB):                       0.0182\n",
      "Kurtosis:                       4.442   Cond. No.                     1.21e+04\n",
      "==============================================================================\n",
      "\n",
      "Warnings:\n",
      "[1] Standard Errors assume that the covariance matrix of the errors is correctly specified.\n",
      "[2] The condition number is large, 1.21e+04. This might indicate that there are\n",
      "strong multicollinearity or other numerical problems.\n"
     ]
    }
   ],
   "source": [
    "outcome_1, predictors_1 = patsy.dmatrices('rating ~ score',df)\n",
    "mod_1 = sm.OLS(outcome_1, predictors_1)\n",
    "res_1 = mod_1.fit()\n",
    "print(res_1.summary())"
   ]
  },
  {
   "cell_type": "code",
   "execution_count": 33,
   "metadata": {},
   "outputs": [
    {
     "data": {
      "text/plain": [
       "array([8.01317340e-05, 7.87893793e-04])"
      ]
     },
     "execution_count": 33,
     "metadata": {},
     "output_type": "execute_result"
    }
   ],
   "source": [
    "res_1.pvalues"
   ]
  },
  {
   "cell_type": "markdown",
   "metadata": {},
   "source": [
    "R-squared is not very high but it indicates that there is slightly a good model fit. \n",
    "The small p-value indicates that the observations are inconsistent with the null hypothesis, therefore we reject the null. The small p-value also indicates that there is a relationship as we suspected from the correlations found previously.\n",
    "Our data is not normal since the p value is close to 0. But there is a relationship between Yelp ratings and food inspection scores! But this is not a very strong relationship, this can still be casuality!There could be a confounding variable that I am not considered and that's why it seems to be a negative correlation. \n",
    "But regardless of this finding my assumption is wrong. Yelp higher ratings can likely take you to places where there is low score in health inspection, contrary to what I was thinking that there was going to be a strong positive correlation."
   ]
  },
  {
   "cell_type": "markdown",
   "metadata": {},
   "source": [
    "# Lets discard family income and health inspection score"
   ]
  },
  {
   "cell_type": "code",
   "execution_count": 34,
   "metadata": {},
   "outputs": [],
   "source": [
    "x2=np.arange(min(df['median_family_income_dollars']),max(df['median_family_income_dollars']))"
   ]
  },
  {
   "cell_type": "code",
   "execution_count": 35,
   "metadata": {},
   "outputs": [
    {
     "data": {
      "text/plain": [
       "[<matplotlib.lines.Line2D at 0x1c272e0ef0>]"
      ]
     },
     "execution_count": 35,
     "metadata": {},
     "output_type": "execute_result"
    },
    {
     "data": {
      "image/png": "[encoded data removed]",
      "text/plain": [
       "<Figure size 432x288 with 1 Axes>"
      ]
     },
     "metadata": {
      "needs_background": "light"
     },
     "output_type": "display_data"
    }
   ],
   "source": [
    "plt.scatter(df['median_family_income_dollars'], df['score'])\n",
    "plt.xlabel('Median Family Income')\n",
    "plt.ylabel('Health Score')\n",
    "plt.plot(x2, a2*x2+b2, c = 'red')"
   ]
  },
  {
   "cell_type": "markdown",
   "metadata": {},
   "source": [
    "Based on the visualization there seems to be a weak positive correlation between median family income and health score of each inspection.\n",
    "We need to analyzed this two variables just like we did before for health score and yelp ratings to make sure there is no relations."
   ]
  },
  {
   "cell_type": "code",
   "execution_count": 36,
   "metadata": {},
   "outputs": [
    {
     "name": "stdout",
     "output_type": "stream",
     "text": [
      "                                 OLS Regression Results                                 \n",
      "========================================================================================\n",
      "Dep. Variable:     median_family_income_dollars   R-squared:                       0.006\n",
      "Model:                                      OLS   Adj. R-squared:                 -0.022\n",
      "Method:                           Least Squares   F-statistic:                    0.2136\n",
      "Date:                          Wed, 10 Jun 2020   Prob (F-statistic):              0.647\n",
      "Time:                                  23:31:13   Log-Likelihood:                -425.42\n",
      "No. Observations:                            37   AIC:                             854.8\n",
      "Df Residuals:                                35   BIC:                             858.1\n",
      "Df Model:                                     1                                         \n",
      "Covariance Type:                      nonrobust                                         \n",
      "==============================================================================\n",
      "                 coef    std err          t      P>|t|      [0.025      0.975]\n",
      "------------------------------------------------------------------------------\n",
      "Intercept  -1.498e+05   5.05e+05     -0.297      0.769   -1.18e+06    8.76e+05\n",
      "score       2422.5877   5241.486      0.462      0.647   -8218.194    1.31e+04\n",
      "==============================================================================\n",
      "Omnibus:                        0.593   Durbin-Watson:                   1.607\n",
      "Prob(Omnibus):                  0.743   Jarque-Bera (JB):                0.703\n",
      "Skew:                           0.179   Prob(JB):                        0.704\n",
      "Kurtosis:                       2.428   Cond. No.                     1.21e+04\n",
      "==============================================================================\n",
      "\n",
      "Warnings:\n",
      "[1] Standard Errors assume that the covariance matrix of the errors is correctly specified.\n",
      "[2] The condition number is large, 1.21e+04. This might indicate that there are\n",
      "strong multicollinearity or other numerical problems.\n"
     ]
    }
   ],
   "source": [
    "outcome_2, predictors_2 = patsy.dmatrices('median_family_income_dollars ~ score',df)\n",
    "mod_2 = sm.OLS(outcome_2, predictors_2)\n",
    "res_2 = mod_2.fit()\n",
    "print(res_2.summary())"
   ]
  },
  {
   "cell_type": "code",
   "execution_count": 37,
   "metadata": {},
   "outputs": [
    {
     "data": {
      "text/plain": [
       "array([0.76853813, 0.64680198])"
      ]
     },
     "execution_count": 37,
     "metadata": {},
     "output_type": "execute_result"
    }
   ],
   "source": [
    "res_2.pvalues"
   ]
  },
  {
   "cell_type": "markdown",
   "metadata": {},
   "source": [
    "R-squared is very low which indicates that it is a bad model fit. \n",
    "The high p-value indicates that there is no significant relationship between the score and the median family income. \n",
    "Based on the p value and the coefficient there is not relation between both.\n",
    "My assumptions were again wrong and there is really no relaitonship between family income in an area and the quality of food available."
   ]
  },
  {
   "cell_type": "markdown",
   "metadata": {},
   "source": [
    "# Ethics & Privacy"
   ]
  },
  {
   "cell_type": "markdown",
   "metadata": {},
   "source": [
    "- The information that was used for this project is public and can be accessed by searching North Carolina health inspections data, as well as North Carolinas family income distribution and restaurant rating on Yelp. Hence I will have permission to use it since it is our right to know the grade of each restaurant’s food inspection. \n",
    "- There are no privacy concerns regarding the datasets since it is public information. The data could have potential biases by the inspectors, as mention in the reference article (3), inspectors can be biased on how many violations they mark in a restaurant and this can affect the dataset as well as affect a restaurant owner! This could be an ethical problem since an inspector can affect a restaurant’s reputation, therefore we expect that each inspector’s review is not biased. For the issue of finding inspector biases what can be done is to assign two inspectors to do the same reviews of restaurants and look at both data sets. This will allow us to see if there are any biases in the process of an inspector. In case we see a discrepancy between two inspectors we can ask a third inspector to review the particular restaurant. This can also be done by looking at each inspector's id and how there score fluctuates compare to other inspectors who inspected the same restaurants.\n",
    "- Privacy in general was not an issue since the datasets were not specific to a user or a person. They were general and as mention everything is public. So there was no need for changing the dataset to follow the privacy principles\n",
    "- My last ethical concern can be that a restaurant can be potentially impacted by any data project like this one that tries to find the places where most inspection scores are low. In my dataset, I am using the mean which can affect drastically. A restaurant score might be updated now and have a higher score now but people might assume that they don't follow the healthy food guidelines. Mean can dramatically impact data, next time I will use the median or the last score of each restaurant since what matters is the most recent inspection of the place!"
   ]
  },
  {
   "cell_type": "markdown",
   "metadata": {},
   "source": [
    "# Conclusion & Discussion"
   ]
  },
  {
   "cell_type": "markdown",
   "metadata": {},
   "source": [
    "- There was some relationship with Yelp ratings and score and they can be used to get the place with the best health inspection score, by going to the places with the lowest ratings on Yelp. But, I believe this is a casualty! There must be some confounding variable our maybe since I am using mean instead of the median for scores and ratings the dataset is not very accurate! Also, it will not make sense that people will want to get places with lower yelp ratings to get better quality of food.\n",
    "- There was no relationship between food health inspection scores and family income in an area in North Carolina. I am surprised by this. This means that the areas of low income are getting a normal quality of food just like anybody else in North Carolina! This is great news because I was very concerned that lower-income families were not able to get great quality in their neighborhood forcing them to drive to another restaurant or dining area.\n",
    "- In conclusion, data is always subjective and there can always be some variables we are not including! This analysis might have excluded some confounding variables. But in general, with our findings of today, we found that there is no relation between income and food quality in an area in North Carolina, and we found that Yelp reviews are not a reliable source to go to the place with the best quality of food based on health inspection scores. On the contrary, there is some negative relationship between health inspection score average and the yelp reviews average of that zip code. Therefore my hypothesis was completely wrong but this needs further analysis to confirm this negative relationship and make sure there are no missing variables (confounding variables)!"
   ]
  }
 ],
 "metadata": {
  "kernelspec": {
   "display_name": "Python 3",
   "language": "python",
   "name": "python3"
  },
  "language_info": {
   "codemirror_mode": {
    "name": "ipython",
    "version": 3
   },
   "file_extension": ".py",
   "mimetype": "text/x-python",
   "name": "python",
   "nbconvert_exporter": "python",
   "pygments_lexer": "ipython3",
   "version": "3.7.3"
  }
 },
 "nbformat": 4,
 "nbformat_minor": 2
}
