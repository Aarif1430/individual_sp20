{
 "cells": [
  {
   "cell_type": "markdown",
   "metadata": {},
   "source": [
    "# COGS 108 - Final Project "
   ]
  },
  {
   "cell_type": "markdown",
   "metadata": {},
   "source": [
    "# Overview"
   ]
  },
  {
   "cell_type": "markdown",
   "metadata": {},
   "source": [
    "*Fill in your overview here*"
   ]
  },
  {
   "cell_type": "markdown",
   "metadata": {},
   "source": [
    "# Name & PID\n",
    "\n",
    "- Name: Mariela Perez\n",
    "- PID: A14513530"
   ]
  },
  {
   "cell_type": "markdown",
   "metadata": {},
   "source": [
    "# Research Question"
   ]
  },
  {
   "cell_type": "markdown",
   "metadata": {},
   "source": [
    "Does the location of food establishments affect health inspection scores in San Diego county? Are restaurants located in lower class neighborhoods or overpopulated regions more prone to violations?"
   ]
  },
  {
   "cell_type": "markdown",
   "metadata": {},
   "source": [
    "## Background and Prior Work"
   ]
  },
  {
   "cell_type": "markdown",
   "metadata": {},
   "source": [
    "San Diego County health department monitors compliance for 14,000 restaurants in accordance of state and local laws(Source 1). The inspection report is provided to the facility afterward and posted for the public to see onsite and online. The health department inspects food preparation surfaces, food handling, and public health precautions. The grade of the facility is reported by a point value system out of 100. Major risks lose 4 points, minor risks lose 2, and failure to follow good retail practices lose 1. In preparation for this quarterly exam, food establishments receive food safety training and follow required protocols. Health inspections help reduce food borne illness, transmission of viruses, lower pest infestations, and prevent other health hazards.\n",
    "\n",
    "Public health departments report health inspection scores online. For large counties such as Los Angeles and San Diego this allows one to visualize what areas receive critical violations and low scores. Upon looking at the chart(Source 2) by score, I noticed that underserved areas like Compton and El Monte reserved the lower scores and a few were even closed. Cities like Torrance and Studio City that are ideal locations to live in were at the other end of the spectrum. The main reason for closures were plumbing issues and vermin infestations.\n",
    "\n",
    "A previous data scientist project related to mine was performed for San Francisco in 2014. They recorded the health inspection scores for restaurants across San Francisco and used heat maps and bar plots to anaylze trends. They discovered that the highest numbers for high risk violations were in the busiest areas such as Chinatown, the pier, and downtown. This may be a result to having more restaurants in the area and serving more people every day. They also noticed that restaurants with more high risk violations also had the most low and medium risk violations. This may be from overlapping infractions causing their scores to drastically decline. This relates to my project, because I too will anaylze data collected from a county and observe the areas with the most violations. In addition to that, I will also analyze what are the critical violations causing the low inspection scores.\n",
    "\n",
    "References (include links):\n",
    "- 1) https://www.sandiegocounty.gov/content/sdc/deh/fhd/ffis/intro.html.html\n",
    "- 2) https://ehservices.publichealth.lacounty.gov/ezsearch\n",
    "- 3) https://nycdatascience.com/blog/student-works/san-francisco-restaurant-inspection-analysis-visualization/"
   ]
  },
  {
   "cell_type": "markdown",
   "metadata": {},
   "source": [
    "# Hypothesis\n"
   ]
  },
  {
   "cell_type": "markdown",
   "metadata": {},
   "source": [
    "I predict that areas that are overpopulated and lower-class will having lower and more failing health inspection scores than more well-maintained areas of San Diego county. "
   ]
  },
  {
   "cell_type": "markdown",
   "metadata": {},
   "source": [
    "# Dataset(s)"
   ]
  },
  {
   "cell_type": "markdown",
   "metadata": {},
   "source": [
    "*Fill in your dataset information here*\n",
    "\n",
    "(Copy this information for each dataset)\n",
    "- Dataset Name:\n",
    "- Link to the dataset:\n",
    "- Number of observations:\n",
    "\n",
    "1-2 sentences describing each dataset. \n",
    "\n",
    "If you plan to use multiple datasets, add 1-2 sentences about how you plan to combine these datasets."
   ]
  },
  {
   "cell_type": "markdown",
   "metadata": {},
   "source": [
    "# Setup"
   ]
  },
  {
   "cell_type": "code",
   "execution_count": 3,
   "metadata": {},
   "outputs": [],
   "source": [
    "## YOUR CODE HERE"
   ]
  },
  {
   "cell_type": "markdown",
   "metadata": {},
   "source": [
    "# Data Cleaning"
   ]
  },
  {
   "cell_type": "markdown",
   "metadata": {},
   "source": [
    "Describe your data cleaning steps here."
   ]
  },
  {
   "cell_type": "code",
   "execution_count": 4,
   "metadata": {},
   "outputs": [],
   "source": [
    "## YOUR CODE HERE\n",
    "## FEEL FREE TO ADD MULTIPLE CELLS PER SECTION"
   ]
  },
  {
   "cell_type": "markdown",
   "metadata": {},
   "source": [
    "# Data Analysis & Results"
   ]
  },
  {
   "cell_type": "markdown",
   "metadata": {},
   "source": [
    "Include cells that describe the steps in your data analysis."
   ]
  },
  {
   "cell_type": "code",
   "execution_count": 5,
   "metadata": {},
   "outputs": [],
   "source": [
    "## YOUR CODE HERE\n",
    "## FEEL FREE TO ADD MULTIPLE CELLS PER SECTION"
   ]
  },
  {
   "cell_type": "markdown",
   "metadata": {},
   "source": [
    "# Ethics & Privacy"
   ]
  },
  {
   "cell_type": "markdown",
   "metadata": {},
   "source": [
    "*Fill in your ethics & privacy discussion here*"
   ]
  },
  {
   "cell_type": "markdown",
   "metadata": {},
   "source": [
    "# Conclusion & Discussion"
   ]
  },
  {
   "cell_type": "markdown",
   "metadata": {},
   "source": [
    "*Fill in your discussion information here*"
   ]
  }
 ],
 "metadata": {
  "kernelspec": {
   "display_name": "Python 3",
   "language": "python",
   "name": "python3"
  },
  "language_info": {
   "codemirror_mode": {
    "name": "ipython",
    "version": 3
   },
   "file_extension": ".py",
   "mimetype": "text/x-python",
   "name": "python",
   "nbconvert_exporter": "python",
   "pygments_lexer": "ipython3",
   "version": "3.7.0"
  }
 },
 "nbformat": 4,
 "nbformat_minor": 2
}