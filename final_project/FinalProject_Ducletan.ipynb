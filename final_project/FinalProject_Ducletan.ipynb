{
 "cells": [
  {
   "cell_type": "markdown",
   "metadata": {},
   "source": [
    "# Overview \n",
    "\n",
    "In this data-science experiment, I attempted to determine whether there or not restaurants within the same zip code as emergency medical services had lower health inspection scores. The information mainly observed in this experiment are the emergency medical services and restaurants' zip codes, and the health inspection scores of restaurents within the state of North Carolina. After data cleaning, analysis, and visualization, I came to the conclusion that there is no correlation present when it comes to the amount of medical facilities and a restaurant's health inspection score that are both in the same zip code. But moving forward, I hope to be able to use datasets that are not just limited to the state of North-Carolina but from other states across the nation as well. "
   ]
  },
  {
   "cell_type": "markdown",
   "metadata": {},
   "source": [
    "# Duc Le \n",
    "# PID: A15655460 \n",
    "# Github: Ducletan"
   ]
  },
  {
   "cell_type": "markdown",
   "metadata": {},
   "source": [
    "# Research Question \n",
    "Do restaurants within the same zip codes as emergency medical services have their health inspection scores affected? "
   ]
  },
  {
   "cell_type": "markdown",
   "metadata": {},
   "source": [
    "# Hypothesis\n",
    "\n",
    "When it comes to a restaurant’s health inspection score, restaurants that are within the same zip code as an emergency medical service will have a lower score. The reason being that since these restaurants are within close proximity to medical centers, the staff have a higher chance of interacting with sick patients within the area and become exposed to unwanted illnesses. Restaurants that are outside of the zip code have a lower chance of suffering the same risk. "
   ]
  },
  {
   "cell_type": "markdown",
   "metadata": {},
   "source": [
    "# Background and Prior Work  \n",
    "\n",
    "Although I was not able to locate any articles or previous work surrounding the topic of whether living near a hospital increases your chance of contracting diseases or poses as a risk for restaurants, I was able to locate a similar article that researched whether living near a hazardous environment causes lower health in surroundings. Ultimately, the research finding pointed in a direction that supports the idea that the closer proximity you are to a hazardous environment, the more prone you were to illnesses such as pregnancy defects, asthma, and having a higher risk for childhood cancer. But the limitation to this study is that researchers are not able to fully account for the increased risk of illnesses, since each individual could come from different background status which could also have a prominent factor in determining the kind and severity of sickness they experience. \n",
    "https://www.ncbi.nlm.nih.gov/pmc/articles/PMC3222489/\n",
    "\n",
    "The biggest takeaway I got from this article was that a restaurant’s health inspection score does not entirely revolve around the health of their employees. Other factors such as the opertionality of their equipment, quality of their ingredients, and cleanliness of their serving areas play a prominent role in determining their score. This is important to keep in mind because even if a restaurant is near an emergency medical service, it can still maintain a high inspection score by controlling the factors mentioned above and maintaining it at a high standard. Taking everything into account, a restaurant could have some sick employees but control the quality of their ingredients and equipment and possibly maintain a high inspection score, and vice versa. \n",
    "\n",
    "https://www.news-gazette.com/news/restaurant-inspections-hospital-cafeteria-shut-down/article_d7984d84-c04a-5c5e-a347-06ea239ddc1b.html"
   ]
  },
  {
   "cell_type": "markdown",
   "metadata": {},
   "source": [
    "# Setup "
   ]
  },
  {
   "cell_type": "code",
   "execution_count": 1,
   "metadata": {},
   "outputs": [],
   "source": [
    "#Analytics & Graphing\n",
    "import numpy as np\n",
    "import pandas as pd\n",
    "import matplotlib.pyplot as plt\n",
    "import seaborn as sns\n",
    "\n"
   ]
  },
  {
   "cell_type": "markdown",
   "metadata": {},
   "source": [
    "# Datasets \n",
    "\n",
    "The first dataset used in this experiment provides us with the location of emergency medical services within the state of North Carolina. Specifically, the variables that we will be using is the zipcode, longitude, and latitude of the services. On the other hand, the dataset inspection.csv also provides us with the zipcode, longitude, and latitudue of restaurants and their respective health inspection score. The two datasets used in this experiment comes from https://www.nconemap.gov/datasets/emergency-medical-services/data?page=176 and the one provided by Professor Ellis."
   ]
  },
  {
   "cell_type": "markdown",
   "metadata": {},
   "source": [
    "# Data Cleaning & Pre-Processing"
   ]
  },
  {
   "cell_type": "code",
   "execution_count": 2,
   "metadata": {},
   "outputs": [],
   "source": [
    "df_inspectionscore = pd.read_csv('inspections.csv')\n",
    "df_medicalservices = pd.read_csv('Emergency_Medical_Services.csv')"
   ]
  },
  {
   "cell_type": "code",
   "execution_count": 3,
   "metadata": {
    "scrolled": true
   },
   "outputs": [
    {
     "name": "stdout",
     "output_type": "stream",
     "text": [
      "       ZIP  Amount of Medical Facilities\n",
      "0    27006                             1\n",
      "1    27007                             1\n",
      "2    27009                             1\n",
      "3    27011                             1\n",
      "4    27012                             1\n",
      "..     ...                           ...\n",
      "649  28902                             1\n",
      "650  28904                             6\n",
      "651  28905                             1\n",
      "652  28906                            12\n",
      "653  28909                             1\n",
      "\n",
      "[654 rows x 2 columns]\n"
     ]
    },
    {
     "data": {
      "text/plain": [
       "ZIP                             int64\n",
       "Amount of Medical Facilities    int64\n",
       "dtype: object"
      ]
     },
     "execution_count": 3,
     "metadata": {},
     "output_type": "execute_result"
    }
   ],
   "source": [
    "\n",
    "#I first grouped each zipcode and counted the amount of medical facilities eac had\n",
    "total_zip_medical = df_medicalservices.groupby(['ZIP']).size().to_frame('Amount of Medical Facilities').reset_index()\n",
    "\n",
    "#Then I changed the column names of each zipcode to 'ZIP' and 'Amount of Medical Facilities'.\n",
    "#This would make manipulation easier later on\n",
    "\n",
    "total_zip_medical.columns = ['ZIP', 'Amount of Medical Facilities']\n",
    "print(total_zip_medical)\n",
    "\n",
    "\n",
    "\n",
    "total_zip_medical.dtypes"
   ]
  },
  {
   "cell_type": "code",
   "execution_count": 4,
   "metadata": {},
   "outputs": [
    {
     "name": "stdout",
     "output_type": "stream",
     "text": [
      "      ZIP      score\n",
      "0   27501  94.750000\n",
      "1   27502  96.367223\n",
      "2   27511  96.418969\n",
      "3   27512  95.611111\n",
      "4   27513  95.655130\n",
      "5   27518  97.225291\n",
      "6   27519  96.831412\n",
      "7   27520  97.711538\n",
      "8   27522  98.250000\n",
      "9   27523  96.554795\n",
      "10  27526  94.940922\n",
      "11  27529  97.031842\n",
      "12  27539  96.418919\n",
      "13  27540  95.598698\n",
      "14  27545  96.430693\n",
      "15  27560  95.644022\n",
      "16  27562  95.277778\n",
      "17  27571  96.795620\n",
      "18  27573  96.600000\n",
      "19  27579  96.357143\n",
      "20  27587  96.423409\n",
      "21  27591  96.997409\n",
      "22  27592  95.659091\n",
      "23  27595  93.666667\n",
      "24  27596  98.033333\n",
      "25  27597  96.519174\n",
      "26  27601  96.023700\n",
      "27  27602  98.017241\n",
      "28  27603  96.019474\n",
      "29  27604  95.510227\n",
      "30  27605  96.459877\n",
      "31  27606  96.641374\n",
      "32  27607  96.496951\n",
      "33  27608  96.410256\n",
      "34  27609  96.167384\n",
      "35  27610  96.265258\n",
      "36  27612  95.609916\n",
      "37  27613  96.551064\n",
      "38  27614  97.031120\n",
      "39  27615  96.930825\n",
      "40  27616  96.403226\n",
      "41  27617  95.256188\n",
      "42  27619  97.000000\n",
      "43  27624  93.500000\n",
      "44  27628  94.333333\n",
      "45  27650  97.750000\n",
      "46  27652  94.875000\n",
      "47  27695  97.938462\n",
      "48  27709  95.666667\n",
      "49  28145  98.333333\n",
      "50  28587  98.000000\n"
     ]
    },
    {
     "data": {
      "text/plain": [
       "ZIP        int64\n",
       "score    float64\n",
       "dtype: object"
      ]
     },
     "execution_count": 4,
     "metadata": {},
     "output_type": "execute_result"
    }
   ],
   "source": [
    "avg_inspectionscore = df_inspectionscore\n",
    "\n",
    "#Filtered avg_inspection score to only include postalcode and the inspection score.\n",
    "#Renamed the columns to be 'ZIP'and 'score'\n",
    "#This would make it easier to merge with the emergency medical facilities later on\n",
    "avg_inspectionscore = avg_inspectionscore.filter(['postalcode', 'score'])\n",
    "avg_inspectionscore.columns = ['ZIP', 'score'] \n",
    "\n",
    "#Then truncated the string so it only had the first 5 digits. This was to make merging easier\n",
    "avg_inspectionscore['ZIP'] = avg_inspectionscore['ZIP'].str[0:5]\n",
    "avg_inspectionscore = avg_inspectionscore.groupby('ZIP', as_index = False)['score'].mean()\n",
    "\n",
    "\n",
    "\n",
    "\n",
    "\n",
    "print(avg_inspectionscore)\n",
    "\n",
    "\n",
    "#Then changed the data type for 'ZIP' to merge later on\n",
    "avg_inspectionscore.ZIP = avg_inspectionscore.ZIP.astype(int)\n",
    "\n",
    "avg_inspectionscore.dtypes\n"
   ]
  },
  {
   "cell_type": "code",
   "execution_count": 10,
   "metadata": {},
   "outputs": [
    {
     "name": "stdout",
     "output_type": "stream",
     "text": [
      "      ZIP      score  Amount of Medical Facilities\n",
      "0   27501  94.750000                             2\n",
      "1   27502  96.367223                             3\n",
      "2   27511  96.418969                             5\n",
      "3   27513  95.655130                             1\n",
      "4   27519  96.831412                             3\n",
      "5   27520  97.711538                             1\n",
      "6   27522  98.250000                             2\n",
      "7   27526  94.940922                             5\n",
      "8   27529  97.031842                             3\n",
      "9   27539  96.418919                             3\n",
      "10  27540  95.598698                             2\n",
      "11  27545  96.430693                             3\n",
      "12  27560  95.644022                             3\n",
      "13  27562  95.277778                             1\n",
      "14  27571  96.795620                             2\n",
      "15  27573  96.600000                             5\n",
      "16  27587  96.423409                             6\n",
      "17  27591  96.997409                             4\n",
      "18  27596  98.033333                             2\n",
      "19  27597  96.519174                             5\n",
      "20  27601  96.023700                             3\n",
      "21  27603  96.019474                             2\n",
      "22  27604  95.510227                             3\n",
      "23  27605  96.459877                             1\n",
      "24  27606  96.641374                             3\n",
      "25  27607  96.496951                             4\n",
      "26  27608  96.410256                             2\n",
      "27  27609  96.167384                             1\n",
      "28  27610  96.265258                             6\n",
      "29  27612  95.609916                             5\n",
      "30  27613  96.551064                             3\n",
      "31  27614  97.031120                             4\n",
      "32  27615  96.930825                             2\n",
      "33  27616  96.403226                             4\n",
      "34  27617  95.256188                             1\n"
     ]
    }
   ],
   "source": [
    "#Merged the emergency medical facilities with the amount of medical facilities for relationship analysis\n",
    "avg_score_total_medical = pd.merge(avg_inspectionscore, total_zip_medical, how = 'inner', on = 'ZIP')\n",
    "print(avg_score_total_medical)"
   ]
  },
  {
   "cell_type": "markdown",
   "metadata": {},
   "source": [
    "# Data Visualization and Data Analysis"
   ]
  },
  {
   "cell_type": "code",
   "execution_count": 6,
   "metadata": {},
   "outputs": [
    {
     "data": {
      "text/plain": [
       "Text(0, 0.5, 'Number of data points')"
      ]
     },
     "execution_count": 6,
     "metadata": {},
     "output_type": "execute_result"
    },
    {
     "data": {
      "image/png": "[encoded data removed]",
      "text/plain": [
       "<Figure size 1080x360 with 1 Axes>"
      ]
     },
     "metadata": {
      "needs_background": "light"
     },
     "output_type": "display_data"
    }
   ],
   "source": [
    "#Created a histogram to view the data. \n",
    "histogram = avg_score_total_medical['Amount of Medical Facilities'].value_counts().plot.bar(figsize=(15,5),title='# of Facilities vs Number of Data Points')\n",
    "\n",
    "\n",
    "histogram.set_xlabel(\"Amount of medical facilities\")\n",
    "histogram.set_ylabel(\"Number of data points\")\n"
   ]
  },
  {
   "cell_type": "markdown",
   "metadata": {},
   "source": [
    "This histogram shows the amount of data points for the amount of medical facilities. \n",
    "\n",
    "##### There are 10 data points that have three medical facilities\n",
    "#### 8 data points that have 2 medical facilities\n",
    "#### 6 data points that have 1 medical facility\n",
    "#### 5 data points that have five medical facilities\n",
    "#### 4 data points that have 4 medical facilities\n",
    "#### 2 data points that have 6 medical facilities."
   ]
  },
  {
   "cell_type": "code",
   "execution_count": 7,
   "metadata": {},
   "outputs": [
    {
     "data": {
      "image/png": "[encoded data removed]",
      "text/plain": [
       "<Figure size 540x540 with 12 Axes>"
      ]
     },
     "metadata": {
      "needs_background": "light"
     },
     "output_type": "display_data"
    }
   ],
   "source": [
    "pair = sns.pairplot(avg_score_total_medical)"
   ]
  },
  {
   "cell_type": "markdown",
   "metadata": {},
   "source": [
    "The pairplot doesn't feature any relationships at all. Everything is pretty uniform. Out of all relationships the 'Zip and Amount of Medical Facilities' is the most prominent. I'm going to create a scatter plot to further investigate this."
   ]
  },
  {
   "cell_type": "code",
   "execution_count": 8,
   "metadata": {
    "scrolled": true
   },
   "outputs": [
    {
     "data": {
      "text/plain": [
       "Text(0, 0.5, 'Inspection Score')"
      ]
     },
     "execution_count": 8,
     "metadata": {},
     "output_type": "execute_result"
    },
    {
     "data": {
      "image/png": "[encoded data removed]",
      "text/plain": [
       "<Figure size 1080x1080 with 1 Axes>"
      ]
     },
     "metadata": {
      "needs_background": "light"
     },
     "output_type": "display_data"
    }
   ],
   "source": [
    "area = (15, 15)\n",
    "\n",
    "\n",
    "\n",
    "\n",
    "\n",
    "ax = plt.subplots(figsize=area)\n",
    "\n",
    "scatterplot = sns.scatterplot(x=\"Amount of Medical Facilities\", y=\"score\", data = avg_score_total_medical, s= 250, color = 'red')\n",
    "scatterplot.set_title(\"Score vs Amount of Medical Facilities\", fontsize=20)\n",
    "scatterplot.tick_params(labelsize=10)\n",
    "scatterplot.set_xlabel('Amount of Medical Facilities', fontsize=15)\n",
    "scatterplot.set_ylabel('Inspection Score', fontsize = 15)\n",
    "\n"
   ]
  },
  {
   "cell_type": "markdown",
   "metadata": {},
   "source": [
    "This line graph shows the non-existent relationship between the amount of mediical facilties and the inspection score. As you can see, as you increase in the amount of medical facilities, there is not increase or descrease in inspection scores"
   ]
  },
  {
   "cell_type": "markdown",
   "metadata": {},
   "source": []
  },
  {
   "cell_type": "code",
   "execution_count": 9,
   "metadata": {},
   "outputs": [
    {
     "name": "stdout",
     "output_type": "stream",
     "text": [
      "                                   ZIP     score  Amount of Medical Facilities\n",
      "ZIP                           1.000000  0.036962                      0.123157\n",
      "score                         0.036962  1.000000                     -0.017179\n",
      "Amount of Medical Facilities  0.123157 -0.017179                      1.000000\n"
     ]
    }
   ],
   "source": [
    "correlation = avg_score_total_medical.corr(method ='pearson') \n",
    "print(correlation)"
   ]
  },
  {
   "cell_type": "markdown",
   "metadata": {},
   "source": []
  },
  {
   "cell_type": "markdown",
   "metadata": {},
   "source": [
    "Hypothesis was proven incorrect, no relationship was found between amount of medical facilities and the inspection score rating. This was because 0.12 is not close enough to 0.25 to be considered a minor relationship"
   ]
  },
  {
   "cell_type": "markdown",
   "metadata": {},
   "source": [
    "In data, I did not have enough medical facilities for each zipcode. This was because the inspections document had a small amount of zip codes compared to the emergency medical facilities zipcode. A more comprehensive dataset with restaurant inspections for the zipcodes for each facility would have improved this data analysis."
   ]
  },
  {
   "cell_type": "markdown",
   "metadata": {},
   "source": [
    "# Ethics and Privacy \n",
    "When it comes to the ethics of this experiment, I attempted my best to keep it the least invasive as possible. What I mean by this is that I tried to avoid personal datas such as the life activities of employees and the way a restaurant operates when it comes to cleanliness. The majority of the data used for this experiment were cold hard numbers such as the location (longitude and latitude) of the emergency medical service and restaurants listed in the provided dataset. However, one ethical issue that I discovered after completing my data-analysis was that it could be problematic to assume causation between the health inspection score of a restaurant with its proximity to a nearby emergency medical service. The reason being that there are other factors that could come into play such as the employees perform, failing management, or poor ingredients that would worsen the score."
   ]
  },
  {
   "cell_type": "markdown",
   "metadata": {},
   "source": [
    "# Conclusion & Discussion\n",
    "\n",
    "After completing the experiment, I have come to the conclusion that there is no relationship present when it comes to the amount of medical facilities and a restaurant's health inspection score that are both in the same zip code. Unfortunenately, my hypothesis that stated that restaurents that are in the same zip code as multiple emergency medical services will have lower health inspection score, was incorrect. The reason being that the R score did not pass the 0.25 threshold in order to establish a minor relationship between the two. Moving forward, I could improve the quality of this experiment by observing inspection scores nation-wide rather than just the state of North Carolina, as it will provide me with more data and information to work with. "
   ]
  }
 ],
 "metadata": {
  "kernelspec": {
   "display_name": "Python 3",
   "language": "python",
   "name": "python3"
  },
  "language_info": {
   "codemirror_mode": {
    "name": "ipython",
    "version": 3
   },
   "file_extension": ".py",
   "mimetype": "text/x-python",
   "name": "python",
   "nbconvert_exporter": "python",
   "pygments_lexer": "ipython3",
   "version": "3.6.7"
  }
 },
 "nbformat": 4,
 "nbformat_minor": 2
}
