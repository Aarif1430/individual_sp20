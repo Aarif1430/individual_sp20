{
 "cells": [
  {
   "cell_type": "markdown",
   "metadata": {},
   "source": [
    "# Final Project: Something Smells Fishy "
   ]
  },
  {
   "cell_type": "markdown",
   "metadata": {},
   "source": [
    "# Name & GitHub"
   ]
  },
  {
   "cell_type": "markdown",
   "metadata": {},
   "source": [
    "Name : Fatima Housni\n",
    "GitHub Username : fhousni\n",
    "PID : A10197077"
   ]
  },
  {
   "cell_type": "markdown",
   "metadata": {},
   "source": [
    "# I) Overview"
   ]
  },
  {
   "cell_type": "markdown",
   "metadata": {},
   "source": [
    "In this report, I grouped different seafood restaurants according to zip codes. A population size was assigned to each zip code using census data. I then tested whether restaurants in zip codes with high populations had a higher heath inspection score compared to restaurants in zip codes with a low population. \n",
    "\n",
    "The data analysis showed that there was no real relationship between population size and health inspection score."
   ]
  },
  {
   "cell_type": "markdown",
   "metadata": {},
   "source": [
    "# II) Research Question"
   ]
  },
  {
   "cell_type": "markdown",
   "metadata": {},
   "source": [
    "_Does the size of a population in a given area affect the score of health inspections in restaurants that serve seafood?_ _If so, does population size also determine which type of violation a seafood restaurant is likely to be issued?_\n",
    "\n",
    "Growing up, my family moved around a lot. We have lived in both small towns and large metropolitan cities throughout Southern California. Regardless of where our home is, we were always on the lookout for our next favorite seafood restaurant. From experience, I found that areas with a dense population of people tended to have restaurants that serve fresher seafood. This holds true even within the same city or county. When looking for good, safe seafood to eat, I always look for restaurants located in areas where most people live. I usually avoid restaurants that are in quiet, out-of-the-way locations with less people. I am suspisious of those establishments, and do not want to risk my safety by consuming ill-prepared seafood.\n",
    "\n",
    "I held these beleifs for years. Everything changed, however, after a breif conversation with my sister. She beleives the exact opposite. She prefers seafood establishments located in low-density populations. She feels that the best seafood comes from places with less foot traffic and less patrons. You see, my sister worked as a waitress in a small-town sushi restaurant for two years. Her experience lends weight to her opinion, but I am not ready to give up yet. I decided to dedicate this project to discovering which of us is correct. \n",
    "\n",
    "This project will analyse each health inspection's overall score and the population density of the zip code in which it resides."
   ]
  },
  {
   "cell_type": "markdown",
   "metadata": {},
   "source": [
    "### Background and Prior Work"
   ]
  },
  {
   "cell_type": "markdown",
   "metadata": {},
   "source": [
    "Foodservice establishments are inspected by environmental health specialists in order to make sure the food served there is safe for public consumption. This prevents food-borne illnesses from ravaging communities. Depending on its conditions, the inspector gives the establishment a score ranging from 70 - 100. Each violation of heath safety code is given a point value of 1 or 2. These violations are then added up and subtracted from 100. An 'A' rating is a score from 90 - 100, 'B' : 80-89.5, and finally 'C' : 70 - 79.5. \n",
    "\n",
    "In addition to being assigned a point value, each violation is also assigned a code. This code indicates the nature of the violation. They can be food related such as temperature control, labeling, contamination, improper sources, or improper cooking, etc. Or they can be related to other categories such as poor management and training, chemical risks, equipment, etc. If not careful, the restaurants can lose points due to any one of these factors.\n",
    "\n",
    "By law, food establishments must display their food score rating. This information is also availible through online government or state websites. This project utilizes health score information to complie the data and locate the businesses on a map. Through web scraping, lists of zip codes and the number of people living in that zip code was compiled. Data from Yelp, an online platform that allows business and customers to interact, is also used.\n",
    "\n",
    "Refrences:\n",
    "1. About the Inspection Process, 2020, www.forsyth.cc/PublicHealth/EnvironmentalHealth/aboutInspections.aspx.\n",
    "2. Hicks, D. (2012, May 30). Seafood Safety: What Consumers Need to Know. Retrieved from https://web.uri.edu/foodsafety/seafood-safety-what-consumers-need-to-know/"
   ]
  },
  {
   "cell_type": "markdown",
   "metadata": {},
   "source": [
    "### Hypothesis"
   ]
  },
  {
   "cell_type": "markdown",
   "metadata": {},
   "source": [
    "$H_o$: There is no relationship between population size and health inspection score\n",
    "\n",
    "$H_a$: There is a relationship between population size and health inspection score\n",
    "\n",
    "I hypothesize that there is a relationship between population size and health inspection score. I predict that as population in a given area increases, the health inspection score will also increase.\n",
    "\n",
    "    My reasoning for this is the following: \n",
    "    \n",
    "    The state or county authorities deploy more frequesnt health inspections to restaurants in heavily dense areas compared to sparse areas because of the higher risk to public safety. So a restaurant in downtown LA will receive more yearly inspections than one in Elysian Park, for example. Therefore, these establishments will have more experience and motivation to remain clean and avoid violations. \n",
    "    \n",
    "    Also, when a population in a given area is large, restaurants in those areas will naturally have more foot traffic and more patrons eating there. A busy establishment means that food must be bought on a regular basis since it is being consumed quickly, therefore the food will be more fresh and pose less of a safety risk to people."
   ]
  },
  {
   "cell_type": "markdown",
   "metadata": {},
   "source": [
    "# III) Datasets"
   ]
  },
  {
   "cell_type": "markdown",
   "metadata": {},
   "source": [
    "#### Yelp Data"
   ]
  },
  {
   "cell_type": "markdown",
   "metadata": {},
   "source": [
    "I used the Yelp dataset to find restaurants and food establishments that fall under the food category of seafood or sushi. Sushi was included in this analysis since it is also seafood. The Yelp datset include phone numbers of establishments. This came in handy when wanting to extract and merge Yelp with other datasets."
   ]
  },
  {
   "cell_type": "markdown",
   "metadata": {},
   "source": [
    "#### Restaurant Data"
   ]
  },
  {
   "cell_type": "markdown",
   "metadata": {},
   "source": [
    "The restaurant dataset was useful because it was the bridge between connecting the Yelp food category with health inspections for each restaurant. Restaurant data gives an identification for each health inspection. This identification (hsis id) was used to find the corresponding inspection. Additionally, this dataset gives a zip code (ie. postal code) of the restaurant location. "
   ]
  },
  {
   "cell_type": "markdown",
   "metadata": {},
   "source": [
    "#### Data Scraping for Population Data"
   ]
  },
  {
   "cell_type": "markdown",
   "metadata": {},
   "source": [
    "This dataset was obtained through web-scraping. A list of all relavent zip codes and their respective population number was found on an official state website. All population data of these zip codes came from a census from 2018. Therefore, this population data is applicable to this analysis. \n",
    "\n",
    "Source:  https://www.northcarolina-demographics.com/zip_codes_by_population"
   ]
  },
  {
   "cell_type": "markdown",
   "metadata": {},
   "source": [
    "#### Inspection Data"
   ]
  },
  {
   "cell_type": "markdown",
   "metadata": {},
   "source": [
    "The inspection data was essential to this report. This dataset provided me with the inspection score from each inspection done. Each row is a different inspection, which means that the same restaurant may have been inspected twice. This dataset was connected to the population data through zip codes. "
   ]
  },
  {
   "cell_type": "markdown",
   "metadata": {},
   "source": [
    "#### Violation Data"
   ]
  },
  {
   "cell_type": "markdown",
   "metadata": {},
   "source": [
    "This dataset includes all violations and violation types. This dataset was impsortant in determining the type of violation a restaurant is likely to have. This dataset was connected to the population data through zip codes. "
   ]
  },
  {
   "cell_type": "markdown",
   "metadata": {},
   "source": [
    "### Important: Assumptions / Simplifications "
   ]
  },
  {
   "cell_type": "markdown",
   "metadata": {},
   "source": [
    "I am making a few generalizations about the data to simplify my report. \n",
    "\n",
    "1. Each area a zip code encompases has a unique size and shape, which affects how the population density is distributed within that area. Unfortunately, it is impossible to take this into account here. For this reason, I am assuming each zip code area is approxamitly equal in square mileage (even though in reality, this is not the case). \n",
    "\n",
    "2. The population density is equally distributed within a given zip code area.\n",
    "\n",
    "3. Restaurants that share a zip code have similar customer numbers and foot traffic coming their way. Of course, this is not true. You can have two restaurants next to each other with wildly different popularities, but for the sake of this report we will ignore that. "
   ]
  },
  {
   "cell_type": "markdown",
   "metadata": {},
   "source": [
    "# The Setup"
   ]
  },
  {
   "cell_type": "code",
   "execution_count": null,
   "metadata": {},
   "outputs": [],
   "source": [
    "%matplotlib inline\n",
    "\n",
    "import numpy as np\n",
    "import pandas as pd\n",
    "import matplotlib.pyplot as plt\n",
    "\n",
    "import seaborn as sns\n",
    "sns.set()\n",
    "sns.set_context('talk')\n",
    "\n",
    "import patsy\n",
    "import statsmodels.api as sm\n",
    "import scipy.stats as stats\n",
    "from scipy.stats import ttest_ind, chisquare, normaltest\n",
    "\n",
    "# Import nltk package \n",
    "#   PennTreeBank word tokenizer \n",
    "#   English language stopwords\n",
    "import nltk\n",
    "from nltk.tokenize import word_tokenize\n",
    "from nltk.corpus import stopwords\n",
    "\n",
    "from math import radians, cos, sin, asin, sqrt\n",
    "\n",
    "import warnings\n",
    "warnings.filterwarnings('ignore')\n",
    "\n",
    "# scikit-learn imports\n",
    "#   SVM (Support Vector Machine) classifer \n",
    "#   Vectorizer, which transforms text data into bag-of-words feature\n",
    "#   TF-IDF Vectorizer that first removes widely used words in the dataset and then transforms test data\n",
    "#   Metrics functions to evaluate performance\n",
    "from sklearn.svm import SVC\n",
    "from sklearn.feature_extraction.text import CountVectorizer, TfidfVectorizer\n",
    "from sklearn.metrics import classification_report, precision_recall_fscore_support"
   ]
  },
  {
   "cell_type": "markdown",
   "metadata": {},
   "source": [
    "### Load the Data"
   ]
  },
  {
   "cell_type": "code",
   "execution_count": null,
   "metadata": {},
   "outputs": [],
   "source": [
    "df_ins = pd.read_csv('inspections.csv')\n",
    "df_res = pd.read_csv('restaurants.csv')\n",
    "df_vio = pd.read_csv('violations.csv')\n",
    "df_yelp = pd.read_csv('yelp.csv')\n",
    "df_zip = pd.read_csv('zipcodes.csv')\n",
    "df_pop = pd.read_csv('dataminer.csv')"
   ]
  },
  {
   "cell_type": "markdown",
   "metadata": {},
   "source": [
    "# IV) Data Cleaning"
   ]
  },
  {
   "cell_type": "markdown",
   "metadata": {},
   "source": [
    "### Remove, Rename, and Reorganize columns of dataframes"
   ]
  },
  {
   "cell_type": "code",
   "execution_count": null,
   "metadata": {},
   "outputs": [],
   "source": [
    "#Violation Dataframe\n",
    "\n",
    "df_vio = df_vio.drop(['inspectdate','statecode','questionno','inspectedby','comments',\n",
    "                      'shortdesc'], axis=1)\n",
    "df_vio = df_vio.rename(columns={\"category\":\"violation_category\"})"
   ]
  },
  {
   "cell_type": "code",
   "execution_count": null,
   "metadata": {},
   "outputs": [],
   "source": [
    "# Inspection Dataframe\n",
    "\n",
    "\n",
    "df_ins = df_ins.drop(['date','address1','address2','restaurantopendate','days_from_open_date',\n",
    "                      'name', 'x','y','geocodestatus', 'facilitytype', 'type', 'description', \n",
    "                      'inspectedby', 'inspection_num', 'inspector_id','previous_inspection_date', \n",
    "                      'days_since_previous_inspection', 'previous_inspection_by_same_inspector', \n",
    "                      'num_critical_previous','num_non_critical_previous', 'num_critical_mean_previous',\n",
    "                      'num_non_critical_mean_previous', 'avg_neighbor_num_critical','avg_neighbor_num_non_critical', \n",
    "                      'top_match', 'second_match'], axis=1)\n",
    "\n",
    "\n",
    "df_ins = df_ins.rename(columns={\"phonenumber\":\"phone\"})\n",
    "df_ins['postalcode'] = df_ins['postalcode'].str.replace('-....', '')\n",
    "df_ins = df_ins.dropna(subset=['phone'])"
   ]
  },
  {
   "cell_type": "code",
   "execution_count": null,
   "metadata": {},
   "outputs": [],
   "source": [
    "# Restaurant Dataframe\n",
    "\n",
    "\n",
    "df_res = df_res.drop(['address1','address2','restaurantopendate', 'x','y','name','geocodestatus'], axis=1)\n",
    "df_res = df_res.rename(columns={\"phonenumber\":\"phone\"})\n",
    "df_res['postalcode'] = df_res['postalcode'].str.replace('-....', '')\n",
    "df_res = df_res.dropna(subset=['phone'])"
   ]
  },
  {
   "cell_type": "code",
   "execution_count": null,
   "metadata": {},
   "outputs": [],
   "source": [
    "# Yelp Dataframe\n",
    "\n",
    "df_yelp = df_yelp.drop(['price', 'italian','newamerican','chicken_wings', 'delis', 'bars', 'salad', 'burgers', 'mexican',\n",
    "                       'grocery','breakfast_brunch','coffee','chinese','bbq','bakeries','hotdogs','sandwiches','pizza',\n",
    "                       'tradamerican', 'longitude', 'latitude', 'is_closed', 'name','id','address1','zip_code'], axis=1)\n",
    "df_yelp = df_yelp.dropna(subset=['phone'])\n",
    "\n",
    "# Keep only Seafood or Sushi places\n",
    "\n",
    "df_yelp = df_yelp.loc[(df_yelp['seafood'] == True) | (df_yelp['sushi'] == True)]\n",
    "\n",
    "# Remove leading 1 in Yelp phone numbers\n",
    "\n",
    "df_yelp['phone'] = df_yelp['phone'].str.lstrip('1')\n"
   ]
  },
  {
   "cell_type": "code",
   "execution_count": null,
   "metadata": {},
   "outputs": [],
   "source": [
    "# Population Dataframe\n",
    "\n",
    "df_pop = df_pop.rename(columns={\"Zip Code\":\"postalcode\"})\n",
    "df_pop = df_pop.rename(columns={\"Population\":\"population\"})"
   ]
  },
  {
   "cell_type": "markdown",
   "metadata": {},
   "source": [
    "### Standardize"
   ]
  },
  {
   "cell_type": "code",
   "execution_count": null,
   "metadata": {},
   "outputs": [],
   "source": [
    "# The phone numbers in Restaurants are formatted differently, so we must write a function to correct that\n",
    "\n",
    "def standardize_phonenumber(string):\n",
    "\n",
    "    string = string.lower()\n",
    "    string = string.strip()\n",
    "    \n",
    "    string = string.replace(\"(\", \"\")\n",
    "    string = string.replace(\")\", \"\")\n",
    "    string = string.replace(\"-\", \"\")\n",
    "    string = string.replace(\".\", \"\")\n",
    "    string = string.replace(\" \", \"\")\n",
    "    \n",
    "    string = string.strip()\n",
    "    \n",
    "   \n",
    "    return string"
   ]
  },
  {
   "cell_type": "code",
   "execution_count": null,
   "metadata": {},
   "outputs": [],
   "source": [
    "# Standardize Population for df_zip\n",
    "\n",
    "def standardize_population(string):\n",
    "\n",
    "    string = string.lower()\n",
    "    string = string.strip()\n",
    "    \n",
    "    string = string.replace(\",\", \"\")\n",
    "    string = string.replace(\" \", \"\")\n",
    "    \n",
    "    string = string.strip()\n",
    "    \n",
    "   \n",
    "    return string"
   ]
  },
  {
   "cell_type": "code",
   "execution_count": null,
   "metadata": {},
   "outputs": [],
   "source": [
    "# Standardize Violation category\n",
    "\n",
    "def standardize_category(string):\n",
    "\n",
    "    string = string.lower()\n",
    "    string = string.strip()\n",
    "    \n",
    "    string = string.replace(\"approved source\", \"food\")\n",
    "\n",
    "    string = string.strip()\n",
    "    \n",
    "   \n",
    "    return string"
   ]
  },
  {
   "cell_type": "code",
   "execution_count": null,
   "metadata": {},
   "outputs": [],
   "source": [
    "# Standardize Violation codes\n",
    "\n",
    "def standardize_codes(string):\n",
    "\n",
    "    string = string.lower()\n",
    "    string = string.strip()\n",
    "    \n",
    "    string = string.replace(\"-\", \"\")\n",
    "    string = string.replace(\".\", \"\")\n",
    "\n",
    "    string = string.strip()\n",
    "    \n",
    "   \n",
    "    return string"
   ]
  },
  {
   "cell_type": "code",
   "execution_count": null,
   "metadata": {},
   "outputs": [],
   "source": [
    "# Apply the standardization\n",
    "\n",
    "df_res['phone'] = df_res['phone'].apply(standardize_phonenumber)\n",
    "df_ins['phone'] = df_ins['phone'].apply(standardize_phonenumber)\n",
    "df_ins['phone'] = df_ins['phone'].str.replace('ext...', '')\n",
    "\n",
    "df_pop['population'] = df_pop['population'].apply(standardize_population)\n",
    "df_pop['population'] = df_pop.population.astype(int)\n",
    "\n",
    "df_vio['violationcode'] = df_vio['violationcode'].apply(standardize_codes)\n",
    "df_vio['violation_category'] = df_vio['violation_category'].apply(standardize_category)"
   ]
  },
  {
   "cell_type": "markdown",
   "metadata": {},
   "source": [
    "### Merge Dataframes"
   ]
  },
  {
   "cell_type": "code",
   "execution_count": null,
   "metadata": {},
   "outputs": [],
   "source": [
    "# Merge restaurants with yelp and name it df_ry\n",
    "\n",
    "df_ry = pd.merge(df_res, df_yelp, on='phone', how='inner')"
   ]
  },
  {
   "cell_type": "code",
   "execution_count": null,
   "metadata": {},
   "outputs": [],
   "source": [
    "# Merge inspections with df_ry using hsis id\n",
    "\n",
    "df_ir = pd.merge(df_ry, df_ins, on='hsisid', how='inner')\n",
    "\n",
    "df_ir = df_ir.drop(['X.objectid','num_critical','num_non_critical','hsisid', \n",
    "                    'city_x', 'state_x', 'phone_x','facilitytype', 'rating', \n",
    "                    'review_count', 'seafood', 'sushi', 'city_y', 'state_y', \n",
    "                    'postalcode_y', 'phone_y', 'zip'], axis=1)\n",
    "\n",
    "df_ir = df_ir.rename(columns={\"postalcode_x\":\"postalcode\"})\n",
    "df_ir['postalcode'] = df_ir.postalcode.astype(int)\n"
   ]
  },
  {
   "cell_type": "code",
   "execution_count": null,
   "metadata": {},
   "outputs": [],
   "source": [
    "# Merge df_i with df_pop\n",
    "\n",
    "df_i = pd.merge(df_ir, df_pop, on='postalcode', how='inner')"
   ]
  },
  {
   "cell_type": "code",
   "execution_count": null,
   "metadata": {},
   "outputs": [],
   "source": [
    "# Merge violations with df_ry using object ID\n",
    "\n",
    "df_ryv = pd.merge(df_ry, df_vio, on='X.objectid', how='inner')"
   ]
  },
  {
   "cell_type": "code",
   "execution_count": null,
   "metadata": {},
   "outputs": [],
   "source": [
    "#Clean the new table from unnessecary columns\n",
    "\n",
    "df_ryv = df_ryv.drop(['X.objectid','violationtype',\n",
    "                      'facilitytype', 'rating', \n",
    "                      'review_count', 'seafood','sushi','hsisid_y','critical',\n",
    "                      'severity','pointvalue','observationtype','count',\n",
    "                      'cdcriskfactor','cdcdataitem','hsisid_x', 'state',\n",
    "                      'phone','city'], axis=1)\n"
   ]
  },
  {
   "cell_type": "code",
   "execution_count": null,
   "metadata": {},
   "outputs": [],
   "source": [
    "# Merge df_ryv with df_pop \n",
    "\n",
    "df_ryv[\"postalcode\"] = df_ryv[\"postalcode\"].astype(str).astype(int)\n",
    "df = pd.merge(df_pop, df_ryv, on='postalcode', how='outer')"
   ]
  },
  {
   "cell_type": "code",
   "execution_count": null,
   "metadata": {},
   "outputs": [],
   "source": [
    "# Drop rows with nan values for violation code\n",
    "# Rows will be organized from highest population to lowest\n",
    "\n",
    "df = df.dropna(subset=['violationcode'])"
   ]
  },
  {
   "cell_type": "markdown",
   "metadata": {},
   "source": [
    "### Our final Dataframes"
   ]
  },
  {
   "cell_type": "markdown",
   "metadata": {},
   "source": [
    "df_i is a dataframe of inspections done on restaurants. Each row is a different inspection. A restaurant can have multiple inspections taken at different times."
   ]
  },
  {
   "cell_type": "code",
   "execution_count": 2,
   "metadata": {},
   "outputs": [
    {
     "ename": "NameError",
     "evalue": "name 'df_i' is not defined",
     "output_type": "error",
     "traceback": [
      "\u001b[0;31m---------------------------------------------------------------------------\u001b[0m",
      "\u001b[0;31mNameError\u001b[0m                                 Traceback (most recent call last)",
      "\u001b[0;32m<ipython-input-2-6b7c7afce0a1>\u001b[0m in \u001b[0;36m<module>\u001b[0;34m\u001b[0m\n\u001b[1;32m      1\u001b[0m \u001b[0;31m# df_i is a dataframe of inspections done on restaurants. Each row is a different inspection. A restaurant can have multiple in\u001b[0m\u001b[0;34m\u001b[0m\u001b[0;34m\u001b[0m\u001b[0;34m\u001b[0m\u001b[0m\n\u001b[0;32m----> 2\u001b[0;31m \u001b[0mdf_i\u001b[0m\u001b[0;34m\u001b[0m\u001b[0;34m\u001b[0m\u001b[0m\n\u001b[0m",
      "\u001b[0;31mNameError\u001b[0m: name 'df_i' is not defined"
     ]
    }
   ],
   "source": [
    "df_i"
   ]
  },
  {
   "cell_type": "markdown",
   "metadata": {},
   "source": [
    "df is a dataframe of rows from violations only. This includes the violations types. The violation code referes to what kind of violation it is. A code begining in 3 is a food related violation. A code begining in 7 is a chemical related violation.\n",
    "\n",
    "    Food related violation: contamination, bad temperature control, bad source of seafood, rot, poor cooking, insufficient freezing or cleaning of the seafood, etc\n",
    "    \n",
    "    Chemical related violations: cleaning products out, lubricants, exposed medications out, toxic chemicals, etc\n"
   ]
  },
  {
   "cell_type": "code",
   "execution_count": null,
   "metadata": {},
   "outputs": [],
   "source": [
    "df"
   ]
  },
  {
   "cell_type": "markdown",
   "metadata": {},
   "source": [
    "# Data Analysis & Results"
   ]
  },
  {
   "cell_type": "code",
   "execution_count": null,
   "metadata": {},
   "outputs": [],
   "source": [
    "df_i.describe()"
   ]
  },
  {
   "cell_type": "code",
   "execution_count": null,
   "metadata": {},
   "outputs": [],
   "source": [
    "df.describe()"
   ]
  },
  {
   "cell_type": "markdown",
   "metadata": {},
   "source": [
    "There is a tendency towards higher scores within our dataset"
   ]
  },
  {
   "cell_type": "code",
   "execution_count": null,
   "metadata": {},
   "outputs": [],
   "source": [
    "plt.subplot(1, 3, 1)\n",
    "sns.distplot(df_i['score'], color='#DE2D26')"
   ]
  },
  {
   "cell_type": "markdown",
   "metadata": {},
   "source": [
    "A graph of score vs. population. There seems to be a slight negative correlation which suggests that a higher population leads to a lower score. We cannot be sure of this relationship without doing some numerical analysis."
   ]
  },
  {
   "cell_type": "code",
   "execution_count": null,
   "metadata": {},
   "outputs": [],
   "source": [
    "sns.lmplot(x='population', y='score', data=df_i, \n",
    "           fit_reg= True, height=6, aspect=2, \n",
    "           x_jitter=.5, y_jitter=.5);"
   ]
  },
  {
   "cell_type": "markdown",
   "metadata": {},
   "source": [
    "A critical value of 1 means that the inspector found a dangerous violation during their inspection. A critical value of 0 means that there was no violation or that the violation was minor and posed no immediate threat to public health. \n",
    "\n",
    "The graph below shows a slight skew, but it cannot be determined just from eye. We must carry out a regression analysis."
   ]
  },
  {
   "cell_type": "code",
   "execution_count": null,
   "metadata": {},
   "outputs": [],
   "source": [
    "sns.lmplot(x='population', y='critical', data=df_i, fit_reg=False);"
   ]
  },
  {
   "cell_type": "markdown",
   "metadata": {},
   "source": [
    "#### Violation Category: Food or Chemical"
   ]
  },
  {
   "cell_type": "markdown",
   "metadata": {},
   "source": [
    "The graph below shows that there are more chemical violations than food-related violations."
   ]
  },
  {
   "cell_type": "code",
   "execution_count": null,
   "metadata": {},
   "outputs": [],
   "source": [
    "ax = sns.boxplot(x='violation_category', y='population', data=df)\n",
    "\n",
    "ax.set_title('Relationship of Violation Type to Population Size', loc='left')\n",
    "ax.set_ylabel('Population')\n",
    "ax.set_xlabel('Violation Type');"
   ]
  },
  {
   "cell_type": "code",
   "execution_count": null,
   "metadata": {},
   "outputs": [],
   "source": [
    "# Create two dataframes of high population (>50,000) and low population (<25000)\n",
    "\n",
    "high = ['78475', '66583', '55111', '53803', '53364']\n",
    "low = ['20875', '18856', '10445', '5490']\n",
    "\n",
    "\n",
    "df_high = df[df['population'].isin(high)]\n",
    "df_low = df[df['population'].isin(low)]\n",
    "\n",
    "df_high['violationcode'] = df_high['violationcode'].astype('int') \n",
    "df_low['violationcode'] = df_low['violationcode'].astype('int') "
   ]
  },
  {
   "cell_type": "code",
   "execution_count": null,
   "metadata": {},
   "outputs": [],
   "source": [
    "# High Population Areas: Sum up the population for food violations and chemical violations\n",
    "\n",
    "df_high['population'] = df_high.groupby('violation_category')['population'].transform('sum')\n",
    "df_high['population'].unique()"
   ]
  },
  {
   "cell_type": "code",
   "execution_count": null,
   "metadata": {},
   "outputs": [],
   "source": [
    "# High Population Areas: Sum up the population for food violations and chemical violations\n",
    "\n",
    "df_low['population'] = df_low.groupby('violation_category')['population'].transform('sum')\n",
    "df_low['population'].unique()"
   ]
  },
  {
   "cell_type": "code",
   "execution_count": null,
   "metadata": {},
   "outputs": [],
   "source": [
    "df_high_plot = pd.DataFrame({'Type':['food', 'chemical'], 'val':[306028, 944503]})\n",
    "\n",
    "ax = df_high_plot.plot.bar(x='Type', y='val', rot=0)\n",
    "ax.set_title('Most Common Health Violation Type in High-Population Areas', loc='left')\n",
    "ax.set_ylabel('Population')\n",
    "ax.set_xlabel('Violation Type');"
   ]
  },
  {
   "cell_type": "code",
   "execution_count": null,
   "metadata": {},
   "outputs": [],
   "source": [
    "df_low_plot = pd.DataFrame({'Type':['food', 'chemical'], 'val':[20875, 109313]})\n",
    "\n",
    "ax = df_low_plot.plot.bar(x='Type', y='val', rot=0)\n",
    "ax.set_title('Most Common Health Violation Type in Low-Population Areas', loc='left')\n",
    "ax.set_ylabel('Population')\n",
    "ax.set_xlabel('Violation Type');"
   ]
  },
  {
   "cell_type": "markdown",
   "metadata": {},
   "source": [
    "Both of the graphs show an overwhelmingly larget number of chemical violations compared to food violations. The results of the graphs above show that population size and violation type are most likely not related. More data will be needed for a better analysis."
   ]
  },
  {
   "cell_type": "markdown",
   "metadata": {},
   "source": [
    "### Regression Analysis"
   ]
  },
  {
   "cell_type": "code",
   "execution_count": null,
   "metadata": {},
   "outputs": [],
   "source": [
    "# Is population coorelated to Health Inspection Score\n",
    "outcome, predictors = patsy.dmatrices('score ~ population', df_i)"
   ]
  },
  {
   "cell_type": "code",
   "execution_count": null,
   "metadata": {},
   "outputs": [],
   "source": [
    "# Now, that those are specified, let's run the model\n",
    "mod = sm.OLS(outcome, predictors)"
   ]
  },
  {
   "cell_type": "markdown",
   "metadata": {},
   "source": [
    "The high p-value and low coeff indicate that there is not relationship between population size and health inspection score for seafood restaurants."
   ]
  },
  {
   "cell_type": "code",
   "execution_count": null,
   "metadata": {},
   "outputs": [],
   "source": [
    "## fit the model\n",
    "res = mod.fit()\n",
    "\n",
    "## look at the results\n",
    "print(res.summary())"
   ]
  },
  {
   "cell_type": "markdown",
   "metadata": {},
   "source": [
    "# Ethics & Privacy"
   ]
  },
  {
   "cell_type": "markdown",
   "metadata": {},
   "source": [
    "\n",
    "    My biggest concern during this report was the privacy of the inspectors whose names were listed in the Inspections dataframe. Sometimes, restaurant owners can become disgruntled due to receiving a low score from an inspector, so it is important to protect the privacy of each inspector in order to insure their safety. Their names were not relavant to this report, so any data on the inspectors was removed. \n",
    "\n",
    "    Yelp posts its data set onto its site for consumer purposes. All data used in this report is for educational purposes only.\n",
    "\n",
    "    No specific locations of restaurants were disclosed. Furthermore, all names and identifiers of each establishment was removed since it posed no relavance to this report. \n"
   ]
  },
  {
   "cell_type": "markdown",
   "metadata": {},
   "source": [
    "# Conclusion & Discussion"
   ]
  },
  {
   "cell_type": "markdown",
   "metadata": {},
   "source": [
    "No coorelation was discovered between population size and health inspection score of seafood restaurants. A P-value of over 0.47 indicates that the variations found in the data were likely due to chance. A coeff value of -0.00000587 indicates and increadibly weak negative coerralation between our independent variable (population) and our dependent (health inspection score). As such, there is not sufficient evidence to reject the null hypothesis.\n",
    "\n",
    "Alas, my inital goal of validating my beleifs over my sister's has failed. The data does not provide any evidence that population affects health inspection score. My sister and I must agree to disagree on this matter. \n",
    "\n",
    "In an ideal world, if I could do this project again, I would have a much wider dataset that encompases the whole of the United States. I would have a lot more zip codes to work with and the population variance between zip codes will be much higher.\n",
    "\n",
    "_Parting thoughts:_\n",
    "\n",
    "I beleive that a much more elegant way of approaching this report would be to see if there is a relationship between health inspection score and distance from a city. Using maping data, we can test if health reports are better or worse the farther you get from a dense city. This is a project I would be interested in revisiting in the future when my coding skills improve.\n"
   ]
  }
 ],
 "metadata": {
  "kernelspec": {
   "display_name": "Python 3",
   "language": "python",
   "name": "python3"
  },
  "language_info": {
   "codemirror_mode": {
    "name": "ipython",
    "version": 3
   },
   "file_extension": ".py",
   "mimetype": "text/x-python",
   "name": "python",
   "nbconvert_exporter": "python",
   "pygments_lexer": "ipython3",
   "version": "3.6.7"
  }
 },
 "nbformat": 4,
 "nbformat_minor": 2
}
