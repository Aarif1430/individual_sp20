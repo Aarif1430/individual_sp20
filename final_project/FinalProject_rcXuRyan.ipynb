{
 "cells": [
  {
   "cell_type": "markdown",
   "metadata": {},
   "source": [
    "# COGS 108 - Final Project "
   ]
  },
  {
   "cell_type": "markdown",
   "metadata": {},
   "source": [
    "# Overview"
   ]
  },
  {
   "cell_type": "markdown",
   "metadata": {},
   "source": [
    "This project aims to investigate whether health inspections by a inspector new to the restaurant tend to report more number of violations than a repeat inspector in North Carolina. \n",
    "\n",
    "From the data analysis section, repeat inspectors tend to report 6-8% less violations than their previous inspections. New inspectors tend to still report 6% less critical violations, but 4% more non critical violations than previous inspections by different inspectors. Running t-test for the above samples gurantees the results does not happen randomly."
   ]
  },
  {
   "cell_type": "markdown",
   "metadata": {},
   "source": [
    "# Name & PID\n",
    "\n",
    "- Name: Runchu Xu\n",
    "- PID: A15437260"
   ]
  },
  {
   "cell_type": "markdown",
   "metadata": {},
   "source": [
    "# Research Question"
   ]
  },
  {
   "cell_type": "markdown",
   "metadata": {},
   "source": [
    "Do health inspections by a inspector new to the restaurant tend to report more number of violations than a repeat inspector in North Carolina?"
   ]
  },
  {
   "cell_type": "markdown",
   "metadata": {},
   "source": [
    "## Background and Prior Work"
   ]
  },
  {
   "cell_type": "markdown",
   "metadata": {},
   "source": [
    "According to Wong, \"two thirds of reported foodborne outbreaks from 1998 through 2008 occurred in the restaurant or deli setting, and consumption of food prepared outside the home has been linked to an increased risk of sporadic foodborne diseases\" (Wong, 2015). To reduce the possibility of foodborne diseases, it is important for inspectors to report as much violations as possible during health inspection processes. \n",
    "\n",
    "In \"A Tale of Repetition: Lessons From Florida Restaurant Inspections\", Ginger uses restaurant inspection data of Florida from 2003 to 2010 to suggests that inspectors tend to report 13-18% more violations in their first visit of a  restaurant than their second visit (Ginger, 2018). \n",
    "\n",
    "I want to investigate if the similar statement still holds true in North Carolina from 2012 to 2016, that health inspections a inspector new to the restaurant tend to report more number of violations than a repeat inspector. If so, more inspector ratation between restaurants and to prevent repeated inspections from a same inspector will allow inspectors to report more violations, thus improving the sanitary conditions of North Carolina restaurants and reduce the potential of foodborne diseases.\n",
    "\n",
    "References (include links):\n",
    "- 1) Ginger Zhe Jin & Jungmin Lee, 2018. \"A Tale of Repetition: Lessons from Florida Restaurant Inspections,\" The Journal of Law and Economics, vol 61(1), pages 159-188. https://www.nber.org/papers/w20596\n",
    "- 2) Wong, M. R., McKelvey, W., Ito, K., Schiff, C., Jacobson, J. B., & Kass, D. (2015). Impact of a letter-grade program on restaurant sanitary conditions and diner behavior in New York City. American journal of public health, 105(3), e81–e87. https://doi.org/10.2105/AJPH.2014.302404"
   ]
  },
  {
   "cell_type": "markdown",
   "metadata": {},
   "source": [
    "# Hypothesis\n"
   ]
  },
  {
   "cell_type": "markdown",
   "metadata": {},
   "source": [
    "Health inspections by a inspector new to the restaurant tend to report more number of violations than a repeat inspector in North Carolina.\n",
    "\n",
    "There are two possible reasons according to Ginger. First, inspectors pay a higher level of attention during their first visit of a new restaurant. Second, the restaurant is able to know the inspector's preference of examination after his first inspection and therefore prepare accordingly, making less violations to be reported. (Ginger, 2018)\n"
   ]
  },
  {
   "cell_type": "markdown",
   "metadata": {},
   "source": [
    "# Dataset(s)"
   ]
  },
  {
   "cell_type": "markdown",
   "metadata": {},
   "source": [
    "- Dataset Name: inspections.csv\n",
    "- Link to the dataset: inspections.csv (default directory of jupyter notebook)\n",
    "- Number of observations: 18465\n",
    "\n",
    "Inspections.csv includes part of the health inspection data of North Carolina restaurants from 2012 to 2016. \n",
    "\n",
    "Each observation contains the information of a reported inspection of a restaurant, including number of critical and non critical violations reported in this and previous inspection. \n",
    "\n",
    "Restaurants inspected by the same inspector in previous inspection is marked as \"True\" under the \"previous_inspection_by_same_inspector\" column. False otherwise. If the restaurant has never been inspected before, it's marked as NA.\n",
    "\n",
    "Restaurant in each observation is in a random geographical location within North Carelina, which indicates they are randomly sampled. Therefore, they are suitable for t-test in the Data analysis section. Normality of the sample will be checked in data cleaning section."
   ]
  },
  {
   "cell_type": "markdown",
   "metadata": {},
   "source": [
    "# Setup"
   ]
  },
  {
   "cell_type": "code",
   "execution_count": 1,
   "metadata": {
    "scrolled": true
   },
   "outputs": [
    {
     "data": {
      "text/plain": [
       "(18466, 36)"
      ]
     },
     "execution_count": 1,
     "metadata": {},
     "output_type": "execute_result"
    }
   ],
   "source": [
    "import pandas as pd\n",
    "import numpy as np\n",
    "import matplotlib.pyplot as plt\n",
    "\n",
    "import patsy\n",
    "import scipy.stats as stats\n",
    "from scipy.stats import ttest_ind\n",
    "\n",
    "pd = pd.read_csv('inspections.csv')\n",
    "pd.shape"
   ]
  },
  {
   "cell_type": "markdown",
   "metadata": {},
   "source": [
    "# Data Cleaning"
   ]
  },
  {
   "cell_type": "markdown",
   "metadata": {},
   "source": [
    "First, I drop all columns with unnecessary information. \n",
    "\n",
    "Then, I drop all rows with NA in \"previous_inspection_by_same_inspector\" column. If a observation is marked as NA, it means the restaurant has never been inspected before. Lack of experience and preparation for inspection is likely to become a confounding variable that increases number of violations reported. I only uses restaurants that have been inspected before.\n",
    "\n",
    "After that, I divide df into two parts. \n",
    "pd_repeat includes inspection data of restaurants previously inspected by the same inspector.\n",
    "pd_new includes inspection data of restaurants previously inspected by a different inspector.\n",
    "\n",
    "The purpose of dividing df is to compare the effects of a repeat inspector with a new inspector when inspecting a restaurant."
   ]
  },
  {
   "cell_type": "code",
   "execution_count": 25,
   "metadata": {},
   "outputs": [],
   "source": [
    "pd = pd[['days_since_previous_inspection', 'previous_inspection_by_same_inspector', 'num_critical', 'num_non_critical', 'num_critical_previous', 'num_non_critical_previous']]\n",
    "\n",
    "pd = pd.dropna()\n",
    "\n",
    "pd_repeat = pd[pd['previous_inspection_by_same_inspector'] == True]\n",
    "pd_new = pd[pd['previous_inspection_by_same_inspector'] == False]"
   ]
  },
  {
   "cell_type": "markdown",
   "metadata": {},
   "source": [
    "Check the normality of difference in critical violations reported by repeat inspectors from their previous inspections."
   ]
  },
  {
   "cell_type": "code",
   "execution_count": 3,
   "metadata": {},
   "outputs": [
    {
     "data": {
      "image/png": "[encoded data removed]",
      "text/plain": [
       "<Figure size 432x288 with 1 Axes>"
      ]
     },
     "metadata": {
      "needs_background": "light"
     },
     "output_type": "display_data"
    }
   ],
   "source": [
    "critical_repeat = pd_repeat['num_critical']\n",
    "critical_repeat_pre = pd_repeat['num_critical_previous']\n",
    "critical_repeat_diff = critical_repeat - critical_repeat_pre\n",
    "\n",
    "xs = np.arange(critical_repeat_diff.min(), critical_repeat_diff.max(), 0.1)\n",
    "fit = stats.norm.pdf(xs, np.mean(critical_repeat_diff), np.std(critical_repeat_diff))\n",
    "plt.plot(xs, fit, label = 'Normal Dist.', lw = 4)\n",
    "plt.hist(critical_repeat_diff, density = True, label = 'Actual Data');\n",
    "plt.title('critical difference - repeat')\n",
    "plt.legend();"
   ]
  },
  {
   "cell_type": "markdown",
   "metadata": {},
   "source": [
    "Check the normality of difference in non critical violations reported by repeat inspectors from their previous inspections."
   ]
  },
  {
   "cell_type": "code",
   "execution_count": 4,
   "metadata": {},
   "outputs": [
    {
     "data": {
      "image/png": "[encoded data removed]",
      "text/plain": [
       "<Figure size 432x288 with 1 Axes>"
      ]
     },
     "metadata": {
      "needs_background": "light"
     },
     "output_type": "display_data"
    }
   ],
   "source": [
    "non_critical_repeat = pd_repeat['num_non_critical']\n",
    "non_critical_repeat_pre = pd_repeat['num_non_critical_previous']\n",
    "non_critical_repeat_diff = non_critical_repeat - non_critical_repeat_pre\n",
    "\n",
    "xs = np.arange(non_critical_repeat_diff.min(), non_critical_repeat_diff.max(), 0.1)\n",
    "fit = stats.norm.pdf(xs, np.mean(non_critical_repeat_diff), np.std(non_critical_repeat_diff))\n",
    "plt.plot(xs, fit, label = 'Normal Dist.', lw = 4)\n",
    "plt.hist(non_critical_repeat_diff, density = True, label = 'Actual Data');\n",
    "plt.title('non critical difference - repeat')\n",
    "plt.legend();"
   ]
  },
  {
   "cell_type": "markdown",
   "metadata": {},
   "source": [
    "Check the normality of difference in critical violations reported by inspectors new to the restaurant from previous inspections by a different inspector."
   ]
  },
  {
   "cell_type": "code",
   "execution_count": 19,
   "metadata": {},
   "outputs": [
    {
     "data": {
      "image/png": "[encoded data removed]",
      "text/plain": [
       "<Figure size 432x288 with 1 Axes>"
      ]
     },
     "metadata": {
      "needs_background": "light"
     },
     "output_type": "display_data"
    }
   ],
   "source": [
    "critical_new = pd_new['num_critical']\n",
    "critical_new_pre = pd_new['num_critical_previous']\n",
    "critical_new_diff = critical_new - critical_new_pre\n",
    "\n",
    "xs = np.arange(critical_new_diff.min(), critical_new_diff.max(), 0.1)\n",
    "fit = stats.norm.pdf(xs, np.mean(critical_new_diff), np.std(critical_new_diff))\n",
    "plt.plot(xs, fit, label = 'Normal Dist.', lw = 4)\n",
    "plt.hist(critical_new_diff, density = True, label = 'Actual Data');\n",
    "plt.title('critical difference - new')\n",
    "plt.legend();"
   ]
  },
  {
   "cell_type": "markdown",
   "metadata": {},
   "source": [
    "Check the normality of difference in non critical violations reported by inspectors new to the restaurant from previous inspections by a different inspector."
   ]
  },
  {
   "cell_type": "code",
   "execution_count": 6,
   "metadata": {},
   "outputs": [
    {
     "data": {
      "image/png": "[encoded data removed]",
      "text/plain": [
       "<Figure size 432x288 with 1 Axes>"
      ]
     },
     "metadata": {
      "needs_background": "light"
     },
     "output_type": "display_data"
    }
   ],
   "source": [
    "non_critical_new = pd_new['num_non_critical']\n",
    "non_critical_new_pre = pd_new['num_non_critical_previous']\n",
    "non_critical_new_diff = non_critical_new - non_critical_new_pre\n",
    "\n",
    "xs = np.arange(non_critical_new_diff.min(), non_critical_new_diff.max(), 0.1)\n",
    "fit = stats.norm.pdf(xs, np.mean(non_critical_new_diff), np.std(non_critical_new_diff))\n",
    "plt.plot(xs, fit, label = 'Normal Dist.', lw = 4)\n",
    "plt.hist(non_critical_new_diff, density = True, label = 'Actual Data');\n",
    "plt.title('non critical difference - new')\n",
    "plt.legend();"
   ]
  },
  {
   "cell_type": "markdown",
   "metadata": {},
   "source": [
    "All samples are normally distributed and can be used for t-test in the next section"
   ]
  },
  {
   "cell_type": "markdown",
   "metadata": {},
   "source": [
    "# Data Analysis & Results"
   ]
  },
  {
   "cell_type": "markdown",
   "metadata": {},
   "source": [
    "Find the probability that inspector new to the restaurant is assigned"
   ]
  },
  {
   "cell_type": "code",
   "execution_count": 7,
   "metadata": {},
   "outputs": [
    {
     "name": "stdout",
     "output_type": "stream",
     "text": [
      "possibility of new inspector: 0.36\n"
     ]
    }
   ],
   "source": [
    "pos_new = round(sum(pd['previous_inspection_by_same_inspector'] == False)/pd.shape[0],2)\n",
    "print('possibility of new inspector: ' + str(pos_new))"
   ]
  },
  {
   "cell_type": "markdown",
   "metadata": {},
   "source": [
    "Find the percentage difference in critical violations reported by repeat inspectors from their previous inspections.\n",
    "<br>p0 = repeat inspectors report same number of critical violations as their previous inspection on average.\n",
    "<br>p1 = repeat inspectors report different number of critical violations from their previous inspection on average.\n",
    "<br>Run 1 sample t-test for p1 againest p0 (null hypothesis) and find p-value.\n",
    "<br>p-value/2 is smaller than 0.01, reject p0 and keep p1."
   ]
  },
  {
   "cell_type": "code",
   "execution_count": 31,
   "metadata": {},
   "outputs": [
    {
     "name": "stdout",
     "output_type": "stream",
     "text": [
      "mean of current critical violations: 2.67\n",
      "mean of previous critical violations: 2.9\n",
      "mean of critical violations difference: -0.22\n",
      "percentage difference of violations: -0.08\n",
      "p-value: 3.658987786926902e-22\n"
     ]
    }
   ],
   "source": [
    "print('mean of current critical violations: ' + str(round(critical_repeat.mean(), 2)))\n",
    "print('mean of previous critical violations: ' + str(round(critical_repeat_pre.mean(), 2)))\n",
    "print('mean of critical violations difference: ' + str(round(critical_repeat_diff.mean(), 2)))\n",
    "print('percentage difference of violations: ' + str(round(critical_repeat_diff.mean()/critical_repeat_pre.mean(), 2)))\n",
    "t_val, p_val = stats.ttest_1samp(critical_repeat_diff, 0)\n",
    "print('p-value: ' + str(p_val))"
   ]
  },
  {
   "cell_type": "markdown",
   "metadata": {},
   "source": [
    "Find the percentage difference in non critical violations reported by repeat inspectors from their previous inspections.\n",
    "<br>p0 = repeat inspectors report same number of non critical violations as their previous inspection\n",
    "<br>p1 = repeat inspectors report different number of non critical violations from their previous inspection\n",
    "<br>Run 1 sample t-test for p1 againest p0 (null hypothesis) and find p-value.\n",
    "<br>p-value is smaller than 0.01, reject p0 and keep p1."
   ]
  },
  {
   "cell_type": "code",
   "execution_count": 33,
   "metadata": {},
   "outputs": [
    {
     "name": "stdout",
     "output_type": "stream",
     "text": [
      "mean of current non critical violations: 4.88\n",
      "mean of previous non critical violations: 5.21\n",
      "mean of non critical violations difference: -0.34\n",
      "percentage difference of violations: -0.06\n",
      "p-value: 1.4517151501664154e-34\n"
     ]
    }
   ],
   "source": [
    "print('mean of current non critical violations: ' + str(round(non_critical_repeat.mean(), 2)))\n",
    "print('mean of previous non critical violations: ' + str(round(non_critical_repeat_pre.mean(), 2)))\n",
    "print('mean of non critical violations difference: ' + str(round(non_critical_repeat_diff.mean(), 2)))\n",
    "print('percentage difference of violations: ' + str(round(non_critical_repeat_diff.mean()/non_critical_repeat_pre.mean(), 2)))\n",
    "t_val, p_val = stats.ttest_1samp(non_critical_repeat_diff, 0)\n",
    "print('p-value: ' + str(p_val))"
   ]
  },
  {
   "cell_type": "markdown",
   "metadata": {},
   "source": [
    "Find the percentage difference in critical violations reported by inspectors new to the restaurant from previous inspections by a different inspector.\n",
    "<br>p0 = new inspectors report same number of critical violations as the previous inspection by a different inspector.\n",
    "<br>p1 = new inspectors report different number of critical violations from the previous inspection by a different inspector.\n",
    "<br>Run 1 sample t-test for p1 againest p0 (null hypothesis) and find p-value.\n",
    "<br>p-value is smaller than 0.01, reject p0 and keep p1."
   ]
  },
  {
   "cell_type": "code",
   "execution_count": 29,
   "metadata": {},
   "outputs": [
    {
     "name": "stdout",
     "output_type": "stream",
     "text": [
      "mean of current critical violations: 2.79\n",
      "mean of previous critical violations: 2.97\n",
      "mean of critical violations difference: -0.18\n",
      "percentage difference of violations: -0.06\n",
      "p-value: 9.137439533447575e-05\n"
     ]
    }
   ],
   "source": [
    "print('mean of current critical violations: ' + str(round(critical_new.mean(), 2)))\n",
    "print('mean of previous critical violations: ' + str(round(critical_new_pre.mean(), 2)))\n",
    "print('mean of critical violations difference: ' + str(round(critical_new_diff.mean(), 2)))\n",
    "print('percentage difference of violations: ' + str(round(critical_new_diff.mean()/critical_new_pre.mean(), 2)))\n",
    "t_val, p_val = stats.ttest_1samp(critical_new_diff, 0)\n",
    "print('p-value: ' + str(p_val))"
   ]
  },
  {
   "cell_type": "markdown",
   "metadata": {},
   "source": [
    "Find the percentage difference in non critical violations reported by inspectors new to the restaurant from previous inspections by a different inspector.\n",
    "<br>p0 = new inspectors report same number of non critical violations as the previous inspection by a different inspector.\n",
    "<br>p1 = new inspectors report different number of non critical violations from the previous inspection by a different inspector.\n",
    "<br>Run 1 sample t-test for p1 againest p0 (null hypothesis) and find p-value.\n",
    "<br>p-value is smaller than 0.01, reject p0 and keep p1."
   ]
  },
  {
   "cell_type": "code",
   "execution_count": 21,
   "metadata": {},
   "outputs": [
    {
     "name": "stdout",
     "output_type": "stream",
     "text": [
      "mean of current non critical violations: 5.54\n",
      "mean of previous non critical violations: 5.34\n",
      "mean of non critical violations difference: 0.21\n",
      "percentage difference of violations: 0.04\n",
      "p-value: 0.0003550834201928138\n"
     ]
    }
   ],
   "source": [
    "print('mean of current non critical violations: ' + str(round(non_critical_new.mean(), 2)))\n",
    "print('mean of previous non critical violations: ' + str(round(non_critical_new_pre.mean(), 2)))\n",
    "print('mean of non critical violations difference: ' + str(round(non_critical_new_diff.mean(), 2)))\n",
    "print('percentage difference of violations: ' + str(round(non_critical_new_diff.mean()/non_critical_new_pre.mean(), 2)))\n",
    "t_val, p_val = stats.ttest_1samp(non_critical_new_diff, 0)\n",
    "print('p-value: ' + str(p_val))"
   ]
  },
  {
   "cell_type": "markdown",
   "metadata": {},
   "source": [
    "We can come to the following results:\n",
    "1. Repeat inspectors tend to report 8% less critical violations, and 6% less non critical violations than their previous inspections. \n",
    "2. New inspectors tend to still report 6% less critical violations, but 4% more non critical violations than previous inspections by different inspectors.\n",
    "\n",
    "After running two-tailed 1 sample t-tests, negligible p-value (3.7e-22 and 1.5e-34) suggests that it is unlikely that repeat inspectors report same number of violations as their previous inspection. Similarly, it is unlikely that a inspector new to the restaurant report same number of violations as the previous inspector. Therefore, it guarantees that the above results do not happen randomly. \n",
    "\n",
    "The 2nd conclusion indicates that lower number of violations reported is not solely due to the fact that the restaurant has improved its sanitary condition. I will discuss it more in the Conclusion&Discussion section.\n",
    "\n",
    "\n",
    "\n",
    "\n",
    "\n"
   ]
  },
  {
   "cell_type": "markdown",
   "metadata": {},
   "source": [
    "# Ethics & Privacy"
   ]
  },
  {
   "cell_type": "markdown",
   "metadata": {},
   "source": [
    "The dataset is given as part of the Cogs 108 final project, so I have the permission to use it.\n",
    "\n",
    "In the data cleaning section, I droped all columns with private informations, including the name, address of the restaurants, the name of inspectors, and so on, so that they are not presented to the public. Since the data is completely anonymous, it is impossible that the data is used to harm anyone. \n",
    "\n",
    "There's no identification of which restaurant or inspector chooses to opt out of the use of their data, so I assume they all consent for their data to be used.\n",
    "\n",
    "The conclusion of this project, that more inspector rotation should be applied in restaurant inspection process, is biased against inspectors. If the government want to prevent repeat inspection from a same inspector for each restaurant, inspectors have to rotate to restaurants in different region periodically. This might increase the communting time and the worklord of the inspectors.\n",
    "\n",
    "\n"
   ]
  },
  {
   "cell_type": "markdown",
   "metadata": {},
   "source": [
    "# Conclusion & Discussion"
   ]
  },
  {
   "cell_type": "markdown",
   "metadata": {},
   "source": [
    "Results from data analysis section:\n",
    "1. Repeat inspectors tend to report 8% less critical violations, and 6% less non critical violations than their previous inspections.\n",
    "2. New inspectors tend to still report 6% less critical violations, but 4% more non critical violations than previous inspections by different inspectors.\n",
    "\n",
    "Look at the first conclusion, we don't know if the 6-8% less violations reported by the repeat inspectors is due to the fact that the restaurant has improved its sanitary condition. Due to lack of data, we cannot calculate the impact of such confounding variable. \n",
    "\n",
    "If we look at the second conclusion, we see that a inspector new to the restaurant report 6% less critical violations, 2% more than when inspected by a repeat inspector, which suggests that even if the sanitary condition has improved, new inspector is able to detect 2% more critical violations.\n",
    "\n",
    "If we look at the number of non critical violations reported by a new inspector, is 10% (6+4) more than if inspected by a repeat one. It is clear that a new inspector is much more rigorous when detecting non critical violations. This is probably because the restaurant does not pay as much attention on non critical violations as critical ones, and the restaurant's sanitary conditon does not improve as much in terms of non critical aspects.\n",
    "\n",
    "Therefore, we can cconclude that:\n",
    "- Health inspections by a inspector new to the restaurant tend to report at least 2% more critical and 10% more non critical violations than a repeat inspector in North Carolin when the restaurant's sanitary conditions is unknown.\n",
    "\n",
    "The government may consider making more rotations of inspectors between restaurants to encourage restaurants focus more on non critical aspects of the inspection checklist.\n",
    "\n",
    "The dataset includes data of only North Carlina restaurants, so the conclusion of this project may not be applicate nationwide. Restaurant health inspection processes are different in every state such that the assumption that repeat inspector tend to report less violations than their previous inspections might not even hold true. Similarly, the dataset only includes inspections from 2012 to 2016, so the conclusion might not be applicable in 2020.\n",
    "\n"
   ]
  }
 ],
 "metadata": {
  "kernelspec": {
   "display_name": "Python 3",
   "language": "python",
   "name": "python3"
  },
  "language_info": {
   "codemirror_mode": {
    "name": "ipython",
    "version": 3
   },
   "file_extension": ".py",
   "mimetype": "text/x-python",
   "name": "python",
   "nbconvert_exporter": "python",
   "pygments_lexer": "ipython3",
   "version": "3.6.7"
  }
 },
 "nbformat": 4,
 "nbformat_minor": 2
}
