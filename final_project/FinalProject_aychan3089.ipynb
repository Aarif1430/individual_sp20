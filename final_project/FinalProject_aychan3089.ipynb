{
 "cells": [
  {
   "cell_type": "markdown",
   "metadata": {},
   "source": [
    "# COGS 108 - Final Project "
   ]
  },
  {
   "cell_type": "markdown",
   "metadata": {},
   "source": [
    "# Overview"
   ]
  },
  {
   "cell_type": "markdown",
   "metadata": {},
   "source": [
    "In this project I attempt to see if inspector ratings show some bias towards establishments in the same area as the first rating held there. I attempt to find which areas received significantly lower scores than normal and see if that area then receives a lower rating overall. I found that many areas did seem to have a lower rating as compared to the rest of the data. "
   ]
  },
  {
   "cell_type": "markdown",
   "metadata": {},
   "source": [
    "# Name & PID\n",
    "\n",
    "- Name: Aaron Chan\n",
    "- PID: A14477949"
   ]
  },
  {
   "cell_type": "markdown",
   "metadata": {},
   "source": [
    "# Research Question"
   ]
  },
  {
   "cell_type": "markdown",
   "metadata": {},
   "source": [
    "Do inspector ratings show bias (negative sentiment) towards establishments within the same area (zip code)? "
   ]
  },
  {
   "cell_type": "markdown",
   "metadata": {},
   "source": [
    "## Background and Prior Work"
   ]
  },
  {
   "cell_type": "markdown",
   "metadata": {},
   "source": [
    "Since I was not very familiar with the process of how health insepctions are conducted, I mostly did initial research about how these are done and who they are done by. I found that health insepction regulations are goverened by a state by state basis and can differ slightly based on a county by county basis. The inspections are done by local health departments and are usually done on a scheduled staggered monthly basis (3-months, 6-months, 12-months) depending on the level of risk that the specific establishment has posed in the past (Ref 2,3). Grades usually follow a point system followed by a letter grade system. Resturaunts begin at 100 points and then are deducted based on critical or non-critical violations.  \n",
    "\n",
    "There are studies in the past specifically talking about bias that health inspectors may have when conducting their inspections. One such study talks about how the schedule that inspectors have may influence their grading throughout the day. It was found that, as the day goes on, found violations tend to lower (Ref 7). This is possibly due to the inspector not wanting to go past their work shift or due to fatigue that builds up along the day. \n",
    "\n",
    "Another study talked about the \"outcome bias\" inspectors had. When visiting an establishment in which they found multiple violations, it was found that the inspector will increase scruitny for the next establishment citing an increase of found violations. \n",
    "\n",
    "References (include links):\n",
    "- 1) Typical checklist for health inspections https://blog.typsy.com/how-do-health-inspections-work\n",
    "- 2) Brief overview of which agencies handle what aspects (FDA regulations/local health departments visiting). Explanation of how grades are given (letter/points). https://www.webstaurantstore.com/article/16/health-inspection-checklist.html\n",
    "- 3) The type of inspections listed here (routine/violation followup/customer complaint). A good explanation of risk factor along with how the process adapts to certain risks. Brief introduction of how racism might play a role in inspections. https://recipes.howstuffworks.com/tools-and-techniques/restaurant-health-inspections2.htm (good read overall). \n",
    "- 4) Explanation of the process of an inspection (dyanmic and static) and the process that inspectors go through to find risks and how they are penalized. https://recipes.howstuffworks.com/tools-and-techniques/restaurant-health-inspections3.htm\n",
    "- 5) Talks about possible faults in the system and how it doesn't represent the full picture of what goes on in a resturant daily. https://recipes.howstuffworks.com/tools-and-techniques/restaurant-health-inspections5.htm\n",
    "- 6) Research and discussion on health inspection ratings in Tenessee over 1993 to 2000. https://www.ncbi.nlm.nih.gov/pmc/articles/PMC3323064/ \n",
    "- 7) https://hbr.org/2019/05/to-improve-food-inspections-change-the-way-theyre-scheduled\n",
    "- 8) https://insight.kellogg.northwestern.edu/article/food-safety-inspectors-schedule"
   ]
  },
  {
   "cell_type": "markdown",
   "metadata": {},
   "source": [
    "# Hypothesis\n"
   ]
  },
  {
   "cell_type": "markdown",
   "metadata": {},
   "source": [
    "Inspectors that visit a restaurant nearby a restaurant they previously inspected will show bias in score towards the first restaurant inspected in that area. "
   ]
  },
  {
   "cell_type": "markdown",
   "metadata": {},
   "source": [
    "# Dataset(s)\n",
    "\n",
    "I will be using the given datasets as provided by the class. A very quick look at each of the datasets provided and the attributes that they have lead me to think that I will not be using yelp or zipcodes datasets provided. The main factors that I want to look at is location, zipcode, time of inspection, and score which are all provided in the inspections dataset. \n",
    "\n",
    "- Dataset Name: inspections.csv\n",
    "- Link to the dataset: provided by the class (./data/inspections.csv)\n",
    "- Number of observations: 18466"
   ]
  },
  {
   "cell_type": "markdown",
   "metadata": {},
   "source": [
    "# Setup"
   ]
  },
  {
   "cell_type": "code",
   "execution_count": 85,
   "metadata": {},
   "outputs": [],
   "source": [
    "import pandas as pd \n",
    "import numpy as np\n",
    "import datetime\n",
    "import matplotlib.pyplot as plt\n",
    "plt.rcParams['figure.figsize'] = (14, 14)\n",
    "plt.rcParams.update({'font.size': 16})\n",
    "import seaborn as sns\n",
    "\n",
    "from scipy import stats"
   ]
  },
  {
   "cell_type": "markdown",
   "metadata": {},
   "source": [
    "# Data Cleaning"
   ]
  },
  {
   "cell_type": "markdown",
   "metadata": {},
   "source": [
    "I first went through all the provided datasets so that I could find out which datasets were appropriate for me to use (results in Dataset section). \n",
    "\n",
    "For the dataset I chose in particular (the inspections dataset), I first cleaned the dataset to only use columns of interest. From there, I cleaned the date column from being a string to become a Python datetime object so that I could easily use it for comparison methods. I then made sure that the zipcodes and inspector id were strings as those are categorical variables and should not be confused with as continuous variables. The other columns were clean and useable to be used directly. "
   ]
  },
  {
   "cell_type": "code",
   "execution_count": 2,
   "metadata": {},
   "outputs": [],
   "source": [
    "# load files \n",
    "df_restaurants = pd.read_csv('data/restaurants.csv')\n",
    "df_inspections = pd.read_csv('data/inspections.csv')\n",
    "df_violations = pd.read_csv('data/violations.csv')\n",
    "df_yelp = pd.read_csv('data/yelp.csv')\n",
    "df_zipcodes = pd.read_csv('data/zipcodes.csv')"
   ]
  },
  {
   "cell_type": "code",
   "execution_count": 4,
   "metadata": {},
   "outputs": [],
   "source": [
    "##### FIRST JUST LOOK A BIT AT EACH DATASET TO SEE WHICH ONES WILL BE USEFUL #####"
   ]
  },
  {
   "cell_type": "code",
   "execution_count": 3,
   "metadata": {},
   "outputs": [
    {
     "data": {
      "text/html": [
       "<div>\n",
       "<style scoped>\n",
       "    .dataframe tbody tr th:only-of-type {\n",
       "        vertical-align: middle;\n",
       "    }\n",
       "\n",
       "    .dataframe tbody tr th {\n",
       "        vertical-align: top;\n",
       "    }\n",
       "\n",
       "    .dataframe thead th {\n",
       "        text-align: right;\n",
       "    }\n",
       "</style>\n",
       "<table border=\"1\" class=\"dataframe\">\n",
       "  <thead>\n",
       "    <tr style=\"text-align: right;\">\n",
       "      <th></th>\n",
       "      <th>X.objectid</th>\n",
       "      <th>hsisid</th>\n",
       "      <th>name</th>\n",
       "      <th>address1</th>\n",
       "      <th>address2</th>\n",
       "      <th>city</th>\n",
       "      <th>state</th>\n",
       "      <th>postalcode</th>\n",
       "      <th>phonenumber</th>\n",
       "      <th>restaurantopendate</th>\n",
       "      <th>facilitytype</th>\n",
       "      <th>x</th>\n",
       "      <th>y</th>\n",
       "      <th>geocodestatus</th>\n",
       "    </tr>\n",
       "  </thead>\n",
       "  <tbody>\n",
       "    <tr>\n",
       "      <th>0</th>\n",
       "      <td>1001</td>\n",
       "      <td>4092017230</td>\n",
       "      <td>SPRING CAFE 2</td>\n",
       "      <td>2900-104 SPRING FOREST RD</td>\n",
       "      <td>NaN</td>\n",
       "      <td>RALEIGH</td>\n",
       "      <td>NC</td>\n",
       "      <td>27616-1895</td>\n",
       "      <td>(919) 977-3679</td>\n",
       "      <td>2016-05-26T00:00:00.000Z</td>\n",
       "      <td>Restaurant</td>\n",
       "      <td>-78.591634</td>\n",
       "      <td>35.855487</td>\n",
       "      <td>M</td>\n",
       "    </tr>\n",
       "    <tr>\n",
       "      <th>1</th>\n",
       "      <td>1002</td>\n",
       "      <td>4092040338</td>\n",
       "      <td>CAROLINA CLASSIC HOT DOGS #2 (WCID #549)</td>\n",
       "      <td>309 HOLLOMAN ST</td>\n",
       "      <td>NaN</td>\n",
       "      <td>APEX</td>\n",
       "      <td>NC</td>\n",
       "      <td>27502</td>\n",
       "      <td>NaN</td>\n",
       "      <td>2016-07-01T00:00:00.000Z</td>\n",
       "      <td>Pushcarts</td>\n",
       "      <td>-78.855348</td>\n",
       "      <td>35.730219</td>\n",
       "      <td>M</td>\n",
       "    </tr>\n",
       "    <tr>\n",
       "      <th>2</th>\n",
       "      <td>1003</td>\n",
       "      <td>4092014444</td>\n",
       "      <td>Taco Bell #22798</td>\n",
       "      <td>2207 S MAIN ST</td>\n",
       "      <td>NaN</td>\n",
       "      <td>WAKE FOREST</td>\n",
       "      <td>NC</td>\n",
       "      <td>27587</td>\n",
       "      <td>(919) 554-4924</td>\n",
       "      <td>2005-12-05T00:00:00.000Z</td>\n",
       "      <td>Restaurant</td>\n",
       "      <td>-78.536145</td>\n",
       "      <td>35.946695</td>\n",
       "      <td>M</td>\n",
       "    </tr>\n",
       "  </tbody>\n",
       "</table>\n",
       "</div>"
      ],
      "text/plain": [
       "   X.objectid      hsisid                                      name  \\\n",
       "0        1001  4092017230                             SPRING CAFE 2   \n",
       "1        1002  4092040338  CAROLINA CLASSIC HOT DOGS #2 (WCID #549)   \n",
       "2        1003  4092014444                          Taco Bell #22798   \n",
       "\n",
       "                     address1 address2         city state  postalcode  \\\n",
       "0  2900-104 SPRING FOREST RD       NaN      RALEIGH    NC  27616-1895   \n",
       "1            309 HOLLOMAN ST       NaN         APEX    NC       27502   \n",
       "2             2207 S MAIN ST       NaN  WAKE FOREST    NC       27587   \n",
       "\n",
       "      phonenumber        restaurantopendate facilitytype          x  \\\n",
       "0  (919) 977-3679  2016-05-26T00:00:00.000Z   Restaurant -78.591634   \n",
       "1             NaN  2016-07-01T00:00:00.000Z    Pushcarts -78.855348   \n",
       "2  (919) 554-4924  2005-12-05T00:00:00.000Z   Restaurant -78.536145   \n",
       "\n",
       "           y geocodestatus  \n",
       "0  35.855487             M  \n",
       "1  35.730219             M  \n",
       "2  35.946695             M  "
      ]
     },
     "execution_count": 3,
     "metadata": {},
     "output_type": "execute_result"
    }
   ],
   "source": [
    "df_restaurants.head(3)"
   ]
  },
  {
   "cell_type": "code",
   "execution_count": 5,
   "metadata": {},
   "outputs": [
    {
     "name": "stdout",
     "output_type": "stream",
     "text": [
      "(18466, 36)\n",
      "Index(['hsisid', 'date', 'name', 'address1', 'address2', 'city', 'state',\n",
      "       'postalcode', 'phonenumber', 'restaurantopendate',\n",
      "       'days_from_open_date', 'facilitytype', 'x', 'y', 'geocodestatus', 'zip',\n",
      "       'type', 'description', 'inspectedby', 'inspection_num', 'inspector_id',\n",
      "       'previous_inspection_date', 'days_since_previous_inspection',\n",
      "       'previous_inspection_by_same_inspector', 'score', 'num_critical',\n",
      "       'num_non_critical', 'num_critical_previous',\n",
      "       'num_non_critical_previous', 'num_critical_mean_previous',\n",
      "       'num_non_critical_mean_previous', 'avg_neighbor_num_critical',\n",
      "       'avg_neighbor_num_non_critical', 'top_match', 'second_match',\n",
      "       'critical'],\n",
      "      dtype='object')\n"
     ]
    },
    {
     "data": {
      "text/html": [
       "<div>\n",
       "<style scoped>\n",
       "    .dataframe tbody tr th:only-of-type {\n",
       "        vertical-align: middle;\n",
       "    }\n",
       "\n",
       "    .dataframe tbody tr th {\n",
       "        vertical-align: top;\n",
       "    }\n",
       "\n",
       "    .dataframe thead th {\n",
       "        text-align: right;\n",
       "    }\n",
       "</style>\n",
       "<table border=\"1\" class=\"dataframe\">\n",
       "  <thead>\n",
       "    <tr style=\"text-align: right;\">\n",
       "      <th></th>\n",
       "      <th>0</th>\n",
       "      <th>1</th>\n",
       "      <th>2</th>\n",
       "    </tr>\n",
       "  </thead>\n",
       "  <tbody>\n",
       "    <tr>\n",
       "      <th>hsisid</th>\n",
       "      <td>4092013748</td>\n",
       "      <td>4092014046</td>\n",
       "      <td>4092015191</td>\n",
       "    </tr>\n",
       "    <tr>\n",
       "      <th>date</th>\n",
       "      <td>2012-09-21T00:00:00Z</td>\n",
       "      <td>2012-09-21T00:00:00Z</td>\n",
       "      <td>2012-09-21T00:00:00Z</td>\n",
       "    </tr>\n",
       "    <tr>\n",
       "      <th>name</th>\n",
       "      <td>Cafe 3000 At Wake Med</td>\n",
       "      <td>Overtime Sports Pub</td>\n",
       "      <td>TASTE OF CHINA</td>\n",
       "    </tr>\n",
       "    <tr>\n",
       "      <th>address1</th>\n",
       "      <td>3000 New Bern Ave</td>\n",
       "      <td>1030-149 N Rogers Ln</td>\n",
       "      <td>6209 ROCK QUARRY RD</td>\n",
       "    </tr>\n",
       "    <tr>\n",
       "      <th>address2</th>\n",
       "      <td>NaN</td>\n",
       "      <td>NaN</td>\n",
       "      <td>STE 126</td>\n",
       "    </tr>\n",
       "    <tr>\n",
       "      <th>city</th>\n",
       "      <td>raleigh</td>\n",
       "      <td>raleigh</td>\n",
       "      <td>raleigh</td>\n",
       "    </tr>\n",
       "    <tr>\n",
       "      <th>state</th>\n",
       "      <td>NC</td>\n",
       "      <td>NC</td>\n",
       "      <td>NC</td>\n",
       "    </tr>\n",
       "    <tr>\n",
       "      <th>postalcode</th>\n",
       "      <td>27610</td>\n",
       "      <td>27610</td>\n",
       "      <td>27610</td>\n",
       "    </tr>\n",
       "    <tr>\n",
       "      <th>phonenumber</th>\n",
       "      <td>(919) 350-8047</td>\n",
       "      <td>(919) 255-9556</td>\n",
       "      <td>(919) 773-2285</td>\n",
       "    </tr>\n",
       "    <tr>\n",
       "      <th>restaurantopendate</th>\n",
       "      <td>2002-12-21T00:00:00Z</td>\n",
       "      <td>2004-05-04T00:00:00Z</td>\n",
       "      <td>2008-08-04T00:00:00Z</td>\n",
       "    </tr>\n",
       "    <tr>\n",
       "      <th>days_from_open_date</th>\n",
       "      <td>3562</td>\n",
       "      <td>3062</td>\n",
       "      <td>1509</td>\n",
       "    </tr>\n",
       "    <tr>\n",
       "      <th>facilitytype</th>\n",
       "      <td>Restaurant</td>\n",
       "      <td>Restaurant</td>\n",
       "      <td>Restaurant</td>\n",
       "    </tr>\n",
       "    <tr>\n",
       "      <th>x</th>\n",
       "      <td>-78.588</td>\n",
       "      <td>-78.5497</td>\n",
       "      <td>-78.548</td>\n",
       "    </tr>\n",
       "    <tr>\n",
       "      <th>y</th>\n",
       "      <td>35.7839</td>\n",
       "      <td>35.792</td>\n",
       "      <td>35.7231</td>\n",
       "    </tr>\n",
       "    <tr>\n",
       "      <th>geocodestatus</th>\n",
       "      <td>M</td>\n",
       "      <td>M</td>\n",
       "      <td>M</td>\n",
       "    </tr>\n",
       "    <tr>\n",
       "      <th>zip</th>\n",
       "      <td>27610</td>\n",
       "      <td>27610</td>\n",
       "      <td>27610</td>\n",
       "    </tr>\n",
       "    <tr>\n",
       "      <th>type</th>\n",
       "      <td>Inspection</td>\n",
       "      <td>Inspection</td>\n",
       "      <td>Inspection</td>\n",
       "    </tr>\n",
       "    <tr>\n",
       "      <th>description</th>\n",
       "      <td>This facility cooks eggs to order in Grill sta...</td>\n",
       "      <td>NaN</td>\n",
       "      <td>NaN</td>\n",
       "    </tr>\n",
       "    <tr>\n",
       "      <th>inspectedby</th>\n",
       "      <td>Melissa Harrison</td>\n",
       "      <td>Christopher Walker</td>\n",
       "      <td>Anne Bartoli</td>\n",
       "    </tr>\n",
       "    <tr>\n",
       "      <th>inspection_num</th>\n",
       "      <td>1</td>\n",
       "      <td>1</td>\n",
       "      <td>1</td>\n",
       "    </tr>\n",
       "    <tr>\n",
       "      <th>inspector_id</th>\n",
       "      <td>27</td>\n",
       "      <td>7</td>\n",
       "      <td>3</td>\n",
       "    </tr>\n",
       "    <tr>\n",
       "      <th>previous_inspection_date</th>\n",
       "      <td>NaN</td>\n",
       "      <td>NaN</td>\n",
       "      <td>NaN</td>\n",
       "    </tr>\n",
       "    <tr>\n",
       "      <th>days_since_previous_inspection</th>\n",
       "      <td>NaN</td>\n",
       "      <td>NaN</td>\n",
       "      <td>NaN</td>\n",
       "    </tr>\n",
       "    <tr>\n",
       "      <th>previous_inspection_by_same_inspector</th>\n",
       "      <td>NaN</td>\n",
       "      <td>NaN</td>\n",
       "      <td>NaN</td>\n",
       "    </tr>\n",
       "    <tr>\n",
       "      <th>score</th>\n",
       "      <td>96</td>\n",
       "      <td>98</td>\n",
       "      <td>97</td>\n",
       "    </tr>\n",
       "    <tr>\n",
       "      <th>num_critical</th>\n",
       "      <td>9</td>\n",
       "      <td>0</td>\n",
       "      <td>4</td>\n",
       "    </tr>\n",
       "    <tr>\n",
       "      <th>num_non_critical</th>\n",
       "      <td>7</td>\n",
       "      <td>11</td>\n",
       "      <td>8</td>\n",
       "    </tr>\n",
       "    <tr>\n",
       "      <th>num_critical_previous</th>\n",
       "      <td>NaN</td>\n",
       "      <td>NaN</td>\n",
       "      <td>NaN</td>\n",
       "    </tr>\n",
       "    <tr>\n",
       "      <th>num_non_critical_previous</th>\n",
       "      <td>NaN</td>\n",
       "      <td>NaN</td>\n",
       "      <td>NaN</td>\n",
       "    </tr>\n",
       "    <tr>\n",
       "      <th>num_critical_mean_previous</th>\n",
       "      <td>NaN</td>\n",
       "      <td>NaN</td>\n",
       "      <td>NaN</td>\n",
       "    </tr>\n",
       "    <tr>\n",
       "      <th>num_non_critical_mean_previous</th>\n",
       "      <td>NaN</td>\n",
       "      <td>NaN</td>\n",
       "      <td>NaN</td>\n",
       "    </tr>\n",
       "    <tr>\n",
       "      <th>avg_neighbor_num_critical</th>\n",
       "      <td>NaN</td>\n",
       "      <td>NaN</td>\n",
       "      <td>NaN</td>\n",
       "    </tr>\n",
       "    <tr>\n",
       "      <th>avg_neighbor_num_non_critical</th>\n",
       "      <td>NaN</td>\n",
       "      <td>NaN</td>\n",
       "      <td>NaN</td>\n",
       "    </tr>\n",
       "    <tr>\n",
       "      <th>top_match</th>\n",
       "      <td>NaN</td>\n",
       "      <td>NaN</td>\n",
       "      <td>NaN</td>\n",
       "    </tr>\n",
       "    <tr>\n",
       "      <th>second_match</th>\n",
       "      <td>NaN</td>\n",
       "      <td>NaN</td>\n",
       "      <td>NaN</td>\n",
       "    </tr>\n",
       "    <tr>\n",
       "      <th>critical</th>\n",
       "      <td>1</td>\n",
       "      <td>0</td>\n",
       "      <td>1</td>\n",
       "    </tr>\n",
       "  </tbody>\n",
       "</table>\n",
       "</div>"
      ],
      "text/plain": [
       "                                                                                       0  \\\n",
       "hsisid                                                                        4092013748   \n",
       "date                                                                2012-09-21T00:00:00Z   \n",
       "name                                                               Cafe 3000 At Wake Med   \n",
       "address1                                                               3000 New Bern Ave   \n",
       "address2                                                                             NaN   \n",
       "city                                                                             raleigh   \n",
       "state                                                                                 NC   \n",
       "postalcode                                                                         27610   \n",
       "phonenumber                                                               (919) 350-8047   \n",
       "restaurantopendate                                                  2002-12-21T00:00:00Z   \n",
       "days_from_open_date                                                                 3562   \n",
       "facilitytype                                                                  Restaurant   \n",
       "x                                                                                -78.588   \n",
       "y                                                                                35.7839   \n",
       "geocodestatus                                                                          M   \n",
       "zip                                                                                27610   \n",
       "type                                                                          Inspection   \n",
       "description                            This facility cooks eggs to order in Grill sta...   \n",
       "inspectedby                                                             Melissa Harrison   \n",
       "inspection_num                                                                         1   \n",
       "inspector_id                                                                          27   \n",
       "previous_inspection_date                                                             NaN   \n",
       "days_since_previous_inspection                                                       NaN   \n",
       "previous_inspection_by_same_inspector                                                NaN   \n",
       "score                                                                                 96   \n",
       "num_critical                                                                           9   \n",
       "num_non_critical                                                                       7   \n",
       "num_critical_previous                                                                NaN   \n",
       "num_non_critical_previous                                                            NaN   \n",
       "num_critical_mean_previous                                                           NaN   \n",
       "num_non_critical_mean_previous                                                       NaN   \n",
       "avg_neighbor_num_critical                                                            NaN   \n",
       "avg_neighbor_num_non_critical                                                        NaN   \n",
       "top_match                                                                            NaN   \n",
       "second_match                                                                         NaN   \n",
       "critical                                                                               1   \n",
       "\n",
       "                                                          1  \\\n",
       "hsisid                                           4092014046   \n",
       "date                                   2012-09-21T00:00:00Z   \n",
       "name                                    Overtime Sports Pub   \n",
       "address1                               1030-149 N Rogers Ln   \n",
       "address2                                                NaN   \n",
       "city                                                raleigh   \n",
       "state                                                    NC   \n",
       "postalcode                                            27610   \n",
       "phonenumber                                  (919) 255-9556   \n",
       "restaurantopendate                     2004-05-04T00:00:00Z   \n",
       "days_from_open_date                                    3062   \n",
       "facilitytype                                     Restaurant   \n",
       "x                                                  -78.5497   \n",
       "y                                                    35.792   \n",
       "geocodestatus                                             M   \n",
       "zip                                                   27610   \n",
       "type                                             Inspection   \n",
       "description                                             NaN   \n",
       "inspectedby                              Christopher Walker   \n",
       "inspection_num                                            1   \n",
       "inspector_id                                              7   \n",
       "previous_inspection_date                                NaN   \n",
       "days_since_previous_inspection                          NaN   \n",
       "previous_inspection_by_same_inspector                   NaN   \n",
       "score                                                    98   \n",
       "num_critical                                              0   \n",
       "num_non_critical                                         11   \n",
       "num_critical_previous                                   NaN   \n",
       "num_non_critical_previous                               NaN   \n",
       "num_critical_mean_previous                              NaN   \n",
       "num_non_critical_mean_previous                          NaN   \n",
       "avg_neighbor_num_critical                               NaN   \n",
       "avg_neighbor_num_non_critical                           NaN   \n",
       "top_match                                               NaN   \n",
       "second_match                                            NaN   \n",
       "critical                                                  0   \n",
       "\n",
       "                                                          2  \n",
       "hsisid                                           4092015191  \n",
       "date                                   2012-09-21T00:00:00Z  \n",
       "name                                         TASTE OF CHINA  \n",
       "address1                                6209 ROCK QUARRY RD  \n",
       "address2                                            STE 126  \n",
       "city                                                raleigh  \n",
       "state                                                    NC  \n",
       "postalcode                                            27610  \n",
       "phonenumber                                  (919) 773-2285  \n",
       "restaurantopendate                     2008-08-04T00:00:00Z  \n",
       "days_from_open_date                                    1509  \n",
       "facilitytype                                     Restaurant  \n",
       "x                                                   -78.548  \n",
       "y                                                   35.7231  \n",
       "geocodestatus                                             M  \n",
       "zip                                                   27610  \n",
       "type                                             Inspection  \n",
       "description                                             NaN  \n",
       "inspectedby                                    Anne Bartoli  \n",
       "inspection_num                                            1  \n",
       "inspector_id                                              3  \n",
       "previous_inspection_date                                NaN  \n",
       "days_since_previous_inspection                          NaN  \n",
       "previous_inspection_by_same_inspector                   NaN  \n",
       "score                                                    97  \n",
       "num_critical                                              4  \n",
       "num_non_critical                                          8  \n",
       "num_critical_previous                                   NaN  \n",
       "num_non_critical_previous                               NaN  \n",
       "num_critical_mean_previous                              NaN  \n",
       "num_non_critical_mean_previous                          NaN  \n",
       "avg_neighbor_num_critical                               NaN  \n",
       "avg_neighbor_num_non_critical                           NaN  \n",
       "top_match                                               NaN  \n",
       "second_match                                            NaN  \n",
       "critical                                                  1  "
      ]
     },
     "execution_count": 5,
     "metadata": {},
     "output_type": "execute_result"
    }
   ],
   "source": [
    "# transpose the head so that I can clearly see what values go in what columns \n",
    "print(df_inspections.shape)\n",
    "print(df_inspections.columns)\n",
    "df_inspections.head(3).T"
   ]
  },
  {
   "cell_type": "code",
   "execution_count": 6,
   "metadata": {},
   "outputs": [
    {
     "data": {
      "text/html": [
       "<div>\n",
       "<style scoped>\n",
       "    .dataframe tbody tr th:only-of-type {\n",
       "        vertical-align: middle;\n",
       "    }\n",
       "\n",
       "    .dataframe tbody tr th {\n",
       "        vertical-align: top;\n",
       "    }\n",
       "\n",
       "    .dataframe thead th {\n",
       "        text-align: right;\n",
       "    }\n",
       "</style>\n",
       "<table border=\"1\" class=\"dataframe\">\n",
       "  <thead>\n",
       "    <tr style=\"text-align: right;\">\n",
       "      <th></th>\n",
       "      <th>X.objectid</th>\n",
       "      <th>hsisid</th>\n",
       "      <th>inspectdate</th>\n",
       "      <th>category</th>\n",
       "      <th>statecode</th>\n",
       "      <th>critical</th>\n",
       "      <th>questionno</th>\n",
       "      <th>violationcode</th>\n",
       "      <th>severity</th>\n",
       "      <th>shortdesc</th>\n",
       "      <th>inspectedby</th>\n",
       "      <th>comments</th>\n",
       "      <th>pointvalue</th>\n",
       "      <th>observationtype</th>\n",
       "      <th>violationtype</th>\n",
       "      <th>count</th>\n",
       "      <th>cdcriskfactor</th>\n",
       "      <th>cdcdataitem</th>\n",
       "    </tr>\n",
       "  </thead>\n",
       "  <tbody>\n",
       "    <tr>\n",
       "      <th>0</th>\n",
       "      <td>2149</td>\n",
       "      <td>4092015279</td>\n",
       "      <td>2014-09-22T00:00:00.000Z</td>\n",
       "      <td>Chemical</td>\n",
       "      <td>.2653,.2657</td>\n",
       "      <td>Yes</td>\n",
       "      <td>26</td>\n",
       "      <td>7-102.11</td>\n",
       "      <td>Priority Foundation</td>\n",
       "      <td>Toxic substances properly identified, stored, ...</td>\n",
       "      <td>Lucy Schrum</td>\n",
       "      <td>7-102.11; Priority Foundation - Found unlabele...</td>\n",
       "      <td>0</td>\n",
       "      <td>Out</td>\n",
       "      <td>R</td>\n",
       "      <td>NaN</td>\n",
       "      <td>NaN</td>\n",
       "      <td>NaN</td>\n",
       "    </tr>\n",
       "    <tr>\n",
       "      <th>1</th>\n",
       "      <td>2150</td>\n",
       "      <td>4092014572</td>\n",
       "      <td>2014-09-29T00:00:00.000Z</td>\n",
       "      <td>Chemical</td>\n",
       "      <td>.2653,.2657</td>\n",
       "      <td>Yes</td>\n",
       "      <td>26</td>\n",
       "      <td>7-102.11</td>\n",
       "      <td>Priority Foundation</td>\n",
       "      <td>Toxic substances properly identified, stored, ...</td>\n",
       "      <td>Daryl Beasley</td>\n",
       "      <td>7-102.11; Priority Foundation; One sanitizer b...</td>\n",
       "      <td>0</td>\n",
       "      <td>Out</td>\n",
       "      <td>CDI</td>\n",
       "      <td>NaN</td>\n",
       "      <td>NaN</td>\n",
       "      <td>NaN</td>\n",
       "    </tr>\n",
       "    <tr>\n",
       "      <th>2</th>\n",
       "      <td>2151</td>\n",
       "      <td>4092015906</td>\n",
       "      <td>2014-10-01T00:00:00.000Z</td>\n",
       "      <td>Chemical</td>\n",
       "      <td>.2653,.2657</td>\n",
       "      <td>Yes</td>\n",
       "      <td>26</td>\n",
       "      <td>7-102.11</td>\n",
       "      <td>Priority Foundation</td>\n",
       "      <td>Toxic substances properly identified, stored, ...</td>\n",
       "      <td>Lucy Schrum</td>\n",
       "      <td>7-102.11; Priority Foundation - Found an unlab...</td>\n",
       "      <td>1</td>\n",
       "      <td>Out</td>\n",
       "      <td>CDI</td>\n",
       "      <td>NaN</td>\n",
       "      <td>NaN</td>\n",
       "      <td>NaN</td>\n",
       "    </tr>\n",
       "  </tbody>\n",
       "</table>\n",
       "</div>"
      ],
      "text/plain": [
       "   X.objectid      hsisid               inspectdate  category    statecode  \\\n",
       "0        2149  4092015279  2014-09-22T00:00:00.000Z  Chemical  .2653,.2657   \n",
       "1        2150  4092014572  2014-09-29T00:00:00.000Z  Chemical  .2653,.2657   \n",
       "2        2151  4092015906  2014-10-01T00:00:00.000Z  Chemical  .2653,.2657   \n",
       "\n",
       "  critical  questionno violationcode             severity  \\\n",
       "0      Yes          26      7-102.11  Priority Foundation   \n",
       "1      Yes          26      7-102.11  Priority Foundation   \n",
       "2      Yes          26      7-102.11  Priority Foundation   \n",
       "\n",
       "                                           shortdesc    inspectedby  \\\n",
       "0  Toxic substances properly identified, stored, ...    Lucy Schrum   \n",
       "1  Toxic substances properly identified, stored, ...  Daryl Beasley   \n",
       "2  Toxic substances properly identified, stored, ...    Lucy Schrum   \n",
       "\n",
       "                                            comments  pointvalue  \\\n",
       "0  7-102.11; Priority Foundation - Found unlabele...           0   \n",
       "1  7-102.11; Priority Foundation; One sanitizer b...           0   \n",
       "2  7-102.11; Priority Foundation - Found an unlab...           1   \n",
       "\n",
       "  observationtype violationtype  count cdcriskfactor cdcdataitem  \n",
       "0             Out             R    NaN           NaN         NaN  \n",
       "1             Out           CDI    NaN           NaN         NaN  \n",
       "2             Out           CDI    NaN           NaN         NaN  "
      ]
     },
     "execution_count": 6,
     "metadata": {},
     "output_type": "execute_result"
    }
   ],
   "source": [
    "df_violations.head(3)"
   ]
  },
  {
   "cell_type": "code",
   "execution_count": 7,
   "metadata": {},
   "outputs": [
    {
     "data": {
      "text/html": [
       "<div>\n",
       "<style scoped>\n",
       "    .dataframe tbody tr th:only-of-type {\n",
       "        vertical-align: middle;\n",
       "    }\n",
       "\n",
       "    .dataframe tbody tr th {\n",
       "        vertical-align: top;\n",
       "    }\n",
       "\n",
       "    .dataframe thead th {\n",
       "        text-align: right;\n",
       "    }\n",
       "</style>\n",
       "<table border=\"1\" class=\"dataframe\">\n",
       "  <thead>\n",
       "    <tr style=\"text-align: right;\">\n",
       "      <th></th>\n",
       "      <th>id</th>\n",
       "      <th>name</th>\n",
       "      <th>is_closed</th>\n",
       "      <th>rating</th>\n",
       "      <th>review_count</th>\n",
       "      <th>address1</th>\n",
       "      <th>zip_code</th>\n",
       "      <th>latitude</th>\n",
       "      <th>longitude</th>\n",
       "      <th>price</th>\n",
       "      <th>...</th>\n",
       "      <th>italian</th>\n",
       "      <th>newamerican</th>\n",
       "      <th>chicken_wings</th>\n",
       "      <th>delis</th>\n",
       "      <th>bars</th>\n",
       "      <th>salad</th>\n",
       "      <th>seafood</th>\n",
       "      <th>bbq</th>\n",
       "      <th>bakeries</th>\n",
       "      <th>sushi</th>\n",
       "    </tr>\n",
       "  </thead>\n",
       "  <tbody>\n",
       "    <tr>\n",
       "      <th>0</th>\n",
       "      <td>42nd-street-oyster-bar-rdu-airport-morrisville</td>\n",
       "      <td>42nd street oyster bar - rdu airport</td>\n",
       "      <td>False</td>\n",
       "      <td>2.5</td>\n",
       "      <td>23</td>\n",
       "      <td>2400 John Brantley Blvd</td>\n",
       "      <td>27560</td>\n",
       "      <td>35.873808</td>\n",
       "      <td>-78.790896</td>\n",
       "      <td>$$</td>\n",
       "      <td>...</td>\n",
       "      <td>False</td>\n",
       "      <td>True</td>\n",
       "      <td>False</td>\n",
       "      <td>False</td>\n",
       "      <td>False</td>\n",
       "      <td>False</td>\n",
       "      <td>True</td>\n",
       "      <td>False</td>\n",
       "      <td>False</td>\n",
       "      <td>False</td>\n",
       "    </tr>\n",
       "    <tr>\n",
       "      <th>1</th>\n",
       "      <td>aldi-foods-cary</td>\n",
       "      <td>aldi foods</td>\n",
       "      <td>False</td>\n",
       "      <td>4.0</td>\n",
       "      <td>17</td>\n",
       "      <td>2303 NW Maynard Rd</td>\n",
       "      <td>27519</td>\n",
       "      <td>35.802840</td>\n",
       "      <td>-78.785930</td>\n",
       "      <td>$</td>\n",
       "      <td>...</td>\n",
       "      <td>False</td>\n",
       "      <td>False</td>\n",
       "      <td>False</td>\n",
       "      <td>False</td>\n",
       "      <td>False</td>\n",
       "      <td>False</td>\n",
       "      <td>False</td>\n",
       "      <td>False</td>\n",
       "      <td>False</td>\n",
       "      <td>False</td>\n",
       "    </tr>\n",
       "    <tr>\n",
       "      <th>2</th>\n",
       "      <td>luciano-pizzeria-ristorante-northwest-raleigh</td>\n",
       "      <td>luciano pizzeria ristorante</td>\n",
       "      <td>False</td>\n",
       "      <td>5.0</td>\n",
       "      <td>2</td>\n",
       "      <td>Crabtree Valley Mall</td>\n",
       "      <td>27612</td>\n",
       "      <td>35.839681</td>\n",
       "      <td>-78.678791</td>\n",
       "      <td>$</td>\n",
       "      <td>...</td>\n",
       "      <td>True</td>\n",
       "      <td>False</td>\n",
       "      <td>False</td>\n",
       "      <td>False</td>\n",
       "      <td>False</td>\n",
       "      <td>False</td>\n",
       "      <td>False</td>\n",
       "      <td>False</td>\n",
       "      <td>False</td>\n",
       "      <td>False</td>\n",
       "    </tr>\n",
       "  </tbody>\n",
       "</table>\n",
       "<p>3 rows × 31 columns</p>\n",
       "</div>"
      ],
      "text/plain": [
       "                                               id  \\\n",
       "0  42nd-street-oyster-bar-rdu-airport-morrisville   \n",
       "1                                 aldi-foods-cary   \n",
       "2   luciano-pizzeria-ristorante-northwest-raleigh   \n",
       "\n",
       "                                   name  is_closed  rating  review_count  \\\n",
       "0  42nd street oyster bar - rdu airport      False     2.5            23   \n",
       "1                            aldi foods      False     4.0            17   \n",
       "2           luciano pizzeria ristorante      False     5.0             2   \n",
       "\n",
       "                  address1  zip_code   latitude  longitude price  ... italian  \\\n",
       "0  2400 John Brantley Blvd     27560  35.873808 -78.790896    $$  ...   False   \n",
       "1       2303 NW Maynard Rd     27519  35.802840 -78.785930     $  ...   False   \n",
       "2     Crabtree Valley Mall     27612  35.839681 -78.678791     $  ...    True   \n",
       "\n",
       "   newamerican  chicken_wings  delis   bars  salad  seafood    bbq  bakeries  \\\n",
       "0         True          False  False  False  False     True  False     False   \n",
       "1        False          False  False  False  False    False  False     False   \n",
       "2        False          False  False  False  False    False  False     False   \n",
       "\n",
       "   sushi  \n",
       "0  False  \n",
       "1  False  \n",
       "2  False  \n",
       "\n",
       "[3 rows x 31 columns]"
      ]
     },
     "execution_count": 7,
     "metadata": {},
     "output_type": "execute_result"
    }
   ],
   "source": [
    "df_yelp.head(3)"
   ]
  },
  {
   "cell_type": "code",
   "execution_count": 8,
   "metadata": {},
   "outputs": [
    {
     "data": {
      "text/html": [
       "<div>\n",
       "<style scoped>\n",
       "    .dataframe tbody tr th:only-of-type {\n",
       "        vertical-align: middle;\n",
       "    }\n",
       "\n",
       "    .dataframe tbody tr th {\n",
       "        vertical-align: top;\n",
       "    }\n",
       "\n",
       "    .dataframe thead th {\n",
       "        text-align: right;\n",
       "    }\n",
       "</style>\n",
       "<table border=\"1\" class=\"dataframe\">\n",
       "  <thead>\n",
       "    <tr style=\"text-align: right;\">\n",
       "      <th></th>\n",
       "      <th>zip</th>\n",
       "      <th>median_family_income_dollars</th>\n",
       "      <th>median_household_income_dollars</th>\n",
       "      <th>per_capita_income_dollars</th>\n",
       "      <th>percent_damilies_below_poverty_line</th>\n",
       "      <th>percent_snap_benefits</th>\n",
       "      <th>percent_supplemental_security_income</th>\n",
       "      <th>percent_nonwhite</th>\n",
       "    </tr>\n",
       "  </thead>\n",
       "  <tbody>\n",
       "    <tr>\n",
       "      <th>0</th>\n",
       "      <td>27501</td>\n",
       "      <td>59408</td>\n",
       "      <td>51121</td>\n",
       "      <td>21631</td>\n",
       "      <td>10.5</td>\n",
       "      <td>15.5</td>\n",
       "      <td>5.2</td>\n",
       "      <td>17.9</td>\n",
       "    </tr>\n",
       "    <tr>\n",
       "      <th>1</th>\n",
       "      <td>27502</td>\n",
       "      <td>109891</td>\n",
       "      <td>95857</td>\n",
       "      <td>36763</td>\n",
       "      <td>3.4</td>\n",
       "      <td>2.4</td>\n",
       "      <td>0.8</td>\n",
       "      <td>18.9</td>\n",
       "    </tr>\n",
       "    <tr>\n",
       "      <th>2</th>\n",
       "      <td>27511</td>\n",
       "      <td>82292</td>\n",
       "      <td>67392</td>\n",
       "      <td>33139</td>\n",
       "      <td>9.6</td>\n",
       "      <td>4.5</td>\n",
       "      <td>2.2</td>\n",
       "      <td>24.8</td>\n",
       "    </tr>\n",
       "    <tr>\n",
       "      <th>3</th>\n",
       "      <td>27513</td>\n",
       "      <td>109736</td>\n",
       "      <td>87262</td>\n",
       "      <td>41232</td>\n",
       "      <td>3.8</td>\n",
       "      <td>2.4</td>\n",
       "      <td>1.5</td>\n",
       "      <td>27.8</td>\n",
       "    </tr>\n",
       "    <tr>\n",
       "      <th>4</th>\n",
       "      <td>27518</td>\n",
       "      <td>125432</td>\n",
       "      <td>98247</td>\n",
       "      <td>49865</td>\n",
       "      <td>5.5</td>\n",
       "      <td>1.0</td>\n",
       "      <td>1.7</td>\n",
       "      <td>19.9</td>\n",
       "    </tr>\n",
       "  </tbody>\n",
       "</table>\n",
       "</div>"
      ],
      "text/plain": [
       "     zip  median_family_income_dollars  median_household_income_dollars  \\\n",
       "0  27501                         59408                            51121   \n",
       "1  27502                        109891                            95857   \n",
       "2  27511                         82292                            67392   \n",
       "3  27513                        109736                            87262   \n",
       "4  27518                        125432                            98247   \n",
       "\n",
       "   per_capita_income_dollars  percent_damilies_below_poverty_line  \\\n",
       "0                      21631                                 10.5   \n",
       "1                      36763                                  3.4   \n",
       "2                      33139                                  9.6   \n",
       "3                      41232                                  3.8   \n",
       "4                      49865                                  5.5   \n",
       "\n",
       "   percent_snap_benefits  percent_supplemental_security_income  \\\n",
       "0                   15.5                                   5.2   \n",
       "1                    2.4                                   0.8   \n",
       "2                    4.5                                   2.2   \n",
       "3                    2.4                                   1.5   \n",
       "4                    1.0                                   1.7   \n",
       "\n",
       "   percent_nonwhite  \n",
       "0              17.9  \n",
       "1              18.9  \n",
       "2              24.8  \n",
       "3              27.8  \n",
       "4              19.9  "
      ]
     },
     "execution_count": 8,
     "metadata": {},
     "output_type": "execute_result"
    }
   ],
   "source": [
    "df_zipcodes.head()"
   ]
  },
  {
   "cell_type": "code",
   "execution_count": 9,
   "metadata": {},
   "outputs": [],
   "source": [
    "######## We can start to clean the data here ########"
   ]
  },
  {
   "cell_type": "code",
   "execution_count": 10,
   "metadata": {},
   "outputs": [
    {
     "data": {
      "text/plain": [
       "Index(['hsisid', 'date', 'name', 'address1', 'address2', 'city', 'state',\n",
       "       'postalcode', 'phonenumber', 'restaurantopendate',\n",
       "       'days_from_open_date', 'facilitytype', 'x', 'y', 'geocodestatus', 'zip',\n",
       "       'type', 'description', 'inspectedby', 'inspection_num', 'inspector_id',\n",
       "       'previous_inspection_date', 'days_since_previous_inspection',\n",
       "       'previous_inspection_by_same_inspector', 'score', 'num_critical',\n",
       "       'num_non_critical', 'num_critical_previous',\n",
       "       'num_non_critical_previous', 'num_critical_mean_previous',\n",
       "       'num_non_critical_mean_previous', 'avg_neighbor_num_critical',\n",
       "       'avg_neighbor_num_non_critical', 'top_match', 'second_match',\n",
       "       'critical'],\n",
       "      dtype='object')"
      ]
     },
     "execution_count": 10,
     "metadata": {},
     "output_type": "execute_result"
    }
   ],
   "source": [
    "df_inspections.columns"
   ]
  },
  {
   "cell_type": "code",
   "execution_count": 66,
   "metadata": {},
   "outputs": [
    {
     "data": {
      "text/html": [
       "<div>\n",
       "<style scoped>\n",
       "    .dataframe tbody tr th:only-of-type {\n",
       "        vertical-align: middle;\n",
       "    }\n",
       "\n",
       "    .dataframe tbody tr th {\n",
       "        vertical-align: top;\n",
       "    }\n",
       "\n",
       "    .dataframe thead th {\n",
       "        text-align: right;\n",
       "    }\n",
       "</style>\n",
       "<table border=\"1\" class=\"dataframe\">\n",
       "  <thead>\n",
       "    <tr style=\"text-align: right;\">\n",
       "      <th></th>\n",
       "      <th>hsisid</th>\n",
       "      <th>date</th>\n",
       "      <th>x</th>\n",
       "      <th>y</th>\n",
       "      <th>zip</th>\n",
       "      <th>inspector_id</th>\n",
       "      <th>score</th>\n",
       "    </tr>\n",
       "  </thead>\n",
       "  <tbody>\n",
       "    <tr>\n",
       "      <th>0</th>\n",
       "      <td>4092013748</td>\n",
       "      <td>2012-09-21T00:00:00Z</td>\n",
       "      <td>-78.587963</td>\n",
       "      <td>35.783914</td>\n",
       "      <td>27610</td>\n",
       "      <td>27.0</td>\n",
       "      <td>96.0</td>\n",
       "    </tr>\n",
       "    <tr>\n",
       "      <th>1</th>\n",
       "      <td>4092014046</td>\n",
       "      <td>2012-09-21T00:00:00Z</td>\n",
       "      <td>-78.549673</td>\n",
       "      <td>35.791986</td>\n",
       "      <td>27610</td>\n",
       "      <td>7.0</td>\n",
       "      <td>98.0</td>\n",
       "    </tr>\n",
       "    <tr>\n",
       "      <th>2</th>\n",
       "      <td>4092015191</td>\n",
       "      <td>2012-09-21T00:00:00Z</td>\n",
       "      <td>-78.547960</td>\n",
       "      <td>35.723125</td>\n",
       "      <td>27610</td>\n",
       "      <td>3.0</td>\n",
       "      <td>97.0</td>\n",
       "    </tr>\n",
       "    <tr>\n",
       "      <th>3</th>\n",
       "      <td>4092016122</td>\n",
       "      <td>2012-09-21T00:00:00Z</td>\n",
       "      <td>-78.815727</td>\n",
       "      <td>35.799249</td>\n",
       "      <td>27513</td>\n",
       "      <td>24.0</td>\n",
       "      <td>99.0</td>\n",
       "    </tr>\n",
       "    <tr>\n",
       "      <th>4</th>\n",
       "      <td>4092021513</td>\n",
       "      <td>2012-09-21T00:00:00Z</td>\n",
       "      <td>-78.296347</td>\n",
       "      <td>35.831285</td>\n",
       "      <td>27597</td>\n",
       "      <td>7.0</td>\n",
       "      <td>97.0</td>\n",
       "    </tr>\n",
       "  </tbody>\n",
       "</table>\n",
       "</div>"
      ],
      "text/plain": [
       "       hsisid                  date          x          y    zip  \\\n",
       "0  4092013748  2012-09-21T00:00:00Z -78.587963  35.783914  27610   \n",
       "1  4092014046  2012-09-21T00:00:00Z -78.549673  35.791986  27610   \n",
       "2  4092015191  2012-09-21T00:00:00Z -78.547960  35.723125  27610   \n",
       "3  4092016122  2012-09-21T00:00:00Z -78.815727  35.799249  27513   \n",
       "4  4092021513  2012-09-21T00:00:00Z -78.296347  35.831285  27597   \n",
       "\n",
       "   inspector_id  score  \n",
       "0          27.0   96.0  \n",
       "1           7.0   98.0  \n",
       "2           3.0   97.0  \n",
       "3          24.0   99.0  \n",
       "4           7.0   97.0  "
      ]
     },
     "execution_count": 66,
     "metadata": {},
     "output_type": "execute_result"
    }
   ],
   "source": [
    "cols_interest = ['hsisid', 'date', 'x', 'y', 'zip', 'inspector_id', 'score']\n",
    "df = df_inspections[cols_interest]\n",
    "df.head()"
   ]
  },
  {
   "cell_type": "code",
   "execution_count": 67,
   "metadata": {},
   "outputs": [
    {
     "data": {
      "text/plain": [
       "datetime.datetime(2012, 9, 21, 0, 0)"
      ]
     },
     "execution_count": 67,
     "metadata": {},
     "output_type": "execute_result"
    }
   ],
   "source": [
    "# convert date for easier comparison \n",
    "def convert_date(d):\n",
    "    d = d[:10]\n",
    "    return datetime.datetime.strptime(d, '%Y-%m-%d')\n",
    "convert_date('2012-09-21T00:00:00Z')"
   ]
  },
  {
   "cell_type": "code",
   "execution_count": 68,
   "metadata": {},
   "outputs": [
    {
     "name": "stderr",
     "output_type": "stream",
     "text": [
      "C:\\Users\\kchan\\Anaconda3\\lib\\site-packages\\ipykernel_launcher.py:1: SettingWithCopyWarning: \n",
      "A value is trying to be set on a copy of a slice from a DataFrame.\n",
      "Try using .loc[row_indexer,col_indexer] = value instead\n",
      "\n",
      "See the caveats in the documentation: https://pandas.pydata.org/pandas-docs/stable/user_guide/indexing.html#returning-a-view-versus-a-copy\n",
      "  \"\"\"Entry point for launching an IPython kernel.\n"
     ]
    },
    {
     "data": {
      "text/html": [
       "<div>\n",
       "<style scoped>\n",
       "    .dataframe tbody tr th:only-of-type {\n",
       "        vertical-align: middle;\n",
       "    }\n",
       "\n",
       "    .dataframe tbody tr th {\n",
       "        vertical-align: top;\n",
       "    }\n",
       "\n",
       "    .dataframe thead th {\n",
       "        text-align: right;\n",
       "    }\n",
       "</style>\n",
       "<table border=\"1\" class=\"dataframe\">\n",
       "  <thead>\n",
       "    <tr style=\"text-align: right;\">\n",
       "      <th></th>\n",
       "      <th>hsisid</th>\n",
       "      <th>date</th>\n",
       "      <th>x</th>\n",
       "      <th>y</th>\n",
       "      <th>zip</th>\n",
       "      <th>inspector_id</th>\n",
       "      <th>score</th>\n",
       "    </tr>\n",
       "  </thead>\n",
       "  <tbody>\n",
       "    <tr>\n",
       "      <th>0</th>\n",
       "      <td>4092013748</td>\n",
       "      <td>2012-09-21</td>\n",
       "      <td>-78.587963</td>\n",
       "      <td>35.783914</td>\n",
       "      <td>27610</td>\n",
       "      <td>27.0</td>\n",
       "      <td>96.0</td>\n",
       "    </tr>\n",
       "    <tr>\n",
       "      <th>1</th>\n",
       "      <td>4092014046</td>\n",
       "      <td>2012-09-21</td>\n",
       "      <td>-78.549673</td>\n",
       "      <td>35.791986</td>\n",
       "      <td>27610</td>\n",
       "      <td>7.0</td>\n",
       "      <td>98.0</td>\n",
       "    </tr>\n",
       "    <tr>\n",
       "      <th>2</th>\n",
       "      <td>4092015191</td>\n",
       "      <td>2012-09-21</td>\n",
       "      <td>-78.547960</td>\n",
       "      <td>35.723125</td>\n",
       "      <td>27610</td>\n",
       "      <td>3.0</td>\n",
       "      <td>97.0</td>\n",
       "    </tr>\n",
       "    <tr>\n",
       "      <th>3</th>\n",
       "      <td>4092016122</td>\n",
       "      <td>2012-09-21</td>\n",
       "      <td>-78.815727</td>\n",
       "      <td>35.799249</td>\n",
       "      <td>27513</td>\n",
       "      <td>24.0</td>\n",
       "      <td>99.0</td>\n",
       "    </tr>\n",
       "    <tr>\n",
       "      <th>4</th>\n",
       "      <td>4092021513</td>\n",
       "      <td>2012-09-21</td>\n",
       "      <td>-78.296347</td>\n",
       "      <td>35.831285</td>\n",
       "      <td>27597</td>\n",
       "      <td>7.0</td>\n",
       "      <td>97.0</td>\n",
       "    </tr>\n",
       "  </tbody>\n",
       "</table>\n",
       "</div>"
      ],
      "text/plain": [
       "       hsisid       date          x          y    zip  inspector_id  score\n",
       "0  4092013748 2012-09-21 -78.587963  35.783914  27610          27.0   96.0\n",
       "1  4092014046 2012-09-21 -78.549673  35.791986  27610           7.0   98.0\n",
       "2  4092015191 2012-09-21 -78.547960  35.723125  27610           3.0   97.0\n",
       "3  4092016122 2012-09-21 -78.815727  35.799249  27513          24.0   99.0\n",
       "4  4092021513 2012-09-21 -78.296347  35.831285  27597           7.0   97.0"
      ]
     },
     "execution_count": 68,
     "metadata": {},
     "output_type": "execute_result"
    }
   ],
   "source": [
    "df['date'] = df['date'].apply(convert_date)\n",
    "df.head()"
   ]
  },
  {
   "cell_type": "code",
   "execution_count": 69,
   "metadata": {},
   "outputs": [
    {
     "name": "stderr",
     "output_type": "stream",
     "text": [
      "C:\\Users\\kchan\\Anaconda3\\lib\\site-packages\\ipykernel_launcher.py:1: SettingWithCopyWarning: \n",
      "A value is trying to be set on a copy of a slice from a DataFrame.\n",
      "Try using .loc[row_indexer,col_indexer] = value instead\n",
      "\n",
      "See the caveats in the documentation: https://pandas.pydata.org/pandas-docs/stable/user_guide/indexing.html#returning-a-view-versus-a-copy\n",
      "  \"\"\"Entry point for launching an IPython kernel.\n",
      "C:\\Users\\kchan\\Anaconda3\\lib\\site-packages\\ipykernel_launcher.py:2: SettingWithCopyWarning: \n",
      "A value is trying to be set on a copy of a slice from a DataFrame.\n",
      "Try using .loc[row_indexer,col_indexer] = value instead\n",
      "\n",
      "See the caveats in the documentation: https://pandas.pydata.org/pandas-docs/stable/user_guide/indexing.html#returning-a-view-versus-a-copy\n",
      "  \n"
     ]
    }
   ],
   "source": [
    "df['zip'] = df['zip'].astype('str')\n",
    "df['inspector_id'] = df['inspector_id'].astype('str')"
   ]
  },
  {
   "cell_type": "code",
   "execution_count": 30,
   "metadata": {},
   "outputs": [
    {
     "data": {
      "text/plain": [
       "Index(['27511', '27603', '27609', '27587', '27604', '27610', '27612', '27615',\n",
       "       '27607', '27513', '27560', '27616', '27526', '27502', '27601', '27606',\n",
       "       '27529', '27614', '27613', '27540', '27545', '27617', '27519', '27518',\n",
       "       '27597', '27605', '27608', '27591', '27539', '27571', '27695', '27523',\n",
       "       '27602', '27520', '27592', '27512', '27596', '27573', '27562', '27652',\n",
       "       '27579', '27501', '27595', '27628', '27709', '27624', '27650', '28145',\n",
       "       '28587', '27522', '27619'],\n",
       "      dtype='object')"
      ]
     },
     "execution_count": 30,
     "metadata": {},
     "output_type": "execute_result"
    }
   ],
   "source": [
    "df['zip'].value_counts().index"
   ]
  },
  {
   "cell_type": "markdown",
   "metadata": {},
   "source": [
    "# Data Analysis & Results"
   ]
  },
  {
   "cell_type": "code",
   "execution_count": 15,
   "metadata": {},
   "outputs": [],
   "source": [
    "##### EDA #####"
   ]
  },
  {
   "cell_type": "code",
   "execution_count": null,
   "metadata": {},
   "outputs": [],
   "source": []
  },
  {
   "cell_type": "code",
   "execution_count": 38,
   "metadata": {},
   "outputs": [
    {
     "data": {
      "text/plain": [
       "<matplotlib.axes._subplots.AxesSubplot at 0x12d53948>"
      ]
     },
     "execution_count": 38,
     "metadata": {},
     "output_type": "execute_result"
    },
    {
     "data": {
      "image/png": "[encoded data removed]",
      "text/plain": [
       "<Figure size 1008x1008 with 1 Axes>"
      ]
     },
     "metadata": {
      "needs_background": "light"
     },
     "output_type": "display_data"
    }
   ],
   "source": [
    "plt.xticks(rotation=90)\n",
    "sns.countplot(df['zip'], order=df['zip'].value_counts().index, color='blue')"
   ]
  },
  {
   "cell_type": "markdown",
   "metadata": {},
   "source": [
    "Looking at zip code, there is quite a significantly large number of restaurant inspections that are held in zip code 27511. We can expect this area to be something like a very crowded city with many resturants that require a frequent number of inspections due to the high volume of people going in and out. On the other end, we have areas with very very few inspections in total. This may be due to the newness of the area or its separation from the rest of the population. "
   ]
  },
  {
   "cell_type": "code",
   "execution_count": null,
   "metadata": {},
   "outputs": [],
   "source": []
  },
  {
   "cell_type": "code",
   "execution_count": 54,
   "metadata": {},
   "outputs": [
    {
     "data": {
      "text/plain": [
       "[Text(0, 0.5, 'latitude'),\n",
       " Text(0.5, 0, 'longitude'),\n",
       " Text(0.5, 1.0, 'Map of restaurant inspections by zipcode')]"
      ]
     },
     "execution_count": 54,
     "metadata": {},
     "output_type": "execute_result"
    },
    {
     "data": {
      "image/png": "[encoded data removed]",
      "text/plain": [
       "<Figure size 1008x1008 with 1 Axes>"
      ]
     },
     "metadata": {
      "needs_background": "light"
     },
     "output_type": "display_data"
    }
   ],
   "source": [
    "ax = sns.scatterplot(x=df['x'], y=df['y'], hue=df['zip'], palette='bright', legend=False)\n",
    "ax.set(xlabel='longitude', ylabel='latitude', title='Map of restaurant inspections by zipcode')"
   ]
  },
  {
   "cell_type": "markdown",
   "metadata": {},
   "source": [
    "This map allows us to gete a feel for how restaurants are laid out and how they are split on by zip code. What's interesting to see is that the center has a really high density of multiple zipcodes intermixing in the restaurants. The outer areas have more defined spaces for themselves. We can also see off in the far edges that there are some standalone restaurants that correlate with our zip frequencies. "
   ]
  },
  {
   "cell_type": "code",
   "execution_count": 56,
   "metadata": {},
   "outputs": [
    {
     "data": {
      "text/plain": [
       "[Text(0, 0.5, 'frequency')]"
      ]
     },
     "execution_count": 56,
     "metadata": {},
     "output_type": "execute_result"
    },
    {
     "data": {
      "image/png": "[encoded data removed]",
      "text/plain": [
       "<Figure size 1008x1008 with 1 Axes>"
      ]
     },
     "metadata": {
      "needs_background": "light"
     },
     "output_type": "display_data"
    }
   ],
   "source": [
    "ax = sns.distplot(df['score'])\n",
    "ax.set(ylabel='frequency')"
   ]
  },
  {
   "cell_type": "markdown",
   "metadata": {},
   "source": [
    "From this, we can see a really skewed distribution of scores. Most scores are within the 95-100 range with a tail that really dips once you fall past 90. This does make sense considering 90 is the cutoff for an A grade and most restaurants would cause more trouble if given a B score. This also indicates to us that the mean may not be the best measure for center. "
   ]
  },
  {
   "cell_type": "code",
   "execution_count": null,
   "metadata": {},
   "outputs": [],
   "source": []
  },
  {
   "cell_type": "code",
   "execution_count": 59,
   "metadata": {},
   "outputs": [],
   "source": [
    "##### Analysis ######"
   ]
  },
  {
   "cell_type": "markdown",
   "metadata": {},
   "source": [
    "Let's first try to find out what qualifies as a low score that could cause bias. I will classify any score lower than the 10th percentile (of a region) to be a \"low score\". We will then see if there are any \"low scores\" for the first scores in each region. If there are, then we can proceed to see if this \"low score\" seemingly affected the scores for that region as a whole. "
   ]
  },
  {
   "cell_type": "code",
   "execution_count": 76,
   "metadata": {},
   "outputs": [
    {
     "data": {
      "text/plain": [
       "93.0"
      ]
     },
     "execution_count": 76,
     "metadata": {},
     "output_type": "execute_result"
    }
   ],
   "source": [
    "q1 = df['score'].quantile(0.10)\n",
    "q1"
   ]
  },
  {
   "cell_type": "markdown",
   "metadata": {},
   "source": [
    "We will use a score of 95 as our cut off for what a low score will be. "
   ]
  },
  {
   "cell_type": "code",
   "execution_count": 77,
   "metadata": {},
   "outputs": [
    {
     "name": "stderr",
     "output_type": "stream",
     "text": [
      "C:\\Users\\kchan\\Anaconda3\\lib\\site-packages\\ipykernel_launcher.py:1: SettingWithCopyWarning: \n",
      "A value is trying to be set on a copy of a slice from a DataFrame.\n",
      "Try using .loc[row_indexer,col_indexer] = value instead\n",
      "\n",
      "See the caveats in the documentation: https://pandas.pydata.org/pandas-docs/stable/user_guide/indexing.html#returning-a-view-versus-a-copy\n",
      "  \"\"\"Entry point for launching an IPython kernel.\n"
     ]
    },
    {
     "data": {
      "text/html": [
       "<div>\n",
       "<style scoped>\n",
       "    .dataframe tbody tr th:only-of-type {\n",
       "        vertical-align: middle;\n",
       "    }\n",
       "\n",
       "    .dataframe tbody tr th {\n",
       "        vertical-align: top;\n",
       "    }\n",
       "\n",
       "    .dataframe thead th {\n",
       "        text-align: right;\n",
       "    }\n",
       "</style>\n",
       "<table border=\"1\" class=\"dataframe\">\n",
       "  <thead>\n",
       "    <tr style=\"text-align: right;\">\n",
       "      <th></th>\n",
       "      <th>hsisid</th>\n",
       "      <th>date</th>\n",
       "      <th>x</th>\n",
       "      <th>y</th>\n",
       "      <th>zip</th>\n",
       "      <th>inspector_id</th>\n",
       "      <th>score</th>\n",
       "      <th>low_score</th>\n",
       "    </tr>\n",
       "  </thead>\n",
       "  <tbody>\n",
       "    <tr>\n",
       "      <th>0</th>\n",
       "      <td>4092013748</td>\n",
       "      <td>2012-09-21</td>\n",
       "      <td>-78.587963</td>\n",
       "      <td>35.783914</td>\n",
       "      <td>27610</td>\n",
       "      <td>27.0</td>\n",
       "      <td>96.0</td>\n",
       "      <td>False</td>\n",
       "    </tr>\n",
       "    <tr>\n",
       "      <th>1</th>\n",
       "      <td>4092014046</td>\n",
       "      <td>2012-09-21</td>\n",
       "      <td>-78.549673</td>\n",
       "      <td>35.791986</td>\n",
       "      <td>27610</td>\n",
       "      <td>7.0</td>\n",
       "      <td>98.0</td>\n",
       "      <td>False</td>\n",
       "    </tr>\n",
       "    <tr>\n",
       "      <th>2</th>\n",
       "      <td>4092015191</td>\n",
       "      <td>2012-09-21</td>\n",
       "      <td>-78.547960</td>\n",
       "      <td>35.723125</td>\n",
       "      <td>27610</td>\n",
       "      <td>3.0</td>\n",
       "      <td>97.0</td>\n",
       "      <td>False</td>\n",
       "    </tr>\n",
       "    <tr>\n",
       "      <th>3</th>\n",
       "      <td>4092016122</td>\n",
       "      <td>2012-09-21</td>\n",
       "      <td>-78.815727</td>\n",
       "      <td>35.799249</td>\n",
       "      <td>27513</td>\n",
       "      <td>24.0</td>\n",
       "      <td>99.0</td>\n",
       "      <td>False</td>\n",
       "    </tr>\n",
       "    <tr>\n",
       "      <th>4</th>\n",
       "      <td>4092021513</td>\n",
       "      <td>2012-09-21</td>\n",
       "      <td>-78.296347</td>\n",
       "      <td>35.831285</td>\n",
       "      <td>27597</td>\n",
       "      <td>7.0</td>\n",
       "      <td>97.0</td>\n",
       "      <td>False</td>\n",
       "    </tr>\n",
       "  </tbody>\n",
       "</table>\n",
       "</div>"
      ],
      "text/plain": [
       "       hsisid       date          x          y    zip inspector_id  score  \\\n",
       "0  4092013748 2012-09-21 -78.587963  35.783914  27610         27.0   96.0   \n",
       "1  4092014046 2012-09-21 -78.549673  35.791986  27610          7.0   98.0   \n",
       "2  4092015191 2012-09-21 -78.547960  35.723125  27610          3.0   97.0   \n",
       "3  4092016122 2012-09-21 -78.815727  35.799249  27513         24.0   99.0   \n",
       "4  4092021513 2012-09-21 -78.296347  35.831285  27597          7.0   97.0   \n",
       "\n",
       "   low_score  \n",
       "0      False  \n",
       "1      False  \n",
       "2      False  \n",
       "3      False  \n",
       "4      False  "
      ]
     },
     "execution_count": 77,
     "metadata": {},
     "output_type": "execute_result"
    }
   ],
   "source": [
    "df['low_score'] = df['score'] < 93\n",
    "df.head()"
   ]
  },
  {
   "cell_type": "markdown",
   "metadata": {},
   "source": [
    "Now let's see which zip codes have \"low scores\" as their first score. "
   ]
  },
  {
   "cell_type": "code",
   "execution_count": 81,
   "metadata": {},
   "outputs": [
    {
     "data": {
      "text/plain": [
       "['27616',\n",
       " '27607',\n",
       " '27604',\n",
       " '27519',\n",
       " '27613',\n",
       " '27617',\n",
       " '27560',\n",
       " '27601',\n",
       " '27523',\n",
       " '27695',\n",
       " '27602',\n",
       " '27619',\n",
       " '27709',\n",
       " '27650',\n",
       " '27501',\n",
       " '27522',\n",
       " '27579',\n",
       " '28145',\n",
       " '28587']"
      ]
     },
     "execution_count": 81,
     "metadata": {},
     "output_type": "execute_result"
    }
   ],
   "source": [
    "low_zip = []\n",
    "for z in df['zip'].unique():\n",
    "    df_z = df[df['zip'] == z]\n",
    "    min_date = df_z['date'].min()\n",
    "    df_min_date = df[df['date'] == min_date]\n",
    "    \n",
    "    if df_min_date['low_score'].any():\n",
    "        low_zip.append(z)\n",
    "low_zip"
   ]
  },
  {
   "cell_type": "markdown",
   "metadata": {},
   "source": [
    "These are the areas in which low scores were received on the first day of a restaurant being inspected there. There are 18 zip codes in which this happened. "
   ]
  },
  {
   "cell_type": "markdown",
   "metadata": {},
   "source": [
    "We will see if the overall rating of these zip codes are lower than the ratings of the entire sample overall. "
   ]
  },
  {
   "cell_type": "code",
   "execution_count": 93,
   "metadata": {},
   "outputs": [
    {
     "name": "stdout",
     "output_type": "stream",
     "text": [
      "For the zip code 27616 the p_val given is: 0.08493873277152417 which is greater than an alpha of 0.05\n",
      "For the zip code 27607 the p_val given is: 0.0038808927895591988 which is less than an alpha of 0.05\n",
      "For the zip code 27604 the p_val given is: 9.426724894692882e-17 which is less than an alpha of 0.05\n",
      "For the zip code 27519 the p_val given is: 2.397616784078062e-05 which is less than an alpha of 0.05\n",
      "For the zip code 27613 the p_val given is: 0.008986971869658382 which is less than an alpha of 0.05\n",
      "For the zip code 27617 the p_val given is: 6.252619062505962e-14 which is less than an alpha of 0.05\n",
      "For the zip code 27560 the p_val given is: 6.787596919786789e-10 which is less than an alpha of 0.05\n",
      "For the zip code 27601 the p_val given is: 0.03788060941524683 which is less than an alpha of 0.05\n",
      "For the zip code 27523 the p_val given is: 0.3028218364660784 which is greater than an alpha of 0.05\n",
      "For the zip code 27695 the p_val given is: 2.0242554712845932e-13 which is less than an alpha of 0.05\n",
      "For the zip code 27602 the p_val given is: 0.00029608335812198627 which is less than an alpha of 0.05\n",
      "For the zip code 27619 the p_val given is: nan which is greater than an alpha of 0.05\n",
      "For the zip code 27709 the p_val given is: 0.5996776305791921 which is greater than an alpha of 0.05\n",
      "For the zip code 27650 the p_val given is: 0.2536875090255084 which is greater than an alpha of 0.05\n",
      "For the zip code 27501 the p_val given is: 0.17038551980186054 which is greater than an alpha of 0.05\n",
      "For the zip code 27522 the p_val given is: 0.2830506714384573 which is greater than an alpha of 0.05\n",
      "For the zip code 27579 the p_val given is: 0.9033356676543682 which is greater than an alpha of 0.05\n",
      "For the zip code 28145 the p_val given is: 0.1709411556815756 which is greater than an alpha of 0.05\n",
      "For the zip code 28587 the p_val given is: 0.34707443350755895 which is greater than an alpha of 0.05\n"
     ]
    }
   ],
   "source": [
    "for z in low_zip: \n",
    "    df_z = df[df['zip'] == z]\n",
    "    df_non_z = df[df['zip'] != z]\n",
    "    s, p = stats.ttest_ind(df_z['score'], df_non_z['score'])\n",
    "    if p < 0.05: \n",
    "        print('For the zip code ' + z + ' the p_val given is: ' + str(p) + ' which is less than an alpha of 0.05')\n",
    "    else:\n",
    "        print('For the zip code ' + z + ' the p_val given is: ' + str(p) + ' which is greater than an alpha of 0.05')"
   ]
  },
  {
   "cell_type": "markdown",
   "metadata": {},
   "source": [
    "We can see that for 9 zip codes (27607 27604 27519 27613 27617 27560 27601 27695 27602) there is enough significance to reject the null of the first review not mattering. "
   ]
  },
  {
   "cell_type": "code",
   "execution_count": null,
   "metadata": {},
   "outputs": [],
   "source": []
  },
  {
   "cell_type": "markdown",
   "metadata": {},
   "source": [
    "# Ethics & Privacy"
   ]
  },
  {
   "cell_type": "markdown",
   "metadata": {},
   "source": [
    "A large concern might be what establishments might choose to move around based on the ratings that it's peers have. Some restaurants might choose to move away from areas with generally low health ratings. \n",
    "\n",
    "There is also the possibility of establishments with certain ethnic groups of cuisine. Since similar cultures tend to group together, it is possible that many restaurants of similar culture are grouped together which might affect how inspectors give their health ratings. This could pose a much deeper problem with health inspectors themselves falling to racial bias without even realizing it. \n",
    "\n",
    "There is also the possibility of establishments in certain lower income areas. People with similar socioeconomic status tend to live around each other which will also affect the type of establishments that are built in their communities. Fast food places for example might show more prevalence around lower income areas while dine-in restaurants are closer to higher income areas. "
   ]
  },
  {
   "cell_type": "markdown",
   "metadata": {},
   "source": [
    "# Conclusion & Discussion"
   ]
  },
  {
   "cell_type": "markdown",
   "metadata": {},
   "source": [
    "The data I used was the inspection data that was provided by the class and I attempted to see if first ratings in a certain area would sway the health ratings in following inspections. I found that in many regions, the first review did seem to have an impact on the overall rating of that area. \n",
    "\n",
    "I hit a road block when I saw that the inspection dates were not as granular as I would have wanted. I could only go down to the earliest day an inspection had happened, so if there were multiple inspections on a single day, I wouldn't be able to determine which inspection was first. Through this work I hope to see health inspectors be able to address biases that they may have even if they are not fully aware of it. "
   ]
  },
  {
   "cell_type": "code",
   "execution_count": null,
   "metadata": {},
   "outputs": [],
   "source": []
  }
 ],
 "metadata": {
  "kernelspec": {
   "display_name": "Python 3",
   "language": "python",
   "name": "python3"
  },
  "language_info": {
   "codemirror_mode": {
    "name": "ipython",
    "version": 3
   },
   "file_extension": ".py",
   "mimetype": "text/x-python",
   "name": "python",
   "nbconvert_exporter": "python",
   "pygments_lexer": "ipython3",
   "version": "3.7.6"
  }
 },
 "nbformat": 4,
 "nbformat_minor": 2
}
