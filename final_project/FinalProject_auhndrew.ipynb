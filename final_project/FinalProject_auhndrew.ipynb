{
 "cells": [
  {
   "cell_type": "markdown",
   "metadata": {},
   "source": [
    "# COGS 108 - Final Project "
   ]
  },
  {
   "cell_type": "markdown",
   "metadata": {},
   "source": [
    "# Overview"
   ]
  },
  {
   "cell_type": "markdown",
   "metadata": {},
   "source": [
    "*Fill in your overview here*"
   ]
  },
  {
   "cell_type": "markdown",
   "metadata": {},
   "source": [
    "# Name & PID\n",
    "\n",
    "- Name: Andrew Auh\n",
    "- PID: A15039099"
   ]
  },
  {
   "cell_type": "markdown",
   "metadata": {},
   "source": [
    "# Research Question"
   ]
  },
  {
   "cell_type": "markdown",
   "metadata": {},
   "source": [
    "*Is there a relationship between timing of health inspections and the score they receive?\n",
    "Is there a relationship between timing of health inspections in a given month and how many inspections are performed during that time?*"
   ]
  },
  {
   "cell_type": "markdown",
   "metadata": {},
   "source": [
    "## Background and Prior Work"
   ]
  },
  {
   "cell_type": "markdown",
   "metadata": {},
   "source": [
    "Health inspections are a government-aided process in which local state or county governments have a set standard of cleanliness and hygiene for a public area. Restaurant health inspections have a set criteria involving staff, food storage, temperature control, etc. Wake County, NC (where the data comes from) has its [food and health department](http://www.wakegov.com/food/Pages/default.aspx) and process of inspections. While each county is different, this project will strictly focus on Wake County-specific inspections.\n",
    "\n",
    "For example, in Wake County, the health inspection is calculated as 100-(violation score), where violation score is the total of all violations in terms of point value. This can also be interpreted as any score below 100 means that there is a violation present. This can be seen from any of the violations reported on the [Wake County food inspection site](http://wake-nc.healthinspections.us/).\n",
    "\n",
    "The other piece of relevant information needed is to understand critical and non-critical violations. From [Wake County's site](http://www.wakegov.com/food/healthinspections/tidbits/Pages/newrules.aspx), critical violations are meant to be emphasize some of the more important violations, like ones that might contribute to illness. Some may be marked especially with certain risk categories, which reduce the window of inspection periods. Non-critical violations are standard ones that still may subtract from the total inspection score.\n",
    "\n",
    "A study was done on the effects of routine health inspections and food educator safety [(link)](https://pubmed.ncbi.nlm.nih.gov/7987762/). While this study was done in Canada, they do report that \"The frequency of violations found on routine inspection was associated with foodborne illness. However, the frequency of inspection was not correlated with disease or with violations.\". They could not find a concrete reason as to why, but perhaps this may be different in Wake County. However, should the data show that there is no correlation, similar to the study before, there will need to be more exploration of the data in order to inform other factors that may influence frequency of visits."
   ]
  },
  {
   "cell_type": "markdown",
   "metadata": {},
   "source": [
    "# Hypothesis\n"
   ]
  },
  {
   "cell_type": "markdown",
   "metadata": {},
   "source": [
    "*There is a correlation between health inspection timing and the score they receive in that the higher the score is (meaning little to none violations, a good score, etc.), the less likely they will visit again in a short amount of time.*\n",
    "*There is also a correlation between health inspection timing and seasonal events. The more active the month is (for example Jan/June/July are popular for tourism), the more likely there will be a health inspection.*\n",
    "\n",
    "Rationale: Lower scores probably might signal that they need more frequenct inspections. Different months have different peaks for factors like tourism, traveling, school break, etc. so there will be probably be more inspections in active months like January, June, July, etc."
   ]
  },
  {
   "cell_type": "markdown",
   "metadata": {},
   "source": [
    "# Dataset(s)"
   ]
  },
  {
   "cell_type": "markdown",
   "metadata": {},
   "source": [
    "*Inspections data:*\n",
    "- Dataset Name: inspections.csv\n",
    "- Link to the dataset: provided by instructor\n",
    "- Number of observations: 18466\n",
    "\n",
    "This data represents each health inspection between the tail end of 2012 - end of 2019 in Wake County, NC. It contains data of inspections, scores, dates, locations, etc. that are going to form the main bulk of the data that will answer the question.\n",
    "\n",
    "*Zipcodes data:*\n",
    "- Dataset Name: zipcodes.csv\n",
    "- Link to the dataset: provided by instructor\n",
    "- Number of observations: 38\n",
    "\n",
    "This data represents socioeconomic data on the 38 different zip codes in Wake County, NC. While this isn't directly related to the hypothesis or research question, it is important to also detect socioeconomic biases in data as it relates to health/number of restaurants and factor that into our explanation. \n",
    "\n",
    "As both zipcodes.csv and inspections.csv contain a zipcode column, that will be used to merge the data. "
   ]
  },
  {
   "cell_type": "markdown",
   "metadata": {},
   "source": [
    "# Setup"
   ]
  },
  {
   "cell_type": "code",
   "execution_count": 1,
   "metadata": {},
   "outputs": [],
   "source": [
    "# Imports \n",
    "%matplotlib inline\n",
    "\n",
    "import numpy as np\n",
    "import pandas as pd\n",
    "import matplotlib.pyplot as plt\n",
    "\n",
    "import seaborn as sns\n",
    "sns.set()\n",
    "sns.set_context('talk')\n",
    "\n",
    "import warnings\n",
    "warnings.filterwarnings('ignore')\n",
    "\n",
    "import patsy\n",
    "import statsmodels.api as sm\n",
    "import scipy.stats as stats\n",
    "from scipy.stats import ttest_ind, chisquare, normaltest"
   ]
  },
  {
   "cell_type": "code",
   "execution_count": 8,
   "metadata": {},
   "outputs": [
    {
     "data": {
      "text/plain": [
       "38"
      ]
     },
     "execution_count": 8,
     "metadata": {},
     "output_type": "execute_result"
    }
   ],
   "source": [
    "dfi = pd.read_csv(\"inspections.csv\")\n",
    "dfz = pd.read_csv(\"zipcodes.csv\")\n",
    "len(dfz)"
   ]
  },
  {
   "cell_type": "markdown",
   "metadata": {},
   "source": [
    "# Data Cleaning"
   ]
  },
  {
   "cell_type": "markdown",
   "metadata": {},
   "source": [
    "Describe your data cleaning steps here."
   ]
  },
  {
   "cell_type": "code",
   "execution_count": 4,
   "metadata": {},
   "outputs": [],
   "source": [
    "## YOUR CODE HERE\n",
    "## FEEL FREE TO ADD MULTIPLE CELLS PER SECTION"
   ]
  },
  {
   "cell_type": "markdown",
   "metadata": {},
   "source": [
    "# Data Analysis & Results"
   ]
  },
  {
   "cell_type": "markdown",
   "metadata": {},
   "source": [
    "Include cells that describe the steps in your data analysis."
   ]
  },
  {
   "cell_type": "code",
   "execution_count": 5,
   "metadata": {},
   "outputs": [],
   "source": [
    "## YOUR CODE HERE\n",
    "## FEEL FREE TO ADD MULTIPLE CELLS PER SECTION"
   ]
  },
  {
   "cell_type": "markdown",
   "metadata": {},
   "source": [
    "# Ethics & Privacy"
   ]
  },
  {
   "cell_type": "markdown",
   "metadata": {},
   "source": [
    "The data has been pre-cleaned to not include any personal identifying information, so there is little to none privacy concerns. Even the restaurants and their identifying information is freely able to be legally viewed on the county inspection website, so there is no issue with the data that is presented.\n",
    "\n",
    "The biggest bias that could influence this data other than inspection scores would have to do with location data. Depending on how many restaurants are in certain zip code or the socioeconomic status of that zip code may influence frequency of visits. At the end of the day, no one ever knows the randomness and unpredicatability of health inspection visits, even if we know factors that know the window of visitation. One could argue that detecting patterns in data or other variables that show a greater bias may imply that there is inaccurate information in our resources given to us in the public. This may paint a picture of the health department that may be new or inaccurate.\n",
    "\n",
    "In order to understand these nuances, more research and analysis needs to be done on other datasets to understand a general pattern. However, because these inspections are on a county/city/state level, we can only make conclusions or statements in accordance with one county."
   ]
  },
  {
   "cell_type": "markdown",
   "metadata": {},
   "source": [
    "# Conclusion & Discussion"
   ]
  },
  {
   "cell_type": "markdown",
   "metadata": {},
   "source": [
    "*Fill in your discussion information here*"
   ]
  }
 ],
 "metadata": {
  "kernelspec": {
   "display_name": "Python 3",
   "language": "python",
   "name": "python3"
  },
  "language_info": {
   "codemirror_mode": {
    "name": "ipython",
    "version": 3
   },
   "file_extension": ".py",
   "mimetype": "text/x-python",
   "name": "python",
   "nbconvert_exporter": "python",
   "pygments_lexer": "ipython3",
   "version": "3.6.7"
  }
 },
 "nbformat": 4,
 "nbformat_minor": 2
}
