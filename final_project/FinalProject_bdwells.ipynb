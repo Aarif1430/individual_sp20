{
 "cells": [
  {
   "cell_type": "markdown",
   "metadata": {},
   "source": [
    "# COGS 108 - Final Project "
   ]
  },
  {
   "cell_type": "markdown",
   "metadata": {},
   "source": [
    "# Overview"
   ]
  },
  {
   "cell_type": "markdown",
   "metadata": {},
   "source": [
    "In this project I will examine the effects of a restaurant's general location on its health inspection score. From what we know about implicit bias, it is possible that the wealth of the neighborhood a restaurant is located in has a measurable effect on the score it will receive on a health inspection. The result of this analysis is that for Wake County, North Carolina, the neighborhood surrounding a restaurant on average does not have a significant effect on the health inspection score that restaurant will receive."
   ]
  },
  {
   "cell_type": "markdown",
   "metadata": {},
   "source": [
    "# Name & GitHub\n",
    "\n",
    "- Name: Bennett Wells\n",
    "- GitHub Username: bdwells"
   ]
  },
  {
   "cell_type": "markdown",
   "metadata": {},
   "source": [
    "# Research Question"
   ]
  },
  {
   "cell_type": "markdown",
   "metadata": {},
   "source": [
    "What is the relationship between a restaurant's neighborhood and its health inspection rating?"
   ]
  },
  {
   "cell_type": "markdown",
   "metadata": {},
   "source": [
    "## Background and Prior Work"
   ]
  },
  {
   "cell_type": "markdown",
   "metadata": {},
   "source": [
    "   Throughout every area of everyday life, decisions are being made. Most of the time, people believe they are making these decisions autonomously, but forces out of their control such as implicit bias and other socioeconomic prejudices can cloud anyone's judgement. Implicit bias is caused by our own tendencies to seek patterns and take shortcuts, or from outside societal pressures. Its effects are felt in schools, healthcare settings, and workplaces across the country.\n",
    "   \n",
    "   When taking a look at health inspections, a government study in 2017 in Philadelphia showed that for restaruats in areas with a higher proportion of black residents, there were increased numbers of mean good retail practice violations per inspection. This indicates that is possible that implicit bias and other predispositions are effecting the health inspection process.\n",
    "\n",
    "References:\n",
    "- 1) How Does Implicit Bias Influence Behavior? https://www.verywellmind.com/implicit-bias-overview-4178401\n",
    "- 2) Inspection Frequency, Sociodemographic Factors, and Food Safety Violations in Chain and Nonchain Restaurants https://www.ncbi.nlm.nih.gov/pmc/articles/PMC5349477/"
   ]
  },
  {
   "cell_type": "markdown",
   "metadata": {},
   "source": [
    "# Hypothesis\n"
   ]
  },
  {
   "cell_type": "markdown",
   "metadata": {},
   "source": [
    "On average, restaurants in areas of increased diversity and/or lower socioeconomic status will on average receive lower health inspection ratings."
   ]
  },
  {
   "cell_type": "markdown",
   "metadata": {},
   "source": [
    "# Dataset(s)"
   ]
  },
  {
   "cell_type": "markdown",
   "metadata": {},
   "source": [
    "To answer this question, I will used data collected about health inspections from Wake county in North Carolina, as well as information regarding the zipcodes within the county. The health inspection data contains all health inspections done from September 2012 to November 2016, the most important of which is the score from the inspection. The zipcode data contains information regarding the financial affluence of the zipcode, such as household income and poverty percentage, as well as information regarding the diversity of the zipcode in terms of the percentage of the population that is not white. I will combine them by taking the average of the health inspection scores in each zipcode and combining those averages with the data about each zipcode. \n",
    "\n",
    "Dataset Name: zipcodes.csv\n",
    "\n",
    "Number of observations: 39\n",
    "\n",
    "\n",
    "Dataset Name: inspections.csv\n",
    "\n",
    "Number of observations: 18467\n"
   ]
  },
  {
   "cell_type": "markdown",
   "metadata": {},
   "source": [
    "# Setup"
   ]
  },
  {
   "cell_type": "markdown",
   "metadata": {},
   "source": [
    "For setup, I am using the typical data analysis packages: Numpy, Pandas, MatPlotLib, and SciPy."
   ]
  },
  {
   "cell_type": "code",
   "execution_count": 1,
   "metadata": {},
   "outputs": [],
   "source": [
    "import numpy as np\n",
    "import pandas as pd\n",
    "import matplotlib.pyplot as plt\n",
    "\n",
    "import scipy.stats as stats"
   ]
  },
  {
   "cell_type": "markdown",
   "metadata": {},
   "source": [
    "# Data Cleaning"
   ]
  },
  {
   "cell_type": "markdown",
   "metadata": {},
   "source": [
    "The provided data is rather clean. The zipcode data is all clearly labeled and uniformly formatted across all entries. The inspection zipcode data is almost uniform. Some zipcodes include the full 9 digit zipcode, when all we need for averaging and analysis is the 5 digit zipcode. "
   ]
  },
  {
   "cell_type": "markdown",
   "metadata": {},
   "source": [
    "To get the data into a usable format first, I read in the zipcode data and the inspections data."
   ]
  },
  {
   "cell_type": "code",
   "execution_count": 2,
   "metadata": {},
   "outputs": [],
   "source": [
    "zipcodes_df = pd.read_csv('zipcodes.csv')\n",
    "inspections_df = pd.read_csv('inspections.csv')"
   ]
  },
  {
   "cell_type": "markdown",
   "metadata": {},
   "source": [
    "Because my goal is to explore how inspection scores might change based on the location, I create another dataframe to store the relevant information: the inspection scores and the zipcodes. Some of the zipcodes were entered with the last 4 digits corresponding to a specific delivery route, but because that information isn't relevant for this analysis, I took the zipcodes to only be the first five digits when copying it over."
   ]
  },
  {
   "cell_type": "code",
   "execution_count": 3,
   "metadata": {},
   "outputs": [],
   "source": [
    "score_df = pd.DataFrame()\n",
    "score_df['zip'] = inspections_df['postalcode'].str[:5]\n",
    "score_df['score'] = inspections_df['score']"
   ]
  },
  {
   "cell_type": "markdown",
   "metadata": {},
   "source": [
    "Next is averaging the scores by zipcode. I stored this data in a final dataframe that will be added to and used for analysis."
   ]
  },
  {
   "cell_type": "code",
   "execution_count": 4,
   "metadata": {},
   "outputs": [],
   "source": [
    "df = score_df.groupby('zip',as_index=False)['score'].mean()"
   ]
  },
  {
   "cell_type": "markdown",
   "metadata": {},
   "source": [
    "The last thing to do is merge the two data sets: zipcodes and scores, then rename columns and drop columns of data that isn't relevant to the analysis. Also because there were some zipcodes that had inspections and scores but no data was collected about them from the zipcodes file, those rows need to be dropped."
   ]
  },
  {
   "cell_type": "code",
   "execution_count": 5,
   "metadata": {},
   "outputs": [
    {
     "data": {
      "text/html": [
       "<div>\n",
       "<style scoped>\n",
       "    .dataframe tbody tr th:only-of-type {\n",
       "        vertical-align: middle;\n",
       "    }\n",
       "\n",
       "    .dataframe tbody tr th {\n",
       "        vertical-align: top;\n",
       "    }\n",
       "\n",
       "    .dataframe thead th {\n",
       "        text-align: right;\n",
       "    }\n",
       "</style>\n",
       "<table border=\"1\" class=\"dataframe\">\n",
       "  <thead>\n",
       "    <tr style=\"text-align: right;\">\n",
       "      <th></th>\n",
       "      <th>zip</th>\n",
       "      <th>score</th>\n",
       "      <th>family_income</th>\n",
       "      <th>house_income</th>\n",
       "      <th>capita_income</th>\n",
       "      <th>poverty_perc</th>\n",
       "      <th>nonwhite_perc</th>\n",
       "    </tr>\n",
       "  </thead>\n",
       "  <tbody>\n",
       "    <tr>\n",
       "      <th>0</th>\n",
       "      <td>27501</td>\n",
       "      <td>94.750000</td>\n",
       "      <td>59408.0</td>\n",
       "      <td>51121.0</td>\n",
       "      <td>21631.0</td>\n",
       "      <td>10.5</td>\n",
       "      <td>17.9</td>\n",
       "    </tr>\n",
       "    <tr>\n",
       "      <th>1</th>\n",
       "      <td>27502</td>\n",
       "      <td>96.367223</td>\n",
       "      <td>109891.0</td>\n",
       "      <td>95857.0</td>\n",
       "      <td>36763.0</td>\n",
       "      <td>3.4</td>\n",
       "      <td>18.9</td>\n",
       "    </tr>\n",
       "    <tr>\n",
       "      <th>2</th>\n",
       "      <td>27511</td>\n",
       "      <td>96.418969</td>\n",
       "      <td>82292.0</td>\n",
       "      <td>67392.0</td>\n",
       "      <td>33139.0</td>\n",
       "      <td>9.6</td>\n",
       "      <td>24.8</td>\n",
       "    </tr>\n",
       "    <tr>\n",
       "      <th>4</th>\n",
       "      <td>27513</td>\n",
       "      <td>95.655130</td>\n",
       "      <td>109736.0</td>\n",
       "      <td>87262.0</td>\n",
       "      <td>41232.0</td>\n",
       "      <td>3.8</td>\n",
       "      <td>27.8</td>\n",
       "    </tr>\n",
       "    <tr>\n",
       "      <th>5</th>\n",
       "      <td>27518</td>\n",
       "      <td>97.225291</td>\n",
       "      <td>125432.0</td>\n",
       "      <td>98247.0</td>\n",
       "      <td>49865.0</td>\n",
       "      <td>5.5</td>\n",
       "      <td>19.9</td>\n",
       "    </tr>\n",
       "  </tbody>\n",
       "</table>\n",
       "</div>"
      ],
      "text/plain": [
       "     zip      score  family_income  house_income  capita_income  poverty_perc  \\\n",
       "0  27501  94.750000        59408.0       51121.0        21631.0          10.5   \n",
       "1  27502  96.367223       109891.0       95857.0        36763.0           3.4   \n",
       "2  27511  96.418969        82292.0       67392.0        33139.0           9.6   \n",
       "4  27513  95.655130       109736.0       87262.0        41232.0           3.8   \n",
       "5  27518  97.225291       125432.0       98247.0        49865.0           5.5   \n",
       "\n",
       "   nonwhite_perc  \n",
       "0           17.9  \n",
       "1           18.9  \n",
       "2           24.8  \n",
       "4           27.8  \n",
       "5           19.9  "
      ]
     },
     "execution_count": 5,
     "metadata": {},
     "output_type": "execute_result"
    }
   ],
   "source": [
    "zipcodes_df['zip'] = zipcodes_df['zip'].astype(str)\n",
    "df = df.merge(zipcodes_df,how='left')\n",
    "df = df.rename(columns={\"median_family_income_dollars\":\"family_income\",\"median_household_income_dollars\":\"house_income\",\"per_capita_income_dollars\":\"capita_income\",\"percent_damilies_below_poverty_line\":\"poverty_perc\",\"percent_snap_benefits\":\"snap\",\"percent_supplemental_security_income\":\"supp\",\"percent_nonwhite\":\"nonwhite_perc\"})\n",
    "df = df.drop(columns=['supp','snap'])\n",
    "df = df.dropna(axis=0)\n",
    "df.head()"
   ]
  },
  {
   "cell_type": "markdown",
   "metadata": {},
   "source": [
    "# Data Analysis & Results"
   ]
  },
  {
   "cell_type": "markdown",
   "metadata": {},
   "source": [
    "### EDA"
   ]
  },
  {
   "cell_type": "markdown",
   "metadata": {},
   "source": [
    "The most relevant variable to check the distribution of is the scores variable. Here is a histogram of that variable."
   ]
  },
  {
   "cell_type": "code",
   "execution_count": 6,
   "metadata": {},
   "outputs": [
    {
     "data": {
      "text/plain": [
       "array([[<matplotlib.axes._subplots.AxesSubplot object at 0x7f5831ea18d0>]],\n",
       "      dtype=object)"
      ]
     },
     "execution_count": 6,
     "metadata": {},
     "output_type": "execute_result"
    },
    {
     "data": {
      "image/png": "[encoded data removed]",
      "text/plain": [
       "<Figure size 432x288 with 1 Axes>"
      ]
     },
     "metadata": {
      "needs_background": "light"
     },
     "output_type": "display_data"
    }
   ],
   "source": [
    "df.hist(column='score')"
   ]
  },
  {
   "cell_type": "markdown",
   "metadata": {},
   "source": [
    "To test whether the distribution is normal or not, use ScyPi and the normaltest function."
   ]
  },
  {
   "cell_type": "code",
   "execution_count": 7,
   "metadata": {},
   "outputs": [
    {
     "data": {
      "text/plain": [
       "0.6516299344706591"
      ]
     },
     "execution_count": 7,
     "metadata": {},
     "output_type": "execute_result"
    }
   ],
   "source": [
    "[statistic,pvalue] = stats.normaltest(df['score'])\n",
    "pvalue"
   ]
  },
  {
   "cell_type": "markdown",
   "metadata": {},
   "source": [
    "This test shows that the scores variable cannot be concluded to be normally distributed because the p value is greater than 0.05"
   ]
  },
  {
   "cell_type": "markdown",
   "metadata": {},
   "source": [
    "There is one significant outlier in the poverty percentage. "
   ]
  },
  {
   "cell_type": "code",
   "execution_count": 8,
   "metadata": {},
   "outputs": [
    {
     "data": {
      "text/plain": [
       "array([[<matplotlib.axes._subplots.AxesSubplot object at 0x7f582fd59b38>]],\n",
       "      dtype=object)"
      ]
     },
     "execution_count": 8,
     "metadata": {},
     "output_type": "execute_result"
    },
    {
     "data": {
      "image/png": "[encoded data removed]",
      "text/plain": [
       "<Figure size 432x288 with 1 Axes>"
      ]
     },
     "metadata": {
      "needs_background": "light"
     },
     "output_type": "display_data"
    }
   ],
   "source": [
    "df.hist('poverty_perc')"
   ]
  },
  {
   "cell_type": "code",
   "execution_count": 9,
   "metadata": {},
   "outputs": [
    {
     "data": {
      "text/html": [
       "<div>\n",
       "<style scoped>\n",
       "    .dataframe tbody tr th:only-of-type {\n",
       "        vertical-align: middle;\n",
       "    }\n",
       "\n",
       "    .dataframe tbody tr th {\n",
       "        vertical-align: top;\n",
       "    }\n",
       "\n",
       "    .dataframe thead th {\n",
       "        text-align: right;\n",
       "    }\n",
       "</style>\n",
       "<table border=\"1\" class=\"dataframe\">\n",
       "  <thead>\n",
       "    <tr style=\"text-align: right;\">\n",
       "      <th></th>\n",
       "      <th>zip</th>\n",
       "      <th>score</th>\n",
       "      <th>family_income</th>\n",
       "      <th>house_income</th>\n",
       "      <th>capita_income</th>\n",
       "      <th>poverty_perc</th>\n",
       "      <th>nonwhite_perc</th>\n",
       "    </tr>\n",
       "  </thead>\n",
       "  <tbody>\n",
       "    <tr>\n",
       "      <th>26</th>\n",
       "      <td>27601</td>\n",
       "      <td>96.0237</td>\n",
       "      <td>28641.0</td>\n",
       "      <td>27564.0</td>\n",
       "      <td>17363.0</td>\n",
       "      <td>35.9</td>\n",
       "      <td>69.9</td>\n",
       "    </tr>\n",
       "  </tbody>\n",
       "</table>\n",
       "</div>"
      ],
      "text/plain": [
       "      zip    score  family_income  house_income  capita_income  poverty_perc  \\\n",
       "26  27601  96.0237        28641.0       27564.0        17363.0          35.9   \n",
       "\n",
       "    nonwhite_perc  \n",
       "26           69.9  "
      ]
     },
     "metadata": {},
     "output_type": "display_data"
    }
   ],
   "source": [
    "display(df[df['poverty_perc']>30])"
   ]
  },
  {
   "cell_type": "markdown",
   "metadata": {},
   "source": [
    "This zipcode corresponds to downtown Raleigh. Because this is the downtown area of the biggest city in North Carolina, the higher poverty percentage is somewhat to be expected. Inner cities around the country typically have higher poverty percentages than nearby surrounding areas. The high average score for this zip code is an early indication that the results of these health inspections may not be tied to the economic prosperity of the area."
   ]
  },
  {
   "cell_type": "markdown",
   "metadata": {},
   "source": [
    "### Analysis"
   ]
  },
  {
   "cell_type": "markdown",
   "metadata": {},
   "source": [
    "To analyze the effect of each variable on the inspection scores, I'll use ScyPi to get a linear regression and an r value for the scatterplot of each variable."
   ]
  },
  {
   "cell_type": "code",
   "execution_count": 10,
   "metadata": {},
   "outputs": [
    {
     "data": {
      "text/plain": [
       "<matplotlib.axes._subplots.AxesSubplot at 0x7f582fcc7e80>"
      ]
     },
     "execution_count": 10,
     "metadata": {},
     "output_type": "execute_result"
    },
    {
     "data": {
      "image/png": "[encoded data removed]",
      "text/plain": [
       "<Figure size 576x576 with 1 Axes>"
      ]
     },
     "metadata": {
      "needs_background": "light"
     },
     "output_type": "display_data"
    }
   ],
   "source": [
    "slope, intercept, r_value, p_value, std_err = stats.linregress(df['poverty_perc'],df['score'])\n",
    "r_value = r_value*r_value\n",
    "rSquared = {'poverty_perc':r_value}\n",
    "\n",
    "df.plot.scatter('poverty_perc', 'score', figsize=[8,8], c='DarkBlue')\n",
    "df_povScore = pd.DataFrame()\n",
    "df_povScore['score'] = slope*np.arange(0,40)+intercept\n",
    "df_povScore['poverty_perc'] = np.arange(0,40)\n",
    "df_povScore.set_index('poverty_perc').score.plot(color='red')"
   ]
  },
  {
   "cell_type": "code",
   "execution_count": 11,
   "metadata": {},
   "outputs": [
    {
     "data": {
      "text/plain": [
       "<matplotlib.axes._subplots.AxesSubplot at 0x7f582fc6fe80>"
      ]
     },
     "execution_count": 11,
     "metadata": {},
     "output_type": "execute_result"
    },
    {
     "data": {
      "image/png": "[encoded data removed]",
      "text/plain": [
       "<Figure size 576x576 with 1 Axes>"
      ]
     },
     "metadata": {
      "needs_background": "light"
     },
     "output_type": "display_data"
    }
   ],
   "source": [
    "slope, intercept, r_value, p_value, std_err = stats.linregress(df['family_income'],df['score'])\n",
    "r_value = r_value*r_value\n",
    "rSquared['family_income']=r_value \n",
    "\n",
    "df.plot.scatter('family_income','score',figsize=[8,8],c='DarkBlue')\n",
    "df_povScore = pd.DataFrame()\n",
    "df_povScore['score'] = slope*np.arange(20000,145000)+intercept\n",
    "df_povScore['family_income'] = np.arange(20000,145000)\n",
    "df_povScore.set_index('family_income').score.plot(color='red')"
   ]
  },
  {
   "cell_type": "code",
   "execution_count": 12,
   "metadata": {},
   "outputs": [
    {
     "data": {
      "text/plain": [
       "<matplotlib.axes._subplots.AxesSubplot at 0x7f582fc58eb8>"
      ]
     },
     "execution_count": 12,
     "metadata": {},
     "output_type": "execute_result"
    },
    {
     "data": {
      "image/png": "[encoded data removed]",
      "text/plain": [
       "<Figure size 576x576 with 1 Axes>"
      ]
     },
     "metadata": {
      "needs_background": "light"
     },
     "output_type": "display_data"
    }
   ],
   "source": [
    "slope, intercept, r_value, p_value, std_err = stats.linregress(df['house_income'],df['score'])\n",
    "r_value = r_value*r_value\n",
    "rSquared['house_income']=r_value\n",
    "\n",
    "df.plot.scatter('house_income','score',figsize=[8,8],c='DarkBlue')\n",
    "df_povScore = pd.DataFrame()\n",
    "df_povScore['score'] = slope*np.arange(20000,125000)+intercept\n",
    "df_povScore['house_income'] = np.arange(20000,125000)\n",
    "df_povScore.set_index('house_income').score.plot(color='red')"
   ]
  },
  {
   "cell_type": "code",
   "execution_count": 13,
   "metadata": {},
   "outputs": [
    {
     "data": {
      "text/plain": [
       "<matplotlib.axes._subplots.AxesSubplot at 0x7f582fbca470>"
      ]
     },
     "execution_count": 13,
     "metadata": {},
     "output_type": "execute_result"
    },
    {
     "data": {
      "image/png": "[encoded data removed]",
      "text/plain": [
       "<Figure size 576x576 with 1 Axes>"
      ]
     },
     "metadata": {
      "needs_background": "light"
     },
     "output_type": "display_data"
    }
   ],
   "source": [
    "slope, intercept, r_value, p_value, std_err = stats.linregress(df['capita_income'],df['score'])\n",
    "r_value = r_value*r_value\n",
    "rSquared['capita_income'] = r_value\n",
    "\n",
    "df.plot.scatter('capita_income','score',figsize=[8,8],c='DarkBlue')\n",
    "df_povScore = pd.DataFrame()\n",
    "df_povScore['score'] = slope*np.arange(15000,62000)+intercept\n",
    "df_povScore['capita_income'] = np.arange(15000,62000)\n",
    "df_povScore.set_index('capita_income').score.plot(color='red')"
   ]
  },
  {
   "cell_type": "code",
   "execution_count": 14,
   "metadata": {},
   "outputs": [
    {
     "data": {
      "text/plain": [
       "<matplotlib.axes._subplots.AxesSubplot at 0x7f582fbdc668>"
      ]
     },
     "execution_count": 14,
     "metadata": {},
     "output_type": "execute_result"
    },
    {
     "data": {
      "image/png": "[encoded data removed]",
      "text/plain": [
       "<Figure size 576x576 with 1 Axes>"
      ]
     },
     "metadata": {
      "needs_background": "light"
     },
     "output_type": "display_data"
    }
   ],
   "source": [
    "slope, intercept, r_value, p_value, std_err = stats.linregress(df['nonwhite_perc'],df['score'])\n",
    "r_value = r_value*r_value\n",
    "rSquared['nonwhite_perc'] = r_value\n",
    "\n",
    "df.plot.scatter('nonwhite_perc','score',figsize=[8,8],c='DarkBlue')\n",
    "df_povScore = pd.DataFrame()\n",
    "df_povScore['score'] = slope*np.arange(5,75)+intercept\n",
    "df_povScore['nonwhite_perc'] = np.arange(5,75)\n",
    "df_povScore.set_index('nonwhite_perc').score.plot(color='red')"
   ]
  },
  {
   "cell_type": "markdown",
   "metadata": {},
   "source": [
    "The distribution for the inspection scores as a function of each variable looks pretty random. Let's take a look at the r-squared values"
   ]
  },
  {
   "cell_type": "code",
   "execution_count": 15,
   "metadata": {},
   "outputs": [
    {
     "data": {
      "text/plain": [
       "'Family Income vs Score R^2: '"
      ]
     },
     "metadata": {},
     "output_type": "display_data"
    },
    {
     "data": {
      "text/plain": [
       "0.006066518275830749"
      ]
     },
     "metadata": {},
     "output_type": "display_data"
    },
    {
     "data": {
      "text/plain": [
       "'Household Income vs Score R^2: '"
      ]
     },
     "metadata": {},
     "output_type": "display_data"
    },
    {
     "data": {
      "text/plain": [
       "0.007852453354502138"
      ]
     },
     "metadata": {},
     "output_type": "display_data"
    },
    {
     "data": {
      "text/plain": [
       "'Per-capita Income vs Score R^2: '"
      ]
     },
     "metadata": {},
     "output_type": "display_data"
    },
    {
     "data": {
      "text/plain": [
       "3.149933046988052e-05"
      ]
     },
     "metadata": {},
     "output_type": "display_data"
    },
    {
     "data": {
      "text/plain": [
       "'Poverty Percentage vs Score R^2: '"
      ]
     },
     "metadata": {},
     "output_type": "display_data"
    },
    {
     "data": {
      "text/plain": [
       "0.01880504348956497"
      ]
     },
     "metadata": {},
     "output_type": "display_data"
    },
    {
     "data": {
      "text/plain": [
       "'Non-White Percentage vs Score R^2: '"
      ]
     },
     "metadata": {},
     "output_type": "display_data"
    },
    {
     "data": {
      "text/plain": [
       "0.002941687538674025"
      ]
     },
     "metadata": {},
     "output_type": "display_data"
    }
   ],
   "source": [
    "display(\"Family Income vs Score R^2: \", rSquared['family_income'])\n",
    "display(\"Household Income vs Score R^2: \", rSquared[\"house_income\"])\n",
    "display(\"Per-capita Income vs Score R^2: \", rSquared['capita_income'])\n",
    "display(\"Poverty Percentage vs Score R^2: \", rSquared['poverty_perc'])\n",
    "display(\"Non-White Percentage vs Score R^2: \", rSquared['nonwhite_perc'])"
   ]
  },
  {
   "cell_type": "markdown",
   "metadata": {},
   "source": [
    "The R^2 is a measurement of how well the regression fits the model. It is the variance explained by the model divided by the total variance. If the model captures the variance of the relationship, the R-squared value would be close to 1, or 100%. For the relations shown above, the R-squared values never explain more than 2% of the variance in the distribution, meaning that the relationship between the dependent and independant variables is not very linear. This conclusion can also be reached by examining the scatter plots. "
   ]
  },
  {
   "cell_type": "markdown",
   "metadata": {},
   "source": [
    "# Ethics & Privacy"
   ]
  },
  {
   "cell_type": "markdown",
   "metadata": {},
   "source": [
    "I did have authorization to use this data, just as anyone would. Information regarding health inspections as well as information about Wake county's demographics are available to the public. Because no specific restaurant's are named in the analysis, there is no worry about violating any coporate or individual privacy in analyzing the data. The results of this analysis should not be extrapolated to the United States as a whole, because the data had only one source: Wake County. Because the conclusion of the analysis was that the models weren't indicative of anything statistically significant, unintended use of the model poses little threat. "
   ]
  },
  {
   "cell_type": "markdown",
   "metadata": {},
   "source": [
    "# Conclusion & Discussion"
   ]
  },
  {
   "cell_type": "markdown",
   "metadata": {},
   "source": [
    "The goal of this project was to examine the effects of socioeconomic status and racial diversity on the scores of health inspections. To do this I used data from Wake County in North Carolina about inspection scores from 2012 to 2016 as well as data about the demographics and monitary affluence of each zipcode within the county. When examined, the average scores within each of the zipcodes did not demonstrate a significant relationship to the socioeconomic status or the racial diversity within the area. My analysis is not without flaws. Averaging by zipcode took a lot of information out of the consideration, though the scope was limited to begin with. With only 39 unique zipcodes to work with, there are possible relationships between variables that got overlooked because the sample size was simply too small. \n",
    "\n",
    "This analysis does not mean that socioeconomic factors and racial diversity do not influence the health inspection process. Given more time, I would have liked to examine the effects of these factors on the violation rate of health inspections, as the scores themselves may not tell the entire story. What can be concluded from this study is that within Wake County, there seems to be on average no significant relationship between what part of town a restaurant is located in and its health inspection score. The score is likely much more heavily impacted by other measures, such as the cleanliness of the restaurant and the saftey procautions taken when preparing food. For the sake of our public safety, hopefully these are the factors that continue to drive the health inspection process. "
   ]
  }
 ],
 "metadata": {
  "kernelspec": {
   "display_name": "Python 3",
   "language": "python",
   "name": "python3"
  },
  "language_info": {
   "codemirror_mode": {
    "name": "ipython",
    "version": 3
   },
   "file_extension": ".py",
   "mimetype": "text/x-python",
   "name": "python",
   "nbconvert_exporter": "python",
   "pygments_lexer": "ipython3",
   "version": "3.6.7"
  }
 },
 "nbformat": 4,
 "nbformat_minor": 2
}
