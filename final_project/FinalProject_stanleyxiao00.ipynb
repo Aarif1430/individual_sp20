{
 "cells": [
  {
   "cell_type": "markdown",
   "metadata": {},
   "source": [
    "# COGS 108 - Final Project "
   ]
  },
  {
   "cell_type": "markdown",
   "metadata": {},
   "source": [
    "# Overview"
   ]
  },
  {
   "cell_type": "markdown",
   "metadata": {},
   "source": [
    "This project seeks to find out whether there is a relationship or not between socio-economic class and the amount of restaurant violations that occur within zipcodes. By using a scatterplot and running the line of best fit through initially, we get an idea of how the relationship looks--a line with a small confidence interval suggests a strong relationship between the two variables. On the other hand, a line with a large confidence interval hints at a weak relationship between the two variables. By running an OLS regression, we can confirm whether our suspicions hold true or not."
   ]
  },
  {
   "cell_type": "markdown",
   "metadata": {},
   "source": [
    "# Name & PID\n",
    "\n",
    "- Name: Stanley Xiao\n",
    "- PID: A15435481"
   ]
  },
  {
   "cell_type": "markdown",
   "metadata": {},
   "source": [
    "# Research Question"
   ]
  },
  {
   "cell_type": "markdown",
   "metadata": {},
   "source": [
    "What violation will most restaurants have? Are those restaurants that have similar violations located in one particular zipcode? Does median family income play a role in the violations such that lower median income have more violations? "
   ]
  },
  {
   "cell_type": "markdown",
   "metadata": {},
   "source": [
    "## Background and Prior Work"
   ]
  },
  {
   "cell_type": "markdown",
   "metadata": {},
   "source": [
    "While researching the topic on health inspections, I stumbled across how inspections are categorized in terms of risk. According to Forsyth County's website, there are four types of risk categories. Risk Category 1 refers to establishments, namely those that deal with food such as school cafeterias and restaurants, that are inspected once a year and \"do not serve potentially hazardous foods\" (1). Risk Category 2 refers to establishments that are inspected twice a year and have limited menu items with \"simple food preparation procedures\" (1). Risk Category 3 and 4 are to be inspected three and four times a year respectively (1 & 3). \n",
    "\n",
    "Additional interesting facts that I have found are that restaurants often fail to follow certain protocols that include the lack of gloves and hair protection, the lack of proper sanitation procedures, the lack of labeling open products, and most importantly, failing to store items on shelves and leaving them on the floor to name a few (3). Upon further research, I've learned that there are three different types of violations: priority, priority foundation, and core violations (4).\n",
    "\n",
    "It should be mentioned that inspections are unannounced and are made by environmental health specialists (2).\n",
    "\n",
    "References:\n",
    "- 1) About the Inspection Process, www.forsyth.cc/PublicHealth/EnvironmentalHealth/aboutInspections.aspx.\n",
    "- 2) Inspection Scores, https://www.rockinghamcountypublichealth.org/pview.aspx?id=20941&catid=0\n",
    "- 3) M, Tina, and Philipa. “How to Prepare Your Bakery for a Health Department Inspection.” Cautiously Optimistic Kitchen, 27 Oct. 2017, cautiouslyoptimistickitchen.com/health-inspection/.\n",
    "- 4) Violation Types, https://www.washtenaw.org/1562/Violation-Types#:~:text=The%20Priority%20Foundation%20category%20is,general%20sanitation%20and%20facility%20maintenance. "
   ]
  },
  {
   "cell_type": "markdown",
   "metadata": {},
   "source": [
    "# Hypothesis\n"
   ]
  },
  {
   "cell_type": "markdown",
   "metadata": {},
   "source": [
    "I hypothesize that most restaurants will have violations that deal with sanitary issues. I believe that sanitary issues will not be ranged to one particular zipcode. I think these zipcodes will range across the state of North Carolina and that median family income will play a role in such violations such that lower than median family income will contain most of these restaurants that have violations. I think this due to the idea that smaller restaurants are often located in lower socioeconomic areas. These small restaurants are also abundant within the neighborhood. I also think that since these are small restaurants, they won't have the staff to properly maintain the place."
   ]
  },
  {
   "cell_type": "markdown",
   "metadata": {},
   "source": [
    "# Dataset(s)"
   ]
  },
  {
   "cell_type": "markdown",
   "metadata": {},
   "source": [
    "- Dataset Name: Violations.csv\n",
    "- Link to the dataset: https://canvas.ucsd.edu/courses/12630/files/1639871/download?download_frd=1\n",
    "- Number of observations: 189802\n",
    "\n",
    "Violations.csv is being used to find out what violations each restaurant has in the dataset. It will be used for its category section which states what policy the restaurant has violated and how severe it is, whether it is priority, priority foundation, or core. It has multiples of the same restaurants.\n",
    "\n",
    "- Dataset Name: Inspections.csv\n",
    "- Link to the dataset: https://canvas.ucsd.edu/courses/12630/files/1639871/download?download_frd=1\n",
    "- Number of observations: 18466\n",
    "\n",
    "Inspections.csv is being used mainly for its postal code. The csv file records the restaurant's name, address, when it was inspected, and by who. It has multiples of the same restaurants.\n",
    "\n",
    "- Dataset Name: Zipcodes.csv\n",
    "- Link to the dataset: https://canvas.ucsd.edu/courses/12630/files/1639871/download?download_frd=1\n",
    "- Number of observations: 38\n",
    "\n",
    "Zipcodes.csv is being used for its median family income in USD. The csv file states the demographics of the zipcode in terms of income and has percentages of those who are receiving benefits and those who are non-white.\n",
    "\n",
    "- Dataset Name: Restaurants.csv\n",
    "- Link to the dataset: https://canvas.ucsd.edu/courses/12630/files/1639871/download?download_frd=1\n",
    "- Number of observations: 3324\n",
    "\n",
    "Restaurants.csv is used to total the amount of restaurants within zipcodes so that we can measure violations by proportions.\n",
    "\n",
    "I plan to combine these datasets by using the pd.merge() method. By merging violations.csv and inspections.csv, each restaurant now has a zip code. The product of this merge then undergoes another merge with the zipcodes.csv file so that each observation now has a corresponding median family income.\n"
   ]
  },
  {
   "cell_type": "markdown",
   "metadata": {},
   "source": [
    "# Setup"
   ]
  },
  {
   "cell_type": "code",
   "execution_count": 1,
   "metadata": {},
   "outputs": [],
   "source": [
    "%matplotlib inline\n",
    "\n",
    "import numpy as np\n",
    "import pandas as pd\n",
    "import matplotlib.pyplot as plt\n",
    "\n",
    "import seaborn as sns\n",
    "sns.set()\n",
    "sns.set_context('talk')\n",
    "\n",
    "import warnings\n",
    "warnings.filterwarnings('ignore')\n",
    "\n",
    "import patsy\n",
    "import statsmodels.api as sm\n",
    "import scipy.stats as stats\n",
    "from scipy.stats import ttest_ind, chisquare, normaltest"
   ]
  },
  {
   "cell_type": "markdown",
   "metadata": {},
   "source": [
    "# Data Cleaning"
   ]
  },
  {
   "cell_type": "code",
   "execution_count": 2,
   "metadata": {},
   "outputs": [],
   "source": [
    "#Read csvs\n",
    "df_inspect = pd.read_csv(\"inspections.csv\")\n",
    "df_violations = pd.read_csv(\"violations.csv\")\n",
    "df_zip = pd.read_csv('zipcodes.csv')"
   ]
  },
  {
   "cell_type": "code",
   "execution_count": 3,
   "metadata": {},
   "outputs": [],
   "source": [
    "#Keep the needed columns\n",
    "df_inspect = df_inspect[['hsisid', 'postalcode']]\n",
    "df_violations = df_violations[['hsisid', 'category', 'severity', 'pointvalue', 'comments']]\n",
    "df_zip = df_zip[['zip', 'median_family_income_dollars']]"
   ]
  },
  {
   "cell_type": "code",
   "execution_count": 4,
   "metadata": {},
   "outputs": [],
   "source": [
    "#Rename\n",
    "df_zip.rename(columns = {'zip' : 'postalcode'}, inplace = True)"
   ]
  },
  {
   "cell_type": "code",
   "execution_count": 5,
   "metadata": {},
   "outputs": [],
   "source": [
    "#Change zip's postalcode dtype\n",
    "df_zip['postalcode'] = df_zip['postalcode'].apply(str)"
   ]
  },
  {
   "cell_type": "code",
   "execution_count": 6,
   "metadata": {},
   "outputs": [],
   "source": [
    "#Merge and drop duplicates\n",
    "df = pd.merge(df_inspect, df_violations, on = 'hsisid', how = 'right')\n",
    "df = df.drop_duplicates(subset = 'hsisid', keep = 'last')\n",
    "df = df.dropna()\n",
    "df = df.reset_index(drop = True)\n",
    "df = pd.merge(df, df_zip, on = 'postalcode')"
   ]
  },
  {
   "cell_type": "code",
   "execution_count": 7,
   "metadata": {},
   "outputs": [],
   "source": [
    "#We no longer need hsisid\n",
    "df = df.drop(labels = ['hsisid'], axis = 1)"
   ]
  },
  {
   "cell_type": "code",
   "execution_count": 20,
   "metadata": {},
   "outputs": [
    {
     "data": {
      "text/html": [
       "<div>\n",
       "<style scoped>\n",
       "    .dataframe tbody tr th:only-of-type {\n",
       "        vertical-align: middle;\n",
       "    }\n",
       "\n",
       "    .dataframe tbody tr th {\n",
       "        vertical-align: top;\n",
       "    }\n",
       "\n",
       "    .dataframe thead th {\n",
       "        text-align: right;\n",
       "    }\n",
       "</style>\n",
       "<table border=\"1\" class=\"dataframe\">\n",
       "  <thead>\n",
       "    <tr style=\"text-align: right;\">\n",
       "      <th></th>\n",
       "      <th>postalcode</th>\n",
       "      <th>category</th>\n",
       "      <th>severity</th>\n",
       "      <th>pointvalue</th>\n",
       "      <th>comments</th>\n",
       "      <th>median_family_income_dollars</th>\n",
       "    </tr>\n",
       "  </thead>\n",
       "  <tbody>\n",
       "    <tr>\n",
       "      <th>0</th>\n",
       "      <td>27610</td>\n",
       "      <td>Chemical</td>\n",
       "      <td>Priority Foundation</td>\n",
       "      <td>1</td>\n",
       "      <td>One bottle labeled quat sanitizer bleached tes...</td>\n",
       "      <td>49213</td>\n",
       "    </tr>\n",
       "    <tr>\n",
       "      <th>1</th>\n",
       "      <td>27610</td>\n",
       "      <td>Utensils and Equipment</td>\n",
       "      <td>Core</td>\n",
       "      <td>0</td>\n",
       "      <td>4-602.13 Clean the build-up on the shelving lo...</td>\n",
       "      <td>49213</td>\n",
       "    </tr>\n",
       "    <tr>\n",
       "      <th>2</th>\n",
       "      <td>27610</td>\n",
       "      <td>Approved Source</td>\n",
       "      <td>Priority</td>\n",
       "      <td>0</td>\n",
       "      <td>3-201.14; Priority; In the walk-in freezer, fi...</td>\n",
       "      <td>49213</td>\n",
       "    </tr>\n",
       "    <tr>\n",
       "      <th>3</th>\n",
       "      <td>27610</td>\n",
       "      <td>Chemical</td>\n",
       "      <td>Priority Foundation</td>\n",
       "      <td>0</td>\n",
       "      <td>7-102.11 . Label the sanitizer bottle.</td>\n",
       "      <td>49213</td>\n",
       "    </tr>\n",
       "    <tr>\n",
       "      <th>4</th>\n",
       "      <td>27610</td>\n",
       "      <td>Utensils and Equipment</td>\n",
       "      <td>Core</td>\n",
       "      <td>0</td>\n",
       "      <td>4-501.11; Core; Replace the torn gaskets on th...</td>\n",
       "      <td>49213</td>\n",
       "    </tr>\n",
       "    <tr>\n",
       "      <th>...</th>\n",
       "      <td>...</td>\n",
       "      <td>...</td>\n",
       "      <td>...</td>\n",
       "      <td>...</td>\n",
       "      <td>...</td>\n",
       "      <td>...</td>\n",
       "    </tr>\n",
       "    <tr>\n",
       "      <th>2226</th>\n",
       "      <td>27596</td>\n",
       "      <td>Utensils and Equipment</td>\n",
       "      <td>Core</td>\n",
       "      <td>1</td>\n",
       "      <td>4-501.11; Core; Repair the leak in the walk-in...</td>\n",
       "      <td>68750</td>\n",
       "    </tr>\n",
       "    <tr>\n",
       "      <th>2227</th>\n",
       "      <td>27596</td>\n",
       "      <td>Utensils and Equipment</td>\n",
       "      <td>Core</td>\n",
       "      <td>0</td>\n",
       "      <td>4-601.11(B) and (C); Core; Clean the shelves i...</td>\n",
       "      <td>68750</td>\n",
       "    </tr>\n",
       "    <tr>\n",
       "      <th>2228</th>\n",
       "      <td>27596</td>\n",
       "      <td>Utensils and Equipment</td>\n",
       "      <td>Core</td>\n",
       "      <td>0</td>\n",
       "      <td>4-602.13; Core; Clean the gaskets and shelves....</td>\n",
       "      <td>68750</td>\n",
       "    </tr>\n",
       "    <tr>\n",
       "      <th>2229</th>\n",
       "      <td>27501</td>\n",
       "      <td>Chemical</td>\n",
       "      <td>Priority Foundation</td>\n",
       "      <td>0</td>\n",
       "      <td>7-102.11; Priority Foundation; 1 bottle labele...</td>\n",
       "      <td>59408</td>\n",
       "    </tr>\n",
       "    <tr>\n",
       "      <th>2230</th>\n",
       "      <td>27522</td>\n",
       "      <td>Supervision</td>\n",
       "      <td>Core</td>\n",
       "      <td>2</td>\n",
       "      <td>2-102.12; Core; Mobile food unit operator is n...</td>\n",
       "      <td>66250</td>\n",
       "    </tr>\n",
       "  </tbody>\n",
       "</table>\n",
       "<p>2231 rows × 6 columns</p>\n",
       "</div>"
      ],
      "text/plain": [
       "     postalcode                category             severity  pointvalue  \\\n",
       "0         27610                Chemical  Priority Foundation           1   \n",
       "1         27610  Utensils and Equipment                 Core           0   \n",
       "2         27610         Approved Source             Priority           0   \n",
       "3         27610                Chemical  Priority Foundation           0   \n",
       "4         27610  Utensils and Equipment                 Core           0   \n",
       "...         ...                     ...                  ...         ...   \n",
       "2226      27596  Utensils and Equipment                 Core           1   \n",
       "2227      27596  Utensils and Equipment                 Core           0   \n",
       "2228      27596  Utensils and Equipment                 Core           0   \n",
       "2229      27501                Chemical  Priority Foundation           0   \n",
       "2230      27522             Supervision                 Core           2   \n",
       "\n",
       "                                               comments  \\\n",
       "0     One bottle labeled quat sanitizer bleached tes...   \n",
       "1     4-602.13 Clean the build-up on the shelving lo...   \n",
       "2     3-201.14; Priority; In the walk-in freezer, fi...   \n",
       "3                7-102.11 . Label the sanitizer bottle.   \n",
       "4     4-501.11; Core; Replace the torn gaskets on th...   \n",
       "...                                                 ...   \n",
       "2226  4-501.11; Core; Repair the leak in the walk-in...   \n",
       "2227  4-601.11(B) and (C); Core; Clean the shelves i...   \n",
       "2228  4-602.13; Core; Clean the gaskets and shelves....   \n",
       "2229  7-102.11; Priority Foundation; 1 bottle labele...   \n",
       "2230  2-102.12; Core; Mobile food unit operator is n...   \n",
       "\n",
       "      median_family_income_dollars  \n",
       "0                            49213  \n",
       "1                            49213  \n",
       "2                            49213  \n",
       "3                            49213  \n",
       "4                            49213  \n",
       "...                            ...  \n",
       "2226                         68750  \n",
       "2227                         68750  \n",
       "2228                         68750  \n",
       "2229                         59408  \n",
       "2230                         66250  \n",
       "\n",
       "[2231 rows x 6 columns]"
      ]
     },
     "execution_count": 20,
     "metadata": {},
     "output_type": "execute_result"
    }
   ],
   "source": [
    "#This will be the dataframe that we will be working with\n",
    "df"
   ]
  },
  {
   "cell_type": "markdown",
   "metadata": {},
   "source": [
    "# Data Analysis & Results"
   ]
  },
  {
   "cell_type": "markdown",
   "metadata": {},
   "source": [
    "#### First, we will see what category has been violated the most. "
   ]
  },
  {
   "cell_type": "code",
   "execution_count": 9,
   "metadata": {},
   "outputs": [
    {
     "data": {
      "image/png": "[encoded data removed]",
      "text/plain": [
       "<Figure size 432x288 with 1 Axes>"
      ]
     },
     "metadata": {
      "needs_background": "light"
     },
     "output_type": "display_data"
    }
   ],
   "source": [
    "ax = df.groupby(['category']).size().plot.bar()\n",
    "ax.set(ylabel = \"Number of Violations\")\n",
    "ax.tick_params(labelsize = 12)"
   ]
  },
  {
   "cell_type": "markdown",
   "metadata": {},
   "source": [
    "#### We see that Utensils and Equipment has the most amount of observations with 1090 violations.\n",
    "#### Now, we will look at the comments section and see snippets of what was violated in Utensils and Equipment"
   ]
  },
  {
   "cell_type": "code",
   "execution_count": 10,
   "metadata": {},
   "outputs": [
    {
     "data": {
      "text/html": [
       "<div>\n",
       "<style scoped>\n",
       "    .dataframe tbody tr th:only-of-type {\n",
       "        vertical-align: middle;\n",
       "    }\n",
       "\n",
       "    .dataframe tbody tr th {\n",
       "        vertical-align: top;\n",
       "    }\n",
       "\n",
       "    .dataframe thead th {\n",
       "        text-align: right;\n",
       "    }\n",
       "</style>\n",
       "<table border=\"1\" class=\"dataframe\">\n",
       "  <thead>\n",
       "    <tr style=\"text-align: right;\">\n",
       "      <th></th>\n",
       "      <th>postalcode</th>\n",
       "      <th>category</th>\n",
       "      <th>severity</th>\n",
       "      <th>pointvalue</th>\n",
       "      <th>comments</th>\n",
       "      <th>median_family_income_dollars</th>\n",
       "    </tr>\n",
       "  </thead>\n",
       "  <tbody>\n",
       "    <tr>\n",
       "      <th>1</th>\n",
       "      <td>27610</td>\n",
       "      <td>Utensils and Equipment</td>\n",
       "      <td>Core</td>\n",
       "      <td>0</td>\n",
       "      <td>4-602.13 Clean the build-up on the shelving lo...</td>\n",
       "      <td>49213</td>\n",
       "    </tr>\n",
       "    <tr>\n",
       "      <th>4</th>\n",
       "      <td>27610</td>\n",
       "      <td>Utensils and Equipment</td>\n",
       "      <td>Core</td>\n",
       "      <td>0</td>\n",
       "      <td>4-501.11; Core; Replace the torn gaskets on th...</td>\n",
       "      <td>49213</td>\n",
       "    </tr>\n",
       "    <tr>\n",
       "      <th>9</th>\n",
       "      <td>27610</td>\n",
       "      <td>Utensils and Equipment</td>\n",
       "      <td>Core</td>\n",
       "      <td>0</td>\n",
       "      <td>4-602.13; Core; Clean the air returns in the e...</td>\n",
       "      <td>49213</td>\n",
       "    </tr>\n",
       "    <tr>\n",
       "      <th>12</th>\n",
       "      <td>27610</td>\n",
       "      <td>Utensils and Equipment</td>\n",
       "      <td>Priority Foundation</td>\n",
       "      <td>0</td>\n",
       "      <td>4-501.19; Priority Foundation; Dishes were bei...</td>\n",
       "      <td>49213</td>\n",
       "    </tr>\n",
       "    <tr>\n",
       "      <th>14</th>\n",
       "      <td>27610</td>\n",
       "      <td>Utensils and Equipment</td>\n",
       "      <td>Core</td>\n",
       "      <td>0</td>\n",
       "      <td>4-602.13 . Clean the walk-in cooler door gasket.</td>\n",
       "      <td>49213</td>\n",
       "    </tr>\n",
       "    <tr>\n",
       "      <th>...</th>\n",
       "      <td>...</td>\n",
       "      <td>...</td>\n",
       "      <td>...</td>\n",
       "      <td>...</td>\n",
       "      <td>...</td>\n",
       "      <td>...</td>\n",
       "    </tr>\n",
       "    <tr>\n",
       "      <th>2223</th>\n",
       "      <td>27520</td>\n",
       "      <td>Utensils and Equipment</td>\n",
       "      <td>Core</td>\n",
       "      <td>0</td>\n",
       "      <td>4-601.11(B) and (C); Core; General cleaning ar...</td>\n",
       "      <td>67939</td>\n",
       "    </tr>\n",
       "    <tr>\n",
       "      <th>2225</th>\n",
       "      <td>27520</td>\n",
       "      <td>Utensils and Equipment</td>\n",
       "      <td>Core</td>\n",
       "      <td>0</td>\n",
       "      <td>4-501.11 (B) . Replacement of torn cooler door...</td>\n",
       "      <td>67939</td>\n",
       "    </tr>\n",
       "    <tr>\n",
       "      <th>2226</th>\n",
       "      <td>27596</td>\n",
       "      <td>Utensils and Equipment</td>\n",
       "      <td>Core</td>\n",
       "      <td>1</td>\n",
       "      <td>4-501.11; Core; Repair the leak in the walk-in...</td>\n",
       "      <td>68750</td>\n",
       "    </tr>\n",
       "    <tr>\n",
       "      <th>2227</th>\n",
       "      <td>27596</td>\n",
       "      <td>Utensils and Equipment</td>\n",
       "      <td>Core</td>\n",
       "      <td>0</td>\n",
       "      <td>4-601.11(B) and (C); Core; Clean the shelves i...</td>\n",
       "      <td>68750</td>\n",
       "    </tr>\n",
       "    <tr>\n",
       "      <th>2228</th>\n",
       "      <td>27596</td>\n",
       "      <td>Utensils and Equipment</td>\n",
       "      <td>Core</td>\n",
       "      <td>0</td>\n",
       "      <td>4-602.13; Core; Clean the gaskets and shelves....</td>\n",
       "      <td>68750</td>\n",
       "    </tr>\n",
       "  </tbody>\n",
       "</table>\n",
       "<p>1090 rows × 6 columns</p>\n",
       "</div>"
      ],
      "text/plain": [
       "     postalcode                category             severity  pointvalue  \\\n",
       "1         27610  Utensils and Equipment                 Core           0   \n",
       "4         27610  Utensils and Equipment                 Core           0   \n",
       "9         27610  Utensils and Equipment                 Core           0   \n",
       "12        27610  Utensils and Equipment  Priority Foundation           0   \n",
       "14        27610  Utensils and Equipment                 Core           0   \n",
       "...         ...                     ...                  ...         ...   \n",
       "2223      27520  Utensils and Equipment                 Core           0   \n",
       "2225      27520  Utensils and Equipment                 Core           0   \n",
       "2226      27596  Utensils and Equipment                 Core           1   \n",
       "2227      27596  Utensils and Equipment                 Core           0   \n",
       "2228      27596  Utensils and Equipment                 Core           0   \n",
       "\n",
       "                                               comments  \\\n",
       "1     4-602.13 Clean the build-up on the shelving lo...   \n",
       "4     4-501.11; Core; Replace the torn gaskets on th...   \n",
       "9     4-602.13; Core; Clean the air returns in the e...   \n",
       "12    4-501.19; Priority Foundation; Dishes were bei...   \n",
       "14     4-602.13 . Clean the walk-in cooler door gasket.   \n",
       "...                                                 ...   \n",
       "2223  4-601.11(B) and (C); Core; General cleaning ar...   \n",
       "2225  4-501.11 (B) . Replacement of torn cooler door...   \n",
       "2226  4-501.11; Core; Repair the leak in the walk-in...   \n",
       "2227  4-601.11(B) and (C); Core; Clean the shelves i...   \n",
       "2228  4-602.13; Core; Clean the gaskets and shelves....   \n",
       "\n",
       "      median_family_income_dollars  \n",
       "1                            49213  \n",
       "4                            49213  \n",
       "9                            49213  \n",
       "12                           49213  \n",
       "14                           49213  \n",
       "...                            ...  \n",
       "2223                         67939  \n",
       "2225                         67939  \n",
       "2226                         68750  \n",
       "2227                         68750  \n",
       "2228                         68750  \n",
       "\n",
       "[1090 rows x 6 columns]"
      ]
     },
     "execution_count": 10,
     "metadata": {},
     "output_type": "execute_result"
    }
   ],
   "source": [
    "df[df['category'] == \"Utensils and Equipment\"]"
   ]
  },
  {
   "cell_type": "markdown",
   "metadata": {},
   "source": [
    "#### Looking at these 10 comments, we see that these violations are more towards maintenance and not necessarily sanitation issues, thereby proving my hypothesis wrong. \n",
    "\n",
    "#### From here, we will now see whether median household income will be a good predictor of the \"Utensils and Equipment\" violation."
   ]
  },
  {
   "cell_type": "code",
   "execution_count": 11,
   "metadata": {},
   "outputs": [],
   "source": [
    "y_1 = df[df['category'] == \"Utensils and Equipment\"].groupby('median_family_income_dollars').size()\n",
    "x_1 = y_1.index\n",
    "UnEdata = pd.DataFrame(data={'median income dollar': x_1, 'Utensils and Equipment Violations': y_1})"
   ]
  },
  {
   "cell_type": "code",
   "execution_count": 12,
   "metadata": {},
   "outputs": [
    {
     "data": {
      "text/plain": [
       "<seaborn.axisgrid.FacetGrid at 0x7fdb57eaa0b8>"
      ]
     },
     "execution_count": 12,
     "metadata": {},
     "output_type": "execute_result"
    },
    {
     "data": {
      "image/png": "[encoded data removed]",
      "text/plain": [
       "<Figure size 360x360 with 1 Axes>"
      ]
     },
     "metadata": {},
     "output_type": "display_data"
    }
   ],
   "source": [
    "sns.set(font_scale = 1)\n",
    "sns.lmplot(x='median income dollar', y = 'Utensils and Equipment Violations', data = UnEdata)"
   ]
  },
  {
   "cell_type": "markdown",
   "metadata": {},
   "source": [
    "#### The slope is relatively flat, but that doesn't mean that it's not statistically different from zero. Setting up a hypothesis test, the null will be that beta_1, the slope, is zero, and the alternative hypothesis suggesting it is not equal to zero."
   ]
  },
  {
   "cell_type": "code",
   "execution_count": 13,
   "metadata": {},
   "outputs": [
    {
     "name": "stdout",
     "output_type": "stream",
     "text": [
      "                            OLS Regression Results                            \n",
      "==============================================================================\n",
      "Dep. Variable:                    y_1   R-squared:                       0.006\n",
      "Model:                            OLS   Adj. R-squared:                 -0.025\n",
      "Method:                 Least Squares   F-statistic:                    0.1939\n",
      "Date:                Wed, 10 Jun 2020   Prob (F-statistic):              0.663\n",
      "Time:                        00:02:14   Log-Likelihood:                -148.10\n",
      "No. Observations:                  34   AIC:                             300.2\n",
      "Df Residuals:                      32   BIC:                             303.2\n",
      "Df Model:                           1                                         \n",
      "Covariance Type:            nonrobust                                         \n",
      "==============================================================================\n",
      "                 coef    std err          t      P>|t|      [0.025      0.975]\n",
      "------------------------------------------------------------------------------\n",
      "Intercept     26.8718     12.242      2.195      0.036       1.936      51.807\n",
      "x_1         6.075e-05      0.000      0.440      0.663      -0.000       0.000\n",
      "==============================================================================\n",
      "Omnibus:                        1.930   Durbin-Watson:                   2.021\n",
      "Prob(Omnibus):                  0.381   Jarque-Bera (JB):                1.146\n",
      "Skew:                           0.010   Prob(JB):                        0.564\n",
      "Kurtosis:                       2.101   Cond. No.                     3.26e+05\n",
      "==============================================================================\n",
      "\n",
      "Warnings:\n",
      "[1] Standard Errors assume that the covariance matrix of the errors is correctly specified.\n",
      "[2] The condition number is large, 3.26e+05. This might indicate that there are\n",
      "strong multicollinearity or other numerical problems.\n"
     ]
    }
   ],
   "source": [
    "outcome, predictor = patsy.dmatrices('y_1~x_1', UnEdata)\n",
    "mod = sm.OLS(outcome, predictor)\n",
    "res = mod.fit()\n",
    "print(res.summary())"
   ]
  },
  {
   "cell_type": "markdown",
   "metadata": {},
   "source": [
    "#### Because the t-statistic of 0.440 is less than 1.96, we fail to reject the null hypothesis that beta_1 is zero. The median family income dollars is not a good predictor of amount of restaurants violating \"Utensils and Equipment\". Is there a relationship between median family income dollars and violations in general?"
   ]
  },
  {
   "cell_type": "code",
   "execution_count": 14,
   "metadata": {},
   "outputs": [
    {
     "data": {
      "image/png": "[encoded data removed]",
      "text/plain": [
       "<Figure size 432x288 with 1 Axes>"
      ]
     },
     "metadata": {},
     "output_type": "display_data"
    }
   ],
   "source": [
    "ax = df.groupby(['median_family_income_dollars']).size().plot.bar()\n",
    "ax.set(ylabel = 'Number of Violations')\n",
    "ax.tick_params(labelsize = 11)"
   ]
  },
  {
   "cell_type": "markdown",
   "metadata": {},
   "source": [
    "#### Looking at the bar plot, we see that there is no relationship between median family income dollars and the number of violations."
   ]
  },
  {
   "cell_type": "code",
   "execution_count": 15,
   "metadata": {},
   "outputs": [],
   "source": [
    "y_2 = df.groupby('median_family_income_dollars').size()\n",
    "x_2 = y_2.index\n",
    "TotalData = pd.DataFrame({'Total Median Family Income Dollar' : x_2, 'Total Counts' : y_2})"
   ]
  },
  {
   "cell_type": "code",
   "execution_count": 16,
   "metadata": {},
   "outputs": [
    {
     "data": {
      "text/plain": [
       "<seaborn.axisgrid.FacetGrid at 0x7fdb57c82780>"
      ]
     },
     "execution_count": 16,
     "metadata": {},
     "output_type": "execute_result"
    },
    {
     "data": {
      "image/png": "[encoded data removed]",
      "text/plain": [
       "<Figure size 360x360 with 1 Axes>"
      ]
     },
     "metadata": {},
     "output_type": "display_data"
    }
   ],
   "source": [
    "sns.set(font_scale = 1)\n",
    "sns.lmplot(x = 'Total Median Family Income Dollar', y = 'Total Counts', data = TotalData)"
   ]
  },
  {
   "cell_type": "markdown",
   "metadata": {},
   "source": [
    "#### Again, the graph produces a relatively flat slope, suggesting that there may not be a relationship between median family income and the number of violations. Setting up another hypothesis test, the null states that beta_1 is zero and the alternative states that it is not zero."
   ]
  },
  {
   "cell_type": "code",
   "execution_count": 17,
   "metadata": {},
   "outputs": [
    {
     "name": "stdout",
     "output_type": "stream",
     "text": [
      "                            OLS Regression Results                            \n",
      "==============================================================================\n",
      "Dep. Variable:                    y_2   R-squared:                       0.008\n",
      "Model:                            OLS   Adj. R-squared:                 -0.021\n",
      "Method:                 Least Squares   F-statistic:                    0.2868\n",
      "Date:                Wed, 10 Jun 2020   Prob (F-statistic):              0.596\n",
      "Time:                        00:02:15   Log-Likelihood:                -184.63\n",
      "No. Observations:                  36   AIC:                             373.3\n",
      "Df Residuals:                      34   BIC:                             376.4\n",
      "Df Model:                           1                                         \n",
      "Covariance Type:            nonrobust                                         \n",
      "==============================================================================\n",
      "                 coef    std err          t      P>|t|      [0.025      0.975]\n",
      "------------------------------------------------------------------------------\n",
      "Intercept     48.8531     25.477      1.918      0.064      -2.922     100.628\n",
      "x_2            0.0002      0.000      0.536      0.596      -0.000       0.001\n",
      "==============================================================================\n",
      "Omnibus:                        5.119   Durbin-Watson:                   1.605\n",
      "Prob(Omnibus):                  0.077   Jarque-Bera (JB):                1.873\n",
      "Skew:                           0.051   Prob(JB):                        0.392\n",
      "Kurtosis:                       1.887   Cond. No.                     3.18e+05\n",
      "==============================================================================\n",
      "\n",
      "Warnings:\n",
      "[1] Standard Errors assume that the covariance matrix of the errors is correctly specified.\n",
      "[2] The condition number is large, 3.18e+05. This might indicate that there are\n",
      "strong multicollinearity or other numerical problems.\n"
     ]
    }
   ],
   "source": [
    "outcome_2, predictor_2 = patsy.dmatrices('y_2~x_2', TotalData)\n",
    "mod_2 = sm.OLS(outcome_2, predictor_2)\n",
    "res_2 = mod_2.fit()\n",
    "print(res_2.summary())"
   ]
  },
  {
   "cell_type": "markdown",
   "metadata": {},
   "source": [
    "#### Because the t-statistic, 0.536, is smaller than 1.96, we fail to reject the null hypothesis and say that there is no relationship between median household income and restaurant violations. This should extend to zipcodes as well, such that if we were to plot them on a geopandas map of North Carolina, we would expect to see a random scatter of restaurants that has violations spread across the state. However, these results may not be accurate because the regression model states that there may be a strong multicollinearity. Because we're simply totaling the number of observations with respect to median family income, we can disregard the idea of multicollinearity."
   ]
  },
  {
   "cell_type": "markdown",
   "metadata": {},
   "source": [
    "# Ethics & Privacy"
   ]
  },
  {
   "cell_type": "markdown",
   "metadata": {},
   "source": [
    "This project doesn't target any one specific restaurant or area so nothing can be used against these restaurants inspected. Restaurants already have to post health safety inspection scores already so consumers will already know whether the restaurants are good or bad. Additionally, nothing in this report can be traced back to the restaurants other than the datasets that have already been published to the public. The results have been generalized to zipcodes so readers cannot track the violations to specific restaurants unless they read through the raw datasets themselves. Therefore, I am strongly convinced that this report cannot be used to harm restaurants."
   ]
  },
  {
   "cell_type": "markdown",
   "metadata": {},
   "source": [
    "# Conclusion & Discussion"
   ]
  },
  {
   "cell_type": "markdown",
   "metadata": {},
   "source": [
    "My project's goal is to merely see whether there is a relationship between violations and socio-economic class. The verdict of this project suggests that there is no significant relationship between median household income and restaurant violations. Restaurants in general have faced violations given by health inspectors, located in both higher socio-economic class and lower class areas. Without running geopandas, I can't say that these zipcodes are located within one specific region of North Carolina. I believe that it would be safe to assume that these restaurants are scattered across the states because there's no clear relationship between lower socio-economic classes and higher number of violations per what my hypothesis states. Additionally, it was not sanitation issues that were violated the most, but maintenance, further proving my hypothesis wrong. \n",
    "\n",
    "A limitation to my analysis was failing to use all of the data provided. Of the approximately 3300 restaurants, my analysis only covered 2200. Additionally, what if I were to use robust error terms? In my econometrics class, I was taught to always carry out regressions using robust standard errors that would capture the variance in error terms rather than have them remain static for every observation."
   ]
  }
 ],
 "metadata": {
  "kernelspec": {
   "display_name": "Python 3",
   "language": "python",
   "name": "python3"
  },
  "language_info": {
   "codemirror_mode": {
    "name": "ipython",
    "version": 3
   },
   "file_extension": ".py",
   "mimetype": "text/x-python",
   "name": "python",
   "nbconvert_exporter": "python",
   "pygments_lexer": "ipython3",
   "version": "3.6.7"
  }
 },
 "nbformat": 4,
 "nbformat_minor": 2
}
