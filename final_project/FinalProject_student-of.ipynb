{
 "cells": [
  {
   "cell_type": "markdown",
   "metadata": {},
   "source": [
    "# COGS 108 - Final Project "
   ]
  },
  {
   "cell_type": "markdown",
   "metadata": {},
   "source": [
    "# Overview"
   ]
  },
  {
   "cell_type": "markdown",
   "metadata": {},
   "source": [
    "*Fill in your overview here*"
   ]
  },
  {
   "cell_type": "markdown",
   "metadata": {},
   "source": [
    "# Name & PID\n",
    "\n",
    "- Name: Alexander Vo\n",
    "- PID: A15049294"
   ]
  },
  {
   "cell_type": "markdown",
   "metadata": {},
   "source": [
    "# Research Question"
   ]
  },
  {
   "cell_type": "markdown",
   "metadata": {},
   "source": [
    "What factors can improve restaurant health violation penalty consistency? How accurate will penalty score classification be based upon inspector comments? Will adding a \"social perception\" dimension through Yelp data improve classification?"
   ]
  },
  {
   "cell_type": "markdown",
   "metadata": {},
   "source": [
    "## Background and Prior Work"
   ]
  },
  {
   "cell_type": "markdown",
   "metadata": {},
   "source": [
    "According to County of San Diego Department of Environmental Health [4], restaurant are given a score out of a 100 upon inspection. Violations incur a penalty from 2-4 (no violations incur a penalty of 1), and a letter grade is assigned: \"A\" for 90-100, \"B\" for 80-89, and \"C\" 0 to 79. \"C\" is considered a failing grade. The exact score is usually not displayed, only the letter grade [3]. Re-inspections can be requested at any time. According to Ho [1] however, San Diego may be inflating scores due to a variety of reasons such as inspector discretion and loose guidelines. These make the scores less trustworthy to the consumer resulting in them being ignored. Due to the variability between inspectors, either stricter guidelines must be implemented or additional tools (such as ML models) must be available to provide constisten heatlh violation score penalties.\n",
    "\n",
    "Shashank and Balakrishna [2] introduced a possible social dimension of health inspections by scanning Yelp reviews to determine random health inspection locations. They found some correltations between health code adherence and review sentiment such as overwhelming negative words in a dirty restaurant and talking more about a restaurant's atmosphere in a clean restaurant.\n",
    "\n",
    "References:\n",
    "- 1) Daniel E. Ho, *Fudging the Nudge: Information Disclosure and Restaurant Grading*, 122 Yale L. J. 574 (2012). https://heinonline.org/HOL/Page?handle=hein.journals/ylr122&collection=journals&id=605&startid=&endid=720\n",
    "- 2) Uppoor, Shashank, and Shreyas Pathre Balakrishna. *Predicting Restaurant Health Inspection Penalty Score from Yelp Reviews*. University of California, San Diego, jmcauley.ucsd.edu/cse258/projects/fa15/036.pdf.\n",
    "- 3) Filion, Katie, and Douglas A. Powell. *The Use of Restaurant Inspection Disclosure Systems as a Means of Communicating Food Safety Information* Journal of Foodservice, vol. 20, no. 6, 2009, pp. 287–297., doi:10.1111/j.1748-0159.2009.00151.x.\n",
    "- 4) “SD Food Info.” SD Food Info Start Search, www.sandiegocounty.gov/content/sdc/deh/fhd/ffis/intro.html.html."
   ]
  },
  {
   "cell_type": "markdown",
   "metadata": {},
   "source": [
    "# Hypothesis\n"
   ]
  },
  {
   "cell_type": "markdown",
   "metadata": {},
   "source": [
    "*Fill in your hypotheses here*"
   ]
  },
  {
   "cell_type": "markdown",
   "metadata": {},
   "source": [
    "# Dataset(s)"
   ]
  },
  {
   "cell_type": "markdown",
   "metadata": {},
   "source": [
    "- Dataset Name: restaurants.csv\n",
    "- Link: https://canvas.ucsd.edu/courses/12630/assignments/110486\n",
    "- Number of observations: 3324 rows, 14 columns\n",
    "\n",
    "Holds basic data for food-serving venues (not just restaurants) such as location, phone number, and zip code. One restaurant per row.\n",
    "\n",
    "- Dataset Name: violations.csv\n",
    "- Link: https://canvas.ucsd.edu/courses/12630/assignments/110486\n",
    "- Number of observations: 189802 rows, 18 columns\n",
    "\n",
    "Lists a health safety violation per row and containts related data such as inspector, date, and point penalty.\n",
    "\n",
    "- Dataset Name: yelp.csv\n",
    "- Link: https://canvas.ucsd.edu/courses/12630/assignments/110486\n",
    "- Number of observations: 3688 rows, 31 columns\n",
    "\n",
    "Lists one venue per row (with potential duplicates) and contains consumer data such as rating, reviewer count, and address.\n",
    "\n",
    "\n",
    "Restaurants and health violations can be linked together by a common \"hsisid\" (renamed to \"id\") value (each id is unique per restaurant). Yelp data will be connected to restaurant and health violations via zip code and name."
   ]
  },
  {
   "cell_type": "markdown",
   "metadata": {},
   "source": [
    "# Setup"
   ]
  },
  {
   "cell_type": "code",
   "execution_count": 312,
   "metadata": {},
   "outputs": [],
   "source": [
    "%matplotlib inline\n",
    "\n",
    "import numpy as np\n",
    "import pandas as pd\n",
    "import matplotlib.pyplot as plt\n",
    "\n",
    "import nltk\n",
    "from nltk.tokenize import word_tokenize\n",
    "from nltk.corpus import stopwords\n",
    "\n",
    "import random\n",
    "\n",
    "import seaborn as sns\n",
    "\n",
    "from sklearn.svm import SVC\n",
    "from sklearn.feature_extraction.text import TfidfVectorizer\n",
    "from sklearn.metrics import classification_report, precision_recall_fscore_support\n",
    "from sklearn.preprocessing import MinMaxScaler"
   ]
  },
  {
   "cell_type": "markdown",
   "metadata": {},
   "source": [
    "# Data Cleaning"
   ]
  },
  {
   "cell_type": "markdown",
   "metadata": {},
   "source": [
    "1) Load all datasets without any alteration\n",
    "  * restaurant_df = restaurant.csv\n",
    "  * violations_df = violations.csv\n",
    "  * yelp_df = yelp.csv\n",
    "   \n",
    "2) Drop unnecessary/ambiguous/PII columns from all datasets such as:\n",
    "  * restaurant_df: phonenumber\n",
    "  * violations_df: X.objectid\n",
    "  * yelp_df: phone\n",
    "  \n",
    "3) Minor column renamings such as:\n",
    "  * \"hsisid\" => \"id\"\n",
    "  \n",
    "4) Run standardization converters on select columns (restaurant names, zipcode)\n",
    "\n",
    "5) Remove any duplicate entries\n",
    "\n",
    "6) Filter food-servicing locations to only include restaurants\n",
    "\n",
    "7) Merge restaurant health data with Yelp data based on name and zipcode\n",
    "\n",
    "8) Remove restaurant health data with no Yelp Data\n",
    "\n",
    "9) Anonymize restaurant data"
   ]
  },
  {
   "cell_type": "markdown",
   "metadata": {},
   "source": [
    "#### Converters / Standardizers"
   ]
  },
  {
   "cell_type": "markdown",
   "metadata": {},
   "source": [
    "Remove punctuation. Standardize names if from a big chain."
   ]
  },
  {
   "cell_type": "code",
   "execution_count": 19,
   "metadata": {},
   "outputs": [],
   "source": [
    "def convert_restaurant_names(name_in):\n",
    "        \n",
    "    # Make the input all lowercase\n",
    "    name_in = name_in.lower()\n",
    "    \n",
    "    # Drop all whitespace\n",
    "    name_in = name_in.strip()\n",
    "    \n",
    "    # Chain restaurants have are of format 'chain name #NUMBER'\n",
    "    # Remove '#NUMBER' is present\n",
    "    hash_index = name_in.find('#')\n",
    "    if hash_index != -1:\n",
    "        name_in = name_in[0:hash_index]\n",
    "        \n",
    "    name_in = name_in.replace(\"i pre-security\", \"\")\n",
    "    name_in = name_in.replace(\"&amp;\", \"and\")\n",
    "    name_in = name_in.replace(\"&\", \"and\")\n",
    "        \n",
    "    if \"subway\" in name_in:\n",
    "        name_in = \"subway\"\n",
    "    elif \"mcdonald's\" in name_in or \"mcdonalds\" in name_in:\n",
    "        name_in = \"mcdonald's\"\n",
    "    elif \"starbuck\" in name_in:\n",
    "        name_in = \"starbuck\"\n",
    "    elif \"dunkin donuts\" in name_in:\n",
    "        name_in = \"dunkin donuts\"\n",
    "    elif \"arby's\" in name_in:\n",
    "        name_in = \"arby's\"\n",
    "    elif \"jersey mike\" in name_in:\n",
    "        name_in = \"jersey mike\"\n",
    "    elif \"wendy's\" in name_in:\n",
    "        name_in = \"wendy's\"\n",
    "    elif \"jamba j\" in name_in:\n",
    "        name_in = \"jamba juice\"\n",
    "    elif \"culver\" in name_in:\n",
    "        name_in = \"culver's\"\n",
    "    elif \"einstein\" in name_in and \"bagel\" in name_in:\n",
    "        name_in = \"einstein bros bagel\"\n",
    "    elif \"whataburger\" in name_in:\n",
    "        name_in = \"whataburger\"\n",
    "    elif \"church's chicken\" in name_in:\n",
    "        name_in = \"church's hicken\"\n",
    "    elif \"five guys\" in name_in:\n",
    "        name_in = \"five guys\"\n",
    "    elif \"chick-fil-a\" in name_in:\n",
    "        name_in = \"chick-fil-a\"\n",
    "    elif \"aubrey\" in name_in and \"peedi\" in name_in and \"grill\" in name_in:\n",
    "        name_in = \"aubrey and peedies grill\"\n",
    "    elif \"skipper's fish fry\" in name_in or \"skipper`s fish fry and market\" == name_in:\n",
    "        name_in = \"skipper's fish fry\"\n",
    "    elif \"dean's seafood grill\" in name_in:\n",
    "        name_in = \"dean's seafood grill and bar\"\n",
    "    elif \"salvio\" in name_in and \"pizzeria\" in name_in:\n",
    "        name_in = \"salvio's pizzeria\"\n",
    "    elif \"manchester\" in name_in and \"grill\" in name_in:\n",
    "        name_in = \"manchester bar and grill\"\n",
    "    elif \"sam\" in name_in and \"club\" in name_in:\n",
    "        name_in = \"sam's club\"\n",
    "    elif \"sami\" in name_in and \"pizza\" in name_in and \"more\" in name_in:\n",
    "        name_in = \"sami's subs, pizza, and more\"\n",
    "        \n",
    "    if name_in == \"spring cafe 2\":\n",
    "        name_in = \"spring cafe\"\n",
    "    \n",
    "    return name_in.strip()\n",
    "\n",
    "assert convert_restaurant_names(\"chick-fil-a #1573\") == 'chick-fil-a'\n",
    "assert convert_restaurant_names(\"taco bell #22798\") == 'taco bell'\n",
    "assert convert_restaurant_names(\"chick-fil-a of knightdale\") == \"chick-fil-a\""
   ]
  },
  {
   "cell_type": "code",
   "execution_count": 20,
   "metadata": {},
   "outputs": [],
   "source": [
    "def convert_time(str_in):\n",
    "    return pd.to_datetime(str_in)"
   ]
  },
  {
   "cell_type": "markdown",
   "metadata": {},
   "source": [
    "Converts ZIP codes of form \"AAAAA-BBBB\" to form \"AAAAA\". \"AAAAA-BBBB\" are specific version of \"AAAAA\""
   ]
  },
  {
   "cell_type": "code",
   "execution_count": 21,
   "metadata": {},
   "outputs": [],
   "source": [
    "def convert_zip(zipcode):\n",
    "    \n",
    "    # ZIP codes of form \"AAAAA-BBBB\" are specific version of \"AAAAA\"\n",
    "    hyphen_index = zipcode.find('-')\n",
    "    if hyphen_index != -1:\n",
    "        zipcode = zipcode[0:hyphen_index]\n",
    "\n",
    "    zipcode = zipcode.strip()\n",
    "    return zipcode\n",
    "\n",
    "\n",
    "assert convert_zip(\"12345\") == \"12345\"\n",
    "assert convert_zip(\"12345-678\") == \"12345\""
   ]
  },
  {
   "cell_type": "markdown",
   "metadata": {},
   "source": [
    "Comments tend to have extra metadata in the front separated by a semicolons or a dash. Such metadata can already be found in the columns dropped during cleanup so can also be removed."
   ]
  },
  {
   "cell_type": "code",
   "execution_count": 376,
   "metadata": {},
   "outputs": [],
   "source": [
    "def convert_comments(data_in):\n",
    "    if pd.isna(data_in):\n",
    "        return data_in;\n",
    "    \n",
    "    semi_index = data_in.find(';')\n",
    "    if semi_index != -1:\n",
    "        data_in = data_in[semi_index + 1:]\n",
    "    \n",
    "    dash_index = data_in.find('-')\n",
    "    if dash_index != -1:\n",
    "        data_in = data_in[dash_index + 1:]\n",
    "        \n",
    "    semi_index = data_in.find(';')\n",
    "    if semi_index != -1:\n",
    "        data_in = data_in[semi_index + 1:]\n",
    "    \n",
    "        \n",
    "    return data_in"
   ]
  },
  {
   "cell_type": "markdown",
   "metadata": {},
   "source": [
    "### Read Data Unaltered"
   ]
  },
  {
   "cell_type": "code",
   "execution_count": 377,
   "metadata": {},
   "outputs": [],
   "source": [
    "restaurants_filepath = \"restaurants.csv\"\n",
    "restaurants_df = pd.read_csv(restaurants_filepath, dtype={\n",
    "    \"hsisid\": str,\n",
    "    \"postal_code\": str,\n",
    "})\n",
    "\n",
    "violations_filepath = \"violations.csv\"\n",
    "violations_df = pd.read_csv(violations_filepath, dtype={\n",
    "    \"hsisid\": str,\n",
    "    \"comments\": str,\n",
    "})\n",
    "\n",
    "yelp_filepath = \"yelp.csv\"\n",
    "yelp_df = pd.read_csv(yelp_filepath, dtype={\n",
    "    \"zip_code\": str\n",
    "})"
   ]
  },
  {
   "cell_type": "markdown",
   "metadata": {},
   "source": [
    "Clean up restaurant data (converters, drop columns, renaming, deduplicate)"
   ]
  },
  {
   "cell_type": "code",
   "execution_count": 378,
   "metadata": {},
   "outputs": [],
   "source": [
    "restaurants_df_clean = restaurants_df.drop(labels=[\n",
    "    \"X.objectid\",\n",
    "    \"name\",\n",
    "    \"state\",\n",
    "    \"address1\",\n",
    "    \"address2\",\n",
    "    \"city\",\n",
    "    \"phonenumber\",\n",
    "    \"geocodestatus\",\n",
    "    \"x\",\n",
    "    \"y\",\n",
    "    \"facilitytype\",\n",
    "    \"restaurantopendate\"\n",
    "], axis=\"columns\")\n",
    "\n",
    "restaurants_df_clean.rename(columns={\n",
    "    \"hsisid\": \"id\",\n",
    "    \"postalcode\": 'zip',\n",
    "    #\"restaurantopendate\": \"open_date\"\n",
    "}, inplace=True)\n",
    "\n",
    "restaurants_df_clean = restaurants_df_clean[(restaurants_df[\"facilitytype\"] == \"Restaurant\") \n",
    "                                            & (restaurants_df[\"facilitytype\"] == \"Restaurant\")]\n",
    "restaurants_df_clean[\"name\"] = restaurants_df[\"name\"].apply(convert_restaurant_names)\n",
    "restaurants_df_clean[\"zip\"] = restaurants_df_clean[\"zip\"].apply(convert_zip)\n",
    "#restaurants_df_clean[\"open_date\"] = restaurants_df_clean[\"open_date\"].apply(convert_time)\n",
    "\n",
    "restaurant_ids = restaurants_df_clean[\"id\"]\n",
    "\n",
    "restaurants_df_clean = restaurants_df_clean.reindex()\n",
    "assert restaurants_df_clean[\"id\"].is_unique == True"
   ]
  },
  {
   "cell_type": "markdown",
   "metadata": {},
   "source": [
    "Clean up health violation data (converters, drop columns, renaming, deduplicate)"
   ]
  },
  {
   "cell_type": "code",
   "execution_count": 379,
   "metadata": {},
   "outputs": [],
   "source": [
    "violations_df_clean = violations_df.drop(labels=[\n",
    "    \"X.objectid\",\n",
    "    \"statecode\",\n",
    "    \"questionno\",\n",
    "    \"violationcode\",\n",
    "    \"inspectedby\",\n",
    "    \"cdcriskfactor\",\n",
    "    \"cdcdataitem\",\n",
    "    \"violationtype\",\n",
    "    \"observationtype\",\n",
    "    \"count\",\n",
    "    \"category\",\n",
    "    \"shortdesc\",\n",
    "    \"severity\",\n",
    "    \"critical\",\n",
    "    \"inspectdate\"\n",
    "], axis=\"columns\")\n",
    "    \n",
    "violations_df_clean.rename(columns={\n",
    "    \"hsisid\": \"id\",\n",
    "    \"pointvalue\": \"penalty\",\n",
    "}, inplace=True)\n",
    "\n",
    "# violations_df_clean[\"inspect_date\"] = violations_df_clean[\"inspect_date\"].apply(convert_time)\n",
    "violations_df_clean.drop_duplicates(inplace=True)\n",
    "violations_df_clean[\"comments\"] = violations_df_clean[\"comments\"].apply(convert_comments)\n",
    "violations_df_clean = violations_df_clean.reindex()"
   ]
  },
  {
   "cell_type": "markdown",
   "metadata": {},
   "source": [
    "Clean up Yelp data (converters, drop columns, renaming, deduplicate)"
   ]
  },
  {
   "cell_type": "code",
   "execution_count": 380,
   "metadata": {},
   "outputs": [],
   "source": [
    "yelp_df_clean = yelp_df.drop(labels=[\n",
    "    \"address1\",\n",
    "    \"name\",\n",
    "    \"price\",\n",
    "    \"italian\",\n",
    "    \"seafood\",\n",
    "    \"newamerican\",\n",
    "    \"chicken_wings\",\n",
    "    \"delis\",\n",
    "    \"bars\",\n",
    "    \"salad\",\n",
    "    \"seafood\",\n",
    "    \"bbq\",\n",
    "    \"bakeries\",\n",
    "    \"sushi\",\n",
    "    \"phone\",\n",
    "    \"hotdogs\",\n",
    "    \"sandwiches\",\n",
    "    \"pizza\",\n",
    "    \"tradamerican\",\n",
    "    \"burgers\",\n",
    "    \"mexican\",\n",
    "    \"grocery\",\n",
    "    \"breakfast_brunch\",\n",
    "    \"coffee\",\n",
    "    \"chinese\",\n",
    "    \"latitude\",\n",
    "    \"longitude\",\n",
    "    \"price\",\n",
    "    \"id\",\n",
    "    \"is_closed\",\n",
    "], axis=\"columns\")\n",
    "\n",
    "\n",
    "yelp_df_clean.rename(columns={\n",
    "    \"id\": \"yelp_id\",\n",
    "    \"zip_code\": 'zip'\n",
    "}, inplace=True)\n",
    "\n",
    "yelp_df_clean[\"name\"] = yelp_df[\"name\"].apply(convert_restaurant_names)\n",
    "yelp_df_clean[\"zip\"] = yelp_df_clean[\"zip\"].apply(convert_zip)\n",
    "\n",
    "yelp_df_clean = yelp_df_clean[[\"zip\", \"name\", \"rating\", \"review_count\"]]"
   ]
  },
  {
   "cell_type": "code",
   "execution_count": 381,
   "metadata": {},
   "outputs": [
    {
     "data": {
      "text/html": [
       "<div>\n",
       "<style scoped>\n",
       "    .dataframe tbody tr th:only-of-type {\n",
       "        vertical-align: middle;\n",
       "    }\n",
       "\n",
       "    .dataframe tbody tr th {\n",
       "        vertical-align: top;\n",
       "    }\n",
       "\n",
       "    .dataframe thead th {\n",
       "        text-align: right;\n",
       "    }\n",
       "</style>\n",
       "<table border=\"1\" class=\"dataframe\">\n",
       "  <thead>\n",
       "    <tr style=\"text-align: right;\">\n",
       "      <th></th>\n",
       "      <th>id</th>\n",
       "      <th>zip</th>\n",
       "      <th>name</th>\n",
       "    </tr>\n",
       "  </thead>\n",
       "  <tbody>\n",
       "    <tr>\n",
       "      <th>0</th>\n",
       "      <td>4092017230</td>\n",
       "      <td>27616</td>\n",
       "      <td>spring cafe</td>\n",
       "    </tr>\n",
       "    <tr>\n",
       "      <th>2</th>\n",
       "      <td>4092014444</td>\n",
       "      <td>27587</td>\n",
       "      <td>taco bell</td>\n",
       "    </tr>\n",
       "    <tr>\n",
       "      <th>3</th>\n",
       "      <td>4092015333</td>\n",
       "      <td>27601</td>\n",
       "      <td>the remedy diner</td>\n",
       "    </tr>\n",
       "    <tr>\n",
       "      <th>6</th>\n",
       "      <td>4092016679</td>\n",
       "      <td>27601</td>\n",
       "      <td>bittersweet</td>\n",
       "    </tr>\n",
       "    <tr>\n",
       "      <th>7</th>\n",
       "      <td>4092014493</td>\n",
       "      <td>27617</td>\n",
       "      <td>chick-fil-a</td>\n",
       "    </tr>\n",
       "  </tbody>\n",
       "</table>\n",
       "</div>"
      ],
      "text/plain": [
       "           id    zip              name\n",
       "0  4092017230  27616       spring cafe\n",
       "2  4092014444  27587         taco bell\n",
       "3  4092015333  27601  the remedy diner\n",
       "6  4092016679  27601       bittersweet\n",
       "7  4092014493  27617       chick-fil-a"
      ]
     },
     "execution_count": 381,
     "metadata": {},
     "output_type": "execute_result"
    }
   ],
   "source": [
    "restaurants_df_clean.head()"
   ]
  },
  {
   "cell_type": "code",
   "execution_count": 382,
   "metadata": {},
   "outputs": [
    {
     "data": {
      "text/html": [
       "<div>\n",
       "<style scoped>\n",
       "    .dataframe tbody tr th:only-of-type {\n",
       "        vertical-align: middle;\n",
       "    }\n",
       "\n",
       "    .dataframe tbody tr th {\n",
       "        vertical-align: top;\n",
       "    }\n",
       "\n",
       "    .dataframe thead th {\n",
       "        text-align: right;\n",
       "    }\n",
       "</style>\n",
       "<table border=\"1\" class=\"dataframe\">\n",
       "  <thead>\n",
       "    <tr style=\"text-align: right;\">\n",
       "      <th></th>\n",
       "      <th>id</th>\n",
       "      <th>comments</th>\n",
       "      <th>penalty</th>\n",
       "    </tr>\n",
       "  </thead>\n",
       "  <tbody>\n",
       "    <tr>\n",
       "      <th>0</th>\n",
       "      <td>4092015279</td>\n",
       "      <td>Found unlabeled bottle with purple liquid in ...</td>\n",
       "      <td>0</td>\n",
       "    </tr>\n",
       "    <tr>\n",
       "      <th>1</th>\n",
       "      <td>4092014572</td>\n",
       "      <td>Sanitizer bottle was labeled.</td>\n",
       "      <td>0</td>\n",
       "    </tr>\n",
       "    <tr>\n",
       "      <th>2</th>\n",
       "      <td>4092015906</td>\n",
       "      <td>Found an unlabeled spray bottle and large jug...</td>\n",
       "      <td>1</td>\n",
       "    </tr>\n",
       "    <tr>\n",
       "      <th>3</th>\n",
       "      <td>4092013840</td>\n",
       "      <td>Found unlabeled bottle with purple liquid in ...</td>\n",
       "      <td>0</td>\n",
       "    </tr>\n",
       "    <tr>\n",
       "      <th>4</th>\n",
       "      <td>4092021788</td>\n",
       "      <td>Found one unlabeled bottle of degreaser. Prop...</td>\n",
       "      <td>0</td>\n",
       "    </tr>\n",
       "  </tbody>\n",
       "</table>\n",
       "</div>"
      ],
      "text/plain": [
       "           id                                           comments  penalty\n",
       "0  4092015279   Found unlabeled bottle with purple liquid in ...        0\n",
       "1  4092014572                      Sanitizer bottle was labeled.        0\n",
       "2  4092015906   Found an unlabeled spray bottle and large jug...        1\n",
       "3  4092013840   Found unlabeled bottle with purple liquid in ...        0\n",
       "4  4092021788   Found one unlabeled bottle of degreaser. Prop...        0"
      ]
     },
     "execution_count": 382,
     "metadata": {},
     "output_type": "execute_result"
    }
   ],
   "source": [
    "violations_df_clean.head()"
   ]
  },
  {
   "cell_type": "code",
   "execution_count": 383,
   "metadata": {},
   "outputs": [
    {
     "data": {
      "text/html": [
       "<div>\n",
       "<style scoped>\n",
       "    .dataframe tbody tr th:only-of-type {\n",
       "        vertical-align: middle;\n",
       "    }\n",
       "\n",
       "    .dataframe tbody tr th {\n",
       "        vertical-align: top;\n",
       "    }\n",
       "\n",
       "    .dataframe thead th {\n",
       "        text-align: right;\n",
       "    }\n",
       "</style>\n",
       "<table border=\"1\" class=\"dataframe\">\n",
       "  <thead>\n",
       "    <tr style=\"text-align: right;\">\n",
       "      <th></th>\n",
       "      <th>zip</th>\n",
       "      <th>name</th>\n",
       "      <th>rating</th>\n",
       "      <th>review_count</th>\n",
       "    </tr>\n",
       "  </thead>\n",
       "  <tbody>\n",
       "    <tr>\n",
       "      <th>0</th>\n",
       "      <td>27560</td>\n",
       "      <td>42nd street oyster bar - rdu airport</td>\n",
       "      <td>2.5</td>\n",
       "      <td>23</td>\n",
       "    </tr>\n",
       "    <tr>\n",
       "      <th>1</th>\n",
       "      <td>27519</td>\n",
       "      <td>aldi foods</td>\n",
       "      <td>4.0</td>\n",
       "      <td>17</td>\n",
       "    </tr>\n",
       "    <tr>\n",
       "      <th>2</th>\n",
       "      <td>27612</td>\n",
       "      <td>luciano pizzeria ristorante</td>\n",
       "      <td>5.0</td>\n",
       "      <td>2</td>\n",
       "    </tr>\n",
       "    <tr>\n",
       "      <th>3</th>\n",
       "      <td>27893</td>\n",
       "      <td>olive garden italian restaurant</td>\n",
       "      <td>3.0</td>\n",
       "      <td>16</td>\n",
       "    </tr>\n",
       "    <tr>\n",
       "      <th>4</th>\n",
       "      <td>27896</td>\n",
       "      <td>subway</td>\n",
       "      <td>3.5</td>\n",
       "      <td>3</td>\n",
       "    </tr>\n",
       "  </tbody>\n",
       "</table>\n",
       "</div>"
      ],
      "text/plain": [
       "     zip                                  name  rating  review_count\n",
       "0  27560  42nd street oyster bar - rdu airport     2.5            23\n",
       "1  27519                            aldi foods     4.0            17\n",
       "2  27612           luciano pizzeria ristorante     5.0             2\n",
       "3  27893       olive garden italian restaurant     3.0            16\n",
       "4  27896                                subway     3.5             3"
      ]
     },
     "execution_count": 383,
     "metadata": {},
     "output_type": "execute_result"
    }
   ],
   "source": [
    "yelp_df_clean.head()"
   ]
  },
  {
   "cell_type": "markdown",
   "metadata": {},
   "source": [
    "### Connect Restaurant \"id\" to Yelp Data"
   ]
  },
  {
   "cell_type": "markdown",
   "metadata": {},
   "source": [
    "Merge based on restaurant name (standardized) and zipcode (standardized)"
   ]
  },
  {
   "cell_type": "code",
   "execution_count": 384,
   "metadata": {},
   "outputs": [],
   "source": [
    "merged_df = restaurants_df_clean.merge(yelp_df_clean, how=\"left\", left_on=[\"zip\", \"name\"], right_on=[\"zip\", \"name\"])\n",
    "merged_df.dropna(axis=\"index\", how=\"any\", subset=[\"rating\"], inplace=True)\n",
    "\n",
    "merged_df = merged_df[[\"id\", \"zip\", \"name\", \"rating\", \"review_count\"]]"
   ]
  },
  {
   "cell_type": "code",
   "execution_count": 385,
   "metadata": {},
   "outputs": [
    {
     "data": {
      "text/html": [
       "<div>\n",
       "<style scoped>\n",
       "    .dataframe tbody tr th:only-of-type {\n",
       "        vertical-align: middle;\n",
       "    }\n",
       "\n",
       "    .dataframe tbody tr th {\n",
       "        vertical-align: top;\n",
       "    }\n",
       "\n",
       "    .dataframe thead th {\n",
       "        text-align: right;\n",
       "    }\n",
       "</style>\n",
       "<table border=\"1\" class=\"dataframe\">\n",
       "  <thead>\n",
       "    <tr style=\"text-align: right;\">\n",
       "      <th></th>\n",
       "      <th>id</th>\n",
       "      <th>zip</th>\n",
       "      <th>name</th>\n",
       "      <th>rating</th>\n",
       "      <th>review_count</th>\n",
       "    </tr>\n",
       "  </thead>\n",
       "  <tbody>\n",
       "    <tr>\n",
       "      <th>0</th>\n",
       "      <td>4092017230</td>\n",
       "      <td>27616</td>\n",
       "      <td>spring cafe</td>\n",
       "      <td>3.5</td>\n",
       "      <td>35.0</td>\n",
       "    </tr>\n",
       "    <tr>\n",
       "      <th>1</th>\n",
       "      <td>4092014444</td>\n",
       "      <td>27587</td>\n",
       "      <td>taco bell</td>\n",
       "      <td>3.0</td>\n",
       "      <td>8.0</td>\n",
       "    </tr>\n",
       "    <tr>\n",
       "      <th>2</th>\n",
       "      <td>4092015333</td>\n",
       "      <td>27601</td>\n",
       "      <td>the remedy diner</td>\n",
       "      <td>4.0</td>\n",
       "      <td>347.0</td>\n",
       "    </tr>\n",
       "    <tr>\n",
       "      <th>3</th>\n",
       "      <td>4092016679</td>\n",
       "      <td>27601</td>\n",
       "      <td>bittersweet</td>\n",
       "      <td>4.0</td>\n",
       "      <td>150.0</td>\n",
       "    </tr>\n",
       "    <tr>\n",
       "      <th>4</th>\n",
       "      <td>4092014493</td>\n",
       "      <td>27617</td>\n",
       "      <td>chick-fil-a</td>\n",
       "      <td>3.5</td>\n",
       "      <td>20.0</td>\n",
       "    </tr>\n",
       "  </tbody>\n",
       "</table>\n",
       "</div>"
      ],
      "text/plain": [
       "           id    zip              name  rating  review_count\n",
       "0  4092017230  27616       spring cafe     3.5          35.0\n",
       "1  4092014444  27587         taco bell     3.0           8.0\n",
       "2  4092015333  27601  the remedy diner     4.0         347.0\n",
       "3  4092016679  27601       bittersweet     4.0         150.0\n",
       "4  4092014493  27617       chick-fil-a     3.5          20.0"
      ]
     },
     "execution_count": 385,
     "metadata": {},
     "output_type": "execute_result"
    }
   ],
   "source": [
    "merged_df.head()"
   ]
  },
  {
   "cell_type": "code",
   "execution_count": 386,
   "metadata": {},
   "outputs": [
    {
     "data": {
      "text/html": [
       "<div>\n",
       "<style scoped>\n",
       "    .dataframe tbody tr th:only-of-type {\n",
       "        vertical-align: middle;\n",
       "    }\n",
       "\n",
       "    .dataframe tbody tr th {\n",
       "        vertical-align: top;\n",
       "    }\n",
       "\n",
       "    .dataframe thead th {\n",
       "        text-align: right;\n",
       "    }\n",
       "</style>\n",
       "<table border=\"1\" class=\"dataframe\">\n",
       "  <thead>\n",
       "    <tr style=\"text-align: right;\">\n",
       "      <th></th>\n",
       "      <th>id</th>\n",
       "      <th>zip</th>\n",
       "      <th>name</th>\n",
       "      <th>rating</th>\n",
       "      <th>review_count</th>\n",
       "    </tr>\n",
       "  </thead>\n",
       "  <tbody>\n",
       "    <tr>\n",
       "      <th>16</th>\n",
       "      <td>4092014233</td>\n",
       "      <td>27526</td>\n",
       "      <td>sheetz</td>\n",
       "      <td>2.0</td>\n",
       "      <td>3.0</td>\n",
       "    </tr>\n",
       "    <tr>\n",
       "      <th>17</th>\n",
       "      <td>4092014233</td>\n",
       "      <td>27526</td>\n",
       "      <td>sheetz</td>\n",
       "      <td>4.0</td>\n",
       "      <td>1.0</td>\n",
       "    </tr>\n",
       "    <tr>\n",
       "      <th>18</th>\n",
       "      <td>4092014233</td>\n",
       "      <td>27526</td>\n",
       "      <td>sheetz</td>\n",
       "      <td>4.5</td>\n",
       "      <td>8.0</td>\n",
       "    </tr>\n",
       "    <tr>\n",
       "      <th>32</th>\n",
       "      <td>4092016069</td>\n",
       "      <td>27502</td>\n",
       "      <td>subway</td>\n",
       "      <td>4.0</td>\n",
       "      <td>2.0</td>\n",
       "    </tr>\n",
       "    <tr>\n",
       "      <th>33</th>\n",
       "      <td>4092016069</td>\n",
       "      <td>27502</td>\n",
       "      <td>subway</td>\n",
       "      <td>2.0</td>\n",
       "      <td>3.0</td>\n",
       "    </tr>\n",
       "  </tbody>\n",
       "</table>\n",
       "</div>"
      ],
      "text/plain": [
       "            id    zip    name  rating  review_count\n",
       "16  4092014233  27526  sheetz     2.0           3.0\n",
       "17  4092014233  27526  sheetz     4.0           1.0\n",
       "18  4092014233  27526  sheetz     4.5           8.0\n",
       "32  4092016069  27502  subway     4.0           2.0\n",
       "33  4092016069  27502  subway     2.0           3.0"
      ]
     },
     "execution_count": 386,
     "metadata": {},
     "output_type": "execute_result"
    }
   ],
   "source": [
    "# Rows with duplicate \"id\"\n",
    "conflicting = merged_df[merged_df.duplicated(subset=[\"id\"], keep=False)]\n",
    "conflicting.head()"
   ]
  },
  {
   "cell_type": "markdown",
   "metadata": {},
   "source": [
    "Here, rows with conflicting \"id\" entries are dropped. Duplicate \"id\" entries are caused by conflicting Yelp data (multiple ratings/review counts per location). It has already been previously verified that \"id\" values are unique to each restaurant. There is no satisfactory resolution to this conflict."
   ]
  },
  {
   "cell_type": "code",
   "execution_count": 387,
   "metadata": {},
   "outputs": [],
   "source": [
    "final_restaurant_df = merged_df.drop_duplicates(subset=\"id\")"
   ]
  },
  {
   "cell_type": "markdown",
   "metadata": {},
   "source": [
    "Drop any PII"
   ]
  },
  {
   "cell_type": "code",
   "execution_count": 388,
   "metadata": {},
   "outputs": [],
   "source": [
    "final_restaurant_df = final_restaurant_df.drop(labels=[\n",
    "    \"zip\",\n",
    "    \"name\",\n",
    "], axis=\"columns\")"
   ]
  },
  {
   "cell_type": "markdown",
   "metadata": {},
   "source": [
    "### Data Ready for Analysis"
   ]
  },
  {
   "cell_type": "code",
   "execution_count": 389,
   "metadata": {},
   "outputs": [
    {
     "data": {
      "text/html": [
       "<div>\n",
       "<style scoped>\n",
       "    .dataframe tbody tr th:only-of-type {\n",
       "        vertical-align: middle;\n",
       "    }\n",
       "\n",
       "    .dataframe tbody tr th {\n",
       "        vertical-align: top;\n",
       "    }\n",
       "\n",
       "    .dataframe thead th {\n",
       "        text-align: right;\n",
       "    }\n",
       "</style>\n",
       "<table border=\"1\" class=\"dataframe\">\n",
       "  <thead>\n",
       "    <tr style=\"text-align: right;\">\n",
       "      <th></th>\n",
       "      <th>id</th>\n",
       "      <th>rating</th>\n",
       "      <th>review_count</th>\n",
       "    </tr>\n",
       "  </thead>\n",
       "  <tbody>\n",
       "    <tr>\n",
       "      <th>0</th>\n",
       "      <td>4092017230</td>\n",
       "      <td>3.5</td>\n",
       "      <td>35.0</td>\n",
       "    </tr>\n",
       "    <tr>\n",
       "      <th>1</th>\n",
       "      <td>4092014444</td>\n",
       "      <td>3.0</td>\n",
       "      <td>8.0</td>\n",
       "    </tr>\n",
       "    <tr>\n",
       "      <th>2</th>\n",
       "      <td>4092015333</td>\n",
       "      <td>4.0</td>\n",
       "      <td>347.0</td>\n",
       "    </tr>\n",
       "    <tr>\n",
       "      <th>3</th>\n",
       "      <td>4092016679</td>\n",
       "      <td>4.0</td>\n",
       "      <td>150.0</td>\n",
       "    </tr>\n",
       "    <tr>\n",
       "      <th>4</th>\n",
       "      <td>4092014493</td>\n",
       "      <td>3.5</td>\n",
       "      <td>20.0</td>\n",
       "    </tr>\n",
       "  </tbody>\n",
       "</table>\n",
       "</div>"
      ],
      "text/plain": [
       "           id  rating  review_count\n",
       "0  4092017230     3.5          35.0\n",
       "1  4092014444     3.0           8.0\n",
       "2  4092015333     4.0         347.0\n",
       "3  4092016679     4.0         150.0\n",
       "4  4092014493     3.5          20.0"
      ]
     },
     "execution_count": 389,
     "metadata": {},
     "output_type": "execute_result"
    }
   ],
   "source": [
    "final_restaurant_df.head()"
   ]
  },
  {
   "cell_type": "code",
   "execution_count": 390,
   "metadata": {},
   "outputs": [
    {
     "data": {
      "text/html": [
       "<div>\n",
       "<style scoped>\n",
       "    .dataframe tbody tr th:only-of-type {\n",
       "        vertical-align: middle;\n",
       "    }\n",
       "\n",
       "    .dataframe tbody tr th {\n",
       "        vertical-align: top;\n",
       "    }\n",
       "\n",
       "    .dataframe thead th {\n",
       "        text-align: right;\n",
       "    }\n",
       "</style>\n",
       "<table border=\"1\" class=\"dataframe\">\n",
       "  <thead>\n",
       "    <tr style=\"text-align: right;\">\n",
       "      <th></th>\n",
       "      <th>id</th>\n",
       "      <th>comments</th>\n",
       "      <th>penalty</th>\n",
       "    </tr>\n",
       "  </thead>\n",
       "  <tbody>\n",
       "    <tr>\n",
       "      <th>0</th>\n",
       "      <td>4092015279</td>\n",
       "      <td>Found unlabeled bottle with purple liquid in ...</td>\n",
       "      <td>0</td>\n",
       "    </tr>\n",
       "    <tr>\n",
       "      <th>1</th>\n",
       "      <td>4092014572</td>\n",
       "      <td>Sanitizer bottle was labeled.</td>\n",
       "      <td>0</td>\n",
       "    </tr>\n",
       "    <tr>\n",
       "      <th>2</th>\n",
       "      <td>4092015906</td>\n",
       "      <td>Found an unlabeled spray bottle and large jug...</td>\n",
       "      <td>1</td>\n",
       "    </tr>\n",
       "    <tr>\n",
       "      <th>3</th>\n",
       "      <td>4092013840</td>\n",
       "      <td>Found unlabeled bottle with purple liquid in ...</td>\n",
       "      <td>0</td>\n",
       "    </tr>\n",
       "    <tr>\n",
       "      <th>4</th>\n",
       "      <td>4092021788</td>\n",
       "      <td>Found one unlabeled bottle of degreaser. Prop...</td>\n",
       "      <td>0</td>\n",
       "    </tr>\n",
       "  </tbody>\n",
       "</table>\n",
       "</div>"
      ],
      "text/plain": [
       "           id                                           comments  penalty\n",
       "0  4092015279   Found unlabeled bottle with purple liquid in ...        0\n",
       "1  4092014572                      Sanitizer bottle was labeled.        0\n",
       "2  4092015906   Found an unlabeled spray bottle and large jug...        1\n",
       "3  4092013840   Found unlabeled bottle with purple liquid in ...        0\n",
       "4  4092021788   Found one unlabeled bottle of degreaser. Prop...        0"
      ]
     },
     "execution_count": 390,
     "metadata": {},
     "output_type": "execute_result"
    }
   ],
   "source": [
    "violations_df_clean.head()"
   ]
  },
  {
   "cell_type": "markdown",
   "metadata": {},
   "source": [
    "# Data Analysis & Results"
   ]
  },
  {
   "cell_type": "markdown",
   "metadata": {},
   "source": [
    "Notes:\n",
    "* Penalty score and rating are being treated as categorical data"
   ]
  },
  {
   "cell_type": "markdown",
   "metadata": {},
   "source": [
    "Associate the Restaurant's Yelp Data with each Health Violation"
   ]
  },
  {
   "cell_type": "code",
   "execution_count": 391,
   "metadata": {},
   "outputs": [],
   "source": [
    "violation_full_df = violations_df_clean.merge(final_restaurant_df, how=\"right\", on=\"id\")\n",
    "\n",
    "# Remove entries without any comments\n",
    "violation_full_df.dropna(how=\"any\", subset=[\"comments\", \"rating\", \"review_count\"], inplace=True)"
   ]
  },
  {
   "cell_type": "code",
   "execution_count": 392,
   "metadata": {},
   "outputs": [
    {
     "data": {
      "text/html": [
       "<div>\n",
       "<style scoped>\n",
       "    .dataframe tbody tr th:only-of-type {\n",
       "        vertical-align: middle;\n",
       "    }\n",
       "\n",
       "    .dataframe tbody tr th {\n",
       "        vertical-align: top;\n",
       "    }\n",
       "\n",
       "    .dataframe thead th {\n",
       "        text-align: right;\n",
       "    }\n",
       "</style>\n",
       "<table border=\"1\" class=\"dataframe\">\n",
       "  <thead>\n",
       "    <tr style=\"text-align: right;\">\n",
       "      <th></th>\n",
       "      <th>id</th>\n",
       "      <th>comments</th>\n",
       "      <th>penalty</th>\n",
       "      <th>rating</th>\n",
       "      <th>review_count</th>\n",
       "    </tr>\n",
       "  </thead>\n",
       "  <tbody>\n",
       "    <tr>\n",
       "      <th>0</th>\n",
       "      <td>4092010287</td>\n",
       "      <td>Found unlabeled bottle with blue liquid insid...</td>\n",
       "      <td>0.0</td>\n",
       "      <td>4.5</td>\n",
       "      <td>193.0</td>\n",
       "    </tr>\n",
       "    <tr>\n",
       "      <th>1</th>\n",
       "      <td>4092010287</td>\n",
       "      <td>based food and has insufficient consumer advis...</td>\n",
       "      <td>0.0</td>\n",
       "      <td>4.5</td>\n",
       "      <td>193.0</td>\n",
       "    </tr>\n",
       "    <tr>\n",
       "      <th>2</th>\n",
       "      <td>4092010287</td>\n",
       "      <td>603.11- Establishment found to offer meat, sea...</td>\n",
       "      <td>0.0</td>\n",
       "      <td>4.5</td>\n",
       "      <td>193.0</td>\n",
       "    </tr>\n",
       "    <tr>\n",
       "      <th>3</th>\n",
       "      <td>4092010287</td>\n",
       "      <td>103.11(M)- Establishment found to lack an empl...</td>\n",
       "      <td>0.0</td>\n",
       "      <td>4.5</td>\n",
       "      <td>193.0</td>\n",
       "    </tr>\n",
       "    <tr>\n",
       "      <th>4</th>\n",
       "      <td>4092010287</td>\n",
       "      <td>Found some unlabeled bottles/containers of co...</td>\n",
       "      <td>0.0</td>\n",
       "      <td>4.5</td>\n",
       "      <td>193.0</td>\n",
       "    </tr>\n",
       "  </tbody>\n",
       "</table>\n",
       "</div>"
      ],
      "text/plain": [
       "           id                                           comments  penalty  \\\n",
       "0  4092010287   Found unlabeled bottle with blue liquid insid...      0.0   \n",
       "1  4092010287  based food and has insufficient consumer advis...      0.0   \n",
       "2  4092010287  603.11- Establishment found to offer meat, sea...      0.0   \n",
       "3  4092010287  103.11(M)- Establishment found to lack an empl...      0.0   \n",
       "4  4092010287   Found some unlabeled bottles/containers of co...      0.0   \n",
       "\n",
       "   rating  review_count  \n",
       "0     4.5         193.0  \n",
       "1     4.5         193.0  \n",
       "2     4.5         193.0  \n",
       "3     4.5         193.0  \n",
       "4     4.5         193.0  "
      ]
     },
     "execution_count": 392,
     "metadata": {},
     "output_type": "execute_result"
    }
   ],
   "source": [
    "violation_full_df.head()"
   ]
  },
  {
   "cell_type": "markdown",
   "metadata": {},
   "source": [
    "## EDA"
   ]
  },
  {
   "cell_type": "code",
   "execution_count": 393,
   "metadata": {},
   "outputs": [
    {
     "data": {
      "image/png": "[encoded data removed]",
      "text/plain": [
       "<Figure size 864x360 with 1 Axes>"
      ]
     },
     "metadata": {
      "needs_background": "light"
     },
     "output_type": "display_data"
    }
   ],
   "source": [
    "penalty_plot = sns.countplot(x=\"penalty\", data=violation_full_df, color=\"grey\", orient=\"v\")\n",
    "penalty_plot.set_xlabel(\"Health Violation Penalty\", fontsize=14)\n",
    "penalty_plot.set_ylabel(\"Count\", rotation=0,labelpad=40, fontsize=14)\n",
    "penalty_plot.set_title(\"Violation Penalty Distribution\", fontsize=20)\n",
    "penalty_plot.set_xticks([0, 1, 2, 3 ,4], minor=False);\n",
    "\n",
    "caption = \"Health violation penalties are overwhelming '0' or '1'\"\n",
    "plt.figtext(0.5, -0.05, caption, wrap=True, horizontalalignment='center', fontsize=16);\n",
    "\n",
    "penalty_plot = plt.gcf()\n",
    "penalty_plot.set_size_inches(12, 5, forward=True)"
   ]
  },
  {
   "cell_type": "code",
   "execution_count": 394,
   "metadata": {},
   "outputs": [
    {
     "data": {
      "text/plain": [
       "(47364, 5)"
      ]
     },
     "execution_count": 394,
     "metadata": {},
     "output_type": "execute_result"
    }
   ],
   "source": [
    "violation_full_df.shape"
   ]
  },
  {
   "cell_type": "markdown",
   "metadata": {},
   "source": [
    "This should not come as a surprise. If restaurants had multiple violations with penalties of 2 or more, they would have poorer total scores and would be more likely to close due to health code violations. However, the sheer number of 0 cost penalties is staggering which again begs the question: how lenient are inspectors being? Penalties of 2 or more points are demonstrated to be extremely rare (1480/47364 or 3.125%)."
   ]
  },
  {
   "cell_type": "code",
   "execution_count": 395,
   "metadata": {},
   "outputs": [
    {
     "data": {
      "image/png": "[encoded data removed]",
      "text/plain": [
       "<Figure size 864x360 with 1 Axes>"
      ]
     },
     "metadata": {
      "needs_background": "light"
     },
     "output_type": "display_data"
    }
   ],
   "source": [
    "yelp_review_plot = sns.countplot(final_restaurant_df[\"rating\"], color=\"grey\")\n",
    "yelp_review_plot.set_xlabel(\"Yelp Rating\", fontsize=14)\n",
    "yelp_review_plot.set_ylabel(\"Number of\\nRestaurants\", rotation=0, labelpad=50, fontsize=14)\n",
    "yelp_review_plot.set_title(\"Yelp Rating Distribution\", fontsize=20)\n",
    "\n",
    "caption = \"Restaurant ratings are distributed close to normal.\"\n",
    "plt.figtext(0.5, -0.05, caption, wrap=True, horizontalalignment='center', fontsize=16);\n",
    "\n",
    "penalty_plot = plt.gcf()\n",
    "penalty_plot.set_size_inches(12, 5, forward=True)"
   ]
  },
  {
   "cell_type": "code",
   "execution_count": 396,
   "metadata": {},
   "outputs": [
    {
     "data": {
      "image/png": "[encoded data removed]",
      "text/plain": [
       "<Figure size 864x360 with 1 Axes>"
      ]
     },
     "metadata": {
      "needs_background": "light"
     },
     "output_type": "display_data"
    }
   ],
   "source": [
    "rating_review_count_plot = sns.stripplot(x=\"rating\", y=\"review_count\", data=final_restaurant_df, color=[0.5, 0.5, 0.9], linewidth=0, alpha=0.5)\n",
    "rating_review_count_plot.set_xlabel(\"Yelp Rating\", fontsize=14)\n",
    "rating_review_count_plot.set_ylabel(\"Number of\\nReviews\", rotation=0,labelpad=50, fontsize=14)\n",
    "rating_review_count_plot.set_title(\"Yelp Rating vs Number of Reviews\", fontsize=18)\n",
    "\n",
    "caption = \"Number of reviews tends to increase with a higher rating before dropping off.\"\n",
    "plt.figtext(0.5, -0.05, caption, wrap=True, horizontalalignment='center', fontsize=16);\n",
    "\n",
    "penalty_plot = plt.gcf()\n",
    "penalty_plot.set_size_inches(12, 5, forward=True)"
   ]
  },
  {
   "cell_type": "markdown",
   "metadata": {},
   "source": [
    "There is one outlier with rating of four with a number of reviews of around 1800. In general however, there is a visible trend of higher number of reviews for higher rated restaurants which begins to drop off after a rating of 4."
   ]
  },
  {
   "cell_type": "code",
   "execution_count": 397,
   "metadata": {},
   "outputs": [
    {
     "name": "stdout",
     "output_type": "stream",
     "text": [
      "Average comment lenght: 196.74660079385188\n"
     ]
    },
    {
     "data": {
      "image/png": "[encoded data removed]",
      "text/plain": [
       "<Figure size 864x360 with 1 Axes>"
      ]
     },
     "metadata": {
      "needs_background": "light"
     },
     "output_type": "display_data"
    }
   ],
   "source": [
    "comment_length_plot = sns.distplot(violation_full_df[\"comments\"].apply(lambda c: len(c)), kde=False)\n",
    "comment_length_plot.set_xlabel(\"Comment Length\")\n",
    "\n",
    "print(\"Average comment lenght: {}\".format(violation_full_df[\"comments\"].apply(lambda c: len(c)).agg(\"mean\")))\n",
    "\n",
    "comment_length_plot.set_xlabel(\"Health Violation Comment Length\", fontsize=14)\n",
    "comment_length_plot.set_ylabel(\"Number of\\nComments\", rotation=0,labelpad=55, fontsize=14)\n",
    "comment_length_plot.set_title(\"Health Violation Comment Length Distribution\", fontsize=18)\n",
    "\n",
    "caption = \"Comment length is right-skewed.\"\n",
    "plt.figtext(0.5, -0.05, caption, wrap=True, horizontalalignment='center', fontsize=16);\n",
    "\n",
    "comment_length_plot = plt.gcf()\n",
    "comment_length_plot.set_size_inches(12, 5, forward=True)"
   ]
  },
  {
   "cell_type": "code",
   "execution_count": 398,
   "metadata": {},
   "outputs": [
    {
     "data": {
      "image/png": "[encoded data removed]",
      "text/plain": [
       "<Figure size 864x360 with 1 Axes>"
      ]
     },
     "metadata": {
      "needs_background": "light"
     },
     "output_type": "display_data"
    }
   ],
   "source": [
    "penalty_comment_length_plot = sns.boxplot(x=violation_full_df[\"penalty\"], y=violation_full_df[\"comments\"].apply(lambda c: len(c)))\n",
    "\n",
    "penalty_comment_length_plot.set_xlabel(\"Penalty Score\", fontsize=14)\n",
    "penalty_comment_length_plot.set_ylabel(\"Comment Length\", rotation=0,labelpad=55, fontsize=14)\n",
    "penalty_comment_length_plot.set_title(\"Heatlh Violation Comments per Penalty Score\", fontsize=18)\n",
    "\n",
    "caption = \"The \\'higher\\' the penalty score, the longer the average comment length.\"\n",
    "plt.figtext(0.5, -0.05, caption, wrap=True, horizontalalignment='center', fontsize=16);\n",
    "\n",
    "penalty_comment_length_plot = plt.gcf()\n",
    "penalty_comment_length_plot.set_size_inches(12, 5, forward=True)"
   ]
  },
  {
   "cell_type": "markdown",
   "metadata": {},
   "source": [
    "The higher the penalty, the more severe the health code violation. Thus, it would make more sense that the average comment length would increase. However, the sheer number of outliers for a penalty score of 0 brings into question what inspectors are actually commenting about. If it were a minor infraction, it would be reasonable to think that there would be less to discuss."
   ]
  },
  {
   "cell_type": "markdown",
   "metadata": {},
   "source": [
    "## Model Generation"
   ]
  },
  {
   "cell_type": "code",
   "execution_count": 399,
   "metadata": {},
   "outputs": [
    {
     "data": {
      "text/html": [
       "<div>\n",
       "<style scoped>\n",
       "    .dataframe tbody tr th:only-of-type {\n",
       "        vertical-align: middle;\n",
       "    }\n",
       "\n",
       "    .dataframe tbody tr th {\n",
       "        vertical-align: top;\n",
       "    }\n",
       "\n",
       "    .dataframe thead th {\n",
       "        text-align: right;\n",
       "    }\n",
       "</style>\n",
       "<table border=\"1\" class=\"dataframe\">\n",
       "  <thead>\n",
       "    <tr style=\"text-align: right;\">\n",
       "      <th></th>\n",
       "      <th>id</th>\n",
       "      <th>comments</th>\n",
       "      <th>penalty</th>\n",
       "      <th>rating</th>\n",
       "      <th>review_count</th>\n",
       "    </tr>\n",
       "  </thead>\n",
       "  <tbody>\n",
       "    <tr>\n",
       "      <th>0</th>\n",
       "      <td>4092013869</td>\n",
       "      <td>Remove rusty wire shelves in seafood refriger...</td>\n",
       "      <td>1.0</td>\n",
       "      <td>3.5</td>\n",
       "      <td>230.0</td>\n",
       "    </tr>\n",
       "    <tr>\n",
       "      <th>1</th>\n",
       "      <td>4092015210</td>\n",
       "      <td>The floor grout in the high traffic areas is ...</td>\n",
       "      <td>1.0</td>\n",
       "      <td>3.0</td>\n",
       "      <td>19.0</td>\n",
       "    </tr>\n",
       "    <tr>\n",
       "      <th>2</th>\n",
       "      <td>4092016427</td>\n",
       "      <td>601.11 (A) . The ice machine is starting to ha...</td>\n",
       "      <td>0.0</td>\n",
       "      <td>3.5</td>\n",
       "      <td>82.0</td>\n",
       "    </tr>\n",
       "    <tr>\n",
       "      <th>3</th>\n",
       "      <td>4092011286</td>\n",
       "      <td>Store wet wiping cloths in sanitizer.  Observ...</td>\n",
       "      <td>0.0</td>\n",
       "      <td>3.5</td>\n",
       "      <td>46.0</td>\n",
       "    </tr>\n",
       "    <tr>\n",
       "      <th>4</th>\n",
       "      <td>4092015923</td>\n",
       "      <td>Due to the new installation of the hood syste...</td>\n",
       "      <td>0.0</td>\n",
       "      <td>4.5</td>\n",
       "      <td>311.0</td>\n",
       "    </tr>\n",
       "  </tbody>\n",
       "</table>\n",
       "</div>"
      ],
      "text/plain": [
       "           id                                           comments  penalty  \\\n",
       "0  4092013869   Remove rusty wire shelves in seafood refriger...      1.0   \n",
       "1  4092015210   The floor grout in the high traffic areas is ...      1.0   \n",
       "2  4092016427  601.11 (A) . The ice machine is starting to ha...      0.0   \n",
       "3  4092011286   Store wet wiping cloths in sanitizer.  Observ...      0.0   \n",
       "4  4092015923   Due to the new installation of the hood syste...      0.0   \n",
       "\n",
       "   rating  review_count  \n",
       "0     3.5         230.0  \n",
       "1     3.0          19.0  \n",
       "2     3.5          82.0  \n",
       "3     3.5          46.0  \n",
       "4     4.5         311.0  "
      ]
     },
     "execution_count": 399,
     "metadata": {},
     "output_type": "execute_result"
    }
   ],
   "source": [
    "# Randomize input data\n",
    "violation_full_df = violation_full_df.sample(frac=1, random_state=200).reset_index(drop=True)\n",
    "violation_full_df.head()"
   ]
  },
  {
   "cell_type": "code",
   "execution_count": 400,
   "metadata": {},
   "outputs": [],
   "source": [
    "# Generic SVM training routine\n",
    "def train_SVM(X, Y, kernel='linear', class_weight=None):\n",
    "    model = SVC(kernel=kernel, class_weight=class_weight)\n",
    "    model.fit(X, Y)\n",
    "    return model"
   ]
  },
  {
   "cell_type": "markdown",
   "metadata": {},
   "source": [
    "Calculate number of observations"
   ]
  },
  {
   "cell_type": "code",
   "execution_count": 401,
   "metadata": {},
   "outputs": [
    {
     "name": "stdout",
     "output_type": "stream",
     "text": [
      "Training:\t11367\n",
      "Testing:\t2841\n",
      "TOTAL:\t\t14209\n"
     ]
    }
   ],
   "source": [
    "# performance_scale is used to take a subset of the data in order to train the models in a reasonable time\n",
    "performance_scale = 0.3\n",
    "num_total = int(violation_full_df.shape[0] * performance_scale)\n",
    "num_training = int(0.8 * num_total)\n",
    "num_test = int(0.2 * num_total)\n",
    "\n",
    "print(\"Training:\\t{}\\nTesting:\\t{}\\nTOTAL:\\t\\t{}\".format(num_training, num_test,num_total))"
   ]
  },
  {
   "cell_type": "markdown",
   "metadata": {},
   "source": [
    "#### Classification Based on Yelp Rating"
   ]
  },
  {
   "cell_type": "code",
   "execution_count": 402,
   "metadata": {},
   "outputs": [],
   "source": [
    "# Translate rating into a value between [0, 1]\n",
    "min_max_scaler = MinMaxScaler()\n",
    "rating_X = np.array(violation_full_df[\"rating\"]).reshape(-1, 1)\n",
    "rating_X = min_max_scaler.fit_transform(rating_X)"
   ]
  },
  {
   "cell_type": "code",
   "execution_count": 403,
   "metadata": {},
   "outputs": [],
   "source": [
    "rating_Y = np.array(violation_full_df['penalty'])"
   ]
  },
  {
   "cell_type": "code",
   "execution_count": 404,
   "metadata": {},
   "outputs": [],
   "source": [
    "rating_train_x = rating_X[0:num_training]\n",
    "rating_test_x = rating_X[num_training:num_training+num_test]\n",
    "\n",
    "rating_train_y = rating_Y[0:num_training]\n",
    "rating_test_y = rating_Y[num_training:num_training+num_test]"
   ]
  },
  {
   "cell_type": "code",
   "execution_count": 405,
   "metadata": {},
   "outputs": [],
   "source": [
    "svm_model_pure_rating = train_SVM(rating_train_x, rating_train_y,kernel='rbf')"
   ]
  },
  {
   "cell_type": "code",
   "execution_count": 406,
   "metadata": {},
   "outputs": [],
   "source": [
    "df_predicted_raiting_train_y = svm_model_pure_rating.predict(rating_train_x)"
   ]
  },
  {
   "cell_type": "code",
   "execution_count": 441,
   "metadata": {},
   "outputs": [
    {
     "name": "stdout",
     "output_type": "stream",
     "text": [
      "Training data performance\n",
      "              precision    recall  f1-score   support\n",
      "\n",
      "         0.0       0.71      1.00      0.83      8078\n",
      "         1.0       0.00      0.00      0.00      2945\n",
      "         2.0       0.00      0.00      0.00       282\n",
      "         3.0       0.00      0.00      0.00        61\n",
      "         4.0       0.00      0.00      0.00         1\n",
      "\n",
      "    accuracy                           0.71     11367\n",
      "   macro avg       0.14      0.20      0.17     11367\n",
      "weighted avg       0.51      0.71      0.59     11367\n",
      "\n"
     ]
    }
   ],
   "source": [
    "print(\"Training data performance\")\n",
    "rating_train_report = classification_report(rating_train_y, df_predicted_raiting_train_y, zero_division=0, output_dict=True)\n",
    "print(classification_report(rating_train_y, df_predicted_raiting_train_y, zero_division=0))"
   ]
  },
  {
   "cell_type": "code",
   "execution_count": 442,
   "metadata": {},
   "outputs": [],
   "source": [
    "df_predicted_rating_test_y = svm_model_pure_rating.predict(rating_test_x)"
   ]
  },
  {
   "cell_type": "code",
   "execution_count": 443,
   "metadata": {},
   "outputs": [
    {
     "name": "stdout",
     "output_type": "stream",
     "text": [
      "Test data performance\n",
      "              precision    recall  f1-score   support\n",
      "\n",
      "         0.0       0.70      1.00      0.83      1997\n",
      "         1.0       0.00      0.00      0.00       750\n",
      "         2.0       0.00      0.00      0.00        79\n",
      "         3.0       0.00      0.00      0.00        15\n",
      "\n",
      "    accuracy                           0.70      2841\n",
      "   macro avg       0.18      0.25      0.21      2841\n",
      "weighted avg       0.49      0.70      0.58      2841\n",
      "\n"
     ]
    }
   ],
   "source": [
    "print(\"Test data performance\")\n",
    "rating_test_report = classification_report(rating_test_y, df_predicted_rating_test_y, zero_division=0, output_dict=True)\n",
    "print(classification_report(rating_test_y, df_predicted_rating_test_y, zero_division=0))"
   ]
  },
  {
   "cell_type": "markdown",
   "metadata": {},
   "source": [
    "#### Classification Based on Comment Content"
   ]
  },
  {
   "cell_type": "code",
   "execution_count": 444,
   "metadata": {},
   "outputs": [],
   "source": [
    "# Create vectorizer & specify parameters\n",
    "tfidf = TfidfVectorizer(sublinear_tf=True, #apply sublinear TF scaling\n",
    "                        analyzer='word',   #specify tokenizer\n",
    "                        max_features=50, # specify max # of features to include\n",
    "                        tokenizer=word_tokenize,\n",
    "                        stop_words=\"english\")\n",
    "\n",
    "# Learn vocabulary and idf, return term-document matrix.\n",
    "# return an array;our predictor\n",
    "tfidf_X = tfidf.fit_transform(violation_full_df['comments']).toarray()"
   ]
  },
  {
   "cell_type": "code",
   "execution_count": 445,
   "metadata": {},
   "outputs": [],
   "source": [
    "tfidf_Y = np.array(violation_full_df['penalty'])"
   ]
  },
  {
   "cell_type": "markdown",
   "metadata": {},
   "source": [
    "Partition the data into training/test sets"
   ]
  },
  {
   "cell_type": "code",
   "execution_count": 446,
   "metadata": {},
   "outputs": [],
   "source": [
    "tfidf_train_x = tfidf_X[0:num_training]\n",
    "tfidf_test_x = tfidf_X[num_training:num_training+num_test]\n",
    "\n",
    "tfidf_train_y = tfidf_Y[0:num_training]\n",
    "tfidf_test_y = tfidf_Y[num_training:num_training+num_test]"
   ]
  },
  {
   "cell_type": "code",
   "execution_count": 447,
   "metadata": {},
   "outputs": [],
   "source": [
    "svm_model_pure_tfidf = train_SVM(tfidf_train_x, tfidf_train_y, kernel='rbf')"
   ]
  },
  {
   "cell_type": "code",
   "execution_count": 448,
   "metadata": {},
   "outputs": [],
   "source": [
    "df_predicted_tfidf_train_y = svm_model_pure_tfidf.predict(tfidf_train_x)"
   ]
  },
  {
   "cell_type": "code",
   "execution_count": 449,
   "metadata": {},
   "outputs": [
    {
     "name": "stdout",
     "output_type": "stream",
     "text": [
      "Training data performance\n",
      "              precision    recall  f1-score   support\n",
      "\n",
      "         0.0       0.77      0.98      0.86      8078\n",
      "         1.0       0.80      0.27      0.40      2945\n",
      "         2.0       0.82      0.36      0.50       282\n",
      "         3.0       0.00      0.00      0.00        61\n",
      "         4.0       0.00      0.00      0.00         1\n",
      "\n",
      "    accuracy                           0.77     11367\n",
      "   macro avg       0.48      0.32      0.35     11367\n",
      "weighted avg       0.78      0.77      0.73     11367\n",
      "\n"
     ]
    }
   ],
   "source": [
    "print(\"Training data performance\")\n",
    "comment_train_report = classification_report(tfidf_train_y, df_predicted_tfidf_train_y, zero_division=0, output_dict=True)\n",
    "print(classification_report(tfidf_train_y, df_predicted_tfidf_train_y, zero_division=0))"
   ]
  },
  {
   "cell_type": "code",
   "execution_count": 450,
   "metadata": {},
   "outputs": [],
   "source": [
    "df_predicted_tfidf_test_y = svm_model_pure_tfidf.predict(tfidf_test_x)"
   ]
  },
  {
   "cell_type": "code",
   "execution_count": 451,
   "metadata": {},
   "outputs": [
    {
     "name": "stdout",
     "output_type": "stream",
     "text": [
      "Testing data performance\n",
      "              precision    recall  f1-score   support\n",
      "\n",
      "         0.0       0.74      0.96      0.84      1997\n",
      "         1.0       0.64      0.18      0.28       750\n",
      "         2.0       0.66      0.27      0.38        79\n",
      "         3.0       0.00      0.00      0.00        15\n",
      "\n",
      "    accuracy                           0.73      2841\n",
      "   macro avg       0.51      0.35      0.37      2841\n",
      "weighted avg       0.71      0.73      0.67      2841\n",
      "\n"
     ]
    }
   ],
   "source": [
    "print(\"Testing data performance\")\n",
    "comment_test_report = classification_report(tfidf_test_y, df_predicted_tfidf_test_y, zero_division=0, output_dict=True)\n",
    "print(classification_report(tfidf_test_y, df_predicted_tfidf_test_y, zero_division=0))"
   ]
  },
  {
   "cell_type": "markdown",
   "metadata": {},
   "source": [
    "#### Classification Based on Yelp Rating and Comment Content"
   ]
  },
  {
   "cell_type": "code",
   "execution_count": 452,
   "metadata": {},
   "outputs": [],
   "source": [
    "comment_rating_X = np.concatenate((tfidf_X, rating_X), axis=1)"
   ]
  },
  {
   "cell_type": "code",
   "execution_count": 453,
   "metadata": {},
   "outputs": [],
   "source": [
    "comment_rating_Y = np.array(violation_full_df['penalty'])"
   ]
  },
  {
   "cell_type": "code",
   "execution_count": 454,
   "metadata": {},
   "outputs": [],
   "source": [
    "comment_rating_train_x = comment_rating_X[0:num_training]\n",
    "comment_rating_test_x = comment_rating_X[num_training:num_training+num_test]\n",
    "\n",
    "comment_rating_train_y = comment_rating_Y[0:num_training]\n",
    "comment_rating_test_y = comment_rating_Y[num_training:num_training+num_test]"
   ]
  },
  {
   "cell_type": "code",
   "execution_count": 455,
   "metadata": {},
   "outputs": [],
   "source": [
    "svm_model_comment_rating = train_SVM(comment_rating_train_x, comment_rating_train_y, kernel='rbf')"
   ]
  },
  {
   "cell_type": "code",
   "execution_count": 456,
   "metadata": {},
   "outputs": [],
   "source": [
    "df_predicted_comment_rating_train_y = svm_model_comment_rating.predict(comment_rating_train_x)"
   ]
  },
  {
   "cell_type": "code",
   "execution_count": 457,
   "metadata": {},
   "outputs": [
    {
     "name": "stdout",
     "output_type": "stream",
     "text": [
      "Training data performance\n",
      "              precision    recall  f1-score   support\n",
      "\n",
      "         0.0       0.75      0.98      0.85      8078\n",
      "         1.0       0.80      0.19      0.31      2945\n",
      "         2.0       0.83      0.29      0.43       282\n",
      "         3.0       0.00      0.00      0.00        61\n",
      "         4.0       0.00      0.00      0.00         1\n",
      "\n",
      "    accuracy                           0.76     11367\n",
      "   macro avg       0.47      0.29      0.32     11367\n",
      "weighted avg       0.76      0.76      0.70     11367\n",
      "\n"
     ]
    }
   ],
   "source": [
    "print(\"Training data performance\")\n",
    "comment_rating_train_report = classification_report(comment_rating_train_y, df_predicted_comment_rating_train_y, zero_division=0, output_dict=True)\n",
    "print(classification_report(comment_rating_train_y, df_predicted_comment_rating_train_y, zero_division=0))"
   ]
  },
  {
   "cell_type": "code",
   "execution_count": 458,
   "metadata": {},
   "outputs": [],
   "source": [
    "df_predicted_comment_rating_test_y = svm_model_comment_rating.predict(comment_rating_test_x)"
   ]
  },
  {
   "cell_type": "code",
   "execution_count": 459,
   "metadata": {},
   "outputs": [
    {
     "name": "stdout",
     "output_type": "stream",
     "text": [
      "Testing data performance\n",
      "              precision    recall  f1-score   support\n",
      "\n",
      "         0.0       0.73      0.97      0.83      1997\n",
      "         1.0       0.68      0.14      0.24       750\n",
      "         2.0       0.65      0.22      0.32        79\n",
      "         3.0       0.00      0.00      0.00        15\n",
      "\n",
      "    accuracy                           0.73      2841\n",
      "   macro avg       0.52      0.33      0.35      2841\n",
      "weighted avg       0.71      0.73      0.66      2841\n",
      "\n"
     ]
    }
   ],
   "source": [
    "print(\"Testing data performance\")\n",
    "comment_rating_test_report = classification_report(comment_rating_test_y, df_predicted_comment_rating_test_y, zero_division=0, output_dict=True)\n",
    "print(classification_report(comment_rating_test_y, df_predicted_comment_rating_test_y, zero_division=0))"
   ]
  },
  {
   "cell_type": "code",
   "execution_count": 494,
   "metadata": {},
   "outputs": [],
   "source": [
    "performance_df = pd.DataFrame([\n",
    "    [\"Rating\", rating_train_report[\"accuracy\"], \"Train\"],\n",
    "    [\"Rating\", rating_test_report[\"accuracy\"], \"Test\"],\n",
    "    [\"Comment\", comment_train_report[\"accuracy\"], \"Train\"],\n",
    "    [\"Comment\", comment_test_report[\"accuracy\"], \"Test\"],\n",
    "    [\"Comment-Rating\", comment_rating_train_report[\"accuracy\"], \"Train\"],\n",
    "    [\"Comment-Rating\", comment_rating_test_report[\"accuracy\"], \"Test\"],\n",
    "], columns=[\"Model\", \"Data Accuracy\", \"Kind\"])"
   ]
  },
  {
   "cell_type": "code",
   "execution_count": 496,
   "metadata": {},
   "outputs": [
    {
     "data": {
      "image/png": "[encoded data removed]",
      "text/plain": [
       "<Figure size 864x360 with 1 Axes>"
      ]
     },
     "metadata": {
      "needs_background": "light"
     },
     "output_type": "display_data"
    }
   ],
   "source": [
    "accuracy_plot = sns.barplot(x=\"Model\", y=\"Data Accuracy\", hue=\"Kind\", data=performance_df)\n",
    "accuracy_plot.set(ylim=(0, 1))\n",
    "\n",
    "penalty_plot = plt.gcf()\n",
    "penalty_plot.set_size_inches(12, 5, forward=True)"
   ]
  },
  {
   "cell_type": "markdown",
   "metadata": {},
   "source": [
    "# Ethics & Privacy"
   ]
  },
  {
   "cell_type": "markdown",
   "metadata": {},
   "source": [
    "*Fill in your ethics & privacy discussion here*"
   ]
  },
  {
   "cell_type": "markdown",
   "metadata": {},
   "source": [
    "# Conclusion & Discussion"
   ]
  },
  {
   "cell_type": "markdown",
   "metadata": {},
   "source": [
    "*Fill in your discussion information here*"
   ]
  }
 ],
 "metadata": {
  "kernelspec": {
   "display_name": "Python 3",
   "language": "python",
   "name": "python3"
  },
  "language_info": {
   "codemirror_mode": {
    "name": "ipython",
    "version": 3
   },
   "file_extension": ".py",
   "mimetype": "text/x-python",
   "name": "python",
   "nbconvert_exporter": "python",
   "pygments_lexer": "ipython3",
   "version": "3.6.9"
  }
 },
 "nbformat": 4,
 "nbformat_minor": 4
}
