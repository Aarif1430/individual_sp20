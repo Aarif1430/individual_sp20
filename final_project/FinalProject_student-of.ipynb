{
 "cells": [
  {
   "cell_type": "markdown",
   "metadata": {},
   "source": [
    "# COGS 108 - Final Project "
   ]
  },
  {
   "cell_type": "markdown",
   "metadata": {},
   "source": [
    "# Overview"
   ]
  },
  {
   "cell_type": "markdown",
   "metadata": {},
   "source": [
    "This project trains and compares multiple SVM models (each with different features) in order to build a high-performing classifier to identify the severity of health code violations. Such an identifier is useful for consistently rating health code violations throughout an area in order to improve the accuracy and usefulness of health inspection scores. This project found that attempting to incorporate a social dimension (Yelp rating) does *NOT* increase classification performance over pure analysis of the health code violation citations themselves."
   ]
  },
  {
   "cell_type": "markdown",
   "metadata": {},
   "source": [
    "# Name & PID\n",
    "\n",
    "- Name: Alexander Vo\n",
    "- PID: A15049294"
   ]
  },
  {
   "cell_type": "markdown",
   "metadata": {},
   "source": [
    "# Research Question"
   ]
  },
  {
   "cell_type": "markdown",
   "metadata": {},
   "source": [
    "What factors can improve restaurant health violation penalty consistency? How accurate will penalty score classification be based upon inspector comments? Will adding a \"social perception\" dimension through Yelp data improve classification?"
   ]
  },
  {
   "cell_type": "markdown",
   "metadata": {},
   "source": [
    "## Background and Prior Work"
   ]
  },
  {
   "cell_type": "markdown",
   "metadata": {},
   "source": [
    "According to County of San Diego Department of Environmental Health [4], restaurant are given a score out of a 100 upon inspection. Violations incur a penalty from 2-4 (no violations incur a penalty of 1), and a letter grade is assigned: \"A\" for 90-100, \"B\" for 80-89, and \"C\" 0 to 79. \"C\" is considered a failing grade. The exact score is usually not displayed, only the letter grade [3]. Re-inspections can be requested at any time. According to Ho [1] however, San Diego may be inflating scores due to a variety of reasons such as inspector discretion and loose guidelines. These make the scores less trustworthy to the consumer resulting in them being ignored. Due to the variability between inspectors, either stricter guidelines must be implemented or additional tools (such as ML models) must be available to provide constisten heatlh violation score penalties.\n",
    "\n",
    "Shashank and Balakrishna [2] introduced a possible social dimension of health inspections by scanning Yelp reviews to determine random health inspection locations. They found some correltations between health code adherence and review sentiment such as overwhelming negative words in a dirty restaurant and talking more about a restaurant's atmosphere in a clean restaurant.\n",
    "\n",
    "References:\n",
    "- 1) Daniel E. Ho, *Fudging the Nudge: Information Disclosure and Restaurant Grading*, 122 Yale L. J. 574 (2012). https://heinonline.org/HOL/Page?handle=hein.journals/ylr122&collection=journals&id=605&startid=&endid=720\n",
    "- 2) Uppoor, Shashank, and Shreyas Pathre Balakrishna. *Predicting Restaurant Health Inspection Penalty Score from Yelp Reviews*. University of California, San Diego, jmcauley.ucsd.edu/cse258/projects/fa15/036.pdf.\n",
    "- 3) Filion, Katie, and Douglas A. Powell. *The Use of Restaurant Inspection Disclosure Systems as a Means of Communicating Food Safety Information* Journal of Foodservice, vol. 20, no. 6, 2009, pp. 287–297., doi:10.1111/j.1748-0159.2009.00151.x.\n",
    "- 4) “SD Food Info.” SD Food Info Start Search, www.sandiegocounty.gov/content/sdc/deh/fhd/ffis/intro.html.html."
   ]
  },
  {
   "cell_type": "markdown",
   "metadata": {},
   "source": [
    "# Hypothesis\n"
   ]
  },
  {
   "cell_type": "markdown",
   "metadata": {},
   "source": [
    "Including a \"social perception\" dimension (in the form of Yelp rating) **will improve** code violation penalty classification."
   ]
  },
  {
   "cell_type": "markdown",
   "metadata": {},
   "source": [
    "# Dataset(s)"
   ]
  },
  {
   "cell_type": "markdown",
   "metadata": {},
   "source": [
    "- Dataset Name: restaurants.csv\n",
    "- Link: https://canvas.ucsd.edu/courses/12630/assignments/110486\n",
    "- Number of observations: 3324 rows, 14 columns\n",
    "\n",
    "Holds basic data for food-serving venues (not just restaurants) such as location, phone number, and zip code. One restaurant per row.\n",
    "\n",
    "- Dataset Name: violations.csv\n",
    "- Link: https://canvas.ucsd.edu/courses/12630/assignments/110486\n",
    "- Number of observations: 189802 rows, 18 columns\n",
    "\n",
    "Lists a health safety violation per row and containts related data such as inspector, date, and point penalty.\n",
    "\n",
    "- Dataset Name: yelp.csv\n",
    "- Link: https://canvas.ucsd.edu/courses/12630/assignments/110486\n",
    "- Number of observations: 3688 rows, 31 columns\n",
    "\n",
    "Lists one venue per row (with potential duplicates) and contains consumer data such as rating, reviewer count, and address.\n",
    "\n",
    "\n",
    "Restaurants and health violations can be linked together by a common \"hsisid\" (renamed to \"id\") value (each id is unique per restaurant). Yelp data will be connected to restaurant and health violations via ZIP code and name."
   ]
  },
  {
   "cell_type": "markdown",
   "metadata": {},
   "source": [
    "# Setup"
   ]
  },
  {
   "cell_type": "code",
   "execution_count": 538,
   "metadata": {},
   "outputs": [],
   "source": [
    "%matplotlib inline\n",
    "\n",
    "import numpy as np\n",
    "import pandas as pd\n",
    "import matplotlib.pyplot as plt\n",
    "import matplotlib as mpl\n",
    "\n",
    "import nltk\n",
    "from nltk.tokenize import word_tokenize\n",
    "from nltk.corpus import stopwords\n",
    "\n",
    "import random\n",
    "\n",
    "import seaborn as sns\n",
    "\n",
    "from sklearn.svm import SVC\n",
    "from sklearn.feature_extraction.text import TfidfVectorizer\n",
    "from sklearn.metrics import classification_report, precision_recall_fscore_support\n",
    "from sklearn.preprocessing import MinMaxScaler"
   ]
  },
  {
   "cell_type": "markdown",
   "metadata": {},
   "source": [
    "# Data Cleaning"
   ]
  },
  {
   "cell_type": "markdown",
   "metadata": {},
   "source": [
    "1) Load all datasets without any alteration\n",
    "  * restaurant_df = restaurant.csv\n",
    "  * violations_df = violations.csv\n",
    "  * yelp_df = yelp.csv\n",
    "   \n",
    "2) Drop unnecessary/ambiguous/PII columns from all datasets such as:\n",
    "  * restaurant_df: phonenumber\n",
    "  * violations_df: X.objectid\n",
    "  * yelp_df: phone\n",
    "  \n",
    "3) Minor column renamings such as:\n",
    "  * \"hsisid\" => \"id\"\n",
    "  \n",
    "4) Run standardization converters on select columns (restaurant names, zipcode)\n",
    "\n",
    "5) Remove any duplicate entries\n",
    "\n",
    "6) Filter food-servicing locations to only include restaurants\n",
    "\n",
    "7) Merge restaurant health data with Yelp data based on name and zipcode\n",
    "\n",
    "8) Remove restaurant health data with no Yelp Data\n",
    "\n",
    "9) Anonymize restaurant data"
   ]
  },
  {
   "cell_type": "markdown",
   "metadata": {},
   "source": [
    "#### Converters / Standardizers"
   ]
  },
  {
   "cell_type": "markdown",
   "metadata": {},
   "source": [
    "Remove punctuation. Standardize names if from a big chain."
   ]
  },
  {
   "cell_type": "code",
   "execution_count": 19,
   "metadata": {},
   "outputs": [],
   "source": [
    "def convert_restaurant_names(name_in):\n",
    "        \n",
    "    # Make the input all lowercase\n",
    "    name_in = name_in.lower()\n",
    "    \n",
    "    # Drop all whitespace\n",
    "    name_in = name_in.strip()\n",
    "    \n",
    "    # Chain restaurants have are of format 'chain name #NUMBER'\n",
    "    # Remove '#NUMBER' is present\n",
    "    hash_index = name_in.find('#')\n",
    "    if hash_index != -1:\n",
    "        name_in = name_in[0:hash_index]\n",
    "        \n",
    "    name_in = name_in.replace(\"i pre-security\", \"\")\n",
    "    name_in = name_in.replace(\"&amp;\", \"and\")\n",
    "    name_in = name_in.replace(\"&\", \"and\")\n",
    "        \n",
    "    if \"subway\" in name_in:\n",
    "        name_in = \"subway\"\n",
    "    elif \"mcdonald's\" in name_in or \"mcdonalds\" in name_in:\n",
    "        name_in = \"mcdonald's\"\n",
    "    elif \"starbuck\" in name_in:\n",
    "        name_in = \"starbuck\"\n",
    "    elif \"dunkin donuts\" in name_in:\n",
    "        name_in = \"dunkin donuts\"\n",
    "    elif \"arby's\" in name_in:\n",
    "        name_in = \"arby's\"\n",
    "    elif \"jersey mike\" in name_in:\n",
    "        name_in = \"jersey mike\"\n",
    "    elif \"wendy's\" in name_in:\n",
    "        name_in = \"wendy's\"\n",
    "    elif \"jamba j\" in name_in:\n",
    "        name_in = \"jamba juice\"\n",
    "    elif \"culver\" in name_in:\n",
    "        name_in = \"culver's\"\n",
    "    elif \"einstein\" in name_in and \"bagel\" in name_in:\n",
    "        name_in = \"einstein bros bagel\"\n",
    "    elif \"whataburger\" in name_in:\n",
    "        name_in = \"whataburger\"\n",
    "    elif \"church's chicken\" in name_in:\n",
    "        name_in = \"church's hicken\"\n",
    "    elif \"five guys\" in name_in:\n",
    "        name_in = \"five guys\"\n",
    "    elif \"chick-fil-a\" in name_in:\n",
    "        name_in = \"chick-fil-a\"\n",
    "    elif \"aubrey\" in name_in and \"peedi\" in name_in and \"grill\" in name_in:\n",
    "        name_in = \"aubrey and peedies grill\"\n",
    "    elif \"skipper's fish fry\" in name_in or \"skipper`s fish fry and market\" == name_in:\n",
    "        name_in = \"skipper's fish fry\"\n",
    "    elif \"dean's seafood grill\" in name_in:\n",
    "        name_in = \"dean's seafood grill and bar\"\n",
    "    elif \"salvio\" in name_in and \"pizzeria\" in name_in:\n",
    "        name_in = \"salvio's pizzeria\"\n",
    "    elif \"manchester\" in name_in and \"grill\" in name_in:\n",
    "        name_in = \"manchester bar and grill\"\n",
    "    elif \"sam\" in name_in and \"club\" in name_in:\n",
    "        name_in = \"sam's club\"\n",
    "    elif \"sami\" in name_in and \"pizza\" in name_in and \"more\" in name_in:\n",
    "        name_in = \"sami's subs, pizza, and more\"\n",
    "        \n",
    "    if name_in == \"spring cafe 2\":\n",
    "        name_in = \"spring cafe\"\n",
    "    \n",
    "    return name_in.strip()\n",
    "\n",
    "assert convert_restaurant_names(\"chick-fil-a #1573\") == 'chick-fil-a'\n",
    "assert convert_restaurant_names(\"taco bell #22798\") == 'taco bell'\n",
    "assert convert_restaurant_names(\"chick-fil-a of knightdale\") == \"chick-fil-a\""
   ]
  },
  {
   "cell_type": "code",
   "execution_count": 20,
   "metadata": {},
   "outputs": [],
   "source": [
    "def convert_time(str_in):\n",
    "    return pd.to_datetime(str_in)"
   ]
  },
  {
   "cell_type": "markdown",
   "metadata": {},
   "source": [
    "Converts ZIP codes of form \"AAAAA-BBBB\" to form \"AAAAA\". \"AAAAA-BBBB\" are specific version of \"AAAAA\""
   ]
  },
  {
   "cell_type": "code",
   "execution_count": 21,
   "metadata": {},
   "outputs": [],
   "source": [
    "def convert_zip(zipcode):\n",
    "    \n",
    "    # ZIP codes of form \"AAAAA-BBBB\" are specific version of \"AAAAA\"\n",
    "    hyphen_index = zipcode.find('-')\n",
    "    if hyphen_index != -1:\n",
    "        zipcode = zipcode[0:hyphen_index]\n",
    "\n",
    "    zipcode = zipcode.strip()\n",
    "    return zipcode\n",
    "\n",
    "\n",
    "assert convert_zip(\"12345\") == \"12345\"\n",
    "assert convert_zip(\"12345-678\") == \"12345\""
   ]
  },
  {
   "cell_type": "markdown",
   "metadata": {},
   "source": [
    "Comments tend to have extra metadata in the front separated by a semicolons or a dash. Such metadata can already be found in the columns dropped during cleanup so can also be removed."
   ]
  },
  {
   "cell_type": "code",
   "execution_count": 376,
   "metadata": {},
   "outputs": [],
   "source": [
    "def convert_comments(data_in):\n",
    "    if pd.isna(data_in):\n",
    "        return data_in;\n",
    "    \n",
    "    semi_index = data_in.find(';')\n",
    "    if semi_index != -1:\n",
    "        data_in = data_in[semi_index + 1:]\n",
    "    \n",
    "    dash_index = data_in.find('-')\n",
    "    if dash_index != -1:\n",
    "        data_in = data_in[dash_index + 1:]\n",
    "        \n",
    "    semi_index = data_in.find(';')\n",
    "    if semi_index != -1:\n",
    "        data_in = data_in[semi_index + 1:]\n",
    "    \n",
    "        \n",
    "    return data_in"
   ]
  },
  {
   "cell_type": "markdown",
   "metadata": {},
   "source": [
    "### Read Data Unaltered"
   ]
  },
  {
   "cell_type": "code",
   "execution_count": 377,
   "metadata": {},
   "outputs": [],
   "source": [
    "restaurants_filepath = \"restaurants.csv\"\n",
    "restaurants_df = pd.read_csv(restaurants_filepath, dtype={\n",
    "    \"hsisid\": str,\n",
    "    \"postal_code\": str,\n",
    "})\n",
    "\n",
    "violations_filepath = \"violations.csv\"\n",
    "violations_df = pd.read_csv(violations_filepath, dtype={\n",
    "    \"hsisid\": str,\n",
    "    \"comments\": str,\n",
    "})\n",
    "\n",
    "yelp_filepath = \"yelp.csv\"\n",
    "yelp_df = pd.read_csv(yelp_filepath, dtype={\n",
    "    \"zip_code\": str\n",
    "})"
   ]
  },
  {
   "cell_type": "markdown",
   "metadata": {},
   "source": [
    "Clean up restaurant data (converters, drop columns, renaming, deduplicate)\n",
    "\n",
    "Columns like \"X.objectid\" have unknown purpose while others such as the coordinates are unnecessary. Only the ZIP code and name are needed to tie restaurants to their Yelp data."
   ]
  },
  {
   "cell_type": "code",
   "execution_count": 378,
   "metadata": {},
   "outputs": [],
   "source": [
    "restaurants_df_clean = restaurants_df.drop(labels=[\n",
    "    \"X.objectid\",\n",
    "    \"name\",\n",
    "    \"state\",\n",
    "    \"address1\",\n",
    "    \"address2\",\n",
    "    \"city\",\n",
    "    \"phonenumber\",\n",
    "    \"geocodestatus\",\n",
    "    \"x\",\n",
    "    \"y\",\n",
    "    \"facilitytype\",\n",
    "    \"restaurantopendate\"\n",
    "], axis=\"columns\")\n",
    "\n",
    "restaurants_df_clean.rename(columns={\n",
    "    \"hsisid\": \"id\",\n",
    "    \"postalcode\": 'zip',\n",
    "    #\"restaurantopendate\": \"open_date\"\n",
    "}, inplace=True)\n",
    "\n",
    "restaurants_df_clean = restaurants_df_clean[(restaurants_df[\"facilitytype\"] == \"Restaurant\") \n",
    "                                            & (restaurants_df[\"facilitytype\"] == \"Restaurant\")]\n",
    "restaurants_df_clean[\"name\"] = restaurants_df[\"name\"].apply(convert_restaurant_names)\n",
    "restaurants_df_clean[\"zip\"] = restaurants_df_clean[\"zip\"].apply(convert_zip)\n",
    "#restaurants_df_clean[\"open_date\"] = restaurants_df_clean[\"open_date\"].apply(convert_time)\n",
    "\n",
    "restaurant_ids = restaurants_df_clean[\"id\"]\n",
    "\n",
    "restaurants_df_clean = restaurants_df_clean.reindex()\n",
    "assert restaurants_df_clean[\"id\"].is_unique == True"
   ]
  },
  {
   "cell_type": "markdown",
   "metadata": {},
   "source": [
    "Clean up health violation data (converters, drop columns, renaming, deduplicate)"
   ]
  },
  {
   "cell_type": "code",
   "execution_count": 708,
   "metadata": {},
   "outputs": [],
   "source": [
    "violations_df_clean = violations_df.drop(labels=[\n",
    "    \"X.objectid\",\n",
    "    \"statecode\",\n",
    "    \"questionno\",\n",
    "    \"violationcode\",\n",
    "    \"inspectedby\",\n",
    "    \"cdcriskfactor\",\n",
    "    \"cdcdataitem\",\n",
    "    \"violationtype\",\n",
    "    \"observationtype\",\n",
    "    \"count\",\n",
    "    \"category\",\n",
    "    \"shortdesc\",\n",
    "    \"severity\",\n",
    "    \"critical\",\n",
    "    \"inspectdate\"\n",
    "], axis=\"columns\")\n",
    "    \n",
    "violations_df_clean.rename(columns={\n",
    "    \"hsisid\": \"id\",\n",
    "    \"pointvalue\": \"penalty\",\n",
    "}, inplace=True)\n",
    "\n",
    "# violations_df_clean[\"inspect_date\"] = violations_df_clean[\"inspect_date\"].apply(convert_time)\n",
    "violations_df_clean.drop_duplicates(inplace=True)\n",
    "violations_df_clean[\"comments\"] = violations_df_clean[\"comments\"].apply(convert_comments)\n",
    "violations_df_clean = violations_df_clean.reindex()"
   ]
  },
  {
   "cell_type": "markdown",
   "metadata": {},
   "source": [
    "Clean up Yelp data (converters, drop columns, renaming, deduplicate)\n",
    "\n",
    "Restaurant information such as as the ethnicity will not be considered."
   ]
  },
  {
   "cell_type": "code",
   "execution_count": 709,
   "metadata": {},
   "outputs": [],
   "source": [
    "yelp_df_clean = yelp_df.drop(labels=[\n",
    "    \"address1\",\n",
    "    \"name\",\n",
    "    \"price\",\n",
    "    \"italian\",\n",
    "    \"seafood\",\n",
    "    \"newamerican\",\n",
    "    \"chicken_wings\",\n",
    "    \"delis\",\n",
    "    \"bars\",\n",
    "    \"salad\",\n",
    "    \"seafood\",\n",
    "    \"bbq\",\n",
    "    \"bakeries\",\n",
    "    \"sushi\",\n",
    "    \"phone\",\n",
    "    \"hotdogs\",\n",
    "    \"sandwiches\",\n",
    "    \"pizza\",\n",
    "    \"tradamerican\",\n",
    "    \"burgers\",\n",
    "    \"mexican\",\n",
    "    \"grocery\",\n",
    "    \"breakfast_brunch\",\n",
    "    \"coffee\",\n",
    "    \"chinese\",\n",
    "    \"latitude\",\n",
    "    \"longitude\",\n",
    "    \"price\",\n",
    "    \"id\",\n",
    "    \"is_closed\",\n",
    "], axis=\"columns\")\n",
    "\n",
    "\n",
    "yelp_df_clean.rename(columns={\n",
    "    \"id\": \"yelp_id\",\n",
    "    \"zip_code\": 'zip'\n",
    "}, inplace=True)\n",
    "\n",
    "yelp_df_clean[\"name\"] = yelp_df[\"name\"].apply(convert_restaurant_names)\n",
    "yelp_df_clean[\"zip\"] = yelp_df_clean[\"zip\"].apply(convert_zip)\n",
    "\n",
    "yelp_df_clean = yelp_df_clean[[\"zip\", \"name\", \"rating\", \"review_count\"]]"
   ]
  },
  {
   "cell_type": "code",
   "execution_count": 710,
   "metadata": {},
   "outputs": [
    {
     "data": {
      "text/html": [
       "<div>\n",
       "<style scoped>\n",
       "    .dataframe tbody tr th:only-of-type {\n",
       "        vertical-align: middle;\n",
       "    }\n",
       "\n",
       "    .dataframe tbody tr th {\n",
       "        vertical-align: top;\n",
       "    }\n",
       "\n",
       "    .dataframe thead th {\n",
       "        text-align: right;\n",
       "    }\n",
       "</style>\n",
       "<table border=\"1\" class=\"dataframe\">\n",
       "  <thead>\n",
       "    <tr style=\"text-align: right;\">\n",
       "      <th></th>\n",
       "      <th>id</th>\n",
       "      <th>zip</th>\n",
       "      <th>name</th>\n",
       "    </tr>\n",
       "  </thead>\n",
       "  <tbody>\n",
       "    <tr>\n",
       "      <th>0</th>\n",
       "      <td>4092017230</td>\n",
       "      <td>27616</td>\n",
       "      <td>spring cafe</td>\n",
       "    </tr>\n",
       "    <tr>\n",
       "      <th>2</th>\n",
       "      <td>4092014444</td>\n",
       "      <td>27587</td>\n",
       "      <td>taco bell</td>\n",
       "    </tr>\n",
       "    <tr>\n",
       "      <th>3</th>\n",
       "      <td>4092015333</td>\n",
       "      <td>27601</td>\n",
       "      <td>the remedy diner</td>\n",
       "    </tr>\n",
       "    <tr>\n",
       "      <th>6</th>\n",
       "      <td>4092016679</td>\n",
       "      <td>27601</td>\n",
       "      <td>bittersweet</td>\n",
       "    </tr>\n",
       "    <tr>\n",
       "      <th>7</th>\n",
       "      <td>4092014493</td>\n",
       "      <td>27617</td>\n",
       "      <td>chick-fil-a</td>\n",
       "    </tr>\n",
       "  </tbody>\n",
       "</table>\n",
       "</div>"
      ],
      "text/plain": [
       "           id    zip              name\n",
       "0  4092017230  27616       spring cafe\n",
       "2  4092014444  27587         taco bell\n",
       "3  4092015333  27601  the remedy diner\n",
       "6  4092016679  27601       bittersweet\n",
       "7  4092014493  27617       chick-fil-a"
      ]
     },
     "execution_count": 710,
     "metadata": {},
     "output_type": "execute_result"
    }
   ],
   "source": [
    "restaurants_df_clean.head()"
   ]
  },
  {
   "cell_type": "code",
   "execution_count": 711,
   "metadata": {},
   "outputs": [
    {
     "data": {
      "text/html": [
       "<div>\n",
       "<style scoped>\n",
       "    .dataframe tbody tr th:only-of-type {\n",
       "        vertical-align: middle;\n",
       "    }\n",
       "\n",
       "    .dataframe tbody tr th {\n",
       "        vertical-align: top;\n",
       "    }\n",
       "\n",
       "    .dataframe thead th {\n",
       "        text-align: right;\n",
       "    }\n",
       "</style>\n",
       "<table border=\"1\" class=\"dataframe\">\n",
       "  <thead>\n",
       "    <tr style=\"text-align: right;\">\n",
       "      <th></th>\n",
       "      <th>id</th>\n",
       "      <th>comments</th>\n",
       "      <th>penalty</th>\n",
       "    </tr>\n",
       "  </thead>\n",
       "  <tbody>\n",
       "    <tr>\n",
       "      <th>0</th>\n",
       "      <td>4092015279</td>\n",
       "      <td>Found unlabeled bottle with purple liquid in ...</td>\n",
       "      <td>0</td>\n",
       "    </tr>\n",
       "    <tr>\n",
       "      <th>1</th>\n",
       "      <td>4092014572</td>\n",
       "      <td>Sanitizer bottle was labeled.</td>\n",
       "      <td>0</td>\n",
       "    </tr>\n",
       "    <tr>\n",
       "      <th>2</th>\n",
       "      <td>4092015906</td>\n",
       "      <td>Found an unlabeled spray bottle and large jug...</td>\n",
       "      <td>1</td>\n",
       "    </tr>\n",
       "    <tr>\n",
       "      <th>3</th>\n",
       "      <td>4092013840</td>\n",
       "      <td>Found unlabeled bottle with purple liquid in ...</td>\n",
       "      <td>0</td>\n",
       "    </tr>\n",
       "    <tr>\n",
       "      <th>4</th>\n",
       "      <td>4092021788</td>\n",
       "      <td>Found one unlabeled bottle of degreaser. Prop...</td>\n",
       "      <td>0</td>\n",
       "    </tr>\n",
       "  </tbody>\n",
       "</table>\n",
       "</div>"
      ],
      "text/plain": [
       "           id                                           comments  penalty\n",
       "0  4092015279   Found unlabeled bottle with purple liquid in ...        0\n",
       "1  4092014572                      Sanitizer bottle was labeled.        0\n",
       "2  4092015906   Found an unlabeled spray bottle and large jug...        1\n",
       "3  4092013840   Found unlabeled bottle with purple liquid in ...        0\n",
       "4  4092021788   Found one unlabeled bottle of degreaser. Prop...        0"
      ]
     },
     "execution_count": 711,
     "metadata": {},
     "output_type": "execute_result"
    }
   ],
   "source": [
    "violations_df_clean.head()"
   ]
  },
  {
   "cell_type": "code",
   "execution_count": 712,
   "metadata": {},
   "outputs": [
    {
     "data": {
      "text/html": [
       "<div>\n",
       "<style scoped>\n",
       "    .dataframe tbody tr th:only-of-type {\n",
       "        vertical-align: middle;\n",
       "    }\n",
       "\n",
       "    .dataframe tbody tr th {\n",
       "        vertical-align: top;\n",
       "    }\n",
       "\n",
       "    .dataframe thead th {\n",
       "        text-align: right;\n",
       "    }\n",
       "</style>\n",
       "<table border=\"1\" class=\"dataframe\">\n",
       "  <thead>\n",
       "    <tr style=\"text-align: right;\">\n",
       "      <th></th>\n",
       "      <th>zip</th>\n",
       "      <th>name</th>\n",
       "      <th>rating</th>\n",
       "      <th>review_count</th>\n",
       "    </tr>\n",
       "  </thead>\n",
       "  <tbody>\n",
       "    <tr>\n",
       "      <th>0</th>\n",
       "      <td>27560</td>\n",
       "      <td>42nd street oyster bar - rdu airport</td>\n",
       "      <td>2.5</td>\n",
       "      <td>23</td>\n",
       "    </tr>\n",
       "    <tr>\n",
       "      <th>1</th>\n",
       "      <td>27519</td>\n",
       "      <td>aldi foods</td>\n",
       "      <td>4.0</td>\n",
       "      <td>17</td>\n",
       "    </tr>\n",
       "    <tr>\n",
       "      <th>2</th>\n",
       "      <td>27612</td>\n",
       "      <td>luciano pizzeria ristorante</td>\n",
       "      <td>5.0</td>\n",
       "      <td>2</td>\n",
       "    </tr>\n",
       "    <tr>\n",
       "      <th>3</th>\n",
       "      <td>27893</td>\n",
       "      <td>olive garden italian restaurant</td>\n",
       "      <td>3.0</td>\n",
       "      <td>16</td>\n",
       "    </tr>\n",
       "    <tr>\n",
       "      <th>4</th>\n",
       "      <td>27896</td>\n",
       "      <td>subway</td>\n",
       "      <td>3.5</td>\n",
       "      <td>3</td>\n",
       "    </tr>\n",
       "  </tbody>\n",
       "</table>\n",
       "</div>"
      ],
      "text/plain": [
       "     zip                                  name  rating  review_count\n",
       "0  27560  42nd street oyster bar - rdu airport     2.5            23\n",
       "1  27519                            aldi foods     4.0            17\n",
       "2  27612           luciano pizzeria ristorante     5.0             2\n",
       "3  27893       olive garden italian restaurant     3.0            16\n",
       "4  27896                                subway     3.5             3"
      ]
     },
     "execution_count": 712,
     "metadata": {},
     "output_type": "execute_result"
    }
   ],
   "source": [
    "yelp_df_clean.head()"
   ]
  },
  {
   "cell_type": "markdown",
   "metadata": {},
   "source": [
    "### Connect Restaurant \"id\" to Yelp Data"
   ]
  },
  {
   "cell_type": "markdown",
   "metadata": {},
   "source": [
    "Merge based on restaurant name (standardized) and zipcode (standardized)"
   ]
  },
  {
   "cell_type": "code",
   "execution_count": 713,
   "metadata": {},
   "outputs": [],
   "source": [
    "merged_df = restaurants_df_clean.merge(yelp_df_clean, how=\"left\", left_on=[\"zip\", \"name\"], right_on=[\"zip\", \"name\"])\n",
    "merged_df.dropna(axis=\"index\", how=\"any\", subset=[\"rating\"], inplace=True)\n",
    "\n",
    "merged_df = merged_df[[\"id\", \"zip\", \"name\", \"rating\", \"review_count\"]]"
   ]
  },
  {
   "cell_type": "code",
   "execution_count": 714,
   "metadata": {},
   "outputs": [
    {
     "data": {
      "text/html": [
       "<div>\n",
       "<style scoped>\n",
       "    .dataframe tbody tr th:only-of-type {\n",
       "        vertical-align: middle;\n",
       "    }\n",
       "\n",
       "    .dataframe tbody tr th {\n",
       "        vertical-align: top;\n",
       "    }\n",
       "\n",
       "    .dataframe thead th {\n",
       "        text-align: right;\n",
       "    }\n",
       "</style>\n",
       "<table border=\"1\" class=\"dataframe\">\n",
       "  <thead>\n",
       "    <tr style=\"text-align: right;\">\n",
       "      <th></th>\n",
       "      <th>id</th>\n",
       "      <th>zip</th>\n",
       "      <th>name</th>\n",
       "      <th>rating</th>\n",
       "      <th>review_count</th>\n",
       "    </tr>\n",
       "  </thead>\n",
       "  <tbody>\n",
       "    <tr>\n",
       "      <th>0</th>\n",
       "      <td>4092017230</td>\n",
       "      <td>27616</td>\n",
       "      <td>spring cafe</td>\n",
       "      <td>3.5</td>\n",
       "      <td>35.0</td>\n",
       "    </tr>\n",
       "    <tr>\n",
       "      <th>1</th>\n",
       "      <td>4092014444</td>\n",
       "      <td>27587</td>\n",
       "      <td>taco bell</td>\n",
       "      <td>3.0</td>\n",
       "      <td>8.0</td>\n",
       "    </tr>\n",
       "    <tr>\n",
       "      <th>2</th>\n",
       "      <td>4092015333</td>\n",
       "      <td>27601</td>\n",
       "      <td>the remedy diner</td>\n",
       "      <td>4.0</td>\n",
       "      <td>347.0</td>\n",
       "    </tr>\n",
       "    <tr>\n",
       "      <th>3</th>\n",
       "      <td>4092016679</td>\n",
       "      <td>27601</td>\n",
       "      <td>bittersweet</td>\n",
       "      <td>4.0</td>\n",
       "      <td>150.0</td>\n",
       "    </tr>\n",
       "    <tr>\n",
       "      <th>4</th>\n",
       "      <td>4092014493</td>\n",
       "      <td>27617</td>\n",
       "      <td>chick-fil-a</td>\n",
       "      <td>3.5</td>\n",
       "      <td>20.0</td>\n",
       "    </tr>\n",
       "  </tbody>\n",
       "</table>\n",
       "</div>"
      ],
      "text/plain": [
       "           id    zip              name  rating  review_count\n",
       "0  4092017230  27616       spring cafe     3.5          35.0\n",
       "1  4092014444  27587         taco bell     3.0           8.0\n",
       "2  4092015333  27601  the remedy diner     4.0         347.0\n",
       "3  4092016679  27601       bittersweet     4.0         150.0\n",
       "4  4092014493  27617       chick-fil-a     3.5          20.0"
      ]
     },
     "execution_count": 714,
     "metadata": {},
     "output_type": "execute_result"
    }
   ],
   "source": [
    "merged_df.head()"
   ]
  },
  {
   "cell_type": "code",
   "execution_count": 715,
   "metadata": {},
   "outputs": [
    {
     "data": {
      "text/html": [
       "<div>\n",
       "<style scoped>\n",
       "    .dataframe tbody tr th:only-of-type {\n",
       "        vertical-align: middle;\n",
       "    }\n",
       "\n",
       "    .dataframe tbody tr th {\n",
       "        vertical-align: top;\n",
       "    }\n",
       "\n",
       "    .dataframe thead th {\n",
       "        text-align: right;\n",
       "    }\n",
       "</style>\n",
       "<table border=\"1\" class=\"dataframe\">\n",
       "  <thead>\n",
       "    <tr style=\"text-align: right;\">\n",
       "      <th></th>\n",
       "      <th>id</th>\n",
       "      <th>zip</th>\n",
       "      <th>name</th>\n",
       "      <th>rating</th>\n",
       "      <th>review_count</th>\n",
       "    </tr>\n",
       "  </thead>\n",
       "  <tbody>\n",
       "    <tr>\n",
       "      <th>16</th>\n",
       "      <td>4092014233</td>\n",
       "      <td>27526</td>\n",
       "      <td>sheetz</td>\n",
       "      <td>2.0</td>\n",
       "      <td>3.0</td>\n",
       "    </tr>\n",
       "    <tr>\n",
       "      <th>17</th>\n",
       "      <td>4092014233</td>\n",
       "      <td>27526</td>\n",
       "      <td>sheetz</td>\n",
       "      <td>4.0</td>\n",
       "      <td>1.0</td>\n",
       "    </tr>\n",
       "    <tr>\n",
       "      <th>18</th>\n",
       "      <td>4092014233</td>\n",
       "      <td>27526</td>\n",
       "      <td>sheetz</td>\n",
       "      <td>4.5</td>\n",
       "      <td>8.0</td>\n",
       "    </tr>\n",
       "    <tr>\n",
       "      <th>32</th>\n",
       "      <td>4092016069</td>\n",
       "      <td>27502</td>\n",
       "      <td>subway</td>\n",
       "      <td>4.0</td>\n",
       "      <td>2.0</td>\n",
       "    </tr>\n",
       "    <tr>\n",
       "      <th>33</th>\n",
       "      <td>4092016069</td>\n",
       "      <td>27502</td>\n",
       "      <td>subway</td>\n",
       "      <td>2.0</td>\n",
       "      <td>3.0</td>\n",
       "    </tr>\n",
       "  </tbody>\n",
       "</table>\n",
       "</div>"
      ],
      "text/plain": [
       "            id    zip    name  rating  review_count\n",
       "16  4092014233  27526  sheetz     2.0           3.0\n",
       "17  4092014233  27526  sheetz     4.0           1.0\n",
       "18  4092014233  27526  sheetz     4.5           8.0\n",
       "32  4092016069  27502  subway     4.0           2.0\n",
       "33  4092016069  27502  subway     2.0           3.0"
      ]
     },
     "execution_count": 715,
     "metadata": {},
     "output_type": "execute_result"
    }
   ],
   "source": [
    "# Rows with duplicate \"id\"\n",
    "conflicting = merged_df[merged_df.duplicated(subset=[\"id\"], keep=False)]\n",
    "conflicting.head()"
   ]
  },
  {
   "cell_type": "markdown",
   "metadata": {},
   "source": [
    "Here, rows with conflicting \"id\" entries are dropped. Duplicate \"id\" entries are caused by conflicting Yelp data (multiple ratings/review counts per location). It has already been previously verified that \"id\" values are unique to each restaurant. There is no satisfactory resolution to this conflict."
   ]
  },
  {
   "cell_type": "code",
   "execution_count": 716,
   "metadata": {},
   "outputs": [],
   "source": [
    "final_restaurant_df = merged_df.drop_duplicates(subset=\"id\")"
   ]
  },
  {
   "cell_type": "markdown",
   "metadata": {},
   "source": [
    "Drop any PII"
   ]
  },
  {
   "cell_type": "code",
   "execution_count": 717,
   "metadata": {},
   "outputs": [],
   "source": [
    "final_restaurant_df = final_restaurant_df.drop(labels=[\n",
    "    \"zip\",\n",
    "    \"name\",\n",
    "], axis=\"columns\")"
   ]
  },
  {
   "cell_type": "markdown",
   "metadata": {},
   "source": [
    "### Data Ready for Analysis"
   ]
  },
  {
   "cell_type": "code",
   "execution_count": 718,
   "metadata": {},
   "outputs": [
    {
     "data": {
      "text/html": [
       "<div>\n",
       "<style scoped>\n",
       "    .dataframe tbody tr th:only-of-type {\n",
       "        vertical-align: middle;\n",
       "    }\n",
       "\n",
       "    .dataframe tbody tr th {\n",
       "        vertical-align: top;\n",
       "    }\n",
       "\n",
       "    .dataframe thead th {\n",
       "        text-align: right;\n",
       "    }\n",
       "</style>\n",
       "<table border=\"1\" class=\"dataframe\">\n",
       "  <thead>\n",
       "    <tr style=\"text-align: right;\">\n",
       "      <th></th>\n",
       "      <th>id</th>\n",
       "      <th>rating</th>\n",
       "      <th>review_count</th>\n",
       "    </tr>\n",
       "  </thead>\n",
       "  <tbody>\n",
       "    <tr>\n",
       "      <th>0</th>\n",
       "      <td>4092017230</td>\n",
       "      <td>3.5</td>\n",
       "      <td>35.0</td>\n",
       "    </tr>\n",
       "    <tr>\n",
       "      <th>1</th>\n",
       "      <td>4092014444</td>\n",
       "      <td>3.0</td>\n",
       "      <td>8.0</td>\n",
       "    </tr>\n",
       "    <tr>\n",
       "      <th>2</th>\n",
       "      <td>4092015333</td>\n",
       "      <td>4.0</td>\n",
       "      <td>347.0</td>\n",
       "    </tr>\n",
       "    <tr>\n",
       "      <th>3</th>\n",
       "      <td>4092016679</td>\n",
       "      <td>4.0</td>\n",
       "      <td>150.0</td>\n",
       "    </tr>\n",
       "    <tr>\n",
       "      <th>4</th>\n",
       "      <td>4092014493</td>\n",
       "      <td>3.5</td>\n",
       "      <td>20.0</td>\n",
       "    </tr>\n",
       "  </tbody>\n",
       "</table>\n",
       "</div>"
      ],
      "text/plain": [
       "           id  rating  review_count\n",
       "0  4092017230     3.5          35.0\n",
       "1  4092014444     3.0           8.0\n",
       "2  4092015333     4.0         347.0\n",
       "3  4092016679     4.0         150.0\n",
       "4  4092014493     3.5          20.0"
      ]
     },
     "execution_count": 718,
     "metadata": {},
     "output_type": "execute_result"
    }
   ],
   "source": [
    "final_restaurant_df.head()"
   ]
  },
  {
   "cell_type": "code",
   "execution_count": 390,
   "metadata": {},
   "outputs": [
    {
     "data": {
      "text/html": [
       "<div>\n",
       "<style scoped>\n",
       "    .dataframe tbody tr th:only-of-type {\n",
       "        vertical-align: middle;\n",
       "    }\n",
       "\n",
       "    .dataframe tbody tr th {\n",
       "        vertical-align: top;\n",
       "    }\n",
       "\n",
       "    .dataframe thead th {\n",
       "        text-align: right;\n",
       "    }\n",
       "</style>\n",
       "<table border=\"1\" class=\"dataframe\">\n",
       "  <thead>\n",
       "    <tr style=\"text-align: right;\">\n",
       "      <th></th>\n",
       "      <th>id</th>\n",
       "      <th>comments</th>\n",
       "      <th>penalty</th>\n",
       "    </tr>\n",
       "  </thead>\n",
       "  <tbody>\n",
       "    <tr>\n",
       "      <th>0</th>\n",
       "      <td>4092015279</td>\n",
       "      <td>Found unlabeled bottle with purple liquid in ...</td>\n",
       "      <td>0</td>\n",
       "    </tr>\n",
       "    <tr>\n",
       "      <th>1</th>\n",
       "      <td>4092014572</td>\n",
       "      <td>Sanitizer bottle was labeled.</td>\n",
       "      <td>0</td>\n",
       "    </tr>\n",
       "    <tr>\n",
       "      <th>2</th>\n",
       "      <td>4092015906</td>\n",
       "      <td>Found an unlabeled spray bottle and large jug...</td>\n",
       "      <td>1</td>\n",
       "    </tr>\n",
       "    <tr>\n",
       "      <th>3</th>\n",
       "      <td>4092013840</td>\n",
       "      <td>Found unlabeled bottle with purple liquid in ...</td>\n",
       "      <td>0</td>\n",
       "    </tr>\n",
       "    <tr>\n",
       "      <th>4</th>\n",
       "      <td>4092021788</td>\n",
       "      <td>Found one unlabeled bottle of degreaser. Prop...</td>\n",
       "      <td>0</td>\n",
       "    </tr>\n",
       "  </tbody>\n",
       "</table>\n",
       "</div>"
      ],
      "text/plain": [
       "           id                                           comments  penalty\n",
       "0  4092015279   Found unlabeled bottle with purple liquid in ...        0\n",
       "1  4092014572                      Sanitizer bottle was labeled.        0\n",
       "2  4092015906   Found an unlabeled spray bottle and large jug...        1\n",
       "3  4092013840   Found unlabeled bottle with purple liquid in ...        0\n",
       "4  4092021788   Found one unlabeled bottle of degreaser. Prop...        0"
      ]
     },
     "execution_count": 390,
     "metadata": {},
     "output_type": "execute_result"
    }
   ],
   "source": [
    "violations_df_clean.head()"
   ]
  },
  {
   "cell_type": "markdown",
   "metadata": {},
   "source": [
    "# Data Analysis & Results"
   ]
  },
  {
   "cell_type": "markdown",
   "metadata": {},
   "source": [
    "Notes:\n",
    "* Penalty score and rating are being treated as categorical data"
   ]
  },
  {
   "cell_type": "markdown",
   "metadata": {},
   "source": [
    "Associate the Restaurant's Yelp Data with each Health Violation"
   ]
  },
  {
   "cell_type": "code",
   "execution_count": 391,
   "metadata": {},
   "outputs": [],
   "source": [
    "violation_full_df = violations_df_clean.merge(final_restaurant_df, how=\"right\", on=\"id\")\n",
    "\n",
    "# Remove entries without any comments\n",
    "violation_full_df.dropna(how=\"any\", subset=[\"comments\", \"rating\", \"review_count\"], inplace=True)"
   ]
  },
  {
   "cell_type": "code",
   "execution_count": 392,
   "metadata": {},
   "outputs": [
    {
     "data": {
      "text/html": [
       "<div>\n",
       "<style scoped>\n",
       "    .dataframe tbody tr th:only-of-type {\n",
       "        vertical-align: middle;\n",
       "    }\n",
       "\n",
       "    .dataframe tbody tr th {\n",
       "        vertical-align: top;\n",
       "    }\n",
       "\n",
       "    .dataframe thead th {\n",
       "        text-align: right;\n",
       "    }\n",
       "</style>\n",
       "<table border=\"1\" class=\"dataframe\">\n",
       "  <thead>\n",
       "    <tr style=\"text-align: right;\">\n",
       "      <th></th>\n",
       "      <th>id</th>\n",
       "      <th>comments</th>\n",
       "      <th>penalty</th>\n",
       "      <th>rating</th>\n",
       "      <th>review_count</th>\n",
       "    </tr>\n",
       "  </thead>\n",
       "  <tbody>\n",
       "    <tr>\n",
       "      <th>0</th>\n",
       "      <td>4092010287</td>\n",
       "      <td>Found unlabeled bottle with blue liquid insid...</td>\n",
       "      <td>0.0</td>\n",
       "      <td>4.5</td>\n",
       "      <td>193.0</td>\n",
       "    </tr>\n",
       "    <tr>\n",
       "      <th>1</th>\n",
       "      <td>4092010287</td>\n",
       "      <td>based food and has insufficient consumer advis...</td>\n",
       "      <td>0.0</td>\n",
       "      <td>4.5</td>\n",
       "      <td>193.0</td>\n",
       "    </tr>\n",
       "    <tr>\n",
       "      <th>2</th>\n",
       "      <td>4092010287</td>\n",
       "      <td>603.11- Establishment found to offer meat, sea...</td>\n",
       "      <td>0.0</td>\n",
       "      <td>4.5</td>\n",
       "      <td>193.0</td>\n",
       "    </tr>\n",
       "    <tr>\n",
       "      <th>3</th>\n",
       "      <td>4092010287</td>\n",
       "      <td>103.11(M)- Establishment found to lack an empl...</td>\n",
       "      <td>0.0</td>\n",
       "      <td>4.5</td>\n",
       "      <td>193.0</td>\n",
       "    </tr>\n",
       "    <tr>\n",
       "      <th>4</th>\n",
       "      <td>4092010287</td>\n",
       "      <td>Found some unlabeled bottles/containers of co...</td>\n",
       "      <td>0.0</td>\n",
       "      <td>4.5</td>\n",
       "      <td>193.0</td>\n",
       "    </tr>\n",
       "  </tbody>\n",
       "</table>\n",
       "</div>"
      ],
      "text/plain": [
       "           id                                           comments  penalty  \\\n",
       "0  4092010287   Found unlabeled bottle with blue liquid insid...      0.0   \n",
       "1  4092010287  based food and has insufficient consumer advis...      0.0   \n",
       "2  4092010287  603.11- Establishment found to offer meat, sea...      0.0   \n",
       "3  4092010287  103.11(M)- Establishment found to lack an empl...      0.0   \n",
       "4  4092010287   Found some unlabeled bottles/containers of co...      0.0   \n",
       "\n",
       "   rating  review_count  \n",
       "0     4.5         193.0  \n",
       "1     4.5         193.0  \n",
       "2     4.5         193.0  \n",
       "3     4.5         193.0  \n",
       "4     4.5         193.0  "
      ]
     },
     "execution_count": 392,
     "metadata": {},
     "output_type": "execute_result"
    }
   ],
   "source": [
    "violation_full_df.head()"
   ]
  },
  {
   "cell_type": "markdown",
   "metadata": {},
   "source": [
    "## EDA"
   ]
  },
  {
   "cell_type": "code",
   "execution_count": 582,
   "metadata": {},
   "outputs": [
    {
     "data": {
      "image/png": "[encoded data removed]",
      "text/plain": [
       "<Figure size 864x360 with 1 Axes>"
      ]
     },
     "metadata": {
      "needs_background": "light"
     },
     "output_type": "display_data"
    }
   ],
   "source": [
    "penalty_plot = sns.countplot(x=\"penalty\", data=violation_full_df, color=\"grey\", orient=\"v\")\n",
    "penalty_plot.set_xlabel(\"Health Violation Penalty\", fontsize=14)\n",
    "penalty_plot.set_ylabel(\"Count\", rotation=0,labelpad=40, fontsize=14)\n",
    "penalty_plot.set_title(\"Violation Penalty Distribution\", fontsize=20)\n",
    "penalty_plot.set_xticks([0, 1, 2, 3 ,4], minor=False);\n",
    "\n",
    "caption = \"Health violation penalties are overwhelming '0' or '1'\"\n",
    "plt.figtext(0.5, -0.05, caption, wrap=True, horizontalalignment='center', fontsize=16);\n",
    "\n",
    "penalty_plot = plt.gcf()\n",
    "penalty_plot.set_size_inches(12, 5, forward=True)\n",
    "\n",
    "sns.despine(yelp_review_plot)"
   ]
  },
  {
   "cell_type": "code",
   "execution_count": 394,
   "metadata": {},
   "outputs": [
    {
     "data": {
      "text/plain": [
       "(47364, 5)"
      ]
     },
     "execution_count": 394,
     "metadata": {},
     "output_type": "execute_result"
    }
   ],
   "source": [
    "violation_full_df.shape"
   ]
  },
  {
   "cell_type": "markdown",
   "metadata": {},
   "source": [
    "This should not come as a surprise. If restaurants had multiple violations with penalties of 2 or more, they would have poorer total scores and would be more likely to close due to health code violations. However, the sheer number of 0 cost penalties is staggering which again begs the question: how lenient are inspectors being? Penalties of 2 or more points are demonstrated to be extremely rare (1480/47364 or 3.125%)."
   ]
  },
  {
   "cell_type": "code",
   "execution_count": 580,
   "metadata": {},
   "outputs": [
    {
     "data": {
      "image/png": "[encoded data removed]",
      "text/plain": [
       "<Figure size 864x360 with 1 Axes>"
      ]
     },
     "metadata": {
      "needs_background": "light"
     },
     "output_type": "display_data"
    }
   ],
   "source": [
    "yelp_review_plot = sns.countplot(final_restaurant_df[\"rating\"], color=\"grey\")\n",
    "yelp_review_plot.set_xlabel(\"Yelp Rating\", fontsize=14)\n",
    "yelp_review_plot.set_ylabel(\"Number of\\nRestaurants\", rotation=0, labelpad=50, fontsize=14)\n",
    "yelp_review_plot.set_title(\"Yelp Rating Distribution\", fontsize=20)\n",
    "\n",
    "\n",
    "\n",
    "caption = \"Restaurant ratings are distributed close to normal.\"\n",
    "plt.figtext(0.5, -0.05, caption, wrap=True, horizontalalignment='center', fontsize=16);\n",
    "\n",
    "yelp_review_plot = plt.gcf()\n",
    "yelp_review_plot.set_size_inches(12, 5, forward=True)\n",
    "\n",
    "sns.despine(yelp_review_plot)"
   ]
  },
  {
   "cell_type": "code",
   "execution_count": 583,
   "metadata": {},
   "outputs": [
    {
     "data": {
      "image/png": "[encoded data removed]",
      "text/plain": [
       "<Figure size 864x360 with 1 Axes>"
      ]
     },
     "metadata": {
      "needs_background": "light"
     },
     "output_type": "display_data"
    }
   ],
   "source": [
    "rating_review_count_plot = sns.stripplot(x=\"rating\", y=\"review_count\", data=final_restaurant_df, color=[0.5, 0.5, 0.9], linewidth=0, alpha=0.5)\n",
    "rating_review_count_plot.set_xlabel(\"Yelp Rating\", fontsize=14)\n",
    "rating_review_count_plot.set_ylabel(\"Number of\\nReviews\", rotation=0,labelpad=50, fontsize=14)\n",
    "rating_review_count_plot.set_title(\"Yelp Rating vs Number of Reviews\", fontsize=18)\n",
    "\n",
    "caption = \"Number of reviews tends to increase with a higher rating before dropping off.\"\n",
    "plt.figtext(0.5, -0.05, caption, wrap=True, horizontalalignment='center', fontsize=16);\n",
    "\n",
    "rating_review_count_plot = plt.gcf()\n",
    "rating_review_count_plot.set_size_inches(12, 5, forward=True)\n",
    "\n",
    "sns.despine(rating_review_count_plot)"
   ]
  },
  {
   "cell_type": "markdown",
   "metadata": {},
   "source": [
    "There is one outlier with rating of four with a number of reviews of around 1800. In general however, there is a visible trend of higher number of reviews for higher rated restaurants which begins to drop off after a rating of 4."
   ]
  },
  {
   "cell_type": "code",
   "execution_count": 397,
   "metadata": {},
   "outputs": [
    {
     "name": "stdout",
     "output_type": "stream",
     "text": [
      "Average comment lenght: 196.74660079385188\n"
     ]
    },
    {
     "data": {
      "image/png": "[encoded data removed]",
      "text/plain": [
       "<Figure size 864x360 with 1 Axes>"
      ]
     },
     "metadata": {
      "needs_background": "light"
     },
     "output_type": "display_data"
    }
   ],
   "source": [
    "comment_length_plot = sns.distplot(violation_full_df[\"comments\"].apply(lambda c: len(c)), kde=False)\n",
    "comment_length_plot.set_xlabel(\"Comment Length\")\n",
    "\n",
    "print(\"Average comment lenght: {}\".format(violation_full_df[\"comments\"].apply(lambda c: len(c)).agg(\"mean\")))\n",
    "\n",
    "comment_length_plot.set_xlabel(\"Health Violation Comment Length\", fontsize=14)\n",
    "comment_length_plot.set_ylabel(\"Number of\\nComments\", rotation=0,labelpad=55, fontsize=14)\n",
    "comment_length_plot.set_title(\"Health Violation Comment Length Distribution\", fontsize=18)\n",
    "\n",
    "caption = \"Comment length is right-skewed.\"\n",
    "plt.figtext(0.5, -0.05, caption, wrap=True, horizontalalignment='center', fontsize=16);\n",
    "\n",
    "comment_length_plot = plt.gcf()\n",
    "comment_length_plot.set_size_inches(12, 5, forward=True)"
   ]
  },
  {
   "cell_type": "code",
   "execution_count": 584,
   "metadata": {},
   "outputs": [
    {
     "data": {
      "image/png": "[encoded data removed]",
      "text/plain": [
       "<Figure size 864x360 with 1 Axes>"
      ]
     },
     "metadata": {
      "needs_background": "light"
     },
     "output_type": "display_data"
    }
   ],
   "source": [
    "penalty_comment_length_plot = sns.boxplot(x=violation_full_df[\"penalty\"], y=violation_full_df[\"comments\"].apply(lambda c: len(c)))\n",
    "\n",
    "penalty_comment_length_plot.set_xlabel(\"Penalty Score\", fontsize=14)\n",
    "penalty_comment_length_plot.set_ylabel(\"Comment Length\", rotation=0,labelpad=55, fontsize=14)\n",
    "penalty_comment_length_plot.set_title(\"Heatlh Violation Comments per Penalty Score\", fontsize=18)\n",
    "\n",
    "caption = \"The \\'higher\\' the penalty score, the longer the average comment length.\"\n",
    "plt.figtext(0.5, -0.05, caption, wrap=True, horizontalalignment='center', fontsize=16);\n",
    "\n",
    "penalty_comment_length_plot = plt.gcf()\n",
    "penalty_comment_length_plot.set_size_inches(12, 5, forward=True)\n",
    "\n",
    "sns.despine(penalty_comment_length_plot)"
   ]
  },
  {
   "cell_type": "markdown",
   "metadata": {},
   "source": [
    "The higher the penalty, the more severe the health code violation. Thus, it would make more sense that the average comment length would increase. However, the sheer number of outliers for a penalty score of 0 brings into question what inspectors are actually commenting about. If it were a minor infraction worth a penalty of 0, it would be reasonable to think that there would be less to discuss."
   ]
  },
  {
   "cell_type": "code",
   "execution_count": 729,
   "metadata": {},
   "outputs": [
    {
     "data": {
      "image/png": "[encoded data removed]",
      "text/plain": [
       "<Figure size 360x360 with 1 Axes>"
      ]
     },
     "metadata": {
      "needs_background": "light"
     },
     "output_type": "display_data"
    }
   ],
   "source": [
    "rating_penalty_plot = sns.catplot(x=\"rating\", y=\"penalty\", data=violation_full_df, alpha=0.5)\n",
    "\n",
    "rating_penalty_plot = plt.gca()\n",
    "\n",
    "rating_penalty_plot.set_xlabel(\"Yelp Rating\", fontsize=14)\n",
    "rating_penalty_plot.set_ylabel(\"Penalty\", rotation=0,labelpad=60, fontsize=14)\n",
    "rating_penalty_plot.set_title(\"Rating vs Penalty\", fontsize=18)\n",
    "\n",
    "caption = \"No clear relation between the a restaurant's rating and the health code penalty of any of its violations.\"\n",
    "plt.figtext(0.5, -0.05, caption, wrap=True, horizontalalignment='center', fontsize=16);"
   ]
  },
  {
   "cell_type": "code",
   "execution_count": 761,
   "metadata": {},
   "outputs": [
    {
     "data": {
      "text/plain": [
       "(2229, 3)"
      ]
     },
     "execution_count": 761,
     "metadata": {},
     "output_type": "execute_result"
    }
   ],
   "source": [
    "restaurants_df_clean.shape"
   ]
  },
  {
   "cell_type": "markdown",
   "metadata": {},
   "source": [
    "Because there is no clear relationship between Yelp rating and health violation penalties, it is improbable that Yelp ratings can significantly improve health violation classification."
   ]
  },
  {
   "cell_type": "markdown",
   "metadata": {},
   "source": [
    "## Classifier Training\n",
    "\n",
    "Methodology:\n",
    "* Randomize data\n",
    "* Split data into a training set (80%) and a test set (20%)\n",
    "* Using the same training and test sets, train 3 SVM models with different features\n",
    "  1. Using only Yelp ratings\n",
    "  2. Using vectorized IFIDF data of health code violation comments\n",
    "  3. Using Yelp rating and vectorized IFIDF data of health code violation comments\n",
    "  \n",
    "Because there is no time information associated with the Yelp data, the models will consider all health violations throughout the restaurants lifespan."
   ]
  },
  {
   "cell_type": "code",
   "execution_count": 730,
   "metadata": {},
   "outputs": [
    {
     "data": {
      "text/html": [
       "<div>\n",
       "<style scoped>\n",
       "    .dataframe tbody tr th:only-of-type {\n",
       "        vertical-align: middle;\n",
       "    }\n",
       "\n",
       "    .dataframe tbody tr th {\n",
       "        vertical-align: top;\n",
       "    }\n",
       "\n",
       "    .dataframe thead th {\n",
       "        text-align: right;\n",
       "    }\n",
       "</style>\n",
       "<table border=\"1\" class=\"dataframe\">\n",
       "  <thead>\n",
       "    <tr style=\"text-align: right;\">\n",
       "      <th></th>\n",
       "      <th>id</th>\n",
       "      <th>comments</th>\n",
       "      <th>penalty</th>\n",
       "      <th>rating</th>\n",
       "      <th>review_count</th>\n",
       "    </tr>\n",
       "  </thead>\n",
       "  <tbody>\n",
       "    <tr>\n",
       "      <th>0</th>\n",
       "      <td>4092014398</td>\n",
       "      <td>Employee observed chopping cabbage for taco s...</td>\n",
       "      <td>1.0</td>\n",
       "      <td>4.0</td>\n",
       "      <td>134.0</td>\n",
       "    </tr>\n",
       "    <tr>\n",
       "      <th>1</th>\n",
       "      <td>4092012979</td>\n",
       "      <td>102.12 PIC ONSITE DID NOT HAVE APPROVED FOOD S...</td>\n",
       "      <td>0.0</td>\n",
       "      <td>3.5</td>\n",
       "      <td>8.0</td>\n",
       "    </tr>\n",
       "    <tr>\n",
       "      <th>2</th>\n",
       "      <td>4092013869</td>\n",
       "      <td>Found covered employee beverage near clean ut...</td>\n",
       "      <td>0.0</td>\n",
       "      <td>3.5</td>\n",
       "      <td>230.0</td>\n",
       "    </tr>\n",
       "    <tr>\n",
       "      <th>3</th>\n",
       "      <td>4092014021</td>\n",
       "      <td>901.11 (A) . Turn the large mixer bowl upside ...</td>\n",
       "      <td>0.0</td>\n",
       "      <td>2.5</td>\n",
       "      <td>30.0</td>\n",
       "    </tr>\n",
       "    <tr>\n",
       "      <th>4</th>\n",
       "      <td>4092015618</td>\n",
       "      <td>Bathroom ceiling tiles are porous(acoustic) a...</td>\n",
       "      <td>0.0</td>\n",
       "      <td>4.0</td>\n",
       "      <td>64.0</td>\n",
       "    </tr>\n",
       "  </tbody>\n",
       "</table>\n",
       "</div>"
      ],
      "text/plain": [
       "           id                                           comments  penalty  \\\n",
       "0  4092014398   Employee observed chopping cabbage for taco s...      1.0   \n",
       "1  4092012979  102.12 PIC ONSITE DID NOT HAVE APPROVED FOOD S...      0.0   \n",
       "2  4092013869   Found covered employee beverage near clean ut...      0.0   \n",
       "3  4092014021  901.11 (A) . Turn the large mixer bowl upside ...      0.0   \n",
       "4  4092015618   Bathroom ceiling tiles are porous(acoustic) a...      0.0   \n",
       "\n",
       "   rating  review_count  \n",
       "0     4.0         134.0  \n",
       "1     3.5           8.0  \n",
       "2     3.5         230.0  \n",
       "3     2.5          30.0  \n",
       "4     4.0          64.0  "
      ]
     },
     "execution_count": 730,
     "metadata": {},
     "output_type": "execute_result"
    }
   ],
   "source": [
    "# Randomize input data\n",
    "violation_full_df = violation_full_df.sample(frac=1, random_state=200).reset_index(drop=True)\n",
    "violation_full_df.head()"
   ]
  },
  {
   "cell_type": "code",
   "execution_count": 731,
   "metadata": {},
   "outputs": [],
   "source": [
    "# Generic SVM training routine\n",
    "def train_SVM(X, Y, kernel='linear', class_weight=None):\n",
    "    model = SVC(kernel=kernel, class_weight=class_weight)\n",
    "    model.fit(X, Y)\n",
    "    return model"
   ]
  },
  {
   "cell_type": "markdown",
   "metadata": {},
   "source": [
    "Calculate number of observations for training and testing sets"
   ]
  },
  {
   "cell_type": "code",
   "execution_count": 732,
   "metadata": {},
   "outputs": [
    {
     "name": "stdout",
     "output_type": "stream",
     "text": [
      "Training:\t11367\n",
      "Testing:\t2841\n",
      "TOTAL:\t\t14209\n"
     ]
    }
   ],
   "source": [
    "# performance_scale is used to take a subset of the data in order to train the models in a reasonable time\n",
    "performance_scale = 0.3\n",
    "num_total = int(violation_full_df.shape[0] * performance_scale)\n",
    "num_training = int(0.8 * num_total)\n",
    "num_test = int(0.2 * num_total)\n",
    "\n",
    "print(\"Training:\\t{}\\nTesting:\\t{}\\nTOTAL:\\t\\t{}\".format(num_training, num_test,num_total))"
   ]
  },
  {
   "cell_type": "markdown",
   "metadata": {},
   "source": [
    "#### Classification Based on Yelp Rating"
   ]
  },
  {
   "cell_type": "code",
   "execution_count": 733,
   "metadata": {},
   "outputs": [],
   "source": [
    "# Translate rating into a value between [0, 1]\n",
    "min_max_scaler = MinMaxScaler()\n",
    "rating_X = np.array(violation_full_df[\"rating\"]).reshape(-1, 1)\n",
    "rating_X = min_max_scaler.fit_transform(rating_X)"
   ]
  },
  {
   "cell_type": "code",
   "execution_count": 734,
   "metadata": {},
   "outputs": [],
   "source": [
    "rating_Y = np.array(violation_full_df['penalty'])"
   ]
  },
  {
   "cell_type": "code",
   "execution_count": 735,
   "metadata": {},
   "outputs": [],
   "source": [
    "rating_train_x = rating_X[0:num_training]\n",
    "rating_test_x = rating_X[num_training:num_training+num_test]\n",
    "\n",
    "rating_train_y = rating_Y[0:num_training]\n",
    "rating_test_y = rating_Y[num_training:num_training+num_test]"
   ]
  },
  {
   "cell_type": "code",
   "execution_count": 736,
   "metadata": {},
   "outputs": [],
   "source": [
    "svm_model_pure_rating = train_SVM(rating_train_x, rating_train_y,kernel='rbf')"
   ]
  },
  {
   "cell_type": "code",
   "execution_count": 737,
   "metadata": {},
   "outputs": [],
   "source": [
    "df_predicted_raiting_train_y = svm_model_pure_rating.predict(rating_train_x)"
   ]
  },
  {
   "cell_type": "code",
   "execution_count": 738,
   "metadata": {},
   "outputs": [
    {
     "name": "stdout",
     "output_type": "stream",
     "text": [
      "Training data performance\n",
      "              precision    recall  f1-score   support\n",
      "\n",
      "         0.0       0.72      1.00      0.84      8157\n",
      "         1.0       0.00      0.00      0.00      2872\n",
      "         2.0       0.00      0.00      0.00       282\n",
      "         3.0       0.00      0.00      0.00        56\n",
      "\n",
      "    accuracy                           0.72     11367\n",
      "   macro avg       0.18      0.25      0.21     11367\n",
      "weighted avg       0.51      0.72      0.60     11367\n",
      "\n"
     ]
    }
   ],
   "source": [
    "print(\"Training data performance\")\n",
    "rating_train_report = classification_report(rating_train_y, df_predicted_raiting_train_y, zero_division=0, output_dict=True)\n",
    "print(classification_report(rating_train_y, df_predicted_raiting_train_y, zero_division=0))"
   ]
  },
  {
   "cell_type": "code",
   "execution_count": 739,
   "metadata": {},
   "outputs": [],
   "source": [
    "df_predicted_rating_test_y = svm_model_pure_rating.predict(rating_test_x)"
   ]
  },
  {
   "cell_type": "code",
   "execution_count": 740,
   "metadata": {},
   "outputs": [
    {
     "name": "stdout",
     "output_type": "stream",
     "text": [
      "Test data performance\n",
      "              precision    recall  f1-score   support\n",
      "\n",
      "         0.0       0.70      1.00      0.82      1992\n",
      "         1.0       0.00      0.00      0.00       758\n",
      "         2.0       0.00      0.00      0.00        71\n",
      "         3.0       0.00      0.00      0.00        20\n",
      "\n",
      "    accuracy                           0.70      2841\n",
      "   macro avg       0.18      0.25      0.21      2841\n",
      "weighted avg       0.49      0.70      0.58      2841\n",
      "\n"
     ]
    }
   ],
   "source": [
    "print(\"Test data performance\")\n",
    "rating_test_report = classification_report(rating_test_y, df_predicted_rating_test_y, zero_division=0, output_dict=True)\n",
    "print(classification_report(rating_test_y, df_predicted_rating_test_y, zero_division=0))"
   ]
  },
  {
   "cell_type": "markdown",
   "metadata": {},
   "source": [
    "#### Classification Based on Comment Content"
   ]
  },
  {
   "cell_type": "markdown",
   "metadata": {},
   "source": [
    "Gnerate TFIDF vector representations of health code violation comments"
   ]
  },
  {
   "cell_type": "code",
   "execution_count": 741,
   "metadata": {},
   "outputs": [],
   "source": [
    "# Create vectorizer & specify parameters\n",
    "tfidf = TfidfVectorizer(sublinear_tf=True, #apply sublinear TF scaling\n",
    "                        analyzer='word',   #specify tokenizer\n",
    "                        max_features=50, # specify max # of features to include\n",
    "                        tokenizer=word_tokenize,\n",
    "                        stop_words=\"english\")\n",
    "\n",
    "# Learn vocabulary and idf, return term-document matrix.\n",
    "# return an array;our predictor\n",
    "tfidf_X = tfidf.fit_transform(violation_full_df['comments']).toarray()"
   ]
  },
  {
   "cell_type": "code",
   "execution_count": 742,
   "metadata": {},
   "outputs": [],
   "source": [
    "tfidf_Y = np.array(violation_full_df['penalty'])"
   ]
  },
  {
   "cell_type": "markdown",
   "metadata": {},
   "source": [
    "Partition the data into training/test sets"
   ]
  },
  {
   "cell_type": "code",
   "execution_count": 743,
   "metadata": {},
   "outputs": [],
   "source": [
    "tfidf_train_x = tfidf_X[0:num_training]\n",
    "tfidf_test_x = tfidf_X[num_training:num_training+num_test]\n",
    "\n",
    "tfidf_train_y = tfidf_Y[0:num_training]\n",
    "tfidf_test_y = tfidf_Y[num_training:num_training+num_test]"
   ]
  },
  {
   "cell_type": "code",
   "execution_count": 744,
   "metadata": {},
   "outputs": [],
   "source": [
    "svm_model_pure_tfidf = train_SVM(tfidf_train_x, tfidf_train_y, kernel='rbf')"
   ]
  },
  {
   "cell_type": "code",
   "execution_count": 745,
   "metadata": {},
   "outputs": [],
   "source": [
    "df_predicted_tfidf_train_y = svm_model_pure_tfidf.predict(tfidf_train_x)"
   ]
  },
  {
   "cell_type": "code",
   "execution_count": 746,
   "metadata": {},
   "outputs": [
    {
     "name": "stdout",
     "output_type": "stream",
     "text": [
      "Training data performance\n",
      "              precision    recall  f1-score   support\n",
      "\n",
      "         0.0       0.78      0.97      0.87      8157\n",
      "         1.0       0.79      0.31      0.44      2872\n",
      "         2.0       0.80      0.27      0.40       282\n",
      "         3.0       0.00      0.00      0.00        56\n",
      "\n",
      "    accuracy                           0.78     11367\n",
      "   macro avg       0.59      0.39      0.43     11367\n",
      "weighted avg       0.78      0.78      0.74     11367\n",
      "\n"
     ]
    }
   ],
   "source": [
    "print(\"Training data performance\")\n",
    "comment_train_report = classification_report(tfidf_train_y, df_predicted_tfidf_train_y, zero_division=0, output_dict=True)\n",
    "print(classification_report(tfidf_train_y, df_predicted_tfidf_train_y, zero_division=0))"
   ]
  },
  {
   "cell_type": "code",
   "execution_count": 747,
   "metadata": {},
   "outputs": [],
   "source": [
    "df_predicted_tfidf_test_y = svm_model_pure_tfidf.predict(tfidf_test_x)"
   ]
  },
  {
   "cell_type": "code",
   "execution_count": 748,
   "metadata": {},
   "outputs": [
    {
     "name": "stdout",
     "output_type": "stream",
     "text": [
      "Testing data performance\n",
      "              precision    recall  f1-score   support\n",
      "\n",
      "         0.0       0.74      0.95      0.83      1992\n",
      "         1.0       0.61      0.22      0.33       758\n",
      "         2.0       0.80      0.28      0.42        71\n",
      "         3.0       0.00      0.00      0.00        20\n",
      "\n",
      "    accuracy                           0.73      2841\n",
      "   macro avg       0.54      0.36      0.39      2841\n",
      "weighted avg       0.70      0.73      0.68      2841\n",
      "\n"
     ]
    }
   ],
   "source": [
    "print(\"Testing data performance\")\n",
    "comment_test_report = classification_report(tfidf_test_y, df_predicted_tfidf_test_y, zero_division=0, output_dict=True)\n",
    "print(classification_report(tfidf_test_y, df_predicted_tfidf_test_y, zero_division=0))"
   ]
  },
  {
   "cell_type": "markdown",
   "metadata": {},
   "source": [
    "#### Classification Based on Yelp Rating and Comment Content"
   ]
  },
  {
   "cell_type": "code",
   "execution_count": 749,
   "metadata": {},
   "outputs": [],
   "source": [
    "comment_rating_X = np.concatenate((tfidf_X, rating_X), axis=1)"
   ]
  },
  {
   "cell_type": "code",
   "execution_count": 750,
   "metadata": {},
   "outputs": [],
   "source": [
    "comment_rating_Y = np.array(violation_full_df['penalty'])"
   ]
  },
  {
   "cell_type": "code",
   "execution_count": 751,
   "metadata": {},
   "outputs": [],
   "source": [
    "comment_rating_train_x = comment_rating_X[0:num_training]\n",
    "comment_rating_test_x = comment_rating_X[num_training:num_training+num_test]\n",
    "\n",
    "comment_rating_train_y = comment_rating_Y[0:num_training]\n",
    "comment_rating_test_y = comment_rating_Y[num_training:num_training+num_test]"
   ]
  },
  {
   "cell_type": "code",
   "execution_count": 752,
   "metadata": {},
   "outputs": [],
   "source": [
    "svm_model_comment_rating = train_SVM(comment_rating_train_x, comment_rating_train_y, kernel='rbf')"
   ]
  },
  {
   "cell_type": "code",
   "execution_count": 753,
   "metadata": {},
   "outputs": [],
   "source": [
    "df_predicted_comment_rating_train_y = svm_model_comment_rating.predict(comment_rating_train_x)"
   ]
  },
  {
   "cell_type": "code",
   "execution_count": 754,
   "metadata": {},
   "outputs": [
    {
     "name": "stdout",
     "output_type": "stream",
     "text": [
      "Training data performance\n",
      "              precision    recall  f1-score   support\n",
      "\n",
      "         0.0       0.77      0.98      0.86      8157\n",
      "         1.0       0.78      0.24      0.37      2872\n",
      "         2.0       0.84      0.20      0.33       282\n",
      "         3.0       0.00      0.00      0.00        56\n",
      "\n",
      "    accuracy                           0.77     11367\n",
      "   macro avg       0.60      0.36      0.39     11367\n",
      "weighted avg       0.77      0.77      0.72     11367\n",
      "\n"
     ]
    }
   ],
   "source": [
    "print(\"Training data performance\")\n",
    "comment_rating_train_report = classification_report(comment_rating_train_y, df_predicted_comment_rating_train_y, zero_division=0, output_dict=True)\n",
    "print(classification_report(comment_rating_train_y, df_predicted_comment_rating_train_y, zero_division=0))"
   ]
  },
  {
   "cell_type": "code",
   "execution_count": 755,
   "metadata": {},
   "outputs": [],
   "source": [
    "df_predicted_comment_rating_test_y = svm_model_comment_rating.predict(comment_rating_test_x)"
   ]
  },
  {
   "cell_type": "code",
   "execution_count": 756,
   "metadata": {},
   "outputs": [
    {
     "name": "stdout",
     "output_type": "stream",
     "text": [
      "Testing data performance\n",
      "              precision    recall  f1-score   support\n",
      "\n",
      "         0.0       0.74      0.96      0.84      1992\n",
      "         1.0       0.63      0.19      0.30       758\n",
      "         2.0       0.81      0.24      0.37        71\n",
      "         3.0       0.00      0.00      0.00        20\n",
      "\n",
      "    accuracy                           0.73      2841\n",
      "   macro avg       0.55      0.35      0.38      2841\n",
      "weighted avg       0.71      0.73      0.67      2841\n",
      "\n"
     ]
    }
   ],
   "source": [
    "print(\"Testing data performance\")\n",
    "comment_rating_test_report = classification_report(comment_rating_test_y, df_predicted_comment_rating_test_y, zero_division=0, output_dict=True)\n",
    "print(classification_report(comment_rating_test_y, df_predicted_comment_rating_test_y, zero_division=0))"
   ]
  },
  {
   "cell_type": "markdown",
   "metadata": {},
   "source": [
    "## Classification Model Comparison"
   ]
  },
  {
   "cell_type": "markdown",
   "metadata": {},
   "source": [
    "Prepare classification reports for plotting"
   ]
  },
  {
   "cell_type": "code",
   "execution_count": 759,
   "metadata": {},
   "outputs": [],
   "source": [
    "yelp_rating_4 = 0.0\n",
    "if \"4.0\" in rating_train_report.keys():\n",
    "    yelp_rating_4 = rating_test_report[\"4.0\"][\"f1-score\"]\n",
    "    \n",
    "comment_4 = 0.0\n",
    "if \"4.0\" in rating_train_report.keys():\n",
    "    comment_4 = comment_test_report[\"4.0\"][\"f1-score\"]\n",
    "    \n",
    "comment_rating_4 = 0.0\n",
    "if \"4.0\" in rating_train_report.keys():\n",
    "    comment_rating_4 = comment_rating_test_report[\"4.0\"][\"f1-score\"]\n",
    "\n",
    "test_performance_df = pd.DataFrame([\n",
    "    \n",
    "    [\"Yelp Rating\", rating_test_report[\"accuracy\"], \"Accuracy\"],\n",
    "    [\"Comment\", comment_test_report[\"accuracy\"], \"Accuracy\"],\n",
    "    [\"Comment-Rating\", comment_rating_test_report[\"accuracy\"], \"Accuracy\"],    \n",
    "    \n",
    "    [\"Yelp Rating\", rating_test_report[\"0.0\"][\"f1-score\"], \"Penalty '0' F1 Score\"],\n",
    "    [\"Comment\", comment_test_report[\"0.0\"][\"f1-score\"], \"Penalty '0' F1 Score\"],\n",
    "    [\"Comment-Rating\", comment_rating_test_report[\"0.0\"][\"f1-score\"], \"Penalty '0' F1 Score\"],\n",
    "    \n",
    "    [\"Yelp Rating\", rating_test_report[\"1.0\"][\"f1-score\"], \"Penalty '1' F1 Score\"],\n",
    "    [\"Comment\", comment_test_report[\"1.0\"][\"f1-score\"], \"Penalty '1' F1 Score\"],\n",
    "    [\"Comment-Rating\", comment_rating_test_report[\"1.0\"][\"f1-score\"], \"Penalty '1' F1 Score\"],\n",
    "    \n",
    "    [\"Yelp Rating\", rating_test_report[\"2.0\"][\"f1-score\"], \"Penalty '2' F1 Score\"],\n",
    "    [\"Comment\", comment_test_report[\"2.0\"][\"f1-score\"], \"Penalty '2' F1 Score\"],\n",
    "    [\"Comment-Rating\", comment_rating_test_report[\"2.0\"][\"f1-score\"], \"Penalty '2' F1 Score\"],\n",
    "    \n",
    "    [\"Yelp Rating\", rating_test_report[\"3.0\"][\"f1-score\"], \"Penalty '3' F1 Score\"],\n",
    "    [\"Comment\", comment_test_report[\"3.0\"][\"f1-score\"], \"Penalty '3' F1 Score\"],\n",
    "    [\"Comment-Rating\", comment_rating_test_report[\"3.0\"][\"f1-score\"], \"Penalty '3' F1 Score\"],\n",
    "    \n",
    "    [\"Yelp Rating\", yelp_rating_4, \"Penalty '4' F1 Score\"],\n",
    "    [\"Comment\", comment_4, \"Penalty '4' F1 Score\"],\n",
    "    [\"Comment-Rating\", comment_rating_4, \"Penalty '4' F1 Score\"],\n",
    "    \n",
    "], columns=[\"Model\", \"Value\", \"Data Kind\"])\n",
    "test_performance_df = test_performance_df[[\"Model\", \"Data Kind\", \"Value\"]]"
   ]
  },
  {
   "cell_type": "markdown",
   "metadata": {},
   "source": [
    "Plot classification report"
   ]
  },
  {
   "cell_type": "code",
   "execution_count": 760,
   "metadata": {},
   "outputs": [
    {
     "data": {
      "image/png": "[encoded data removed]",
      "text/plain": [
       "<Figure size 864x360 with 1 Axes>"
      ]
     },
     "metadata": {
      "needs_background": "light"
     },
     "output_type": "display_data"
    }
   ],
   "source": [
    "accuracy_plot = sns.lineplot(x=\"Model\", y=\"Value\", hue=\"Data Kind\", \n",
    "                             data=test_performance_df,sort=False, \n",
    "                             legend=False,\n",
    "                             #legend=\"brief\",\n",
    "                             linewidth=3.5,\n",
    "                             alpha=1\n",
    "                             )\n",
    "accuracy_plot.set(ylim=(0, 1))\n",
    "\n",
    "#accuracy_plot.set_style(\"whitegrid\")\n",
    "\n",
    "accuracy_plot = plt.gca()\n",
    "accuracy_plot.grid(axis='x')\n",
    "\n",
    "accuracy_plot.set_xlabel(\"Model\", fontsize=16)\n",
    "accuracy_plot.set_ylabel(\"Value\", rotation=0,labelpad=55, fontsize=14)\n",
    "accuracy_plot.set_title(\"Penalty Classification Report on Test Data\", fontsize=18)\n",
    "\n",
    "accuracy_plot = plt.gcf()\n",
    "accuracy_plot.set_size_inches(12, 5, forward=True)\n",
    "sns.despine(accuracy_plot)\n",
    "\n",
    "def slider_get(x):\n",
    "    if x == 1:\n",
    "        return 0.06\n",
    "    else:\n",
    "        return 0\n",
    "\n",
    "for i in range(test_performance_df.shape[0]):\n",
    "    if test_performance_df.iloc[i][\"Model\"] == \"Comment-Rating\":\n",
    "        slider = slider_get(0)\n",
    "        if test_performance_df.iloc[i][\"Data Kind\"] == \"Penalty '4' F1 Score\":\n",
    "            slider = slider_get(1)\n",
    "        plt.text(test_performance_df[\"Model\"].iloc[test_performance_df.shape[0] - 1], \n",
    "        test_performance_df[\"Value\"].iloc[i] + slider,\n",
    "        test_performance_df[\"Data Kind\"].iloc[i],\n",
    "        fontsize=14)\n",
    "        \n",
    "caption = \"No clear improvement by including Yelp rating for classification.\"\n",
    "plt.figtext(0.5, -0.05, caption, wrap=True, horizontalalignment='center', fontsize=16);\n",
    "\n",
    "plt.show()"
   ]
  },
  {
   "cell_type": "markdown",
   "metadata": {},
   "source": [
    "* F1 score: weighted harmonic mean of precision and recall (best: 1.0)\n",
    "  * precision: ability not to label positive sample as negative\n",
    "  * recall/sensitivity: ability fo find all positive samples \n",
    "* Accuracy: percent predicted correctly\n",
    "\n",
    "The graph above shows:\n",
    "* Accuracy and penalty '0' F1 scores are consistent across models\n",
    "* All models had F1 scores of '0.0' while attempting to classify penalty '3' and '4' violations (meaning that they are unable to)\n",
    "* Classifying a health violation penalty based purely on **Yelp rating** has the worst F1 score for all penalty values except '0'\n",
    "  * Therefore, Yelp rating alone is not enough to classify health violation penalties\n",
    "* Classifying a health violation penalty based on the inspector's **comment content** yields better results overall with higher F1 scores for scores '2' and '1'\n",
    "* Classifying based on **comment content and Yelp rating** did little to improve accuracy or the penalty '0' F1 score.\n",
    "  * However, there is a performance **regression** when classifying penalty '1' and '2' violations\"\n",
    "* **Therefore, *Yelp rating* should not be considered when classifying penalties of health code violations.**"
   ]
  },
  {
   "cell_type": "markdown",
   "metadata": {},
   "source": [
    "# Ethics & Privacy"
   ]
  },
  {
   "cell_type": "markdown",
   "metadata": {},
   "source": [
    "All information is publicy available data with some personally identifiable information attached such as restaraunt names and reviewer account names. Such PII has been entirely removed prior to analysis and model generatoin. Health scores and health code violations are tied together through the restaurant's unique ID. If a restaurant owner recognizes their information, they may request to be removed from the sample by providing their restaurant name and the ZIP code.\n",
    "\n",
    "Restaurant ethnicity and location are not explicitly considered during classification. However, location and ethnicity may influence the perception of the inspector which would affect the objectivity of their reports and comments. In particular, low income areas and restaurants with ethnic minority foods are more susceptible to susceptible to harsher health code inspections.\n",
    "\n",
    "Yelp astroturfing (where reviews may be falsified purposefully to make a restaurant look bad) is large concern. Unfortunately, reviewer data is not available so it is difficult to tell the impact. However, if social dimensions are added to health code violation penalty classification (opposed to the conclusions of this project), it opens the door to even more impactful astrofuring. Coordinated review bombs could drastically increase health code violation penalties, exaggerating otherwise minor infractions to significant proportions."
   ]
  },
  {
   "cell_type": "markdown",
   "metadata": {},
   "source": [
    "# Conclusion & Discussion"
   ]
  },
  {
   "cell_type": "markdown",
   "metadata": {},
   "source": [
    "Based upon nearly 40 thousand health code violations and 2 thousand restaurants, Yelp rating should **not** be considered while classifying health code violation penalties. In addition, regardless of model features, the models generated in this project should **not** be used in any actual scenarios because the overall accuracy of the models never exceeded 80%.\n",
    "\n",
    "This low accuracy can have multiple explanations:\n",
    "* SVMs do not handle imbalanced data that well. From *Fig 1*, it is apparent that penalties are hugely imablanced (with most being '0' or '1')\n",
    "  * Therefore, the models would need to be further tuned by altering class weights are choosing a different supervised learning model entirely\n",
    "* The initial data is faulty\n",
    "  * Analysis of health code violation comment length revealed a pecularity: '0' penalties have a huge number of long comments. Therefore, there may be extraneous information within the comments.\n",
    "  \n",
    "Furthermore, the trained models are inhibited by the lack of temporal understanding. The Yelp data did not contain any time information regarding rating. Model accuracy could be improved by having accurate review dates to correlate with health inspection dates. The validity of the Yelp data set is thus questionable.\n",
    "\n",
    "An accurate classifier will be vital to improving health inspection scores by making violation penalties consistent across reviews. This would make the scores more trustworthy and accurate, leading to improved consumer awareness and safety. While social media may eventually help train such a classifier, the risk public influence would "
   ]
  }
 ],
 "metadata": {
  "kernelspec": {
   "display_name": "Python 3",
   "language": "python",
   "name": "python3"
  },
  "language_info": {
   "codemirror_mode": {
    "name": "ipython",
    "version": 3
   },
   "file_extension": ".py",
   "mimetype": "text/x-python",
   "name": "python",
   "nbconvert_exporter": "python",
   "pygments_lexer": "ipython3",
   "version": "3.6.9"
  }
 },
 "nbformat": 4,
 "nbformat_minor": 4
}
