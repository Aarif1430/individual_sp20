{
 "cells": [
  {
   "cell_type": "markdown",
   "metadata": {},
   "source": [
    "# COGS 108 - Final Project"
   ]
  },
  {
   "cell_type": "markdown",
   "metadata": {},
   "source": [
    "# Overview"
   ]
  },
  {
   "cell_type": "markdown",
   "metadata": {},
   "source": [
    "Amidst the current COVID-19 pandemic, public health is under intense scrutiny. However, COVID and other airborne illnesses are not the only threat to the public. Foodborne diseases cause approximately 128,000 hospitalizations and 3,000 deaths each year (Ibanez). Our frontline defenses against this are our health inspectors who bear the task of assessing the sanitation of our food service institutions. How can we help them perform consistent, quality inspections and safeguard public health?"
   ]
  },
  {
   "cell_type": "markdown",
   "metadata": {},
   "source": [
    "# Name & GitHub"
   ]
  },
  {
   "cell_type": "markdown",
   "metadata": {},
   "source": [
    "- Name: Kenji Sommers \n",
    "- PID: A13918055\n",
    "- Github: Ksommers"
   ]
  },
  {
   "cell_type": "markdown",
   "metadata": {},
   "source": [
    "# Research Question"
   ]
  },
  {
   "cell_type": "markdown",
   "metadata": {},
   "source": [
    "Is there a relationship between an inspector's schedule and the scores they give restaurants?"
   ]
  },
  {
   "cell_type": "markdown",
   "metadata": {},
   "source": [
    "# Background and Prior Work"
   ]
  },
  {
   "cell_type": "markdown",
   "metadata": {},
   "source": [
    "The San Diego County’s Health Inspection website details pertinent information about inspection procedure. There are 3 types of inspection: routine, reinspection, and status verification. A routine inspection is a recurring, comprehensive inspection of a facility that produces a grade. A reinspection is a site visit to confirm compliance with a previous violation. A status verification simply is a visit that verifies continued operation or ownership change. During an assessment, the inspector notes each health violation and its corresponding severity. The violations are tallied and subtracted from 100. A score of 79 or less is a failing grade, however, this does not necessarily mean the restaurant will be forcibly shut down (SD Food Info).\n",
    "\n",
    "Between the detailed oriented nature of their position and dealing with unsanitary conditions, a health inspector’s job is rigorous. Naturally, some wonder what biases these factors introduce when calculating health assessments. Management scientists Maria Ibanez and Michael Toffel explored this very idea in their research. They argue an inspector will document more violations after visiting a site with worse compliance levels and cite fewer violations if their site schedule is packed with appointments (Ibanez) References:\n",
    "\n",
    "- 1) Ibanez, Maria R., and Michael W. Toffel. “How Scheduling Can Bias Quality Assessment: Evidence from Food-Safety Inspections.” Management Science, 8 July 2019, doi:10.1287/mnsc.2019.3318. https://www.hbs.edu/faculty/Publication%20Files/Ibanez_and_Toffel_2019_ManSci_AiA_inclSupplement_d24f2c0d-e451-4ff1-883b-138495d6a9a0.pdf\n",
    "\n",
    "- 2) “SD Food Info.” San Diego County Environmental Health, San Diego County, www.sandiegocounty.gov/content/sdc/deh/fhd/ffis/intro.html.html."
   ]
  },
  {
   "cell_type": "markdown",
   "metadata": {},
   "source": [
    "# Hypothesis"
   ]
  },
  {
   "cell_type": "markdown",
   "metadata": {},
   "source": [
    "I hypothesize that the data will demonstrate a relationship between an inspector's schedule and the scores they give restaurants similar to the results of Ibanez and Toffel’s research. Inspectors are not infallible and are subject to variance and biases due to a number of factors. I think their schedule, especially if it contains a site with poor conditions, would influence them to document violations differently."
   ]
  },
  {
   "cell_type": "markdown",
   "metadata": {},
   "source": [
    "# Dataset(s)"
   ]
  },
  {
   "cell_type": "markdown",
   "metadata": {},
   "source": [
    "For my investigation, I will use the provided inspections.csv file. The file contains 18,466 observations of restaurant health inspections. Each observation details the inspector, the inspection date, restaurant information, the restaurants previous inspection details, and the results of the current inspection. \n",
    "This data set provides all the necessary information I need to carry out my analysis. Since I want to measure an inspector's scores over time, I need the inspection scores, date, as well as the inspector ID. Furthermore, to see if they are influenced negatively by high violation restaurants, I need previous inspection information. All this information is contained within inspections.csv"
   ]
  },
  {
   "cell_type": "markdown",
   "metadata": {},
   "source": [
    "# Setup"
   ]
  },
  {
   "cell_type": "code",
   "execution_count": 6,
   "metadata": {},
   "outputs": [],
   "source": [
    "import numpy as np\n",
    "import pandas as pd\n",
    "import matplotlib.pyplot as plt\n",
    "import seaborn as sns"
   ]
  },
  {
   "cell_type": "markdown",
   "metadata": {},
   "source": [
    "# Data Cleaning"
   ]
  },
  {
   "cell_type": "markdown",
   "metadata": {},
   "source": [
    "To clean the given inspections.csv data, I first identified the relevant columns of information and dropped all other columns. I narrowed it to these columns:\n",
    "\n",
    "1. Inspector ID\n",
    "2. Inspection date\n",
    "3. Restaurant previous average non-critical violation counts\n",
    "4. Restaurant previous average critical violation counts\n",
    "5. Non-critical violation score of the current inspection\n",
    "6. Critical violation score of the current inspection. \n",
    "\n",
    "From here, I dropped all observations with missing values. If an observation were missing any values in any of the remaining columns, I would not be able to analyze an inspector's grading standard over time and compare it to the typical amount of cleanliness at an establishment. Finally, I reformatted the date column's data to a time object so I could measure an inspector's grading standard over time. I exported this data into the csv file \"Clean_Inspection\". This file contains 15,420 observations. "
   ]
  },
  {
   "cell_type": "code",
   "execution_count": 7,
   "metadata": {},
   "outputs": [
    {
     "data": {
      "text/html": [
       "<div>\n",
       "<style scoped>\n",
       "    .dataframe tbody tr th:only-of-type {\n",
       "        vertical-align: middle;\n",
       "    }\n",
       "\n",
       "    .dataframe tbody tr th {\n",
       "        vertical-align: top;\n",
       "    }\n",
       "\n",
       "    .dataframe thead th {\n",
       "        text-align: right;\n",
       "    }\n",
       "</style>\n",
       "<table border=\"1\" class=\"dataframe\">\n",
       "  <thead>\n",
       "    <tr style=\"text-align: right;\">\n",
       "      <th></th>\n",
       "      <th>Inspector ID</th>\n",
       "      <th>Inspection Date</th>\n",
       "      <th>Previous Mean Non-Critical</th>\n",
       "      <th>Previous Mean Critical</th>\n",
       "      <th>Non-Critical Violations</th>\n",
       "      <th>Critical Violations</th>\n",
       "    </tr>\n",
       "  </thead>\n",
       "  <tbody>\n",
       "    <tr>\n",
       "      <th>0</th>\n",
       "      <td>1.0</td>\n",
       "      <td>2012-11-05 00:00:00+00:00</td>\n",
       "      <td>7.000000</td>\n",
       "      <td>8.000000</td>\n",
       "      <td>3</td>\n",
       "      <td>4</td>\n",
       "    </tr>\n",
       "    <tr>\n",
       "      <th>1</th>\n",
       "      <td>1.0</td>\n",
       "      <td>2012-11-19 00:00:00+00:00</td>\n",
       "      <td>4.000000</td>\n",
       "      <td>11.000000</td>\n",
       "      <td>7</td>\n",
       "      <td>5</td>\n",
       "    </tr>\n",
       "    <tr>\n",
       "      <th>2</th>\n",
       "      <td>10.0</td>\n",
       "      <td>2012-12-03 00:00:00+00:00</td>\n",
       "      <td>3.000000</td>\n",
       "      <td>1.000000</td>\n",
       "      <td>3</td>\n",
       "      <td>2</td>\n",
       "    </tr>\n",
       "    <tr>\n",
       "      <th>3</th>\n",
       "      <td>1.0</td>\n",
       "      <td>2012-12-04 00:00:00+00:00</td>\n",
       "      <td>7.000000</td>\n",
       "      <td>5.000000</td>\n",
       "      <td>0</td>\n",
       "      <td>1</td>\n",
       "    </tr>\n",
       "    <tr>\n",
       "      <th>4</th>\n",
       "      <td>1.0</td>\n",
       "      <td>2012-12-05 00:00:00+00:00</td>\n",
       "      <td>6.000000</td>\n",
       "      <td>3.000000</td>\n",
       "      <td>9</td>\n",
       "      <td>4</td>\n",
       "    </tr>\n",
       "    <tr>\n",
       "      <th>...</th>\n",
       "      <td>...</td>\n",
       "      <td>...</td>\n",
       "      <td>...</td>\n",
       "      <td>...</td>\n",
       "      <td>...</td>\n",
       "      <td>...</td>\n",
       "    </tr>\n",
       "    <tr>\n",
       "      <th>15415</th>\n",
       "      <td>25.0</td>\n",
       "      <td>2016-11-03 00:00:00+00:00</td>\n",
       "      <td>4.777778</td>\n",
       "      <td>1.000000</td>\n",
       "      <td>13</td>\n",
       "      <td>6</td>\n",
       "    </tr>\n",
       "    <tr>\n",
       "      <th>15416</th>\n",
       "      <td>1.0</td>\n",
       "      <td>2016-11-03 00:00:00+00:00</td>\n",
       "      <td>3.250000</td>\n",
       "      <td>0.750000</td>\n",
       "      <td>3</td>\n",
       "      <td>2</td>\n",
       "    </tr>\n",
       "    <tr>\n",
       "      <th>15417</th>\n",
       "      <td>26.0</td>\n",
       "      <td>2016-11-03 00:00:00+00:00</td>\n",
       "      <td>1.750000</td>\n",
       "      <td>0.875000</td>\n",
       "      <td>4</td>\n",
       "      <td>3</td>\n",
       "    </tr>\n",
       "    <tr>\n",
       "      <th>15418</th>\n",
       "      <td>23.0</td>\n",
       "      <td>2016-11-03 00:00:00+00:00</td>\n",
       "      <td>2.000000</td>\n",
       "      <td>1.111111</td>\n",
       "      <td>2</td>\n",
       "      <td>1</td>\n",
       "    </tr>\n",
       "    <tr>\n",
       "      <th>15419</th>\n",
       "      <td>11.0</td>\n",
       "      <td>2016-11-03 00:00:00+00:00</td>\n",
       "      <td>6.375000</td>\n",
       "      <td>4.250000</td>\n",
       "      <td>7</td>\n",
       "      <td>4</td>\n",
       "    </tr>\n",
       "  </tbody>\n",
       "</table>\n",
       "<p>15420 rows × 6 columns</p>\n",
       "</div>"
      ],
      "text/plain": [
       "       Inspector ID            Inspection Date  Previous Mean Non-Critical  \\\n",
       "0               1.0  2012-11-05 00:00:00+00:00                    7.000000   \n",
       "1               1.0  2012-11-19 00:00:00+00:00                    4.000000   \n",
       "2              10.0  2012-12-03 00:00:00+00:00                    3.000000   \n",
       "3               1.0  2012-12-04 00:00:00+00:00                    7.000000   \n",
       "4               1.0  2012-12-05 00:00:00+00:00                    6.000000   \n",
       "...             ...                        ...                         ...   \n",
       "15415          25.0  2016-11-03 00:00:00+00:00                    4.777778   \n",
       "15416           1.0  2016-11-03 00:00:00+00:00                    3.250000   \n",
       "15417          26.0  2016-11-03 00:00:00+00:00                    1.750000   \n",
       "15418          23.0  2016-11-03 00:00:00+00:00                    2.000000   \n",
       "15419          11.0  2016-11-03 00:00:00+00:00                    6.375000   \n",
       "\n",
       "       Previous Mean Critical  Non-Critical Violations  Critical Violations  \n",
       "0                    8.000000                        3                    4  \n",
       "1                   11.000000                        7                    5  \n",
       "2                    1.000000                        3                    2  \n",
       "3                    5.000000                        0                    1  \n",
       "4                    3.000000                        9                    4  \n",
       "...                       ...                      ...                  ...  \n",
       "15415                1.000000                       13                    6  \n",
       "15416                0.750000                        3                    2  \n",
       "15417                0.875000                        4                    3  \n",
       "15418                1.111111                        2                    1  \n",
       "15419                4.250000                        7                    4  \n",
       "\n",
       "[15420 rows x 6 columns]"
      ]
     },
     "execution_count": 7,
     "metadata": {},
     "output_type": "execute_result"
    }
   ],
   "source": [
    "df_insp = pd.read_csv('Clean_Inspection')\n",
    "df_insp"
   ]
  },
  {
   "cell_type": "markdown",
   "metadata": {},
   "source": [
    "# Data Visualization"
   ]
  },
  {
   "cell_type": "markdown",
   "metadata": {},
   "source": [
    "We can gain some basic insight into the distribution of the data across all categories by using the following method. "
   ]
  },
  {
   "cell_type": "code",
   "execution_count": 14,
   "metadata": {},
   "outputs": [
    {
     "data": {
      "text/html": [
       "<div>\n",
       "<style scoped>\n",
       "    .dataframe tbody tr th:only-of-type {\n",
       "        vertical-align: middle;\n",
       "    }\n",
       "\n",
       "    .dataframe tbody tr th {\n",
       "        vertical-align: top;\n",
       "    }\n",
       "\n",
       "    .dataframe thead th {\n",
       "        text-align: right;\n",
       "    }\n",
       "</style>\n",
       "<table border=\"1\" class=\"dataframe\">\n",
       "  <thead>\n",
       "    <tr style=\"text-align: right;\">\n",
       "      <th></th>\n",
       "      <th>Inspector ID</th>\n",
       "      <th>Previous Mean Non-Critical</th>\n",
       "      <th>Previous Mean Critical</th>\n",
       "      <th>Non-Critical Violations</th>\n",
       "      <th>Critical Violations</th>\n",
       "    </tr>\n",
       "  </thead>\n",
       "  <tbody>\n",
       "    <tr>\n",
       "      <th>count</th>\n",
       "      <td>15420.000000</td>\n",
       "      <td>15420.000000</td>\n",
       "      <td>15420.000000</td>\n",
       "      <td>15420.000000</td>\n",
       "      <td>15420.000000</td>\n",
       "    </tr>\n",
       "    <tr>\n",
       "      <th>mean</th>\n",
       "      <td>13.347406</td>\n",
       "      <td>5.538940</td>\n",
       "      <td>3.276347</td>\n",
       "      <td>5.115110</td>\n",
       "      <td>2.714721</td>\n",
       "    </tr>\n",
       "    <tr>\n",
       "      <th>std</th>\n",
       "      <td>9.023939</td>\n",
       "      <td>3.200543</td>\n",
       "      <td>2.319573</td>\n",
       "      <td>3.665365</td>\n",
       "      <td>2.788989</td>\n",
       "    </tr>\n",
       "    <tr>\n",
       "      <th>min</th>\n",
       "      <td>1.000000</td>\n",
       "      <td>0.000000</td>\n",
       "      <td>0.000000</td>\n",
       "      <td>0.000000</td>\n",
       "      <td>0.000000</td>\n",
       "    </tr>\n",
       "    <tr>\n",
       "      <th>25%</th>\n",
       "      <td>6.000000</td>\n",
       "      <td>3.000000</td>\n",
       "      <td>1.600000</td>\n",
       "      <td>2.000000</td>\n",
       "      <td>1.000000</td>\n",
       "    </tr>\n",
       "    <tr>\n",
       "      <th>50%</th>\n",
       "      <td>11.000000</td>\n",
       "      <td>5.000000</td>\n",
       "      <td>2.800000</td>\n",
       "      <td>4.000000</td>\n",
       "      <td>2.000000</td>\n",
       "    </tr>\n",
       "    <tr>\n",
       "      <th>75%</th>\n",
       "      <td>22.000000</td>\n",
       "      <td>7.250000</td>\n",
       "      <td>4.428571</td>\n",
       "      <td>7.000000</td>\n",
       "      <td>4.000000</td>\n",
       "    </tr>\n",
       "    <tr>\n",
       "      <th>max</th>\n",
       "      <td>30.000000</td>\n",
       "      <td>27.000000</td>\n",
       "      <td>23.000000</td>\n",
       "      <td>33.000000</td>\n",
       "      <td>23.000000</td>\n",
       "    </tr>\n",
       "  </tbody>\n",
       "</table>\n",
       "</div>"
      ],
      "text/plain": [
       "       Inspector ID  Previous Mean Non-Critical  Previous Mean Critical  \\\n",
       "count  15420.000000                15420.000000            15420.000000   \n",
       "mean      13.347406                    5.538940                3.276347   \n",
       "std        9.023939                    3.200543                2.319573   \n",
       "min        1.000000                    0.000000                0.000000   \n",
       "25%        6.000000                    3.000000                1.600000   \n",
       "50%       11.000000                    5.000000                2.800000   \n",
       "75%       22.000000                    7.250000                4.428571   \n",
       "max       30.000000                   27.000000               23.000000   \n",
       "\n",
       "       Non-Critical Violations  Critical Violations  \n",
       "count             15420.000000         15420.000000  \n",
       "mean                  5.115110             2.714721  \n",
       "std                   3.665365             2.788989  \n",
       "min                   0.000000             0.000000  \n",
       "25%                   2.000000             1.000000  \n",
       "50%                   4.000000             2.000000  \n",
       "75%                   7.000000             4.000000  \n",
       "max                  33.000000            23.000000  "
      ]
     },
     "execution_count": 14,
     "metadata": {},
     "output_type": "execute_result"
    }
   ],
   "source": [
    "df_insp.describe()"
   ]
  },
  {
   "cell_type": "markdown",
   "metadata": {},
   "source": [
    "### Non-Critical Violation Distribution"
   ]
  },
  {
   "cell_type": "code",
   "execution_count": 9,
   "metadata": {},
   "outputs": [
    {
     "name": "stderr",
     "output_type": "stream",
     "text": [
      "/opt/conda/lib/python3.6/site-packages/scipy/stats/stats.py:1713: FutureWarning: Using a non-tuple sequence for multidimensional indexing is deprecated; use `arr[tuple(seq)]` instead of `arr[seq]`. In the future this will be interpreted as an array index, `arr[np.array(seq)]`, which will result either in an error or a different result.\n",
      "  return np.add.reduce(sorted[indexer] * weights, axis=axis) / sumval\n"
     ]
    },
    {
     "data": {
      "text/plain": [
       "<matplotlib.axes._subplots.AxesSubplot at 0x7f8ef1cec198>"
      ]
     },
     "execution_count": 9,
     "metadata": {},
     "output_type": "execute_result"
    },
    {
     "data": {
      "image/png": "[encoded data removed]",
      "text/plain": [
       "<Figure size 1080x288 with 1 Axes>"
      ]
     },
     "metadata": {
      "needs_background": "light"
     },
     "output_type": "display_data"
    }
   ],
   "source": [
    "plt.figure(figsize=(15,4))\n",
    "sns.distplot(df_insp['Non-Critical Violations'], bins=35, rug=True)"
   ]
  },
  {
   "cell_type": "markdown",
   "metadata": {},
   "source": [
    "We observe that the Non-Critical Violation distribution is a normal distribution with a left skew. There are no outliers in the set."
   ]
  },
  {
   "cell_type": "markdown",
   "metadata": {},
   "source": [
    "### Critical Violation Distribution"
   ]
  },
  {
   "cell_type": "code",
   "execution_count": 10,
   "metadata": {},
   "outputs": [
    {
     "data": {
      "text/plain": [
       "<matplotlib.axes._subplots.AxesSubplot at 0x7f8eef6d6898>"
      ]
     },
     "execution_count": 10,
     "metadata": {},
     "output_type": "execute_result"
    },
    {
     "data": {
      "image/png": "[encoded data removed]",
      "text/plain": [
       "<Figure size 1080x288 with 1 Axes>"
      ]
     },
     "metadata": {
      "needs_background": "light"
     },
     "output_type": "display_data"
    }
   ],
   "source": [
    "plt.figure(figsize=(15,4))\n",
    "sns.distplot(df_insp['Critical Violations'], bins=25, rug=True)"
   ]
  },
  {
   "cell_type": "markdown",
   "metadata": {},
   "source": [
    "We observe that the Critical Violation distribution is also a normal distribution with a left skew. There are no outliers in this set either."
   ]
  },
  {
   "cell_type": "markdown",
   "metadata": {},
   "source": [
    "# Data Analysis & Results"
   ]
  },
  {
   "cell_type": "code",
   "execution_count": 11,
   "metadata": {},
   "outputs": [],
   "source": [
    "# Finds the average discrepancy between an inspector's critical violation score and the inspected \n",
    "# establishment's average critical violation score, given the inspector's previous inspection had\n",
    "# an above average critical violation score\n",
    "def crit_violation_discrepancy(df):\n",
    "    # declare variables\n",
    "    avg_critical = 2.714721\n",
    "    discrepancy_sum = 0.0\n",
    "    i = 1\n",
    "    \n",
    "    # Loop through dataframe starting at the second element\n",
    "    while(i < df['Inspection Date'].size):\n",
    "        \n",
    "        # Get inspector's prev critical violation score\n",
    "        prev_inspection = df.iloc[(i-1)]\n",
    "        prev_critical = prev_inspection[5]\n",
    "        \n",
    "        # if prev above average, calculate discrepancy between current inspection crit violation \n",
    "        # count and prev avg crit violation score of restaurant\n",
    "        if (prev_critical > avg_critical):\n",
    "            cur_inspection = df.iloc[i]\n",
    "            discrepancy_sum += cur_inspection[5] - cur_inspection[3]\n",
    "            \n",
    "        i = i + 1\n",
    "            \n",
    "    # return average discrepancy between inspector's critical violation count and the restaurant's \n",
    "    # previous average critical violations       \n",
    "    return ( discrepancy_sum / df['Inspection Date'].size )\n",
    "\n",
    "# Finds the average discrepancy between an inspector's non-critical violation score and the inspected \n",
    "# establishment's average non-critical violation score, given the inspector's previous inspection \n",
    "# had an above average critical violation score\n",
    "def non_crit_violation_discrepancy(df):\n",
    "    # declare variables\n",
    "    avg_critical = 2.714721\n",
    "    discrepancy_sum = 0.0\n",
    "    i = 1\n",
    "    \n",
    "    # Loop through dataframe starting at the second element\n",
    "    while(i < df['Inspection Date'].size):\n",
    "        \n",
    "        # Get inspector's prev critical violation score\n",
    "        prev_inspection = df.iloc[(i-1)]\n",
    "        prev_critical = prev_inspection[5]\n",
    "        \n",
    "        # if prev above average, calculate discrepancy between current inspection non-crit violation \n",
    "        # count and prev avg non-crit violation score of restaurant\n",
    "        if (prev_critical > avg_critical):\n",
    "            cur_inspection = df.iloc[i]\n",
    "            discrepancy_sum += cur_inspection[4] - cur_inspection[2]\n",
    "            \n",
    "        i = i + 1\n",
    "            \n",
    "    # return average discrepancy between inspector's critical violation count and the restaurant's \n",
    "    # previous average critical violations       \n",
    "    return ( discrepancy_sum / df['Inspection Date'].size )"
   ]
  },
  {
   "cell_type": "markdown",
   "metadata": {},
   "source": [
    "Using the function above, we can calculate the average discrepancy between all inspector's critical violation score and the corresponding inspected establishment's average critical violation score and the average discrepancy between all inspector's non-critical violation score and the corresponding inspected establishment's average non-critical violation score."
   ]
  },
  {
   "cell_type": "code",
   "execution_count": 12,
   "metadata": {},
   "outputs": [
    {
     "data": {
      "text/plain": [
       "(0.040433048015116414, 0.10208444121405034)"
      ]
     },
     "execution_count": 12,
     "metadata": {},
     "output_type": "execute_result"
    }
   ],
   "source": [
    "index = 1\n",
    "total_crit_discrepancies = 0.0\n",
    "total_non_crit_discrepancies = 0.0\n",
    "\n",
    "#Loop through all inspectors to find discrepancies\n",
    "while(index <= df_insp['Inspector ID'].unique().size):\n",
    "    inspector_career = df_insp[df_insp['Inspector ID'] == index]\n",
    "    total_crit_discrepancies += crit_violation_discrepancy(inspector_career)\n",
    "    total_non_crit_discrepancies += non_crit_violation_discrepancy(inspector_career)\n",
    "    index = index + 1\n",
    "\n",
    "avg_total_crit_discrepancies = total_crit_discrepancies / df_insp['Inspector ID'].unique().size\n",
    "avg_total_non_crit_discrepancies = total_non_crit_discrepancies / df_insp['Inspector ID'].unique().size\n",
    "\n",
    "avg_total_crit_discrepancies, avg_total_non_crit_discrepancies"
   ]
  },
  {
   "cell_type": "markdown",
   "metadata": {},
   "source": [
    "These results show that if an inspector's critical violation score on their previous inspection is greater than the average critical violation score, an inspector, on average, would find ~.04 more critical violations and ~.1 more non-critical violations on their next inspection. This shows that there is not a significant correlation here since the increase in violations is far smaller than even one standard deviation away in both the non-critical and critical violation values."
   ]
  },
  {
   "cell_type": "markdown",
   "metadata": {},
   "source": [
    "# Ethics & Privacy"
   ]
  },
  {
   "cell_type": "markdown",
   "metadata": {},
   "source": [
    "This investigation adheres to the Safe Harbor Method of data privacy to preserve the anonymity of the involved individuals. To keep the inspectors anonymous, I used the inspector's unique, numerical ID to track their scores instead of their name. Furthermore, I omitted all location data from their inspections so that the audience cannot infer the inspector's identity based on the observed restaurants. Since the inspectors and the locations they inspected remained anonymous, the inspection date cannot be used as identifying information for the inspectors. The remaining data I did use (violation counts) does not need to be omitted or manipulated to adhere to Safe Harbor guidelines."
   ]
  },
  {
   "cell_type": "markdown",
   "metadata": {},
   "source": [
    "While the overall goal of this investigation is to improve the accuracy of health inspections and, consequently, public health, the implications of this study could impact both the inspectors and the public. Although my findings did not agree with my hypothesis, if poor food establishment conditions influence an inspector's grading severity, a restructuring of health inspector scheduling could come at the taxpayer's expense. An example of this would be hiring more inspectors to mitigate the influence poor conditions has on inspectors."
   ]
  },
  {
   "cell_type": "markdown",
   "metadata": {},
   "source": [
    "# Conclusion & Discussion"
   ]
  },
  {
   "cell_type": "markdown",
   "metadata": {},
   "source": [
    "This investigation set out to find a relationship between a health inspector's schedule and the scores they give. I initially hypothesized that if an inspector visited a site with poor sanitary conditions, their next inspection would be graded more harshly. Upon analysis, I was not able to find a meaningful correlation between these two variables and concluded that inspectors typically give scores that reflect the establishment's sanitary conditions. This result indicates that health inspection scores are accurate even if an inspector must work in the dirtiest or dangerous establishments. "
   ]
  }
 ],
 "metadata": {
  "kernelspec": {
   "display_name": "Python 3",
   "language": "python",
   "name": "python3"
  },
  "language_info": {
   "codemirror_mode": {
    "name": "ipython",
    "version": 3
   },
   "file_extension": ".py",
   "mimetype": "text/x-python",
   "name": "python",
   "nbconvert_exporter": "python",
   "pygments_lexer": "ipython3",
   "version": "3.6.7"
  }
 },
 "nbformat": 4,
 "nbformat_minor": 2
}
