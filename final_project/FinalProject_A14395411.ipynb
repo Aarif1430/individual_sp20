{
 "cells": [
  {
   "cell_type": "markdown",
   "metadata": {},
   "source": [
    "# COGS 108 - Final Project "
   ]
  },
  {
   "cell_type": "markdown",
   "metadata": {},
   "source": [
    "# Overview"
   ]
  },
  {
   "cell_type": "markdown",
   "metadata": {},
   "source": [
    "Fast food restaurants are notorious for their uncleanliness and poor sanitation in comparison to other restaurants, at least as depicted by today's media. At the same time, one would expect an area of higher income and affluence to expect a higher level of sanitation and cleanliness. My project aims to aid health inspectors by potentially identifying any correlation between a city's income level and the health inspection scores its restaurants receive."
   ]
  },
  {
   "cell_type": "markdown",
   "metadata": {},
   "source": [
    "# Name & PID\n",
    "\n",
    "- Name: Neil Tengbumroong\n",
    "- PID: A14395411"
   ]
  },
  {
   "cell_type": "markdown",
   "metadata": {},
   "source": [
    "# Research Question"
   ]
  },
  {
   "cell_type": "markdown",
   "metadata": {},
   "source": [
    "In wealthy neighborhoods, do fast food restaurants tend to score higher on health inspections compared to those in poorer neighborhoods?"
   ]
  },
  {
   "cell_type": "markdown",
   "metadata": {},
   "source": [
    "## Background and Prior Work"
   ]
  },
  {
   "cell_type": "markdown",
   "metadata": {},
   "source": [
    "Restaurant health inspections are scored on a 100 point scale, with a letter grade being assigned at the conclusion of the inspection (1). Starting from 100, restaurants can be deducted anywhere between one point for a minor infraction, such as proper produce cleaning, to 4 points for a lack of hot water (1). A potential drawback for this project is that many restaurants often have inaccurate scores due to a flawed rating system because not enough points are assigned to serious and health-threatening infractions (1). On the same note, a near perfect restaurant with one major health violation can be shut down, while another restaurant receiving a lower score with more violations can still be allowed to operate (2).\n",
    "\n",
    "In Oklahoma County, six McDonald's restaurants (of the 17 overall restaurants closed in Oklahoma) close to or south of the dividing I-40 line were shut down (3). This is useful for the research because a specific area showed a poor health trend. \n",
    "\n",
    "From the same article as above, several different franchises were inspected and their scores were averaged (3). Standalone KFC and Taco Bell scored well, at below an average of one infraction per franchise, while interestingly enough KFC/Taco Bell combinations had an average of 3.75 combinations (3). This is important, as possible skews from restaurants that in general tend to perform lower may impact the city's overall rating. For example, a city with multiple \"bad\" restaurants may score lower than a city of similar income with none of those \"bad\" restaurants.\n",
    "\n",
    "A very similar research idea was carried out, examining the restaurant's service scores with respect to the income of the area, rather than health inspection scores. Ultimately, however, there was no correlation found between income and restaurant ratings (4).\n",
    "\n",
    "***Our research will focus on a centralized portion of North Carolina - namely the capital, Raleigh, and its surrounding areas.***\n",
    "\n",
    "\n",
    "References (include links):\n",
    "- 1) https://www.sgvtribune.com/2015/06/25/what-that-restaurant-letter-grade-isnt-telling-you-about-health-and-cleanliness/\n",
    "- 2) http://publichealth.lacounty.gov/eh/misc/ehpost.htm\n",
    "- 3) https://oklahoman.com/article/1423275/fast-food-chains-vary-in-health-department-scores\n",
    "- 4) https://medium.com/swlh/is-there-a-correlation-between-a-restaurants-ratings-and-the-income-levels-of-a-neighborhood-5fe41165e4f1"
   ]
  },
  {
   "cell_type": "markdown",
   "metadata": {},
   "source": [
    "# Hypothesis\n"
   ]
  },
  {
   "cell_type": "markdown",
   "metadata": {},
   "source": [
    "My hypothesis is that because affluent neighborhoods tend to attract wealthier customers who expect a higher level of cleanliness and have higher standards to maintain, fast food restaurants in wealthier neighborhoods should score higher in health inspections compared to their counterparts in lower income areas. "
   ]
  },
  {
   "cell_type": "markdown",
   "metadata": {},
   "source": [
    "# Dataset(s)"
   ]
  },
  {
   "cell_type": "markdown",
   "metadata": {},
   "source": [
    "- Dataset Name: zipcodes.csv\n",
    "- Link to the dataset: (given)\n",
    "- Number of observations: 38\n",
    "\n",
    "\n",
    "- Dataset Name: inspections.csv\n",
    "- Link to the dataset: (given)\n",
    "- Number of observations: 18466"
   ]
  },
  {
   "cell_type": "markdown",
   "metadata": {},
   "source": [
    "# Setup"
   ]
  },
  {
   "cell_type": "markdown",
   "metadata": {},
   "source": [
    "To begin our research, we import all of our necessary packages, as well as the datasets we are going to use into their respective dataframes."
   ]
  },
  {
   "cell_type": "code",
   "execution_count": 1,
   "metadata": {},
   "outputs": [],
   "source": [
    "%matplotlib inline\n",
    "\n",
    "import pandas as pd\n",
    "import numpy as np\n",
    "import statistics as stat\n",
    "import matplotlib.pyplot as plt\n",
    "import patsy\n",
    "import statsmodels.api as sm\n",
    "\n",
    "# Round decimals when displaying DataFrames\n",
    "pd.set_option('precision', 2)"
   ]
  },
  {
   "cell_type": "code",
   "execution_count": 2,
   "metadata": {},
   "outputs": [],
   "source": [
    "df_inspections = pd.read_csv('data/inspections.csv')\n",
    "df_zipcodes = pd.read_csv('data/zipcodes.csv')"
   ]
  },
  {
   "cell_type": "markdown",
   "metadata": {},
   "source": [
    "# Data Cleaning"
   ]
  },
  {
   "cell_type": "markdown",
   "metadata": {},
   "source": [
    "Describe your data cleaning steps here."
   ]
  },
  {
   "cell_type": "markdown",
   "metadata": {},
   "source": [
    "I want to correlate the zip codes in our zipcodes dataframe to the zip codes in our inspections dataframe, so that we can associate the restaurant performance of an area to its income. Let's find out how many we can correlate between the two by first determining how many unique zip codes there are.\n",
    "\n",
    "Then, I want to make sure that they are comparable, and that we are dealing with zip codes that pertain to the same area to begin with (if none of them matched, then taking further action would these datasets would be pointless!)"
   ]
  },
  {
   "cell_type": "code",
   "execution_count": 3,
   "metadata": {},
   "outputs": [
    {
     "name": "stdout",
     "output_type": "stream",
     "text": [
      "<class 'numpy.int64'>\n",
      "<class 'numpy.int64'>\n"
     ]
    }
   ],
   "source": [
    "len(df_zipcodes['zip'].unique())\n",
    "len(df_inspections['postalcode'].unique())\n",
    "\n",
    "print(type(df_zipcodes.at[1, 'zip']))\n",
    "print(type(df_inspections.at[1, 'zip']))"
   ]
  },
  {
   "cell_type": "markdown",
   "metadata": {},
   "source": [
    "Looks like they are the same type, so we can compare them! Now let's we see how many zip codes we have in common, to determine if these are valid datasets we can use. "
   ]
  },
  {
   "cell_type": "code",
   "execution_count": 4,
   "metadata": {},
   "outputs": [
    {
     "name": "stdout",
     "output_type": "stream",
     "text": [
      "51\n",
      "38\n"
     ]
    }
   ],
   "source": [
    "print(len(df_inspections['zip'].unique()))\n",
    "print(len(df_zipcodes['zip'].unique()))"
   ]
  },
  {
   "cell_type": "code",
   "execution_count": 5,
   "metadata": {},
   "outputs": [
    {
     "data": {
      "text/plain": [
       "37"
      ]
     },
     "execution_count": 5,
     "metadata": {},
     "output_type": "execute_result"
    }
   ],
   "source": [
    "len(np.intersect1d(df_zipcodes['zip'].unique(), df_inspections['zip'].unique()))"
   ]
  },
  {
   "cell_type": "markdown",
   "metadata": {},
   "source": [
    "37 different zipcode observations should be good enough for our project. Let's continue!"
   ]
  },
  {
   "cell_type": "markdown",
   "metadata": {},
   "source": [
    "Now the tricky part is to distinguish just the fast food restaurants. I am thinking about a lot of different ways to do this, including using the yelp dataframe and categorizing by price or by type of cuisine. However, there are far too many outliers to account for, such as a brunch place that serves cheap food (only 1 '$' on yelp) or a gourmet burger place that probably shouldn't be classified as fast food. Instead, I've decided to make a generic set of the most popular franchises*, and to use only the restaurants that are included in that set.\n",
    "\n",
    "*according to https://www.qsrmagazine.com/content/ranking-top-50-fast-food-chains-america"
   ]
  },
  {
   "cell_type": "code",
   "execution_count": 6,
   "metadata": {},
   "outputs": [],
   "source": [
    "fast_food_list = ['taco bell', 'mcdonald', 'subway', 'burger king', 'quiznos sub', 'starbucks', 'kfc', 'chick-fil-a', 'chipotle', \"wendy's\", \"cici's\", 'pizza hut', 'five guys', 'arby', 'popeyes', 'dairy queen', 'little caesars', 'papa johns', 'dunkin', 'sonic', 'domino', 'panda express', 'baskin', \"church's\", 'auntie anne', 'shake', 'checker', 'jimmy john', 'bojangle', 'firehouse', 'hardee', 'jersey mike', 'papa murphy', 'tim horton', 'del taco', 'white castle']"
   ]
  },
  {
   "cell_type": "markdown",
   "metadata": {},
   "source": [
    "Before I can begin, I have to normalize the data, because some names are listed as 'SUBWAY' and others as 'Subway', for example. Some even contain a number after their name. I decided to convert them all to lowercase, and plan to use some sort of contains method to group them by keyword (ie. 'Taco Bell #1249 should be able to be grouped by the keyword 'taco bell'). "
   ]
  },
  {
   "cell_type": "code",
   "execution_count": 7,
   "metadata": {},
   "outputs": [
    {
     "data": {
      "text/html": [
       "<div>\n",
       "<style scoped>\n",
       "    .dataframe tbody tr th:only-of-type {\n",
       "        vertical-align: middle;\n",
       "    }\n",
       "\n",
       "    .dataframe tbody tr th {\n",
       "        vertical-align: top;\n",
       "    }\n",
       "\n",
       "    .dataframe thead th {\n",
       "        text-align: right;\n",
       "    }\n",
       "</style>\n",
       "<table border=\"1\" class=\"dataframe\">\n",
       "  <thead>\n",
       "    <tr style=\"text-align: right;\">\n",
       "      <th></th>\n",
       "      <th>hsisid</th>\n",
       "      <th>date</th>\n",
       "      <th>name</th>\n",
       "      <th>address1</th>\n",
       "      <th>address2</th>\n",
       "      <th>city</th>\n",
       "      <th>state</th>\n",
       "      <th>postalcode</th>\n",
       "      <th>phonenumber</th>\n",
       "      <th>restaurantopendate</th>\n",
       "      <th>...</th>\n",
       "      <th>num_non_critical</th>\n",
       "      <th>num_critical_previous</th>\n",
       "      <th>num_non_critical_previous</th>\n",
       "      <th>num_critical_mean_previous</th>\n",
       "      <th>num_non_critical_mean_previous</th>\n",
       "      <th>avg_neighbor_num_critical</th>\n",
       "      <th>avg_neighbor_num_non_critical</th>\n",
       "      <th>top_match</th>\n",
       "      <th>second_match</th>\n",
       "      <th>critical</th>\n",
       "    </tr>\n",
       "  </thead>\n",
       "  <tbody>\n",
       "    <tr>\n",
       "      <th>0</th>\n",
       "      <td>4092013748</td>\n",
       "      <td>2012-09-21T00:00:00Z</td>\n",
       "      <td>cafe 3000 at wake med</td>\n",
       "      <td>3000 New Bern Ave</td>\n",
       "      <td>NaN</td>\n",
       "      <td>raleigh</td>\n",
       "      <td>NC</td>\n",
       "      <td>27610</td>\n",
       "      <td>(919) 350-8047</td>\n",
       "      <td>2002-12-21T00:00:00Z</td>\n",
       "      <td>...</td>\n",
       "      <td>7</td>\n",
       "      <td>NaN</td>\n",
       "      <td>NaN</td>\n",
       "      <td>NaN</td>\n",
       "      <td>NaN</td>\n",
       "      <td>NaN</td>\n",
       "      <td>NaN</td>\n",
       "      <td>NaN</td>\n",
       "      <td>NaN</td>\n",
       "      <td>1</td>\n",
       "    </tr>\n",
       "    <tr>\n",
       "      <th>1</th>\n",
       "      <td>4092014046</td>\n",
       "      <td>2012-09-21T00:00:00Z</td>\n",
       "      <td>overtime sports pub</td>\n",
       "      <td>1030-149 N Rogers Ln</td>\n",
       "      <td>NaN</td>\n",
       "      <td>raleigh</td>\n",
       "      <td>NC</td>\n",
       "      <td>27610</td>\n",
       "      <td>(919) 255-9556</td>\n",
       "      <td>2004-05-04T00:00:00Z</td>\n",
       "      <td>...</td>\n",
       "      <td>11</td>\n",
       "      <td>NaN</td>\n",
       "      <td>NaN</td>\n",
       "      <td>NaN</td>\n",
       "      <td>NaN</td>\n",
       "      <td>NaN</td>\n",
       "      <td>NaN</td>\n",
       "      <td>NaN</td>\n",
       "      <td>NaN</td>\n",
       "      <td>0</td>\n",
       "    </tr>\n",
       "    <tr>\n",
       "      <th>2</th>\n",
       "      <td>4092015191</td>\n",
       "      <td>2012-09-21T00:00:00Z</td>\n",
       "      <td>taste of china</td>\n",
       "      <td>6209 ROCK QUARRY RD</td>\n",
       "      <td>STE 126</td>\n",
       "      <td>raleigh</td>\n",
       "      <td>NC</td>\n",
       "      <td>27610</td>\n",
       "      <td>(919) 773-2285</td>\n",
       "      <td>2008-08-04T00:00:00Z</td>\n",
       "      <td>...</td>\n",
       "      <td>8</td>\n",
       "      <td>NaN</td>\n",
       "      <td>NaN</td>\n",
       "      <td>NaN</td>\n",
       "      <td>NaN</td>\n",
       "      <td>NaN</td>\n",
       "      <td>NaN</td>\n",
       "      <td>NaN</td>\n",
       "      <td>NaN</td>\n",
       "      <td>1</td>\n",
       "    </tr>\n",
       "    <tr>\n",
       "      <th>3</th>\n",
       "      <td>4092016122</td>\n",
       "      <td>2012-09-21T00:00:00Z</td>\n",
       "      <td>panera bread #1643</td>\n",
       "      <td>1065 Darrington DR</td>\n",
       "      <td>NaN</td>\n",
       "      <td>cary</td>\n",
       "      <td>NC</td>\n",
       "      <td>27513</td>\n",
       "      <td>NaN</td>\n",
       "      <td>2012-03-28T00:00:00Z</td>\n",
       "      <td>...</td>\n",
       "      <td>3</td>\n",
       "      <td>NaN</td>\n",
       "      <td>NaN</td>\n",
       "      <td>NaN</td>\n",
       "      <td>NaN</td>\n",
       "      <td>NaN</td>\n",
       "      <td>NaN</td>\n",
       "      <td>NaN</td>\n",
       "      <td>NaN</td>\n",
       "      <td>1</td>\n",
       "    </tr>\n",
       "    <tr>\n",
       "      <th>4</th>\n",
       "      <td>4092021513</td>\n",
       "      <td>2012-09-21T00:00:00Z</td>\n",
       "      <td>walmart supercenter #4499-00 deli/bakery</td>\n",
       "      <td>841 E Gannon AVE</td>\n",
       "      <td>NaN</td>\n",
       "      <td>zebulon</td>\n",
       "      <td>NC</td>\n",
       "      <td>27597</td>\n",
       "      <td>(919) 269-2221 ext. 304</td>\n",
       "      <td>2008-02-25T00:00:00Z</td>\n",
       "      <td>...</td>\n",
       "      <td>4</td>\n",
       "      <td>NaN</td>\n",
       "      <td>NaN</td>\n",
       "      <td>NaN</td>\n",
       "      <td>NaN</td>\n",
       "      <td>NaN</td>\n",
       "      <td>NaN</td>\n",
       "      <td>NaN</td>\n",
       "      <td>NaN</td>\n",
       "      <td>1</td>\n",
       "    </tr>\n",
       "  </tbody>\n",
       "</table>\n",
       "<p>5 rows × 36 columns</p>\n",
       "</div>"
      ],
      "text/plain": [
       "       hsisid                  date                                      name  \\\n",
       "0  4092013748  2012-09-21T00:00:00Z                     cafe 3000 at wake med   \n",
       "1  4092014046  2012-09-21T00:00:00Z                       overtime sports pub   \n",
       "2  4092015191  2012-09-21T00:00:00Z                            taste of china   \n",
       "3  4092016122  2012-09-21T00:00:00Z                        panera bread #1643   \n",
       "4  4092021513  2012-09-21T00:00:00Z  walmart supercenter #4499-00 deli/bakery   \n",
       "\n",
       "               address1 address2     city state postalcode  \\\n",
       "0     3000 New Bern Ave      NaN  raleigh    NC      27610   \n",
       "1  1030-149 N Rogers Ln      NaN  raleigh    NC      27610   \n",
       "2   6209 ROCK QUARRY RD  STE 126  raleigh    NC      27610   \n",
       "3    1065 Darrington DR      NaN     cary    NC      27513   \n",
       "4      841 E Gannon AVE      NaN  zebulon    NC      27597   \n",
       "\n",
       "               phonenumber    restaurantopendate  ...  num_non_critical  \\\n",
       "0           (919) 350-8047  2002-12-21T00:00:00Z  ...                 7   \n",
       "1           (919) 255-9556  2004-05-04T00:00:00Z  ...                11   \n",
       "2           (919) 773-2285  2008-08-04T00:00:00Z  ...                 8   \n",
       "3                      NaN  2012-03-28T00:00:00Z  ...                 3   \n",
       "4  (919) 269-2221 ext. 304  2008-02-25T00:00:00Z  ...                 4   \n",
       "\n",
       "  num_critical_previous  num_non_critical_previous  \\\n",
       "0                   NaN                        NaN   \n",
       "1                   NaN                        NaN   \n",
       "2                   NaN                        NaN   \n",
       "3                   NaN                        NaN   \n",
       "4                   NaN                        NaN   \n",
       "\n",
       "   num_critical_mean_previous num_non_critical_mean_previous  \\\n",
       "0                         NaN                            NaN   \n",
       "1                         NaN                            NaN   \n",
       "2                         NaN                            NaN   \n",
       "3                         NaN                            NaN   \n",
       "4                         NaN                            NaN   \n",
       "\n",
       "   avg_neighbor_num_critical avg_neighbor_num_non_critical top_match  \\\n",
       "0                        NaN                           NaN       NaN   \n",
       "1                        NaN                           NaN       NaN   \n",
       "2                        NaN                           NaN       NaN   \n",
       "3                        NaN                           NaN       NaN   \n",
       "4                        NaN                           NaN       NaN   \n",
       "\n",
       "  second_match  critical  \n",
       "0          NaN         1  \n",
       "1          NaN         0  \n",
       "2          NaN         1  \n",
       "3          NaN         1  \n",
       "4          NaN         1  \n",
       "\n",
       "[5 rows x 36 columns]"
      ]
     },
     "execution_count": 7,
     "metadata": {},
     "output_type": "execute_result"
    }
   ],
   "source": [
    "df_inspections['name'] = df_inspections['name'].str.lower()\n",
    "df_inspections.head()"
   ]
  },
  {
   "cell_type": "markdown",
   "metadata": {},
   "source": [
    "Then, I created a pattern to match each keyword and used that to select fast food restaurants from the inspections dataframe. I assigned this to a new dataframe, called df_fast_food."
   ]
  },
  {
   "cell_type": "code",
   "execution_count": 8,
   "metadata": {},
   "outputs": [
    {
     "data": {
      "text/html": [
       "<div>\n",
       "<style scoped>\n",
       "    .dataframe tbody tr th:only-of-type {\n",
       "        vertical-align: middle;\n",
       "    }\n",
       "\n",
       "    .dataframe tbody tr th {\n",
       "        vertical-align: top;\n",
       "    }\n",
       "\n",
       "    .dataframe thead th {\n",
       "        text-align: right;\n",
       "    }\n",
       "</style>\n",
       "<table border=\"1\" class=\"dataframe\">\n",
       "  <thead>\n",
       "    <tr style=\"text-align: right;\">\n",
       "      <th></th>\n",
       "      <th>hsisid</th>\n",
       "      <th>date</th>\n",
       "      <th>name</th>\n",
       "      <th>address1</th>\n",
       "      <th>address2</th>\n",
       "      <th>city</th>\n",
       "      <th>state</th>\n",
       "      <th>postalcode</th>\n",
       "      <th>phonenumber</th>\n",
       "      <th>restaurantopendate</th>\n",
       "      <th>...</th>\n",
       "      <th>num_non_critical</th>\n",
       "      <th>num_critical_previous</th>\n",
       "      <th>num_non_critical_previous</th>\n",
       "      <th>num_critical_mean_previous</th>\n",
       "      <th>num_non_critical_mean_previous</th>\n",
       "      <th>avg_neighbor_num_critical</th>\n",
       "      <th>avg_neighbor_num_non_critical</th>\n",
       "      <th>top_match</th>\n",
       "      <th>second_match</th>\n",
       "      <th>critical</th>\n",
       "    </tr>\n",
       "  </thead>\n",
       "  <tbody>\n",
       "    <tr>\n",
       "      <th>26</th>\n",
       "      <td>4092014355</td>\n",
       "      <td>2012-09-26T00:00:00Z</td>\n",
       "      <td>jersey mike`s #3002-a</td>\n",
       "      <td>5910 Duraleigh RD</td>\n",
       "      <td>NaN</td>\n",
       "      <td>raleigh</td>\n",
       "      <td>NC</td>\n",
       "      <td>27612</td>\n",
       "      <td>(919) 787-2540</td>\n",
       "      <td>2005-07-18T00:00:00Z</td>\n",
       "      <td>...</td>\n",
       "      <td>7</td>\n",
       "      <td>NaN</td>\n",
       "      <td>NaN</td>\n",
       "      <td>NaN</td>\n",
       "      <td>NaN</td>\n",
       "      <td>2.0</td>\n",
       "      <td>4.6</td>\n",
       "      <td>4.09e+09</td>\n",
       "      <td>4.09e+09</td>\n",
       "      <td>1</td>\n",
       "    </tr>\n",
       "    <tr>\n",
       "      <th>47</th>\n",
       "      <td>4092014184</td>\n",
       "      <td>2012-09-28T00:00:00Z</td>\n",
       "      <td>hwy 55 burgers, shakes &amp; fries</td>\n",
       "      <td>1011 N. Smithfield RD</td>\n",
       "      <td>NaN</td>\n",
       "      <td>knightdale</td>\n",
       "      <td>NC</td>\n",
       "      <td>27545</td>\n",
       "      <td>(919) 261-9841</td>\n",
       "      <td>2004-11-16T00:00:00Z</td>\n",
       "      <td>...</td>\n",
       "      <td>6</td>\n",
       "      <td>NaN</td>\n",
       "      <td>NaN</td>\n",
       "      <td>NaN</td>\n",
       "      <td>NaN</td>\n",
       "      <td>4.8</td>\n",
       "      <td>8.2</td>\n",
       "      <td>4.09e+09</td>\n",
       "      <td>4.09e+09</td>\n",
       "      <td>1</td>\n",
       "    </tr>\n",
       "    <tr>\n",
       "      <th>53</th>\n",
       "      <td>4092016249</td>\n",
       "      <td>2012-09-28T00:00:00Z</td>\n",
       "      <td>jersey mikes #3131</td>\n",
       "      <td>6176 FALLS OF NEUSE RD</td>\n",
       "      <td>STE 104</td>\n",
       "      <td>raleigh</td>\n",
       "      <td>NC</td>\n",
       "      <td>27609</td>\n",
       "      <td>(919) 870-7827</td>\n",
       "      <td>2012-08-28T00:00:00Z</td>\n",
       "      <td>...</td>\n",
       "      <td>3</td>\n",
       "      <td>NaN</td>\n",
       "      <td>NaN</td>\n",
       "      <td>NaN</td>\n",
       "      <td>NaN</td>\n",
       "      <td>4.8</td>\n",
       "      <td>9.4</td>\n",
       "      <td>4.09e+09</td>\n",
       "      <td>4.09e+09</td>\n",
       "      <td>1</td>\n",
       "    </tr>\n",
       "    <tr>\n",
       "      <th>56</th>\n",
       "      <td>4092012834</td>\n",
       "      <td>2012-10-01T00:00:00Z</td>\n",
       "      <td>mcdonald`s #18969</td>\n",
       "      <td>1305 E WILLIAMS ST</td>\n",
       "      <td>NaN</td>\n",
       "      <td>apex</td>\n",
       "      <td>NC</td>\n",
       "      <td>27502-2188</td>\n",
       "      <td>(919) 362-5890</td>\n",
       "      <td>1998-11-16T00:00:00Z</td>\n",
       "      <td>...</td>\n",
       "      <td>7</td>\n",
       "      <td>NaN</td>\n",
       "      <td>NaN</td>\n",
       "      <td>NaN</td>\n",
       "      <td>NaN</td>\n",
       "      <td>6.8</td>\n",
       "      <td>5.4</td>\n",
       "      <td>4.09e+09</td>\n",
       "      <td>4.09e+09</td>\n",
       "      <td>1</td>\n",
       "    </tr>\n",
       "    <tr>\n",
       "      <th>59</th>\n",
       "      <td>4092014580</td>\n",
       "      <td>2012-10-01T00:00:00Z</td>\n",
       "      <td>subway #37200</td>\n",
       "      <td>138 SHENSTONE BLVD</td>\n",
       "      <td>NaN</td>\n",
       "      <td>garner</td>\n",
       "      <td>NC</td>\n",
       "      <td>27529</td>\n",
       "      <td>(919) 329-6281</td>\n",
       "      <td>2006-04-21T00:00:00Z</td>\n",
       "      <td>...</td>\n",
       "      <td>5</td>\n",
       "      <td>NaN</td>\n",
       "      <td>NaN</td>\n",
       "      <td>NaN</td>\n",
       "      <td>NaN</td>\n",
       "      <td>5.2</td>\n",
       "      <td>10.2</td>\n",
       "      <td>4.09e+09</td>\n",
       "      <td>4.09e+09</td>\n",
       "      <td>1</td>\n",
       "    </tr>\n",
       "  </tbody>\n",
       "</table>\n",
       "<p>5 rows × 36 columns</p>\n",
       "</div>"
      ],
      "text/plain": [
       "        hsisid                  date                            name  \\\n",
       "26  4092014355  2012-09-26T00:00:00Z           jersey mike`s #3002-a   \n",
       "47  4092014184  2012-09-28T00:00:00Z  hwy 55 burgers, shakes & fries   \n",
       "53  4092016249  2012-09-28T00:00:00Z              jersey mikes #3131   \n",
       "56  4092012834  2012-10-01T00:00:00Z               mcdonald`s #18969   \n",
       "59  4092014580  2012-10-01T00:00:00Z                   subway #37200   \n",
       "\n",
       "                  address1 address2        city state  postalcode  \\\n",
       "26       5910 Duraleigh RD      NaN     raleigh    NC       27612   \n",
       "47   1011 N. Smithfield RD      NaN  knightdale    NC       27545   \n",
       "53  6176 FALLS OF NEUSE RD  STE 104     raleigh    NC       27609   \n",
       "56      1305 E WILLIAMS ST      NaN        apex    NC  27502-2188   \n",
       "59      138 SHENSTONE BLVD      NaN      garner    NC       27529   \n",
       "\n",
       "       phonenumber    restaurantopendate  ...  num_non_critical  \\\n",
       "26  (919) 787-2540  2005-07-18T00:00:00Z  ...                 7   \n",
       "47  (919) 261-9841  2004-11-16T00:00:00Z  ...                 6   \n",
       "53  (919) 870-7827  2012-08-28T00:00:00Z  ...                 3   \n",
       "56  (919) 362-5890  1998-11-16T00:00:00Z  ...                 7   \n",
       "59  (919) 329-6281  2006-04-21T00:00:00Z  ...                 5   \n",
       "\n",
       "   num_critical_previous  num_non_critical_previous  \\\n",
       "26                   NaN                        NaN   \n",
       "47                   NaN                        NaN   \n",
       "53                   NaN                        NaN   \n",
       "56                   NaN                        NaN   \n",
       "59                   NaN                        NaN   \n",
       "\n",
       "    num_critical_mean_previous num_non_critical_mean_previous  \\\n",
       "26                         NaN                            NaN   \n",
       "47                         NaN                            NaN   \n",
       "53                         NaN                            NaN   \n",
       "56                         NaN                            NaN   \n",
       "59                         NaN                            NaN   \n",
       "\n",
       "    avg_neighbor_num_critical avg_neighbor_num_non_critical top_match  \\\n",
       "26                        2.0                           4.6  4.09e+09   \n",
       "47                        4.8                           8.2  4.09e+09   \n",
       "53                        4.8                           9.4  4.09e+09   \n",
       "56                        6.8                           5.4  4.09e+09   \n",
       "59                        5.2                          10.2  4.09e+09   \n",
       "\n",
       "   second_match  critical  \n",
       "26     4.09e+09         1  \n",
       "47     4.09e+09         1  \n",
       "53     4.09e+09         1  \n",
       "56     4.09e+09         1  \n",
       "59     4.09e+09         1  \n",
       "\n",
       "[5 rows x 36 columns]"
      ]
     },
     "execution_count": 8,
     "metadata": {},
     "output_type": "execute_result"
    }
   ],
   "source": [
    "pattern = '|'.join(fast_food_list)\n",
    "df_fast_food = df_inspections[df_inspections.name.str.contains(pattern)]\n",
    "df_fast_food.head()"
   ]
  },
  {
   "cell_type": "markdown",
   "metadata": {},
   "source": [
    "I now have to categorize each zip code into an income bracket. Our dataset here is unfortunately limited, but we will make do with what we have. I decided to use the median household income as my variable for determining this grouping, because I believe it provides the most accurate representation of the given columns. I defined a function to convert the values for my new column, and dropped the rest of the columns that are no longer necessary."
   ]
  },
  {
   "cell_type": "code",
   "execution_count": 9,
   "metadata": {},
   "outputs": [],
   "source": [
    "df_zipcodes['income_bracket'] = df_zipcodes['median_household_income_dollars']\n",
    "\n",
    "def income_to_group(income):\n",
    "    if income < 45000:\n",
    "        return 'low'\n",
    "    elif income < 60000:\n",
    "        return 'mid_low'\n",
    "    elif income < 85000:\n",
    "        return 'mid_high'\n",
    "    else:\n",
    "        return 'high'\n",
    "\n",
    "# apply function to column and then drop the rest\n",
    "df_zipcodes['income_bracket'] = df_zipcodes['income_bracket'].apply(income_to_group)\n",
    "df_zipcodes = df_zipcodes.drop(columns=['median_family_income_dollars', 'per_capita_income_dollars', 'percent_damilies_below_poverty_line', 'percent_snap_benefits', 'percent_supplemental_security_income', 'percent_nonwhite'])"
   ]
  },
  {
   "cell_type": "markdown",
   "metadata": {},
   "source": [
    "Finally, I have to combine the two datasets. I want to merge them so that I have a restaurant's name with its inspection score tied to an income. I also want to drop the remaining columns so that I have a clean dataset to begin working with."
   ]
  },
  {
   "cell_type": "code",
   "execution_count": 10,
   "metadata": {},
   "outputs": [
    {
     "data": {
      "text/html": [
       "<div>\n",
       "<style scoped>\n",
       "    .dataframe tbody tr th:only-of-type {\n",
       "        vertical-align: middle;\n",
       "    }\n",
       "\n",
       "    .dataframe tbody tr th {\n",
       "        vertical-align: top;\n",
       "    }\n",
       "\n",
       "    .dataframe thead th {\n",
       "        text-align: right;\n",
       "    }\n",
       "</style>\n",
       "<table border=\"1\" class=\"dataframe\">\n",
       "  <thead>\n",
       "    <tr style=\"text-align: right;\">\n",
       "      <th></th>\n",
       "      <th>zip</th>\n",
       "      <th>name</th>\n",
       "      <th>score</th>\n",
       "      <th>income</th>\n",
       "      <th>income_bracket</th>\n",
       "    </tr>\n",
       "  </thead>\n",
       "  <tbody>\n",
       "    <tr>\n",
       "      <th>0</th>\n",
       "      <td>27612</td>\n",
       "      <td>jersey mike`s #3002-a</td>\n",
       "      <td>95.5</td>\n",
       "      <td>68864</td>\n",
       "      <td>mid_high</td>\n",
       "    </tr>\n",
       "    <tr>\n",
       "      <th>1</th>\n",
       "      <td>27612</td>\n",
       "      <td>taco bell #1872</td>\n",
       "      <td>99.5</td>\n",
       "      <td>68864</td>\n",
       "      <td>mid_high</td>\n",
       "    </tr>\n",
       "    <tr>\n",
       "      <th>2</th>\n",
       "      <td>27612</td>\n",
       "      <td>starbucks coffee</td>\n",
       "      <td>99.0</td>\n",
       "      <td>68864</td>\n",
       "      <td>mid_high</td>\n",
       "    </tr>\n",
       "    <tr>\n",
       "      <th>3</th>\n",
       "      <td>27612</td>\n",
       "      <td>hwy 55 burgers, shakes &amp; fries</td>\n",
       "      <td>90.5</td>\n",
       "      <td>68864</td>\n",
       "      <td>mid_high</td>\n",
       "    </tr>\n",
       "    <tr>\n",
       "      <th>4</th>\n",
       "      <td>27612</td>\n",
       "      <td>subway</td>\n",
       "      <td>99.5</td>\n",
       "      <td>68864</td>\n",
       "      <td>mid_high</td>\n",
       "    </tr>\n",
       "  </tbody>\n",
       "</table>\n",
       "</div>"
      ],
      "text/plain": [
       "     zip                            name  score  income income_bracket\n",
       "0  27612           jersey mike`s #3002-a   95.5   68864       mid_high\n",
       "1  27612                 taco bell #1872   99.5   68864       mid_high\n",
       "2  27612                starbucks coffee   99.0   68864       mid_high\n",
       "3  27612  hwy 55 burgers, shakes & fries   90.5   68864       mid_high\n",
       "4  27612                          subway   99.5   68864       mid_high"
      ]
     },
     "execution_count": 10,
     "metadata": {},
     "output_type": "execute_result"
    }
   ],
   "source": [
    "df_fast_food_new = df_fast_food[['zip', 'name', 'score']]\n",
    "df_final = df_fast_food_new.merge(df_zipcodes, on='zip')\n",
    "# rename income for ease of use later\n",
    "df_final = df_final.rename(columns={\"median_household_income_dollars\": \"income\"})\n",
    "df_final.head()"
   ]
  },
  {
   "cell_type": "markdown",
   "metadata": {},
   "source": [
    "# Data Analysis & Results"
   ]
  },
  {
   "cell_type": "markdown",
   "metadata": {},
   "source": [
    "Include cells that describe the steps in your data analysis."
   ]
  },
  {
   "cell_type": "markdown",
   "metadata": {},
   "source": [
    "**Exploratory Data Analysis**"
   ]
  },
  {
   "cell_type": "markdown",
   "metadata": {},
   "source": [
    "Before I do any exploring, I want to make sure my variables and data are appropriate for the analysis. I intend to work with the income and inspection score of each of the restaurants. Both variables are independent of each other, so we know we will not be dealing with any autocorrelation. "
   ]
  },
  {
   "cell_type": "markdown",
   "metadata": {},
   "source": [
    "First, I want to explore my data a little and see what I'm looking at. I created a histogram with 25 bins to demonstrate the general range of scores we are dealing with."
   ]
  },
  {
   "cell_type": "code",
   "execution_count": 11,
   "metadata": {},
   "outputs": [
    {
     "data": {
      "text/plain": [
       "array([[<matplotlib.axes._subplots.AxesSubplot object at 0x7efe66261d30>]],\n",
       "      dtype=object)"
      ]
     },
     "execution_count": 11,
     "metadata": {},
     "output_type": "execute_result"
    },
    {
     "data": {
      "image/png": "[encoded data removed]",
      "text/plain": [
       "<Figure size 432x288 with 1 Axes>"
      ]
     },
     "metadata": {
      "needs_background": "light"
     },
     "output_type": "display_data"
    }
   ],
   "source": [
    "df_final.hist(column='score', bins=25)"
   ]
  },
  {
   "cell_type": "markdown",
   "metadata": {},
   "source": [
    "It seems that most of our scores will be in the 90+ range, which is probably a good sign - restaurants are good at maintaining health standards, at least when it comes to health inspections. Now let's see if there is a correlation between the median income of a zip code, and the restaurant's score. I created a scatterplot that compares median household income to score."
   ]
  },
  {
   "cell_type": "code",
   "execution_count": 12,
   "metadata": {},
   "outputs": [
    {
     "data": {
      "text/plain": [
       "<matplotlib.axes._subplots.AxesSubplot at 0x7efe6415b4a8>"
      ]
     },
     "execution_count": 12,
     "metadata": {},
     "output_type": "execute_result"
    },
    {
     "data": {
      "image/png": "[encoded data removed]",
      "text/plain": [
       "<Figure size 432x288 with 1 Axes>"
      ]
     },
     "metadata": {
      "needs_background": "light"
     },
     "output_type": "display_data"
    }
   ],
   "source": [
    "df_final.plot.scatter(x='income', y='score')"
   ]
  },
  {
   "cell_type": "markdown",
   "metadata": {},
   "source": [
    "From a first glance, it seems that high and low ratings are fairly consistent across the board. My first guess would be to say that the mid-range incomes seem to have the lowest scores, but these could just be outliers. If anything, the lowest median income on the far left appears to perform better than its higher income counterparts. Let's group the income brackets and find the averages to visualize them even further (ignore the zip code average). "
   ]
  },
  {
   "cell_type": "code",
   "execution_count": 13,
   "metadata": {},
   "outputs": [
    {
     "data": {
      "text/html": [
       "<div>\n",
       "<style scoped>\n",
       "    .dataframe tbody tr th:only-of-type {\n",
       "        vertical-align: middle;\n",
       "    }\n",
       "\n",
       "    .dataframe tbody tr th {\n",
       "        vertical-align: top;\n",
       "    }\n",
       "\n",
       "    .dataframe thead th {\n",
       "        text-align: right;\n",
       "    }\n",
       "</style>\n",
       "<table border=\"1\" class=\"dataframe\">\n",
       "  <thead>\n",
       "    <tr style=\"text-align: right;\">\n",
       "      <th></th>\n",
       "      <th>zip</th>\n",
       "      <th>score</th>\n",
       "      <th>income</th>\n",
       "    </tr>\n",
       "    <tr>\n",
       "      <th>income_bracket</th>\n",
       "      <th></th>\n",
       "      <th></th>\n",
       "      <th></th>\n",
       "    </tr>\n",
       "  </thead>\n",
       "  <tbody>\n",
       "    <tr>\n",
       "      <th>high</th>\n",
       "      <td>27531.71</td>\n",
       "      <td>96.12</td>\n",
       "      <td>96480.58</td>\n",
       "    </tr>\n",
       "    <tr>\n",
       "      <th>low</th>\n",
       "      <td>27604.16</td>\n",
       "      <td>96.84</td>\n",
       "      <td>38204.87</td>\n",
       "    </tr>\n",
       "    <tr>\n",
       "      <th>mid_high</th>\n",
       "      <td>27569.68</td>\n",
       "      <td>96.37</td>\n",
       "      <td>73293.72</td>\n",
       "    </tr>\n",
       "    <tr>\n",
       "      <th>mid_low</th>\n",
       "      <td>27598.42</td>\n",
       "      <td>96.33</td>\n",
       "      <td>52576.56</td>\n",
       "    </tr>\n",
       "  </tbody>\n",
       "</table>\n",
       "</div>"
      ],
      "text/plain": [
       "                     zip  score    income\n",
       "income_bracket                           \n",
       "high            27531.71  96.12  96480.58\n",
       "low             27604.16  96.84  38204.87\n",
       "mid_high        27569.68  96.37  73293.72\n",
       "mid_low         27598.42  96.33  52576.56"
      ]
     },
     "execution_count": 13,
     "metadata": {},
     "output_type": "execute_result"
    }
   ],
   "source": [
    "df_final.groupby('income_bracket').mean()"
   ]
  },
  {
   "cell_type": "markdown",
   "metadata": {},
   "source": [
    "This disproves our hypothesis even further! Now that we can see each average score grouped by income, we can confirm that the scores are fairly consistent across all income brackets. Not just that, but the restaurants in the \"low\" income zip codes scored an average of 0.72 points higher than the \"high\" income zip code restaurants, even though the average \"high\" income is more than double that of the \"low\" income!"
   ]
  },
  {
   "cell_type": "markdown",
   "metadata": {},
   "source": [
    "It would be really easy to stop here, but we should continue to analyze to make sure our results are conclusive. I want to build a model to predict score from income bracket, to truly determine the fate of our original hypothesis.\n",
    "\n",
    "I created a 1-D linear model by fitting the values from our current dataframe to try and predict the score from income. For the values, I chose the lowest income as the lower bound and the highest income as the higher bound."
   ]
  },
  {
   "cell_type": "code",
   "execution_count": 14,
   "metadata": {},
   "outputs": [],
   "source": [
    "max_income = df_final['income'].max()\n",
    "min_income = df_final['income'].min()"
   ]
  },
  {
   "cell_type": "code",
   "execution_count": 15,
   "metadata": {},
   "outputs": [],
   "source": [
    "a1, b1 = np.polyfit(df_final.income, df_final.score, 1)\n",
    "arr = np.arange(min_income, max_income)\n",
    "pred_score_temp = [i * a1 + b1 for i in arr]\n",
    "pred_score = np.asarray(pred_score_temp, dtype=float)"
   ]
  },
  {
   "cell_type": "code",
   "execution_count": 16,
   "metadata": {},
   "outputs": [
    {
     "name": "stdout",
     "output_type": "stream",
     "text": [
      "MAX prediction:  96.33210690562484\n",
      "MIN prediction:  96.34734426924852\n",
      "Variance:  1.934872004248926e-05\n"
     ]
    },
    {
     "data": {
      "image/png": "[encoded data removed]",
      "text/plain": [
       "<Figure size 432x288 with 1 Axes>"
      ]
     },
     "metadata": {
      "needs_background": "light"
     },
     "output_type": "display_data"
    }
   ],
   "source": [
    "df_final.plot.scatter(x='income', y='score')\n",
    "plt.plot(arr, pred_score, color='red')\n",
    "print('MAX prediction: ', pred_score.min())\n",
    "print('MIN prediction: ', pred_score.max())\n",
    "print('Variance: ', stat.variance(pred_score))"
   ]
  },
  {
   "cell_type": "markdown",
   "metadata": {},
   "source": [
    "Our scatterplot now displays our current data, along with a line that represents our predictions created from a model of that data. We also have our max and min predictions on display. As you can see, our model has an incredibly low variance, and our prediction line appears to be almost completely flat - detailing a steady, consistent set of values across all incomes. "
   ]
  },
  {
   "cell_type": "markdown",
   "metadata": {},
   "source": [
    "To be absolutely, positively sure, we can also use Ordinary Least Squares and patsy to create another linear model, predicting score from income."
   ]
  },
  {
   "cell_type": "code",
   "execution_count": 17,
   "metadata": {},
   "outputs": [],
   "source": [
    "score = df_final['score']\n",
    "income = df_final['income']\n",
    "outcome_1, predictors_1 = patsy.dmatrices('score ~ income', df_final)\n",
    "mod_1 = sm.OLS(outcome_1, predictors_1)\n",
    "res_1 = mod_1.fit()"
   ]
  },
  {
   "cell_type": "code",
   "execution_count": 18,
   "metadata": {},
   "outputs": [
    {
     "name": "stdout",
     "output_type": "stream",
     "text": [
      "                            OLS Regression Results                            \n",
      "==============================================================================\n",
      "Dep. Variable:                  score   R-squared:                       0.000\n",
      "Model:                            OLS   Adj. R-squared:                 -0.000\n",
      "Method:                 Least Squares   F-statistic:                  0.003944\n",
      "Date:                Sat, 06 Jun 2020   Prob (F-statistic):              0.950\n",
      "Time:                        23:24:36   Log-Likelihood:                -5417.8\n",
      "No. Observations:                2397   AIC:                         1.084e+04\n",
      "Df Residuals:                    2395   BIC:                         1.085e+04\n",
      "Df Model:                           1                                         \n",
      "Covariance Type:            nonrobust                                         \n",
      "==============================================================================\n",
      "                 coef    std err          t      P>|t|      [0.025      0.975]\n",
      "------------------------------------------------------------------------------\n",
      "Intercept     96.3518      0.181    532.928      0.000      95.997      96.706\n",
      "income     -1.617e-07   2.57e-06     -0.063      0.950   -5.21e-06    4.89e-06\n",
      "==============================================================================\n",
      "Omnibus:                      469.066   Durbin-Watson:                   1.734\n",
      "Prob(Omnibus):                  0.000   Jarque-Bera (JB):             1007.563\n",
      "Skew:                          -1.124   Prob(JB):                    1.62e-219\n",
      "Kurtosis:                       5.245   Cond. No.                     2.68e+05\n",
      "==============================================================================\n",
      "\n",
      "Warnings:\n",
      "[1] Standard Errors assume that the covariance matrix of the errors is correctly specified.\n",
      "[2] The condition number is large, 2.68e+05. This might indicate that there are\n",
      "strong multicollinearity or other numerical problems.\n"
     ]
    }
   ],
   "source": [
    "print(res_1.summary())"
   ]
  },
  {
   "cell_type": "markdown",
   "metadata": {},
   "source": [
    "When considering our score, our income appears to not be a good indicator."
   ]
  },
  {
   "cell_type": "markdown",
   "metadata": {},
   "source": [
    "# Ethics & Privacy"
   ]
  },
  {
   "cell_type": "markdown",
   "metadata": {},
   "source": [
    "For my research, I used the given datasets, which contained information on health inspections and restaurants. All of the information is publicly available, either provided by the government or by a third party (such as yelp) that is visible for anyone to see if they wish. Therefore, my project did not require any cleaning or hiding. I did not violate anyone's privacy by using a personal name, income, or any other personal information, and I did not manipulate the data in any way. My data and my analysis were both carried out in a very general manner. \n",
    "\n",
    "I understand that dealing with incomes and income brackets may be a sensitive topic for some. My project in no way had any intention in singling out or slandering any particular zip code or income level, and such information was only used in a purely research-oriented environment. No opinion or bias was given towards any particular data, and all research methods were carried out in compliance with ethical standards and privacy rules. "
   ]
  },
  {
   "cell_type": "markdown",
   "metadata": {},
   "source": [
    "# Conclusion & Discussion"
   ]
  },
  {
   "cell_type": "markdown",
   "metadata": {},
   "source": [
    "My research shows that in the particular urban city of Raleigh, North Carolina and its surrounding suburbs, there appears to be no correlation between the average income of an area and the health inspection ratings its fast food restaurants receive. Any perception of poorer neighborhoods receiving poorer health inspection reviews is false and/or purely coincidental, and not consistent with the data that was gathered and explored. \n",
    "\n",
    "A very possible factor in this regard is brought up in this article*, in which the author explains that restaurants with poor sanitation standards can still receive high scores because of the way the scoring system works. Minor, but gross and unsanitary infractions, can result in a small deduction but may be reflected as something visually unappealing to the customer (ie. a dirty sink or dirty furniture). This can result in a negative perception of a restaurant, which is not reflected in neither its score nor its data used in the research. \n",
    "\n",
    "*https://www.sgvtribune.com/2015/06/25/what-that-restaurant-letter-grade-isnt-telling-you-about-health-and-cleanliness/"
   ]
  },
  {
   "cell_type": "markdown",
   "metadata": {},
   "source": [
    "Then again, there may also be other factors to consider that were not carried out in this research environment. In particular, what about the number of critical infractions compared to the number of minor infractions, with the former weighing much more than the latter? Perhaps a better angle to determine the correlation between income and score would be to take into account those numbers as well and perform a multivariable regression analysis, or even using the description left by the inspector as sentiment, and weighing that along with the scores? And then, what about certain types of cuisines (pizza, burgers, sandwiches) that may tend to score lower or higher that can cause flunctuations in our graph?\n",
    "\n",
    "There are indefinitely many approaches to this specific research question, and my research only touches the surface. The only real conclusion I can draw from my research is that we cannot draw any correlation between the income and the restaurant's score within a given zip code, but perhaps in the future more research can be carried out answering and taking the questions I mentioned above to give a more solid answer."
   ]
  }
 ],
 "metadata": {
  "kernelspec": {
   "display_name": "Python 3",
   "language": "python",
   "name": "python3"
  },
  "language_info": {
   "codemirror_mode": {
    "name": "ipython",
    "version": 3
   },
   "file_extension": ".py",
   "mimetype": "text/x-python",
   "name": "python",
   "nbconvert_exporter": "python",
   "pygments_lexer": "ipython3",
   "version": "3.6.7"
  }
 },
 "nbformat": 4,
 "nbformat_minor": 2
}
