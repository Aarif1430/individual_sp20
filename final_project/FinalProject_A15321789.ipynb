{
 "cells": [
  {
   "cell_type": "markdown",
   "metadata": {},
   "source": [
    "# COGS 108 - Final Project "
   ]
  },
  {
   "cell_type": "markdown",
   "metadata": {},
   "source": [
    "# Overview"
   ]
  },
  {
   "cell_type": "markdown",
   "metadata": {},
   "source": [
    "Looking at the datasets of violations for restaurants, we want to see if there is a correlation between violations and restaurant type (chain vs non-chain). We summed the total number of violations, narrowed down samples to only those that are restaurants, and divided it into chain or non-chain restaurants. Overall, restaurants tend to have about 32 non-critical violations and 5 critical violations. "
   ]
  },
  {
   "cell_type": "markdown",
   "metadata": {},
   "source": [
    "# Name & PID\n",
    "\n",
    "- Name: Andy Dong\n",
    "- PID: A15321789"
   ]
  },
  {
   "cell_type": "markdown",
   "metadata": {},
   "source": [
    "# Research Question"
   ]
  },
  {
   "cell_type": "markdown",
   "metadata": {},
   "source": [
    "Are chain restaraunts performing better than nonchain restaurants in regards to cleaniness(cases of food-borne illness)"
   ]
  },
  {
   "cell_type": "markdown",
   "metadata": {},
   "source": [
    "## Background and Prior Work"
   ]
  },
  {
   "cell_type": "markdown",
   "metadata": {},
   "source": [
    "According to Pei Liu (Source 3), independent restaurants are 1.64 times more likely to receive critical violations compared to chain restaurants. In addition, the public health report (Source 1) states that chain restaurants have fewer total total violations compared to nonchain restaurants at 6.5 to 9.6. Even among chain restaurants, in this case fast-food restaurants, the amount of training received correlates to the number of violations an employee made (Source 2). Source 1 collected restaurant type (chain vs nonchain), inspection frequency, and violation type. Source 2 collected the amount of training received from each restaurant and violation types. Similarly, Source 3 collected restaurant type and type of violation.  \n",
    "\n",
    "References (include links):\n",
    "- 1)https://www.ncbi.nlm.nih.gov/pmc/articles/PMC5349477/ \n",
    "- 2)https://www.tandfonline.com/doi/full/10.1080/15332840802156881 \n",
    "- 3)https://www.tandfonline.com/doi/abs/10.1080/15378020.2016.1206770?scroll=top&needAccess=true&journalCode=wfbr20"
   ]
  },
  {
   "cell_type": "markdown",
   "metadata": {},
   "source": [
    "# Hypothesis\n"
   ]
  },
  {
   "cell_type": "markdown",
   "metadata": {},
   "source": [
    "The cleaniness of a restaurant (food inspection violations & cases of foodborne illness) is related to the amount of training an employee receives in regards to food hygiene. The more time an employer spends on training its staff, the less violations and cases the restaurant will receive. "
   ]
  },
  {
   "cell_type": "markdown",
   "metadata": {},
   "source": [
    "# Dataset(s)"
   ]
  },
  {
   "cell_type": "markdown",
   "metadata": {},
   "source": [
    "*Fill in your dataset information here*\n",
    "- Dataset Name: inspections.csv\n",
    "- Link to the dataset: \n",
    "- Number of observations: 18466\n",
    "\n",
    "Contains the results of inspections of restaurants. The dataset includes number of critical and non-critical violations, date, and name of restaurant. \n",
    "\n",
    "- Dataset Name: restaurants.csv\n",
    "- Link to the dataset:\n",
    "- Number of observations: 3324\n",
    "\n",
    "Contains the restaurants being inspected. Used to narrow down restaurants only.\n",
    "\n",
    "- Dataset Name: violations.csv\n",
    "- Link to the dataset:\n",
    "- Number of observations: 189802\n",
    "\n",
    "Contains the violations that restaurants broke. Used to find the type of violation.\n",
    "\n",
    "- Dataset Name: FastFoodRestaurants.csv\n",
    "- Link to the dataset:\n",
    "- Number of observations: 10000\n",
    "\n",
    "Contains the address and name of Fast Food Restaurants in the US. Used to determine if a restaurant is chain or not."
   ]
  },
  {
   "cell_type": "markdown",
   "metadata": {},
   "source": [
    "# Setup"
   ]
  },
  {
   "cell_type": "code",
   "execution_count": 1,
   "metadata": {},
   "outputs": [],
   "source": [
    "# Imports \n",
    "%matplotlib inline\n",
    "\n",
    "import numpy as np\n",
    "import pandas as pd\n",
    "import matplotlib.pyplot as plt\n",
    "\n",
    "import seaborn as sns\n",
    "sns.set()\n",
    "sns.set_context('talk')\n",
    "\n",
    "import warnings\n",
    "warnings.filterwarnings('ignore')\n",
    "\n",
    "import patsy\n",
    "import statsmodels.api as sm\n",
    "import scipy.stats as stats\n",
    "from scipy.stats import ttest_ind, chisquare, normaltest"
   ]
  },
  {
   "cell_type": "markdown",
   "metadata": {},
   "source": [
    "# Data Cleaning"
   ]
  },
  {
   "cell_type": "markdown",
   "metadata": {},
   "source": [
    "Describe your data cleaning steps here."
   ]
  },
  {
   "cell_type": "code",
   "execution_count": 2,
   "metadata": {},
   "outputs": [
    {
     "data": {
      "text/html": [
       "<div>\n",
       "<style scoped>\n",
       "    .dataframe tbody tr th:only-of-type {\n",
       "        vertical-align: middle;\n",
       "    }\n",
       "\n",
       "    .dataframe tbody tr th {\n",
       "        vertical-align: top;\n",
       "    }\n",
       "\n",
       "    .dataframe thead th {\n",
       "        text-align: right;\n",
       "    }\n",
       "</style>\n",
       "<table border=\"1\" class=\"dataframe\">\n",
       "  <thead>\n",
       "    <tr style=\"text-align: right;\">\n",
       "      <th></th>\n",
       "      <th>hsisid</th>\n",
       "      <th>date</th>\n",
       "      <th>name</th>\n",
       "      <th>address1</th>\n",
       "      <th>city</th>\n",
       "      <th>state</th>\n",
       "      <th>num_non_critical</th>\n",
       "      <th>critical</th>\n",
       "    </tr>\n",
       "  </thead>\n",
       "  <tbody>\n",
       "    <tr>\n",
       "      <th>0</th>\n",
       "      <td>4092013748</td>\n",
       "      <td>2012-09-21</td>\n",
       "      <td>cafe 3000 at wake med</td>\n",
       "      <td>3000 new bern ave</td>\n",
       "      <td>raleigh</td>\n",
       "      <td>NC</td>\n",
       "      <td>7</td>\n",
       "      <td>1</td>\n",
       "    </tr>\n",
       "    <tr>\n",
       "      <th>1</th>\n",
       "      <td>4092014046</td>\n",
       "      <td>2012-09-21</td>\n",
       "      <td>overtime sports pub</td>\n",
       "      <td>1030-149 n rogers ln</td>\n",
       "      <td>raleigh</td>\n",
       "      <td>NC</td>\n",
       "      <td>11</td>\n",
       "      <td>0</td>\n",
       "    </tr>\n",
       "    <tr>\n",
       "      <th>2</th>\n",
       "      <td>4092015191</td>\n",
       "      <td>2012-09-21</td>\n",
       "      <td>taste of china</td>\n",
       "      <td>6209 rock quarry rd</td>\n",
       "      <td>raleigh</td>\n",
       "      <td>NC</td>\n",
       "      <td>8</td>\n",
       "      <td>1</td>\n",
       "    </tr>\n",
       "    <tr>\n",
       "      <th>3</th>\n",
       "      <td>4092016122</td>\n",
       "      <td>2012-09-21</td>\n",
       "      <td>panera bread #1643</td>\n",
       "      <td>1065 darrington dr</td>\n",
       "      <td>cary</td>\n",
       "      <td>NC</td>\n",
       "      <td>3</td>\n",
       "      <td>1</td>\n",
       "    </tr>\n",
       "    <tr>\n",
       "      <th>4</th>\n",
       "      <td>4092021513</td>\n",
       "      <td>2012-09-21</td>\n",
       "      <td>walmart supercenter #4499-00 deli/bakery</td>\n",
       "      <td>841 e gannon ave</td>\n",
       "      <td>zebulon</td>\n",
       "      <td>NC</td>\n",
       "      <td>4</td>\n",
       "      <td>1</td>\n",
       "    </tr>\n",
       "    <tr>\n",
       "      <th>...</th>\n",
       "      <td>...</td>\n",
       "      <td>...</td>\n",
       "      <td>...</td>\n",
       "      <td>...</td>\n",
       "      <td>...</td>\n",
       "      <td>...</td>\n",
       "      <td>...</td>\n",
       "      <td>...</td>\n",
       "    </tr>\n",
       "    <tr>\n",
       "      <th>18461</th>\n",
       "      <td>4092021142</td>\n",
       "      <td>2016-11-03</td>\n",
       "      <td>sino wok</td>\n",
       "      <td>5959-1108 triangle town blv</td>\n",
       "      <td>raleigh</td>\n",
       "      <td>NC</td>\n",
       "      <td>13</td>\n",
       "      <td>1</td>\n",
       "    </tr>\n",
       "    <tr>\n",
       "      <th>18462</th>\n",
       "      <td>4092110100</td>\n",
       "      <td>2016-11-03</td>\n",
       "      <td>weatherstone elem. sch. cafeteria</td>\n",
       "      <td>1000 olde weatherstone way</td>\n",
       "      <td>cary</td>\n",
       "      <td>NC</td>\n",
       "      <td>3</td>\n",
       "      <td>1</td>\n",
       "    </tr>\n",
       "    <tr>\n",
       "      <th>18463</th>\n",
       "      <td>4092110487</td>\n",
       "      <td>2016-11-03</td>\n",
       "      <td>alston ridge elementary school cafeteria</td>\n",
       "      <td>11555 green level church  rd</td>\n",
       "      <td>cary</td>\n",
       "      <td>NC</td>\n",
       "      <td>4</td>\n",
       "      <td>1</td>\n",
       "    </tr>\n",
       "    <tr>\n",
       "      <th>18464</th>\n",
       "      <td>4092300177</td>\n",
       "      <td>2016-11-03</td>\n",
       "      <td>food lion #996 meat market</td>\n",
       "      <td>7971 fayetteville rd</td>\n",
       "      <td>raleigh</td>\n",
       "      <td>NC</td>\n",
       "      <td>2</td>\n",
       "      <td>1</td>\n",
       "    </tr>\n",
       "    <tr>\n",
       "      <th>18465</th>\n",
       "      <td>4092300225</td>\n",
       "      <td>2016-11-03</td>\n",
       "      <td>la campana market</td>\n",
       "      <td>1701 n arendell ave</td>\n",
       "      <td>zebulon</td>\n",
       "      <td>NC</td>\n",
       "      <td>7</td>\n",
       "      <td>1</td>\n",
       "    </tr>\n",
       "  </tbody>\n",
       "</table>\n",
       "<p>18466 rows × 8 columns</p>\n",
       "</div>"
      ],
      "text/plain": [
       "           hsisid        date                                      name  \\\n",
       "0      4092013748  2012-09-21                     cafe 3000 at wake med   \n",
       "1      4092014046  2012-09-21                       overtime sports pub   \n",
       "2      4092015191  2012-09-21                            taste of china   \n",
       "3      4092016122  2012-09-21                        panera bread #1643   \n",
       "4      4092021513  2012-09-21  walmart supercenter #4499-00 deli/bakery   \n",
       "...           ...         ...                                       ...   \n",
       "18461  4092021142  2016-11-03                                  sino wok   \n",
       "18462  4092110100  2016-11-03         weatherstone elem. sch. cafeteria   \n",
       "18463  4092110487  2016-11-03  alston ridge elementary school cafeteria   \n",
       "18464  4092300177  2016-11-03                food lion #996 meat market   \n",
       "18465  4092300225  2016-11-03                         la campana market   \n",
       "\n",
       "                           address1     city state  num_non_critical  critical  \n",
       "0                 3000 new bern ave  raleigh    NC                 7         1  \n",
       "1              1030-149 n rogers ln  raleigh    NC                11         0  \n",
       "2               6209 rock quarry rd  raleigh    NC                 8         1  \n",
       "3                1065 darrington dr     cary    NC                 3         1  \n",
       "4                  841 e gannon ave  zebulon    NC                 4         1  \n",
       "...                             ...      ...   ...               ...       ...  \n",
       "18461   5959-1108 triangle town blv  raleigh    NC                13         1  \n",
       "18462    1000 olde weatherstone way     cary    NC                 3         1  \n",
       "18463  11555 green level church  rd     cary    NC                 4         1  \n",
       "18464          7971 fayetteville rd  raleigh    NC                 2         1  \n",
       "18465           1701 n arendell ave  zebulon    NC                 7         1  \n",
       "\n",
       "[18466 rows x 8 columns]"
      ]
     },
     "execution_count": 2,
     "metadata": {},
     "output_type": "execute_result"
    }
   ],
   "source": [
    "## Clean Up for Inspection\n",
    "inspections = pd.read_csv('./data/inspections.csv')\n",
    "inspections = inspections[['hsisid', 'date', 'name', 'address1', 'city', 'state', 'num_non_critical', 'critical']]\n",
    "\n",
    "# Find any empty rows (none)\n",
    "inspections.isnull().any(axis=1)\n",
    "empty_row = inspections[inspections.isnull().any(axis=1)]\n",
    "\n",
    "# Lower case the name and address\n",
    "def lower_string(string):\n",
    "    string = string.lower()\n",
    "    return string\n",
    "\n",
    "def normal_date(string):\n",
    "    string = string[:10]\n",
    "    return string\n",
    "\n",
    "inspections['name'] = inspections['name'].apply(lower_string)\n",
    "inspections['address1'] = inspections['address1'].apply(lower_string)\n",
    "inspections['date'] = inspections['date'].apply(normal_date)\n",
    "inspections['city'] = inspections['city'].apply(lower_string)"
   ]
  },
  {
   "cell_type": "code",
   "execution_count": 18,
   "metadata": {},
   "outputs": [],
   "source": [
    "## Sum the violations for each unique id\n",
    "unique = inspections['hsisid'].unique()\n",
    "non_critical = [0] * len(unique)\n",
    "critical = [0] * len(unique)\n",
    "name = [0] * len(unique)\n",
    "address = [0] * len(unique)\n",
    "\n",
    "count = 0\n",
    "count1 = 0\n",
    "for i in unique:\n",
    "    count1 = 0\n",
    "    for j in sum_violations['hsisid']:\n",
    "        if( i == j ):\n",
    "            non_critical[count] += inspections['num_non_critical'][count1]\n",
    "            critical[count] += inspections['critical'][count1]\n",
    "            name[count] = inspections['name'][count1]\n",
    "            address[count] = inspections['address1'][count1]\n",
    "        count1 += 1\n",
    "    count += 1"
   ]
  },
  {
   "cell_type": "code",
   "execution_count": 20,
   "metadata": {},
   "outputs": [
    {
     "data": {
      "text/html": [
       "<div>\n",
       "<style scoped>\n",
       "    .dataframe tbody tr th:only-of-type {\n",
       "        vertical-align: middle;\n",
       "    }\n",
       "\n",
       "    .dataframe tbody tr th {\n",
       "        vertical-align: top;\n",
       "    }\n",
       "\n",
       "    .dataframe thead th {\n",
       "        text-align: right;\n",
       "    }\n",
       "</style>\n",
       "<table border=\"1\" class=\"dataframe\">\n",
       "  <thead>\n",
       "    <tr style=\"text-align: right;\">\n",
       "      <th></th>\n",
       "      <th>hsisid</th>\n",
       "      <th>name</th>\n",
       "      <th>address</th>\n",
       "      <th>non_critical</th>\n",
       "      <th>critical</th>\n",
       "    </tr>\n",
       "  </thead>\n",
       "  <tbody>\n",
       "    <tr>\n",
       "      <th>0</th>\n",
       "      <td>4092013748</td>\n",
       "      <td>cafe 3000 at wake med</td>\n",
       "      <td>3000 new bern ave</td>\n",
       "      <td>60</td>\n",
       "      <td>9</td>\n",
       "    </tr>\n",
       "    <tr>\n",
       "      <th>1</th>\n",
       "      <td>4092014046</td>\n",
       "      <td>overtime sports pub</td>\n",
       "      <td>1030-149 n rogers ln</td>\n",
       "      <td>52</td>\n",
       "      <td>6</td>\n",
       "    </tr>\n",
       "    <tr>\n",
       "      <th>2</th>\n",
       "      <td>4092015191</td>\n",
       "      <td>taste of china</td>\n",
       "      <td>6209 rock quarry rd</td>\n",
       "      <td>44</td>\n",
       "      <td>7</td>\n",
       "    </tr>\n",
       "    <tr>\n",
       "      <th>3</th>\n",
       "      <td>4092016122</td>\n",
       "      <td>panera bread #1643</td>\n",
       "      <td>1065 darrington dr</td>\n",
       "      <td>57</td>\n",
       "      <td>6</td>\n",
       "    </tr>\n",
       "    <tr>\n",
       "      <th>4</th>\n",
       "      <td>4092021513</td>\n",
       "      <td>walmart supercenter #4499-00 deli/bakery</td>\n",
       "      <td>841 e gannon ave</td>\n",
       "      <td>31</td>\n",
       "      <td>9</td>\n",
       "    </tr>\n",
       "    <tr>\n",
       "      <th>...</th>\n",
       "      <td>...</td>\n",
       "      <td>...</td>\n",
       "      <td>...</td>\n",
       "      <td>...</td>\n",
       "      <td>...</td>\n",
       "    </tr>\n",
       "    <tr>\n",
       "      <th>3040</th>\n",
       "      <td>4092017300</td>\n",
       "      <td>wendy's #6324</td>\n",
       "      <td>4023 davis dr</td>\n",
       "      <td>1</td>\n",
       "      <td>1</td>\n",
       "    </tr>\n",
       "    <tr>\n",
       "      <th>3041</th>\n",
       "      <td>4092017343</td>\n",
       "      <td>sleep inn foodservice</td>\n",
       "      <td>12401 wake union church rd</td>\n",
       "      <td>3</td>\n",
       "      <td>1</td>\n",
       "    </tr>\n",
       "    <tr>\n",
       "      <th>3042</th>\n",
       "      <td>4092017285</td>\n",
       "      <td>szechuan garden morrisville</td>\n",
       "      <td>10285 chapel hill  rd</td>\n",
       "      <td>4</td>\n",
       "      <td>1</td>\n",
       "    </tr>\n",
       "    <tr>\n",
       "      <th>3043</th>\n",
       "      <td>4092021984</td>\n",
       "      <td>speedy burritos</td>\n",
       "      <td>5959-1100 triangle town blvd</td>\n",
       "      <td>12</td>\n",
       "      <td>1</td>\n",
       "    </tr>\n",
       "    <tr>\n",
       "      <th>3044</th>\n",
       "      <td>4092017278</td>\n",
       "      <td>wendys 6301</td>\n",
       "      <td>790 w williams st</td>\n",
       "      <td>2</td>\n",
       "      <td>1</td>\n",
       "    </tr>\n",
       "  </tbody>\n",
       "</table>\n",
       "<p>3045 rows × 5 columns</p>\n",
       "</div>"
      ],
      "text/plain": [
       "          hsisid                                      name  \\\n",
       "0     4092013748                     cafe 3000 at wake med   \n",
       "1     4092014046                       overtime sports pub   \n",
       "2     4092015191                            taste of china   \n",
       "3     4092016122                        panera bread #1643   \n",
       "4     4092021513  walmart supercenter #4499-00 deli/bakery   \n",
       "...          ...                                       ...   \n",
       "3040  4092017300                             wendy's #6324   \n",
       "3041  4092017343                     sleep inn foodservice   \n",
       "3042  4092017285               szechuan garden morrisville   \n",
       "3043  4092021984                           speedy burritos   \n",
       "3044  4092017278                               wendys 6301   \n",
       "\n",
       "                           address  non_critical  critical  \n",
       "0                3000 new bern ave            60         9  \n",
       "1             1030-149 n rogers ln            52         6  \n",
       "2              6209 rock quarry rd            44         7  \n",
       "3               1065 darrington dr            57         6  \n",
       "4                 841 e gannon ave            31         9  \n",
       "...                            ...           ...       ...  \n",
       "3040                 4023 davis dr             1         1  \n",
       "3041    12401 wake union church rd             3         1  \n",
       "3042         10285 chapel hill  rd             4         1  \n",
       "3043  5959-1100 triangle town blvd            12         1  \n",
       "3044             790 w williams st             2         1  \n",
       "\n",
       "[3045 rows x 5 columns]"
      ]
     },
     "execution_count": 20,
     "metadata": {},
     "output_type": "execute_result"
    }
   ],
   "source": [
    "# Compiled dataset we are going to use\n",
    "data = { 'hsisid': unique, 'name': name, 'address': address, 'non_critical': non_critical, 'critical': critical }\n",
    "df = pd.DataFrame(data, columns = ['hsisid','name', 'address', 'non_critical', 'critical'])"
   ]
  },
  {
   "cell_type": "code",
   "execution_count": 152,
   "metadata": {},
   "outputs": [
    {
     "name": "stdout",
     "output_type": "stream",
     "text": [
      "0\n"
     ]
    }
   ],
   "source": [
    "## Clean up for Restaurants \n",
    "restaurants = pd.read_csv('./data/restaurants.csv')\n",
    "\n",
    "restaurants = restaurants[['hsisid', 'name','address1', 'city', 'state', 'facilitytype']]\n",
    "restaurants['name'] = restaurants['name'].apply(lower_string)\n",
    "restaurants['address1'] = restaurants['address1'].apply(lower_string)\n",
    "restaurants['city'] = restaurants['city'].apply(lower_string)\n",
    "restaurants['facilitytype'] = restaurants['facilitytype'].apply(lower_string)\n",
    "\n",
    "# Get only restaurants\n",
    "restaurants = restaurants[ restaurants['facilitytype'] == 'restaurant']\n",
    "restaurants = restaurants.reset_index()\n",
    "# Find any empty rows (none)\n",
    "print( sum(restaurants.isnull().any(axis=1)) )"
   ]
  },
  {
   "cell_type": "code",
   "execution_count": 153,
   "metadata": {},
   "outputs": [],
   "source": [
    "# Removing non-restaurants from our dataset based on data from restaurants.csv\n",
    "temp = []\n",
    "for i in restaurants['name']:\n",
    "    temp.append( df[i == df['name']] )"
   ]
  },
  {
   "cell_type": "code",
   "execution_count": 154,
   "metadata": {},
   "outputs": [],
   "source": [
    "# For each restaurant, match id in dataset. \n",
    "# If there is not id match in dataset, remove from dataset\n",
    "hsisid = [0] * len(temp)\n",
    "non_critical = [0] * len(temp)\n",
    "critical = [0] * len(temp)\n",
    "name = [0] * len(temp)\n",
    "address = [0] * len(temp)\n",
    "\n",
    "for i in range(0, len(restaurants['hsisid'])):\n",
    "    for j in range(0, len(df['hsisid'])):\n",
    "        if ( restaurants['hsisid'][i] == df['hsisid'][j] ):\n",
    "            hsisid[i] = df['hsisid'][j]\n",
    "            non_critical[i] = df['non_critical'][j]\n",
    "            critical[i] = df['critical'][j]\n",
    "            name[i] = df['name'][j]\n",
    "            address[i] = df['address'][j]\n",
    "\n",
    "            "
   ]
  },
  {
   "cell_type": "code",
   "execution_count": 159,
   "metadata": {},
   "outputs": [
    {
     "data": {
      "text/plain": [
       "2229"
      ]
     },
     "execution_count": 159,
     "metadata": {},
     "output_type": "execute_result"
    }
   ],
   "source": [
    "data1 = { 'hsisid': hsisid, 'name': name, 'address': address, 'non_critical': non_critical, 'critical': critical }\n",
    "df = pd.DataFrame(data1, columns = ['hsisid','name', 'address', 'non_critical', 'critical'])\n",
    "len(df)"
   ]
  },
  {
   "cell_type": "code",
   "execution_count": 145,
   "metadata": {},
   "outputs": [
    {
     "data": {
      "text/plain": [
       "4270"
      ]
     },
     "execution_count": 145,
     "metadata": {},
     "output_type": "execute_result"
    }
   ],
   "source": [
    "## Clean up for Violations\n",
    "violations = pd.read_csv('./data/violations.csv')\n",
    "violations = violations[['hsisid', 'category', 'critical', 'severity', 'shortdesc', 'violationtype']]\n",
    "len(violations['hsisid'].unique())"
   ]
  },
  {
   "cell_type": "code",
   "execution_count": 185,
   "metadata": {},
   "outputs": [
    {
     "data": {
      "text/html": [
       "<div>\n",
       "<style scoped>\n",
       "    .dataframe tbody tr th:only-of-type {\n",
       "        vertical-align: middle;\n",
       "    }\n",
       "\n",
       "    .dataframe tbody tr th {\n",
       "        vertical-align: top;\n",
       "    }\n",
       "\n",
       "    .dataframe thead th {\n",
       "        text-align: right;\n",
       "    }\n",
       "</style>\n",
       "<table border=\"1\" class=\"dataframe\">\n",
       "  <thead>\n",
       "    <tr style=\"text-align: right;\">\n",
       "      <th></th>\n",
       "      <th>address</th>\n",
       "      <th>name</th>\n",
       "    </tr>\n",
       "  </thead>\n",
       "  <tbody>\n",
       "    <tr>\n",
       "      <th>0</th>\n",
       "      <td>324 main st</td>\n",
       "      <td>mcdonald's</td>\n",
       "    </tr>\n",
       "    <tr>\n",
       "      <th>1</th>\n",
       "      <td>530 clinton ave</td>\n",
       "      <td>wendy's</td>\n",
       "    </tr>\n",
       "    <tr>\n",
       "      <th>2</th>\n",
       "      <td>408 market square dr</td>\n",
       "      <td>frisch's big boy</td>\n",
       "    </tr>\n",
       "    <tr>\n",
       "      <th>3</th>\n",
       "      <td>6098 state highway 37</td>\n",
       "      <td>mcdonald's</td>\n",
       "    </tr>\n",
       "    <tr>\n",
       "      <th>4</th>\n",
       "      <td>139 columbus rd</td>\n",
       "      <td>omg! rotisserie</td>\n",
       "    </tr>\n",
       "    <tr>\n",
       "      <th>5</th>\n",
       "      <td>4182 tonya trl</td>\n",
       "      <td>domino's pizza</td>\n",
       "    </tr>\n",
       "    <tr>\n",
       "      <th>6</th>\n",
       "      <td>590 s main st</td>\n",
       "      <td>domino's pizza</td>\n",
       "    </tr>\n",
       "    <tr>\n",
       "      <th>7</th>\n",
       "      <td>401 n jennings st</td>\n",
       "      <td>mcdonald's</td>\n",
       "    </tr>\n",
       "    <tr>\n",
       "      <th>8</th>\n",
       "      <td>205 w church st</td>\n",
       "      <td>wendy's</td>\n",
       "    </tr>\n",
       "    <tr>\n",
       "      <th>9</th>\n",
       "      <td>2711 w. kings highway ste. 18</td>\n",
       "      <td>pizza hut</td>\n",
       "    </tr>\n",
       "    <tr>\n",
       "      <th>10</th>\n",
       "      <td>613 w center st</td>\n",
       "      <td>sonic drive in</td>\n",
       "    </tr>\n",
       "    <tr>\n",
       "      <th>11</th>\n",
       "      <td>512 highway 425 s lot b</td>\n",
       "      <td>domino's pizza</td>\n",
       "    </tr>\n",
       "    <tr>\n",
       "      <th>12</th>\n",
       "      <td>1535 nw 50th st</td>\n",
       "      <td>mcdonald's</td>\n",
       "    </tr>\n",
       "    <tr>\n",
       "      <th>13</th>\n",
       "      <td>125 towne center dr</td>\n",
       "      <td>domino's pizza</td>\n",
       "    </tr>\n",
       "    <tr>\n",
       "      <th>14</th>\n",
       "      <td>66 14th st.</td>\n",
       "      <td>long john silver's</td>\n",
       "    </tr>\n",
       "    <tr>\n",
       "      <th>15</th>\n",
       "      <td>301 university blvd</td>\n",
       "      <td>mcdonald's</td>\n",
       "    </tr>\n",
       "    <tr>\n",
       "      <th>16</th>\n",
       "      <td>5812 nw expressway</td>\n",
       "      <td>mcdonald's</td>\n",
       "    </tr>\n",
       "    <tr>\n",
       "      <th>17</th>\n",
       "      <td>101 thomas garst ln</td>\n",
       "      <td>taco bell</td>\n",
       "    </tr>\n",
       "    <tr>\n",
       "      <th>18</th>\n",
       "      <td>1111 new pointe blvd</td>\n",
       "      <td>mcdonald's</td>\n",
       "    </tr>\n",
       "    <tr>\n",
       "      <th>19</th>\n",
       "      <td>782 old hickory blvd ste 120</td>\n",
       "      <td>qdoba mexican grill</td>\n",
       "    </tr>\n",
       "  </tbody>\n",
       "</table>\n",
       "</div>"
      ],
      "text/plain": [
       "                          address                 name\n",
       "0                     324 main st           mcdonald's\n",
       "1                 530 clinton ave              wendy's\n",
       "2            408 market square dr     frisch's big boy\n",
       "3           6098 state highway 37           mcdonald's\n",
       "4                 139 columbus rd      omg! rotisserie\n",
       "5                  4182 tonya trl       domino's pizza\n",
       "6                   590 s main st       domino's pizza\n",
       "7               401 n jennings st           mcdonald's\n",
       "8                 205 w church st              wendy's\n",
       "9   2711 w. kings highway ste. 18            pizza hut\n",
       "10                613 w center st       sonic drive in\n",
       "11        512 highway 425 s lot b       domino's pizza\n",
       "12                1535 nw 50th st           mcdonald's\n",
       "13            125 towne center dr       domino's pizza\n",
       "14                    66 14th st.   long john silver's\n",
       "15            301 university blvd           mcdonald's\n",
       "16             5812 nw expressway           mcdonald's\n",
       "17            101 thomas garst ln            taco bell\n",
       "18           1111 new pointe blvd           mcdonald's\n",
       "19   782 old hickory blvd ste 120  qdoba mexican grill"
      ]
     },
     "execution_count": 185,
     "metadata": {},
     "output_type": "execute_result"
    }
   ],
   "source": [
    "## Clean up for Fast Food Restaurants\n",
    "ff = pd.read_csv('./data/FastFoodRestaurants.csv')\n",
    "ff = ff[['address', 'name']]\n",
    "ff['address'] = ff['address'].apply(lower_string)\n",
    "ff['name'] = ff['name'].apply(lower_string)\n",
    "ff.head(20)"
   ]
  },
  {
   "cell_type": "code",
   "execution_count": 186,
   "metadata": {},
   "outputs": [],
   "source": [
    "# If address is in FFR, then it is a chain\n",
    "chain = [0] * len(df)\n",
    "for i in range(0, len(df['name'])):\n",
    "    for j in range(0, len(ff['name'])):\n",
    "        if( df['address'][i] == ff['address'][j] ):\n",
    "            chain[i] = 1"
   ]
  },
  {
   "cell_type": "code",
   "execution_count": 199,
   "metadata": {},
   "outputs": [],
   "source": [
    "df['chain'] = chain"
   ]
  },
  {
   "cell_type": "markdown",
   "metadata": {},
   "source": [
    "From the 4 datasets, we gathered the id, name, address, non_critical violation, critical violation, violation type, and restaurant type. Next, we can analyze this data to see what it tells us about the difference in chain vs non-chain restaurants."
   ]
  },
  {
   "cell_type": "markdown",
   "metadata": {},
   "source": [
    "# Data Analysis & Results"
   ]
  },
  {
   "cell_type": "markdown",
   "metadata": {},
   "source": [
    "Include cells that describe the steps in your data analysis."
   ]
  },
  {
   "cell_type": "code",
   "execution_count": 200,
   "metadata": {},
   "outputs": [
    {
     "data": {
      "image/png": "[encoded data removed]",
      "text/plain": [
       "<Figure size 432x288 with 16 Axes>"
      ]
     },
     "metadata": {
      "needs_background": "light"
     },
     "output_type": "display_data"
    }
   ],
   "source": [
    "## YOUR CODE HERE\n",
    "fig = pd.plotting.scatter_matrix(df)"
   ]
  },
  {
   "cell_type": "code",
   "execution_count": 203,
   "metadata": {},
   "outputs": [
    {
     "data": {
      "text/plain": [
       "<matplotlib.axes._subplots.AxesSubplot at 0x27a694daeb8>"
      ]
     },
     "execution_count": 203,
     "metadata": {},
     "output_type": "execute_result"
    },
    {
     "data": {
      "image/png": "[encoded data removed]",
      "text/plain": [
       "<Figure size 432x288 with 1 Axes>"
      ]
     },
     "metadata": {
      "needs_background": "light"
     },
     "output_type": "display_data"
    }
   ],
   "source": [
    "counts = df['critical'].value_counts()\n",
    "counts.plot(kind='bar')"
   ]
  },
  {
   "cell_type": "code",
   "execution_count": 216,
   "metadata": {},
   "outputs": [],
   "source": [
    "non_critical_avg = df['non_critical'].values\n",
    "critical_avg = df['critical'].values\n",
    "\n",
    "(st_non, p_non) = normaltest(non_critical_avg)\n",
    "(st_crit, p_crit) = normaltest(critical_avg)\n",
    "\n",
    "is_n_non = bool(p_non < 0.01)\n",
    "is_n_crit = bool(p_crit < 0.01)"
   ]
  },
  {
   "cell_type": "code",
   "execution_count": 215,
   "metadata": {},
   "outputs": [
    {
     "data": {
      "image/png": "[encoded data removed]",
      "text/plain": [
       "<Figure size 432x288 with 1 Axes>"
      ]
     },
     "metadata": {
      "needs_background": "light"
     },
     "output_type": "display_data"
    }
   ],
   "source": [
    "xs = np.arange(critical_avg.min(), critical_avg.max(), 0.1)\n",
    "fit = stats.norm.pdf(xs, np.mean(critical_avg), np.std(critical_avg))\n",
    "# most easily done using matplotlib\n",
    "plt.plot(xs, fit, label = 'Normal Dist.', lw = 4)\n",
    "plt.hist(critical_avg, density = True, label = 'Actual Data');\n",
    "plt.legend();"
   ]
  },
  {
   "cell_type": "code",
   "execution_count": 217,
   "metadata": {},
   "outputs": [
    {
     "data": {
      "image/png": "[encoded data removed]",
      "text/plain": [
       "<Figure size 432x288 with 1 Axes>"
      ]
     },
     "metadata": {
      "needs_background": "light"
     },
     "output_type": "display_data"
    }
   ],
   "source": [
    "xs = np.arange(non_critical_avg.min(), non_critical_avg.max(), 0.1)\n",
    "fit = stats.norm.pdf(xs, np.mean(non_critical_avg), np.std(non_critical_avg))\n",
    "# most easily done using matplotlib\n",
    "plt.plot(xs, fit, label = 'Normal Dist.', lw = 4)\n",
    "plt.hist(non_critical_avg, density = True, label = 'Actual Data');\n",
    "plt.legend();"
   ]
  },
  {
   "cell_type": "code",
   "execution_count": 213,
   "metadata": {},
   "outputs": [
    {
     "data": {
      "text/plain": [
       "(31.79452669358457, 4.641094661283087)"
      ]
     },
     "execution_count": 213,
     "metadata": {},
     "output_type": "execute_result"
    }
   ],
   "source": [
    "## Total averages for all types of restaurants\n",
    "sum(non_critical_avg)/len(non_critical_avg), sum(critical_avg)/len(critical_avg)"
   ]
  },
  {
   "cell_type": "code",
   "execution_count": 230,
   "metadata": {},
   "outputs": [],
   "source": [
    "chain_non_crit = [0]\n",
    "non_chain_non_crit = [0]\n",
    "\n",
    "chain_crit = [0]\n",
    "non_chain_crit = [0]\n",
    "\n",
    "for i in df['non_critical']:\n",
    "    if df['chain'][i] == 1:\n",
    "        chain_non_crit.append(df['non_critical'][i])\n",
    "    else:\n",
    "        non_chain_non_crit.append(df['non_critical'][i])\n",
    "        \n",
    "for i in df['critical']:\n",
    "    if df['chain'][i] == 1:\n",
    "        chain_crit.append(df['critical'][i])\n",
    "    else:\n",
    "        non_chain_crit.append(df['critical'][i])"
   ]
  },
  {
   "cell_type": "code",
   "execution_count": 234,
   "metadata": {},
   "outputs": [
    {
     "ename": "ValueError",
     "evalue": "No axis named 1 for object type <class 'pandas.core.series.Series'>",
     "output_type": "error",
     "traceback": [
      "\u001b[1;31m---------------------------------------------------------------------------\u001b[0m",
      "\u001b[1;31mValueError\u001b[0m                                Traceback (most recent call last)",
      "\u001b[1;32m<ipython-input-234-5efb7a77ab7f>\u001b[0m in \u001b[0;36m<module>\u001b[1;34m\u001b[0m\n\u001b[1;32m----> 1\u001b[1;33m \u001b[0mdf\u001b[0m\u001b[1;33m[\u001b[0m\u001b[1;34m'chain'\u001b[0m\u001b[1;33m]\u001b[0m\u001b[1;33m.\u001b[0m\u001b[0mloc\u001b[0m\u001b[1;33m(\u001b[0m\u001b[1;36m1\u001b[0m\u001b[1;33m)\u001b[0m\u001b[1;33m\u001b[0m\u001b[1;33m\u001b[0m\u001b[0m\n\u001b[0m",
      "\u001b[1;32m~\\Miniconda3\\lib\\site-packages\\pandas\\core\\indexing.py\u001b[0m in \u001b[0;36m__call__\u001b[1;34m(self, axis)\u001b[0m\n\u001b[0;32m    576\u001b[0m \u001b[1;33m\u001b[0m\u001b[0m\n\u001b[0;32m    577\u001b[0m         \u001b[1;32mif\u001b[0m \u001b[0maxis\u001b[0m \u001b[1;32mis\u001b[0m \u001b[1;32mnot\u001b[0m \u001b[1;32mNone\u001b[0m\u001b[1;33m:\u001b[0m\u001b[1;33m\u001b[0m\u001b[1;33m\u001b[0m\u001b[0m\n\u001b[1;32m--> 578\u001b[1;33m             \u001b[0maxis\u001b[0m \u001b[1;33m=\u001b[0m \u001b[0mself\u001b[0m\u001b[1;33m.\u001b[0m\u001b[0mobj\u001b[0m\u001b[1;33m.\u001b[0m\u001b[0m_get_axis_number\u001b[0m\u001b[1;33m(\u001b[0m\u001b[0maxis\u001b[0m\u001b[1;33m)\u001b[0m\u001b[1;33m\u001b[0m\u001b[1;33m\u001b[0m\u001b[0m\n\u001b[0m\u001b[0;32m    579\u001b[0m         \u001b[0mnew_self\u001b[0m\u001b[1;33m.\u001b[0m\u001b[0maxis\u001b[0m \u001b[1;33m=\u001b[0m \u001b[0maxis\u001b[0m\u001b[1;33m\u001b[0m\u001b[1;33m\u001b[0m\u001b[0m\n\u001b[0;32m    580\u001b[0m         \u001b[1;32mreturn\u001b[0m \u001b[0mnew_self\u001b[0m\u001b[1;33m\u001b[0m\u001b[1;33m\u001b[0m\u001b[0m\n",
      "\u001b[1;32m~\\Miniconda3\\lib\\site-packages\\pandas\\core\\generic.py\u001b[0m in \u001b[0;36m_get_axis_number\u001b[1;34m(cls, axis)\u001b[0m\n\u001b[0;32m    405\u001b[0m             \u001b[1;32mexcept\u001b[0m \u001b[0mKeyError\u001b[0m\u001b[1;33m:\u001b[0m\u001b[1;33m\u001b[0m\u001b[1;33m\u001b[0m\u001b[0m\n\u001b[0;32m    406\u001b[0m                 \u001b[1;32mpass\u001b[0m\u001b[1;33m\u001b[0m\u001b[1;33m\u001b[0m\u001b[0m\n\u001b[1;32m--> 407\u001b[1;33m         \u001b[1;32mraise\u001b[0m \u001b[0mValueError\u001b[0m\u001b[1;33m(\u001b[0m\u001b[1;34mf\"No axis named {axis} for object type {cls}\"\u001b[0m\u001b[1;33m)\u001b[0m\u001b[1;33m\u001b[0m\u001b[1;33m\u001b[0m\u001b[0m\n\u001b[0m\u001b[0;32m    408\u001b[0m \u001b[1;33m\u001b[0m\u001b[0m\n\u001b[0;32m    409\u001b[0m     \u001b[1;33m@\u001b[0m\u001b[0mclassmethod\u001b[0m\u001b[1;33m\u001b[0m\u001b[1;33m\u001b[0m\u001b[0m\n",
      "\u001b[1;31mValueError\u001b[0m: No axis named 1 for object type <class 'pandas.core.series.Series'>"
     ]
    }
   ],
   "source": []
  },
  {
   "cell_type": "markdown",
   "metadata": {},
   "source": [
    "# Ethics & Privacy"
   ]
  },
  {
   "cell_type": "markdown",
   "metadata": {},
   "source": [
    "We need to anonymize the name of restaurants that we used to not single out a specific restaurant. "
   ]
  },
  {
   "cell_type": "markdown",
   "metadata": {},
   "source": [
    "# Conclusion & Discussion"
   ]
  },
  {
   "cell_type": "markdown",
   "metadata": {},
   "source": [
    "Overall, restaurants tend to have about 32 non-critical violations and 5 critical violations. "
   ]
  }
 ],
 "metadata": {
  "celltoolbar": "Raw Cell Format",
  "kernelspec": {
   "display_name": "Python 3",
   "language": "python",
   "name": "python3"
  },
  "language_info": {
   "codemirror_mode": {
    "name": "ipython",
    "version": 3
   },
   "file_extension": ".py",
   "mimetype": "text/x-python",
   "name": "python",
   "nbconvert_exporter": "python",
   "pygments_lexer": "ipython3",
   "version": "3.6.7"
  }
 },
 "nbformat": 4,
 "nbformat_minor": 2
}
