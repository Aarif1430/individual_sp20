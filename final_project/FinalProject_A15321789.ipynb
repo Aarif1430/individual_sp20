{
 "cells": [
  {
   "cell_type": "markdown",
   "metadata": {},
   "source": [
    "# COGS 108 - Final Project "
   ]
  },
  {
   "cell_type": "markdown",
   "metadata": {},
   "source": [
    "# Overview"
   ]
  },
  {
   "cell_type": "markdown",
   "metadata": {},
   "source": [
    "Looking at the datasets of violations for restaurants, we want to see if there is a correlation between violations and restaurant type (chain vs non-chain). "
   ]
  },
  {
   "cell_type": "markdown",
   "metadata": {},
   "source": [
    "# Name & PID\n",
    "\n",
    "- Name: Andy Dong\n",
    "- PID: A15321789"
   ]
  },
  {
   "cell_type": "markdown",
   "metadata": {},
   "source": [
    "# Research Question"
   ]
  },
  {
   "cell_type": "markdown",
   "metadata": {},
   "source": [
    "Are chain restaraunts performing better than nonchain restaurants in regards to cleaniness(cases of food-borne illness)"
   ]
  },
  {
   "cell_type": "markdown",
   "metadata": {},
   "source": [
    "## Background and Prior Work"
   ]
  },
  {
   "cell_type": "markdown",
   "metadata": {},
   "source": [
    "According to Pei Liu (Source 3), independent restaurants are 1.64 times more likely to receive critical violations compared to chain restaurants. In addition, the public health report (Source 1) states that chain restaurants have fewer total total violations compared to nonchain restaurants at 6.5 to 9.6. Even among chain restaurants, in this case fast-food restaurants, the amount of training received correlates to the number of violations an employee made (Source 2). Source 1 collected restaurant type (chain vs nonchain), inspection frequency, and violation type. Source 2 collected the amount of training received from each restaurant and violation types. Similarly, Source 3 collected restaurant type and type of violation.  \n",
    "\n",
    "References (include links):\n",
    "- 1)https://www.ncbi.nlm.nih.gov/pmc/articles/PMC5349477/ \n",
    "- 2)https://www.tandfonline.com/doi/full/10.1080/15332840802156881 \n",
    "- 3)https://www.tandfonline.com/doi/abs/10.1080/15378020.2016.1206770?scroll=top&needAccess=true&journalCode=wfbr20"
   ]
  },
  {
   "cell_type": "markdown",
   "metadata": {},
   "source": [
    "# Hypothesis\n"
   ]
  },
  {
   "cell_type": "markdown",
   "metadata": {},
   "source": [
    "The cleaniness of a restaurant (food inspection violations & cases of foodborne illness) is related to the amount of training an employee receives in regards to food hygiene. The more time an employer spends on training its staff, the less violations and cases the restaurant will receive. "
   ]
  },
  {
   "cell_type": "markdown",
   "metadata": {},
   "source": [
    "# Dataset(s)"
   ]
  },
  {
   "cell_type": "markdown",
   "metadata": {},
   "source": [
    "*Fill in your dataset information here*\n",
    "- Dataset Name: inspections.csv\n",
    "- Link to the dataset: \n",
    "- Number of observations: 18466\n",
    "\n",
    "Contains the results of inspections of restaurants. The dataset includes number of critical and non-critical violations, date, and name of restaurant. \n",
    "\n",
    "- Dataset Name: restaurants.csv\n",
    "- Link to the dataset:\n",
    "- Number of observations: 3324\n",
    "\n",
    "Contains the restaurants being inspected. Used to narrow down restaurants only.\n",
    "\n",
    "- Dataset Name: violations.csv\n",
    "- Link to the dataset:\n",
    "- Number of observations: 189802\n",
    "\n",
    "Contains the violations that restaurants broke. Used to find the type of violation.\n",
    "\n",
    "- Dataset Name: FastFoodRestaurants.csv\n",
    "- Link to the dataset:\n",
    "- Number of observations: 10000\n",
    "\n",
    "Contains the address and name of Fast Food Restaurants in the US. Used to determine if a restaurant is chain or not."
   ]
  },
  {
   "cell_type": "markdown",
   "metadata": {},
   "source": [
    "# Setup"
   ]
  },
  {
   "cell_type": "code",
   "execution_count": 5,
   "metadata": {},
   "outputs": [],
   "source": [
    "# Imports \n",
    "%matplotlib inline\n",
    "\n",
    "import numpy as np\n",
    "import pandas as pd\n",
    "import matplotlib.pyplot as plt\n",
    "\n",
    "import seaborn as sns\n",
    "sns.set()\n",
    "sns.set_context('talk')\n",
    "\n",
    "import warnings\n",
    "warnings.filterwarnings('ignore')\n",
    "\n",
    "import patsy\n",
    "import statsmodels.api as sm\n",
    "import scipy.stats as stats\n",
    "from scipy.stats import ttest_ind, chisquare, normaltest"
   ]
  },
  {
   "cell_type": "markdown",
   "metadata": {},
   "source": [
    "# Data Cleaning"
   ]
  },
  {
   "cell_type": "markdown",
   "metadata": {},
   "source": [
    "Describe your data cleaning steps here."
   ]
  },
  {
   "cell_type": "code",
   "execution_count": 107,
   "metadata": {},
   "outputs": [],
   "source": [
    "## Clean Up for Inspection\n",
    "inspections = pd.read_csv('./data/inspections.csv')\n",
    "inspections = inspections[['hsisid', 'date', 'name', 'address1', 'city', 'state', 'num_non_critical', 'critical']]\n",
    "\n",
    "# Find any empty rows (none)\n",
    "inspections.isnull().any(axis=1)\n",
    "empty_row = inspections[inspections.isnull().any(axis=1)]\n",
    "\n",
    "# Lower case the name and address\n",
    "def lower_string(string):\n",
    "    string = string.lower()\n",
    "    return string\n",
    "\n",
    "def normal_date(string):\n",
    "    string = string[:10]\n",
    "    return string\n",
    "\n",
    "inspections['name'] = inspections['name'].apply(lower_string)\n",
    "inspections['address1'] = inspections['address1'].apply(lower_string)\n",
    "inspections['date'] = inspections['date'].apply(normal_date)\n",
    "inspections['city'] = inspections['city'].apply(lower_string)\n",
    "\n",
    "inspections\n",
    "sum_violations = inspections[['hsisid', 'num_non_critical', 'critical']]\n",
    "\n",
    "unique = sum_violations['hsisid'].unique()\n",
    "non_critical = [0] * len(unique)\n",
    "critical = [0] * len(unique)"
   ]
  },
  {
   "cell_type": "code",
   "execution_count": 71,
   "metadata": {},
   "outputs": [],
   "source": [
    "## Clean up for Restaurants \n",
    "restaurants = pd.read_csv('./data/restaurants.csv')\n",
    "restaurants = restaurants[['hsisid', 'name','address1', 'city', 'state', 'facilitytype']]\n",
    "restaurants['name'] = restaurants['name'].apply(lower_string)\n",
    "restaurants['address1'] = restaurants['address1'].apply(lower_string)\n",
    "restaurants['city'] = restaurants['city'].apply(lower_string)\n",
    "restaurants['facilitytype'] = restaurants['facilitytype'].apply(lower_string)\n",
    "\n",
    "# Get only restaurants\n",
    "restaurants = restaurants[ restaurants['facilitytype'] == 'restaurant']"
   ]
  },
  {
   "cell_type": "code",
   "execution_count": 86,
   "metadata": {},
   "outputs": [
    {
     "data": {
      "text/plain": [
       "3045"
      ]
     },
     "execution_count": 86,
     "metadata": {},
     "output_type": "execute_result"
    }
   ],
   "source": [
    "len(inspections['hsisid'].unique())"
   ]
  },
  {
   "cell_type": "code",
   "execution_count": 36,
   "metadata": {},
   "outputs": [
    {
     "data": {
      "text/html": [
       "<div>\n",
       "<style scoped>\n",
       "    .dataframe tbody tr th:only-of-type {\n",
       "        vertical-align: middle;\n",
       "    }\n",
       "\n",
       "    .dataframe tbody tr th {\n",
       "        vertical-align: top;\n",
       "    }\n",
       "\n",
       "    .dataframe thead th {\n",
       "        text-align: right;\n",
       "    }\n",
       "</style>\n",
       "<table border=\"1\" class=\"dataframe\">\n",
       "  <thead>\n",
       "    <tr style=\"text-align: right;\">\n",
       "      <th></th>\n",
       "      <th>hsisid</th>\n",
       "      <th>category</th>\n",
       "      <th>critical</th>\n",
       "      <th>severity</th>\n",
       "      <th>shortdesc</th>\n",
       "      <th>violationtype</th>\n",
       "    </tr>\n",
       "  </thead>\n",
       "  <tbody>\n",
       "    <tr>\n",
       "      <th>0</th>\n",
       "      <td>4092015279</td>\n",
       "      <td>Chemical</td>\n",
       "      <td>Yes</td>\n",
       "      <td>Priority Foundation</td>\n",
       "      <td>Toxic substances properly identified, stored, ...</td>\n",
       "      <td>R</td>\n",
       "    </tr>\n",
       "    <tr>\n",
       "      <th>1</th>\n",
       "      <td>4092014572</td>\n",
       "      <td>Chemical</td>\n",
       "      <td>Yes</td>\n",
       "      <td>Priority Foundation</td>\n",
       "      <td>Toxic substances properly identified, stored, ...</td>\n",
       "      <td>CDI</td>\n",
       "    </tr>\n",
       "    <tr>\n",
       "      <th>2</th>\n",
       "      <td>4092015906</td>\n",
       "      <td>Chemical</td>\n",
       "      <td>Yes</td>\n",
       "      <td>Priority Foundation</td>\n",
       "      <td>Toxic substances properly identified, stored, ...</td>\n",
       "      <td>CDI</td>\n",
       "    </tr>\n",
       "    <tr>\n",
       "      <th>3</th>\n",
       "      <td>4092013840</td>\n",
       "      <td>Chemical</td>\n",
       "      <td>Yes</td>\n",
       "      <td>Priority Foundation</td>\n",
       "      <td>Toxic substances properly identified, stored, ...</td>\n",
       "      <td>CDI</td>\n",
       "    </tr>\n",
       "    <tr>\n",
       "      <th>4</th>\n",
       "      <td>4092021788</td>\n",
       "      <td>Chemical</td>\n",
       "      <td>Yes</td>\n",
       "      <td>Priority Foundation</td>\n",
       "      <td>Toxic substances properly identified, stored, ...</td>\n",
       "      <td>CDI</td>\n",
       "    </tr>\n",
       "  </tbody>\n",
       "</table>\n",
       "</div>"
      ],
      "text/plain": [
       "       hsisid  category critical             severity  \\\n",
       "0  4092015279  Chemical      Yes  Priority Foundation   \n",
       "1  4092014572  Chemical      Yes  Priority Foundation   \n",
       "2  4092015906  Chemical      Yes  Priority Foundation   \n",
       "3  4092013840  Chemical      Yes  Priority Foundation   \n",
       "4  4092021788  Chemical      Yes  Priority Foundation   \n",
       "\n",
       "                                           shortdesc violationtype  \n",
       "0  Toxic substances properly identified, stored, ...             R  \n",
       "1  Toxic substances properly identified, stored, ...           CDI  \n",
       "2  Toxic substances properly identified, stored, ...           CDI  \n",
       "3  Toxic substances properly identified, stored, ...           CDI  \n",
       "4  Toxic substances properly identified, stored, ...           CDI  "
      ]
     },
     "execution_count": 36,
     "metadata": {},
     "output_type": "execute_result"
    }
   ],
   "source": [
    "## Clean up for Violations\n",
    "violations = pd.read_csv('./data/violations.csv')\n",
    "violations = violations[['hsisid', 'category', 'critical', 'severity', 'shortdesc', 'violationtype']]\n",
    "violations.head(5)"
   ]
  },
  {
   "cell_type": "code",
   "execution_count": 89,
   "metadata": {},
   "outputs": [
    {
     "data": {
      "text/html": [
       "<div>\n",
       "<style scoped>\n",
       "    .dataframe tbody tr th:only-of-type {\n",
       "        vertical-align: middle;\n",
       "    }\n",
       "\n",
       "    .dataframe tbody tr th {\n",
       "        vertical-align: top;\n",
       "    }\n",
       "\n",
       "    .dataframe thead th {\n",
       "        text-align: right;\n",
       "    }\n",
       "</style>\n",
       "<table border=\"1\" class=\"dataframe\">\n",
       "  <thead>\n",
       "    <tr style=\"text-align: right;\">\n",
       "      <th></th>\n",
       "      <th>address</th>\n",
       "    </tr>\n",
       "  </thead>\n",
       "  <tbody>\n",
       "    <tr>\n",
       "      <th>0</th>\n",
       "      <td>324 main st</td>\n",
       "    </tr>\n",
       "    <tr>\n",
       "      <th>1</th>\n",
       "      <td>530 clinton ave</td>\n",
       "    </tr>\n",
       "    <tr>\n",
       "      <th>2</th>\n",
       "      <td>408 market square dr</td>\n",
       "    </tr>\n",
       "    <tr>\n",
       "      <th>3</th>\n",
       "      <td>6098 state highway 37</td>\n",
       "    </tr>\n",
       "    <tr>\n",
       "      <th>4</th>\n",
       "      <td>139 columbus rd</td>\n",
       "    </tr>\n",
       "    <tr>\n",
       "      <th>...</th>\n",
       "      <td>...</td>\n",
       "    </tr>\n",
       "    <tr>\n",
       "      <th>9995</th>\n",
       "      <td>3013 peach orchard rd</td>\n",
       "    </tr>\n",
       "    <tr>\n",
       "      <th>9996</th>\n",
       "      <td>678 northwest hwy</td>\n",
       "    </tr>\n",
       "    <tr>\n",
       "      <th>9997</th>\n",
       "      <td>1708 main st</td>\n",
       "    </tr>\n",
       "    <tr>\n",
       "      <th>9998</th>\n",
       "      <td>67740 highway 111</td>\n",
       "    </tr>\n",
       "    <tr>\n",
       "      <th>9999</th>\n",
       "      <td>5701 e la palma ave</td>\n",
       "    </tr>\n",
       "  </tbody>\n",
       "</table>\n",
       "<p>10000 rows × 1 columns</p>\n",
       "</div>"
      ],
      "text/plain": [
       "                    address\n",
       "0               324 main st\n",
       "1           530 clinton ave\n",
       "2      408 market square dr\n",
       "3     6098 state highway 37\n",
       "4           139 columbus rd\n",
       "...                     ...\n",
       "9995  3013 peach orchard rd\n",
       "9996      678 northwest hwy\n",
       "9997           1708 main st\n",
       "9998      67740 highway 111\n",
       "9999    5701 e la palma ave\n",
       "\n",
       "[10000 rows x 1 columns]"
      ]
     },
     "execution_count": 89,
     "metadata": {},
     "output_type": "execute_result"
    }
   ],
   "source": [
    "## Clean up for Fast Food Restaurants\n",
    "ff = pd.read_csv('./data/FastFoodRestaurants.csv')\n",
    "ff = ff[['address']]\n",
    "ff['address'] = ff['address'].apply(lower_string)"
   ]
  },
  {
   "cell_type": "markdown",
   "metadata": {},
   "source": [
    "# Data Analysis & Results"
   ]
  },
  {
   "cell_type": "markdown",
   "metadata": {},
   "source": [
    "Include cells that describe the steps in your data analysis."
   ]
  },
  {
   "cell_type": "code",
   "execution_count": 5,
   "metadata": {},
   "outputs": [],
   "source": [
    "## YOUR CODE HERE\n",
    "## FEEL FREE TO ADD MULTIPLE CELLS PER SECTION"
   ]
  },
  {
   "cell_type": "markdown",
   "metadata": {},
   "source": [
    "# Ethics & Privacy"
   ]
  },
  {
   "cell_type": "markdown",
   "metadata": {},
   "source": [
    "We need to anonymize the name of restaurants that we used to not single out a specific restaurant. "
   ]
  },
  {
   "cell_type": "markdown",
   "metadata": {},
   "source": [
    "# Conclusion & Discussion"
   ]
  },
  {
   "cell_type": "markdown",
   "metadata": {},
   "source": [
    "*Fill in your discussion information here*"
   ]
  }
 ],
 "metadata": {
  "kernelspec": {
   "display_name": "Python 3",
   "language": "python",
   "name": "python3"
  },
  "language_info": {
   "codemirror_mode": {
    "name": "ipython",
    "version": 3
   },
   "file_extension": ".py",
   "mimetype": "text/x-python",
   "name": "python",
   "nbconvert_exporter": "python",
   "pygments_lexer": "ipython3",
   "version": "3.6.7"
  }
 },
 "nbformat": 4,
 "nbformat_minor": 2
}
