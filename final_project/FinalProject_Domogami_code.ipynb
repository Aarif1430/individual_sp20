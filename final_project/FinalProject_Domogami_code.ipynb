{
 "cells": [
  {
   "cell_type": "markdown",
   "metadata": {},
   "source": [
    "# Code for COGS 108 Final\n",
    "- Dominick Lee\n",
    "- PID: A15588401"
   ]
  },
  {
   "cell_type": "code",
   "execution_count": 1,
   "metadata": {},
   "outputs": [],
   "source": [
    "%matplotlib inline\n",
    "\n",
    "import numpy as np\n",
    "import pandas as pd\n",
    "import matplotlib.pyplot as plt"
   ]
  },
  {
   "cell_type": "code",
   "execution_count": 2,
   "metadata": {},
   "outputs": [],
   "source": [
    "df_zip = pd.read_csv('./data/zipcodes.csv')\n",
    "df_yelp = pd.read_csv('./data/yelp.csv')\n",
    "df_violations = pd.read_csv('./data/violations.csv')\n",
    "df_rest = pd.read_csv('./data/restaurants.csv')\n",
    "df_inspect = pd.read_csv('./data/inspections.csv')"
   ]
  },
  {
   "cell_type": "code",
   "execution_count": 3,
   "metadata": {},
   "outputs": [],
   "source": [
    "def Clean_Zip(zipcode):\n",
    "    code = str(zipcode)\n",
    "    new_zip = code[0] + code[1] + code[2] + code[3] + code[4]\n",
    "    return new_zip\n",
    "\n",
    "def Laplaces_Rule_Of_Succession(rating, num_reviews):\n",
    "    rating = (int(rating)/5 * num_reviews) + 1\n",
    "    num_reviews = int(num_reviews) + 2\n",
    "    return (round((rating / num_reviews), 3))\n"
   ]
  },
  {
   "cell_type": "code",
   "execution_count": 4,
   "metadata": {},
   "outputs": [],
   "source": [
    "# Merge restaurants and Violations\n",
    "df_violations['NumViolations'] = 1\n",
    "df_rest_violations = df_rest.merge(df_violations, how='inner', on='hsisid')"
   ]
  },
  {
   "cell_type": "code",
   "execution_count": 5,
   "metadata": {},
   "outputs": [],
   "source": [
    "# Find the exact number of violations for each ID\n",
    "df_rest_violations = df_rest_violations.groupby(['X.objectid_x', 'hsisid']).agg({'NumViolations': 'sum'})\n",
    "# df_rest_violations"
   ]
  },
  {
   "cell_type": "code",
   "execution_count": 6,
   "metadata": {},
   "outputs": [],
   "source": [
    "# Merge violations with inspections to locate the stores\n",
    "df_all_violations = df_rest_violations.merge(df_inspect, how='inner', on='hsisid')\n",
    "\n",
    "df_all_violations = df_all_violations.rename(columns={'postalcode': 'zip_code'})\n",
    "df_zip = df_zip.rename(columns={'zip': 'zip_code'})\n",
    "\n",
    "#df_all_violations"
   ]
  },
  {
   "cell_type": "code",
   "execution_count": 7,
   "metadata": {},
   "outputs": [],
   "source": [
    "# Clean the zipcodes\n",
    "df_all_violations['zip_code'] = df_all_violations['zip_code'].apply(Clean_Zip)\n",
    "df_yelp['zip_code'] = df_yelp['zip_code'].apply(Clean_Zip)"
   ]
  },
  {
   "cell_type": "code",
   "execution_count": 8,
   "metadata": {},
   "outputs": [],
   "source": [
    "# Normalize ratings with Laplace Rating\n",
    "df_yelp[\"Laplace_Rating\"] = df_yelp.apply(lambda x: Laplaces_Rule_Of_Succession(x['rating'], x['review_count']), axis=1)\n",
    "#df_yelp"
   ]
  },
  {
   "cell_type": "code",
   "execution_count": 10,
   "metadata": {},
   "outputs": [
    {
     "data": {
      "text/html": [
       "<div>\n",
       "<style scoped>\n",
       "    .dataframe tbody tr th:only-of-type {\n",
       "        vertical-align: middle;\n",
       "    }\n",
       "\n",
       "    .dataframe tbody tr th {\n",
       "        vertical-align: top;\n",
       "    }\n",
       "\n",
       "    .dataframe thead th {\n",
       "        text-align: right;\n",
       "    }\n",
       "</style>\n",
       "<table border=\"1\" class=\"dataframe\">\n",
       "  <thead>\n",
       "    <tr style=\"text-align: right;\">\n",
       "      <th></th>\n",
       "      <th>Laplace_Rating</th>\n",
       "      <th>NumViolations</th>\n",
       "    </tr>\n",
       "    <tr>\n",
       "      <th>hsisid</th>\n",
       "      <th></th>\n",
       "      <th></th>\n",
       "    </tr>\n",
       "  </thead>\n",
       "  <tbody>\n",
       "    <tr>\n",
       "      <td>4092010024</td>\n",
       "      <td>0.648349</td>\n",
       "      <td>92</td>\n",
       "    </tr>\n",
       "    <tr>\n",
       "      <td>4092010031</td>\n",
       "      <td>0.654817</td>\n",
       "      <td>20</td>\n",
       "    </tr>\n",
       "    <tr>\n",
       "      <td>4092010035</td>\n",
       "      <td>0.648905</td>\n",
       "      <td>44</td>\n",
       "    </tr>\n",
       "    <tr>\n",
       "      <td>4092010037</td>\n",
       "      <td>0.643913</td>\n",
       "      <td>43</td>\n",
       "    </tr>\n",
       "    <tr>\n",
       "      <td>4092010046</td>\n",
       "      <td>0.654817</td>\n",
       "      <td>96</td>\n",
       "    </tr>\n",
       "    <tr>\n",
       "      <td>...</td>\n",
       "      <td>...</td>\n",
       "      <td>...</td>\n",
       "    </tr>\n",
       "    <tr>\n",
       "      <td>4092300270</td>\n",
       "      <td>0.648349</td>\n",
       "      <td>18</td>\n",
       "    </tr>\n",
       "    <tr>\n",
       "      <td>4092300271</td>\n",
       "      <td>0.616259</td>\n",
       "      <td>14</td>\n",
       "    </tr>\n",
       "    <tr>\n",
       "      <td>4092300272</td>\n",
       "      <td>0.640633</td>\n",
       "      <td>6</td>\n",
       "    </tr>\n",
       "    <tr>\n",
       "      <td>4092300273</td>\n",
       "      <td>0.643913</td>\n",
       "      <td>4</td>\n",
       "    </tr>\n",
       "    <tr>\n",
       "      <td>4092300274</td>\n",
       "      <td>0.666786</td>\n",
       "      <td>1</td>\n",
       "    </tr>\n",
       "  </tbody>\n",
       "</table>\n",
       "<p>3038 rows × 2 columns</p>\n",
       "</div>"
      ],
      "text/plain": [
       "            Laplace_Rating  NumViolations\n",
       "hsisid                                   \n",
       "4092010024        0.648349             92\n",
       "4092010031        0.654817             20\n",
       "4092010035        0.648905             44\n",
       "4092010037        0.643913             43\n",
       "4092010046        0.654817             96\n",
       "...                    ...            ...\n",
       "4092300270        0.648349             18\n",
       "4092300271        0.616259             14\n",
       "4092300272        0.640633              6\n",
       "4092300273        0.643913              4\n",
       "4092300274        0.666786              1\n",
       "\n",
       "[3038 rows x 2 columns]"
      ]
     },
     "execution_count": 10,
     "metadata": {},
     "output_type": "execute_result"
    }
   ],
   "source": [
    "# Combine to yield a dataset with all variables\n",
    "\n",
    "df_allReviews = df_all_violations.merge(df_yelp, how='inner', on='zip_code')\n",
    "df_allReviews2 = df_allReviews.groupby(['hsisid']).agg({'NumViolations': 'mean'})\n",
    "\n",
    "df_yelp2 = df_all_violations.merge(df_yelp, how='inner', on='zip_code')\n",
    "df_yelp2 = df_yelp2[['hsisid','Laplace_Rating']]\n",
    "df_yelp3 = df_yelp2.groupby([\"hsisid\"]).mean()\n",
    "\n",
    "df_all = df_yelp3.merge(df_allReviews2, how='inner', on='hsisid')\n",
    "df_all"
   ]
  },
  {
   "cell_type": "code",
   "execution_count": 11,
   "metadata": {},
   "outputs": [
    {
     "data": {
      "image/png": "[encoded data removed]",
      "text/plain": [
       "<Figure size 756x756 with 1 Axes>"
      ]
     },
     "metadata": {
      "needs_background": "light"
     },
     "output_type": "display_data"
    }
   ],
   "source": [
    "# Plot the results\n",
    "plt.plot(df_all['NumViolations'], df_all['Laplace_Rating'], '.')\n",
    "plt.xlabel('Violations'); \n",
    "plt.ylabel('StandardizedReviews');\n",
    "\n",
    "plt.rcParams.update({'font.size': 18})\n",
    "fig = plt.gcf()\n",
    "fig.set_size_inches(10.5, 10.5)\n",
    "fig.savefig('Result.png', dpi=100)"
   ]
  },
  {
   "cell_type": "code",
   "execution_count": 12,
   "metadata": {},
   "outputs": [
    {
     "data": {
      "text/plain": [
       "array([[ 1.        , -0.03052051],\n",
       "       [-0.03052051,  1.        ]])"
      ]
     },
     "execution_count": 12,
     "metadata": {},
     "output_type": "execute_result"
    }
   ],
   "source": [
    "# Find the correlation r\n",
    "np.corrcoef(df_all['NumViolations'], df_all['Laplace_Rating'])"
   ]
  }
 ],
 "metadata": {
  "kernelspec": {
   "display_name": "Python 3",
   "language": "python",
   "name": "python3"
  },
  "language_info": {
   "codemirror_mode": {
    "name": "ipython",
    "version": 3
   },
   "file_extension": ".py",
   "mimetype": "text/x-python",
   "name": "python",
   "nbconvert_exporter": "python",
   "pygments_lexer": "ipython3",
   "version": "3.7.4"
  }
 },
 "nbformat": 4,
 "nbformat_minor": 2
}
