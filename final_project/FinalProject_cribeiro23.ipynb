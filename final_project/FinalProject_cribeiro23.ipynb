{
 "cells": [
  {
   "cell_type": "markdown",
   "metadata": {},
   "source": [
    "# COGS 108 - Final Project "
   ]
  },
  {
   "cell_type": "markdown",
   "metadata": {},
   "source": [
    "# Overview"
   ]
  },
  {
   "cell_type": "markdown",
   "metadata": {},
   "source": [
    "*Fill in your overview here*"
   ]
  },
  {
   "cell_type": "markdown",
   "metadata": {},
   "source": [
    "### Name & PID\n",
    "\n",
    "- Name: Carlos Eduardo Matos Ribeiro\n",
    "- PID: A14032489"
   ]
  },
  {
   "cell_type": "markdown",
   "metadata": {},
   "source": [
    "# Research Question"
   ]
  },
  {
   "cell_type": "markdown",
   "metadata": {},
   "source": [
    "Does the location of a restaurant in North Carolina impact its overall sanitary conditions? Is such impact caused by the socioeconomic conditions of a restaurant's neighborhood?\n",
    "\n",
    "Possible ideas:\n",
    "- Investigate the connection between neighborhood income and average restaruant \"cleaniness\"?\n",
    "- Check number of inspections per zip code and check factors impacting number of inspections (average score of restaurants in the same area, average income of related zip-code)\n",
    "- Investigate factors that will impact the score of a restaurant (average income of zip-code, result of previous inspections, result of neighboring (how to define? latitude and logitude?) restaurants)\n"
   ]
  },
  {
   "cell_type": "markdown",
   "metadata": {},
   "source": [
    "## Background and Prior Work"
   ]
  },
  {
   "cell_type": "markdown",
   "metadata": {},
   "source": [
    "In North Carolina, restaurants and other food establishments are inspected by local county professionals between one and four times annually$^{1}$. In these inspections, violations are counted and tabulated, each with its own point value depending on its severity; the points are then subtracted from 100 to give a restaurant's final score, which is then used to determine its letter grade$^{1}$. This simple system allows for a straightforward way to quantify the sanitary conditions of restaurants, making it possible to carry out data analyses to investigate general trends and determining factors of said conditions.\n",
    "\n",
    "With that in mind, I have decided to investgiate whether the location of a restaurant in North Carolina, and more specifically said location's socio-economic condition, has a considerable impact in said restaurant's sanitary conditions. Certain characteristics about neighborhoods, including how busy it is and the average spending potential of its residents/bypassers, can greatly impact key factors for a restaurant's success, including the amount of customers it can expect to have and the amount of revenue that it can generate. Customer traffic and revenue in turn can affect many factors related to sanitary conditions, including: how much staff a restaurant can hire (and how overworked said staff is), how well trained the staff is, the quality of the equipment, the quality of the produce, how often produce has to be restocked, how  much attention managers can devote to health and safety practices, etc. Therefore, it is reasonable to expect that the socio-economic conditions of a restaurant's area will somehow affect its health and safety conditions.\n",
    "\n",
    "The most relevant research related to my investigation was a study conducted by the Environmental Health Specialists Network, based on several US states, which aimed to identify which factors most impacted safe food preparation practices in a restaurant. The study concluded that some of the main factors were the time pressure the employees felt, the quality of their equipment, the resources they had available and the emphasis managers gave to food safety$^{2}$. As discussed in the previous paragraph, many of these factors can be impacted by a restaurant's location and its socio-economic conditions, so this study helps corroborate that my research question holds promise and is worth investigating.\n",
    "\n",
    "\n",
    "References (include links):\n",
    "- 1) https://www.forsyth.cc/PublicHealth/EnvironmentalHealth/aboutInspections.aspx\n",
    "- 2)https://www.cdc.gov/nceh/ehs/ehsnet/docs/Factors_Impacting_Food_Workers_Food_Prep_FPT_journal.pdf\n",
    "\n",
    "\n",
    "Possible sources:\n",
    "- http://data-wake.opendata.arcgis.com/datasets/food-inspections\n",
    "- https://www.wral.com/yuck-or-yum-inspection-grades-keep-restaurants-diners-safe/16548733/\n",
    "- https://www.forsyth.cc/PublicHealth/EnvironmentalHealth/aboutInspections.aspx (official article with some description of inspections)\n",
    "- https://www.starnewsonline.com/news/20190823/on-restaurant-inspections-new-hanover-fights-uphill-battle (article about county in North Carolina falling behind on inspections "
   ]
  },
  {
   "cell_type": "markdown",
   "metadata": {},
   "source": [
    "# Hypothesis\n"
   ]
  },
  {
   "cell_type": "markdown",
   "metadata": {},
   "source": [
    "I expect that there will be a postive relationship between North Carolina restaurants' location and the socio-economic characteristics of said location, and their overall sanitary conditions, with restaurants in wealthier neighborhoods having fewer health/safety violations then restaurants in low-income, emptier neighborhoods. The reason for that premise was hinted at in the previous section: restaurants in wealthier neighborhoods are more likely to have a constant influx of customers with sufficient spending power to drive their business, thus have the ability to have an adaquately-sized staff that is properly trained and equipped to maintain appropriate health conditions. Conversely, restaurants in low-income neighborhoods are more likely to have sufficient customers/revenue to adequately train and equip their staf, and it might face financial hardships that would lead it to overlook sanitary issues. "
   ]
  },
  {
   "cell_type": "markdown",
   "metadata": {},
   "source": [
    "# Dataset(s)"
   ]
  },
  {
   "cell_type": "markdown",
   "metadata": {},
   "source": [
    "- Dataset Name: Inspections\n",
    "- Link to the dataset: data/inspections.csv\n",
    "- Number of observations: 18466\n",
    " \n",
    "In this dataset, each row is a restaurant inspection and each column holds information either about the specific inspection, or the restaurant being inspected. For each inspection there is a myriad of information, including the restaurant's name, address, zip code, and coordinate location, and the the inspection date, number of critical/non-critical violations, overall score, to name a few.\n",
    "\n",
    "- Dataset Name: Zip\n",
    "- Link to the dataset: data/zip.csv\n",
    "- Number of observations: 38\n",
    "\n",
    "This dataset gathers general socio-economic indicators for various zip codes in North Carolina. Each row is a specific zip code and each column is a different indicator, such as per capita income and median family income and the percent of families living below the poverty line.\n",
    "\n",
    "The datasets can be combined via the zip codes, with the Zip dataset being used to identify the socio-economic indicators of the neighborhood of each particular inspection."
   ]
  },
  {
   "cell_type": "markdown",
   "metadata": {},
   "source": [
    "# Setup"
   ]
  },
  {
   "cell_type": "code",
   "execution_count": 80,
   "metadata": {},
   "outputs": [],
   "source": [
    "import pandas as pd\n",
    "import seaborn as sns\n",
    "import numpy as np\n",
    "import matplotlib.pyplot as plt\n",
    "import random\n",
    "from sklearn.neighbors import KNeighborsRegressor\n",
    "from sklearn.metrics import mean_squared_error "
   ]
  },
  {
   "cell_type": "markdown",
   "metadata": {},
   "source": [
    "# Data Cleaning"
   ]
  },
  {
   "cell_type": "markdown",
   "metadata": {},
   "source": [
    "First I loaded and examined the inspections dataset"
   ]
  },
  {
   "cell_type": "code",
   "execution_count": 2,
   "metadata": {},
   "outputs": [
    {
     "name": "stdout",
     "output_type": "stream",
     "text": [
      "Index(['hsisid', 'date', 'name', 'address1', 'address2', 'city', 'state',\n",
      "       'postalcode', 'phonenumber', 'restaurantopendate',\n",
      "       'days_from_open_date', 'facilitytype', 'x', 'y', 'geocodestatus', 'zip',\n",
      "       'type', 'description', 'inspectedby', 'inspection_num', 'inspector_id',\n",
      "       'previous_inspection_date', 'days_since_previous_inspection',\n",
      "       'previous_inspection_by_same_inspector', 'score', 'num_critical',\n",
      "       'num_non_critical', 'num_critical_previous',\n",
      "       'num_non_critical_previous', 'num_critical_mean_previous',\n",
      "       'num_non_critical_mean_previous', 'avg_neighbor_num_critical',\n",
      "       'avg_neighbor_num_non_critical', 'top_match', 'second_match',\n",
      "       'critical'],\n",
      "      dtype='object')\n"
     ]
    },
    {
     "data": {
      "text/html": [
       "<div>\n",
       "<style scoped>\n",
       "    .dataframe tbody tr th:only-of-type {\n",
       "        vertical-align: middle;\n",
       "    }\n",
       "\n",
       "    .dataframe tbody tr th {\n",
       "        vertical-align: top;\n",
       "    }\n",
       "\n",
       "    .dataframe thead th {\n",
       "        text-align: right;\n",
       "    }\n",
       "</style>\n",
       "<table border=\"1\" class=\"dataframe\">\n",
       "  <thead>\n",
       "    <tr style=\"text-align: right;\">\n",
       "      <th></th>\n",
       "      <th>hsisid</th>\n",
       "      <th>date</th>\n",
       "      <th>name</th>\n",
       "      <th>address1</th>\n",
       "      <th>address2</th>\n",
       "      <th>city</th>\n",
       "      <th>state</th>\n",
       "      <th>postalcode</th>\n",
       "      <th>phonenumber</th>\n",
       "      <th>restaurantopendate</th>\n",
       "      <th>...</th>\n",
       "      <th>num_non_critical</th>\n",
       "      <th>num_critical_previous</th>\n",
       "      <th>num_non_critical_previous</th>\n",
       "      <th>num_critical_mean_previous</th>\n",
       "      <th>num_non_critical_mean_previous</th>\n",
       "      <th>avg_neighbor_num_critical</th>\n",
       "      <th>avg_neighbor_num_non_critical</th>\n",
       "      <th>top_match</th>\n",
       "      <th>second_match</th>\n",
       "      <th>critical</th>\n",
       "    </tr>\n",
       "  </thead>\n",
       "  <tbody>\n",
       "    <tr>\n",
       "      <th>0</th>\n",
       "      <td>4092013748</td>\n",
       "      <td>2012-09-21T00:00:00Z</td>\n",
       "      <td>Cafe 3000 At Wake Med</td>\n",
       "      <td>3000 New Bern Ave</td>\n",
       "      <td>NaN</td>\n",
       "      <td>raleigh</td>\n",
       "      <td>NC</td>\n",
       "      <td>27610</td>\n",
       "      <td>(919) 350-8047</td>\n",
       "      <td>2002-12-21T00:00:00Z</td>\n",
       "      <td>...</td>\n",
       "      <td>7</td>\n",
       "      <td>NaN</td>\n",
       "      <td>NaN</td>\n",
       "      <td>NaN</td>\n",
       "      <td>NaN</td>\n",
       "      <td>NaN</td>\n",
       "      <td>NaN</td>\n",
       "      <td>NaN</td>\n",
       "      <td>NaN</td>\n",
       "      <td>1</td>\n",
       "    </tr>\n",
       "    <tr>\n",
       "      <th>1</th>\n",
       "      <td>4092014046</td>\n",
       "      <td>2012-09-21T00:00:00Z</td>\n",
       "      <td>Overtime Sports Pub</td>\n",
       "      <td>1030-149 N Rogers Ln</td>\n",
       "      <td>NaN</td>\n",
       "      <td>raleigh</td>\n",
       "      <td>NC</td>\n",
       "      <td>27610</td>\n",
       "      <td>(919) 255-9556</td>\n",
       "      <td>2004-05-04T00:00:00Z</td>\n",
       "      <td>...</td>\n",
       "      <td>11</td>\n",
       "      <td>NaN</td>\n",
       "      <td>NaN</td>\n",
       "      <td>NaN</td>\n",
       "      <td>NaN</td>\n",
       "      <td>NaN</td>\n",
       "      <td>NaN</td>\n",
       "      <td>NaN</td>\n",
       "      <td>NaN</td>\n",
       "      <td>0</td>\n",
       "    </tr>\n",
       "    <tr>\n",
       "      <th>2</th>\n",
       "      <td>4092015191</td>\n",
       "      <td>2012-09-21T00:00:00Z</td>\n",
       "      <td>TASTE OF CHINA</td>\n",
       "      <td>6209 ROCK QUARRY RD</td>\n",
       "      <td>STE 126</td>\n",
       "      <td>raleigh</td>\n",
       "      <td>NC</td>\n",
       "      <td>27610</td>\n",
       "      <td>(919) 773-2285</td>\n",
       "      <td>2008-08-04T00:00:00Z</td>\n",
       "      <td>...</td>\n",
       "      <td>8</td>\n",
       "      <td>NaN</td>\n",
       "      <td>NaN</td>\n",
       "      <td>NaN</td>\n",
       "      <td>NaN</td>\n",
       "      <td>NaN</td>\n",
       "      <td>NaN</td>\n",
       "      <td>NaN</td>\n",
       "      <td>NaN</td>\n",
       "      <td>1</td>\n",
       "    </tr>\n",
       "    <tr>\n",
       "      <th>3</th>\n",
       "      <td>4092016122</td>\n",
       "      <td>2012-09-21T00:00:00Z</td>\n",
       "      <td>Panera Bread #1643</td>\n",
       "      <td>1065 Darrington DR</td>\n",
       "      <td>NaN</td>\n",
       "      <td>cary</td>\n",
       "      <td>NC</td>\n",
       "      <td>27513</td>\n",
       "      <td>NaN</td>\n",
       "      <td>2012-03-28T00:00:00Z</td>\n",
       "      <td>...</td>\n",
       "      <td>3</td>\n",
       "      <td>NaN</td>\n",
       "      <td>NaN</td>\n",
       "      <td>NaN</td>\n",
       "      <td>NaN</td>\n",
       "      <td>NaN</td>\n",
       "      <td>NaN</td>\n",
       "      <td>NaN</td>\n",
       "      <td>NaN</td>\n",
       "      <td>1</td>\n",
       "    </tr>\n",
       "    <tr>\n",
       "      <th>4</th>\n",
       "      <td>4092021513</td>\n",
       "      <td>2012-09-21T00:00:00Z</td>\n",
       "      <td>WalMart Supercenter #4499-00 Deli/Bakery</td>\n",
       "      <td>841 E Gannon AVE</td>\n",
       "      <td>NaN</td>\n",
       "      <td>zebulon</td>\n",
       "      <td>NC</td>\n",
       "      <td>27597</td>\n",
       "      <td>(919) 269-2221 ext. 304</td>\n",
       "      <td>2008-02-25T00:00:00Z</td>\n",
       "      <td>...</td>\n",
       "      <td>4</td>\n",
       "      <td>NaN</td>\n",
       "      <td>NaN</td>\n",
       "      <td>NaN</td>\n",
       "      <td>NaN</td>\n",
       "      <td>NaN</td>\n",
       "      <td>NaN</td>\n",
       "      <td>NaN</td>\n",
       "      <td>NaN</td>\n",
       "      <td>1</td>\n",
       "    </tr>\n",
       "  </tbody>\n",
       "</table>\n",
       "<p>5 rows × 36 columns</p>\n",
       "</div>"
      ],
      "text/plain": [
       "       hsisid                  date                                      name  \\\n",
       "0  4092013748  2012-09-21T00:00:00Z                     Cafe 3000 At Wake Med   \n",
       "1  4092014046  2012-09-21T00:00:00Z                       Overtime Sports Pub   \n",
       "2  4092015191  2012-09-21T00:00:00Z                            TASTE OF CHINA   \n",
       "3  4092016122  2012-09-21T00:00:00Z                        Panera Bread #1643   \n",
       "4  4092021513  2012-09-21T00:00:00Z  WalMart Supercenter #4499-00 Deli/Bakery   \n",
       "\n",
       "               address1 address2     city state postalcode  \\\n",
       "0     3000 New Bern Ave      NaN  raleigh    NC      27610   \n",
       "1  1030-149 N Rogers Ln      NaN  raleigh    NC      27610   \n",
       "2   6209 ROCK QUARRY RD  STE 126  raleigh    NC      27610   \n",
       "3    1065 Darrington DR      NaN     cary    NC      27513   \n",
       "4      841 E Gannon AVE      NaN  zebulon    NC      27597   \n",
       "\n",
       "               phonenumber    restaurantopendate    ...     num_non_critical  \\\n",
       "0           (919) 350-8047  2002-12-21T00:00:00Z    ...                    7   \n",
       "1           (919) 255-9556  2004-05-04T00:00:00Z    ...                   11   \n",
       "2           (919) 773-2285  2008-08-04T00:00:00Z    ...                    8   \n",
       "3                      NaN  2012-03-28T00:00:00Z    ...                    3   \n",
       "4  (919) 269-2221 ext. 304  2008-02-25T00:00:00Z    ...                    4   \n",
       "\n",
       "  num_critical_previous  num_non_critical_previous  \\\n",
       "0                   NaN                        NaN   \n",
       "1                   NaN                        NaN   \n",
       "2                   NaN                        NaN   \n",
       "3                   NaN                        NaN   \n",
       "4                   NaN                        NaN   \n",
       "\n",
       "   num_critical_mean_previous num_non_critical_mean_previous  \\\n",
       "0                         NaN                            NaN   \n",
       "1                         NaN                            NaN   \n",
       "2                         NaN                            NaN   \n",
       "3                         NaN                            NaN   \n",
       "4                         NaN                            NaN   \n",
       "\n",
       "   avg_neighbor_num_critical avg_neighbor_num_non_critical top_match  \\\n",
       "0                        NaN                           NaN       NaN   \n",
       "1                        NaN                           NaN       NaN   \n",
       "2                        NaN                           NaN       NaN   \n",
       "3                        NaN                           NaN       NaN   \n",
       "4                        NaN                           NaN       NaN   \n",
       "\n",
       "  second_match  critical  \n",
       "0          NaN         1  \n",
       "1          NaN         0  \n",
       "2          NaN         1  \n",
       "3          NaN         1  \n",
       "4          NaN         1  \n",
       "\n",
       "[5 rows x 36 columns]"
      ]
     },
     "execution_count": 2,
     "metadata": {},
     "output_type": "execute_result"
    }
   ],
   "source": [
    "df_inspections = pd.read_csv('data/inspections.csv')\n",
    "print(df_inspections.columns)\n",
    "df_inspections.head()"
   ]
  },
  {
   "cell_type": "markdown",
   "metadata": {},
   "source": [
    "Clearly there are several columns that are not needed for my analysis, some of which have some unnecessary personal information (more on this later in the ethics & privacy section), so the first step was to narrow it down to the relevant columns, including city,zip, coordinates, overall sanitary score and number of each type (critical/non-crtiical) of violation."
   ]
  },
  {
   "cell_type": "code",
   "execution_count": 3,
   "metadata": {},
   "outputs": [],
   "source": [
    "df_inspections = df_inspections[['hsisid','city','zip','score','num_critical','num_non_critical','x','y','geocodestatus',]]"
   ]
  },
  {
   "cell_type": "markdown",
   "metadata": {},
   "source": [
    "Next I ensured that, within the relevant columns, there was no null data to worry about:"
   ]
  },
  {
   "cell_type": "code",
   "execution_count": 4,
   "metadata": {},
   "outputs": [
    {
     "data": {
      "text/plain": [
       "False"
      ]
     },
     "execution_count": 4,
     "metadata": {},
     "output_type": "execute_result"
    }
   ],
   "source": [
    "pd.isna(df_inspections).any().any()\n"
   ]
  },
  {
   "cell_type": "markdown",
   "metadata": {},
   "source": [
    "Finally, I decided to add a column with each restaurant's letter grade (A >= 90, B >= 80, C >= 70), since they usually are the main takeway from each inspection and could later be useful for analysis."
   ]
  },
  {
   "cell_type": "code",
   "execution_count": 5,
   "metadata": {},
   "outputs": [],
   "source": [
    "# First define a function for the transformation\n",
    "def to_letter_grade(score):\n",
    "    if score >= 90:\n",
    "        return 'A'\n",
    "    if score >= 80:\n",
    "        return 'B'\n",
    "    # Min score in dataset was 72\n",
    "    else:\n",
    "        return 'C'\n",
    "    \n",
    "# Then apply function and assign to new column\n",
    "df_inspections['grade'] = df_inspections['score'].apply(to_letter_grade)\n",
    "\n",
    "# Reorder columns to keep grade near score so its meaning is more clear\n",
    "df_inspections = df_inspections[['hsisid','city','zip','score','grade','num_critical','num_non_critical','x','y','geocodestatus',]]"
   ]
  },
  {
   "cell_type": "markdown",
   "metadata": {},
   "source": [
    "Then, I loaded and inspected the zip dataset"
   ]
  },
  {
   "cell_type": "code",
   "execution_count": 6,
   "metadata": {},
   "outputs": [
    {
     "name": "stdout",
     "output_type": "stream",
     "text": [
      "Index(['zip', 'median_family_income_dollars',\n",
      "       'median_household_income_dollars', 'per_capita_income_dollars',\n",
      "       'percent_damilies_below_poverty_line', 'percent_snap_benefits',\n",
      "       'percent_supplemental_security_income', 'percent_nonwhite'],\n",
      "      dtype='object')\n"
     ]
    },
    {
     "data": {
      "text/html": [
       "<div>\n",
       "<style scoped>\n",
       "    .dataframe tbody tr th:only-of-type {\n",
       "        vertical-align: middle;\n",
       "    }\n",
       "\n",
       "    .dataframe tbody tr th {\n",
       "        vertical-align: top;\n",
       "    }\n",
       "\n",
       "    .dataframe thead th {\n",
       "        text-align: right;\n",
       "    }\n",
       "</style>\n",
       "<table border=\"1\" class=\"dataframe\">\n",
       "  <thead>\n",
       "    <tr style=\"text-align: right;\">\n",
       "      <th></th>\n",
       "      <th>zip</th>\n",
       "      <th>median_family_income_dollars</th>\n",
       "      <th>median_household_income_dollars</th>\n",
       "      <th>per_capita_income_dollars</th>\n",
       "      <th>percent_damilies_below_poverty_line</th>\n",
       "      <th>percent_snap_benefits</th>\n",
       "      <th>percent_supplemental_security_income</th>\n",
       "      <th>percent_nonwhite</th>\n",
       "    </tr>\n",
       "  </thead>\n",
       "  <tbody>\n",
       "    <tr>\n",
       "      <th>0</th>\n",
       "      <td>27501</td>\n",
       "      <td>59408</td>\n",
       "      <td>51121</td>\n",
       "      <td>21631</td>\n",
       "      <td>10.5</td>\n",
       "      <td>15.5</td>\n",
       "      <td>5.2</td>\n",
       "      <td>17.9</td>\n",
       "    </tr>\n",
       "    <tr>\n",
       "      <th>1</th>\n",
       "      <td>27502</td>\n",
       "      <td>109891</td>\n",
       "      <td>95857</td>\n",
       "      <td>36763</td>\n",
       "      <td>3.4</td>\n",
       "      <td>2.4</td>\n",
       "      <td>0.8</td>\n",
       "      <td>18.9</td>\n",
       "    </tr>\n",
       "    <tr>\n",
       "      <th>2</th>\n",
       "      <td>27511</td>\n",
       "      <td>82292</td>\n",
       "      <td>67392</td>\n",
       "      <td>33139</td>\n",
       "      <td>9.6</td>\n",
       "      <td>4.5</td>\n",
       "      <td>2.2</td>\n",
       "      <td>24.8</td>\n",
       "    </tr>\n",
       "    <tr>\n",
       "      <th>3</th>\n",
       "      <td>27513</td>\n",
       "      <td>109736</td>\n",
       "      <td>87262</td>\n",
       "      <td>41232</td>\n",
       "      <td>3.8</td>\n",
       "      <td>2.4</td>\n",
       "      <td>1.5</td>\n",
       "      <td>27.8</td>\n",
       "    </tr>\n",
       "    <tr>\n",
       "      <th>4</th>\n",
       "      <td>27518</td>\n",
       "      <td>125432</td>\n",
       "      <td>98247</td>\n",
       "      <td>49865</td>\n",
       "      <td>5.5</td>\n",
       "      <td>1.0</td>\n",
       "      <td>1.7</td>\n",
       "      <td>19.9</td>\n",
       "    </tr>\n",
       "  </tbody>\n",
       "</table>\n",
       "</div>"
      ],
      "text/plain": [
       "     zip  median_family_income_dollars  median_household_income_dollars  \\\n",
       "0  27501                         59408                            51121   \n",
       "1  27502                        109891                            95857   \n",
       "2  27511                         82292                            67392   \n",
       "3  27513                        109736                            87262   \n",
       "4  27518                        125432                            98247   \n",
       "\n",
       "   per_capita_income_dollars  percent_damilies_below_poverty_line  \\\n",
       "0                      21631                                 10.5   \n",
       "1                      36763                                  3.4   \n",
       "2                      33139                                  9.6   \n",
       "3                      41232                                  3.8   \n",
       "4                      49865                                  5.5   \n",
       "\n",
       "   percent_snap_benefits  percent_supplemental_security_income  \\\n",
       "0                   15.5                                   5.2   \n",
       "1                    2.4                                   0.8   \n",
       "2                    4.5                                   2.2   \n",
       "3                    2.4                                   1.5   \n",
       "4                    1.0                                   1.7   \n",
       "\n",
       "   percent_nonwhite  \n",
       "0              17.9  \n",
       "1              18.9  \n",
       "2              24.8  \n",
       "3              27.8  \n",
       "4              19.9  "
      ]
     },
     "execution_count": 6,
     "metadata": {},
     "output_type": "execute_result"
    }
   ],
   "source": [
    "df_zipcodes = pd.read_csv('data/zipcodes.csv')\n",
    "print(df_zipcodes.columns)\n",
    "df_zipcodes.head()"
   ]
  },
  {
   "cell_type": "markdown",
   "metadata": {},
   "source": [
    "Next, I renamed a column to fix a typo, again dropped some of the columns that had information that was either unncessary, redundant and/or problematic (more on the ethics and privacy section), and checked that there was no null data to worry about."
   ]
  },
  {
   "cell_type": "code",
   "execution_count": 7,
   "metadata": {},
   "outputs": [
    {
     "data": {
      "text/plain": [
       "False"
      ]
     },
     "execution_count": 7,
     "metadata": {},
     "output_type": "execute_result"
    }
   ],
   "source": [
    "df_zipcodes = df_zipcodes.rename(columns={\"percent_damilies_below_poverty_line\": \"percent_families_below_poverty_line\"})\n",
    "df_zipcodes = df_zipcodes[['zip','median_household_income_dollars','per_capita_income_dollars','percent_families_below_poverty_line']]\n",
    "pd.isna(df_zipcodes).any().any()"
   ]
  },
  {
   "cell_type": "markdown",
   "metadata": {},
   "source": [
    "With both datasets in structured format, streamlined to keep only potentially relevant informatoin, and free of null values, they were both ready for analysis and no further cleaning was required."
   ]
  },
  {
   "cell_type": "markdown",
   "metadata": {},
   "source": [
    "# Data Analysis & Results"
   ]
  },
  {
   "cell_type": "markdown",
   "metadata": {},
   "source": [
    "### Analysis preamble"
   ]
  },
  {
   "cell_type": "markdown",
   "metadata": {},
   "source": [
    "Back in the datasets portion, I noticed that the two datasets that I am using are very unbalanced in terms of size, since one has around 18000 observations and the other only 38. Before analyzing the data I thought it was prudent to better understand that disparity by looking closer to the information that they shared."
   ]
  },
  {
   "cell_type": "code",
   "execution_count": 8,
   "metadata": {},
   "outputs": [
    {
     "name": "stdout",
     "output_type": "stream",
     "text": [
      "Zips in inspections dataset 51\n",
      "Zips in zipcodes dataset 38\n",
      "Zips shared by both datasets 37\n"
     ]
    }
   ],
   "source": [
    "insp_zips = df_inspections['zip'].unique()\n",
    "zips = df_zipcodes['zip'].unique()\n",
    "print(\"Zips in inspections dataset %d\" %len(insp_zips))\n",
    "print(\"Zips in zipcodes dataset %d\" %len(zips))\n",
    "count = 0\n",
    "for elem in insp_zips:\n",
    "    if elem in zips:\n",
    "        count += 1\n",
    "print(\"Zips shared by both datasets %d\" %count)"
   ]
  },
  {
   "cell_type": "markdown",
   "metadata": {},
   "source": [
    "As shown above, the disparity in number of observations between the datasets is not very problematic, since the inspection dataset does not have that many unique zip codes, and many of them are shared between both data sets. However, it is still likely that many observations in the inspection datasets will not have corresponding information in the zip codes dataset. \n",
    "\n",
    "With that in mind, I decided to break my analysis into different parts. First, I will use only the inspection dataset to examine the impact of location on a restaurant's score. Then, I will combine the datasets, keeping only the data from zip codes shared by both, to analyze to what extent said impact of location can be explained by the available socio-economic indicators."
   ]
  },
  {
   "cell_type": "markdown",
   "metadata": {},
   "source": [
    "### Distribution of grades, scores and violations"
   ]
  },
  {
   "cell_type": "markdown",
   "metadata": {},
   "source": [
    "Firstly, lets take a look at the general distribution of scores and grades of all the restaurants in the dataset"
   ]
  },
  {
   "cell_type": "code",
   "execution_count": 9,
   "metadata": {},
   "outputs": [
    {
     "data": {
      "image/png": "[encoded data removed]",
      "text/plain": [
       "<Figure size 432x288 with 1 Axes>"
      ]
     },
     "metadata": {
      "needs_background": "light"
     },
     "output_type": "display_data"
    }
   ],
   "source": [
    "sns.countplot(x='grade',data=df_inspections);"
   ]
  },
  {
   "cell_type": "code",
   "execution_count": 10,
   "metadata": {},
   "outputs": [
    {
     "data": {
      "image/png": "[encoded data removed]",
      "text/plain": [
       "<Figure size 432x288 with 1 Axes>"
      ]
     },
     "metadata": {
      "needs_background": "light"
     },
     "output_type": "display_data"
    }
   ],
   "source": [
    "sns.distplot(df_inspections['score'], bins=25, kde=False);"
   ]
  },
  {
   "cell_type": "markdown",
   "metadata": {},
   "source": [
    "From the graphs above we can observe that the vast majority of restaurants in our dataset are in A range, with the median being around 95 (also worth noting that the scores are $\\textbf{not normally distributed}$). The scores being so high and generally close together is rather discouraging for analysis, since it is harder to investigate factors that impact scores when all of the scores are so similar. For the same reason, the letter grades are even less informative, since virtually every restaurant has an A.\n",
    "\n",
    "Therefore, let's examine the other metrics for health/safety conditions: the number of critical/non-critical violations"
   ]
  },
  {
   "cell_type": "code",
   "execution_count": 11,
   "metadata": {},
   "outputs": [
    {
     "data": {
      "image/png": "[encoded data removed]",
      "text/plain": [
       "<Figure size 432x288 with 1 Axes>"
      ]
     },
     "metadata": {
      "needs_background": "light"
     },
     "output_type": "display_data"
    }
   ],
   "source": [
    "sns.distplot(df_inspections['num_critical'], bins=25, kde=False);"
   ]
  },
  {
   "cell_type": "code",
   "execution_count": 12,
   "metadata": {},
   "outputs": [
    {
     "data": {
      "image/png": "[encoded data removed]",
      "text/plain": [
       "<Figure size 432x288 with 1 Axes>"
      ]
     },
     "metadata": {
      "needs_background": "light"
     },
     "output_type": "display_data"
    }
   ],
   "source": [
    "sns.distplot(df_inspections['num_non_critical'], bins=25, kde=False);"
   ]
  },
  {
   "cell_type": "markdown",
   "metadata": {},
   "source": [
    "These histograms show that the number of violations follow a similar (though inverted) pattern, with most of the inspections falling within a lower range of violations (they are also not normally distrubuted). Note that the distribution of number of critical violations matches the distribution of scores more closely, which is expected since the critical violations have a higher impact on the score in the North Carolina system."
   ]
  },
  {
   "cell_type": "markdown",
   "metadata": {},
   "source": [
    "### Scores and number of violations per city"
   ]
  },
  {
   "cell_type": "markdown",
   "metadata": {},
   "source": [
    "Having obtained a general idea of the distribution of scores in the dataset overall, we can start looking at how those numbers change based on the location of the inspected restaurant. We start that analysis by examining patterns when grouping restaurants at the city level."
   ]
  },
  {
   "cell_type": "code",
   "execution_count": 13,
   "metadata": {},
   "outputs": [
    {
     "name": "stdout",
     "output_type": "stream",
     "text": [
      "Average score of city with highest score is 98.250000\n",
      "Average score of city with lowest score is 94.750000\n",
      "Average score per city: \n"
     ]
    },
    {
     "data": {
      "text/plain": [
       "city\n",
       "angier           94.750000\n",
       "apex             96.305868\n",
       "cary             96.353045\n",
       "clayton          97.111111\n",
       "creedmoor        98.250000\n",
       "fuquay-varina    95.031757\n",
       "garner           97.096661\n",
       "holly springs    95.601253\n",
       "knightdale       96.453202\n",
       "morrisville      95.686340\n",
       "new hill         95.277778\n",
       "raleigh          96.252911\n",
       "rolesville       96.795620\n",
       "wake forest      96.420154\n",
       "wendell          96.976316\n",
       "willow spring    95.659091\n",
       "zebulon          96.482527\n",
       "Name: score, dtype: float64"
      ]
     },
     "execution_count": 13,
     "metadata": {},
     "output_type": "execute_result"
    }
   ],
   "source": [
    "by_city = df_inspections.groupby('city').mean()\n",
    "print(\"Average score of city with highest score is: %f\" %by_city['score'].max())\n",
    "print(\"Average score of city with lowest score is: %f\" %by_city['score'].min())\n",
    "print(\"Average score per city: \")\n",
    "by_city['score']"
   ]
  },
  {
   "cell_type": "code",
   "execution_count": 14,
   "metadata": {},
   "outputs": [
    {
     "name": "stdout",
     "output_type": "stream",
     "text": [
      "Max average number of critical violations is 6.000000\n",
      "Min average number of critical violations is 0.500000\n",
      "Average number of critical violations per city \n"
     ]
    },
    {
     "data": {
      "text/plain": [
       "city\n",
       "angier           6.000000\n",
       "apex             2.997503\n",
       "cary             3.188666\n",
       "clayton          1.555556\n",
       "creedmoor        0.500000\n",
       "fuquay-varina    4.231081\n",
       "garner           2.356766\n",
       "holly springs    3.665971\n",
       "knightdale       2.413793\n",
       "morrisville      3.530504\n",
       "new hill         3.777778\n",
       "raleigh          2.674787\n",
       "rolesville       2.124088\n",
       "wake forest      2.309471\n",
       "wendell          2.200000\n",
       "willow spring    3.272727\n",
       "zebulon          2.395161\n",
       "Name: num_critical, dtype: float64"
      ]
     },
     "execution_count": 14,
     "metadata": {},
     "output_type": "execute_result"
    }
   ],
   "source": [
    "print(\"Max average number of critical violations is: %f\" %by_city['num_critical'].max())\n",
    "print(\"Min average number of critical violations is: %f\" %by_city['num_critical'].min())\n",
    "print(\"Average number of critical violations per city: \")\n",
    "by_city['num_critical']"
   ]
  },
  {
   "cell_type": "markdown",
   "metadata": {},
   "source": [
    "While the average score per city table information did not show much variability, with the range of averages per city being less than 4 points (out of 100), the average number of critical violations table showed greater variation, suggesting that there are differences in the overall sanitary conditions of restaurants in each city. For example, restaurants in Angier have on average 12 times more critical violations than restaraunts in Creedmoor, a significant difference. \n",
    "\n",
    "However, closer examination of the each of these cities, as shown below, reveals that they each have a very small number of observations, so it's mathematically more likely that they would have outlier values and they do not tell us much about the relationship we investigating."
   ]
  },
  {
   "cell_type": "code",
   "execution_count": 15,
   "metadata": {},
   "outputs": [
    {
     "name": "stdout",
     "output_type": "stream",
     "text": [
      "Number of observations in Angier: 6\n"
     ]
    }
   ],
   "source": [
    "print(\"Number of observations in Angier: %d\" %df_inspections.loc[df_inspections['city'] == 'angier'].shape[0])"
   ]
  },
  {
   "cell_type": "code",
   "execution_count": 16,
   "metadata": {},
   "outputs": [
    {
     "name": "stdout",
     "output_type": "stream",
     "text": [
      "Number of observations in Creedmoor: 2\n"
     ]
    }
   ],
   "source": [
    "print(\"Number of observations in Creedmoor: %d\" %df_inspections.loc[df_inspections['city'] == 'creedmoor'].shape[0])"
   ]
  },
  {
   "cell_type": "markdown",
   "metadata": {},
   "source": [
    "Given the above realization, it is possible that the variability in number of critical violations could have been simply due to outliers. To verify this possibility, we can remove cities with too few (less than 100) observations from the dataset, then check the result for the remaining ones."
   ]
  },
  {
   "cell_type": "code",
   "execution_count": 24,
   "metadata": {},
   "outputs": [
    {
     "name": "stdout",
     "output_type": "stream",
     "text": [
      "Max average number of critical violations is 4.231081\n",
      "Min average number of critical violations is 2.124088\n",
      "Average number of critical violations per city \n"
     ]
    },
    {
     "data": {
      "text/plain": [
       "city\n",
       "apex             2.997503\n",
       "cary             3.188666\n",
       "fuquay-varina    4.231081\n",
       "garner           2.356766\n",
       "holly springs    3.665971\n",
       "knightdale       2.413793\n",
       "morrisville      3.530504\n",
       "raleigh          2.674787\n",
       "rolesville       2.124088\n",
       "wake forest      2.309471\n",
       "wendell          2.200000\n",
       "zebulon          2.395161\n",
       "Name: num_critical, dtype: float64"
      ]
     },
     "execution_count": 24,
     "metadata": {},
     "output_type": "execute_result"
    }
   ],
   "source": [
    "# First get the count for each city and determine cities to drop\n",
    "by_city_count = df_inspections.groupby('city').count()['score']\n",
    "drop_city = []\n",
    "for key in by_city_count.keys():\n",
    "    if by_city_count[key] < 100:\n",
    "        drop_city.append(key)\n",
    "\n",
    "# Then use list to drop from the dataframe\n",
    "df_inspections = df_inspections[~df_inspections['city'].isin(drop_city)]\n",
    "\n",
    "# Repeat previous procedure\n",
    "by_city = df_inspections.groupby('city').mean()\n",
    "print(\"Max average number of critical violations is: %f\" %by_city['num_critical'].max())\n",
    "print(\"Min average number of critical violations is: %f\" %by_city['num_critical'].min())\n",
    "print(\"Average number of critical violations per city: \")\n",
    "by_city['num_critical']"
   ]
  },
  {
   "cell_type": "markdown",
   "metadata": {},
   "source": [
    "## TODO - Possibly revisit this conclusion\n",
    "\n",
    "Removing the outliers really narrowed the range of average number of critical violations (from 5.5 to about 1.9), and even amongst the remaining cities there is still a considerable disparity in number of observations, potentially compromising the credibility of the result.\n",
    "\n",
    "Therefore, given the analyses abbove the data available $\\textbf{does not demonstrate any significant relationship between the city a restaurant in North Carolina is located in and its overall sanitary conditions}$"
   ]
  },
  {
   "cell_type": "markdown",
   "metadata": {},
   "source": [
    "### Scores and number of violations per Zip code"
   ]
  },
  {
   "cell_type": "markdown",
   "metadata": {},
   "source": [
    "Not sure if it's worth keeping this section... conclusion will be basically the same. Minimal variabitliy with behavior explained by outliers (IS THIS EVEN TRUE???)"
   ]
  },
  {
   "cell_type": "code",
   "execution_count": 44,
   "metadata": {},
   "outputs": [
    {
     "name": "stdout",
     "output_type": "stream",
     "text": [
      "98.33333333333333\n",
      "93.5\n",
      "7.666666666666667\n",
      "0.5\n"
     ]
    },
    {
     "data": {
      "text/html": [
       "<div>\n",
       "<style scoped>\n",
       "    .dataframe tbody tr th:only-of-type {\n",
       "        vertical-align: middle;\n",
       "    }\n",
       "\n",
       "    .dataframe tbody tr th {\n",
       "        vertical-align: top;\n",
       "    }\n",
       "\n",
       "    .dataframe thead th {\n",
       "        text-align: right;\n",
       "    }\n",
       "</style>\n",
       "<table border=\"1\" class=\"dataframe\">\n",
       "  <thead>\n",
       "    <tr style=\"text-align: right;\">\n",
       "      <th></th>\n",
       "      <th>hsisid</th>\n",
       "      <th>city</th>\n",
       "      <th>score</th>\n",
       "      <th>grade</th>\n",
       "      <th>num_critical</th>\n",
       "      <th>num_non_critical</th>\n",
       "      <th>x</th>\n",
       "      <th>y</th>\n",
       "      <th>geocodestatus</th>\n",
       "    </tr>\n",
       "    <tr>\n",
       "      <th>zip</th>\n",
       "      <th></th>\n",
       "      <th></th>\n",
       "      <th></th>\n",
       "      <th></th>\n",
       "      <th></th>\n",
       "      <th></th>\n",
       "      <th></th>\n",
       "      <th></th>\n",
       "      <th></th>\n",
       "    </tr>\n",
       "  </thead>\n",
       "  <tbody>\n",
       "    <tr>\n",
       "      <th>27502</th>\n",
       "      <td>659</td>\n",
       "      <td>659</td>\n",
       "      <td>659</td>\n",
       "      <td>659</td>\n",
       "      <td>659</td>\n",
       "      <td>659</td>\n",
       "      <td>659</td>\n",
       "      <td>659</td>\n",
       "      <td>659</td>\n",
       "    </tr>\n",
       "    <tr>\n",
       "      <th>27511</th>\n",
       "      <td>1339</td>\n",
       "      <td>1339</td>\n",
       "      <td>1339</td>\n",
       "      <td>1339</td>\n",
       "      <td>1339</td>\n",
       "      <td>1339</td>\n",
       "      <td>1339</td>\n",
       "      <td>1339</td>\n",
       "      <td>1339</td>\n",
       "    </tr>\n",
       "    <tr>\n",
       "      <th>27512</th>\n",
       "      <td>18</td>\n",
       "      <td>18</td>\n",
       "      <td>18</td>\n",
       "      <td>18</td>\n",
       "      <td>18</td>\n",
       "      <td>18</td>\n",
       "      <td>18</td>\n",
       "      <td>18</td>\n",
       "      <td>18</td>\n",
       "    </tr>\n",
       "    <tr>\n",
       "      <th>27513</th>\n",
       "      <td>809</td>\n",
       "      <td>809</td>\n",
       "      <td>809</td>\n",
       "      <td>809</td>\n",
       "      <td>809</td>\n",
       "      <td>809</td>\n",
       "      <td>809</td>\n",
       "      <td>809</td>\n",
       "      <td>809</td>\n",
       "    </tr>\n",
       "    <tr>\n",
       "      <th>27518</th>\n",
       "      <td>344</td>\n",
       "      <td>344</td>\n",
       "      <td>344</td>\n",
       "      <td>344</td>\n",
       "      <td>344</td>\n",
       "      <td>344</td>\n",
       "      <td>344</td>\n",
       "      <td>344</td>\n",
       "      <td>344</td>\n",
       "    </tr>\n",
       "    <tr>\n",
       "      <th>27519</th>\n",
       "      <td>347</td>\n",
       "      <td>347</td>\n",
       "      <td>347</td>\n",
       "      <td>347</td>\n",
       "      <td>347</td>\n",
       "      <td>347</td>\n",
       "      <td>347</td>\n",
       "      <td>347</td>\n",
       "      <td>347</td>\n",
       "    </tr>\n",
       "    <tr>\n",
       "      <th>27520</th>\n",
       "      <td>17</td>\n",
       "      <td>17</td>\n",
       "      <td>17</td>\n",
       "      <td>17</td>\n",
       "      <td>17</td>\n",
       "      <td>17</td>\n",
       "      <td>17</td>\n",
       "      <td>17</td>\n",
       "      <td>17</td>\n",
       "    </tr>\n",
       "    <tr>\n",
       "      <th>27523</th>\n",
       "      <td>73</td>\n",
       "      <td>73</td>\n",
       "      <td>73</td>\n",
       "      <td>73</td>\n",
       "      <td>73</td>\n",
       "      <td>73</td>\n",
       "      <td>73</td>\n",
       "      <td>73</td>\n",
       "      <td>73</td>\n",
       "    </tr>\n",
       "    <tr>\n",
       "      <th>27526</th>\n",
       "      <td>694</td>\n",
       "      <td>694</td>\n",
       "      <td>694</td>\n",
       "      <td>694</td>\n",
       "      <td>694</td>\n",
       "      <td>694</td>\n",
       "      <td>694</td>\n",
       "      <td>694</td>\n",
       "      <td>694</td>\n",
       "    </tr>\n",
       "    <tr>\n",
       "      <th>27529</th>\n",
       "      <td>581</td>\n",
       "      <td>581</td>\n",
       "      <td>581</td>\n",
       "      <td>581</td>\n",
       "      <td>581</td>\n",
       "      <td>581</td>\n",
       "      <td>581</td>\n",
       "      <td>581</td>\n",
       "      <td>581</td>\n",
       "    </tr>\n",
       "    <tr>\n",
       "      <th>27539</th>\n",
       "      <td>148</td>\n",
       "      <td>148</td>\n",
       "      <td>148</td>\n",
       "      <td>148</td>\n",
       "      <td>148</td>\n",
       "      <td>148</td>\n",
       "      <td>148</td>\n",
       "      <td>148</td>\n",
       "      <td>148</td>\n",
       "    </tr>\n",
       "    <tr>\n",
       "      <th>27540</th>\n",
       "      <td>461</td>\n",
       "      <td>461</td>\n",
       "      <td>461</td>\n",
       "      <td>461</td>\n",
       "      <td>461</td>\n",
       "      <td>461</td>\n",
       "      <td>461</td>\n",
       "      <td>461</td>\n",
       "      <td>461</td>\n",
       "    </tr>\n",
       "    <tr>\n",
       "      <th>27545</th>\n",
       "      <td>404</td>\n",
       "      <td>404</td>\n",
       "      <td>404</td>\n",
       "      <td>404</td>\n",
       "      <td>404</td>\n",
       "      <td>404</td>\n",
       "      <td>404</td>\n",
       "      <td>404</td>\n",
       "      <td>404</td>\n",
       "    </tr>\n",
       "    <tr>\n",
       "      <th>27560</th>\n",
       "      <td>736</td>\n",
       "      <td>736</td>\n",
       "      <td>736</td>\n",
       "      <td>736</td>\n",
       "      <td>736</td>\n",
       "      <td>736</td>\n",
       "      <td>736</td>\n",
       "      <td>736</td>\n",
       "      <td>736</td>\n",
       "    </tr>\n",
       "    <tr>\n",
       "      <th>27571</th>\n",
       "      <td>137</td>\n",
       "      <td>137</td>\n",
       "      <td>137</td>\n",
       "      <td>137</td>\n",
       "      <td>137</td>\n",
       "      <td>137</td>\n",
       "      <td>137</td>\n",
       "      <td>137</td>\n",
       "      <td>137</td>\n",
       "    </tr>\n",
       "    <tr>\n",
       "      <th>27573</th>\n",
       "      <td>10</td>\n",
       "      <td>10</td>\n",
       "      <td>10</td>\n",
       "      <td>10</td>\n",
       "      <td>10</td>\n",
       "      <td>10</td>\n",
       "      <td>10</td>\n",
       "      <td>10</td>\n",
       "      <td>10</td>\n",
       "    </tr>\n",
       "    <tr>\n",
       "      <th>27579</th>\n",
       "      <td>7</td>\n",
       "      <td>7</td>\n",
       "      <td>7</td>\n",
       "      <td>7</td>\n",
       "      <td>7</td>\n",
       "      <td>7</td>\n",
       "      <td>7</td>\n",
       "      <td>7</td>\n",
       "      <td>7</td>\n",
       "    </tr>\n",
       "    <tr>\n",
       "      <th>27587</th>\n",
       "      <td>927</td>\n",
       "      <td>927</td>\n",
       "      <td>927</td>\n",
       "      <td>927</td>\n",
       "      <td>927</td>\n",
       "      <td>927</td>\n",
       "      <td>927</td>\n",
       "      <td>927</td>\n",
       "      <td>927</td>\n",
       "    </tr>\n",
       "    <tr>\n",
       "      <th>27591</th>\n",
       "      <td>193</td>\n",
       "      <td>193</td>\n",
       "      <td>193</td>\n",
       "      <td>193</td>\n",
       "      <td>193</td>\n",
       "      <td>193</td>\n",
       "      <td>193</td>\n",
       "      <td>193</td>\n",
       "      <td>193</td>\n",
       "    </tr>\n",
       "    <tr>\n",
       "      <th>27595</th>\n",
       "      <td>6</td>\n",
       "      <td>6</td>\n",
       "      <td>6</td>\n",
       "      <td>6</td>\n",
       "      <td>6</td>\n",
       "      <td>6</td>\n",
       "      <td>6</td>\n",
       "      <td>6</td>\n",
       "      <td>6</td>\n",
       "    </tr>\n",
       "    <tr>\n",
       "      <th>27596</th>\n",
       "      <td>15</td>\n",
       "      <td>15</td>\n",
       "      <td>15</td>\n",
       "      <td>15</td>\n",
       "      <td>15</td>\n",
       "      <td>15</td>\n",
       "      <td>15</td>\n",
       "      <td>15</td>\n",
       "      <td>15</td>\n",
       "    </tr>\n",
       "    <tr>\n",
       "      <th>27597</th>\n",
       "      <td>339</td>\n",
       "      <td>339</td>\n",
       "      <td>339</td>\n",
       "      <td>339</td>\n",
       "      <td>339</td>\n",
       "      <td>339</td>\n",
       "      <td>339</td>\n",
       "      <td>339</td>\n",
       "      <td>339</td>\n",
       "    </tr>\n",
       "    <tr>\n",
       "      <th>27601</th>\n",
       "      <td>654</td>\n",
       "      <td>654</td>\n",
       "      <td>654</td>\n",
       "      <td>654</td>\n",
       "      <td>654</td>\n",
       "      <td>654</td>\n",
       "      <td>654</td>\n",
       "      <td>654</td>\n",
       "      <td>654</td>\n",
       "    </tr>\n",
       "    <tr>\n",
       "      <th>27602</th>\n",
       "      <td>29</td>\n",
       "      <td>29</td>\n",
       "      <td>29</td>\n",
       "      <td>29</td>\n",
       "      <td>29</td>\n",
       "      <td>29</td>\n",
       "      <td>29</td>\n",
       "      <td>29</td>\n",
       "      <td>29</td>\n",
       "    </tr>\n",
       "    <tr>\n",
       "      <th>27603</th>\n",
       "      <td>950</td>\n",
       "      <td>950</td>\n",
       "      <td>950</td>\n",
       "      <td>950</td>\n",
       "      <td>950</td>\n",
       "      <td>950</td>\n",
       "      <td>950</td>\n",
       "      <td>950</td>\n",
       "      <td>950</td>\n",
       "    </tr>\n",
       "    <tr>\n",
       "      <th>27604</th>\n",
       "      <td>880</td>\n",
       "      <td>880</td>\n",
       "      <td>880</td>\n",
       "      <td>880</td>\n",
       "      <td>880</td>\n",
       "      <td>880</td>\n",
       "      <td>880</td>\n",
       "      <td>880</td>\n",
       "      <td>880</td>\n",
       "    </tr>\n",
       "    <tr>\n",
       "      <th>27605</th>\n",
       "      <td>324</td>\n",
       "      <td>324</td>\n",
       "      <td>324</td>\n",
       "      <td>324</td>\n",
       "      <td>324</td>\n",
       "      <td>324</td>\n",
       "      <td>324</td>\n",
       "      <td>324</td>\n",
       "      <td>324</td>\n",
       "    </tr>\n",
       "    <tr>\n",
       "      <th>27606</th>\n",
       "      <td>626</td>\n",
       "      <td>626</td>\n",
       "      <td>626</td>\n",
       "      <td>626</td>\n",
       "      <td>626</td>\n",
       "      <td>626</td>\n",
       "      <td>626</td>\n",
       "      <td>626</td>\n",
       "      <td>626</td>\n",
       "    </tr>\n",
       "    <tr>\n",
       "      <th>27607</th>\n",
       "      <td>820</td>\n",
       "      <td>820</td>\n",
       "      <td>820</td>\n",
       "      <td>820</td>\n",
       "      <td>820</td>\n",
       "      <td>820</td>\n",
       "      <td>820</td>\n",
       "      <td>820</td>\n",
       "      <td>820</td>\n",
       "    </tr>\n",
       "    <tr>\n",
       "      <th>27608</th>\n",
       "      <td>195</td>\n",
       "      <td>195</td>\n",
       "      <td>195</td>\n",
       "      <td>195</td>\n",
       "      <td>195</td>\n",
       "      <td>195</td>\n",
       "      <td>195</td>\n",
       "      <td>195</td>\n",
       "      <td>195</td>\n",
       "    </tr>\n",
       "    <tr>\n",
       "      <th>27609</th>\n",
       "      <td>929</td>\n",
       "      <td>929</td>\n",
       "      <td>929</td>\n",
       "      <td>929</td>\n",
       "      <td>929</td>\n",
       "      <td>929</td>\n",
       "      <td>929</td>\n",
       "      <td>929</td>\n",
       "      <td>929</td>\n",
       "    </tr>\n",
       "    <tr>\n",
       "      <th>27610</th>\n",
       "      <td>852</td>\n",
       "      <td>852</td>\n",
       "      <td>852</td>\n",
       "      <td>852</td>\n",
       "      <td>852</td>\n",
       "      <td>852</td>\n",
       "      <td>852</td>\n",
       "      <td>852</td>\n",
       "      <td>852</td>\n",
       "    </tr>\n",
       "    <tr>\n",
       "      <th>27612</th>\n",
       "      <td>837</td>\n",
       "      <td>837</td>\n",
       "      <td>837</td>\n",
       "      <td>837</td>\n",
       "      <td>837</td>\n",
       "      <td>837</td>\n",
       "      <td>837</td>\n",
       "      <td>837</td>\n",
       "      <td>837</td>\n",
       "    </tr>\n",
       "    <tr>\n",
       "      <th>27613</th>\n",
       "      <td>470</td>\n",
       "      <td>470</td>\n",
       "      <td>470</td>\n",
       "      <td>470</td>\n",
       "      <td>470</td>\n",
       "      <td>470</td>\n",
       "      <td>470</td>\n",
       "      <td>470</td>\n",
       "      <td>470</td>\n",
       "    </tr>\n",
       "    <tr>\n",
       "      <th>27614</th>\n",
       "      <td>482</td>\n",
       "      <td>482</td>\n",
       "      <td>482</td>\n",
       "      <td>482</td>\n",
       "      <td>482</td>\n",
       "      <td>482</td>\n",
       "      <td>482</td>\n",
       "      <td>482</td>\n",
       "      <td>482</td>\n",
       "    </tr>\n",
       "    <tr>\n",
       "      <th>27615</th>\n",
       "      <td>824</td>\n",
       "      <td>824</td>\n",
       "      <td>824</td>\n",
       "      <td>824</td>\n",
       "      <td>824</td>\n",
       "      <td>824</td>\n",
       "      <td>824</td>\n",
       "      <td>824</td>\n",
       "      <td>824</td>\n",
       "    </tr>\n",
       "    <tr>\n",
       "      <th>27616</th>\n",
       "      <td>713</td>\n",
       "      <td>713</td>\n",
       "      <td>713</td>\n",
       "      <td>713</td>\n",
       "      <td>713</td>\n",
       "      <td>713</td>\n",
       "      <td>713</td>\n",
       "      <td>713</td>\n",
       "      <td>713</td>\n",
       "    </tr>\n",
       "    <tr>\n",
       "      <th>27617</th>\n",
       "      <td>404</td>\n",
       "      <td>404</td>\n",
       "      <td>404</td>\n",
       "      <td>404</td>\n",
       "      <td>404</td>\n",
       "      <td>404</td>\n",
       "      <td>404</td>\n",
       "      <td>404</td>\n",
       "      <td>404</td>\n",
       "    </tr>\n",
       "    <tr>\n",
       "      <th>27619</th>\n",
       "      <td>1</td>\n",
       "      <td>1</td>\n",
       "      <td>1</td>\n",
       "      <td>1</td>\n",
       "      <td>1</td>\n",
       "      <td>1</td>\n",
       "      <td>1</td>\n",
       "      <td>1</td>\n",
       "      <td>1</td>\n",
       "    </tr>\n",
       "    <tr>\n",
       "      <th>27624</th>\n",
       "      <td>5</td>\n",
       "      <td>5</td>\n",
       "      <td>5</td>\n",
       "      <td>5</td>\n",
       "      <td>5</td>\n",
       "      <td>5</td>\n",
       "      <td>5</td>\n",
       "      <td>5</td>\n",
       "      <td>5</td>\n",
       "    </tr>\n",
       "    <tr>\n",
       "      <th>27628</th>\n",
       "      <td>6</td>\n",
       "      <td>6</td>\n",
       "      <td>6</td>\n",
       "      <td>6</td>\n",
       "      <td>6</td>\n",
       "      <td>6</td>\n",
       "      <td>6</td>\n",
       "      <td>6</td>\n",
       "      <td>6</td>\n",
       "    </tr>\n",
       "    <tr>\n",
       "      <th>27650</th>\n",
       "      <td>4</td>\n",
       "      <td>4</td>\n",
       "      <td>4</td>\n",
       "      <td>4</td>\n",
       "      <td>4</td>\n",
       "      <td>4</td>\n",
       "      <td>4</td>\n",
       "      <td>4</td>\n",
       "      <td>4</td>\n",
       "    </tr>\n",
       "    <tr>\n",
       "      <th>27652</th>\n",
       "      <td>8</td>\n",
       "      <td>8</td>\n",
       "      <td>8</td>\n",
       "      <td>8</td>\n",
       "      <td>8</td>\n",
       "      <td>8</td>\n",
       "      <td>8</td>\n",
       "      <td>8</td>\n",
       "      <td>8</td>\n",
       "    </tr>\n",
       "    <tr>\n",
       "      <th>27695</th>\n",
       "      <td>130</td>\n",
       "      <td>130</td>\n",
       "      <td>130</td>\n",
       "      <td>130</td>\n",
       "      <td>130</td>\n",
       "      <td>130</td>\n",
       "      <td>130</td>\n",
       "      <td>130</td>\n",
       "      <td>130</td>\n",
       "    </tr>\n",
       "    <tr>\n",
       "      <th>27709</th>\n",
       "      <td>6</td>\n",
       "      <td>6</td>\n",
       "      <td>6</td>\n",
       "      <td>6</td>\n",
       "      <td>6</td>\n",
       "      <td>6</td>\n",
       "      <td>6</td>\n",
       "      <td>6</td>\n",
       "      <td>6</td>\n",
       "    </tr>\n",
       "    <tr>\n",
       "      <th>28145</th>\n",
       "      <td>3</td>\n",
       "      <td>3</td>\n",
       "      <td>3</td>\n",
       "      <td>3</td>\n",
       "      <td>3</td>\n",
       "      <td>3</td>\n",
       "      <td>3</td>\n",
       "      <td>3</td>\n",
       "      <td>3</td>\n",
       "    </tr>\n",
       "    <tr>\n",
       "      <th>28587</th>\n",
       "      <td>2</td>\n",
       "      <td>2</td>\n",
       "      <td>2</td>\n",
       "      <td>2</td>\n",
       "      <td>2</td>\n",
       "      <td>2</td>\n",
       "      <td>2</td>\n",
       "      <td>2</td>\n",
       "      <td>2</td>\n",
       "    </tr>\n",
       "  </tbody>\n",
       "</table>\n",
       "</div>"
      ],
      "text/plain": [
       "       hsisid  city  score  grade  num_critical  num_non_critical     x     y  \\\n",
       "zip                                                                             \n",
       "27502     659   659    659    659           659               659   659   659   \n",
       "27511    1339  1339   1339   1339          1339              1339  1339  1339   \n",
       "27512      18    18     18     18            18                18    18    18   \n",
       "27513     809   809    809    809           809               809   809   809   \n",
       "27518     344   344    344    344           344               344   344   344   \n",
       "27519     347   347    347    347           347               347   347   347   \n",
       "27520      17    17     17     17            17                17    17    17   \n",
       "27523      73    73     73     73            73                73    73    73   \n",
       "27526     694   694    694    694           694               694   694   694   \n",
       "27529     581   581    581    581           581               581   581   581   \n",
       "27539     148   148    148    148           148               148   148   148   \n",
       "27540     461   461    461    461           461               461   461   461   \n",
       "27545     404   404    404    404           404               404   404   404   \n",
       "27560     736   736    736    736           736               736   736   736   \n",
       "27571     137   137    137    137           137               137   137   137   \n",
       "27573      10    10     10     10            10                10    10    10   \n",
       "27579       7     7      7      7             7                 7     7     7   \n",
       "27587     927   927    927    927           927               927   927   927   \n",
       "27591     193   193    193    193           193               193   193   193   \n",
       "27595       6     6      6      6             6                 6     6     6   \n",
       "27596      15    15     15     15            15                15    15    15   \n",
       "27597     339   339    339    339           339               339   339   339   \n",
       "27601     654   654    654    654           654               654   654   654   \n",
       "27602      29    29     29     29            29                29    29    29   \n",
       "27603     950   950    950    950           950               950   950   950   \n",
       "27604     880   880    880    880           880               880   880   880   \n",
       "27605     324   324    324    324           324               324   324   324   \n",
       "27606     626   626    626    626           626               626   626   626   \n",
       "27607     820   820    820    820           820               820   820   820   \n",
       "27608     195   195    195    195           195               195   195   195   \n",
       "27609     929   929    929    929           929               929   929   929   \n",
       "27610     852   852    852    852           852               852   852   852   \n",
       "27612     837   837    837    837           837               837   837   837   \n",
       "27613     470   470    470    470           470               470   470   470   \n",
       "27614     482   482    482    482           482               482   482   482   \n",
       "27615     824   824    824    824           824               824   824   824   \n",
       "27616     713   713    713    713           713               713   713   713   \n",
       "27617     404   404    404    404           404               404   404   404   \n",
       "27619       1     1      1      1             1                 1     1     1   \n",
       "27624       5     5      5      5             5                 5     5     5   \n",
       "27628       6     6      6      6             6                 6     6     6   \n",
       "27650       4     4      4      4             4                 4     4     4   \n",
       "27652       8     8      8      8             8                 8     8     8   \n",
       "27695     130   130    130    130           130               130   130   130   \n",
       "27709       6     6      6      6             6                 6     6     6   \n",
       "28145       3     3      3      3             3                 3     3     3   \n",
       "28587       2     2      2      2             2                 2     2     2   \n",
       "\n",
       "       geocodestatus  \n",
       "zip                   \n",
       "27502            659  \n",
       "27511           1339  \n",
       "27512             18  \n",
       "27513            809  \n",
       "27518            344  \n",
       "27519            347  \n",
       "27520             17  \n",
       "27523             73  \n",
       "27526            694  \n",
       "27529            581  \n",
       "27539            148  \n",
       "27540            461  \n",
       "27545            404  \n",
       "27560            736  \n",
       "27571            137  \n",
       "27573             10  \n",
       "27579              7  \n",
       "27587            927  \n",
       "27591            193  \n",
       "27595              6  \n",
       "27596             15  \n",
       "27597            339  \n",
       "27601            654  \n",
       "27602             29  \n",
       "27603            950  \n",
       "27604            880  \n",
       "27605            324  \n",
       "27606            626  \n",
       "27607            820  \n",
       "27608            195  \n",
       "27609            929  \n",
       "27610            852  \n",
       "27612            837  \n",
       "27613            470  \n",
       "27614            482  \n",
       "27615            824  \n",
       "27616            713  \n",
       "27617            404  \n",
       "27619              1  \n",
       "27624              5  \n",
       "27628              6  \n",
       "27650              4  \n",
       "27652              8  \n",
       "27695            130  \n",
       "27709              6  \n",
       "28145              3  \n",
       "28587              2  "
      ]
     },
     "execution_count": 44,
     "metadata": {},
     "output_type": "execute_result"
    }
   ],
   "source": [
    "by_zip = df_inspections.groupby('zip').mean()\n",
    "print(by_zip['score'].max())\n",
    "print(by_zip['score'].min())\n",
    "print(by_zip['num_critical'].max())\n",
    "print(by_zip['num_critical'].min())\n",
    "by_zip['num_critical']\n",
    "df_inspections.groupby('zip').count()"
   ]
  },
  {
   "cell_type": "code",
   "execution_count": 46,
   "metadata": {},
   "outputs": [
    {
     "name": "stdout",
     "output_type": "stream",
     "text": [
      "Max average number of critical violations is: 4.368356\n",
      "Min average number of critical violations is: 1.707692\n",
      "Average number of critical violations per city: \n"
     ]
    },
    {
     "data": {
      "text/plain": [
       "zip\n",
       "27502    2.972686\n",
       "27511    2.910381\n",
       "27513    4.368356\n",
       "27518    1.924419\n",
       "27519    2.772334\n",
       "27526    4.299712\n",
       "27529    2.395869\n",
       "27539    3.141892\n",
       "27540    3.657267\n",
       "27545    2.445545\n",
       "27560    3.561141\n",
       "27571    2.124088\n",
       "27587    2.307443\n",
       "27591    2.186528\n",
       "27597    2.401180\n",
       "27601    2.766055\n",
       "27603    3.225263\n",
       "27604    3.017045\n",
       "27605    2.743827\n",
       "27606    1.928115\n",
       "27607    2.679268\n",
       "27608    2.261538\n",
       "27609    2.904198\n",
       "27610    2.535211\n",
       "27612    3.394265\n",
       "27613    2.638298\n",
       "27614    1.748963\n",
       "27615    2.103155\n",
       "27616    2.116410\n",
       "27617    3.779703\n",
       "27695    1.707692\n",
       "Name: num_critical, dtype: float64"
      ]
     },
     "execution_count": 46,
     "metadata": {},
     "output_type": "execute_result"
    }
   ],
   "source": [
    "# First get the count for each city and determine cities to drop\n",
    "by_zip_count = df_inspections.groupby('zip').count()['score']\n",
    "drop_zip = []\n",
    "for key in by_zip_count.keys():\n",
    "    if by_zip_count[key] < 100:\n",
    "        drop_zip.append(key)\n",
    "\n",
    "# Then use list to drop from the dataframe\n",
    "df_temp = df_inspections[~df_inspections['zip'].isin(drop_zip)]\n",
    "\n",
    "# Repeat previous procedure\n",
    "by_zip = df_temp.groupby('zip').mean()\n",
    "print(\"Max average number of critical violations is: %f\" %by_zip['num_critical'].max())\n",
    "print(\"Min average number of critical violations is: %f\" %by_zip['num_critical'].min())\n",
    "print(\"Average number of critical violations per city: \")\n",
    "by_city['num_critical']"
   ]
  },
  {
   "cell_type": "markdown",
   "metadata": {},
   "source": [
    "### Predicting score and number of violations based on coordinate location"
   ]
  },
  {
   "cell_type": "markdown",
   "metadata": {},
   "source": [
    "One last way to assess the impact of location in restaurants' sanitary conditions is to look at similarity in results among restaurants that are close together based on their actual geographical proxmity, using the X and Y coordinates from the dataset. To do so, we can use K-Nearest Neighbor regression models to predict restaraunt scores/number of critical violations, splitting the data into train and test, then use MSe on the test predictions to assess the efficiency of the models."
   ]
  },
  {
   "cell_type": "code",
   "execution_count": 104,
   "metadata": {},
   "outputs": [
    {
     "data": {
      "image/png": "[encoded data removed]",
      "text/plain": [
       "<Figure size 432x288 with 1 Axes>"
      ]
     },
     "metadata": {
      "needs_background": "light"
     },
     "output_type": "display_data"
    },
    {
     "name": "stdout",
     "output_type": "stream",
     "text": [
      "5.261377351472517\n"
     ]
    }
   ],
   "source": [
    "# First shuffle dataframe in case observations are in some location-related order\n",
    "df_inspections_shuffled = df_inspections.sample(frac=1)\n",
    "\n",
    "# Extract relevant columns\n",
    "X_coords = df_inspections_shuffled['x'].tolist()\n",
    "Y_coords = df_inspections_shuffled['y'].tolist()\n",
    "zip_codes = df_inspections_shuffled['zip'].tolist()\n",
    "scores = df_inspections_shuffled['score'].tolist()\n",
    "num_critical = df_inspections_shuffled['num_critical'].tolist()\n",
    "\n",
    "# 80/20 split for train and test\n",
    "train_len = int(0.8 * len(X_coords))\n",
    "X_train = X_coords[:train_len]\n",
    "X_test = X_coords[train_len:]\n",
    "Y_train = Y_coords[:train_len]\n",
    "Y_test = Y_coords[train_len:]\n",
    "zip_train = zip_codes[:train_len]\n",
    "zip_test = zip_codes[train_len:]\n",
    "train_score = scores[:train_len]\n",
    "test_score = scores[train_len:]\n",
    "train_num_critical = num_critical[:train_len]\n",
    "test_num_critical = num_critical[train_len:]\n",
    "\n",
    "# Separating into test and train array\n",
    "train_array = []\n",
    "for i in range(0,len(X_train)):\n",
    "    train_array.append([X_train[i],Y_train[i]])\n",
    "    \n",
    "test_array = []\n",
    "for i in range(0,len(X_test)):\n",
    "    test_array.append([X_test[i],Y_test[i]])\n",
    "    \n",
    "# Training, predicting, and evaluating results\n",
    "KNN = KNeighborsRegressor(weights='distance')\n",
    "KNN.fit(train_array,train_score)\n",
    "score_prediction = KNN.predict(test_array)\n",
    "\n",
    "X = np.arange(0,len(test_score))\n",
    "plt.scatter(X, test_score, color='darkorange', label='data')\n",
    "plt.plot(X, score_prediction, color='navy', label='prediction')\n",
    "plt.axis('tight')\n",
    "\n",
    "plt.show()\n",
    "\n",
    "print(mean_squared_error(test_score,score_prediction))\n",
    "\n",
    "\n",
    "\n",
    "\n",
    "\n",
    "\n",
    "\n"
   ]
  },
  {
   "cell_type": "code",
   "execution_count": 105,
   "metadata": {},
   "outputs": [
    {
     "data": {
      "image/png": "[encoded data removed]",
      "text/plain": [
       "<Figure size 432x288 with 1 Axes>"
      ]
     },
     "metadata": {
      "needs_background": "light"
     },
     "output_type": "display_data"
    },
    {
     "name": "stdout",
     "output_type": "stream",
     "text": [
      "7.024498627052084\n"
     ]
    }
   ],
   "source": [
    "KNN = KNeighborsRegressor(weights='distance')\n",
    "KNN.fit(train_array,train_num_critical)\n",
    "num_critical_prediction = KNN.predict(test_array)\n",
    "\n",
    "plt.scatter(X, test_num_critical, color='darkorange', label='data')\n",
    "plt.plot(X, num_critical_prediction, color='navy', label='prediction')\n",
    "plt.axis('tight')\n",
    "\n",
    "plt.show()\n",
    "\n",
    "\n",
    "print(mean_squared_error(test_num_critical,num_critical_prediction))"
   ]
  },
  {
   "cell_type": "markdown",
   "metadata": {},
   "source": [
    "To help quantify the significance of the above data, we can compare to the performance of a model that randomly guesses a number within the range that most of the data lies (94-100 for score and 0-10 for number of critical violations)"
   ]
  },
  {
   "cell_type": "code",
   "execution_count": 83,
   "metadata": {},
   "outputs": [
    {
     "name": "stdout",
     "output_type": "stream",
     "text": [
      "12.15221226927253\n"
     ]
    }
   ],
   "source": [
    "random_scores = []\n",
    "for i in range(0,len(test_score)):\n",
    "    random_scores.append(random.randint(94,100))\n",
    "    \n",
    "print(mean_squared_error(test_score,random_scores))"
   ]
  },
  {
   "cell_type": "code",
   "execution_count": 85,
   "metadata": {},
   "outputs": [
    {
     "name": "stdout",
     "output_type": "stream",
     "text": [
      "21.83469055374593\n"
     ]
    }
   ],
   "source": [
    "random_num_critical = []\n",
    "for i in range(0,len(test_num_critical)):\n",
    "    random_num_critical.append(random.randint(0,10))\n",
    "    \n",
    "print(mean_squared_error(test_num_critical,random_num_critical))"
   ]
  },
  {
   "cell_type": "markdown",
   "metadata": {},
   "source": [
    "Better than random... what now?"
   ]
  },
  {
   "cell_type": "markdown",
   "metadata": {},
   "source": [
    "### Investigating impact of socio-economic indicators"
   ]
  },
  {
   "cell_type": "markdown",
   "metadata": {},
   "source": [
    "Some introduction here"
   ]
  },
  {
   "cell_type": "code",
   "execution_count": 113,
   "metadata": {},
   "outputs": [
    {
     "data": {
      "text/html": [
       "<div>\n",
       "<style scoped>\n",
       "    .dataframe tbody tr th:only-of-type {\n",
       "        vertical-align: middle;\n",
       "    }\n",
       "\n",
       "    .dataframe tbody tr th {\n",
       "        vertical-align: top;\n",
       "    }\n",
       "\n",
       "    .dataframe thead th {\n",
       "        text-align: right;\n",
       "    }\n",
       "</style>\n",
       "<table border=\"1\" class=\"dataframe\">\n",
       "  <thead>\n",
       "    <tr style=\"text-align: right;\">\n",
       "      <th></th>\n",
       "      <th>hsisid</th>\n",
       "      <th>city</th>\n",
       "      <th>score</th>\n",
       "      <th>grade</th>\n",
       "      <th>num_critical</th>\n",
       "      <th>num_non_critical</th>\n",
       "      <th>x</th>\n",
       "      <th>y</th>\n",
       "      <th>geocodestatus</th>\n",
       "      <th>median_household_income_dollars</th>\n",
       "      <th>per_capita_income_dollars</th>\n",
       "      <th>percent_families_below_poverty_line</th>\n",
       "    </tr>\n",
       "    <tr>\n",
       "      <th>zip</th>\n",
       "      <th></th>\n",
       "      <th></th>\n",
       "      <th></th>\n",
       "      <th></th>\n",
       "      <th></th>\n",
       "      <th></th>\n",
       "      <th></th>\n",
       "      <th></th>\n",
       "      <th></th>\n",
       "      <th></th>\n",
       "      <th></th>\n",
       "      <th></th>\n",
       "    </tr>\n",
       "  </thead>\n",
       "  <tbody>\n",
       "    <tr>\n",
       "      <th>27502</th>\n",
       "      <td>4092015179</td>\n",
       "      <td>apex</td>\n",
       "      <td>99.0</td>\n",
       "      <td>A</td>\n",
       "      <td>6</td>\n",
       "      <td>6</td>\n",
       "      <td>-78.840340</td>\n",
       "      <td>35.717045</td>\n",
       "      <td>M</td>\n",
       "      <td>95857.0</td>\n",
       "      <td>36763.0</td>\n",
       "      <td>3.4</td>\n",
       "    </tr>\n",
       "    <tr>\n",
       "      <th>27502</th>\n",
       "      <td>4092050026</td>\n",
       "      <td>apex</td>\n",
       "      <td>96.5</td>\n",
       "      <td>A</td>\n",
       "      <td>5</td>\n",
       "      <td>7</td>\n",
       "      <td>-78.874646</td>\n",
       "      <td>35.724399</td>\n",
       "      <td>M</td>\n",
       "      <td>95857.0</td>\n",
       "      <td>36763.0</td>\n",
       "      <td>3.4</td>\n",
       "    </tr>\n",
       "    <tr>\n",
       "      <th>27502</th>\n",
       "      <td>4092020999</td>\n",
       "      <td>apex</td>\n",
       "      <td>97.0</td>\n",
       "      <td>A</td>\n",
       "      <td>8</td>\n",
       "      <td>3</td>\n",
       "      <td>-78.877707</td>\n",
       "      <td>35.759649</td>\n",
       "      <td>M</td>\n",
       "      <td>95857.0</td>\n",
       "      <td>36763.0</td>\n",
       "      <td>3.4</td>\n",
       "    </tr>\n",
       "    <tr>\n",
       "      <th>27502</th>\n",
       "      <td>4092300175</td>\n",
       "      <td>apex</td>\n",
       "      <td>98.0</td>\n",
       "      <td>A</td>\n",
       "      <td>7</td>\n",
       "      <td>4</td>\n",
       "      <td>-78.877707</td>\n",
       "      <td>35.759649</td>\n",
       "      <td>M</td>\n",
       "      <td>95857.0</td>\n",
       "      <td>36763.0</td>\n",
       "      <td>3.4</td>\n",
       "    </tr>\n",
       "    <tr>\n",
       "      <th>27502</th>\n",
       "      <td>4092012834</td>\n",
       "      <td>apex</td>\n",
       "      <td>95.0</td>\n",
       "      <td>A</td>\n",
       "      <td>11</td>\n",
       "      <td>7</td>\n",
       "      <td>-78.840629</td>\n",
       "      <td>35.715928</td>\n",
       "      <td>M</td>\n",
       "      <td>95857.0</td>\n",
       "      <td>36763.0</td>\n",
       "      <td>3.4</td>\n",
       "    </tr>\n",
       "  </tbody>\n",
       "</table>\n",
       "</div>"
      ],
      "text/plain": [
       "           hsisid  city  score grade  num_critical  num_non_critical  \\\n",
       "zip                                                                    \n",
       "27502  4092015179  apex   99.0     A             6                 6   \n",
       "27502  4092050026  apex   96.5     A             5                 7   \n",
       "27502  4092020999  apex   97.0     A             8                 3   \n",
       "27502  4092300175  apex   98.0     A             7                 4   \n",
       "27502  4092012834  apex   95.0     A            11                 7   \n",
       "\n",
       "               x          y geocodestatus  median_household_income_dollars  \\\n",
       "zip                                                                          \n",
       "27502 -78.840340  35.717045             M                          95857.0   \n",
       "27502 -78.874646  35.724399             M                          95857.0   \n",
       "27502 -78.877707  35.759649             M                          95857.0   \n",
       "27502 -78.877707  35.759649             M                          95857.0   \n",
       "27502 -78.840629  35.715928             M                          95857.0   \n",
       "\n",
       "       per_capita_income_dollars  percent_families_below_poverty_line  \n",
       "zip                                                                    \n",
       "27502                    36763.0                                  3.4  \n",
       "27502                    36763.0                                  3.4  \n",
       "27502                    36763.0                                  3.4  \n",
       "27502                    36763.0                                  3.4  \n",
       "27502                    36763.0                                  3.4  "
      ]
     },
     "execution_count": 113,
     "metadata": {},
     "output_type": "execute_result"
    }
   ],
   "source": [
    "df_joined = df_inspections.set_index('zip').join(other=df_zipcodes.set_index('zip'))\n",
    "df_joined.head()"
   ]
  },
  {
   "cell_type": "markdown",
   "metadata": {},
   "source": [
    "# Ethics & Privacy"
   ]
  },
  {
   "cell_type": "markdown",
   "metadata": {},
   "source": [
    "*Fill in your ethics & privacy discussion here*"
   ]
  },
  {
   "cell_type": "markdown",
   "metadata": {},
   "source": [
    "# Conclusion & Discussion"
   ]
  },
  {
   "cell_type": "markdown",
   "metadata": {},
   "source": [
    "*Fill in your discussion information here*"
   ]
  }
 ],
 "metadata": {
  "kernelspec": {
   "display_name": "Python 3",
   "language": "python",
   "name": "python3"
  },
  "language_info": {
   "codemirror_mode": {
    "name": "ipython",
    "version": 3
   },
   "file_extension": ".py",
   "mimetype": "text/x-python",
   "name": "python",
   "nbconvert_exporter": "python",
   "pygments_lexer": "ipython3",
   "version": "3.7.1"
  }
 },
 "nbformat": 4,
 "nbformat_minor": 2
}
