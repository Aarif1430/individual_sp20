{
 "cells": [
  {
   "cell_type": "markdown",
   "metadata": {},
   "source": [
    "# COGS 108 - Final Project "
   ]
  },
  {
   "cell_type": "markdown",
   "metadata": {},
   "source": [
    "# Overview"
   ]
  },
  {
   "cell_type": "markdown",
   "metadata": {},
   "source": [
    "*In this project, I am mostly interested in predicting rating of a restaurant using inspection data and yelp data collected previously. The research question and hypothesis both suggests that the project will be focusing on exploring the relationship between rating of a restaurant and all the factors that shape it as well as how to predict rating given these data. The project follows the process of exploring the data, summarizing results, and building models.*"
   ]
  },
  {
   "cell_type": "markdown",
   "metadata": {},
   "source": [
    "# Name & GitHub\n",
    "\n",
    "- Name: Haibo Li\n",
    "- GitHub Username: Haibo3939"
   ]
  },
  {
   "cell_type": "markdown",
   "metadata": {},
   "source": [
    "# Research Question"
   ]
  },
  {
   "cell_type": "markdown",
   "metadata": {},
   "source": [
    "*How do we predict the rating of each restaurant using yelp data and the inspection score?*"
   ]
  },
  {
   "cell_type": "markdown",
   "metadata": {},
   "source": [
    "## Background and Prior Work"
   ]
  },
  {
   "cell_type": "markdown",
   "metadata": {},
   "source": [
    "\n",
    "- 1) There are 18 cities with more than 13, 800 permanent retail food facilities in San Diego County, including voer 8,100 restaurants.\n",
    "- 2) Grading system:\n",
    "    - a) Each violation on Food Inspection Report is assigned a point value depending on its importance.\n",
    "    - b) Once the Specialist completes an inspection, the points are added up and subtracted from 100. The resulting number is the inspection \"score\"\n",
    "    - c) A letter grade is assigned to the facility based on the inspection score. An \"A\" grade means the facility earned a score of 90 to 100 percent and is in satidfactory compliance with state law; a \"B\" means the facility earned a score of 80 to 89 percent and needs improvement; a \"C\" means the facility earned a score of 79 percent or less and is a failing grade.\n",
    "    - d) The grade card must be displayed nead the public entrance during hours of operation.\n",
    "- 3) What is the inspector looking for?\n",
    "    - a) Food contamination\n",
    "    - b) Temperature control\n",
    "    - c) Hygiene\n",
    "    - d) General cleanliness\n",
    "    - e) Health\n",
    "- 4) Food-borne illness affects an estimated 48 million Americans each year, reulting in 3,000 deaths and the hospitalization of 128,000 people, according to the Centers for Disease Control and Prevention (CDC). Food-borne illness in the U.S. is enormously costly, lost productivity, and lost wages, not to mention litigation expenses.\n",
    "\n",
    "References (include links):\n",
    "- 1) https://www.sandiegocounty.gov/content/sdc/deh/fhd/food/food.html\n",
    "- 2) https://www.sandiegocounty.gov/content/sdc/deh/fhd/food/food.html\n",
    "- 3) https://blog.typsy.com/how-do-health-inspections-work\n",
    "- 4) https://hbr.org/2019/05/to-improve-food-inspections-change-the-way-theyre-scheduled"
   ]
  },
  {
   "cell_type": "markdown",
   "metadata": {},
   "source": [
    "# Hypothesis\n"
   ]
  },
  {
   "cell_type": "markdown",
   "metadata": {},
   "source": [
    "*There is a linear relationship between ratings and inspection scores so that it is reasonable to predict ratings based on inspection scores.*"
   ]
  },
  {
   "cell_type": "markdown",
   "metadata": {},
   "source": [
    "# Dataset(s)"
   ]
  },
  {
   "cell_type": "markdown",
   "metadata": {},
   "source": [
    "- Dataset Name: inspections (data/inspections.csv)\n",
    "- Link to the dataset: In the health inspection datasets\n",
    "- Number of observations: 18466 observations\n",
    "\n",
    "The inspections dataset includes the both the restaurant information and the inspection information and score for each restaurant. The restaurant information includes the names, locations, etc. The inspection information includes the inspection history, and specified sores and critical issue counts。"
   ]
  },
  {
   "cell_type": "markdown",
   "metadata": {},
   "source": [
    "- Dataset Name: yelp (data/yelp.csv)\n",
    "- Link to the dataset: In the health inspection datasets\n",
    "- Number of observations: 3688\n",
    "\n",
    "The yelp datset includes the category, price, and rating of each restaurants. Locations are also included, and we are using locations (latitude and longitude) to merge two datasets."
   ]
  },
  {
   "cell_type": "markdown",
   "metadata": {},
   "source": [
    "- Combinations of two datasets:\n",
    "    - Number of observations: 425\n",
    "    - Merge logic: both the datasets contain the latitude and longitude of restaurants. We are using this share information to combine them."
   ]
  },
  {
   "cell_type": "markdown",
   "metadata": {},
   "source": [
    "# Setup"
   ]
  },
  {
   "cell_type": "code",
   "execution_count": 218,
   "metadata": {},
   "outputs": [],
   "source": [
    "import numpy as np\n",
    "import pandas as pd\n",
    "import os\n",
    "import seaborn as sns\n",
    "sns.set()\n",
    "sns.set_context('talk')\n",
    "import matplotlib.pyplot as plt\n",
    "\n",
    "%matplotlib inline\n",
    "%config InlineBackend.figure_format = 'retina'  # Higher resolution figures\n",
    "\n",
    "from sklearn.tree import DecisionTreeClassifier\n",
    "from sklearn.model_selection import train_test_split\n",
    "from sklearn.model_selection import GridSearchCV\n",
    "from sklearn.decomposition import PCA\n",
    "from sklearn.linear_model import LinearRegression\n",
    "from sklearn.preprocessing import OneHotEncoder\n",
    "\n",
    "from sklearn.pipeline import Pipeline\n",
    "from sklearn.compose import ColumnTransformer\n",
    "from sklearn.preprocessing import FunctionTransformer\n",
    "from sklearn.impute import SimpleImputer\n",
    "from sklearn.ensemble import RandomForestRegressor\n",
    "from sklearn.model_selection import GridSearchCV\n",
    "from sklearn.tree import DecisionTreeRegressor"
   ]
  },
  {
   "cell_type": "code",
   "execution_count": 39,
   "metadata": {},
   "outputs": [],
   "source": [
    "# store inspections.csv into pandas dataframe, inspections\n",
    "fp_insp = os.path.join('data', 'inspections.csv')\n",
    "inspections = pd.read_csv(fp_insp)\n",
    "# store yelp.csv into pandas dataframe, yelp\n",
    "fp_yelp = os.path.join('data', 'yelp.csv')\n",
    "yelp = pd.read_csv(fp_yelp)"
   ]
  },
  {
   "cell_type": "code",
   "execution_count": 40,
   "metadata": {},
   "outputs": [
    {
     "data": {
      "text/html": [
       "<div>\n",
       "<style scoped>\n",
       "    .dataframe tbody tr th:only-of-type {\n",
       "        vertical-align: middle;\n",
       "    }\n",
       "\n",
       "    .dataframe tbody tr th {\n",
       "        vertical-align: top;\n",
       "    }\n",
       "\n",
       "    .dataframe thead th {\n",
       "        text-align: right;\n",
       "    }\n",
       "</style>\n",
       "<table border=\"1\" class=\"dataframe\">\n",
       "  <thead>\n",
       "    <tr style=\"text-align: right;\">\n",
       "      <th></th>\n",
       "      <th>hsisid</th>\n",
       "      <th>date</th>\n",
       "      <th>name</th>\n",
       "      <th>address1</th>\n",
       "      <th>address2</th>\n",
       "      <th>city</th>\n",
       "      <th>state</th>\n",
       "      <th>postalcode</th>\n",
       "      <th>phonenumber</th>\n",
       "      <th>restaurantopendate</th>\n",
       "      <th>...</th>\n",
       "      <th>num_non_critical</th>\n",
       "      <th>num_critical_previous</th>\n",
       "      <th>num_non_critical_previous</th>\n",
       "      <th>num_critical_mean_previous</th>\n",
       "      <th>num_non_critical_mean_previous</th>\n",
       "      <th>avg_neighbor_num_critical</th>\n",
       "      <th>avg_neighbor_num_non_critical</th>\n",
       "      <th>top_match</th>\n",
       "      <th>second_match</th>\n",
       "      <th>critical</th>\n",
       "    </tr>\n",
       "  </thead>\n",
       "  <tbody>\n",
       "    <tr>\n",
       "      <td>0</td>\n",
       "      <td>4092013748</td>\n",
       "      <td>2012-09-21T00:00:00Z</td>\n",
       "      <td>Cafe 3000 At Wake Med</td>\n",
       "      <td>3000 New Bern Ave</td>\n",
       "      <td>NaN</td>\n",
       "      <td>raleigh</td>\n",
       "      <td>NC</td>\n",
       "      <td>27610</td>\n",
       "      <td>(919) 350-8047</td>\n",
       "      <td>2002-12-21T00:00:00Z</td>\n",
       "      <td>...</td>\n",
       "      <td>7</td>\n",
       "      <td>NaN</td>\n",
       "      <td>NaN</td>\n",
       "      <td>NaN</td>\n",
       "      <td>NaN</td>\n",
       "      <td>NaN</td>\n",
       "      <td>NaN</td>\n",
       "      <td>NaN</td>\n",
       "      <td>NaN</td>\n",
       "      <td>1</td>\n",
       "    </tr>\n",
       "    <tr>\n",
       "      <td>1</td>\n",
       "      <td>4092014046</td>\n",
       "      <td>2012-09-21T00:00:00Z</td>\n",
       "      <td>Overtime Sports Pub</td>\n",
       "      <td>1030-149 N Rogers Ln</td>\n",
       "      <td>NaN</td>\n",
       "      <td>raleigh</td>\n",
       "      <td>NC</td>\n",
       "      <td>27610</td>\n",
       "      <td>(919) 255-9556</td>\n",
       "      <td>2004-05-04T00:00:00Z</td>\n",
       "      <td>...</td>\n",
       "      <td>11</td>\n",
       "      <td>NaN</td>\n",
       "      <td>NaN</td>\n",
       "      <td>NaN</td>\n",
       "      <td>NaN</td>\n",
       "      <td>NaN</td>\n",
       "      <td>NaN</td>\n",
       "      <td>NaN</td>\n",
       "      <td>NaN</td>\n",
       "      <td>0</td>\n",
       "    </tr>\n",
       "    <tr>\n",
       "      <td>2</td>\n",
       "      <td>4092015191</td>\n",
       "      <td>2012-09-21T00:00:00Z</td>\n",
       "      <td>TASTE OF CHINA</td>\n",
       "      <td>6209 ROCK QUARRY RD</td>\n",
       "      <td>STE 126</td>\n",
       "      <td>raleigh</td>\n",
       "      <td>NC</td>\n",
       "      <td>27610</td>\n",
       "      <td>(919) 773-2285</td>\n",
       "      <td>2008-08-04T00:00:00Z</td>\n",
       "      <td>...</td>\n",
       "      <td>8</td>\n",
       "      <td>NaN</td>\n",
       "      <td>NaN</td>\n",
       "      <td>NaN</td>\n",
       "      <td>NaN</td>\n",
       "      <td>NaN</td>\n",
       "      <td>NaN</td>\n",
       "      <td>NaN</td>\n",
       "      <td>NaN</td>\n",
       "      <td>1</td>\n",
       "    </tr>\n",
       "    <tr>\n",
       "      <td>3</td>\n",
       "      <td>4092016122</td>\n",
       "      <td>2012-09-21T00:00:00Z</td>\n",
       "      <td>Panera Bread #1643</td>\n",
       "      <td>1065 Darrington DR</td>\n",
       "      <td>NaN</td>\n",
       "      <td>cary</td>\n",
       "      <td>NC</td>\n",
       "      <td>27513</td>\n",
       "      <td>NaN</td>\n",
       "      <td>2012-03-28T00:00:00Z</td>\n",
       "      <td>...</td>\n",
       "      <td>3</td>\n",
       "      <td>NaN</td>\n",
       "      <td>NaN</td>\n",
       "      <td>NaN</td>\n",
       "      <td>NaN</td>\n",
       "      <td>NaN</td>\n",
       "      <td>NaN</td>\n",
       "      <td>NaN</td>\n",
       "      <td>NaN</td>\n",
       "      <td>1</td>\n",
       "    </tr>\n",
       "    <tr>\n",
       "      <td>4</td>\n",
       "      <td>4092021513</td>\n",
       "      <td>2012-09-21T00:00:00Z</td>\n",
       "      <td>WalMart Supercenter #4499-00 Deli/Bakery</td>\n",
       "      <td>841 E Gannon AVE</td>\n",
       "      <td>NaN</td>\n",
       "      <td>zebulon</td>\n",
       "      <td>NC</td>\n",
       "      <td>27597</td>\n",
       "      <td>(919) 269-2221 ext. 304</td>\n",
       "      <td>2008-02-25T00:00:00Z</td>\n",
       "      <td>...</td>\n",
       "      <td>4</td>\n",
       "      <td>NaN</td>\n",
       "      <td>NaN</td>\n",
       "      <td>NaN</td>\n",
       "      <td>NaN</td>\n",
       "      <td>NaN</td>\n",
       "      <td>NaN</td>\n",
       "      <td>NaN</td>\n",
       "      <td>NaN</td>\n",
       "      <td>1</td>\n",
       "    </tr>\n",
       "  </tbody>\n",
       "</table>\n",
       "<p>5 rows × 36 columns</p>\n",
       "</div>"
      ],
      "text/plain": [
       "       hsisid                  date                                      name  \\\n",
       "0  4092013748  2012-09-21T00:00:00Z                     Cafe 3000 At Wake Med   \n",
       "1  4092014046  2012-09-21T00:00:00Z                       Overtime Sports Pub   \n",
       "2  4092015191  2012-09-21T00:00:00Z                            TASTE OF CHINA   \n",
       "3  4092016122  2012-09-21T00:00:00Z                        Panera Bread #1643   \n",
       "4  4092021513  2012-09-21T00:00:00Z  WalMart Supercenter #4499-00 Deli/Bakery   \n",
       "\n",
       "               address1 address2     city state postalcode  \\\n",
       "0     3000 New Bern Ave      NaN  raleigh    NC      27610   \n",
       "1  1030-149 N Rogers Ln      NaN  raleigh    NC      27610   \n",
       "2   6209 ROCK QUARRY RD  STE 126  raleigh    NC      27610   \n",
       "3    1065 Darrington DR      NaN     cary    NC      27513   \n",
       "4      841 E Gannon AVE      NaN  zebulon    NC      27597   \n",
       "\n",
       "               phonenumber    restaurantopendate  ...  num_non_critical  \\\n",
       "0           (919) 350-8047  2002-12-21T00:00:00Z  ...                 7   \n",
       "1           (919) 255-9556  2004-05-04T00:00:00Z  ...                11   \n",
       "2           (919) 773-2285  2008-08-04T00:00:00Z  ...                 8   \n",
       "3                      NaN  2012-03-28T00:00:00Z  ...                 3   \n",
       "4  (919) 269-2221 ext. 304  2008-02-25T00:00:00Z  ...                 4   \n",
       "\n",
       "  num_critical_previous  num_non_critical_previous  \\\n",
       "0                   NaN                        NaN   \n",
       "1                   NaN                        NaN   \n",
       "2                   NaN                        NaN   \n",
       "3                   NaN                        NaN   \n",
       "4                   NaN                        NaN   \n",
       "\n",
       "   num_critical_mean_previous num_non_critical_mean_previous  \\\n",
       "0                         NaN                            NaN   \n",
       "1                         NaN                            NaN   \n",
       "2                         NaN                            NaN   \n",
       "3                         NaN                            NaN   \n",
       "4                         NaN                            NaN   \n",
       "\n",
       "   avg_neighbor_num_critical avg_neighbor_num_non_critical top_match  \\\n",
       "0                        NaN                           NaN       NaN   \n",
       "1                        NaN                           NaN       NaN   \n",
       "2                        NaN                           NaN       NaN   \n",
       "3                        NaN                           NaN       NaN   \n",
       "4                        NaN                           NaN       NaN   \n",
       "\n",
       "  second_match  critical  \n",
       "0          NaN         1  \n",
       "1          NaN         0  \n",
       "2          NaN         1  \n",
       "3          NaN         1  \n",
       "4          NaN         1  \n",
       "\n",
       "[5 rows x 36 columns]"
      ]
     },
     "execution_count": 40,
     "metadata": {},
     "output_type": "execute_result"
    }
   ],
   "source": [
    "# take a look at inspections and yelp\n",
    "inspections.head()"
   ]
  },
  {
   "cell_type": "code",
   "execution_count": 52,
   "metadata": {},
   "outputs": [
    {
     "data": {
      "text/html": [
       "<div>\n",
       "<style scoped>\n",
       "    .dataframe tbody tr th:only-of-type {\n",
       "        vertical-align: middle;\n",
       "    }\n",
       "\n",
       "    .dataframe tbody tr th {\n",
       "        vertical-align: top;\n",
       "    }\n",
       "\n",
       "    .dataframe thead th {\n",
       "        text-align: right;\n",
       "    }\n",
       "</style>\n",
       "<table border=\"1\" class=\"dataframe\">\n",
       "  <thead>\n",
       "    <tr style=\"text-align: right;\">\n",
       "      <th></th>\n",
       "      <th>id</th>\n",
       "      <th>name</th>\n",
       "      <th>is_closed</th>\n",
       "      <th>rating</th>\n",
       "      <th>review_count</th>\n",
       "      <th>address1</th>\n",
       "      <th>zip_code</th>\n",
       "      <th>latitude</th>\n",
       "      <th>longitude</th>\n",
       "      <th>price</th>\n",
       "      <th>...</th>\n",
       "      <th>italian</th>\n",
       "      <th>newamerican</th>\n",
       "      <th>chicken_wings</th>\n",
       "      <th>delis</th>\n",
       "      <th>bars</th>\n",
       "      <th>salad</th>\n",
       "      <th>seafood</th>\n",
       "      <th>bbq</th>\n",
       "      <th>bakeries</th>\n",
       "      <th>sushi</th>\n",
       "    </tr>\n",
       "  </thead>\n",
       "  <tbody>\n",
       "    <tr>\n",
       "      <td>0</td>\n",
       "      <td>42nd-street-oyster-bar-rdu-airport-morrisville</td>\n",
       "      <td>42nd street oyster bar - rdu airport</td>\n",
       "      <td>False</td>\n",
       "      <td>2.5</td>\n",
       "      <td>23</td>\n",
       "      <td>2400 John Brantley Blvd</td>\n",
       "      <td>27560</td>\n",
       "      <td>35.873808</td>\n",
       "      <td>-78.790896</td>\n",
       "      <td>$$</td>\n",
       "      <td>...</td>\n",
       "      <td>False</td>\n",
       "      <td>True</td>\n",
       "      <td>False</td>\n",
       "      <td>False</td>\n",
       "      <td>False</td>\n",
       "      <td>False</td>\n",
       "      <td>True</td>\n",
       "      <td>False</td>\n",
       "      <td>False</td>\n",
       "      <td>False</td>\n",
       "    </tr>\n",
       "    <tr>\n",
       "      <td>1</td>\n",
       "      <td>aldi-foods-cary</td>\n",
       "      <td>aldi foods</td>\n",
       "      <td>False</td>\n",
       "      <td>4.0</td>\n",
       "      <td>17</td>\n",
       "      <td>2303 NW Maynard Rd</td>\n",
       "      <td>27519</td>\n",
       "      <td>35.802840</td>\n",
       "      <td>-78.785930</td>\n",
       "      <td>$</td>\n",
       "      <td>...</td>\n",
       "      <td>False</td>\n",
       "      <td>False</td>\n",
       "      <td>False</td>\n",
       "      <td>False</td>\n",
       "      <td>False</td>\n",
       "      <td>False</td>\n",
       "      <td>False</td>\n",
       "      <td>False</td>\n",
       "      <td>False</td>\n",
       "      <td>False</td>\n",
       "    </tr>\n",
       "    <tr>\n",
       "      <td>2</td>\n",
       "      <td>luciano-pizzeria-ristorante-northwest-raleigh</td>\n",
       "      <td>luciano pizzeria ristorante</td>\n",
       "      <td>False</td>\n",
       "      <td>5.0</td>\n",
       "      <td>2</td>\n",
       "      <td>Crabtree Valley Mall</td>\n",
       "      <td>27612</td>\n",
       "      <td>35.839681</td>\n",
       "      <td>-78.678791</td>\n",
       "      <td>$</td>\n",
       "      <td>...</td>\n",
       "      <td>True</td>\n",
       "      <td>False</td>\n",
       "      <td>False</td>\n",
       "      <td>False</td>\n",
       "      <td>False</td>\n",
       "      <td>False</td>\n",
       "      <td>False</td>\n",
       "      <td>False</td>\n",
       "      <td>False</td>\n",
       "      <td>False</td>\n",
       "    </tr>\n",
       "    <tr>\n",
       "      <td>3</td>\n",
       "      <td>olive-garden-italian-restaurant-wilson</td>\n",
       "      <td>olive garden italian restaurant</td>\n",
       "      <td>False</td>\n",
       "      <td>3.0</td>\n",
       "      <td>16</td>\n",
       "      <td>3401 Raleigh Rd Pkwy W</td>\n",
       "      <td>27893</td>\n",
       "      <td>35.743170</td>\n",
       "      <td>-77.964160</td>\n",
       "      <td>$$</td>\n",
       "      <td>...</td>\n",
       "      <td>True</td>\n",
       "      <td>False</td>\n",
       "      <td>False</td>\n",
       "      <td>False</td>\n",
       "      <td>False</td>\n",
       "      <td>True</td>\n",
       "      <td>False</td>\n",
       "      <td>False</td>\n",
       "      <td>False</td>\n",
       "      <td>False</td>\n",
       "    </tr>\n",
       "    <tr>\n",
       "      <td>4</td>\n",
       "      <td>subway-wilson-4</td>\n",
       "      <td>subway</td>\n",
       "      <td>False</td>\n",
       "      <td>3.5</td>\n",
       "      <td>3</td>\n",
       "      <td>4934 Raleigh Rd</td>\n",
       "      <td>27896</td>\n",
       "      <td>35.762936</td>\n",
       "      <td>-77.999428</td>\n",
       "      <td>$</td>\n",
       "      <td>...</td>\n",
       "      <td>False</td>\n",
       "      <td>False</td>\n",
       "      <td>False</td>\n",
       "      <td>False</td>\n",
       "      <td>False</td>\n",
       "      <td>False</td>\n",
       "      <td>False</td>\n",
       "      <td>False</td>\n",
       "      <td>False</td>\n",
       "      <td>False</td>\n",
       "    </tr>\n",
       "  </tbody>\n",
       "</table>\n",
       "<p>5 rows × 31 columns</p>\n",
       "</div>"
      ],
      "text/plain": [
       "                                               id  \\\n",
       "0  42nd-street-oyster-bar-rdu-airport-morrisville   \n",
       "1                                 aldi-foods-cary   \n",
       "2   luciano-pizzeria-ristorante-northwest-raleigh   \n",
       "3          olive-garden-italian-restaurant-wilson   \n",
       "4                                 subway-wilson-4   \n",
       "\n",
       "                                   name  is_closed  rating  review_count  \\\n",
       "0  42nd street oyster bar - rdu airport      False     2.5            23   \n",
       "1                            aldi foods      False     4.0            17   \n",
       "2           luciano pizzeria ristorante      False     5.0             2   \n",
       "3       olive garden italian restaurant      False     3.0            16   \n",
       "4                                subway      False     3.5             3   \n",
       "\n",
       "                  address1  zip_code   latitude  longitude price  ... italian  \\\n",
       "0  2400 John Brantley Blvd     27560  35.873808 -78.790896    $$  ...   False   \n",
       "1       2303 NW Maynard Rd     27519  35.802840 -78.785930     $  ...   False   \n",
       "2     Crabtree Valley Mall     27612  35.839681 -78.678791     $  ...    True   \n",
       "3   3401 Raleigh Rd Pkwy W     27893  35.743170 -77.964160    $$  ...    True   \n",
       "4          4934 Raleigh Rd     27896  35.762936 -77.999428     $  ...   False   \n",
       "\n",
       "   newamerican  chicken_wings  delis   bars  salad  seafood    bbq  bakeries  \\\n",
       "0         True          False  False  False  False     True  False     False   \n",
       "1        False          False  False  False  False    False  False     False   \n",
       "2        False          False  False  False  False    False  False     False   \n",
       "3        False          False  False  False   True    False  False     False   \n",
       "4        False          False  False  False  False    False  False     False   \n",
       "\n",
       "   sushi  \n",
       "0  False  \n",
       "1  False  \n",
       "2  False  \n",
       "3  False  \n",
       "4  False  \n",
       "\n",
       "[5 rows x 31 columns]"
      ]
     },
     "execution_count": 52,
     "metadata": {},
     "output_type": "execute_result"
    }
   ],
   "source": [
    "yelp.head()"
   ]
  },
  {
   "cell_type": "code",
   "execution_count": 53,
   "metadata": {
    "scrolled": false
   },
   "outputs": [
    {
     "data": {
      "text/html": [
       "<div>\n",
       "<style scoped>\n",
       "    .dataframe tbody tr th:only-of-type {\n",
       "        vertical-align: middle;\n",
       "    }\n",
       "\n",
       "    .dataframe tbody tr th {\n",
       "        vertical-align: top;\n",
       "    }\n",
       "\n",
       "    .dataframe thead th {\n",
       "        text-align: right;\n",
       "    }\n",
       "</style>\n",
       "<table border=\"1\" class=\"dataframe\">\n",
       "  <thead>\n",
       "    <tr style=\"text-align: right;\">\n",
       "      <th></th>\n",
       "      <th>rating</th>\n",
       "      <th>review_count</th>\n",
       "      <th>price</th>\n",
       "      <th>longitude</th>\n",
       "      <th>latitude</th>\n",
       "      <th>hsisid</th>\n",
       "      <th>date</th>\n",
       "      <th>name</th>\n",
       "      <th>address1</th>\n",
       "      <th>address2</th>\n",
       "      <th>...</th>\n",
       "      <th>num_non_critical</th>\n",
       "      <th>num_critical_previous</th>\n",
       "      <th>num_non_critical_previous</th>\n",
       "      <th>num_critical_mean_previous</th>\n",
       "      <th>num_non_critical_mean_previous</th>\n",
       "      <th>avg_neighbor_num_critical</th>\n",
       "      <th>avg_neighbor_num_non_critical</th>\n",
       "      <th>top_match</th>\n",
       "      <th>second_match</th>\n",
       "      <th>critical</th>\n",
       "    </tr>\n",
       "  </thead>\n",
       "  <tbody>\n",
       "    <tr>\n",
       "      <td>0</td>\n",
       "      <td>3.5</td>\n",
       "      <td>11</td>\n",
       "      <td>$$</td>\n",
       "      <td>-78.741343</td>\n",
       "      <td>35.770724</td>\n",
       "      <td>4092016553</td>\n",
       "      <td>2013-11-26T00:00:00Z</td>\n",
       "      <td>HAWTHORN SUITES BREAKFAST</td>\n",
       "      <td>1020 BUCK JONES RD</td>\n",
       "      <td>NaN</td>\n",
       "      <td>...</td>\n",
       "      <td>1</td>\n",
       "      <td>NaN</td>\n",
       "      <td>NaN</td>\n",
       "      <td>NaN</td>\n",
       "      <td>NaN</td>\n",
       "      <td>1.833333</td>\n",
       "      <td>6.566667</td>\n",
       "      <td>4.092012e+09</td>\n",
       "      <td>4.092014e+09</td>\n",
       "      <td>0</td>\n",
       "    </tr>\n",
       "    <tr>\n",
       "      <td>1</td>\n",
       "      <td>3.5</td>\n",
       "      <td>11</td>\n",
       "      <td>$$</td>\n",
       "      <td>-78.741343</td>\n",
       "      <td>35.770724</td>\n",
       "      <td>4092016553</td>\n",
       "      <td>2014-07-25T00:00:00Z</td>\n",
       "      <td>HAWTHORN SUITES BREAKFAST</td>\n",
       "      <td>1020 BUCK JONES RD</td>\n",
       "      <td>NaN</td>\n",
       "      <td>...</td>\n",
       "      <td>2</td>\n",
       "      <td>0.0</td>\n",
       "      <td>1.0</td>\n",
       "      <td>0.00</td>\n",
       "      <td>1.00</td>\n",
       "      <td>2.416667</td>\n",
       "      <td>6.633333</td>\n",
       "      <td>4.092012e+09</td>\n",
       "      <td>4.092014e+09</td>\n",
       "      <td>1</td>\n",
       "    </tr>\n",
       "    <tr>\n",
       "      <td>2</td>\n",
       "      <td>3.5</td>\n",
       "      <td>11</td>\n",
       "      <td>$$</td>\n",
       "      <td>-78.741343</td>\n",
       "      <td>35.770724</td>\n",
       "      <td>4092016553</td>\n",
       "      <td>2015-06-12T00:00:00Z</td>\n",
       "      <td>HAWTHORN SUITES BREAKFAST</td>\n",
       "      <td>1020 BUCK JONES RD</td>\n",
       "      <td>NaN</td>\n",
       "      <td>...</td>\n",
       "      <td>0</td>\n",
       "      <td>1.0</td>\n",
       "      <td>2.0</td>\n",
       "      <td>0.50</td>\n",
       "      <td>1.50</td>\n",
       "      <td>2.483333</td>\n",
       "      <td>6.296667</td>\n",
       "      <td>4.092012e+09</td>\n",
       "      <td>4.092014e+09</td>\n",
       "      <td>1</td>\n",
       "    </tr>\n",
       "    <tr>\n",
       "      <td>3</td>\n",
       "      <td>3.5</td>\n",
       "      <td>11</td>\n",
       "      <td>$$</td>\n",
       "      <td>-78.741343</td>\n",
       "      <td>35.770724</td>\n",
       "      <td>4092016553</td>\n",
       "      <td>2015-12-29T00:00:00Z</td>\n",
       "      <td>HAWTHORN SUITES BREAKFAST</td>\n",
       "      <td>1020 BUCK JONES RD</td>\n",
       "      <td>NaN</td>\n",
       "      <td>...</td>\n",
       "      <td>2</td>\n",
       "      <td>5.0</td>\n",
       "      <td>0.0</td>\n",
       "      <td>2.00</td>\n",
       "      <td>1.00</td>\n",
       "      <td>2.275714</td>\n",
       "      <td>6.208571</td>\n",
       "      <td>4.092012e+09</td>\n",
       "      <td>4.092014e+09</td>\n",
       "      <td>1</td>\n",
       "    </tr>\n",
       "    <tr>\n",
       "      <td>4</td>\n",
       "      <td>3.5</td>\n",
       "      <td>11</td>\n",
       "      <td>$$</td>\n",
       "      <td>-78.741343</td>\n",
       "      <td>35.770724</td>\n",
       "      <td>4092016553</td>\n",
       "      <td>2016-06-10T00:00:00Z</td>\n",
       "      <td>HAWTHORN SUITES BREAKFAST</td>\n",
       "      <td>1020 BUCK JONES RD</td>\n",
       "      <td>NaN</td>\n",
       "      <td>...</td>\n",
       "      <td>5</td>\n",
       "      <td>1.0</td>\n",
       "      <td>2.0</td>\n",
       "      <td>1.75</td>\n",
       "      <td>1.25</td>\n",
       "      <td>2.095000</td>\n",
       "      <td>5.891667</td>\n",
       "      <td>4.092012e+09</td>\n",
       "      <td>4.092014e+09</td>\n",
       "      <td>0</td>\n",
       "    </tr>\n",
       "  </tbody>\n",
       "</table>\n",
       "<p>5 rows × 41 columns</p>\n",
       "</div>"
      ],
      "text/plain": [
       "   rating  review_count price  longitude   latitude      hsisid  \\\n",
       "0     3.5            11    $$ -78.741343  35.770724  4092016553   \n",
       "1     3.5            11    $$ -78.741343  35.770724  4092016553   \n",
       "2     3.5            11    $$ -78.741343  35.770724  4092016553   \n",
       "3     3.5            11    $$ -78.741343  35.770724  4092016553   \n",
       "4     3.5            11    $$ -78.741343  35.770724  4092016553   \n",
       "\n",
       "                   date                       name            address1  \\\n",
       "0  2013-11-26T00:00:00Z  HAWTHORN SUITES BREAKFAST  1020 BUCK JONES RD   \n",
       "1  2014-07-25T00:00:00Z  HAWTHORN SUITES BREAKFAST  1020 BUCK JONES RD   \n",
       "2  2015-06-12T00:00:00Z  HAWTHORN SUITES BREAKFAST  1020 BUCK JONES RD   \n",
       "3  2015-12-29T00:00:00Z  HAWTHORN SUITES BREAKFAST  1020 BUCK JONES RD   \n",
       "4  2016-06-10T00:00:00Z  HAWTHORN SUITES BREAKFAST  1020 BUCK JONES RD   \n",
       "\n",
       "  address2  ... num_non_critical num_critical_previous  \\\n",
       "0      NaN  ...                1                   NaN   \n",
       "1      NaN  ...                2                   0.0   \n",
       "2      NaN  ...                0                   1.0   \n",
       "3      NaN  ...                2                   5.0   \n",
       "4      NaN  ...                5                   1.0   \n",
       "\n",
       "  num_non_critical_previous num_critical_mean_previous  \\\n",
       "0                       NaN                        NaN   \n",
       "1                       1.0                       0.00   \n",
       "2                       2.0                       0.50   \n",
       "3                       0.0                       2.00   \n",
       "4                       2.0                       1.75   \n",
       "\n",
       "  num_non_critical_mean_previous  avg_neighbor_num_critical  \\\n",
       "0                            NaN                   1.833333   \n",
       "1                           1.00                   2.416667   \n",
       "2                           1.50                   2.483333   \n",
       "3                           1.00                   2.275714   \n",
       "4                           1.25                   2.095000   \n",
       "\n",
       "  avg_neighbor_num_non_critical     top_match  second_match critical  \n",
       "0                      6.566667  4.092012e+09  4.092014e+09        0  \n",
       "1                      6.633333  4.092012e+09  4.092014e+09        1  \n",
       "2                      6.296667  4.092012e+09  4.092014e+09        1  \n",
       "3                      6.208571  4.092012e+09  4.092014e+09        1  \n",
       "4                      5.891667  4.092012e+09  4.092014e+09        0  \n",
       "\n",
       "[5 rows x 41 columns]"
      ]
     },
     "execution_count": 53,
     "metadata": {},
     "output_type": "execute_result"
    }
   ],
   "source": [
    "# combine two dataframes and name it df\n",
    "yelp_to_combine = yelp[['rating', 'review_count', 'price', 'longitude', 'latitude']]\n",
    "df = yelp_to_combine.merge(inspections, left_on=['longitude', 'latitude'], right_on=['x', 'y'])\n",
    "df.head()"
   ]
  },
  {
   "cell_type": "code",
   "execution_count": 54,
   "metadata": {},
   "outputs": [
    {
     "data": {
      "text/plain": [
       "(425, 41)"
      ]
     },
     "execution_count": 54,
     "metadata": {},
     "output_type": "execute_result"
    }
   ],
   "source": [
    "# the combined dataframe has 425 observations\n",
    "df.shape"
   ]
  },
  {
   "cell_type": "code",
   "execution_count": 55,
   "metadata": {},
   "outputs": [
    {
     "data": {
      "text/plain": [
       "Index(['rating', 'review_count', 'price', 'longitude', 'latitude', 'hsisid',\n",
       "       'date', 'name', 'address1', 'address2', 'city', 'state', 'postalcode',\n",
       "       'phonenumber', 'restaurantopendate', 'days_from_open_date',\n",
       "       'facilitytype', 'x', 'y', 'geocodestatus', 'zip', 'type', 'description',\n",
       "       'inspectedby', 'inspection_num', 'inspector_id',\n",
       "       'previous_inspection_date', 'days_since_previous_inspection',\n",
       "       'previous_inspection_by_same_inspector', 'score', 'num_critical',\n",
       "       'num_non_critical', 'num_critical_previous',\n",
       "       'num_non_critical_previous', 'num_critical_mean_previous',\n",
       "       'num_non_critical_mean_previous', 'avg_neighbor_num_critical',\n",
       "       'avg_neighbor_num_non_critical', 'top_match', 'second_match',\n",
       "       'critical'],\n",
       "      dtype='object')"
      ]
     },
     "execution_count": 55,
     "metadata": {},
     "output_type": "execute_result"
    }
   ],
   "source": [
    "df.columns"
   ]
  },
  {
   "cell_type": "code",
   "execution_count": 56,
   "metadata": {},
   "outputs": [
    {
     "data": {
      "text/plain": [
       "array(['$$', '$', '$$$', nan, '$$$$', '19198407700', '18775769464',\n",
       "       '19194811105', '19196150592', '19192666118', '19108685071',\n",
       "       '19198469808', '19199869521', '19194660308', '19194660360',\n",
       "       '19198884887', '19194607025', '19194692122', '19194899364',\n",
       "       '19195827000', '19193870228', '19197843100', '19198217991',\n",
       "       '19106926261', '19198217400', '19198320501', '19196000870',\n",
       "       '19198824629', '19195214445', '19198484906', '19198500891',\n",
       "       '19194362246', '19197793900', '19197822594', '19198344000',\n",
       "       '19198213111', '19194250800', '19195526154', '19198473548'],\n",
       "      dtype=object)"
      ]
     },
     "execution_count": 56,
     "metadata": {},
     "output_type": "execute_result"
    }
   ],
   "source": [
    "yelp.price.unique()"
   ]
  },
  {
   "cell_type": "markdown",
   "metadata": {},
   "source": [
    "# Data Cleaning"
   ]
  },
  {
   "cell_type": "markdown",
   "metadata": {},
   "source": [
    "Describe your data cleaning steps here."
   ]
  },
  {
   "cell_type": "code",
   "execution_count": 4,
   "metadata": {},
   "outputs": [],
   "source": [
    "## YOUR CODE HERE\n",
    "## FEEL FREE TO ADD MULTIPLE CELLS PER SECTION"
   ]
  },
  {
   "cell_type": "markdown",
   "metadata": {},
   "source": [
    "- In order to check the cleanness of the dataset, will need to first decide what features are necessary for our analysis.\n",
    "- `rating`, `review_count`, `price`, `score` and `critical` are essential columns that contains neccesary information for my hypothesis and modeling."
   ]
  },
  {
   "cell_type": "code",
   "execution_count": 59,
   "metadata": {},
   "outputs": [],
   "source": [
    "# First, clean rating data"
   ]
  },
  {
   "cell_type": "code",
   "execution_count": 60,
   "metadata": {},
   "outputs": [
    {
     "data": {
      "text/plain": [
       "0      3.5\n",
       "1      3.5\n",
       "2      3.5\n",
       "3      3.5\n",
       "4      3.5\n",
       "      ... \n",
       "420    1.0\n",
       "421    1.0\n",
       "422    1.0\n",
       "423    1.0\n",
       "424    1.0\n",
       "Name: rating, Length: 425, dtype: float64"
      ]
     },
     "execution_count": 60,
     "metadata": {},
     "output_type": "execute_result"
    }
   ],
   "source": [
    "df.rating"
   ]
  },
  {
   "cell_type": "code",
   "execution_count": 61,
   "metadata": {},
   "outputs": [
    {
     "data": {
      "text/plain": [
       "array([3.5, 3. , 2. , 4. , 4.5, 1.5, 1. ])"
      ]
     },
     "execution_count": 61,
     "metadata": {},
     "output_type": "execute_result"
    }
   ],
   "source": [
    "df.rating.unique()"
   ]
  },
  {
   "cell_type": "markdown",
   "metadata": {},
   "source": [
    "- As we can see from above, rating data contains float data from 1.0 to 4.5. This is exactly what we need. Therefore, we'll leave rating as is."
   ]
  },
  {
   "cell_type": "code",
   "execution_count": 62,
   "metadata": {},
   "outputs": [],
   "source": [
    "# Second, clean review_count data"
   ]
  },
  {
   "cell_type": "code",
   "execution_count": 63,
   "metadata": {
    "scrolled": true
   },
   "outputs": [
    {
     "data": {
      "text/plain": [
       "0      11\n",
       "1      11\n",
       "2      11\n",
       "3      11\n",
       "4      11\n",
       "       ..\n",
       "420     1\n",
       "421     1\n",
       "422     1\n",
       "423     1\n",
       "424     1\n",
       "Name: review_count, Length: 425, dtype: int64"
      ]
     },
     "execution_count": 63,
     "metadata": {},
     "output_type": "execute_result"
    }
   ],
   "source": [
    "df.review_count"
   ]
  },
  {
   "cell_type": "code",
   "execution_count": 64,
   "metadata": {},
   "outputs": [
    {
     "data": {
      "text/plain": [
       "array([ 11,  15,   5,  70,  28, 102,  10, 247, 113, 187,  84,  29,  55,\n",
       "         8,  24, 277,  53,  37,  78,  44,  52, 202, 224,  22,  71, 220,\n",
       "       136,  30, 149, 125,  27,   9,  16, 126, 140,   7,   1])"
      ]
     },
     "execution_count": 64,
     "metadata": {},
     "output_type": "execute_result"
    }
   ],
   "source": [
    "df.review_count.unique()"
   ]
  },
  {
   "cell_type": "markdown",
   "metadata": {},
   "source": [
    "- As we can see from above, review_count data contains int data from 1 to 277. This is exactly what we need. Therefore, we'll leave review_count as is."
   ]
  },
  {
   "cell_type": "code",
   "execution_count": 65,
   "metadata": {},
   "outputs": [],
   "source": [
    "# Third, we will be cleaning price data"
   ]
  },
  {
   "cell_type": "code",
   "execution_count": 66,
   "metadata": {},
   "outputs": [
    {
     "data": {
      "text/plain": [
       "0               $$\n",
       "1               $$\n",
       "2               $$\n",
       "3               $$\n",
       "4               $$\n",
       "          ...     \n",
       "420    19194660308\n",
       "421    19194660308\n",
       "422    19194660308\n",
       "423    19194660308\n",
       "424    19194660308\n",
       "Name: price, Length: 425, dtype: object"
      ]
     },
     "execution_count": 66,
     "metadata": {},
     "output_type": "execute_result"
    }
   ],
   "source": [
    "df.price"
   ]
  },
  {
   "cell_type": "code",
   "execution_count": 67,
   "metadata": {},
   "outputs": [
    {
     "data": {
      "text/plain": [
       "array(['$$', '$', nan, '$$$', '19194660308'], dtype=object)"
      ]
     },
     "execution_count": 67,
     "metadata": {},
     "output_type": "execute_result"
    }
   ],
   "source": [
    "df.price.unique()"
   ]
  },
  {
   "cell_type": "markdown",
   "metadata": {},
   "source": [
    "- As we can see from above, price data contains multiple types of data.\n",
    "    - First, the dollar sign representation how expensive the restaurant is per customer. We will change this representation of price to ordinal variables 1, 2, and 3.\n",
    "    - Second, null values.\n",
    "    - Finally, a series of number, 19194660308, we will change this into null values since it has mysterious meaning."
   ]
  },
  {
   "cell_type": "code",
   "execution_count": 68,
   "metadata": {},
   "outputs": [],
   "source": [
    "# define a function to help us clean price data\n",
    "def clean_price(p):\n",
    "    if pd.isnull(p):\n",
    "        return p\n",
    "    if len(p) < 4:\n",
    "        return len(p)\n",
    "    return np.NaN\n",
    "    "
   ]
  },
  {
   "cell_type": "code",
   "execution_count": 72,
   "metadata": {},
   "outputs": [],
   "source": [
    "# Change the price column to cleaned price\n",
    "df['price'] = df.price.apply(clean_price)"
   ]
  },
  {
   "cell_type": "code",
   "execution_count": 76,
   "metadata": {},
   "outputs": [],
   "source": [
    "# Finally, there is no need to clean score and critical columns since they are cleaned already."
   ]
  },
  {
   "cell_type": "code",
   "execution_count": 77,
   "metadata": {},
   "outputs": [
    {
     "data": {
      "text/plain": [
       "array([100. ,  99.5,  96. ,  97.5,  96.5,  95. ,  99. ,  98.5,  94.5,\n",
       "        94. ,  93. ,  97. ,  95.5,  98. ,  92. ,  91.5,  85.5,  83. ,\n",
       "        88. ,  92.5,  84. ,  88.5,  93.5,  87.5,  86. ,  91. ,  90. ,\n",
       "        84.5,  79. ])"
      ]
     },
     "execution_count": 77,
     "metadata": {},
     "output_type": "execute_result"
    }
   ],
   "source": [
    "df.score.unique()"
   ]
  },
  {
   "cell_type": "code",
   "execution_count": 78,
   "metadata": {},
   "outputs": [
    {
     "data": {
      "text/plain": [
       "array([0, 1])"
      ]
     },
     "execution_count": 78,
     "metadata": {},
     "output_type": "execute_result"
    }
   ],
   "source": [
    "df.critical.unique()"
   ]
  },
  {
   "cell_type": "markdown",
   "metadata": {},
   "source": [
    "# Data Analysis & Results"
   ]
  },
  {
   "cell_type": "markdown",
   "metadata": {},
   "source": [
    "#### \"Critical\" vs. \"Non-Critical\"\n",
    "- What we are most interested in is whether or not there is a relationship bewteen the inspection scores and restsaurants rating.\n",
    "- The section below will be conducted by this purpose and further prediction."
   ]
  },
  {
   "cell_type": "code",
   "execution_count": 79,
   "metadata": {
    "scrolled": false
   },
   "outputs": [
    {
     "data": {
      "text/html": [
       "<div>\n",
       "<style scoped>\n",
       "    .dataframe tbody tr th:only-of-type {\n",
       "        vertical-align: middle;\n",
       "    }\n",
       "\n",
       "    .dataframe tbody tr th {\n",
       "        vertical-align: top;\n",
       "    }\n",
       "\n",
       "    .dataframe thead th {\n",
       "        text-align: right;\n",
       "    }\n",
       "</style>\n",
       "<table border=\"1\" class=\"dataframe\">\n",
       "  <thead>\n",
       "    <tr style=\"text-align: right;\">\n",
       "      <th></th>\n",
       "      <th>rating</th>\n",
       "      <th>review_count</th>\n",
       "      <th>price</th>\n",
       "      <th>score</th>\n",
       "      <th>critical</th>\n",
       "    </tr>\n",
       "  </thead>\n",
       "  <tbody>\n",
       "    <tr>\n",
       "      <td>0</td>\n",
       "      <td>3.5</td>\n",
       "      <td>11</td>\n",
       "      <td>2.0</td>\n",
       "      <td>100.0</td>\n",
       "      <td>0</td>\n",
       "    </tr>\n",
       "    <tr>\n",
       "      <td>1</td>\n",
       "      <td>3.5</td>\n",
       "      <td>11</td>\n",
       "      <td>2.0</td>\n",
       "      <td>99.5</td>\n",
       "      <td>1</td>\n",
       "    </tr>\n",
       "    <tr>\n",
       "      <td>2</td>\n",
       "      <td>3.5</td>\n",
       "      <td>11</td>\n",
       "      <td>2.0</td>\n",
       "      <td>96.0</td>\n",
       "      <td>1</td>\n",
       "    </tr>\n",
       "    <tr>\n",
       "      <td>3</td>\n",
       "      <td>3.5</td>\n",
       "      <td>11</td>\n",
       "      <td>2.0</td>\n",
       "      <td>100.0</td>\n",
       "      <td>1</td>\n",
       "    </tr>\n",
       "    <tr>\n",
       "      <td>4</td>\n",
       "      <td>3.5</td>\n",
       "      <td>11</td>\n",
       "      <td>2.0</td>\n",
       "      <td>96.0</td>\n",
       "      <td>0</td>\n",
       "    </tr>\n",
       "    <tr>\n",
       "      <td>...</td>\n",
       "      <td>...</td>\n",
       "      <td>...</td>\n",
       "      <td>...</td>\n",
       "      <td>...</td>\n",
       "      <td>...</td>\n",
       "    </tr>\n",
       "    <tr>\n",
       "      <td>420</td>\n",
       "      <td>1.0</td>\n",
       "      <td>1</td>\n",
       "      <td>NaN</td>\n",
       "      <td>98.5</td>\n",
       "      <td>1</td>\n",
       "    </tr>\n",
       "    <tr>\n",
       "      <td>421</td>\n",
       "      <td>1.0</td>\n",
       "      <td>1</td>\n",
       "      <td>NaN</td>\n",
       "      <td>96.0</td>\n",
       "      <td>1</td>\n",
       "    </tr>\n",
       "    <tr>\n",
       "      <td>422</td>\n",
       "      <td>1.0</td>\n",
       "      <td>1</td>\n",
       "      <td>NaN</td>\n",
       "      <td>93.0</td>\n",
       "      <td>1</td>\n",
       "    </tr>\n",
       "    <tr>\n",
       "      <td>423</td>\n",
       "      <td>1.0</td>\n",
       "      <td>1</td>\n",
       "      <td>NaN</td>\n",
       "      <td>92.5</td>\n",
       "      <td>1</td>\n",
       "    </tr>\n",
       "    <tr>\n",
       "      <td>424</td>\n",
       "      <td>1.0</td>\n",
       "      <td>1</td>\n",
       "      <td>NaN</td>\n",
       "      <td>95.0</td>\n",
       "      <td>1</td>\n",
       "    </tr>\n",
       "  </tbody>\n",
       "</table>\n",
       "<p>425 rows × 5 columns</p>\n",
       "</div>"
      ],
      "text/plain": [
       "     rating  review_count  price  score  critical\n",
       "0       3.5            11    2.0  100.0         0\n",
       "1       3.5            11    2.0   99.5         1\n",
       "2       3.5            11    2.0   96.0         1\n",
       "3       3.5            11    2.0  100.0         1\n",
       "4       3.5            11    2.0   96.0         0\n",
       "..      ...           ...    ...    ...       ...\n",
       "420     1.0             1    NaN   98.5         1\n",
       "421     1.0             1    NaN   96.0         1\n",
       "422     1.0             1    NaN   93.0         1\n",
       "423     1.0             1    NaN   92.5         1\n",
       "424     1.0             1    NaN   95.0         1\n",
       "\n",
       "[425 rows x 5 columns]"
      ]
     },
     "execution_count": 79,
     "metadata": {},
     "output_type": "execute_result"
    }
   ],
   "source": [
    "# display the dataframe with needed information\n",
    "df[['rating', 'review_count', 'price', 'score', 'critical']]"
   ]
  },
  {
   "cell_type": "markdown",
   "metadata": {},
   "source": [
    "- Logically, the inspection score will be lower if there is critical health issue with the restaurant.\n",
    "- Cells below examine this assumption."
   ]
  },
  {
   "cell_type": "code",
   "execution_count": 82,
   "metadata": {},
   "outputs": [
    {
     "data": {
      "text/plain": [
       "95.81285714285714"
      ]
     },
     "execution_count": 82,
     "metadata": {},
     "output_type": "execute_result"
    }
   ],
   "source": [
    "critical_mean = df[df.critical == 1].score.mean()\n",
    "critical_mean"
   ]
  },
  {
   "cell_type": "code",
   "execution_count": 83,
   "metadata": {},
   "outputs": [
    {
     "data": {
      "text/plain": [
       "98.11333333333333"
      ]
     },
     "execution_count": 83,
     "metadata": {},
     "output_type": "execute_result"
    }
   ],
   "source": [
    "non_critical_mean = df[df.critical == 0].score.mean()\n",
    "non_critical_mean"
   ]
  },
  {
   "cell_type": "code",
   "execution_count": 148,
   "metadata": {
    "scrolled": true
   },
   "outputs": [
    {
     "data": {
      "image/png": "[encoded data removed]",
      "text/plain": [
       "<Figure size 432x216 with 2 Axes>"
      ]
     },
     "metadata": {
      "image/png": {
       "height": 206,
       "width": 424
      },
      "needs_background": "light"
     },
     "output_type": "display_data"
    }
   ],
   "source": [
    "critical = df[df.critical == 1]['score']\n",
    "non_critical = df[df.critical == 0]['score']\n",
    "g = sns.FacetGrid(df, col=\"critical\", legend_out=True)\n",
    "g = g.map(sns.distplot, \"score\",  hist=False, rug=True)"
   ]
  },
  {
   "cell_type": "markdown",
   "metadata": {},
   "source": [
    "- As we can see, the restaurants that does not have critical inspection issues tend to have higher mean score than those who have. In addition, non_critical restaurants tend to be more symmetric and \"critical\" restaurants are more skewed to the left."
   ]
  },
  {
   "cell_type": "markdown",
   "metadata": {},
   "source": [
    "#### Review Counts vs. Ratings\n",
    "- Personally, I would rating the restaurants that make me uncomfortable or upset, but I would normally not to rate those which make me satisfied. In this case, everyone has his/her/their own preferences in terms of how to rate and when to rate the restaurants.\n",
    "- Generally, people tend to rate restaurants which they love the most or hate the most.\n",
    "- The cells below will explore the relationship between review counts and ratings."
   ]
  },
  {
   "cell_type": "code",
   "execution_count": 116,
   "metadata": {},
   "outputs": [
    {
     "data": {
      "text/plain": [
       "67.12235294117647"
      ]
     },
     "execution_count": 116,
     "metadata": {},
     "output_type": "execute_result"
    }
   ],
   "source": [
    "# average review count for a restaurant\n",
    "mean_review_count = df.review_count.mean()\n",
    "mean_review_count"
   ]
  },
  {
   "cell_type": "code",
   "execution_count": 119,
   "metadata": {},
   "outputs": [
    {
     "data": {
      "text/plain": [
       "greater_than_avg\n",
       "False    3.278656\n",
       "True     3.686047\n",
       "Name: rating, dtype: float64"
      ]
     },
     "execution_count": 119,
     "metadata": {},
     "output_type": "execute_result"
    }
   ],
   "source": [
    "(\n",
    "    df\n",
    "    .assign(greater_than_avg=df['review_count'] > mean_review_count)\n",
    "    .groupby('greater_than_avg')\n",
    "    .rating\n",
    "    .agg('mean')\n",
    ")"
   ]
  },
  {
   "cell_type": "markdown",
   "metadata": {},
   "source": [
    "- The result shows that the restaurants with the number of review greater than the average has mean rating of 3.686047 and those below average has 3.27 rating on average.\n",
    "- The result shown above explains the fact that the restaurants with the number of review greater than the average have a greater average rating than those below average number of review.\n",
    "- This consistance to what we have assumed above."
   ]
  },
  {
   "cell_type": "code",
   "execution_count": 149,
   "metadata": {
    "scrolled": true
   },
   "outputs": [
    {
     "data": {
      "text/plain": [
       "greater_than_avg\n",
       "False    AxesSubplot(0.125,0.125;0.775x0.755)\n",
       "True     AxesSubplot(0.125,0.125;0.775x0.755)\n",
       "Name: rating, dtype: object"
      ]
     },
     "execution_count": 149,
     "metadata": {},
     "output_type": "execute_result"
    },
    {
     "data": {
      "image/png": "[encoded data removed]",
      "text/plain": [
       "<Figure size 432x288 with 1 Axes>"
      ]
     },
     "metadata": {
      "image/png": {
       "height": 259,
       "width": 405
      },
      "needs_background": "light"
     },
     "output_type": "display_data"
    }
   ],
   "source": [
    "(\n",
    "    df\n",
    "    .assign(greater_than_avg=df['review_count'] > mean_review_count)\n",
    "    .groupby('greater_than_avg')\n",
    "    .rating\n",
    "    .plot(kind='kde',legend=True)\n",
    ")"
   ]
  },
  {
   "cell_type": "markdown",
   "metadata": {},
   "source": [
    "- True and False means whether or not the restaurant's review count is greater than the average.\n",
    "- interpretation of the plot above:\n",
    "    - Both of the distribution are bi-model distributions. However, they have different shapes. \n",
    "    - Distribution of \"True\" data: Bimodel, symmetric, mean is higher, the distribution has less variance.\n",
    "    - Distribution of \"False\" data: Bimodel, skewed to the left, mean is lower, the distribution has greater variance."
   ]
  },
  {
   "cell_type": "markdown",
   "metadata": {},
   "source": [
    "#### Null values in `price`\n",
    "- Price is the only column with null values in the dataset. Thus I am interested in how price becomes null in the data generating process and how it's related to other columns.\n",
    "- Guess: Price data is Missing at Random. (MAR) The missingess of price data probably depends on the value of rating but we cannot say some values of rating must lead to the missingess of the price data."
   ]
  },
  {
   "cell_type": "code",
   "execution_count": 130,
   "metadata": {},
   "outputs": [
    {
     "data": {
      "text/plain": [
       "0.023529411764705882"
      ]
     },
     "execution_count": 130,
     "metadata": {},
     "output_type": "execute_result"
    }
   ],
   "source": [
    "# 2 percent of the data in price is null.\n",
    "df.price.isnull().mean()"
   ]
  },
  {
   "cell_type": "code",
   "execution_count": 150,
   "metadata": {
    "scrolled": false
   },
   "outputs": [
    {
     "data": {
      "image/png": "[encoded data removed]",
      "text/plain": [
       "<Figure size 432x288 with 1 Axes>"
      ]
     },
     "metadata": {
      "image/png": {
       "height": 278,
       "width": 405
      },
      "needs_background": "light"
     },
     "output_type": "display_data"
    }
   ],
   "source": [
    "# Distribution of ratings when price is null/not null \n",
    "\n",
    "(\n",
    "    df\n",
    "    .assign(is_null=df.price.isnull())\n",
    "    .groupby('is_null')\n",
    "    .rating\n",
    "    .plot(kind='kde', legend=True, title='Rating by missingness of Price')\n",
    ");"
   ]
  },
  {
   "cell_type": "markdown",
   "metadata": {},
   "source": [
    "- As we can see, these two distributions are drastically different.\n",
    "- We are more convinced that price data is missing at random dependent on the values of rating data.\n",
    "- Now, we need to conduct a permutation test to convince ourselves."
   ]
  },
  {
   "cell_type": "code",
   "execution_count": 134,
   "metadata": {},
   "outputs": [],
   "source": [
    "# permutation test body\n",
    "# null hypothesis: two distributions are from the same distribution. (Price data is missing completely at random: MCAR)\n",
    "# alternative hypothesis: two distributions are different. (Price data is MAR dependent on rating)\n",
    "n_repetitions = 500\n",
    "\n",
    "means = []\n",
    "for _ in range(n_repetitions):\n",
    "    \n",
    "    # shuffle the rating column\n",
    "    shuffled_col = (\n",
    "        df['rating']\n",
    "        .sample(replace=False, frac=1)\n",
    "        .reset_index(drop=True)\n",
    "    )\n",
    "    \n",
    "    # put them in a table\n",
    "    shuffled = (\n",
    "        df\n",
    "        .assign(**{\n",
    "            'col': shuffled_col,\n",
    "            'is_null': df['price'].isnull()\n",
    "        })\n",
    "    )\n",
    "    \n",
    "    # compute the differences in means\n",
    "    mean = shuffled.groupby('is_null')['col'].mean().diff().abs().iloc[-1]\n",
    "    \n",
    "    means.append(mean)"
   ]
  },
  {
   "cell_type": "code",
   "execution_count": 135,
   "metadata": {},
   "outputs": [],
   "source": [
    "# observed statistic\n",
    "obs = df.assign(is_null=df['price'].isnull()).groupby('is_null')['rating'].mean().diff().abs().iloc[-1]"
   ]
  },
  {
   "cell_type": "code",
   "execution_count": 151,
   "metadata": {
    "scrolled": true
   },
   "outputs": [
    {
     "data": {
      "image/png": "[encoded data removed]",
      "text/plain": [
       "<Figure size 432x288 with 1 Axes>"
      ]
     },
     "metadata": {
      "image/png": {
       "height": 278,
       "width": 405
      },
      "needs_background": "light"
     },
     "output_type": "display_data"
    }
   ],
   "source": [
    "pval = np.mean(means > obs)\n",
    "pd.Series(means).plot(kind='hist', density=True, alpha=0.8, title='p-value: %f' % pval)\n",
    "plt.scatter(obs, 0, color='red', s=40);"
   ]
  },
  {
   "cell_type": "markdown",
   "metadata": {},
   "source": [
    "- Conclusion, these two distributions are completely differet, because the p-value is almost zero.\n",
    "- This is useful as we need to impute price data for further prediction."
   ]
  },
  {
   "cell_type": "markdown",
   "metadata": {},
   "source": [
    "#### Relationiship between ratings and inspection scores\n",
    "- According to the hypothesis, there is a relationship between ratings and inspection scores.\n",
    "- Understanding the relationship, whether or not it's linear, is cruical for my analysis as it provides the basis for the further prediction."
   ]
  },
  {
   "cell_type": "code",
   "execution_count": 159,
   "metadata": {
    "scrolled": true
   },
   "outputs": [
    {
     "data": {
      "image/png": "[encoded data removed]",
      "text/plain": [
       "<Figure size 432x288 with 1 Axes>"
      ]
     },
     "metadata": {
      "image/png": {
       "height": 280,
       "width": 391
      },
      "needs_background": "light"
     },
     "output_type": "display_data"
    }
   ],
   "source": [
    "# scatter plot of score vs. rating\n",
    "sns.scatterplot(x='score', y='rating', data=df);\n",
    "cutoff = 90 # cutoff for the linear relationship\n",
    "plt.axvline(x=cutoff, color='y');"
   ]
  },
  {
   "cell_type": "code",
   "execution_count": 160,
   "metadata": {
    "scrolled": true
   },
   "outputs": [
    {
     "data": {
      "image/png": "[encoded data removed]",
      "text/plain": [
       "<Figure size 432x288 with 1 Axes>"
      ]
     },
     "metadata": {
      "image/png": {
       "height": 280,
       "width": 405
      },
      "needs_background": "light"
     },
     "output_type": "display_data"
    }
   ],
   "source": [
    "# scatterplot of score vs. log of rating values\n",
    "sns.scatterplot(x='score', y='rating_log', data=df.assign(rating_log=df.rating.apply(np.log)));\n",
    "cutoff = 90 # cutoff for the linear relationship\n",
    "plt.axvline(x=cutoff, color='y');"
   ]
  },
  {
   "cell_type": "markdown",
   "metadata": {},
   "source": [
    "- From the two plots above, we can tell there is a possible linear relationship when the score is less than 90. In other words, the health condition will dominant cutomers preference as they go the restaurants with inspection scores under 90.\n",
    "- For restaurants with inspection scores greater than 90, cutomers' personal preferences will take the dominance as they rate the restaurants. \n",
    "- Therefore, it is important to include the \"food\" data in yelp dataframe in order to predict the ratings more accurately."
   ]
  },
  {
   "cell_type": "code",
   "execution_count": 295,
   "metadata": {},
   "outputs": [
    {
     "data": {
      "text/html": [
       "<div>\n",
       "<style scoped>\n",
       "    .dataframe tbody tr th:only-of-type {\n",
       "        vertical-align: middle;\n",
       "    }\n",
       "\n",
       "    .dataframe tbody tr th {\n",
       "        vertical-align: top;\n",
       "    }\n",
       "\n",
       "    .dataframe thead th {\n",
       "        text-align: right;\n",
       "    }\n",
       "</style>\n",
       "<table border=\"1\" class=\"dataframe\">\n",
       "  <thead>\n",
       "    <tr style=\"text-align: right;\">\n",
       "      <th></th>\n",
       "      <th>rating</th>\n",
       "      <th>review_count</th>\n",
       "      <th>price</th>\n",
       "      <th>score</th>\n",
       "      <th>hotdogs</th>\n",
       "      <th>sandwiches</th>\n",
       "      <th>pizza</th>\n",
       "      <th>tradamerican</th>\n",
       "      <th>burgers</th>\n",
       "      <th>mexican</th>\n",
       "      <th>...</th>\n",
       "      <th>italian</th>\n",
       "      <th>newamerican</th>\n",
       "      <th>chicken_wings</th>\n",
       "      <th>delis</th>\n",
       "      <th>bars</th>\n",
       "      <th>salad</th>\n",
       "      <th>seafood</th>\n",
       "      <th>bbq</th>\n",
       "      <th>bakeries</th>\n",
       "      <th>sushi</th>\n",
       "    </tr>\n",
       "  </thead>\n",
       "  <tbody>\n",
       "    <tr>\n",
       "      <td>0</td>\n",
       "      <td>3.5</td>\n",
       "      <td>11</td>\n",
       "      <td>2.0</td>\n",
       "      <td>100.0</td>\n",
       "      <td>0</td>\n",
       "      <td>0</td>\n",
       "      <td>0</td>\n",
       "      <td>0</td>\n",
       "      <td>0</td>\n",
       "      <td>0</td>\n",
       "      <td>...</td>\n",
       "      <td>0</td>\n",
       "      <td>1</td>\n",
       "      <td>0</td>\n",
       "      <td>0</td>\n",
       "      <td>0</td>\n",
       "      <td>0</td>\n",
       "      <td>1</td>\n",
       "      <td>0</td>\n",
       "      <td>0</td>\n",
       "      <td>0</td>\n",
       "    </tr>\n",
       "    <tr>\n",
       "      <td>1</td>\n",
       "      <td>3.5</td>\n",
       "      <td>11</td>\n",
       "      <td>2.0</td>\n",
       "      <td>99.5</td>\n",
       "      <td>0</td>\n",
       "      <td>0</td>\n",
       "      <td>0</td>\n",
       "      <td>0</td>\n",
       "      <td>0</td>\n",
       "      <td>0</td>\n",
       "      <td>...</td>\n",
       "      <td>0</td>\n",
       "      <td>0</td>\n",
       "      <td>0</td>\n",
       "      <td>0</td>\n",
       "      <td>0</td>\n",
       "      <td>0</td>\n",
       "      <td>0</td>\n",
       "      <td>0</td>\n",
       "      <td>0</td>\n",
       "      <td>0</td>\n",
       "    </tr>\n",
       "    <tr>\n",
       "      <td>2</td>\n",
       "      <td>3.5</td>\n",
       "      <td>11</td>\n",
       "      <td>2.0</td>\n",
       "      <td>96.0</td>\n",
       "      <td>0</td>\n",
       "      <td>0</td>\n",
       "      <td>0</td>\n",
       "      <td>0</td>\n",
       "      <td>0</td>\n",
       "      <td>0</td>\n",
       "      <td>...</td>\n",
       "      <td>1</td>\n",
       "      <td>0</td>\n",
       "      <td>0</td>\n",
       "      <td>0</td>\n",
       "      <td>0</td>\n",
       "      <td>0</td>\n",
       "      <td>0</td>\n",
       "      <td>0</td>\n",
       "      <td>0</td>\n",
       "      <td>0</td>\n",
       "    </tr>\n",
       "    <tr>\n",
       "      <td>3</td>\n",
       "      <td>3.5</td>\n",
       "      <td>11</td>\n",
       "      <td>2.0</td>\n",
       "      <td>100.0</td>\n",
       "      <td>0</td>\n",
       "      <td>0</td>\n",
       "      <td>0</td>\n",
       "      <td>0</td>\n",
       "      <td>0</td>\n",
       "      <td>0</td>\n",
       "      <td>...</td>\n",
       "      <td>1</td>\n",
       "      <td>0</td>\n",
       "      <td>0</td>\n",
       "      <td>0</td>\n",
       "      <td>0</td>\n",
       "      <td>1</td>\n",
       "      <td>0</td>\n",
       "      <td>0</td>\n",
       "      <td>0</td>\n",
       "      <td>0</td>\n",
       "    </tr>\n",
       "    <tr>\n",
       "      <td>4</td>\n",
       "      <td>3.5</td>\n",
       "      <td>11</td>\n",
       "      <td>2.0</td>\n",
       "      <td>96.0</td>\n",
       "      <td>1</td>\n",
       "      <td>1</td>\n",
       "      <td>0</td>\n",
       "      <td>0</td>\n",
       "      <td>0</td>\n",
       "      <td>0</td>\n",
       "      <td>...</td>\n",
       "      <td>0</td>\n",
       "      <td>0</td>\n",
       "      <td>0</td>\n",
       "      <td>0</td>\n",
       "      <td>0</td>\n",
       "      <td>0</td>\n",
       "      <td>0</td>\n",
       "      <td>0</td>\n",
       "      <td>0</td>\n",
       "      <td>0</td>\n",
       "    </tr>\n",
       "  </tbody>\n",
       "</table>\n",
       "<p>5 rows × 24 columns</p>\n",
       "</div>"
      ],
      "text/plain": [
       "   rating  review_count  price  score  hotdogs  sandwiches  pizza  \\\n",
       "0     3.5            11    2.0  100.0        0           0      0   \n",
       "1     3.5            11    2.0   99.5        0           0      0   \n",
       "2     3.5            11    2.0   96.0        0           0      0   \n",
       "3     3.5            11    2.0  100.0        0           0      0   \n",
       "4     3.5            11    2.0   96.0        1           1      0   \n",
       "\n",
       "   tradamerican  burgers  mexican  ...  italian  newamerican  chicken_wings  \\\n",
       "0             0        0        0  ...        0            1              0   \n",
       "1             0        0        0  ...        0            0              0   \n",
       "2             0        0        0  ...        1            0              0   \n",
       "3             0        0        0  ...        1            0              0   \n",
       "4             0        0        0  ...        0            0              0   \n",
       "\n",
       "   delis  bars  salad  seafood  bbq  bakeries  sushi  \n",
       "0      0     0      0        1    0         0      0  \n",
       "1      0     0      0        0    0         0      0  \n",
       "2      0     0      0        0    0         0      0  \n",
       "3      0     0      1        0    0         0      0  \n",
       "4      0     0      0        0    0         0      0  \n",
       "\n",
       "[5 rows x 24 columns]"
      ]
     },
     "execution_count": 295,
     "metadata": {},
     "output_type": "execute_result"
    }
   ],
   "source": [
    "# from the conclusion above, we are modifying dataset for our prediction model;\n",
    "# copy the index of combined yelp and inspections\n",
    "idx = df.index\n",
    "# food columns from yelp dataframe\n",
    "cols = yelp.columns[11:]\n",
    "# convert food dataframe from yelp dataframe to dtype=int\n",
    "foods = yelp[cols].astype(int)\n",
    "# assign food dataframe to df, name it pred_df\n",
    "pred_df = df[['rating', 'review_count', 'price', 'score']].assign(**foods.loc[idx].to_dict(orient='list'))\n",
    "pred_df.head()"
   ]
  },
  {
   "cell_type": "markdown",
   "metadata": {},
   "source": [
    "#### Baseline Model\n",
    "- categorical columns: \n",
    "    - foods are already converted to one-hot ordinal data, we are just using pca to add weights to them. \n",
    "- numerical columns:\n",
    "    - impute with zeros and pass through\n",
    "- prediction model: LinearRegression"
   ]
  },
  {
   "cell_type": "code",
   "execution_count": 186,
   "metadata": {},
   "outputs": [],
   "source": [
    "# We are using data in X to predict y\n",
    "X = pred_df.drop('rating', axis=1)\n",
    "y = pred_df.rating"
   ]
  },
  {
   "cell_type": "code",
   "execution_count": 189,
   "metadata": {},
   "outputs": [],
   "source": [
    "# specify categorical and numerical columns for further use\n",
    "catecols = cols\n",
    "numcols = ['review_count', 'price', 'score']"
   ]
  },
  {
   "cell_type": "code",
   "execution_count": 227,
   "metadata": {},
   "outputs": [],
   "source": [
    "# baseline model\n",
    "cates = Pipeline([\n",
    "    ('pca', PCA(svd_solver='full', n_components=0.99)),\n",
    "])\n",
    "\n",
    "nums = SimpleImputer(strategy='constant', fill_value=0)\n",
    "# use a ColumnTransformer to put together transformer for categorical columns and numerical columns\n",
    "ct = ColumnTransformer([\n",
    "    ('cate', cates, catecols),\n",
    "    ('num', nums, numcols)\n",
    "])\n",
    "\n",
    "pl = Pipeline([('feats', ct), ('reg', LinearRegression())])"
   ]
  },
  {
   "cell_type": "code",
   "execution_count": 228,
   "metadata": {},
   "outputs": [],
   "source": [
    "# split using the default param test_size=0.2\n",
    "X_train, X_test, y_train, y_test = train_test_split(X, y)"
   ]
  },
  {
   "cell_type": "code",
   "execution_count": 229,
   "metadata": {
    "scrolled": false
   },
   "outputs": [
    {
     "data": {
      "text/plain": [
       "Pipeline(memory=None,\n",
       "         steps=[('feats',\n",
       "                 ColumnTransformer(n_jobs=None, remainder='drop',\n",
       "                                   sparse_threshold=0.3,\n",
       "                                   transformer_weights=None,\n",
       "                                   transformers=[('cate',\n",
       "                                                  Pipeline(memory=None,\n",
       "                                                           steps=[('pca',\n",
       "                                                                   PCA(copy=True,\n",
       "                                                                       iterated_power='auto',\n",
       "                                                                       n_components=0.99,\n",
       "                                                                       random_state=None,\n",
       "                                                                       svd_solver='full',\n",
       "                                                                       tol=0.0,\n",
       "                                                                       whiten=False))],\n",
       "                                                           verbose=False),\n",
       "                                                  Index(['hotdogs', 'sandwiches', 'piz...\n",
       "       'newamerican', 'chicken_wings', 'delis', 'bars', 'salad', 'seafood',\n",
       "       'bbq', 'bakeries', 'sushi'],\n",
       "      dtype='object')),\n",
       "                                                 ('num',\n",
       "                                                  SimpleImputer(add_indicator=False,\n",
       "                                                                copy=True,\n",
       "                                                                fill_value=0,\n",
       "                                                                missing_values=nan,\n",
       "                                                                strategy='constant',\n",
       "                                                                verbose=0),\n",
       "                                                  ['review_count', 'price',\n",
       "                                                   'score'])],\n",
       "                                   verbose=False)),\n",
       "                ('reg',\n",
       "                 LinearRegression(copy_X=True, fit_intercept=True, n_jobs=None,\n",
       "                                  normalize=False))],\n",
       "         verbose=False)"
      ]
     },
     "execution_count": 229,
     "metadata": {},
     "output_type": "execute_result"
    }
   ],
   "source": [
    "# fit the model\n",
    "pl.fit(X_train, y_train)"
   ]
  },
  {
   "cell_type": "code",
   "execution_count": 230,
   "metadata": {},
   "outputs": [
    {
     "data": {
      "text/plain": [
       "0.21626543229545825"
      ]
     },
     "execution_count": 230,
     "metadata": {},
     "output_type": "execute_result"
    }
   ],
   "source": [
    "# R^2 score for the baseline model\n",
    "pl.score(X_test, y_test)"
   ]
  },
  {
   "cell_type": "markdown",
   "metadata": {},
   "source": [
    "- The R^2 score for our baseline model is below 0.3 suggesting that our model is a bit better than random guessing.\n",
    "- I will improve the model as more features will be added.\n",
    "    - Feature 1: Standardize `review_count` based on price levels. We can learn from the analysis above that difference review_count and price levels can lead to different ratings.\n",
    "    - Feature 2: Use PCA to add weights to `review_counts` and `price` as we revealed the relationship between them in the analysis above.\n",
    "    - Feature 3: Change LinearRegressor to RandomForestRegressor.\n",
    "    - Feature 4: Use GridSearchCV to optimize the combination of parameters in RandomForestRegressor constructor. (Only results are shown in the constructor since the function GridSearchCV.fit is extremely time-consuming)"
   ]
  },
  {
   "cell_type": "code",
   "execution_count": 333,
   "metadata": {},
   "outputs": [],
   "source": [
    "# For the convenience of stanardizing columns, I will implement a transformer called StdScalerByGroup as below\n",
    "from sklearn.base import BaseEstimator, TransformerMixin\n",
    "\n",
    "\n",
    "class StdScalerByGroup(BaseEstimator, TransformerMixin):\n",
    "\n",
    "    def __init__(self):\n",
    "        pass\n",
    "\n",
    "    def fit(self, X, y=None):\n",
    "        \"\"\"\n",
    "        :Example:\n",
    "        >>> cols = {'g': ['A', 'A', 'B', 'B'], 'c1': [1, 2, 2, 2], 'c2': [3, 1, 2, 0]}\n",
    "        >>> X = pd.DataFrame(cols)\n",
    "        >>> std = StdScalerByGroup().fit(X)\n",
    "        >>> std.grps_ is not None\n",
    "        True\n",
    "        \"\"\"\n",
    "        # X may not be a pandas dataframe (e.g. a np.array)\n",
    "        df = pd.DataFrame(X)\n",
    "        group = df.columns[0]\n",
    "        mean_dict = df.groupby(group).agg(np.mean).to_dict('index')\n",
    "        std_dict = df.groupby(group).agg(np.std).to_dict('index')\n",
    "\n",
    "        # A dictionary of means/standard-deviations for each column, for each group.\n",
    "        self.grps_ = {'mean':mean_dict, 'std':std_dict}\n",
    "\n",
    "        return self\n",
    "\n",
    "    def transform(self, X, y=None):\n",
    "        \"\"\"\n",
    "        :Example:\n",
    "        >>> cols = {'g': ['A', 'A', 'B', 'B'], 'c1': [1, 2, 3, 4], 'c2': [1, 2, 3, 4]}\n",
    "        >>> X = pd.DataFrame(cols)\n",
    "        >>> std = StdScalerByGroup().fit(X)\n",
    "        >>> out = std.transform(X)\n",
    "        >>> out.shape == (4, 2)\n",
    "        True\n",
    "        >>> np.isclose(out.abs(), 0.707107, atol=0.001).all().all()\n",
    "        True\n",
    "        \"\"\"\n",
    "\n",
    "        try:\n",
    "            getattr(self, \"grps_\")\n",
    "        except AttributeError:\n",
    "            raise RuntimeError(\"You must fit the transformer before tranforming the data!\")\n",
    "\n",
    "        # X may not be a dataframe (e.g. np.array)\n",
    "        df = pd.DataFrame(X)\n",
    "        out = pd.DataFrame()\n",
    "        idx = df.columns[1:]\n",
    "        group = df.columns[0]\n",
    "        mean_dict = self.grps_['mean']\n",
    "        std_dict = self.grps_['std']\n",
    "        for i in idx:\n",
    "            out[i] = df.apply(lambda x:(x[i] - mean_dict[x[group]][i])/std_dict[x[group]][i], axis=1)\n",
    "\n",
    "        return out"
   ]
  },
  {
   "cell_type": "code",
   "execution_count": 342,
   "metadata": {},
   "outputs": [],
   "source": [
    "# Model Optimization\n",
    "pred_df['price'] = pred_df.price.fillna(0)\n",
    "\n",
    "cates = Pipeline([\n",
    "    ('pca', PCA(svd_solver='full', n_components=0.99)),\n",
    "])\n",
    "\n",
    "nums = SimpleImputer(strategy='constant', fill_value=0)\n",
    "t = Pipeline([\n",
    "    ('z_score', StdScalerByGroup()), \n",
    "    ('impute', SimpleImputer(strategy='mean'))\n",
    "])\n",
    "# use a ColumnTransformer to put together transformer for categorical columns and numerical columns\n",
    "ct = ColumnTransformer([\n",
    "    ('cate', cates, catecols),\n",
    "    ('num', nums, numcols),\n",
    "    ('pca', cates, ['price', 'review_count']),\n",
    "    ('t1', t, ['price', 'review_count'])\n",
    "    \n",
    "])\n",
    "\n",
    "final_pl = Pipeline([('feats', ct), ('reg', RandomForestRegressor(max_depth=5, min_sample_split=2, min_samples_leaf=2, n_estimators=100))])"
   ]
  },
  {
   "cell_type": "code",
   "execution_count": 344,
   "metadata": {},
   "outputs": [],
   "source": [
    "# We are using data in X to predict y\n",
    "X = pred_df.drop('rating', axis=1)\n",
    "y = pred_df.rating"
   ]
  },
  {
   "cell_type": "code",
   "execution_count": 355,
   "metadata": {},
   "outputs": [],
   "source": [
    "# split using the default param test_size=0.2\n",
    "X_train, X_test, y_train, y_test = train_test_split(X, y)"
   ]
  },
  {
   "cell_type": "code",
   "execution_count": 356,
   "metadata": {
    "scrolled": false
   },
   "outputs": [
    {
     "name": "stderr",
     "output_type": "stream",
     "text": [
      "/Users/haibo/opt/anaconda3/lib/python3.7/site-packages/ipykernel_launcher.py:56: RuntimeWarning: invalid value encountered in double_scalars\n"
     ]
    },
    {
     "data": {
      "text/plain": [
       "Pipeline(memory=None,\n",
       "         steps=[('feats',\n",
       "                 ColumnTransformer(n_jobs=None, remainder='drop',\n",
       "                                   sparse_threshold=0.3,\n",
       "                                   transformer_weights=None,\n",
       "                                   transformers=[('cate',\n",
       "                                                  Pipeline(memory=None,\n",
       "                                                           steps=[('pca',\n",
       "                                                                   PCA(copy=True,\n",
       "                                                                       iterated_power='auto',\n",
       "                                                                       n_components=0.99,\n",
       "                                                                       random_state=None,\n",
       "                                                                       svd_solver='full',\n",
       "                                                                       tol=0.0,\n",
       "                                                                       whiten=False))],\n",
       "                                                           verbose=False),\n",
       "                                                  Index(['hotdogs', 'sandwiches', 'piz...\n",
       "                                   verbose=False)),\n",
       "                ('reg',\n",
       "                 RandomForestRegressor(bootstrap=True, criterion='mse',\n",
       "                                       max_depth=None, max_features='auto',\n",
       "                                       max_leaf_nodes=None,\n",
       "                                       min_impurity_decrease=0.0,\n",
       "                                       min_impurity_split=None,\n",
       "                                       min_samples_leaf=1, min_samples_split=2,\n",
       "                                       min_weight_fraction_leaf=0.0,\n",
       "                                       n_estimators=10, n_jobs=None,\n",
       "                                       oob_score=False, random_state=None,\n",
       "                                       verbose=0, warm_start=False))],\n",
       "         verbose=False)"
      ]
     },
     "execution_count": 356,
     "metadata": {},
     "output_type": "execute_result"
    }
   ],
   "source": [
    "final_pl.fit(X_train, y_train)"
   ]
  },
  {
   "cell_type": "code",
   "execution_count": 357,
   "metadata": {},
   "outputs": [
    {
     "name": "stderr",
     "output_type": "stream",
     "text": [
      "/Users/haibo/opt/anaconda3/lib/python3.7/site-packages/ipykernel_launcher.py:56: RuntimeWarning: invalid value encountered in double_scalars\n"
     ]
    },
    {
     "data": {
      "text/plain": [
       "0.9110479987962683"
      ]
     },
     "execution_count": 357,
     "metadata": {},
     "output_type": "execute_result"
    }
   ],
   "source": [
    "final_pl.score(X_test, y_test)"
   ]
  },
  {
   "cell_type": "markdown",
   "metadata": {},
   "source": [
    "- The R^2 is now around 0.85~0.95, which is much greater than what we had before which was about 0.3."
   ]
  },
  {
   "cell_type": "code",
   "execution_count": 368,
   "metadata": {},
   "outputs": [
    {
     "name": "stderr",
     "output_type": "stream",
     "text": [
      "/Users/haibo/opt/anaconda3/lib/python3.7/site-packages/ipykernel_launcher.py:56: RuntimeWarning: invalid value encountered in double_scalars\n"
     ]
    },
    {
     "data": {
      "image/png": "[encoded data removed]",
      "text/plain": [
       "<Figure size 432x288 with 1 Axes>"
      ]
     },
     "metadata": {
      "image/png": {
       "height": 259,
       "width": 405
      },
      "needs_background": "light"
     },
     "output_type": "display_data"
    }
   ],
   "source": [
    "predicted = final_pl.predict(X_test)\n",
    "actual = y_test\n",
    "pd.Series(predicted).plot(kind='kde');\n",
    "y_test.plot(kind='kde', color='y');"
   ]
  },
  {
   "cell_type": "markdown",
   "metadata": {},
   "source": [
    "- The final model has been improved drastically after more features are added.\n",
    "- As we can see the predicted ratings and actual ratings look very similar now.\n",
    "- If there is time for further analysis, I will also check if there is a over-fitting problem since these two distributions look a little \"too\" similar."
   ]
  },
  {
   "cell_type": "markdown",
   "metadata": {},
   "source": [
    "# Ethics & Privacy"
   ]
  },
  {
   "cell_type": "markdown",
   "metadata": {},
   "source": [
    "- When we use yelp data and analysis the ratings of each customer on restaurants, it is important for us to concern the consent issues. We need to reach out to the users on yelp wesite or yelp app to let them fill out the consent form in order to allow us to further analyze their data. Otherwise, the project should not be going any further.\n",
    "- When we use the inspections data, we need to realize that the information in the inspections.csv contains the specified terms and scores of every restaurant. It is our responsibility to reach our to local restaurants and local government to request the permission to continue our project. If they are fine with the project, it is also our responsibility to inform them any impact this project may bring to them. For example, if some customer reads the project and realize that the restaurant he/she/they usually goes to actually has health inspection issues and the customer decides not to go there anymore. This economic impact is one of the impacts they we must inform the restaurant owners.\n",
    "- The data on restaurants' inspection scores is available on local government websites because the inspection grade is made availale for everyone on purpose. There is no obvious privacy issue on this part of the dataset. However, we have to consider ethics and privacy when we use Yelp API and work on the customers data. We should not leak customers information including names, age, gener, phone numbers, address, etc. These should be restricted to only the purpose of this project."
   ]
  },
  {
   "cell_type": "markdown",
   "metadata": {},
   "source": [
    "# Conclusion & Discussion"
   ]
  },
  {
   "cell_type": "markdown",
   "metadata": {},
   "source": [
    "- The datasets used: The combination of inspections.csv and yelp.csv by the location of a restaurant.\n",
    "    - Discussion: The most of the data is clean and it is easy and convenient to use. However, the useful dataset only has 425 observations for me to explore. This is a disadvantage because data might be biased as the combining process lost most of the data included in the inspection dataframe. This is one of the reasons that might make the prediction model to be over-fitting.\n",
    "- EDA before building the prediction model:\n",
    "    - `Critical vs. Non Critical`: What I am most interested in is whether or not there is a relationship bewteen the inspection scores and restsaurants rating. `Findings`: The restaurants that does not have critical inspection issues tend to have higher mean score than those who have. In addition, non_critical restaurants tend to be more symmetric and \"critical\" restaurants are more skewed to the left.\n",
    "    - `Review Counts vs. Ratings`: Generally, people tend to rate restaurants which they love the most or hate the most. `Findings`: The result shows that the restaurants with the number of review greater than the average has mean rating of 3.686047 and those below average has 3.27 rating on average.\n",
    "    - `Null values in price column`: Guess: Price data is Missing at Random. (MAR) The missingess of price data probably depends on the value of rating but we cannot say some values of rating must lead to the missingess of the price data. `Findings`: The missingness of data in price column is missing at random dependent on ratings.\n",
    "    - `Relationship between inspection score and rating`: We can tell there is a possible linear relationship when the score is less than 90. In other words, the health condition will dominant cutomers preference as they go the restaurants with inspection scores under 90. For restaurants with inspection scores greater than 90, cutomers' personal preferences will take the dominance as they rate the restaurants. This is different from what I expected before, since I thought there is a good chance that people will rate restaurants with low inspection score pretty low. However, I now realized that the actual relationship makes much more sense.\n",
    "- prediction model:\n",
    "    - Baseline model: \n",
    "        - categorical columns: \n",
    "            - foods are already converted to one-hot ordinal data, we are just using pca to add weights to them. \n",
    "        - numerical columns:\n",
    "            - impute with zeros and pass through\n",
    "        - prediction model: LinearRegression\n",
    "        - The baseline model is designed for the purpose of simplicity, not accuracy. That is why more dedicated features are added later. However, I have never met the situation of such a low R^2 score before. This is probably because there is a weak relationship so that LinearRegression works not as good as TreeRegressors, such as DecisionTreeRegressor and RandomForestRegressor.\n",
    "    - Final model:\n",
    "        - Feature 1: Standardize `review_count` based on price levels. We can learn from the analysis above that difference review_count and price levels can lead to different ratings.\n",
    "        - Feature 2: Use PCA to add weights to `review_counts` and `price` as we revealed the relationship between them in the analysis above.\n",
    "        - Feature 3: Change LinearRegressor to RandomForestRegressor.\n",
    "        - Feature 4: Use GridSearchCV to optimize the combination of parameters in RandomForestRegressor constructor. (Only results are shown in the constructor since the function GridSearchCV.fit is extremely time-consuming)\n",
    "    - The Baseline model has R^2 score of only about 0.3, which suggests a weak prediction. After the features are added, the final model has R^2 score of above 0.9, which is robust based on this dataset. As we can see the predicted ratings and actual ratings look very similar now. If there is time for further analysis, I will also check if there is a over-fitting problem since these two distributions look a little \"too\" similar. The R^2 score might be too high suggesting that there is probably a over-fitting issue. This is reasonable since I choose RandomForestRegressor as the base machine learning algorithm. Tree Regressor might cause more overfitting issues than linear regressors.\n",
    "    \n",
    "- Impact of my study:\n",
    "    - The machine learning model I built is  useful in terms of predict restaurants ratings. This is especially useful to algorithms that recommand restaurants customers according to their tastes or algorithms that rate restaurants that do not have much information and previous ratings. I will definitely work on this project this summer to address the over-fitting issue and implement it into a more completed recommanding algorithm.\n"
   ]
  },
  {
   "cell_type": "code",
   "execution_count": null,
   "metadata": {},
   "outputs": [],
   "source": []
  }
 ],
 "metadata": {
  "kernelspec": {
   "display_name": "Python 3",
   "language": "python",
   "name": "python3"
  },
  "language_info": {
   "codemirror_mode": {
    "name": "ipython",
    "version": 3
   },
   "file_extension": ".py",
   "mimetype": "text/x-python",
   "name": "python",
   "nbconvert_exporter": "python",
   "pygments_lexer": "ipython3",
   "version": "3.7.4"
  }
 },
 "nbformat": 4,
 "nbformat_minor": 2
}
