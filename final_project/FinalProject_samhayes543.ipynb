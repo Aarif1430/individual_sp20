{
 "cells": [
  {
   "cell_type": "markdown",
   "metadata": {},
   "source": [
    "# COGS 108 - Final Project "
   ]
  },
  {
   "cell_type": "markdown",
   "metadata": {},
   "source": [
    "# Name & PID\n",
    "\n",
    "- Name: Samuel Hayes\n",
    "- PID: A15613044"
   ]
  },
  {
   "cell_type": "markdown",
   "metadata": {},
   "source": [
    "# Overview"
   ]
  },
  {
   "cell_type": "markdown",
   "metadata": {},
   "source": [
    "In order to establish the features that are associated with failed inspections, I extracted the failed inspections from the database and determined if certain categorical variables were overrepresented in this dataset as compared to the full dataset. I found that while restaurants were the most common type of facility being inspected, they were still disproportionately overrepresented in the failed inspections dataset. In conducting the same test for the overrepresentation of inspector id in the failed inspections dataset, I discovered that several of the inspectors were disproportionately overrepresented in the failed inspections dataset as well. This discovery suggests that while the number of overall inspections was distributed fairly well across many inspectors, the inspections that resulted in failures were most often conducted by 6 or 7 (presumably harsh) inspectors. I concluded my analysis by conducting several regression models which test the amount of variability in the scores that certain predictors (features) can account for. "
   ]
  },
  {
   "cell_type": "markdown",
   "metadata": {},
   "source": [
    "## Background and Prior Work"
   ]
  },
  {
   "cell_type": "markdown",
   "metadata": {},
   "source": [
    "In my search for information about the health inspection process in North Carolina, I came across a thorough website created by the Wake County Food Safety and Sanitation Department. Wake County is one of the two most populous counties in North Carolina, so I believe that their system and protocol is representative of that of the state at large. The website provided a link to search for the current inspection scores of particular restaurants. From other pages I discovered that the restaurant inspection protocol is much the same in NC as it is in California, where I had originally researched for my Project Proposal. While I did not have the time to research the NC food code in its entirety, I found it sufficient to review the risk-based inspection rules, which specified the criteria of a critical violation and the need for it to be met within 10 days (if not while the inspector is on-site). I also found a pdf of the food inspection form, which may be useful for reference in understanding the points-based scoring process.\n",
    "\n",
    "References (include links):\n",
    "- 1)https://ehs.ncpublichealth.com/docs/forms/FoodInspectionForm-Mar13.pdf\n",
    "- 2)http://www.wakegov.com/food/healthinspections/tidbits/Pages/newrules.aspx"
   ]
  },
  {
   "cell_type": "markdown",
   "metadata": {},
   "source": [
    "# Research Question"
   ]
  },
  {
   "cell_type": "markdown",
   "metadata": {},
   "source": [
    "What features are most often associated with a failed inspection (by my definition, score < 90)? I will search for relationships with previous inspection data, particular inspectors, and the type of facility."
   ]
  },
  {
   "cell_type": "markdown",
   "metadata": {},
   "source": [
    "# Hypothesis\n"
   ]
  },
  {
   "cell_type": "markdown",
   "metadata": {},
   "source": [
    "I hypothesize that the most accurate predictors of a failed inspection will be the previous inspection scores and the time since the previous inspection. I believe that most often businesses do not fully change their practices after receiving violations from the Health Department, but will slip back into the same habits over time."
   ]
  },
  {
   "cell_type": "markdown",
   "metadata": {},
   "source": [
    "# Dataset(s)"
   ]
  },
  {
   "cell_type": "markdown",
   "metadata": {},
   "source": [
    "\n",
    "- Dataset Name: Inspections\n",
    "- Link to the dataset: https://github.com/COGS108/Projects/tree/master/Option2_Individual/data/inspections.csv\n",
    "- Number of observations: This dataset includes 18466 inspection data points, which each consist of up to 36 inspection features.\n",
    "\n",
    "The inspections dataset contains a thorough account of restaurant inspections in North Carolina from August 2012 to November 2016. It is organized by date of inspection. Approximately 3000 inspection events have no previous inspection data, according to the consistency across features that refer to previous inspections. I believe this dataset is rich enough and expansive enough in scope to conduct a far-reaching data analysis without combining it with other datasets."
   ]
  },
  {
   "cell_type": "markdown",
   "metadata": {},
   "source": [
    "# Setup"
   ]
  },
  {
   "cell_type": "code",
   "execution_count": 1,
   "metadata": {},
   "outputs": [],
   "source": [
    "import pandas as pd\n",
    "import numpy as np\n",
    "\n",
    "# Import seaborn and apply its plotting styles\n",
    "import seaborn as sns\n",
    "sns.set(style=\"white\", font_scale=2)\n",
    "\n",
    "# import matplotlib\n",
    "import matplotlib as mpl\n",
    "import matplotlib.pyplot as plt\n",
    "# set plotting size parameter\n",
    "plt.rcParams['figure.figsize'] = (17, 7)\n",
    "\n",
    "# Statmodels & patsy\n",
    "import patsy\n",
    "import statsmodels.api as sm\n",
    "from scipy.stats import pearsonr, norm, ttest_ind\n",
    "\n",
    "import warnings\n",
    "warnings.filterwarnings('ignore')\n",
    "\n",
    "pd.set_option('display.max_columns', None)\n",
    "\n",
    "#improve resolution\n",
    "%config InlineBackend.figure_format ='retina'"
   ]
  },
  {
   "cell_type": "code",
   "execution_count": 2,
   "metadata": {},
   "outputs": [],
   "source": [
    "inspections = pd.read_csv('data/inspections.csv')"
   ]
  },
  {
   "cell_type": "code",
   "execution_count": 3,
   "metadata": {},
   "outputs": [
    {
     "data": {
      "text/plain": [
       "(18466, 36)"
      ]
     },
     "execution_count": 3,
     "metadata": {},
     "output_type": "execute_result"
    }
   ],
   "source": [
    "inspections.shape"
   ]
  },
  {
   "cell_type": "code",
   "execution_count": 4,
   "metadata": {},
   "outputs": [
    {
     "data": {
      "text/plain": [
       "['hsisid',\n",
       " 'date',\n",
       " 'name',\n",
       " 'address1',\n",
       " 'address2',\n",
       " 'city',\n",
       " 'state',\n",
       " 'postalcode',\n",
       " 'phonenumber',\n",
       " 'restaurantopendate',\n",
       " 'days_from_open_date',\n",
       " 'facilitytype',\n",
       " 'x',\n",
       " 'y',\n",
       " 'geocodestatus',\n",
       " 'zip',\n",
       " 'type',\n",
       " 'description',\n",
       " 'inspectedby',\n",
       " 'inspection_num',\n",
       " 'inspector_id',\n",
       " 'previous_inspection_date',\n",
       " 'days_since_previous_inspection',\n",
       " 'previous_inspection_by_same_inspector',\n",
       " 'score',\n",
       " 'num_critical',\n",
       " 'num_non_critical',\n",
       " 'num_critical_previous',\n",
       " 'num_non_critical_previous',\n",
       " 'num_critical_mean_previous',\n",
       " 'num_non_critical_mean_previous',\n",
       " 'avg_neighbor_num_critical',\n",
       " 'avg_neighbor_num_non_critical',\n",
       " 'top_match',\n",
       " 'second_match',\n",
       " 'critical']"
      ]
     },
     "execution_count": 4,
     "metadata": {},
     "output_type": "execute_result"
    }
   ],
   "source": [
    "list(inspections)"
   ]
  },
  {
   "cell_type": "code",
   "execution_count": 5,
   "metadata": {},
   "outputs": [
    {
     "data": {
      "text/plain": [
       "hsisid                                   False\n",
       "date                                     False\n",
       "name                                     False\n",
       "address1                                 False\n",
       "address2                                  True\n",
       "city                                     False\n",
       "state                                    False\n",
       "postalcode                               False\n",
       "phonenumber                               True\n",
       "restaurantopendate                       False\n",
       "days_from_open_date                      False\n",
       "facilitytype                             False\n",
       "x                                        False\n",
       "y                                        False\n",
       "geocodestatus                            False\n",
       "zip                                      False\n",
       "type                                     False\n",
       "description                               True\n",
       "inspectedby                               True\n",
       "inspection_num                           False\n",
       "inspector_id                              True\n",
       "previous_inspection_date                  True\n",
       "days_since_previous_inspection            True\n",
       "previous_inspection_by_same_inspector     True\n",
       "score                                    False\n",
       "num_critical                             False\n",
       "num_non_critical                         False\n",
       "num_critical_previous                     True\n",
       "num_non_critical_previous                 True\n",
       "num_critical_mean_previous                True\n",
       "num_non_critical_mean_previous            True\n",
       "avg_neighbor_num_critical                 True\n",
       "avg_neighbor_num_non_critical             True\n",
       "top_match                                 True\n",
       "second_match                              True\n",
       "critical                                 False\n",
       "dtype: bool"
      ]
     },
     "execution_count": 5,
     "metadata": {},
     "output_type": "execute_result"
    }
   ],
   "source": [
    "inspections.isna().any()"
   ]
  },
  {
   "cell_type": "code",
   "execution_count": 6,
   "metadata": {},
   "outputs": [
    {
     "data": {
      "text/plain": [
       "'2012-09-21T00:00:00Z'"
      ]
     },
     "execution_count": 6,
     "metadata": {},
     "output_type": "execute_result"
    }
   ],
   "source": [
    "#checking the first date an inspection was conducted\n",
    "inspections['date'][0]"
   ]
  },
  {
   "cell_type": "code",
   "execution_count": 7,
   "metadata": {},
   "outputs": [
    {
     "data": {
      "text/plain": [
       "'2016-11-03T00:00:00Z'"
      ]
     },
     "execution_count": 7,
     "metadata": {},
     "output_type": "execute_result"
    }
   ],
   "source": [
    "#understanding the range of dates that the data were collected\n",
    "inspections['date'][18465]"
   ]
  },
  {
   "cell_type": "code",
   "execution_count": 8,
   "metadata": {},
   "outputs": [
    {
     "data": {
      "text/plain": [
       "NC    18466\n",
       "Name: state, dtype: int64"
      ]
     },
     "execution_count": 8,
     "metadata": {},
     "output_type": "execute_result"
    }
   ],
   "source": [
    "#which states' inspections are being collected in the dataset\n",
    "inspections['state'].value_counts()"
   ]
  },
  {
   "cell_type": "code",
   "execution_count": 9,
   "metadata": {},
   "outputs": [
    {
     "data": {
      "text/plain": [
       "4092110059    16\n",
       "4092090012    16\n",
       "4092015613    16\n",
       "4092110101    15\n",
       "4092110083    15\n",
       "4092110124    15\n",
       "4092110071    15\n",
       "4092110473    15\n",
       "4092110041    15\n",
       "4092110088    15\n",
       "4092110066    15\n",
       "4092110130    15\n",
       "4092110103    15\n",
       "4092110076    14\n",
       "4092012198    14\n",
       "4092110465    14\n",
       "4092110105    14\n",
       "4092110001    14\n",
       "4092110481    14\n",
       "4092110006    14\n",
       "4092110092    14\n",
       "4092110464    14\n",
       "4092110131    14\n",
       "4092110031    14\n",
       "4092110133    13\n",
       "4092021380    13\n",
       "4092110151    13\n",
       "4092110068    13\n",
       "4092110077    13\n",
       "4092110154    13\n",
       "              ..\n",
       "4092017156     1\n",
       "4092017190     1\n",
       "4092300271     1\n",
       "4092017188     1\n",
       "4092017158     1\n",
       "4092017300     1\n",
       "4092017316     1\n",
       "4092030294     1\n",
       "4092300274     1\n",
       "4092017094     1\n",
       "4092017078     1\n",
       "4092140596     1\n",
       "4092021946     1\n",
       "4092021922     1\n",
       "4092021847     1\n",
       "4092140584     1\n",
       "4092017340     1\n",
       "4092017292     1\n",
       "4092017228     1\n",
       "4092017212     1\n",
       "4092017196     1\n",
       "4092017180     1\n",
       "4092017164     1\n",
       "4092017148     1\n",
       "4092017132     1\n",
       "4092021943     1\n",
       "4092017100     1\n",
       "4092017084     1\n",
       "4092016995     1\n",
       "4092021954     1\n",
       "Name: hsisid, Length: 3045, dtype: int64"
      ]
     },
     "execution_count": 9,
     "metadata": {},
     "output_type": "execute_result"
    }
   ],
   "source": [
    "inspections['hsisid'].value_counts()"
   ]
  },
  {
   "cell_type": "code",
   "execution_count": 10,
   "metadata": {},
   "outputs": [
    {
     "data": {
      "text/plain": [
       "1     3045\n",
       "2     2828\n",
       "3     2610\n",
       "4     2424\n",
       "5     2200\n",
       "6     1838\n",
       "7     1407\n",
       "8      946\n",
       "9      559\n",
       "10     298\n",
       "11     156\n",
       "12      78\n",
       "13      37\n",
       "14      24\n",
       "15      13\n",
       "16       3\n",
       "Name: inspection_num, dtype: int64"
      ]
     },
     "execution_count": 10,
     "metadata": {},
     "output_type": "execute_result"
    }
   ],
   "source": [
    "inspections['inspection_num'].value_counts()"
   ]
  },
  {
   "cell_type": "markdown",
   "metadata": {},
   "source": [
    "# Data Cleaning"
   ]
  },
  {
   "cell_type": "markdown",
   "metadata": {},
   "source": [
    "First I will remove features (columns) whose meaning I cannot make complete sense of without knowing the criteria, such as the average neighbor and matches (top_match and second_match). Next, I will remove redundancies, making sure to keep the information which is contained in a more useful form for my analysis. I noticed that zip contains the same information as postalcode, but is stored in the form of an integer; I believe it is more useful to think of the zipcode as a string, so I keep the postalcode column (I provide this example to demonstrate the type of thinking that I use to make these decisions). Similarly, I will use the number of days since previous inspection, which is a more useful encoding of the previous inspection date. I will remove the names of the inspectors to maintain anonymity as I assess the distribution of their scoring. I will treat hsisid as the only suitable feature to determine the uniqueness of a business because the value counts of this column match the value counts of the inspection number (a facility's id should show up as many times as the number of inspections). Because of this, for my purposes the name, restaurant open date, and phone number are useless as I conduct my analysis; I will remove them to avoid clutter in the dataset. I will remove the state column because we are certain that all inspections come from North Carolina. I will remove all geographical information, as I am not assessing the influence of location in my analysis."
   ]
  },
  {
   "cell_type": "code",
   "execution_count": 11,
   "metadata": {},
   "outputs": [],
   "source": [
    "inspections = inspections.drop(['avg_neighbor_num_critical', 'avg_neighbor_num_non_critical', 'top_match', 'second_match'], axis = 1)"
   ]
  },
  {
   "cell_type": "code",
   "execution_count": 12,
   "metadata": {},
   "outputs": [
    {
     "data": {
      "text/html": [
       "<div>\n",
       "<style scoped>\n",
       "    .dataframe tbody tr th:only-of-type {\n",
       "        vertical-align: middle;\n",
       "    }\n",
       "\n",
       "    .dataframe tbody tr th {\n",
       "        vertical-align: top;\n",
       "    }\n",
       "\n",
       "    .dataframe thead th {\n",
       "        text-align: right;\n",
       "    }\n",
       "</style>\n",
       "<table border=\"1\" class=\"dataframe\">\n",
       "  <thead>\n",
       "    <tr style=\"text-align: right;\">\n",
       "      <th></th>\n",
       "      <th>hsisid</th>\n",
       "      <th>date</th>\n",
       "      <th>restaurantopendate</th>\n",
       "      <th>facilitytype</th>\n",
       "      <th>inspection_num</th>\n",
       "      <th>inspector_id</th>\n",
       "      <th>days_since_previous_inspection</th>\n",
       "      <th>previous_inspection_by_same_inspector</th>\n",
       "      <th>score</th>\n",
       "      <th>num_critical</th>\n",
       "      <th>num_non_critical</th>\n",
       "      <th>num_critical_previous</th>\n",
       "      <th>num_non_critical_previous</th>\n",
       "      <th>num_critical_mean_previous</th>\n",
       "      <th>num_non_critical_mean_previous</th>\n",
       "      <th>critical</th>\n",
       "    </tr>\n",
       "  </thead>\n",
       "  <tbody>\n",
       "    <tr>\n",
       "      <th>0</th>\n",
       "      <td>4092013748</td>\n",
       "      <td>2012-09-21T00:00:00Z</td>\n",
       "      <td>2002-12-21T00:00:00Z</td>\n",
       "      <td>Restaurant</td>\n",
       "      <td>1</td>\n",
       "      <td>27.0</td>\n",
       "      <td>NaN</td>\n",
       "      <td>NaN</td>\n",
       "      <td>96.0</td>\n",
       "      <td>9</td>\n",
       "      <td>7</td>\n",
       "      <td>NaN</td>\n",
       "      <td>NaN</td>\n",
       "      <td>NaN</td>\n",
       "      <td>NaN</td>\n",
       "      <td>1</td>\n",
       "    </tr>\n",
       "    <tr>\n",
       "      <th>1</th>\n",
       "      <td>4092014046</td>\n",
       "      <td>2012-09-21T00:00:00Z</td>\n",
       "      <td>2004-05-04T00:00:00Z</td>\n",
       "      <td>Restaurant</td>\n",
       "      <td>1</td>\n",
       "      <td>7.0</td>\n",
       "      <td>NaN</td>\n",
       "      <td>NaN</td>\n",
       "      <td>98.0</td>\n",
       "      <td>0</td>\n",
       "      <td>11</td>\n",
       "      <td>NaN</td>\n",
       "      <td>NaN</td>\n",
       "      <td>NaN</td>\n",
       "      <td>NaN</td>\n",
       "      <td>0</td>\n",
       "    </tr>\n",
       "    <tr>\n",
       "      <th>2</th>\n",
       "      <td>4092015191</td>\n",
       "      <td>2012-09-21T00:00:00Z</td>\n",
       "      <td>2008-08-04T00:00:00Z</td>\n",
       "      <td>Restaurant</td>\n",
       "      <td>1</td>\n",
       "      <td>3.0</td>\n",
       "      <td>NaN</td>\n",
       "      <td>NaN</td>\n",
       "      <td>97.0</td>\n",
       "      <td>4</td>\n",
       "      <td>8</td>\n",
       "      <td>NaN</td>\n",
       "      <td>NaN</td>\n",
       "      <td>NaN</td>\n",
       "      <td>NaN</td>\n",
       "      <td>1</td>\n",
       "    </tr>\n",
       "    <tr>\n",
       "      <th>3</th>\n",
       "      <td>4092016122</td>\n",
       "      <td>2012-09-21T00:00:00Z</td>\n",
       "      <td>2012-03-28T00:00:00Z</td>\n",
       "      <td>Restaurant</td>\n",
       "      <td>1</td>\n",
       "      <td>24.0</td>\n",
       "      <td>NaN</td>\n",
       "      <td>NaN</td>\n",
       "      <td>99.0</td>\n",
       "      <td>2</td>\n",
       "      <td>3</td>\n",
       "      <td>NaN</td>\n",
       "      <td>NaN</td>\n",
       "      <td>NaN</td>\n",
       "      <td>NaN</td>\n",
       "      <td>1</td>\n",
       "    </tr>\n",
       "    <tr>\n",
       "      <th>4</th>\n",
       "      <td>4092021513</td>\n",
       "      <td>2012-09-21T00:00:00Z</td>\n",
       "      <td>2008-02-25T00:00:00Z</td>\n",
       "      <td>Food Stand</td>\n",
       "      <td>1</td>\n",
       "      <td>7.0</td>\n",
       "      <td>NaN</td>\n",
       "      <td>NaN</td>\n",
       "      <td>97.0</td>\n",
       "      <td>2</td>\n",
       "      <td>4</td>\n",
       "      <td>NaN</td>\n",
       "      <td>NaN</td>\n",
       "      <td>NaN</td>\n",
       "      <td>NaN</td>\n",
       "      <td>1</td>\n",
       "    </tr>\n",
       "  </tbody>\n",
       "</table>\n",
       "</div>"
      ],
      "text/plain": [
       "       hsisid                  date    restaurantopendate facilitytype  \\\n",
       "0  4092013748  2012-09-21T00:00:00Z  2002-12-21T00:00:00Z   Restaurant   \n",
       "1  4092014046  2012-09-21T00:00:00Z  2004-05-04T00:00:00Z   Restaurant   \n",
       "2  4092015191  2012-09-21T00:00:00Z  2008-08-04T00:00:00Z   Restaurant   \n",
       "3  4092016122  2012-09-21T00:00:00Z  2012-03-28T00:00:00Z   Restaurant   \n",
       "4  4092021513  2012-09-21T00:00:00Z  2008-02-25T00:00:00Z   Food Stand   \n",
       "\n",
       "   inspection_num  inspector_id  days_since_previous_inspection  \\\n",
       "0               1          27.0                             NaN   \n",
       "1               1           7.0                             NaN   \n",
       "2               1           3.0                             NaN   \n",
       "3               1          24.0                             NaN   \n",
       "4               1           7.0                             NaN   \n",
       "\n",
       "  previous_inspection_by_same_inspector  score  num_critical  \\\n",
       "0                                   NaN   96.0             9   \n",
       "1                                   NaN   98.0             0   \n",
       "2                                   NaN   97.0             4   \n",
       "3                                   NaN   99.0             2   \n",
       "4                                   NaN   97.0             2   \n",
       "\n",
       "   num_non_critical  num_critical_previous  num_non_critical_previous  \\\n",
       "0                 7                    NaN                        NaN   \n",
       "1                11                    NaN                        NaN   \n",
       "2                 8                    NaN                        NaN   \n",
       "3                 3                    NaN                        NaN   \n",
       "4                 4                    NaN                        NaN   \n",
       "\n",
       "   num_critical_mean_previous  num_non_critical_mean_previous  critical  \n",
       "0                         NaN                             NaN         1  \n",
       "1                         NaN                             NaN         0  \n",
       "2                         NaN                             NaN         1  \n",
       "3                         NaN                             NaN         1  \n",
       "4                         NaN                             NaN         1  "
      ]
     },
     "execution_count": 12,
     "metadata": {},
     "output_type": "execute_result"
    }
   ],
   "source": [
    "inspections = inspections.drop(['geocodestatus', 'postalcode','x', 'y', 'city', 'zip', 'type', 'inspectedby', 'address1', 'address2' , 'state', 'name', 'phonenumber', 'previous_inspection_date', 'days_from_open_date', 'description', 'postalcode'], axis = 1)\n",
    "inspections.head()"
   ]
  },
  {
   "cell_type": "code",
   "execution_count": 13,
   "metadata": {},
   "outputs": [],
   "source": [
    "inspections = inspections.astype({'inspector_id' : str})"
   ]
  },
  {
   "cell_type": "markdown",
   "metadata": {},
   "source": [
    "# Data Analysis & Results"
   ]
  },
  {
   "cell_type": "markdown",
   "metadata": {},
   "source": [
    "First I will extract the data points where the inspection was failed. By checking the value counts of id's in this group, I can establish how often facilities failed multiple times."
   ]
  },
  {
   "cell_type": "code",
   "execution_count": 14,
   "metadata": {},
   "outputs": [],
   "source": [
    "fi = inspections[inspections['score'] < 90]\n",
    "fi_id = inspections['hsisid'][inspections['score'] < 90]\n",
    "fi_num = inspections['inspection_num'][inspections['score'] < 90]\n",
    "fi_scores = inspections['score'][inspections['score'] < 90]"
   ]
  },
  {
   "cell_type": "code",
   "execution_count": 15,
   "metadata": {},
   "outputs": [
    {
     "data": {
      "text/plain": [
       "<matplotlib.axes._subplots.AxesSubplot at 0x1c1e1dde10>"
      ]
     },
     "execution_count": 15,
     "metadata": {},
     "output_type": "execute_result"
    },
    {
     "data": {
      "image/png": "[encoded data removed]",
      "text/plain": [
       "<Figure size 432x288 with 1 Axes>"
      ]
     },
     "metadata": {
      "image/png": {
       "height": 287,
       "width": 389
      },
      "needs_background": "light"
     },
     "output_type": "display_data"
    }
   ],
   "source": [
    "sns.distplot(fi_scores, bins = 20)"
   ]
  },
  {
   "cell_type": "code",
   "execution_count": 16,
   "metadata": {},
   "outputs": [
    {
     "data": {
      "text/plain": [
       "<matplotlib.axes._subplots.AxesSubplot at 0x1c1e282668>"
      ]
     },
     "execution_count": 16,
     "metadata": {},
     "output_type": "execute_result"
    },
    {
     "data": {
      "image/png": "[encoded data removed]",
      "text/plain": [
       "<Figure size 432x288 with 1 Axes>"
      ]
     },
     "metadata": {
      "image/png": {
       "height": 261,
       "width": 422
      },
      "needs_background": "light"
     },
     "output_type": "display_data"
    }
   ],
   "source": [
    "fi_id.value_counts().plot('hist', bins = 5)"
   ]
  },
  {
   "cell_type": "markdown",
   "metadata": {},
   "source": [
    "From this barplot, it appears that it is much more common for a facility to fail once, but there are more than 50 facilities that fail multiple times."
   ]
  },
  {
   "cell_type": "code",
   "execution_count": 17,
   "metadata": {},
   "outputs": [
    {
     "data": {
      "text/plain": [
       "Restaurant                    0.891228\n",
       "Food Stand                    0.066667\n",
       "Mobile Food Units             0.021053\n",
       "Meat Market                   0.010526\n",
       "Institutional Food Service    0.007018\n",
       "Pushcarts                     0.003509\n",
       "Name: facilitytype, dtype: float64"
      ]
     },
     "execution_count": 17,
     "metadata": {},
     "output_type": "execute_result"
    }
   ],
   "source": [
    "fi['facilitytype'].value_counts('Restaurant')"
   ]
  },
  {
   "cell_type": "code",
   "execution_count": 18,
   "metadata": {},
   "outputs": [
    {
     "data": {
      "text/plain": [
       "0.8912280701754386"
      ]
     },
     "execution_count": 18,
     "metadata": {},
     "output_type": "execute_result"
    }
   ],
   "source": [
    "len(fi[fi['facilitytype'] == 'Restaurant'])/ len(fi)"
   ]
  },
  {
   "cell_type": "code",
   "execution_count": 19,
   "metadata": {},
   "outputs": [
    {
     "data": {
      "text/plain": [
       "Restaurant                           0.649031\n",
       "Food Stand                           0.176162\n",
       "Public School Lunchrooms             0.085942\n",
       "Meat Market                          0.039803\n",
       "Institutional Food Service           0.019441\n",
       "Mobile Food Units                    0.011535\n",
       "Private School Lunchrooms            0.007311\n",
       "Pushcarts                            0.006878\n",
       "Elderly Nutrition Sites (catered)    0.003737\n",
       "Limited Food Service                 0.000162\n",
       "Name: facilitytype, dtype: float64"
      ]
     },
     "execution_count": 19,
     "metadata": {},
     "output_type": "execute_result"
    }
   ],
   "source": [
    "inspections['facilitytype'].value_counts('Restaurant')"
   ]
  },
  {
   "cell_type": "markdown",
   "metadata": {},
   "source": [
    "Restaurants fail inspections disproportionately more often than other types of facilities."
   ]
  },
  {
   "cell_type": "code",
   "execution_count": 20,
   "metadata": {},
   "outputs": [
    {
     "data": {
      "text/plain": [
       "1.0     0.074136\n",
       "10.0    0.070508\n",
       "25.0    0.068613\n",
       "28.0    0.063576\n",
       "7.0     0.061248\n",
       "2.0     0.058053\n",
       "22.0    0.057511\n",
       "18.0    0.054533\n",
       "3.0     0.051825\n",
       "6.0     0.050200\n",
       "5.0     0.048955\n",
       "15.0    0.046680\n",
       "9.0     0.044352\n",
       "23.0    0.033250\n",
       "21.0    0.031192\n",
       "11.0    0.030705\n",
       "8.0     0.020957\n",
       "16.0    0.018737\n",
       "29.0    0.018304\n",
       "27.0    0.017979\n",
       "14.0    0.017004\n",
       "31.0    0.014621\n",
       "32.0    0.011426\n",
       "20.0    0.009260\n",
       "24.0    0.008827\n",
       "4.0     0.007527\n",
       "13.0    0.005036\n",
       "19.0    0.004224\n",
       "nan     0.000271\n",
       "12.0    0.000217\n",
       "26.0    0.000217\n",
       "17.0    0.000054\n",
       "Name: inspector_id, dtype: float64"
      ]
     },
     "execution_count": 20,
     "metadata": {},
     "output_type": "execute_result"
    }
   ],
   "source": [
    "inspections['inspector_id'].value_counts(1.0)"
   ]
  },
  {
   "cell_type": "code",
   "execution_count": 21,
   "metadata": {},
   "outputs": [
    {
     "data": {
      "text/plain": [
       "2.0     0.185965\n",
       "25.0    0.154386\n",
       "1.0     0.119298\n",
       "31.0    0.101754\n",
       "22.0    0.084211\n",
       "28.0    0.063158\n",
       "27.0    0.052632\n",
       "18.0    0.042105\n",
       "15.0    0.038596\n",
       "8.0     0.024561\n",
       "7.0     0.021053\n",
       "11.0    0.021053\n",
       "23.0    0.017544\n",
       "5.0     0.014035\n",
       "14.0    0.010526\n",
       "6.0     0.010526\n",
       "21.0    0.007018\n",
       "9.0     0.007018\n",
       "13.0    0.007018\n",
       "4.0     0.007018\n",
       "10.0    0.003509\n",
       "32.0    0.003509\n",
       "20.0    0.003509\n",
       "Name: inspector_id, dtype: float64"
      ]
     },
     "execution_count": 21,
     "metadata": {},
     "output_type": "execute_result"
    }
   ],
   "source": [
    "fi['inspector_id'].value_counts(2.0)"
   ]
  },
  {
   "cell_type": "code",
   "execution_count": 22,
   "metadata": {},
   "outputs": [
    {
     "name": "stdout",
     "output_type": "stream",
     "text": [
      "                            OLS Regression Results                            \n",
      "==============================================================================\n",
      "Dep. Variable:                  score   R-squared:                       0.553\n",
      "Model:                            OLS   Adj. R-squared:                  0.553\n",
      "Method:                 Least Squares   F-statistic:                 1.140e+04\n",
      "Date:                Tue, 09 Jun 2020   Prob (F-statistic):               0.00\n",
      "Time:                        19:21:18   Log-Likelihood:                -36802.\n",
      "No. Observations:               18466   AIC:                         7.361e+04\n",
      "Df Residuals:                   18463   BIC:                         7.363e+04\n",
      "Df Model:                           2                                         \n",
      "Covariance Type:            nonrobust                                         \n",
      "====================================================================================\n",
      "                       coef    std err          t      P>|t|      [0.025      0.975]\n",
      "------------------------------------------------------------------------------------\n",
      "Intercept           98.9235      0.023   4322.012      0.000      98.879      98.968\n",
      "num_critical        -0.4318      0.005    -78.767      0.000      -0.443      -0.421\n",
      "num_non_critical    -0.2828      0.004    -67.562      0.000      -0.291      -0.275\n",
      "==============================================================================\n",
      "Omnibus:                     3494.271   Durbin-Watson:                   1.678\n",
      "Prob(Omnibus):                  0.000   Jarque-Bera (JB):            14465.788\n",
      "Skew:                          -0.886   Prob(JB):                         0.00\n",
      "Kurtosis:                       6.957   Cond. No.                         12.7\n",
      "==============================================================================\n",
      "\n",
      "Warnings:\n",
      "[1] Standard Errors assume that the covariance matrix of the errors is correctly specified.\n"
     ]
    }
   ],
   "source": [
    "outcome, predictors = patsy.dmatrices('score ~ num_critical + num_non_critical', inspections)\n",
    "mod = sm.OLS(outcome, predictors)  \n",
    "res = mod.fit()\n",
    "print(res.summary())"
   ]
  },
  {
   "cell_type": "markdown",
   "metadata": {},
   "source": [
    "This linear regression model accounts for over 50% of the variability in scores. If every critical violation and non-critical violation was weighted the same, you would expect nearly 100% of the variability in scores to be determined by the number of critical and non-critical violations. This demonstrates that there is some variation in the meaning of a violation, possibly through some specific criteria or the discretion of the inspector."
   ]
  },
  {
   "cell_type": "code",
   "execution_count": 23,
   "metadata": {},
   "outputs": [
    {
     "name": "stdout",
     "output_type": "stream",
     "text": [
      "                            OLS Regression Results                            \n",
      "==============================================================================\n",
      "Dep. Variable:                  score   R-squared:                       0.241\n",
      "Model:                            OLS   Adj. R-squared:                  0.240\n",
      "Method:                 Least Squares   F-statistic:                     150.1\n",
      "Date:                Tue, 09 Jun 2020   Prob (F-statistic):               0.00\n",
      "Time:                        19:21:18   Log-Likelihood:                -41668.\n",
      "No. Observations:               18461   AIC:                         8.342e+04\n",
      "Df Residuals:                   18421   BIC:                         8.373e+04\n",
      "Df Model:                          39                                         \n",
      "Covariance Type:            nonrobust                                         \n",
      "==============================================================================================================\n",
      "                                                 coef    std err          t      P>|t|      [0.025      0.975]\n",
      "--------------------------------------------------------------------------------------------------------------\n",
      "Intercept                                     97.3120      0.284    342.149      0.000      96.754      97.869\n",
      "inspector_id[T.10.0]                           2.4757      0.090     27.532      0.000       2.299       2.652\n",
      "inspector_id[T.11.0]                           1.0723      0.116      9.249      0.000       0.845       1.300\n",
      "inspector_id[T.12.0]                           1.9659      1.160      1.694      0.090      -0.308       4.240\n",
      "inspector_id[T.13.0]                           0.4793      0.248      1.932      0.053      -0.007       0.966\n",
      "inspector_id[T.14.0]                           2.3100      0.145     15.936      0.000       2.026       2.594\n",
      "inspector_id[T.15.0]                           2.1188      0.101     20.975      0.000       1.921       2.317\n",
      "inspector_id[T.16.0]                           1.9511      0.140     13.977      0.000       1.677       2.225\n",
      "inspector_id[T.17.0]                           2.2751      2.315      0.983      0.326      -2.264       6.814\n",
      "inspector_id[T.18.0]                           1.3232      0.097     13.708      0.000       1.134       1.512\n",
      "inspector_id[T.19.0]                           2.0477      0.270      7.592      0.000       1.519       2.576\n",
      "inspector_id[T.2.0]                            0.6933      0.095      7.301      0.000       0.507       0.879\n",
      "inspector_id[T.20.0]                           1.6513      0.188      8.787      0.000       1.283       2.020\n",
      "inspector_id[T.21.0]                           2.0120      0.115     17.444      0.000       1.786       2.238\n",
      "inspector_id[T.22.0]                           1.3123      0.095     13.848      0.000       1.127       1.498\n",
      "inspector_id[T.23.0]                           1.4648      0.113     12.986      0.000       1.244       1.686\n",
      "inspector_id[T.24.0]                           1.7802      0.192      9.265      0.000       1.404       2.157\n",
      "inspector_id[T.25.0]                          -0.2141      0.091     -2.364      0.018      -0.392      -0.037\n",
      "inspector_id[T.26.0]                          -2.1932      1.160     -1.891      0.059      -4.466       0.080\n",
      "inspector_id[T.27.0]                           0.3023      0.142      2.130      0.033       0.024       0.580\n",
      "inspector_id[T.28.0]                           1.4330      0.092     15.554      0.000       1.252       1.614\n",
      "inspector_id[T.29.0]                           2.3269      0.141     16.528      0.000       2.051       2.603\n",
      "inspector_id[T.3.0]                            3.1925      0.098     32.613      0.000       3.001       3.384\n",
      "inspector_id[T.31.0]                          -1.8845      0.155    -12.188      0.000      -2.188      -1.581\n",
      "inspector_id[T.32.0]                           1.5741      0.171      9.182      0.000       1.238       1.910\n",
      "inspector_id[T.4.0]                            1.8371      0.206      8.910      0.000       1.433       2.241\n",
      "inspector_id[T.5.0]                            2.1992      0.099     22.142      0.000       2.005       2.394\n",
      "inspector_id[T.6.0]                            1.9790      0.099     20.047      0.000       1.786       2.173\n",
      "inspector_id[T.7.0]                            1.4230      0.093     15.290      0.000       1.241       1.605\n",
      "inspector_id[T.8.0]                            0.7991      0.134      5.981      0.000       0.537       1.061\n",
      "inspector_id[T.9.0]                            2.2182      0.103     21.624      0.000       2.017       2.419\n",
      "facilitytype[T.Food Stand]                    -1.9426      0.282     -6.881      0.000      -2.496      -1.389\n",
      "facilitytype[T.Institutional Food Service]    -2.2653      0.305     -7.427      0.000      -2.863      -1.667\n",
      "facilitytype[T.Limited Food Service]          -0.9826      1.366     -0.719      0.472      -3.660       1.695\n",
      "facilitytype[T.Meat Market]                   -1.3808      0.292     -4.727      0.000      -1.953      -0.808\n",
      "facilitytype[T.Mobile Food Units]             -1.5226      0.322     -4.734      0.000      -2.153      -0.892\n",
      "facilitytype[T.Private School Lunchrooms]     -0.9208      0.344     -2.679      0.007      -1.594      -0.247\n",
      "facilitytype[T.Public School Lunchrooms]      -0.3865      0.285     -1.355      0.175      -0.945       0.172\n",
      "facilitytype[T.Pushcarts]                     -0.2501      0.348     -0.720      0.472      -0.931       0.431\n",
      "facilitytype[T.Restaurant]                    -3.0870      0.280    -11.017      0.000      -3.636      -2.538\n",
      "==============================================================================\n",
      "Omnibus:                     5514.611   Durbin-Watson:                   1.917\n",
      "Prob(Omnibus):                  0.000   Jarque-Bera (JB):            24744.655\n",
      "Skew:                          -1.398   Prob(JB):                         0.00\n",
      "Kurtosis:                       7.935   Cond. No.                         170.\n",
      "==============================================================================\n",
      "\n",
      "Warnings:\n",
      "[1] Standard Errors assume that the covariance matrix of the errors is correctly specified.\n"
     ]
    }
   ],
   "source": [
    "outcome, predictors = patsy.dmatrices('score ~ inspector_id + facilitytype', inspections)\n",
    "mod = sm.OLS(outcome, predictors)  \n",
    "res = mod.fit()\n",
    "print(res.summary())"
   ]
  },
  {
   "cell_type": "markdown",
   "metadata": {},
   "source": [
    "As I suggested above, the inspector id and facility type have a certain (albeit limited) range of predictive power in determining the score of an inspection. "
   ]
  },
  {
   "cell_type": "code",
   "execution_count": 24,
   "metadata": {},
   "outputs": [
    {
     "name": "stdout",
     "output_type": "stream",
     "text": [
      "                            OLS Regression Results                            \n",
      "==============================================================================\n",
      "Dep. Variable:                  score   R-squared:                       0.290\n",
      "Model:                            OLS   Adj. R-squared:                  0.290\n",
      "Method:                 Least Squares   F-statistic:                     3148.\n",
      "Date:                Tue, 09 Jun 2020   Prob (F-statistic):               0.00\n",
      "Time:                        19:21:18   Log-Likelihood:                -34445.\n",
      "No. Observations:               15421   AIC:                         6.890e+04\n",
      "Df Residuals:                   15418   BIC:                         6.892e+04\n",
      "Df Model:                           2                                         \n",
      "Covariance Type:            nonrobust                                         \n",
      "==================================================================================================\n",
      "                                     coef    std err          t      P>|t|      [0.025      0.975]\n",
      "--------------------------------------------------------------------------------------------------\n",
      "Intercept                         98.7077      0.037   2633.901      0.000      98.634      98.781\n",
      "num_critical_mean_previous        -0.3074      0.010    -31.917      0.000      -0.326      -0.289\n",
      "num_non_critical_mean_previous    -0.2833      0.007    -40.579      0.000      -0.297      -0.270\n",
      "==============================================================================\n",
      "Omnibus:                     4491.441   Durbin-Watson:                   1.876\n",
      "Prob(Omnibus):                  0.000   Jarque-Bera (JB):            19636.724\n",
      "Skew:                          -1.368   Prob(JB):                         0.00\n",
      "Kurtosis:                       7.804   Cond. No.                         15.4\n",
      "==============================================================================\n",
      "\n",
      "Warnings:\n",
      "[1] Standard Errors assume that the covariance matrix of the errors is correctly specified.\n"
     ]
    }
   ],
   "source": [
    "outcome, predictors = patsy.dmatrices('score ~ num_critical_mean_previous + num_non_critical_mean_previous', inspections)\n",
    "mod = sm.OLS(outcome, predictors)  \n",
    "res = mod.fit()\n",
    "print(res.summary())"
   ]
  },
  {
   "cell_type": "markdown",
   "metadata": {},
   "source": [
    "After running a few variations of the multiple regression above, it appears that the mean number of critical and non-critical previous violations has the best statistical power to predict the score of a given inspection (provided that we don't already have the violation data for that inspection). This finding demonstrates that while a facility's previous inspection can be important in determining the outcome of the current, the aggregration of all their previous inspections reveals more about their likely score."
   ]
  },
  {
   "cell_type": "code",
   "execution_count": 25,
   "metadata": {},
   "outputs": [
    {
     "name": "stdout",
     "output_type": "stream",
     "text": [
      "                            OLS Regression Results                            \n",
      "==============================================================================\n",
      "Dep. Variable:                  score   R-squared:                       0.034\n",
      "Model:                            OLS   Adj. R-squared:                  0.027\n",
      "Method:                 Least Squares   F-statistic:                     4.560\n",
      "Date:                Tue, 09 Jun 2020   Prob (F-statistic):             0.0113\n",
      "Time:                        19:21:18   Log-Likelihood:                -623.91\n",
      "No. Observations:                 259   AIC:                             1254.\n",
      "Df Residuals:                     256   BIC:                             1264.\n",
      "Df Model:                           2                                         \n",
      "Covariance Type:            nonrobust                                         \n",
      "==================================================================================================\n",
      "                                     coef    std err          t      P>|t|      [0.025      0.975]\n",
      "--------------------------------------------------------------------------------------------------\n",
      "Intercept                         87.2250      0.456    191.252      0.000      86.327      88.123\n",
      "num_critical_mean_previous        -0.1506      0.066     -2.276      0.024      -0.281      -0.020\n",
      "num_non_critical_mean_previous    -0.0270      0.045     -0.603      0.547      -0.115       0.061\n",
      "==============================================================================\n",
      "Omnibus:                       92.666   Durbin-Watson:                   1.873\n",
      "Prob(Omnibus):                  0.000   Jarque-Bera (JB):              241.276\n",
      "Skew:                          -1.659   Prob(JB):                     4.05e-53\n",
      "Kurtosis:                       6.368   Cond. No.                         33.6\n",
      "==============================================================================\n",
      "\n",
      "Warnings:\n",
      "[1] Standard Errors assume that the covariance matrix of the errors is correctly specified.\n"
     ]
    }
   ],
   "source": [
    "outcome, predictors = patsy.dmatrices('score ~ num_critical_mean_previous + num_non_critical_mean_previous', inspections[inspections['score'] < 90])\n",
    "mod = sm.OLS(outcome, predictors)  \n",
    "res = mod.fit()\n",
    "print(res.summary())"
   ]
  },
  {
   "cell_type": "markdown",
   "metadata": {},
   "source": [
    "Strangely, by running the same model on the failed inspections, we discover that the same features are a very poor predictor of score. This phenomenon suggests that business who fail their inspections are not bound very tightly in  relationship with previous scores. There is a possibility that most failed inspections are out of the normal character of the facility that received the score. This suggestion is supported by the fact that most facilities who fail only fail once, while most facilities were tested from 4-9 times within the period."
   ]
  },
  {
   "cell_type": "markdown",
   "metadata": {},
   "source": [
    "# Ethics & Privacy"
   ]
  },
  {
   "cell_type": "markdown",
   "metadata": {},
   "source": [
    "Much of the content of the database that I have been given to conduct an analysis of is public information by design. Information about each restaurant's current inspection score is available both physically (usually in the shop window) and online in the Food Safety Department's database. The primary detail that should not be made available is the indentity of the inspector. Many other features point to the location of the business, which should be available to any interested citizen. Overall, the inspection system is designed by government agencies to maintain that food facilities are following health protocols and that citizens are aware of any withstanding violations. Because of this, privacy concerns do not apply, except in the case already specified. "
   ]
  },
  {
   "cell_type": "markdown",
   "metadata": {},
   "source": [
    "# Conclusion & Discussion"
   ]
  },
  {
   "cell_type": "markdown",
   "metadata": {},
   "source": [
    "Throughout the course of this project, I formed many ideas as to how I could run a poignant analysis that suitably answers my research question. I was able to manifest almost none of these methods in code, making my project a marked failure from my perspective. I first wished to determine how well a facility does in their next inspection after they've received a failing score. I had hoped to determine if giving a facility a failing score is an effective motivation for bettering their practices in the future. After several hours attempting to implement code that would be able to find the next instance of a given hsisid (the inspection conducted directly after the facility's fail), I was unsuccessful.\n",
    "\n",
    "Next I arrived at a new research question, which still dealt with failed inspections (or those with a score below 90). I chose this population of inspections because I noticed that the vast majority of inspections receive a score above 90, making it difficult to localize the features responsible for this result. By extracting the instances of an unsuccessful inspection, I felt that I could learn more about the features that effect the results of inspections overall. \n",
    "\n",
    "After I ran the value counts assessment of facility type and inspector-id, I hoped to display these in a barplot which would, for each variable, compare the proportion of instances in the inspections dataset as a whole against the proportion of instances in the failed inspections dataset. I believed this would memorably represent the differences across categories. This, too, I failed to create, as I could not navigate the seaborn documentation to arrive at the syntax necessary. I feel that with a visualization this finding would have been one of the more interesting discoveries of my analysis, but my failure to express this phenomenon visually detracts heavily from the audience's ability to comprehend it fully. \n",
    "\n",
    "As approached a linear model, I hoped to develop a model that would predict a facility's score based on features that didn't include the violations recorded in their inspection. With regards to using the previous violations data (critical and non-critical) to predict the score of the current inspection, I had originally hoped to create a system that would find the previous score of a facility using its id and use that feature to predict the current score. Although I was unable to manage this, I found that the previous violations data did have a certain level of predictive power; however, when I attempted to use a similar relationship (mean previous instead of previous) to predict the scores of a failed inspections, I found that the relationship did not hold. This detail leads me to believe that a facility's inspection history cannot effectively predict when it will fail an inspection. I conclude that most failed inspections are essentially flukes, which are likely influenced by the identity of the inspector. In the future, I hope to analyze how a facility responds after they've failed an inspection. The relatively low number of repeated failures suggests that most facilities set themselves straight after one failed inspection, but I hope to conduct a more thorough analysis and possibly erect categories over certain facilities where they already exist"
   ]
  }
 ],
 "metadata": {
  "kernelspec": {
   "display_name": "Python 3",
   "language": "python",
   "name": "python3"
  },
  "language_info": {
   "codemirror_mode": {
    "name": "ipython",
    "version": 3
   },
   "file_extension": ".py",
   "mimetype": "text/x-python",
   "name": "python",
   "nbconvert_exporter": "python",
   "pygments_lexer": "ipython3",
   "version": "3.7.3"
  }
 },
 "nbformat": 4,
 "nbformat_minor": 2
}
