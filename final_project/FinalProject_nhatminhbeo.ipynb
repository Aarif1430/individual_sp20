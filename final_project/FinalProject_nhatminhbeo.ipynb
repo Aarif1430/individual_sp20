{
 "cells": [
  {
   "cell_type": "markdown",
   "metadata": {},
   "source": [
    "# COGS 108 - Final Project "
   ]
  },
  {
   "cell_type": "markdown",
   "metadata": {},
   "source": [
    "# Overview"
   ]
  },
  {
   "cell_type": "markdown",
   "metadata": {},
   "source": [
    "A common myth that has always been circulating around is that Asian restaurants are less hygienic than that of other cuisines. This project concerns whether if the food inspection result of restaurants in North Carolina varies by the food cuisine. Using the inspection score of restaurants from North Carolina, and the restaurant information provided by Yelp, we have shown that there is a significant difference in food inspection result of restaurants in North Carolina between Chinese and Italian cuisine. Various analysis method was used, including Student's T-test, pivot table, and Univariate/Multivariate Linear Model to confirm this difference."
   ]
  },
  {
   "cell_type": "markdown",
   "metadata": {},
   "source": [
    "# Name & PID\n",
    "\n",
    "- Name: Minh Tran Quoc\n",
    "- PID: A9214999"
   ]
  },
  {
   "cell_type": "markdown",
   "metadata": {},
   "source": [
    "# Research Question"
   ]
  },
  {
   "cell_type": "markdown",
   "metadata": {},
   "source": [
    "Does the food inspection result of restaurants in North Carolina vary by the food cuisine?"
   ]
  },
  {
   "cell_type": "markdown",
   "metadata": {},
   "source": [
    "## Background and Prior Work"
   ]
  },
  {
   "cell_type": "markdown",
   "metadata": {},
   "source": [
    "A common myth that has always been circulating around is that Asian restaurants, especially the Chinese ones are less hygienic than that of other cuisines. Prior works conducted in 2015 by Andrew Choothakan from USF using the data from the San Francisco Department of Public Health have releaved that indeed Asian restaurants in San Francisco, in general, have lower sanitation score than other cuisines[1]. Since food safety is and should be one of our main concerns when deciding our dining destination, we would like to examine whether a similar pattern applies to restaurants in North Carolina nowadays.\n",
    "\n",
    "References (include links):\n",
    "- 1) Andrew Choothakan: https://repository.usfca.edu/cgi/viewcontent.cgi?article=1195&context=capstone"
   ]
  },
  {
   "cell_type": "markdown",
   "metadata": {},
   "source": [
    "# Hypothesis\n"
   ]
  },
  {
   "cell_type": "markdown",
   "metadata": {},
   "source": [
    "Our hypothesis is that the pattern also applies in North Carolina, that is, Chinese cuisine restaurants (which is an Asian cuisine) are less hygienic and have lower average inspection scores than Italian cuisine restaurants. The reason we thought so is because Choothakan conducted his or her study at around the same point of time with when the food inspection dataset we have from North Carolina was recorded, so we believe the similar pattern will apply. Also, this is a common implication that my community always have had and I think it is true."
   ]
  },
  {
   "cell_type": "markdown",
   "metadata": {},
   "source": [
    "# Dataset(s)"
   ]
  },
  {
   "cell_type": "markdown",
   "metadata": {},
   "source": [
    "### Dataset 1\n",
    "- Dataset Name: inspections.csv\n",
    "- Link to the dataset: Provided in data.zip\n",
    "- Number of observations: 18,466\n",
    "\n",
    "This dataset contains records of inspections performed on the restaurants in North Carolina from 2012 to 2016. This dataset includes date of inspection, the name of the restaurant inspected, its phone number, the score of the inspection, and other related inspection information.\n",
    "\n",
    "### Dataset 2\n",
    "- Dataset Name: yelp.csv\n",
    "- Link to the dataset: Provided in data.zip\n",
    "- Number of observations: 3,688\n",
    "\n",
    "This dataset contains records information of restaurants in North Carolina and includes the name of the restaurant, its phone number, whether it is a chinese restaurant, a traditional american restaurant, a modern american restaurant and other details about the restaurant.\n",
    "\n",
    "### Datasets combination\n",
    "The phone number of the restaurants in both datasets will be used to merge them together, producing a dataset that has at least the following information (the one that we need) for each observation: inspection id, restaurant id, inspection date, inspection score, whether the restaurant inspected is a chinese restaurant, and whether the restaurant inspected is an italian restaurant.\n",
    "\n"
   ]
  },
  {
   "cell_type": "markdown",
   "metadata": {},
   "source": [
    "# Setup"
   ]
  },
  {
   "cell_type": "code",
   "execution_count": 1,
   "metadata": {},
   "outputs": [],
   "source": [
    "import re\n",
    "import pandas as pd\n",
    "import numpy as np\n",
    "import matplotlib.pyplot as plt\n",
    "\n",
    "import warnings\n",
    "warnings.filterwarnings('ignore')\n",
    "\n",
    "import patsy\n",
    "import statsmodels.api as sm\n",
    "import scipy.stats as stats\n",
    "from scipy.stats import ttest_ind, chisquare, normaltest"
   ]
  },
  {
   "cell_type": "markdown",
   "metadata": {},
   "source": [
    "# Data Cleaning"
   ]
  },
  {
   "cell_type": "markdown",
   "metadata": {},
   "source": [
    "### 1. Loading the data, cleaning the null data"
   ]
  },
  {
   "cell_type": "code",
   "execution_count": 2,
   "metadata": {},
   "outputs": [
    {
     "data": {
      "text/html": [
       "<div>\n",
       "<style scoped>\n",
       "    .dataframe tbody tr th:only-of-type {\n",
       "        vertical-align: middle;\n",
       "    }\n",
       "\n",
       "    .dataframe tbody tr th {\n",
       "        vertical-align: top;\n",
       "    }\n",
       "\n",
       "    .dataframe thead th {\n",
       "        text-align: right;\n",
       "    }\n",
       "</style>\n",
       "<table border=\"1\" class=\"dataframe\">\n",
       "  <thead>\n",
       "    <tr style=\"text-align: right;\">\n",
       "      <th></th>\n",
       "      <th>hsisid</th>\n",
       "      <th>date</th>\n",
       "      <th>name</th>\n",
       "      <th>address1</th>\n",
       "      <th>address2</th>\n",
       "      <th>city</th>\n",
       "      <th>state</th>\n",
       "      <th>postalcode</th>\n",
       "      <th>phonenumber</th>\n",
       "      <th>restaurantopendate</th>\n",
       "      <th>...</th>\n",
       "      <th>num_non_critical</th>\n",
       "      <th>num_critical_previous</th>\n",
       "      <th>num_non_critical_previous</th>\n",
       "      <th>num_critical_mean_previous</th>\n",
       "      <th>num_non_critical_mean_previous</th>\n",
       "      <th>avg_neighbor_num_critical</th>\n",
       "      <th>avg_neighbor_num_non_critical</th>\n",
       "      <th>top_match</th>\n",
       "      <th>second_match</th>\n",
       "      <th>critical</th>\n",
       "    </tr>\n",
       "  </thead>\n",
       "  <tbody>\n",
       "    <tr>\n",
       "      <th>0</th>\n",
       "      <td>4092013748</td>\n",
       "      <td>2012-09-21T00:00:00Z</td>\n",
       "      <td>Cafe 3000 At Wake Med</td>\n",
       "      <td>3000 New Bern Ave</td>\n",
       "      <td>NaN</td>\n",
       "      <td>raleigh</td>\n",
       "      <td>NC</td>\n",
       "      <td>27610</td>\n",
       "      <td>(919) 350-8047</td>\n",
       "      <td>2002-12-21T00:00:00Z</td>\n",
       "      <td>...</td>\n",
       "      <td>7</td>\n",
       "      <td>NaN</td>\n",
       "      <td>NaN</td>\n",
       "      <td>NaN</td>\n",
       "      <td>NaN</td>\n",
       "      <td>NaN</td>\n",
       "      <td>NaN</td>\n",
       "      <td>NaN</td>\n",
       "      <td>NaN</td>\n",
       "      <td>1</td>\n",
       "    </tr>\n",
       "    <tr>\n",
       "      <th>1</th>\n",
       "      <td>4092014046</td>\n",
       "      <td>2012-09-21T00:00:00Z</td>\n",
       "      <td>Overtime Sports Pub</td>\n",
       "      <td>1030-149 N Rogers Ln</td>\n",
       "      <td>NaN</td>\n",
       "      <td>raleigh</td>\n",
       "      <td>NC</td>\n",
       "      <td>27610</td>\n",
       "      <td>(919) 255-9556</td>\n",
       "      <td>2004-05-04T00:00:00Z</td>\n",
       "      <td>...</td>\n",
       "      <td>11</td>\n",
       "      <td>NaN</td>\n",
       "      <td>NaN</td>\n",
       "      <td>NaN</td>\n",
       "      <td>NaN</td>\n",
       "      <td>NaN</td>\n",
       "      <td>NaN</td>\n",
       "      <td>NaN</td>\n",
       "      <td>NaN</td>\n",
       "      <td>0</td>\n",
       "    </tr>\n",
       "    <tr>\n",
       "      <th>2</th>\n",
       "      <td>4092015191</td>\n",
       "      <td>2012-09-21T00:00:00Z</td>\n",
       "      <td>TASTE OF CHINA</td>\n",
       "      <td>6209 ROCK QUARRY RD</td>\n",
       "      <td>STE 126</td>\n",
       "      <td>raleigh</td>\n",
       "      <td>NC</td>\n",
       "      <td>27610</td>\n",
       "      <td>(919) 773-2285</td>\n",
       "      <td>2008-08-04T00:00:00Z</td>\n",
       "      <td>...</td>\n",
       "      <td>8</td>\n",
       "      <td>NaN</td>\n",
       "      <td>NaN</td>\n",
       "      <td>NaN</td>\n",
       "      <td>NaN</td>\n",
       "      <td>NaN</td>\n",
       "      <td>NaN</td>\n",
       "      <td>NaN</td>\n",
       "      <td>NaN</td>\n",
       "      <td>1</td>\n",
       "    </tr>\n",
       "    <tr>\n",
       "      <th>3</th>\n",
       "      <td>4092016122</td>\n",
       "      <td>2012-09-21T00:00:00Z</td>\n",
       "      <td>Panera Bread #1643</td>\n",
       "      <td>1065 Darrington DR</td>\n",
       "      <td>NaN</td>\n",
       "      <td>cary</td>\n",
       "      <td>NC</td>\n",
       "      <td>27513</td>\n",
       "      <td>NaN</td>\n",
       "      <td>2012-03-28T00:00:00Z</td>\n",
       "      <td>...</td>\n",
       "      <td>3</td>\n",
       "      <td>NaN</td>\n",
       "      <td>NaN</td>\n",
       "      <td>NaN</td>\n",
       "      <td>NaN</td>\n",
       "      <td>NaN</td>\n",
       "      <td>NaN</td>\n",
       "      <td>NaN</td>\n",
       "      <td>NaN</td>\n",
       "      <td>1</td>\n",
       "    </tr>\n",
       "    <tr>\n",
       "      <th>4</th>\n",
       "      <td>4092021513</td>\n",
       "      <td>2012-09-21T00:00:00Z</td>\n",
       "      <td>WalMart Supercenter #4499-00 Deli/Bakery</td>\n",
       "      <td>841 E Gannon AVE</td>\n",
       "      <td>NaN</td>\n",
       "      <td>zebulon</td>\n",
       "      <td>NC</td>\n",
       "      <td>27597</td>\n",
       "      <td>(919) 269-2221 ext. 304</td>\n",
       "      <td>2008-02-25T00:00:00Z</td>\n",
       "      <td>...</td>\n",
       "      <td>4</td>\n",
       "      <td>NaN</td>\n",
       "      <td>NaN</td>\n",
       "      <td>NaN</td>\n",
       "      <td>NaN</td>\n",
       "      <td>NaN</td>\n",
       "      <td>NaN</td>\n",
       "      <td>NaN</td>\n",
       "      <td>NaN</td>\n",
       "      <td>1</td>\n",
       "    </tr>\n",
       "  </tbody>\n",
       "</table>\n",
       "<p>5 rows × 36 columns</p>\n",
       "</div>"
      ],
      "text/plain": [
       "       hsisid                  date                                      name  \\\n",
       "0  4092013748  2012-09-21T00:00:00Z                     Cafe 3000 At Wake Med   \n",
       "1  4092014046  2012-09-21T00:00:00Z                       Overtime Sports Pub   \n",
       "2  4092015191  2012-09-21T00:00:00Z                            TASTE OF CHINA   \n",
       "3  4092016122  2012-09-21T00:00:00Z                        Panera Bread #1643   \n",
       "4  4092021513  2012-09-21T00:00:00Z  WalMart Supercenter #4499-00 Deli/Bakery   \n",
       "\n",
       "               address1 address2     city state postalcode  \\\n",
       "0     3000 New Bern Ave      NaN  raleigh    NC      27610   \n",
       "1  1030-149 N Rogers Ln      NaN  raleigh    NC      27610   \n",
       "2   6209 ROCK QUARRY RD  STE 126  raleigh    NC      27610   \n",
       "3    1065 Darrington DR      NaN     cary    NC      27513   \n",
       "4      841 E Gannon AVE      NaN  zebulon    NC      27597   \n",
       "\n",
       "               phonenumber    restaurantopendate  ...  num_non_critical  \\\n",
       "0           (919) 350-8047  2002-12-21T00:00:00Z  ...                 7   \n",
       "1           (919) 255-9556  2004-05-04T00:00:00Z  ...                11   \n",
       "2           (919) 773-2285  2008-08-04T00:00:00Z  ...                 8   \n",
       "3                      NaN  2012-03-28T00:00:00Z  ...                 3   \n",
       "4  (919) 269-2221 ext. 304  2008-02-25T00:00:00Z  ...                 4   \n",
       "\n",
       "  num_critical_previous  num_non_critical_previous  \\\n",
       "0                   NaN                        NaN   \n",
       "1                   NaN                        NaN   \n",
       "2                   NaN                        NaN   \n",
       "3                   NaN                        NaN   \n",
       "4                   NaN                        NaN   \n",
       "\n",
       "   num_critical_mean_previous num_non_critical_mean_previous  \\\n",
       "0                         NaN                            NaN   \n",
       "1                         NaN                            NaN   \n",
       "2                         NaN                            NaN   \n",
       "3                         NaN                            NaN   \n",
       "4                         NaN                            NaN   \n",
       "\n",
       "   avg_neighbor_num_critical avg_neighbor_num_non_critical top_match  \\\n",
       "0                        NaN                           NaN       NaN   \n",
       "1                        NaN                           NaN       NaN   \n",
       "2                        NaN                           NaN       NaN   \n",
       "3                        NaN                           NaN       NaN   \n",
       "4                        NaN                           NaN       NaN   \n",
       "\n",
       "  second_match  critical  \n",
       "0          NaN         1  \n",
       "1          NaN         0  \n",
       "2          NaN         1  \n",
       "3          NaN         1  \n",
       "4          NaN         1  \n",
       "\n",
       "[5 rows x 36 columns]"
      ]
     },
     "execution_count": 2,
     "metadata": {},
     "output_type": "execute_result"
    }
   ],
   "source": [
    "df_inspection = pd.read_csv('inspections.csv')\n",
    "df_inspection.head()"
   ]
  },
  {
   "cell_type": "markdown",
   "metadata": {},
   "source": [
    "There are many columns we don't need, so let's filter them out & rename  the ones we actually use"
   ]
  },
  {
   "cell_type": "code",
   "execution_count": 3,
   "metadata": {},
   "outputs": [
    {
     "name": "stdout",
     "output_type": "stream",
     "text": [
      "number of rows: 18466\n"
     ]
    },
    {
     "data": {
      "text/html": [
       "<div>\n",
       "<style scoped>\n",
       "    .dataframe tbody tr th:only-of-type {\n",
       "        vertical-align: middle;\n",
       "    }\n",
       "\n",
       "    .dataframe tbody tr th {\n",
       "        vertical-align: top;\n",
       "    }\n",
       "\n",
       "    .dataframe thead th {\n",
       "        text-align: right;\n",
       "    }\n",
       "</style>\n",
       "<table border=\"1\" class=\"dataframe\">\n",
       "  <thead>\n",
       "    <tr style=\"text-align: right;\">\n",
       "      <th></th>\n",
       "      <th>hsisid</th>\n",
       "      <th>date</th>\n",
       "      <th>phone</th>\n",
       "      <th>score</th>\n",
       "    </tr>\n",
       "  </thead>\n",
       "  <tbody>\n",
       "    <tr>\n",
       "      <th>0</th>\n",
       "      <td>4092013748</td>\n",
       "      <td>2012-09-21T00:00:00Z</td>\n",
       "      <td>(919) 350-8047</td>\n",
       "      <td>96.0</td>\n",
       "    </tr>\n",
       "    <tr>\n",
       "      <th>1</th>\n",
       "      <td>4092014046</td>\n",
       "      <td>2012-09-21T00:00:00Z</td>\n",
       "      <td>(919) 255-9556</td>\n",
       "      <td>98.0</td>\n",
       "    </tr>\n",
       "    <tr>\n",
       "      <th>2</th>\n",
       "      <td>4092015191</td>\n",
       "      <td>2012-09-21T00:00:00Z</td>\n",
       "      <td>(919) 773-2285</td>\n",
       "      <td>97.0</td>\n",
       "    </tr>\n",
       "    <tr>\n",
       "      <th>3</th>\n",
       "      <td>4092016122</td>\n",
       "      <td>2012-09-21T00:00:00Z</td>\n",
       "      <td>NaN</td>\n",
       "      <td>99.0</td>\n",
       "    </tr>\n",
       "    <tr>\n",
       "      <th>4</th>\n",
       "      <td>4092021513</td>\n",
       "      <td>2012-09-21T00:00:00Z</td>\n",
       "      <td>(919) 269-2221 ext. 304</td>\n",
       "      <td>97.0</td>\n",
       "    </tr>\n",
       "  </tbody>\n",
       "</table>\n",
       "</div>"
      ],
      "text/plain": [
       "       hsisid                  date                    phone  score\n",
       "0  4092013748  2012-09-21T00:00:00Z           (919) 350-8047   96.0\n",
       "1  4092014046  2012-09-21T00:00:00Z           (919) 255-9556   98.0\n",
       "2  4092015191  2012-09-21T00:00:00Z           (919) 773-2285   97.0\n",
       "3  4092016122  2012-09-21T00:00:00Z                      NaN   99.0\n",
       "4  4092021513  2012-09-21T00:00:00Z  (919) 269-2221 ext. 304   97.0"
      ]
     },
     "execution_count": 3,
     "metadata": {},
     "output_type": "execute_result"
    }
   ],
   "source": [
    "print('number of rows:', len(df_inspection.index))\n",
    "df_inspection = df_inspection[['hsisid', 'date', 'phonenumber', 'score']]\n",
    "df_inspection.columns = ['hsisid', 'date', 'phone', 'score']\n",
    "df_inspection.head()"
   ]
  },
  {
   "cell_type": "code",
   "execution_count": 4,
   "metadata": {},
   "outputs": [
    {
     "data": {
      "text/html": [
       "<div>\n",
       "<style scoped>\n",
       "    .dataframe tbody tr th:only-of-type {\n",
       "        vertical-align: middle;\n",
       "    }\n",
       "\n",
       "    .dataframe tbody tr th {\n",
       "        vertical-align: top;\n",
       "    }\n",
       "\n",
       "    .dataframe thead th {\n",
       "        text-align: right;\n",
       "    }\n",
       "</style>\n",
       "<table border=\"1\" class=\"dataframe\">\n",
       "  <thead>\n",
       "    <tr style=\"text-align: right;\">\n",
       "      <th></th>\n",
       "      <th>id</th>\n",
       "      <th>name</th>\n",
       "      <th>is_closed</th>\n",
       "      <th>rating</th>\n",
       "      <th>review_count</th>\n",
       "      <th>address1</th>\n",
       "      <th>zip_code</th>\n",
       "      <th>latitude</th>\n",
       "      <th>longitude</th>\n",
       "      <th>price</th>\n",
       "      <th>...</th>\n",
       "      <th>italian</th>\n",
       "      <th>newamerican</th>\n",
       "      <th>chicken_wings</th>\n",
       "      <th>delis</th>\n",
       "      <th>bars</th>\n",
       "      <th>salad</th>\n",
       "      <th>seafood</th>\n",
       "      <th>bbq</th>\n",
       "      <th>bakeries</th>\n",
       "      <th>sushi</th>\n",
       "    </tr>\n",
       "  </thead>\n",
       "  <tbody>\n",
       "    <tr>\n",
       "      <th>0</th>\n",
       "      <td>42nd-street-oyster-bar-rdu-airport-morrisville</td>\n",
       "      <td>42nd street oyster bar - rdu airport</td>\n",
       "      <td>False</td>\n",
       "      <td>2.5</td>\n",
       "      <td>23</td>\n",
       "      <td>2400 John Brantley Blvd</td>\n",
       "      <td>27560</td>\n",
       "      <td>35.873808</td>\n",
       "      <td>-78.790896</td>\n",
       "      <td>$$</td>\n",
       "      <td>...</td>\n",
       "      <td>False</td>\n",
       "      <td>True</td>\n",
       "      <td>False</td>\n",
       "      <td>False</td>\n",
       "      <td>False</td>\n",
       "      <td>False</td>\n",
       "      <td>True</td>\n",
       "      <td>False</td>\n",
       "      <td>False</td>\n",
       "      <td>False</td>\n",
       "    </tr>\n",
       "    <tr>\n",
       "      <th>1</th>\n",
       "      <td>aldi-foods-cary</td>\n",
       "      <td>aldi foods</td>\n",
       "      <td>False</td>\n",
       "      <td>4.0</td>\n",
       "      <td>17</td>\n",
       "      <td>2303 NW Maynard Rd</td>\n",
       "      <td>27519</td>\n",
       "      <td>35.802840</td>\n",
       "      <td>-78.785930</td>\n",
       "      <td>$</td>\n",
       "      <td>...</td>\n",
       "      <td>False</td>\n",
       "      <td>False</td>\n",
       "      <td>False</td>\n",
       "      <td>False</td>\n",
       "      <td>False</td>\n",
       "      <td>False</td>\n",
       "      <td>False</td>\n",
       "      <td>False</td>\n",
       "      <td>False</td>\n",
       "      <td>False</td>\n",
       "    </tr>\n",
       "    <tr>\n",
       "      <th>2</th>\n",
       "      <td>luciano-pizzeria-ristorante-northwest-raleigh</td>\n",
       "      <td>luciano pizzeria ristorante</td>\n",
       "      <td>False</td>\n",
       "      <td>5.0</td>\n",
       "      <td>2</td>\n",
       "      <td>Crabtree Valley Mall</td>\n",
       "      <td>27612</td>\n",
       "      <td>35.839681</td>\n",
       "      <td>-78.678791</td>\n",
       "      <td>$</td>\n",
       "      <td>...</td>\n",
       "      <td>True</td>\n",
       "      <td>False</td>\n",
       "      <td>False</td>\n",
       "      <td>False</td>\n",
       "      <td>False</td>\n",
       "      <td>False</td>\n",
       "      <td>False</td>\n",
       "      <td>False</td>\n",
       "      <td>False</td>\n",
       "      <td>False</td>\n",
       "    </tr>\n",
       "    <tr>\n",
       "      <th>3</th>\n",
       "      <td>olive-garden-italian-restaurant-wilson</td>\n",
       "      <td>olive garden italian restaurant</td>\n",
       "      <td>False</td>\n",
       "      <td>3.0</td>\n",
       "      <td>16</td>\n",
       "      <td>3401 Raleigh Rd Pkwy W</td>\n",
       "      <td>27893</td>\n",
       "      <td>35.743170</td>\n",
       "      <td>-77.964160</td>\n",
       "      <td>$$</td>\n",
       "      <td>...</td>\n",
       "      <td>True</td>\n",
       "      <td>False</td>\n",
       "      <td>False</td>\n",
       "      <td>False</td>\n",
       "      <td>False</td>\n",
       "      <td>True</td>\n",
       "      <td>False</td>\n",
       "      <td>False</td>\n",
       "      <td>False</td>\n",
       "      <td>False</td>\n",
       "    </tr>\n",
       "    <tr>\n",
       "      <th>4</th>\n",
       "      <td>subway-wilson-4</td>\n",
       "      <td>subway</td>\n",
       "      <td>False</td>\n",
       "      <td>3.5</td>\n",
       "      <td>3</td>\n",
       "      <td>4934 Raleigh Rd</td>\n",
       "      <td>27896</td>\n",
       "      <td>35.762936</td>\n",
       "      <td>-77.999428</td>\n",
       "      <td>$</td>\n",
       "      <td>...</td>\n",
       "      <td>False</td>\n",
       "      <td>False</td>\n",
       "      <td>False</td>\n",
       "      <td>False</td>\n",
       "      <td>False</td>\n",
       "      <td>False</td>\n",
       "      <td>False</td>\n",
       "      <td>False</td>\n",
       "      <td>False</td>\n",
       "      <td>False</td>\n",
       "    </tr>\n",
       "  </tbody>\n",
       "</table>\n",
       "<p>5 rows × 31 columns</p>\n",
       "</div>"
      ],
      "text/plain": [
       "                                               id  \\\n",
       "0  42nd-street-oyster-bar-rdu-airport-morrisville   \n",
       "1                                 aldi-foods-cary   \n",
       "2   luciano-pizzeria-ristorante-northwest-raleigh   \n",
       "3          olive-garden-italian-restaurant-wilson   \n",
       "4                                 subway-wilson-4   \n",
       "\n",
       "                                   name  is_closed  rating  review_count  \\\n",
       "0  42nd street oyster bar - rdu airport      False     2.5            23   \n",
       "1                            aldi foods      False     4.0            17   \n",
       "2           luciano pizzeria ristorante      False     5.0             2   \n",
       "3       olive garden italian restaurant      False     3.0            16   \n",
       "4                                subway      False     3.5             3   \n",
       "\n",
       "                  address1  zip_code   latitude  longitude price  ... italian  \\\n",
       "0  2400 John Brantley Blvd     27560  35.873808 -78.790896    $$  ...   False   \n",
       "1       2303 NW Maynard Rd     27519  35.802840 -78.785930     $  ...   False   \n",
       "2     Crabtree Valley Mall     27612  35.839681 -78.678791     $  ...    True   \n",
       "3   3401 Raleigh Rd Pkwy W     27893  35.743170 -77.964160    $$  ...    True   \n",
       "4          4934 Raleigh Rd     27896  35.762936 -77.999428     $  ...   False   \n",
       "\n",
       "   newamerican  chicken_wings  delis   bars  salad  seafood    bbq  bakeries  \\\n",
       "0         True          False  False  False  False     True  False     False   \n",
       "1        False          False  False  False  False    False  False     False   \n",
       "2        False          False  False  False  False    False  False     False   \n",
       "3        False          False  False  False   True    False  False     False   \n",
       "4        False          False  False  False  False    False  False     False   \n",
       "\n",
       "   sushi  \n",
       "0  False  \n",
       "1  False  \n",
       "2  False  \n",
       "3  False  \n",
       "4  False  \n",
       "\n",
       "[5 rows x 31 columns]"
      ]
     },
     "execution_count": 4,
     "metadata": {},
     "output_type": "execute_result"
    }
   ],
   "source": [
    "df_yelp = pd.read_csv('yelp.csv')\n",
    "df_yelp.head()"
   ]
  },
  {
   "cell_type": "markdown",
   "metadata": {},
   "source": [
    "Similarly, we don't need a lot of columns here, so let's clean up the redundant columns"
   ]
  },
  {
   "cell_type": "code",
   "execution_count": 5,
   "metadata": {},
   "outputs": [
    {
     "name": "stdout",
     "output_type": "stream",
     "text": [
      "number of rows: 3688\n"
     ]
    },
    {
     "data": {
      "text/html": [
       "<div>\n",
       "<style scoped>\n",
       "    .dataframe tbody tr th:only-of-type {\n",
       "        vertical-align: middle;\n",
       "    }\n",
       "\n",
       "    .dataframe tbody tr th {\n",
       "        vertical-align: top;\n",
       "    }\n",
       "\n",
       "    .dataframe thead th {\n",
       "        text-align: right;\n",
       "    }\n",
       "</style>\n",
       "<table border=\"1\" class=\"dataframe\">\n",
       "  <thead>\n",
       "    <tr style=\"text-align: right;\">\n",
       "      <th></th>\n",
       "      <th>phone</th>\n",
       "      <th>price</th>\n",
       "      <th>chinese</th>\n",
       "      <th>italian</th>\n",
       "    </tr>\n",
       "  </thead>\n",
       "  <tbody>\n",
       "    <tr>\n",
       "      <th>0</th>\n",
       "      <td>NaN</td>\n",
       "      <td>$$</td>\n",
       "      <td>False</td>\n",
       "      <td>False</td>\n",
       "    </tr>\n",
       "    <tr>\n",
       "      <th>1</th>\n",
       "      <td>NaN</td>\n",
       "      <td>$</td>\n",
       "      <td>False</td>\n",
       "      <td>False</td>\n",
       "    </tr>\n",
       "    <tr>\n",
       "      <th>2</th>\n",
       "      <td>12102230500</td>\n",
       "      <td>$</td>\n",
       "      <td>False</td>\n",
       "      <td>True</td>\n",
       "    </tr>\n",
       "    <tr>\n",
       "      <th>3</th>\n",
       "      <td>12522061399</td>\n",
       "      <td>$$</td>\n",
       "      <td>False</td>\n",
       "      <td>True</td>\n",
       "    </tr>\n",
       "    <tr>\n",
       "      <th>4</th>\n",
       "      <td>12522067187</td>\n",
       "      <td>$</td>\n",
       "      <td>False</td>\n",
       "      <td>False</td>\n",
       "    </tr>\n",
       "  </tbody>\n",
       "</table>\n",
       "</div>"
      ],
      "text/plain": [
       "         phone price  chinese  italian\n",
       "0          NaN    $$    False    False\n",
       "1          NaN     $    False    False\n",
       "2  12102230500     $    False     True\n",
       "3  12522061399    $$    False     True\n",
       "4  12522067187     $    False    False"
      ]
     },
     "execution_count": 5,
     "metadata": {},
     "output_type": "execute_result"
    }
   ],
   "source": [
    "print('number of rows:', len(df_yelp.index))\n",
    "df_yelp = df_yelp[['phone', 'price', 'chinese', 'italian']]\n",
    "df_yelp.head()"
   ]
  },
  {
   "cell_type": "markdown",
   "metadata": {},
   "source": [
    "Next, we remove any restaurs that do not have a phone number, the inspection score, or the chinese score"
   ]
  },
  {
   "cell_type": "code",
   "execution_count": 6,
   "metadata": {},
   "outputs": [
    {
     "name": "stdout",
     "output_type": "stream",
     "text": [
      "number of rows: 17965\n"
     ]
    }
   ],
   "source": [
    "df_inspection = df_inspection.dropna(subset=['phone', 'score'])\n",
    "df_inspection[['phone', 'score']].isnull().any()\n",
    "print('number of rows:', len(df_inspection.index))"
   ]
  },
  {
   "cell_type": "code",
   "execution_count": 7,
   "metadata": {},
   "outputs": [
    {
     "name": "stdout",
     "output_type": "stream",
     "text": [
      "14744\n",
      "number of rows: 3686\n"
     ]
    }
   ],
   "source": [
    "df_yelp = df_yelp.dropna(subset=['phone', 'chinese', 'italian'])\n",
    "print(df_yelp.size)\n",
    "print('number of rows:', len(df_yelp.index))"
   ]
  },
  {
   "cell_type": "markdown",
   "metadata": {},
   "source": [
    "### 2. Standardize the phone numbers in both dataset\n",
    "In order to merge the two datasets using phone number, we need them to be in the same format."
   ]
  },
  {
   "cell_type": "markdown",
   "metadata": {},
   "source": [
    "First, since we will identify restaurants by phone, we need to make sure that the phone numbers is not duplicated between restaurants in yelp, and resolve any duplicates."
   ]
  },
  {
   "cell_type": "code",
   "execution_count": 8,
   "metadata": {},
   "outputs": [
    {
     "data": {
      "text/plain": [
       "False"
      ]
     },
     "execution_count": 8,
     "metadata": {},
     "output_type": "execute_result"
    }
   ],
   "source": [
    "# Find yelp phone duplicates\n",
    "df_yelp.duplicated(subset=['phone']).any()"
   ]
  },
  {
   "cell_type": "markdown",
   "metadata": {},
   "source": [
    "Great, there is no duplication in phone numbers in yelp. However, we will still have to disregard restaurants with ext. phone number in the inspection dataset - as the yelp dataset doesn't include ext. information and it will be impossible to match those restaurants."
   ]
  },
  {
   "cell_type": "code",
   "execution_count": 9,
   "metadata": {},
   "outputs": [
    {
     "name": "stdout",
     "output_type": "stream",
     "text": [
      "number of rows: 17687\n"
     ]
    }
   ],
   "source": [
    "to_drop = df_inspection['phone'].str.contains('ext')\n",
    "df_inspection = df_inspection[~to_drop]\n",
    "print('number of rows:', len(df_inspection.index))"
   ]
  },
  {
   "cell_type": "markdown",
   "metadata": {},
   "source": [
    "In `df_inspection`, the phone number format is `(###) ###-####`. So we will only take the first 10 numeric digits to make it into a phone string, save this into a new `processed_phone` column."
   ]
  },
  {
   "cell_type": "code",
   "execution_count": 10,
   "metadata": {},
   "outputs": [
    {
     "data": {
      "text/html": [
       "<div>\n",
       "<style scoped>\n",
       "    .dataframe tbody tr th:only-of-type {\n",
       "        vertical-align: middle;\n",
       "    }\n",
       "\n",
       "    .dataframe tbody tr th {\n",
       "        vertical-align: top;\n",
       "    }\n",
       "\n",
       "    .dataframe thead th {\n",
       "        text-align: right;\n",
       "    }\n",
       "</style>\n",
       "<table border=\"1\" class=\"dataframe\">\n",
       "  <thead>\n",
       "    <tr style=\"text-align: right;\">\n",
       "      <th></th>\n",
       "      <th>hsisid</th>\n",
       "      <th>date</th>\n",
       "      <th>phone</th>\n",
       "      <th>score</th>\n",
       "      <th>processed_phone</th>\n",
       "    </tr>\n",
       "  </thead>\n",
       "  <tbody>\n",
       "    <tr>\n",
       "      <th>0</th>\n",
       "      <td>4092013748</td>\n",
       "      <td>2012-09-21T00:00:00Z</td>\n",
       "      <td>(919) 350-8047</td>\n",
       "      <td>96.0</td>\n",
       "      <td>9193508047</td>\n",
       "    </tr>\n",
       "    <tr>\n",
       "      <th>1</th>\n",
       "      <td>4092014046</td>\n",
       "      <td>2012-09-21T00:00:00Z</td>\n",
       "      <td>(919) 255-9556</td>\n",
       "      <td>98.0</td>\n",
       "      <td>9192559556</td>\n",
       "    </tr>\n",
       "    <tr>\n",
       "      <th>2</th>\n",
       "      <td>4092015191</td>\n",
       "      <td>2012-09-21T00:00:00Z</td>\n",
       "      <td>(919) 773-2285</td>\n",
       "      <td>97.0</td>\n",
       "      <td>9197732285</td>\n",
       "    </tr>\n",
       "    <tr>\n",
       "      <th>5</th>\n",
       "      <td>4092110151</td>\n",
       "      <td>2012-09-21T00:00:00Z</td>\n",
       "      <td>(919) 554-8671</td>\n",
       "      <td>99.0</td>\n",
       "      <td>9195548671</td>\n",
       "    </tr>\n",
       "    <tr>\n",
       "      <th>6</th>\n",
       "      <td>4092013134</td>\n",
       "      <td>2012-09-24T00:00:00Z</td>\n",
       "      <td>(919) 233-8776</td>\n",
       "      <td>96.0</td>\n",
       "      <td>9192338776</td>\n",
       "    </tr>\n",
       "  </tbody>\n",
       "</table>\n",
       "</div>"
      ],
      "text/plain": [
       "       hsisid                  date           phone  score processed_phone\n",
       "0  4092013748  2012-09-21T00:00:00Z  (919) 350-8047   96.0      9193508047\n",
       "1  4092014046  2012-09-21T00:00:00Z  (919) 255-9556   98.0      9192559556\n",
       "2  4092015191  2012-09-21T00:00:00Z  (919) 773-2285   97.0      9197732285\n",
       "5  4092110151  2012-09-21T00:00:00Z  (919) 554-8671   99.0      9195548671\n",
       "6  4092013134  2012-09-24T00:00:00Z  (919) 233-8776   96.0      9192338776"
      ]
     },
     "execution_count": 10,
     "metadata": {},
     "output_type": "execute_result"
    }
   ],
   "source": [
    "def process_inspection_phone(s):\n",
    "    result = re.sub('[^0-9]', '', s)\n",
    "    return result[:10]\n",
    "\n",
    "df_inspection['processed_phone'] = df_inspection['phone'].apply(process_inspection_phone)\n",
    "df_inspection.head()"
   ]
  },
  {
   "cell_type": "markdown",
   "metadata": {},
   "source": [
    "In `df_yelp`, the phone format is `###########` where the first digit is the U.S. country code, and the rest are the 10 numeric digits of the restaurants' phone number. So, we will process these and remove the first character, saving in a new `processed_phone` column."
   ]
  },
  {
   "cell_type": "code",
   "execution_count": 11,
   "metadata": {},
   "outputs": [
    {
     "data": {
      "text/html": [
       "<div>\n",
       "<style scoped>\n",
       "    .dataframe tbody tr th:only-of-type {\n",
       "        vertical-align: middle;\n",
       "    }\n",
       "\n",
       "    .dataframe tbody tr th {\n",
       "        vertical-align: top;\n",
       "    }\n",
       "\n",
       "    .dataframe thead th {\n",
       "        text-align: right;\n",
       "    }\n",
       "</style>\n",
       "<table border=\"1\" class=\"dataframe\">\n",
       "  <thead>\n",
       "    <tr style=\"text-align: right;\">\n",
       "      <th></th>\n",
       "      <th>phone</th>\n",
       "      <th>price</th>\n",
       "      <th>chinese</th>\n",
       "      <th>italian</th>\n",
       "      <th>processed_phone</th>\n",
       "    </tr>\n",
       "  </thead>\n",
       "  <tbody>\n",
       "    <tr>\n",
       "      <th>2</th>\n",
       "      <td>12102230500</td>\n",
       "      <td>$</td>\n",
       "      <td>False</td>\n",
       "      <td>True</td>\n",
       "      <td>2102230500</td>\n",
       "    </tr>\n",
       "    <tr>\n",
       "      <th>3</th>\n",
       "      <td>12522061399</td>\n",
       "      <td>$$</td>\n",
       "      <td>False</td>\n",
       "      <td>True</td>\n",
       "      <td>2522061399</td>\n",
       "    </tr>\n",
       "    <tr>\n",
       "      <th>4</th>\n",
       "      <td>12522067187</td>\n",
       "      <td>$</td>\n",
       "      <td>False</td>\n",
       "      <td>False</td>\n",
       "      <td>2522067187</td>\n",
       "    </tr>\n",
       "    <tr>\n",
       "      <th>5</th>\n",
       "      <td>12522247141</td>\n",
       "      <td>$$$</td>\n",
       "      <td>False</td>\n",
       "      <td>False</td>\n",
       "      <td>2522247141</td>\n",
       "    </tr>\n",
       "    <tr>\n",
       "      <th>6</th>\n",
       "      <td>12522352767</td>\n",
       "      <td>$</td>\n",
       "      <td>False</td>\n",
       "      <td>False</td>\n",
       "      <td>2522352767</td>\n",
       "    </tr>\n",
       "  </tbody>\n",
       "</table>\n",
       "</div>"
      ],
      "text/plain": [
       "         phone price  chinese  italian processed_phone\n",
       "2  12102230500     $    False     True      2102230500\n",
       "3  12522061399    $$    False     True      2522061399\n",
       "4  12522067187     $    False    False      2522067187\n",
       "5  12522247141   $$$    False    False      2522247141\n",
       "6  12522352767     $    False    False      2522352767"
      ]
     },
     "execution_count": 11,
     "metadata": {},
     "output_type": "execute_result"
    }
   ],
   "source": [
    "def process_yelp_phone(s):\n",
    "    return s[1:]\n",
    "\n",
    "df_yelp['processed_phone'] = df_yelp['phone'].astype(str).apply(process_yelp_phone)\n",
    "df_yelp.head()"
   ]
  },
  {
   "cell_type": "markdown",
   "metadata": {},
   "source": [
    "Now that the phones are processed, we merge the two DataFrames in to `df`, joining on the processed_phone field."
   ]
  },
  {
   "cell_type": "code",
   "execution_count": 12,
   "metadata": {},
   "outputs": [
    {
     "data": {
      "text/html": [
       "<div>\n",
       "<style scoped>\n",
       "    .dataframe tbody tr th:only-of-type {\n",
       "        vertical-align: middle;\n",
       "    }\n",
       "\n",
       "    .dataframe tbody tr th {\n",
       "        vertical-align: top;\n",
       "    }\n",
       "\n",
       "    .dataframe thead th {\n",
       "        text-align: right;\n",
       "    }\n",
       "</style>\n",
       "<table border=\"1\" class=\"dataframe\">\n",
       "  <thead>\n",
       "    <tr style=\"text-align: right;\">\n",
       "      <th></th>\n",
       "      <th>hsisid</th>\n",
       "      <th>date</th>\n",
       "      <th>phone_x</th>\n",
       "      <th>score</th>\n",
       "      <th>processed_phone</th>\n",
       "      <th>phone_y</th>\n",
       "      <th>price</th>\n",
       "      <th>chinese</th>\n",
       "      <th>italian</th>\n",
       "    </tr>\n",
       "  </thead>\n",
       "  <tbody>\n",
       "    <tr>\n",
       "      <th>0</th>\n",
       "      <td>4092014046</td>\n",
       "      <td>2012-09-21T00:00:00Z</td>\n",
       "      <td>(919) 255-9556</td>\n",
       "      <td>98.0</td>\n",
       "      <td>9192559556</td>\n",
       "      <td>19192559556</td>\n",
       "      <td>$</td>\n",
       "      <td>False</td>\n",
       "      <td>False</td>\n",
       "    </tr>\n",
       "    <tr>\n",
       "      <th>1</th>\n",
       "      <td>4092014046</td>\n",
       "      <td>2013-02-21T00:00:00Z</td>\n",
       "      <td>(919) 255-9556</td>\n",
       "      <td>98.5</td>\n",
       "      <td>9192559556</td>\n",
       "      <td>19192559556</td>\n",
       "      <td>$</td>\n",
       "      <td>False</td>\n",
       "      <td>False</td>\n",
       "    </tr>\n",
       "    <tr>\n",
       "      <th>2</th>\n",
       "      <td>4092014046</td>\n",
       "      <td>2013-06-18T00:00:00Z</td>\n",
       "      <td>(919) 255-9556</td>\n",
       "      <td>96.5</td>\n",
       "      <td>9192559556</td>\n",
       "      <td>19192559556</td>\n",
       "      <td>$</td>\n",
       "      <td>False</td>\n",
       "      <td>False</td>\n",
       "    </tr>\n",
       "    <tr>\n",
       "      <th>3</th>\n",
       "      <td>4092014046</td>\n",
       "      <td>2013-12-04T00:00:00Z</td>\n",
       "      <td>(919) 255-9556</td>\n",
       "      <td>97.0</td>\n",
       "      <td>9192559556</td>\n",
       "      <td>19192559556</td>\n",
       "      <td>$</td>\n",
       "      <td>False</td>\n",
       "      <td>False</td>\n",
       "    </tr>\n",
       "    <tr>\n",
       "      <th>4</th>\n",
       "      <td>4092014046</td>\n",
       "      <td>2014-04-24T00:00:00Z</td>\n",
       "      <td>(919) 255-9556</td>\n",
       "      <td>97.0</td>\n",
       "      <td>9192559556</td>\n",
       "      <td>19192559556</td>\n",
       "      <td>$</td>\n",
       "      <td>False</td>\n",
       "      <td>False</td>\n",
       "    </tr>\n",
       "  </tbody>\n",
       "</table>\n",
       "</div>"
      ],
      "text/plain": [
       "       hsisid                  date         phone_x  score processed_phone  \\\n",
       "0  4092014046  2012-09-21T00:00:00Z  (919) 255-9556   98.0      9192559556   \n",
       "1  4092014046  2013-02-21T00:00:00Z  (919) 255-9556   98.5      9192559556   \n",
       "2  4092014046  2013-06-18T00:00:00Z  (919) 255-9556   96.5      9192559556   \n",
       "3  4092014046  2013-12-04T00:00:00Z  (919) 255-9556   97.0      9192559556   \n",
       "4  4092014046  2014-04-24T00:00:00Z  (919) 255-9556   97.0      9192559556   \n",
       "\n",
       "       phone_y price  chinese  italian  \n",
       "0  19192559556     $    False    False  \n",
       "1  19192559556     $    False    False  \n",
       "2  19192559556     $    False    False  \n",
       "3  19192559556     $    False    False  \n",
       "4  19192559556     $    False    False  "
      ]
     },
     "execution_count": 12,
     "metadata": {},
     "output_type": "execute_result"
    }
   ],
   "source": [
    "df = df_inspection.merge(df_yelp, on='processed_phone')\n",
    "df.head()"
   ]
  },
  {
   "cell_type": "markdown",
   "metadata": {},
   "source": [
    "Additionally, we will extract the year from the date, as we might want to just perform analysis on inspections made in a particular year. Fortunately, the date is in a nice format where the year information is just the first 4 characters so we can just extract that."
   ]
  },
  {
   "cell_type": "code",
   "execution_count": 13,
   "metadata": {},
   "outputs": [
    {
     "data": {
      "text/html": [
       "<div>\n",
       "<style scoped>\n",
       "    .dataframe tbody tr th:only-of-type {\n",
       "        vertical-align: middle;\n",
       "    }\n",
       "\n",
       "    .dataframe tbody tr th {\n",
       "        vertical-align: top;\n",
       "    }\n",
       "\n",
       "    .dataframe thead th {\n",
       "        text-align: right;\n",
       "    }\n",
       "</style>\n",
       "<table border=\"1\" class=\"dataframe\">\n",
       "  <thead>\n",
       "    <tr style=\"text-align: right;\">\n",
       "      <th></th>\n",
       "      <th>hsisid</th>\n",
       "      <th>date</th>\n",
       "      <th>phone_x</th>\n",
       "      <th>score</th>\n",
       "      <th>processed_phone</th>\n",
       "      <th>phone_y</th>\n",
       "      <th>price</th>\n",
       "      <th>chinese</th>\n",
       "      <th>italian</th>\n",
       "      <th>year</th>\n",
       "    </tr>\n",
       "  </thead>\n",
       "  <tbody>\n",
       "    <tr>\n",
       "      <th>0</th>\n",
       "      <td>4092014046</td>\n",
       "      <td>2012-09-21T00:00:00Z</td>\n",
       "      <td>(919) 255-9556</td>\n",
       "      <td>98.0</td>\n",
       "      <td>9192559556</td>\n",
       "      <td>19192559556</td>\n",
       "      <td>$</td>\n",
       "      <td>False</td>\n",
       "      <td>False</td>\n",
       "      <td>2012</td>\n",
       "    </tr>\n",
       "    <tr>\n",
       "      <th>1</th>\n",
       "      <td>4092014046</td>\n",
       "      <td>2013-02-21T00:00:00Z</td>\n",
       "      <td>(919) 255-9556</td>\n",
       "      <td>98.5</td>\n",
       "      <td>9192559556</td>\n",
       "      <td>19192559556</td>\n",
       "      <td>$</td>\n",
       "      <td>False</td>\n",
       "      <td>False</td>\n",
       "      <td>2013</td>\n",
       "    </tr>\n",
       "    <tr>\n",
       "      <th>2</th>\n",
       "      <td>4092014046</td>\n",
       "      <td>2013-06-18T00:00:00Z</td>\n",
       "      <td>(919) 255-9556</td>\n",
       "      <td>96.5</td>\n",
       "      <td>9192559556</td>\n",
       "      <td>19192559556</td>\n",
       "      <td>$</td>\n",
       "      <td>False</td>\n",
       "      <td>False</td>\n",
       "      <td>2013</td>\n",
       "    </tr>\n",
       "    <tr>\n",
       "      <th>3</th>\n",
       "      <td>4092014046</td>\n",
       "      <td>2013-12-04T00:00:00Z</td>\n",
       "      <td>(919) 255-9556</td>\n",
       "      <td>97.0</td>\n",
       "      <td>9192559556</td>\n",
       "      <td>19192559556</td>\n",
       "      <td>$</td>\n",
       "      <td>False</td>\n",
       "      <td>False</td>\n",
       "      <td>2013</td>\n",
       "    </tr>\n",
       "    <tr>\n",
       "      <th>4</th>\n",
       "      <td>4092014046</td>\n",
       "      <td>2014-04-24T00:00:00Z</td>\n",
       "      <td>(919) 255-9556</td>\n",
       "      <td>97.0</td>\n",
       "      <td>9192559556</td>\n",
       "      <td>19192559556</td>\n",
       "      <td>$</td>\n",
       "      <td>False</td>\n",
       "      <td>False</td>\n",
       "      <td>2014</td>\n",
       "    </tr>\n",
       "  </tbody>\n",
       "</table>\n",
       "</div>"
      ],
      "text/plain": [
       "       hsisid                  date         phone_x  score processed_phone  \\\n",
       "0  4092014046  2012-09-21T00:00:00Z  (919) 255-9556   98.0      9192559556   \n",
       "1  4092014046  2013-02-21T00:00:00Z  (919) 255-9556   98.5      9192559556   \n",
       "2  4092014046  2013-06-18T00:00:00Z  (919) 255-9556   96.5      9192559556   \n",
       "3  4092014046  2013-12-04T00:00:00Z  (919) 255-9556   97.0      9192559556   \n",
       "4  4092014046  2014-04-24T00:00:00Z  (919) 255-9556   97.0      9192559556   \n",
       "\n",
       "       phone_y price  chinese  italian  year  \n",
       "0  19192559556     $    False    False  2012  \n",
       "1  19192559556     $    False    False  2013  \n",
       "2  19192559556     $    False    False  2013  \n",
       "3  19192559556     $    False    False  2013  \n",
       "4  19192559556     $    False    False  2014  "
      ]
     },
     "execution_count": 13,
     "metadata": {},
     "output_type": "execute_result"
    }
   ],
   "source": [
    "def process_date_to_year(s):\n",
    "    return s[:4]\n",
    "df['year'] = df['date'].apply(process_date_to_year)\n",
    "df.head()"
   ]
  },
  {
   "cell_type": "markdown",
   "metadata": {},
   "source": [
    "After cleaning data, we gently remove the identification information of the restaurants to avoid any ethical issues."
   ]
  },
  {
   "cell_type": "code",
   "execution_count": 14,
   "metadata": {},
   "outputs": [],
   "source": [
    "df = df[['hsisid', 'date', 'score', 'price', 'chinese', 'year', 'italian']]"
   ]
  },
  {
   "cell_type": "markdown",
   "metadata": {},
   "source": [
    "Then, we group the inspections by restaurants to get their mean score."
   ]
  },
  {
   "cell_type": "code",
   "execution_count": 15,
   "metadata": {},
   "outputs": [
    {
     "data": {
      "text/html": [
       "<div>\n",
       "<style scoped>\n",
       "    .dataframe tbody tr th:only-of-type {\n",
       "        vertical-align: middle;\n",
       "    }\n",
       "\n",
       "    .dataframe tbody tr th {\n",
       "        vertical-align: top;\n",
       "    }\n",
       "\n",
       "    .dataframe thead th {\n",
       "        text-align: right;\n",
       "    }\n",
       "</style>\n",
       "<table border=\"1\" class=\"dataframe\">\n",
       "  <thead>\n",
       "    <tr style=\"text-align: right;\">\n",
       "      <th></th>\n",
       "      <th>score</th>\n",
       "    </tr>\n",
       "  </thead>\n",
       "  <tbody>\n",
       "    <tr>\n",
       "      <th>count</th>\n",
       "      <td>1974.000000</td>\n",
       "    </tr>\n",
       "    <tr>\n",
       "      <th>mean</th>\n",
       "      <td>95.946618</td>\n",
       "    </tr>\n",
       "    <tr>\n",
       "      <th>std</th>\n",
       "      <td>2.196217</td>\n",
       "    </tr>\n",
       "    <tr>\n",
       "      <th>min</th>\n",
       "      <td>76.000000</td>\n",
       "    </tr>\n",
       "    <tr>\n",
       "      <th>25%</th>\n",
       "      <td>94.700000</td>\n",
       "    </tr>\n",
       "    <tr>\n",
       "      <th>50%</th>\n",
       "      <td>96.222222</td>\n",
       "    </tr>\n",
       "    <tr>\n",
       "      <th>75%</th>\n",
       "      <td>97.500000</td>\n",
       "    </tr>\n",
       "    <tr>\n",
       "      <th>max</th>\n",
       "      <td>100.000000</td>\n",
       "    </tr>\n",
       "  </tbody>\n",
       "</table>\n",
       "</div>"
      ],
      "text/plain": [
       "             score\n",
       "count  1974.000000\n",
       "mean     95.946618\n",
       "std       2.196217\n",
       "min      76.000000\n",
       "25%      94.700000\n",
       "50%      96.222222\n",
       "75%      97.500000\n",
       "max     100.000000"
      ]
     },
     "execution_count": 15,
     "metadata": {},
     "output_type": "execute_result"
    }
   ],
   "source": [
    "df_group = df.groupby(['hsisid']).mean()\n",
    "df_group.describe()"
   ]
  },
  {
   "cell_type": "markdown",
   "metadata": {},
   "source": [
    "Finally, we split the final dataset in to two DataFrames, one with Chinese and one with Italian restaurants inspection, since these two groups are the ones we are asking our question about."
   ]
  },
  {
   "cell_type": "code",
   "execution_count": 16,
   "metadata": {},
   "outputs": [],
   "source": [
    "df_china = df_group[df_group['chinese']]\n",
    "df_italy = df_group[df_group['italian']]"
   ]
  },
  {
   "cell_type": "markdown",
   "metadata": {},
   "source": [
    "# Data Analysis & Results"
   ]
  },
  {
   "cell_type": "markdown",
   "metadata": {},
   "source": [
    "## 1. Exploratory Data Analysis"
   ]
  },
  {
   "cell_type": "markdown",
   "metadata": {},
   "source": [
    "First, let's have a feel of the data we are dealing with."
   ]
  },
  {
   "cell_type": "markdown",
   "metadata": {},
   "source": [
    "### 1.1 What is the statistics of the scores?"
   ]
  },
  {
   "cell_type": "code",
   "execution_count": 17,
   "metadata": {},
   "outputs": [
    {
     "name": "stdout",
     "output_type": "stream",
     "text": [
      "Range of data scores are:  27.5\n"
     ]
    }
   ],
   "source": [
    "print(\"Range of data scores are: \", df['score'].max() - df['score'].min())"
   ]
  },
  {
   "cell_type": "code",
   "execution_count": 18,
   "metadata": {},
   "outputs": [
    {
     "name": "stdout",
     "output_type": "stream",
     "text": [
      "Statistics of Chinese restaurants\n"
     ]
    },
    {
     "data": {
      "text/plain": [
       "count    96.000000\n",
       "mean     94.427890\n",
       "std       2.186556\n",
       "min      88.166667\n",
       "25%      93.415625\n",
       "50%      94.736111\n",
       "75%      95.827922\n",
       "max      98.700000\n",
       "Name: score, dtype: float64"
      ]
     },
     "execution_count": 18,
     "metadata": {},
     "output_type": "execute_result"
    }
   ],
   "source": [
    "print(\"Statistics of Chinese restaurants\")\n",
    "df_china['score'].describe()"
   ]
  },
  {
   "cell_type": "code",
   "execution_count": 19,
   "metadata": {},
   "outputs": [
    {
     "name": "stdout",
     "output_type": "stream",
     "text": [
      "Statistics of Italian restaurants\n"
     ]
    },
    {
     "data": {
      "text/plain": [
       "count    95.000000\n",
       "mean     95.463747\n",
       "std       1.710514\n",
       "min      90.000000\n",
       "25%      94.500000\n",
       "50%      95.650000\n",
       "75%      96.531250\n",
       "max      99.000000\n",
       "Name: score, dtype: float64"
      ]
     },
     "execution_count": 19,
     "metadata": {},
     "output_type": "execute_result"
    }
   ],
   "source": [
    "print(\"Statistics of Italian restaurants\")\n",
    "df_italy['score'].describe()"
   ]
  },
  {
   "cell_type": "markdown",
   "metadata": {},
   "source": [
    "From pure observation of the mean of the subsets, our hypothesis seems to hold: Chinese restaurants' average inspection score seems to be lower than that of Italian cuisines"
   ]
  },
  {
   "cell_type": "code",
   "execution_count": 20,
   "metadata": {},
   "outputs": [
    {
     "data": {
      "text/plain": [
       "Text(0.5, 1.0, 'Number of restaurants being analyzed')"
      ]
     },
     "execution_count": 20,
     "metadata": {},
     "output_type": "execute_result"
    },
    {
     "data": {
      "image/png": "[encoded data removed]",
      "text/plain": [
       "<Figure size 432x288 with 1 Axes>"
      ]
     },
     "metadata": {
      "needs_background": "light"
     },
     "output_type": "display_data"
    }
   ],
   "source": [
    "plt.bar(['Chinese', 'Italian'], [len(df_china['score']), len(df_italy['score'])])\n",
    "plt.ylabel('restaurants')\n",
    "plt.title(\"Number of restaurants being analyzed\")"
   ]
  },
  {
   "cell_type": "markdown",
   "metadata": {},
   "source": [
    "From the bar plot, we see that the number of restaurants of both cuisines are the roughly similar. This is good, as we won't run into issues with imbalance class affecting the result of the analysis."
   ]
  },
  {
   "cell_type": "markdown",
   "metadata": {},
   "source": [
    "### 1.2 What does the distribution of the scores looks like for each subset?"
   ]
  },
  {
   "cell_type": "code",
   "execution_count": 21,
   "metadata": {},
   "outputs": [
    {
     "data": {
      "text/plain": [
       "Text(0.5, 0, 'health inspection score')"
      ]
     },
     "execution_count": 21,
     "metadata": {},
     "output_type": "execute_result"
    },
    {
     "data": {
      "image/png": "[encoded data removed]",
      "text/plain": [
       "<Figure size 1152x288 with 2 Axes>"
      ]
     },
     "metadata": {
      "needs_background": "light"
     },
     "output_type": "display_data"
    }
   ],
   "source": [
    "plt.figure(figsize=(16,4))\n",
    "plt.subplot(1,2,1)\n",
    "df_china['score'].hist()\n",
    "plt.title('Inspection scores of Chinese restaurants')\n",
    "plt.ylabel('restaurants')\n",
    "plt.xlabel('health inspection score')\n",
    "\n",
    "plt.subplot(1,2,2)\n",
    "df_italy['score'].hist()\n",
    "plt.title('Inspection scores of Italian restaurants')\n",
    "plt.ylabel('restaurants')\n",
    "plt.xlabel('health inspection score')"
   ]
  },
  {
   "cell_type": "markdown",
   "metadata": {},
   "source": [
    "Both of the datasets seem to conform to a normal distribution. Also from the distribution, we have a feel that chinese restaurants in general have lower health inspection score than Italian."
   ]
  },
  {
   "cell_type": "markdown",
   "metadata": {},
   "source": [
    "### 1.3 Testing normality\n",
    "Since we will be using t-test to test difference between the two distributions, it is a good idea to verify if the distribution is normal. We will use the `normaltest` from `scikit.stats` package to test normality of the two datasets. We will set the alpha threshold to be 1\\% for the test."
   ]
  },
  {
   "cell_type": "code",
   "execution_count": 22,
   "metadata": {},
   "outputs": [
    {
     "name": "stdout",
     "output_type": "stream",
     "text": [
      "It is True that the distribution of inspection scores of Chinese restaurants is normal\n",
      "It is True that the distribution of inspection scores of Italian restaurants is normal\n"
     ]
    }
   ],
   "source": [
    "def check_p_val(p_val, alpha):\n",
    "\n",
    "    if p_val < alpha:\n",
    "        return False\n",
    "    else:\n",
    "        return True\n",
    "\n",
    "st_china, p_china = normaltest(df_china['score'].values)\n",
    "st_italy, p_italy = normaltest(df_italy['score'].values)\n",
    "\n",
    "alpha = 0.01\n",
    "is_n_china = check_p_val(p_china, alpha)\n",
    "is_n_italy = check_p_val(p_italy, alpha)\n",
    "\n",
    "print(\"It is\", is_n_china, \"that the distribution of inspection scores of Chinese restaurants is normal\")\n",
    "print(\"It is\", is_n_italy, \"that the distribution of inspection scores of Italian restaurants is normal\")"
   ]
  },
  {
   "cell_type": "code",
   "execution_count": 23,
   "metadata": {},
   "outputs": [
    {
     "data": {
      "image/png": "[encoded data removed]",
      "text/plain": [
       "<Figure size 1152x288 with 2 Axes>"
      ]
     },
     "metadata": {
      "needs_background": "light"
     },
     "output_type": "display_data"
    }
   ],
   "source": [
    "plt.figure(figsize=(16,4))\n",
    "plt.subplot(1,2,1)\n",
    "xs = np.arange(df_china['score'].values.min(), df_china['score'].values.max(), 0.1)\n",
    "fit = stats.norm.pdf(xs, np.mean(df_china['score'].values), np.std(df_china['score'].values))\n",
    "# most easily done using matplotlib\n",
    "plt.plot(xs, fit, label = 'Normal Dist.', lw = 4)\n",
    "plt.hist(df_china['score'].values, density = True, label = 'Actual Data');\n",
    "plt.title('Chinese restaurants - Average Inspection Score')\n",
    "plt.ylabel('restaurants')\n",
    "plt.xlabel('health inspection score')\n",
    "plt.legend();\n",
    "\n",
    "plt.subplot(1,2,2)\n",
    "xs = np.arange(df_italy['score'].values.min(), df_italy['score'].values.max(), 0.1)\n",
    "fit = stats.norm.pdf(xs, np.mean(df_italy['score'].values), np.std(df_italy['score'].values))\n",
    "# most easily done using matplotlib\n",
    "plt.plot(xs, fit, label = 'Normal Dist.', lw = 4)\n",
    "plt.hist(df_italy['score'].values, density = True, label = 'Actual Data');\n",
    "plt.title('Italian restaurants - Average Inspection Score')\n",
    "plt.ylabel('restaurants')\n",
    "plt.xlabel('health inspection score')\n",
    "plt.legend();\n"
   ]
  },
  {
   "cell_type": "markdown",
   "metadata": {},
   "source": [
    "This comparison with the true normal distribution further supports that these data are normally distributed.\n",
    "Now that we know the two distrubitions are both normal, we can move on to perform Student's T-test to answer our research question."
   ]
  },
  {
   "cell_type": "markdown",
   "metadata": {},
   "source": [
    "## 2. Analysis"
   ]
  },
  {
   "cell_type": "markdown",
   "metadata": {},
   "source": [
    "### 2.1 Student's T-test\n",
    "As mentioned earlier, we will use the Student's T-test to statistically test our hypothesis that Chinese restaurants on average have lower health inspection scores than Italian restaurants. We will use the `ttest-ind` function from `scipy.stats` to perform this."
   ]
  },
  {
   "cell_type": "code",
   "execution_count": 24,
   "metadata": {},
   "outputs": [
    {
     "name": "stdout",
     "output_type": "stream",
     "text": [
      "Data Science accomplished, there is a significant difference!\n"
     ]
    }
   ],
   "source": [
    "t_val, p_val = ttest_ind(df_china['score'].values, df_italy['score'].values)\n",
    "\n",
    "# Check if statistical test passes significance, using an alpha value of 0.01. This code provided.\n",
    "if p_val < 0.01:\n",
    "    print('Data Science accomplished, there is a significant difference!')\n",
    "else:\n",
    "    print('There is NOT a significant difference!')"
   ]
  },
  {
   "cell_type": "markdown",
   "metadata": {},
   "source": [
    "So it looks like from the statistics test, there is enough evidence to support our hypothesis: Chinese restaurants have lower average health inspection score than Italian restaurants.\n",
    "\n",
    "However, this is purely a interim conclusion from a first pass analysis. We will want to investigate more."
   ]
  },
  {
   "cell_type": "markdown",
   "metadata": {},
   "source": [
    "### 2.2 Digging Deeper"
   ]
  },
  {
   "cell_type": "markdown",
   "metadata": {},
   "source": [
    "#### 2.2.1 Pivot table\n",
    "We suspect that, there might be a confounding variable - the price range of the restaurants that affects the inspection score. That is, Chinese restaurants we look at might be cheaper than Italian restaurants, resulting in our interim conclusion.\n",
    "First, let's use a pivot table to observe if the price range is such a variable."
   ]
  },
  {
   "cell_type": "code",
   "execution_count": 28,
   "metadata": {},
   "outputs": [],
   "source": [
    "# Popualting the datafram with price\n",
    "def populate_price(hsisid):\n",
    "    return df[df['hsisid'] == hsisid]['price'].values[0]\n",
    "\n",
    "df_china.reset_index(level=0, inplace=True)\n",
    "df_italy.reset_index(level=0, inplace=True)\n",
    "\n",
    "df_china['price'] = df_china['hsisid'].apply(populate_price)\n",
    "df_italy['price'] = df_italy['hsisid'].apply(populate_price)\n",
    "\n",
    "df_china['type'] = 'china'\n",
    "df_italy['type'] = 'italy'"
   ]
  },
  {
   "cell_type": "code",
   "execution_count": 27,
   "metadata": {},
   "outputs": [
    {
     "data": {
      "text/html": [
       "<div>\n",
       "<style scoped>\n",
       "    .dataframe tbody tr th:only-of-type {\n",
       "        vertical-align: middle;\n",
       "    }\n",
       "\n",
       "    .dataframe tbody tr th {\n",
       "        vertical-align: top;\n",
       "    }\n",
       "\n",
       "    .dataframe thead th {\n",
       "        text-align: right;\n",
       "    }\n",
       "</style>\n",
       "<table border=\"1\" class=\"dataframe\">\n",
       "  <thead>\n",
       "    <tr style=\"text-align: right;\">\n",
       "      <th></th>\n",
       "      <th></th>\n",
       "      <th>score</th>\n",
       "    </tr>\n",
       "    <tr>\n",
       "      <th>price</th>\n",
       "      <th>type</th>\n",
       "      <th></th>\n",
       "    </tr>\n",
       "  </thead>\n",
       "  <tbody>\n",
       "    <tr>\n",
       "      <th rowspan=\"2\" valign=\"top\">$</th>\n",
       "      <th>china</th>\n",
       "      <td>94.365155</td>\n",
       "    </tr>\n",
       "    <tr>\n",
       "      <th>italy</th>\n",
       "      <td>95.445636</td>\n",
       "    </tr>\n",
       "    <tr>\n",
       "      <th rowspan=\"2\" valign=\"top\">$$</th>\n",
       "      <th>china</th>\n",
       "      <td>94.391624</td>\n",
       "    </tr>\n",
       "    <tr>\n",
       "      <th>italy</th>\n",
       "      <td>95.441514</td>\n",
       "    </tr>\n",
       "    <tr>\n",
       "      <th>$$$</th>\n",
       "      <th>italy</th>\n",
       "      <td>95.666667</td>\n",
       "    </tr>\n",
       "  </tbody>\n",
       "</table>\n",
       "</div>"
      ],
      "text/plain": [
       "                 score\n",
       "price type            \n",
       "$     china  94.365155\n",
       "      italy  95.445636\n",
       "$$    china  94.391624\n",
       "      italy  95.441514\n",
       "$$$   italy  95.666667"
      ]
     },
     "execution_count": 27,
     "metadata": {},
     "output_type": "execute_result"
    }
   ],
   "source": [
    "df_concated = pd.concat([df_china, df_italy])\n",
    "pv = df_concated.pivot_table(values='score', index=['price', 'type'])\n",
    "pv"
   ]
  },
  {
   "cell_type": "markdown",
   "metadata": {},
   "source": [
    "From this pivot table, we see that, even when find the average score of the cuisine type, split up by price range, there still seems to be a difference of the score between chinese and italian restaurants. Let's statistically check this by a linear model."
   ]
  },
  {
   "cell_type": "markdown",
   "metadata": {},
   "source": [
    "#### 2.2.2 Univariate Linear Model"
   ]
  },
  {
   "cell_type": "markdown",
   "metadata": {},
   "source": [
    "We will first try to predict score using cuisine type using the `patsy` package"
   ]
  },
  {
   "cell_type": "code",
   "execution_count": 31,
   "metadata": {},
   "outputs": [
    {
     "data": {
      "text/html": [
       "<table class=\"simpletable\">\n",
       "<caption>OLS Regression Results</caption>\n",
       "<tr>\n",
       "  <th>Dep. Variable:</th>          <td>score</td>      <th>  R-squared:         </th> <td>   0.066</td>\n",
       "</tr>\n",
       "<tr>\n",
       "  <th>Model:</th>                   <td>OLS</td>       <th>  Adj. R-squared:    </th> <td>   0.061</td>\n",
       "</tr>\n",
       "<tr>\n",
       "  <th>Method:</th>             <td>Least Squares</td>  <th>  F-statistic:       </th> <td>   13.28</td>\n",
       "</tr>\n",
       "<tr>\n",
       "  <th>Date:</th>             <td>Wed, 10 Jun 2020</td> <th>  Prob (F-statistic):</th> <td>0.000347</td>\n",
       "</tr>\n",
       "<tr>\n",
       "  <th>Time:</th>                 <td>22:33:10</td>     <th>  Log-Likelihood:    </th> <td> -398.96</td>\n",
       "</tr>\n",
       "<tr>\n",
       "  <th>No. Observations:</th>      <td>   191</td>      <th>  AIC:               </th> <td>   801.9</td>\n",
       "</tr>\n",
       "<tr>\n",
       "  <th>Df Residuals:</th>          <td>   189</td>      <th>  BIC:               </th> <td>   808.4</td>\n",
       "</tr>\n",
       "<tr>\n",
       "  <th>Df Model:</th>              <td>     1</td>      <th>                     </th>     <td> </td>   \n",
       "</tr>\n",
       "<tr>\n",
       "  <th>Covariance Type:</th>      <td>nonrobust</td>    <th>                     </th>     <td> </td>   \n",
       "</tr>\n",
       "</table>\n",
       "<table class=\"simpletable\">\n",
       "<tr>\n",
       "        <td></td>           <th>coef</th>     <th>std err</th>      <th>t</th>      <th>P>|t|</th>  <th>[0.025</th>    <th>0.975]</th>  \n",
       "</tr>\n",
       "<tr>\n",
       "  <th>Intercept</th>     <td>   94.4279</td> <td>    0.200</td> <td>  471.015</td> <td> 0.000</td> <td>   94.032</td> <td>   94.823</td>\n",
       "</tr>\n",
       "<tr>\n",
       "  <th>type[T.italy]</th> <td>    1.0359</td> <td>    0.284</td> <td>    3.644</td> <td> 0.000</td> <td>    0.475</td> <td>    1.597</td>\n",
       "</tr>\n",
       "</table>\n",
       "<table class=\"simpletable\">\n",
       "<tr>\n",
       "  <th>Omnibus:</th>       <td>10.808</td> <th>  Durbin-Watson:     </th> <td>   2.016</td>\n",
       "</tr>\n",
       "<tr>\n",
       "  <th>Prob(Omnibus):</th> <td> 0.004</td> <th>  Jarque-Bera (JB):  </th> <td>  10.980</td>\n",
       "</tr>\n",
       "<tr>\n",
       "  <th>Skew:</th>          <td>-0.547</td> <th>  Prob(JB):          </th> <td> 0.00413</td>\n",
       "</tr>\n",
       "<tr>\n",
       "  <th>Kurtosis:</th>      <td> 3.426</td> <th>  Cond. No.          </th> <td>    2.61</td>\n",
       "</tr>\n",
       "</table><br/><br/>Warnings:<br/>[1] Standard Errors assume that the covariance matrix of the errors is correctly specified."
      ],
      "text/plain": [
       "<class 'statsmodels.iolib.summary.Summary'>\n",
       "\"\"\"\n",
       "                            OLS Regression Results                            \n",
       "==============================================================================\n",
       "Dep. Variable:                  score   R-squared:                       0.066\n",
       "Model:                            OLS   Adj. R-squared:                  0.061\n",
       "Method:                 Least Squares   F-statistic:                     13.28\n",
       "Date:                Wed, 10 Jun 2020   Prob (F-statistic):           0.000347\n",
       "Time:                        22:33:10   Log-Likelihood:                -398.96\n",
       "No. Observations:                 191   AIC:                             801.9\n",
       "Df Residuals:                     189   BIC:                             808.4\n",
       "Df Model:                           1                                         \n",
       "Covariance Type:            nonrobust                                         \n",
       "=================================================================================\n",
       "                    coef    std err          t      P>|t|      [0.025      0.975]\n",
       "---------------------------------------------------------------------------------\n",
       "Intercept        94.4279      0.200    471.015      0.000      94.032      94.823\n",
       "type[T.italy]     1.0359      0.284      3.644      0.000       0.475       1.597\n",
       "==============================================================================\n",
       "Omnibus:                       10.808   Durbin-Watson:                   2.016\n",
       "Prob(Omnibus):                  0.004   Jarque-Bera (JB):               10.980\n",
       "Skew:                          -0.547   Prob(JB):                      0.00413\n",
       "Kurtosis:                       3.426   Cond. No.                         2.61\n",
       "==============================================================================\n",
       "\n",
       "Warnings:\n",
       "[1] Standard Errors assume that the covariance matrix of the errors is correctly specified.\n",
       "\"\"\""
      ]
     },
     "execution_count": 31,
     "metadata": {},
     "output_type": "execute_result"
    }
   ],
   "source": [
    "outcome_1, predictors_1 = patsy.dmatrices('score ~ type', df_concated)\n",
    "mod_1 = sm.OLS(outcome_1, predictors_1)\n",
    "res_1 = mod_1.fit()\n",
    "res_1.summary()"
   ]
  },
  {
   "cell_type": "markdown",
   "metadata": {},
   "source": [
    "Based on the model above, we see that type significantly predicts score (i.e. P value is less than 0.01)"
   ]
  },
  {
   "cell_type": "markdown",
   "metadata": {},
   "source": [
    "#### 2.2.3 Multivariate Linear Model"
   ]
  },
  {
   "cell_type": "markdown",
   "metadata": {},
   "source": [
    "Now we see if cuisine type still significantly predicts score when we control the price range"
   ]
  },
  {
   "cell_type": "code",
   "execution_count": 34,
   "metadata": {},
   "outputs": [
    {
     "data": {
      "text/html": [
       "<table class=\"simpletable\">\n",
       "<caption>OLS Regression Results</caption>\n",
       "<tr>\n",
       "  <th>Dep. Variable:</th>          <td>score</td>      <th>  R-squared:         </th> <td>   0.074</td>\n",
       "</tr>\n",
       "<tr>\n",
       "  <th>Model:</th>                   <td>OLS</td>       <th>  Adj. R-squared:    </th> <td>   0.058</td>\n",
       "</tr>\n",
       "<tr>\n",
       "  <th>Method:</th>             <td>Least Squares</td>  <th>  F-statistic:       </th> <td>   4.678</td>\n",
       "</tr>\n",
       "<tr>\n",
       "  <th>Date:</th>             <td>Wed, 10 Jun 2020</td> <th>  Prob (F-statistic):</th>  <td>0.00360</td>\n",
       "</tr>\n",
       "<tr>\n",
       "  <th>Time:</th>                 <td>22:37:38</td>     <th>  Log-Likelihood:    </th> <td> -370.79</td>\n",
       "</tr>\n",
       "<tr>\n",
       "  <th>No. Observations:</th>      <td>   180</td>      <th>  AIC:               </th> <td>   749.6</td>\n",
       "</tr>\n",
       "<tr>\n",
       "  <th>Df Residuals:</th>          <td>   176</td>      <th>  BIC:               </th> <td>   762.3</td>\n",
       "</tr>\n",
       "<tr>\n",
       "  <th>Df Model:</th>              <td>     3</td>      <th>                     </th>     <td> </td>   \n",
       "</tr>\n",
       "<tr>\n",
       "  <th>Covariance Type:</th>      <td>nonrobust</td>    <th>                     </th>     <td> </td>   \n",
       "</tr>\n",
       "</table>\n",
       "<table class=\"simpletable\">\n",
       "<tr>\n",
       "        <td></td>           <th>coef</th>     <th>std err</th>      <th>t</th>      <th>P>|t|</th>  <th>[0.025</th>    <th>0.975]</th>  \n",
       "</tr>\n",
       "<tr>\n",
       "  <th>Intercept</th>     <td>   94.3698</td> <td>    0.226</td> <td>  417.032</td> <td> 0.000</td> <td>   93.923</td> <td>   94.816</td>\n",
       "</tr>\n",
       "<tr>\n",
       "  <th>type[T.italy]</th> <td>    1.0644</td> <td>    0.314</td> <td>    3.386</td> <td> 0.001</td> <td>    0.444</td> <td>    1.685</td>\n",
       "</tr>\n",
       "<tr>\n",
       "  <th>price[T.$$]</th>   <td>    0.0116</td> <td>    0.315</td> <td>    0.037</td> <td> 0.971</td> <td>   -0.609</td> <td>    0.632</td>\n",
       "</tr>\n",
       "<tr>\n",
       "  <th>price[T.$$$]</th>  <td>    0.2324</td> <td>    1.944</td> <td>    0.120</td> <td> 0.905</td> <td>   -3.604</td> <td>    4.069</td>\n",
       "</tr>\n",
       "</table>\n",
       "<table class=\"simpletable\">\n",
       "<tr>\n",
       "  <th>Omnibus:</th>       <td>11.331</td> <th>  Durbin-Watson:     </th> <td>   2.029</td>\n",
       "</tr>\n",
       "<tr>\n",
       "  <th>Prob(Omnibus):</th> <td> 0.003</td> <th>  Jarque-Bera (JB):  </th> <td>  11.623</td>\n",
       "</tr>\n",
       "<tr>\n",
       "  <th>Skew:</th>          <td>-0.573</td> <th>  Prob(JB):          </th> <td> 0.00299</td>\n",
       "</tr>\n",
       "<tr>\n",
       "  <th>Kurtosis:</th>      <td> 3.484</td> <th>  Cond. No.          </th> <td>    17.5</td>\n",
       "</tr>\n",
       "</table><br/><br/>Warnings:<br/>[1] Standard Errors assume that the covariance matrix of the errors is correctly specified."
      ],
      "text/plain": [
       "<class 'statsmodels.iolib.summary.Summary'>\n",
       "\"\"\"\n",
       "                            OLS Regression Results                            \n",
       "==============================================================================\n",
       "Dep. Variable:                  score   R-squared:                       0.074\n",
       "Model:                            OLS   Adj. R-squared:                  0.058\n",
       "Method:                 Least Squares   F-statistic:                     4.678\n",
       "Date:                Wed, 10 Jun 2020   Prob (F-statistic):            0.00360\n",
       "Time:                        22:37:38   Log-Likelihood:                -370.79\n",
       "No. Observations:                 180   AIC:                             749.6\n",
       "Df Residuals:                     176   BIC:                             762.3\n",
       "Df Model:                           3                                         \n",
       "Covariance Type:            nonrobust                                         \n",
       "=================================================================================\n",
       "                    coef    std err          t      P>|t|      [0.025      0.975]\n",
       "---------------------------------------------------------------------------------\n",
       "Intercept        94.3698      0.226    417.032      0.000      93.923      94.816\n",
       "type[T.italy]     1.0644      0.314      3.386      0.001       0.444       1.685\n",
       "price[T.$$]       0.0116      0.315      0.037      0.971      -0.609       0.632\n",
       "price[T.$$$]      0.2324      1.944      0.120      0.905      -3.604       4.069\n",
       "==============================================================================\n",
       "Omnibus:                       11.331   Durbin-Watson:                   2.029\n",
       "Prob(Omnibus):                  0.003   Jarque-Bera (JB):               11.623\n",
       "Skew:                          -0.573   Prob(JB):                      0.00299\n",
       "Kurtosis:                       3.484   Cond. No.                         17.5\n",
       "==============================================================================\n",
       "\n",
       "Warnings:\n",
       "[1] Standard Errors assume that the covariance matrix of the errors is correctly specified.\n",
       "\"\"\""
      ]
     },
     "execution_count": 34,
     "metadata": {},
     "output_type": "execute_result"
    }
   ],
   "source": [
    "outcome_2, predictors_2 = patsy.dmatrices('score ~ type + price', df_concated)\n",
    "mod_2 = sm.OLS(outcome_2, predictors_2)\n",
    "res_2 = mod_2.fit()\n",
    "res_2.summary()"
   ]
  },
  {
   "cell_type": "markdown",
   "metadata": {},
   "source": [
    "We see that cuisine type still significantly predicts score, even when we control price range. This is consistant with what we observed from the pivot table"
   ]
  },
  {
   "cell_type": "markdown",
   "metadata": {},
   "source": [
    "# Ethics & Privacy"
   ]
  },
  {
   "cell_type": "markdown",
   "metadata": {},
   "source": [
    "1. The inspection data is mostlikely is publicly available under the Law of Nort Carolina. However, the data from Yelp might have been collected using their APIs or from web scrapping. We assume that we had the rights to use this data since it was provided, however, clear consent should be obtained from Yelp. \n",
    "\n",
    "2. Also the data from Yelp is used in the way that fully complies with the privacy policy of such services.\n",
    "\n",
    "3. The data might exclude food vendors that operate without the knowledge of the state of North Carolina and Yelp, and therefore might show bias towards food cuisines that are often served by such vendors.\n",
    "\n",
    "4. The inspection data from the state of North Carolina is collected through human inspection, which are prone to human error, inconsistency and might have bias towards certain ethnicity/cuisines.\n",
    "\n",
    "5. The result of this research might be maliciously used to target certain restaurants or groups of ethnicity and food cuisine.\n",
    "\n",
    "6. This research shall, and have done precautious methods to avoid any privacy problem with the data.\n",
    "\n",
    "The research will fully complies with any policy and clearly cite the source of the data collected to avoid any privacy problem in 1st and 2nd points. In order to avoid problem in the 3rd and 4th points, the results of this research shall emphasize that the research questions concerns about a possible relationship between food cuisine and health inspection result, and not necessarily reflects the hygiene of the restaurants associated with the cuisine. Finally, for the 5th problem, this research shall choose positive words to use in describing the analysis in order to limit the negative opinions that might arise."
   ]
  },
  {
   "cell_type": "markdown",
   "metadata": {},
   "source": [
    "# Conclusion & Discussion"
   ]
  },
  {
   "cell_type": "markdown",
   "metadata": {},
   "source": [
    "So, in conclusion, the initial analysis we performed strongly supports our hypothesis: the health inspection score of Chinese restaurants is on average lower than the inspection score of Italian restaurants. Further analysis showed that the observations from early analysis still hold when we consider whether price range is a confounding variable that explains why the health inspection score of different cuisines are different.\n",
    "\n",
    "Our analysis overall have answered our research question that: the food inspection result of restaurants in Nort Carolina does in fact differ by the food cuisine, at the very least between Chinese and Italian cuisine.\n",
    "\n",
    "Nevertheless, there are still many variables left out that are not considered. For a more confident result, further analysis on to test if those are confouding variables or not is neccesary. Also due to this fact, the result of this research shall only serve as an insight to factual differences between food cuisines, and shall not be used in anyway that negatively target and show bias towards any specific race and culture."
   ]
  },
  {
   "cell_type": "code",
   "execution_count": null,
   "metadata": {},
   "outputs": [],
   "source": []
  }
 ],
 "metadata": {
  "kernelspec": {
   "display_name": "Python 3",
   "language": "python",
   "name": "python3"
  },
  "language_info": {
   "codemirror_mode": {
    "name": "ipython",
    "version": 3
   },
   "file_extension": ".py",
   "mimetype": "text/x-python",
   "name": "python",
   "nbconvert_exporter": "python",
   "pygments_lexer": "ipython3",
   "version": "3.6.7"
  }
 },
 "nbformat": 4,
 "nbformat_minor": 2
}
