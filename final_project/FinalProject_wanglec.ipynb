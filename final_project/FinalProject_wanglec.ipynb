{
 "cells": [
  {
   "cell_type": "markdown",
   "metadata": {},
   "source": [
    "# COGS 108 - Final Project "
   ]
  },
  {
   "cell_type": "markdown",
   "metadata": {},
   "source": [
    "# Overview"
   ]
  },
  {
   "cell_type": "markdown",
   "metadata": {},
   "source": [
    "In my final project, I try to find out whether there exists a correlated relationship among yelp ratings and number of violations and health inspection scores. Specifically, I wonder whether restaurants which violate critical health standards and have lower health scores would have lower yelp ratings than those which don't. However, there seems to be no correlation among yelp ratings, number of violations and health scores according to my analysis. Hence, we could not tell the health scores of restaurants and number of violations from their yelp ratings."
   ]
  },
  {
   "cell_type": "markdown",
   "metadata": {},
   "source": [
    "# Name & PID\n",
    "\n",
    "- Name: Lechuan Wang\n",
    "- PID: A15474354"
   ]
  },
  {
   "cell_type": "markdown",
   "metadata": {},
   "source": [
    "# Research Question"
   ]
  },
  {
   "cell_type": "markdown",
   "metadata": {},
   "source": [
    "Do restaurants which do not violate the health inspection standards and have higher health scores have higher yelp ratings than those which violate the health inspection standards?"
   ]
  },
  {
   "cell_type": "markdown",
   "metadata": {},
   "source": [
    "## Background and Prior Work"
   ]
  },
  {
   "cell_type": "markdown",
   "metadata": {},
   "source": [
    "Local public health departments regularly inspect businesses serving food to ensure restaurants and other food retail outlets are following safe food handling procedure.(1) It focuses on food contamination, temperature control, hygiene, general cleanliness, and healthy aspects.(4) One inspection may not be representative of the overall, long-term sanitation of an establishment, because a restaurant may have greater or fewer violations than observed during an inspection. In addition, some violations noted on an inspection report may have been corrected at the time of the inspection, which are indicated on the report. Follow-up inspections may be conducted for specific critical violations that cannot be corrected at the time of the inspection.(2)\n",
    "\n",
    "For the grading specification, each restaurant is assigned a letter grade that corresponds to its health inspection score — 90 to 100 points for an A, 80 to 89 for a B and 70 to 79 for a C.(3) These inspection scores will influence the revenue of local restaurants. According to a 2018 study, posting health scores prominently on a business page leads to a 12 percent decrease in purchase intentions for restaurants with poor scores (relative to those with higher scores).(5)\n",
    "\n",
    "References (include links):\n",
    "- 1) https://www.foodsafetynews.com/restaurant-inspections-in-your-area/\n",
    "- 2) https://www.dininggrades.com/blog/challenges-of-health-department-food-safety-inspections/\n",
    "- 3) https://www.washingtonpost.com/news/voraciously/wp/2018/07/24/yelp-adds-health-inspection-scores-for-restaurants-and-restaurateurs-are-not-happy/\n",
    "- 4) https://blog.typsy.com/how-do-health-inspections-work#:~:text=Health%20inspectors%20will%20spend%20a,about%20your%20temperature%20measuring%20devices.\n",
    "- 5) https://www.reviewtrackers.com/blog/yelp-health-score/#:~:text=Yelp%20Health%20Score%20and%20the%20LIVES%20Program&text=The%20data%20can%20be%20seen,100)%20on%20restaurant%20review%20pages.&text=If%20a%20local%20health%20department,inspection%20results%20of%20a%20business."
   ]
  },
  {
   "cell_type": "markdown",
   "metadata": {},
   "source": [
    "# Hypothesis\n"
   ]
  },
  {
   "cell_type": "markdown",
   "metadata": {},
   "source": [
    "There is a relationship among yelp ratings, health scores and the number of violations of health standards. The rating score might be lower if the restaurant violates the health requirement and has a lower health scores . In addition, the number of critical violations might further decrease the rating scores."
   ]
  },
  {
   "cell_type": "markdown",
   "metadata": {},
   "source": [
    "# Dataset(s)"
   ]
  },
  {
   "cell_type": "markdown",
   "metadata": {},
   "source": [
    "- Dataset Name: inspections.csv\n",
    "- Link to the dataset: given\n",
    "- Number of observations: 18466 \n",
    "<br> The inspections dataset includes information about date, zipcodes, restaurants information, inspection history, number of critical/non-critical violations and scores for each restaurant.\n",
    " \n",
    " \n",
    "- Dataset Name: restaurants.csv\n",
    "- Link to the dataset: given\n",
    "- Number of observations: 3324\n",
    "<br> The restaurants dataset includes information about names, location, and zipcodes.\n",
    "\n",
    "- Dataset Name: yelp.csv\n",
    "- Link to the dataset: given\n",
    "- Number of observations: 3688\n",
    "<br> The yelp dataset includes information about names, ratings, locations, review counts and several severd food.\n",
    "\n",
    "First, I will combine restaurants and inspections to get the number of violations for each restaurant. Then, I add yelp data set to find the score. Lastly, I will use them to explore my data."
   ]
  },
  {
   "cell_type": "markdown",
   "metadata": {},
   "source": [
    "# Setup"
   ]
  },
  {
   "cell_type": "code",
   "execution_count": 63,
   "metadata": {},
   "outputs": [],
   "source": [
    "## YOUR CODE HERE\n",
    "\n",
    "%matplotlib inline\n",
    "\n",
    "# Import all libraries\n",
    "import numpy as np\n",
    "import pandas as pd\n",
    "import matplotlib.pyplot as plt\n",
    "import seaborn as sns\n",
    "sns.set()\n",
    "sns.set_context('talk')\n",
    "\n",
    "import patsy\n",
    "import statsmodels.api as sm\n",
    "import scipy.stats as stats\n",
    "from scipy.stats import ttest_ind, chisquare, normaltest\n",
    "\n",
    "inspection = pd.read_csv(\"inspections.csv\")\n",
    "yelp = pd.read_csv(\"yelp.csv\")\n",
    "restaurants = pd.read_csv(\"restaurants.csv\")"
   ]
  },
  {
   "cell_type": "markdown",
   "metadata": {},
   "source": [
    "# Data Cleaning"
   ]
  },
  {
   "cell_type": "markdown",
   "metadata": {},
   "source": [
    "First, I only consider restaurants and inspections. I only need name, address and id to distinguish restaurants. Info related to number of critical/non-critical violations and scores in inspections are needed. Address is also needed to merge with yelp data set later."
   ]
  },
  {
   "cell_type": "code",
   "execution_count": 49,
   "metadata": {},
   "outputs": [
    {
     "data": {
      "text/html": [
       "<div>\n",
       "<style scoped>\n",
       "    .dataframe tbody tr th:only-of-type {\n",
       "        vertical-align: middle;\n",
       "    }\n",
       "\n",
       "    .dataframe tbody tr th {\n",
       "        vertical-align: top;\n",
       "    }\n",
       "\n",
       "    .dataframe thead th {\n",
       "        text-align: right;\n",
       "    }\n",
       "</style>\n",
       "<table border=\"1\" class=\"dataframe\">\n",
       "  <thead>\n",
       "    <tr style=\"text-align: right;\">\n",
       "      <th></th>\n",
       "      <th>hsisid</th>\n",
       "      <th>name</th>\n",
       "      <th>address1_x</th>\n",
       "      <th>inspection_num</th>\n",
       "      <th>num_critical</th>\n",
       "      <th>num_non_critical</th>\n",
       "      <th>score</th>\n",
       "      <th>address1_y</th>\n",
       "    </tr>\n",
       "  </thead>\n",
       "  <tbody>\n",
       "    <tr>\n",
       "      <th>0</th>\n",
       "      <td>4092017230</td>\n",
       "      <td>SPRING CAFE 2</td>\n",
       "      <td>2900-104 SPRING FOREST RD</td>\n",
       "      <td>1</td>\n",
       "      <td>9</td>\n",
       "      <td>7</td>\n",
       "      <td>88.0</td>\n",
       "      <td>2900-104 SPRING FOREST RD</td>\n",
       "    </tr>\n",
       "    <tr>\n",
       "      <th>10</th>\n",
       "      <td>4092014444</td>\n",
       "      <td>Taco Bell #22798</td>\n",
       "      <td>2207 S MAIN ST</td>\n",
       "      <td>10</td>\n",
       "      <td>0</td>\n",
       "      <td>3</td>\n",
       "      <td>98.0</td>\n",
       "      <td>2207 S MAIN ST</td>\n",
       "    </tr>\n",
       "    <tr>\n",
       "      <th>18</th>\n",
       "      <td>4092015333</td>\n",
       "      <td>THE REMEDY DINER</td>\n",
       "      <td>137 E HARGETT ST</td>\n",
       "      <td>8</td>\n",
       "      <td>11</td>\n",
       "      <td>11</td>\n",
       "      <td>88.5</td>\n",
       "      <td>137 E HARGETT ST</td>\n",
       "    </tr>\n",
       "    <tr>\n",
       "      <th>28</th>\n",
       "      <td>4092160069</td>\n",
       "      <td>ZEBULON HOUSE (KITCHEN)</td>\n",
       "      <td>551 PONY RD</td>\n",
       "      <td>10</td>\n",
       "      <td>4</td>\n",
       "      <td>3</td>\n",
       "      <td>95.5</td>\n",
       "      <td>551 PONY RD</td>\n",
       "    </tr>\n",
       "    <tr>\n",
       "      <th>38</th>\n",
       "      <td>4092110477</td>\n",
       "      <td>CHARLES BUGG CAFETERIA</td>\n",
       "      <td>825 COOPER ST</td>\n",
       "      <td>10</td>\n",
       "      <td>1</td>\n",
       "      <td>3</td>\n",
       "      <td>98.0</td>\n",
       "      <td>825 COOPER ST</td>\n",
       "    </tr>\n",
       "    <tr>\n",
       "      <th>...</th>\n",
       "      <td>...</td>\n",
       "      <td>...</td>\n",
       "      <td>...</td>\n",
       "      <td>...</td>\n",
       "      <td>...</td>\n",
       "      <td>...</td>\n",
       "      <td>...</td>\n",
       "      <td>...</td>\n",
       "    </tr>\n",
       "    <tr>\n",
       "      <th>18453</th>\n",
       "      <td>4092015461</td>\n",
       "      <td>Zoes Kitchen</td>\n",
       "      <td>1028 OBERLIN RD</td>\n",
       "      <td>7</td>\n",
       "      <td>1</td>\n",
       "      <td>3</td>\n",
       "      <td>98.5</td>\n",
       "      <td>1028 OBERLIN RD</td>\n",
       "    </tr>\n",
       "    <tr>\n",
       "      <th>18457</th>\n",
       "      <td>4092016658</td>\n",
       "      <td>LA ROMA PIZZA</td>\n",
       "      <td>1322 FIFTH AVE</td>\n",
       "      <td>4</td>\n",
       "      <td>5</td>\n",
       "      <td>9</td>\n",
       "      <td>92.0</td>\n",
       "      <td>1322 FIFTH AVE</td>\n",
       "    </tr>\n",
       "    <tr>\n",
       "      <th>18463</th>\n",
       "      <td>4092016663</td>\n",
       "      <td>BOJANGLES #5</td>\n",
       "      <td>3301 S WILMINGTON ST</td>\n",
       "      <td>6</td>\n",
       "      <td>3</td>\n",
       "      <td>3</td>\n",
       "      <td>97.0</td>\n",
       "      <td>3301 S WILMINGTON ST</td>\n",
       "    </tr>\n",
       "    <tr>\n",
       "      <th>18464</th>\n",
       "      <td>4092017227</td>\n",
       "      <td>QUICKLY</td>\n",
       "      <td>4141 DAVIS DR</td>\n",
       "      <td>1</td>\n",
       "      <td>7</td>\n",
       "      <td>14</td>\n",
       "      <td>90.0</td>\n",
       "      <td>4141 DAVIS DR</td>\n",
       "    </tr>\n",
       "    <tr>\n",
       "      <th>18465</th>\n",
       "      <td>4092017274</td>\n",
       "      <td>HARRIS TEETER #43 STARBUCKS</td>\n",
       "      <td>3638 ROGERS RD</td>\n",
       "      <td>1</td>\n",
       "      <td>3</td>\n",
       "      <td>1</td>\n",
       "      <td>98.5</td>\n",
       "      <td>3638 ROGERS RD</td>\n",
       "    </tr>\n",
       "  </tbody>\n",
       "</table>\n",
       "<p>3045 rows × 8 columns</p>\n",
       "</div>"
      ],
      "text/plain": [
       "           hsisid                         name                  address1_x  \\\n",
       "0      4092017230                SPRING CAFE 2  2900-104 SPRING FOREST RD    \n",
       "10     4092014444             Taco Bell #22798             2207 S MAIN ST    \n",
       "18     4092015333             THE REMEDY DINER           137 E HARGETT ST    \n",
       "28     4092160069      ZEBULON HOUSE (KITCHEN)                551 PONY RD    \n",
       "38     4092110477       CHARLES BUGG CAFETERIA              825 COOPER ST    \n",
       "...           ...                          ...                         ...   \n",
       "18453  4092015461                 Zoes Kitchen            1028 OBERLIN RD    \n",
       "18457  4092016658                LA ROMA PIZZA             1322 FIFTH AVE    \n",
       "18463  4092016663                 BOJANGLES #5       3301 S WILMINGTON ST    \n",
       "18464  4092017227                      QUICKLY              4141 DAVIS DR    \n",
       "18465  4092017274  HARRIS TEETER #43 STARBUCKS             3638 ROGERS RD    \n",
       "\n",
       "       inspection_num  num_critical  num_non_critical  score  \\\n",
       "0                   1             9                 7   88.0   \n",
       "10                 10             0                 3   98.0   \n",
       "18                  8            11                11   88.5   \n",
       "28                 10             4                 3   95.5   \n",
       "38                 10             1                 3   98.0   \n",
       "...               ...           ...               ...    ...   \n",
       "18453               7             1                 3   98.5   \n",
       "18457               4             5                 9   92.0   \n",
       "18463               6             3                 3   97.0   \n",
       "18464               1             7                14   90.0   \n",
       "18465               1             3                 1   98.5   \n",
       "\n",
       "                      address1_y  \n",
       "0      2900-104 SPRING FOREST RD  \n",
       "10                2207 S MAIN ST  \n",
       "18              137 E HARGETT ST  \n",
       "28                   551 PONY RD  \n",
       "38                 825 COOPER ST  \n",
       "...                          ...  \n",
       "18453            1028 OBERLIN RD  \n",
       "18457             1322 FIFTH AVE  \n",
       "18463       3301 S WILMINGTON ST  \n",
       "18464              4141 DAVIS DR  \n",
       "18465             3638 ROGERS RD  \n",
       "\n",
       "[3045 rows x 8 columns]"
      ]
     },
     "execution_count": 49,
     "metadata": {},
     "output_type": "execute_result"
    }
   ],
   "source": [
    "# select columns i need from both data sets\n",
    "df_restaurant = restaurants[['hsisid','name','address1']]\n",
    "df_inspection = inspection[['hsisid', 'inspection_num', 'num_critical', 'num_non_critical', 'score','address1']]\n",
    "# Merge data frames\n",
    "restaurant_inspection = pd.merge(left=df_restaurant, right=df_inspection, on=['hsisid'], how='inner')\n",
    "# only keep the last inspection result to keep track of the most recent data  \n",
    "restaurant_inspection = restaurant_inspection.drop_duplicates(subset='hsisid', keep=\"last\")\n",
    "restaurant_inspection"
   ]
  },
  {
   "cell_type": "markdown",
   "metadata": {},
   "source": [
    "Then, I change the name of address1_x to address to make sure merging is working in the future."
   ]
  },
  {
   "cell_type": "code",
   "execution_count": 50,
   "metadata": {},
   "outputs": [
    {
     "data": {
      "text/html": [
       "<div>\n",
       "<style scoped>\n",
       "    .dataframe tbody tr th:only-of-type {\n",
       "        vertical-align: middle;\n",
       "    }\n",
       "\n",
       "    .dataframe tbody tr th {\n",
       "        vertical-align: top;\n",
       "    }\n",
       "\n",
       "    .dataframe thead th {\n",
       "        text-align: right;\n",
       "    }\n",
       "</style>\n",
       "<table border=\"1\" class=\"dataframe\">\n",
       "  <thead>\n",
       "    <tr style=\"text-align: right;\">\n",
       "      <th></th>\n",
       "      <th>hsisid</th>\n",
       "      <th>name</th>\n",
       "      <th>address</th>\n",
       "      <th>inspection_num</th>\n",
       "      <th>num_critical</th>\n",
       "      <th>num_non_critical</th>\n",
       "      <th>score</th>\n",
       "      <th>address1_y</th>\n",
       "    </tr>\n",
       "  </thead>\n",
       "  <tbody>\n",
       "    <tr>\n",
       "      <th>0</th>\n",
       "      <td>4092017230</td>\n",
       "      <td>SPRING CAFE 2</td>\n",
       "      <td>2900-104 spring forest rd</td>\n",
       "      <td>1</td>\n",
       "      <td>9</td>\n",
       "      <td>7</td>\n",
       "      <td>88.0</td>\n",
       "      <td>2900-104 SPRING FOREST RD</td>\n",
       "    </tr>\n",
       "    <tr>\n",
       "      <th>10</th>\n",
       "      <td>4092014444</td>\n",
       "      <td>Taco Bell #22798</td>\n",
       "      <td>2207 s main st</td>\n",
       "      <td>10</td>\n",
       "      <td>0</td>\n",
       "      <td>3</td>\n",
       "      <td>98.0</td>\n",
       "      <td>2207 S MAIN ST</td>\n",
       "    </tr>\n",
       "    <tr>\n",
       "      <th>18</th>\n",
       "      <td>4092015333</td>\n",
       "      <td>THE REMEDY DINER</td>\n",
       "      <td>137 e hargett st</td>\n",
       "      <td>8</td>\n",
       "      <td>11</td>\n",
       "      <td>11</td>\n",
       "      <td>88.5</td>\n",
       "      <td>137 E HARGETT ST</td>\n",
       "    </tr>\n",
       "    <tr>\n",
       "      <th>28</th>\n",
       "      <td>4092160069</td>\n",
       "      <td>ZEBULON HOUSE (KITCHEN)</td>\n",
       "      <td>551 pony rd</td>\n",
       "      <td>10</td>\n",
       "      <td>4</td>\n",
       "      <td>3</td>\n",
       "      <td>95.5</td>\n",
       "      <td>551 PONY RD</td>\n",
       "    </tr>\n",
       "    <tr>\n",
       "      <th>38</th>\n",
       "      <td>4092110477</td>\n",
       "      <td>CHARLES BUGG CAFETERIA</td>\n",
       "      <td>825 cooper st</td>\n",
       "      <td>10</td>\n",
       "      <td>1</td>\n",
       "      <td>3</td>\n",
       "      <td>98.0</td>\n",
       "      <td>825 COOPER ST</td>\n",
       "    </tr>\n",
       "    <tr>\n",
       "      <th>...</th>\n",
       "      <td>...</td>\n",
       "      <td>...</td>\n",
       "      <td>...</td>\n",
       "      <td>...</td>\n",
       "      <td>...</td>\n",
       "      <td>...</td>\n",
       "      <td>...</td>\n",
       "      <td>...</td>\n",
       "    </tr>\n",
       "    <tr>\n",
       "      <th>18453</th>\n",
       "      <td>4092015461</td>\n",
       "      <td>Zoes Kitchen</td>\n",
       "      <td>1028 oberlin rd</td>\n",
       "      <td>7</td>\n",
       "      <td>1</td>\n",
       "      <td>3</td>\n",
       "      <td>98.5</td>\n",
       "      <td>1028 OBERLIN RD</td>\n",
       "    </tr>\n",
       "    <tr>\n",
       "      <th>18457</th>\n",
       "      <td>4092016658</td>\n",
       "      <td>LA ROMA PIZZA</td>\n",
       "      <td>1322 fifth ave</td>\n",
       "      <td>4</td>\n",
       "      <td>5</td>\n",
       "      <td>9</td>\n",
       "      <td>92.0</td>\n",
       "      <td>1322 FIFTH AVE</td>\n",
       "    </tr>\n",
       "    <tr>\n",
       "      <th>18463</th>\n",
       "      <td>4092016663</td>\n",
       "      <td>BOJANGLES #5</td>\n",
       "      <td>3301 s wilmington st</td>\n",
       "      <td>6</td>\n",
       "      <td>3</td>\n",
       "      <td>3</td>\n",
       "      <td>97.0</td>\n",
       "      <td>3301 S WILMINGTON ST</td>\n",
       "    </tr>\n",
       "    <tr>\n",
       "      <th>18464</th>\n",
       "      <td>4092017227</td>\n",
       "      <td>QUICKLY</td>\n",
       "      <td>4141 davis dr</td>\n",
       "      <td>1</td>\n",
       "      <td>7</td>\n",
       "      <td>14</td>\n",
       "      <td>90.0</td>\n",
       "      <td>4141 DAVIS DR</td>\n",
       "    </tr>\n",
       "    <tr>\n",
       "      <th>18465</th>\n",
       "      <td>4092017274</td>\n",
       "      <td>HARRIS TEETER #43 STARBUCKS</td>\n",
       "      <td>3638 rogers rd</td>\n",
       "      <td>1</td>\n",
       "      <td>3</td>\n",
       "      <td>1</td>\n",
       "      <td>98.5</td>\n",
       "      <td>3638 ROGERS RD</td>\n",
       "    </tr>\n",
       "  </tbody>\n",
       "</table>\n",
       "<p>3045 rows × 8 columns</p>\n",
       "</div>"
      ],
      "text/plain": [
       "           hsisid                         name                     address  \\\n",
       "0      4092017230                SPRING CAFE 2  2900-104 spring forest rd    \n",
       "10     4092014444             Taco Bell #22798             2207 s main st    \n",
       "18     4092015333             THE REMEDY DINER           137 e hargett st    \n",
       "28     4092160069      ZEBULON HOUSE (KITCHEN)                551 pony rd    \n",
       "38     4092110477       CHARLES BUGG CAFETERIA              825 cooper st    \n",
       "...           ...                          ...                         ...   \n",
       "18453  4092015461                 Zoes Kitchen            1028 oberlin rd    \n",
       "18457  4092016658                LA ROMA PIZZA             1322 fifth ave    \n",
       "18463  4092016663                 BOJANGLES #5       3301 s wilmington st    \n",
       "18464  4092017227                      QUICKLY              4141 davis dr    \n",
       "18465  4092017274  HARRIS TEETER #43 STARBUCKS             3638 rogers rd    \n",
       "\n",
       "       inspection_num  num_critical  num_non_critical  score  \\\n",
       "0                   1             9                 7   88.0   \n",
       "10                 10             0                 3   98.0   \n",
       "18                  8            11                11   88.5   \n",
       "28                 10             4                 3   95.5   \n",
       "38                 10             1                 3   98.0   \n",
       "...               ...           ...               ...    ...   \n",
       "18453               7             1                 3   98.5   \n",
       "18457               4             5                 9   92.0   \n",
       "18463               6             3                 3   97.0   \n",
       "18464               1             7                14   90.0   \n",
       "18465               1             3                 1   98.5   \n",
       "\n",
       "                      address1_y  \n",
       "0      2900-104 SPRING FOREST RD  \n",
       "10                2207 S MAIN ST  \n",
       "18              137 E HARGETT ST  \n",
       "28                   551 PONY RD  \n",
       "38                 825 COOPER ST  \n",
       "...                          ...  \n",
       "18453            1028 OBERLIN RD  \n",
       "18457             1322 FIFTH AVE  \n",
       "18463       3301 S WILMINGTON ST  \n",
       "18464              4141 DAVIS DR  \n",
       "18465             3638 ROGERS RD  \n",
       "\n",
       "[3045 rows x 8 columns]"
      ]
     },
     "execution_count": 50,
     "metadata": {},
     "output_type": "execute_result"
    }
   ],
   "source": [
    "# rename and standardize addresses\n",
    "df = restaurant_inspection.rename(columns={\"address1_x\": \"address\"})\n",
    "df['address'] = df['address'].str.lower()\n",
    "df"
   ]
  },
  {
   "cell_type": "markdown",
   "metadata": {},
   "source": [
    "Next step, I add ratings and review counts into the df and keep data with at least 3 times appearance to avoid randomness. Before adding, I need to remove observations without address because address information is necessary to merge datasets. Again, I change \"address1\" to address like above to allow merging."
   ]
  },
  {
   "cell_type": "code",
   "execution_count": 51,
   "metadata": {},
   "outputs": [
    {
     "data": {
      "text/html": [
       "<div>\n",
       "<style scoped>\n",
       "    .dataframe tbody tr th:only-of-type {\n",
       "        vertical-align: middle;\n",
       "    }\n",
       "\n",
       "    .dataframe tbody tr th {\n",
       "        vertical-align: top;\n",
       "    }\n",
       "\n",
       "    .dataframe thead th {\n",
       "        text-align: right;\n",
       "    }\n",
       "</style>\n",
       "<table border=\"1\" class=\"dataframe\">\n",
       "  <thead>\n",
       "    <tr style=\"text-align: right;\">\n",
       "      <th></th>\n",
       "      <th>rating</th>\n",
       "      <th>review_count</th>\n",
       "      <th>name</th>\n",
       "      <th>address</th>\n",
       "    </tr>\n",
       "  </thead>\n",
       "  <tbody>\n",
       "    <tr>\n",
       "      <th>0</th>\n",
       "      <td>2.5</td>\n",
       "      <td>23</td>\n",
       "      <td>42nd street oyster bar - rdu airport</td>\n",
       "      <td>2400 john brantley blvd</td>\n",
       "    </tr>\n",
       "    <tr>\n",
       "      <th>1</th>\n",
       "      <td>4.0</td>\n",
       "      <td>17</td>\n",
       "      <td>aldi foods</td>\n",
       "      <td>2303 nw maynard rd</td>\n",
       "    </tr>\n",
       "    <tr>\n",
       "      <th>3</th>\n",
       "      <td>3.0</td>\n",
       "      <td>16</td>\n",
       "      <td>olive garden italian restaurant</td>\n",
       "      <td>3401 raleigh rd pkwy w</td>\n",
       "    </tr>\n",
       "    <tr>\n",
       "      <th>4</th>\n",
       "      <td>3.5</td>\n",
       "      <td>3</td>\n",
       "      <td>subway</td>\n",
       "      <td>4934 raleigh rd</td>\n",
       "    </tr>\n",
       "    <tr>\n",
       "      <th>5</th>\n",
       "      <td>5.0</td>\n",
       "      <td>5</td>\n",
       "      <td>trent restaurant</td>\n",
       "      <td>129 main st</td>\n",
       "    </tr>\n",
       "    <tr>\n",
       "      <th>...</th>\n",
       "      <td>...</td>\n",
       "      <td>...</td>\n",
       "      <td>...</td>\n",
       "      <td>...</td>\n",
       "    </tr>\n",
       "    <tr>\n",
       "      <th>3683</th>\n",
       "      <td>3.5</td>\n",
       "      <td>23</td>\n",
       "      <td>carter-finley stadium</td>\n",
       "      <td>4600 trinity rd</td>\n",
       "    </tr>\n",
       "    <tr>\n",
       "      <th>3684</th>\n",
       "      <td>3.5</td>\n",
       "      <td>24</td>\n",
       "      <td>raleigh little theatre</td>\n",
       "      <td>301 pogue st</td>\n",
       "    </tr>\n",
       "    <tr>\n",
       "      <th>3685</th>\n",
       "      <td>4.0</td>\n",
       "      <td>12</td>\n",
       "      <td>sky zone trampoline park, durham</td>\n",
       "      <td>1720 guess rd</td>\n",
       "    </tr>\n",
       "    <tr>\n",
       "      <th>3686</th>\n",
       "      <td>3.5</td>\n",
       "      <td>4</td>\n",
       "      <td>highgrove estate</td>\n",
       "      <td>1613 s main st</td>\n",
       "    </tr>\n",
       "    <tr>\n",
       "      <th>3687</th>\n",
       "      <td>2.0</td>\n",
       "      <td>5</td>\n",
       "      <td>banfield pet hospital</td>\n",
       "      <td>6300 creedmoor rd</td>\n",
       "    </tr>\n",
       "  </tbody>\n",
       "</table>\n",
       "<p>3236 rows × 4 columns</p>\n",
       "</div>"
      ],
      "text/plain": [
       "      rating  review_count                                  name  \\\n",
       "0        2.5            23  42nd street oyster bar - rdu airport   \n",
       "1        4.0            17                            aldi foods   \n",
       "3        3.0            16       olive garden italian restaurant   \n",
       "4        3.5             3                                subway   \n",
       "5        5.0             5                      trent restaurant   \n",
       "...      ...           ...                                   ...   \n",
       "3683     3.5            23                 carter-finley stadium   \n",
       "3684     3.5            24                raleigh little theatre   \n",
       "3685     4.0            12      sky zone trampoline park, durham   \n",
       "3686     3.5             4                      highgrove estate   \n",
       "3687     2.0             5                 banfield pet hospital   \n",
       "\n",
       "                      address  \n",
       "0     2400 john brantley blvd  \n",
       "1          2303 nw maynard rd  \n",
       "3      3401 raleigh rd pkwy w  \n",
       "4             4934 raleigh rd  \n",
       "5                 129 main st  \n",
       "...                       ...  \n",
       "3683          4600 trinity rd  \n",
       "3684             301 pogue st  \n",
       "3685            1720 guess rd  \n",
       "3686           1613 s main st  \n",
       "3687        6300 creedmoor rd  \n",
       "\n",
       "[3236 rows x 4 columns]"
      ]
     },
     "execution_count": 51,
     "metadata": {},
     "output_type": "execute_result"
    }
   ],
   "source": [
    "yelp = yelp[yelp[\"review_count\"] >= 3]\n",
    "# remove data if no address available\n",
    "yelp = yelp.dropna(subset=['address1'])\n",
    "# select only useful data\n",
    "df_yelp = yelp[['rating','review_count','name','address1']]\n",
    "df_yelp = df_yelp.rename(columns={\"address1\": \"address\"})\n",
    "df_yelp['address'] = df_yelp['address'].str.lower()\n",
    "df_yelp"
   ]
  },
  {
   "cell_type": "markdown",
   "metadata": {},
   "source": [
    "Last step, I merge df and df yelp with respect to name of the restaurant and select columns associated with number of critial violation, ratings, scores and so on. Again, I remove repetative observations by looking at name_x."
   ]
  },
  {
   "cell_type": "code",
   "execution_count": 52,
   "metadata": {},
   "outputs": [
    {
     "data": {
      "text/html": [
       "<div>\n",
       "<style scoped>\n",
       "    .dataframe tbody tr th:only-of-type {\n",
       "        vertical-align: middle;\n",
       "    }\n",
       "\n",
       "    .dataframe tbody tr th {\n",
       "        vertical-align: top;\n",
       "    }\n",
       "\n",
       "    .dataframe thead th {\n",
       "        text-align: right;\n",
       "    }\n",
       "</style>\n",
       "<table border=\"1\" class=\"dataframe\">\n",
       "  <thead>\n",
       "    <tr style=\"text-align: right;\">\n",
       "      <th></th>\n",
       "      <th>name_x</th>\n",
       "      <th>rating</th>\n",
       "      <th>num_critical</th>\n",
       "      <th>num_non_critical</th>\n",
       "      <th>score</th>\n",
       "    </tr>\n",
       "  </thead>\n",
       "  <tbody>\n",
       "    <tr>\n",
       "      <th>1</th>\n",
       "      <td>southern women's show</td>\n",
       "      <td>4.0</td>\n",
       "      <td>1</td>\n",
       "      <td>2</td>\n",
       "      <td>97.0</td>\n",
       "    </tr>\n",
       "    <tr>\n",
       "      <th>5</th>\n",
       "      <td>raleigh flea market</td>\n",
       "      <td>4.0</td>\n",
       "      <td>1</td>\n",
       "      <td>2</td>\n",
       "      <td>97.0</td>\n",
       "    </tr>\n",
       "    <tr>\n",
       "      <th>7</th>\n",
       "      <td>nc state fair</td>\n",
       "      <td>4.0</td>\n",
       "      <td>1</td>\n",
       "      <td>2</td>\n",
       "      <td>97.0</td>\n",
       "    </tr>\n",
       "    <tr>\n",
       "      <th>8</th>\n",
       "      <td>kome asian cuisine</td>\n",
       "      <td>3.5</td>\n",
       "      <td>1</td>\n",
       "      <td>5</td>\n",
       "      <td>95.0</td>\n",
       "    </tr>\n",
       "    <tr>\n",
       "      <th>9</th>\n",
       "      <td>remington grill</td>\n",
       "      <td>3.0</td>\n",
       "      <td>1</td>\n",
       "      <td>5</td>\n",
       "      <td>95.0</td>\n",
       "    </tr>\n",
       "    <tr>\n",
       "      <th>...</th>\n",
       "      <td>...</td>\n",
       "      <td>...</td>\n",
       "      <td>...</td>\n",
       "      <td>...</td>\n",
       "      <td>...</td>\n",
       "    </tr>\n",
       "    <tr>\n",
       "      <th>289</th>\n",
       "      <td>scooters grill &amp; bar</td>\n",
       "      <td>3.5</td>\n",
       "      <td>0</td>\n",
       "      <td>3</td>\n",
       "      <td>99.0</td>\n",
       "    </tr>\n",
       "    <tr>\n",
       "      <th>290</th>\n",
       "      <td>olive garden italian restaurant</td>\n",
       "      <td>3.0</td>\n",
       "      <td>0</td>\n",
       "      <td>10</td>\n",
       "      <td>96.5</td>\n",
       "    </tr>\n",
       "    <tr>\n",
       "      <th>291</th>\n",
       "      <td>springhill suites raleigh cary</td>\n",
       "      <td>4.0</td>\n",
       "      <td>1</td>\n",
       "      <td>1</td>\n",
       "      <td>98.5</td>\n",
       "    </tr>\n",
       "    <tr>\n",
       "      <th>292</th>\n",
       "      <td>t.mac</td>\n",
       "      <td>2.5</td>\n",
       "      <td>7</td>\n",
       "      <td>9</td>\n",
       "      <td>92.0</td>\n",
       "    </tr>\n",
       "    <tr>\n",
       "      <th>293</th>\n",
       "      <td>parkside</td>\n",
       "      <td>4.0</td>\n",
       "      <td>0</td>\n",
       "      <td>1</td>\n",
       "      <td>99.0</td>\n",
       "    </tr>\n",
       "  </tbody>\n",
       "</table>\n",
       "<p>216 rows × 5 columns</p>\n",
       "</div>"
      ],
      "text/plain": [
       "                              name_x  rating  num_critical  num_non_critical  \\\n",
       "1              southern women's show     4.0             1                 2   \n",
       "5                raleigh flea market     4.0             1                 2   \n",
       "7                      nc state fair     4.0             1                 2   \n",
       "8                 kome asian cuisine     3.5             1                 5   \n",
       "9                    remington grill     3.0             1                 5   \n",
       "..                               ...     ...           ...               ...   \n",
       "289             scooters grill & bar     3.5             0                 3   \n",
       "290  olive garden italian restaurant     3.0             0                10   \n",
       "291   springhill suites raleigh cary     4.0             1                 1   \n",
       "292                            t.mac     2.5             7                 9   \n",
       "293                         parkside     4.0             0                 1   \n",
       "\n",
       "     score  \n",
       "1     97.0  \n",
       "5     97.0  \n",
       "7     97.0  \n",
       "8     95.0  \n",
       "9     95.0  \n",
       "..     ...  \n",
       "289   99.0  \n",
       "290   96.5  \n",
       "291   98.5  \n",
       "292   92.0  \n",
       "293   99.0  \n",
       "\n",
       "[216 rows x 5 columns]"
      ]
     },
     "execution_count": 52,
     "metadata": {},
     "output_type": "execute_result"
    }
   ],
   "source": [
    "df = pd.merge(left=df_yelp, right=df, on=['address'], how='inner')\n",
    "final = df[['name_x', 'rating', 'num_critical', 'num_non_critical', 'score']]\n",
    "# same procedure, leave the latest observation\n",
    "final = final.drop_duplicates(subset='name_x', keep=\"last\")\n",
    "final"
   ]
  },
  {
   "cell_type": "markdown",
   "metadata": {},
   "source": [
    "# Data Visualization & Analysis"
   ]
  },
  {
   "cell_type": "markdown",
   "metadata": {},
   "source": [
    "First, we draw a counter plot and look at the distribution of overall ratings."
   ]
  },
  {
   "cell_type": "code",
   "execution_count": 53,
   "metadata": {},
   "outputs": [
    {
     "data": {
      "image/png": "[encoded data removed]",
      "text/plain": [
       "<Figure size 432x288 with 1 Axes>"
      ]
     },
     "metadata": {},
     "output_type": "display_data"
    }
   ],
   "source": [
    "sns.countplot(x=\"rating\", data=final)\n",
    "\n",
    "f1 = plt.gcf()"
   ]
  },
  {
   "cell_type": "markdown",
   "metadata": {},
   "source": [
    "The plot shows that the rating is close to a normally distributed graph."
   ]
  },
  {
   "cell_type": "markdown",
   "metadata": {},
   "source": [
    "I care about how many different score are in the dataset and what is the difference between max and min."
   ]
  },
  {
   "cell_type": "code",
   "execution_count": 54,
   "metadata": {},
   "outputs": [
    {
     "data": {
      "text/plain": [
       "25"
      ]
     },
     "execution_count": 54,
     "metadata": {},
     "output_type": "execute_result"
    }
   ],
   "source": [
    "n_scoring = len(final['score'].unique())\n",
    "n_scoring"
   ]
  },
  {
   "cell_type": "code",
   "execution_count": 55,
   "metadata": {},
   "outputs": [
    {
     "data": {
      "text/plain": [
       "15.5"
      ]
     },
     "execution_count": 55,
     "metadata": {},
     "output_type": "execute_result"
    }
   ],
   "source": [
    "final['score'].max() - final['score'].min()"
   ]
  },
  {
   "cell_type": "markdown",
   "metadata": {},
   "source": [
    "I want to use median to separate the data into two parts. The score higher than median is considered as good score. Then, I calculate the avg rating for each part."
   ]
  },
  {
   "cell_type": "code",
   "execution_count": 56,
   "metadata": {},
   "outputs": [],
   "source": [
    "mid = final['score'].median()"
   ]
  },
  {
   "cell_type": "code",
   "execution_count": 57,
   "metadata": {},
   "outputs": [
    {
     "name": "stdout",
     "output_type": "stream",
     "text": [
      "Average rating of restaurants have good health grade is \t 3.55\n",
      "Average rating of restaurants do not have good health grade \t\t 3.45\n"
     ]
    }
   ],
   "source": [
    "r_h = final[final['score'] >= mid]['rating'].values\n",
    "r_nh = final[final['score'] < mid]['rating'].values\n",
    "avg_r_h = r_h.mean()\n",
    "avg_r_nh = r_nh.mean()\n",
    "print('Average rating of restaurants have good health grade is \\t {:2.2f}'.format(avg_r_h))\n",
    "print('Average rating of restaurants do not have good health grade \\t\\t {:2.2f}'.format(avg_r_nh))"
   ]
  },
  {
   "cell_type": "markdown",
   "metadata": {},
   "source": [
    "It seems like there is a small difference in rating between good health grade and not good health grade. I want to test the normality distributions and see the distribution of both groups. My assumption is that good health grade would have higher averge rating. "
   ]
  },
  {
   "cell_type": "code",
   "execution_count": 58,
   "metadata": {},
   "outputs": [
    {
     "data": {
      "image/png": "[encoded data removed]",
      "text/plain": [
       "<Figure size 432x288 with 1 Axes>"
      ]
     },
     "metadata": {},
     "output_type": "display_data"
    }
   ],
   "source": [
    "xs = np.arange(r_h.min(), r_h.max(), 0.1)\n",
    "fit = stats.norm.pdf(xs, np.mean(r_h), np.std(r_h))\n",
    "plt.plot(xs, fit, label = 'Normal Dist.', lw = 4)\n",
    "plt.hist(r_h, density = True, label = 'Actual Data');\n",
    "plt.title('good health grade')\n",
    "plt.legend();"
   ]
  },
  {
   "cell_type": "code",
   "execution_count": 59,
   "metadata": {},
   "outputs": [
    {
     "data": {
      "image/png": "[encoded data removed]",
      "text/plain": [
       "<Figure size 432x288 with 1 Axes>"
      ]
     },
     "metadata": {},
     "output_type": "display_data"
    }
   ],
   "source": [
    "xs = np.arange(r_nh.min(), r_nh.max(), 0.1)\n",
    "fit = stats.norm.pdf(xs, np.mean(r_nh), np.std(r_nh))\n",
    "plt.plot(xs, fit, label = 'Normal Dist.', lw = 4)\n",
    "plt.hist(r_nh, density = True, label = 'Actual Data');\n",
    "plt.title('not good health grade')\n",
    "plt.legend();"
   ]
  },
  {
   "cell_type": "code",
   "execution_count": 60,
   "metadata": {},
   "outputs": [
    {
     "name": "stdout",
     "output_type": "stream",
     "text": [
      "There is NOT a significant difference!\n"
     ]
    }
   ],
   "source": [
    "t_val, p_val = ttest_ind(r_h, r_nh)\n",
    "if p_val < 0.01:\n",
    "    print('There is a significant difference!')\n",
    "else:\n",
    "    print('There is NOT a significant difference!')"
   ]
  },
  {
   "cell_type": "markdown",
   "metadata": {},
   "source": [
    "It seems like the distribution of these two kinds is pretty similar. If my assumption is correct, good health grade should have a tendency to have more 4-5 ratings. However, that is not the case here. Hence, I can not draw conclusion that the good health grade correlates with higher rating."
   ]
  },
  {
   "cell_type": "code",
   "execution_count": 61,
   "metadata": {},
   "outputs": [
    {
     "name": "stdout",
     "output_type": "stream",
     "text": [
      "                            OLS Regression Results                            \n",
      "==============================================================================\n",
      "Dep. Variable:                 rating   R-squared:                       0.010\n",
      "Model:                            OLS   Adj. R-squared:                 -0.004\n",
      "Method:                 Least Squares   F-statistic:                    0.7268\n",
      "Date:                Fri, 12 Jun 2020   Prob (F-statistic):              0.537\n",
      "Time:                        20:56:48   Log-Likelihood:                -236.36\n",
      "No. Observations:                 216   AIC:                             480.7\n",
      "Df Residuals:                     212   BIC:                             494.2\n",
      "Df Model:                           3                                         \n",
      "Covariance Type:            nonrobust                                         \n",
      "====================================================================================\n",
      "                       coef    std err          t      P>|t|      [0.025      0.975]\n",
      "------------------------------------------------------------------------------------\n",
      "Intercept            0.2601      2.606      0.100      0.921      -4.876       5.396\n",
      "num_critical         0.0250      0.028      0.894      0.372      -0.030       0.080\n",
      "num_non_critical    -0.0068      0.017     -0.389      0.698      -0.041       0.028\n",
      "score                0.0338      0.027      1.269      0.206      -0.019       0.086\n",
      "==============================================================================\n",
      "Omnibus:                        9.858   Durbin-Watson:                   2.015\n",
      "Prob(Omnibus):                  0.007   Jarque-Bera (JB):                9.906\n",
      "Skew:                          -0.479   Prob(JB):                      0.00706\n",
      "Kurtosis:                       3.426   Cond. No.                     5.01e+03\n",
      "==============================================================================\n",
      "\n",
      "Warnings:\n",
      "[1] Standard Errors assume that the covariance matrix of the errors is correctly specified.\n",
      "[2] The condition number is large, 5.01e+03. This might indicate that there are\n",
      "strong multicollinearity or other numerical problems.\n"
     ]
    }
   ],
   "source": [
    "outcome_1, predictors_1 = patsy.dmatrices('rating ~ num_critical+num_non_critical+score', final)\n",
    "mod_1 = sm.OLS(outcome_1, predictors_1)\n",
    "res_1 = mod_1.fit()\n",
    "print(res_1.summary())"
   ]
  },
  {
   "cell_type": "markdown",
   "metadata": {},
   "source": [
    "Based on the model I ran above (using alpha value of 0.01), none of these variables seem to be statistically significant. In addition, the coefficients for three variables are very small. So they may not affect the rating of the restaurant. In the end, I could not make the conclusion that there is correlation among yelp ratings and number of violations and health inspection scores.\n",
    "Therefore, I could not support my hypothesis. Thus, the number of violations and health scores do not have effects on the yelp rating of the restaurant."
   ]
  },
  {
   "cell_type": "markdown",
   "metadata": {},
   "source": [
    "# Ethics & Privacy"
   ]
  },
  {
   "cell_type": "markdown",
   "metadata": {},
   "source": [
    "When we use yelp data from yelp website, we need to ask users for permission. Otherwise, we can not use their data in this research. For restaurant data set, I do not include private information such as name, address and geolocation information. Also, since this data set contains information about local restaurants, we need to ask local restaurants and governments for permission to continue my research. Since I do not include restaurants names in the final report, there will be less impacts such as loss of customers or increasing inspection frequency in a certain restaurant.\n",
    "\n",
    "The inspection dataset is available on local government websites and to all people. So there is no obvious privacy issue for this dataset. However, I should be careful about customers' private information and should not abuse these info.\n",
    "\n",
    "The data is collected randomly from local restaurants, so there should be little bias in this dataset. However, since the data is only from local restaurants, I could only make conclusions in this certain area."
   ]
  },
  {
   "cell_type": "markdown",
   "metadata": {},
   "source": [
    "# Conclusion & Discussion"
   ]
  },
  {
   "cell_type": "markdown",
   "metadata": {},
   "source": [
    "In my project, I try to discover the relationship among restaurants yelp ratings, health scores and number of critical/non-critical violations of health inspections in North Carolina. I use restaurants, yelp review and inspections dataset which are all provided by the professor. These three data sets include information about local restaurants yelp rating, health scores, number of violations, severity, type of violations, and etc. If there's is a correlation, people could dine in clean restaurants and keep healthy by looking at the yelp rating.\n",
    "\n",
    "I tried to build a linear model using three variables and use t test to reject null hypothesis about the distribution of rating. However, both methods did not work here. The linear model found that none of three variables are statistically significant. Based on the model I ran above (using alpha value of 0.01), all variables have p value > 0.01 and very small coefficient at the same time. In the end, I could not make the conclusion that there is correlation among yelp ratings and number of violations and health inspection scores.\n",
    "\n",
    "Since the data is only collected in North Carolina, I could only make conclusions in this area. Also, some of the variables in data sets are hard to interpret, so I choose to use variables that are easier to deal with. My project could help people to have access to healthy food by checking yelp scores and restaurants themselves will tend to keep their food fresh and clean to improve yelp rating and attract more customers."
   ]
  },
  {
   "cell_type": "code",
   "execution_count": null,
   "metadata": {},
   "outputs": [],
   "source": []
  }
 ],
 "metadata": {
  "kernelspec": {
   "display_name": "Python 3",
   "language": "python",
   "name": "python3"
  },
  "language_info": {
   "codemirror_mode": {
    "name": "ipython",
    "version": 3
   },
   "file_extension": ".py",
   "mimetype": "text/x-python",
   "name": "python",
   "nbconvert_exporter": "python",
   "pygments_lexer": "ipython3",
   "version": "3.6.7"
  }
 },
 "nbformat": 4,
 "nbformat_minor": 2
}
