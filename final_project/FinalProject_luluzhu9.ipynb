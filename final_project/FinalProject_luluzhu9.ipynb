{
 "cells": [
  {
   "cell_type": "markdown",
   "metadata": {},
   "source": [
    "# COGS 108 - Final Project "
   ]
  },
  {
   "cell_type": "markdown",
   "metadata": {},
   "source": [
    "# Overview"
   ]
  },
  {
   "cell_type": "markdown",
   "metadata": {},
   "source": [
    "This project looks at the average change in score for repeat inspections using visualizations such as histograms and plots. It obtains the difference in score for each restaurant from the earliest inspection to the most recent, and finds that the mean of these differences is -0.6. This leads to the conclusion that multiple inspections do not neccessarily have much of an affect on restaurant health scores."
   ]
  },
  {
   "cell_type": "markdown",
   "metadata": {},
   "source": [
    "# Name & GitHub\n",
    "\n",
    "- Name: Zilu Zhu\n",
    "- GitHub Username: A15454681, luluzhu9"
   ]
  },
  {
   "cell_type": "markdown",
   "metadata": {},
   "source": [
    "# Research Question"
   ]
  },
  {
   "cell_type": "markdown",
   "metadata": {},
   "source": [
    "For repeat inspections, what is the average change in score?"
   ]
  },
  {
   "cell_type": "markdown",
   "metadata": {},
   "source": [
    "## Background and Prior Work"
   ]
  },
  {
   "cell_type": "markdown",
   "metadata": {},
   "source": [
    "Base line resturant inspections are done twice a year, and are increased if a restaurant is flagged for having safety issues. Restaurants are scored from a 0-100 scale, with 100 being the maximum. There is not much research done on this specific research question, but there are studies that have similar aims.\n",
    "\n",
    "\n",
    "References (include links):\n",
    "- 1) https://www.techrepublic.com/article/google-and-harvard-test-a-machine-learning-approach-to-food-safety/\n",
    "\n",
    "Google and Harvard conducted a study where they utilized a machine learning model called FINDER to predict which restaurants were unsafe quickly versus the standard health check routine, which is twice a year. FINDER would consider the symptoms of food poisoning, look through search queries that matched those symptoms, and use anonymous location data to find which restaurants those individuals visited. The result was that 50% of the restaurants FINDER flagged were indeed unsafe, versus 25% with the baseline inspections. This relates to this research project because it supports the idea that increasing the number of inspections has a positive affect on food safety. The FINDER study is more of a precaution study, while the research question I am examining is an after-caution; it looks at what could happen when inspections are increased after a restaurant is flagged.\n",
    "\n",
    "- 2) https://www.sapanalytics.cloud/resources-visualizing-new-york-city-restaurant-inspections/\n",
    "\n",
    "This study looked at New York City Open Data and plotted them in several graphs, such as the number of inspection versus number of citations each year, percent critical versus non-critical issues found, and percent inspections that resulted in a violation. This study had multiple takeaways, one of which was \"initial inspections have much worse scores and grades than re-inspections\". This also supports the idea that inspections after alerting a restaurant of its health issues does make a positive difference in their score. "
   ]
  },
  {
   "cell_type": "markdown",
   "metadata": {},
   "source": [
    "# Hypothesis\n"
   ]
  },
  {
   "cell_type": "markdown",
   "metadata": {},
   "source": [
    "I predict that the average change in score for repeat inspections will be significantly positive for restaurants that did not recieve passing inspections on their first inspection, which differs from the restauarants that did obtain passing inspections on their first inspection. This is because once a restaurant is aware of its health issues and knows it is recieving more inspections, it would most likely pay more attention to improving its food safety to increase its score, while restaurants who have passed have no need to pay more attention."
   ]
  },
  {
   "cell_type": "markdown",
   "metadata": {},
   "source": [
    "# Dataset(s)"
   ]
  },
  {
   "cell_type": "markdown",
   "metadata": {},
   "source": [
    "- Dataset Name: inspections.csv\n",
    "- Link to the dataset: https://canvas.ucsd.edu/courses/12630/assignments/110486\n",
    "- Number of observations: 18466\n",
    "\n",
    "The inspections dataset contains information about every inspection case, including information such as the score obtained during that inspection, who inspected, when, and where. "
   ]
  },
  {
   "cell_type": "markdown",
   "metadata": {},
   "source": [
    "# Setup"
   ]
  },
  {
   "cell_type": "code",
   "execution_count": 1,
   "metadata": {},
   "outputs": [],
   "source": [
    "import numpy as np\n",
    "import pandas as pd\n",
    "import matplotlib.pyplot as plt\n",
    "import pylab as pl\n",
    "\n",
    "import seaborn as sns\n",
    "sns.set()\n",
    "sns.set_context('talk')\n",
    "\n",
    "import warnings\n",
    "warnings.filterwarnings('ignore')\n",
    "\n",
    "import patsy\n",
    "import statsmodels.api as sm\n",
    "import scipy.stats as stats\n",
    "from scipy.stats import ttest_ind, chisquare, normaltest"
   ]
  },
  {
   "cell_type": "markdown",
   "metadata": {},
   "source": [
    "# Data Cleaning"
   ]
  },
  {
   "cell_type": "markdown",
   "metadata": {},
   "source": [
    "Describe your data cleaning steps here."
   ]
  },
  {
   "cell_type": "code",
   "execution_count": 2,
   "metadata": {},
   "outputs": [
    {
     "data": {
      "text/html": [
       "<div>\n",
       "<style scoped>\n",
       "    .dataframe tbody tr th:only-of-type {\n",
       "        vertical-align: middle;\n",
       "    }\n",
       "\n",
       "    .dataframe tbody tr th {\n",
       "        vertical-align: top;\n",
       "    }\n",
       "\n",
       "    .dataframe thead th {\n",
       "        text-align: right;\n",
       "    }\n",
       "</style>\n",
       "<table border=\"1\" class=\"dataframe\">\n",
       "  <thead>\n",
       "    <tr style=\"text-align: right;\">\n",
       "      <th></th>\n",
       "      <th>hsisid</th>\n",
       "      <th>date</th>\n",
       "      <th>name</th>\n",
       "      <th>address1</th>\n",
       "      <th>address2</th>\n",
       "      <th>city</th>\n",
       "      <th>state</th>\n",
       "      <th>postalcode</th>\n",
       "      <th>phonenumber</th>\n",
       "      <th>restaurantopendate</th>\n",
       "      <th>days_from_open_date</th>\n",
       "      <th>facilitytype</th>\n",
       "      <th>x</th>\n",
       "      <th>y</th>\n",
       "      <th>geocodestatus</th>\n",
       "      <th>zip</th>\n",
       "      <th>type</th>\n",
       "      <th>description</th>\n",
       "      <th>inspectedby</th>\n",
       "      <th>inspection_num</th>\n",
       "      <th>inspector_id</th>\n",
       "      <th>previous_inspection_date</th>\n",
       "      <th>days_since_previous_inspection</th>\n",
       "      <th>previous_inspection_by_same_inspector</th>\n",
       "      <th>score</th>\n",
       "      <th>num_critical</th>\n",
       "      <th>num_non_critical</th>\n",
       "      <th>num_critical_previous</th>\n",
       "      <th>num_non_critical_previous</th>\n",
       "      <th>num_critical_mean_previous</th>\n",
       "      <th>num_non_critical_mean_previous</th>\n",
       "      <th>avg_neighbor_num_critical</th>\n",
       "      <th>avg_neighbor_num_non_critical</th>\n",
       "      <th>top_match</th>\n",
       "      <th>second_match</th>\n",
       "      <th>critical</th>\n",
       "    </tr>\n",
       "  </thead>\n",
       "  <tbody>\n",
       "    <tr>\n",
       "      <th>0</th>\n",
       "      <td>4092013748</td>\n",
       "      <td>2012-09-21T00:00:00Z</td>\n",
       "      <td>Cafe 3000 At Wake Med</td>\n",
       "      <td>3000 New Bern Ave</td>\n",
       "      <td>NaN</td>\n",
       "      <td>raleigh</td>\n",
       "      <td>NC</td>\n",
       "      <td>27610</td>\n",
       "      <td>(919) 350-8047</td>\n",
       "      <td>2002-12-21T00:00:00Z</td>\n",
       "      <td>3562</td>\n",
       "      <td>Restaurant</td>\n",
       "      <td>-78.587963</td>\n",
       "      <td>35.783914</td>\n",
       "      <td>M</td>\n",
       "      <td>27610</td>\n",
       "      <td>Inspection</td>\n",
       "      <td>This facility cooks eggs to order in Grill sta...</td>\n",
       "      <td>Melissa Harrison</td>\n",
       "      <td>1</td>\n",
       "      <td>27.0</td>\n",
       "      <td>NaN</td>\n",
       "      <td>NaN</td>\n",
       "      <td>NaN</td>\n",
       "      <td>96.0</td>\n",
       "      <td>9</td>\n",
       "      <td>7</td>\n",
       "      <td>NaN</td>\n",
       "      <td>NaN</td>\n",
       "      <td>NaN</td>\n",
       "      <td>NaN</td>\n",
       "      <td>NaN</td>\n",
       "      <td>NaN</td>\n",
       "      <td>NaN</td>\n",
       "      <td>NaN</td>\n",
       "      <td>1</td>\n",
       "    </tr>\n",
       "    <tr>\n",
       "      <th>1</th>\n",
       "      <td>4092014046</td>\n",
       "      <td>2012-09-21T00:00:00Z</td>\n",
       "      <td>Overtime Sports Pub</td>\n",
       "      <td>1030-149 N Rogers Ln</td>\n",
       "      <td>NaN</td>\n",
       "      <td>raleigh</td>\n",
       "      <td>NC</td>\n",
       "      <td>27610</td>\n",
       "      <td>(919) 255-9556</td>\n",
       "      <td>2004-05-04T00:00:00Z</td>\n",
       "      <td>3062</td>\n",
       "      <td>Restaurant</td>\n",
       "      <td>-78.549673</td>\n",
       "      <td>35.791986</td>\n",
       "      <td>M</td>\n",
       "      <td>27610</td>\n",
       "      <td>Inspection</td>\n",
       "      <td>NaN</td>\n",
       "      <td>Christopher Walker</td>\n",
       "      <td>1</td>\n",
       "      <td>7.0</td>\n",
       "      <td>NaN</td>\n",
       "      <td>NaN</td>\n",
       "      <td>NaN</td>\n",
       "      <td>98.0</td>\n",
       "      <td>0</td>\n",
       "      <td>11</td>\n",
       "      <td>NaN</td>\n",
       "      <td>NaN</td>\n",
       "      <td>NaN</td>\n",
       "      <td>NaN</td>\n",
       "      <td>NaN</td>\n",
       "      <td>NaN</td>\n",
       "      <td>NaN</td>\n",
       "      <td>NaN</td>\n",
       "      <td>0</td>\n",
       "    </tr>\n",
       "    <tr>\n",
       "      <th>2</th>\n",
       "      <td>4092015191</td>\n",
       "      <td>2012-09-21T00:00:00Z</td>\n",
       "      <td>TASTE OF CHINA</td>\n",
       "      <td>6209 ROCK QUARRY RD</td>\n",
       "      <td>STE 126</td>\n",
       "      <td>raleigh</td>\n",
       "      <td>NC</td>\n",
       "      <td>27610</td>\n",
       "      <td>(919) 773-2285</td>\n",
       "      <td>2008-08-04T00:00:00Z</td>\n",
       "      <td>1509</td>\n",
       "      <td>Restaurant</td>\n",
       "      <td>-78.547960</td>\n",
       "      <td>35.723125</td>\n",
       "      <td>M</td>\n",
       "      <td>27610</td>\n",
       "      <td>Inspection</td>\n",
       "      <td>NaN</td>\n",
       "      <td>Anne Bartoli</td>\n",
       "      <td>1</td>\n",
       "      <td>3.0</td>\n",
       "      <td>NaN</td>\n",
       "      <td>NaN</td>\n",
       "      <td>NaN</td>\n",
       "      <td>97.0</td>\n",
       "      <td>4</td>\n",
       "      <td>8</td>\n",
       "      <td>NaN</td>\n",
       "      <td>NaN</td>\n",
       "      <td>NaN</td>\n",
       "      <td>NaN</td>\n",
       "      <td>NaN</td>\n",
       "      <td>NaN</td>\n",
       "      <td>NaN</td>\n",
       "      <td>NaN</td>\n",
       "      <td>1</td>\n",
       "    </tr>\n",
       "    <tr>\n",
       "      <th>3</th>\n",
       "      <td>4092016122</td>\n",
       "      <td>2012-09-21T00:00:00Z</td>\n",
       "      <td>Panera Bread #1643</td>\n",
       "      <td>1065 Darrington DR</td>\n",
       "      <td>NaN</td>\n",
       "      <td>cary</td>\n",
       "      <td>NC</td>\n",
       "      <td>27513</td>\n",
       "      <td>NaN</td>\n",
       "      <td>2012-03-28T00:00:00Z</td>\n",
       "      <td>177</td>\n",
       "      <td>Restaurant</td>\n",
       "      <td>-78.815727</td>\n",
       "      <td>35.799249</td>\n",
       "      <td>M</td>\n",
       "      <td>27513</td>\n",
       "      <td>Inspection</td>\n",
       "      <td>NaN</td>\n",
       "      <td>Lisa McCoy</td>\n",
       "      <td>1</td>\n",
       "      <td>24.0</td>\n",
       "      <td>NaN</td>\n",
       "      <td>NaN</td>\n",
       "      <td>NaN</td>\n",
       "      <td>99.0</td>\n",
       "      <td>2</td>\n",
       "      <td>3</td>\n",
       "      <td>NaN</td>\n",
       "      <td>NaN</td>\n",
       "      <td>NaN</td>\n",
       "      <td>NaN</td>\n",
       "      <td>NaN</td>\n",
       "      <td>NaN</td>\n",
       "      <td>NaN</td>\n",
       "      <td>NaN</td>\n",
       "      <td>1</td>\n",
       "    </tr>\n",
       "    <tr>\n",
       "      <th>4</th>\n",
       "      <td>4092021513</td>\n",
       "      <td>2012-09-21T00:00:00Z</td>\n",
       "      <td>WalMart Supercenter #4499-00 Deli/Bakery</td>\n",
       "      <td>841 E Gannon AVE</td>\n",
       "      <td>NaN</td>\n",
       "      <td>zebulon</td>\n",
       "      <td>NC</td>\n",
       "      <td>27597</td>\n",
       "      <td>(919) 269-2221 ext. 304</td>\n",
       "      <td>2008-02-25T00:00:00Z</td>\n",
       "      <td>1670</td>\n",
       "      <td>Food Stand</td>\n",
       "      <td>-78.296347</td>\n",
       "      <td>35.831285</td>\n",
       "      <td>M</td>\n",
       "      <td>27597</td>\n",
       "      <td>Inspection</td>\n",
       "      <td>New rules, www.wakegov.com/food</td>\n",
       "      <td>Christopher Walker</td>\n",
       "      <td>1</td>\n",
       "      <td>7.0</td>\n",
       "      <td>NaN</td>\n",
       "      <td>NaN</td>\n",
       "      <td>NaN</td>\n",
       "      <td>97.0</td>\n",
       "      <td>2</td>\n",
       "      <td>4</td>\n",
       "      <td>NaN</td>\n",
       "      <td>NaN</td>\n",
       "      <td>NaN</td>\n",
       "      <td>NaN</td>\n",
       "      <td>NaN</td>\n",
       "      <td>NaN</td>\n",
       "      <td>NaN</td>\n",
       "      <td>NaN</td>\n",
       "      <td>1</td>\n",
       "    </tr>\n",
       "  </tbody>\n",
       "</table>\n",
       "</div>"
      ],
      "text/plain": [
       "       hsisid                  date                                      name  \\\n",
       "0  4092013748  2012-09-21T00:00:00Z                     Cafe 3000 At Wake Med   \n",
       "1  4092014046  2012-09-21T00:00:00Z                       Overtime Sports Pub   \n",
       "2  4092015191  2012-09-21T00:00:00Z                            TASTE OF CHINA   \n",
       "3  4092016122  2012-09-21T00:00:00Z                        Panera Bread #1643   \n",
       "4  4092021513  2012-09-21T00:00:00Z  WalMart Supercenter #4499-00 Deli/Bakery   \n",
       "\n",
       "               address1 address2     city state postalcode  \\\n",
       "0     3000 New Bern Ave      NaN  raleigh    NC      27610   \n",
       "1  1030-149 N Rogers Ln      NaN  raleigh    NC      27610   \n",
       "2   6209 ROCK QUARRY RD  STE 126  raleigh    NC      27610   \n",
       "3    1065 Darrington DR      NaN     cary    NC      27513   \n",
       "4      841 E Gannon AVE      NaN  zebulon    NC      27597   \n",
       "\n",
       "               phonenumber    restaurantopendate  days_from_open_date  \\\n",
       "0           (919) 350-8047  2002-12-21T00:00:00Z                 3562   \n",
       "1           (919) 255-9556  2004-05-04T00:00:00Z                 3062   \n",
       "2           (919) 773-2285  2008-08-04T00:00:00Z                 1509   \n",
       "3                      NaN  2012-03-28T00:00:00Z                  177   \n",
       "4  (919) 269-2221 ext. 304  2008-02-25T00:00:00Z                 1670   \n",
       "\n",
       "  facilitytype          x          y geocodestatus    zip        type  \\\n",
       "0   Restaurant -78.587963  35.783914             M  27610  Inspection   \n",
       "1   Restaurant -78.549673  35.791986             M  27610  Inspection   \n",
       "2   Restaurant -78.547960  35.723125             M  27610  Inspection   \n",
       "3   Restaurant -78.815727  35.799249             M  27513  Inspection   \n",
       "4   Food Stand -78.296347  35.831285             M  27597  Inspection   \n",
       "\n",
       "                                         description         inspectedby  \\\n",
       "0  This facility cooks eggs to order in Grill sta...    Melissa Harrison   \n",
       "1                                                NaN  Christopher Walker   \n",
       "2                                                NaN        Anne Bartoli   \n",
       "3                                                NaN          Lisa McCoy   \n",
       "4                    New rules, www.wakegov.com/food  Christopher Walker   \n",
       "\n",
       "   inspection_num  inspector_id previous_inspection_date  \\\n",
       "0               1          27.0                      NaN   \n",
       "1               1           7.0                      NaN   \n",
       "2               1           3.0                      NaN   \n",
       "3               1          24.0                      NaN   \n",
       "4               1           7.0                      NaN   \n",
       "\n",
       "   days_since_previous_inspection previous_inspection_by_same_inspector  \\\n",
       "0                             NaN                                   NaN   \n",
       "1                             NaN                                   NaN   \n",
       "2                             NaN                                   NaN   \n",
       "3                             NaN                                   NaN   \n",
       "4                             NaN                                   NaN   \n",
       "\n",
       "   score  num_critical  num_non_critical  num_critical_previous  \\\n",
       "0   96.0             9                 7                    NaN   \n",
       "1   98.0             0                11                    NaN   \n",
       "2   97.0             4                 8                    NaN   \n",
       "3   99.0             2                 3                    NaN   \n",
       "4   97.0             2                 4                    NaN   \n",
       "\n",
       "   num_non_critical_previous  num_critical_mean_previous  \\\n",
       "0                        NaN                         NaN   \n",
       "1                        NaN                         NaN   \n",
       "2                        NaN                         NaN   \n",
       "3                        NaN                         NaN   \n",
       "4                        NaN                         NaN   \n",
       "\n",
       "   num_non_critical_mean_previous  avg_neighbor_num_critical  \\\n",
       "0                             NaN                        NaN   \n",
       "1                             NaN                        NaN   \n",
       "2                             NaN                        NaN   \n",
       "3                             NaN                        NaN   \n",
       "4                             NaN                        NaN   \n",
       "\n",
       "   avg_neighbor_num_non_critical  top_match  second_match  critical  \n",
       "0                            NaN        NaN           NaN         1  \n",
       "1                            NaN        NaN           NaN         0  \n",
       "2                            NaN        NaN           NaN         1  \n",
       "3                            NaN        NaN           NaN         1  \n",
       "4                            NaN        NaN           NaN         1  "
      ]
     },
     "execution_count": 2,
     "metadata": {},
     "output_type": "execute_result"
    }
   ],
   "source": [
    "# Read csv \n",
    "df_inspec = pd.read_csv('inspections.csv')\n",
    "\n",
    "# Show all columns\n",
    "pd.set_option('display.max_columns', None)\n",
    "df_inspec.head()"
   ]
  },
  {
   "cell_type": "code",
   "execution_count": 3,
   "metadata": {},
   "outputs": [
    {
     "data": {
      "text/html": [
       "<div>\n",
       "<style scoped>\n",
       "    .dataframe tbody tr th:only-of-type {\n",
       "        vertical-align: middle;\n",
       "    }\n",
       "\n",
       "    .dataframe tbody tr th {\n",
       "        vertical-align: top;\n",
       "    }\n",
       "\n",
       "    .dataframe thead th {\n",
       "        text-align: right;\n",
       "    }\n",
       "</style>\n",
       "<table border=\"1\" class=\"dataframe\">\n",
       "  <thead>\n",
       "    <tr style=\"text-align: right;\">\n",
       "      <th></th>\n",
       "      <th>hsisid</th>\n",
       "      <th>date</th>\n",
       "      <th>name</th>\n",
       "      <th>address1</th>\n",
       "      <th>address2</th>\n",
       "      <th>score</th>\n",
       "    </tr>\n",
       "  </thead>\n",
       "  <tbody>\n",
       "    <tr>\n",
       "      <th>2</th>\n",
       "      <td>4092015191</td>\n",
       "      <td>2012-09-21T00:00:00Z</td>\n",
       "      <td>TASTE OF CHINA</td>\n",
       "      <td>6209 ROCK QUARRY RD</td>\n",
       "      <td>STE 126</td>\n",
       "      <td>97.0</td>\n",
       "    </tr>\n",
       "    <tr>\n",
       "      <th>12</th>\n",
       "      <td>4092013641</td>\n",
       "      <td>2012-09-25T00:00:00Z</td>\n",
       "      <td>California Pizza Kitchen</td>\n",
       "      <td>5959 Triangle Town Center RD</td>\n",
       "      <td>Ste 2121</td>\n",
       "      <td>96.0</td>\n",
       "    </tr>\n",
       "    <tr>\n",
       "      <th>32</th>\n",
       "      <td>4092011879</td>\n",
       "      <td>2012-09-27T00:00:00Z</td>\n",
       "      <td>El Dorado #8</td>\n",
       "      <td>8111 CREEDMOOR RD</td>\n",
       "      <td>ste.161</td>\n",
       "      <td>92.5</td>\n",
       "    </tr>\n",
       "    <tr>\n",
       "      <th>33</th>\n",
       "      <td>4092012937</td>\n",
       "      <td>2012-09-27T00:00:00Z</td>\n",
       "      <td>Pf Changs Restaurant</td>\n",
       "      <td>4325 Glenwood AVE</td>\n",
       "      <td>Suite 2089</td>\n",
       "      <td>92.5</td>\n",
       "    </tr>\n",
       "    <tr>\n",
       "      <th>39</th>\n",
       "      <td>4092015983</td>\n",
       "      <td>2012-09-27T00:00:00Z</td>\n",
       "      <td>Cariokos</td>\n",
       "      <td>1601 CROSS LINK RD</td>\n",
       "      <td>STE 43</td>\n",
       "      <td>97.0</td>\n",
       "    </tr>\n",
       "  </tbody>\n",
       "</table>\n",
       "</div>"
      ],
      "text/plain": [
       "        hsisid                  date                      name  \\\n",
       "2   4092015191  2012-09-21T00:00:00Z            TASTE OF CHINA   \n",
       "12  4092013641  2012-09-25T00:00:00Z  California Pizza Kitchen   \n",
       "32  4092011879  2012-09-27T00:00:00Z              El Dorado #8   \n",
       "33  4092012937  2012-09-27T00:00:00Z      Pf Changs Restaurant   \n",
       "39  4092015983  2012-09-27T00:00:00Z                  Cariokos   \n",
       "\n",
       "                        address1    address2  score  \n",
       "2            6209 ROCK QUARRY RD     STE 126   97.0  \n",
       "12  5959 Triangle Town Center RD    Ste 2121   96.0  \n",
       "32             8111 CREEDMOOR RD     ste.161   92.5  \n",
       "33             4325 Glenwood AVE  Suite 2089   92.5  \n",
       "39            1601 CROSS LINK RD      STE 43   97.0  "
      ]
     },
     "execution_count": 3,
     "metadata": {},
     "output_type": "execute_result"
    }
   ],
   "source": [
    "# Remove columns not used for analysis\n",
    "df_inspec.drop(['city', 'state', 'postalcode', 'phonenumber', \n",
    "                'restaurantopendate','days_from_open_date', 'facilitytype', 'x', 'y', 'geocodestatus', 'zip', 'type', \n",
    "                'description', 'inspectedby', 'inspection_num', 'inspector_id', 'previous_inspection_date', \n",
    "                'days_since_previous_inspection', 'previous_inspection_by_same_inspector', 'num_critical',\n",
    "                'num_non_critical', 'num_non_critical_previous', 'num_critical_mean_previous', \n",
    "                'num_non_critical_mean_previous', 'avg_neighbor_num_critical', 'avg_neighbor_num_non_critical', \n",
    "                'top_match', 'second_match', 'critical', 'num_critical_previous'], axis=1, inplace=True)\n",
    "\n",
    "# Drop null values\n",
    "df_inspec = df_inspec.dropna()\n",
    "bool_series = pd.notnull(df_inspec)  \n",
    "df_inspec[bool_series]\n",
    "\n",
    "# View dataframe\n",
    "df_inspec.head()"
   ]
  },
  {
   "cell_type": "code",
   "execution_count": 4,
   "metadata": {},
   "outputs": [
    {
     "data": {
      "text/html": [
       "<div>\n",
       "<style scoped>\n",
       "    .dataframe tbody tr th:only-of-type {\n",
       "        vertical-align: middle;\n",
       "    }\n",
       "\n",
       "    .dataframe tbody tr th {\n",
       "        vertical-align: top;\n",
       "    }\n",
       "\n",
       "    .dataframe thead th {\n",
       "        text-align: right;\n",
       "    }\n",
       "</style>\n",
       "<table border=\"1\" class=\"dataframe\">\n",
       "  <thead>\n",
       "    <tr style=\"text-align: right;\">\n",
       "      <th></th>\n",
       "      <th>id</th>\n",
       "      <th>date</th>\n",
       "      <th>name</th>\n",
       "      <th>address1</th>\n",
       "      <th>address2</th>\n",
       "      <th>score</th>\n",
       "    </tr>\n",
       "  </thead>\n",
       "  <tbody>\n",
       "    <tr>\n",
       "      <th>1551</th>\n",
       "      <td>4092014587</td>\n",
       "      <td>2013-02-28 00:00:00+00:00</td>\n",
       "      <td>18 Seaboard</td>\n",
       "      <td>18 Seaboard AVE</td>\n",
       "      <td>Ste. 100</td>\n",
       "      <td>97</td>\n",
       "    </tr>\n",
       "    <tr>\n",
       "      <th>3812</th>\n",
       "      <td>4092014587</td>\n",
       "      <td>2013-09-18 00:00:00+00:00</td>\n",
       "      <td>18 Seaboard</td>\n",
       "      <td>18 Seaboard AVE</td>\n",
       "      <td>Ste. 100</td>\n",
       "      <td>97</td>\n",
       "    </tr>\n",
       "    <tr>\n",
       "      <th>7492</th>\n",
       "      <td>4092014587</td>\n",
       "      <td>2014-08-27 00:00:00+00:00</td>\n",
       "      <td>18 Seaboard</td>\n",
       "      <td>18 Seaboard AVE</td>\n",
       "      <td>Ste. 100</td>\n",
       "      <td>97</td>\n",
       "    </tr>\n",
       "    <tr>\n",
       "      <th>10696</th>\n",
       "      <td>4092014587</td>\n",
       "      <td>2015-04-30 00:00:00+00:00</td>\n",
       "      <td>18 Seaboard</td>\n",
       "      <td>18 Seaboard AVE</td>\n",
       "      <td>Ste. 100</td>\n",
       "      <td>93</td>\n",
       "    </tr>\n",
       "    <tr>\n",
       "      <th>12792</th>\n",
       "      <td>4092014587</td>\n",
       "      <td>2015-09-29 00:00:00+00:00</td>\n",
       "      <td>18 Seaboard</td>\n",
       "      <td>18 Seaboard AVE</td>\n",
       "      <td>Ste. 100</td>\n",
       "      <td>97</td>\n",
       "    </tr>\n",
       "  </tbody>\n",
       "</table>\n",
       "</div>"
      ],
      "text/plain": [
       "               id                      date         name         address1  \\\n",
       "1551   4092014587 2013-02-28 00:00:00+00:00  18 Seaboard  18 Seaboard AVE   \n",
       "3812   4092014587 2013-09-18 00:00:00+00:00  18 Seaboard  18 Seaboard AVE   \n",
       "7492   4092014587 2014-08-27 00:00:00+00:00  18 Seaboard  18 Seaboard AVE   \n",
       "10696  4092014587 2015-04-30 00:00:00+00:00  18 Seaboard  18 Seaboard AVE   \n",
       "12792  4092014587 2015-09-29 00:00:00+00:00  18 Seaboard  18 Seaboard AVE   \n",
       "\n",
       "       address2  score  \n",
       "1551   Ste. 100     97  \n",
       "3812   Ste. 100     97  \n",
       "7492   Ste. 100     97  \n",
       "10696  Ste. 100     93  \n",
       "12792  Ste. 100     97  "
      ]
     },
     "execution_count": 4,
     "metadata": {},
     "output_type": "execute_result"
    }
   ],
   "source": [
    "# Change score's type from float to int\n",
    "df_inspec['score'] = df_inspec['score'].apply(np.int64)\n",
    "\n",
    "# Change date from object into datetime\n",
    "df_inspec['date'] = pd.to_datetime(df_inspec['date'])\n",
    "\n",
    "# Change name of hsisid to ID\n",
    "df_inspec = df_inspec.rename({'hsisid': 'id'}, axis=1)\n",
    "\n",
    "# Sort by name alphabetically to group together by name, then by date\n",
    "df_inspec = df_inspec.sort_values(by=['name','date'])\n",
    "\n",
    "# View dataframe\n",
    "df_inspec.head()"
   ]
  },
  {
   "cell_type": "markdown",
   "metadata": {},
   "source": [
    "# Data Analysis & Results"
   ]
  },
  {
   "cell_type": "markdown",
   "metadata": {},
   "source": [
    "We will start by getting a feel for the data:"
   ]
  },
  {
   "cell_type": "code",
   "execution_count": 5,
   "metadata": {},
   "outputs": [
    {
     "data": {
      "text/plain": [
       "Moe`s Southwest Grill              22\n",
       "GREEK FIESTA                       16\n",
       "CRAZY FIRE MONGOLIAN GRILL         15\n",
       "West Lake Middle Sch. Cafeteria    14\n",
       "California Pizza Kitchen           13\n",
       "                                   ..\n",
       "3 AMIGO'S                           1\n",
       "PERUANO (WCID #548)                 1\n",
       "NILE CAFE                           1\n",
       "ALL STAR PIZZA                      1\n",
       "J J CHINA                           1\n",
       "Name: name, Length: 317, dtype: int64"
      ]
     },
     "execution_count": 5,
     "metadata": {},
     "output_type": "execute_result"
    }
   ],
   "source": [
    "# Store all unique restaurants in an array\n",
    "restaurants = df_inspec['name'].unique() \n",
    "\n",
    "# Look at dataframe for how many inspections there were for each restaurant\n",
    "df_inspec['name'].value_counts()"
   ]
  },
  {
   "cell_type": "markdown",
   "metadata": {},
   "source": [
    "This shows us that there are 317 unique restaurants, with varying numbers of inspections\n",
    "\n",
    "**Data Visualization**\n",
    "\n",
    "We write a function that takes user input for a specific resturant. It creates a histogram for that restaurant's scores, not in chronological order. "
   ]
  },
  {
   "cell_type": "code",
   "execution_count": 6,
   "metadata": {},
   "outputs": [
    {
     "data": {
      "image/png": "[encoded data removed]",
      "text/plain": [
       "<Figure size 432x288 with 1 Axes>"
      ]
     },
     "metadata": {
      "needs_background": "light"
     },
     "output_type": "display_data"
    }
   ],
   "source": [
    "# See all scores for a specific restaurant\n",
    "def get_hist(restaurant_name):\n",
    "    df_inspec['score'][(df_inspec['name'] == restaurant_name)].hist()\n",
    "    pl.suptitle(restaurant_name)\n",
    "    plt.xlabel('Scores')\n",
    "    plt.ylabel('Frequency')\n",
    "\n",
    "        \n",
    "# Example: Use function for any restaurant out of the 317\n",
    "get_hist(restaurants[300])"
   ]
  },
  {
   "cell_type": "markdown",
   "metadata": {},
   "source": [
    "This visualization shows that most restaurants in this dataframe score relatively high, with many scores over 90.\n",
    "\n",
    "We then create a method that can plot a restaurant's scores over time"
   ]
  },
  {
   "cell_type": "code",
   "execution_count": 7,
   "metadata": {},
   "outputs": [
    {
     "data": {
      "image/png": "[encoded data removed]",
      "text/plain": [
       "<Figure size 432x288 with 1 Axes>"
      ]
     },
     "metadata": {
      "needs_background": "light"
     },
     "output_type": "display_data"
    }
   ],
   "source": [
    "# Set index of df to the dates\n",
    "df_inspec.set_index('date', inplace=True)\n",
    "\n",
    "def get_plot(restaurant_name):   \n",
    "    df_inspec['score'][(df_inspec['name'] == restaurant_name)].plot()\n",
    "    plt.ylabel('Score')\n",
    "\n",
    "# Example: Use function for any restaurant out of the 317\n",
    "get_plot(restaurants[0])"
   ]
  },
  {
   "cell_type": "markdown",
   "metadata": {},
   "source": [
    "From these visualizations, it seems there is an upward trend in scores overall.\n",
    "\n",
    "Display all scores over time for all restaurants"
   ]
  },
  {
   "cell_type": "code",
   "execution_count": 8,
   "metadata": {},
   "outputs": [
    {
     "data": {
      "text/plain": [
       "Text(0, 0.5, 'Score')"
      ]
     },
     "execution_count": 8,
     "metadata": {},
     "output_type": "execute_result"
    },
    {
     "data": {
      "image/png": "[encoded data removed]",
      "text/plain": [
       "<Figure size 432x288 with 1 Axes>"
      ]
     },
     "metadata": {
      "needs_background": "light"
     },
     "output_type": "display_data"
    }
   ],
   "source": [
    "for x in range(317):\n",
    "    get_plot(restaurants[x])\n",
    "plt.ylabel('Score')"
   ]
  },
  {
   "cell_type": "markdown",
   "metadata": {},
   "source": [
    "This shows the variability of scores over time but the trend does seem overall stable or upwards.\n",
    "\n",
    "Lastly, we obtain the score differences from the earliest date to the most recent date:"
   ]
  },
  {
   "cell_type": "code",
   "execution_count": 9,
   "metadata": {},
   "outputs": [
    {
     "name": "stdout",
     "output_type": "stream",
     "text": [
      "-0.6025236593059937\n"
     ]
    }
   ],
   "source": [
    "# Make copy of date index\n",
    "df_inspec['date'] = df_inspec.index\n",
    "\n",
    "# Get max and min date for each name\n",
    "df_inspec['max date'] = df_inspec.groupby('name').date.transform('max')\n",
    "df_inspec['min date'] = df_inspec.groupby('name').date.transform('min')\n",
    "\n",
    "\n",
    "# List storing score differences\n",
    "changes = []\n",
    "\n",
    "# Method for getting difference of an inputted restaurant\n",
    "def get_diff(restaurant_name):        \n",
    "        temp_df = df_inspec[df_inspec['name'] == restaurant_name]\n",
    "\n",
    "        max_date = temp_df['score'][(temp_df['max date'] == temp_df['date'])]\n",
    "        min_date = temp_df['score'][(temp_df['min date'] == temp_df['date'])]\n",
    "        \n",
    "        # Get score from index 0 of series\n",
    "        changes.append(max_date[0] - min_date[0])\n",
    "\n",
    "# Get difference of all restaurants\n",
    "for x in range(317):\n",
    "    get_diff(restaurants[x])\n",
    "\n",
    "# Get mean of all differences\n",
    "mean = sum(changes) / len(changes) \n",
    "print(mean)"
   ]
  },
  {
   "cell_type": "markdown",
   "metadata": {},
   "source": [
    "# Ethics & Privacy"
   ]
  },
  {
   "cell_type": "markdown",
   "metadata": {},
   "source": [
    "While not all health inspection scores are avaliable online to the public, we can use the ones that are avaliable to the general public. I believe there are no privacy concerns since the names of the restaurants are not included in the dataset, and there are no information that can suggest a particular dataset is a specific restaurant. \n",
    "\n",
    "There could be potential biases in the dataset since we are only using health inspection scores avaliable to us. This does not cover all possible restaurants in the United States, but since health inspections are an official business and are required for all restaurants, there should be no biases based on certain populations or human biases. One thing we must consider is potential biases during health inspections themselves (such as giving ethnic restaurants lower scores based on pre-existing biases towards them), but since we are taking the data from the entire United States over the past 10 years, those biases should be minimal based on the coverage of our ideal dataset. "
   ]
  },
  {
   "cell_type": "markdown",
   "metadata": {},
   "source": [
    "# Conclusion & Discussion"
   ]
  },
  {
   "cell_type": "markdown",
   "metadata": {},
   "source": [
    "In this project, I investigated the average change in score in repeat inspections for restaurants. I used the inspections.csv dataset and sorted it by restaurant name and inspection date so that I could get a better picture of how inspection scores changed over time for each individual restaurant. I then visualized each restaurant as a histogram and a plot. To obtain the change in score from the first inspection to the most recent one, I obtained the minimum and maximum inspection date for each restaurant and subtracted their scores. After storing all these differences in a list, I found the mean of these differences to be approximately -0.60.\n",
    "\n",
    "This was suprising because I expected restaurant inspection scores to increase overall over time. From the visualizations, it seemed there was an upwards trend in score, but the overall average difference was still negative. This result leads me to conclude that repeat inspections do not have a significant affect on the restaurants score; in fact, with deeper analysis I could possibly conclude that there is a negative correlation. \n",
    "\n",
    "This project could be delved into further if I had more time. I had trouble obtaining the actual slope of my plots which is why I decided to compare the overall difference, but finding the slope would be a more accurate representation of how scores changed over time. The project could have also looked into whether passing and failing scores affected any of the other variables. The impact of this work on society is to reveal that multiple restaurant inspections don't neccessarily affect the score much, which is useful for consumers to keep in mind as it may affect their health whenever they eat out."
   ]
  },
  {
   "cell_type": "code",
   "execution_count": null,
   "metadata": {},
   "outputs": [],
   "source": []
  }
 ],
 "metadata": {
  "kernelspec": {
   "display_name": "Python 3",
   "language": "python",
   "name": "python3"
  },
  "language_info": {
   "codemirror_mode": {
    "name": "ipython",
    "version": 3
   },
   "file_extension": ".py",
   "mimetype": "text/x-python",
   "name": "python",
   "nbconvert_exporter": "python",
   "pygments_lexer": "ipython3",
   "version": "3.6.7"
  }
 },
 "nbformat": 4,
 "nbformat_minor": 2
}
