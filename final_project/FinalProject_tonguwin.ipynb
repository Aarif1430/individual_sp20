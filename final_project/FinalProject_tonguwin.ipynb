{
 "cells": [
  {
   "cell_type": "markdown",
   "metadata": {},
   "source": [
    "# COGS 108 - Final Project "
   ]
  },
  {
   "cell_type": "markdown",
   "metadata": {},
   "source": [
    "# Overview"
   ]
  },
  {
   "cell_type": "markdown",
   "metadata": {},
   "source": [
    "In my final project for COGS 108, I was curious about what may impact the Yelp ratings of a restaurant. In this project, I research if Yelp ratings have a relationship to which month a restaurant decides to start or open. I found that North Carolina restaurants that open in May and September typically tend to have better Yelp ratings. "
   ]
  },
  {
   "cell_type": "markdown",
   "metadata": {},
   "source": [
    "# Name & PID\n",
    "\n",
    "- Name: Todd Nguyen \n",
    "- PID: A15183227"
   ]
  },
  {
   "cell_type": "markdown",
   "metadata": {},
   "source": [
    "# Research Question"
   ]
  },
  {
   "cell_type": "markdown",
   "metadata": {},
   "source": [
    "Is there a relationship between Yelp ratings to a restaurant's opening month throughout North Carolina Restaurants?"
   ]
  },
  {
   "cell_type": "markdown",
   "metadata": {},
   "source": [
    "## Background and Prior Work"
   ]
  },
  {
   "cell_type": "markdown",
   "metadata": {},
   "source": [
    "*Fill in your background and prior work here* \n",
    "\n",
    "One of the first and most important steps of data analysis is ensuring that you formulate a specific data science question. When examining the given data for this project, I was instantly drawn to restaurant success. As a good friend to an Elite Yelper, a lot of the restaurants that we decided to go to, before COVID-19 social isolation regulations, were decided by its Yelp rating. Yelp ratings are a cumilation of Yelp users' reviews per specific restaurant reviewed on Yelp. Each review gets to rate the restaurant on a scale of 1 to 5 stars and the restaurant's overall Yelp rating is an average of all those reviews' ratings. \n",
    "\n",
    "Personally, for my friends and I, Yelp ratings are important for choosing what restaurants to eat at or purchase take out from. Most people I know utilize the Yelp application for this reason. It's not just my circle of friends either. There are over 35 million average monthly unique users on the Yelp mobile application and 211 million reviews as of March 31, 2020 (1). That's an immense amount of users and reviews that those users have created. Yelp reviews are important and businesses know that. In a 2016 essay called, \"Fake it Till You Make It: Reputation, Competition, and Yelp Review Fraud\", the authors analyzed Yelp data to find that weak reputed restaurants will be more likely to perform review fraud, in which they write their own or even hire someone to write them a review (2). Thus not only do restaurant goers care, but the actual restaurants also care about Yelp ratings. So to find out more about what affects Yelp ratings my initial question was, \"What impacts Yelp ratings in North Carolina restaurants?\" \n",
    "\n",
    "To clarify, I'm specifically working with North Carolina restaurants because all the data provided in this assignment are from North Carolina businesses. Although this question is a good starting point, it's too vague. To iterate on the question I decided to make the question, \"What is an unexpected aspect of North Carolina restaurants that may impact Yelp ratings?\" In this question I specified a relationship, although still very broad. After looking through the data given, I noticed that two of the data sets, 'inspections.csv' and 'restaurants.csv', have restaurant open dates. So out of curiousity I updated my question to \"Is there a relationship between Yelp ratings to a restaurant's opening month throughout North Carolina Restaurants?\"\n",
    "\n",
    "\n",
    "References:\n",
    "- 1) \"Yelp Newsroom: Fast Facts\" https://www.yelp-press.com/company/fast-facts/default.aspx\n",
    "- 2) \"Fake it Till You Make It: Reputation, Competition, and Yelp Review Fraud\" https://pubsonline.informs.org/doi/abs/10.1287/mnsc.2015.2304?casa_token=Oq1qFtQ_SG4AAAAA:93uMWWm6pjjipAzM5godntQ_o8oI6DCs8g6QsnecS4IuSRalO9v4ipsk9rF7F2EIr9C0siDrbsw\n",
    "- 3) \"The anatomy of business failure: A qualitative account of its implications for future business success\" https://www.emerald.com/insight/content/doi/10.1108/EJMBE-07-2017-001/full/html"
   ]
  },
  {
   "cell_type": "markdown",
   "metadata": {},
   "source": [
    "# Hypothesis\n"
   ]
  },
  {
   "cell_type": "markdown",
   "metadata": {},
   "source": [
    "I hypothesize that restaurants that open in early summer months, specifically June and July, will have higher Yelp ratings than the rest. I anticipate that this because more people, especially the student population, are free during the beginning of summer to eat at restaurants and are typically in a happier mood because they are on summer vacation. Since they would be in a typically happier mood, this would result in higher Yelp ratings for newly opened restaurants right off the bat. "
   ]
  },
  {
   "cell_type": "markdown",
   "metadata": {},
   "source": [
    "# Dataset(s)"
   ]
  },
  {
   "cell_type": "markdown",
   "metadata": {},
   "source": [
    "- Dataset Name: 'restaurants.csv'\n",
    "- In this dataset, I mainly just used the 'restuarantopendate' column to find out when each restaurant opened business. \n",
    "\n",
    "\n",
    "- Dataset Name: 'yelp.csv'\n",
    "- In this dataset, I mainly used the 'rating' and 'review_count' columns since I am comparing Yelp ratings to when restaurants open. I decided to also keep the number of reviews since I thought it would be interesting to analyze. \n",
    "\n",
    "\n",
    "I combined these data sets by first individually storing them into two separate data frames and then merging them with the merge function by address. "
   ]
  },
  {
   "cell_type": "markdown",
   "metadata": {},
   "source": [
    "# Setup"
   ]
  },
  {
   "cell_type": "code",
   "execution_count": 1,
   "metadata": {},
   "outputs": [],
   "source": [
    "# Imports \n",
    "%matplotlib inline\n",
    "\n",
    "import pandas as pd\n",
    "import matplotlib.pyplot as plt\n",
    "\n",
    "import seaborn as sns\n",
    "sns.set()\n",
    "sns.set_context('talk')\n",
    "\n",
    "import warnings\n",
    "warnings.filterwarnings('ignore')"
   ]
  },
  {
   "cell_type": "markdown",
   "metadata": {},
   "source": [
    "# Data Cleaning"
   ]
  },
  {
   "cell_type": "markdown",
   "metadata": {},
   "source": [
    "Describe your data cleaning steps here."
   ]
  },
  {
   "cell_type": "code",
   "execution_count": 2,
   "metadata": {},
   "outputs": [],
   "source": [
    "# put the two datasets in two separate data frames\n",
    "rest_df = pd.read_csv('restaurants.csv')\n",
    "yelp_df = pd.read_csv('yelp.csv')"
   ]
  },
  {
   "cell_type": "code",
   "execution_count": 3,
   "metadata": {},
   "outputs": [],
   "source": [
    "# merged the 'yelp.csv' and the 'restaurant.csv' dataframes \n",
    "df = pd.merge(yelp_df, rest_df, on = 'address1')"
   ]
  },
  {
   "cell_type": "code",
   "execution_count": 4,
   "metadata": {},
   "outputs": [],
   "source": [
    "# dropped columns unecessary to our research question \n",
    "df = df.drop(columns = ['zip_code', 'latitude', \n",
    "                   'longitude', 'address2', 'postalcode', \n",
    "                   'phonenumber', 'x', 'y', 'geocodestatus',\n",
    "                  'id', 'phone', 'hotdogs', 'sandwiches', 'pizza',\n",
    "                  'bbq', 'bakeries', 'sushi', 'X.objectid', 'burgers',\n",
    "                  'tradamerican', 'mexican', 'grocery', 'breakfast_brunch',\n",
    "                  'delis', 'coffee', 'chinese', 'italian', 'newamerican',\n",
    "                  'chicken_wings', 'bars', 'salad', 'seafood', 'city', \n",
    "                  'hsisid', 'name_x', 'price'])"
   ]
  },
  {
   "cell_type": "code",
   "execution_count": 5,
   "metadata": {},
   "outputs": [],
   "source": [
    "# dropped any duplicate columns based off of address\n",
    "df = df.drop_duplicates(subset = 'address1', keep = 'first')"
   ]
  },
  {
   "cell_type": "code",
   "execution_count": 6,
   "metadata": {},
   "outputs": [],
   "source": [
    "# ordering the columns in a neat order\n",
    "df = df[['name_y', 'rating', 'review_count', \n",
    "         'state', 'restaurantopendate', 'facilitytype']]"
   ]
  },
  {
   "cell_type": "code",
   "execution_count": 7,
   "metadata": {},
   "outputs": [],
   "source": [
    "# renamed the columns \n",
    "df = df.rename(columns = {'name_y':'Name', \n",
    "                     'rating':'Yelp Rating', \n",
    "                     'review_count':'Review Count', \n",
    "                          'state':'State', \n",
    "                    'restaurantopendate': 'Open Date', \n",
    "                    'facilitytype': 'Facility'})"
   ]
  },
  {
   "cell_type": "code",
   "execution_count": 8,
   "metadata": {},
   "outputs": [],
   "source": [
    "# dropped rows that contained certain Facility values \n",
    "df = df[df.Facility !='Food Stand']\n",
    "df = df[df.Facility !='Mobile Food Units']\n",
    "df = df[df.Facility !='Meat Market']\n",
    "\n",
    "# since facility values are now all restaurants and we know they are all\n",
    "# restaurants in NC, dropped 'Facility' and 'State'\n",
    "df = df.drop(columns = ['Facility', 'State'])\n"
   ]
  },
  {
   "cell_type": "code",
   "execution_count": 9,
   "metadata": {},
   "outputs": [],
   "source": [
    "# sorted the values by Yelp Rating and Review Count, \n",
    "# with the highest rating and most reviews at the top\n",
    "\n",
    "df = df.sort_values(by = ['Yelp Rating', 'Review Count'],\n",
    "                    ascending = [False, False])"
   ]
  },
  {
   "cell_type": "code",
   "execution_count": 10,
   "metadata": {},
   "outputs": [],
   "source": [
    "# made a function to convert our dates to months \n",
    "\n",
    "def convert_dates(date):\n",
    "    \n",
    "    if '-01-' in date: \n",
    "        output = 'Jan'\n",
    "    elif '-02-' in date: \n",
    "        output = 'Feb'\n",
    "    elif '-03-' in date: \n",
    "        output = 'Mar'\n",
    "    elif '-04-' in date: \n",
    "        output = 'Apr'\n",
    "    elif '-05-' in date: \n",
    "        output = 'May'\n",
    "    elif '-06-' in date: \n",
    "        output = 'Jun'\n",
    "    elif '-07-' in date: \n",
    "        output = 'Jul'\n",
    "    elif '-08-' in date:\n",
    "        output = 'Aug'\n",
    "    elif '-09-' in date: \n",
    "        output = 'Sep'\n",
    "    elif '-10-' in date: \n",
    "        output = 'Oct'\n",
    "    elif '-11-' in date: \n",
    "        output = 'Nov'\n",
    "    elif '-12-' in date: \n",
    "        output = 'Dec'\n",
    "    \n",
    "    # if otherwise, keep as it is \n",
    "    else: \n",
    "        output = string \n",
    "        \n",
    "    return output "
   ]
  },
  {
   "cell_type": "code",
   "execution_count": 11,
   "metadata": {},
   "outputs": [],
   "source": [
    "# used the apply function to transform the data in the 'Open Date' column and \n",
    "# saved the output inside the dataframe \n",
    "\n",
    "df['Open Date'] = df['Open Date'].apply(convert_dates)"
   ]
  },
  {
   "cell_type": "code",
   "execution_count": 12,
   "metadata": {},
   "outputs": [],
   "source": [
    "# some extra cleaning \n",
    "\n",
    "# reset the old index and delete the old index column \n",
    "df = df.reset_index()\n",
    "df = df.drop(columns = 'index')\n",
    "\n",
    "# rename the Open Date column to Opening Month \n",
    "df = df.rename(columns = {'Open Date':'Opening Month'})"
   ]
  },
  {
   "cell_type": "code",
   "execution_count": 13,
   "metadata": {},
   "outputs": [
    {
     "data": {
      "text/html": [
       "<div>\n",
       "<style scoped>\n",
       "    .dataframe tbody tr th:only-of-type {\n",
       "        vertical-align: middle;\n",
       "    }\n",
       "\n",
       "    .dataframe tbody tr th {\n",
       "        vertical-align: top;\n",
       "    }\n",
       "\n",
       "    .dataframe thead th {\n",
       "        text-align: right;\n",
       "    }\n",
       "</style>\n",
       "<table border=\"1\" class=\"dataframe\">\n",
       "  <thead>\n",
       "    <tr style=\"text-align: right;\">\n",
       "      <th></th>\n",
       "      <th>Name</th>\n",
       "      <th>Yelp Rating</th>\n",
       "      <th>Review Count</th>\n",
       "      <th>Opening Month</th>\n",
       "    </tr>\n",
       "  </thead>\n",
       "  <tbody>\n",
       "    <tr>\n",
       "      <th>0</th>\n",
       "      <td>Subway</td>\n",
       "      <td>5.0</td>\n",
       "      <td>40</td>\n",
       "      <td>Sep</td>\n",
       "    </tr>\n",
       "    <tr>\n",
       "      <th>1</th>\n",
       "      <td>Scooters Grill And Bar</td>\n",
       "      <td>5.0</td>\n",
       "      <td>1</td>\n",
       "      <td>May</td>\n",
       "    </tr>\n",
       "    <tr>\n",
       "      <th>2</th>\n",
       "      <td>Goji Bistro</td>\n",
       "      <td>4.5</td>\n",
       "      <td>81</td>\n",
       "      <td>Dec</td>\n",
       "    </tr>\n",
       "    <tr>\n",
       "      <th>3</th>\n",
       "      <td>Goodberry`s Creamery</td>\n",
       "      <td>4.5</td>\n",
       "      <td>30</td>\n",
       "      <td>May</td>\n",
       "    </tr>\n",
       "    <tr>\n",
       "      <th>4</th>\n",
       "      <td>Romas Pizzeria</td>\n",
       "      <td>4.5</td>\n",
       "      <td>11</td>\n",
       "      <td>May</td>\n",
       "    </tr>\n",
       "    <tr>\n",
       "      <th>5</th>\n",
       "      <td>Bonefish Grill</td>\n",
       "      <td>4.0</td>\n",
       "      <td>145</td>\n",
       "      <td>Oct</td>\n",
       "    </tr>\n",
       "    <tr>\n",
       "      <th>6</th>\n",
       "      <td>Moonlight Pizza Company</td>\n",
       "      <td>4.0</td>\n",
       "      <td>133</td>\n",
       "      <td>Jun</td>\n",
       "    </tr>\n",
       "    <tr>\n",
       "      <th>7</th>\n",
       "      <td>Little Tokyo</td>\n",
       "      <td>4.0</td>\n",
       "      <td>98</td>\n",
       "      <td>Jan</td>\n",
       "    </tr>\n",
       "    <tr>\n",
       "      <th>8</th>\n",
       "      <td>Salvio`s Pizzeria</td>\n",
       "      <td>4.0</td>\n",
       "      <td>56</td>\n",
       "      <td>Mar</td>\n",
       "    </tr>\n",
       "    <tr>\n",
       "      <th>9</th>\n",
       "      <td>Mac`s Tavern</td>\n",
       "      <td>4.0</td>\n",
       "      <td>50</td>\n",
       "      <td>Jan</td>\n",
       "    </tr>\n",
       "    <tr>\n",
       "      <th>10</th>\n",
       "      <td>Watkins Grill</td>\n",
       "      <td>4.0</td>\n",
       "      <td>40</td>\n",
       "      <td>May</td>\n",
       "    </tr>\n",
       "    <tr>\n",
       "      <th>11</th>\n",
       "      <td>Knights Play Golf Center</td>\n",
       "      <td>4.0</td>\n",
       "      <td>28</td>\n",
       "      <td>Apr</td>\n",
       "    </tr>\n",
       "    <tr>\n",
       "      <th>12</th>\n",
       "      <td>Biscuitville</td>\n",
       "      <td>4.0</td>\n",
       "      <td>20</td>\n",
       "      <td>Apr</td>\n",
       "    </tr>\n",
       "    <tr>\n",
       "      <th>13</th>\n",
       "      <td>Chick-fil-A</td>\n",
       "      <td>4.0</td>\n",
       "      <td>18</td>\n",
       "      <td>Mar</td>\n",
       "    </tr>\n",
       "    <tr>\n",
       "      <th>14</th>\n",
       "      <td>China King</td>\n",
       "      <td>4.0</td>\n",
       "      <td>12</td>\n",
       "      <td>Apr</td>\n",
       "    </tr>\n",
       "    <tr>\n",
       "      <th>15</th>\n",
       "      <td>Goodberry`s</td>\n",
       "      <td>4.0</td>\n",
       "      <td>10</td>\n",
       "      <td>Oct</td>\n",
       "    </tr>\n",
       "    <tr>\n",
       "      <th>16</th>\n",
       "      <td>Spring Hill Suites Kitchen</td>\n",
       "      <td>4.0</td>\n",
       "      <td>10</td>\n",
       "      <td>Jul</td>\n",
       "    </tr>\n",
       "    <tr>\n",
       "      <th>17</th>\n",
       "      <td>Murphy House Restaurant-Dorton Arena</td>\n",
       "      <td>4.0</td>\n",
       "      <td>9</td>\n",
       "      <td>May</td>\n",
       "    </tr>\n",
       "    <tr>\n",
       "      <th>18</th>\n",
       "      <td>Bojangles</td>\n",
       "      <td>4.0</td>\n",
       "      <td>6</td>\n",
       "      <td>Sep</td>\n",
       "    </tr>\n",
       "    <tr>\n",
       "      <th>19</th>\n",
       "      <td>Subway # 1437</td>\n",
       "      <td>4.0</td>\n",
       "      <td>3</td>\n",
       "      <td>Dec</td>\n",
       "    </tr>\n",
       "    <tr>\n",
       "      <th>20</th>\n",
       "      <td>SUBWAY</td>\n",
       "      <td>4.0</td>\n",
       "      <td>3</td>\n",
       "      <td>Nov</td>\n",
       "    </tr>\n",
       "    <tr>\n",
       "      <th>21</th>\n",
       "      <td>Char-grill</td>\n",
       "      <td>4.0</td>\n",
       "      <td>1</td>\n",
       "      <td>Dec</td>\n",
       "    </tr>\n",
       "    <tr>\n",
       "      <th>22</th>\n",
       "      <td>Danny`s Bar-B-Que</td>\n",
       "      <td>3.5</td>\n",
       "      <td>79</td>\n",
       "      <td>Dec</td>\n",
       "    </tr>\n",
       "    <tr>\n",
       "      <th>23</th>\n",
       "      <td>Stromboli`s</td>\n",
       "      <td>3.5</td>\n",
       "      <td>44</td>\n",
       "      <td>Mar</td>\n",
       "    </tr>\n",
       "    <tr>\n",
       "      <th>24</th>\n",
       "      <td>Sub Conscious</td>\n",
       "      <td>3.5</td>\n",
       "      <td>41</td>\n",
       "      <td>Dec</td>\n",
       "    </tr>\n",
       "    <tr>\n",
       "      <th>25</th>\n",
       "      <td>Homegrown Pizza</td>\n",
       "      <td>3.5</td>\n",
       "      <td>39</td>\n",
       "      <td>Nov</td>\n",
       "    </tr>\n",
       "    <tr>\n",
       "      <th>26</th>\n",
       "      <td>El Rodeo Restaurant</td>\n",
       "      <td>3.5</td>\n",
       "      <td>31</td>\n",
       "      <td>Dec</td>\n",
       "    </tr>\n",
       "    <tr>\n",
       "      <th>27</th>\n",
       "      <td>El Dorado Mexican Restaurant</td>\n",
       "      <td>3.5</td>\n",
       "      <td>23</td>\n",
       "      <td>May</td>\n",
       "    </tr>\n",
       "    <tr>\n",
       "      <th>28</th>\n",
       "      <td>First China</td>\n",
       "      <td>3.5</td>\n",
       "      <td>12</td>\n",
       "      <td>Sep</td>\n",
       "    </tr>\n",
       "    <tr>\n",
       "      <th>29</th>\n",
       "      <td>Olive Garden</td>\n",
       "      <td>3.0</td>\n",
       "      <td>60</td>\n",
       "      <td>Mar</td>\n",
       "    </tr>\n",
       "    <tr>\n",
       "      <th>30</th>\n",
       "      <td>OUTBACK STEAKHOUSE #3467</td>\n",
       "      <td>3.0</td>\n",
       "      <td>50</td>\n",
       "      <td>Mar</td>\n",
       "    </tr>\n",
       "    <tr>\n",
       "      <th>31</th>\n",
       "      <td>Eastern China Chinese Restaurant</td>\n",
       "      <td>3.0</td>\n",
       "      <td>15</td>\n",
       "      <td>May</td>\n",
       "    </tr>\n",
       "    <tr>\n",
       "      <th>32</th>\n",
       "      <td>Jellybeans</td>\n",
       "      <td>3.0</td>\n",
       "      <td>15</td>\n",
       "      <td>Mar</td>\n",
       "    </tr>\n",
       "    <tr>\n",
       "      <th>33</th>\n",
       "      <td>Jason`s Deli</td>\n",
       "      <td>3.0</td>\n",
       "      <td>8</td>\n",
       "      <td>Oct</td>\n",
       "    </tr>\n",
       "    <tr>\n",
       "      <th>34</th>\n",
       "      <td>Kabuki Japanese Steak House</td>\n",
       "      <td>2.5</td>\n",
       "      <td>79</td>\n",
       "      <td>Jun</td>\n",
       "    </tr>\n",
       "    <tr>\n",
       "      <th>35</th>\n",
       "      <td>Moe`s Southwest Grill #50</td>\n",
       "      <td>2.5</td>\n",
       "      <td>19</td>\n",
       "      <td>Jun</td>\n",
       "    </tr>\n",
       "    <tr>\n",
       "      <th>36</th>\n",
       "      <td>Sam`s Club #8223 Cafe</td>\n",
       "      <td>2.5</td>\n",
       "      <td>10</td>\n",
       "      <td>Aug</td>\n",
       "    </tr>\n",
       "    <tr>\n",
       "      <th>37</th>\n",
       "      <td>CITY CLUB RALEIGH</td>\n",
       "      <td>2.5</td>\n",
       "      <td>9</td>\n",
       "      <td>Mar</td>\n",
       "    </tr>\n",
       "    <tr>\n",
       "      <th>38</th>\n",
       "      <td>The Border Restaurant</td>\n",
       "      <td>2.5</td>\n",
       "      <td>8</td>\n",
       "      <td>Apr</td>\n",
       "    </tr>\n",
       "    <tr>\n",
       "      <th>39</th>\n",
       "      <td>Applebee`s</td>\n",
       "      <td>1.5</td>\n",
       "      <td>20</td>\n",
       "      <td>Jan</td>\n",
       "    </tr>\n",
       "    <tr>\n",
       "      <th>40</th>\n",
       "      <td>Pizza Hut #9107</td>\n",
       "      <td>1.5</td>\n",
       "      <td>13</td>\n",
       "      <td>Jan</td>\n",
       "    </tr>\n",
       "    <tr>\n",
       "      <th>41</th>\n",
       "      <td>McDonald`s At Cameron Village</td>\n",
       "      <td>1.5</td>\n",
       "      <td>4</td>\n",
       "      <td>Dec</td>\n",
       "    </tr>\n",
       "  </tbody>\n",
       "</table>\n",
       "</div>"
      ],
      "text/plain": [
       "                                    Name  Yelp Rating  Review Count  \\\n",
       "0                                 Subway          5.0            40   \n",
       "1                 Scooters Grill And Bar          5.0             1   \n",
       "2                            Goji Bistro          4.5            81   \n",
       "3                   Goodberry`s Creamery          4.5            30   \n",
       "4                         Romas Pizzeria          4.5            11   \n",
       "5                         Bonefish Grill          4.0           145   \n",
       "6                Moonlight Pizza Company          4.0           133   \n",
       "7                           Little Tokyo          4.0            98   \n",
       "8                      Salvio`s Pizzeria          4.0            56   \n",
       "9                           Mac`s Tavern          4.0            50   \n",
       "10                         Watkins Grill          4.0            40   \n",
       "11              Knights Play Golf Center          4.0            28   \n",
       "12                          Biscuitville          4.0            20   \n",
       "13                           Chick-fil-A          4.0            18   \n",
       "14                            China King          4.0            12   \n",
       "15                           Goodberry`s          4.0            10   \n",
       "16            Spring Hill Suites Kitchen          4.0            10   \n",
       "17  Murphy House Restaurant-Dorton Arena          4.0             9   \n",
       "18                             Bojangles          4.0             6   \n",
       "19                         Subway # 1437          4.0             3   \n",
       "20                                SUBWAY          4.0             3   \n",
       "21                            Char-grill          4.0             1   \n",
       "22                     Danny`s Bar-B-Que          3.5            79   \n",
       "23                           Stromboli`s          3.5            44   \n",
       "24                         Sub Conscious          3.5            41   \n",
       "25                       Homegrown Pizza          3.5            39   \n",
       "26                   El Rodeo Restaurant          3.5            31   \n",
       "27          El Dorado Mexican Restaurant          3.5            23   \n",
       "28                           First China          3.5            12   \n",
       "29                          Olive Garden          3.0            60   \n",
       "30              OUTBACK STEAKHOUSE #3467          3.0            50   \n",
       "31      Eastern China Chinese Restaurant          3.0            15   \n",
       "32                            Jellybeans          3.0            15   \n",
       "33                          Jason`s Deli          3.0             8   \n",
       "34           Kabuki Japanese Steak House          2.5            79   \n",
       "35             Moe`s Southwest Grill #50          2.5            19   \n",
       "36                 Sam`s Club #8223 Cafe          2.5            10   \n",
       "37                     CITY CLUB RALEIGH          2.5             9   \n",
       "38                 The Border Restaurant          2.5             8   \n",
       "39                            Applebee`s          1.5            20   \n",
       "40                       Pizza Hut #9107          1.5            13   \n",
       "41         McDonald`s At Cameron Village          1.5             4   \n",
       "\n",
       "   Opening Month  \n",
       "0            Sep  \n",
       "1            May  \n",
       "2            Dec  \n",
       "3            May  \n",
       "4            May  \n",
       "5            Oct  \n",
       "6            Jun  \n",
       "7            Jan  \n",
       "8            Mar  \n",
       "9            Jan  \n",
       "10           May  \n",
       "11           Apr  \n",
       "12           Apr  \n",
       "13           Mar  \n",
       "14           Apr  \n",
       "15           Oct  \n",
       "16           Jul  \n",
       "17           May  \n",
       "18           Sep  \n",
       "19           Dec  \n",
       "20           Nov  \n",
       "21           Dec  \n",
       "22           Dec  \n",
       "23           Mar  \n",
       "24           Dec  \n",
       "25           Nov  \n",
       "26           Dec  \n",
       "27           May  \n",
       "28           Sep  \n",
       "29           Mar  \n",
       "30           Mar  \n",
       "31           May  \n",
       "32           Mar  \n",
       "33           Oct  \n",
       "34           Jun  \n",
       "35           Jun  \n",
       "36           Aug  \n",
       "37           Mar  \n",
       "38           Apr  \n",
       "39           Jan  \n",
       "40           Jan  \n",
       "41           Dec  "
      ]
     },
     "execution_count": 13,
     "metadata": {},
     "output_type": "execute_result"
    }
   ],
   "source": [
    "# check the data! \n",
    "df"
   ]
  },
  {
   "cell_type": "markdown",
   "metadata": {},
   "source": [
    "# Data Analysis & Results"
   ]
  },
  {
   "cell_type": "markdown",
   "metadata": {},
   "source": [
    "First, to understand and get a feel for the data, I'm going to plot the data as a scatter matrix, a count plot, and a box plot. "
   ]
  },
  {
   "cell_type": "code",
   "execution_count": 14,
   "metadata": {},
   "outputs": [
    {
     "data": {
      "image/png": "[encoded data removed]",
      "text/plain": [
       "<Figure size 432x432 with 4 Axes>"
      ]
     },
     "metadata": {
      "needs_background": "light"
     },
     "output_type": "display_data"
    }
   ],
   "source": [
    "# plotting a scatter matrix of the data\n",
    "scatter_matrix_fig = pd.plotting.scatter_matrix(df, alpha = 0.8, figsize= (6,6), diagonal ='kde')"
   ]
  },
  {
   "cell_type": "markdown",
   "metadata": {},
   "source": [
    "A **scatter matrix** is a good way to initially determine if there are any types of correlation between multiple different variables in your table. It overall helps with interpreting the results! In this plot, I use kernel density estimation (KDE) on the diagonal to estimate the density of the distribution of 'Yelp Rating' and 'Review Count'. \n",
    "\n",
    "On the diagonal, the first top left plot indicates that a large density of Yelp ratings are mainly about 4 stars. On the bottom right, this plot indicates that a majority of restaurants don't have many reviews. "
   ]
  },
  {
   "cell_type": "code",
   "execution_count": 15,
   "metadata": {
    "scrolled": false
   },
   "outputs": [
    {
     "data": {
      "image/png": "[encoded data removed]",
      "text/plain": [
       "<Figure size 720x360 with 1 Axes>"
      ]
     },
     "metadata": {
      "needs_background": "light"
     },
     "output_type": "display_data"
    }
   ],
   "source": [
    "# plotting a count plot of the opening month data\n",
    "plt.figure(figsize = (10,5))\n",
    "count_plot_fig = sns.countplot(x = 'Opening Month', data = df)"
   ]
  },
  {
   "cell_type": "markdown",
   "metadata": {},
   "source": [
    "This is a **count plot**. This plot helps to visualize the values of how many restaurants in North Carolina opened on which specific month. Simply put, it helps to count the observations in each qualitative bin that represent the bars. \n",
    "\n",
    "The mode in this plot are May, Dec, and Mar. What is pretty much means is that restaurants in North Carolina most commonly open in March, May, and December. \n",
    "\n"
   ]
  },
  {
   "cell_type": "code",
   "execution_count": 16,
   "metadata": {},
   "outputs": [
    {
     "data": {
      "image/png": "[encoded data removed]",
      "text/plain": [
       "<Figure size 720x360 with 1 Axes>"
      ]
     },
     "metadata": {
      "needs_background": "light"
     },
     "output_type": "display_data"
    }
   ],
   "source": [
    "# plotting a box plot of the opening month data to Yelp ratings\n",
    "plt.figure(figsize = (10,5))\n",
    "box_plot_fig = sns.boxplot(x = 'Opening Month', y = 'Yelp Rating', data = df)"
   ]
  },
  {
   "cell_type": "markdown",
   "metadata": {},
   "source": [
    "This is a **box plot** of the Yelp ratings of restaurants broken down by the month they opened. This box plot allows us to see a few different values. \n",
    "\n",
    "The middle line in each box represents the median and tells us the typical Yelp rating of a restaurant that opens during that specific month. For instance, a restaurant that opens in November in North Carolina, is shown to have a median in between 4.0 and 3.5, so about 3.75. This allows us to visually see what opening months tend to have higher Yelp ratings on average. The opening months that do result in higher Yelp ratings are May, July, and September. \n",
    "\n",
    "The marked horizontal lines seen in the plot also lets us see the typical range of Yelp ratings per opening month. This shows were most of the values fall. For example, in restaurants that open in March, most Yelp ratings will be in between 2.5 to 4.0 stars. \n",
    "\n",
    "Lastly, the tiny diamond dots that you can see laying upon December and April are outliers. Outliers are values that fall outside the typical range and are not usual.\n",
    "\n",
    "This plot shows that the restaurants in North Carolina that open in May and September typically have higher Yelp ratings than restaurants that open in other months. "
   ]
  },
  {
   "cell_type": "markdown",
   "metadata": {},
   "source": [
    "# Ethics & Privacy"
   ]
  },
  {
   "cell_type": "markdown",
   "metadata": {},
   "source": [
    "Data science should always be done in a way that is equitable, have a respect for privacy and consent, and does not further create undue harm. I understand that data science is very powerful process, but it should be done with care to allow any stakeholders to not be harmed.\n",
    "\n",
    "The data has been posted publicly online and is available. It is from the Yelp Site and there is a wide amount of data on the site.\n",
    "\n",
    "There is a challenge of ensuring a good measure, to not target specific restaurants since we would be looking for if one restaurant is doing better than the other, and to not harm anyone's jobs. This data makes sure not to point any human being out by making sure no human names are on the data. We're not trying to point out specific restaurants for doing a bad job, we're trying to see if there is a correlation between opening dates and Yelp ratings- that is all. \n",
    "\n",
    "There are definitely potential biases in this data set. Especially since Yelp ratings are decided by humans, human bias is hard to avoid. However, the basis of Yelp depends on human opinions and therefore should be encourage in this kind of study. "
   ]
  },
  {
   "cell_type": "markdown",
   "metadata": {},
   "source": [
    "# Conclusion & Discussion"
   ]
  },
  {
   "cell_type": "markdown",
   "metadata": {},
   "source": [
    "I will first restate my hypothesis here: \n",
    "\n",
    "*I hypothesize that restaurants that open in early summer months, specifically June and July, will have higher Yelp ratings than the rest. I anticipate that this because more people, especially the student population, are free during the beginning of summer to eat at restaurants and are typically in a happier mood because they are on summer vacation. Since they would be in a typically happier mood, this would result in higher Yelp ratings for newly opened restaurants right off the bat.*\n",
    "\n",
    "My hypothesis was wrong. Restaurants, in North Carolina, that open business in early summer months, like June and July, do not have higher Yelp ratings than the rest. The opening months that did have the best Yelp ratings for restaurants were actually May and September. This was interesting since they are both months that are right before and right after summer. \n",
    "\n",
    "The way I cleaned the data is thoroughly explained in the data cleaning section, but I wanted to address some points. The reason why I decided to use the 'restaurant.csv' instead of the 'inspections.csv', which also has the restaurant open dates, was because the inspections data set had a much larger amount of columns that I would have had to delete myself. If I posed a question that had to do more with inspections, it definitely would have been interesting to use that dataset. However, due to ease, I stuck with using the restaurant data set. Next, I wanted to talk about creating the convert_dates function. Originally, I was planning on just using the dates as is, but I realized that there would just be a large amount of scattered data. Thus, I decided to split the data up by months by creating a function and applying that to the whole dates column. \n",
    "\n",
    "The type of analysis I did was primarily discrete exploratory data analysis. I visualized the data with three different plots: a scatter matrix, a count plot, and a box plot. The scatter matrix allowed me to get a gist of the the interpretability of the data. The count plot let me find the mode of how many restaurants were opening during specific months. The box plot allowed me to interpret a few different values: median, typical range, and some outliers. \n",
    "\n",
    "Reflecting, I believe my broad question of wondering what different aspects may impact Yelp reviews is still important. I personally grew up with my family owning their own business. Business failure happens and is found to actually help development in a business owner's character (3). However, being able to try to stop failure by doing things like finding new ways to improve Yelp reviews which in turn attracts customers, would create positive change for struggling small businesses. \n",
    "\n",
    "One problem I wish I realized earlier was that my sample size was small. After cleaning the data it just passed over my head and I continued to work until I started to visualize the data. Small sample sizes could result in ultimately lower statistical power and lower reliability. Although I wish I had more data to work off of, this data could still possibly impact new North Carolina restaurant owners to plan ahead and decide when they want to open their restaurant. \n",
    "\n",
    "Overall, this project was a really interesting and fun experience! It felt nice to be able to go off on my own accord and analyze given data. If I could do things differently, I probably would have tried working with a whole new data set and answer a different question. Despite this question being fun to try to answer, I felt that my data was lacking because of such a small sample size. All in all, this project and this class has taught me so much about how to put data science into practice. \n",
    "\n",
    "References:\n",
    "- 1) \"Yelp Newsroom: Fast Facts\" https://www.yelp-press.com/company/fast-facts/default.aspx\n",
    "- 2) \"Fake it Till You Make It: Reputation, Competition, and Yelp Review Fraud\" https://pubsonline.informs.org/doi/abs/10.1287/mnsc.2015.2304?casa_token=Oq1qFtQ_SG4AAAAA:93uMWWm6pjjipAzM5godntQ_o8oI6DCs8g6QsnecS4IuSRalO9v4ipsk9rF7F2EIr9C0siDrbsw\n",
    "- 3) \"The anatomy of business failure: A qualitative account of its implications for future business success\" https://www.emerald.com/insight/content/doi/10.1108/EJMBE-07-2017-001/full/html"
   ]
  }
 ],
 "metadata": {
  "kernelspec": {
   "display_name": "Python 3",
   "language": "python",
   "name": "python3"
  },
  "language_info": {
   "codemirror_mode": {
    "name": "ipython",
    "version": 3
   },
   "file_extension": ".py",
   "mimetype": "text/x-python",
   "name": "python",
   "nbconvert_exporter": "python",
   "pygments_lexer": "ipython3",
   "version": "3.6.7"
  }
 },
 "nbformat": 4,
 "nbformat_minor": 2
}
