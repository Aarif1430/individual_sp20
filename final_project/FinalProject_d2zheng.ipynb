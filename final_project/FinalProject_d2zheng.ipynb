{
 "cells": [
  {
   "cell_type": "markdown",
   "metadata": {},
   "source": [
    "# COGS108 SP20 Individual_FinalProject"
   ]
  },
  {
   "cell_type": "markdown",
   "metadata": {},
   "source": [
    "## Name & PID\n",
    "Name : ZHENG Danyi \n",
    "\n",
    "PID : A16186734"
   ]
  },
  {
   "cell_type": "markdown",
   "metadata": {},
   "source": [
    "## Overview"
   ]
  },
  {
   "cell_type": "markdown",
   "metadata": {},
   "source": [
    "In this project, I analyzed the data provided to see what's the relationship between the restaurants' food safety level and their potential customers, hoping it can help the govenment to focus on the health inspections in areas with more vulnerable groups if necessary. However, the analysis results show that I may be wrong, there is no significant relationship between the potential customers of the restaurants and their food safety level."
   ]
  },
  {
   "cell_type": "markdown",
   "metadata": {},
   "source": [
    "## Research Question"
   ]
  },
  {
   "cell_type": "markdown",
   "metadata": {},
   "source": [
    "What is the relationship between the restaurants' food safety level and their potential customers?"
   ]
  },
  {
   "cell_type": "markdown",
   "metadata": {},
   "source": [
    "## Background & Prior Work"
   ]
  },
  {
   "cell_type": "markdown",
   "metadata": {},
   "source": [
    "With the \"Black Lives Matter\" going on and the previous discrimination on Asian people my and my friends experienced a few months ago, I start to think about how the living situation of minority people is. The vulnerable groups' health problem should be at a higher priority, as they tend to suffer more and get less proper in-time treatment, compared to the privileges. Food safety should be a top concern, as it is involved in our everyday life, three times a day. It is known that in the low and middle income countries, the foodborne disease is a great problem[1], then how about the low income areas in America? Studies also show that there is a increased risk in food safety problem when an area haa more minority populations[2]. Using the data we have for one county, I would like to know what's the relationship between the restaurants food safety level and their potential customers. By looking into this, we can urge the governments to focus more on the low income areas, or those with a higher minority population, so that these people can have fewer food health problems, and this can also release the health burden for the whole county a little bit.\n",
    "\n",
    "References (include links):\n",
    "\n",
    "1) Delia Grace(2015), \"Food Safety in Low and Middle Income Countries\", https://www.ncbi.nlm.nih.gov/pmc/articles/PMC4586623/\n",
    "\n",
    "2) Beth Krietsch(2014), \"Toxic chemicals can enter food through packaging. We made a list.\", https://www.foodsafetynews.com/2014/11/food-safety-and-socioeconomic-status-is-there-a-link/"
   ]
  },
  {
   "cell_type": "markdown",
   "metadata": {},
   "source": [
    "## Hypothesis"
   ]
  },
  {
   "cell_type": "markdown",
   "metadata": {},
   "source": [
    "1. The lower the avarage income, the lower food safety levels*.\n",
    "2. The higher minority population in an area, the lower food safety levels*.\n",
    "\n",
    "*The food safety level will be determined by the health inspection score and the number of violations observed.\n",
    "\n",
    "In the areas where potential customers have lower income, they tend to buy cheaper foods to save money. To meet their price expectation, the restaurants may purchase cheaper food material, fewer staff to maintain the dining environment to save costs, which may results in more potential food safety problems. In the areas with more minority people, the restaurants may tend to earn more by reducing the costs, and even there is any health problem caused, the minority customers may not successfully let the restaurants give any compensation, so the restaurants care less about the consequences of violating the food inspection rules."
   ]
  },
  {
   "cell_type": "markdown",
   "metadata": {},
   "source": [
    "## Data Sets"
   ]
  },
  {
   "cell_type": "markdown",
   "metadata": {},
   "source": [
    "The data sets I used are below:\n",
    "1. inspections: the results of the health inspections of the restaurants in the Wake county, including date of inspection, id of the results, the food safety score, the number of critical problems, etc. It has a total of 18466 observations, but I only used each restaurants' most recent inspection result.\n",
    "2. violations: the violations observed during the health inspections each time in the Wake County, including the type of violation, the severity, etc. It has a total of 185721 observations, but I only keep each restaurants' most recent inspection result.\n",
    "3. zipcodes: the information of people in each area, separated by zip codes, including the average household income, the poverty level, the non-white population percentage, etc. It has a total of 38 observations, representing 38 areas' information based on the zip codes."
   ]
  },
  {
   "cell_type": "markdown",
   "metadata": {},
   "source": [
    "## Data cleaning"
   ]
  },
  {
   "cell_type": "markdown",
   "metadata": {},
   "source": [
    "### Preparations"
   ]
  },
  {
   "cell_type": "markdown",
   "metadata": {},
   "source": [
    "#### Import packages"
   ]
  },
  {
   "cell_type": "code",
   "execution_count": 1,
   "metadata": {},
   "outputs": [],
   "source": [
    "## Data Sets\n",
    "\n",
    "# Imports - these are all the imports needed for the assignment\n",
    "%matplotlib inline\n",
    "\n",
    "import numpy as np\n",
    "import pandas as pd\n",
    "import matplotlib.pyplot as plt\n",
    "import seaborn as sns\n",
    "\n",
    "import warnings\n",
    "warnings.filterwarnings('ignore')\n",
    "\n",
    "import patsy\n",
    "import statsmodels.api as sm\n",
    "import scipy.stats as stats\n",
    "from scipy.stats import ttest_ind, chisquare, normaltest\n",
    "# Note: the statsmodels import may print out a 'FutureWarning'. Thats fine."
   ]
  },
  {
   "cell_type": "markdown",
   "metadata": {},
   "source": [
    "#### Import data"
   ]
  },
  {
   "cell_type": "code",
   "execution_count": 2,
   "metadata": {},
   "outputs": [],
   "source": [
    "df_inspections = pd.read_csv(\"inspections.csv\",dtype={'postalcode': object})\n",
    "df_violations = pd.read_csv(\"violations.csv\",dtype={'statecode': object})\n",
    "df_zipcodes = pd.read_csv(\"zipcodes.csv\",dtype={'zip': object})"
   ]
  },
  {
   "cell_type": "code",
   "execution_count": 3,
   "metadata": {},
   "outputs": [],
   "source": [
    "df_inspections = df_inspections[['hsisid','name','city','days_from_open_date','facilitytype','description','inspection_num','score','num_critical','num_non_critical','critical','postalcode']]\n",
    "df_inspections = df_inspections.rename({'postalcode':'zip'},axis = 'columns')"
   ]
  },
  {
   "cell_type": "code",
   "execution_count": 4,
   "metadata": {},
   "outputs": [],
   "source": [
    "df_inspections = df_inspections.dropna(subset=['zip','hsisid'])\n",
    "df_zipcodes = df_zipcodes.dropna(subset=['zip'])\n",
    "df_violations = df_violations.dropna(subset=['hsisid'])"
   ]
  },
  {
   "cell_type": "markdown",
   "metadata": {},
   "source": [
    "To have a better look, we need to clean up the data and merge them. As we have three different hypothesis, we will do them separately"
   ]
  },
  {
   "cell_type": "markdown",
   "metadata": {},
   "source": [
    "### Cleaning up and merging data"
   ]
  },
  {
   "cell_type": "markdown",
   "metadata": {},
   "source": [
    "As the zipcodes have different length, and we would like to separate only by the first five digits, we will standardize the zip code for all files first."
   ]
  },
  {
   "cell_type": "code",
   "execution_count": 5,
   "metadata": {},
   "outputs": [],
   "source": [
    "def standardized_zipcode(string) :\n",
    "    string = string.lower()\n",
    "    string = string.lower()\n",
    "    \n",
    "    output = string[:5]\n",
    "    \n",
    "    return output"
   ]
  },
  {
   "cell_type": "code",
   "execution_count": 6,
   "metadata": {},
   "outputs": [],
   "source": [
    "df_inspections['zip'] = df_inspections['zip'].apply(standardized_zipcode)\n",
    "df_zipcodes['zip'] = df_zipcodes['zip'].apply(standardized_zipcode)"
   ]
  },
  {
   "cell_type": "markdown",
   "metadata": {},
   "source": [
    "#### Match the information of area by zipcodes to the restaurants"
   ]
  },
  {
   "cell_type": "code",
   "execution_count": 7,
   "metadata": {},
   "outputs": [
    {
     "data": {
      "text/plain": [
       "(38, 8)"
      ]
     },
     "execution_count": 7,
     "metadata": {},
     "output_type": "execute_result"
    }
   ],
   "source": [
    "df_zipcodes.shape"
   ]
  },
  {
   "cell_type": "markdown",
   "metadata": {},
   "source": [
    "Convert the average income to log10, to better see the distribution."
   ]
  },
  {
   "cell_type": "code",
   "execution_count": 8,
   "metadata": {},
   "outputs": [],
   "source": [
    "df_zipcodes = df_zipcodes.assign(income10 = np.log10(df_zipcodes['per_capita_income_dollars']))"
   ]
  },
  {
   "cell_type": "code",
   "execution_count": 9,
   "metadata": {
    "scrolled": true
   },
   "outputs": [
    {
     "data": {
      "text/html": [
       "<div>\n",
       "<style scoped>\n",
       "    .dataframe tbody tr th:only-of-type {\n",
       "        vertical-align: middle;\n",
       "    }\n",
       "\n",
       "    .dataframe tbody tr th {\n",
       "        vertical-align: top;\n",
       "    }\n",
       "\n",
       "    .dataframe thead th {\n",
       "        text-align: right;\n",
       "    }\n",
       "</style>\n",
       "<table border=\"1\" class=\"dataframe\">\n",
       "  <thead>\n",
       "    <tr style=\"text-align: right;\">\n",
       "      <th></th>\n",
       "      <th>zip</th>\n",
       "      <th>median_family_income_dollars</th>\n",
       "      <th>median_household_income_dollars</th>\n",
       "      <th>per_capita_income_dollars</th>\n",
       "      <th>percent_damilies_below_poverty_line</th>\n",
       "      <th>percent_snap_benefits</th>\n",
       "      <th>percent_supplemental_security_income</th>\n",
       "      <th>percent_nonwhite</th>\n",
       "      <th>income10</th>\n",
       "    </tr>\n",
       "  </thead>\n",
       "  <tbody>\n",
       "    <tr>\n",
       "      <th>0</th>\n",
       "      <td>27501</td>\n",
       "      <td>59408</td>\n",
       "      <td>51121</td>\n",
       "      <td>21631</td>\n",
       "      <td>10.5</td>\n",
       "      <td>15.5</td>\n",
       "      <td>5.2</td>\n",
       "      <td>17.9</td>\n",
       "      <td>4.335077</td>\n",
       "    </tr>\n",
       "    <tr>\n",
       "      <th>1</th>\n",
       "      <td>27502</td>\n",
       "      <td>109891</td>\n",
       "      <td>95857</td>\n",
       "      <td>36763</td>\n",
       "      <td>3.4</td>\n",
       "      <td>2.4</td>\n",
       "      <td>0.8</td>\n",
       "      <td>18.9</td>\n",
       "      <td>4.565411</td>\n",
       "    </tr>\n",
       "    <tr>\n",
       "      <th>2</th>\n",
       "      <td>27511</td>\n",
       "      <td>82292</td>\n",
       "      <td>67392</td>\n",
       "      <td>33139</td>\n",
       "      <td>9.6</td>\n",
       "      <td>4.5</td>\n",
       "      <td>2.2</td>\n",
       "      <td>24.8</td>\n",
       "      <td>4.520339</td>\n",
       "    </tr>\n",
       "    <tr>\n",
       "      <th>3</th>\n",
       "      <td>27513</td>\n",
       "      <td>109736</td>\n",
       "      <td>87262</td>\n",
       "      <td>41232</td>\n",
       "      <td>3.8</td>\n",
       "      <td>2.4</td>\n",
       "      <td>1.5</td>\n",
       "      <td>27.8</td>\n",
       "      <td>4.615234</td>\n",
       "    </tr>\n",
       "    <tr>\n",
       "      <th>4</th>\n",
       "      <td>27518</td>\n",
       "      <td>125432</td>\n",
       "      <td>98247</td>\n",
       "      <td>49865</td>\n",
       "      <td>5.5</td>\n",
       "      <td>1.0</td>\n",
       "      <td>1.7</td>\n",
       "      <td>19.9</td>\n",
       "      <td>4.697796</td>\n",
       "    </tr>\n",
       "  </tbody>\n",
       "</table>\n",
       "</div>"
      ],
      "text/plain": [
       "     zip  median_family_income_dollars  median_household_income_dollars  \\\n",
       "0  27501                         59408                            51121   \n",
       "1  27502                        109891                            95857   \n",
       "2  27511                         82292                            67392   \n",
       "3  27513                        109736                            87262   \n",
       "4  27518                        125432                            98247   \n",
       "\n",
       "   per_capita_income_dollars  percent_damilies_below_poverty_line  \\\n",
       "0                      21631                                 10.5   \n",
       "1                      36763                                  3.4   \n",
       "2                      33139                                  9.6   \n",
       "3                      41232                                  3.8   \n",
       "4                      49865                                  5.5   \n",
       "\n",
       "   percent_snap_benefits  percent_supplemental_security_income  \\\n",
       "0                   15.5                                   5.2   \n",
       "1                    2.4                                   0.8   \n",
       "2                    4.5                                   2.2   \n",
       "3                    2.4                                   1.5   \n",
       "4                    1.0                                   1.7   \n",
       "\n",
       "   percent_nonwhite  income10  \n",
       "0              17.9  4.335077  \n",
       "1              18.9  4.565411  \n",
       "2              24.8  4.520339  \n",
       "3              27.8  4.615234  \n",
       "4              19.9  4.697796  "
      ]
     },
     "execution_count": 9,
     "metadata": {},
     "output_type": "execute_result"
    }
   ],
   "source": [
    "df_zipcodes.head()"
   ]
  },
  {
   "cell_type": "markdown",
   "metadata": {},
   "source": [
    "There are multiple inspection result in the data sets, but we will keep the most recent result."
   ]
  },
  {
   "cell_type": "markdown",
   "metadata": {},
   "source": [
    "Choosing the most recent inspection result by the open date for \"inspection\" file."
   ]
  },
  {
   "cell_type": "code",
   "execution_count": 10,
   "metadata": {},
   "outputs": [],
   "source": [
    "df_inspections['count_max'] = df_inspections.groupby('hsisid')['days_from_open_date'].transform(max)\n",
    "df_inspections = df_inspections[df_inspections['days_from_open_date'] == df_inspections['count_max']]"
   ]
  },
  {
   "cell_type": "markdown",
   "metadata": {},
   "source": [
    "Choosing the most recent inspection result by the open date for \"violations\" file."
   ]
  },
  {
   "cell_type": "code",
   "execution_count": 11,
   "metadata": {
    "scrolled": true
   },
   "outputs": [
    {
     "data": {
      "text/html": [
       "<div>\n",
       "<style scoped>\n",
       "    .dataframe tbody tr th:only-of-type {\n",
       "        vertical-align: middle;\n",
       "    }\n",
       "\n",
       "    .dataframe tbody tr th {\n",
       "        vertical-align: top;\n",
       "    }\n",
       "\n",
       "    .dataframe thead th {\n",
       "        text-align: right;\n",
       "    }\n",
       "</style>\n",
       "<table border=\"1\" class=\"dataframe\">\n",
       "  <thead>\n",
       "    <tr style=\"text-align: right;\">\n",
       "      <th></th>\n",
       "      <th>X.objectid</th>\n",
       "      <th>hsisid</th>\n",
       "      <th>inspectdate</th>\n",
       "      <th>category</th>\n",
       "      <th>statecode</th>\n",
       "      <th>critical</th>\n",
       "      <th>questionno</th>\n",
       "      <th>violationcode</th>\n",
       "      <th>severity</th>\n",
       "      <th>shortdesc</th>\n",
       "      <th>inspectedby</th>\n",
       "      <th>comments</th>\n",
       "      <th>pointvalue</th>\n",
       "      <th>observationtype</th>\n",
       "      <th>violationtype</th>\n",
       "      <th>count</th>\n",
       "      <th>cdcriskfactor</th>\n",
       "      <th>cdcdataitem</th>\n",
       "    </tr>\n",
       "  </thead>\n",
       "  <tbody>\n",
       "    <tr>\n",
       "      <th>0</th>\n",
       "      <td>2149</td>\n",
       "      <td>4092015279</td>\n",
       "      <td>2014-09-22T00:00:00.000Z</td>\n",
       "      <td>Chemical</td>\n",
       "      <td>.2653,.2657</td>\n",
       "      <td>Yes</td>\n",
       "      <td>26</td>\n",
       "      <td>7-102.11</td>\n",
       "      <td>Priority Foundation</td>\n",
       "      <td>Toxic substances properly identified, stored, ...</td>\n",
       "      <td>Lucy Schrum</td>\n",
       "      <td>7-102.11; Priority Foundation - Found unlabele...</td>\n",
       "      <td>0</td>\n",
       "      <td>Out</td>\n",
       "      <td>R</td>\n",
       "      <td>NaN</td>\n",
       "      <td>NaN</td>\n",
       "      <td>NaN</td>\n",
       "    </tr>\n",
       "    <tr>\n",
       "      <th>1</th>\n",
       "      <td>2150</td>\n",
       "      <td>4092014572</td>\n",
       "      <td>2014-09-29T00:00:00.000Z</td>\n",
       "      <td>Chemical</td>\n",
       "      <td>.2653,.2657</td>\n",
       "      <td>Yes</td>\n",
       "      <td>26</td>\n",
       "      <td>7-102.11</td>\n",
       "      <td>Priority Foundation</td>\n",
       "      <td>Toxic substances properly identified, stored, ...</td>\n",
       "      <td>Daryl Beasley</td>\n",
       "      <td>7-102.11; Priority Foundation; One sanitizer b...</td>\n",
       "      <td>0</td>\n",
       "      <td>Out</td>\n",
       "      <td>CDI</td>\n",
       "      <td>NaN</td>\n",
       "      <td>NaN</td>\n",
       "      <td>NaN</td>\n",
       "    </tr>\n",
       "    <tr>\n",
       "      <th>2</th>\n",
       "      <td>2151</td>\n",
       "      <td>4092015906</td>\n",
       "      <td>2014-10-01T00:00:00.000Z</td>\n",
       "      <td>Chemical</td>\n",
       "      <td>.2653,.2657</td>\n",
       "      <td>Yes</td>\n",
       "      <td>26</td>\n",
       "      <td>7-102.11</td>\n",
       "      <td>Priority Foundation</td>\n",
       "      <td>Toxic substances properly identified, stored, ...</td>\n",
       "      <td>Lucy Schrum</td>\n",
       "      <td>7-102.11; Priority Foundation - Found an unlab...</td>\n",
       "      <td>1</td>\n",
       "      <td>Out</td>\n",
       "      <td>CDI</td>\n",
       "      <td>NaN</td>\n",
       "      <td>NaN</td>\n",
       "      <td>NaN</td>\n",
       "    </tr>\n",
       "    <tr>\n",
       "      <th>3</th>\n",
       "      <td>2152</td>\n",
       "      <td>4092013840</td>\n",
       "      <td>2014-10-08T00:00:00.000Z</td>\n",
       "      <td>Chemical</td>\n",
       "      <td>.2653,.2657</td>\n",
       "      <td>Yes</td>\n",
       "      <td>26</td>\n",
       "      <td>7-102.11</td>\n",
       "      <td>Priority Foundation</td>\n",
       "      <td>Toxic substances properly identified, stored, ...</td>\n",
       "      <td>Lucy Schrum</td>\n",
       "      <td>7-102.11; Priority Foundation - Found unlabele...</td>\n",
       "      <td>0</td>\n",
       "      <td>Out</td>\n",
       "      <td>CDI</td>\n",
       "      <td>NaN</td>\n",
       "      <td>NaN</td>\n",
       "      <td>NaN</td>\n",
       "    </tr>\n",
       "    <tr>\n",
       "      <th>4</th>\n",
       "      <td>2153</td>\n",
       "      <td>4092021788</td>\n",
       "      <td>2014-10-09T00:00:00.000Z</td>\n",
       "      <td>Chemical</td>\n",
       "      <td>.2653,.2657</td>\n",
       "      <td>Yes</td>\n",
       "      <td>26</td>\n",
       "      <td>7-102.11</td>\n",
       "      <td>Priority Foundation</td>\n",
       "      <td>Toxic substances properly identified, stored, ...</td>\n",
       "      <td>Lucy Schrum</td>\n",
       "      <td>7-102.11; Priority Foundation - Found one unla...</td>\n",
       "      <td>0</td>\n",
       "      <td>Out</td>\n",
       "      <td>CDI</td>\n",
       "      <td>NaN</td>\n",
       "      <td>NaN</td>\n",
       "      <td>NaN</td>\n",
       "    </tr>\n",
       "  </tbody>\n",
       "</table>\n",
       "</div>"
      ],
      "text/plain": [
       "   X.objectid      hsisid               inspectdate  category    statecode  \\\n",
       "0        2149  4092015279  2014-09-22T00:00:00.000Z  Chemical  .2653,.2657   \n",
       "1        2150  4092014572  2014-09-29T00:00:00.000Z  Chemical  .2653,.2657   \n",
       "2        2151  4092015906  2014-10-01T00:00:00.000Z  Chemical  .2653,.2657   \n",
       "3        2152  4092013840  2014-10-08T00:00:00.000Z  Chemical  .2653,.2657   \n",
       "4        2153  4092021788  2014-10-09T00:00:00.000Z  Chemical  .2653,.2657   \n",
       "\n",
       "  critical  questionno violationcode             severity  \\\n",
       "0      Yes          26      7-102.11  Priority Foundation   \n",
       "1      Yes          26      7-102.11  Priority Foundation   \n",
       "2      Yes          26      7-102.11  Priority Foundation   \n",
       "3      Yes          26      7-102.11  Priority Foundation   \n",
       "4      Yes          26      7-102.11  Priority Foundation   \n",
       "\n",
       "                                           shortdesc    inspectedby  \\\n",
       "0  Toxic substances properly identified, stored, ...    Lucy Schrum   \n",
       "1  Toxic substances properly identified, stored, ...  Daryl Beasley   \n",
       "2  Toxic substances properly identified, stored, ...    Lucy Schrum   \n",
       "3  Toxic substances properly identified, stored, ...    Lucy Schrum   \n",
       "4  Toxic substances properly identified, stored, ...    Lucy Schrum   \n",
       "\n",
       "                                            comments  pointvalue  \\\n",
       "0  7-102.11; Priority Foundation - Found unlabele...           0   \n",
       "1  7-102.11; Priority Foundation; One sanitizer b...           0   \n",
       "2  7-102.11; Priority Foundation - Found an unlab...           1   \n",
       "3  7-102.11; Priority Foundation - Found unlabele...           0   \n",
       "4  7-102.11; Priority Foundation - Found one unla...           0   \n",
       "\n",
       "  observationtype violationtype  count cdcriskfactor cdcdataitem  \n",
       "0             Out             R    NaN           NaN         NaN  \n",
       "1             Out           CDI    NaN           NaN         NaN  \n",
       "2             Out           CDI    NaN           NaN         NaN  \n",
       "3             Out           CDI    NaN           NaN         NaN  \n",
       "4             Out           CDI    NaN           NaN         NaN  "
      ]
     },
     "execution_count": 11,
     "metadata": {},
     "output_type": "execute_result"
    }
   ],
   "source": [
    "df_violations.head()"
   ]
  },
  {
   "cell_type": "markdown",
   "metadata": {},
   "source": [
    "##### Stanadardization of the inspection date"
   ]
  },
  {
   "cell_type": "markdown",
   "metadata": {},
   "source": [
    "By looking into the data, the inspection take place once a year, so we will keep only the year for the inspection date."
   ]
  },
  {
   "cell_type": "code",
   "execution_count": 12,
   "metadata": {},
   "outputs": [],
   "source": [
    "def standardized_inspectdate(string) :\n",
    "    string = string.lower()\n",
    "    string = string.lower()\n",
    "    \n",
    "    output = string[:4]\n",
    "    \n",
    "    return output"
   ]
  },
  {
   "cell_type": "markdown",
   "metadata": {},
   "source": [
    "Apply the function and keep the most recent inspection results"
   ]
  },
  {
   "cell_type": "code",
   "execution_count": 13,
   "metadata": {},
   "outputs": [
    {
     "data": {
      "text/plain": [
       "(48299, 19)"
      ]
     },
     "execution_count": 13,
     "metadata": {},
     "output_type": "execute_result"
    }
   ],
   "source": [
    "df_violations['inspectdate'] = df_violations['inspectdate'].apply(standardized_inspectdate)\n",
    "df_violations['mostrecent'] = df_violations.groupby('hsisid')['inspectdate'].transform(max)\n",
    "df_violations = df_violations[df_violations['inspectdate'] == df_violations['mostrecent']]\n",
    "df_violations = df_violations.sort_values(by = ['hsisid'])\n",
    "df_violations.shape"
   ]
  },
  {
   "cell_type": "code",
   "execution_count": 14,
   "metadata": {},
   "outputs": [
    {
     "data": {
      "text/html": [
       "<div>\n",
       "<style scoped>\n",
       "    .dataframe tbody tr th:only-of-type {\n",
       "        vertical-align: middle;\n",
       "    }\n",
       "\n",
       "    .dataframe tbody tr th {\n",
       "        vertical-align: top;\n",
       "    }\n",
       "\n",
       "    .dataframe thead th {\n",
       "        text-align: right;\n",
       "    }\n",
       "</style>\n",
       "<table border=\"1\" class=\"dataframe\">\n",
       "  <thead>\n",
       "    <tr style=\"text-align: right;\">\n",
       "      <th></th>\n",
       "      <th>X.objectid</th>\n",
       "      <th>hsisid</th>\n",
       "      <th>inspectdate</th>\n",
       "      <th>category</th>\n",
       "      <th>statecode</th>\n",
       "      <th>critical</th>\n",
       "      <th>questionno</th>\n",
       "      <th>violationcode</th>\n",
       "      <th>severity</th>\n",
       "      <th>shortdesc</th>\n",
       "      <th>inspectedby</th>\n",
       "      <th>comments</th>\n",
       "      <th>pointvalue</th>\n",
       "      <th>observationtype</th>\n",
       "      <th>violationtype</th>\n",
       "      <th>count</th>\n",
       "      <th>cdcriskfactor</th>\n",
       "      <th>cdcdataitem</th>\n",
       "      <th>mostrecent</th>\n",
       "    </tr>\n",
       "  </thead>\n",
       "  <tbody>\n",
       "    <tr>\n",
       "      <th>150930</th>\n",
       "      <td>152377</td>\n",
       "      <td>4092010018</td>\n",
       "      <td>2016</td>\n",
       "      <td>Physical Facilities</td>\n",
       "      <td>.2654,.2655,.2656</td>\n",
       "      <td>No</td>\n",
       "      <td>52</td>\n",
       "      <td>5-501.16</td>\n",
       "      <td>Core</td>\n",
       "      <td>Garbage &amp; refuse properly disposed; facilities...</td>\n",
       "      <td>Angela Myers</td>\n",
       "      <td>5-501.16; Handwashing Sinks lack trash can. If...</td>\n",
       "      <td>1</td>\n",
       "      <td>Out</td>\n",
       "      <td>R</td>\n",
       "      <td>NaN</td>\n",
       "      <td>NaN</td>\n",
       "      <td>NaN</td>\n",
       "      <td>2016</td>\n",
       "    </tr>\n",
       "    <tr>\n",
       "      <th>168520</th>\n",
       "      <td>170928</td>\n",
       "      <td>4092010018</td>\n",
       "      <td>2016</td>\n",
       "      <td>Prevention of Food Contamination</td>\n",
       "      <td>.2652,.2653,.2654,.2656,.2657</td>\n",
       "      <td>No</td>\n",
       "      <td>40</td>\n",
       "      <td>3-302.15</td>\n",
       "      <td>Core</td>\n",
       "      <td>Washing fruits &amp; vegetables</td>\n",
       "      <td>Angela Myers</td>\n",
       "      <td>3-302.15; Unwashed Fruit is stored in two diff...</td>\n",
       "      <td>0</td>\n",
       "      <td>Out</td>\n",
       "      <td>NaN</td>\n",
       "      <td>NaN</td>\n",
       "      <td>NaN</td>\n",
       "      <td>NaN</td>\n",
       "      <td>2016</td>\n",
       "    </tr>\n",
       "    <tr>\n",
       "      <th>188305</th>\n",
       "      <td>659</td>\n",
       "      <td>4092010018</td>\n",
       "      <td>2016</td>\n",
       "      <td>Approved Source</td>\n",
       "      <td>.2653,.2655</td>\n",
       "      <td>Yes</td>\n",
       "      <td>12</td>\n",
       "      <td>3-203.12</td>\n",
       "      <td>Priority Foundation</td>\n",
       "      <td>Required records available: shellstock tags, p...</td>\n",
       "      <td>Angela Myers</td>\n",
       "      <td>3-203.12; When the last shellstock is removed ...</td>\n",
       "      <td>0</td>\n",
       "      <td>In</td>\n",
       "      <td>NaN</td>\n",
       "      <td>NaN</td>\n",
       "      <td>Food from Unsafe Source</td>\n",
       "      <td>Records</td>\n",
       "      <td>2016</td>\n",
       "    </tr>\n",
       "    <tr>\n",
       "      <th>109095</th>\n",
       "      <td>112512</td>\n",
       "      <td>4092010018</td>\n",
       "      <td>2016</td>\n",
       "      <td>Protection from Contamination</td>\n",
       "      <td>.2653,.2654</td>\n",
       "      <td>Yes</td>\n",
       "      <td>13</td>\n",
       "      <td>3-302.11</td>\n",
       "      <td>Priority</td>\n",
       "      <td>Food separated &amp; protected</td>\n",
       "      <td>Angela Myers</td>\n",
       "      <td>3-302.11; Priority; Inside of the seafood walk...</td>\n",
       "      <td>1</td>\n",
       "      <td>Out</td>\n",
       "      <td>NaN</td>\n",
       "      <td>NaN</td>\n",
       "      <td>Contaminated Equipment</td>\n",
       "      <td>Separation/Segregation/Protection</td>\n",
       "      <td>2016</td>\n",
       "    </tr>\n",
       "    <tr>\n",
       "      <th>34167</th>\n",
       "      <td>35416</td>\n",
       "      <td>4092010018</td>\n",
       "      <td>2016</td>\n",
       "      <td>Physical Facilities</td>\n",
       "      <td>.2654,.2655,.2656</td>\n",
       "      <td>No</td>\n",
       "      <td>53</td>\n",
       "      <td>6-501.11</td>\n",
       "      <td>Core</td>\n",
       "      <td>Physical facilities installed, maintained &amp; clean</td>\n",
       "      <td>Angela Myers</td>\n",
       "      <td>6-501.11; Several Walls are damaged, not in go...</td>\n",
       "      <td>0</td>\n",
       "      <td>Out</td>\n",
       "      <td>NaN</td>\n",
       "      <td>NaN</td>\n",
       "      <td>NaN</td>\n",
       "      <td>NaN</td>\n",
       "      <td>2016</td>\n",
       "    </tr>\n",
       "  </tbody>\n",
       "</table>\n",
       "</div>"
      ],
      "text/plain": [
       "        X.objectid      hsisid inspectdate                          category  \\\n",
       "150930      152377  4092010018        2016               Physical Facilities   \n",
       "168520      170928  4092010018        2016  Prevention of Food Contamination   \n",
       "188305         659  4092010018        2016                   Approved Source   \n",
       "109095      112512  4092010018        2016     Protection from Contamination   \n",
       "34167        35416  4092010018        2016               Physical Facilities   \n",
       "\n",
       "                            statecode critical  questionno violationcode  \\\n",
       "150930              .2654,.2655,.2656       No          52      5-501.16   \n",
       "168520  .2652,.2653,.2654,.2656,.2657       No          40      3-302.15   \n",
       "188305                    .2653,.2655      Yes          12      3-203.12   \n",
       "109095                    .2653,.2654      Yes          13      3-302.11   \n",
       "34167               .2654,.2655,.2656       No          53      6-501.11   \n",
       "\n",
       "                   severity  \\\n",
       "150930                 Core   \n",
       "168520                 Core   \n",
       "188305  Priority Foundation   \n",
       "109095             Priority   \n",
       "34167                  Core   \n",
       "\n",
       "                                                shortdesc   inspectedby  \\\n",
       "150930  Garbage & refuse properly disposed; facilities...  Angela Myers   \n",
       "168520                        Washing fruits & vegetables  Angela Myers   \n",
       "188305  Required records available: shellstock tags, p...  Angela Myers   \n",
       "109095                         Food separated & protected  Angela Myers   \n",
       "34167   Physical facilities installed, maintained & clean  Angela Myers   \n",
       "\n",
       "                                                 comments  pointvalue  \\\n",
       "150930  5-501.16; Handwashing Sinks lack trash can. If...           1   \n",
       "168520  3-302.15; Unwashed Fruit is stored in two diff...           0   \n",
       "188305  3-203.12; When the last shellstock is removed ...           0   \n",
       "109095  3-302.11; Priority; Inside of the seafood walk...           1   \n",
       "34167   6-501.11; Several Walls are damaged, not in go...           0   \n",
       "\n",
       "       observationtype violationtype  count            cdcriskfactor  \\\n",
       "150930             Out             R    NaN                      NaN   \n",
       "168520             Out           NaN    NaN                      NaN   \n",
       "188305              In           NaN    NaN  Food from Unsafe Source   \n",
       "109095             Out           NaN    NaN   Contaminated Equipment   \n",
       "34167              Out           NaN    NaN                      NaN   \n",
       "\n",
       "                              cdcdataitem mostrecent  \n",
       "150930                                NaN       2016  \n",
       "168520                                NaN       2016  \n",
       "188305                            Records       2016  \n",
       "109095  Separation/Segregation/Protection       2016  \n",
       "34167                                 NaN       2016  "
      ]
     },
     "execution_count": 14,
     "metadata": {},
     "output_type": "execute_result"
    }
   ],
   "source": [
    "df_violations.head()"
   ]
  },
  {
   "cell_type": "markdown",
   "metadata": {},
   "source": [
    "Count how many violations are observed in the most recent inspection, and save them as \"countbyhsisid\" dataframe"
   ]
  },
  {
   "cell_type": "code",
   "execution_count": 15,
   "metadata": {},
   "outputs": [
    {
     "data": {
      "text/plain": [
       "(4270, 2)"
      ]
     },
     "execution_count": 15,
     "metadata": {},
     "output_type": "execute_result"
    }
   ],
   "source": [
    "countbyhsisid = df_violations['hsisid'].value_counts(dropna=True, sort=True).to_frame()\n",
    "countbyhsisid['index1'] = countbyhsisid.index\n",
    "countbyhsisid.columns = (['violationcount','hsisid'])\n",
    "countbyhsisid.shape"
   ]
  },
  {
   "cell_type": "code",
   "execution_count": 16,
   "metadata": {},
   "outputs": [
    {
     "data": {
      "text/html": [
       "<div>\n",
       "<style scoped>\n",
       "    .dataframe tbody tr th:only-of-type {\n",
       "        vertical-align: middle;\n",
       "    }\n",
       "\n",
       "    .dataframe tbody tr th {\n",
       "        vertical-align: top;\n",
       "    }\n",
       "\n",
       "    .dataframe thead th {\n",
       "        text-align: right;\n",
       "    }\n",
       "</style>\n",
       "<table border=\"1\" class=\"dataframe\">\n",
       "  <thead>\n",
       "    <tr style=\"text-align: right;\">\n",
       "      <th></th>\n",
       "      <th>violationcount</th>\n",
       "      <th>hsisid</th>\n",
       "    </tr>\n",
       "  </thead>\n",
       "  <tbody>\n",
       "    <tr>\n",
       "      <th>4092015939</th>\n",
       "      <td>118</td>\n",
       "      <td>4092015939</td>\n",
       "    </tr>\n",
       "    <tr>\n",
       "      <th>4092016852</th>\n",
       "      <td>76</td>\n",
       "      <td>4092016852</td>\n",
       "    </tr>\n",
       "    <tr>\n",
       "      <th>4092015453</th>\n",
       "      <td>74</td>\n",
       "      <td>4092015453</td>\n",
       "    </tr>\n",
       "    <tr>\n",
       "      <th>4092013892</th>\n",
       "      <td>69</td>\n",
       "      <td>4092013892</td>\n",
       "    </tr>\n",
       "    <tr>\n",
       "      <th>4092015279</th>\n",
       "      <td>68</td>\n",
       "      <td>4092015279</td>\n",
       "    </tr>\n",
       "  </tbody>\n",
       "</table>\n",
       "</div>"
      ],
      "text/plain": [
       "            violationcount      hsisid\n",
       "4092015939             118  4092015939\n",
       "4092016852              76  4092016852\n",
       "4092015453              74  4092015453\n",
       "4092013892              69  4092013892\n",
       "4092015279              68  4092015279"
      ]
     },
     "execution_count": 16,
     "metadata": {},
     "output_type": "execute_result"
    }
   ],
   "source": [
    "countbyhsisid.head()"
   ]
  },
  {
   "cell_type": "markdown",
   "metadata": {},
   "source": [
    "##### Merge the violation count to df_inspections"
   ]
  },
  {
   "cell_type": "code",
   "execution_count": 17,
   "metadata": {},
   "outputs": [],
   "source": [
    "df_inspections = pd.merge(df_inspections, countbyhsisid,on = ['hsisid'])"
   ]
  },
  {
   "cell_type": "markdown",
   "metadata": {},
   "source": [
    "##### Merge the area information by zip codes with df_inspections, save as \"df\""
   ]
  },
  {
   "cell_type": "code",
   "execution_count": 18,
   "metadata": {},
   "outputs": [
    {
     "data": {
      "text/plain": [
       "(3015, 22)"
      ]
     },
     "execution_count": 18,
     "metadata": {},
     "output_type": "execute_result"
    }
   ],
   "source": [
    "df = pd.merge(df_inspections, df_zipcodes,on = ['zip'])\n",
    "df.shape"
   ]
  },
  {
   "cell_type": "markdown",
   "metadata": {},
   "source": [
    "##### Drop the columns we don't need and rename the columns for better view."
   ]
  },
  {
   "cell_type": "code",
   "execution_count": 19,
   "metadata": {},
   "outputs": [
    {
     "data": {
      "text/html": [
       "<div>\n",
       "<style scoped>\n",
       "    .dataframe tbody tr th:only-of-type {\n",
       "        vertical-align: middle;\n",
       "    }\n",
       "\n",
       "    .dataframe tbody tr th {\n",
       "        vertical-align: top;\n",
       "    }\n",
       "\n",
       "    .dataframe thead th {\n",
       "        text-align: right;\n",
       "    }\n",
       "</style>\n",
       "<table border=\"1\" class=\"dataframe\">\n",
       "  <thead>\n",
       "    <tr style=\"text-align: right;\">\n",
       "      <th></th>\n",
       "      <th>index</th>\n",
       "      <th>hsisid</th>\n",
       "      <th>open_days</th>\n",
       "      <th>score</th>\n",
       "      <th>zip</th>\n",
       "      <th>violationcount</th>\n",
       "      <th>capita_income</th>\n",
       "      <th>poverty_percent</th>\n",
       "      <th>snap</th>\n",
       "      <th>SSI</th>\n",
       "      <th>minority_percent</th>\n",
       "      <th>income10</th>\n",
       "    </tr>\n",
       "  </thead>\n",
       "  <tbody>\n",
       "    <tr>\n",
       "      <th>0</th>\n",
       "      <td>800</td>\n",
       "      <td>4092010024</td>\n",
       "      <td>9036</td>\n",
       "      <td>96.0</td>\n",
       "      <td>27607</td>\n",
       "      <td>11</td>\n",
       "      <td>26007</td>\n",
       "      <td>12.8</td>\n",
       "      <td>8.8</td>\n",
       "      <td>3.9</td>\n",
       "      <td>25.0</td>\n",
       "      <td>4.415090</td>\n",
       "    </tr>\n",
       "    <tr>\n",
       "      <th>1</th>\n",
       "      <td>2162</td>\n",
       "      <td>4092010031</td>\n",
       "      <td>9255</td>\n",
       "      <td>96.5</td>\n",
       "      <td>27604</td>\n",
       "      <td>4</td>\n",
       "      <td>25532</td>\n",
       "      <td>14.4</td>\n",
       "      <td>10.2</td>\n",
       "      <td>3.8</td>\n",
       "      <td>41.3</td>\n",
       "      <td>4.407085</td>\n",
       "    </tr>\n",
       "    <tr>\n",
       "      <th>2</th>\n",
       "      <td>1401</td>\n",
       "      <td>4092010035</td>\n",
       "      <td>8786</td>\n",
       "      <td>92.5</td>\n",
       "      <td>27511</td>\n",
       "      <td>5</td>\n",
       "      <td>33139</td>\n",
       "      <td>9.6</td>\n",
       "      <td>4.5</td>\n",
       "      <td>2.2</td>\n",
       "      <td>24.8</td>\n",
       "      <td>4.520339</td>\n",
       "    </tr>\n",
       "    <tr>\n",
       "      <th>3</th>\n",
       "      <td>2035</td>\n",
       "      <td>4092010037</td>\n",
       "      <td>9097</td>\n",
       "      <td>96.5</td>\n",
       "      <td>27591</td>\n",
       "      <td>6</td>\n",
       "      <td>24239</td>\n",
       "      <td>10.1</td>\n",
       "      <td>12.9</td>\n",
       "      <td>3.0</td>\n",
       "      <td>32.8</td>\n",
       "      <td>4.384515</td>\n",
       "    </tr>\n",
       "    <tr>\n",
       "      <th>4</th>\n",
       "      <td>2093</td>\n",
       "      <td>4092010046</td>\n",
       "      <td>9113</td>\n",
       "      <td>96.0</td>\n",
       "      <td>27604</td>\n",
       "      <td>9</td>\n",
       "      <td>25532</td>\n",
       "      <td>14.4</td>\n",
       "      <td>10.2</td>\n",
       "      <td>3.8</td>\n",
       "      <td>41.3</td>\n",
       "      <td>4.407085</td>\n",
       "    </tr>\n",
       "  </tbody>\n",
       "</table>\n",
       "</div>"
      ],
      "text/plain": [
       "   index      hsisid  open_days  score    zip  violationcount  capita_income  \\\n",
       "0    800  4092010024       9036   96.0  27607              11          26007   \n",
       "1   2162  4092010031       9255   96.5  27604               4          25532   \n",
       "2   1401  4092010035       8786   92.5  27511               5          33139   \n",
       "3   2035  4092010037       9097   96.5  27591               6          24239   \n",
       "4   2093  4092010046       9113   96.0  27604               9          25532   \n",
       "\n",
       "   poverty_percent  snap  SSI  minority_percent  income10  \n",
       "0             12.8   8.8  3.9              25.0  4.415090  \n",
       "1             14.4  10.2  3.8              41.3  4.407085  \n",
       "2              9.6   4.5  2.2              24.8  4.520339  \n",
       "3             10.1  12.9  3.0              32.8  4.384515  \n",
       "4             14.4  10.2  3.8              41.3  4.407085  "
      ]
     },
     "execution_count": 19,
     "metadata": {},
     "output_type": "execute_result"
    }
   ],
   "source": [
    "df = df.drop(columns=['name','critical','city', 'facilitytype','description','inspection_num','num_critical','num_non_critical','median_family_income_dollars','median_household_income_dollars','count_max'])\n",
    "df = df.rename(columns={\"days_from_open_date\": \"open_days\", \"per_capita_income_dollars\": \"capita_income\", \"percent_damilies_below_poverty_line\":\"poverty_percent\", \"percent_snap_benefits\":\"snap\", \"percent_supplemental_security_income\":\"SSI\", \"percent_nonwhite\":\"minority_percent\"})\n",
    "df = df.sort_values(by = ['hsisid']).reset_index()\n",
    "df.head()"
   ]
  },
  {
   "cell_type": "markdown",
   "metadata": {},
   "source": [
    "## Data Visualization"
   ]
  },
  {
   "cell_type": "markdown",
   "metadata": {},
   "source": [
    "First, we can have a look of the distribution for the average income, poverty population and minority population."
   ]
  },
  {
   "cell_type": "markdown",
   "metadata": {},
   "source": [
    "##### Distribution of average income among different areas"
   ]
  },
  {
   "cell_type": "code",
   "execution_count": 20,
   "metadata": {
    "scrolled": true
   },
   "outputs": [
    {
     "data": {
      "image/png": "[encoded data removed]",
      "text/plain": [
       "<Figure size 432x288 with 1 Axes>"
      ]
     },
     "metadata": {
      "needs_background": "light"
     },
     "output_type": "display_data"
    }
   ],
   "source": [
    "sns.distplot(df['income10'], kde = False, bins =25)\n",
    "\n",
    "f1 = plt.gcf()"
   ]
  },
  {
   "cell_type": "markdown",
   "metadata": {},
   "source": [
    "##### Distribution of poverty percent among different areas"
   ]
  },
  {
   "cell_type": "code",
   "execution_count": 21,
   "metadata": {},
   "outputs": [
    {
     "data": {
      "image/png": "[encoded data removed]",
      "text/plain": [
       "<Figure size 432x288 with 1 Axes>"
      ]
     },
     "metadata": {
      "needs_background": "light"
     },
     "output_type": "display_data"
    }
   ],
   "source": [
    "sns.distplot(df['poverty_percent'], kde = False, bins =25)\n",
    "\n",
    "f2 = plt.gcf()"
   ]
  },
  {
   "cell_type": "markdown",
   "metadata": {},
   "source": [
    "##### Distribution of minority percent among different areas"
   ]
  },
  {
   "cell_type": "code",
   "execution_count": 22,
   "metadata": {},
   "outputs": [
    {
     "data": {
      "image/png": "[encoded data removed]",
      "text/plain": [
       "<Figure size 432x288 with 1 Axes>"
      ]
     },
     "metadata": {
      "needs_background": "light"
     },
     "output_type": "display_data"
    }
   ],
   "source": [
    "sns.distplot(df['minority_percent'], kde = False, bins =25)\n",
    "\n",
    "f3 = plt.gcf()"
   ]
  },
  {
   "cell_type": "markdown",
   "metadata": {},
   "source": [
    "It seems like we have some outliers, to better find out the relationship, we'd better get rid of some of the outliers when we try to analyze(in later steps)."
   ]
  },
  {
   "cell_type": "code",
   "execution_count": 23,
   "metadata": {},
   "outputs": [],
   "source": [
    "df = df[df.income10 >= 4.5]\n",
    "df = df[df.poverty_percent <= 20]\n",
    "df = df[df.minority_percent <= 60]"
   ]
  },
  {
   "cell_type": "markdown",
   "metadata": {},
   "source": [
    "Then let's try to find out the relationship between the customers and food safety level"
   ]
  },
  {
   "cell_type": "markdown",
   "metadata": {},
   "source": [
    "##### The brief overview of the variables"
   ]
  },
  {
   "cell_type": "code",
   "execution_count": 24,
   "metadata": {},
   "outputs": [
    {
     "data": {
      "text/html": [
       "<div>\n",
       "<style scoped>\n",
       "    .dataframe tbody tr th:only-of-type {\n",
       "        vertical-align: middle;\n",
       "    }\n",
       "\n",
       "    .dataframe tbody tr th {\n",
       "        vertical-align: top;\n",
       "    }\n",
       "\n",
       "    .dataframe thead th {\n",
       "        text-align: right;\n",
       "    }\n",
       "</style>\n",
       "<table border=\"1\" class=\"dataframe\">\n",
       "  <thead>\n",
       "    <tr style=\"text-align: right;\">\n",
       "      <th></th>\n",
       "      <th>index</th>\n",
       "      <th>hsisid</th>\n",
       "      <th>open_days</th>\n",
       "      <th>score</th>\n",
       "      <th>violationcount</th>\n",
       "      <th>capita_income</th>\n",
       "      <th>poverty_percent</th>\n",
       "      <th>snap</th>\n",
       "      <th>SSI</th>\n",
       "      <th>minority_percent</th>\n",
       "      <th>income10</th>\n",
       "    </tr>\n",
       "  </thead>\n",
       "  <tbody>\n",
       "    <tr>\n",
       "      <th>count</th>\n",
       "      <td>1742.000000</td>\n",
       "      <td>1.742000e+03</td>\n",
       "      <td>1742.000000</td>\n",
       "      <td>1742.000000</td>\n",
       "      <td>1742.000000</td>\n",
       "      <td>1742.000000</td>\n",
       "      <td>1742.000000</td>\n",
       "      <td>1742.000000</td>\n",
       "      <td>1742.000000</td>\n",
       "      <td>1742.000000</td>\n",
       "      <td>1742.000000</td>\n",
       "    </tr>\n",
       "    <tr>\n",
       "      <th>mean</th>\n",
       "      <td>1507.409300</td>\n",
       "      <td>4.092031e+09</td>\n",
       "      <td>2990.578645</td>\n",
       "      <td>95.983065</td>\n",
       "      <td>10.384615</td>\n",
       "      <td>40559.344432</td>\n",
       "      <td>5.205913</td>\n",
       "      <td>4.327210</td>\n",
       "      <td>1.775545</td>\n",
       "      <td>25.468599</td>\n",
       "      <td>4.604163</td>\n",
       "    </tr>\n",
       "    <tr>\n",
       "      <th>std</th>\n",
       "      <td>886.125506</td>\n",
       "      <td>4.921415e+04</td>\n",
       "      <td>2595.808419</td>\n",
       "      <td>2.878224</td>\n",
       "      <td>8.877697</td>\n",
       "      <td>5530.213312</td>\n",
       "      <td>2.285864</td>\n",
       "      <td>2.007509</td>\n",
       "      <td>0.766726</td>\n",
       "      <td>9.999298</td>\n",
       "      <td>0.058141</td>\n",
       "    </tr>\n",
       "    <tr>\n",
       "      <th>min</th>\n",
       "      <td>0.000000</td>\n",
       "      <td>4.092010e+09</td>\n",
       "      <td>6.000000</td>\n",
       "      <td>72.500000</td>\n",
       "      <td>1.000000</td>\n",
       "      <td>33139.000000</td>\n",
       "      <td>2.000000</td>\n",
       "      <td>1.000000</td>\n",
       "      <td>0.500000</td>\n",
       "      <td>8.700000</td>\n",
       "      <td>4.520339</td>\n",
       "    </tr>\n",
       "    <tr>\n",
       "      <th>25%</th>\n",
       "      <td>911.250000</td>\n",
       "      <td>4.092015e+09</td>\n",
       "      <td>750.250000</td>\n",
       "      <td>94.500000</td>\n",
       "      <td>5.000000</td>\n",
       "      <td>34877.000000</td>\n",
       "      <td>3.600000</td>\n",
       "      <td>2.400000</td>\n",
       "      <td>1.300000</td>\n",
       "      <td>19.600000</td>\n",
       "      <td>4.542539</td>\n",
       "    </tr>\n",
       "    <tr>\n",
       "      <th>50%</th>\n",
       "      <td>1456.500000</td>\n",
       "      <td>4.092017e+09</td>\n",
       "      <td>2381.500000</td>\n",
       "      <td>96.500000</td>\n",
       "      <td>8.000000</td>\n",
       "      <td>39008.000000</td>\n",
       "      <td>4.200000</td>\n",
       "      <td>4.200000</td>\n",
       "      <td>1.600000</td>\n",
       "      <td>23.200000</td>\n",
       "      <td>4.591154</td>\n",
       "    </tr>\n",
       "    <tr>\n",
       "      <th>75%</th>\n",
       "      <td>2330.750000</td>\n",
       "      <td>4.092021e+09</td>\n",
       "      <td>4581.250000</td>\n",
       "      <td>98.000000</td>\n",
       "      <td>13.000000</td>\n",
       "      <td>44996.750000</td>\n",
       "      <td>5.500000</td>\n",
       "      <td>4.800000</td>\n",
       "      <td>2.200000</td>\n",
       "      <td>27.800000</td>\n",
       "      <td>4.653179</td>\n",
       "    </tr>\n",
       "    <tr>\n",
       "      <th>max</th>\n",
       "      <td>2879.000000</td>\n",
       "      <td>4.092300e+09</td>\n",
       "      <td>9316.000000</td>\n",
       "      <td>100.000000</td>\n",
       "      <td>76.000000</td>\n",
       "      <td>59155.000000</td>\n",
       "      <td>9.600000</td>\n",
       "      <td>9.000000</td>\n",
       "      <td>4.000000</td>\n",
       "      <td>53.300000</td>\n",
       "      <td>4.771991</td>\n",
       "    </tr>\n",
       "  </tbody>\n",
       "</table>\n",
       "</div>"
      ],
      "text/plain": [
       "             index        hsisid    open_days        score  violationcount  \\\n",
       "count  1742.000000  1.742000e+03  1742.000000  1742.000000     1742.000000   \n",
       "mean   1507.409300  4.092031e+09  2990.578645    95.983065       10.384615   \n",
       "std     886.125506  4.921415e+04  2595.808419     2.878224        8.877697   \n",
       "min       0.000000  4.092010e+09     6.000000    72.500000        1.000000   \n",
       "25%     911.250000  4.092015e+09   750.250000    94.500000        5.000000   \n",
       "50%    1456.500000  4.092017e+09  2381.500000    96.500000        8.000000   \n",
       "75%    2330.750000  4.092021e+09  4581.250000    98.000000       13.000000   \n",
       "max    2879.000000  4.092300e+09  9316.000000   100.000000       76.000000   \n",
       "\n",
       "       capita_income  poverty_percent         snap          SSI  \\\n",
       "count    1742.000000      1742.000000  1742.000000  1742.000000   \n",
       "mean    40559.344432         5.205913     4.327210     1.775545   \n",
       "std      5530.213312         2.285864     2.007509     0.766726   \n",
       "min     33139.000000         2.000000     1.000000     0.500000   \n",
       "25%     34877.000000         3.600000     2.400000     1.300000   \n",
       "50%     39008.000000         4.200000     4.200000     1.600000   \n",
       "75%     44996.750000         5.500000     4.800000     2.200000   \n",
       "max     59155.000000         9.600000     9.000000     4.000000   \n",
       "\n",
       "       minority_percent     income10  \n",
       "count       1742.000000  1742.000000  \n",
       "mean          25.468599     4.604163  \n",
       "std            9.999298     0.058141  \n",
       "min            8.700000     4.520339  \n",
       "25%           19.600000     4.542539  \n",
       "50%           23.200000     4.591154  \n",
       "75%           27.800000     4.653179  \n",
       "max           53.300000     4.771991  "
      ]
     },
     "execution_count": 24,
     "metadata": {},
     "output_type": "execute_result"
    }
   ],
   "source": [
    "desc = df.describe()\n",
    "desc"
   ]
  },
  {
   "cell_type": "markdown",
   "metadata": {},
   "source": [
    "##### The brief overview of relationship among the variables"
   ]
  },
  {
   "cell_type": "code",
   "execution_count": 25,
   "metadata": {
    "scrolled": false
   },
   "outputs": [
    {
     "data": {
      "text/html": [
       "<div>\n",
       "<style scoped>\n",
       "    .dataframe tbody tr th:only-of-type {\n",
       "        vertical-align: middle;\n",
       "    }\n",
       "\n",
       "    .dataframe tbody tr th {\n",
       "        vertical-align: top;\n",
       "    }\n",
       "\n",
       "    .dataframe thead th {\n",
       "        text-align: right;\n",
       "    }\n",
       "</style>\n",
       "<table border=\"1\" class=\"dataframe\">\n",
       "  <thead>\n",
       "    <tr style=\"text-align: right;\">\n",
       "      <th></th>\n",
       "      <th>hsisid</th>\n",
       "      <th>capita_income</th>\n",
       "      <th>poverty_percent</th>\n",
       "      <th>minority_percent</th>\n",
       "      <th>income10</th>\n",
       "    </tr>\n",
       "  </thead>\n",
       "  <tbody>\n",
       "    <tr>\n",
       "      <th>score</th>\n",
       "      <td>0.158458</td>\n",
       "      <td>0.008604</td>\n",
       "      <td>0.017000</td>\n",
       "      <td>-0.192776</td>\n",
       "      <td>0.009565</td>\n",
       "    </tr>\n",
       "    <tr>\n",
       "      <th>violationcount</th>\n",
       "      <td>-0.095031</td>\n",
       "      <td>-0.000077</td>\n",
       "      <td>-0.038962</td>\n",
       "      <td>0.097377</td>\n",
       "      <td>0.001469</td>\n",
       "    </tr>\n",
       "  </tbody>\n",
       "</table>\n",
       "</div>"
      ],
      "text/plain": [
       "                  hsisid  capita_income  poverty_percent  minority_percent  \\\n",
       "score           0.158458       0.008604         0.017000         -0.192776   \n",
       "violationcount -0.095031      -0.000077        -0.038962          0.097377   \n",
       "\n",
       "                income10  \n",
       "score           0.009565  \n",
       "violationcount  0.001469  "
      ]
     },
     "execution_count": 25,
     "metadata": {},
     "output_type": "execute_result"
    }
   ],
   "source": [
    "corrs = df.corr()\n",
    "corrs = corrs.loc[['score','violationcount'], ['hsisid', 'capita_income', 'poverty_percent', 'minority_percent','income10']]\n",
    "corrs"
   ]
  },
  {
   "cell_type": "markdown",
   "metadata": {},
   "source": [
    "It seems like there are almost no correlations among the variables we are interested in, let's have a deeper look."
   ]
  },
  {
   "cell_type": "markdown",
   "metadata": {},
   "source": [
    "### The relationship between customers and health inspection scores"
   ]
  },
  {
   "cell_type": "markdown",
   "metadata": {},
   "source": [
    "##### Customers' average income vs. health inspection scores"
   ]
  },
  {
   "cell_type": "code",
   "execution_count": 26,
   "metadata": {},
   "outputs": [
    {
     "data": {
      "text/plain": [
       "(0.47351623685733946, 93.80291964273034)"
      ]
     },
     "execution_count": 26,
     "metadata": {},
     "output_type": "execute_result"
    }
   ],
   "source": [
    "a1, b1 = np.polyfit(df['income10'],df['score'], 1)\n",
    "a1, b1"
   ]
  },
  {
   "cell_type": "markdown",
   "metadata": {},
   "source": [
    "##### Percentage of poverty population vs. health inspection scores"
   ]
  },
  {
   "cell_type": "code",
   "execution_count": 27,
   "metadata": {},
   "outputs": [
    {
     "data": {
      "text/plain": [
       "(0.021405276803389446, 95.87163143872144)"
      ]
     },
     "execution_count": 27,
     "metadata": {},
     "output_type": "execute_result"
    }
   ],
   "source": [
    "a2, b2 = np.polyfit(df['poverty_percent'],df['score'], 1)\n",
    "a2,b2"
   ]
  },
  {
   "cell_type": "markdown",
   "metadata": {},
   "source": [
    "##### Percentage of minority population vs. health inspection scores"
   ]
  },
  {
   "cell_type": "code",
   "execution_count": 28,
   "metadata": {},
   "outputs": [
    {
     "data": {
      "text/plain": [
       "(-0.05548926933360103, 97.3962994087456)"
      ]
     },
     "execution_count": 28,
     "metadata": {},
     "output_type": "execute_result"
    }
   ],
   "source": [
    "a3, b3 = np.polyfit(df['minority_percent'],df['score'], 1)\n",
    "a3,b3"
   ]
  },
  {
   "cell_type": "markdown",
   "metadata": {},
   "source": [
    "##### Scatter plot with score on the y-axis and income on the x-axis"
   ]
  },
  {
   "cell_type": "code",
   "execution_count": 29,
   "metadata": {},
   "outputs": [
    {
     "data": {
      "image/png": "[encoded data removed]",
      "text/plain": [
       "<Figure size 432x288 with 1 Axes>"
      ]
     },
     "metadata": {
      "needs_background": "light"
     },
     "output_type": "display_data"
    }
   ],
   "source": [
    "plt.scatter(df['income10'], df['score'])\n",
    "m, b = np.polyfit(df['income10'], df['score'], 1)\n",
    "plt.plot(df['income10'], m*df['income10'] + b, color = '#FF0000')\n",
    "plt.xlabel('income')\n",
    "plt.ylabel('score')\n",
    "\n",
    "f4 = plt.gcf()"
   ]
  },
  {
   "cell_type": "markdown",
   "metadata": {},
   "source": [
    "##### Scatter plot with score on the y-axis and poverty level on the x-axis"
   ]
  },
  {
   "cell_type": "code",
   "execution_count": 30,
   "metadata": {},
   "outputs": [
    {
     "data": {
      "image/png": "[encoded data removed]",
      "text/plain": [
       "<Figure size 432x288 with 1 Axes>"
      ]
     },
     "metadata": {
      "needs_background": "light"
     },
     "output_type": "display_data"
    }
   ],
   "source": [
    "plt.scatter(df['poverty_percent'], df['score'])\n",
    "m, b = np.polyfit(df['poverty_percent'], df['score'], 1)\n",
    "plt.plot(df['poverty_percent'], m*df['poverty_percent'] + b, color = '#FF0000')\n",
    "plt.xlabel('poverty')\n",
    "plt.ylabel('score')\n",
    "\n",
    "f5 = plt.gcf()"
   ]
  },
  {
   "cell_type": "markdown",
   "metadata": {},
   "source": [
    "##### Scatter plot with score on the y-axis and minority level on the x-axis"
   ]
  },
  {
   "cell_type": "code",
   "execution_count": 31,
   "metadata": {},
   "outputs": [
    {
     "data": {
      "image/png": "[encoded data removed]",
      "text/plain": [
       "<Figure size 432x288 with 1 Axes>"
      ]
     },
     "metadata": {
      "needs_background": "light"
     },
     "output_type": "display_data"
    }
   ],
   "source": [
    "plt.scatter(df['minority_percent'], df['score'])\n",
    "m, b = np.polyfit(df['minority_percent'], df['score'], 1)\n",
    "plt.plot(df['minority_percent'], m*df['minority_percent'] + b, color = '#FF0000')\n",
    "plt.xlabel('minority')\n",
    "plt.ylabel('score')\n",
    "\n",
    "f6 = plt.gcf()"
   ]
  },
  {
   "cell_type": "markdown",
   "metadata": {},
   "source": [
    "### The relationship between customers and violation counts"
   ]
  },
  {
   "cell_type": "markdown",
   "metadata": {},
   "source": [
    "##### Customers' average income vs. violation counts"
   ]
  },
  {
   "cell_type": "code",
   "execution_count": 32,
   "metadata": {
    "scrolled": true
   },
   "outputs": [
    {
     "data": {
      "text/plain": [
       "(0.22426323053633132, 9.352070981842669)"
      ]
     },
     "execution_count": 32,
     "metadata": {},
     "output_type": "execute_result"
    }
   ],
   "source": [
    "a4, b4 = np.polyfit(df['income10'],df['violationcount'], 1)\n",
    "a4, b4"
   ]
  },
  {
   "cell_type": "markdown",
   "metadata": {},
   "source": [
    "##### Percentage of poverty population vs. violation counts"
   ]
  },
  {
   "cell_type": "code",
   "execution_count": 33,
   "metadata": {
    "scrolled": true
   },
   "outputs": [
    {
     "data": {
      "text/plain": [
       "(-0.15131990054342465, 11.172373583271034)"
      ]
     },
     "execution_count": 33,
     "metadata": {},
     "output_type": "execute_result"
    }
   ],
   "source": [
    "a5, b5 = np.polyfit(df['poverty_percent'],df['violationcount'], 1)\n",
    "a5,b5"
   ]
  },
  {
   "cell_type": "markdown",
   "metadata": {},
   "source": [
    "##### Percentage of minority population vs. violation counts"
   ]
  },
  {
   "cell_type": "code",
   "execution_count": 34,
   "metadata": {},
   "outputs": [
    {
     "data": {
      "text/plain": [
       "(0.08645405128116047, 8.182751793711027)"
      ]
     },
     "execution_count": 34,
     "metadata": {},
     "output_type": "execute_result"
    }
   ],
   "source": [
    "a6, b6 = np.polyfit(df['minority_percent'],df['violationcount'], 1)\n",
    "a6,b6"
   ]
  },
  {
   "cell_type": "markdown",
   "metadata": {},
   "source": [
    "##### Scatter plot with violation count on the y-axis and income on the x-axis"
   ]
  },
  {
   "cell_type": "code",
   "execution_count": 35,
   "metadata": {
    "scrolled": true
   },
   "outputs": [
    {
     "data": {
      "image/png": "[encoded data removed]",
      "text/plain": [
       "<Figure size 432x288 with 1 Axes>"
      ]
     },
     "metadata": {
      "needs_background": "light"
     },
     "output_type": "display_data"
    }
   ],
   "source": [
    "plt.scatter(df['income10'], df['violationcount'])\n",
    "m, b = np.polyfit(df['income10'], df['violationcount'], 1)\n",
    "plt.plot(df['income10'], m*df['income10'] + b, color = '#FF0000')\n",
    "plt.xlabel('income')\n",
    "plt.ylabel('violation count')\n",
    "\n",
    "f7 = plt.gcf()"
   ]
  },
  {
   "cell_type": "markdown",
   "metadata": {},
   "source": [
    "##### Scatter plot with violation count on the y-axis and poverty level on the x-axis"
   ]
  },
  {
   "cell_type": "code",
   "execution_count": 36,
   "metadata": {},
   "outputs": [
    {
     "data": {
      "image/png": "[encoded data removed]",
      "text/plain": [
       "<Figure size 432x288 with 1 Axes>"
      ]
     },
     "metadata": {
      "needs_background": "light"
     },
     "output_type": "display_data"
    }
   ],
   "source": [
    "plt.scatter(df['poverty_percent'], df['violationcount'])\n",
    "m, b = np.polyfit(df['poverty_percent'], df['violationcount'], 1)\n",
    "plt.plot(df['poverty_percent'], m*df['poverty_percent'] + b, color = '#FF0000')\n",
    "plt.xlabel('poverty')\n",
    "plt.ylabel('violation count')\n",
    "\n",
    "f8 = plt.gcf()"
   ]
  },
  {
   "cell_type": "markdown",
   "metadata": {},
   "source": [
    "##### Scatter plot with violation count on the y-axis and minority level on the x-axis"
   ]
  },
  {
   "cell_type": "code",
   "execution_count": 37,
   "metadata": {},
   "outputs": [
    {
     "data": {
      "image/png": "[encoded data removed]",
      "text/plain": [
       "<Figure size 432x288 with 1 Axes>"
      ]
     },
     "metadata": {
      "needs_background": "light"
     },
     "output_type": "display_data"
    }
   ],
   "source": [
    "plt.scatter(df['minority_percent'], df['violationcount'])\n",
    "m, b = np.polyfit(df['minority_percent'], df['violationcount'], 1)\n",
    "plt.plot(df['minority_percent'], m*df['minority_percent'] + b, color = '#FF0000')\n",
    "plt.xlabel('minority')\n",
    "plt.ylabel('violation count')\n",
    "\n",
    "f9 = plt.gcf()"
   ]
  },
  {
   "cell_type": "markdown",
   "metadata": {},
   "source": [
    "## Data Analysis & Results"
   ]
  },
  {
   "cell_type": "markdown",
   "metadata": {},
   "source": [
    "### OLS regression of health inspection score and the restaurants customers"
   ]
  },
  {
   "cell_type": "markdown",
   "metadata": {},
   "source": [
    "##### OLS regression of health inspection score and customers' income"
   ]
  },
  {
   "cell_type": "code",
   "execution_count": 38,
   "metadata": {
    "scrolled": true
   },
   "outputs": [
    {
     "name": "stdout",
     "output_type": "stream",
     "text": [
      "                            OLS Regression Results                            \n",
      "==============================================================================\n",
      "Dep. Variable:                  score   R-squared:                       0.000\n",
      "Model:                            OLS   Adj. R-squared:                 -0.000\n",
      "Method:                 Least Squares   F-statistic:                    0.1592\n",
      "Date:                Wed, 10 Jun 2020   Prob (F-statistic):              0.690\n",
      "Time:                        17:27:45   Log-Likelihood:                -4312.8\n",
      "No. Observations:                1742   AIC:                             8630.\n",
      "Df Residuals:                    1740   BIC:                             8641.\n",
      "Df Model:                           1                                         \n",
      "Covariance Type:            nonrobust                                         \n",
      "==============================================================================\n",
      "                 coef    std err          t      P>|t|      [0.025      0.975]\n",
      "------------------------------------------------------------------------------\n",
      "Intercept     93.8029      5.464     17.166      0.000      83.086     104.520\n",
      "income10       0.4735      1.187      0.399      0.690      -1.854       2.801\n",
      "==============================================================================\n",
      "Omnibus:                      710.284   Durbin-Watson:                   1.686\n",
      "Prob(Omnibus):                  0.000   Jarque-Bera (JB):             4300.955\n",
      "Skew:                          -1.807   Prob(JB):                         0.00\n",
      "Kurtosis:                       9.797   Cond. No.                         382.\n",
      "==============================================================================\n",
      "\n",
      "Warnings:\n",
      "[1] Standard Errors assume that the covariance matrix of the errors is correctly specified.\n"
     ]
    }
   ],
   "source": [
    "outcome_1, predictors_1 = patsy.dmatrices('score ~ income10', df)\n",
    "mod_1 = sm.OLS(outcome_1, predictors_1)\n",
    "res_1 = mod_1.fit()\n",
    "print(res_1.summary())"
   ]
  },
  {
   "cell_type": "markdown",
   "metadata": {},
   "source": [
    "##### OLS regression of between health inspection score and Poverty level"
   ]
  },
  {
   "cell_type": "code",
   "execution_count": 39,
   "metadata": {},
   "outputs": [
    {
     "name": "stdout",
     "output_type": "stream",
     "text": [
      "                            OLS Regression Results                            \n",
      "==============================================================================\n",
      "Dep. Variable:                  score   R-squared:                       0.000\n",
      "Model:                            OLS   Adj. R-squared:                 -0.000\n",
      "Method:                 Least Squares   F-statistic:                    0.5030\n",
      "Date:                Wed, 10 Jun 2020   Prob (F-statistic):              0.478\n",
      "Time:                        17:27:45   Log-Likelihood:                -4312.6\n",
      "No. Observations:                1742   AIC:                             8629.\n",
      "Df Residuals:                    1740   BIC:                             8640.\n",
      "Df Model:                           1                                         \n",
      "Covariance Type:            nonrobust                                         \n",
      "===================================================================================\n",
      "                      coef    std err          t      P>|t|      [0.025      0.975]\n",
      "-----------------------------------------------------------------------------------\n",
      "Intercept          95.8716      0.172    558.718      0.000      95.535      96.208\n",
      "poverty_percent     0.0214      0.030      0.709      0.478      -0.038       0.081\n",
      "==============================================================================\n",
      "Omnibus:                      715.520   Durbin-Watson:                   1.687\n",
      "Prob(Omnibus):                  0.000   Jarque-Bera (JB):             4397.606\n",
      "Skew:                          -1.817   Prob(JB):                         0.00\n",
      "Kurtosis:                       9.884   Cond. No.                         14.5\n",
      "==============================================================================\n",
      "\n",
      "Warnings:\n",
      "[1] Standard Errors assume that the covariance matrix of the errors is correctly specified.\n"
     ]
    }
   ],
   "source": [
    "outcome_2, predictors_2 = patsy.dmatrices('score ~ poverty_percent', df)\n",
    "mod_2 = sm.OLS(outcome_2, predictors_2)\n",
    "res_2 = mod_2.fit()\n",
    "print(res_2.summary())"
   ]
  },
  {
   "cell_type": "markdown",
   "metadata": {},
   "source": [
    "##### OLS regression of between health inspection score and Minority level"
   ]
  },
  {
   "cell_type": "code",
   "execution_count": 40,
   "metadata": {},
   "outputs": [
    {
     "name": "stdout",
     "output_type": "stream",
     "text": [
      "                            OLS Regression Results                            \n",
      "==============================================================================\n",
      "Dep. Variable:                  score   R-squared:                       0.037\n",
      "Model:                            OLS   Adj. R-squared:                  0.037\n",
      "Method:                 Least Squares   F-statistic:                     67.16\n",
      "Date:                Wed, 10 Jun 2020   Prob (F-statistic):           4.80e-16\n",
      "Time:                        17:27:45   Log-Likelihood:                -4279.9\n",
      "No. Observations:                1742   AIC:                             8564.\n",
      "Df Residuals:                    1740   BIC:                             8575.\n",
      "Df Model:                           1                                         \n",
      "Covariance Type:            nonrobust                                         \n",
      "====================================================================================\n",
      "                       coef    std err          t      P>|t|      [0.025      0.975]\n",
      "------------------------------------------------------------------------------------\n",
      "Intercept           97.3963      0.185    525.735      0.000      97.033      97.760\n",
      "minority_percent    -0.0555      0.007     -8.195      0.000      -0.069      -0.042\n",
      "==============================================================================\n",
      "Omnibus:                      691.866   Durbin-Watson:                   1.716\n",
      "Prob(Omnibus):                  0.000   Jarque-Bera (JB):             4240.965\n",
      "Skew:                          -1.746   Prob(JB):                         0.00\n",
      "Kurtosis:                       9.799   Cond. No.                         75.0\n",
      "==============================================================================\n",
      "\n",
      "Warnings:\n",
      "[1] Standard Errors assume that the covariance matrix of the errors is correctly specified.\n"
     ]
    }
   ],
   "source": [
    "outcome_3, predictors_3 = patsy.dmatrices('score ~ minority_percent', df)\n",
    "mod_3 = sm.OLS(outcome_3, predictors_3)\n",
    "res_3 = mod_3.fit()\n",
    "print(res_3.summary())"
   ]
  },
  {
   "cell_type": "markdown",
   "metadata": {},
   "source": [
    "### OLS regression of number of violations observed and the restaurants customers"
   ]
  },
  {
   "cell_type": "markdown",
   "metadata": {},
   "source": [
    "##### OLS regression of violation counts and customers' income"
   ]
  },
  {
   "cell_type": "code",
   "execution_count": 41,
   "metadata": {},
   "outputs": [
    {
     "name": "stdout",
     "output_type": "stream",
     "text": [
      "                            OLS Regression Results                            \n",
      "==============================================================================\n",
      "Dep. Variable:         violationcount   R-squared:                       0.000\n",
      "Model:                            OLS   Adj. R-squared:                 -0.001\n",
      "Method:                 Least Squares   F-statistic:                  0.003753\n",
      "Date:                Wed, 10 Jun 2020   Prob (F-statistic):              0.951\n",
      "Time:                        17:27:45   Log-Likelihood:                -6275.0\n",
      "No. Observations:                1742   AIC:                         1.255e+04\n",
      "Df Residuals:                    1740   BIC:                         1.256e+04\n",
      "Df Model:                           1                                         \n",
      "Covariance Type:            nonrobust                                         \n",
      "==============================================================================\n",
      "                 coef    std err          t      P>|t|      [0.025      0.975]\n",
      "------------------------------------------------------------------------------\n",
      "Intercept      9.3521     16.855      0.555      0.579     -23.706      42.410\n",
      "income10       0.2243      3.661      0.061      0.951      -6.955       7.404\n",
      "==============================================================================\n",
      "Omnibus:                      895.939   Durbin-Watson:                   1.719\n",
      "Prob(Omnibus):                  0.000   Jarque-Bera (JB):             6467.489\n",
      "Skew:                           2.329   Prob(JB):                         0.00\n",
      "Kurtosis:                      11.210   Cond. No.                         382.\n",
      "==============================================================================\n",
      "\n",
      "Warnings:\n",
      "[1] Standard Errors assume that the covariance matrix of the errors is correctly specified.\n"
     ]
    }
   ],
   "source": [
    "outcome_4, predictors_4 = patsy.dmatrices('violationcount ~ income10', df)\n",
    "mod_4 = sm.OLS(outcome_4, predictors_4)\n",
    "res_4 = mod_4.fit()\n",
    "print(res_4.summary())"
   ]
  },
  {
   "cell_type": "markdown",
   "metadata": {},
   "source": [
    "##### OLS regression of between violation counts score and Poverty level"
   ]
  },
  {
   "cell_type": "code",
   "execution_count": 42,
   "metadata": {},
   "outputs": [
    {
     "name": "stdout",
     "output_type": "stream",
     "text": [
      "                            OLS Regression Results                            \n",
      "==============================================================================\n",
      "Dep. Variable:         violationcount   R-squared:                       0.002\n",
      "Model:                            OLS   Adj. R-squared:                  0.001\n",
      "Method:                 Least Squares   F-statistic:                     2.645\n",
      "Date:                Wed, 10 Jun 2020   Prob (F-statistic):              0.104\n",
      "Time:                        17:27:45   Log-Likelihood:                -6273.7\n",
      "No. Observations:                1742   AIC:                         1.255e+04\n",
      "Df Residuals:                    1740   BIC:                         1.256e+04\n",
      "Df Model:                           1                                         \n",
      "Covariance Type:            nonrobust                                         \n",
      "===================================================================================\n",
      "                      coef    std err          t      P>|t|      [0.025      0.975]\n",
      "-----------------------------------------------------------------------------------\n",
      "Intercept          11.1724      0.529     21.122      0.000      10.135      12.210\n",
      "poverty_percent    -0.1513      0.093     -1.626      0.104      -0.334       0.031\n",
      "==============================================================================\n",
      "Omnibus:                      899.094   Durbin-Watson:                   1.718\n",
      "Prob(Omnibus):                  0.000   Jarque-Bera (JB):             6567.121\n",
      "Skew:                           2.334   Prob(JB):                         0.00\n",
      "Kurtosis:                      11.287   Cond. No.                         14.5\n",
      "==============================================================================\n",
      "\n",
      "Warnings:\n",
      "[1] Standard Errors assume that the covariance matrix of the errors is correctly specified.\n"
     ]
    }
   ],
   "source": [
    "outcome_5, predictors_5 = patsy.dmatrices('violationcount ~ poverty_percent', df)\n",
    "mod_5 = sm.OLS(outcome_5, predictors_5)\n",
    "res_5 = mod_5.fit()\n",
    "print(res_5.summary())"
   ]
  },
  {
   "cell_type": "markdown",
   "metadata": {},
   "source": [
    "##### OLS regression of between violation counts score and Minority level"
   ]
  },
  {
   "cell_type": "code",
   "execution_count": 43,
   "metadata": {},
   "outputs": [
    {
     "name": "stdout",
     "output_type": "stream",
     "text": [
      "                            OLS Regression Results                            \n",
      "==============================================================================\n",
      "Dep. Variable:         violationcount   R-squared:                       0.002\n",
      "Model:                            OLS   Adj. R-squared:                  0.001\n",
      "Method:                 Least Squares   F-statistic:                     2.645\n",
      "Date:                Wed, 10 Jun 2020   Prob (F-statistic):              0.104\n",
      "Time:                        17:27:45   Log-Likelihood:                -6273.7\n",
      "No. Observations:                1742   AIC:                         1.255e+04\n",
      "Df Residuals:                    1740   BIC:                         1.256e+04\n",
      "Df Model:                           1                                         \n",
      "Covariance Type:            nonrobust                                         \n",
      "===================================================================================\n",
      "                      coef    std err          t      P>|t|      [0.025      0.975]\n",
      "-----------------------------------------------------------------------------------\n",
      "Intercept          11.1724      0.529     21.122      0.000      10.135      12.210\n",
      "poverty_percent    -0.1513      0.093     -1.626      0.104      -0.334       0.031\n",
      "==============================================================================\n",
      "Omnibus:                      899.094   Durbin-Watson:                   1.718\n",
      "Prob(Omnibus):                  0.000   Jarque-Bera (JB):             6567.121\n",
      "Skew:                           2.334   Prob(JB):                         0.00\n",
      "Kurtosis:                      11.287   Cond. No.                         14.5\n",
      "==============================================================================\n",
      "\n",
      "Warnings:\n",
      "[1] Standard Errors assume that the covariance matrix of the errors is correctly specified.\n"
     ]
    }
   ],
   "source": [
    "outcome_6, predictors_6 = patsy.dmatrices('violationcount ~ minority_percent', df)\n",
    "mod_6 = sm.OLS(outcome_6, predictors_6)\n",
    "res_6 = mod_5.fit()\n",
    "print(res_6.summary())"
   ]
  },
  {
   "cell_type": "markdown",
   "metadata": {},
   "source": [
    "According to our analysis, the p-value of the previous 6 analysis are all very small (nearly 0, only one around 0.5), meaning that there are no significant correlations between either average income, poverty level or minority level with the health inspection score or the number of violations, in combination, the restaurants' food safety level.\n",
    "\n",
    "Although when we look the scatter plot and linear regression result, the coefficient value between the average income and safety score is bigger than zero, meaning that there is a tiny positive relationship between the income and the safety score. And as the other two coefficient value is samller than zero, both poverty level and minority level are negatively related to the safety score. However, this is not consistent when we look into the relationship between those three factors with the number of violation observed.\n",
    "\n",
    "To briefly conclude the result, we can't say that there is a linear relationship between customers' income, poverty level and minority level and the restaurants safety level. Key evidences shown above."
   ]
  },
  {
   "cell_type": "markdown",
   "metadata": {},
   "source": [
    "## Ethics & Privacy"
   ]
  },
  {
   "cell_type": "markdown",
   "metadata": {},
   "source": [
    "\n",
    "As food safety is a concern to all residents, the data should be totally fair, fact-based, and unbiased. The food safety level of each restaurant should be visible to the every one, on their website and in-store. The feedbacks are always available to all customers. The information of each zipcode area is not based on single person, but a whole population, so no individual's privacy is violated. \n",
    "  \n",
    "Despite the good intention, our analysis can bring harm and benefit to different stakeholders. Even though my results show that there is no significant relationship between the customers and the food safety level, the customers may still tend to choose the restaurants in the areas with less vulnerable groups, due to the tiny linear regression results. This could be unfair to the restaurants that are reasonably safety level in that area. I would like to draw the customers' attention that there is no relationship, so please choose whichever restaurant you like and is safe enough.\n",
    "\n",
    "If the findings were consistent with my hypothesis, I would like to say that the government should take actions on both restaurants and customers. For the restaurants, the government should strengthen supervision on those with lower safety level, so that they can provide more healthy food. This may results in a higher cost, so the restaurants may increase the price, which is harder for the customers to afford. In this case, the government can give more supplemental security income and the snap benefit to the minority and low incomes.\n",
    "\n",
    "Overall, whatever our findings are, our primary purpose is to improve food hygiene under a stronger restaurant inspection process, so that our residents enjoy healthier and safer food. No matter what \n",
    "incentive mechanisms used, the government should always promote and help the restaurants to improve food safety levels."
   ]
  },
  {
   "cell_type": "markdown",
   "metadata": {},
   "source": [
    "## Conclusion & Discussion"
   ]
  },
  {
   "cell_type": "markdown",
   "metadata": {},
   "source": [
    "According to the above analysis, there is no significant relationship between the potential customers of the restaurants and their food safety level, although the tiny linear regression coefficient is what I expected. The data used was only from one county, which cannot represent the whole country, which was a limitation, and also, the score of inspections was not widely spreaded, which may not be easy to see the difference between a \"better\" restaurant and a \"worse\" one. Although I was proved wrong from what information I have, I would like to still call for more focus and care from the govenment to the vulnerable groups in the whole country, either they are under poverty level, black or yellow. They make up a large part of the U.S.population, and they deserve the same as everyone else."
   ]
  }
 ],
 "metadata": {
  "kernelspec": {
   "display_name": "Python 3",
   "language": "python",
   "name": "python3"
  },
  "language_info": {
   "codemirror_mode": {
    "name": "ipython",
    "version": 3
   },
   "file_extension": ".py",
   "mimetype": "text/x-python",
   "name": "python",
   "nbconvert_exporter": "python",
   "pygments_lexer": "ipython3",
   "version": "3.6.7"
  }
 },
 "nbformat": 4,
 "nbformat_minor": 2
}
