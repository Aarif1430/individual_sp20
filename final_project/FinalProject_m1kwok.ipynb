{
 "cells": [
  {
   "cell_type": "markdown",
   "metadata": {},
   "source": [
    "# COGS 108 - Final Project "
   ]
  },
  {
   "cell_type": "markdown",
   "metadata": {},
   "source": [
    "# Overview"
   ]
  },
  {
   "cell_type": "markdown",
   "metadata": {},
   "source": [
    "The purpose of this project is to determine if positively rated restaurants on Yelp have higher health inspection scores than negatively rated restaurants in Raleigh, North Carolina. The results that were shown determined that there is some statistically significant relationship between health inspection scores and Yelp ratings and the average health inspection score for restaurants with above 3 stars was higher compared to that of restaurants with below 3 stars. This demonstrates that it is possible that there is some correlation between cleanliness of restaurants and Yelp ratings for restaurants in Raleigh, NC."
   ]
  },
  {
   "cell_type": "markdown",
   "metadata": {},
   "source": [
    "# Name & PID\n",
    "\n",
    "- Name: Megan Kwok\n",
    "- PID: A13739342"
   ]
  },
  {
   "cell_type": "markdown",
   "metadata": {},
   "source": [
    "# Research Question"
   ]
  },
  {
   "cell_type": "markdown",
   "metadata": {},
   "source": [
    "Do restaurants with positive Yelp reviews (above 3 stars) have higher health inspection scores than restaurants with negative reviews (below 3 stars) in Raleigh, NC?"
   ]
  },
  {
   "cell_type": "markdown",
   "metadata": {},
   "source": [
    "## Background and Prior Work"
   ]
  },
  {
   "cell_type": "markdown",
   "metadata": {},
   "source": [
    "In 2013, Yelp launched its Local Inspector Value Entry Specification (LIVES) program, which includes a feature where health inspection ratings are displayed publicly on restaurants’ pages (Bassig). This data is displayed as a score out of 100 and is obtained from HDScores, which is a nationwide database for health inspection ratings (Bassig).  HDScores contains ratings that cover most of the nation’s population across 42 states and for businesses that do not have a rating with a local health department, the ratings are calculated from a business’s previous health ratings (Bassig). In addition to displaying health inspection scores, Yelp has decided this year to alert customers if a restaurant has a health rating below a C rating or worse by showing warning on the restaurant’s page (Grover). Although there have been some errors in health inspection ratings reported on Yelp pages, the company claims that in Los Angeles, they receive updated health scores every week from local health departments (Grover).\n",
    "\n",
    "When Yelp decided to display health inspection scores on restaurant’s pages, a restaurant in San Francisco that had fixed their hygiene issues but continued to have the original score on their page, showed an increase in negative reviews and a 15 percent drop in business during this time (Adams). Furthermore, another study by Weijia (Daisy) Dai and Michael Luca, demonstrates that when health scores began to be displayed on Yelp in San Francisco, low-scoring restaurants in regards to health inspection ratings ended up with lower Yelp ratings compared to restaurants with higher health ratings (Dai 8). In this study, Dai and Luca also found that there was a “7% decrease in purchase intentions for restaurants with low scores due to hygiene alerts, and [an] 11% decrease in the number of reviews” after Yelp implemented the health inspection rating feature in 2013 (Dai 2).\n",
    "\n",
    "\n",
    "References (include links):\n",
    "- 1) Adams, Erika - “Yelp Adds Health Code Ratings to Restaurant Pages Nationwide”\n",
    "(https://table.skift.com/2018/07/24/yelp-adds-health-code-ratings-to-restaurant-pages-nationwide/)\n",
    "- 2) Bassig, Migs - “Yelp Health Score: What Your Business Needs to Know”\n",
    "(https://www.reviewtrackers.com/blog/yelp-health-score/)\n",
    "- 3) Dai, Weijia, Michael Luca - “Digitizing Disclosure: The Case of Restaurant Hygiene Scores\n",
    "(https://papers.ssrn.com/sol3/papers.cfm?abstract_id=3131900)\n",
    "(link to pdf was too long so click on download pdf in the above link for article)\n",
    "- 4) Grover, Joel, Amy Goral - “Yelp Warns Consumers About LA Restaurants With Bad Grades\n",
    "(https://www.nbclosangeles.com/investigations/yelp-warns-consumers-about-la-restaurants-with-bad-grades/2296465/)"
   ]
  },
  {
   "cell_type": "markdown",
   "metadata": {},
   "source": [
    "# Hypothesis\n"
   ]
  },
  {
   "cell_type": "markdown",
   "metadata": {},
   "source": [
    "In Raleigh, NC, if there are restaurants that have above 3 stars on Yelp, then they will have higher health inspection scores than restaurants that are rated below 3 stars on Yelp. I hypothesize this correlation because in the restaurant industry, health and hygiene are valued greatly because consumers that dine at these restaurants usually prefer the environment and food to be cleanly. Therefore, restaurants that are seen as having lower health inspection scores may be viewed as less desirable for potential customers on Yelp."
   ]
  },
  {
   "cell_type": "markdown",
   "metadata": {},
   "source": [
    "# Dataset(s)"
   ]
  },
  {
   "cell_type": "markdown",
   "metadata": {},
   "source": [
    "The data that will be used to answer the research question will be data that contains information about restaurants in Raleigh, North Carolina, their associated Yelp ratings, any healthcode violations these restaurants have had between 2012 to 2016, and the health inspection scores the restaurants have received. These data files are in .csv format and used to create DataFrames that will be cleaned and used for later analysis.\n",
    "\n",
    "Source: Link to access all data files\n",
    "https://canvas.ucsd.edu/courses/12630/modules/items/362378\n",
    "\n",
    "Restaurants in North Carolina\n",
    "Filename: 'restaurants.csv'\n",
    "Number of Observations: 3000\n",
    "\n",
    "Description: The dataset provides information about restaurants in North Carolina, however, the data that has been taken seems to have a range of restaurants that have opened up from the early 1990s until 2016, so there will not be any recently opened restaurants past 2016 in this dataset. The document also contains a variety of facilities that are not only labelled as restaurants, such as food stands, meat markets, and public school lunchrooms.\n",
    "\n",
    "This dataset includes features from restaurants in North Carolina with each restaurant's:\n",
    "- objectid\n",
    "- hsisid\n",
    "- name\n",
    "- address \n",
    "- city\n",
    "- state\n",
    "- postal code\n",
    "- phone number\n",
    "-  open date\n",
    "- facililty type\n",
    "\n",
    "For the fields objectid and hsisid, these are unique to each restaurant and used to identify corresponding restaurants in other data files, such as violations.csv and inspections.csv.\n",
    "\n",
    "\n",
    "Health Inspection Scores\n",
    "Filename: 'inspections.csv'\n",
    "Number of Observations: 18467\n",
    "\n",
    "Description: This dataset provides information about health inspections for a variety of restaurants in North Carolina from the years 2012 to 2016. The restaurants featured in this document are places that have opened between the early 1990s to 2016.\n",
    "\n",
    "The dataset contains these specific features of restaurants in North Carolina:\n",
    "- hsisid\n",
    "- date of inspection\n",
    "- name of restaurant\n",
    "- address\n",
    "- city\n",
    "- state\n",
    "- postal code\n",
    "- phone number\n",
    "- restaurant open date\n",
    "- days of inspection from open date\n",
    "- facility type\n",
    "- zip code\n",
    "- description written from health inspection\n",
    "- health inspector's name\n",
    "- health inspection score\n",
    "- number of critical health violations\n",
    "- number of non-critical health violations\n",
    "- number of previous critical health violations\n",
    "- number of previous non-critical health violations\n",
    "- average number of critical violations in neighboring restaurants\n",
    "- average number of non-critical violations in neighboring restaurants\n",
    "- top_match and second_match hsisid\n",
    "- critical number\n",
    "\n",
    "\n",
    "Yelp Ratings and Reviews\n",
    "Filename: 'yelp.csv'\n",
    "\n",
    "Description: This dataset includes information that can be found on Yelp for restaurants in North Carolina. The date that the data was collected in the document is not provided, so we cannot assume if it is the most recently updated list of Yelp statistics and information about restaurants in North Carolina. Also, we cannot assume that recently opened restaurants are featured in this document.\n",
    "\n",
    "The dataset contains the following features of restaurants in North Carolina:\n",
    "- name of the restaurant\n",
    "- if the restaurant is closed (true if closed, false if not closed)\n",
    "- Yelp rating (out of 5 stars)\n",
    "- number of Yelp reviews\n",
    "- the restaurant's address\n",
    "- zip code\n",
    "- latitude and longitude values\n",
    "- price range (ranges from least expensive to most expensive)\n",
    "- phone number of restaurant\n",
    "- the types of food the restaurants serve (true if they serve it, false if otherwise)\n",
    "\n",
    "How the Datasets Will Be Combined\n",
    "The datasets will be combined by merging information from the restaurants and Yelp files to ensure we only observe data from restaurants that have an associated Yelp review. Then, we will merge this information with the information from the inspections dataset in order to ensure we have an associated health inspection score for each restaurant.\n"
   ]
  },
  {
   "cell_type": "markdown",
   "metadata": {},
   "source": [
    "# Setup"
   ]
  },
  {
   "cell_type": "code",
   "execution_count": 1,
   "metadata": {},
   "outputs": [],
   "source": [
    "# Imports \n",
    "%matplotlib inline\n",
    "\n",
    "import numpy as np\n",
    "import pandas as pd\n",
    "import matplotlib.pyplot as plt\n",
    "\n",
    "import seaborn as sns\n",
    "sns.set()\n",
    "sns.set_context('talk')\n",
    "\n",
    "import warnings\n",
    "warnings.filterwarnings('ignore')\n",
    "\n",
    "import patsy\n",
    "import statsmodels.api as sm\n",
    "import scipy.stats as stats\n",
    "from scipy.stats import ttest_ind, chisquare, normaltest\n",
    "# Note: the statsmodels import may print out a 'FutureWarning'. Thats fine."
   ]
  },
  {
   "cell_type": "code",
   "execution_count": 2,
   "metadata": {},
   "outputs": [],
   "source": [
    "# Display 7 rows and 8 columns max\n",
    "pd.options.display.max_rows = 7\n",
    "pd.options.display.max_columns = 8\n",
    "\n",
    "# Round decimals to 2 places when displaying DataFrames\n",
    "pd.set_option('precision', 2)"
   ]
  },
  {
   "cell_type": "markdown",
   "metadata": {},
   "source": [
    "\n",
    "# Data Cleaning"
   ]
  },
  {
   "cell_type": "markdown",
   "metadata": {},
   "source": [
    "Create DataFrames from restaurants.csv, inspections.csv, yelp.csv, zipcodes.csv files."
   ]
  },
  {
   "cell_type": "code",
   "execution_count": 3,
   "metadata": {},
   "outputs": [],
   "source": [
    "## YOUR CODE HERE\n",
    "## FEEL FREE TO ADD MULTIPLE CELLS PER SECTION\n",
    "df_restaurants = pd.read_csv('restaurants.csv')\n",
    "df_inspections = pd.read_csv('inspections.csv')\n",
    "df_yelp = pd.read_csv('yelp.csv')\n",
    "#df_violations = pd.read_csv('violations.csv', dtype={'inspectdate':str})"
   ]
  },
  {
   "cell_type": "markdown",
   "metadata": {},
   "source": [
    "Drop any rows that have null data for specified columns."
   ]
  },
  {
   "cell_type": "code",
   "execution_count": 4,
   "metadata": {},
   "outputs": [],
   "source": [
    "df_restaurants = df_restaurants.dropna(subset = ['hsisid', 'name', 'address1', 'city', 'postalcode', 'facilitytype'])\n",
    "df_inspections = df_inspections.dropna(subset = ['hsisid', 'name', 'address1', 'city', 'state', 'facilitytype','zip', 'score', 'num_critical'])\n",
    "df_yelp = df_yelp.dropna(subset = ['name', 'rating', 'review_count', 'address1', 'zip_code'])\n",
    "#df_violations = df_violations.dropna(subset = ['hsisid', 'inspectdate', 'critical'])"
   ]
  },
  {
   "cell_type": "markdown",
   "metadata": {},
   "source": [
    "Remove irrelevant columns from the existing DataFrames."
   ]
  },
  {
   "cell_type": "code",
   "execution_count": 5,
   "metadata": {},
   "outputs": [],
   "source": [
    "df_restaurants = pd.DataFrame(df_restaurants, columns=['hsisid', 'name', 'address1', 'city', 'postalcode', 'facilitytype'])\n",
    "df_inspections = pd.DataFrame(df_inspections, columns=['hsisid', 'name', 'address1', 'city', 'facilitytype', 'zip', 'score', 'num_critical'])\n",
    "df_yelp = pd.DataFrame(df_yelp, columns=['name', 'rating', 'review_count', 'address1', 'zip_code'])"
   ]
  },
  {
   "cell_type": "markdown",
   "metadata": {},
   "source": [
    "Since we are only interested in restaurants in Raleigh, NC, we are going to remove any rows from df_restaurants and df_inspections that are not in Raleigh, NC."
   ]
  },
  {
   "cell_type": "code",
   "execution_count": 6,
   "metadata": {},
   "outputs": [],
   "source": [
    "df_restaurants = df_restaurants[df_restaurants['city'].str.lower() == 'raleigh']\n",
    "df_inspections = df_inspections[df_inspections['city'].str.lower() == 'raleigh']"
   ]
  },
  {
   "cell_type": "markdown",
   "metadata": {},
   "source": [
    "Before we find matching restaurants in df_inspections and df_yelp,\n",
    "we are going to filter df_inspections by eliminating all row entries that are not considered 'restaurants' (e.g. do not have 'Restaurant' as the facility type)."
   ]
  },
  {
   "cell_type": "code",
   "execution_count": 7,
   "metadata": {},
   "outputs": [],
   "source": [
    "df_inspections = df_inspections[df_inspections['facilitytype'] == 'Restaurant']"
   ]
  },
  {
   "cell_type": "markdown",
   "metadata": {},
   "source": [
    "We are now going to filter df_yelp by eliminating rows that have ratings of\n",
    "3 stars because we will be standardizing negative reviews as being below 3 stars and positive reviews as being above 3 stars."
   ]
  },
  {
   "cell_type": "code",
   "execution_count": 8,
   "metadata": {},
   "outputs": [],
   "source": [
    "df_yelp = df_yelp[df_yelp['rating'] != 3]\n"
   ]
  },
  {
   "cell_type": "markdown",
   "metadata": {},
   "source": [
    "Now we are going to standardize the yelp ratings so that ratings that have\n",
    "more than 3 stars are labelled as +1 and ratings that have less than\n",
    "3 stars are labelled as -1 reviews."
   ]
  },
  {
   "cell_type": "code",
   "execution_count": 9,
   "metadata": {},
   "outputs": [],
   "source": [
    "def standardize_rating(rating):\n",
    "    #rating = float(rating)\n",
    "    if rating < 3:\n",
    "        return -1\n",
    "    elif rating > 3:\n",
    "        return 1\n",
    "    else:\n",
    "        return 0"
   ]
  },
  {
   "cell_type": "markdown",
   "metadata": {},
   "source": [
    "Applying the standardize_rating function above to df_yelp will convert all\n",
    "rows that have ratings > 3 stars to 1 and rows that have ratings\n",
    "< 3 stars to -1."
   ]
  },
  {
   "cell_type": "code",
   "execution_count": 10,
   "metadata": {},
   "outputs": [],
   "source": [
    "df_yelp['rating'] = df_yelp['rating'].apply(standardize_rating)\n"
   ]
  },
  {
   "cell_type": "markdown",
   "metadata": {},
   "source": [
    "We can take a look at the standardized df_yelp below:"
   ]
  },
  {
   "cell_type": "code",
   "execution_count": 11,
   "metadata": {},
   "outputs": [
    {
     "data": {
      "text/html": [
       "<div>\n",
       "<style scoped>\n",
       "    .dataframe tbody tr th:only-of-type {\n",
       "        vertical-align: middle;\n",
       "    }\n",
       "\n",
       "    .dataframe tbody tr th {\n",
       "        vertical-align: top;\n",
       "    }\n",
       "\n",
       "    .dataframe thead th {\n",
       "        text-align: right;\n",
       "    }\n",
       "</style>\n",
       "<table border=\"1\" class=\"dataframe\">\n",
       "  <thead>\n",
       "    <tr style=\"text-align: right;\">\n",
       "      <th></th>\n",
       "      <th>name</th>\n",
       "      <th>rating</th>\n",
       "      <th>review_count</th>\n",
       "      <th>address1</th>\n",
       "      <th>zip_code</th>\n",
       "    </tr>\n",
       "  </thead>\n",
       "  <tbody>\n",
       "    <tr>\n",
       "      <th>0</th>\n",
       "      <td>42nd street oyster bar - rdu airport</td>\n",
       "      <td>-1</td>\n",
       "      <td>23</td>\n",
       "      <td>2400 John Brantley Blvd</td>\n",
       "      <td>27560</td>\n",
       "    </tr>\n",
       "    <tr>\n",
       "      <th>1</th>\n",
       "      <td>aldi foods</td>\n",
       "      <td>1</td>\n",
       "      <td>17</td>\n",
       "      <td>2303 NW Maynard Rd</td>\n",
       "      <td>27519</td>\n",
       "    </tr>\n",
       "    <tr>\n",
       "      <th>2</th>\n",
       "      <td>luciano pizzeria ristorante</td>\n",
       "      <td>1</td>\n",
       "      <td>2</td>\n",
       "      <td>Crabtree Valley Mall</td>\n",
       "      <td>27612</td>\n",
       "    </tr>\n",
       "    <tr>\n",
       "      <th>...</th>\n",
       "      <td>...</td>\n",
       "      <td>...</td>\n",
       "      <td>...</td>\n",
       "      <td>...</td>\n",
       "      <td>...</td>\n",
       "    </tr>\n",
       "    <tr>\n",
       "      <th>3685</th>\n",
       "      <td>sky zone trampoline park, durham</td>\n",
       "      <td>1</td>\n",
       "      <td>12</td>\n",
       "      <td>1720 Guess Rd</td>\n",
       "      <td>27701</td>\n",
       "    </tr>\n",
       "    <tr>\n",
       "      <th>3686</th>\n",
       "      <td>highgrove estate</td>\n",
       "      <td>1</td>\n",
       "      <td>4</td>\n",
       "      <td>1613 S Main St</td>\n",
       "      <td>27526</td>\n",
       "    </tr>\n",
       "    <tr>\n",
       "      <th>3687</th>\n",
       "      <td>banfield pet hospital</td>\n",
       "      <td>-1</td>\n",
       "      <td>5</td>\n",
       "      <td>6300 Creedmoor Rd</td>\n",
       "      <td>27612</td>\n",
       "    </tr>\n",
       "  </tbody>\n",
       "</table>\n",
       "<p>3112 rows × 5 columns</p>\n",
       "</div>"
      ],
      "text/plain": [
       "                                      name  rating  review_count  \\\n",
       "0     42nd street oyster bar - rdu airport      -1            23   \n",
       "1                               aldi foods       1            17   \n",
       "2              luciano pizzeria ristorante       1             2   \n",
       "...                                    ...     ...           ...   \n",
       "3685      sky zone trampoline park, durham       1            12   \n",
       "3686                      highgrove estate       1             4   \n",
       "3687                 banfield pet hospital      -1             5   \n",
       "\n",
       "                     address1  zip_code  \n",
       "0     2400 John Brantley Blvd     27560  \n",
       "1          2303 NW Maynard Rd     27519  \n",
       "2        Crabtree Valley Mall     27612  \n",
       "...                       ...       ...  \n",
       "3685            1720 Guess Rd     27701  \n",
       "3686           1613 S Main St     27526  \n",
       "3687        6300 Creedmoor Rd     27612  \n",
       "\n",
       "[3112 rows x 5 columns]"
      ]
     },
     "execution_count": 11,
     "metadata": {},
     "output_type": "execute_result"
    }
   ],
   "source": [
    "df_yelp"
   ]
  },
  {
   "cell_type": "markdown",
   "metadata": {},
   "source": [
    "Standardizing addresses by making sure they are all lower case and have the same abbreviations."
   ]
  },
  {
   "cell_type": "code",
   "execution_count": 12,
   "metadata": {},
   "outputs": [],
   "source": [
    "def standardize_address(string):\n",
    "    address = str(string)\n",
    "    address = address.lower().strip()\n",
    "    \n",
    "    address = address.replace('boulevard', 'blv')\n",
    "    address = address.replace('blvd', 'blv')\n",
    "    address = address.replace('street', 'st')\n",
    "    address = address.replace('lane', 'ln')\n",
    "    address = address.replace('road', 'rd')\n",
    "    address = address.replace('pkwy', 'pky')\n",
    "    address = address.replace('parkway', 'pky')\n",
    "    address = address.replace('place', 'pl')\n",
    "    address = address.replace('avenue', 'ave')\n",
    "    address = address.replace('circle', 'cir')\n",
    "    address = address.replace('road', 'rd')\n",
    "    address = address.replace('lane', 'ln')\n",
    "    address = address.replace('highway', 'hwy')\n",
    "    address = address.replace('drive', 'dr')\n",
    "    address = address.replace('trail', 'trl')\n",
    "\n",
    "    return address"
   ]
  },
  {
   "cell_type": "code",
   "execution_count": 13,
   "metadata": {},
   "outputs": [],
   "source": [
    "df_restaurants['address1'] = df_restaurants['address1'].apply(standardize_address)\n",
    "df_yelp['address1'] = df_yelp['address1'].apply(standardize_address)\n",
    "df_inspections['address1'] = df_inspections['address1'].apply(standardize_address)"
   ]
  },
  {
   "cell_type": "markdown",
   "metadata": {},
   "source": [
    "Let's look at the standardized addresses in df_restaurants, df_yelp, and df_inspections below:"
   ]
  },
  {
   "cell_type": "code",
   "execution_count": 14,
   "metadata": {},
   "outputs": [
    {
     "data": {
      "text/html": [
       "<div>\n",
       "<style scoped>\n",
       "    .dataframe tbody tr th:only-of-type {\n",
       "        vertical-align: middle;\n",
       "    }\n",
       "\n",
       "    .dataframe tbody tr th {\n",
       "        vertical-align: top;\n",
       "    }\n",
       "\n",
       "    .dataframe thead th {\n",
       "        text-align: right;\n",
       "    }\n",
       "</style>\n",
       "<table border=\"1\" class=\"dataframe\">\n",
       "  <thead>\n",
       "    <tr style=\"text-align: right;\">\n",
       "      <th></th>\n",
       "      <th>hsisid</th>\n",
       "      <th>name</th>\n",
       "      <th>address1</th>\n",
       "      <th>city</th>\n",
       "      <th>postalcode</th>\n",
       "      <th>facilitytype</th>\n",
       "    </tr>\n",
       "  </thead>\n",
       "  <tbody>\n",
       "    <tr>\n",
       "      <th>0</th>\n",
       "      <td>4092017230</td>\n",
       "      <td>SPRING CAFE 2</td>\n",
       "      <td>2900-104 spring forest rd</td>\n",
       "      <td>RALEIGH</td>\n",
       "      <td>27616-1895</td>\n",
       "      <td>Restaurant</td>\n",
       "    </tr>\n",
       "    <tr>\n",
       "      <th>3</th>\n",
       "      <td>4092015333</td>\n",
       "      <td>THE REMEDY DINER</td>\n",
       "      <td>137 e hargett st</td>\n",
       "      <td>RALEIGH</td>\n",
       "      <td>27601</td>\n",
       "      <td>Restaurant</td>\n",
       "    </tr>\n",
       "    <tr>\n",
       "      <th>5</th>\n",
       "      <td>4092110477</td>\n",
       "      <td>CHARLES BUGG CAFETERIA</td>\n",
       "      <td>825 cooper st</td>\n",
       "      <td>RALEIGH</td>\n",
       "      <td>27610</td>\n",
       "      <td>Public School Lunchrooms</td>\n",
       "    </tr>\n",
       "    <tr>\n",
       "      <th>...</th>\n",
       "      <td>...</td>\n",
       "      <td>...</td>\n",
       "      <td>...</td>\n",
       "      <td>...</td>\n",
       "      <td>...</td>\n",
       "      <td>...</td>\n",
       "    </tr>\n",
       "    <tr>\n",
       "      <th>3314</th>\n",
       "      <td>4092016368</td>\n",
       "      <td>Golden Palace</td>\n",
       "      <td>4420 capital blv</td>\n",
       "      <td>RALEIGH</td>\n",
       "      <td>27604</td>\n",
       "      <td>Restaurant</td>\n",
       "    </tr>\n",
       "    <tr>\n",
       "      <th>3316</th>\n",
       "      <td>4092015461</td>\n",
       "      <td>Zoes Kitchen</td>\n",
       "      <td>1028 oberlin rd</td>\n",
       "      <td>RALEIGH</td>\n",
       "      <td>27605</td>\n",
       "      <td>Restaurant</td>\n",
       "    </tr>\n",
       "    <tr>\n",
       "      <th>3320</th>\n",
       "      <td>4092016663</td>\n",
       "      <td>BOJANGLES #5</td>\n",
       "      <td>3301 s wilmington st</td>\n",
       "      <td>RALEIGH</td>\n",
       "      <td>27603</td>\n",
       "      <td>Restaurant</td>\n",
       "    </tr>\n",
       "  </tbody>\n",
       "</table>\n",
       "<p>1794 rows × 6 columns</p>\n",
       "</div>"
      ],
      "text/plain": [
       "          hsisid                    name                   address1     city  \\\n",
       "0     4092017230           SPRING CAFE 2  2900-104 spring forest rd  RALEIGH   \n",
       "3     4092015333        THE REMEDY DINER           137 e hargett st  RALEIGH   \n",
       "5     4092110477  CHARLES BUGG CAFETERIA              825 cooper st  RALEIGH   \n",
       "...          ...                     ...                        ...      ...   \n",
       "3314  4092016368           Golden Palace           4420 capital blv  RALEIGH   \n",
       "3316  4092015461            Zoes Kitchen            1028 oberlin rd  RALEIGH   \n",
       "3320  4092016663            BOJANGLES #5       3301 s wilmington st  RALEIGH   \n",
       "\n",
       "      postalcode              facilitytype  \n",
       "0     27616-1895                Restaurant  \n",
       "3          27601                Restaurant  \n",
       "5          27610  Public School Lunchrooms  \n",
       "...          ...                       ...  \n",
       "3314       27604                Restaurant  \n",
       "3316       27605                Restaurant  \n",
       "3320       27603                Restaurant  \n",
       "\n",
       "[1794 rows x 6 columns]"
      ]
     },
     "execution_count": 14,
     "metadata": {},
     "output_type": "execute_result"
    }
   ],
   "source": [
    "df_restaurants"
   ]
  },
  {
   "cell_type": "code",
   "execution_count": 15,
   "metadata": {},
   "outputs": [
    {
     "data": {
      "text/html": [
       "<div>\n",
       "<style scoped>\n",
       "    .dataframe tbody tr th:only-of-type {\n",
       "        vertical-align: middle;\n",
       "    }\n",
       "\n",
       "    .dataframe tbody tr th {\n",
       "        vertical-align: top;\n",
       "    }\n",
       "\n",
       "    .dataframe thead th {\n",
       "        text-align: right;\n",
       "    }\n",
       "</style>\n",
       "<table border=\"1\" class=\"dataframe\">\n",
       "  <thead>\n",
       "    <tr style=\"text-align: right;\">\n",
       "      <th></th>\n",
       "      <th>name</th>\n",
       "      <th>rating</th>\n",
       "      <th>review_count</th>\n",
       "      <th>address1</th>\n",
       "      <th>zip_code</th>\n",
       "    </tr>\n",
       "  </thead>\n",
       "  <tbody>\n",
       "    <tr>\n",
       "      <th>0</th>\n",
       "      <td>42nd street oyster bar - rdu airport</td>\n",
       "      <td>-1</td>\n",
       "      <td>23</td>\n",
       "      <td>2400 john brantley blv</td>\n",
       "      <td>27560</td>\n",
       "    </tr>\n",
       "    <tr>\n",
       "      <th>1</th>\n",
       "      <td>aldi foods</td>\n",
       "      <td>1</td>\n",
       "      <td>17</td>\n",
       "      <td>2303 nw maynard rd</td>\n",
       "      <td>27519</td>\n",
       "    </tr>\n",
       "    <tr>\n",
       "      <th>2</th>\n",
       "      <td>luciano pizzeria ristorante</td>\n",
       "      <td>1</td>\n",
       "      <td>2</td>\n",
       "      <td>crabtree valley mall</td>\n",
       "      <td>27612</td>\n",
       "    </tr>\n",
       "    <tr>\n",
       "      <th>...</th>\n",
       "      <td>...</td>\n",
       "      <td>...</td>\n",
       "      <td>...</td>\n",
       "      <td>...</td>\n",
       "      <td>...</td>\n",
       "    </tr>\n",
       "    <tr>\n",
       "      <th>3685</th>\n",
       "      <td>sky zone trampoline park, durham</td>\n",
       "      <td>1</td>\n",
       "      <td>12</td>\n",
       "      <td>1720 guess rd</td>\n",
       "      <td>27701</td>\n",
       "    </tr>\n",
       "    <tr>\n",
       "      <th>3686</th>\n",
       "      <td>highgrove estate</td>\n",
       "      <td>1</td>\n",
       "      <td>4</td>\n",
       "      <td>1613 s main st</td>\n",
       "      <td>27526</td>\n",
       "    </tr>\n",
       "    <tr>\n",
       "      <th>3687</th>\n",
       "      <td>banfield pet hospital</td>\n",
       "      <td>-1</td>\n",
       "      <td>5</td>\n",
       "      <td>6300 creedmoor rd</td>\n",
       "      <td>27612</td>\n",
       "    </tr>\n",
       "  </tbody>\n",
       "</table>\n",
       "<p>3112 rows × 5 columns</p>\n",
       "</div>"
      ],
      "text/plain": [
       "                                      name  rating  review_count  \\\n",
       "0     42nd street oyster bar - rdu airport      -1            23   \n",
       "1                               aldi foods       1            17   \n",
       "2              luciano pizzeria ristorante       1             2   \n",
       "...                                    ...     ...           ...   \n",
       "3685      sky zone trampoline park, durham       1            12   \n",
       "3686                      highgrove estate       1             4   \n",
       "3687                 banfield pet hospital      -1             5   \n",
       "\n",
       "                    address1  zip_code  \n",
       "0     2400 john brantley blv     27560  \n",
       "1         2303 nw maynard rd     27519  \n",
       "2       crabtree valley mall     27612  \n",
       "...                      ...       ...  \n",
       "3685           1720 guess rd     27701  \n",
       "3686          1613 s main st     27526  \n",
       "3687       6300 creedmoor rd     27612  \n",
       "\n",
       "[3112 rows x 5 columns]"
      ]
     },
     "execution_count": 15,
     "metadata": {},
     "output_type": "execute_result"
    }
   ],
   "source": [
    "df_yelp"
   ]
  },
  {
   "cell_type": "code",
   "execution_count": 16,
   "metadata": {},
   "outputs": [
    {
     "data": {
      "text/html": [
       "<div>\n",
       "<style scoped>\n",
       "    .dataframe tbody tr th:only-of-type {\n",
       "        vertical-align: middle;\n",
       "    }\n",
       "\n",
       "    .dataframe tbody tr th {\n",
       "        vertical-align: top;\n",
       "    }\n",
       "\n",
       "    .dataframe thead th {\n",
       "        text-align: right;\n",
       "    }\n",
       "</style>\n",
       "<table border=\"1\" class=\"dataframe\">\n",
       "  <thead>\n",
       "    <tr style=\"text-align: right;\">\n",
       "      <th></th>\n",
       "      <th>hsisid</th>\n",
       "      <th>name</th>\n",
       "      <th>address1</th>\n",
       "      <th>city</th>\n",
       "      <th>facilitytype</th>\n",
       "      <th>zip</th>\n",
       "      <th>score</th>\n",
       "      <th>num_critical</th>\n",
       "    </tr>\n",
       "  </thead>\n",
       "  <tbody>\n",
       "    <tr>\n",
       "      <th>0</th>\n",
       "      <td>4092013748</td>\n",
       "      <td>Cafe 3000 At Wake Med</td>\n",
       "      <td>3000 new bern ave</td>\n",
       "      <td>raleigh</td>\n",
       "      <td>Restaurant</td>\n",
       "      <td>27610</td>\n",
       "      <td>96.0</td>\n",
       "      <td>9</td>\n",
       "    </tr>\n",
       "    <tr>\n",
       "      <th>1</th>\n",
       "      <td>4092014046</td>\n",
       "      <td>Overtime Sports Pub</td>\n",
       "      <td>1030-149 n rogers ln</td>\n",
       "      <td>raleigh</td>\n",
       "      <td>Restaurant</td>\n",
       "      <td>27610</td>\n",
       "      <td>98.0</td>\n",
       "      <td>0</td>\n",
       "    </tr>\n",
       "    <tr>\n",
       "      <th>2</th>\n",
       "      <td>4092015191</td>\n",
       "      <td>TASTE OF CHINA</td>\n",
       "      <td>6209 rock quarry rd</td>\n",
       "      <td>raleigh</td>\n",
       "      <td>Restaurant</td>\n",
       "      <td>27610</td>\n",
       "      <td>97.0</td>\n",
       "      <td>4</td>\n",
       "    </tr>\n",
       "    <tr>\n",
       "      <th>...</th>\n",
       "      <td>...</td>\n",
       "      <td>...</td>\n",
       "      <td>...</td>\n",
       "      <td>...</td>\n",
       "      <td>...</td>\n",
       "      <td>...</td>\n",
       "      <td>...</td>\n",
       "      <td>...</td>\n",
       "    </tr>\n",
       "    <tr>\n",
       "      <th>18453</th>\n",
       "      <td>4092015590</td>\n",
       "      <td>ARCHIBALD`S TAVERN</td>\n",
       "      <td>5160 sunset lake rd</td>\n",
       "      <td>raleigh</td>\n",
       "      <td>Restaurant</td>\n",
       "      <td>27539</td>\n",
       "      <td>93.5</td>\n",
       "      <td>2</td>\n",
       "    </tr>\n",
       "    <tr>\n",
       "      <th>18454</th>\n",
       "      <td>4092016479</td>\n",
       "      <td>THE OVAL</td>\n",
       "      <td>1910 entreprenuur</td>\n",
       "      <td>raleigh</td>\n",
       "      <td>Restaurant</td>\n",
       "      <td>27695</td>\n",
       "      <td>97.0</td>\n",
       "      <td>3</td>\n",
       "    </tr>\n",
       "    <tr>\n",
       "      <th>18456</th>\n",
       "      <td>4092016949</td>\n",
       "      <td>TAVERNA AGORA</td>\n",
       "      <td>326 hillsborough st</td>\n",
       "      <td>raleigh</td>\n",
       "      <td>Restaurant</td>\n",
       "      <td>27603</td>\n",
       "      <td>96.0</td>\n",
       "      <td>3</td>\n",
       "    </tr>\n",
       "  </tbody>\n",
       "</table>\n",
       "<p>6694 rows × 8 columns</p>\n",
       "</div>"
      ],
      "text/plain": [
       "           hsisid                   name              address1     city  \\\n",
       "0      4092013748  Cafe 3000 At Wake Med     3000 new bern ave  raleigh   \n",
       "1      4092014046    Overtime Sports Pub  1030-149 n rogers ln  raleigh   \n",
       "2      4092015191         TASTE OF CHINA   6209 rock quarry rd  raleigh   \n",
       "...           ...                    ...                   ...      ...   \n",
       "18453  4092015590     ARCHIBALD`S TAVERN   5160 sunset lake rd  raleigh   \n",
       "18454  4092016479               THE OVAL     1910 entreprenuur  raleigh   \n",
       "18456  4092016949          TAVERNA AGORA   326 hillsborough st  raleigh   \n",
       "\n",
       "      facilitytype    zip  score  num_critical  \n",
       "0       Restaurant  27610   96.0             9  \n",
       "1       Restaurant  27610   98.0             0  \n",
       "2       Restaurant  27610   97.0             4  \n",
       "...            ...    ...    ...           ...  \n",
       "18453   Restaurant  27539   93.5             2  \n",
       "18454   Restaurant  27695   97.0             3  \n",
       "18456   Restaurant  27603   96.0             3  \n",
       "\n",
       "[6694 rows x 8 columns]"
      ]
     },
     "execution_count": 16,
     "metadata": {},
     "output_type": "execute_result"
    }
   ],
   "source": [
    "df_inspections"
   ]
  },
  {
   "cell_type": "markdown",
   "metadata": {},
   "source": [
    "We are filtering Yelp reviews by only considering restaurants with review counts over 10, as there are many outliers that have only a few reviews which would skew the data."
   ]
  },
  {
   "cell_type": "code",
   "execution_count": 17,
   "metadata": {},
   "outputs": [],
   "source": [
    "df_yelp = df_yelp[df_yelp['review_count'] > 10]"
   ]
  },
  {
   "cell_type": "markdown",
   "metadata": {},
   "source": [
    "Merge df_restaurants and df_yelp to match the associated restaurant with the corresponding yelp rating according to matching their addresses."
   ]
  },
  {
   "cell_type": "code",
   "execution_count": 18,
   "metadata": {},
   "outputs": [
    {
     "data": {
      "text/html": [
       "<div>\n",
       "<style scoped>\n",
       "    .dataframe tbody tr th:only-of-type {\n",
       "        vertical-align: middle;\n",
       "    }\n",
       "\n",
       "    .dataframe tbody tr th {\n",
       "        vertical-align: top;\n",
       "    }\n",
       "\n",
       "    .dataframe thead th {\n",
       "        text-align: right;\n",
       "    }\n",
       "</style>\n",
       "<table border=\"1\" class=\"dataframe\">\n",
       "  <thead>\n",
       "    <tr style=\"text-align: right;\">\n",
       "      <th></th>\n",
       "      <th>hsisid</th>\n",
       "      <th>name_x</th>\n",
       "      <th>address1</th>\n",
       "      <th>city</th>\n",
       "      <th>...</th>\n",
       "      <th>name_y</th>\n",
       "      <th>rating</th>\n",
       "      <th>review_count</th>\n",
       "      <th>zip_code</th>\n",
       "    </tr>\n",
       "  </thead>\n",
       "  <tbody>\n",
       "    <tr>\n",
       "      <th>0</th>\n",
       "      <td>4092015333</td>\n",
       "      <td>THE REMEDY DINER</td>\n",
       "      <td>137 e hargett st</td>\n",
       "      <td>RALEIGH</td>\n",
       "      <td>...</td>\n",
       "      <td>the remedy diner</td>\n",
       "      <td>1</td>\n",
       "      <td>347</td>\n",
       "      <td>27601</td>\n",
       "    </tr>\n",
       "    <tr>\n",
       "      <th>1</th>\n",
       "      <td>4092016679</td>\n",
       "      <td>BITTERSWEET</td>\n",
       "      <td>16 e martin st</td>\n",
       "      <td>RALEIGH</td>\n",
       "      <td>...</td>\n",
       "      <td>bittersweet</td>\n",
       "      <td>1</td>\n",
       "      <td>150</td>\n",
       "      <td>27601</td>\n",
       "    </tr>\n",
       "    <tr>\n",
       "      <th>2</th>\n",
       "      <td>4092014493</td>\n",
       "      <td>Chick-fil-A #1573</td>\n",
       "      <td>8901 brier creek pky</td>\n",
       "      <td>RALEIGH</td>\n",
       "      <td>...</td>\n",
       "      <td>chick-fil-a</td>\n",
       "      <td>1</td>\n",
       "      <td>20</td>\n",
       "      <td>27617</td>\n",
       "    </tr>\n",
       "    <tr>\n",
       "      <th>...</th>\n",
       "      <td>...</td>\n",
       "      <td>...</td>\n",
       "      <td>...</td>\n",
       "      <td>...</td>\n",
       "      <td>...</td>\n",
       "      <td>...</td>\n",
       "      <td>...</td>\n",
       "      <td>...</td>\n",
       "      <td>...</td>\n",
       "    </tr>\n",
       "    <tr>\n",
       "      <th>1105</th>\n",
       "      <td>4092014534</td>\n",
       "      <td>Raleigh Times Bar</td>\n",
       "      <td>14 e hargett st</td>\n",
       "      <td>RALEIGH</td>\n",
       "      <td>...</td>\n",
       "      <td>raleigh times bar</td>\n",
       "      <td>1</td>\n",
       "      <td>481</td>\n",
       "      <td>27601</td>\n",
       "    </tr>\n",
       "    <tr>\n",
       "      <th>1106</th>\n",
       "      <td>4092016693</td>\n",
       "      <td>HONEY BAKED HAM COMPANY #103</td>\n",
       "      <td>5275 six forks rd</td>\n",
       "      <td>RALEIGH</td>\n",
       "      <td>...</td>\n",
       "      <td>honeybaked ham</td>\n",
       "      <td>1</td>\n",
       "      <td>11</td>\n",
       "      <td>27609</td>\n",
       "    </tr>\n",
       "    <tr>\n",
       "      <th>1107</th>\n",
       "      <td>4092016368</td>\n",
       "      <td>Golden Palace</td>\n",
       "      <td>4420 capital blv</td>\n",
       "      <td>RALEIGH</td>\n",
       "      <td>...</td>\n",
       "      <td>golden palace</td>\n",
       "      <td>1</td>\n",
       "      <td>48</td>\n",
       "      <td>27604</td>\n",
       "    </tr>\n",
       "  </tbody>\n",
       "</table>\n",
       "<p>1108 rows × 10 columns</p>\n",
       "</div>"
      ],
      "text/plain": [
       "          hsisid                        name_x              address1     city  \\\n",
       "0     4092015333              THE REMEDY DINER      137 e hargett st  RALEIGH   \n",
       "1     4092016679                   BITTERSWEET        16 e martin st  RALEIGH   \n",
       "2     4092014493             Chick-fil-A #1573  8901 brier creek pky  RALEIGH   \n",
       "...          ...                           ...                   ...      ...   \n",
       "1105  4092014534             Raleigh Times Bar       14 e hargett st  RALEIGH   \n",
       "1106  4092016693  HONEY BAKED HAM COMPANY #103     5275 six forks rd  RALEIGH   \n",
       "1107  4092016368                 Golden Palace      4420 capital blv  RALEIGH   \n",
       "\n",
       "      ...             name_y rating review_count  zip_code  \n",
       "0     ...   the remedy diner      1          347     27601  \n",
       "1     ...        bittersweet      1          150     27601  \n",
       "2     ...        chick-fil-a      1           20     27617  \n",
       "...   ...                ...    ...          ...       ...  \n",
       "1105  ...  raleigh times bar      1          481     27601  \n",
       "1106  ...     honeybaked ham      1           11     27609  \n",
       "1107  ...      golden palace      1           48     27604  \n",
       "\n",
       "[1108 rows x 10 columns]"
      ]
     },
     "execution_count": 18,
     "metadata": {},
     "output_type": "execute_result"
    }
   ],
   "source": [
    "df_merged = pd.merge(df_restaurants, df_yelp, on='address1', how='inner')\n",
    "df_merged"
   ]
  },
  {
   "cell_type": "markdown",
   "metadata": {},
   "source": [
    "We are going to group the rows by hsisid values and average the \n",
    "health inspection scores for each unique restaurant."
   ]
  },
  {
   "cell_type": "code",
   "execution_count": 19,
   "metadata": {},
   "outputs": [],
   "source": [
    "df_inspections = df_inspections.groupby('hsisid')['score'].mean().reset_index()"
   ]
  },
  {
   "cell_type": "code",
   "execution_count": 20,
   "metadata": {},
   "outputs": [
    {
     "data": {
      "text/html": [
       "<div>\n",
       "<style scoped>\n",
       "    .dataframe tbody tr th:only-of-type {\n",
       "        vertical-align: middle;\n",
       "    }\n",
       "\n",
       "    .dataframe tbody tr th {\n",
       "        vertical-align: top;\n",
       "    }\n",
       "\n",
       "    .dataframe thead th {\n",
       "        text-align: right;\n",
       "    }\n",
       "</style>\n",
       "<table border=\"1\" class=\"dataframe\">\n",
       "  <thead>\n",
       "    <tr style=\"text-align: right;\">\n",
       "      <th></th>\n",
       "      <th>hsisid</th>\n",
       "      <th>score</th>\n",
       "    </tr>\n",
       "  </thead>\n",
       "  <tbody>\n",
       "    <tr>\n",
       "      <th>0</th>\n",
       "      <td>4092010018</td>\n",
       "      <td>94.33</td>\n",
       "    </tr>\n",
       "    <tr>\n",
       "      <th>1</th>\n",
       "      <td>4092010024</td>\n",
       "      <td>94.77</td>\n",
       "    </tr>\n",
       "    <tr>\n",
       "      <th>2</th>\n",
       "      <td>4092010031</td>\n",
       "      <td>94.38</td>\n",
       "    </tr>\n",
       "    <tr>\n",
       "      <th>...</th>\n",
       "      <td>...</td>\n",
       "      <td>...</td>\n",
       "    </tr>\n",
       "    <tr>\n",
       "      <th>1109</th>\n",
       "      <td>4092017331</td>\n",
       "      <td>94.00</td>\n",
       "    </tr>\n",
       "    <tr>\n",
       "      <th>1110</th>\n",
       "      <td>4092017340</td>\n",
       "      <td>97.00</td>\n",
       "    </tr>\n",
       "    <tr>\n",
       "      <th>1111</th>\n",
       "      <td>4092017445</td>\n",
       "      <td>96.00</td>\n",
       "    </tr>\n",
       "  </tbody>\n",
       "</table>\n",
       "<p>1112 rows × 2 columns</p>\n",
       "</div>"
      ],
      "text/plain": [
       "          hsisid  score\n",
       "0     4092010018  94.33\n",
       "1     4092010024  94.77\n",
       "2     4092010031  94.38\n",
       "...          ...    ...\n",
       "1109  4092017331  94.00\n",
       "1110  4092017340  97.00\n",
       "1111  4092017445  96.00\n",
       "\n",
       "[1112 rows x 2 columns]"
      ]
     },
     "execution_count": 20,
     "metadata": {},
     "output_type": "execute_result"
    }
   ],
   "source": [
    "df_inspections"
   ]
  },
  {
   "cell_type": "markdown",
   "metadata": {},
   "source": [
    "Merge df_inspections with df_merged by hsisid."
   ]
  },
  {
   "cell_type": "code",
   "execution_count": 21,
   "metadata": {},
   "outputs": [],
   "source": [
    "df = pd.merge(df_merged, df_inspections, on='hsisid', how='inner')"
   ]
  },
  {
   "cell_type": "code",
   "execution_count": 22,
   "metadata": {},
   "outputs": [
    {
     "data": {
      "text/html": [
       "<div>\n",
       "<style scoped>\n",
       "    .dataframe tbody tr th:only-of-type {\n",
       "        vertical-align: middle;\n",
       "    }\n",
       "\n",
       "    .dataframe tbody tr th {\n",
       "        vertical-align: top;\n",
       "    }\n",
       "\n",
       "    .dataframe thead th {\n",
       "        text-align: right;\n",
       "    }\n",
       "</style>\n",
       "<table border=\"1\" class=\"dataframe\">\n",
       "  <thead>\n",
       "    <tr style=\"text-align: right;\">\n",
       "      <th></th>\n",
       "      <th>hsisid</th>\n",
       "      <th>name_x</th>\n",
       "      <th>address1</th>\n",
       "      <th>city</th>\n",
       "      <th>...</th>\n",
       "      <th>rating</th>\n",
       "      <th>review_count</th>\n",
       "      <th>zip_code</th>\n",
       "      <th>score</th>\n",
       "    </tr>\n",
       "  </thead>\n",
       "  <tbody>\n",
       "    <tr>\n",
       "      <th>0</th>\n",
       "      <td>4092015333</td>\n",
       "      <td>THE REMEDY DINER</td>\n",
       "      <td>137 e hargett st</td>\n",
       "      <td>RALEIGH</td>\n",
       "      <td>...</td>\n",
       "      <td>1</td>\n",
       "      <td>347</td>\n",
       "      <td>27601</td>\n",
       "      <td>94.00</td>\n",
       "    </tr>\n",
       "    <tr>\n",
       "      <th>1</th>\n",
       "      <td>4092016679</td>\n",
       "      <td>BITTERSWEET</td>\n",
       "      <td>16 e martin st</td>\n",
       "      <td>RALEIGH</td>\n",
       "      <td>...</td>\n",
       "      <td>1</td>\n",
       "      <td>150</td>\n",
       "      <td>27601</td>\n",
       "      <td>99.40</td>\n",
       "    </tr>\n",
       "    <tr>\n",
       "      <th>2</th>\n",
       "      <td>4092014493</td>\n",
       "      <td>Chick-fil-A #1573</td>\n",
       "      <td>8901 brier creek pky</td>\n",
       "      <td>RALEIGH</td>\n",
       "      <td>...</td>\n",
       "      <td>1</td>\n",
       "      <td>20</td>\n",
       "      <td>27617</td>\n",
       "      <td>96.58</td>\n",
       "    </tr>\n",
       "    <tr>\n",
       "      <th>...</th>\n",
       "      <td>...</td>\n",
       "      <td>...</td>\n",
       "      <td>...</td>\n",
       "      <td>...</td>\n",
       "      <td>...</td>\n",
       "      <td>...</td>\n",
       "      <td>...</td>\n",
       "      <td>...</td>\n",
       "      <td>...</td>\n",
       "    </tr>\n",
       "    <tr>\n",
       "      <th>792</th>\n",
       "      <td>4092014534</td>\n",
       "      <td>Raleigh Times Bar</td>\n",
       "      <td>14 e hargett st</td>\n",
       "      <td>RALEIGH</td>\n",
       "      <td>...</td>\n",
       "      <td>1</td>\n",
       "      <td>481</td>\n",
       "      <td>27601</td>\n",
       "      <td>93.57</td>\n",
       "    </tr>\n",
       "    <tr>\n",
       "      <th>793</th>\n",
       "      <td>4092016693</td>\n",
       "      <td>HONEY BAKED HAM COMPANY #103</td>\n",
       "      <td>5275 six forks rd</td>\n",
       "      <td>RALEIGH</td>\n",
       "      <td>...</td>\n",
       "      <td>1</td>\n",
       "      <td>11</td>\n",
       "      <td>27609</td>\n",
       "      <td>97.67</td>\n",
       "    </tr>\n",
       "    <tr>\n",
       "      <th>794</th>\n",
       "      <td>4092016368</td>\n",
       "      <td>Golden Palace</td>\n",
       "      <td>4420 capital blv</td>\n",
       "      <td>RALEIGH</td>\n",
       "      <td>...</td>\n",
       "      <td>1</td>\n",
       "      <td>48</td>\n",
       "      <td>27604</td>\n",
       "      <td>90.00</td>\n",
       "    </tr>\n",
       "  </tbody>\n",
       "</table>\n",
       "<p>795 rows × 11 columns</p>\n",
       "</div>"
      ],
      "text/plain": [
       "         hsisid                        name_x              address1     city  \\\n",
       "0    4092015333              THE REMEDY DINER      137 e hargett st  RALEIGH   \n",
       "1    4092016679                   BITTERSWEET        16 e martin st  RALEIGH   \n",
       "2    4092014493             Chick-fil-A #1573  8901 brier creek pky  RALEIGH   \n",
       "..          ...                           ...                   ...      ...   \n",
       "792  4092014534             Raleigh Times Bar       14 e hargett st  RALEIGH   \n",
       "793  4092016693  HONEY BAKED HAM COMPANY #103     5275 six forks rd  RALEIGH   \n",
       "794  4092016368                 Golden Palace      4420 capital blv  RALEIGH   \n",
       "\n",
       "     ... rating review_count zip_code  score  \n",
       "0    ...      1          347    27601  94.00  \n",
       "1    ...      1          150    27601  99.40  \n",
       "2    ...      1           20    27617  96.58  \n",
       "..   ...    ...          ...      ...    ...  \n",
       "792  ...      1          481    27601  93.57  \n",
       "793  ...      1           11    27609  97.67  \n",
       "794  ...      1           48    27604  90.00  \n",
       "\n",
       "[795 rows x 11 columns]"
      ]
     },
     "execution_count": 22,
     "metadata": {},
     "output_type": "execute_result"
    }
   ],
   "source": [
    "df"
   ]
  },
  {
   "cell_type": "markdown",
   "metadata": {},
   "source": [
    "This ensures that all numerical values in df are integers or floats."
   ]
  },
  {
   "cell_type": "code",
   "execution_count": 23,
   "metadata": {},
   "outputs": [],
   "source": [
    "cols = ['rating', 'review_count', 'score']\n",
    "df = pd.DataFrame(df, columns=cols)\n",
    "df['rating'] = df['rating'].astype(np.int64)\n",
    "df['review_count'] = df['review_count'].astype(np.int64)\n",
    "df['score'] = df['score'].astype(np.float)"
   ]
  },
  {
   "cell_type": "markdown",
   "metadata": {},
   "source": [
    "# Data Analysis & Results"
   ]
  },
  {
   "cell_type": "markdown",
   "metadata": {},
   "source": [
    "The scatter plot below shows the average health inspection score on the x axis and associated Yelp rating (positive = 1, negative = -1) on the y axis. This demonstrates if most positively reviewed restaurants are associated with higher health scores and if most negatively reviewed restaurants are associated with lower health scores. The clusters of points indicate that there is little to no correlation with Yelp rating and health inspection scores."
   ]
  },
  {
   "cell_type": "code",
   "execution_count": 24,
   "metadata": {},
   "outputs": [
    {
     "name": "stderr",
     "output_type": "stream",
     "text": [
      "'c' argument looks like a single numeric RGB or RGBA sequence, which should be avoided as value-mapping will have precedence in case its length matches with 'x' & 'y'.  Please use a 2-D array with a single row if you really want to specify the same RGB or RGBA value for all points.\n"
     ]
    },
    {
     "data": {
      "text/plain": [
       "<matplotlib.axes._subplots.AxesSubplot at 0x7f030d550438>"
      ]
     },
     "execution_count": 24,
     "metadata": {},
     "output_type": "execute_result"
    },
    {
     "data": {
      "image/png": "[encoded data removed]",
      "text/plain": [
       "<Figure size 432x288 with 1 Axes>"
      ]
     },
     "metadata": {
      "needs_background": "light"
     },
     "output_type": "display_data"
    }
   ],
   "source": [
    "## YOUR CODE HERE\n",
    "df_simplified = df[['rating', 'score']]\n",
    "df_simplified.plot.scatter(x ='score', y = 'rating')"
   ]
  },
  {
   "cell_type": "markdown",
   "metadata": {},
   "source": [
    "This bar plot shows how many restaurants have positive reviews as opposed to those with negative reviews from df. This demonstrates that the number of restaurants with above 3 stars on Yelp is highly skewed compared to the amount of restaurants with below 3 stars, which will skew our results in terms of comparing positively and negatively rated restaurants and their health scores later on."
   ]
  },
  {
   "cell_type": "code",
   "execution_count": 25,
   "metadata": {},
   "outputs": [
    {
     "data": {
      "text/plain": [
       "Text(0, 0.5, 'Count')"
      ]
     },
     "execution_count": 25,
     "metadata": {},
     "output_type": "execute_result"
    },
    {
     "data": {
      "image/png": "[encoded data removed]",
      "text/plain": [
       "<Figure size 432x288 with 1 Axes>"
      ]
     },
     "metadata": {
      "needs_background": "light"
     },
     "output_type": "display_data"
    }
   ],
   "source": [
    "plot = df['rating'].value_counts().plot.bar()\n",
    "plot.set_xlabel('Yelp Rating')\n",
    "plot.set_ylabel('Count')"
   ]
  },
  {
   "cell_type": "markdown",
   "metadata": {},
   "source": [
    "The average number of reviews for restaurants with ratings of more than 3 stars on Yelp."
   ]
  },
  {
   "cell_type": "code",
   "execution_count": 26,
   "metadata": {},
   "outputs": [
    {
     "data": {
      "text/plain": [
       "88.22752808988764"
      ]
     },
     "execution_count": 26,
     "metadata": {},
     "output_type": "execute_result"
    }
   ],
   "source": [
    "df[df['rating'] == 1]['review_count'].mean()"
   ]
  },
  {
   "cell_type": "markdown",
   "metadata": {},
   "source": [
    "The average number of reviews for restaurants with ratings of less than 3 stars on Yelp."
   ]
  },
  {
   "cell_type": "code",
   "execution_count": 27,
   "metadata": {},
   "outputs": [
    {
     "data": {
      "text/plain": [
       "26.686746987951807"
      ]
     },
     "execution_count": 27,
     "metadata": {},
     "output_type": "execute_result"
    }
   ],
   "source": [
    "df[df['rating'] == -1]['review_count'].mean()"
   ]
  },
  {
   "cell_type": "markdown",
   "metadata": {},
   "source": [
    "This histogram plots the health inspection score distribution among restaurants with below 3 stars on Yelp."
   ]
  },
  {
   "cell_type": "code",
   "execution_count": 28,
   "metadata": {},
   "outputs": [
    {
     "data": {
      "text/plain": [
       "Text(0.5, 0, 'Health Inspection Score')"
      ]
     },
     "execution_count": 28,
     "metadata": {},
     "output_type": "execute_result"
    },
    {
     "data": {
      "image/png": "[encoded data removed]",
      "text/plain": [
       "<Figure size 432x288 with 1 Axes>"
      ]
     },
     "metadata": {
      "needs_background": "light"
     },
     "output_type": "display_data"
    }
   ],
   "source": [
    "plot = df[df['rating'] == -1]['score'].plot.hist(bins=25, alpha=0.5)\n",
    "plot.set_xlabel('Health Inspection Score')"
   ]
  },
  {
   "cell_type": "markdown",
   "metadata": {},
   "source": [
    "This histogram plots the health inspection score distribution among restaurants with above 3 stars on Yelp."
   ]
  },
  {
   "cell_type": "code",
   "execution_count": 29,
   "metadata": {},
   "outputs": [
    {
     "data": {
      "text/plain": [
       "Text(0.5, 0, 'Health Inspection Score')"
      ]
     },
     "execution_count": 29,
     "metadata": {},
     "output_type": "execute_result"
    },
    {
     "data": {
      "image/png": "[encoded data removed]",
      "text/plain": [
       "<Figure size 432x288 with 1 Axes>"
      ]
     },
     "metadata": {
      "needs_background": "light"
     },
     "output_type": "display_data"
    }
   ],
   "source": [
    "plot = df[df['rating'] == 1]['score'].plot.hist(bins=25, alpha=0.5)\n",
    "plot.set_xlabel('Health Inspection Score')"
   ]
  },
  {
   "cell_type": "markdown",
   "metadata": {},
   "source": [
    "As we can see, the range of health inspection scores for negatively rated restaurants on Yelp actually has a smaller range than those that are positively rated on Yelp."
   ]
  },
  {
   "cell_type": "markdown",
   "metadata": {},
   "source": [
    "The maximum health score for positively rated restaurants on Yelp."
   ]
  },
  {
   "cell_type": "code",
   "execution_count": 30,
   "metadata": {},
   "outputs": [
    {
     "data": {
      "text/plain": [
       "99.66666666666667"
      ]
     },
     "execution_count": 30,
     "metadata": {},
     "output_type": "execute_result"
    }
   ],
   "source": [
    "df[df['rating'] == 1]['score'].max()"
   ]
  },
  {
   "cell_type": "markdown",
   "metadata": {},
   "source": [
    "The maximum health score for negatively rated restaurants on Yelp."
   ]
  },
  {
   "cell_type": "code",
   "execution_count": 31,
   "metadata": {},
   "outputs": [
    {
     "data": {
      "text/plain": [
       "98.0"
      ]
     },
     "execution_count": 31,
     "metadata": {},
     "output_type": "execute_result"
    }
   ],
   "source": [
    "df[df['rating'] == -1]['score'].max()"
   ]
  },
  {
   "cell_type": "markdown",
   "metadata": {},
   "source": [
    "The minimum health score for positively rated restaurants on Yelp."
   ]
  },
  {
   "cell_type": "code",
   "execution_count": 32,
   "metadata": {},
   "outputs": [
    {
     "data": {
      "text/plain": [
       "84.0"
      ]
     },
     "execution_count": 32,
     "metadata": {},
     "output_type": "execute_result"
    }
   ],
   "source": [
    "df[df['rating'] == 1]['score'].min()"
   ]
  },
  {
   "cell_type": "markdown",
   "metadata": {},
   "source": [
    "The maximum health score for negatively rated restaurants on Yelp."
   ]
  },
  {
   "cell_type": "code",
   "execution_count": 33,
   "metadata": {},
   "outputs": [
    {
     "data": {
      "text/plain": [
       "87.83333333333333"
      ]
     },
     "execution_count": 33,
     "metadata": {},
     "output_type": "execute_result"
    }
   ],
   "source": [
    "df[df['rating'] == -1]['score'].min()"
   ]
  },
  {
   "cell_type": "markdown",
   "metadata": {},
   "source": [
    "Save the health scores data for positively and negatively reviewed restaurants on Yelp."
   ]
  },
  {
   "cell_type": "code",
   "execution_count": 34,
   "metadata": {},
   "outputs": [],
   "source": [
    "h_pos = df[df['rating'] == 1]['score'].values\n",
    "h_neg = df[df['rating'] == -1]['score'].values"
   ]
  },
  {
   "cell_type": "markdown",
   "metadata": {},
   "source": [
    "The average health score for positively reviewed and negatively reviewed restaurants on Yelp."
   ]
  },
  {
   "cell_type": "code",
   "execution_count": 35,
   "metadata": {},
   "outputs": [],
   "source": [
    "avg_h_pos = h_pos.mean()\n",
    "avg_h_neg = h_neg.mean()"
   ]
  },
  {
   "cell_type": "code",
   "execution_count": 36,
   "metadata": {},
   "outputs": [
    {
     "name": "stdout",
     "output_type": "stream",
     "text": [
      "Average health inspection score of positively rated restaurants on Yelp is \t\t 95.77\n",
      "Average health inspection score of negatively rated restaurants on Yelp is \t\t 94.76\n"
     ]
    }
   ],
   "source": [
    "print('Average health inspection score of positively rated restaurants on Yelp is \\t\\t {:2.2f}'.format(avg_h_pos))\n",
    "print('Average health inspection score of negatively rated restaurants on Yelp is \\t\\t {:2.2f}'.format(avg_h_neg))"
   ]
  },
  {
   "cell_type": "markdown",
   "metadata": {},
   "source": [
    "Based on the differences between the average health inspection scores above, there may be a difference between the scores of positively and negatively rated restaurants on Yelp, so we will explore further by using a t-test."
   ]
  },
  {
   "cell_type": "code",
   "execution_count": 37,
   "metadata": {},
   "outputs": [],
   "source": [
    "t_val = ttest_ind(h_pos, h_neg)[0]\n",
    "p_val = ttest_ind(h_pos, h_neg)[1]"
   ]
  },
  {
   "cell_type": "code",
   "execution_count": 38,
   "metadata": {},
   "outputs": [
    {
     "data": {
      "text/plain": [
       "2.9313682468508524e-06"
      ]
     },
     "execution_count": 38,
     "metadata": {},
     "output_type": "execute_result"
    }
   ],
   "source": [
    "p_val"
   ]
  },
  {
   "cell_type": "code",
   "execution_count": 39,
   "metadata": {},
   "outputs": [
    {
     "name": "stdout",
     "output_type": "stream",
     "text": [
      "Data Science accomplished, there is a significant difference!\n"
     ]
    }
   ],
   "source": [
    "# Check if statistical test passes significance, using an alpha value of 0.01. This code provided.\n",
    "if p_val < 0.01:\n",
    "    print('Data Science accomplished, there is a significant difference!')\n",
    "else:\n",
    "    print('There is NOT a significant difference!')"
   ]
  },
  {
   "cell_type": "markdown",
   "metadata": {},
   "source": [
    "The approach used to determing if there was a significant difference between the health inspection scores of positively and negatively rated restaurants on Yelp was utilizing a t-test. This approach was used because the histogram plots of health inspection scores demonstrated that negatively rated restaurants showed a distribution that seemed to have mostly high scores that were above 90. In order to discern if there was actually a statistically significant difference between the average health scores of restaurants that have above 3 stars on Yelp and those that have below 3 stars.\n",
    "\n",
    "The results indicated that there was a significant difference between the average health inspection scores among the restaurants with positive and negative Yelp reviews in Raleigh, North Carolina. This demonstrates that health inspection scores do have some effect on Yelp ratings."
   ]
  },
  {
   "cell_type": "markdown",
   "metadata": {},
   "source": [
    "# Ethics & Privacy"
   ]
  },
  {
   "cell_type": "markdown",
   "metadata": {},
   "source": [
    "In terms of issues with the data collected in the project, one issue occurs in the Raleigh, where there may be biases for the restaurants that are rated higher than the other restaurants in the area, as one type of food may be more popular in this area, so more competition encourages restaurants to strive for higher Yelp ratings. Also, there may be biases for certain restaurants due to the specific demographic in particular areas of Raleigh, so more restaurants that serve a specific type of cuisine may be chosen among others. Other issues with data analysis may occur due to the fact that Yelp ratings are not written solely based on the health inspection rating of a restaurant, as ratings are based on multiple factors, such as quality of food, convenience, or customer service. These other factors could affect a restaurant’s Yelp rating positively or negatively, which could present anomalies in the data collected.\n",
    "\n",
    "In order to resolve these issues with data collection, the process is refined so that all restaurants in the data files are considered in the analysis, regardless of the types of cuisines offered in Raleigh. Furthermore, the other confounding factors that affect Yelp ratings are mitigated by using the average or mean of Yelp ratings for each restaurant provided in the data files rather than specific ratings in order to consider a restaurant’s rating overall. Furthermore, since all data provided in the project was publicly accessible, there were no issues in violating the privacy of individuals. In order to prevent sensitive data, such as phone numbers, from being released, the sensitive information of restaurants were omitted from all tables and graphs in this project."
   ]
  },
  {
   "cell_type": "markdown",
   "metadata": {},
   "source": [
    "# Conclusion & Discussion"
   ]
  },
  {
   "cell_type": "markdown",
   "metadata": {},
   "source": [
    "For this project, the question being studied is if restaurants rated above 3 stars on Yelp have higher health inspection scores than those of restaurants that are rate below 3 stars in Raleigh, North Carolina. The project demonstrated that by analyzing the difference between the health inspection scores of restaurants that have above three stars on Yelp and below three stars on Yelp, we can conclude that there is some effect of health inspection scores on Yelp ratings. The results concluded that the average health inspection score of restaurants that have more than 3 stars on Yelp is higher than that of restaurants that have below 3 stars on Yelp in Raleigh.\n",
    "\n",
    "The analysis done in this project utilized the t-test in order to determine if there was a statistically significant difference between the average health inpsection scores of positively and negatively reviewed restaurants on Yelp. By observing that the p-value was less than 0.01, there was a significant difference that was determined. This shows that health inspection scores of restaurants in Raleigh does effect how people rate these restaurants on Yelp, as cleanliness is one of the factors that customers may consider when dining at restaurants.\n",
    "\n",
    "Although there was a difference detected between average health inspection scores for positively and negatively rated Yelp reviews, there were limitations that may cause discrepancies in the data that was analyzed. Due to the omitting of 3 star ratings for the Yelp data that was considered, there are some restaurants that may have contributed to either the positively or negatively reviewed restaurants' data. This possibly would have caused the difference between the two groups of restaurants to have a similar or different outcomes than the results of the current analysis. Furthermore, there may have been limitations due to restaurants that have different listed addresses between data files or addresses that have differing formats, which may have caused some restaurants to be filtered out, when they should have been considered in the analysis. Also, there may have been limitations due to the overwhelming amount of positively reviewed restaurants on Yelp, as the negatively reviewed restaurants had health inspection scores that held more weight in the analysis for this group because there were much less of these restaurants than positively reviewed ones. Furthermore, some limitation may also be due to the health inspection process as well because healthcode violations and low scores may be changed after the inspector returns for a secondary review of the restaurant, which allows the restaurant to fix any issues that were considered unsanitary and lowered their score previously. This would cause the low scores to be edited to higher ones, which may have occurred for some restaurants in the data files.\n",
    "\n",
    "The impact of this project on society is that it demonstrates that cleanliness and sanitary measures are an important aspect in the restaurant industry, and customers value restaurants that uphold standards that are set by state and federal food safety departments."
   ]
  }
 ],
 "metadata": {
  "kernelspec": {
   "display_name": "Python 3",
   "language": "python",
   "name": "python3"
  },
  "language_info": {
   "codemirror_mode": {
    "name": "ipython",
    "version": 3
   },
   "file_extension": ".py",
   "mimetype": "text/x-python",
   "name": "python",
   "nbconvert_exporter": "python",
   "pygments_lexer": "ipython3",
   "version": "3.6.7"
  }
 },
 "nbformat": 4,
 "nbformat_minor": 2
}
