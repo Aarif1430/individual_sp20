{
 "cells": [
  {
   "cell_type": "markdown",
   "metadata": {},
   "source": [
    "# COGS 108 - Final Project "
   ]
  },
  {
   "cell_type": "markdown",
   "metadata": {},
   "source": [
    "# Overview"
   ]
  },
  {
   "cell_type": "markdown",
   "metadata": {},
   "source": [
    "In this project, I analyzed the relationship between the income in an area and the number of critical violations in that area. To accomplish this, I used the inspections and the zipcodes datasets, cleaned and selected the data that I intended to use, and joined both datasets based on zipcode, resulting in a dataset that contained average number of critical violations per zipcode area as well as the median income statistics for the area. I then used this dataframe to plot scatterplots as well as analyze linear models in an attempt to find a relationship. However, after analyzing the linear models, I found that there was no clear relationship between the variables, contradicting my prediction that there would be a negative linear relationship between them."
   ]
  },
  {
   "cell_type": "markdown",
   "metadata": {},
   "source": [
    "# Name & PID\n",
    "\n",
    "- Name: Ruben Gonzalez\n",
    "- PID: A13777913"
   ]
  },
  {
   "cell_type": "markdown",
   "metadata": {},
   "source": [
    "# Research Question"
   ]
  },
  {
   "cell_type": "markdown",
   "metadata": {},
   "source": [
    "Is income related to the number of critical violations restaurants receive in an area? "
   ]
  },
  {
   "cell_type": "markdown",
   "metadata": {},
   "source": [
    "## Background and Prior Work"
   ]
  },
  {
   "cell_type": "markdown",
   "metadata": {},
   "source": [
    "- 1) https://www.ncbi.nlm.nih.gov/pmc/articles/PMC5349477/\n",
    "\n",
    "This first article observes the relationship of inspection frquency and sociodemographic factors with health violations in restaurants. Rather than focusing on their findings in inspection frequency, I'll focus on the impact of sociodemographic factor on health violations. They collected census data for each restaurant neighborhood that they analyzed, similar to what I will be doing with the zipcode areas but I'll be focusing on income data. They used regression techniques in order to find a relationship between both variables, which leads me to believe that using regression techniques would be beneficial for my project.\n",
    "\n",
    "- 2) https://bmcpublichealth.biomedcentral.com/articles/10.1186/s12889-019-6546-2\n",
    "\n",
    "This second article focuses on the variation of food quality based on the income of households. This relates to my project in that I also seek in finding some relationship based on the income of houselds, only over a bigger area. In this study, they collected food purchase over two weeks from 202 households. They ended up concluding that lower income households tend to purchase less healthful foods than higher income households. This might lead me to believe that I can find a similar relationship, where it might be posssible that places that sell less healthful foods tend to have more health violations."
   ]
  },
  {
   "cell_type": "markdown",
   "metadata": {},
   "source": [
    "# Hypothesis\n"
   ]
  },
  {
   "cell_type": "markdown",
   "metadata": {},
   "source": [
    "I believe that there is a relationship between the income in an area and the number of critical violations for restaurants in that area. I specifically believe that the relationship is linear, where the number of critical violations increases as the income in an area decreases. "
   ]
  },
  {
   "cell_type": "markdown",
   "metadata": {},
   "source": [
    "# Dataset(s)"
   ]
  },
  {
   "cell_type": "markdown",
   "metadata": {},
   "source": [
    "- Dataset Name: Inspections.csv\n",
    "- Number of observations: 3\n",
    "This dataset contains information about the individual inspections done to the different restaurants of the NC area we're analyzing. I ended up using the zip, hsisid, num_critical columns to obtain information about the average number of critical violations for each zipcode area.\n",
    "\n",
    "- Dataset Name: zipcodes.csv\n",
    "- Number of observations: 4\n",
    "This dataset contains zipcode information for NC, including a variety income statistics for each zipcode. I ended using the zip column, as well as the three columns related to income, in order to be able to find a relationship with the number of critical violations for that area.\n",
    "\n",
    "I plan to combine these datasets based on their zipcode."
   ]
  },
  {
   "cell_type": "markdown",
   "metadata": {},
   "source": [
    "# Setup"
   ]
  },
  {
   "cell_type": "code",
   "execution_count": 1,
   "metadata": {},
   "outputs": [],
   "source": [
    "# Display plots directly in the notebook instead of in a new window\n",
    "%matplotlib inline\n",
    "\n",
    "import pandas as pd\n",
    "import numpy as np\n",
    "import matplotlib.pyplot as plt\n",
    "import seaborn as sns\n",
    "\n",
    "# Statmodels & patsy\n",
    "import patsy\n",
    "import statsmodels.api as sm\n",
    "\n",
    "# Configure libraries\n",
    "# The seaborn library makes plots look nicer\n",
    "sns.set()\n",
    "sns.set_context('talk')"
   ]
  },
  {
   "cell_type": "markdown",
   "metadata": {},
   "source": [
    "# Data Cleaning"
   ]
  },
  {
   "cell_type": "markdown",
   "metadata": {},
   "source": [
    "### Inspections.csv dataset cleaning\n",
    "\n",
    "I will be looking at the inspections dataset in order to get a hold of the critical violations data. First, I will filter the data by only looking at the facilities that are considered as restaurants. Then, I will select the columns that will be helpful for our analysis. I won't be using the names of the dataset, since they are not necessary for any analysis, nor will I be using them to join this dataset with others. Instead of that, I will use the hsisid column to identify specific restaurants. After that I will drop all rows where there are null entries. Then I groupby the zip and the hsisid, then get the sum of the critical violations per restaurant. Finally, I drop the hsisid column and get the mean number of critical violations per zipcode. The dataset is displayed to give the reader an idea about the data. "
   ]
  },
  {
   "cell_type": "code",
   "execution_count": 2,
   "metadata": {},
   "outputs": [
    {
     "data": {
      "text/html": [
       "<div>\n",
       "<style scoped>\n",
       "    .dataframe tbody tr th:only-of-type {\n",
       "        vertical-align: middle;\n",
       "    }\n",
       "\n",
       "    .dataframe tbody tr th {\n",
       "        vertical-align: top;\n",
       "    }\n",
       "\n",
       "    .dataframe thead th {\n",
       "        text-align: right;\n",
       "    }\n",
       "</style>\n",
       "<table border=\"1\" class=\"dataframe\">\n",
       "  <thead>\n",
       "    <tr style=\"text-align: right;\">\n",
       "      <th></th>\n",
       "      <th>zip</th>\n",
       "      <th>num_critical</th>\n",
       "    </tr>\n",
       "  </thead>\n",
       "  <tbody>\n",
       "    <tr>\n",
       "      <th>0</th>\n",
       "      <td>27501</td>\n",
       "      <td>36.000000</td>\n",
       "    </tr>\n",
       "    <tr>\n",
       "      <th>1</th>\n",
       "      <td>27502</td>\n",
       "      <td>19.909091</td>\n",
       "    </tr>\n",
       "    <tr>\n",
       "      <th>2</th>\n",
       "      <td>27511</td>\n",
       "      <td>20.789116</td>\n",
       "    </tr>\n",
       "    <tr>\n",
       "      <th>3</th>\n",
       "      <td>27512</td>\n",
       "      <td>27.000000</td>\n",
       "    </tr>\n",
       "    <tr>\n",
       "      <th>4</th>\n",
       "      <td>27513</td>\n",
       "      <td>28.640000</td>\n",
       "    </tr>\n",
       "  </tbody>\n",
       "</table>\n",
       "</div>"
      ],
      "text/plain": [
       "     zip  num_critical\n",
       "0  27501     36.000000\n",
       "1  27502     19.909091\n",
       "2  27511     20.789116\n",
       "3  27512     27.000000\n",
       "4  27513     28.640000"
      ]
     },
     "execution_count": 2,
     "metadata": {},
     "output_type": "execute_result"
    }
   ],
   "source": [
    "# We only want the restaurants in the inspection dataset\n",
    "df_inspections = pd.read_csv('Project_Files/inspections.csv')\n",
    "df_inspections = df_inspections[df_inspections['facilitytype'] == 'Restaurant']\n",
    "\n",
    "# We don't want to use all columns, so we'll select the columns that we may need\n",
    "df_inspections = df_inspections[['hsisid','zip', 'num_critical']]\n",
    "\n",
    "# Drop all null rows\n",
    "df_inspections = df_inspections.dropna()\n",
    "\n",
    "# Group by the hsisid and zip, then sum the critical violations to get the total per restaurant\n",
    "df_inspections = df_inspections.groupby(['hsisid', 'zip'], as_index=False).sum()\n",
    "\n",
    "# Drop the hsisid column and then group by the zip code to get the average number of critical violations per area\n",
    "df_inspections = df_inspections[['zip', 'num_critical']]\n",
    "df_inspections = df_inspections.groupby('zip', as_index=False).mean()\n",
    "\n",
    "# Display the dataframe\n",
    "df_inspections.head()"
   ]
  },
  {
   "cell_type": "markdown",
   "metadata": {},
   "source": [
    "### zipcodes.csv dataset cleaning"
   ]
  },
  {
   "cell_type": "markdown",
   "metadata": {},
   "source": [
    "The zipcodes dataset not includes the zipcodes of the area we are analyzing, but it also includes statistics about the income of households and people living in that area. Therefore, when we convert the dataset to a dataframe, we will select the columns related to income alongside the zip column."
   ]
  },
  {
   "cell_type": "code",
   "execution_count": 3,
   "metadata": {},
   "outputs": [
    {
     "data": {
      "text/html": [
       "<div>\n",
       "<style scoped>\n",
       "    .dataframe tbody tr th:only-of-type {\n",
       "        vertical-align: middle;\n",
       "    }\n",
       "\n",
       "    .dataframe tbody tr th {\n",
       "        vertical-align: top;\n",
       "    }\n",
       "\n",
       "    .dataframe thead th {\n",
       "        text-align: right;\n",
       "    }\n",
       "</style>\n",
       "<table border=\"1\" class=\"dataframe\">\n",
       "  <thead>\n",
       "    <tr style=\"text-align: right;\">\n",
       "      <th></th>\n",
       "      <th>zip</th>\n",
       "      <th>median_family_income</th>\n",
       "      <th>median_household_income</th>\n",
       "      <th>per_capita_income</th>\n",
       "    </tr>\n",
       "  </thead>\n",
       "  <tbody>\n",
       "    <tr>\n",
       "      <th>0</th>\n",
       "      <td>27501</td>\n",
       "      <td>59408</td>\n",
       "      <td>51121</td>\n",
       "      <td>21631</td>\n",
       "    </tr>\n",
       "    <tr>\n",
       "      <th>1</th>\n",
       "      <td>27502</td>\n",
       "      <td>109891</td>\n",
       "      <td>95857</td>\n",
       "      <td>36763</td>\n",
       "    </tr>\n",
       "    <tr>\n",
       "      <th>2</th>\n",
       "      <td>27511</td>\n",
       "      <td>82292</td>\n",
       "      <td>67392</td>\n",
       "      <td>33139</td>\n",
       "    </tr>\n",
       "    <tr>\n",
       "      <th>3</th>\n",
       "      <td>27513</td>\n",
       "      <td>109736</td>\n",
       "      <td>87262</td>\n",
       "      <td>41232</td>\n",
       "    </tr>\n",
       "    <tr>\n",
       "      <th>4</th>\n",
       "      <td>27518</td>\n",
       "      <td>125432</td>\n",
       "      <td>98247</td>\n",
       "      <td>49865</td>\n",
       "    </tr>\n",
       "  </tbody>\n",
       "</table>\n",
       "</div>"
      ],
      "text/plain": [
       "     zip  median_family_income  median_household_income  per_capita_income\n",
       "0  27501                 59408                    51121              21631\n",
       "1  27502                109891                    95857              36763\n",
       "2  27511                 82292                    67392              33139\n",
       "3  27513                109736                    87262              41232\n",
       "4  27518                125432                    98247              49865"
      ]
     },
     "execution_count": 3,
     "metadata": {},
     "output_type": "execute_result"
    }
   ],
   "source": [
    "# Get the dataframe and select any columns related to income\n",
    "df_zip = pd.read_csv('Project_Files/zipcodes.csv')\n",
    "df_zip = df_zip[['zip', 'median_family_income_dollars', 'median_household_income_dollars', 'per_capita_income_dollars']]\n",
    "\n",
    "# We'll want to rename the columns to either correct them or make them more readable\n",
    "df_zip.columns = ['zip', 'median_family_income', 'median_household_income', 'per_capita_income']\n",
    "\n",
    "# Display\n",
    "df_zip.head()"
   ]
  },
  {
   "cell_type": "markdown",
   "metadata": {},
   "source": [
    "### Mergind the zipcodes dataset with the inspections dataset\n",
    "\n",
    "At this point, I have to merge the datasets in order to combine the number of violations per zipcode with the income data per zipcode."
   ]
  },
  {
   "cell_type": "code",
   "execution_count": 4,
   "metadata": {},
   "outputs": [
    {
     "data": {
      "text/html": [
       "<div>\n",
       "<style scoped>\n",
       "    .dataframe tbody tr th:only-of-type {\n",
       "        vertical-align: middle;\n",
       "    }\n",
       "\n",
       "    .dataframe tbody tr th {\n",
       "        vertical-align: top;\n",
       "    }\n",
       "\n",
       "    .dataframe thead th {\n",
       "        text-align: right;\n",
       "    }\n",
       "</style>\n",
       "<table border=\"1\" class=\"dataframe\">\n",
       "  <thead>\n",
       "    <tr style=\"text-align: right;\">\n",
       "      <th></th>\n",
       "      <th>zip</th>\n",
       "      <th>num_critical</th>\n",
       "      <th>median_family_income</th>\n",
       "      <th>median_household_income</th>\n",
       "      <th>per_capita_income</th>\n",
       "    </tr>\n",
       "  </thead>\n",
       "  <tbody>\n",
       "    <tr>\n",
       "      <th>0</th>\n",
       "      <td>27501</td>\n",
       "      <td>36.000000</td>\n",
       "      <td>59408</td>\n",
       "      <td>51121</td>\n",
       "      <td>21631</td>\n",
       "    </tr>\n",
       "    <tr>\n",
       "      <th>1</th>\n",
       "      <td>27562</td>\n",
       "      <td>34.000000</td>\n",
       "      <td>71161</td>\n",
       "      <td>61097</td>\n",
       "      <td>31161</td>\n",
       "    </tr>\n",
       "    <tr>\n",
       "      <th>2</th>\n",
       "      <td>27526</td>\n",
       "      <td>32.315068</td>\n",
       "      <td>74666</td>\n",
       "      <td>66025</td>\n",
       "      <td>28074</td>\n",
       "    </tr>\n",
       "    <tr>\n",
       "      <th>3</th>\n",
       "      <td>27513</td>\n",
       "      <td>28.640000</td>\n",
       "      <td>109736</td>\n",
       "      <td>87262</td>\n",
       "      <td>41232</td>\n",
       "    </tr>\n",
       "    <tr>\n",
       "      <th>4</th>\n",
       "      <td>27592</td>\n",
       "      <td>27.000000</td>\n",
       "      <td>66160</td>\n",
       "      <td>56747</td>\n",
       "      <td>23355</td>\n",
       "    </tr>\n",
       "  </tbody>\n",
       "</table>\n",
       "</div>"
      ],
      "text/plain": [
       "     zip  num_critical  median_family_income  median_household_income  \\\n",
       "0  27501     36.000000                 59408                    51121   \n",
       "1  27562     34.000000                 71161                    61097   \n",
       "2  27526     32.315068                 74666                    66025   \n",
       "3  27513     28.640000                109736                    87262   \n",
       "4  27592     27.000000                 66160                    56747   \n",
       "\n",
       "   per_capita_income  \n",
       "0              21631  \n",
       "1              31161  \n",
       "2              28074  \n",
       "3              41232  \n",
       "4              23355  "
      ]
     },
     "execution_count": 4,
     "metadata": {},
     "output_type": "execute_result"
    }
   ],
   "source": [
    "# Merge the the inspections and zipcode dataframses\n",
    "df_analysis = pd.merge(df_inspections, df_zip, on='zip')\n",
    "df_analysis = df_analysis.sort_values(['num_critical'], ascending=False).reset_index(drop=True)\n",
    "\n",
    "df_analysis.head()"
   ]
  },
  {
   "cell_type": "markdown",
   "metadata": {},
   "source": [
    "Finally we are able to do analysis on this dataframe."
   ]
  },
  {
   "cell_type": "markdown",
   "metadata": {},
   "source": [
    "# Data Analysis & Results"
   ]
  },
  {
   "cell_type": "markdown",
   "metadata": {},
   "source": [
    "We will compare the relationship between the three types of income data we have against the average number of critical violations."
   ]
  },
  {
   "cell_type": "code",
   "execution_count": 5,
   "metadata": {},
   "outputs": [
    {
     "data": {
      "text/html": [
       "<div>\n",
       "<style scoped>\n",
       "    .dataframe tbody tr th:only-of-type {\n",
       "        vertical-align: middle;\n",
       "    }\n",
       "\n",
       "    .dataframe tbody tr th {\n",
       "        vertical-align: top;\n",
       "    }\n",
       "\n",
       "    .dataframe thead th {\n",
       "        text-align: right;\n",
       "    }\n",
       "</style>\n",
       "<table border=\"1\" class=\"dataframe\">\n",
       "  <thead>\n",
       "    <tr style=\"text-align: right;\">\n",
       "      <th></th>\n",
       "      <th>zip</th>\n",
       "      <th>num_critical</th>\n",
       "      <th>median_family_income</th>\n",
       "      <th>median_household_income</th>\n",
       "      <th>per_capita_income</th>\n",
       "    </tr>\n",
       "  </thead>\n",
       "  <tbody>\n",
       "    <tr>\n",
       "      <th>zip</th>\n",
       "      <td>1.000000</td>\n",
       "      <td>-0.240776</td>\n",
       "      <td>-0.178128</td>\n",
       "      <td>-0.370389</td>\n",
       "      <td>0.034761</td>\n",
       "    </tr>\n",
       "    <tr>\n",
       "      <th>num_critical</th>\n",
       "      <td>-0.240776</td>\n",
       "      <td>1.000000</td>\n",
       "      <td>-0.186746</td>\n",
       "      <td>-0.161487</td>\n",
       "      <td>-0.164433</td>\n",
       "    </tr>\n",
       "    <tr>\n",
       "      <th>median_family_income</th>\n",
       "      <td>-0.178128</td>\n",
       "      <td>-0.186746</td>\n",
       "      <td>1.000000</td>\n",
       "      <td>0.879418</td>\n",
       "      <td>0.898936</td>\n",
       "    </tr>\n",
       "    <tr>\n",
       "      <th>median_household_income</th>\n",
       "      <td>-0.370389</td>\n",
       "      <td>-0.161487</td>\n",
       "      <td>0.879418</td>\n",
       "      <td>1.000000</td>\n",
       "      <td>0.717270</td>\n",
       "    </tr>\n",
       "    <tr>\n",
       "      <th>per_capita_income</th>\n",
       "      <td>0.034761</td>\n",
       "      <td>-0.164433</td>\n",
       "      <td>0.898936</td>\n",
       "      <td>0.717270</td>\n",
       "      <td>1.000000</td>\n",
       "    </tr>\n",
       "  </tbody>\n",
       "</table>\n",
       "</div>"
      ],
      "text/plain": [
       "                              zip  num_critical  median_family_income  \\\n",
       "zip                      1.000000     -0.240776             -0.178128   \n",
       "num_critical            -0.240776      1.000000             -0.186746   \n",
       "median_family_income    -0.178128     -0.186746              1.000000   \n",
       "median_household_income -0.370389     -0.161487              0.879418   \n",
       "per_capita_income        0.034761     -0.164433              0.898936   \n",
       "\n",
       "                         median_household_income  per_capita_income  \n",
       "zip                                    -0.370389           0.034761  \n",
       "num_critical                           -0.161487          -0.164433  \n",
       "median_family_income                    0.879418           0.898936  \n",
       "median_household_income                 1.000000           0.717270  \n",
       "per_capita_income                       0.717270           1.000000  "
      ]
     },
     "execution_count": 5,
     "metadata": {},
     "output_type": "execute_result"
    }
   ],
   "source": [
    "df_analysis.corr()"
   ]
  },
  {
   "cell_type": "markdown",
   "metadata": {},
   "source": [
    "Looking at the correlation we can tell that the variables are negatively correlated with the number of critical violations. However, the correlation seems to be relatively small. We'll analyze this further by looking at scatterplots of the variables as well as applying linear models to them."
   ]
  },
  {
   "cell_type": "markdown",
   "metadata": {},
   "source": [
    "### Median Family Income Dollars vs Num Critical"
   ]
  },
  {
   "cell_type": "code",
   "execution_count": 6,
   "metadata": {},
   "outputs": [
    {
     "data": {
      "text/plain": [
       "[<matplotlib.lines.Line2D at 0x7f569ee21320>]"
      ]
     },
     "execution_count": 6,
     "metadata": {},
     "output_type": "execute_result"
    },
    {
     "data": {
      "image/png": "[encoded data removed]",
      "text/plain": [
       "<Figure size 576x432 with 1 Axes>"
      ]
     },
     "metadata": {
      "needs_background": "light"
     },
     "output_type": "display_data"
    }
   ],
   "source": [
    "# We have to setup a line in order to see any sort of linearity\n",
    "a1, b1 = np.polyfit(df_analysis['median_family_income'], df_analysis['num_critical'], 1)\n",
    "fam_incomes = np.arange(df_analysis['median_family_income'].min(), df_analysis['median_family_income'].max(), 1000)\n",
    "pred_fam_income = a1 * fam_incomes + b1\n",
    "\n",
    "# Set the figure size\n",
    "fig_dims = (8, 6)\n",
    "fig, ax = plt.subplots(figsize=fig_dims)\n",
    "\n",
    "p1 = sns.scatterplot(x=df_analysis['median_family_income'],y=df_analysis['num_critical'], data=df_analysis, alpha=1, edgecolor='none', s=40, ax=ax)\n",
    "p1.set_title('Median Family Income vs Num Critical')\n",
    "xlabels = ['{:}'.format(x) + 'K' for x in p1.get_xticks()/1000]\n",
    "p1.set_xticklabels(xlabels)\n",
    "plt.plot(fam_incomes, pred_fam_income, color='red', linewidth=2, label='Model')"
   ]
  },
  {
   "cell_type": "markdown",
   "metadata": {},
   "source": [
    "Looking at the graph, we can see some sort of linear relationship, although it is little. The line negatively sloped as expected. We'll further analyze it by doing some linear regression on it."
   ]
  },
  {
   "cell_type": "code",
   "execution_count": 7,
   "metadata": {},
   "outputs": [
    {
     "name": "stdout",
     "output_type": "stream",
     "text": [
      "                            OLS Regression Results                            \n",
      "==============================================================================\n",
      "Dep. Variable:           num_critical   R-squared:                       0.035\n",
      "Model:                            OLS   Adj. R-squared:                  0.006\n",
      "Method:                 Least Squares   F-statistic:                     1.192\n",
      "Date:                Wed, 10 Jun 2020   Prob (F-statistic):              0.283\n",
      "Time:                        23:33:32   Log-Likelihood:                -111.27\n",
      "No. Observations:                  35   AIC:                             226.5\n",
      "Df Residuals:                      33   BIC:                             229.6\n",
      "Df Model:                           1                                         \n",
      "Covariance Type:            nonrobust                                         \n",
      "========================================================================================\n",
      "                           coef    std err          t      P>|t|      [0.025      0.975]\n",
      "----------------------------------------------------------------------------------------\n",
      "Intercept               23.9616      3.670      6.529      0.000      16.495      31.428\n",
      "median_family_income -4.556e-05   4.17e-05     -1.092      0.283      -0.000    3.93e-05\n",
      "==============================================================================\n",
      "Omnibus:                        5.780   Durbin-Watson:                   0.100\n",
      "Prob(Omnibus):                  0.056   Jarque-Bera (JB):                4.835\n",
      "Skew:                           0.906   Prob(JB):                       0.0891\n",
      "Kurtosis:                       3.183   Cond. No.                     3.19e+05\n",
      "==============================================================================\n",
      "\n",
      "Warnings:\n",
      "[1] Standard Errors assume that the covariance matrix of the errors is correctly specified.\n",
      "[2] The condition number is large, 3.19e+05. This might indicate that there are\n",
      "strong multicollinearity or other numerical problems.\n"
     ]
    }
   ],
   "source": [
    "outcome_1, predictors_1 = patsy.dmatrices(\"num_critical ~ median_family_income\", df_analysis)\n",
    "mod_1 = sm.OLS(outcome_1, predictors_1)\n",
    "res_1 = mod_1.fit()\n",
    "print(res_1.summary())"
   ]
  },
  {
   "cell_type": "markdown",
   "metadata": {},
   "source": [
    "The p value here is not so big, but it is not as small as we would like. The R-squared value is also quite small. Therefore, we can't see this linear model as a good predictor and see no clear relation between the variables."
   ]
  },
  {
   "cell_type": "markdown",
   "metadata": {},
   "source": [
    "### Median Household Income vs Num Critical"
   ]
  },
  {
   "cell_type": "code",
   "execution_count": 8,
   "metadata": {},
   "outputs": [
    {
     "data": {
      "text/plain": [
       "[<matplotlib.lines.Line2D at 0x7f569ed76668>]"
      ]
     },
     "execution_count": 8,
     "metadata": {},
     "output_type": "execute_result"
    },
    {
     "data": {
      "image/png": "[encoded data removed]",
      "text/plain": [
       "<Figure size 576x432 with 1 Axes>"
      ]
     },
     "metadata": {
      "needs_background": "light"
     },
     "output_type": "display_data"
    }
   ],
   "source": [
    "# We have to setup a line in order to see any sort of linearity\n",
    "a2, b2 = np.polyfit(df_analysis['median_household_income'], df_analysis['num_critical'], 1)\n",
    "household_incomes = np.arange(df_analysis['median_household_income'].min(), df_analysis['median_household_income'].max(), 1000)\n",
    "pred_household_income = a2 * household_incomes + b2\n",
    "\n",
    "# Set the figure size\n",
    "fig_dims = (8, 6)\n",
    "fig, ax = plt.subplots(figsize=fig_dims)\n",
    "\n",
    "p2 = sns.scatterplot(x=df_analysis['median_household_income'],y=df_analysis['num_critical'], data=df_analysis, alpha=1, edgecolor='none', s=40, ax=ax)\n",
    "p2.set_title('Median household Income vs Num Critical')\n",
    "xlabels = ['{:}'.format(x) + 'K' for x in p2.get_xticks()/1000]\n",
    "p2.set_xticklabels(xlabels)\n",
    "plt.plot(household_incomes, pred_household_income, color='red', linewidth=2, label='Model')"
   ]
  },
  {
   "cell_type": "markdown",
   "metadata": {},
   "source": [
    "Plotted data is similar to the family income data. Dots show a very slight tendency downward and the line has a negative slope as predicted."
   ]
  },
  {
   "cell_type": "code",
   "execution_count": 9,
   "metadata": {},
   "outputs": [
    {
     "name": "stdout",
     "output_type": "stream",
     "text": [
      "                            OLS Regression Results                            \n",
      "==============================================================================\n",
      "Dep. Variable:           num_critical   R-squared:                       0.026\n",
      "Model:                            OLS   Adj. R-squared:                 -0.003\n",
      "Method:                 Least Squares   F-statistic:                    0.8836\n",
      "Date:                Wed, 10 Jun 2020   Prob (F-statistic):              0.354\n",
      "Time:                        23:33:33   Log-Likelihood:                -111.42\n",
      "No. Observations:                  35   AIC:                             226.8\n",
      "Df Residuals:                      33   BIC:                             230.0\n",
      "Df Model:                           1                                         \n",
      "Covariance Type:            nonrobust                                         \n",
      "===========================================================================================\n",
      "                              coef    std err          t      P>|t|      [0.025      0.975]\n",
      "-------------------------------------------------------------------------------------------\n",
      "Intercept                  23.5201      3.768      6.242      0.000      15.854      31.187\n",
      "median_household_income -4.995e-05   5.31e-05     -0.940      0.354      -0.000    5.82e-05\n",
      "==============================================================================\n",
      "Omnibus:                        6.819   Durbin-Watson:                   0.086\n",
      "Prob(Omnibus):                  0.033   Jarque-Bera (JB):                5.808\n",
      "Skew:                           0.986   Prob(JB):                       0.0548\n",
      "Kurtosis:                       3.304   Cond. No.                     2.63e+05\n",
      "==============================================================================\n",
      "\n",
      "Warnings:\n",
      "[1] Standard Errors assume that the covariance matrix of the errors is correctly specified.\n",
      "[2] The condition number is large, 2.63e+05. This might indicate that there are\n",
      "strong multicollinearity or other numerical problems.\n"
     ]
    }
   ],
   "source": [
    "outcome_2, predictors_2 = patsy.dmatrices(\"num_critical ~ median_household_income\", df_analysis)\n",
    "mod_2 = sm.OLS(outcome_2, predictors_2)\n",
    "res_2 = mod_2.fit()\n",
    "print(res_2.summary())"
   ]
  },
  {
   "cell_type": "markdown",
   "metadata": {},
   "source": [
    "The p value here is even bigger than the one of the previous variable and the R-squared is even smaller than the previous. Therefore, we once again fail to use this model as a good predictor and fail to see any clear relationship between both variables."
   ]
  },
  {
   "cell_type": "markdown",
   "metadata": {},
   "source": [
    "### Per Capita Income vs Num Critical"
   ]
  },
  {
   "cell_type": "code",
   "execution_count": 10,
   "metadata": {},
   "outputs": [
    {
     "data": {
      "text/plain": [
       "[<matplotlib.lines.Line2D at 0x7f569ed77080>]"
      ]
     },
     "execution_count": 10,
     "metadata": {},
     "output_type": "execute_result"
    },
    {
     "data": {
      "image/png": "[encoded data removed]",
      "text/plain": [
       "<Figure size 576x432 with 1 Axes>"
      ]
     },
     "metadata": {
      "needs_background": "light"
     },
     "output_type": "display_data"
    }
   ],
   "source": [
    "# We have to setup a line in order to see any sort of linearity\n",
    "a3, b3 = np.polyfit(df_analysis['per_capita_income'], df_analysis['num_critical'], 1)\n",
    "percapita_incomes = np.arange(df_analysis['per_capita_income'].min(), df_analysis['per_capita_income'].max(), 1000)\n",
    "pred_percapita_income = a3 * percapita_incomes + b3\n",
    "\n",
    "# Set the figure size\n",
    "fig_dims = (8, 6)\n",
    "fig, ax = plt.subplots(figsize=fig_dims)\n",
    "\n",
    "p3 = sns.scatterplot(x=df_analysis['per_capita_income'],y=df_analysis['num_critical'], data=df_analysis, alpha=1, edgecolor='none', s=40, ax=ax)\n",
    "p3.set_title('Per Capita Income vs Num Critical')\n",
    "xlabels = ['{:}'.format(x) + 'K' for x in p3.get_xticks()/1000]\n",
    "p3.set_xticklabels(xlabels)\n",
    "plt.plot(percapita_incomes, pred_percapita_income, color='red', linewidth=2, label='Model')"
   ]
  },
  {
   "cell_type": "markdown",
   "metadata": {},
   "source": [
    "Once again the line tends to slope negatively as expectected. The data seems to be more spread out than the previous ones however."
   ]
  },
  {
   "cell_type": "code",
   "execution_count": 11,
   "metadata": {},
   "outputs": [
    {
     "name": "stdout",
     "output_type": "stream",
     "text": [
      "                            OLS Regression Results                            \n",
      "==============================================================================\n",
      "Dep. Variable:           num_critical   R-squared:                       0.027\n",
      "Model:                            OLS   Adj. R-squared:                 -0.002\n",
      "Method:                 Least Squares   F-statistic:                    0.9171\n",
      "Date:                Wed, 10 Jun 2020   Prob (F-statistic):              0.345\n",
      "Time:                        23:33:33   Log-Likelihood:                -111.41\n",
      "No. Observations:                  35   AIC:                             226.8\n",
      "Df Residuals:                      33   BIC:                             229.9\n",
      "Df Model:                           1                                         \n",
      "Covariance Type:            nonrobust                                         \n",
      "=====================================================================================\n",
      "                        coef    std err          t      P>|t|      [0.025      0.975]\n",
      "-------------------------------------------------------------------------------------\n",
      "Intercept            23.3928      3.576      6.541      0.000      16.117      30.669\n",
      "per_capita_income  -9.76e-05      0.000     -0.958      0.345      -0.000       0.000\n",
      "==============================================================================\n",
      "Omnibus:                        5.810   Durbin-Watson:                   0.083\n",
      "Prob(Omnibus):                  0.055   Jarque-Bera (JB):                4.864\n",
      "Skew:                           0.908   Prob(JB):                       0.0878\n",
      "Kurtosis:                       3.185   Cond. No.                     1.24e+05\n",
      "==============================================================================\n",
      "\n",
      "Warnings:\n",
      "[1] Standard Errors assume that the covariance matrix of the errors is correctly specified.\n",
      "[2] The condition number is large, 1.24e+05. This might indicate that there are\n",
      "strong multicollinearity or other numerical problems.\n"
     ]
    }
   ],
   "source": [
    "outcome_3, predictors_3 = patsy.dmatrices(\"num_critical ~ per_capita_income\", df_analysis)\n",
    "mod_3 = sm.OLS(outcome_3, predictors_3)\n",
    "res_3 = mod_3.fit()\n",
    "print(res_3.summary())"
   ]
  },
  {
   "cell_type": "markdown",
   "metadata": {},
   "source": [
    "With a similar p-value and R-squared value as the previous model, we once again fail to see a clear relationship between the variables."
   ]
  },
  {
   "cell_type": "markdown",
   "metadata": {},
   "source": [
    "# Ethics & Privacy"
   ]
  },
  {
   "cell_type": "markdown",
   "metadata": {},
   "source": [
    "With regards to the ethics regarding the data of the project, there should be no problem as it was provided to us for the purpose of this project. The biggest concern that I can think of with the dataset is that even though it only focuses on a specific area, it does not contain all of the zipcodes included in the other datasets. This might lead to an innaccurate representation of the overall population in the state, that led to omitting some data that could have led to different results. With regards to my displaying of the data, I made sure that the report does not display any individual information of each restaurant, or something that might identify an individual restaurant. All calculations were made before actually displaying the general zip code data. "
   ]
  },
  {
   "cell_type": "markdown",
   "metadata": {},
   "source": [
    "# Conclusion & Discussion"
   ]
  },
  {
   "cell_type": "markdown",
   "metadata": {},
   "source": [
    "The goal of my project was to find a relationship between the income in an area and the the number of critical violations in that area. I used a dataset that contained information about individual inspections in NC, as well as a dataset that contained income data for different zipcode areas in NC. I ended up modifying the inspection dataset so as to display the average number of critical inspections per zipcode and joined it with the area income dataset in order to go forth with my analysis. I ended up using scatterplots to analyze the relationship between the different income variables and the number of critical violations, as well as linear regression techniques. Even though I ended up finding a negative correlation between the variables, it was considerably small and with the rest of the result of the analysis, I was not able to find a relationship between any of the income variables and critical violations for that area, leading me to conclude that there was no relationship to be found. \n",
    "\n",
    "With regards to the limitations in this project, I can say that lack of a complete dataset that included all zipcodes in the state of NC might have led to an incomplete observation of the problem. Also, the way the data was recorded prevented me from being able to confidently go forth with a different type of question/problem, most specifically with how names were recorded in the yelp dataset and the inspection dataset. Concerning the impact of this project is mostly related to fully answering the question about income relationship with health inspections. Considering there can be other ways to approach this problem, a greater thorough analysis could maybe uncover injustices in the resources some communities can have with regards to the inspections."
   ]
  }
 ],
 "metadata": {
  "kernelspec": {
   "display_name": "Python 3",
   "language": "python",
   "name": "python3"
  },
  "language_info": {
   "codemirror_mode": {
    "name": "ipython",
    "version": 3
   },
   "file_extension": ".py",
   "mimetype": "text/x-python",
   "name": "python",
   "nbconvert_exporter": "python",
   "pygments_lexer": "ipython3",
   "version": "3.6.7"
  }
 },
 "nbformat": 4,
 "nbformat_minor": 2
}
