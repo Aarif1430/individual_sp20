{
 "cells": [
  {
   "cell_type": "markdown",
   "metadata": {},
   "source": [
    "# COGS 108 - Final Project "
   ]
  },
  {
   "cell_type": "markdown",
   "metadata": {},
   "source": [
    "# Overview"
   ]
  },
  {
   "cell_type": "markdown",
   "metadata": {},
   "source": [
    "For Later"
   ]
  },
  {
   "cell_type": "markdown",
   "metadata": {},
   "source": [
    "# Name & PID\n",
    "\n",
    "- Name: Emmanuel Ejanda\n",
    "- PID: A13709073"
   ]
  },
  {
   "cell_type": "markdown",
   "metadata": {},
   "source": [
    "# Research Question"
   ]
  },
  {
   "cell_type": "markdown",
   "metadata": {},
   "source": [
    "What are the common cases when looking through an inspection dataset for a restaurant within the state of California to drop in health letter grade/ fail a health inspection?"
   ]
  },
  {
   "cell_type": "markdown",
   "metadata": {},
   "source": [
    "## Background and Prior Work"
   ]
  },
  {
   "cell_type": "markdown",
   "metadata": {},
   "source": [
    "-Health code violations within resteraunts are recorded and documented within this checklist; in summary, this reference includes such violations and information regarding the instances (Reference 1)\n",
    "\n",
    "-A summary for this reference is information regarding the city of San Diego's health inspection codes and regulations within the state of California (Reference 2)\n",
    "\n",
    "-A summary for this reference is information regarding the county of Los Angeles with included high risk and low risk specifications within the state of California (Reference 3)\n",
    "\n",
    "-Overall, an analysis of the Grade System for Health Inspection relies on the resteraunt's compliances with lists that detail what practices should and should not be seen within the environment. After going through the list and tallying up what was and was not followed, a letter grade is issued - this is the factor that which will be the focus for this research project.\n",
    "\n",
    "References (include links):\n",
    "- 1) \n",
    "https://www.webstaurantstore.com/article/16/health-inspection-checklist.html\n",
    "\n",
    "- 2) https://www.sandiegocounty.gov/content/dam/sdc/deh/fhd/food/pdf/publications_foodselfinspection.pdf\n",
    "\n",
    "- 3)\n",
    "http://www.publichealth.lacounty.gov/EH/docs/RefGuideFoodInspectionReport.pdf"
   ]
  },
  {
   "cell_type": "markdown",
   "metadata": {},
   "source": [
    "# Hypothesis\n"
   ]
  },
  {
   "cell_type": "markdown",
   "metadata": {},
   "source": [
    "Hypothesis: I believe that the common mistakes and errors found within health inspections directly cause a decrease in food regulation compliance letter grades.\n",
    "\n",
    "Why?: This hypothesis was developed by wondering what causes a resteraunt to lose ratings in health inspections. In an effort fo find out why, I looked to the health inspection regulations and checklists and began thinking of how these items could affect the overall grade for the resteraunt. Knowing the answer to this could give an opportunity to spread information to other restaurants and increase health and safety regulations while also improving restaurant health inspection processes."
   ]
  },
  {
   "cell_type": "markdown",
   "metadata": {},
   "source": [
    "# Dataset(s)"
   ]
  },
  {
   "cell_type": "markdown",
   "metadata": {},
   "source": [
    "*Fill in your dataset information here*\n",
    "\n",
    "(Copy this information for each dataset)\n",
    "- Dataset Name:\n",
    "- Link to the dataset:\n",
    "- Number of observations:\n",
    "\n",
    "1-2 sentences describing each dataset. \n",
    "\n",
    "If you plan to use multiple datasets, add 1-2 sentences about how you plan to combine these datasets."
   ]
  },
  {
   "cell_type": "markdown",
   "metadata": {},
   "source": [
    "# Setup"
   ]
  },
  {
   "cell_type": "code",
   "execution_count": 3,
   "metadata": {},
   "outputs": [],
   "source": [
    "## YOUR CODE HERE"
   ]
  },
  {
   "cell_type": "markdown",
   "metadata": {},
   "source": [
    "# Data Cleaning"
   ]
  },
  {
   "cell_type": "markdown",
   "metadata": {},
   "source": [
    "Describe your data cleaning steps here."
   ]
  },
  {
   "cell_type": "code",
   "execution_count": 4,
   "metadata": {},
   "outputs": [],
   "source": [
    "## YOUR CODE HERE\n",
    "## FEEL FREE TO ADD MULTIPLE CELLS PER SECTION"
   ]
  },
  {
   "cell_type": "markdown",
   "metadata": {},
   "source": [
    "# Data Analysis & Results"
   ]
  },
  {
   "cell_type": "markdown",
   "metadata": {},
   "source": [
    "Include cells that describe the steps in your data analysis."
   ]
  },
  {
   "cell_type": "code",
   "execution_count": 5,
   "metadata": {},
   "outputs": [],
   "source": [
    "## YOUR CODE HERE\n",
    "## FEEL FREE TO ADD MULTIPLE CELLS PER SECTION"
   ]
  },
  {
   "cell_type": "markdown",
   "metadata": {},
   "source": [
    "# Ethics & Privacy"
   ]
  },
  {
   "cell_type": "markdown",
   "metadata": {},
   "source": [
    "Certain privacy issues that must be dealt with would have to be the names/locations of restaurants should they appear in the dataset. We would need to remove these pieces of information as they are not relevant to the question we are trying to answer, as well as the information could potentially lead to unforseen consequences should we examine one such restaurant with less than adequate health results.\n",
    "\n",
    "Another issue that may potentially be found in the data that we find is that it may only contain data that speaks of only errors found within restaurants while restaurants with perfect / no violations are kept out of the records due to not needing to be recorded. In which case, we must find and search for datasets that include both ends of the spectrum for health inspections; Those that meet standard requirements and those that do not meet certain requirements when it comes to inspections."
   ]
  },
  {
   "cell_type": "markdown",
   "metadata": {},
   "source": [
    "# Conclusion & Discussion"
   ]
  },
  {
   "cell_type": "markdown",
   "metadata": {},
   "source": [
    "*Fill in your discussion information here*"
   ]
  }
 ],
 "metadata": {
  "kernelspec": {
   "display_name": "Python 3",
   "language": "python",
   "name": "python3"
  },
  "language_info": {
   "codemirror_mode": {
    "name": "ipython",
    "version": 3
   },
   "file_extension": ".py",
   "mimetype": "text/x-python",
   "name": "python",
   "nbconvert_exporter": "python",
   "pygments_lexer": "ipython3",
   "version": "3.7.6"
  }
 },
 "nbformat": 4,
 "nbformat_minor": 2
}
