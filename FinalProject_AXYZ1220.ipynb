{
 "cells": [
  {
   "cell_type": "markdown",
   "metadata": {},
   "source": [
    "# COGS 108 - Final Project "
   ]
  },
  {
   "cell_type": "markdown",
   "metadata": {},
   "source": [
    "# Overview"
   ]
  },
  {
   "cell_type": "markdown",
   "metadata": {},
   "source": [
    "The common frequency of restaurant inspection is once in six months. If a restaurant has severe issues, it usually get inspected more than twice a year. In the dataset I use, the issues can be reflected by inspection score, number of critical issues, number of non-critical issues. However, there is no statistically significant relationship between frequency of inspection and any variables mentioned above. "
   ]
  },
  {
   "cell_type": "markdown",
   "metadata": {},
   "source": [
    "# Name & PID\n",
    "\n",
    "- Name: Yingzi Jin\n",
    "- PID: A15099906"
   ]
  },
  {
   "cell_type": "markdown",
   "metadata": {},
   "source": [
    "# Research Question"
   ]
  },
  {
   "cell_type": "markdown",
   "metadata": {},
   "source": [
    "Does the inspectors inspect the facilities that have relatively low scores/more critical issues more often? Does the food safety level of the neighborhood affect the frequency of the inspection?"
   ]
  },
  {
   "cell_type": "markdown",
   "metadata": {},
   "source": [
    "## Background and Prior Work"
   ]
  },
  {
   "cell_type": "markdown",
   "metadata": {},
   "source": [
    "References (include links):\n",
    "- 1)  https://www.news4jax.com/news/2017/07/21/how-often-are-restaurants-checked-by-state-inspectors/\n",
    "    \n",
    "    This article provides some information about frequency of inspection:\n",
    "    Since restaurants cook raw food, then they are in the level 2. Thus, they get inspected at least twice a year. \n",
    "    If the restaurants are violators before, they can get inspected more, around three times per year, even more frequently.\n",
    "\n",
    "\n",
    "- 2)  https://www.rhinotimes.com/archives/state-made-harder-inspect-restaurants-fewer-get-inspected/\n",
    "\n",
    "    This article states that it is increasingly difficult to do inspection. It has very complex processes and takes longer time. Therefore, the inspection rate is not very high. This can prevent the inspectors to do more inspections. "
   ]
  },
  {
   "cell_type": "markdown",
   "metadata": {},
   "source": [
    "# Hypothesis\n"
   ]
  },
  {
   "cell_type": "markdown",
   "metadata": {},
   "source": [
    "The restaurants that have lower inspection scores, more critical issues, or more non-critical issues would be inspected more often.\n",
    "\n",
    "Based on my first reference, the facilities that violate the rules before should get more frequent inspections. This is also reasonable because these facilities have more potential to make violations again. However, the second reference reminds me that the practicality of increasing the frequency of inspections is questionable. Therefore, this project is aimed at understanding the situation in reality. "
   ]
  },
  {
   "cell_type": "markdown",
   "metadata": {},
   "source": [
    "# Dataset(s)"
   ]
  },
  {
   "cell_type": "markdown",
   "metadata": {},
   "source": [
    "\n",
    "- Dataset Name: inspection.csv (COGS108 Canvas)\n",
    "- Link to the dataset:https://canvas.ucsd.edu/courses/12630/files?\n",
    "- Number of observations: 18466\n",
    "\n",
    "This dataset contains detailed information about inspections of food facilities that were made bewteen 2012-09 and 2016-11 in North Carolina . "
   ]
  },
  {
   "cell_type": "markdown",
   "metadata": {},
   "source": [
    "# Setup"
   ]
  },
  {
   "cell_type": "code",
   "execution_count": 1,
   "metadata": {},
   "outputs": [],
   "source": [
    "import pandas as pd\n",
    "import seaborn as sns\n",
    "import matplotlib.pyplot as plt\n",
    "import numpy as np\n",
    "\n",
    "import patsy\n",
    "import statsmodels.api as sm\n",
    "import scipy.stats as stats\n",
    "from scipy.stats import normaltest"
   ]
  },
  {
   "cell_type": "markdown",
   "metadata": {},
   "source": [
    "# Data Cleaning"
   ]
  },
  {
   "cell_type": "markdown",
   "metadata": {},
   "source": [
    "Describe your data cleaning steps here."
   ]
  },
  {
   "cell_type": "code",
   "execution_count": 118,
   "metadata": {},
   "outputs": [],
   "source": [
    "df = pd.read_csv('/home/yij138/FinalProject/inspections.csv')\n",
    "df = df[df['facilitytype']=='Restaurant'] #Extract the restaurants\n",
    "df = df[['hsisid','inspection_num','days_since_previous_inspection','score','num_critical','num_non_critical','avg_neighbor_num_critical','avg_neighbor_num_non_critical']]"
   ]
  },
  {
   "cell_type": "code",
   "execution_count": 119,
   "metadata": {},
   "outputs": [],
   "source": [
    "#Calculate the frequency\n",
    "df_avg = df.groupby('hsisid').agg('mean')\n",
    "df_avg['frequency'] = df_avg['days_since_previous_inspection']\n",
    "df_avg = df_avg.reset_index()"
   ]
  },
  {
   "cell_type": "code",
   "execution_count": 120,
   "metadata": {},
   "outputs": [],
   "source": [
    "#Add a frequency column\n",
    "df_f = df_avg[['hsisid','frequency']]\n",
    "df = pd.merge(df, df_f, on='hsisid')"
   ]
  },
  {
   "cell_type": "code",
   "execution_count": 121,
   "metadata": {},
   "outputs": [],
   "source": [
    "df = df.dropna(subset=['frequency']) #drop all the rows whose frequency columns are null \n",
    "df = df[['hsisid','inspection_num','score','num_critical',\n",
    "         'num_non_critical','avg_neighbor_num_critical',\n",
    "         'avg_neighbor_num_non_critical','frequency']]"
   ]
  },
  {
   "cell_type": "markdown",
   "metadata": {},
   "source": [
    "# Data Analysis & Results"
   ]
  },
  {
   "cell_type": "markdown",
   "metadata": {},
   "source": [
    "Include cells that describe the steps in your data analysis."
   ]
  },
  {
   "cell_type": "code",
   "execution_count": 122,
   "metadata": {},
   "outputs": [
    {
     "data": {
      "text/html": [
       "<div>\n",
       "<style scoped>\n",
       "    .dataframe tbody tr th:only-of-type {\n",
       "        vertical-align: middle;\n",
       "    }\n",
       "\n",
       "    .dataframe tbody tr th {\n",
       "        vertical-align: top;\n",
       "    }\n",
       "\n",
       "    .dataframe thead th {\n",
       "        text-align: right;\n",
       "    }\n",
       "</style>\n",
       "<table border=\"1\" class=\"dataframe\">\n",
       "  <thead>\n",
       "    <tr style=\"text-align: right;\">\n",
       "      <th></th>\n",
       "      <th>hsisid</th>\n",
       "      <th>inspection_num</th>\n",
       "      <th>score</th>\n",
       "      <th>num_critical</th>\n",
       "      <th>num_non_critical</th>\n",
       "      <th>avg_neighbor_num_critical</th>\n",
       "      <th>avg_neighbor_num_non_critical</th>\n",
       "      <th>frequency</th>\n",
       "    </tr>\n",
       "  </thead>\n",
       "  <tbody>\n",
       "    <tr>\n",
       "      <th>count</th>\n",
       "      <td>1.182700e+04</td>\n",
       "      <td>11827.000000</td>\n",
       "      <td>11827.000000</td>\n",
       "      <td>11827.000000</td>\n",
       "      <td>11827.000000</td>\n",
       "      <td>11823.000000</td>\n",
       "      <td>11823.000000</td>\n",
       "      <td>11827.000000</td>\n",
       "    </tr>\n",
       "    <tr>\n",
       "      <th>mean</th>\n",
       "      <td>4.092015e+09</td>\n",
       "      <td>4.038302</td>\n",
       "      <td>95.661875</td>\n",
       "      <td>3.351399</td>\n",
       "      <td>5.931513</td>\n",
       "      <td>3.416094</td>\n",
       "      <td>5.787281</td>\n",
       "      <td>200.562781</td>\n",
       "    </tr>\n",
       "    <tr>\n",
       "      <th>std</th>\n",
       "      <td>1.818725e+03</td>\n",
       "      <td>2.367969</td>\n",
       "      <td>2.719702</td>\n",
       "      <td>3.045730</td>\n",
       "      <td>3.843049</td>\n",
       "      <td>1.590063</td>\n",
       "      <td>2.095196</td>\n",
       "      <td>53.847462</td>\n",
       "    </tr>\n",
       "    <tr>\n",
       "      <th>min</th>\n",
       "      <td>4.092010e+09</td>\n",
       "      <td>1.000000</td>\n",
       "      <td>72.500000</td>\n",
       "      <td>0.000000</td>\n",
       "      <td>0.000000</td>\n",
       "      <td>0.000000</td>\n",
       "      <td>0.800000</td>\n",
       "      <td>0.000000</td>\n",
       "    </tr>\n",
       "    <tr>\n",
       "      <th>25%</th>\n",
       "      <td>4.092014e+09</td>\n",
       "      <td>2.000000</td>\n",
       "      <td>94.500000</td>\n",
       "      <td>1.000000</td>\n",
       "      <td>3.000000</td>\n",
       "      <td>2.200000</td>\n",
       "      <td>4.367262</td>\n",
       "      <td>167.375000</td>\n",
       "    </tr>\n",
       "    <tr>\n",
       "      <th>50%</th>\n",
       "      <td>4.092015e+09</td>\n",
       "      <td>4.000000</td>\n",
       "      <td>96.000000</td>\n",
       "      <td>3.000000</td>\n",
       "      <td>5.000000</td>\n",
       "      <td>3.200000</td>\n",
       "      <td>5.480000</td>\n",
       "      <td>189.000000</td>\n",
       "    </tr>\n",
       "    <tr>\n",
       "      <th>75%</th>\n",
       "      <td>4.092016e+09</td>\n",
       "      <td>6.000000</td>\n",
       "      <td>97.500000</td>\n",
       "      <td>5.000000</td>\n",
       "      <td>8.000000</td>\n",
       "      <td>4.347619</td>\n",
       "      <td>6.850000</td>\n",
       "      <td>224.500000</td>\n",
       "    </tr>\n",
       "    <tr>\n",
       "      <th>max</th>\n",
       "      <td>4.092017e+09</td>\n",
       "      <td>16.000000</td>\n",
       "      <td>100.000000</td>\n",
       "      <td>23.000000</td>\n",
       "      <td>33.000000</td>\n",
       "      <td>10.446667</td>\n",
       "      <td>16.333333</td>\n",
       "      <td>637.000000</td>\n",
       "    </tr>\n",
       "  </tbody>\n",
       "</table>\n",
       "</div>"
      ],
      "text/plain": [
       "             hsisid  inspection_num         score  num_critical  \\\n",
       "count  1.182700e+04    11827.000000  11827.000000  11827.000000   \n",
       "mean   4.092015e+09        4.038302     95.661875      3.351399   \n",
       "std    1.818725e+03        2.367969      2.719702      3.045730   \n",
       "min    4.092010e+09        1.000000     72.500000      0.000000   \n",
       "25%    4.092014e+09        2.000000     94.500000      1.000000   \n",
       "50%    4.092015e+09        4.000000     96.000000      3.000000   \n",
       "75%    4.092016e+09        6.000000     97.500000      5.000000   \n",
       "max    4.092017e+09       16.000000    100.000000     23.000000   \n",
       "\n",
       "       num_non_critical  avg_neighbor_num_critical  \\\n",
       "count      11827.000000               11823.000000   \n",
       "mean           5.931513                   3.416094   \n",
       "std            3.843049                   1.590063   \n",
       "min            0.000000                   0.000000   \n",
       "25%            3.000000                   2.200000   \n",
       "50%            5.000000                   3.200000   \n",
       "75%            8.000000                   4.347619   \n",
       "max           33.000000                  10.446667   \n",
       "\n",
       "       avg_neighbor_num_non_critical     frequency  \n",
       "count                   11823.000000  11827.000000  \n",
       "mean                        5.787281    200.562781  \n",
       "std                         2.095196     53.847462  \n",
       "min                         0.800000      0.000000  \n",
       "25%                         4.367262    167.375000  \n",
       "50%                         5.480000    189.000000  \n",
       "75%                         6.850000    224.500000  \n",
       "max                        16.333333    637.000000  "
      ]
     },
     "execution_count": 122,
     "metadata": {},
     "output_type": "execute_result"
    }
   ],
   "source": [
    "#Have a general understanding of the dataset\n",
    "df.describe()\n",
    "#We can see the average frequency is around once in 200 days, 20 days longer than 6 months (180 days)"
   ]
  },
  {
   "cell_type": "code",
   "execution_count": 123,
   "metadata": {},
   "outputs": [
    {
     "data": {
      "text/plain": [
       "<matplotlib.axes._subplots.AxesSubplot at 0x7fa01466b438>"
      ]
     },
     "execution_count": 123,
     "metadata": {},
     "output_type": "execute_result"
    },
    {
     "data": {
      "image/png": "[encoded data removed]",
      "text/plain": [
       "<Figure size 432x288 with 1 Axes>"
      ]
     },
     "metadata": {
      "needs_background": "light"
     },
     "output_type": "display_data"
    }
   ],
   "source": [
    "#Get the general understanding of the distribution of the frequency\n",
    "df_f = df[['frequency']]\n",
    "\n",
    "sns.distplot(df_f) #Does not spread out much, but has very long tails, which means that it has several outliers"
   ]
  },
  {
   "cell_type": "code",
   "execution_count": 124,
   "metadata": {},
   "outputs": [],
   "source": [
    "df = df[df['frequency']<=400] #focus on the majority of the frequency"
   ]
  },
  {
   "cell_type": "code",
   "execution_count": 125,
   "metadata": {},
   "outputs": [
    {
     "data": {
      "text/plain": [
       "True"
      ]
     },
     "execution_count": 125,
     "metadata": {},
     "output_type": "execute_result"
    }
   ],
   "source": [
    "#Check the normality\n",
    "f = df_f['frequency']\n",
    "st_f, p_f = stats.normaltest(f)\n",
    "p_f < 0.05 #The output is True. Therefore, the frequency is not normally distributed. "
   ]
  },
  {
   "cell_type": "code",
   "execution_count": 126,
   "metadata": {},
   "outputs": [
    {
     "data": {
      "text/html": [
       "<div>\n",
       "<style scoped>\n",
       "    .dataframe tbody tr th:only-of-type {\n",
       "        vertical-align: middle;\n",
       "    }\n",
       "\n",
       "    .dataframe tbody tr th {\n",
       "        vertical-align: top;\n",
       "    }\n",
       "\n",
       "    .dataframe thead th {\n",
       "        text-align: right;\n",
       "    }\n",
       "</style>\n",
       "<table border=\"1\" class=\"dataframe\">\n",
       "  <thead>\n",
       "    <tr style=\"text-align: right;\">\n",
       "      <th></th>\n",
       "      <th>hsisid</th>\n",
       "      <th>inspection_num</th>\n",
       "      <th>score</th>\n",
       "      <th>num_critical</th>\n",
       "      <th>num_non_critical</th>\n",
       "      <th>avg_neighbor_num_critical</th>\n",
       "      <th>avg_neighbor_num_non_critical</th>\n",
       "      <th>frequency</th>\n",
       "    </tr>\n",
       "  </thead>\n",
       "  <tbody>\n",
       "    <tr>\n",
       "      <th>hsisid</th>\n",
       "      <td>1.000000</td>\n",
       "      <td>NaN</td>\n",
       "      <td>0.007295</td>\n",
       "      <td>-0.075580</td>\n",
       "      <td>-0.240640</td>\n",
       "      <td>-0.088014</td>\n",
       "      <td>-0.082438</td>\n",
       "      <td>-0.119632</td>\n",
       "    </tr>\n",
       "    <tr>\n",
       "      <th>inspection_num</th>\n",
       "      <td>NaN</td>\n",
       "      <td>NaN</td>\n",
       "      <td>NaN</td>\n",
       "      <td>NaN</td>\n",
       "      <td>NaN</td>\n",
       "      <td>NaN</td>\n",
       "      <td>NaN</td>\n",
       "      <td>NaN</td>\n",
       "    </tr>\n",
       "    <tr>\n",
       "      <th>score</th>\n",
       "      <td>0.007295</td>\n",
       "      <td>NaN</td>\n",
       "      <td>1.000000</td>\n",
       "      <td>-0.627074</td>\n",
       "      <td>-0.569906</td>\n",
       "      <td>-0.173994</td>\n",
       "      <td>-0.130617</td>\n",
       "      <td>0.038525</td>\n",
       "    </tr>\n",
       "    <tr>\n",
       "      <th>num_critical</th>\n",
       "      <td>-0.075580</td>\n",
       "      <td>NaN</td>\n",
       "      <td>-0.627074</td>\n",
       "      <td>1.000000</td>\n",
       "      <td>0.487044</td>\n",
       "      <td>0.405077</td>\n",
       "      <td>0.254058</td>\n",
       "      <td>-0.002281</td>\n",
       "    </tr>\n",
       "    <tr>\n",
       "      <th>num_non_critical</th>\n",
       "      <td>-0.240640</td>\n",
       "      <td>NaN</td>\n",
       "      <td>-0.569906</td>\n",
       "      <td>0.487044</td>\n",
       "      <td>1.000000</td>\n",
       "      <td>0.313241</td>\n",
       "      <td>0.397988</td>\n",
       "      <td>0.017745</td>\n",
       "    </tr>\n",
       "    <tr>\n",
       "      <th>avg_neighbor_num_critical</th>\n",
       "      <td>-0.088014</td>\n",
       "      <td>NaN</td>\n",
       "      <td>-0.173994</td>\n",
       "      <td>0.405077</td>\n",
       "      <td>0.313241</td>\n",
       "      <td>1.000000</td>\n",
       "      <td>0.590921</td>\n",
       "      <td>0.026204</td>\n",
       "    </tr>\n",
       "    <tr>\n",
       "      <th>avg_neighbor_num_non_critical</th>\n",
       "      <td>-0.082438</td>\n",
       "      <td>NaN</td>\n",
       "      <td>-0.130617</td>\n",
       "      <td>0.254058</td>\n",
       "      <td>0.397988</td>\n",
       "      <td>0.590921</td>\n",
       "      <td>1.000000</td>\n",
       "      <td>0.025738</td>\n",
       "    </tr>\n",
       "    <tr>\n",
       "      <th>frequency</th>\n",
       "      <td>-0.119632</td>\n",
       "      <td>NaN</td>\n",
       "      <td>0.038525</td>\n",
       "      <td>-0.002281</td>\n",
       "      <td>0.017745</td>\n",
       "      <td>0.026204</td>\n",
       "      <td>0.025738</td>\n",
       "      <td>1.000000</td>\n",
       "    </tr>\n",
       "  </tbody>\n",
       "</table>\n",
       "</div>"
      ],
      "text/plain": [
       "                                 hsisid  inspection_num     score  \\\n",
       "hsisid                         1.000000             NaN  0.007295   \n",
       "inspection_num                      NaN             NaN       NaN   \n",
       "score                          0.007295             NaN  1.000000   \n",
       "num_critical                  -0.075580             NaN -0.627074   \n",
       "num_non_critical              -0.240640             NaN -0.569906   \n",
       "avg_neighbor_num_critical     -0.088014             NaN -0.173994   \n",
       "avg_neighbor_num_non_critical -0.082438             NaN -0.130617   \n",
       "frequency                     -0.119632             NaN  0.038525   \n",
       "\n",
       "                               num_critical  num_non_critical  \\\n",
       "hsisid                            -0.075580         -0.240640   \n",
       "inspection_num                          NaN               NaN   \n",
       "score                             -0.627074         -0.569906   \n",
       "num_critical                       1.000000          0.487044   \n",
       "num_non_critical                   0.487044          1.000000   \n",
       "avg_neighbor_num_critical          0.405077          0.313241   \n",
       "avg_neighbor_num_non_critical      0.254058          0.397988   \n",
       "frequency                         -0.002281          0.017745   \n",
       "\n",
       "                               avg_neighbor_num_critical  \\\n",
       "hsisid                                         -0.088014   \n",
       "inspection_num                                       NaN   \n",
       "score                                          -0.173994   \n",
       "num_critical                                    0.405077   \n",
       "num_non_critical                                0.313241   \n",
       "avg_neighbor_num_critical                       1.000000   \n",
       "avg_neighbor_num_non_critical                   0.590921   \n",
       "frequency                                       0.026204   \n",
       "\n",
       "                               avg_neighbor_num_non_critical  frequency  \n",
       "hsisid                                             -0.082438  -0.119632  \n",
       "inspection_num                                           NaN        NaN  \n",
       "score                                              -0.130617   0.038525  \n",
       "num_critical                                        0.254058  -0.002281  \n",
       "num_non_critical                                    0.397988   0.017745  \n",
       "avg_neighbor_num_critical                           0.590921   0.026204  \n",
       "avg_neighbor_num_non_critical                       1.000000   0.025738  \n",
       "frequency                                           0.025738   1.000000  "
      ]
     },
     "execution_count": 126,
     "metadata": {},
     "output_type": "execute_result"
    }
   ],
   "source": [
    "#First, I want to know whether the restaurants that got lower score violations in the first inspection would be inspected more frequently \n",
    "df_1 = df[df['inspection_num']==1]\n",
    "df_1.corr() #get a general understsanding of the correlation, very trivial correlation between frequency and scores "
   ]
  },
  {
   "cell_type": "code",
   "execution_count": 109,
   "metadata": {},
   "outputs": [
    {
     "data": {
      "image/png": "[encoded data removed]",
      "text/plain": [
       "<Figure size 432x288 with 16 Axes>"
      ]
     },
     "metadata": {
      "needs_background": "light"
     },
     "output_type": "display_data"
    }
   ],
   "source": [
    "from pandas.plotting import scatter_matrix\n",
    "df_corr = df_1[['score','num_critical','avg_neighbor_num_critical','frequency']]\n",
    "fig = scatter_matrix(df_corr)\n",
    "#The scatter plots of frequency and other factors are very flat, so the correlation might be very small "
   ]
  },
  {
   "cell_type": "code",
   "execution_count": 110,
   "metadata": {
    "scrolled": true
   },
   "outputs": [
    {
     "data": {
      "text/html": [
       "<div>\n",
       "<style scoped>\n",
       "    .dataframe tbody tr th:only-of-type {\n",
       "        vertical-align: middle;\n",
       "    }\n",
       "\n",
       "    .dataframe tbody tr th {\n",
       "        vertical-align: top;\n",
       "    }\n",
       "\n",
       "    .dataframe thead th {\n",
       "        text-align: right;\n",
       "    }\n",
       "</style>\n",
       "<table border=\"1\" class=\"dataframe\">\n",
       "  <thead>\n",
       "    <tr style=\"text-align: right;\">\n",
       "      <th></th>\n",
       "      <th>hsisid</th>\n",
       "      <th>inspection_num</th>\n",
       "      <th>score</th>\n",
       "      <th>num_critical</th>\n",
       "      <th>num_non_critical</th>\n",
       "      <th>avg_neighbor_num_critical</th>\n",
       "      <th>avg_neighbor_num_non_critical</th>\n",
       "      <th>frequency</th>\n",
       "    </tr>\n",
       "  </thead>\n",
       "  <tbody>\n",
       "    <tr>\n",
       "      <th>hsisid</th>\n",
       "      <td>1.000000</td>\n",
       "      <td>NaN</td>\n",
       "      <td>-0.197574</td>\n",
       "      <td>-0.680615</td>\n",
       "      <td>-0.432420</td>\n",
       "      <td>-0.216143</td>\n",
       "      <td>-0.128255</td>\n",
       "      <td>-0.276548</td>\n",
       "    </tr>\n",
       "    <tr>\n",
       "      <th>inspection_num</th>\n",
       "      <td>NaN</td>\n",
       "      <td>NaN</td>\n",
       "      <td>NaN</td>\n",
       "      <td>NaN</td>\n",
       "      <td>NaN</td>\n",
       "      <td>NaN</td>\n",
       "      <td>NaN</td>\n",
       "      <td>NaN</td>\n",
       "    </tr>\n",
       "    <tr>\n",
       "      <th>score</th>\n",
       "      <td>-0.197574</td>\n",
       "      <td>NaN</td>\n",
       "      <td>1.000000</td>\n",
       "      <td>-0.108552</td>\n",
       "      <td>-0.540374</td>\n",
       "      <td>0.009346</td>\n",
       "      <td>-0.325646</td>\n",
       "      <td>0.288920</td>\n",
       "    </tr>\n",
       "    <tr>\n",
       "      <th>num_critical</th>\n",
       "      <td>-0.680615</td>\n",
       "      <td>NaN</td>\n",
       "      <td>-0.108552</td>\n",
       "      <td>1.000000</td>\n",
       "      <td>0.591405</td>\n",
       "      <td>-0.075983</td>\n",
       "      <td>-0.153977</td>\n",
       "      <td>0.284576</td>\n",
       "    </tr>\n",
       "    <tr>\n",
       "      <th>num_non_critical</th>\n",
       "      <td>-0.432420</td>\n",
       "      <td>NaN</td>\n",
       "      <td>-0.540374</td>\n",
       "      <td>0.591405</td>\n",
       "      <td>1.000000</td>\n",
       "      <td>-0.074327</td>\n",
       "      <td>0.311478</td>\n",
       "      <td>-0.072178</td>\n",
       "    </tr>\n",
       "    <tr>\n",
       "      <th>avg_neighbor_num_critical</th>\n",
       "      <td>-0.216143</td>\n",
       "      <td>NaN</td>\n",
       "      <td>0.009346</td>\n",
       "      <td>-0.075983</td>\n",
       "      <td>-0.074327</td>\n",
       "      <td>1.000000</td>\n",
       "      <td>0.625553</td>\n",
       "      <td>0.162510</td>\n",
       "    </tr>\n",
       "    <tr>\n",
       "      <th>avg_neighbor_num_non_critical</th>\n",
       "      <td>-0.128255</td>\n",
       "      <td>NaN</td>\n",
       "      <td>-0.325646</td>\n",
       "      <td>-0.153977</td>\n",
       "      <td>0.311478</td>\n",
       "      <td>0.625553</td>\n",
       "      <td>1.000000</td>\n",
       "      <td>-0.249234</td>\n",
       "    </tr>\n",
       "    <tr>\n",
       "      <th>frequency</th>\n",
       "      <td>-0.276548</td>\n",
       "      <td>NaN</td>\n",
       "      <td>0.288920</td>\n",
       "      <td>0.284576</td>\n",
       "      <td>-0.072178</td>\n",
       "      <td>0.162510</td>\n",
       "      <td>-0.249234</td>\n",
       "      <td>1.000000</td>\n",
       "    </tr>\n",
       "  </tbody>\n",
       "</table>\n",
       "</div>"
      ],
      "text/plain": [
       "                                 hsisid  inspection_num     score  \\\n",
       "hsisid                         1.000000             NaN -0.197574   \n",
       "inspection_num                      NaN             NaN       NaN   \n",
       "score                         -0.197574             NaN  1.000000   \n",
       "num_critical                  -0.680615             NaN -0.108552   \n",
       "num_non_critical              -0.432420             NaN -0.540374   \n",
       "avg_neighbor_num_critical     -0.216143             NaN  0.009346   \n",
       "avg_neighbor_num_non_critical -0.128255             NaN -0.325646   \n",
       "frequency                     -0.276548             NaN  0.288920   \n",
       "\n",
       "                               num_critical  num_non_critical  \\\n",
       "hsisid                            -0.680615         -0.432420   \n",
       "inspection_num                          NaN               NaN   \n",
       "score                             -0.108552         -0.540374   \n",
       "num_critical                       1.000000          0.591405   \n",
       "num_non_critical                   0.591405          1.000000   \n",
       "avg_neighbor_num_critical         -0.075983         -0.074327   \n",
       "avg_neighbor_num_non_critical     -0.153977          0.311478   \n",
       "frequency                          0.284576         -0.072178   \n",
       "\n",
       "                               avg_neighbor_num_critical  \\\n",
       "hsisid                                         -0.216143   \n",
       "inspection_num                                       NaN   \n",
       "score                                           0.009346   \n",
       "num_critical                                   -0.075983   \n",
       "num_non_critical                               -0.074327   \n",
       "avg_neighbor_num_critical                       1.000000   \n",
       "avg_neighbor_num_non_critical                   0.625553   \n",
       "frequency                                       0.162510   \n",
       "\n",
       "                               avg_neighbor_num_non_critical  frequency  \n",
       "hsisid                                             -0.128255  -0.276548  \n",
       "inspection_num                                           NaN        NaN  \n",
       "score                                              -0.325646   0.288920  \n",
       "num_critical                                       -0.153977   0.284576  \n",
       "num_non_critical                                    0.311478  -0.072178  \n",
       "avg_neighbor_num_critical                           0.625553   0.162510  \n",
       "avg_neighbor_num_non_critical                       1.000000  -0.249234  \n",
       "frequency                                          -0.249234   1.000000  "
      ]
     },
     "execution_count": 110,
     "metadata": {},
     "output_type": "execute_result"
    }
   ],
   "source": [
    "#Explore the data with relatively low scores\n",
    "df_low = df_1[df_1['score']<90] #'90' is the dividing line between letter grade 'A' and 'B'\n",
    "df_low.corr() #Has a higher correlation rate "
   ]
  },
  {
   "cell_type": "code",
   "execution_count": 111,
   "metadata": {},
   "outputs": [],
   "source": [
    "#Make a scatterplot to see this relationship\n",
    "a1, b1 = np.polyfit(df_low['score'], df_low['frequency'], 1)"
   ]
  },
  {
   "cell_type": "code",
   "execution_count": 112,
   "metadata": {},
   "outputs": [
    {
     "data": {
      "text/plain": [
       "[<matplotlib.lines.Line2D at 0x7fa01233b2b0>]"
      ]
     },
     "execution_count": 112,
     "metadata": {},
     "output_type": "execute_result"
    },
    {
     "data": {
      "image/png": "[encoded data removed]",
      "text/plain": [
       "<Figure size 432x288 with 1 Axes>"
      ]
     },
     "metadata": {
      "needs_background": "light"
     },
     "output_type": "display_data"
    }
   ],
   "source": [
    "sns.scatterplot(df_low['score'], df_low['frequency'])\n",
    "xs = np.arange(min(df_low['score']),max(df_low['score']))\n",
    "ys = a1 * xs + b1\n",
    "plt.plot(xs, ys, '-r', linewidth=4)"
   ]
  },
  {
   "cell_type": "code",
   "execution_count": 113,
   "metadata": {},
   "outputs": [],
   "source": [
    "#Create a linear model to predict score from frequency \n",
    "outcome_1, predictors_1 = patsy.dmatrices('score~frequency',df_low)\n",
    "mod_1 = sm.OLS(outcome_1, predictors_1)\n",
    "res_1 = mod_1.fit()"
   ]
  },
  {
   "cell_type": "code",
   "execution_count": 114,
   "metadata": {},
   "outputs": [
    {
     "name": "stdout",
     "output_type": "stream",
     "text": [
      "                            OLS Regression Results                            \n",
      "==============================================================================\n",
      "Dep. Variable:                  score   R-squared:                       0.083\n",
      "Model:                            OLS   Adj. R-squared:                  0.018\n",
      "Method:                 Least Squares   F-statistic:                     1.275\n",
      "Date:                Wed, 10 Jun 2020   Prob (F-statistic):              0.278\n",
      "Time:                        23:22:34   Log-Likelihood:                -31.079\n",
      "No. Observations:                  16   AIC:                             66.16\n",
      "Df Residuals:                      14   BIC:                             67.70\n",
      "Df Model:                           1                                         \n",
      "Covariance Type:            nonrobust                                         \n",
      "==============================================================================\n",
      "                 coef    std err          t      P>|t|      [0.025      0.975]\n",
      "------------------------------------------------------------------------------\n",
      "Intercept     83.4954      1.805     46.261      0.000      79.624      87.366\n",
      "frequency      0.0090      0.008      1.129      0.278      -0.008       0.026\n",
      "==============================================================================\n",
      "Omnibus:                        2.203   Durbin-Watson:                   2.073\n",
      "Prob(Omnibus):                  0.332   Jarque-Bera (JB):                1.144\n",
      "Skew:                           0.279   Prob(JB):                        0.564\n",
      "Kurtosis:                       1.815   Cond. No.                         907.\n",
      "==============================================================================\n",
      "\n",
      "Warnings:\n",
      "[1] Standard Errors assume that the covariance matrix of the errors is correctly specified.\n"
     ]
    },
    {
     "name": "stderr",
     "output_type": "stream",
     "text": [
      "/opt/conda/lib/python3.6/site-packages/scipy/stats/stats.py:1394: UserWarning: kurtosistest only valid for n>=20 ... continuing anyway, n=16\n",
      "  \"anyway, n=%i\" % int(n))\n"
     ]
    }
   ],
   "source": [
    "print(res_1.summary())\n",
    "#The p-value is large than 0.05, so there is no statistically significant correlation between frequency and inspection scores"
   ]
  },
  {
   "cell_type": "code",
   "execution_count": 90,
   "metadata": {},
   "outputs": [],
   "source": [
    "outcome_2, predictors_2 = patsy.dmatrices('num_critical~frequency',df_low)\n",
    "mod_2 = sm.OLS(outcome_2, predictors_2)\n",
    "res_2 = mod_2.fit()"
   ]
  },
  {
   "cell_type": "code",
   "execution_count": 91,
   "metadata": {},
   "outputs": [
    {
     "name": "stdout",
     "output_type": "stream",
     "text": [
      "                            OLS Regression Results                            \n",
      "==============================================================================\n",
      "Dep. Variable:           num_critical   R-squared:                       0.081\n",
      "Model:                            OLS   Adj. R-squared:                  0.015\n",
      "Method:                 Least Squares   F-statistic:                     1.234\n",
      "Date:                Wed, 10 Jun 2020   Prob (F-statistic):              0.285\n",
      "Time:                        23:19:57   Log-Likelihood:                -39.716\n",
      "No. Observations:                  16   AIC:                             83.43\n",
      "Df Residuals:                      14   BIC:                             84.98\n",
      "Df Model:                           1                                         \n",
      "Covariance Type:            nonrobust                                         \n",
      "==============================================================================\n",
      "                 coef    std err          t      P>|t|      [0.025      0.975]\n",
      "------------------------------------------------------------------------------\n",
      "Intercept      8.1697      3.097      2.638      0.019       1.528      14.811\n",
      "frequency      0.0152      0.014      1.111      0.285      -0.014       0.044\n",
      "==============================================================================\n",
      "Omnibus:                        1.540   Durbin-Watson:                   1.573\n",
      "Prob(Omnibus):                  0.463   Jarque-Bera (JB):                1.235\n",
      "Skew:                           0.610   Prob(JB):                        0.539\n",
      "Kurtosis:                       2.397   Cond. No.                         907.\n",
      "==============================================================================\n",
      "\n",
      "Warnings:\n",
      "[1] Standard Errors assume that the covariance matrix of the errors is correctly specified.\n"
     ]
    },
    {
     "name": "stderr",
     "output_type": "stream",
     "text": [
      "/opt/conda/lib/python3.6/site-packages/scipy/stats/stats.py:1394: UserWarning: kurtosistest only valid for n>=20 ... continuing anyway, n=16\n",
      "  \"anyway, n=%i\" % int(n))\n"
     ]
    }
   ],
   "source": [
    "print(res_2.summary())\n",
    "#The p_value is also very large. There is no statistically significant correlation between number of critical violations and the frequency."
   ]
  },
  {
   "cell_type": "code",
   "execution_count": 92,
   "metadata": {},
   "outputs": [],
   "source": [
    "outcome_3, predictors_3 = patsy.dmatrices('avg_neighbor_num_critical~frequency',df_low)\n",
    "mod_3 = sm.OLS(outcome_3, predictors_3)\n",
    "res_3 = mod_3.fit()"
   ]
  },
  {
   "cell_type": "code",
   "execution_count": 93,
   "metadata": {},
   "outputs": [
    {
     "name": "stdout",
     "output_type": "stream",
     "text": [
      "                                OLS Regression Results                               \n",
      "=====================================================================================\n",
      "Dep. Variable:     avg_neighbor_num_critical   R-squared:                       0.026\n",
      "Model:                                   OLS   Adj. R-squared:                 -0.043\n",
      "Method:                        Least Squares   F-statistic:                    0.3798\n",
      "Date:                       Wed, 10 Jun 2020   Prob (F-statistic):              0.548\n",
      "Time:                               23:19:59   Log-Likelihood:                -31.018\n",
      "No. Observations:                         16   AIC:                             66.04\n",
      "Df Residuals:                             14   BIC:                             67.58\n",
      "Df Model:                                  1                                         \n",
      "Covariance Type:                   nonrobust                                         \n",
      "==============================================================================\n",
      "                 coef    std err          t      P>|t|      [0.025      0.975]\n",
      "------------------------------------------------------------------------------\n",
      "Intercept      3.7723      1.798      2.098      0.055      -0.084       7.629\n",
      "frequency      0.0049      0.008      0.616      0.548      -0.012       0.022\n",
      "==============================================================================\n",
      "Omnibus:                        0.578   Durbin-Watson:                   1.867\n",
      "Prob(Omnibus):                  0.749   Jarque-Bera (JB):                0.459\n",
      "Skew:                           0.362   Prob(JB):                        0.795\n",
      "Kurtosis:                       2.595   Cond. No.                         907.\n",
      "==============================================================================\n",
      "\n",
      "Warnings:\n",
      "[1] Standard Errors assume that the covariance matrix of the errors is correctly specified.\n"
     ]
    },
    {
     "name": "stderr",
     "output_type": "stream",
     "text": [
      "/opt/conda/lib/python3.6/site-packages/scipy/stats/stats.py:1394: UserWarning: kurtosistest only valid for n>=20 ... continuing anyway, n=16\n",
      "  \"anyway, n=%i\" % int(n))\n"
     ]
    }
   ],
   "source": [
    "print(res_3.summary())\n",
    "#Again, p-value is very large. "
   ]
  },
  {
   "cell_type": "code",
   "execution_count": 94,
   "metadata": {},
   "outputs": [],
   "source": [
    "outcome_4, predictors_4 = patsy.dmatrices('avg_neighbor_num_non_critical~frequency',df_low)\n",
    "mod_4 = sm.OLS(outcome_4, predictors_4)\n",
    "res_4 = mod_4.fit()"
   ]
  },
  {
   "cell_type": "code",
   "execution_count": 95,
   "metadata": {},
   "outputs": [
    {
     "name": "stdout",
     "output_type": "stream",
     "text": [
      "                                  OLS Regression Results                                 \n",
      "=========================================================================================\n",
      "Dep. Variable:     avg_neighbor_num_non_critical   R-squared:                       0.062\n",
      "Model:                                       OLS   Adj. R-squared:                 -0.005\n",
      "Method:                            Least Squares   F-statistic:                    0.9272\n",
      "Date:                           Wed, 10 Jun 2020   Prob (F-statistic):              0.352\n",
      "Time:                                   23:20:01   Log-Likelihood:                -36.868\n",
      "No. Observations:                             16   AIC:                             77.74\n",
      "Df Residuals:                                 14   BIC:                             79.28\n",
      "Df Model:                                      1                                         \n",
      "Covariance Type:                       nonrobust                                         \n",
      "==============================================================================\n",
      "                 coef    std err          t      P>|t|      [0.025      0.975]\n",
      "------------------------------------------------------------------------------\n",
      "Intercept      8.2633      2.592      3.188      0.007       2.705      13.822\n",
      "frequency     -0.0110      0.011     -0.963      0.352      -0.036       0.014\n",
      "==============================================================================\n",
      "Omnibus:                       14.075   Durbin-Watson:                   1.920\n",
      "Prob(Omnibus):                  0.001   Jarque-Bera (JB):               10.931\n",
      "Skew:                           1.623   Prob(JB):                      0.00423\n",
      "Kurtosis:                       5.420   Cond. No.                         907.\n",
      "==============================================================================\n",
      "\n",
      "Warnings:\n",
      "[1] Standard Errors assume that the covariance matrix of the errors is correctly specified.\n"
     ]
    },
    {
     "name": "stderr",
     "output_type": "stream",
     "text": [
      "/opt/conda/lib/python3.6/site-packages/scipy/stats/stats.py:1394: UserWarning: kurtosistest only valid for n>=20 ... continuing anyway, n=16\n",
      "  \"anyway, n=%i\" % int(n))\n"
     ]
    }
   ],
   "source": [
    "print(res_4.summary()) #No statistically significant relationship "
   ]
  },
  {
   "cell_type": "code",
   "execution_count": 96,
   "metadata": {},
   "outputs": [
    {
     "data": {
      "text/html": [
       "<div>\n",
       "<style scoped>\n",
       "    .dataframe tbody tr th:only-of-type {\n",
       "        vertical-align: middle;\n",
       "    }\n",
       "\n",
       "    .dataframe tbody tr th {\n",
       "        vertical-align: top;\n",
       "    }\n",
       "\n",
       "    .dataframe thead th {\n",
       "        text-align: right;\n",
       "    }\n",
       "</style>\n",
       "<table border=\"1\" class=\"dataframe\">\n",
       "  <thead>\n",
       "    <tr style=\"text-align: right;\">\n",
       "      <th></th>\n",
       "      <th>hsisid</th>\n",
       "      <th>inspection_num</th>\n",
       "      <th>days_since_previous_inspection</th>\n",
       "      <th>score</th>\n",
       "      <th>num_critical</th>\n",
       "      <th>num_non_critical</th>\n",
       "      <th>avg_neighbor_num_critical</th>\n",
       "      <th>avg_neighbor_num_non_critical</th>\n",
       "      <th>frequency</th>\n",
       "    </tr>\n",
       "  </thead>\n",
       "  <tbody>\n",
       "    <tr>\n",
       "      <th>hsisid</th>\n",
       "      <td>1.000000</td>\n",
       "      <td>-0.483873</td>\n",
       "      <td>-0.097107</td>\n",
       "      <td>0.042411</td>\n",
       "      <td>-0.008188</td>\n",
       "      <td>-0.190646</td>\n",
       "      <td>-0.040360</td>\n",
       "      <td>-0.106525</td>\n",
       "      <td>-0.097107</td>\n",
       "    </tr>\n",
       "    <tr>\n",
       "      <th>inspection_num</th>\n",
       "      <td>-0.483873</td>\n",
       "      <td>1.000000</td>\n",
       "      <td>-0.425403</td>\n",
       "      <td>-0.062781</td>\n",
       "      <td>0.056852</td>\n",
       "      <td>0.197597</td>\n",
       "      <td>0.026070</td>\n",
       "      <td>0.072738</td>\n",
       "      <td>-0.425403</td>\n",
       "    </tr>\n",
       "    <tr>\n",
       "      <th>days_since_previous_inspection</th>\n",
       "      <td>-0.097107</td>\n",
       "      <td>-0.425403</td>\n",
       "      <td>1.000000</td>\n",
       "      <td>0.069338</td>\n",
       "      <td>-0.050390</td>\n",
       "      <td>-0.039600</td>\n",
       "      <td>0.067348</td>\n",
       "      <td>0.024677</td>\n",
       "      <td>1.000000</td>\n",
       "    </tr>\n",
       "    <tr>\n",
       "      <th>score</th>\n",
       "      <td>0.042411</td>\n",
       "      <td>-0.062781</td>\n",
       "      <td>0.069338</td>\n",
       "      <td>1.000000</td>\n",
       "      <td>-0.770165</td>\n",
       "      <td>-0.720471</td>\n",
       "      <td>-0.225301</td>\n",
       "      <td>-0.148565</td>\n",
       "      <td>0.069338</td>\n",
       "    </tr>\n",
       "    <tr>\n",
       "      <th>num_critical</th>\n",
       "      <td>-0.008188</td>\n",
       "      <td>0.056852</td>\n",
       "      <td>-0.050390</td>\n",
       "      <td>-0.770165</td>\n",
       "      <td>1.000000</td>\n",
       "      <td>0.604973</td>\n",
       "      <td>0.375830</td>\n",
       "      <td>0.238817</td>\n",
       "      <td>-0.050390</td>\n",
       "    </tr>\n",
       "    <tr>\n",
       "      <th>num_non_critical</th>\n",
       "      <td>-0.190646</td>\n",
       "      <td>0.197597</td>\n",
       "      <td>-0.039600</td>\n",
       "      <td>-0.720471</td>\n",
       "      <td>0.604973</td>\n",
       "      <td>1.000000</td>\n",
       "      <td>0.213035</td>\n",
       "      <td>0.371543</td>\n",
       "      <td>-0.039600</td>\n",
       "    </tr>\n",
       "    <tr>\n",
       "      <th>avg_neighbor_num_critical</th>\n",
       "      <td>-0.040360</td>\n",
       "      <td>0.026070</td>\n",
       "      <td>0.067348</td>\n",
       "      <td>-0.225301</td>\n",
       "      <td>0.375830</td>\n",
       "      <td>0.213035</td>\n",
       "      <td>1.000000</td>\n",
       "      <td>0.586345</td>\n",
       "      <td>0.067348</td>\n",
       "    </tr>\n",
       "    <tr>\n",
       "      <th>avg_neighbor_num_non_critical</th>\n",
       "      <td>-0.106525</td>\n",
       "      <td>0.072738</td>\n",
       "      <td>0.024677</td>\n",
       "      <td>-0.148565</td>\n",
       "      <td>0.238817</td>\n",
       "      <td>0.371543</td>\n",
       "      <td>0.586345</td>\n",
       "      <td>1.000000</td>\n",
       "      <td>0.024677</td>\n",
       "    </tr>\n",
       "    <tr>\n",
       "      <th>frequency</th>\n",
       "      <td>-0.097107</td>\n",
       "      <td>-0.425403</td>\n",
       "      <td>1.000000</td>\n",
       "      <td>0.069338</td>\n",
       "      <td>-0.050390</td>\n",
       "      <td>-0.039600</td>\n",
       "      <td>0.067348</td>\n",
       "      <td>0.024677</td>\n",
       "      <td>1.000000</td>\n",
       "    </tr>\n",
       "  </tbody>\n",
       "</table>\n",
       "</div>"
      ],
      "text/plain": [
       "                                  hsisid  inspection_num  \\\n",
       "hsisid                          1.000000       -0.483873   \n",
       "inspection_num                 -0.483873        1.000000   \n",
       "days_since_previous_inspection -0.097107       -0.425403   \n",
       "score                           0.042411       -0.062781   \n",
       "num_critical                   -0.008188        0.056852   \n",
       "num_non_critical               -0.190646        0.197597   \n",
       "avg_neighbor_num_critical      -0.040360        0.026070   \n",
       "avg_neighbor_num_non_critical  -0.106525        0.072738   \n",
       "frequency                      -0.097107       -0.425403   \n",
       "\n",
       "                                days_since_previous_inspection     score  \\\n",
       "hsisid                                               -0.097107  0.042411   \n",
       "inspection_num                                       -0.425403 -0.062781   \n",
       "days_since_previous_inspection                        1.000000  0.069338   \n",
       "score                                                 0.069338  1.000000   \n",
       "num_critical                                         -0.050390 -0.770165   \n",
       "num_non_critical                                     -0.039600 -0.720471   \n",
       "avg_neighbor_num_critical                             0.067348 -0.225301   \n",
       "avg_neighbor_num_non_critical                         0.024677 -0.148565   \n",
       "frequency                                             1.000000  0.069338   \n",
       "\n",
       "                                num_critical  num_non_critical  \\\n",
       "hsisid                             -0.008188         -0.190646   \n",
       "inspection_num                      0.056852          0.197597   \n",
       "days_since_previous_inspection     -0.050390         -0.039600   \n",
       "score                              -0.770165         -0.720471   \n",
       "num_critical                        1.000000          0.604973   \n",
       "num_non_critical                    0.604973          1.000000   \n",
       "avg_neighbor_num_critical           0.375830          0.213035   \n",
       "avg_neighbor_num_non_critical       0.238817          0.371543   \n",
       "frequency                          -0.050390         -0.039600   \n",
       "\n",
       "                                avg_neighbor_num_critical  \\\n",
       "hsisid                                          -0.040360   \n",
       "inspection_num                                   0.026070   \n",
       "days_since_previous_inspection                   0.067348   \n",
       "score                                           -0.225301   \n",
       "num_critical                                     0.375830   \n",
       "num_non_critical                                 0.213035   \n",
       "avg_neighbor_num_critical                        1.000000   \n",
       "avg_neighbor_num_non_critical                    0.586345   \n",
       "frequency                                        0.067348   \n",
       "\n",
       "                                avg_neighbor_num_non_critical  frequency  \n",
       "hsisid                                              -0.106525  -0.097107  \n",
       "inspection_num                                       0.072738  -0.425403  \n",
       "days_since_previous_inspection                       0.024677   1.000000  \n",
       "score                                               -0.148565   0.069338  \n",
       "num_critical                                         0.238817  -0.050390  \n",
       "num_non_critical                                     0.371543  -0.039600  \n",
       "avg_neighbor_num_critical                            0.586345   0.067348  \n",
       "avg_neighbor_num_non_critical                        1.000000   0.024677  \n",
       "frequency                                            0.024677   1.000000  "
      ]
     },
     "execution_count": 96,
     "metadata": {},
     "output_type": "execute_result"
    }
   ],
   "source": [
    "#Second, I want to see if the restaurants that have lower average scores would get inspected more.\n",
    "df_avg.corr() #the correlation rate is still very small"
   ]
  },
  {
   "cell_type": "code",
   "execution_count": 97,
   "metadata": {},
   "outputs": [
    {
     "name": "stdout",
     "output_type": "stream",
     "text": [
      "                                  OLS Regression Results                                 \n",
      "=========================================================================================\n",
      "Dep. Variable:     avg_neighbor_num_non_critical   R-squared:                       0.062\n",
      "Model:                                       OLS   Adj. R-squared:                 -0.005\n",
      "Method:                            Least Squares   F-statistic:                    0.9272\n",
      "Date:                           Wed, 10 Jun 2020   Prob (F-statistic):              0.352\n",
      "Time:                                   23:20:05   Log-Likelihood:                -36.868\n",
      "No. Observations:                             16   AIC:                             77.74\n",
      "Df Residuals:                                 14   BIC:                             79.28\n",
      "Df Model:                                      1                                         \n",
      "Covariance Type:                       nonrobust                                         \n",
      "==============================================================================\n",
      "                 coef    std err          t      P>|t|      [0.025      0.975]\n",
      "------------------------------------------------------------------------------\n",
      "Intercept      8.2633      2.592      3.188      0.007       2.705      13.822\n",
      "frequency     -0.0110      0.011     -0.963      0.352      -0.036       0.014\n",
      "==============================================================================\n",
      "Omnibus:                       14.075   Durbin-Watson:                   1.920\n",
      "Prob(Omnibus):                  0.001   Jarque-Bera (JB):               10.931\n",
      "Skew:                           1.623   Prob(JB):                      0.00423\n",
      "Kurtosis:                       5.420   Cond. No.                         907.\n",
      "==============================================================================\n",
      "\n",
      "Warnings:\n",
      "[1] Standard Errors assume that the covariance matrix of the errors is correctly specified.\n"
     ]
    },
    {
     "name": "stderr",
     "output_type": "stream",
     "text": [
      "/opt/conda/lib/python3.6/site-packages/scipy/stats/stats.py:1394: UserWarning: kurtosistest only valid for n>=20 ... continuing anyway, n=16\n",
      "  \"anyway, n=%i\" % int(n))\n"
     ]
    }
   ],
   "source": [
    "#statistically significant?\n",
    "outcome_5, predictors_5 = patsy.dmatrices('score~frequency',df_avg)\n",
    "mod_5 = sm.OLS(outcome_5, predictors_5)\n",
    "res_5 = mod_5.fit()\n",
    "print(res_4.summary())\n",
    "#No statistical significance "
   ]
  },
  {
   "cell_type": "markdown",
   "metadata": {},
   "source": [
    "# Ethics & Privacy"
   ]
  },
  {
   "cell_type": "markdown",
   "metadata": {},
   "source": [
    "- The original dataset is from the instructor of COGS108. Therefore, I am allowed to use this dataset.\n",
    "- The original dataset contains private information such as the name, location, zipcode, geographical information(longitude and latitude) of the facilities. Since my project does not need any of it, I deleted all the private information. The \"hsisid\" is an unique id for every inspected facility, which can be regarded as private information. Therefore, I would not mention any specific id in my report. \n",
    "- According to the second reference, the inspection rate is not very high. Thus, many facilities may be not inspected and the dataset has no information of these facilities. I would regard this dataset as a sample from the population, not the population itself."
   ]
  },
  {
   "cell_type": "markdown",
   "metadata": {},
   "source": [
    "# Conclusion & Discussion"
   ]
  },
  {
   "cell_type": "markdown",
   "metadata": {},
   "source": [
    "- The inspectors are asked to pay more attention to the restaurants that have lower inspection scores or have more violations. However, the cost of making the inspection may prevent them from actually inspecting these restaurants more. Based on this dataset, I made several linear prediction model between frequency and inspection scores (and other factors related to scores). However, the p-values of these model are very large, and the coefficients are quite small. I did not find statistically significant relationship between the frequency and the score, which is opposed to my hypothesis. \n",
    "- The limitations of my project\n",
    "    - The dataset can be biased. Based on the second reference, it is increasingly difficult and time-consuming to make an inspection because the process becomes more complex. Thus, if the local goverment wants to increase the inspection rate, they may start to inspect the restaurants that have good record, which have less probability to severely violate the rules. Then the process can be easier and faster. Therefore, the dataset may be more about the restaurants that are in a good standing.\n",
    "    - Different cities and states have different situations.\n",
    "- This project is to discover the difference between the ideal policy and the reality. Although we hope that the local government can make more effort on food safety, the cost of making more inspections can be tremendous, which does not allow them to do what we hope they can do. "
   ]
  }
 ],
 "metadata": {
  "kernelspec": {
   "display_name": "Python 3",
   "language": "python",
   "name": "python3"
  },
  "language_info": {
   "codemirror_mode": {
    "name": "ipython",
    "version": 3
   },
   "file_extension": ".py",
   "mimetype": "text/x-python",
   "name": "python",
   "nbconvert_exporter": "python",
   "pygments_lexer": "ipython3",
   "version": "3.6.7"
  }
 },
 "nbformat": 4,
 "nbformat_minor": 2
}
